{
 "cells": [
  {
   "attachments": {},
   "cell_type": "markdown",
   "metadata": {},
   "source": [
    "Tokenize sentences with tensorflow dataset\n",
    "--------------------------\n",
    "\n",
    "We need to try the tensorflow tokenization methods on the extracted sentences."
   ]
  },
  {
   "cell_type": "code",
   "execution_count": 1,
   "metadata": {},
   "outputs": [
    {
     "name": "stderr",
     "output_type": "stream",
     "text": [
      "c:\\Users\\Oumar Kane\\AppData\\Local\\pypoetry\\Cache\\virtualenvs\\pytorch1-HleOW5am-py3.10\\lib\\site-packages\\tqdm\\auto.py:22: TqdmWarning: IProgress not found. Please update jupyter and ipywidgets. See https://ipywidgets.readthedocs.io/en/stable/user_install.html\n",
      "  from .autonotebook import tqdm as notebook_tqdm\n"
     ]
    }
   ],
   "source": [
    "import pandas as pd\n",
    "import tensorflow as tf\n",
    "import tensorflow_datasets as tfds"
   ]
  },
  {
   "attachments": {},
   "cell_type": "markdown",
   "metadata": {},
   "source": [
    "### 2000 sentences"
   ]
  },
  {
   "cell_type": "code",
   "execution_count": 2,
   "metadata": {},
   "outputs": [],
   "source": [
    "# upload sentences\n",
    "sentences = pd.read_csv('data/extractions/new_data/ad_sentences.csv')\n",
    "\n",
    "sentences = sentences['wolof'].to_list() + sentences['french'].to_list()\n",
    "\n",
    "# transform to dataset\n",
    "dataset = tf.data.Dataset.from_tensor_slices(sentences)\n",
    "\n",
    "# tokenize with sentencepiece with special tokens\n",
    "tokenizer = tfds.deprecated.text.SubwordTextEncoder.build_from_corpus(\n",
    "    sentences, target_vocab_size=2**13, reserved_tokens=['[PAD]', '[UNK]', '[START]', '[END]'])\n",
    "\n",
    "# save tokenizer\n",
    "tokenizer.save_to_file('wolof-translate/wolof_translate/tokenizers/trax/sentencepiece_tokenizer_v4')"
   ]
  },
  {
   "attachments": {},
   "cell_type": "markdown",
   "metadata": {},
   "source": [
    "### 3000 sentences"
   ]
  },
  {
   "cell_type": "code",
   "execution_count": 3,
   "metadata": {},
   "outputs": [],
   "source": [
    "# upload sentences\n",
    "sentences = pd.read_csv('data/extractions/new_data/corpora_v6.csv')\n",
    "\n",
    "sentences = sentences['wolof'].to_list() + sentences['french'].to_list()\n",
    "\n",
    "# transform to dataset\n",
    "dataset = tf.data.Dataset.from_tensor_slices(sentences)\n",
    "\n",
    "# tokenize with sentencepiece with special tokens\n",
    "tokenizer = tfds.deprecated.text.SubwordTextEncoder.build_from_corpus(\n",
    "    sentences, target_vocab_size=2**13, reserved_tokens=['[PAD]', '[UNK]', '[START]', '[END]'])\n",
    "\n",
    "# save tokenizer\n",
    "tokenizer.save_to_file('wolof-translate/wolof_translate/tokenizers/trax/sentencepiece_tokenizer_v5')"
   ]
  },
  {
   "attachments": {},
   "cell_type": "markdown",
   "metadata": {},
   "source": [
    "## 5000 sentences"
   ]
  },
  {
   "cell_type": "code",
   "execution_count": null,
   "metadata": {},
   "outputs": [],
   "source": [
    "# upload sentences\n",
    "sentences = pd.read_csv('data/extractions/new_data/add_sentences.csv')\n",
    "\n",
    "sentences = sentences['wolof'].to_list() + sentences['french'].to_list()\n",
    "\n",
    "# transform to dataset\n",
    "dataset = tf.data.Dataset.from_tensor_slices(sentences)\n",
    "\n",
    "# tokenize with sentencepiece with special tokens\n",
    "tokenizer = tfds.deprecated.text.SubwordTextEncoder.build_from_corpus(\n",
    "    sentences, target_vocab_size=2**13, reserved_tokens=['[PAD]', '[UNK]', '[START]', '[END]'])\n",
    "\n",
    "# save tokenizer\n",
    "tokenizer.save_to_file('wolof-translate/wolof_translate/tokenizers/trax/sentencepiece_tokenizer_v6')"
   ]
  },
  {
   "cell_type": "code",
   "execution_count": null,
   "metadata": {},
   "outputs": [],
   "source": [
    "# upload sentences\n",
    "sentences = pd.read_csv('data/extractions/new_data/corpora_v7.csv')\n",
    "\n",
    "sentences = sentences['wolof'].to_list() + sentences['french'].to_list()\n",
    "\n",
    "# transform to dataset\n",
    "dataset = tf.data.Dataset.from_tensor_slices(sentences)\n",
    "\n",
    "# tokenize with sentencepiece with special tokens\n",
    "tokenizer = tfds.deprecated.text.SubwordTextEncoder.build_from_corpus(\n",
    "    sentences, target_vocab_size=2**13, reserved_tokens=['[PAD]', '[UNK]', '[START]', '[END]'])\n",
    "\n",
    "# save tokenizer\n",
    "tokenizer.save_to_file('wolof-translate/wolof_translate/tokenizers/trax/sentencepiece_tokenizer_v7')"
   ]
  },
  {
   "attachments": {},
   "cell_type": "markdown",
   "metadata": {},
   "source": [
    "---------------"
   ]
  },
  {
   "cell_type": "code",
   "execution_count": 4,
   "metadata": {},
   "outputs": [],
   "source": [
    "# # create a function which generate data to feed to a pipeline and trax training task with data pipeline also\n",
    "# def tokenize_and_add_eos(stream):\n",
    "#     for sentence in stream:\n",
    "#         sentence = sentence.strip()\n",
    "#         print(sentence)\n",
    "#         # tokenize\n",
    "#         tok = tokenizer.encode(sentence)\n",
    "#         # add eos token\n",
    "#         tok.append(1)\n",
    "#         yield tok\n",
    "\n",
    "# # initialize dataset with sentences\n",
    "# dataset = tf.data.Dataset.from_tensor_slices(sentences)\n",
    "\n",
    "# # initialize stream\n",
    "# stream = dataset\n",
    "\n",
    "# # pipelines\n",
    "# # stream = stream.shuffle(1024)\n",
    "# # stream = stream.batch(128)\n",
    "# # stream = stream.map(tokenize_and_add_eos)\n",
    "\n",
    "# # # add pipeline to trax training task\n",
    "# # import trax\n",
    "# # trax.data.TFDS('wolof_translate', data_dir='wolof-translate/wolof_translate/data', keys=('wolof', 'french'), train=True)\n",
    "\n",
    "\n",
    "\n"
   ]
  },
  {
   "cell_type": "code",
   "execution_count": null,
   "metadata": {},
   "outputs": [],
   "source": []
  }
 ],
 "metadata": {
  "kernelspec": {
   "display_name": "pytorch1-HleOW5am-py3.10",
   "language": "python",
   "name": "python3"
  },
  "language_info": {
   "codemirror_mode": {
    "name": "ipython",
    "version": 3
   },
   "file_extension": ".py",
   "mimetype": "text/x-python",
   "name": "python",
   "nbconvert_exporter": "python",
   "pygments_lexer": "ipython3",
   "version": "3.10.8"
  },
  "orig_nbformat": 4
 },
 "nbformat": 4,
 "nbformat_minor": 2
}
