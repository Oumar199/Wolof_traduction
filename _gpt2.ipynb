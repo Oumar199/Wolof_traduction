{
 "cells": [
  {
   "attachments": {},
   "cell_type": "markdown",
   "metadata": {},
   "source": [
    "GPT-2 experimenting with Hugging Face\n",
    "---------------------"
   ]
  },
  {
   "attachments": {},
   "cell_type": "markdown",
   "metadata": {},
   "source": [
    "Let us import the gpt-2 tokenizer and pre-trained model."
   ]
  },
  {
   "cell_type": "code",
   "execution_count": 2,
   "metadata": {},
   "outputs": [
    {
     "name": "stderr",
     "output_type": "stream",
     "text": [
      "c:\\Users\\Oumar Kane\\AppData\\Local\\pypoetry\\Cache\\virtualenvs\\pytorch1-HleOW5am-py3.10\\lib\\site-packages\\tqdm\\auto.py:22: TqdmWarning: IProgress not found. Please update jupyter and ipywidgets. See https://ipywidgets.readthedocs.io/en/stable/user_install.html\n",
      "  from .autonotebook import tqdm as notebook_tqdm\n"
     ]
    }
   ],
   "source": [
    "from transformers import GPT2Tokenizer, GPT2Model\n",
    "import pandas as pd"
   ]
  },
  {
   "attachments": {},
   "cell_type": "markdown",
   "metadata": {},
   "source": [
    "### Tokenization"
   ]
  },
  {
   "attachments": {},
   "cell_type": "markdown",
   "metadata": {},
   "source": [
    "Let us see how gpt-2 tokenize (pre-process) the text."
   ]
  },
  {
   "cell_type": "code",
   "execution_count": 3,
   "metadata": {},
   "outputs": [
    {
     "name": "stdout",
     "output_type": "stream",
     "text": [
      "Here the decoded tokens\n",
      "[\"Replace me by any text you'd like.\"]\n",
      "\n",
      "Here the ids and padding mask\n",
      "{'input_ids': tensor([[3041, 5372,  502,  416,  597, 2420,  345, 1549,  588,   13]]), 'attention_mask': tensor([[1, 1, 1, 1, 1, 1, 1, 1, 1, 1]])}\n"
     ]
    }
   ],
   "source": [
    "# let us use the following text from the tutorial at https://huggingface.co/gpt2\n",
    "text = \"Replace me by any text you'd like.\"\n",
    "\n",
    "# let us load the tokenizer\n",
    "tokenizer = GPT2Tokenizer.from_pretrained('gpt2')\n",
    "\n",
    "# let us tokenize the text\n",
    "encoded_input = tokenizer(text, return_tensors = 'pt') # return torch tensor\n",
    "\n",
    "# print the result\n",
    "print(\"Here the decoded tokens\")\n",
    "print([tokenizer.decode(token) for token in encoded_input['input_ids']])\n",
    "\n",
    "print(\"\\nHere the ids and padding mask\")\n",
    "print(encoded_input)"
   ]
  },
  {
   "attachments": {},
   "cell_type": "markdown",
   "metadata": {},
   "source": [
    "It tokenize the text with a tokenizer trained on a english vocabulary and give us the corresponding attention mask."
   ]
  },
  {
   "attachments": {},
   "cell_type": "markdown",
   "metadata": {},
   "source": [
    "Let us import the extracted sentences and try to tokenize some of them and print the results."
   ]
  },
  {
   "cell_type": "code",
   "execution_count": 4,
   "metadata": {},
   "outputs": [],
   "source": [
    "sentences = pd.read_csv(\"data/extractions/new_data/sent_extraction.csv\")"
   ]
  },
  {
   "cell_type": "code",
   "execution_count": 5,
   "metadata": {},
   "outputs": [
    {
     "data": {
      "text/plain": [
       "{635: {'french_corpus': 'Les routes, les chemins ne sont pas sûrs, il faut sortir armé. Les Ibos du Calabar sont ceux qui ont résisté avec le plus d’acharnement à la pénétration des Européens.',\n",
       "  'wolof_corpus': 'Ñu dem ba kenn ñemeetul a génn këram te gànnaayuwul ; Ibo yu Kalabaar yi nag, ñoo gënoon a të Tubaab yi.'},\n",
       " 590: {'french_corpus': 'Au désert, il n’y a pas de guerre.',\n",
       "  'wolof_corpus': 'Àndandoom yi ñoom, yëguñu sax ni àddina si yépp ngi ci xare bu mag.'},\n",
       " 152: {'french_corpus': 'Ou peut-être que nous rejetions de cette manière l’autorité excessive de notre père, rendant coup pour coup avec nos bâtons.',\n",
       "  'wolof_corpus': 'Teewul léeg-léeg mii xel ni ma dañ daan feyu ci gunóor yooyu, ndeysaan, dóor yu metti ya nu Baay daan dóor.'},\n",
       " 19: {'french_corpus': 'Le sexe des garçons, leur gland rose circoncis.',\n",
       "  'wolof_corpus': 'Cucu gone yi ñu xarafal ak seen ndéeň lu xonq.'},\n",
       " 73: {'french_corpus': 'Une force électrique qu’il me fallait accepter, apprivoiser, et pour laquelle ma mère avait inventé un jeu, compter les secondes qui nous séparaient de l’impact de la foudre, l’entendre venir kilomètre après kilomètre, puis s’éloigner vers les montagnes.',\n",
       "  'wolof_corpus': 'Nit ki, su àll bi demee ba ràkkaajoo noonu, fàww nga seet noo koy dékkoo. Daawuma ko diir mbagg, gaa, wànte leeroon na ma ni su ma wutul pexe du sotti. Nàkkul sama yaay loolu la njortoon ba sos am po : saa yu benn dënnu dalee, nuy tàmbalee waññ ba xam bi ciy topp kañ lay agsi. Dañ ko daan dégg muy bawoo fu sori, mel ni lu tiim tund yiy dukkat, ñëw dal sunu kow.'},\n",
       " 153: {'french_corpus': 'Les enfants du village n’étaient jamais avec nous quand nous partions détruire les termitières.',\n",
       "  'wolof_corpus': 'Ak lu mu mën a doon, xaley Ogosaa ya masuñoo fekke fu nuy toje ay jànj maak sama mag.'},\n",
       " 391: {'french_corpus': 'À son retour en France, il avait gardé les habitudes de son métier, levé à six heures, habillé (toujours de son pantalon de toile kaki), ses chaussures cirées, son chapeau sur la tête, pour aller faire ses courses au marché – comme jadis il partait pour la tournée des lits à l’hôpital –, de retour chez lui à huit heures, pour préparer le repas – avec la minutie d’une intervention chirurgicale.',\n",
       "  'wolof_corpus': 'Ba mu delloo Tugal, fajar la daan yeewu, sol tubayu tuwaalam bu kaki ak dàll yu ñu siiraas ba ñuy melax, teg mbaxanaam ci bopp bi, daldi dem duggi màrse. Noonu la daan nemmeekujee bés bu jot ña mu waroon a faj jamono ca muy liggéey Afrig. Bu dellusiwaan këram ci juróom-ňenti waxtu daldi tàmbalee togg aňam, ànd ceek mën a ràññe ak tamit sago sa mu daan opeeree.'},\n",
       " 691: {'french_corpus': 'Il aurait fallu grandir en écoutant un père raconter sa vie, chanter des chansons, accompagner ses garçons à la chasse aux lézards ou à la pêche aux écrevisses dans la rivière Aiya, il aurait fallu mettre sa main dans la sienne pour qu’il montre les papillons rares, les fleurs vénéneuses, les secrets de la nature qu’il devait bien connaître, l’écouter parler de son enfance à Maurice, marcher à côté de lui quand il allait rendre visite à ses amis, à ses collègues d’hôpital, le regarder réparer la voiture ou changer un volet brisé, l’aider à planter les arbustes et les fleurs qu’il aimait, les bougainvillées, les strelitzias, les oiseaux-de-paradis, tout ce qui devait lui rappeler le merveilleux jardin de sa maison natale à Moka.',\n",
       "  'wolof_corpus': 'Su doon sunu sago, neneen la yëf yiy deme, nuy déglu Baay muy nettaliy jaar-jaaram, di woy léeg-léeg mbaa di ànd ak nun rëbbi sindax walla wuti sippax ci dexug Ayaa. Am kon naa mbégte yëg ni muy téyee sama loxo di ma won i lëppaa-lëpp yu jafee teg bët, ay tóor-tóor yu làq seen tooke fu sori ak yeneen ak yeneen. Waaw, doon na ma neex lool ma koy dégg muy fàttaliku ndawam ca Móris mbaa ma koy gunge buy seetiy xaritam. Dara doonul dàq ma koy seetaan muy defar wotoom walla di jagalaat ab palanteer ; su ma noon jàppale ma, doom, ma jëmbët ay tóor-tóor ak i garab, su ma noon may ma loxo ma dekkali tóokër ba woon ca kër ga ma yaroo ca Mokaa, dama ni, su ma Baay waxoon lu ni mel, duma ko sax gëme.'},\n",
       " 562: {'french_corpus': 'Mon père lui a répondu que, compte tenu de l’histoire, il lui semblait préférable qu’ils fussent intégrés au Cameroun francophone, qui présentait l’avantage d’être un pays pacifique.',\n",
       "  'wolof_corpus': 'Baay ni ko buň sukkandikoo ci cosaan, li gën ci ñoom moo doon nu fekki Kamerun giy làkk farañse ndax fa la jàmm ci nekk.'},\n",
       " 762: {'french_corpus': 'À soixante-douze ans, on ne peut que regarder et se taire.',\n",
       "  'wolof_corpus': 'Soo demee ba am juróom-ñaar-fukki at ak ñaar, mënoo def lu dul maandu.'},\n",
       " 571: {'french_corpus': 'Le bref congé que prend mon père pour la naissance de son premier enfant lui permet de rejoindre ma mère en Bretagne, où il reste jusqu’à la fin de l’été 1939.',\n",
       "  'wolof_corpus': 'Nguur gi may jëkkër ji mu dem Bërëtaañ teewe juddug taawam, te bañ faa yàgg. Mu daldi fay toog ba nawetu 1939 bi jeex.'},\n",
       " 688: {'french_corpus': 'Où les hommes et les femmes étaient totalement différents, non pas à cause de la couleur de leur peau et de leurs cheveux, mais par leur manière de parler, de marcher, de rire, de manger.',\n",
       "  'wolof_corpus': 'Nga nekk it xale bu tuuti, xéy bes rekk di dajeek ay doom-aadama yu wute lool ak ña nga miinoon Tugal, ñuy waxe neneen, di lekke neneen, di reetaane neneen.'},\n",
       " 327: {'french_corpus': 'Les congés qu’il passe en France auprès d’eux sont le retour imaginaire vers un passé qui n’est plus.',\n",
       "  'wolof_corpus': 'Muy béréb buy delloo xelam démb.'},\n",
       " 48: {'french_corpus': 'Ce que je recevais dans le bateau qui m’entraînait vers cet autre monde, c’était aussi la mémoire. Le présent africain effaçait tout ce qui l’avait précédé.',\n",
       "  'wolof_corpus': 'Ci biir saxaaru-géej gi sama xel a ngi wëndéelu, fu ne mu dem fa. Ma dëkke fàttaliku, nag. Fépp fa ma jotoon a jaar, lépp la ma masoon a dund laata may ñëw Afrig, daldi may songaat. Loolu lan la woonati ?'},\n",
       " 41: {'french_corpus': 'Je me rappelle seulement cette question : « Est-ce qu’elle est malade ?» Elle me brûle encore aujourd’hui étrangement, comme si le temps n’était pas passé.',\n",
       "  'wolof_corpus': 'Li gën a doy waar ci mbir mi, moo di ne laaj ba ma laajoon sama yaay – « Ndax kii dafa tawat ?  » – mu ngi ma topp ba tey jii, masul a génn sama xel.'},\n",
       " 390: {'french_corpus': 'C’était comme s’il n’avait jamais quitté l’Afrique.',\n",
       "  'wolof_corpus': 'Mu ngi meloon ni masul a jóge Afrig. Li ma ko tax a wax moo doon na mu ñàkke woon soppiy jëfinam.'},\n",
       " 758: {'french_corpus': 'Longtemps après je suis hanté par le poème de Chinua Achebe, Noël au Biafra, qui commence par ces mots : Non, aucune Vierge à l’Enfant ne pourra égaler Le tableau de la tendresse d’une mère Envers ce fils qu’elle devra bientôt oublier.',\n",
       "  'wolof_corpus': 'Ñu teg ciy at, ab taalifu Sinuwaa Aseebe di tëgg tama ci sama biir kaaŋ. Taalif baa ngi tudd : Nowel ca Biyaafaraa, mu koy ubbee nii : Dëgg la Nataal bi Ndeyu Yéesu boq doom ji Daw na yaram Wànte dara mënuta dab Cofeel ak tiisu ndey ju tiim doomam Muy sukkuraat.'},\n",
       " 454: {'french_corpus': 'Ils étaient ma part africaine, ils prolongeaient ma vie et, d’une certaine façon, ils l’expliquaient.',\n",
       "  'wolof_corpus': 'Ñoo doon sama cër ci Afrig, ňoo ma daan gunge, gën ma tax a xam, daanaka, lan a ma tàbbal dunyaa, man mii.'},\n",
       " 374: {'french_corpus': 'Le territoire à parcourir pour livrer cette bataille aux maladies est immense.',\n",
       "  'wolof_corpus': 'Toolu-xare bee ka yaatu, tey !'},\n",
       " 594: {'french_corpus': 'Mon père remonte vers le nord, bivouaque dans le Hoggar, près de Tamanghasset (à l’époque, Fort-Laperrine).',\n",
       "  'wolof_corpus': 'Baay dem bëj-gànnaar, dal ca Ogaar, ci wetu Tamaŋaset (tuddoon booba Foor-Laperin).'},\n",
       " 541: {'french_corpus': 'Tout cela, non comme un paradis – rien à voir avec la douceur alanguie de la côte à Victoria, le luxe des résidences et l’oisiveté des colons –, mais un trésor d’humanité, quelque chose de puissant et généreux, tel un sang pulsé dans de jeunes artères.',\n",
       "  'wolof_corpus': 'Ngalla, bu kenn tudde loolu àjjana. Sori nañ bu baax Wiktoryaak tefesam gu féex ga. Sori nañ Tubaabam ya ni faax ci seeni kër yu yànj, ragal coono àddina ba nga ni lii lu mu doon. Bansoo, tabe laa fa gis ak jox cër doom-aadama. Kàttan ga ma fa seetlu, mu ngi mel ni deretu ndaw juy yëngu ciy sidditam.'},\n",
       " 467: {'french_corpus': 'C’est au seuil du pays qu’on dit « sauvage », le dernier poste où s’exerce l’autorité britannique.',\n",
       "  'wolof_corpus': 'Daanaka soo ko weesoo rekk yaa ngi ci àll bi. Fa la kilifteefu Àngale yi yem.'},\n",
       " 493: {'french_corpus': 'Le Nsungli, par exemple, aux abords de Nkor : une Afrique qui n’a rien de commun avec la zone côtière, où règne une atmosphère lourde, où la végétation est étouffante, presque menaçante.',\n",
       "  'wolof_corpus': 'Sungali, ci weti Kor, firnde la ci : fii jotewul daraak Afrig gi géej gi yàkkali dënnam. Jaww jaa ngi diis bee, gàncax gi day teree noyyi te sax ragal du ko sànjaafu.'},\n",
       " 711: {'french_corpus': 'Sa manière de manger, de faire cuire son riz selon la méthode africaine, en rajoutant au fur et à mesure de l’eau chaude.',\n",
       "  'wolof_corpus': 'Cet googu, daan na feeñ it ci lekkinam, ci ni mu daan baxaalee ceeb, di ko ñuluge ndànk-ndànk ndox mu tàng, niñ koy defe Afrig.'},\n",
       " 600: {'french_corpus': 'Il parvient jusqu’à l’autre rive du désert, à Arak.',\n",
       "  'wolof_corpus': 'Yegg na léegi ci beneen peggu màndiŋ mi, ca Arag.'},\n",
       " 217: {'french_corpus': 'Nous avions découvert d’autres compagnons de jeu : les scorpions.',\n",
       "  'wolof_corpus': 'Ogosaa, xaritoo woon nan faak yeneen gunóor : jiit yi.'},\n",
       " 531: {'french_corpus': 'Cela commence au déclin du soleil, vers six heures, et dure jusqu’à l’aube du lendemain.',\n",
       "  'wolof_corpus': 'Pecc maa ngi tàmbali bi jant biy waaj a so. Noonu lañ ko ci nekkale ba ca ëllëg sa ca njël.'},\n",
       " 325: {'french_corpus': 'L’épisode de la carte de visite exigée par le médecin-chef de l’hôpital de Southampton ne sera que le prétexte à rompre avec la société européenne.',\n",
       "  'wolof_corpus': 'Kuy seet bu baax sax, danga naan dafa tafantoo jàppanteem ak kilifaam ca Saawusamston ngir dogook askanu Tugal.'},\n",
       " 160: {'french_corpus': 'De temps en temps le « garden boy » se fâchait et les chassait à coups de pierre, mais l’instant d’après ils étaient revenus.',\n",
       "  'wolof_corpus': 'Léeg-léeg, bóoy bi doon wottu tóokër bi, mer sànni leen xeer. Su ko defee ñu daw waaye nees-tuut ñu dellusi toog fa ñu toogoon.'},\n",
       " 118: {'french_corpus': 'C’était probablement interdit.',\n",
       "  'wolof_corpus': 'Su nu Baay jàppoon keroog du baax ci nun.'},\n",
       " 278: {'french_corpus': 'Il avait choisi autre chose. Par orgueil sans doute, pour fuir la médiocrité de la société anglaise, par goût de l’aventure aussi. Et cette autre chose n’était pas gratuite.',\n",
       "  'wolof_corpus': 'Deful loolu. Moom kay, la gën a jafe la taamu. Te dara dugalu ko ci woon lu dul yëg boppam ak ñeme lu metti.'},\n",
       " 512: {'french_corpus': 'Ils y restent une ou deux nuits, parfois une semaine. L’eau à boire est acide et violacée de permanganate, on se lave au ruisseau, on cuisine sur un feu de brindilles à l’entrée de la hutte.',\n",
       "  'wolof_corpus': 'Kër yu ni mel, dinañ fa fanaan benn walla ñaari guddi, léeg-léeg ñu toog fa lu mat ayu-bés, di naan ndox mu wex ba noppi permanganaat bi nganjal ko. Dinañuy faral di sangu ci dex gu ndaw gi, di dajale ñax mu wow, teg ci seen cin taal reer mbaa añ.'},\n",
       " 596: {'french_corpus': 'Il partage l’ordinaire des Touareg qui accompagnent la caravane, il boit comme eux l’eau des oasis, une eau alcaline qui purge ceux qui n’y sont pas habitués.',\n",
       "  'wolof_corpus': 'Mook Tuwaareg yeey bokk lépp. Ndoxu seyaan lay naan ni ňoom, ndox mu xaw a wex tey daw biir, rawati-na soo ko tàmmulee.'},\n",
       " 98: {'french_corpus': 'Alors les jours d’Ogoja étaient devenus mon trésor, le passé lumineux que je ne pouvais pas perdre.',\n",
       "  'wolof_corpus': 'Tugal soof ma. Ogosaa jommal ma, daanaka am ci man solo ba mu jéggi dayo.'},\n",
       " 427: {'french_corpus': 'La baie de Victoria dessine une courbe terminée par une pointe de terre où les palmiers sont inclinés dans le vent du large.',\n",
       "  'wolof_corpus': 'Ruqu-géeju Wiktoryaa ngi def ab lunk-lunk bu jeexe ci catu suuf lu garabi-tiir yay sujjóotal ci ngelawu géej gi.'},\n",
       " 755: {'french_corpus': 'Le long des routes, au bord des rivières, à l’entrée des villages, des centaines de milliers d’enfants sont en train de mourir de faim et de déshydratation.',\n",
       "  'wolof_corpus': 'Fu waay geestu, say bët daj téeméeri junniy gone yu wow koŋŋ, niróotuñu sax nit.'},\n",
       " 267: {'french_corpus': 'Cette Afrique-là existait déjà avant la guerre, sans aucun doute.',\n",
       "  'wolof_corpus': 'Loolu, leer na ci xelu ñépp. Leer nàññ sax, la def. Laata geer biy kalaate, noonu la Afrig meloon.'},\n",
       " 639: {'french_corpus': 'La légende d’Aro Chuku et de sa pierre aux sacrifices humains continue d’agir sur les esprits.',\n",
       "  'wolof_corpus': 'Kenn fàttewul Aro Suku, ak xeer wa mu daan ñàddee nit ñiy rendi.'},\n",
       " 133: {'french_corpus': 'L’Aiya à cet endroit n’était pas très large, mais était animée d’un courant violent qui arrachait aux rives des mottes de boue rouge.',\n",
       "  'wolof_corpus': 'Wet gi nu awe keroog, Ayaa taxu ko faa yaatu wànte day wal-waleek doole, di yëkkati bàq bi ak a xonqal peggi dex gi.'},\n",
       " 254: {'french_corpus': 'La plus grande preuve d’amour qu’il a donnée aux siens, c’est lorsqu’en pleine guerre, il traverse le désert jusqu’en Algérie, pour tenter de rejoindre sa femme et ses enfants et les ramener à l’abri en Afrique.',\n",
       "  'wolof_corpus': 'Liy firndeel cofeel gu réy gi mu amoon ci doom yeek jabar ji, moo di ne bés dafa ni fàww mu fekki leen Tugal, indi leen Afrig, ñu mucc ci Xare bi. Mujjewul a àntu waaye lu mu bon bon jéem na.'},\n",
       " 191: {'french_corpus': 'J’ai dû pénétrer dans la zone dénudée qui entoure l’orifice de leurs galeries.',\n",
       "  'wolof_corpus': 'Xam naa dama teg sama tànk fu ma ko warul a teg.'},\n",
       " 200: {'french_corpus': 'Dès qu’elle est debout, elle voit, à la lumière des torches : une colonne de fourmis (ces mêmes fourmis rouges encadrées de guerrières) qui est sortie de la forêt et qui commence à traverser la case.',\n",
       "  'wolof_corpus': 'Sama yaay dafa tëb ci lal bi, janook naaxi mellentaan yu xonq ak yu ñuul. Ñu nga bawoo woon ci àll bi, tàmbalee xuus nag, war a jaar ci néeg bi.'},\n",
       " 718: {'french_corpus': 'En 1954, nous fîmes un voyage touristique au Maroc (où un des « oncles » était administrateur d’une propriété agricole).',\n",
       "  'wolof_corpus': 'Ci atum 1954, yóbbu nanu Marog, nu doon fay wëraakoon, daanaka. Xam naa li fa kenn ci samay « nijaay » doon saytu tool bu mag a mag a waraloon mu taamu réew moomu.'},\n",
       " 222: {'french_corpus': 'Mais de temps à autre, le matin, ils avaient été remplacés par un spécimen plus grand, de couleur blanche tirant sur le jaune, et nous savions instinctivement que cette variété pouvait être venimeuse.',\n",
       "  'wolof_corpus': 'Waaye léeg-léeg yeneeni jiit yu gën a réy wuutu leen. Boo leen giseek seen weexaay bu xëcc ci puur, njort ni ñii moom war nañoo am daŋar.'},\n",
       " 796: {'french_corpus': 'Non parce qu’ils voient à travers les êtres et les choses, mais justement parce qu’ils ne voient qu’eux : un arbre, un creux de terre, une colonne de fourmis charpentières, une bande de gosses turbulents à la recherche d’un  jeu, un vieillard aux yeux troubles tendant une main décharnée, une rue dans un village africain un jour de marché, c’étaient toutes les rues de tous les villages, tous les vieillards, tous les enfants, tous les arbres et toutes les fourmis.',\n",
       "  'wolof_corpus': 'Xale, ay bëtam duñuy jéggi nit ñeek càkkeef gi ngir gis lañuy làq ci seen ginnaaw. Niñ ko feeñoo rekk la leen di gise : garab, am pax ci suuf si, naaxi mellentaan, gone yuy wut ku ñu fowal ak màggatum yalwaankat mu dem ba xaw a sëgg. Ñooñu ma tudd, goney dunyaa yépp lañu, garab yeek mellentaan yépp lañu. Li may may doole, man, sama alal, mooy rekk naa bañ a fàttee fàttaliku.'},\n",
       " 97: {'french_corpus': 'Entre la tristesse du sud de la France pendant la guerre et la tristesse de la fin de mon enfance dans la Nice des années cinquante, rejeté de mes camarades de classe du fait de mon étrangeté, obsédé par l’autorité excessive de mon père, en butte à la très grande vulgarité des années lycée, des années scoutisme, puis pendant l’adolescence la menace d’avoir à partir faire la guerre pour maintenir les privilèges de la dernière société coloniale.',\n",
       "  'wolof_corpus': 'Du lu war a jaaxal kenn. Su dee loolu la, maa yey. Ana fu gën a géey bëj-saalumu Tugal ci jamonoy xare bi ?  Niis gi nu dëkk it, ci xaaju xarnu bi, amul dara lu ma fa neex. Ragal Baay a ma taxoon a téye sama bopp ca Niis, samay moroom ca liise daan ma noggatu ndax li ma wute woon ak ñoom. At yooyu ma def liise, su ma yaboo ni ñoo ma gën a soof ci sama àddina. Ñooy it at ya ma tollo ci nekk « eskut ». Moo doon it jamono ja ma ragalee lool nguur gi solal ma soldaar, jox ma fetal ma war a dem xareel ko. Xareel ko ngir lan ? Xanaa ngir nun Tubaab yi nuy wéy di teg loxo ci Afrig, di aakimu alalam.'},\n",
       " 436: {'french_corpus': 'C’était bien la même terre rouge, le même ciel, le même vent constant de la mer, et partout, sur les routes, dans les villages, les mêmes visages, les mêmes rires d’enfants, la même insouciance nonchalante.',\n",
       "  'wolof_corpus': 'Amul dara lu wutale Afrig ak Móris. Suuf su xonq si benn la, asamaan si benn la te it ngelawu géej gi benn la. Te su loolu weesoo, mbedd moo aw gis ni xar-kanam yi niroo ak ni nit ñi féexalee seen àddina, gis fa itam gone yuy fo, di reetaan.'},\n",
       " 661: {'french_corpus': 'Il n’avait rien de commun avec les hommes que je voyais en France dans le cercle de ma grand-mère, ces « oncles », ces amis de mon grand-père, messieurs d’un autre âge, distingués, décorés, patriotes, revanchards, bavards, porteurs de cadeaux, ayant une famille, des relations, abonnés au Journal des voyages, lecteurs de Léon Daudet et de Barrès. Toujours impeccablement vêtus de leurs complets gris, de leurs gilets, portant cols durs et cravates, coiffant leurs chapeaux de feutre et maniant leurs cannes à bout ferré.',\n",
       "  'wolof_corpus': 'Aka wute woon e yak sama « nijaay » yi daan seetsi sama maam ju jigéen ca Tugal !  Ay nit ñu modde, bëgg seen bopp, mën a jaay maanaa ba dee ak seeni karwaat ak seeni kompale yu dóomu-taal, jàpp ni ku bokkul Frãs bokkoo, foo leen fekk ñu naan : « Waaw, lan la sunu làrme biy xaar ci song almaŋ yi, duma leen ba ñu xool benn béréb ?  » Kenn du ci génn mukk këram te tappul i medaay ba dënn bi fees. Ñu ngiy noyyee ay bindkat niki Lewoŋ Dóodeek Bares. Koo ci gis mu nga téye ñaare benn yéenekaay buñ naan Journal des Voyages.'},\n",
       " 744: {'french_corpus': 'Les États qu’elles représentent s’affrontent par procuration, la France du côté des insurgés biafrais, l’Union soviétique, l’Angleterre et les États-Unis du côté du gouvernement fédéral majoritairement yorouba.',\n",
       "  'wolof_corpus': 'Ku nekk, nag, am foo far, Frãs di jàppale way-fippuy Biyaafaraa yi ; Riis yi, Àngalteer ak Amerig ànd ak gornmaa bu Legoos.'},\n",
       " 213: {'french_corpus': 'Il était persuadé que les cafards étaient à l’origine de beaucoup de maladies, y compris du cancer.',\n",
       "  'wolof_corpus': 'Ci gis-gisu Baay, feebar yu bare ci mbóot yi lañ doon jóge, ba ci sax kañseer.'},\n",
       " 543: {'french_corpus': 'C’est à cette époque que ma mère est tombée enceinte deux fois.',\n",
       "  'wolof_corpus': 'Jamono jooju la sama yaay ëmb ñaari yoon.'},\n",
       " 279: {'french_corpus': 'Cela vous plongeait dans un autre monde, vous emportait vers une autre vie. Cela vous exilait au moment de la guerre, vous faisait perdre votre femme et vos enfants, vous rendait, d’une certaine façon, inéluctablement étranger.',\n",
       "  'wolof_corpus': 'Mu jaral ko lu ne nag, ba ci gàddaay dem fu sori, xare bi kalaate mu bàyyi njabootam Tugal, dëkk béréb bu mu xamul kenn, kenn xamu ko fa, saa yu rombee nit kooku naan ci xelam : « Moo, doxandéem bii, lan la fiy def ?  »'},\n",
       " 268: {'french_corpus': 'J’imagine Douala, Port Harcourt, les rues encombrées de voitures, les marchés où courent les enfants luisant de sueur, les groupes de femmes parlant à l’ombre des arbres.',\n",
       "  'wolof_corpus': 'Ku yabu seet ko ci dëkk yu mel ni Poor-Arkuur mbaa Duwaalaa : woto yu bare yiy rombante ci tali bi, xale yiy dóor-dàqe ci biir màrse yi, ñaq tooy xepp ak jeeg jiy féexlu ci keppaaru garab yi.'},\n",
       " 272: {'french_corpus': 'Il prend le train, débarque à Southampton, s’installe dans une pension. Son service ne débutant que trois jours plus tard, il flâne en ville, va voir les navires en partance.',\n",
       "  'wolof_corpus': 'Saxaar wàcce ko fa, ñu ni ko mu xaar ñetti fan door a tàmbalee liggéey.'},\n",
       " 605: {'french_corpus': 'À partir de cet échec, l’Afrique n’a plus pour lui le même goût de liberté.',\n",
       "  'wolof_corpus': 'Li mébét mu am solo moomu àntuwul, soppi na lu bari ci gis-gisu Afrigam.'},\n",
       " 412: {'french_corpus': 'En parlait-il ?',\n",
       "  'wolof_corpus': 'Ndax Baay daan na wax lu ci jëm ?'},\n",
       " 441: {'french_corpus': 'C’est là qu’il va passer les années les plus heureuses de sa vie.',\n",
       "  'wolof_corpus': 'Mbégte ma Baay yëg foofu, dund na ba dee yëgaatu ko feneen.'},\n",
       " 598: {'french_corpus': 'Il passe plusieurs jours au fort d’In Guezzam, à la frontière des possessions françaises au Sahara.',\n",
       "  'wolof_corpus': 'Toog nay fan ca tatawu In Gesam, ca digub moomeelu Tubaab yi.'},\n",
       " 195: {'french_corpus': 'Je ne m’en souviens pas, mais j’ai dû crier, hurler même, parce que, l’instant d’après, je suis secouru par ma mère qui m’emporte dans ses bras et, autour de moi, devant la terrasse de la maison, il y a mon frère, les garçons du voisinage, ils regardent en silence, est-ce qu’ils rient ? Est-ce qu’ils disent : Small boy him cry ? Ma mère ôte mes chaussettes, retournées délicatement comme on enlèverait une peau morte, comme si j’avais été fouetté par des branches épineuses, je vois mes jambes couvertes de points sombres où perle une goutte de sang, ce sont les têtes des fourmis accrochées à la peau, leurs corps ont été arrachés au moment où ma mère retirait mes chaussettes. Leurs mandibules sont enfoncées profondément, il  faut les extraire une par une avec une aiguille trempée dans l’alcool.',\n",
       "  'wolof_corpus': 'Xam naa damaa waroon a yuuxu keroog ndax sama yaay a dawsi, fab ma yóbbu. Nu romb sama mag, mu toog ci buntu kër gi, mook yeneeni goney Ogosaa. Ñoom ñépp ñu ni tekk di nu seetaan. Mbaa du dañu may ñaawal ndax sama yuuxu yu metti yi, naan Small boy him cry? Sama yaay summi samay kawas, di leen wëlbati ndànk, ni ñuy lellee der bu dee. Mu mel ni dañ ma dóor ciy tànk ak yar bu am i dég, ñu fees ak i tip-tip yu ñuul. Toqu deret bu ci nekk, soo ko xoolee bu baax fekk fa boppu mellentaan. Maa ngi gisaat sama yaay mu leen di sekki benn-benn ak puso bu ñu soos ci alkol.'},\n",
       " 459: {'french_corpus': 'Avec eux voyageaient leurs employés, Njong le chocra, Chindefondi l’interprète, Philippus le chef des porteurs.',\n",
       "  'wolof_corpus': 'Seeni surga daan naňu tukkeek ňoom. Ku ci mel ni Njoŋ, « sokaraa » ba, walla Sindefondi, làppto bi, walla Filipus njiitu yenukat ya.'},\n",
       " 114: {'french_corpus': 'La plaine était là, devant mes yeux, prête à me recevoir.',\n",
       "  'wolof_corpus': 'Joor gaa ngi woon ci sama kanam, yaatu ba dee, tàllal may loxoom, di ma waaj a dalal.'},\n",
       " 206: {'french_corpus': 'Le silence des fourmis.',\n",
       "  'wolof_corpus': 'Tekkug mellentaan yi.'},\n",
       " 239: {'french_corpus': 'Mon père fermait les portes et les volets (il n’y avait pas de carreaux aux rares fenêtres), dépliait les moustiquaires audessus des lits et des hamacs.',\n",
       "  'wolof_corpus': 'Baay daf daan tëj bunt yeek palanteer yi, defar sànke yi, wànte daanaka bëre nen ak doj la woon.'},\n",
       " 726: {'french_corpus': 'L’avènement de l’indépendance, au Cameroun et au Nigeria, puis de proche en proche à travers tout le continent, avait dû le passionner.',\n",
       "  'wolof_corpus': 'Teewul ba mu yëgee ni Niseryaak Kamerun moom nañu seen bopp, muy xibaar bu ko yëngal, yitteel ko.'},\n",
       " 174: {'french_corpus': 'Je crois même qu’au bout d’un temps, je les aurais oubliés.',\n",
       "  'wolof_corpus': 'Miin kon naa gis-gis boobu ba duma ko soxlaa fat ba koy fàtte.'},\n",
       " 529: {'french_corpus': 'Les hommes sont debout. Certains portent des robes de raphia, d’autres ont les masques des dieux.',\n",
       "  'wolof_corpus': 'Góor ñaa ngi taxaw, ñii sol yérey xasum garab, ñeneen ñi téye xar-kanami seeni Yàlla.'},\n",
       " 72: {'french_corpus': 'Certains soirs, un vent rouge venu du nord, qui faisait briller les murs.',\n",
       "  'wolof_corpus': 'Léeg-léeg itam mu jóge bëj-gànnaar, yëkkati suuf su xonq si daan melaxal miiri kër gi.'},\n",
       " 193: {'french_corpus': 'Je reste immobile, incapable de fuir, incapable de penser, sur le sol tout à coup mouvant, formant un tapis de carapaces, de pattes et d’antennes qui tourne autour de moi et resserre son tourbillon, je vois les fourmis qui ont commencé à monter sur mes chaussures, qui s’enfoncent entre les mailles de ces fameuses chaussettes de laine imposées par mon père. Au même instant je ressens la brûlure des premières morsures, sur mes chevilles, le long de mes jambes.',\n",
       "  'wolof_corpus': 'Ma taxaw fi ma taxaw, ni tekk, sama xel mi yépp jaxasoo. Maa ngi yëg tamit ni suuf siy yëngoo. Gunóor yaa ngiy wéndeelu ba mel ni callweer, tàmbalee yéeg samay dàll, di dugg ci samay kawas, di màtt samay bëti tànk, di mareñ wuti samay pooj.'},\n",
       " 538: {'french_corpus': 'Si je veux comprendre ce qui a changé cet homme, cette cassure qu’il y a eu dans sa vie, c’est à la guerre que je pense.',\n",
       "  'wolof_corpus': 'Su ma bëggee xam lu tax Baay soppiku, lu waral dog-dog bi ma seetlu ci dundam, ci xare bi la sama xel di njëkk a dem.'},\n",
       " 517: {'french_corpus': 'Au long de leurs marches, l’Afrique qu’ils rencontrent n’est pas celle de la colonisation.',\n",
       "  'wolof_corpus': 'Fexe nañu ba mucc ci Afrigu nguurug Tubaab yi.'},\n",
       " 248: {'french_corpus': 'Oui, je crois que je n’ai jamais connu de tels moments d’intimité, un tel mélange de rituel et de familier.',\n",
       "  'wolof_corpus': 'Ma koy fàttaliku, aada ak miineel daldi joxante loxo ci saa si. Waaw, gëm naa ne masumaa yëg lu ni mel ci sama xol.'},\n",
       " 125: {'french_corpus': 'Je me souviens du froid de l’hiver, à Nice, ou à Roquebillière, je ressens encore l’air glacé qui soufflait dans les ruelles, un froid de glace et de neige, malgré nos guêtres et nos gilets en peau de mouton.',\n",
       "  'wolof_corpus': 'Liw bu mettee-metti ba ma daan dugg ba nu dëkkee Niis walla Rokkëbiyeer, maa ngi koy fàttaliku bu baax. Ma nekk xale, sol ay yére yu diis, wànte teewul ngelaw lu sedd guyy di ma bëgg a rey.'},\n",
       " 490: {'french_corpus': 'Douala, Lagos, Victoria sont à des années de là.',\n",
       "  'wolof_corpus': 'Sooy méngale diiwaan beek Duwaalaa, Legoos walla Wiktoryaa, day mel ni Yàllaak Yaali.'},\n",
       " 40: {'french_corpus': 'Comment aurais-je pu imaginer que cette femme était ma grand-mère ? Et je ressentais non pas de l’horreur ni de la pitié, mais au contraire de l’amour et de l’intérêt, ceux que suscite la vue de la vérité, de la réalité vécue.',\n",
       "  'wolof_corpus': 'Naka laa mën a xalaate ne keey sama maam ju jigéen ? Li may yëg du mbañeel, du yërmaande. Sori na leen lool. Jigéen ju màgget jooju, cofeel gu réy laa am ci moom. Te it fullaal naa ko ni ñuy fullaale lèpp luy dëgg ak képp ku dëggu.'},\n",
       " 565: {'french_corpus': 'De la même façon, une année le colis de pâtes de goyave d’Afrique du Sud n’est pas parvenu pour le jour de l’an, et nous avons su que le docteur Jeffries avait disparu.',\n",
       "  'wolof_corpus': 'Ñuy demati ba bés at mi dee te konfitiiru guyaab jógewul Bëj-saalumu Afrig. Ndekete Doktoor Sefiriis tamit saayoon na.'},\n",
       " 551: {'french_corpus': 'À l’amitié qui les rapprochait des habitants.',\n",
       "  'wolof_corpus': 'Loolu jur xaritoo, samay way-jur gënatee jege seeni dëkkandoo.'},\n",
       " 567: {'french_corpus': 'Il ne restait plus que la maigre pension que le gouvernement nigerian s’était engagé à verser à ses vieux serviteurs, au moment de l’indépendance.',\n",
       "  'wolof_corpus': 'Bi Niseryaay jot ci boppam, dafa digoon ñépp ña ko mas a liggéeyal ni dina wéy di leen fey seen alaateret.'},\n",
       " 586: {'french_corpus': 'Il lui aurait fallu abandonner ses parents en pleine tourmente, alors qu’ils n’étaient plus en état de résister.',\n",
       "  'wolof_corpus': 'Ay way-juram a ngi woon ciy jafe-jafe yu tar, fekk mag dikk, amatuñu benn kàttan. Gëmuma ni doon na leen néeg a bàyyi foofu dem yoonam.'},\n",
       " 715: {'french_corpus': 'Tout cela peut sembler anecdotique.',\n",
       "  'wolof_corpus': 'Lii lépp, mën naa niiruy waxi kasaw-kasaw.'},\n",
       " 486: {'french_corpus': 'Au contraire, c’est un pays prospère, où on cultive les arbres fruitiers, l’igname et le millet, où on pratique l’élevage.',\n",
       "  'wolof_corpus': 'Wàntee fii, réew mu naat la, bariy garab yuy meňň i doom, ñu fay bey ñambeek dugub, càmm gi it bari fa lool, kaar.'},\n",
       " 690: {'french_corpus': 'Où le temps de l’enfance s’arrête très tôt, presque sans transition, où les garçons travaillent avec leur père, les petites filles se marient et portent leurs enfants à treize ans.',\n",
       "  'wolof_corpus': 'Xanaa kay, seen ngonee dul yàgg rekk, ndeysaan… Ndax foofu, waxambaane yi dañuy teel a ànd ak seen baay tool ya.'},\n",
       " 663: {'french_corpus': 'L’homme qui m’est apparu au pied de la coupée, sur le quai de Port Harcourt, était d’un autre monde : vêtu d’un pantalon trop large et trop court, sans forme, d’une chemise blanche, ses souliers de cuir noir empoussiérés par les pistes.',\n",
       "  'wolof_corpus': 'Nit ki ma teerusi ci waaxu Poor-Arkuur dafa mel ni ku bokkul ak ñoom xeet walla sax ku fëlle beneen dunyaa. Tubay ji mu sol, yaatu te gàtt, kenn xamul lu muy nirool ; simis bi dafa weex, dàlli deram yu ňuul yaa ngi pënde ba nga ni lii lu mu doon.'},\n",
       " 175: {'french_corpus': 'Il y avait une hâte, une urgence. Nous étions venus du bout du monde (car Nice était bien un autre bout du monde).',\n",
       "  'wolof_corpus': 'Seetleen rekk : bawoo Niis ca Tugal, ñëw teersi Afrig, du woon lu yomb a dékku. Niis a nga woon ca fu kenn xamul.'},\n",
       " 400: {'french_corpus': 'Mais un vieil homme dépaysé, exilé de sa vie et de sa passion, un survivant.',\n",
       "  'wolof_corpus': 'Góor gu màggat doŋŋ a fi desoon, gëlëm, réer, xamatul lu ko àddinay nirool.'},\n",
       " 10: {'french_corpus': 'Affirmer que je ne l’aimais pas serait lui donner une importance qu’il n’avait pas quand j’étais enfant.',\n",
       "  'wolof_corpus': 'Su ma nee soppuma ko woon, day mel ni dama koy jox maanaa ju mu amul woon ba may gone.'},\n",
       " 583: {'french_corpus': 'À des milliers de kilomètres, quelque part sur les routes encombrées par les fuyards, ma mère roule dans la vieille De Dion de ma grand-mère, emmenant avec elle son père et sa mère, et ses deux enfants âgés d’un an et de trois mois.',\n",
       "  'wolof_corpus': 'Digganteem ak Tugal, kenn xamul ni mu tollu, mat na, xanaa, ay junniy-junni kilomet. Xel mi daw ba àgg fa, ndeysaan, muy janeer, di gis nit ñu baree-bare ci mbeddi Tugal yi. Soxnaam bokk na ci ñooñuy wut fu ñu làquji. Sama yaay a ngi ànd ak baayam ak ndeyam ak it ñaari banti-maam-Yàllaam, kii am benn at, keneen ki ñetti weer doŋŋ, di man mii. Ñu ngi tancaloo ci sama woto maam ju jigéen, ab « De Joŋ» bu màggat.'},\n",
       " 595: {'french_corpus': 'Il n’a pas eu le temps de se préparer, d’emporter des médicaments, des provisions.',\n",
       "  'wolof_corpus': 'Yóobuwaalewul i garab mbaa leneen.'},\n",
       " 480: {'french_corpus': 'Hormis les principaux cours d’eau, le Donga Kari affluent du Bénoué au nord et la rivière Cross au sud, et les deux cités anciennes fortifiées de Banyo et de Kentu, la carte est imprécise.',\n",
       "  'wolof_corpus': 'Nataal boobu sax, ay rëddam dese nañoo leer. Gaa, mënees nañ cee xàmmee dex yi seen tur gën a siiw. Dongaak Kari it dinañ ci feeñ bu baax ak bànqaasu Bénuwe ca bëj-gànnaar, dexug Koros ca bëj-saalum. Dinañ ci gis it Banyook Kentu, ňaari dëkki cosaan ak seeni tata ya leen daan aar. Fa la njariñu nataal bi yem.'},\n",
       " 351: {'french_corpus': 'Ils doivent être des vieillards, proches du terme de l’existence.',\n",
       "  'wolof_corpus': 'Soo demee màggat nañu ba xubidaas te balaa yàgg ñu wuyuji seen boroom.'},\n",
       " 143: {'french_corpus': 'Comment l’avons-nous su ?  Peut-être par mon père, ou bien par un des garçons du village.',\n",
       "  'wolof_corpus': 'Naka lanu def ba xam ko ci saa si ci lu amul benn laam-laamee ? Ndax Baay a nu ko waxoon mbaa kenn ci goney Ogosaa yi ?'},\n",
       " 552: {'french_corpus': 'Je me souviens comme si je l’avais connu de l’assistant de mon père à Banso, le vieux Ahidjo, qui était devenu son conseiller et son ami.',\n",
       "  'wolof_corpus': 'Mbir mi dafa am doole ba yenn saa yi sama xel dem ci góor guñ daan wax Ayijoo, ma koy gisaat, doonte sax masuma koo teg bët. Moo daan jàppale Baay ca Bansoo, nekk it xaritam.'},\n",
       " 533: {'french_corpus': 'Ils sont amoureux.',\n",
       "  'wolof_corpus': 'Ñaar ñii, bëggante nañu ci dëgg-dëgg.'},\n",
       " 574: {'french_corpus': 'Quand la guerre éclate, il sait qu’elle va mettre à nouveau l’Europe à feu et à sang, comme en 1914.',\n",
       "  'wolof_corpus': 'Lenn wóor na ko : xare bii topp ci bu atum 1914, dina metti lool moom tamit, deret ju bare dina ci tuuru ci réewi Tugal yi.'},\n",
       " 264: {'french_corpus': 'Était-ce la guerre, cet interminable silence, qui avait fait de mon père cet homme pessimiste et ombrageux, autoritaire, que nous avons appris à craindre plutôt qu’à aimer ? Était-ce l’Afrique ?',\n",
       "  'wolof_corpus': 'Mbaa du li dunyaa ni woon tekk ci xare bee soppi woon Baay ba tax mu jàpp njàmburam, bëgg ku mu yilif, naqadee dëkkal ? Walla boog Afrig a ko mujjee mel-loo noonu ?'},\n",
       " 405: {'french_corpus': 'Banquiers, agents commerciaux, administrateurs civils ou militaires, juges, policiers et gendarmes.',\n",
       "  'wolof_corpus': 'Ñooñooy njiiti bànk yi, ňiy yëngu ci njaay meek njënd mi, ndawal buur yi walla soldaar yi, àttekat yi, alkaati yeek sàndarma yi.'},\n",
       " 171: {'french_corpus': 'C’était un moment de nos vies, juste un moment, sans aucune explication, sans regret, sans avenir, presque sans mémoire.',\n",
       "  'wolof_corpus': 'Waaye du woon jikko. Jamono la woon. Du lu nu teyoon di ko def. Kon jarul a réccu. Di ko fàttaliku sax, sonal sa bopp la.'},\n",
       " 321: {'french_corpus': 'Sa famille est ruinée, et il ne peut compter que sur la bourse du gouvernement.',\n",
       "  'wolof_corpus': 'Jafe-jafe yiy way-juram doon jànkoonteel tax ba mu war a sukkandiku ci ndimbalu gornmaa bi.'},\n",
       " 235: {'french_corpus': 'Pour une raison que j’ignore, le feu a d’abord pris autour de l’animal, en formant un cercle de flammes bleues, et la femelle scorpion s’est arrêtée dans une posture tragique, les pinces levées au ciel, son corps bandé dressant au-dessus de ses enfants son crochet à venin au bout de sa glande, parfaitement visible.',\n",
       "  'wolof_corpus': 'Gunóor gi tàkkul ci saa si ndax ni ko safara si wëre. Mu des ci géew bi, xamatul nu muy def ak doom yi mu boot. Xanaa rekk taxaw, yëkkatiy keppukaayam ca kow, di xaar.'},\n",
       " 101: {'french_corpus': 'La mémoire d’un enfant exagère les distances et les hauteurs.',\n",
       "  'wolof_corpus': 'Gone, su demee bay natt dayo mbaa guddaay, du xam bu ca yem.'},\n",
       " 207: {'french_corpus': 'À Ogoja, les insectes étaient partout.',\n",
       "  'wolof_corpus': 'Xeetu gunóor wu waay mën a xalaat a nga woon Ogosaa.'}}"
      ]
     },
     "execution_count": 5,
     "metadata": {},
     "output_type": "execute_result"
    }
   ],
   "source": [
    "# print a sample 100 sentences\n",
    "samples = sentences.sample(100, random_state=100).to_dict(orient='index')\n",
    "samples"
   ]
  },
  {
   "attachments": {},
   "cell_type": "markdown",
   "metadata": {},
   "source": [
    "Let us try to tokenize the sentences 101."
   ]
  },
  {
   "cell_type": "code",
   "execution_count": 6,
   "metadata": {},
   "outputs": [],
   "source": [
    "# first sentences\n",
    "example1 = samples[101]"
   ]
  },
  {
   "cell_type": "code",
   "execution_count": 7,
   "metadata": {},
   "outputs": [
    {
     "data": {
      "text/plain": [
       "{'french_corpus': 'La mémoire d’un enfant exagère les distances et les hauteurs.',\n",
       " 'wolof_corpus': 'Gone, su demee bay natt dayo mbaa guddaay, du xam bu ca yem.'}"
      ]
     },
     "execution_count": 7,
     "metadata": {},
     "output_type": "execute_result"
    }
   ],
   "source": [
    "example1"
   ]
  },
  {
   "attachments": {},
   "cell_type": "markdown",
   "metadata": {},
   "source": [
    "- On the French corpus"
   ]
  },
  {
   "cell_type": "code",
   "execution_count": 8,
   "metadata": {},
   "outputs": [
    {
     "name": "stdout",
     "output_type": "stream",
     "text": [
      "The encoded tokens with their mask\n",
      "{'input_ids': tensor([[14772,   285,  2634,  5908,   557,   288,   447,   247,   403,   551,\n",
      "            69,   415,   409,   363, 35979, 10287, 18868,  2123, 10287,   387,\n",
      "          1133,  1834,    13]]), 'attention_mask': tensor([[1, 1, 1, 1, 1, 1, 1, 1, 1, 1, 1, 1, 1, 1, 1, 1, 1, 1, 1, 1, 1, 1, 1]])}\n",
      "\n",
      "The decoded tokens\n"
     ]
    },
    {
     "data": {
      "text/plain": [
       "['La',\n",
       " ' m',\n",
       " 'é',\n",
       " 'mo',\n",
       " 'ire',\n",
       " ' d',\n",
       " '�',\n",
       " '�',\n",
       " 'un',\n",
       " ' en',\n",
       " 'f',\n",
       " 'ant',\n",
       " ' ex',\n",
       " 'ag',\n",
       " 'ère',\n",
       " ' les',\n",
       " ' distances',\n",
       " ' et',\n",
       " ' les',\n",
       " ' ha',\n",
       " 'ute',\n",
       " 'urs',\n",
       " '.']"
      ]
     },
     "execution_count": 8,
     "metadata": {},
     "output_type": "execute_result"
    }
   ],
   "source": [
    "# tokenize the first example\n",
    "encoded_input = tokenizer(example1['french_corpus'], return_tensors='pt')\n",
    "print(\"The encoded tokens with their mask\")\n",
    "print(encoded_input)\n",
    "print(\"\\nThe decoded tokens\")\n",
    "[tokenizer.decode(token) for token in encoded_input['input_ids'][0]]"
   ]
  },
  {
   "attachments": {},
   "cell_type": "markdown",
   "metadata": {},
   "source": [
    "- On the Wolof corpus"
   ]
  },
  {
   "cell_type": "code",
   "execution_count": 9,
   "metadata": {},
   "outputs": [
    {
     "name": "stdout",
     "output_type": "stream",
     "text": [
      "The encoded tokens with their mask\n",
      "{'input_ids': tensor([[   38,   505,    11,   424,  1357,  1453, 15489,   299,  1078,  1110,\n",
      "            78,   285,  7012,    64,   308,  4185,    64,   323,    11,  7043,\n",
      "          2124,   321,   809,  1275,   331,   368,    13]]), 'attention_mask': tensor([[1, 1, 1, 1, 1, 1, 1, 1, 1, 1, 1, 1, 1, 1, 1, 1, 1, 1, 1, 1, 1, 1, 1, 1,\n",
      "         1, 1, 1]])}\n",
      "\n",
      "The decoded tokens\n"
     ]
    },
    {
     "data": {
      "text/plain": [
       "['G',\n",
       " 'one',\n",
       " ',',\n",
       " ' su',\n",
       " ' dem',\n",
       " 'ee',\n",
       " ' bay',\n",
       " ' n',\n",
       " 'att',\n",
       " ' day',\n",
       " 'o',\n",
       " ' m',\n",
       " 'ba',\n",
       " 'a',\n",
       " ' g',\n",
       " 'udd',\n",
       " 'a',\n",
       " 'ay',\n",
       " ',',\n",
       " ' du',\n",
       " ' x',\n",
       " 'am',\n",
       " ' bu',\n",
       " ' ca',\n",
       " ' y',\n",
       " 'em',\n",
       " '.']"
      ]
     },
     "execution_count": 9,
     "metadata": {},
     "output_type": "execute_result"
    }
   ],
   "source": [
    "# tokenize the first example\n",
    "encoded_input = tokenizer(example1['wolof_corpus'], return_tensors='pt')\n",
    "print(\"The encoded tokens with their mask\")\n",
    "print(encoded_input)\n",
    "print(\"\\nThe decoded tokens\")\n",
    "[tokenizer.decode(token) for token in encoded_input['input_ids'][0]]"
   ]
  },
  {
   "attachments": {},
   "cell_type": "markdown",
   "metadata": {},
   "source": [
    "We don't obtain what we expected because the tokenizer are not trained on a french corpus or a wolof corpus."
   ]
  },
  {
   "attachments": {},
   "cell_type": "markdown",
   "metadata": {},
   "source": [
    "#### Improve the tokenization with a model"
   ]
  },
  {
   "cell_type": "code",
   "execution_count": 10,
   "metadata": {},
   "outputs": [],
   "source": [
    "# import necessary libraries\n",
    "from tokenizers import (\n",
    "    decoders,\n",
    "    models,\n",
    "    normalizers,\n",
    "    pre_tokenizers,\n",
    "    processors,\n",
    "    trainers,\n",
    "    Tokenizer,\n",
    ")\n",
    "\n",
    "import random\n",
    "\n",
    "random.seed(100)"
   ]
  },
  {
   "attachments": {},
   "cell_type": "markdown",
   "metadata": {},
   "source": [
    "Let us improve the tokenization of the texts by training a tokenizer from scratch. The tutorial is available at the following link [Training_Tokenizer_from_scratch](https://huggingface.co/learn/nlp-course/chapter6/8?fw=pt)."
   ]
  },
  {
   "attachments": {},
   "cell_type": "markdown",
   "metadata": {},
   "source": [
    "- First, we must load batch of sentences. Let us say that we will a batch of 15 sentences at a time."
   ]
  },
  {
   "cell_type": "code",
   "execution_count": 11,
   "metadata": {},
   "outputs": [],
   "source": [
    "# recuperate the sentences as list of sentences (simple method)\n",
    "french_sentences = sentences['french_corpus'].to_list()\n",
    "\n",
    "wolof_sentences = sentences['wolof_corpus'].to_list()\n",
    "\n",
    "# Define Batch sizes\n",
    "BATCH_SIZE = 5\n",
    "\n",
    "# let us use generators to load the french and wolof sentences\n",
    "def load_french_sentences():\n",
    "    \n",
    "    for i in range(0, len(french_sentences), BATCH_SIZE):\n",
    "        \n",
    "        yield french_sentences[i : i + BATCH_SIZE]\n",
    "\n",
    "def load_wolof_sentences():\n",
    "    \n",
    "    for j in range(0, len(wolof_sentences), BATCH_SIZE):\n",
    "        \n",
    "        yield wolof_sentences[j : j + BATCH_SIZE]\n"
   ]
  },
  {
   "attachments": {},
   "cell_type": "markdown",
   "metadata": {},
   "source": [
    "##### BPE (Byte-Pair Encoding tokenization) tokenizer"
   ]
  },
  {
   "attachments": {},
   "cell_type": "markdown",
   "metadata": {},
   "source": [
    "- Let us load the BPE tokenizer"
   ]
  },
  {
   "cell_type": "code",
   "execution_count": 12,
   "metadata": {},
   "outputs": [],
   "source": [
    "bpe_tokenizer = Tokenizer(models.BPE())"
   ]
  },
  {
   "attachments": {},
   "cell_type": "markdown",
   "metadata": {},
   "source": [
    "- Configure a pre-tokenizer"
   ]
  },
  {
   "cell_type": "code",
   "execution_count": 119,
   "metadata": {},
   "outputs": [],
   "source": [
    "# add a byte level pre-tokenizer and specify that we will not a space to the first word\n",
    "bpe_tokenizer.pre_tokenizer = pre_tokenizers.ByteLevel(add_prefix_space=False)"
   ]
  },
  {
   "attachments": {},
   "cell_type": "markdown",
   "metadata": {},
   "source": [
    "- Test the pre-tokenizer"
   ]
  },
  {
   "cell_type": "code",
   "execution_count": 120,
   "metadata": {},
   "outputs": [
    {
     "data": {
      "text/plain": [
       "[('Tout', (0, 4)),\n",
       " ('ĠÃªtre', (4, 9)),\n",
       " ('Ġhumain', (9, 16)),\n",
       " ('Ġest', (16, 20)),\n",
       " ('Ġle', (20, 23)),\n",
       " ('ĠrÃ©sultat', (23, 32)),\n",
       " ('Ġd', (32, 34)),\n",
       " ('âĢĻ', (34, 35)),\n",
       " ('un', (35, 37)),\n",
       " ('ĠpÃ¨re', (37, 42)),\n",
       " ('Ġet', (42, 45)),\n",
       " ('Ġune', (45, 49)),\n",
       " ('ĠmÃ¨re', (49, 54)),\n",
       " ('.', (54, 55))]"
      ]
     },
     "execution_count": 120,
     "metadata": {},
     "output_type": "execute_result"
    }
   ],
   "source": [
    "# let us test the pre-tokenizer with a random sentence\n",
    "bpe_tokenizer.pre_tokenizer.pre_tokenize_str(french_sentences[0])"
   ]
  },
  {
   "attachments": {},
   "cell_type": "markdown",
   "metadata": {},
   "source": [
    "- If using the decoder part of the transformer is the GPT-2 model then we need a end-to-text token. Let us initialize the bpe trainer with a vocab size of `10000`."
   ]
  },
  {
   "cell_type": "code",
   "execution_count": 16,
   "metadata": {},
   "outputs": [],
   "source": [
    "bpe_trainer = trainers.BpeTrainer(vocab_size = 10000, special_tokens = [\"<|endoftext|>\"])"
   ]
  },
  {
   "attachments": {},
   "cell_type": "markdown",
   "metadata": {},
   "source": [
    "- Let us add the batch iterator to the trainer and test on a sample"
   ]
  },
  {
   "attachments": {},
   "cell_type": "markdown",
   "metadata": {},
   "source": [
    "Let us test for the french corpus and after with the wolof corpus."
   ]
  },
  {
   "attachments": {},
   "cell_type": "markdown",
   "metadata": {},
   "source": [
    "1. On the french corpus"
   ]
  },
  {
   "cell_type": "code",
   "execution_count": 123,
   "metadata": {},
   "outputs": [],
   "source": [
    "bpe_tokenizer.train_from_iterator(load_french_sentences(), trainer=bpe_trainer)"
   ]
  },
  {
   "attachments": {},
   "cell_type": "markdown",
   "metadata": {},
   "source": [
    "Let us use a decoder to decode the ids."
   ]
  },
  {
   "cell_type": "code",
   "execution_count": 124,
   "metadata": {},
   "outputs": [],
   "source": [
    "bpe_tokenizer.decoder = decoders.ByteLevel()"
   ]
  },
  {
   "cell_type": "code",
   "execution_count": 125,
   "metadata": {},
   "outputs": [
    {
     "name": "stdout",
     "output_type": "stream",
     "text": [
      "For the following sentence:\n",
      "Nous frappions à nouveau, jusqu’à en avoir mal aux mains, comme si nous combattions un ennemi invisible.\n",
      "We obtain the following:\n",
      "- Tokens: ['Nous', 'Ġfrappions', 'ĠÃł', 'Ġnouveau', ',', 'Ġjusqu', 'âĢĻ', 'Ãł', 'Ġen', 'Ġavoir', 'Ġmal', 'Ġaux', 'Ġmains', ',', 'Ġcomme', 'Ġsi', 'Ġnous', 'Ġcombattions', 'Ġun', 'Ġennemi', 'Ġinvisible', '.']\n",
      "- Ids: [569, 2286, 137, 1134, 5, 486, 103, 129, 147, 1596, 450, 377, 1087, 5, 303, 403, 262, 8790, 185, 4249, 3049, 7]\n",
      "- Attention masks: [1, 1, 1, 1, 1, 1, 1, 1, 1, 1, 1, 1, 1, 1, 1, 1, 1, 1, 1, 1, 1, 1]\n",
      "- Decoded tokens: Nous frappions à nouveau, jusqu’à en avoir mal aux mains, comme si nous combattions un ennemi invisible.\n",
      "-------------\n",
      "For the following sentence:\n",
      "Cela va de la frontière avec le Cameroun sous mandat français, au sud-est, jusqu’aux confins de l’Adamawa au nord, et comprend la plus grande partie des chefferies et des petits royaumes qui ont échappé à l’autorité directe de l’Angleterre après le départ des Allemands : Kantu, Abong, Nkom, Bum, Foumban, Bali.\n",
      "We obtain the following:\n",
      "- Tokens: ['Cela', 'Ġva', 'Ġde', 'Ġla', 'ĠfrontiÃ¨re', 'Ġavec', 'Ġle', 'ĠCameroun', 'Ġsous', 'Ġmandat', 'ĠfranÃ§ais', ',', 'Ġau', 'Ġsud', '-', 'est', ',', 'Ġjusqu', 'âĢĻ', 'aux', 'Ġconfins', 'Ġde', 'Ġl', 'âĢĻ', 'Adamawa', 'Ġau', 'Ġnord', ',', 'Ġet', 'Ġcomprend', 'Ġla', 'Ġplus', 'Ġgrande', 'Ġpartie', 'Ġdes', 'Ġchefferies', 'Ġet', 'Ġdes', 'Ġpetits', 'Ġroyaumes', 'Ġqui', 'Ġont', 'ĠÃ©chappÃ©', 'ĠÃł', 'Ġl', 'âĢĻ', 'autoritÃ©', 'Ġdirecte', 'Ġde', 'Ġl', 'âĢĻ', 'Angleterre', 'ĠaprÃ¨s', 'Ġle', 'ĠdÃ©part', 'Ġdes', 'ĠAllemands', 'Ġ:', 'ĠKantu', ',', 'ĠAbong', ',', 'ĠNkom', ',', 'ĠBum', ',', 'ĠFoumban', ',', 'ĠBali', '.']\n",
      "- Ids: [1523, 814, 111, 117, 1940, 242, 145, 598, 462, 4178, 1689, 5, 150, 1463, 6, 173, 5, 486, 103, 422, 7316, 111, 98, 103, 3067, 150, 1282, 5, 136, 7356, 117, 272, 1039, 1204, 142, 6606, 136, 142, 1471, 2364, 172, 531, 4218, 137, 98, 103, 1444, 6960, 111, 98, 103, 1522, 508, 145, 1479, 142, 3012, 302, 6708, 5, 7783, 5, 4262, 5, 3624, 5, 4480, 5, 3629, 7]\n",
      "- Attention masks: [1, 1, 1, 1, 1, 1, 1, 1, 1, 1, 1, 1, 1, 1, 1, 1, 1, 1, 1, 1, 1, 1, 1, 1, 1, 1, 1, 1, 1, 1, 1, 1, 1, 1, 1, 1, 1, 1, 1, 1, 1, 1, 1, 1, 1, 1, 1, 1, 1, 1, 1, 1, 1, 1, 1, 1, 1, 1, 1, 1, 1, 1, 1, 1, 1, 1, 1, 1, 1, 1]\n",
      "- Decoded tokens: Cela va de la frontière avec le Cameroun sous mandat français, au sud-est, jusqu’aux confins de l’Adamawa au nord, et comprend la plus grande partie des chefferies et des petits royaumes qui ont échappé à l’autorité directe de l’Angleterre après le départ des Allemands : Kantu, Abong, Nkom, Bum, Foumban, Bali.\n",
      "-------------\n",
      "For the following sentence:\n",
      "À partir de mars 1932, mon père et ma mère quittent la résidence de Forestry House à Bamenda et s’installent dans la montagne, à Banso, où un hôpital doit être créé.\n",
      "We obtain the following:\n",
      "- Tokens: ['ÃĢ', 'Ġpartir', 'Ġde', 'Ġmars', 'Ġ1932', ',', 'Ġmon', 'ĠpÃ¨re', 'Ġet', 'Ġma', 'ĠmÃ¨re', 'Ġquittent', 'Ġla', 'ĠrÃ©sidence', 'Ġde', 'ĠForestry', 'ĠHouse', 'ĠÃł', 'ĠBamenda', 'Ġet', 'Ġs', 'âĢĻ', 'installent', 'Ġdans', 'Ġla', 'Ġmontagne', ',', 'ĠÃł', 'ĠBanso', ',', 'ĠoÃ¹', 'Ġun', 'ĠhÃ´pital', 'Ġdoit', 'ĠÃªtre', 'ĠcrÃ©Ã©', '.']\n",
      "- Ids: [457, 1047, 111, 6313, 8332, 5, 188, 209, 136, 243, 296, 8759, 117, 4210, 111, 1519, 1489, 137, 926, 136, 109, 103, 8329, 169, 117, 1327, 5, 137, 827, 5, 250, 185, 2637, 1009, 517, 2939, 7]\n",
      "- Attention masks: [1, 1, 1, 1, 1, 1, 1, 1, 1, 1, 1, 1, 1, 1, 1, 1, 1, 1, 1, 1, 1, 1, 1, 1, 1, 1, 1, 1, 1, 1, 1, 1, 1, 1, 1, 1, 1]\n",
      "- Decoded tokens: À partir de mars 1932, mon père et ma mère quittent la résidence de Forestry House à Bamenda et s’installent dans la montagne, à Banso, où un hôpital doit être créé.\n",
      "-------------\n",
      "For the following sentence:\n",
      "Quelque chose m’a été donné, quelque chose m’a été repris.\n",
      "We obtain the following:\n",
      "- Tokens: ['Quelque', 'Ġchose', 'Ġm', 'âĢĻ', 'a', 'ĠÃ©tÃ©', 'ĠdonnÃ©', ',', 'Ġquelque', 'Ġchose', 'Ġm', 'âĢĻ', 'a', 'ĠÃ©tÃ©', 'Ġrepris', '.']\n",
      "- Ids: [2917, 719, 112, 103, 47, 689, 3987, 5, 716, 719, 112, 103, 47, 689, 3520, 7]\n",
      "- Attention masks: [1, 1, 1, 1, 1, 1, 1, 1, 1, 1, 1, 1, 1, 1, 1, 1]\n",
      "- Decoded tokens: Quelque chose m’a été donné, quelque chose m’a été repris.\n",
      "-------------\n",
      "For the following sentence:\n",
      "Peut-être que nous avons pensé, comme tous les enfants, que nous allions y mourir.\n",
      "We obtain the following:\n",
      "- Tokens: ['Peut', '-', 'Ãªtre', 'Ġque', 'Ġnous', 'Ġavons', 'ĠpensÃ©', ',', 'Ġcomme', 'Ġtous', 'Ġles', 'Ġenfants', ',', 'Ġque', 'Ġnous', 'Ġallions', 'Ġy', 'Ġmourir', '.']\n",
      "- Ids: [1225, 6, 324, 180, 262, 1034, 2262, 5, 303, 637, 131, 361, 5, 180, 262, 4025, 346, 1695, 7]\n",
      "- Attention masks: [1, 1, 1, 1, 1, 1, 1, 1, 1, 1, 1, 1, 1, 1, 1, 1, 1, 1, 1]\n",
      "- Decoded tokens: Peut-être que nous avons pensé, comme tous les enfants, que nous allions y mourir.\n",
      "-------------\n",
      "For the following sentence:\n",
      "À la même époque, il suivait à la radio, jour après jour, les combats des Kikuyus au Kenya en vue de l’indépendance et la lutte des Zoulous contre la ségrégation raciale en Afrique du Sud.\n",
      "We obtain the following:\n",
      "- Tokens: ['ÃĢ', 'Ġla', 'ĠmÃªme', 'ĠÃ©poque', ',', 'Ġil', 'Ġsuivait', 'ĠÃł', 'Ġla', 'Ġradio', ',', 'Ġjour', 'ĠaprÃ¨s', 'Ġjour', ',', 'Ġles', 'Ġcombats', 'Ġdes', 'ĠKikuyus', 'Ġau', 'ĠKenya', 'Ġen', 'Ġvue', 'Ġde', 'Ġl', 'âĢĻ', 'indÃ©pendance', 'Ġet', 'Ġla', 'Ġlutte', 'Ġdes', 'ĠZoulous', 'Ġcontre', 'Ġla', 'ĠsÃ©grÃ©gation', 'Ġraciale', 'Ġen', 'ĠAfrique', 'Ġdu', 'ĠSud', '.']\n",
      "- Ids: [457, 117, 364, 1668, 5, 187, 4007, 137, 117, 2342, 5, 452, 508, 452, 5, 131, 7525, 142, 9392, 150, 4366, 147, 2546, 111, 98, 103, 1913, 136, 117, 3242, 142, 8414, 787, 117, 9012, 3901, 147, 646, 178, 2221, 7]\n",
      "- Attention masks: [1, 1, 1, 1, 1, 1, 1, 1, 1, 1, 1, 1, 1, 1, 1, 1, 1, 1, 1, 1, 1, 1, 1, 1, 1, 1, 1, 1, 1, 1, 1, 1, 1, 1, 1, 1, 1, 1, 1, 1, 1]\n",
      "- Decoded tokens: À la même époque, il suivait à la radio, jour après jour, les combats des Kikuyus au Kenya en vue de l’indépendance et la lutte des Zoulous contre la ségrégation raciale en Afrique du Sud.\n",
      "-------------\n",
      "For the following sentence:\n",
      "Image caractéristique de la Colonie : des voyageurs européens, vêtus de blanc et coiffés du casque Cawnpore, sont débarqués dans une nacelle et transportés jusqu’à terre à bord d’une pirogue montée par des Noirs.\n",
      "We obtain the following:\n",
      "- Tokens: ['Image', 'ĠcaractÃ©ristique', 'Ġde', 'Ġla', 'ĠColonie', 'Ġ:', 'Ġdes', 'Ġvoyageurs', 'ĠeuropÃ©ens', ',', 'ĠvÃªtus', 'Ġde', 'Ġblanc', 'Ġet', 'ĠcoiffÃ©s', 'Ġdu', 'Ġcasque', 'ĠCawnpore', ',', 'Ġsont', 'ĠdÃ©barquÃ©s', 'Ġdans', 'Ġune', 'Ġnacelle', 'Ġet', 'ĠtransportÃ©s', 'Ġjusqu', 'âĢĻ', 'Ãł', 'Ġterre', 'ĠÃł', 'Ġbord', 'Ġd', 'âĢĻ', 'une', 'Ġpirogue', 'ĠmontÃ©e', 'Ġpar', 'Ġdes', 'ĠNoirs', '.']\n",
      "- Ids: [8398, 9337, 111, 117, 4260, 302, 142, 7577, 4225, 5, 2327, 111, 1326, 136, 4312, 178, 3753, 4469, 5, 306, 8043, 169, 197, 8182, 136, 8041, 486, 103, 129, 579, 137, 659, 96, 103, 313, 1346, 3734, 162, 142, 6139, 7]\n",
      "- Attention masks: [1, 1, 1, 1, 1, 1, 1, 1, 1, 1, 1, 1, 1, 1, 1, 1, 1, 1, 1, 1, 1, 1, 1, 1, 1, 1, 1, 1, 1, 1, 1, 1, 1, 1, 1, 1, 1, 1, 1, 1, 1]\n",
      "- Decoded tokens: Image caractéristique de la Colonie : des voyageurs européens, vêtus de blanc et coiffés du casque Cawnpore, sont débarqués dans une nacelle et transportés jusqu’à terre à bord d’une pirogue montée par des Noirs.\n",
      "-------------\n",
      "For the following sentence:\n",
      "À la chute d’Aba (non loin de l’ancien sanctuaire des guerriers magiciens d’Aro Chuku), le Biafra entre dans une longue agonie.\n",
      "We obtain the following:\n",
      "- Tokens: ['ÃĢ', 'Ġla', 'Ġchute', 'Ġd', 'âĢĻ', 'Aba', 'Ġ(', 'non', 'Ġloin', 'Ġde', 'Ġl', 'âĢĻ', 'ancien', 'Ġsanctuaire', 'Ġdes', 'Ġguerriers', 'Ġmagiciens', 'Ġd', 'âĢĻ', 'Aro', 'ĠChuku', '),', 'Ġle', 'ĠBiafra', 'Ġentre', 'Ġdans', 'Ġune', 'Ġlongue', 'Ġagonie', '.']\n",
      "- Ids: [457, 117, 4252, 96, 103, 7590, 407, 3160, 491, 111, 98, 103, 6452, 3035, 142, 2335, 7499, 96, 103, 2372, 2319, 669, 145, 1957, 785, 169, 197, 1648, 7025, 7]\n",
      "- Attention masks: [1, 1, 1, 1, 1, 1, 1, 1, 1, 1, 1, 1, 1, 1, 1, 1, 1, 1, 1, 1, 1, 1, 1, 1, 1, 1, 1, 1, 1, 1]\n",
      "- Decoded tokens: À la chute d’Aba (non loin de l’ancien sanctuaire des guerriers magiciens d’Aro Chuku), le Biafra entre dans une longue agonie.\n",
      "-------------\n",
      "For the following sentence:\n",
      "Quand je suis revenu des terres indiennes, mon père était déjà malade, enfermé dans son silence obstiné.\n",
      "We obtain the following:\n",
      "- Tokens: ['Quand', 'Ġje', 'Ġsuis', 'Ġrevenu', 'Ġdes', 'Ġterres', 'Ġindiennes', ',', 'Ġmon', 'ĠpÃ¨re', 'ĠÃ©tait', 'ĠdÃ©jÃł', 'Ġmalade', ',', 'ĠenfermÃ©', 'Ġdans', 'Ġson', 'Ġsilence', 'ĠobstinÃ©', '.']\n",
      "- Ids: [881, 221, 655, 3904, 142, 3857, 7048, 5, 188, 209, 353, 1630, 1862, 5, 8586, 169, 233, 1066, 8564, 7]\n",
      "- Attention masks: [1, 1, 1, 1, 1, 1, 1, 1, 1, 1, 1, 1, 1, 1, 1, 1, 1, 1, 1, 1]\n",
      "- Decoded tokens: Quand je suis revenu des terres indiennes, mon père était déjà malade, enfermé dans son silence obstiné.\n",
      "-------------\n",
      "For the following sentence:\n",
      "En contrebas, dans la vallée, non loin des prisons, se trouve la ville haoussa avec ses remparts de pisé et ses hautes portes, telle qu’elle était au temps de la gloire de l’Adamawa.\n",
      "We obtain the following:\n",
      "- Tokens: ['En', 'Ġcontrebas', ',', 'Ġdans', 'Ġla', 'ĠvallÃ©e', ',', 'Ġnon', 'Ġloin', 'Ġdes', 'Ġprisons', ',', 'Ġse', 'Ġtrouve', 'Ġla', 'Ġville', 'Ġhaoussa', 'Ġavec', 'Ġses', 'Ġremparts', 'Ġde', 'ĠpisÃ©', 'Ġet', 'Ġses', 'Ġhautes', 'Ġportes', ',', 'Ġtelle', 'Ġqu', 'âĢĻ', 'elle', 'ĠÃ©tait', 'Ġau', 'Ġtemps', 'Ġde', 'Ġla', 'Ġgloire', 'Ġde', 'Ġl', 'âĢĻ', 'Adamawa', '.']\n",
      "- Ids: [693, 6961, 5, 169, 117, 4328, 5, 564, 491, 142, 7306, 5, 284, 2952, 117, 969, 8556, 242, 305, 4489, 111, 2292, 136, 305, 1348, 1646, 5, 1396, 118, 103, 234, 353, 150, 370, 111, 117, 7514, 111, 98, 103, 3067, 7]\n",
      "- Attention masks: [1, 1, 1, 1, 1, 1, 1, 1, 1, 1, 1, 1, 1, 1, 1, 1, 1, 1, 1, 1, 1, 1, 1, 1, 1, 1, 1, 1, 1, 1, 1, 1, 1, 1, 1, 1, 1, 1, 1, 1, 1, 1]\n",
      "- Decoded tokens: En contrebas, dans la vallée, non loin des prisons, se trouve la ville haoussa avec ses remparts de pisé et ses hautes portes, telle qu’elle était au temps de la gloire de l’Adamawa.\n",
      "-------------\n"
     ]
    }
   ],
   "source": [
    "# tokenize a sample (let us take 10 sentences) and print the results\n",
    "for i in range(10):\n",
    "    \n",
    "    sentence = random.choice(french_sentences) \n",
    "    \n",
    "    print(f\"For the following sentence:\\n{sentence}\")\n",
    "    \n",
    "    print(\"We obtain the following:\")\n",
    "    \n",
    "    french_encoding = bpe_tokenizer.encode(sentence)\n",
    "    \n",
    "    print(f\"- Tokens: {french_encoding.tokens}\")\n",
    "    \n",
    "    print(f\"- Ids: {french_encoding.ids}\")\n",
    "    \n",
    "    print(f\"- Attention masks: {french_encoding.attention_mask}\")\n",
    "    \n",
    "    print(f\"- Decoded tokens: {bpe_tokenizer.decode(french_encoding.ids)}\")\n",
    "\n",
    "    print(\"-------------\")\n",
    "    "
   ]
  },
  {
   "attachments": {},
   "cell_type": "markdown",
   "metadata": {},
   "source": [
    "We can test it on a pair of sentences as follows (for 2 sentences):"
   ]
  },
  {
   "cell_type": "code",
   "execution_count": 126,
   "metadata": {},
   "outputs": [
    {
     "name": "stdout",
     "output_type": "stream",
     "text": [
      "['Nous frappions à nouveau, jusqu’à en avoir mal aux mains, comme si nous combattions un ennemi invisible.', 'Cela va de la frontière avec le Cameroun sous mandat français, au sud-est, jusqu’aux confins de l’Adamawa au nord, et comprend la plus grande partie des chefferies et des petits royaumes qui ont échappé à l’autorité directe de l’Angleterre après le départ des Allemands : Kantu, Abong, Nkom, Bum, Foumban, Bali.']\n",
      "['Nous', 'Ġfrappions', 'ĠÃł', 'Ġnouveau', ',', 'Ġjusqu', 'âĢĻ', 'Ãł', 'Ġen', 'Ġavoir', 'Ġmal', 'Ġaux', 'Ġmains', ',', 'Ġcomme', 'Ġsi', 'Ġnous', 'Ġcombattions', 'Ġun', 'Ġennemi', 'Ġinvisible', '.', 'Cela', 'Ġva', 'Ġde', 'Ġla', 'ĠfrontiÃ¨re', 'Ġavec', 'Ġle', 'ĠCameroun', 'Ġsous', 'Ġmandat', 'ĠfranÃ§ais', ',', 'Ġau', 'Ġsud', '-', 'est', ',', 'Ġjusqu', 'âĢĻ', 'aux', 'Ġconfins', 'Ġde', 'Ġl', 'âĢĻ', 'Adamawa', 'Ġau', 'Ġnord', ',', 'Ġet', 'Ġcomprend', 'Ġla', 'Ġplus', 'Ġgrande', 'Ġpartie', 'Ġdes', 'Ġchefferies', 'Ġet', 'Ġdes', 'Ġpetits', 'Ġroyaumes', 'Ġqui', 'Ġont', 'ĠÃ©chappÃ©', 'ĠÃł', 'Ġl', 'âĢĻ', 'autoritÃ©', 'Ġdirecte', 'Ġde', 'Ġl', 'âĢĻ', 'Angleterre', 'ĠaprÃ¨s', 'Ġle', 'ĠdÃ©part', 'Ġdes', 'ĠAllemands', 'Ġ:', 'ĠKantu', ',', 'ĠAbong', ',', 'ĠNkom', ',', 'ĠBum', ',', 'ĠFoumban', ',', 'ĠBali', '.']\n",
      "[569, 2286, 137, 1134, 5, 486, 103, 129, 147, 1596, 450, 377, 1087, 5, 303, 403, 262, 8790, 185, 4249, 3049, 7, 1523, 814, 111, 117, 1940, 242, 145, 598, 462, 4178, 1689, 5, 150, 1463, 6, 173, 5, 486, 103, 422, 7316, 111, 98, 103, 3067, 150, 1282, 5, 136, 7356, 117, 272, 1039, 1204, 142, 6606, 136, 142, 1471, 2364, 172, 531, 4218, 137, 98, 103, 1444, 6960, 111, 98, 103, 1522, 508, 145, 1479, 142, 3012, 302, 6708, 5, 7783, 5, 4262, 5, 3624, 5, 4480, 5, 3629, 7]\n"
     ]
    }
   ],
   "source": [
    "random.seed(100)\n",
    "\n",
    "sentences = [random.choice(french_sentences) for i in range(2)]\n",
    "\n",
    "encoding = bpe_tokenizer.encode(*sentences)\n",
    "\n",
    "print(sentences)\n",
    "print(encoding.tokens)\n",
    "print(encoding.ids)"
   ]
  },
  {
   "cell_type": "code",
   "execution_count": 127,
   "metadata": {},
   "outputs": [
    {
     "data": {
      "text/plain": [
       "9550"
      ]
     },
     "execution_count": 127,
     "metadata": {},
     "output_type": "execute_result"
    }
   ],
   "source": [
    "bpe_tokenizer.get_vocab_size()"
   ]
  },
  {
   "attachments": {},
   "cell_type": "markdown",
   "metadata": {},
   "source": [
    "We have 9550 tokens in the French corpus."
   ]
  },
  {
   "attachments": {},
   "cell_type": "markdown",
   "metadata": {},
   "source": [
    "- On the Wolof corpus (For the next we will do this separately for each corpus)"
   ]
  },
  {
   "cell_type": "code",
   "execution_count": 128,
   "metadata": {},
   "outputs": [],
   "source": [
    "bpe_tokenizer.train_from_iterator(load_wolof_sentences(), trainer=bpe_trainer)\n"
   ]
  },
  {
   "cell_type": "code",
   "execution_count": 129,
   "metadata": {},
   "outputs": [
    {
     "name": "stdout",
     "output_type": "stream",
     "text": [
      "For the following sentence:\n",
      "Ci weeru mars 1932 la samay way-jur jóge Forestry House ca Bamendaa, dem dëkki Bansoo, fa nguur gi waroon a tabax ab fajukaay.\n",
      "We obtain the following:\n"
     ]
    },
    {
     "ename": "PanicException",
     "evalue": "no entry found for key",
     "output_type": "error",
     "traceback": [
      "\u001b[1;31m---------------------------------------------------------------------------\u001b[0m",
      "\u001b[1;31mPanicException\u001b[0m                            Traceback (most recent call last)",
      "\u001b[1;32md:\\Oumar\\Seagate1\\IA data forest\\master semestre 3\\Préparation mémoire\\preparation\\some_tests\\subject2\\execise_gpt2.ipynb Cell 46\u001b[0m in \u001b[0;36m1\n\u001b[0;32m      <a href='vscode-notebook-cell:/d%3A/Oumar/Seagate1/IA%20data%20forest/master%20semestre%203/Pr%C3%A9paration%20m%C3%A9moire/preparation/some_tests/subject2/execise_gpt2.ipynb#Y112sZmlsZQ%3D%3D?line=5'>6</a>\u001b[0m \u001b[39mprint\u001b[39m(\u001b[39mf\u001b[39m\u001b[39m\"\u001b[39m\u001b[39mFor the following sentence:\u001b[39m\u001b[39m\\n\u001b[39;00m\u001b[39m{\u001b[39;00msentence\u001b[39m}\u001b[39;00m\u001b[39m\"\u001b[39m)\n\u001b[0;32m      <a href='vscode-notebook-cell:/d%3A/Oumar/Seagate1/IA%20data%20forest/master%20semestre%203/Pr%C3%A9paration%20m%C3%A9moire/preparation/some_tests/subject2/execise_gpt2.ipynb#Y112sZmlsZQ%3D%3D?line=7'>8</a>\u001b[0m \u001b[39mprint\u001b[39m(\u001b[39m\"\u001b[39m\u001b[39mWe obtain the following:\u001b[39m\u001b[39m\"\u001b[39m)\n\u001b[1;32m---> <a href='vscode-notebook-cell:/d%3A/Oumar/Seagate1/IA%20data%20forest/master%20semestre%203/Pr%C3%A9paration%20m%C3%A9moire/preparation/some_tests/subject2/execise_gpt2.ipynb#Y112sZmlsZQ%3D%3D?line=9'>10</a>\u001b[0m wolof_encoding \u001b[39m=\u001b[39m bpe_tokenizer\u001b[39m.\u001b[39;49mencode(sentence)\n\u001b[0;32m     <a href='vscode-notebook-cell:/d%3A/Oumar/Seagate1/IA%20data%20forest/master%20semestre%203/Pr%C3%A9paration%20m%C3%A9moire/preparation/some_tests/subject2/execise_gpt2.ipynb#Y112sZmlsZQ%3D%3D?line=11'>12</a>\u001b[0m \u001b[39mprint\u001b[39m(\u001b[39mf\u001b[39m\u001b[39m\"\u001b[39m\u001b[39m- Tokens: \u001b[39m\u001b[39m{\u001b[39;00mwolof_encoding\u001b[39m.\u001b[39mtokens\u001b[39m}\u001b[39;00m\u001b[39m\"\u001b[39m)\n\u001b[0;32m     <a href='vscode-notebook-cell:/d%3A/Oumar/Seagate1/IA%20data%20forest/master%20semestre%203/Pr%C3%A9paration%20m%C3%A9moire/preparation/some_tests/subject2/execise_gpt2.ipynb#Y112sZmlsZQ%3D%3D?line=13'>14</a>\u001b[0m \u001b[39mprint\u001b[39m(\u001b[39mf\u001b[39m\u001b[39m\"\u001b[39m\u001b[39m- Ids: \u001b[39m\u001b[39m{\u001b[39;00mwolof_encoding\u001b[39m.\u001b[39mids\u001b[39m}\u001b[39;00m\u001b[39m\"\u001b[39m)\n",
      "\u001b[1;31mPanicException\u001b[0m: no entry found for key"
     ]
    }
   ],
   "source": [
    "# tokenize a sample (let us take 10 sentences) and print the results\n",
    "for i in range(10):\n",
    "    \n",
    "    sentence = random.choice(wolof_sentences) \n",
    "    \n",
    "    print(f\"For the following sentence:\\n{sentence}\")\n",
    "    \n",
    "    print(\"We obtain the following:\")\n",
    "    \n",
    "    wolof_encoding = bpe_tokenizer.encode(sentence)\n",
    "    \n",
    "    print(f\"- Tokens: {wolof_encoding.tokens}\")\n",
    "    \n",
    "    print(f\"- Ids: {wolof_encoding.ids}\")\n",
    "    \n",
    "    print(f\"- Attention masks: {wolof_encoding.attention_mask}\")\n",
    "    \n",
    "    print(f\"- Decoded tokens: {bpe_tokenizer.decode(wolof_encoding.ids)}\")\n",
    "\n",
    "    print(\"-------------\")\n",
    "    "
   ]
  },
  {
   "attachments": {},
   "cell_type": "markdown",
   "metadata": {},
   "source": [
    "We see an error indicating that some wolof tokens are not identified since we already had trained the tokenizer on the french corpus and obtained 10000 when adding some wolof tokens. Let us train another tokenizer for the wolof corpus."
   ]
  },
  {
   "cell_type": "code",
   "execution_count": 17,
   "metadata": {},
   "outputs": [],
   "source": [
    "bpe_tokenizer2 = Tokenizer(models.BPE())\n",
    "\n",
    "# add a byte level pre-tokenizer and specify that we will not a space to the first word\n",
    "bpe_tokenizer2.pre_tokenizer = pre_tokenizers.ByteLevel(add_prefix_space=False)\n",
    "\n",
    "bpe_tokenizer2.train_from_iterator(load_wolof_sentences(), trainer=bpe_trainer)\n",
    "\n",
    "bpe_tokenizer2.decoder = decoders.ByteLevel()"
   ]
  },
  {
   "cell_type": "code",
   "execution_count": 18,
   "metadata": {},
   "outputs": [
    {
     "name": "stdout",
     "output_type": "stream",
     "text": [
      "For the following sentence:\n",
      "Bu ñu agsee ci dëkk, ndawal buur bee leen di teerusi, dalal leen ca pénc ma, ñu portalewu ak buur beek i dagam.\n",
      "We obtain the following:\n",
      "- Tokens: ['Bu', 'ĠÃ±u', 'Ġagsee', 'Ġci', 'ĠdÃ«kk', ',', 'Ġndawal', 'Ġbuur', 'Ġbee', 'Ġleen', 'Ġdi', 'Ġteerusi', ',', 'Ġdalal', 'Ġleen', 'Ġca', 'ĠpÃ©nc', 'Ġma', ',', 'ĠÃ±u', 'Ġportalewu', 'Ġak', 'Ġbuur', 'Ġbeek', 'Ġi', 'Ġdagam', '.']\n",
      "- Ids: [1269, 154, 3381, 116, 239, 4, 3241, 1330, 1100, 205, 133, 3501, 4, 1353, 205, 189, 3634, 126, 4, 154, 6139, 144, 1330, 958, 175, 4568, 6]\n",
      "- Attention masks: [1, 1, 1, 1, 1, 1, 1, 1, 1, 1, 1, 1, 1, 1, 1, 1, 1, 1, 1, 1, 1, 1, 1, 1, 1, 1, 1]\n",
      "- Decoded tokens: Bu ñu agsee ci dëkk, ndawal buur bee leen di teerusi, dalal leen ca pénc ma, ñu portalewu ak buur beek i dagam.\n",
      "-------------\n",
      "For the following sentence:\n",
      "Ñax mi muur joor gi dafa bare ba may fàttali géej, xóot te raglu ni moom.\n",
      "We obtain the following:\n",
      "- Tokens: ['Ãĳax', 'Ġmi', 'Ġmuur', 'Ġjoor', 'Ġgi', 'Ġdafa', 'Ġbare', 'Ġba', 'Ġmay', 'ĠfÃłttali', 'ĠgÃ©ej', ',', 'ĠxÃ³ot', 'Ġte', 'Ġraglu', 'Ġni', 'Ġmoom', '.']\n",
      "- Ids: [5158, 275, 1210, 1030, 158, 398, 637, 138, 273, 449, 923, 4, 2289, 150, 1364, 124, 252, 6]\n",
      "- Attention masks: [1, 1, 1, 1, 1, 1, 1, 1, 1, 1, 1, 1, 1, 1, 1, 1, 1, 1]\n",
      "- Decoded tokens: Ñax mi muur joor gi dafa bare ba may fàttali géej, xóot te raglu ni moom.\n",
      "-------------\n",
      "For the following sentence:\n",
      "Xamuma dara ci samag juddu (war naa naa cee bariy moroom…) waaye su ma daagoo ba fa gën a sore ci man, seen kàttan googoo may feeñu ak pëndaxit bi seen yaram di togg ak a toggaat, mu jaxasoo ba indi jëmmu doom-aadama.\n",
      "We obtain the following:\n",
      "- Tokens: ['Xamuma', 'Ġdara', 'Ġci', 'Ġsamag', 'Ġjuddu', 'Ġ(', 'war', 'Ġnaa', 'Ġnaa', 'Ġcee', 'Ġbariy', 'Ġmoroom', 'âĢ¦)', 'Ġwaaye', 'Ġsu', 'Ġma', 'Ġdaagoo', 'Ġba', 'Ġfa', 'ĠgÃ«n', 'Ġa', 'Ġsore', 'Ġci', 'Ġman', ',', 'Ġseen', 'ĠkÃłttan', 'Ġgoogoo', 'Ġmay', 'ĠfeeÃ±u', 'Ġak', 'ĠpÃ«ndaxit', 'Ġbi', 'Ġseen', 'Ġyaram', 'Ġdi', 'Ġtogg', 'Ġak', 'Ġa', 'Ġtoggaat', ',', 'Ġmu', 'Ġjaxasoo', 'Ġba', 'Ġindi', 'ĠjÃ«mmu', 'Ġdoom', '-', 'aadama', '.']\n",
      "- Ids: [5630, 330, 116, 2979, 2509, 1176, 2734, 244, 244, 1472, 2038, 829, 5476, 586, 204, 126, 3393, 138, 162, 306, 103, 1005, 116, 542, 4, 173, 1789, 2495, 273, 2018, 144, 5691, 139, 173, 417, 133, 1382, 144, 103, 5878, 4, 129, 2078, 138, 3564, 2590, 314, 5, 665, 6]\n",
      "- Attention masks: [1, 1, 1, 1, 1, 1, 1, 1, 1, 1, 1, 1, 1, 1, 1, 1, 1, 1, 1, 1, 1, 1, 1, 1, 1, 1, 1, 1, 1, 1, 1, 1, 1, 1, 1, 1, 1, 1, 1, 1, 1, 1, 1, 1, 1, 1, 1, 1, 1, 1]\n",
      "- Decoded tokens: Xamuma dara ci samag juddu (war naa naa cee bariy moroom…) waaye su ma daagoo ba fa gën a sore ci man, seen kàttan googoo may feeñu ak pëndaxit bi seen yaram di togg ak a toggaat, mu jaxasoo ba indi jëmmu doom-aadama.\n",
      "-------------\n",
      "For the following sentence:\n",
      "Loolu génn na ci sama xel.\n",
      "We obtain the following:\n",
      "- Tokens: ['Loolu', 'ĠgÃ©nn', 'Ġna', 'Ġci', 'Ġsama', 'Ġxel', '.']\n",
      "- Ids: [1075, 629, 135, 116, 172, 338, 6]\n",
      "- Attention masks: [1, 1, 1, 1, 1, 1, 1]\n",
      "- Decoded tokens: Loolu génn na ci sama xel.\n",
      "-------------\n",
      "For the following sentence:\n",
      "Beneen kërug « District Officer » a nga woon Kamerun ga Farañse yi yilifoon, ca Óbudu, ca taatu tund ya ay dàngin dëkkoon.\n",
      "We obtain the following:\n",
      "- Tokens: ['Beneen', 'ĠkÃ«rug', 'ĠÂ«', 'ĠDistrict', 'ĠOfficer', 'ĠÂ»', 'Ġa', 'Ġnga', 'Ġwoon', 'ĠKamerun', 'Ġga', 'ĠFaraÃ±se', 'Ġyi', 'Ġyilifoon', ',', 'Ġca', 'ĠÃĵbudu', ',', 'Ġca', 'Ġtaatu', 'Ġtund', 'Ġya', 'Ġay', 'ĠdÃłngin', 'ĠdÃ«kkoon', '.']\n",
      "- Ids: [3668, 5014, 321, 1268, 1266, 326, 103, 304, 182, 550, 589, 3130, 137, 3372, 4, 189, 1408, 4, 189, 1656, 1398, 229, 206, 2101, 1724, 6]\n",
      "- Attention masks: [1, 1, 1, 1, 1, 1, 1, 1, 1, 1, 1, 1, 1, 1, 1, 1, 1, 1, 1, 1, 1, 1, 1, 1, 1, 1]\n",
      "- Decoded tokens: Beneen kërug « District Officer » a nga woon Kamerun ga Farañse yi yilifoon, ca Óbudu, ca taatu tund ya ay dàngin dëkkoon.\n",
      "-------------\n",
      "For the following sentence:\n",
      "Mbootaayi xeet yi fexe ba fekk leen fa, door a teg bët ciy ňaawtéef yu kéemaane ya fa Adekunle defoon.\n",
      "We obtain the following:\n",
      "- Tokens: ['Mbootaayi', 'Ġxeet', 'Ġyi', 'Ġfexe', 'Ġba', 'Ġfekk', 'Ġleen', 'Ġfa', ',', 'Ġdoor', 'Ġa', 'Ġteg', 'ĠbÃ«t', 'Ġciy', 'ĠÅĪaawtÃ©ef', 'Ġyu', 'ĠkÃ©emaane', 'Ġya', 'Ġfa', 'ĠAdekunle', 'Ġdefoon', '.']\n",
      "- Ids: [5886, 1494, 137, 2869, 138, 394, 205, 162, 4, 703, 103, 339, 539, 465, 4948, 157, 1405, 229, 162, 2610, 3077, 6]\n",
      "- Attention masks: [1, 1, 1, 1, 1, 1, 1, 1, 1, 1, 1, 1, 1, 1, 1, 1, 1, 1, 1, 1, 1, 1]\n",
      "- Decoded tokens: Mbootaayi xeet yi fexe ba fekk leen fa, door a teg bët ciy ňaawtéef yu kéemaane ya fa Adekunle defoon.\n",
      "-------------\n",
      "For the following sentence:\n",
      "Ngir teeri Bansoo, muy noor di nawet, oto bi day daw cib taliy raŋ-raŋ ba jeexal ko.\n",
      "We obtain the following:\n",
      "- Tokens: ['Ngir', 'Ġteeri', 'ĠBansoo', ',', 'Ġmuy', 'Ġnoor', 'Ġdi', 'Ġnawet', ',', 'Ġoto', 'Ġbi', 'Ġday', 'Ġdaw', 'Ġcib', 'Ġtaliy', 'ĠraÅĭ', '-', 'raÅĭ', 'Ġba', 'Ġjeexal', 'Ġko', '.']\n",
      "- Ids: [2577, 3356, 743, 4, 277, 4089, 133, 6118, 4, 4066, 139, 578, 502, 1488, 3357, 2418, 5, 2716, 138, 2043, 131, 6]\n",
      "- Attention masks: [1, 1, 1, 1, 1, 1, 1, 1, 1, 1, 1, 1, 1, 1, 1, 1, 1, 1, 1, 1, 1, 1]\n",
      "- Decoded tokens: Ngir teeri Bansoo, muy noor di nawet, oto bi day daw cib taliy raŋ-raŋ ba jeexal ko.\n",
      "-------------\n",
      "For the following sentence:\n",
      "Legoos, Ibadaŋ ak Kótónu, naka noonu. Askan yeek làkk yi jaxasoo. Mënoon naa sax limaale Onitsaa ak màrseem ba nga xam ni daanaka téereb nettali bu la réer ci dunyaa soo fa demee ñu jaay la ko. Te ci xeet yooyu ma tudd, Àngale yi kenn demul ñu des. Ni ñu yëge seen bopp, di jaay maanaa, mu méngook seen colin, dafa rekk reelu. Foo séenee ay kompalet ak i sàppo, dóoral yat, ñoom a. Seeni jigéen, ñoom, ñu nga leen doon xàmmee seeni yére yu tegginewul woon lool. Ñoom ñépp nag, Àngale yooyu, di daje ci seeni màkkaani bopp, di wax ay waxi picc. Fàww ñu ràññee ci gaa ñooñu liggéeykati Lloyd’s ya mbaa yu Glynn Mills ak Barclay’s. Foo leen fekk ñu ngay xëcc ci seeni sigaar, lu ñor ñu wax, lu ñorul ñu wax, di jëw ak déeyante. Léeg-léeg kenn ci ñoom ni : « Mbër, neexul ba neexul waaye dëkk bii du dëkku como, de !  » Bóoy yi ñoom, ñu ngiy jaabanteek ay ndab yu ñu teg i kaasi sàngara, ku ne ñu ni la ko jabb te du benn yoon booy dégg seen baat.\n",
      "We obtain the following:\n",
      "- Tokens: ['Legoos', ',', 'ĠIbadaÅĭ', 'Ġak', 'ĠKÃ³tÃ³nu', ',', 'Ġnaka', 'Ġnoonu', '.', 'ĠAskan', 'Ġyeek', 'ĠlÃłkk', 'Ġyi', 'Ġjaxasoo', '.', 'ĠMÃ«noon', 'Ġnaa', 'Ġsax', 'Ġlimaale', 'ĠOnitsaa', 'Ġak', 'ĠmÃłrseem', 'Ġba', 'Ġnga', 'Ġxam', 'Ġni', 'Ġdaanaka', 'ĠtÃ©ereb', 'Ġnettali', 'Ġbu', 'Ġla', 'ĠrÃ©er', 'Ġci', 'Ġdunyaa', 'Ġsoo', 'Ġfa', 'Ġdemee', 'ĠÃ±u', 'Ġjaay', 'Ġla', 'Ġko', '.', 'ĠTe', 'Ġci', 'Ġxeet', 'Ġyooyu', 'Ġma', 'Ġtudd', ',', 'ĠÃĢngale', 'Ġyi', 'Ġkenn', 'Ġdemul', 'ĠÃ±u', 'Ġdes', '.', 'ĠNi', 'ĠÃ±u', 'ĠyÃ«ge', 'Ġseen', 'Ġbopp', ',', 'Ġdi', 'Ġjaay', 'Ġmaanaa', ',', 'Ġmu', 'ĠmÃ©ngook', 'Ġseen', 'Ġcolin', ',', 'Ġdafa', 'Ġrekk', 'Ġreelu', '.', 'ĠFoo', 'ĠsÃ©enee', 'Ġay', 'Ġkompalet', 'Ġak', 'Ġi', 'ĠsÃłppo', ',', 'ĠdÃ³oral', 'Ġyat', ',', 'ĠÃ±oom', 'Ġa', '.', 'ĠSeeni', 'ĠjigÃ©en', ',', 'ĠÃ±oom', ',', 'ĠÃ±u', 'Ġnga', 'Ġleen', 'Ġdoon', 'ĠxÃłmmee', 'Ġseeni', 'ĠyÃ©re', 'Ġyu', 'Ġtegginewul', 'Ġwoon', 'Ġlool', '.', 'ĠÃĳoom', 'ĠÃ±Ã©pp', 'Ġnag', ',', 'ĠÃĢngale', 'Ġyooyu', ',', 'Ġdi', 'Ġdaje', 'Ġci', 'Ġseeni', 'ĠmÃłkkaani', 'Ġbopp', ',', 'Ġdi', 'Ġwax', 'Ġay', 'Ġwaxi', 'Ġpicc', '.', 'ĠFÃłww', 'ĠÃ±u', 'ĠrÃłÃ±Ã±ee', 'Ġci', 'Ġgaa', 'ĠÃ±ooÃ±u', 'ĠliggÃ©eykati', 'ĠLloyd', 'âĢĻ', 's', 'Ġya', 'Ġmbaa', 'Ġyu', 'ĠGlynn', 'ĠMills', 'Ġak', 'ĠBarclay', 'âĢĻ', 's', '.', 'ĠFoo', 'Ġleen', 'Ġfekk', 'ĠÃ±u', 'Ġngay', 'ĠxÃ«cc', 'Ġci', 'Ġseeni', 'Ġsigaar', ',', 'Ġlu', 'ĠÃ±or', 'ĠÃ±u', 'Ġwax', ',', 'Ġlu', 'ĠÃ±orul', 'ĠÃ±u', 'Ġwax', ',', 'Ġdi', 'ĠjÃ«w', 'Ġak', 'ĠdÃ©eyante', '.', 'ĠLÃ©eg', '-', 'lÃ©eg', 'Ġkenn', 'Ġci', 'ĠÃ±oom', 'Ġni', 'Ġ:', 'ĠÂ«', 'ĠMbÃ«r', ',', 'Ġneexul', 'Ġba', 'Ġneexul', 'Ġwaaye', 'ĠdÃ«kk', 'Ġbii', 'Ġdu', 'ĠdÃ«kku', 'Ġcomo', ',', 'Ġde', 'Ġ!', 'Ġ', 'ĠÂ»', 'ĠBÃ³oy', 'Ġyi', 'ĠÃ±oom', ',', 'ĠÃ±u', 'Ġngiy', 'Ġjaabanteek', 'Ġay', 'Ġndab', 'Ġyu', 'ĠÃ±u', 'Ġteg', 'Ġi', 'Ġkaasi', 'ĠsÃłngara', ',', 'Ġku', 'Ġne', 'ĠÃ±u', 'Ġni', 'Ġla', 'Ġko', 'Ġjabb', 'Ġte', 'Ġdu', 'Ġbenn', 'Ġyoon', 'Ġbooy', 'ĠdÃ©gg', 'Ġseen', 'Ġbaat', '.']\n",
      "- Ids: [3735, 4, 5463, 144, 3639, 4, 1124, 664, 6, 6478, 419, 1462, 137, 2078, 6, 3401, 244, 224, 5852, 6950, 144, 5814, 138, 304, 249, 124, 595, 2076, 746, 163, 142, 1126, 116, 783, 606, 162, 887, 154, 678, 142, 131, 6, 612, 116, 1494, 506, 126, 515, 4, 813, 137, 316, 2362, 154, 742, 6, 1347, 154, 2409, 173, 296, 4, 133, 678, 1582, 4, 129, 2540, 173, 6420, 4, 398, 345, 2937, 6, 1540, 5599, 206, 6589, 144, 175, 6003, 4, 5399, 1185, 4, 395, 103, 6, 3460, 432, 4, 395, 4, 154, 304, 205, 191, 1406, 328, 1781, 157, 6473, 182, 386, 6, 1564, 713, 332, 4, 813, 506, 4, 133, 3245, 116, 328, 3527, 296, 4, 133, 248, 206, 1727, 3403, 6, 3128, 154, 2587, 116, 967, 5381, 5270, 6932, 1998, 63, 229, 325, 157, 6955, 6860, 144, 6835, 1998, 63, 6, 1540, 205, 394, 154, 803, 1324, 116, 328, 5009, 4, 180, 2278, 154, 248, 4, 180, 6261, 154, 248, 4, 133, 3143, 144, 6211, 6, 3105, 5, 423, 316, 116, 395, 124, 236, 321, 5537, 4, 1753, 138, 1753, 586, 239, 927, 209, 1527, 6754, 4, 136, 825, 81, 326, 6825, 137, 395, 4, 154, 882, 6250, 206, 1963, 157, 154, 339, 175, 4291, 6402, 4, 282, 207, 154, 124, 142, 131, 5072, 150, 209, 276, 377, 2201, 494, 173, 959, 6]\n",
      "- Attention masks: [1, 1, 1, 1, 1, 1, 1, 1, 1, 1, 1, 1, 1, 1, 1, 1, 1, 1, 1, 1, 1, 1, 1, 1, 1, 1, 1, 1, 1, 1, 1, 1, 1, 1, 1, 1, 1, 1, 1, 1, 1, 1, 1, 1, 1, 1, 1, 1, 1, 1, 1, 1, 1, 1, 1, 1, 1, 1, 1, 1, 1, 1, 1, 1, 1, 1, 1, 1, 1, 1, 1, 1, 1, 1, 1, 1, 1, 1, 1, 1, 1, 1, 1, 1, 1, 1, 1, 1, 1, 1, 1, 1, 1, 1, 1, 1, 1, 1, 1, 1, 1, 1, 1, 1, 1, 1, 1, 1, 1, 1, 1, 1, 1, 1, 1, 1, 1, 1, 1, 1, 1, 1, 1, 1, 1, 1, 1, 1, 1, 1, 1, 1, 1, 1, 1, 1, 1, 1, 1, 1, 1, 1, 1, 1, 1, 1, 1, 1, 1, 1, 1, 1, 1, 1, 1, 1, 1, 1, 1, 1, 1, 1, 1, 1, 1, 1, 1, 1, 1, 1, 1, 1, 1, 1, 1, 1, 1, 1, 1, 1, 1, 1, 1, 1, 1, 1, 1, 1, 1, 1, 1, 1, 1, 1, 1, 1, 1, 1, 1, 1, 1, 1, 1, 1, 1, 1, 1, 1, 1, 1, 1, 1, 1, 1, 1, 1, 1, 1, 1, 1, 1, 1, 1, 1, 1, 1, 1, 1]\n",
      "- Decoded tokens: Legoos, Ibadaŋ ak Kótónu, naka noonu. Askan yeek làkk yi jaxasoo. Mënoon naa sax limaale Onitsaa ak màrseem ba nga xam ni daanaka téereb nettali bu la réer ci dunyaa soo fa demee ñu jaay la ko. Te ci xeet yooyu ma tudd, Àngale yi kenn demul ñu des. Ni ñu yëge seen bopp, di jaay maanaa, mu méngook seen colin, dafa rekk reelu. Foo séenee ay kompalet ak i sàppo, dóoral yat, ñoom a. Seeni jigéen, ñoom, ñu nga leen doon xàmmee seeni yére yu tegginewul woon lool. Ñoom ñépp nag, Àngale yooyu, di daje ci seeni màkkaani bopp, di wax ay waxi picc. Fàww ñu ràññee ci gaa ñooñu liggéeykati Lloyd’s ya mbaa yu Glynn Mills ak Barclay’s. Foo leen fekk ñu ngay xëcc ci seeni sigaar, lu ñor ñu wax, lu ñorul ñu wax, di jëw ak déeyante. Léeg-léeg kenn ci ñoom ni : « Mbër, neexul ba neexul waaye dëkk bii du dëkku como, de !  » Bóoy yi ñoom, ñu ngiy jaabanteek ay ndab yu ñu teg i kaasi sàngara, ku ne ñu ni la ko jabb te du benn yoon booy dégg seen baat.\n",
      "-------------\n",
      "For the following sentence:\n",
      "Xanaa liñ fi tudde woon Xare bu Mag bi. Sunu kër ca Niis : juróomi nit ñuy dankalikoo ci ňaari néeg yu ñu teg i xànq. Juróom-benn lanu woon sax, boo limaalee Mariyaa, mbindaan mi sama maam ju jigéen ne woon, ci xolam bu rafet, du ko wacc mukk ginnaaw. Luy delseeti ci sama xel ? Dëkku kow ba sama yaay war a daw làquji ndax ragal Almaŋ yi jàpp ko… Loolu lépp seey na ba ni mes, dellu mel niy léeb ak lëppóon.\n",
      "We obtain the following:\n",
      "- Tokens: ['Xanaa', 'ĠliÃ±', 'Ġfi', 'Ġtudde', 'Ġwoon', 'ĠXare', 'Ġbu', 'ĠMag', 'Ġbi', '.', 'ĠSunu', 'ĠkÃ«r', 'Ġca', 'ĠNiis', 'Ġ:', 'ĠjurÃ³omi', 'Ġnit', 'ĠÃ±uy', 'Ġdankalikoo', 'Ġci', 'ĠÅĪaari', 'ĠnÃ©eg', 'Ġyu', 'ĠÃ±u', 'Ġteg', 'Ġi', 'ĠxÃłnq', '.', 'ĠJurÃ³om', '-', 'benn', 'Ġlanu', 'Ġwoon', 'Ġsax', ',', 'Ġboo', 'Ġlimaalee', 'ĠMariyaa', ',', 'Ġmbindaan', 'Ġmi', 'Ġsama', 'Ġmaam', 'Ġju', 'ĠjigÃ©en', 'Ġne', 'Ġwoon', ',', 'Ġci', 'Ġxolam', 'Ġbu', 'Ġrafet', ',', 'Ġdu', 'Ġko', 'Ġwacc', 'Ġmukk', 'Ġginnaaw', '.', 'ĠLuy', 'Ġdelseeti', 'Ġci', 'Ġsama', 'Ġxel', 'Ġ?', 'ĠDÃ«kku', 'Ġkow', 'Ġba', 'Ġsama', 'Ġyaay', 'Ġwar', 'Ġa', 'Ġdaw', 'ĠlÃłquji', 'Ġndax', 'Ġragal', 'ĠAlmaÅĭ', 'Ġyi', 'ĠjÃłpp', 'Ġko', 'âĢ¦', 'ĠLoolu', 'ĠlÃ©pp', 'Ġseey', 'Ġna', 'Ġba', 'Ġni', 'Ġmes', ',', 'Ġdellu', 'Ġmel', 'Ġniy', 'ĠlÃ©eb', 'Ġak', 'ĠlÃ«ppÃ³on', '.']\n",
      "- Ids: [2137, 1229, 444, 814, 182, 2443, 163, 3005, 139, 6, 2385, 318, 189, 1136, 236, 2051, 343, 403, 2614, 116, 1357, 532, 157, 154, 339, 175, 6445, 6, 2576, 5, 1421, 1106, 182, 224, 4, 385, 5853, 6127, 4, 3400, 275, 172, 646, 272, 432, 207, 182, 4, 116, 1388, 163, 1748, 4, 209, 131, 6095, 1326, 599, 6, 3107, 6966, 116, 172, 338, 300, 6497, 412, 138, 172, 360, 291, 103, 502, 1785, 409, 1059, 1153, 137, 500, 131, 752, 1142, 353, 2798, 135, 138, 124, 2196, 4, 598, 222, 1123, 1795, 144, 6409, 6]\n",
      "- Attention masks: [1, 1, 1, 1, 1, 1, 1, 1, 1, 1, 1, 1, 1, 1, 1, 1, 1, 1, 1, 1, 1, 1, 1, 1, 1, 1, 1, 1, 1, 1, 1, 1, 1, 1, 1, 1, 1, 1, 1, 1, 1, 1, 1, 1, 1, 1, 1, 1, 1, 1, 1, 1, 1, 1, 1, 1, 1, 1, 1, 1, 1, 1, 1, 1, 1, 1, 1, 1, 1, 1, 1, 1, 1, 1, 1, 1, 1, 1, 1, 1, 1, 1, 1, 1, 1, 1, 1, 1, 1, 1, 1, 1, 1, 1, 1, 1]\n",
      "- Decoded tokens: Xanaa liñ fi tudde woon Xare bu Mag bi. Sunu kër ca Niis : juróomi nit ñuy dankalikoo ci ňaari néeg yu ñu teg i xànq. Juróom-benn lanu woon sax, boo limaalee Mariyaa, mbindaan mi sama maam ju jigéen ne woon, ci xolam bu rafet, du ko wacc mukk ginnaaw. Luy delseeti ci sama xel ? Dëkku kow ba sama yaay war a daw làquji ndax ragal Almaŋ yi jàpp ko… Loolu lépp seey na ba ni mes, dellu mel niy léeb ak lëppóon.\n",
      "-------------\n",
      "For the following sentence:\n",
      "Téere boobu bokkoon na, xam naa, ci yi leen làrme bi daan jox. Looluy delloo xel yépp ay ati-at ci ginnaaw, jamono ja Pensées, téereb boroom xam-xam bu ñuy wax Màrk Órel daan gunge soldaar yi ci toolu-xare, am yu mu leen fay déey.\n",
      "We obtain the following:\n",
      "- Tokens: ['TÃ©ere', 'Ġboobu', 'Ġbokkoon', 'Ġna', ',', 'Ġxam', 'Ġnaa', ',', 'Ġci', 'Ġyi', 'Ġleen', 'ĠlÃłrme', 'Ġbi', 'Ġdaan', 'Ġjox', '.', 'ĠLooluy', 'Ġdelloo', 'Ġxel', 'ĠyÃ©pp', 'Ġay', 'Ġati', '-', 'at', 'Ġci', 'Ġginnaaw', ',', 'Ġjamono', 'Ġja', 'ĠPensÃ©es', ',', 'ĠtÃ©ereb', 'Ġboroom', 'Ġxam', '-', 'xam', 'Ġbu', 'ĠÃ±uy', 'Ġwax', 'ĠMÃłrk', 'ĠÃĵrel', 'Ġdaan', 'Ġgunge', 'Ġsoldaar', 'Ġyi', 'Ġci', 'Ġtoolu', '-', 'xare', ',', 'Ġam', 'Ġyu', 'Ġmu', 'Ġleen', 'Ġfay', 'ĠdÃ©ey', '.']\n",
      "- Ids: [3776, 516, 2471, 135, 4, 249, 244, 4, 116, 137, 205, 808, 139, 168, 679, 6, 5737, 926, 338, 605, 206, 1190, 5, 179, 116, 599, 4, 501, 382, 6974, 4, 2076, 1102, 249, 5, 2180, 163, 403, 248, 6855, 5547, 168, 1570, 1163, 137, 116, 1892, 5, 1854, 4, 195, 157, 129, 205, 570, 2190, 6]\n",
      "- Attention masks: [1, 1, 1, 1, 1, 1, 1, 1, 1, 1, 1, 1, 1, 1, 1, 1, 1, 1, 1, 1, 1, 1, 1, 1, 1, 1, 1, 1, 1, 1, 1, 1, 1, 1, 1, 1, 1, 1, 1, 1, 1, 1, 1, 1, 1, 1, 1, 1, 1, 1, 1, 1, 1, 1, 1, 1, 1]\n",
      "- Decoded tokens: Téere boobu bokkoon na, xam naa, ci yi leen làrme bi daan jox. Looluy delloo xel yépp ay ati-at ci ginnaaw, jamono ja Pensées, téereb boroom xam-xam bu ñuy wax Màrk Órel daan gunge soldaar yi ci toolu-xare, am yu mu leen fay déey.\n",
      "-------------\n"
     ]
    }
   ],
   "source": [
    "# tokenize a sample (let us take 10 sentences) and print the results\n",
    "for i in range(10):\n",
    "    \n",
    "    sentence = random.choice(wolof_sentences) \n",
    "    \n",
    "    print(f\"For the following sentence:\\n{sentence}\")\n",
    "    \n",
    "    print(\"We obtain the following:\")\n",
    "    \n",
    "    wolof_encoding = bpe_tokenizer2.encode(sentence)\n",
    "    \n",
    "    print(f\"- Tokens: {wolof_encoding.tokens}\")\n",
    "    \n",
    "    print(f\"- Ids: {wolof_encoding.ids}\")\n",
    "    \n",
    "    print(f\"- Attention masks: {wolof_encoding.attention_mask}\")\n",
    "    \n",
    "    print(f\"- Decoded tokens: {bpe_tokenizer2.decode(wolof_encoding.ids)}\")\n",
    "\n",
    "    print(\"-------------\")\n",
    "    "
   ]
  },
  {
   "cell_type": "code",
   "execution_count": 20,
   "metadata": {},
   "outputs": [
    {
     "data": {
      "text/plain": [
       "7034"
      ]
     },
     "execution_count": 20,
     "metadata": {},
     "output_type": "execute_result"
    }
   ],
   "source": [
    "bpe_tokenizer2.get_vocab_size()"
   ]
  },
  {
   "attachments": {},
   "cell_type": "markdown",
   "metadata": {},
   "source": [
    "We have 7034 tokens into the wolof vocabulary."
   ]
  },
  {
   "cell_type": "markdown",
   "metadata": {},
   "source": []
  }
 ],
 "metadata": {
  "kernelspec": {
   "display_name": "pytorch1-HleOW5am-py3.10",
   "language": "python",
   "name": "python3"
  },
  "language_info": {
   "codemirror_mode": {
    "name": "ipython",
    "version": 3
   },
   "file_extension": ".py",
   "mimetype": "text/x-python",
   "name": "python",
   "nbconvert_exporter": "python",
   "pygments_lexer": "ipython3",
   "version": "3.10.8"
  },
  "orig_nbformat": 4
 },
 "nbformat": 4,
 "nbformat_minor": 2
}
