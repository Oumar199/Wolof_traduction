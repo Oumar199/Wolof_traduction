{
 "cells": [
  {
   "attachments": {},
   "cell_type": "markdown",
   "metadata": {},
   "source": [
    "-------------"
   ]
  },
  {
   "attachments": {},
   "cell_type": "markdown",
   "metadata": {},
   "source": [
    "Relative Positional Encoding Example"
   ]
  },
  {
   "cell_type": "code",
   "execution_count": 1,
   "metadata": {},
   "outputs": [
    {
     "name": "stderr",
     "output_type": "stream",
     "text": [
      "c:\\Users\\Oumar Kane\\AppData\\Local\\pypoetry\\Cache\\virtualenvs\\pytorch1-HleOW5am-py3.10\\lib\\site-packages\\tqdm\\auto.py:22: TqdmWarning: IProgress not found. Please update jupyter and ipywidgets. See https://ipywidgets.readthedocs.io/en/stable/user_install.html\n",
      "  from .autonotebook import tqdm as notebook_tqdm\n"
     ]
    },
    {
     "data": {
      "text/plain": [
       "Parameter containing:\n",
       "tensor([[-0.0130, -0.0605, -0.0268,  ..., -0.0494, -0.0109,  0.0752],\n",
       "        [-0.0863,  0.1188, -0.0339,  ..., -0.0840, -0.1023, -0.0929],\n",
       "        [-0.0645,  0.1090, -0.0522,  ..., -0.1137,  0.0795, -0.0604],\n",
       "        ...,\n",
       "        [ 0.0685,  0.1095, -0.0067,  ...,  0.0524, -0.0245, -0.0998],\n",
       "        [ 0.0105, -0.0902, -0.0232,  ...,  0.0082,  0.1142,  0.0036],\n",
       "        [-0.0877,  0.0690, -0.0744,  ..., -0.0061,  0.0501,  0.0011]],\n",
       "       requires_grad=True)"
      ]
     },
     "execution_count": 1,
     "metadata": {},
     "output_type": "execute_result"
    }
   ],
   "source": [
    "from torch import nn\n",
    "import torch\n",
    "\n",
    "# Initialize the d model\n",
    "d_model = 100\n",
    "\n",
    "# Give the max position\n",
    "max_relative_position = 150\n",
    "\n",
    "# Create a lookup table (if it were inside a model we must initialize as weights)\n",
    "embeddings_table = nn.Parameter(torch.Tensor(max_relative_position * 2 + 1, d_model))\n",
    "\n",
    "# Initialize the value of the lookup table with xavier uniform\n",
    "nn.init.xavier_uniform_(embeddings_table)"
   ]
  },
  {
   "cell_type": "code",
   "execution_count": 2,
   "metadata": {},
   "outputs": [
    {
     "data": {
      "text/plain": [
       "torch.Size([301, 100])"
      ]
     },
     "execution_count": 2,
     "metadata": {},
     "output_type": "execute_result"
    }
   ],
   "source": [
    "embeddings_table.size() # size = (number of positions, embedding dimension)"
   ]
  },
  {
   "cell_type": "code",
   "execution_count": 3,
   "metadata": {},
   "outputs": [],
   "source": [
    "# Initialize a range with same size as the query sequence length (200)\n",
    "range_vec_q = torch.arange(200)\n",
    "\n",
    "# Initialize a range with same size as the key sequence length (200)\n",
    "range_vec_k = torch.arange(200)\n",
    "\n",
    "# Calculate the distance between the positions\n",
    "distance_mat = range_vec_k[None, :] - range_vec_q[:, None]\n",
    "\n",
    "# Clip the distances between the -max distance and max distance\n",
    "distance_mat_clipped = torch.clamp(distance_mat, -150, 150)\n",
    "\n",
    "# Add max distance to the clipped distance in order to obtain positive indices\n",
    "final_mat = distance_mat_clipped + 150\n",
    "\n",
    "# Transform final matrix to Long in order to map the indices to their vectors\n",
    "final_mat = torch.LongTensor(final_mat)\n",
    "\n",
    "# Determine the positional embeddings\n",
    "embeddings = embeddings_table[final_mat]"
   ]
  },
  {
   "cell_type": "code",
   "execution_count": 4,
   "metadata": {},
   "outputs": [
    {
     "data": {
      "text/plain": [
       "torch.Size([200, 200, 100])"
      ]
     },
     "execution_count": 4,
     "metadata": {},
     "output_type": "execute_result"
    }
   ],
   "source": [
    "embeddings.size() # The embedding is of dimension [query sequence length, keys sequence length, embedding dim]"
   ]
  },
  {
   "attachments": {},
   "cell_type": "markdown",
   "metadata": {},
   "source": [
    "**Note since we are using the following formula from [relative_position](https://arxiv.org/pdf/1803.02155v2)**:\n",
    "\n",
    "$$\n",
    "E = \\frac{Attention + Additional\\_attention}{\\sqrt{d\\_model}}\n",
    "$$\n",
    "\n",
    "Where $Additional\\_attention = Linear(Q) \\times position\\_embeddings$\n",
    "\n",
    "And that we don't need to determine a first relative positional embedding to add to the linear transformation of the values because we are making machine translation. Then the key sequence length that we used in `range_vec_k` can be taken as the query sequence length. But for more comprehension of the process we will maintain the name."
   ]
  },
  {
   "cell_type": "code",
   "execution_count": 11,
   "metadata": {},
   "outputs": [],
   "source": [
    "# Initialize a query with size = (batch = 4, sequence, d_model)\n",
    "query = torch.randn((4, 200, 100))\n",
    "\n",
    "# Calculate the additional attention\n",
    "add_attention = query.transpose(0, 1).matmul(embeddings.transpose(1, 2)).transpose(0, 1)"
   ]
  },
  {
   "attachments": {},
   "cell_type": "markdown",
   "metadata": {},
   "source": [
    "Notice that we transpose the batch dimension with the sequence dimension of the query matrix and we also transposed the dimension of the key sequence with the embedding dimension in order to make matrix multiplication between the query and the position embeddings. After we replaced the batch dimension on its position."
   ]
  },
  {
   "cell_type": "code",
   "execution_count": 12,
   "metadata": {},
   "outputs": [
    {
     "data": {
      "text/plain": [
       "torch.Size([4, 200, 200])"
      ]
     },
     "execution_count": 12,
     "metadata": {},
     "output_type": "execute_result"
    }
   ],
   "source": [
    "add_attention.size() "
   ]
  },
  {
   "attachments": {},
   "cell_type": "markdown",
   "metadata": {},
   "source": [
    "The result will be then added to the original attention and all together divided by $\\sqrt{d\\_model}$."
   ]
  }
 ],
 "metadata": {
  "kernelspec": {
   "display_name": "pytorch1-HleOW5am-py3.10",
   "language": "python",
   "name": "python3"
  },
  "language_info": {
   "codemirror_mode": {
    "name": "ipython",
    "version": 3
   },
   "file_extension": ".py",
   "mimetype": "text/x-python",
   "name": "python",
   "nbconvert_exporter": "python",
   "pygments_lexer": "ipython3",
   "version": "3.10.8"
  },
  "orig_nbformat": 4
 },
 "nbformat": 4,
 "nbformat_minor": 2
}
