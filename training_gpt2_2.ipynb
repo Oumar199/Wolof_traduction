{
  "cells": [
    {
      "attachments": {},
      "cell_type": "markdown",
      "metadata": {
        "id": "YTsVWwCgLAJl"
      },
      "source": [
        "First Training with the GPT-2 decoder 🤖\n",
        "-----------------------------------\n",
        "\n",
        "In this notebook, we will train the pre-trained GPT-2 model provided by OPEN-AI. It only tests how the model can be accurate on the corpora we extracted. It is undoubtedly a partial model. For the prediction, we will follow the fine-tuning tutorial available at the following medium link [fine-tuning-transformers](https://medium.com/towards-data-science/guide-to-fine-tuning-text-generation-models-gpt-2-gpt-neo-and-t5-dc5de6b3bc5e) and add hyperparameter search with the `wandb` library.\n"
      ]
    },
    {
      "cell_type": "markdown",
      "metadata": {
        "id": "LpFGxo7ULAJp"
      },
      "source": [
        "We will make this with and without augmentation and see where we obtain better results. "
      ]
    },
    {
      "cell_type": "code",
      "execution_count": 55,
      "metadata": {},
      "outputs": [
        {
          "name": "stdout",
          "output_type": "stream",
          "text": [
            "env: WANDB_PROJECT=gpt2_french_wolof_sweeps\n",
            "env: WANDB_LOG_MODEL=true\n",
            "env: WANDB_NOTEBOOK_NAME=training_gpt2_2.ipynb\n",
            "env: WANDB_API_KEY=237a8450cd2568ea1c8e1f8e0400708e79b6b4ee\n"
          ]
        }
      ],
      "source": [
        "# define environment\n",
        "%env WANDB_PROJECT=gpt2_french_wolof_sweeps\n",
        "%env WANDB_LOG_MODEL=true\n",
        "%env WANDB_NOTEBOOK_NAME=training_gpt2_2.ipynb\n",
        "%env WANDB_API_KEY=237a8450cd2568ea1c8e1f8e0400708e79b6b4ee"
      ]
    },
    {
      "cell_type": "code",
      "execution_count": 42,
      "metadata": {
        "colab": {
          "base_uri": "https://localhost:8080/"
        },
        "id": "rOALYu0I1th2",
        "outputId": "c8c0de93-32ef-46e9-9921-08f2ae728cce"
      },
      "outputs": [],
      "source": [
        "!pip install -qq wandb --upgrade"
      ]
    },
    {
      "cell_type": "code",
      "execution_count": 43,
      "metadata": {
        "colab": {
          "base_uri": "https://localhost:8080/"
        },
        "id": "YqElKFkPLAJq",
        "outputId": "d582fa17-ee2a-4723-89ce-f6bf1f6efb07"
      },
      "outputs": [],
      "source": [
        "# !pip install evaluate -qq\n",
        "# !pip install sacrebleu -qq\n",
        "# !pip install optuna -qq\n",
        "# !pip install transformers -qq \n",
        "# !pip install tokenizers -qq\n",
        "# !pip install nlpaug -qq\n",
        "# !pip install ray[tune] -qq"
      ]
    },
    {
      "cell_type": "code",
      "execution_count": 56,
      "metadata": {
        "id": "dF37F8_nLAJr"
      },
      "outputs": [],
      "source": [
        "# let us import all necessary libraries\n",
        "from wolof_translate.utils.sent_transformers import TransformerSequences\n",
        "from transformers import GPT2LMHeadModel, TrainingArguments, Trainer\n",
        "from wolof_translate.data.dataset_v1 import SentenceDataset\n",
        "from wolof_translate.utils.sent_corrections import *\n",
        "from sklearn.model_selection import train_test_split\n",
        "from nlpaug.augmenter import char as nac\n",
        "from torch.utils.data import DataLoader\n",
        "# from datasets  import load_metric # make pip install evaluate instead\n",
        "# and pip install sacrebleu for instance\n",
        "from functools import partial\n",
        "from tqdm import tqdm\n",
        "import pandas as pd\n",
        "import numpy as np\n",
        "import evaluate\n",
        "import torch\n"
      ]
    },
    {
      "cell_type": "markdown",
      "metadata": {
        "id": "ypAj4KXBLAJs"
      },
      "source": [
        "We will create two models: \n",
        "\n",
        "- One translating the french corpus to a wolof corpus [french_to_wolof](#french-to-wolof)\n",
        "- One translating the wolof corpus to a french corpus [wolof_to_french](#wolof-to-french)"
      ]
    },
    {
      "cell_type": "markdown",
      "metadata": {
        "id": "mtgeyZoxLAJs"
      },
      "source": [
        "--------------"
      ]
    },
    {
      "cell_type": "markdown",
      "metadata": {
        "id": "19MVywzSLAJt"
      },
      "source": [
        "## French to wolof"
      ]
    },
    {
      "cell_type": "markdown",
      "metadata": {
        "id": "n4tP0YGyLAJt"
      },
      "source": [
        "### Configure dataset 🔠"
      ]
    },
    {
      "cell_type": "markdown",
      "metadata": {
        "id": "e6dLQ3poLAJu"
      },
      "source": [
        "We can use the same custom dataset that we created in [text_augmentation](text_augmentation.ipynb). But we need to split the data between train and test sets and save them."
      ]
    },
    {
      "cell_type": "code",
      "execution_count": 57,
      "metadata": {
        "id": "GyCZiVSvLAJu"
      },
      "outputs": [],
      "source": [
        "# # load the corpora and split into train and test sets\n",
        "# corpora = pd.read_csv(\"sent_extraction.csv\")\n",
        "\n",
        "# train_set, test_set = train_test_split(corpora, test_size=0.1, random_state=50)\n",
        "\n",
        "# # let us save the sets\n",
        "# train_set.to_csv(\"train_set.csv\", index=False)\n",
        "\n",
        "# test_set.to_csv(\"data/extractions/new_data/test_set.csv\", index=False)"
      ]
    },
    {
      "cell_type": "markdown",
      "metadata": {
        "id": "WahLNKJ0LAJv"
      },
      "source": [
        "Let us recuperate the datasets with and without augmentation."
      ]
    },
    {
      "cell_type": "code",
      "execution_count": 58,
      "metadata": {
        "id": "BIjksuH9LAJv"
      },
      "outputs": [],
      "source": [
        "# without augmentation\n",
        "train_dataset = SentenceDataset(\"data/extractions/new_data/train_set.csv\")\n",
        "\n",
        "test_dataset = SentenceDataset(\"data/extractions/new_data/test_set.csv\")\n",
        "\n",
        "# with augmentation\n",
        "fr_augmentation = TransformerSequences(nac.KeyboardAug(aug_char_p=0.2, aug_word_p=0.2),\n",
        "                                       remove_mark_space, delete_guillemet_space)\n",
        "\n",
        "wf_augmentation = TransformerSequences(nac.KeyboardAug(aug_char_p=0.2, aug_word_p=0.2),\n",
        "                                       remove_mark_space, delete_guillemet_space)\n",
        "\n",
        "train_dataset_aug = SentenceDataset(\"data/extractions/new_data/train_set.csv\", \n",
        "                                cp1_transformer=fr_augmentation, truncation=True,\n",
        "                                cp2_transformer=wf_augmentation, max_len=579)\n",
        "\n",
        "test_dataset_aug = SentenceDataset(\"data/extractions/new_data/test_set.csv\",\n",
        "                               cp1_transformer=fr_augmentation, truncation=True,\n",
        "                               cp2_transformer=wf_augmentation, max_len=579)"
      ]
    },
    {
      "cell_type": "markdown",
      "metadata": {
        "id": "eLlcsICXpOmj"
      },
      "source": [
        "### Configure hyperparameter search ⚙️"
      ]
    },
    {
      "cell_type": "markdown",
      "metadata": {
        "id": "JR9MwAFQppk0"
      },
      "source": [
        "We have to configure the search space and the search method (\"random\" in our case). ."
      ]
    },
    {
      "cell_type": "code",
      "execution_count": 59,
      "metadata": {
        "colab": {
          "base_uri": "https://localhost:8080/",
          "height": 86
        },
        "id": "QSNJ1s_ypZWg",
        "outputId": "fdb918fd-e42d-40e2-8bdb-0d3af231454f"
      },
      "outputs": [
        {
          "name": "stderr",
          "output_type": "stream",
          "text": [
            "\u001b[34m\u001b[1mwandb\u001b[0m: \u001b[33mWARNING\u001b[0m If you're specifying your api key in code, ensure this code is not shared publicly.\n",
            "\u001b[34m\u001b[1mwandb\u001b[0m: \u001b[33mWARNING\u001b[0m Consider setting the WANDB_API_KEY environment variable, or running `wandb login` from the command line.\n",
            "\u001b[34m\u001b[1mwandb\u001b[0m: Appending key for api.wandb.ai to your netrc file: C:\\Users\\Oumar Kane/.netrc\n"
          ]
        },
        {
          "name": "stdout",
          "output_type": "stream",
          "text": [
            "Create sweep with ID: guoc9d57\n",
            "Sweep URL: https://wandb.ai/oumar-kane-team/gpt2-french-wolof-sweeps/sweeps/guoc9d57\n"
          ]
        }
      ],
      "source": [
        "import wandb\n",
        "wandb.login(key=\"237a8450cd2568ea1c8e1f8e0400708e79b6b4ee\")\n",
        "\n",
        "# hyperparameters\n",
        "sweep_config = {\n",
        "    'method': 'random',\n",
        "    'metric':\n",
        "    {\n",
        "      'goal': 'minimize',\n",
        "      'name': 'eval_loss'\n",
        "    },\n",
        "    'parameters':\n",
        "    {\n",
        "      'epochs': {\n",
        "          'value': 1\n",
        "      },\n",
        "      'batch_size': {\n",
        "          'values': [2, 3, 5]\n",
        "      },\n",
        "      'learning_rate': {\n",
        "          'distribution': 'log_uniform_values',\n",
        "          'min': 1e-5,\n",
        "          'max': 1e-3\n",
        "      },\n",
        "      'weight_decay': {\n",
        "          'values': [0.0, 0.1, 0.2, 0.3, 0.4, 0.5]\n",
        "      },\n",
        "      'dataset_aug': {\n",
        "          'values': ['True', 'False']\n",
        "      }\n",
        "    }\n",
        "}\n",
        "\n",
        "# Initialize the hyperparameter search\n",
        "sweep_id = wandb.sweep(sweep_config, project = \"gpt2-french-wolof-sweeps\")\n",
        "\n"
      ]
    },
    {
      "cell_type": "markdown",
      "metadata": {
        "id": "0vhzP3IaLAJv"
      },
      "source": [
        "### Configure the model and the evaluation function ⚙️"
      ]
    },
    {
      "cell_type": "markdown",
      "metadata": {
        "id": "Ts_cesDLLAJw"
      },
      "source": [
        "Let us recuperate the model and resize the token embeddings."
      ]
    },
    {
      "cell_type": "code",
      "execution_count": 60,
      "metadata": {
        "id": "CO1jx85eLAJw"
      },
      "outputs": [],
      "source": [
        "def gpt2_model_init():\n",
        "  # set the mode name\n",
        "  model_name = \"gpt2\"\n",
        "\n",
        "  # recuperate the tokenizer from the dataset\n",
        "  tokenizer = train_dataset.tokenizer\n",
        "\n",
        "  # configure the model\n",
        "  model = GPT2LMHeadModel.from_pretrained(model_name).cuda()\n",
        "\n",
        "  # resize the token embeddings\n",
        "  model.resize_token_embeddings(len(tokenizer))\n",
        "\n",
        "  return model"
      ]
    },
    {
      "cell_type": "markdown",
      "metadata": {
        "id": "R8I3tm4WLAJx"
      },
      "source": [
        "Let us evaluate the predictions with the `bleu` metric."
      ]
    },
    {
      "cell_type": "code",
      "execution_count": 61,
      "metadata": {
        "colab": {
          "base_uri": "https://localhost:8080/",
          "height": 49,
          "referenced_widgets": [
            "638c0b1e2cd2470d8581f1ed5a623429",
            "a5c26b68ea46467aa02f612a2398df4e",
            "ae9528b40b4143f39c17bb5153561bf3",
            "28eb7277633a44e9a03e90e6289c60cb",
            "43f853523f2a4627b69a8d730ca74f39",
            "96b1fe6c9ec34b0980ba9ed7564652ce",
            "348c3fac47564bee853adc2c078a393c",
            "c877fe91dd664887ab2b8ce5bb122b5b",
            "f69ac6b8e8c94ca7858a72619a944508",
            "6a243216cd6848a5a5f78025b47c2609",
            "833b48e1b65b4fe7afd4565ee211d36a"
          ]
        },
        "id": "IerZolDNLAJx",
        "outputId": "398003a8-7194-45cc-eff0-f7e8832d63bb"
      },
      "outputs": [],
      "source": [
        "# %%writefile wolof-translate/wolof_translate/utils/evaluation.py\n",
        "from tokenizers import Tokenizer\n",
        "from typing import *\n",
        "import numpy as np\n",
        "import evaluate\n",
        "\n",
        "class TranslationEvaluation:\n",
        "    \n",
        "    def __init__(self, \n",
        "                 tokenizer: Tokenizer,\n",
        "                 decoder: Union[Callable, None] = None,\n",
        "                 metric = evaluate.load('sacrebleu'),\n",
        "                 ):\n",
        "        \n",
        "        self.tokenizer = tokenizer\n",
        "        \n",
        "        self.decoder = decoder\n",
        "        \n",
        "        self.metric = metric\n",
        "    \n",
        "    def postprocess_text(self, preds, labels):\n",
        "        \n",
        "        preds = [pred.strip() for pred in preds]\n",
        "        \n",
        "        labels = [[label.strip()] for label in labels]\n",
        "        \n",
        "        return preds, labels\n",
        "\n",
        "    def compute_metrics(self, eval_preds):\n",
        "        \n",
        "        preds, labels = eval_preds.preds.detach().cpu(), labels.detach().cpu()\n",
        "        \n",
        "        if isinstance(preds, tuple):\n",
        "            \n",
        "            preds = preds[0]\n",
        "        \n",
        "        if self.decoder is None:\n",
        "            \n",
        "            decoded_preds = self.tokenizer.batch_decode(preds, skip_special_tokens=True)\n",
        "            \n",
        "            decoded_labels = self.tokenizer.batch_decode(labels, skip_special_tokens=True)\n",
        "            \n",
        "            decoded_preds, decoded_labels = self.postprocess_text(decoded_preds, decoded_labels)\n",
        "            \n",
        "            result = self.metric.compute(predictions=decoded_preds, references=decoded_labels)\n",
        "            \n",
        "            result = {\"bleu\": result[\"score\"]}\n",
        "            \n",
        "            prediction_lens = [np.count_nonzero(pred != self.tokenizer.pad_token_id) for pred in preds]\n",
        "            \n",
        "            result[\"gen_len\"] = np.mean(prediction_lens)\n",
        "        \n",
        "        else:\n",
        "            \n",
        "            predictions = list(self.decoder(preds))\n",
        "            \n",
        "            labels = list(self.decoder(labels))\n",
        "      \n",
        "            decoded_preds, decoded_labels = self.postprocess_text(predictions, labels)\n",
        "            \n",
        "            result = self.metric.compute(predictions=predictions, references=labels)\n",
        "            \n",
        "            result = {\"bleu\": result[\"score\"]}\n",
        "        \n",
        "        result = {k:round(v, 4) for k, v in result.items()}\n",
        "\n",
        "        wandb.log(\"bleu\", result[\"bleu\"])\n",
        "            \n",
        "        return result"
      ]
    },
    {
      "cell_type": "code",
      "execution_count": 62,
      "metadata": {
        "id": "OEvlO5mtLAJx"
      },
      "outputs": [],
      "source": [
        "# %run wolof-translate/wolof_translate/utils/evaluation.py"
      ]
    },
    {
      "cell_type": "markdown",
      "metadata": {
        "id": "IuppKYiyLAJx"
      },
      "source": [
        "Let us initialize the evaluation object."
      ]
    },
    {
      "cell_type": "code",
      "execution_count": 63,
      "metadata": {
        "id": "a7Bpd4UPLAJy"
      },
      "outputs": [],
      "source": [
        "translation_eval = TranslationEvaluation(test_dataset.tokenizer)"
      ]
    },
    {
      "cell_type": "markdown",
      "metadata": {
        "id": "xT17hB19LAJy"
      },
      "source": [
        "### Searching for the best parameters 🕖"
      ]
    },
    {
      "cell_type": "markdown",
      "metadata": {
        "id": "XQ5evOG5LAJw"
      },
      "source": [
        "Let us define the data collator."
      ]
    },
    {
      "cell_type": "code",
      "execution_count": 64,
      "metadata": {
        "id": "SgVN115tLAJw"
      },
      "outputs": [],
      "source": [
        "def data_collator(batch):\n",
        "    \"\"\"Generate a batch of data to provide to trainer\n",
        "\n",
        "    Args:\n",
        "        batch (_type_): The batch\n",
        "\n",
        "    Returns:\n",
        "        dict: A dictionary containing the ids, the attention mask and the labels\n",
        "    \"\"\"\n",
        "    input_ids = torch.stack([b[0] for b in batch])\n",
        "    \n",
        "    attention_mask = torch.stack([b[1] for b in batch])\n",
        "    \n",
        "    labels = torch.stack([b[0] for b in batch])\n",
        "    \n",
        "    return {'input_ids': input_ids, 'attention_mask': attention_mask,\n",
        "            'labels': labels}"
      ]
    },
    {
      "cell_type": "markdown",
      "metadata": {
        "id": "Ry3DmkBuLAJy"
      },
      "source": [
        "Let us initialize the training arguments and make random search."
      ]
    },
    {
      "cell_type": "code",
      "execution_count": 65,
      "metadata": {
        "colab": {
          "base_uri": "https://localhost:8080/",
          "height": 1000,
          "referenced_widgets": [
            "a531a488f1f94cd29145a04ddc15da21",
            "b16ede7c500142ce9dd746fe0a24ab2d",
            "79be8aa52b08412bbe3dd841959d640c",
            "f73cb1eb865f49cdabe687ccd66340b7",
            "95bdba8fb0a745a88c86ee2494f022d6",
            "086514753fea4fba84dabf86274d34ca",
            "9e1fbed5a56b4744adea79044d01eac7",
            "fe23f4a2e1e943ef96a620046f32bad0",
            "643e7ebab68e4505b85955557f59dfaf",
            "9cbc1c38d0134365baa12ba7a2910542",
            "ca413b3bc438467d92c96f0590100344",
            "ecf8a133bf2d401d8ac34b7266f451f5",
            "d923df2371ce43479947fdec61ea46fb",
            "90e8635ea1194e6d97dd09437a4d9f00",
            "41ba70b5bd3e417783e898e559927499",
            "8938469c87524f149d8eaf3383609745",
            "a439ecf3b8254776b5697788315b7ce1",
            "7532622d5b444a5d9cf49baa5fffc5d8",
            "9d7105adb76e421f9310865da4a3a8ba",
            "ef7692bb4e914aa6a366791a5e94a532",
            "3ff3fa5cb82f4d13bd8cc62f442d96e4",
            "291b2ee8a0ca4681ad8ecd4de60f473f",
            "914268f62b0245fe8107ef473d2490be",
            "5ab658c1253849dab8e164ecd20653b4",
            "43bb40a2ebd344829027da1dda582689",
            "6df67f40f08b44ce85d34068b4f2034c",
            "a1f653b6bca54b67b28ffde7d115cbfd",
            "bdffe5c8582240a3b5cde6b319f81475",
            "13ac741581744ae79f674f15c7c9fe43",
            "cc02c08f8fae42c8b47054f3327f3fa6",
            "8a6014812dcb47559b02769ef91b4cf7",
            "a2d8c031d9a04a478f0109644f4597ce",
            "9e44078cba1e4aa685f8053bff579f1a",
            "ad0ba1dc83e945faa605f26047f69723",
            "58f804b07de64eab953fd486ca9704ce",
            "5e66211e4aec40388f4be818118057c6",
            "9a0996090f514f2aa07163fe94ef82a8",
            "2836e29fb71447ea9b704cf9b1be19c1",
            "69380e435a1c4614a8986a59d8a35a67",
            "88f995ce61fb4fa38ba377864b8a6e1f",
            "7dc2c0173d3c4eab91440d76cdfcfe4e",
            "3b32780b4ad54e6ea0119ec4c4709639",
            "8cd78fd16bd640ef9bf8cebca9c0d016",
            "7b34f5d65b15472181793967623c9394",
            "8b321886559848d29433c5b99d9c98e4",
            "db02e0b670f24884a9ccf7cfed264d1e",
            "ce62884349614f4baea970bb74a2d87a",
            "a32e07679eb246f4b997605d7d539152",
            "0514b42541f44db58f4aa6a8668c1f7d"
          ]
        },
        "id": "D_yP2Ny6LAJy",
        "outputId": "2a129ace-1546-42bd-f573-1031205ec182"
      },
      "outputs": [
        {
          "name": "stderr",
          "output_type": "stream",
          "text": [
            "\u001b[34m\u001b[1mwandb\u001b[0m: Agent Starting Run: 5aoyf0bi with config:\n",
            "\u001b[34m\u001b[1mwandb\u001b[0m: \tbatch_size: 3\n",
            "\u001b[34m\u001b[1mwandb\u001b[0m: \tdataset_aug: True\n",
            "\u001b[34m\u001b[1mwandb\u001b[0m: \tepochs: 1\n",
            "\u001b[34m\u001b[1mwandb\u001b[0m: \tlearning_rate: 1.3094777168952637e-05\n",
            "\u001b[34m\u001b[1mwandb\u001b[0m: \tweight_decay: 0.1\n"
          ]
        },
        {
          "data": {
            "text/html": [
              "Tracking run with wandb version 0.15.0"
            ],
            "text/plain": [
              "<IPython.core.display.HTML object>"
            ]
          },
          "metadata": {},
          "output_type": "display_data"
        },
        {
          "data": {
            "text/html": [
              "Run data is saved locally in <code>d:\\Oumar\\Seagate1\\IA data forest\\master semestre 3\\Préparation mémoire\\preparation\\some_tests\\subject2\\wandb\\run-20230427_162939-5aoyf0bi</code>"
            ],
            "text/plain": [
              "<IPython.core.display.HTML object>"
            ]
          },
          "metadata": {},
          "output_type": "display_data"
        },
        {
          "data": {
            "text/html": [
              "<iframe src='https://wandb.ai/oumar-kane-team/gpt2-french-wolof-sweeps/runs/5aoyf0bi?jupyter=true' style='border:none;width:100%;height:420px;'></iframe>"
            ],
            "text/plain": [
              "<wandb.jupyter.IFrame at 0x18305721900>"
            ]
          },
          "metadata": {},
          "output_type": "display_data"
        },
        {
          "data": {
            "text/html": [
              " View project at <a href='https://wandb.ai/oumar-kane-team/gpt2-french-wolof-sweeps' target=\"_blank\">https://wandb.ai/oumar-kane-team/gpt2-french-wolof-sweeps</a>"
            ],
            "text/plain": [
              "<IPython.core.display.HTML object>"
            ]
          },
          "metadata": {},
          "output_type": "display_data"
        },
        {
          "data": {
            "text/html": [
              " View sweep at <a href='https://wandb.ai/oumar-kane-team/gpt2-french-wolof-sweeps/sweeps/guoc9d57' target=\"_blank\">https://wandb.ai/oumar-kane-team/gpt2-french-wolof-sweeps/sweeps/guoc9d57</a>"
            ],
            "text/plain": [
              "<IPython.core.display.HTML object>"
            ]
          },
          "metadata": {},
          "output_type": "display_data"
        },
        {
          "data": {
            "text/html": [
              " View run at <a href='https://wandb.ai/oumar-kane-team/gpt2-french-wolof-sweeps/runs/5aoyf0bi' target=\"_blank\">https://wandb.ai/oumar-kane-team/gpt2-french-wolof-sweeps/runs/5aoyf0bi</a>"
            ],
            "text/plain": [
              "<IPython.core.display.HTML object>"
            ]
          },
          "metadata": {},
          "output_type": "display_data"
        },
        {
          "data": {
            "text/html": [
              "Waiting for W&B process to finish... <strong style=\"color:red\">(failed 1).</strong> Press Ctrl-C to abort syncing."
            ],
            "text/plain": [
              "<IPython.core.display.HTML object>"
            ]
          },
          "metadata": {},
          "output_type": "display_data"
        },
        {
          "data": {
            "text/html": [
              " View run <strong style=\"color:#cdcd00\">fine-sweep-1</strong> at: <a href='https://wandb.ai/oumar-kane-team/gpt2-french-wolof-sweeps/runs/5aoyf0bi' target=\"_blank\">https://wandb.ai/oumar-kane-team/gpt2-french-wolof-sweeps/runs/5aoyf0bi</a><br/>Synced 4 W&B file(s), 0 media file(s), 0 artifact file(s) and 0 other file(s)"
            ],
            "text/plain": [
              "<IPython.core.display.HTML object>"
            ]
          },
          "metadata": {},
          "output_type": "display_data"
        },
        {
          "data": {
            "text/html": [
              "Find logs at: <code>.\\wandb\\run-20230427_162939-5aoyf0bi\\logs</code>"
            ],
            "text/plain": [
              "<IPython.core.display.HTML object>"
            ]
          },
          "metadata": {},
          "output_type": "display_data"
        },
        {
          "name": "stderr",
          "output_type": "stream",
          "text": [
            "Run 5aoyf0bi errored: NameError(\"name 'path' is not defined\")\n",
            "\u001b[34m\u001b[1mwandb\u001b[0m: \u001b[32m\u001b[41mERROR\u001b[0m Run 5aoyf0bi errored: NameError(\"name 'path' is not defined\")\n",
            "\u001b[34m\u001b[1mwandb\u001b[0m: Sweep Agent: Waiting for job.\n",
            "\u001b[34m\u001b[1mwandb\u001b[0m: Job received.\n",
            "\u001b[34m\u001b[1mwandb\u001b[0m: Agent Starting Run: kyyt30ov with config:\n",
            "\u001b[34m\u001b[1mwandb\u001b[0m: \tbatch_size: 2\n",
            "\u001b[34m\u001b[1mwandb\u001b[0m: \tdataset_aug: False\n",
            "\u001b[34m\u001b[1mwandb\u001b[0m: \tepochs: 1\n",
            "\u001b[34m\u001b[1mwandb\u001b[0m: \tlearning_rate: 3.3559839165982405e-05\n",
            "\u001b[34m\u001b[1mwandb\u001b[0m: \tweight_decay: 0.5\n"
          ]
        },
        {
          "data": {
            "text/html": [
              "Tracking run with wandb version 0.15.0"
            ],
            "text/plain": [
              "<IPython.core.display.HTML object>"
            ]
          },
          "metadata": {},
          "output_type": "display_data"
        },
        {
          "data": {
            "text/html": [
              "Run data is saved locally in <code>d:\\Oumar\\Seagate1\\IA data forest\\master semestre 3\\Préparation mémoire\\preparation\\some_tests\\subject2\\wandb\\run-20230427_163000-kyyt30ov</code>"
            ],
            "text/plain": [
              "<IPython.core.display.HTML object>"
            ]
          },
          "metadata": {},
          "output_type": "display_data"
        },
        {
          "data": {
            "text/html": [
              " View project at <a href='https://wandb.ai/oumar-kane-team/gpt2-french-wolof-sweeps' target=\"_blank\">https://wandb.ai/oumar-kane-team/gpt2-french-wolof-sweeps</a>"
            ],
            "text/plain": [
              "<IPython.core.display.HTML object>"
            ]
          },
          "metadata": {},
          "output_type": "display_data"
        },
        {
          "data": {
            "text/html": [
              " View sweep at <a href='https://wandb.ai/oumar-kane-team/gpt2-french-wolof-sweeps/sweeps/guoc9d57' target=\"_blank\">https://wandb.ai/oumar-kane-team/gpt2-french-wolof-sweeps/sweeps/guoc9d57</a>"
            ],
            "text/plain": [
              "<IPython.core.display.HTML object>"
            ]
          },
          "metadata": {},
          "output_type": "display_data"
        },
        {
          "data": {
            "text/html": [
              " View run at <a href='https://wandb.ai/oumar-kane-team/gpt2-french-wolof-sweeps/runs/kyyt30ov' target=\"_blank\">https://wandb.ai/oumar-kane-team/gpt2-french-wolof-sweeps/runs/kyyt30ov</a>"
            ],
            "text/plain": [
              "<IPython.core.display.HTML object>"
            ]
          },
          "metadata": {},
          "output_type": "display_data"
        },
        {
          "data": {
            "text/html": [
              "Waiting for W&B process to finish... <strong style=\"color:red\">(failed 1).</strong> Press Ctrl-C to abort syncing."
            ],
            "text/plain": [
              "<IPython.core.display.HTML object>"
            ]
          },
          "metadata": {},
          "output_type": "display_data"
        },
        {
          "data": {
            "text/html": [
              " View run <strong style=\"color:#cdcd00\">comic-sweep-2</strong> at: <a href='https://wandb.ai/oumar-kane-team/gpt2-french-wolof-sweeps/runs/kyyt30ov' target=\"_blank\">https://wandb.ai/oumar-kane-team/gpt2-french-wolof-sweeps/runs/kyyt30ov</a><br/>Synced 4 W&B file(s), 0 media file(s), 0 artifact file(s) and 0 other file(s)"
            ],
            "text/plain": [
              "<IPython.core.display.HTML object>"
            ]
          },
          "metadata": {},
          "output_type": "display_data"
        },
        {
          "data": {
            "text/html": [
              "Find logs at: <code>.\\wandb\\run-20230427_163000-kyyt30ov\\logs</code>"
            ],
            "text/plain": [
              "<IPython.core.display.HTML object>"
            ]
          },
          "metadata": {},
          "output_type": "display_data"
        },
        {
          "name": "stderr",
          "output_type": "stream",
          "text": [
            "Run kyyt30ov errored: NameError(\"name 'path' is not defined\")\n",
            "\u001b[34m\u001b[1mwandb\u001b[0m: \u001b[32m\u001b[41mERROR\u001b[0m Run kyyt30ov errored: NameError(\"name 'path' is not defined\")\n",
            "\u001b[34m\u001b[1mwandb\u001b[0m: Agent Starting Run: fhznobej with config:\n",
            "\u001b[34m\u001b[1mwandb\u001b[0m: \tbatch_size: 3\n",
            "\u001b[34m\u001b[1mwandb\u001b[0m: \tdataset_aug: False\n",
            "\u001b[34m\u001b[1mwandb\u001b[0m: \tepochs: 1\n",
            "\u001b[34m\u001b[1mwandb\u001b[0m: \tlearning_rate: 3.720476295351395e-05\n",
            "\u001b[34m\u001b[1mwandb\u001b[0m: \tweight_decay: 0.2\n"
          ]
        },
        {
          "data": {
            "text/html": [
              "Tracking run with wandb version 0.15.0"
            ],
            "text/plain": [
              "<IPython.core.display.HTML object>"
            ]
          },
          "metadata": {},
          "output_type": "display_data"
        },
        {
          "data": {
            "text/html": [
              "Run data is saved locally in <code>d:\\Oumar\\Seagate1\\IA data forest\\master semestre 3\\Préparation mémoire\\preparation\\some_tests\\subject2\\wandb\\run-20230427_163016-fhznobej</code>"
            ],
            "text/plain": [
              "<IPython.core.display.HTML object>"
            ]
          },
          "metadata": {},
          "output_type": "display_data"
        },
        {
          "data": {
            "text/html": [
              " View project at <a href='https://wandb.ai/oumar-kane-team/gpt2-french-wolof-sweeps' target=\"_blank\">https://wandb.ai/oumar-kane-team/gpt2-french-wolof-sweeps</a>"
            ],
            "text/plain": [
              "<IPython.core.display.HTML object>"
            ]
          },
          "metadata": {},
          "output_type": "display_data"
        },
        {
          "data": {
            "text/html": [
              " View sweep at <a href='https://wandb.ai/oumar-kane-team/gpt2-french-wolof-sweeps/sweeps/guoc9d57' target=\"_blank\">https://wandb.ai/oumar-kane-team/gpt2-french-wolof-sweeps/sweeps/guoc9d57</a>"
            ],
            "text/plain": [
              "<IPython.core.display.HTML object>"
            ]
          },
          "metadata": {},
          "output_type": "display_data"
        },
        {
          "data": {
            "text/html": [
              " View run at <a href='https://wandb.ai/oumar-kane-team/gpt2-french-wolof-sweeps/runs/fhznobej' target=\"_blank\">https://wandb.ai/oumar-kane-team/gpt2-french-wolof-sweeps/runs/fhznobej</a>"
            ],
            "text/plain": [
              "<IPython.core.display.HTML object>"
            ]
          },
          "metadata": {},
          "output_type": "display_data"
        },
        {
          "data": {
            "text/html": [
              "Waiting for W&B process to finish... <strong style=\"color:red\">(failed 1).</strong> Press Ctrl-C to abort syncing."
            ],
            "text/plain": [
              "<IPython.core.display.HTML object>"
            ]
          },
          "metadata": {},
          "output_type": "display_data"
        },
        {
          "data": {
            "text/html": [
              " View run <strong style=\"color:#cdcd00\">sweet-sweep-3</strong> at: <a href='https://wandb.ai/oumar-kane-team/gpt2-french-wolof-sweeps/runs/fhznobej' target=\"_blank\">https://wandb.ai/oumar-kane-team/gpt2-french-wolof-sweeps/runs/fhznobej</a><br/>Synced 4 W&B file(s), 0 media file(s), 0 artifact file(s) and 0 other file(s)"
            ],
            "text/plain": [
              "<IPython.core.display.HTML object>"
            ]
          },
          "metadata": {},
          "output_type": "display_data"
        },
        {
          "data": {
            "text/html": [
              "Find logs at: <code>.\\wandb\\run-20230427_163016-fhznobej\\logs</code>"
            ],
            "text/plain": [
              "<IPython.core.display.HTML object>"
            ]
          },
          "metadata": {},
          "output_type": "display_data"
        },
        {
          "name": "stderr",
          "output_type": "stream",
          "text": [
            "Run fhznobej errored: NameError(\"name 'path' is not defined\")\n",
            "\u001b[34m\u001b[1mwandb\u001b[0m: \u001b[32m\u001b[41mERROR\u001b[0m Run fhznobej errored: NameError(\"name 'path' is not defined\")\n",
            "Detected 3 failed runs in the first 60 seconds, killing sweep.\n",
            "\u001b[34m\u001b[1mwandb\u001b[0m: \u001b[32m\u001b[41mERROR\u001b[0m Detected 3 failed runs in the first 60 seconds, killing sweep.\n",
            "\u001b[34m\u001b[1mwandb\u001b[0m: To disable this check set WANDB_AGENT_DISABLE_FLAPPING=true\n"
          ]
        }
      ],
      "source": [
        "%%wandb\n",
        "\n",
        "def train(config = None):\n",
        "\n",
        "  with wandb.init(config = config):\n",
        "    \n",
        "    global train_dataset\n",
        "\n",
        "    global test_dataset\n",
        "\n",
        "    # seed\n",
        "    torch.manual_seed(50)\n",
        "\n",
        "    # set sweep configuration\n",
        "    config = wandb.config\n",
        "\n",
        "    if config.dataset_aug == 'True':\n",
        "\n",
        "      train_dataset = train_dataset_aug\n",
        "\n",
        "      test_dataset = test_dataset_aug\n",
        "\n",
        "    # set training arguments\n",
        "    training_args = TrainingArguments(f\"{path}training1/results\",\n",
        "                                      report_to = \"wandb\",\n",
        "                                      num_train_epochs=config.epochs,\n",
        "                                      # logging_steps=100,\n",
        "                                      load_best_model_at_end=True,\n",
        "                                      save_strategy=\"epoch\",\n",
        "                                      evaluation_strategy=\"epoch\",\n",
        "                                      logging_strategy = 'epoch',\n",
        "                                      per_device_train_batch_size=config.batch_size, \n",
        "                                      per_device_eval_batch_size=3,\n",
        "                                      learning_rate=config.learning_rate,\n",
        "                                      weight_decay=config.weight_decay,\n",
        "                                      logging_dir=f'{path}gpt2_training_logs1',\n",
        "                                      remove_unused_columns = False,\n",
        "                                      fp16 = True,\n",
        "                                      )   \n",
        "\n",
        "    # define training loop\n",
        "    trainer = Trainer(model_init=gpt2_model_init,\n",
        "                      args=training_args,\n",
        "                      train_dataset=train_dataset, \n",
        "                      eval_dataset=test_dataset,\n",
        "                      data_collator=data_collator,\n",
        "                      compute_metrics=translation_eval.compute_metrics\n",
        "                      )\n",
        "\n",
        "    # start training loop\n",
        "    trainer.train()\n",
        "\n",
        "wandb.agent(sweep_id, train, count = 10)\n"
      ]
    },
    {
      "cell_type": "code",
      "execution_count": 13,
      "metadata": {
        "colab": {
          "base_uri": "https://localhost:8080/",
          "height": 35
        },
        "id": "bbwmeRfadllT",
        "outputId": "a6b5353e-7a02-4dfb-f273-c52bd30fd033"
      },
      "outputs": [
        {
          "data": {
            "application/vnd.google.colaboratory.intrinsic+json": {
              "type": "string"
            },
            "text/plain": [
              "'data/training1/results/run-9/checkpoint-368'"
            ]
          },
          "execution_count": 13,
          "metadata": {},
          "output_type": "execute_result"
        }
      ],
      "source": [
        "# let us get the best model\n",
        "trainer.state.best_model_checkpoint"
      ]
    },
    {
      "cell_type": "code",
      "execution_count": null,
      "metadata": {
        "id": "k6Lk652XLAJy"
      },
      "outputs": [],
      "source": [
        "# load from a checkpoint and continue the training\n",
        "# trainer._load_from_checkpoint('data/training1/results/checkpoint-734/')\n",
        "\n"
      ]
    },
    {
      "cell_type": "markdown",
      "metadata": {
        "id": "maU7JF7tLAJz"
      },
      "source": [
        "We see that the model is over-fitted. We must fine-tune the model and augment it to add some noise into the training step."
      ]
    },
    {
      "cell_type": "markdown",
      "metadata": {
        "id": "sQVOIX4lqGMg"
      },
      "source": [
        "### Predictions"
      ]
    },
    {
      "cell_type": "markdown",
      "metadata": {
        "id": "W_iGdw-LLAJz"
      },
      "source": [
        "Let us generate texts and store into a DataFrame."
      ]
    },
    {
      "cell_type": "code",
      "execution_count": null,
      "metadata": {
        "id": "Lxev3DttLAJz",
        "outputId": "2986ba08-9561-41a9-97f4-1aad14fe9a4d"
      },
      "outputs": [
        {
          "name": "stderr",
          "output_type": "stream",
          "text": [
            "  1%|          | 1/82 [00:06<09:20,  6.91s/it]"
          ]
        },
        {
          "name": "stdout",
          "output_type": "stream",
          "text": [
            "Muy nag, nag, nag, nag, nag, nag, nag, nag, nag, nag, ci sama yaay daan wax dëgg-dëgg, ci sama biir yu kowe ya.\n"
          ]
        },
        {
          "name": "stderr",
          "output_type": "stream",
          "text": [
            "  2%|▏         | 2/82 [00:12<08:10,  6.13s/it]"
          ]
        },
        {
          "name": "stdout",
          "output_type": "stream",
          "text": [
            "Nettali sax, su ma ci sama yaay moom, di ma ni sama yaay daan nettali nii, di ma koy jekk-xare, di sama yaay daan nettali nii. Mu ni sama yaay daan nettali nii, sama yaay daan nettali nii, sama yaay daan nettali nii.\n"
          ]
        },
        {
          "name": "stderr",
          "output_type": "stream",
          "text": [
            "  4%|▎         | 3/82 [00:18<08:17,  6.30s/it]"
          ]
        },
        {
          "name": "stdout",
          "output_type": "stream",
          "text": [
            "Ngalla, su ma sama yaay moom, sama yaay moom, sama yaay moom, sama yaay moom, sama yaay moom, sama yaay daan wax.\n"
          ]
        },
        {
          "name": "stderr",
          "output_type": "stream",
          "text": [
            "  5%|▍         | 4/82 [00:24<07:35,  5.84s/it]"
          ]
        },
        {
          "name": "stdout",
          "output_type": "stream",
          "text": [
            "Nettali askan wi, ay way-jur, ay ndell, ay ndell, ay ndell, ay ndell, ay ndell, ay ndell, ay ndell, ay ndell, ay ndell, ay ndell, ay ndell, ay ndell, ay ndell, ay ndell, ay ndell, ay ndell yu dóomu-tóor yu ňuul, ay ndell ci seen biir yu ňuul, ay ndell, ay ndell, ay ndell ci seen biir yu ňuul, ay ndell, ay ndell, ay ndell, ay ndell, ay ndell, ay ndell, ay ndell, ay ndell ci seen biir yu dóomu-tóor yu dóomu-tóor yu dóomu-tóor yu dóomu-tóor yu dóomu-tóor yu ňuul.\n"
          ]
        },
        {
          "name": "stderr",
          "output_type": "stream",
          "text": [
            "  6%|▌         | 5/82 [00:29<07:22,  5.75s/it]"
          ]
        },
        {
          "name": "stdout",
          "output_type": "stream",
          "text": [
            "Nettali sax, du sax, du sax, du sax, du sax, du sax, du sax, du ci sama yaay a ngi janook moom, du woon.\n"
          ]
        },
        {
          "name": "stderr",
          "output_type": "stream",
          "text": [
            "  7%|▋         | 6/82 [00:35<07:29,  5.92s/it]"
          ]
        },
        {
          "name": "stdout",
          "output_type": "stream",
          "text": [
            "Baay na, ci sama yaay daan nettali nii, di sama yaay daan nettali nii.\n"
          ]
        },
        {
          "name": "stderr",
          "output_type": "stream",
          "text": [
            "  9%|▊         | 7/82 [00:41<07:18,  5.84s/it]"
          ]
        },
        {
          "name": "stdout",
          "output_type": "stream",
          "text": [
            "Nit ki, Baay jël bés bi, di ma ni ma ci sama yaay daan wax dëgg-dëgg, di ma ni ma ni ma ni ma ni ma ni sama xel.\n"
          ]
        },
        {
          "name": "stderr",
          "output_type": "stream",
          "text": [
            " 10%|▉         | 8/82 [00:46<06:43,  5.46s/it]"
          ]
        },
        {
          "name": "stdout",
          "output_type": "stream",
          "text": [
            "Mbóot, su ma Baay, su ma ci sama yaay, su ma, su ma ni, su ma ci sama yaay daan nettali nii, su ma ci sama yaay daan nettali nii, su ma tolloo ci sama yaay daan nettali nii, du dox lu mu ma tolloo ci sama yaay daan nettali nii.\n"
          ]
        },
        {
          "name": "stderr",
          "output_type": "stream",
          "text": [
            " 11%|█         | 9/82 [00:52<06:53,  5.67s/it]"
          ]
        },
        {
          "name": "stdout",
          "output_type": "stream",
          "text": [
            "Li ci sama yaay dund, du sax, du woon dara ci sama yaay dund Afrig.\n"
          ]
        },
        {
          "name": "stderr",
          "output_type": "stream",
          "text": [
            " 12%|█▏        | 10/82 [01:00<07:48,  6.50s/it]"
          ]
        },
        {
          "name": "stdout",
          "output_type": "stream",
          "text": [
            "Nettali na, nag, nag, nag, nag, nag, nag, nag, nag, nag, nag, nag, di ko ko nga xam ni mel ni i xob.\n"
          ]
        },
        {
          "name": "stderr",
          "output_type": "stream",
          "text": [
            " 13%|█▎        | 11/82 [01:08<08:07,  6.86s/it]"
          ]
        },
        {
          "name": "stdout",
          "output_type": "stream",
          "text": [
            "Ngir ma ni ma ni ma ni ma ni ma ni ma ni sama yaay, du woon dara ci sama mag ju góor gu ndaw.\n"
          ]
        },
        {
          "name": "stderr",
          "output_type": "stream",
          "text": [
            " 15%|█▍        | 12/82 [01:17<08:41,  7.45s/it]"
          ]
        },
        {
          "name": "stdout",
          "output_type": "stream",
          "text": [
            "Muy nag, nag, nag, nag, nag, nag, nag, nag, nag, nag.\n"
          ]
        },
        {
          "name": "stderr",
          "output_type": "stream",
          "text": [
            " 16%|█▌        | 13/82 [01:24<08:21,  7.26s/it]"
          ]
        },
        {
          "name": "stdout",
          "output_type": "stream",
          "text": [
            "Nettali askan wi, du sax, du sax, du sax, du sax, du sax, du sax, du sax, du sax, du sax, du sax, du sax, du sax, du sax, du sax, du sax, du sax, du sax, du sax, du dox ci sama yaay a ngi, du dox ci sama yaay.\n"
          ]
        },
        {
          "name": "stderr",
          "output_type": "stream",
          "text": [
            " 17%|█▋        | 14/82 [01:30<07:55,  6.99s/it]"
          ]
        },
        {
          "name": "stdout",
          "output_type": "stream",
          "text": [
            "Nettali sax, du sax, du sax, du sax, du sax, du sax, du sax, du sax, du sax, du sax, du sax, du sax, du sax, du sax, du sax, du sax, du sax, du dox ci sama yaay a ngi gisaat, du dox ci sama yaay.\n"
          ]
        },
        {
          "name": "stderr",
          "output_type": "stream",
          "text": [
            " 18%|█▊        | 15/82 [01:38<08:05,  7.24s/it]"
          ]
        },
        {
          "name": "stdout",
          "output_type": "stream",
          "text": [
            "Muy nag, du dox ci sama yaay daan nettali nii.\n"
          ]
        },
        {
          "name": "stderr",
          "output_type": "stream",
          "text": [
            " 20%|█▉        | 16/82 [01:44<07:45,  7.05s/it]"
          ]
        },
        {
          "name": "stdout",
          "output_type": "stream",
          "text": [
            "Nettali askan wi, du sax, du sax, du sax, du sax, du sax, du ci seen biir yu kowe ya. Mu mel ni mel ni mel ni mel ni mel ni mel ni mel.\n"
          ]
        },
        {
          "name": "stderr",
          "output_type": "stream",
          "text": [
            " 21%|██        | 17/82 [01:51<07:36,  7.03s/it]"
          ]
        },
        {
          "name": "stdout",
          "output_type": "stream",
          "text": [
            "Mu ma sama yaay daan wax, du woon dara ci sama mag ju góor.\n"
          ]
        },
        {
          "name": "stderr",
          "output_type": "stream",
          "text": [
            " 22%|██▏       | 18/82 [01:58<07:30,  7.03s/it]"
          ]
        },
        {
          "name": "stdout",
          "output_type": "stream",
          "text": [
            "Ngir, su ma ni ci sama yaay daan wax dëgg-dëgg, ci sama yaay daan wax dëgg-dëgg, ci sama yaay daan wax dëgg-dëgg, ci sama yaay daan wax dëgg-dëgg, ci sama yaay daan wax dëgg-dëgg, di ma daan wax dëgg-dëgg.\n"
          ]
        },
        {
          "name": "stderr",
          "output_type": "stream",
          "text": [
            " 23%|██▎       | 19/82 [02:05<07:15,  6.92s/it]"
          ]
        },
        {
          "name": "stdout",
          "output_type": "stream",
          "text": [
            "Li ci sama yaay dund Afrig, du sax, du sax, du sax, du sax, du sax, du sax, du sax, du sax, du sax, du sax, du sax, du sax, du ci sama yaay.\n"
          ]
        },
        {
          "name": "stderr",
          "output_type": "stream",
          "text": [
            " 24%|██▍       | 20/82 [02:12<07:03,  6.83s/it]"
          ]
        },
        {
          "name": "stdout",
          "output_type": "stream",
          "text": [
            "Muy nag, nag, nag, nag, nag, nag, nag, nag, nag.\n"
          ]
        },
        {
          "name": "stderr",
          "output_type": "stream",
          "text": [
            " 26%|██▌       | 21/82 [02:18<06:56,  6.82s/it]"
          ]
        },
        {
          "name": "stdout",
          "output_type": "stream",
          "text": [
            "Nettali askan wi, du sax, du sax, du sax, du sax, du sax, du ci sama yaay daan nettali nii.\n"
          ]
        },
        {
          "name": "stderr",
          "output_type": "stream",
          "text": [
            " 27%|██▋       | 22/82 [02:24<06:34,  6.57s/it]"
          ]
        },
        {
          "name": "stdout",
          "output_type": "stream",
          "text": [
            "Nettali askan wi, ci sama yaay moom, sama yaay daan nettali nii. Mu ni ko, sama yaay daan nettali nii, sama yaay daan nettali nii.\n"
          ]
        },
        {
          "name": "stderr",
          "output_type": "stream",
          "text": [
            " 28%|██▊       | 23/82 [02:31<06:18,  6.42s/it]"
          ]
        },
        {
          "name": "stdout",
          "output_type": "stream",
          "text": [
            "Muy nag, nag, nag, nag, nag, nag, nag, nag, nag, nag, nag, nag, nag, nag, nag, nag, nag, nag.\n"
          ]
        },
        {
          "name": "stderr",
          "output_type": "stream",
          "text": [
            " 29%|██▉       | 24/82 [02:38<06:24,  6.63s/it]"
          ]
        },
        {
          "name": "stdout",
          "output_type": "stream",
          "text": [
            "Ngiraal ya mu ngi nii, di ko ko daan nettali nii.\n"
          ]
        },
        {
          "name": "stderr",
          "output_type": "stream",
          "text": [
            " 30%|███       | 25/82 [02:46<06:39,  7.00s/it]"
          ]
        },
        {
          "name": "stdout",
          "output_type": "stream",
          "text": [
            "Nettali askan wi, di ko ci sama yaay dund, di ko nu daan nettali nii.\n"
          ]
        },
        {
          "name": "stderr",
          "output_type": "stream",
          "text": [
            " 32%|███▏      | 26/82 [02:55<07:20,  7.87s/it]"
          ]
        },
        {
          "name": "stdout",
          "output_type": "stream",
          "text": [
            "Muy nag, nag, nag, nag mooy ñaari gone yi ci sama yaay daan nettali nii.\n"
          ]
        },
        {
          "name": "stderr",
          "output_type": "stream",
          "text": [
            " 33%|███▎      | 27/82 [03:02<06:50,  7.46s/it]"
          ]
        },
        {
          "name": "stdout",
          "output_type": "stream",
          "text": [
            "Liñ na ma ni ma ni ma ni Baay, ci sama yaay di sama yaay daan def.\n"
          ]
        },
        {
          "name": "stderr",
          "output_type": "stream",
          "text": [
            " 34%|███▍      | 28/82 [03:09<06:38,  7.39s/it]"
          ]
        },
        {
          "name": "stdout",
          "output_type": "stream",
          "text": [
            "Nettali sax, nag, nag, nag, nag, nag, nag, nag, nag, nag, nag, nag, nag, nag, nag, nag, nag, nag, nag, nag, nag, nag, nag, nag, nag, nag, nag, nag, nag, nag, nag, nag, nag, nag, nag, nag, nag, nag, nag, nag, nag, nag, nag, nag, nag, nag, nag, nag, nag, nag, nag, nag.\n"
          ]
        },
        {
          "name": "stderr",
          "output_type": "stream",
          "text": [
            " 35%|███▌      | 29/82 [03:16<06:27,  7.31s/it]"
          ]
        },
        {
          "name": "stdout",
          "output_type": "stream",
          "text": [
            "Ngir sax, du dox lu mu mel ni mel ni mel ni mel ni mel ni mel.\n"
          ]
        },
        {
          "name": "stderr",
          "output_type": "stream",
          "text": [
            " 37%|███▋      | 30/82 [03:23<06:10,  7.12s/it]"
          ]
        },
        {
          "name": "stdout",
          "output_type": "stream",
          "text": [
            "Li ci sama yaay dund, du sax, du woon dara lu dul woon lu dul woon.\n"
          ]
        },
        {
          "name": "stderr",
          "output_type": "stream",
          "text": [
            " 38%|███▊      | 31/82 [03:30<06:01,  7.08s/it]"
          ]
        },
        {
          "name": "stdout",
          "output_type": "stream",
          "text": [
            "Ngir, ci sama yaay dund, di nu daan nettali nii, di nu daan nu daan nettali nii.\n"
          ]
        },
        {
          "name": "stderr",
          "output_type": "stream",
          "text": [
            " 39%|███▉      | 32/82 [03:37<05:46,  6.94s/it]"
          ]
        },
        {
          "name": "stdout",
          "output_type": "stream",
          "text": [
            "Li ci sama yaay dund époque-saalumu Afrig, du sax, du sax, du sax, du sax, du sax, du sax, du sax, du ci sama yaay.\n"
          ]
        },
        {
          "name": "stderr",
          "output_type": "stream",
          "text": [
            " 40%|████      | 33/82 [03:43<05:36,  6.87s/it]"
          ]
        },
        {
          "name": "stdout",
          "output_type": "stream",
          "text": [
            "Baay naa ni naa ni Baay jël, ci sama yaay daan def.\n"
          ]
        },
        {
          "name": "stderr",
          "output_type": "stream",
          "text": [
            " 41%|████▏     | 34/82 [03:49<05:14,  6.56s/it]"
          ]
        },
        {
          "name": "stdout",
          "output_type": "stream",
          "text": [
            "Nettali na mu ngi fàttaliku, moo xam ni, di mu ngi fàttaliku, di mu ngi janook fi ci sama yaay, di ngi janook moom, di mu ngi janook fi ci sama yaay.\n"
          ]
        },
        {
          "name": "stderr",
          "output_type": "stream",
          "text": [
            " 43%|████▎     | 35/82 [03:56<05:16,  6.73s/it]"
          ]
        },
        {
          "name": "stdout",
          "output_type": "stream",
          "text": [
            "Muy nag, nag, nag, nag, nag, nag, nag, nag, nag, nag, nag, nag, nag, nag, nag.\n"
          ]
        },
        {
          "name": "stderr",
          "output_type": "stream",
          "text": [
            " 44%|████▍     | 36/82 [04:03<05:13,  6.81s/it]"
          ]
        },
        {
          "name": "stdout",
          "output_type": "stream",
          "text": [
            "Nettali askan wi, di ko, di ko, di ko daan def. Mu ni ko, di ko daan def.\n"
          ]
        },
        {
          "name": "stderr",
          "output_type": "stream",
          "text": [
            " 45%|████▌     | 37/82 [04:11<05:13,  6.98s/it]"
          ]
        },
        {
          "name": "stdout",
          "output_type": "stream",
          "text": [
            "Ngir sax, di ko ci sama yaay moom, di ko ko ko ko ko daan def.\n"
          ]
        },
        {
          "name": "stderr",
          "output_type": "stream",
          "text": [
            " 46%|████▋     | 38/82 [04:17<05:03,  6.90s/it]"
          ]
        },
        {
          "name": "stdout",
          "output_type": "stream",
          "text": [
            "Ngir, su ma neexaan géej gi, du dox lu dul jeex.\n"
          ]
        },
        {
          "name": "stderr",
          "output_type": "stream",
          "text": [
            " 48%|████▊     | 39/82 [04:24<04:56,  6.89s/it]"
          ]
        },
        {
          "name": "stdout",
          "output_type": "stream",
          "text": [
            "Ngir, du dox ci sama yaay daan nettali nii.\n"
          ]
        },
        {
          "name": "stderr",
          "output_type": "stream",
          "text": [
            " 49%|████▉     | 40/82 [04:31<04:45,  6.79s/it]"
          ]
        },
        {
          "name": "stdout",
          "output_type": "stream",
          "text": [
            "Li ci sama yaay dund, du sax, du sax, du sax, du sax, du sax, du sax, du ci sama yaay.\n"
          ]
        },
        {
          "name": "stderr",
          "output_type": "stream",
          "text": [
            " 50%|█████     | 41/82 [04:37<04:32,  6.65s/it]"
          ]
        },
        {
          "name": "stdout",
          "output_type": "stream",
          "text": [
            "Nataal ya mu ngi fàttaliku, di ma ni ma ni ma ni ma ni sama yaay daan def, ci sama yaay daan def, di ma ni ma ni ma ni ma ni sama yaay daan ma daan ma daan ma daan ma daan ma daan ma daan ma daan ma daan ma daan ma daan ma daan ma ci sama yaay daan nettali nii.\n"
          ]
        },
        {
          "name": "stderr",
          "output_type": "stream",
          "text": [
            " 51%|█████     | 42/82 [04:44<04:31,  6.80s/it]"
          ]
        },
        {
          "name": "stdout",
          "output_type": "stream",
          "text": [
            "Muy nag, du woon a nga xam ni ci sama yaay.\n"
          ]
        },
        {
          "name": "stderr",
          "output_type": "stream",
          "text": [
            " 52%|█████▏    | 43/82 [04:50<04:12,  6.47s/it]"
          ]
        },
        {
          "name": "stdout",
          "output_type": "stream",
          "text": [
            "Nettali askan solo, moo xam naa, di ko, di sama yaay daan nettali nii, di sama yaay daan nettali nii, di sama yaay daan nettali nii, di sama yaay daan nettali nii, di faj la woon.\n"
          ]
        },
        {
          "name": "stderr",
          "output_type": "stream",
          "text": [
            " 54%|█████▎    | 44/82 [04:56<03:59,  6.31s/it]"
          ]
        },
        {
          "name": "stdout",
          "output_type": "stream",
          "text": [
            "Nettali askan wi, du sax, du sax, du sax, du sax, du sax, du sax, du sax, du ci sama yaay, du dox lu dul jeex, du dox ci biir yax.\n"
          ]
        },
        {
          "name": "stderr",
          "output_type": "stream",
          "text": [
            " 55%|█████▍    | 45/82 [05:03<04:03,  6.59s/it]"
          ]
        },
        {
          "name": "stdout",
          "output_type": "stream",
          "text": [
            "Muy nag, du woon a ngi janook moom, du woon dara.\n"
          ]
        },
        {
          "name": "stderr",
          "output_type": "stream",
          "text": [
            " 56%|█████▌    | 46/82 [05:10<03:58,  6.62s/it]"
          ]
        },
        {
          "name": "stdout",
          "output_type": "stream",
          "text": [
            "Biñ na ma nee bëggoon a ngi janook moom, du dox ci sama yaay daan nettali nii.\n"
          ]
        },
        {
          "name": "stderr",
          "output_type": "stream",
          "text": [
            " 57%|█████▋    | 47/82 [05:16<03:43,  6.39s/it]"
          ]
        },
        {
          "name": "stdout",
          "output_type": "stream",
          "text": [
            "Nettali askan wi, ci sama yaay daan nettali nii, di ko ci sama yaay daan nettali nii. Mu doon sama yaay daan nettali nii, di ngi janook moom, di ko ci sama yaay daan nettali nii.\n"
          ]
        },
        {
          "name": "stderr",
          "output_type": "stream",
          "text": [
            " 59%|█████▊    | 48/82 [05:21<03:30,  6.20s/it]"
          ]
        },
        {
          "name": "stdout",
          "output_type": "stream",
          "text": [
            "Nettali askan wi, du sax, du sax, du sax, du sax, du sax, du ci sama yaay daan wax dëgg, du fa, du fa, du fa, du fa, du fa, du fa, du fa, du fa, du fa, du fa, du fa, du fa, du fa, du fa, du fa, du fa, du fa, du fa, du fa, du fa, du fa, du fa, du fa, du fa, du fa, du fa, du fa, du fa, du fa, du fa, du fa, du fa, du fa, du fa, du fa, du fa, du fa, du fa, du fa, du fa, du fa, du fa, du fa, du fa, du fa, du fa, du fa, du fa, du fa, du fa, du fa, du fa, du fa, du fa, du fa, du fa, du fa, du fa, du fa, du fa, du fa, du fa, du fa, du fa, du fa, du fa, du fa, du fa, du fa, du fa, du fa, du fa, du fa, du fa, du fa, du fa, du fa, du fa, du fa, du fa, du fa, du fa, du fa, du fa, du fa, du fa, du fa, du fa, du fa, du fa, du fa, du fa, du fa, du fa, du\n"
          ]
        },
        {
          "name": "stderr",
          "output_type": "stream",
          "text": [
            " 60%|█████▉    | 49/82 [05:29<03:38,  6.62s/it]"
          ]
        },
        {
          "name": "stdout",
          "output_type": "stream",
          "text": [
            "Ngiraal ya, di ngi nii, di ngi nii, di ngi nii, di ngi nii.\n"
          ]
        },
        {
          "name": "stderr",
          "output_type": "stream",
          "text": [
            " 61%|██████    | 50/82 [05:37<03:47,  7.10s/it]"
          ]
        },
        {
          "name": "stdout",
          "output_type": "stream",
          "text": [
            "Nettali na, nag, nag, nag, nag, nag, nag, nag, nag, nag, nag, nag, nag, nag, nag, nag, nag, nag, nag, nag, nag, nag, nag, nag, nag, nag.\n"
          ]
        },
        {
          "name": "stderr",
          "output_type": "stream",
          "text": [
            " 62%|██████▏   | 51/82 [06:07<07:08, 13.84s/it]"
          ]
        },
        {
          "name": "stdout",
          "output_type": "stream",
          "text": [
            "Li ci sama yaay moom, du dox lu mu daan nettali nii.\n"
          ]
        },
        {
          "name": "stderr",
          "output_type": "stream",
          "text": [
            " 63%|██████▎   | 52/82 [06:27<07:53, 15.78s/it]"
          ]
        },
        {
          "name": "stdout",
          "output_type": "stream",
          "text": [
            "Nettali sax, du dox lu dul jeex. Mu ni mel ni mel ni mel ni mel ni mel ni mel ni mel ni mel.\n"
          ]
        },
        {
          "name": "stderr",
          "output_type": "stream",
          "text": [
            " 65%|██████▍   | 53/82 [06:48<08:23, 17.35s/it]"
          ]
        },
        {
          "name": "stdout",
          "output_type": "stream",
          "text": [
            "Nettali askan wi, di ma ni ma ni ma ni ma ci sama yaay, du sax, du sax, du sax, du ci sama yaay daan nettali nii.\n"
          ]
        },
        {
          "name": "stderr",
          "output_type": "stream",
          "text": [
            " 66%|██████▌   | 54/82 [07:17<09:42, 20.80s/it]"
          ]
        },
        {
          "name": "stdout",
          "output_type": "stream",
          "text": [
            "Nettali sax, su ma sama yaay moom, sama yaay moom, sama yaay daan jéem a ngi janook moom.\n"
          ]
        },
        {
          "name": "stderr",
          "output_type": "stream",
          "text": [
            " 67%|██████▋   | 55/82 [07:34<08:48, 19.58s/it]"
          ]
        },
        {
          "name": "stdout",
          "output_type": "stream",
          "text": [
            "Nettali askan wi, sama yaay moom, sama yaay moom, sama yaay moom, sama yaay moom, sama yaay daan nettali nii, di sama yaay daan nettali nii, di sama yaay daan nettali nii.\n"
          ]
        },
        {
          "name": "stderr",
          "output_type": "stream",
          "text": [
            " 68%|██████▊   | 56/82 [07:53<08:29, 19.59s/it]"
          ]
        },
        {
          "name": "stdout",
          "output_type": "stream",
          "text": [
            "Liñ sama yaay dund, du sax, du sax, du sax, du sax, du sax, du sax, du sax, du sax, du ci sama yaay.\n"
          ]
        },
        {
          "name": "stderr",
          "output_type": "stream",
          "text": [
            " 70%|██████▉   | 57/82 [08:14<08:16, 19.87s/it]"
          ]
        },
        {
          "name": "stdout",
          "output_type": "stream",
          "text": [
            "Nettali askan wi, du sax, du sax, du sax, du sax, du sax, du sax, du ci sama yaay.\n"
          ]
        },
        {
          "name": "stderr",
          "output_type": "stream",
          "text": [
            " 71%|███████   | 58/82 [08:37<08:19, 20.81s/it]"
          ]
        },
        {
          "name": "stdout",
          "output_type": "stream",
          "text": [
            "Muy nag, ci sama yaay daan wax dëgg-dëgg, ci sama yaay.\n"
          ]
        },
        {
          "name": "stderr",
          "output_type": "stream",
          "text": [
            " 72%|███████▏  | 59/82 [08:53<07:27, 19.46s/it]"
          ]
        },
        {
          "name": "stdout",
          "output_type": "stream",
          "text": [
            "Nettali askan wi, du sax, du sax, du sax, du sax, du ci sama yaay daan nettali nii. Mu doon sama yaay daan nettali nii, du woon a ngi gisaat, du dox ci sama yaay daan nettali nii.\n"
          ]
        },
        {
          "name": "stderr",
          "output_type": "stream",
          "text": [
            " 73%|███████▎  | 60/82 [09:14<07:16, 19.84s/it]"
          ]
        },
        {
          "name": "stdout",
          "output_type": "stream",
          "text": [
            "Muy nag, nag, nag, nag mooy ñaari gone gu ndaw-gisu Baay ca kow, ci sama mag.\n"
          ]
        },
        {
          "name": "stderr",
          "output_type": "stream",
          "text": [
            " 74%|███████▍  | 61/82 [09:31<06:41, 19.11s/it]"
          ]
        },
        {
          "name": "stdout",
          "output_type": "stream",
          "text": [
            "Xam naa xam naa xam naa xam naa xam ni Baay, du sax, du sax, du sax, du sax, du sax, du sax, du sax, du sax, du sax, du sax, du sax, du ci sama yaay.\n"
          ]
        },
        {
          "name": "stderr",
          "output_type": "stream",
          "text": [
            " 76%|███████▌  | 62/82 [09:52<06:32, 19.64s/it]"
          ]
        },
        {
          "name": "stdout",
          "output_type": "stream",
          "text": [
            "Muy nag, du sax, du woon a nga xam ni ci sama yaay.\n"
          ]
        },
        {
          "name": "stderr",
          "output_type": "stream",
          "text": [
            " 77%|███████▋  | 63/82 [10:12<06:15, 19.76s/it]"
          ]
        },
        {
          "name": "stdout",
          "output_type": "stream",
          "text": [
            "Xam naa ni ko ko ci sama yaay, ci sama yaay daan wax dëgg-dëgg, ci sama yaay.\n"
          ]
        },
        {
          "name": "stderr",
          "output_type": "stream",
          "text": [
            " 78%|███████▊  | 64/82 [10:42<06:50, 22.83s/it]"
          ]
        },
        {
          "name": "stdout",
          "output_type": "stream",
          "text": [
            "Muy nag, nag, nag, nag, nag, nag, nag, nag.\n"
          ]
        },
        {
          "name": "stderr",
          "output_type": "stream",
          "text": [
            " 79%|███████▉  | 65/82 [11:05<06:26, 22.72s/it]"
          ]
        },
        {
          "name": "stdout",
          "output_type": "stream",
          "text": [
            "Nu nekk, di ko ko mel ni mel ni mel ni mel ni mel ni mel ni mel ni mel.\n"
          ]
        },
        {
          "name": "stderr",
          "output_type": "stream",
          "text": [
            " 80%|████████  | 66/82 [11:35<06:40, 25.03s/it]"
          ]
        },
        {
          "name": "stdout",
          "output_type": "stream",
          "text": [
            "Muy nag, nag, nag, nag, nag, nag, nag, nag, nag, nag, nag, nag, nag, nag, nag, nag, nag, nag, ñu ànd ak seen bopp, ñu ànd ak seen biir yu kowe, seen biir yu kowe, seen biir yu kowe ya.\n"
          ]
        },
        {
          "name": "stderr",
          "output_type": "stream",
          "text": [
            " 82%|████████▏ | 67/82 [11:55<05:50, 23.37s/it]"
          ]
        },
        {
          "name": "stdout",
          "output_type": "stream",
          "text": [
            "Muy nag, nag, nag, nag, nag, nag.\n"
          ]
        },
        {
          "name": "stderr",
          "output_type": "stream",
          "text": [
            " 83%|████████▎ | 68/82 [12:15<05:16, 22.64s/it]"
          ]
        },
        {
          "name": "stdout",
          "output_type": "stream",
          "text": [
            "Ngir sax, ci sama yaay di ko ci sama yaay.\n"
          ]
        },
        {
          "name": "stderr",
          "output_type": "stream",
          "text": [
            " 84%|████████▍ | 69/82 [12:48<05:32, 25.58s/it]"
          ]
        },
        {
          "name": "stdout",
          "output_type": "stream",
          "text": [
            "Liñ na ci sama yaay dund, du sax, du sax, du sax, du sax, du sax, du sax, du sax, du sax, du sax, du sax, du sax, du sax, du ci sama yaay du sax, du sax, du sax, du sax, du sax, du sax, du sax, du ci sama yaay.\n"
          ]
        },
        {
          "name": "stderr",
          "output_type": "stream",
          "text": [
            " 85%|████████▌ | 70/82 [13:13<05:03, 25.32s/it]"
          ]
        },
        {
          "name": "stdout",
          "output_type": "stream",
          "text": [
            "Nu nekk Afrig, du dox lu mu mel ni mel ni mel ni mel ni mel ni mel.\n"
          ]
        },
        {
          "name": "stderr",
          "output_type": "stream",
          "text": [
            " 87%|████████▋ | 71/82 [13:37<04:36, 25.10s/it]"
          ]
        },
        {
          "name": "stdout",
          "output_type": "stream",
          "text": [
            "Nettali askan wi, du sax, du sax, du sax, du dox ci sama yaay dund Afrig, du dox ci sama yaay.\n"
          ]
        },
        {
          "name": "stderr",
          "output_type": "stream",
          "text": [
            " 88%|████████▊ | 72/82 [14:04<04:16, 25.60s/it]"
          ]
        },
        {
          "name": "stdout",
          "output_type": "stream",
          "text": [
            "Muy nag, nag, nag, nag, nag, nag, nag, nag, nag, nag, nag, nag.\n"
          ]
        },
        {
          "name": "stderr",
          "output_type": "stream",
          "text": [
            " 89%|████████▉ | 73/82 [14:31<03:54, 26.10s/it]"
          ]
        },
        {
          "name": "stdout",
          "output_type": "stream",
          "text": [
            "Ngir, du dox lu mu mel ni mel ni mel ni mel.\n"
          ]
        },
        {
          "name": "stderr",
          "output_type": "stream",
          "text": [
            " 90%|█████████ | 74/82 [14:58<03:29, 26.19s/it]"
          ]
        },
        {
          "name": "stdout",
          "output_type": "stream",
          "text": [
            "Ngir, di ko muy def, di ko ci sama yaay, di sama yaay daan nettali nii.\n"
          ]
        },
        {
          "name": "stderr",
          "output_type": "stream",
          "text": [
            " 91%|█████████▏| 75/82 [15:21<02:57, 25.41s/it]"
          ]
        },
        {
          "name": "stdout",
          "output_type": "stream",
          "text": [
            "Nettali askan wi, ci seen biir yu kowe, seen biir yu kowe ya, seen bopp, seen biir yu kowe ya mu mel ni mel ni mel ni mel ni mel niy baat.\n"
          ]
        },
        {
          "name": "stderr",
          "output_type": "stream",
          "text": [
            " 93%|█████████▎| 76/82 [15:48<02:35, 25.92s/it]"
          ]
        },
        {
          "name": "stdout",
          "output_type": "stream",
          "text": [
            "Muy nag, nag, nag, nag, nag, nag, nag, nag, nag, nag.\n"
          ]
        },
        {
          "name": "stderr",
          "output_type": "stream",
          "text": [
            " 94%|█████████▍| 77/82 [16:13<02:07, 25.54s/it]"
          ]
        },
        {
          "name": "stdout",
          "output_type": "stream",
          "text": [
            "Nettali askan wi, ci sama yaay, sama yaay daan wax dëgg-dëgg, di ma ni ma ni ma ni ma ni ma ni ma koy jekk-jant.\n"
          ]
        },
        {
          "name": "stderr",
          "output_type": "stream",
          "text": [
            " 95%|█████████▌| 78/82 [16:41<01:45, 26.29s/it]"
          ]
        },
        {
          "name": "stdout",
          "output_type": "stream",
          "text": [
            "Biñ yeggee ci sama yaay dund, du sax, du sax, du sax, du sax, du sax, du sax, du sax, du sax, du sax, du ci sama yaay.\n"
          ]
        },
        {
          "name": "stderr",
          "output_type": "stream",
          "text": [
            " 96%|█████████▋| 79/82 [17:06<01:17, 25.83s/it]"
          ]
        },
        {
          "name": "stdout",
          "output_type": "stream",
          "text": [
            "Nettali sax, nag, nag, nag, nag, nag, nag, nag, nag, nag, nag, nag, nag, nag, nag, nag, nag, nag, nag, nag, nag, nag, nag, nag, nag, nag, nag, nag, nag, nag, nag, nag, nag, nag, nag, nag, nag, nag, nag, nag, nag, nag, nag, nag, ñu ànd ak seen bopp, seen bopp, seen bopp, seen bopp, seen bopp, seen bopp, seen bopp, seen bopp, seen bopp, seen bopp, seen bopp, seen bopp, seen bopp, seen bopp, seen bopp, seen bopp, seen bopp, seen bopp, seen bopp, seen bopp, seen bopp, seen bopp, seen bopp, seen bopp, seen bopp, seen bopp, seen bopp, seen bopp seen bopp, seen bopp, seen bopp seen bopp, seen bopp seen bopp, seen bopp, seen bopp seen bopp, seen bopp, seen bopp, seen bopp seen bopp seen bopp seen bopp, seen bopp, seen bopp seen bopp, seen bopp, seen bopp seen bopp seen bopp, seen bopp, seen bopp, seen bopp seen bopp, seen bopp, seen bopp, seen bopp, seen bopp seen bopp, seen bopp, seen bopp seen bopp, seen bopp seen bopp, seen bopp seen bopp, seen bopp, seen bopp seen bopp, seen bopp seen bopp seen bopp, seen bopp seen bopp seen bopp seen bopp seen bopp, seen bopp seen bopp, seen bopp seen bopp seen bopp seen bopp seen bopp seen\n"
          ]
        },
        {
          "name": "stderr",
          "output_type": "stream",
          "text": [
            " 98%|█████████▊| 80/82 [17:31<00:51, 25.61s/it]"
          ]
        },
        {
          "name": "stdout",
          "output_type": "stream",
          "text": [
            "Muy nag, nag, nag, nag, nag, nag, nag, nag, nag.\n"
          ]
        },
        {
          "name": "stderr",
          "output_type": "stream",
          "text": [
            " 99%|█████████▉| 81/82 [17:56<00:25, 25.53s/it]"
          ]
        },
        {
          "name": "stdout",
          "output_type": "stream",
          "text": [
            "Baay na ko ko ko daan def, di ko ci sama yaay daan def.\n"
          ]
        },
        {
          "name": "stderr",
          "output_type": "stream",
          "text": [
            "100%|██████████| 82/82 [18:23<00:00, 13.45s/it]"
          ]
        },
        {
          "name": "stdout",
          "output_type": "stream",
          "text": [
            "Nettali sax, du dox ci seen biir yu dóomu-gisu Baay, seen biir yu dóomu-gisu Baay, seen biir yu mag, seen biir yu mag, seen biir yu mag, seen biir yu ñu ànd ak seen biir yu ñu ànd ak seeni dàll, seen bopp, seen bopp, seen bopp, seen bopp, seen bopp, seen bopp, seen bopp, seen bopp, seen bopp, seen bopp, seen bopp, seen bopp, seen bopp, seen bopp, seen bopp, seen bopp, seen bopp, seen bopp, seen bopp, seen bopp, seen bopp, seen bopp, seen bopp, seen bopp, seen bopp, seen bopp, seen bopp, seen bopp, seen bopp, seen bopp, seen bopp, seen bopp, seen bopp, seen bopp, seen bopp, seen bopp, seen bopp, seen bopp, seen bopp, seen bopp, seen bopp, seen bopp, seen bopp, seen bopp, seen bopp, seen bopp seen bopp seen bopp, seen bopp, seen bopp, seen bopp seen bopp, seen bopp seen bopp, seen bopp seen bopp seen bopp, seen bopp, seen bopp seen bopp, seen bopp seen bopp, seen bopp, seen bopp seen bopp, seen bopp, seen bopp, seen bopp seen bopp, seen bopp, seen bopp seen bopp, seen bopp seen bopp, seen bopp, seen bopp, seen bopp, seen bopp seen bopp, seen bopp, seen bopp, seen bopp, seen bopp, seen bopp, seen bopp, seen bopp, seen bopp, seen bopp, seen bopp, seen bopp, seen bopp, seen bopp, seen bopp, seen bopp, seen\n"
          ]
        },
        {
          "name": "stderr",
          "output_type": "stream",
          "text": [
            "\n"
          ]
        },
        {
          "data": {
            "text/html": [
              "<div>\n",
              "<style scoped>\n",
              "    .dataframe tbody tr th:only-of-type {\n",
              "        vertical-align: middle;\n",
              "    }\n",
              "\n",
              "    .dataframe tbody tr th {\n",
              "        vertical-align: top;\n",
              "    }\n",
              "\n",
              "    .dataframe thead th {\n",
              "        text-align: right;\n",
              "    }\n",
              "</style>\n",
              "<table border=\"1\" class=\"dataframe\">\n",
              "  <thead>\n",
              "    <tr style=\"text-align: right;\">\n",
              "      <th></th>\n",
              "      <th>original_text</th>\n",
              "      <th>original_label</th>\n",
              "      <th>predicted_label</th>\n",
              "    </tr>\n",
              "  </thead>\n",
              "  <tbody>\n",
              "    <tr>\n",
              "      <th>0</th>\n",
              "      <td>Hommes, femmes, enfants sont pris dans un pièg...</td>\n",
              "      <td>Mag, ndaw, góor ak jigéen jàq, song àll bi te ...</td>\n",
              "      <td>Muy nag, nag, nag, nag, nag, nag, nag, nag, na...</td>\n",
              "    </tr>\n",
              "    <tr>\n",
              "      <th>1</th>\n",
              "      <td>Les portes ouvertes à l'émigration, ces cohort...</td>\n",
              "      <td>Loolu doyul, biñ duggee ci atum 60, ñu ubbil A...</td>\n",
              "      <td>Nettali sax, su ma ci sama yaay moom, di ma ni...</td>\n",
              "    </tr>\n",
              "    <tr>\n",
              "      <th>2</th>\n",
              "      <td>Les sulfamides sont rares, les poudres et les ...</td>\n",
              "      <td>Garab yu néew lañuy yóbbale, diy puudar ak i t...</td>\n",
              "      <td>Ngalla, su ma sama yaay moom, sama yaay moom, ...</td>\n",
              "    </tr>\n",
              "    <tr>\n",
              "      <th>3</th>\n",
              "      <td>Je peux ressentir l'émotion qu'il éprouve à tr...</td>\n",
              "      <td>Li koy yëngal noonu, xam naa ko. Lan moo ko dà...</td>\n",
              "      <td>Nettali askan wi, ay way-jur, ay ndell, ay nde...</td>\n",
              "    </tr>\n",
              "    <tr>\n",
              "      <th>4</th>\n",
              "      <td>Tout ce que j'ai pu savoir de cette période, c...</td>\n",
              "      <td>Sunu yaay daal moo daan sànni léeg-léeg ci wax...</td>\n",
              "      <td>Nettali sax, du sax, du sax, du sax, du sax, d...</td>\n",
              "    </tr>\n",
              "  </tbody>\n",
              "</table>\n",
              "</div>"
            ],
            "text/plain": [
              "                                       original_text  \\\n",
              "0  Hommes, femmes, enfants sont pris dans un pièg...   \n",
              "1  Les portes ouvertes à l'émigration, ces cohort...   \n",
              "2  Les sulfamides sont rares, les poudres et les ...   \n",
              "3  Je peux ressentir l'émotion qu'il éprouve à tr...   \n",
              "4  Tout ce que j'ai pu savoir de cette période, c...   \n",
              "\n",
              "                                      original_label  \\\n",
              "0  Mag, ndaw, góor ak jigéen jàq, song àll bi te ...   \n",
              "1  Loolu doyul, biñ duggee ci atum 60, ñu ubbil A...   \n",
              "2  Garab yu néew lañuy yóbbale, diy puudar ak i t...   \n",
              "3  Li koy yëngal noonu, xam naa ko. Lan moo ko dà...   \n",
              "4  Sunu yaay daal moo daan sànni léeg-léeg ci wax...   \n",
              "\n",
              "                                     predicted_label  \n",
              "0  Muy nag, nag, nag, nag, nag, nag, nag, nag, na...  \n",
              "1  Nettali sax, su ma ci sama yaay moom, di ma ni...  \n",
              "2  Ngalla, su ma sama yaay moom, sama yaay moom, ...  \n",
              "3  Nettali askan wi, ay way-jur, ay ndell, ay nde...  \n",
              "4  Nettali sax, du sax, du sax, du sax, du sax, d...  "
            ]
          },
          "execution_count": 26,
          "metadata": {},
          "output_type": "execute_result"
        }
      ],
      "source": [
        "\n",
        "# set the model to eval mode\n",
        "_ = model.eval()\n",
        "\n",
        "# run model inference on all test data\n",
        "original_traduction, predicted_traduction, original_text, scores = [], [], [], {}\n",
        "\n",
        "for data in tqdm(DataLoader(test_dataset)):\n",
        "    \n",
        "    # recuperate the two part of the sentence\n",
        "    sents = list(test_dataset.decode(data[0]))\n",
        "    \n",
        "    cp1_sent, cp2_sent = sents[0][0], sents[0][1] \n",
        "    \n",
        "    # create the sentence to traduce\n",
        "    sent1 = f'{test_dataset.cls_token}{cp1_sent}{test_dataset.sep_token}'\n",
        "    \n",
        "    # generate tokens\n",
        "    encoding = tokenizer(sent1, return_tensors='pt')\n",
        "    \n",
        "    generated = encoding.input_ids.cuda()\n",
        "    \n",
        "    attention_mask = encoding.attention_mask.cuda()\n",
        "    \n",
        "    # recuperate the pad token id\n",
        "    pad_token_id = tokenizer.pad_token_id\n",
        "    \n",
        "    # perform prediction\n",
        "    sample_outputs = model.generate(generated, do_sample = False, top_k = 50, max_length = test_dataset.max_len, top_p = 0.90,\n",
        "                                    temperature = 0, num_return_sequences = 0, attention_mask = attention_mask, pad_token_id = pad_token_id)\n",
        "    \n",
        "    # calculate the score and add it to the score\n",
        "    result = translation_eval.compute_metrics((sample_outputs, generated))\n",
        "    \n",
        "    if not scores: scores.update({k: v for k, v in result.items()})\n",
        "    \n",
        "    else: scores.update({k: round((scores[k] + v) / 2, 4) for k, v in result.items()})\n",
        "    \n",
        "    # decode the predicted tokens into texts\n",
        "    sent2 = list(test_dataset.decode(sample_outputs, True))[0]\n",
        "    \n",
        "    print(sent2)\n",
        "    # append results\n",
        "    original_traduction.append(cp2_sent)\n",
        "    predicted_traduction.append(sent2)\n",
        "    original_text.append(cp1_sent)\n",
        "\n",
        "# transform result into data frame\n",
        "df_ft_to_wf = pd.DataFrame({'original_text': original_text,\n",
        "                            'original_label': original_traduction,\n",
        "                            'predicted_label': predicted_traduction})\n",
        "\n",
        "# print the result\n",
        "df_ft_to_wf.head()"
      ]
    },
    {
      "cell_type": "markdown",
      "metadata": {
        "id": "-MLpsLHQLAJz"
      },
      "source": [
        "Like we specified in conclusion of the first processing on the corpora, some words appear a too important number of times in the text and we can see that their arrive in the large part of the translations. We can add augmentation and see if we obtain better results on the evaluation set."
      ]
    },
    {
      "cell_type": "markdown",
      "metadata": {
        "id": "AQ0Tv0a5LAJ0"
      },
      "source": [
        "### Training with augmentation"
      ]
    },
    {
      "cell_type": "markdown",
      "metadata": {
        "id": "RhEVH7H1LAJ0"
      },
      "source": [
        "We must initialize a new model."
      ]
    },
    {
      "cell_type": "code",
      "execution_count": null,
      "metadata": {
        "id": "AyAPJNYDLAJ0",
        "outputId": "c4b31755-40d8-43f9-fb32-d2dc082dfc3b"
      },
      "outputs": [
        {
          "data": {
            "text/plain": [
              "Embedding(15696, 768)"
            ]
          },
          "execution_count": 8,
          "metadata": {},
          "output_type": "execute_result"
        }
      ],
      "source": [
        "# set the mode name\n",
        "model_name = \"gpt2\"\n",
        "\n",
        "# recuperate the tokenizer from the dataset\n",
        "tokenizer = train_dataset_aug.tokenizer\n",
        "\n",
        "# configure the model\n",
        "model_aug = GPT2LMHeadModel.from_pretrained(model_name).cuda()\n",
        "\n",
        "# resize the token embeddings\n",
        "model_aug.resize_token_embeddings(len(tokenizer))\n"
      ]
    },
    {
      "cell_type": "markdown",
      "metadata": {
        "id": "57x2Y143LAJ0"
      },
      "source": [
        "Let us initialize the training arguments and fine-tune the model."
      ]
    },
    {
      "cell_type": "code",
      "execution_count": null,
      "metadata": {
        "id": "bX3Vrx-hLAJ0"
      },
      "outputs": [],
      "source": [
        "# seed\n",
        "torch.manual_seed(50)\n",
        "\n",
        "# create training arguments\n",
        "training_args = TrainingArguments(\"data/training1/results_aug\",\n",
        "                                  overwrite_output_dir=True,\n",
        "                                  num_train_epochs=3,\n",
        "                                  logging_steps=100,\n",
        "                                  load_best_model_at_end=True,\n",
        "                                  save_strategy=\"epoch\",\n",
        "                                  evaluation_strategy=\"epoch\",\n",
        "                                  per_device_train_batch_size=2, \n",
        "                                  per_device_eval_batch_size=2,\n",
        "                                  learning_rate=2e-5,\n",
        "                                #   warmup_steps=120,\n",
        "                                  weight_decay=0.05,\n",
        "                                  logging_dir='gpt2_training_aug_logs1')\n",
        "\n",
        "# start training\n",
        "trainer = Trainer(model=model_aug,\n",
        "                  args=training_args,\n",
        "                  train_dataset=train_dataset_aug, \n",
        "                  eval_dataset=test_dataset_aug,\n",
        "                  data_collator=data_collator,\n",
        "                  # compute_metrics=translation_eval.compute_metrics\n",
        "                  )\n",
        "\n",
        "# def optuna_hp_space(trial):\n",
        "  \n",
        "#   return {\n",
        "#     \"learning_rate\": trial.suggest_float(\"learning_rate\", 1e-5, 5e-5, log = True),\n",
        "#     \"num_train_epochs\": trial.suggest_int(\"num_train_epochs\", 1, 5),\n",
        "#     \"seed\": trial.suggest_int(\"seed\", 1, 40),\n",
        "#     \"per_device_train_batch_size\": trial.suggest_categorical(\"per_device_train_batch_size\", [2, 3, 4, 5, 6])\n",
        "#   }\n",
        "\n",
        "# # Searching for the best hyperparameters\n",
        "# trainer.hyperparameter_search(\n",
        "#   direction = \"maximize\",\n",
        "#   backend = \"optuna\",\n",
        "#   hp_space = optuna_hp_space,\n",
        "#   n_trials = 10,\n",
        "# )\n"
      ]
    },
    {
      "cell_type": "code",
      "execution_count": null,
      "metadata": {
        "id": "BvC-Rd2hLAJ1",
        "outputId": "8089f82c-82e9-4dc8-e6fe-df0ac5bd7d45"
      },
      "outputs": [
        {
          "name": "stderr",
          "output_type": "stream",
          "text": [
            "c:\\Users\\Oumar Kane\\AppData\\Local\\pypoetry\\Cache\\virtualenvs\\pytorch1-HleOW5am-py3.10\\lib\\site-packages\\transformers\\optimization.py:391: FutureWarning: This implementation of AdamW is deprecated and will be removed in a future version. Use the PyTorch implementation torch.optim.AdamW instead, or set `no_deprecation_warning=True` to disable this warning\n",
            "  warnings.warn(\n",
            "  1%|▏         | 15/1101 [00:29<31:12,  1.72s/it] "
          ]
        }
      ],
      "source": [
        "# load from a checkpoint and continue the training\n",
        "# trainer._load_from_checkpoint('data/training1/results/checkpoint-734/')\n",
        "\n",
        "trainer.train()"
      ]
    },
    {
      "cell_type": "markdown",
      "metadata": {
        "id": "Qy3qDqF2LAJ1"
      },
      "source": [
        "-----------------------"
      ]
    },
    {
      "cell_type": "markdown",
      "metadata": {
        "id": "p0klCTaFgOzL"
      },
      "source": [
        "### Colab download step"
      ]
    },
    {
      "cell_type": "code",
      "execution_count": 19,
      "metadata": {
        "colab": {
          "base_uri": "https://localhost:8080/",
          "height": 328
        },
        "id": "FJOq9oG5gN9y",
        "outputId": "661d968a-3760-4099-ce76-c9f504a81aa9"
      },
      "outputs": [
        {
          "ename": "NotImplementedError",
          "evalue": "ignored",
          "output_type": "error",
          "traceback": [
            "\u001b[0;31m---------------------------------------------------------------------------\u001b[0m",
            "\u001b[0;31mNotImplementedError\u001b[0m                       Traceback (most recent call last)",
            "\u001b[0;32m<ipython-input-19-557127b0745c>\u001b[0m in \u001b[0;36m<cell line: 1>\u001b[0;34m()\u001b[0m\n\u001b[0;32m----> 1\u001b[0;31m \u001b[0mget_ipython\u001b[0m\u001b[0;34m(\u001b[0m\u001b[0;34m)\u001b[0m\u001b[0;34m.\u001b[0m\u001b[0msystem\u001b[0m\u001b[0;34m(\u001b[0m\u001b[0;34m'zip -r /content/data.zip /content/data'\u001b[0m\u001b[0;34m)\u001b[0m\u001b[0;34m\u001b[0m\u001b[0;34m\u001b[0m\u001b[0m\n\u001b[0m",
            "\u001b[0;32m/usr/local/lib/python3.9/dist-packages/google/colab/_shell.py\u001b[0m in \u001b[0;36msystem\u001b[0;34m(self, *args, **kwargs)\u001b[0m\n\u001b[1;32m     97\u001b[0m       \u001b[0mkwargs\u001b[0m\u001b[0;34m.\u001b[0m\u001b[0mupdate\u001b[0m\u001b[0;34m(\u001b[0m\u001b[0;34m{\u001b[0m\u001b[0;34m'also_return_output'\u001b[0m\u001b[0;34m:\u001b[0m \u001b[0;32mTrue\u001b[0m\u001b[0;34m}\u001b[0m\u001b[0;34m)\u001b[0m\u001b[0;34m\u001b[0m\u001b[0;34m\u001b[0m\u001b[0m\n\u001b[1;32m     98\u001b[0m \u001b[0;34m\u001b[0m\u001b[0m\n\u001b[0;32m---> 99\u001b[0;31m     \u001b[0moutput\u001b[0m \u001b[0;34m=\u001b[0m \u001b[0m_system_commands\u001b[0m\u001b[0;34m.\u001b[0m\u001b[0m_system_compat\u001b[0m\u001b[0;34m(\u001b[0m\u001b[0mself\u001b[0m\u001b[0;34m,\u001b[0m \u001b[0;34m*\u001b[0m\u001b[0margs\u001b[0m\u001b[0;34m,\u001b[0m \u001b[0;34m**\u001b[0m\u001b[0mkwargs\u001b[0m\u001b[0;34m)\u001b[0m  \u001b[0;31m# pylint:disable=protected-access\u001b[0m\u001b[0;34m\u001b[0m\u001b[0;34m\u001b[0m\u001b[0m\n\u001b[0m\u001b[1;32m    100\u001b[0m \u001b[0;34m\u001b[0m\u001b[0m\n\u001b[1;32m    101\u001b[0m     \u001b[0;32mif\u001b[0m \u001b[0mpip_warn\u001b[0m\u001b[0;34m:\u001b[0m\u001b[0;34m\u001b[0m\u001b[0;34m\u001b[0m\u001b[0m\n",
            "\u001b[0;32m/usr/local/lib/python3.9/dist-packages/google/colab/_system_commands.py\u001b[0m in \u001b[0;36m_system_compat\u001b[0;34m(shell, cmd, also_return_output)\u001b[0m\n\u001b[1;32m    451\u001b[0m   \u001b[0;31m# is expected to call this function, thus adding one level of nesting to the\u001b[0m\u001b[0;34m\u001b[0m\u001b[0;34m\u001b[0m\u001b[0m\n\u001b[1;32m    452\u001b[0m   \u001b[0;31m# stack.\u001b[0m\u001b[0;34m\u001b[0m\u001b[0;34m\u001b[0m\u001b[0m\n\u001b[0;32m--> 453\u001b[0;31m   result = _run_command(\n\u001b[0m\u001b[1;32m    454\u001b[0m       \u001b[0mshell\u001b[0m\u001b[0;34m.\u001b[0m\u001b[0mvar_expand\u001b[0m\u001b[0;34m(\u001b[0m\u001b[0mcmd\u001b[0m\u001b[0;34m,\u001b[0m \u001b[0mdepth\u001b[0m\u001b[0;34m=\u001b[0m\u001b[0;36m2\u001b[0m\u001b[0;34m)\u001b[0m\u001b[0;34m,\u001b[0m \u001b[0mclear_streamed_output\u001b[0m\u001b[0;34m=\u001b[0m\u001b[0;32mFalse\u001b[0m\u001b[0;34m\u001b[0m\u001b[0;34m\u001b[0m\u001b[0m\n\u001b[1;32m    455\u001b[0m   )\n",
            "\u001b[0;32m/usr/local/lib/python3.9/dist-packages/google/colab/_system_commands.py\u001b[0m in \u001b[0;36m_run_command\u001b[0;34m(cmd, clear_streamed_output)\u001b[0m\n\u001b[1;32m    165\u001b[0m   \u001b[0mlocale_encoding\u001b[0m \u001b[0;34m=\u001b[0m \u001b[0mlocale\u001b[0m\u001b[0;34m.\u001b[0m\u001b[0mgetpreferredencoding\u001b[0m\u001b[0;34m(\u001b[0m\u001b[0;34m)\u001b[0m\u001b[0;34m\u001b[0m\u001b[0;34m\u001b[0m\u001b[0m\n\u001b[1;32m    166\u001b[0m   \u001b[0;32mif\u001b[0m \u001b[0mlocale_encoding\u001b[0m \u001b[0;34m!=\u001b[0m \u001b[0m_ENCODING\u001b[0m\u001b[0;34m:\u001b[0m\u001b[0;34m\u001b[0m\u001b[0;34m\u001b[0m\u001b[0m\n\u001b[0;32m--> 167\u001b[0;31m     raise NotImplementedError(\n\u001b[0m\u001b[1;32m    168\u001b[0m         \u001b[0;34m'A UTF-8 locale is required. Got {}'\u001b[0m\u001b[0;34m.\u001b[0m\u001b[0mformat\u001b[0m\u001b[0;34m(\u001b[0m\u001b[0mlocale_encoding\u001b[0m\u001b[0;34m)\u001b[0m\u001b[0;34m\u001b[0m\u001b[0;34m\u001b[0m\u001b[0m\n\u001b[1;32m    169\u001b[0m     )\n",
            "\u001b[0;31mNotImplementedError\u001b[0m: A UTF-8 locale is required. Got ANSI_X3.4-1968"
          ]
        }
      ],
      "source": [
        "!zip -r /content/data.zip /content/data"
      ]
    },
    {
      "cell_type": "markdown",
      "metadata": {
        "id": "u7NPlNlPgRz9"
      },
      "source": [
        "------------------"
      ]
    }
  ],
  "metadata": {
    "accelerator": "GPU",
    "colab": {
      "provenance": []
    },
    "gpuClass": "standard",
    "kernelspec": {
      "display_name": "pytorch1-HleOW5am-py3.10",
      "language": "python",
      "name": "python3"
    },
    "language_info": {
      "codemirror_mode": {
        "name": "ipython",
        "version": 3
      },
      "file_extension": ".py",
      "mimetype": "text/x-python",
      "name": "python",
      "nbconvert_exporter": "python",
      "pygments_lexer": "ipython3",
      "version": "3.10.8"
    },
    "orig_nbformat": 4,
    "widgets": {
      "application/vnd.jupyter.widget-state+json": {
        "0514b42541f44db58f4aa6a8668c1f7d": {
          "model_module": "@jupyter-widgets/controls",
          "model_module_version": "1.5.0",
          "model_name": "ProgressStyleModel",
          "state": {
            "_model_module": "@jupyter-widgets/controls",
            "_model_module_version": "1.5.0",
            "_model_name": "ProgressStyleModel",
            "_view_count": null,
            "_view_module": "@jupyter-widgets/base",
            "_view_module_version": "1.2.0",
            "_view_name": "StyleView",
            "bar_color": null,
            "description_width": ""
          }
        },
        "086514753fea4fba84dabf86274d34ca": {
          "model_module": "@jupyter-widgets/base",
          "model_module_version": "1.2.0",
          "model_name": "LayoutModel",
          "state": {
            "_model_module": "@jupyter-widgets/base",
            "_model_module_version": "1.2.0",
            "_model_name": "LayoutModel",
            "_view_count": null,
            "_view_module": "@jupyter-widgets/base",
            "_view_module_version": "1.2.0",
            "_view_name": "LayoutView",
            "align_content": null,
            "align_items": null,
            "align_self": null,
            "border": null,
            "bottom": null,
            "display": null,
            "flex": null,
            "flex_flow": null,
            "grid_area": null,
            "grid_auto_columns": null,
            "grid_auto_flow": null,
            "grid_auto_rows": null,
            "grid_column": null,
            "grid_gap": null,
            "grid_row": null,
            "grid_template_areas": null,
            "grid_template_columns": null,
            "grid_template_rows": null,
            "height": null,
            "justify_content": null,
            "justify_items": null,
            "left": null,
            "margin": null,
            "max_height": null,
            "max_width": null,
            "min_height": null,
            "min_width": null,
            "object_fit": null,
            "object_position": null,
            "order": null,
            "overflow": null,
            "overflow_x": null,
            "overflow_y": null,
            "padding": null,
            "right": null,
            "top": null,
            "visibility": null,
            "width": null
          }
        },
        "13ac741581744ae79f674f15c7c9fe43": {
          "model_module": "@jupyter-widgets/controls",
          "model_module_version": "1.5.0",
          "model_name": "DescriptionStyleModel",
          "state": {
            "_model_module": "@jupyter-widgets/controls",
            "_model_module_version": "1.5.0",
            "_model_name": "DescriptionStyleModel",
            "_view_count": null,
            "_view_module": "@jupyter-widgets/base",
            "_view_module_version": "1.2.0",
            "_view_name": "StyleView",
            "description_width": ""
          }
        },
        "2836e29fb71447ea9b704cf9b1be19c1": {
          "model_module": "@jupyter-widgets/base",
          "model_module_version": "1.2.0",
          "model_name": "LayoutModel",
          "state": {
            "_model_module": "@jupyter-widgets/base",
            "_model_module_version": "1.2.0",
            "_model_name": "LayoutModel",
            "_view_count": null,
            "_view_module": "@jupyter-widgets/base",
            "_view_module_version": "1.2.0",
            "_view_name": "LayoutView",
            "align_content": null,
            "align_items": null,
            "align_self": null,
            "border": null,
            "bottom": null,
            "display": null,
            "flex": null,
            "flex_flow": null,
            "grid_area": null,
            "grid_auto_columns": null,
            "grid_auto_flow": null,
            "grid_auto_rows": null,
            "grid_column": null,
            "grid_gap": null,
            "grid_row": null,
            "grid_template_areas": null,
            "grid_template_columns": null,
            "grid_template_rows": null,
            "height": null,
            "justify_content": null,
            "justify_items": null,
            "left": null,
            "margin": null,
            "max_height": null,
            "max_width": null,
            "min_height": null,
            "min_width": null,
            "object_fit": null,
            "object_position": null,
            "order": null,
            "overflow": null,
            "overflow_x": null,
            "overflow_y": null,
            "padding": null,
            "right": null,
            "top": null,
            "visibility": null,
            "width": null
          }
        },
        "28eb7277633a44e9a03e90e6289c60cb": {
          "model_module": "@jupyter-widgets/controls",
          "model_module_version": "1.5.0",
          "model_name": "HTMLModel",
          "state": {
            "_dom_classes": [],
            "_model_module": "@jupyter-widgets/controls",
            "_model_module_version": "1.5.0",
            "_model_name": "HTMLModel",
            "_view_count": null,
            "_view_module": "@jupyter-widgets/controls",
            "_view_module_version": "1.5.0",
            "_view_name": "HTMLView",
            "description": "",
            "description_tooltip": null,
            "layout": "IPY_MODEL_6a243216cd6848a5a5f78025b47c2609",
            "placeholder": "​",
            "style": "IPY_MODEL_833b48e1b65b4fe7afd4565ee211d36a",
            "value": " 8.15k/8.15k [00:00&lt;00:00, 192kB/s]"
          }
        },
        "291b2ee8a0ca4681ad8ecd4de60f473f": {
          "model_module": "@jupyter-widgets/controls",
          "model_module_version": "1.5.0",
          "model_name": "DescriptionStyleModel",
          "state": {
            "_model_module": "@jupyter-widgets/controls",
            "_model_module_version": "1.5.0",
            "_model_name": "DescriptionStyleModel",
            "_view_count": null,
            "_view_module": "@jupyter-widgets/base",
            "_view_module_version": "1.2.0",
            "_view_name": "StyleView",
            "description_width": ""
          }
        },
        "348c3fac47564bee853adc2c078a393c": {
          "model_module": "@jupyter-widgets/controls",
          "model_module_version": "1.5.0",
          "model_name": "DescriptionStyleModel",
          "state": {
            "_model_module": "@jupyter-widgets/controls",
            "_model_module_version": "1.5.0",
            "_model_name": "DescriptionStyleModel",
            "_view_count": null,
            "_view_module": "@jupyter-widgets/base",
            "_view_module_version": "1.2.0",
            "_view_name": "StyleView",
            "description_width": ""
          }
        },
        "3b32780b4ad54e6ea0119ec4c4709639": {
          "model_module": "@jupyter-widgets/controls",
          "model_module_version": "1.5.0",
          "model_name": "VBoxModel",
          "state": {
            "_dom_classes": [],
            "_model_module": "@jupyter-widgets/controls",
            "_model_module_version": "1.5.0",
            "_model_name": "VBoxModel",
            "_view_count": null,
            "_view_module": "@jupyter-widgets/controls",
            "_view_module_version": "1.5.0",
            "_view_name": "VBoxView",
            "box_style": "",
            "children": [
              "IPY_MODEL_8cd78fd16bd640ef9bf8cebca9c0d016",
              "IPY_MODEL_7b34f5d65b15472181793967623c9394"
            ],
            "layout": "IPY_MODEL_8b321886559848d29433c5b99d9c98e4"
          }
        },
        "3ff3fa5cb82f4d13bd8cc62f442d96e4": {
          "model_module": "@jupyter-widgets/base",
          "model_module_version": "1.2.0",
          "model_name": "LayoutModel",
          "state": {
            "_model_module": "@jupyter-widgets/base",
            "_model_module_version": "1.2.0",
            "_model_name": "LayoutModel",
            "_view_count": null,
            "_view_module": "@jupyter-widgets/base",
            "_view_module_version": "1.2.0",
            "_view_name": "LayoutView",
            "align_content": null,
            "align_items": null,
            "align_self": null,
            "border": null,
            "bottom": null,
            "display": null,
            "flex": null,
            "flex_flow": null,
            "grid_area": null,
            "grid_auto_columns": null,
            "grid_auto_flow": null,
            "grid_auto_rows": null,
            "grid_column": null,
            "grid_gap": null,
            "grid_row": null,
            "grid_template_areas": null,
            "grid_template_columns": null,
            "grid_template_rows": null,
            "height": null,
            "justify_content": null,
            "justify_items": null,
            "left": null,
            "margin": null,
            "max_height": null,
            "max_width": null,
            "min_height": null,
            "min_width": null,
            "object_fit": null,
            "object_position": null,
            "order": null,
            "overflow": null,
            "overflow_x": null,
            "overflow_y": null,
            "padding": null,
            "right": null,
            "top": null,
            "visibility": null,
            "width": null
          }
        },
        "41ba70b5bd3e417783e898e559927499": {
          "model_module": "@jupyter-widgets/controls",
          "model_module_version": "1.5.0",
          "model_name": "HTMLModel",
          "state": {
            "_dom_classes": [],
            "_model_module": "@jupyter-widgets/controls",
            "_model_module_version": "1.5.0",
            "_model_name": "HTMLModel",
            "_view_count": null,
            "_view_module": "@jupyter-widgets/controls",
            "_view_module_version": "1.5.0",
            "_view_name": "HTMLView",
            "description": "",
            "description_tooltip": null,
            "layout": "IPY_MODEL_3ff3fa5cb82f4d13bd8cc62f442d96e4",
            "placeholder": "​",
            "style": "IPY_MODEL_291b2ee8a0ca4681ad8ecd4de60f473f",
            "value": " 548M/548M [00:11&lt;00:00, 161MB/s]"
          }
        },
        "43bb40a2ebd344829027da1dda582689": {
          "model_module": "@jupyter-widgets/controls",
          "model_module_version": "1.5.0",
          "model_name": "FloatProgressModel",
          "state": {
            "_dom_classes": [],
            "_model_module": "@jupyter-widgets/controls",
            "_model_module_version": "1.5.0",
            "_model_name": "FloatProgressModel",
            "_view_count": null,
            "_view_module": "@jupyter-widgets/controls",
            "_view_module_version": "1.5.0",
            "_view_name": "ProgressView",
            "bar_style": "success",
            "description": "",
            "description_tooltip": null,
            "layout": "IPY_MODEL_cc02c08f8fae42c8b47054f3327f3fa6",
            "max": 124,
            "min": 0,
            "orientation": "horizontal",
            "style": "IPY_MODEL_8a6014812dcb47559b02769ef91b4cf7",
            "value": 124
          }
        },
        "43f853523f2a4627b69a8d730ca74f39": {
          "model_module": "@jupyter-widgets/base",
          "model_module_version": "1.2.0",
          "model_name": "LayoutModel",
          "state": {
            "_model_module": "@jupyter-widgets/base",
            "_model_module_version": "1.2.0",
            "_model_name": "LayoutModel",
            "_view_count": null,
            "_view_module": "@jupyter-widgets/base",
            "_view_module_version": "1.2.0",
            "_view_name": "LayoutView",
            "align_content": null,
            "align_items": null,
            "align_self": null,
            "border": null,
            "bottom": null,
            "display": null,
            "flex": null,
            "flex_flow": null,
            "grid_area": null,
            "grid_auto_columns": null,
            "grid_auto_flow": null,
            "grid_auto_rows": null,
            "grid_column": null,
            "grid_gap": null,
            "grid_row": null,
            "grid_template_areas": null,
            "grid_template_columns": null,
            "grid_template_rows": null,
            "height": null,
            "justify_content": null,
            "justify_items": null,
            "left": null,
            "margin": null,
            "max_height": null,
            "max_width": null,
            "min_height": null,
            "min_width": null,
            "object_fit": null,
            "object_position": null,
            "order": null,
            "overflow": null,
            "overflow_x": null,
            "overflow_y": null,
            "padding": null,
            "right": null,
            "top": null,
            "visibility": null,
            "width": null
          }
        },
        "58f804b07de64eab953fd486ca9704ce": {
          "model_module": "@jupyter-widgets/controls",
          "model_module_version": "1.5.0",
          "model_name": "LabelModel",
          "state": {
            "_dom_classes": [],
            "_model_module": "@jupyter-widgets/controls",
            "_model_module_version": "1.5.0",
            "_model_name": "LabelModel",
            "_view_count": null,
            "_view_module": "@jupyter-widgets/controls",
            "_view_module_version": "1.5.0",
            "_view_name": "LabelView",
            "description": "",
            "description_tooltip": null,
            "layout": "IPY_MODEL_2836e29fb71447ea9b704cf9b1be19c1",
            "placeholder": "​",
            "style": "IPY_MODEL_69380e435a1c4614a8986a59d8a35a67",
            "value": "0.001 MB of 0.019 MB uploaded (0.000 MB deduped)\r"
          }
        },
        "5ab658c1253849dab8e164ecd20653b4": {
          "model_module": "@jupyter-widgets/controls",
          "model_module_version": "1.5.0",
          "model_name": "HTMLModel",
          "state": {
            "_dom_classes": [],
            "_model_module": "@jupyter-widgets/controls",
            "_model_module_version": "1.5.0",
            "_model_name": "HTMLModel",
            "_view_count": null,
            "_view_module": "@jupyter-widgets/controls",
            "_view_module_version": "1.5.0",
            "_view_name": "HTMLView",
            "description": "",
            "description_tooltip": null,
            "layout": "IPY_MODEL_bdffe5c8582240a3b5cde6b319f81475",
            "placeholder": "​",
            "style": "IPY_MODEL_13ac741581744ae79f674f15c7c9fe43",
            "value": "Downloading (…)neration_config.json: 100%"
          }
        },
        "5e66211e4aec40388f4be818118057c6": {
          "model_module": "@jupyter-widgets/controls",
          "model_module_version": "1.5.0",
          "model_name": "FloatProgressModel",
          "state": {
            "_dom_classes": [],
            "_model_module": "@jupyter-widgets/controls",
            "_model_module_version": "1.5.0",
            "_model_name": "FloatProgressModel",
            "_view_count": null,
            "_view_module": "@jupyter-widgets/controls",
            "_view_module_version": "1.5.0",
            "_view_name": "ProgressView",
            "bar_style": "",
            "description": "",
            "description_tooltip": null,
            "layout": "IPY_MODEL_88f995ce61fb4fa38ba377864b8a6e1f",
            "max": 1,
            "min": 0,
            "orientation": "horizontal",
            "style": "IPY_MODEL_7dc2c0173d3c4eab91440d76cdfcfe4e",
            "value": 0.05895064830636245
          }
        },
        "638c0b1e2cd2470d8581f1ed5a623429": {
          "model_module": "@jupyter-widgets/controls",
          "model_module_version": "1.5.0",
          "model_name": "HBoxModel",
          "state": {
            "_dom_classes": [],
            "_model_module": "@jupyter-widgets/controls",
            "_model_module_version": "1.5.0",
            "_model_name": "HBoxModel",
            "_view_count": null,
            "_view_module": "@jupyter-widgets/controls",
            "_view_module_version": "1.5.0",
            "_view_name": "HBoxView",
            "box_style": "",
            "children": [
              "IPY_MODEL_a5c26b68ea46467aa02f612a2398df4e",
              "IPY_MODEL_ae9528b40b4143f39c17bb5153561bf3",
              "IPY_MODEL_28eb7277633a44e9a03e90e6289c60cb"
            ],
            "layout": "IPY_MODEL_43f853523f2a4627b69a8d730ca74f39"
          }
        },
        "643e7ebab68e4505b85955557f59dfaf": {
          "model_module": "@jupyter-widgets/controls",
          "model_module_version": "1.5.0",
          "model_name": "ProgressStyleModel",
          "state": {
            "_model_module": "@jupyter-widgets/controls",
            "_model_module_version": "1.5.0",
            "_model_name": "ProgressStyleModel",
            "_view_count": null,
            "_view_module": "@jupyter-widgets/base",
            "_view_module_version": "1.2.0",
            "_view_name": "StyleView",
            "bar_color": null,
            "description_width": ""
          }
        },
        "69380e435a1c4614a8986a59d8a35a67": {
          "model_module": "@jupyter-widgets/controls",
          "model_module_version": "1.5.0",
          "model_name": "DescriptionStyleModel",
          "state": {
            "_model_module": "@jupyter-widgets/controls",
            "_model_module_version": "1.5.0",
            "_model_name": "DescriptionStyleModel",
            "_view_count": null,
            "_view_module": "@jupyter-widgets/base",
            "_view_module_version": "1.2.0",
            "_view_name": "StyleView",
            "description_width": ""
          }
        },
        "6a243216cd6848a5a5f78025b47c2609": {
          "model_module": "@jupyter-widgets/base",
          "model_module_version": "1.2.0",
          "model_name": "LayoutModel",
          "state": {
            "_model_module": "@jupyter-widgets/base",
            "_model_module_version": "1.2.0",
            "_model_name": "LayoutModel",
            "_view_count": null,
            "_view_module": "@jupyter-widgets/base",
            "_view_module_version": "1.2.0",
            "_view_name": "LayoutView",
            "align_content": null,
            "align_items": null,
            "align_self": null,
            "border": null,
            "bottom": null,
            "display": null,
            "flex": null,
            "flex_flow": null,
            "grid_area": null,
            "grid_auto_columns": null,
            "grid_auto_flow": null,
            "grid_auto_rows": null,
            "grid_column": null,
            "grid_gap": null,
            "grid_row": null,
            "grid_template_areas": null,
            "grid_template_columns": null,
            "grid_template_rows": null,
            "height": null,
            "justify_content": null,
            "justify_items": null,
            "left": null,
            "margin": null,
            "max_height": null,
            "max_width": null,
            "min_height": null,
            "min_width": null,
            "object_fit": null,
            "object_position": null,
            "order": null,
            "overflow": null,
            "overflow_x": null,
            "overflow_y": null,
            "padding": null,
            "right": null,
            "top": null,
            "visibility": null,
            "width": null
          }
        },
        "6df67f40f08b44ce85d34068b4f2034c": {
          "model_module": "@jupyter-widgets/controls",
          "model_module_version": "1.5.0",
          "model_name": "HTMLModel",
          "state": {
            "_dom_classes": [],
            "_model_module": "@jupyter-widgets/controls",
            "_model_module_version": "1.5.0",
            "_model_name": "HTMLModel",
            "_view_count": null,
            "_view_module": "@jupyter-widgets/controls",
            "_view_module_version": "1.5.0",
            "_view_name": "HTMLView",
            "description": "",
            "description_tooltip": null,
            "layout": "IPY_MODEL_a2d8c031d9a04a478f0109644f4597ce",
            "placeholder": "​",
            "style": "IPY_MODEL_9e44078cba1e4aa685f8053bff579f1a",
            "value": " 124/124 [00:00&lt;00:00, 4.35kB/s]"
          }
        },
        "7532622d5b444a5d9cf49baa5fffc5d8": {
          "model_module": "@jupyter-widgets/controls",
          "model_module_version": "1.5.0",
          "model_name": "DescriptionStyleModel",
          "state": {
            "_model_module": "@jupyter-widgets/controls",
            "_model_module_version": "1.5.0",
            "_model_name": "DescriptionStyleModel",
            "_view_count": null,
            "_view_module": "@jupyter-widgets/base",
            "_view_module_version": "1.2.0",
            "_view_name": "StyleView",
            "description_width": ""
          }
        },
        "79be8aa52b08412bbe3dd841959d640c": {
          "model_module": "@jupyter-widgets/controls",
          "model_module_version": "1.5.0",
          "model_name": "FloatProgressModel",
          "state": {
            "_dom_classes": [],
            "_model_module": "@jupyter-widgets/controls",
            "_model_module_version": "1.5.0",
            "_model_name": "FloatProgressModel",
            "_view_count": null,
            "_view_module": "@jupyter-widgets/controls",
            "_view_module_version": "1.5.0",
            "_view_name": "ProgressView",
            "bar_style": "success",
            "description": "",
            "description_tooltip": null,
            "layout": "IPY_MODEL_fe23f4a2e1e943ef96a620046f32bad0",
            "max": 665,
            "min": 0,
            "orientation": "horizontal",
            "style": "IPY_MODEL_643e7ebab68e4505b85955557f59dfaf",
            "value": 665
          }
        },
        "7b34f5d65b15472181793967623c9394": {
          "model_module": "@jupyter-widgets/controls",
          "model_module_version": "1.5.0",
          "model_name": "FloatProgressModel",
          "state": {
            "_dom_classes": [],
            "_model_module": "@jupyter-widgets/controls",
            "_model_module_version": "1.5.0",
            "_model_name": "FloatProgressModel",
            "_view_count": null,
            "_view_module": "@jupyter-widgets/controls",
            "_view_module_version": "1.5.0",
            "_view_name": "ProgressView",
            "bar_style": "",
            "description": "",
            "description_tooltip": null,
            "layout": "IPY_MODEL_a32e07679eb246f4b997605d7d539152",
            "max": 1,
            "min": 0,
            "orientation": "horizontal",
            "style": "IPY_MODEL_0514b42541f44db58f4aa6a8668c1f7d",
            "value": 0.05987748851454824
          }
        },
        "7dc2c0173d3c4eab91440d76cdfcfe4e": {
          "model_module": "@jupyter-widgets/controls",
          "model_module_version": "1.5.0",
          "model_name": "ProgressStyleModel",
          "state": {
            "_model_module": "@jupyter-widgets/controls",
            "_model_module_version": "1.5.0",
            "_model_name": "ProgressStyleModel",
            "_view_count": null,
            "_view_module": "@jupyter-widgets/base",
            "_view_module_version": "1.2.0",
            "_view_name": "StyleView",
            "bar_color": null,
            "description_width": ""
          }
        },
        "833b48e1b65b4fe7afd4565ee211d36a": {
          "model_module": "@jupyter-widgets/controls",
          "model_module_version": "1.5.0",
          "model_name": "DescriptionStyleModel",
          "state": {
            "_model_module": "@jupyter-widgets/controls",
            "_model_module_version": "1.5.0",
            "_model_name": "DescriptionStyleModel",
            "_view_count": null,
            "_view_module": "@jupyter-widgets/base",
            "_view_module_version": "1.2.0",
            "_view_name": "StyleView",
            "description_width": ""
          }
        },
        "88f995ce61fb4fa38ba377864b8a6e1f": {
          "model_module": "@jupyter-widgets/base",
          "model_module_version": "1.2.0",
          "model_name": "LayoutModel",
          "state": {
            "_model_module": "@jupyter-widgets/base",
            "_model_module_version": "1.2.0",
            "_model_name": "LayoutModel",
            "_view_count": null,
            "_view_module": "@jupyter-widgets/base",
            "_view_module_version": "1.2.0",
            "_view_name": "LayoutView",
            "align_content": null,
            "align_items": null,
            "align_self": null,
            "border": null,
            "bottom": null,
            "display": null,
            "flex": null,
            "flex_flow": null,
            "grid_area": null,
            "grid_auto_columns": null,
            "grid_auto_flow": null,
            "grid_auto_rows": null,
            "grid_column": null,
            "grid_gap": null,
            "grid_row": null,
            "grid_template_areas": null,
            "grid_template_columns": null,
            "grid_template_rows": null,
            "height": null,
            "justify_content": null,
            "justify_items": null,
            "left": null,
            "margin": null,
            "max_height": null,
            "max_width": null,
            "min_height": null,
            "min_width": null,
            "object_fit": null,
            "object_position": null,
            "order": null,
            "overflow": null,
            "overflow_x": null,
            "overflow_y": null,
            "padding": null,
            "right": null,
            "top": null,
            "visibility": null,
            "width": null
          }
        },
        "8938469c87524f149d8eaf3383609745": {
          "model_module": "@jupyter-widgets/base",
          "model_module_version": "1.2.0",
          "model_name": "LayoutModel",
          "state": {
            "_model_module": "@jupyter-widgets/base",
            "_model_module_version": "1.2.0",
            "_model_name": "LayoutModel",
            "_view_count": null,
            "_view_module": "@jupyter-widgets/base",
            "_view_module_version": "1.2.0",
            "_view_name": "LayoutView",
            "align_content": null,
            "align_items": null,
            "align_self": null,
            "border": null,
            "bottom": null,
            "display": null,
            "flex": null,
            "flex_flow": null,
            "grid_area": null,
            "grid_auto_columns": null,
            "grid_auto_flow": null,
            "grid_auto_rows": null,
            "grid_column": null,
            "grid_gap": null,
            "grid_row": null,
            "grid_template_areas": null,
            "grid_template_columns": null,
            "grid_template_rows": null,
            "height": null,
            "justify_content": null,
            "justify_items": null,
            "left": null,
            "margin": null,
            "max_height": null,
            "max_width": null,
            "min_height": null,
            "min_width": null,
            "object_fit": null,
            "object_position": null,
            "order": null,
            "overflow": null,
            "overflow_x": null,
            "overflow_y": null,
            "padding": null,
            "right": null,
            "top": null,
            "visibility": null,
            "width": null
          }
        },
        "8a6014812dcb47559b02769ef91b4cf7": {
          "model_module": "@jupyter-widgets/controls",
          "model_module_version": "1.5.0",
          "model_name": "ProgressStyleModel",
          "state": {
            "_model_module": "@jupyter-widgets/controls",
            "_model_module_version": "1.5.0",
            "_model_name": "ProgressStyleModel",
            "_view_count": null,
            "_view_module": "@jupyter-widgets/base",
            "_view_module_version": "1.2.0",
            "_view_name": "StyleView",
            "bar_color": null,
            "description_width": ""
          }
        },
        "8b321886559848d29433c5b99d9c98e4": {
          "model_module": "@jupyter-widgets/base",
          "model_module_version": "1.2.0",
          "model_name": "LayoutModel",
          "state": {
            "_model_module": "@jupyter-widgets/base",
            "_model_module_version": "1.2.0",
            "_model_name": "LayoutModel",
            "_view_count": null,
            "_view_module": "@jupyter-widgets/base",
            "_view_module_version": "1.2.0",
            "_view_name": "LayoutView",
            "align_content": null,
            "align_items": null,
            "align_self": null,
            "border": null,
            "bottom": null,
            "display": null,
            "flex": null,
            "flex_flow": null,
            "grid_area": null,
            "grid_auto_columns": null,
            "grid_auto_flow": null,
            "grid_auto_rows": null,
            "grid_column": null,
            "grid_gap": null,
            "grid_row": null,
            "grid_template_areas": null,
            "grid_template_columns": null,
            "grid_template_rows": null,
            "height": null,
            "justify_content": null,
            "justify_items": null,
            "left": null,
            "margin": null,
            "max_height": null,
            "max_width": null,
            "min_height": null,
            "min_width": null,
            "object_fit": null,
            "object_position": null,
            "order": null,
            "overflow": null,
            "overflow_x": null,
            "overflow_y": null,
            "padding": null,
            "right": null,
            "top": null,
            "visibility": null,
            "width": null
          }
        },
        "8cd78fd16bd640ef9bf8cebca9c0d016": {
          "model_module": "@jupyter-widgets/controls",
          "model_module_version": "1.5.0",
          "model_name": "LabelModel",
          "state": {
            "_dom_classes": [],
            "_model_module": "@jupyter-widgets/controls",
            "_model_module_version": "1.5.0",
            "_model_name": "LabelModel",
            "_view_count": null,
            "_view_module": "@jupyter-widgets/controls",
            "_view_module_version": "1.5.0",
            "_view_name": "LabelView",
            "description": "",
            "description_tooltip": null,
            "layout": "IPY_MODEL_db02e0b670f24884a9ccf7cfed264d1e",
            "placeholder": "​",
            "style": "IPY_MODEL_ce62884349614f4baea970bb74a2d87a",
            "value": "0.001 MB of 0.019 MB uploaded (0.000 MB deduped)\r"
          }
        },
        "90e8635ea1194e6d97dd09437a4d9f00": {
          "model_module": "@jupyter-widgets/controls",
          "model_module_version": "1.5.0",
          "model_name": "FloatProgressModel",
          "state": {
            "_dom_classes": [],
            "_model_module": "@jupyter-widgets/controls",
            "_model_module_version": "1.5.0",
            "_model_name": "FloatProgressModel",
            "_view_count": null,
            "_view_module": "@jupyter-widgets/controls",
            "_view_module_version": "1.5.0",
            "_view_name": "ProgressView",
            "bar_style": "success",
            "description": "",
            "description_tooltip": null,
            "layout": "IPY_MODEL_9d7105adb76e421f9310865da4a3a8ba",
            "max": 548118077,
            "min": 0,
            "orientation": "horizontal",
            "style": "IPY_MODEL_ef7692bb4e914aa6a366791a5e94a532",
            "value": 548118077
          }
        },
        "914268f62b0245fe8107ef473d2490be": {
          "model_module": "@jupyter-widgets/controls",
          "model_module_version": "1.5.0",
          "model_name": "HBoxModel",
          "state": {
            "_dom_classes": [],
            "_model_module": "@jupyter-widgets/controls",
            "_model_module_version": "1.5.0",
            "_model_name": "HBoxModel",
            "_view_count": null,
            "_view_module": "@jupyter-widgets/controls",
            "_view_module_version": "1.5.0",
            "_view_name": "HBoxView",
            "box_style": "",
            "children": [
              "IPY_MODEL_5ab658c1253849dab8e164ecd20653b4",
              "IPY_MODEL_43bb40a2ebd344829027da1dda582689",
              "IPY_MODEL_6df67f40f08b44ce85d34068b4f2034c"
            ],
            "layout": "IPY_MODEL_a1f653b6bca54b67b28ffde7d115cbfd"
          }
        },
        "95bdba8fb0a745a88c86ee2494f022d6": {
          "model_module": "@jupyter-widgets/base",
          "model_module_version": "1.2.0",
          "model_name": "LayoutModel",
          "state": {
            "_model_module": "@jupyter-widgets/base",
            "_model_module_version": "1.2.0",
            "_model_name": "LayoutModel",
            "_view_count": null,
            "_view_module": "@jupyter-widgets/base",
            "_view_module_version": "1.2.0",
            "_view_name": "LayoutView",
            "align_content": null,
            "align_items": null,
            "align_self": null,
            "border": null,
            "bottom": null,
            "display": null,
            "flex": null,
            "flex_flow": null,
            "grid_area": null,
            "grid_auto_columns": null,
            "grid_auto_flow": null,
            "grid_auto_rows": null,
            "grid_column": null,
            "grid_gap": null,
            "grid_row": null,
            "grid_template_areas": null,
            "grid_template_columns": null,
            "grid_template_rows": null,
            "height": null,
            "justify_content": null,
            "justify_items": null,
            "left": null,
            "margin": null,
            "max_height": null,
            "max_width": null,
            "min_height": null,
            "min_width": null,
            "object_fit": null,
            "object_position": null,
            "order": null,
            "overflow": null,
            "overflow_x": null,
            "overflow_y": null,
            "padding": null,
            "right": null,
            "top": null,
            "visibility": null,
            "width": null
          }
        },
        "96b1fe6c9ec34b0980ba9ed7564652ce": {
          "model_module": "@jupyter-widgets/base",
          "model_module_version": "1.2.0",
          "model_name": "LayoutModel",
          "state": {
            "_model_module": "@jupyter-widgets/base",
            "_model_module_version": "1.2.0",
            "_model_name": "LayoutModel",
            "_view_count": null,
            "_view_module": "@jupyter-widgets/base",
            "_view_module_version": "1.2.0",
            "_view_name": "LayoutView",
            "align_content": null,
            "align_items": null,
            "align_self": null,
            "border": null,
            "bottom": null,
            "display": null,
            "flex": null,
            "flex_flow": null,
            "grid_area": null,
            "grid_auto_columns": null,
            "grid_auto_flow": null,
            "grid_auto_rows": null,
            "grid_column": null,
            "grid_gap": null,
            "grid_row": null,
            "grid_template_areas": null,
            "grid_template_columns": null,
            "grid_template_rows": null,
            "height": null,
            "justify_content": null,
            "justify_items": null,
            "left": null,
            "margin": null,
            "max_height": null,
            "max_width": null,
            "min_height": null,
            "min_width": null,
            "object_fit": null,
            "object_position": null,
            "order": null,
            "overflow": null,
            "overflow_x": null,
            "overflow_y": null,
            "padding": null,
            "right": null,
            "top": null,
            "visibility": null,
            "width": null
          }
        },
        "9a0996090f514f2aa07163fe94ef82a8": {
          "model_module": "@jupyter-widgets/base",
          "model_module_version": "1.2.0",
          "model_name": "LayoutModel",
          "state": {
            "_model_module": "@jupyter-widgets/base",
            "_model_module_version": "1.2.0",
            "_model_name": "LayoutModel",
            "_view_count": null,
            "_view_module": "@jupyter-widgets/base",
            "_view_module_version": "1.2.0",
            "_view_name": "LayoutView",
            "align_content": null,
            "align_items": null,
            "align_self": null,
            "border": null,
            "bottom": null,
            "display": null,
            "flex": null,
            "flex_flow": null,
            "grid_area": null,
            "grid_auto_columns": null,
            "grid_auto_flow": null,
            "grid_auto_rows": null,
            "grid_column": null,
            "grid_gap": null,
            "grid_row": null,
            "grid_template_areas": null,
            "grid_template_columns": null,
            "grid_template_rows": null,
            "height": null,
            "justify_content": null,
            "justify_items": null,
            "left": null,
            "margin": null,
            "max_height": null,
            "max_width": null,
            "min_height": null,
            "min_width": null,
            "object_fit": null,
            "object_position": null,
            "order": null,
            "overflow": null,
            "overflow_x": null,
            "overflow_y": null,
            "padding": null,
            "right": null,
            "top": null,
            "visibility": null,
            "width": null
          }
        },
        "9cbc1c38d0134365baa12ba7a2910542": {
          "model_module": "@jupyter-widgets/base",
          "model_module_version": "1.2.0",
          "model_name": "LayoutModel",
          "state": {
            "_model_module": "@jupyter-widgets/base",
            "_model_module_version": "1.2.0",
            "_model_name": "LayoutModel",
            "_view_count": null,
            "_view_module": "@jupyter-widgets/base",
            "_view_module_version": "1.2.0",
            "_view_name": "LayoutView",
            "align_content": null,
            "align_items": null,
            "align_self": null,
            "border": null,
            "bottom": null,
            "display": null,
            "flex": null,
            "flex_flow": null,
            "grid_area": null,
            "grid_auto_columns": null,
            "grid_auto_flow": null,
            "grid_auto_rows": null,
            "grid_column": null,
            "grid_gap": null,
            "grid_row": null,
            "grid_template_areas": null,
            "grid_template_columns": null,
            "grid_template_rows": null,
            "height": null,
            "justify_content": null,
            "justify_items": null,
            "left": null,
            "margin": null,
            "max_height": null,
            "max_width": null,
            "min_height": null,
            "min_width": null,
            "object_fit": null,
            "object_position": null,
            "order": null,
            "overflow": null,
            "overflow_x": null,
            "overflow_y": null,
            "padding": null,
            "right": null,
            "top": null,
            "visibility": null,
            "width": null
          }
        },
        "9d7105adb76e421f9310865da4a3a8ba": {
          "model_module": "@jupyter-widgets/base",
          "model_module_version": "1.2.0",
          "model_name": "LayoutModel",
          "state": {
            "_model_module": "@jupyter-widgets/base",
            "_model_module_version": "1.2.0",
            "_model_name": "LayoutModel",
            "_view_count": null,
            "_view_module": "@jupyter-widgets/base",
            "_view_module_version": "1.2.0",
            "_view_name": "LayoutView",
            "align_content": null,
            "align_items": null,
            "align_self": null,
            "border": null,
            "bottom": null,
            "display": null,
            "flex": null,
            "flex_flow": null,
            "grid_area": null,
            "grid_auto_columns": null,
            "grid_auto_flow": null,
            "grid_auto_rows": null,
            "grid_column": null,
            "grid_gap": null,
            "grid_row": null,
            "grid_template_areas": null,
            "grid_template_columns": null,
            "grid_template_rows": null,
            "height": null,
            "justify_content": null,
            "justify_items": null,
            "left": null,
            "margin": null,
            "max_height": null,
            "max_width": null,
            "min_height": null,
            "min_width": null,
            "object_fit": null,
            "object_position": null,
            "order": null,
            "overflow": null,
            "overflow_x": null,
            "overflow_y": null,
            "padding": null,
            "right": null,
            "top": null,
            "visibility": null,
            "width": null
          }
        },
        "9e1fbed5a56b4744adea79044d01eac7": {
          "model_module": "@jupyter-widgets/controls",
          "model_module_version": "1.5.0",
          "model_name": "DescriptionStyleModel",
          "state": {
            "_model_module": "@jupyter-widgets/controls",
            "_model_module_version": "1.5.0",
            "_model_name": "DescriptionStyleModel",
            "_view_count": null,
            "_view_module": "@jupyter-widgets/base",
            "_view_module_version": "1.2.0",
            "_view_name": "StyleView",
            "description_width": ""
          }
        },
        "9e44078cba1e4aa685f8053bff579f1a": {
          "model_module": "@jupyter-widgets/controls",
          "model_module_version": "1.5.0",
          "model_name": "DescriptionStyleModel",
          "state": {
            "_model_module": "@jupyter-widgets/controls",
            "_model_module_version": "1.5.0",
            "_model_name": "DescriptionStyleModel",
            "_view_count": null,
            "_view_module": "@jupyter-widgets/base",
            "_view_module_version": "1.2.0",
            "_view_name": "StyleView",
            "description_width": ""
          }
        },
        "a1f653b6bca54b67b28ffde7d115cbfd": {
          "model_module": "@jupyter-widgets/base",
          "model_module_version": "1.2.0",
          "model_name": "LayoutModel",
          "state": {
            "_model_module": "@jupyter-widgets/base",
            "_model_module_version": "1.2.0",
            "_model_name": "LayoutModel",
            "_view_count": null,
            "_view_module": "@jupyter-widgets/base",
            "_view_module_version": "1.2.0",
            "_view_name": "LayoutView",
            "align_content": null,
            "align_items": null,
            "align_self": null,
            "border": null,
            "bottom": null,
            "display": null,
            "flex": null,
            "flex_flow": null,
            "grid_area": null,
            "grid_auto_columns": null,
            "grid_auto_flow": null,
            "grid_auto_rows": null,
            "grid_column": null,
            "grid_gap": null,
            "grid_row": null,
            "grid_template_areas": null,
            "grid_template_columns": null,
            "grid_template_rows": null,
            "height": null,
            "justify_content": null,
            "justify_items": null,
            "left": null,
            "margin": null,
            "max_height": null,
            "max_width": null,
            "min_height": null,
            "min_width": null,
            "object_fit": null,
            "object_position": null,
            "order": null,
            "overflow": null,
            "overflow_x": null,
            "overflow_y": null,
            "padding": null,
            "right": null,
            "top": null,
            "visibility": null,
            "width": null
          }
        },
        "a2d8c031d9a04a478f0109644f4597ce": {
          "model_module": "@jupyter-widgets/base",
          "model_module_version": "1.2.0",
          "model_name": "LayoutModel",
          "state": {
            "_model_module": "@jupyter-widgets/base",
            "_model_module_version": "1.2.0",
            "_model_name": "LayoutModel",
            "_view_count": null,
            "_view_module": "@jupyter-widgets/base",
            "_view_module_version": "1.2.0",
            "_view_name": "LayoutView",
            "align_content": null,
            "align_items": null,
            "align_self": null,
            "border": null,
            "bottom": null,
            "display": null,
            "flex": null,
            "flex_flow": null,
            "grid_area": null,
            "grid_auto_columns": null,
            "grid_auto_flow": null,
            "grid_auto_rows": null,
            "grid_column": null,
            "grid_gap": null,
            "grid_row": null,
            "grid_template_areas": null,
            "grid_template_columns": null,
            "grid_template_rows": null,
            "height": null,
            "justify_content": null,
            "justify_items": null,
            "left": null,
            "margin": null,
            "max_height": null,
            "max_width": null,
            "min_height": null,
            "min_width": null,
            "object_fit": null,
            "object_position": null,
            "order": null,
            "overflow": null,
            "overflow_x": null,
            "overflow_y": null,
            "padding": null,
            "right": null,
            "top": null,
            "visibility": null,
            "width": null
          }
        },
        "a32e07679eb246f4b997605d7d539152": {
          "model_module": "@jupyter-widgets/base",
          "model_module_version": "1.2.0",
          "model_name": "LayoutModel",
          "state": {
            "_model_module": "@jupyter-widgets/base",
            "_model_module_version": "1.2.0",
            "_model_name": "LayoutModel",
            "_view_count": null,
            "_view_module": "@jupyter-widgets/base",
            "_view_module_version": "1.2.0",
            "_view_name": "LayoutView",
            "align_content": null,
            "align_items": null,
            "align_self": null,
            "border": null,
            "bottom": null,
            "display": null,
            "flex": null,
            "flex_flow": null,
            "grid_area": null,
            "grid_auto_columns": null,
            "grid_auto_flow": null,
            "grid_auto_rows": null,
            "grid_column": null,
            "grid_gap": null,
            "grid_row": null,
            "grid_template_areas": null,
            "grid_template_columns": null,
            "grid_template_rows": null,
            "height": null,
            "justify_content": null,
            "justify_items": null,
            "left": null,
            "margin": null,
            "max_height": null,
            "max_width": null,
            "min_height": null,
            "min_width": null,
            "object_fit": null,
            "object_position": null,
            "order": null,
            "overflow": null,
            "overflow_x": null,
            "overflow_y": null,
            "padding": null,
            "right": null,
            "top": null,
            "visibility": null,
            "width": null
          }
        },
        "a439ecf3b8254776b5697788315b7ce1": {
          "model_module": "@jupyter-widgets/base",
          "model_module_version": "1.2.0",
          "model_name": "LayoutModel",
          "state": {
            "_model_module": "@jupyter-widgets/base",
            "_model_module_version": "1.2.0",
            "_model_name": "LayoutModel",
            "_view_count": null,
            "_view_module": "@jupyter-widgets/base",
            "_view_module_version": "1.2.0",
            "_view_name": "LayoutView",
            "align_content": null,
            "align_items": null,
            "align_self": null,
            "border": null,
            "bottom": null,
            "display": null,
            "flex": null,
            "flex_flow": null,
            "grid_area": null,
            "grid_auto_columns": null,
            "grid_auto_flow": null,
            "grid_auto_rows": null,
            "grid_column": null,
            "grid_gap": null,
            "grid_row": null,
            "grid_template_areas": null,
            "grid_template_columns": null,
            "grid_template_rows": null,
            "height": null,
            "justify_content": null,
            "justify_items": null,
            "left": null,
            "margin": null,
            "max_height": null,
            "max_width": null,
            "min_height": null,
            "min_width": null,
            "object_fit": null,
            "object_position": null,
            "order": null,
            "overflow": null,
            "overflow_x": null,
            "overflow_y": null,
            "padding": null,
            "right": null,
            "top": null,
            "visibility": null,
            "width": null
          }
        },
        "a531a488f1f94cd29145a04ddc15da21": {
          "model_module": "@jupyter-widgets/controls",
          "model_module_version": "1.5.0",
          "model_name": "HBoxModel",
          "state": {
            "_dom_classes": [],
            "_model_module": "@jupyter-widgets/controls",
            "_model_module_version": "1.5.0",
            "_model_name": "HBoxModel",
            "_view_count": null,
            "_view_module": "@jupyter-widgets/controls",
            "_view_module_version": "1.5.0",
            "_view_name": "HBoxView",
            "box_style": "",
            "children": [
              "IPY_MODEL_b16ede7c500142ce9dd746fe0a24ab2d",
              "IPY_MODEL_79be8aa52b08412bbe3dd841959d640c",
              "IPY_MODEL_f73cb1eb865f49cdabe687ccd66340b7"
            ],
            "layout": "IPY_MODEL_95bdba8fb0a745a88c86ee2494f022d6"
          }
        },
        "a5c26b68ea46467aa02f612a2398df4e": {
          "model_module": "@jupyter-widgets/controls",
          "model_module_version": "1.5.0",
          "model_name": "HTMLModel",
          "state": {
            "_dom_classes": [],
            "_model_module": "@jupyter-widgets/controls",
            "_model_module_version": "1.5.0",
            "_model_name": "HTMLModel",
            "_view_count": null,
            "_view_module": "@jupyter-widgets/controls",
            "_view_module_version": "1.5.0",
            "_view_name": "HTMLView",
            "description": "",
            "description_tooltip": null,
            "layout": "IPY_MODEL_96b1fe6c9ec34b0980ba9ed7564652ce",
            "placeholder": "​",
            "style": "IPY_MODEL_348c3fac47564bee853adc2c078a393c",
            "value": "Downloading builder script: 100%"
          }
        },
        "ad0ba1dc83e945faa605f26047f69723": {
          "model_module": "@jupyter-widgets/controls",
          "model_module_version": "1.5.0",
          "model_name": "VBoxModel",
          "state": {
            "_dom_classes": [],
            "_model_module": "@jupyter-widgets/controls",
            "_model_module_version": "1.5.0",
            "_model_name": "VBoxModel",
            "_view_count": null,
            "_view_module": "@jupyter-widgets/controls",
            "_view_module_version": "1.5.0",
            "_view_name": "VBoxView",
            "box_style": "",
            "children": [
              "IPY_MODEL_58f804b07de64eab953fd486ca9704ce",
              "IPY_MODEL_5e66211e4aec40388f4be818118057c6"
            ],
            "layout": "IPY_MODEL_9a0996090f514f2aa07163fe94ef82a8"
          }
        },
        "ae9528b40b4143f39c17bb5153561bf3": {
          "model_module": "@jupyter-widgets/controls",
          "model_module_version": "1.5.0",
          "model_name": "FloatProgressModel",
          "state": {
            "_dom_classes": [],
            "_model_module": "@jupyter-widgets/controls",
            "_model_module_version": "1.5.0",
            "_model_name": "FloatProgressModel",
            "_view_count": null,
            "_view_module": "@jupyter-widgets/controls",
            "_view_module_version": "1.5.0",
            "_view_name": "ProgressView",
            "bar_style": "success",
            "description": "",
            "description_tooltip": null,
            "layout": "IPY_MODEL_c877fe91dd664887ab2b8ce5bb122b5b",
            "max": 8146,
            "min": 0,
            "orientation": "horizontal",
            "style": "IPY_MODEL_f69ac6b8e8c94ca7858a72619a944508",
            "value": 8146
          }
        },
        "b16ede7c500142ce9dd746fe0a24ab2d": {
          "model_module": "@jupyter-widgets/controls",
          "model_module_version": "1.5.0",
          "model_name": "HTMLModel",
          "state": {
            "_dom_classes": [],
            "_model_module": "@jupyter-widgets/controls",
            "_model_module_version": "1.5.0",
            "_model_name": "HTMLModel",
            "_view_count": null,
            "_view_module": "@jupyter-widgets/controls",
            "_view_module_version": "1.5.0",
            "_view_name": "HTMLView",
            "description": "",
            "description_tooltip": null,
            "layout": "IPY_MODEL_086514753fea4fba84dabf86274d34ca",
            "placeholder": "​",
            "style": "IPY_MODEL_9e1fbed5a56b4744adea79044d01eac7",
            "value": "Downloading (…)lve/main/config.json: 100%"
          }
        },
        "bdffe5c8582240a3b5cde6b319f81475": {
          "model_module": "@jupyter-widgets/base",
          "model_module_version": "1.2.0",
          "model_name": "LayoutModel",
          "state": {
            "_model_module": "@jupyter-widgets/base",
            "_model_module_version": "1.2.0",
            "_model_name": "LayoutModel",
            "_view_count": null,
            "_view_module": "@jupyter-widgets/base",
            "_view_module_version": "1.2.0",
            "_view_name": "LayoutView",
            "align_content": null,
            "align_items": null,
            "align_self": null,
            "border": null,
            "bottom": null,
            "display": null,
            "flex": null,
            "flex_flow": null,
            "grid_area": null,
            "grid_auto_columns": null,
            "grid_auto_flow": null,
            "grid_auto_rows": null,
            "grid_column": null,
            "grid_gap": null,
            "grid_row": null,
            "grid_template_areas": null,
            "grid_template_columns": null,
            "grid_template_rows": null,
            "height": null,
            "justify_content": null,
            "justify_items": null,
            "left": null,
            "margin": null,
            "max_height": null,
            "max_width": null,
            "min_height": null,
            "min_width": null,
            "object_fit": null,
            "object_position": null,
            "order": null,
            "overflow": null,
            "overflow_x": null,
            "overflow_y": null,
            "padding": null,
            "right": null,
            "top": null,
            "visibility": null,
            "width": null
          }
        },
        "c877fe91dd664887ab2b8ce5bb122b5b": {
          "model_module": "@jupyter-widgets/base",
          "model_module_version": "1.2.0",
          "model_name": "LayoutModel",
          "state": {
            "_model_module": "@jupyter-widgets/base",
            "_model_module_version": "1.2.0",
            "_model_name": "LayoutModel",
            "_view_count": null,
            "_view_module": "@jupyter-widgets/base",
            "_view_module_version": "1.2.0",
            "_view_name": "LayoutView",
            "align_content": null,
            "align_items": null,
            "align_self": null,
            "border": null,
            "bottom": null,
            "display": null,
            "flex": null,
            "flex_flow": null,
            "grid_area": null,
            "grid_auto_columns": null,
            "grid_auto_flow": null,
            "grid_auto_rows": null,
            "grid_column": null,
            "grid_gap": null,
            "grid_row": null,
            "grid_template_areas": null,
            "grid_template_columns": null,
            "grid_template_rows": null,
            "height": null,
            "justify_content": null,
            "justify_items": null,
            "left": null,
            "margin": null,
            "max_height": null,
            "max_width": null,
            "min_height": null,
            "min_width": null,
            "object_fit": null,
            "object_position": null,
            "order": null,
            "overflow": null,
            "overflow_x": null,
            "overflow_y": null,
            "padding": null,
            "right": null,
            "top": null,
            "visibility": null,
            "width": null
          }
        },
        "ca413b3bc438467d92c96f0590100344": {
          "model_module": "@jupyter-widgets/controls",
          "model_module_version": "1.5.0",
          "model_name": "DescriptionStyleModel",
          "state": {
            "_model_module": "@jupyter-widgets/controls",
            "_model_module_version": "1.5.0",
            "_model_name": "DescriptionStyleModel",
            "_view_count": null,
            "_view_module": "@jupyter-widgets/base",
            "_view_module_version": "1.2.0",
            "_view_name": "StyleView",
            "description_width": ""
          }
        },
        "cc02c08f8fae42c8b47054f3327f3fa6": {
          "model_module": "@jupyter-widgets/base",
          "model_module_version": "1.2.0",
          "model_name": "LayoutModel",
          "state": {
            "_model_module": "@jupyter-widgets/base",
            "_model_module_version": "1.2.0",
            "_model_name": "LayoutModel",
            "_view_count": null,
            "_view_module": "@jupyter-widgets/base",
            "_view_module_version": "1.2.0",
            "_view_name": "LayoutView",
            "align_content": null,
            "align_items": null,
            "align_self": null,
            "border": null,
            "bottom": null,
            "display": null,
            "flex": null,
            "flex_flow": null,
            "grid_area": null,
            "grid_auto_columns": null,
            "grid_auto_flow": null,
            "grid_auto_rows": null,
            "grid_column": null,
            "grid_gap": null,
            "grid_row": null,
            "grid_template_areas": null,
            "grid_template_columns": null,
            "grid_template_rows": null,
            "height": null,
            "justify_content": null,
            "justify_items": null,
            "left": null,
            "margin": null,
            "max_height": null,
            "max_width": null,
            "min_height": null,
            "min_width": null,
            "object_fit": null,
            "object_position": null,
            "order": null,
            "overflow": null,
            "overflow_x": null,
            "overflow_y": null,
            "padding": null,
            "right": null,
            "top": null,
            "visibility": null,
            "width": null
          }
        },
        "ce62884349614f4baea970bb74a2d87a": {
          "model_module": "@jupyter-widgets/controls",
          "model_module_version": "1.5.0",
          "model_name": "DescriptionStyleModel",
          "state": {
            "_model_module": "@jupyter-widgets/controls",
            "_model_module_version": "1.5.0",
            "_model_name": "DescriptionStyleModel",
            "_view_count": null,
            "_view_module": "@jupyter-widgets/base",
            "_view_module_version": "1.2.0",
            "_view_name": "StyleView",
            "description_width": ""
          }
        },
        "d923df2371ce43479947fdec61ea46fb": {
          "model_module": "@jupyter-widgets/controls",
          "model_module_version": "1.5.0",
          "model_name": "HTMLModel",
          "state": {
            "_dom_classes": [],
            "_model_module": "@jupyter-widgets/controls",
            "_model_module_version": "1.5.0",
            "_model_name": "HTMLModel",
            "_view_count": null,
            "_view_module": "@jupyter-widgets/controls",
            "_view_module_version": "1.5.0",
            "_view_name": "HTMLView",
            "description": "",
            "description_tooltip": null,
            "layout": "IPY_MODEL_a439ecf3b8254776b5697788315b7ce1",
            "placeholder": "​",
            "style": "IPY_MODEL_7532622d5b444a5d9cf49baa5fffc5d8",
            "value": "Downloading pytorch_model.bin: 100%"
          }
        },
        "db02e0b670f24884a9ccf7cfed264d1e": {
          "model_module": "@jupyter-widgets/base",
          "model_module_version": "1.2.0",
          "model_name": "LayoutModel",
          "state": {
            "_model_module": "@jupyter-widgets/base",
            "_model_module_version": "1.2.0",
            "_model_name": "LayoutModel",
            "_view_count": null,
            "_view_module": "@jupyter-widgets/base",
            "_view_module_version": "1.2.0",
            "_view_name": "LayoutView",
            "align_content": null,
            "align_items": null,
            "align_self": null,
            "border": null,
            "bottom": null,
            "display": null,
            "flex": null,
            "flex_flow": null,
            "grid_area": null,
            "grid_auto_columns": null,
            "grid_auto_flow": null,
            "grid_auto_rows": null,
            "grid_column": null,
            "grid_gap": null,
            "grid_row": null,
            "grid_template_areas": null,
            "grid_template_columns": null,
            "grid_template_rows": null,
            "height": null,
            "justify_content": null,
            "justify_items": null,
            "left": null,
            "margin": null,
            "max_height": null,
            "max_width": null,
            "min_height": null,
            "min_width": null,
            "object_fit": null,
            "object_position": null,
            "order": null,
            "overflow": null,
            "overflow_x": null,
            "overflow_y": null,
            "padding": null,
            "right": null,
            "top": null,
            "visibility": null,
            "width": null
          }
        },
        "ecf8a133bf2d401d8ac34b7266f451f5": {
          "model_module": "@jupyter-widgets/controls",
          "model_module_version": "1.5.0",
          "model_name": "HBoxModel",
          "state": {
            "_dom_classes": [],
            "_model_module": "@jupyter-widgets/controls",
            "_model_module_version": "1.5.0",
            "_model_name": "HBoxModel",
            "_view_count": null,
            "_view_module": "@jupyter-widgets/controls",
            "_view_module_version": "1.5.0",
            "_view_name": "HBoxView",
            "box_style": "",
            "children": [
              "IPY_MODEL_d923df2371ce43479947fdec61ea46fb",
              "IPY_MODEL_90e8635ea1194e6d97dd09437a4d9f00",
              "IPY_MODEL_41ba70b5bd3e417783e898e559927499"
            ],
            "layout": "IPY_MODEL_8938469c87524f149d8eaf3383609745"
          }
        },
        "ef7692bb4e914aa6a366791a5e94a532": {
          "model_module": "@jupyter-widgets/controls",
          "model_module_version": "1.5.0",
          "model_name": "ProgressStyleModel",
          "state": {
            "_model_module": "@jupyter-widgets/controls",
            "_model_module_version": "1.5.0",
            "_model_name": "ProgressStyleModel",
            "_view_count": null,
            "_view_module": "@jupyter-widgets/base",
            "_view_module_version": "1.2.0",
            "_view_name": "StyleView",
            "bar_color": null,
            "description_width": ""
          }
        },
        "f69ac6b8e8c94ca7858a72619a944508": {
          "model_module": "@jupyter-widgets/controls",
          "model_module_version": "1.5.0",
          "model_name": "ProgressStyleModel",
          "state": {
            "_model_module": "@jupyter-widgets/controls",
            "_model_module_version": "1.5.0",
            "_model_name": "ProgressStyleModel",
            "_view_count": null,
            "_view_module": "@jupyter-widgets/base",
            "_view_module_version": "1.2.0",
            "_view_name": "StyleView",
            "bar_color": null,
            "description_width": ""
          }
        },
        "f73cb1eb865f49cdabe687ccd66340b7": {
          "model_module": "@jupyter-widgets/controls",
          "model_module_version": "1.5.0",
          "model_name": "HTMLModel",
          "state": {
            "_dom_classes": [],
            "_model_module": "@jupyter-widgets/controls",
            "_model_module_version": "1.5.0",
            "_model_name": "HTMLModel",
            "_view_count": null,
            "_view_module": "@jupyter-widgets/controls",
            "_view_module_version": "1.5.0",
            "_view_name": "HTMLView",
            "description": "",
            "description_tooltip": null,
            "layout": "IPY_MODEL_9cbc1c38d0134365baa12ba7a2910542",
            "placeholder": "​",
            "style": "IPY_MODEL_ca413b3bc438467d92c96f0590100344",
            "value": " 665/665 [00:00&lt;00:00, 7.81kB/s]"
          }
        },
        "fe23f4a2e1e943ef96a620046f32bad0": {
          "model_module": "@jupyter-widgets/base",
          "model_module_version": "1.2.0",
          "model_name": "LayoutModel",
          "state": {
            "_model_module": "@jupyter-widgets/base",
            "_model_module_version": "1.2.0",
            "_model_name": "LayoutModel",
            "_view_count": null,
            "_view_module": "@jupyter-widgets/base",
            "_view_module_version": "1.2.0",
            "_view_name": "LayoutView",
            "align_content": null,
            "align_items": null,
            "align_self": null,
            "border": null,
            "bottom": null,
            "display": null,
            "flex": null,
            "flex_flow": null,
            "grid_area": null,
            "grid_auto_columns": null,
            "grid_auto_flow": null,
            "grid_auto_rows": null,
            "grid_column": null,
            "grid_gap": null,
            "grid_row": null,
            "grid_template_areas": null,
            "grid_template_columns": null,
            "grid_template_rows": null,
            "height": null,
            "justify_content": null,
            "justify_items": null,
            "left": null,
            "margin": null,
            "max_height": null,
            "max_width": null,
            "min_height": null,
            "min_width": null,
            "object_fit": null,
            "object_position": null,
            "order": null,
            "overflow": null,
            "overflow_x": null,
            "overflow_y": null,
            "padding": null,
            "right": null,
            "top": null,
            "visibility": null,
            "width": null
          }
        }
      }
    }
  },
  "nbformat": 4,
  "nbformat_minor": 0
}
