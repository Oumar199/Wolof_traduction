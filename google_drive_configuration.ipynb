{
 "cells": [
  {
   "cell_type": "code",
   "execution_count": 1,
   "metadata": {},
   "outputs": [
    {
     "name": "stdout",
     "output_type": "stream",
     "text": [
      "Requirement already satisfied: google-api-python-client in c:\\users\\oumar kane\\appdata\\local\\pypoetry\\cache\\virtualenvs\\pytorch1-hleow5am-py3.10\\lib\\site-packages (2.65.0)\n",
      "Requirement already satisfied: google-auth-httplib2 in c:\\users\\oumar kane\\appdata\\local\\pypoetry\\cache\\virtualenvs\\pytorch1-hleow5am-py3.10\\lib\\site-packages (0.1.0)\n",
      "Requirement already satisfied: google-auth-oauthlib in c:\\users\\oumar kane\\appdata\\local\\pypoetry\\cache\\virtualenvs\\pytorch1-hleow5am-py3.10\\lib\\site-packages (0.4.6)\n",
      "Requirement already satisfied: tabulate in c:\\users\\oumar kane\\appdata\\local\\pypoetry\\cache\\virtualenvs\\pytorch1-hleow5am-py3.10\\lib\\site-packages (0.9.0)\n",
      "Requirement already satisfied: httplib2<1dev,>=0.15.0 in c:\\users\\oumar kane\\appdata\\local\\pypoetry\\cache\\virtualenvs\\pytorch1-hleow5am-py3.10\\lib\\site-packages (from google-api-python-client) (0.21.0)\n",
      "Requirement already satisfied: uritemplate<5,>=3.0.1 in c:\\users\\oumar kane\\appdata\\local\\pypoetry\\cache\\virtualenvs\\pytorch1-hleow5am-py3.10\\lib\\site-packages (from google-api-python-client) (4.1.1)\n",
      "Requirement already satisfied: google-api-core!=2.0.*,!=2.1.*,!=2.2.*,!=2.3.0,<3.0.0dev,>=1.31.5 in c:\\users\\oumar kane\\appdata\\local\\pypoetry\\cache\\virtualenvs\\pytorch1-hleow5am-py3.10\\lib\\site-packages (from google-api-python-client) (2.10.2)\n",
      "Requirement already satisfied: google-auth<3.0.0dev,>=1.19.0 in c:\\users\\oumar kane\\appdata\\local\\pypoetry\\cache\\virtualenvs\\pytorch1-hleow5am-py3.10\\lib\\site-packages (from google-api-python-client) (2.14.1)\n",
      "Requirement already satisfied: six in c:\\users\\oumar kane\\appdata\\local\\pypoetry\\cache\\virtualenvs\\pytorch1-hleow5am-py3.10\\lib\\site-packages (from google-auth-httplib2) (1.12.0)\n",
      "Requirement already satisfied: requests-oauthlib>=0.7.0 in c:\\users\\oumar kane\\appdata\\local\\pypoetry\\cache\\virtualenvs\\pytorch1-hleow5am-py3.10\\lib\\site-packages (from google-auth-oauthlib) (1.3.1)\n",
      "Requirement already satisfied: requests<3.0.0dev,>=2.18.0 in c:\\users\\oumar kane\\appdata\\local\\pypoetry\\cache\\virtualenvs\\pytorch1-hleow5am-py3.10\\lib\\site-packages (from google-api-core!=2.0.*,!=2.1.*,!=2.2.*,!=2.3.0,<3.0.0dev,>=1.31.5->google-api-python-client) (2.27.1)\n",
      "Requirement already satisfied: googleapis-common-protos<2.0dev,>=1.56.2 in c:\\users\\oumar kane\\appdata\\local\\pypoetry\\cache\\virtualenvs\\pytorch1-hleow5am-py3.10\\lib\\site-packages (from google-api-core!=2.0.*,!=2.1.*,!=2.2.*,!=2.3.0,<3.0.0dev,>=1.31.5->google-api-python-client) (1.56.4)\n",
      "Requirement already satisfied: protobuf!=3.20.0,!=3.20.1,!=4.21.0,!=4.21.1,!=4.21.2,!=4.21.3,!=4.21.4,!=4.21.5,<5.0.0dev,>=3.19.5 in c:\\users\\oumar kane\\appdata\\local\\pypoetry\\cache\\virtualenvs\\pytorch1-hleow5am-py3.10\\lib\\site-packages (from google-api-core!=2.0.*,!=2.1.*,!=2.2.*,!=2.3.0,<3.0.0dev,>=1.31.5->google-api-python-client) (3.20.3)\n",
      "Requirement already satisfied: rsa<5,>=3.1.4 in c:\\users\\oumar kane\\appdata\\local\\pypoetry\\cache\\virtualenvs\\pytorch1-hleow5am-py3.10\\lib\\site-packages (from google-auth<3.0.0dev,>=1.19.0->google-api-python-client) (4.9)\n",
      "Requirement already satisfied: cachetools<6.0,>=2.0.0 in c:\\users\\oumar kane\\appdata\\local\\pypoetry\\cache\\virtualenvs\\pytorch1-hleow5am-py3.10\\lib\\site-packages (from google-auth<3.0.0dev,>=1.19.0->google-api-python-client) (5.2.0)\n",
      "Requirement already satisfied: pyasn1-modules>=0.2.1 in c:\\users\\oumar kane\\appdata\\local\\pypoetry\\cache\\virtualenvs\\pytorch1-hleow5am-py3.10\\lib\\site-packages (from google-auth<3.0.0dev,>=1.19.0->google-api-python-client) (0.2.8)\n",
      "Requirement already satisfied: pyparsing!=3.0.0,!=3.0.1,!=3.0.2,!=3.0.3,<4,>=2.4.2 in c:\\users\\oumar kane\\appdata\\local\\pypoetry\\cache\\virtualenvs\\pytorch1-hleow5am-py3.10\\lib\\site-packages (from httplib2<1dev,>=0.15.0->google-api-python-client) (3.0.9)\n",
      "Requirement already satisfied: oauthlib>=3.0.0 in c:\\users\\oumar kane\\appdata\\local\\pypoetry\\cache\\virtualenvs\\pytorch1-hleow5am-py3.10\\lib\\site-packages (from requests-oauthlib>=0.7.0->google-auth-oauthlib) (3.2.2)\n",
      "Requirement already satisfied: pyasn1<0.5.0,>=0.4.6 in c:\\users\\oumar kane\\appdata\\local\\pypoetry\\cache\\virtualenvs\\pytorch1-hleow5am-py3.10\\lib\\site-packages (from pyasn1-modules>=0.2.1->google-auth<3.0.0dev,>=1.19.0->google-api-python-client) (0.4.8)\n",
      "Requirement already satisfied: urllib3<1.27,>=1.21.1 in c:\\users\\oumar kane\\appdata\\local\\pypoetry\\cache\\virtualenvs\\pytorch1-hleow5am-py3.10\\lib\\site-packages (from requests<3.0.0dev,>=2.18.0->google-api-core!=2.0.*,!=2.1.*,!=2.2.*,!=2.3.0,<3.0.0dev,>=1.31.5->google-api-python-client) (1.26.15)\n",
      "Requirement already satisfied: certifi>=2017.4.17 in c:\\users\\oumar kane\\appdata\\local\\pypoetry\\cache\\virtualenvs\\pytorch1-hleow5am-py3.10\\lib\\site-packages (from requests<3.0.0dev,>=2.18.0->google-api-core!=2.0.*,!=2.1.*,!=2.2.*,!=2.3.0,<3.0.0dev,>=1.31.5->google-api-python-client) (2022.9.24)\n",
      "Requirement already satisfied: charset-normalizer~=2.0.0 in c:\\users\\oumar kane\\appdata\\local\\pypoetry\\cache\\virtualenvs\\pytorch1-hleow5am-py3.10\\lib\\site-packages (from requests<3.0.0dev,>=2.18.0->google-api-core!=2.0.*,!=2.1.*,!=2.2.*,!=2.3.0,<3.0.0dev,>=1.31.5->google-api-python-client) (2.0.12)\n",
      "Requirement already satisfied: idna<4,>=2.5 in c:\\users\\oumar kane\\appdata\\local\\pypoetry\\cache\\virtualenvs\\pytorch1-hleow5am-py3.10\\lib\\site-packages (from requests<3.0.0dev,>=2.18.0->google-api-core!=2.0.*,!=2.1.*,!=2.2.*,!=2.3.0,<3.0.0dev,>=1.31.5->google-api-python-client) (3.4)\n",
      "Note: you may need to restart the kernel to use updated packages.\n"
     ]
    },
    {
     "name": "stderr",
     "output_type": "stream",
     "text": [
      "\n",
      "[notice] A new release of pip available: 22.3 -> 23.1.2\n",
      "[notice] To update, run: python.exe -m pip install --upgrade pip\n"
     ]
    }
   ],
   "source": [
    "pip install google-api-python-client google-auth-httplib2 google-auth-oauthlib tabulate"
   ]
  },
  {
   "cell_type": "code",
   "execution_count": null,
   "metadata": {},
   "outputs": [],
   "source": []
  }
 ],
 "metadata": {
  "kernelspec": {
   "display_name": "pytorch1-HleOW5am-py3.10",
   "language": "python",
   "name": "python3"
  },
  "language_info": {
   "codemirror_mode": {
    "name": "ipython",
    "version": 3
   },
   "file_extension": ".py",
   "mimetype": "text/x-python",
   "name": "python",
   "nbconvert_exporter": "python",
   "pygments_lexer": "ipython3",
   "version": "3.10.8"
  },
  "orig_nbformat": 4
 },
 "nbformat": 4,
 "nbformat_minor": 2
}
