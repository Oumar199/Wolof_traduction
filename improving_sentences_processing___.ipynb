{
 "cells": [
  {
   "attachments": {},
   "cell_type": "markdown",
   "metadata": {},
   "source": [
    "Improve sentences (On reflection)\n",
    "----------------------------\n",
    "\n",
    "In this notebook we want to improve the corpora of new sentences and the final corpora which is the concatenation of the original corpora and the new one (we got the two in the following notebook [new_sentences](extract_new_sentences.ipynb)). "
   ]
  },
  {
   "attachments": {},
   "cell_type": "markdown",
   "metadata": {},
   "source": [
    "For the improvement we want to make the following modifications that we found to be necessary after fine-tuning the `t5` model on the new sentences:\n",
    "\n",
    "- Remove the definitions: We had already extract the new sentences without the definitions we will only need to load the \"true sentences\".\n",
    "- Add period marks (.) at end of each sentences not finishing with a mark: This will help the transformers to identify the end of a sentence. Not that we will do this for both of the new sentences and the last version corpora (v4)."
   ]
  },
  {
   "cell_type": "code",
   "execution_count": 1,
   "metadata": {},
   "outputs": [],
   "source": [
    "import pandas as pd"
   ]
  },
  {
   "attachments": {},
   "cell_type": "markdown",
   "metadata": {},
   "source": [
    "### Remove the definitions"
   ]
  },
  {
   "attachments": {},
   "cell_type": "markdown",
   "metadata": {},
   "source": [
    "Let us load the two corpora."
   ]
  }
 ],
 "metadata": {
  "kernelspec": {
   "display_name": "pytorch1-HleOW5am-py3.10",
   "language": "python",
   "name": "python3"
  },
  "language_info": {
   "codemirror_mode": {
    "name": "ipython",
    "version": 3
   },
   "file_extension": ".py",
   "mimetype": "text/x-python",
   "name": "python",
   "nbconvert_exporter": "python",
   "pygments_lexer": "ipython3",
   "version": "3.10.8"
  },
  "orig_nbformat": 4
 },
 "nbformat": 4,
 "nbformat_minor": 2
}
