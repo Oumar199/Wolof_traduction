{
 "cells": [
  {
   "attachments": {},
   "cell_type": "markdown",
   "metadata": {
    "id": "YTsVWwCgLAJl"
   },
   "source": [
    "Fine-tuning best BART 🤖\n",
    "-----------------------------------\n",
    "\n",
    "In this notebook, we will continue the fine-tuning of the BART model on the new extracted sentences from the book **Grammaire de Wolof Moderne** and additional sentences. We provide, bellow, the main evaluation figures, obtained from the hyperparameter search step. We will evaluate the training on the validation dataset.\n",
    "\n",
    "- Parallel coordinates from panel:\n",
    "\n",
    "- Parameter importance char: \n",
    "[t5_v3_importance](https://wandb.ai/oumar-kane-team/small-t5-cross-fw-translation-bayes-hpsearch-v3/reports/undefined-23-05-16-10-36-17---Vmlldzo0Mzc4NDY0?accessToken=eyaiyrid0qz1zg2jkq3fc65biw53084dpfitbi0dgonq6mweupw6kgjml9d2nv1w)"
   ]
  },
  {
   "attachments": {},
   "cell_type": "markdown",
   "metadata": {},
   "source": [
    "We can see in the above chart that the batch is the most important parameter with a negative correlation with the BLEU score (meaning that a lower batch size is better). Next, we the probability of modifying a character in the french corpus is also important and a high probability provide a better BLEU score.  "
   ]
  },
  {
   "cell_type": "code",
   "execution_count": 1,
   "metadata": {
    "colab": {
     "base_uri": "https://localhost:8080/"
    },
    "executionInfo": {
     "elapsed": 41798,
     "status": "ok",
     "timestamp": 1683491387892,
     "user": {
      "displayName": "Oumar Kane",
      "userId": "05889582343301699661"
     },
     "user_tz": 0
    },
    "id": "dF37F8_nLAJr",
    "outputId": "7f5f2bed-9b9d-49f9-c8f1-6fe427cf1502"
   },
   "outputs": [
    {
     "name": "stderr",
     "output_type": "stream",
     "text": [
      "c:\\Users\\Oumar Kane\\AppData\\Local\\pypoetry\\Cache\\virtualenvs\\pytorch1-HleOW5am-py3.10\\lib\\site-packages\\tqdm\\auto.py:22: TqdmWarning: IProgress not found. Please update jupyter and ipywidgets. See https://ipywidgets.readthedocs.io/en/stable/user_install.html\n",
      "  from .autonotebook import tqdm as notebook_tqdm\n",
      "Global seed set to 0\n"
     ]
    }
   ],
   "source": [
    "# let us import all necessary libraries\n",
    "from transformers import BartModel, BartForConditionalGeneration, Seq2SeqTrainer, BartTokenizerFast, set_seed, AdamW, get_linear_schedule_with_warmup,\\\n",
    "                          get_linear_schedule_with_warmup, get_cosine_schedule_with_warmup, Adafactor\n",
    "from wolof_translate.utils.sent_transformers import TransformerSequences\n",
    "from wolof_translate.utils.improvements.end_marks import add_end_mark # added\n",
    "from torch.nn import TransformerEncoderLayer, TransformerDecoderLayer\n",
    "from torch.utils.data import Dataset, DataLoader, random_split\n",
    "from wolof_translate.data.dataset_v4 import SentenceDataset # v2 -> v3 -> v4\n",
    "from wolof_translate.utils.sent_corrections import *\n",
    "from sklearn.model_selection import train_test_split\n",
    "from torch.optim.lr_scheduler import _LRScheduler\n",
    "# from custom_rnn.utils.kwargs import Kwargs\n",
    "from torch.nn.utils.rnn import pad_sequence\n",
    "from plotly.subplots import make_subplots\n",
    "from nlpaug.augmenter import char as nac\n",
    "from torch.utils.data import DataLoader\n",
    "# from datasets  import load_metric # make pip install evaluate instead\n",
    "# and pip install sacrebleu for instance\n",
    "from torch.nn import functional as F\n",
    "import plotly.graph_objects as go\n",
    "from tokenizers import Tokenizer\n",
    "import matplotlib.pyplot as plt\n",
    "import pytorch_lightning as lt\n",
    "from tqdm import tqdm, trange\n",
    "from functools import partial\n",
    "from torch.nn import utils\n",
    "from copy import deepcopy\n",
    "from torch import optim\n",
    "from typing import *\n",
    "from torch import nn\n",
    "import pandas as pd\n",
    "import numpy as np\n",
    "import itertools\n",
    "import evaluate\n",
    "import random\n",
    "import string\n",
    "import shutil\n",
    "import wandb\n",
    "import torch\n",
    "import json\n",
    "import copy\n",
    "import os\n",
    "\n",
    "# add seed for everything\n",
    "lt.seed_everything(0)\n",
    "\n",
    "os.environ[\"WANDB_DISABLED\"] = \"true\""
   ]
  },
  {
   "attachments": {},
   "cell_type": "markdown",
   "metadata": {
    "id": "19MVywzSLAJt"
   },
   "source": [
    "## Wolof to French"
   ]
  },
  {
   "attachments": {},
   "cell_type": "markdown",
   "metadata": {
    "id": "n4tP0YGyLAJt"
   },
   "source": [
    "### Configure dataset 🔠"
   ]
  },
  {
   "cell_type": "code",
   "execution_count": 2,
   "metadata": {
    "executionInfo": {
     "elapsed": 77,
     "status": "ok",
     "timestamp": 1683491387893,
     "user": {
      "displayName": "Oumar Kane",
      "userId": "05889582343301699661"
     },
     "user_tz": 0
    },
    "id": "t2GR0YjYuLc5"
   },
   "outputs": [],
   "source": [
    "# recuperate the tokenizer from a json file\n",
    "tokenizer = BartTokenizerFast(tokenizer_file=f\"wolof-translate/wolof_translate/tokenizers/bart_tokenizers/tokenizer_v3_2.json\")"
   ]
  },
  {
   "cell_type": "code",
   "execution_count": 3,
   "metadata": {
    "executionInfo": {
     "elapsed": 77,
     "status": "ok",
     "timestamp": 1683491387894,
     "user": {
      "displayName": "Oumar Kane",
      "userId": "05889582343301699661"
     },
     "user_tz": 0
    },
    "id": "BIjksuH9LAJv"
   },
   "outputs": [],
   "source": [
    "def recuperate_datasets(wf_char_p: float, wf_word_p: float, max_len: int, end_mark_opt: int):\n",
    "\n",
    "  # Let us recuperate the end_mark adding option\n",
    "  if end_mark_opt == 1:\n",
    "    # Create augmentation to add on French sentences\n",
    "    fr_augmentation_1 = TransformerSequences(nac.KeyboardAug(aug_char_p=wf_char_p, aug_word_p=wf_word_p,\n",
    "                                                             aug_word_max = max_len),\n",
    "                                          remove_mark_space, delete_guillemet_space, add_mark_space)\n",
    "    \n",
    "    fr_augmentation_2 = TransformerSequences(remove_mark_space, delete_guillemet_space, add_mark_space)\n",
    "\n",
    "  else:\n",
    "    \n",
    "    if end_mark_opt == 2:\n",
    "\n",
    "      end_mark_fn = partial(add_end_mark, end_mark_to_remove = '!', replace = True)\n",
    "    \n",
    "    elif end_mark_opt == 3:\n",
    "\n",
    "      end_mark_fn = partial(add_end_mark)\n",
    "    \n",
    "    elif end_mark_opt == 4:\n",
    "\n",
    "      end_mark_fn = partial(add_end_mark, end_mark_to_remove = '!')\n",
    "\n",
    "    # Create augmentation to add on French sentences\n",
    "    fr_augmentation_1 = TransformerSequences(nac.KeyboardAug(aug_char_p=wf_char_p, aug_word_p=wf_word_p,\n",
    "                                                             aug_word_max = max_len),\n",
    "                                          remove_mark_space, delete_guillemet_space, add_mark_space, end_mark_fn)\n",
    "    \n",
    "    fr_augmentation_2 = TransformerSequences(remove_mark_space, delete_guillemet_space, add_mark_space, end_mark_fn)\n",
    "\n",
    "  # Recuperate the train dataset\n",
    "  train_dataset_aug = SentenceDataset(f\"data/extractions/new_data/train_set.csv\",\n",
    "                                        tokenizer,\n",
    "                                        truncation = True, max_len=max_len,\n",
    "                                        corpus_1 = 'wolof',\n",
    "                                        corpus_2='french',\n",
    "                                        cp1_transformer = fr_augmentation_1,\n",
    "                                        cp2_transformer = fr_augmentation_2,\n",
    "                                        add_bos_token=True,\n",
    "                                        )\n",
    "\n",
    "  # Recuperate the valid dataset\n",
    "  valid_dataset = SentenceDataset(f\"data/extractions/new_data/valid_set.csv\",\n",
    "                                        tokenizer, max_len=max_len,\n",
    "                                        corpus_1='wolof',\n",
    "                                        corpus_2='french',\n",
    "                                        cp1_transformer = fr_augmentation_2,\n",
    "                                        cp2_transformer = fr_augmentation_2,\n",
    "                                        add_bos_token=True,\n",
    "                                        truncation = True)\n",
    "  \n",
    "  # Return the datasets\n",
    "  return train_dataset_aug, valid_dataset"
   ]
  },
  {
   "attachments": {},
   "cell_type": "markdown",
   "metadata": {
    "id": "0vhzP3IaLAJv"
   },
   "source": [
    "### Configure the evaluation function ⚙️"
   ]
  },
  {
   "attachments": {},
   "cell_type": "markdown",
   "metadata": {
    "id": "IuppKYiyLAJx"
   },
   "source": [
    "Let us initialize the evaluation object."
   ]
  },
  {
   "cell_type": "code",
   "execution_count": 4,
   "metadata": {
    "executionInfo": {
     "elapsed": 74,
     "status": "ok",
     "timestamp": 1683491387896,
     "user": {
      "displayName": "Oumar Kane",
      "userId": "05889582343301699661"
     },
     "user_tz": 0
    },
    "id": "a7Bpd4UPLAJy"
   },
   "outputs": [],
   "source": [
    "%run wolof-translate/wolof_translate/utils/evaluation.py\n",
    "evaluation = TranslationEvaluation(tokenizer)\n"
   ]
  },
  {
   "attachments": {},
   "cell_type": "markdown",
   "metadata": {
    "id": "xT17hB19LAJy"
   },
   "source": [
    "### Searching for the best parameters 🕖"
   ]
  },
  {
   "cell_type": "code",
   "execution_count": 5,
   "metadata": {},
   "outputs": [],
   "source": [
    "from wolof_translate.models.transformers.optimization import TransformerScheduler\n",
    "from wolof_translate.trainers.transformer_trainer import ModelRunner\n",
    "# from wolof_translate.utils.evaluation import TranslationEvaluation\n",
    "from wolof_translate.models.transformers.main import Transformer\n",
    "from wolof_translate.utils.split_with_valid import split_data\n"
   ]
  },
  {
   "attachments": {},
   "cell_type": "markdown",
   "metadata": {},
   "source": [
    "-------------"
   ]
  },
  {
   "cell_type": "code",
   "execution_count": null,
   "metadata": {},
   "outputs": [],
   "source": []
  },
  {
   "attachments": {},
   "cell_type": "markdown",
   "metadata": {},
   "source": [
    "### --- Wandb v5 2000"
   ]
  },
  {
   "cell_type": "code",
   "execution_count": null,
   "metadata": {},
   "outputs": [],
   "source": []
  },
  {
   "cell_type": "code",
   "execution_count": 12,
   "metadata": {},
   "outputs": [],
   "source": [
    "# let us initialize the hyperparameter configuration \n",
    "config = {\n",
    "    'random_state': 0,\n",
    "    'fr_char_p': 0.09477715149453073,\n",
    "    'fr_word_p': 0.20535293560491608,\n",
    "    'learning_rate': 0.0018493115416980412,\n",
    "    'weight_decay': 0.0415778008354269,\n",
    "    'batch_size': 16,\n",
    "    'warmup_ratio': 0.0,\n",
    "    'max_epoch': 828,\n",
    "    'epochs': 83,\n",
    "    'mid_epoch': 83,\n",
    "    'max_len': 68,\n",
    "    'end_mark': 3,\n",
    "    'bleu': 7.255,\n",
    "    'model_dir': 'data/checkpoints/wf_bart_custom_train_v5_checkpoints',\n",
    "    'new_model_dir': 'data/checkpoints/bart_custom_train_results_wf_v5'\n",
    "}\n",
    "\n",
    "# Initialize the model name\n",
    "model_name = 'facebook/bart-base'\n",
    "\n",
    "# import the model with its pre-trained weights\n",
    "model = BartForConditionalGeneration.from_pretrained(model_name)\n",
    "\n",
    "# resize the token embeddings\n",
    "model.resize_token_embeddings(len(tokenizer))\n",
    "\n",
    "# let us initialize the evaluation class\n",
    "evaluation = TranslationEvaluation(tokenizer)\n",
    "\n",
    "# let us initialize the trainer\n",
    "trainer = ModelRunner(model, seed = 0, version = 5, evaluation = evaluation, optimizer=Adafactor)\n",
    "\n",
    "# split the data\n",
    "split_data(config['random_state'], csv_file = \"ad_sentences.csv\")\n",
    "\n",
    "# recuperate train and test set\n",
    "train_dataset, test_dataset = recuperate_datasets(config['fr_char_p'], \n",
    "                                                    config['fr_word_p'], config['max_len'],\n",
    "                                                    config['end_mark'])\n",
    "\n",
    "# let us calculate the appropriate warmup steps (let us take a max epoch of 100)\n",
    "length = len(train_dataset)\n",
    "\n",
    "n_steps = length // config['batch_size']\n",
    "\n",
    "num_steps = config['max_epoch'] * n_steps\n",
    "\n",
    "warmup_steps = (config['max_epoch'] * n_steps) * config['warmup_ratio']\n",
    "\n",
    "# # Initialize the scheduler parameters\n",
    "scheduler_args = {'num_warmup_steps': warmup_steps, 'num_training_steps': num_steps}\n",
    "\n",
    "# Initialize the optimizer parameters\n",
    "optimizer_args = {\n",
    "    'lr': config['learning_rate'],\n",
    "    'weight_decay': config['weight_decay'],\n",
    "    # 'betas': (0.9, 0.98),\n",
    "    'warmup_init': False,\n",
    "    'relative_step': False\n",
    "}\n",
    "\n",
    "# Initialize the loaders parameters\n",
    "train_loader_args = {'batch_size': config['batch_size']}\n",
    "\n",
    "# Add the datasets and hyperparameters to trainer\n",
    "trainer.compile(train_dataset, test_dataset, tokenizer, train_loader_args,\n",
    "                optimizer_kwargs = optimizer_args,\n",
    "                lr_scheduler=get_linear_schedule_with_warmup,\n",
    "                lr_scheduler_kwargs=scheduler_args, \n",
    "                predict_with_generate = True,\n",
    "                hugging_face = True,\n",
    "                logging_dir=\"data/logs/bart_custom_train_wf\"\n",
    "                )\n",
    "\n",
    "# We will from checkpoints so let us the model\n",
    "# trainer.load(config['model_dir'], load_best=True) # Only for the first loading\n",
    "trainer.load(config['new_model_dir'], load_best=True)\n",
    "\n",
    "        "
   ]
  },
  {
   "cell_type": "code",
   "execution_count": null,
   "metadata": {},
   "outputs": [],
   "source": []
  },
  {
   "attachments": {},
   "cell_type": "markdown",
   "metadata": {},
   "source": [
    "### --- Linear"
   ]
  },
  {
   "cell_type": "code",
   "execution_count": 11,
   "metadata": {},
   "outputs": [
    {
     "name": "stderr",
     "output_type": "stream",
     "text": [
      "  0%|          | 0/78 [00:00<?, ?it/s]c:\\Users\\Oumar Kane\\AppData\\Local\\pypoetry\\Cache\\virtualenvs\\pytorch1-HleOW5am-py3.10\\lib\\site-packages\\torch\\optim\\lr_scheduler.py:257: UserWarning: To get the last learning rate computed by the scheduler, please use `get_last_lr()`.\n",
      "  warnings.warn(\"To get the last learning rate computed by the scheduler, \"\n"
     ]
    },
    {
     "name": "stdout",
     "output_type": "stream",
     "text": [
      "For epoch 6: \n",
      "{Learning rate: [0.0018380302490190936]}\n"
     ]
    },
    {
     "name": "stderr",
     "output_type": "stream",
     "text": [
      "Train batch number 99: 100%|██████████| 99/99 [01:09<00:00,  1.43batches/s]\n",
      "Test batch number 13: 100%|██████████| 13/13 [00:17<00:00,  1.38s/batches]\n"
     ]
    },
    {
     "name": "stdout",
     "output_type": "stream",
     "text": [
      "\n",
      "Metrics: {'train_loss': 0.45403398227209996, 'test_loss': 0.6342077094774979, 'bleu': 6.3823, 'gen_len': 11.1717}\n",
      "\n",
      "=============================\n",
      "\n"
     ]
    },
    {
     "name": "stderr",
     "output_type": "stream",
     "text": [
      "  1%|▏         | 1/78 [01:36<2:03:18, 96.09s/it]"
     ]
    },
    {
     "name": "stdout",
     "output_type": "stream",
     "text": [
      "For epoch 7: \n",
      "{Learning rate: [0.001835773990483304]}\n"
     ]
    },
    {
     "name": "stderr",
     "output_type": "stream",
     "text": [
      "Train batch number 99: 100%|██████████| 99/99 [00:52<00:00,  1.89batches/s]\n",
      "Test batch number 13: 100%|██████████| 13/13 [00:19<00:00,  1.54s/batches]\n"
     ]
    },
    {
     "name": "stdout",
     "output_type": "stream",
     "text": [
      "\n",
      "Metrics: {'train_loss': 0.38862554849398256, 'test_loss': 0.6297494700321784, 'bleu': 7.9976, 'gen_len': 12.8232}\n",
      "\n",
      "=============================\n",
      "\n"
     ]
    },
    {
     "name": "stderr",
     "output_type": "stream",
     "text": [
      "  3%|▎         | 2/78 [02:57<1:50:41, 87.39s/it]"
     ]
    },
    {
     "name": "stdout",
     "output_type": "stream",
     "text": [
      "For epoch 8: \n",
      "{Learning rate: [0.0018335177319475145]}\n"
     ]
    },
    {
     "name": "stderr",
     "output_type": "stream",
     "text": [
      "Train batch number 99: 100%|██████████| 99/99 [00:55<00:00,  1.79batches/s]\n",
      "Test batch number 13: 100%|██████████| 13/13 [00:21<00:00,  1.68s/batches]\n"
     ]
    },
    {
     "name": "stdout",
     "output_type": "stream",
     "text": [
      "\n",
      "Metrics: {'train_loss': 0.32575251357723967, 'test_loss': 0.6409692007761735, 'bleu': 8.5286, 'gen_len': 12.7071}\n",
      "\n",
      "=============================\n",
      "\n"
     ]
    },
    {
     "name": "stderr",
     "output_type": "stream",
     "text": [
      "  4%|▍         | 3/78 [04:23<1:48:23, 86.71s/it]"
     ]
    },
    {
     "name": "stdout",
     "output_type": "stream",
     "text": [
      "For epoch 9: \n",
      "{Learning rate: [0.001831261473411725]}\n"
     ]
    },
    {
     "name": "stderr",
     "output_type": "stream",
     "text": [
      "Train batch number 99: 100%|██████████| 99/99 [00:53<00:00,  1.85batches/s]\n",
      "Test batch number 13: 100%|██████████| 13/13 [00:23<00:00,  1.79s/batches]\n"
     ]
    },
    {
     "name": "stdout",
     "output_type": "stream",
     "text": [
      "\n",
      "Metrics: {'train_loss': 0.2639068672151277, 'test_loss': 0.6411575422837184, 'bleu': 10.4439, 'gen_len': 13.601}\n",
      "\n",
      "=============================\n",
      "\n"
     ]
    },
    {
     "name": "stderr",
     "output_type": "stream",
     "text": [
      "  5%|▌         | 4/78 [05:49<1:46:28, 86.33s/it]"
     ]
    },
    {
     "name": "stdout",
     "output_type": "stream",
     "text": [
      "For epoch 10: \n",
      "{Learning rate: [0.0018290052148759355]}\n"
     ]
    },
    {
     "name": "stderr",
     "output_type": "stream",
     "text": [
      "Train batch number 99: 100%|██████████| 99/99 [00:54<00:00,  1.82batches/s]\n",
      "Test batch number 13: 100%|██████████| 13/13 [00:21<00:00,  1.69s/batches]\n"
     ]
    },
    {
     "name": "stdout",
     "output_type": "stream",
     "text": [
      "\n",
      "Metrics: {'train_loss': 0.21432568998348833, 'test_loss': 0.6739469720767095, 'bleu': 9.8346, 'gen_len': 13.1616}\n",
      "\n",
      "=============================\n",
      "\n"
     ]
    },
    {
     "name": "stderr",
     "output_type": "stream",
     "text": [
      "  6%|▋         | 5/78 [07:10<1:42:57, 84.63s/it]"
     ]
    },
    {
     "name": "stdout",
     "output_type": "stream",
     "text": [
      "For epoch 11: \n",
      "{Learning rate: [0.0018267489563401457]}\n"
     ]
    },
    {
     "name": "stderr",
     "output_type": "stream",
     "text": [
      "Train batch number 99: 100%|██████████| 99/99 [00:53<00:00,  1.84batches/s]\n",
      "Test batch number 13: 100%|██████████| 13/13 [00:23<00:00,  1.78s/batches]\n"
     ]
    },
    {
     "name": "stdout",
     "output_type": "stream",
     "text": [
      "\n",
      "Metrics: {'train_loss': 0.17311629479882693, 'test_loss': 0.6826621683744284, 'bleu': 11.646, 'gen_len': 13.1818}\n",
      "\n",
      "=============================\n",
      "\n"
     ]
    },
    {
     "name": "stderr",
     "output_type": "stream",
     "text": [
      "  8%|▊         | 6/78 [08:36<1:42:07, 85.11s/it]"
     ]
    },
    {
     "name": "stdout",
     "output_type": "stream",
     "text": [
      "For epoch 12: \n",
      "{Learning rate: [0.0018244926978043562]}\n"
     ]
    },
    {
     "name": "stderr",
     "output_type": "stream",
     "text": [
      "Train batch number 99: 100%|██████████| 99/99 [00:53<00:00,  1.84batches/s]\n",
      "Test batch number 13: 100%|██████████| 13/13 [00:21<00:00,  1.66s/batches]\n"
     ]
    },
    {
     "name": "stdout",
     "output_type": "stream",
     "text": [
      "\n",
      "Metrics: {'train_loss': 0.14088953896002335, 'test_loss': 0.701448163160911, 'bleu': 11.4684, 'gen_len': 13.3081}\n",
      "\n",
      "=============================\n",
      "\n"
     ]
    },
    {
     "name": "stderr",
     "output_type": "stream",
     "text": [
      "  9%|▉         | 7/78 [09:57<1:38:55, 83.59s/it]"
     ]
    },
    {
     "name": "stdout",
     "output_type": "stream",
     "text": [
      "For epoch 13: \n",
      "{Learning rate: [0.0018222364392685667]}\n"
     ]
    },
    {
     "name": "stderr",
     "output_type": "stream",
     "text": [
      "Train batch number 99: 100%|██████████| 99/99 [00:54<00:00,  1.83batches/s]\n",
      "Test batch number 13: 100%|██████████| 13/13 [00:22<00:00,  1.72s/batches]\n"
     ]
    },
    {
     "name": "stdout",
     "output_type": "stream",
     "text": [
      "\n",
      "Metrics: {'train_loss': 0.11628618900372524, 'test_loss': 0.7036962875953088, 'bleu': 10.8786, 'gen_len': 13.6061}\n",
      "\n",
      "=============================\n",
      "\n"
     ]
    },
    {
     "name": "stderr",
     "output_type": "stream",
     "text": [
      " 10%|█         | 8/78 [11:18<1:36:45, 82.94s/it]"
     ]
    },
    {
     "name": "stdout",
     "output_type": "stream",
     "text": [
      "For epoch 14: \n",
      "{Learning rate: [0.0018199801807327772]}\n"
     ]
    },
    {
     "name": "stderr",
     "output_type": "stream",
     "text": [
      "Train batch number 99: 100%|██████████| 99/99 [00:54<00:00,  1.81batches/s]\n",
      "Test batch number 13: 100%|██████████| 13/13 [00:23<00:00,  1.80s/batches]\n"
     ]
    },
    {
     "name": "stdout",
     "output_type": "stream",
     "text": [
      "\n",
      "Metrics: {'train_loss': 0.09595077763302158, 'test_loss': 0.7218631964463454, 'bleu': 13.2939, 'gen_len': 13.7323}\n",
      "\n",
      "=============================\n",
      "\n"
     ]
    },
    {
     "name": "stderr",
     "output_type": "stream",
     "text": [
      " 12%|█▏        | 9/78 [12:46<1:36:57, 84.31s/it]"
     ]
    },
    {
     "name": "stdout",
     "output_type": "stream",
     "text": [
      "For epoch 15: \n",
      "{Learning rate: [0.0018177239221969879]}\n"
     ]
    },
    {
     "name": "stderr",
     "output_type": "stream",
     "text": [
      "Train batch number 99: 100%|██████████| 99/99 [00:53<00:00,  1.84batches/s]\n",
      "Test batch number 13: 100%|██████████| 13/13 [00:23<00:00,  1.83s/batches]\n"
     ]
    },
    {
     "name": "stdout",
     "output_type": "stream",
     "text": [
      "\n",
      "Metrics: {'train_loss': 0.08364992494685482, 'test_loss': 0.7361750717346485, 'bleu': 11.6106, 'gen_len': 14.2121}\n",
      "\n",
      "=============================\n",
      "\n"
     ]
    },
    {
     "name": "stderr",
     "output_type": "stream",
     "text": [
      " 13%|█▎        | 10/78 [14:08<1:34:58, 83.80s/it]"
     ]
    },
    {
     "name": "stdout",
     "output_type": "stream",
     "text": [
      "For epoch 16: \n",
      "{Learning rate: [0.0018154676636611983]}\n"
     ]
    },
    {
     "name": "stderr",
     "output_type": "stream",
     "text": [
      "Train batch number 99: 100%|██████████| 99/99 [00:51<00:00,  1.91batches/s]\n",
      "Test batch number 13: 100%|██████████| 13/13 [00:20<00:00,  1.55s/batches]\n"
     ]
    },
    {
     "name": "stdout",
     "output_type": "stream",
     "text": [
      "\n",
      "Metrics: {'train_loss': 0.07088428718799894, 'test_loss': 0.7461037016831912, 'bleu': 12.8889, 'gen_len': 13.6313}\n",
      "\n",
      "=============================\n",
      "\n"
     ]
    },
    {
     "name": "stderr",
     "output_type": "stream",
     "text": [
      " 14%|█▍        | 11/78 [15:25<1:31:19, 81.79s/it]"
     ]
    },
    {
     "name": "stdout",
     "output_type": "stream",
     "text": [
      "For epoch 17: \n",
      "{Learning rate: [0.0018132114051254086]}\n"
     ]
    },
    {
     "name": "stderr",
     "output_type": "stream",
     "text": [
      "Train batch number 99: 100%|██████████| 99/99 [00:52<00:00,  1.88batches/s]\n",
      "Test batch number 13: 100%|██████████| 13/13 [00:21<00:00,  1.64s/batches]\n"
     ]
    },
    {
     "name": "stdout",
     "output_type": "stream",
     "text": [
      "\n",
      "Metrics: {'train_loss': 0.06187313815785779, 'test_loss': 0.7604290407437545, 'bleu': 12.4804, 'gen_len': 13.596}\n",
      "\n",
      "=============================\n",
      "\n"
     ]
    },
    {
     "name": "stderr",
     "output_type": "stream",
     "text": [
      " 15%|█▌        | 12/78 [16:44<1:29:03, 80.96s/it]"
     ]
    },
    {
     "name": "stdout",
     "output_type": "stream",
     "text": [
      "For epoch 18: \n",
      "{Learning rate: [0.001810955146589619]}\n"
     ]
    },
    {
     "name": "stderr",
     "output_type": "stream",
     "text": [
      "Train batch number 99: 100%|██████████| 99/99 [00:51<00:00,  1.91batches/s]\n",
      "Test batch number 13: 100%|██████████| 13/13 [00:23<00:00,  1.80s/batches]\n"
     ]
    },
    {
     "name": "stdout",
     "output_type": "stream",
     "text": [
      "\n",
      "Metrics: {'train_loss': 0.052332042970440605, 'test_loss': 0.7691246867179871, 'bleu': 14.5898, 'gen_len': 13.9747}\n",
      "\n",
      "=============================\n",
      "\n"
     ]
    },
    {
     "name": "stderr",
     "output_type": "stream",
     "text": [
      " 17%|█▋        | 13/78 [18:09<1:28:46, 81.95s/it]"
     ]
    },
    {
     "name": "stdout",
     "output_type": "stream",
     "text": [
      "For epoch 19: \n",
      "{Learning rate: [0.0018086988880538296]}\n"
     ]
    },
    {
     "name": "stderr",
     "output_type": "stream",
     "text": [
      "Train batch number 99: 100%|██████████| 99/99 [00:53<00:00,  1.87batches/s]\n",
      "Test batch number 13: 100%|██████████| 13/13 [00:20<00:00,  1.61s/batches]\n"
     ]
    },
    {
     "name": "stdout",
     "output_type": "stream",
     "text": [
      "\n",
      "Metrics: {'train_loss': 0.05231734942832981, 'test_loss': 0.7758139899143806, 'bleu': 13.5043, 'gen_len': 13.4747}\n",
      "\n",
      "=============================\n",
      "\n"
     ]
    },
    {
     "name": "stderr",
     "output_type": "stream",
     "text": [
      " 18%|█▊        | 14/78 [19:28<1:26:28, 81.07s/it]"
     ]
    },
    {
     "name": "stdout",
     "output_type": "stream",
     "text": [
      "For epoch 20: \n",
      "{Learning rate: [0.00180644262951804]}\n"
     ]
    },
    {
     "name": "stderr",
     "output_type": "stream",
     "text": [
      "Train batch number 99: 100%|██████████| 99/99 [00:51<00:00,  1.91batches/s]\n",
      "Test batch number 13: 100%|██████████| 13/13 [00:21<00:00,  1.69s/batches]\n"
     ]
    },
    {
     "name": "stdout",
     "output_type": "stream",
     "text": [
      "\n",
      "Metrics: {'train_loss': 0.046402433134540164, 'test_loss': 0.7683100906702188, 'bleu': 13.8183, 'gen_len': 13.7374}\n",
      "\n",
      "=============================\n",
      "\n"
     ]
    },
    {
     "name": "stderr",
     "output_type": "stream",
     "text": [
      " 19%|█▉        | 15/78 [20:47<1:24:27, 80.44s/it]"
     ]
    },
    {
     "name": "stdout",
     "output_type": "stream",
     "text": [
      "For epoch 21: \n",
      "{Learning rate: [0.0018041863709822505]}\n"
     ]
    },
    {
     "name": "stderr",
     "output_type": "stream",
     "text": [
      "Train batch number 99: 100%|██████████| 99/99 [00:52<00:00,  1.89batches/s]\n",
      "Test batch number 13: 100%|██████████| 13/13 [00:24<00:00,  1.91s/batches]\n"
     ]
    },
    {
     "name": "stdout",
     "output_type": "stream",
     "text": [
      "\n",
      "Metrics: {'train_loss': 0.03927341957736497, 'test_loss': 0.7855919209810404, 'bleu': 15.1943, 'gen_len': 14.0606}\n",
      "\n",
      "=============================\n",
      "\n"
     ]
    },
    {
     "name": "stderr",
     "output_type": "stream",
     "text": [
      " 21%|██        | 16/78 [22:13<1:24:49, 82.08s/it]"
     ]
    },
    {
     "name": "stdout",
     "output_type": "stream",
     "text": [
      "For epoch 22: \n",
      "{Learning rate: [0.001801930112446461]}\n"
     ]
    },
    {
     "name": "stderr",
     "output_type": "stream",
     "text": [
      "Train batch number 99: 100%|██████████| 99/99 [00:51<00:00,  1.91batches/s]\n",
      "Test batch number 13: 100%|██████████| 13/13 [00:24<00:00,  1.87s/batches]\n"
     ]
    },
    {
     "name": "stdout",
     "output_type": "stream",
     "text": [
      "\n",
      "Metrics: {'train_loss': 0.03729393679385233, 'test_loss': 0.7921599310178024, 'bleu': 14.484, 'gen_len': 14.2727}\n",
      "\n",
      "=============================\n",
      "\n"
     ]
    },
    {
     "name": "stderr",
     "output_type": "stream",
     "text": [
      " 22%|██▏       | 17/78 [23:34<1:23:15, 81.89s/it]"
     ]
    },
    {
     "name": "stdout",
     "output_type": "stream",
     "text": [
      "For epoch 23: \n",
      "{Learning rate: [0.0017996738539106712]}\n"
     ]
    },
    {
     "name": "stderr",
     "output_type": "stream",
     "text": [
      "Train batch number 99: 100%|██████████| 99/99 [00:51<00:00,  1.91batches/s]\n",
      "Test batch number 13: 100%|██████████| 13/13 [00:27<00:00,  2.08s/batches]\n"
     ]
    },
    {
     "name": "stdout",
     "output_type": "stream",
     "text": [
      "\n",
      "Metrics: {'train_loss': 0.03685961413488845, 'test_loss': 0.799732506275177, 'bleu': 13.9631, 'gen_len': 13.6465}\n",
      "\n",
      "=============================\n",
      "\n"
     ]
    },
    {
     "name": "stderr",
     "output_type": "stream",
     "text": [
      " 23%|██▎       | 18/78 [24:58<1:22:28, 82.48s/it]"
     ]
    },
    {
     "name": "stdout",
     "output_type": "stream",
     "text": [
      "For epoch 24: \n",
      "{Learning rate: [0.001797417595374882]}\n"
     ]
    },
    {
     "name": "stderr",
     "output_type": "stream",
     "text": [
      "Train batch number 99: 100%|██████████| 99/99 [00:54<00:00,  1.82batches/s]\n",
      "Test batch number 13: 100%|██████████| 13/13 [00:23<00:00,  1.81s/batches]\n"
     ]
    },
    {
     "name": "stdout",
     "output_type": "stream",
     "text": [
      "\n",
      "Metrics: {'train_loss': 0.03253178908066316, 'test_loss': 0.8190156588187585, 'bleu': 13.8687, 'gen_len': 13.9747}\n",
      "\n",
      "=============================\n",
      "\n"
     ]
    },
    {
     "name": "stderr",
     "output_type": "stream",
     "text": [
      " 24%|██▍       | 19/78 [26:21<1:21:13, 82.61s/it]"
     ]
    },
    {
     "name": "stdout",
     "output_type": "stream",
     "text": [
      "For epoch 25: \n",
      "{Learning rate: [0.0017951613368390924]}\n"
     ]
    },
    {
     "name": "stderr",
     "output_type": "stream",
     "text": [
      "Train batch number 99: 100%|██████████| 99/99 [00:54<00:00,  1.83batches/s]\n",
      "Test batch number 13: 100%|██████████| 13/13 [00:25<00:00,  1.94s/batches]\n"
     ]
    },
    {
     "name": "stdout",
     "output_type": "stream",
     "text": [
      "\n",
      "Metrics: {'train_loss': 0.02964650850855943, 'test_loss': 0.8078388571739197, 'bleu': 14.1821, 'gen_len': 14.1111}\n",
      "\n",
      "=============================\n",
      "\n"
     ]
    },
    {
     "name": "stderr",
     "output_type": "stream",
     "text": [
      " 26%|██▌       | 20/78 [27:45<1:20:25, 83.19s/it]"
     ]
    },
    {
     "name": "stdout",
     "output_type": "stream",
     "text": [
      "For epoch 26: \n",
      "{Learning rate: [0.0017929050783033029]}\n"
     ]
    },
    {
     "name": "stderr",
     "output_type": "stream",
     "text": [
      "Train batch number 99: 100%|██████████| 99/99 [00:55<00:00,  1.79batches/s]\n",
      "Test batch number 13: 100%|██████████| 13/13 [00:26<00:00,  2.00s/batches]\n"
     ]
    },
    {
     "name": "stdout",
     "output_type": "stream",
     "text": [
      "\n",
      "Metrics: {'train_loss': 0.027997870854280814, 'test_loss': 0.8148646056652069, 'bleu': 14.7729, 'gen_len': 14.5657}\n",
      "\n",
      "=============================\n",
      "\n"
     ]
    },
    {
     "name": "stderr",
     "output_type": "stream",
     "text": [
      " 27%|██▋       | 21/78 [29:12<1:20:02, 84.25s/it]"
     ]
    },
    {
     "name": "stdout",
     "output_type": "stream",
     "text": [
      "For epoch 27: \n",
      "{Learning rate: [0.0017906488197675134]}\n"
     ]
    },
    {
     "name": "stderr",
     "output_type": "stream",
     "text": [
      "Train batch number 99: 100%|██████████| 99/99 [00:53<00:00,  1.86batches/s]\n",
      "Test batch number 13: 100%|██████████| 13/13 [00:19<00:00,  1.54s/batches]\n"
     ]
    },
    {
     "name": "stdout",
     "output_type": "stream",
     "text": [
      "\n",
      "Metrics: {'train_loss': 0.027317895168306853, 'test_loss': 0.8136086922425491, 'bleu': 14.1628, 'gen_len': 13.6162}\n",
      "\n",
      "=============================\n",
      "\n"
     ]
    },
    {
     "name": "stderr",
     "output_type": "stream",
     "text": [
      " 28%|██▊       | 22/78 [30:31<1:17:01, 82.53s/it]"
     ]
    },
    {
     "name": "stdout",
     "output_type": "stream",
     "text": [
      "For epoch 28: \n",
      "{Learning rate: [0.0017883925612317238]}\n"
     ]
    },
    {
     "name": "stderr",
     "output_type": "stream",
     "text": [
      "Train batch number 99: 100%|██████████| 99/99 [00:52<00:00,  1.89batches/s]\n",
      "Test batch number 13: 100%|██████████| 13/13 [00:21<00:00,  1.69s/batches]\n"
     ]
    },
    {
     "name": "stdout",
     "output_type": "stream",
     "text": [
      "\n",
      "Metrics: {'train_loss': 0.025123203972900153, 'test_loss': 0.8034741534636571, 'bleu': 14.119, 'gen_len': 14.1313}\n",
      "\n",
      "=============================\n",
      "\n"
     ]
    },
    {
     "name": "stderr",
     "output_type": "stream",
     "text": [
      " 29%|██▉       | 23/78 [31:50<1:14:47, 81.59s/it]"
     ]
    },
    {
     "name": "stdout",
     "output_type": "stream",
     "text": [
      "For epoch 29: \n",
      "{Learning rate: [0.001786136302695934]}\n"
     ]
    },
    {
     "name": "stderr",
     "output_type": "stream",
     "text": [
      "Train batch number 99: 100%|██████████| 99/99 [00:52<00:00,  1.89batches/s]\n",
      "Test batch number 13: 100%|██████████| 13/13 [00:21<00:00,  1.66s/batches]\n"
     ]
    },
    {
     "name": "stdout",
     "output_type": "stream",
     "text": [
      "\n",
      "Metrics: {'train_loss': 0.021977040709720716, 'test_loss': 0.8280407259097466, 'bleu': 15.1724, 'gen_len': 13.8687}\n",
      "\n",
      "=============================\n",
      "\n"
     ]
    },
    {
     "name": "stderr",
     "output_type": "stream",
     "text": [
      " 31%|███       | 24/78 [33:09<1:12:44, 80.83s/it]"
     ]
    },
    {
     "name": "stdout",
     "output_type": "stream",
     "text": [
      "For epoch 30: \n",
      "{Learning rate: [0.0017838800441601446]}\n"
     ]
    },
    {
     "name": "stderr",
     "output_type": "stream",
     "text": [
      "Train batch number 99: 100%|██████████| 99/99 [00:52<00:00,  1.89batches/s]\n",
      "Test batch number 13: 100%|██████████| 13/13 [00:23<00:00,  1.78s/batches]\n"
     ]
    },
    {
     "name": "stdout",
     "output_type": "stream",
     "text": [
      "\n",
      "Metrics: {'train_loss': 0.021162402054125614, 'test_loss': 0.8147000532883865, 'bleu': 14.9247, 'gen_len': 14.0051}\n",
      "\n",
      "=============================\n",
      "\n"
     ]
    },
    {
     "name": "stderr",
     "output_type": "stream",
     "text": [
      " 32%|███▏      | 25/78 [34:30<1:11:20, 80.76s/it]"
     ]
    },
    {
     "name": "stdout",
     "output_type": "stream",
     "text": [
      "For epoch 31: \n",
      "{Learning rate: [0.001781623785624355]}\n"
     ]
    },
    {
     "name": "stderr",
     "output_type": "stream",
     "text": [
      "Train batch number 99: 100%|██████████| 99/99 [00:52<00:00,  1.90batches/s]\n",
      "Test batch number 13: 100%|██████████| 13/13 [00:23<00:00,  1.78s/batches]\n"
     ]
    },
    {
     "name": "stdout",
     "output_type": "stream",
     "text": [
      "\n",
      "Metrics: {'train_loss': 0.022423470806744363, 'test_loss': 0.8053410328351535, 'bleu': 15.2064, 'gen_len': 14.1717}\n",
      "\n",
      "=============================\n",
      "\n"
     ]
    },
    {
     "name": "stderr",
     "output_type": "stream",
     "text": [
      " 33%|███▎      | 26/78 [35:54<1:10:51, 81.76s/it]"
     ]
    },
    {
     "name": "stdout",
     "output_type": "stream",
     "text": [
      "For epoch 32: \n",
      "{Learning rate: [0.0017793675270885655]}\n"
     ]
    },
    {
     "name": "stderr",
     "output_type": "stream",
     "text": [
      "Train batch number 99: 100%|██████████| 99/99 [00:52<00:00,  1.90batches/s]\n",
      "Test batch number 13: 100%|██████████| 13/13 [00:21<00:00,  1.69s/batches]\n"
     ]
    },
    {
     "name": "stdout",
     "output_type": "stream",
     "text": [
      "\n",
      "Metrics: {'train_loss': 0.019728534520989417, 'test_loss': 0.8291330429223868, 'bleu': 14.4051, 'gen_len': 14.1414}\n",
      "\n",
      "=============================\n",
      "\n"
     ]
    },
    {
     "name": "stderr",
     "output_type": "stream",
     "text": [
      " 35%|███▍      | 27/78 [37:13<1:08:48, 80.96s/it]"
     ]
    },
    {
     "name": "stdout",
     "output_type": "stream",
     "text": [
      "For epoch 33: \n",
      "{Learning rate: [0.0017771112685527762]}\n"
     ]
    },
    {
     "name": "stderr",
     "output_type": "stream",
     "text": [
      "Train batch number 99: 100%|██████████| 99/99 [00:52<00:00,  1.90batches/s]\n",
      "Test batch number 13: 100%|██████████| 13/13 [00:22<00:00,  1.76s/batches]\n"
     ]
    },
    {
     "name": "stdout",
     "output_type": "stream",
     "text": [
      "\n",
      "Metrics: {'train_loss': 0.019573569222532138, 'test_loss': 0.8173202390854175, 'bleu': 14.0479, 'gen_len': 13.9646}\n",
      "\n",
      "=============================\n",
      "\n"
     ]
    },
    {
     "name": "stderr",
     "output_type": "stream",
     "text": [
      " 36%|███▌      | 28/78 [38:33<1:07:14, 80.69s/it]"
     ]
    },
    {
     "name": "stdout",
     "output_type": "stream",
     "text": [
      "For epoch 34: \n",
      "{Learning rate: [0.0017748550100169867]}\n"
     ]
    },
    {
     "name": "stderr",
     "output_type": "stream",
     "text": [
      "Train batch number 99: 100%|██████████| 99/99 [00:51<00:00,  1.91batches/s]\n",
      "Test batch number 13: 100%|██████████| 13/13 [00:21<00:00,  1.67s/batches]\n"
     ]
    },
    {
     "name": "stdout",
     "output_type": "stream",
     "text": [
      "\n",
      "Metrics: {'train_loss': 0.01856815805564625, 'test_loss': 0.8187966209191543, 'bleu': 13.3973, 'gen_len': 13.8283}\n",
      "\n",
      "=============================\n",
      "\n"
     ]
    },
    {
     "name": "stderr",
     "output_type": "stream",
     "text": [
      " 37%|███▋      | 29/78 [39:52<1:05:24, 80.09s/it]"
     ]
    },
    {
     "name": "stdout",
     "output_type": "stream",
     "text": [
      "For epoch 35: \n",
      "{Learning rate: [0.001772598751481197]}\n"
     ]
    },
    {
     "name": "stderr",
     "output_type": "stream",
     "text": [
      "Train batch number 99: 100%|██████████| 99/99 [00:52<00:00,  1.89batches/s]\n",
      "Test batch number 13: 100%|██████████| 13/13 [00:22<00:00,  1.71s/batches]\n"
     ]
    },
    {
     "name": "stdout",
     "output_type": "stream",
     "text": [
      "\n",
      "Metrics: {'train_loss': 0.01790831649600707, 'test_loss': 0.8319174372232877, 'bleu': 14.4539, 'gen_len': 14.4091}\n",
      "\n",
      "=============================\n",
      "\n"
     ]
    },
    {
     "name": "stderr",
     "output_type": "stream",
     "text": [
      " 38%|███▊      | 30/78 [41:11<1:03:57, 79.95s/it]"
     ]
    },
    {
     "name": "stdout",
     "output_type": "stream",
     "text": [
      "For epoch 36: \n",
      "{Learning rate: [0.0017703424929454074]}\n"
     ]
    },
    {
     "name": "stderr",
     "output_type": "stream",
     "text": [
      "Train batch number 99: 100%|██████████| 99/99 [00:52<00:00,  1.90batches/s]\n",
      "Test batch number 13: 100%|██████████| 13/13 [00:20<00:00,  1.60s/batches]\n"
     ]
    },
    {
     "name": "stdout",
     "output_type": "stream",
     "text": [
      "\n",
      "Metrics: {'train_loss': 0.017680353875450715, 'test_loss': 0.8226429774211004, 'bleu': 14.4665, 'gen_len': 13.6111}\n",
      "\n",
      "=============================\n",
      "\n"
     ]
    },
    {
     "name": "stderr",
     "output_type": "stream",
     "text": [
      " 40%|███▉      | 31/78 [42:29<1:02:09, 79.35s/it]"
     ]
    },
    {
     "name": "stdout",
     "output_type": "stream",
     "text": [
      "For epoch 37: \n",
      "{Learning rate: [0.001768086234409618]}\n"
     ]
    },
    {
     "name": "stderr",
     "output_type": "stream",
     "text": [
      "Train batch number 99: 100%|██████████| 99/99 [00:52<00:00,  1.90batches/s]\n",
      "Test batch number 13: 100%|██████████| 13/13 [00:22<00:00,  1.73s/batches]\n"
     ]
    },
    {
     "name": "stdout",
     "output_type": "stream",
     "text": [
      "\n",
      "Metrics: {'train_loss': 0.016821121246638624, 'test_loss': 0.8165419262189132, 'bleu': 13.7762, 'gen_len': 14.1212}\n",
      "\n",
      "=============================\n",
      "\n"
     ]
    },
    {
     "name": "stderr",
     "output_type": "stream",
     "text": [
      " 41%|████      | 32/78 [43:49<1:00:54, 79.46s/it]"
     ]
    },
    {
     "name": "stdout",
     "output_type": "stream",
     "text": [
      "For epoch 38: \n",
      "{Learning rate: [0.0017658299758738284]}\n"
     ]
    },
    {
     "name": "stderr",
     "output_type": "stream",
     "text": [
      "Train batch number 99: 100%|██████████| 99/99 [00:52<00:00,  1.89batches/s]\n",
      "Test batch number 13: 100%|██████████| 13/13 [00:22<00:00,  1.70s/batches]\n"
     ]
    },
    {
     "name": "stdout",
     "output_type": "stream",
     "text": [
      "\n",
      "Metrics: {'train_loss': 0.01566969778275851, 'test_loss': 0.8281367627473978, 'bleu': 14.8704, 'gen_len': 14.2121}\n",
      "\n",
      "=============================\n",
      "\n"
     ]
    },
    {
     "name": "stderr",
     "output_type": "stream",
     "text": [
      " 42%|████▏     | 33/78 [45:08<59:36, 79.48s/it]  "
     ]
    },
    {
     "name": "stdout",
     "output_type": "stream",
     "text": [
      "For epoch 39: \n",
      "{Learning rate: [0.0017635737173380388]}\n"
     ]
    },
    {
     "name": "stderr",
     "output_type": "stream",
     "text": [
      "Train batch number 99: 100%|██████████| 99/99 [00:52<00:00,  1.89batches/s]\n",
      "Test batch number 13: 100%|██████████| 13/13 [00:30<00:00,  2.38s/batches]\n"
     ]
    },
    {
     "name": "stdout",
     "output_type": "stream",
     "text": [
      "\n",
      "Metrics: {'train_loss': 0.015909974717281082, 'test_loss': 0.8341570152686193, 'bleu': 15.6619, 'gen_len': 14.4192}\n",
      "\n",
      "=============================\n",
      "\n"
     ]
    },
    {
     "name": "stderr",
     "output_type": "stream",
     "text": [
      " 44%|████▎     | 34/78 [46:41<1:01:10, 83.42s/it]"
     ]
    },
    {
     "name": "stdout",
     "output_type": "stream",
     "text": [
      "For epoch 40: \n",
      "{Learning rate: [0.0017613174588022493]}\n"
     ]
    },
    {
     "name": "stderr",
     "output_type": "stream",
     "text": [
      "Train batch number 99: 100%|██████████| 99/99 [00:58<00:00,  1.70batches/s]\n",
      "Test batch number 13: 100%|██████████| 13/13 [00:25<00:00,  1.93s/batches]\n"
     ]
    },
    {
     "name": "stdout",
     "output_type": "stream",
     "text": [
      "\n",
      "Metrics: {'train_loss': 0.016838129134754642, 'test_loss': 0.8282656669616699, 'bleu': 15.3052, 'gen_len': 14.1869}\n",
      "\n",
      "=============================\n",
      "\n"
     ]
    },
    {
     "name": "stderr",
     "output_type": "stream",
     "text": [
      " 45%|████▍     | 35/78 [48:11<1:01:06, 85.26s/it]"
     ]
    },
    {
     "name": "stdout",
     "output_type": "stream",
     "text": [
      "For epoch 41: \n",
      "{Learning rate: [0.0017590612002664598]}\n"
     ]
    },
    {
     "name": "stderr",
     "output_type": "stream",
     "text": [
      "Train batch number 99: 100%|██████████| 99/99 [00:58<00:00,  1.70batches/s]\n",
      "Test batch number 13: 100%|██████████| 13/13 [00:24<00:00,  1.91s/batches]\n"
     ]
    },
    {
     "name": "stdout",
     "output_type": "stream",
     "text": [
      "\n",
      "Metrics: {'train_loss': 0.015065395437895951, 'test_loss': 0.8373516729244819, 'bleu': 15.0766, 'gen_len': 14.3384}\n",
      "\n",
      "=============================\n",
      "\n"
     ]
    },
    {
     "name": "stderr",
     "output_type": "stream",
     "text": [
      " 46%|████▌     | 36/78 [49:39<1:00:20, 86.20s/it]"
     ]
    },
    {
     "name": "stdout",
     "output_type": "stream",
     "text": [
      "For epoch 42: \n",
      "{Learning rate: [0.0017568049417306703]}\n"
     ]
    },
    {
     "name": "stderr",
     "output_type": "stream",
     "text": [
      "Train batch number 99: 100%|██████████| 99/99 [00:56<00:00,  1.76batches/s]\n",
      "Test batch number 13: 100%|██████████| 13/13 [00:25<00:00,  1.97s/batches]\n"
     ]
    },
    {
     "name": "stdout",
     "output_type": "stream",
     "text": [
      "\n",
      "Metrics: {'train_loss': 0.014818755740469152, 'test_loss': 0.8388152007873242, 'bleu': 14.5886, 'gen_len': 13.7273}\n",
      "\n",
      "=============================\n",
      "\n"
     ]
    },
    {
     "name": "stderr",
     "output_type": "stream",
     "text": [
      " 47%|████▋     | 37/78 [51:06<59:05, 86.47s/it]  "
     ]
    },
    {
     "name": "stdout",
     "output_type": "stream",
     "text": [
      "For epoch 43: \n",
      "{Learning rate: [0.0017545486831948807]}\n"
     ]
    },
    {
     "name": "stderr",
     "output_type": "stream",
     "text": [
      "Train batch number 99: 100%|██████████| 99/99 [00:58<00:00,  1.70batches/s]\n",
      "Test batch number 13: 100%|██████████| 13/13 [00:26<00:00,  2.06s/batches]\n"
     ]
    },
    {
     "name": "stdout",
     "output_type": "stream",
     "text": [
      "\n",
      "Metrics: {'train_loss': 0.014304301725004357, 'test_loss': 0.8343976736068726, 'bleu': 14.4997, 'gen_len': 14.2727}\n",
      "\n",
      "=============================\n",
      "\n"
     ]
    },
    {
     "name": "stderr",
     "output_type": "stream",
     "text": [
      " 49%|████▊     | 38/78 [52:37<58:28, 87.70s/it]"
     ]
    },
    {
     "name": "stdout",
     "output_type": "stream",
     "text": [
      "For epoch 44: \n",
      "{Learning rate: [0.0017522924246590912]}\n"
     ]
    },
    {
     "name": "stderr",
     "output_type": "stream",
     "text": [
      "Train batch number 99: 100%|██████████| 99/99 [01:00<00:00,  1.64batches/s]\n",
      "Test batch number 13: 100%|██████████| 13/13 [00:29<00:00,  2.26s/batches]\n"
     ]
    },
    {
     "name": "stdout",
     "output_type": "stream",
     "text": [
      "\n",
      "Metrics: {'train_loss': 0.013843194050055862, 'test_loss': 0.8267406110580151, 'bleu': 13.8185, 'gen_len': 14.3131}\n",
      "\n",
      "=============================\n",
      "\n"
     ]
    },
    {
     "name": "stderr",
     "output_type": "stream",
     "text": [
      " 50%|█████     | 39/78 [54:12<58:25, 89.87s/it]"
     ]
    },
    {
     "name": "stdout",
     "output_type": "stream",
     "text": [
      "For epoch 45: \n",
      "{Learning rate: [0.0017500361661233017]}\n"
     ]
    },
    {
     "name": "stderr",
     "output_type": "stream",
     "text": [
      "Train batch number 99: 100%|██████████| 99/99 [00:54<00:00,  1.83batches/s]\n",
      "Test batch number 13: 100%|██████████| 13/13 [00:30<00:00,  2.31s/batches]\n"
     ]
    },
    {
     "name": "stdout",
     "output_type": "stream",
     "text": [
      "\n",
      "Metrics: {'train_loss': 0.013420028814274555, 'test_loss': 0.8485414867217724, 'bleu': 15.2629, 'gen_len': 14.4394}\n",
      "\n",
      "=============================\n",
      "\n"
     ]
    },
    {
     "name": "stderr",
     "output_type": "stream",
     "text": [
      " 51%|█████▏    | 40/78 [55:41<56:51, 89.79s/it]"
     ]
    },
    {
     "name": "stdout",
     "output_type": "stream",
     "text": [
      "For epoch 46: \n",
      "{Learning rate: [0.0017477799075875122]}\n"
     ]
    },
    {
     "name": "stderr",
     "output_type": "stream",
     "text": [
      "Train batch number 99: 100%|██████████| 99/99 [01:00<00:00,  1.65batches/s]\n",
      "Test batch number 13: 100%|██████████| 13/13 [00:26<00:00,  2.00s/batches]\n"
     ]
    },
    {
     "name": "stdout",
     "output_type": "stream",
     "text": [
      "\n",
      "Metrics: {'train_loss': 0.013660077259621838, 'test_loss': 0.8159413979603694, 'bleu': 15.1241, 'gen_len': 13.8586}\n",
      "\n",
      "=============================\n",
      "\n"
     ]
    },
    {
     "name": "stderr",
     "output_type": "stream",
     "text": [
      " 53%|█████▎    | 41/78 [57:13<55:43, 90.37s/it]"
     ]
    },
    {
     "name": "stdout",
     "output_type": "stream",
     "text": [
      "For epoch 47: \n",
      "{Learning rate: [0.0017455236490517227]}\n"
     ]
    },
    {
     "name": "stderr",
     "output_type": "stream",
     "text": [
      "Train batch number 99: 100%|██████████| 99/99 [00:59<00:00,  1.66batches/s]\n",
      "Test batch number 13: 100%|██████████| 13/13 [00:28<00:00,  2.20s/batches]\n"
     ]
    },
    {
     "name": "stdout",
     "output_type": "stream",
     "text": [
      "\n",
      "Metrics: {'train_loss': 0.014292508469555865, 'test_loss': 0.8349724182715783, 'bleu': 15.1131, 'gen_len': 13.8939}\n",
      "\n",
      "=============================\n",
      "\n"
     ]
    },
    {
     "name": "stderr",
     "output_type": "stream",
     "text": [
      " 54%|█████▍    | 42/78 [58:47<54:50, 91.41s/it]"
     ]
    },
    {
     "name": "stdout",
     "output_type": "stream",
     "text": [
      "For epoch 48: \n",
      "{Learning rate: [0.001743267390515933]}\n"
     ]
    },
    {
     "name": "stderr",
     "output_type": "stream",
     "text": [
      "Train batch number 99: 100%|██████████| 99/99 [00:55<00:00,  1.79batches/s]\n",
      "Test batch number 13: 100%|██████████| 13/13 [00:23<00:00,  1.84s/batches]\n"
     ]
    },
    {
     "name": "stdout",
     "output_type": "stream",
     "text": [
      "\n",
      "Metrics: {'train_loss': 0.012693062255328352, 'test_loss': 0.8425563550912417, 'bleu': 14.6218, 'gen_len': 13.9545}\n",
      "\n",
      "=============================\n",
      "\n"
     ]
    },
    {
     "name": "stderr",
     "output_type": "stream",
     "text": [
      " 55%|█████▌    | 43/78 [1:00:12<52:11, 89.47s/it]"
     ]
    },
    {
     "name": "stdout",
     "output_type": "stream",
     "text": [
      "For epoch 49: \n",
      "{Learning rate: [0.0017410111319801434]}\n"
     ]
    },
    {
     "name": "stderr",
     "output_type": "stream",
     "text": [
      "Train batch number 99: 100%|██████████| 99/99 [00:53<00:00,  1.84batches/s]\n",
      "Test batch number 13: 100%|██████████| 13/13 [00:23<00:00,  1.77s/batches]\n"
     ]
    },
    {
     "name": "stdout",
     "output_type": "stream",
     "text": [
      "\n",
      "Metrics: {'train_loss': 0.012281251854893534, 'test_loss': 0.8391027175463163, 'bleu': 15.172, 'gen_len': 13.9343}\n",
      "\n",
      "=============================\n",
      "\n"
     ]
    },
    {
     "name": "stderr",
     "output_type": "stream",
     "text": [
      " 56%|█████▋    | 44/78 [1:01:34<49:29, 87.34s/it]"
     ]
    },
    {
     "name": "stdout",
     "output_type": "stream",
     "text": [
      "For epoch 50: \n",
      "{Learning rate: [0.0017387548734443539]}\n"
     ]
    },
    {
     "name": "stderr",
     "output_type": "stream",
     "text": [
      "Train batch number 99: 100%|██████████| 99/99 [00:53<00:00,  1.84batches/s]\n",
      "Test batch number 13: 100%|██████████| 13/13 [00:22<00:00,  1.73s/batches]\n"
     ]
    },
    {
     "name": "stdout",
     "output_type": "stream",
     "text": [
      "\n",
      "Metrics: {'train_loss': 0.010308480449961592, 'test_loss': 0.8383119908662943, 'bleu': 15.0561, 'gen_len': 13.5505}\n",
      "\n",
      "=============================\n",
      "\n"
     ]
    },
    {
     "name": "stderr",
     "output_type": "stream",
     "text": [
      " 58%|█████▊    | 45/78 [1:02:56<47:07, 85.69s/it]"
     ]
    },
    {
     "name": "stdout",
     "output_type": "stream",
     "text": [
      "For epoch 51: \n",
      "{Learning rate: [0.0017364986149085646]}\n"
     ]
    },
    {
     "name": "stderr",
     "output_type": "stream",
     "text": [
      "Train batch number 99: 100%|██████████| 99/99 [00:54<00:00,  1.83batches/s]\n",
      "Test batch number 13: 100%|██████████| 13/13 [00:24<00:00,  1.86s/batches]\n"
     ]
    },
    {
     "name": "stdout",
     "output_type": "stream",
     "text": [
      "\n",
      "Metrics: {'train_loss': 0.012144488167262288, 'test_loss': 0.8392501679750589, 'bleu': 15.4012, 'gen_len': 13.9545}\n",
      "\n",
      "=============================\n",
      "\n"
     ]
    },
    {
     "name": "stderr",
     "output_type": "stream",
     "text": [
      " 59%|█████▉    | 46/78 [1:04:19<45:20, 85.02s/it]"
     ]
    },
    {
     "name": "stdout",
     "output_type": "stream",
     "text": [
      "For epoch 52: \n",
      "{Learning rate: [0.001734242356372775]}\n"
     ]
    },
    {
     "name": "stderr",
     "output_type": "stream",
     "text": [
      "Train batch number 99: 100%|██████████| 99/99 [00:54<00:00,  1.83batches/s]\n",
      "Test batch number 13: 100%|██████████| 13/13 [00:22<00:00,  1.73s/batches]\n"
     ]
    },
    {
     "name": "stdout",
     "output_type": "stream",
     "text": [
      "\n",
      "Metrics: {'train_loss': 0.012104741038961543, 'test_loss': 0.845251704637821, 'bleu': 15.5722, 'gen_len': 14.0}\n",
      "\n",
      "=============================\n",
      "\n"
     ]
    },
    {
     "name": "stderr",
     "output_type": "stream",
     "text": [
      " 60%|██████    | 47/78 [1:05:41<43:28, 84.13s/it]"
     ]
    },
    {
     "name": "stdout",
     "output_type": "stream",
     "text": [
      "For epoch 53: \n",
      "{Learning rate: [0.0017319860978369855]}\n"
     ]
    },
    {
     "name": "stderr",
     "output_type": "stream",
     "text": [
      "Train batch number 99: 100%|██████████| 99/99 [00:52<00:00,  1.87batches/s]\n",
      "Test batch number 13: 100%|██████████| 13/13 [00:21<00:00,  1.67s/batches]\n"
     ]
    },
    {
     "name": "stdout",
     "output_type": "stream",
     "text": [
      "\n",
      "Metrics: {'train_loss': 0.010932944011827461, 'test_loss': 0.8425384828677545, 'bleu': 14.9961, 'gen_len': 14.202}\n",
      "\n",
      "=============================\n",
      "\n"
     ]
    },
    {
     "name": "stderr",
     "output_type": "stream",
     "text": [
      " 62%|██████▏   | 48/78 [1:07:01<41:25, 82.85s/it]"
     ]
    },
    {
     "name": "stdout",
     "output_type": "stream",
     "text": [
      "For epoch 54: \n",
      "{Learning rate: [0.0017297298393011958]}\n"
     ]
    },
    {
     "name": "stderr",
     "output_type": "stream",
     "text": [
      "Train batch number 99: 100%|██████████| 99/99 [00:52<00:00,  1.89batches/s]\n",
      "Test batch number 13: 100%|██████████| 13/13 [00:22<00:00,  1.75s/batches]\n"
     ]
    },
    {
     "name": "stdout",
     "output_type": "stream",
     "text": [
      "\n",
      "Metrics: {'train_loss': 0.011006524767538514, 'test_loss': 0.8452776326582983, 'bleu': 14.6759, 'gen_len': 13.9091}\n",
      "\n",
      "=============================\n",
      "\n"
     ]
    },
    {
     "name": "stderr",
     "output_type": "stream",
     "text": [
      " 63%|██████▎   | 49/78 [1:08:21<39:39, 82.05s/it]"
     ]
    },
    {
     "name": "stdout",
     "output_type": "stream",
     "text": [
      "For epoch 55: \n",
      "{Learning rate: [0.0017274735807654062]}\n"
     ]
    },
    {
     "name": "stderr",
     "output_type": "stream",
     "text": [
      "Train batch number 99: 100%|██████████| 99/99 [00:52<00:00,  1.89batches/s]\n",
      "Test batch number 13: 100%|██████████| 13/13 [00:26<00:00,  2.04s/batches]\n"
     ]
    },
    {
     "name": "stdout",
     "output_type": "stream",
     "text": [
      "\n",
      "Metrics: {'train_loss': 0.0104832900100096, 'test_loss': 0.8466387115992032, 'bleu': 15.1377, 'gen_len': 15.0556}\n",
      "\n",
      "=============================\n",
      "\n"
     ]
    },
    {
     "name": "stderr",
     "output_type": "stream",
     "text": [
      " 64%|██████▍   | 50/78 [1:09:46<38:35, 82.71s/it]"
     ]
    },
    {
     "name": "stdout",
     "output_type": "stream",
     "text": [
      "For epoch 56: \n",
      "{Learning rate: [0.0017252173222296167]}\n"
     ]
    },
    {
     "name": "stderr",
     "output_type": "stream",
     "text": [
      "Train batch number 99: 100%|██████████| 99/99 [00:51<00:00,  1.91batches/s]\n",
      "Test batch number 13: 100%|██████████| 13/13 [00:21<00:00,  1.63s/batches]\n"
     ]
    },
    {
     "name": "stdout",
     "output_type": "stream",
     "text": [
      "\n",
      "Metrics: {'train_loss': 0.010508764083638336, 'test_loss': 0.8505994196121509, 'bleu': 14.5876, 'gen_len': 13.7071}\n",
      "\n",
      "=============================\n",
      "\n"
     ]
    },
    {
     "name": "stderr",
     "output_type": "stream",
     "text": [
      " 65%|██████▌   | 51/78 [1:11:04<36:35, 81.32s/it]"
     ]
    },
    {
     "name": "stdout",
     "output_type": "stream",
     "text": [
      "For epoch 57: \n",
      "{Learning rate: [0.0017229610636938272]}\n"
     ]
    },
    {
     "name": "stderr",
     "output_type": "stream",
     "text": [
      "Train batch number 99: 100%|██████████| 99/99 [00:52<00:00,  1.90batches/s]\n",
      "Test batch number 13: 100%|██████████| 13/13 [00:22<00:00,  1.77s/batches]\n"
     ]
    },
    {
     "name": "stdout",
     "output_type": "stream",
     "text": [
      "\n",
      "Metrics: {'train_loss': 0.010254528312332402, 'test_loss': 0.840896915930968, 'bleu': 14.6528, 'gen_len': 13.8535}\n",
      "\n",
      "=============================\n",
      "\n"
     ]
    },
    {
     "name": "stderr",
     "output_type": "stream",
     "text": [
      " 67%|██████▋   | 52/78 [1:12:24<35:04, 80.96s/it]"
     ]
    },
    {
     "name": "stdout",
     "output_type": "stream",
     "text": [
      "For epoch 58: \n",
      "{Learning rate: [0.0017207048051580377]}\n"
     ]
    },
    {
     "name": "stderr",
     "output_type": "stream",
     "text": [
      "Train batch number 99: 100%|██████████| 99/99 [00:51<00:00,  1.91batches/s]\n",
      "Test batch number 13: 100%|██████████| 13/13 [00:21<00:00,  1.67s/batches]\n"
     ]
    },
    {
     "name": "stdout",
     "output_type": "stream",
     "text": [
      "\n",
      "Metrics: {'train_loss': 0.010175765419115473, 'test_loss': 0.8498277985132657, 'bleu': 14.4384, 'gen_len': 14.1667}\n",
      "\n",
      "=============================\n",
      "\n"
     ]
    },
    {
     "name": "stderr",
     "output_type": "stream",
     "text": [
      " 68%|██████▊   | 53/78 [1:13:43<33:27, 80.28s/it]"
     ]
    },
    {
     "name": "stdout",
     "output_type": "stream",
     "text": [
      "For epoch 59: \n",
      "{Learning rate: [0.0017184485466222481]}\n"
     ]
    },
    {
     "name": "stderr",
     "output_type": "stream",
     "text": [
      "Train batch number 99: 100%|██████████| 99/99 [00:52<00:00,  1.90batches/s]\n",
      "Test batch number 13: 100%|██████████| 13/13 [00:25<00:00,  1.94s/batches]\n"
     ]
    },
    {
     "name": "stdout",
     "output_type": "stream",
     "text": [
      "\n",
      "Metrics: {'train_loss': 0.009779555462018558, 'test_loss': 0.8471911022296319, 'bleu': 15.4638, 'gen_len': 14.7222}\n",
      "\n",
      "=============================\n",
      "\n"
     ]
    },
    {
     "name": "stderr",
     "output_type": "stream",
     "text": [
      " 69%|██████▉   | 54/78 [1:15:05<32:21, 80.89s/it]"
     ]
    },
    {
     "name": "stdout",
     "output_type": "stream",
     "text": [
      "For epoch 60: \n",
      "{Learning rate: [0.0017161922880864584]}\n"
     ]
    },
    {
     "name": "stderr",
     "output_type": "stream",
     "text": [
      "Train batch number 99: 100%|██████████| 99/99 [00:52<00:00,  1.90batches/s]\n",
      "Test batch number 13: 100%|██████████| 13/13 [00:23<00:00,  1.82s/batches]\n"
     ]
    },
    {
     "name": "stdout",
     "output_type": "stream",
     "text": [
      "\n",
      "Metrics: {'train_loss': 0.009840757987048063, 'test_loss': 0.8429930531061612, 'bleu': 15.4124, 'gen_len': 14.0051}\n",
      "\n",
      "=============================\n",
      "\n"
     ]
    },
    {
     "name": "stderr",
     "output_type": "stream",
     "text": [
      " 71%|███████   | 55/78 [1:16:26<30:59, 80.85s/it]"
     ]
    },
    {
     "name": "stdout",
     "output_type": "stream",
     "text": [
      "For epoch 61: \n",
      "{Learning rate: [0.001713936029550669]}\n"
     ]
    },
    {
     "name": "stderr",
     "output_type": "stream",
     "text": [
      "Train batch number 99: 100%|██████████| 99/99 [00:51<00:00,  1.90batches/s]\n",
      "Test batch number 13: 100%|██████████| 13/13 [00:22<00:00,  1.70s/batches]\n"
     ]
    },
    {
     "name": "stdout",
     "output_type": "stream",
     "text": [
      "\n",
      "Metrics: {'train_loss': 0.009048110319800073, 'test_loss': 0.844480805672132, 'bleu': 14.6154, 'gen_len': 14.0859}\n",
      "\n",
      "=============================\n",
      "\n"
     ]
    },
    {
     "name": "stderr",
     "output_type": "stream",
     "text": [
      " 72%|███████▏  | 56/78 [1:17:45<29:26, 80.27s/it]"
     ]
    },
    {
     "name": "stdout",
     "output_type": "stream",
     "text": [
      "For epoch 62: \n",
      "{Learning rate: [0.0017116797710148796]}\n"
     ]
    },
    {
     "name": "stderr",
     "output_type": "stream",
     "text": [
      "Train batch number 99: 100%|██████████| 99/99 [00:52<00:00,  1.88batches/s]\n",
      "Test batch number 13: 100%|██████████| 13/13 [00:22<00:00,  1.70s/batches]\n"
     ]
    },
    {
     "name": "stdout",
     "output_type": "stream",
     "text": [
      "\n",
      "Metrics: {'train_loss': 0.008994387375717663, 'test_loss': 0.8418615804268763, 'bleu': 14.3659, 'gen_len': 14.1515}\n",
      "\n",
      "=============================\n",
      "\n"
     ]
    },
    {
     "name": "stderr",
     "output_type": "stream",
     "text": [
      " 73%|███████▎  | 57/78 [1:19:04<28:03, 80.14s/it]"
     ]
    },
    {
     "name": "stdout",
     "output_type": "stream",
     "text": [
      "For epoch 63: \n",
      "{Learning rate: [0.00170942351247909]}\n"
     ]
    },
    {
     "name": "stderr",
     "output_type": "stream",
     "text": [
      "Train batch number 99: 100%|██████████| 99/99 [00:52<00:00,  1.90batches/s]\n",
      "Test batch number 13: 100%|██████████| 13/13 [00:23<00:00,  1.79s/batches]\n"
     ]
    },
    {
     "name": "stdout",
     "output_type": "stream",
     "text": [
      "\n",
      "Metrics: {'train_loss': 0.008319438018864303, 'test_loss': 0.8426547165100391, 'bleu': 15.6302, 'gen_len': 14.3687}\n",
      "\n",
      "=============================\n",
      "\n"
     ]
    },
    {
     "name": "stderr",
     "output_type": "stream",
     "text": [
      " 74%|███████▍  | 58/78 [1:20:25<26:44, 80.23s/it]"
     ]
    },
    {
     "name": "stdout",
     "output_type": "stream",
     "text": [
      "For epoch 64: \n",
      "{Learning rate: [0.0017071672539433005]}\n"
     ]
    },
    {
     "name": "stderr",
     "output_type": "stream",
     "text": [
      "Train batch number 99: 100%|██████████| 99/99 [00:51<00:00,  1.91batches/s]\n",
      "Test batch number 13: 100%|██████████| 13/13 [00:22<00:00,  1.74s/batches]\n"
     ]
    },
    {
     "name": "stdout",
     "output_type": "stream",
     "text": [
      "\n",
      "Metrics: {'train_loss': 0.008139884372175945, 'test_loss': 0.855581366098844, 'bleu': 14.7291, 'gen_len': 13.9848}\n",
      "\n",
      "=============================\n",
      "\n"
     ]
    },
    {
     "name": "stderr",
     "output_type": "stream",
     "text": [
      " 76%|███████▌  | 59/78 [1:21:44<25:20, 80.02s/it]"
     ]
    },
    {
     "name": "stdout",
     "output_type": "stream",
     "text": [
      "For epoch 65: \n",
      "{Learning rate: [0.001704910995407511]}\n"
     ]
    },
    {
     "name": "stderr",
     "output_type": "stream",
     "text": [
      "Train batch number 99: 100%|██████████| 99/99 [00:51<00:00,  1.91batches/s]\n",
      "Test batch number 13: 100%|██████████| 13/13 [00:23<00:00,  1.82s/batches]\n"
     ]
    },
    {
     "name": "stdout",
     "output_type": "stream",
     "text": [
      "\n",
      "Metrics: {'train_loss': 0.008662584000220052, 'test_loss': 0.846603682407966, 'bleu': 15.993, 'gen_len': 14.8232}\n",
      "\n",
      "=============================\n",
      "\n"
     ]
    },
    {
     "name": "stderr",
     "output_type": "stream",
     "text": [
      " 77%|███████▋  | 60/78 [1:23:09<24:24, 81.37s/it]"
     ]
    },
    {
     "name": "stdout",
     "output_type": "stream",
     "text": [
      "For epoch 66: \n",
      "{Learning rate: [0.0017026547368717213]}\n"
     ]
    },
    {
     "name": "stderr",
     "output_type": "stream",
     "text": [
      "Train batch number 99: 100%|██████████| 99/99 [00:51<00:00,  1.91batches/s]\n",
      "Test batch number 13: 100%|██████████| 13/13 [00:19<00:00,  1.48s/batches]\n"
     ]
    },
    {
     "name": "stdout",
     "output_type": "stream",
     "text": [
      "\n",
      "Metrics: {'train_loss': 0.008982719919371485, 'test_loss': 0.8554924566012162, 'bleu': 15.6811, 'gen_len': 13.1364}\n",
      "\n",
      "=============================\n",
      "\n"
     ]
    },
    {
     "name": "stderr",
     "output_type": "stream",
     "text": [
      " 78%|███████▊  | 61/78 [1:24:25<22:37, 79.84s/it]"
     ]
    },
    {
     "name": "stdout",
     "output_type": "stream",
     "text": [
      "For epoch 67: \n",
      "{Learning rate: [0.0017003984783359317]}\n"
     ]
    },
    {
     "name": "stderr",
     "output_type": "stream",
     "text": [
      "Train batch number 99: 100%|██████████| 99/99 [00:52<00:00,  1.89batches/s]\n",
      "Test batch number 13: 100%|██████████| 13/13 [00:22<00:00,  1.73s/batches]\n"
     ]
    },
    {
     "name": "stdout",
     "output_type": "stream",
     "text": [
      "\n",
      "Metrics: {'train_loss': 0.007427940731915185, 'test_loss': 0.8441859988065866, 'bleu': 15.0538, 'gen_len': 14.1364}\n",
      "\n",
      "=============================\n",
      "\n"
     ]
    },
    {
     "name": "stderr",
     "output_type": "stream",
     "text": [
      " 79%|███████▉  | 62/78 [1:25:45<21:18, 79.89s/it]"
     ]
    },
    {
     "name": "stdout",
     "output_type": "stream",
     "text": [
      "For epoch 68: \n",
      "{Learning rate: [0.0016981422198001422]}\n"
     ]
    },
    {
     "name": "stderr",
     "output_type": "stream",
     "text": [
      "Train batch number 99: 100%|██████████| 99/99 [00:52<00:00,  1.90batches/s]\n",
      "Test batch number 13: 100%|██████████| 13/13 [00:22<00:00,  1.74s/batches]\n"
     ]
    },
    {
     "name": "stdout",
     "output_type": "stream",
     "text": [
      "\n",
      "Metrics: {'train_loss': 0.00873786596713042, 'test_loss': 0.8327099016079536, 'bleu': 14.3616, 'gen_len': 13.6667}\n",
      "\n",
      "=============================\n",
      "\n"
     ]
    },
    {
     "name": "stderr",
     "output_type": "stream",
     "text": [
      " 81%|████████  | 63/78 [1:27:05<19:57, 79.81s/it]"
     ]
    },
    {
     "name": "stdout",
     "output_type": "stream",
     "text": [
      "For epoch 69: \n",
      "{Learning rate: [0.0016958859612643527]}\n"
     ]
    },
    {
     "name": "stderr",
     "output_type": "stream",
     "text": [
      "Train batch number 99: 100%|██████████| 99/99 [00:52<00:00,  1.90batches/s]\n",
      "Test batch number 13: 100%|██████████| 13/13 [00:22<00:00,  1.70s/batches]\n"
     ]
    },
    {
     "name": "stdout",
     "output_type": "stream",
     "text": [
      "\n",
      "Metrics: {'train_loss': 0.008298571668377127, 'test_loss': 0.8521949419608483, 'bleu': 14.6563, 'gen_len': 13.6768}\n",
      "\n",
      "=============================\n",
      "\n"
     ]
    },
    {
     "name": "stderr",
     "output_type": "stream",
     "text": [
      " 82%|████████▏ | 64/78 [1:28:24<18:34, 79.62s/it]"
     ]
    },
    {
     "name": "stdout",
     "output_type": "stream",
     "text": [
      "For epoch 70: \n",
      "{Learning rate: [0.0016936297027285634]}\n"
     ]
    },
    {
     "name": "stderr",
     "output_type": "stream",
     "text": [
      "Train batch number 99: 100%|██████████| 99/99 [00:52<00:00,  1.89batches/s]\n",
      "Test batch number 13: 100%|██████████| 13/13 [00:20<00:00,  1.60s/batches]\n"
     ]
    },
    {
     "name": "stdout",
     "output_type": "stream",
     "text": [
      "\n",
      "Metrics: {'train_loss': 0.0081322063666044, 'test_loss': 0.8509575128555298, 'bleu': 14.2377, 'gen_len': 13.6515}\n",
      "\n",
      "=============================\n",
      "\n"
     ]
    },
    {
     "name": "stderr",
     "output_type": "stream",
     "text": [
      " 83%|████████▎ | 65/78 [1:29:43<17:11, 79.33s/it]"
     ]
    },
    {
     "name": "stdout",
     "output_type": "stream",
     "text": [
      "For epoch 71: \n",
      "{Learning rate: [0.0016913734441927738]}\n"
     ]
    },
    {
     "name": "stderr",
     "output_type": "stream",
     "text": [
      "Train batch number 99: 100%|██████████| 99/99 [00:52<00:00,  1.89batches/s]\n",
      "Test batch number 13: 100%|██████████| 13/13 [00:23<00:00,  1.80s/batches]\n"
     ]
    },
    {
     "name": "stdout",
     "output_type": "stream",
     "text": [
      "\n",
      "Metrics: {'train_loss': 0.00758731067698035, 'test_loss': 0.8468100611980145, 'bleu': 14.7321, 'gen_len': 14.101}\n",
      "\n",
      "=============================\n",
      "\n"
     ]
    },
    {
     "name": "stderr",
     "output_type": "stream",
     "text": [
      " 85%|████████▍ | 66/78 [1:31:03<15:57, 79.76s/it]"
     ]
    },
    {
     "name": "stdout",
     "output_type": "stream",
     "text": [
      "For epoch 72: \n",
      "{Learning rate: [0.0016891171856569843]}\n"
     ]
    },
    {
     "name": "stderr",
     "output_type": "stream",
     "text": [
      "Train batch number 99: 100%|██████████| 99/99 [00:52<00:00,  1.89batches/s]\n",
      "Test batch number 13: 100%|██████████| 13/13 [00:22<00:00,  1.71s/batches]\n"
     ]
    },
    {
     "name": "stdout",
     "output_type": "stream",
     "text": [
      "\n",
      "Metrics: {'train_loss': 0.007474759958138821, 'test_loss': 0.8542977158839886, 'bleu': 15.0583, 'gen_len': 13.9899}\n",
      "\n",
      "=============================\n",
      "\n"
     ]
    },
    {
     "name": "stderr",
     "output_type": "stream",
     "text": [
      " 86%|████████▌ | 67/78 [1:32:23<14:37, 79.75s/it]"
     ]
    },
    {
     "name": "stdout",
     "output_type": "stream",
     "text": [
      "For epoch 73: \n",
      "{Learning rate: [0.0016868609271211946]}\n"
     ]
    },
    {
     "name": "stderr",
     "output_type": "stream",
     "text": [
      "Train batch number 99: 100%|██████████| 99/99 [00:52<00:00,  1.89batches/s]\n",
      "Test batch number 13: 100%|██████████| 13/13 [00:22<00:00,  1.71s/batches]\n"
     ]
    },
    {
     "name": "stdout",
     "output_type": "stream",
     "text": [
      "\n",
      "Metrics: {'train_loss': 0.007632567636631053, 'test_loss': 0.870747263614948, 'bleu': 16.1156, 'gen_len': 13.899}\n",
      "\n",
      "=============================\n",
      "\n"
     ]
    },
    {
     "name": "stderr",
     "output_type": "stream",
     "text": [
      " 87%|████████▋ | 68/78 [1:33:46<13:28, 80.80s/it]"
     ]
    },
    {
     "name": "stdout",
     "output_type": "stream",
     "text": [
      "For epoch 74: \n",
      "{Learning rate: [0.001684604668585405]}\n"
     ]
    },
    {
     "name": "stderr",
     "output_type": "stream",
     "text": [
      "Train batch number 99: 100%|██████████| 99/99 [00:51<00:00,  1.92batches/s]\n",
      "Test batch number 13: 100%|██████████| 13/13 [00:20<00:00,  1.59s/batches]\n"
     ]
    },
    {
     "name": "stdout",
     "output_type": "stream",
     "text": [
      "\n",
      "Metrics: {'train_loss': 0.006723415525159752, 'test_loss': 0.8633826283308176, 'bleu': 14.7602, 'gen_len': 13.7222}\n",
      "\n",
      "=============================\n",
      "\n"
     ]
    },
    {
     "name": "stderr",
     "output_type": "stream",
     "text": [
      " 88%|████████▊ | 69/78 [1:35:04<11:58, 79.79s/it]"
     ]
    },
    {
     "name": "stdout",
     "output_type": "stream",
     "text": [
      "For epoch 75: \n",
      "{Learning rate: [0.0016823484100496155]}\n"
     ]
    },
    {
     "name": "stderr",
     "output_type": "stream",
     "text": [
      "Train batch number 99: 100%|██████████| 99/99 [00:52<00:00,  1.89batches/s]\n",
      "Test batch number 13: 100%|██████████| 13/13 [00:20<00:00,  1.60s/batches]\n"
     ]
    },
    {
     "name": "stdout",
     "output_type": "stream",
     "text": [
      "\n",
      "Metrics: {'train_loss': 0.00721076022977047, 'test_loss': 0.8587638827470633, 'bleu': 15.2876, 'gen_len': 13.8232}\n",
      "\n",
      "=============================\n",
      "\n"
     ]
    },
    {
     "name": "stderr",
     "output_type": "stream",
     "text": [
      " 90%|████████▉ | 70/78 [1:36:22<10:34, 79.32s/it]"
     ]
    },
    {
     "name": "stdout",
     "output_type": "stream",
     "text": [
      "For epoch 76: \n",
      "{Learning rate: [0.001680092151513826]}\n"
     ]
    },
    {
     "name": "stderr",
     "output_type": "stream",
     "text": [
      "Train batch number 99: 100%|██████████| 99/99 [00:52<00:00,  1.90batches/s]\n",
      "Test batch number 13: 100%|██████████| 13/13 [00:22<00:00,  1.75s/batches]\n"
     ]
    },
    {
     "name": "stdout",
     "output_type": "stream",
     "text": [
      "\n",
      "Metrics: {'train_loss': 0.006872945521591288, 'test_loss': 0.8510111043086419, 'bleu': 15.4886, 'gen_len': 13.8636}\n",
      "\n",
      "=============================\n",
      "\n"
     ]
    },
    {
     "name": "stderr",
     "output_type": "stream",
     "text": [
      " 91%|█████████ | 71/78 [1:37:42<09:16, 79.54s/it]"
     ]
    },
    {
     "name": "stdout",
     "output_type": "stream",
     "text": [
      "For epoch 77: \n",
      "{Learning rate: [0.0016778358929780365]}\n"
     ]
    },
    {
     "name": "stderr",
     "output_type": "stream",
     "text": [
      "Train batch number 99: 100%|██████████| 99/99 [00:53<00:00,  1.86batches/s]\n",
      "Test batch number 13: 100%|██████████| 13/13 [00:23<00:00,  1.81s/batches]\n"
     ]
    },
    {
     "name": "stdout",
     "output_type": "stream",
     "text": [
      "\n",
      "Metrics: {'train_loss': 0.006332146026184688, 'test_loss': 0.8468731320821322, 'bleu': 15.1898, 'gen_len': 14.0051}\n",
      "\n",
      "=============================\n",
      "\n"
     ]
    },
    {
     "name": "stderr",
     "output_type": "stream",
     "text": [
      " 92%|█████████▏| 72/78 [1:39:04<08:01, 80.21s/it]"
     ]
    },
    {
     "name": "stdout",
     "output_type": "stream",
     "text": [
      "For epoch 78: \n",
      "{Learning rate: [0.001675579634442247]}\n"
     ]
    },
    {
     "name": "stderr",
     "output_type": "stream",
     "text": [
      "Train batch number 99: 100%|██████████| 99/99 [00:52<00:00,  1.89batches/s]\n",
      "Test batch number 13: 100%|██████████| 13/13 [00:21<00:00,  1.62s/batches]\n"
     ]
    },
    {
     "name": "stdout",
     "output_type": "stream",
     "text": [
      "\n",
      "Metrics: {'train_loss': 0.0067393860604491726, 'test_loss': 0.869815686574349, 'bleu': 13.7476, 'gen_len': 13.4495}\n",
      "\n",
      "=============================\n",
      "\n"
     ]
    },
    {
     "name": "stderr",
     "output_type": "stream",
     "text": [
      " 94%|█████████▎| 73/78 [1:40:22<06:38, 79.67s/it]"
     ]
    },
    {
     "name": "stdout",
     "output_type": "stream",
     "text": [
      "For epoch 79: \n",
      "{Learning rate: [0.0016733233759064574]}\n"
     ]
    },
    {
     "name": "stderr",
     "output_type": "stream",
     "text": [
      "Train batch number 99: 100%|██████████| 99/99 [00:52<00:00,  1.89batches/s]\n",
      "Test batch number 13: 100%|██████████| 13/13 [00:22<00:00,  1.72s/batches]\n"
     ]
    },
    {
     "name": "stdout",
     "output_type": "stream",
     "text": [
      "\n",
      "Metrics: {'train_loss': 0.00684085389895534, 'test_loss': 0.8716418192936823, 'bleu': 15.067, 'gen_len': 13.8586}\n",
      "\n",
      "=============================\n",
      "\n"
     ]
    },
    {
     "name": "stderr",
     "output_type": "stream",
     "text": [
      " 95%|█████████▍| 74/78 [1:41:42<05:18, 79.75s/it]"
     ]
    },
    {
     "name": "stdout",
     "output_type": "stream",
     "text": [
      "For epoch 80: \n",
      "{Learning rate: [0.001671067117370668]}\n"
     ]
    },
    {
     "name": "stderr",
     "output_type": "stream",
     "text": [
      "Train batch number 99: 100%|██████████| 99/99 [00:52<00:00,  1.89batches/s]\n",
      "Test batch number 13: 100%|██████████| 13/13 [00:21<00:00,  1.69s/batches]\n"
     ]
    },
    {
     "name": "stdout",
     "output_type": "stream",
     "text": [
      "\n",
      "Metrics: {'train_loss': 0.006651755134843177, 'test_loss': 0.867152771124473, 'bleu': 16.4581, 'gen_len': 14.1364}\n",
      "\n",
      "=============================\n",
      "\n"
     ]
    },
    {
     "name": "stderr",
     "output_type": "stream",
     "text": [
      " 96%|█████████▌| 75/78 [1:43:05<04:02, 80.79s/it]"
     ]
    },
    {
     "name": "stdout",
     "output_type": "stream",
     "text": [
      "For epoch 81: \n",
      "{Learning rate: [0.0016688108588348784]}\n"
     ]
    },
    {
     "name": "stderr",
     "output_type": "stream",
     "text": [
      "Train batch number 99: 100%|██████████| 99/99 [00:56<00:00,  1.74batches/s]\n",
      "Test batch number 13: 100%|██████████| 13/13 [00:27<00:00,  2.10s/batches]\n"
     ]
    },
    {
     "name": "stdout",
     "output_type": "stream",
     "text": [
      "\n",
      "Metrics: {'train_loss': 0.006673534826441395, 'test_loss': 0.8551699312833639, 'bleu': 15.7872, 'gen_len': 13.8737}\n",
      "\n",
      "=============================\n",
      "\n"
     ]
    },
    {
     "name": "stderr",
     "output_type": "stream",
     "text": [
      " 97%|█████████▋| 76/78 [1:44:35<02:46, 83.31s/it]"
     ]
    },
    {
     "name": "stdout",
     "output_type": "stream",
     "text": [
      "For epoch 82: \n",
      "{Learning rate: [0.0016665546002990889]}\n"
     ]
    },
    {
     "name": "stderr",
     "output_type": "stream",
     "text": [
      "Train batch number 99: 100%|██████████| 99/99 [00:57<00:00,  1.72batches/s]\n",
      "Test batch number 13: 100%|██████████| 13/13 [00:30<00:00,  2.36s/batches]\n"
     ]
    },
    {
     "name": "stdout",
     "output_type": "stream",
     "text": [
      "\n",
      "Metrics: {'train_loss': 0.007083095212683382, 'test_loss': 0.8602735698223114, 'bleu': 15.1943, 'gen_len': 14.1566}\n",
      "\n",
      "=============================\n",
      "\n"
     ]
    },
    {
     "name": "stderr",
     "output_type": "stream",
     "text": [
      " 99%|█████████▊| 77/78 [1:46:08<01:26, 86.43s/it]"
     ]
    },
    {
     "name": "stdout",
     "output_type": "stream",
     "text": [
      "For epoch 83: \n",
      "{Learning rate: [0.0016642983417632993]}\n"
     ]
    },
    {
     "name": "stderr",
     "output_type": "stream",
     "text": [
      "Train batch number 99: 100%|██████████| 99/99 [01:02<00:00,  1.59batches/s]\n",
      "Test batch number 13: 100%|██████████| 13/13 [00:28<00:00,  2.17s/batches]\n"
     ]
    },
    {
     "name": "stdout",
     "output_type": "stream",
     "text": [
      "\n",
      "Metrics: {'train_loss': 0.0071152547654234856, 'test_loss': 0.8638322834785168, 'bleu': 14.8383, 'gen_len': 13.6818}\n",
      "\n",
      "=============================\n",
      "\n"
     ]
    },
    {
     "name": "stderr",
     "output_type": "stream",
     "text": [
      "100%|██████████| 78/78 [1:47:45<00:00, 82.90s/it]\n"
     ]
    }
   ],
   "source": [
    "trainer.train(epochs = config['epochs'] - trainer.current_epoch, auto_save=True, metric_for_best_model='bleu', metric_objective='maximize', log_step=1,\n",
    "              saving_directory = config['new_model_dir'])"
   ]
  },
  {
   "attachments": {},
   "cell_type": "markdown",
   "metadata": {},
   "source": [
    "### --- Cosine"
   ]
  },
  {
   "cell_type": "code",
   "execution_count": null,
   "metadata": {},
   "outputs": [],
   "source": [
    "trainer.train(epochs = config['epochs'] - trainer.current_epoch, auto_save=True, metric_for_best_model='bleu', metric_objective='maximize', log_step=1,\n",
    "              saving_directory = config['new_model_dir'])"
   ]
  },
  {
   "attachments": {},
   "cell_type": "markdown",
   "metadata": {},
   "source": [
    "### ---"
   ]
  },
  {
   "cell_type": "code",
   "execution_count": null,
   "metadata": {},
   "outputs": [],
   "source": [
    "trainer.train(epochs = config['epochs'] - trainer.current_epoch, auto_save=True, metric_for_best_model='bleu', metric_objective='maximize', log_step=1,\n",
    "              saving_directory = config['new_model_dir'])"
   ]
  },
  {
   "attachments": {},
   "cell_type": "markdown",
   "metadata": {
    "id": "sQVOIX4lqGMg"
   },
   "source": [
    "### Predictions and Evaluation"
   ]
  },
  {
   "cell_type": "code",
   "execution_count": 13,
   "metadata": {},
   "outputs": [],
   "source": [
    "# initialize the transformation sequence\n",
    "end_mark_fn = partial(add_end_mark)\n",
    "fr_augmentation = TransformerSequences(remove_mark_space, delete_guillemet_space, add_mark_space, end_mark_fn)\n",
    "\n",
    "# let us get the test set\n",
    "test_dataset = SentenceDataset(f\"data/extractions/new_data/test_set.csv\",\n",
    "                                        corpus_1='wolof',\n",
    "                                        corpus_2='french',\n",
    "                                        tokenizer = tokenizer,\n",
    "                                        cp1_transformer = fr_augmentation,\n",
    "                                        cp2_transformer = fr_augmentation,\n",
    "                                        truncation = True, add_bos_token=True)"
   ]
  },
  {
   "attachments": {},
   "cell_type": "markdown",
   "metadata": {
    "id": "W_iGdw-LLAJz"
   },
   "source": [
    "Let us make the evaluation and print the predicted sentences."
   ]
  },
  {
   "cell_type": "code",
   "execution_count": 14,
   "metadata": {},
   "outputs": [
    {
     "name": "stderr",
     "output_type": "stream",
     "text": [
      "Evaluation batch number 13: 100%|██████████| 13/13 [01:16<00:00,  5.90s/batches]"
     ]
    },
    {
     "name": "stdout",
     "output_type": "stream",
     "text": [
      "predictions_: [[2, 0, 1402, 2014, 974, 1699, 5, 8, 2, 1, 1, 1, 1, 1, 1, 1, 1, 1, 1, 1, 1, 1, 1, 1, 1, 1, 1, 1, 1, 1, 1, 1, 1, 1, 1, 1, 1, 1, 1, 1, 1, 1, 1, 1, 1, 1, 1, 1, 1, 1, 1, 1, 1, 1, 1, 1, 1, 1, 1, 1, 1, 1], [2, 0, 3481, 501, 1072, 75, 134, 244, 365, 5, 8, 2, 1, 1, 1, 1, 1, 1, 1, 1, 1, 1, 1, 1, 1, 1, 1, 1, 1, 1, 1, 1, 1, 1, 1, 1, 1, 1, 1, 1, 1, 1, 1, 1, 1, 1, 1, 1, 1, 1, 1, 1, 1, 1, 1, 1, 1, 1, 1, 1, 1, 1], [2, 0, 3681, 1463, 147, 220, 5, 8, 2, 1, 1, 1, 1, 1, 1, 1, 1, 1, 1, 1, 1, 1, 1, 1, 1, 1, 1, 1, 1, 1, 1, 1, 1, 1, 1, 1, 1, 1, 1, 1, 1, 1, 1, 1, 1, 1, 1, 1, 1, 1, 1, 1, 1, 1, 1, 1, 1, 1, 1, 1, 1, 1], [2, 0, 3677, 382, 7, 52, 1250, 27, 63, 6, 2, 1, 1, 1, 1, 1, 1, 1, 1, 1, 1, 1, 1, 1, 1, 1, 1, 1, 1, 1, 1, 1, 1, 1, 1, 1, 1, 1, 1, 1, 1, 1, 1, 1, 1, 1, 1, 1, 1, 1, 1, 1, 1, 1, 1, 1, 1, 1, 1, 1, 1, 1], [2, 0, 3333, 13, 570, 869, 23, 2, 1, 1, 1, 1, 1, 1, 1, 1, 1, 1, 1, 1, 1, 1, 1, 1, 1, 1, 1, 1, 1, 1, 1, 1, 1, 1, 1, 1, 1, 1, 1, 1, 1, 1, 1, 1, 1, 1, 1, 1, 1, 1, 1, 1, 1, 1, 1, 1, 1, 1, 1, 1, 1, 1], [2, 0, 1402, 210, 2347, 9, 332, 26, 59, 27, 586, 682, 860, 2, 1, 1, 1, 1, 1, 1, 1, 1, 1, 1, 1, 1, 1, 1, 1, 1, 1, 1, 1, 1, 1, 1, 1, 1, 1, 1, 1, 1, 1, 1, 1, 1, 1, 1, 1, 1, 1, 1, 1, 1, 1, 1, 1, 1, 1, 1, 1, 1], [2, 0, 3670, 967, 180, 609, 23, 2, 1, 1, 1, 1, 1, 1, 1, 1, 1, 1, 1, 1, 1, 1, 1, 1, 1, 1, 1, 1, 1, 1, 1, 1, 1, 1, 1, 1, 1, 1, 1, 1, 1, 1, 1, 1, 1, 1, 1, 1, 1, 1, 1, 1, 1, 1, 1, 1, 1, 1, 1, 1, 1, 1], [2, 0, 3672, 2746, 960, 28, 27, 63, 6, 2, 1, 1, 1, 1, 1, 1, 1, 1, 1, 1, 1, 1, 1, 1, 1, 1, 1, 1, 1, 1, 1, 1, 1, 1, 1, 1, 1, 1, 1, 1, 1, 1, 1, 1, 1, 1, 1, 1, 1, 1, 1, 1, 1, 1, 1, 1, 1, 1, 1, 1, 1, 1], [2, 0, 2511, 152, 16, 363, 63, 6, 2, 1, 1, 1, 1, 1, 1, 1, 1, 1, 1, 1, 1, 1, 1, 1, 1, 1, 1, 1, 1, 1, 1, 1, 1, 1, 1, 1, 1, 1, 1, 1, 1, 1, 1, 1, 1, 1, 1, 1, 1, 1, 1, 1, 1, 1, 1, 1, 1, 1, 1, 1, 1, 1], [2, 0, 2511, 121, 110, 16, 5, 447, 200, 6, 2, 1, 1, 1, 1, 1, 1, 1, 1, 1, 1, 1, 1, 1, 1, 1, 1, 1, 1, 1, 1, 1, 1, 1, 1, 1, 1, 1, 1, 1, 1, 1, 1, 1, 1, 1, 1, 1, 1, 1, 1, 1, 1, 1, 1, 1, 1, 1, 1, 1, 1, 1], [2, 0, 3452, 38, 29, 418, 6, 2, 1, 1, 1, 1, 1, 1, 1, 1, 1, 1, 1, 1, 1, 1, 1, 1, 1, 1, 1, 1, 1, 1, 1, 1, 1, 1, 1, 1, 1, 1, 1, 1, 1, 1, 1, 1, 1, 1, 1, 1, 1, 1, 1, 1, 1, 1, 1, 1, 1, 1, 1, 1, 1, 1], [2, 0, 3384, 996, 9, 25, 52, 673, 301, 7, 47, 514, 7, 47, 1803, 6, 6, 23, 2, 1, 1, 1, 1, 1, 1, 1, 1, 1, 1, 1, 1, 1, 1, 1, 1, 1, 1, 1, 1, 1, 1, 1, 1, 1, 1, 1, 1, 1, 1, 1, 1, 1, 1, 1, 1, 1, 1, 1, 1, 1, 1, 1], [2, 0, 1402, 35, 110, 16, 22, 100, 6, 2, 1, 1, 1, 1, 1, 1, 1, 1, 1, 1, 1, 1, 1, 1, 1, 1, 1, 1, 1, 1, 1, 1, 1, 1, 1, 1, 1, 1, 1, 1, 1, 1, 1, 1, 1, 1, 1, 1, 1, 1, 1, 1, 1, 1, 1, 1, 1, 1, 1, 1, 1, 1], [2, 0, 3688, 13, 379, 642, 5, 8, 2, 1, 1, 1, 1, 1, 1, 1, 1, 1, 1, 1, 1, 1, 1, 1, 1, 1, 1, 1, 1, 1, 1, 1, 1, 1, 1, 1, 1, 1, 1, 1, 1, 1, 1, 1, 1, 1, 1, 1, 1, 1, 1, 1, 1, 1, 1, 1, 1, 1, 1, 1, 1, 1], [2, 0, 3689, 1550, 1403, 6, 2, 1, 1, 1, 1, 1, 1, 1, 1, 1, 1, 1, 1, 1, 1, 1, 1, 1, 1, 1, 1, 1, 1, 1, 1, 1, 1, 1, 1, 1, 1, 1, 1, 1, 1, 1, 1, 1, 1, 1, 1, 1, 1, 1, 1, 1, 1, 1, 1, 1, 1, 1, 1, 1, 1, 1], [2, 0, 3672, 829, 75, 134, 93, 85, 46, 31, 44, 192, 2782, 2347, 1972, 2360, 120, 1295, 782, 2031, 32, 152, 16, 5, 447, 49, 11, 5, 9, 1304, 12, 501, 2018, 5, 35, 156, 66, 31, 1536, 1064, 2184, 6, 167, 21, 205, 85, 9, 59, 1300, 5, 35, 224, 609, 108, 29, 1134, 1205, 721, 12, 1777, 6, 2], [2, 0, 1402, 13, 268, 300, 382, 5, 8, 2, 1, 1, 1, 1, 1, 1, 1, 1, 1, 1, 1, 1, 1, 1, 1, 1, 1, 1, 1, 1, 1, 1, 1, 1, 1, 1, 1, 1, 1, 1, 1, 1, 1], [2, 0, 2511, 5, 41, 110, 212, 25, 112, 204, 23, 2, 1, 1, 1, 1, 1, 1, 1, 1, 1, 1, 1, 1, 1, 1, 1, 1, 1, 1, 1, 1, 1, 1, 1, 1, 1, 1, 1, 1, 1, 1, 1], [2, 0, 1307, 784, 25, 449, 5, 8, 2, 1, 1, 1, 1, 1, 1, 1, 1, 1, 1, 1, 1, 1, 1, 1, 1, 1, 1, 1, 1, 1, 1, 1, 1, 1, 1, 1, 1, 1, 1, 1, 1, 1, 1], [2, 0, 3452, 38, 44, 181, 229, 1951, 13, 6, 2, 1, 1, 1, 1, 1, 1, 1, 1, 1, 1, 1, 1, 1, 1, 1, 1, 1, 1, 1, 1, 1, 1, 1, 1, 1, 1, 1, 1, 1, 1, 1, 1], [2, 0, 1402, 2701, 59, 12, 1153, 9, 1069, 49, 144, 34, 2406, 34, 332, 1435, 6, 988, 16, 359, 1535, 2842, 7, 85, 9, 11, 1677, 252, 91, 5, 41, 2563, 14, 284, 7, 34, 1186, 5, 35, 34, 438, 6, 2], [2, 0, 3333, 199, 2890, 62, 22, 100, 6, 2, 1, 1, 1, 1, 1, 1, 1, 1, 1, 1, 1, 1, 1, 1, 1, 1, 1, 1, 1, 1, 1, 1, 1, 1, 1, 1, 1, 1, 1, 1, 1, 1, 1], [2, 0, 1835, 228, 5, 8, 2, 1, 1, 1, 1, 1, 1, 1, 1, 1, 1, 1, 1, 1, 1, 1, 1, 1, 1, 1, 1, 1, 1, 1, 1, 1, 1, 1, 1, 1, 1, 1, 1, 1, 1, 1, 1], [2, 0, 1402, 35, 110, 702, 219, 85, 46, 363, 5, 41, 1542, 208, 6, 2, 1, 1, 1, 1, 1, 1, 1, 1, 1, 1, 1, 1, 1, 1, 1, 1, 1, 1, 1, 1, 1, 1, 1, 1, 1, 1, 1], [2, 0, 3672, 19, 518, 22, 764, 12, 1356, 23, 2, 1, 1, 1, 1, 1, 1, 1, 1, 1, 1, 1, 1, 1, 1, 1, 1, 1, 1, 1, 1, 1, 1, 1, 1, 1, 1, 1, 1, 1, 1, 1, 1], [2, 0, 3688, 17, 698, 7, 634, 1476, 6, 2, 1, 1, 1, 1, 1, 1, 1, 1, 1, 1, 1, 1, 1, 1, 1, 1, 1, 1, 1, 1, 1, 1, 1, 1, 1, 1, 1, 1, 1, 1, 1, 1, 1], [2, 0, 3481, 161, 38, 159, 5, 8, 2, 1, 1, 1, 1, 1, 1, 1, 1, 1, 1, 1, 1, 1, 1, 1, 1, 1, 1, 1, 1, 1, 1, 1, 1, 1, 1, 1, 1, 1, 1, 1, 1, 1, 1], [2, 0, 3481, 161, 38, 517, 9, 304, 9, 49, 186, 5, 8, 2, 1, 1, 1, 1, 1, 1, 1, 1, 1, 1, 1, 1, 1, 1, 1, 1, 1, 1, 1, 1, 1, 1, 1, 1, 1, 1, 1, 1, 1], [2, 0, 3675, 14, 576, 372, 9, 57, 456, 9, 23, 2, 1, 1, 1, 1, 1, 1, 1, 1, 1, 1, 1, 1, 1, 1, 1, 1, 1, 1, 1, 1, 1, 1, 1, 1, 1, 1, 1, 1, 1, 1, 1], [2, 0, 3481, 231, 27, 62, 12, 543, 23, 2, 1, 1, 1, 1, 1, 1, 1, 1, 1, 1, 1, 1, 1, 1, 1, 1, 1, 1, 1, 1, 1, 1, 1, 1, 1, 1, 1, 1, 1, 1, 1, 1, 1], [2, 0, 3295, 16, 766, 982, 6, 2, 1, 1, 1, 1, 1, 1, 1, 1, 1, 1, 1, 1, 1, 1, 1, 1, 1, 1, 1, 1, 1, 1, 1, 1, 1, 1, 1, 1, 1, 1, 1, 1, 1, 1, 1], [2, 0, 3688, 13, 379, 642, 5, 8, 2, 1, 1, 1, 1, 1, 1, 1, 1, 1, 1, 1, 1, 1, 1, 1, 1, 1, 1, 1, 1, 1, 1, 1, 1, 1, 1, 1, 1, 1, 1, 1, 1, 1, 1], [2, 0, 3481, 26, 2055, 301, 27, 7, 1740, 1315, 6, 2, 1, 1], [2, 0, 3295, 22, 100, 49, 144, 6, 2, 1, 1, 1, 1, 1], [2, 0, 3452, 403, 17, 5, 41, 539, 574, 6, 2, 1, 1, 1], [2, 0, 3481, 26, 2055, 301, 27, 7, 83, 1740, 6, 2, 1, 1], [2, 0, 3295, 16, 1928, 28, 6, 2, 1, 1, 1, 1, 1, 1], [2, 0, 3384, 147, 12, 121, 62, 139, 6, 2, 1, 1, 1, 1], [2, 0, 3295, 31, 840, 101, 91, 186, 6, 2, 1, 1, 1, 1], [2, 0, 2987, 21, 180, 29, 110, 6, 2, 1, 1, 1, 1, 1], [2, 0, 3675, 382, 268, 25, 247, 63, 6, 2, 1, 1, 1, 1], [2, 0, 2987, 54, 472, 359, 63, 325, 23, 2, 1, 1, 1, 1], [2, 0, 3677, 967, 57, 373, 560, 59, 200, 141, 2, 1, 1, 1], [2, 0, 1402, 2682, 1294, 776, 152, 31, 185, 6, 2, 1, 1, 1], [2, 0, 3681, 17, 1436, 9, 373, 755, 5, 432, 38, 5, 8, 2], [2, 0, 3670, 967, 26, 437, 2533, 91, 711, 5, 8, 2, 1, 1], [2, 0, 3683, 2682, 1294, 5, 35, 418, 26, 2297, 6, 2, 1, 1], [2, 0, 3384, 386, 90, 26, 558, 27, 6, 2, 1, 1, 1, 1], [2, 0, 2511, 29, 110, 16, 22, 100, 6, 2, 1, 1, 1, 1, 1, 1, 1, 1, 1, 1], [2, 0, 2719, 26, 5, 9, 183, 27, 3136, 1862, 49, 711, 6, 2, 1, 1, 1, 1, 1, 1], [2, 0, 3384, 1476, 19, 27, 6, 2, 1, 1, 1, 1, 1, 1, 1, 1, 1, 1, 1, 1], [2, 0, 2511, 224, 5, 8, 2, 1, 1, 1, 1, 1, 1, 1, 1, 1, 1, 1, 1, 1], [2, 0, 2987, 28, 825, 7, 247, 38, 388, 25, 180, 6, 2, 1, 1, 1, 1, 1, 1, 1], [2, 0, 1545, 1179, 13, 363, 63, 108, 29, 110, 828, 23, 2, 1, 1, 1, 1, 1, 1, 1], [2, 0, 3670, 967, 26, 429, 1305, 191, 966, 27, 12, 155, 1847, 300, 382, 25, 47, 392, 6, 2], [2, 0, 1402, 334, 210, 1901, 209, 472, 49, 144, 6, 2, 1, 1, 1, 1, 1, 1, 1, 1], [2, 0, 3681, 1463, 5, 774, 312, 5, 8, 2, 1, 1, 1, 1, 1, 1, 1, 1, 1, 1], [2, 0, 1835, 2979, 2, 1, 1, 1, 1, 1, 1, 1, 1, 1, 1, 1, 1, 1, 1, 1], [2, 0, 1835, 1463, 49, 144, 23, 2, 1, 1, 1, 1, 1, 1, 1, 1, 1, 1, 1, 1], [2, 0, 2987, 28, 52, 1250, 27, 63, 23, 2, 1, 1, 1, 1, 1, 1, 1, 1, 1, 1], [2, 0, 3619, 153, 572, 201, 12, 2191, 31, 21, 6, 2, 1, 1, 1, 1, 1, 1, 1, 1], [2, 0, 3675, 14, 5, 35, 3145, 9, 23, 2, 1, 1, 1, 1, 1, 1, 1, 1, 1, 1], [2, 0, 3689, 66, 2353, 6, 2, 1, 1, 1, 1, 1, 1, 1, 1, 1, 1, 1, 1, 1], [2, 0, 3681, 17, 559, 9, 332, 114, 59, 663, 9, 5, 8, 2, 1, 1, 1, 1, 1, 1], [2, 0, 2511, 152, 16, 661, 28, 699, 6, 2, 1, 1, 1, 1, 1, 1, 1, 1, 1, 1, 1, 1, 1, 1, 1, 1, 1, 1, 1, 1, 1, 1, 1, 1, 1, 1, 1, 1, 1, 1], [2, 0, 3675, 967, 214, 234, 6, 2, 1, 1, 1, 1, 1, 1, 1, 1, 1, 1, 1, 1, 1, 1, 1, 1, 1, 1, 1, 1, 1, 1, 1, 1, 1, 1, 1, 1, 1, 1, 1, 1], [2, 0, 3672, 2746, 214, 6, 2, 1, 1, 1, 1, 1, 1, 1, 1, 1, 1, 1, 1, 1, 1, 1, 1, 1, 1, 1, 1, 1, 1, 1, 1, 1, 1, 1, 1, 1, 1, 1, 1, 1], [2, 0, 3333, 199, 2890, 62, 22, 200, 6, 2, 1, 1, 1, 1, 1, 1, 1, 1, 1, 1, 1, 1, 1, 1, 1, 1, 1, 1, 1, 1, 1, 1, 1, 1, 1, 1, 1, 1, 1, 1], [2, 0, 3670, 13, 214, 966, 27, 23, 2, 1, 1, 1, 1, 1, 1, 1, 1, 1, 1, 1, 1, 1, 1, 1, 1, 1, 1, 1, 1, 1, 1, 1, 1, 1, 1, 1, 1, 1, 1, 1], [2, 0, 2511, 5, 298, 1748, 23, 2, 1, 1, 1, 1, 1, 1, 1, 1, 1, 1, 1, 1, 1, 1, 1, 1, 1, 1, 1, 1, 1, 1, 1, 1, 1, 1, 1, 1, 1, 1, 1, 1], [2, 0, 1402, 35, 62, 16, 147, 6, 2, 1, 1, 1, 1, 1, 1, 1, 1, 1, 1, 1, 1, 1, 1, 1, 1, 1, 1, 1, 1, 1, 1, 1, 1, 1, 1, 1, 1, 1, 1, 1], [2, 0, 3619, 382, 112, 704, 27, 63, 6, 2, 1, 1, 1, 1, 1, 1, 1, 1, 1, 1, 1, 1, 1, 1, 1, 1, 1, 1, 1, 1, 1, 1, 1, 1, 1, 1, 1, 1, 1, 1], [2, 0, 3481, 1082, 9, 2428, 101, 91, 16, 1034, 5, 8, 2, 1, 1, 1, 1, 1, 1, 1, 1, 1, 1, 1, 1, 1, 1, 1, 1, 1, 1, 1, 1, 1, 1, 1, 1, 1, 1, 1], [2, 0, 1402, 14, 1912, 142, 515, 91, 309, 6, 2, 1, 1, 1, 1, 1, 1, 1, 1, 1, 1, 1, 1, 1, 1, 1, 1, 1, 1, 1, 1, 1, 1, 1, 1, 1, 1, 1, 1, 1], [2, 0, 1402, 2701, 59, 7, 271, 925, 7, 34, 1230, 9, 12, 3018, 6, 30, 46, 1225, 31, 16, 59, 108, 29, 828, 219, 85, 46, 31, 354, 1467, 1234, 5, 35, 34, 1349, 9, 49, 351, 6, 2], [2, 0, 3384, 147, 12, 121, 808, 254, 5, 8, 2, 1, 1, 1, 1, 1, 1, 1, 1, 1, 1, 1, 1, 1, 1, 1, 1, 1, 1, 1, 1, 1, 1, 1, 1, 1, 1, 1, 1, 1], [2, 0, 1402, 1831, 57, 754, 5, 35, 57, 1694, 6, 2, 1, 1, 1, 1, 1, 1, 1, 1, 1, 1, 1, 1, 1, 1, 1, 1, 1, 1, 1, 1, 1, 1, 1, 1, 1, 1, 1, 1], [2, 0, 3681, 1463, 5, 774, 5, 8, 2, 1, 1, 1, 1, 1, 1, 1, 1, 1, 1, 1, 1, 1, 1, 1, 1, 1, 1, 1, 1, 1, 1, 1, 1, 1, 1, 1, 1, 1, 1, 1], [2, 0, 3672, 19, 87, 730, 6, 2, 1, 1, 1, 1, 1, 1, 1, 1, 1, 1, 1, 1, 1, 1, 1, 1, 1, 1, 1, 1, 1, 1, 1, 1, 1, 1, 1, 1, 1, 1, 1, 1], [2, 0, 2719, 9, 359, 63, 1127, 141, 2, 1, 1, 1, 1, 1, 1, 1, 1, 1, 1, 1, 1, 1, 1, 1, 1, 1, 1, 1, 1, 1, 1, 1, 1, 1, 1, 1, 1, 1, 1, 1], [2, 0, 2719, 307, 1478, 17, 49, 2853, 3429, 1992, 90, 22, 139, 6, 2, 1, 1, 1, 1, 1, 1, 1, 1, 1, 1, 1, 1, 1, 1, 1, 1, 1, 1, 1, 1, 1, 1, 1, 1, 1, 1], [2, 0, 2719, 1731, 1875, 12, 867, 284, 94, 5, 537, 3653, 9, 5, 35, 5, 537, 6, 2, 1, 1, 1, 1, 1, 1, 1, 1, 1, 1, 1, 1, 1, 1, 1, 1, 1, 1, 1, 1, 1, 1], [2, 0, 3452, 38, 5, 41, 456, 696, 6, 2, 1, 1, 1, 1, 1, 1, 1, 1, 1, 1, 1, 1, 1, 1, 1, 1, 1, 1, 1, 1, 1, 1, 1, 1, 1, 1, 1, 1, 1, 1, 1], [2, 0, 1402, 2682, 162, 114, 380, 9, 11, 1185, 5, 8, 2, 1, 1, 1, 1, 1, 1, 1, 1, 1, 1, 1, 1, 1, 1, 1, 1, 1, 1, 1, 1, 1, 1, 1, 1, 1, 1, 1, 1], [2, 0, 3384, 856, 388, 722, 16, 5, 9, 183, 5, 2147, 1514, 2, 1, 1, 1, 1, 1, 1, 1, 1, 1, 1, 1, 1, 1, 1, 1, 1, 1, 1, 1, 1, 1, 1, 1, 1, 1, 1, 1], [2, 0, 3672, 829, 11, 93, 25, 174, 415, 846, 234, 604, 7, 247, 38, 7, 49, 144, 7, 34, 1069, 7, 34, 2243, 9, 1052, 1227, 9, 5, 35, 34, 5, 3231, 3166, 16, 59, 104, 44, 351, 6, 2], [2, 0, 3670, 967, 214, 966, 6, 2, 1, 1, 1, 1, 1, 1, 1, 1, 1, 1, 1, 1, 1, 1, 1, 1, 1, 1, 1, 1, 1, 1, 1, 1, 1, 1, 1, 1, 1, 1, 1, 1, 1], [2, 0, 3295, 16, 22, 100, 6, 2, 1, 1, 1, 1, 1, 1, 1, 1, 1, 1, 1, 1, 1, 1, 1, 1, 1, 1, 1, 1, 1, 1, 1, 1, 1, 1, 1, 1, 1, 1, 1, 1, 1], [2, 0, 3681, 17, 1436, 637, 5, 9, 183, 400, 5, 8, 2, 1, 1, 1, 1, 1, 1, 1, 1, 1, 1, 1, 1, 1, 1, 1, 1, 1, 1, 1, 1, 1, 1, 1, 1, 1, 1, 1, 1], [2, 0, 3295, 881, 92, 203, 12, 738, 154, 5, 8, 2, 1, 1, 1, 1, 1, 1, 1, 1, 1, 1, 1, 1, 1, 1, 1, 1, 1, 1, 1, 1, 1, 1, 1, 1, 1, 1, 1, 1, 1], [2, 0, 2511, 29, 1353, 49, 1214, 27, 123, 2363, 6, 2, 1, 1, 1, 1, 1, 1, 1, 1, 1, 1, 1, 1, 1, 1, 1, 1, 1, 1, 1, 1, 1, 1, 1, 1, 1, 1, 1, 1, 1], [2, 0, 3333, 153, 1169, 1196, 57, 184, 6, 2, 1, 1, 1, 1, 1, 1, 1, 1, 1, 1, 1, 1, 1, 1, 1, 1, 1, 1, 1, 1, 1, 1, 1, 1, 1, 1, 1, 1, 1, 1, 1], [2, 0, 3452, 63, 270, 84, 594, 6, 2, 1, 1, 1, 1, 1, 1, 1, 1, 1, 1, 1, 1, 1, 1, 1, 1, 1, 1, 1, 1, 1, 1, 1, 1, 1, 1, 1, 1, 1, 1, 1, 1], [2, 0, 2511, 159, 5, 8, 2, 1, 1, 1, 1, 1, 1, 1, 1, 1, 1, 1, 1, 1, 1, 1, 1, 1, 1, 1, 1, 1, 1, 1, 1, 1, 1, 1, 1, 1, 1, 1, 1, 1, 1], [2, 0, 3333, 153, 1169, 97, 429, 6, 2, 1, 1, 1, 1, 1, 1, 1, 1, 1, 1, 1, 1, 1, 1, 1, 1, 1, 1, 1, 1, 1, 1, 1, 1, 1, 1, 1, 1, 1, 1, 1, 1], [2, 0, 3384, 1214, 947, 747, 27, 7, 344, 362, 92, 46, 31, 354, 49, 1677, 442, 6, 2, 1, 1, 1, 1, 1, 1, 1, 1, 1, 1, 1, 1, 1, 1, 1, 1, 1, 1, 1, 1, 1, 1], [2, 0, 2511, 29, 181, 23, 2, 1, 1, 1, 1, 1, 1, 1, 1, 1, 1, 1, 1, 1, 1, 1, 1, 1, 1, 1, 1, 1, 1, 1, 1, 1, 1, 1, 1, 1, 1, 1, 1, 1, 1, 1, 1, 1, 1, 1, 1, 1, 1, 1, 1, 1, 1, 1], [2, 0, 3333, 199, 942, 661, 28, 100, 6, 2, 1, 1, 1, 1, 1, 1, 1, 1, 1, 1, 1, 1, 1, 1, 1, 1, 1, 1, 1, 1, 1, 1, 1, 1, 1, 1, 1, 1, 1, 1, 1, 1, 1, 1, 1, 1, 1, 1, 1, 1, 1, 1, 1, 1], [2, 0, 2511, 29, 1127, 6, 2, 1, 1, 1, 1, 1, 1, 1, 1, 1, 1, 1, 1, 1, 1, 1, 1, 1, 1, 1, 1, 1, 1, 1, 1, 1, 1, 1, 1, 1, 1, 1, 1, 1, 1, 1, 1, 1, 1, 1, 1, 1, 1, 1, 1, 1, 1, 1], [2, 0, 2719, 9, 286, 1494, 821, 6, 2, 1, 1, 1, 1, 1, 1, 1, 1, 1, 1, 1, 1, 1, 1, 1, 1, 1, 1, 1, 1, 1, 1, 1, 1, 1, 1, 1, 1, 1, 1, 1, 1, 1, 1, 1, 1, 1, 1, 1, 1, 1, 1, 1, 1, 1], [2, 0, 3681, 17, 1436, 5, 510, 23, 2, 1, 1, 1, 1, 1, 1, 1, 1, 1, 1, 1, 1, 1, 1, 1, 1, 1, 1, 1, 1, 1, 1, 1, 1, 1, 1, 1, 1, 1, 1, 1, 1, 1, 1, 1, 1, 1, 1, 1, 1, 1, 1, 1, 1, 1], [2, 0, 2511, 29, 62, 16, 231, 28, 27, 534, 23, 2, 1, 1, 1, 1, 1, 1, 1, 1, 1, 1, 1, 1, 1, 1, 1, 1, 1, 1, 1, 1, 1, 1, 1, 1, 1, 1, 1, 1, 1, 1, 1, 1, 1, 1, 1, 1, 1, 1, 1, 1, 1, 1], [2, 0, 3452, 38, 49, 144, 12, 11, 378, 247, 38, 545, 963, 143, 5, 35, 1108, 9, 1230, 9, 2143, 141, 2, 1, 1, 1, 1, 1, 1, 1, 1, 1, 1, 1, 1, 1, 1, 1, 1, 1, 1, 1, 1, 1, 1, 1, 1, 1, 1, 1, 1, 1, 1, 1], [2, 0, 1402, 1831, 57, 754, 5, 35, 57, 212, 6, 2, 1, 1, 1, 1, 1, 1, 1, 1, 1, 1, 1, 1, 1, 1, 1, 1, 1, 1, 1, 1, 1, 1, 1, 1, 1, 1, 1, 1, 1, 1, 1, 1, 1, 1, 1, 1, 1, 1, 1, 1, 1, 1], [2, 0, 3672, 829, 11, 93, 25, 247, 38, 13, 7, 227, 18, 427, 38, 29, 411, 1679, 156, 66, 31, 1723, 101, 83, 757, 143, 6, 2, 1, 1, 1, 1, 1, 1, 1, 1, 1, 1, 1, 1, 1, 1, 1, 1, 1, 1, 1, 1, 1, 1, 1, 1, 1, 1], [2, 0, 3672, 2746, 9, 26, 1000, 27, 23, 2, 1, 1, 1, 1, 1, 1, 1, 1, 1, 1, 1, 1, 1, 1, 1, 1, 1, 1, 1, 1, 1, 1, 1, 1, 1, 1, 1, 1, 1, 1, 1, 1, 1, 1, 1, 1, 1, 1, 1, 1, 1, 1, 1, 1], [2, 0, 1402, 1831, 388, 90, 581, 6, 2, 1, 1, 1, 1, 1, 1, 1, 1, 1, 1, 1, 1, 1, 1, 1, 1, 1, 1, 1, 1, 1, 1, 1, 1, 1, 1, 1, 1, 1, 1, 1, 1, 1, 1, 1, 1, 1, 1, 1, 1, 1, 1, 1, 1, 1], [2, 0, 1402, 13, 191, 22, 29, 828, 2149, 616, 16, 1257, 506, 29, 1684, 7, 91, 29, 229, 2302, 5, 35, 34, 512, 3096, 49, 144, 6, 2, 1, 1, 1, 1, 1, 1, 1, 1, 1, 1, 1, 1, 1, 1, 1, 1, 1, 1, 1, 1, 1, 1, 1, 1, 1], [2, 0, 2719, 272, 27, 586, 63, 6, 2, 1, 1, 1, 1, 1, 1, 1, 1, 1, 1, 1, 1, 1, 1, 1, 1, 1, 1, 1, 1, 1, 1, 1, 1, 1, 1, 1, 1, 1, 1, 1, 1, 1, 1, 1, 1, 1, 1, 1, 1, 1, 1, 1, 1, 1], [2, 0, 3672, 829, 11, 93, 25, 174, 415, 846, 234, 604, 7, 85, 46, 31, 5, 41, 590, 7, 5, 41, 233, 1300, 82, 590, 6, 194, 1388, 104, 11, 379, 303, 2215, 47, 1557, 2478, 139, 156, 66, 876, 44, 565, 6, 120, 21, 46, 31, 1199, 12, 417, 438, 6, 2], [2, 0, 2511, 177, 2555, 6, 2, 1, 1, 1, 1, 1, 1, 1, 1, 1, 1, 1, 1, 1, 1, 1, 1, 1, 1, 1, 1, 1, 1, 1, 1, 1, 1, 1, 1, 1, 1, 1, 1, 1, 1, 1, 1, 1, 1, 1, 1, 1, 1, 1, 1, 1, 1, 1], [2, 0, 1402, 35, 1028, 22, 29, 304, 49, 152, 6, 2, 1, 1, 1, 1, 1, 1, 1, 1, 1, 1, 1, 1, 1, 1, 1, 1, 1, 1, 1, 1, 1, 1, 1, 1, 1, 1, 1, 1, 1, 1, 1, 1, 1, 1, 1, 1, 1, 1, 1, 1, 1, 1], [2, 0, 3675, 14, 270, 84, 152, 23, 2, 1, 1, 1, 1, 1, 1, 1, 1, 1, 1, 1, 1, 1, 1, 1, 1, 1, 1, 1, 1, 1, 1, 1, 1, 1, 1, 1, 1, 1, 1, 1, 1, 1, 1, 1, 1, 1, 1], [2, 0, 3295, 1660, 6, 2, 1, 1, 1, 1, 1, 1, 1, 1, 1, 1, 1, 1, 1, 1, 1, 1, 1, 1, 1, 1, 1, 1, 1, 1, 1, 1, 1, 1, 1, 1, 1, 1, 1, 1, 1, 1, 1, 1, 1, 1, 1], [2, 0, 2719, 147, 12, 16, 12, 174, 5, 8, 2, 1, 1, 1, 1, 1, 1, 1, 1, 1, 1, 1, 1, 1, 1, 1, 1, 1, 1, 1, 1, 1, 1, 1, 1, 1, 1, 1, 1, 1, 1, 1, 1, 1, 1, 1, 1], [2, 0, 1402, 35, 62, 16, 363, 1439, 6, 2, 1, 1, 1, 1, 1, 1, 1, 1, 1, 1, 1, 1, 1, 1, 1, 1, 1, 1, 1, 1, 1, 1, 1, 1, 1, 1, 1, 1, 1, 1, 1, 1, 1, 1, 1, 1, 1], [2, 0, 3384, 386, 90, 26, 59, 27, 113, 1243, 201, 23, 2, 1, 1, 1, 1, 1, 1, 1, 1, 1, 1, 1, 1, 1, 1, 1, 1, 1, 1, 1, 1, 1, 1, 1, 1, 1, 1, 1, 1, 1, 1, 1, 1, 1, 1], [2, 0, 3681, 17, 1436, 181, 5, 8, 2, 1, 1, 1, 1, 1, 1, 1, 1, 1, 1, 1, 1, 1, 1, 1, 1, 1, 1, 1, 1, 1, 1, 1, 1, 1, 1, 1, 1, 1, 1, 1, 1, 1, 1, 1, 1, 1, 1], [2, 0, 1402, 2682, 162, 114, 380, 9, 11, 1393, 6, 2, 1, 1, 1, 1, 1, 1, 1, 1, 1, 1, 1, 1, 1, 1, 1, 1, 1, 1, 1, 1, 1, 1, 1, 1, 1, 1, 1, 1, 1, 1, 1, 1, 1, 1, 1], [2, 0, 3333, 13, 1138, 1058, 805, 31, 333, 368, 870, 155, 1136, 94, 833, 333, 940, 48, 655, 177, 1908, 6, 2, 1, 1, 1, 1, 1, 1, 1, 1, 1, 1, 1, 1, 1, 1, 1, 1, 1, 1, 1, 1, 1, 1, 1, 1], [2, 0, 2840, 5, 41, 110, 945, 6, 2, 1, 1, 1, 1, 1, 1, 1, 1, 1, 1, 1, 1, 1, 1, 1, 1, 1, 1, 1, 1, 1, 1, 1, 1, 1, 1, 1, 1, 1, 1, 1, 1, 1, 1, 1, 1, 1, 1], [2, 0, 1402, 13, 231, 28, 27, 29, 62, 6, 2, 1, 1, 1, 1, 1, 1, 1, 1, 1, 1, 1, 1, 1, 1, 1, 1, 1, 1, 1, 1, 1, 1, 1, 1, 1, 1, 1, 1, 1, 1, 1, 1, 1, 1, 1, 1], [2, 0, 3672, 829, 75, 134, 93, 15, 7, 227, 18, 148, 34, 560, 728, 223, 34, 2587, 5, 35, 29, 2339, 104, 11, 1398, 6, 30, 46, 31, 29, 62, 5, 2484, 101, 489, 6, 30, 9, 271, 102, 114, 3104, 48, 1124, 152, 6, 2], [2, 0, 1307, 794, 159, 16, 26, 214, 27, 6, 2, 1, 1, 1, 1, 1, 1, 1, 1, 1, 1, 1, 1, 1, 1, 1, 1, 1, 1, 1, 1, 1, 1, 1, 1, 1, 1, 1, 1, 1, 1, 1, 1, 1, 1, 1, 1], [2, 0, 3452, 403, 17, 5, 41, 212, 6, 2, 1, 1, 1, 1, 1, 1, 1, 1, 1, 1, 1, 1, 1, 1, 1, 1, 1, 1, 1, 1, 1, 1, 1, 1, 1, 1, 1, 1, 1, 1, 1, 1, 1, 1, 1, 1, 1], [2, 0, 3295, 31, 2525, 2129, 12, 26, 205, 947, 6, 2, 1, 1, 1, 1, 1, 1, 1, 1, 1, 1, 1, 1, 1, 1, 1, 1, 1, 1, 1, 1, 1, 1, 1, 1, 1, 1, 1, 1, 1, 1, 1, 1, 1, 1, 1], [2, 0, 1402, 2701, 26, 59, 27, 678, 6, 2, 1, 1, 1, 1, 1, 1, 1, 1, 1, 1, 1, 1, 1, 1, 1, 1, 1, 1, 1, 1, 1, 1, 1, 1, 1, 1, 1, 1, 1, 1, 1, 1, 1, 1, 1, 1, 1], [2, 0, 2511, 25, 247, 63, 6, 2, 1, 1, 1, 1, 1, 1, 1, 1, 1, 1, 1, 1, 1, 1, 1, 1, 1, 1, 1, 1, 1, 1, 1, 1, 1, 1, 1, 1, 1, 1, 1, 1, 1, 1, 1, 1, 1, 1, 1], [2, 0, 3481, 505, 12, 379, 212, 5, 8, 2, 1, 1, 1, 1, 1, 1], [2, 0, 1402, 13, 1939, 365, 7, 270, 84, 47, 90, 392, 346, 23, 2, 1], [2, 0, 1835, 228, 59, 57, 671, 2370, 12, 575, 1243, 1327, 5, 8, 2, 1], [2, 0, 2511, 310, 697, 23, 2, 1, 1, 1, 1, 1, 1, 1, 1, 1], [2, 0, 3688, 1550, 12, 417, 945, 435, 25, 139, 23, 2, 1, 1, 1, 1], [2, 0, 3384, 386, 25, 97, 308, 23, 2, 1, 1, 1, 1, 1, 1, 1], [2, 0, 2719, 26, 185, 435, 12, 672, 6, 2, 1, 1, 1, 1, 1, 1], [2, 0, 3452, 38, 5, 41, 456, 696, 6, 2, 1, 1, 1, 1, 1, 1], [2, 0, 1307, 794, 87, 16, 231, 28, 27, 29, 1117, 820, 1294, 1430, 23, 2], [2, 0, 1402, 13, 268, 515, 6, 2, 1, 1, 1, 1, 1, 1, 1, 1], [2, 0, 1402, 2682, 162, 90, 449, 6, 2, 1, 1, 1, 1, 1, 1, 1], [2, 0, 1402, 2682, 162, 5, 8, 2, 1, 1, 1, 1, 1, 1, 1, 1], [2, 0, 2719, 22, 100, 47, 514, 6, 2, 1, 1, 1, 1, 1, 1, 1], [2, 0, 3681, 17, 199, 432, 38, 5, 8, 2, 1, 1, 1, 1, 1, 1], [2, 0, 3481, 1014, 7, 121, 62, 5, 8, 2, 1, 1, 1, 1, 1, 1], [2, 0, 3481, 161, 983, 101, 108, 75, 134, 331, 562, 5, 8, 2, 1, 1], [2, 0, 3683, 2682, 1294, 12, 1154, 361, 1454, 13, 27, 1164, 141, 2, 1, 1, 1, 1, 1, 1, 1, 1, 1, 1, 1, 1, 1, 1, 1, 1, 1, 1, 1, 1, 1], [2, 0, 3452, 38, 5, 41, 456, 696, 6, 2, 1, 1, 1, 1, 1, 1, 1, 1, 1, 1, 1, 1, 1, 1, 1, 1, 1, 1, 1, 1, 1, 1, 1, 1, 1], [2, 0, 3333, 84, 7, 219, 85, 31, 346, 29, 1811, 6, 2, 1, 1, 1, 1, 1, 1, 1, 1, 1, 1, 1, 1, 1, 1, 1, 1, 1, 1, 1, 1, 1, 1], [2, 0, 1402, 13, 1939, 365, 5, 35, 518, 26, 114, 404, 83, 435, 23, 2, 1, 1, 1, 1, 1, 1, 1, 1, 1, 1, 1, 1, 1, 1, 1, 1, 1, 1, 1], [2, 0, 3676, 21, 62, 22, 100, 6, 2, 1, 1, 1, 1, 1, 1, 1, 1, 1, 1, 1, 1, 1, 1, 1, 1, 1, 1, 1, 1, 1, 1, 1, 1, 1, 1], [2, 0, 1307, 17, 366, 281, 181, 26, 5, 9, 183, 400, 6, 2, 1, 1, 1, 1, 1, 1, 1, 1, 1, 1, 1, 1, 1, 1, 1, 1, 1, 1, 1, 1, 1], [2, 0, 3672, 829, 75, 134, 378, 85, 46, 31, 29, 1303, 1736, 104, 5, 41, 901, 6, 225, 1589, 152, 7, 57, 373, 560, 59, 595, 1205, 721, 12, 44, 983, 210, 6, 2], [2, 0, 3295, 940, 49, 372, 9, 12, 203, 6, 2, 1, 1, 1, 1, 1, 1, 1, 1, 1, 1, 1, 1, 1, 1, 1, 1, 1, 1, 1, 1, 1, 1, 1, 1], [2, 0, 3675, 967, 897, 118, 3374, 2781, 156, 201, 23, 2, 1, 1, 1, 1, 1, 1, 1, 1, 1, 1, 1, 1, 1, 1, 1, 1, 1, 1, 1, 1, 1, 1, 1], [2, 0, 1545, 1403, 114, 380, 224, 6, 2, 1, 1, 1, 1, 1, 1, 1, 1, 1, 1, 1, 1, 1, 1, 1, 1, 1, 1, 1, 1, 1, 1, 1, 1, 1, 1], [2, 0, 3233, 301, 1385, 48, 22, 100, 6, 2, 1, 1, 1, 1, 1, 1, 1, 1, 1, 1, 1, 1, 1, 1, 1, 1, 1, 1, 1, 1, 1, 1, 1, 1, 1], [2, 0, 3384, 658, 19, 6, 2, 1, 1, 1, 1, 1, 1, 1, 1, 1, 1, 1, 1, 1, 1, 1, 1, 1, 1, 1, 1, 1, 1, 1, 1, 1, 1, 1, 1], [2, 0, 3670, 967, 1242, 799, 34, 255, 12, 1136, 6, 2, 1, 1, 1, 1, 1, 1, 1, 1, 1, 1, 1, 1, 1, 1, 1, 1, 1, 1, 1, 1, 1, 1, 1], [2, 0, 1307, 17, 2958, 446, 199, 334, 1463, 26, 5, 9, 183, 400, 6, 2, 1, 1, 1, 1, 1, 1, 1, 1, 1, 1, 1, 1, 1, 1, 1, 1, 1, 1, 1], [2, 0, 3481, 103, 78, 2806, 91, 16, 5, 8, 2, 1, 1, 1, 1, 1, 1, 1, 1, 1, 1, 1, 1, 1, 1, 1, 1, 1, 1, 1, 1, 1, 1, 1, 1], [2, 0, 3295, 31, 368, 369, 166, 49, 325, 6, 2, 1, 1, 1, 1, 1, 1, 1, 1, 1, 1, 1, 1, 1, 1, 1, 1, 1, 1, 1, 1, 1, 1, 1, 1], [2, 0, 2719, 22, 1173, 6, 2, 1, 1, 1, 1, 1, 1, 1, 1, 1, 1, 1, 1, 1, 1, 1, 1, 1, 1, 1, 1, 1, 1, 1, 1, 1, 1, 1, 1, 1, 1, 1, 1, 1, 1, 1, 1, 1, 1, 1, 1, 1], [2, 0, 1307, 17, 2958, 446, 199, 334, 1463, 7, 97, 672, 23, 2, 1, 1, 1, 1, 1, 1, 1, 1, 1, 1, 1, 1, 1, 1, 1, 1, 1, 1, 1, 1, 1, 1, 1, 1, 1, 1, 1, 1, 1, 1, 1, 1, 1, 1], [2, 0, 3688, 301, 49, 87, 90, 449, 23, 2, 1, 1, 1, 1, 1, 1, 1, 1, 1, 1, 1, 1, 1, 1, 1, 1, 1, 1, 1, 1, 1, 1, 1, 1, 1, 1, 1, 1, 1, 1, 1, 1, 1, 1, 1, 1, 1, 1], [2, 0, 1402, 2682, 162, 114, 380, 9, 11, 1393, 5, 8, 2, 1, 1, 1, 1, 1, 1, 1, 1, 1, 1, 1, 1, 1, 1, 1, 1, 1, 1, 1, 1, 1, 1, 1, 1, 1, 1, 1, 1, 1, 1, 1, 1, 1, 1, 1], [2, 0, 3384, 204, 25, 52, 779, 7, 108, 47, 514, 7, 47, 1803, 6, 6, 23, 2, 1, 1, 1, 1, 1, 1, 1, 1, 1, 1, 1, 1, 1, 1, 1, 1, 1, 1, 1, 1, 1, 1, 1, 1, 1, 1, 1, 1, 1, 1], [2, 0, 3681, 17, 1436, 9, 294, 1086, 1308, 2430, 5, 8, 2, 1, 1, 1, 1, 1, 1, 1, 1, 1, 1, 1, 1, 1, 1, 1, 1, 1, 1, 1, 1, 1, 1, 1, 1, 1, 1, 1, 1, 1, 1, 1, 1, 1, 1, 1], [2, 0, 3384, 26, 103, 1785, 299, 27, 6, 2, 1, 1, 1, 1, 1, 1, 1, 1, 1, 1, 1, 1, 1, 1, 1, 1, 1, 1, 1, 1, 1, 1, 1, 1, 1, 1, 1, 1, 1, 1, 1, 1, 1, 1, 1, 1, 1, 1], [2, 0, 1545, 522, 1597, 446, 805, 224, 25, 57, 184, 1256, 252, 2412, 9, 5, 35, 25, 186, 118, 52, 57, 2744, 141, 2, 1, 1, 1, 1, 1, 1, 1, 1, 1, 1, 1, 1, 1, 1, 1, 1, 1, 1, 1, 1, 1, 1, 1], [2, 0, 3481, 161, 38, 517, 9, 304, 9, 49, 186, 5, 8, 2, 1, 1, 1, 1, 1, 1, 1, 1, 1, 1, 1, 1, 1, 1, 1, 1, 1, 1, 1, 1, 1, 1, 1, 1, 1, 1, 1, 1, 1, 1, 1, 1, 1, 1], [2, 0, 1835, 1463, 104, 75, 134, 93, 15, 118, 7, 227, 18, 427, 38, 34, 2517, 9, 2284, 7, 1647, 860, 266, 52, 915, 7, 303, 57, 31, 2284, 314, 13, 233, 1300, 82, 642, 6, 2, 1, 1, 1, 1, 1, 1, 1, 1, 1, 1], [2, 0, 2719, 361, 18, 31, 244, 16, 1606, 669, 229, 2674, 341, 2, 1, 1, 1, 1, 1, 1, 1, 1, 1, 1, 1, 1, 1, 1, 1, 1, 1, 1, 1, 1, 1, 1, 1, 1, 1, 1, 1, 1, 1, 1, 1, 1, 1, 1], [2, 0, 3688, 153, 304, 9, 49, 178, 5, 8, 2, 1, 1, 1, 1, 1, 1, 1, 1, 1, 1, 1, 1, 1, 1, 1, 1, 1, 1, 1, 1, 1, 1, 1, 1, 1, 1, 1, 1, 1, 1, 1, 1, 1, 1, 1, 1, 1], [2, 0, 2511, 310, 697, 23, 2, 1, 1, 1, 1, 1, 1, 1, 1, 1, 1, 1, 1, 1, 1, 1, 1, 1, 1, 1, 1, 1, 1, 1, 1, 1, 1, 1, 1, 1, 1, 1, 1, 1, 1, 1, 1, 1, 1, 1, 1, 1], [2, 0, 3672, 829, 75, 134, 93, 15, 7, 227, 18, 148, 5, 41, 93, 104, 11, 319, 112, 148, 29, 411, 635, 6, 145, 411, 635, 271, 5, 1872, 6, 660, 219, 303, 307, 377, 7, 198, 629, 12, 11, 212, 7, 22, 470, 191, 6, 2], [2, 0, 1402, 13, 191, 22, 5, 41, 93, 104, 11, 319, 354, 12, 332, 1435, 94, 114, 1338, 341, 30, 9, 359, 1557, 19, 101, 5, 298, 908, 94, 796, 48, 5, 41, 1501, 3164, 492, 366, 1745, 6, 2, 1, 1, 1, 1, 1, 1, 1], [2, 0, 1402, 13, 25, 52, 161, 185, 6, 2, 1, 1, 1, 1, 1, 1, 1, 1, 1, 1, 1, 1, 1, 1, 1, 1, 1, 1, 1, 1, 1, 1, 1, 1, 1, 1, 1, 1, 1, 1, 1, 1, 1, 1, 1, 1, 1, 1], [2, 0, 3452, 38, 34, 456, 9, 696, 6, 2, 1, 1, 1, 1, 1, 1, 1, 1, 1, 1, 1, 1, 1, 1, 1, 1, 1, 1, 1, 1, 1, 1, 1, 1, 1, 1, 1, 1, 1, 1, 1, 1, 1, 1, 1, 1, 1, 1, 1, 1, 1, 1, 1, 1, 1, 1], [2, 0, 3333, 199, 2890, 62, 22, 100, 6, 2, 1, 1, 1, 1, 1, 1, 1, 1, 1, 1, 1, 1, 1, 1, 1, 1, 1, 1, 1, 1, 1, 1, 1, 1, 1, 1, 1, 1, 1, 1, 1, 1, 1, 1, 1, 1, 1, 1, 1, 1, 1, 1, 1, 1, 1, 1], [2, 0, 3295, 31, 368, 369, 166, 49, 325, 6, 2, 1, 1, 1, 1, 1, 1, 1, 1, 1, 1, 1, 1, 1, 1, 1, 1, 1, 1, 1, 1, 1, 1, 1, 1, 1, 1, 1, 1, 1, 1, 1, 1, 1, 1, 1, 1, 1, 1, 1, 1, 1, 1, 1, 1, 1], [2, 0, 3672, 2746, 9, 26, 1000, 27, 6, 2, 1, 1, 1, 1, 1, 1, 1, 1, 1, 1, 1, 1, 1, 1, 1, 1, 1, 1, 1, 1, 1, 1, 1, 1, 1, 1, 1, 1, 1, 1, 1, 1, 1, 1, 1, 1, 1, 1, 1, 1, 1, 1, 1, 1, 1, 1], [2, 0, 3672, 829, 11, 93, 25, 247, 38, 5, 41, 459, 12, 331, 6, 150, 331, 22, 621, 91, 12, 11, 1818, 338, 1976, 6, 192, 1639, 25, 97, 91, 12, 1710, 156, 66, 307, 621, 7, 85, 46, 31, 5, 41, 3402, 2833, 499, 1613, 16, 185, 433, 22, 1521, 12, 1703, 6, 2], [2, 0, 1402, 13, 191, 22, 29, 828, 2149, 616, 16, 1257, 506, 29, 1684, 7, 91, 29, 229, 2302, 5, 35, 34, 512, 3096, 49, 144, 6, 2, 1, 1, 1, 1, 1, 1, 1, 1, 1, 1, 1, 1, 1, 1, 1, 1, 1, 1, 1, 1, 1, 1, 1, 1, 1, 1, 1], [2, 0, 3481, 26, 720, 27, 108, 29, 110, 828, 23, 2, 1, 1, 1, 1, 1, 1, 1, 1, 1, 1, 1, 1, 1, 1, 1, 1, 1, 1, 1, 1, 1, 1, 1, 1, 1, 1, 1, 1, 1, 1, 1, 1, 1, 1, 1, 1, 1, 1, 1, 1, 1, 1, 1, 1], [2, 0, 3233, 301, 7, 344, 178, 7, 112, 26, 558, 19, 27, 23, 2, 1, 1, 1, 1, 1, 1, 1, 1, 1, 1, 1, 1, 1, 1, 1, 1, 1, 1, 1, 1, 1, 1, 1, 1, 1, 1, 1, 1, 1, 1, 1, 1, 1, 1, 1, 1, 1, 1, 1, 1, 1], [2, 0, 3384, 386, 90, 26, 558, 27, 23, 2, 1, 1, 1, 1, 1, 1, 1, 1, 1, 1, 1, 1, 1, 1, 1, 1, 1, 1, 1, 1, 1, 1, 1, 1, 1, 1, 1, 1, 1, 1, 1, 1, 1, 1, 1, 1, 1, 1, 1, 1, 1, 1, 1, 1, 1, 1], [2, 0, 3670, 967, 1242, 799, 34, 255, 12, 1136, 6, 2, 1, 1, 1, 1, 1, 1, 1, 1, 1, 1, 1, 1, 1, 1, 1, 1, 1, 1, 1, 1, 1, 1, 1, 1, 1, 1, 1, 1, 1, 1, 1, 1, 1, 1, 1, 1, 1, 1, 1, 1, 1, 1, 1, 1], [2, 0, 1835, 1463, 777, 7, 75, 423, 7, 85, 845, 28, 314, 2099, 16, 197, 5, 41, 3093, 7, 39, 223, 1657, 381, 2225, 5, 35, 94, 3388, 223, 47, 539, 16, 2546, 6, 2, 1, 1, 1, 1, 1, 1, 1, 1, 1, 1, 1, 1, 1, 1, 1, 1, 1, 1, 1, 1], [2, 0, 1402, 2682, 162, 114, 380, 9, 11, 1393, 5, 8, 2, 1, 1, 1, 1, 1, 1, 1, 1, 1, 1, 1, 1, 1, 1, 1, 1, 1, 1, 1, 1, 1, 1, 1, 1, 1, 1, 1, 1, 1, 1, 1, 1, 1, 1, 1, 1, 1, 1, 1, 1, 1, 1, 1], [2, 0, 3688, 1550, 12, 417, 945, 435, 25, 139, 23, 2, 1, 1, 1, 1, 1, 1, 1, 1, 1, 1, 1, 1, 1, 1, 1, 1, 1, 1, 1, 1, 1, 1, 1, 1, 1, 1, 1, 1, 1, 1, 1, 1, 1, 1, 1, 1, 1, 1, 1, 1, 1, 1, 1, 1], [2, 0, 1402, 35, 62, 16, 363, 1439, 6, 2, 1, 1, 1, 1, 1, 1, 1, 1, 1, 1, 1, 1, 1, 1, 1, 1, 1, 1, 1, 1, 1, 1, 1, 1, 1, 1, 1, 1, 1, 1, 1, 1, 1, 1, 1, 1, 1, 1, 1, 1, 1, 1, 1, 1, 1, 1], [2, 0, 3688, 19, 628, 209, 2017, 6, 2, 1, 1, 1, 1, 1, 1, 1, 1, 1, 1, 1, 1, 1, 1, 1, 1, 1, 1, 1, 1, 1, 1, 1, 1, 1, 1, 1, 1, 1, 1, 1, 1, 1, 1, 1, 1, 1, 1, 1, 1, 1, 1, 1, 1, 1, 1, 1], [2, 0, 2511, 178, 16, 5, 503, 203, 6, 2, 1, 1, 1, 1, 1, 1, 1, 1, 1, 1, 1, 1, 1, 1, 1, 1, 1, 1, 1, 1, 1, 1, 1, 1, 1, 1, 1, 1, 1, 1, 1, 1, 1, 1, 1, 1, 1, 1, 1, 1, 1, 1, 1, 1, 1, 1], [2, 0, 3481, 161, 38, 87, 5, 8, 2, 1, 1, 1], [2, 0, 3295, 22, 100, 23, 2, 1, 1, 1, 1, 1], [2, 0, 3452, 403, 17, 5, 41, 212, 6, 2, 1, 1], [2, 0, 1402, 2766, 941, 28, 203, 6, 2, 1, 1, 1], [2, 0, 3677, 967, 5, 298, 184, 359, 2394, 3068, 6, 2], [2, 0, 2511, 697, 7, 310, 6, 2, 1, 1, 1, 1]]\n"
     ]
    },
    {
     "name": "stderr",
     "output_type": "stream",
     "text": [
      "\n"
     ]
    }
   ],
   "source": [
    "# evaluation with test set\n",
    "df_ft_to_wf = trainer.evaluate(test_dataset)"
   ]
  },
  {
   "cell_type": "code",
   "execution_count": 15,
   "metadata": {},
   "outputs": [
    {
     "data": {
      "text/html": [
       "<div>\n",
       "<style scoped>\n",
       "    .dataframe tbody tr th:only-of-type {\n",
       "        vertical-align: middle;\n",
       "    }\n",
       "\n",
       "    .dataframe tbody tr th {\n",
       "        vertical-align: top;\n",
       "    }\n",
       "\n",
       "    .dataframe thead th {\n",
       "        text-align: right;\n",
       "    }\n",
       "</style>\n",
       "<table border=\"1\" class=\"dataframe\">\n",
       "  <thead>\n",
       "    <tr style=\"text-align: right;\">\n",
       "      <th></th>\n",
       "      <th>original_sentences</th>\n",
       "      <th>translations</th>\n",
       "      <th>predictions</th>\n",
       "    </tr>\n",
       "  </thead>\n",
       "  <tbody>\n",
       "    <tr>\n",
       "      <th>188</th>\n",
       "      <td>Joxal kenn liggéey bi!</td>\n",
       "      <td>Donne le travail à un autre!</td>\n",
       "      <td>Donne deux fois rien que là!</td>\n",
       "    </tr>\n",
       "    <tr>\n",
       "      <th>189</th>\n",
       "      <td>Góor gii demoon.</td>\n",
       "      <td>Cet homme qui a été.</td>\n",
       "      <td>Cet homme qui avait voulu.</td>\n",
       "    </tr>\n",
       "    <tr>\n",
       "      <th>190</th>\n",
       "      <td>Nileen ka.</td>\n",
       "      <td>Dites-lui.</td>\n",
       "      <td>Dites-leur.</td>\n",
       "    </tr>\n",
       "    <tr>\n",
       "      <th>191</th>\n",
       "      <td>Ma ŋgoogule foofu.</td>\n",
       "      <td>Il est là.</td>\n",
       "      <td>C'est moi qui vais partir.</td>\n",
       "    </tr>\n",
       "    <tr>\n",
       "      <th>192</th>\n",
       "      <td>Gis ŋga nit kale?</td>\n",
       "      <td>Tu vois cet homme là-bas?</td>\n",
       "      <td>Tu as vu l'homme?</td>\n",
       "    </tr>\n",
       "    <tr>\n",
       "      <th>193</th>\n",
       "      <td>Ma defe góor gi dem na!</td>\n",
       "      <td>L'homme est parti je crois!</td>\n",
       "      <td>L'homme est parti!</td>\n",
       "    </tr>\n",
       "    <tr>\n",
       "      <th>194</th>\n",
       "      <td>Séen naa ag guy.</td>\n",
       "      <td>J'ai aperçu un baobab.</td>\n",
       "      <td>J'ai aperçu une maison.</td>\n",
       "    </tr>\n",
       "    <tr>\n",
       "      <th>195</th>\n",
       "      <td>Kii dafa demkoon.</td>\n",
       "      <td>Celui-ci serait parti.</td>\n",
       "      <td>Celui-ci allait partir.</td>\n",
       "    </tr>\n",
       "    <tr>\n",
       "      <th>196</th>\n",
       "      <td>Bunt yi yépp a tëjju woon.</td>\n",
       "      <td>Toutes les portes étaient ouvertes.</td>\n",
       "      <td>Tous leurs enfants ont survécu.</td>\n",
       "    </tr>\n",
       "    <tr>\n",
       "      <th>197</th>\n",
       "      <td>Faatim la, tay.</td>\n",
       "      <td>C'est Fatim, aujourd'hui.</td>\n",
       "      <td>C'est Fatim, peut-être.</td>\n",
       "    </tr>\n",
       "  </tbody>\n",
       "</table>\n",
       "</div>"
      ],
      "text/plain": [
       "             original_sentences                         translations  \\\n",
       "188      Joxal kenn liggéey bi!         Donne le travail à un autre!   \n",
       "189            Góor gii demoon.                 Cet homme qui a été.   \n",
       "190                  Nileen ka.                           Dites-lui.   \n",
       "191          Ma ŋgoogule foofu.                           Il est là.   \n",
       "192           Gis ŋga nit kale?            Tu vois cet homme là-bas?   \n",
       "193     Ma defe góor gi dem na!          L'homme est parti je crois!   \n",
       "194            Séen naa ag guy.               J'ai aperçu un baobab.   \n",
       "195           Kii dafa demkoon.               Celui-ci serait parti.   \n",
       "196  Bunt yi yépp a tëjju woon.  Toutes les portes étaient ouvertes.   \n",
       "197             Faatim la, tay.            C'est Fatim, aujourd'hui.   \n",
       "\n",
       "                         predictions  \n",
       "188     Donne deux fois rien que là!  \n",
       "189       Cet homme qui avait voulu.  \n",
       "190                      Dites-leur.  \n",
       "191       C'est moi qui vais partir.  \n",
       "192                Tu as vu l'homme?  \n",
       "193               L'homme est parti!  \n",
       "194          J'ai aperçu une maison.  \n",
       "195          Celui-ci allait partir.  \n",
       "196  Tous leurs enfants ont survécu.  \n",
       "197          C'est Fatim, peut-être.  "
      ]
     },
     "execution_count": 15,
     "metadata": {},
     "output_type": "execute_result"
    }
   ],
   "source": [
    "df_ft_to_wf[1].tail(10)"
   ]
  },
  {
   "cell_type": "code",
   "execution_count": 16,
   "metadata": {},
   "outputs": [
    {
     "data": {
      "text/html": [
       "<div>\n",
       "<style scoped>\n",
       "    .dataframe tbody tr th:only-of-type {\n",
       "        vertical-align: middle;\n",
       "    }\n",
       "\n",
       "    .dataframe tbody tr th {\n",
       "        vertical-align: top;\n",
       "    }\n",
       "\n",
       "    .dataframe thead th {\n",
       "        text-align: right;\n",
       "    }\n",
       "</style>\n",
       "<table border=\"1\" class=\"dataframe\">\n",
       "  <thead>\n",
       "    <tr style=\"text-align: right;\">\n",
       "      <th></th>\n",
       "      <th>original_sentences</th>\n",
       "      <th>translations</th>\n",
       "      <th>predictions</th>\n",
       "    </tr>\n",
       "  </thead>\n",
       "  <tbody>\n",
       "    <tr>\n",
       "      <th>79</th>\n",
       "      <td>Laobe lanu woon.</td>\n",
       "      <td>Nous fûmes Laobé.</td>\n",
       "      <td>Ils ont été bûcherons.</td>\n",
       "    </tr>\n",
       "    <tr>\n",
       "      <th>48</th>\n",
       "      <td>Képp ku dem, kooku raggal la.</td>\n",
       "      <td>Quiconque s'en va, celui-là est un froussard.</td>\n",
       "      <td>C'est un autre qui est parti.</td>\n",
       "    </tr>\n",
       "    <tr>\n",
       "      <th>68</th>\n",
       "      <td>Bu ñu dem!</td>\n",
       "      <td>Qu'ils ne partent pas!</td>\n",
       "      <td>Ne partons pas!</td>\n",
       "    </tr>\n",
       "    <tr>\n",
       "      <th>38</th>\n",
       "      <td>Góor gi egg na wanté tardé na tuuti.</td>\n",
       "      <td>Le gars est arrivé un peu en retard.</td>\n",
       "      <td>L'homme a causé avec toi.</td>\n",
       "    </tr>\n",
       "    <tr>\n",
       "      <th>60</th>\n",
       "      <td>Mangui lay ndokkel ci sa bess bu délu si bi.</td>\n",
       "      <td>Mes voeux d'anniversaire.</td>\n",
       "      <td>Mes voeux de nouvel an.</td>\n",
       "    </tr>\n",
       "    <tr>\n",
       "      <th>40</th>\n",
       "      <td>Ma ŋgii toog.</td>\n",
       "      <td>Le voilà assis là-bas.</td>\n",
       "      <td>Voila que j'ai été.</td>\n",
       "    </tr>\n",
       "    <tr>\n",
       "      <th>100</th>\n",
       "      <td>Moo di loola!</td>\n",
       "      <td>Quel démon!</td>\n",
       "      <td>Quel être!</td>\n",
       "    </tr>\n",
       "    <tr>\n",
       "      <th>54</th>\n",
       "      <td>Degganté ñu ñoom ñép ci lu ñép di liggéeyi ci ...</td>\n",
       "      <td>Ils ont tous convenu qu'ils travailleraient to...</td>\n",
       "      <td>Nous ne nous soucions pas de sauver quoi que c...</td>\n",
       "    </tr>\n",
       "    <tr>\n",
       "      <th>52</th>\n",
       "      <td>Moontin dey, gis naa ka.</td>\n",
       "      <td>Et pourtant, je l'ai vu.</td>\n",
       "      <td>Et pourtant, j'ai vu celui que voilà.</td>\n",
       "    </tr>\n",
       "    <tr>\n",
       "      <th>127</th>\n",
       "      <td>Dama dem.</td>\n",
       "      <td>C'est que j'ai effectivement été.</td>\n",
       "      <td>C'est que j'ai été.</td>\n",
       "    </tr>\n",
       "    <tr>\n",
       "      <th>141</th>\n",
       "      <td>Koo gis?</td>\n",
       "      <td>Qui as-tu vu?</td>\n",
       "      <td>Qu'as-tu vu?</td>\n",
       "    </tr>\n",
       "    <tr>\n",
       "      <th>59</th>\n",
       "      <td>Te ŋga dem kat!</td>\n",
       "      <td>Surtout pars!</td>\n",
       "      <td>Et tu n'as pas été!</td>\n",
       "    </tr>\n",
       "    <tr>\n",
       "      <th>123</th>\n",
       "      <td>Wool xale yi dul dem fenn.</td>\n",
       "      <td>Appelle les enfants qui n'iront nulle part.</td>\n",
       "      <td>Appelle celui-là qui ne part pas.</td>\n",
       "    </tr>\n",
       "    <tr>\n",
       "      <th>147</th>\n",
       "      <td>Kooka ak kile, bokkuñu!</td>\n",
       "      <td>Celui-là et celui-ci n'ont rien de commun!</td>\n",
       "      <td>Celui-là et celui-ci ne se ressemble en rien!</td>\n",
       "    </tr>\n",
       "    <tr>\n",
       "      <th>130</th>\n",
       "      <td>Ana boroom kër gi?</td>\n",
       "      <td>Où est le maître de maison?</td>\n",
       "      <td>Où sont les membres de ta famille?</td>\n",
       "    </tr>\n",
       "    <tr>\n",
       "      <th>74</th>\n",
       "      <td>Waaw nataal bi de, ay xeer la yoo xam ni dañ d...</td>\n",
       "      <td>Sur cette photo ci, il y a des pierres qui son...</td>\n",
       "      <td>Ceux-ci sont, semble-t-il, des paniers de cour...</td>\n",
       "    </tr>\n",
       "    <tr>\n",
       "      <th>162</th>\n",
       "      <td>Waxal góor gi mu dem!</td>\n",
       "      <td>Dis à l'homme de partir!</td>\n",
       "      <td>Dis à l'homme qu'il parte!</td>\n",
       "    </tr>\n",
       "    <tr>\n",
       "      <th>119</th>\n",
       "      <td>Sëriñ bi ñaan na mayewoon alalam ji ba mënkóon...</td>\n",
       "      <td>Le marabout implora qu'il fût dans la situatio...</td>\n",
       "      <td>Le maître souhaiterait avoir donné toute sa fo...</td>\n",
       "    </tr>\n",
       "    <tr>\n",
       "      <th>166</th>\n",
       "      <td>Wattaliwuma la ka woon.</td>\n",
       "      <td>Je n'avais pas été te le cueillir.</td>\n",
       "      <td>Je ne te voyait pas.</td>\n",
       "    </tr>\n",
       "    <tr>\n",
       "      <th>163</th>\n",
       "      <td>Naka ligéey bi?</td>\n",
       "      <td>Comment se passe le travail?</td>\n",
       "      <td>Comment se passes la soirée?</td>\n",
       "    </tr>\n",
       "    <tr>\n",
       "      <th>47</th>\n",
       "      <td>Bëgg naa góor gi ñëw.</td>\n",
       "      <td>Je veux que l'homme vienne.</td>\n",
       "      <td>Je crois qu'il ne viendra pas.</td>\n",
       "    </tr>\n",
       "    <tr>\n",
       "      <th>102</th>\n",
       "      <td>Nataal bii gis naa ci ab néegu ñax bu nekk cib...</td>\n",
       "      <td>Sur cette photo j'y ai vu une case qui se trou...</td>\n",
       "      <td>J'ai vu à l'intérieur de la photo, j'ai vu tro...</td>\n",
       "    </tr>\n",
       "    <tr>\n",
       "      <th>65</th>\n",
       "      <td>Dem ŋgeen.</td>\n",
       "      <td>Vous êtes partis.</td>\n",
       "      <td>Vous partez.</td>\n",
       "    </tr>\n",
       "    <tr>\n",
       "      <th>50</th>\n",
       "      <td>Demuma fa woon.</td>\n",
       "      <td>Je n'y avais pas été.</td>\n",
       "      <td>Je n'irai pas.</td>\n",
       "    </tr>\n",
       "    <tr>\n",
       "      <th>105</th>\n",
       "      <td>Na dem su bëggul!</td>\n",
       "      <td>Qu'il parte s'il ne veut pas!</td>\n",
       "      <td>S'ils ne veulent pas!</td>\n",
       "    </tr>\n",
       "    <tr>\n",
       "      <th>90</th>\n",
       "      <td>Foofu la ba ba ñuy gis feneen.</td>\n",
       "      <td>C'est là jusqu'au moment où nous trouverons un...</td>\n",
       "      <td>C'est un brave à n'en pas douter.</td>\n",
       "    </tr>\n",
       "    <tr>\n",
       "      <th>110</th>\n",
       "      <td>Moo di Lawbe bi.</td>\n",
       "      <td>C'est le Laobe.</td>\n",
       "      <td>C'est l'étudiant.</td>\n",
       "    </tr>\n",
       "    <tr>\n",
       "      <th>167</th>\n",
       "      <td>Jigéen ji ñaan na ndax xale yi agg te itam see...</td>\n",
       "      <td>La femme pria pour que les enfants arrivent et...</td>\n",
       "      <td>La dame voudrait bien que les enfants soient c...</td>\n",
       "    </tr>\n",
       "    <tr>\n",
       "      <th>95</th>\n",
       "      <td>Dafa ma meloon nii man rek maa amoon numero bo...</td>\n",
       "      <td>J'avais l'impression d'être le seul à avoir ce...</td>\n",
       "      <td>Je n'en parlerai pas, même s'il y a beaucoup à...</td>\n",
       "    </tr>\n",
       "    <tr>\n",
       "      <th>78</th>\n",
       "      <td>Su góor gi dee ñëw.</td>\n",
       "      <td>Si l'homme doit venir.</td>\n",
       "      <td>Si l'homme vient.</td>\n",
       "    </tr>\n",
       "    <tr>\n",
       "      <th>37</th>\n",
       "      <td>Kile nit laa wax.</td>\n",
       "      <td>Je parle de cet homme-ci.</td>\n",
       "      <td>Je parle de cet homme là.</td>\n",
       "    </tr>\n",
       "    <tr>\n",
       "      <th>77</th>\n",
       "      <td>Ñan la?</td>\n",
       "      <td>Qui sont-ce?</td>\n",
       "      <td>Qui est-ce?</td>\n",
       "    </tr>\n",
       "    <tr>\n",
       "      <th>62</th>\n",
       "      <td>Maaleekum salaam.</td>\n",
       "      <td>Que la paix soit avec toi aussi.</td>\n",
       "      <td>Bon voyage.</td>\n",
       "    </tr>\n",
       "    <tr>\n",
       "      <th>161</th>\n",
       "      <td>Tay danaa dem!</td>\n",
       "      <td>J'irai aujourd'hui!</td>\n",
       "      <td>Aujourd'hui, c'est cela!</td>\n",
       "    </tr>\n",
       "    <tr>\n",
       "      <th>188</th>\n",
       "      <td>Joxal kenn liggéey bi!</td>\n",
       "      <td>Donne le travail à un autre!</td>\n",
       "      <td>Donne deux fois rien que là!</td>\n",
       "    </tr>\n",
       "    <tr>\n",
       "      <th>153</th>\n",
       "      <td>Bëcëk baangi fi rek.</td>\n",
       "      <td>L'après-midi se passe bien.</td>\n",
       "      <td>La matinée se passe bien.</td>\n",
       "    </tr>\n",
       "    <tr>\n",
       "      <th>122</th>\n",
       "      <td>Nataal bi ab nataal la boo xamante yni maa ngi...</td>\n",
       "      <td>Cette photo ci c'est une photo sur laquelle je...</td>\n",
       "      <td>Sur cette photo ci, j'y vois des gendarmes por...</td>\n",
       "    </tr>\n",
       "    <tr>\n",
       "      <th>6</th>\n",
       "      <td>Yaw mile mi fii!</td>\n",
       "      <td>À toi qui es-là!</td>\n",
       "      <td>Nous voilà assis!</td>\n",
       "    </tr>\n",
       "    <tr>\n",
       "      <th>1</th>\n",
       "      <td>Xammee ŋga waa jooju?</td>\n",
       "      <td>Tu reconnais cet individu-là?</td>\n",
       "      <td>Tu reconnais cette personne-là?</td>\n",
       "    </tr>\n",
       "    <tr>\n",
       "      <th>23</th>\n",
       "      <td>Waa jii moo demul.</td>\n",
       "      <td>Cette personne n'a pas été.</td>\n",
       "      <td>Cet autre endroit où il y avait une fuite.</td>\n",
       "    </tr>\n",
       "    <tr>\n",
       "      <th>106</th>\n",
       "      <td>Ni ka bu mu ñëw.</td>\n",
       "      <td>Dis-lui qu'il ne vienne pas.</td>\n",
       "      <td>Chez celui qu'il vienne.</td>\n",
       "    </tr>\n",
       "    <tr>\n",
       "      <th>143</th>\n",
       "      <td>Seet ŋga néeg buu?</td>\n",
       "      <td>Tu as regardé dans cette chambre-ci?</td>\n",
       "      <td>Tu as regardé dans cette chambre-ci?</td>\n",
       "    </tr>\n",
       "    <tr>\n",
       "      <th>175</th>\n",
       "      <td>Li ŋga wax la ndaw si taamu.</td>\n",
       "      <td>C'est ce que tu as dit que la jeune femme préf...</td>\n",
       "      <td>Ce que tu as dit.</td>\n",
       "    </tr>\n",
       "    <tr>\n",
       "      <th>164</th>\n",
       "      <td>Bëgg naa ci juróomi waxtu, ci subë, ŋga ñëw!</td>\n",
       "      <td>Je veux que tu viennes le matin à cinq heures ...</td>\n",
       "      <td>Je veux que tu viennes, dans ce matin, ce jour...</td>\n",
       "    </tr>\n",
       "    <tr>\n",
       "      <th>135</th>\n",
       "      <td>Gis naa nagu Tugal.</td>\n",
       "      <td>J'ai vu vache d'Europe.</td>\n",
       "      <td>J'ai vu une vache d'Europe.</td>\n",
       "    </tr>\n",
       "    <tr>\n",
       "      <th>134</th>\n",
       "      <td>Musaa wax na leen jël naa sama retraite.</td>\n",
       "      <td>Moussa vous a dit que j'étais à la retraite.</td>\n",
       "      <td>Il ne dit rien de cela.</td>\n",
       "    </tr>\n",
       "    <tr>\n",
       "      <th>159</th>\n",
       "      <td>Góor gi may na dara nit.</td>\n",
       "      <td>L'homme a donné quelque chose à quelqu'un.</td>\n",
       "      <td>L'homme a donné quelque chose à quelqu'un.</td>\n",
       "    </tr>\n",
       "    <tr>\n",
       "      <th>124</th>\n",
       "      <td>Séen naa ak nit.</td>\n",
       "      <td>J'ai aperçu un homme.</td>\n",
       "      <td>J'ai aperçu une maison.</td>\n",
       "    </tr>\n",
       "    <tr>\n",
       "      <th>10</th>\n",
       "      <td>Gis naa gaynde.</td>\n",
       "      <td>J'ai vu lion.</td>\n",
       "      <td>J'ai vu un lion.</td>\n",
       "    </tr>\n",
       "    <tr>\n",
       "      <th>26</th>\n",
       "      <td>Gis ŋga kooku?</td>\n",
       "      <td>Tu as vu celui-ci?</td>\n",
       "      <td>Tu as vu celui-là?</td>\n",
       "    </tr>\n",
       "    <tr>\n",
       "      <th>45</th>\n",
       "      <td>Mu japp nag yooyu yan?</td>\n",
       "      <td>Qu'il attrappe quelles vaches?</td>\n",
       "      <td>Nous ne va mal avec eux?</td>\n",
       "    </tr>\n",
       "    <tr>\n",
       "      <th>128</th>\n",
       "      <td>Bii néeg ban ŋga wax?</td>\n",
       "      <td>Tu parles de quelle maison (ici)?</td>\n",
       "      <td>Tu parles de quelle maison?</td>\n",
       "    </tr>\n",
       "    <tr>\n",
       "      <th>115</th>\n",
       "      <td>Góor gii demoon.</td>\n",
       "      <td>Cet homme qui était parti.</td>\n",
       "      <td>Cet homme qui avait voulu.</td>\n",
       "    </tr>\n",
       "    <tr>\n",
       "      <th>4</th>\n",
       "      <td>Du sabar gi!</td>\n",
       "      <td>Ce n'est pas le tambour!</td>\n",
       "      <td>Le Monsieur!</td>\n",
       "    </tr>\n",
       "    <tr>\n",
       "      <th>192</th>\n",
       "      <td>Gis ŋga nit kale?</td>\n",
       "      <td>Tu vois cet homme là-bas?</td>\n",
       "      <td>Tu as vu l'homme?</td>\n",
       "    </tr>\n",
       "    <tr>\n",
       "      <th>178</th>\n",
       "      <td>Góor gi may na Bacc.</td>\n",
       "      <td>L'homme a fait un cadeau à Bathe.</td>\n",
       "      <td>L'homme a donné quelque chose à quelqu'un.</td>\n",
       "    </tr>\n",
       "    <tr>\n",
       "      <th>57</th>\n",
       "      <td>Wau.</td>\n",
       "      <td>Oui.</td>\n",
       "      <td>Oui.</td>\n",
       "    </tr>\n",
       "    <tr>\n",
       "      <th>15</th>\n",
       "      <td>Nataal bii nag moom benn pañe la. Lu ëpp liñ k...</td>\n",
       "      <td>Sur cette photo ci cependant, il y a un panier...</td>\n",
       "      <td>Sur cette photo il y a le Capitaine Seydina Om...</td>\n",
       "    </tr>\n",
       "    <tr>\n",
       "      <th>121</th>\n",
       "      <td>Du kenn.</td>\n",
       "      <td>Ce n'est personne.</td>\n",
       "      <td>Ce n'est pas un homme.</td>\n",
       "    </tr>\n",
       "    <tr>\n",
       "      <th>183</th>\n",
       "      <td>Waaye man sax dama dul ñëw!</td>\n",
       "      <td>Mais, même moi, je n'ai pas été!</td>\n",
       "      <td>Mais, même moi, je ne viendrai pas!</td>\n",
       "    </tr>\n",
       "    <tr>\n",
       "      <th>5</th>\n",
       "      <td>Nit ñi daawuñu coow.</td>\n",
       "      <td>Les gens n'étaient pas, habituellement, bavards.</td>\n",
       "      <td>Certaines personnes ne sont pas encore arrivées.</td>\n",
       "    </tr>\n",
       "    <tr>\n",
       "      <th>76</th>\n",
       "      <td>Ci Séeréer si, ci Pël yi, ci Ñomiŋka yi...</td>\n",
       "      <td>Chez les Sérère, les Peul, les Niominka...</td>\n",
       "      <td>Chez les Sérère et les Peul.</td>\n",
       "    </tr>\n",
       "    <tr>\n",
       "      <th>158</th>\n",
       "      <td>Yan fas ŋga bëggoon ak wan ŋga japp?</td>\n",
       "      <td>Quels chevaux voulais-tu et lequel as-tu pris?</td>\n",
       "      <td>Tu te battais avec qui?</td>\n",
       "    </tr>\n",
       "    <tr>\n",
       "      <th>82</th>\n",
       "      <td>Gis naa xale ba.</td>\n",
       "      <td>J'ai vu l'enfant.</td>\n",
       "      <td>J'ai vu une vache d'Europe.</td>\n",
       "    </tr>\n",
       "    <tr>\n",
       "      <th>7</th>\n",
       "      <td>Su dulwoon Lawbe.</td>\n",
       "      <td>S'il n'était pas Laobe.</td>\n",
       "      <td>S'il n'avait pas été.</td>\n",
       "    </tr>\n",
       "    <tr>\n",
       "      <th>113</th>\n",
       "      <td>Góor gi du bày.</td>\n",
       "      <td>L'homme ne cultivera pas.</td>\n",
       "      <td>L'homme cultive.</td>\n",
       "    </tr>\n",
       "    <tr>\n",
       "      <th>20</th>\n",
       "      <td>Waaw lii nag ay néegi ñax la, néegi ñax bi ci ...</td>\n",
       "      <td>Ceux-là, cependant, sont des cases. Celle qui ...</td>\n",
       "      <td>Ceux-ci sont de vieilles cases à l'intérieur d...</td>\n",
       "    </tr>\n",
       "    <tr>\n",
       "      <th>94</th>\n",
       "      <td>Liggéeykat yi man ag yaw la.</td>\n",
       "      <td>Les travailleurs c'est toi et moi.</td>\n",
       "      <td>Les travailleurs c'est nous.</td>\n",
       "    </tr>\n",
       "    <tr>\n",
       "      <th>14</th>\n",
       "      <td>Jaam nga fanane.</td>\n",
       "      <td>Bon matin.</td>\n",
       "      <td>Bonne matinée.</td>\n",
       "    </tr>\n",
       "    <tr>\n",
       "      <th>42</th>\n",
       "      <td>Ñooñu ñépp woon demuñu.</td>\n",
       "      <td>Tous ceux-là ne sont pas partis.</td>\n",
       "      <td>Tous les autres gendarmes sont venus.</td>\n",
       "    </tr>\n",
       "    <tr>\n",
       "      <th>146</th>\n",
       "      <td>Ba fi, mu tollu.</td>\n",
       "      <td>Jusqu'ici, c'est bon.</td>\n",
       "      <td>Là, où il a fait un trou.</td>\n",
       "    </tr>\n",
       "    <tr>\n",
       "      <th>170</th>\n",
       "      <td>Ramona dafa doon ma atte te waxul dara.</td>\n",
       "      <td>Ramona me jugeait silencieusement.</td>\n",
       "      <td>Il n'y a personne qui puisse m'aider.</td>\n",
       "    </tr>\n",
       "    <tr>\n",
       "      <th>87</th>\n",
       "      <td>Na gor gi dem.</td>\n",
       "      <td>Que l'homme parte.</td>\n",
       "      <td>L'homme qui est parti.</td>\n",
       "    </tr>\n",
       "    <tr>\n",
       "      <th>64</th>\n",
       "      <td>Moo demkoonul.</td>\n",
       "      <td>C'est lui qui n'eût pas été.</td>\n",
       "      <td>C'est lui qui serait allé.</td>\n",
       "    </tr>\n",
       "    <tr>\n",
       "      <th>55</th>\n",
       "      <td>Seetal beneen bi.</td>\n",
       "      <td>Cherche l'autre.</td>\n",
       "      <td>Cherche-les à l'intérieur.</td>\n",
       "    </tr>\n",
       "    <tr>\n",
       "      <th>107</th>\n",
       "      <td>Lii nag ab buntu la boo xam ne ndénk lanu ko d...</td>\n",
       "      <td>Ceci est, cependant, une porte conçue avec du ...</td>\n",
       "      <td>Ceci est un lieu d'habitation qui contient un ...</td>\n",
       "    </tr>\n",
       "    <tr>\n",
       "      <th>13</th>\n",
       "      <td>Samba?</td>\n",
       "      <td>Samba?</td>\n",
       "      <td>De quelle manière?</td>\n",
       "    </tr>\n",
       "    <tr>\n",
       "      <th>109</th>\n",
       "      <td>Nataal bi ngeen ma yónne nii de ñaari baŋ lañ ...</td>\n",
       "      <td>Sur la photo que vous m'avez envoyée il y a de...</td>\n",
       "      <td>Sur la photo que vous m'avez envoyée, il y a u...</td>\n",
       "    </tr>\n",
       "    <tr>\n",
       "      <th>72</th>\n",
       "      <td>Waxtaan ak kenn kan?</td>\n",
       "      <td>Converser avec lequel?</td>\n",
       "      <td>Tu aurais conversé avec qui d'autre?</td>\n",
       "    </tr>\n",
       "    <tr>\n",
       "      <th>19</th>\n",
       "      <td>Gis naa xar mu góor ma.</td>\n",
       "      <td>J'ai vu l'ovin mâle.</td>\n",
       "      <td>J'ai vu le mouton mâle.</td>\n",
       "    </tr>\n",
       "    <tr>\n",
       "      <th>190</th>\n",
       "      <td>Nileen ka.</td>\n",
       "      <td>Dites-lui.</td>\n",
       "      <td>Dites-leur.</td>\n",
       "    </tr>\n",
       "    <tr>\n",
       "      <th>56</th>\n",
       "      <td>Ñan lañu?</td>\n",
       "      <td>Qui sont-ils?</td>\n",
       "      <td>Qui est-ce d'autres?</td>\n",
       "    </tr>\n",
       "    <tr>\n",
       "      <th>8</th>\n",
       "      <td>Moo bëgg.</td>\n",
       "      <td>C'est lui qui aime.</td>\n",
       "      <td>C'est lui qui avait été.</td>\n",
       "    </tr>\n",
       "    <tr>\n",
       "      <th>177</th>\n",
       "      <td>Kenn ki woon dem na.</td>\n",
       "      <td>L'un, dont il fut question, est parti.</td>\n",
       "      <td>L'autre homme est parti.</td>\n",
       "    </tr>\n",
       "    <tr>\n",
       "      <th>145</th>\n",
       "      <td>Gis naa nagu Tugël.</td>\n",
       "      <td>J'ai vu vache d'Europe.</td>\n",
       "      <td>J'ai vu une vache d'Europe.</td>\n",
       "    </tr>\n",
       "    <tr>\n",
       "      <th>98</th>\n",
       "      <td>Aw lawbe la.</td>\n",
       "      <td>C'est un bûcheron.</td>\n",
       "      <td>C'est un bûcheron.</td>\n",
       "    </tr>\n",
       "    <tr>\n",
       "      <th>196</th>\n",
       "      <td>Bunt yi yépp a tëjju woon.</td>\n",
       "      <td>Toutes les portes étaient ouvertes.</td>\n",
       "      <td>Tous leurs enfants ont survécu.</td>\n",
       "    </tr>\n",
       "    <tr>\n",
       "      <th>160</th>\n",
       "      <td>Menn la.</td>\n",
       "      <td>Un, il est.</td>\n",
       "      <td>Il est unique.</td>\n",
       "    </tr>\n",
       "    <tr>\n",
       "      <th>16</th>\n",
       "      <td>Lii lan?</td>\n",
       "      <td>Quoi?</td>\n",
       "      <td>Cela quoi?</td>\n",
       "    </tr>\n",
       "    <tr>\n",
       "      <th>63</th>\n",
       "      <td>Jigéen ñan ñoo réer?</td>\n",
       "      <td>Quelles femmes se sont égarées?</td>\n",
       "      <td>Quelles personnes se sont égarées?</td>\n",
       "    </tr>\n",
       "    <tr>\n",
       "      <th>86</th>\n",
       "      <td>Dem nañu.</td>\n",
       "      <td>Ils partent.</td>\n",
       "      <td>Nous partons.</td>\n",
       "    </tr>\n",
       "    <tr>\n",
       "      <th>149</th>\n",
       "      <td>Menn xar réerul.</td>\n",
       "      <td>Aucun mouton ne s'est égaré.</td>\n",
       "      <td>Aucun mouton ne s'est égaré.</td>\n",
       "    </tr>\n",
       "    <tr>\n",
       "      <th>58</th>\n",
       "      <td>Waxal ci ñii!</td>\n",
       "      <td>Parle au sujet de ceux-ci!</td>\n",
       "      <td>Oui à l'intérieur!</td>\n",
       "    </tr>\n",
       "    <tr>\n",
       "      <th>81</th>\n",
       "      <td>Dina jot ay dimbali yu bari.</td>\n",
       "      <td>Il reçoit beaucoup d'aide.</td>\n",
       "      <td>Il reçoit de l'aide pour ses repas et ses.</td>\n",
       "    </tr>\n",
       "    <tr>\n",
       "      <th>28</th>\n",
       "      <td>Seetil fas yépp!</td>\n",
       "      <td>Va voir tous les chevaux!</td>\n",
       "      <td>Va voir tous les vaches!</td>\n",
       "    </tr>\n",
       "    <tr>\n",
       "      <th>99</th>\n",
       "      <td>Laobe ŋgeen woon.</td>\n",
       "      <td>Vous fûtes Laobé.</td>\n",
       "      <td>Ils furent Laobé.</td>\n",
       "    </tr>\n",
       "    <tr>\n",
       "      <th>118</th>\n",
       "      <td>Naka ngon si.</td>\n",
       "      <td>Bonne soirée.</td>\n",
       "      <td>Comment se passes la soirée.</td>\n",
       "    </tr>\n",
       "    <tr>\n",
       "      <th>96</th>\n",
       "      <td>Xaritam la!</td>\n",
       "      <td>C'est son ami!</td>\n",
       "      <td>C'est un mouton!</td>\n",
       "    </tr>\n",
       "    <tr>\n",
       "      <th>89</th>\n",
       "      <td>Góor gi dem Rao?</td>\n",
       "      <td>L'homme peut-il aller à Rao?</td>\n",
       "      <td>L'homme peut-il partir de Rao?</td>\n",
       "    </tr>\n",
       "    <tr>\n",
       "      <th>169</th>\n",
       "      <td>Waaw ba tey lii de gis naa ne ag daamar, daama...</td>\n",
       "      <td>Oui encore, je vois que ceci est une automobil...</td>\n",
       "      <td>Oui sur cette photo ci aussi, j'y ai vu des na...</td>\n",
       "    </tr>\n",
       "  </tbody>\n",
       "</table>\n",
       "</div>"
      ],
      "text/plain": [
       "                                    original_sentences  \\\n",
       "79                                    Laobe lanu woon.   \n",
       "48                       Képp ku dem, kooku raggal la.   \n",
       "68                                          Bu ñu dem!   \n",
       "38                Góor gi egg na wanté tardé na tuuti.   \n",
       "60        Mangui lay ndokkel ci sa bess bu délu si bi.   \n",
       "40                                       Ma ŋgii toog.   \n",
       "100                                      Moo di loola!   \n",
       "54   Degganté ñu ñoom ñép ci lu ñép di liggéeyi ci ...   \n",
       "52                            Moontin dey, gis naa ka.   \n",
       "127                                          Dama dem.   \n",
       "141                                           Koo gis?   \n",
       "59                                     Te ŋga dem kat!   \n",
       "123                         Wool xale yi dul dem fenn.   \n",
       "147                            Kooka ak kile, bokkuñu!   \n",
       "130                                 Ana boroom kër gi?   \n",
       "74   Waaw nataal bi de, ay xeer la yoo xam ni dañ d...   \n",
       "162                              Waxal góor gi mu dem!   \n",
       "119  Sëriñ bi ñaan na mayewoon alalam ji ba mënkóon...   \n",
       "166                            Wattaliwuma la ka woon.   \n",
       "163                                    Naka ligéey bi?   \n",
       "47                               Bëgg naa góor gi ñëw.   \n",
       "102  Nataal bii gis naa ci ab néegu ñax bu nekk cib...   \n",
       "65                                          Dem ŋgeen.   \n",
       "50                                     Demuma fa woon.   \n",
       "105                                  Na dem su bëggul!   \n",
       "90                      Foofu la ba ba ñuy gis feneen.   \n",
       "110                                   Moo di Lawbe bi.   \n",
       "167  Jigéen ji ñaan na ndax xale yi agg te itam see...   \n",
       "95   Dafa ma meloon nii man rek maa amoon numero bo...   \n",
       "78                                 Su góor gi dee ñëw.   \n",
       "37                                   Kile nit laa wax.   \n",
       "77                                             Ñan la?   \n",
       "62                                   Maaleekum salaam.   \n",
       "161                                     Tay danaa dem!   \n",
       "188                             Joxal kenn liggéey bi!   \n",
       "153                               Bëcëk baangi fi rek.   \n",
       "122  Nataal bi ab nataal la boo xamante yni maa ngi...   \n",
       "6                                     Yaw mile mi fii!   \n",
       "1                                Xammee ŋga waa jooju?   \n",
       "23                                  Waa jii moo demul.   \n",
       "106                                   Ni ka bu mu ñëw.   \n",
       "143                                 Seet ŋga néeg buu?   \n",
       "175                       Li ŋga wax la ndaw si taamu.   \n",
       "164       Bëgg naa ci juróomi waxtu, ci subë, ŋga ñëw!   \n",
       "135                                Gis naa nagu Tugal.   \n",
       "134           Musaa wax na leen jël naa sama retraite.   \n",
       "159                           Góor gi may na dara nit.   \n",
       "124                                   Séen naa ak nit.   \n",
       "10                                     Gis naa gaynde.   \n",
       "26                                      Gis ŋga kooku?   \n",
       "45                              Mu japp nag yooyu yan?   \n",
       "128                              Bii néeg ban ŋga wax?   \n",
       "115                                   Góor gii demoon.   \n",
       "4                                         Du sabar gi!   \n",
       "192                                  Gis ŋga nit kale?   \n",
       "178                               Góor gi may na Bacc.   \n",
       "57                                                Wau.   \n",
       "15   Nataal bii nag moom benn pañe la. Lu ëpp liñ k...   \n",
       "121                                           Du kenn.   \n",
       "183                        Waaye man sax dama dul ñëw!   \n",
       "5                                 Nit ñi daawuñu coow.   \n",
       "76          Ci Séeréer si, ci Pël yi, ci Ñomiŋka yi...   \n",
       "158               Yan fas ŋga bëggoon ak wan ŋga japp?   \n",
       "82                                    Gis naa xale ba.   \n",
       "7                                    Su dulwoon Lawbe.   \n",
       "113                                    Góor gi du bày.   \n",
       "20   Waaw lii nag ay néegi ñax la, néegi ñax bi ci ...   \n",
       "94                        Liggéeykat yi man ag yaw la.   \n",
       "14                                    Jaam nga fanane.   \n",
       "42                             Ñooñu ñépp woon demuñu.   \n",
       "146                                   Ba fi, mu tollu.   \n",
       "170            Ramona dafa doon ma atte te waxul dara.   \n",
       "87                                      Na gor gi dem.   \n",
       "64                                      Moo demkoonul.   \n",
       "55                                   Seetal beneen bi.   \n",
       "107  Lii nag ab buntu la boo xam ne ndénk lanu ko d...   \n",
       "13                                              Samba?   \n",
       "109  Nataal bi ngeen ma yónne nii de ñaari baŋ lañ ...   \n",
       "72                                Waxtaan ak kenn kan?   \n",
       "19                             Gis naa xar mu góor ma.   \n",
       "190                                         Nileen ka.   \n",
       "56                                           Ñan lañu?   \n",
       "8                                            Moo bëgg.   \n",
       "177                               Kenn ki woon dem na.   \n",
       "145                                Gis naa nagu Tugël.   \n",
       "98                                        Aw lawbe la.   \n",
       "196                         Bunt yi yépp a tëjju woon.   \n",
       "160                                           Menn la.   \n",
       "16                                            Lii lan?   \n",
       "63                                Jigéen ñan ñoo réer?   \n",
       "86                                           Dem nañu.   \n",
       "149                                   Menn xar réerul.   \n",
       "58                                       Waxal ci ñii!   \n",
       "81                        Dina jot ay dimbali yu bari.   \n",
       "28                                    Seetil fas yépp!   \n",
       "99                                   Laobe ŋgeen woon.   \n",
       "118                                      Naka ngon si.   \n",
       "96                                         Xaritam la!   \n",
       "89                                    Góor gi dem Rao?   \n",
       "169  Waaw ba tey lii de gis naa ne ag daamar, daama...   \n",
       "\n",
       "                                          translations  \\\n",
       "79                                   Nous fûmes Laobé.   \n",
       "48       Quiconque s'en va, celui-là est un froussard.   \n",
       "68                              Qu'ils ne partent pas!   \n",
       "38                Le gars est arrivé un peu en retard.   \n",
       "60                           Mes voeux d'anniversaire.   \n",
       "40                              Le voilà assis là-bas.   \n",
       "100                                        Quel démon!   \n",
       "54   Ils ont tous convenu qu'ils travailleraient to...   \n",
       "52                            Et pourtant, je l'ai vu.   \n",
       "127                  C'est que j'ai effectivement été.   \n",
       "141                                      Qui as-tu vu?   \n",
       "59                                       Surtout pars!   \n",
       "123        Appelle les enfants qui n'iront nulle part.   \n",
       "147         Celui-là et celui-ci n'ont rien de commun!   \n",
       "130                        Où est le maître de maison?   \n",
       "74   Sur cette photo ci, il y a des pierres qui son...   \n",
       "162                           Dis à l'homme de partir!   \n",
       "119  Le marabout implora qu'il fût dans la situatio...   \n",
       "166                 Je n'avais pas été te le cueillir.   \n",
       "163                       Comment se passe le travail?   \n",
       "47                         Je veux que l'homme vienne.   \n",
       "102  Sur cette photo j'y ai vu une case qui se trou...   \n",
       "65                                   Vous êtes partis.   \n",
       "50                               Je n'y avais pas été.   \n",
       "105                      Qu'il parte s'il ne veut pas!   \n",
       "90   C'est là jusqu'au moment où nous trouverons un...   \n",
       "110                                    C'est le Laobe.   \n",
       "167  La femme pria pour que les enfants arrivent et...   \n",
       "95   J'avais l'impression d'être le seul à avoir ce...   \n",
       "78                              Si l'homme doit venir.   \n",
       "37                           Je parle de cet homme-ci.   \n",
       "77                                        Qui sont-ce?   \n",
       "62                    Que la paix soit avec toi aussi.   \n",
       "161                                J'irai aujourd'hui!   \n",
       "188                       Donne le travail à un autre!   \n",
       "153                        L'après-midi se passe bien.   \n",
       "122  Cette photo ci c'est une photo sur laquelle je...   \n",
       "6                                     À toi qui es-là!   \n",
       "1                        Tu reconnais cet individu-là?   \n",
       "23                         Cette personne n'a pas été.   \n",
       "106                       Dis-lui qu'il ne vienne pas.   \n",
       "143               Tu as regardé dans cette chambre-ci?   \n",
       "175  C'est ce que tu as dit que la jeune femme préf...   \n",
       "164  Je veux que tu viennes le matin à cinq heures ...   \n",
       "135                            J'ai vu vache d'Europe.   \n",
       "134       Moussa vous a dit que j'étais à la retraite.   \n",
       "159         L'homme a donné quelque chose à quelqu'un.   \n",
       "124                              J'ai aperçu un homme.   \n",
       "10                                       J'ai vu lion.   \n",
       "26                                  Tu as vu celui-ci?   \n",
       "45                      Qu'il attrappe quelles vaches?   \n",
       "128                  Tu parles de quelle maison (ici)?   \n",
       "115                         Cet homme qui était parti.   \n",
       "4                             Ce n'est pas le tambour!   \n",
       "192                          Tu vois cet homme là-bas?   \n",
       "178                  L'homme a fait un cadeau à Bathe.   \n",
       "57                                                Oui.   \n",
       "15   Sur cette photo ci cependant, il y a un panier...   \n",
       "121                                 Ce n'est personne.   \n",
       "183                   Mais, même moi, je n'ai pas été!   \n",
       "5     Les gens n'étaient pas, habituellement, bavards.   \n",
       "76          Chez les Sérère, les Peul, les Niominka...   \n",
       "158     Quels chevaux voulais-tu et lequel as-tu pris?   \n",
       "82                                   J'ai vu l'enfant.   \n",
       "7                              S'il n'était pas Laobe.   \n",
       "113                          L'homme ne cultivera pas.   \n",
       "20   Ceux-là, cependant, sont des cases. Celle qui ...   \n",
       "94                  Les travailleurs c'est toi et moi.   \n",
       "14                                          Bon matin.   \n",
       "42                    Tous ceux-là ne sont pas partis.   \n",
       "146                              Jusqu'ici, c'est bon.   \n",
       "170                 Ramona me jugeait silencieusement.   \n",
       "87                                  Que l'homme parte.   \n",
       "64                        C'est lui qui n'eût pas été.   \n",
       "55                                    Cherche l'autre.   \n",
       "107  Ceci est, cependant, une porte conçue avec du ...   \n",
       "13                                              Samba?   \n",
       "109  Sur la photo que vous m'avez envoyée il y a de...   \n",
       "72                              Converser avec lequel?   \n",
       "19                                J'ai vu l'ovin mâle.   \n",
       "190                                         Dites-lui.   \n",
       "56                                       Qui sont-ils?   \n",
       "8                                  C'est lui qui aime.   \n",
       "177             L'un, dont il fut question, est parti.   \n",
       "145                            J'ai vu vache d'Europe.   \n",
       "98                                  C'est un bûcheron.   \n",
       "196                Toutes les portes étaient ouvertes.   \n",
       "160                                        Un, il est.   \n",
       "16                                               Quoi?   \n",
       "63                     Quelles femmes se sont égarées?   \n",
       "86                                        Ils partent.   \n",
       "149                       Aucun mouton ne s'est égaré.   \n",
       "58                          Parle au sujet de ceux-ci!   \n",
       "81                          Il reçoit beaucoup d'aide.   \n",
       "28                           Va voir tous les chevaux!   \n",
       "99                                   Vous fûtes Laobé.   \n",
       "118                                      Bonne soirée.   \n",
       "96                                      C'est son ami!   \n",
       "89                        L'homme peut-il aller à Rao?   \n",
       "169  Oui encore, je vois que ceci est une automobil...   \n",
       "\n",
       "                                           predictions  \n",
       "79                              Ils ont été bûcherons.  \n",
       "48                       C'est un autre qui est parti.  \n",
       "68                                     Ne partons pas!  \n",
       "38                           L'homme a causé avec toi.  \n",
       "60                             Mes voeux de nouvel an.  \n",
       "40                                 Voila que j'ai été.  \n",
       "100                                         Quel être!  \n",
       "54   Nous ne nous soucions pas de sauver quoi que c...  \n",
       "52               Et pourtant, j'ai vu celui que voilà.  \n",
       "127                                C'est que j'ai été.  \n",
       "141                                       Qu'as-tu vu?  \n",
       "59                                 Et tu n'as pas été!  \n",
       "123                  Appelle celui-là qui ne part pas.  \n",
       "147      Celui-là et celui-ci ne se ressemble en rien!  \n",
       "130                 Où sont les membres de ta famille?  \n",
       "74   Ceux-ci sont, semble-t-il, des paniers de cour...  \n",
       "162                         Dis à l'homme qu'il parte!  \n",
       "119  Le maître souhaiterait avoir donné toute sa fo...  \n",
       "166                               Je ne te voyait pas.  \n",
       "163                       Comment se passes la soirée?  \n",
       "47                      Je crois qu'il ne viendra pas.  \n",
       "102  J'ai vu à l'intérieur de la photo, j'ai vu tro...  \n",
       "65                                        Vous partez.  \n",
       "50                                      Je n'irai pas.  \n",
       "105                              S'ils ne veulent pas!  \n",
       "90                   C'est un brave à n'en pas douter.  \n",
       "110                                  C'est l'étudiant.  \n",
       "167  La dame voudrait bien que les enfants soient c...  \n",
       "95   Je n'en parlerai pas, même s'il y a beaucoup à...  \n",
       "78                                   Si l'homme vient.  \n",
       "37                           Je parle de cet homme là.  \n",
       "77                                         Qui est-ce?  \n",
       "62                                         Bon voyage.  \n",
       "161                           Aujourd'hui, c'est cela!  \n",
       "188                       Donne deux fois rien que là!  \n",
       "153                          La matinée se passe bien.  \n",
       "122  Sur cette photo ci, j'y vois des gendarmes por...  \n",
       "6                                    Nous voilà assis!  \n",
       "1                      Tu reconnais cette personne-là?  \n",
       "23          Cet autre endroit où il y avait une fuite.  \n",
       "106                           Chez celui qu'il vienne.  \n",
       "143               Tu as regardé dans cette chambre-ci?  \n",
       "175                                  Ce que tu as dit.  \n",
       "164  Je veux que tu viennes, dans ce matin, ce jour...  \n",
       "135                        J'ai vu une vache d'Europe.  \n",
       "134                            Il ne dit rien de cela.  \n",
       "159         L'homme a donné quelque chose à quelqu'un.  \n",
       "124                            J'ai aperçu une maison.  \n",
       "10                                    J'ai vu un lion.  \n",
       "26                                  Tu as vu celui-là?  \n",
       "45                            Nous ne va mal avec eux?  \n",
       "128                        Tu parles de quelle maison?  \n",
       "115                         Cet homme qui avait voulu.  \n",
       "4                                         Le Monsieur!  \n",
       "192                                  Tu as vu l'homme?  \n",
       "178         L'homme a donné quelque chose à quelqu'un.  \n",
       "57                                                Oui.  \n",
       "15   Sur cette photo il y a le Capitaine Seydina Om...  \n",
       "121                             Ce n'est pas un homme.  \n",
       "183                Mais, même moi, je ne viendrai pas!  \n",
       "5     Certaines personnes ne sont pas encore arrivées.  \n",
       "76                        Chez les Sérère et les Peul.  \n",
       "158                            Tu te battais avec qui?  \n",
       "82                         J'ai vu une vache d'Europe.  \n",
       "7                                S'il n'avait pas été.  \n",
       "113                                   L'homme cultive.  \n",
       "20   Ceux-ci sont de vieilles cases à l'intérieur d...  \n",
       "94                        Les travailleurs c'est nous.  \n",
       "14                                      Bonne matinée.  \n",
       "42               Tous les autres gendarmes sont venus.  \n",
       "146                          Là, où il a fait un trou.  \n",
       "170              Il n'y a personne qui puisse m'aider.  \n",
       "87                              L'homme qui est parti.  \n",
       "64                          C'est lui qui serait allé.  \n",
       "55                          Cherche-les à l'intérieur.  \n",
       "107  Ceci est un lieu d'habitation qui contient un ...  \n",
       "13                                  De quelle manière?  \n",
       "109  Sur la photo que vous m'avez envoyée, il y a u...  \n",
       "72                Tu aurais conversé avec qui d'autre?  \n",
       "19                             J'ai vu le mouton mâle.  \n",
       "190                                        Dites-leur.  \n",
       "56                                Qui est-ce d'autres?  \n",
       "8                             C'est lui qui avait été.  \n",
       "177                           L'autre homme est parti.  \n",
       "145                        J'ai vu une vache d'Europe.  \n",
       "98                                  C'est un bûcheron.  \n",
       "196                    Tous leurs enfants ont survécu.  \n",
       "160                                     Il est unique.  \n",
       "16                                          Cela quoi?  \n",
       "63                  Quelles personnes se sont égarées?  \n",
       "86                                       Nous partons.  \n",
       "149                       Aucun mouton ne s'est égaré.  \n",
       "58                                  Oui à l'intérieur!  \n",
       "81          Il reçoit de l'aide pour ses repas et ses.  \n",
       "28                            Va voir tous les vaches!  \n",
       "99                                   Ils furent Laobé.  \n",
       "118                       Comment se passes la soirée.  \n",
       "96                                    C'est un mouton!  \n",
       "89                      L'homme peut-il partir de Rao?  \n",
       "169  Oui sur cette photo ci aussi, j'y ai vu des na...  "
      ]
     },
     "execution_count": 16,
     "metadata": {},
     "output_type": "execute_result"
    }
   ],
   "source": [
    "# let us display 100 samples\n",
    "pd.options.display.max_rows = 100\n",
    "df_ft_to_wf[1].sample(100)"
   ]
  }
 ],
 "metadata": {
  "accelerator": "GPU",
  "colab": {
   "gpuType": "T4",
   "provenance": []
  },
  "gpuClass": "standard",
  "kernelspec": {
   "display_name": "pytorch1-HleOW5am-py3.10",
   "language": "python",
   "name": "python3"
  },
  "language_info": {
   "codemirror_mode": {
    "name": "ipython",
    "version": 3
   },
   "file_extension": ".py",
   "mimetype": "text/x-python",
   "name": "python",
   "nbconvert_exporter": "python",
   "pygments_lexer": "ipython3",
   "version": "3.10.8"
  },
  "widgets": {
   "application/vnd.jupyter.widget-state+json": {
    "07b148611e0445068ec4ae2a289f968d": {
     "model_module": "@jupyter-widgets/base",
     "model_module_version": "1.2.0",
     "model_name": "LayoutModel",
     "state": {
      "_model_module": "@jupyter-widgets/base",
      "_model_module_version": "1.2.0",
      "_model_name": "LayoutModel",
      "_view_count": null,
      "_view_module": "@jupyter-widgets/base",
      "_view_module_version": "1.2.0",
      "_view_name": "LayoutView",
      "align_content": null,
      "align_items": null,
      "align_self": null,
      "border": null,
      "bottom": null,
      "display": null,
      "flex": null,
      "flex_flow": null,
      "grid_area": null,
      "grid_auto_columns": null,
      "grid_auto_flow": null,
      "grid_auto_rows": null,
      "grid_column": null,
      "grid_gap": null,
      "grid_row": null,
      "grid_template_areas": null,
      "grid_template_columns": null,
      "grid_template_rows": null,
      "height": null,
      "justify_content": null,
      "justify_items": null,
      "left": null,
      "margin": null,
      "max_height": null,
      "max_width": null,
      "min_height": null,
      "min_width": null,
      "object_fit": null,
      "object_position": null,
      "order": null,
      "overflow": null,
      "overflow_x": null,
      "overflow_y": null,
      "padding": null,
      "right": null,
      "top": null,
      "visibility": null,
      "width": null
     }
    },
    "08fc0c2dc9b94689b80e085b682e54a5": {
     "model_module": "@jupyter-widgets/controls",
     "model_module_version": "1.5.0",
     "model_name": "LabelModel",
     "state": {
      "_dom_classes": [],
      "_model_module": "@jupyter-widgets/controls",
      "_model_module_version": "1.5.0",
      "_model_name": "LabelModel",
      "_view_count": null,
      "_view_module": "@jupyter-widgets/controls",
      "_view_module_version": "1.5.0",
      "_view_name": "LabelView",
      "description": "",
      "description_tooltip": null,
      "layout": "IPY_MODEL_07b148611e0445068ec4ae2a289f968d",
      "placeholder": "​",
      "style": "IPY_MODEL_4b5ea7f279854a01aaa4f5043372df2d",
      "value": "0.009 MB of 0.009 MB uploaded (0.000 MB deduped)\r"
     }
    },
    "347e2725b013421a951237d46b26d5e3": {
     "model_module": "@jupyter-widgets/controls",
     "model_module_version": "1.5.0",
     "model_name": "ProgressStyleModel",
     "state": {
      "_model_module": "@jupyter-widgets/controls",
      "_model_module_version": "1.5.0",
      "_model_name": "ProgressStyleModel",
      "_view_count": null,
      "_view_module": "@jupyter-widgets/base",
      "_view_module_version": "1.2.0",
      "_view_name": "StyleView",
      "bar_color": null,
      "description_width": ""
     }
    },
    "378d2507f5d5418681817fdbe4f227fd": {
     "model_module": "@jupyter-widgets/base",
     "model_module_version": "1.2.0",
     "model_name": "LayoutModel",
     "state": {
      "_model_module": "@jupyter-widgets/base",
      "_model_module_version": "1.2.0",
      "_model_name": "LayoutModel",
      "_view_count": null,
      "_view_module": "@jupyter-widgets/base",
      "_view_module_version": "1.2.0",
      "_view_name": "LayoutView",
      "align_content": null,
      "align_items": null,
      "align_self": null,
      "border": null,
      "bottom": null,
      "display": null,
      "flex": null,
      "flex_flow": null,
      "grid_area": null,
      "grid_auto_columns": null,
      "grid_auto_flow": null,
      "grid_auto_rows": null,
      "grid_column": null,
      "grid_gap": null,
      "grid_row": null,
      "grid_template_areas": null,
      "grid_template_columns": null,
      "grid_template_rows": null,
      "height": null,
      "justify_content": null,
      "justify_items": null,
      "left": null,
      "margin": null,
      "max_height": null,
      "max_width": null,
      "min_height": null,
      "min_width": null,
      "object_fit": null,
      "object_position": null,
      "order": null,
      "overflow": null,
      "overflow_x": null,
      "overflow_y": null,
      "padding": null,
      "right": null,
      "top": null,
      "visibility": null,
      "width": null
     }
    },
    "4b5ea7f279854a01aaa4f5043372df2d": {
     "model_module": "@jupyter-widgets/controls",
     "model_module_version": "1.5.0",
     "model_name": "DescriptionStyleModel",
     "state": {
      "_model_module": "@jupyter-widgets/controls",
      "_model_module_version": "1.5.0",
      "_model_name": "DescriptionStyleModel",
      "_view_count": null,
      "_view_module": "@jupyter-widgets/base",
      "_view_module_version": "1.2.0",
      "_view_name": "StyleView",
      "description_width": ""
     }
    },
    "4d964dc7e08d48f0be400d45c09f16e8": {
     "model_module": "@jupyter-widgets/base",
     "model_module_version": "1.2.0",
     "model_name": "LayoutModel",
     "state": {
      "_model_module": "@jupyter-widgets/base",
      "_model_module_version": "1.2.0",
      "_model_name": "LayoutModel",
      "_view_count": null,
      "_view_module": "@jupyter-widgets/base",
      "_view_module_version": "1.2.0",
      "_view_name": "LayoutView",
      "align_content": null,
      "align_items": null,
      "align_self": null,
      "border": null,
      "bottom": null,
      "display": null,
      "flex": null,
      "flex_flow": null,
      "grid_area": null,
      "grid_auto_columns": null,
      "grid_auto_flow": null,
      "grid_auto_rows": null,
      "grid_column": null,
      "grid_gap": null,
      "grid_row": null,
      "grid_template_areas": null,
      "grid_template_columns": null,
      "grid_template_rows": null,
      "height": null,
      "justify_content": null,
      "justify_items": null,
      "left": null,
      "margin": null,
      "max_height": null,
      "max_width": null,
      "min_height": null,
      "min_width": null,
      "object_fit": null,
      "object_position": null,
      "order": null,
      "overflow": null,
      "overflow_x": null,
      "overflow_y": null,
      "padding": null,
      "right": null,
      "top": null,
      "visibility": null,
      "width": null
     }
    },
    "abcbe273e5604d2383a7a1f03e79c682": {
     "model_module": "@jupyter-widgets/controls",
     "model_module_version": "1.5.0",
     "model_name": "VBoxModel",
     "state": {
      "_dom_classes": [],
      "_model_module": "@jupyter-widgets/controls",
      "_model_module_version": "1.5.0",
      "_model_name": "VBoxModel",
      "_view_count": null,
      "_view_module": "@jupyter-widgets/controls",
      "_view_module_version": "1.5.0",
      "_view_name": "VBoxView",
      "box_style": "",
      "children": [
       "IPY_MODEL_08fc0c2dc9b94689b80e085b682e54a5",
       "IPY_MODEL_bb425d8fef6e41f4bc1f1097477d1502"
      ],
      "layout": "IPY_MODEL_378d2507f5d5418681817fdbe4f227fd"
     }
    },
    "bb425d8fef6e41f4bc1f1097477d1502": {
     "model_module": "@jupyter-widgets/controls",
     "model_module_version": "1.5.0",
     "model_name": "FloatProgressModel",
     "state": {
      "_dom_classes": [],
      "_model_module": "@jupyter-widgets/controls",
      "_model_module_version": "1.5.0",
      "_model_name": "FloatProgressModel",
      "_view_count": null,
      "_view_module": "@jupyter-widgets/controls",
      "_view_module_version": "1.5.0",
      "_view_name": "ProgressView",
      "bar_style": "",
      "description": "",
      "description_tooltip": null,
      "layout": "IPY_MODEL_4d964dc7e08d48f0be400d45c09f16e8",
      "max": 1,
      "min": 0,
      "orientation": "horizontal",
      "style": "IPY_MODEL_347e2725b013421a951237d46b26d5e3",
      "value": 1
     }
    }
   }
  }
 },
 "nbformat": 4,
 "nbformat_minor": 4
}
