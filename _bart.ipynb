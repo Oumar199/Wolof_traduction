{
 "cells": [
  {
   "attachments": {},
   "cell_type": "markdown",
   "metadata": {},
   "source": [
    "Bart experimenting with Hugging Face\n",
    "---------------------"
   ]
  },
  {
   "attachments": {},
   "cell_type": "markdown",
   "metadata": {},
   "source": [
    "Let us import the Bart tokenizer and pre-trained model."
   ]
  },
  {
   "cell_type": "code",
   "execution_count": 1,
   "metadata": {},
   "outputs": [
    {
     "name": "stderr",
     "output_type": "stream",
     "text": [
      "c:\\Users\\Oumar Kane\\AppData\\Local\\pypoetry\\Cache\\virtualenvs\\pytorch1-HleOW5am-py3.10\\lib\\site-packages\\tqdm\\auto.py:22: TqdmWarning: IProgress not found. Please update jupyter and ipywidgets. See https://ipywidgets.readthedocs.io/en/stable/user_install.html\n",
      "  from .autonotebook import tqdm as notebook_tqdm\n"
     ]
    }
   ],
   "source": [
    "from transformers import BartForConditionalGeneration, BartTokenizerFast\n",
    "import pandas as pd"
   ]
  },
  {
   "attachments": {},
   "cell_type": "markdown",
   "metadata": {},
   "source": [
    "### Tokenization"
   ]
  },
  {
   "attachments": {},
   "cell_type": "markdown",
   "metadata": {},
   "source": [
    "Let us see how bart tokenize (pre-process) the text."
   ]
  },
  {
   "cell_type": "code",
   "execution_count": 3,
   "metadata": {},
   "outputs": [
    {
     "name": "stdout",
     "output_type": "stream",
     "text": [
      "Here the decoded tokens\n",
      "['<s>I like eating cupcakes.</s>']\n",
      "\n",
      "Here the ids and padding mask\n",
      "{'input_ids': tensor([[    0,   100,   101,  4441,  4946, 33579,     4,     2]]), 'attention_mask': tensor([[1, 1, 1, 1, 1, 1, 1, 1]])}\n"
     ]
    }
   ],
   "source": [
    "# let us use the following text from the tutorial at https://huggingface.co/docs/transformers/model_doc/bart#transformers.BartForConditionalGeneration\n",
    "text = \"I like eating cupcakes.\"\n",
    "\n",
    "# let us load the tokenizer\n",
    "tokenizer = BartTokenizerFast.from_pretrained(\"facebook/bart-base\")\n",
    "\n",
    "# let us tokenize the text\n",
    "encoded_input = tokenizer(text, return_tensors = 'pt') # return torch tensor\n",
    "\n",
    "# print the result\n",
    "print(\"Here the decoded tokens\")\n",
    "print([tokenizer.decode(token) for token in encoded_input['input_ids']])\n",
    "\n",
    "print(\"\\nHere the ids and padding mask\")\n",
    "print(encoded_input)"
   ]
  },
  {
   "attachments": {},
   "cell_type": "markdown",
   "metadata": {},
   "source": [
    "Let us verify the special ids."
   ]
  },
  {
   "cell_type": "code",
   "execution_count": 4,
   "metadata": {},
   "outputs": [
    {
     "data": {
      "text/plain": [
       "[0, 2, 3, 1, 50264]"
      ]
     },
     "execution_count": 4,
     "metadata": {},
     "output_type": "execute_result"
    }
   ],
   "source": [
    "tokenizer.all_special_ids "
   ]
  },
  {
   "attachments": {},
   "cell_type": "markdown",
   "metadata": {},
   "source": [
    "Let us verify the tokens of the special ids."
   ]
  },
  {
   "cell_type": "code",
   "execution_count": 5,
   "metadata": {},
   "outputs": [
    {
     "data": {
      "text/plain": [
       "['<s>', '</s>', '<unk>', '<pad>', '<mask>']"
      ]
     },
     "execution_count": 5,
     "metadata": {},
     "output_type": "execute_result"
    }
   ],
   "source": [
    "tokenizer.convert_ids_to_tokens(tokenizer.all_special_ids)"
   ]
  },
  {
   "attachments": {},
   "cell_type": "markdown",
   "metadata": {},
   "source": [
    "It tokenize the text with a tokenizer trained on a english vocabulary and give us the corresponding attention mask."
   ]
  },
  {
   "attachments": {},
   "cell_type": "markdown",
   "metadata": {},
   "source": [
    "Let us import the extracted sentences and try to tokenize some of them and print the results."
   ]
  },
  {
   "cell_type": "code",
   "execution_count": 3,
   "metadata": {},
   "outputs": [],
   "source": [
    "sentences = pd.read_csv(\"data/extractions/new_data/sent_extraction.csv\")"
   ]
  },
  {
   "cell_type": "code",
   "execution_count": 4,
   "metadata": {},
   "outputs": [
    {
     "data": {
      "text/plain": [
       "{311: {'french_corpus': \"À l'âge de trente ans, mon père quitte Southampton à bord d'un cargo mixte à destination de Georgetown, en Guyane britannique.\",\n",
       "  'wolof_corpus': 'Ci fànweeri atam la Baay jël gaal, jóge Saawusamton jëm Sorstaawun, ca Guwiyaan ba newoon ci loxoy Àngale yi.'},\n",
       " 143: {'french_corpus': \"Comment l'avons-nous su ? Peut-être par mon père, ou bien par un des garçons du village.\",\n",
       "  'wolof_corpus': 'Naka lanu def ba xam ko ci saa si ci lu amul benn laam-laamee ? Ndax Baay a nu ko waxoon mbaa kenn ci goney Ogosaa yi ?'},\n",
       " 320: {'french_corpus': \"Pendant sept ans il étudie à Londres, d'abord dans une école d'ingénieur, puis à la faculté de médecine.\",\n",
       "  'wolof_corpus': 'Lu tollook juróom-ňaari at, mu nekk Londar di jàng. Eñseñeer la jëkkon a bëgg nekk waaye dafa ca mujjee génn, daldi taamu njàngum faj.'},\n",
       " 19: {'french_corpus': 'Le sexe des garçons, leur gland rose circoncis.',\n",
       "  'wolof_corpus': 'Cucu gone yi ñu xarafal ak seen ndéeň lu xonq.'},\n",
       " 73: {'french_corpus': \"Une force électrique qu'il me fallait accepter, apprivoiser, et pour laquelle ma mère avait inventé un jeu, compter les secondes qui nous séparaient de l'impact de la foudre, l'entendre venir kilomètre après kilomètre, puis s'éloigner vers les montagnes.\",\n",
       "  'wolof_corpus': 'Nit ki, su àll bi demee ba ràkkaajoo noonu, fàww nga seet noo koy dékkoo. Daawuma ko diir mbagg, gaa, wànte leeroon na ma ni su ma wutul pexe du sotti. Nàkkul sama yaay loolu la njortoon ba sos am po : saa yu benn dënnu dalee, nuy tàmbalee waññ ba xam bi ciy topp kañ lay agsi. Dañ ko daan dégg muy bawoo fu sori, mel ni lu tiim tund yiy dukkat, ñëw dal sunu kow.'},\n",
       " 195: {'french_corpus': \"Je ne m'en souviens pas, mais j'ai dû crier, hurler même, parce que, l'instant d'après, je suis secouru par ma mère qui m'emporte dans ses bras et, autour de moi, devant la terrasse de la maison, il y a mon frère, les garçons du voisinage, ils regardent en silence, est-ce qu'ils rient ? Est-ce qu'ils disent : Small boy him cry ? Ma mère ôte mes chaussettes, retournées délicatement comme on enlèverait une peau morte, comme si j'avais été fouetté par des branches épineuses, je vois mes jambes couvertes de points sombres où perle une goutte de sang, ce sont les têtes des fourmis accrochées à la peau, leurs corps ont été arrachés au moment où ma mère retirait mes chaussettes. Leurs mandibules sont enfoncées profondément, il faut les extraire une par une avec une aiguille trempée dans l'alcool.\",\n",
       "  'wolof_corpus': 'Xam naa damaa waroon a yuuxu keroog ndax sama yaay a dawsi, fab ma yóbbu. Nu romb sama mag, mu toog ci buntu kër gi, mook yeneeni goney Ogosaa. Ñoom ñépp ñu ni tekk di nu seetaan. Mbaa du dañu may ñaawal ndax sama yuuxu yu metti yi, naan Small boy him cry ? Sama yaay summi samay kawas, di leen wëlbati ndànk, ni ñuy lellee der bu dee. Mu mel ni dañ ma dóor ciy tànk ak yar bu am i dég, ñu fees ak i tip-tip yu ñuul. Toqu deret bu ci nekk, soo ko xoolee bu baax fekk fa boppu mellentaan. Maa ngi gisaat sama yaay mu leen di sekki benn-benn ak puso bu ñu soos ci alkol.'},\n",
       " 268: {'french_corpus': \"J'imagine Douala, Port Harcourt, les rues encombrées de voitures, les marchés où courent les enfants luisant de sueur, les groupes de femmes parlant à l'ombre des arbres.\",\n",
       "  'wolof_corpus': 'Ku yabu seet ko ci dëkk yu mel ni Poor-Arkuur mbaa Duwaalaa : woto yu bare yiy rombante ci tali bi, xale yiy dóor-dàqe ci biir màrse yi, ñaq tooy xepp ak jeeg jiy féexlu ci keppaaru garab yi.'},\n",
       " 694: {'french_corpus': 'Au lieu de cela, nous menions contre lui une guerre sournoise, usante, inspirée par la peur des punitions et des coups.',\n",
       "  'wolof_corpus': 'Wànte maak sama mag kay, dan daan defanteek moom, di ko fexeel saa su ne, ci lu mu xaajul a foog. Mu doon, nag, xare bu metti, jeexal doole te doon firndeel itam ni mu yóbboo woon sunu fit.'},\n",
       " 370: {'french_corpus': \"Face à ces ennemis, la trousse de médecin de mon père doit lui paraître bien légère. Scalpel, pinces à clampser, trépan, stéthoscope, garrots, et quelques outils de base, dont la seringue de laiton avec laquelle il m'a injecté plus tard des vaccins.\",\n",
       "  'wolof_corpus': 'Gànnaay ga mu war a xeexeek ñoom nag, xaw a mel ni lu ñàkk solo : paakab awsa, siso ak mbuusu fajkat. Ak lanati ? Jumtukaay yiy bënn ak jumtukaay biy natt yëngatu-deret, ay mbaggi fas ak yeneen ak yeneen, ba ci pikiiru armiňoŋ yi mu ma daan ñakke.'},\n",
       " 157: {'french_corpus': 'Les plus petits étaient sous la surveillance des plus grands, jamais seuls, jamais livrés à eux-mêmes.',\n",
       "  'wolof_corpus': 'Ñi gën a féete xale dañuy topp ci seen ndigalu mag. Kenn du beru walla nekk ci lu la neex.'},\n",
       " 573: {'french_corpus': 'Il rejoint son nouveau poste à Ogoja, dans la province de la Cross River.',\n",
       "  'wolof_corpus': 'Liggéeyam a nga ko doon xaar Ogosaa, ca diiwaanu Koros Riwër.'},\n",
       " 310: {'french_corpus': \"L'arrivée en Afrique a été pour moi l'entrée dans l'antichambre du monde adulte.\",\n",
       "  'wolof_corpus': 'Cig gàttal, Afrig moo doon sama néegu-góor.'},\n",
       " 509: {'french_corpus': 'Ils vont de campement en campement, dans des villages dont mon père note les noms sur sa carte : Nikom, Babungo, Nji Nikom, Luakom Ndye, Ngi, Obukun.',\n",
       "  'wolof_corpus': 'Daňu daan jóge dalukaay bii, dal ca ba ca des, dëkk buñ dem Baay daldi dugal tur wa ci déndam : Nikom, Babungo, Njii-Nikom, Luwaakom Ndiyee, Ngii, Òbukun.'},\n",
       " 48: {'french_corpus': \"Ce que je recevais dans le bateau qui m'entraînait vers cet autre monde, c'était aussi la mémoire. Le présent africain effaçait tout ce qui l'avait précédé.\",\n",
       "  'wolof_corpus': 'Ci biir saxaaru-géej gi sama xel a ngi wëndéelu, fu ne mu dem fa. Ma dëkke fàttaliku, nag. Fépp fa ma jotoon a jaar, lépp la ma masoon a dund laata may ñëw Afrig, daldi may songaat. Loolu lan la woonati ?'},\n",
       " 41: {'french_corpus': \"Je me rappelle seulement cette question : « Est-ce qu'elle est malade ? » Elle me brûle encore aujourd'hui étrangement, comme si le temps n'était pas passé.\",\n",
       "  'wolof_corpus': 'Li gën a doy waar ci mbir mi, moo di ne laaj ba ma laajoon sama yaay – « Ndax kii dafa tawat ? » – mu ngi ma topp ba tey jii, masul a génn sama xel.'},\n",
       " 278: {'french_corpus': \"Il avait choisi autre chose. Par orgueil sans doute, pour fuir la médiocrité de la société anglaise, par goût de l'aventure aussi. Et cette autre chose n'était pas gratuite.\",\n",
       "  'wolof_corpus': 'Deful loolu. Moom kay, la gën a jafe la taamu. Te dara dugalu ko ci woon lu dul yëg boppam ak ñeme lu metti.'},\n",
       " 586: {'french_corpus': \"Il lui aurait fallu abandonner ses parents en pleine tourmente, alors qu'ils n'étaient plus en état de résister.\",\n",
       "  'wolof_corpus': 'Ay way-juram a ngi woon ciy jafe-jafe yu tar, fekk mag dikk, amatuñu benn kàttan. Gëmuma ni doon na leen néeg a bàyyi foofu dem yoonam.'},\n",
       " 189: {'french_corpus': \"Tout d'un coup, sans que je m'en sois rendu compte, je suis entouré par des milliers d'insectes.\",\n",
       "  'wolof_corpus': 'Man daal, xawma lu géej giy riir, dama jékkee-jékki rekk gis junniy gunóor wër ma.'},\n",
       " 366: {'french_corpus': \"Mais lui n'est pas un enfant qui se laisse porter par le courant des événements. Il a alors trentedeux ans, c'est un homme endurci par deux années d'expérience médicale en Amérique tropicale, il connaît la maladie et la mort, il les a côtoyées chaque jour, dans l'urgence, sans protection.\",\n",
       "  'wolof_corpus': 'Waaye mbir yi xawoon nañoo woroo : bi muy def tukki boobu, mu ngi tollu ci fanweeri at ak ňaar, di góor gu dëgër, làmboo ňaari ati paj ca réewu Enjeŋ ya, miin fa feebar ak dee ak ňàkkum kaaraange.'},\n",
       " 400: {'french_corpus': 'Mais un vieil homme dépaysé, exilé de sa vie et de sa passion, un survivant.',\n",
       "  'wolof_corpus': 'Góor gu màggat doŋŋ a fi desoon, gëlëm, réer, xamatul lu ko àddinay nirool.'},\n",
       " 160: {'french_corpus': \"De temps en temps le « garden boy » se fâchait et les chassait à coups de pierre, mais l'instant d'après ils étaient revenus.\",\n",
       "  'wolof_corpus': 'Léeg-léeg, bóoy bi doon wottu tóokër bi, mer sànni leen xeer. Su ko defee ñu daw waaye nees-tuut ñu dellusi toog fa ñu toogoon.'},\n",
       " 623: {'french_corpus': \"Les patients sont dans les dortoirs, couchés sur de vrais lits en métal aux draps empesés et très blancs, ils souffrent probablement autant de l'angoisse que de leurs affections.\",\n",
       "  'wolof_corpus': 'Ñi tawat a ngi tëdd ciy lali weñ yu darab yi dëll te weex tàll.'},\n",
       " 308: {'french_corpus': \"Un changement radical : sur instructions de mon père, avant le départ, je dois me faire couper les cheveux, que j'ai portés jusque-là longs comme ceux d'un petit Breton, ce qui eut pour résultat de m'infliger un extraordinaire coup de soleil sur les oreilles, et de me faire rentrer dans le rang de la normalité masculine.\",\n",
       "  'wolof_corpus': 'Ni Yàllaak Yaali : ci ndigalu Baay, ñu xuuf samay karaw yu gudd yu goneg Bërëtaañ ya, naaj wiy jafal samay nopp. Ma daldi dellu nekk xale bu góor.'},\n",
       " 500: {'french_corpus': 'Malgré la mauvaise qualité des tirages, le bonheur de mon père et de ma mère est perceptible.',\n",
       "  'wolof_corpus': 'Nag yeek seeni béjjén yu lonku, bindoo ni xaaju weer wi... Portale bi dese naa leer waaye teewul ma ciy gis bu baax a baax sama bànneexu ñaari way-jur yi.'},\n",
       " 527: {'french_corpus': 'Les femmes ont commencé à danser, elles sont complètement nues, sauf une ceinture de perles autour de la taille.',\n",
       "  'wolof_corpus': 'Jigéen ñi tàmbali nañoo fecc, daanaka dañu ne duŋŋ, su weesoo jal-jali yi ci seen ndigg, du dara luñ sol.'},\n",
       " 596: {'french_corpus': \"Il partage l'ordinaire des Touareg qui accompagnent la caravane, il boit comme eux l'eau des oasis, une eau alcaline qui purge ceux qui n'y sont pas habitués.\",\n",
       "  'wolof_corpus': 'Mook Tuwaareg yeey bokk lépp. Ndoxu seyaan lay naan ni ňoom, ndox mu xaw a wex tey daw biir, rawati-na soo ko tàmmulee.'},\n",
       " 269: {'french_corpus': \"Les grandes villes, Onitsha et son marché aux romans populaires, la rumeur des bateaux poussant les grumes sur le grand fleuve. Lagos, Ibadan, Cotonou, le mélange des genres, des peuples, des langues, le côté drolatique, caricatural de la société coloniale, les hommes d'affaires en complets et chapeaux, parapluies noirs impeccablement roulés, les salons surchauffés où s'éventent les Anglaises en robes décolletées, les terrasses des clubs où les agents de la Lloyd's, de la Glynn Mills, de la Barclay's fument leurs cigares en échangeant des mots sur le temps qu'il fait – old chap, this is a tough country – et les domestiques en habit et gants blancs qui circulent en silence en portant les cocktails sur des plateaux d'argent.\",\n",
       "  'wolof_corpus': \"Legoos, Ibadaŋ ak Kótónu, naka noonu. Askan yeek làkk yi jaxasoo. Mënoon naa sax limaale Onitsaa ak màrseem ba nga xam ni daanaka téereb nettali bu la réer ci dunyaa soo fa demee ñu jaay la ko. Te ci xeet yooyu ma tudd, Àngale yi kenn demul ñu des. Ni ñu yëge seen bopp, di jaay maanaa, mu méngook seen colin, dafa rekk reelu. Foo séenee ay kompalet ak i sàppo, dóoral yat, ñoom a. Seeni jigéen, ñoom, ñu nga leen doon xàmmee seeni yére yu tegginewul woon lool. Ñoom ñépp nag, Àngale yooyu, di daje ci seeni màkkaani bopp, di wax ay waxi picc. Fàww ñu ràññee ci gaa ñooñu liggéeykati Lloyd's ya mbaa yu Glynn Mills ak Barclay's. Foo leen fekk ñu ngay xëcc ci seeni sigaar, lu ñor ñu wax, lu ñorul ñu wax, di jëw ak déeyante. Léeg-léeg kenn ci ñoom ni : « Mbër, neexul ba neexul waaye dëkk bii du dëkku como, de ! » Bóoy yi ñoom, ñu ngiy jaabanteek ay ndab yu ñu teg i kaasi sàngara, ku ne ñu ni la ko jabb te du benn yoon booy dégg seen baat.\"},\n",
       " 327: {'french_corpus': \"Les congés qu'il passe en France auprès d'eux sont le retour imaginaire vers un passé qui n'est plus.\",\n",
       "  'wolof_corpus': 'Muy béréb buy delloo xelam démb.'},\n",
       " 549: {'french_corpus': \"Cette mémoire est liée aux lieux, au dessin des montagnes, au ciel de l'altitude, à la légèreté de l'air au matin.\",\n",
       "  'wolof_corpus': 'Ay béréb laay fàttaliku, moo xam rëddi tangor yi la mbaa asamaan seek péexu suba teel mi.'},\n",
       " 607: {'french_corpus': \"Il avait cru qu'il n'en partirait pas.\",\n",
       "  'wolof_corpus': 'Masul a toog ba xalaat ni dina fa jógeji bés.'},\n",
       " 469: {'french_corpus': \"Le territoire qu'il a en charge est immense.\",\n",
       "  'wolof_corpus': 'Gox bi mu yilif nag, yaatu na lool.'},\n",
       " 424: {'french_corpus': \"Dans la collection de clichés pris par mon père en Afrique, il y a une photo qui m'émeut particulièrement, parce que c'est celle qu'il a choisi d'agrandir pour en faire un tableau.\",\n",
       "  'wolof_corpus': 'Xam naa waroon naa bég ba mu fa àggee... Ci dajaleb fotoom ya, benn a ciy gën a daw sama yaram. Baay ci boppam bëggoon na lool foto boobu ba sax yàkki ko, def ko nataal, wékk.'},\n",
       " 789: {'french_corpus': \"Quelque chose m'a été donné, quelque chose m'a été repris.\",\n",
       "  'wolof_corpus': 'Am na lees ma mayoon ba noppi nangu ko.'},\n",
       " 98: {'french_corpus': \"Alors les jours d'Ogoja, contraitrement à ceux d'Europe, étaient devenus mon trésor, le passé lumineux que je ne pouvais pas perdre.\",\n",
       "  'wolof_corpus': 'Tugal soof ma. Ogosaa jommal ma, daanaka am ci man solo ba mu jéggi dayo.'},\n",
       " 700: {'french_corpus': \"Tout ce que je pouvais faire, c'était casser ses bâtons, mais il allait en couper d'autres dans les collines.\",\n",
       "  'wolof_corpus': 'Lenn rekk laa mënoon a def, te moo doon damm ay yatam. Waaye ba nga leen di damm sànneek ba muy wutiwaat yat, benn la daan doon.'},\n",
       " 758: {'french_corpus': \"Longtemps après je suis hanté par le poème de Chinua Achebe, Noël au Biafra, qui commence par ces mots : Non, aucune Vierge à l'Enfant ne pourra égaler Le tableau de la tendresse d'une mère Envers ce fils qu'elle devra bientôt oublier.\",\n",
       "  'wolof_corpus': 'Ñu teg ciy at, ab taalifu Sinuwaa Aseebe di tëgg tama ci sama biir kaaŋ. Taalif baa ngi tudd : Nowel ca Biyaafaraa, mu koy ubbee nii : Dëgg la Nataal bi Ndeyu Yéesu boq doom ji Daw na yaram Wànte dara mënuta dab Cofeel ak tiisu ndey ju tiim doomam Muy sukkuraat.'},\n",
       " 602: {'french_corpus': 'En temps de guerre, tout étranger est un espion.',\n",
       "  'wolof_corpus': 'Jamonoy xare bi, doxandéem bu ne mën nañ laa tuumaal, ne yëddukat nga.'},\n",
       " 712: {'french_corpus': \"Son goût pour les légumes bouillis, qu'il relevait par une sauce au piment.\",\n",
       "  'wolof_corpus': 'Léjum moom, xamu ci lu dul baxal ba noppi sàppalee ko tuuti kaani.'},\n",
       " 206: {'french_corpus': 'Le silence des fourmis.',\n",
       "  'wolof_corpus': 'Tekkug mellentaan yi.'},\n",
       " 754: {'french_corpus': \"Quand les organisations internationales peuvent enfin pénétrer dans la zone insurgée, elles découvrent l'étendue de l'horreur.\",\n",
       "  'wolof_corpus': 'Mbootaayi xeet yi fexe ba fekk leen fa, door a teg bët ciy ňaawtéef yu kéemaane ya fa Adekunle defoon.'},\n",
       " 428: {'french_corpus': 'La mer déferle sur les roches noires et vient mourir sur la plage.',\n",
       "  'wolof_corpus': 'Géej gaa ngi mar ak a maraat xeer yu ňuul yi ci tefes gi.'},\n",
       " 203: {'french_corpus': \"L'instant d'après, le fleuve sombre coule à travers la case.\",\n",
       "  'wolof_corpus': 'Ci la dex gu ñuul gi, dexug mellentaan yi, tàmbalee wal ci diggu néeg bi.'},\n",
       " 727: {'french_corpus': \"Chaque insurrection devait être pour lui source d'espoir.\",\n",
       "  'wolof_corpus': 'Saa yu déggee ni aw askaan fippu na, mu ngay dunde yaakaar.'},\n",
       " 576: {'french_corpus': \"Quand arrivent les nouvelles de l'invasion de la France, en juin 1940, il est trop tard pour agir.\",\n",
       "  'wolof_corpus': 'Waaye ci atum suweŋ 1940 la Almaŋ yi teg loxo ci Frãs. Pexe daldi jeex tàkk.'},\n",
       " 510: {'french_corpus': \"Les campements sont parfois plus que précaires : à Kwaja, en pays kaka, ils logent dans une hutte de branches sans fenêtre au milieu d'une plantation de bananiers.\",\n",
       "  'wolof_corpus': 'Léeg-léeg, seen dalukaay du dal xel dara, waay : Kuwajaa doy na ci tegtal. Foofa, ca réewum Kakaa yi, néegu bànxaas bi ñu war a fanaan ci biir toolu-banaana yi, amul sax palanteer.'},\n",
       " 97: {'french_corpus': \"Entre la tristesse du Sud de la France pendant la guerre et la tristesse de la fin de mon enfance dans la Nice des années cinquante, rejeté de mes camarades de classe du fait de mon étrangeté, obsédé par l'autorité excessive de mon père, en butte à la très grande vulgarité des années lycée, des années scoutisme, puis pendant l'adolescence la menace d'avoir à partir faire la guerre pour maintenir les privilèges de la dernière société coloniale établie par les blancs en Afrique.\",\n",
       "  'wolof_corpus': 'Du lu war a jaaxal kenn. Su dee loolu la, maa yey. Ana fu gën a géey bëj-saalumu Tugal ci jamonoy xare bi ? Niis gi nu dëkk it, ci xaaju xarnu bi, amul dara lu ma fa neex. Ragal Baay a ma taxoon a téye sama bopp ca Niis, samay moroom ca liise daan ma noggatu ndax li ma wute woon ak ñoom. At yooyu ma def liise, su ma yaboo ni ñoo ma gën a soof ci sama àddina. Ñooy it at ya ma tollo ci nekk « eskut ». Moo doon it jamono ja ma ragalee lool nguur gi solal ma soldaar, jox ma fetal ma war a dem xareel ko. Xareel ko ngir lan ? Xanaa ngir nun Tubaab yi nuy wéy di teg loxo ci Afrig, di aakimu alalam.'},\n",
       " 529: {'french_corpus': \"Les hommes sont debout. Certains portent des robes de raphia, d'autres ont les masques des dieux.\",\n",
       "  'wolof_corpus': 'Góor ñaa ngi taxaw, ñii sol yérey xasum garab, ñeneen ñi téye xar-kanami seeni Yàlla.'},\n",
       " 325: {'french_corpus': \"L'épisode de la carte de visite exigée par le médecin-chef de l'hôpital de Southampton ne sera que le prétexte à rompre avec la société européenne.\",\n",
       "  'wolof_corpus': 'Kuy seet bu baax sax, danga naan dafa tafantoo jàppanteem ak kilifaam ca Saawusamston ngir dogook askanu Tugal.'},\n",
       " 463: {'french_corpus': \"Avec eux voyageaient aussi les inséparables compagnons de mon père, qu'il avait adoptés à son arrivée à Bamenda : James et Pégase, les chevaux, le front marqué d'une étoile blanche, capricieux et doux.\",\n",
       "  'wolof_corpus': 'Am na ñeneen ñaar, nag, ñuy ànd ak moom tukki : Sams ak Pegaas, ñaari fas yi te bu ci nekk am biddéew bu weex ci jë bi, mën a reewantu te sedd.'},\n",
       " 216: {'french_corpus': \"Ils étaient gras, d'un brun rougeâtre, très luisants. Ils volaient lourdement.\",\n",
       "  'wolof_corpus': 'Ay mbóot yu duuf sax, ba noppi tikk ba mel ni lu xonq, di nes-nesi, xaw a tëlee naaw.'},\n",
       " 484: {'french_corpus': \"Ce qui est certain, c'est qu'ils n'ont pas la moindre idée de ce que représente la puissance coloniale de l'Angleterre ou de la France, et n'imaginent pas la guerre qui se prépare à l'autre bout du monde.\",\n",
       "  'wolof_corpus': 'Kon ñoom, seen ŋaññ ci kàttanu Àngalteer walla Frãs. Ku leen ni woon àddinaa ngi waajal xare bu réy, ñu ni la : « Moo yow, looy wax nii ? » Waaye ku loolu tax a yaakaar ni ay diiwaan yu àlle lañu, juum nga.'},\n",
       " 699: {'french_corpus': \"Je me souviens d'avoir ressenti quelque chose qui ressemblait à de la haine.\",\n",
       "  'wolof_corpus': 'Daan naa dem bay yëg ci sama biir xol lu niroo woon lool ak mbañeel.'},\n",
       " 681: {'french_corpus': \"C'était le même homme qui exigeait que la prière fût dite chaque soir à l'heure du coucher, et que le dimanche fût consacré à la lecture du livre de messe.\",\n",
       "  'wolof_corpus': 'Tëri te julliwoo, xel daju ko te bu dibéer agsee, kenn sañul a yittewoo leneen lu dul jàng sa téereb mees.'},\n",
       " 592: {'french_corpus': \"Les routes maritimes sont devenues dangereuses, et c'est le Sahara qui permet la circulation des denrées.\",\n",
       "  'wolof_corpus': 'Ginnaaw géej gi wóoratul, Saxaraa fi sës ngir doxal njënd mbeek njaay mi.'},\n",
       " 402: {'french_corpus': \"Image caractéristique de la Colonie : des voyageurs européens, vêtus de blanc et coiffés du casque Cawnpore, sont débarqués dans une nacelle et transportés jusqu'à terre à bord d'une pirogue montée par des Noirs.\",\n",
       "  'wolof_corpus': 'Ñàkkul su ma ko jeexoon ci xeetu nataal yu siiw jamono jooju fekk ko ci biir. Mooy nataal yiy wone ay Tubaab yuy waaj a koste Afrig ci gaal gu ndaw, sol yére yu weex ak seeni kask Kawanpoor, ay nit ñu ñuul di leen joowal.'},\n",
       " 479: {'french_corpus': \"À l'époque où il parcourt la province du Nord-Ouest, les cartes sont inexistantes. La seule carte imprimée dont il dispose est la carte d'état-major de l'armée allemande au 1/300 000 e relevée par Moisel en 1913.\",\n",
       "  'wolof_corpus': 'Su weesoo dénd wi làrme réewum Almaañ defar ci xasabu 1/300 000, te ku ñuy wax Muwaasel jëfandikoo ko ci atum 1913, Baay amutoon beneen nataalu diiwaanu sowu-kow ba mu daan wër.'},\n",
       " 569: {'french_corpus': \"C'est donc la guerre qui a cassé le rêve africain de mon père.\",\n",
       "  'wolof_corpus': 'Kon, xare bee tas yaakaar ji Baay amoon ci Afrig.'},\n",
       " 133: {'french_corpus': \"L'Aiya à cet endroit n'était pas très large, mais était animée d'un courant violent qui arrachait aux rives des mottes de boue rouge.\",\n",
       "  'wolof_corpus': 'Wet gi nu awe keroog, Ayaa taxu ko faa yaatu wànte day wal-waleek doole, di yëkkati bàq bi ak a xonqal peggi dex gi.'},\n",
       " 218: {'french_corpus': 'Moins nombreux que les cafards, mais nous avions notre réserve.',\n",
       "  'wolof_corpus': 'Bariwuñu woon ni mbóot yi, wànte xamoon nanu fan lañ doon làqatu.'},\n",
       " 441: {'french_corpus': \"C'est là qu'il va passer les années les plus heureuses de sa vie.\",\n",
       "  'wolof_corpus': 'Mbégte ma Baay yëg foofu, dund na ba dee yëgaatu ko feneen.'},\n",
       " 244: {'french_corpus': \"Aux murs, là où la lumière se reflétait, les margouillats lançaient leurs petits cris chaque fois qu'ils avalaient une proie.\",\n",
       "  'wolof_corpus': 'Sindax yaa nga ni noŋŋ ci kow miir yi, saa yu ňu wannee gunóor daldi sab.'},\n",
       " 222: {'french_corpus': 'Mais de temps à autre, le matin, ils avaient été remplacés par un spécimen plus grand, de couleur blanche tirant sur le jaune, et nous savions instinctivement que cette variété pouvait être venimeuse.',\n",
       "  'wolof_corpus': 'Waaye léeg-léeg yeneeni jiit yu gën a réy wuutu leen. Boo leen giseek seen weexaay bu xëcc ci puur, njort ni ñii moom war nañoo am daŋar.'},\n",
       " 718: {'french_corpus': \"En 1954, nous fîmes un voyage touristique au Maroc (où un des « oncles » était administrateur d'une propriété agricole).\",\n",
       "  'wolof_corpus': 'Ci atum 1954, yóbbu nanu Marog, nu doon fay wëraakoon, daanaka. Xam naa li fa kenn ci samay « nijaay » doon saytu tool bu mag a mag a waraloon mu taamu réew moomu.'},\n",
       " 642: {'french_corpus': \"Dans tel autre, le district officer, au cours d'une tournée, a fait saisir à l'étal du boucher une viande prétendument de porc, mais que la rumeur désigne comme étant de la chair humaine.\",\n",
       "  'wolof_corpus': 'Am na it màrse bu « District Officer » bi tegee loxo taabalub jaaykatu yàpp. Mu ni leen lii lan la, ñu ni ko ñoom yàppu mbaam-xuux lañ fay fees. Waaye njortoon na ni yàppu nit la woon.'},\n",
       " 114: {'french_corpus': 'La plaine était là, devant mes yeux, prête à me recevoir.',\n",
       "  'wolof_corpus': 'Joor gaa ngi woon ci sama kanam, yaatu ba dee, tàllal may loxoom, di ma waaj a dalal.'},\n",
       " 531: {'french_corpus': \"Cela commence au déclin du soleil, vers six heures, et dure jusqu'à l'aube du lendemain.\",\n",
       "  'wolof_corpus': 'Pecc maa ngi tàmbali bi jant biy waaj a so. Noonu lañ ko ci nekkale ba ca ëllëg sa ca njël.'},\n",
       " 72: {'french_corpus': 'Certains soirs, un vent rouge venu du Nord, qui faisait briller les murs.',\n",
       "  'wolof_corpus': 'Léeg-léeg itam mu jóge bëj-gànnaar, yëkkati suuf su xonq si daan melaxal miiri kër gi.'},\n",
       " 447: {'french_corpus': \"Ils installent leurs meubles, les seuls meubles qu'ils ont jamais achetés et qu'ils emporteront avec eux partout : des tables, des fauteuils taillés dans des troncs d'iroko, décorés de sculptures traditionnelles des hauts plateaux de l'Ouest camerounais, léopards, singes, antilopes.\",\n",
       "  'wolof_corpus': 'Jamono jooju lañu mas a jënd ay móobal. Fépp fu ñu mas a toxu, dañ yóbbaale móobal yooyu. Lim baa ngi, gàtt ba dee : ay taabal, toogu yu ňu yàtt ci dàttu iróko te ñu jekk-jekkal kook i nataali golo mbaa yu segg mbaa yu kooba, ni ko waa sowu-jantu Kamerun aadawoo.'},\n",
       " 491: {'french_corpus': \"Les montagnards de Banso continuent à vivre comme ils l'ont toujours fait, selon un rythme lent, en harmonie avec la nature sublime qui les entoure, cultivant la terre et paissant leurs troupeaux de vaches à longues cornes.\",\n",
       "  'wolof_corpus': 'Ña dëkke tangor ya ca Bansoo, ñu ngi wéy di dunde nañu mas a dunde. Yàkkamtiwuñu seen àddina, seen lépp a dëppook àll bi leen wër. Mbey mi tam amal na leen solo lool wànte teewu leen a ànd ak seeni gétti nag ya ca béjjén yu gudd ya, ñuy màngi.'},\n",
       " 588: {'french_corpus': \"Mon père n'avait sans doute aucun plan. Il s'est lancé dans l'aventure sans réfléchir.\",\n",
       "  'wolof_corpus': 'Njort naa ni Baay waajalul mbir mi laata mu ciy dugg.'},\n",
       " 149: {'french_corpus': \"Nous frappions à nouveau, jusqu'à en avoir mal aux mains, comme si nous combattions un ennemi invisible.\",\n",
       "  'wolof_corpus': 'Loolu gën noo ràkkaajuloo, nuy dóor, di dóor, di dóor ba sunuy loxoy metti.'},\n",
       " 729: {'french_corpus': \"Il n'avait jamais pardonné à de Gaulle son double jeu.\",\n",
       "  'wolof_corpus': 'Baay masul a baal Seneraal De Góol maa waxoon-waxeetam ci Alseri.'},\n",
       " 493: {'french_corpus': \"Le Nsungli, par exemple, aux abords de Nkor : une Afrique qui n'a rien de commun avec la zone côtière, où règne une atmosphère lourde, où la végétation est étouffante, presque menaçante.\",\n",
       "  'wolof_corpus': 'Sungali, ci weti Kor, firnde la ci : fii jotewul daraak Afrig gi géej gi yàkkali dënnam. Jaww jaa ngi diis bee, gàncax gi day teree noyyi te sax ragal du ko sànjaafu.'},\n",
       " 40: {'french_corpus': \"Comment aurais-je pu imaginer que cette femme était ma grand-mère ? Et je ressentais non pas de l'horreur ni de la pitié, mais au contraire de l'amour et de l'intérêt, ceux que suscite la vue de la vérité, de la réalité vécue.\",\n",
       "  'wolof_corpus': 'Naka laa mën a xalaate ne keey sama maam ju jigéen ? Li may yëg du mbañeel, du yërmaande. Sori na leen lool. Jigéen ju màgget jooju, cofeel gu réy laa am ci moom. Te it fullaal naa ko ni ñuy fullaale lèpp luy dëgg ak képp ku dëggu.'},\n",
       " 567: {'french_corpus': \"Il ne restait plus que la maigre pension que le gouvernement nigerian s'était engagé à verser à ses vieux serviteurs, au moment de l'indépendance.\",\n",
       "  'wolof_corpus': 'Bi Niseryaay jot ci boppam, dafa digoon ñépp ña ko mas a liggéeyal ni dina wéy di leen fey seen alaateret.'},\n",
       " 328: {'french_corpus': 'Mon père est né dans la même maison que son oncle, à tour de rôle ils y ont grandi, ils ont connu les mêmes lieux, les mêmes secrets, les mêmes cachettes, ils se sont baignés dans le même ruisseau.',\n",
       "  'wolof_corpus': 'Baay ak nijaayam ji may wax, ci benn kër gi lañu juddoo, ku nekk ci ñoom ñaar màgge fa. Kon li ñu séq bare na, ñoo bokk i mbóot te yit ñoo daan sangoo ci benn dex gi.'},\n",
       " 235: {'french_corpus': \"Pour une raison que j'ignore, le feu a d'abord pris autour de l'animal, en formant un cercle de flammes bleues, et la femelle scorpion s'est arrêtée dans une posture tragique, les pinces levées au ciel, son corps bandé dressant au-dessus de ses enfants son crochet à venin au bout de sa glande, parfaitement visible.\",\n",
       "  'wolof_corpus': 'Gunóor gi tàkkul ci saa si ndax ni ko safara si wëre. Mu des ci géew bi, xamatul nu muy def ak doom yi mu boot. Xanaa rekk taxaw, yëkkatiy keppukaayam ca kow, di xaar.'},\n",
       " 761: {'french_corpus': 'Mon père a vu aussi ces images, comment a-t-il pu accepter ?',\n",
       "  'wolof_corpus': 'Baay tamit gis na lu ni mel. Ku sañ a xalaat ni loolu yàqul xolam yaxeet ?'},\n",
       " 213: {'french_corpus': \"Il était persuadé que les cafards étaient à l'origine de beaucoup de maladies, y compris du cancer.\",\n",
       "  'wolof_corpus': 'Ci gis-gisu Baay, feebar yu bare ci mbóot yi lañ doon jóge, ba ci sax kañseer.'},\n",
       " 515: {'french_corpus': \"C'est plutôt celle d'African Farm, une Afrique réelle, à forte densité humaine, ployée par la maladie et les guerres tribales. Mais forte et exhilarante aussi, avec ses enfants innombrables, ses fêtes dansées, la bonne humeur et l'humour des bergers rencontrés sur les chemins.\",\n",
       "  'wolof_corpus': 'African Farm la gën a jege. Nga gis ni mu barey nit, ni mu yëge kàttanam te balaa yu dul jeex di ko sotoo. Benn wóomam yegg suuf, muy yëg ni muy tërëf-tërëfee, waaye du ko tax a ñaaw ci xare bi. Foo walbatiku say bët dajeek ay naaxi gone ak seen biiri-taññ, ñépp di woy di fecc. Saa yu samay way-jur taseek ay sàmm ciw ñall, daldi yéemu ci seen neex deret ak seen am xorom.'},\n",
       " 197: {'french_corpus': 'Sans doute est-ce mêlé de légende, de rêve.',\n",
       "  'wolof_corpus': 'Ñàkkul gént ak janeer rax ci mbir mi.'},\n",
       " 380: {'french_corpus': \"Tout cela, je ne l'ai compris que beaucoup plus tard, en partant comme lui, pour voyager dans un autre monde.\",\n",
       "  'wolof_corpus': 'Loolu lépp, maa ngi ko door a nànd dëggëntaan bi ma doonee mag, tàmbalee tukki ni moom.'},\n",
       " 505: {'french_corpus': \"Ma mère monte en amazone, comme elle a appris à le faire au manège d'Ermenonville.\",\n",
       "  'wolof_corpus': 'Sama yaay, genn wet lay ware fas. Noonu lañ ko ko jàngale Tugal, ca Ermenoŋwiil.'},\n",
       " 321: {'french_corpus': 'Sa famille est ruinée, et il ne peut compter que sur la bourse du gouvernement.',\n",
       "  'wolof_corpus': 'Jafe-jafe yiy way-juram doon jànkoonteel tax ba mu war a sukkandiku ci ndimbalu gornmaa bi.'},\n",
       " 10: {'french_corpus': \"Affirmer que je ne l'aimais pas serait lui donner une importance qu'il n'avait pas quand j'étais enfant.\",\n",
       "  'wolof_corpus': 'Su ma nee soppuma ko woon, day mel ni dama koy jox maanaa ju mu amul woon ba may gone.'},\n",
       " 708: {'french_corpus': \"Le goût d'une religion sans fioritures, sans superstitions, qu'il avait trouvée, j'imagine, dans l'exemple de l'islam.\",\n",
       "  'wolof_corpus': 'Ñàkkul la mu jotoon a seetlu ci seen lislaam a ko taxoon sopp diine ju amul i kalmaňàngaan ak i bidaa.'},\n",
       " 698: {'french_corpus': 'Pour un rien, un bol cassé, un mot de travers, un regard, il frappait, à coups de canne, à coups de poing.',\n",
       "  'wolof_corpus': 'Lu ñàkk soloo ko daan sooke, ñaare, moo xam kaas boo toj la mbaa nga xool ko bët bu ko neexul mbaa nga koy jaay dijj ŋaam. Lu ne mënoon na koo teqaleek sagoom, mu lay wulli ak i yat mbaa di la kurpeñ.'},\n",
       " 457: {'french_corpus': \"J'ai ressenti de l'étonnement, et même de l'indignation, lorsque j'ai découvert, longtemps après, que de tels objets pouvaient être achetés et exposés par des gens qui n'avaient rien connu de tout cela, pour qui ils ne signifiaient rien, et même pis, pour qui ces masques, ces statues et ces trônes n'étaient pas des choses vivantes, mais la peau morte qu'on appelle souvent l'« art ».\",\n",
       "  'wolof_corpus': 'Li wóor te wér moo di ne bi loolu lépp weesoo, ma doon mag, xam, xàmmee, saa yu ma gisee ku xamul dara ci Afrig jënd jumtukaay yooyu, damay jaaxle mbaa léeg-léeg sax ma mer. Dafa fekk ni du woon luy dund dëgg ci seen biir xol. Der bu dee la woon rekk, ñu neey loolu lañ tudde « taaral ».'},\n",
       " 277: {'french_corpus': \"Mais ce que cela aurait changé en l'homme qu'il était, qui aurait mené une vie plus conforme, moins solitaire. De soigner des enrhumés et des constipés, plutôt que des lépreux, des impaludés ou des victimes d'encéphalite léthargique. D'apprendre à échanger, non sur le mode exceptionnel, par gestes, par interprète, ou dans cette langue élémentaire qu'était le pidgin English (rien à voir avec le créole de Maurice raffiné et spirituel), mais dans la vie de tous les jours, avec ces gens pleins d'une banalité qui vous rend proche, qui vous intègre à une ville, à un quartier, à une communauté.\",\n",
       "  'wolof_corpus': 'Coppite gi may njort doon na àgg ba ci waxinam ak ni muy jokkook ñeneen ñi. Làpptoo ko naroon a jàppale, xam naa, walla muy làkk « pijinu » àngale – bi jotewul daraak kerewolu dunu Móris bu sell ba te yiw. Ci gàttal, benn kàddu mën naa tënk li may bëgg wax, te mooy : maasaloo. Su Baay toogoon Tugal, du xéy ba dégg lu mu masul a dégg. Te it képp ku mu faj, dina jàpp ne mook moom benn lañu, bokk waaso. Maasaloo. Walla sax seey ?'},\n",
       " 205: {'french_corpus': \"Au point de croire que cela m'était arrivé, de mêler le fleuve dévorant au tourbillon de fourmis qui m'avait assailli. Le mouvement de giration des insectes autour de moi ne me quitte pas, et je reste figé dans un rêve, j'écoute le silence, un silence aigu, strident, plus effrayant qu'aucun bruit au monde.\",\n",
       "  'wolof_corpus': 'Dama mujjee dem ba yaakaar ne man mii maa dund loolu ci dëgg-dëgg, mu jaxasoo ci sama xel ak bés ba may mellentaan singalee ca Ogosaa. Ñu ngi ma wër-ndomb, di dem ak a dikk. Man ma taxaw ne yàcc, di xullee. Waaye it maa ngi may nopp tekk-tekkaaral gi. Dafa sew, leew, gën a raglu mbooleem riiri dunyaa yépp.'},\n",
       " 225: {'french_corpus': \"Pour corser l'affaire il fallait donc, de temps en temps, lâcher la brindille et avancer la main, puis la retirer prestement au moment où la queue du scorpion fouettait.\",\n",
       "  'wolof_corpus': 'Ngir gën a jafeel mbir mi, dañu daan bàyyi léeg-léeg bantu bale bi, tàllal leen benn baaraam, su jiit ji tàmbalee yëngal geen gi nu gaawtu delloosi sunu loxo.'},\n",
       " 683: {'french_corpus': \"C'était une règle de vie, un code de conduite.\",\n",
       "  'wolof_corpus': 'Amul werante, mbaa yéexantu mba jàdd koñ. Àndul ak i naxaate yit.'},\n",
       " 217: {'french_corpus': \"Nous avions découvert d'autres compagnons de jeu : les scorpions.\",\n",
       "  'wolof_corpus': 'Ogosaa, xaritoo woon nan faak yeneen gunóor : jiit yi.'},\n",
       " 740: {'french_corpus': 'Il devait ressentir le passage du temps comme un flot qui se retire, abandonnant les laisses du souvenir.',\n",
       "  'wolof_corpus': 'Daanaka dafa ne woon jàkk bési dunyaa yi, ñuy dem seen yoon, di wéy tëwa taxaw. Bés bu ci nekk mel ni lu bàyyi sa màndarga bopp ci tefesug pàttaliku.'},\n",
       " 184: {'french_corpus': \"Je ne m'en souviens pas.\",\n",
       "  'wolof_corpus': 'Leerul ci sama bopp.'},\n",
       " 173: {'french_corpus': \"Comme les garçons du village, j'aurais appris à parler avec les êtres vivants, à voir ce qu'il y avait de divin dans les termites.\",\n",
       "  'wolof_corpus': 'Doon naa mën a wax ak rabi-àll yi, ñu may tontu. Doon naa xam ni ay max duñuy mbindeefi neen.'},\n",
       " 713: {'french_corpus': \"Sa préférence pour les fruits secs, les dattes, les figues et même les bananes qu'il mettait à cuire au soleil sur le bord de sa fenêtre.\",\n",
       "  'wolof_corpus': 'Du jaaxal kenn su ma nee bëggoon na lool ñam yu deme ni tàndarmaak banaana yi mu daan weer ci naaj wi ba ñu wow.'},\n",
       " 171: {'french_corpus': \"C'était un moment de nos vies, juste un moment, sans aucune explication, sans regret, sans avenir, presque sans mémoire.\",\n",
       "  'wolof_corpus': 'Waaye du woon jikko. Jamono la woon. Du lu nu teyoon di ko def. Kon jarul a réccu. Di ko fàttaliku sax, sonal sa bopp la.'},\n",
       " 101: {'french_corpus': \"La mémoire d'un enfant exagère les distances et les hauteurs.\",\n",
       "  'wolof_corpus': 'Gone, su demee bay natt dayo mbaa guddaay, du xam bu ca yem.'},\n",
       " 542: {'french_corpus': 'Cela pouvait ressembler au bonheur.',\n",
       "  'wolof_corpus': 'Su lii dul bànneex it, niru na ko lool.'}}"
      ]
     },
     "execution_count": 4,
     "metadata": {},
     "output_type": "execute_result"
    }
   ],
   "source": [
    "# print a sample 100 sentences\n",
    "samples = sentences.sample(100, random_state=100).to_dict(orient='index')\n",
    "samples"
   ]
  },
  {
   "attachments": {},
   "cell_type": "markdown",
   "metadata": {},
   "source": [
    "Let us try to tokenize the sentences 101."
   ]
  },
  {
   "cell_type": "code",
   "execution_count": 5,
   "metadata": {},
   "outputs": [],
   "source": [
    "# first sentences\n",
    "example1 = samples[101]"
   ]
  },
  {
   "cell_type": "code",
   "execution_count": 6,
   "metadata": {},
   "outputs": [
    {
     "data": {
      "text/plain": [
       "{'french_corpus': \"La mémoire d'un enfant exagère les distances et les hauteurs.\",\n",
       " 'wolof_corpus': 'Gone, su demee bay natt dayo mbaa guddaay, du xam bu ca yem.'}"
      ]
     },
     "execution_count": 6,
     "metadata": {},
     "output_type": "execute_result"
    }
   ],
   "source": [
    "example1"
   ]
  },
  {
   "attachments": {},
   "cell_type": "markdown",
   "metadata": {},
   "source": [
    "- On the French corpus"
   ]
  },
  {
   "cell_type": "code",
   "execution_count": 7,
   "metadata": {},
   "outputs": [
    {
     "name": "stdout",
     "output_type": "stream",
     "text": [
      "The encoded tokens with their mask\n",
      "{'input_ids': tensor([[    0, 10766,   475,  1140,  4992,  1885,   385,   108,   879,  1177,\n",
      "           506,   927,  1931,  1073, 18655,  7427, 21459,  4400,  7427,  2489,\n",
      "          4467,  4668,     4,     2]]), 'attention_mask': tensor([[1, 1, 1, 1, 1, 1, 1, 1, 1, 1, 1, 1, 1, 1, 1, 1, 1, 1, 1, 1, 1, 1, 1, 1]])}\n",
      "\n",
      "The decoded tokens\n"
     ]
    },
    {
     "data": {
      "text/plain": [
       "['<s>',\n",
       " 'La',\n",
       " ' m',\n",
       " 'é',\n",
       " 'mo',\n",
       " 'ire',\n",
       " ' d',\n",
       " \"'\",\n",
       " 'un',\n",
       " ' en',\n",
       " 'f',\n",
       " 'ant',\n",
       " ' ex',\n",
       " 'ag',\n",
       " 'ère',\n",
       " ' les',\n",
       " ' distances',\n",
       " ' et',\n",
       " ' les',\n",
       " ' ha',\n",
       " 'ute',\n",
       " 'urs',\n",
       " '.',\n",
       " '</s>']"
      ]
     },
     "execution_count": 7,
     "metadata": {},
     "output_type": "execute_result"
    }
   ],
   "source": [
    "# tokenize the first example\n",
    "encoded_input = tokenizer(example1['french_corpus'], return_tensors='pt')\n",
    "print(\"The encoded tokens with their mask\")\n",
    "print(encoded_input)\n",
    "print(\"\\nThe decoded tokens\")\n",
    "[tokenizer.decode(token) for token in encoded_input['input_ids'][0]]"
   ]
  },
  {
   "attachments": {},
   "cell_type": "markdown",
   "metadata": {},
   "source": [
    "- On the Wolof corpus"
   ]
  },
  {
   "cell_type": "code",
   "execution_count": 8,
   "metadata": {},
   "outputs": [
    {
     "name": "stdout",
     "output_type": "stream",
     "text": [
      "The encoded tokens with their mask\n",
      "{'input_ids': tensor([[    0,   534,  1264,     6,  2628,  4410,  1942, 11751,   295,  2611,\n",
      "           183,   139,   475,  3178,   102,   821,  7027,   102,   857,     6,\n",
      "          4279,  3023,   424, 10306,  6056,  1423,   991,     4,     2]]), 'attention_mask': tensor([[1, 1, 1, 1, 1, 1, 1, 1, 1, 1, 1, 1, 1, 1, 1, 1, 1, 1, 1, 1, 1, 1, 1, 1,\n",
      "         1, 1, 1, 1, 1]])}\n",
      "\n",
      "The decoded tokens\n"
     ]
    },
    {
     "data": {
      "text/plain": [
       "['<s>',\n",
       " 'G',\n",
       " 'one',\n",
       " ',',\n",
       " ' su',\n",
       " ' dem',\n",
       " 'ee',\n",
       " ' bay',\n",
       " ' n',\n",
       " 'att',\n",
       " ' day',\n",
       " 'o',\n",
       " ' m',\n",
       " 'ba',\n",
       " 'a',\n",
       " ' g',\n",
       " 'udd',\n",
       " 'a',\n",
       " 'ay',\n",
       " ',',\n",
       " ' du',\n",
       " ' x',\n",
       " 'am',\n",
       " ' bu',\n",
       " ' ca',\n",
       " ' y',\n",
       " 'em',\n",
       " '.',\n",
       " '</s>']"
      ]
     },
     "execution_count": 8,
     "metadata": {},
     "output_type": "execute_result"
    }
   ],
   "source": [
    "# tokenize the first example\n",
    "encoded_input = tokenizer(example1['wolof_corpus'], return_tensors='pt')\n",
    "print(\"The encoded tokens with their mask\")\n",
    "print(encoded_input)\n",
    "print(\"\\nThe decoded tokens\")\n",
    "[tokenizer.decode(token) for token in encoded_input['input_ids'][0]]"
   ]
  },
  {
   "attachments": {},
   "cell_type": "markdown",
   "metadata": {},
   "source": [
    "We don't obtain what we expected because the tokenizer are not trained on a french corpus or a wolof corpus."
   ]
  },
  {
   "attachments": {},
   "cell_type": "markdown",
   "metadata": {},
   "source": [
    "#### Improve the tokenization with a model"
   ]
  },
  {
   "cell_type": "code",
   "execution_count": 12,
   "metadata": {},
   "outputs": [],
   "source": [
    "# import necessary libraries\n",
    "from tokenizers import (\n",
    "    decoders,\n",
    "    models,\n",
    "    normalizers,\n",
    "    pre_tokenizers,\n",
    "    processors,\n",
    "    trainers,\n",
    "    Tokenizer,\n",
    ")\n",
    "\n",
    "import random\n",
    "\n",
    "random.seed(100)"
   ]
  },
  {
   "attachments": {},
   "cell_type": "markdown",
   "metadata": {},
   "source": [
    "----------------"
   ]
  },
  {
   "attachments": {},
   "cell_type": "markdown",
   "metadata": {},
   "source": [
    "Let us improve the tokenization of the texts by training a tokenizer from scratch. The tutorial is available at the following link [Training_Tokenizer_from_scratch](https://huggingface.co/learn/nlp-course/chapter6/8?fw=pt)."
   ]
  },
  {
   "attachments": {},
   "cell_type": "markdown",
   "metadata": {},
   "source": [
    "- First, we must load batch of sentences. Let us say that we will a batch of 15 sentences at a time."
   ]
  },
  {
   "cell_type": "code",
   "execution_count": 11,
   "metadata": {},
   "outputs": [],
   "source": [
    "# recuperate the sentences as list of sentences (simple method)\n",
    "french_sentences = sentences['french_corpus'].to_list()\n",
    "\n",
    "wolof_sentences = sentences['wolof_corpus'].to_list()\n",
    "\n",
    "# Define Batch sizes\n",
    "BATCH_SIZE = 5\n",
    "\n",
    "# let us use generators to load the french and wolof sentences\n",
    "def load_french_sentences():\n",
    "    \n",
    "    for i in range(0, len(french_sentences), BATCH_SIZE):\n",
    "        \n",
    "        yield french_sentences[i : i + BATCH_SIZE]\n",
    "\n",
    "def load_wolof_sentences():\n",
    "    \n",
    "    for j in range(0, len(wolof_sentences), BATCH_SIZE):\n",
    "        \n",
    "        yield wolof_sentences[j : j + BATCH_SIZE]\n"
   ]
  },
  {
   "attachments": {},
   "cell_type": "markdown",
   "metadata": {},
   "source": [
    "##### BPE (Byte-Pair Encoding tokenization) tokenizer"
   ]
  },
  {
   "attachments": {},
   "cell_type": "markdown",
   "metadata": {},
   "source": [
    "- Let us load the BPE tokenizer"
   ]
  },
  {
   "cell_type": "code",
   "execution_count": 12,
   "metadata": {},
   "outputs": [],
   "source": [
    "bpe_tokenizer = Tokenizer(models.BPE())"
   ]
  },
  {
   "attachments": {},
   "cell_type": "markdown",
   "metadata": {},
   "source": [
    "- Configure a pre-tokenizer"
   ]
  },
  {
   "cell_type": "code",
   "execution_count": 119,
   "metadata": {},
   "outputs": [],
   "source": [
    "# add a byte level pre-tokenizer and specify that we will not a space to the first word\n",
    "bpe_tokenizer.pre_tokenizer = pre_tokenizers.ByteLevel(add_prefix_space=False)"
   ]
  },
  {
   "attachments": {},
   "cell_type": "markdown",
   "metadata": {},
   "source": [
    "- Test the pre-tokenizer"
   ]
  },
  {
   "cell_type": "code",
   "execution_count": 120,
   "metadata": {},
   "outputs": [
    {
     "data": {
      "text/plain": [
       "[('Tout', (0, 4)),\n",
       " ('ĠÃªtre', (4, 9)),\n",
       " ('Ġhumain', (9, 16)),\n",
       " ('Ġest', (16, 20)),\n",
       " ('Ġle', (20, 23)),\n",
       " ('ĠrÃ©sultat', (23, 32)),\n",
       " ('Ġd', (32, 34)),\n",
       " ('âĢĻ', (34, 35)),\n",
       " ('un', (35, 37)),\n",
       " ('ĠpÃ¨re', (37, 42)),\n",
       " ('Ġet', (42, 45)),\n",
       " ('Ġune', (45, 49)),\n",
       " ('ĠmÃ¨re', (49, 54)),\n",
       " ('.', (54, 55))]"
      ]
     },
     "execution_count": 120,
     "metadata": {},
     "output_type": "execute_result"
    }
   ],
   "source": [
    "# let us test the pre-tokenizer with a random sentence\n",
    "bpe_tokenizer.pre_tokenizer.pre_tokenize_str(french_sentences[0])"
   ]
  },
  {
   "attachments": {},
   "cell_type": "markdown",
   "metadata": {},
   "source": [
    "- If using the decoder part of the transformer is the GPT-2 model then we need a end-to-text token. Let us initialize the bpe trainer with a vocab size of `10000`."
   ]
  },
  {
   "cell_type": "code",
   "execution_count": 16,
   "metadata": {},
   "outputs": [],
   "source": [
    "bpe_trainer = trainers.BpeTrainer(vocab_size = 10000, special_tokens = [\"<|endoftext|>\"])"
   ]
  },
  {
   "attachments": {},
   "cell_type": "markdown",
   "metadata": {},
   "source": [
    "- Let us add the batch iterator to the trainer and test on a sample"
   ]
  },
  {
   "attachments": {},
   "cell_type": "markdown",
   "metadata": {},
   "source": [
    "Let us test for the french corpus and after with the wolof corpus."
   ]
  },
  {
   "attachments": {},
   "cell_type": "markdown",
   "metadata": {},
   "source": [
    "1. On the french corpus"
   ]
  },
  {
   "cell_type": "code",
   "execution_count": 123,
   "metadata": {},
   "outputs": [],
   "source": [
    "bpe_tokenizer.train_from_iterator(load_french_sentences(), trainer=bpe_trainer)"
   ]
  },
  {
   "attachments": {},
   "cell_type": "markdown",
   "metadata": {},
   "source": [
    "Let us use a decoder to decode the ids."
   ]
  },
  {
   "cell_type": "code",
   "execution_count": 124,
   "metadata": {},
   "outputs": [],
   "source": [
    "bpe_tokenizer.decoder = decoders.ByteLevel()"
   ]
  },
  {
   "cell_type": "code",
   "execution_count": 125,
   "metadata": {},
   "outputs": [
    {
     "name": "stdout",
     "output_type": "stream",
     "text": [
      "For the following sentence:\n",
      "Nous frappions à nouveau, jusqu’à en avoir mal aux mains, comme si nous combattions un ennemi invisible.\n",
      "We obtain the following:\n",
      "- Tokens: ['Nous', 'Ġfrappions', 'ĠÃł', 'Ġnouveau', ',', 'Ġjusqu', 'âĢĻ', 'Ãł', 'Ġen', 'Ġavoir', 'Ġmal', 'Ġaux', 'Ġmains', ',', 'Ġcomme', 'Ġsi', 'Ġnous', 'Ġcombattions', 'Ġun', 'Ġennemi', 'Ġinvisible', '.']\n",
      "- Ids: [569, 2286, 137, 1134, 5, 486, 103, 129, 147, 1596, 450, 377, 1087, 5, 303, 403, 262, 8790, 185, 4249, 3049, 7]\n",
      "- Attention masks: [1, 1, 1, 1, 1, 1, 1, 1, 1, 1, 1, 1, 1, 1, 1, 1, 1, 1, 1, 1, 1, 1]\n",
      "- Decoded tokens: Nous frappions à nouveau, jusqu’à en avoir mal aux mains, comme si nous combattions un ennemi invisible.\n",
      "-------------\n",
      "For the following sentence:\n",
      "Cela va de la frontière avec le Cameroun sous mandat français, au sud-est, jusqu’aux confins de l’Adamawa au nord, et comprend la plus grande partie des chefferies et des petits royaumes qui ont échappé à l’autorité directe de l’Angleterre après le départ des Allemands : Kantu, Abong, Nkom, Bum, Foumban, Bali.\n",
      "We obtain the following:\n",
      "- Tokens: ['Cela', 'Ġva', 'Ġde', 'Ġla', 'ĠfrontiÃ¨re', 'Ġavec', 'Ġle', 'ĠCameroun', 'Ġsous', 'Ġmandat', 'ĠfranÃ§ais', ',', 'Ġau', 'Ġsud', '-', 'est', ',', 'Ġjusqu', 'âĢĻ', 'aux', 'Ġconfins', 'Ġde', 'Ġl', 'âĢĻ', 'Adamawa', 'Ġau', 'Ġnord', ',', 'Ġet', 'Ġcomprend', 'Ġla', 'Ġplus', 'Ġgrande', 'Ġpartie', 'Ġdes', 'Ġchefferies', 'Ġet', 'Ġdes', 'Ġpetits', 'Ġroyaumes', 'Ġqui', 'Ġont', 'ĠÃ©chappÃ©', 'ĠÃł', 'Ġl', 'âĢĻ', 'autoritÃ©', 'Ġdirecte', 'Ġde', 'Ġl', 'âĢĻ', 'Angleterre', 'ĠaprÃ¨s', 'Ġle', 'ĠdÃ©part', 'Ġdes', 'ĠAllemands', 'Ġ:', 'ĠKantu', ',', 'ĠAbong', ',', 'ĠNkom', ',', 'ĠBum', ',', 'ĠFoumban', ',', 'ĠBali', '.']\n",
      "- Ids: [1523, 814, 111, 117, 1940, 242, 145, 598, 462, 4178, 1689, 5, 150, 1463, 6, 173, 5, 486, 103, 422, 7316, 111, 98, 103, 3067, 150, 1282, 5, 136, 7356, 117, 272, 1039, 1204, 142, 6606, 136, 142, 1471, 2364, 172, 531, 4218, 137, 98, 103, 1444, 6960, 111, 98, 103, 1522, 508, 145, 1479, 142, 3012, 302, 6708, 5, 7783, 5, 4262, 5, 3624, 5, 4480, 5, 3629, 7]\n",
      "- Attention masks: [1, 1, 1, 1, 1, 1, 1, 1, 1, 1, 1, 1, 1, 1, 1, 1, 1, 1, 1, 1, 1, 1, 1, 1, 1, 1, 1, 1, 1, 1, 1, 1, 1, 1, 1, 1, 1, 1, 1, 1, 1, 1, 1, 1, 1, 1, 1, 1, 1, 1, 1, 1, 1, 1, 1, 1, 1, 1, 1, 1, 1, 1, 1, 1, 1, 1, 1, 1, 1, 1]\n",
      "- Decoded tokens: Cela va de la frontière avec le Cameroun sous mandat français, au sud-est, jusqu’aux confins de l’Adamawa au nord, et comprend la plus grande partie des chefferies et des petits royaumes qui ont échappé à l’autorité directe de l’Angleterre après le départ des Allemands : Kantu, Abong, Nkom, Bum, Foumban, Bali.\n",
      "-------------\n",
      "For the following sentence:\n",
      "À partir de mars 1932, mon père et ma mère quittent la résidence de Forestry House à Bamenda et s’installent dans la montagne, à Banso, où un hôpital doit être créé.\n",
      "We obtain the following:\n",
      "- Tokens: ['ÃĢ', 'Ġpartir', 'Ġde', 'Ġmars', 'Ġ1932', ',', 'Ġmon', 'ĠpÃ¨re', 'Ġet', 'Ġma', 'ĠmÃ¨re', 'Ġquittent', 'Ġla', 'ĠrÃ©sidence', 'Ġde', 'ĠForestry', 'ĠHouse', 'ĠÃł', 'ĠBamenda', 'Ġet', 'Ġs', 'âĢĻ', 'installent', 'Ġdans', 'Ġla', 'Ġmontagne', ',', 'ĠÃł', 'ĠBanso', ',', 'ĠoÃ¹', 'Ġun', 'ĠhÃ´pital', 'Ġdoit', 'ĠÃªtre', 'ĠcrÃ©Ã©', '.']\n",
      "- Ids: [457, 1047, 111, 6313, 8332, 5, 188, 209, 136, 243, 296, 8759, 117, 4210, 111, 1519, 1489, 137, 926, 136, 109, 103, 8329, 169, 117, 1327, 5, 137, 827, 5, 250, 185, 2637, 1009, 517, 2939, 7]\n",
      "- Attention masks: [1, 1, 1, 1, 1, 1, 1, 1, 1, 1, 1, 1, 1, 1, 1, 1, 1, 1, 1, 1, 1, 1, 1, 1, 1, 1, 1, 1, 1, 1, 1, 1, 1, 1, 1, 1, 1]\n",
      "- Decoded tokens: À partir de mars 1932, mon père et ma mère quittent la résidence de Forestry House à Bamenda et s’installent dans la montagne, à Banso, où un hôpital doit être créé.\n",
      "-------------\n",
      "For the following sentence:\n",
      "Quelque chose m’a été donné, quelque chose m’a été repris.\n",
      "We obtain the following:\n",
      "- Tokens: ['Quelque', 'Ġchose', 'Ġm', 'âĢĻ', 'a', 'ĠÃ©tÃ©', 'ĠdonnÃ©', ',', 'Ġquelque', 'Ġchose', 'Ġm', 'âĢĻ', 'a', 'ĠÃ©tÃ©', 'Ġrepris', '.']\n",
      "- Ids: [2917, 719, 112, 103, 47, 689, 3987, 5, 716, 719, 112, 103, 47, 689, 3520, 7]\n",
      "- Attention masks: [1, 1, 1, 1, 1, 1, 1, 1, 1, 1, 1, 1, 1, 1, 1, 1]\n",
      "- Decoded tokens: Quelque chose m’a été donné, quelque chose m’a été repris.\n",
      "-------------\n",
      "For the following sentence:\n",
      "Peut-être que nous avons pensé, comme tous les enfants, que nous allions y mourir.\n",
      "We obtain the following:\n",
      "- Tokens: ['Peut', '-', 'Ãªtre', 'Ġque', 'Ġnous', 'Ġavons', 'ĠpensÃ©', ',', 'Ġcomme', 'Ġtous', 'Ġles', 'Ġenfants', ',', 'Ġque', 'Ġnous', 'Ġallions', 'Ġy', 'Ġmourir', '.']\n",
      "- Ids: [1225, 6, 324, 180, 262, 1034, 2262, 5, 303, 637, 131, 361, 5, 180, 262, 4025, 346, 1695, 7]\n",
      "- Attention masks: [1, 1, 1, 1, 1, 1, 1, 1, 1, 1, 1, 1, 1, 1, 1, 1, 1, 1, 1]\n",
      "- Decoded tokens: Peut-être que nous avons pensé, comme tous les enfants, que nous allions y mourir.\n",
      "-------------\n",
      "For the following sentence:\n",
      "À la même époque, il suivait à la radio, jour après jour, les combats des Kikuyus au Kenya en vue de l’indépendance et la lutte des Zoulous contre la ségrégation raciale en Afrique du Sud.\n",
      "We obtain the following:\n",
      "- Tokens: ['ÃĢ', 'Ġla', 'ĠmÃªme', 'ĠÃ©poque', ',', 'Ġil', 'Ġsuivait', 'ĠÃł', 'Ġla', 'Ġradio', ',', 'Ġjour', 'ĠaprÃ¨s', 'Ġjour', ',', 'Ġles', 'Ġcombats', 'Ġdes', 'ĠKikuyus', 'Ġau', 'ĠKenya', 'Ġen', 'Ġvue', 'Ġde', 'Ġl', 'âĢĻ', 'indÃ©pendance', 'Ġet', 'Ġla', 'Ġlutte', 'Ġdes', 'ĠZoulous', 'Ġcontre', 'Ġla', 'ĠsÃ©grÃ©gation', 'Ġraciale', 'Ġen', 'ĠAfrique', 'Ġdu', 'ĠSud', '.']\n",
      "- Ids: [457, 117, 364, 1668, 5, 187, 4007, 137, 117, 2342, 5, 452, 508, 452, 5, 131, 7525, 142, 9392, 150, 4366, 147, 2546, 111, 98, 103, 1913, 136, 117, 3242, 142, 8414, 787, 117, 9012, 3901, 147, 646, 178, 2221, 7]\n",
      "- Attention masks: [1, 1, 1, 1, 1, 1, 1, 1, 1, 1, 1, 1, 1, 1, 1, 1, 1, 1, 1, 1, 1, 1, 1, 1, 1, 1, 1, 1, 1, 1, 1, 1, 1, 1, 1, 1, 1, 1, 1, 1, 1]\n",
      "- Decoded tokens: À la même époque, il suivait à la radio, jour après jour, les combats des Kikuyus au Kenya en vue de l’indépendance et la lutte des Zoulous contre la ségrégation raciale en Afrique du Sud.\n",
      "-------------\n",
      "For the following sentence:\n",
      "Image caractéristique de la Colonie : des voyageurs européens, vêtus de blanc et coiffés du casque Cawnpore, sont débarqués dans une nacelle et transportés jusqu’à terre à bord d’une pirogue montée par des Noirs.\n",
      "We obtain the following:\n",
      "- Tokens: ['Image', 'ĠcaractÃ©ristique', 'Ġde', 'Ġla', 'ĠColonie', 'Ġ:', 'Ġdes', 'Ġvoyageurs', 'ĠeuropÃ©ens', ',', 'ĠvÃªtus', 'Ġde', 'Ġblanc', 'Ġet', 'ĠcoiffÃ©s', 'Ġdu', 'Ġcasque', 'ĠCawnpore', ',', 'Ġsont', 'ĠdÃ©barquÃ©s', 'Ġdans', 'Ġune', 'Ġnacelle', 'Ġet', 'ĠtransportÃ©s', 'Ġjusqu', 'âĢĻ', 'Ãł', 'Ġterre', 'ĠÃł', 'Ġbord', 'Ġd', 'âĢĻ', 'une', 'Ġpirogue', 'ĠmontÃ©e', 'Ġpar', 'Ġdes', 'ĠNoirs', '.']\n",
      "- Ids: [8398, 9337, 111, 117, 4260, 302, 142, 7577, 4225, 5, 2327, 111, 1326, 136, 4312, 178, 3753, 4469, 5, 306, 8043, 169, 197, 8182, 136, 8041, 486, 103, 129, 579, 137, 659, 96, 103, 313, 1346, 3734, 162, 142, 6139, 7]\n",
      "- Attention masks: [1, 1, 1, 1, 1, 1, 1, 1, 1, 1, 1, 1, 1, 1, 1, 1, 1, 1, 1, 1, 1, 1, 1, 1, 1, 1, 1, 1, 1, 1, 1, 1, 1, 1, 1, 1, 1, 1, 1, 1, 1]\n",
      "- Decoded tokens: Image caractéristique de la Colonie : des voyageurs européens, vêtus de blanc et coiffés du casque Cawnpore, sont débarqués dans une nacelle et transportés jusqu’à terre à bord d’une pirogue montée par des Noirs.\n",
      "-------------\n",
      "For the following sentence:\n",
      "À la chute d’Aba (non loin de l’ancien sanctuaire des guerriers magiciens d’Aro Chuku), le Biafra entre dans une longue agonie.\n",
      "We obtain the following:\n",
      "- Tokens: ['ÃĢ', 'Ġla', 'Ġchute', 'Ġd', 'âĢĻ', 'Aba', 'Ġ(', 'non', 'Ġloin', 'Ġde', 'Ġl', 'âĢĻ', 'ancien', 'Ġsanctuaire', 'Ġdes', 'Ġguerriers', 'Ġmagiciens', 'Ġd', 'âĢĻ', 'Aro', 'ĠChuku', '),', 'Ġle', 'ĠBiafra', 'Ġentre', 'Ġdans', 'Ġune', 'Ġlongue', 'Ġagonie', '.']\n",
      "- Ids: [457, 117, 4252, 96, 103, 7590, 407, 3160, 491, 111, 98, 103, 6452, 3035, 142, 2335, 7499, 96, 103, 2372, 2319, 669, 145, 1957, 785, 169, 197, 1648, 7025, 7]\n",
      "- Attention masks: [1, 1, 1, 1, 1, 1, 1, 1, 1, 1, 1, 1, 1, 1, 1, 1, 1, 1, 1, 1, 1, 1, 1, 1, 1, 1, 1, 1, 1, 1]\n",
      "- Decoded tokens: À la chute d’Aba (non loin de l’ancien sanctuaire des guerriers magiciens d’Aro Chuku), le Biafra entre dans une longue agonie.\n",
      "-------------\n",
      "For the following sentence:\n",
      "Quand je suis revenu des terres indiennes, mon père était déjà malade, enfermé dans son silence obstiné.\n",
      "We obtain the following:\n",
      "- Tokens: ['Quand', 'Ġje', 'Ġsuis', 'Ġrevenu', 'Ġdes', 'Ġterres', 'Ġindiennes', ',', 'Ġmon', 'ĠpÃ¨re', 'ĠÃ©tait', 'ĠdÃ©jÃł', 'Ġmalade', ',', 'ĠenfermÃ©', 'Ġdans', 'Ġson', 'Ġsilence', 'ĠobstinÃ©', '.']\n",
      "- Ids: [881, 221, 655, 3904, 142, 3857, 7048, 5, 188, 209, 353, 1630, 1862, 5, 8586, 169, 233, 1066, 8564, 7]\n",
      "- Attention masks: [1, 1, 1, 1, 1, 1, 1, 1, 1, 1, 1, 1, 1, 1, 1, 1, 1, 1, 1, 1]\n",
      "- Decoded tokens: Quand je suis revenu des terres indiennes, mon père était déjà malade, enfermé dans son silence obstiné.\n",
      "-------------\n",
      "For the following sentence:\n",
      "En contrebas, dans la vallée, non loin des prisons, se trouve la ville haoussa avec ses remparts de pisé et ses hautes portes, telle qu’elle était au temps de la gloire de l’Adamawa.\n",
      "We obtain the following:\n",
      "- Tokens: ['En', 'Ġcontrebas', ',', 'Ġdans', 'Ġla', 'ĠvallÃ©e', ',', 'Ġnon', 'Ġloin', 'Ġdes', 'Ġprisons', ',', 'Ġse', 'Ġtrouve', 'Ġla', 'Ġville', 'Ġhaoussa', 'Ġavec', 'Ġses', 'Ġremparts', 'Ġde', 'ĠpisÃ©', 'Ġet', 'Ġses', 'Ġhautes', 'Ġportes', ',', 'Ġtelle', 'Ġqu', 'âĢĻ', 'elle', 'ĠÃ©tait', 'Ġau', 'Ġtemps', 'Ġde', 'Ġla', 'Ġgloire', 'Ġde', 'Ġl', 'âĢĻ', 'Adamawa', '.']\n",
      "- Ids: [693, 6961, 5, 169, 117, 4328, 5, 564, 491, 142, 7306, 5, 284, 2952, 117, 969, 8556, 242, 305, 4489, 111, 2292, 136, 305, 1348, 1646, 5, 1396, 118, 103, 234, 353, 150, 370, 111, 117, 7514, 111, 98, 103, 3067, 7]\n",
      "- Attention masks: [1, 1, 1, 1, 1, 1, 1, 1, 1, 1, 1, 1, 1, 1, 1, 1, 1, 1, 1, 1, 1, 1, 1, 1, 1, 1, 1, 1, 1, 1, 1, 1, 1, 1, 1, 1, 1, 1, 1, 1, 1, 1]\n",
      "- Decoded tokens: En contrebas, dans la vallée, non loin des prisons, se trouve la ville haoussa avec ses remparts de pisé et ses hautes portes, telle qu’elle était au temps de la gloire de l’Adamawa.\n",
      "-------------\n"
     ]
    }
   ],
   "source": [
    "# tokenize a sample (let us take 10 sentences) and print the results\n",
    "for i in range(10):\n",
    "    \n",
    "    sentence = random.choice(french_sentences) \n",
    "    \n",
    "    print(f\"For the following sentence:\\n{sentence}\")\n",
    "    \n",
    "    print(\"We obtain the following:\")\n",
    "    \n",
    "    french_encoding = bpe_tokenizer.encode(sentence)\n",
    "    \n",
    "    print(f\"- Tokens: {french_encoding.tokens}\")\n",
    "    \n",
    "    print(f\"- Ids: {french_encoding.ids}\")\n",
    "    \n",
    "    print(f\"- Attention masks: {french_encoding.attention_mask}\")\n",
    "    \n",
    "    print(f\"- Decoded tokens: {bpe_tokenizer.decode(french_encoding.ids)}\")\n",
    "\n",
    "    print(\"-------------\")\n",
    "    "
   ]
  },
  {
   "attachments": {},
   "cell_type": "markdown",
   "metadata": {},
   "source": [
    "We can test it on a pair of sentences as follows (for 2 sentences):"
   ]
  },
  {
   "cell_type": "code",
   "execution_count": 126,
   "metadata": {},
   "outputs": [
    {
     "name": "stdout",
     "output_type": "stream",
     "text": [
      "['Nous frappions à nouveau, jusqu’à en avoir mal aux mains, comme si nous combattions un ennemi invisible.', 'Cela va de la frontière avec le Cameroun sous mandat français, au sud-est, jusqu’aux confins de l’Adamawa au nord, et comprend la plus grande partie des chefferies et des petits royaumes qui ont échappé à l’autorité directe de l’Angleterre après le départ des Allemands : Kantu, Abong, Nkom, Bum, Foumban, Bali.']\n",
      "['Nous', 'Ġfrappions', 'ĠÃł', 'Ġnouveau', ',', 'Ġjusqu', 'âĢĻ', 'Ãł', 'Ġen', 'Ġavoir', 'Ġmal', 'Ġaux', 'Ġmains', ',', 'Ġcomme', 'Ġsi', 'Ġnous', 'Ġcombattions', 'Ġun', 'Ġennemi', 'Ġinvisible', '.', 'Cela', 'Ġva', 'Ġde', 'Ġla', 'ĠfrontiÃ¨re', 'Ġavec', 'Ġle', 'ĠCameroun', 'Ġsous', 'Ġmandat', 'ĠfranÃ§ais', ',', 'Ġau', 'Ġsud', '-', 'est', ',', 'Ġjusqu', 'âĢĻ', 'aux', 'Ġconfins', 'Ġde', 'Ġl', 'âĢĻ', 'Adamawa', 'Ġau', 'Ġnord', ',', 'Ġet', 'Ġcomprend', 'Ġla', 'Ġplus', 'Ġgrande', 'Ġpartie', 'Ġdes', 'Ġchefferies', 'Ġet', 'Ġdes', 'Ġpetits', 'Ġroyaumes', 'Ġqui', 'Ġont', 'ĠÃ©chappÃ©', 'ĠÃł', 'Ġl', 'âĢĻ', 'autoritÃ©', 'Ġdirecte', 'Ġde', 'Ġl', 'âĢĻ', 'Angleterre', 'ĠaprÃ¨s', 'Ġle', 'ĠdÃ©part', 'Ġdes', 'ĠAllemands', 'Ġ:', 'ĠKantu', ',', 'ĠAbong', ',', 'ĠNkom', ',', 'ĠBum', ',', 'ĠFoumban', ',', 'ĠBali', '.']\n",
      "[569, 2286, 137, 1134, 5, 486, 103, 129, 147, 1596, 450, 377, 1087, 5, 303, 403, 262, 8790, 185, 4249, 3049, 7, 1523, 814, 111, 117, 1940, 242, 145, 598, 462, 4178, 1689, 5, 150, 1463, 6, 173, 5, 486, 103, 422, 7316, 111, 98, 103, 3067, 150, 1282, 5, 136, 7356, 117, 272, 1039, 1204, 142, 6606, 136, 142, 1471, 2364, 172, 531, 4218, 137, 98, 103, 1444, 6960, 111, 98, 103, 1522, 508, 145, 1479, 142, 3012, 302, 6708, 5, 7783, 5, 4262, 5, 3624, 5, 4480, 5, 3629, 7]\n"
     ]
    }
   ],
   "source": [
    "random.seed(100)\n",
    "\n",
    "sentences = [random.choice(french_sentences) for i in range(2)]\n",
    "\n",
    "encoding = bpe_tokenizer.encode(*sentences)\n",
    "\n",
    "print(sentences)\n",
    "print(encoding.tokens)\n",
    "print(encoding.ids)"
   ]
  },
  {
   "cell_type": "code",
   "execution_count": 127,
   "metadata": {},
   "outputs": [
    {
     "data": {
      "text/plain": [
       "9550"
      ]
     },
     "execution_count": 127,
     "metadata": {},
     "output_type": "execute_result"
    }
   ],
   "source": [
    "bpe_tokenizer.get_vocab_size()"
   ]
  },
  {
   "attachments": {},
   "cell_type": "markdown",
   "metadata": {},
   "source": [
    "We have 9550 tokens in the French corpus."
   ]
  },
  {
   "attachments": {},
   "cell_type": "markdown",
   "metadata": {},
   "source": [
    "- On the Wolof corpus (For the next we will do this separately for each corpus)"
   ]
  },
  {
   "cell_type": "code",
   "execution_count": 128,
   "metadata": {},
   "outputs": [],
   "source": [
    "bpe_tokenizer.train_from_iterator(load_wolof_sentences(), trainer=bpe_trainer)\n"
   ]
  },
  {
   "cell_type": "code",
   "execution_count": 129,
   "metadata": {},
   "outputs": [
    {
     "name": "stdout",
     "output_type": "stream",
     "text": [
      "For the following sentence:\n",
      "Ci weeru mars 1932 la samay way-jur jóge Forestry House ca Bamendaa, dem dëkki Bansoo, fa nguur gi waroon a tabax ab fajukaay.\n",
      "We obtain the following:\n"
     ]
    },
    {
     "ename": "PanicException",
     "evalue": "no entry found for key",
     "output_type": "error",
     "traceback": [
      "\u001b[1;31m---------------------------------------------------------------------------\u001b[0m",
      "\u001b[1;31mPanicException\u001b[0m                            Traceback (most recent call last)",
      "\u001b[1;32md:\\Oumar\\Seagate1\\IA data forest\\master semestre 3\\Préparation mémoire\\preparation\\some_tests\\subject2\\execise_gpt2.ipynb Cell 46\u001b[0m in \u001b[0;36m1\n\u001b[0;32m      <a href='vscode-notebook-cell:/d%3A/Oumar/Seagate1/IA%20data%20forest/master%20semestre%203/Pr%C3%A9paration%20m%C3%A9moire/preparation/some_tests/subject2/execise_gpt2.ipynb#Y112sZmlsZQ%3D%3D?line=5'>6</a>\u001b[0m \u001b[39mprint\u001b[39m(\u001b[39mf\u001b[39m\u001b[39m\"\u001b[39m\u001b[39mFor the following sentence:\u001b[39m\u001b[39m\\n\u001b[39;00m\u001b[39m{\u001b[39;00msentence\u001b[39m}\u001b[39;00m\u001b[39m\"\u001b[39m)\n\u001b[0;32m      <a href='vscode-notebook-cell:/d%3A/Oumar/Seagate1/IA%20data%20forest/master%20semestre%203/Pr%C3%A9paration%20m%C3%A9moire/preparation/some_tests/subject2/execise_gpt2.ipynb#Y112sZmlsZQ%3D%3D?line=7'>8</a>\u001b[0m \u001b[39mprint\u001b[39m(\u001b[39m\"\u001b[39m\u001b[39mWe obtain the following:\u001b[39m\u001b[39m\"\u001b[39m)\n\u001b[1;32m---> <a href='vscode-notebook-cell:/d%3A/Oumar/Seagate1/IA%20data%20forest/master%20semestre%203/Pr%C3%A9paration%20m%C3%A9moire/preparation/some_tests/subject2/execise_gpt2.ipynb#Y112sZmlsZQ%3D%3D?line=9'>10</a>\u001b[0m wolof_encoding \u001b[39m=\u001b[39m bpe_tokenizer\u001b[39m.\u001b[39;49mencode(sentence)\n\u001b[0;32m     <a href='vscode-notebook-cell:/d%3A/Oumar/Seagate1/IA%20data%20forest/master%20semestre%203/Pr%C3%A9paration%20m%C3%A9moire/preparation/some_tests/subject2/execise_gpt2.ipynb#Y112sZmlsZQ%3D%3D?line=11'>12</a>\u001b[0m \u001b[39mprint\u001b[39m(\u001b[39mf\u001b[39m\u001b[39m\"\u001b[39m\u001b[39m- Tokens: \u001b[39m\u001b[39m{\u001b[39;00mwolof_encoding\u001b[39m.\u001b[39mtokens\u001b[39m}\u001b[39;00m\u001b[39m\"\u001b[39m)\n\u001b[0;32m     <a href='vscode-notebook-cell:/d%3A/Oumar/Seagate1/IA%20data%20forest/master%20semestre%203/Pr%C3%A9paration%20m%C3%A9moire/preparation/some_tests/subject2/execise_gpt2.ipynb#Y112sZmlsZQ%3D%3D?line=13'>14</a>\u001b[0m \u001b[39mprint\u001b[39m(\u001b[39mf\u001b[39m\u001b[39m\"\u001b[39m\u001b[39m- Ids: \u001b[39m\u001b[39m{\u001b[39;00mwolof_encoding\u001b[39m.\u001b[39mids\u001b[39m}\u001b[39;00m\u001b[39m\"\u001b[39m)\n",
      "\u001b[1;31mPanicException\u001b[0m: no entry found for key"
     ]
    }
   ],
   "source": [
    "# tokenize a sample (let us take 10 sentences) and print the results\n",
    "for i in range(10):\n",
    "    \n",
    "    sentence = random.choice(wolof_sentences) \n",
    "    \n",
    "    print(f\"For the following sentence:\\n{sentence}\")\n",
    "    \n",
    "    print(\"We obtain the following:\")\n",
    "    \n",
    "    wolof_encoding = bpe_tokenizer.encode(sentence)\n",
    "    \n",
    "    print(f\"- Tokens: {wolof_encoding.tokens}\")\n",
    "    \n",
    "    print(f\"- Ids: {wolof_encoding.ids}\")\n",
    "    \n",
    "    print(f\"- Attention masks: {wolof_encoding.attention_mask}\")\n",
    "    \n",
    "    print(f\"- Decoded tokens: {bpe_tokenizer.decode(wolof_encoding.ids)}\")\n",
    "\n",
    "    print(\"-------------\")\n",
    "    "
   ]
  },
  {
   "attachments": {},
   "cell_type": "markdown",
   "metadata": {},
   "source": [
    "We see an error indicating that some wolof tokens are not identified since we already had trained the tokenizer on the french corpus and obtained 10000 when adding some wolof tokens. Let us train another tokenizer for the wolof corpus."
   ]
  },
  {
   "cell_type": "code",
   "execution_count": 17,
   "metadata": {},
   "outputs": [],
   "source": [
    "bpe_tokenizer2 = Tokenizer(models.BPE())\n",
    "\n",
    "# add a byte level pre-tokenizer and specify that we will not a space to the first word\n",
    "bpe_tokenizer2.pre_tokenizer = pre_tokenizers.ByteLevel(add_prefix_space=False)\n",
    "\n",
    "bpe_tokenizer2.train_from_iterator(load_wolof_sentences(), trainer=bpe_trainer)\n",
    "\n",
    "bpe_tokenizer2.decoder = decoders.ByteLevel()"
   ]
  },
  {
   "cell_type": "code",
   "execution_count": 18,
   "metadata": {},
   "outputs": [
    {
     "name": "stdout",
     "output_type": "stream",
     "text": [
      "For the following sentence:\n",
      "Bu ñu agsee ci dëkk, ndawal buur bee leen di teerusi, dalal leen ca pénc ma, ñu portalewu ak buur beek i dagam.\n",
      "We obtain the following:\n",
      "- Tokens: ['Bu', 'ĠÃ±u', 'Ġagsee', 'Ġci', 'ĠdÃ«kk', ',', 'Ġndawal', 'Ġbuur', 'Ġbee', 'Ġleen', 'Ġdi', 'Ġteerusi', ',', 'Ġdalal', 'Ġleen', 'Ġca', 'ĠpÃ©nc', 'Ġma', ',', 'ĠÃ±u', 'Ġportalewu', 'Ġak', 'Ġbuur', 'Ġbeek', 'Ġi', 'Ġdagam', '.']\n",
      "- Ids: [1269, 154, 3381, 116, 239, 4, 3241, 1330, 1100, 205, 133, 3501, 4, 1353, 205, 189, 3634, 126, 4, 154, 6139, 144, 1330, 958, 175, 4568, 6]\n",
      "- Attention masks: [1, 1, 1, 1, 1, 1, 1, 1, 1, 1, 1, 1, 1, 1, 1, 1, 1, 1, 1, 1, 1, 1, 1, 1, 1, 1, 1]\n",
      "- Decoded tokens: Bu ñu agsee ci dëkk, ndawal buur bee leen di teerusi, dalal leen ca pénc ma, ñu portalewu ak buur beek i dagam.\n",
      "-------------\n",
      "For the following sentence:\n",
      "Ñax mi muur joor gi dafa bare ba may fàttali géej, xóot te raglu ni moom.\n",
      "We obtain the following:\n",
      "- Tokens: ['Ãĳax', 'Ġmi', 'Ġmuur', 'Ġjoor', 'Ġgi', 'Ġdafa', 'Ġbare', 'Ġba', 'Ġmay', 'ĠfÃłttali', 'ĠgÃ©ej', ',', 'ĠxÃ³ot', 'Ġte', 'Ġraglu', 'Ġni', 'Ġmoom', '.']\n",
      "- Ids: [5158, 275, 1210, 1030, 158, 398, 637, 138, 273, 449, 923, 4, 2289, 150, 1364, 124, 252, 6]\n",
      "- Attention masks: [1, 1, 1, 1, 1, 1, 1, 1, 1, 1, 1, 1, 1, 1, 1, 1, 1, 1]\n",
      "- Decoded tokens: Ñax mi muur joor gi dafa bare ba may fàttali géej, xóot te raglu ni moom.\n",
      "-------------\n",
      "For the following sentence:\n",
      "Xamuma dara ci samag juddu (war naa naa cee bariy moroom…) waaye su ma daagoo ba fa gën a sore ci man, seen kàttan googoo may feeñu ak pëndaxit bi seen yaram di togg ak a toggaat, mu jaxasoo ba indi jëmmu doom-aadama.\n",
      "We obtain the following:\n",
      "- Tokens: ['Xamuma', 'Ġdara', 'Ġci', 'Ġsamag', 'Ġjuddu', 'Ġ(', 'war', 'Ġnaa', 'Ġnaa', 'Ġcee', 'Ġbariy', 'Ġmoroom', 'âĢ¦)', 'Ġwaaye', 'Ġsu', 'Ġma', 'Ġdaagoo', 'Ġba', 'Ġfa', 'ĠgÃ«n', 'Ġa', 'Ġsore', 'Ġci', 'Ġman', ',', 'Ġseen', 'ĠkÃłttan', 'Ġgoogoo', 'Ġmay', 'ĠfeeÃ±u', 'Ġak', 'ĠpÃ«ndaxit', 'Ġbi', 'Ġseen', 'Ġyaram', 'Ġdi', 'Ġtogg', 'Ġak', 'Ġa', 'Ġtoggaat', ',', 'Ġmu', 'Ġjaxasoo', 'Ġba', 'Ġindi', 'ĠjÃ«mmu', 'Ġdoom', '-', 'aadama', '.']\n",
      "- Ids: [5630, 330, 116, 2979, 2509, 1176, 2734, 244, 244, 1472, 2038, 829, 5476, 586, 204, 126, 3393, 138, 162, 306, 103, 1005, 116, 542, 4, 173, 1789, 2495, 273, 2018, 144, 5691, 139, 173, 417, 133, 1382, 144, 103, 5878, 4, 129, 2078, 138, 3564, 2590, 314, 5, 665, 6]\n",
      "- Attention masks: [1, 1, 1, 1, 1, 1, 1, 1, 1, 1, 1, 1, 1, 1, 1, 1, 1, 1, 1, 1, 1, 1, 1, 1, 1, 1, 1, 1, 1, 1, 1, 1, 1, 1, 1, 1, 1, 1, 1, 1, 1, 1, 1, 1, 1, 1, 1, 1, 1, 1]\n",
      "- Decoded tokens: Xamuma dara ci samag juddu (war naa naa cee bariy moroom…) waaye su ma daagoo ba fa gën a sore ci man, seen kàttan googoo may feeñu ak pëndaxit bi seen yaram di togg ak a toggaat, mu jaxasoo ba indi jëmmu doom-aadama.\n",
      "-------------\n",
      "For the following sentence:\n",
      "Loolu génn na ci sama xel.\n",
      "We obtain the following:\n",
      "- Tokens: ['Loolu', 'ĠgÃ©nn', 'Ġna', 'Ġci', 'Ġsama', 'Ġxel', '.']\n",
      "- Ids: [1075, 629, 135, 116, 172, 338, 6]\n",
      "- Attention masks: [1, 1, 1, 1, 1, 1, 1]\n",
      "- Decoded tokens: Loolu génn na ci sama xel.\n",
      "-------------\n",
      "For the following sentence:\n",
      "Beneen kërug « District Officer » a nga woon Kamerun ga Farañse yi yilifoon, ca Óbudu, ca taatu tund ya ay dàngin dëkkoon.\n",
      "We obtain the following:\n",
      "- Tokens: ['Beneen', 'ĠkÃ«rug', 'ĠÂ«', 'ĠDistrict', 'ĠOfficer', 'ĠÂ»', 'Ġa', 'Ġnga', 'Ġwoon', 'ĠKamerun', 'Ġga', 'ĠFaraÃ±se', 'Ġyi', 'Ġyilifoon', ',', 'Ġca', 'ĠÃĵbudu', ',', 'Ġca', 'Ġtaatu', 'Ġtund', 'Ġya', 'Ġay', 'ĠdÃłngin', 'ĠdÃ«kkoon', '.']\n",
      "- Ids: [3668, 5014, 321, 1268, 1266, 326, 103, 304, 182, 550, 589, 3130, 137, 3372, 4, 189, 1408, 4, 189, 1656, 1398, 229, 206, 2101, 1724, 6]\n",
      "- Attention masks: [1, 1, 1, 1, 1, 1, 1, 1, 1, 1, 1, 1, 1, 1, 1, 1, 1, 1, 1, 1, 1, 1, 1, 1, 1, 1]\n",
      "- Decoded tokens: Beneen kërug « District Officer » a nga woon Kamerun ga Farañse yi yilifoon, ca Óbudu, ca taatu tund ya ay dàngin dëkkoon.\n",
      "-------------\n",
      "For the following sentence:\n",
      "Mbootaayi xeet yi fexe ba fekk leen fa, door a teg bët ciy ňaawtéef yu kéemaane ya fa Adekunle defoon.\n",
      "We obtain the following:\n",
      "- Tokens: ['Mbootaayi', 'Ġxeet', 'Ġyi', 'Ġfexe', 'Ġba', 'Ġfekk', 'Ġleen', 'Ġfa', ',', 'Ġdoor', 'Ġa', 'Ġteg', 'ĠbÃ«t', 'Ġciy', 'ĠÅĪaawtÃ©ef', 'Ġyu', 'ĠkÃ©emaane', 'Ġya', 'Ġfa', 'ĠAdekunle', 'Ġdefoon', '.']\n",
      "- Ids: [5886, 1494, 137, 2869, 138, 394, 205, 162, 4, 703, 103, 339, 539, 465, 4948, 157, 1405, 229, 162, 2610, 3077, 6]\n",
      "- Attention masks: [1, 1, 1, 1, 1, 1, 1, 1, 1, 1, 1, 1, 1, 1, 1, 1, 1, 1, 1, 1, 1, 1]\n",
      "- Decoded tokens: Mbootaayi xeet yi fexe ba fekk leen fa, door a teg bët ciy ňaawtéef yu kéemaane ya fa Adekunle defoon.\n",
      "-------------\n",
      "For the following sentence:\n",
      "Ngir teeri Bansoo, muy noor di nawet, oto bi day daw cib taliy raŋ-raŋ ba jeexal ko.\n",
      "We obtain the following:\n",
      "- Tokens: ['Ngir', 'Ġteeri', 'ĠBansoo', ',', 'Ġmuy', 'Ġnoor', 'Ġdi', 'Ġnawet', ',', 'Ġoto', 'Ġbi', 'Ġday', 'Ġdaw', 'Ġcib', 'Ġtaliy', 'ĠraÅĭ', '-', 'raÅĭ', 'Ġba', 'Ġjeexal', 'Ġko', '.']\n",
      "- Ids: [2577, 3356, 743, 4, 277, 4089, 133, 6118, 4, 4066, 139, 578, 502, 1488, 3357, 2418, 5, 2716, 138, 2043, 131, 6]\n",
      "- Attention masks: [1, 1, 1, 1, 1, 1, 1, 1, 1, 1, 1, 1, 1, 1, 1, 1, 1, 1, 1, 1, 1, 1]\n",
      "- Decoded tokens: Ngir teeri Bansoo, muy noor di nawet, oto bi day daw cib taliy raŋ-raŋ ba jeexal ko.\n",
      "-------------\n",
      "For the following sentence:\n",
      "Legoos, Ibadaŋ ak Kótónu, naka noonu. Askan yeek làkk yi jaxasoo. Mënoon naa sax limaale Onitsaa ak màrseem ba nga xam ni daanaka téereb nettali bu la réer ci dunyaa soo fa demee ñu jaay la ko. Te ci xeet yooyu ma tudd, Àngale yi kenn demul ñu des. Ni ñu yëge seen bopp, di jaay maanaa, mu méngook seen colin, dafa rekk reelu. Foo séenee ay kompalet ak i sàppo, dóoral yat, ñoom a. Seeni jigéen, ñoom, ñu nga leen doon xàmmee seeni yére yu tegginewul woon lool. Ñoom ñépp nag, Àngale yooyu, di daje ci seeni màkkaani bopp, di wax ay waxi picc. Fàww ñu ràññee ci gaa ñooñu liggéeykati Lloyd’s ya mbaa yu Glynn Mills ak Barclay’s. Foo leen fekk ñu ngay xëcc ci seeni sigaar, lu ñor ñu wax, lu ñorul ñu wax, di jëw ak déeyante. Léeg-léeg kenn ci ñoom ni : « Mbër, neexul ba neexul waaye dëkk bii du dëkku como, de !  » Bóoy yi ñoom, ñu ngiy jaabanteek ay ndab yu ñu teg i kaasi sàngara, ku ne ñu ni la ko jabb te du benn yoon booy dégg seen baat.\n",
      "We obtain the following:\n",
      "- Tokens: ['Legoos', ',', 'ĠIbadaÅĭ', 'Ġak', 'ĠKÃ³tÃ³nu', ',', 'Ġnaka', 'Ġnoonu', '.', 'ĠAskan', 'Ġyeek', 'ĠlÃłkk', 'Ġyi', 'Ġjaxasoo', '.', 'ĠMÃ«noon', 'Ġnaa', 'Ġsax', 'Ġlimaale', 'ĠOnitsaa', 'Ġak', 'ĠmÃłrseem', 'Ġba', 'Ġnga', 'Ġxam', 'Ġni', 'Ġdaanaka', 'ĠtÃ©ereb', 'Ġnettali', 'Ġbu', 'Ġla', 'ĠrÃ©er', 'Ġci', 'Ġdunyaa', 'Ġsoo', 'Ġfa', 'Ġdemee', 'ĠÃ±u', 'Ġjaay', 'Ġla', 'Ġko', '.', 'ĠTe', 'Ġci', 'Ġxeet', 'Ġyooyu', 'Ġma', 'Ġtudd', ',', 'ĠÃĢngale', 'Ġyi', 'Ġkenn', 'Ġdemul', 'ĠÃ±u', 'Ġdes', '.', 'ĠNi', 'ĠÃ±u', 'ĠyÃ«ge', 'Ġseen', 'Ġbopp', ',', 'Ġdi', 'Ġjaay', 'Ġmaanaa', ',', 'Ġmu', 'ĠmÃ©ngook', 'Ġseen', 'Ġcolin', ',', 'Ġdafa', 'Ġrekk', 'Ġreelu', '.', 'ĠFoo', 'ĠsÃ©enee', 'Ġay', 'Ġkompalet', 'Ġak', 'Ġi', 'ĠsÃłppo', ',', 'ĠdÃ³oral', 'Ġyat', ',', 'ĠÃ±oom', 'Ġa', '.', 'ĠSeeni', 'ĠjigÃ©en', ',', 'ĠÃ±oom', ',', 'ĠÃ±u', 'Ġnga', 'Ġleen', 'Ġdoon', 'ĠxÃłmmee', 'Ġseeni', 'ĠyÃ©re', 'Ġyu', 'Ġtegginewul', 'Ġwoon', 'Ġlool', '.', 'ĠÃĳoom', 'ĠÃ±Ã©pp', 'Ġnag', ',', 'ĠÃĢngale', 'Ġyooyu', ',', 'Ġdi', 'Ġdaje', 'Ġci', 'Ġseeni', 'ĠmÃłkkaani', 'Ġbopp', ',', 'Ġdi', 'Ġwax', 'Ġay', 'Ġwaxi', 'Ġpicc', '.', 'ĠFÃłww', 'ĠÃ±u', 'ĠrÃłÃ±Ã±ee', 'Ġci', 'Ġgaa', 'ĠÃ±ooÃ±u', 'ĠliggÃ©eykati', 'ĠLloyd', 'âĢĻ', 's', 'Ġya', 'Ġmbaa', 'Ġyu', 'ĠGlynn', 'ĠMills', 'Ġak', 'ĠBarclay', 'âĢĻ', 's', '.', 'ĠFoo', 'Ġleen', 'Ġfekk', 'ĠÃ±u', 'Ġngay', 'ĠxÃ«cc', 'Ġci', 'Ġseeni', 'Ġsigaar', ',', 'Ġlu', 'ĠÃ±or', 'ĠÃ±u', 'Ġwax', ',', 'Ġlu', 'ĠÃ±orul', 'ĠÃ±u', 'Ġwax', ',', 'Ġdi', 'ĠjÃ«w', 'Ġak', 'ĠdÃ©eyante', '.', 'ĠLÃ©eg', '-', 'lÃ©eg', 'Ġkenn', 'Ġci', 'ĠÃ±oom', 'Ġni', 'Ġ:', 'ĠÂ«', 'ĠMbÃ«r', ',', 'Ġneexul', 'Ġba', 'Ġneexul', 'Ġwaaye', 'ĠdÃ«kk', 'Ġbii', 'Ġdu', 'ĠdÃ«kku', 'Ġcomo', ',', 'Ġde', 'Ġ!', 'Ġ', 'ĠÂ»', 'ĠBÃ³oy', 'Ġyi', 'ĠÃ±oom', ',', 'ĠÃ±u', 'Ġngiy', 'Ġjaabanteek', 'Ġay', 'Ġndab', 'Ġyu', 'ĠÃ±u', 'Ġteg', 'Ġi', 'Ġkaasi', 'ĠsÃłngara', ',', 'Ġku', 'Ġne', 'ĠÃ±u', 'Ġni', 'Ġla', 'Ġko', 'Ġjabb', 'Ġte', 'Ġdu', 'Ġbenn', 'Ġyoon', 'Ġbooy', 'ĠdÃ©gg', 'Ġseen', 'Ġbaat', '.']\n",
      "- Ids: [3735, 4, 5463, 144, 3639, 4, 1124, 664, 6, 6478, 419, 1462, 137, 2078, 6, 3401, 244, 224, 5852, 6950, 144, 5814, 138, 304, 249, 124, 595, 2076, 746, 163, 142, 1126, 116, 783, 606, 162, 887, 154, 678, 142, 131, 6, 612, 116, 1494, 506, 126, 515, 4, 813, 137, 316, 2362, 154, 742, 6, 1347, 154, 2409, 173, 296, 4, 133, 678, 1582, 4, 129, 2540, 173, 6420, 4, 398, 345, 2937, 6, 1540, 5599, 206, 6589, 144, 175, 6003, 4, 5399, 1185, 4, 395, 103, 6, 3460, 432, 4, 395, 4, 154, 304, 205, 191, 1406, 328, 1781, 157, 6473, 182, 386, 6, 1564, 713, 332, 4, 813, 506, 4, 133, 3245, 116, 328, 3527, 296, 4, 133, 248, 206, 1727, 3403, 6, 3128, 154, 2587, 116, 967, 5381, 5270, 6932, 1998, 63, 229, 325, 157, 6955, 6860, 144, 6835, 1998, 63, 6, 1540, 205, 394, 154, 803, 1324, 116, 328, 5009, 4, 180, 2278, 154, 248, 4, 180, 6261, 154, 248, 4, 133, 3143, 144, 6211, 6, 3105, 5, 423, 316, 116, 395, 124, 236, 321, 5537, 4, 1753, 138, 1753, 586, 239, 927, 209, 1527, 6754, 4, 136, 825, 81, 326, 6825, 137, 395, 4, 154, 882, 6250, 206, 1963, 157, 154, 339, 175, 4291, 6402, 4, 282, 207, 154, 124, 142, 131, 5072, 150, 209, 276, 377, 2201, 494, 173, 959, 6]\n",
      "- Attention masks: [1, 1, 1, 1, 1, 1, 1, 1, 1, 1, 1, 1, 1, 1, 1, 1, 1, 1, 1, 1, 1, 1, 1, 1, 1, 1, 1, 1, 1, 1, 1, 1, 1, 1, 1, 1, 1, 1, 1, 1, 1, 1, 1, 1, 1, 1, 1, 1, 1, 1, 1, 1, 1, 1, 1, 1, 1, 1, 1, 1, 1, 1, 1, 1, 1, 1, 1, 1, 1, 1, 1, 1, 1, 1, 1, 1, 1, 1, 1, 1, 1, 1, 1, 1, 1, 1, 1, 1, 1, 1, 1, 1, 1, 1, 1, 1, 1, 1, 1, 1, 1, 1, 1, 1, 1, 1, 1, 1, 1, 1, 1, 1, 1, 1, 1, 1, 1, 1, 1, 1, 1, 1, 1, 1, 1, 1, 1, 1, 1, 1, 1, 1, 1, 1, 1, 1, 1, 1, 1, 1, 1, 1, 1, 1, 1, 1, 1, 1, 1, 1, 1, 1, 1, 1, 1, 1, 1, 1, 1, 1, 1, 1, 1, 1, 1, 1, 1, 1, 1, 1, 1, 1, 1, 1, 1, 1, 1, 1, 1, 1, 1, 1, 1, 1, 1, 1, 1, 1, 1, 1, 1, 1, 1, 1, 1, 1, 1, 1, 1, 1, 1, 1, 1, 1, 1, 1, 1, 1, 1, 1, 1, 1, 1, 1, 1, 1, 1, 1, 1, 1, 1, 1, 1, 1, 1, 1, 1, 1]\n",
      "- Decoded tokens: Legoos, Ibadaŋ ak Kótónu, naka noonu. Askan yeek làkk yi jaxasoo. Mënoon naa sax limaale Onitsaa ak màrseem ba nga xam ni daanaka téereb nettali bu la réer ci dunyaa soo fa demee ñu jaay la ko. Te ci xeet yooyu ma tudd, Àngale yi kenn demul ñu des. Ni ñu yëge seen bopp, di jaay maanaa, mu méngook seen colin, dafa rekk reelu. Foo séenee ay kompalet ak i sàppo, dóoral yat, ñoom a. Seeni jigéen, ñoom, ñu nga leen doon xàmmee seeni yére yu tegginewul woon lool. Ñoom ñépp nag, Àngale yooyu, di daje ci seeni màkkaani bopp, di wax ay waxi picc. Fàww ñu ràññee ci gaa ñooñu liggéeykati Lloyd’s ya mbaa yu Glynn Mills ak Barclay’s. Foo leen fekk ñu ngay xëcc ci seeni sigaar, lu ñor ñu wax, lu ñorul ñu wax, di jëw ak déeyante. Léeg-léeg kenn ci ñoom ni : « Mbër, neexul ba neexul waaye dëkk bii du dëkku como, de !  » Bóoy yi ñoom, ñu ngiy jaabanteek ay ndab yu ñu teg i kaasi sàngara, ku ne ñu ni la ko jabb te du benn yoon booy dégg seen baat.\n",
      "-------------\n",
      "For the following sentence:\n",
      "Xanaa liñ fi tudde woon Xare bu Mag bi. Sunu kër ca Niis : juróomi nit ñuy dankalikoo ci ňaari néeg yu ñu teg i xànq. Juróom-benn lanu woon sax, boo limaalee Mariyaa, mbindaan mi sama maam ju jigéen ne woon, ci xolam bu rafet, du ko wacc mukk ginnaaw. Luy delseeti ci sama xel ? Dëkku kow ba sama yaay war a daw làquji ndax ragal Almaŋ yi jàpp ko… Loolu lépp seey na ba ni mes, dellu mel niy léeb ak lëppóon.\n",
      "We obtain the following:\n",
      "- Tokens: ['Xanaa', 'ĠliÃ±', 'Ġfi', 'Ġtudde', 'Ġwoon', 'ĠXare', 'Ġbu', 'ĠMag', 'Ġbi', '.', 'ĠSunu', 'ĠkÃ«r', 'Ġca', 'ĠNiis', 'Ġ:', 'ĠjurÃ³omi', 'Ġnit', 'ĠÃ±uy', 'Ġdankalikoo', 'Ġci', 'ĠÅĪaari', 'ĠnÃ©eg', 'Ġyu', 'ĠÃ±u', 'Ġteg', 'Ġi', 'ĠxÃłnq', '.', 'ĠJurÃ³om', '-', 'benn', 'Ġlanu', 'Ġwoon', 'Ġsax', ',', 'Ġboo', 'Ġlimaalee', 'ĠMariyaa', ',', 'Ġmbindaan', 'Ġmi', 'Ġsama', 'Ġmaam', 'Ġju', 'ĠjigÃ©en', 'Ġne', 'Ġwoon', ',', 'Ġci', 'Ġxolam', 'Ġbu', 'Ġrafet', ',', 'Ġdu', 'Ġko', 'Ġwacc', 'Ġmukk', 'Ġginnaaw', '.', 'ĠLuy', 'Ġdelseeti', 'Ġci', 'Ġsama', 'Ġxel', 'Ġ?', 'ĠDÃ«kku', 'Ġkow', 'Ġba', 'Ġsama', 'Ġyaay', 'Ġwar', 'Ġa', 'Ġdaw', 'ĠlÃłquji', 'Ġndax', 'Ġragal', 'ĠAlmaÅĭ', 'Ġyi', 'ĠjÃłpp', 'Ġko', 'âĢ¦', 'ĠLoolu', 'ĠlÃ©pp', 'Ġseey', 'Ġna', 'Ġba', 'Ġni', 'Ġmes', ',', 'Ġdellu', 'Ġmel', 'Ġniy', 'ĠlÃ©eb', 'Ġak', 'ĠlÃ«ppÃ³on', '.']\n",
      "- Ids: [2137, 1229, 444, 814, 182, 2443, 163, 3005, 139, 6, 2385, 318, 189, 1136, 236, 2051, 343, 403, 2614, 116, 1357, 532, 157, 154, 339, 175, 6445, 6, 2576, 5, 1421, 1106, 182, 224, 4, 385, 5853, 6127, 4, 3400, 275, 172, 646, 272, 432, 207, 182, 4, 116, 1388, 163, 1748, 4, 209, 131, 6095, 1326, 599, 6, 3107, 6966, 116, 172, 338, 300, 6497, 412, 138, 172, 360, 291, 103, 502, 1785, 409, 1059, 1153, 137, 500, 131, 752, 1142, 353, 2798, 135, 138, 124, 2196, 4, 598, 222, 1123, 1795, 144, 6409, 6]\n",
      "- Attention masks: [1, 1, 1, 1, 1, 1, 1, 1, 1, 1, 1, 1, 1, 1, 1, 1, 1, 1, 1, 1, 1, 1, 1, 1, 1, 1, 1, 1, 1, 1, 1, 1, 1, 1, 1, 1, 1, 1, 1, 1, 1, 1, 1, 1, 1, 1, 1, 1, 1, 1, 1, 1, 1, 1, 1, 1, 1, 1, 1, 1, 1, 1, 1, 1, 1, 1, 1, 1, 1, 1, 1, 1, 1, 1, 1, 1, 1, 1, 1, 1, 1, 1, 1, 1, 1, 1, 1, 1, 1, 1, 1, 1, 1, 1, 1, 1]\n",
      "- Decoded tokens: Xanaa liñ fi tudde woon Xare bu Mag bi. Sunu kër ca Niis : juróomi nit ñuy dankalikoo ci ňaari néeg yu ñu teg i xànq. Juróom-benn lanu woon sax, boo limaalee Mariyaa, mbindaan mi sama maam ju jigéen ne woon, ci xolam bu rafet, du ko wacc mukk ginnaaw. Luy delseeti ci sama xel ? Dëkku kow ba sama yaay war a daw làquji ndax ragal Almaŋ yi jàpp ko… Loolu lépp seey na ba ni mes, dellu mel niy léeb ak lëppóon.\n",
      "-------------\n",
      "For the following sentence:\n",
      "Téere boobu bokkoon na, xam naa, ci yi leen làrme bi daan jox. Looluy delloo xel yépp ay ati-at ci ginnaaw, jamono ja Pensées, téereb boroom xam-xam bu ñuy wax Màrk Órel daan gunge soldaar yi ci toolu-xare, am yu mu leen fay déey.\n",
      "We obtain the following:\n",
      "- Tokens: ['TÃ©ere', 'Ġboobu', 'Ġbokkoon', 'Ġna', ',', 'Ġxam', 'Ġnaa', ',', 'Ġci', 'Ġyi', 'Ġleen', 'ĠlÃłrme', 'Ġbi', 'Ġdaan', 'Ġjox', '.', 'ĠLooluy', 'Ġdelloo', 'Ġxel', 'ĠyÃ©pp', 'Ġay', 'Ġati', '-', 'at', 'Ġci', 'Ġginnaaw', ',', 'Ġjamono', 'Ġja', 'ĠPensÃ©es', ',', 'ĠtÃ©ereb', 'Ġboroom', 'Ġxam', '-', 'xam', 'Ġbu', 'ĠÃ±uy', 'Ġwax', 'ĠMÃłrk', 'ĠÃĵrel', 'Ġdaan', 'Ġgunge', 'Ġsoldaar', 'Ġyi', 'Ġci', 'Ġtoolu', '-', 'xare', ',', 'Ġam', 'Ġyu', 'Ġmu', 'Ġleen', 'Ġfay', 'ĠdÃ©ey', '.']\n",
      "- Ids: [3776, 516, 2471, 135, 4, 249, 244, 4, 116, 137, 205, 808, 139, 168, 679, 6, 5737, 926, 338, 605, 206, 1190, 5, 179, 116, 599, 4, 501, 382, 6974, 4, 2076, 1102, 249, 5, 2180, 163, 403, 248, 6855, 5547, 168, 1570, 1163, 137, 116, 1892, 5, 1854, 4, 195, 157, 129, 205, 570, 2190, 6]\n",
      "- Attention masks: [1, 1, 1, 1, 1, 1, 1, 1, 1, 1, 1, 1, 1, 1, 1, 1, 1, 1, 1, 1, 1, 1, 1, 1, 1, 1, 1, 1, 1, 1, 1, 1, 1, 1, 1, 1, 1, 1, 1, 1, 1, 1, 1, 1, 1, 1, 1, 1, 1, 1, 1, 1, 1, 1, 1, 1, 1]\n",
      "- Decoded tokens: Téere boobu bokkoon na, xam naa, ci yi leen làrme bi daan jox. Looluy delloo xel yépp ay ati-at ci ginnaaw, jamono ja Pensées, téereb boroom xam-xam bu ñuy wax Màrk Órel daan gunge soldaar yi ci toolu-xare, am yu mu leen fay déey.\n",
      "-------------\n"
     ]
    }
   ],
   "source": [
    "# tokenize a sample (let us take 10 sentences) and print the results\n",
    "for i in range(10):\n",
    "    \n",
    "    sentence = random.choice(wolof_sentences) \n",
    "    \n",
    "    print(f\"For the following sentence:\\n{sentence}\")\n",
    "    \n",
    "    print(\"We obtain the following:\")\n",
    "    \n",
    "    wolof_encoding = bpe_tokenizer2.encode(sentence)\n",
    "    \n",
    "    print(f\"- Tokens: {wolof_encoding.tokens}\")\n",
    "    \n",
    "    print(f\"- Ids: {wolof_encoding.ids}\")\n",
    "    \n",
    "    print(f\"- Attention masks: {wolof_encoding.attention_mask}\")\n",
    "    \n",
    "    print(f\"- Decoded tokens: {bpe_tokenizer2.decode(wolof_encoding.ids)}\")\n",
    "\n",
    "    print(\"-------------\")\n",
    "    "
   ]
  },
  {
   "cell_type": "code",
   "execution_count": 20,
   "metadata": {},
   "outputs": [
    {
     "data": {
      "text/plain": [
       "7034"
      ]
     },
     "execution_count": 20,
     "metadata": {},
     "output_type": "execute_result"
    }
   ],
   "source": [
    "bpe_tokenizer2.get_vocab_size()"
   ]
  },
  {
   "attachments": {},
   "cell_type": "markdown",
   "metadata": {},
   "source": [
    "We have 7034 tokens into the wolof vocabulary."
   ]
  },
  {
   "attachments": {},
   "cell_type": "markdown",
   "metadata": {},
   "source": []
  }
 ],
 "metadata": {
  "kernelspec": {
   "display_name": "pytorch1-HleOW5am-py3.10",
   "language": "python",
   "name": "python3"
  },
  "language_info": {
   "codemirror_mode": {
    "name": "ipython",
    "version": 3
   },
   "file_extension": ".py",
   "mimetype": "text/x-python",
   "name": "python",
   "nbconvert_exporter": "python",
   "pygments_lexer": "ipython3",
   "version": "3.10.8"
  },
  "orig_nbformat": 4
 },
 "nbformat": 4,
 "nbformat_minor": 2
}
