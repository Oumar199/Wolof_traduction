{
 "cells": [
  {
   "cell_type": "markdown",
   "metadata": {
    "id": "YTsVWwCgLAJl"
   },
   "source": [
    "Fine-tuning best BART 🤖\n",
    "-----------------------------------\n",
    "\n",
    "In this notebook, we will continue the fine-tuning of the BART model on the new extracted sentences from the book **Grammaire de Wolof Moderne** and additional sentences. We provide, bellow, the main evaluation figures, obtained from the hyperparameter search step. We will evaluate the training on the validation dataset.\n",
    "\n",
    "- Parallel coordinates from panel:\n",
    "\n",
    "- Parameter importance char: \n",
    "[t5_v3_importance](https://wandb.ai/oumar-kane-team/small-t5-cross-fw-translation-bayes-hpsearch-v3/reports/undefined-23-05-16-10-36-17---Vmlldzo0Mzc4NDY0?accessToken=eyaiyrid0qz1zg2jkq3fc65biw53084dpfitbi0dgonq6mweupw6kgjml9d2nv1w)"
   ]
  },
  {
   "cell_type": "markdown",
   "metadata": {},
   "source": [
    "We can see in the above chart that the batch is the most important parameter with a negative correlation with the BLEU score (meaning that a lower batch size is better). Next, we the probability of modifying a character in the french corpus is also important and a high probability provide a better BLEU score.  "
   ]
  },
  {
   "cell_type": "code",
   "execution_count": 1,
   "metadata": {
    "colab": {
     "base_uri": "https://localhost:8080/"
    },
    "executionInfo": {
     "elapsed": 41798,
     "status": "ok",
     "timestamp": 1683491387892,
     "user": {
      "displayName": "Oumar Kane",
      "userId": "05889582343301699661"
     },
     "user_tz": 0
    },
    "id": "dF37F8_nLAJr",
    "outputId": "7f5f2bed-9b9d-49f9-c8f1-6fe427cf1502"
   },
   "outputs": [
    {
     "name": "stderr",
     "output_type": "stream",
     "text": [
      "Global seed set to 0\n"
     ]
    }
   ],
   "source": [
    "# let us import all necessary libraries\n",
    "from transformers import BartModel, BartForConditionalGeneration, Seq2SeqTrainer, BartTokenizerFast, set_seed, AdamW, get_linear_schedule_with_warmup,\\\n",
    "                          get_linear_schedule_with_warmup, get_cosine_schedule_with_warmup, Adafactor\n",
    "from wolof_translate.utils.sent_transformers import TransformerSequences\n",
    "from wolof_translate.utils.improvements.end_marks import add_end_mark # added\n",
    "from torch.nn import TransformerEncoderLayer, TransformerDecoderLayer\n",
    "from torch.utils.data import Dataset, DataLoader, random_split\n",
    "from wolof_translate.data.dataset_v4 import SentenceDataset # v2 -> v3 -> v4\n",
    "from wolof_translate.utils.sent_corrections import *\n",
    "from sklearn.model_selection import train_test_split\n",
    "from torch.optim.lr_scheduler import _LRScheduler\n",
    "# from custom_rnn.utils.kwargs import Kwargs\n",
    "from torch.nn.utils.rnn import pad_sequence\n",
    "from plotly.subplots import make_subplots\n",
    "from nlpaug.augmenter import char as nac\n",
    "from torch.utils.data import DataLoader\n",
    "# from datasets  import load_metric # make pip install evaluate instead\n",
    "# and pip install sacrebleu for instance\n",
    "from torch.nn import functional as F\n",
    "import plotly.graph_objects as go\n",
    "from tokenizers import Tokenizer\n",
    "import matplotlib.pyplot as plt\n",
    "import pytorch_lightning as lt\n",
    "from tqdm import tqdm, trange\n",
    "from functools import partial\n",
    "from torch.nn import utils\n",
    "from copy import deepcopy\n",
    "from torch import optim\n",
    "from typing import *\n",
    "from torch import nn\n",
    "import pandas as pd\n",
    "import numpy as np\n",
    "import itertools\n",
    "import evaluate\n",
    "import random\n",
    "import string\n",
    "import shutil\n",
    "import wandb\n",
    "import torch\n",
    "import json\n",
    "import copy\n",
    "import os\n",
    "\n",
    "# add seed for everything\n",
    "lt.seed_everything(0)\n",
    "\n",
    "os.environ[\"WANDB_DISABLED\"] = \"true\""
   ]
  },
  {
   "cell_type": "markdown",
   "metadata": {
    "id": "19MVywzSLAJt"
   },
   "source": [
    "## French to wolof"
   ]
  },
  {
   "cell_type": "markdown",
   "metadata": {
    "id": "n4tP0YGyLAJt"
   },
   "source": [
    "### Configure dataset 🔠"
   ]
  },
  {
   "cell_type": "code",
   "execution_count": 2,
   "metadata": {
    "executionInfo": {
     "elapsed": 77,
     "status": "ok",
     "timestamp": 1683491387893,
     "user": {
      "displayName": "Oumar Kane",
      "userId": "05889582343301699661"
     },
     "user_tz": 0
    },
    "id": "t2GR0YjYuLc5"
   },
   "outputs": [],
   "source": [
    "# recuperate the tokenizer from a json file\n",
    "tokenizer = BartTokenizerFast(tokenizer_file=f\"wolof-translate/wolof_translate/tokenizers/t5_tokenizers/tokenizer_v3_2.json\")"
   ]
  },
  {
   "cell_type": "code",
   "execution_count": 3,
   "metadata": {
    "executionInfo": {
     "elapsed": 77,
     "status": "ok",
     "timestamp": 1683491387894,
     "user": {
      "displayName": "Oumar Kane",
      "userId": "05889582343301699661"
     },
     "user_tz": 0
    },
    "id": "BIjksuH9LAJv"
   },
   "outputs": [],
   "source": [
    "def recuperate_datasets(fr_char_p: float, fr_word_p: float, max_len: int, end_mark_opt: int):\n",
    "\n",
    "  # Let us recuperate the end_mark adding option\n",
    "  if end_mark_opt == 1:\n",
    "    # Create augmentation to add on French sentences\n",
    "    fr_augmentation_1 = TransformerSequences(nac.KeyboardAug(aug_char_p=fr_char_p, aug_word_p=fr_word_p,\n",
    "                                                             aug_word_max = max_len),\n",
    "                                          remove_mark_space, delete_guillemet_space, add_mark_space)\n",
    "\n",
    "    fr_augmentation_2 = TransformerSequences(remove_mark_space, delete_guillemet_space, add_mark_space)\n",
    "    \n",
    "  else:\n",
    "    \n",
    "    if end_mark_opt == 2:\n",
    "\n",
    "      end_mark_fn = partial(add_end_mark, end_mark_to_remove = '!', replace = True)\n",
    "    \n",
    "    elif end_mark_opt == 3:\n",
    "\n",
    "      end_mark_fn = partial(add_end_mark)\n",
    "    \n",
    "    elif end_mark_opt == 4:\n",
    "\n",
    "      end_mark_fn = partial(add_end_mark, end_mark_to_remove = '!')\n",
    "\n",
    "    # Create augmentation to add on French sentences\n",
    "    fr_augmentation_1 = TransformerSequences(nac.KeyboardAug(aug_char_p=fr_char_p, aug_word_p=fr_word_p,\n",
    "                                                             aug_word_max = max_len),\n",
    "                                          remove_mark_space, delete_guillemet_space, add_mark_space, end_mark_fn)\n",
    "    \n",
    "    fr_augmentation_2 = TransformerSequences(remove_mark_space, delete_guillemet_space, add_mark_space, end_mark_fn)\n",
    "    \n",
    "  # Recuperate the train dataset\n",
    "  train_dataset_aug = SentenceDataset(f\"data/extractions/new_data/train_set.csv\",\n",
    "                                        tokenizer,\n",
    "                                        truncation = True, max_len=max_len,\n",
    "                                        cp1_transformer = fr_augmentation_1,\n",
    "                                        cp2_transformer = fr_augmentation_2\n",
    "                                        )\n",
    "\n",
    "  # Recuperate the valid dataset\n",
    "  valid_dataset = SentenceDataset(f\"data/extractions/new_data/valid_set.csv\",\n",
    "                                        tokenizer, max_len=max_len,\n",
    "                                        cp1_transformer = fr_augmentation_2,\n",
    "                                        cp2_transformer = fr_augmentation_2,\n",
    "                                        truncation = True)\n",
    "  \n",
    "  # Return the datasets\n",
    "  return train_dataset_aug, valid_dataset"
   ]
  },
  {
   "cell_type": "markdown",
   "metadata": {
    "id": "0vhzP3IaLAJv"
   },
   "source": [
    "### Configure the evaluation function ⚙️"
   ]
  },
  {
   "cell_type": "markdown",
   "metadata": {
    "id": "IuppKYiyLAJx"
   },
   "source": [
    "Let us initialize the evaluation object."
   ]
  },
  {
   "cell_type": "code",
   "execution_count": 4,
   "metadata": {
    "executionInfo": {
     "elapsed": 74,
     "status": "ok",
     "timestamp": 1683491387896,
     "user": {
      "displayName": "Oumar Kane",
      "userId": "05889582343301699661"
     },
     "user_tz": 0
    },
    "id": "a7Bpd4UPLAJy"
   },
   "outputs": [],
   "source": [
    "%run wolof-translate/wolof_translate/utils/evaluation.py\n",
    "evaluation = TranslationEvaluation(tokenizer)\n"
   ]
  },
  {
   "cell_type": "markdown",
   "metadata": {
    "id": "xT17hB19LAJy"
   },
   "source": [
    "### Searching for the best parameters 🕖"
   ]
  },
  {
   "cell_type": "code",
   "execution_count": 5,
   "metadata": {},
   "outputs": [],
   "source": [
    "from wolof_translate.models.transformers.optimization import TransformerScheduler\n",
    "from wolof_translate.trainers.transformer_trainer import ModelRunner\n",
    "# from wolof_translate.utils.evaluation import TranslationEvaluation\n",
    "from wolof_translate.models.transformers.main import Transformer\n",
    "from wolof_translate.utils.split_with_valid import split_data\n"
   ]
  },
  {
   "cell_type": "markdown",
   "metadata": {},
   "source": [
    "-------------"
   ]
  },
  {
   "cell_type": "code",
   "execution_count": null,
   "metadata": {},
   "outputs": [],
   "source": []
  },
  {
   "cell_type": "markdown",
   "metadata": {},
   "source": [
    "### --- Wandb v5 2000"
   ]
  },
  {
   "cell_type": "code",
   "execution_count": 6,
   "metadata": {},
   "outputs": [
    {
     "data": {
      "text/plain": [
       "41.5"
      ]
     },
     "execution_count": 6,
     "metadata": {},
     "output_type": "execute_result"
    }
   ],
   "source": [
    "# calculate the linear epochs\n",
    "415*0.1"
   ]
  },
  {
   "cell_type": "code",
   "execution_count": 7,
   "metadata": {},
   "outputs": [],
   "source": [
    "# let us initialize the hyperparameter configuration \n",
    "config = {\n",
    "    'random_state': 0,\n",
    "    'fr_char_p': 0.2663448744764274,\n",
    "    'fr_word_p': 0.1096679360128458,\n",
    "    'learning_rate': 0.001334194132566519,\n",
    "#     'weight_decay': 0.012717464509690656,\n",
    "    'batch_size': 16,\n",
    "    'warmup_ratio': 0.0,\n",
    "    'max_epoch': 415,\n",
    "    'epochs': 41,\n",
    "    'mid_epoch': 41,\n",
    "    'max_len': 72,\n",
    "    'end_mark': 3,\n",
    "    'bleu': 4.3749,\n",
    "    'model_dir': 'fw_bart_custom_train_v5_checkpoints',\n",
    "    'new_model_dir': 'bart_custom_train_results_fw_v5'\n",
    "}\n",
    "\n",
    "# Initialize the model name\n",
    "model_name = 'facebook/bart-base'\n",
    "\n",
    "# import the model with its pre-trained weights\n",
    "model = BartForConditionalGeneration.from_pretrained(model_name,\n",
    "                                                     eos_token_id = tokenizer.eos_token_id,\n",
    "                                                     forced_eos_token_id = tokenizer.eos_token_id\n",
    "                                                     )\n",
    "\n",
    "# resize the token embeddings\n",
    "model.resize_token_embeddings(len(tokenizer))\n",
    "\n",
    "# let us initialize the evaluation class\n",
    "evaluation = TranslationEvaluation(tokenizer)\n",
    "\n",
    "# let us initialize the trainer\n",
    "trainer = ModelRunner(model, seed = 0, version = 5, evaluation = evaluation, optimizer=Adafactor)\n",
    "\n",
    "# split the data\n",
    "split_data(config['random_state'], csv_file = \"ad_sentences.csv\")\n",
    "\n",
    "# recuperate train and test set\n",
    "train_dataset, test_dataset = recuperate_datasets(config['fr_char_p'], \n",
    "                                                    config['fr_word_p'], config['max_len'],\n",
    "                                                    config['end_mark'])\n",
    "\n",
    "# let us calculate the appropriate warmup steps (let us take a max epoch of 100)\n",
    "length = len(train_dataset)\n",
    "\n",
    "n_steps = length // config['batch_size']\n",
    "\n",
    "num_steps = config['max_epoch'] * n_steps\n",
    "\n",
    "warmup_steps = (config['max_epoch'] * n_steps) * config['warmup_ratio']\n",
    "\n",
    "# # Initialize the scheduler parameters\n",
    "scheduler_args = {'num_warmup_steps': warmup_steps, 'num_training_steps': num_steps}\n",
    "\n",
    "# Initialize the optimizer parameters\n",
    "optimizer_args = {\n",
    "    'lr': config['learning_rate'],\n",
    "#     'weight_decay': config['weight_decay'],\n",
    "    # 'betas': (0.9, 0.98),\n",
    "    'warmup_init': False,\n",
    "    'relative_step': False\n",
    "}\n",
    "\n",
    "# Initialize the loaders parameters\n",
    "train_loader_args = {'batch_size': config['batch_size']}\n",
    "\n",
    "# Add the datasets and hyperparameters to trainer\n",
    "trainer.compile(train_dataset, test_dataset, tokenizer, train_loader_args,\n",
    "                optimizer_kwargs = optimizer_args,\n",
    "                lr_scheduler=get_linear_schedule_with_warmup,\n",
    "                lr_scheduler_kwargs=scheduler_args, \n",
    "                predict_with_generate = True,\n",
    "                hugging_face = True,\n",
    "                logging_dir=\"data/logs/bart_custom_train_fw\"\n",
    "                )\n",
    "\n",
    "# We will from checkpoints so let us the model\n",
    "# trainer.load(config['model_dir'], load_best=True) # Only for the first loading\n",
    "trainer.load(config['new_model_dir'])\n",
    "\n",
    "        "
   ]
  },
  {
   "cell_type": "markdown",
   "metadata": {},
   "source": [
    "### ---"
   ]
  },
  {
   "cell_type": "code",
   "execution_count": null,
   "metadata": {},
   "outputs": [
    {
     "name": "stderr",
     "output_type": "stream",
     "text": [
      "  0%|          | 0/36 [00:00<?, ?it/s]/home/ec2-user/anaconda3/envs/pytorch_p310/lib/python3.10/site-packages/torch/optim/lr_scheduler.py:265: UserWarning: To get the last learning rate computed by the scheduler, please use `get_last_lr()`.\n",
      "  warnings.warn(\"To get the last learning rate computed by the scheduler, \"\n"
     ]
    },
    {
     "name": "stdout",
     "output_type": "stream",
     "text": [
      "For epoch 6: \n",
      "{Learning rate: [0.0013179554776459284]}\n"
     ]
    },
    {
     "name": "stderr",
     "output_type": "stream",
     "text": [
      "Train batch number 99: 100%|██████████| 99/99 [00:30<00:00,  3.30batches/s]\n",
      "Test batch number 13: 100%|██████████| 13/13 [00:16<00:00,  1.28s/batches]\n"
     ]
    },
    {
     "name": "stdout",
     "output_type": "stream",
     "text": [
      "\n",
      "Metrics: {'train_loss': 0.5017463801184086, 'test_loss': 0.6395571048443134, 'bleu': 3.4805, 'gen_len': 10.1869}\n",
      "\n",
      "=============================\n",
      "\n"
     ]
    },
    {
     "name": "stderr",
     "output_type": "stream",
     "text": [
      "  3%|▎         | 1/36 [00:49<28:40, 49.15s/it]"
     ]
    },
    {
     "name": "stdout",
     "output_type": "stream",
     "text": [
      "For epoch 7: \n",
      "{Learning rate: [0.00131470774666181]}\n"
     ]
    },
    {
     "name": "stderr",
     "output_type": "stream",
     "text": [
      "Train batch number 99: 100%|██████████| 99/99 [00:18<00:00,  5.24batches/s]\n",
      "Test batch number 13: 100%|██████████| 13/13 [00:12<00:00,  1.06batches/s]\n"
     ]
    },
    {
     "name": "stdout",
     "output_type": "stream",
     "text": [
      "\n",
      "Metrics: {'train_loss': 0.45223118334707585, 'test_loss': 0.6428552315785334, 'bleu': 3.1331, 'gen_len': 11.0152}\n",
      "\n",
      "=============================\n",
      "\n"
     ]
    },
    {
     "name": "stderr",
     "output_type": "stream",
     "text": [
      "  6%|▌         | 2/36 [01:24<23:24, 41.32s/it]"
     ]
    },
    {
     "name": "stdout",
     "output_type": "stream",
     "text": [
      "For epoch 8: \n",
      "{Learning rate: [0.001311460015677692]}\n"
     ]
    },
    {
     "name": "stderr",
     "output_type": "stream",
     "text": [
      "Train batch number 99: 100%|██████████| 99/99 [00:19<00:00,  5.16batches/s]\n",
      "Test batch number 13: 100%|██████████| 13/13 [00:10<00:00,  1.26batches/s]\n"
     ]
    },
    {
     "name": "stdout",
     "output_type": "stream",
     "text": [
      "\n",
      "Metrics: {'train_loss': 0.40375137554876733, 'test_loss': 0.6314541032681098, 'bleu': 2.7541, 'gen_len': 10.4747}\n",
      "\n",
      "=============================\n",
      "\n"
     ]
    },
    {
     "name": "stderr",
     "output_type": "stream",
     "text": [
      "  8%|▊         | 3/36 [01:58<20:44, 37.70s/it]"
     ]
    },
    {
     "name": "stdout",
     "output_type": "stream",
     "text": [
      "For epoch 9: \n",
      "{Learning rate: [0.0013082122846935738]}\n"
     ]
    },
    {
     "name": "stderr",
     "output_type": "stream",
     "text": [
      "Train batch number 99: 100%|██████████| 99/99 [00:19<00:00,  5.21batches/s]\n",
      "Test batch number 13: 100%|██████████| 13/13 [00:17<00:00,  1.32s/batches]\n"
     ]
    },
    {
     "name": "stdout",
     "output_type": "stream",
     "text": [
      "\n",
      "Metrics: {'train_loss': 0.3573234510241133, 'test_loss': 0.6506911562039301, 'bleu': 4.4118, 'gen_len': 12.6465}\n",
      "\n",
      "=============================\n",
      "\n"
     ]
    },
    {
     "name": "stderr",
     "output_type": "stream",
     "text": [
      " 11%|█         | 4/36 [02:41<21:13, 39.80s/it]"
     ]
    },
    {
     "name": "stdout",
     "output_type": "stream",
     "text": [
      "For epoch 10: \n",
      "{Learning rate: [0.0013049645537094557]}\n"
     ]
    },
    {
     "name": "stderr",
     "output_type": "stream",
     "text": [
      "Train batch number 99: 100%|██████████| 99/99 [00:19<00:00,  5.11batches/s]\n",
      "Test batch number 13: 100%|██████████| 13/13 [00:12<00:00,  1.01batches/s]\n"
     ]
    },
    {
     "name": "stdout",
     "output_type": "stream",
     "text": [
      "\n",
      "Metrics: {'train_loss': 0.31069009382315355, 'test_loss': 0.6562810471424689, 'bleu': 5.4989, 'gen_len': 10.8081}\n",
      "\n",
      "=============================\n",
      "\n"
     ]
    },
    {
     "name": "stderr",
     "output_type": "stream",
     "text": [
      " 14%|█▍        | 5/36 [03:20<20:26, 39.56s/it]"
     ]
    },
    {
     "name": "stdout",
     "output_type": "stream",
     "text": [
      "For epoch 11: \n",
      "{Learning rate: [0.0013017168227253376]}\n"
     ]
    },
    {
     "name": "stderr",
     "output_type": "stream",
     "text": [
      "Train batch number 99: 100%|██████████| 99/99 [00:19<00:00,  5.20batches/s]\n",
      "Test batch number 13: 100%|██████████| 13/13 [00:11<00:00,  1.08batches/s]\n"
     ]
    },
    {
     "name": "stdout",
     "output_type": "stream",
     "text": [
      "\n",
      "Metrics: {'train_loss': 0.26731644563301643, 'test_loss': 0.6746772848642789, 'bleu': 6.5817, 'gen_len': 11.4091}\n",
      "\n",
      "=============================\n",
      "\n"
     ]
    },
    {
     "name": "stderr",
     "output_type": "stream",
     "text": [
      " 17%|█▋        | 6/36 [03:58<19:30, 39.01s/it]"
     ]
    },
    {
     "name": "stdout",
     "output_type": "stream",
     "text": [
      "For epoch 12: \n",
      "{Learning rate: [0.0012984690917412195]}\n"
     ]
    },
    {
     "name": "stderr",
     "output_type": "stream",
     "text": [
      "Train batch number 99: 100%|██████████| 99/99 [00:19<00:00,  5.15batches/s]\n",
      "Test batch number 13: 100%|██████████| 13/13 [00:10<00:00,  1.25batches/s]\n"
     ]
    },
    {
     "name": "stdout",
     "output_type": "stream",
     "text": [
      "\n",
      "Metrics: {'train_loss': 0.23235740136317531, 'test_loss': 0.7123569800303533, 'bleu': 5.7865, 'gen_len': 10.5455}\n",
      "\n",
      "=============================\n",
      "\n"
     ]
    },
    {
     "name": "stderr",
     "output_type": "stream",
     "text": [
      " 19%|█▉        | 7/36 [04:32<18:00, 37.26s/it]"
     ]
    },
    {
     "name": "stdout",
     "output_type": "stream",
     "text": [
      "For epoch 13: \n",
      "{Learning rate: [0.0012952213607571013]}\n"
     ]
    },
    {
     "name": "stderr",
     "output_type": "stream",
     "text": [
      "Train batch number 99: 100%|██████████| 99/99 [00:18<00:00,  5.21batches/s]\n",
      "Test batch number 13: 100%|██████████| 13/13 [00:11<00:00,  1.09batches/s]\n"
     ]
    },
    {
     "name": "stdout",
     "output_type": "stream",
     "text": [
      "\n",
      "Metrics: {'train_loss': 0.19551832943853706, 'test_loss': 0.7153788346510667, 'bleu': 6.5185, 'gen_len': 11.0556}\n",
      "\n",
      "=============================\n",
      "\n"
     ]
    },
    {
     "name": "stderr",
     "output_type": "stream",
     "text": [
      " 22%|██▏       | 8/36 [05:07<17:01, 36.50s/it]"
     ]
    },
    {
     "name": "stdout",
     "output_type": "stream",
     "text": [
      "For epoch 14: \n",
      "{Learning rate: [0.001291973629772983]}\n"
     ]
    },
    {
     "name": "stderr",
     "output_type": "stream",
     "text": [
      "Train batch number 99: 100%|██████████| 99/99 [00:18<00:00,  5.26batches/s]\n",
      "Test batch number 13: 100%|██████████| 13/13 [00:12<00:00,  1.04batches/s]\n"
     ]
    },
    {
     "name": "stdout",
     "output_type": "stream",
     "text": [
      "\n",
      "Metrics: {'train_loss': 0.16520988369228864, 'test_loss': 0.717598747748595, 'bleu': 5.8275, 'gen_len': 11.6717}\n",
      "\n",
      "=============================\n",
      "\n"
     ]
    },
    {
     "name": "stderr",
     "output_type": "stream",
     "text": [
      " 25%|██▌       | 9/36 [05:42<16:14, 36.09s/it]"
     ]
    },
    {
     "name": "stdout",
     "output_type": "stream",
     "text": [
      "For epoch 15: \n",
      "{Learning rate: [0.0012887258987888648]}\n"
     ]
    },
    {
     "name": "stderr",
     "output_type": "stream",
     "text": [
      "Train batch number 99: 100%|██████████| 99/99 [00:18<00:00,  5.22batches/s]\n",
      "Test batch number 13: 100%|██████████| 13/13 [00:12<00:00,  1.04batches/s]\n"
     ]
    },
    {
     "name": "stdout",
     "output_type": "stream",
     "text": [
      "\n",
      "Metrics: {'train_loss': 0.14354248201907283, 'test_loss': 0.7456381183404189, 'bleu': 6.7823, 'gen_len': 11.7626}\n",
      "\n",
      "=============================\n",
      "\n"
     ]
    },
    {
     "name": "stderr",
     "output_type": "stream",
     "text": [
      " 28%|██▊       | 10/36 [06:20<15:56, 36.78s/it]"
     ]
    },
    {
     "name": "stdout",
     "output_type": "stream",
     "text": [
      "For epoch 16: \n",
      "{Learning rate: [0.0012854781678047467]}\n"
     ]
    },
    {
     "name": "stderr",
     "output_type": "stream",
     "text": [
      "Train batch number 99: 100%|██████████| 99/99 [00:18<00:00,  5.27batches/s]\n",
      "Test batch number 13: 100%|██████████| 13/13 [00:11<00:00,  1.11batches/s]\n"
     ]
    },
    {
     "name": "stdout",
     "output_type": "stream",
     "text": [
      "\n",
      "Metrics: {'train_loss': 0.12227867792050044, 'test_loss': 0.7598983530814831, 'bleu': 8.0214, 'gen_len': 11.2576}\n",
      "\n",
      "=============================\n",
      "\n"
     ]
    },
    {
     "name": "stderr",
     "output_type": "stream",
     "text": [
      " 31%|███       | 11/36 [06:57<15:24, 36.97s/it]"
     ]
    },
    {
     "name": "stdout",
     "output_type": "stream",
     "text": [
      "For epoch 17: \n",
      "{Learning rate: [0.0012822304368206286]}\n"
     ]
    },
    {
     "name": "stderr",
     "output_type": "stream",
     "text": [
      "Train batch number 99: 100%|██████████| 99/99 [00:18<00:00,  5.23batches/s]\n",
      "Test batch number 13: 100%|██████████| 13/13 [00:11<00:00,  1.15batches/s]\n"
     ]
    },
    {
     "name": "stdout",
     "output_type": "stream",
     "text": [
      "\n",
      "Metrics: {'train_loss': 0.10633980196834815, 'test_loss': 0.7813475567560929, 'bleu': 7.795, 'gen_len': 11.3283}\n",
      "\n",
      "=============================\n",
      "\n"
     ]
    },
    {
     "name": "stderr",
     "output_type": "stream",
     "text": [
      " 33%|███▎      | 12/36 [07:32<14:26, 36.11s/it]"
     ]
    },
    {
     "name": "stdout",
     "output_type": "stream",
     "text": [
      "For epoch 18: \n",
      "{Learning rate: [0.0012789827058365105]}\n"
     ]
    },
    {
     "name": "stderr",
     "output_type": "stream",
     "text": [
      "Train batch number 99: 100%|██████████| 99/99 [00:18<00:00,  5.24batches/s]\n",
      "Test batch number 13: 100%|██████████| 13/13 [00:12<00:00,  1.05batches/s]\n"
     ]
    },
    {
     "name": "stdout",
     "output_type": "stream",
     "text": [
      "\n",
      "Metrics: {'train_loss': 0.09303426554407736, 'test_loss': 0.7807899553042191, 'bleu': 7.1348, 'gen_len': 11.9697}\n",
      "\n",
      "=============================\n",
      "\n"
     ]
    },
    {
     "name": "stderr",
     "output_type": "stream",
     "text": [
      " 36%|███▌      | 13/36 [08:07<13:43, 35.82s/it]"
     ]
    },
    {
     "name": "stdout",
     "output_type": "stream",
     "text": [
      "For epoch 19: \n",
      "{Learning rate: [0.0012757349748523923]}\n"
     ]
    },
    {
     "name": "stderr",
     "output_type": "stream",
     "text": [
      "Train batch number 99: 100%|██████████| 99/99 [00:18<00:00,  5.24batches/s]\n",
      "Test batch number 13: 100%|██████████| 13/13 [00:12<00:00,  1.03batches/s]\n"
     ]
    },
    {
     "name": "stdout",
     "output_type": "stream",
     "text": [
      "\n",
      "Metrics: {'train_loss': 0.08046648316461631, 'test_loss': 0.8062480092048645, 'bleu': 7.8563, 'gen_len': 11.8283}\n",
      "\n",
      "=============================\n",
      "\n"
     ]
    },
    {
     "name": "stderr",
     "output_type": "stream",
     "text": [
      " 39%|███▉      | 14/36 [08:42<13:05, 35.71s/it]"
     ]
    },
    {
     "name": "stdout",
     "output_type": "stream",
     "text": [
      "For epoch 20: \n",
      "{Learning rate: [0.0012724872438682742]}\n"
     ]
    },
    {
     "name": "stderr",
     "output_type": "stream",
     "text": [
      "Train batch number 99: 100%|██████████| 99/99 [00:18<00:00,  5.23batches/s]\n",
      "Test batch number 13: 100%|██████████| 13/13 [00:11<00:00,  1.10batches/s]\n"
     ]
    },
    {
     "name": "stdout",
     "output_type": "stream",
     "text": [
      "\n",
      "Metrics: {'train_loss': 0.07392430023261995, 'test_loss': 0.8127380517812876, 'bleu': 9.5828, 'gen_len': 11.6212}\n",
      "\n",
      "=============================\n",
      "\n"
     ]
    },
    {
     "name": "stderr",
     "output_type": "stream",
     "text": [
      " 42%|████▏     | 15/36 [09:20<12:42, 36.29s/it]"
     ]
    },
    {
     "name": "stdout",
     "output_type": "stream",
     "text": [
      "For epoch 21: \n",
      "{Learning rate: [0.0012692395128841558]}\n"
     ]
    },
    {
     "name": "stderr",
     "output_type": "stream",
     "text": [
      "Train batch number 99: 100%|██████████| 99/99 [00:18<00:00,  5.23batches/s]\n",
      "Test batch number 13: 100%|██████████| 13/13 [00:14<00:00,  1.15s/batches]\n"
     ]
    },
    {
     "name": "stdout",
     "output_type": "stream",
     "text": [
      "\n",
      "Metrics: {'train_loss': 0.06396503966640342, 'test_loss': 0.8113086384076339, 'bleu': 8.5802, 'gen_len': 12.4949}\n",
      "\n",
      "=============================\n",
      "\n"
     ]
    },
    {
     "name": "stderr",
     "output_type": "stream",
     "text": [
      " 44%|████▍     | 16/36 [09:58<12:14, 36.71s/it]"
     ]
    },
    {
     "name": "stdout",
     "output_type": "stream",
     "text": [
      "For epoch 22: \n",
      "{Learning rate: [0.0012659917819000377]}\n"
     ]
    },
    {
     "name": "stderr",
     "output_type": "stream",
     "text": [
      "Train batch number 99: 100%|██████████| 99/99 [00:18<00:00,  5.23batches/s]\n",
      "Test batch number 4:  23%|██▎       | 3/13 [00:03<00:11,  1.17s/batches]"
     ]
    }
   ],
   "source": [
    "trainer.train(epochs = config['epochs'] - trainer.current_epoch, auto_save=True, metric_for_best_model='bleu', metric_objective='maximize', log_step=1,\n",
    "              saving_directory = config['new_model_dir'])"
   ]
  },
  {
   "cell_type": "markdown",
   "metadata": {},
   "source": [
    "### ---"
   ]
  },
  {
   "cell_type": "code",
   "execution_count": null,
   "metadata": {},
   "outputs": [
    {
     "name": "stderr",
     "output_type": "stream",
     "text": [
      "  0%|          | 0/18 [00:00<?, ?it/s]/home/ec2-user/anaconda3/envs/pytorch_p310/lib/python3.10/site-packages/torch/optim/lr_scheduler.py:265: UserWarning: To get the last learning rate computed by the scheduler, please use `get_last_lr()`.\n",
      "  warnings.warn(\"To get the last learning rate computed by the scheduler, \"\n"
     ]
    },
    {
     "name": "stdout",
     "output_type": "stream",
     "text": [
      "For epoch 24: \n",
      "{Learning rate: [0.0012594963199318015]}\n"
     ]
    },
    {
     "name": "stderr",
     "output_type": "stream",
     "text": [
      "Train batch number 99: 100%|██████████| 99/99 [00:25<00:00,  3.83batches/s]\n",
      "Test batch number 13: 100%|██████████| 13/13 [00:24<00:00,  1.90s/batches]\n"
     ]
    },
    {
     "name": "stdout",
     "output_type": "stream",
     "text": [
      "\n",
      "Metrics: {'train_loss': 0.04755422307385339, 'test_loss': 0.846881987956854, 'bleu': 10.4332, 'gen_len': 12.5354}\n",
      "\n",
      "=============================\n",
      "\n"
     ]
    },
    {
     "name": "stderr",
     "output_type": "stream",
     "text": [
      "  6%|▌         | 1/18 [00:57<16:16, 57.44s/it]"
     ]
    },
    {
     "name": "stdout",
     "output_type": "stream",
     "text": [
      "For epoch 25: \n",
      "{Learning rate: [0.0012562485889476833]}\n"
     ]
    },
    {
     "name": "stderr",
     "output_type": "stream",
     "text": [
      "Train batch number 99: 100%|██████████| 99/99 [00:24<00:00,  4.09batches/s]\n",
      "Test batch number 13: 100%|██████████| 13/13 [00:15<00:00,  1.21s/batches]\n"
     ]
    },
    {
     "name": "stdout",
     "output_type": "stream",
     "text": [
      "\n",
      "Metrics: {'train_loss': 0.04248161056088378, 'test_loss': 0.8589623387043293, 'bleu': 9.0675, 'gen_len': 11.9899}\n",
      "\n",
      "=============================\n",
      "\n"
     ]
    },
    {
     "name": "stderr",
     "output_type": "stream",
     "text": [
      " 11%|█         | 2/18 [01:41<13:10, 49.39s/it]"
     ]
    },
    {
     "name": "stdout",
     "output_type": "stream",
     "text": [
      "For epoch 26: \n",
      "{Learning rate: [0.0012530008579635652]}\n"
     ]
    },
    {
     "name": "stderr",
     "output_type": "stream",
     "text": [
      "Train batch number 11:  10%|█         | 10/99 [00:03<00:29,  3.01batches/s]"
     ]
    }
   ],
   "source": [
    "trainer.train(epochs = config['epochs'] - trainer.current_epoch, auto_save=True, metric_for_best_model='bleu', metric_objective='maximize', log_step=1,\n",
    "              saving_directory = config['new_model_dir'])"
   ]
  },
  {
   "cell_type": "markdown",
   "metadata": {},
   "source": [
    "### ---"
   ]
  },
  {
   "cell_type": "code",
   "execution_count": null,
   "metadata": {},
   "outputs": [
    {
     "name": "stderr",
     "output_type": "stream",
     "text": [
      "  0%|          | 0/15 [00:00<?, ?it/s]/home/ec2-user/anaconda3/envs/pytorch_p310/lib/python3.10/site-packages/torch/optim/lr_scheduler.py:265: UserWarning: To get the last learning rate computed by the scheduler, please use `get_last_lr()`.\n",
      "  warnings.warn(\"To get the last learning rate computed by the scheduler, \"\n"
     ]
    },
    {
     "name": "stdout",
     "output_type": "stream",
     "text": [
      "For epoch 27: \n",
      "{Learning rate: [0.001249753126979447]}\n"
     ]
    },
    {
     "name": "stderr",
     "output_type": "stream",
     "text": [
      "Train batch number 99: 100%|██████████| 99/99 [00:39<00:00,  2.49batches/s]\n",
      "Test batch number 13: 100%|██████████| 13/13 [00:28<00:00,  2.16s/batches]\n"
     ]
    },
    {
     "name": "stdout",
     "output_type": "stream",
     "text": [
      "\n",
      "Metrics: {'train_loss': 0.006390525402049675, 'test_loss': 0.8933931864224948, 'bleu': 10.1805, 'gen_len': 12.096}\n",
      "\n",
      "=============================\n",
      "\n"
     ]
    },
    {
     "name": "stderr",
     "output_type": "stream",
     "text": [
      "  7%|▋         | 1/15 [01:12<16:50, 72.15s/it]"
     ]
    },
    {
     "name": "stdout",
     "output_type": "stream",
     "text": [
      "For epoch 28: \n",
      "{Learning rate: [0.0012465053959953287]}\n"
     ]
    },
    {
     "name": "stderr",
     "output_type": "stream",
     "text": [
      "Train batch number 99: 100%|██████████| 99/99 [00:41<00:00,  2.37batches/s]\n",
      "Test batch number 13: 100%|██████████| 13/13 [00:28<00:00,  2.17s/batches]\n"
     ]
    },
    {
     "name": "stdout",
     "output_type": "stream",
     "text": [
      "\n",
      "Metrics: {'train_loss': 0.016159322300944665, 'test_loss': 0.9042527950727023, 'bleu': 10.7274, 'gen_len': 12.0152}\n",
      "\n",
      "=============================\n",
      "\n"
     ]
    },
    {
     "name": "stderr",
     "output_type": "stream",
     "text": [
      " 13%|█▎        | 2/15 [02:32<16:37, 76.71s/it]"
     ]
    },
    {
     "name": "stdout",
     "output_type": "stream",
     "text": [
      "For epoch 29: \n",
      "{Learning rate: [0.0012432576650112108]}\n"
     ]
    },
    {
     "name": "stderr",
     "output_type": "stream",
     "text": [
      "Train batch number 99: 100%|██████████| 99/99 [00:39<00:00,  2.50batches/s]\n",
      "Test batch number 13: 100%|██████████| 13/13 [00:28<00:00,  2.19s/batches]\n"
     ]
    },
    {
     "name": "stdout",
     "output_type": "stream",
     "text": [
      "\n",
      "Metrics: {'train_loss': 0.01563139698665702, 'test_loss': 0.9021829320834234, 'bleu': 9.6573, 'gen_len': 12.096}\n",
      "\n",
      "=============================\n",
      "\n"
     ]
    },
    {
     "name": "stderr",
     "output_type": "stream",
     "text": [
      " 20%|██        | 3/15 [03:44<14:55, 74.63s/it]"
     ]
    },
    {
     "name": "stdout",
     "output_type": "stream",
     "text": [
      "For epoch 30: \n",
      "{Learning rate: [0.0012400099340270927]}\n"
     ]
    },
    {
     "name": "stderr",
     "output_type": "stream",
     "text": [
      "Train batch number 99: 100%|██████████| 99/99 [00:42<00:00,  2.34batches/s]\n",
      "Test batch number 13: 100%|██████████| 13/13 [00:28<00:00,  2.17s/batches]\n"
     ]
    },
    {
     "name": "stdout",
     "output_type": "stream",
     "text": [
      "\n",
      "Metrics: {'train_loss': 0.03683522392553513, 'test_loss': 0.9071883307053492, 'bleu': 7.8299, 'gen_len': 11.9697}\n",
      "\n",
      "=============================\n",
      "\n"
     ]
    },
    {
     "name": "stderr",
     "output_type": "stream",
     "text": [
      " 27%|██▋       | 4/15 [04:59<13:44, 74.99s/it]"
     ]
    },
    {
     "name": "stdout",
     "output_type": "stream",
     "text": [
      "For epoch 31: \n",
      "{Learning rate: [0.0012367622030429743]}\n"
     ]
    },
    {
     "name": "stderr",
     "output_type": "stream",
     "text": [
      "Train batch number 99: 100%|██████████| 99/99 [00:43<00:00,  2.29batches/s]\n",
      "Test batch number 13: 100%|██████████| 13/13 [00:29<00:00,  2.30s/batches]\n"
     ]
    },
    {
     "name": "stdout",
     "output_type": "stream",
     "text": [
      "\n",
      "Metrics: {'train_loss': 0.0350472814864432, 'test_loss': 0.9080865681171417, 'bleu': 9.6103, 'gen_len': 12.2626}\n",
      "\n",
      "=============================\n",
      "\n"
     ]
    },
    {
     "name": "stderr",
     "output_type": "stream",
     "text": [
      " 33%|███▎      | 5/15 [06:17<12:38, 75.84s/it]"
     ]
    },
    {
     "name": "stdout",
     "output_type": "stream",
     "text": [
      "For epoch 32: \n",
      "{Learning rate: [0.0012335144720588562]}\n"
     ]
    },
    {
     "name": "stderr",
     "output_type": "stream",
     "text": [
      "Train batch number 99: 100%|██████████| 99/99 [00:42<00:00,  2.30batches/s]\n",
      "Test batch number 13: 100%|██████████| 13/13 [00:29<00:00,  2.27s/batches]\n"
     ]
    },
    {
     "name": "stdout",
     "output_type": "stream",
     "text": [
      "\n",
      "Metrics: {'train_loss': 0.032979129315024676, 'test_loss': 0.9071742983964773, 'bleu': 10.3492, 'gen_len': 11.8636}\n",
      "\n",
      "=============================\n",
      "\n"
     ]
    },
    {
     "name": "stderr",
     "output_type": "stream",
     "text": [
      " 40%|████      | 6/15 [07:36<11:32, 76.94s/it]"
     ]
    },
    {
     "name": "stdout",
     "output_type": "stream",
     "text": [
      "For epoch 33: \n",
      "{Learning rate: [0.001230266741074738]}\n"
     ]
    },
    {
     "name": "stderr",
     "output_type": "stream",
     "text": [
      "Train batch number 99: 100%|██████████| 99/99 [00:43<00:00,  2.27batches/s]\n",
      "Test batch number 13: 100%|██████████| 13/13 [00:32<00:00,  2.47s/batches]\n"
     ]
    },
    {
     "name": "stdout",
     "output_type": "stream",
     "text": [
      "\n",
      "Metrics: {'train_loss': 0.03038362166232834, 'test_loss': 0.9090257768447583, 'bleu': 10.2232, 'gen_len': 12.4394}\n",
      "\n",
      "=============================\n",
      "\n"
     ]
    },
    {
     "name": "stderr",
     "output_type": "stream",
     "text": [
      " 47%|████▋     | 7/15 [08:55<10:20, 77.62s/it]"
     ]
    },
    {
     "name": "stdout",
     "output_type": "stream",
     "text": [
      "For epoch 34: \n",
      "{Learning rate: [0.00122701901009062]}\n"
     ]
    },
    {
     "name": "stderr",
     "output_type": "stream",
     "text": [
      "Train batch number 99: 100%|██████████| 99/99 [00:45<00:00,  2.19batches/s]\n",
      "Test batch number 13: 100%|██████████| 13/13 [00:26<00:00,  2.08s/batches]\n"
     ]
    },
    {
     "name": "stdout",
     "output_type": "stream",
     "text": [
      "\n",
      "Metrics: {'train_loss': 0.030019405674226958, 'test_loss': 0.9254449972739587, 'bleu': 9.0118, 'gen_len': 11.7121}\n",
      "\n",
      "=============================\n",
      "\n"
     ]
    },
    {
     "name": "stderr",
     "output_type": "stream",
     "text": [
      " 53%|█████▎    | 8/15 [10:11<08:59, 77.06s/it]"
     ]
    },
    {
     "name": "stdout",
     "output_type": "stream",
     "text": [
      "For epoch 35: \n",
      "{Learning rate: [0.0012237712791065018]}\n"
     ]
    },
    {
     "name": "stderr",
     "output_type": "stream",
     "text": [
      "Train batch number 15:  14%|█▍        | 14/99 [00:05<00:36,  2.33batches/s]"
     ]
    }
   ],
   "source": [
    "trainer.train(epochs = config['epochs'] - trainer.current_epoch, auto_save=True, metric_for_best_model='bleu', metric_objective='maximize', log_step=1,\n",
    "              saving_directory = config['new_model_dir'])"
   ]
  },
  {
   "cell_type": "markdown",
   "metadata": {
    "id": "sQVOIX4lqGMg"
   },
   "source": [
    "### Predictions and Evaluation"
   ]
  },
  {
   "cell_type": "code",
   "execution_count": 10,
   "metadata": {},
   "outputs": [],
   "source": [
    "# initialize the transformation sequence\n",
    "end_mark_fn = partial(add_end_mark)\n",
    "fr_augmentation = TransformerSequences(remove_mark_space, delete_guillemet_space, end_mark_fn)\n",
    "\n",
    "# let us get the test set\n",
    "test_dataset = SentenceDataset(f\"data/extractions/new_data/test_set.csv\",\n",
    "                                        tokenizer = tokenizer,\n",
    "                                        cp1_transformer = fr_augmentation,\n",
    "                                        cp2_transformer = fr_augmentation,\n",
    "                                        truncation = True)"
   ]
  },
  {
   "cell_type": "markdown",
   "metadata": {
    "id": "W_iGdw-LLAJz"
   },
   "source": [
    "Let us make the evaluation and print the predicted sentences."
   ]
  },
  {
   "cell_type": "code",
   "execution_count": 9,
   "metadata": {},
   "outputs": [
    {
     "name": "stderr",
     "output_type": "stream",
     "text": [
      "Evaluation batch number 13: 100%|██████████| 13/13 [00:24<00:00,  1.92s/batches]"
     ]
    },
    {
     "name": "stdout",
     "output_type": "stream",
     "text": [
      "predictions: [[2, 5, 3676, 2863, 153, 1004, 7, 10, 6, 1, 1, 1, 1, 1, 1, 1, 1, 1, 1, 1, 1, 1, 1, 1, 1, 1, 1, 1, 1, 1, 1, 1, 1, 1, 1, 1, 1, 1, 1, 1, 1, 1, 1, 1, 1, 1, 1, 1, 1, 1, 1, 1, 1, 1, 1, 1, 1, 1, 1, 1, 1, 1, 1, 1, 1, 1, 1], [2, 5, 879, 103, 3388, 56, 1025, 544, 749, 60, 8, 6, 1, 1, 1, 1, 1, 1, 1, 1, 1, 1, 1, 1, 1, 1, 1, 1, 1, 1, 1, 1, 1, 1, 1, 1, 1, 1, 1, 1, 1, 1, 1, 1, 1, 1, 1, 1, 1, 1, 1, 1, 1, 1, 1, 1, 1, 1, 1, 1, 1, 1, 1, 1, 1, 1, 1], [2, 5, 3333, 1604, 528, 20, 7, 11, 351, 1148, 21, 179, 1752, 72, 138, 74, 20, 810, 8, 55, 39, 17, 409, 175, 57, 482, 19, 9, 60, 39, 17, 175, 57, 791, 8, 177, 747, 14, 191, 17, 60, 8, 6, 1, 1, 1, 1, 1, 1, 1, 1, 1, 1, 1, 1, 1, 1, 1, 1, 1, 1, 1, 1, 1, 1, 1, 1], [2, 5, 3682, 937, 22, 97, 35, 128, 22, 542, 8, 6, 1, 1, 1, 1, 1, 1, 1, 1, 1, 1, 1, 1, 1, 1, 1, 1, 1, 1, 1, 1, 1, 1, 1, 1, 1, 1, 1, 1, 1, 1, 1, 1, 1, 1, 1, 1, 1, 1, 1, 1, 1, 1, 1, 1, 1, 1, 1, 1, 1, 1, 1, 1, 1, 1, 1], [2, 5, 3693, 3305, 39, 41, 178, 8, 6, 1, 1, 1, 1, 1, 1, 1, 1, 1, 1, 1, 1, 1, 1, 1, 1, 1, 1, 1, 1, 1, 1, 1, 1, 1, 1, 1, 1, 1, 1, 1, 1, 1, 1, 1, 1, 1, 1, 1, 1, 1, 1, 1, 1, 1, 1, 1, 1, 1, 1, 1, 1, 1, 1, 1, 1, 1, 1], [2, 5, 3682, 1973, 124, 90, 14, 66, 109, 656, 13, 261, 9, 1170, 17, 100, 2993, 2804, 261, 8, 151, 1147, 159, 470, 656, 72, 126, 71, 392, 58, 74, 1330, 8, 6, 1, 1, 1, 1, 1, 1, 1, 1, 1, 1, 1, 1, 1, 1, 1, 1, 1, 1, 1, 1, 1, 1, 1, 1, 1, 1, 1, 1, 1, 1, 1, 1, 1], [2, 5, 3678, 137, 83, 191, 60, 8, 6, 1, 1, 1, 1, 1, 1, 1, 1, 1, 1, 1, 1, 1, 1, 1, 1, 1, 1, 1, 1, 1, 1, 1, 1, 1, 1, 1, 1, 1, 1, 1, 1, 1, 1, 1, 1, 1, 1, 1, 1, 1, 1, 1, 1, 1, 1, 1, 1, 1, 1, 1, 1, 1, 1, 1, 1, 1, 1], [2, 5, 3693, 239, 199, 9, 97, 7, 636, 78, 113, 127, 135, 8, 6, 1, 1, 1, 1, 1, 1, 1, 1, 1, 1, 1, 1, 1, 1, 1, 1, 1, 1, 1, 1, 1, 1, 1, 1, 1, 1, 1, 1, 1, 1, 1, 1, 1, 1, 1, 1, 1, 1, 1, 1, 1, 1, 1, 1, 1, 1, 1, 1, 1, 1, 1, 1], [2, 5, 3618, 21, 127, 135, 648, 21, 897, 70, 62, 818, 722, 181, 244, 9, 280, 74, 338, 17, 1159, 57, 171, 9, 280, 91, 134, 78, 41, 2186, 9, 609, 352, 74, 20, 280, 17, 651, 8, 177, 117, 1195, 1810, 38, 9, 47, 22, 100, 218, 3356, 57, 345, 73, 41, 1092, 73, 41, 241, 261, 8, 377, 124, 219, 344, 47, 22, 6], [2, 5, 3671, 21, 52, 199, 7, 10, 6, 1, 1, 1, 1, 1, 1, 1, 1, 1, 1, 1, 1, 1, 1, 1, 1, 1, 1, 1, 1, 1, 1, 1, 1, 1, 1, 1, 1, 1, 1, 1, 1, 1, 1, 1, 1, 1, 1, 1, 1, 1, 1, 1, 1, 1, 1, 1, 1, 1, 1, 1, 1, 1, 1, 1, 1, 1, 1], [2, 5, 879, 45, 35, 529, 22, 13, 9, 97, 35, 82, 8, 6, 1, 1, 1, 1, 1, 1, 1, 1, 1, 1, 1, 1, 1, 1, 1, 1, 1, 1, 1, 1, 1, 1, 1, 1, 1, 1, 1, 1, 1, 1, 1, 1, 1, 1, 1, 1, 1, 1, 1, 1, 1, 1, 1, 1, 1, 1, 1, 1, 1, 1, 1, 1, 1], [2, 5, 3481, 1610, 1377, 8, 6, 1, 1, 1, 1, 1, 1, 1, 1, 1, 1, 1, 1, 1, 1, 1, 1, 1, 1, 1, 1, 1, 1, 1, 1, 1, 1, 1, 1, 1, 1, 1, 1, 1, 1, 1, 1, 1, 1, 1, 1, 1, 1, 1, 1, 1, 1, 1, 1, 1, 1, 1, 1, 1, 1, 1, 1, 1, 1, 1, 1], [2, 5, 3333, 86, 128, 558, 7, 10, 6, 1, 1, 1, 1, 1, 1, 1, 1, 1, 1, 1, 1, 1, 1, 1, 1, 1, 1, 1, 1, 1, 1, 1, 1, 1, 1, 1, 1, 1, 1, 1, 1, 1, 1, 1, 1, 1, 1, 1, 1, 1, 1, 1, 1, 1, 1, 1, 1, 1, 1, 1, 1, 1, 1, 1, 1, 1, 1], [2, 5, 3676, 515, 2118, 31, 9, 132, 351, 291, 8, 6, 1, 1, 1, 1, 1, 1, 1, 1, 1, 1, 1, 1, 1, 1, 1, 1, 1, 1, 1, 1, 1, 1, 1, 1, 1, 1, 1, 1, 1, 1, 1, 1, 1, 1, 1, 1, 1, 1, 1, 1, 1, 1, 1, 1, 1, 1, 1, 1, 1, 1, 1, 1, 1, 1, 1], [2, 5, 3618, 19, 11, 16, 16, 8, 6, 1, 1, 1, 1, 1, 1, 1, 1, 1, 1, 1, 1, 1, 1, 1, 1, 1, 1, 1, 1, 1, 1, 1, 1, 1, 1, 1, 1, 1, 1, 1, 1, 1, 1, 1, 1, 1, 1, 1, 1, 1, 1, 1, 1, 1, 1, 1, 1, 1, 1, 1, 1, 1, 1, 1, 1, 1, 1], [2, 5, 3618, 21, 614, 20, 9, 26, 8, 6, 1, 1, 1, 1, 1, 1, 1, 1, 1, 1, 1, 1, 1, 1, 1, 1, 1, 1, 1, 1, 1, 1, 1, 1, 1, 1, 1, 1, 1, 1, 1, 1, 1, 1, 1, 1, 1, 1, 1, 1, 1, 1, 1, 1, 1, 1, 1, 1, 1, 1, 1, 1, 1, 1, 1, 1, 1], [2, 5, 3675, 19, 132, 245, 8, 6, 1, 1, 1, 1, 1, 1, 1, 1, 1, 1, 1, 1, 1, 1, 1, 1, 1, 1, 1, 1, 1, 1, 1, 1, 1, 1, 1, 1, 1, 1], [2, 5, 1575, 1626, 215, 732, 228, 79, 7, 10, 6, 1, 1, 1, 1, 1, 1, 1, 1, 1, 1, 1, 1, 1, 1, 1, 1, 1, 1, 1, 1, 1, 1, 1, 1, 1, 1, 1], [2, 5, 1575, 2737, 153, 47, 7, 10, 6, 1, 1, 1, 1, 1, 1, 1, 1, 1, 1, 1, 1, 1, 1, 1, 1, 1, 1, 1, 1, 1, 1, 1, 1, 1, 1, 1, 1, 1], [2, 5, 3678, 16, 16, 127, 213, 239, 8, 6, 1, 1, 1, 1, 1, 1, 1, 1, 1, 1, 1, 1, 1, 1, 1, 1, 1, 1, 1, 1, 1, 1, 1, 1, 1, 1, 1, 1], [2, 5, 3693, 15, 3391, 2639, 937, 319, 8, 6, 1, 1, 1, 1, 1, 1, 1, 1, 1, 1, 1, 1, 1, 1, 1, 1, 1, 1, 1, 1, 1, 1, 1, 1, 1, 1, 1, 1], [2, 5, 1406, 21, 107, 25, 52, 422, 26, 8, 6, 1, 1, 1, 1, 1, 1, 1, 1, 1, 1, 1, 1, 1, 1, 1, 1, 1, 1, 1, 1, 1, 1, 1, 1, 1, 1, 1], [2, 5, 3333, 1604, 109, 736, 607, 111, 1063, 607, 66, 736, 607, 13, 73, 736, 607, 57, 482, 62, 58, 2551, 15, 17, 41, 241, 8, 377, 124, 219, 58, 219, 1795, 224, 2622, 656, 628, 6], [2, 5, 3690, 289, 1297, 349, 2606, 8, 6, 1, 1, 1, 1, 1, 1, 1, 1, 1, 1, 1, 1, 1, 1, 1, 1, 1, 1, 1, 1, 1, 1, 1, 1, 1, 1, 1, 1, 1], [2, 5, 3676, 15, 99, 294, 8, 6, 1, 1, 1, 1, 1, 1, 1, 1, 1, 1, 1, 1, 1, 1, 1, 1, 1, 1, 1, 1, 1, 1, 1, 1, 1, 1, 1, 1, 1, 1], [2, 5, 3676, 16, 378, 1022, 83, 19, 1069, 8, 6, 1, 1, 1, 1, 1, 1, 1, 1, 1, 1, 1, 1, 1, 1, 1, 1, 1, 1, 1, 1, 1, 1, 1, 1, 1, 1, 1], [2, 5, 3676, 15, 2506, 8, 6, 1, 1, 1, 1, 1, 1, 1, 1, 1, 1, 1, 1, 1, 1, 1, 1, 1, 1, 1, 1, 1, 1, 1, 1, 1, 1, 1, 1, 1, 1, 1], [2, 5, 3669, 26, 22, 8, 6, 1, 1, 1, 1, 1, 1, 1, 1, 1, 1, 1, 1, 1, 1, 1, 1, 1, 1, 1, 1, 1, 1, 1, 1, 1, 1, 1, 1, 1, 1, 1], [2, 5, 3675, 19, 82, 7, 10, 6, 1, 1, 1, 1, 1, 1, 1, 1, 1, 1, 1, 1, 1, 1, 1, 1, 1, 1, 1, 1, 1, 1, 1, 1, 1, 1, 1, 1, 1, 1], [2, 5, 1546, 156, 3363, 284, 129, 8, 6, 1, 1, 1, 1, 1, 1, 1, 1, 1, 1, 1, 1, 1, 1, 1, 1, 1, 1, 1, 1, 1, 1, 1, 1, 1, 1, 1, 1, 1], [2, 5, 3676, 2506, 1173, 8, 6, 1, 1, 1, 1, 1, 1, 1, 1, 1, 1, 1, 1, 1, 1, 1, 1, 1, 1, 1, 1, 1, 1, 1, 1, 1, 1, 1, 1, 1, 1, 1], [2, 5, 3229, 39, 297, 137, 133, 82, 8, 6, 1, 1, 1, 1, 1, 1, 1, 1, 1, 1, 1, 1, 1, 1, 1, 1, 1, 1, 1, 1, 1, 1, 1, 1, 1, 1, 1, 1], [2, 5, 3676, 16, 3343, 1264, 68, 15, 57, 52, 60, 387, 1832, 80, 52, 20, 1679, 8, 6, 1, 1, 1, 1, 1, 1, 1, 1, 1, 1, 1, 1, 1, 1, 1, 1, 1, 1, 1, 1, 1, 1, 1, 1, 1, 1, 1, 1, 1, 1, 1, 1, 1, 1, 1, 1, 1, 1, 1, 1, 1, 1, 1, 1, 1, 1], [2, 5, 3682, 937, 2671, 172, 181, 198, 16, 291, 8, 320, 3366, 783, 74, 1250, 9, 464, 8, 568, 23, 2184, 38, 66, 17, 107, 91, 134, 78, 41, 2100, 446, 344, 8, 6, 1, 1, 1, 1, 1, 1, 1, 1, 1, 1, 1, 1, 1, 1, 1, 1, 1, 1, 1, 1, 1, 1, 1, 1, 1, 1, 1, 1, 1, 1], [2, 5, 3229, 42, 139, 90, 129, 7, 10, 6, 1, 1, 1, 1, 1, 1, 1, 1, 1, 1, 1, 1, 1, 1, 1, 1, 1, 1, 1, 1, 1, 1, 1, 1, 1, 1, 1, 1, 1, 1, 1, 1, 1, 1, 1, 1, 1, 1, 1, 1, 1, 1, 1, 1, 1, 1, 1, 1, 1, 1, 1, 1, 1, 1, 1], [2, 5, 3676, 15, 99, 228, 8, 6, 1, 1, 1, 1, 1, 1, 1, 1, 1, 1, 1, 1, 1, 1, 1, 1, 1, 1, 1, 1, 1, 1, 1, 1, 1, 1, 1, 1, 1, 1, 1, 1, 1, 1, 1, 1, 1, 1, 1, 1, 1, 1, 1, 1, 1, 1, 1, 1, 1, 1, 1, 1, 1, 1, 1, 1, 1], [2, 5, 3675, 137, 13, 7, 10, 6, 1, 1, 1, 1, 1, 1, 1, 1, 1, 1, 1, 1, 1, 1, 1, 1, 1, 1, 1, 1, 1, 1, 1, 1, 1, 1, 1, 1, 1, 1, 1, 1, 1, 1, 1, 1, 1, 1, 1, 1, 1, 1, 1, 1, 1, 1, 1, 1, 1, 1, 1, 1, 1, 1, 1, 1, 1], [2, 5, 3682, 1973, 124, 90, 14, 109, 124, 13, 117, 77, 28, 109, 640, 57, 2011, 19, 57, 244, 15, 105, 171, 160, 17, 88, 8, 2444, 99, 372, 1099, 156, 35, 66, 47, 22, 41, 241, 70, 564, 33, 564, 70, 17, 88, 308, 77, 28, 138, 74, 757, 70, 313, 8, 1105, 21, 14, 130, 109, 7, 746, 13, 130, 8, 6], [2, 5, 879, 45, 1082, 1177, 8, 6, 1, 1, 1, 1, 1, 1, 1, 1, 1, 1, 1, 1, 1, 1, 1, 1, 1, 1, 1, 1, 1, 1, 1, 1, 1, 1, 1, 1, 1, 1, 1, 1, 1, 1, 1, 1, 1, 1, 1, 1, 1, 1, 1, 1, 1, 1, 1, 1, 1, 1, 1, 1, 1, 1, 1, 1, 1], [2, 5, 3235, 16, 58, 26, 8, 6, 1, 1, 1, 1, 1, 1, 1, 1, 1, 1, 1, 1, 1, 1, 1, 1, 1, 1, 1, 1, 1, 1, 1, 1, 1, 1, 1, 1, 1, 1, 1, 1, 1, 1, 1, 1, 1, 1, 1, 1, 1, 1, 1, 1, 1, 1, 1, 1, 1, 1, 1, 1, 1, 1, 1, 1, 1], [2, 5, 3229, 39, 574, 247, 931, 8, 6, 1, 1, 1, 1, 1, 1, 1, 1, 1, 1, 1, 1, 1, 1, 1, 1, 1, 1, 1, 1, 1, 1, 1, 1, 1, 1, 1, 1, 1, 1, 1, 1, 1, 1, 1, 1, 1, 1, 1, 1, 1, 1, 1, 1, 1, 1, 1, 1, 1, 1, 1, 1, 1, 1, 1, 1], [2, 5, 1309, 372, 3469, 538, 629, 7, 10, 6, 1, 1, 1, 1, 1, 1, 1, 1, 1, 1, 1, 1, 1, 1, 1, 1, 1, 1, 1, 1, 1, 1, 1, 1, 1, 1, 1, 1, 1, 1, 1, 1, 1, 1, 1, 1, 1, 1, 1, 1, 1, 1, 1, 1, 1, 1, 1, 1, 1, 1, 1, 1, 1, 1, 1], [2, 5, 879, 45, 35, 275, 33, 729, 8, 6, 1, 1, 1, 1, 1, 1, 1, 1, 1, 1, 1, 1, 1, 1, 1, 1, 1, 1, 1, 1, 1, 1, 1, 1, 1, 1, 1, 1, 1, 1, 1, 1, 1, 1, 1, 1, 1, 1, 1, 1, 1, 1, 1, 1, 1, 1, 1, 1, 1, 1, 1, 1, 1, 1, 1], [2, 5, 3676, 15, 2940, 39, 355, 82, 905, 8, 6, 1, 1, 1, 1, 1, 1, 1, 1, 1, 1, 1, 1, 1, 1, 1, 1, 1, 1, 1, 1, 1, 1, 1, 1, 1, 1, 1, 1, 1, 1, 1, 1, 1, 1, 1, 1, 1, 1, 1, 1, 1, 1, 1, 1, 1, 1, 1, 1, 1, 1, 1, 1, 1, 1], [2, 5, 3333, 992, 133, 171, 22, 914, 8, 6, 1, 1, 1, 1, 1, 1, 1, 1, 1, 1, 1, 1, 1, 1, 1, 1, 1, 1, 1, 1, 1, 1, 1, 1, 1, 1, 1, 1, 1, 1, 1, 1, 1, 1, 1, 1, 1, 1, 1, 1, 1, 1, 1, 1, 1, 1, 1, 1, 1, 1, 1, 1, 1, 1, 1], [2, 5, 1575, 428, 126, 208, 97, 126, 1817, 2491, 284, 8, 6, 1, 1, 1, 1, 1, 1, 1, 1, 1, 1, 1, 1, 1, 1, 1, 1, 1, 1, 1, 1, 1, 1, 1, 1, 1, 1, 1, 1, 1, 1, 1, 1, 1, 1, 1, 1, 1, 1, 1, 1, 1, 1, 1, 1, 1, 1, 1, 1, 1, 1, 1, 1], [2, 5, 3678, 3305, 490, 13, 79, 7, 10, 6, 1, 1, 1, 1, 1, 1, 1, 1, 1, 1, 1, 1, 1, 1, 1, 1, 1, 1, 1, 1, 1, 1, 1, 1, 1, 1, 1, 1, 1, 1, 1, 1, 1, 1, 1, 1, 1, 1, 1, 1, 1, 1, 1, 1, 1, 1, 1, 1, 1, 1, 1, 1, 1, 1, 1], [2, 5, 3679, 3292, 90, 14, 124, 13, 117, 77, 28, 395, 13, 9, 395, 38, 66, 113, 71, 88, 611, 611, 308, 77, 28, 265, 239, 280, 2587, 9, 395, 72, 66, 100, 2105, 76, 2622, 2330, 159, 261, 8, 1424, 269, 38, 66, 265, 499, 550, 344, 8, 6, 1, 1, 1, 1, 1, 1, 1, 1, 1, 1, 1, 1, 1, 1], [2, 5, 3692, 211, 2040, 769, 19, 83, 8, 6, 1, 1, 1, 1, 1, 1, 1, 1, 1, 1, 1, 1, 1, 1, 1, 1, 1, 1, 1, 1, 1, 1, 1, 1, 1, 1, 1, 1, 1, 1, 1, 1], [2, 5, 3682, 1973, 318, 84, 392, 8, 6, 1, 1, 1, 1, 1, 1, 1, 1, 1, 1, 1, 1, 1, 1, 1, 1, 1, 1, 1, 1, 1, 1, 1, 1, 1, 1, 1, 1, 1, 1, 1, 1, 1], [2, 5, 3235, 16, 71, 641, 7, 8, 8, 6, 1, 1, 1, 1, 1, 1, 1, 1, 1, 1, 1, 1, 1, 1, 1, 1, 1, 1, 1, 1, 1, 1, 1, 1, 1, 1, 1, 1, 1, 1, 1, 1], [2, 5, 3682, 937, 19, 13, 604, 8, 6, 1, 1, 1, 1, 1, 1, 1, 1, 1, 1, 1, 1, 1, 1, 1, 1, 1, 1, 1, 1, 1, 1, 1, 1, 1, 1, 1, 1, 1, 1, 1, 1, 1], [2, 5, 3693, 19, 213, 172, 8, 6, 1, 1, 1, 1, 1, 1, 1, 1, 1, 1, 1, 1, 1, 1, 1, 1, 1, 1, 1, 1, 1, 1, 1, 1, 1, 1, 1, 1, 1, 1, 1, 1, 1, 1], [2, 5, 3333, 992, 133, 171, 22, 914, 8, 6, 1, 1, 1, 1, 1, 1, 1, 1, 1, 1, 1, 1, 1, 1, 1, 1, 1, 1, 1, 1, 1, 1, 1, 1, 1, 1, 1, 1, 1, 1, 1, 1], [2, 5, 3675, 239, 1251, 26, 22, 8, 6, 1, 1, 1, 1, 1, 1, 1, 1, 1, 1, 1, 1, 1, 1, 1, 1, 1, 1, 1, 1, 1, 1, 1, 1, 1, 1, 1, 1, 1, 1, 1, 1, 1], [2, 5, 3673, 159, 39, 139, 628, 6, 1, 1, 1, 1, 1, 1, 1, 1, 1, 1, 1, 1, 1, 1, 1, 1, 1, 1, 1, 1, 1, 1, 1, 1, 1, 1, 1, 1, 1, 1, 1, 1, 1, 1], [2, 5, 3676, 15, 653, 147, 120, 137, 8, 6, 1, 1, 1, 1, 1, 1, 1, 1, 1, 1, 1, 1, 1, 1, 1, 1, 1, 1, 1, 1, 1, 1, 1, 1, 1, 1, 1, 1, 1, 1, 1, 1], [2, 5, 3682, 239, 50, 22, 346, 132, 7, 10, 6, 1, 1, 1, 1, 1, 1, 1, 1, 1, 1, 1, 1, 1, 1, 1, 1, 1, 1, 1, 1, 1, 1, 1, 1, 1, 1, 1, 1, 1, 1, 1], [2, 5, 3229, 42, 139, 90, 129, 7, 10, 6, 1, 1, 1, 1, 1, 1, 1, 1, 1, 1, 1, 1, 1, 1, 1, 1, 1, 1, 1, 1, 1, 1, 1, 1, 1, 1, 1, 1, 1, 1, 1, 1], [2, 5, 3692, 211, 2040, 769, 19, 83, 8, 6, 1, 1, 1, 1, 1, 1, 1, 1, 1, 1, 1, 1, 1, 1, 1, 1, 1, 1, 1, 1, 1, 1, 1, 1, 1, 1, 1, 1, 1, 1, 1, 1], [2, 5, 3690, 289, 62, 26, 7, 10, 6, 1, 1, 1, 1, 1, 1, 1, 1, 1, 1, 1, 1, 1, 1, 1, 1, 1, 1, 1, 1, 1, 1, 1, 1, 1, 1, 1, 1, 1, 1, 1, 1, 1], [2, 5, 3671, 2373, 42, 26, 8, 6, 1, 1, 1, 1, 1, 1, 1, 1, 1, 1, 1, 1, 1, 1, 1, 1, 1, 1, 1, 1, 1, 1, 1, 1, 1, 1, 1, 1, 1, 1, 1, 1, 1, 1], [2, 5, 3618, 239, 26, 8, 6, 1, 1, 1, 1, 1, 1, 1, 1, 1, 1, 1, 1, 1, 1, 1, 1, 1, 1, 1, 1, 1, 1, 1, 1, 1, 1, 1, 1, 1, 1, 1, 1, 1, 1, 1], [2, 5, 3679, 3292, 90, 14, 124, 13, 117, 77, 28, 395, 13, 9, 395, 38, 66, 113, 71, 88, 611, 611, 308, 77, 28, 265, 239, 280, 2587, 9, 395, 72, 66, 100, 2105, 76, 2622, 2330, 159, 261, 8, 6], [2, 5, 879, 45, 35, 26, 22, 8, 6, 1, 1, 1], [2, 5, 3618, 21, 127, 9, 26, 22, 8, 6, 1, 1], [2, 5, 3229, 42, 973, 84, 129, 7, 10, 6, 1, 1], [2, 5, 3682, 937, 147, 208, 404, 275, 8, 6, 1, 1], [2, 5, 3690, 19, 127, 322, 8, 6, 1, 1, 1, 1], [2, 5, 3693, 16, 80, 228, 898, 8, 6, 1, 1, 1], [2, 5, 3682, 16, 16, 804, 9, 283, 1101, 387, 8, 6], [2, 5, 1406, 21, 303, 678, 72, 208, 445, 430, 628, 6], [2, 5, 1219, 19, 52, 128, 7, 10, 6, 1, 1, 1], [2, 5, 3678, 289, 1297, 145, 22, 8, 6, 1, 1, 1], [2, 5, 3676, 159, 16, 128, 26, 8, 6, 1, 1, 1], [2, 5, 3676, 1643, 769, 19, 83, 126, 8, 6, 1, 1], [2, 5, 1309, 372, 42, 7, 10, 6, 1, 1, 1, 1], [2, 5, 3669, 13, 9, 105, 436, 115, 8, 6, 1, 1], [2, 5, 3690, 1604, 376, 213, 1284, 469, 8, 6, 1, 1], [2, 5, 3676, 103, 2796, 39, 8, 6, 1, 1, 1, 1], [2, 5, 3682, 137, 544, 13, 128, 8, 6, 1, 1, 1, 1, 1, 1, 1, 1, 1, 1, 1, 1, 1, 1, 1, 1, 1, 1, 1, 1, 1, 1, 1, 1, 1, 1, 1, 1, 1, 1, 1, 1, 1, 1, 1, 1, 1, 1, 1, 1, 1, 1, 1, 1, 1, 1, 1, 1, 1], [2, 5, 3673, 159, 39, 139, 628, 6, 1, 1, 1, 1, 1, 1, 1, 1, 1, 1, 1, 1, 1, 1, 1, 1, 1, 1, 1, 1, 1, 1, 1, 1, 1, 1, 1, 1, 1, 1, 1, 1, 1, 1, 1, 1, 1, 1, 1, 1, 1, 1, 1, 1, 1, 1, 1, 1, 1, 1], [2, 5, 3676, 15, 2940, 39, 9, 297, 137, 542, 111, 6, 1, 1, 1, 1, 1, 1, 1, 1, 1, 1, 1, 1, 1, 1, 1, 1, 1, 1, 1, 1, 1, 1, 1, 1, 1, 1, 1, 1, 1, 1, 1, 1, 1, 1, 1, 1, 1, 1, 1, 1, 1, 1, 1, 1, 1, 1], [2, 5, 3669, 13, 17, 91, 3443, 343, 6, 1, 1, 1, 1, 1, 1, 1, 1, 1, 1, 1, 1, 1, 1, 1, 1, 1, 1, 1, 1, 1, 1, 1, 1, 1, 1, 1, 1, 1, 1, 1, 1, 1, 1, 1, 1, 1, 1, 1, 1, 1, 1, 1, 1, 1, 1, 1, 1, 1], [2, 5, 3682, 137, 544, 946, 42, 60, 7, 10, 6, 1, 1, 1, 1, 1, 1, 1, 1, 1, 1, 1, 1, 1, 1, 1, 1, 1, 1, 1, 1, 1, 1, 1, 1, 1, 1, 1, 1, 1, 1, 1, 1, 1, 1, 1, 1, 1, 1, 1, 1, 1, 1, 1, 1, 1, 1, 1], [2, 5, 879, 45, 35, 2472, 22, 113, 127, 135, 248, 199, 8, 6, 1, 1, 1, 1, 1, 1, 1, 1, 1, 1, 1, 1, 1, 1, 1, 1, 1, 1, 1, 1, 1, 1, 1, 1, 1, 1, 1, 1, 1, 1, 1, 1, 1, 1, 1, 1, 1, 1, 1, 1, 1, 1, 1, 1], [2, 5, 3676, 15, 2706, 99, 652, 8, 6, 1, 1, 1, 1, 1, 1, 1, 1, 1, 1, 1, 1, 1, 1, 1, 1, 1, 1, 1, 1, 1, 1, 1, 1, 1, 1, 1, 1, 1, 1, 1, 1, 1, 1, 1, 1, 1, 1, 1, 1, 1, 1, 1, 1, 1, 1, 1, 1, 1], [2, 5, 3333, 1604, 22, 62, 20, 79, 201, 270, 7, 1109, 13, 207, 950, 200, 2368, 9, 113, 71, 88, 201, 2933, 1713, 201, 8, 8, 131, 22, 2314, 2885, 201, 1108, 77, 28, 265, 239, 88, 17, 244, 2286, 628, 704, 422, 1330, 17, 993, 1503, 20, 60, 1191, 1226, 26, 15, 8, 8, 8, 6], [2, 5, 3229, 42, 83, 1238, 7, 10, 6, 1, 1, 1, 1, 1, 1, 1, 1, 1, 1, 1, 1, 1, 1, 1, 1, 1, 1, 1, 1, 1, 1, 1, 1, 1, 1, 1, 1, 1, 1, 1, 1, 1, 1, 1, 1, 1, 1, 1, 1, 1, 1, 1, 1, 1, 1, 1, 1, 1], [2, 5, 3676, 15, 2706, 430, 1027, 471, 195, 133, 8, 6, 1, 1, 1, 1, 1, 1, 1, 1, 1, 1, 1, 1, 1, 1, 1, 1, 1, 1, 1, 1, 1, 1, 1, 1, 1, 1, 1, 1, 1, 1, 1, 1, 1, 1, 1, 1, 1, 1, 1, 1, 1, 1, 1, 1, 1, 1], [2, 5, 3676, 15, 99, 42, 105, 26, 142, 8, 6, 1, 1, 1, 1, 1, 1, 1, 1, 1, 1, 1, 1, 1, 1, 1, 1, 1, 1, 1, 1, 1, 1, 1, 1, 1, 1, 1, 1, 1, 1, 1, 1, 1, 1, 1, 1, 1, 1, 1, 1, 1, 1, 1, 1, 1, 1, 1], [2, 5, 3669, 218, 339, 111, 6, 1, 1, 1, 1, 1, 1, 1, 1, 1, 1, 1, 1, 1, 1, 1, 1, 1, 1, 1, 1, 1, 1, 1, 1, 1, 1, 1, 1, 1, 1, 1, 1, 1, 1, 1, 1, 1, 1, 1, 1, 1, 1, 1, 1, 1, 1, 1, 1, 1, 1, 1], [2, 5, 3229, 39, 178, 72, 262, 8, 6, 1, 1, 1, 1, 1, 1, 1, 1, 1, 1, 1, 1, 1, 1, 1, 1, 1, 1, 1, 1, 1, 1, 1, 1, 1, 1, 1, 1, 1, 1, 1, 1, 1, 1, 1, 1, 1, 1, 1, 1, 1, 1, 1, 1, 1, 1, 1, 1, 1], [2, 5, 1406, 1604, 362, 74, 23, 9, 248, 553, 8, 6, 1, 1, 1, 1, 1, 1, 1, 1, 1, 1, 1, 1, 1, 1, 1, 1, 1, 1, 1, 1, 1, 1, 1, 1, 1, 1, 1, 1, 1, 1, 1, 1, 1, 1, 1, 1, 1, 1, 1, 1, 1, 1, 1, 1, 1, 1], [2, 5, 3671, 239, 1914, 9, 97, 35, 26, 286, 9, 26, 286, 234, 111, 6, 1, 1, 1, 1, 1, 1, 1, 1, 1, 1, 1, 1, 1, 1, 1, 1, 1, 1, 1, 1, 1, 1, 1, 1, 1, 1, 1, 1, 1, 1, 1, 1, 1, 1, 1, 1, 1, 1, 1, 1, 1, 1], [2, 5, 3229, 42, 66, 72, 21, 262, 9, 1816, 19, 160, 17, 647, 8, 6, 1, 1, 1, 1, 1, 1, 1, 1, 1, 1, 1, 1, 1, 1, 1, 1, 1, 1, 1, 1, 1, 1, 1, 1, 1, 1, 1, 1, 1, 1, 1, 1, 1, 1, 1, 1, 1, 1, 1, 1, 1, 1], [2, 5, 3679, 1533, 210, 824, 2017, 7, 10, 6, 1, 1, 1, 1, 1, 1, 1, 1, 1, 1, 1, 1, 1, 1, 1, 1, 1, 1, 1, 1, 1, 1, 1, 1, 1, 1, 1, 1, 1, 1, 1, 1, 1, 1, 1, 1, 1, 1, 1, 1, 1, 1, 1, 1, 1, 1, 1, 1, 1, 1, 1, 1, 1, 1, 1, 1, 1], [2, 5, 3679, 3292, 90, 14, 124, 13, 117, 77, 28, 109, 640, 57, 2011, 19, 57, 244, 15, 105, 171, 160, 17, 88, 8, 2444, 99, 372, 1099, 156, 35, 66, 47, 22, 20, 241, 70, 564, 33, 564, 70, 17, 88, 308, 77, 28, 138, 74, 757, 8, 44, 3141, 35, 47, 22, 91, 1062, 6, 1, 1, 1, 1, 1, 1, 1, 1, 1], [2, 5, 3693, 3305, 39, 41, 215, 8, 6, 1, 1, 1, 1, 1, 1, 1, 1, 1, 1, 1, 1, 1, 1, 1, 1, 1, 1, 1, 1, 1, 1, 1, 1, 1, 1, 1, 1, 1, 1, 1, 1, 1, 1, 1, 1, 1, 1, 1, 1, 1, 1, 1, 1, 1, 1, 1, 1, 1, 1, 1, 1, 1, 1, 1, 1, 1, 1], [2, 5, 3676, 1643, 303, 678, 424, 42, 79, 7, 10, 6, 1, 1, 1, 1, 1, 1, 1, 1, 1, 1, 1, 1, 1, 1, 1, 1, 1, 1, 1, 1, 1, 1, 1, 1, 1, 1, 1, 1, 1, 1, 1, 1, 1, 1, 1, 1, 1, 1, 1, 1, 1, 1, 1, 1, 1, 1, 1, 1, 1, 1, 1, 1, 1, 1, 1], [2, 5, 1546, 156, 3363, 284, 129, 8, 6, 1, 1, 1, 1, 1, 1, 1, 1, 1, 1, 1, 1, 1, 1, 1, 1, 1, 1, 1, 1, 1, 1, 1, 1, 1, 1, 1, 1, 1, 1, 1, 1, 1, 1, 1, 1, 1, 1, 1, 1, 1, 1, 1, 1, 1, 1, 1, 1, 1, 1, 1, 1, 1, 1, 1, 1, 1, 1], [2, 5, 3229, 39, 83, 133, 129, 8, 6, 1, 1, 1, 1, 1, 1, 1, 1, 1, 1, 1, 1, 1, 1, 1, 1, 1, 1, 1, 1, 1, 1, 1, 1, 1, 1, 1, 1, 1, 1, 1, 1, 1, 1, 1, 1, 1, 1, 1, 1, 1, 1, 1, 1, 1, 1, 1, 1, 1, 1, 1, 1, 1, 1, 1, 1, 1, 1], [2, 5, 3682, 1973, 245, 14, 109, 124, 13, 117, 77, 28, 109, 400, 57, 234, 33, 234, 13, 9, 400, 38, 66, 234, 22, 198, 8, 6, 1, 1, 1, 1, 1, 1, 1, 1, 1, 1, 1, 1, 1, 1, 1, 1, 1, 1, 1, 1, 1, 1, 1, 1, 1, 1, 1, 1, 1, 1, 1, 1, 1, 1, 1, 1, 1, 1, 1], [2, 5, 3693, 351, 2639, 300, 111, 6, 1, 1, 1, 1, 1, 1, 1, 1, 1, 1, 1, 1, 1, 1, 1, 1, 1, 1, 1, 1, 1, 1, 1, 1, 1, 1, 1, 1, 1, 1, 1, 1, 1, 1, 1, 1, 1, 1, 1, 1, 1, 1, 1, 1, 1, 1, 1, 1, 1, 1, 1, 1, 1, 1, 1, 1, 1, 1, 1], [2, 5, 3669, 13, 218, 339, 8, 6, 1, 1, 1, 1, 1, 1, 1, 1, 1, 1, 1, 1, 1, 1, 1, 1, 1, 1, 1, 1, 1, 1, 1, 1, 1, 1, 1, 1, 1, 1, 1, 1, 1, 1, 1, 1, 1, 1, 1, 1, 1, 1, 1, 1, 1, 1, 1, 1, 1, 1, 1, 1, 1, 1, 1, 1, 1, 1, 1], [2, 5, 3671, 3198, 72, 851, 28, 378, 1058, 115, 602, 41, 1374, 8, 6, 1, 1, 1, 1, 1, 1, 1, 1, 1, 1, 1, 1, 1, 1, 1, 1, 1, 1, 1, 1, 1, 1, 1, 1, 1, 1, 1, 1, 1, 1, 1, 1, 1, 1, 1, 1, 1, 1, 1, 1, 1, 1, 1, 1, 1, 1, 1, 1, 1, 1, 1, 1], [2, 5, 3679, 3292, 90, 60, 39, 17, 107, 124, 38, 9, 1557, 3426, 937, 293, 1787, 73, 1248, 2913, 57, 88, 17, 2494, 38, 8, 6, 1, 1, 1, 1, 1, 1, 1, 1, 1, 1, 1, 1, 1, 1, 1, 1, 1, 1, 1, 1, 1, 1, 1, 1, 1, 1, 1, 1, 1, 1, 1, 1, 1, 1, 1, 1, 1, 1, 1, 1], [2, 5, 3678, 16, 1118, 178, 8, 6, 1, 1, 1, 1, 1, 1, 1, 1, 1, 1, 1, 1, 1, 1, 1, 1, 1, 1, 1, 1, 1, 1, 1, 1, 1, 1, 1, 1, 1, 1, 1, 1, 1, 1, 1, 1, 1, 1, 1, 1, 1, 1, 1, 1, 1, 1, 1, 1, 1, 1, 1, 1, 1, 1, 1, 1, 1, 1, 1], [2, 5, 3679, 3292, 38, 109, 124, 13, 117, 77, 28, 109, 640, 57, 2011, 19, 57, 244, 15, 105, 171, 160, 17, 88, 8, 2444, 99, 372, 1099, 156, 35, 66, 47, 22, 20, 241, 70, 564, 33, 564, 70, 17, 88, 308, 77, 28, 138, 74, 757, 8, 44, 3141, 35, 47, 22, 91, 62, 1035, 38, 232, 3497, 1895, 1969, 1867, 52, 1037, 6], [2, 5, 3673, 465, 38, 522, 349, 291, 542, 8, 6, 1, 1, 1, 1, 1, 1, 1, 1, 1, 1, 1, 1, 1, 1, 1, 1, 1, 1, 1, 1, 1, 1, 1, 1, 1, 1, 1, 1, 1, 1, 1, 1, 1, 1, 1, 1, 1, 1, 1, 1, 1, 1, 1, 1, 1, 1, 1, 1, 1, 1, 1, 1, 1, 1, 1, 1], [2, 5, 879, 45, 35, 79, 142, 22, 8, 6, 1, 1, 1, 1, 1, 1, 1, 1, 1, 1, 1, 1, 1, 1, 1, 1, 1, 1, 1, 1, 1, 1, 1, 1, 1, 1, 1, 1, 1, 1, 1, 1, 1, 1, 1, 1, 1, 1, 1, 1, 1, 1, 1, 1, 1, 1, 1, 1, 1, 1, 1, 1, 1, 1, 1, 1, 1], [2, 5, 1406, 2824, 912, 8, 6, 1, 1, 1, 1, 1, 1, 1, 1, 1, 1, 1, 1, 1, 1, 1, 1, 1, 1, 1, 1, 1, 1, 1, 1, 1, 1, 1, 1, 1, 1, 1, 1, 1, 1, 1, 1, 1, 1, 1, 1, 1, 1, 1, 1, 1, 1, 1, 1, 1, 1, 1, 1, 1, 1, 1, 1, 1, 1, 1, 1], [2, 5, 3671, 21, 66, 9, 574, 1515, 189, 1914, 13, 60, 8, 6, 1, 1, 1, 1, 1, 1, 1, 1, 1, 1, 1, 1, 1, 1, 1, 1, 1, 1, 1, 1, 1, 1, 1, 1, 1, 1, 1, 1, 1, 1, 1, 1, 1, 1, 1, 1, 1, 1, 1, 1, 1, 1, 1, 1, 1, 1, 1, 1], [2, 5, 3676, 15, 99, 228, 8, 6, 1, 1, 1, 1, 1, 1, 1, 1, 1, 1, 1, 1, 1, 1, 1, 1, 1, 1, 1, 1, 1, 1, 1, 1, 1, 1, 1, 1, 1, 1, 1, 1, 1, 1, 1, 1, 1, 1, 1, 1, 1, 1, 1, 1, 1, 1, 1, 1, 1, 1, 1, 1, 1, 1], [2, 5, 3618, 3559, 195, 213, 7, 10, 6, 1, 1, 1, 1, 1, 1, 1, 1, 1, 1, 1, 1, 1, 1, 1, 1, 1, 1, 1, 1, 1, 1, 1, 1, 1, 1, 1, 1, 1, 1, 1, 1, 1, 1, 1, 1, 1, 1, 1, 1, 1, 1, 1, 1, 1, 1, 1, 1, 1, 1, 1, 1, 1], [2, 5, 3679, 3292, 90, 14, 124, 13, 117, 77, 28, 395, 13, 9, 395, 38, 66, 113, 71, 88, 611, 611, 308, 77, 28, 265, 239, 280, 2587, 9, 395, 72, 66, 100, 2105, 76, 2622, 2330, 159, 261, 8, 1424, 269, 38, 66, 265, 499, 550, 344, 8, 6, 1, 1, 1, 1, 1, 1, 1, 1, 1, 1, 1], [2, 5, 3669, 13, 17, 91, 3443, 343, 6, 1, 1, 1, 1, 1, 1, 1, 1, 1, 1, 1, 1, 1, 1, 1, 1, 1, 1, 1, 1, 1, 1, 1, 1, 1, 1, 1, 1, 1, 1, 1, 1, 1, 1, 1, 1, 1, 1, 1, 1, 1, 1, 1, 1, 1, 1, 1, 1, 1, 1, 1, 1, 1], [2, 5, 3693, 1533, 1178, 21, 35, 7, 10, 6, 1, 1, 1, 1, 1, 1, 1, 1, 1, 1, 1, 1, 1, 1, 1, 1, 1, 1, 1, 1, 1, 1, 1, 1, 1, 1, 1, 1, 1, 1, 1, 1, 1, 1, 1, 1, 1, 1, 1, 1, 1, 1, 1, 1, 1, 1, 1, 1, 1, 1, 1, 1], [2, 5, 3679, 3292, 90, 14, 109, 124, 13, 117, 77, 28, 109, 640, 57, 2011, 19, 57, 244, 15, 105, 171, 160, 17, 88, 8, 2444, 99, 372, 1099, 156, 35, 66, 47, 22, 41, 241, 70, 564, 33, 564, 70, 17, 88, 308, 77, 28, 138, 74, 757, 8, 44, 3141, 35, 47, 22, 618, 17, 1035, 38, 8, 6], [2, 5, 3618, 2019, 26, 22, 8, 6, 1, 1, 1, 1, 1, 1, 1, 1, 1, 1, 1, 1, 1, 1, 1, 1, 1, 1, 1, 1, 1, 1, 1, 1, 1, 1, 1, 1, 1, 1, 1, 1, 1, 1, 1, 1, 1, 1, 1, 1, 1, 1, 1, 1, 1, 1, 1, 1, 1, 1, 1, 1, 1, 1], [2, 5, 3671, 1902, 39, 111, 6, 1, 1, 1, 1, 1, 1, 1, 1, 1, 1, 1, 1, 1, 1, 1, 1, 1, 1, 1, 1, 1, 1, 1, 1, 1, 1, 1, 1, 1, 1, 1, 1, 1, 1, 1, 1, 1, 1, 1, 1, 1, 1, 1, 1, 1, 1, 1, 1, 1, 1, 1, 1, 1, 1, 1], [2, 5, 3676, 45, 22, 167, 20, 291, 8, 6, 1, 1, 1, 1, 1, 1, 1, 1, 1, 1, 1, 1, 1, 1, 1, 1, 1, 1, 1, 1, 1, 1, 1, 1, 1, 1, 1, 1, 1, 1, 1, 1, 1, 1, 1, 1, 1, 1, 1, 1, 1, 1, 1, 1, 1, 1, 1, 1, 1, 1, 1, 1], [2, 5, 3693, 3305, 39, 41, 756, 8, 6, 1, 1, 1, 1, 1, 1, 1, 1, 1, 1, 1, 1, 1, 1, 1, 1, 1, 1, 1, 1, 1, 1, 1, 1, 1, 1, 1, 1, 1, 1, 1, 1, 1, 1, 1, 1, 1, 1, 1, 1, 1, 1, 1, 1, 1, 1, 1, 1, 1, 1, 1, 1, 1], [2, 5, 3682, 16, 16, 166, 528, 20, 795, 20, 1571, 73, 80, 2435, 8, 6, 1, 1, 1, 1, 1, 1, 1, 1, 1, 1, 1, 1, 1, 1, 1, 1, 1, 1, 1, 1, 1, 1, 1, 1, 1, 1, 1, 1, 1, 1, 1, 1, 1, 1, 1, 1, 1, 1, 1, 1, 1, 1, 1, 1, 1, 1], [2, 5, 3673, 477, 42, 130, 8, 6, 1, 1, 1, 1, 1, 1, 1, 1, 1, 1, 1, 1, 1, 1, 1, 1, 1, 1, 1, 1, 1, 1, 1, 1, 1, 1, 1, 1, 1, 1, 1, 1, 1, 1, 1, 1, 1, 1, 1, 1, 1, 1, 1, 1, 1, 1, 1, 1, 1, 1, 1, 1, 1, 1], [2, 5, 3671, 2700, 81, 8, 6, 1, 1, 1, 1, 1, 1, 1, 1, 1, 1, 1, 1, 1, 1, 1, 1, 1, 1, 1, 1, 1, 1, 1, 1, 1, 1, 1, 1, 1, 1, 1, 1, 1, 1, 1, 1, 1, 1, 1, 1, 1, 1, 1, 1, 1, 1, 1, 1, 1, 1, 1, 1, 1, 1, 1], [2, 5, 3682, 239, 50, 22, 346, 17, 91, 741, 8, 6, 1, 1, 1, 1, 1, 1, 1, 1, 1, 1, 1, 1, 1, 1, 1, 1, 1, 1, 1, 1, 1, 1, 1, 1, 1, 1, 1, 1, 1, 1, 1, 1, 1, 1, 1, 1, 1, 1, 1, 1, 1, 1, 1, 1, 1, 1, 1, 1, 1, 1], [2, 5, 879, 45, 35, 553, 9, 22, 26, 8, 6, 1, 1, 1, 1, 1, 1, 1, 1, 1, 1, 1, 1, 1, 1, 1, 1, 1, 1, 1, 1, 1, 1, 1, 1, 1, 1, 1, 1, 1, 1, 1, 1, 1, 1, 1, 1, 1, 1, 1, 1, 1, 1, 1, 1, 1, 1, 1, 1, 1, 1, 1], [2, 5, 1575, 2737, 546, 8, 6, 1, 1, 1, 1, 1, 1, 1, 1, 1, 1, 1, 1, 1, 1, 1, 1, 1, 1, 1, 1, 1, 1, 1, 1, 1], [2, 5, 3687, 1343, 38, 550, 22, 41, 232, 2229, 8, 6, 1, 1, 1, 1, 1, 1, 1, 1, 1, 1, 1, 1, 1, 1, 1, 1, 1, 1, 1, 1], [2, 5, 3676, 15, 2706, 167, 107, 9, 17, 107, 8, 6, 1, 1, 1, 1, 1, 1, 1, 1, 1, 1, 1, 1, 1, 1, 1, 1, 1, 1, 1, 1], [2, 5, 3673, 159, 19, 81, 1117, 8, 6, 1, 1, 1, 1, 1, 1, 1, 1, 1, 1, 1, 1, 1, 1, 1, 1, 1, 1, 1, 1, 1, 1, 1], [2, 5, 879, 45, 35, 128, 22, 7, 10, 6, 1, 1, 1, 1, 1, 1, 1, 1, 1, 1, 1, 1, 1, 1, 1, 1, 1, 1, 1, 1, 1, 1], [2, 5, 3669, 284, 8, 6, 1, 1, 1, 1, 1, 1, 1, 1, 1, 1, 1, 1, 1, 1, 1, 1, 1, 1, 1, 1, 1, 1, 1, 1, 1, 1], [2, 5, 3690, 625, 83, 729, 7, 10, 6, 1, 1, 1, 1, 1, 1, 1, 1, 1, 1, 1, 1, 1, 1, 1, 1, 1, 1, 1, 1, 1, 1, 1], [2, 5, 3229, 22, 157, 247, 262, 8, 6, 1, 1, 1, 1, 1, 1, 1, 1, 1, 1, 1, 1, 1, 1, 1, 1, 1, 1, 1, 1, 1, 1, 1], [2, 5, 3693, 159, 174, 9, 26, 42, 8, 6, 1, 1, 1, 1, 1, 1, 1, 1, 1, 1, 1, 1, 1, 1, 1, 1, 1, 1, 1, 1, 1, 1], [2, 5, 3676, 1643, 303, 678, 424, 42, 79, 7, 10, 6, 1, 1, 1, 1, 1, 1, 1, 1, 1, 1, 1, 1, 1, 1, 1, 1, 1, 1, 1, 1], [2, 5, 3675, 2959, 798, 7, 10, 6, 1, 1, 1, 1, 1, 1, 1, 1, 1, 1, 1, 1, 1, 1, 1, 1, 1, 1, 1, 1, 1, 1, 1, 1], [2, 5, 1309, 372, 432, 7, 10, 6, 1, 1, 1, 1, 1, 1, 1, 1, 1, 1, 1, 1, 1, 1, 1, 1, 1, 1, 1, 1, 1, 1, 1, 1], [2, 5, 879, 45, 35, 529, 22, 13, 135, 1687, 9, 42, 26, 8, 6, 1, 1, 1, 1, 1, 1, 1, 1, 1, 1, 1, 1, 1, 1, 1, 1, 1], [2, 5, 3229, 42, 215, 948, 84, 7, 10, 6, 1, 1, 1, 1, 1, 1, 1, 1, 1, 1, 1, 1, 1, 1, 1, 1, 1, 1, 1, 1, 1, 1], [2, 5, 879, 45, 35, 67, 1243, 8, 6, 1, 1, 1, 1, 1, 1, 1, 1, 1, 1, 1, 1, 1, 1, 1, 1, 1, 1, 1, 1, 1, 1, 1], [2, 5, 3679, 3292, 90, 120, 676, 81, 599, 9, 60, 39, 17, 107, 124, 38, 9, 1557, 3426, 937, 293, 1787, 73, 1248, 2913, 57, 88, 17, 2494, 38, 8, 6], [2, 5, 3690, 19, 824, 189, 8, 6, 1, 1, 1, 1, 1, 1, 1], [2, 5, 3682, 19, 31, 430, 951, 8, 6, 1, 1, 1, 1, 1, 1], [2, 5, 3235, 3122, 113, 127, 649, 275, 8, 6, 1, 1, 1, 1, 1], [2, 5, 3693, 159, 174, 247, 8, 6, 1, 1, 1, 1, 1, 1, 1], [2, 5, 3235, 20, 147, 389, 100, 8, 6, 1, 1, 1, 1, 1, 1], [2, 5, 3235, 16, 26, 142, 8, 6, 1, 1, 1, 1, 1, 1, 1], [2, 5, 3678, 849, 138, 82, 7, 10, 6, 1, 1, 1, 1, 1, 1], [2, 5, 1406, 21, 107, 8, 6, 1, 1, 1, 1, 1, 1, 1, 1], [2, 5, 3682, 1104, 15, 14, 9, 190, 134, 78, 109, 393, 1574, 8, 6], [2, 5, 3676, 94, 83, 19, 626, 113, 8, 6, 1, 1, 1, 1, 1], [2, 5, 3673, 854, 442, 7, 569, 42, 130, 7, 10, 6, 1, 1, 1], [2, 5, 1546, 156, 3363, 284, 129, 8, 6, 1, 1, 1, 1, 1, 1], [2, 5, 879, 45, 213, 8, 6, 1, 1, 1, 1, 1, 1, 1, 1], [2, 5, 3673, 465, 72, 82, 7, 10, 6, 1, 1, 1, 1, 1, 1], [2, 5, 3671, 625, 710, 84, 392, 275, 729, 8, 6, 1, 1, 1, 1], [2, 5, 3671, 1902, 39, 111, 6, 1, 1, 1, 1, 1, 1, 1, 1], [2, 5, 879, 45, 7, 636, 78, 318, 84, 13, 9, 248, 199, 8, 6, 1, 1, 1, 1, 1, 1, 1, 1, 1, 1, 1, 1, 1, 1, 1, 1, 1, 1, 1, 1, 1, 1, 1], [2, 5, 3678, 387, 771, 15, 13, 81, 441, 2474, 8, 6, 1, 1, 1, 1, 1, 1, 1, 1, 1, 1, 1, 1, 1, 1, 1, 1, 1, 1, 1, 1, 1, 1, 1, 1, 1, 1], [2, 5, 879, 45, 35, 553, 26, 8, 6, 1, 1, 1, 1, 1, 1, 1, 1, 1, 1, 1, 1, 1, 1, 1, 1, 1, 1, 1, 1, 1, 1, 1, 1, 1, 1, 1, 1, 1], [2, 5, 3676, 15, 1794, 22, 8, 6, 1, 1, 1, 1, 1, 1, 1, 1, 1, 1, 1, 1, 1, 1, 1, 1, 1, 1, 1, 1, 1, 1, 1, 1, 1, 1, 1, 1, 1, 1], [2, 5, 3678, 2959, 465, 678, 72, 128, 294, 3219, 9, 105, 26, 8, 6, 1, 1, 1, 1, 1, 1, 1, 1, 1, 1, 1, 1, 1, 1, 1, 1, 1, 1, 1, 1, 1, 1, 1], [2, 5, 3676, 2506, 17, 130, 8, 6, 1, 1, 1, 1, 1, 1, 1, 1, 1, 1, 1, 1, 1, 1, 1, 1, 1, 1, 1, 1, 1, 1, 1, 1, 1, 1, 1, 1, 1, 1], [2, 5, 3682, 1104, 15, 66, 9, 139, 72, 128, 304, 19, 8, 6, 1, 1, 1, 1, 1, 1, 1, 1, 1, 1, 1, 1, 1, 1, 1, 1, 1, 1, 1, 1, 1, 1, 1, 1], [2, 5, 3673, 465, 38, 66, 9, 195, 3193, 56, 3602, 167, 8, 6, 1, 1, 1, 1, 1, 1, 1, 1, 1, 1, 1, 1, 1, 1, 1, 1, 1, 1, 1, 1, 1, 1, 1, 1], [2, 5, 3676, 159, 174, 26, 8, 6, 1, 1, 1, 1, 1, 1, 1, 1, 1, 1, 1, 1, 1, 1, 1, 1, 1, 1, 1, 1, 1, 1, 1, 1, 1, 1, 1, 1, 1, 1], [2, 5, 3235, 16, 127, 26, 8, 6, 1, 1, 1, 1, 1, 1, 1, 1, 1, 1, 1, 1, 1, 1, 1, 1, 1, 1, 1, 1, 1, 1, 1, 1, 1, 1, 1, 1, 1, 1], [2, 5, 3690, 19, 60, 17, 124, 38, 41, 656, 655, 8, 2531, 126, 71, 1414, 20, 3436, 17, 1463, 3336, 120, 3191, 469, 56, 8, 6, 1, 1, 1, 1, 1, 1, 1, 1, 1, 1, 1], [2, 5, 3235, 619, 97, 511, 26, 111, 6, 1, 1, 1, 1, 1, 1, 1, 1, 1, 1, 1, 1, 1, 1, 1, 1, 1, 1, 1, 1, 1, 1, 1, 1, 1, 1, 1, 1, 1], [2, 5, 3676, 2506, 1173, 8, 6, 1, 1, 1, 1, 1, 1, 1, 1, 1, 1, 1, 1, 1, 1, 1, 1, 1, 1, 1, 1, 1, 1, 1, 1, 1, 1, 1, 1, 1, 1, 1], [2, 5, 3682, 1973, 245, 14, 109, 7, 746, 13, 9, 7, 746, 38, 265, 499, 1145, 9, 47, 22, 41, 241, 70, 313, 70, 135, 88, 8, 131, 22, 109, 497, 57, 88, 362, 338, 8, 6], [2, 5, 3692, 849, 23, 42, 496, 19, 100, 215, 8, 6, 1, 1, 1, 1, 1, 1, 1, 1, 1, 1, 1, 1, 1, 1, 1, 1, 1, 1, 1, 1, 1, 1, 1, 1, 1, 1], [2, 5, 3692, 849, 23, 42, 496, 19, 100, 215, 62, 432, 7, 10, 6, 1, 1, 1, 1, 1, 1, 1, 1, 1, 1, 1, 1, 1, 1, 1, 1, 1, 1, 1, 1, 1, 1, 1], [2, 5, 3235, 23, 3416, 447, 7, 2803, 3419, 3538, 17, 602, 8, 6, 1, 1, 1, 1, 1, 1, 1, 1, 1, 1, 1, 1, 1, 1, 1, 1, 1, 1, 1], [2, 5, 3669, 401, 401, 111, 6, 1, 1, 1, 1, 1, 1, 1, 1, 1, 1, 1, 1, 1, 1, 1, 1, 1, 1, 1, 1, 1, 1, 1, 1, 1, 1], [2, 5, 3676, 652, 79, 8, 6, 1, 1, 1, 1, 1, 1, 1, 1, 1, 1, 1, 1, 1, 1, 1, 1, 1, 1, 1, 1, 1, 1, 1, 1, 1, 1], [2, 5, 3618, 21, 127, 649, 275, 8, 6, 1, 1, 1, 1, 1, 1, 1, 1, 1, 1, 1, 1, 1, 1, 1, 1, 1, 1, 1, 1, 1, 1, 1, 1], [2, 5, 3673, 159, 42, 90, 139, 7, 10, 6, 1, 1, 1, 1, 1, 1, 1, 1, 1, 1, 1, 1, 1, 1, 1, 1, 1, 1, 1, 1, 1, 1, 1], [2, 5, 3679, 142, 19, 13, 129, 8, 6, 1, 1, 1, 1, 1, 1, 1, 1, 1, 1, 1, 1, 1, 1, 1, 1, 1, 1, 1, 1, 1, 1, 1, 1], [2, 5, 3679, 3292, 90, 120, 676, 81, 599, 14, 9, 60, 39, 17, 107, 124, 38, 9, 1557, 3426, 937, 293, 1787, 73, 1248, 2913, 57, 88, 17, 2494, 38, 8, 6], [2, 5, 3671, 16, 66, 9, 717, 142, 294, 135, 8, 6, 1, 1, 1, 1, 1, 1, 1, 1, 1, 1, 1, 1, 1, 1, 1, 1, 1, 1, 1, 1, 1], [2, 5, 3676, 15, 2940, 39, 67, 82, 8, 6, 1, 1, 1, 1, 1, 1, 1, 1, 1, 1, 1, 1, 1, 1, 1, 1, 1, 1, 1, 1, 1, 1, 1], [2, 5, 1406, 21, 362, 9, 80, 81, 82, 8, 6, 1, 1, 1, 1, 1, 1, 1, 1, 1, 1, 1, 1, 1, 1, 1, 1, 1, 1, 1, 1, 1, 1], [2, 5, 3693, 15, 3391, 83, 297, 137, 8, 6, 1, 1, 1, 1, 1, 1, 1, 1, 1, 1, 1, 1, 1, 1, 1, 1, 1, 1, 1, 1, 1, 1, 1], [2, 5, 879, 45, 1082, 127, 8, 6, 1, 1, 1, 1, 1, 1, 1, 1, 1, 1, 1, 1, 1, 1, 1, 1, 1, 1, 1, 1, 1, 1, 1, 1, 1], [2, 5, 3690, 833, 266, 22, 1535, 262, 208, 669, 8, 6, 1, 1, 1, 1, 1, 1, 1, 1, 1, 1, 1, 1, 1, 1, 1, 1, 1, 1, 1, 1, 1], [2, 5, 3690, 833, 23, 13, 62, 77, 8, 6, 1, 1, 1, 1, 1, 1, 1, 1, 1, 1, 1, 1, 1, 1, 1, 1, 1, 1, 1, 1, 1, 1, 1], [2, 5, 3693, 159, 1952, 7, 10, 6, 1, 1, 1, 1, 1, 1, 1, 1, 1, 1, 1, 1, 1, 1, 1, 1, 1, 1, 1, 1, 1, 1, 1, 1, 1], [2, 5, 1309, 99, 2037, 16, 1323, 225, 212, 17, 1986, 11, 11, 111, 6, 1, 1, 1, 1, 1, 1, 1, 1, 1, 1, 1, 1, 1, 1, 1, 1, 1, 1], [2, 5, 3676, 15, 2706, 430, 1027, 471, 195, 133, 8, 6, 1, 1, 1], [2, 5, 3693, 3305, 39, 7, 477, 544, 8, 6, 1, 1, 1, 1, 1], [2, 5, 3671, 625, 424, 42, 60, 349, 7, 10, 6, 1, 1, 1, 1], [2, 5, 3618, 142, 31, 722, 9, 113, 127, 17, 602, 8, 6, 1, 1], [2, 5, 1309, 99, 2037, 16, 1323, 225, 212, 17, 1986, 11, 11, 111, 6], [2, 5, 3675, 137, 82, 7, 10, 6, 1, 1, 1, 1, 1, 1, 1]]\n",
      "labels: [[5, 3676, 2863, 153, 665, 1880, 7, 10, 6, 3, 3, 3, 3, 3, 3, 3, 3, 3, 3, 3, 3, 3, 3, 3, 3, 3, 3, 3, 3, 3, 3, 3, 3, 3, 3, 3, 3, 3, 3, 3, 3, 3, 3, 3, 3, 3, 3, 3, 3, 3, 3, 3, 3, 3, 3, 3, 3, 3, 3, 3, 3, 3, 3, 3, 3, 3, 3], [5, 879, 103, 3388, 56, 521, 178, 160, 60, 8, 6, 3, 3, 3, 3, 3, 3, 3, 3, 3, 3, 3, 3, 3, 3, 3, 3, 3, 3, 3, 3, 3, 3, 3, 3, 3, 3, 3, 3, 3, 3, 3, 3, 3, 3, 3, 3, 3, 3, 3, 3, 3, 3, 3, 3, 3, 3, 3, 3, 3, 3, 3, 3, 3, 3, 3, 3], [5, 3679, 3292, 90, 14, 38, 81, 74, 1195, 60, 39, 17, 747, 153, 77, 28, 160, 20, 837, 8, 44, 1899, 35, 66, 9, 113, 71, 522, 1501, 444, 2065, 1824, 2088, 7, 11, 3417, 2089, 177, 1973, 9, 215, 1325, 71, 74, 20, 1445, 270, 17, 57, 743, 20, 896, 8, 6, 3, 3, 3, 3, 3, 3, 3, 3, 3, 3, 3, 3, 3], [5, 3235, 20, 22, 283, 166, 1142, 8, 6, 3, 3, 3, 3, 3, 3, 3, 3, 3, 3, 3, 3, 3, 3, 3, 3, 3, 3, 3, 3, 3, 3, 3, 3, 3, 3, 3, 3, 3, 3, 3, 3, 3, 3, 3, 3, 3, 3, 3, 3, 3, 3, 3, 3, 3, 3, 3, 3, 3, 3, 3, 3, 3, 3, 3, 3, 3, 3], [5, 3693, 3305, 39, 47, 178, 8, 6, 3, 3, 3, 3, 3, 3, 3, 3, 3, 3, 3, 3, 3, 3, 3, 3, 3, 3, 3, 3, 3, 3, 3, 3, 3, 3, 3, 3, 3, 3, 3, 3, 3, 3, 3, 3, 3, 3, 3, 3, 3, 3, 3, 3, 3, 3, 3, 3, 3, 3, 3, 3, 3, 3, 3, 3, 3, 3, 3], [5, 3679, 3292, 90, 281, 21, 1001, 530, 13, 281, 21, 497, 111, 568, 23, 80, 280, 655, 181, 1362, 1974, 497, 181, 1448, 8, 568, 23, 38, 17, 433, 280, 351, 17, 1362, 1974, 195, 2884, 216, 17, 291, 8, 6, 3, 3, 3, 3, 3, 3, 3, 3, 3, 3, 3, 3, 3, 3, 3, 3, 3, 3, 3, 3, 3, 3, 3, 3, 3], [5, 3669, 1112, 885, 13, 60, 8, 6, 3, 3, 3, 3, 3, 3, 3, 3, 3, 3, 3, 3, 3, 3, 3, 3, 3, 3, 3, 3, 3, 3, 3, 3, 3, 3, 3, 3, 3, 3, 3, 3, 3, 3, 3, 3, 3, 3, 3, 3, 3, 3, 3, 3, 3, 3, 3, 3, 3, 3, 3, 3, 3, 3, 3, 3, 3, 3, 3], [5, 3693, 444, 103, 1042, 147, 22, 2978, 1298, 113, 392, 8, 6, 3, 3, 3, 3, 3, 3, 3, 3, 3, 3, 3, 3, 3, 3, 3, 3, 3, 3, 3, 3, 3, 3, 3, 3, 3, 3, 3, 3, 3, 3, 3, 3, 3, 3, 3, 3, 3, 3, 3, 3, 3, 3, 3, 3, 3, 3, 3, 3, 3, 3, 3, 3, 3, 3], [5, 3682, 1973, 124, 90, 124, 13, 2871, 41, 83, 62, 667, 15, 313, 138, 77, 78, 376, 20, 2732, 341, 1051, 138, 17, 88, 914, 147, 165, 7, 21, 1127, 8, 980, 15, 1808, 19, 1905, 56, 392, 706, 1605, 58, 618, 8, 377, 654, 17, 244, 124, 38, 91, 565, 33, 1037, 13, 654, 17, 191, 3052, 1272, 143, 6, 3, 3, 3, 3, 3], [5, 3682, 937, 31, 1116, 73, 195, 414, 7, 10, 6, 3, 3, 3, 3, 3, 3, 3, 3, 3, 3, 3, 3, 3, 3, 3, 3, 3, 3, 3, 3, 3, 3, 3, 3, 3, 3, 3, 3, 3, 3, 3, 3, 3, 3, 3, 3, 3, 3, 3, 3, 3, 3, 3, 3, 3, 3, 3, 3, 3, 3, 3, 3, 3, 3, 3, 3], [5, 3679, 387, 283, 804, 478, 495, 13, 9, 1596, 50, 13, 9, 2508, 15, 111, 6, 3, 3, 3, 3, 3, 3, 3, 3, 3, 3, 3, 3, 3, 3, 3, 3, 3, 3, 3, 3, 3, 3, 3, 3, 3, 3, 3, 3, 3, 3, 3, 3, 3, 3, 3, 3, 3, 3, 3, 3, 3, 3, 3, 3, 3, 3, 3, 3, 3, 3], [5, 3676, 2506, 80, 689, 8, 6, 3, 3, 3, 3, 3, 3, 3, 3, 3, 3, 3, 3, 3, 3, 3, 3, 3, 3, 3, 3, 3, 3, 3, 3, 3, 3, 3, 3, 3, 3, 3, 3, 3, 3, 3, 3, 3, 3, 3, 3, 3, 3, 3, 3, 3, 3, 3, 3, 3, 3, 3, 3, 3, 3, 3, 3, 3, 3, 3, 3], [5, 3333, 2959, 132, 7, 10, 6, 3, 3, 3, 3, 3, 3, 3, 3, 3, 3, 3, 3, 3, 3, 3, 3, 3, 3, 3, 3, 3, 3, 3, 3, 3, 3, 3, 3, 3, 3, 3, 3, 3, 3, 3, 3, 3, 3, 3, 3, 3, 3, 3, 3, 3, 3, 3, 3, 3, 3, 3, 3, 3, 3, 3, 3, 3, 3, 3, 3], [5, 3676, 16, 1553, 58, 1517, 19, 7, 1285, 67, 26, 8, 6, 3, 3, 3, 3, 3, 3, 3, 3, 3, 3, 3, 3, 3, 3, 3, 3, 3, 3, 3, 3, 3, 3, 3, 3, 3, 3, 3, 3, 3, 3, 3, 3, 3, 3, 3, 3, 3, 3, 3, 3, 3, 3, 3, 3, 3, 3, 3, 3, 3, 3, 3, 3, 3, 3], [5, 3682, 3629, 21, 529, 8, 6, 3, 3, 3, 3, 3, 3, 3, 3, 3, 3, 3, 3, 3, 3, 3, 3, 3, 3, 3, 3, 3, 3, 3, 3, 3, 3, 3, 3, 3, 3, 3, 3, 3, 3, 3, 3, 3, 3, 3, 3, 3, 3, 3, 3, 3, 3, 3, 3, 3, 3, 3, 3, 3, 3, 3, 3, 3, 3, 3, 3], [5, 3618, 19, 1644, 19, 58, 26, 8, 6, 3, 3, 3, 3, 3, 3, 3, 3, 3, 3, 3, 3, 3, 3, 3, 3, 3, 3, 3, 3, 3, 3, 3, 3, 3, 3, 3, 3, 3, 3, 3, 3, 3, 3, 3, 3, 3, 3, 3, 3, 3, 3, 3, 3, 3, 3, 3, 3, 3, 3, 3, 3, 3, 3, 3, 3, 3, 3], [5, 3675, 19, 13, 522, 90, 771, 15, 7, 10, 6, 3, 3, 3, 3, 3, 3, 3, 3, 3, 3, 3, 3, 3, 3, 3, 3, 3, 3, 3, 3, 3, 3, 3, 3, 3, 3, 3, 3, 3, 3, 3, 3, 3, 3, 3, 3, 3, 3, 3, 3, 3, 3, 3, 3, 3, 3, 3, 3, 3, 3, 3, 3, 3, 3, 3, 3], [5, 1575, 1626, 215, 732, 228, 79, 7, 10, 6, 3, 3, 3, 3, 3, 3, 3, 3, 3, 3, 3, 3, 3, 3, 3, 3, 3, 3, 3, 3, 3, 3, 3, 3, 3, 3, 3, 3, 3, 3, 3, 3, 3, 3, 3, 3, 3, 3, 3, 3, 3, 3, 3, 3, 3, 3, 3, 3, 3, 3, 3, 3, 3, 3, 3, 3, 3], [5, 1575, 2737, 16, 153, 159, 7, 10, 6, 3, 3, 3, 3, 3, 3, 3, 3, 3, 3, 3, 3, 3, 3, 3, 3, 3, 3, 3, 3, 3, 3, 3, 3, 3, 3, 3, 3, 3, 3, 3, 3, 3, 3, 3, 3, 3, 3, 3, 3, 3, 3, 3, 3, 3, 3, 3, 3, 3, 3, 3, 3, 3, 3, 3, 3, 3, 3], [5, 3678, 16, 16, 127, 213, 239, 8, 6, 3, 3, 3, 3, 3, 3, 3, 3, 3, 3, 3, 3, 3, 3, 3, 3, 3, 3, 3, 3, 3, 3, 3, 3, 3, 3, 3, 3, 3, 3, 3, 3, 3, 3, 3, 3, 3, 3, 3, 3, 3, 3, 3, 3, 3, 3, 3, 3, 3, 3, 3, 3, 3, 3, 3, 3, 3, 3], [5, 3676, 15, 3030, 56, 1194, 628, 6, 3, 3, 3, 3, 3, 3, 3, 3, 3, 3, 3, 3, 3, 3, 3, 3, 3, 3, 3, 3, 3, 3, 3, 3, 3, 3, 3, 3, 3, 3, 3, 3, 3, 3, 3, 3, 3, 3, 3, 3, 3, 3, 3, 3, 3, 3, 3, 3, 3, 3, 3, 3, 3, 3, 3, 3, 3, 3, 3], [5, 1406, 21, 107, 25, 120, 526, 52, 481, 8, 6, 3, 3, 3, 3, 3, 3, 3, 3, 3, 3, 3, 3, 3, 3, 3, 3, 3, 3, 3, 3, 3, 3, 3, 3, 3, 3, 3, 3, 3, 3, 3, 3, 3, 3, 3, 3, 3, 3, 3, 3, 3, 3, 3, 3, 3, 3, 3, 3, 3, 3, 3, 3, 3, 3, 3, 3], [5, 3333, 1604, 109, 736, 607, 13, 7, 427, 736, 607, 117, 77, 1585, 28, 62, 71, 17, 20, 60, 859, 23, 3108, 103, 56, 73, 281, 21, 241, 8, 1063, 607, 57, 482, 111, 1063, 607, 66, 376, 74, 20, 550, 58, 7, 11, 3114, 896, 9, 58, 115, 1710, 902, 534, 16, 1256, 77, 1585, 28, 83, 126, 376, 74, 20, 1210, 8, 6, 3], [5, 3229, 349, 2765, 6, 3, 3, 3, 3, 3, 3, 3, 3, 3, 3, 3, 3, 3, 3, 3, 3, 3, 3, 3, 3, 3, 3, 3, 3, 3, 3, 3, 3, 3, 3, 3, 3, 3, 3, 3, 3, 3, 3, 3, 3, 3, 3, 3, 3, 3, 3, 3, 3, 3, 3, 3, 3, 3, 3, 3, 3, 3, 3, 3, 3, 3, 3], [5, 3676, 15, 99, 294, 8, 6, 3, 3, 3, 3, 3, 3, 3, 3, 3, 3, 3, 3, 3, 3, 3, 3, 3, 3, 3, 3, 3, 3, 3, 3, 3, 3, 3, 3, 3, 3, 3, 3, 3, 3, 3, 3, 3, 3, 3, 3, 3, 3, 3, 3, 3, 3, 3, 3, 3, 3, 3, 3, 3, 3, 3, 3, 3, 3, 3, 3], [5, 1309, 1045, 1274, 129, 41, 124, 9, 91, 856, 56, 62, 856, 77, 147, 7, 11, 351, 1021, 8, 6, 3, 3, 3, 3, 3, 3, 3, 3, 3, 3, 3, 3, 3, 3, 3, 3, 3, 3, 3, 3, 3, 3, 3, 3, 3, 3, 3, 3, 3, 3, 3, 3, 3, 3, 3, 3, 3, 3, 3, 3, 3, 3, 3, 3, 3, 3], [5, 3676, 15, 2506, 473, 8, 6, 3, 3, 3, 3, 3, 3, 3, 3, 3, 3, 3, 3, 3, 3, 3, 3, 3, 3, 3, 3, 3, 3, 3, 3, 3, 3, 3, 3, 3, 3, 3, 3, 3, 3, 3, 3, 3, 3, 3, 3, 3, 3, 3, 3, 3, 3, 3, 3, 3, 3, 3, 3, 3, 3, 3, 3, 3, 3, 3, 3], [5, 3669, 26, 22, 8, 6, 3, 3, 3, 3, 3, 3, 3, 3, 3, 3, 3, 3, 3, 3, 3, 3, 3, 3, 3, 3, 3, 3, 3, 3, 3, 3, 3, 3, 3, 3, 3, 3, 3, 3, 3, 3, 3, 3, 3, 3, 3, 3, 3, 3, 3, 3, 3, 3, 3, 3, 3, 3, 3, 3, 3, 3, 3, 3, 3, 3, 3], [5, 3675, 19, 128, 90, 771, 15, 7, 10, 6, 3, 3, 3, 3, 3, 3, 3, 3, 3, 3, 3, 3, 3, 3, 3, 3, 3, 3, 3, 3, 3, 3, 3, 3, 3, 3, 3, 3, 3, 3, 3, 3, 3, 3, 3, 3, 3, 3, 3, 3, 3, 3, 3, 3, 3, 3, 3, 3, 3, 3, 3, 3, 3, 3, 3, 3, 3], [5, 1546, 156, 3363, 42, 129, 8, 6, 3, 3, 3, 3, 3, 3, 3, 3, 3, 3, 3, 3, 3, 3, 3, 3, 3, 3, 3, 3, 3, 3, 3, 3, 3, 3, 3, 3, 3, 3, 3, 3, 3, 3, 3, 3, 3, 3, 3, 3, 3, 3, 3, 3, 3, 3, 3, 3, 3, 3, 3, 3, 3, 3, 3, 3, 3, 3, 3], [5, 3676, 2506, 275, 8, 6, 3, 3, 3, 3, 3, 3, 3, 3, 3, 3, 3, 3, 3, 3, 3, 3, 3, 3, 3, 3, 3, 3, 3, 3, 3, 3, 3, 3, 3, 3, 3, 3, 3, 3, 3, 3, 3, 3, 3, 3, 3, 3, 3, 3, 3, 3, 3, 3, 3, 3, 3, 3, 3, 3, 3, 3, 3, 3, 3, 3, 3], [5, 3229, 39, 195, 133, 82, 8, 6, 3, 3, 3, 3, 3, 3, 3, 3, 3, 3, 3, 3, 3, 3, 3, 3, 3, 3, 3, 3, 3, 3, 3, 3, 3, 3, 3, 3, 3, 3, 3, 3, 3, 3, 3, 3, 3, 3, 3, 3, 3, 3, 3, 3, 3, 3, 3, 3, 3, 3, 3, 3, 3, 3, 3, 3, 3, 3, 3], [5, 3676, 16, 3343, 223, 1297, 346, 523, 62, 1911, 3380, 473, 15, 77, 142, 28, 378, 78, 1458, 3499, 28, 378, 74, 41, 7, 2519, 210, 2519, 8, 6, 3, 3, 3, 3, 3, 3, 3, 3, 3, 3, 3, 3, 3, 3, 3, 3, 3, 3, 3, 3, 3, 3, 3, 3, 3, 3, 3, 3, 3, 3, 3, 3, 3, 3, 3, 3, 3], [5, 3333, 1604, 481, 530, 57, 1393, 13, 1536, 1828, 57, 1393, 362, 153, 20, 481, 96, 62, 946, 13, 604, 964, 338, 742, 71, 400, 38, 216, 1210, 1393, 8, 1393, 66, 17, 825, 13, 1034, 9, 109, 245, 13, 17, 825, 8, 6, 3, 3, 3, 3, 3, 3, 3, 3, 3, 3, 3, 3, 3, 3, 3, 3, 3, 3, 3, 3, 3, 3], [5, 3229, 42, 139, 90, 129, 7, 10, 6, 3, 3, 3, 3, 3, 3, 3, 3, 3, 3, 3, 3, 3, 3, 3, 3, 3, 3, 3, 3, 3, 3, 3, 3, 3, 3, 3, 3, 3, 3, 3, 3, 3, 3, 3, 3, 3, 3, 3, 3, 3, 3, 3, 3, 3, 3, 3, 3, 3, 3, 3, 3, 3, 3, 3, 3, 3, 3], [5, 3678, 3305, 213, 682, 172, 8, 6, 3, 3, 3, 3, 3, 3, 3, 3, 3, 3, 3, 3, 3, 3, 3, 3, 3, 3, 3, 3, 3, 3, 3, 3, 3, 3, 3, 3, 3, 3, 3, 3, 3, 3, 3, 3, 3, 3, 3, 3, 3, 3, 3, 3, 3, 3, 3, 3, 3, 3, 3, 3, 3, 3, 3, 3, 3, 3, 3], [5, 1219, 137, 135, 13, 97, 35, 400, 7, 10, 6, 3, 3, 3, 3, 3, 3, 3, 3, 3, 3, 3, 3, 3, 3, 3, 3, 3, 3, 3, 3, 3, 3, 3, 3, 3, 3, 3, 3, 3, 3, 3, 3, 3, 3, 3, 3, 3, 3, 3, 3, 3, 3, 3, 3, 3, 3, 3, 3, 3, 3, 3, 3, 3, 3, 3, 3], [5, 3679, 3292, 90, 62, 81, 599, 109, 162, 13, 9, 47, 22, 497, 57, 181, 88, 73, 100, 1362, 1974, 497, 181, 1448, 57, 171, 9, 2248, 80, 47, 22, 47, 22, 758, 57, 584, 152, 56, 38, 47, 22, 281, 21, 54, 50, 1924, 126, 71, 17, 433, 8, 6, 3, 3, 3, 3, 3, 3, 3, 3, 3, 3, 3, 3, 3, 3, 3], [5, 879, 45, 35, 195, 77, 19, 74, 8, 6, 3, 3, 3, 3, 3, 3, 3, 3, 3, 3, 3, 3, 3, 3, 3, 3, 3, 3, 3, 3, 3, 3, 3, 3, 3, 3, 3, 3, 3, 3, 3, 3, 3, 3, 3, 3, 3, 3, 3, 3, 3, 3, 3, 3, 3, 3, 3, 3, 3, 3, 3, 3, 3, 3, 3, 3, 3], [5, 3235, 174, 26, 8, 6, 3, 3, 3, 3, 3, 3, 3, 3, 3, 3, 3, 3, 3, 3, 3, 3, 3, 3, 3, 3, 3, 3, 3, 3, 3, 3, 3, 3, 3, 3, 3, 3, 3, 3, 3, 3, 3, 3, 3, 3, 3, 3, 3, 3, 3, 3, 3, 3, 3, 3, 3, 3, 3, 3, 3, 3, 3, 3, 3, 3, 3], [5, 3229, 39, 1249, 16, 247, 628, 6, 3, 3, 3, 3, 3, 3, 3, 3, 3, 3, 3, 3, 3, 3, 3, 3, 3, 3, 3, 3, 3, 3, 3, 3, 3, 3, 3, 3, 3, 3, 3, 3, 3, 3, 3, 3, 3, 3, 3, 3, 3, 3, 3, 3, 3, 3, 3, 3, 3, 3, 3, 3, 3, 3, 3, 3, 3, 3, 3], [5, 1309, 372, 902, 113, 42, 67, 20, 558, 7, 10, 6, 3, 3, 3, 3, 3, 3, 3, 3, 3, 3, 3, 3, 3, 3, 3, 3, 3, 3, 3, 3, 3, 3, 3, 3, 3, 3, 3, 3, 3, 3, 3, 3, 3, 3, 3, 3, 3, 3, 3, 3, 3, 3, 3, 3, 3, 3, 3, 3, 3, 3, 3, 3, 3, 3, 3], [5, 3669, 1765, 8, 6, 3, 3, 3, 3, 3, 3, 3, 3, 3, 3, 3, 3, 3, 3, 3, 3, 3, 3, 3, 3, 3, 3, 3, 3, 3, 3, 3, 3, 3, 3, 3, 3, 3, 3, 3, 3, 3, 3, 3, 3, 3, 3, 3, 3, 3, 3, 3, 3, 3, 3, 3, 3, 3, 3, 3, 3, 3, 3, 3, 3, 3, 3], [5, 3676, 15, 2940, 39, 113, 127, 20, 82, 8, 6, 3, 3, 3, 3, 3, 3, 3, 3, 3, 3, 3, 3, 3, 3, 3, 3, 3, 3, 3, 3, 3, 3, 3, 3, 3, 3, 3, 3, 3, 3, 3, 3, 3, 3, 3, 3, 3, 3, 3, 3, 3, 3, 3, 3, 3, 3, 3, 3, 3, 3, 3, 3, 3, 3, 3, 3], [5, 3333, 992, 133, 345, 22, 2297, 8, 6, 3, 3, 3, 3, 3, 3, 3, 3, 3, 3, 3, 3, 3, 3, 3, 3, 3, 3, 3, 3, 3, 3, 3, 3, 3, 3, 3, 3, 3, 3, 3, 3, 3, 3, 3, 3, 3, 3, 3, 3, 3, 3, 3, 3, 3, 3, 3, 3, 3, 3, 3, 3, 3, 3, 3, 3, 3, 3], [5, 1575, 515, 236, 72, 73, 2142, 145, 72, 762, 376, 82, 8, 6, 3, 3, 3, 3, 3, 3, 3, 3, 3, 3, 3, 3, 3, 3, 3, 3, 3, 3, 3, 3, 3, 3, 3, 3, 3, 3, 3, 3, 3, 3, 3, 3, 3, 3, 3, 3, 3, 3, 3, 3, 3, 3, 3, 3, 3, 3, 3, 3, 3, 3, 3, 3, 3], [5, 3678, 3305, 490, 13, 79, 7, 10, 6, 3, 3, 3, 3, 3, 3, 3, 3, 3, 3, 3, 3, 3, 3, 3, 3, 3, 3, 3, 3, 3, 3, 3, 3, 3, 3, 3, 3, 3, 3, 3, 3, 3, 3, 3, 3, 3, 3, 3, 3, 3, 3, 3, 3, 3, 3, 3, 3, 3, 3, 3, 3, 3, 3, 3, 3, 3, 3], [5, 3679, 3292, 90, 14, 124, 13, 117, 77, 28, 109, 366, 13, 117, 77, 28, 57, 47, 91, 171, 13, 47, 41, 611, 8, 659, 808, 72, 373, 565, 33, 47, 470, 611, 70, 88, 17, 1459, 308, 77, 28, 70, 171, 111, 659, 808, 72, 464, 13, 9, 47, 22, 464, 80, 277, 47, 611, 261, 8, 6, 3, 3, 3, 3, 3, 3, 3], [5, 3692, 211, 2040, 521, 83, 8, 6, 3, 3, 3, 3, 3, 3, 3, 3, 3, 3, 3, 3, 3, 3, 3, 3, 3, 3, 3, 3, 3, 3, 3, 3, 3, 3, 3, 3, 3, 3, 3, 3, 3, 3, 3, 3, 3, 3, 3, 3, 3, 3, 3, 3, 3, 3, 3, 3, 3, 3, 3, 3, 3, 3, 3, 3, 3, 3, 3], [5, 3682, 477, 318, 84, 8, 6, 3, 3, 3, 3, 3, 3, 3, 3, 3, 3, 3, 3, 3, 3, 3, 3, 3, 3, 3, 3, 3, 3, 3, 3, 3, 3, 3, 3, 3, 3, 3, 3, 3, 3, 3, 3, 3, 3, 3, 3, 3, 3, 3, 3, 3, 3, 3, 3, 3, 3, 3, 3, 3, 3, 3, 3, 3, 3, 3, 3], [5, 8, 8, 8, 191, 641, 8, 6, 3, 3, 3, 3, 3, 3, 3, 3, 3, 3, 3, 3, 3, 3, 3, 3, 3, 3, 3, 3, 3, 3, 3, 3, 3, 3, 3, 3, 3, 3, 3, 3, 3, 3, 3, 3, 3, 3, 3, 3, 3, 3, 3, 3, 3, 3, 3, 3, 3, 3, 3, 3, 3, 3, 3, 3, 3, 3, 3], [5, 3682, 937, 19, 111, 6, 3, 3, 3, 3, 3, 3, 3, 3, 3, 3, 3, 3, 3, 3, 3, 3, 3, 3, 3, 3, 3, 3, 3, 3, 3, 3, 3, 3, 3, 3, 3, 3, 3, 3, 3, 3, 3, 3, 3, 3, 3, 3, 3, 3, 3, 3, 3, 3, 3, 3, 3, 3, 3, 3, 3, 3, 3, 3, 3, 3, 3], [5, 3693, 19, 26, 142, 8, 6, 3, 3, 3, 3, 3, 3, 3, 3, 3, 3, 3, 3, 3, 3, 3, 3, 3, 3, 3, 3, 3, 3, 3, 3, 3, 3, 3, 3, 3, 3, 3, 3, 3, 3, 3, 3, 3, 3, 3, 3, 3, 3, 3, 3, 3, 3, 3, 3, 3, 3, 3, 3, 3, 3, 3, 3, 3, 3, 3, 3], [5, 3333, 992, 133, 46, 211, 22, 2221, 8, 6, 3, 3, 3, 3, 3, 3, 3, 3, 3, 3, 3, 3, 3, 3, 3, 3, 3, 3, 3, 3, 3, 3, 3, 3, 3, 3, 3, 3, 3, 3, 3, 3, 3, 3, 3, 3, 3, 3, 3, 3, 3, 3, 3, 3, 3, 3, 3, 3, 3, 3, 3, 3, 3, 3, 3, 3, 3], [5, 3675, 239, 1251, 26, 22, 8, 6, 3, 3, 3, 3, 3, 3, 3, 3, 3, 3, 3, 3, 3, 3, 3, 3, 3, 3, 3, 3, 3, 3, 3, 3, 3, 3, 3, 3, 3, 3, 3, 3, 3, 3, 3, 3, 3, 3, 3, 3, 3, 3, 3, 3, 3, 3, 3, 3, 3, 3, 3, 3, 3, 3, 3, 3, 3, 3, 3], [5, 3673, 159, 39, 139, 38, 8, 6, 3, 3, 3, 3, 3, 3, 3, 3, 3, 3, 3, 3, 3, 3, 3, 3, 3, 3, 3, 3, 3, 3, 3, 3, 3, 3, 3, 3, 3, 3, 3, 3, 3, 3, 3, 3, 3, 3, 3, 3, 3, 3, 3, 3, 3, 3, 3, 3, 3, 3, 3, 3, 3, 3, 3, 3, 3, 3, 3], [5, 3676, 15, 1794, 80, 603, 8, 6, 3, 3, 3, 3, 3, 3, 3, 3, 3, 3, 3, 3, 3, 3, 3, 3, 3, 3, 3, 3, 3, 3, 3, 3, 3, 3, 3, 3, 3, 3, 3, 3, 3, 3, 3, 3, 3, 3, 3, 3, 3, 3, 3, 3, 3, 3, 3, 3, 3, 3, 3, 3, 3, 3, 3, 3, 3, 3, 3], [5, 3235, 613, 135, 275, 9, 22, 153, 132, 7, 10, 6, 3, 3, 3, 3, 3, 3, 3, 3, 3, 3, 3, 3, 3, 3, 3, 3, 3, 3, 3, 3, 3, 3, 3, 3, 3, 3, 3, 3, 3, 3, 3, 3, 3, 3, 3, 3, 3, 3, 3, 3, 3, 3, 3, 3, 3, 3, 3, 3, 3, 3, 3, 3, 3, 3, 3], [5, 3229, 42, 139, 90, 7, 10, 6, 3, 3, 3, 3, 3, 3, 3, 3, 3, 3, 3, 3, 3, 3, 3, 3, 3, 3, 3, 3, 3, 3, 3, 3, 3, 3, 3, 3, 3, 3, 3, 3, 3, 3, 3, 3, 3, 3, 3, 3, 3, 3, 3, 3, 3, 3, 3, 3, 3, 3, 3, 3, 3, 3, 3, 3, 3, 3, 3], [5, 3692, 211, 2040, 769, 83, 8, 6, 3, 3, 3, 3, 3, 3, 3, 3, 3, 3, 3, 3, 3, 3, 3, 3, 3, 3, 3, 3, 3, 3, 3, 3, 3, 3, 3, 3, 3, 3, 3, 3, 3, 3, 3, 3, 3, 3, 3, 3, 3, 3, 3, 3, 3, 3, 3, 3, 3, 3, 3, 3, 3, 3, 3, 3, 3, 3, 3], [5, 3683, 236, 495, 26, 7, 10, 6, 3, 3, 3, 3, 3, 3, 3, 3, 3, 3, 3, 3, 3, 3, 3, 3, 3, 3, 3, 3, 3, 3, 3, 3, 3, 3, 3, 3, 3, 3, 3, 3, 3, 3, 3, 3, 3, 3, 3, 3, 3, 3, 3, 3, 3, 3, 3, 3, 3, 3, 3, 3, 3, 3, 3, 3, 3, 3, 3], [5, 879, 45, 35, 128, 22, 42, 82, 8, 6, 3, 3, 3, 3, 3, 3, 3, 3, 3, 3, 3, 3, 3, 3, 3, 3, 3, 3, 3, 3, 3, 3, 3, 3, 3, 3, 3, 3, 3, 3, 3, 3, 3, 3, 3, 3, 3, 3, 3, 3, 3, 3, 3, 3, 3, 3, 3, 3, 3, 3, 3, 3, 3, 3, 3, 3, 3], [5, 3676, 16, 3343, 58, 26, 8, 6, 3, 3, 3, 3, 3, 3, 3, 3, 3, 3, 3, 3, 3, 3, 3, 3, 3, 3, 3, 3, 3, 3, 3, 3, 3, 3, 3, 3, 3, 3, 3, 3, 3, 3, 3, 3, 3, 3, 3, 3, 3, 3, 3, 3, 3, 3, 3, 3, 3, 3, 3, 3, 3, 3, 3, 3, 3, 3, 3], [5, 3679, 3292, 19, 1280, 1999, 73, 648, 288, 71, 17, 20, 60, 109, 100, 2179, 31, 117, 77, 28, 175, 38, 190, 1014, 8, 357, 16, 134, 78, 135, 153, 20, 1224, 190, 584, 307, 71, 88, 17, 736, 570, 57, 171, 914, 8, 6, 3, 3, 3, 3, 3, 3, 3, 3, 3, 3, 3, 3, 3, 3, 3, 3, 3, 3, 3, 3, 3], [5, 879, 45, 35, 26, 8, 6, 3, 3, 3, 3, 3, 3, 3, 3, 3, 3, 3, 3, 3, 3, 3, 3, 3, 3, 3, 3, 3, 3, 3, 3, 3, 3, 3, 3, 3, 3, 3, 3, 3, 3, 3, 3, 3, 3, 3, 3, 3, 3, 3, 3, 3, 3, 3, 3, 3, 3, 3, 3, 3, 3, 3, 3, 3, 3, 3, 3], [5, 3618, 21, 614, 26, 22, 8, 6, 3, 3, 3, 3, 3, 3, 3, 3, 3, 3, 3, 3, 3, 3, 3, 3, 3, 3, 3, 3, 3, 3, 3, 3, 3, 3, 3, 3, 3, 3, 3, 3, 3, 3, 3, 3, 3, 3, 3, 3, 3, 3, 3, 3, 3, 3, 3, 3, 3, 3, 3, 3, 3, 3, 3, 3, 3, 3, 3], [5, 3229, 42, 973, 84, 490, 7, 10, 6, 3, 3, 3, 3, 3, 3, 3, 3, 3, 3, 3, 3, 3, 3, 3, 3, 3, 3, 3, 3, 3, 3, 3, 3, 3, 3, 3, 3, 3, 3, 3, 3, 3, 3, 3, 3, 3, 3, 3, 3, 3, 3, 3, 3, 3, 3, 3, 3, 3, 3, 3, 3, 3, 3, 3, 3, 3, 3], [5, 879, 45, 7, 19, 332, 1618, 73, 317, 145, 372, 8, 6, 3, 3, 3, 3, 3, 3, 3, 3, 3, 3, 3, 3, 3, 3, 3, 3, 3, 3, 3, 3, 3, 3, 3, 3, 3, 3, 3, 3, 3, 3, 3, 3, 3, 3, 3, 3, 3, 3, 3, 3, 3, 3, 3, 3, 3, 3, 3, 3, 3, 3, 3, 3, 3, 3], [5, 3678, 515, 372, 1701, 172, 8, 6, 3, 3, 3, 3, 3, 3, 3, 3, 3, 3, 3, 3, 3, 3, 3, 3, 3, 3, 3, 3, 3, 3, 3, 3, 3, 3, 3, 3, 3, 3, 3, 3, 3, 3, 3, 3, 3, 3, 3, 3, 3, 3, 3, 3, 3, 3, 3, 3, 3, 3, 3, 3, 3, 3, 3, 3, 3, 3, 3], [5, 3693, 16, 1629, 553, 228, 58, 452, 208, 58, 3205, 2910, 3410, 8, 6, 3, 3, 3, 3, 3, 3, 3, 3, 3, 3, 3, 3, 3, 3, 3, 3, 3, 3, 3, 3, 3, 3, 3, 3, 3, 3, 3, 3, 3, 3, 3, 3, 3, 3, 3, 3, 3, 3, 3, 3, 3, 3, 3, 3, 3, 3, 3, 3, 3, 3, 3, 3], [5, 3682, 16, 16, 804, 208, 283, 1101, 465, 67, 378, 100, 8, 6, 3, 3, 3, 3, 3, 3, 3, 3, 3, 3, 3, 3, 3, 3, 3, 3, 3, 3, 3, 3, 3, 3, 3, 3, 3, 3, 3, 3, 3, 3, 3, 3, 3, 3, 3, 3, 3, 3, 3, 3, 3, 3, 3, 3, 3, 3, 3, 3, 3, 3, 3, 3, 3], [5, 1406, 21, 445, 430, 72, 208, 17, 303, 678, 115, 9, 208, 17, 2131, 617, 2706, 16, 628, 6, 3, 3, 3, 3, 3, 3, 3, 3, 3, 3, 3, 3, 3, 3, 3, 3, 3, 3, 3, 3, 3, 3, 3, 3, 3, 3, 3, 3, 3, 3, 3, 3, 3, 3, 3, 3, 3, 3, 3, 3, 3, 3, 3, 3, 3, 3, 3], [5, 1219, 19, 52, 432, 7, 10, 6, 3, 3, 3, 3, 3, 3, 3, 3, 3, 3, 3, 3, 3, 3, 3, 3, 3, 3, 3, 3, 3, 3, 3, 3, 3, 3, 3, 3, 3, 3, 3, 3, 3, 3, 3, 3, 3, 3, 3, 3, 3, 3, 3, 3, 3, 3, 3, 3, 3, 3, 3, 3, 3, 3, 3, 3, 3, 3, 3], [5, 3333, 289, 54, 1820, 22, 8, 6, 3, 3, 3, 3, 3, 3, 3, 3, 3, 3, 3, 3, 3, 3, 3, 3, 3, 3, 3, 3, 3, 3, 3, 3, 3, 3, 3, 3, 3, 3, 3, 3, 3, 3, 3, 3, 3, 3, 3, 3, 3, 3, 3, 3, 3, 3, 3, 3, 3, 3, 3, 3, 3, 3, 3, 3, 3, 3, 3], [5, 3671, 137, 466, 341, 191, 128, 8, 6, 3, 3, 3, 3, 3, 3, 3, 3, 3, 3, 3, 3, 3, 3, 3, 3, 3, 3, 3, 3, 3, 3, 3, 3, 3, 3, 3, 3, 3, 3, 3, 3, 3, 3, 3, 3, 3, 3, 3, 3, 3, 3, 3, 3, 3, 3, 3, 3, 3, 3, 3, 3, 3, 3, 3, 3, 3, 3], [5, 3678, 16, 16, 851, 957, 19, 2251, 653, 8, 6, 3, 3, 3, 3, 3, 3, 3, 3, 3, 3, 3, 3, 3, 3, 3, 3, 3, 3, 3, 3, 3, 3, 3, 3, 3, 3, 3, 3, 3, 3, 3, 3, 3, 3, 3, 3, 3, 3, 3, 3, 3, 3, 3, 3, 3, 3, 3, 3, 3, 3, 3, 3, 3, 3, 3, 3], [5, 1219, 239, 79, 7, 10, 6, 3, 3, 3, 3, 3, 3, 3, 3, 3, 3, 3, 3, 3, 3, 3, 3, 3, 3, 3, 3, 3, 3, 3, 3, 3, 3, 3, 3, 3, 3, 3, 3, 3, 3, 3, 3, 3, 3, 3, 3, 3, 3, 3, 3, 3, 3, 3, 3, 3, 3, 3, 3, 3, 3, 3, 3, 3, 3, 3, 3], [5, 3669, 1547, 8, 6, 3, 3, 3, 3, 3, 3, 3, 3, 3, 3, 3, 3, 3, 3, 3, 3, 3, 3, 3, 3, 3, 3, 3, 3, 3, 3, 3, 3, 3, 3, 3, 3, 3, 3, 3, 3, 3, 3, 3, 3, 3, 3, 3, 3, 3, 3, 3, 3, 3, 3, 3, 3, 3, 3, 3, 3, 3, 3, 3, 3, 3, 3], [5, 3673, 465, 72, 84, 1806, 1295, 8, 6, 3, 3, 3, 3, 3, 3, 3, 3, 3, 3, 3, 3, 3, 3, 3, 3, 3, 3, 3, 3, 3, 3, 3, 3, 3, 3, 3, 3, 3, 3, 3, 3, 3, 3, 3, 3, 3, 3, 3, 3, 3, 3, 3, 3, 3, 3, 3, 3, 3, 3, 3, 3, 3, 3, 3, 3, 3, 3], [5, 1575, 430, 430, 179, 289, 8, 6, 3, 3, 3, 3, 3, 3, 3, 3, 3, 3, 3, 3, 3, 3, 3, 3, 3, 3, 3, 3, 3, 3, 3, 3, 3, 3, 3, 3, 3, 3, 3, 3, 3, 3, 3, 3, 3, 3, 3, 3, 3, 3, 3, 3, 3, 3, 3, 3, 3, 3, 3, 3, 3, 3, 3, 3, 3, 3, 3], [5, 3618, 137, 83, 191, 128, 8, 6, 3, 3, 3, 3, 3, 3, 3, 3, 3, 3, 3, 3, 3, 3, 3, 3, 3, 3, 3, 3, 3, 3, 3, 3, 3, 3, 3, 3, 3, 3, 3, 3, 3, 3, 3, 3, 3, 3, 3, 3, 3, 3, 3, 3, 3, 3, 3, 3, 3, 3, 3, 3, 3, 3, 3, 3, 3, 3, 3], [5, 3673, 159, 39, 83, 126, 423, 1692, 23, 8, 6, 3, 3, 3, 3, 3, 3, 3, 3, 3, 3, 3, 3, 3, 3, 3, 3, 3, 3, 3, 3, 3, 3, 3, 3, 3, 3, 3, 3, 3, 3, 3, 3, 3, 3, 3, 3, 3, 3, 3, 3, 3, 3, 3, 3, 3, 3, 3, 3, 3, 3, 3, 3, 3, 3, 3, 3], [5, 3675, 137, 133, 13, 9, 619, 39, 8, 6, 3, 3, 3, 3, 3, 3, 3, 3, 3, 3, 3, 3, 3, 3, 3, 3, 3, 3, 3, 3, 3, 3, 3, 3, 3, 3, 3, 3, 3, 3, 3, 3, 3, 3, 3, 3, 3, 3, 3, 3, 3, 3, 3, 3, 3, 3, 3, 3, 3, 3, 3, 3, 3, 3, 3, 3, 3], [5, 3676, 16, 3343, 58, 83, 19, 669, 8, 6, 3, 3, 3, 3, 3, 3, 3, 3, 3, 3, 3, 3, 3, 3, 3, 3, 3, 3, 3, 3, 3, 3, 3, 3, 3, 3, 3, 3, 3, 3, 3, 3, 3, 3, 3, 3, 3, 3, 3, 3, 3, 3, 3, 3, 3, 3, 3, 3, 3, 3, 3, 3, 3, 3, 3, 3, 3], [5, 3676, 16, 857, 60, 414, 7, 10, 6, 3, 3, 3, 3, 3, 3, 3, 3, 3, 3, 3, 3, 3, 3, 3, 3, 3, 3, 3, 3, 3, 3, 3, 3, 3, 3, 3, 3, 3, 3, 3, 3, 3, 3, 3, 3, 3, 3, 3, 3, 3, 3, 3, 3, 3, 3, 3, 3, 3, 3, 3, 3, 3, 3, 3, 3, 3, 3], [5, 879, 45, 35, 529, 22, 248, 199, 113, 127, 135, 8, 6, 3, 3, 3, 3, 3, 3, 3, 3, 3, 3, 3, 3, 3, 3, 3, 3, 3, 3, 3, 3, 3, 3, 3, 3, 3, 3, 3, 3, 3, 3, 3, 3, 3, 3, 3, 3, 3, 3, 3, 3, 3, 3, 3, 3, 3, 3, 3, 3, 3, 3, 3, 3, 3, 3], [5, 3676, 3345, 8, 6, 3, 3, 3, 3, 3, 3, 3, 3, 3, 3, 3, 3, 3, 3, 3, 3, 3, 3, 3, 3, 3, 3, 3, 3, 3, 3, 3, 3, 3, 3, 3, 3, 3, 3, 3, 3, 3, 3, 3, 3, 3, 3, 3, 3, 3, 3, 3, 3, 3, 3, 3, 3, 3, 3, 3, 3, 3, 3, 3, 3, 3, 3], [5, 3682, 16, 16, 245, 9, 17, 823, 447, 88, 8, 2489, 15, 91, 171, 245, 26, 530, 19, 67, 19, 11, 111, 8, 8, 192, 530, 19, 823, 111, 151, 13, 62, 20, 199, 823, 8, 704, 128, 387, 618, 2238, 242, 153, 1556, 618, 2238, 8, 131, 22, 84, 91, 88, 17, 330, 35, 326, 8, 555, 300, 248, 128, 387, 1224, 1831, 2654, 21], [5, 3229, 42, 83, 1174, 7, 10, 6, 3, 3, 3, 3, 3, 3, 3, 3, 3, 3, 3, 3, 3, 3, 3, 3, 3, 3, 3, 3, 3, 3, 3, 3, 3, 3, 3, 3, 3, 3, 3, 3, 3, 3, 3, 3, 3, 3, 3, 3, 3, 3, 3, 3, 3, 3, 3, 3, 3, 3, 3, 3, 3, 3, 3, 3, 3, 3, 3], [5, 3676, 15, 1602, 128, 1367, 179, 625, 91, 1631, 415, 91, 17, 36, 8, 6, 3, 3, 3, 3, 3, 3, 3, 3, 3, 3, 3, 3, 3, 3, 3, 3, 3, 3, 3, 3, 3, 3, 3, 3, 3, 3, 3, 3, 3, 3, 3, 3, 3, 3, 3, 3, 3, 3, 3, 3, 3, 3, 3, 3, 3, 3, 3, 3, 3, 3, 3], [5, 3676, 15, 99, 42, 9, 105, 26, 22, 9, 105, 26, 39, 8, 6, 3, 3, 3, 3, 3, 3, 3, 3, 3, 3, 3, 3, 3, 3, 3, 3, 3, 3, 3, 3, 3, 3, 3, 3, 3, 3, 3, 3, 3, 3, 3, 3, 3, 3, 3, 3, 3, 3, 3, 3, 3, 3, 3, 3, 3, 3, 3, 3, 3, 3, 3, 3], [5, 3669, 13, 218, 339, 8, 6, 3, 3, 3, 3, 3, 3, 3, 3, 3, 3, 3, 3, 3, 3, 3, 3, 3, 3, 3, 3, 3, 3, 3, 3, 3, 3, 3, 3, 3, 3, 3, 3, 3, 3, 3, 3, 3, 3, 3, 3, 3, 3, 3, 3, 3, 3, 3, 3, 3, 3, 3, 3, 3, 3, 3, 3, 3, 3, 3, 3], [5, 3229, 142, 39, 178, 72, 262, 8, 6, 3, 3, 3, 3, 3, 3, 3, 3, 3, 3, 3, 3, 3, 3, 3, 3, 3, 3, 3, 3, 3, 3, 3, 3, 3, 3, 3, 3, 3, 3, 3, 3, 3, 3, 3, 3, 3, 3, 3, 3, 3, 3, 3, 3, 3, 3, 3, 3, 3, 3, 3, 3, 3, 3, 3, 3, 3, 3], [5, 3693, 239, 553, 9, 17, 362, 7, 1230, 8, 6, 3, 3, 3, 3, 3, 3, 3, 3, 3, 3, 3, 3, 3, 3, 3, 3, 3, 3, 3, 3, 3, 3, 3, 3, 3, 3, 3, 3, 3, 3, 3, 3, 3, 3, 3, 3, 3, 3, 3, 3, 3, 3, 3, 3, 3, 3, 3, 3, 3, 3, 3, 3, 3, 3, 3, 3], [5, 1219, 239, 1914, 9, 97, 35, 26, 9, 286, 234, 111, 6, 3, 3, 3, 3, 3, 3, 3, 3, 3, 3, 3, 3, 3, 3, 3, 3, 3, 3, 3, 3, 3, 3, 3, 3, 3, 3, 3, 3, 3, 3, 3, 3, 3, 3, 3, 3, 3, 3, 3, 3, 3, 3, 3, 3, 3, 3, 3, 3, 3, 3, 3, 3, 3, 3], [5, 3229, 42, 66, 72, 21, 262, 9, 1816, 19, 160, 17, 647, 8, 6, 3, 3, 3, 3, 3, 3, 3, 3, 3, 3, 3, 3, 3, 3, 3, 3, 3, 3, 3, 3, 3, 3, 3, 3, 3, 3, 3, 3, 3, 3, 3, 3, 3, 3, 3, 3, 3, 3, 3, 3, 3, 3, 3, 3, 3, 3, 3, 3, 3, 3, 3, 3], [5, 3679, 16, 153, 641, 7, 10, 6, 3, 3, 3, 3, 3, 3, 3, 3, 3, 3, 3, 3, 3, 3, 3, 3, 3, 3, 3, 3, 3, 3, 3, 3, 3, 3, 3, 3, 3, 3, 3, 3, 3, 3, 3, 3, 3, 3, 3, 3, 3, 3, 3, 3, 3, 3, 3, 3, 3, 3, 3, 3, 3, 3, 3, 3, 3, 3, 3], [5, 3679, 3292, 90, 14, 124, 13, 117, 77, 28, 109, 109, 47, 232, 2414, 8, 455, 2414, 38, 66, 109, 1077, 1812, 1640, 13, 9, 1077, 1812, 1640, 38, 107, 38, 373, 875, 179, 289, 373, 875, 373, 47, 7, 21, 875, 47, 70, 171, 261, 8, 1930, 47, 41, 2631, 19, 1924, 73, 262, 80, 277, 52, 1062, 6, 3, 3, 3, 3, 3, 3], [5, 3693, 3305, 39, 41, 83, 8, 6, 3, 3, 3, 3, 3, 3, 3, 3, 3, 3, 3, 3, 3, 3, 3, 3, 3, 3, 3, 3, 3, 3, 3, 3, 3, 3, 3, 3, 3, 3, 3, 3, 3, 3, 3, 3, 3, 3, 3, 3, 3, 3, 3, 3, 3, 3, 3, 3, 3, 3, 3, 3, 3, 3, 3, 3, 3, 3, 3], [5, 879, 849, 612, 303, 678, 42, 79, 7, 10, 6, 3, 3, 3, 3, 3, 3, 3, 3, 3, 3, 3, 3, 3, 3, 3, 3, 3, 3, 3, 3, 3, 3, 3, 3, 3, 3, 3, 3, 3, 3, 3, 3, 3, 3, 3, 3, 3, 3, 3, 3, 3, 3, 3, 3, 3, 3, 3, 3, 3, 3, 3, 3, 3, 3, 3, 3], [5, 1546, 156, 3363, 2799, 129, 8, 6, 3, 3, 3, 3, 3, 3, 3, 3, 3, 3, 3, 3, 3, 3, 3, 3, 3, 3, 3, 3, 3, 3, 3, 3, 3, 3, 3, 3, 3, 3, 3, 3, 3, 3, 3, 3, 3, 3, 3, 3, 3, 3, 3, 3, 3, 3, 3, 3, 3, 3, 3, 3, 3, 3, 3, 3, 3, 3, 3], [5, 3229, 39, 83, 133, 8, 6, 3, 3, 3, 3, 3, 3, 3, 3, 3, 3, 3, 3, 3, 3, 3, 3, 3, 3, 3, 3, 3, 3, 3, 3, 3, 3, 3, 3, 3, 3, 3, 3, 3, 3, 3, 3, 3, 3, 3, 3, 3, 3, 3, 3, 3, 3, 3, 3, 3, 3, 3, 3, 3, 3, 3, 3, 3, 3, 3, 3], [5, 3682, 1973, 124, 90, 14, 124, 13, 117, 77, 28, 124, 90, 126, 71, 88, 17, 109, 1013, 8, 510, 2691, 117, 77, 28, 41, 139, 70, 215, 70, 313, 313, 138, 189, 88, 8, 510, 2691, 38, 66, 1013, 57, 234, 111, 6, 3, 3, 3, 3, 3, 3, 3, 3, 3, 3, 3, 3, 3, 3, 3, 3, 3, 3, 3, 3, 3, 3], [5, 3693, 351, 247, 111, 6, 3, 3, 3, 3, 3, 3, 3, 3, 3, 3, 3, 3, 3, 3, 3, 3, 3, 3, 3, 3, 3, 3, 3, 3, 3, 3, 3, 3, 3, 3, 3, 3, 3, 3, 3, 3, 3, 3, 3, 3, 3, 3, 3, 3, 3, 3, 3, 3, 3, 3, 3, 3, 3, 3, 3, 3, 3, 3, 3, 3, 3], [5, 3669, 218, 97, 111, 6, 3, 3, 3, 3, 3, 3, 3, 3, 3, 3, 3, 3, 3, 3, 3, 3, 3, 3, 3, 3, 3, 3, 3, 3, 3, 3, 3, 3, 3, 3, 3, 3, 3, 3, 3, 3, 3, 3, 3, 3, 3, 3, 3, 3, 3, 3, 3, 3, 3, 3, 3, 3, 3, 3, 3, 3, 3, 3, 3, 3, 3], [5, 3671, 3198, 72, 1821, 71, 223, 16, 1058, 17, 602, 1013, 38, 794, 57, 88, 8, 6, 3, 3, 3, 3, 3, 3, 3, 3, 3, 3, 3, 3, 3, 3, 3, 3, 3, 3, 3, 3, 3, 3, 3, 3, 3, 3, 3, 3, 3, 3, 3, 3, 3, 3, 3, 3, 3, 3, 3, 3, 3, 3, 3, 3, 3, 3, 3, 3, 3], [5, 3679, 3292, 90, 9, 60, 39, 17, 41, 162, 19, 255, 308, 77, 28, 62, 71, 17, 7, 746, 17, 107, 21, 670, 3549, 8, 620, 26, 15, 78, 66, 41, 241, 13, 308, 77, 28, 9, 47, 22, 70, 1178, 198, 9, 47, 22, 762, 70, 565, 33, 48, 159, 47, 70, 1557, 31, 31, 8, 6, 3, 3, 3, 3, 3, 3, 3, 3], [5, 3678, 16, 1118, 178, 8, 6, 3, 3, 3, 3, 3, 3, 3, 3, 3, 3, 3, 3, 3, 3, 3, 3, 3, 3, 3, 3, 3, 3, 3, 3, 3, 3, 3, 3, 3, 3, 3, 3, 3, 3, 3, 3, 3, 3, 3, 3, 3, 3, 3, 3, 3, 3, 3, 3, 3, 3, 3, 3, 3, 3, 3, 3, 3, 3, 3, 3], [5, 3679, 3292, 90, 14, 109, 906, 447, 3573, 2491, 9, 906, 38, 326, 288, 71, 17, 60, 91, 134, 78, 109, 497, 57, 436, 2173, 91, 134, 78, 41, 2171, 308, 77, 28, 922, 39, 322, 198, 8, 204, 71, 60, 326, 62, 1012, 494, 3315, 17, 244, 33, 1554, 932, 54, 668, 21, 225, 3465, 9, 932, 308, 77, 28, 265, 499, 932, 17, 113], [5, 3669, 218, 422, 133, 57, 52, 7, 2594, 2523, 13, 1556, 2637, 8, 6, 3, 3, 3, 3, 3, 3, 3, 3, 3, 3, 3, 3, 3, 3, 3, 3, 3, 3, 3, 3, 3, 3, 3, 3, 3, 3, 3, 3, 3, 3, 3, 3, 3, 3, 3, 3, 3, 3, 3, 3, 3, 3, 3, 3, 3, 3, 3, 3, 3, 3, 3, 3], [5, 879, 45, 35, 1379, 22, 208, 604, 8, 6, 3, 3, 3, 3, 3, 3, 3, 3, 3, 3, 3, 3, 3, 3, 3, 3, 3, 3, 3, 3, 3, 3, 3, 3, 3, 3, 3, 3, 3, 3, 3, 3, 3, 3, 3, 3, 3, 3, 3, 3, 3, 3, 3, 3, 3, 3, 3, 3, 3, 3, 3, 3, 3, 3, 3, 3, 3], [5, 1406, 2824, 912, 8, 6, 3, 3, 3, 3, 3, 3, 3, 3, 3, 3, 3, 3, 3, 3, 3, 3, 3, 3, 3, 3, 3, 3, 3, 3, 3, 3, 3, 3, 3, 3, 3, 3, 3, 3, 3, 3, 3, 3, 3, 3, 3, 3, 3, 3, 3, 3, 3, 3, 3, 3, 3, 3, 3, 3, 3, 3, 3, 3, 3, 3, 3], [5, 3679, 142, 16, 44, 1426, 1968, 38, 9, 1853, 38, 9, 609, 352, 78, 105, 954, 8, 6, 3, 3, 3, 3, 3, 3, 3, 3, 3, 3, 3, 3, 3, 3, 3, 3, 3, 3, 3, 3, 3, 3, 3, 3, 3, 3, 3, 3, 3, 3, 3, 3, 3, 3, 3, 3, 3, 3, 3, 3, 3, 3, 3, 3, 3, 3, 3, 3], [5, 3678, 3305, 26, 228, 8, 6, 3, 3, 3, 3, 3, 3, 3, 3, 3, 3, 3, 3, 3, 3, 3, 3, 3, 3, 3, 3, 3, 3, 3, 3, 3, 3, 3, 3, 3, 3, 3, 3, 3, 3, 3, 3, 3, 3, 3, 3, 3, 3, 3, 3, 3, 3, 3, 3, 3, 3, 3, 3, 3, 3, 3, 3, 3, 3, 3, 3], [5, 3618, 3559, 232, 1057, 26, 7, 10, 6, 3, 3, 3, 3, 3, 3, 3, 3, 3, 3, 3, 3, 3, 3, 3, 3, 3, 3, 3, 3, 3, 3, 3, 3, 3, 3, 3, 3, 3, 3, 3, 3, 3, 3, 3, 3, 3, 3, 3, 3, 3, 3, 3, 3, 3, 3, 3, 3, 3, 3, 3, 3, 3, 3, 3, 3, 3, 3], [5, 3679, 3292, 90, 288, 71, 17, 20, 3258, 225, 201, 2911, 201, 1019, 743, 1538, 78, 730, 91, 565, 33, 1037, 8, 555, 645, 90, 8, 2538, 22, 28, 2336, 500, 645, 13, 57, 743, 818, 465, 80, 2312, 8, 555, 13, 174, 2311, 17, 124, 90, 81, 2311, 8, 6, 3, 3, 3, 3, 3, 3, 3, 3, 3, 3, 3, 3, 3, 3, 3], [5, 3669, 218, 339, 111, 6, 3, 3, 3, 3, 3, 3, 3, 3, 3, 3, 3, 3, 3, 3, 3, 3, 3, 3, 3, 3, 3, 3, 3, 3, 3, 3, 3, 3, 3, 3, 3, 3, 3, 3, 3, 3, 3, 3, 3, 3, 3, 3, 3, 3, 3, 3, 3, 3, 3, 3, 3, 3, 3, 3, 3, 3, 3, 3, 3, 3, 3], [5, 3679, 1533, 319, 2946, 115, 7, 10, 6, 3, 3, 3, 3, 3, 3, 3, 3, 3, 3, 3, 3, 3, 3, 3, 3, 3, 3, 3, 3, 3, 3, 3, 3, 3, 3, 3, 3, 3, 3, 3, 3, 3, 3, 3, 3, 3, 3, 3, 3, 3, 3, 3, 3, 3, 3, 3, 3, 3, 3, 3, 3, 3, 3, 3, 3, 3, 3], [5, 3679, 3292, 90, 14, 208, 46, 236, 37, 111, 118, 236, 37, 1596, 77, 28, 190, 565, 33, 345, 1010, 8, 131, 181, 107, 41, 1043, 19, 1785, 854, 70, 171, 914, 8, 874, 433, 159, 326, 47, 470, 1043, 19, 1785, 854, 70, 189, 88, 8, 6, 3, 3, 3, 3, 3, 3, 3, 3, 3, 3, 3, 3, 3, 3, 3, 3, 3, 3], [5, 3618, 2019, 9, 763, 9, 26, 22, 8, 6, 3, 3, 3, 3, 3, 3, 3, 3, 3, 3, 3, 3, 3, 3, 3, 3, 3, 3, 3, 3, 3, 3, 3, 3, 3, 3, 3, 3, 3, 3, 3, 3, 3, 3, 3, 3, 3, 3, 3, 3, 3, 3, 3, 3, 3, 3, 3, 3, 3, 3, 3, 3, 3, 3, 3, 3, 3], [5, 3676, 15, 99, 39, 8, 6, 3, 3, 3, 3, 3, 3, 3, 3, 3, 3, 3, 3, 3, 3, 3, 3, 3, 3, 3, 3, 3, 3, 3, 3, 3, 3, 3, 3, 3, 3, 3, 3, 3, 3, 3, 3, 3, 3, 3, 3, 3, 3, 3, 3, 3, 3, 3, 3, 3, 3, 3, 3, 3, 3, 3, 3, 3, 3, 3, 3], [5, 1575, 156, 145, 22, 167, 297, 137, 218, 157, 1968, 8, 6, 3, 3, 3, 3, 3, 3, 3, 3, 3, 3, 3, 3, 3, 3, 3, 3, 3, 3, 3, 3, 3, 3, 3, 3, 3, 3, 3, 3, 3, 3, 3, 3, 3, 3, 3, 3, 3, 3, 3, 3, 3, 3, 3, 3, 3, 3, 3, 3, 3, 3, 3, 3, 3, 3], [5, 3693, 3305, 39, 41, 544, 8, 6, 3, 3, 3, 3, 3, 3, 3, 3, 3, 3, 3, 3, 3, 3, 3, 3, 3, 3, 3, 3, 3, 3, 3, 3, 3, 3, 3, 3, 3, 3, 3, 3, 3, 3, 3, 3, 3, 3, 3, 3, 3, 3, 3, 3, 3, 3, 3, 3, 3, 3, 3, 3, 3, 3, 3, 3, 3, 3, 3], [5, 3682, 16, 16, 166, 528, 20, 1928, 80, 2435, 8, 6, 3, 3, 3, 3, 3, 3, 3, 3, 3, 3, 3, 3, 3, 3, 3, 3, 3, 3, 3, 3, 3, 3, 3, 3, 3, 3, 3, 3, 3, 3, 3, 3, 3, 3, 3, 3, 3, 3, 3, 3, 3, 3, 3, 3, 3, 3, 3, 3, 3, 3, 3, 3, 3, 3, 3], [5, 3678, 477, 77, 2671, 195, 8, 6, 3, 3, 3, 3, 3, 3, 3, 3, 3, 3, 3, 3, 3, 3, 3, 3, 3, 3, 3, 3, 3, 3, 3, 3, 3, 3, 3, 3, 3, 3, 3, 3, 3, 3, 3, 3, 3, 3, 3, 3, 3, 3, 3, 3, 3, 3, 3, 3, 3, 3, 3, 3, 3, 3, 3, 3, 3, 3, 3], [5, 3671, 2700, 81, 8, 6, 3, 3, 3, 3, 3, 3, 3, 3, 3, 3, 3, 3, 3, 3, 3, 3, 3, 3, 3, 3, 3, 3, 3, 3, 3, 3, 3, 3, 3, 3, 3, 3, 3, 3, 3, 3, 3, 3, 3, 3, 3, 3, 3, 3, 3, 3, 3, 3, 3, 3, 3, 3, 3, 3, 3, 3, 3, 3, 3, 3, 3], [5, 1309, 266, 346, 1383, 57, 282, 1286, 88, 8, 6, 3, 3, 3, 3, 3, 3, 3, 3, 3, 3, 3, 3, 3, 3, 3, 3, 3, 3, 3, 3, 3, 3, 3, 3, 3, 3, 3, 3, 3, 3, 3, 3, 3, 3, 3, 3, 3, 3, 3, 3, 3, 3, 3, 3, 3, 3, 3, 3, 3, 3, 3, 3, 3, 3, 3, 3], [5, 879, 174, 2483, 35, 2296, 9, 2218, 8, 6, 3, 3, 3, 3, 3, 3, 3, 3, 3, 3, 3, 3, 3, 3, 3, 3, 3, 3, 3, 3, 3, 3, 3, 3, 3, 3, 3, 3, 3, 3, 3, 3, 3, 3, 3, 3, 3, 3, 3, 3, 3, 3, 3, 3, 3, 3, 3, 3, 3, 3, 3, 3, 3, 3, 3, 3, 3], [5, 1575, 159, 346, 546, 8, 6, 3, 3, 3, 3, 3, 3, 3, 3, 3, 3, 3, 3, 3, 3, 3, 3, 3, 3, 3, 3, 3, 3, 3, 3, 3, 3, 3, 3, 3, 3, 3, 3, 3, 3, 3, 3, 3, 3, 3, 3, 3, 3, 3, 3, 3, 3, 3, 3, 3, 3, 3, 3, 3, 3, 3, 3, 3, 3, 3, 3], [5, 3687, 1343, 38, 550, 22, 41, 115, 173, 1543, 70, 313, 8, 6, 3, 3, 3, 3, 3, 3, 3, 3, 3, 3, 3, 3, 3, 3, 3, 3, 3, 3, 3, 3, 3, 3, 3, 3, 3, 3, 3, 3, 3, 3, 3, 3, 3, 3, 3, 3, 3, 3, 3, 3, 3, 3, 3, 3, 3, 3, 3, 3, 3, 3, 3, 3, 3], [5, 3693, 239, 553, 9, 17, 107, 8, 6, 3, 3, 3, 3, 3, 3, 3, 3, 3, 3, 3, 3, 3, 3, 3, 3, 3, 3, 3, 3, 3, 3, 3, 3, 3, 3, 3, 3, 3, 3, 3, 3, 3, 3, 3, 3, 3, 3, 3, 3, 3, 3, 3, 3, 3, 3, 3, 3, 3, 3, 3, 3, 3, 3, 3, 3, 3, 3], [5, 3673, 159, 19, 81, 1117, 8, 6, 3, 3, 3, 3, 3, 3, 3, 3, 3, 3, 3, 3, 3, 3, 3, 3, 3, 3, 3, 3, 3, 3, 3, 3, 3, 3, 3, 3, 3, 3, 3, 3, 3, 3, 3, 3, 3, 3, 3, 3, 3, 3, 3, 3, 3, 3, 3, 3, 3, 3, 3, 3, 3, 3, 3, 3, 3, 3, 3], [5, 879, 45, 35, 26, 17, 107, 298, 35, 7, 10, 6, 3, 3, 3, 3, 3, 3, 3, 3, 3, 3, 3, 3, 3, 3, 3, 3, 3, 3, 3, 3, 3, 3, 3, 3, 3, 3, 3, 3, 3, 3, 3, 3, 3, 3, 3, 3, 3, 3, 3, 3, 3, 3, 3, 3, 3, 3, 3, 3, 3, 3, 3, 3, 3, 3, 3], [5, 3669, 284, 8, 6, 3, 3, 3, 3, 3, 3, 3, 3, 3, 3, 3, 3, 3, 3, 3, 3, 3, 3, 3, 3, 3, 3, 3, 3, 3, 3, 3, 3, 3, 3, 3, 3, 3, 3, 3, 3, 3, 3, 3, 3, 3, 3, 3, 3, 3, 3, 3, 3, 3, 3, 3, 3, 3, 3, 3, 3, 3, 3, 3, 3, 3, 3], [5, 3671, 1626, 139, 729, 7, 10, 6, 3, 3, 3, 3, 3, 3, 3, 3, 3, 3, 3, 3, 3, 3, 3, 3, 3, 3, 3, 3, 3, 3, 3, 3, 3, 3, 3, 3, 3, 3, 3, 3, 3, 3, 3, 3, 3, 3, 3, 3, 3, 3, 3, 3, 3, 3, 3, 3, 3, 3, 3, 3, 3, 3, 3, 3, 3, 3, 3], [5, 3229, 22, 157, 247, 470, 628, 6, 3, 3, 3, 3, 3, 3, 3, 3, 3, 3, 3, 3, 3, 3, 3, 3, 3, 3, 3, 3, 3, 3, 3, 3, 3, 3, 3, 3, 3, 3, 3, 3, 3, 3, 3, 3, 3, 3, 3, 3, 3, 3, 3, 3, 3, 3, 3, 3, 3, 3, 3, 3, 3, 3, 3, 3, 3, 3, 3], [5, 3693, 159, 1952, 9, 604, 9, 742, 26, 8, 6, 3, 3, 3, 3, 3, 3, 3, 3, 3, 3, 3, 3, 3, 3, 3, 3, 3, 3, 3, 3, 3, 3, 3, 3, 3, 3, 3, 3, 3, 3, 3, 3, 3, 3, 3, 3, 3, 3, 3, 3, 3, 3, 3, 3, 3, 3, 3, 3, 3, 3, 3, 3, 3, 3, 3, 3], [5, 3669, 490, 42, 79, 7, 10, 6, 3, 3, 3, 3, 3, 3, 3, 3, 3, 3, 3, 3, 3, 3, 3, 3, 3, 3, 3, 3, 3, 3, 3, 3, 3, 3, 3, 3, 3, 3, 3, 3, 3, 3, 3, 3, 3, 3, 3, 3, 3, 3, 3, 3, 3, 3, 3, 3, 3, 3, 3, 3, 3, 3, 3, 3, 3, 3, 3], [5, 3675, 239, 60, 7, 10, 6, 3, 3, 3, 3, 3, 3, 3, 3, 3, 3, 3, 3, 3, 3, 3, 3, 3, 3, 3, 3, 3, 3, 3, 3, 3, 3, 3, 3, 3, 3, 3, 3, 3, 3, 3, 3, 3, 3, 3, 3, 3, 3, 3, 3, 3, 3, 3, 3, 3, 3, 3, 3, 3, 3, 3, 3, 3, 3, 3, 3], [5, 1309, 372, 52, 7, 10, 6, 3, 3, 3, 3, 3, 3, 3, 3, 3, 3, 3, 3, 3, 3, 3, 3, 3, 3, 3, 3, 3, 3, 3, 3, 3, 3, 3, 3, 3, 3, 3, 3, 3, 3, 3, 3, 3, 3, 3, 3, 3, 3, 3, 3, 3, 3, 3, 3, 3, 3, 3, 3, 3, 3, 3, 3, 3, 3, 3, 3], [5, 879, 45, 35, 529, 22, 13, 135, 1687, 7, 480, 17, 602, 3235, 50, 225, 3118, 25, 3119, 8, 6, 3, 3, 3, 3, 3, 3, 3, 3, 3, 3, 3, 3, 3, 3, 3, 3, 3, 3, 3, 3, 3, 3, 3, 3, 3, 3, 3, 3, 3, 3, 3, 3, 3, 3, 3, 3, 3, 3, 3, 3, 3, 3, 3, 3, 3, 3], [5, 3229, 42, 215, 138, 982, 7, 10, 6, 3, 3, 3, 3, 3, 3, 3, 3, 3, 3, 3, 3, 3, 3, 3, 3, 3, 3, 3, 3, 3, 3, 3, 3, 3, 3, 3, 3, 3, 3, 3, 3, 3, 3, 3, 3, 3, 3, 3, 3, 3, 3, 3, 3, 3, 3, 3, 3, 3, 3, 3, 3, 3, 3, 3, 3, 3, 3], [5, 879, 45, 35, 1815, 79, 8, 6, 3, 3, 3, 3, 3, 3, 3, 3, 3, 3, 3, 3, 3, 3, 3, 3, 3, 3, 3, 3, 3, 3, 3, 3, 3, 3, 3, 3, 3, 3, 3, 3, 3, 3, 3, 3, 3, 3, 3, 3, 3, 3, 3, 3, 3, 3, 3, 3, 3, 3, 3, 3, 3, 3, 3, 3, 3, 3, 3], [5, 3679, 3292, 38, 120, 676, 81, 2914, 387, 9, 60, 39, 78, 41, 656, 111, 983, 954, 14, 50, 308, 1381, 90, 66, 9, 550, 655, 1256, 1381, 90, 160, 20, 41, 9, 8, 8, 8, 140, 20, 2590, 8, 140, 20, 395, 308, 77, 28, 7, 265, 870, 810, 96, 62, 219, 58, 2590, 15, 9, 62, 2219, 225, 163, 3483, 629, 58, 1795, 224], [5, 3693, 19, 199, 8, 6, 3, 3, 3, 3, 3, 3, 3, 3, 3, 3, 3, 3, 3, 3, 3, 3, 3, 3, 3, 3, 3, 3, 3, 3, 3, 3, 3, 3, 3, 3, 3, 3, 3, 3, 3, 3, 3, 3, 3, 3, 3, 3, 3, 3, 3, 3, 3, 3, 3, 3, 3, 3, 3, 3, 3, 3, 3, 3, 3, 3, 3], [5, 3693, 15, 3391, 544, 583, 137, 8, 6, 3, 3, 3, 3, 3, 3, 3, 3, 3, 3, 3, 3, 3, 3, 3, 3, 3, 3, 3, 3, 3, 3, 3, 3, 3, 3, 3, 3, 3, 3, 3, 3, 3, 3, 3, 3, 3, 3, 3, 3, 3, 3, 3, 3, 3, 3, 3, 3, 3, 3, 3, 3, 3, 3, 3, 3, 3, 3], [5, 3678, 16, 127, 105, 113, 127, 8, 6, 3, 3, 3, 3, 3, 3, 3, 3, 3, 3, 3, 3, 3, 3, 3, 3, 3, 3, 3, 3, 3, 3, 3, 3, 3, 3, 3, 3, 3, 3, 3, 3, 3, 3, 3, 3, 3, 3, 3, 3, 3, 3, 3, 3, 3, 3, 3, 3, 3, 3, 3, 3, 3, 3, 3, 3, 3, 3], [5, 879, 2895, 3315, 8, 6, 3, 3, 3, 3, 3, 3, 3, 3, 3, 3, 3, 3, 3, 3, 3, 3, 3, 3, 3, 3, 3, 3, 3, 3, 3, 3, 3, 3, 3, 3, 3, 3, 3, 3, 3, 3, 3, 3, 3, 3, 3, 3, 3, 3, 3, 3, 3, 3, 3, 3, 3, 3, 3, 3, 3, 3, 3, 3, 3, 3, 3], [5, 3235, 20, 147, 100, 389, 8, 6, 3, 3, 3, 3, 3, 3, 3, 3, 3, 3, 3, 3, 3, 3, 3, 3, 3, 3, 3, 3, 3, 3, 3, 3, 3, 3, 3, 3, 3, 3, 3, 3, 3, 3, 3, 3, 3, 3, 3, 3, 3, 3, 3, 3, 3, 3, 3, 3, 3, 3, 3, 3, 3, 3, 3, 3, 3, 3, 3], [5, 3235, 16, 26, 8, 6, 3, 3, 3, 3, 3, 3, 3, 3, 3, 3, 3, 3, 3, 3, 3, 3, 3, 3, 3, 3, 3, 3, 3, 3, 3, 3, 3, 3, 3, 3, 3, 3, 3, 3, 3, 3, 3, 3, 3, 3, 3, 3, 3, 3, 3, 3, 3, 3, 3, 3, 3, 3, 3, 3, 3, 3, 3, 3, 3, 3, 3], [5, 3673, 2602, 31, 7, 569, 1821, 82, 7, 10, 6, 3, 3, 3, 3, 3, 3, 3, 3, 3, 3, 3, 3, 3, 3, 3, 3, 3, 3, 3, 3, 3, 3, 3, 3, 3, 3, 3, 3, 3, 3, 3, 3, 3, 3, 3, 3, 3, 3, 3, 3, 3, 3, 3, 3, 3, 3, 3, 3, 3, 3, 3, 3, 3, 3, 3, 3], [5, 3676, 94, 277, 8, 6, 3, 3, 3, 3, 3, 3, 3, 3, 3, 3, 3, 3, 3, 3, 3, 3, 3, 3, 3, 3, 3, 3, 3, 3, 3, 3, 3, 3, 3, 3, 3, 3, 3, 3, 3, 3, 3, 3, 3, 3, 3, 3, 3, 3, 3, 3, 3, 3, 3, 3, 3, 3, 3, 3, 3, 3, 3, 3, 3, 3, 3], [5, 2924, 2513, 17, 689, 190, 2757, 142, 8, 6, 3, 3, 3, 3, 3, 3, 3, 3, 3, 3, 3, 3, 3, 3, 3, 3, 3, 3, 3, 3, 3, 3, 3, 3, 3, 3, 3, 3, 3, 3, 3, 3, 3, 3, 3, 3, 3, 3, 3, 3, 3, 3, 3, 3, 3, 3, 3, 3, 3, 3, 3, 3, 3, 3, 3, 3, 3], [5, 3676, 94, 83, 19, 626, 113, 8, 6, 3, 3, 3, 3, 3, 3, 3, 3, 3, 3, 3, 3, 3, 3, 3, 3, 3, 3, 3, 3, 3, 3, 3, 3, 3, 3, 3, 3, 3, 3, 3, 3, 3, 3, 3, 3, 3, 3, 3, 3, 3, 3, 3, 3, 3, 3, 3, 3, 3, 3, 3, 3, 3, 3, 3, 3, 3, 3], [5, 3673, 854, 442, 7, 569, 42, 130, 7, 10, 6, 3, 3, 3, 3, 3, 3, 3, 3, 3, 3, 3, 3, 3, 3, 3, 3, 3, 3, 3, 3, 3, 3, 3, 3, 3, 3, 3, 3, 3, 3, 3, 3, 3, 3, 3, 3, 3, 3, 3, 3, 3, 3, 3, 3, 3, 3, 3, 3, 3, 3, 3, 3, 3, 3, 3, 3], [5, 3679, 142, 19, 13, 129, 8, 6, 3, 3, 3, 3, 3, 3, 3, 3, 3, 3, 3, 3, 3, 3, 3, 3, 3, 3, 3, 3, 3, 3, 3, 3, 3, 3, 3, 3, 3, 3, 3, 3, 3, 3, 3, 3, 3, 3, 3, 3, 3, 3, 3, 3, 3, 3, 3, 3, 3, 3, 3, 3, 3, 3, 3, 3, 3, 3, 3], [5, 879, 45, 213, 8, 6, 3, 3, 3, 3, 3, 3, 3, 3, 3, 3, 3, 3, 3, 3, 3, 3, 3, 3, 3, 3, 3, 3, 3, 3, 3, 3, 3, 3, 3, 3, 3, 3, 3, 3, 3, 3, 3, 3, 3, 3, 3, 3, 3, 3, 3, 3, 3, 3, 3, 3, 3, 3, 3, 3, 3, 3, 3, 3, 3, 3, 3], [5, 3618, 3559, 139, 72, 889, 294, 7, 10, 6, 3, 3, 3, 3, 3, 3, 3, 3, 3, 3, 3, 3, 3, 3, 3, 3, 3, 3, 3, 3, 3, 3, 3, 3, 3, 3, 3, 3, 3, 3, 3, 3, 3, 3, 3, 3, 3, 3, 3, 3, 3, 3, 3, 3, 3, 3, 3, 3, 3, 3, 3, 3, 3, 3, 3, 3, 3], [5, 3693, 16, 1200, 341, 1520, 72, 9, 441, 625, 647, 19, 1636, 17, 2282, 8, 6, 3, 3, 3, 3, 3, 3, 3, 3, 3, 3, 3, 3, 3, 3, 3, 3, 3, 3, 3, 3, 3, 3, 3, 3, 3, 3, 3, 3, 3, 3, 3, 3, 3, 3, 3, 3, 3, 3, 3, 3, 3, 3, 3, 3, 3, 3, 3, 3, 3, 3], [5, 3679, 2108, 39, 111, 6, 3, 3, 3, 3, 3, 3, 3, 3, 3, 3, 3, 3, 3, 3, 3, 3, 3, 3, 3, 3, 3, 3, 3, 3, 3, 3, 3, 3, 3, 3, 3, 3, 3, 3, 3, 3, 3, 3, 3, 3, 3, 3, 3, 3, 3, 3, 3, 3, 3, 3, 3, 3, 3, 3, 3, 3, 3, 3, 3, 3, 3], [5, 879, 45, 7, 636, 78, 318, 84, 13, 9, 248, 199, 8, 6, 3, 3, 3, 3, 3, 3, 3, 3, 3, 3, 3, 3, 3, 3, 3, 3, 3, 3, 3, 3, 3, 3, 3, 3, 3, 3, 3, 3, 3, 3, 3, 3, 3, 3, 3, 3, 3, 3, 3, 3, 3, 3, 3, 3, 3, 3, 3, 3, 3, 3, 3, 3, 3], [5, 3692, 1079, 15, 931, 191, 1031, 8, 6, 3, 3, 3, 3, 3, 3, 3, 3, 3, 3, 3, 3, 3, 3, 3, 3, 3, 3, 3, 3, 3, 3, 3, 3, 3, 3, 3, 3, 3, 3, 3, 3, 3, 3, 3, 3, 3, 3, 3, 3, 3, 3, 3, 3, 3, 3, 3, 3, 3, 3, 3, 3, 3, 3, 3, 3, 3, 3], [5, 879, 45, 35, 213, 8, 6, 3, 3, 3, 3, 3, 3, 3, 3, 3, 3, 3, 3, 3, 3, 3, 3, 3, 3, 3, 3, 3, 3, 3, 3, 3, 3, 3, 3, 3, 3, 3, 3, 3, 3, 3, 3, 3, 3, 3, 3, 3, 3, 3, 3, 3, 3, 3, 3, 3, 3, 3, 3, 3, 3, 3, 3, 3, 3, 3, 3], [5, 3676, 15, 1794, 393, 3009, 1914, 8, 6, 3, 3, 3, 3, 3, 3, 3, 3, 3, 3, 3, 3, 3, 3, 3, 3, 3, 3, 3, 3, 3, 3, 3, 3, 3, 3, 3, 3, 3, 3, 3, 3, 3, 3, 3, 3, 3, 3, 3, 3, 3, 3, 3, 3, 3, 3, 3, 3, 3, 3, 3, 3, 3, 3, 3, 3, 3, 3], [5, 3690, 1604, 14, 41, 97, 284, 9, 62, 1170, 17, 41, 544, 474, 41, 1092, 2310, 21, 189, 62, 432, 8, 6, 3, 3, 3, 3, 3, 3, 3, 3, 3, 3, 3, 3, 3, 3, 3, 3, 3, 3, 3, 3, 3, 3, 3, 3, 3, 3, 3, 3, 3, 3, 3, 3, 3, 3, 3, 3, 3, 3, 3, 3, 3, 3, 3, 3], [5, 3693, 15, 37, 21, 167, 8, 6, 3, 3, 3, 3, 3, 3, 3, 3, 3, 3, 3, 3, 3, 3, 3, 3, 3, 3, 3, 3, 3, 3, 3, 3, 3, 3, 3, 3, 3, 3, 3, 3, 3, 3, 3, 3, 3, 3, 3, 3, 3, 3, 3, 3, 3, 3, 3, 3, 3, 3, 3, 3, 3, 3, 3, 3, 3, 3, 3], [5, 3682, 2864, 762, 9, 139, 72, 376, 1445, 495, 8, 6, 3, 3, 3, 3, 3, 3, 3, 3, 3, 3, 3, 3, 3, 3, 3, 3, 3, 3, 3, 3, 3, 3, 3, 3, 3, 3, 3, 3, 3, 3, 3, 3, 3, 3, 3, 3, 3, 3, 3, 3, 3, 3, 3, 3, 3, 3, 3, 3, 3, 3, 3, 3, 3, 3, 3], [5, 3673, 465, 70, 84, 1806, 1965, 8, 6, 3, 3, 3, 3, 3, 3, 3, 3, 3, 3, 3, 3, 3, 3, 3, 3, 3, 3, 3, 3, 3, 3, 3, 3, 3, 3, 3, 3, 3, 3, 3, 3, 3, 3, 3, 3, 3, 3, 3, 3, 3, 3, 3, 3, 3, 3, 3, 3, 3, 3, 3, 3, 3, 3, 3, 3, 3, 3], [5, 3676, 159, 16, 58, 26, 8, 6, 3, 3, 3, 3, 3, 3, 3, 3, 3, 3, 3, 3, 3, 3, 3, 3, 3, 3, 3, 3, 3, 3, 3, 3, 3, 3, 3, 3, 3, 3, 3, 3, 3, 3, 3, 3, 3, 3, 3, 3, 3, 3, 3, 3, 3, 3, 3, 3, 3, 3, 3, 3, 3, 3, 3, 3, 3, 3, 3], [5, 3235, 614, 26, 8, 6, 3, 3, 3, 3, 3, 3, 3, 3, 3, 3, 3, 3, 3, 3, 3, 3, 3, 3, 3, 3, 3, 3, 3, 3, 3, 3, 3, 3, 3, 3, 3, 3, 3, 3, 3, 3, 3, 3, 3, 3, 3, 3, 3, 3, 3, 3, 3, 3, 3, 3, 3, 3, 3, 3, 3, 3, 3, 3, 3, 3, 3], [5, 3671, 625, 1842, 2332, 90, 46, 216, 62, 945, 1908, 1112, 502, 9, 46, 415, 91, 23, 743, 23, 58, 3306, 33, 2832, 56, 2466, 120, 526, 67, 172, 157, 1996, 3136, 8, 6, 3, 3, 3, 3, 3, 3, 3, 3, 3, 3, 3, 3, 3, 3, 3, 3, 3, 3, 3, 3, 3, 3, 3, 3, 3, 3, 3, 3, 3, 3, 3, 3], [5, 879, 45, 35, 26, 13, 9, 81, 619, 8, 6, 3, 3, 3, 3, 3, 3, 3, 3, 3, 3, 3, 3, 3, 3, 3, 3, 3, 3, 3, 3, 3, 3, 3, 3, 3, 3, 3, 3, 3, 3, 3, 3, 3, 3, 3, 3, 3, 3, 3, 3, 3, 3, 3, 3, 3, 3, 3, 3, 3, 3, 3, 3, 3, 3, 3, 3], [5, 3676, 15, 99, 189, 8, 6, 3, 3, 3, 3, 3, 3, 3, 3, 3, 3, 3, 3, 3, 3, 3, 3, 3, 3, 3, 3, 3, 3, 3, 3, 3, 3, 3, 3, 3, 3, 3, 3, 3, 3, 3, 3, 3, 3, 3, 3, 3, 3, 3, 3, 3, 3, 3, 3, 3, 3, 3, 3, 3, 3, 3, 3, 3, 3, 3, 3], [5, 1309, 16, 60, 39, 100, 162, 57, 1363, 717, 73, 41, 497, 9, 2884, 2262, 530, 8, 131, 41, 884, 70, 1363, 70, 1858, 2134, 225, 1374, 283, 8, 6, 3, 3, 3, 3, 3, 3, 3, 3, 3, 3, 3, 3, 3, 3, 3, 3, 3, 3, 3, 3, 3, 3, 3, 3, 3, 3, 3, 3, 3, 3, 3, 3, 3, 3, 3, 3], [5, 3692, 849, 23, 42, 496, 19, 100, 215, 8, 6, 3, 3, 3, 3, 3, 3, 3, 3, 3, 3, 3, 3, 3, 3, 3, 3, 3, 3, 3, 3, 3, 3, 3, 3, 3, 3, 3, 3, 3, 3, 3, 3, 3, 3, 3, 3, 3, 3, 3, 3, 3, 3, 3, 3, 3, 3, 3, 3, 3, 3, 3, 3, 3, 3, 3, 3], [5, 3692, 849, 23, 42, 496, 19, 100, 215, 732, 7, 10, 6, 3, 3, 3, 3, 3, 3, 3, 3, 3, 3, 3, 3, 3, 3, 3, 3, 3, 3, 3, 3, 3, 3, 3, 3, 3, 3, 3, 3, 3, 3, 3, 3, 3, 3, 3, 3, 3, 3, 3, 3, 3, 3, 3, 3, 3, 3, 3, 3, 3, 3, 3, 3, 3, 3], [5, 3235, 23, 3416, 447, 1579, 1784, 56, 17, 2476, 11, 730, 38, 8, 6, 3, 3, 3, 3, 3, 3, 3, 3, 3, 3, 3, 3, 3, 3, 3, 3, 3, 3, 3, 3, 3, 3, 3, 3, 3, 3, 3, 3, 3, 3, 3, 3, 3, 3, 3, 3, 3, 3, 3, 3, 3, 3, 3, 3, 3, 3, 3, 3, 3, 3, 3, 3], [5, 3669, 218, 339, 401, 111, 6, 3, 3, 3, 3, 3, 3, 3, 3, 3, 3, 3, 3, 3, 3, 3, 3, 3, 3, 3, 3, 3, 3, 3, 3, 3, 3, 3, 3, 3, 3, 3, 3, 3, 3, 3, 3, 3, 3, 3, 3, 3, 3, 3, 3, 3, 3, 3, 3, 3, 3, 3, 3, 3, 3, 3, 3, 3, 3, 3, 3], [5, 3235, 336, 23, 14, 2072, 336, 1659, 8, 6, 3, 3, 3, 3, 3, 3, 3, 3, 3, 3, 3, 3, 3, 3, 3, 3, 3, 3, 3, 3, 3, 3, 3, 3, 3, 3, 3, 3, 3, 3, 3, 3, 3, 3, 3, 3, 3, 3, 3, 3, 3, 3, 3, 3, 3, 3, 3, 3, 3, 3, 3, 3, 3, 3, 3, 3, 3], [5, 3235, 1177, 358, 8, 6, 3, 3, 3, 3, 3, 3, 3, 3, 3, 3, 3, 3, 3, 3, 3, 3, 3, 3, 3, 3, 3, 3, 3, 3, 3, 3, 3, 3, 3, 3, 3, 3, 3, 3, 3, 3, 3, 3, 3, 3, 3, 3, 3, 3, 3, 3, 3, 3, 3, 3, 3, 3, 3, 3, 3, 3, 3, 3, 3, 3, 3], [5, 3673, 159, 42, 139, 90, 7, 10, 6, 3, 3, 3, 3, 3, 3, 3, 3, 3, 3, 3, 3, 3, 3, 3, 3, 3, 3, 3, 3, 3, 3, 3, 3, 3, 3, 3, 3, 3, 3, 3, 3, 3, 3, 3, 3, 3, 3, 3, 3, 3, 3, 3, 3, 3, 3, 3, 3, 3, 3, 3, 3, 3, 3, 3, 3, 3, 3], [5, 3618, 239, 223, 957, 159, 8, 6, 3, 3, 3, 3, 3, 3, 3, 3, 3, 3, 3, 3, 3, 3, 3, 3, 3, 3, 3, 3, 3, 3, 3, 3, 3, 3, 3, 3, 3, 3, 3, 3, 3, 3, 3, 3, 3, 3, 3, 3, 3, 3, 3, 3, 3, 3, 3, 3, 3, 3, 3, 3, 3, 3, 3, 3, 3, 3, 3], [5, 3679, 3292, 90, 528, 20, 939, 298, 1596, 664, 15, 28, 190, 47, 41, 2207, 17, 107, 9, 47, 41, 2248, 9, 47, 41, 645, 73, 859, 23, 80, 2424, 7, 3488, 497, 17, 107, 8, 6, 3, 3, 3, 3, 3, 3, 3, 3, 3, 3, 3, 3, 3, 3, 3, 3, 3, 3, 3, 3, 3, 3, 3, 3, 3, 3, 3, 3, 3], [5, 3679, 142, 16, 318, 26, 8, 6, 3, 3, 3, 3, 3, 3, 3, 3, 3, 3, 3, 3, 3, 3, 3, 3, 3, 3, 3, 3, 3, 3, 3, 3, 3, 3, 3, 3, 3, 3, 3, 3, 3, 3, 3, 3, 3, 3, 3, 3, 3, 3, 3, 3, 3, 3, 3, 3, 3, 3, 3, 3, 3, 3, 3, 3, 3, 3, 3], [5, 3676, 19, 82, 9, 619, 39, 8, 6, 3, 3, 3, 3, 3, 3, 3, 3, 3, 3, 3, 3, 3, 3, 3, 3, 3, 3, 3, 3, 3, 3, 3, 3, 3, 3, 3, 3, 3, 3, 3, 3, 3, 3, 3, 3, 3, 3, 3, 3, 3, 3, 3, 3, 3, 3, 3, 3, 3, 3, 3, 3, 3, 3, 3, 3, 3, 3], [5, 3690, 16, 172, 13, 80, 38, 52, 135, 20, 1218, 8, 6, 3, 3, 3, 3, 3, 3, 3, 3, 3, 3, 3, 3, 3, 3, 3, 3, 3, 3, 3, 3, 3, 3, 3, 3, 3, 3, 3, 3, 3, 3, 3, 3, 3, 3, 3, 3, 3, 3, 3, 3, 3, 3, 3, 3, 3, 3, 3, 3, 3, 3, 3, 3, 3, 3], [5, 3693, 15, 3391, 459, 478, 137, 8, 6, 3, 3, 3, 3, 3, 3, 3, 3, 3, 3, 3, 3, 3, 3, 3, 3, 3, 3, 3, 3, 3, 3, 3, 3, 3, 3, 3, 3, 3, 3, 3, 3, 3, 3, 3, 3, 3, 3, 3, 3, 3, 3, 3, 3, 3, 3, 3, 3, 3, 3, 3, 3, 3, 3, 3, 3, 3, 3], [5, 879, 45, 7, 1193, 113, 2736, 6, 3, 3, 3, 3, 3, 3, 3, 3, 3, 3, 3, 3, 3, 3, 3, 3, 3, 3, 3, 3, 3, 3, 3, 3, 3, 3, 3, 3, 3, 3, 3, 3, 3, 3, 3, 3, 3, 3, 3, 3, 3, 3, 3, 3, 3, 3, 3, 3, 3, 3, 3, 3, 3, 3, 3, 3, 3, 3, 3], [5, 3692, 174, 208, 1535, 262, 82, 22, 8, 6, 3, 3, 3, 3, 3, 3, 3, 3, 3, 3, 3, 3, 3, 3, 3, 3, 3, 3, 3, 3, 3, 3, 3, 3, 3, 3, 3, 3, 3, 3, 3, 3, 3, 3, 3, 3, 3, 3, 3, 3, 3, 3, 3, 3, 3, 3, 3, 3, 3, 3, 3, 3, 3, 3, 3, 3, 3], [5, 3682, 2143, 351, 8, 6, 3, 3, 3, 3, 3, 3, 3, 3, 3, 3, 3, 3, 3, 3, 3, 3, 3, 3, 3, 3, 3, 3, 3, 3, 3, 3, 3, 3, 3, 3, 3, 3, 3, 3, 3, 3, 3, 3, 3, 3, 3, 3, 3, 3, 3, 3, 3, 3, 3, 3, 3, 3, 3, 3, 3, 3, 3, 3, 3, 3, 3], [5, 3693, 159, 1952, 13, 7, 10, 6, 3, 3, 3, 3, 3, 3, 3, 3, 3, 3, 3, 3, 3, 3, 3, 3, 3, 3, 3, 3, 3, 3, 3, 3, 3, 3, 3, 3, 3, 3, 3, 3, 3, 3, 3, 3, 3, 3, 3, 3, 3, 3, 3, 3, 3, 3, 3, 3, 3, 3, 3, 3, 3, 3, 3, 3, 3, 3, 3], [5, 1309, 99, 2037, 16, 1323, 225, 212, 17, 1986, 11, 11, 111, 6, 3, 3, 3, 3, 3, 3, 3, 3, 3, 3, 3, 3, 3, 3, 3, 3, 3, 3, 3, 3, 3, 3, 3, 3, 3, 3, 3, 3, 3, 3, 3, 3, 3, 3, 3, 3, 3, 3, 3, 3, 3, 3, 3, 3, 3, 3, 3, 3, 3, 3, 3, 3, 3], [5, 3676, 15, 99, 39, 2409, 1274, 8, 6, 3, 3, 3, 3, 3, 3, 3, 3, 3, 3, 3, 3, 3, 3, 3, 3, 3, 3, 3, 3, 3, 3, 3, 3, 3, 3, 3, 3, 3, 3, 3, 3, 3, 3, 3, 3, 3, 3, 3, 3, 3, 3, 3, 3, 3, 3, 3, 3, 3, 3, 3, 3, 3, 3, 3, 3, 3, 3], [5, 3693, 3305, 39, 47, 1486, 8, 6, 3, 3, 3, 3, 3, 3, 3, 3, 3, 3, 3, 3, 3, 3, 3, 3, 3, 3, 3, 3, 3, 3, 3, 3, 3, 3, 3, 3, 3, 3, 3, 3, 3, 3, 3, 3, 3, 3, 3, 3, 3, 3, 3, 3, 3, 3, 3, 3, 3, 3, 3, 3, 3, 3, 3, 3, 3, 3, 3], [5, 3671, 625, 424, 42, 60, 349, 7, 10, 6, 3, 3, 3, 3, 3, 3, 3, 3, 3, 3, 3, 3, 3, 3, 3, 3, 3, 3, 3, 3, 3, 3, 3, 3, 3, 3, 3, 3, 3, 3, 3, 3, 3, 3, 3, 3, 3, 3, 3, 3, 3, 3, 3, 3, 3, 3, 3, 3, 3, 3, 3, 3, 3, 3, 3, 3, 3], [5, 3618, 142, 31, 722, 97, 35, 967, 668, 13, 198, 17, 467, 38, 8, 6, 3, 3, 3, 3, 3, 3, 3, 3, 3, 3, 3, 3, 3, 3, 3, 3, 3, 3, 3, 3, 3, 3, 3, 3, 3, 3, 3, 3, 3, 3, 3, 3, 3, 3, 3, 3, 3, 3, 3, 3, 3, 3, 3, 3, 3, 3, 3, 3, 3, 3, 3], [5, 1309, 99, 22, 41, 1383, 70, 313, 8, 6, 3, 3, 3, 3, 3, 3, 3, 3, 3, 3, 3, 3, 3, 3, 3, 3, 3, 3, 3, 3, 3, 3, 3, 3, 3, 3, 3, 3, 3, 3, 3, 3, 3, 3, 3, 3, 3, 3, 3, 3, 3, 3, 3, 3, 3, 3, 3, 3, 3, 3, 3, 3, 3, 3, 3, 3, 3], [5, 3675, 137, 13, 218, 889, 7, 10, 6, 3, 3, 3, 3, 3, 3, 3, 3, 3, 3, 3, 3, 3, 3, 3, 3, 3, 3, 3, 3, 3, 3, 3, 3, 3, 3, 3, 3, 3, 3, 3, 3, 3, 3, 3, 3, 3, 3, 3, 3, 3, 3, 3, 3, 3, 3, 3, 3, 3, 3, 3, 3, 3, 3, 3, 3, 3, 3]]\n"
     ]
    },
    {
     "name": "stderr",
     "output_type": "stream",
     "text": [
      "\n",
      "d:\\oumar\\seagate1\\ia data forest\\master semestre 3\\vision par ordinateur\\pytorch_projects\\subject2\\wolof-translate\\wolof_translate\\trainers\\transformer_trainer.py:649: VisibleDeprecationWarning: Creating an ndarray from ragged nested sequences (which is a list-or-tuple of lists-or-tuples-or ndarrays with different lengths or shapes) is deprecated. If you meant to do this, you must specify 'dtype=object' when creating the ndarray.\n",
      "  metrics.update(self.evaluation.compute_metrics((np.array(predictions_), np.array(labels_))))\n"
     ]
    }
   ],
   "source": [
    "# evaluation with test set\n",
    "df_ft_to_wf = trainer.evaluate(test_dataset)"
   ]
  },
  {
   "cell_type": "code",
   "execution_count": 12,
   "metadata": {},
   "outputs": [
    {
     "data": {
      "text/html": [
       "<div>\n",
       "<style scoped>\n",
       "    .dataframe tbody tr th:only-of-type {\n",
       "        vertical-align: middle;\n",
       "    }\n",
       "\n",
       "    .dataframe tbody tr th {\n",
       "        vertical-align: top;\n",
       "    }\n",
       "\n",
       "    .dataframe thead th {\n",
       "        text-align: right;\n",
       "    }\n",
       "</style>\n",
       "<table border=\"1\" class=\"dataframe\">\n",
       "  <thead>\n",
       "    <tr style=\"text-align: right;\">\n",
       "      <th></th>\n",
       "      <th>original_sentences</th>\n",
       "      <th>translations</th>\n",
       "      <th>predictions</th>\n",
       "    </tr>\n",
       "  </thead>\n",
       "  <tbody>\n",
       "    <tr>\n",
       "      <th>188</th>\n",
       "      <td>Donne le travail à un autre!</td>\n",
       "      <td>Joxal kenn liggéey bi!</td>\n",
       "      <td>Deŋk na la ci gën.</td>\n",
       "    </tr>\n",
       "    <tr>\n",
       "      <th>189</th>\n",
       "      <td>Cet homme qui a été.</td>\n",
       "      <td>Góor gii demoon.</td>\n",
       "      <td>Gor gii dem.</td>\n",
       "    </tr>\n",
       "    <tr>\n",
       "      <th>190</th>\n",
       "      <td>Dites-lui.</td>\n",
       "      <td>Nileen ka.</td>\n",
       "      <td>Kaaye dey.</td>\n",
       "    </tr>\n",
       "    <tr>\n",
       "      <th>191</th>\n",
       "      <td>Il est là.</td>\n",
       "      <td>Ma ŋgoogule foofu.</td>\n",
       "      <td>Mi ŋgi foofule.</td>\n",
       "    </tr>\n",
       "    <tr>\n",
       "      <th>192</th>\n",
       "      <td>Tu vois cet homme là-bas?</td>\n",
       "      <td>Gis ŋga nit kale?</td>\n",
       "      <td>Gis ŋga nit kee?</td>\n",
       "    </tr>\n",
       "    <tr>\n",
       "      <th>193</th>\n",
       "      <td>L'homme est parti je crois!</td>\n",
       "      <td>Ma defe góor gi dem na!</td>\n",
       "      <td>Góor gi dem na ma defe.</td>\n",
       "    </tr>\n",
       "    <tr>\n",
       "      <th>194</th>\n",
       "      <td>J'ai aperçu un baobab.</td>\n",
       "      <td>Séen naa ag guy.</td>\n",
       "      <td>Séen naa aw fas.</td>\n",
       "    </tr>\n",
       "    <tr>\n",
       "      <th>195</th>\n",
       "      <td>Celui-ci serait parti.</td>\n",
       "      <td>Kii dafa demkoon.</td>\n",
       "      <td>Kii dafa demkoon.</td>\n",
       "    </tr>\n",
       "    <tr>\n",
       "      <th>196</th>\n",
       "      <td>Toutes les portes étaient ouvertes.</td>\n",
       "      <td>Bunt yi yépp a tëjju woon.</td>\n",
       "      <td>Seetal sarax su.</td>\n",
       "    </tr>\n",
       "    <tr>\n",
       "      <th>197</th>\n",
       "      <td>C'est Fatim, aujourd'hui.</td>\n",
       "      <td>Faatim la, tay.</td>\n",
       "      <td>Faatim la daal.</td>\n",
       "    </tr>\n",
       "  </tbody>\n",
       "</table>\n",
       "</div>"
      ],
      "text/plain": [
       "                      original_sentences                translations  \\\n",
       "188         Donne le travail à un autre!      Joxal kenn liggéey bi!   \n",
       "189                 Cet homme qui a été.            Góor gii demoon.   \n",
       "190                           Dites-lui.                  Nileen ka.   \n",
       "191                           Il est là.          Ma ŋgoogule foofu.   \n",
       "192            Tu vois cet homme là-bas?           Gis ŋga nit kale?   \n",
       "193          L'homme est parti je crois!     Ma defe góor gi dem na!   \n",
       "194               J'ai aperçu un baobab.            Séen naa ag guy.   \n",
       "195               Celui-ci serait parti.           Kii dafa demkoon.   \n",
       "196  Toutes les portes étaient ouvertes.  Bunt yi yépp a tëjju woon.   \n",
       "197            C'est Fatim, aujourd'hui.             Faatim la, tay.   \n",
       "\n",
       "                 predictions  \n",
       "188       Deŋk na la ci gën.  \n",
       "189             Gor gii dem.  \n",
       "190               Kaaye dey.  \n",
       "191          Mi ŋgi foofule.  \n",
       "192         Gis ŋga nit kee?  \n",
       "193  Góor gi dem na ma defe.  \n",
       "194         Séen naa aw fas.  \n",
       "195        Kii dafa demkoon.  \n",
       "196         Seetal sarax su.  \n",
       "197          Faatim la daal.  "
      ]
     },
     "execution_count": 12,
     "metadata": {},
     "output_type": "execute_result"
    }
   ],
   "source": [
    "df_ft_to_wf[1].tail(10)"
   ]
  },
  {
   "cell_type": "code",
   "execution_count": 13,
   "metadata": {},
   "outputs": [
    {
     "data": {
      "text/html": [
       "<div>\n",
       "<style scoped>\n",
       "    .dataframe tbody tr th:only-of-type {\n",
       "        vertical-align: middle;\n",
       "    }\n",
       "\n",
       "    .dataframe tbody tr th {\n",
       "        vertical-align: top;\n",
       "    }\n",
       "\n",
       "    .dataframe thead th {\n",
       "        text-align: right;\n",
       "    }\n",
       "</style>\n",
       "<table border=\"1\" class=\"dataframe\">\n",
       "  <thead>\n",
       "    <tr style=\"text-align: right;\">\n",
       "      <th></th>\n",
       "      <th>original_sentences</th>\n",
       "      <th>translations</th>\n",
       "      <th>predictions</th>\n",
       "    </tr>\n",
       "  </thead>\n",
       "  <tbody>\n",
       "    <tr>\n",
       "      <th>18</th>\n",
       "      <td>Afin que parte qui?</td>\n",
       "      <td>Ndax kan dem?</td>\n",
       "      <td>Ndax kan dem?</td>\n",
       "    </tr>\n",
       "    <tr>\n",
       "      <th>168</th>\n",
       "      <td>Tu as vu les autres amis?</td>\n",
       "      <td>Gis ŋga sa yeneen xarit yi?</td>\n",
       "      <td>Gis ŋga jigéen ñeneen ñooñu?</td>\n",
       "    </tr>\n",
       "    <tr>\n",
       "      <th>63</th>\n",
       "      <td>Quelles femmes se sont égarées?</td>\n",
       "      <td>Jigéen ñan ñoo réer?</td>\n",
       "      <td>Jigéen dañu réer?</td>\n",
       "    </tr>\n",
       "    <tr>\n",
       "      <th>175</th>\n",
       "      <td>C'est ce que tu as dit que la jeune femme préf...</td>\n",
       "      <td>Li ŋga wax la ndaw si taamu.</td>\n",
       "      <td>La ŋga wax la.</td>\n",
       "    </tr>\n",
       "    <tr>\n",
       "      <th>71</th>\n",
       "      <td>Moi-même je n'ai pas été.</td>\n",
       "      <td>Man mii demuma.</td>\n",
       "      <td>Man demuma.</td>\n",
       "    </tr>\n",
       "    <tr>\n",
       "      <th>86</th>\n",
       "      <td>Ils partent.</td>\n",
       "      <td>Dem nañu.</td>\n",
       "      <td>Ñeñeen lañu.</td>\n",
       "    </tr>\n",
       "    <tr>\n",
       "      <th>5</th>\n",
       "      <td>Les gens n'étaient pas, habituellement, bavards.</td>\n",
       "      <td>Nit ñi daawuñu coow.</td>\n",
       "      <td>Nit ñi nee nañu, Faatim la.</td>\n",
       "    </tr>\n",
       "    <tr>\n",
       "      <th>118</th>\n",
       "      <td>Bonne soirée.</td>\n",
       "      <td>Naka ngon si.</td>\n",
       "      <td>Jaam nga fanane.</td>\n",
       "    </tr>\n",
       "    <tr>\n",
       "      <th>12</th>\n",
       "      <td>Tout autre mouton que tu vois.</td>\n",
       "      <td>Meneen xar mépp moo gis.</td>\n",
       "      <td>Keneen ŋgay gis.</td>\n",
       "    </tr>\n",
       "    <tr>\n",
       "      <th>150</th>\n",
       "      <td>Une photo datant d'il y a soixante et neuf ans...</td>\n",
       "      <td>Nataalu juróom benn fukk ak juróom ñeent day w...</td>\n",
       "      <td>Dafa yëngu woon té beg lool ba mu daanal bunt ...</td>\n",
       "    </tr>\n",
       "    <tr>\n",
       "      <th>60</th>\n",
       "      <td>Mes voeux d'anniversaire.</td>\n",
       "      <td>Mangui lay ndokkel ci sa bess bu délu si bi.</td>\n",
       "      <td>Samay xarit.</td>\n",
       "    </tr>\n",
       "    <tr>\n",
       "      <th>75</th>\n",
       "      <td>Je parle de cet enfant-ci?</td>\n",
       "      <td>Xale bule laa wax?</td>\n",
       "      <td>Bule xale laa wax?</td>\n",
       "    </tr>\n",
       "    <tr>\n",
       "      <th>163</th>\n",
       "      <td>Comment se passe le travail?</td>\n",
       "      <td>Naka ligéey bi?</td>\n",
       "      <td>Naka guddi gi?</td>\n",
       "    </tr>\n",
       "    <tr>\n",
       "      <th>96</th>\n",
       "      <td>C'est son ami!</td>\n",
       "      <td>Xaritam la!</td>\n",
       "      <td>Sama xarit la.</td>\n",
       "    </tr>\n",
       "    <tr>\n",
       "      <th>113</th>\n",
       "      <td>L'homme ne cultivera pas.</td>\n",
       "      <td>Góor gi du bày.</td>\n",
       "      <td>Góor gi bëggul, na dem.</td>\n",
       "    </tr>\n",
       "    <tr>\n",
       "      <th>7</th>\n",
       "      <td>S'il n'était pas Laobe.</td>\n",
       "      <td>Su dulwoon Lawbe.</td>\n",
       "      <td>Bu demulwoon.</td>\n",
       "    </tr>\n",
       "    <tr>\n",
       "      <th>33</th>\n",
       "      <td>L'homme est allé à l'intérieur.</td>\n",
       "      <td>Góor gi dem na ci biir.</td>\n",
       "      <td>Góor gi kenn la.</td>\n",
       "    </tr>\n",
       "    <tr>\n",
       "      <th>134</th>\n",
       "      <td>Moussa vous a dit que j'étais à la retraite.</td>\n",
       "      <td>Musaa wax na leen jël naa sama retraite.</td>\n",
       "      <td>Mën neñu ci kaaraange bëy yi.</td>\n",
       "    </tr>\n",
       "    <tr>\n",
       "      <th>37</th>\n",
       "      <td>Je parle de cet homme-ci.</td>\n",
       "      <td>Kile nit laa wax.</td>\n",
       "      <td>Nit keneen kaa laa wax.</td>\n",
       "    </tr>\n",
       "    <tr>\n",
       "      <th>166</th>\n",
       "      <td>Je n'avais pas été te le cueillir.</td>\n",
       "      <td>Wattaliwuma la ka woon.</td>\n",
       "      <td>Deŋk naa la boobule woon.</td>\n",
       "    </tr>\n",
       "    <tr>\n",
       "      <th>109</th>\n",
       "      <td>Sur la photo que vous m'avez envoyée il y a de...</td>\n",
       "      <td>Nataal bi ngeen ma yónne nii de ñaari baŋ lañ ...</td>\n",
       "      <td>Waaw nataal bi ngeen ma yónnee de ab dëkku àll...</td>\n",
       "    </tr>\n",
       "    <tr>\n",
       "      <th>143</th>\n",
       "      <td>Tu as regardé dans cette chambre-ci?</td>\n",
       "      <td>Seet ŋga néeg buu?</td>\n",
       "      <td>Seet ŋga buu néeg?</td>\n",
       "    </tr>\n",
       "    <tr>\n",
       "      <th>45</th>\n",
       "      <td>Qu'il attrappe quelles vaches?</td>\n",
       "      <td>Mu japp nag yooyu yan?</td>\n",
       "      <td>Subba sangi fi?</td>\n",
       "    </tr>\n",
       "    <tr>\n",
       "      <th>157</th>\n",
       "      <td>Aucun lion ne s'est égaré.</td>\n",
       "      <td>Gayndé genn réerul.</td>\n",
       "      <td>Kenn nit réerul.</td>\n",
       "    </tr>\n",
       "    <tr>\n",
       "      <th>138</th>\n",
       "      <td>Alors il partit.</td>\n",
       "      <td>Noona mu dem.</td>\n",
       "      <td>Noonu mu jog.</td>\n",
       "    </tr>\n",
       "    <tr>\n",
       "      <th>111</th>\n",
       "      <td>C'est l'autre endroit qui n'a pas de trou.</td>\n",
       "      <td>Feneen fi bëttul la.</td>\n",
       "      <td>Deŋkël lëf li kenn ki.</td>\n",
       "    </tr>\n",
       "    <tr>\n",
       "      <th>177</th>\n",
       "      <td>L'un, dont il fut question, est parti.</td>\n",
       "      <td>Kenn ki woon dem na.</td>\n",
       "      <td>Nit ka dem na.</td>\n",
       "    </tr>\n",
       "    <tr>\n",
       "      <th>183</th>\n",
       "      <td>Mais, même moi, je n'ai pas été!</td>\n",
       "      <td>Waaye man sax dama dul ñëw!</td>\n",
       "      <td>Waaye man sax dama dul ñëw.</td>\n",
       "    </tr>\n",
       "    <tr>\n",
       "      <th>92</th>\n",
       "      <td>J'ai été jusqu'à lui.</td>\n",
       "      <td>Dem naa ba ci moom.</td>\n",
       "      <td>Dem naa ba ci moom.</td>\n",
       "    </tr>\n",
       "    <tr>\n",
       "      <th>44</th>\n",
       "      <td>Que j'attrape quelles vaches?</td>\n",
       "      <td>Ma japp nag yee yan?</td>\n",
       "      <td>Là bëggóon?</td>\n",
       "    </tr>\n",
       "    <tr>\n",
       "      <th>16</th>\n",
       "      <td>Quoi?</td>\n",
       "      <td>Lii lan?</td>\n",
       "      <td>Fu mu bëgg?</td>\n",
       "    </tr>\n",
       "    <tr>\n",
       "      <th>135</th>\n",
       "      <td>J'ai vu vache d'Europe.</td>\n",
       "      <td>Gis naa nagu Tugal.</td>\n",
       "      <td>Gis naa nagu Tugal.</td>\n",
       "    </tr>\n",
       "    <tr>\n",
       "      <th>136</th>\n",
       "      <td>Appelle l'homme qui n'est pas Kangame d'ici!</td>\n",
       "      <td>Wool góor gi dul Kajgaamu fii!</td>\n",
       "      <td>Wool góor gi dul Kajgaamu fii.</td>\n",
       "    </tr>\n",
       "    <tr>\n",
       "      <th>97</th>\n",
       "      <td>L'homme qui eût travaillé.</td>\n",
       "      <td>Waa ji liggéeykoon.</td>\n",
       "      <td>Góor gi daan liggéey.</td>\n",
       "    </tr>\n",
       "    <tr>\n",
       "      <th>22</th>\n",
       "      <td>Là-bas où?</td>\n",
       "      <td>Foofee fan?</td>\n",
       "      <td>Ci foofu?</td>\n",
       "    </tr>\n",
       "    <tr>\n",
       "      <th>194</th>\n",
       "      <td>J'ai aperçu un baobab.</td>\n",
       "      <td>Séen naa ag guy.</td>\n",
       "      <td>Séen naa aw fas.</td>\n",
       "    </tr>\n",
       "    <tr>\n",
       "      <th>126</th>\n",
       "      <td>À ceux-ci, ceux-là, à ceux qui sont là-bas.</td>\n",
       "      <td>Ñii, ñee, ñooñu.</td>\n",
       "      <td>Ci biir, ci biir a biir la.</td>\n",
       "    </tr>\n",
       "    <tr>\n",
       "      <th>4</th>\n",
       "      <td>Ce n'est pas le tambour!</td>\n",
       "      <td>Du sabar gi!</td>\n",
       "      <td>Du sabar gu rëy.</td>\n",
       "    </tr>\n",
       "    <tr>\n",
       "      <th>66</th>\n",
       "      <td>Une fois en chemin.</td>\n",
       "      <td>Su dee dem.</td>\n",
       "      <td>Jaam nga fanane.</td>\n",
       "    </tr>\n",
       "    <tr>\n",
       "      <th>123</th>\n",
       "      <td>Appelle les enfants qui n'iront nulle part.</td>\n",
       "      <td>Wool xale yi dul dem fenn.</td>\n",
       "      <td>Wool kee dul dem.</td>\n",
       "    </tr>\n",
       "    <tr>\n",
       "      <th>131</th>\n",
       "      <td>Si on va au fond des choses, c'est Fatim!</td>\n",
       "      <td>Soo demee, Faatim la!</td>\n",
       "      <td>Su góor gi seet si nit, seetat mbir mi.</td>\n",
       "    </tr>\n",
       "    <tr>\n",
       "      <th>173</th>\n",
       "      <td>Sur cette photo ci, j'y vois quelqu'un portant...</td>\n",
       "      <td>Nataal bii maa ngi ciy gis ku yor raaya Senega...</td>\n",
       "      <td>Nataal bii maa ngi ciy gis ay takk-der yu yor ...</td>\n",
       "    </tr>\n",
       "    <tr>\n",
       "      <th>26</th>\n",
       "      <td>Tu as vu celui-ci?</td>\n",
       "      <td>Gis ŋga kooku?</td>\n",
       "      <td>Gis ŋga kookale?</td>\n",
       "    </tr>\n",
       "    <tr>\n",
       "      <th>61</th>\n",
       "      <td>Attends jusqu'à demain!</td>\n",
       "      <td>Negal ba ëlëk!</td>\n",
       "      <td>Tukki ëlëk.</td>\n",
       "    </tr>\n",
       "    <tr>\n",
       "      <th>145</th>\n",
       "      <td>J'ai vu vache d'Europe.</td>\n",
       "      <td>Gis naa nagu Tugël.</td>\n",
       "      <td>Gis naa nagu Tugal.</td>\n",
       "    </tr>\n",
       "    <tr>\n",
       "      <th>83</th>\n",
       "      <td>Afin qu'il se passe quoi?</td>\n",
       "      <td>Ndax lan am?</td>\n",
       "      <td>Ndax kan réer?</td>\n",
       "    </tr>\n",
       "    <tr>\n",
       "      <th>8</th>\n",
       "      <td>C'est lui qui aime.</td>\n",
       "      <td>Moo bëgg.</td>\n",
       "      <td>Moo aimewoon.</td>\n",
       "    </tr>\n",
       "    <tr>\n",
       "      <th>141</th>\n",
       "      <td>Qui as-tu vu?</td>\n",
       "      <td>Koo gis?</td>\n",
       "      <td>Ko gis?</td>\n",
       "    </tr>\n",
       "    <tr>\n",
       "      <th>74</th>\n",
       "      <td>Sur cette photo ci, il y a des pierres qui son...</td>\n",
       "      <td>Waaw nataal bi de, ay xeer la yoo xam ni dañ d...</td>\n",
       "      <td>Nataal bii de nataal la boo xam ne verre la, v...</td>\n",
       "    </tr>\n",
       "    <tr>\n",
       "      <th>187</th>\n",
       "      <td>La réunion ce n'est pas après-demain?</td>\n",
       "      <td>Ndaje mi du gannaaw ëlëk?</td>\n",
       "      <td>Bu góor gi seet?</td>\n",
       "    </tr>\n",
       "    <tr>\n",
       "      <th>98</th>\n",
       "      <td>C'est un bûcheron.</td>\n",
       "      <td>Aw lawbe la.</td>\n",
       "      <td>Seni gëñ la.</td>\n",
       "    </tr>\n",
       "    <tr>\n",
       "      <th>55</th>\n",
       "      <td>Cherche l'autre.</td>\n",
       "      <td>Seetal beneen bi.</td>\n",
       "      <td>Setal keneen ki rekk.</td>\n",
       "    </tr>\n",
       "    <tr>\n",
       "      <th>144</th>\n",
       "      <td>Un homme de courage n'abonde pas en paroles.</td>\n",
       "      <td>Jambaar du bare wax.</td>\n",
       "      <td>Jambaar du bare wax.</td>\n",
       "    </tr>\n",
       "    <tr>\n",
       "      <th>162</th>\n",
       "      <td>Dis à l'homme de partir!</td>\n",
       "      <td>Waxal góor gi mu dem!</td>\n",
       "      <td>Waxal góor gi bëggul dem.</td>\n",
       "    </tr>\n",
       "    <tr>\n",
       "      <th>24</th>\n",
       "      <td>Je crois que ce n'est pas celui-ci!</td>\n",
       "      <td>Du kii, defe naa!</td>\n",
       "      <td>Defe naa du kookuu.</td>\n",
       "    </tr>\n",
       "    <tr>\n",
       "      <th>30</th>\n",
       "      <td>L'homme partit.</td>\n",
       "      <td>Góor gi dem.</td>\n",
       "      <td>Góor gi bëgg na.</td>\n",
       "    </tr>\n",
       "    <tr>\n",
       "      <th>112</th>\n",
       "      <td>Mets de l'ordre à l'intérieur seulement!</td>\n",
       "      <td>Defaral ci biir rekk!</td>\n",
       "      <td>Waayeŋkël lëf li kenn ki.</td>\n",
       "    </tr>\n",
       "    <tr>\n",
       "      <th>40</th>\n",
       "      <td>Le voilà assis là-bas.</td>\n",
       "      <td>Ma ŋgii toog.</td>\n",
       "      <td>Ñu ŋgi toog.</td>\n",
       "    </tr>\n",
       "    <tr>\n",
       "      <th>56</th>\n",
       "      <td>Qui sont-ils?</td>\n",
       "      <td>Ñan lañu?</td>\n",
       "      <td>Kan la?</td>\n",
       "    </tr>\n",
       "    <tr>\n",
       "      <th>179</th>\n",
       "      <td>La femme et l'homme non plus ne désirent s'ent...</td>\n",
       "      <td>Ndaw si ak waa ji itam dañu bëggul déggoo.</td>\n",
       "      <td>Jigéen ji ag góor gi ñjool lañu.</td>\n",
       "    </tr>\n",
       "    <tr>\n",
       "      <th>139</th>\n",
       "      <td>Comment t'appelles-tu?</td>\n",
       "      <td>Noo tudd?</td>\n",
       "      <td>Naka-nga sant?</td>\n",
       "    </tr>\n",
       "    <tr>\n",
       "      <th>80</th>\n",
       "      <td>Il l'a battu à tel point qu'il est là.</td>\n",
       "      <td>Dóor na ka ba mi ŋgi.</td>\n",
       "      <td>Dóor na ka mi ŋgi.</td>\n",
       "    </tr>\n",
       "    <tr>\n",
       "      <th>19</th>\n",
       "      <td>J'ai vu l'ovin mâle.</td>\n",
       "      <td>Gis naa xar mu góor ma.</td>\n",
       "      <td>Gis naa ma mu góor ma.</td>\n",
       "    </tr>\n",
       "    <tr>\n",
       "      <th>159</th>\n",
       "      <td>L'homme a donné quelque chose à quelqu'un.</td>\n",
       "      <td>Góor gi may na dara nit.</td>\n",
       "      <td>Góor gi may na nit dara.</td>\n",
       "    </tr>\n",
       "    <tr>\n",
       "      <th>90</th>\n",
       "      <td>C'est là jusqu'au moment où nous trouverons un...</td>\n",
       "      <td>Foofu la ba ba ñuy gis feneen.</td>\n",
       "      <td>Fi ŋgeen demkoon la.</td>\n",
       "    </tr>\n",
       "    <tr>\n",
       "      <th>54</th>\n",
       "      <td>Ils ont tous convenu qu'ils travailleraient to...</td>\n",
       "      <td>Degganté ñu ñoom ñép ci lu ñép di liggéeyi ci ...</td>\n",
       "      <td>Ñu ngir ndax mu meddi.</td>\n",
       "    </tr>\n",
       "    <tr>\n",
       "      <th>161</th>\n",
       "      <td>J'irai aujourd'hui!</td>\n",
       "      <td>Tay danaa dem!</td>\n",
       "      <td>Dinaa dem tay.</td>\n",
       "    </tr>\n",
       "    <tr>\n",
       "      <th>51</th>\n",
       "      <td>C'est bon?</td>\n",
       "      <td>Baax na?</td>\n",
       "      <td>Neex na?</td>\n",
       "    </tr>\n",
       "    <tr>\n",
       "      <th>130</th>\n",
       "      <td>Où est le maître de maison?</td>\n",
       "      <td>Ana boroom kër gi?</td>\n",
       "      <td>Ana góor gi?</td>\n",
       "    </tr>\n",
       "    <tr>\n",
       "      <th>137</th>\n",
       "      <td>Cela seulement ne suffit pas.</td>\n",
       "      <td>Loolu doŋŋ doyul.</td>\n",
       "      <td>Loolu doŋŋ.</td>\n",
       "    </tr>\n",
       "    <tr>\n",
       "      <th>180</th>\n",
       "      <td>Sur cette photo datant d'il y a trente sept an...</td>\n",
       "      <td>Nataalu fanweer ak juróom-ñaar, maa ngi ci gis...</td>\n",
       "      <td>Waaw lii de ab nataal la boog. Maa ngi gis ñaa...</td>\n",
       "    </tr>\n",
       "    <tr>\n",
       "      <th>89</th>\n",
       "      <td>L'homme peut-il aller à Rao?</td>\n",
       "      <td>Góor gi dem Rao?</td>\n",
       "      <td>Góor gi dem?</td>\n",
       "    </tr>\n",
       "    <tr>\n",
       "      <th>125</th>\n",
       "      <td>L'homme a tenu aux enfants de bons propos.</td>\n",
       "      <td>Góor gi wax na xale yi wax ju rafet.</td>\n",
       "      <td>Góor gi nee mi ŋgi fi soo demee.</td>\n",
       "    </tr>\n",
       "    <tr>\n",
       "      <th>178</th>\n",
       "      <td>L'homme a fait un cadeau à Bathe.</td>\n",
       "      <td>Góor gi may na Bacc.</td>\n",
       "      <td>Góor gi nee mi ŋgi fi soo demee.</td>\n",
       "    </tr>\n",
       "    <tr>\n",
       "      <th>182</th>\n",
       "      <td>Tu ne vas pas ailleurs!</td>\n",
       "      <td>Demuloo feneen!</td>\n",
       "      <td>Demuloo fenn.</td>\n",
       "    </tr>\n",
       "    <tr>\n",
       "      <th>107</th>\n",
       "      <td>Ceci est, cependant, une porte conçue avec du ...</td>\n",
       "      <td>Lii nag ab buntu la boo xam ne ndénk lanu ko d...</td>\n",
       "      <td>Lii nag ab bool lii ab àll la, àll bi dañ koo ...</td>\n",
       "    </tr>\n",
       "    <tr>\n",
       "      <th>14</th>\n",
       "      <td>Bon matin.</td>\n",
       "      <td>Jaam nga fanane.</td>\n",
       "      <td>Demleen.</td>\n",
       "    </tr>\n",
       "    <tr>\n",
       "      <th>27</th>\n",
       "      <td>Tu as vu tes autres amis?</td>\n",
       "      <td>Gis ŋga sa xarit yeneen yi?</td>\n",
       "      <td>Gis ŋga sa yan xarit?</td>\n",
       "    </tr>\n",
       "    <tr>\n",
       "      <th>122</th>\n",
       "      <td>Cette photo ci c'est une photo sur laquelle je...</td>\n",
       "      <td>Nataal bi ab nataal la boo xamante yni maa ngi...</td>\n",
       "      <td>Lii ab nataal la boo xam ne ab tabax bu yaatu ...</td>\n",
       "    </tr>\n",
       "    <tr>\n",
       "      <th>195</th>\n",
       "      <td>Celui-ci serait parti.</td>\n",
       "      <td>Kii dafa demkoon.</td>\n",
       "      <td>Kii dafa demkoon.</td>\n",
       "    </tr>\n",
       "    <tr>\n",
       "      <th>46</th>\n",
       "      <td>Homme et lion ne peuvent cohabiter ensemble.</td>\n",
       "      <td>Nit ag gaynde duñu dëkkóo.</td>\n",
       "      <td>Nit ag gaynde duñu dëkkóo.</td>\n",
       "    </tr>\n",
       "    <tr>\n",
       "      <th>193</th>\n",
       "      <td>L'homme est parti je crois!</td>\n",
       "      <td>Ma defe góor gi dem na!</td>\n",
       "      <td>Góor gi dem na ma defe.</td>\n",
       "    </tr>\n",
       "    <tr>\n",
       "      <th>106</th>\n",
       "      <td>Dis-lui qu'il ne vienne pas.</td>\n",
       "      <td>Ni ka bu mu ñëw.</td>\n",
       "      <td>Bi mu dee dem.</td>\n",
       "    </tr>\n",
       "    <tr>\n",
       "      <th>62</th>\n",
       "      <td>Que la paix soit avec toi aussi.</td>\n",
       "      <td>Maaleekum salaam.</td>\n",
       "      <td>Salaam maaleekum.</td>\n",
       "    </tr>\n",
       "    <tr>\n",
       "      <th>2</th>\n",
       "      <td>Qui a parlé?</td>\n",
       "      <td>Ku wax?</td>\n",
       "      <td>Ku def lii.</td>\n",
       "    </tr>\n",
       "    <tr>\n",
       "      <th>59</th>\n",
       "      <td>Surtout pars!</td>\n",
       "      <td>Te ŋga dem kat!</td>\n",
       "      <td>Te nag!</td>\n",
       "    </tr>\n",
       "    <tr>\n",
       "      <th>158</th>\n",
       "      <td>Quels chevaux voulais-tu et lequel as-tu pris?</td>\n",
       "      <td>Yan fas ŋga bëggoon ak wan ŋga japp?</td>\n",
       "      <td>Fas yéen?</td>\n",
       "    </tr>\n",
       "    <tr>\n",
       "      <th>197</th>\n",
       "      <td>C'est Fatim, aujourd'hui.</td>\n",
       "      <td>Faatim la, tay.</td>\n",
       "      <td>Faatim la daal.</td>\n",
       "    </tr>\n",
       "    <tr>\n",
       "      <th>43</th>\n",
       "      <td>Comme il avait ainsi été en ce lieu.</td>\n",
       "      <td>Noonu mu demoon foofa.</td>\n",
       "      <td>Noonu, muy lieu.</td>\n",
       "    </tr>\n",
       "    <tr>\n",
       "      <th>10</th>\n",
       "      <td>J'ai vu lion.</td>\n",
       "      <td>Gis naa gaynde.</td>\n",
       "      <td>Gis naa lion.</td>\n",
       "    </tr>\n",
       "    <tr>\n",
       "      <th>101</th>\n",
       "      <td>C'est un homme qui fut bon!</td>\n",
       "      <td>Nit ku baaxoon la!</td>\n",
       "      <td>Nit la ku baax.</td>\n",
       "    </tr>\n",
       "    <tr>\n",
       "      <th>73</th>\n",
       "      <td>Certaines personnes ne sont pas encore arrivées.</td>\n",
       "      <td>Ñenn nit ñi yegseeguñu.</td>\n",
       "      <td>Nit ñenn ñi yegseeguñu.</td>\n",
       "    </tr>\n",
       "    <tr>\n",
       "      <th>190</th>\n",
       "      <td>Dites-lui.</td>\n",
       "      <td>Nileen ka.</td>\n",
       "      <td>Kaaye dey.</td>\n",
       "    </tr>\n",
       "    <tr>\n",
       "      <th>176</th>\n",
       "      <td>J'ai vu un mouton.</td>\n",
       "      <td>Gis naa am xar.</td>\n",
       "      <td>Gis naa gaynde.</td>\n",
       "    </tr>\n",
       "    <tr>\n",
       "      <th>146</th>\n",
       "      <td>Jusqu'ici, c'est bon.</td>\n",
       "      <td>Ba fi, mu tollu.</td>\n",
       "      <td>Mbaa defuñu dara.</td>\n",
       "    </tr>\n",
       "    <tr>\n",
       "      <th>124</th>\n",
       "      <td>J'ai aperçu un homme.</td>\n",
       "      <td>Séen naa ak nit.</td>\n",
       "      <td>Séen naa gaynde.</td>\n",
       "    </tr>\n",
       "    <tr>\n",
       "      <th>93</th>\n",
       "      <td>C'est cet autre-là?</td>\n",
       "      <td>Kookule la?</td>\n",
       "      <td>Kenn kookale?</td>\n",
       "    </tr>\n",
       "    <tr>\n",
       "      <th>110</th>\n",
       "      <td>C'est le Laobe.</td>\n",
       "      <td>Moo di Lawbe bi.</td>\n",
       "      <td>Dama bëgg dem.</td>\n",
       "    </tr>\n",
       "    <tr>\n",
       "      <th>156</th>\n",
       "      <td>Bonne nuit.</td>\n",
       "      <td>Fanaanal jaam.</td>\n",
       "      <td>Màa ngui lay niróo.</td>\n",
       "    </tr>\n",
       "    <tr>\n",
       "      <th>189</th>\n",
       "      <td>Cet homme qui a été.</td>\n",
       "      <td>Góor gii demoon.</td>\n",
       "      <td>Gor gii dem.</td>\n",
       "    </tr>\n",
       "  </tbody>\n",
       "</table>\n",
       "</div>"
      ],
      "text/plain": [
       "                                    original_sentences  \\\n",
       "18                                 Afin que parte qui?   \n",
       "168                          Tu as vu les autres amis?   \n",
       "63                     Quelles femmes se sont égarées?   \n",
       "175  C'est ce que tu as dit que la jeune femme préf...   \n",
       "71                           Moi-même je n'ai pas été.   \n",
       "86                                        Ils partent.   \n",
       "5     Les gens n'étaient pas, habituellement, bavards.   \n",
       "118                                      Bonne soirée.   \n",
       "12                      Tout autre mouton que tu vois.   \n",
       "150  Une photo datant d'il y a soixante et neuf ans...   \n",
       "60                           Mes voeux d'anniversaire.   \n",
       "75                          Je parle de cet enfant-ci?   \n",
       "163                       Comment se passe le travail?   \n",
       "96                                      C'est son ami!   \n",
       "113                          L'homme ne cultivera pas.   \n",
       "7                              S'il n'était pas Laobe.   \n",
       "33                     L'homme est allé à l'intérieur.   \n",
       "134       Moussa vous a dit que j'étais à la retraite.   \n",
       "37                           Je parle de cet homme-ci.   \n",
       "166                 Je n'avais pas été te le cueillir.   \n",
       "109  Sur la photo que vous m'avez envoyée il y a de...   \n",
       "143               Tu as regardé dans cette chambre-ci?   \n",
       "45                      Qu'il attrappe quelles vaches?   \n",
       "157                         Aucun lion ne s'est égaré.   \n",
       "138                                   Alors il partit.   \n",
       "111         C'est l'autre endroit qui n'a pas de trou.   \n",
       "177             L'un, dont il fut question, est parti.   \n",
       "183                   Mais, même moi, je n'ai pas été!   \n",
       "92                               J'ai été jusqu'à lui.   \n",
       "44                       Que j'attrape quelles vaches?   \n",
       "16                                               Quoi?   \n",
       "135                            J'ai vu vache d'Europe.   \n",
       "136       Appelle l'homme qui n'est pas Kangame d'ici!   \n",
       "97                          L'homme qui eût travaillé.   \n",
       "22                                          Là-bas où?   \n",
       "194                             J'ai aperçu un baobab.   \n",
       "126        À ceux-ci, ceux-là, à ceux qui sont là-bas.   \n",
       "4                             Ce n'est pas le tambour!   \n",
       "66                                 Une fois en chemin.   \n",
       "123        Appelle les enfants qui n'iront nulle part.   \n",
       "131          Si on va au fond des choses, c'est Fatim!   \n",
       "173  Sur cette photo ci, j'y vois quelqu'un portant...   \n",
       "26                                  Tu as vu celui-ci?   \n",
       "61                             Attends jusqu'à demain!   \n",
       "145                            J'ai vu vache d'Europe.   \n",
       "83                           Afin qu'il se passe quoi?   \n",
       "8                                  C'est lui qui aime.   \n",
       "141                                      Qui as-tu vu?   \n",
       "74   Sur cette photo ci, il y a des pierres qui son...   \n",
       "187              La réunion ce n'est pas après-demain?   \n",
       "98                                  C'est un bûcheron.   \n",
       "55                                    Cherche l'autre.   \n",
       "144       Un homme de courage n'abonde pas en paroles.   \n",
       "162                           Dis à l'homme de partir!   \n",
       "24                 Je crois que ce n'est pas celui-ci!   \n",
       "30                                     L'homme partit.   \n",
       "112           Mets de l'ordre à l'intérieur seulement!   \n",
       "40                              Le voilà assis là-bas.   \n",
       "56                                       Qui sont-ils?   \n",
       "179  La femme et l'homme non plus ne désirent s'ent...   \n",
       "139                             Comment t'appelles-tu?   \n",
       "80              Il l'a battu à tel point qu'il est là.   \n",
       "19                                J'ai vu l'ovin mâle.   \n",
       "159         L'homme a donné quelque chose à quelqu'un.   \n",
       "90   C'est là jusqu'au moment où nous trouverons un...   \n",
       "54   Ils ont tous convenu qu'ils travailleraient to...   \n",
       "161                                J'irai aujourd'hui!   \n",
       "51                                          C'est bon?   \n",
       "130                        Où est le maître de maison?   \n",
       "137                      Cela seulement ne suffit pas.   \n",
       "180  Sur cette photo datant d'il y a trente sept an...   \n",
       "89                        L'homme peut-il aller à Rao?   \n",
       "125         L'homme a tenu aux enfants de bons propos.   \n",
       "178                  L'homme a fait un cadeau à Bathe.   \n",
       "182                            Tu ne vas pas ailleurs!   \n",
       "107  Ceci est, cependant, une porte conçue avec du ...   \n",
       "14                                          Bon matin.   \n",
       "27                           Tu as vu tes autres amis?   \n",
       "122  Cette photo ci c'est une photo sur laquelle je...   \n",
       "195                             Celui-ci serait parti.   \n",
       "46        Homme et lion ne peuvent cohabiter ensemble.   \n",
       "193                        L'homme est parti je crois!   \n",
       "106                       Dis-lui qu'il ne vienne pas.   \n",
       "62                    Que la paix soit avec toi aussi.   \n",
       "2                                         Qui a parlé?   \n",
       "59                                       Surtout pars!   \n",
       "158     Quels chevaux voulais-tu et lequel as-tu pris?   \n",
       "197                          C'est Fatim, aujourd'hui.   \n",
       "43                Comme il avait ainsi été en ce lieu.   \n",
       "10                                       J'ai vu lion.   \n",
       "101                        C'est un homme qui fut bon!   \n",
       "73    Certaines personnes ne sont pas encore arrivées.   \n",
       "190                                         Dites-lui.   \n",
       "176                                 J'ai vu un mouton.   \n",
       "146                              Jusqu'ici, c'est bon.   \n",
       "124                              J'ai aperçu un homme.   \n",
       "93                                 C'est cet autre-là?   \n",
       "110                                    C'est le Laobe.   \n",
       "156                                        Bonne nuit.   \n",
       "189                               Cet homme qui a été.   \n",
       "\n",
       "                                          translations  \\\n",
       "18                                       Ndax kan dem?   \n",
       "168                        Gis ŋga sa yeneen xarit yi?   \n",
       "63                                Jigéen ñan ñoo réer?   \n",
       "175                       Li ŋga wax la ndaw si taamu.   \n",
       "71                                     Man mii demuma.   \n",
       "86                                           Dem nañu.   \n",
       "5                                 Nit ñi daawuñu coow.   \n",
       "118                                      Naka ngon si.   \n",
       "12                            Meneen xar mépp moo gis.   \n",
       "150  Nataalu juróom benn fukk ak juróom ñeent day w...   \n",
       "60        Mangui lay ndokkel ci sa bess bu délu si bi.   \n",
       "75                                  Xale bule laa wax?   \n",
       "163                                    Naka ligéey bi?   \n",
       "96                                         Xaritam la!   \n",
       "113                                    Góor gi du bày.   \n",
       "7                                    Su dulwoon Lawbe.   \n",
       "33                             Góor gi dem na ci biir.   \n",
       "134           Musaa wax na leen jël naa sama retraite.   \n",
       "37                                   Kile nit laa wax.   \n",
       "166                            Wattaliwuma la ka woon.   \n",
       "109  Nataal bi ngeen ma yónne nii de ñaari baŋ lañ ...   \n",
       "143                                 Seet ŋga néeg buu?   \n",
       "45                              Mu japp nag yooyu yan?   \n",
       "157                                Gayndé genn réerul.   \n",
       "138                                      Noona mu dem.   \n",
       "111                               Feneen fi bëttul la.   \n",
       "177                               Kenn ki woon dem na.   \n",
       "183                        Waaye man sax dama dul ñëw!   \n",
       "92                                 Dem naa ba ci moom.   \n",
       "44                                Ma japp nag yee yan?   \n",
       "16                                            Lii lan?   \n",
       "135                                Gis naa nagu Tugal.   \n",
       "136                     Wool góor gi dul Kajgaamu fii!   \n",
       "97                                 Waa ji liggéeykoon.   \n",
       "22                                         Foofee fan?   \n",
       "194                                   Séen naa ag guy.   \n",
       "126                                   Ñii, ñee, ñooñu.   \n",
       "4                                         Du sabar gi!   \n",
       "66                                         Su dee dem.   \n",
       "123                         Wool xale yi dul dem fenn.   \n",
       "131                              Soo demee, Faatim la!   \n",
       "173  Nataal bii maa ngi ciy gis ku yor raaya Senega...   \n",
       "26                                      Gis ŋga kooku?   \n",
       "61                                      Negal ba ëlëk!   \n",
       "145                                Gis naa nagu Tugël.   \n",
       "83                                        Ndax lan am?   \n",
       "8                                            Moo bëgg.   \n",
       "141                                           Koo gis?   \n",
       "74   Waaw nataal bi de, ay xeer la yoo xam ni dañ d...   \n",
       "187                          Ndaje mi du gannaaw ëlëk?   \n",
       "98                                        Aw lawbe la.   \n",
       "55                                   Seetal beneen bi.   \n",
       "144                               Jambaar du bare wax.   \n",
       "162                              Waxal góor gi mu dem!   \n",
       "24                                   Du kii, defe naa!   \n",
       "30                                        Góor gi dem.   \n",
       "112                              Defaral ci biir rekk!   \n",
       "40                                       Ma ŋgii toog.   \n",
       "56                                           Ñan lañu?   \n",
       "179         Ndaw si ak waa ji itam dañu bëggul déggoo.   \n",
       "139                                          Noo tudd?   \n",
       "80                               Dóor na ka ba mi ŋgi.   \n",
       "19                             Gis naa xar mu góor ma.   \n",
       "159                           Góor gi may na dara nit.   \n",
       "90                      Foofu la ba ba ñuy gis feneen.   \n",
       "54   Degganté ñu ñoom ñép ci lu ñép di liggéeyi ci ...   \n",
       "161                                     Tay danaa dem!   \n",
       "51                                            Baax na?   \n",
       "130                                 Ana boroom kër gi?   \n",
       "137                                  Loolu doŋŋ doyul.   \n",
       "180  Nataalu fanweer ak juróom-ñaar, maa ngi ci gis...   \n",
       "89                                    Góor gi dem Rao?   \n",
       "125               Góor gi wax na xale yi wax ju rafet.   \n",
       "178                               Góor gi may na Bacc.   \n",
       "182                                    Demuloo feneen!   \n",
       "107  Lii nag ab buntu la boo xam ne ndénk lanu ko d...   \n",
       "14                                    Jaam nga fanane.   \n",
       "27                         Gis ŋga sa xarit yeneen yi?   \n",
       "122  Nataal bi ab nataal la boo xamante yni maa ngi...   \n",
       "195                                  Kii dafa demkoon.   \n",
       "46                          Nit ag gaynde duñu dëkkóo.   \n",
       "193                            Ma defe góor gi dem na!   \n",
       "106                                   Ni ka bu mu ñëw.   \n",
       "62                                   Maaleekum salaam.   \n",
       "2                                              Ku wax?   \n",
       "59                                     Te ŋga dem kat!   \n",
       "158               Yan fas ŋga bëggoon ak wan ŋga japp?   \n",
       "197                                    Faatim la, tay.   \n",
       "43                              Noonu mu demoon foofa.   \n",
       "10                                     Gis naa gaynde.   \n",
       "101                                 Nit ku baaxoon la!   \n",
       "73                             Ñenn nit ñi yegseeguñu.   \n",
       "190                                         Nileen ka.   \n",
       "176                                    Gis naa am xar.   \n",
       "146                                   Ba fi, mu tollu.   \n",
       "124                                   Séen naa ak nit.   \n",
       "93                                         Kookule la?   \n",
       "110                                   Moo di Lawbe bi.   \n",
       "156                                     Fanaanal jaam.   \n",
       "189                                   Góor gii demoon.   \n",
       "\n",
       "                                           predictions  \n",
       "18                                       Ndax kan dem?  \n",
       "168                       Gis ŋga jigéen ñeneen ñooñu?  \n",
       "63                                   Jigéen dañu réer?  \n",
       "175                                     La ŋga wax la.  \n",
       "71                                         Man demuma.  \n",
       "86                                        Ñeñeen lañu.  \n",
       "5                          Nit ñi nee nañu, Faatim la.  \n",
       "118                                   Jaam nga fanane.  \n",
       "12                                    Keneen ŋgay gis.  \n",
       "150  Dafa yëngu woon té beg lool ba mu daanal bunt ...  \n",
       "60                                        Samay xarit.  \n",
       "75                                  Bule xale laa wax?  \n",
       "163                                     Naka guddi gi?  \n",
       "96                                      Sama xarit la.  \n",
       "113                            Góor gi bëggul, na dem.  \n",
       "7                                        Bu demulwoon.  \n",
       "33                                    Góor gi kenn la.  \n",
       "134                      Mën neñu ci kaaraange bëy yi.  \n",
       "37                             Nit keneen kaa laa wax.  \n",
       "166                          Deŋk naa la boobule woon.  \n",
       "109  Waaw nataal bi ngeen ma yónnee de ab dëkku àll...  \n",
       "143                                 Seet ŋga buu néeg?  \n",
       "45                                     Subba sangi fi?  \n",
       "157                                   Kenn nit réerul.  \n",
       "138                                      Noonu mu jog.  \n",
       "111                             Deŋkël lëf li kenn ki.  \n",
       "177                                     Nit ka dem na.  \n",
       "183                        Waaye man sax dama dul ñëw.  \n",
       "92                                 Dem naa ba ci moom.  \n",
       "44                                         Là bëggóon?  \n",
       "16                                         Fu mu bëgg?  \n",
       "135                                Gis naa nagu Tugal.  \n",
       "136                     Wool góor gi dul Kajgaamu fii.  \n",
       "97                               Góor gi daan liggéey.  \n",
       "22                                           Ci foofu?  \n",
       "194                                   Séen naa aw fas.  \n",
       "126                        Ci biir, ci biir a biir la.  \n",
       "4                                     Du sabar gu rëy.  \n",
       "66                                    Jaam nga fanane.  \n",
       "123                                  Wool kee dul dem.  \n",
       "131            Su góor gi seet si nit, seetat mbir mi.  \n",
       "173  Nataal bii maa ngi ciy gis ay takk-der yu yor ...  \n",
       "26                                    Gis ŋga kookale?  \n",
       "61                                         Tukki ëlëk.  \n",
       "145                                Gis naa nagu Tugal.  \n",
       "83                                      Ndax kan réer?  \n",
       "8                                        Moo aimewoon.  \n",
       "141                                            Ko gis?  \n",
       "74   Nataal bii de nataal la boo xam ne verre la, v...  \n",
       "187                                   Bu góor gi seet?  \n",
       "98                                        Seni gëñ la.  \n",
       "55                               Setal keneen ki rekk.  \n",
       "144                               Jambaar du bare wax.  \n",
       "162                          Waxal góor gi bëggul dem.  \n",
       "24                                 Defe naa du kookuu.  \n",
       "30                                    Góor gi bëgg na.  \n",
       "112                          Waayeŋkël lëf li kenn ki.  \n",
       "40                                        Ñu ŋgi toog.  \n",
       "56                                             Kan la?  \n",
       "179                   Jigéen ji ag góor gi ñjool lañu.  \n",
       "139                                     Naka-nga sant?  \n",
       "80                                  Dóor na ka mi ŋgi.  \n",
       "19                              Gis naa ma mu góor ma.  \n",
       "159                           Góor gi may na nit dara.  \n",
       "90                                Fi ŋgeen demkoon la.  \n",
       "54                              Ñu ngir ndax mu meddi.  \n",
       "161                                     Dinaa dem tay.  \n",
       "51                                            Neex na?  \n",
       "130                                       Ana góor gi?  \n",
       "137                                        Loolu doŋŋ.  \n",
       "180  Waaw lii de ab nataal la boog. Maa ngi gis ñaa...  \n",
       "89                                        Góor gi dem?  \n",
       "125                   Góor gi nee mi ŋgi fi soo demee.  \n",
       "178                   Góor gi nee mi ŋgi fi soo demee.  \n",
       "182                                      Demuloo fenn.  \n",
       "107  Lii nag ab bool lii ab àll la, àll bi dañ koo ...  \n",
       "14                                            Demleen.  \n",
       "27                               Gis ŋga sa yan xarit?  \n",
       "122  Lii ab nataal la boo xam ne ab tabax bu yaatu ...  \n",
       "195                                  Kii dafa demkoon.  \n",
       "46                          Nit ag gaynde duñu dëkkóo.  \n",
       "193                            Góor gi dem na ma defe.  \n",
       "106                                     Bi mu dee dem.  \n",
       "62                                   Salaam maaleekum.  \n",
       "2                                          Ku def lii.  \n",
       "59                                             Te nag!  \n",
       "158                                          Fas yéen?  \n",
       "197                                    Faatim la daal.  \n",
       "43                                    Noonu, muy lieu.  \n",
       "10                                       Gis naa lion.  \n",
       "101                                    Nit la ku baax.  \n",
       "73                             Nit ñenn ñi yegseeguñu.  \n",
       "190                                         Kaaye dey.  \n",
       "176                                    Gis naa gaynde.  \n",
       "146                                  Mbaa defuñu dara.  \n",
       "124                                   Séen naa gaynde.  \n",
       "93                                       Kenn kookale?  \n",
       "110                                     Dama bëgg dem.  \n",
       "156                                Màa ngui lay niróo.  \n",
       "189                                       Gor gii dem.  "
      ]
     },
     "execution_count": 13,
     "metadata": {},
     "output_type": "execute_result"
    }
   ],
   "source": [
    "# let us display 100 samples\n",
    "pd.options.display.max_rows = 100\n",
    "df_ft_to_wf[1].sample(100)"
   ]
  },
  {
   "cell_type": "code",
   "execution_count": null,
   "metadata": {},
   "outputs": [],
   "source": []
  }
 ],
 "metadata": {
  "accelerator": "GPU",
  "colab": {
   "gpuType": "T4",
   "provenance": []
  },
  "gpuClass": "standard",
  "kernelspec": {
   "display_name": "conda_pytorch_p310",
   "language": "python",
   "name": "conda_pytorch_p310"
  },
  "language_info": {
   "codemirror_mode": {
    "name": "ipython",
    "version": 3
   },
   "file_extension": ".py",
   "mimetype": "text/x-python",
   "name": "python",
   "nbconvert_exporter": "python",
   "pygments_lexer": "ipython3",
   "version": "3.10.10"
  },
  "widgets": {
   "application/vnd.jupyter.widget-state+json": {
    "07b148611e0445068ec4ae2a289f968d": {
     "model_module": "@jupyter-widgets/base",
     "model_module_version": "1.2.0",
     "model_name": "LayoutModel",
     "state": {
      "_model_module": "@jupyter-widgets/base",
      "_model_module_version": "1.2.0",
      "_model_name": "LayoutModel",
      "_view_count": null,
      "_view_module": "@jupyter-widgets/base",
      "_view_module_version": "1.2.0",
      "_view_name": "LayoutView",
      "align_content": null,
      "align_items": null,
      "align_self": null,
      "border": null,
      "bottom": null,
      "display": null,
      "flex": null,
      "flex_flow": null,
      "grid_area": null,
      "grid_auto_columns": null,
      "grid_auto_flow": null,
      "grid_auto_rows": null,
      "grid_column": null,
      "grid_gap": null,
      "grid_row": null,
      "grid_template_areas": null,
      "grid_template_columns": null,
      "grid_template_rows": null,
      "height": null,
      "justify_content": null,
      "justify_items": null,
      "left": null,
      "margin": null,
      "max_height": null,
      "max_width": null,
      "min_height": null,
      "min_width": null,
      "object_fit": null,
      "object_position": null,
      "order": null,
      "overflow": null,
      "overflow_x": null,
      "overflow_y": null,
      "padding": null,
      "right": null,
      "top": null,
      "visibility": null,
      "width": null
     }
    },
    "08fc0c2dc9b94689b80e085b682e54a5": {
     "model_module": "@jupyter-widgets/controls",
     "model_module_version": "1.5.0",
     "model_name": "LabelModel",
     "state": {
      "_dom_classes": [],
      "_model_module": "@jupyter-widgets/controls",
      "_model_module_version": "1.5.0",
      "_model_name": "LabelModel",
      "_view_count": null,
      "_view_module": "@jupyter-widgets/controls",
      "_view_module_version": "1.5.0",
      "_view_name": "LabelView",
      "description": "",
      "description_tooltip": null,
      "layout": "IPY_MODEL_07b148611e0445068ec4ae2a289f968d",
      "placeholder": "​",
      "style": "IPY_MODEL_4b5ea7f279854a01aaa4f5043372df2d",
      "value": "0.009 MB of 0.009 MB uploaded (0.000 MB deduped)\r"
     }
    },
    "347e2725b013421a951237d46b26d5e3": {
     "model_module": "@jupyter-widgets/controls",
     "model_module_version": "1.5.0",
     "model_name": "ProgressStyleModel",
     "state": {
      "_model_module": "@jupyter-widgets/controls",
      "_model_module_version": "1.5.0",
      "_model_name": "ProgressStyleModel",
      "_view_count": null,
      "_view_module": "@jupyter-widgets/base",
      "_view_module_version": "1.2.0",
      "_view_name": "StyleView",
      "bar_color": null,
      "description_width": ""
     }
    },
    "378d2507f5d5418681817fdbe4f227fd": {
     "model_module": "@jupyter-widgets/base",
     "model_module_version": "1.2.0",
     "model_name": "LayoutModel",
     "state": {
      "_model_module": "@jupyter-widgets/base",
      "_model_module_version": "1.2.0",
      "_model_name": "LayoutModel",
      "_view_count": null,
      "_view_module": "@jupyter-widgets/base",
      "_view_module_version": "1.2.0",
      "_view_name": "LayoutView",
      "align_content": null,
      "align_items": null,
      "align_self": null,
      "border": null,
      "bottom": null,
      "display": null,
      "flex": null,
      "flex_flow": null,
      "grid_area": null,
      "grid_auto_columns": null,
      "grid_auto_flow": null,
      "grid_auto_rows": null,
      "grid_column": null,
      "grid_gap": null,
      "grid_row": null,
      "grid_template_areas": null,
      "grid_template_columns": null,
      "grid_template_rows": null,
      "height": null,
      "justify_content": null,
      "justify_items": null,
      "left": null,
      "margin": null,
      "max_height": null,
      "max_width": null,
      "min_height": null,
      "min_width": null,
      "object_fit": null,
      "object_position": null,
      "order": null,
      "overflow": null,
      "overflow_x": null,
      "overflow_y": null,
      "padding": null,
      "right": null,
      "top": null,
      "visibility": null,
      "width": null
     }
    },
    "4b5ea7f279854a01aaa4f5043372df2d": {
     "model_module": "@jupyter-widgets/controls",
     "model_module_version": "1.5.0",
     "model_name": "DescriptionStyleModel",
     "state": {
      "_model_module": "@jupyter-widgets/controls",
      "_model_module_version": "1.5.0",
      "_model_name": "DescriptionStyleModel",
      "_view_count": null,
      "_view_module": "@jupyter-widgets/base",
      "_view_module_version": "1.2.0",
      "_view_name": "StyleView",
      "description_width": ""
     }
    },
    "4d964dc7e08d48f0be400d45c09f16e8": {
     "model_module": "@jupyter-widgets/base",
     "model_module_version": "1.2.0",
     "model_name": "LayoutModel",
     "state": {
      "_model_module": "@jupyter-widgets/base",
      "_model_module_version": "1.2.0",
      "_model_name": "LayoutModel",
      "_view_count": null,
      "_view_module": "@jupyter-widgets/base",
      "_view_module_version": "1.2.0",
      "_view_name": "LayoutView",
      "align_content": null,
      "align_items": null,
      "align_self": null,
      "border": null,
      "bottom": null,
      "display": null,
      "flex": null,
      "flex_flow": null,
      "grid_area": null,
      "grid_auto_columns": null,
      "grid_auto_flow": null,
      "grid_auto_rows": null,
      "grid_column": null,
      "grid_gap": null,
      "grid_row": null,
      "grid_template_areas": null,
      "grid_template_columns": null,
      "grid_template_rows": null,
      "height": null,
      "justify_content": null,
      "justify_items": null,
      "left": null,
      "margin": null,
      "max_height": null,
      "max_width": null,
      "min_height": null,
      "min_width": null,
      "object_fit": null,
      "object_position": null,
      "order": null,
      "overflow": null,
      "overflow_x": null,
      "overflow_y": null,
      "padding": null,
      "right": null,
      "top": null,
      "visibility": null,
      "width": null
     }
    },
    "abcbe273e5604d2383a7a1f03e79c682": {
     "model_module": "@jupyter-widgets/controls",
     "model_module_version": "1.5.0",
     "model_name": "VBoxModel",
     "state": {
      "_dom_classes": [],
      "_model_module": "@jupyter-widgets/controls",
      "_model_module_version": "1.5.0",
      "_model_name": "VBoxModel",
      "_view_count": null,
      "_view_module": "@jupyter-widgets/controls",
      "_view_module_version": "1.5.0",
      "_view_name": "VBoxView",
      "box_style": "",
      "children": [
       "IPY_MODEL_08fc0c2dc9b94689b80e085b682e54a5",
       "IPY_MODEL_bb425d8fef6e41f4bc1f1097477d1502"
      ],
      "layout": "IPY_MODEL_378d2507f5d5418681817fdbe4f227fd"
     }
    },
    "bb425d8fef6e41f4bc1f1097477d1502": {
     "model_module": "@jupyter-widgets/controls",
     "model_module_version": "1.5.0",
     "model_name": "FloatProgressModel",
     "state": {
      "_dom_classes": [],
      "_model_module": "@jupyter-widgets/controls",
      "_model_module_version": "1.5.0",
      "_model_name": "FloatProgressModel",
      "_view_count": null,
      "_view_module": "@jupyter-widgets/controls",
      "_view_module_version": "1.5.0",
      "_view_name": "ProgressView",
      "bar_style": "",
      "description": "",
      "description_tooltip": null,
      "layout": "IPY_MODEL_4d964dc7e08d48f0be400d45c09f16e8",
      "max": 1,
      "min": 0,
      "orientation": "horizontal",
      "style": "IPY_MODEL_347e2725b013421a951237d46b26d5e3",
      "value": 1
     }
    }
   }
  }
 },
 "nbformat": 4,
 "nbformat_minor": 4
}
