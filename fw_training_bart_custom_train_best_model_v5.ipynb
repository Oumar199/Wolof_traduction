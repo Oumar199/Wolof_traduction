{
 "cells": [
  {
   "attachments": {},
   "cell_type": "markdown",
   "metadata": {
    "id": "YTsVWwCgLAJl"
   },
   "source": [
    "Fine-tuning best BART 🤖\n",
    "-----------------------------------\n",
    "\n",
    "In this notebook, we will continue the fine-tuning of the BART model on the new extracted sentences from the book **Grammaire de Wolof Moderne** and additional sentences. We provide, bellow, the main evaluation figures, obtained from the hyperparameter search step. We will evaluate the training on the validation dataset.\n",
    "\n",
    "- Parallel coordinates from panel:\n",
    "\n",
    "- Parameter importance char: \n",
    "[t5_v3_importance](https://wandb.ai/oumar-kane-team/small-t5-cross-fw-translation-bayes-hpsearch-v3/reports/undefined-23-05-16-10-36-17---Vmlldzo0Mzc4NDY0?accessToken=eyaiyrid0qz1zg2jkq3fc65biw53084dpfitbi0dgonq6mweupw6kgjml9d2nv1w)"
   ]
  },
  {
   "attachments": {},
   "cell_type": "markdown",
   "metadata": {},
   "source": [
    "We can see in the above chart that the batch is the most important parameter with a negative correlation with the BLEU score (meaning that a lower batch size is better). Next, we the probability of modifying a character in the french corpus is also important and a high probability provide a better BLEU score.  "
   ]
  },
  {
   "cell_type": "code",
   "execution_count": 1,
   "metadata": {
    "colab": {
     "base_uri": "https://localhost:8080/"
    },
    "executionInfo": {
     "elapsed": 41798,
     "status": "ok",
     "timestamp": 1683491387892,
     "user": {
      "displayName": "Oumar Kane",
      "userId": "05889582343301699661"
     },
     "user_tz": 0
    },
    "id": "dF37F8_nLAJr",
    "outputId": "7f5f2bed-9b9d-49f9-c8f1-6fe427cf1502"
   },
   "outputs": [
    {
     "name": "stderr",
     "output_type": "stream",
     "text": [
      "c:\\Users\\Oumar Kane\\AppData\\Local\\pypoetry\\Cache\\virtualenvs\\pytorch1-HleOW5am-py3.10\\lib\\site-packages\\tqdm\\auto.py:22: TqdmWarning: IProgress not found. Please update jupyter and ipywidgets. See https://ipywidgets.readthedocs.io/en/stable/user_install.html\n",
      "  from .autonotebook import tqdm as notebook_tqdm\n",
      "Global seed set to 0\n"
     ]
    }
   ],
   "source": [
    "# let us import all necessary libraries\n",
    "from transformers import BartModel, BartForConditionalGeneration, Seq2SeqTrainer, BartTokenizerFast, set_seed, AdamW, get_linear_schedule_with_warmup,\\\n",
    "                          get_linear_schedule_with_warmup, get_cosine_schedule_with_warmup, Adafactor\n",
    "from wolof_translate.utils.sent_transformers import TransformerSequences\n",
    "from wolof_translate.utils.improvements.end_marks import add_end_mark # added\n",
    "from torch.nn import TransformerEncoderLayer, TransformerDecoderLayer\n",
    "from torch.utils.data import Dataset, DataLoader, random_split\n",
    "from wolof_translate.data.dataset_v4 import SentenceDataset # v2 -> v3 -> v4\n",
    "from wolof_translate.utils.sent_corrections import *\n",
    "from sklearn.model_selection import train_test_split\n",
    "from torch.optim.lr_scheduler import _LRScheduler\n",
    "# from custom_rnn.utils.kwargs import Kwargs\n",
    "from torch.nn.utils.rnn import pad_sequence\n",
    "from plotly.subplots import make_subplots\n",
    "from nlpaug.augmenter import char as nac\n",
    "from torch.utils.data import DataLoader\n",
    "# from datasets  import load_metric # make pip install evaluate instead\n",
    "# and pip install sacrebleu for instance\n",
    "from torch.nn import functional as F\n",
    "import plotly.graph_objects as go\n",
    "from tokenizers import Tokenizer\n",
    "import matplotlib.pyplot as plt\n",
    "import pytorch_lightning as lt\n",
    "from tqdm import tqdm, trange\n",
    "from functools import partial\n",
    "from torch.nn import utils\n",
    "from copy import deepcopy\n",
    "from torch import optim\n",
    "from typing import *\n",
    "from torch import nn\n",
    "import pandas as pd\n",
    "import numpy as np\n",
    "import itertools\n",
    "import evaluate\n",
    "import random\n",
    "import string\n",
    "import shutil\n",
    "import wandb\n",
    "import torch\n",
    "import json\n",
    "import copy\n",
    "import os\n",
    "\n",
    "# add seed for everything\n",
    "lt.seed_everything(0)\n",
    "\n",
    "os.environ[\"WANDB_DISABLED\"] = \"true\""
   ]
  },
  {
   "attachments": {},
   "cell_type": "markdown",
   "metadata": {
    "id": "19MVywzSLAJt"
   },
   "source": [
    "## French to wolof"
   ]
  },
  {
   "attachments": {},
   "cell_type": "markdown",
   "metadata": {
    "id": "n4tP0YGyLAJt"
   },
   "source": [
    "### Configure dataset 🔠"
   ]
  },
  {
   "cell_type": "code",
   "execution_count": 2,
   "metadata": {
    "executionInfo": {
     "elapsed": 77,
     "status": "ok",
     "timestamp": 1683491387893,
     "user": {
      "displayName": "Oumar Kane",
      "userId": "05889582343301699661"
     },
     "user_tz": 0
    },
    "id": "t2GR0YjYuLc5"
   },
   "outputs": [],
   "source": [
    "# recuperate the tokenizer from a json file\n",
    "tokenizer = BartTokenizerFast(tokenizer_file=f\"wolof-translate/wolof_translate/tokenizers/bart_tokenizers/tokenizer_v3_2.json\")"
   ]
  },
  {
   "cell_type": "code",
   "execution_count": 3,
   "metadata": {
    "executionInfo": {
     "elapsed": 77,
     "status": "ok",
     "timestamp": 1683491387894,
     "user": {
      "displayName": "Oumar Kane",
      "userId": "05889582343301699661"
     },
     "user_tz": 0
    },
    "id": "BIjksuH9LAJv"
   },
   "outputs": [],
   "source": [
    "def recuperate_datasets(fr_char_p: float, fr_word_p: float, max_len: int, end_mark_opt: int):\n",
    "\n",
    "  # Let us recuperate the end_mark adding option\n",
    "  if end_mark_opt == 1:\n",
    "    # Create augmentation to add on French sentences\n",
    "    fr_augmentation_1 = TransformerSequences(nac.KeyboardAug(aug_char_p=fr_char_p, aug_word_p=fr_word_p,\n",
    "                                                             aug_word_max = max_len),\n",
    "                                          remove_mark_space, delete_guillemet_space, add_mark_space)\n",
    "\n",
    "    fr_augmentation_2 = TransformerSequences(remove_mark_space, delete_guillemet_space, add_mark_space)\n",
    "    \n",
    "  else:\n",
    "    \n",
    "    if end_mark_opt == 2:\n",
    "\n",
    "      end_mark_fn = partial(add_end_mark, end_mark_to_remove = '!', replace = True)\n",
    "    \n",
    "    elif end_mark_opt == 3:\n",
    "\n",
    "      end_mark_fn = partial(add_end_mark)\n",
    "    \n",
    "    elif end_mark_opt == 4:\n",
    "\n",
    "      end_mark_fn = partial(add_end_mark, end_mark_to_remove = '!')\n",
    "\n",
    "    # Create augmentation to add on French sentences\n",
    "    fr_augmentation_1 = TransformerSequences(nac.KeyboardAug(aug_char_p=fr_char_p, aug_word_p=fr_word_p,\n",
    "                                                             aug_word_max = max_len),\n",
    "                                          remove_mark_space, delete_guillemet_space, add_mark_space, end_mark_fn)\n",
    "    \n",
    "    fr_augmentation_2 = TransformerSequences(remove_mark_space, delete_guillemet_space, add_mark_space, end_mark_fn)\n",
    "    \n",
    "  # Recuperate the train dataset\n",
    "  train_dataset_aug = SentenceDataset(f\"data/extractions/new_data/train_set.csv\",\n",
    "                                        tokenizer,\n",
    "                                        truncation = True, max_len=max_len,\n",
    "                                        cp1_transformer = fr_augmentation_1,\n",
    "                                        cp2_transformer = fr_augmentation_2,\n",
    "                                        add_bos_token=True\n",
    "                                        )\n",
    "\n",
    "  # Recuperate the valid dataset\n",
    "  valid_dataset = SentenceDataset(f\"data/extractions/new_data/valid_set.csv\",\n",
    "                                        tokenizer, max_len=max_len,\n",
    "                                        cp1_transformer = fr_augmentation_2,\n",
    "                                        cp2_transformer = fr_augmentation_2,\n",
    "                                        add_bos_token=True,\n",
    "                                        truncation = True)\n",
    "  \n",
    "  # Return the datasets\n",
    "  return train_dataset_aug, valid_dataset"
   ]
  },
  {
   "attachments": {},
   "cell_type": "markdown",
   "metadata": {
    "id": "xT17hB19LAJy"
   },
   "source": [
    "### Searching for the best parameters 🕖"
   ]
  },
  {
   "cell_type": "code",
   "execution_count": 4,
   "metadata": {},
   "outputs": [],
   "source": [
    "from wolof_translate.models.transformers.optimization import TransformerScheduler\n",
    "from wolof_translate.trainers.transformer_trainer import ModelRunner\n",
    "from wolof_translate.utils.evaluation import TranslationEvaluation\n",
    "from wolof_translate.models.transformers.main import Transformer\n",
    "from wolof_translate.utils.split_with_valid import split_data\n"
   ]
  },
  {
   "attachments": {},
   "cell_type": "markdown",
   "metadata": {},
   "source": [
    "-------------"
   ]
  },
  {
   "cell_type": "code",
   "execution_count": null,
   "metadata": {},
   "outputs": [],
   "source": []
  },
  {
   "attachments": {},
   "cell_type": "markdown",
   "metadata": {},
   "source": [
    "### --- Wandb v5 2000"
   ]
  },
  {
   "cell_type": "code",
   "execution_count": null,
   "metadata": {},
   "outputs": [],
   "source": []
  },
  {
   "cell_type": "code",
   "execution_count": 12,
   "metadata": {},
   "outputs": [],
   "source": [
    "# let us initialize the hyperparameter configuration \n",
    "config = {\n",
    "    'random_state': 0,\n",
    "    'fr_char_p': 0.19310415677880952,\n",
    "    'fr_word_p': 0.07285606562901713,\n",
    "    'learning_rate': 0.002762393179839311,\n",
    "    'weight_decay': 0.033353528922291854,\n",
    "    'batch_size': 16,\n",
    "    'warmup_ratio': 0.0,\n",
    "    'max_epoch': 454,\n",
    "    'epochs': 45,\n",
    "    'mid_epoch': 45,\n",
    "    'max_len': 38,\n",
    "    'end_mark': 3,\n",
    "    'bleu': 7.3684,\n",
    "    'model_dir': 'data/checkpoints/fw_bart_custom_train_v5_checkpoints',\n",
    "    'new_model_dir': 'data/checkpoints/bart_custom_train_results_fw_v5'\n",
    "}\n",
    "\n",
    "# Initialize the model name\n",
    "model_name = 'facebook/bart-base'\n",
    "\n",
    "# import the model with its pre-trained weights\n",
    "model = BartForConditionalGeneration.from_pretrained(model_name)\n",
    "\n",
    "# resize the token embeddings\n",
    "model.resize_token_embeddings(len(tokenizer))\n",
    "\n",
    "# let us initialize the evaluation class\n",
    "evaluation = TranslationEvaluation(tokenizer)\n",
    "\n",
    "# let us initialize the trainer\n",
    "trainer = ModelRunner(model, seed = 0, version = 5, evaluation = evaluation, optimizer=Adafactor)\n",
    "\n",
    "# split the data\n",
    "split_data(config['random_state'], csv_file = \"ad_sentences.csv\")\n",
    "\n",
    "# recuperate train and test set\n",
    "train_dataset, test_dataset = recuperate_datasets(config['fr_char_p'], \n",
    "                                                    config['fr_word_p'], config['max_len'],\n",
    "                                                    config['end_mark'])\n",
    "\n",
    "# let us calculate the appropriate warmup steps (let us take a max epoch of 100)\n",
    "length = len(train_dataset)\n",
    "\n",
    "n_steps = length // config['batch_size']\n",
    "\n",
    "num_steps = config['max_epoch'] * n_steps\n",
    "\n",
    "warmup_steps = (config['max_epoch'] * n_steps) * config['warmup_ratio']\n",
    "\n",
    "# # Initialize the scheduler parameters\n",
    "scheduler_args = {'num_warmup_steps': warmup_steps, 'num_training_steps': num_steps}\n",
    "\n",
    "# Initialize the optimizer parameters\n",
    "optimizer_args = {\n",
    "    'lr': config['learning_rate'],\n",
    "    'weight_decay': config['weight_decay'],\n",
    "    # 'betas': (0.9, 0.98),\n",
    "    'warmup_init': False,\n",
    "    'relative_step': False\n",
    "}\n",
    "\n",
    "# Initialize the loaders parameters\n",
    "train_loader_args = {'batch_size': config['batch_size']}\n",
    "\n",
    "# Add the datasets and hyperparameters to trainer\n",
    "trainer.compile(train_dataset, test_dataset, tokenizer, train_loader_args,\n",
    "                optimizer_kwargs = optimizer_args,\n",
    "                lr_scheduler=get_linear_schedule_with_warmup,\n",
    "                lr_scheduler_kwargs=scheduler_args, \n",
    "                predict_with_generate = True,\n",
    "                hugging_face = True,\n",
    "                logging_dir=\"data/logs/bart_custom_train_fw\"\n",
    "                )\n",
    "\n",
    "# We will from checkpoints so let us the model\n",
    "# trainer.load(config['model_dir'], load_best=True) # Only for the first loading\n",
    "trainer.load(config['new_model_dir'], load_best=True)\n",
    "\n",
    "        "
   ]
  },
  {
   "cell_type": "code",
   "execution_count": null,
   "metadata": {},
   "outputs": [],
   "source": []
  },
  {
   "attachments": {},
   "cell_type": "markdown",
   "metadata": {},
   "source": [
    "### --- Linear"
   ]
  },
  {
   "cell_type": "code",
   "execution_count": 11,
   "metadata": {},
   "outputs": [
    {
     "name": "stderr",
     "output_type": "stream",
     "text": [
      "  0%|          | 0/40 [00:00<?, ?it/s]c:\\Users\\Oumar Kane\\AppData\\Local\\pypoetry\\Cache\\virtualenvs\\pytorch1-HleOW5am-py3.10\\lib\\site-packages\\torch\\optim\\lr_scheduler.py:257: UserWarning: To get the last learning rate computed by the scheduler, please use `get_last_lr()`.\n",
      "  warnings.warn(\"To get the last learning rate computed by the scheduler, \"\n"
     ]
    },
    {
     "name": "stdout",
     "output_type": "stream",
     "text": [
      "For epoch 6: \n",
      "{Learning rate: [0.0027708459507466156]}\n"
     ]
    },
    {
     "name": "stderr",
     "output_type": "stream",
     "text": [
      "Train batch number 99: 100%|██████████| 99/99 [00:32<00:00,  3.02batches/s]\n",
      "Test batch number 13: 100%|██████████| 13/13 [00:13<00:00,  1.07s/batches]\n"
     ]
    },
    {
     "name": "stdout",
     "output_type": "stream",
     "text": [
      "\n",
      "Metrics: {'train_loss': 0.5331674415354777, 'test_loss': 1.0587910505441518, 'bleu': 6.9969, 'gen_len': 10.8283}\n",
      "\n",
      "=============================\n",
      "\n"
     ]
    },
    {
     "name": "stderr",
     "output_type": "stream",
     "text": [
      "  2%|▎         | 1/40 [00:55<36:20, 55.90s/it]"
     ]
    },
    {
     "name": "stdout",
     "output_type": "stream",
     "text": [
      "For epoch 7: \n",
      "{Learning rate: [0.002764611122255493]}\n"
     ]
    },
    {
     "name": "stderr",
     "output_type": "stream",
     "text": [
      "Train batch number 99: 100%|██████████| 99/99 [00:37<00:00,  2.67batches/s]\n",
      "Test batch number 13: 100%|██████████| 13/13 [00:16<00:00,  1.28s/batches]\n"
     ]
    },
    {
     "name": "stdout",
     "output_type": "stream",
     "text": [
      "\n",
      "Metrics: {'train_loss': 0.4071016970909003, 'test_loss': 1.1061589167668269, 'bleu': 8.3503, 'gen_len': 12.8788}\n",
      "\n",
      "=============================\n",
      "\n"
     ]
    },
    {
     "name": "stderr",
     "output_type": "stream",
     "text": [
      "  5%|▌         | 2/40 [01:58<38:01, 60.05s/it]"
     ]
    },
    {
     "name": "stdout",
     "output_type": "stream",
     "text": [
      "For epoch 8: \n",
      "{Learning rate: [0.002758376293764371]}\n"
     ]
    },
    {
     "name": "stderr",
     "output_type": "stream",
     "text": [
      "Train batch number 99: 100%|██████████| 99/99 [00:41<00:00,  2.40batches/s]\n",
      "Test batch number 13: 100%|██████████| 13/13 [00:16<00:00,  1.27s/batches]\n"
     ]
    },
    {
     "name": "stdout",
     "output_type": "stream",
     "text": [
      "\n",
      "Metrics: {'train_loss': 0.31022625649818264, 'test_loss': 1.1236080481455877, 'bleu': 11.1201, 'gen_len': 12.8434}\n",
      "\n",
      "=============================\n",
      "\n"
     ]
    },
    {
     "name": "stderr",
     "output_type": "stream",
     "text": [
      "  8%|▊         | 3/40 [03:06<39:01, 63.30s/it]"
     ]
    },
    {
     "name": "stdout",
     "output_type": "stream",
     "text": [
      "For epoch 9: \n",
      "{Learning rate: [0.0027521414652732484]}\n"
     ]
    },
    {
     "name": "stderr",
     "output_type": "stream",
     "text": [
      "Train batch number 99: 100%|██████████| 99/99 [00:38<00:00,  2.56batches/s]\n",
      "Test batch number 13: 100%|██████████| 13/13 [00:17<00:00,  1.33s/batches]\n"
     ]
    },
    {
     "name": "stdout",
     "output_type": "stream",
     "text": [
      "\n",
      "Metrics: {'train_loss': 0.23214480017471795, 'test_loss': 1.1920990256162791, 'bleu': 11.3352, 'gen_len': 12.803}\n",
      "\n",
      "=============================\n",
      "\n"
     ]
    },
    {
     "name": "stderr",
     "output_type": "stream",
     "text": [
      " 10%|█         | 4/40 [04:11<38:32, 64.23s/it]"
     ]
    },
    {
     "name": "stdout",
     "output_type": "stream",
     "text": [
      "For epoch 10: \n",
      "{Learning rate: [0.002745906636782126]}\n"
     ]
    },
    {
     "name": "stderr",
     "output_type": "stream",
     "text": [
      "Train batch number 99: 100%|██████████| 99/99 [00:42<00:00,  2.34batches/s]\n",
      "Test batch number 13: 100%|██████████| 13/13 [00:18<00:00,  1.40s/batches]\n"
     ]
    },
    {
     "name": "stdout",
     "output_type": "stream",
     "text": [
      "\n",
      "Metrics: {'train_loss': 0.17824547617423414, 'test_loss': 1.1930893522042494, 'bleu': 15.4479, 'gen_len': 12.9192}\n",
      "\n",
      "=============================\n",
      "\n"
     ]
    },
    {
     "name": "stderr",
     "output_type": "stream",
     "text": [
      " 12%|█▎        | 5/40 [05:21<38:36, 66.17s/it]"
     ]
    },
    {
     "name": "stdout",
     "output_type": "stream",
     "text": [
      "For epoch 11: \n",
      "{Learning rate: [0.0027396718082910035]}\n"
     ]
    },
    {
     "name": "stderr",
     "output_type": "stream",
     "text": [
      "Train batch number 99: 100%|██████████| 99/99 [00:43<00:00,  2.28batches/s]\n",
      "Test batch number 13: 100%|██████████| 13/13 [00:19<00:00,  1.48s/batches]\n"
     ]
    },
    {
     "name": "stdout",
     "output_type": "stream",
     "text": [
      "\n",
      "Metrics: {'train_loss': 0.13561171368517058, 'test_loss': 1.23938492169747, 'bleu': 11.4807, 'gen_len': 12.8333}\n",
      "\n",
      "=============================\n",
      "\n"
     ]
    },
    {
     "name": "stderr",
     "output_type": "stream",
     "text": [
      " 15%|█▌        | 6/40 [06:28<37:45, 66.63s/it]"
     ]
    },
    {
     "name": "stdout",
     "output_type": "stream",
     "text": [
      "For epoch 12: \n",
      "{Learning rate: [0.002733436979799881]}\n"
     ]
    },
    {
     "name": "stderr",
     "output_type": "stream",
     "text": [
      "Train batch number 99: 100%|██████████| 99/99 [00:43<00:00,  2.28batches/s]\n",
      "Test batch number 13: 100%|██████████| 13/13 [00:19<00:00,  1.51s/batches]\n"
     ]
    },
    {
     "name": "stdout",
     "output_type": "stream",
     "text": [
      "\n",
      "Metrics: {'train_loss': 0.11536957188086076, 'test_loss': 1.269504345380343, 'bleu': 14.2235, 'gen_len': 12.7071}\n",
      "\n",
      "=============================\n",
      "\n"
     ]
    },
    {
     "name": "stderr",
     "output_type": "stream",
     "text": [
      " 18%|█▊        | 7/40 [07:37<37:02, 67.35s/it]"
     ]
    },
    {
     "name": "stdout",
     "output_type": "stream",
     "text": [
      "For epoch 13: \n",
      "{Learning rate: [0.0027272021513087587]}\n"
     ]
    },
    {
     "name": "stderr",
     "output_type": "stream",
     "text": [
      "Train batch number 99: 100%|██████████| 99/99 [00:44<00:00,  2.22batches/s]\n",
      "Test batch number 13: 100%|██████████| 13/13 [00:20<00:00,  1.55s/batches]\n"
     ]
    },
    {
     "name": "stdout",
     "output_type": "stream",
     "text": [
      "\n",
      "Metrics: {'train_loss': 0.09750010362929767, 'test_loss': 1.3005648943094106, 'bleu': 14.2558, 'gen_len': 13.1212}\n",
      "\n",
      "=============================\n",
      "\n"
     ]
    },
    {
     "name": "stderr",
     "output_type": "stream",
     "text": [
      " 20%|██        | 8/40 [08:47<36:22, 68.21s/it]"
     ]
    },
    {
     "name": "stdout",
     "output_type": "stream",
     "text": [
      "For epoch 14: \n",
      "{Learning rate: [0.0027209673228176363]}\n"
     ]
    },
    {
     "name": "stderr",
     "output_type": "stream",
     "text": [
      "Train batch number 99: 100%|██████████| 99/99 [00:47<00:00,  2.09batches/s]\n",
      "Test batch number 13: 100%|██████████| 13/13 [00:19<00:00,  1.51s/batches]\n"
     ]
    },
    {
     "name": "stdout",
     "output_type": "stream",
     "text": [
      "\n",
      "Metrics: {'train_loss': 0.0875176875052428, 'test_loss': 1.2973823547363281, 'bleu': 14.4621, 'gen_len': 13.1263}\n",
      "\n",
      "=============================\n",
      "\n"
     ]
    },
    {
     "name": "stderr",
     "output_type": "stream",
     "text": [
      " 22%|██▎       | 9/40 [09:59<35:52, 69.43s/it]"
     ]
    },
    {
     "name": "stdout",
     "output_type": "stream",
     "text": [
      "For epoch 15: \n",
      "{Learning rate: [0.002714732494326514]}\n"
     ]
    },
    {
     "name": "stderr",
     "output_type": "stream",
     "text": [
      "Train batch number 99: 100%|██████████| 99/99 [00:42<00:00,  2.33batches/s]\n",
      "Test batch number 13: 100%|██████████| 13/13 [00:17<00:00,  1.31s/batches]\n"
     ]
    },
    {
     "name": "stdout",
     "output_type": "stream",
     "text": [
      "\n",
      "Metrics: {'train_loss': 0.07727035767201221, 'test_loss': 1.3073506813782911, 'bleu': 14.6288, 'gen_len': 12.6313}\n",
      "\n",
      "=============================\n",
      "\n"
     ]
    },
    {
     "name": "stderr",
     "output_type": "stream",
     "text": [
      " 25%|██▌       | 10/40 [11:05<34:12, 68.43s/it]"
     ]
    },
    {
     "name": "stdout",
     "output_type": "stream",
     "text": [
      "For epoch 16: \n",
      "{Learning rate: [0.0027084976658353914]}\n"
     ]
    },
    {
     "name": "stderr",
     "output_type": "stream",
     "text": [
      "Train batch number 99: 100%|██████████| 99/99 [00:44<00:00,  2.23batches/s]\n",
      "Test batch number 13: 100%|██████████| 13/13 [00:19<00:00,  1.52s/batches]\n"
     ]
    },
    {
     "name": "stdout",
     "output_type": "stream",
     "text": [
      "\n",
      "Metrics: {'train_loss': 0.06916370265411609, 'test_loss': 1.3111402850884657, 'bleu': 13.4481, 'gen_len': 13.3384}\n",
      "\n",
      "=============================\n",
      "\n"
     ]
    },
    {
     "name": "stderr",
     "output_type": "stream",
     "text": [
      " 28%|██▊       | 11/40 [12:15<33:11, 68.66s/it]"
     ]
    },
    {
     "name": "stdout",
     "output_type": "stream",
     "text": [
      "For epoch 17: \n",
      "{Learning rate: [0.0027022628373442686]}\n"
     ]
    },
    {
     "name": "stderr",
     "output_type": "stream",
     "text": [
      "Train batch number 99: 100%|██████████| 99/99 [00:46<00:00,  2.14batches/s]\n",
      "Test batch number 13: 100%|██████████| 13/13 [00:18<00:00,  1.40s/batches]\n"
     ]
    },
    {
     "name": "stdout",
     "output_type": "stream",
     "text": [
      "\n",
      "Metrics: {'train_loss': 0.06065154491425163, 'test_loss': 1.350119411945343, 'bleu': 14.5282, 'gen_len': 12.2626}\n",
      "\n",
      "=============================\n",
      "\n"
     ]
    },
    {
     "name": "stderr",
     "output_type": "stream",
     "text": [
      " 30%|███       | 12/40 [13:24<32:10, 68.96s/it]"
     ]
    },
    {
     "name": "stdout",
     "output_type": "stream",
     "text": [
      "For epoch 18: \n",
      "{Learning rate: [0.002696028008853146]}\n"
     ]
    },
    {
     "name": "stderr",
     "output_type": "stream",
     "text": [
      "Train batch number 99: 100%|██████████| 99/99 [00:43<00:00,  2.27batches/s]\n",
      "Test batch number 13: 100%|██████████| 13/13 [00:17<00:00,  1.35s/batches]\n"
     ]
    },
    {
     "name": "stdout",
     "output_type": "stream",
     "text": [
      "\n",
      "Metrics: {'train_loss': 0.05891040919555558, 'test_loss': 1.3430194808886602, 'bleu': 13.8888, 'gen_len': 13.1364}\n",
      "\n",
      "=============================\n",
      "\n"
     ]
    },
    {
     "name": "stderr",
     "output_type": "stream",
     "text": [
      " 32%|███▎      | 13/40 [14:30<30:38, 68.10s/it]"
     ]
    },
    {
     "name": "stdout",
     "output_type": "stream",
     "text": [
      "For epoch 19: \n",
      "{Learning rate: [0.0026897931803620237]}\n"
     ]
    },
    {
     "name": "stderr",
     "output_type": "stream",
     "text": [
      "Train batch number 99: 100%|██████████| 99/99 [00:41<00:00,  2.37batches/s]\n",
      "Test batch number 13: 100%|██████████| 13/13 [00:16<00:00,  1.26s/batches]\n"
     ]
    },
    {
     "name": "stdout",
     "output_type": "stream",
     "text": [
      "\n",
      "Metrics: {'train_loss': 0.0532477025619962, 'test_loss': 1.3583722343811622, 'bleu': 12.8109, 'gen_len': 12.399}\n",
      "\n",
      "=============================\n",
      "\n"
     ]
    },
    {
     "name": "stderr",
     "output_type": "stream",
     "text": [
      " 35%|███▌      | 14/40 [15:34<28:52, 66.65s/it]"
     ]
    },
    {
     "name": "stdout",
     "output_type": "stream",
     "text": [
      "For epoch 20: \n",
      "{Learning rate: [0.0026835583518709013]}\n"
     ]
    },
    {
     "name": "stderr",
     "output_type": "stream",
     "text": [
      "Train batch number 99: 100%|██████████| 99/99 [00:41<00:00,  2.40batches/s]\n",
      "Test batch number 13: 100%|██████████| 13/13 [00:19<00:00,  1.46s/batches]\n"
     ]
    },
    {
     "name": "stdout",
     "output_type": "stream",
     "text": [
      "\n",
      "Metrics: {'train_loss': 0.05010606170716611, 'test_loss': 1.3336971723116362, 'bleu': 13.5189, 'gen_len': 12.8939}\n",
      "\n",
      "=============================\n",
      "\n"
     ]
    },
    {
     "name": "stderr",
     "output_type": "stream",
     "text": [
      " 38%|███▊      | 15/40 [16:39<27:38, 66.32s/it]"
     ]
    },
    {
     "name": "stdout",
     "output_type": "stream",
     "text": [
      "For epoch 21: \n",
      "{Learning rate: [0.002677323523379779]}\n"
     ]
    },
    {
     "name": "stderr",
     "output_type": "stream",
     "text": [
      "Train batch number 99: 100%|██████████| 99/99 [00:49<00:00,  1.98batches/s]\n",
      "Test batch number 13: 100%|██████████| 13/13 [00:18<00:00,  1.44s/batches]\n"
     ]
    },
    {
     "name": "stdout",
     "output_type": "stream",
     "text": [
      "\n",
      "Metrics: {'train_loss': 0.045728730865650706, 'test_loss': 1.3664012092810411, 'bleu': 15.4021, 'gen_len': 12.6465}\n",
      "\n",
      "=============================\n",
      "\n"
     ]
    },
    {
     "name": "stderr",
     "output_type": "stream",
     "text": [
      " 40%|████      | 16/40 [17:53<27:28, 68.69s/it]"
     ]
    },
    {
     "name": "stdout",
     "output_type": "stream",
     "text": [
      "For epoch 22: \n",
      "{Learning rate: [0.0026710886948886564]}\n"
     ]
    },
    {
     "name": "stderr",
     "output_type": "stream",
     "text": [
      "Train batch number 99: 100%|██████████| 99/99 [00:40<00:00,  2.43batches/s]\n",
      "Test batch number 13: 100%|██████████| 13/13 [00:17<00:00,  1.35s/batches]\n"
     ]
    },
    {
     "name": "stdout",
     "output_type": "stream",
     "text": [
      "\n",
      "Metrics: {'train_loss': 0.04393004452941394, 'test_loss': 1.359107723602882, 'bleu': 15.0084, 'gen_len': 12.9141}\n",
      "\n",
      "=============================\n",
      "\n"
     ]
    },
    {
     "name": "stderr",
     "output_type": "stream",
     "text": [
      " 42%|████▎     | 17/40 [18:57<25:43, 67.12s/it]"
     ]
    },
    {
     "name": "stdout",
     "output_type": "stream",
     "text": [
      "For epoch 23: \n",
      "{Learning rate: [0.002664853866397534]}\n"
     ]
    },
    {
     "name": "stderr",
     "output_type": "stream",
     "text": [
      "Train batch number 99: 100%|██████████| 99/99 [00:40<00:00,  2.44batches/s]\n",
      "Test batch number 13: 100%|██████████| 13/13 [00:16<00:00,  1.28s/batches]\n"
     ]
    },
    {
     "name": "stdout",
     "output_type": "stream",
     "text": [
      "\n",
      "Metrics: {'train_loss': 0.042096095648829386, 'test_loss': 1.343453443967379, 'bleu': 13.885, 'gen_len': 12.6566}\n",
      "\n",
      "=============================\n",
      "\n"
     ]
    },
    {
     "name": "stderr",
     "output_type": "stream",
     "text": [
      " 45%|████▌     | 18/40 [19:59<24:05, 65.69s/it]"
     ]
    },
    {
     "name": "stdout",
     "output_type": "stream",
     "text": [
      "For epoch 24: \n",
      "{Learning rate: [0.0026586190379064116]}\n"
     ]
    },
    {
     "name": "stderr",
     "output_type": "stream",
     "text": [
      "Train batch number 99: 100%|██████████| 99/99 [00:40<00:00,  2.43batches/s]\n",
      "Test batch number 13: 100%|██████████| 13/13 [00:19<00:00,  1.54s/batches]\n"
     ]
    },
    {
     "name": "stdout",
     "output_type": "stream",
     "text": [
      "\n",
      "Metrics: {'train_loss': 0.04308000018801352, 'test_loss': 1.3771590131979723, 'bleu': 14.8924, 'gen_len': 12.8687}\n",
      "\n",
      "=============================\n",
      "\n"
     ]
    },
    {
     "name": "stderr",
     "output_type": "stream",
     "text": [
      " 48%|████▊     | 19/40 [21:05<22:59, 65.68s/it]"
     ]
    },
    {
     "name": "stdout",
     "output_type": "stream",
     "text": [
      "For epoch 25: \n",
      "{Learning rate: [0.002652384209415289]}\n"
     ]
    },
    {
     "name": "stderr",
     "output_type": "stream",
     "text": [
      "Train batch number 99: 100%|██████████| 99/99 [00:45<00:00,  2.19batches/s]\n",
      "Test batch number 13: 100%|██████████| 13/13 [00:19<00:00,  1.49s/batches]\n"
     ]
    },
    {
     "name": "stdout",
     "output_type": "stream",
     "text": [
      "\n",
      "Metrics: {'train_loss': 0.03766482586812491, 'test_loss': 1.3727525885288532, 'bleu': 15.2926, 'gen_len': 13.1515}\n",
      "\n",
      "=============================\n",
      "\n"
     ]
    },
    {
     "name": "stderr",
     "output_type": "stream",
     "text": [
      " 50%|█████     | 20/40 [22:15<22:20, 67.02s/it]"
     ]
    },
    {
     "name": "stdout",
     "output_type": "stream",
     "text": [
      "For epoch 26: \n",
      "{Learning rate: [0.0026461493809241668]}\n"
     ]
    },
    {
     "name": "stderr",
     "output_type": "stream",
     "text": [
      "Train batch number 99: 100%|██████████| 99/99 [00:45<00:00,  2.15batches/s]\n",
      "Test batch number 13: 100%|██████████| 13/13 [00:18<00:00,  1.42s/batches]\n"
     ]
    },
    {
     "name": "stdout",
     "output_type": "stream",
     "text": [
      "\n",
      "Metrics: {'train_loss': 0.037945234433117536, 'test_loss': 1.367100633107699, 'bleu': 14.912, 'gen_len': 12.9495}\n",
      "\n",
      "=============================\n",
      "\n"
     ]
    },
    {
     "name": "stderr",
     "output_type": "stream",
     "text": [
      " 52%|█████▎    | 21/40 [23:25<21:29, 67.87s/it]"
     ]
    },
    {
     "name": "stdout",
     "output_type": "stream",
     "text": [
      "For epoch 27: \n",
      "{Learning rate: [0.0026399145524330443]}\n"
     ]
    },
    {
     "name": "stderr",
     "output_type": "stream",
     "text": [
      "Train batch number 99: 100%|██████████| 99/99 [00:45<00:00,  2.19batches/s]\n",
      "Test batch number 13: 100%|██████████| 13/13 [00:18<00:00,  1.40s/batches]\n"
     ]
    },
    {
     "name": "stdout",
     "output_type": "stream",
     "text": [
      "\n",
      "Metrics: {'train_loss': 0.037307741440305804, 'test_loss': 1.4190766215324402, 'bleu': 13.8761, 'gen_len': 12.4495}\n",
      "\n",
      "=============================\n",
      "\n"
     ]
    },
    {
     "name": "stderr",
     "output_type": "stream",
     "text": [
      " 55%|█████▌    | 22/40 [24:33<20:25, 68.06s/it]"
     ]
    },
    {
     "name": "stdout",
     "output_type": "stream",
     "text": [
      "For epoch 28: \n",
      "{Learning rate: [0.002633679723941922]}\n"
     ]
    },
    {
     "name": "stderr",
     "output_type": "stream",
     "text": [
      "Train batch number 99: 100%|██████████| 99/99 [00:43<00:00,  2.28batches/s]\n",
      "Test batch number 13: 100%|██████████| 13/13 [00:17<00:00,  1.33s/batches]\n"
     ]
    },
    {
     "name": "stdout",
     "output_type": "stream",
     "text": [
      "\n",
      "Metrics: {'train_loss': 0.030500840057026257, 'test_loss': 1.3966215207026556, 'bleu': 14.8674, 'gen_len': 12.8889}\n",
      "\n",
      "=============================\n",
      "\n"
     ]
    },
    {
     "name": "stderr",
     "output_type": "stream",
     "text": [
      " 57%|█████▊    | 23/40 [25:39<19:06, 67.43s/it]"
     ]
    },
    {
     "name": "stdout",
     "output_type": "stream",
     "text": [
      "For epoch 29: \n",
      "{Learning rate: [0.0026274448954507995]}\n"
     ]
    },
    {
     "name": "stderr",
     "output_type": "stream",
     "text": [
      "Train batch number 99: 100%|██████████| 99/99 [00:40<00:00,  2.45batches/s]\n",
      "Test batch number 13: 100%|██████████| 13/13 [00:16<00:00,  1.30s/batches]\n"
     ]
    },
    {
     "name": "stdout",
     "output_type": "stream",
     "text": [
      "\n",
      "Metrics: {'train_loss': 0.030101753197459863, 'test_loss': 1.4298279652228723, 'bleu': 13.4793, 'gen_len': 12.8939}\n",
      "\n",
      "=============================\n",
      "\n"
     ]
    },
    {
     "name": "stderr",
     "output_type": "stream",
     "text": [
      " 60%|██████    | 24/40 [26:42<17:34, 65.90s/it]"
     ]
    },
    {
     "name": "stdout",
     "output_type": "stream",
     "text": [
      "For epoch 30: \n",
      "{Learning rate: [0.0026212100669596766]}\n"
     ]
    },
    {
     "name": "stderr",
     "output_type": "stream",
     "text": [
      "Train batch number 99: 100%|██████████| 99/99 [00:40<00:00,  2.42batches/s]\n",
      "Test batch number 13: 100%|██████████| 13/13 [00:17<00:00,  1.37s/batches]\n"
     ]
    },
    {
     "name": "stdout",
     "output_type": "stream",
     "text": [
      "\n",
      "Metrics: {'train_loss': 0.027759757824242115, 'test_loss': 1.3836947771219106, 'bleu': 15.3309, 'gen_len': 13.2677}\n",
      "\n",
      "=============================\n",
      "\n"
     ]
    },
    {
     "name": "stderr",
     "output_type": "stream",
     "text": [
      " 62%|██████▎   | 25/40 [27:45<16:18, 65.23s/it]"
     ]
    },
    {
     "name": "stdout",
     "output_type": "stream",
     "text": [
      "For epoch 31: \n",
      "{Learning rate: [0.002614975238468554]}\n"
     ]
    },
    {
     "name": "stderr",
     "output_type": "stream",
     "text": [
      "Train batch number 99: 100%|██████████| 99/99 [00:40<00:00,  2.43batches/s]\n",
      "Test batch number 13: 100%|██████████| 13/13 [00:17<00:00,  1.38s/batches]\n"
     ]
    },
    {
     "name": "stdout",
     "output_type": "stream",
     "text": [
      "\n",
      "Metrics: {'train_loss': 0.028990222587993348, 'test_loss': 1.3779189403240497, 'bleu': 15.9085, 'gen_len': 13.1313}\n",
      "\n",
      "=============================\n",
      "\n"
     ]
    },
    {
     "name": "stderr",
     "output_type": "stream",
     "text": [
      " 65%|██████▌   | 26/40 [28:56<15:35, 66.83s/it]"
     ]
    },
    {
     "name": "stdout",
     "output_type": "stream",
     "text": [
      "For epoch 32: \n",
      "{Learning rate: [0.002608740409977432]}\n"
     ]
    },
    {
     "name": "stderr",
     "output_type": "stream",
     "text": [
      "Train batch number 99: 100%|██████████| 99/99 [00:46<00:00,  2.12batches/s]\n",
      "Test batch number 13: 100%|██████████| 13/13 [00:21<00:00,  1.67s/batches]\n"
     ]
    },
    {
     "name": "stdout",
     "output_type": "stream",
     "text": [
      "\n",
      "Metrics: {'train_loss': 0.023429580773650246, 'test_loss': 1.4177517524132361, 'bleu': 13.9763, 'gen_len': 12.8535}\n",
      "\n",
      "=============================\n",
      "\n"
     ]
    },
    {
     "name": "stderr",
     "output_type": "stream",
     "text": [
      " 68%|██████▊   | 27/40 [30:10<14:54, 68.84s/it]"
     ]
    },
    {
     "name": "stdout",
     "output_type": "stream",
     "text": [
      "For epoch 33: \n",
      "{Learning rate: [0.0026025055814863094]}\n"
     ]
    },
    {
     "name": "stderr",
     "output_type": "stream",
     "text": [
      "Train batch number 99: 100%|██████████| 99/99 [00:42<00:00,  2.35batches/s]\n",
      "Test batch number 13: 100%|██████████| 13/13 [00:17<00:00,  1.36s/batches]\n"
     ]
    },
    {
     "name": "stdout",
     "output_type": "stream",
     "text": [
      "\n",
      "Metrics: {'train_loss': 0.025069100744646005, 'test_loss': 1.3987321440990155, 'bleu': 15.3394, 'gen_len': 13.1162}\n",
      "\n",
      "=============================\n",
      "\n"
     ]
    },
    {
     "name": "stderr",
     "output_type": "stream",
     "text": [
      " 70%|███████   | 28/40 [31:14<13:32, 67.67s/it]"
     ]
    },
    {
     "name": "stdout",
     "output_type": "stream",
     "text": [
      "For epoch 34: \n",
      "{Learning rate: [0.002596270752995187]}\n"
     ]
    },
    {
     "name": "stderr",
     "output_type": "stream",
     "text": [
      "Train batch number 99: 100%|██████████| 99/99 [00:42<00:00,  2.33batches/s]\n",
      "Test batch number 13: 100%|██████████| 13/13 [00:16<00:00,  1.28s/batches]\n"
     ]
    },
    {
     "name": "stdout",
     "output_type": "stream",
     "text": [
      "\n",
      "Metrics: {'train_loss': 0.025375749219698134, 'test_loss': 1.4128950467476478, 'bleu': 14.4662, 'gen_len': 13.2576}\n",
      "\n",
      "=============================\n",
      "\n"
     ]
    },
    {
     "name": "stderr",
     "output_type": "stream",
     "text": [
      " 72%|███████▎  | 29/40 [32:19<12:13, 66.69s/it]"
     ]
    },
    {
     "name": "stdout",
     "output_type": "stream",
     "text": [
      "For epoch 35: \n",
      "{Learning rate: [0.0025900359245040645]}\n"
     ]
    },
    {
     "name": "stderr",
     "output_type": "stream",
     "text": [
      "Train batch number 99: 100%|██████████| 99/99 [00:38<00:00,  2.54batches/s]\n",
      "Test batch number 13: 100%|██████████| 13/13 [00:16<00:00,  1.29s/batches]\n"
     ]
    },
    {
     "name": "stdout",
     "output_type": "stream",
     "text": [
      "\n",
      "Metrics: {'train_loss': 0.02386736071602714, 'test_loss': 1.4082451233497033, 'bleu': 16.5471, 'gen_len': 13.0859}\n",
      "\n",
      "=============================\n",
      "\n"
     ]
    },
    {
     "name": "stderr",
     "output_type": "stream",
     "text": [
      " 75%|███████▌  | 30/40 [33:24<11:01, 66.16s/it]"
     ]
    },
    {
     "name": "stdout",
     "output_type": "stream",
     "text": [
      "For epoch 36: \n",
      "{Learning rate: [0.0025838010960129417]}\n"
     ]
    },
    {
     "name": "stderr",
     "output_type": "stream",
     "text": [
      "Train batch number 99: 100%|██████████| 99/99 [00:39<00:00,  2.51batches/s]\n",
      "Test batch number 13: 100%|██████████| 13/13 [00:15<00:00,  1.22s/batches]\n"
     ]
    },
    {
     "name": "stdout",
     "output_type": "stream",
     "text": [
      "\n",
      "Metrics: {'train_loss': 0.022211450810610045, 'test_loss': 1.4087164677106416, 'bleu': 15.9951, 'gen_len': 12.6566}\n",
      "\n",
      "=============================\n",
      "\n"
     ]
    },
    {
     "name": "stderr",
     "output_type": "stream",
     "text": [
      " 78%|███████▊  | 31/40 [34:24<09:40, 64.46s/it]"
     ]
    },
    {
     "name": "stdout",
     "output_type": "stream",
     "text": [
      "For epoch 37: \n",
      "{Learning rate: [0.0025775662675218193]}\n"
     ]
    },
    {
     "name": "stderr",
     "output_type": "stream",
     "text": [
      "Train batch number 99: 100%|██████████| 99/99 [00:39<00:00,  2.52batches/s]\n",
      "Test batch number 13: 100%|██████████| 13/13 [00:15<00:00,  1.19s/batches]\n"
     ]
    },
    {
     "name": "stdout",
     "output_type": "stream",
     "text": [
      "\n",
      "Metrics: {'train_loss': 0.0220291623516441, 'test_loss': 1.435927308522738, 'bleu': 14.6881, 'gen_len': 12.7879}\n",
      "\n",
      "=============================\n",
      "\n"
     ]
    },
    {
     "name": "stderr",
     "output_type": "stream",
     "text": [
      " 80%|████████  | 32/40 [35:25<08:26, 63.30s/it]"
     ]
    },
    {
     "name": "stdout",
     "output_type": "stream",
     "text": [
      "For epoch 38: \n",
      "{Learning rate: [0.0025713314390306973]}\n"
     ]
    },
    {
     "name": "stderr",
     "output_type": "stream",
     "text": [
      "Train batch number 99: 100%|██████████| 99/99 [00:38<00:00,  2.56batches/s]\n",
      "Test batch number 13: 100%|██████████| 13/13 [00:16<00:00,  1.28s/batches]\n"
     ]
    },
    {
     "name": "stdout",
     "output_type": "stream",
     "text": [
      "\n",
      "Metrics: {'train_loss': 0.02161514088793686, 'test_loss': 1.4156509041786194, 'bleu': 16.5164, 'gen_len': 12.9899}\n",
      "\n",
      "=============================\n",
      "\n"
     ]
    },
    {
     "name": "stderr",
     "output_type": "stream",
     "text": [
      " 82%|████████▎ | 33/40 [36:25<07:17, 62.48s/it]"
     ]
    },
    {
     "name": "stdout",
     "output_type": "stream",
     "text": [
      "For epoch 39: \n",
      "{Learning rate: [0.002565096610539575]}\n"
     ]
    },
    {
     "name": "stderr",
     "output_type": "stream",
     "text": [
      "Train batch number 99: 100%|██████████| 99/99 [00:38<00:00,  2.54batches/s]\n",
      "Test batch number 13: 100%|██████████| 13/13 [00:17<00:00,  1.32s/batches]\n"
     ]
    },
    {
     "name": "stdout",
     "output_type": "stream",
     "text": [
      "\n",
      "Metrics: {'train_loss': 0.02076074972071431, 'test_loss': 1.4084171606944158, 'bleu': 16.3584, 'gen_len': 13.303}\n",
      "\n",
      "=============================\n",
      "\n"
     ]
    },
    {
     "name": "stderr",
     "output_type": "stream",
     "text": [
      " 85%|████████▌ | 34/40 [37:27<06:12, 62.12s/it]"
     ]
    },
    {
     "name": "stdout",
     "output_type": "stream",
     "text": [
      "For epoch 40: \n",
      "{Learning rate: [0.0025588617820484524]}\n"
     ]
    },
    {
     "name": "stderr",
     "output_type": "stream",
     "text": [
      "Train batch number 99: 100%|██████████| 99/99 [00:39<00:00,  2.53batches/s]\n",
      "Test batch number 13: 100%|██████████| 13/13 [00:16<00:00,  1.30s/batches]\n"
     ]
    },
    {
     "name": "stdout",
     "output_type": "stream",
     "text": [
      "\n",
      "Metrics: {'train_loss': 0.0210536178201437, 'test_loss': 1.4041353372427134, 'bleu': 16.3989, 'gen_len': 13.1414}\n",
      "\n",
      "=============================\n",
      "\n"
     ]
    },
    {
     "name": "stderr",
     "output_type": "stream",
     "text": [
      " 88%|████████▊ | 35/40 [38:28<05:09, 61.81s/it]"
     ]
    },
    {
     "name": "stdout",
     "output_type": "stream",
     "text": [
      "For epoch 41: \n",
      "{Learning rate: [0.00255262695355733]}\n"
     ]
    },
    {
     "name": "stderr",
     "output_type": "stream",
     "text": [
      "Train batch number 99: 100%|██████████| 99/99 [00:38<00:00,  2.55batches/s]\n",
      "Test batch number 13: 100%|██████████| 13/13 [00:16<00:00,  1.28s/batches]\n"
     ]
    },
    {
     "name": "stdout",
     "output_type": "stream",
     "text": [
      "\n",
      "Metrics: {'train_loss': 0.019451439347720208, 'test_loss': 1.4175263734964223, 'bleu': 15.2361, 'gen_len': 12.8081}\n",
      "\n",
      "=============================\n",
      "\n"
     ]
    },
    {
     "name": "stderr",
     "output_type": "stream",
     "text": [
      " 90%|█████████ | 36/40 [39:28<04:05, 61.40s/it]"
     ]
    },
    {
     "name": "stdout",
     "output_type": "stream",
     "text": [
      "For epoch 42: \n",
      "{Learning rate: [0.002546392125066207]}\n"
     ]
    },
    {
     "name": "stderr",
     "output_type": "stream",
     "text": [
      "Train batch number 99: 100%|██████████| 99/99 [00:39<00:00,  2.54batches/s]\n",
      "Test batch number 13: 100%|██████████| 13/13 [00:15<00:00,  1.20s/batches]\n"
     ]
    },
    {
     "name": "stdout",
     "output_type": "stream",
     "text": [
      "\n",
      "Metrics: {'train_loss': 0.017754000148293796, 'test_loss': 1.43679894392307, 'bleu': 16.6226, 'gen_len': 12.601}\n",
      "\n",
      "=============================\n",
      "\n"
     ]
    },
    {
     "name": "stderr",
     "output_type": "stream",
     "text": [
      " 92%|█████████▎| 37/40 [40:32<03:06, 62.13s/it]"
     ]
    },
    {
     "name": "stdout",
     "output_type": "stream",
     "text": [
      "For epoch 43: \n",
      "{Learning rate: [0.0025401572965750847]}\n"
     ]
    },
    {
     "name": "stderr",
     "output_type": "stream",
     "text": [
      "Train batch number 99: 100%|██████████| 99/99 [00:38<00:00,  2.54batches/s]\n",
      "Test batch number 13: 100%|██████████| 13/13 [00:16<00:00,  1.25s/batches]\n"
     ]
    },
    {
     "name": "stdout",
     "output_type": "stream",
     "text": [
      "\n",
      "Metrics: {'train_loss': 0.019889665734624924, 'test_loss': 1.4331138271551866, 'bleu': 15.3736, 'gen_len': 13.1515}\n",
      "\n",
      "=============================\n",
      "\n"
     ]
    },
    {
     "name": "stderr",
     "output_type": "stream",
     "text": [
      " 95%|█████████▌| 38/40 [41:33<02:03, 61.74s/it]"
     ]
    },
    {
     "name": "stdout",
     "output_type": "stream",
     "text": [
      "For epoch 44: \n",
      "{Learning rate: [0.0025339224680839623]}\n"
     ]
    },
    {
     "name": "stderr",
     "output_type": "stream",
     "text": [
      "Train batch number 99: 100%|██████████| 99/99 [00:38<00:00,  2.55batches/s]\n",
      "Test batch number 13: 100%|██████████| 13/13 [00:16<00:00,  1.27s/batches]\n"
     ]
    },
    {
     "name": "stdout",
     "output_type": "stream",
     "text": [
      "\n",
      "Metrics: {'train_loss': 0.018458652404146365, 'test_loss': 1.4297356788928692, 'bleu': 15.0022, 'gen_len': 13.0909}\n",
      "\n",
      "=============================\n",
      "\n"
     ]
    },
    {
     "name": "stderr",
     "output_type": "stream",
     "text": [
      " 98%|█████████▊| 39/40 [42:33<01:01, 61.37s/it]"
     ]
    },
    {
     "name": "stdout",
     "output_type": "stream",
     "text": [
      "For epoch 45: \n",
      "{Learning rate: [0.00252768763959284]}\n"
     ]
    },
    {
     "name": "stderr",
     "output_type": "stream",
     "text": [
      "Train batch number 99: 100%|██████████| 99/99 [00:39<00:00,  2.53batches/s]\n",
      "Test batch number 13: 100%|██████████| 13/13 [00:15<00:00,  1.21s/batches]\n"
     ]
    },
    {
     "name": "stdout",
     "output_type": "stream",
     "text": [
      "\n",
      "Metrics: {'train_loss': 0.018007289124370524, 'test_loss': 1.455772720850431, 'bleu': 15.0748, 'gen_len': 12.7172}\n",
      "\n",
      "=============================\n",
      "\n"
     ]
    },
    {
     "name": "stderr",
     "output_type": "stream",
     "text": [
      "100%|██████████| 40/40 [43:33<00:00, 65.35s/it]\n"
     ]
    }
   ],
   "source": [
    "trainer.train(epochs = config['epochs'] - trainer.current_epoch, auto_save=True, metric_for_best_model='bleu', metric_objective='maximize', log_step=1,\n",
    "              saving_directory = config['new_model_dir'])"
   ]
  },
  {
   "attachments": {},
   "cell_type": "markdown",
   "metadata": {},
   "source": [
    "### --- Cosine"
   ]
  },
  {
   "cell_type": "code",
   "execution_count": null,
   "metadata": {},
   "outputs": [],
   "source": [
    "trainer.train(epochs = config['epochs'] - trainer.current_epoch, auto_save=True, metric_for_best_model='bleu', metric_objective='maximize', log_step=1,\n",
    "              saving_directory = config['new_model_dir'])"
   ]
  },
  {
   "attachments": {},
   "cell_type": "markdown",
   "metadata": {},
   "source": [
    "### ---"
   ]
  },
  {
   "cell_type": "code",
   "execution_count": null,
   "metadata": {},
   "outputs": [],
   "source": [
    "trainer.train(epochs = config['epochs'] - trainer.current_epoch, auto_save=True, metric_for_best_model='bleu', metric_objective='maximize', log_step=1,\n",
    "              saving_directory = config['new_model_dir'])"
   ]
  },
  {
   "attachments": {},
   "cell_type": "markdown",
   "metadata": {},
   "source": [
    "### ---"
   ]
  },
  {
   "cell_type": "code",
   "execution_count": null,
   "metadata": {},
   "outputs": [],
   "source": [
    "trainer.train(epochs = config['epochs'] - trainer.current_epoch, auto_save=True, metric_for_best_model='bleu', metric_objective='maximize', log_step=1,\n",
    "              saving_directory = config['new_model_dir'])"
   ]
  },
  {
   "attachments": {},
   "cell_type": "markdown",
   "metadata": {
    "id": "sQVOIX4lqGMg"
   },
   "source": [
    "### Predictions and Evaluation"
   ]
  },
  {
   "cell_type": "code",
   "execution_count": 13,
   "metadata": {},
   "outputs": [],
   "source": [
    "# initialize the transformation sequence\n",
    "end_mark_fn = partial(add_end_mark)\n",
    "fr_augmentation = TransformerSequences(remove_mark_space, delete_guillemet_space, add_mark_space, end_mark_fn)\n",
    "\n",
    "# let us get the test set\n",
    "test_dataset = SentenceDataset(f\"data/extractions/new_data/test_set.csv\",\n",
    "                                        tokenizer = tokenizer,\n",
    "                                        cp1_transformer = fr_augmentation,\n",
    "                                        cp2_transformer = fr_augmentation,\n",
    "                                        truncation = True, add_bos_token=True)"
   ]
  },
  {
   "attachments": {},
   "cell_type": "markdown",
   "metadata": {
    "id": "W_iGdw-LLAJz"
   },
   "source": [
    "Let us make the evaluation and print the predicted sentences."
   ]
  },
  {
   "cell_type": "code",
   "execution_count": 14,
   "metadata": {},
   "outputs": [
    {
     "name": "stderr",
     "output_type": "stream",
     "text": [
      "Evaluation batch number 13: 100%|██████████| 13/13 [00:44<00:00,  3.40s/batches]"
     ]
    },
    {
     "name": "stdout",
     "output_type": "stream",
     "text": [
      "predictions_: [[2, 0, 3684, 850, 136, 888, 5, 8, 2, 1, 1, 1, 1, 1, 1, 1, 1, 1, 1, 1, 1, 1, 1, 1, 1, 1, 1, 1, 1, 1, 1, 1, 1, 1, 1, 1, 1, 1, 1, 1, 1, 1, 1, 1, 1], [2, 0, 3673, 157, 1294, 13, 40, 282, 946, 82, 5, 8, 2, 1, 1, 1, 1, 1, 1, 1, 1, 1, 1, 1, 1, 1, 1, 1, 1, 1, 1, 1, 1, 1, 1, 1, 1, 1, 1, 1, 1, 1, 1, 1, 1], [2, 0, 3690, 850, 11, 5, 8, 2, 1, 1, 1, 1, 1, 1, 1, 1, 1, 1, 1, 1, 1, 1, 1, 1, 1, 1, 1, 1, 1, 1, 1, 1, 1, 1, 1, 1, 1, 1, 1, 1, 1, 1, 1, 1, 1], [2, 0, 3684, 14, 14, 1175, 6, 2, 1, 1, 1, 1, 1, 1, 1, 1, 1, 1, 1, 1, 1, 1, 1, 1, 1, 1, 1, 1, 1, 1, 1, 1, 1, 1, 1, 1, 1, 1, 1, 1, 1, 1, 1, 1, 1], [2, 0, 1574, 1625, 77, 2501, 23, 2, 1, 1, 1, 1, 1, 1, 1, 1, 1, 1, 1, 1, 1, 1, 1, 1, 1, 1, 1, 1, 1, 1, 1, 1, 1, 1, 1, 1, 1, 1, 1, 1, 1, 1, 1, 1, 1], [2, 0, 3674, 17, 2029, 633, 6, 2, 1, 1, 1, 1, 1, 1, 1, 1, 1, 1, 1, 1, 1, 1, 1, 1, 1, 1, 1, 1, 1, 1, 1, 1, 1, 1, 1, 1, 1, 1, 1, 1, 1, 1, 1, 1, 1], [2, 0, 3684, 14, 14, 1643, 274, 23, 2, 1, 1, 1, 1, 1, 1, 1, 1, 1, 1, 1, 1, 1, 1, 1, 1, 1, 1, 1, 1, 1, 1, 1, 1, 1, 1, 1, 1, 1, 1, 1, 1, 1, 1, 1, 1], [2, 0, 3672, 17, 729, 353, 74, 6, 2, 1, 1, 1, 1, 1, 1, 1, 1, 1, 1, 1, 1, 1, 1, 1, 1, 1, 1, 1, 1, 1, 1, 1, 1, 1, 1, 1, 1, 1, 1, 1, 1, 1, 1, 1, 1], [2, 0, 3619, 237, 222, 24, 6, 2, 1, 1, 1, 1, 1, 1, 1, 1, 1, 1, 1, 1, 1, 1, 1, 1, 1, 1, 1, 1, 1, 1, 1, 1, 1, 1, 1, 1, 1, 1, 1, 1, 1, 1, 1, 1, 1], [2, 0, 1218, 815, 582, 135, 863, 82, 158, 256, 605, 2, 1, 1, 1, 1, 1, 1, 1, 1, 1, 1, 1, 1, 1, 1, 1, 1, 1, 1, 1, 1, 1, 1, 1, 1, 1, 1, 1, 1, 1, 1, 1, 1, 1], [2, 0, 3226, 37, 109, 2, 1, 1, 1, 1, 1, 1, 1, 1, 1, 1, 1, 1, 1, 1, 1, 1, 1, 1, 1, 1, 1, 1, 1, 1, 1, 1, 1, 1, 1, 1, 1, 1, 1, 1, 1, 1, 1, 1, 1], [2, 0, 3688, 13, 2939, 170, 20, 7, 371, 24, 7, 15, 792, 36, 15, 688, 113, 23, 2, 1, 1, 1, 1, 1, 1, 1, 1, 1, 1, 1, 1, 1, 1, 1, 1, 1, 1, 1, 1, 1, 1, 1, 1, 1, 1], [2, 0, 3690, 135, 40, 6, 2, 1, 1, 1, 1, 1, 1, 1, 1, 1, 1, 1, 1, 1, 1, 1, 1, 1, 1, 1, 1, 1, 1, 1, 1, 1, 1, 1, 1, 1, 1, 1, 1, 1, 1, 1, 1, 1, 1], [2, 0, 3672, 157, 1948, 5, 111, 80, 5, 8, 2, 1, 1, 1, 1, 1, 1, 1, 1, 1, 1, 1, 1, 1, 1, 1, 1, 1, 1, 1, 1, 1, 1, 1, 1, 1, 1, 1, 1, 1, 1, 1, 1, 1, 1], [2, 0, 3684, 3218, 17, 2723, 157, 6, 2, 1, 1, 1, 1, 1, 1, 1, 1, 1, 1, 1, 1, 1, 1, 1, 1, 1, 1, 1, 1, 1, 1, 1, 1, 1, 1, 1, 1, 1, 1, 1, 1, 1, 1, 1, 1], [2, 0, 3670, 3292, 88, 64, 7, 5, 475, 899, 109, 1724, 627, 111, 69, 2436, 646, 19, 546, 6, 657, 3107, 838, 3552, 953, 2760, 163, 1959, 2296, 56, 49, 408, 279, 60, 86, 56, 2321, 999, 15, 431, 6, 405, 45, 98, 2], [2, 0, 3333, 17, 854, 54, 5, 8, 2, 1, 1, 1, 1, 1, 1, 1, 1, 1, 1, 1, 1, 1, 1, 1, 1, 1, 1, 1, 1, 1, 1, 1, 1, 1, 1, 1, 1, 1, 1, 1, 1, 1, 1, 1, 1], [2, 0, 3682, 135, 542, 11, 126, 23, 2, 1, 1, 1, 1, 1, 1, 1, 1, 1, 1, 1, 1, 1, 1, 1, 1, 1, 1, 1, 1, 1, 1, 1, 1, 1, 1, 1, 1, 1, 1, 1, 1, 1, 1, 1, 1], [2, 0, 3670, 524, 412, 24, 5, 8, 2, 1, 1, 1, 1, 1, 1, 1, 1, 1, 1, 1, 1, 1, 1, 1, 1, 1, 1, 1, 1, 1, 1, 1, 1, 1, 1, 1, 1, 1, 1, 1, 1, 1, 1, 1, 1], [2, 0, 3226, 37, 573, 245, 929, 6, 2, 1, 1, 1, 1, 1, 1, 1, 1, 1, 1, 1, 1, 1, 1, 1, 1, 1, 1, 1, 1, 1, 1, 1, 1, 1, 1, 1, 1, 1, 1, 1, 1, 1, 1, 1, 1], [2, 0, 3670, 3292, 88, 64, 7, 39, 81, 60, 18, 1049, 532, 14, 56, 3316, 1719, 221, 654, 70, 274, 6, 872, 14, 1676, 11, 127, 6, 1445, 434, 444, 645, 31, 2204, 6, 285, 580, 1261, 45, 89, 217, 2447, 60, 18, 2], [2, 0, 3689, 623, 24, 6, 2, 1, 1, 1, 1, 1, 1, 1, 1, 1, 1, 1, 1, 1, 1, 1, 1, 1, 1, 1, 1, 1, 1, 1, 1, 1, 1, 1, 1, 1, 1, 1, 1, 1, 1, 1, 1, 1, 1], [2, 0, 1402, 19, 1220, 5, 8, 2, 1, 1, 1, 1, 1, 1, 1, 1, 1, 1, 1, 1, 1, 1, 1, 1, 1, 1, 1, 1, 1, 1, 1, 1, 1, 1, 1, 1, 1, 1, 1, 1, 1, 1, 1, 1, 1], [2, 0, 3682, 14, 14, 164, 211, 170, 6, 2, 1, 1, 1, 1, 1, 1, 1, 1, 1, 1, 1, 1, 1, 1, 1, 1, 1, 1, 1, 1, 1, 1, 1, 1, 1, 1, 1, 1, 1, 1, 1, 1, 1, 1, 1], [2, 0, 3688, 13, 2939, 37, 65, 80, 23, 2, 1, 1, 1, 1, 1, 1, 1, 1, 1, 1, 1, 1, 1, 1, 1, 1, 1, 1, 1, 1, 1, 1, 1, 1, 1, 1, 1, 1, 1, 1, 1, 1, 1, 1, 1], [2, 0, 3619, 2022, 861, 7, 193, 65, 77, 6, 2, 1, 1, 1, 1, 1, 1, 1, 1, 1, 1, 1, 1, 1, 1, 1, 1, 1, 1, 1, 1, 1, 1, 1, 1, 1, 1, 1, 1, 1, 1, 1, 1, 1, 1], [2, 0, 3226, 40, 412, 5, 8, 2, 1, 1, 1, 1, 1, 1, 1, 1, 1, 1, 1, 1, 1, 1, 1, 1, 1, 1, 1, 1, 1, 1, 1, 1, 1, 1, 1, 1, 1, 1, 1, 1, 1, 1, 1, 1, 1], [2, 0, 3226, 40, 155, 5, 568, 245, 5, 8, 2, 1, 1, 1, 1, 1, 1, 1, 1, 1, 1, 1, 1, 1, 1, 1, 1, 1, 1, 1, 1, 1, 1, 1, 1, 1, 1, 1, 1, 1, 1, 1, 1, 1, 1], [2, 0, 3672, 13, 35, 92, 176, 260, 23, 2, 1, 1, 1, 1, 1, 1, 1, 1, 1, 1, 1, 1, 1, 1, 1, 1, 1, 1, 1, 1, 1, 1, 1, 1, 1, 1, 1, 1, 1, 1, 1, 1, 1, 1, 1], [2, 0, 3688, 237, 81, 17, 964, 95, 23, 2, 1, 1, 1, 1, 1, 1, 1, 1, 1, 1, 1, 1, 1, 1, 1, 1, 1, 1, 1, 1, 1, 1, 1, 1, 1, 1, 1, 1, 1, 1, 1, 1, 1, 1, 1], [2, 0, 877, 43, 33, 126, 20, 6, 2, 1, 1, 1, 1, 1, 1, 1, 1, 1, 1, 1, 1, 1, 1, 1, 1, 1, 1, 1, 1, 1, 1, 1, 1, 1, 1, 1, 1, 1, 1, 1, 1, 1, 1, 1, 1], [2, 0, 1307, 235, 488, 40, 80, 5, 8, 2, 1, 1, 1, 1, 1, 1, 1, 1, 1, 1, 1, 1, 1, 1, 1, 1, 1, 1, 1, 1, 1, 1, 1, 1, 1, 1, 1, 1, 1, 1, 1, 1, 1, 1, 1], [2, 0, 3619, 17, 222, 117, 1017, 952, 1946, 6, 2, 1, 1, 1, 1], [2, 0, 877, 43, 33, 24, 20, 15, 105, 6, 2, 1, 1, 1, 1], [2, 0, 3672, 3310, 37, 5, 475, 542, 6, 2, 1, 1, 1, 1, 1], [2, 0, 1574, 2735, 151, 45, 5, 6, 2, 1, 1, 1, 1, 1, 1], [2, 0, 877, 43, 33, 222, 24, 6, 2, 1, 1, 1, 1, 1, 1], [2, 0, 3689, 2002, 137, 189, 77, 6, 2, 1, 1, 1, 1, 1, 1], [2, 0, 3333, 288, 1296, 143, 20, 6, 2, 1, 1, 1, 1, 1, 1], [2, 0, 3690, 135, 31, 125, 6, 2, 1, 1, 1, 1, 1, 1, 1], [2, 0, 3674, 17, 2029, 633, 6, 2, 1, 1, 1, 1, 1, 1, 1], [2, 0, 3619, 17, 9, 14, 14, 23, 2, 1, 1, 1, 1, 1, 1], [2, 0, 3674, 237, 376, 226, 6, 2, 1, 1, 1, 1, 1, 1, 1], [2, 0, 3670, 140, 17, 96, 33, 24, 140, 286, 60, 11, 103, 2031, 2], [2, 0, 1218, 17, 50, 126, 5, 8, 2, 1, 1, 1, 1, 1, 1], [2, 0, 3619, 17, 17, 24, 5, 8, 2, 1, 1, 1, 1, 1, 1], [2, 0, 3669, 206, 457, 65, 376, 398, 1056, 6, 2, 1, 1, 1, 1], [2, 0, 3689, 2371, 37, 96, 33, 80, 6, 2, 1, 1, 1, 1, 1], [2, 0, 3690, 850, 21, 7, 316, 82, 349, 290, 6, 2, 1], [2, 0, 1574, 623, 213, 256, 605, 2, 1, 1, 1, 1, 1], [2, 0, 3688, 13, 95, 399, 648, 6, 2, 1, 1, 1, 1], [2, 0, 3670, 383, 143, 20, 5, 8, 2, 1, 1, 1, 1], [2, 0, 3619, 140, 28, 721, 7, 240, 7, 965, 24, 6, 2], [2, 0, 1574, 1625, 77, 2501, 23, 2, 1, 1, 1, 1, 1], [2, 0, 1545, 154, 3364, 283, 127, 6, 2, 1, 1, 1, 1], [2, 0, 3672, 3391, 296, 135, 131, 6, 2, 1, 1, 1, 1], [2, 0, 3690, 850, 11, 5, 8, 2, 1, 1, 1, 1, 1], [2, 0, 3682, 1971, 6, 2, 1, 1, 1, 1, 1, 1, 1], [2, 0, 3689, 2698, 79, 23, 2, 1, 1, 1, 1, 1, 1], [2, 0, 3677, 13, 64, 226, 24, 23, 2, 1, 1, 1, 1], [2, 0, 3233, 21, 3416, 445, 1066, 6, 2, 1, 1, 1, 1], [2, 0, 3233, 14, 125, 24, 15, 290, 23, 2, 1, 1, 1], [2, 0, 3672, 14, 3433, 79, 2048, 6, 2, 1, 1, 1, 1], [2, 0, 3684, 990, 5, 568, 136, 256, 5, 8, 2, 1, 1], [2, 0, 3619, 237, 211, 170, 6, 2, 1, 1, 1, 1, 1, 1, 1, 1, 1, 1, 1, 1, 1, 1, 1, 1, 1, 1, 1, 1, 1, 1], [2, 0, 3674, 237, 376, 226, 6, 2, 1, 1, 1, 1, 1, 1, 1, 1, 1, 1, 1, 1, 1, 1, 1, 1, 1, 1, 1, 1, 1, 1], [2, 0, 1574, 2735, 544, 6, 2, 1, 1, 1, 1, 1, 1, 1, 1, 1, 1, 1, 1, 1, 1, 1, 1, 1, 1, 1, 1, 1, 1, 1], [2, 0, 3690, 135, 316, 450, 888, 1239, 6, 2, 1, 1, 1, 1, 1, 1, 1, 1, 1, 1, 1, 1, 1, 1, 1, 1, 1, 1, 1, 1], [2, 0, 3689, 17, 60, 24, 23, 2, 1, 1, 1, 1, 1, 1, 1, 1, 1, 1, 1, 1, 1, 1, 1, 1, 1, 1, 1, 1, 1, 1], [2, 0, 3690, 135, 131, 11, 23, 2, 1, 1, 1, 1, 1, 1, 1, 1, 1, 1, 1, 1, 1, 1, 1, 1, 1, 1, 1, 1, 1, 1], [2, 0, 877, 43, 33, 56, 24, 6, 2, 1, 1, 1, 1, 1, 1, 1, 1, 1, 1, 1, 1, 1, 1, 1, 1, 1, 1, 1, 1, 1], [2, 0, 3233, 21, 24, 648, 6, 2, 1, 1, 1, 1, 1, 1, 1, 1, 1, 1, 1, 1, 1, 1, 1, 1, 1, 1, 1, 1, 1, 1], [2, 0, 1574, 2735, 151, 45, 5, 8, 2, 1, 1, 1, 1, 1, 1, 1, 1, 1, 1, 1, 1, 1, 1, 1, 1, 1, 1, 1, 1, 1], [2, 0, 3669, 865, 21, 124, 2338, 669, 2010, 6, 2, 1, 1, 1, 1, 1, 1, 1, 1, 1, 1, 1, 1, 1, 1, 1, 1, 1, 1, 1], [2, 0, 3670, 3292, 88, 12, 122, 11, 115, 74, 26, 39, 81, 11, 68, 86, 15, 98, 1011, 320, 187, 78, 275, 45, 89, 60, 18, 130, 6, 2], [2, 0, 3689, 2002, 137, 189, 77, 5, 8, 2, 1, 1, 1, 1, 1, 1, 1, 1, 1, 1, 1, 1, 1, 1, 1, 1, 1, 1, 1, 1], [2, 0, 1402, 19, 302, 676, 70, 7, 563, 124, 65, 60, 12, 235, 2490, 6, 2, 1, 1, 1, 1, 1, 1, 1, 1, 1, 1, 1, 1, 1], [2, 0, 3690, 850, 11, 5, 8, 2, 1, 1, 1, 1, 1, 1, 1, 1, 1, 1, 1, 1, 1, 1, 1, 1, 1, 1, 1, 1, 1, 1], [2, 0, 3672, 17, 96, 33, 848, 6, 2, 1, 1, 1, 1, 1, 1, 1, 1, 1, 1, 1, 1, 1, 1, 1, 1, 1, 1, 1, 1, 1], [2, 0, 1545, 154, 3364, 283, 127, 6, 2, 1, 1, 1, 1, 1, 1, 1, 1, 1, 1, 1, 1, 1, 1, 1, 1, 1, 1, 1, 1, 1], [2, 0, 3688, 43, 20, 165, 78, 111, 125, 6, 2, 1, 1, 1, 1, 1, 1, 1, 1, 1, 1, 1, 1, 1, 1, 1, 1, 1, 1, 1, 1], [2, 0, 3688, 14, 3342, 222, 465, 6, 2, 1, 1, 1, 1, 1, 1, 1, 1, 1, 1, 1, 1, 1, 1, 1, 1, 1, 1, 1, 1, 1, 1], [2, 0, 3226, 37, 1296, 235, 36, 6, 2, 1, 1, 1, 1, 1, 1, 1, 1, 1, 1, 1, 1, 1, 1, 1, 1, 1, 1, 1, 1, 1, 1], [2, 0, 3670, 524, 412, 24, 5, 8, 2, 1, 1, 1, 1, 1, 1, 1, 1, 1, 1, 1, 1, 1, 1, 1, 1, 1, 1, 1, 1, 1, 1], [2, 0, 3689, 623, 36, 5, 48, 1692, 11, 173, 797, 6, 2, 1, 1, 1, 1, 1, 1, 1, 1, 1, 1, 1, 1, 1, 1, 1, 1, 1, 1], [2, 0, 3670, 3292, 88, 116, 674, 79, 598, 12, 58, 37, 15, 206, 297, 292, 232, 6, 5, 129, 20, 582, 3246, 791, 324, 6, 763, 189, 77, 6, 2], [2, 0, 3674, 17, 612, 24, 6, 2, 1, 1, 1, 1, 1, 1, 1, 1, 1, 1, 1, 1, 1, 1, 1, 1, 1, 1, 1, 1, 1, 1, 1], [2, 0, 877, 43, 33, 24, 6, 2, 1, 1, 1, 1, 1, 1, 1, 1, 1, 1, 1, 1, 1, 1, 1, 1, 1, 1, 1, 1, 1, 1, 1], [2, 0, 3682, 1858, 463, 542, 944, 40, 24, 5, 8, 2, 1, 1, 1, 1, 1, 1, 1, 1, 1, 1, 1, 1, 1, 1, 1, 1, 1, 1, 1], [2, 0, 877, 43, 33, 24, 78, 50, 80, 5, 8, 2, 1, 1, 1, 1, 1, 1, 1, 1, 1, 1, 1, 1, 1, 1, 1, 1, 1, 1, 1], [2, 0, 1402, 19, 360, 11, 78, 78, 60, 18, 58, 1036, 6, 2, 1, 1, 1, 1, 1, 1, 1, 1, 1, 1, 1, 1, 1, 1, 1, 1, 1], [2, 0, 3619, 17, 222, 117, 1017, 952, 1946, 6, 2, 1, 1, 1, 1, 1, 1, 1, 1, 1, 1, 1, 1, 1, 1, 1, 1, 1, 1, 1, 1], [2, 0, 3688, 13, 95, 37, 15, 128, 6, 2, 1, 1, 1, 1, 1, 1, 1, 1, 1, 1, 1, 1, 1, 1, 1, 1, 1, 1, 1, 1, 1], [2, 0, 1218, 815, 582, 135, 542, 5, 8, 2, 1, 1, 1, 1, 1, 1, 1, 1, 1, 1, 1, 1, 1, 1, 1, 1, 1, 1, 1, 1, 1], [2, 0, 3333, 1596, 70, 1910, 109, 2, 1, 1, 1, 1, 1, 1, 1, 1, 1, 1, 1, 1, 1, 1, 1, 1, 1, 1, 1, 1, 1, 1, 1], [2, 0, 1574, 831, 1258, 17, 630, 36, 55, 60, 18, 77, 140, 15, 1843, 1110, 36, 792, 709, 6, 2, 1, 1, 1, 1, 1, 1, 1, 1, 1, 1], [2, 0, 3672, 349, 2637, 299, 11, 23, 2, 1, 1, 1, 1, 1, 1, 1, 1, 1, 1, 1, 1, 1, 1, 1, 1, 1, 1, 1, 1, 1, 1, 1, 1, 1, 1, 1, 1, 1, 1, 1, 1, 1, 1, 1, 1], [2, 0, 877, 43, 33, 222, 24, 6, 2, 1, 1, 1, 1, 1, 1, 1, 1, 1, 1, 1, 1, 1, 1, 1, 1, 1, 1, 1, 1, 1, 1, 1, 1, 1, 1, 1, 1, 1, 1, 1, 1, 1, 1, 1, 1], [2, 0, 3690, 135, 109, 2, 1, 1, 1, 1, 1, 1, 1, 1, 1, 1, 1, 1, 1, 1, 1, 1, 1, 1, 1, 1, 1, 1, 1, 1, 1, 1, 1, 1, 1, 1, 1, 1, 1, 1, 1, 1, 1, 1, 1], [2, 0, 1545, 154, 3364, 283, 127, 6, 2, 1, 1, 1, 1, 1, 1, 1, 1, 1, 1, 1, 1, 1, 1, 1, 1, 1, 1, 1, 1, 1, 1, 1, 1, 1, 1, 1, 1, 1, 1, 1, 1, 1, 1, 1, 1], [2, 0, 3619, 237, 56, 195, 14, 23, 2, 1, 1, 1, 1, 1, 1, 1, 1, 1, 1, 1, 1, 1, 1, 1, 1, 1, 1, 1, 1, 1, 1, 1, 1, 1, 1, 1, 1, 1, 1, 1, 1, 1, 1, 1, 1], [2, 0, 3669, 11, 127, 337, 23, 2, 1, 1, 1, 1, 1, 1, 1, 1, 1, 1, 1, 1, 1, 1, 1, 1, 1, 1, 1, 1, 1, 1, 1, 1, 1, 1, 1, 1, 1, 1, 1, 1, 1, 1, 1, 1, 1], [2, 0, 3670, 3292, 88, 58, 37, 15, 105, 122, 36, 39, 81, 60, 18, 58, 39, 654, 68, 473, 39, 2164, 1010, 39, 2339, 6, 2, 1, 1, 1, 1, 1, 1, 1, 1, 1, 1, 1, 1, 1, 1, 1, 1, 1, 1], [2, 0, 3689, 19, 442, 122, 88, 64, 6, 2, 1, 1, 1, 1, 1, 1, 1, 1, 1, 1, 1, 1, 1, 1, 1, 1, 1, 1, 1, 1, 1, 1, 1, 1, 1, 1, 1, 1, 1, 1, 1, 1, 1, 1, 1], [2, 0, 3670, 3292, 36, 79, 705, 28, 12, 58, 37, 15, 206, 297, 292, 232, 6, 2, 1, 1, 1, 1, 1, 1, 1, 1, 1, 1, 1, 1, 1, 1, 1, 1, 1, 1, 1, 1, 1, 1, 1, 1, 1, 1, 1], [2, 0, 3672, 17, 552, 7, 20, 24, 23, 2, 1, 1, 1, 1, 1, 1, 1, 1, 1, 1, 1, 1, 1, 1, 1, 1, 1, 1, 1, 1, 1, 1, 1, 1, 1, 1, 1, 1, 1, 1, 1, 1, 1, 1, 1], [2, 0, 3689, 19, 50, 420, 24, 6, 2, 1, 1, 1, 1, 1, 1, 1, 1, 1, 1, 1, 1, 1, 1, 1, 1, 1, 1, 1, 1, 1, 1, 1, 1, 1, 1, 1, 1, 1, 1, 1, 1, 1, 1, 1, 1], [2, 0, 3682, 1971, 243, 64, 107, 1653, 55, 473, 2164, 157, 7, 1010, 2263, 157, 56, 2779, 1614, 434, 1622, 56, 24, 6, 2, 1, 1, 1, 1, 1, 1, 1, 1, 1, 1, 1, 1, 1, 1, 1, 1, 1, 1, 1, 1], [2, 0, 3682, 17, 17, 28, 1056, 1956, 6, 2, 1, 1, 1, 1, 1, 1, 1, 1, 1, 1, 1, 1, 1, 1, 1, 1, 1, 1, 1, 1, 1, 1, 1, 1, 1, 1, 1, 1, 1, 1, 1, 1, 1, 1, 1], [2, 0, 3670, 3292, 88, 116, 674, 79, 598, 12, 279, 19, 1306, 109, 1103, 19, 64, 2201, 11, 50, 56, 1306, 313, 725, 1732, 71, 1363, 124, 69, 2535, 56, 617, 15, 1221, 55, 410, 36, 6, 129, 20, 5, 1561, 68, 1021, 2], [2, 0, 3670, 14, 116, 674, 130, 6, 2, 1, 1, 1, 1, 1, 1, 1, 1, 1, 1, 1, 1, 1, 1, 1, 1, 1, 1, 1, 1, 1, 1, 1, 1, 1, 1, 1, 1, 1, 1, 1, 1, 1, 1, 1, 1], [2, 0, 3690, 135, 131, 11, 60, 74, 6, 2, 1, 1, 1, 1, 1, 1, 1, 1, 1, 1, 1, 1, 1, 1, 1, 1, 1, 1, 1, 1, 1, 1, 1, 1, 1, 1, 1, 1, 1, 1, 1, 1, 1, 1, 1], [2, 0, 1402, 19, 105, 356, 15, 105, 23, 2, 1, 1, 1, 1, 1, 1, 1, 1, 1, 1, 1, 1, 1, 1, 1, 1, 1, 1, 1, 1, 1, 1, 1, 1, 1, 1, 1, 1, 1, 1, 1, 1, 1, 1, 1], [2, 0, 877, 43, 33, 552, 6, 2, 1, 1, 1, 1, 1, 1, 1, 1, 1, 1, 1, 1, 1, 1, 1, 1, 1, 1, 1, 1, 1, 1, 1, 1, 1, 1, 1, 1, 1, 1, 1, 1, 1, 1, 1, 1, 1], [2, 0, 3684, 3310, 488, 11, 77, 5, 8, 2, 1, 1, 1, 1, 1, 1, 1, 1, 1, 1, 1, 1, 1, 1, 1, 1, 1, 1, 1, 1, 1, 1, 1, 1, 1, 1, 1, 1, 1, 1, 1, 1, 1, 1, 1], [2, 0, 877, 43, 508, 126, 557, 6, 2, 1, 1, 1, 1, 1, 1, 1, 1, 1, 1, 1, 1, 1, 1, 1, 1, 1, 1, 1, 1, 1, 1, 1, 1, 1, 1, 1, 1, 1, 1, 1, 1, 1, 1, 1, 1], [2, 0, 3226, 37, 96, 33, 71, 70, 479, 23, 2, 1, 1, 1, 1, 1, 1, 1, 1, 1, 1, 1, 1, 1, 1, 1, 1, 1, 1, 1, 1, 1, 1, 1, 1, 1, 1, 1, 1, 1, 1, 1, 1, 1, 1], [2, 0, 3233, 21, 176, 519, 5, 8, 2, 1, 1, 1, 1, 1, 1, 1, 1, 1, 1, 1, 1, 1, 1, 1, 1, 1, 1, 1, 1, 1, 1, 1, 1, 1, 1, 1, 1, 1, 1, 1, 1, 1, 1, 1, 1], [2, 0, 3619, 210, 334, 3364, 6, 2, 1, 1, 1, 1, 1, 1, 1, 1, 1, 1, 1, 1, 1, 1, 1, 1, 1, 1, 1, 1, 1, 1, 1, 1, 1, 1, 1, 1, 1, 1, 1, 1, 1, 1, 1, 1, 1], [2, 0, 3619, 19, 613, 18, 58, 15, 122, 36, 39, 81, 60, 18, 1049, 532, 14, 56, 3316, 1719, 221, 654, 70, 274, 6, 872, 14, 1676, 11, 127, 6, 2, 1, 1, 1, 1, 1, 1, 1, 1, 1, 1, 1, 1, 1], [2, 0, 3233, 612, 24, 6, 2, 1, 1, 1, 1, 1, 1, 1, 1, 1, 1, 1, 1, 1, 1, 1, 1, 1, 1, 1, 1, 1, 1, 1, 1, 1, 1, 1, 1, 1, 1, 1, 1, 1, 1, 1, 1, 1, 1], [2, 0, 3674, 1971, 20, 116, 524, 193, 211, 6, 2, 1, 1, 1, 1, 1, 1, 1, 1, 1, 1, 1, 1, 1, 1, 1, 1, 1, 1, 1, 1, 1, 1, 1, 1, 1, 1, 1, 1, 1, 1, 1, 1, 1, 1], [2, 0, 3670, 3292, 88, 79, 58, 12, 122, 11, 115, 74, 26, 39, 81, 60, 18, 1049, 532, 14, 56, 3316, 1719, 221, 654, 70, 274, 6, 872, 14, 1676, 11, 127, 6, 1445, 434, 444, 645, 31, 2204, 6, 285, 580, 1261, 2], [2, 0, 3619, 1118, 146, 229, 1091, 50, 6, 2, 1, 1, 1, 1, 1, 1, 1, 1, 1, 1, 1, 1, 1, 1, 1, 1, 1, 1, 1, 1, 1, 1, 1, 1, 1, 1, 1, 1, 1, 1, 1, 1, 1, 1, 1], [2, 0, 3672, 3310, 37, 5, 475, 542, 6, 2, 1, 1, 1, 1, 1, 1, 1, 1, 1, 1, 1, 1, 1, 1, 1, 1, 1, 1, 1, 1, 1, 1, 1, 1, 1, 1, 1, 1, 1, 1, 1, 1, 1, 1, 1], [2, 0, 877, 43, 33, 527, 20, 79, 5, 2427, 36, 6, 2, 1, 1, 1, 1, 1, 1, 1, 1, 1, 1, 1, 1, 1, 1, 1, 1, 1, 1, 1, 1, 1, 1, 1, 1, 1, 1, 1, 1, 1, 1, 1, 1], [2, 0, 1402, 19, 124, 7, 78, 79, 80, 6, 2, 1, 1, 1, 1, 1, 1, 1, 1, 1, 1, 1, 1, 1, 1, 1, 1, 1, 1, 1, 1, 1, 1, 1, 1, 1, 1, 1, 1, 1, 1, 1, 1, 1, 1], [2, 0, 3233, 14, 613, 24, 140, 6, 2, 1, 1, 1, 1, 1, 1, 1, 1, 1, 1, 1, 1, 1, 1, 1, 1, 1, 1, 1, 1, 1, 1, 1, 1, 1, 1, 1, 1, 1, 1, 1, 1, 1, 1, 1, 1], [2, 0, 3689, 237, 1017, 160, 422, 40, 77, 5, 8, 2, 1, 1, 1], [2, 0, 3333, 19, 235, 3193, 88, 7, 78, 50, 1678, 23, 2, 1, 1], [2, 0, 1307, 370, 282, 297, 33, 5, 8, 2, 1, 1, 1, 1, 1], [2, 0, 3672, 17, 848, 165, 218, 23, 2, 1, 1, 1, 1, 1, 1], [2, 0, 1574, 154, 143, 146, 770, 13, 36, 493, 17, 98, 213, 23, 2], [2, 0, 3684, 3399, 37, 96, 33, 11, 23, 2, 1, 1, 1, 1, 1], [2, 0, 3619, 17, 9, 14, 14, 274, 189, 2318, 6, 2, 1, 1, 1], [2, 0, 3226, 37, 64, 17, 61, 844, 6, 2, 1, 1, 1, 1, 1], [2, 0, 3682, 1118, 96, 33, 421, 1117, 803, 2451, 17, 360, 23, 2, 1], [2, 0, 1574, 2735, 151, 2238, 6, 2, 1, 1, 1, 1, 1, 1, 1], [2, 0, 3670, 140, 17, 24, 6, 2, 1, 1, 1, 1, 1, 1, 1], [2, 0, 3670, 1534, 209, 820, 2015, 5, 8, 2, 1, 1, 1, 1, 1], [2, 0, 3619, 17, 24, 6, 2, 1, 1, 1, 1, 1, 1, 1, 1], [2, 0, 3690, 154, 58, 5, 8, 2, 1, 1, 1, 1, 1, 1, 1], [2, 0, 3226, 40, 81, 1236, 5, 8, 2, 1, 1, 1, 1, 1, 1], [2, 0, 3672, 13, 35, 40, 1930, 160, 5, 8, 2, 1, 1, 1, 1], [2, 0, 1574, 157, 666, 65, 665, 77, 6, 2, 1, 1, 1, 1, 1, 1, 1, 1, 1, 1, 1, 1, 1, 1, 1, 1, 1, 1, 1, 1, 1, 1, 1, 1, 1, 1, 1, 1, 1, 1, 1, 1, 1, 1, 1], [2, 0, 3226, 37, 64, 17, 61, 844, 6, 2, 1, 1, 1, 1, 1, 1, 1, 1, 1, 1, 1, 1, 1, 1, 1, 1, 1, 1, 1, 1, 1, 1, 1, 1, 1, 1, 1, 1, 1, 1, 1, 1, 1, 1, 1], [2, 0, 3619, 17, 56, 540, 6, 2, 1, 1, 1, 1, 1, 1, 1, 1, 1, 1, 1, 1, 1, 1, 1, 1, 1, 1, 1, 1, 1, 1, 1, 1, 1, 1, 1, 1, 1, 1, 1, 1, 1, 1, 1, 1, 1], [2, 0, 3690, 237, 1263, 71, 131, 82, 7, 1032, 349, 23, 2, 1, 1, 1, 1, 1, 1, 1, 1, 1, 1, 1, 1, 1, 1, 1, 1, 1, 1, 1, 1, 1, 1, 1, 1, 1, 1, 1, 1, 1, 1, 1, 1], [2, 0, 877, 504, 158, 24, 5, 8, 2, 1, 1, 1, 1, 1, 1, 1, 1, 1, 1, 1, 1, 1, 1, 1, 1, 1, 1, 1, 1, 1, 1, 1, 1, 1, 1, 1, 1, 1, 1, 1, 1, 1, 1, 1, 1], [2, 0, 3673, 852, 1316, 21, 256, 605, 2, 1, 1, 1, 1, 1, 1, 1, 1, 1, 1, 1, 1, 1, 1, 1, 1, 1, 1, 1, 1, 1, 1, 1, 1, 1, 1, 1, 1, 1, 1, 1, 1, 1, 1, 1, 1], [2, 0, 3689, 1971, 122, 88, 111, 69, 937, 107, 107, 822, 243, 107, 822, 11, 7, 822, 55, 1361, 19, 329, 6, 149, 105, 822, 36, 64, 45, 20, 18, 45, 20, 2145, 1095, 306, 74, 26, 69, 48, 115, 1162, 78, 3299, 2], [2, 0, 877, 43, 33, 24, 140, 20, 471, 13, 137, 70, 1473, 6, 2, 1, 1, 1, 1, 1, 1, 1, 1, 1, 1, 1, 1, 1, 1, 1, 1, 1, 1, 1, 1, 1, 1, 1, 1, 1, 1, 1, 1, 1, 1], [2, 0, 1574, 17, 3046, 102, 19, 72, 71, 1090, 23, 2, 1, 1, 1, 1, 1, 1, 1, 1, 1, 1, 1, 1, 1, 1, 1, 1, 1, 1, 1, 1, 1, 1, 1, 1, 1, 1, 1, 1, 1, 1, 1, 1, 1], [2, 0, 877, 17, 2098, 1080, 612, 133, 544, 6, 2, 1, 1, 1, 1, 1, 1, 1, 1, 1, 1, 1, 1, 1, 1, 1, 1, 1, 1, 1, 1, 1, 1, 1, 1, 1, 1, 1, 1, 1, 1, 1, 1, 1, 1], [2, 0, 3619, 17, 24, 6, 2, 1, 1, 1, 1, 1, 1, 1, 1, 1, 1, 1, 1, 1, 1, 1, 1, 1, 1, 1, 1, 1, 1, 1, 1, 1, 1, 1, 1, 1, 1, 1, 1, 1, 1, 1, 1, 1, 1], [2, 0, 3688, 13, 95, 648, 6, 2, 1, 1, 1, 1, 1, 1, 1, 1, 1, 1, 1, 1, 1, 1, 1, 1, 1, 1, 1, 1, 1, 1, 1, 1, 1, 1, 1, 1, 1, 1, 1, 1, 1, 1, 1, 1, 1], [2, 0, 1574, 2735, 151, 2238, 6, 2, 1, 1, 1, 1, 1, 1, 1, 1, 1, 1, 1, 1, 1, 1, 1, 1, 1, 1, 1, 1, 1, 1, 1, 1, 1, 1, 1, 1, 1, 1, 1, 1, 1, 1, 1, 1, 1], [2, 0, 3690, 623, 81, 256, 605, 2, 1, 1, 1, 1, 1, 1, 1, 1, 1, 1, 1, 1, 1, 1, 1, 1, 1, 1, 1, 1, 1, 1, 1, 1, 1, 1, 1, 1, 1, 1, 1, 1, 1, 1, 1, 1, 1], [2, 0, 1218, 815, 5, 568, 40, 1029, 5, 8, 2, 1, 1, 1, 1, 1, 1, 1, 1, 1, 1, 1, 1, 1, 1, 1, 1, 1, 1, 1, 1, 1, 1, 1, 1, 1, 1, 1, 1, 1, 1, 1, 1, 1, 1], [2, 0, 877, 43, 33, 521, 20, 81, 290, 6, 2, 1, 1, 1, 1, 1, 1, 1, 1, 1, 1, 1, 1, 1, 1, 1, 1, 1, 1, 1, 1, 1, 1, 1, 1, 1, 1, 1, 1, 1, 1, 1, 1, 1, 1], [2, 0, 3619, 2022, 24, 20, 6, 2, 1, 1, 1, 1, 1, 1, 1, 1, 1, 1, 1, 1, 1, 1, 1, 1, 1, 1, 1, 1, 1, 1, 1, 1, 1, 1, 1, 1, 1, 1, 1, 1, 1, 1, 1, 1, 1], [2, 0, 3688, 1954, 24, 23, 2, 1, 1, 1, 1, 1, 1, 1, 1, 1, 1, 1, 1, 1, 1, 1, 1, 1, 1, 1, 1, 1, 1, 1, 1, 1, 1, 1, 1, 1, 1, 1, 1, 1, 1, 1, 1, 1, 1], [2, 0, 3682, 935, 146, 96, 33, 50, 24, 23, 2, 1, 1, 1, 1, 1, 1, 1, 1, 1, 1, 1, 1, 1, 1, 1, 1, 1, 1, 1, 1, 1, 1, 1, 1, 1, 1, 1, 1, 1, 1, 1, 1, 1, 1], [2, 0, 3670, 1534, 1104, 366, 2384, 36, 5, 8, 2, 1, 1, 1, 1, 1, 1, 1, 1, 1, 1, 1, 1, 1, 1, 1, 1, 1, 1, 1, 1, 1, 1, 1, 1, 1, 1, 1, 1, 1, 1, 1, 1, 1, 1], [2, 0, 3689, 2371, 878, 40, 80, 15, 688, 15, 957, 19, 2479, 15, 114, 1604, 36, 23, 2, 1, 1, 1, 1, 1, 1, 1, 1, 1, 1, 1, 1, 1, 1, 1, 1, 1, 1, 1, 1, 1, 1, 1, 1, 1, 1], [2, 0, 3673, 852, 440, 5, 568, 40, 128, 5, 8, 2, 1, 1, 1, 1, 1, 1, 1, 1, 1, 1, 1, 1, 1, 1, 1, 1, 1, 1, 1, 1, 1, 1, 1, 1, 1, 1, 1, 1, 1, 1, 1, 1, 1], [2, 0, 3684, 14, 125, 211, 170, 6, 2, 1, 1, 1, 1, 1, 1, 1, 1, 1, 1, 1, 1, 1, 1, 1, 1, 1, 1, 1, 1, 1, 1, 1, 1, 1, 1, 1, 1, 1, 1, 1, 1, 1, 1, 1, 1], [2, 0, 3670, 3596, 113, 2538, 2097, 20, 2570, 103, 563, 76, 1040, 293, 226, 24, 6, 2, 1, 1, 1, 1, 1, 1, 1, 1, 1, 1, 1, 1, 1, 1, 1, 1, 1, 1, 1, 1, 1, 1, 1, 1, 1, 1, 1], [2, 0, 3226, 40, 573, 18, 245, 5, 568, 5, 8, 2, 1, 1, 1, 1, 1, 1, 1, 1, 1, 1, 1, 1, 1, 1, 1, 1, 1, 1, 1, 1, 1, 1, 1, 1, 1, 1, 1, 1, 1, 1, 1, 1, 1], [2, 0, 3682, 1971, 1146, 111, 243, 12, 58, 37, 76, 735, 606, 11, 7, 735, 606, 55, 480, 60, 130, 2442, 6, 5, 58, 60, 86, 390, 336, 6, 2, 1, 1, 1, 1, 1, 1, 1, 1, 1, 1, 1, 1, 1, 1], [2, 0, 1307, 95, 2038, 14, 1321, 221, 208, 15, 1984, 9, 9, 109, 2, 1, 1, 1, 1, 1, 1, 1, 1, 1, 1, 1, 1, 1, 1, 1, 1, 1, 1, 1, 1, 1, 1, 1, 1, 1, 1, 1, 1, 1, 1], [2, 0, 1574, 2735, 14, 151, 5, 2679, 5, 8, 2, 1, 1, 1, 1, 1, 1, 1, 1, 1, 1, 1, 1, 1, 1, 1, 1, 1, 1, 1, 1, 1, 1, 1, 1, 1, 1, 1, 1, 1, 1, 1, 1, 1, 1], [2, 0, 1218, 14, 685, 11, 246, 196, 23, 2, 1, 1, 1, 1, 1, 1, 1, 1, 1, 1, 1, 1, 1, 1, 1, 1, 1, 1, 1, 1, 1, 1, 1, 1, 1, 1, 1, 1, 1, 1, 1, 1, 1, 1, 1], [2, 0, 3670, 3292, 88, 287, 69, 15, 18, 58, 39, 654, 68, 473, 39, 2164, 1010, 39, 2339, 6, 129, 20, 762, 96, 292, 999, 336, 7, 60, 132, 76, 60, 430, 1098, 15, 128, 6, 2, 1, 1, 1, 1, 1, 1, 1], [2, 0, 3333, 1603, 107, 122, 11, 115, 74, 26, 107, 638, 55, 2009, 17, 55, 242, 13, 103, 169, 158, 15, 86, 6, 358, 76, 218, 72, 1428, 13, 329, 188, 31, 169, 6, 367, 208, 115, 797, 383, 742, 50, 132, 7, 2], [2, 0, 3670, 19, 40, 130, 647, 11, 434, 113, 1431, 6, 2, 1, 1, 1, 1, 1, 1, 1, 1, 1, 1, 1, 1, 1, 1, 1, 1, 1, 1, 1, 1, 1, 1, 1, 1, 1, 1, 1, 1, 1, 1, 1, 1], [2, 0, 3226, 37, 457, 6, 2, 1, 1, 1, 1, 1, 1, 1, 1, 1, 1, 1, 1, 1, 1, 1, 1, 1, 1, 1, 1, 1, 1, 1, 1], [2, 0, 3619, 623, 109, 2, 1, 1, 1, 1, 1, 1, 1, 1, 1, 1, 1, 1, 1, 1, 1, 1, 1, 1, 1, 1, 1, 1, 1, 1, 1], [2, 0, 877, 43, 33, 521, 20, 81, 290, 6, 2, 1, 1, 1, 1, 1, 1, 1, 1, 1, 1, 1, 1, 1, 1, 1, 1, 1, 1, 1, 1], [2, 0, 1574, 426, 164, 206, 96, 33, 1816, 1118, 283, 6, 2, 1, 1, 1, 1, 1, 1, 1, 1, 1, 1, 1, 1, 1, 1, 1, 1, 1, 1], [2, 0, 3670, 3292, 88, 89, 132, 76, 39, 1030, 7, 1030, 306, 74, 26, 39, 1030, 19, 96, 11, 7, 1030, 19, 2884, 70, 324, 111, 69, 15, 6, 2], [2, 0, 3333, 1603, 71, 297, 6, 736, 1586, 33, 64, 76, 89, 652, 237, 1626, 13, 33, 646, 19, 1626, 13, 11, 15, 638, 721, 36, 6, 2, 1, 1], [2, 0, 3688, 13, 3663, 1203, 23, 2, 1, 1, 1, 1, 1, 1, 1, 1, 1, 1, 1, 1, 1, 1, 1, 1, 1, 1, 1, 1, 1, 1, 1], [2, 0, 3682, 1095, 13, 240, 329, 2074, 14, 421, 80, 23, 2, 1, 1, 1, 1, 1, 1, 1, 1, 1, 1, 1, 1, 1, 1, 1, 1, 1, 1], [2, 0, 3688, 13, 2939, 37, 65, 80, 23, 2, 1, 1, 1, 1, 1, 1, 1, 1, 1, 1, 1, 1, 1, 1, 1, 1, 1, 1, 1, 1, 1], [2, 0, 3669, 215, 337, 109, 2, 1, 1, 1, 1, 1, 1, 1, 1, 1, 1, 1, 1, 1, 1, 1, 1, 1, 1, 1, 1, 1, 1, 1, 1], [2, 0, 3233, 14, 125, 133, 78, 50, 80, 7, 116, 524, 188, 56, 857, 21, 317, 45, 383, 98, 1251, 6, 2, 1, 1, 1, 1, 1, 1, 1, 1], [2, 0, 3619, 17, 17, 176, 65, 17, 2449, 5, 8, 2, 1, 1, 1, 1, 1, 1, 1, 1, 1, 1, 1, 1, 1, 1, 1, 1, 1, 1, 1], [2, 0, 1574, 154, 143, 146, 770, 13, 36, 493, 17, 98, 213, 23, 2, 1, 1, 1, 1, 1, 1, 1, 1, 1, 1, 1, 1, 1, 1, 1, 1], [2, 0, 877, 504, 508, 24, 6, 2, 1, 1, 1, 1, 1, 1, 1, 1, 1, 1, 1, 1, 1, 1, 1, 1, 1, 1, 1, 1, 1, 1, 1], [2, 0, 3670, 19, 744, 217, 6, 2, 1, 1, 1, 1, 1, 1, 1, 1, 1, 1, 1, 1, 1, 1, 1, 1, 1, 1, 1, 1, 1, 1, 1], [2, 0, 3619, 19, 125, 133, 6, 2, 1, 1, 1, 1, 1, 1, 1, 1, 1, 1, 1, 1, 1, 1, 1, 1, 1, 1, 1, 1, 1, 1, 1], [2, 0, 3226, 40, 81, 1236, 5, 8, 2, 1, 1, 1, 1, 1], [2, 0, 877, 43, 33, 24, 20, 79, 618, 23, 2, 1, 1, 1], [2, 0, 3672, 3310, 37, 5, 475, 542, 6, 2, 1, 1, 1, 1], [2, 0, 3690, 1603, 188, 458, 6, 2, 1, 1, 1, 1, 1, 1], [2, 0, 1402, 19, 105, 356, 70, 2955, 463, 1235, 2378, 217, 6, 2], [2, 0, 1218, 14, 685, 11, 246, 196, 6, 2, 1, 1, 1, 1]]\n"
     ]
    },
    {
     "name": "stderr",
     "output_type": "stream",
     "text": [
      "\n"
     ]
    }
   ],
   "source": [
    "# evaluation with test set\n",
    "df_ft_to_wf = trainer.evaluate(test_dataset)"
   ]
  },
  {
   "cell_type": "code",
   "execution_count": 15,
   "metadata": {},
   "outputs": [
    {
     "data": {
      "text/html": [
       "<div>\n",
       "<style scoped>\n",
       "    .dataframe tbody tr th:only-of-type {\n",
       "        vertical-align: middle;\n",
       "    }\n",
       "\n",
       "    .dataframe tbody tr th {\n",
       "        vertical-align: top;\n",
       "    }\n",
       "\n",
       "    .dataframe thead th {\n",
       "        text-align: right;\n",
       "    }\n",
       "</style>\n",
       "<table border=\"1\" class=\"dataframe\">\n",
       "  <thead>\n",
       "    <tr style=\"text-align: right;\">\n",
       "      <th></th>\n",
       "      <th>original_sentences</th>\n",
       "      <th>translations</th>\n",
       "      <th>predictions</th>\n",
       "    </tr>\n",
       "  </thead>\n",
       "  <tbody>\n",
       "    <tr>\n",
       "      <th>188</th>\n",
       "      <td>Donne le travail à un autre!</td>\n",
       "      <td>Joxal kenn liggéey bi!</td>\n",
       "      <td>Joxal téere bi doomu benn jigéen!</td>\n",
       "    </tr>\n",
       "    <tr>\n",
       "      <th>189</th>\n",
       "      <td>Cet homme qui a été.</td>\n",
       "      <td>Góor gii demoon.</td>\n",
       "      <td>Gor gii dem.</td>\n",
       "    </tr>\n",
       "    <tr>\n",
       "      <th>190</th>\n",
       "      <td>Dites-lui.</td>\n",
       "      <td>Nileen ka.</td>\n",
       "      <td>Nileen leen.</td>\n",
       "    </tr>\n",
       "    <tr>\n",
       "      <th>191</th>\n",
       "      <td>Il est là.</td>\n",
       "      <td>Ma ŋgoogule foofu.</td>\n",
       "      <td>Mi ŋgi fi.</td>\n",
       "    </tr>\n",
       "    <tr>\n",
       "      <th>192</th>\n",
       "      <td>Tu vois cet homme là-bas?</td>\n",
       "      <td>Gis ŋga nit kale?</td>\n",
       "      <td>Gis ŋga nit kee?</td>\n",
       "    </tr>\n",
       "    <tr>\n",
       "      <th>193</th>\n",
       "      <td>L'homme est parti je crois!</td>\n",
       "      <td>Ma defe góor gi dem na!</td>\n",
       "      <td>Góor gi dem na ma defe!</td>\n",
       "    </tr>\n",
       "    <tr>\n",
       "      <th>194</th>\n",
       "      <td>J'ai aperçu un baobab.</td>\n",
       "      <td>Séen naa ag guy.</td>\n",
       "      <td>Séen naa aw fas.</td>\n",
       "    </tr>\n",
       "    <tr>\n",
       "      <th>195</th>\n",
       "      <td>Celui-ci serait parti.</td>\n",
       "      <td>Kii dafa demkoon.</td>\n",
       "      <td>Kii dafa demkoon.</td>\n",
       "    </tr>\n",
       "    <tr>\n",
       "      <th>196</th>\n",
       "      <td>Toutes les portes étaient ouvertes.</td>\n",
       "      <td>Bunt yi yépp a tëjju woon.</td>\n",
       "      <td>Ci biir foofu yiooyale deey bëggu leen.</td>\n",
       "    </tr>\n",
       "    <tr>\n",
       "      <th>197</th>\n",
       "      <td>C'est Fatim, aujourd'hui.</td>\n",
       "      <td>Faatim la, tay.</td>\n",
       "      <td>Faatim la soo demee.</td>\n",
       "    </tr>\n",
       "  </tbody>\n",
       "</table>\n",
       "</div>"
      ],
      "text/plain": [
       "                      original_sentences                translations  \\\n",
       "188         Donne le travail à un autre!      Joxal kenn liggéey bi!   \n",
       "189                 Cet homme qui a été.            Góor gii demoon.   \n",
       "190                           Dites-lui.                  Nileen ka.   \n",
       "191                           Il est là.          Ma ŋgoogule foofu.   \n",
       "192            Tu vois cet homme là-bas?           Gis ŋga nit kale?   \n",
       "193          L'homme est parti je crois!     Ma defe góor gi dem na!   \n",
       "194               J'ai aperçu un baobab.            Séen naa ag guy.   \n",
       "195               Celui-ci serait parti.           Kii dafa demkoon.   \n",
       "196  Toutes les portes étaient ouvertes.  Bunt yi yépp a tëjju woon.   \n",
       "197            C'est Fatim, aujourd'hui.             Faatim la, tay.   \n",
       "\n",
       "                                 predictions  \n",
       "188        Joxal téere bi doomu benn jigéen!  \n",
       "189                             Gor gii dem.  \n",
       "190                             Nileen leen.  \n",
       "191                               Mi ŋgi fi.  \n",
       "192                         Gis ŋga nit kee?  \n",
       "193                  Góor gi dem na ma defe!  \n",
       "194                         Séen naa aw fas.  \n",
       "195                        Kii dafa demkoon.  \n",
       "196  Ci biir foofu yiooyale deey bëggu leen.  \n",
       "197                     Faatim la soo demee.  "
      ]
     },
     "execution_count": 15,
     "metadata": {},
     "output_type": "execute_result"
    }
   ],
   "source": [
    "df_ft_to_wf[1].tail(10)"
   ]
  },
  {
   "cell_type": "code",
   "execution_count": 16,
   "metadata": {},
   "outputs": [
    {
     "data": {
      "text/html": [
       "<div>\n",
       "<style scoped>\n",
       "    .dataframe tbody tr th:only-of-type {\n",
       "        vertical-align: middle;\n",
       "    }\n",
       "\n",
       "    .dataframe tbody tr th {\n",
       "        vertical-align: top;\n",
       "    }\n",
       "\n",
       "    .dataframe thead th {\n",
       "        text-align: right;\n",
       "    }\n",
       "</style>\n",
       "<table border=\"1\" class=\"dataframe\">\n",
       "  <thead>\n",
       "    <tr style=\"text-align: right;\">\n",
       "      <th></th>\n",
       "      <th>original_sentences</th>\n",
       "      <th>translations</th>\n",
       "      <th>predictions</th>\n",
       "    </tr>\n",
       "  </thead>\n",
       "  <tbody>\n",
       "    <tr>\n",
       "      <th>79</th>\n",
       "      <td>Nous fûmes Laobé.</td>\n",
       "      <td>Laobe lanu woon.</td>\n",
       "      <td>Laobe lañu woon.</td>\n",
       "    </tr>\n",
       "    <tr>\n",
       "      <th>48</th>\n",
       "      <td>Quiconque s'en va, celui-là est un froussard.</td>\n",
       "      <td>Képp ku dem, kooku raggal la.</td>\n",
       "      <td>Kann, kookuleuñu dara.</td>\n",
       "    </tr>\n",
       "    <tr>\n",
       "      <th>68</th>\n",
       "      <td>Qu'ils ne partent pas!</td>\n",
       "      <td>Bu ñu dem!</td>\n",
       "      <td>Bu ñu dem!</td>\n",
       "    </tr>\n",
       "    <tr>\n",
       "      <th>38</th>\n",
       "      <td>Le gars est arrivé un peu en retard.</td>\n",
       "      <td>Góor gi egg na wanté tardé na tuuti.</td>\n",
       "      <td>Lépp jeex na.</td>\n",
       "    </tr>\n",
       "    <tr>\n",
       "      <th>60</th>\n",
       "      <td>Mes voeux d'anniversaire.</td>\n",
       "      <td>Mangui lay ndokkel ci sa bess bu délu si bi.</td>\n",
       "      <td>Mangui lay set.</td>\n",
       "    </tr>\n",
       "    <tr>\n",
       "      <th>40</th>\n",
       "      <td>Le voilà assis là-bas.</td>\n",
       "      <td>Ma ŋgii toog.</td>\n",
       "      <td>Ñu ŋgoogee.</td>\n",
       "    </tr>\n",
       "    <tr>\n",
       "      <th>100</th>\n",
       "      <td>Quel démon!</td>\n",
       "      <td>Moo di loola!</td>\n",
       "      <td>Moo di loola!</td>\n",
       "    </tr>\n",
       "    <tr>\n",
       "      <th>54</th>\n",
       "      <td>Ils ont tous convenu qu'ils travailleraient to...</td>\n",
       "      <td>Degganté ñu ñoom ñép ci lu ñép di liggéeyi ci ...</td>\n",
       "      <td>Laobe lañu woon.</td>\n",
       "    </tr>\n",
       "    <tr>\n",
       "      <th>52</th>\n",
       "      <td>Et pourtant, je l'ai vu.</td>\n",
       "      <td>Moontin dey, gis naa ka.</td>\n",
       "      <td>Moontin, man, më dem.</td>\n",
       "    </tr>\n",
       "    <tr>\n",
       "      <th>127</th>\n",
       "      <td>C'est que j'ai effectivement été.</td>\n",
       "      <td>Dama dem.</td>\n",
       "      <td>Maa ŋgii demoon.</td>\n",
       "    </tr>\n",
       "    <tr>\n",
       "      <th>141</th>\n",
       "      <td>Qui as-tu vu?</td>\n",
       "      <td>Koo gis?</td>\n",
       "      <td>Ko gis?</td>\n",
       "    </tr>\n",
       "    <tr>\n",
       "      <th>59</th>\n",
       "      <td>Surtout pars!</td>\n",
       "      <td>Te ŋga dem kat!</td>\n",
       "      <td>Te nag ŋgeen dem!</td>\n",
       "    </tr>\n",
       "    <tr>\n",
       "      <th>123</th>\n",
       "      <td>Appelle les enfants qui n'iront nulle part.</td>\n",
       "      <td>Wool xale yi dul dem fenn.</td>\n",
       "      <td>Moolal mbër mu.</td>\n",
       "    </tr>\n",
       "    <tr>\n",
       "      <th>147</th>\n",
       "      <td>Celui-là et celui-ci n'ont rien de commun!</td>\n",
       "      <td>Kooka ak kile, bokkuñu!</td>\n",
       "      <td>Kooka ak kile, bokkuñu!</td>\n",
       "    </tr>\n",
       "    <tr>\n",
       "      <th>130</th>\n",
       "      <td>Où est le maître de maison?</td>\n",
       "      <td>Ana boroom kër gi?</td>\n",
       "      <td>Ana waa kër gi?</td>\n",
       "    </tr>\n",
       "    <tr>\n",
       "      <th>74</th>\n",
       "      <td>Sur cette photo ci, il y a des pierres qui son...</td>\n",
       "      <td>Waaw nataal bi de, ay xeer la yoo xam ni dañ d...</td>\n",
       "      <td>Nataal bii de nataal la boo xam ne ay nit la y...</td>\n",
       "    </tr>\n",
       "    <tr>\n",
       "      <th>162</th>\n",
       "      <td>Dis à l'homme de partir!</td>\n",
       "      <td>Waxal góor gi mu dem!</td>\n",
       "      <td>Waxal góor gi mu dem!</td>\n",
       "    </tr>\n",
       "    <tr>\n",
       "      <th>119</th>\n",
       "      <td>Le marabout implora qu'il fût dans la situatio...</td>\n",
       "      <td>Sëriñ bi ñaan na mayewoon alalam ji ba mënkóon...</td>\n",
       "      <td>Mi ŋgiiy gis ci nataal bi ay nit ñuy ñaxtu wal...</td>\n",
       "    </tr>\n",
       "    <tr>\n",
       "      <th>166</th>\n",
       "      <td>Je n'avais pas été te le cueillir.</td>\n",
       "      <td>Wattaliwuma la ka woon.</td>\n",
       "      <td>Ya ŋgi demulwoon.</td>\n",
       "    </tr>\n",
       "    <tr>\n",
       "      <th>163</th>\n",
       "      <td>Comment se passe le travail?</td>\n",
       "      <td>Naka ligéey bi?</td>\n",
       "      <td>Naka bëcëk bi?</td>\n",
       "    </tr>\n",
       "    <tr>\n",
       "      <th>47</th>\n",
       "      <td>Je veux que l'homme vienne.</td>\n",
       "      <td>Bëgg naa góor gi ñëw.</td>\n",
       "      <td>Bëgg naa góor gi ñëw.</td>\n",
       "    </tr>\n",
       "    <tr>\n",
       "      <th>102</th>\n",
       "      <td>Sur cette photo j'y ai vu une case qui se trou...</td>\n",
       "      <td>Nataal bii gis naa ci ab néegu ñax bu nekk cib...</td>\n",
       "      <td>Nataal bii gis naa ci biir nataal bi ay nit ñu...</td>\n",
       "    </tr>\n",
       "    <tr>\n",
       "      <th>65</th>\n",
       "      <td>Vous êtes partis.</td>\n",
       "      <td>Dem ŋgeen.</td>\n",
       "      <td>Ñooñu ŋgeen.</td>\n",
       "    </tr>\n",
       "    <tr>\n",
       "      <th>50</th>\n",
       "      <td>Je n'y avais pas été.</td>\n",
       "      <td>Demuma fa woon.</td>\n",
       "      <td>Demkoonuma.</td>\n",
       "    </tr>\n",
       "    <tr>\n",
       "      <th>105</th>\n",
       "      <td>Qu'il parte s'il ne veut pas!</td>\n",
       "      <td>Na dem su bëggul!</td>\n",
       "      <td>Su bëggul, na dem!</td>\n",
       "    </tr>\n",
       "    <tr>\n",
       "      <th>90</th>\n",
       "      <td>C'est là jusqu'au moment où nous trouverons un...</td>\n",
       "      <td>Foofu la ba ba ñuy gis feneen.</td>\n",
       "      <td>Ci fii la ba ba ñuy gis feneen.</td>\n",
       "    </tr>\n",
       "    <tr>\n",
       "      <th>110</th>\n",
       "      <td>C'est le Laobe.</td>\n",
       "      <td>Moo di Lawbe bi.</td>\n",
       "      <td>Na ngeen def.</td>\n",
       "    </tr>\n",
       "    <tr>\n",
       "      <th>167</th>\n",
       "      <td>La femme pria pour que les enfants arrivent et...</td>\n",
       "      <td>Jigéen ji ñaan na ndax xale yi agg te itam see...</td>\n",
       "      <td>Ndaw si réccu na amoon te mag ni ñaan nañu ŋge...</td>\n",
       "    </tr>\n",
       "    <tr>\n",
       "      <th>95</th>\n",
       "      <td>J'avais l'impression d'être le seul à avoir ce...</td>\n",
       "      <td>Dafa ma meloon nii man rek maa amoon numero bo...</td>\n",
       "      <td>Jëndukat bi bu ñuy waxoon ci terrain bi bes bo...</td>\n",
       "    </tr>\n",
       "    <tr>\n",
       "      <th>78</th>\n",
       "      <td>Si l'homme doit venir.</td>\n",
       "      <td>Su góor gi dee ñëw.</td>\n",
       "      <td>Su góor gi bëggée.</td>\n",
       "    </tr>\n",
       "    <tr>\n",
       "      <th>37</th>\n",
       "      <td>Je parle de cet homme-ci.</td>\n",
       "      <td>Kile nit laa wax.</td>\n",
       "      <td>Bule xale laa wax.</td>\n",
       "    </tr>\n",
       "    <tr>\n",
       "      <th>77</th>\n",
       "      <td>Qui sont-ce?</td>\n",
       "      <td>Ñan la?</td>\n",
       "      <td>Kan la?</td>\n",
       "    </tr>\n",
       "    <tr>\n",
       "      <th>62</th>\n",
       "      <td>Que la paix soit avec toi aussi.</td>\n",
       "      <td>Maaleekum salaam.</td>\n",
       "      <td>Salaam maaleekum.</td>\n",
       "    </tr>\n",
       "    <tr>\n",
       "      <th>161</th>\n",
       "      <td>J'irai aujourd'hui!</td>\n",
       "      <td>Tay danaa dem!</td>\n",
       "      <td>Danaa dem!</td>\n",
       "    </tr>\n",
       "    <tr>\n",
       "      <th>188</th>\n",
       "      <td>Donne le travail à un autre!</td>\n",
       "      <td>Joxal kenn liggéey bi!</td>\n",
       "      <td>Joxal téere bi doomu benn jigéen!</td>\n",
       "    </tr>\n",
       "    <tr>\n",
       "      <th>153</th>\n",
       "      <td>L'après-midi se passe bien.</td>\n",
       "      <td>Bëcëk baangi fi rek.</td>\n",
       "      <td>Guddi gaangi fi rek.</td>\n",
       "    </tr>\n",
       "    <tr>\n",
       "      <th>122</th>\n",
       "      <td>Cette photo ci c'est une photo sur laquelle je...</td>\n",
       "      <td>Nataal bi ab nataal la boo xamante yni maa ngi...</td>\n",
       "      <td>Nataal bii ma gis de nataal la boo xam ne ay n...</td>\n",
       "    </tr>\n",
       "    <tr>\n",
       "      <th>6</th>\n",
       "      <td>À toi qui es-là!</td>\n",
       "      <td>Yaw mile mi fii!</td>\n",
       "      <td>Yaa ŋgoogu rekk!</td>\n",
       "    </tr>\n",
       "    <tr>\n",
       "      <th>1</th>\n",
       "      <td>Tu reconnais cet individu-là?</td>\n",
       "      <td>Xammee ŋga waa jooju?</td>\n",
       "      <td>Xammee ŋga waa joojule?</td>\n",
       "    </tr>\n",
       "    <tr>\n",
       "      <th>23</th>\n",
       "      <td>Cette personne n'a pas été.</td>\n",
       "      <td>Waa jii moo demul.</td>\n",
       "      <td>Waa ji demulwoon.</td>\n",
       "    </tr>\n",
       "    <tr>\n",
       "      <th>106</th>\n",
       "      <td>Dis-lui qu'il ne vienne pas.</td>\n",
       "      <td>Ni ka bu mu ñëw.</td>\n",
       "      <td>Bi mu dee dem.</td>\n",
       "    </tr>\n",
       "    <tr>\n",
       "      <th>143</th>\n",
       "      <td>Tu as regardé dans cette chambre-ci?</td>\n",
       "      <td>Seet ŋga néeg buu?</td>\n",
       "      <td>Seet ŋga buu néeg?</td>\n",
       "    </tr>\n",
       "    <tr>\n",
       "      <th>175</th>\n",
       "      <td>C'est ce que tu as dit que la jeune femme préf...</td>\n",
       "      <td>Li ŋga wax la ndaw si taamu.</td>\n",
       "      <td>Ni ŋga def noonu la ndaw si sopp.</td>\n",
       "    </tr>\n",
       "    <tr>\n",
       "      <th>164</th>\n",
       "      <td>Je veux que tu viennes le matin à cinq heures ...</td>\n",
       "      <td>Bëgg naa ci juróomi waxtu, ci subë, ŋga ñëw!</td>\n",
       "      <td>Bëgg në ŋga ñëw ci subë ci juróomi waxtu ci se...</td>\n",
       "    </tr>\n",
       "    <tr>\n",
       "      <th>135</th>\n",
       "      <td>J'ai vu vache d'Europe.</td>\n",
       "      <td>Gis naa nagu Tugal.</td>\n",
       "      <td>Gis naa nagu Tugal.</td>\n",
       "    </tr>\n",
       "    <tr>\n",
       "      <th>134</th>\n",
       "      <td>Moussa vous a dit que j'étais à la retraite.</td>\n",
       "      <td>Musaa wax na leen jël naa sama retraite.</td>\n",
       "      <td>Musaa rekk laa degg.</td>\n",
       "    </tr>\n",
       "    <tr>\n",
       "      <th>159</th>\n",
       "      <td>L'homme a donné quelque chose à quelqu'un.</td>\n",
       "      <td>Góor gi may na dara nit.</td>\n",
       "      <td>Góor gi may na nit dara.</td>\n",
       "    </tr>\n",
       "    <tr>\n",
       "      <th>124</th>\n",
       "      <td>J'ai aperçu un homme.</td>\n",
       "      <td>Séen naa ak nit.</td>\n",
       "      <td>Séen naa aw fas.</td>\n",
       "    </tr>\n",
       "    <tr>\n",
       "      <th>10</th>\n",
       "      <td>J'ai vu lion.</td>\n",
       "      <td>Gis naa gaynde.</td>\n",
       "      <td>Gis naa la.</td>\n",
       "    </tr>\n",
       "    <tr>\n",
       "      <th>26</th>\n",
       "      <td>Tu as vu celui-ci?</td>\n",
       "      <td>Gis ŋga kooku?</td>\n",
       "      <td>Gis ŋga kan?</td>\n",
       "    </tr>\n",
       "    <tr>\n",
       "      <th>45</th>\n",
       "      <td>Qu'il attrappe quelles vaches?</td>\n",
       "      <td>Mu japp nag yooyu yan?</td>\n",
       "      <td>Muu dem?</td>\n",
       "    </tr>\n",
       "    <tr>\n",
       "      <th>128</th>\n",
       "      <td>Tu parles de quelle maison (ici)?</td>\n",
       "      <td>Bii néeg ban ŋga wax?</td>\n",
       "      <td>Boobu néeg ban ŋga wax?</td>\n",
       "    </tr>\n",
       "    <tr>\n",
       "      <th>115</th>\n",
       "      <td>Cet homme qui était parti.</td>\n",
       "      <td>Góor gii demoon.</td>\n",
       "      <td>Góor gii bëggóon.</td>\n",
       "    </tr>\n",
       "    <tr>\n",
       "      <th>4</th>\n",
       "      <td>Ce n'est pas le tambour!</td>\n",
       "      <td>Du sabar gi!</td>\n",
       "      <td>Jile wax rafetul!</td>\n",
       "    </tr>\n",
       "    <tr>\n",
       "      <th>192</th>\n",
       "      <td>Tu vois cet homme là-bas?</td>\n",
       "      <td>Gis ŋga nit kale?</td>\n",
       "      <td>Gis ŋga nit kee?</td>\n",
       "    </tr>\n",
       "    <tr>\n",
       "      <th>178</th>\n",
       "      <td>L'homme a fait un cadeau à Bathe.</td>\n",
       "      <td>Góor gi may na Bacc.</td>\n",
       "      <td>Góor gi may na nit dara.</td>\n",
       "    </tr>\n",
       "    <tr>\n",
       "      <th>57</th>\n",
       "      <td>Oui.</td>\n",
       "      <td>Wau.</td>\n",
       "      <td>Waaw.</td>\n",
       "    </tr>\n",
       "    <tr>\n",
       "      <th>15</th>\n",
       "      <td>Sur cette photo ci cependant, il y a un panier...</td>\n",
       "      <td>Nataal bii nag moom benn pañe la. Lu ëpp liñ k...</td>\n",
       "      <td>Nataal bii nag, aw jën la. Jën wi mi ngi ame ñ...</td>\n",
       "    </tr>\n",
       "    <tr>\n",
       "      <th>121</th>\n",
       "      <td>Ce n'est personne.</td>\n",
       "      <td>Du kenn.</td>\n",
       "      <td>Ñaaw na ndax kenn demul.</td>\n",
       "    </tr>\n",
       "    <tr>\n",
       "      <th>183</th>\n",
       "      <td>Mais, même moi, je n'ai pas été!</td>\n",
       "      <td>Waaye man sax dama dul ñëw!</td>\n",
       "      <td>Waaye man sax dama dul ñëw!</td>\n",
       "    </tr>\n",
       "    <tr>\n",
       "      <th>5</th>\n",
       "      <td>Les gens n'étaient pas, habituellement, bavards.</td>\n",
       "      <td>Nit ñi daawuñu coow.</td>\n",
       "      <td>Ñu ŋgoogee.</td>\n",
       "    </tr>\n",
       "    <tr>\n",
       "      <th>76</th>\n",
       "      <td>Chez les Sérère, les Peul, les Niominka...</td>\n",
       "      <td>Ci Séeréer si, ci Pël yi, ci Ñomiŋka yi...</td>\n",
       "      <td>Ci Séeréer yi, mag ñi du ñu deglóo.</td>\n",
       "    </tr>\n",
       "    <tr>\n",
       "      <th>158</th>\n",
       "      <td>Quels chevaux voulais-tu et lequel as-tu pris?</td>\n",
       "      <td>Yan fas ŋga bëggoon ak wan ŋga japp?</td>\n",
       "      <td>Fas yan ŋga jënd?</td>\n",
       "    </tr>\n",
       "    <tr>\n",
       "      <th>82</th>\n",
       "      <td>J'ai vu l'enfant.</td>\n",
       "      <td>Gis naa xale ba.</td>\n",
       "      <td>Gis naa jeeg bi.</td>\n",
       "    </tr>\n",
       "    <tr>\n",
       "      <th>7</th>\n",
       "      <td>S'il n'était pas Laobe.</td>\n",
       "      <td>Su dulwoon Lawbe.</td>\n",
       "      <td>Su ñëwul dana xam.</td>\n",
       "    </tr>\n",
       "    <tr>\n",
       "      <th>113</th>\n",
       "      <td>L'homme ne cultivera pas.</td>\n",
       "      <td>Góor gi du bày.</td>\n",
       "      <td>Góor gi bëggul.</td>\n",
       "    </tr>\n",
       "    <tr>\n",
       "      <th>20</th>\n",
       "      <td>Ceux-là, cependant, sont des cases. Celle qui ...</td>\n",
       "      <td>Waaw lii nag ay néegi ñax la, néegi ñax bi ci ...</td>\n",
       "      <td>Nataal bii nag, ay nit ñuy ñaxtu walla di jàmm...</td>\n",
       "    </tr>\n",
       "    <tr>\n",
       "      <th>94</th>\n",
       "      <td>Les travailleurs c'est toi et moi.</td>\n",
       "      <td>Liggéeykat yi man ag yaw la.</td>\n",
       "      <td>Liggéeykat yi ñun la.</td>\n",
       "    </tr>\n",
       "    <tr>\n",
       "      <th>14</th>\n",
       "      <td>Bon matin.</td>\n",
       "      <td>Jaam nga fanane.</td>\n",
       "      <td>Yônu jàam.</td>\n",
       "    </tr>\n",
       "    <tr>\n",
       "      <th>42</th>\n",
       "      <td>Tous ceux-là ne sont pas partis.</td>\n",
       "      <td>Ñooñu ñépp woon demuñu.</td>\n",
       "      <td>Ñooñu ŋgeen.</td>\n",
       "    </tr>\n",
       "    <tr>\n",
       "      <th>146</th>\n",
       "      <td>Jusqu'ici, c'est bon.</td>\n",
       "      <td>Ba fi, mu tollu.</td>\n",
       "      <td>Mu di kii.</td>\n",
       "    </tr>\n",
       "    <tr>\n",
       "      <th>170</th>\n",
       "      <td>Ramona me jugeait silencieusement.</td>\n",
       "      <td>Ramona dafa doon ma atte te waxul dara.</td>\n",
       "      <td>Am nàa mbekte ci guiss la.</td>\n",
       "    </tr>\n",
       "    <tr>\n",
       "      <th>87</th>\n",
       "      <td>Que l'homme parte.</td>\n",
       "      <td>Na gor gi dem.</td>\n",
       "      <td>Góor gi dem.</td>\n",
       "    </tr>\n",
       "    <tr>\n",
       "      <th>64</th>\n",
       "      <td>C'est lui qui n'eût pas été.</td>\n",
       "      <td>Moo demkoonul.</td>\n",
       "      <td>Moo demulwoon.</td>\n",
       "    </tr>\n",
       "    <tr>\n",
       "      <th>55</th>\n",
       "      <td>Cherche l'autre.</td>\n",
       "      <td>Seetal beneen bi.</td>\n",
       "      <td>Setal keneen ki.</td>\n",
       "    </tr>\n",
       "    <tr>\n",
       "      <th>107</th>\n",
       "      <td>Ceci est, cependant, une porte conçue avec du ...</td>\n",
       "      <td>Lii nag ab buntu la boo xam ne ndénk lanu ko d...</td>\n",
       "      <td>Waaw lii nag ab alkaati bu yor ngànnaayam, tak...</td>\n",
       "    </tr>\n",
       "    <tr>\n",
       "      <th>13</th>\n",
       "      <td>Samba?</td>\n",
       "      <td>Samba?</td>\n",
       "      <td>Samba  mi ñëw?</td>\n",
       "    </tr>\n",
       "    <tr>\n",
       "      <th>109</th>\n",
       "      <td>Sur la photo que vous m'avez envoyée il y a de...</td>\n",
       "      <td>Nataal bi ngeen ma yónne nii de ñaari baŋ lañ ...</td>\n",
       "      <td>Nataal bii ngeen ma yónnee de ñaari président ...</td>\n",
       "    </tr>\n",
       "    <tr>\n",
       "      <th>72</th>\n",
       "      <td>Converser avec lequel?</td>\n",
       "      <td>Waxtaan ak kenn kan?</td>\n",
       "      <td>Jaam nga am?</td>\n",
       "    </tr>\n",
       "    <tr>\n",
       "      <th>19</th>\n",
       "      <td>J'ai vu l'ovin mâle.</td>\n",
       "      <td>Gis naa xar mu góor ma.</td>\n",
       "      <td>Gis naa sama xarit yee.</td>\n",
       "    </tr>\n",
       "    <tr>\n",
       "      <th>190</th>\n",
       "      <td>Dites-lui.</td>\n",
       "      <td>Nileen ka.</td>\n",
       "      <td>Nileen leen.</td>\n",
       "    </tr>\n",
       "    <tr>\n",
       "      <th>56</th>\n",
       "      <td>Qui sont-ils?</td>\n",
       "      <td>Ñan lañu?</td>\n",
       "      <td>Kan la?</td>\n",
       "    </tr>\n",
       "    <tr>\n",
       "      <th>8</th>\n",
       "      <td>C'est lui qui aime.</td>\n",
       "      <td>Moo bëgg.</td>\n",
       "      <td>Moo doon dem.</td>\n",
       "    </tr>\n",
       "    <tr>\n",
       "      <th>177</th>\n",
       "      <td>L'un, dont il fut question, est parti.</td>\n",
       "      <td>Kenn ki woon dem na.</td>\n",
       "      <td>Menn la.</td>\n",
       "    </tr>\n",
       "    <tr>\n",
       "      <th>145</th>\n",
       "      <td>J'ai vu vache d'Europe.</td>\n",
       "      <td>Gis naa nagu Tugël.</td>\n",
       "      <td>Gis naa nagu Tugal.</td>\n",
       "    </tr>\n",
       "    <tr>\n",
       "      <th>98</th>\n",
       "      <td>C'est un bûcheron.</td>\n",
       "      <td>Aw lawbe la.</td>\n",
       "      <td>Keneen la.</td>\n",
       "    </tr>\n",
       "    <tr>\n",
       "      <th>196</th>\n",
       "      <td>Toutes les portes étaient ouvertes.</td>\n",
       "      <td>Bunt yi yépp a tëjju woon.</td>\n",
       "      <td>Ci biir foofu yiooyale deey bëggu leen.</td>\n",
       "    </tr>\n",
       "    <tr>\n",
       "      <th>160</th>\n",
       "      <td>Un, il est.</td>\n",
       "      <td>Menn la.</td>\n",
       "      <td>Moom dem na.</td>\n",
       "    </tr>\n",
       "    <tr>\n",
       "      <th>16</th>\n",
       "      <td>Quoi?</td>\n",
       "      <td>Lii lan?</td>\n",
       "      <td>Lu waral?</td>\n",
       "    </tr>\n",
       "    <tr>\n",
       "      <th>63</th>\n",
       "      <td>Quelles femmes se sont égarées?</td>\n",
       "      <td>Jigéen ñan ñoo réer?</td>\n",
       "      <td>Yëf yan ñoo réer?</td>\n",
       "    </tr>\n",
       "    <tr>\n",
       "      <th>86</th>\n",
       "      <td>Ils partent.</td>\n",
       "      <td>Dem nañu.</td>\n",
       "      <td>Ñungi dem.</td>\n",
       "    </tr>\n",
       "    <tr>\n",
       "      <th>149</th>\n",
       "      <td>Aucun mouton ne s'est égaré.</td>\n",
       "      <td>Menn xar réerul.</td>\n",
       "      <td>Xar menn réerul.</td>\n",
       "    </tr>\n",
       "    <tr>\n",
       "      <th>58</th>\n",
       "      <td>Parle au sujet de ceux-ci!</td>\n",
       "      <td>Waxal ci ñii!</td>\n",
       "      <td>Baal ma!</td>\n",
       "    </tr>\n",
       "    <tr>\n",
       "      <th>81</th>\n",
       "      <td>Il reçoit beaucoup d'aide.</td>\n",
       "      <td>Dina jot ay dimbali yu bari.</td>\n",
       "      <td>Dafa doon liggéey.</td>\n",
       "    </tr>\n",
       "    <tr>\n",
       "      <th>28</th>\n",
       "      <td>Va voir tous les chevaux!</td>\n",
       "      <td>Seetil fas yépp!</td>\n",
       "      <td>Seetil xar yépp!</td>\n",
       "    </tr>\n",
       "    <tr>\n",
       "      <th>99</th>\n",
       "      <td>Vous fûtes Laobé.</td>\n",
       "      <td>Laobe ŋgeen woon.</td>\n",
       "      <td>Laobe lañu woon.</td>\n",
       "    </tr>\n",
       "    <tr>\n",
       "      <th>118</th>\n",
       "      <td>Bonne soirée.</td>\n",
       "      <td>Naka ngon si.</td>\n",
       "      <td>Merhbe.</td>\n",
       "    </tr>\n",
       "    <tr>\n",
       "      <th>96</th>\n",
       "      <td>C'est son ami!</td>\n",
       "      <td>Xaritam la!</td>\n",
       "      <td>Suñu sarit la!</td>\n",
       "    </tr>\n",
       "    <tr>\n",
       "      <th>89</th>\n",
       "      <td>L'homme peut-il aller à Rao?</td>\n",
       "      <td>Góor gi dem Rao?</td>\n",
       "      <td>Góor gi dem ba mu ñëw?</td>\n",
       "    </tr>\n",
       "    <tr>\n",
       "      <th>169</th>\n",
       "      <td>Oui encore, je vois que ceci est une automobil...</td>\n",
       "      <td>Waaw ba tey lii de gis naa ne ag daamar, daama...</td>\n",
       "      <td>Waaw mbokk mi lii de gis naa ni baraada la, ba...</td>\n",
       "    </tr>\n",
       "  </tbody>\n",
       "</table>\n",
       "</div>"
      ],
      "text/plain": [
       "                                    original_sentences  \\\n",
       "79                                   Nous fûmes Laobé.   \n",
       "48       Quiconque s'en va, celui-là est un froussard.   \n",
       "68                              Qu'ils ne partent pas!   \n",
       "38                Le gars est arrivé un peu en retard.   \n",
       "60                           Mes voeux d'anniversaire.   \n",
       "40                              Le voilà assis là-bas.   \n",
       "100                                        Quel démon!   \n",
       "54   Ils ont tous convenu qu'ils travailleraient to...   \n",
       "52                            Et pourtant, je l'ai vu.   \n",
       "127                  C'est que j'ai effectivement été.   \n",
       "141                                      Qui as-tu vu?   \n",
       "59                                       Surtout pars!   \n",
       "123        Appelle les enfants qui n'iront nulle part.   \n",
       "147         Celui-là et celui-ci n'ont rien de commun!   \n",
       "130                        Où est le maître de maison?   \n",
       "74   Sur cette photo ci, il y a des pierres qui son...   \n",
       "162                           Dis à l'homme de partir!   \n",
       "119  Le marabout implora qu'il fût dans la situatio...   \n",
       "166                 Je n'avais pas été te le cueillir.   \n",
       "163                       Comment se passe le travail?   \n",
       "47                         Je veux que l'homme vienne.   \n",
       "102  Sur cette photo j'y ai vu une case qui se trou...   \n",
       "65                                   Vous êtes partis.   \n",
       "50                               Je n'y avais pas été.   \n",
       "105                      Qu'il parte s'il ne veut pas!   \n",
       "90   C'est là jusqu'au moment où nous trouverons un...   \n",
       "110                                    C'est le Laobe.   \n",
       "167  La femme pria pour que les enfants arrivent et...   \n",
       "95   J'avais l'impression d'être le seul à avoir ce...   \n",
       "78                              Si l'homme doit venir.   \n",
       "37                           Je parle de cet homme-ci.   \n",
       "77                                        Qui sont-ce?   \n",
       "62                    Que la paix soit avec toi aussi.   \n",
       "161                                J'irai aujourd'hui!   \n",
       "188                       Donne le travail à un autre!   \n",
       "153                        L'après-midi se passe bien.   \n",
       "122  Cette photo ci c'est une photo sur laquelle je...   \n",
       "6                                     À toi qui es-là!   \n",
       "1                        Tu reconnais cet individu-là?   \n",
       "23                         Cette personne n'a pas été.   \n",
       "106                       Dis-lui qu'il ne vienne pas.   \n",
       "143               Tu as regardé dans cette chambre-ci?   \n",
       "175  C'est ce que tu as dit que la jeune femme préf...   \n",
       "164  Je veux que tu viennes le matin à cinq heures ...   \n",
       "135                            J'ai vu vache d'Europe.   \n",
       "134       Moussa vous a dit que j'étais à la retraite.   \n",
       "159         L'homme a donné quelque chose à quelqu'un.   \n",
       "124                              J'ai aperçu un homme.   \n",
       "10                                       J'ai vu lion.   \n",
       "26                                  Tu as vu celui-ci?   \n",
       "45                      Qu'il attrappe quelles vaches?   \n",
       "128                  Tu parles de quelle maison (ici)?   \n",
       "115                         Cet homme qui était parti.   \n",
       "4                             Ce n'est pas le tambour!   \n",
       "192                          Tu vois cet homme là-bas?   \n",
       "178                  L'homme a fait un cadeau à Bathe.   \n",
       "57                                                Oui.   \n",
       "15   Sur cette photo ci cependant, il y a un panier...   \n",
       "121                                 Ce n'est personne.   \n",
       "183                   Mais, même moi, je n'ai pas été!   \n",
       "5     Les gens n'étaient pas, habituellement, bavards.   \n",
       "76          Chez les Sérère, les Peul, les Niominka...   \n",
       "158     Quels chevaux voulais-tu et lequel as-tu pris?   \n",
       "82                                   J'ai vu l'enfant.   \n",
       "7                              S'il n'était pas Laobe.   \n",
       "113                          L'homme ne cultivera pas.   \n",
       "20   Ceux-là, cependant, sont des cases. Celle qui ...   \n",
       "94                  Les travailleurs c'est toi et moi.   \n",
       "14                                          Bon matin.   \n",
       "42                    Tous ceux-là ne sont pas partis.   \n",
       "146                              Jusqu'ici, c'est bon.   \n",
       "170                 Ramona me jugeait silencieusement.   \n",
       "87                                  Que l'homme parte.   \n",
       "64                        C'est lui qui n'eût pas été.   \n",
       "55                                    Cherche l'autre.   \n",
       "107  Ceci est, cependant, une porte conçue avec du ...   \n",
       "13                                              Samba?   \n",
       "109  Sur la photo que vous m'avez envoyée il y a de...   \n",
       "72                              Converser avec lequel?   \n",
       "19                                J'ai vu l'ovin mâle.   \n",
       "190                                         Dites-lui.   \n",
       "56                                       Qui sont-ils?   \n",
       "8                                  C'est lui qui aime.   \n",
       "177             L'un, dont il fut question, est parti.   \n",
       "145                            J'ai vu vache d'Europe.   \n",
       "98                                  C'est un bûcheron.   \n",
       "196                Toutes les portes étaient ouvertes.   \n",
       "160                                        Un, il est.   \n",
       "16                                               Quoi?   \n",
       "63                     Quelles femmes se sont égarées?   \n",
       "86                                        Ils partent.   \n",
       "149                       Aucun mouton ne s'est égaré.   \n",
       "58                          Parle au sujet de ceux-ci!   \n",
       "81                          Il reçoit beaucoup d'aide.   \n",
       "28                           Va voir tous les chevaux!   \n",
       "99                                   Vous fûtes Laobé.   \n",
       "118                                      Bonne soirée.   \n",
       "96                                      C'est son ami!   \n",
       "89                        L'homme peut-il aller à Rao?   \n",
       "169  Oui encore, je vois que ceci est une automobil...   \n",
       "\n",
       "                                          translations  \\\n",
       "79                                    Laobe lanu woon.   \n",
       "48                       Képp ku dem, kooku raggal la.   \n",
       "68                                          Bu ñu dem!   \n",
       "38                Góor gi egg na wanté tardé na tuuti.   \n",
       "60        Mangui lay ndokkel ci sa bess bu délu si bi.   \n",
       "40                                       Ma ŋgii toog.   \n",
       "100                                      Moo di loola!   \n",
       "54   Degganté ñu ñoom ñép ci lu ñép di liggéeyi ci ...   \n",
       "52                            Moontin dey, gis naa ka.   \n",
       "127                                          Dama dem.   \n",
       "141                                           Koo gis?   \n",
       "59                                     Te ŋga dem kat!   \n",
       "123                         Wool xale yi dul dem fenn.   \n",
       "147                            Kooka ak kile, bokkuñu!   \n",
       "130                                 Ana boroom kër gi?   \n",
       "74   Waaw nataal bi de, ay xeer la yoo xam ni dañ d...   \n",
       "162                              Waxal góor gi mu dem!   \n",
       "119  Sëriñ bi ñaan na mayewoon alalam ji ba mënkóon...   \n",
       "166                            Wattaliwuma la ka woon.   \n",
       "163                                    Naka ligéey bi?   \n",
       "47                               Bëgg naa góor gi ñëw.   \n",
       "102  Nataal bii gis naa ci ab néegu ñax bu nekk cib...   \n",
       "65                                          Dem ŋgeen.   \n",
       "50                                     Demuma fa woon.   \n",
       "105                                  Na dem su bëggul!   \n",
       "90                      Foofu la ba ba ñuy gis feneen.   \n",
       "110                                   Moo di Lawbe bi.   \n",
       "167  Jigéen ji ñaan na ndax xale yi agg te itam see...   \n",
       "95   Dafa ma meloon nii man rek maa amoon numero bo...   \n",
       "78                                 Su góor gi dee ñëw.   \n",
       "37                                   Kile nit laa wax.   \n",
       "77                                             Ñan la?   \n",
       "62                                   Maaleekum salaam.   \n",
       "161                                     Tay danaa dem!   \n",
       "188                             Joxal kenn liggéey bi!   \n",
       "153                               Bëcëk baangi fi rek.   \n",
       "122  Nataal bi ab nataal la boo xamante yni maa ngi...   \n",
       "6                                     Yaw mile mi fii!   \n",
       "1                                Xammee ŋga waa jooju?   \n",
       "23                                  Waa jii moo demul.   \n",
       "106                                   Ni ka bu mu ñëw.   \n",
       "143                                 Seet ŋga néeg buu?   \n",
       "175                       Li ŋga wax la ndaw si taamu.   \n",
       "164       Bëgg naa ci juróomi waxtu, ci subë, ŋga ñëw!   \n",
       "135                                Gis naa nagu Tugal.   \n",
       "134           Musaa wax na leen jël naa sama retraite.   \n",
       "159                           Góor gi may na dara nit.   \n",
       "124                                   Séen naa ak nit.   \n",
       "10                                     Gis naa gaynde.   \n",
       "26                                      Gis ŋga kooku?   \n",
       "45                              Mu japp nag yooyu yan?   \n",
       "128                              Bii néeg ban ŋga wax?   \n",
       "115                                   Góor gii demoon.   \n",
       "4                                         Du sabar gi!   \n",
       "192                                  Gis ŋga nit kale?   \n",
       "178                               Góor gi may na Bacc.   \n",
       "57                                                Wau.   \n",
       "15   Nataal bii nag moom benn pañe la. Lu ëpp liñ k...   \n",
       "121                                           Du kenn.   \n",
       "183                        Waaye man sax dama dul ñëw!   \n",
       "5                                 Nit ñi daawuñu coow.   \n",
       "76          Ci Séeréer si, ci Pël yi, ci Ñomiŋka yi...   \n",
       "158               Yan fas ŋga bëggoon ak wan ŋga japp?   \n",
       "82                                    Gis naa xale ba.   \n",
       "7                                    Su dulwoon Lawbe.   \n",
       "113                                    Góor gi du bày.   \n",
       "20   Waaw lii nag ay néegi ñax la, néegi ñax bi ci ...   \n",
       "94                        Liggéeykat yi man ag yaw la.   \n",
       "14                                    Jaam nga fanane.   \n",
       "42                             Ñooñu ñépp woon demuñu.   \n",
       "146                                   Ba fi, mu tollu.   \n",
       "170            Ramona dafa doon ma atte te waxul dara.   \n",
       "87                                      Na gor gi dem.   \n",
       "64                                      Moo demkoonul.   \n",
       "55                                   Seetal beneen bi.   \n",
       "107  Lii nag ab buntu la boo xam ne ndénk lanu ko d...   \n",
       "13                                              Samba?   \n",
       "109  Nataal bi ngeen ma yónne nii de ñaari baŋ lañ ...   \n",
       "72                                Waxtaan ak kenn kan?   \n",
       "19                             Gis naa xar mu góor ma.   \n",
       "190                                         Nileen ka.   \n",
       "56                                           Ñan lañu?   \n",
       "8                                            Moo bëgg.   \n",
       "177                               Kenn ki woon dem na.   \n",
       "145                                Gis naa nagu Tugël.   \n",
       "98                                        Aw lawbe la.   \n",
       "196                         Bunt yi yépp a tëjju woon.   \n",
       "160                                           Menn la.   \n",
       "16                                            Lii lan?   \n",
       "63                                Jigéen ñan ñoo réer?   \n",
       "86                                           Dem nañu.   \n",
       "149                                   Menn xar réerul.   \n",
       "58                                       Waxal ci ñii!   \n",
       "81                        Dina jot ay dimbali yu bari.   \n",
       "28                                    Seetil fas yépp!   \n",
       "99                                   Laobe ŋgeen woon.   \n",
       "118                                      Naka ngon si.   \n",
       "96                                         Xaritam la!   \n",
       "89                                    Góor gi dem Rao?   \n",
       "169  Waaw ba tey lii de gis naa ne ag daamar, daama...   \n",
       "\n",
       "                                           predictions  \n",
       "79                                    Laobe lañu woon.  \n",
       "48                              Kann, kookuleuñu dara.  \n",
       "68                                          Bu ñu dem!  \n",
       "38                                       Lépp jeex na.  \n",
       "60                                     Mangui lay set.  \n",
       "40                                         Ñu ŋgoogee.  \n",
       "100                                      Moo di loola!  \n",
       "54                                    Laobe lañu woon.  \n",
       "52                               Moontin, man, më dem.  \n",
       "127                                   Maa ŋgii demoon.  \n",
       "141                                            Ko gis?  \n",
       "59                                   Te nag ŋgeen dem!  \n",
       "123                                    Moolal mbër mu.  \n",
       "147                            Kooka ak kile, bokkuñu!  \n",
       "130                                    Ana waa kër gi?  \n",
       "74   Nataal bii de nataal la boo xam ne ay nit la y...  \n",
       "162                              Waxal góor gi mu dem!  \n",
       "119  Mi ŋgiiy gis ci nataal bi ay nit ñuy ñaxtu wal...  \n",
       "166                                  Ya ŋgi demulwoon.  \n",
       "163                                     Naka bëcëk bi?  \n",
       "47                               Bëgg naa góor gi ñëw.  \n",
       "102  Nataal bii gis naa ci biir nataal bi ay nit ñu...  \n",
       "65                                        Ñooñu ŋgeen.  \n",
       "50                                         Demkoonuma.  \n",
       "105                                 Su bëggul, na dem!  \n",
       "90                     Ci fii la ba ba ñuy gis feneen.  \n",
       "110                                      Na ngeen def.  \n",
       "167  Ndaw si réccu na amoon te mag ni ñaan nañu ŋge...  \n",
       "95   Jëndukat bi bu ñuy waxoon ci terrain bi bes bo...  \n",
       "78                                  Su góor gi bëggée.  \n",
       "37                                  Bule xale laa wax.  \n",
       "77                                             Kan la?  \n",
       "62                                   Salaam maaleekum.  \n",
       "161                                         Danaa dem!  \n",
       "188                  Joxal téere bi doomu benn jigéen!  \n",
       "153                               Guddi gaangi fi rek.  \n",
       "122  Nataal bii ma gis de nataal la boo xam ne ay n...  \n",
       "6                                     Yaa ŋgoogu rekk!  \n",
       "1                              Xammee ŋga waa joojule?  \n",
       "23                                   Waa ji demulwoon.  \n",
       "106                                     Bi mu dee dem.  \n",
       "143                                 Seet ŋga buu néeg?  \n",
       "175                  Ni ŋga def noonu la ndaw si sopp.  \n",
       "164  Bëgg në ŋga ñëw ci subë ci juróomi waxtu ci se...  \n",
       "135                                Gis naa nagu Tugal.  \n",
       "134                               Musaa rekk laa degg.  \n",
       "159                           Góor gi may na nit dara.  \n",
       "124                                   Séen naa aw fas.  \n",
       "10                                         Gis naa la.  \n",
       "26                                        Gis ŋga kan?  \n",
       "45                                            Muu dem?  \n",
       "128                            Boobu néeg ban ŋga wax?  \n",
       "115                                  Góor gii bëggóon.  \n",
       "4                                    Jile wax rafetul!  \n",
       "192                                   Gis ŋga nit kee?  \n",
       "178                           Góor gi may na nit dara.  \n",
       "57                                               Waaw.  \n",
       "15   Nataal bii nag, aw jën la. Jën wi mi ngi ame ñ...  \n",
       "121                           Ñaaw na ndax kenn demul.  \n",
       "183                        Waaye man sax dama dul ñëw!  \n",
       "5                                          Ñu ŋgoogee.  \n",
       "76                 Ci Séeréer yi, mag ñi du ñu deglóo.  \n",
       "158                                  Fas yan ŋga jënd?  \n",
       "82                                    Gis naa jeeg bi.  \n",
       "7                                   Su ñëwul dana xam.  \n",
       "113                                    Góor gi bëggul.  \n",
       "20   Nataal bii nag, ay nit ñuy ñaxtu walla di jàmm...  \n",
       "94                               Liggéeykat yi ñun la.  \n",
       "14                                          Yônu jàam.  \n",
       "42                                        Ñooñu ŋgeen.  \n",
       "146                                         Mu di kii.  \n",
       "170                         Am nàa mbekte ci guiss la.  \n",
       "87                                        Góor gi dem.  \n",
       "64                                      Moo demulwoon.  \n",
       "55                                    Setal keneen ki.  \n",
       "107  Waaw lii nag ab alkaati bu yor ngànnaayam, tak...  \n",
       "13                                      Samba  mi ñëw?  \n",
       "109  Nataal bii ngeen ma yónnee de ñaari président ...  \n",
       "72                                        Jaam nga am?  \n",
       "19                             Gis naa sama xarit yee.  \n",
       "190                                       Nileen leen.  \n",
       "56                                             Kan la?  \n",
       "8                                        Moo doon dem.  \n",
       "177                                           Menn la.  \n",
       "145                                Gis naa nagu Tugal.  \n",
       "98                                          Keneen la.  \n",
       "196            Ci biir foofu yiooyale deey bëggu leen.  \n",
       "160                                       Moom dem na.  \n",
       "16                                           Lu waral?  \n",
       "63                                   Yëf yan ñoo réer?  \n",
       "86                                          Ñungi dem.  \n",
       "149                                   Xar menn réerul.  \n",
       "58                                            Baal ma!  \n",
       "81                                  Dafa doon liggéey.  \n",
       "28                                    Seetil xar yépp!  \n",
       "99                                    Laobe lañu woon.  \n",
       "118                                            Merhbe.  \n",
       "96                                      Suñu sarit la!  \n",
       "89                              Góor gi dem ba mu ñëw?  \n",
       "169  Waaw mbokk mi lii de gis naa ni baraada la, ba...  "
      ]
     },
     "execution_count": 16,
     "metadata": {},
     "output_type": "execute_result"
    }
   ],
   "source": [
    "# let us display 100 samples\n",
    "pd.options.display.max_rows = 100\n",
    "df_ft_to_wf[1].sample(100)"
   ]
  },
  {
   "attachments": {},
   "cell_type": "markdown",
   "metadata": {},
   "source": [
    "### Most similar tokens"
   ]
  },
  {
   "attachments": {},
   "cell_type": "markdown",
   "metadata": {},
   "source": [
    "In this subsection we want to find what tokens have most similarity between them using the embeddings. We must, at first, extract the weights of the embedding layer."
   ]
  },
  {
   "cell_type": "code",
   "execution_count": 19,
   "metadata": {},
   "outputs": [
    {
     "data": {
      "text/plain": [
       "0.2508285"
      ]
     },
     "execution_count": 19,
     "metadata": {},
     "output_type": "execute_result"
    }
   ],
   "source": [
    "# the following can compare two vectors using the cosine similarity\n",
    "def cosine_similarity(embed_1: torch.Tensor, embed_2: torch.Tensor):\n",
    "  return np.dot(embed_1, embed_2)/(np.linalg.norm(embed_1) * np.linalg.norm(embed_2))\n",
    "\n",
    "# recuperate the embeddings\n",
    "embeddings = trainer.model.model.shared.weight\n",
    "\n",
    "# let us compare the token at index 10 and 100\n",
    "cosine_similarity(embeddings[10].cpu().detach().numpy(), embeddings[100].cpu().detach().numpy())"
   ]
  },
  {
   "attachments": {},
   "cell_type": "markdown",
   "metadata": {},
   "source": [
    "The cosine similarity is between 0 and 1. A higher value represents a higher similarity between two tokens."
   ]
  },
  {
   "attachments": {},
   "cell_type": "markdown",
   "metadata": {},
   "source": [
    "To compare two groups of words we must tokenize them add the vectors of the tokens we obtain and calculate the similarity between the two groups' vectors."
   ]
  },
  {
   "attachments": {},
   "cell_type": "markdown",
   "metadata": {},
   "source": [
    "Let us take the example of the words 'wax ak kii' and 'waxtaan ak yow'."
   ]
  },
  {
   "cell_type": "code",
   "execution_count": 22,
   "metadata": {},
   "outputs": [
    {
     "data": {
      "text/plain": [
       "(tensor([2753,   73,  542]), tensor([2753,   31, 1116,   73,   48, 3452]))"
      ]
     },
     "execution_count": 22,
     "metadata": {},
     "output_type": "execute_result"
    }
   ],
   "source": [
    "word1 = 'wax ak kii'\n",
    "\n",
    "word2 = 'waxtaan ak yow'\n",
    "\n",
    "# get the token ids\n",
    "word1_id = tokenizer(word1, return_tensors='pt')['input_ids'][0]\n",
    "\n",
    "word2_id = tokenizer(word2, return_tensors='pt')['input_ids'][0]\n",
    "\n",
    "word1_id, word2_id\n"
   ]
  },
  {
   "attachments": {},
   "cell_type": "markdown",
   "metadata": {},
   "source": [
    "Let us get their vectors with the following function."
   ]
  },
  {
   "cell_type": "code",
   "execution_count": 37,
   "metadata": {},
   "outputs": [],
   "source": [
    "def get_embedding(model: torch.nn.Module, word_id: torch.Tensor):\n",
    "  \n",
    "  embeddings = model.model.shared.weight.cpu().detach().numpy()\n",
    "  \n",
    "  return embeddings[word_id].mean(axis=0) if word_id.shape[0] else embeddings[word_id]\n",
    "\n",
    "embeddings_1 = get_embedding(trainer.model, word1_id)\n",
    "\n",
    "embeddings_2 = get_embedding(trainer.model, word2_id)"
   ]
  },
  {
   "attachments": {},
   "cell_type": "markdown",
   "metadata": {},
   "source": [
    "We can then calculate the cosine similarity between the embeddings."
   ]
  },
  {
   "cell_type": "code",
   "execution_count": 39,
   "metadata": {},
   "outputs": [
    {
     "data": {
      "text/plain": [
       "0.5306478"
      ]
     },
     "execution_count": 39,
     "metadata": {},
     "output_type": "execute_result"
    }
   ],
   "source": [
    "similarity = cosine_similarity(embeddings_1, embeddings_2)\n",
    "\n",
    "similarity"
   ]
  },
  {
   "attachments": {},
   "cell_type": "markdown",
   "metadata": {},
   "source": [
    "Let us add the two tasks inside an unique function."
   ]
  },
  {
   "cell_type": "code",
   "execution_count": 45,
   "metadata": {},
   "outputs": [
    {
     "data": {
      "text/plain": [
       "0.5306478"
      ]
     },
     "execution_count": 45,
     "metadata": {},
     "output_type": "execute_result"
    }
   ],
   "source": [
    "def calculate_similary(model: torch.nn.Module, word1: str, word2: str):\n",
    "  \n",
    "  word1_id = tokenizer(word1, return_tensors='pt')['input_ids'][0]\n",
    "  \n",
    "  word2_id = tokenizer(word2, return_tensors='pt')['input_ids'][0]\n",
    "  \n",
    "  embeddings_1 = get_embedding(model, word1_id)\n",
    "  \n",
    "  embeddings_2 = get_embedding(model, word2_id)\n",
    "  \n",
    "  return cosine_similarity(embeddings_1, embeddings_2)\n",
    "\n",
    "calculate_similary(trainer.model, 'wax ak kii', 'waxtaan ak yow')"
   ]
  }
 ],
 "metadata": {
  "accelerator": "GPU",
  "colab": {
   "gpuType": "T4",
   "provenance": []
  },
  "gpuClass": "standard",
  "kernelspec": {
   "display_name": "pytorch1-HleOW5am-py3.10",
   "language": "python",
   "name": "python3"
  },
  "language_info": {
   "codemirror_mode": {
    "name": "ipython",
    "version": 3
   },
   "file_extension": ".py",
   "mimetype": "text/x-python",
   "name": "python",
   "nbconvert_exporter": "python",
   "pygments_lexer": "ipython3",
   "version": "3.10.8"
  },
  "widgets": {
   "application/vnd.jupyter.widget-state+json": {
    "07b148611e0445068ec4ae2a289f968d": {
     "model_module": "@jupyter-widgets/base",
     "model_module_version": "1.2.0",
     "model_name": "LayoutModel",
     "state": {
      "_model_module": "@jupyter-widgets/base",
      "_model_module_version": "1.2.0",
      "_model_name": "LayoutModel",
      "_view_count": null,
      "_view_module": "@jupyter-widgets/base",
      "_view_module_version": "1.2.0",
      "_view_name": "LayoutView",
      "align_content": null,
      "align_items": null,
      "align_self": null,
      "border": null,
      "bottom": null,
      "display": null,
      "flex": null,
      "flex_flow": null,
      "grid_area": null,
      "grid_auto_columns": null,
      "grid_auto_flow": null,
      "grid_auto_rows": null,
      "grid_column": null,
      "grid_gap": null,
      "grid_row": null,
      "grid_template_areas": null,
      "grid_template_columns": null,
      "grid_template_rows": null,
      "height": null,
      "justify_content": null,
      "justify_items": null,
      "left": null,
      "margin": null,
      "max_height": null,
      "max_width": null,
      "min_height": null,
      "min_width": null,
      "object_fit": null,
      "object_position": null,
      "order": null,
      "overflow": null,
      "overflow_x": null,
      "overflow_y": null,
      "padding": null,
      "right": null,
      "top": null,
      "visibility": null,
      "width": null
     }
    },
    "08fc0c2dc9b94689b80e085b682e54a5": {
     "model_module": "@jupyter-widgets/controls",
     "model_module_version": "1.5.0",
     "model_name": "LabelModel",
     "state": {
      "_dom_classes": [],
      "_model_module": "@jupyter-widgets/controls",
      "_model_module_version": "1.5.0",
      "_model_name": "LabelModel",
      "_view_count": null,
      "_view_module": "@jupyter-widgets/controls",
      "_view_module_version": "1.5.0",
      "_view_name": "LabelView",
      "description": "",
      "description_tooltip": null,
      "layout": "IPY_MODEL_07b148611e0445068ec4ae2a289f968d",
      "placeholder": "​",
      "style": "IPY_MODEL_4b5ea7f279854a01aaa4f5043372df2d",
      "value": "0.009 MB of 0.009 MB uploaded (0.000 MB deduped)\r"
     }
    },
    "347e2725b013421a951237d46b26d5e3": {
     "model_module": "@jupyter-widgets/controls",
     "model_module_version": "1.5.0",
     "model_name": "ProgressStyleModel",
     "state": {
      "_model_module": "@jupyter-widgets/controls",
      "_model_module_version": "1.5.0",
      "_model_name": "ProgressStyleModel",
      "_view_count": null,
      "_view_module": "@jupyter-widgets/base",
      "_view_module_version": "1.2.0",
      "_view_name": "StyleView",
      "bar_color": null,
      "description_width": ""
     }
    },
    "378d2507f5d5418681817fdbe4f227fd": {
     "model_module": "@jupyter-widgets/base",
     "model_module_version": "1.2.0",
     "model_name": "LayoutModel",
     "state": {
      "_model_module": "@jupyter-widgets/base",
      "_model_module_version": "1.2.0",
      "_model_name": "LayoutModel",
      "_view_count": null,
      "_view_module": "@jupyter-widgets/base",
      "_view_module_version": "1.2.0",
      "_view_name": "LayoutView",
      "align_content": null,
      "align_items": null,
      "align_self": null,
      "border": null,
      "bottom": null,
      "display": null,
      "flex": null,
      "flex_flow": null,
      "grid_area": null,
      "grid_auto_columns": null,
      "grid_auto_flow": null,
      "grid_auto_rows": null,
      "grid_column": null,
      "grid_gap": null,
      "grid_row": null,
      "grid_template_areas": null,
      "grid_template_columns": null,
      "grid_template_rows": null,
      "height": null,
      "justify_content": null,
      "justify_items": null,
      "left": null,
      "margin": null,
      "max_height": null,
      "max_width": null,
      "min_height": null,
      "min_width": null,
      "object_fit": null,
      "object_position": null,
      "order": null,
      "overflow": null,
      "overflow_x": null,
      "overflow_y": null,
      "padding": null,
      "right": null,
      "top": null,
      "visibility": null,
      "width": null
     }
    },
    "4b5ea7f279854a01aaa4f5043372df2d": {
     "model_module": "@jupyter-widgets/controls",
     "model_module_version": "1.5.0",
     "model_name": "DescriptionStyleModel",
     "state": {
      "_model_module": "@jupyter-widgets/controls",
      "_model_module_version": "1.5.0",
      "_model_name": "DescriptionStyleModel",
      "_view_count": null,
      "_view_module": "@jupyter-widgets/base",
      "_view_module_version": "1.2.0",
      "_view_name": "StyleView",
      "description_width": ""
     }
    },
    "4d964dc7e08d48f0be400d45c09f16e8": {
     "model_module": "@jupyter-widgets/base",
     "model_module_version": "1.2.0",
     "model_name": "LayoutModel",
     "state": {
      "_model_module": "@jupyter-widgets/base",
      "_model_module_version": "1.2.0",
      "_model_name": "LayoutModel",
      "_view_count": null,
      "_view_module": "@jupyter-widgets/base",
      "_view_module_version": "1.2.0",
      "_view_name": "LayoutView",
      "align_content": null,
      "align_items": null,
      "align_self": null,
      "border": null,
      "bottom": null,
      "display": null,
      "flex": null,
      "flex_flow": null,
      "grid_area": null,
      "grid_auto_columns": null,
      "grid_auto_flow": null,
      "grid_auto_rows": null,
      "grid_column": null,
      "grid_gap": null,
      "grid_row": null,
      "grid_template_areas": null,
      "grid_template_columns": null,
      "grid_template_rows": null,
      "height": null,
      "justify_content": null,
      "justify_items": null,
      "left": null,
      "margin": null,
      "max_height": null,
      "max_width": null,
      "min_height": null,
      "min_width": null,
      "object_fit": null,
      "object_position": null,
      "order": null,
      "overflow": null,
      "overflow_x": null,
      "overflow_y": null,
      "padding": null,
      "right": null,
      "top": null,
      "visibility": null,
      "width": null
     }
    },
    "abcbe273e5604d2383a7a1f03e79c682": {
     "model_module": "@jupyter-widgets/controls",
     "model_module_version": "1.5.0",
     "model_name": "VBoxModel",
     "state": {
      "_dom_classes": [],
      "_model_module": "@jupyter-widgets/controls",
      "_model_module_version": "1.5.0",
      "_model_name": "VBoxModel",
      "_view_count": null,
      "_view_module": "@jupyter-widgets/controls",
      "_view_module_version": "1.5.0",
      "_view_name": "VBoxView",
      "box_style": "",
      "children": [
       "IPY_MODEL_08fc0c2dc9b94689b80e085b682e54a5",
       "IPY_MODEL_bb425d8fef6e41f4bc1f1097477d1502"
      ],
      "layout": "IPY_MODEL_378d2507f5d5418681817fdbe4f227fd"
     }
    },
    "bb425d8fef6e41f4bc1f1097477d1502": {
     "model_module": "@jupyter-widgets/controls",
     "model_module_version": "1.5.0",
     "model_name": "FloatProgressModel",
     "state": {
      "_dom_classes": [],
      "_model_module": "@jupyter-widgets/controls",
      "_model_module_version": "1.5.0",
      "_model_name": "FloatProgressModel",
      "_view_count": null,
      "_view_module": "@jupyter-widgets/controls",
      "_view_module_version": "1.5.0",
      "_view_name": "ProgressView",
      "bar_style": "",
      "description": "",
      "description_tooltip": null,
      "layout": "IPY_MODEL_4d964dc7e08d48f0be400d45c09f16e8",
      "max": 1,
      "min": 0,
      "orientation": "horizontal",
      "style": "IPY_MODEL_347e2725b013421a951237d46b26d5e3",
      "value": 1
     }
    }
   }
  }
 },
 "nbformat": 4,
 "nbformat_minor": 4
}
