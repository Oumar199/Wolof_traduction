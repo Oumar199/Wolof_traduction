{
 "cells": [
  {
   "cell_type": "markdown",
   "metadata": {},
   "source": [
    "Install requirements."
   ]
  },
  {
   "cell_type": "code",
   "execution_count": 1,
   "metadata": {},
   "outputs": [],
   "source": [
    "!pip install -r requirements.txt -qq"
   ]
  },
  {
   "cell_type": "markdown",
   "metadata": {},
   "source": [
    "Download a wandb model."
   ]
  },
  {
   "cell_type": "code",
   "execution_count": 1,
   "metadata": {},
   "outputs": [
    {
     "name": "stdout",
     "output_type": "stream",
     "text": [
      "env: WANDB_LOG_MODEL=true\n",
      "env: WANDB_API_KEY=53c099408fab02d1e4fff7386e8dfc1e759689a1\n"
     ]
    }
   ],
   "source": [
    "import wandb\n",
    "\n",
    "# define wandb environment\n",
    "%env WANDB_LOG_MODEL=true\n",
    "%env WANDB_API_KEY=53c099408fab02d1e4fff7386e8dfc1e759689a1"
   ]
  },
  {
   "cell_type": "code",
   "execution_count": 2,
   "metadata": {},
   "outputs": [
    {
     "name": "stdout",
     "output_type": "stream",
     "text": [
      "Overwriting wolof-translate/wolof_translate/utils/download_model.py\n"
     ]
    }
   ],
   "source": [
    "%%writefile wolof-translate/wolof_translate/utils/download_model.py\n",
    "import shutil\n",
    "import wandb\n",
    "import glob\n",
    "import os\n",
    "\n",
    "def transfer_model(artifact_dir: str, model_name: str):\n",
    "    \"\"\"Transfer a download artifact into another directory\n",
    "    \n",
    "    Args:\n",
    "        artifact_dir (str): The directory of the artifact\n",
    "        model_name (str): The name of the model\n",
    "    \"\"\"\n",
    "    # transfer the model inside the artifact to data/checkpoints/name_of_model\n",
    "    os.makedirs(model_name, exist_ok=True)\n",
    "    for file in glob.glob(f'{artifact_dir}/*'):\n",
    "        shutil.copy(file, model_name)\n",
    "\n",
    "    # delete the artifact\n",
    "    shutil.rmtree(artifact_dir)\n",
    "\n",
    "def download_artifact(artifact_name: str, model_name: str, type_: str = 'dataset'):\n",
    "    \"\"\"This function download an artifact from weights and bias and store it into a directory\n",
    "    \n",
    "    Args:\n",
    "        artifact_name (str): name of the artifact\n",
    "        model_name (str): name of the model\n",
    "        type (str): type of the artifact. Default to 'directory'.\n",
    "    \"\"\"\n",
    "    # download wandb model\n",
    "    run = wandb.init()\n",
    "    artifact = run.use_artifact(artifact_name, type=type_)\n",
    "    artifact_dir = artifact.download()\n",
    "    \n",
    "    # transfer the artifact into another directory\n",
    "    transfer_model(artifact_dir, model_name)\n",
    "    \n",
    "    # finish wandb\n",
    "    wandb.finish()"
   ]
  },
  {
   "cell_type": "code",
   "execution_count": 3,
   "metadata": {},
   "outputs": [],
   "source": [
    "from wolof_translate.utils.download_model import download_artifact"
   ]
  },
  {
   "cell_type": "code",
   "execution_count": 4,
   "metadata": {},
   "outputs": [
    {
     "name": "stderr",
     "output_type": "stream",
     "text": [
      "Failed to detect the name of this notebook, you can set it manually with the WANDB_NOTEBOOK_NAME environment variable to enable code saving.\n",
      "\u001b[34m\u001b[1mwandb\u001b[0m: Currently logged in as: \u001b[33moumar-kane\u001b[0m (\u001b[33moumar-kane-team\u001b[0m). Use \u001b[1m`wandb login --relogin`\u001b[0m to force relogin\n"
     ]
    },
    {
     "data": {
      "text/html": [
       "Tracking run with wandb version 0.15.5"
      ],
      "text/plain": [
       "<IPython.core.display.HTML object>"
      ]
     },
     "metadata": {},
     "output_type": "display_data"
    },
    {
     "data": {
      "text/html": [
       "Run data is saved locally in <code>/home/ec2-user/SageMaker/Wolof_traduction/wandb/run-20230708_194937-6t06nbmq</code>"
      ],
      "text/plain": [
       "<IPython.core.display.HTML object>"
      ]
     },
     "metadata": {},
     "output_type": "display_data"
    },
    {
     "data": {
      "text/html": [
       "Syncing run <strong><a href='https://wandb.ai/oumar-kane-team/Wolof_traduction/runs/6t06nbmq' target=\"_blank\">rich-frog-23</a></strong> to <a href='https://wandb.ai/oumar-kane-team/Wolof_traduction' target=\"_blank\">Weights & Biases</a> (<a href='https://wandb.me/run' target=\"_blank\">docs</a>)<br/>"
      ],
      "text/plain": [
       "<IPython.core.display.HTML object>"
      ]
     },
     "metadata": {},
     "output_type": "display_data"
    },
    {
     "data": {
      "text/html": [
       " View project at <a href='https://wandb.ai/oumar-kane-team/Wolof_traduction' target=\"_blank\">https://wandb.ai/oumar-kane-team/Wolof_traduction</a>"
      ],
      "text/plain": [
       "<IPython.core.display.HTML object>"
      ]
     },
     "metadata": {},
     "output_type": "display_data"
    },
    {
     "data": {
      "text/html": [
       " View run at <a href='https://wandb.ai/oumar-kane-team/Wolof_traduction/runs/6t06nbmq' target=\"_blank\">https://wandb.ai/oumar-kane-team/Wolof_traduction/runs/6t06nbmq</a>"
      ],
      "text/plain": [
       "<IPython.core.display.HTML object>"
      ]
     },
     "metadata": {},
     "output_type": "display_data"
    },
    {
     "name": "stderr",
     "output_type": "stream",
     "text": [
      "\u001b[34m\u001b[1mwandb\u001b[0m: Downloading large artifact model_zokgpai:v0, 207.83MB. 2 files... \n",
      "\u001b[34m\u001b[1mwandb\u001b[0m:   2 of 2 files downloaded.  \n",
      "Done. 0:0:9.0\n"
     ]
    },
    {
     "data": {
      "text/html": [
       "Waiting for W&B process to finish... <strong style=\"color:green\">(success).</strong>"
      ],
      "text/plain": [
       "<IPython.core.display.HTML object>"
      ]
     },
     "metadata": {},
     "output_type": "display_data"
    },
    {
     "data": {
      "application/vnd.jupyter.widget-view+json": {
       "model_id": "1cfc78e0d98d4bba8213ef94b8985d75",
       "version_major": 2,
       "version_minor": 0
      },
      "text/plain": [
       "VBox(children=(Label(value='0.001 MB of 0.021 MB uploaded (0.000 MB deduped)\\r'), FloatProgress(value=0.066443…"
      ]
     },
     "metadata": {},
     "output_type": "display_data"
    },
    {
     "data": {
      "text/html": [
       " View run <strong style=\"color:#cdcd00\">rich-frog-23</strong> at: <a href='https://wandb.ai/oumar-kane-team/Wolof_traduction/runs/6t06nbmq' target=\"_blank\">https://wandb.ai/oumar-kane-team/Wolof_traduction/runs/6t06nbmq</a><br/>Synced 6 W&B file(s), 0 media file(s), 0 artifact file(s) and 0 other file(s)"
      ],
      "text/plain": [
       "<IPython.core.display.HTML object>"
      ]
     },
     "metadata": {},
     "output_type": "display_data"
    },
    {
     "data": {
      "text/html": [
       "Find logs at: <code>./wandb/run-20230708_194937-6t06nbmq/logs</code>"
      ],
      "text/plain": [
       "<IPython.core.display.HTML object>"
      ]
     },
     "metadata": {},
     "output_type": "display_data"
    }
   ],
   "source": [
    "# download and transfer an artifact from weights and bias\n",
    "artifact_name = 'oumar-kane-team/custom_transformer-fw-translation-bayes-hpsearch-v6/model_zokgpai:v0'\n",
    "model_name = 'custom_transformer_v6_fw_best'\n",
    "\n",
    "download_artifact(artifact_name, model_name)"
   ]
  },
  {
   "cell_type": "code",
   "execution_count": 5,
   "metadata": {},
   "outputs": [
    {
     "data": {
      "text/plain": [
       "['checkpoints.pth', 'checkpoints.json']"
      ]
     },
     "execution_count": 5,
     "metadata": {},
     "output_type": "execute_result"
    }
   ],
   "source": [
    "import os\n",
    "os.listdir(model_name)"
   ]
  },
  {
   "cell_type": "markdown",
   "metadata": {},
   "source": [
    "Rename the checkpoints if necessary."
   ]
  },
  {
   "cell_type": "code",
   "execution_count": 6,
   "metadata": {},
   "outputs": [],
   "source": [
    "# os.rename(f'{model_name}/checkpoints.json', f'{model_name}/best_checkpoints.json')\n",
    "# os.rename(f'{model_name}/checkpoints.pth', f'{model_name}/best_checkpoints.pth')"
   ]
  },
  {
   "cell_type": "markdown",
   "metadata": {},
   "source": [
    "-----------------"
   ]
  },
  {
   "cell_type": "markdown",
   "metadata": {},
   "source": [
    "Send a directory as a wandb artifact."
   ]
  },
  {
   "cell_type": "code",
   "execution_count": 12,
   "metadata": {},
   "outputs": [
    {
     "name": "stdout",
     "output_type": "stream",
     "text": [
      "Overwriting wolof-translate/wolof_translate/utils/send_model.py\n"
     ]
    }
   ],
   "source": [
    "%%writefile wolof-translate/wolof_translate/utils/send_model.py\n",
    "import wandb\n",
    "\n",
    "def add_directory(directory: str, artifact_name: str, project: str = 'fw_artifacts', entity: str = 'oumar-kane-team'):\n",
    "    \"\"\"Initialize a project and add checkpoints as artifact to wandb\n",
    "\n",
    "    Args:\n",
    "        directory (str): The directory where are stored the checkpoints\n",
    "        artifact_name (_type_): The name of the artifact\n",
    "        project (str, optional): The project name. Defaults to 'fw_artifacts'.\n",
    "        entity (str, optional): The entity name. Defaults to 'oumar-kane-team'.\n",
    "    \"\"\"\n",
    "    \n",
    "    run = wandb.init(project=project, entity=entity)\n",
    "    \n",
    "    # add a directory as artifact to wandb\n",
    "    artifact = wandb.Artifact(artifact_name, type='dataset')\n",
    "    artifact.add_dir(directory)\n",
    "    run.log_artifact(artifact)\n",
    "    \n",
    "    wandb.finish()"
   ]
  },
  {
   "cell_type": "code",
   "execution_count": null,
   "metadata": {},
   "outputs": [],
   "source": [
    "from wolof_translate.utils.send_model import add_directory"
   ]
  },
  {
   "cell_type": "code",
   "execution_count": null,
   "metadata": {},
   "outputs": [],
   "source": [
    "artifact_name = 'custom_transformer_v6_fw'\n",
    "add_directory(artifact_name, artifact_name)"
   ]
  },
  {
   "cell_type": "markdown",
   "metadata": {},
   "source": [
    "Compress the logs into an archive."
   ]
  },
  {
   "cell_type": "code",
   "execution_count": 9,
   "metadata": {},
   "outputs": [
    {
     "data": {
      "text/plain": [
       "'/home/ec2-user/SageMaker/en_us/Wolof_traduction/logs.zip'"
      ]
     },
     "execution_count": 9,
     "metadata": {},
     "output_type": "execute_result"
    }
   ],
   "source": [
    "import shutil\n",
    "\n",
    "model_type = 'transformer_custom_train_fw'\n",
    "\n",
    "logs_path = f'data/logs/{model_type}'\n",
    "\n",
    "file = 'version_6' # indicate the version name\n",
    "\n",
    "shutil.make_archive('logs', 'zip', logs_path, file)"
   ]
  }
 ],
 "metadata": {
  "kernelspec": {
   "display_name": "pytorch1-HleOW5am-py3.10",
   "language": "python",
   "name": "python3"
  },
  "language_info": {
   "codemirror_mode": {
    "name": "ipython",
    "version": 3
   },
   "file_extension": ".py",
   "mimetype": "text/x-python",
   "name": "python",
   "nbconvert_exporter": "python",
   "pygments_lexer": "ipython3",
   "version": "3.10.8"
  }
 },
 "nbformat": 4,
 "nbformat_minor": 4
}
