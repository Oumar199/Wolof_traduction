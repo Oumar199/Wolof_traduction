{
 "cells": [
  {
   "cell_type": "markdown",
   "metadata": {},
   "source": [
    "Install requirements."
   ]
  },
  {
   "cell_type": "code",
   "execution_count": 1,
   "metadata": {},
   "outputs": [
    {
     "name": "stdout",
     "output_type": "stream",
     "text": [
      "\u001b[31mERROR: pip's dependency resolver does not currently take into account all the packages that are installed. This behaviour is the source of the following dependency conflicts.\n",
      "awscli 1.27.150 requires docutils<0.17,>=0.10, but you have docutils 0.19 which is incompatible.\u001b[0m\u001b[31m\n",
      "\u001b[0m"
     ]
    }
   ],
   "source": [
    "!pip install -r requirements.txt -qq"
   ]
  },
  {
   "cell_type": "markdown",
   "metadata": {},
   "source": [
    "Download a wandb model below."
   ]
  },
  {
   "cell_type": "code",
   "execution_count": 2,
   "metadata": {},
   "outputs": [
    {
     "name": "stdout",
     "output_type": "stream",
     "text": [
      "env: WANDB_LOG_MODEL=true\n",
      "env: WANDB_API_KEY=53c099408fab02d1e4fff7386e8dfc1e759689a1\n"
     ]
    }
   ],
   "source": [
    "import wandb\n",
    "\n",
    "# define wandb environment\n",
    "%env WANDB_LOG_MODEL=true\n",
    "%env WANDB_API_KEY=53c099408fab02d1e4fff7386e8dfc1e759689a1"
   ]
  },
  {
   "cell_type": "code",
   "execution_count": 10,
   "metadata": {},
   "outputs": [
    {
     "data": {
      "text/html": [
       "Tracking run with wandb version 0.15.4"
      ],
      "text/plain": [
       "<IPython.core.display.HTML object>"
      ]
     },
     "metadata": {},
     "output_type": "display_data"
    },
    {
     "data": {
      "text/html": [
       "Run data is saved locally in <code>/home/ec2-user/SageMaker/en_us/Wolof_traduction/wandb/run-20230628_114234-v7i4nre5</code>"
      ],
      "text/plain": [
       "<IPython.core.display.HTML object>"
      ]
     },
     "metadata": {},
     "output_type": "display_data"
    },
    {
     "data": {
      "text/html": [
       "Syncing run <strong><a href='https://wandb.ai/oumar-kane-team/Wolof_traduction/runs/v7i4nre5' target=\"_blank\">ancient-grass-21</a></strong> to <a href='https://wandb.ai/oumar-kane-team/Wolof_traduction' target=\"_blank\">Weights & Biases</a> (<a href='https://wandb.me/run' target=\"_blank\">docs</a>)<br/>"
      ],
      "text/plain": [
       "<IPython.core.display.HTML object>"
      ]
     },
     "metadata": {},
     "output_type": "display_data"
    },
    {
     "data": {
      "text/html": [
       " View project at <a href='https://wandb.ai/oumar-kane-team/Wolof_traduction' target=\"_blank\">https://wandb.ai/oumar-kane-team/Wolof_traduction</a>"
      ],
      "text/plain": [
       "<IPython.core.display.HTML object>"
      ]
     },
     "metadata": {},
     "output_type": "display_data"
    },
    {
     "data": {
      "text/html": [
       " View run at <a href='https://wandb.ai/oumar-kane-team/Wolof_traduction/runs/v7i4nre5' target=\"_blank\">https://wandb.ai/oumar-kane-team/Wolof_traduction/runs/v7i4nre5</a>"
      ],
      "text/plain": [
       "<IPython.core.display.HTML object>"
      ]
     },
     "metadata": {},
     "output_type": "display_data"
    },
    {
     "name": "stderr",
     "output_type": "stream",
     "text": [
      "\u001b[34m\u001b[1mwandb\u001b[0m: Downloading large artifact model_nufibzx:v0, 176.03MB. 2 files... \n",
      "\u001b[34m\u001b[1mwandb\u001b[0m:   2 of 2 files downloaded.  \n",
      "Done. 0:0:4.8\n"
     ]
    }
   ],
   "source": [
    "# download wandb model\n",
    "run = wandb.init()\n",
    "artifact = run.use_artifact('oumar-kane-team/t5-small-custom-train-wf-translation-bayes-hpsearch-v5_2/model_nufibzx:v0', type='dataset')\n",
    "artifact_dir = artifact.download()"
   ]
  },
  {
   "cell_type": "code",
   "execution_count": 11,
   "metadata": {},
   "outputs": [
    {
     "data": {
      "text/html": [
       "Waiting for W&B process to finish... <strong style=\"color:green\">(success).</strong>"
      ],
      "text/plain": [
       "<IPython.core.display.HTML object>"
      ]
     },
     "metadata": {},
     "output_type": "display_data"
    },
    {
     "data": {
      "application/vnd.jupyter.widget-view+json": {
       "model_id": "bb8d72c45916449895cb2178fd5622b9",
       "version_major": 2,
       "version_minor": 0
      },
      "text/plain": [
       "VBox(children=(Label(value='0.002 MB of 0.002 MB uploaded (0.000 MB deduped)\\r'), FloatProgress(value=1.0, max…"
      ]
     },
     "metadata": {},
     "output_type": "display_data"
    },
    {
     "data": {
      "text/html": [
       " View run <strong style=\"color:#cdcd00\">ancient-grass-21</strong> at: <a href='https://wandb.ai/oumar-kane-team/Wolof_traduction/runs/v7i4nre5' target=\"_blank\">https://wandb.ai/oumar-kane-team/Wolof_traduction/runs/v7i4nre5</a><br/>Synced 6 W&B file(s), 0 media file(s), 0 artifact file(s) and 0 other file(s)"
      ],
      "text/plain": [
       "<IPython.core.display.HTML object>"
      ]
     },
     "metadata": {},
     "output_type": "display_data"
    },
    {
     "data": {
      "text/html": [
       "Find logs at: <code>./wandb/run-20230628_114234-v7i4nre5/logs</code>"
      ],
      "text/plain": [
       "<IPython.core.display.HTML object>"
      ]
     },
     "metadata": {},
     "output_type": "display_data"
    }
   ],
   "source": [
    "wandb.finish()"
   ]
  },
  {
   "cell_type": "code",
   "execution_count": 12,
   "metadata": {},
   "outputs": [],
   "source": [
    "# transfer the model inside the artifact to data/checkpoints/name_of_model\n",
    "def transfer_model(artifact_dir, model_name):\n",
    "    import os\n",
    "    import shutil\n",
    "    import glob\n",
    "\n",
    "    # transfer the model inside the artifact to data/checkpoints/name_of_model\n",
    "    os.makedirs(model_name, exist_ok=True)\n",
    "    for file in glob.glob(f'{artifact_dir}/*'):\n",
    "        shutil.copy(file, model_name)\n",
    "\n",
    "    # delete the artifact\n",
    "    shutil.rmtree(artifact_dir)\n",
    "\n",
    "# transfer the model inside the artifact to name_of_model\n",
    "model_name = 'wf_t5_small_custom_train_v5_2_checkpoints'\n",
    "transfer_model(artifact_dir, model_name)"
   ]
  },
  {
   "cell_type": "code",
   "execution_count": 13,
   "metadata": {},
   "outputs": [
    {
     "data": {
      "text/plain": [
       "['checkpoints.pth', 'checkpoints.json']"
      ]
     },
     "execution_count": 13,
     "metadata": {},
     "output_type": "execute_result"
    }
   ],
   "source": [
    "import os\n",
    "os.listdir(model_name)"
   ]
  },
  {
   "cell_type": "code",
   "execution_count": 14,
   "metadata": {},
   "outputs": [],
   "source": [
    "os.rename(f'{model_name}/checkpoints.json', f'{model_name}/best_checkpoints.json')\n",
    "os.rename(f'{model_name}/checkpoints.pth', f'{model_name}/best_checkpoints.pth')"
   ]
  },
  {
   "cell_type": "markdown",
   "metadata": {},
   "source": [
    "-----------------"
   ]
  },
  {
   "cell_type": "markdown",
   "metadata": {},
   "source": [
    "Send a directory as a wandb artifact."
   ]
  },
  {
   "cell_type": "code",
   "execution_count": 8,
   "metadata": {},
   "outputs": [
    {
     "data": {
      "text/html": [
       "Tracking run with wandb version 0.15.4"
      ],
      "text/plain": [
       "<IPython.core.display.HTML object>"
      ]
     },
     "metadata": {},
     "output_type": "display_data"
    },
    {
     "data": {
      "text/html": [
       "Run data is saved locally in <code>/home/ec2-user/SageMaker/en_us/Wolof_traduction/wandb/run-20230628_113803-9zxc2oze</code>"
      ],
      "text/plain": [
       "<IPython.core.display.HTML object>"
      ]
     },
     "metadata": {},
     "output_type": "display_data"
    },
    {
     "data": {
      "text/html": [
       "Syncing run <strong><a href='https://wandb.ai/oumar-kane-team/fw_artifacts/runs/9zxc2oze' target=\"_blank\">vivid-bird-8</a></strong> to <a href='https://wandb.ai/oumar-kane-team/fw_artifacts' target=\"_blank\">Weights & Biases</a> (<a href='https://wandb.me/run' target=\"_blank\">docs</a>)<br/>"
      ],
      "text/plain": [
       "<IPython.core.display.HTML object>"
      ]
     },
     "metadata": {},
     "output_type": "display_data"
    },
    {
     "data": {
      "text/html": [
       " View project at <a href='https://wandb.ai/oumar-kane-team/fw_artifacts' target=\"_blank\">https://wandb.ai/oumar-kane-team/fw_artifacts</a>"
      ],
      "text/plain": [
       "<IPython.core.display.HTML object>"
      ]
     },
     "metadata": {},
     "output_type": "display_data"
    },
    {
     "data": {
      "text/html": [
       " View run at <a href='https://wandb.ai/oumar-kane-team/fw_artifacts/runs/9zxc2oze' target=\"_blank\">https://wandb.ai/oumar-kane-team/fw_artifacts/runs/9zxc2oze</a>"
      ],
      "text/plain": [
       "<IPython.core.display.HTML object>"
      ]
     },
     "metadata": {},
     "output_type": "display_data"
    },
    {
     "name": "stderr",
     "output_type": "stream",
     "text": [
      "\u001b[34m\u001b[1mwandb\u001b[0m: Adding directory to artifact (./t5_small_custom_train_results_fw_v5_2)... Done. 0.5s\n"
     ]
    },
    {
     "data": {
      "text/html": [
       "Waiting for W&B process to finish... <strong style=\"color:green\">(success).</strong>"
      ],
      "text/plain": [
       "<IPython.core.display.HTML object>"
      ]
     },
     "metadata": {},
     "output_type": "display_data"
    },
    {
     "data": {
      "text/html": [
       " View run <strong style=\"color:#cdcd00\">vivid-bird-8</strong> at: <a href='https://wandb.ai/oumar-kane-team/fw_artifacts/runs/9zxc2oze' target=\"_blank\">https://wandb.ai/oumar-kane-team/fw_artifacts/runs/9zxc2oze</a><br/>Synced 6 W&B file(s), 0 media file(s), 5 artifact file(s) and 0 other file(s)"
      ],
      "text/plain": [
       "<IPython.core.display.HTML object>"
      ]
     },
     "metadata": {},
     "output_type": "display_data"
    },
    {
     "data": {
      "text/html": [
       "Find logs at: <code>./wandb/run-20230628_113803-9zxc2oze/logs</code>"
      ],
      "text/plain": [
       "<IPython.core.display.HTML object>"
      ]
     },
     "metadata": {},
     "output_type": "display_data"
    }
   ],
   "source": [
    "# initialize a project and add a directory as artifact to wandb \n",
    "artifact_name = 't5_small_custom_train_results_fw_v5_2'\n",
    "def add_directory(directory, artifact_name, project: str = 'fw_artifacts', entity: str = 'oumar-kane-team'):\n",
    "    \n",
    "    run = wandb.init(project=project, entity=entity)\n",
    "    \n",
    "    # add a directory as artifact to wandb\n",
    "    artifact = wandb.Artifact(artifact_name, type='dataset')\n",
    "    artifact.add_dir(directory)\n",
    "    run.log_artifact(artifact)\n",
    "    \n",
    "    wandb.finish()\n",
    "    \n",
    "add_directory(artifact_name, artifact_name)"
   ]
  },
  {
   "cell_type": "markdown",
   "metadata": {},
   "source": [
    "Compress the logs into an archive."
   ]
  },
  {
   "cell_type": "code",
   "execution_count": 9,
   "metadata": {},
   "outputs": [
    {
     "data": {
      "text/plain": [
       "'/home/ec2-user/SageMaker/en_us/Wolof_traduction/logs.zip'"
      ]
     },
     "execution_count": 9,
     "metadata": {},
     "output_type": "execute_result"
    }
   ],
   "source": [
    "import shutil\n",
    "\n",
    "logs_path = 'data/logs/t5_small_custom_train_fw'\n",
    "\n",
    "file = 'version_5_2'\n",
    "\n",
    "shutil.make_archive('logs', 'zip', logs_path, file)"
   ]
  },
  {
   "cell_type": "markdown",
   "metadata": {},
   "source": [
    "Show the current device."
   ]
  },
  {
   "cell_type": "code",
   "execution_count": 12,
   "metadata": {},
   "outputs": [],
   "source": [
    "import torch"
   ]
  },
  {
   "cell_type": "code",
   "execution_count": 13,
   "metadata": {},
   "outputs": [
    {
     "data": {
      "text/plain": [
       "'Tesla V100-SXM2-16GB'"
      ]
     },
     "execution_count": 13,
     "metadata": {},
     "output_type": "execute_result"
    }
   ],
   "source": [
    "torch.cuda.get_device_name()"
   ]
  }
 ],
 "metadata": {
  "kernelspec": {
   "display_name": "conda_pytorch_p310",
   "language": "python",
   "name": "conda_pytorch_p310"
  },
  "language_info": {
   "codemirror_mode": {
    "name": "ipython",
    "version": 3
   },
   "file_extension": ".py",
   "mimetype": "text/x-python",
   "name": "python",
   "nbconvert_exporter": "python",
   "pygments_lexer": "ipython3",
   "version": "3.10.10"
  }
 },
 "nbformat": 4,
 "nbformat_minor": 4
}
