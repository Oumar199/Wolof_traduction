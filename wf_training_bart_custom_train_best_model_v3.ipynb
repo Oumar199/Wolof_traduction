{
 "cells": [
  {
   "attachments": {},
   "cell_type": "markdown",
   "metadata": {
    "id": "YTsVWwCgLAJl"
   },
   "source": [
    "Fine-tuning best BART 🤖\n",
    "-----------------------------------\n",
    "\n",
    "In this notebook, we will continue the fine-tuning of the BART model on the new extracted sentences from the book **Grammaire de Wolof Moderne**. We provide, bellow, the main evaluation figures, obtained from the hyperparameter search step. We will evaluate the training on the validation dataset.\n",
    "\n",
    "- Parallel coordinates from panel:\n",
    "\n",
    "- Parameter importance char: \n",
    "[t5_v3_importance](https://wandb.ai/oumar-kane-team/small-t5-cross-fw-translation-bayes-hpsearch-v3/reports/undefined-23-05-16-10-36-17---Vmlldzo0Mzc4NDY0?accessToken=eyaiyrid0qz1zg2jkq3fc65biw53084dpfitbi0dgonq6mweupw6kgjml9d2nv1w)"
   ]
  },
  {
   "attachments": {},
   "cell_type": "markdown",
   "metadata": {},
   "source": [
    "We can see in the above chart that the batch is the most important parameter with a negative correlation with the BLEU score (meaning that a lower batch size is better). Next, we the probability of modifying a character in the french corpus is also important and a high probability provide a better BLEU score.  "
   ]
  },
  {
   "cell_type": "code",
   "execution_count": 1,
   "metadata": {
    "colab": {
     "base_uri": "https://localhost:8080/"
    },
    "executionInfo": {
     "elapsed": 41798,
     "status": "ok",
     "timestamp": 1683491387892,
     "user": {
      "displayName": "Oumar Kane",
      "userId": "05889582343301699661"
     },
     "user_tz": 0
    },
    "id": "dF37F8_nLAJr",
    "outputId": "7f5f2bed-9b9d-49f9-c8f1-6fe427cf1502"
   },
   "outputs": [
    {
     "name": "stderr",
     "output_type": "stream",
     "text": [
      "c:\\Users\\Oumar Kane\\AppData\\Local\\pypoetry\\Cache\\virtualenvs\\pytorch1-HleOW5am-py3.10\\lib\\site-packages\\tqdm\\auto.py:22: TqdmWarning: IProgress not found. Please update jupyter and ipywidgets. See https://ipywidgets.readthedocs.io/en/stable/user_install.html\n",
      "  from .autonotebook import tqdm as notebook_tqdm\n",
      "Global seed set to 0\n"
     ]
    }
   ],
   "source": [
    "# let us import all necessary libraries\n",
    "from transformers import BartModel, BartForConditionalGeneration, Seq2SeqTrainer, BartTokenizerFast, set_seed, AdamW, get_linear_schedule_with_warmup,\\\n",
    "                          get_linear_schedule_with_warmup, get_cosine_schedule_with_warmup, Adafactor\n",
    "from wolof_translate.utils.sent_transformers import TransformerSequences\n",
    "from wolof_translate.utils.improvements.end_marks import add_end_mark # added\n",
    "from torch.nn import TransformerEncoderLayer, TransformerDecoderLayer\n",
    "from torch.utils.data import Dataset, DataLoader, random_split\n",
    "from wolof_translate.data.dataset_v4 import SentenceDataset # v2 -> v3 -> v4\n",
    "from wolof_translate.utils.sent_corrections import *\n",
    "from sklearn.model_selection import train_test_split\n",
    "from torch.optim.lr_scheduler import _LRScheduler\n",
    "# from custom_rnn.utils.kwargs import Kwargs\n",
    "from torch.nn.utils.rnn import pad_sequence\n",
    "from plotly.subplots import make_subplots\n",
    "from nlpaug.augmenter import char as nac\n",
    "from torch.utils.data import DataLoader\n",
    "# from datasets  import load_metric # make pip install evaluate instead\n",
    "# and pip install sacrebleu for instance\n",
    "from torch.nn import functional as F\n",
    "import plotly.graph_objects as go\n",
    "from tokenizers import Tokenizer\n",
    "import matplotlib.pyplot as plt\n",
    "import pytorch_lightning as lt\n",
    "from tqdm import tqdm, trange\n",
    "from functools import partial\n",
    "from torch.nn import utils\n",
    "from copy import deepcopy\n",
    "from torch import optim\n",
    "from typing import *\n",
    "from torch import nn\n",
    "import pandas as pd\n",
    "import numpy as np\n",
    "import itertools\n",
    "import evaluate\n",
    "import random\n",
    "import string\n",
    "import shutil\n",
    "import wandb\n",
    "import torch\n",
    "import json\n",
    "import copy\n",
    "import os\n",
    "\n",
    "# add seed for everything\n",
    "lt.seed_everything(0)\n",
    "\n",
    "os.environ[\"WANDB_DISABLED\"] = \"true\""
   ]
  },
  {
   "attachments": {},
   "cell_type": "markdown",
   "metadata": {
    "id": "19MVywzSLAJt"
   },
   "source": [
    "## Wolof to French"
   ]
  },
  {
   "attachments": {},
   "cell_type": "markdown",
   "metadata": {
    "id": "n4tP0YGyLAJt"
   },
   "source": [
    "### Configure dataset 🔠"
   ]
  },
  {
   "cell_type": "code",
   "execution_count": 2,
   "metadata": {
    "executionInfo": {
     "elapsed": 77,
     "status": "ok",
     "timestamp": 1683491387893,
     "user": {
      "displayName": "Oumar Kane",
      "userId": "05889582343301699661"
     },
     "user_tz": 0
    },
    "id": "t2GR0YjYuLc5"
   },
   "outputs": [],
   "source": [
    "# recuperate the tokenizer from a json file\n",
    "tokenizer = BartTokenizerFast(tokenizer_file=f\"wolof-translate/wolof_translate/tokenizers/bart_tokenizers/tokenizer_v3.json\")"
   ]
  },
  {
   "cell_type": "code",
   "execution_count": 3,
   "metadata": {
    "executionInfo": {
     "elapsed": 77,
     "status": "ok",
     "timestamp": 1683491387894,
     "user": {
      "displayName": "Oumar Kane",
      "userId": "05889582343301699661"
     },
     "user_tz": 0
    },
    "id": "BIjksuH9LAJv"
   },
   "outputs": [],
   "source": [
    "def recuperate_datasets(wf_char_p: float, wf_word_p: float, max_len: int, end_mark_opt: int):\n",
    "\n",
    "  # Let us recuperate the end_mark adding option\n",
    "  if end_mark_opt == 1:\n",
    "    # Create augmentation to add on French sentences\n",
    "    fr_augmentation_1 = TransformerSequences(nac.KeyboardAug(aug_char_p=wf_char_p, aug_word_p=wf_word_p,\n",
    "                                                             aug_word_max = max_len),\n",
    "                                          remove_mark_space, delete_guillemet_space, add_mark_space)\n",
    "    \n",
    "    fr_augmentation_2 = TransformerSequences(remove_mark_space, delete_guillemet_space, add_mark_space)\n",
    "\n",
    "  else:\n",
    "    \n",
    "    if end_mark_opt == 2:\n",
    "\n",
    "      end_mark_fn = partial(add_end_mark, end_mark_to_remove = '!', replace = True)\n",
    "    \n",
    "    elif end_mark_opt == 3:\n",
    "\n",
    "      end_mark_fn = partial(add_end_mark)\n",
    "    \n",
    "    elif end_mark_opt == 4:\n",
    "\n",
    "      end_mark_fn = partial(add_end_mark, end_mark_to_remove = '!')\n",
    "\n",
    "    # Create augmentation to add on French sentences\n",
    "    fr_augmentation_1 = TransformerSequences(nac.KeyboardAug(aug_char_p=wf_char_p, aug_word_p=wf_word_p,\n",
    "                                                             aug_word_max = max_len),\n",
    "                                          remove_mark_space, delete_guillemet_space, add_mark_space, end_mark_fn)\n",
    "    \n",
    "    fr_augmentation_2 = TransformerSequences(remove_mark_space, delete_guillemet_space, add_mark_space, end_mark_fn)\n",
    "\n",
    "  # Recuperate the train dataset\n",
    "  train_dataset_aug = SentenceDataset(f\"data/extractions/new_data/train_set.csv\",\n",
    "                                        tokenizer,\n",
    "                                        truncation = True, max_len=max_len,\n",
    "                                        corpus_1 = 'wolof',\n",
    "                                        corpus_2='french',\n",
    "                                        cp1_transformer = fr_augmentation_1,\n",
    "                                        cp2_transformer = fr_augmentation_2,\n",
    "                                        add_bos_token=True,\n",
    "                                        )\n",
    "\n",
    "  # Recuperate the valid dataset\n",
    "  valid_dataset = SentenceDataset(f\"data/extractions/new_data/valid_set.csv\",\n",
    "                                        tokenizer, max_len=max_len,\n",
    "                                        corpus_1='wolof',\n",
    "                                        corpus_2='french',\n",
    "                                        cp1_transformer = fr_augmentation_2,\n",
    "                                        cp2_transformer = fr_augmentation_2,\n",
    "                                        add_bos_token=True,\n",
    "                                        truncation = True)\n",
    "  \n",
    "  # Return the datasets\n",
    "  return train_dataset_aug, valid_dataset"
   ]
  },
  {
   "attachments": {},
   "cell_type": "markdown",
   "metadata": {
    "id": "0vhzP3IaLAJv"
   },
   "source": [
    "### Configure the evaluation function ⚙️"
   ]
  },
  {
   "attachments": {},
   "cell_type": "markdown",
   "metadata": {
    "id": "IuppKYiyLAJx"
   },
   "source": [
    "Let us initialize the evaluation object."
   ]
  },
  {
   "cell_type": "code",
   "execution_count": 4,
   "metadata": {
    "executionInfo": {
     "elapsed": 74,
     "status": "ok",
     "timestamp": 1683491387896,
     "user": {
      "displayName": "Oumar Kane",
      "userId": "05889582343301699661"
     },
     "user_tz": 0
    },
    "id": "a7Bpd4UPLAJy"
   },
   "outputs": [],
   "source": [
    "%run wolof-translate/wolof_translate/utils/evaluation.py\n",
    "evaluation = TranslationEvaluation(tokenizer)\n"
   ]
  },
  {
   "attachments": {},
   "cell_type": "markdown",
   "metadata": {
    "id": "xT17hB19LAJy"
   },
   "source": [
    "### Searching for the best parameters 🕖"
   ]
  },
  {
   "cell_type": "code",
   "execution_count": 5,
   "metadata": {},
   "outputs": [],
   "source": [
    "from wolof_translate.models.transformers.optimization import TransformerScheduler\n",
    "from wolof_translate.trainers.transformer_trainer import ModelRunner\n",
    "# from wolof_translate.utils.evaluation import TranslationEvaluation\n",
    "from wolof_translate.models.transformers.main import Transformer\n",
    "from wolof_translate.utils.split_with_valid import split_data\n"
   ]
  },
  {
   "attachments": {},
   "cell_type": "markdown",
   "metadata": {},
   "source": [
    "-------------"
   ]
  },
  {
   "cell_type": "code",
   "execution_count": null,
   "metadata": {},
   "outputs": [],
   "source": []
  },
  {
   "attachments": {},
   "cell_type": "markdown",
   "metadata": {},
   "source": [
    "### --- Wandb v5 2000"
   ]
  },
  {
   "cell_type": "code",
   "execution_count": null,
   "metadata": {},
   "outputs": [],
   "source": []
  },
  {
   "cell_type": "code",
   "execution_count": 13,
   "metadata": {},
   "outputs": [],
   "source": [
    "# let us initialize the hyperparameter configuration \n",
    "config = {\n",
    "    'random_state': 0,\n",
    "    'fr_char_p': 0.20442820063300543,\n",
    "    'fr_word_p': 0.33807729221615707,\n",
    "    'learning_rate': 0.0017263972464687655,\n",
    "    'weight_decay': 0.015176927058663345,\n",
    "    'batch_size': 16,\n",
    "    'warmup_ratio': 0.0,\n",
    "    'max_epoch': 656,\n",
    "    'epochs': 66,\n",
    "    'mid_epoch': 66,\n",
    "    'max_len': 21,\n",
    "    'end_mark': 3,\n",
    "    'bleu': 6.6232,\n",
    "    'model_dir': 'data/checkpoints/wf_bart_custom_train_v3_checkpoints',\n",
    "    'new_model_dir': 'data/checkpoints/bart_custom_train_results_wf_v3'\n",
    "}\n",
    "\n",
    "# Initialize the model name\n",
    "model_name = 'facebook/bart-base'\n",
    "\n",
    "# import the model with its pre-trained weights\n",
    "model = BartForConditionalGeneration.from_pretrained(model_name)\n",
    "\n",
    "# resize the token embeddings\n",
    "model.resize_token_embeddings(len(tokenizer))\n",
    "\n",
    "# let us initialize the evaluation class\n",
    "evaluation = TranslationEvaluation(tokenizer)\n",
    "\n",
    "# let us initialize the trainer\n",
    "trainer = ModelRunner(model, seed = 0, version = 3, evaluation = evaluation, optimizer=Adafactor)\n",
    "\n",
    "# split the data\n",
    "split_data(config['random_state'])\n",
    "\n",
    "# recuperate train and test set\n",
    "train_dataset, test_dataset = recuperate_datasets(config['fr_char_p'], \n",
    "                                                    config['fr_word_p'], config['max_len'],\n",
    "                                                    config['end_mark'])\n",
    "\n",
    "# let us calculate the appropriate warmup steps (let us take a max epoch of 100)\n",
    "length = len(train_dataset)\n",
    "\n",
    "n_steps = length // config['batch_size']\n",
    "\n",
    "num_steps = config['max_epoch'] * n_steps\n",
    "\n",
    "warmup_steps = (config['max_epoch'] * n_steps) * config['warmup_ratio']\n",
    "\n",
    "# # Initialize the scheduler parameters\n",
    "scheduler_args = {'num_warmup_steps': warmup_steps, 'num_training_steps': num_steps}\n",
    "\n",
    "# Initialize the optimizer parameters\n",
    "optimizer_args = {\n",
    "    'lr': config['learning_rate'],\n",
    "    'weight_decay': config['weight_decay'],\n",
    "    # 'betas': (0.9, 0.98),\n",
    "    'warmup_init': False,\n",
    "    'relative_step': False\n",
    "}\n",
    "\n",
    "# Initialize the loaders parameters\n",
    "train_loader_args = {'batch_size': config['batch_size']}\n",
    "\n",
    "# Add the datasets and hyperparameters to trainer\n",
    "trainer.compile(train_dataset, test_dataset, tokenizer, train_loader_args,\n",
    "                optimizer_kwargs = optimizer_args,\n",
    "                lr_scheduler=get_linear_schedule_with_warmup,\n",
    "                lr_scheduler_kwargs=scheduler_args, \n",
    "                predict_with_generate = True,\n",
    "                hugging_face = True,\n",
    "                logging_dir=\"data/logs/bart_custom_train_wf\"\n",
    "                )\n",
    "\n",
    "# We will from checkpoints so let us the model\n",
    "# trainer.load(config['model_dir'], load_best=True) # Only for the first loading\n",
    "trainer.load(config['new_model_dir'], load_best=True)\n",
    "\n",
    "        "
   ]
  },
  {
   "cell_type": "code",
   "execution_count": null,
   "metadata": {},
   "outputs": [],
   "source": []
  },
  {
   "attachments": {},
   "cell_type": "markdown",
   "metadata": {},
   "source": [
    "### --- Linear"
   ]
  },
  {
   "cell_type": "code",
   "execution_count": 12,
   "metadata": {},
   "outputs": [
    {
     "name": "stderr",
     "output_type": "stream",
     "text": [
      "  0%|          | 0/61 [00:00<?, ?it/s]c:\\Users\\Oumar Kane\\AppData\\Local\\pypoetry\\Cache\\virtualenvs\\pytorch1-HleOW5am-py3.10\\lib\\site-packages\\torch\\optim\\lr_scheduler.py:257: UserWarning: To get the last learning rate computed by the scheduler, please use `get_last_lr()`.\n",
      "  warnings.warn(\"To get the last learning rate computed by the scheduler, \"\n"
     ]
    },
    {
     "name": "stdout",
     "output_type": "stream",
     "text": [
      "For epoch 6: \n",
      "{Learning rate: [0.0017101135834161351]}\n"
     ]
    },
    {
     "name": "stderr",
     "output_type": "stream",
     "text": [
      "Train batch number 81: 100%|██████████| 81/81 [00:23<00:00,  3.45batches/s]\n",
      "Test batch number 11: 100%|██████████| 11/11 [00:04<00:00,  2.30batches/s]\n"
     ]
    },
    {
     "name": "stdout",
     "output_type": "stream",
     "text": [
      "\n",
      "Metrics: {'train_loss': 0.8962184161315729, 'test_loss': 0.9789676666259766, 'bleu': 7.7285, 'gen_len': 9.4444}\n",
      "\n",
      "=============================\n",
      "\n"
     ]
    },
    {
     "name": "stderr",
     "output_type": "stream",
     "text": [
      "  2%|▏         | 1/61 [00:37<37:26, 37.45s/it]"
     ]
    },
    {
     "name": "stdout",
     "output_type": "stream",
     "text": [
      "For epoch 7: \n",
      "{Learning rate: [0.001707448984007523]}\n"
     ]
    },
    {
     "name": "stderr",
     "output_type": "stream",
     "text": [
      "Train batch number 81: 100%|██████████| 81/81 [00:24<00:00,  3.31batches/s]\n",
      "Test batch number 11: 100%|██████████| 11/11 [00:06<00:00,  1.82batches/s]\n"
     ]
    },
    {
     "name": "stdout",
     "output_type": "stream",
     "text": [
      "\n",
      "Metrics: {'train_loss': 0.7360616201235924, 'test_loss': 0.931728184223175, 'bleu': 10.3509, 'gen_len': 10.5556}\n",
      "\n",
      "=============================\n",
      "\n"
     ]
    },
    {
     "name": "stderr",
     "output_type": "stream",
     "text": [
      "  3%|▎         | 2/61 [01:16<37:53, 38.54s/it]"
     ]
    },
    {
     "name": "stdout",
     "output_type": "stream",
     "text": [
      "For epoch 8: \n",
      "{Learning rate: [0.0017047843845989106]}\n"
     ]
    },
    {
     "name": "stderr",
     "output_type": "stream",
     "text": [
      "Train batch number 81: 100%|██████████| 81/81 [00:26<00:00,  3.07batches/s]\n",
      "Test batch number 11: 100%|██████████| 11/11 [00:06<00:00,  1.82batches/s]\n"
     ]
    },
    {
     "name": "stdout",
     "output_type": "stream",
     "text": [
      "\n",
      "Metrics: {'train_loss': 0.5994228967178015, 'test_loss': 0.9754336367953907, 'bleu': 9.9746, 'gen_len': 10.2778}\n",
      "\n",
      "=============================\n",
      "\n"
     ]
    },
    {
     "name": "stderr",
     "output_type": "stream",
     "text": [
      "  5%|▍         | 3/61 [01:54<36:45, 38.02s/it]"
     ]
    },
    {
     "name": "stdout",
     "output_type": "stream",
     "text": [
      "For epoch 9: \n",
      "{Learning rate: [0.0017021197851902986]}\n"
     ]
    },
    {
     "name": "stderr",
     "output_type": "stream",
     "text": [
      "Train batch number 81: 100%|██████████| 81/81 [00:26<00:00,  3.05batches/s]\n",
      "Test batch number 11: 100%|██████████| 11/11 [00:05<00:00,  1.89batches/s]\n"
     ]
    },
    {
     "name": "stdout",
     "output_type": "stream",
     "text": [
      "\n",
      "Metrics: {'train_loss': 0.489207618030501, 'test_loss': 1.020332769914107, 'bleu': 11.8633, 'gen_len': 9.9506}\n",
      "\n",
      "=============================\n",
      "\n"
     ]
    },
    {
     "name": "stderr",
     "output_type": "stream",
     "text": [
      "  7%|▋         | 4/61 [02:35<37:19, 39.28s/it]"
     ]
    },
    {
     "name": "stdout",
     "output_type": "stream",
     "text": [
      "For epoch 10: \n",
      "{Learning rate: [0.0016994551857816861]}\n"
     ]
    },
    {
     "name": "stderr",
     "output_type": "stream",
     "text": [
      "Train batch number 81: 100%|██████████| 81/81 [00:27<00:00,  2.94batches/s]\n",
      "Test batch number 11: 100%|██████████| 11/11 [00:06<00:00,  1.68batches/s]\n"
     ]
    },
    {
     "name": "stdout",
     "output_type": "stream",
     "text": [
      "\n",
      "Metrics: {'train_loss': 0.40676490447403474, 'test_loss': 1.0322030620141462, 'bleu': 10.9234, 'gen_len': 11.2284}\n",
      "\n",
      "=============================\n",
      "\n"
     ]
    },
    {
     "name": "stderr",
     "output_type": "stream",
     "text": [
      "  8%|▊         | 5/61 [03:14<36:35, 39.21s/it]"
     ]
    },
    {
     "name": "stdout",
     "output_type": "stream",
     "text": [
      "For epoch 11: \n",
      "{Learning rate: [0.0016967905863730741]}\n"
     ]
    },
    {
     "name": "stderr",
     "output_type": "stream",
     "text": [
      "Train batch number 81: 100%|██████████| 81/81 [00:27<00:00,  2.99batches/s]\n",
      "Test batch number 11: 100%|██████████| 11/11 [00:06<00:00,  1.71batches/s]\n"
     ]
    },
    {
     "name": "stdout",
     "output_type": "stream",
     "text": [
      "\n",
      "Metrics: {'train_loss': 0.326568822801849, 'test_loss': 1.0645692240108142, 'bleu': 16.651, 'gen_len': 10.8457}\n",
      "\n",
      "=============================\n",
      "\n"
     ]
    },
    {
     "name": "stderr",
     "output_type": "stream",
     "text": [
      " 10%|▉         | 6/61 [03:56<36:56, 40.30s/it]"
     ]
    },
    {
     "name": "stdout",
     "output_type": "stream",
     "text": [
      "For epoch 12: \n",
      "{Learning rate: [0.0016941259869644619]}\n"
     ]
    },
    {
     "name": "stderr",
     "output_type": "stream",
     "text": [
      "Train batch number 81: 100%|██████████| 81/81 [00:27<00:00,  2.98batches/s]\n",
      "Test batch number 11: 100%|██████████| 11/11 [00:06<00:00,  1.78batches/s]\n"
     ]
    },
    {
     "name": "stdout",
     "output_type": "stream",
     "text": [
      "\n",
      "Metrics: {'train_loss': 0.2740583232155553, 'test_loss': 1.139391909946095, 'bleu': 15.3013, 'gen_len': 10.4074}\n",
      "\n",
      "=============================\n",
      "\n"
     ]
    },
    {
     "name": "stderr",
     "output_type": "stream",
     "text": [
      " 11%|█▏        | 7/61 [04:35<35:43, 39.69s/it]"
     ]
    },
    {
     "name": "stdout",
     "output_type": "stream",
     "text": [
      "For epoch 13: \n",
      "{Learning rate: [0.0016914613875558494]}\n"
     ]
    },
    {
     "name": "stderr",
     "output_type": "stream",
     "text": [
      "Train batch number 81: 100%|██████████| 81/81 [00:27<00:00,  2.94batches/s]\n",
      "Test batch number 11: 100%|██████████| 11/11 [00:06<00:00,  1.58batches/s]\n"
     ]
    },
    {
     "name": "stdout",
     "output_type": "stream",
     "text": [
      "\n",
      "Metrics: {'train_loss': 0.23740692215937156, 'test_loss': 1.0934271595694802, 'bleu': 17.8553, 'gen_len': 10.9691}\n",
      "\n",
      "=============================\n",
      "\n"
     ]
    },
    {
     "name": "stderr",
     "output_type": "stream",
     "text": [
      " 13%|█▎        | 8/61 [05:18<36:03, 40.83s/it]"
     ]
    },
    {
     "name": "stdout",
     "output_type": "stream",
     "text": [
      "For epoch 14: \n",
      "{Learning rate: [0.0016887967881472374]}\n"
     ]
    },
    {
     "name": "stderr",
     "output_type": "stream",
     "text": [
      "Train batch number 81: 100%|██████████| 81/81 [00:28<00:00,  2.80batches/s]\n",
      "Test batch number 11: 100%|██████████| 11/11 [00:07<00:00,  1.39batches/s]\n"
     ]
    },
    {
     "name": "stdout",
     "output_type": "stream",
     "text": [
      "\n",
      "Metrics: {'train_loss': 0.2087195172537992, 'test_loss': 1.150386712767861, 'bleu': 17.5041, 'gen_len': 10.4506}\n",
      "\n",
      "=============================\n",
      "\n"
     ]
    },
    {
     "name": "stderr",
     "output_type": "stream",
     "text": [
      " 15%|█▍        | 9/61 [06:00<35:36, 41.09s/it]"
     ]
    },
    {
     "name": "stdout",
     "output_type": "stream",
     "text": [
      "For epoch 15: \n",
      "{Learning rate: [0.0016861321887386251]}\n"
     ]
    },
    {
     "name": "stderr",
     "output_type": "stream",
     "text": [
      "Train batch number 81: 100%|██████████| 81/81 [00:30<00:00,  2.65batches/s]\n",
      "Test batch number 11: 100%|██████████| 11/11 [00:06<00:00,  1.59batches/s]\n"
     ]
    },
    {
     "name": "stdout",
     "output_type": "stream",
     "text": [
      "\n",
      "Metrics: {'train_loss': 0.18057943650601824, 'test_loss': 1.1854027672247454, 'bleu': 18.4886, 'gen_len': 10.6049}\n",
      "\n",
      "=============================\n",
      "\n"
     ]
    },
    {
     "name": "stderr",
     "output_type": "stream",
     "text": [
      " 16%|█▋        | 10/61 [06:46<36:19, 42.73s/it]"
     ]
    },
    {
     "name": "stdout",
     "output_type": "stream",
     "text": [
      "For epoch 16: \n",
      "{Learning rate: [0.0016834675893300129]}\n"
     ]
    },
    {
     "name": "stderr",
     "output_type": "stream",
     "text": [
      "Train batch number 81: 100%|██████████| 81/81 [00:27<00:00,  2.89batches/s]\n",
      "Test batch number 11: 100%|██████████| 11/11 [00:06<00:00,  1.62batches/s]\n"
     ]
    },
    {
     "name": "stdout",
     "output_type": "stream",
     "text": [
      "\n",
      "Metrics: {'train_loss': 0.16389264617069269, 'test_loss': 1.2154792059551587, 'bleu': 16.4571, 'gen_len': 10.6543}\n",
      "\n",
      "=============================\n",
      "\n"
     ]
    },
    {
     "name": "stderr",
     "output_type": "stream",
     "text": [
      " 18%|█▊        | 11/61 [07:26<34:52, 41.86s/it]"
     ]
    },
    {
     "name": "stdout",
     "output_type": "stream",
     "text": [
      "For epoch 17: \n",
      "{Learning rate: [0.0016808029899214006]}\n"
     ]
    },
    {
     "name": "stderr",
     "output_type": "stream",
     "text": [
      "Train batch number 81: 100%|██████████| 81/81 [00:27<00:00,  2.93batches/s]\n",
      "Test batch number 11: 100%|██████████| 11/11 [00:06<00:00,  1.73batches/s]\n"
     ]
    },
    {
     "name": "stdout",
     "output_type": "stream",
     "text": [
      "\n",
      "Metrics: {'train_loss': 0.14675481920992886, 'test_loss': 1.2038226181810552, 'bleu': 19.6072, 'gen_len': 10.9259}\n",
      "\n",
      "=============================\n",
      "\n"
     ]
    },
    {
     "name": "stderr",
     "output_type": "stream",
     "text": [
      " 20%|█▉        | 12/61 [08:09<34:26, 42.17s/it]"
     ]
    },
    {
     "name": "stdout",
     "output_type": "stream",
     "text": [
      "For epoch 18: \n",
      "{Learning rate: [0.0016781383905127884]}\n"
     ]
    },
    {
     "name": "stderr",
     "output_type": "stream",
     "text": [
      "Train batch number 81: 100%|██████████| 81/81 [00:28<00:00,  2.85batches/s]\n",
      "Test batch number 11: 100%|██████████| 11/11 [00:06<00:00,  1.68batches/s]\n"
     ]
    },
    {
     "name": "stdout",
     "output_type": "stream",
     "text": [
      "\n",
      "Metrics: {'train_loss': 0.13393986031964975, 'test_loss': 1.2613899599422107, 'bleu': 16.7087, 'gen_len': 10.6173}\n",
      "\n",
      "=============================\n",
      "\n"
     ]
    },
    {
     "name": "stderr",
     "output_type": "stream",
     "text": [
      " 21%|██▏       | 13/61 [08:49<33:11, 41.49s/it]"
     ]
    },
    {
     "name": "stdout",
     "output_type": "stream",
     "text": [
      "For epoch 19: \n",
      "{Learning rate: [0.0016754737911041761]}\n"
     ]
    },
    {
     "name": "stderr",
     "output_type": "stream",
     "text": [
      "Train batch number 81: 100%|██████████| 81/81 [00:27<00:00,  2.92batches/s]\n",
      "Test batch number 11: 100%|██████████| 11/11 [00:06<00:00,  1.61batches/s]\n"
     ]
    },
    {
     "name": "stdout",
     "output_type": "stream",
     "text": [
      "\n",
      "Metrics: {'train_loss': 0.12181706459801873, 'test_loss': 1.3090506737882441, 'bleu': 16.4398, 'gen_len': 10.5617}\n",
      "\n",
      "=============================\n",
      "\n"
     ]
    },
    {
     "name": "stderr",
     "output_type": "stream",
     "text": [
      " 23%|██▎       | 14/61 [09:28<32:03, 40.93s/it]"
     ]
    },
    {
     "name": "stdout",
     "output_type": "stream",
     "text": [
      "For epoch 20: \n",
      "{Learning rate: [0.0016728091916955639]}\n"
     ]
    },
    {
     "name": "stderr",
     "output_type": "stream",
     "text": [
      "Train batch number 81: 100%|██████████| 81/81 [00:28<00:00,  2.83batches/s]\n",
      "Test batch number 11: 100%|██████████| 11/11 [00:07<00:00,  1.56batches/s]\n"
     ]
    },
    {
     "name": "stdout",
     "output_type": "stream",
     "text": [
      "\n",
      "Metrics: {'train_loss': 0.11557060756065228, 'test_loss': 1.2816884951158003, 'bleu': 20.0033, 'gen_len': 11.0988}\n",
      "\n",
      "=============================\n",
      "\n"
     ]
    },
    {
     "name": "stderr",
     "output_type": "stream",
     "text": [
      " 25%|██▍       | 15/61 [10:13<32:11, 41.99s/it]"
     ]
    },
    {
     "name": "stdout",
     "output_type": "stream",
     "text": [
      "For epoch 21: \n",
      "{Learning rate: [0.0016701445922869516]}\n"
     ]
    },
    {
     "name": "stderr",
     "output_type": "stream",
     "text": [
      "Train batch number 81: 100%|██████████| 81/81 [00:29<00:00,  2.76batches/s]\n",
      "Test batch number 11: 100%|██████████| 11/11 [00:07<00:00,  1.46batches/s]\n"
     ]
    },
    {
     "name": "stdout",
     "output_type": "stream",
     "text": [
      "\n",
      "Metrics: {'train_loss': 0.10742421673587811, 'test_loss': 1.2969000935554504, 'bleu': 20.6712, 'gen_len': 10.3457}\n",
      "\n",
      "=============================\n",
      "\n"
     ]
    },
    {
     "name": "stderr",
     "output_type": "stream",
     "text": [
      " 26%|██▌       | 16/61 [10:59<32:26, 43.26s/it]"
     ]
    },
    {
     "name": "stdout",
     "output_type": "stream",
     "text": [
      "For epoch 22: \n",
      "{Learning rate: [0.0016674799928783394]}\n"
     ]
    },
    {
     "name": "stderr",
     "output_type": "stream",
     "text": [
      "Train batch number 81: 100%|██████████| 81/81 [00:28<00:00,  2.81batches/s]\n",
      "Test batch number 11: 100%|██████████| 11/11 [00:06<00:00,  1.60batches/s]\n"
     ]
    },
    {
     "name": "stdout",
     "output_type": "stream",
     "text": [
      "\n",
      "Metrics: {'train_loss': 0.09719924900082895, 'test_loss': 1.3450186144221912, 'bleu': 18.1962, 'gen_len': 10.5309}\n",
      "\n",
      "=============================\n",
      "\n"
     ]
    },
    {
     "name": "stderr",
     "output_type": "stream",
     "text": [
      " 28%|██▊       | 17/61 [11:40<31:11, 42.54s/it]"
     ]
    },
    {
     "name": "stdout",
     "output_type": "stream",
     "text": [
      "For epoch 23: \n",
      "{Learning rate: [0.0016648153934697273]}\n"
     ]
    },
    {
     "name": "stderr",
     "output_type": "stream",
     "text": [
      "Train batch number 81: 100%|██████████| 81/81 [00:27<00:00,  2.93batches/s]\n",
      "Test batch number 11: 100%|██████████| 11/11 [00:07<00:00,  1.49batches/s]\n"
     ]
    },
    {
     "name": "stdout",
     "output_type": "stream",
     "text": [
      "\n",
      "Metrics: {'train_loss': 0.09445963344640201, 'test_loss': 1.3369978720491582, 'bleu': 20.7562, 'gen_len': 11.1975}\n",
      "\n",
      "=============================\n",
      "\n"
     ]
    },
    {
     "name": "stderr",
     "output_type": "stream",
     "text": [
      " 30%|██▉       | 18/61 [12:24<30:45, 42.93s/it]"
     ]
    },
    {
     "name": "stdout",
     "output_type": "stream",
     "text": [
      "For epoch 24: \n",
      "{Learning rate: [0.0016621507940611149]}\n"
     ]
    },
    {
     "name": "stderr",
     "output_type": "stream",
     "text": [
      "Train batch number 81: 100%|██████████| 81/81 [00:27<00:00,  2.92batches/s]\n",
      "Test batch number 11: 100%|██████████| 11/11 [00:06<00:00,  1.72batches/s]\n"
     ]
    },
    {
     "name": "stdout",
     "output_type": "stream",
     "text": [
      "\n",
      "Metrics: {'train_loss': 0.08947407592225957, 'test_loss': 1.3633243170651523, 'bleu': 20.4789, 'gen_len': 10.358}\n",
      "\n",
      "=============================\n",
      "\n"
     ]
    },
    {
     "name": "stderr",
     "output_type": "stream",
     "text": [
      " 31%|███       | 19/61 [13:03<29:17, 41.83s/it]"
     ]
    },
    {
     "name": "stdout",
     "output_type": "stream",
     "text": [
      "For epoch 25: \n",
      "{Learning rate: [0.0016594861946525026]}\n"
     ]
    },
    {
     "name": "stderr",
     "output_type": "stream",
     "text": [
      "Train batch number 81: 100%|██████████| 81/81 [00:27<00:00,  2.96batches/s]\n",
      "Test batch number 11: 100%|██████████| 11/11 [00:06<00:00,  1.69batches/s]\n"
     ]
    },
    {
     "name": "stdout",
     "output_type": "stream",
     "text": [
      "\n",
      "Metrics: {'train_loss': 0.08396056708362368, 'test_loss': 1.361251635984941, 'bleu': 21.3305, 'gen_len': 10.6173}\n",
      "\n",
      "=============================\n",
      "\n"
     ]
    },
    {
     "name": "stderr",
     "output_type": "stream",
     "text": [
      " 33%|███▎      | 20/61 [13:46<28:44, 42.07s/it]"
     ]
    },
    {
     "name": "stdout",
     "output_type": "stream",
     "text": [
      "For epoch 26: \n",
      "{Learning rate: [0.0016568215952438906]}\n"
     ]
    },
    {
     "name": "stderr",
     "output_type": "stream",
     "text": [
      "Train batch number 81: 100%|██████████| 81/81 [00:27<00:00,  2.94batches/s]\n",
      "Test batch number 11: 100%|██████████| 11/11 [00:07<00:00,  1.57batches/s]\n"
     ]
    },
    {
     "name": "stdout",
     "output_type": "stream",
     "text": [
      "\n",
      "Metrics: {'train_loss': 0.08117664699661142, 'test_loss': 1.3255790363658557, 'bleu': 22.0732, 'gen_len': 11.0}\n",
      "\n",
      "=============================\n",
      "\n"
     ]
    },
    {
     "name": "stderr",
     "output_type": "stream",
     "text": [
      " 34%|███▍      | 21/61 [14:29<28:19, 42.48s/it]"
     ]
    },
    {
     "name": "stdout",
     "output_type": "stream",
     "text": [
      "For epoch 27: \n",
      "{Learning rate: [0.0016541569958352783]}\n"
     ]
    },
    {
     "name": "stderr",
     "output_type": "stream",
     "text": [
      "Train batch number 81: 100%|██████████| 81/81 [00:28<00:00,  2.88batches/s]\n",
      "Test batch number 11: 100%|██████████| 11/11 [00:07<00:00,  1.52batches/s]\n"
     ]
    },
    {
     "name": "stdout",
     "output_type": "stream",
     "text": [
      "\n",
      "Metrics: {'train_loss': 0.07176288387473718, 'test_loss': 1.4266109249808572, 'bleu': 18.8618, 'gen_len': 10.6049}\n",
      "\n",
      "=============================\n",
      "\n"
     ]
    },
    {
     "name": "stderr",
     "output_type": "stream",
     "text": [
      " 36%|███▌      | 22/61 [15:10<27:11, 41.84s/it]"
     ]
    },
    {
     "name": "stdout",
     "output_type": "stream",
     "text": [
      "For epoch 28: \n",
      "{Learning rate: [0.001651492396426666]}\n"
     ]
    },
    {
     "name": "stderr",
     "output_type": "stream",
     "text": [
      "Train batch number 81: 100%|██████████| 81/81 [00:29<00:00,  2.77batches/s]\n",
      "Test batch number 11: 100%|██████████| 11/11 [00:08<00:00,  1.32batches/s]\n"
     ]
    },
    {
     "name": "stdout",
     "output_type": "stream",
     "text": [
      "\n",
      "Metrics: {'train_loss': 0.07202423041985359, 'test_loss': 1.4052542556415906, 'bleu': 21.6801, 'gen_len': 10.9568}\n",
      "\n",
      "=============================\n",
      "\n"
     ]
    },
    {
     "name": "stderr",
     "output_type": "stream",
     "text": [
      " 38%|███▊      | 23/61 [15:52<26:39, 42.08s/it]"
     ]
    },
    {
     "name": "stdout",
     "output_type": "stream",
     "text": [
      "For epoch 29: \n",
      "{Learning rate: [0.0016488277970180538]}\n"
     ]
    },
    {
     "name": "stderr",
     "output_type": "stream",
     "text": [
      "Train batch number 81: 100%|██████████| 81/81 [00:30<00:00,  2.63batches/s]\n",
      "Test batch number 11: 100%|██████████| 11/11 [00:06<00:00,  1.76batches/s]\n"
     ]
    },
    {
     "name": "stdout",
     "output_type": "stream",
     "text": [
      "\n",
      "Metrics: {'train_loss': 0.0661507375124428, 'test_loss': 1.3760752136057073, 'bleu': 21.2601, 'gen_len': 10.3642}\n",
      "\n",
      "=============================\n",
      "\n"
     ]
    },
    {
     "name": "stderr",
     "output_type": "stream",
     "text": [
      " 39%|███▉      | 24/61 [16:34<25:58, 42.13s/it]"
     ]
    },
    {
     "name": "stdout",
     "output_type": "stream",
     "text": [
      "For epoch 30: \n",
      "{Learning rate: [0.0016461631976094416]}\n"
     ]
    },
    {
     "name": "stderr",
     "output_type": "stream",
     "text": [
      "Train batch number 81: 100%|██████████| 81/81 [00:26<00:00,  3.01batches/s]\n",
      "Test batch number 11: 100%|██████████| 11/11 [00:07<00:00,  1.47batches/s]\n"
     ]
    },
    {
     "name": "stdout",
     "output_type": "stream",
     "text": [
      "\n",
      "Metrics: {'train_loss': 0.06247721422739603, 'test_loss': 1.3799545602364973, 'bleu': 23.0012, 'gen_len': 10.9012}\n",
      "\n",
      "=============================\n",
      "\n"
     ]
    },
    {
     "name": "stderr",
     "output_type": "stream",
     "text": [
      " 41%|████      | 25/61 [17:18<25:27, 42.43s/it]"
     ]
    },
    {
     "name": "stdout",
     "output_type": "stream",
     "text": [
      "For epoch 31: \n",
      "{Learning rate: [0.0016434985982008293]}\n"
     ]
    },
    {
     "name": "stderr",
     "output_type": "stream",
     "text": [
      "Train batch number 81: 100%|██████████| 81/81 [00:26<00:00,  3.02batches/s]\n",
      "Test batch number 11: 100%|██████████| 11/11 [00:06<00:00,  1.73batches/s]\n"
     ]
    },
    {
     "name": "stdout",
     "output_type": "stream",
     "text": [
      "\n",
      "Metrics: {'train_loss': 0.06500507881979883, 'test_loss': 1.3594469590620561, 'bleu': 21.5208, 'gen_len': 10.7346}\n",
      "\n",
      "=============================\n",
      "\n"
     ]
    },
    {
     "name": "stderr",
     "output_type": "stream",
     "text": [
      " 43%|████▎     | 26/61 [17:56<24:02, 41.23s/it]"
     ]
    },
    {
     "name": "stdout",
     "output_type": "stream",
     "text": [
      "For epoch 32: \n",
      "{Learning rate: [0.001640833998792217]}\n"
     ]
    },
    {
     "name": "stderr",
     "output_type": "stream",
     "text": [
      "Train batch number 81: 100%|██████████| 81/81 [00:27<00:00,  2.93batches/s]\n",
      "Test batch number 11: 100%|██████████| 11/11 [00:06<00:00,  1.57batches/s]\n"
     ]
    },
    {
     "name": "stdout",
     "output_type": "stream",
     "text": [
      "\n",
      "Metrics: {'train_loss': 0.06049886762084049, 'test_loss': 1.3987641442905774, 'bleu': 23.5585, 'gen_len': 10.9938}\n",
      "\n",
      "=============================\n",
      "\n"
     ]
    },
    {
     "name": "stderr",
     "output_type": "stream",
     "text": [
      " 44%|████▍     | 27/61 [18:40<23:48, 42.02s/it]"
     ]
    },
    {
     "name": "stdout",
     "output_type": "stream",
     "text": [
      "For epoch 33: \n",
      "{Learning rate: [0.0016381693993836048]}\n"
     ]
    },
    {
     "name": "stderr",
     "output_type": "stream",
     "text": [
      "Train batch number 81: 100%|██████████| 81/81 [00:27<00:00,  2.99batches/s]\n",
      "Test batch number 11: 100%|██████████| 11/11 [00:06<00:00,  1.64batches/s]\n"
     ]
    },
    {
     "name": "stdout",
     "output_type": "stream",
     "text": [
      "\n",
      "Metrics: {'train_loss': 0.06049691494784237, 'test_loss': 1.3901348980990322, 'bleu': 21.8259, 'gen_len': 10.716}\n",
      "\n",
      "=============================\n",
      "\n"
     ]
    },
    {
     "name": "stderr",
     "output_type": "stream",
     "text": [
      " 46%|████▌     | 28/61 [19:19<22:33, 41.03s/it]"
     ]
    },
    {
     "name": "stdout",
     "output_type": "stream",
     "text": [
      "For epoch 34: \n",
      "{Learning rate: [0.0016355047999749928]}\n"
     ]
    },
    {
     "name": "stderr",
     "output_type": "stream",
     "text": [
      "Train batch number 81: 100%|██████████| 81/81 [00:27<00:00,  2.96batches/s]\n",
      "Test batch number 11: 100%|██████████| 11/11 [00:07<00:00,  1.47batches/s]\n"
     ]
    },
    {
     "name": "stdout",
     "output_type": "stream",
     "text": [
      "\n",
      "Metrics: {'train_loss': 0.05410996205920791, 'test_loss': 1.4189209721305154, 'bleu': 22.9343, 'gen_len': 11.284}\n",
      "\n",
      "=============================\n",
      "\n"
     ]
    },
    {
     "name": "stderr",
     "output_type": "stream",
     "text": [
      " 48%|████▊     | 29/61 [19:58<21:42, 40.69s/it]"
     ]
    },
    {
     "name": "stdout",
     "output_type": "stream",
     "text": [
      "For epoch 35: \n",
      "{Learning rate: [0.0016328402005663803]}\n"
     ]
    },
    {
     "name": "stderr",
     "output_type": "stream",
     "text": [
      "Train batch number 81: 100%|██████████| 81/81 [00:27<00:00,  2.94batches/s]\n",
      "Test batch number 11: 100%|██████████| 11/11 [00:06<00:00,  1.69batches/s]\n"
     ]
    },
    {
     "name": "stdout",
     "output_type": "stream",
     "text": [
      "\n",
      "Metrics: {'train_loss': 0.051855565071749835, 'test_loss': 1.4221065477891401, 'bleu': 20.3213, 'gen_len': 10.6852}\n",
      "\n",
      "=============================\n",
      "\n"
     ]
    },
    {
     "name": "stderr",
     "output_type": "stream",
     "text": [
      " 49%|████▉     | 30/61 [20:37<20:45, 40.19s/it]"
     ]
    },
    {
     "name": "stdout",
     "output_type": "stream",
     "text": [
      "For epoch 36: \n",
      "{Learning rate: [0.001630175601157768]}\n"
     ]
    },
    {
     "name": "stderr",
     "output_type": "stream",
     "text": [
      "Train batch number 81: 100%|██████████| 81/81 [00:29<00:00,  2.71batches/s]\n",
      "Test batch number 11: 100%|██████████| 11/11 [00:06<00:00,  1.63batches/s]\n"
     ]
    },
    {
     "name": "stdout",
     "output_type": "stream",
     "text": [
      "\n",
      "Metrics: {'train_loss': 0.05360306537261716, 'test_loss': 1.4403071186759255, 'bleu': 22.3904, 'gen_len': 10.7469}\n",
      "\n",
      "=============================\n",
      "\n"
     ]
    },
    {
     "name": "stderr",
     "output_type": "stream",
     "text": [
      " 51%|█████     | 31/61 [21:19<20:18, 40.63s/it]"
     ]
    },
    {
     "name": "stdout",
     "output_type": "stream",
     "text": [
      "For epoch 37: \n",
      "{Learning rate: [0.001627511001749156]}\n"
     ]
    },
    {
     "name": "stderr",
     "output_type": "stream",
     "text": [
      "Train batch number 81: 100%|██████████| 81/81 [00:28<00:00,  2.85batches/s]\n",
      "Test batch number 11: 100%|██████████| 11/11 [00:06<00:00,  1.65batches/s]\n"
     ]
    },
    {
     "name": "stdout",
     "output_type": "stream",
     "text": [
      "\n",
      "Metrics: {'train_loss': 0.05134668555340649, 'test_loss': 1.4405006061900745, 'bleu': 24.2951, 'gen_len': 10.6605}\n",
      "\n",
      "=============================\n",
      "\n"
     ]
    },
    {
     "name": "stderr",
     "output_type": "stream",
     "text": [
      " 52%|█████▏    | 32/61 [22:03<20:08, 41.67s/it]"
     ]
    },
    {
     "name": "stdout",
     "output_type": "stream",
     "text": [
      "For epoch 38: \n",
      "{Learning rate: [0.0016248464023405436]}\n"
     ]
    },
    {
     "name": "stderr",
     "output_type": "stream",
     "text": [
      "Train batch number 81: 100%|██████████| 81/81 [00:27<00:00,  2.92batches/s]\n",
      "Test batch number 11: 100%|██████████| 11/11 [00:07<00:00,  1.55batches/s]\n"
     ]
    },
    {
     "name": "stdout",
     "output_type": "stream",
     "text": [
      "\n",
      "Metrics: {'train_loss': 0.05063720052073031, 'test_loss': 1.4217226071791216, 'bleu': 22.5249, 'gen_len': 10.4691}\n",
      "\n",
      "=============================\n",
      "\n"
     ]
    },
    {
     "name": "stderr",
     "output_type": "stream",
     "text": [
      " 54%|█████▍    | 33/61 [22:43<19:10, 41.07s/it]"
     ]
    },
    {
     "name": "stdout",
     "output_type": "stream",
     "text": [
      "For epoch 39: \n",
      "{Learning rate: [0.0016221818029319313]}\n"
     ]
    },
    {
     "name": "stderr",
     "output_type": "stream",
     "text": [
      "Train batch number 81: 100%|██████████| 81/81 [00:27<00:00,  2.91batches/s]\n",
      "Test batch number 11: 100%|██████████| 11/11 [00:06<00:00,  1.57batches/s]\n"
     ]
    },
    {
     "name": "stdout",
     "output_type": "stream",
     "text": [
      "\n",
      "Metrics: {'train_loss': 0.04791824659907523, 'test_loss': 1.4210616025057705, 'bleu': 24.6009, 'gen_len': 10.858}\n",
      "\n",
      "=============================\n",
      "\n"
     ]
    },
    {
     "name": "stderr",
     "output_type": "stream",
     "text": [
      " 56%|█████▌    | 34/61 [23:26<18:48, 41.81s/it]"
     ]
    },
    {
     "name": "stdout",
     "output_type": "stream",
     "text": [
      "For epoch 40: \n",
      "{Learning rate: [0.0016195172035233193]}\n"
     ]
    },
    {
     "name": "stderr",
     "output_type": "stream",
     "text": [
      "Train batch number 81: 100%|██████████| 81/81 [00:28<00:00,  2.83batches/s]\n",
      "Test batch number 11: 100%|██████████| 11/11 [00:07<00:00,  1.51batches/s]\n"
     ]
    },
    {
     "name": "stdout",
     "output_type": "stream",
     "text": [
      "\n",
      "Metrics: {'train_loss': 0.04561867224581448, 'test_loss': 1.3945466063239358, 'bleu': 25.4107, 'gen_len': 11.1481}\n",
      "\n",
      "=============================\n",
      "\n"
     ]
    },
    {
     "name": "stderr",
     "output_type": "stream",
     "text": [
      " 57%|█████▋    | 35/61 [24:11<18:29, 42.68s/it]"
     ]
    },
    {
     "name": "stdout",
     "output_type": "stream",
     "text": [
      "For epoch 41: \n",
      "{Learning rate: [0.001616852604114707]}\n"
     ]
    },
    {
     "name": "stderr",
     "output_type": "stream",
     "text": [
      "Train batch number 81: 100%|██████████| 81/81 [00:29<00:00,  2.76batches/s]\n",
      "Test batch number 11: 100%|██████████| 11/11 [00:07<00:00,  1.44batches/s]\n"
     ]
    },
    {
     "name": "stdout",
     "output_type": "stream",
     "text": [
      "\n",
      "Metrics: {'train_loss': 0.04421247257908553, 'test_loss': 1.4733320582996716, 'bleu': 23.5439, 'gen_len': 10.5617}\n",
      "\n",
      "=============================\n",
      "\n"
     ]
    },
    {
     "name": "stderr",
     "output_type": "stream",
     "text": [
      " 59%|█████▉    | 36/61 [24:53<17:39, 42.39s/it]"
     ]
    },
    {
     "name": "stdout",
     "output_type": "stream",
     "text": [
      "For epoch 42: \n",
      "{Learning rate: [0.0016141880047060948]}\n"
     ]
    },
    {
     "name": "stderr",
     "output_type": "stream",
     "text": [
      "Train batch number 81: 100%|██████████| 81/81 [00:28<00:00,  2.89batches/s]\n",
      "Test batch number 11: 100%|██████████| 11/11 [00:06<00:00,  1.70batches/s]\n"
     ]
    },
    {
     "name": "stdout",
     "output_type": "stream",
     "text": [
      "\n",
      "Metrics: {'train_loss': 0.042904440198599555, 'test_loss': 1.5267059911381116, 'bleu': 23.2943, 'gen_len': 10.3457}\n",
      "\n",
      "=============================\n",
      "\n"
     ]
    },
    {
     "name": "stderr",
     "output_type": "stream",
     "text": [
      " 61%|██████    | 37/61 [25:32<16:36, 41.50s/it]"
     ]
    },
    {
     "name": "stdout",
     "output_type": "stream",
     "text": [
      "For epoch 43: \n",
      "{Learning rate: [0.0016115234052974825]}\n"
     ]
    },
    {
     "name": "stderr",
     "output_type": "stream",
     "text": [
      "Train batch number 81: 100%|██████████| 81/81 [00:28<00:00,  2.86batches/s]\n",
      "Test batch number 11: 100%|██████████| 11/11 [00:06<00:00,  1.60batches/s]\n"
     ]
    },
    {
     "name": "stdout",
     "output_type": "stream",
     "text": [
      "\n",
      "Metrics: {'train_loss': 0.04094558942741082, 'test_loss': 1.433875235644254, 'bleu': 22.4575, 'gen_len': 10.4506}\n",
      "\n",
      "=============================\n",
      "\n"
     ]
    },
    {
     "name": "stderr",
     "output_type": "stream",
     "text": [
      " 62%|██████▏   | 38/61 [26:12<15:45, 41.10s/it]"
     ]
    },
    {
     "name": "stdout",
     "output_type": "stream",
     "text": [
      "For epoch 44: \n",
      "{Learning rate: [0.0016088588058888703]}\n"
     ]
    },
    {
     "name": "stderr",
     "output_type": "stream",
     "text": [
      "Train batch number 81: 100%|██████████| 81/81 [00:27<00:00,  2.95batches/s]\n",
      "Test batch number 11: 100%|██████████| 11/11 [00:06<00:00,  1.67batches/s]\n"
     ]
    },
    {
     "name": "stdout",
     "output_type": "stream",
     "text": [
      "\n",
      "Metrics: {'train_loss': 0.04130001842147774, 'test_loss': 1.4478458816354924, 'bleu': 23.7591, 'gen_len': 10.4753}\n",
      "\n",
      "=============================\n",
      "\n"
     ]
    },
    {
     "name": "stderr",
     "output_type": "stream",
     "text": [
      " 64%|██████▍   | 39/61 [26:51<14:50, 40.46s/it]"
     ]
    },
    {
     "name": "stdout",
     "output_type": "stream",
     "text": [
      "For epoch 45: \n",
      "{Learning rate: [0.001606194206480258]}\n"
     ]
    },
    {
     "name": "stderr",
     "output_type": "stream",
     "text": [
      "Train batch number 81: 100%|██████████| 81/81 [00:27<00:00,  2.92batches/s]\n",
      "Test batch number 11: 100%|██████████| 11/11 [00:06<00:00,  1.71batches/s]\n"
     ]
    },
    {
     "name": "stdout",
     "output_type": "stream",
     "text": [
      "\n",
      "Metrics: {'train_loss': 0.04088225891744649, 'test_loss': 1.4931820631027222, 'bleu': 24.3111, 'gen_len': 10.5309}\n",
      "\n",
      "=============================\n",
      "\n"
     ]
    },
    {
     "name": "stderr",
     "output_type": "stream",
     "text": [
      " 66%|██████▌   | 40/61 [27:31<14:01, 40.07s/it]"
     ]
    },
    {
     "name": "stdout",
     "output_type": "stream",
     "text": [
      "For epoch 46: \n",
      "{Learning rate: [0.0016035296070716458]}\n"
     ]
    },
    {
     "name": "stderr",
     "output_type": "stream",
     "text": [
      "Train batch number 81: 100%|██████████| 81/81 [00:29<00:00,  2.77batches/s]\n",
      "Test batch number 11: 100%|██████████| 11/11 [00:07<00:00,  1.43batches/s]\n"
     ]
    },
    {
     "name": "stdout",
     "output_type": "stream",
     "text": [
      "\n",
      "Metrics: {'train_loss': 0.04151718449537401, 'test_loss': 1.4623573476617986, 'bleu': 25.8064, 'gen_len': 10.8951}\n",
      "\n",
      "=============================\n",
      "\n"
     ]
    },
    {
     "name": "stderr",
     "output_type": "stream",
     "text": [
      " 67%|██████▋   | 41/61 [28:16<13:55, 41.76s/it]"
     ]
    },
    {
     "name": "stdout",
     "output_type": "stream",
     "text": [
      "For epoch 47: \n",
      "{Learning rate: [0.0016008650076630335]}\n"
     ]
    },
    {
     "name": "stderr",
     "output_type": "stream",
     "text": [
      "Train batch number 81: 100%|██████████| 81/81 [00:27<00:00,  2.95batches/s]\n",
      "Test batch number 11: 100%|██████████| 11/11 [00:06<00:00,  1.66batches/s]\n"
     ]
    },
    {
     "name": "stdout",
     "output_type": "stream",
     "text": [
      "\n",
      "Metrics: {'train_loss': 0.03825901414233225, 'test_loss': 1.492120775309476, 'bleu': 24.3463, 'gen_len': 10.5432}\n",
      "\n",
      "=============================\n",
      "\n"
     ]
    },
    {
     "name": "stderr",
     "output_type": "stream",
     "text": [
      " 69%|██████▉   | 42/61 [28:55<12:57, 40.94s/it]"
     ]
    },
    {
     "name": "stdout",
     "output_type": "stream",
     "text": [
      "For epoch 48: \n",
      "{Learning rate: [0.0015982004082544215]}\n"
     ]
    },
    {
     "name": "stderr",
     "output_type": "stream",
     "text": [
      "Train batch number 81: 100%|██████████| 81/81 [00:27<00:00,  2.91batches/s]\n",
      "Test batch number 11: 100%|██████████| 11/11 [00:06<00:00,  1.68batches/s]\n"
     ]
    },
    {
     "name": "stdout",
     "output_type": "stream",
     "text": [
      "\n",
      "Metrics: {'train_loss': 0.036582344913004355, 'test_loss': 1.4752048254013062, 'bleu': 24.8872, 'gen_len': 10.5123}\n",
      "\n",
      "=============================\n",
      "\n"
     ]
    },
    {
     "name": "stderr",
     "output_type": "stream",
     "text": [
      " 70%|███████   | 43/61 [29:35<12:08, 40.49s/it]"
     ]
    },
    {
     "name": "stdout",
     "output_type": "stream",
     "text": [
      "For epoch 49: \n",
      "{Learning rate: [0.001595535808845809]}\n"
     ]
    },
    {
     "name": "stderr",
     "output_type": "stream",
     "text": [
      "Train batch number 81: 100%|██████████| 81/81 [00:28<00:00,  2.86batches/s]\n",
      "Test batch number 11: 100%|██████████| 11/11 [00:06<00:00,  1.61batches/s]\n"
     ]
    },
    {
     "name": "stdout",
     "output_type": "stream",
     "text": [
      "\n",
      "Metrics: {'train_loss': 0.03639467099658501, 'test_loss': 1.4636027704585681, 'bleu': 22.7269, 'gen_len': 10.8827}\n",
      "\n",
      "=============================\n",
      "\n"
     ]
    },
    {
     "name": "stderr",
     "output_type": "stream",
     "text": [
      " 72%|███████▏  | 44/61 [30:15<11:27, 40.42s/it]"
     ]
    },
    {
     "name": "stdout",
     "output_type": "stream",
     "text": [
      "For epoch 50: \n",
      "{Learning rate: [0.0015928712094371968]}\n"
     ]
    },
    {
     "name": "stderr",
     "output_type": "stream",
     "text": [
      "Train batch number 81: 100%|██████████| 81/81 [00:27<00:00,  2.95batches/s]\n",
      "Test batch number 11: 100%|██████████| 11/11 [00:06<00:00,  1.67batches/s]\n"
     ]
    },
    {
     "name": "stdout",
     "output_type": "stream",
     "text": [
      "\n",
      "Metrics: {'train_loss': 0.0322461773491936, 'test_loss': 1.4701306061311201, 'bleu': 24.6209, 'gen_len': 11.0062}\n",
      "\n",
      "=============================\n",
      "\n"
     ]
    },
    {
     "name": "stderr",
     "output_type": "stream",
     "text": [
      " 74%|███████▍  | 45/61 [30:54<10:40, 40.01s/it]"
     ]
    },
    {
     "name": "stdout",
     "output_type": "stream",
     "text": [
      "For epoch 51: \n",
      "{Learning rate: [0.0015902066100285848]}\n"
     ]
    },
    {
     "name": "stderr",
     "output_type": "stream",
     "text": [
      "Train batch number 81: 100%|██████████| 81/81 [00:27<00:00,  2.92batches/s]\n",
      "Test batch number 11: 100%|██████████| 11/11 [00:06<00:00,  1.68batches/s]\n"
     ]
    },
    {
     "name": "stdout",
     "output_type": "stream",
     "text": [
      "\n",
      "Metrics: {'train_loss': 0.036150063629503605, 'test_loss': 1.5128514008088545, 'bleu': 22.1109, 'gen_len': 10.6975}\n",
      "\n",
      "=============================\n",
      "\n"
     ]
    },
    {
     "name": "stderr",
     "output_type": "stream",
     "text": [
      " 75%|███████▌  | 46/61 [31:33<09:57, 39.84s/it]"
     ]
    },
    {
     "name": "stdout",
     "output_type": "stream",
     "text": [
      "For epoch 52: \n",
      "{Learning rate: [0.0015875420106199725]}\n"
     ]
    },
    {
     "name": "stderr",
     "output_type": "stream",
     "text": [
      "Train batch number 81: 100%|██████████| 81/81 [00:27<00:00,  2.95batches/s]\n",
      "Test batch number 11: 100%|██████████| 11/11 [00:06<00:00,  1.69batches/s]\n"
     ]
    },
    {
     "name": "stdout",
     "output_type": "stream",
     "text": [
      "\n",
      "Metrics: {'train_loss': 0.034446705454661525, 'test_loss': 1.5204461379484697, 'bleu': 23.0424, 'gen_len': 10.5802}\n",
      "\n",
      "=============================\n",
      "\n"
     ]
    },
    {
     "name": "stderr",
     "output_type": "stream",
     "text": [
      " 77%|███████▋  | 47/61 [32:13<09:14, 39.61s/it]"
     ]
    },
    {
     "name": "stdout",
     "output_type": "stream",
     "text": [
      "For epoch 53: \n",
      "{Learning rate: [0.00158487741121136]}\n"
     ]
    },
    {
     "name": "stderr",
     "output_type": "stream",
     "text": [
      "Train batch number 81: 100%|██████████| 81/81 [00:27<00:00,  2.90batches/s]\n",
      "Test batch number 11: 100%|██████████| 11/11 [00:06<00:00,  1.62batches/s]\n"
     ]
    },
    {
     "name": "stdout",
     "output_type": "stream",
     "text": [
      "\n",
      "Metrics: {'train_loss': 0.032369854032165475, 'test_loss': 1.5082211169329556, 'bleu': 22.6581, 'gen_len': 10.7407}\n",
      "\n",
      "=============================\n",
      "\n"
     ]
    },
    {
     "name": "stderr",
     "output_type": "stream",
     "text": [
      " 79%|███████▊  | 48/61 [32:52<08:36, 39.69s/it]"
     ]
    },
    {
     "name": "stdout",
     "output_type": "stream",
     "text": [
      "For epoch 54: \n",
      "{Learning rate: [0.001582212811802748]}\n"
     ]
    },
    {
     "name": "stderr",
     "output_type": "stream",
     "text": [
      "Train batch number 81: 100%|██████████| 81/81 [00:27<00:00,  2.93batches/s]\n",
      "Test batch number 11: 100%|██████████| 11/11 [00:06<00:00,  1.68batches/s]\n"
     ]
    },
    {
     "name": "stdout",
     "output_type": "stream",
     "text": [
      "\n",
      "Metrics: {'train_loss': 0.031792920726684874, 'test_loss': 1.5201993096958508, 'bleu': 22.9479, 'gen_len': 10.8025}\n",
      "\n",
      "=============================\n",
      "\n"
     ]
    },
    {
     "name": "stderr",
     "output_type": "stream",
     "text": [
      " 80%|████████  | 49/61 [33:32<07:54, 39.58s/it]"
     ]
    },
    {
     "name": "stdout",
     "output_type": "stream",
     "text": [
      "For epoch 55: \n",
      "{Learning rate: [0.0015795482123941358]}\n"
     ]
    },
    {
     "name": "stderr",
     "output_type": "stream",
     "text": [
      "Train batch number 81: 100%|██████████| 81/81 [00:27<00:00,  2.95batches/s]\n",
      "Test batch number 11: 100%|██████████| 11/11 [00:07<00:00,  1.53batches/s]\n"
     ]
    },
    {
     "name": "stdout",
     "output_type": "stream",
     "text": [
      "\n",
      "Metrics: {'train_loss': 0.03299657743493164, 'test_loss': 1.5213525728745894, 'bleu': 25.8002, 'gen_len': 10.9383}\n",
      "\n",
      "=============================\n",
      "\n"
     ]
    },
    {
     "name": "stderr",
     "output_type": "stream",
     "text": [
      " 82%|████████▏ | 50/61 [34:12<07:15, 39.63s/it]"
     ]
    },
    {
     "name": "stdout",
     "output_type": "stream",
     "text": [
      "For epoch 56: \n",
      "{Learning rate: [0.0015768836129855235]}\n"
     ]
    },
    {
     "name": "stderr",
     "output_type": "stream",
     "text": [
      "Train batch number 81: 100%|██████████| 81/81 [00:28<00:00,  2.85batches/s]\n",
      "Test batch number 11: 100%|██████████| 11/11 [00:07<00:00,  1.51batches/s]\n"
     ]
    },
    {
     "name": "stdout",
     "output_type": "stream",
     "text": [
      "\n",
      "Metrics: {'train_loss': 0.032190850797902654, 'test_loss': 1.5501680157401345, 'bleu': 25.2609, 'gen_len': 11.0988}\n",
      "\n",
      "=============================\n",
      "\n"
     ]
    },
    {
     "name": "stderr",
     "output_type": "stream",
     "text": [
      " 84%|████████▎ | 51/61 [34:53<06:40, 40.05s/it]"
     ]
    },
    {
     "name": "stdout",
     "output_type": "stream",
     "text": [
      "For epoch 57: \n",
      "{Learning rate: [0.0015742190135769113]}\n"
     ]
    },
    {
     "name": "stderr",
     "output_type": "stream",
     "text": [
      "Train batch number 81: 100%|██████████| 81/81 [00:27<00:00,  2.92batches/s]\n",
      "Test batch number 11: 100%|██████████| 11/11 [00:06<00:00,  1.62batches/s]\n"
     ]
    },
    {
     "name": "stdout",
     "output_type": "stream",
     "text": [
      "\n",
      "Metrics: {'train_loss': 0.030277812025613256, 'test_loss': 1.5629931688308716, 'bleu': 24.4221, 'gen_len': 10.8457}\n",
      "\n",
      "=============================\n",
      "\n"
     ]
    },
    {
     "name": "stderr",
     "output_type": "stream",
     "text": [
      " 85%|████████▌ | 52/61 [35:32<05:59, 39.95s/it]"
     ]
    },
    {
     "name": "stdout",
     "output_type": "stream",
     "text": [
      "For epoch 58: \n",
      "{Learning rate: [0.001571554414168299]}\n"
     ]
    },
    {
     "name": "stderr",
     "output_type": "stream",
     "text": [
      "Train batch number 81: 100%|██████████| 81/81 [00:28<00:00,  2.88batches/s]\n",
      "Test batch number 11: 100%|██████████| 11/11 [00:06<00:00,  1.65batches/s]\n"
     ]
    },
    {
     "name": "stdout",
     "output_type": "stream",
     "text": [
      "\n",
      "Metrics: {'train_loss': 0.03162354230880737, 'test_loss': 1.5420642766085537, 'bleu': 25.3252, 'gen_len': 10.8642}\n",
      "\n",
      "=============================\n",
      "\n"
     ]
    },
    {
     "name": "stderr",
     "output_type": "stream",
     "text": [
      " 87%|████████▋ | 53/61 [36:12<05:19, 39.92s/it]"
     ]
    },
    {
     "name": "stdout",
     "output_type": "stream",
     "text": [
      "For epoch 59: \n",
      "{Learning rate: [0.001568889814759687]}\n"
     ]
    },
    {
     "name": "stderr",
     "output_type": "stream",
     "text": [
      "Train batch number 81: 100%|██████████| 81/81 [00:27<00:00,  2.94batches/s]\n",
      "Test batch number 11: 100%|██████████| 11/11 [00:07<00:00,  1.42batches/s]\n"
     ]
    },
    {
     "name": "stdout",
     "output_type": "stream",
     "text": [
      "\n",
      "Metrics: {'train_loss': 0.030404649168988804, 'test_loss': 1.5282280336726795, 'bleu': 23.3752, 'gen_len': 10.9938}\n",
      "\n",
      "=============================\n",
      "\n"
     ]
    },
    {
     "name": "stderr",
     "output_type": "stream",
     "text": [
      " 89%|████████▊ | 54/61 [36:52<04:40, 40.00s/it]"
     ]
    },
    {
     "name": "stdout",
     "output_type": "stream",
     "text": [
      "For epoch 60: \n",
      "{Learning rate: [0.0015662252153510745]}\n"
     ]
    },
    {
     "name": "stderr",
     "output_type": "stream",
     "text": [
      "Train batch number 81: 100%|██████████| 81/81 [00:27<00:00,  2.95batches/s]\n",
      "Test batch number 11: 100%|██████████| 11/11 [00:06<00:00,  1.63batches/s]\n"
     ]
    },
    {
     "name": "stdout",
     "output_type": "stream",
     "text": [
      "\n",
      "Metrics: {'train_loss': 0.03084236651337073, 'test_loss': 1.5201131647283381, 'bleu': 25.1067, 'gen_len': 10.9691}\n",
      "\n",
      "=============================\n",
      "\n"
     ]
    },
    {
     "name": "stderr",
     "output_type": "stream",
     "text": [
      " 90%|█████████ | 55/61 [37:32<03:58, 39.83s/it]"
     ]
    },
    {
     "name": "stdout",
     "output_type": "stream",
     "text": [
      "For epoch 61: \n",
      "{Learning rate: [0.0015635606159424623]}\n"
     ]
    },
    {
     "name": "stderr",
     "output_type": "stream",
     "text": [
      "Train batch number 81: 100%|██████████| 81/81 [00:27<00:00,  2.89batches/s]\n",
      "Test batch number 11: 100%|██████████| 11/11 [00:06<00:00,  1.69batches/s]\n"
     ]
    },
    {
     "name": "stdout",
     "output_type": "stream",
     "text": [
      "\n",
      "Metrics: {'train_loss': 0.03033649953611103, 'test_loss': 1.5628684000535444, 'bleu': 26.831, 'gen_len': 10.8148}\n",
      "\n",
      "=============================\n",
      "\n"
     ]
    },
    {
     "name": "stderr",
     "output_type": "stream",
     "text": [
      " 92%|█████████▏| 56/61 [38:15<03:24, 40.89s/it]"
     ]
    },
    {
     "name": "stdout",
     "output_type": "stream",
     "text": [
      "For epoch 62: \n",
      "{Learning rate: [0.0015608960165338502]}\n"
     ]
    },
    {
     "name": "stderr",
     "output_type": "stream",
     "text": [
      "Train batch number 81: 100%|██████████| 81/81 [00:27<00:00,  2.94batches/s]\n",
      "Test batch number 11: 100%|██████████| 11/11 [00:06<00:00,  1.67batches/s]\n"
     ]
    },
    {
     "name": "stdout",
     "output_type": "stream",
     "text": [
      "\n",
      "Metrics: {'train_loss': 0.029378590185517146, 'test_loss': 1.5705588839270852, 'bleu': 25.9507, 'gen_len': 10.8457}\n",
      "\n",
      "=============================\n",
      "\n"
     ]
    },
    {
     "name": "stderr",
     "output_type": "stream",
     "text": [
      " 93%|█████████▎| 57/61 [38:54<02:41, 40.43s/it]"
     ]
    },
    {
     "name": "stdout",
     "output_type": "stream",
     "text": [
      "For epoch 63: \n",
      "{Learning rate: [0.001558231417125238]}\n"
     ]
    },
    {
     "name": "stderr",
     "output_type": "stream",
     "text": [
      "Train batch number 81: 100%|██████████| 81/81 [00:28<00:00,  2.87batches/s]\n",
      "Test batch number 11: 100%|██████████| 11/11 [00:06<00:00,  1.67batches/s]\n"
     ]
    },
    {
     "name": "stdout",
     "output_type": "stream",
     "text": [
      "\n",
      "Metrics: {'train_loss': 0.028790473874750328, 'test_loss': 1.5690640861337835, 'bleu': 26.6371, 'gen_len': 10.8519}\n",
      "\n",
      "=============================\n",
      "\n"
     ]
    },
    {
     "name": "stderr",
     "output_type": "stream",
     "text": [
      " 95%|█████████▌| 58/61 [39:34<02:00, 40.23s/it]"
     ]
    },
    {
     "name": "stdout",
     "output_type": "stream",
     "text": [
      "For epoch 64: \n",
      "{Learning rate: [0.0015555668177166255]}\n"
     ]
    },
    {
     "name": "stderr",
     "output_type": "stream",
     "text": [
      "Train batch number 81: 100%|██████████| 81/81 [00:29<00:00,  2.78batches/s]\n",
      "Test batch number 11: 100%|██████████| 11/11 [00:06<00:00,  1.59batches/s]\n"
     ]
    },
    {
     "name": "stdout",
     "output_type": "stream",
     "text": [
      "\n",
      "Metrics: {'train_loss': 0.029306671789122954, 'test_loss': 1.550915468822826, 'bleu': 23.8681, 'gen_len': 10.858}\n",
      "\n",
      "=============================\n",
      "\n"
     ]
    },
    {
     "name": "stderr",
     "output_type": "stream",
     "text": [
      " 97%|█████████▋| 59/61 [40:15<01:20, 40.44s/it]"
     ]
    },
    {
     "name": "stdout",
     "output_type": "stream",
     "text": [
      "For epoch 65: \n",
      "{Learning rate: [0.0015529022183080135]}\n"
     ]
    },
    {
     "name": "stderr",
     "output_type": "stream",
     "text": [
      "Train batch number 81: 100%|██████████| 81/81 [00:27<00:00,  2.94batches/s]\n",
      "Test batch number 11: 100%|██████████| 11/11 [00:07<00:00,  1.53batches/s]\n"
     ]
    },
    {
     "name": "stdout",
     "output_type": "stream",
     "text": [
      "\n",
      "Metrics: {'train_loss': 0.029958744044703098, 'test_loss': 1.5369965379888362, 'bleu': 26.1846, 'gen_len': 11.0062}\n",
      "\n",
      "=============================\n",
      "\n"
     ]
    },
    {
     "name": "stderr",
     "output_type": "stream",
     "text": [
      " 98%|█████████▊| 60/61 [40:55<00:40, 40.19s/it]"
     ]
    },
    {
     "name": "stdout",
     "output_type": "stream",
     "text": [
      "For epoch 66: \n",
      "{Learning rate: [0.0015502376188994012]}\n"
     ]
    },
    {
     "name": "stderr",
     "output_type": "stream",
     "text": [
      "Train batch number 81: 100%|██████████| 81/81 [00:28<00:00,  2.89batches/s]\n",
      "Test batch number 11: 100%|██████████| 11/11 [00:06<00:00,  1.61batches/s]\n"
     ]
    },
    {
     "name": "stdout",
     "output_type": "stream",
     "text": [
      "\n",
      "Metrics: {'train_loss': 0.024802282550314695, 'test_loss': 1.5957979614084417, 'bleu': 23.761, 'gen_len': 10.7716}\n",
      "\n",
      "=============================\n",
      "\n"
     ]
    },
    {
     "name": "stderr",
     "output_type": "stream",
     "text": [
      "100%|██████████| 61/61 [41:35<00:00, 40.90s/it]\n"
     ]
    }
   ],
   "source": [
    "trainer.train(epochs = config['epochs'] - trainer.current_epoch, auto_save=True, metric_for_best_model='bleu', metric_objective='maximize', log_step=1,\n",
    "              saving_directory = config['new_model_dir'])"
   ]
  },
  {
   "attachments": {},
   "cell_type": "markdown",
   "metadata": {},
   "source": [
    "### --- Cosine"
   ]
  },
  {
   "cell_type": "code",
   "execution_count": null,
   "metadata": {},
   "outputs": [],
   "source": [
    "trainer.train(epochs = config['epochs'] - trainer.current_epoch, auto_save=True, metric_for_best_model='bleu', metric_objective='maximize', log_step=1,\n",
    "              saving_directory = config['new_model_dir'])"
   ]
  },
  {
   "attachments": {},
   "cell_type": "markdown",
   "metadata": {},
   "source": [
    "### ---"
   ]
  },
  {
   "cell_type": "code",
   "execution_count": null,
   "metadata": {},
   "outputs": [],
   "source": [
    "trainer.train(epochs = config['epochs'] - trainer.current_epoch, auto_save=True, metric_for_best_model='bleu', metric_objective='maximize', log_step=1,\n",
    "              saving_directory = config['new_model_dir'])"
   ]
  },
  {
   "attachments": {},
   "cell_type": "markdown",
   "metadata": {
    "id": "sQVOIX4lqGMg"
   },
   "source": [
    "### Predictions and Evaluation"
   ]
  },
  {
   "cell_type": "code",
   "execution_count": 14,
   "metadata": {},
   "outputs": [],
   "source": [
    "# initialize the transformation sequence\n",
    "end_mark_fn = partial(add_end_mark)\n",
    "fr_augmentation = TransformerSequences(remove_mark_space, delete_guillemet_space, add_mark_space, end_mark_fn)\n",
    "\n",
    "# let us get the test set\n",
    "test_dataset = SentenceDataset(f\"data/extractions/new_data/test_set.csv\",\n",
    "                                        corpus_1='wolof',\n",
    "                                        corpus_2='french',\n",
    "                                        tokenizer = tokenizer,\n",
    "                                        cp1_transformer = fr_augmentation,\n",
    "                                        cp2_transformer = fr_augmentation,\n",
    "                                        truncation = True, add_bos_token=True)"
   ]
  },
  {
   "attachments": {},
   "cell_type": "markdown",
   "metadata": {
    "id": "W_iGdw-LLAJz"
   },
   "source": [
    "Let us make the evaluation and print the predicted sentences."
   ]
  },
  {
   "cell_type": "code",
   "execution_count": 15,
   "metadata": {},
   "outputs": [
    {
     "name": "stderr",
     "output_type": "stream",
     "text": [
      "Evaluation batch number 11: 100%|██████████| 11/11 [00:28<00:00,  2.56s/batches]"
     ]
    },
    {
     "name": "stdout",
     "output_type": "stream",
     "text": [
      "predictions_: [[2, 0, 319, 12, 40, 38, 716, 6, 2, 1, 1, 1, 1, 1, 1, 1], [2, 0, 319, 19, 1078, 223, 59, 109, 15, 470, 67, 1764, 26, 283, 16, 2], [2, 0, 1920, 15, 518, 936, 172, 748, 6, 2, 1, 1, 1, 1, 1, 1], [2, 0, 1678, 20, 171, 5, 63, 47, 5, 63, 322, 506, 6, 2, 1, 1], [2, 0, 1686, 59, 32, 317, 128, 9, 60, 147, 16, 2, 1, 1, 1, 1], [2, 0, 319, 19, 118, 12, 18, 40, 38, 6, 2, 1, 1, 1, 1, 1], [2, 0, 1738, 218, 48, 817, 223, 6, 2, 1, 1, 1, 1, 1, 1, 1], [2, 0, 1852, 636, 9, 25, 47, 67, 495, 26, 66, 70, 16, 2, 1, 1], [2, 0, 1920, 15, 1919, 491, 10, 24, 29, 11, 591, 19, 5, 8, 2, 1], [2, 0, 1920, 15, 1619, 1497, 1805, 252, 9, 278, 9, 5, 8, 2, 1, 1], [2, 0, 1885, 1203, 10, 47, 190, 964, 20, 6, 2, 1, 1, 1, 1, 1], [2, 0, 319, 12, 40, 38, 24, 368, 347, 16, 2, 1, 1, 1, 1, 1], [2, 0, 1568, 59, 591, 72, 184, 92, 130, 6, 2, 1, 1, 1, 1, 1], [2, 0, 1568, 53, 26, 6, 2, 1, 1, 1, 1, 1, 1, 1, 1, 1], [2, 0, 1686, 5, 9, 847, 317, 6, 2, 1, 1, 1, 1, 1, 1, 1], [2, 0, 1568, 1800, 690, 805, 62, 29, 102, 6, 2, 1, 1, 1, 1, 1], [2, 0, 1852, 78, 1042, 85, 6, 2, 1, 1, 1, 1, 1, 1, 1, 1, 1, 1, 1, 1, 1], [2, 0, 1738, 374, 23, 24, 563, 5, 8, 2, 1, 1, 1, 1, 1, 1, 1, 1, 1, 1, 1], [2, 0, 1920, 15, 13, 59, 388, 72, 5, 8, 2, 1, 1, 1, 1, 1, 1, 1, 1, 1, 1], [2, 0, 1920, 15, 518, 9, 1013, 9, 73, 103, 159, 5, 8, 2, 1, 1, 1, 1, 1, 1, 1], [2, 0, 1678, 1919, 597, 86, 184, 92, 322, 5, 1159, 6, 2, 1, 1, 1, 1, 1, 1, 1, 1], [2, 0, 1678, 159, 98, 10, 257, 6, 2, 1, 1, 1, 1, 1, 1, 1, 1, 1, 1, 1, 1], [2, 0, 1738, 218, 48, 817, 223, 5, 8, 2, 1, 1, 1, 1, 1, 1, 1, 1, 1, 1, 1], [2, 0, 1686, 139, 292, 121, 60, 591, 19, 23, 47, 6, 2, 1, 1, 1, 1, 1, 1, 1, 1], [2, 0, 319, 12, 40, 709, 6, 2, 1, 1, 1, 1, 1, 1, 1, 1, 1, 1, 1, 1, 1], [2, 0, 1813, 13, 32, 686, 266, 128, 9, 16, 2, 1, 1, 1, 1, 1, 1, 1, 1, 1, 1], [2, 0, 1918, 1619, 34, 556, 18, 10, 101, 945, 562, 16, 2, 1, 1, 1, 1, 1, 1, 1, 1], [2, 0, 1852, 550, 65, 113, 6, 2, 1, 1, 1, 1, 1, 1, 1, 1, 1, 1, 1, 1, 1], [2, 0, 1917, 112, 1016, 132, 658, 16, 2, 1, 1, 1, 1, 1, 1, 1, 1, 1, 1, 1, 1], [2, 0, 1678, 765, 9, 5, 8, 2, 1, 1, 1, 1, 1, 1, 1, 1, 1, 1, 1, 1, 1], [2, 0, 1686, 34, 661, 562, 18, 196, 42, 382, 225, 64, 48, 25, 65, 212, 335, 1310, 19, 6, 2], [2, 0, 1686, 29, 102, 5, 8, 2, 1, 1, 1, 1, 1, 1, 1, 1, 1, 1, 1, 1, 1], [2, 0, 1918, 1619, 134, 6, 2, 1, 1, 1, 1, 1, 1, 1, 1, 1, 1, 1, 1], [2, 0, 1678, 765, 9, 5, 422, 175, 32, 9, 5, 8, 2, 1, 1, 1, 1, 1, 1], [2, 0, 1686, 29, 60, 124, 10, 60, 813, 10, 145, 76, 9, 5, 63, 145, 824, 16, 2], [2, 0, 1933, 365, 42, 34, 143, 18, 6, 2, 1, 1, 1, 1, 1, 1, 1, 1, 1], [2, 0, 1738, 143, 377, 365, 5, 8, 2, 1, 1, 1, 1, 1, 1, 1, 1, 1, 1], [2, 0, 1914, 561, 9, 140, 25, 65, 113, 408, 274, 116, 718, 16, 2, 1, 1, 1, 1], [2, 0, 1813, 13, 238, 68, 97, 188, 1044, 19, 6, 2, 1, 1, 1, 1, 1, 1, 1], [2, 0, 1678, 1206, 185, 5, 8, 2, 1, 1, 1, 1, 1, 1, 1, 1, 1, 1, 1], [2, 0, 1568, 59, 121, 25, 67, 12, 85, 10, 142, 325, 148, 16, 2, 1, 1, 1, 1], [2, 0, 319, 1057, 34, 856, 18, 6, 2, 1, 1, 1, 1, 1, 1, 1, 1, 1, 1], [2, 0, 1920, 15, 19, 42, 456, 460, 25, 42, 34, 456, 18, 101, 338, 6, 2, 1, 1], [2, 0, 1686, 1269, 6, 2, 1, 1, 1, 1, 1, 1, 1, 1, 1, 1, 1, 1, 1], [2, 0, 1686, 34, 65, 326, 18, 32, 197, 2, 1, 1, 1, 1, 1, 1, 1, 1, 1], [2, 0, 1568, 24, 134, 6, 2, 1, 1, 1, 1, 1, 1, 1, 1, 1, 1, 1, 1], [2, 0, 1686, 1269, 6, 2, 1, 1, 1, 1, 1, 1, 1, 1, 1, 1, 1, 1, 1], [2, 0, 319, 63, 38, 24, 59, 39, 6, 2, 1, 1, 1, 1, 1, 1, 1, 1, 1], [2, 0, 1738, 374, 23, 24, 29, 103, 5, 8, 2, 1, 1, 1, 1, 1, 1, 1], [2, 0, 1932, 233, 164, 40, 60, 947, 1319, 16, 2, 1, 1, 1, 1, 1, 1, 1], [2, 0, 1933, 365, 10, 42, 767, 18, 39, 6, 2, 1, 1, 1, 1, 1, 1, 1], [2, 0, 1568, 139, 18, 32, 66, 1006, 6, 2, 1, 1, 1, 1, 1, 1, 1, 1], [2, 0, 1686, 118, 12, 23, 90, 1335, 108, 1163, 797, 25, 42, 34, 1280, 9, 16, 2], [2, 0, 1686, 693, 26, 107, 6, 2, 1, 1, 1, 1, 1, 1, 1, 1, 1, 1], [2, 0, 1920, 15, 13, 542, 133, 15, 5, 8, 2, 1, 1, 1, 1, 1, 1, 1], [2, 0, 1852, 877, 13, 18, 6, 2, 1, 1, 1, 1, 1, 1, 1, 1, 1, 1], [2, 0, 319, 12, 85, 25, 91, 78, 764, 6, 2, 1, 1, 1, 1, 1, 1, 1], [2, 0, 1918, 1394, 40, 38, 23, 322, 16, 2, 1, 1, 1, 1, 1, 1, 1, 1], [2, 0, 319, 12, 60, 124, 25, 47, 29, 6, 2, 1, 1, 1, 1, 1, 1, 1], [2, 0, 1885, 437, 16, 2, 1, 1, 1, 1, 1, 1, 1, 1, 1, 1, 1, 1], [2, 0, 1738, 34, 382, 375, 52, 134, 16, 2, 1, 1, 1, 1, 1, 1, 1, 1], [2, 0, 1885, 15, 215, 9, 10, 101, 9, 73, 6, 2, 1, 1, 1, 1, 1, 1], [2, 0, 1686, 34, 65, 326, 18, 32, 197, 2, 1, 1, 1, 1, 1, 1, 1, 1], [2, 0, 1929, 174, 19, 1304, 16, 2, 1, 1, 1, 1, 1, 1, 1, 1, 1, 1], [2, 0, 319, 12, 85, 24, 29, 818, 6, 2, 1, 1, 1, 1], [2, 0, 1922, 124, 16, 2, 1, 1, 1, 1, 1, 1, 1, 1], [2, 0, 1738, 290, 53, 5, 8, 2, 1, 1, 1, 1, 1, 1], [2, 0, 1813, 13, 32, 66, 38, 24, 388, 421, 16, 2, 1, 1], [2, 0, 319, 420, 464, 1351, 40, 70, 392, 16, 2, 1, 1, 1], [2, 0, 1738, 34, 382, 375, 52, 134, 16, 2, 1, 1, 1, 1], [2, 0, 1813, 13, 5, 337, 259, 15, 5, 250, 171, 6, 2, 1], [2, 0, 1738, 290, 53, 6, 2, 1, 1, 1, 1, 1, 1, 1], [2, 0, 1813, 13, 32, 304, 9, 48, 9, 169, 339, 6, 2, 1], [2, 0, 1915, 112, 1098, 19, 10, 235, 10, 574, 6, 2, 1, 1], [2, 0, 1738, 374, 23, 252, 198, 5, 8, 2, 1, 1, 1, 1], [2, 0, 1920, 15, 518, 70, 187, 5, 8, 2, 1, 1, 1, 1], [2, 0, 1920, 15, 13, 542, 133, 15, 5, 8, 2, 1, 1, 1], [2, 0, 319, 12, 40, 38, 16, 2, 1, 1, 1, 1, 1, 1], [2, 0, 319, 12, 5, 250, 70, 334, 401, 25, 91, 143, 16, 2], [2, 0, 1687, 249, 48, 73, 65, 266, 6, 2, 1, 1, 1, 1], [2, 0, 319, 12, 60, 124, 25, 42, 61, 9, 5, 8, 2, 1, 1, 1, 1, 1, 1], [2, 0, 1813, 13, 5, 337, 259, 15, 5, 63, 238, 938, 19, 187, 6, 2, 1, 1, 1], [2, 0, 1885, 1203, 10, 34, 134, 141, 18, 6, 2, 1, 1, 1, 1, 1, 1, 1, 1], [2, 0, 1686, 29, 53, 101, 199, 59, 40, 972, 6, 2, 1, 1, 1, 1, 1, 1, 1], [2, 0, 1738, 87, 39, 240, 16, 2, 1, 1, 1, 1, 1, 1, 1, 1, 1, 1, 1], [2, 0, 1813, 13, 32, 40, 97, 6, 2, 1, 1, 1, 1, 1, 1, 1, 1, 1, 1], [2, 0, 1686, 338, 25, 42, 923, 1169, 460, 517, 17, 6, 2, 1, 1, 1, 1, 1, 1], [2, 0, 1920, 15, 521, 101, 411, 6, 2, 1, 1, 1, 1, 1, 1, 1, 1, 1, 1], [2, 0, 1920, 15, 518, 936, 5, 8, 2, 1, 1, 1, 1, 1, 1, 1, 1, 1, 1], [2, 0, 1920, 15, 13, 139, 133, 15, 18, 965, 5, 8, 2, 1, 1, 1, 1, 1, 1], [2, 0, 319, 12, 60, 124, 25, 42, 61, 9, 5, 8, 2, 1, 1, 1, 1, 1, 1], [2, 0, 319, 420, 141, 239, 24, 29, 818, 6, 2, 1, 1, 1, 1, 1, 1, 1, 1], [2, 0, 1918, 1619, 134, 6, 2, 1, 1, 1, 1, 1, 1, 1, 1, 1, 1, 1, 1], [2, 0, 1852, 143, 25, 65, 212, 335, 1310, 19, 682, 17, 413, 274, 18, 601, 102, 16, 2], [2, 0, 1932, 13, 415, 179, 1559, 6, 2, 1, 1, 1, 1, 1, 1, 1, 1, 1, 1], [2, 0, 1917, 402, 535, 132, 392, 25, 42, 218, 16, 2, 1, 1, 1, 1, 1, 1, 1], [2, 0, 1568, 24, 29, 38, 6, 2, 1, 1, 1, 1, 1, 1, 1], [2, 0, 1925, 1010, 572, 467, 39, 240, 16, 2, 1, 1, 1, 1, 1], [2, 0, 1531, 15, 13, 6, 2, 1, 1, 1, 1, 1, 1, 1, 1], [2, 0, 319, 420, 464, 1351, 40, 70, 38, 16, 2, 1, 1, 1, 1], [2, 0, 1924, 614, 865, 185, 101, 1647, 10, 102, 841, 69, 1227, 6, 2], [2, 0, 1914, 1394, 437, 309, 16, 2, 1, 1, 1, 1, 1, 1, 1], [2, 0, 1918, 941, 5, 24, 29, 103, 5, 8, 2, 1, 1, 1, 1], [2, 0, 1920, 15, 1469, 23, 372, 16, 2, 1, 1, 1, 1, 1, 1], [2, 0, 1914, 1010, 134, 141, 6, 2, 1, 1, 1, 1, 1, 1, 1], [2, 0, 1922, 124, 6, 2, 1, 1, 1, 1, 1, 1, 1, 1, 1], [2, 0, 1738, 5, 1510, 10, 66, 38, 5, 8, 2, 1, 1, 1, 1], [2, 0, 1920, 15, 1469, 142, 100, 107, 5, 8, 2, 1, 1, 1, 1], [2, 0, 1920, 15, 19, 622, 1559, 1781, 540, 6, 2, 1, 1, 1, 1], [2, 0, 319, 12, 125, 25, 42, 914, 9, 5, 8, 2, 1, 1, 1], [2, 0, 1568, 24, 29, 103, 10, 142, 325, 148, 16, 2, 1, 1, 1], [2, 0, 1686, 86, 23, 24, 23, 147, 5, 8, 2, 1, 1, 1, 1], [2, 0, 1920, 15, 13, 5, 422, 175, 32, 5, 8, 2, 1, 1, 1, 1, 1], [2, 0, 1738, 218, 48, 9, 346, 223, 5, 8, 2, 1, 1, 1, 1, 1, 1], [2, 0, 1932, 233, 92, 10, 42, 34, 411, 9, 18, 5, 8, 2, 1, 1, 1], [2, 0, 319, 19, 118, 12, 18, 40, 38, 6, 2, 1, 1, 1, 1, 1, 1], [2, 0, 1885, 15, 92, 250, 67, 52, 473, 118, 12, 400, 5, 8, 2, 1, 1], [2, 0, 1852, 542, 258, 24, 5, 9, 12, 5, 977, 385, 2, 1, 1, 1, 1], [2, 0, 319, 112, 123, 279, 62, 134, 6, 2, 1, 1, 1, 1, 1, 1, 1], [2, 0, 1568, 59, 1556, 620, 72, 11, 278, 184, 92, 40, 323, 1144, 746, 6, 2], [2, 0, 1924, 1291, 653, 26, 103, 6, 2, 1, 1, 1, 1, 1, 1, 1, 1], [2, 0, 1738, 87, 32, 10, 710, 10, 47, 5, 8, 2, 1, 1, 1, 1, 1], [2, 0, 319, 12, 66, 70, 392, 257, 24, 29, 347, 6, 2, 1, 1, 1, 1], [2, 0, 1920, 1844, 169, 29, 234, 5, 8, 2, 1, 1, 1, 1, 1, 1, 1], [2, 0, 1678, 159, 212, 118, 1443, 274, 18, 39, 116, 713, 197, 2, 1, 1, 1], [2, 0, 1920, 15, 1619, 34, 271, 18, 16, 2, 1, 1, 1, 1, 1, 1, 1], [2, 0, 1914, 20, 16, 2, 1, 1, 1, 1, 1, 1, 1, 1, 1, 1, 1], [2, 0, 1885, 585, 47, 24, 118, 12, 18, 242, 108, 305, 1762, 16, 2, 1, 1], [2, 0, 1531, 137, 29, 68, 461, 9, 602, 5, 8, 2, 1], [2, 0, 1885, 437, 16, 2, 1, 1, 1, 1, 1, 1, 1], [2, 0, 1922, 124, 10, 60, 311, 34, 190, 971, 18, 16, 2], [2, 0, 1929, 365, 10, 42, 290, 102, 6, 2, 1, 1, 1], [2, 0, 1738, 290, 53, 5, 8, 2, 1, 1, 1, 1, 1], [2, 0, 1885, 13, 17, 9, 13, 612, 144, 5, 8, 2, 1], [2, 0, 1920, 15, 19, 143, 558, 15, 5, 8, 2, 1, 1], [2, 0, 1813, 13, 32, 85, 6, 2, 1, 1, 1, 1, 1], [2, 0, 1802, 26, 25, 375, 34, 1219, 16, 2, 1, 1, 1], [2, 0, 319, 12, 96, 24, 86, 6, 2, 1, 1, 1, 1], [2, 0, 1918, 1619, 134, 6, 2, 1, 1, 1, 1, 1, 1], [2, 0, 1920, 15, 518, 9, 183, 9, 5, 8, 2, 1, 1], [2, 0, 1924, 19, 15, 540, 107, 5, 8, 2, 1, 1, 1], [2, 0, 1924, 1291, 653, 26, 103, 16, 2, 1, 1, 1, 1], [2, 0, 1568, 10, 68, 98, 6, 2, 1, 1, 1, 1, 1], [2, 0, 1924, 750, 341, 272, 16, 2, 1, 1, 1, 1, 1], [2, 0, 1852, 241, 9, 62, 556, 16, 2, 1, 1, 1, 1, 1, 1, 1], [2, 0, 1568, 59, 39, 6, 2, 1, 1, 1, 1, 1, 1, 1, 1, 1], [2, 0, 1686, 29, 102, 60, 1062, 956, 1055, 62, 29, 102, 16, 2, 1, 1], [2, 0, 1568, 24, 86, 6, 2, 1, 1, 1, 1, 1, 1, 1, 1, 1], [2, 0, 1932, 159, 574, 9, 25, 42, 218, 10, 85, 29, 68, 967, 6, 2], [2, 0, 319, 12, 23, 239, 67, 857, 72, 386, 1649, 47, 6, 2, 1, 1], [2, 0, 1913, 754, 48, 969, 6, 2, 1, 1, 1, 1, 1, 1, 1, 1], [2, 0, 319, 1057, 34, 856, 142, 325, 148, 18, 16, 2, 1, 1, 1, 1], [2, 0, 1802, 17, 98, 40, 6, 2, 1, 1, 1, 1, 1, 1, 1, 1], [2, 0, 1885, 1203, 10, 34, 134, 141, 18, 6, 2, 1, 1, 1, 1, 1], [2, 0, 1531, 137, 29, 85, 5, 8, 2, 1, 1, 1, 1, 1, 1, 1], [2, 0, 1852, 474, 667, 65, 278, 9, 438, 6, 2, 1, 1, 1, 1, 1], [2, 0, 319, 12, 517, 215, 128, 16, 2, 1, 1, 1, 1, 1, 1, 1], [2, 0, 1678, 1018, 121, 989, 55, 6, 2, 1, 1, 1, 1, 1, 1, 1], [2, 0, 1813, 13, 32, 66, 38, 24, 388, 421, 6, 2, 1, 1, 1, 1], [2, 0, 1885, 1012, 257, 16, 2, 1, 1, 1, 1, 1, 1, 1, 1, 1], [2, 0, 1686, 29, 102, 10, 142, 325, 148, 6, 2]]\n"
     ]
    },
    {
     "name": "stderr",
     "output_type": "stream",
     "text": [
      "\n"
     ]
    }
   ],
   "source": [
    "# evaluation with test set\n",
    "df_ft_to_wf = trainer.evaluate(test_dataset)"
   ]
  },
  {
   "cell_type": "code",
   "execution_count": 16,
   "metadata": {},
   "outputs": [
    {
     "data": {
      "text/html": [
       "<div>\n",
       "<style scoped>\n",
       "    .dataframe tbody tr th:only-of-type {\n",
       "        vertical-align: middle;\n",
       "    }\n",
       "\n",
       "    .dataframe tbody tr th {\n",
       "        vertical-align: top;\n",
       "    }\n",
       "\n",
       "    .dataframe thead th {\n",
       "        text-align: right;\n",
       "    }\n",
       "</style>\n",
       "<table border=\"1\" class=\"dataframe\">\n",
       "  <thead>\n",
       "    <tr style=\"text-align: right;\">\n",
       "      <th></th>\n",
       "      <th>original_sentences</th>\n",
       "      <th>translations</th>\n",
       "      <th>predictions</th>\n",
       "    </tr>\n",
       "  </thead>\n",
       "  <tbody>\n",
       "    <tr>\n",
       "      <th>151</th>\n",
       "      <td>Ñii dañu demul xanaa!</td>\n",
       "      <td>Ceux-ci ne sont peut-être pas partis!</td>\n",
       "      <td>Ceux-ci ne partent peut-être pas!</td>\n",
       "    </tr>\n",
       "    <tr>\n",
       "      <th>152</th>\n",
       "      <td>Keneen a ŋgi.</td>\n",
       "      <td>En voilà un autre.</td>\n",
       "      <td>En voilà un.</td>\n",
       "    </tr>\n",
       "    <tr>\n",
       "      <th>153</th>\n",
       "      <td>Bon nag, maa ŋgi dem.</td>\n",
       "      <td>Dans ce cas, je pars.</td>\n",
       "      <td>Alors, ne partez pas.</td>\n",
       "    </tr>\n",
       "    <tr>\n",
       "      <th>154</th>\n",
       "      <td>Ana ŋgoor?</td>\n",
       "      <td>Où est NGor?</td>\n",
       "      <td>Où est celui-là?</td>\n",
       "    </tr>\n",
       "    <tr>\n",
       "      <th>155</th>\n",
       "      <td>Defe naa du kookuu, du kookee.</td>\n",
       "      <td>Je crois que ce n'est pas celui-ci, ce n'est p...</td>\n",
       "      <td>Je reconnais les vaches d'Europe.</td>\n",
       "    </tr>\n",
       "    <tr>\n",
       "      <th>156</th>\n",
       "      <td>Suñu xarit la!</td>\n",
       "      <td>C'est leur ami!</td>\n",
       "      <td>C'est notre ami!</td>\n",
       "    </tr>\n",
       "    <tr>\n",
       "      <th>157</th>\n",
       "      <td>Xale bi ne ŋgeen dugg mu gis leen.</td>\n",
       "      <td>L'enfant dit d'entrer pour qu'il vous voie.</td>\n",
       "      <td>L'enfant dit d'entrer.</td>\n",
       "    </tr>\n",
       "    <tr>\n",
       "      <th>158</th>\n",
       "      <td>Gis naa góor gi doon wax te toogoon ci suuf.</td>\n",
       "      <td>J'ai vu cet homme qui parlait et qui était ass...</td>\n",
       "      <td>J'ai vu cet homme qui parlait.</td>\n",
       "    </tr>\n",
       "    <tr>\n",
       "      <th>159</th>\n",
       "      <td>Dimëlé leen ŋgir ñooñe!</td>\n",
       "      <td>Aide-les à cause de ceux-là!</td>\n",
       "      <td>Allez là-bas!</td>\n",
       "    </tr>\n",
       "    <tr>\n",
       "      <th>160</th>\n",
       "      <td>Mi ŋgiy laaj ndax demkoon ŋga.</td>\n",
       "      <td>Il demande si tu aurais été.</td>\n",
       "      <td>Il est là, peut-être.</td>\n",
       "    </tr>\n",
       "  </tbody>\n",
       "</table>\n",
       "</div>"
      ],
      "text/plain": [
       "                               original_sentences  \\\n",
       "151                         Ñii dañu demul xanaa!   \n",
       "152                                 Keneen a ŋgi.   \n",
       "153                         Bon nag, maa ŋgi dem.   \n",
       "154                                    Ana ŋgoor?   \n",
       "155                Defe naa du kookuu, du kookee.   \n",
       "156                                Suñu xarit la!   \n",
       "157            Xale bi ne ŋgeen dugg mu gis leen.   \n",
       "158  Gis naa góor gi doon wax te toogoon ci suuf.   \n",
       "159                       Dimëlé leen ŋgir ñooñe!   \n",
       "160                Mi ŋgiy laaj ndax demkoon ŋga.   \n",
       "\n",
       "                                          translations  \\\n",
       "151              Ceux-ci ne sont peut-être pas partis!   \n",
       "152                                 En voilà un autre.   \n",
       "153                              Dans ce cas, je pars.   \n",
       "154                                       Où est NGor?   \n",
       "155  Je crois que ce n'est pas celui-ci, ce n'est p...   \n",
       "156                                    C'est leur ami!   \n",
       "157        L'enfant dit d'entrer pour qu'il vous voie.   \n",
       "158  J'ai vu cet homme qui parlait et qui était ass...   \n",
       "159                       Aide-les à cause de ceux-là!   \n",
       "160                       Il demande si tu aurais été.   \n",
       "\n",
       "                           predictions  \n",
       "151  Ceux-ci ne partent peut-être pas!  \n",
       "152                       En voilà un.  \n",
       "153              Alors, ne partez pas.  \n",
       "154                   Où est celui-là?  \n",
       "155  Je reconnais les vaches d'Europe.  \n",
       "156                   C'est notre ami!  \n",
       "157             L'enfant dit d'entrer.  \n",
       "158     J'ai vu cet homme qui parlait.  \n",
       "159                      Allez là-bas!  \n",
       "160              Il est là, peut-être.  "
      ]
     },
     "execution_count": 16,
     "metadata": {},
     "output_type": "execute_result"
    }
   ],
   "source": [
    "df_ft_to_wf[1].tail(10)"
   ]
  },
  {
   "cell_type": "code",
   "execution_count": 17,
   "metadata": {},
   "outputs": [
    {
     "data": {
      "text/html": [
       "<div>\n",
       "<style scoped>\n",
       "    .dataframe tbody tr th:only-of-type {\n",
       "        vertical-align: middle;\n",
       "    }\n",
       "\n",
       "    .dataframe tbody tr th {\n",
       "        vertical-align: top;\n",
       "    }\n",
       "\n",
       "    .dataframe thead th {\n",
       "        text-align: right;\n",
       "    }\n",
       "</style>\n",
       "<table border=\"1\" class=\"dataframe\">\n",
       "  <thead>\n",
       "    <tr style=\"text-align: right;\">\n",
       "      <th></th>\n",
       "      <th>original_sentences</th>\n",
       "      <th>translations</th>\n",
       "      <th>predictions</th>\n",
       "    </tr>\n",
       "  </thead>\n",
       "  <tbody>\n",
       "    <tr>\n",
       "      <th>76</th>\n",
       "      <td>Waxtaan ak kenn kan?</td>\n",
       "      <td>Converser avec lequel?</td>\n",
       "      <td>Qui cherches-tu?</td>\n",
       "    </tr>\n",
       "    <tr>\n",
       "      <th>47</th>\n",
       "      <td>Góor gii demoon.</td>\n",
       "      <td>Cet homme qui était parti.</td>\n",
       "      <td>Cet homme qui a été.</td>\n",
       "    </tr>\n",
       "    <tr>\n",
       "      <th>94</th>\n",
       "      <td>Nileen ka.</td>\n",
       "      <td>Dites-lui.</td>\n",
       "      <td>Dites-leur.</td>\n",
       "    </tr>\n",
       "    <tr>\n",
       "      <th>158</th>\n",
       "      <td>Gis naa góor gi doon wax te toogoon ci suuf.</td>\n",
       "      <td>J'ai vu cet homme qui parlait et qui était ass...</td>\n",
       "      <td>J'ai vu cet homme qui parlait.</td>\n",
       "    </tr>\n",
       "    <tr>\n",
       "      <th>38</th>\n",
       "      <td>May naa ka keneen ku ka gën.</td>\n",
       "      <td>Je l'ai donné à quelqu'un de meilleur que lui.</td>\n",
       "      <td>J'ai donné le mouton mâle.</td>\n",
       "    </tr>\n",
       "    <tr>\n",
       "      <th>91</th>\n",
       "      <td>Ci keneen ki ci buntu kër gi.</td>\n",
       "      <td>Vers cet autre qui est devant la porte de la m...</td>\n",
       "      <td>Chez l'autre qui est dehors.</td>\n",
       "    </tr>\n",
       "    <tr>\n",
       "      <th>15</th>\n",
       "      <td>Góor gi nee na soo demee mi ŋgi fi.</td>\n",
       "      <td>L'homme dit qu'il serait peut-être là.</td>\n",
       "      <td>L'homme affirme qu'il est là.</td>\n",
       "    </tr>\n",
       "    <tr>\n",
       "      <th>113</th>\n",
       "      <td>Gis ŋga jigéen ñeneen ñooñu?</td>\n",
       "      <td>As-tu vu ces autres femmes en question?</td>\n",
       "      <td>Tu vois ces femmes-là?</td>\n",
       "    </tr>\n",
       "    <tr>\n",
       "      <th>64</th>\n",
       "      <td>Kookule la ci biir.</td>\n",
       "      <td>C'est celui-là à l'intérieur.</td>\n",
       "      <td>C'est celui-là qui est dehors.</td>\n",
       "    </tr>\n",
       "    <tr>\n",
       "      <th>57</th>\n",
       "      <td>Dil nitu réew mi!</td>\n",
       "      <td>Sois homme de ce pays!</td>\n",
       "      <td>Sois un homme de son!</td>\n",
       "    </tr>\n",
       "    <tr>\n",
       "      <th>89</th>\n",
       "      <td>Koo jox xaalis?</td>\n",
       "      <td>À qui as-tu donné de l'argent?</td>\n",
       "      <td>Qui n'as-tu pas appelé?</td>\n",
       "    </tr>\n",
       "    <tr>\n",
       "      <th>96</th>\n",
       "      <td>Góor gi kenn la.</td>\n",
       "      <td>L'homme est unique.</td>\n",
       "      <td>L'homme qui est homme.</td>\n",
       "    </tr>\n",
       "    <tr>\n",
       "      <th>68</th>\n",
       "      <td>Seetal fas weneen!</td>\n",
       "      <td>Cherche un autre cheval!</td>\n",
       "      <td>Cherche un autre cheval!</td>\n",
       "    </tr>\n",
       "    <tr>\n",
       "      <th>59</th>\n",
       "      <td>Cam!</td>\n",
       "      <td>Pouah!</td>\n",
       "      <td>A Moussa!</td>\n",
       "    </tr>\n",
       "    <tr>\n",
       "      <th>109</th>\n",
       "      <td>Man ŋga woo?</td>\n",
       "      <td>C'est moi que tu appelles?</td>\n",
       "      <td>C'est moi que tu appelles?</td>\n",
       "    </tr>\n",
       "    <tr>\n",
       "      <th>107</th>\n",
       "      <td>Mbaa móo dem?</td>\n",
       "      <td>J'espère que c'est lui qui a été?</td>\n",
       "      <td>Quelqu'un peut-il partir?</td>\n",
       "    </tr>\n",
       "    <tr>\n",
       "      <th>26</th>\n",
       "      <td>Su ñëwul dana xam!</td>\n",
       "      <td>S'il ne vient pas, eh bien, il verra!</td>\n",
       "      <td>S'il ne vient pas, il verra!</td>\n",
       "    </tr>\n",
       "    <tr>\n",
       "      <th>4</th>\n",
       "      <td>Gis na seeni xarit yooyu yépp!</td>\n",
       "      <td>Il a vu tous vos amis en question!</td>\n",
       "      <td>Il a vu d'autres amis à vous!</td>\n",
       "    </tr>\n",
       "    <tr>\n",
       "      <th>63</th>\n",
       "      <td>Yaw mile mi fii!</td>\n",
       "      <td>À toi qui es-là!</td>\n",
       "      <td>Monte jusqu'ici!</td>\n",
       "    </tr>\n",
       "    <tr>\n",
       "      <th>37</th>\n",
       "      <td>Ñëwël ndax xale yi di mbër te it ñu di ay jamb...</td>\n",
       "      <td>Viens pour que les enfants soient des travaill...</td>\n",
       "      <td>Viens pour que les enfants soient des travaill...</td>\n",
       "    </tr>\n",
       "    <tr>\n",
       "      <th>132</th>\n",
       "      <td>Dem ŋga?</td>\n",
       "      <td>Tu pars?</td>\n",
       "      <td>Tu es parti?</td>\n",
       "    </tr>\n",
       "    <tr>\n",
       "      <th>42</th>\n",
       "      <td>Nuyul më ñépp te maarel ma bu baax ñooña ŋga d...</td>\n",
       "      <td>Mon salut à tout le monde mais surtout honore ...</td>\n",
       "      <td>Que tu partes ou que tu ne partes pas il viendra.</td>\n",
       "    </tr>\n",
       "    <tr>\n",
       "      <th>153</th>\n",
       "      <td>Bon nag, maa ŋgi dem.</td>\n",
       "      <td>Dans ce cas, je pars.</td>\n",
       "      <td>Alors, ne partez pas.</td>\n",
       "    </tr>\n",
       "    <tr>\n",
       "      <th>55</th>\n",
       "      <td>Demuma.</td>\n",
       "      <td>Je n'ai pas été.</td>\n",
       "      <td>Je n'irai pas.</td>\n",
       "    </tr>\n",
       "    <tr>\n",
       "      <th>58</th>\n",
       "      <td>Ci biir la góor gi dugg.</td>\n",
       "      <td>C'est à l'intérieur qu'est entré l'homme.</td>\n",
       "      <td>C'est à l'intérieur que l'homme est.</td>\n",
       "    </tr>\n",
       "    <tr>\n",
       "      <th>72</th>\n",
       "      <td>Gisoon naa xar yi yépp.</td>\n",
       "      <td>J'ai déjà vu tous les moutons.</td>\n",
       "      <td>J'ai vu tous ces moutons-ci.</td>\n",
       "    </tr>\n",
       "    <tr>\n",
       "      <th>54</th>\n",
       "      <td>Foo jaŋge xërëm?</td>\n",
       "      <td>Où as-tu été initié en sciences occultes?</td>\n",
       "      <td>Qui cherches-tu?</td>\n",
       "    </tr>\n",
       "    <tr>\n",
       "      <th>87</th>\n",
       "      <td>Su dee dem.</td>\n",
       "      <td>Une fois en chemin.</td>\n",
       "      <td>Quand il partira.</td>\n",
       "    </tr>\n",
       "    <tr>\n",
       "      <th>116</th>\n",
       "      <td>Jigéen ñan ñoo réer?</td>\n",
       "      <td>Quelles femmes se sont égarées?</td>\n",
       "      <td>Aucune clef n'est égarée?</td>\n",
       "    </tr>\n",
       "    <tr>\n",
       "      <th>14</th>\n",
       "      <td>Ñeñeen lañu.</td>\n",
       "      <td>Autres, ils sont.</td>\n",
       "      <td>Il s'agit d'autres.</td>\n",
       "    </tr>\n",
       "    <tr>\n",
       "      <th>112</th>\n",
       "      <td>Loo gis?</td>\n",
       "      <td>Qu'as-tu vu?</td>\n",
       "      <td>Qui as-tu vu?</td>\n",
       "    </tr>\n",
       "    <tr>\n",
       "      <th>127</th>\n",
       "      <td>Wool góor gi dul Kajgaamu fii!</td>\n",
       "      <td>Appelle l'homme qui n'est pas un Kangame d'ici!</td>\n",
       "      <td>Appelle l'homme qui n'est pas Laobe du Baol!</td>\n",
       "    </tr>\n",
       "    <tr>\n",
       "      <th>105</th>\n",
       "      <td>Ci foofu ŋga taxaw.</td>\n",
       "      <td>Là où tu es.</td>\n",
       "      <td>À l'intérieur.</td>\n",
       "    </tr>\n",
       "    <tr>\n",
       "      <th>101</th>\n",
       "      <td>Ci foofu ba ŋgeen dellusi!</td>\n",
       "      <td>Là-bas jusqu'à ce que vous reveniez!</td>\n",
       "      <td>Vois Moussa simplement!</td>\n",
       "    </tr>\n",
       "    <tr>\n",
       "      <th>110</th>\n",
       "      <td>Góor googule ñëwóon, mi ŋgi!</td>\n",
       "      <td>Cet homme qui vint autrefois, le voilà!</td>\n",
       "      <td>L'homme qui est venu, peut-être!</td>\n",
       "    </tr>\n",
       "    <tr>\n",
       "      <th>140</th>\n",
       "      <td>Mu dem?</td>\n",
       "      <td>Qu'il parte?</td>\n",
       "      <td>Peut-il partir?</td>\n",
       "    </tr>\n",
       "    <tr>\n",
       "      <th>84</th>\n",
       "      <td>Te ŋga dem kat!</td>\n",
       "      <td>Surtout pars!</td>\n",
       "      <td>Tu as été quelqu'un!</td>\n",
       "    </tr>\n",
       "    <tr>\n",
       "      <th>151</th>\n",
       "      <td>Ñii dañu demul xanaa!</td>\n",
       "      <td>Ceux-ci ne sont peut-être pas partis!</td>\n",
       "      <td>Ceux-ci ne partent peut-être pas!</td>\n",
       "    </tr>\n",
       "    <tr>\n",
       "      <th>16</th>\n",
       "      <td>Deŋk naa la boobule woon.</td>\n",
       "      <td>Je te confie celui-là.</td>\n",
       "      <td>Je te confie celui-là.</td>\n",
       "    </tr>\n",
       "    <tr>\n",
       "      <th>86</th>\n",
       "      <td>Ŋga bañ ñëw rafetul.</td>\n",
       "      <td>Le fait que tu ne viennes pas est préjudiciable.</td>\n",
       "      <td>Il viendra que tu veuilles ou non.</td>\n",
       "    </tr>\n",
       "    <tr>\n",
       "      <th>92</th>\n",
       "      <td>Su demee.</td>\n",
       "      <td>Une fois là-bas.</td>\n",
       "      <td>S'il part.</td>\n",
       "    </tr>\n",
       "    <tr>\n",
       "      <th>52</th>\n",
       "      <td>Amul ardo benn Jéeri boo xamul!</td>\n",
       "      <td>Il n'est Ardo d'aucun Dieri que tu ne connaisses!</td>\n",
       "      <td>Il n'est de Ardo du Dieri que tu ne connaisses!</td>\n",
       "    </tr>\n",
       "    <tr>\n",
       "      <th>60</th>\n",
       "      <td>Daŋgeen bëggé naka ñoom!</td>\n",
       "      <td>Vous êtes aussi avares qu'eux!</td>\n",
       "      <td>Tu ne vas nulle part!</td>\n",
       "    </tr>\n",
       "    <tr>\n",
       "      <th>56</th>\n",
       "      <td>Benn boobule laa la may.</td>\n",
       "      <td>C'est celui-là celui-là l'un que je te donne.</td>\n",
       "      <td>C'est celui-là que je te donne.</td>\n",
       "    </tr>\n",
       "    <tr>\n",
       "      <th>78</th>\n",
       "      <td>Jeneen jabar laa bëgg!</td>\n",
       "      <td>C'est une autre épouse que je veux!</td>\n",
       "      <td>C'est une autre jeune fille que je veux!</td>\n",
       "    </tr>\n",
       "    <tr>\n",
       "      <th>106</th>\n",
       "      <td>Gis ŋga nit kookee?</td>\n",
       "      <td>Tu vois, cet homme là?</td>\n",
       "      <td>Tu sais, cet homme?</td>\n",
       "    </tr>\n",
       "    <tr>\n",
       "      <th>135</th>\n",
       "      <td>Wax naa ko mu ñibbi.</td>\n",
       "      <td>Je lui ai dit de rentrer.</td>\n",
       "      <td>J'ai vu celui-là.</td>\n",
       "    </tr>\n",
       "    <tr>\n",
       "      <th>77</th>\n",
       "      <td>Nit la!</td>\n",
       "      <td>Il a été quelqu'un!</td>\n",
       "      <td>C'est un homme!</td>\n",
       "    </tr>\n",
       "    <tr>\n",
       "      <th>131</th>\n",
       "      <td>Man, maa ŋgi.</td>\n",
       "      <td>Moi, me voilà.</td>\n",
       "      <td>Moi, tu es là.</td>\n",
       "    </tr>\n",
       "    <tr>\n",
       "      <th>21</th>\n",
       "      <td>Ñu ŋgi toog.</td>\n",
       "      <td>Nous voilà assis.</td>\n",
       "      <td>Les voilà, là-bas.</td>\n",
       "    </tr>\n",
       "    <tr>\n",
       "      <th>114</th>\n",
       "      <td>Xanaa doo dem?</td>\n",
       "      <td>Tu ne partiras donc pas?</td>\n",
       "      <td>Donc, tu ne partiras pas?</td>\n",
       "    </tr>\n",
       "    <tr>\n",
       "      <th>143</th>\n",
       "      <td>Fabal benn bii bépp!</td>\n",
       "      <td>Prends l'un en entier!</td>\n",
       "      <td>Prends l'un!</td>\n",
       "    </tr>\n",
       "    <tr>\n",
       "      <th>159</th>\n",
       "      <td>Dimëlé leen ŋgir ñooñe!</td>\n",
       "      <td>Aide-les à cause de ceux-là!</td>\n",
       "      <td>Allez là-bas!</td>\n",
       "    </tr>\n",
       "    <tr>\n",
       "      <th>49</th>\n",
       "      <td>Noona kooku dem!</td>\n",
       "      <td>Alors celui-ci s'en alla!</td>\n",
       "      <td>Donne un à chacun!</td>\n",
       "    </tr>\n",
       "    <tr>\n",
       "      <th>19</th>\n",
       "      <td>Xarit yan ño ñëw?</td>\n",
       "      <td>Quels amis sont arrivés?</td>\n",
       "      <td>Quelles clés sont venues?</td>\n",
       "    </tr>\n",
       "    <tr>\n",
       "      <th>136</th>\n",
       "      <td>Te bul ñëw jaŋgu ba de!</td>\n",
       "      <td>Et ne viens surtout pas à l'école!</td>\n",
       "      <td>Et que nul ne bouge!</td>\n",
       "    </tr>\n",
       "    <tr>\n",
       "      <th>28</th>\n",
       "      <td>Jëlël lépp!</td>\n",
       "      <td>Prends tout!</td>\n",
       "      <td>Fouille tout endroit!</td>\n",
       "    </tr>\n",
       "    <tr>\n",
       "      <th>133</th>\n",
       "      <td>Noonee nan?</td>\n",
       "      <td>De quelle manière?</td>\n",
       "      <td>Ainsi comment?</td>\n",
       "    </tr>\n",
       "    <tr>\n",
       "      <th>7</th>\n",
       "      <td>Defewoon naa góor gi mag la te ndaw si nit la!</td>\n",
       "      <td>Je croyais que l'homme était mûr et que la fem...</td>\n",
       "      <td>Je croyais que l'homme c'était cet autre!</td>\n",
       "    </tr>\n",
       "    <tr>\n",
       "      <th>6</th>\n",
       "      <td>Laobe ŋga woon.</td>\n",
       "      <td>Tu fus Laobé.</td>\n",
       "      <td>Tu vois ce garçon-là.</td>\n",
       "    </tr>\n",
       "    <tr>\n",
       "      <th>155</th>\n",
       "      <td>Defe naa du kookuu, du kookee.</td>\n",
       "      <td>Je crois que ce n'est pas celui-ci, ce n'est p...</td>\n",
       "      <td>Je reconnais les vaches d'Europe.</td>\n",
       "    </tr>\n",
       "    <tr>\n",
       "      <th>74</th>\n",
       "      <td>Bii néeg ban ŋga wax?</td>\n",
       "      <td>Tu parles de quelle maison (ici)?</td>\n",
       "      <td>Tu parles de quelle maison?</td>\n",
       "    </tr>\n",
       "    <tr>\n",
       "      <th>22</th>\n",
       "      <td>Gis ŋga xale bii woon?</td>\n",
       "      <td>Tu vois ce garçon-là?</td>\n",
       "      <td>Tu vois ce garçon-là?</td>\n",
       "    </tr>\n",
       "    <tr>\n",
       "      <th>134</th>\n",
       "      <td>Là bëggóon?</td>\n",
       "      <td>Que souhaitais-tu?</td>\n",
       "      <td>Que veux-tu?</td>\n",
       "    </tr>\n",
       "    <tr>\n",
       "      <th>65</th>\n",
       "      <td>Ci fii!</td>\n",
       "      <td>Par ici!</td>\n",
       "      <td>À l'intérieur!</td>\n",
       "    </tr>\n",
       "    <tr>\n",
       "      <th>103</th>\n",
       "      <td>Nit bonul!</td>\n",
       "      <td>L'homme n'est pas mauvais!</td>\n",
       "      <td>Quelqu'un de bien!</td>\n",
       "    </tr>\n",
       "    <tr>\n",
       "      <th>66</th>\n",
       "      <td>Demŋga?</td>\n",
       "      <td>Tu pars?</td>\n",
       "      <td>Tu es parti?</td>\n",
       "    </tr>\n",
       "    <tr>\n",
       "      <th>99</th>\n",
       "      <td>Seetil fas yépp!</td>\n",
       "      <td>Va voir tous les chevaux!</td>\n",
       "      <td>Cherche un autre homme!</td>\n",
       "    </tr>\n",
       "    <tr>\n",
       "      <th>12</th>\n",
       "      <td>Góor gi waxtaan na ag yaw.</td>\n",
       "      <td>L'homme a parlé avec toi.</td>\n",
       "      <td>L'homme a causé avec toi.</td>\n",
       "    </tr>\n",
       "    <tr>\n",
       "      <th>130</th>\n",
       "      <td>Ci kooku, ndax mu wettëliku!</td>\n",
       "      <td>Avec celui-là, afin qu'il ne soit pas seul!</td>\n",
       "      <td>À l'intérieur, à celui-ci ne se ressemble pas!</td>\n",
       "    </tr>\n",
       "    <tr>\n",
       "      <th>17</th>\n",
       "      <td>Gan dëkku Séeréer ŋga wax?</td>\n",
       "      <td>Tu parles de quelle ville Sérère?</td>\n",
       "      <td>Tu parles de qui d'autre?</td>\n",
       "    </tr>\n",
       "    <tr>\n",
       "      <th>149</th>\n",
       "      <td>Feneen fi bëttul la.</td>\n",
       "      <td>C'est l'autre endroit qui n'a pas de trou.</td>\n",
       "      <td>C'est de l'autre côté qu'habite l'homme.</td>\n",
       "    </tr>\n",
       "    <tr>\n",
       "      <th>95</th>\n",
       "      <td>Génnéel mépp xar moo gis!</td>\n",
       "      <td>Fais sortir tout mouton que tu vois!</td>\n",
       "      <td>Fais sortir tout cheval que tu vois!</td>\n",
       "    </tr>\n",
       "    <tr>\n",
       "      <th>123</th>\n",
       "      <td>Man xar moo réer?</td>\n",
       "      <td>Quel moutons est égaré?</td>\n",
       "      <td>Quel moutons est égaré?</td>\n",
       "    </tr>\n",
       "    <tr>\n",
       "      <th>30</th>\n",
       "      <td>Du bañ boo naŋgoo ag it boo yaboo ci liggéey bi.</td>\n",
       "      <td>Il ne refusera pas si tu acceptes et aussi t'e...</td>\n",
       "      <td>Il ne refusera pas si tu vas jusqu'à ce que le...</td>\n",
       "    </tr>\n",
       "    <tr>\n",
       "      <th>82</th>\n",
       "      <td>Bonag, dey mu ñibbi.</td>\n",
       "      <td>Dans ce cas, qu'il rentre.</td>\n",
       "      <td>Alors, ne partez pas.</td>\n",
       "    </tr>\n",
       "    <tr>\n",
       "      <th>122</th>\n",
       "      <td>Fas weneen wu moo daw.</td>\n",
       "      <td>C'est l'autre cheval qui s'est égaré.</td>\n",
       "      <td>C'est cet autre cheval là-bas qui est bon.</td>\n",
       "    </tr>\n",
       "    <tr>\n",
       "      <th>25</th>\n",
       "      <td>Gis naa seeni xarit yooyu yépp!</td>\n",
       "      <td>J'ai vu tous vos amis en question!</td>\n",
       "      <td>J'ai vu mes autres amis!</td>\n",
       "    </tr>\n",
       "    <tr>\n",
       "      <th>48</th>\n",
       "      <td>Doo ñëw?</td>\n",
       "      <td>Tu ne viendras pas?</td>\n",
       "      <td>Tu parles de qui est venu?</td>\n",
       "    </tr>\n",
       "    <tr>\n",
       "      <th>145</th>\n",
       "      <td>Góor gi dem.</td>\n",
       "      <td>L'homme qui s'en alla.</td>\n",
       "      <td>L'homme a été.</td>\n",
       "    </tr>\n",
       "    <tr>\n",
       "      <th>148</th>\n",
       "      <td>Nagi dëkk bii ŋga gis, wa ci ëpp sa baay Alfa ...</td>\n",
       "      <td>Des boeufs que tu vois dans cette ville, le pl...</td>\n",
       "      <td>Des boeufs que tu vois, celui-là est le meilleur.</td>\n",
       "    </tr>\n",
       "    <tr>\n",
       "      <th>156</th>\n",
       "      <td>Suñu xarit la!</td>\n",
       "      <td>C'est leur ami!</td>\n",
       "      <td>C'est notre ami!</td>\n",
       "    </tr>\n",
       "    <tr>\n",
       "      <th>81</th>\n",
       "      <td>Séen naa ak nit.</td>\n",
       "      <td>J'ai aperçu un homme.</td>\n",
       "      <td>J'ai aperçu et donné quelque chose.</td>\n",
       "    </tr>\n",
       "    <tr>\n",
       "      <th>1</th>\n",
       "      <td>Kookule ŋgay waxal!</td>\n",
       "      <td>Celui-là avec qui tu parles!</td>\n",
       "      <td>Celui-là a mauvais caractère!</td>\n",
       "    </tr>\n",
       "    <tr>\n",
       "      <th>102</th>\n",
       "      <td>Aminta ñëw?</td>\n",
       "      <td>Aminata peut-elle venir?</td>\n",
       "      <td>Samba  qui est venu?</td>\n",
       "    </tr>\n",
       "    <tr>\n",
       "      <th>8</th>\n",
       "      <td>Lu tax?</td>\n",
       "      <td>Pourquoi?</td>\n",
       "      <td>Qu'est-ce, qui est la cause?</td>\n",
       "    </tr>\n",
       "    <tr>\n",
       "      <th>62</th>\n",
       "      <td>Gisul yeneen.</td>\n",
       "      <td>Il n'en a pas vu d'autres.</td>\n",
       "      <td>Il ne les avait pas vus.</td>\n",
       "    </tr>\n",
       "    <tr>\n",
       "      <th>80</th>\n",
       "      <td>Ci ñan ŋga jëm?</td>\n",
       "      <td>Tu vas vers qui?</td>\n",
       "      <td>C'est à l'intérieur que tu dis?</td>\n",
       "    </tr>\n",
       "    <tr>\n",
       "      <th>124</th>\n",
       "      <td>Nit ñi ŋga ma wàn ñépp, kii laa ci wóolu.</td>\n",
       "      <td>Des gens que tu m'as présentés, celui que voic...</td>\n",
       "      <td>Les gens n'eussent pas été des maîtres.</td>\n",
       "    </tr>\n",
       "    <tr>\n",
       "      <th>69</th>\n",
       "      <td>Demuloo feneen!</td>\n",
       "      <td>Tu ne vas pas dans un autre lieu!</td>\n",
       "      <td>Tu ne vas nulle part!</td>\n",
       "    </tr>\n",
       "    <tr>\n",
       "      <th>100</th>\n",
       "      <td>Fépp fu mu jëm foofu jàmm dana fa wacc.</td>\n",
       "      <td>Partout où il ira la paix descendra là.</td>\n",
       "      <td>Partout où il descend, là paix descendra.</td>\n",
       "    </tr>\n",
       "    <tr>\n",
       "      <th>75</th>\n",
       "      <td>Lëf lan a réer?</td>\n",
       "      <td>Quelle chose s'est égarée?</td>\n",
       "      <td>Quelle autre chose?</td>\n",
       "    </tr>\n",
       "    <tr>\n",
       "      <th>0</th>\n",
       "      <td>Nit ku góor la.</td>\n",
       "      <td>C'est un homme.</td>\n",
       "      <td>C'est un homme gentil.</td>\n",
       "    </tr>\n",
       "    <tr>\n",
       "      <th>36</th>\n",
       "      <td>Gis ŋga lan?</td>\n",
       "      <td>Tu as vu quoi?</td>\n",
       "      <td>Tu veux quoi?</td>\n",
       "    </tr>\n",
       "    <tr>\n",
       "      <th>5</th>\n",
       "      <td>Duŋgeen lekk.</td>\n",
       "      <td>Vous ne mangez pas.</td>\n",
       "      <td>Ce n'est pas un homme.</td>\n",
       "    </tr>\n",
       "    <tr>\n",
       "      <th>33</th>\n",
       "      <td>Ñépp ñan ŋga gis?</td>\n",
       "      <td>Tous lesquels as-tu vus?</td>\n",
       "      <td>Lesquels as-tu vus?</td>\n",
       "    </tr>\n",
       "    <tr>\n",
       "      <th>88</th>\n",
       "      <td>Fu mu?</td>\n",
       "      <td>Où est-ce?</td>\n",
       "      <td>Quelle partie?</td>\n",
       "    </tr>\n",
       "    <tr>\n",
       "      <th>98</th>\n",
       "      <td>Waaji nee.</td>\n",
       "      <td>Mi ŋgi ci biti.</td>\n",
       "      <td>Oui.</td>\n",
       "    </tr>\n",
       "    <tr>\n",
       "      <th>34</th>\n",
       "      <td>Defewoon na, ci subë si, ci bes bi, daa dem!</td>\n",
       "      <td>Je croyais que tu irais, ce matin, ce jour...!</td>\n",
       "      <td>Il est à l'intérieur, à l'extérieur, en bas et...</td>\n",
       "    </tr>\n",
       "    <tr>\n",
       "      <th>142</th>\n",
       "      <td>Góor gi mi ŋgi.</td>\n",
       "      <td>L'homme, le voilà.</td>\n",
       "      <td>L'homme, le voilà.</td>\n",
       "    </tr>\n",
       "  </tbody>\n",
       "</table>\n",
       "</div>"
      ],
      "text/plain": [
       "                                    original_sentences  \\\n",
       "76                                Waxtaan ak kenn kan?   \n",
       "47                                    Góor gii demoon.   \n",
       "94                                          Nileen ka.   \n",
       "158       Gis naa góor gi doon wax te toogoon ci suuf.   \n",
       "38                        May naa ka keneen ku ka gën.   \n",
       "91                       Ci keneen ki ci buntu kër gi.   \n",
       "15                 Góor gi nee na soo demee mi ŋgi fi.   \n",
       "113                       Gis ŋga jigéen ñeneen ñooñu?   \n",
       "64                                 Kookule la ci biir.   \n",
       "57                                   Dil nitu réew mi!   \n",
       "89                                     Koo jox xaalis?   \n",
       "96                                    Góor gi kenn la.   \n",
       "68                                  Seetal fas weneen!   \n",
       "59                                                Cam!   \n",
       "109                                       Man ŋga woo?   \n",
       "107                                      Mbaa móo dem?   \n",
       "26                                  Su ñëwul dana xam!   \n",
       "4                       Gis na seeni xarit yooyu yépp!   \n",
       "63                                    Yaw mile mi fii!   \n",
       "37   Ñëwël ndax xale yi di mbër te it ñu di ay jamb...   \n",
       "132                                           Dem ŋga?   \n",
       "42   Nuyul më ñépp te maarel ma bu baax ñooña ŋga d...   \n",
       "153                              Bon nag, maa ŋgi dem.   \n",
       "55                                             Demuma.   \n",
       "58                            Ci biir la góor gi dugg.   \n",
       "72                             Gisoon naa xar yi yépp.   \n",
       "54                                    Foo jaŋge xërëm?   \n",
       "87                                         Su dee dem.   \n",
       "116                               Jigéen ñan ñoo réer?   \n",
       "14                                        Ñeñeen lañu.   \n",
       "112                                           Loo gis?   \n",
       "127                     Wool góor gi dul Kajgaamu fii!   \n",
       "105                                Ci foofu ŋga taxaw.   \n",
       "101                         Ci foofu ba ŋgeen dellusi!   \n",
       "110                       Góor googule ñëwóon, mi ŋgi!   \n",
       "140                                            Mu dem?   \n",
       "84                                     Te ŋga dem kat!   \n",
       "151                              Ñii dañu demul xanaa!   \n",
       "16                           Deŋk naa la boobule woon.   \n",
       "86                                Ŋga bañ ñëw rafetul.   \n",
       "92                                           Su demee.   \n",
       "52                     Amul ardo benn Jéeri boo xamul!   \n",
       "60                            Daŋgeen bëggé naka ñoom!   \n",
       "56                            Benn boobule laa la may.   \n",
       "78                              Jeneen jabar laa bëgg!   \n",
       "106                                Gis ŋga nit kookee?   \n",
       "135                               Wax naa ko mu ñibbi.   \n",
       "77                                             Nit la!   \n",
       "131                                      Man, maa ŋgi.   \n",
       "21                                        Ñu ŋgi toog.   \n",
       "114                                     Xanaa doo dem?   \n",
       "143                               Fabal benn bii bépp!   \n",
       "159                            Dimëlé leen ŋgir ñooñe!   \n",
       "49                                    Noona kooku dem!   \n",
       "19                                   Xarit yan ño ñëw?   \n",
       "136                            Te bul ñëw jaŋgu ba de!   \n",
       "28                                         Jëlël lépp!   \n",
       "133                                        Noonee nan?   \n",
       "7       Defewoon naa góor gi mag la te ndaw si nit la!   \n",
       "6                                      Laobe ŋga woon.   \n",
       "155                     Defe naa du kookuu, du kookee.   \n",
       "74                               Bii néeg ban ŋga wax?   \n",
       "22                              Gis ŋga xale bii woon?   \n",
       "134                                        Là bëggóon?   \n",
       "65                                             Ci fii!   \n",
       "103                                         Nit bonul!   \n",
       "66                                             Demŋga?   \n",
       "99                                    Seetil fas yépp!   \n",
       "12                          Góor gi waxtaan na ag yaw.   \n",
       "130                       Ci kooku, ndax mu wettëliku!   \n",
       "17                          Gan dëkku Séeréer ŋga wax?   \n",
       "149                               Feneen fi bëttul la.   \n",
       "95                           Génnéel mépp xar moo gis!   \n",
       "123                                  Man xar moo réer?   \n",
       "30    Du bañ boo naŋgoo ag it boo yaboo ci liggéey bi.   \n",
       "82                                Bonag, dey mu ñibbi.   \n",
       "122                             Fas weneen wu moo daw.   \n",
       "25                     Gis naa seeni xarit yooyu yépp!   \n",
       "48                                            Doo ñëw?   \n",
       "145                                       Góor gi dem.   \n",
       "148  Nagi dëkk bii ŋga gis, wa ci ëpp sa baay Alfa ...   \n",
       "156                                     Suñu xarit la!   \n",
       "81                                    Séen naa ak nit.   \n",
       "1                                  Kookule ŋgay waxal!   \n",
       "102                                        Aminta ñëw?   \n",
       "8                                              Lu tax?   \n",
       "62                                       Gisul yeneen.   \n",
       "80                                     Ci ñan ŋga jëm?   \n",
       "124          Nit ñi ŋga ma wàn ñépp, kii laa ci wóolu.   \n",
       "69                                     Demuloo feneen!   \n",
       "100            Fépp fu mu jëm foofu jàmm dana fa wacc.   \n",
       "75                                     Lëf lan a réer?   \n",
       "0                                      Nit ku góor la.   \n",
       "36                                        Gis ŋga lan?   \n",
       "5                                        Duŋgeen lekk.   \n",
       "33                                   Ñépp ñan ŋga gis?   \n",
       "88                                              Fu mu?   \n",
       "98                                          Waaji nee.   \n",
       "34        Defewoon na, ci subë si, ci bes bi, daa dem!   \n",
       "142                                    Góor gi mi ŋgi.   \n",
       "\n",
       "                                          translations  \\\n",
       "76                              Converser avec lequel?   \n",
       "47                          Cet homme qui était parti.   \n",
       "94                                          Dites-lui.   \n",
       "158  J'ai vu cet homme qui parlait et qui était ass...   \n",
       "38      Je l'ai donné à quelqu'un de meilleur que lui.   \n",
       "91   Vers cet autre qui est devant la porte de la m...   \n",
       "15              L'homme dit qu'il serait peut-être là.   \n",
       "113            As-tu vu ces autres femmes en question?   \n",
       "64                       C'est celui-là à l'intérieur.   \n",
       "57                              Sois homme de ce pays!   \n",
       "89                      À qui as-tu donné de l'argent?   \n",
       "96                                 L'homme est unique.   \n",
       "68                            Cherche un autre cheval!   \n",
       "59                                              Pouah!   \n",
       "109                         C'est moi que tu appelles?   \n",
       "107                  J'espère que c'est lui qui a été?   \n",
       "26               S'il ne vient pas, eh bien, il verra!   \n",
       "4                   Il a vu tous vos amis en question!   \n",
       "63                                    À toi qui es-là!   \n",
       "37   Viens pour que les enfants soient des travaill...   \n",
       "132                                           Tu pars?   \n",
       "42   Mon salut à tout le monde mais surtout honore ...   \n",
       "153                              Dans ce cas, je pars.   \n",
       "55                                    Je n'ai pas été.   \n",
       "58           C'est à l'intérieur qu'est entré l'homme.   \n",
       "72                      J'ai déjà vu tous les moutons.   \n",
       "54           Où as-tu été initié en sciences occultes?   \n",
       "87                                 Une fois en chemin.   \n",
       "116                    Quelles femmes se sont égarées?   \n",
       "14                                   Autres, ils sont.   \n",
       "112                                       Qu'as-tu vu?   \n",
       "127    Appelle l'homme qui n'est pas un Kangame d'ici!   \n",
       "105                                       Là où tu es.   \n",
       "101               Là-bas jusqu'à ce que vous reveniez!   \n",
       "110            Cet homme qui vint autrefois, le voilà!   \n",
       "140                                       Qu'il parte?   \n",
       "84                                       Surtout pars!   \n",
       "151              Ceux-ci ne sont peut-être pas partis!   \n",
       "16                              Je te confie celui-là.   \n",
       "86    Le fait que tu ne viennes pas est préjudiciable.   \n",
       "92                                    Une fois là-bas.   \n",
       "52   Il n'est Ardo d'aucun Dieri que tu ne connaisses!   \n",
       "60                      Vous êtes aussi avares qu'eux!   \n",
       "56       C'est celui-là celui-là l'un que je te donne.   \n",
       "78                 C'est une autre épouse que je veux!   \n",
       "106                             Tu vois, cet homme là?   \n",
       "135                          Je lui ai dit de rentrer.   \n",
       "77                                 Il a été quelqu'un!   \n",
       "131                                     Moi, me voilà.   \n",
       "21                                   Nous voilà assis.   \n",
       "114                           Tu ne partiras donc pas?   \n",
       "143                             Prends l'un en entier!   \n",
       "159                       Aide-les à cause de ceux-là!   \n",
       "49                           Alors celui-ci s'en alla!   \n",
       "19                            Quels amis sont arrivés?   \n",
       "136                 Et ne viens surtout pas à l'école!   \n",
       "28                                        Prends tout!   \n",
       "133                                 De quelle manière?   \n",
       "7    Je croyais que l'homme était mûr et que la fem...   \n",
       "6                                        Tu fus Laobé.   \n",
       "155  Je crois que ce n'est pas celui-ci, ce n'est p...   \n",
       "74                   Tu parles de quelle maison (ici)?   \n",
       "22                               Tu vois ce garçon-là?   \n",
       "134                                 Que souhaitais-tu?   \n",
       "65                                            Par ici!   \n",
       "103                         L'homme n'est pas mauvais!   \n",
       "66                                            Tu pars?   \n",
       "99                           Va voir tous les chevaux!   \n",
       "12                           L'homme a parlé avec toi.   \n",
       "130        Avec celui-là, afin qu'il ne soit pas seul!   \n",
       "17                   Tu parles de quelle ville Sérère?   \n",
       "149         C'est l'autre endroit qui n'a pas de trou.   \n",
       "95                Fais sortir tout mouton que tu vois!   \n",
       "123                            Quel moutons est égaré?   \n",
       "30   Il ne refusera pas si tu acceptes et aussi t'e...   \n",
       "82                          Dans ce cas, qu'il rentre.   \n",
       "122              C'est l'autre cheval qui s'est égaré.   \n",
       "25                  J'ai vu tous vos amis en question!   \n",
       "48                                 Tu ne viendras pas?   \n",
       "145                             L'homme qui s'en alla.   \n",
       "148  Des boeufs que tu vois dans cette ville, le pl...   \n",
       "156                                    C'est leur ami!   \n",
       "81                               J'ai aperçu un homme.   \n",
       "1                         Celui-là avec qui tu parles!   \n",
       "102                           Aminata peut-elle venir?   \n",
       "8                                            Pourquoi?   \n",
       "62                          Il n'en a pas vu d'autres.   \n",
       "80                                    Tu vas vers qui?   \n",
       "124  Des gens que tu m'as présentés, celui que voic...   \n",
       "69                   Tu ne vas pas dans un autre lieu!   \n",
       "100            Partout où il ira la paix descendra là.   \n",
       "75                          Quelle chose s'est égarée?   \n",
       "0                                      C'est un homme.   \n",
       "36                                      Tu as vu quoi?   \n",
       "5                                  Vous ne mangez pas.   \n",
       "33                            Tous lesquels as-tu vus?   \n",
       "88                                          Où est-ce?   \n",
       "98                                     Mi ŋgi ci biti.   \n",
       "34      Je croyais que tu irais, ce matin, ce jour...!   \n",
       "142                                 L'homme, le voilà.   \n",
       "\n",
       "                                           predictions  \n",
       "76                                    Qui cherches-tu?  \n",
       "47                                Cet homme qui a été.  \n",
       "94                                         Dites-leur.  \n",
       "158                     J'ai vu cet homme qui parlait.  \n",
       "38                          J'ai donné le mouton mâle.  \n",
       "91                        Chez l'autre qui est dehors.  \n",
       "15                       L'homme affirme qu'il est là.  \n",
       "113                             Tu vois ces femmes-là?  \n",
       "64                      C'est celui-là qui est dehors.  \n",
       "57                               Sois un homme de son!  \n",
       "89                             Qui n'as-tu pas appelé?  \n",
       "96                              L'homme qui est homme.  \n",
       "68                            Cherche un autre cheval!  \n",
       "59                                           A Moussa!  \n",
       "109                         C'est moi que tu appelles?  \n",
       "107                          Quelqu'un peut-il partir?  \n",
       "26                        S'il ne vient pas, il verra!  \n",
       "4                        Il a vu d'autres amis à vous!  \n",
       "63                                    Monte jusqu'ici!  \n",
       "37   Viens pour que les enfants soient des travaill...  \n",
       "132                                       Tu es parti?  \n",
       "42   Que tu partes ou que tu ne partes pas il viendra.  \n",
       "153                              Alors, ne partez pas.  \n",
       "55                                      Je n'irai pas.  \n",
       "58                C'est à l'intérieur que l'homme est.  \n",
       "72                        J'ai vu tous ces moutons-ci.  \n",
       "54                                    Qui cherches-tu?  \n",
       "87                                   Quand il partira.  \n",
       "116                          Aucune clef n'est égarée?  \n",
       "14                                 Il s'agit d'autres.  \n",
       "112                                      Qui as-tu vu?  \n",
       "127       Appelle l'homme qui n'est pas Laobe du Baol!  \n",
       "105                                     À l'intérieur.  \n",
       "101                            Vois Moussa simplement!  \n",
       "110                   L'homme qui est venu, peut-être!  \n",
       "140                                    Peut-il partir?  \n",
       "84                                Tu as été quelqu'un!  \n",
       "151                  Ceux-ci ne partent peut-être pas!  \n",
       "16                              Je te confie celui-là.  \n",
       "86                  Il viendra que tu veuilles ou non.  \n",
       "92                                          S'il part.  \n",
       "52     Il n'est de Ardo du Dieri que tu ne connaisses!  \n",
       "60                               Tu ne vas nulle part!  \n",
       "56                     C'est celui-là que je te donne.  \n",
       "78            C'est une autre jeune fille que je veux!  \n",
       "106                                Tu sais, cet homme?  \n",
       "135                                  J'ai vu celui-là.  \n",
       "77                                     C'est un homme!  \n",
       "131                                     Moi, tu es là.  \n",
       "21                                  Les voilà, là-bas.  \n",
       "114                          Donc, tu ne partiras pas?  \n",
       "143                                       Prends l'un!  \n",
       "159                                      Allez là-bas!  \n",
       "49                                  Donne un à chacun!  \n",
       "19                           Quelles clés sont venues?  \n",
       "136                               Et que nul ne bouge!  \n",
       "28                               Fouille tout endroit!  \n",
       "133                                     Ainsi comment?  \n",
       "7            Je croyais que l'homme c'était cet autre!  \n",
       "6                                Tu vois ce garçon-là.  \n",
       "155                  Je reconnais les vaches d'Europe.  \n",
       "74                         Tu parles de quelle maison?  \n",
       "22                               Tu vois ce garçon-là?  \n",
       "134                                       Que veux-tu?  \n",
       "65                                      À l'intérieur!  \n",
       "103                                 Quelqu'un de bien!  \n",
       "66                                        Tu es parti?  \n",
       "99                             Cherche un autre homme!  \n",
       "12                           L'homme a causé avec toi.  \n",
       "130     À l'intérieur, à celui-ci ne se ressemble pas!  \n",
       "17                           Tu parles de qui d'autre?  \n",
       "149           C'est de l'autre côté qu'habite l'homme.  \n",
       "95                Fais sortir tout cheval que tu vois!  \n",
       "123                            Quel moutons est égaré?  \n",
       "30   Il ne refusera pas si tu vas jusqu'à ce que le...  \n",
       "82                               Alors, ne partez pas.  \n",
       "122         C'est cet autre cheval là-bas qui est bon.  \n",
       "25                            J'ai vu mes autres amis!  \n",
       "48                          Tu parles de qui est venu?  \n",
       "145                                     L'homme a été.  \n",
       "148  Des boeufs que tu vois, celui-là est le meilleur.  \n",
       "156                                   C'est notre ami!  \n",
       "81                 J'ai aperçu et donné quelque chose.  \n",
       "1                        Celui-là a mauvais caractère!  \n",
       "102                               Samba  qui est venu?  \n",
       "8                         Qu'est-ce, qui est la cause?  \n",
       "62                            Il ne les avait pas vus.  \n",
       "80                     C'est à l'intérieur que tu dis?  \n",
       "124            Les gens n'eussent pas été des maîtres.  \n",
       "69                               Tu ne vas nulle part!  \n",
       "100          Partout où il descend, là paix descendra.  \n",
       "75                                 Quelle autre chose?  \n",
       "0                               C'est un homme gentil.  \n",
       "36                                       Tu veux quoi?  \n",
       "5                               Ce n'est pas un homme.  \n",
       "33                                 Lesquels as-tu vus?  \n",
       "88                                      Quelle partie?  \n",
       "98                                                Oui.  \n",
       "34   Il est à l'intérieur, à l'extérieur, en bas et...  \n",
       "142                                 L'homme, le voilà.  "
      ]
     },
     "execution_count": 17,
     "metadata": {},
     "output_type": "execute_result"
    }
   ],
   "source": [
    "# let us display 100 samples\n",
    "pd.options.display.max_rows = 100\n",
    "df_ft_to_wf[1].sample(100)"
   ]
  }
 ],
 "metadata": {
  "accelerator": "GPU",
  "colab": {
   "gpuType": "T4",
   "provenance": []
  },
  "gpuClass": "standard",
  "kernelspec": {
   "display_name": "pytorch1-HleOW5am-py3.10",
   "language": "python",
   "name": "python3"
  },
  "language_info": {
   "codemirror_mode": {
    "name": "ipython",
    "version": 3
   },
   "file_extension": ".py",
   "mimetype": "text/x-python",
   "name": "python",
   "nbconvert_exporter": "python",
   "pygments_lexer": "ipython3",
   "version": "3.10.8"
  },
  "widgets": {
   "application/vnd.jupyter.widget-state+json": {
    "07b148611e0445068ec4ae2a289f968d": {
     "model_module": "@jupyter-widgets/base",
     "model_module_version": "1.2.0",
     "model_name": "LayoutModel",
     "state": {
      "_model_module": "@jupyter-widgets/base",
      "_model_module_version": "1.2.0",
      "_model_name": "LayoutModel",
      "_view_count": null,
      "_view_module": "@jupyter-widgets/base",
      "_view_module_version": "1.2.0",
      "_view_name": "LayoutView",
      "align_content": null,
      "align_items": null,
      "align_self": null,
      "border": null,
      "bottom": null,
      "display": null,
      "flex": null,
      "flex_flow": null,
      "grid_area": null,
      "grid_auto_columns": null,
      "grid_auto_flow": null,
      "grid_auto_rows": null,
      "grid_column": null,
      "grid_gap": null,
      "grid_row": null,
      "grid_template_areas": null,
      "grid_template_columns": null,
      "grid_template_rows": null,
      "height": null,
      "justify_content": null,
      "justify_items": null,
      "left": null,
      "margin": null,
      "max_height": null,
      "max_width": null,
      "min_height": null,
      "min_width": null,
      "object_fit": null,
      "object_position": null,
      "order": null,
      "overflow": null,
      "overflow_x": null,
      "overflow_y": null,
      "padding": null,
      "right": null,
      "top": null,
      "visibility": null,
      "width": null
     }
    },
    "08fc0c2dc9b94689b80e085b682e54a5": {
     "model_module": "@jupyter-widgets/controls",
     "model_module_version": "1.5.0",
     "model_name": "LabelModel",
     "state": {
      "_dom_classes": [],
      "_model_module": "@jupyter-widgets/controls",
      "_model_module_version": "1.5.0",
      "_model_name": "LabelModel",
      "_view_count": null,
      "_view_module": "@jupyter-widgets/controls",
      "_view_module_version": "1.5.0",
      "_view_name": "LabelView",
      "description": "",
      "description_tooltip": null,
      "layout": "IPY_MODEL_07b148611e0445068ec4ae2a289f968d",
      "placeholder": "​",
      "style": "IPY_MODEL_4b5ea7f279854a01aaa4f5043372df2d",
      "value": "0.009 MB of 0.009 MB uploaded (0.000 MB deduped)\r"
     }
    },
    "347e2725b013421a951237d46b26d5e3": {
     "model_module": "@jupyter-widgets/controls",
     "model_module_version": "1.5.0",
     "model_name": "ProgressStyleModel",
     "state": {
      "_model_module": "@jupyter-widgets/controls",
      "_model_module_version": "1.5.0",
      "_model_name": "ProgressStyleModel",
      "_view_count": null,
      "_view_module": "@jupyter-widgets/base",
      "_view_module_version": "1.2.0",
      "_view_name": "StyleView",
      "bar_color": null,
      "description_width": ""
     }
    },
    "378d2507f5d5418681817fdbe4f227fd": {
     "model_module": "@jupyter-widgets/base",
     "model_module_version": "1.2.0",
     "model_name": "LayoutModel",
     "state": {
      "_model_module": "@jupyter-widgets/base",
      "_model_module_version": "1.2.0",
      "_model_name": "LayoutModel",
      "_view_count": null,
      "_view_module": "@jupyter-widgets/base",
      "_view_module_version": "1.2.0",
      "_view_name": "LayoutView",
      "align_content": null,
      "align_items": null,
      "align_self": null,
      "border": null,
      "bottom": null,
      "display": null,
      "flex": null,
      "flex_flow": null,
      "grid_area": null,
      "grid_auto_columns": null,
      "grid_auto_flow": null,
      "grid_auto_rows": null,
      "grid_column": null,
      "grid_gap": null,
      "grid_row": null,
      "grid_template_areas": null,
      "grid_template_columns": null,
      "grid_template_rows": null,
      "height": null,
      "justify_content": null,
      "justify_items": null,
      "left": null,
      "margin": null,
      "max_height": null,
      "max_width": null,
      "min_height": null,
      "min_width": null,
      "object_fit": null,
      "object_position": null,
      "order": null,
      "overflow": null,
      "overflow_x": null,
      "overflow_y": null,
      "padding": null,
      "right": null,
      "top": null,
      "visibility": null,
      "width": null
     }
    },
    "4b5ea7f279854a01aaa4f5043372df2d": {
     "model_module": "@jupyter-widgets/controls",
     "model_module_version": "1.5.0",
     "model_name": "DescriptionStyleModel",
     "state": {
      "_model_module": "@jupyter-widgets/controls",
      "_model_module_version": "1.5.0",
      "_model_name": "DescriptionStyleModel",
      "_view_count": null,
      "_view_module": "@jupyter-widgets/base",
      "_view_module_version": "1.2.0",
      "_view_name": "StyleView",
      "description_width": ""
     }
    },
    "4d964dc7e08d48f0be400d45c09f16e8": {
     "model_module": "@jupyter-widgets/base",
     "model_module_version": "1.2.0",
     "model_name": "LayoutModel",
     "state": {
      "_model_module": "@jupyter-widgets/base",
      "_model_module_version": "1.2.0",
      "_model_name": "LayoutModel",
      "_view_count": null,
      "_view_module": "@jupyter-widgets/base",
      "_view_module_version": "1.2.0",
      "_view_name": "LayoutView",
      "align_content": null,
      "align_items": null,
      "align_self": null,
      "border": null,
      "bottom": null,
      "display": null,
      "flex": null,
      "flex_flow": null,
      "grid_area": null,
      "grid_auto_columns": null,
      "grid_auto_flow": null,
      "grid_auto_rows": null,
      "grid_column": null,
      "grid_gap": null,
      "grid_row": null,
      "grid_template_areas": null,
      "grid_template_columns": null,
      "grid_template_rows": null,
      "height": null,
      "justify_content": null,
      "justify_items": null,
      "left": null,
      "margin": null,
      "max_height": null,
      "max_width": null,
      "min_height": null,
      "min_width": null,
      "object_fit": null,
      "object_position": null,
      "order": null,
      "overflow": null,
      "overflow_x": null,
      "overflow_y": null,
      "padding": null,
      "right": null,
      "top": null,
      "visibility": null,
      "width": null
     }
    },
    "abcbe273e5604d2383a7a1f03e79c682": {
     "model_module": "@jupyter-widgets/controls",
     "model_module_version": "1.5.0",
     "model_name": "VBoxModel",
     "state": {
      "_dom_classes": [],
      "_model_module": "@jupyter-widgets/controls",
      "_model_module_version": "1.5.0",
      "_model_name": "VBoxModel",
      "_view_count": null,
      "_view_module": "@jupyter-widgets/controls",
      "_view_module_version": "1.5.0",
      "_view_name": "VBoxView",
      "box_style": "",
      "children": [
       "IPY_MODEL_08fc0c2dc9b94689b80e085b682e54a5",
       "IPY_MODEL_bb425d8fef6e41f4bc1f1097477d1502"
      ],
      "layout": "IPY_MODEL_378d2507f5d5418681817fdbe4f227fd"
     }
    },
    "bb425d8fef6e41f4bc1f1097477d1502": {
     "model_module": "@jupyter-widgets/controls",
     "model_module_version": "1.5.0",
     "model_name": "FloatProgressModel",
     "state": {
      "_dom_classes": [],
      "_model_module": "@jupyter-widgets/controls",
      "_model_module_version": "1.5.0",
      "_model_name": "FloatProgressModel",
      "_view_count": null,
      "_view_module": "@jupyter-widgets/controls",
      "_view_module_version": "1.5.0",
      "_view_name": "ProgressView",
      "bar_style": "",
      "description": "",
      "description_tooltip": null,
      "layout": "IPY_MODEL_4d964dc7e08d48f0be400d45c09f16e8",
      "max": 1,
      "min": 0,
      "orientation": "horizontal",
      "style": "IPY_MODEL_347e2725b013421a951237d46b26d5e3",
      "value": 1
     }
    }
   }
  }
 },
 "nbformat": 4,
 "nbformat_minor": 4
}
