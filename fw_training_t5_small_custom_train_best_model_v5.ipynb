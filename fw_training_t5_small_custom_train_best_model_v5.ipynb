{
 "cells": [
  {
   "cell_type": "markdown",
   "metadata": {
    "id": "YTsVWwCgLAJl"
   },
   "source": [
    "Fine-tuning best T5 Transformer 🤖\n",
    "-----------------------------------\n",
    "\n",
    "In this notebook, we will continue the fine-tuning of T5 transformer on the new extracted sentences from the book **Grammaire de Wolof Moderne** without considering the definitions. We provide, bellow, the main evaluation figures, obtained from the hyperparameter search step. We will evaluate the training on the validation dataset.\n",
    "\n",
    "- Parallel coordinates from panel:\n",
    "\n",
    "- Parameter importance char: \n",
    "[t5_v3_importance](https://wandb.ai/oumar-kane-team/small-t5-cross-fw-translation-bayes-hpsearch-v3/reports/undefined-23-05-16-10-36-17---Vmlldzo0Mzc4NDY0?accessToken=eyaiyrid0qz1zg2jkq3fc65biw53084dpfitbi0dgonq6mweupw6kgjml9d2nv1w)"
   ]
  },
  {
   "cell_type": "markdown",
   "metadata": {},
   "source": [
    "We can see in the above chart that the batch is the most important parameter with a negative correlation with the BLEU score (meaning that a lower batch size is better). Next, we the probability of modifying a character in the french corpus is also important and a high probability provide a better BLEU score.  "
   ]
  },
  {
   "cell_type": "code",
   "execution_count": 1,
   "metadata": {
    "colab": {
     "base_uri": "https://localhost:8080/"
    },
    "executionInfo": {
     "elapsed": 41798,
     "status": "ok",
     "timestamp": 1683491387892,
     "user": {
      "displayName": "Oumar Kane",
      "userId": "05889582343301699661"
     },
     "user_tz": 0
    },
    "id": "dF37F8_nLAJr",
    "outputId": "7f5f2bed-9b9d-49f9-c8f1-6fe427cf1502"
   },
   "outputs": [
    {
     "name": "stderr",
     "output_type": "stream",
     "text": [
      "Global seed set to 0\n"
     ]
    }
   ],
   "source": [
    "# let us import all necessary libraries\n",
    "from transformers import AutoModelForSeq2SeqLM, Seq2SeqTrainingArguments, Seq2SeqTrainer, T5TokenizerFast, set_seed, AdamW, get_linear_schedule_with_warmup, T5ForConditionalGeneration,\\\n",
    "    get_cosine_schedule_with_warmup, Adafactor\n",
    "from wolof_translate.utils.sent_transformers import TransformerSequences\n",
    "from wolof_translate.utils.improvements.end_marks import add_end_mark # added\n",
    "from torch.nn import TransformerEncoderLayer, TransformerDecoderLayer\n",
    "from torch.utils.data import Dataset, DataLoader, random_split\n",
    "from wolof_translate.data.dataset_v4 import SentenceDataset # v2 -> v3 -> v4\n",
    "from wolof_translate.utils.sent_corrections import *\n",
    "from sklearn.model_selection import train_test_split\n",
    "from torch.optim.lr_scheduler import _LRScheduler\n",
    "# from custom_rnn.utils.kwargs import Kwargs\n",
    "from torch.nn.utils.rnn import pad_sequence\n",
    "from plotly.subplots import make_subplots\n",
    "from nlpaug.augmenter import char as nac\n",
    "from torch.utils.data import DataLoader\n",
    "# from datasets  import load_metric # make pip install evaluate instead\n",
    "# and pip install sacrebleu for instance\n",
    "from torch.nn import functional as F\n",
    "import plotly.graph_objects as go\n",
    "from tokenizers import Tokenizer\n",
    "import matplotlib.pyplot as plt\n",
    "import pytorch_lightning as lt\n",
    "from tqdm import tqdm, trange\n",
    "from functools import partial\n",
    "from torch.nn import utils\n",
    "from copy import deepcopy\n",
    "from torch import optim\n",
    "from typing import *\n",
    "from torch import nn\n",
    "import pandas as pd\n",
    "import numpy as np\n",
    "import itertools\n",
    "import evaluate\n",
    "import random\n",
    "import string\n",
    "import shutil\n",
    "import wandb\n",
    "import torch\n",
    "import json\n",
    "import copy\n",
    "import os\n",
    "\n",
    "# add seed for everything\n",
    "lt.seed_everything(0)\n",
    "\n",
    "os.environ[\"WANDB_DISABLED\"] = \"true\""
   ]
  },
  {
   "cell_type": "markdown",
   "metadata": {
    "id": "19MVywzSLAJt"
   },
   "source": [
    "## French to wolof"
   ]
  },
  {
   "cell_type": "markdown",
   "metadata": {
    "id": "n4tP0YGyLAJt"
   },
   "source": [
    "### Configure dataset 🔠"
   ]
  },
  {
   "cell_type": "code",
   "execution_count": 2,
   "metadata": {
    "executionInfo": {
     "elapsed": 77,
     "status": "ok",
     "timestamp": 1683491387893,
     "user": {
      "displayName": "Oumar Kane",
      "userId": "05889582343301699661"
     },
     "user_tz": 0
    },
    "id": "t2GR0YjYuLc5"
   },
   "outputs": [],
   "source": [
    "# recuperate the tokenizer from a json file\n",
    "tokenizer = T5TokenizerFast(tokenizer_file=f\"wolof-translate/wolof_translate/tokenizers/t5_tokenizers/tokenizer_v3_2.json\")\n"
   ]
  },
  {
   "cell_type": "code",
   "execution_count": 3,
   "metadata": {
    "executionInfo": {
     "elapsed": 77,
     "status": "ok",
     "timestamp": 1683491387894,
     "user": {
      "displayName": "Oumar Kane",
      "userId": "05889582343301699661"
     },
     "user_tz": 0
    },
    "id": "BIjksuH9LAJv"
   },
   "outputs": [],
   "source": [
    "def recuperate_datasets(fr_char_p: float, fr_word_p: float, max_len: int, end_mark_opt: int):\n",
    "\n",
    "  # Let us recuperate the end_mark adding option\n",
    "  if end_mark_opt == 1:\n",
    "    # Create augmentation to add on French sentences\n",
    "    fr_augmentation_1 = TransformerSequences(nac.KeyboardAug(aug_char_p=fr_char_p, aug_word_p=fr_word_p,\n",
    "                                                             aug_word_max = max_len),\n",
    "                                          remove_mark_space, delete_guillemet_space, add_mark_space)\n",
    "\n",
    "    fr_augmentation_2 = TransformerSequences(remove_mark_space, delete_guillemet_space, add_mark_space)\n",
    "    \n",
    "  else:\n",
    "    \n",
    "    if end_mark_opt == 2:\n",
    "\n",
    "      end_mark_fn = partial(add_end_mark, end_mark_to_remove = '!', replace = True)\n",
    "    \n",
    "    elif end_mark_opt == 3:\n",
    "\n",
    "      end_mark_fn = partial(add_end_mark)\n",
    "    \n",
    "    elif end_mark_opt == 4:\n",
    "\n",
    "      end_mark_fn = partial(add_end_mark, end_mark_to_remove = '!')\n",
    "\n",
    "    # Create augmentation to add on French sentences\n",
    "    fr_augmentation_1 = TransformerSequences(nac.KeyboardAug(aug_char_p=fr_char_p, aug_word_p=fr_word_p,\n",
    "                                                             aug_word_max = max_len),\n",
    "                                          remove_mark_space, delete_guillemet_space, add_mark_space, end_mark_fn)\n",
    "    \n",
    "    fr_augmentation_2 = TransformerSequences(remove_mark_space, delete_guillemet_space, add_mark_space, end_mark_fn)\n",
    "    \n",
    "  # Recuperate the train dataset\n",
    "  train_dataset_aug = SentenceDataset(f\"data/extractions/new_data/train_set.csv\",\n",
    "                                        tokenizer,\n",
    "                                        truncation = True, max_len=max_len,\n",
    "                                        cp1_transformer = fr_augmentation_1,\n",
    "                                        cp2_transformer = fr_augmentation_2\n",
    "                                        )\n",
    "\n",
    "  # Recuperate the valid dataset\n",
    "  valid_dataset = SentenceDataset(f\"data/extractions/new_data/valid_set.csv\",\n",
    "                                        tokenizer, max_len=max_len,\n",
    "                                        cp1_transformer = fr_augmentation_2,\n",
    "                                        cp2_transformer = fr_augmentation_2,\n",
    "                                        truncation = True)\n",
    "  \n",
    "  # Return the datasets\n",
    "  return train_dataset_aug, valid_dataset"
   ]
  },
  {
   "cell_type": "markdown",
   "metadata": {
    "id": "0vhzP3IaLAJv"
   },
   "source": [
    "### Configure the model and the evaluation function ⚙️"
   ]
  },
  {
   "cell_type": "markdown",
   "metadata": {
    "id": "R8I3tm4WLAJx"
   },
   "source": [
    "Let us evaluate the predictions with the `bleu` metric."
   ]
  },
  {
   "cell_type": "markdown",
   "metadata": {
    "id": "IuppKYiyLAJx"
   },
   "source": [
    "Let us initialize the evaluation object."
   ]
  },
  {
   "cell_type": "code",
   "execution_count": 4,
   "metadata": {
    "executionInfo": {
     "elapsed": 74,
     "status": "ok",
     "timestamp": 1683491387896,
     "user": {
      "displayName": "Oumar Kane",
      "userId": "05889582343301699661"
     },
     "user_tz": 0
    },
    "id": "a7Bpd4UPLAJy"
   },
   "outputs": [],
   "source": [
    "%run wolof-translate/wolof_translate/utils/evaluation.py\n",
    "evaluation = TranslationEvaluation(tokenizer)\n"
   ]
  },
  {
   "cell_type": "markdown",
   "metadata": {
    "id": "xT17hB19LAJy"
   },
   "source": [
    "### Searching for the best parameters 🕖"
   ]
  },
  {
   "cell_type": "code",
   "execution_count": 5,
   "metadata": {},
   "outputs": [],
   "source": [
    "from wolof_translate.models.transformers.optimization import TransformerScheduler\n",
    "from wolof_translate.trainers.transformer_trainer import ModelRunner\n",
    "from wolof_translate.utils.evaluation import TranslationEvaluation\n",
    "from wolof_translate.models.transformers.main import Transformer\n",
    "from wolof_translate.utils.split_with_valid import split_data\n"
   ]
  },
  {
   "cell_type": "markdown",
   "metadata": {},
   "source": [
    "-------------"
   ]
  },
  {
   "cell_type": "code",
   "execution_count": null,
   "metadata": {},
   "outputs": [],
   "source": []
  },
  {
   "cell_type": "markdown",
   "metadata": {},
   "source": [
    "### --- Wandb v5 3000"
   ]
  },
  {
   "cell_type": "code",
   "execution_count": 8,
   "metadata": {},
   "outputs": [
    {
     "data": {
      "text/plain": [
       "421"
      ]
     },
     "execution_count": 8,
     "metadata": {},
     "output_type": "execute_result"
    }
   ],
   "source": [
    "842//2"
   ]
  },
  {
   "cell_type": "code",
   "execution_count": 7,
   "metadata": {
    "collapsed": true,
    "jupyter": {
     "outputs_hidden": true
    }
   },
   "outputs": [
    {
     "data": {
      "application/vnd.jupyter.widget-view+json": {
       "model_id": "b93ef947a49e4deeb1afc6db8787482d",
       "version_major": 2,
       "version_minor": 0
      },
      "text/plain": [
       "Downloading (…)lve/main/config.json:   0%|          | 0.00/1.21k [00:00<?, ?B/s]"
      ]
     },
     "metadata": {},
     "output_type": "display_data"
    },
    {
     "data": {
      "application/vnd.jupyter.widget-view+json": {
       "model_id": "32c7edafdc294f619036e4b6b333f345",
       "version_major": 2,
       "version_minor": 0
      },
      "text/plain": [
       "Downloading model.safetensors:   0%|          | 0.00/242M [00:00<?, ?B/s]"
      ]
     },
     "metadata": {},
     "output_type": "display_data"
    },
    {
     "data": {
      "application/vnd.jupyter.widget-view+json": {
       "model_id": "9b0eba6d973d4f5583c31f252b97f813",
       "version_major": 2,
       "version_minor": 0
      },
      "text/plain": [
       "Downloading (…)neration_config.json:   0%|          | 0.00/147 [00:00<?, ?B/s]"
      ]
     },
     "metadata": {},
     "output_type": "display_data"
    },
    {
     "ename": "OSError",
     "evalue": "Le fichier fw_t5_small_custom_train_v5_checkpoints/best_checkpoints.pth est introuvable. Vérifiez si le chemin fourni est correct!",
     "output_type": "error",
     "traceback": [
      "\u001b[0;31m---------------------------------------------------------------------------\u001b[0m",
      "\u001b[0;31mOSError\u001b[0m                                   Traceback (most recent call last)",
      "Cell \u001b[0;32mIn[7], line 78\u001b[0m\n\u001b[1;32m     68\u001b[0m trainer\u001b[38;5;241m.\u001b[39mcompile(train_dataset, test_dataset, tokenizer, train_loader_args,\n\u001b[1;32m     69\u001b[0m                 optimizer_kwargs \u001b[38;5;241m=\u001b[39m optimizer_args,\n\u001b[1;32m     70\u001b[0m                 lr_scheduler\u001b[38;5;241m=\u001b[39mget_linear_schedule_with_warmup,\n\u001b[0;32m   (...)\u001b[0m\n\u001b[1;32m     74\u001b[0m                 logging_dir\u001b[38;5;241m=\u001b[39m\u001b[38;5;124m\"\u001b[39m\u001b[38;5;124mdata/logs/t5_small_custom_train_fw\u001b[39m\u001b[38;5;124m\"\u001b[39m\n\u001b[1;32m     75\u001b[0m                 )\n\u001b[1;32m     77\u001b[0m \u001b[38;5;66;03m# We will from checkpoints so let us the model\u001b[39;00m\n\u001b[0;32m---> 78\u001b[0m \u001b[43mtrainer\u001b[49m\u001b[38;5;241;43m.\u001b[39;49m\u001b[43mload\u001b[49m\u001b[43m(\u001b[49m\u001b[43mconfig\u001b[49m\u001b[43m[\u001b[49m\u001b[38;5;124;43m'\u001b[39;49m\u001b[38;5;124;43mmodel_dir\u001b[39;49m\u001b[38;5;124;43m'\u001b[39;49m\u001b[43m]\u001b[49m\u001b[43m,\u001b[49m\u001b[43m \u001b[49m\u001b[43mload_best\u001b[49m\u001b[38;5;241;43m=\u001b[39;49m\u001b[38;5;28;43;01mTrue\u001b[39;49;00m\u001b[43m)\u001b[49m \u001b[38;5;66;03m# Only for the first loading\u001b[39;00m\n\u001b[1;32m     79\u001b[0m \u001b[38;5;66;03m# trainer.load(config['new_model_dir'], load_best = True)\u001b[39;00m\n",
      "File \u001b[0;32m~/SageMaker/.Trash-1000/files/Wolof_traduction/wolof-translate/wolof_translate/trainers/transformer_trainer.py:568\u001b[0m, in \u001b[0;36mModelRunner.load\u001b[0;34m(self, directory, file_name, load_best)\u001b[0m\n\u001b[1;32m    564\u001b[0m         \u001b[38;5;28mself\u001b[39m\u001b[38;5;241m.\u001b[39mlr_scheduling\u001b[38;5;241m.\u001b[39mload_state_dict(checkpoints[\u001b[38;5;124m\"\u001b[39m\u001b[38;5;124mlr_scheduler_state_dict\u001b[39m\u001b[38;5;124m\"\u001b[39m])\n\u001b[1;32m    566\u001b[0m \u001b[38;5;28;01melse\u001b[39;00m:\n\u001b[0;32m--> 568\u001b[0m     \u001b[38;5;28;01mraise\u001b[39;00m \u001b[38;5;167;01mOSError\u001b[39;00m(\n\u001b[1;32m    569\u001b[0m         \u001b[38;5;124mf\u001b[39m\u001b[38;5;124m\"\u001b[39m\u001b[38;5;124mLe fichier \u001b[39m\u001b[38;5;132;01m{\u001b[39;00mfile_path\u001b[38;5;132;01m}\u001b[39;00m\u001b[38;5;124m est introuvable. Vérifiez si le chemin fourni est correct!\u001b[39m\u001b[38;5;124m\"\u001b[39m\n\u001b[1;32m    570\u001b[0m     )\n",
      "\u001b[0;31mOSError\u001b[0m: Le fichier fw_t5_small_custom_train_v5_checkpoints/best_checkpoints.pth est introuvable. Vérifiez si le chemin fourni est correct!"
     ]
    }
   ],
   "source": [
    "# let us initialize the hyperparameter configuration \n",
    "config = {\n",
    "    'random_state': 0,\n",
    "    'fr_char_p': 0.6723569050184816,\n",
    "    'fr_word_p': 0.08544139434972758,\n",
    "    'learning_rate': 0.00263707394928414,\n",
    "    'weight_decay': 0.01,\n",
    "    'batch_size': 16,\n",
    "    'warmup_ratio': 0.0,\n",
    "    'max_epoch': 842,\n",
    "    'epochs': 200,\n",
    "    'mid_epoch': 421,\n",
    "    'max_len': 56,\n",
    "    'end_mark': 4,\n",
    "    'bleu': 3.8295,\n",
    "    'model_dir': 'data/checkpoints/fw_t5_small_custom_train_v5_checkpoints/',\n",
    "    'new_model_dir': 'data/checkpoints/t5_small_custom_train_results_fw_v5/'\n",
    "}\n",
    "\n",
    "# Initialize the model name\n",
    "model_name = 't5-small'\n",
    "\n",
    "# import the model with its pre-trained weights\n",
    "model = T5ForConditionalGeneration.from_pretrained(model_name)\n",
    "\n",
    "# resize the token embeddings\n",
    "model.resize_token_embeddings(len(tokenizer))\n",
    "\n",
    "# let us initialize the evaluation class\n",
    "evaluation = TranslationEvaluation(tokenizer)\n",
    "\n",
    "# let us initialize the trainer\n",
    "trainer = ModelRunner(model, seed = 0, version = 5, evaluation = evaluation, optimizer=Adafactor)\n",
    "\n",
    "# split the data\n",
    "split_data(config['random_state'], csv_file = \"ad_sentences.csv\")\n",
    "\n",
    "# recuperate train and test set\n",
    "train_dataset, test_dataset = recuperate_datasets(config['fr_char_p'], \n",
    "                                                    config['fr_word_p'], config['max_len'],\n",
    "                                                    config['end_mark'])\n",
    "\n",
    "# let us calculate the appropriate warmup steps (let us take a max epoch of 100)\n",
    "length = len(train_dataset)\n",
    "\n",
    "n_steps = length // config['batch_size']\n",
    "\n",
    "num_steps = config['max_epoch'] * n_steps\n",
    "\n",
    "warmup_steps = (config['max_epoch'] * n_steps) * config['warmup_ratio']\n",
    "\n",
    "# # Initialize the scheduler parameters\n",
    "scheduler_args = {'num_warmup_steps': warmup_steps, 'num_training_steps': num_steps}\n",
    "\n",
    "# Initialize the optimizer parameters\n",
    "optimizer_args = {\n",
    "    'lr': config['learning_rate'],\n",
    "    'weight_decay': config['weight_decay'],\n",
    "    # 'betas': (0.9, 0.98),\n",
    "    'relative_step': False\n",
    "}\n",
    "\n",
    "# Initialize the loaders parameters\n",
    "train_loader_args = {'batch_size': config['batch_size']}\n",
    "\n",
    "# Add the datasets and hyperparameters to trainer\n",
    "trainer.compile(train_dataset, test_dataset, tokenizer, train_loader_args,\n",
    "                optimizer_kwargs = optimizer_args,\n",
    "                lr_scheduler=get_linear_schedule_with_warmup,\n",
    "                lr_scheduler_kwargs=scheduler_args, \n",
    "                predict_with_generate = True,\n",
    "                hugging_face = True,\n",
    "                logging_dir=\"data/logs/t5_small_custom_train_fw\"\n",
    "                )\n",
    "\n",
    "# We will from checkpoints so let us the model\n",
    "trainer.load(config['model_dir'], load_best=True) # Only for the first loading\n",
    "# trainer.load(config['new_model_dir'], load_best = True)\n",
    "\n",
    "        "
   ]
  },
  {
   "cell_type": "code",
   "execution_count": null,
   "metadata": {},
   "outputs": [],
   "source": []
  },
  {
   "cell_type": "markdown",
   "metadata": {},
   "source": [
    "### ---"
   ]
  },
  {
   "cell_type": "code",
   "execution_count": 10,
   "metadata": {
    "collapsed": true,
    "jupyter": {
     "outputs_hidden": true
    }
   },
   "outputs": [
    {
     "name": "stderr",
     "output_type": "stream",
     "text": [
      "  0%|          | 0/195 [00:00<?, ?it/s]c:\\Users\\Oumar Kane\\AppData\\Local\\pypoetry\\Cache\\virtualenvs\\pytorch1-HleOW5am-py3.10\\lib\\site-packages\\torch\\optim\\lr_scheduler.py:257: UserWarning: To get the last learning rate computed by the scheduler, please use `get_last_lr()`.\n",
      "  warnings.warn(\"To get the last learning rate computed by the scheduler, \"\n"
     ]
    },
    {
     "name": "stdout",
     "output_type": "stream",
     "text": [
      "For epoch 6: \n",
      "{Learning rate: [0.0026213092673829214]}\n"
     ]
    },
    {
     "name": "stderr",
     "output_type": "stream",
     "text": [
      "Train batch number 150: 100%|██████████| 150/150 [00:41<00:00,  3.57batches/s]\n",
      "Test batch number 19: 100%|██████████| 19/19 [00:21<00:00,  1.11s/batches]\n"
     ]
    },
    {
     "name": "stdout",
     "output_type": "stream",
     "text": [
      "\n",
      "Metrics: {'train_loss': 0.5447575534383456, 'test_loss': 0.7493734171516017, 'bleu': 3.0033, 'gen_len': 11.1367}\n",
      "\n",
      "=============================\n",
      "\n"
     ]
    },
    {
     "name": "stderr",
     "output_type": "stream",
     "text": [
      "  1%|          | 1/195 [01:08<3:41:55, 68.64s/it]"
     ]
    },
    {
     "name": "stdout",
     "output_type": "stream",
     "text": [
      "For epoch 7: \n",
      "{Learning rate: [0.002618156331002678]}\n"
     ]
    },
    {
     "name": "stderr",
     "output_type": "stream",
     "text": [
      "Train batch number 150: 100%|██████████| 150/150 [00:39<00:00,  3.78batches/s]\n",
      "Test batch number 19: 100%|██████████| 19/19 [00:24<00:00,  1.27s/batches]\n"
     ]
    },
    {
     "name": "stdout",
     "output_type": "stream",
     "text": [
      "\n",
      "Metrics: {'train_loss': 0.4815692874789238, 'test_loss': 0.7585576960915014, 'bleu': 5.0744, 'gen_len': 12.0533}\n",
      "\n",
      "=============================\n",
      "\n"
     ]
    },
    {
     "name": "stderr",
     "output_type": "stream",
     "text": [
      "  1%|          | 2/195 [02:17<3:41:38, 68.90s/it]"
     ]
    },
    {
     "name": "stdout",
     "output_type": "stream",
     "text": [
      "For epoch 8: \n",
      "{Learning rate: [0.002615003394622434]}\n"
     ]
    },
    {
     "name": "stderr",
     "output_type": "stream",
     "text": [
      "Train batch number 150: 100%|██████████| 150/150 [00:43<00:00,  3.46batches/s]\n",
      "Test batch number 19: 100%|██████████| 19/19 [00:24<00:00,  1.30s/batches]\n"
     ]
    },
    {
     "name": "stdout",
     "output_type": "stream",
     "text": [
      "\n",
      "Metrics: {'train_loss': 0.42077246437470117, 'test_loss': 0.7780370147604692, 'bleu': 5.1758, 'gen_len': 11.8867}\n",
      "\n",
      "=============================\n",
      "\n"
     ]
    },
    {
     "name": "stderr",
     "output_type": "stream",
     "text": [
      "  2%|▏         | 3/195 [03:31<3:47:16, 71.02s/it]"
     ]
    },
    {
     "name": "stdout",
     "output_type": "stream",
     "text": [
      "For epoch 9: \n",
      "{Learning rate: [0.0026118504582421905]}\n"
     ]
    },
    {
     "name": "stderr",
     "output_type": "stream",
     "text": [
      "Train batch number 150: 100%|██████████| 150/150 [00:44<00:00,  3.40batches/s]\n",
      "Test batch number 19: 100%|██████████| 19/19 [00:25<00:00,  1.32s/batches]\n"
     ]
    },
    {
     "name": "stdout",
     "output_type": "stream",
     "text": [
      "\n",
      "Metrics: {'train_loss': 0.36195707082748413, 'test_loss': 0.8036631659457558, 'bleu': 6.2242, 'gen_len': 11.1667}\n",
      "\n",
      "=============================\n",
      "\n"
     ]
    },
    {
     "name": "stderr",
     "output_type": "stream",
     "text": [
      "  2%|▏         | 4/195 [04:46<3:51:04, 72.59s/it]"
     ]
    },
    {
     "name": "stdout",
     "output_type": "stream",
     "text": [
      "For epoch 10: \n",
      "{Learning rate: [0.0026086975218619466]}\n"
     ]
    },
    {
     "name": "stderr",
     "output_type": "stream",
     "text": [
      "Train batch number 150: 100%|██████████| 150/150 [00:45<00:00,  3.27batches/s]\n",
      "Test batch number 19: 100%|██████████| 19/19 [00:26<00:00,  1.41s/batches]\n"
     ]
    },
    {
     "name": "stdout",
     "output_type": "stream",
     "text": [
      "\n",
      "Metrics: {'train_loss': 0.30927860289812087, 'test_loss': 0.8280793506848184, 'bleu': 6.4576, 'gen_len': 11.75}\n",
      "\n",
      "=============================\n",
      "\n"
     ]
    },
    {
     "name": "stderr",
     "output_type": "stream",
     "text": [
      "  3%|▎         | 5/195 [06:04<3:56:08, 74.57s/it]"
     ]
    },
    {
     "name": "stdout",
     "output_type": "stream",
     "text": [
      "For epoch 11: \n",
      "{Learning rate: [0.0026055445854817026]}\n"
     ]
    },
    {
     "name": "stderr",
     "output_type": "stream",
     "text": [
      "Train batch number 150: 100%|██████████| 150/150 [00:40<00:00,  3.66batches/s]\n",
      "Test batch number 19: 100%|██████████| 19/19 [00:22<00:00,  1.16s/batches]\n"
     ]
    },
    {
     "name": "stdout",
     "output_type": "stream",
     "text": [
      "\n",
      "Metrics: {'train_loss': 0.2597498541076978, 'test_loss': 0.8561981947798478, 'bleu': 5.8277, 'gen_len': 12.52}\n",
      "\n",
      "=============================\n",
      "\n"
     ]
    },
    {
     "name": "stderr",
     "output_type": "stream",
     "text": [
      "  3%|▎         | 6/195 [07:10<3:46:07, 71.78s/it]"
     ]
    },
    {
     "name": "stdout",
     "output_type": "stream",
     "text": [
      "For epoch 12: \n",
      "{Learning rate: [0.002602391649101459]}\n"
     ]
    },
    {
     "name": "stderr",
     "output_type": "stream",
     "text": [
      "Train batch number 150: 100%|██████████| 150/150 [00:41<00:00,  3.61batches/s]\n",
      "Test batch number 19: 100%|██████████| 19/19 [00:22<00:00,  1.16s/batches]\n"
     ]
    },
    {
     "name": "stdout",
     "output_type": "stream",
     "text": [
      "\n",
      "Metrics: {'train_loss': 0.21816901380817094, 'test_loss': 0.898323510822497, 'bleu': 8.5906, 'gen_len': 10.69}\n",
      "\n",
      "=============================\n",
      "\n"
     ]
    },
    {
     "name": "stderr",
     "output_type": "stream",
     "text": [
      "  4%|▎         | 7/195 [08:19<3:42:10, 70.91s/it]"
     ]
    },
    {
     "name": "stdout",
     "output_type": "stream",
     "text": [
      "For epoch 13: \n",
      "{Learning rate: [0.002599238712721215]}\n"
     ]
    },
    {
     "name": "stderr",
     "output_type": "stream",
     "text": [
      "Train batch number 150: 100%|██████████| 150/150 [00:41<00:00,  3.58batches/s]\n",
      "Test batch number 19: 100%|██████████| 19/19 [00:21<00:00,  1.15s/batches]\n"
     ]
    },
    {
     "name": "stdout",
     "output_type": "stream",
     "text": [
      "\n",
      "Metrics: {'train_loss': 0.18033994113405546, 'test_loss': 0.9133500645035192, 'bleu': 9.5726, 'gen_len': 11.3}\n",
      "\n",
      "=============================\n",
      "\n"
     ]
    },
    {
     "name": "stderr",
     "output_type": "stream",
     "text": [
      "  4%|▍         | 8/195 [09:28<3:39:03, 70.29s/it]"
     ]
    },
    {
     "name": "stdout",
     "output_type": "stream",
     "text": [
      "For epoch 14: \n",
      "{Learning rate: [0.0025960857763409713]}\n"
     ]
    },
    {
     "name": "stderr",
     "output_type": "stream",
     "text": [
      "Train batch number 150: 100%|██████████| 150/150 [00:42<00:00,  3.54batches/s]\n",
      "Test batch number 19: 100%|██████████| 19/19 [00:26<00:00,  1.38s/batches]\n"
     ]
    },
    {
     "name": "stdout",
     "output_type": "stream",
     "text": [
      "\n",
      "Metrics: {'train_loss': 0.15382676020264627, 'test_loss': 0.9362388284582841, 'bleu': 8.2059, 'gen_len': 12.3367}\n",
      "\n",
      "=============================\n",
      "\n"
     ]
    },
    {
     "name": "stderr",
     "output_type": "stream",
     "text": [
      "  5%|▍         | 9/195 [10:40<3:39:41, 70.87s/it]"
     ]
    },
    {
     "name": "stdout",
     "output_type": "stream",
     "text": [
      "For epoch 15: \n",
      "{Learning rate: [0.0025929328399607278]}\n"
     ]
    },
    {
     "name": "stderr",
     "output_type": "stream",
     "text": [
      "Train batch number 150: 100%|██████████| 150/150 [00:42<00:00,  3.55batches/s]\n",
      "Test batch number 19: 100%|██████████| 19/19 [00:23<00:00,  1.25s/batches]\n"
     ]
    },
    {
     "name": "stdout",
     "output_type": "stream",
     "text": [
      "\n",
      "Metrics: {'train_loss': 0.13023789760967094, 'test_loss': 0.9548515489226893, 'bleu': 8.4737, 'gen_len': 11.9467}\n",
      "\n",
      "=============================\n",
      "\n"
     ]
    },
    {
     "name": "stderr",
     "output_type": "stream",
     "text": [
      "  5%|▌         | 10/195 [11:50<3:37:26, 70.52s/it]"
     ]
    },
    {
     "name": "stdout",
     "output_type": "stream",
     "text": [
      "For epoch 16: \n",
      "{Learning rate: [0.002589779903580484]}\n"
     ]
    },
    {
     "name": "stderr",
     "output_type": "stream",
     "text": [
      "Train batch number 150: 100%|██████████| 150/150 [00:42<00:00,  3.55batches/s]\n",
      "Test batch number 19: 100%|██████████| 19/19 [00:22<00:00,  1.17s/batches]\n"
     ]
    },
    {
     "name": "stdout",
     "output_type": "stream",
     "text": [
      "\n",
      "Metrics: {'train_loss': 0.11096373024086158, 'test_loss': 0.9827378360848678, 'bleu': 9.8223, 'gen_len': 11.8333}\n",
      "\n",
      "=============================\n",
      "\n"
     ]
    },
    {
     "name": "stderr",
     "output_type": "stream",
     "text": [
      "  6%|▌         | 11/195 [13:00<3:35:51, 70.39s/it]"
     ]
    },
    {
     "name": "stdout",
     "output_type": "stream",
     "text": [
      "For epoch 17: \n",
      "{Learning rate: [0.00258662696720024]}\n"
     ]
    },
    {
     "name": "stderr",
     "output_type": "stream",
     "text": [
      "Train batch number 150: 100%|██████████| 150/150 [00:40<00:00,  3.74batches/s]\n",
      "Test batch number 19: 100%|██████████| 19/19 [00:20<00:00,  1.07s/batches]\n"
     ]
    },
    {
     "name": "stdout",
     "output_type": "stream",
     "text": [
      "\n",
      "Metrics: {'train_loss': 0.09659192368388175, 'test_loss': 1.014204269961307, 'bleu': 10.1255, 'gen_len': 10.8733}\n",
      "\n",
      "=============================\n",
      "\n"
     ]
    },
    {
     "name": "stderr",
     "output_type": "stream",
     "text": [
      "  6%|▌         | 12/195 [14:06<3:30:47, 69.11s/it]"
     ]
    },
    {
     "name": "stdout",
     "output_type": "stream",
     "text": [
      "For epoch 18: \n",
      "{Learning rate: [0.0025834740308199964]}\n"
     ]
    },
    {
     "name": "stderr",
     "output_type": "stream",
     "text": [
      "Train batch number 150: 100%|██████████| 150/150 [00:40<00:00,  3.68batches/s]\n",
      "Test batch number 19: 100%|██████████| 19/19 [00:20<00:00,  1.08s/batches]\n"
     ]
    },
    {
     "name": "stdout",
     "output_type": "stream",
     "text": [
      "\n",
      "Metrics: {'train_loss': 0.08686550460755825, 'test_loss': 1.0065760361520868, 'bleu': 10.0043, 'gen_len': 11.2667}\n",
      "\n",
      "=============================\n",
      "\n"
     ]
    },
    {
     "name": "stderr",
     "output_type": "stream",
     "text": [
      "  7%|▋         | 13/195 [15:11<3:25:43, 67.82s/it]"
     ]
    },
    {
     "name": "stdout",
     "output_type": "stream",
     "text": [
      "For epoch 19: \n",
      "{Learning rate: [0.0025803210944397525]}\n"
     ]
    },
    {
     "name": "stderr",
     "output_type": "stream",
     "text": [
      "Train batch number 150: 100%|██████████| 150/150 [00:40<00:00,  3.73batches/s]\n",
      "Test batch number 19: 100%|██████████| 19/19 [00:20<00:00,  1.08s/batches]\n"
     ]
    },
    {
     "name": "stdout",
     "output_type": "stream",
     "text": [
      "\n",
      "Metrics: {'train_loss': 0.0741440162807703, 'test_loss': 1.0255332746003802, 'bleu': 10.0274, 'gen_len': 10.8833}\n",
      "\n",
      "=============================\n",
      "\n"
     ]
    },
    {
     "name": "stderr",
     "output_type": "stream",
     "text": [
      "  7%|▋         | 14/195 [16:16<3:21:22, 66.75s/it]"
     ]
    },
    {
     "name": "stdout",
     "output_type": "stream",
     "text": [
      "For epoch 20: \n",
      "{Learning rate: [0.0025771681580595085]}\n"
     ]
    },
    {
     "name": "stderr",
     "output_type": "stream",
     "text": [
      "Train batch number 150: 100%|██████████| 150/150 [00:40<00:00,  3.74batches/s]\n",
      "Test batch number 19: 100%|██████████| 19/19 [00:20<00:00,  1.09s/batches]\n"
     ]
    },
    {
     "name": "stdout",
     "output_type": "stream",
     "text": [
      "\n",
      "Metrics: {'train_loss': 0.06811917595565319, 'test_loss': 1.0436439733756215, 'bleu': 9.7561, 'gen_len': 10.9233}\n",
      "\n",
      "=============================\n",
      "\n"
     ]
    },
    {
     "name": "stderr",
     "output_type": "stream",
     "text": [
      "  8%|▊         | 15/195 [17:20<3:18:12, 66.07s/it]"
     ]
    },
    {
     "name": "stdout",
     "output_type": "stream",
     "text": [
      "For epoch 21: \n",
      "{Learning rate: [0.002574015221679265]}\n"
     ]
    },
    {
     "name": "stderr",
     "output_type": "stream",
     "text": [
      "Train batch number 150: 100%|██████████| 150/150 [00:39<00:00,  3.76batches/s]\n",
      "Test batch number 19: 100%|██████████| 19/19 [00:20<00:00,  1.07s/batches]\n"
     ]
    },
    {
     "name": "stdout",
     "output_type": "stream",
     "text": [
      "\n",
      "Metrics: {'train_loss': 0.06377433862537146, 'test_loss': 1.0493260653395402, 'bleu': 10.216, 'gen_len': 11.33}\n",
      "\n",
      "=============================\n",
      "\n"
     ]
    },
    {
     "name": "stderr",
     "output_type": "stream",
     "text": [
      "  8%|▊         | 16/195 [18:25<3:16:28, 65.86s/it]"
     ]
    },
    {
     "name": "stdout",
     "output_type": "stream",
     "text": [
      "For epoch 22: \n",
      "{Learning rate: [0.002570862285299021]}\n"
     ]
    },
    {
     "name": "stderr",
     "output_type": "stream",
     "text": [
      "Train batch number 150: 100%|██████████| 150/150 [00:40<00:00,  3.72batches/s]\n",
      "Test batch number 19: 100%|██████████| 19/19 [00:20<00:00,  1.08s/batches]\n"
     ]
    },
    {
     "name": "stdout",
     "output_type": "stream",
     "text": [
      "\n",
      "Metrics: {'train_loss': 0.056567230770985286, 'test_loss': 1.0574740108690763, 'bleu': 9.4559, 'gen_len': 11.97}\n",
      "\n",
      "=============================\n",
      "\n"
     ]
    },
    {
     "name": "stderr",
     "output_type": "stream",
     "text": [
      "  9%|▊         | 17/195 [19:30<3:13:56, 65.37s/it]"
     ]
    },
    {
     "name": "stdout",
     "output_type": "stream",
     "text": [
      "For epoch 23: \n",
      "{Learning rate: [0.0025677093489187776]}\n"
     ]
    },
    {
     "name": "stderr",
     "output_type": "stream",
     "text": [
      "Train batch number 150: 100%|██████████| 150/150 [00:40<00:00,  3.70batches/s]\n",
      "Test batch number 19: 100%|██████████| 19/19 [00:20<00:00,  1.08s/batches]\n"
     ]
    },
    {
     "name": "stdout",
     "output_type": "stream",
     "text": [
      "\n",
      "Metrics: {'train_loss': 0.053099090283115706, 'test_loss': 1.0672213090093512, 'bleu': 11.2583, 'gen_len': 11.1667}\n",
      "\n",
      "=============================\n",
      "\n"
     ]
    },
    {
     "name": "stderr",
     "output_type": "stream",
     "text": [
      "  9%|▉         | 18/195 [20:36<3:13:41, 65.66s/it]"
     ]
    },
    {
     "name": "stdout",
     "output_type": "stream",
     "text": [
      "For epoch 24: \n",
      "{Learning rate: [0.0025645564125385337]}\n"
     ]
    },
    {
     "name": "stderr",
     "output_type": "stream",
     "text": [
      "Train batch number 150: 100%|██████████| 150/150 [00:40<00:00,  3.71batches/s]\n",
      "Test batch number 19: 100%|██████████| 19/19 [00:20<00:00,  1.09s/batches]\n"
     ]
    },
    {
     "name": "stdout",
     "output_type": "stream",
     "text": [
      "\n",
      "Metrics: {'train_loss': 0.04786259071280559, 'test_loss': 1.062326381081029, 'bleu': 9.7322, 'gen_len': 10.7333}\n",
      "\n",
      "=============================\n",
      "\n"
     ]
    },
    {
     "name": "stderr",
     "output_type": "stream",
     "text": [
      " 10%|▉         | 19/195 [21:41<3:11:39, 65.34s/it]"
     ]
    },
    {
     "name": "stdout",
     "output_type": "stream",
     "text": [
      "For epoch 25: \n",
      "{Learning rate: [0.00256140347615829]}\n"
     ]
    },
    {
     "name": "stderr",
     "output_type": "stream",
     "text": [
      "Train batch number 150: 100%|██████████| 150/150 [00:39<00:00,  3.75batches/s]\n",
      "Test batch number 19: 100%|██████████| 19/19 [00:20<00:00,  1.07s/batches]\n"
     ]
    },
    {
     "name": "stdout",
     "output_type": "stream",
     "text": [
      "\n",
      "Metrics: {'train_loss': 0.04600157450263699, 'test_loss': 1.0812917571318776, 'bleu': 10.1402, 'gen_len': 10.97}\n",
      "\n",
      "=============================\n",
      "\n"
     ]
    },
    {
     "name": "stderr",
     "output_type": "stream",
     "text": [
      " 10%|█         | 20/195 [22:44<3:09:17, 64.90s/it]"
     ]
    },
    {
     "name": "stdout",
     "output_type": "stream",
     "text": [
      "For epoch 26: \n",
      "{Learning rate: [0.0025582505397780462]}\n"
     ]
    },
    {
     "name": "stderr",
     "output_type": "stream",
     "text": [
      "Train batch number 150: 100%|██████████| 150/150 [00:41<00:00,  3.65batches/s]\n",
      "Test batch number 19: 100%|██████████| 19/19 [00:20<00:00,  1.07s/batches]\n"
     ]
    },
    {
     "name": "stdout",
     "output_type": "stream",
     "text": [
      "\n",
      "Metrics: {'train_loss': 0.04169807371372978, 'test_loss': 1.092279409107409, 'bleu': 11.0895, 'gen_len': 10.3967}\n",
      "\n",
      "=============================\n",
      "\n"
     ]
    },
    {
     "name": "stderr",
     "output_type": "stream",
     "text": [
      " 11%|█         | 21/195 [23:49<3:08:11, 64.90s/it]"
     ]
    },
    {
     "name": "stdout",
     "output_type": "stream",
     "text": [
      "For epoch 27: \n",
      "{Learning rate: [0.0025550976033978027]}\n"
     ]
    },
    {
     "name": "stderr",
     "output_type": "stream",
     "text": [
      "Train batch number 150: 100%|██████████| 150/150 [00:40<00:00,  3.73batches/s]\n",
      "Test batch number 19: 100%|██████████| 19/19 [00:20<00:00,  1.07s/batches]\n"
     ]
    },
    {
     "name": "stdout",
     "output_type": "stream",
     "text": [
      "\n",
      "Metrics: {'train_loss': 0.03989274710416794, 'test_loss': 1.087600915055526, 'bleu': 10.404, 'gen_len': 10.7133}\n",
      "\n",
      "=============================\n",
      "\n"
     ]
    },
    {
     "name": "stderr",
     "output_type": "stream",
     "text": [
      " 11%|█▏        | 22/195 [24:53<3:06:15, 64.60s/it]"
     ]
    },
    {
     "name": "stdout",
     "output_type": "stream",
     "text": [
      "For epoch 28: \n",
      "{Learning rate: [0.002551944667017559]}\n"
     ]
    },
    {
     "name": "stderr",
     "output_type": "stream",
     "text": [
      "Train batch number 150: 100%|██████████| 150/150 [00:40<00:00,  3.73batches/s]\n",
      "Test batch number 19: 100%|██████████| 19/19 [00:20<00:00,  1.06s/batches]\n"
     ]
    },
    {
     "name": "stdout",
     "output_type": "stream",
     "text": [
      "\n",
      "Metrics: {'train_loss': 0.03723615782335401, 'test_loss': 1.0948661471668042, 'bleu': 9.9089, 'gen_len': 11.09}\n",
      "\n",
      "=============================\n",
      "\n"
     ]
    },
    {
     "name": "stderr",
     "output_type": "stream",
     "text": [
      " 12%|█▏        | 23/195 [25:57<3:04:39, 64.41s/it]"
     ]
    },
    {
     "name": "stdout",
     "output_type": "stream",
     "text": [
      "For epoch 29: \n",
      "{Learning rate: [0.002548791730637315]}\n"
     ]
    },
    {
     "name": "stderr",
     "output_type": "stream",
     "text": [
      "Train batch number 150: 100%|██████████| 150/150 [00:40<00:00,  3.73batches/s]\n",
      "Test batch number 19: 100%|██████████| 19/19 [00:20<00:00,  1.07s/batches]\n"
     ]
    },
    {
     "name": "stdout",
     "output_type": "stream",
     "text": [
      "\n",
      "Metrics: {'train_loss': 0.0356675051463147, 'test_loss': 1.1165472770992078, 'bleu': 10.5834, 'gen_len': 10.5267}\n",
      "\n",
      "=============================\n",
      "\n"
     ]
    },
    {
     "name": "stderr",
     "output_type": "stream",
     "text": [
      " 12%|█▏        | 24/195 [27:01<3:03:18, 64.32s/it]"
     ]
    },
    {
     "name": "stdout",
     "output_type": "stream",
     "text": [
      "For epoch 30: \n",
      "{Learning rate: [0.0025456387942570714]}\n"
     ]
    },
    {
     "name": "stderr",
     "output_type": "stream",
     "text": [
      "Train batch number 150: 100%|██████████| 150/150 [00:40<00:00,  3.74batches/s]\n",
      "Test batch number 19: 100%|██████████| 19/19 [00:20<00:00,  1.07s/batches]\n"
     ]
    },
    {
     "name": "stdout",
     "output_type": "stream",
     "text": [
      "\n",
      "Metrics: {'train_loss': 0.033533147039512795, 'test_loss': 1.1042987547422711, 'bleu': 10.3643, 'gen_len': 11.5767}\n",
      "\n",
      "=============================\n",
      "\n"
     ]
    },
    {
     "name": "stderr",
     "output_type": "stream",
     "text": [
      " 13%|█▎        | 25/195 [28:05<3:01:57, 64.22s/it]"
     ]
    },
    {
     "name": "stdout",
     "output_type": "stream",
     "text": [
      "For epoch 31: \n",
      "{Learning rate: [0.0025424858578768274]}\n"
     ]
    },
    {
     "name": "stderr",
     "output_type": "stream",
     "text": [
      "Train batch number 150: 100%|██████████| 150/150 [00:39<00:00,  3.77batches/s]\n",
      "Test batch number 19: 100%|██████████| 19/19 [00:20<00:00,  1.06s/batches]\n"
     ]
    },
    {
     "name": "stdout",
     "output_type": "stream",
     "text": [
      "\n",
      "Metrics: {'train_loss': 0.03326236048713326, 'test_loss': 1.1184622237556858, 'bleu': 9.682, 'gen_len': 10.8733}\n",
      "\n",
      "=============================\n",
      "\n"
     ]
    },
    {
     "name": "stderr",
     "output_type": "stream",
     "text": [
      " 13%|█▎        | 26/195 [29:09<3:00:11, 63.98s/it]"
     ]
    },
    {
     "name": "stdout",
     "output_type": "stream",
     "text": [
      "For epoch 32: \n",
      "{Learning rate: [0.002539332921496584]}\n"
     ]
    },
    {
     "name": "stderr",
     "output_type": "stream",
     "text": [
      "Train batch number 150: 100%|██████████| 150/150 [00:40<00:00,  3.74batches/s]\n",
      "Test batch number 19: 100%|██████████| 19/19 [00:20<00:00,  1.05s/batches]\n"
     ]
    },
    {
     "name": "stdout",
     "output_type": "stream",
     "text": [
      "\n",
      "Metrics: {'train_loss': 0.03028314125413696, 'test_loss': 1.1141174278761212, 'bleu': 10.4919, 'gen_len': 11.5133}\n",
      "\n",
      "=============================\n",
      "\n"
     ]
    },
    {
     "name": "stderr",
     "output_type": "stream",
     "text": [
      " 14%|█▍        | 27/195 [30:13<2:59:16, 64.02s/it]"
     ]
    },
    {
     "name": "stdout",
     "output_type": "stream",
     "text": [
      "For epoch 33: \n",
      "{Learning rate: [0.00253617998511634]}\n"
     ]
    },
    {
     "name": "stderr",
     "output_type": "stream",
     "text": [
      "Train batch number 150: 100%|██████████| 150/150 [00:39<00:00,  3.76batches/s]\n",
      "Test batch number 19: 100%|██████████| 19/19 [00:20<00:00,  1.07s/batches]\n"
     ]
    },
    {
     "name": "stdout",
     "output_type": "stream",
     "text": [
      "\n",
      "Metrics: {'train_loss': 0.029729243833571672, 'test_loss': 1.114983458268015, 'bleu': 11.4668, 'gen_len': 10.99}\n",
      "\n",
      "=============================\n",
      "\n"
     ]
    },
    {
     "name": "stderr",
     "output_type": "stream",
     "text": [
      " 14%|█▍        | 28/195 [31:18<2:59:23, 64.45s/it]"
     ]
    },
    {
     "name": "stdout",
     "output_type": "stream",
     "text": [
      "For epoch 34: \n",
      "{Learning rate: [0.0025330270487360965]}\n"
     ]
    },
    {
     "name": "stderr",
     "output_type": "stream",
     "text": [
      "Train batch number 150: 100%|██████████| 150/150 [00:39<00:00,  3.75batches/s]\n",
      "Test batch number 19: 100%|██████████| 19/19 [00:21<00:00,  1.16s/batches]\n"
     ]
    },
    {
     "name": "stdout",
     "output_type": "stream",
     "text": [
      "\n",
      "Metrics: {'train_loss': 0.02757790289198359, 'test_loss': 1.1022680966477645, 'bleu': 11.2095, 'gen_len': 11.5467}\n",
      "\n",
      "=============================\n",
      "\n"
     ]
    },
    {
     "name": "stderr",
     "output_type": "stream",
     "text": [
      " 15%|█▍        | 29/195 [32:24<2:59:05, 64.73s/it]"
     ]
    },
    {
     "name": "stdout",
     "output_type": "stream",
     "text": [
      "For epoch 35: \n",
      "{Learning rate: [0.0025298741123558526]}\n"
     ]
    },
    {
     "name": "stderr",
     "output_type": "stream",
     "text": [
      "Train batch number 150: 100%|██████████| 150/150 [00:40<00:00,  3.68batches/s]\n",
      "Test batch number 19: 100%|██████████| 19/19 [00:19<00:00,  1.02s/batches]\n"
     ]
    },
    {
     "name": "stdout",
     "output_type": "stream",
     "text": [
      "\n",
      "Metrics: {'train_loss': 0.027268836013972758, 'test_loss': 1.1410676711484005, 'bleu': 11.2911, 'gen_len': 10.91}\n",
      "\n",
      "=============================\n",
      "\n"
     ]
    },
    {
     "name": "stderr",
     "output_type": "stream",
     "text": [
      " 15%|█▌        | 30/195 [33:28<2:57:16, 64.46s/it]"
     ]
    },
    {
     "name": "stdout",
     "output_type": "stream",
     "text": [
      "For epoch 36: \n",
      "{Learning rate: [0.002526721175975609]}\n"
     ]
    },
    {
     "name": "stderr",
     "output_type": "stream",
     "text": [
      "Train batch number 150: 100%|██████████| 150/150 [00:39<00:00,  3.80batches/s]\n",
      "Test batch number 19: 100%|██████████| 19/19 [00:19<00:00,  1.01s/batches]\n"
     ]
    },
    {
     "name": "stdout",
     "output_type": "stream",
     "text": [
      "\n",
      "Metrics: {'train_loss': 0.02533252601356556, 'test_loss': 1.1253396774593152, 'bleu': 10.5716, 'gen_len': 10.7567}\n",
      "\n",
      "=============================\n",
      "\n"
     ]
    },
    {
     "name": "stderr",
     "output_type": "stream",
     "text": [
      " 16%|█▌        | 31/195 [34:30<2:54:16, 63.76s/it]"
     ]
    },
    {
     "name": "stdout",
     "output_type": "stream",
     "text": [
      "For epoch 37: \n",
      "{Learning rate: [0.002523568239595365]}\n"
     ]
    },
    {
     "name": "stderr",
     "output_type": "stream",
     "text": [
      "Train batch number 150: 100%|██████████| 150/150 [00:39<00:00,  3.79batches/s]\n",
      "Test batch number 19: 100%|██████████| 19/19 [00:20<00:00,  1.07s/batches]\n"
     ]
    },
    {
     "name": "stdout",
     "output_type": "stream",
     "text": [
      "\n",
      "Metrics: {'train_loss': 0.024259850053737562, 'test_loss': 1.1180305826036554, 'bleu': 10.7475, 'gen_len': 11.16}\n",
      "\n",
      "=============================\n",
      "\n"
     ]
    },
    {
     "name": "stderr",
     "output_type": "stream",
     "text": [
      " 16%|█▋        | 32/195 [35:33<2:52:54, 63.65s/it]"
     ]
    },
    {
     "name": "stdout",
     "output_type": "stream",
     "text": [
      "For epoch 38: \n",
      "{Learning rate: [0.0025204153032151212]}\n"
     ]
    },
    {
     "name": "stderr",
     "output_type": "stream",
     "text": [
      "Train batch number 150: 100%|██████████| 150/150 [00:39<00:00,  3.76batches/s]\n",
      "Test batch number 19: 100%|██████████| 19/19 [00:20<00:00,  1.07s/batches]\n"
     ]
    },
    {
     "name": "stdout",
     "output_type": "stream",
     "text": [
      "\n",
      "Metrics: {'train_loss': 0.023476553518945974, 'test_loss': 1.1328501356275458, 'bleu': 11.3233, 'gen_len': 11.0533}\n",
      "\n",
      "=============================\n",
      "\n"
     ]
    },
    {
     "name": "stderr",
     "output_type": "stream",
     "text": [
      " 17%|█▋        | 33/195 [36:37<2:52:04, 63.73s/it]"
     ]
    },
    {
     "name": "stdout",
     "output_type": "stream",
     "text": [
      "For epoch 39: \n",
      "{Learning rate: [0.0025172623668348777]}\n"
     ]
    },
    {
     "name": "stderr",
     "output_type": "stream",
     "text": [
      "Train batch number 150: 100%|██████████| 150/150 [00:40<00:00,  3.74batches/s]\n",
      "Test batch number 19: 100%|██████████| 19/19 [00:20<00:00,  1.07s/batches]\n"
     ]
    },
    {
     "name": "stdout",
     "output_type": "stream",
     "text": [
      "\n",
      "Metrics: {'train_loss': 0.02232421347250541, 'test_loss': 1.1235749941123159, 'bleu': 11.4702, 'gen_len': 11.35}\n",
      "\n",
      "=============================\n",
      "\n"
     ]
    },
    {
     "name": "stderr",
     "output_type": "stream",
     "text": [
      " 17%|█▋        | 34/195 [37:44<2:53:17, 64.58s/it]"
     ]
    },
    {
     "name": "stdout",
     "output_type": "stream",
     "text": [
      "For epoch 40: \n",
      "{Learning rate: [0.002514109430454634]}\n"
     ]
    },
    {
     "name": "stderr",
     "output_type": "stream",
     "text": [
      "Train batch number 150: 100%|██████████| 150/150 [00:39<00:00,  3.76batches/s]\n",
      "Test batch number 19: 100%|██████████| 19/19 [00:20<00:00,  1.07s/batches]\n"
     ]
    },
    {
     "name": "stdout",
     "output_type": "stream",
     "text": [
      "\n",
      "Metrics: {'train_loss': 0.021174594337741534, 'test_loss': 1.1516106411030418, 'bleu': 11.0798, 'gen_len': 9.97}\n",
      "\n",
      "=============================\n",
      "\n"
     ]
    },
    {
     "name": "stderr",
     "output_type": "stream",
     "text": [
      " 18%|█▊        | 35/195 [38:47<2:51:23, 64.27s/it]"
     ]
    },
    {
     "name": "stdout",
     "output_type": "stream",
     "text": [
      "For epoch 41: \n",
      "{Learning rate: [0.00251095649407439]}\n"
     ]
    },
    {
     "name": "stderr",
     "output_type": "stream",
     "text": [
      "Train batch number 150: 100%|██████████| 150/150 [00:40<00:00,  3.73batches/s]\n",
      "Test batch number 19: 100%|██████████| 19/19 [00:20<00:00,  1.06s/batches]\n"
     ]
    },
    {
     "name": "stdout",
     "output_type": "stream",
     "text": [
      "\n",
      "Metrics: {'train_loss': 0.021467730396737654, 'test_loss': 1.1252818923247487, 'bleu': 10.7881, 'gen_len': 10.5633}\n",
      "\n",
      "=============================\n",
      "\n"
     ]
    },
    {
     "name": "stderr",
     "output_type": "stream",
     "text": [
      " 18%|█▊        | 36/195 [39:51<2:50:05, 64.18s/it]"
     ]
    },
    {
     "name": "stdout",
     "output_type": "stream",
     "text": [
      "For epoch 42: \n",
      "{Learning rate: [0.0025078035576941464]}\n"
     ]
    },
    {
     "name": "stderr",
     "output_type": "stream",
     "text": [
      "Train batch number 150: 100%|██████████| 150/150 [00:39<00:00,  3.76batches/s]\n",
      "Test batch number 19: 100%|██████████| 19/19 [00:20<00:00,  1.07s/batches]\n"
     ]
    },
    {
     "name": "stdout",
     "output_type": "stream",
     "text": [
      "\n",
      "Metrics: {'train_loss': 0.021614579781889916, 'test_loss': 1.1319666191151267, 'bleu': 11.7183, 'gen_len': 11.71}\n",
      "\n",
      "=============================\n",
      "\n"
     ]
    },
    {
     "name": "stderr",
     "output_type": "stream",
     "text": [
      " 19%|█▉        | 37/195 [40:57<2:50:02, 64.57s/it]"
     ]
    },
    {
     "name": "stdout",
     "output_type": "stream",
     "text": [
      "For epoch 43: \n",
      "{Learning rate: [0.0025046506213139024]}\n"
     ]
    },
    {
     "name": "stderr",
     "output_type": "stream",
     "text": [
      "Train batch number 150: 100%|██████████| 150/150 [00:39<00:00,  3.77batches/s]\n",
      "Test batch number 19: 100%|██████████| 19/19 [00:20<00:00,  1.07s/batches]\n"
     ]
    },
    {
     "name": "stdout",
     "output_type": "stream",
     "text": [
      "\n",
      "Metrics: {'train_loss': 0.019499807537843784, 'test_loss': 1.1583430923913653, 'bleu': 11.7284, 'gen_len': 10.64}\n",
      "\n",
      "=============================\n",
      "\n"
     ]
    },
    {
     "name": "stderr",
     "output_type": "stream",
     "text": [
      " 19%|█▉        | 38/195 [42:02<2:49:43, 64.86s/it]"
     ]
    },
    {
     "name": "stdout",
     "output_type": "stream",
     "text": [
      "For epoch 44: \n",
      "{Learning rate: [0.0025014976849336585]}\n"
     ]
    },
    {
     "name": "stderr",
     "output_type": "stream",
     "text": [
      "Train batch number 150: 100%|██████████| 150/150 [00:39<00:00,  3.77batches/s]\n",
      "Test batch number 19: 100%|██████████| 19/19 [00:21<00:00,  1.13s/batches]\n"
     ]
    },
    {
     "name": "stdout",
     "output_type": "stream",
     "text": [
      "\n",
      "Metrics: {'train_loss': 0.02051053782304128, 'test_loss': 1.1545486512937044, 'bleu': 9.9007, 'gen_len': 10.5867}\n",
      "\n",
      "=============================\n",
      "\n"
     ]
    },
    {
     "name": "stderr",
     "output_type": "stream",
     "text": [
      " 20%|██        | 39/195 [43:07<2:48:38, 64.86s/it]"
     ]
    },
    {
     "name": "stdout",
     "output_type": "stream",
     "text": [
      "For epoch 45: \n",
      "{Learning rate: [0.002498344748553415]}\n"
     ]
    },
    {
     "name": "stderr",
     "output_type": "stream",
     "text": [
      "Train batch number 150: 100%|██████████| 150/150 [00:39<00:00,  3.77batches/s]\n",
      "Test batch number 19: 100%|██████████| 19/19 [00:20<00:00,  1.06s/batches]\n"
     ]
    },
    {
     "name": "stdout",
     "output_type": "stream",
     "text": [
      "\n",
      "Metrics: {'train_loss': 0.018966904119588436, 'test_loss': 1.1561194501425092, 'bleu': 10.3834, 'gen_len': 10.7}\n",
      "\n",
      "=============================\n",
      "\n"
     ]
    },
    {
     "name": "stderr",
     "output_type": "stream",
     "text": [
      " 21%|██        | 40/195 [44:10<2:46:29, 64.45s/it]"
     ]
    },
    {
     "name": "stdout",
     "output_type": "stream",
     "text": [
      "For epoch 46: \n",
      "{Learning rate: [0.002495191812173171]}\n"
     ]
    },
    {
     "name": "stderr",
     "output_type": "stream",
     "text": [
      "Train batch number 150: 100%|██████████| 150/150 [00:39<00:00,  3.76batches/s]\n",
      "Test batch number 19: 100%|██████████| 19/19 [00:20<00:00,  1.07s/batches]\n"
     ]
    },
    {
     "name": "stdout",
     "output_type": "stream",
     "text": [
      "\n",
      "Metrics: {'train_loss': 0.018372181036199132, 'test_loss': 1.1403458683114303, 'bleu': 11.2571, 'gen_len': 10.7533}\n",
      "\n",
      "=============================\n",
      "\n"
     ]
    },
    {
     "name": "stderr",
     "output_type": "stream",
     "text": [
      " 21%|██        | 41/195 [45:15<2:45:22, 64.43s/it]"
     ]
    },
    {
     "name": "stdout",
     "output_type": "stream",
     "text": [
      "For epoch 47: \n",
      "{Learning rate: [0.002492038875792927]}\n"
     ]
    },
    {
     "name": "stderr",
     "output_type": "stream",
     "text": [
      "Train batch number 150: 100%|██████████| 150/150 [00:40<00:00,  3.74batches/s]\n",
      "Test batch number 19: 100%|██████████| 19/19 [00:20<00:00,  1.07s/batches]\n"
     ]
    },
    {
     "name": "stdout",
     "output_type": "stream",
     "text": [
      "\n",
      "Metrics: {'train_loss': 0.01802574022983511, 'test_loss': 1.1610046154574345, 'bleu': 11.667, 'gen_len': 10.6133}\n",
      "\n",
      "=============================\n",
      "\n"
     ]
    },
    {
     "name": "stderr",
     "output_type": "stream",
     "text": [
      " 22%|██▏       | 42/195 [46:19<2:44:07, 64.36s/it]"
     ]
    },
    {
     "name": "stdout",
     "output_type": "stream",
     "text": [
      "For epoch 48: \n",
      "{Learning rate: [0.0024888859394126836]}\n"
     ]
    },
    {
     "name": "stderr",
     "output_type": "stream",
     "text": [
      "Train batch number 150: 100%|██████████| 150/150 [00:39<00:00,  3.79batches/s]\n",
      "Test batch number 19: 100%|██████████| 19/19 [00:20<00:00,  1.08s/batches]\n"
     ]
    },
    {
     "name": "stdout",
     "output_type": "stream",
     "text": [
      "\n",
      "Metrics: {'train_loss': 0.016963010863400997, 'test_loss': 1.1587393942632174, 'bleu': 10.7183, 'gen_len': 10.9367}\n",
      "\n",
      "=============================\n",
      "\n"
     ]
    },
    {
     "name": "stderr",
     "output_type": "stream",
     "text": [
      " 22%|██▏       | 43/195 [47:23<2:42:38, 64.20s/it]"
     ]
    },
    {
     "name": "stdout",
     "output_type": "stream",
     "text": [
      "For epoch 49: \n",
      "{Learning rate: [0.0024857330030324397]}\n"
     ]
    },
    {
     "name": "stderr",
     "output_type": "stream",
     "text": [
      "Train batch number 150: 100%|██████████| 150/150 [00:39<00:00,  3.79batches/s]\n",
      "Test batch number 19: 100%|██████████| 19/19 [00:20<00:00,  1.09s/batches]\n"
     ]
    },
    {
     "name": "stdout",
     "output_type": "stream",
     "text": [
      "\n",
      "Metrics: {'train_loss': 0.01659902528859675, 'test_loss': 1.1516881961571543, 'bleu': 11.8106, 'gen_len': 10.7167}\n",
      "\n",
      "=============================\n",
      "\n"
     ]
    },
    {
     "name": "stderr",
     "output_type": "stream",
     "text": [
      " 23%|██▎       | 44/195 [48:28<2:42:37, 64.62s/it]"
     ]
    },
    {
     "name": "stdout",
     "output_type": "stream",
     "text": [
      "For epoch 50: \n",
      "{Learning rate: [0.002482580066652196]}\n"
     ]
    },
    {
     "name": "stderr",
     "output_type": "stream",
     "text": [
      "Train batch number 150: 100%|██████████| 150/150 [00:39<00:00,  3.77batches/s]\n",
      "Test batch number 19: 100%|██████████| 19/19 [00:20<00:00,  1.10s/batches]\n"
     ]
    },
    {
     "name": "stdout",
     "output_type": "stream",
     "text": [
      "\n",
      "Metrics: {'train_loss': 0.01650007667640845, 'test_loss': 1.147690829477812, 'bleu': 10.8796, 'gen_len': 11.1833}\n",
      "\n",
      "=============================\n",
      "\n"
     ]
    },
    {
     "name": "stderr",
     "output_type": "stream",
     "text": [
      " 23%|██▎       | 45/195 [49:33<2:41:11, 64.48s/it]"
     ]
    },
    {
     "name": "stdout",
     "output_type": "stream",
     "text": [
      "For epoch 51: \n",
      "{Learning rate: [0.0024794271302719523]}\n"
     ]
    },
    {
     "name": "stderr",
     "output_type": "stream",
     "text": [
      "Train batch number 150: 100%|██████████| 150/150 [00:39<00:00,  3.79batches/s]\n",
      "Test batch number 19: 100%|██████████| 19/19 [00:20<00:00,  1.09s/batches]\n"
     ]
    },
    {
     "name": "stdout",
     "output_type": "stream",
     "text": [
      "\n",
      "Metrics: {'train_loss': 0.01547016374922047, 'test_loss': 1.1302330023364018, 'bleu': 10.7472, 'gen_len': 11.1433}\n",
      "\n",
      "=============================\n",
      "\n"
     ]
    },
    {
     "name": "stderr",
     "output_type": "stream",
     "text": [
      " 24%|██▎       | 46/195 [50:36<2:39:31, 64.24s/it]"
     ]
    },
    {
     "name": "stdout",
     "output_type": "stream",
     "text": [
      "For epoch 52: \n",
      "{Learning rate: [0.0024762741938917088]}\n"
     ]
    },
    {
     "name": "stderr",
     "output_type": "stream",
     "text": [
      "Train batch number 150: 100%|██████████| 150/150 [00:39<00:00,  3.78batches/s]\n",
      "Test batch number 19: 100%|██████████| 19/19 [00:20<00:00,  1.10s/batches]\n"
     ]
    },
    {
     "name": "stdout",
     "output_type": "stream",
     "text": [
      "\n",
      "Metrics: {'train_loss': 0.01655747069666783, 'test_loss': 1.1468918041179055, 'bleu': 11.7341, 'gen_len': 10.8667}\n",
      "\n",
      "=============================\n",
      "\n"
     ]
    },
    {
     "name": "stderr",
     "output_type": "stream",
     "text": [
      " 24%|██▍       | 47/195 [51:40<2:38:16, 64.16s/it]"
     ]
    },
    {
     "name": "stdout",
     "output_type": "stream",
     "text": [
      "For epoch 53: \n",
      "{Learning rate: [0.002473121257511465]}\n"
     ]
    },
    {
     "name": "stderr",
     "output_type": "stream",
     "text": [
      "Train batch number 150: 100%|██████████| 150/150 [00:40<00:00,  3.73batches/s]\n",
      "Test batch number 19: 100%|██████████| 19/19 [00:20<00:00,  1.09s/batches]\n"
     ]
    },
    {
     "name": "stdout",
     "output_type": "stream",
     "text": [
      "\n",
      "Metrics: {'train_loss': 0.015532053735417625, 'test_loss': 1.166519089748985, 'bleu': 11.6512, 'gen_len': 10.8533}\n",
      "\n",
      "=============================\n",
      "\n"
     ]
    },
    {
     "name": "stderr",
     "output_type": "stream",
     "text": [
      " 25%|██▍       | 48/195 [52:45<2:37:25, 64.26s/it]"
     ]
    },
    {
     "name": "stdout",
     "output_type": "stream",
     "text": [
      "For epoch 54: \n",
      "{Learning rate: [0.0024699683211312213]}\n"
     ]
    },
    {
     "name": "stderr",
     "output_type": "stream",
     "text": [
      "Train batch number 150: 100%|██████████| 150/150 [00:40<00:00,  3.71batches/s]\n",
      "Test batch number 19: 100%|██████████| 19/19 [00:20<00:00,  1.09s/batches]\n"
     ]
    },
    {
     "name": "stdout",
     "output_type": "stream",
     "text": [
      "\n",
      "Metrics: {'train_loss': 0.015586846174361806, 'test_loss': 1.146834815803327, 'bleu': 10.8842, 'gen_len': 10.91}\n",
      "\n",
      "=============================\n",
      "\n"
     ]
    },
    {
     "name": "stderr",
     "output_type": "stream",
     "text": [
      " 25%|██▌       | 49/195 [53:49<2:36:39, 64.38s/it]"
     ]
    },
    {
     "name": "stdout",
     "output_type": "stream",
     "text": [
      "For epoch 55: \n",
      "{Learning rate: [0.0024668153847509774]}\n"
     ]
    },
    {
     "name": "stderr",
     "output_type": "stream",
     "text": [
      "Train batch number 150: 100%|██████████| 150/150 [00:40<00:00,  3.73batches/s]\n",
      "Test batch number 19: 100%|██████████| 19/19 [00:20<00:00,  1.08s/batches]\n"
     ]
    },
    {
     "name": "stdout",
     "output_type": "stream",
     "text": [
      "\n",
      "Metrics: {'train_loss': 0.014569890351655583, 'test_loss': 1.1442003187380339, 'bleu': 11.4698, 'gen_len': 10.51}\n",
      "\n",
      "=============================\n",
      "\n"
     ]
    },
    {
     "name": "stderr",
     "output_type": "stream",
     "text": [
      " 26%|██▌       | 50/195 [54:54<2:35:36, 64.39s/it]"
     ]
    },
    {
     "name": "stdout",
     "output_type": "stream",
     "text": [
      "For epoch 56: \n",
      "{Learning rate: [0.0024636624483707335]}\n"
     ]
    },
    {
     "name": "stderr",
     "output_type": "stream",
     "text": [
      "Train batch number 150: 100%|██████████| 150/150 [00:39<00:00,  3.79batches/s]\n",
      "Test batch number 19: 100%|██████████| 19/19 [00:20<00:00,  1.08s/batches]\n"
     ]
    },
    {
     "name": "stdout",
     "output_type": "stream",
     "text": [
      "\n",
      "Metrics: {'train_loss': 0.013954853410832585, 'test_loss': 1.158328072020882, 'bleu': 10.848, 'gen_len': 10.5333}\n",
      "\n",
      "=============================\n",
      "\n"
     ]
    },
    {
     "name": "stderr",
     "output_type": "stream",
     "text": [
      " 26%|██▌       | 51/195 [55:58<2:34:02, 64.18s/it]"
     ]
    },
    {
     "name": "stdout",
     "output_type": "stream",
     "text": [
      "For epoch 57: \n",
      "{Learning rate: [0.00246050951199049]}\n"
     ]
    },
    {
     "name": "stderr",
     "output_type": "stream",
     "text": [
      "Train batch number 150: 100%|██████████| 150/150 [00:40<00:00,  3.75batches/s]\n",
      "Test batch number 19: 100%|██████████| 19/19 [00:20<00:00,  1.09s/batches]\n"
     ]
    },
    {
     "name": "stdout",
     "output_type": "stream",
     "text": [
      "\n",
      "Metrics: {'train_loss': 0.013986898132910331, 'test_loss': 1.150602124239269, 'bleu': 10.6015, 'gen_len': 10.56}\n",
      "\n",
      "=============================\n",
      "\n"
     ]
    },
    {
     "name": "stderr",
     "output_type": "stream",
     "text": [
      " 27%|██▋       | 52/195 [57:02<2:33:01, 64.20s/it]"
     ]
    },
    {
     "name": "stdout",
     "output_type": "stream",
     "text": [
      "For epoch 58: \n",
      "{Learning rate: [0.002457356575610246]}\n"
     ]
    },
    {
     "name": "stderr",
     "output_type": "stream",
     "text": [
      "Train batch number 150: 100%|██████████| 150/150 [00:39<00:00,  3.79batches/s]\n",
      "Test batch number 19: 100%|██████████| 19/19 [00:20<00:00,  1.08s/batches]\n"
     ]
    },
    {
     "name": "stdout",
     "output_type": "stream",
     "text": [
      "\n",
      "Metrics: {'train_loss': 0.01475069194721679, 'test_loss': 1.16114447305077, 'bleu': 10.1859, 'gen_len': 10.5}\n",
      "\n",
      "=============================\n",
      "\n"
     ]
    },
    {
     "name": "stderr",
     "output_type": "stream",
     "text": [
      " 27%|██▋       | 53/195 [58:05<2:31:35, 64.05s/it]"
     ]
    },
    {
     "name": "stdout",
     "output_type": "stream",
     "text": [
      "For epoch 59: \n",
      "{Learning rate: [0.0024542036392300026]}\n"
     ]
    },
    {
     "name": "stderr",
     "output_type": "stream",
     "text": [
      "Train batch number 150: 100%|██████████| 150/150 [00:42<00:00,  3.56batches/s]\n",
      "Test batch number 19: 100%|██████████| 19/19 [00:26<00:00,  1.40s/batches]\n"
     ]
    },
    {
     "name": "stdout",
     "output_type": "stream",
     "text": [
      "\n",
      "Metrics: {'train_loss': 0.01343620435645183, 'test_loss': 1.1698212686337923, 'bleu': 10.6206, 'gen_len': 10.5167}\n",
      "\n",
      "=============================\n",
      "\n"
     ]
    },
    {
     "name": "stderr",
     "output_type": "stream",
     "text": [
      " 28%|██▊       | 54/195 [59:18<2:36:36, 66.64s/it]"
     ]
    },
    {
     "name": "stdout",
     "output_type": "stream",
     "text": [
      "For epoch 60: \n",
      "{Learning rate: [0.0024510507028497586]}\n"
     ]
    },
    {
     "name": "stderr",
     "output_type": "stream",
     "text": [
      "Train batch number 150: 100%|██████████| 150/150 [00:44<00:00,  3.40batches/s]\n",
      "Test batch number 19: 100%|██████████| 19/19 [00:24<00:00,  1.26s/batches]\n"
     ]
    },
    {
     "name": "stdout",
     "output_type": "stream",
     "text": [
      "\n",
      "Metrics: {'train_loss': 0.0125902202197661, 'test_loss': 1.1543271102403339, 'bleu': 10.9624, 'gen_len': 11.1367}\n",
      "\n",
      "=============================\n",
      "\n"
     ]
    },
    {
     "name": "stderr",
     "output_type": "stream",
     "text": [
      " 28%|██▊       | 55/195 [1:00:31<2:39:29, 68.35s/it]"
     ]
    },
    {
     "name": "stdout",
     "output_type": "stream",
     "text": [
      "For epoch 61: \n",
      "{Learning rate: [0.002447897766469515]}\n"
     ]
    },
    {
     "name": "stderr",
     "output_type": "stream",
     "text": [
      "Train batch number 150: 100%|██████████| 150/150 [00:45<00:00,  3.32batches/s]\n",
      "Test batch number 19: 100%|██████████| 19/19 [00:21<00:00,  1.15s/batches]\n"
     ]
    },
    {
     "name": "stdout",
     "output_type": "stream",
     "text": [
      "\n",
      "Metrics: {'train_loss': 0.013749002342422803, 'test_loss': 1.1687641457507485, 'bleu': 10.1703, 'gen_len': 11.0633}\n",
      "\n",
      "=============================\n",
      "\n"
     ]
    },
    {
     "name": "stderr",
     "output_type": "stream",
     "text": [
      " 29%|██▊       | 56/195 [1:01:41<2:40:09, 69.13s/it]"
     ]
    },
    {
     "name": "stdout",
     "output_type": "stream",
     "text": [
      "For epoch 62: \n",
      "{Learning rate: [0.002444744830089271]}\n"
     ]
    },
    {
     "name": "stderr",
     "output_type": "stream",
     "text": [
      "Train batch number 150: 100%|██████████| 150/150 [00:42<00:00,  3.54batches/s]\n",
      "Test batch number 19: 100%|██████████| 19/19 [00:22<00:00,  1.16s/batches]\n"
     ]
    },
    {
     "name": "stdout",
     "output_type": "stream",
     "text": [
      "\n",
      "Metrics: {'train_loss': 0.012596695541093746, 'test_loss': 1.1632747838371678, 'bleu': 11.0677, 'gen_len': 10.63}\n",
      "\n",
      "=============================\n",
      "\n"
     ]
    },
    {
     "name": "stderr",
     "output_type": "stream",
     "text": [
      " 29%|██▉       | 57/195 [1:02:50<2:38:18, 68.83s/it]"
     ]
    },
    {
     "name": "stdout",
     "output_type": "stream",
     "text": [
      "For epoch 63: \n",
      "{Learning rate: [0.0024415918937090277]}\n"
     ]
    },
    {
     "name": "stderr",
     "output_type": "stream",
     "text": [
      "Train batch number 150: 100%|██████████| 150/150 [00:43<00:00,  3.47batches/s]\n",
      "Test batch number 19: 100%|██████████| 19/19 [00:22<00:00,  1.17s/batches]\n"
     ]
    },
    {
     "name": "stdout",
     "output_type": "stream",
     "text": [
      "\n",
      "Metrics: {'train_loss': 0.013412668374367059, 'test_loss': 1.160913059585973, 'bleu': 10.7436, 'gen_len': 10.8967}\n",
      "\n",
      "=============================\n",
      "\n"
     ]
    },
    {
     "name": "stderr",
     "output_type": "stream",
     "text": [
      " 30%|██▉       | 58/195 [1:03:59<2:37:18, 68.90s/it]"
     ]
    },
    {
     "name": "stdout",
     "output_type": "stream",
     "text": [
      "For epoch 64: \n",
      "{Learning rate: [0.0024384389573287838]}\n"
     ]
    },
    {
     "name": "stderr",
     "output_type": "stream",
     "text": [
      "Train batch number 150: 100%|██████████| 150/150 [00:40<00:00,  3.68batches/s]\n",
      "Test batch number 19: 100%|██████████| 19/19 [00:23<00:00,  1.23s/batches]\n"
     ]
    },
    {
     "name": "stdout",
     "output_type": "stream",
     "text": [
      "\n",
      "Metrics: {'train_loss': 0.011891930450995764, 'test_loss': 1.1768925315455387, 'bleu': 11.5459, 'gen_len': 10.5533}\n",
      "\n",
      "=============================\n",
      "\n"
     ]
    },
    {
     "name": "stderr",
     "output_type": "stream",
     "text": [
      " 30%|███       | 59/195 [1:05:06<2:35:25, 68.57s/it]"
     ]
    },
    {
     "name": "stdout",
     "output_type": "stream",
     "text": [
      "For epoch 65: \n",
      "{Learning rate: [0.00243528602094854]}\n"
     ]
    },
    {
     "name": "stderr",
     "output_type": "stream",
     "text": [
      "Train batch number 150: 100%|██████████| 150/150 [00:40<00:00,  3.73batches/s]\n",
      "Test batch number 19: 100%|██████████| 19/19 [00:20<00:00,  1.08s/batches]\n"
     ]
    },
    {
     "name": "stdout",
     "output_type": "stream",
     "text": [
      "\n",
      "Metrics: {'train_loss': 0.012351606156056126, 'test_loss': 1.1624691204020852, 'bleu': 9.5097, 'gen_len': 11.7333}\n",
      "\n",
      "=============================\n",
      "\n"
     ]
    },
    {
     "name": "stderr",
     "output_type": "stream",
     "text": [
      " 31%|███       | 60/195 [1:06:11<2:31:30, 67.33s/it]"
     ]
    },
    {
     "name": "stdout",
     "output_type": "stream",
     "text": [
      "For epoch 66: \n",
      "{Learning rate: [0.0024321330845682963]}\n"
     ]
    },
    {
     "name": "stderr",
     "output_type": "stream",
     "text": [
      "Train batch number 150: 100%|██████████| 150/150 [00:40<00:00,  3.75batches/s]\n",
      "Test batch number 19: 100%|██████████| 19/19 [00:22<00:00,  1.16s/batches]\n"
     ]
    },
    {
     "name": "stdout",
     "output_type": "stream",
     "text": [
      "\n",
      "Metrics: {'train_loss': 0.011685879672877491, 'test_loss': 1.150019297474309, 'bleu': 10.6481, 'gen_len': 11.24}\n",
      "\n",
      "=============================\n",
      "\n"
     ]
    },
    {
     "name": "stderr",
     "output_type": "stream",
     "text": [
      " 31%|███▏      | 61/195 [1:07:17<2:29:16, 66.84s/it]"
     ]
    },
    {
     "name": "stdout",
     "output_type": "stream",
     "text": [
      "For epoch 67: \n",
      "{Learning rate: [0.0024289801481880524]}\n"
     ]
    },
    {
     "name": "stderr",
     "output_type": "stream",
     "text": [
      "Train batch number 150: 100%|██████████| 150/150 [00:40<00:00,  3.73batches/s]\n",
      "Test batch number 19: 100%|██████████| 19/19 [00:21<00:00,  1.11s/batches]\n"
     ]
    },
    {
     "name": "stdout",
     "output_type": "stream",
     "text": [
      "\n",
      "Metrics: {'train_loss': 0.010778508541795115, 'test_loss': 1.1791680455207825, 'bleu': 11.3266, 'gen_len': 10.69}\n",
      "\n",
      "=============================\n",
      "\n"
     ]
    },
    {
     "name": "stderr",
     "output_type": "stream",
     "text": [
      " 32%|███▏      | 62/195 [1:08:22<2:26:59, 66.31s/it]"
     ]
    },
    {
     "name": "stdout",
     "output_type": "stream",
     "text": [
      "For epoch 68: \n",
      "{Learning rate: [0.0024258272118078085]}\n"
     ]
    },
    {
     "name": "stderr",
     "output_type": "stream",
     "text": [
      "Train batch number 150: 100%|██████████| 150/150 [00:39<00:00,  3.75batches/s]\n",
      "Test batch number 19: 100%|██████████| 19/19 [00:21<00:00,  1.13s/batches]\n"
     ]
    },
    {
     "name": "stdout",
     "output_type": "stream",
     "text": [
      "\n",
      "Metrics: {'train_loss': 0.011462423495637874, 'test_loss': 1.1570715590527183, 'bleu': 11.1731, 'gen_len': 10.7767}\n",
      "\n",
      "=============================\n",
      "\n"
     ]
    },
    {
     "name": "stderr",
     "output_type": "stream",
     "text": [
      " 32%|███▏      | 63/195 [1:09:27<2:25:07, 65.96s/it]"
     ]
    },
    {
     "name": "stdout",
     "output_type": "stream",
     "text": [
      "For epoch 69: \n",
      "{Learning rate: [0.002422674275427565]}\n"
     ]
    },
    {
     "name": "stderr",
     "output_type": "stream",
     "text": [
      "Train batch number 150: 100%|██████████| 150/150 [00:39<00:00,  3.75batches/s]\n",
      "Test batch number 19: 100%|██████████| 19/19 [00:21<00:00,  1.13s/batches]\n"
     ]
    },
    {
     "name": "stdout",
     "output_type": "stream",
     "text": [
      "\n",
      "Metrics: {'train_loss': 0.010684232788626104, 'test_loss': 1.160408798017, 'bleu': 10.5995, 'gen_len': 10.61}\n",
      "\n",
      "=============================\n",
      "\n"
     ]
    },
    {
     "name": "stderr",
     "output_type": "stream",
     "text": [
      " 33%|███▎      | 64/195 [1:10:33<2:23:57, 65.94s/it]"
     ]
    },
    {
     "name": "stdout",
     "output_type": "stream",
     "text": [
      "For epoch 70: \n",
      "{Learning rate: [0.002419521339047321]}\n"
     ]
    },
    {
     "name": "stderr",
     "output_type": "stream",
     "text": [
      "Train batch number 150: 100%|██████████| 150/150 [00:39<00:00,  3.77batches/s]\n",
      "Test batch number 19: 100%|██████████| 19/19 [00:20<00:00,  1.09s/batches]\n"
     ]
    },
    {
     "name": "stdout",
     "output_type": "stream",
     "text": [
      "\n",
      "Metrics: {'train_loss': 0.011732700995635241, 'test_loss': 1.14018525261628, 'bleu': 10.4614, 'gen_len': 10.88}\n",
      "\n",
      "=============================\n",
      "\n"
     ]
    },
    {
     "name": "stderr",
     "output_type": "stream",
     "text": [
      " 33%|███▎      | 65/195 [1:11:37<2:21:44, 65.42s/it]"
     ]
    },
    {
     "name": "stdout",
     "output_type": "stream",
     "text": [
      "For epoch 71: \n",
      "{Learning rate: [0.002416368402667077]}\n"
     ]
    },
    {
     "name": "stderr",
     "output_type": "stream",
     "text": [
      "Train batch number 150: 100%|██████████| 150/150 [00:40<00:00,  3.73batches/s]\n",
      "Test batch number 19: 100%|██████████| 19/19 [00:20<00:00,  1.09s/batches]\n"
     ]
    },
    {
     "name": "stdout",
     "output_type": "stream",
     "text": [
      "\n",
      "Metrics: {'train_loss': 0.010868048456031829, 'test_loss': 1.1550307430719073, 'bleu': 10.705, 'gen_len': 10.67}\n",
      "\n",
      "=============================\n",
      "\n"
     ]
    },
    {
     "name": "stderr",
     "output_type": "stream",
     "text": [
      " 34%|███▍      | 66/195 [1:12:42<2:20:15, 65.24s/it]"
     ]
    },
    {
     "name": "stdout",
     "output_type": "stream",
     "text": [
      "For epoch 72: \n",
      "{Learning rate: [0.0024132154662868336]}\n"
     ]
    },
    {
     "name": "stderr",
     "output_type": "stream",
     "text": [
      "Train batch number 150: 100%|██████████| 150/150 [00:40<00:00,  3.69batches/s]\n",
      "Test batch number 19: 100%|██████████| 19/19 [00:20<00:00,  1.09s/batches]\n"
     ]
    },
    {
     "name": "stdout",
     "output_type": "stream",
     "text": [
      "\n",
      "Metrics: {'train_loss': 0.010219779414280008, 'test_loss': 1.1574428771671497, 'bleu': 10.9773, 'gen_len': 11.29}\n",
      "\n",
      "=============================\n",
      "\n"
     ]
    },
    {
     "name": "stderr",
     "output_type": "stream",
     "text": [
      " 34%|███▍      | 67/195 [1:13:48<2:19:36, 65.44s/it]"
     ]
    },
    {
     "name": "stdout",
     "output_type": "stream",
     "text": [
      "For epoch 73: \n",
      "{Learning rate: [0.0024100625299065897]}\n"
     ]
    },
    {
     "name": "stderr",
     "output_type": "stream",
     "text": [
      "Train batch number 150: 100%|██████████| 150/150 [00:40<00:00,  3.74batches/s]\n",
      "Test batch number 19: 100%|██████████| 19/19 [00:20<00:00,  1.08s/batches]\n"
     ]
    },
    {
     "name": "stdout",
     "output_type": "stream",
     "text": [
      "\n",
      "Metrics: {'train_loss': 0.009798434356537959, 'test_loss': 1.1590632545320612, 'bleu': 10.7006, 'gen_len': 10.32}\n",
      "\n",
      "=============================\n",
      "\n"
     ]
    },
    {
     "name": "stderr",
     "output_type": "stream",
     "text": [
      " 35%|███▍      | 68/195 [1:14:52<2:17:52, 65.14s/it]"
     ]
    },
    {
     "name": "stdout",
     "output_type": "stream",
     "text": [
      "For epoch 74: \n",
      "{Learning rate: [0.002406909593526346]}\n"
     ]
    },
    {
     "name": "stderr",
     "output_type": "stream",
     "text": [
      "Train batch number 150: 100%|██████████| 150/150 [00:39<00:00,  3.76batches/s]\n",
      "Test batch number 19: 100%|██████████| 19/19 [00:20<00:00,  1.10s/batches]\n"
     ]
    },
    {
     "name": "stdout",
     "output_type": "stream",
     "text": [
      "\n",
      "Metrics: {'train_loss': 0.010074685578389714, 'test_loss': 1.1601256351721914, 'bleu': 11.5738, 'gen_len': 10.96}\n",
      "\n",
      "=============================\n",
      "\n"
     ]
    },
    {
     "name": "stderr",
     "output_type": "stream",
     "text": [
      " 35%|███▌      | 69/195 [1:15:56<2:16:19, 64.92s/it]"
     ]
    },
    {
     "name": "stdout",
     "output_type": "stream",
     "text": [
      "For epoch 75: \n",
      "{Learning rate: [0.0024037566571461022]}\n"
     ]
    },
    {
     "name": "stderr",
     "output_type": "stream",
     "text": [
      "Train batch number 150: 100%|██████████| 150/150 [00:40<00:00,  3.73batches/s]\n",
      "Test batch number 19: 100%|██████████| 19/19 [00:20<00:00,  1.10s/batches]\n"
     ]
    },
    {
     "name": "stdout",
     "output_type": "stream",
     "text": [
      "\n",
      "Metrics: {'train_loss': 0.01036472868019094, 'test_loss': 1.1675419995659275, 'bleu': 11.2823, 'gen_len': 10.8}\n",
      "\n",
      "=============================\n",
      "\n"
     ]
    },
    {
     "name": "stderr",
     "output_type": "stream",
     "text": [
      " 36%|███▌      | 70/195 [1:17:01<2:15:04, 64.84s/it]"
     ]
    },
    {
     "name": "stdout",
     "output_type": "stream",
     "text": [
      "For epoch 76: \n",
      "{Learning rate: [0.0024006037207658583]}\n"
     ]
    },
    {
     "name": "stderr",
     "output_type": "stream",
     "text": [
      "Train batch number 150: 100%|██████████| 150/150 [00:40<00:00,  3.73batches/s]\n",
      "Test batch number 19: 100%|██████████| 19/19 [00:20<00:00,  1.10s/batches]\n"
     ]
    },
    {
     "name": "stdout",
     "output_type": "stream",
     "text": [
      "\n",
      "Metrics: {'train_loss': 0.00920873693889007, 'test_loss': 1.197280090106161, 'bleu': 10.4731, 'gen_len': 10.7}\n",
      "\n",
      "=============================\n",
      "\n"
     ]
    },
    {
     "name": "stderr",
     "output_type": "stream",
     "text": [
      " 36%|███▋      | 71/195 [1:18:06<2:13:49, 64.75s/it]"
     ]
    },
    {
     "name": "stdout",
     "output_type": "stream",
     "text": [
      "For epoch 77: \n",
      "{Learning rate: [0.002397450784385615]}\n"
     ]
    },
    {
     "name": "stderr",
     "output_type": "stream",
     "text": [
      "Train batch number 150: 100%|██████████| 150/150 [00:39<00:00,  3.77batches/s]\n",
      "Test batch number 19: 100%|██████████| 19/19 [00:20<00:00,  1.10s/batches]\n"
     ]
    },
    {
     "name": "stdout",
     "output_type": "stream",
     "text": [
      "\n",
      "Metrics: {'train_loss': 0.009628256810829043, 'test_loss': 1.1721723456131785, 'bleu': 11.5446, 'gen_len': 10.61}\n",
      "\n",
      "=============================\n",
      "\n"
     ]
    },
    {
     "name": "stderr",
     "output_type": "stream",
     "text": [
      " 37%|███▋      | 72/195 [1:19:10<2:12:23, 64.58s/it]"
     ]
    },
    {
     "name": "stdout",
     "output_type": "stream",
     "text": [
      "For epoch 78: \n",
      "{Learning rate: [0.002394297848005371]}\n"
     ]
    },
    {
     "name": "stderr",
     "output_type": "stream",
     "text": [
      "Train batch number 150: 100%|██████████| 150/150 [00:40<00:00,  3.73batches/s]\n",
      "Test batch number 19: 100%|██████████| 19/19 [00:20<00:00,  1.09s/batches]\n"
     ]
    },
    {
     "name": "stdout",
     "output_type": "stream",
     "text": [
      "\n",
      "Metrics: {'train_loss': 0.009903117617747436, 'test_loss': 1.1641270894753306, 'bleu': 8.9562, 'gen_len': 11.2333}\n",
      "\n",
      "=============================\n",
      "\n"
     ]
    },
    {
     "name": "stderr",
     "output_type": "stream",
     "text": [
      " 37%|███▋      | 73/195 [1:20:14<2:11:14, 64.55s/it]"
     ]
    },
    {
     "name": "stdout",
     "output_type": "stream",
     "text": [
      "For epoch 79: \n",
      "{Learning rate: [0.0023911449116251274]}\n"
     ]
    },
    {
     "name": "stderr",
     "output_type": "stream",
     "text": [
      "Train batch number 150: 100%|██████████| 150/150 [00:40<00:00,  3.74batches/s]\n",
      "Test batch number 19: 100%|██████████| 19/19 [00:21<00:00,  1.11s/batches]\n"
     ]
    },
    {
     "name": "stdout",
     "output_type": "stream",
     "text": [
      "\n",
      "Metrics: {'train_loss': 0.009692098883291086, 'test_loss': 1.191728911901775, 'bleu': 10.9376, 'gen_len': 10.4667}\n",
      "\n",
      "=============================\n",
      "\n"
     ]
    },
    {
     "name": "stderr",
     "output_type": "stream",
     "text": [
      " 38%|███▊      | 74/195 [1:21:19<2:10:21, 64.64s/it]"
     ]
    },
    {
     "name": "stdout",
     "output_type": "stream",
     "text": [
      "For epoch 80: \n",
      "{Learning rate: [0.0023879919752448834]}\n"
     ]
    },
    {
     "name": "stderr",
     "output_type": "stream",
     "text": [
      "Train batch number 150: 100%|██████████| 150/150 [00:40<00:00,  3.73batches/s]\n",
      "Test batch number 19: 100%|██████████| 19/19 [00:21<00:00,  1.11s/batches]\n"
     ]
    },
    {
     "name": "stdout",
     "output_type": "stream",
     "text": [
      "\n",
      "Metrics: {'train_loss': 0.009638036750257015, 'test_loss': 1.166968141731463, 'bleu': 10.4312, 'gen_len': 10.9033}\n",
      "\n",
      "=============================\n",
      "\n"
     ]
    },
    {
     "name": "stderr",
     "output_type": "stream",
     "text": [
      " 38%|███▊      | 75/195 [1:22:24<2:09:24, 64.71s/it]"
     ]
    },
    {
     "name": "stdout",
     "output_type": "stream",
     "text": [
      "For epoch 81: \n",
      "{Learning rate: [0.00238483903886464]}\n"
     ]
    },
    {
     "name": "stderr",
     "output_type": "stream",
     "text": [
      "Train batch number 150: 100%|██████████| 150/150 [00:40<00:00,  3.71batches/s]\n",
      "Test batch number 19: 100%|██████████| 19/19 [00:21<00:00,  1.11s/batches]\n"
     ]
    },
    {
     "name": "stdout",
     "output_type": "stream",
     "text": [
      "\n",
      "Metrics: {'train_loss': 0.00948576683178544, 'test_loss': 1.184767644656332, 'bleu': 10.6311, 'gen_len': 10.6333}\n",
      "\n",
      "=============================\n",
      "\n"
     ]
    },
    {
     "name": "stderr",
     "output_type": "stream",
     "text": [
      " 39%|███▉      | 76/195 [1:23:29<2:08:26, 64.76s/it]"
     ]
    },
    {
     "name": "stdout",
     "output_type": "stream",
     "text": [
      "For epoch 82: \n",
      "{Learning rate: [0.002381686102484396]}\n"
     ]
    },
    {
     "name": "stderr",
     "output_type": "stream",
     "text": [
      "Train batch number 150: 100%|██████████| 150/150 [00:40<00:00,  3.74batches/s]\n",
      "Test batch number 19: 100%|██████████| 19/19 [00:21<00:00,  1.12s/batches]\n"
     ]
    },
    {
     "name": "stdout",
     "output_type": "stream",
     "text": [
      "\n",
      "Metrics: {'train_loss': 0.008910992838597547, 'test_loss': 1.180103113776759, 'bleu': 11.2269, 'gen_len': 10.6533}\n",
      "\n",
      "=============================\n",
      "\n"
     ]
    },
    {
     "name": "stderr",
     "output_type": "stream",
     "text": [
      " 39%|███▉      | 77/195 [1:24:34<2:07:20, 64.75s/it]"
     ]
    },
    {
     "name": "stdout",
     "output_type": "stream",
     "text": [
      "For epoch 83: \n",
      "{Learning rate: [0.0023785331661041525]}\n"
     ]
    },
    {
     "name": "stderr",
     "output_type": "stream",
     "text": [
      "Train batch number 150: 100%|██████████| 150/150 [00:40<00:00,  3.75batches/s]\n",
      "Test batch number 19: 100%|██████████| 19/19 [00:20<00:00,  1.09s/batches]\n"
     ]
    },
    {
     "name": "stdout",
     "output_type": "stream",
     "text": [
      "\n",
      "Metrics: {'train_loss': 0.009141195719130336, 'test_loss': 1.1745068148562783, 'bleu': 10.1878, 'gen_len': 10.8633}\n",
      "\n",
      "=============================\n",
      "\n"
     ]
    },
    {
     "name": "stderr",
     "output_type": "stream",
     "text": [
      " 40%|████      | 78/195 [1:25:38<2:05:58, 64.61s/it]"
     ]
    },
    {
     "name": "stdout",
     "output_type": "stream",
     "text": [
      "For epoch 84: \n",
      "{Learning rate: [0.0023753802297239086]}\n"
     ]
    },
    {
     "name": "stderr",
     "output_type": "stream",
     "text": [
      "Train batch number 150: 100%|██████████| 150/150 [00:40<00:00,  3.69batches/s]\n",
      "Test batch number 19: 100%|██████████| 19/19 [00:20<00:00,  1.09s/batches]\n"
     ]
    },
    {
     "name": "stdout",
     "output_type": "stream",
     "text": [
      "\n",
      "Metrics: {'train_loss': 0.00910850015313675, 'test_loss': 1.1844451458830583, 'bleu': 10.545, 'gen_len': 10.6067}\n",
      "\n",
      "=============================\n",
      "\n"
     ]
    },
    {
     "name": "stderr",
     "output_type": "stream",
     "text": [
      " 41%|████      | 79/195 [1:26:43<2:05:03, 64.69s/it]"
     ]
    },
    {
     "name": "stdout",
     "output_type": "stream",
     "text": [
      "For epoch 85: \n",
      "{Learning rate: [0.0023722272933436647]}\n"
     ]
    },
    {
     "name": "stderr",
     "output_type": "stream",
     "text": [
      "Train batch number 150: 100%|██████████| 150/150 [00:40<00:00,  3.73batches/s]\n",
      "Test batch number 19: 100%|██████████| 19/19 [00:20<00:00,  1.08s/batches]\n"
     ]
    },
    {
     "name": "stdout",
     "output_type": "stream",
     "text": [
      "\n",
      "Metrics: {'train_loss': 0.00868157173623331, 'test_loss': 1.1815796651338275, 'bleu': 12.0874, 'gen_len': 10.87}\n",
      "\n",
      "=============================\n",
      "\n"
     ]
    },
    {
     "name": "stderr",
     "output_type": "stream",
     "text": [
      " 41%|████      | 80/195 [1:27:49<2:04:45, 65.09s/it]"
     ]
    },
    {
     "name": "stdout",
     "output_type": "stream",
     "text": [
      "For epoch 86: \n",
      "{Learning rate: [0.002369074356963421]}\n"
     ]
    },
    {
     "name": "stderr",
     "output_type": "stream",
     "text": [
      "Train batch number 150: 100%|██████████| 150/150 [00:39<00:00,  3.76batches/s]\n",
      "Test batch number 19: 100%|██████████| 19/19 [00:20<00:00,  1.08s/batches]\n"
     ]
    },
    {
     "name": "stdout",
     "output_type": "stream",
     "text": [
      "\n",
      "Metrics: {'train_loss': 0.008740048128335426, 'test_loss': 1.1726097244965403, 'bleu': 11.3589, 'gen_len': 11.6267}\n",
      "\n",
      "=============================\n",
      "\n"
     ]
    },
    {
     "name": "stderr",
     "output_type": "stream",
     "text": [
      " 42%|████▏     | 81/195 [1:28:53<2:02:58, 64.72s/it]"
     ]
    },
    {
     "name": "stdout",
     "output_type": "stream",
     "text": [
      "For epoch 87: \n",
      "{Learning rate: [0.0023659214205831772]}\n"
     ]
    },
    {
     "name": "stderr",
     "output_type": "stream",
     "text": [
      "Train batch number 150: 100%|██████████| 150/150 [00:39<00:00,  3.77batches/s]\n",
      "Test batch number 19: 100%|██████████| 19/19 [00:20<00:00,  1.09s/batches]\n"
     ]
    },
    {
     "name": "stdout",
     "output_type": "stream",
     "text": [
      "\n",
      "Metrics: {'train_loss': 0.008637317264219745, 'test_loss': 1.186289950420982, 'bleu': 11.3727, 'gen_len': 10.8133}\n",
      "\n",
      "=============================\n",
      "\n"
     ]
    },
    {
     "name": "stderr",
     "output_type": "stream",
     "text": [
      " 42%|████▏     | 82/195 [1:29:57<2:01:32, 64.54s/it]"
     ]
    },
    {
     "name": "stdout",
     "output_type": "stream",
     "text": [
      "For epoch 88: \n",
      "{Learning rate: [0.0023627684842029337]}\n"
     ]
    },
    {
     "name": "stderr",
     "output_type": "stream",
     "text": [
      "Train batch number 150: 100%|██████████| 150/150 [00:40<00:00,  3.71batches/s]\n",
      "Test batch number 19: 100%|██████████| 19/19 [00:20<00:00,  1.09s/batches]\n"
     ]
    },
    {
     "name": "stdout",
     "output_type": "stream",
     "text": [
      "\n",
      "Metrics: {'train_loss': 0.007842773851783325, 'test_loss': 1.1705541077413057, 'bleu': 11.2969, 'gen_len': 10.6567}\n",
      "\n",
      "=============================\n",
      "\n"
     ]
    },
    {
     "name": "stderr",
     "output_type": "stream",
     "text": [
      " 43%|████▎     | 83/195 [1:31:01<2:00:32, 64.58s/it]"
     ]
    },
    {
     "name": "stdout",
     "output_type": "stream",
     "text": [
      "For epoch 89: \n",
      "{Learning rate: [0.00235961554782269]}\n"
     ]
    },
    {
     "name": "stderr",
     "output_type": "stream",
     "text": [
      "Train batch number 150: 100%|██████████| 150/150 [00:40<00:00,  3.73batches/s]\n",
      "Test batch number 19: 100%|██████████| 19/19 [00:20<00:00,  1.07s/batches]\n"
     ]
    },
    {
     "name": "stdout",
     "output_type": "stream",
     "text": [
      "\n",
      "Metrics: {'train_loss': 0.008798328407962496, 'test_loss': 1.1933624650302685, 'bleu': 10.9548, 'gen_len': 10.3533}\n",
      "\n",
      "=============================\n",
      "\n"
     ]
    },
    {
     "name": "stderr",
     "output_type": "stream",
     "text": [
      " 43%|████▎     | 84/195 [1:32:06<1:59:10, 64.42s/it]"
     ]
    },
    {
     "name": "stdout",
     "output_type": "stream",
     "text": [
      "For epoch 90: \n",
      "{Learning rate: [0.0023564626114424463]}\n"
     ]
    },
    {
     "name": "stderr",
     "output_type": "stream",
     "text": [
      "Train batch number 150: 100%|██████████| 150/150 [00:40<00:00,  3.72batches/s]\n",
      "Test batch number 19: 100%|██████████| 19/19 [00:23<00:00,  1.21s/batches]\n"
     ]
    },
    {
     "name": "stdout",
     "output_type": "stream",
     "text": [
      "\n",
      "Metrics: {'train_loss': 0.008028877606460203, 'test_loss': 1.201775146158118, 'bleu': 10.5048, 'gen_len': 10.1433}\n",
      "\n",
      "=============================\n",
      "\n"
     ]
    },
    {
     "name": "stderr",
     "output_type": "stream",
     "text": [
      " 44%|████▎     | 85/195 [1:33:13<1:59:48, 65.35s/it]"
     ]
    },
    {
     "name": "stdout",
     "output_type": "stream",
     "text": [
      "For epoch 91: \n",
      "{Learning rate: [0.0023533096750622024]}\n"
     ]
    },
    {
     "name": "stderr",
     "output_type": "stream",
     "text": [
      "Train batch number 150: 100%|██████████| 150/150 [00:40<00:00,  3.72batches/s]\n",
      "Test batch number 19: 100%|██████████| 19/19 [00:20<00:00,  1.08s/batches]\n"
     ]
    },
    {
     "name": "stdout",
     "output_type": "stream",
     "text": [
      "\n",
      "Metrics: {'train_loss': 0.008260530948949357, 'test_loss': 1.1833258867263794, 'bleu': 10.134, 'gen_len': 10.79}\n",
      "\n",
      "=============================\n",
      "\n"
     ]
    },
    {
     "name": "stderr",
     "output_type": "stream",
     "text": [
      " 44%|████▍     | 86/195 [1:34:18<1:58:14, 65.08s/it]"
     ]
    },
    {
     "name": "stdout",
     "output_type": "stream",
     "text": [
      "For epoch 92: \n",
      "{Learning rate: [0.0023501567386819584]}\n"
     ]
    },
    {
     "name": "stderr",
     "output_type": "stream",
     "text": [
      "Train batch number 150: 100%|██████████| 150/150 [00:40<00:00,  3.72batches/s]\n",
      "Test batch number 19: 100%|██████████| 19/19 [00:20<00:00,  1.09s/batches]\n"
     ]
    },
    {
     "name": "stdout",
     "output_type": "stream",
     "text": [
      "\n",
      "Metrics: {'train_loss': 0.007807011996628716, 'test_loss': 1.1805400754276074, 'bleu': 11.4121, 'gen_len': 11.39}\n",
      "\n",
      "=============================\n",
      "\n"
     ]
    },
    {
     "name": "stderr",
     "output_type": "stream",
     "text": [
      " 45%|████▍     | 87/195 [1:35:22<1:56:51, 64.92s/it]"
     ]
    },
    {
     "name": "stdout",
     "output_type": "stream",
     "text": [
      "For epoch 93: \n",
      "{Learning rate: [0.002347003802301715]}\n"
     ]
    },
    {
     "name": "stderr",
     "output_type": "stream",
     "text": [
      "Train batch number 150: 100%|██████████| 150/150 [00:40<00:00,  3.72batches/s]\n",
      "Test batch number 19: 100%|██████████| 19/19 [00:20<00:00,  1.09s/batches]\n"
     ]
    },
    {
     "name": "stdout",
     "output_type": "stream",
     "text": [
      "\n",
      "Metrics: {'train_loss': 0.008062256523407996, 'test_loss': 1.1855981851878918, 'bleu': 9.4403, 'gen_len': 12.3267}\n",
      "\n",
      "=============================\n",
      "\n"
     ]
    },
    {
     "name": "stderr",
     "output_type": "stream",
     "text": [
      " 45%|████▌     | 88/195 [1:36:27<1:55:41, 64.87s/it]"
     ]
    },
    {
     "name": "stdout",
     "output_type": "stream",
     "text": [
      "For epoch 94: \n",
      "{Learning rate: [0.002343850865921471]}\n"
     ]
    },
    {
     "name": "stderr",
     "output_type": "stream",
     "text": [
      "Train batch number 150: 100%|██████████| 150/150 [00:40<00:00,  3.73batches/s]\n",
      "Test batch number 19: 100%|██████████| 19/19 [00:20<00:00,  1.09s/batches]\n"
     ]
    },
    {
     "name": "stdout",
     "output_type": "stream",
     "text": [
      "\n",
      "Metrics: {'train_loss': 0.00722558082236598, 'test_loss': 1.2241162563625134, 'bleu': 10.9977, 'gen_len': 10.19}\n",
      "\n",
      "=============================\n",
      "\n"
     ]
    },
    {
     "name": "stderr",
     "output_type": "stream",
     "text": [
      " 46%|████▌     | 89/195 [1:37:32<1:54:38, 64.89s/it]"
     ]
    },
    {
     "name": "stdout",
     "output_type": "stream",
     "text": [
      "For epoch 95: \n",
      "{Learning rate: [0.002340697929541227]}\n"
     ]
    },
    {
     "name": "stderr",
     "output_type": "stream",
     "text": [
      "Train batch number 150: 100%|██████████| 150/150 [00:40<00:00,  3.74batches/s]\n",
      "Test batch number 19: 100%|██████████| 19/19 [00:20<00:00,  1.08s/batches]\n"
     ]
    },
    {
     "name": "stdout",
     "output_type": "stream",
     "text": [
      "\n",
      "Metrics: {'train_loss': 0.0076446611364372075, 'test_loss': 1.1930972996510958, 'bleu': 11.3449, 'gen_len': 11.1333}\n",
      "\n",
      "=============================\n",
      "\n"
     ]
    },
    {
     "name": "stderr",
     "output_type": "stream",
     "text": [
      " 46%|████▌     | 90/195 [1:38:36<1:53:17, 64.74s/it]"
     ]
    },
    {
     "name": "stdout",
     "output_type": "stream",
     "text": [
      "For epoch 96: \n",
      "{Learning rate: [0.0023375449931609836]}\n"
     ]
    },
    {
     "name": "stderr",
     "output_type": "stream",
     "text": [
      "Train batch number 150: 100%|██████████| 150/150 [00:40<00:00,  3.71batches/s]\n",
      "Test batch number 19: 100%|██████████| 19/19 [00:20<00:00,  1.08s/batches]\n"
     ]
    },
    {
     "name": "stdout",
     "output_type": "stream",
     "text": [
      "\n",
      "Metrics: {'train_loss': 0.007762101152911783, 'test_loss': 1.1970632013521696, 'bleu': 11.6377, 'gen_len': 11.0533}\n",
      "\n",
      "=============================\n",
      "\n"
     ]
    },
    {
     "name": "stderr",
     "output_type": "stream",
     "text": [
      " 47%|████▋     | 91/195 [1:39:41<1:52:04, 64.66s/it]"
     ]
    },
    {
     "name": "stdout",
     "output_type": "stream",
     "text": [
      "For epoch 97: \n",
      "{Learning rate: [0.0023343920567807396]}\n"
     ]
    },
    {
     "name": "stderr",
     "output_type": "stream",
     "text": [
      "Train batch number 150: 100%|██████████| 150/150 [00:40<00:00,  3.72batches/s]\n",
      "Test batch number 19: 100%|██████████| 19/19 [00:20<00:00,  1.09s/batches]\n"
     ]
    },
    {
     "name": "stdout",
     "output_type": "stream",
     "text": [
      "\n",
      "Metrics: {'train_loss': 0.007229647885542363, 'test_loss': 1.2022000770819814, 'bleu': 11.7996, 'gen_len': 11.3267}\n",
      "\n",
      "=============================\n",
      "\n"
     ]
    },
    {
     "name": "stderr",
     "output_type": "stream",
     "text": [
      " 47%|████▋     | 92/195 [1:40:45<1:50:55, 64.61s/it]"
     ]
    },
    {
     "name": "stdout",
     "output_type": "stream",
     "text": [
      "For epoch 98: \n",
      "{Learning rate: [0.0023312391204004957]}\n"
     ]
    },
    {
     "name": "stderr",
     "output_type": "stream",
     "text": [
      "Train batch number 150: 100%|██████████| 150/150 [00:39<00:00,  3.75batches/s]\n",
      "Test batch number 19: 100%|██████████| 19/19 [00:20<00:00,  1.09s/batches]\n"
     ]
    },
    {
     "name": "stdout",
     "output_type": "stream",
     "text": [
      "\n",
      "Metrics: {'train_loss': 0.007188120076122384, 'test_loss': 1.1753296256065369, 'bleu': 11.0473, 'gen_len': 11.69}\n",
      "\n",
      "=============================\n",
      "\n"
     ]
    },
    {
     "name": "stderr",
     "output_type": "stream",
     "text": [
      " 48%|████▊     | 93/195 [1:41:49<1:49:32, 64.44s/it]"
     ]
    },
    {
     "name": "stdout",
     "output_type": "stream",
     "text": [
      "For epoch 99: \n",
      "{Learning rate: [0.002328086184020252]}\n"
     ]
    },
    {
     "name": "stderr",
     "output_type": "stream",
     "text": [
      "Train batch number 150: 100%|██████████| 150/150 [00:40<00:00,  3.72batches/s]\n",
      "Test batch number 19: 100%|██████████| 19/19 [00:20<00:00,  1.09s/batches]\n"
     ]
    },
    {
     "name": "stdout",
     "output_type": "stream",
     "text": [
      "\n",
      "Metrics: {'train_loss': 0.007360239190747961, 'test_loss': 1.193806921180926, 'bleu': 11.3379, 'gen_len': 11.0533}\n",
      "\n",
      "=============================\n",
      "\n"
     ]
    },
    {
     "name": "stderr",
     "output_type": "stream",
     "text": [
      " 48%|████▊     | 94/195 [1:42:54<1:48:31, 64.47s/it]"
     ]
    },
    {
     "name": "stdout",
     "output_type": "stream",
     "text": [
      "For epoch 100: \n",
      "{Learning rate: [0.0023249332476400083]}\n"
     ]
    },
    {
     "name": "stderr",
     "output_type": "stream",
     "text": [
      "Train batch number 150: 100%|██████████| 150/150 [00:41<00:00,  3.63batches/s]\n",
      "Test batch number 19: 100%|██████████| 19/19 [00:22<00:00,  1.17s/batches]\n"
     ]
    },
    {
     "name": "stdout",
     "output_type": "stream",
     "text": [
      "\n",
      "Metrics: {'train_loss': 0.006677857584824475, 'test_loss': 1.196501982839484, 'bleu': 10.1698, 'gen_len': 10.71}\n",
      "\n",
      "=============================\n",
      "\n"
     ]
    },
    {
     "name": "stderr",
     "output_type": "stream",
     "text": [
      " 49%|████▊     | 95/195 [1:44:01<1:48:54, 65.35s/it]"
     ]
    },
    {
     "name": "stdout",
     "output_type": "stream",
     "text": [
      "For epoch 101: \n",
      "{Learning rate: [0.0023217803112597648]}\n"
     ]
    },
    {
     "name": "stderr",
     "output_type": "stream",
     "text": [
      "Train batch number 150: 100%|██████████| 150/150 [00:46<00:00,  3.20batches/s]\n",
      "Test batch number 19: 100%|██████████| 19/19 [00:25<00:00,  1.32s/batches]\n"
     ]
    },
    {
     "name": "stdout",
     "output_type": "stream",
     "text": [
      "\n",
      "Metrics: {'train_loss': 0.0071780021116137505, 'test_loss': 1.196321754079116, 'bleu': 11.1321, 'gen_len': 10.5933}\n",
      "\n",
      "=============================\n",
      "\n"
     ]
    },
    {
     "name": "stderr",
     "output_type": "stream",
     "text": [
      " 49%|████▉     | 96/195 [1:45:17<1:53:17, 68.66s/it]"
     ]
    },
    {
     "name": "stdout",
     "output_type": "stream",
     "text": [
      "For epoch 102: \n",
      "{Learning rate: [0.002318627374879521]}\n"
     ]
    },
    {
     "name": "stderr",
     "output_type": "stream",
     "text": [
      "Train batch number 27:  17%|█▋        | 26/150 [00:08<00:36,  3.43batches/s]"
     ]
    }
   ],
   "source": [
    "trainer.train(epochs = config['epochs'] - trainer.current_epoch, auto_save=True, metric_for_best_model='bleu', metric_objective='maximize', log_step=1,\n",
    "              saving_directory = config['new_model_dir'])"
   ]
  },
  {
   "cell_type": "markdown",
   "metadata": {},
   "source": [
    "### --- Wandb v5_2 2000"
   ]
  },
  {
   "cell_type": "code",
   "execution_count": 1,
   "metadata": {},
   "outputs": [
    {
     "data": {
      "text/plain": [
       "127"
      ]
     },
     "execution_count": 1,
     "metadata": {},
     "output_type": "execute_result"
    }
   ],
   "source": []
  },
  {
   "cell_type": "code",
   "execution_count": 6,
   "metadata": {},
   "outputs": [],
   "source": [
    "# let us initialize the hyperparameter configuration \n",
    "config = {\n",
    "    'random_state': 0,\n",
    "    'fr_char_p': 0.06673707344553906,\n",
    "    'fr_word_p': 0.07626063714036732,\n",
    "    'learning_rate': 0.0030232985434635257,\n",
    "    'weight_decay': 0.02659316315720403,\n",
    "    'batch_size': 16,\n",
    "    'warmup_ratio': 0.0,\n",
    "    'max_epoch': 827,\n",
    "    'epochs': 500,\n",
    "    'mid_epoch': 83,\n",
    "    'max_len': 19,\n",
    "    'end_mark': 3,\n",
    "    'bleu': 8.4915,\n",
    "    'model_dir': 'fw_t5_small_custom_train_v5_2_checkpoints',\n",
    "    'new_model_dir': 't5_small_custom_train_results_fw_v5_2'\n",
    "}\n",
    "\n",
    "# Initialize the model name\n",
    "model_name = 't5-small'\n",
    "\n",
    "# import the model with its pre-trained weights\n",
    "model = T5ForConditionalGeneration.from_pretrained(model_name)\n",
    "\n",
    "# resize the token embeddings\n",
    "model.resize_token_embeddings(len(tokenizer))\n",
    "\n",
    "# let us initialize the evaluation class\n",
    "evaluation = TranslationEvaluation(tokenizer)\n",
    "\n",
    "# let us initialize the trainer\n",
    "trainer = ModelRunner(model, seed = 0, version = '5_2', evaluation = evaluation, optimizer=Adafactor)\n",
    "\n",
    "# split the data\n",
    "split_data(config['random_state'], csv_file = \"ad_sentences.csv\")\n",
    "\n",
    "# recuperate train and test set\n",
    "train_dataset, test_dataset = recuperate_datasets(config['fr_char_p'], \n",
    "                                                    config['fr_word_p'], config['max_len'],\n",
    "                                                    config['end_mark'])\n",
    "\n",
    "# let us calculate the appropriate warmup steps (let us take a max epoch of 100)\n",
    "length = len(train_dataset)\n",
    "\n",
    "n_steps = length // config['batch_size']\n",
    "\n",
    "num_steps = config['max_epoch'] * n_steps\n",
    "\n",
    "warmup_steps = (config['max_epoch'] * n_steps) * config['warmup_ratio']\n",
    "\n",
    "# # Initialize the scheduler parameters\n",
    "scheduler_args = {'num_warmup_steps': warmup_steps, 'num_training_steps': num_steps}\n",
    "\n",
    "# Initialize the optimizer parameters\n",
    "optimizer_args = {\n",
    "    'lr': config['learning_rate'],\n",
    "    'weight_decay': config['weight_decay'],\n",
    "    # 'betas': (0.9, 0.98),\n",
    "    'warmup_init': False,\n",
    "    'relative_step': False\n",
    "}\n",
    "\n",
    "# Initialize the loaders parameters\n",
    "train_loader_args = {'batch_size': config['batch_size']}\n",
    "\n",
    "# Add the datasets and hyperparameters to trainer\n",
    "trainer.compile(train_dataset, test_dataset, tokenizer, train_loader_args,\n",
    "                optimizer_kwargs = optimizer_args,\n",
    "                lr_scheduler=get_cosine_schedule_with_warmup,\n",
    "                lr_scheduler_kwargs=scheduler_args, \n",
    "                predict_with_generate = True,\n",
    "                hugging_face = True,\n",
    "                logging_dir=\"data/logs/t5_small_custom_train_fw\"\n",
    "                )\n",
    "\n",
    "# We will from checkpoints so let us the model\n",
    "# trainer.load(config['model_dir'], load_best=True) # Only for the first loading\n",
    "trainer.load(config['new_model_dir'], load_best = True)\n",
    "\n",
    "        "
   ]
  },
  {
   "cell_type": "code",
   "execution_count": null,
   "metadata": {},
   "outputs": [],
   "source": []
  },
  {
   "cell_type": "markdown",
   "metadata": {},
   "source": [
    "### --- Linear step"
   ]
  },
  {
   "cell_type": "code",
   "execution_count": 7,
   "metadata": {},
   "outputs": [
    {
     "name": "stderr",
     "output_type": "stream",
     "text": [
      "  0%|          | 0/78 [00:00<?, ?it/s]/home/ec2-user/anaconda3/envs/pytorch_p310/lib/python3.10/site-packages/torch/optim/lr_scheduler.py:265: UserWarning: To get the last learning rate computed by the scheduler, please use `get_last_lr()`.\n",
      "  warnings.warn(\"To get the last learning rate computed by the scheduler, \"\n"
     ]
    },
    {
     "name": "stdout",
     "output_type": "stream",
     "text": [
      "For epoch 6: \n",
      "{Learning rate: [0.0030048333165675106]}\n"
     ]
    },
    {
     "name": "stderr",
     "output_type": "stream",
     "text": [
      "Train batch number 99: 100%|██████████| 99/99 [00:28<00:00,  3.49batches/s]\n",
      "Test batch number 13: 100%|██████████| 13/13 [00:11<00:00,  1.13batches/s]\n"
     ]
    },
    {
     "name": "stdout",
     "output_type": "stream",
     "text": [
      "\n",
      "Metrics: {'train_loss': 1.0044883995345144, 'test_loss': 1.7446289887795081, 'bleu': 7.0496, 'gen_len': 8.6515}\n",
      "\n",
      "=============================\n",
      "\n"
     ]
    },
    {
     "name": "stderr",
     "output_type": "stream",
     "text": [
      "  1%|▏         | 1/78 [00:41<53:27, 41.65s/it]"
     ]
    },
    {
     "name": "stdout",
     "output_type": "stream",
     "text": [
      "For epoch 7: \n",
      "{Learning rate: [0.0030011402711883073]}\n"
     ]
    },
    {
     "name": "stderr",
     "output_type": "stream",
     "text": [
      "Train batch number 99: 100%|██████████| 99/99 [00:12<00:00,  7.71batches/s]\n",
      "Test batch number 13: 100%|██████████| 13/13 [00:03<00:00,  3.98batches/s]\n"
     ]
    },
    {
     "name": "stdout",
     "output_type": "stream",
     "text": [
      "\n",
      "Metrics: {'train_loss': 0.8440375267857253, 'test_loss': 1.7576169417454646, 'bleu': 10.0839, 'gen_len': 8.9798}\n",
      "\n",
      "=============================\n",
      "\n"
     ]
    },
    {
     "name": "stderr",
     "output_type": "stream",
     "text": [
      "  3%|▎         | 2/78 [01:00<36:00, 28.42s/it]"
     ]
    },
    {
     "name": "stdout",
     "output_type": "stream",
     "text": [
      "For epoch 8: \n",
      "{Learning rate: [0.002997447225809105]}\n"
     ]
    },
    {
     "name": "stderr",
     "output_type": "stream",
     "text": [
      "Train batch number 99: 100%|██████████| 99/99 [00:13<00:00,  7.51batches/s]\n",
      "Test batch number 13: 100%|██████████| 13/13 [00:03<00:00,  3.96batches/s]\n"
     ]
    },
    {
     "name": "stdout",
     "output_type": "stream",
     "text": [
      "\n",
      "Metrics: {'train_loss': 0.6963981049831467, 'test_loss': 1.7593738849346454, 'bleu': 12.5585, 'gen_len': 9.9242}\n",
      "\n",
      "=============================\n",
      "\n"
     ]
    },
    {
     "name": "stderr",
     "output_type": "stream",
     "text": [
      "  4%|▍         | 3/78 [01:20<30:27, 24.37s/it]"
     ]
    },
    {
     "name": "stdout",
     "output_type": "stream",
     "text": [
      "For epoch 9: \n",
      "{Learning rate: [0.0029937541804299014]}\n"
     ]
    },
    {
     "name": "stderr",
     "output_type": "stream",
     "text": [
      "Train batch number 99: 100%|██████████| 99/99 [00:13<00:00,  7.52batches/s]\n",
      "Test batch number 13: 100%|██████████| 13/13 [00:03<00:00,  4.01batches/s]\n"
     ]
    },
    {
     "name": "stdout",
     "output_type": "stream",
     "text": [
      "\n",
      "Metrics: {'train_loss': 0.5731818383992321, 'test_loss': 1.7930631454174335, 'bleu': 13.8405, 'gen_len': 9.197}\n",
      "\n",
      "=============================\n",
      "\n"
     ]
    },
    {
     "name": "stderr",
     "output_type": "stream",
     "text": [
      "  5%|▌         | 4/78 [01:39<27:39, 22.43s/it]"
     ]
    },
    {
     "name": "stdout",
     "output_type": "stream",
     "text": [
      "For epoch 10: \n",
      "{Learning rate: [0.002990061135050698]}\n"
     ]
    },
    {
     "name": "stderr",
     "output_type": "stream",
     "text": [
      "Train batch number 99: 100%|██████████| 99/99 [00:13<00:00,  7.53batches/s]\n",
      "Test batch number 13: 100%|██████████| 13/13 [00:03<00:00,  3.90batches/s]\n"
     ]
    },
    {
     "name": "stdout",
     "output_type": "stream",
     "text": [
      "\n",
      "Metrics: {'train_loss': 0.4648998439914048, 'test_loss': 1.856773046346811, 'bleu': 13.5259, 'gen_len': 9.2626}\n",
      "\n",
      "=============================\n",
      "\n"
     ]
    },
    {
     "name": "stderr",
     "output_type": "stream",
     "text": [
      "  6%|▋         | 5/78 [01:58<25:26, 20.91s/it]"
     ]
    },
    {
     "name": "stdout",
     "output_type": "stream",
     "text": [
      "For epoch 11: \n",
      "{Learning rate: [0.0029863680896714956]}\n"
     ]
    },
    {
     "name": "stderr",
     "output_type": "stream",
     "text": [
      "Train batch number 99: 100%|██████████| 99/99 [00:12<00:00,  7.79batches/s]\n",
      "Test batch number 13: 100%|██████████| 13/13 [00:03<00:00,  4.06batches/s]\n"
     ]
    },
    {
     "name": "stdout",
     "output_type": "stream",
     "text": [
      "\n",
      "Metrics: {'train_loss': 0.37859054271018866, 'test_loss': 1.8921253864581769, 'bleu': 16.5042, 'gen_len': 9.303}\n",
      "\n",
      "=============================\n",
      "\n"
     ]
    },
    {
     "name": "stderr",
     "output_type": "stream",
     "text": [
      "  8%|▊         | 6/78 [02:17<24:18, 20.26s/it]"
     ]
    },
    {
     "name": "stdout",
     "output_type": "stream",
     "text": [
      "For epoch 12: \n",
      "{Learning rate: [0.0029826750442922922]}\n"
     ]
    },
    {
     "name": "stderr",
     "output_type": "stream",
     "text": [
      "Train batch number 99: 100%|██████████| 99/99 [00:13<00:00,  7.58batches/s]\n",
      "Test batch number 13: 100%|██████████| 13/13 [00:03<00:00,  4.12batches/s]\n"
     ]
    },
    {
     "name": "stdout",
     "output_type": "stream",
     "text": [
      "\n",
      "Metrics: {'train_loss': 0.31221282632664, 'test_loss': 1.8979637256035438, 'bleu': 16.3964, 'gen_len': 9.4495}\n",
      "\n",
      "=============================\n",
      "\n"
     ]
    },
    {
     "name": "stderr",
     "output_type": "stream",
     "text": [
      "  9%|▉         | 7/78 [02:34<23:04, 19.49s/it]"
     ]
    },
    {
     "name": "stdout",
     "output_type": "stream",
     "text": [
      "For epoch 13: \n",
      "{Learning rate: [0.0029789819989130893]}\n"
     ]
    },
    {
     "name": "stderr",
     "output_type": "stream",
     "text": [
      "Train batch number 99: 100%|██████████| 99/99 [00:13<00:00,  7.56batches/s]\n",
      "Test batch number 13: 100%|██████████| 13/13 [00:03<00:00,  3.82batches/s]\n"
     ]
    },
    {
     "name": "stdout",
     "output_type": "stream",
     "text": [
      "\n",
      "Metrics: {'train_loss': 0.2643395570492504, 'test_loss': 1.9255068760651808, 'bleu': 15.053, 'gen_len': 9.798}\n",
      "\n",
      "=============================\n",
      "\n"
     ]
    },
    {
     "name": "stderr",
     "output_type": "stream",
     "text": [
      " 10%|█         | 8/78 [02:53<22:15, 19.08s/it]"
     ]
    },
    {
     "name": "stdout",
     "output_type": "stream",
     "text": [
      "For epoch 14: \n",
      "{Learning rate: [0.0029752889535338864]}\n"
     ]
    },
    {
     "name": "stderr",
     "output_type": "stream",
     "text": [
      "Train batch number 99: 100%|██████████| 99/99 [00:12<00:00,  7.70batches/s]\n",
      "Test batch number 13: 100%|██████████| 13/13 [00:03<00:00,  4.10batches/s]\n"
     ]
    },
    {
     "name": "stdout",
     "output_type": "stream",
     "text": [
      "\n",
      "Metrics: {'train_loss': 0.222671359476417, 'test_loss': 1.9960002532372108, 'bleu': 15.4147, 'gen_len': 9.3182}\n",
      "\n",
      "=============================\n",
      "\n"
     ]
    },
    {
     "name": "stderr",
     "output_type": "stream",
     "text": [
      " 12%|█▏        | 9/78 [03:10<21:27, 18.66s/it]"
     ]
    },
    {
     "name": "stdout",
     "output_type": "stream",
     "text": [
      "For epoch 15: \n",
      "{Learning rate: [0.002971595908154683]}\n"
     ]
    },
    {
     "name": "stderr",
     "output_type": "stream",
     "text": [
      "Train batch number 99: 100%|██████████| 99/99 [00:13<00:00,  7.50batches/s]\n",
      "Test batch number 13: 100%|██████████| 13/13 [00:03<00:00,  4.05batches/s]\n"
     ]
    },
    {
     "name": "stdout",
     "output_type": "stream",
     "text": [
      "\n",
      "Metrics: {'train_loss': 0.1962290413752951, 'test_loss': 1.979709735283485, 'bleu': 15.147, 'gen_len': 9.6364}\n",
      "\n",
      "=============================\n",
      "\n"
     ]
    },
    {
     "name": "stderr",
     "output_type": "stream",
     "text": [
      " 13%|█▎        | 10/78 [03:28<20:57, 18.49s/it]"
     ]
    },
    {
     "name": "stdout",
     "output_type": "stream",
     "text": [
      "For epoch 16: \n",
      "{Learning rate: [0.0029679028627754805]}\n"
     ]
    },
    {
     "name": "stderr",
     "output_type": "stream",
     "text": [
      "Train batch number 99: 100%|██████████| 99/99 [00:13<00:00,  7.50batches/s]\n",
      "Test batch number 13: 100%|██████████| 13/13 [00:03<00:00,  3.93batches/s]\n"
     ]
    },
    {
     "name": "stdout",
     "output_type": "stream",
     "text": [
      "\n",
      "Metrics: {'train_loss': 0.17741119545517545, 'test_loss': 2.0217226376900306, 'bleu': 15.1391, 'gen_len': 9.5707}\n",
      "\n",
      "=============================\n",
      "\n"
     ]
    },
    {
     "name": "stderr",
     "output_type": "stream",
     "text": [
      " 14%|█▍        | 11/78 [03:47<20:33, 18.41s/it]"
     ]
    },
    {
     "name": "stdout",
     "output_type": "stream",
     "text": [
      "For epoch 17: \n",
      "{Learning rate: [0.002964209817396277]}\n"
     ]
    },
    {
     "name": "stderr",
     "output_type": "stream",
     "text": [
      "Train batch number 99: 100%|██████████| 99/99 [00:12<00:00,  7.68batches/s]\n",
      "Test batch number 13: 100%|██████████| 13/13 [00:03<00:00,  3.91batches/s]\n"
     ]
    },
    {
     "name": "stdout",
     "output_type": "stream",
     "text": [
      "\n",
      "Metrics: {'train_loss': 0.15557519670086678, 'test_loss': 2.0189028611549964, 'bleu': 14.6332, 'gen_len': 9.3838}\n",
      "\n",
      "=============================\n",
      "\n"
     ]
    },
    {
     "name": "stderr",
     "output_type": "stream",
     "text": [
      " 15%|█▌        | 12/78 [04:05<20:05, 18.27s/it]"
     ]
    },
    {
     "name": "stdout",
     "output_type": "stream",
     "text": [
      "For epoch 18: \n",
      "{Learning rate: [0.002960516772017074]}\n"
     ]
    },
    {
     "name": "stderr",
     "output_type": "stream",
     "text": [
      "Train batch number 99: 100%|██████████| 99/99 [00:13<00:00,  7.61batches/s]\n",
      "Test batch number 13: 100%|██████████| 13/13 [00:03<00:00,  4.09batches/s]\n"
     ]
    },
    {
     "name": "stdout",
     "output_type": "stream",
     "text": [
      "\n",
      "Metrics: {'train_loss': 0.14360806519033933, 'test_loss': 2.0350347573940573, 'bleu': 16.9622, 'gen_len': 9.5556}\n",
      "\n",
      "=============================\n",
      "\n"
     ]
    },
    {
     "name": "stderr",
     "output_type": "stream",
     "text": [
      " 17%|█▋        | 13/78 [04:24<20:06, 18.56s/it]"
     ]
    },
    {
     "name": "stdout",
     "output_type": "stream",
     "text": [
      "For epoch 19: \n",
      "{Learning rate: [0.0029568237266378713]}\n"
     ]
    },
    {
     "name": "stderr",
     "output_type": "stream",
     "text": [
      "Train batch number 99: 100%|██████████| 99/99 [00:12<00:00,  7.78batches/s]\n",
      "Test batch number 13: 100%|██████████| 13/13 [00:03<00:00,  4.06batches/s]\n"
     ]
    },
    {
     "name": "stdout",
     "output_type": "stream",
     "text": [
      "\n",
      "Metrics: {'train_loss': 0.1305132923704205, 'test_loss': 2.04166671862969, 'bleu': 17.6741, 'gen_len': 9.6263}\n",
      "\n",
      "=============================\n",
      "\n"
     ]
    },
    {
     "name": "stderr",
     "output_type": "stream",
     "text": [
      " 18%|█▊        | 14/78 [04:43<19:56, 18.69s/it]"
     ]
    },
    {
     "name": "stdout",
     "output_type": "stream",
     "text": [
      "For epoch 20: \n",
      "{Learning rate: [0.002953130681258668]}\n"
     ]
    },
    {
     "name": "stderr",
     "output_type": "stream",
     "text": [
      "Train batch number 99: 100%|██████████| 99/99 [00:12<00:00,  7.67batches/s]\n",
      "Test batch number 13: 100%|██████████| 13/13 [00:03<00:00,  3.93batches/s]\n"
     ]
    },
    {
     "name": "stdout",
     "output_type": "stream",
     "text": [
      "\n",
      "Metrics: {'train_loss': 0.1227519941149336, 'test_loss': 2.0359874046765842, 'bleu': 15.5517, 'gen_len': 9.4545}\n",
      "\n",
      "=============================\n",
      "\n"
     ]
    },
    {
     "name": "stderr",
     "output_type": "stream",
     "text": [
      " 19%|█▉        | 15/78 [05:01<19:23, 18.46s/it]"
     ]
    },
    {
     "name": "stdout",
     "output_type": "stream",
     "text": [
      "For epoch 21: \n",
      "{Learning rate: [0.002949437635879465]}\n"
     ]
    },
    {
     "name": "stderr",
     "output_type": "stream",
     "text": [
      "Train batch number 99: 100%|██████████| 99/99 [00:13<00:00,  7.56batches/s]\n",
      "Test batch number 13: 100%|██████████| 13/13 [00:03<00:00,  3.82batches/s]\n"
     ]
    },
    {
     "name": "stdout",
     "output_type": "stream",
     "text": [
      "\n",
      "Metrics: {'train_loss': 0.10792042935887973, 'test_loss': 2.034029355415931, 'bleu': 17.1757, 'gen_len': 9.6313}\n",
      "\n",
      "=============================\n",
      "\n"
     ]
    },
    {
     "name": "stderr",
     "output_type": "stream",
     "text": [
      " 21%|██        | 16/78 [05:19<19:00, 18.39s/it]"
     ]
    },
    {
     "name": "stdout",
     "output_type": "stream",
     "text": [
      "For epoch 22: \n",
      "{Learning rate: [0.002945744590500262]}\n"
     ]
    },
    {
     "name": "stderr",
     "output_type": "stream",
     "text": [
      "Train batch number 99: 100%|██████████| 99/99 [00:13<00:00,  7.51batches/s]\n",
      "Test batch number 13: 100%|██████████| 13/13 [00:03<00:00,  3.86batches/s]\n"
     ]
    },
    {
     "name": "stdout",
     "output_type": "stream",
     "text": [
      "\n",
      "Metrics: {'train_loss': 0.10048379248591384, 'test_loss': 2.0545905920175405, 'bleu': 16.1788, 'gen_len': 9.3737}\n",
      "\n",
      "=============================\n",
      "\n"
     ]
    },
    {
     "name": "stderr",
     "output_type": "stream",
     "text": [
      " 22%|██▏       | 17/78 [05:37<18:39, 18.35s/it]"
     ]
    },
    {
     "name": "stdout",
     "output_type": "stream",
     "text": [
      "For epoch 23: \n",
      "{Learning rate: [0.0029420515451210588]}\n"
     ]
    },
    {
     "name": "stderr",
     "output_type": "stream",
     "text": [
      "Train batch number 99: 100%|██████████| 99/99 [00:13<00:00,  7.57batches/s]\n",
      "Test batch number 13: 100%|██████████| 13/13 [00:03<00:00,  4.10batches/s]\n"
     ]
    },
    {
     "name": "stdout",
     "output_type": "stream",
     "text": [
      "\n",
      "Metrics: {'train_loss': 0.09432472943356543, 'test_loss': 2.020454214169429, 'bleu': 16.6951, 'gen_len': 9.6212}\n",
      "\n",
      "=============================\n",
      "\n"
     ]
    },
    {
     "name": "stderr",
     "output_type": "stream",
     "text": [
      " 23%|██▎       | 18/78 [05:55<18:14, 18.24s/it]"
     ]
    },
    {
     "name": "stdout",
     "output_type": "stream",
     "text": [
      "For epoch 24: \n",
      "{Learning rate: [0.0029383584997418563]}\n"
     ]
    },
    {
     "name": "stderr",
     "output_type": "stream",
     "text": [
      "Train batch number 99: 100%|██████████| 99/99 [00:12<00:00,  7.72batches/s]\n",
      "Test batch number 13: 100%|██████████| 13/13 [00:03<00:00,  3.96batches/s]\n"
     ]
    },
    {
     "name": "stdout",
     "output_type": "stream",
     "text": [
      "\n",
      "Metrics: {'train_loss': 0.08953270319886882, 'test_loss': 2.038555457041814, 'bleu': 18.9645, 'gen_len': 9.7323}\n",
      "\n",
      "=============================\n",
      "\n"
     ]
    },
    {
     "name": "stderr",
     "output_type": "stream",
     "text": [
      " 24%|██▍       | 19/78 [06:14<18:13, 18.53s/it]"
     ]
    },
    {
     "name": "stdout",
     "output_type": "stream",
     "text": [
      "For epoch 25: \n",
      "{Learning rate: [0.002934665454362653]}\n"
     ]
    },
    {
     "name": "stderr",
     "output_type": "stream",
     "text": [
      "Train batch number 99: 100%|██████████| 99/99 [00:12<00:00,  7.63batches/s]\n",
      "Test batch number 13: 100%|██████████| 13/13 [00:03<00:00,  4.25batches/s]\n"
     ]
    },
    {
     "name": "stdout",
     "output_type": "stream",
     "text": [
      "\n",
      "Metrics: {'train_loss': 0.08250175106028716, 'test_loss': 2.0816943920575657, 'bleu': 17.4736, 'gen_len': 9.4444}\n",
      "\n",
      "=============================\n",
      "\n"
     ]
    },
    {
     "name": "stderr",
     "output_type": "stream",
     "text": [
      " 26%|██▌       | 20/78 [06:32<17:40, 18.29s/it]"
     ]
    },
    {
     "name": "stdout",
     "output_type": "stream",
     "text": [
      "For epoch 26: \n",
      "{Learning rate: [0.00293097240898345]}\n"
     ]
    },
    {
     "name": "stderr",
     "output_type": "stream",
     "text": [
      "Train batch number 99: 100%|██████████| 99/99 [00:13<00:00,  7.54batches/s]\n",
      "Test batch number 13: 100%|██████████| 13/13 [00:03<00:00,  3.90batches/s]\n"
     ]
    },
    {
     "name": "stdout",
     "output_type": "stream",
     "text": [
      "\n",
      "Metrics: {'train_loss': 0.0794858176524591, 'test_loss': 2.0765965351691613, 'bleu': 17.4862, 'gen_len': 9.6515}\n",
      "\n",
      "=============================\n",
      "\n"
     ]
    },
    {
     "name": "stderr",
     "output_type": "stream",
     "text": [
      " 27%|██▋       | 21/78 [06:50<17:21, 18.27s/it]"
     ]
    },
    {
     "name": "stdout",
     "output_type": "stream",
     "text": [
      "For epoch 27: \n",
      "{Learning rate: [0.002927279363604247]}\n"
     ]
    },
    {
     "name": "stderr",
     "output_type": "stream",
     "text": [
      "Train batch number 99: 100%|██████████| 99/99 [00:12<00:00,  7.63batches/s]\n",
      "Test batch number 13: 100%|██████████| 13/13 [00:03<00:00,  3.82batches/s]\n"
     ]
    },
    {
     "name": "stdout",
     "output_type": "stream",
     "text": [
      "\n",
      "Metrics: {'train_loss': 0.0727976415155813, 'test_loss': 2.071614375481239, 'bleu': 19.3566, 'gen_len': 9.6616}\n",
      "\n",
      "=============================\n",
      "\n"
     ]
    },
    {
     "name": "stderr",
     "output_type": "stream",
     "text": [
      " 28%|██▊       | 22/78 [07:10<17:22, 18.62s/it]"
     ]
    },
    {
     "name": "stdout",
     "output_type": "stream",
     "text": [
      "For epoch 28: \n",
      "{Learning rate: [0.0029235863182250437]}\n"
     ]
    },
    {
     "name": "stderr",
     "output_type": "stream",
     "text": [
      "Train batch number 99: 100%|██████████| 99/99 [00:13<00:00,  7.52batches/s]\n",
      "Test batch number 13: 100%|██████████| 13/13 [00:03<00:00,  4.10batches/s]\n"
     ]
    },
    {
     "name": "stdout",
     "output_type": "stream",
     "text": [
      "\n",
      "Metrics: {'train_loss': 0.06907466804665147, 'test_loss': 2.0499722224015455, 'bleu': 19.6996, 'gen_len': 9.6465}\n",
      "\n",
      "=============================\n",
      "\n"
     ]
    },
    {
     "name": "stderr",
     "output_type": "stream",
     "text": [
      " 29%|██▉       | 23/78 [07:29<17:17, 18.86s/it]"
     ]
    },
    {
     "name": "stdout",
     "output_type": "stream",
     "text": [
      "For epoch 29: \n",
      "{Learning rate: [0.0029198932728458408]}\n"
     ]
    },
    {
     "name": "stderr",
     "output_type": "stream",
     "text": [
      "Train batch number 99: 100%|██████████| 99/99 [00:13<00:00,  7.46batches/s]\n",
      "Test batch number 13: 100%|██████████| 13/13 [00:03<00:00,  4.16batches/s]\n"
     ]
    },
    {
     "name": "stdout",
     "output_type": "stream",
     "text": [
      "\n",
      "Metrics: {'train_loss': 0.06646429124579888, 'test_loss': 2.061128487953773, 'bleu': 19.9698, 'gen_len': 9.4747}\n",
      "\n",
      "=============================\n",
      "\n"
     ]
    },
    {
     "name": "stderr",
     "output_type": "stream",
     "text": [
      " 31%|███       | 24/78 [07:49<17:07, 19.04s/it]"
     ]
    },
    {
     "name": "stdout",
     "output_type": "stream",
     "text": [
      "For epoch 30: \n",
      "{Learning rate: [0.002916200227466638]}\n"
     ]
    },
    {
     "name": "stderr",
     "output_type": "stream",
     "text": [
      "Train batch number 99: 100%|██████████| 99/99 [00:13<00:00,  7.45batches/s]\n",
      "Test batch number 13: 100%|██████████| 13/13 [00:03<00:00,  4.01batches/s]\n"
     ]
    },
    {
     "name": "stdout",
     "output_type": "stream",
     "text": [
      "\n",
      "Metrics: {'train_loss': 0.06369306237408609, 'test_loss': 2.087381509634165, 'bleu': 18.3571, 'gen_len': 9.6212}\n",
      "\n",
      "=============================\n",
      "\n"
     ]
    },
    {
     "name": "stderr",
     "output_type": "stream",
     "text": [
      " 32%|███▏      | 25/78 [08:07<16:37, 18.82s/it]"
     ]
    },
    {
     "name": "stdout",
     "output_type": "stream",
     "text": [
      "For epoch 31: \n",
      "{Learning rate: [0.0029125071820874345]}\n"
     ]
    },
    {
     "name": "stderr",
     "output_type": "stream",
     "text": [
      "Train batch number 99: 100%|██████████| 99/99 [00:13<00:00,  7.50batches/s]\n",
      "Test batch number 13: 100%|██████████| 13/13 [00:03<00:00,  4.10batches/s]\n"
     ]
    },
    {
     "name": "stdout",
     "output_type": "stream",
     "text": [
      "\n",
      "Metrics: {'train_loss': 0.0635243123491304, 'test_loss': 2.0577332148185143, 'bleu': 18.7843, 'gen_len': 9.5404}\n",
      "\n",
      "=============================\n",
      "\n"
     ]
    },
    {
     "name": "stderr",
     "output_type": "stream",
     "text": [
      " 33%|███▎      | 26/78 [08:25<16:07, 18.61s/it]"
     ]
    },
    {
     "name": "stdout",
     "output_type": "stream",
     "text": [
      "For epoch 32: \n",
      "{Learning rate: [0.002908814136708232]}\n"
     ]
    },
    {
     "name": "stderr",
     "output_type": "stream",
     "text": [
      "Train batch number 99: 100%|██████████| 99/99 [00:12<00:00,  7.65batches/s]\n",
      "Test batch number 13: 100%|██████████| 13/13 [00:03<00:00,  3.94batches/s]\n"
     ]
    },
    {
     "name": "stdout",
     "output_type": "stream",
     "text": [
      "\n",
      "Metrics: {'train_loss': 0.05604290838042895, 'test_loss': 2.069109632418706, 'bleu': 19.83, 'gen_len': 9.5808}\n",
      "\n",
      "=============================\n",
      "\n"
     ]
    },
    {
     "name": "stderr",
     "output_type": "stream",
     "text": [
      " 35%|███▍      | 27/78 [08:43<15:39, 18.42s/it]"
     ]
    },
    {
     "name": "stdout",
     "output_type": "stream",
     "text": [
      "For epoch 33: \n",
      "{Learning rate: [0.0029051210913290286]}\n"
     ]
    },
    {
     "name": "stderr",
     "output_type": "stream",
     "text": [
      "Train batch number 99: 100%|██████████| 99/99 [00:13<00:00,  7.53batches/s]\n",
      "Test batch number 13: 100%|██████████| 13/13 [00:03<00:00,  3.79batches/s]\n"
     ]
    },
    {
     "name": "stdout",
     "output_type": "stream",
     "text": [
      "\n",
      "Metrics: {'train_loss': 0.05467899724126163, 'test_loss': 2.060637015562791, 'bleu': 19.6337, 'gen_len': 9.7677}\n",
      "\n",
      "=============================\n",
      "\n"
     ]
    },
    {
     "name": "stderr",
     "output_type": "stream",
     "text": [
      " 36%|███▌      | 28/78 [09:01<15:19, 18.39s/it]"
     ]
    },
    {
     "name": "stdout",
     "output_type": "stream",
     "text": [
      "For epoch 34: \n",
      "{Learning rate: [0.0029014280459498257]}\n"
     ]
    },
    {
     "name": "stderr",
     "output_type": "stream",
     "text": [
      "Train batch number 99: 100%|██████████| 99/99 [00:12<00:00,  7.63batches/s]\n",
      "Test batch number 13: 100%|██████████| 13/13 [00:03<00:00,  3.78batches/s]\n"
     ]
    },
    {
     "name": "stdout",
     "output_type": "stream",
     "text": [
      "\n",
      "Metrics: {'train_loss': 0.05359248160337559, 'test_loss': 2.047929259446951, 'bleu': 19.9055, 'gen_len': 9.7424}\n",
      "\n",
      "=============================\n",
      "\n"
     ]
    },
    {
     "name": "stderr",
     "output_type": "stream",
     "text": [
      " 37%|███▋      | 29/78 [09:20<14:57, 18.31s/it]"
     ]
    },
    {
     "name": "stdout",
     "output_type": "stream",
     "text": [
      "For epoch 35: \n",
      "{Learning rate: [0.002897735000570623]}\n"
     ]
    },
    {
     "name": "stderr",
     "output_type": "stream",
     "text": [
      "Train batch number 99: 100%|██████████| 99/99 [00:12<00:00,  7.64batches/s]\n",
      "Test batch number 13: 100%|██████████| 13/13 [00:03<00:00,  4.12batches/s]\n"
     ]
    },
    {
     "name": "stdout",
     "output_type": "stream",
     "text": [
      "\n",
      "Metrics: {'train_loss': 0.052493777380070904, 'test_loss': 2.0640155718876767, 'bleu': 20.0432, 'gen_len': 9.5455}\n",
      "\n",
      "=============================\n",
      "\n"
     ]
    },
    {
     "name": "stderr",
     "output_type": "stream",
     "text": [
      " 38%|███▊      | 30/78 [09:39<14:51, 18.57s/it]"
     ]
    },
    {
     "name": "stdout",
     "output_type": "stream",
     "text": [
      "For epoch 36: \n",
      "{Learning rate: [0.0028940419551914194]}\n"
     ]
    },
    {
     "name": "stderr",
     "output_type": "stream",
     "text": [
      "Train batch number 99: 100%|██████████| 99/99 [00:13<00:00,  7.53batches/s]\n",
      "Test batch number 13: 100%|██████████| 13/13 [00:03<00:00,  3.77batches/s]\n"
     ]
    },
    {
     "name": "stdout",
     "output_type": "stream",
     "text": [
      "\n",
      "Metrics: {'train_loss': 0.05199566025362171, 'test_loss': 2.081382705615117, 'bleu': 19.5174, 'gen_len': 9.7778}\n",
      "\n",
      "=============================\n",
      "\n"
     ]
    },
    {
     "name": "stderr",
     "output_type": "stream",
     "text": [
      " 40%|███▉      | 31/78 [09:57<14:29, 18.50s/it]"
     ]
    },
    {
     "name": "stdout",
     "output_type": "stream",
     "text": [
      "For epoch 37: \n",
      "{Learning rate: [0.0028903489098122165]}\n"
     ]
    },
    {
     "name": "stderr",
     "output_type": "stream",
     "text": [
      "Train batch number 99: 100%|██████████| 99/99 [00:13<00:00,  7.55batches/s]\n",
      "Test batch number 13: 100%|██████████| 13/13 [00:03<00:00,  4.01batches/s]\n"
     ]
    },
    {
     "name": "stdout",
     "output_type": "stream",
     "text": [
      "\n",
      "Metrics: {'train_loss': 0.0492591116991308, 'test_loss': 2.057818055152893, 'bleu': 20.0511, 'gen_len': 9.7273}\n",
      "\n",
      "=============================\n",
      "\n"
     ]
    },
    {
     "name": "stderr",
     "output_type": "stream",
     "text": [
      " 41%|████      | 32/78 [10:17<14:23, 18.77s/it]"
     ]
    },
    {
     "name": "stdout",
     "output_type": "stream",
     "text": [
      "For epoch 38: \n",
      "{Learning rate: [0.0028866558644330136]}\n"
     ]
    },
    {
     "name": "stderr",
     "output_type": "stream",
     "text": [
      "Train batch number 99: 100%|██████████| 99/99 [00:12<00:00,  7.63batches/s]\n",
      "Test batch number 13: 100%|██████████| 13/13 [00:03<00:00,  4.15batches/s]\n"
     ]
    },
    {
     "name": "stdout",
     "output_type": "stream",
     "text": [
      "\n",
      "Metrics: {'train_loss': 0.04999610407259127, 'test_loss': 2.125021512691791, 'bleu': 18.8398, 'gen_len': 9.5707}\n",
      "\n",
      "=============================\n",
      "\n"
     ]
    },
    {
     "name": "stderr",
     "output_type": "stream",
     "text": [
      " 42%|████▏     | 33/78 [10:34<13:52, 18.49s/it]"
     ]
    },
    {
     "name": "stdout",
     "output_type": "stream",
     "text": [
      "For epoch 39: \n",
      "{Learning rate: [0.00288296281905381]}\n"
     ]
    },
    {
     "name": "stderr",
     "output_type": "stream",
     "text": [
      "Train batch number 99: 100%|██████████| 99/99 [00:13<00:00,  7.58batches/s]\n",
      "Test batch number 13: 100%|██████████| 13/13 [00:03<00:00,  3.87batches/s]\n"
     ]
    },
    {
     "name": "stdout",
     "output_type": "stream",
     "text": [
      "\n",
      "Metrics: {'train_loss': 0.04391759803349322, 'test_loss': 2.078750802920415, 'bleu': 19.9186, 'gen_len': 9.7071}\n",
      "\n",
      "=============================\n",
      "\n"
     ]
    },
    {
     "name": "stderr",
     "output_type": "stream",
     "text": [
      " 44%|████▎     | 34/78 [10:53<13:29, 18.39s/it]"
     ]
    },
    {
     "name": "stdout",
     "output_type": "stream",
     "text": [
      "For epoch 40: \n",
      "{Learning rate: [0.0028792697736746077]}\n"
     ]
    },
    {
     "name": "stderr",
     "output_type": "stream",
     "text": [
      "Train batch number 99: 100%|██████████| 99/99 [00:13<00:00,  7.52batches/s]\n",
      "Test batch number 13: 100%|██████████| 13/13 [00:03<00:00,  4.19batches/s]\n"
     ]
    },
    {
     "name": "stdout",
     "output_type": "stream",
     "text": [
      "\n",
      "Metrics: {'train_loss': 0.0436238328540566, 'test_loss': 2.0898329386344323, 'bleu': 19.7978, 'gen_len': 9.5859}\n",
      "\n",
      "=============================\n",
      "\n"
     ]
    },
    {
     "name": "stderr",
     "output_type": "stream",
     "text": [
      " 45%|████▍     | 35/78 [11:10<13:05, 18.27s/it]"
     ]
    },
    {
     "name": "stdout",
     "output_type": "stream",
     "text": [
      "For epoch 41: \n",
      "{Learning rate: [0.0028755767282954044]}\n"
     ]
    },
    {
     "name": "stderr",
     "output_type": "stream",
     "text": [
      "Train batch number 99: 100%|██████████| 99/99 [00:13<00:00,  7.59batches/s]\n",
      "Test batch number 13: 100%|██████████| 13/13 [00:03<00:00,  4.16batches/s]\n"
     ]
    },
    {
     "name": "stdout",
     "output_type": "stream",
     "text": [
      "\n",
      "Metrics: {'train_loss': 0.04347258087511015, 'test_loss': 2.0679799776810865, 'bleu': 19.1007, 'gen_len': 9.5808}\n",
      "\n",
      "=============================\n",
      "\n"
     ]
    },
    {
     "name": "stderr",
     "output_type": "stream",
     "text": [
      " 46%|████▌     | 36/78 [11:28<12:42, 18.16s/it]"
     ]
    },
    {
     "name": "stdout",
     "output_type": "stream",
     "text": [
      "For epoch 42: \n",
      "{Learning rate: [0.0028718836829162014]}\n"
     ]
    },
    {
     "name": "stderr",
     "output_type": "stream",
     "text": [
      "Train batch number 99: 100%|██████████| 99/99 [00:13<00:00,  7.61batches/s]\n",
      "Test batch number 13: 100%|██████████| 13/13 [00:03<00:00,  3.93batches/s]\n"
     ]
    },
    {
     "name": "stdout",
     "output_type": "stream",
     "text": [
      "\n",
      "Metrics: {'train_loss': 0.04410119741364862, 'test_loss': 2.0668497268970194, 'bleu': 19.6824, 'gen_len': 9.8182}\n",
      "\n",
      "=============================\n",
      "\n"
     ]
    },
    {
     "name": "stderr",
     "output_type": "stream",
     "text": [
      " 47%|████▋     | 37/78 [11:46<12:23, 18.13s/it]"
     ]
    },
    {
     "name": "stdout",
     "output_type": "stream",
     "text": [
      "For epoch 43: \n",
      "{Learning rate: [0.0028681906375369985]}\n"
     ]
    },
    {
     "name": "stderr",
     "output_type": "stream",
     "text": [
      "Train batch number 99: 100%|██████████| 99/99 [00:13<00:00,  7.55batches/s]\n",
      "Test batch number 13: 100%|██████████| 13/13 [00:03<00:00,  3.89batches/s]\n"
     ]
    },
    {
     "name": "stdout",
     "output_type": "stream",
     "text": [
      "\n",
      "Metrics: {'train_loss': 0.0428673243056042, 'test_loss': 2.0778021262242246, 'bleu': 20.1429, 'gen_len': 9.6667}\n",
      "\n",
      "=============================\n",
      "\n"
     ]
    },
    {
     "name": "stderr",
     "output_type": "stream",
     "text": [
      " 49%|████▊     | 38/78 [12:06<12:22, 18.55s/it]"
     ]
    },
    {
     "name": "stdout",
     "output_type": "stream",
     "text": [
      "For epoch 44: \n",
      "{Learning rate: [0.002864497592157795]}\n"
     ]
    },
    {
     "name": "stderr",
     "output_type": "stream",
     "text": [
      "Train batch number 99: 100%|██████████| 99/99 [00:13<00:00,  7.55batches/s]\n",
      "Test batch number 13: 100%|██████████| 13/13 [00:03<00:00,  4.23batches/s]\n"
     ]
    },
    {
     "name": "stdout",
     "output_type": "stream",
     "text": [
      "\n",
      "Metrics: {'train_loss': 0.04150387934512562, 'test_loss': 2.0817027367078342, 'bleu': 18.1146, 'gen_len': 9.5909}\n",
      "\n",
      "=============================\n",
      "\n"
     ]
    },
    {
     "name": "stderr",
     "output_type": "stream",
     "text": [
      " 50%|█████     | 39/78 [12:24<11:56, 18.36s/it]"
     ]
    },
    {
     "name": "stdout",
     "output_type": "stream",
     "text": [
      "For epoch 45: \n",
      "{Learning rate: [0.0028608045467785922]}\n"
     ]
    },
    {
     "name": "stderr",
     "output_type": "stream",
     "text": [
      "Train batch number 99: 100%|██████████| 99/99 [00:12<00:00,  7.86batches/s]\n",
      "Test batch number 13: 100%|██████████| 13/13 [00:03<00:00,  3.83batches/s]\n"
     ]
    },
    {
     "name": "stdout",
     "output_type": "stream",
     "text": [
      "\n",
      "Metrics: {'train_loss': 0.036013524951131054, 'test_loss': 2.0876738474919248, 'bleu': 19.9129, 'gen_len': 9.7778}\n",
      "\n",
      "=============================\n",
      "\n"
     ]
    },
    {
     "name": "stderr",
     "output_type": "stream",
     "text": [
      " 51%|█████▏    | 40/78 [12:42<11:30, 18.16s/it]"
     ]
    },
    {
     "name": "stdout",
     "output_type": "stream",
     "text": [
      "For epoch 46: \n",
      "{Learning rate: [0.0028571115013993893]}\n"
     ]
    },
    {
     "name": "stderr",
     "output_type": "stream",
     "text": [
      "Train batch number 99: 100%|██████████| 99/99 [00:12<00:00,  7.71batches/s]\n",
      "Test batch number 13: 100%|██████████| 13/13 [00:03<00:00,  4.16batches/s]\n"
     ]
    },
    {
     "name": "stdout",
     "output_type": "stream",
     "text": [
      "\n",
      "Metrics: {'train_loss': 0.03432085336835095, 'test_loss': 2.083097054408147, 'bleu': 19.86, 'gen_len': 9.2172}\n",
      "\n",
      "=============================\n",
      "\n"
     ]
    },
    {
     "name": "stderr",
     "output_type": "stream",
     "text": [
      " 53%|█████▎    | 41/78 [12:59<11:06, 18.02s/it]"
     ]
    },
    {
     "name": "stdout",
     "output_type": "stream",
     "text": [
      "For epoch 47: \n",
      "{Learning rate: [0.002853418456020186]}\n"
     ]
    },
    {
     "name": "stderr",
     "output_type": "stream",
     "text": [
      "Train batch number 99: 100%|██████████| 99/99 [00:12<00:00,  7.77batches/s]\n",
      "Test batch number 13: 100%|██████████| 13/13 [00:03<00:00,  3.90batches/s]\n"
     ]
    },
    {
     "name": "stdout",
     "output_type": "stream",
     "text": [
      "\n",
      "Metrics: {'train_loss': 0.03616862377208291, 'test_loss': 2.0874051497532773, 'bleu': 18.7242, 'gen_len': 9.5202}\n",
      "\n",
      "=============================\n",
      "\n"
     ]
    },
    {
     "name": "stderr",
     "output_type": "stream",
     "text": [
      " 54%|█████▍    | 42/78 [13:17<10:46, 17.96s/it]"
     ]
    },
    {
     "name": "stdout",
     "output_type": "stream",
     "text": [
      "For epoch 48: \n",
      "{Learning rate: [0.0028497254106409835]}\n"
     ]
    },
    {
     "name": "stderr",
     "output_type": "stream",
     "text": [
      "Train batch number 99: 100%|██████████| 99/99 [00:12<00:00,  7.75batches/s]\n",
      "Test batch number 13: 100%|██████████| 13/13 [00:03<00:00,  4.16batches/s]\n"
     ]
    },
    {
     "name": "stdout",
     "output_type": "stream",
     "text": [
      "\n",
      "Metrics: {'train_loss': 0.03664435752940298, 'test_loss': 2.101089890186603, 'bleu': 19.5361, 'gen_len': 9.6212}\n",
      "\n",
      "=============================\n",
      "\n"
     ]
    },
    {
     "name": "stderr",
     "output_type": "stream",
     "text": [
      " 55%|█████▌    | 43/78 [13:35<10:24, 17.85s/it]"
     ]
    },
    {
     "name": "stdout",
     "output_type": "stream",
     "text": [
      "For epoch 49: \n",
      "{Learning rate: [0.00284603236526178]}\n"
     ]
    },
    {
     "name": "stderr",
     "output_type": "stream",
     "text": [
      "Train batch number 99: 100%|██████████| 99/99 [00:13<00:00,  7.52batches/s]\n",
      "Test batch number 13: 100%|██████████| 13/13 [00:03<00:00,  3.63batches/s]\n"
     ]
    },
    {
     "name": "stdout",
     "output_type": "stream",
     "text": [
      "\n",
      "Metrics: {'train_loss': 0.03584863919049802, 'test_loss': 2.0823009289228, 'bleu': 20.2175, 'gen_len': 9.8384}\n",
      "\n",
      "=============================\n",
      "\n"
     ]
    },
    {
     "name": "stderr",
     "output_type": "stream",
     "text": [
      " 56%|█████▋    | 44/78 [13:55<10:27, 18.44s/it]"
     ]
    },
    {
     "name": "stdout",
     "output_type": "stream",
     "text": [
      "For epoch 50: \n",
      "{Learning rate: [0.002842339319882577]}\n"
     ]
    },
    {
     "name": "stderr",
     "output_type": "stream",
     "text": [
      "Train batch number 99: 100%|██████████| 99/99 [00:12<00:00,  7.71batches/s]\n",
      "Test batch number 13: 100%|██████████| 13/13 [00:03<00:00,  3.78batches/s]\n"
     ]
    },
    {
     "name": "stdout",
     "output_type": "stream",
     "text": [
      "\n",
      "Metrics: {'train_loss': 0.03237668778559174, 'test_loss': 2.1122781955278835, 'bleu': 20.5247, 'gen_len': 9.7828}\n",
      "\n",
      "=============================\n",
      "\n"
     ]
    },
    {
     "name": "stderr",
     "output_type": "stream",
     "text": [
      " 58%|█████▊    | 45/78 [14:14<10:17, 18.71s/it]"
     ]
    },
    {
     "name": "stdout",
     "output_type": "stream",
     "text": [
      "For epoch 51: \n",
      "{Learning rate: [0.0028386462745033742]}\n"
     ]
    },
    {
     "name": "stderr",
     "output_type": "stream",
     "text": [
      "Train batch number 99: 100%|██████████| 99/99 [00:13<00:00,  7.42batches/s]\n",
      "Test batch number 13: 100%|██████████| 13/13 [00:03<00:00,  4.17batches/s]\n"
     ]
    },
    {
     "name": "stdout",
     "output_type": "stream",
     "text": [
      "\n",
      "Metrics: {'train_loss': 0.033849408751297175, 'test_loss': 2.090834480065566, 'bleu': 19.6981, 'gen_len': 9.6212}\n",
      "\n",
      "=============================\n",
      "\n"
     ]
    },
    {
     "name": "stderr",
     "output_type": "stream",
     "text": [
      " 59%|█████▉    | 46/78 [14:32<09:53, 18.56s/it]"
     ]
    },
    {
     "name": "stdout",
     "output_type": "stream",
     "text": [
      "For epoch 52: \n",
      "{Learning rate: [0.002834953229124171]}\n"
     ]
    },
    {
     "name": "stderr",
     "output_type": "stream",
     "text": [
      "Train batch number 99: 100%|██████████| 99/99 [00:13<00:00,  7.57batches/s]\n",
      "Test batch number 13: 100%|██████████| 13/13 [00:03<00:00,  3.95batches/s]\n"
     ]
    },
    {
     "name": "stdout",
     "output_type": "stream",
     "text": [
      "\n",
      "Metrics: {'train_loss': 0.032265387343788386, 'test_loss': 2.0762177889163675, 'bleu': 19.4313, 'gen_len': 9.5859}\n",
      "\n",
      "=============================\n",
      "\n"
     ]
    },
    {
     "name": "stderr",
     "output_type": "stream",
     "text": [
      " 60%|██████    | 47/78 [14:50<09:31, 18.42s/it]"
     ]
    },
    {
     "name": "stdout",
     "output_type": "stream",
     "text": [
      "For epoch 53: \n",
      "{Learning rate: [0.002831260183744968]}\n"
     ]
    },
    {
     "name": "stderr",
     "output_type": "stream",
     "text": [
      "Train batch number 99: 100%|██████████| 99/99 [00:13<00:00,  7.48batches/s]\n",
      "Test batch number 13: 100%|██████████| 13/13 [00:03<00:00,  3.69batches/s]\n"
     ]
    },
    {
     "name": "stdout",
     "output_type": "stream",
     "text": [
      "\n",
      "Metrics: {'train_loss': 0.03192506129900464, 'test_loss': 2.0931894779205322, 'bleu': 18.3075, 'gen_len': 9.7374}\n",
      "\n",
      "=============================\n",
      "\n"
     ]
    },
    {
     "name": "stderr",
     "output_type": "stream",
     "text": [
      " 62%|██████▏   | 48/78 [15:09<09:13, 18.45s/it]"
     ]
    },
    {
     "name": "stdout",
     "output_type": "stream",
     "text": [
      "For epoch 54: \n",
      "{Learning rate: [0.002827567138365765]}\n"
     ]
    },
    {
     "name": "stderr",
     "output_type": "stream",
     "text": [
      "Train batch number 99: 100%|██████████| 99/99 [00:13<00:00,  7.58batches/s]\n",
      "Test batch number 13: 100%|██████████| 13/13 [00:03<00:00,  3.86batches/s]\n"
     ]
    },
    {
     "name": "stdout",
     "output_type": "stream",
     "text": [
      "\n",
      "Metrics: {'train_loss': 0.029295760300951174, 'test_loss': 2.087565678816575, 'bleu': 19.0227, 'gen_len': 9.8232}\n",
      "\n",
      "=============================\n",
      "\n"
     ]
    },
    {
     "name": "stderr",
     "output_type": "stream",
     "text": [
      " 63%|██████▎   | 49/78 [15:27<08:52, 18.36s/it]"
     ]
    },
    {
     "name": "stdout",
     "output_type": "stream",
     "text": [
      "For epoch 55: \n",
      "{Learning rate: [0.0028238740929865617]}\n"
     ]
    },
    {
     "name": "stderr",
     "output_type": "stream",
     "text": [
      "Train batch number 99: 100%|██████████| 99/99 [00:13<00:00,  7.43batches/s]\n",
      "Test batch number 13: 100%|██████████| 13/13 [00:03<00:00,  3.80batches/s]\n"
     ]
    },
    {
     "name": "stdout",
     "output_type": "stream",
     "text": [
      "\n",
      "Metrics: {'train_loss': 0.027088551805589837, 'test_loss': 2.1129095554351807, 'bleu': 19.2175, 'gen_len': 9.8434}\n",
      "\n",
      "=============================\n",
      "\n"
     ]
    },
    {
     "name": "stderr",
     "output_type": "stream",
     "text": [
      " 64%|██████▍   | 50/78 [15:45<08:35, 18.40s/it]"
     ]
    },
    {
     "name": "stdout",
     "output_type": "stream",
     "text": [
      "For epoch 56: \n",
      "{Learning rate: [0.0028201810476073588]}\n"
     ]
    },
    {
     "name": "stderr",
     "output_type": "stream",
     "text": [
      "Train batch number 99: 100%|██████████| 99/99 [00:13<00:00,  7.45batches/s]\n",
      "Test batch number 13: 100%|██████████| 13/13 [00:03<00:00,  3.92batches/s]\n"
     ]
    },
    {
     "name": "stdout",
     "output_type": "stream",
     "text": [
      "\n",
      "Metrics: {'train_loss': 0.029346008879141978, 'test_loss': 2.0628744272085338, 'bleu': 20.7837, 'gen_len': 9.5455}\n",
      "\n",
      "=============================\n",
      "\n"
     ]
    },
    {
     "name": "stderr",
     "output_type": "stream",
     "text": [
      " 65%|██████▌   | 51/78 [16:05<08:27, 18.79s/it]"
     ]
    },
    {
     "name": "stdout",
     "output_type": "stream",
     "text": [
      "For epoch 57: \n",
      "{Learning rate: [0.002816488002228156]}\n"
     ]
    },
    {
     "name": "stderr",
     "output_type": "stream",
     "text": [
      "Train batch number 99: 100%|██████████| 99/99 [00:13<00:00,  7.53batches/s]\n",
      "Test batch number 13: 100%|██████████| 13/13 [00:03<00:00,  3.85batches/s]\n"
     ]
    },
    {
     "name": "stdout",
     "output_type": "stream",
     "text": [
      "\n",
      "Metrics: {'train_loss': 0.02896936352581087, 'test_loss': 2.0866412107761088, 'bleu': 20.938, 'gen_len': 9.7727}\n",
      "\n",
      "=============================\n",
      "\n"
     ]
    },
    {
     "name": "stderr",
     "output_type": "stream",
     "text": [
      " 67%|██████▋   | 52/78 [16:25<08:15, 19.04s/it]"
     ]
    },
    {
     "name": "stdout",
     "output_type": "stream",
     "text": [
      "For epoch 58: \n",
      "{Learning rate: [0.002812794956848953]}\n"
     ]
    },
    {
     "name": "stderr",
     "output_type": "stream",
     "text": [
      "Train batch number 99: 100%|██████████| 99/99 [00:13<00:00,  7.57batches/s]\n",
      "Test batch number 13: 100%|██████████| 13/13 [00:03<00:00,  3.62batches/s]\n"
     ]
    },
    {
     "name": "stdout",
     "output_type": "stream",
     "text": [
      "\n",
      "Metrics: {'train_loss': 0.030628698360588815, 'test_loss': 2.086234661249014, 'bleu': 21.0919, 'gen_len': 9.9394}\n",
      "\n",
      "=============================\n",
      "\n"
     ]
    },
    {
     "name": "stderr",
     "output_type": "stream",
     "text": [
      " 68%|██████▊   | 53/78 [16:44<08:01, 19.26s/it]"
     ]
    },
    {
     "name": "stdout",
     "output_type": "stream",
     "text": [
      "For epoch 59: \n",
      "{Learning rate: [0.00280910191146975]}\n"
     ]
    },
    {
     "name": "stderr",
     "output_type": "stream",
     "text": [
      "Train batch number 99: 100%|██████████| 99/99 [00:13<00:00,  7.50batches/s]\n",
      "Test batch number 13: 100%|██████████| 13/13 [00:03<00:00,  3.73batches/s]\n"
     ]
    },
    {
     "name": "stdout",
     "output_type": "stream",
     "text": [
      "\n",
      "Metrics: {'train_loss': 0.027414288926832002, 'test_loss': 2.094494241934556, 'bleu': 20.1179, 'gen_len': 9.8788}\n",
      "\n",
      "=============================\n",
      "\n"
     ]
    },
    {
     "name": "stderr",
     "output_type": "stream",
     "text": [
      " 69%|██████▉   | 54/78 [17:03<07:36, 19.01s/it]"
     ]
    },
    {
     "name": "stdout",
     "output_type": "stream",
     "text": [
      "For epoch 60: \n",
      "{Learning rate: [0.0028054088660905466]}\n"
     ]
    },
    {
     "name": "stderr",
     "output_type": "stream",
     "text": [
      "Train batch number 99: 100%|██████████| 99/99 [00:13<00:00,  7.44batches/s]\n",
      "Test batch number 13: 100%|██████████| 13/13 [00:03<00:00,  3.93batches/s]\n"
     ]
    },
    {
     "name": "stdout",
     "output_type": "stream",
     "text": [
      "\n",
      "Metrics: {'train_loss': 0.026436937079209872, 'test_loss': 2.107959976563087, 'bleu': 20.3629, 'gen_len': 9.7576}\n",
      "\n",
      "=============================\n",
      "\n"
     ]
    },
    {
     "name": "stderr",
     "output_type": "stream",
     "text": [
      " 71%|███████   | 55/78 [17:21<07:12, 18.82s/it]"
     ]
    },
    {
     "name": "stdout",
     "output_type": "stream",
     "text": [
      "For epoch 61: \n",
      "{Learning rate: [0.0028017158207113437]}\n"
     ]
    },
    {
     "name": "stderr",
     "output_type": "stream",
     "text": [
      "Train batch number 99: 100%|██████████| 99/99 [00:13<00:00,  7.41batches/s]\n",
      "Test batch number 13: 100%|██████████| 13/13 [00:03<00:00,  4.01batches/s]\n"
     ]
    },
    {
     "name": "stdout",
     "output_type": "stream",
     "text": [
      "\n",
      "Metrics: {'train_loss': 0.0267677587513445, 'test_loss': 2.1238382779634914, 'bleu': 20.1055, 'gen_len': 9.7121}\n",
      "\n",
      "=============================\n",
      "\n"
     ]
    },
    {
     "name": "stderr",
     "output_type": "stream",
     "text": [
      " 72%|███████▏  | 56/78 [17:40<06:50, 18.67s/it]"
     ]
    },
    {
     "name": "stdout",
     "output_type": "stream",
     "text": [
      "For epoch 62: \n",
      "{Learning rate: [0.0027980227753321408]}\n"
     ]
    },
    {
     "name": "stderr",
     "output_type": "stream",
     "text": [
      "Train batch number 99: 100%|██████████| 99/99 [00:13<00:00,  7.53batches/s]\n",
      "Test batch number 13: 100%|██████████| 13/13 [00:03<00:00,  3.91batches/s]\n"
     ]
    },
    {
     "name": "stdout",
     "output_type": "stream",
     "text": [
      "\n",
      "Metrics: {'train_loss': 0.026853241823670087, 'test_loss': 2.100664285513071, 'bleu': 19.2102, 'gen_len': 9.5202}\n",
      "\n",
      "=============================\n",
      "\n"
     ]
    },
    {
     "name": "stderr",
     "output_type": "stream",
     "text": [
      " 73%|███████▎  | 57/78 [17:58<06:29, 18.53s/it]"
     ]
    },
    {
     "name": "stdout",
     "output_type": "stream",
     "text": [
      "For epoch 63: \n",
      "{Learning rate: [0.0027943297299529374]}\n"
     ]
    },
    {
     "name": "stderr",
     "output_type": "stream",
     "text": [
      "Train batch number 99: 100%|██████████| 99/99 [00:13<00:00,  7.48batches/s]\n",
      "Test batch number 13: 100%|██████████| 13/13 [00:03<00:00,  4.03batches/s]\n"
     ]
    },
    {
     "name": "stdout",
     "output_type": "stream",
     "text": [
      "\n",
      "Metrics: {'train_loss': 0.024467348563249666, 'test_loss': 2.1032213889635525, 'bleu': 21.2778, 'gen_len': 9.5101}\n",
      "\n",
      "=============================\n",
      "\n"
     ]
    },
    {
     "name": "stderr",
     "output_type": "stream",
     "text": [
      " 74%|███████▍  | 58/78 [18:17<06:16, 18.83s/it]"
     ]
    },
    {
     "name": "stdout",
     "output_type": "stream",
     "text": [
      "For epoch 64: \n",
      "{Learning rate: [0.0027906366845737345]}\n"
     ]
    },
    {
     "name": "stderr",
     "output_type": "stream",
     "text": [
      "Train batch number 99: 100%|██████████| 99/99 [00:13<00:00,  7.56batches/s]\n",
      "Test batch number 13: 100%|██████████| 13/13 [00:03<00:00,  3.57batches/s]\n"
     ]
    },
    {
     "name": "stdout",
     "output_type": "stream",
     "text": [
      "\n",
      "Metrics: {'train_loss': 0.026684915872685837, 'test_loss': 2.1096973969386172, 'bleu': 21.3146, 'gen_len': 9.9545}\n",
      "\n",
      "=============================\n",
      "\n"
     ]
    },
    {
     "name": "stderr",
     "output_type": "stream",
     "text": [
      " 76%|███████▌  | 59/78 [18:37<06:03, 19.13s/it]"
     ]
    },
    {
     "name": "stdout",
     "output_type": "stream",
     "text": [
      "For epoch 65: \n",
      "{Learning rate: [0.0027869436391945316]}\n"
     ]
    },
    {
     "name": "stderr",
     "output_type": "stream",
     "text": [
      "Train batch number 99: 100%|██████████| 99/99 [00:13<00:00,  7.55batches/s]\n",
      "Test batch number 13: 100%|██████████| 13/13 [00:03<00:00,  3.77batches/s]\n"
     ]
    },
    {
     "name": "stdout",
     "output_type": "stream",
     "text": [
      "\n",
      "Metrics: {'train_loss': 0.025502461845977136, 'test_loss': 2.106323003768921, 'bleu': 20.6695, 'gen_len': 9.5657}\n",
      "\n",
      "=============================\n",
      "\n"
     ]
    },
    {
     "name": "stderr",
     "output_type": "stream",
     "text": [
      " 77%|███████▋  | 60/78 [18:55<05:39, 18.89s/it]"
     ]
    },
    {
     "name": "stdout",
     "output_type": "stream",
     "text": [
      "For epoch 66: \n",
      "{Learning rate: [0.0027832505938153286]}\n"
     ]
    },
    {
     "name": "stderr",
     "output_type": "stream",
     "text": [
      "Train batch number 99: 100%|██████████| 99/99 [00:13<00:00,  7.41batches/s]\n",
      "Test batch number 13: 100%|██████████| 13/13 [00:03<00:00,  3.90batches/s]\n"
     ]
    },
    {
     "name": "stdout",
     "output_type": "stream",
     "text": [
      "\n",
      "Metrics: {'train_loss': 0.023253270975229414, 'test_loss': 2.111642626615671, 'bleu': 20.5344, 'gen_len': 9.6768}\n",
      "\n",
      "=============================\n",
      "\n"
     ]
    },
    {
     "name": "stderr",
     "output_type": "stream",
     "text": [
      " 78%|███████▊  | 61/78 [19:14<05:18, 18.75s/it]"
     ]
    },
    {
     "name": "stdout",
     "output_type": "stream",
     "text": [
      "For epoch 67: \n",
      "{Learning rate: [0.0027795575484361257]}\n"
     ]
    },
    {
     "name": "stderr",
     "output_type": "stream",
     "text": [
      "Train batch number 99: 100%|██████████| 99/99 [00:13<00:00,  7.58batches/s]\n",
      "Test batch number 13: 100%|██████████| 13/13 [00:03<00:00,  3.80batches/s]\n"
     ]
    },
    {
     "name": "stdout",
     "output_type": "stream",
     "text": [
      "\n",
      "Metrics: {'train_loss': 0.02394104345391194, 'test_loss': 2.1026240312136135, 'bleu': 21.3873, 'gen_len': 9.5909}\n",
      "\n",
      "=============================\n",
      "\n"
     ]
    },
    {
     "name": "stderr",
     "output_type": "stream",
     "text": [
      " 79%|███████▉  | 62/78 [19:33<05:03, 19.00s/it]"
     ]
    },
    {
     "name": "stdout",
     "output_type": "stream",
     "text": [
      "For epoch 68: \n",
      "{Learning rate: [0.0027758645030569224]}\n"
     ]
    },
    {
     "name": "stderr",
     "output_type": "stream",
     "text": [
      "Train batch number 99: 100%|██████████| 99/99 [00:13<00:00,  7.56batches/s]\n",
      "Test batch number 13: 100%|██████████| 13/13 [00:03<00:00,  3.71batches/s]\n"
     ]
    },
    {
     "name": "stdout",
     "output_type": "stream",
     "text": [
      "\n",
      "Metrics: {'train_loss': 0.023017306360557224, 'test_loss': 2.0935343228853664, 'bleu': 21.4769, 'gen_len': 9.7929}\n",
      "\n",
      "=============================\n",
      "\n"
     ]
    },
    {
     "name": "stderr",
     "output_type": "stream",
     "text": [
      " 81%|████████  | 63/78 [19:53<04:48, 19.23s/it]"
     ]
    },
    {
     "name": "stdout",
     "output_type": "stream",
     "text": [
      "For epoch 69: \n",
      "{Learning rate: [0.0027721714576777194]}\n"
     ]
    },
    {
     "name": "stderr",
     "output_type": "stream",
     "text": [
      "Train batch number 99: 100%|██████████| 99/99 [00:13<00:00,  7.50batches/s]\n",
      "Test batch number 13: 100%|██████████| 13/13 [00:03<00:00,  3.77batches/s]\n"
     ]
    },
    {
     "name": "stdout",
     "output_type": "stream",
     "text": [
      "\n",
      "Metrics: {'train_loss': 0.02282129100646184, 'test_loss': 2.1364049269602847, 'bleu': 19.66, 'gen_len': 9.8636}\n",
      "\n",
      "=============================\n",
      "\n"
     ]
    },
    {
     "name": "stderr",
     "output_type": "stream",
     "text": [
      " 82%|████████▏ | 64/78 [20:12<04:25, 18.98s/it]"
     ]
    },
    {
     "name": "stdout",
     "output_type": "stream",
     "text": [
      "For epoch 70: \n",
      "{Learning rate: [0.0027684784122985165]}\n"
     ]
    },
    {
     "name": "stderr",
     "output_type": "stream",
     "text": [
      "Train batch number 99: 100%|██████████| 99/99 [00:13<00:00,  7.61batches/s]\n",
      "Test batch number 13: 100%|██████████| 13/13 [00:03<00:00,  3.56batches/s]\n"
     ]
    },
    {
     "name": "stdout",
     "output_type": "stream",
     "text": [
      "\n",
      "Metrics: {'train_loss': 0.024635635866698893, 'test_loss': 2.1149346920160146, 'bleu': 20.2095, 'gen_len': 9.5404}\n",
      "\n",
      "=============================\n",
      "\n"
     ]
    },
    {
     "name": "stderr",
     "output_type": "stream",
     "text": [
      " 83%|████████▎ | 65/78 [20:30<04:04, 18.81s/it]"
     ]
    },
    {
     "name": "stdout",
     "output_type": "stream",
     "text": [
      "For epoch 71: \n",
      "{Learning rate: [0.002764785366919313]}\n"
     ]
    },
    {
     "name": "stderr",
     "output_type": "stream",
     "text": [
      "Train batch number 99: 100%|██████████| 99/99 [00:13<00:00,  7.47batches/s]\n",
      "Test batch number 13: 100%|██████████| 13/13 [00:03<00:00,  3.86batches/s]\n"
     ]
    },
    {
     "name": "stdout",
     "output_type": "stream",
     "text": [
      "\n",
      "Metrics: {'train_loss': 0.023292846356829006, 'test_loss': 2.1299608028852024, 'bleu': 20.353, 'gen_len': 9.5909}\n",
      "\n",
      "=============================\n",
      "\n"
     ]
    },
    {
     "name": "stderr",
     "output_type": "stream",
     "text": [
      " 85%|████████▍ | 66/78 [20:48<03:44, 18.67s/it]"
     ]
    },
    {
     "name": "stdout",
     "output_type": "stream",
     "text": [
      "For epoch 72: \n",
      "{Learning rate: [0.0027610923215401102]}\n"
     ]
    },
    {
     "name": "stderr",
     "output_type": "stream",
     "text": [
      "Train batch number 99: 100%|██████████| 99/99 [00:12<00:00,  7.69batches/s]\n",
      "Test batch number 13: 100%|██████████| 13/13 [00:03<00:00,  3.93batches/s]\n"
     ]
    },
    {
     "name": "stdout",
     "output_type": "stream",
     "text": [
      "\n",
      "Metrics: {'train_loss': 0.02058049075945158, 'test_loss': 2.1230778235655565, 'bleu': 19.8877, 'gen_len': 9.5303}\n",
      "\n",
      "=============================\n",
      "\n"
     ]
    },
    {
     "name": "stderr",
     "output_type": "stream",
     "text": [
      " 86%|████████▌ | 67/78 [21:06<03:22, 18.45s/it]"
     ]
    },
    {
     "name": "stdout",
     "output_type": "stream",
     "text": [
      "For epoch 73: \n",
      "{Learning rate: [0.0027573992761609073]}\n"
     ]
    },
    {
     "name": "stderr",
     "output_type": "stream",
     "text": [
      "Train batch number 99: 100%|██████████| 99/99 [00:13<00:00,  7.57batches/s]\n",
      "Test batch number 13: 100%|██████████| 13/13 [00:03<00:00,  3.73batches/s]\n"
     ]
    },
    {
     "name": "stdout",
     "output_type": "stream",
     "text": [
      "\n",
      "Metrics: {'train_loss': 0.02123201138227049, 'test_loss': 2.1045895906595082, 'bleu': 20.4074, 'gen_len': 9.7172}\n",
      "\n",
      "=============================\n",
      "\n"
     ]
    },
    {
     "name": "stderr",
     "output_type": "stream",
     "text": [
      " 87%|████████▋ | 68/78 [21:25<03:04, 18.41s/it]"
     ]
    },
    {
     "name": "stdout",
     "output_type": "stream",
     "text": [
      "For epoch 74: \n",
      "{Learning rate: [0.0027537062307817044]}\n"
     ]
    },
    {
     "name": "stderr",
     "output_type": "stream",
     "text": [
      "Train batch number 99: 100%|██████████| 99/99 [00:13<00:00,  7.48batches/s]\n",
      "Test batch number 13: 100%|██████████| 13/13 [00:03<00:00,  3.92batches/s]\n"
     ]
    },
    {
     "name": "stdout",
     "output_type": "stream",
     "text": [
      "\n",
      "Metrics: {'train_loss': 0.01974402885234943, 'test_loss': 2.0943219661712646, 'bleu': 21.2883, 'gen_len': 9.7828}\n",
      "\n",
      "=============================\n",
      "\n"
     ]
    },
    {
     "name": "stderr",
     "output_type": "stream",
     "text": [
      " 88%|████████▊ | 69/78 [21:43<02:45, 18.37s/it]"
     ]
    },
    {
     "name": "stdout",
     "output_type": "stream",
     "text": [
      "For epoch 75: \n",
      "{Learning rate: [0.0027500131854025014]}\n"
     ]
    },
    {
     "name": "stderr",
     "output_type": "stream",
     "text": [
      "Train batch number 99: 100%|██████████| 99/99 [00:13<00:00,  7.56batches/s]\n",
      "Test batch number 13: 100%|██████████| 13/13 [00:03<00:00,  3.78batches/s]\n"
     ]
    },
    {
     "name": "stdout",
     "output_type": "stream",
     "text": [
      "\n",
      "Metrics: {'train_loss': 0.023042597854980314, 'test_loss': 2.0960475389774027, 'bleu': 20.6723, 'gen_len': 9.9242}\n",
      "\n",
      "=============================\n",
      "\n"
     ]
    },
    {
     "name": "stderr",
     "output_type": "stream",
     "text": [
      " 90%|████████▉ | 70/78 [22:01<02:26, 18.34s/it]"
     ]
    },
    {
     "name": "stdout",
     "output_type": "stream",
     "text": [
      "For epoch 76: \n",
      "{Learning rate: [0.002746320140023298]}\n"
     ]
    },
    {
     "name": "stderr",
     "output_type": "stream",
     "text": [
      "Train batch number 99: 100%|██████████| 99/99 [00:12<00:00,  7.74batches/s]\n",
      "Test batch number 13: 100%|██████████| 13/13 [00:03<00:00,  3.73batches/s]\n"
     ]
    },
    {
     "name": "stdout",
     "output_type": "stream",
     "text": [
      "\n",
      "Metrics: {'train_loss': 0.020298769417679823, 'test_loss': 2.1067109383069553, 'bleu': 20.4567, 'gen_len': 9.8081}\n",
      "\n",
      "=============================\n",
      "\n"
     ]
    },
    {
     "name": "stderr",
     "output_type": "stream",
     "text": [
      " 91%|█████████ | 71/78 [22:19<02:07, 18.24s/it]"
     ]
    },
    {
     "name": "stdout",
     "output_type": "stream",
     "text": [
      "For epoch 77: \n",
      "{Learning rate: [0.002742627094644095]}\n"
     ]
    },
    {
     "name": "stderr",
     "output_type": "stream",
     "text": [
      "Train batch number 99: 100%|██████████| 99/99 [00:12<00:00,  7.67batches/s]\n",
      "Test batch number 13: 100%|██████████| 13/13 [00:03<00:00,  3.95batches/s]\n"
     ]
    },
    {
     "name": "stdout",
     "output_type": "stream",
     "text": [
      "\n",
      "Metrics: {'train_loss': 0.020116203857322382, 'test_loss': 2.115797290435204, 'bleu': 20.6872, 'gen_len': 9.7374}\n",
      "\n",
      "=============================\n",
      "\n"
     ]
    },
    {
     "name": "stderr",
     "output_type": "stream",
     "text": [
      " 92%|█████████▏| 72/78 [22:37<01:48, 18.15s/it]"
     ]
    },
    {
     "name": "stdout",
     "output_type": "stream",
     "text": [
      "For epoch 78: \n",
      "{Learning rate: [0.0027389340492648922]}\n"
     ]
    },
    {
     "name": "stderr",
     "output_type": "stream",
     "text": [
      "Train batch number 99: 100%|██████████| 99/99 [00:13<00:00,  7.59batches/s]\n",
      "Test batch number 13: 100%|██████████| 13/13 [00:03<00:00,  3.75batches/s]\n"
     ]
    },
    {
     "name": "stdout",
     "output_type": "stream",
     "text": [
      "\n",
      "Metrics: {'train_loss': 0.018701622671814577, 'test_loss': 2.134658327469459, 'bleu': 18.2987, 'gen_len': 9.9495}\n",
      "\n",
      "=============================\n",
      "\n"
     ]
    },
    {
     "name": "stderr",
     "output_type": "stream",
     "text": [
      " 94%|█████████▎| 73/78 [22:55<01:30, 18.19s/it]"
     ]
    },
    {
     "name": "stdout",
     "output_type": "stream",
     "text": [
      "For epoch 79: \n",
      "{Learning rate: [0.002735241003885689]}\n"
     ]
    },
    {
     "name": "stderr",
     "output_type": "stream",
     "text": [
      "Train batch number 99: 100%|██████████| 99/99 [00:12<00:00,  7.66batches/s]\n",
      "Test batch number 13: 100%|██████████| 13/13 [00:03<00:00,  3.94batches/s]\n"
     ]
    },
    {
     "name": "stdout",
     "output_type": "stream",
     "text": [
      "\n",
      "Metrics: {'train_loss': 0.01941380118998238, 'test_loss': 2.1184471203730655, 'bleu': 19.0261, 'gen_len': 9.6566}\n",
      "\n",
      "=============================\n",
      "\n"
     ]
    },
    {
     "name": "stderr",
     "output_type": "stream",
     "text": [
      " 95%|█████████▍| 74/78 [23:13<01:12, 18.13s/it]"
     ]
    },
    {
     "name": "stdout",
     "output_type": "stream",
     "text": [
      "For epoch 80: \n",
      "{Learning rate: [0.002731547958506486]}\n"
     ]
    },
    {
     "name": "stderr",
     "output_type": "stream",
     "text": [
      "Train batch number 99: 100%|██████████| 99/99 [00:12<00:00,  7.65batches/s]\n",
      "Test batch number 13: 100%|██████████| 13/13 [00:03<00:00,  3.63batches/s]\n"
     ]
    },
    {
     "name": "stdout",
     "output_type": "stream",
     "text": [
      "\n",
      "Metrics: {'train_loss': 0.019838169939119858, 'test_loss': 2.1079124762461734, 'bleu': 19.8307, 'gen_len': 9.5253}\n",
      "\n",
      "=============================\n",
      "\n"
     ]
    },
    {
     "name": "stderr",
     "output_type": "stream",
     "text": [
      " 96%|█████████▌| 75/78 [23:32<00:54, 18.17s/it]"
     ]
    },
    {
     "name": "stdout",
     "output_type": "stream",
     "text": [
      "For epoch 81: \n",
      "{Learning rate: [0.002727854913127283]}\n"
     ]
    },
    {
     "name": "stderr",
     "output_type": "stream",
     "text": [
      "Train batch number 99: 100%|██████████| 99/99 [00:13<00:00,  7.57batches/s]\n",
      "Test batch number 13: 100%|██████████| 13/13 [00:03<00:00,  3.83batches/s]\n"
     ]
    },
    {
     "name": "stdout",
     "output_type": "stream",
     "text": [
      "\n",
      "Metrics: {'train_loss': 0.01767025177009554, 'test_loss': 2.1091403502684374, 'bleu': 19.6302, 'gen_len': 9.9293}\n",
      "\n",
      "=============================\n",
      "\n"
     ]
    },
    {
     "name": "stderr",
     "output_type": "stream",
     "text": [
      " 97%|█████████▋| 76/78 [23:50<00:36, 18.18s/it]"
     ]
    },
    {
     "name": "stdout",
     "output_type": "stream",
     "text": [
      "For epoch 82: \n",
      "{Learning rate: [0.00272416186774808]}\n"
     ]
    },
    {
     "name": "stderr",
     "output_type": "stream",
     "text": [
      "Train batch number 99: 100%|██████████| 99/99 [00:13<00:00,  7.47batches/s]\n",
      "Test batch number 13: 100%|██████████| 13/13 [00:03<00:00,  3.82batches/s]\n"
     ]
    },
    {
     "name": "stdout",
     "output_type": "stream",
     "text": [
      "\n",
      "Metrics: {'train_loss': 0.019413830554865376, 'test_loss': 2.0996697407502394, 'bleu': 20.7977, 'gen_len': 10.0455}\n",
      "\n",
      "=============================\n",
      "\n"
     ]
    },
    {
     "name": "stderr",
     "output_type": "stream",
     "text": [
      " 99%|█████████▊| 77/78 [24:08<00:18, 18.25s/it]"
     ]
    },
    {
     "name": "stdout",
     "output_type": "stream",
     "text": [
      "For epoch 83: \n",
      "{Learning rate: [0.002720468822368877]}\n"
     ]
    },
    {
     "name": "stderr",
     "output_type": "stream",
     "text": [
      "Train batch number 99: 100%|██████████| 99/99 [00:13<00:00,  7.50batches/s]\n",
      "Test batch number 13: 100%|██████████| 13/13 [00:03<00:00,  3.61batches/s]\n"
     ]
    },
    {
     "name": "stdout",
     "output_type": "stream",
     "text": [
      "\n",
      "Metrics: {'train_loss': 0.01930094945404415, 'test_loss': 2.118147923396184, 'bleu': 20.065, 'gen_len': 10.0}\n",
      "\n",
      "=============================\n",
      "\n"
     ]
    },
    {
     "name": "stderr",
     "output_type": "stream",
     "text": [
      "100%|██████████| 78/78 [24:27<00:00, 18.81s/it]\n"
     ]
    }
   ],
   "source": [
    "trainer.train(epochs = config['epochs'] - trainer.current_epoch, auto_save=True, metric_for_best_model='bleu', metric_objective='maximize', log_step=1,\n",
    "              saving_directory = config['new_model_dir'])"
   ]
  },
  {
   "cell_type": "markdown",
   "metadata": {},
   "source": [
    "### --- Cosine Step"
   ]
  },
  {
   "cell_type": "code",
   "execution_count": 10,
   "metadata": {},
   "outputs": [
    {
     "name": "stderr",
     "output_type": "stream",
     "text": [
      "  0%|          | 0/217 [00:00<?, ?it/s]/home/ec2-user/anaconda3/envs/pytorch_p310/lib/python3.10/site-packages/torch/optim/lr_scheduler.py:265: UserWarning: To get the last learning rate computed by the scheduler, please use `get_last_lr()`.\n",
      "  warnings.warn(\"To get the last learning rate computed by the scheduler, \"\n"
     ]
    },
    {
     "name": "stdout",
     "output_type": "stream",
     "text": [
      "For epoch 84: \n",
      "{Learning rate: [0.002947264271584649]}\n"
     ]
    },
    {
     "name": "stderr",
     "output_type": "stream",
     "text": [
      "Train batch number 99: 100%|██████████| 99/99 [00:12<00:00,  7.69batches/s]\n",
      "Test batch number 13: 100%|██████████| 13/13 [00:03<00:00,  3.78batches/s]\n"
     ]
    },
    {
     "name": "stdout",
     "output_type": "stream",
     "text": [
      "\n",
      "Metrics: {'train_loss': 0.02082285217263482, 'test_loss': 2.092761048903832, 'bleu': 20.2433, 'gen_len': 9.9697}\n",
      "\n",
      "=============================\n",
      "\n"
     ]
    },
    {
     "name": "stderr",
     "output_type": "stream",
     "text": [
      "  0%|          | 1/217 [00:18<1:05:15, 18.13s/it]"
     ]
    },
    {
     "name": "stdout",
     "output_type": "stream",
     "text": [
      "For epoch 85: \n",
      "{Learning rate: [0.0029454370699154714]}\n"
     ]
    },
    {
     "name": "stderr",
     "output_type": "stream",
     "text": [
      "Train batch number 99: 100%|██████████| 99/99 [00:13<00:00,  7.43batches/s]\n",
      "Test batch number 13: 100%|██████████| 13/13 [00:03<00:00,  3.89batches/s]\n"
     ]
    },
    {
     "name": "stdout",
     "output_type": "stream",
     "text": [
      "\n",
      "Metrics: {'train_loss': 0.02035974842646733, 'test_loss': 2.1197976974340587, 'bleu': 20.6262, 'gen_len': 9.7778}\n",
      "\n",
      "=============================\n",
      "\n"
     ]
    },
    {
     "name": "stderr",
     "output_type": "stream",
     "text": [
      "  1%|          | 2/217 [00:36<1:05:33, 18.29s/it]"
     ]
    },
    {
     "name": "stdout",
     "output_type": "stream",
     "text": [
      "For epoch 86: \n",
      "{Learning rate: [0.0029435887532353296]}\n"
     ]
    },
    {
     "name": "stderr",
     "output_type": "stream",
     "text": [
      "Train batch number 99: 100%|██████████| 99/99 [00:13<00:00,  7.40batches/s]\n",
      "Test batch number 13: 100%|██████████| 13/13 [00:03<00:00,  3.88batches/s]\n"
     ]
    },
    {
     "name": "stdout",
     "output_type": "stream",
     "text": [
      "\n",
      "Metrics: {'train_loss': 0.019906076974226066, 'test_loss': 2.0819362035164466, 'bleu': 19.7077, 'gen_len': 10.0556}\n",
      "\n",
      "=============================\n",
      "\n"
     ]
    },
    {
     "name": "stderr",
     "output_type": "stream",
     "text": [
      "  1%|▏         | 3/217 [00:54<1:05:30, 18.37s/it]"
     ]
    },
    {
     "name": "stdout",
     "output_type": "stream",
     "text": [
      "For epoch 87: \n",
      "{Learning rate: [0.0029417193487638934]}\n"
     ]
    },
    {
     "name": "stderr",
     "output_type": "stream",
     "text": [
      "Train batch number 99: 100%|██████████| 99/99 [00:13<00:00,  7.56batches/s]\n",
      "Test batch number 13: 100%|██████████| 13/13 [00:03<00:00,  3.74batches/s]\n"
     ]
    },
    {
     "name": "stdout",
     "output_type": "stream",
     "text": [
      "\n",
      "Metrics: {'train_loss': 0.019800831549659823, 'test_loss': 2.096223152600802, 'bleu': 21.6292, 'gen_len': 9.9495}\n",
      "\n",
      "=============================\n",
      "\n"
     ]
    },
    {
     "name": "stderr",
     "output_type": "stream",
     "text": [
      "  2%|▏         | 4/217 [01:14<1:07:01, 18.88s/it]"
     ]
    },
    {
     "name": "stdout",
     "output_type": "stream",
     "text": [
      "For epoch 88: \n",
      "{Learning rate: [0.002939828884031382]}\n"
     ]
    },
    {
     "name": "stderr",
     "output_type": "stream",
     "text": [
      "Train batch number 99: 100%|██████████| 99/99 [00:13<00:00,  7.59batches/s]\n",
      "Test batch number 13: 100%|██████████| 13/13 [00:03<00:00,  3.81batches/s]\n"
     ]
    },
    {
     "name": "stdout",
     "output_type": "stream",
     "text": [
      "\n",
      "Metrics: {'train_loss': 0.02003433684479784, 'test_loss': 2.099432211655837, 'bleu': 20.0142, 'gen_len': 10.0303}\n",
      "\n",
      "=============================\n",
      "\n"
     ]
    },
    {
     "name": "stderr",
     "output_type": "stream",
     "text": [
      "  2%|▏         | 5/217 [01:32<1:05:54, 18.65s/it]"
     ]
    },
    {
     "name": "stdout",
     "output_type": "stream",
     "text": [
      "For epoch 89: \n",
      "{Learning rate: [0.0029379173868781683]}\n"
     ]
    },
    {
     "name": "stderr",
     "output_type": "stream",
     "text": [
      "Train batch number 99: 100%|██████████| 99/99 [00:13<00:00,  7.55batches/s]\n",
      "Test batch number 13: 100%|██████████| 13/13 [00:03<00:00,  3.75batches/s]\n"
     ]
    },
    {
     "name": "stdout",
     "output_type": "stream",
     "text": [
      "\n",
      "Metrics: {'train_loss': 0.019627890377916922, 'test_loss': 2.1095093947190504, 'bleu': 20.1688, 'gen_len': 9.5808}\n",
      "\n",
      "=============================\n",
      "\n"
     ]
    },
    {
     "name": "stderr",
     "output_type": "stream",
     "text": [
      "  3%|▎         | 6/217 [01:51<1:05:12, 18.54s/it]"
     ]
    },
    {
     "name": "stdout",
     "output_type": "stream",
     "text": [
      "For epoch 90: \n",
      "{Learning rate: [0.00293598488545436]}\n"
     ]
    },
    {
     "name": "stderr",
     "output_type": "stream",
     "text": [
      "Train batch number 99: 100%|██████████| 99/99 [00:13<00:00,  7.41batches/s]\n",
      "Test batch number 13: 100%|██████████| 13/13 [00:03<00:00,  3.80batches/s]\n"
     ]
    },
    {
     "name": "stdout",
     "output_type": "stream",
     "text": [
      "\n",
      "Metrics: {'train_loss': 0.017197841324495398, 'test_loss': 2.150502030666058, 'bleu': 20.218, 'gen_len': 9.8384}\n",
      "\n",
      "=============================\n",
      "\n"
     ]
    },
    {
     "name": "stderr",
     "output_type": "stream",
     "text": [
      "  3%|▎         | 7/217 [02:09<1:04:52, 18.53s/it]"
     ]
    },
    {
     "name": "stdout",
     "output_type": "stream",
     "text": [
      "For epoch 91: \n",
      "{Learning rate: [0.0029340314082193916]}\n"
     ]
    },
    {
     "name": "stderr",
     "output_type": "stream",
     "text": [
      "Train batch number 99: 100%|██████████| 99/99 [00:13<00:00,  7.50batches/s]\n",
      "Test batch number 13: 100%|██████████| 13/13 [00:03<00:00,  3.91batches/s]\n"
     ]
    },
    {
     "name": "stdout",
     "output_type": "stream",
     "text": [
      "\n",
      "Metrics: {'train_loss': 0.022856600333306224, 'test_loss': 2.10175660940317, 'bleu': 20.7825, 'gen_len': 9.7879}\n",
      "\n",
      "=============================\n",
      "\n"
     ]
    },
    {
     "name": "stderr",
     "output_type": "stream",
     "text": [
      "  4%|▎         | 8/217 [02:28<1:04:14, 18.44s/it]"
     ]
    },
    {
     "name": "stdout",
     "output_type": "stream",
     "text": [
      "For epoch 92: \n",
      "{Learning rate: [0.0029320569839416015]}\n"
     ]
    },
    {
     "name": "stderr",
     "output_type": "stream",
     "text": [
      "Train batch number 99: 100%|██████████| 99/99 [00:13<00:00,  7.50batches/s]\n",
      "Test batch number 13: 100%|██████████| 13/13 [00:03<00:00,  3.93batches/s]\n"
     ]
    },
    {
     "name": "stdout",
     "output_type": "stream",
     "text": [
      "\n",
      "Metrics: {'train_loss': 0.018767982203927305, 'test_loss': 2.1127730699685903, 'bleu': 19.8685, 'gen_len': 9.9545}\n",
      "\n",
      "=============================\n",
      "\n"
     ]
    },
    {
     "name": "stderr",
     "output_type": "stream",
     "text": [
      "  4%|▍         | 9/217 [02:46<1:03:45, 18.39s/it]"
     ]
    },
    {
     "name": "stdout",
     "output_type": "stream",
     "text": [
      "For epoch 93: \n",
      "{Learning rate: [0.0029300616416978098]}\n"
     ]
    },
    {
     "name": "stderr",
     "output_type": "stream",
     "text": [
      "Train batch number 99: 100%|██████████| 99/99 [00:13<00:00,  7.50batches/s]\n",
      "Test batch number 13: 100%|██████████| 13/13 [00:03<00:00,  3.80batches/s]\n"
     ]
    },
    {
     "name": "stdout",
     "output_type": "stream",
     "text": [
      "\n",
      "Metrics: {'train_loss': 0.018536740361308358, 'test_loss': 2.1062294978361864, 'bleu': 21.3047, 'gen_len': 9.601}\n",
      "\n",
      "=============================\n",
      "\n"
     ]
    },
    {
     "name": "stderr",
     "output_type": "stream",
     "text": [
      "  5%|▍         | 10/217 [03:04<1:03:25, 18.38s/it]"
     ]
    },
    {
     "name": "stdout",
     "output_type": "stream",
     "text": [
      "For epoch 94: \n",
      "{Learning rate: [0.0029280454108728915]}\n"
     ]
    },
    {
     "name": "stderr",
     "output_type": "stream",
     "text": [
      "Train batch number 99: 100%|██████████| 99/99 [00:13<00:00,  7.38batches/s]\n",
      "Test batch number 13: 100%|██████████| 13/13 [00:03<00:00,  3.88batches/s]\n"
     ]
    },
    {
     "name": "stdout",
     "output_type": "stream",
     "text": [
      "\n",
      "Metrics: {'train_loss': 0.018901859092610804, 'test_loss': 2.1157969052974996, 'bleu': 20.9548, 'gen_len': 9.6061}\n",
      "\n",
      "=============================\n",
      "\n"
     ]
    },
    {
     "name": "stderr",
     "output_type": "stream",
     "text": [
      "  5%|▌         | 11/217 [03:23<1:03:14, 18.42s/it]"
     ]
    },
    {
     "name": "stdout",
     "output_type": "stream",
     "text": [
      "For epoch 95: \n",
      "{Learning rate: [0.0029260083211593395]}\n"
     ]
    },
    {
     "name": "stderr",
     "output_type": "stream",
     "text": [
      "Train batch number 99: 100%|██████████| 99/99 [00:13<00:00,  7.50batches/s]\n",
      "Test batch number 13: 100%|██████████| 13/13 [00:03<00:00,  3.96batches/s]\n"
     ]
    },
    {
     "name": "stdout",
     "output_type": "stream",
     "text": [
      "\n",
      "Metrics: {'train_loss': 0.019465048352933743, 'test_loss': 2.1190952337705173, 'bleu': 19.9259, 'gen_len': 10.0455}\n",
      "\n",
      "=============================\n",
      "\n"
     ]
    },
    {
     "name": "stderr",
     "output_type": "stream",
     "text": [
      "  6%|▌         | 12/217 [03:41<1:02:44, 18.37s/it]"
     ]
    },
    {
     "name": "stdout",
     "output_type": "stream",
     "text": [
      "For epoch 96: \n",
      "{Learning rate: [0.002923950402556832]}\n"
     ]
    },
    {
     "name": "stderr",
     "output_type": "stream",
     "text": [
      "Train batch number 99: 100%|██████████| 99/99 [00:13<00:00,  7.45batches/s]\n",
      "Test batch number 13: 100%|██████████| 13/13 [00:03<00:00,  3.77batches/s]\n"
     ]
    },
    {
     "name": "stdout",
     "output_type": "stream",
     "text": [
      "\n",
      "Metrics: {'train_loss': 0.01845028833721322, 'test_loss': 2.1525345765627346, 'bleu': 18.9023, 'gen_len': 9.904}\n",
      "\n",
      "=============================\n",
      "\n"
     ]
    },
    {
     "name": "stderr",
     "output_type": "stream",
     "text": [
      "  6%|▌         | 13/217 [03:59<1:02:33, 18.40s/it]"
     ]
    },
    {
     "name": "stdout",
     "output_type": "stream",
     "text": [
      "For epoch 97: \n",
      "{Learning rate: [0.002921871685371788]}\n"
     ]
    },
    {
     "name": "stderr",
     "output_type": "stream",
     "text": [
      "Train batch number 99: 100%|██████████| 99/99 [00:13<00:00,  7.49batches/s]\n",
      "Test batch number 13: 100%|██████████| 13/13 [00:03<00:00,  4.02batches/s]\n"
     ]
    },
    {
     "name": "stdout",
     "output_type": "stream",
     "text": [
      "\n",
      "Metrics: {'train_loss': 0.01665215685051123, 'test_loss': 2.1347617277732263, 'bleu': 20.2499, 'gen_len': 9.697}\n",
      "\n",
      "=============================\n",
      "\n"
     ]
    },
    {
     "name": "stderr",
     "output_type": "stream",
     "text": [
      "  6%|▋         | 14/217 [04:18<1:02:00, 18.33s/it]"
     ]
    },
    {
     "name": "stdout",
     "output_type": "stream",
     "text": [
      "For epoch 98: \n",
      "{Learning rate: [0.0029197722002169218]}\n"
     ]
    },
    {
     "name": "stderr",
     "output_type": "stream",
     "text": [
      "Train batch number 99: 100%|██████████| 99/99 [00:13<00:00,  7.50batches/s]\n",
      "Test batch number 13: 100%|██████████| 13/13 [00:03<00:00,  4.16batches/s]\n"
     ]
    },
    {
     "name": "stdout",
     "output_type": "stream",
     "text": [
      "\n",
      "Metrics: {'train_loss': 0.01847068424515351, 'test_loss': 2.1270885100731483, 'bleu': 20.2254, 'gen_len': 9.6667}\n",
      "\n",
      "=============================\n",
      "\n"
     ]
    },
    {
     "name": "stderr",
     "output_type": "stream",
     "text": [
      "  7%|▋         | 15/217 [04:36<1:01:27, 18.25s/it]"
     ]
    },
    {
     "name": "stdout",
     "output_type": "stream",
     "text": [
      "For epoch 99: \n",
      "{Learning rate: [0.0029176519780107915]}\n"
     ]
    },
    {
     "name": "stderr",
     "output_type": "stream",
     "text": [
      "Train batch number 99: 100%|██████████| 99/99 [00:13<00:00,  7.62batches/s]\n",
      "Test batch number 13: 100%|██████████| 13/13 [00:03<00:00,  3.94batches/s]\n"
     ]
    },
    {
     "name": "stdout",
     "output_type": "stream",
     "text": [
      "\n",
      "Metrics: {'train_loss': 0.017592810625868916, 'test_loss': 2.1178489189881544, 'bleu': 20.3039, 'gen_len': 9.5909}\n",
      "\n",
      "=============================\n",
      "\n"
     ]
    },
    {
     "name": "stderr",
     "output_type": "stream",
     "text": [
      "  7%|▋         | 16/217 [04:54<1:00:57, 18.20s/it]"
     ]
    },
    {
     "name": "stdout",
     "output_type": "stream",
     "text": [
      "For epoch 100: \n",
      "{Learning rate: [0.002915511049977345]}\n"
     ]
    },
    {
     "name": "stderr",
     "output_type": "stream",
     "text": [
      "Train batch number 99: 100%|██████████| 99/99 [00:12<00:00,  7.64batches/s]\n",
      "Test batch number 13: 100%|██████████| 13/13 [00:03<00:00,  3.82batches/s]\n"
     ]
    },
    {
     "name": "stdout",
     "output_type": "stream",
     "text": [
      "\n",
      "Metrics: {'train_loss': 0.018224845402827015, 'test_loss': 2.1220937692202053, 'bleu': 20.0519, 'gen_len': 9.7172}\n",
      "\n",
      "=============================\n",
      "\n"
     ]
    },
    {
     "name": "stderr",
     "output_type": "stream",
     "text": [
      "  8%|▊         | 17/217 [05:12<1:00:31, 18.16s/it]"
     ]
    },
    {
     "name": "stdout",
     "output_type": "stream",
     "text": [
      "For epoch 101: \n",
      "{Learning rate: [0.0029133494476454597]}\n"
     ]
    },
    {
     "name": "stderr",
     "output_type": "stream",
     "text": [
      "Train batch number 99: 100%|██████████| 99/99 [00:13<00:00,  7.60batches/s]\n",
      "Test batch number 13: 100%|██████████| 13/13 [00:03<00:00,  3.73batches/s]\n"
     ]
    },
    {
     "name": "stdout",
     "output_type": "stream",
     "text": [
      "\n",
      "Metrics: {'train_loss': 0.017862096400649258, 'test_loss': 2.1555822170697727, 'bleu': 19.8607, 'gen_len': 9.6818}\n",
      "\n",
      "=============================\n",
      "\n"
     ]
    },
    {
     "name": "stderr",
     "output_type": "stream",
     "text": [
      "  8%|▊         | 18/217 [05:30<1:00:19, 18.19s/it]"
     ]
    },
    {
     "name": "stdout",
     "output_type": "stream",
     "text": [
      "For epoch 102: \n",
      "{Learning rate: [0.0029111672028484773]}\n"
     ]
    },
    {
     "name": "stderr",
     "output_type": "stream",
     "text": [
      "Train batch number 99: 100%|██████████| 99/99 [00:13<00:00,  7.53batches/s]\n",
      "Test batch number 13: 100%|██████████| 13/13 [00:03<00:00,  3.92batches/s]\n"
     ]
    },
    {
     "name": "stdout",
     "output_type": "stream",
     "text": [
      "\n",
      "Metrics: {'train_loss': 0.018811276657600896, 'test_loss': 2.137165619776799, 'bleu': 19.6051, 'gen_len': 9.7172}\n",
      "\n",
      "=============================\n",
      "\n"
     ]
    },
    {
     "name": "stderr",
     "output_type": "stream",
     "text": [
      "  9%|▉         | 19/217 [05:48<1:00:01, 18.19s/it]"
     ]
    },
    {
     "name": "stdout",
     "output_type": "stream",
     "text": [
      "For epoch 103: \n",
      "{Learning rate: [0.0029089643477237348]}\n"
     ]
    },
    {
     "name": "stderr",
     "output_type": "stream",
     "text": [
      "Train batch number 99: 100%|██████████| 99/99 [00:12<00:00,  7.62batches/s]\n",
      "Test batch number 13: 100%|██████████| 13/13 [00:03<00:00,  3.78batches/s]\n"
     ]
    },
    {
     "name": "stdout",
     "output_type": "stream",
     "text": [
      "\n",
      "Metrics: {'train_loss': 0.017183433296252982, 'test_loss': 2.1304567135297336, 'bleu': 19.9925, 'gen_len': 9.9242}\n",
      "\n",
      "=============================\n",
      "\n"
     ]
    },
    {
     "name": "stderr",
     "output_type": "stream",
     "text": [
      "  9%|▉         | 20/217 [06:06<59:47, 18.21s/it]  "
     ]
    },
    {
     "name": "stdout",
     "output_type": "stream",
     "text": [
      "For epoch 104: \n",
      "{Learning rate: [0.0029067409147120926]}\n"
     ]
    },
    {
     "name": "stderr",
     "output_type": "stream",
     "text": [
      "Train batch number 99: 100%|██████████| 99/99 [00:13<00:00,  7.54batches/s]\n",
      "Test batch number 13: 100%|██████████| 13/13 [00:03<00:00,  3.90batches/s]\n"
     ]
    },
    {
     "name": "stdout",
     "output_type": "stream",
     "text": [
      "\n",
      "Metrics: {'train_loss': 0.017918717968653925, 'test_loss': 2.1380312626178446, 'bleu': 19.6099, 'gen_len': 9.7929}\n",
      "\n",
      "=============================\n",
      "\n"
     ]
    },
    {
     "name": "stderr",
     "output_type": "stream",
     "text": [
      " 10%|▉         | 21/217 [06:25<59:28, 18.21s/it]"
     ]
    },
    {
     "name": "stdout",
     "output_type": "stream",
     "text": [
      "For epoch 105: \n",
      "{Learning rate: [0.0029044969365574574]}\n"
     ]
    },
    {
     "name": "stderr",
     "output_type": "stream",
     "text": [
      "Train batch number 99: 100%|██████████| 99/99 [00:13<00:00,  7.56batches/s]\n",
      "Test batch number 13: 100%|██████████| 13/13 [00:03<00:00,  3.79batches/s]\n"
     ]
    },
    {
     "name": "stdout",
     "output_type": "stream",
     "text": [
      "\n",
      "Metrics: {'train_loss': 0.017241707384454633, 'test_loss': 2.1581647946284366, 'bleu': 19.6486, 'gen_len': 9.7778}\n",
      "\n",
      "=============================\n",
      "\n"
     ]
    },
    {
     "name": "stderr",
     "output_type": "stream",
     "text": [
      " 10%|█         | 22/217 [06:43<59:17, 18.24s/it]"
     ]
    },
    {
     "name": "stdout",
     "output_type": "stream",
     "text": [
      "For epoch 106: \n",
      "{Learning rate: [0.0029022324463062973]}\n"
     ]
    },
    {
     "name": "stderr",
     "output_type": "stream",
     "text": [
      "Train batch number 99: 100%|██████████| 99/99 [00:12<00:00,  7.65batches/s]\n",
      "Test batch number 13: 100%|██████████| 13/13 [00:03<00:00,  3.86batches/s]\n"
     ]
    },
    {
     "name": "stdout",
     "output_type": "stream",
     "text": [
      "\n",
      "Metrics: {'train_loss': 0.018427722419452185, 'test_loss': 2.1302975599582377, 'bleu': 19.3866, 'gen_len': 9.7273}\n",
      "\n",
      "=============================\n",
      "\n"
     ]
    },
    {
     "name": "stderr",
     "output_type": "stream",
     "text": [
      " 11%|█         | 23/217 [07:01<58:46, 18.18s/it]"
     ]
    },
    {
     "name": "stdout",
     "output_type": "stream",
     "text": [
      "For epoch 107: \n",
      "{Learning rate: [0.0028999474773071573]}\n"
     ]
    },
    {
     "name": "stderr",
     "output_type": "stream",
     "text": [
      "Train batch number 99: 100%|██████████| 99/99 [00:12<00:00,  7.74batches/s]\n",
      "Test batch number 13: 100%|██████████| 13/13 [00:03<00:00,  3.72batches/s]\n"
     ]
    },
    {
     "name": "stdout",
     "output_type": "stream",
     "text": [
      "\n",
      "Metrics: {'train_loss': 0.017741932851177724, 'test_loss': 2.109183641580435, 'bleu': 19.3508, 'gen_len': 9.8788}\n",
      "\n",
      "=============================\n",
      "\n"
     ]
    },
    {
     "name": "stderr",
     "output_type": "stream",
     "text": [
      " 11%|█         | 24/217 [07:19<58:19, 18.13s/it]"
     ]
    },
    {
     "name": "stdout",
     "output_type": "stream",
     "text": [
      "For epoch 108: \n",
      "{Learning rate: [0.0028976420632101665]}\n"
     ]
    },
    {
     "name": "stderr",
     "output_type": "stream",
     "text": [
      "Train batch number 99: 100%|██████████| 99/99 [00:13<00:00,  7.54batches/s]\n",
      "Test batch number 13: 100%|██████████| 13/13 [00:03<00:00,  3.82batches/s]\n"
     ]
    },
    {
     "name": "stdout",
     "output_type": "stream",
     "text": [
      "\n",
      "Metrics: {'train_loss': 0.015802777753296224, 'test_loss': 2.1169401223842916, 'bleu': 18.7045, 'gen_len': 9.7576}\n",
      "\n",
      "=============================\n",
      "\n"
     ]
    },
    {
     "name": "stderr",
     "output_type": "stream",
     "text": [
      " 12%|█▏        | 25/217 [07:37<58:10, 18.18s/it]"
     ]
    },
    {
     "name": "stdout",
     "output_type": "stream",
     "text": [
      "For epoch 109: \n",
      "{Learning rate: [0.0028953162379665442]}\n"
     ]
    },
    {
     "name": "stderr",
     "output_type": "stream",
     "text": [
      "Train batch number 99: 100%|██████████| 99/99 [00:13<00:00,  7.56batches/s]\n",
      "Test batch number 13: 100%|██████████| 13/13 [00:03<00:00,  3.84batches/s]\n"
     ]
    },
    {
     "name": "stdout",
     "output_type": "stream",
     "text": [
      "\n",
      "Metrics: {'train_loss': 0.016140808137321865, 'test_loss': 2.1136554846396813, 'bleu': 19.8961, 'gen_len': 9.7273}\n",
      "\n",
      "=============================\n",
      "\n"
     ]
    },
    {
     "name": "stderr",
     "output_type": "stream",
     "text": [
      " 12%|█▏        | 26/217 [07:56<57:53, 18.19s/it]"
     ]
    },
    {
     "name": "stdout",
     "output_type": "stream",
     "text": [
      "For epoch 110: \n",
      "{Learning rate: [0.0028929700358281]}\n"
     ]
    },
    {
     "name": "stderr",
     "output_type": "stream",
     "text": [
      "Train batch number 99: 100%|██████████| 99/99 [00:12<00:00,  7.64batches/s]\n",
      "Test batch number 13: 100%|██████████| 13/13 [00:03<00:00,  3.97batches/s]\n"
     ]
    },
    {
     "name": "stdout",
     "output_type": "stream",
     "text": [
      "\n",
      "Metrics: {'train_loss': 0.01684816197416924, 'test_loss': 2.1400125668599057, 'bleu': 20.735, 'gen_len': 10.0404}\n",
      "\n",
      "=============================\n",
      "\n"
     ]
    },
    {
     "name": "stderr",
     "output_type": "stream",
     "text": [
      " 12%|█▏        | 27/217 [08:13<57:22, 18.12s/it]"
     ]
    },
    {
     "name": "stdout",
     "output_type": "stream",
     "text": [
      "For epoch 111: \n",
      "{Learning rate: [0.0028906034913467275]}\n"
     ]
    },
    {
     "name": "stderr",
     "output_type": "stream",
     "text": [
      "Train batch number 99: 100%|██████████| 99/99 [00:13<00:00,  7.59batches/s]\n",
      "Test batch number 13: 100%|██████████| 13/13 [00:03<00:00,  3.87batches/s]\n"
     ]
    },
    {
     "name": "stdout",
     "output_type": "stream",
     "text": [
      "\n",
      "Metrics: {'train_loss': 0.01600274028999712, 'test_loss': 2.106177568435669, 'bleu': 19.8513, 'gen_len': 9.8232}\n",
      "\n",
      "=============================\n",
      "\n"
     ]
    },
    {
     "name": "stderr",
     "output_type": "stream",
     "text": [
      " 13%|█▎        | 28/217 [08:32<57:05, 18.12s/it]"
     ]
    },
    {
     "name": "stdout",
     "output_type": "stream",
     "text": [
      "For epoch 112: \n",
      "{Learning rate: [0.002888216639373896]}\n"
     ]
    },
    {
     "name": "stderr",
     "output_type": "stream",
     "text": [
      "Train batch number 99: 100%|██████████| 99/99 [00:12<00:00,  7.78batches/s]\n",
      "Test batch number 13: 100%|██████████| 13/13 [00:03<00:00,  3.77batches/s]\n"
     ]
    },
    {
     "name": "stdout",
     "output_type": "stream",
     "text": [
      "\n",
      "Metrics: {'train_loss': 0.01713341756752043, 'test_loss': 2.105785608291626, 'bleu': 20.1719, 'gen_len': 9.8737}\n",
      "\n",
      "=============================\n",
      "\n"
     ]
    },
    {
     "name": "stderr",
     "output_type": "stream",
     "text": [
      " 13%|█▎        | 29/217 [08:50<56:35, 18.06s/it]"
     ]
    },
    {
     "name": "stdout",
     "output_type": "stream",
     "text": [
      "For epoch 113: \n",
      "{Learning rate: [0.00288580951506014]}\n"
     ]
    },
    {
     "name": "stderr",
     "output_type": "stream",
     "text": [
      "Train batch number 99: 100%|██████████| 99/99 [00:12<00:00,  7.79batches/s]\n",
      "Test batch number 13: 100%|██████████| 13/13 [00:03<00:00,  4.04batches/s]\n"
     ]
    },
    {
     "name": "stdout",
     "output_type": "stream",
     "text": [
      "\n",
      "Metrics: {'train_loss': 0.015584424945920931, 'test_loss': 2.1353924457843485, 'bleu': 20.5672, 'gen_len': 9.5455}\n",
      "\n",
      "=============================\n",
      "\n"
     ]
    },
    {
     "name": "stderr",
     "output_type": "stream",
     "text": [
      " 14%|█▍        | 30/217 [09:07<55:54, 17.94s/it]"
     ]
    },
    {
     "name": "stdout",
     "output_type": "stream",
     "text": [
      "For epoch 114: \n",
      "{Learning rate: [0.0028833821538545375]}\n"
     ]
    },
    {
     "name": "stderr",
     "output_type": "stream",
     "text": [
      "Train batch number 99: 100%|██████████| 99/99 [00:13<00:00,  7.60batches/s]\n",
      "Test batch number 13: 100%|██████████| 13/13 [00:03<00:00,  3.87batches/s]\n"
     ]
    },
    {
     "name": "stdout",
     "output_type": "stream",
     "text": [
      "\n",
      "Metrics: {'train_loss': 0.01657155966574345, 'test_loss': 2.12609287408682, 'bleu': 20.1469, 'gen_len': 9.6212}\n",
      "\n",
      "=============================\n",
      "\n"
     ]
    },
    {
     "name": "stderr",
     "output_type": "stream",
     "text": [
      " 14%|█▍        | 31/217 [09:25<55:46, 17.99s/it]"
     ]
    },
    {
     "name": "stdout",
     "output_type": "stream",
     "text": [
      "For epoch 115: \n",
      "{Learning rate: [0.0028809345915041897]}\n"
     ]
    },
    {
     "name": "stderr",
     "output_type": "stream",
     "text": [
      "Train batch number 99: 100%|██████████| 99/99 [00:13<00:00,  7.55batches/s]\n",
      "Test batch number 13: 100%|██████████| 13/13 [00:03<00:00,  3.78batches/s]\n"
     ]
    },
    {
     "name": "stdout",
     "output_type": "stream",
     "text": [
      "\n",
      "Metrics: {'train_loss': 0.015218369770945624, 'test_loss': 2.1567503122182994, 'bleu': 20.5746, 'gen_len': 9.7222}\n",
      "\n",
      "=============================\n",
      "\n"
     ]
    },
    {
     "name": "stderr",
     "output_type": "stream",
     "text": [
      " 15%|█▍        | 32/217 [09:44<55:45, 18.08s/it]"
     ]
    },
    {
     "name": "stdout",
     "output_type": "stream",
     "text": [
      "For epoch 116: \n",
      "{Learning rate: [0.002878466864053696]}\n"
     ]
    },
    {
     "name": "stderr",
     "output_type": "stream",
     "text": [
      "Train batch number 99: 100%|██████████| 99/99 [00:13<00:00,  7.53batches/s]\n",
      "Test batch number 13: 100%|██████████| 13/13 [00:03<00:00,  3.98batches/s]\n"
     ]
    },
    {
     "name": "stdout",
     "output_type": "stream",
     "text": [
      "\n",
      "Metrics: {'train_loss': 0.015348479411602396, 'test_loss': 2.1372238856095533, 'bleu': 19.7152, 'gen_len': 9.8182}\n",
      "\n",
      "=============================\n",
      "\n"
     ]
    },
    {
     "name": "stderr",
     "output_type": "stream",
     "text": [
      " 15%|█▌        | 33/217 [10:02<55:30, 18.10s/it]"
     ]
    },
    {
     "name": "stdout",
     "output_type": "stream",
     "text": [
      "For epoch 117: \n",
      "{Learning rate: [0.002875979007844621]}\n"
     ]
    },
    {
     "name": "stderr",
     "output_type": "stream",
     "text": [
      "Train batch number 99: 100%|██████████| 99/99 [00:12<00:00,  7.81batches/s]\n",
      "Test batch number 13: 100%|██████████| 13/13 [00:03<00:00,  3.86batches/s]\n"
     ]
    },
    {
     "name": "stdout",
     "output_type": "stream",
     "text": [
      "\n",
      "Metrics: {'train_loss': 0.014985995948070078, 'test_loss': 2.1467235546845655, 'bleu': 20.2205, 'gen_len': 9.6667}\n",
      "\n",
      "=============================\n",
      "\n"
     ]
    },
    {
     "name": "stderr",
     "output_type": "stream",
     "text": [
      " 16%|█▌        | 34/217 [10:20<54:54, 18.01s/it]"
     ]
    },
    {
     "name": "stdout",
     "output_type": "stream",
     "text": [
      "For epoch 118: \n",
      "{Learning rate: [0.002873471059514961]}\n"
     ]
    },
    {
     "name": "stderr",
     "output_type": "stream",
     "text": [
      "Train batch number 99: 100%|██████████| 99/99 [00:13<00:00,  7.59batches/s]\n",
      "Test batch number 13: 100%|██████████| 13/13 [00:03<00:00,  4.06batches/s]\n"
     ]
    },
    {
     "name": "stdout",
     "output_type": "stream",
     "text": [
      "\n",
      "Metrics: {'train_loss': 0.01509946433949576, 'test_loss': 2.109497437110314, 'bleu': 21.8936, 'gen_len': 9.6061}\n",
      "\n",
      "=============================\n",
      "\n"
     ]
    },
    {
     "name": "stderr",
     "output_type": "stream",
     "text": [
      " 16%|█▌        | 35/217 [10:39<55:48, 18.40s/it]"
     ]
    },
    {
     "name": "stdout",
     "output_type": "stream",
     "text": [
      "For epoch 119: \n",
      "{Learning rate: [0.002870943055998602]}\n"
     ]
    },
    {
     "name": "stderr",
     "output_type": "stream",
     "text": [
      "Train batch number 99: 100%|██████████| 99/99 [00:12<00:00,  7.72batches/s]\n",
      "Test batch number 13: 100%|██████████| 13/13 [00:03<00:00,  3.84batches/s]\n"
     ]
    },
    {
     "name": "stdout",
     "output_type": "stream",
     "text": [
      "\n",
      "Metrics: {'train_loss': 0.013503846750039645, 'test_loss': 2.0922506680855384, 'bleu': 20.5124, 'gen_len': 9.7677}\n",
      "\n",
      "=============================\n",
      "\n"
     ]
    },
    {
     "name": "stderr",
     "output_type": "stream",
     "text": [
      " 17%|█▋        | 36/217 [10:57<55:05, 18.26s/it]"
     ]
    },
    {
     "name": "stdout",
     "output_type": "stream",
     "text": [
      "For epoch 120: \n",
      "{Learning rate: [0.002868395034524779]}\n"
     ]
    },
    {
     "name": "stderr",
     "output_type": "stream",
     "text": [
      "Train batch number 99: 100%|██████████| 99/99 [00:12<00:00,  7.72batches/s]\n",
      "Test batch number 13: 100%|██████████| 13/13 [00:03<00:00,  4.04batches/s]\n"
     ]
    },
    {
     "name": "stdout",
     "output_type": "stream",
     "text": [
      "\n",
      "Metrics: {'train_loss': 0.013355048403915281, 'test_loss': 2.120761330311115, 'bleu': 20.0528, 'gen_len': 9.6515}\n",
      "\n",
      "=============================\n",
      "\n"
     ]
    },
    {
     "name": "stderr",
     "output_type": "stream",
     "text": [
      " 17%|█▋        | 37/217 [11:15<54:20, 18.11s/it]"
     ]
    },
    {
     "name": "stdout",
     "output_type": "stream",
     "text": [
      "For epoch 121: \n",
      "{Learning rate: [0.0028658270326175255]}\n"
     ]
    },
    {
     "name": "stderr",
     "output_type": "stream",
     "text": [
      "Train batch number 99: 100%|██████████| 99/99 [00:12<00:00,  7.69batches/s]\n",
      "Test batch number 13: 100%|██████████| 13/13 [00:03<00:00,  4.02batches/s]\n"
     ]
    },
    {
     "name": "stdout",
     "output_type": "stream",
     "text": [
      "\n",
      "Metrics: {'train_loss': 0.014044439538871174, 'test_loss': 2.1395981495197, 'bleu': 20.2459, 'gen_len': 9.6061}\n",
      "\n",
      "=============================\n",
      "\n"
     ]
    },
    {
     "name": "stderr",
     "output_type": "stream",
     "text": [
      " 18%|█▊        | 38/217 [11:32<53:48, 18.04s/it]"
     ]
    },
    {
     "name": "stdout",
     "output_type": "stream",
     "text": [
      "For epoch 122: \n",
      "{Learning rate: [0.002863239088095121]}\n"
     ]
    },
    {
     "name": "stderr",
     "output_type": "stream",
     "text": [
      "Train batch number 99: 100%|██████████| 99/99 [00:12<00:00,  7.65batches/s]\n",
      "Test batch number 13: 100%|██████████| 13/13 [00:03<00:00,  3.79batches/s]\n"
     ]
    },
    {
     "name": "stdout",
     "output_type": "stream",
     "text": [
      "\n",
      "Metrics: {'train_loss': 0.013912216816661936, 'test_loss': 2.1358257073622484, 'bleu': 19.9554, 'gen_len': 9.7071}\n",
      "\n",
      "=============================\n",
      "\n"
     ]
    },
    {
     "name": "stderr",
     "output_type": "stream",
     "text": [
      " 18%|█▊        | 39/217 [11:55<57:18, 19.32s/it]"
     ]
    },
    {
     "name": "stdout",
     "output_type": "stream",
     "text": [
      "For epoch 123: \n",
      "{Learning rate: [0.002860631239069535]}\n"
     ]
    },
    {
     "name": "stderr",
     "output_type": "stream",
     "text": [
      "Train batch number 99: 100%|██████████| 99/99 [00:13<00:00,  7.56batches/s]\n",
      "Test batch number 13: 100%|██████████| 13/13 [00:03<00:00,  4.22batches/s]\n"
     ]
    },
    {
     "name": "stdout",
     "output_type": "stream",
     "text": [
      "\n",
      "Metrics: {'train_loss': 0.014790779989767782, 'test_loss': 2.1158075699439416, 'bleu': 20.5068, 'gen_len': 9.6616}\n",
      "\n",
      "=============================\n",
      "\n"
     ]
    },
    {
     "name": "stderr",
     "output_type": "stream",
     "text": [
      " 18%|█▊        | 40/217 [12:13<55:44, 18.90s/it]"
     ]
    },
    {
     "name": "stdout",
     "output_type": "stream",
     "text": [
      "For epoch 124: \n",
      "{Learning rate: [0.0028580035239458667]}\n"
     ]
    },
    {
     "name": "stderr",
     "output_type": "stream",
     "text": [
      "Train batch number 99: 100%|██████████| 99/99 [00:12<00:00,  7.65batches/s]\n",
      "Test batch number 13: 100%|██████████| 13/13 [00:03<00:00,  4.13batches/s]\n"
     ]
    },
    {
     "name": "stdout",
     "output_type": "stream",
     "text": [
      "\n",
      "Metrics: {'train_loss': 0.014111917174298955, 'test_loss': 2.1028723625036387, 'bleu': 21.3897, 'gen_len': 9.7273}\n",
      "\n",
      "=============================\n",
      "\n"
     ]
    },
    {
     "name": "stderr",
     "output_type": "stream",
     "text": [
      " 19%|█▉        | 41/217 [12:30<54:27, 18.57s/it]"
     ]
    },
    {
     "name": "stdout",
     "output_type": "stream",
     "text": [
      "For epoch 125: \n",
      "{Learning rate: [0.002855355981421775]}\n"
     ]
    },
    {
     "name": "stderr",
     "output_type": "stream",
     "text": [
      "Train batch number 99: 100%|██████████| 99/99 [00:12<00:00,  7.71batches/s]\n",
      "Test batch number 13: 100%|██████████| 13/13 [00:03<00:00,  3.98batches/s]\n"
     ]
    },
    {
     "name": "stdout",
     "output_type": "stream",
     "text": [
      "\n",
      "Metrics: {'train_loss': 0.012502475372971873, 'test_loss': 2.0973441417400656, 'bleu': 21.5133, 'gen_len': 9.7424}\n",
      "\n",
      "=============================\n",
      "\n"
     ]
    },
    {
     "name": "stderr",
     "output_type": "stream",
     "text": [
      " 19%|█▉        | 42/217 [12:48<53:30, 18.35s/it]"
     ]
    },
    {
     "name": "stdout",
     "output_type": "stream",
     "text": [
      "For epoch 126: \n",
      "{Learning rate: [0.0028526886504869147]}\n"
     ]
    },
    {
     "name": "stderr",
     "output_type": "stream",
     "text": [
      "Train batch number 99: 100%|██████████| 99/99 [00:13<00:00,  7.52batches/s]\n",
      "Test batch number 13: 100%|██████████| 13/13 [00:03<00:00,  3.83batches/s]\n"
     ]
    },
    {
     "name": "stdout",
     "output_type": "stream",
     "text": [
      "\n",
      "Metrics: {'train_loss': 0.012389506162214799, 'test_loss': 2.085899756504939, 'bleu': 20.189, 'gen_len': 10.0455}\n",
      "\n",
      "=============================\n",
      "\n"
     ]
    },
    {
     "name": "stderr",
     "output_type": "stream",
     "text": [
      " 20%|█▉        | 43/217 [13:07<53:09, 18.33s/it]"
     ]
    },
    {
     "name": "stdout",
     "output_type": "stream",
     "text": [
      "For epoch 127: \n",
      "{Learning rate: [0.002850001570422357]}\n"
     ]
    },
    {
     "name": "stderr",
     "output_type": "stream",
     "text": [
      "Train batch number 99: 100%|██████████| 99/99 [00:13<00:00,  7.50batches/s]\n",
      "Test batch number 13: 100%|██████████| 13/13 [00:03<00:00,  3.94batches/s]\n"
     ]
    },
    {
     "name": "stdout",
     "output_type": "stream",
     "text": [
      "\n",
      "Metrics: {'train_loss': 0.012518711114123539, 'test_loss': 2.0864237271822414, 'bleu': 20.8182, 'gen_len': 9.8838}\n",
      "\n",
      "=============================\n",
      "\n"
     ]
    },
    {
     "name": "stderr",
     "output_type": "stream",
     "text": [
      " 20%|██        | 44/217 [13:25<52:46, 18.30s/it]"
     ]
    },
    {
     "name": "stdout",
     "output_type": "stream",
     "text": [
      "For epoch 128: \n",
      "{Learning rate: [0.002847294780800015]}\n"
     ]
    },
    {
     "name": "stderr",
     "output_type": "stream",
     "text": [
      "Train batch number 99: 100%|██████████| 99/99 [00:12<00:00,  7.74batches/s]\n",
      "Test batch number 13: 100%|██████████| 13/13 [00:03<00:00,  4.22batches/s]\n"
     ]
    },
    {
     "name": "stdout",
     "output_type": "stream",
     "text": [
      "\n",
      "Metrics: {'train_loss': 0.013326417609480105, 'test_loss': 2.090340788547809, 'bleu': 20.7247, 'gen_len': 9.8838}\n",
      "\n",
      "=============================\n",
      "\n"
     ]
    },
    {
     "name": "stderr",
     "output_type": "stream",
     "text": [
      " 21%|██        | 45/217 [13:42<51:50, 18.09s/it]"
     ]
    },
    {
     "name": "stdout",
     "output_type": "stream",
     "text": [
      "For epoch 129: \n",
      "{Learning rate: [0.002844568321482058]}\n"
     ]
    },
    {
     "name": "stderr",
     "output_type": "stream",
     "text": [
      "Train batch number 99: 100%|██████████| 99/99 [00:13<00:00,  7.53batches/s]\n",
      "Test batch number 13: 100%|██████████| 13/13 [00:03<00:00,  3.70batches/s]\n"
     ]
    },
    {
     "name": "stdout",
     "output_type": "stream",
     "text": [
      "\n",
      "Metrics: {'train_loss': 0.013041494250758503, 'test_loss': 2.124603198124812, 'bleu': 19.0829, 'gen_len': 10.2879}\n",
      "\n",
      "=============================\n",
      "\n"
     ]
    },
    {
     "name": "stderr",
     "output_type": "stream",
     "text": [
      " 21%|██        | 46/217 [14:03<53:39, 18.83s/it]"
     ]
    },
    {
     "name": "stdout",
     "output_type": "stream",
     "text": [
      "For epoch 130: \n",
      "{Learning rate: [0.002841822232620326]}\n"
     ]
    },
    {
     "name": "stderr",
     "output_type": "stream",
     "text": [
      "Train batch number 99: 100%|██████████| 99/99 [00:13<00:00,  7.60batches/s]\n",
      "Test batch number 13: 100%|██████████| 13/13 [00:03<00:00,  3.94batches/s]\n"
     ]
    },
    {
     "name": "stdout",
     "output_type": "stream",
     "text": [
      "\n",
      "Metrics: {'train_loss': 0.013247895903527887, 'test_loss': 2.1304084062576294, 'bleu': 20.4739, 'gen_len': 9.8434}\n",
      "\n",
      "=============================\n",
      "\n"
     ]
    },
    {
     "name": "stderr",
     "output_type": "stream",
     "text": [
      " 22%|██▏       | 47/217 [14:21<52:52, 18.66s/it]"
     ]
    },
    {
     "name": "stdout",
     "output_type": "stream",
     "text": [
      "For epoch 131: \n",
      "{Learning rate: [0.0028390565546557393]}\n"
     ]
    },
    {
     "name": "stderr",
     "output_type": "stream",
     "text": [
      "Train batch number 99: 100%|██████████| 99/99 [00:12<00:00,  7.63batches/s]\n",
      "Test batch number 13: 100%|██████████| 13/13 [00:03<00:00,  3.83batches/s]\n"
     ]
    },
    {
     "name": "stdout",
     "output_type": "stream",
     "text": [
      "\n",
      "Metrics: {'train_loss': 0.013048509579161276, 'test_loss': 2.104820572412931, 'bleu': 20.1712, 'gen_len': 9.8737}\n",
      "\n",
      "=============================\n",
      "\n"
     ]
    },
    {
     "name": "stderr",
     "output_type": "stream",
     "text": [
      " 22%|██▏       | 48/217 [14:39<52:06, 18.50s/it]"
     ]
    },
    {
     "name": "stdout",
     "output_type": "stream",
     "text": [
      "For epoch 132: \n",
      "{Learning rate: [0.002836271328317698]}\n"
     ]
    },
    {
     "name": "stderr",
     "output_type": "stream",
     "text": [
      "Train batch number 99: 100%|██████████| 99/99 [00:12<00:00,  7.67batches/s]\n",
      "Test batch number 13: 100%|██████████| 13/13 [00:03<00:00,  4.03batches/s]\n"
     ]
    },
    {
     "name": "stdout",
     "output_type": "stream",
     "text": [
      "\n",
      "Metrics: {'train_loss': 0.013829653973296059, 'test_loss': 2.0952241145647488, 'bleu': 20.4369, 'gen_len': 9.7576}\n",
      "\n",
      "=============================\n",
      "\n"
     ]
    },
    {
     "name": "stderr",
     "output_type": "stream",
     "text": [
      " 23%|██▎       | 49/217 [14:57<51:16, 18.31s/it]"
     ]
    },
    {
     "name": "stdout",
     "output_type": "stream",
     "text": [
      "For epoch 133: \n",
      "{Learning rate: [0.0028334665946234913]}\n"
     ]
    },
    {
     "name": "stderr",
     "output_type": "stream",
     "text": [
      "Train batch number 99: 100%|██████████| 99/99 [00:12<00:00,  7.70batches/s]\n",
      "Test batch number 13: 100%|██████████| 13/13 [00:03<00:00,  3.88batches/s]\n"
     ]
    },
    {
     "name": "stdout",
     "output_type": "stream",
     "text": [
      "\n",
      "Metrics: {'train_loss': 0.014031702186912298, 'test_loss': 2.0987382577015805, 'bleu': 20.6182, 'gen_len': 9.702}\n",
      "\n",
      "=============================\n",
      "\n"
     ]
    },
    {
     "name": "stderr",
     "output_type": "stream",
     "text": [
      " 23%|██▎       | 50/217 [15:15<50:38, 18.20s/it]"
     ]
    },
    {
     "name": "stdout",
     "output_type": "stream",
     "text": [
      "For epoch 134: \n",
      "{Learning rate: [0.0028306423948776826]}\n"
     ]
    },
    {
     "name": "stderr",
     "output_type": "stream",
     "text": [
      "Train batch number 99: 100%|██████████| 99/99 [00:13<00:00,  7.60batches/s]\n",
      "Test batch number 13: 100%|██████████| 13/13 [00:03<00:00,  4.08batches/s]\n"
     ]
    },
    {
     "name": "stdout",
     "output_type": "stream",
     "text": [
      "\n",
      "Metrics: {'train_loss': 0.01308772310666326, 'test_loss': 2.1284449925789466, 'bleu': 19.7846, 'gen_len': 9.6616}\n",
      "\n",
      "=============================\n",
      "\n"
     ]
    },
    {
     "name": "stderr",
     "output_type": "stream",
     "text": [
      " 24%|██▎       | 51/217 [15:33<50:07, 18.12s/it]"
     ]
    },
    {
     "name": "stdout",
     "output_type": "stream",
     "text": [
      "For epoch 135: \n",
      "{Learning rate: [0.0028277987706715117]}\n"
     ]
    },
    {
     "name": "stderr",
     "output_type": "stream",
     "text": [
      "Train batch number 99: 100%|██████████| 99/99 [00:12<00:00,  7.77batches/s]\n",
      "Test batch number 13: 100%|██████████| 13/13 [00:03<00:00,  3.89batches/s]\n"
     ]
    },
    {
     "name": "stdout",
     "output_type": "stream",
     "text": [
      "\n",
      "Metrics: {'train_loss': 0.014119961961040818, 'test_loss': 2.0705441419894877, 'bleu': 17.9034, 'gen_len': 9.5253}\n",
      "\n",
      "=============================\n",
      "\n"
     ]
    },
    {
     "name": "stderr",
     "output_type": "stream",
     "text": [
      " 24%|██▍       | 52/217 [15:51<49:35, 18.03s/it]"
     ]
    },
    {
     "name": "stdout",
     "output_type": "stream",
     "text": [
      "For epoch 136: \n",
      "{Learning rate: [0.0028249357638822727]}\n"
     ]
    },
    {
     "name": "stderr",
     "output_type": "stream",
     "text": [
      "Train batch number 99: 100%|██████████| 99/99 [00:13<00:00,  7.55batches/s]\n",
      "Test batch number 13: 100%|██████████| 13/13 [00:03<00:00,  3.90batches/s]\n"
     ]
    },
    {
     "name": "stdout",
     "output_type": "stream",
     "text": [
      "\n",
      "Metrics: {'train_loss': 0.012863135851350509, 'test_loss': 2.0785762805205126, 'bleu': 19.7193, 'gen_len': 9.6111}\n",
      "\n",
      "=============================\n",
      "\n"
     ]
    },
    {
     "name": "stderr",
     "output_type": "stream",
     "text": [
      " 24%|██▍       | 53/217 [16:09<49:24, 18.08s/it]"
     ]
    },
    {
     "name": "stdout",
     "output_type": "stream",
     "text": [
      "For epoch 137: \n",
      "{Learning rate: [0.0028220534166727056]}\n"
     ]
    },
    {
     "name": "stderr",
     "output_type": "stream",
     "text": [
      "Train batch number 99: 100%|██████████| 99/99 [00:12<00:00,  7.68batches/s]\n",
      "Test batch number 13: 100%|██████████| 13/13 [00:03<00:00,  3.89batches/s]\n"
     ]
    },
    {
     "name": "stdout",
     "output_type": "stream",
     "text": [
      "\n",
      "Metrics: {'train_loss': 0.014630975502171564, 'test_loss': 2.0959271559348474, 'bleu': 19.6427, 'gen_len': 9.4495}\n",
      "\n",
      "=============================\n",
      "\n"
     ]
    },
    {
     "name": "stderr",
     "output_type": "stream",
     "text": [
      " 25%|██▍       | 54/217 [16:27<49:01, 18.04s/it]"
     ]
    },
    {
     "name": "stdout",
     "output_type": "stream",
     "text": [
      "For epoch 138: \n",
      "{Learning rate: [0.0028191517714903688]}\n"
     ]
    },
    {
     "name": "stderr",
     "output_type": "stream",
     "text": [
      "Train batch number 99: 100%|██████████| 99/99 [00:13<00:00,  7.57batches/s]\n",
      "Test batch number 13: 100%|██████████| 13/13 [00:03<00:00,  3.73batches/s]\n"
     ]
    },
    {
     "name": "stdout",
     "output_type": "stream",
     "text": [
      "\n",
      "Metrics: {'train_loss': 0.01309262137775394, 'test_loss': 2.097131243118873, 'bleu': 18.6357, 'gen_len': 9.7374}\n",
      "\n",
      "=============================\n",
      "\n"
     ]
    },
    {
     "name": "stderr",
     "output_type": "stream",
     "text": [
      " 25%|██▌       | 55/217 [16:45<48:55, 18.12s/it]"
     ]
    },
    {
     "name": "stdout",
     "output_type": "stream",
     "text": [
      "For epoch 139: \n",
      "{Learning rate: [0.002816230871067018]}\n"
     ]
    },
    {
     "name": "stderr",
     "output_type": "stream",
     "text": [
      "Train batch number 99: 100%|██████████| 99/99 [00:12<00:00,  7.77batches/s]\n",
      "Test batch number 13: 100%|██████████| 13/13 [00:03<00:00,  3.80batches/s]\n"
     ]
    },
    {
     "name": "stdout",
     "output_type": "stream",
     "text": [
      "\n",
      "Metrics: {'train_loss': 0.012830824130261787, 'test_loss': 2.10154128074646, 'bleu': 20.0162, 'gen_len': 9.6717}\n",
      "\n",
      "=============================\n",
      "\n"
     ]
    },
    {
     "name": "stderr",
     "output_type": "stream",
     "text": [
      " 26%|██▌       | 56/217 [17:03<48:26, 18.05s/it]"
     ]
    },
    {
     "name": "stdout",
     "output_type": "stream",
     "text": [
      "For epoch 140: \n",
      "{Learning rate: [0.002813290758417976]}\n"
     ]
    },
    {
     "name": "stderr",
     "output_type": "stream",
     "text": [
      "Train batch number 99: 100%|██████████| 99/99 [00:12<00:00,  7.83batches/s]\n",
      "Test batch number 13: 100%|██████████| 13/13 [00:03<00:00,  4.01batches/s]\n"
     ]
    },
    {
     "name": "stdout",
     "output_type": "stream",
     "text": [
      "\n",
      "Metrics: {'train_loss': 0.013191072042735124, 'test_loss': 2.070495376220116, 'bleu': 18.3748, 'gen_len': 9.7525}\n",
      "\n",
      "=============================\n",
      "\n"
     ]
    },
    {
     "name": "stderr",
     "output_type": "stream",
     "text": [
      " 26%|██▋       | 57/217 [17:21<47:48, 17.93s/it]"
     ]
    },
    {
     "name": "stdout",
     "output_type": "stream",
     "text": [
      "For epoch 141: \n",
      "{Learning rate: [0.0028103314768414987]}\n"
     ]
    },
    {
     "name": "stderr",
     "output_type": "stream",
     "text": [
      "Train batch number 99: 100%|██████████| 99/99 [00:13<00:00,  7.50batches/s]\n",
      "Test batch number 13: 100%|██████████| 13/13 [00:03<00:00,  3.88batches/s]\n"
     ]
    },
    {
     "name": "stdout",
     "output_type": "stream",
     "text": [
      "\n",
      "Metrics: {'train_loss': 0.011531762043225834, 'test_loss': 2.0925031992105336, 'bleu': 19.6469, 'gen_len': 9.601}\n",
      "\n",
      "=============================\n",
      "\n"
     ]
    },
    {
     "name": "stderr",
     "output_type": "stream",
     "text": [
      " 27%|██▋       | 58/217 [17:39<47:48, 18.04s/it]"
     ]
    },
    {
     "name": "stdout",
     "output_type": "stream",
     "text": [
      "For epoch 142: \n",
      "{Learning rate: [0.0028073530699181375]}\n"
     ]
    },
    {
     "name": "stderr",
     "output_type": "stream",
     "text": [
      "Train batch number 99: 100%|██████████| 99/99 [00:13<00:00,  7.46batches/s]\n",
      "Test batch number 13: 100%|██████████| 13/13 [00:03<00:00,  3.75batches/s]\n"
     ]
    },
    {
     "name": "stdout",
     "output_type": "stream",
     "text": [
      "\n",
      "Metrics: {'train_loss': 0.010954900120262696, 'test_loss': 2.0982493528952966, 'bleu': 18.8653, 'gen_len': 9.6919}\n",
      "\n",
      "=============================\n",
      "\n"
     ]
    },
    {
     "name": "stderr",
     "output_type": "stream",
     "text": [
      " 27%|██▋       | 59/217 [17:58<47:51, 18.18s/it]"
     ]
    },
    {
     "name": "stdout",
     "output_type": "stream",
     "text": [
      "For epoch 143: \n",
      "{Learning rate: [0.002804355581510097]}\n"
     ]
    },
    {
     "name": "stderr",
     "output_type": "stream",
     "text": [
      "Train batch number 99: 100%|██████████| 99/99 [00:13<00:00,  7.60batches/s]\n",
      "Test batch number 13: 100%|██████████| 13/13 [00:03<00:00,  3.72batches/s]\n"
     ]
    },
    {
     "name": "stdout",
     "output_type": "stream",
     "text": [
      "\n",
      "Metrics: {'train_loss': 0.01148589506523091, 'test_loss': 2.130349250940176, 'bleu': 19.4459, 'gen_len': 9.6818}\n",
      "\n",
      "=============================\n",
      "\n"
     ]
    },
    {
     "name": "stderr",
     "output_type": "stream",
     "text": [
      " 28%|██▊       | 60/217 [18:16<47:37, 18.20s/it]"
     ]
    },
    {
     "name": "stdout",
     "output_type": "stream",
     "text": [
      "For epoch 144: \n",
      "{Learning rate: [0.002801339055760592]}\n"
     ]
    },
    {
     "name": "stderr",
     "output_type": "stream",
     "text": [
      "Train batch number 99: 100%|██████████| 99/99 [00:12<00:00,  7.62batches/s]\n",
      "Test batch number 13: 100%|██████████| 13/13 [00:03<00:00,  3.67batches/s]\n"
     ]
    },
    {
     "name": "stdout",
     "output_type": "stream",
     "text": [
      "\n",
      "Metrics: {'train_loss': 0.011907716532181385, 'test_loss': 2.0701356942837057, 'bleu': 18.9424, 'gen_len': 9.8384}\n",
      "\n",
      "=============================\n",
      "\n"
     ]
    },
    {
     "name": "stderr",
     "output_type": "stream",
     "text": [
      " 28%|██▊       | 61/217 [18:34<47:23, 18.23s/it]"
     ]
    },
    {
     "name": "stdout",
     "output_type": "stream",
     "text": [
      "For epoch 145: \n",
      "{Learning rate: [0.0027983035370931922]}\n"
     ]
    },
    {
     "name": "stderr",
     "output_type": "stream",
     "text": [
      "Train batch number 99: 100%|██████████| 99/99 [00:12<00:00,  7.66batches/s]\n",
      "Test batch number 13: 100%|██████████| 13/13 [00:03<00:00,  4.05batches/s]\n"
     ]
    },
    {
     "name": "stdout",
     "output_type": "stream",
     "text": [
      "\n",
      "Metrics: {'train_loss': 0.01109481109082793, 'test_loss': 2.075840564874502, 'bleu': 19.1696, 'gen_len': 9.8283}\n",
      "\n",
      "=============================\n",
      "\n"
     ]
    },
    {
     "name": "stderr",
     "output_type": "stream",
     "text": [
      " 29%|██▊       | 62/217 [18:52<46:48, 18.12s/it]"
     ]
    },
    {
     "name": "stdout",
     "output_type": "stream",
     "text": [
      "For epoch 146: \n",
      "{Learning rate: [0.002795249070211173]}\n"
     ]
    },
    {
     "name": "stderr",
     "output_type": "stream",
     "text": [
      "Train batch number 99: 100%|██████████| 99/99 [00:13<00:00,  7.54batches/s]\n",
      "Test batch number 13: 100%|██████████| 13/13 [00:03<00:00,  3.80batches/s]\n"
     ]
    },
    {
     "name": "stdout",
     "output_type": "stream",
     "text": [
      "\n",
      "Metrics: {'train_loss': 0.013469565928457399, 'test_loss': 2.0581127130068264, 'bleu': 19.2137, 'gen_len': 9.7424}\n",
      "\n",
      "=============================\n",
      "\n"
     ]
    },
    {
     "name": "stderr",
     "output_type": "stream",
     "text": [
      " 29%|██▉       | 63/217 [19:10<46:39, 18.18s/it]"
     ]
    },
    {
     "name": "stdout",
     "output_type": "stream",
     "text": [
      "For epoch 147: \n",
      "{Learning rate: [0.0027921757000968547]}\n"
     ]
    },
    {
     "name": "stderr",
     "output_type": "stream",
     "text": [
      "Train batch number 99: 100%|██████████| 99/99 [00:13<00:00,  7.57batches/s]\n",
      "Test batch number 13: 100%|██████████| 13/13 [00:03<00:00,  3.75batches/s]\n"
     ]
    },
    {
     "name": "stdout",
     "output_type": "stream",
     "text": [
      "\n",
      "Metrics: {'train_loss': 0.012626828587581074, 'test_loss': 2.047603185360248, 'bleu': 19.2015, 'gen_len': 10.0657}\n",
      "\n",
      "=============================\n",
      "\n"
     ]
    },
    {
     "name": "stderr",
     "output_type": "stream",
     "text": [
      " 29%|██▉       | 64/217 [19:29<46:25, 18.21s/it]"
     ]
    },
    {
     "name": "stdout",
     "output_type": "stream",
     "text": [
      "For epoch 148: \n",
      "{Learning rate: [0.00278908347201094]}\n"
     ]
    },
    {
     "name": "stderr",
     "output_type": "stream",
     "text": [
      "Train batch number 99: 100%|██████████| 99/99 [00:13<00:00,  7.56batches/s]\n",
      "Test batch number 13: 100%|██████████| 13/13 [00:03<00:00,  3.72batches/s]\n"
     ]
    },
    {
     "name": "stdout",
     "output_type": "stream",
     "text": [
      "\n",
      "Metrics: {'train_loss': 0.01244722642862906, 'test_loss': 2.0720013196651754, 'bleu': 20.2753, 'gen_len': 9.798}\n",
      "\n",
      "=============================\n",
      "\n"
     ]
    },
    {
     "name": "stderr",
     "output_type": "stream",
     "text": [
      " 30%|██▉       | 65/217 [19:47<46:12, 18.24s/it]"
     ]
    },
    {
     "name": "stdout",
     "output_type": "stream",
     "text": [
      "For epoch 149: \n",
      "{Learning rate: [0.0027859724314918477]}\n"
     ]
    },
    {
     "name": "stderr",
     "output_type": "stream",
     "text": [
      "Train batch number 99: 100%|██████████| 99/99 [00:13<00:00,  7.45batches/s]\n",
      "Test batch number 13: 100%|██████████| 13/13 [00:03<00:00,  3.87batches/s]\n"
     ]
    },
    {
     "name": "stdout",
     "output_type": "stream",
     "text": [
      "\n",
      "Metrics: {'train_loss': 0.011097079542150364, 'test_loss': 2.0499433554135837, 'bleu': 21.2267, 'gen_len': 9.8889}\n",
      "\n",
      "=============================\n",
      "\n"
     ]
    },
    {
     "name": "stderr",
     "output_type": "stream",
     "text": [
      " 30%|███       | 66/217 [20:05<46:01, 18.29s/it]"
     ]
    },
    {
     "name": "stdout",
     "output_type": "stream",
     "text": [
      "For epoch 150: \n",
      "{Learning rate: [0.002782842624355044]}\n"
     ]
    },
    {
     "name": "stderr",
     "output_type": "stream",
     "text": [
      "Train batch number 99: 100%|██████████| 99/99 [00:13<00:00,  7.59batches/s]\n",
      "Test batch number 13: 100%|██████████| 13/13 [00:03<00:00,  3.70batches/s]\n"
     ]
    },
    {
     "name": "stdout",
     "output_type": "stream",
     "text": [
      "\n",
      "Metrics: {'train_loss': 0.010792989810608854, 'test_loss': 2.06296378832597, 'bleu': 20.1987, 'gen_len': 9.9949}\n",
      "\n",
      "=============================\n",
      "\n"
     ]
    },
    {
     "name": "stderr",
     "output_type": "stream",
     "text": [
      " 31%|███       | 67/217 [20:24<45:43, 18.29s/it]"
     ]
    },
    {
     "name": "stdout",
     "output_type": "stream",
     "text": [
      "For epoch 151: \n",
      "{Learning rate: [0.002779694096692364]}\n"
     ]
    },
    {
     "name": "stderr",
     "output_type": "stream",
     "text": [
      "Train batch number 99: 100%|██████████| 99/99 [00:12<00:00,  7.70batches/s]\n",
      "Test batch number 13: 100%|██████████| 13/13 [00:03<00:00,  3.90batches/s]\n"
     ]
    },
    {
     "name": "stdout",
     "output_type": "stream",
     "text": [
      "\n",
      "Metrics: {'train_loss': 0.010965032370130749, 'test_loss': 2.0767256296597996, 'bleu': 20.2437, 'gen_len': 10.0455}\n",
      "\n",
      "=============================\n",
      "\n"
     ]
    },
    {
     "name": "stderr",
     "output_type": "stream",
     "text": [
      " 31%|███▏      | 68/217 [20:42<45:09, 18.19s/it]"
     ]
    },
    {
     "name": "stdout",
     "output_type": "stream",
     "text": [
      "For epoch 152: \n",
      "{Learning rate: [0.002776526894871336]}\n"
     ]
    },
    {
     "name": "stderr",
     "output_type": "stream",
     "text": [
      "Train batch number 99: 100%|██████████| 99/99 [00:13<00:00,  7.38batches/s]\n",
      "Test batch number 13: 100%|██████████| 13/13 [00:03<00:00,  3.69batches/s]\n"
     ]
    },
    {
     "name": "stdout",
     "output_type": "stream",
     "text": [
      "\n",
      "Metrics: {'train_loss': 0.011343842664512457, 'test_loss': 2.0509935158949633, 'bleu': 20.7765, 'gen_len': 9.9343}\n",
      "\n",
      "=============================\n",
      "\n"
     ]
    },
    {
     "name": "stderr",
     "output_type": "stream",
     "text": [
      " 32%|███▏      | 69/217 [21:00<45:13, 18.33s/it]"
     ]
    },
    {
     "name": "stdout",
     "output_type": "stream",
     "text": [
      "For epoch 153: \n",
      "{Learning rate: [0.0027733410655344974]}\n"
     ]
    },
    {
     "name": "stderr",
     "output_type": "stream",
     "text": [
      "Train batch number 99: 100%|██████████| 99/99 [00:13<00:00,  7.57batches/s]\n",
      "Test batch number 13: 100%|██████████| 13/13 [00:03<00:00,  4.01batches/s]\n"
     ]
    },
    {
     "name": "stdout",
     "output_type": "stream",
     "text": [
      "\n",
      "Metrics: {'train_loss': 0.011031433156776157, 'test_loss': 2.068308821091285, 'bleu': 20.4483, 'gen_len': 9.7121}\n",
      "\n",
      "=============================\n",
      "\n"
     ]
    },
    {
     "name": "stderr",
     "output_type": "stream",
     "text": [
      " 32%|███▏      | 70/217 [21:18<44:42, 18.25s/it]"
     ]
    },
    {
     "name": "stdout",
     "output_type": "stream",
     "text": [
      "For epoch 154: \n",
      "{Learning rate: [0.002770136655598709]}\n"
     ]
    },
    {
     "name": "stderr",
     "output_type": "stream",
     "text": [
      "Train batch number 99: 100%|██████████| 99/99 [00:13<00:00,  7.47batches/s]\n",
      "Test batch number 13: 100%|██████████| 13/13 [00:03<00:00,  3.88batches/s]\n"
     ]
    },
    {
     "name": "stdout",
     "output_type": "stream",
     "text": [
      "\n",
      "Metrics: {'train_loss': 0.01261407433776185, 'test_loss': 2.049330766384418, 'bleu': 21.0688, 'gen_len': 9.8182}\n",
      "\n",
      "=============================\n",
      "\n"
     ]
    },
    {
     "name": "stderr",
     "output_type": "stream",
     "text": [
      " 33%|███▎      | 71/217 [21:37<44:28, 18.28s/it]"
     ]
    },
    {
     "name": "stdout",
     "output_type": "stream",
     "text": [
      "For epoch 155: \n",
      "{Learning rate: [0.0027669137122544613]}\n"
     ]
    },
    {
     "name": "stderr",
     "output_type": "stream",
     "text": [
      "Train batch number 99: 100%|██████████| 99/99 [00:13<00:00,  7.61batches/s]\n",
      "Test batch number 13: 100%|██████████| 13/13 [00:03<00:00,  3.80batches/s]\n"
     ]
    },
    {
     "name": "stdout",
     "output_type": "stream",
     "text": [
      "\n",
      "Metrics: {'train_loss': 0.010922875535801391, 'test_loss': 2.072198051672715, 'bleu': 20.3603, 'gen_len': 9.7677}\n",
      "\n",
      "=============================\n",
      "\n"
     ]
    },
    {
     "name": "stderr",
     "output_type": "stream",
     "text": [
      " 33%|███▎      | 72/217 [21:55<44:06, 18.25s/it]"
     ]
    },
    {
     "name": "stdout",
     "output_type": "stream",
     "text": [
      "For epoch 156: \n",
      "{Learning rate: [0.002763672282965182]}\n"
     ]
    },
    {
     "name": "stderr",
     "output_type": "stream",
     "text": [
      "Train batch number 99: 100%|██████████| 99/99 [00:13<00:00,  7.49batches/s]\n",
      "Test batch number 13: 100%|██████████| 13/13 [00:03<00:00,  3.74batches/s]\n"
     ]
    },
    {
     "name": "stdout",
     "output_type": "stream",
     "text": [
      "\n",
      "Metrics: {'train_loss': 0.011837614349776296, 'test_loss': 2.05324308688824, 'bleu': 21.5632, 'gen_len': 9.5606}\n",
      "\n",
      "=============================\n",
      "\n"
     ]
    },
    {
     "name": "stderr",
     "output_type": "stream",
     "text": [
      " 34%|███▎      | 73/217 [22:13<43:57, 18.32s/it]"
     ]
    },
    {
     "name": "stdout",
     "output_type": "stream",
     "text": [
      "For epoch 157: \n",
      "{Learning rate: [0.0027604124154665386]}\n"
     ]
    },
    {
     "name": "stderr",
     "output_type": "stream",
     "text": [
      "Train batch number 99: 100%|██████████| 99/99 [00:13<00:00,  7.44batches/s]\n",
      "Test batch number 13: 100%|██████████| 13/13 [00:03<00:00,  3.96batches/s]\n"
     ]
    },
    {
     "name": "stdout",
     "output_type": "stream",
     "text": [
      "\n",
      "Metrics: {'train_loss': 0.010783820273413446, 'test_loss': 2.079196196336013, 'bleu': 19.6945, 'gen_len': 9.6162}\n",
      "\n",
      "=============================\n",
      "\n"
     ]
    },
    {
     "name": "stderr",
     "output_type": "stream",
     "text": [
      " 34%|███▍      | 74/217 [22:32<43:40, 18.32s/it]"
     ]
    },
    {
     "name": "stdout",
     "output_type": "stream",
     "text": [
      "For epoch 158: \n",
      "{Learning rate: [0.0027571341577657302]}\n"
     ]
    },
    {
     "name": "stderr",
     "output_type": "stream",
     "text": [
      "Train batch number 99: 100%|██████████| 99/99 [00:12<00:00,  7.67batches/s]\n",
      "Test batch number 13: 100%|██████████| 13/13 [00:03<00:00,  3.68batches/s]\n"
     ]
    },
    {
     "name": "stdout",
     "output_type": "stream",
     "text": [
      "\n",
      "Metrics: {'train_loss': 0.010719276284399169, 'test_loss': 2.0617414254408617, 'bleu': 19.4144, 'gen_len': 9.7374}\n",
      "\n",
      "=============================\n",
      "\n"
     ]
    },
    {
     "name": "stderr",
     "output_type": "stream",
     "text": [
      " 35%|███▍      | 75/217 [22:50<43:15, 18.28s/it]"
     ]
    },
    {
     "name": "stdout",
     "output_type": "stream",
     "text": [
      "For epoch 159: \n",
      "{Learning rate: [0.0027538375581407843]}\n"
     ]
    },
    {
     "name": "stderr",
     "output_type": "stream",
     "text": [
      "Train batch number 99: 100%|██████████| 99/99 [00:13<00:00,  7.49batches/s]\n",
      "Test batch number 13: 100%|██████████| 13/13 [00:03<00:00,  3.80batches/s]\n"
     ]
    },
    {
     "name": "stdout",
     "output_type": "stream",
     "text": [
      "\n",
      "Metrics: {'train_loss': 0.010883207776292104, 'test_loss': 2.078029605058523, 'bleu': 19.7482, 'gen_len': 9.8838}\n",
      "\n",
      "=============================\n",
      "\n"
     ]
    },
    {
     "name": "stderr",
     "output_type": "stream",
     "text": [
      " 35%|███▌      | 76/217 [23:08<43:01, 18.31s/it]"
     ]
    },
    {
     "name": "stdout",
     "output_type": "stream",
     "text": [
      "For epoch 160: \n",
      "{Learning rate: [0.0027505226651398464]}\n"
     ]
    },
    {
     "name": "stderr",
     "output_type": "stream",
     "text": [
      "Train batch number 99: 100%|██████████| 99/99 [00:13<00:00,  7.56batches/s]\n",
      "Test batch number 13: 100%|██████████| 13/13 [00:03<00:00,  3.89batches/s]\n"
     ]
    },
    {
     "name": "stdout",
     "output_type": "stream",
     "text": [
      "\n",
      "Metrics: {'train_loss': 0.010340683967712325, 'test_loss': 2.06269961137038, 'bleu': 19.9746, 'gen_len': 9.8889}\n",
      "\n",
      "=============================\n",
      "\n"
     ]
    },
    {
     "name": "stderr",
     "output_type": "stream",
     "text": [
      " 35%|███▌      | 77/217 [23:26<42:37, 18.27s/it]"
     ]
    },
    {
     "name": "stdout",
     "output_type": "stream",
     "text": [
      "For epoch 161: \n",
      "{Learning rate: [0.0027471895275804617]}\n"
     ]
    },
    {
     "name": "stderr",
     "output_type": "stream",
     "text": [
      "Train batch number 99: 100%|██████████| 99/99 [00:12<00:00,  7.63batches/s]\n",
      "Test batch number 13: 100%|██████████| 13/13 [00:03<00:00,  3.82batches/s]\n"
     ]
    },
    {
     "name": "stdout",
     "output_type": "stream",
     "text": [
      "\n",
      "Metrics: {'train_loss': 0.010904387299281856, 'test_loss': 2.043840555044321, 'bleu': 19.4966, 'gen_len': 9.7323}\n",
      "\n",
      "=============================\n",
      "\n"
     ]
    },
    {
     "name": "stderr",
     "output_type": "stream",
     "text": [
      " 36%|███▌      | 78/217 [23:45<42:13, 18.23s/it]"
     ]
    },
    {
     "name": "stdout",
     "output_type": "stream",
     "text": [
      "For epoch 162: \n",
      "{Learning rate: [0.0027438381945488603]}\n"
     ]
    },
    {
     "name": "stderr",
     "output_type": "stream",
     "text": [
      "Train batch number 99: 100%|██████████| 99/99 [00:13<00:00,  7.59batches/s]\n",
      "Test batch number 13: 100%|██████████| 13/13 [00:03<00:00,  3.91batches/s]\n"
     ]
    },
    {
     "name": "stdout",
     "output_type": "stream",
     "text": [
      "\n",
      "Metrics: {'train_loss': 0.009956055504829633, 'test_loss': 2.0821126882846537, 'bleu': 19.0172, 'gen_len': 9.8636}\n",
      "\n",
      "=============================\n",
      "\n"
     ]
    },
    {
     "name": "stderr",
     "output_type": "stream",
     "text": [
      " 36%|███▋      | 79/217 [24:03<41:53, 18.21s/it]"
     ]
    },
    {
     "name": "stdout",
     "output_type": "stream",
     "text": [
      "For epoch 163: \n",
      "{Learning rate: [0.0027404687153992297]}\n"
     ]
    },
    {
     "name": "stderr",
     "output_type": "stream",
     "text": [
      "Train batch number 99: 100%|██████████| 99/99 [00:13<00:00,  7.49batches/s]\n",
      "Test batch number 13: 100%|██████████| 13/13 [00:03<00:00,  3.80batches/s]\n"
     ]
    },
    {
     "name": "stdout",
     "output_type": "stream",
     "text": [
      "\n",
      "Metrics: {'train_loss': 0.010297422659479909, 'test_loss': 2.0874930253395667, 'bleu': 19.2631, 'gen_len': 9.803}\n",
      "\n",
      "=============================\n",
      "\n"
     ]
    },
    {
     "name": "stderr",
     "output_type": "stream",
     "text": [
      " 37%|███▋      | 80/217 [24:21<41:42, 18.26s/it]"
     ]
    },
    {
     "name": "stdout",
     "output_type": "stream",
     "text": [
      "For epoch 164: \n",
      "{Learning rate: [0.0027370811397529923]}\n"
     ]
    },
    {
     "name": "stderr",
     "output_type": "stream",
     "text": [
      "Train batch number 99: 100%|██████████| 99/99 [00:13<00:00,  7.56batches/s]\n",
      "Test batch number 13: 100%|██████████| 13/13 [00:03<00:00,  3.65batches/s]\n"
     ]
    },
    {
     "name": "stdout",
     "output_type": "stream",
     "text": [
      "\n",
      "Metrics: {'train_loss': 0.012009013756389984, 'test_loss': 2.0400324693092933, 'bleu': 20.4847, 'gen_len': 9.8939}\n",
      "\n",
      "=============================\n",
      "\n"
     ]
    },
    {
     "name": "stderr",
     "output_type": "stream",
     "text": [
      " 37%|███▋      | 81/217 [24:40<41:29, 18.30s/it]"
     ]
    },
    {
     "name": "stdout",
     "output_type": "stream",
     "text": [
      "For epoch 165: \n",
      "{Learning rate: [0.0027336755174980727]}\n"
     ]
    },
    {
     "name": "stderr",
     "output_type": "stream",
     "text": [
      "Train batch number 99: 100%|██████████| 99/99 [00:13<00:00,  7.60batches/s]\n",
      "Test batch number 13: 100%|██████████| 13/13 [00:03<00:00,  3.77batches/s]\n"
     ]
    },
    {
     "name": "stdout",
     "output_type": "stream",
     "text": [
      "\n",
      "Metrics: {'train_loss': 0.010251545784124785, 'test_loss': 2.055331459412208, 'bleu': 20.6119, 'gen_len': 9.7121}\n",
      "\n",
      "=============================\n",
      "\n"
     ]
    },
    {
     "name": "stderr",
     "output_type": "stream",
     "text": [
      " 38%|███▊      | 82/217 [24:58<41:07, 18.28s/it]"
     ]
    },
    {
     "name": "stdout",
     "output_type": "stream",
     "text": [
      "For epoch 166: \n",
      "{Learning rate: [0.0027302518987881623]}\n"
     ]
    },
    {
     "name": "stderr",
     "output_type": "stream",
     "text": [
      "Train batch number 99: 100%|██████████| 99/99 [00:13<00:00,  7.52batches/s]\n",
      "Test batch number 13: 100%|██████████| 13/13 [00:03<00:00,  3.72batches/s]\n"
     ]
    },
    {
     "name": "stdout",
     "output_type": "stream",
     "text": [
      "\n",
      "Metrics: {'train_loss': 0.009698523267588549, 'test_loss': 2.0522202986937303, 'bleu': 20.0146, 'gen_len': 9.7727}\n",
      "\n",
      "=============================\n",
      "\n"
     ]
    },
    {
     "name": "stderr",
     "output_type": "stream",
     "text": [
      " 38%|███▊      | 83/217 [25:16<40:54, 18.32s/it]"
     ]
    },
    {
     "name": "stdout",
     "output_type": "stream",
     "text": [
      "For epoch 167: \n",
      "{Learning rate: [0.0027268103340419812]}\n"
     ]
    },
    {
     "name": "stderr",
     "output_type": "stream",
     "text": [
      "Train batch number 99: 100%|██████████| 99/99 [00:13<00:00,  7.44batches/s]\n",
      "Test batch number 13: 100%|██████████| 13/13 [00:03<00:00,  4.00batches/s]\n"
     ]
    },
    {
     "name": "stdout",
     "output_type": "stream",
     "text": [
      "\n",
      "Metrics: {'train_loss': 0.009433470534706357, 'test_loss': 2.0472019727413473, 'bleu': 19.8279, 'gen_len': 9.6717}\n",
      "\n",
      "=============================\n",
      "\n"
     ]
    },
    {
     "name": "stderr",
     "output_type": "stream",
     "text": [
      " 39%|███▊      | 84/217 [25:34<40:35, 18.31s/it]"
     ]
    },
    {
     "name": "stdout",
     "output_type": "stream",
     "text": [
      "For epoch 168: \n",
      "{Learning rate: [0.002723350873942538]}\n"
     ]
    },
    {
     "name": "stderr",
     "output_type": "stream",
     "text": [
      "Train batch number 99: 100%|██████████| 99/99 [00:12<00:00,  7.68batches/s]\n",
      "Test batch number 13: 100%|██████████| 13/13 [00:03<00:00,  3.88batches/s]\n"
     ]
    },
    {
     "name": "stdout",
     "output_type": "stream",
     "text": [
      "\n",
      "Metrics: {'train_loss': 0.010495583500332114, 'test_loss': 2.0594716530579786, 'bleu': 20.0286, 'gen_len': 9.697}\n",
      "\n",
      "=============================\n",
      "\n"
     ]
    },
    {
     "name": "stderr",
     "output_type": "stream",
     "text": [
      " 39%|███▉      | 85/217 [25:52<40:04, 18.22s/it]"
     ]
    },
    {
     "name": "stdout",
     "output_type": "stream",
     "text": [
      "For epoch 169: \n",
      "{Learning rate: [0.002719873569436379]}\n"
     ]
    },
    {
     "name": "stderr",
     "output_type": "stream",
     "text": [
      "Train batch number 99: 100%|██████████| 99/99 [00:13<00:00,  7.39batches/s]\n",
      "Test batch number 13: 100%|██████████| 13/13 [00:03<00:00,  3.75batches/s]\n"
     ]
    },
    {
     "name": "stdout",
     "output_type": "stream",
     "text": [
      "\n",
      "Metrics: {'train_loss': 0.010590636654406542, 'test_loss': 2.0373834463266225, 'bleu': 20.4857, 'gen_len': 9.7475}\n",
      "\n",
      "=============================\n",
      "\n"
     ]
    },
    {
     "name": "stderr",
     "output_type": "stream",
     "text": [
      " 40%|███▉      | 86/217 [26:11<40:02, 18.34s/it]"
     ]
    },
    {
     "name": "stdout",
     "output_type": "stream",
     "text": [
      "For epoch 170: \n",
      "{Learning rate: [0.002716378471732841]}\n"
     ]
    },
    {
     "name": "stderr",
     "output_type": "stream",
     "text": [
      "Train batch number 99: 100%|██████████| 99/99 [00:13<00:00,  7.59batches/s]\n",
      "Test batch number 13: 100%|██████████| 13/13 [00:03<00:00,  3.63batches/s]\n"
     ]
    },
    {
     "name": "stdout",
     "output_type": "stream",
     "text": [
      "\n",
      "Metrics: {'train_loss': 0.010637211567496486, 'test_loss': 2.0524363976258497, 'bleu': 20.0115, 'gen_len': 9.7374}\n",
      "\n",
      "=============================\n",
      "\n"
     ]
    },
    {
     "name": "stderr",
     "output_type": "stream",
     "text": [
      " 40%|████      | 87/217 [26:29<39:45, 18.35s/it]"
     ]
    },
    {
     "name": "stdout",
     "output_type": "stream",
     "text": [
      "For epoch 171: \n",
      "{Learning rate: [0.0027128656323032983]}\n"
     ]
    },
    {
     "name": "stderr",
     "output_type": "stream",
     "text": [
      "Train batch number 99: 100%|██████████| 99/99 [00:14<00:00,  6.83batches/s]\n",
      "Test batch number 13: 100%|██████████| 13/13 [00:03<00:00,  3.58batches/s]\n"
     ]
    },
    {
     "name": "stdout",
     "output_type": "stream",
     "text": [
      "\n",
      "Metrics: {'train_loss': 0.010475604840780072, 'test_loss': 2.0498413672814, 'bleu': 19.6917, 'gen_len': 9.6869}\n",
      "\n",
      "=============================\n",
      "\n"
     ]
    },
    {
     "name": "stderr",
     "output_type": "stream",
     "text": [
      " 41%|████      | 88/217 [26:50<40:35, 18.88s/it]"
     ]
    },
    {
     "name": "stdout",
     "output_type": "stream",
     "text": [
      "For epoch 172: \n",
      "{Learning rate: [0.0027093351028804]}\n"
     ]
    },
    {
     "name": "stderr",
     "output_type": "stream",
     "text": [
      "Train batch number 99: 100%|██████████| 99/99 [00:13<00:00,  7.45batches/s]\n",
      "Test batch number 13: 100%|██████████| 13/13 [00:03<00:00,  4.01batches/s]\n"
     ]
    },
    {
     "name": "stdout",
     "output_type": "stream",
     "text": [
      "\n",
      "Metrics: {'train_loss': 0.01053753064303292, 'test_loss': 2.0488403852169332, 'bleu': 20.3446, 'gen_len': 9.6263}\n",
      "\n",
      "=============================\n",
      "\n"
     ]
    },
    {
     "name": "stderr",
     "output_type": "stream",
     "text": [
      " 41%|████      | 89/217 [27:08<39:53, 18.70s/it]"
     ]
    },
    {
     "name": "stdout",
     "output_type": "stream",
     "text": [
      "For epoch 173: \n",
      "{Learning rate: [0.0027057869354573136]}\n"
     ]
    },
    {
     "name": "stderr",
     "output_type": "stream",
     "text": [
      "Train batch number 99: 100%|██████████| 99/99 [00:12<00:00,  7.64batches/s]\n",
      "Test batch number 13: 100%|██████████| 13/13 [00:03<00:00,  3.87batches/s]\n"
     ]
    },
    {
     "name": "stdout",
     "output_type": "stream",
     "text": [
      "\n",
      "Metrics: {'train_loss': 0.010701215878597018, 'test_loss': 2.0291002805416403, 'bleu': 19.3191, 'gen_len': 9.702}\n",
      "\n",
      "=============================\n",
      "\n"
     ]
    },
    {
     "name": "stderr",
     "output_type": "stream",
     "text": [
      " 41%|████▏     | 90/217 [27:26<39:10, 18.51s/it]"
     ]
    },
    {
     "name": "stdout",
     "output_type": "stream",
     "text": [
      "For epoch 174: \n",
      "{Learning rate: [0.0027022211822869545]}\n"
     ]
    },
    {
     "name": "stderr",
     "output_type": "stream",
     "text": [
      "Train batch number 99: 100%|██████████| 99/99 [00:12<00:00,  7.76batches/s]\n",
      "Test batch number 13: 100%|██████████| 13/13 [00:03<00:00,  4.05batches/s]\n"
     ]
    },
    {
     "name": "stdout",
     "output_type": "stream",
     "text": [
      "\n",
      "Metrics: {'train_loss': 0.00998204010844494, 'test_loss': 2.0492077423976016, 'bleu': 19.6174, 'gen_len': 9.5}\n",
      "\n",
      "=============================\n",
      "\n"
     ]
    },
    {
     "name": "stderr",
     "output_type": "stream",
     "text": [
      " 42%|████▏     | 91/217 [27:44<38:21, 18.27s/it]"
     ]
    },
    {
     "name": "stdout",
     "output_type": "stream",
     "text": [
      "For epoch 175: \n",
      "{Learning rate: [0.00269863789588122]}\n"
     ]
    },
    {
     "name": "stderr",
     "output_type": "stream",
     "text": [
      "Train batch number 99: 100%|██████████| 99/99 [00:12<00:00,  7.68batches/s]\n",
      "Test batch number 13: 100%|██████████| 13/13 [00:03<00:00,  3.87batches/s]\n"
     ]
    },
    {
     "name": "stdout",
     "output_type": "stream",
     "text": [
      "\n",
      "Metrics: {'train_loss': 0.01046417042644779, 'test_loss': 2.033507282917316, 'bleu': 19.7634, 'gen_len': 9.7374}\n",
      "\n",
      "=============================\n",
      "\n"
     ]
    },
    {
     "name": "stderr",
     "output_type": "stream",
     "text": [
      " 42%|████▏     | 92/217 [28:02<37:53, 18.19s/it]"
     ]
    },
    {
     "name": "stdout",
     "output_type": "stream",
     "text": [
      "For epoch 176: \n",
      "{Learning rate: [0.0026950371290102152]}\n"
     ]
    },
    {
     "name": "stderr",
     "output_type": "stream",
     "text": [
      "Train batch number 99: 100%|██████████| 99/99 [00:12<00:00,  7.64batches/s]\n",
      "Test batch number 13: 100%|██████████| 13/13 [00:03<00:00,  3.80batches/s]\n"
     ]
    },
    {
     "name": "stdout",
     "output_type": "stream",
     "text": [
      "\n",
      "Metrics: {'train_loss': 0.010269069490305177, 'test_loss': 2.0413210758796105, 'bleu': 19.606, 'gen_len': 9.7727}\n",
      "\n",
      "=============================\n",
      "\n"
     ]
    },
    {
     "name": "stderr",
     "output_type": "stream",
     "text": [
      " 43%|████▎     | 93/217 [28:20<37:32, 18.17s/it]"
     ]
    },
    {
     "name": "stdout",
     "output_type": "stream",
     "text": [
      "For epoch 177: \n",
      "{Learning rate: [0.002691418934701474]}\n"
     ]
    },
    {
     "name": "stderr",
     "output_type": "stream",
     "text": [
      "Train batch number 99: 100%|██████████| 99/99 [00:12<00:00,  7.66batches/s]\n",
      "Test batch number 13: 100%|██████████| 13/13 [00:03<00:00,  4.08batches/s]\n"
     ]
    },
    {
     "name": "stdout",
     "output_type": "stream",
     "text": [
      "\n",
      "Metrics: {'train_loss': 0.009239227279627959, 'test_loss': 2.039363512626061, 'bleu': 20.3122, 'gen_len': 9.899}\n",
      "\n",
      "=============================\n",
      "\n"
     ]
    },
    {
     "name": "stderr",
     "output_type": "stream",
     "text": [
      " 43%|████▎     | 94/217 [28:38<37:02, 18.07s/it]"
     ]
    },
    {
     "name": "stdout",
     "output_type": "stream",
     "text": [
      "For epoch 178: \n",
      "{Learning rate: [0.0026877833662391796]}\n"
     ]
    },
    {
     "name": "stderr",
     "output_type": "stream",
     "text": [
      "Train batch number 99: 100%|██████████| 99/99 [00:13<00:00,  7.41batches/s]\n",
      "Test batch number 13: 100%|██████████| 13/13 [00:03<00:00,  3.87batches/s]\n"
     ]
    },
    {
     "name": "stdout",
     "output_type": "stream",
     "text": [
      "\n",
      "Metrics: {'train_loss': 0.010238549565647098, 'test_loss': 2.0388056498307447, 'bleu': 19.9954, 'gen_len': 9.5404}\n",
      "\n",
      "=============================\n",
      "\n"
     ]
    },
    {
     "name": "stderr",
     "output_type": "stream",
     "text": [
      " 44%|████▍     | 95/217 [28:56<36:59, 18.19s/it]"
     ]
    },
    {
     "name": "stdout",
     "output_type": "stream",
     "text": [
      "For epoch 179: \n",
      "{Learning rate: [0.0026841304771633816]}\n"
     ]
    },
    {
     "name": "stderr",
     "output_type": "stream",
     "text": [
      "Train batch number 99: 100%|██████████| 99/99 [00:13<00:00,  7.61batches/s]\n",
      "Test batch number 13: 100%|██████████| 13/13 [00:03<00:00,  3.68batches/s]\n"
     ]
    },
    {
     "name": "stdout",
     "output_type": "stream",
     "text": [
      "\n",
      "Metrics: {'train_loss': 0.010182719304334523, 'test_loss': 2.022086317722614, 'bleu': 19.8556, 'gen_len': 9.5909}\n",
      "\n",
      "=============================\n",
      "\n"
     ]
    },
    {
     "name": "stderr",
     "output_type": "stream",
     "text": [
      " 44%|████▍     | 96/217 [29:14<36:44, 18.22s/it]"
     ]
    },
    {
     "name": "stdout",
     "output_type": "stream",
     "text": [
      "For epoch 180: \n",
      "{Learning rate: [0.0026804603212692035]}\n"
     ]
    },
    {
     "name": "stderr",
     "output_type": "stream",
     "text": [
      "Train batch number 99: 100%|██████████| 99/99 [00:13<00:00,  7.46batches/s]\n",
      "Test batch number 13: 100%|██████████| 13/13 [00:03<00:00,  3.68batches/s]\n"
     ]
    },
    {
     "name": "stdout",
     "output_type": "stream",
     "text": [
      "\n",
      "Metrics: {'train_loss': 0.00958898958616015, 'test_loss': 2.0342073073753943, 'bleu': 19.7393, 'gen_len': 9.8333}\n",
      "\n",
      "=============================\n",
      "\n"
     ]
    },
    {
     "name": "stderr",
     "output_type": "stream",
     "text": [
      " 45%|████▍     | 97/217 [29:33<36:38, 18.32s/it]"
     ]
    },
    {
     "name": "stdout",
     "output_type": "stream",
     "text": [
      "For epoch 181: \n",
      "{Learning rate: [0.0026767729526060535]}\n"
     ]
    },
    {
     "name": "stderr",
     "output_type": "stream",
     "text": [
      "Train batch number 99: 100%|██████████| 99/99 [00:13<00:00,  7.59batches/s]\n",
      "Test batch number 13: 100%|██████████| 13/13 [00:03<00:00,  3.64batches/s]\n"
     ]
    },
    {
     "name": "stdout",
     "output_type": "stream",
     "text": [
      "\n",
      "Metrics: {'train_loss': 0.009337234025647055, 'test_loss': 2.0446359561039853, 'bleu': 20.5743, 'gen_len': 9.7475}\n",
      "\n",
      "=============================\n",
      "\n"
     ]
    },
    {
     "name": "stderr",
     "output_type": "stream",
     "text": [
      " 45%|████▌     | 98/217 [29:51<36:21, 18.33s/it]"
     ]
    },
    {
     "name": "stdout",
     "output_type": "stream",
     "text": [
      "For epoch 182: \n",
      "{Learning rate: [0.002673068425476828]}\n"
     ]
    },
    {
     "name": "stderr",
     "output_type": "stream",
     "text": [
      "Train batch number 99: 100%|██████████| 99/99 [00:12<00:00,  7.64batches/s]\n",
      "Test batch number 13: 100%|██████████| 13/13 [00:03<00:00,  3.89batches/s]\n"
     ]
    },
    {
     "name": "stdout",
     "output_type": "stream",
     "text": [
      "\n",
      "Metrics: {'train_loss': 0.009748762528143936, 'test_loss': 2.0456230090214658, 'bleu': 19.462, 'gen_len': 9.7677}\n",
      "\n",
      "=============================\n",
      "\n"
     ]
    },
    {
     "name": "stderr",
     "output_type": "stream",
     "text": [
      " 46%|████▌     | 99/217 [30:09<35:53, 18.25s/it]"
     ]
    },
    {
     "name": "stdout",
     "output_type": "stream",
     "text": [
      "For epoch 183: \n",
      "{Learning rate: [0.002669346794437111]}\n"
     ]
    },
    {
     "name": "stderr",
     "output_type": "stream",
     "text": [
      "Train batch number 99: 100%|██████████| 99/99 [00:13<00:00,  7.41batches/s]\n",
      "Test batch number 13: 100%|██████████| 13/13 [00:03<00:00,  3.89batches/s]\n"
     ]
    },
    {
     "name": "stdout",
     "output_type": "stream",
     "text": [
      "\n",
      "Metrics: {'train_loss': 0.010538732057973517, 'test_loss': 2.021130992816045, 'bleu': 19.6102, 'gen_len': 9.697}\n",
      "\n",
      "=============================\n",
      "\n"
     ]
    },
    {
     "name": "stderr",
     "output_type": "stream",
     "text": [
      " 46%|████▌     | 100/217 [30:28<35:42, 18.31s/it]"
     ]
    },
    {
     "name": "stdout",
     "output_type": "stream",
     "text": [
      "For epoch 184: \n",
      "{Learning rate: [0.002665608114294371]}\n"
     ]
    },
    {
     "name": "stderr",
     "output_type": "stream",
     "text": [
      "Train batch number 99: 100%|██████████| 99/99 [00:13<00:00,  7.57batches/s]\n",
      "Test batch number 13: 100%|██████████| 13/13 [00:03<00:00,  3.72batches/s]\n"
     ]
    },
    {
     "name": "stdout",
     "output_type": "stream",
     "text": [
      "\n",
      "Metrics: {'train_loss': 0.00879137397442728, 'test_loss': 2.047976466325613, 'bleu': 19.7516, 'gen_len': 9.6869}\n",
      "\n",
      "=============================\n",
      "\n"
     ]
    },
    {
     "name": "stderr",
     "output_type": "stream",
     "text": [
      " 47%|████▋     | 101/217 [30:46<35:24, 18.31s/it]"
     ]
    },
    {
     "name": "stdout",
     "output_type": "stream",
     "text": [
      "For epoch 185: \n",
      "{Learning rate: [0.0026618524401071553]}\n"
     ]
    },
    {
     "name": "stderr",
     "output_type": "stream",
     "text": [
      "Train batch number 99: 100%|██████████| 99/99 [00:13<00:00,  7.52batches/s]\n",
      "Test batch number 13: 100%|██████████| 13/13 [00:03<00:00,  3.92batches/s]\n"
     ]
    },
    {
     "name": "stdout",
     "output_type": "stream",
     "text": [
      "\n",
      "Metrics: {'train_loss': 0.011264305233701387, 'test_loss': 2.0326617039166965, 'bleu': 20.1975, 'gen_len': 9.6717}\n",
      "\n",
      "=============================\n",
      "\n"
     ]
    },
    {
     "name": "stderr",
     "output_type": "stream",
     "text": [
      " 47%|████▋     | 102/217 [31:04<35:03, 18.29s/it]"
     ]
    },
    {
     "name": "stdout",
     "output_type": "stream",
     "text": [
      "For epoch 186: \n",
      "{Learning rate: [0.002658079827184277]}\n"
     ]
    },
    {
     "name": "stderr",
     "output_type": "stream",
     "text": [
      "Train batch number 99: 100%|██████████| 99/99 [00:13<00:00,  7.47batches/s]\n",
      "Test batch number 13: 100%|██████████| 13/13 [00:03<00:00,  3.89batches/s]\n"
     ]
    },
    {
     "name": "stdout",
     "output_type": "stream",
     "text": [
      "\n",
      "Metrics: {'train_loss': 0.010382209127213844, 'test_loss': 2.047241972042964, 'bleu': 20.0339, 'gen_len': 9.5303}\n",
      "\n",
      "=============================\n",
      "\n"
     ]
    },
    {
     "name": "stderr",
     "output_type": "stream",
     "text": [
      " 47%|████▋     | 103/217 [31:23<34:46, 18.30s/it]"
     ]
    },
    {
     "name": "stdout",
     "output_type": "stream",
     "text": [
      "For epoch 187: \n",
      "{Learning rate: [0.0026542903310840015]}\n"
     ]
    },
    {
     "name": "stderr",
     "output_type": "stream",
     "text": [
      "Train batch number 99: 100%|██████████| 99/99 [00:13<00:00,  7.55batches/s]\n",
      "Test batch number 13: 100%|██████████| 13/13 [00:03<00:00,  3.88batches/s]\n"
     ]
    },
    {
     "name": "stdout",
     "output_type": "stream",
     "text": [
      "\n",
      "Metrics: {'train_loss': 0.00968811041769581, 'test_loss': 2.03624506180103, 'bleu': 19.913, 'gen_len': 9.5404}\n",
      "\n",
      "=============================\n",
      "\n"
     ]
    },
    {
     "name": "stderr",
     "output_type": "stream",
     "text": [
      " 48%|████▊     | 104/217 [31:41<34:34, 18.36s/it]"
     ]
    },
    {
     "name": "stdout",
     "output_type": "stream",
     "text": [
      "For epoch 188: \n",
      "{Learning rate: [0.002650484007613228]}\n"
     ]
    },
    {
     "name": "stderr",
     "output_type": "stream",
     "text": [
      "Train batch number 99: 100%|██████████| 99/99 [00:13<00:00,  7.30batches/s]\n",
      "Test batch number 13: 100%|██████████| 13/13 [00:03<00:00,  3.81batches/s]\n"
     ]
    },
    {
     "name": "stdout",
     "output_type": "stream",
     "text": [
      "\n",
      "Metrics: {'train_loss': 0.010196071119880247, 'test_loss': 2.064740850375249, 'bleu': 19.5249, 'gen_len': 9.6263}\n",
      "\n",
      "=============================\n",
      "\n"
     ]
    },
    {
     "name": "stderr",
     "output_type": "stream",
     "text": [
      " 48%|████▊     | 105/217 [32:00<34:29, 18.48s/it]"
     ]
    },
    {
     "name": "stdout",
     "output_type": "stream",
     "text": [
      "For epoch 189: \n",
      "{Learning rate: [0.0026466609128266688]}\n"
     ]
    },
    {
     "name": "stderr",
     "output_type": "stream",
     "text": [
      "Train batch number 99: 100%|██████████| 99/99 [00:13<00:00,  7.34batches/s]\n",
      "Test batch number 13: 100%|██████████| 13/13 [00:03<00:00,  3.90batches/s]\n"
     ]
    },
    {
     "name": "stdout",
     "output_type": "stream",
     "text": [
      "\n",
      "Metrics: {'train_loss': 0.009784794514857684, 'test_loss': 2.044109665430509, 'bleu': 19.6523, 'gen_len': 9.7828}\n",
      "\n",
      "=============================\n",
      "\n"
     ]
    },
    {
     "name": "stderr",
     "output_type": "stream",
     "text": [
      " 49%|████▉     | 106/217 [32:19<34:14, 18.51s/it]"
     ]
    },
    {
     "name": "stdout",
     "output_type": "stream",
     "text": [
      "For epoch 190: \n",
      "{Learning rate: [0.002642821103026022]}\n"
     ]
    },
    {
     "name": "stderr",
     "output_type": "stream",
     "text": [
      "Train batch number 99: 100%|██████████| 99/99 [00:13<00:00,  7.39batches/s]\n",
      "Test batch number 13: 100%|██████████| 13/13 [00:03<00:00,  3.97batches/s]\n"
     ]
    },
    {
     "name": "stdout",
     "output_type": "stream",
     "text": [
      "\n",
      "Metrics: {'train_loss': 0.010404671371839189, 'test_loss': 2.050316966496981, 'bleu': 20.1812, 'gen_len': 9.6364}\n",
      "\n",
      "=============================\n",
      "\n"
     ]
    },
    {
     "name": "stderr",
     "output_type": "stream",
     "text": [
      " 49%|████▉     | 107/217 [32:37<33:54, 18.50s/it]"
     ]
    },
    {
     "name": "stdout",
     "output_type": "stream",
     "text": [
      "For epoch 191: \n",
      "{Learning rate: [0.0026389646347591443]}\n"
     ]
    },
    {
     "name": "stderr",
     "output_type": "stream",
     "text": [
      "Train batch number 99: 100%|██████████| 99/99 [00:13<00:00,  7.44batches/s]\n",
      "Test batch number 13: 100%|██████████| 13/13 [00:03<00:00,  3.86batches/s]\n"
     ]
    },
    {
     "name": "stdout",
     "output_type": "stream",
     "text": [
      "\n",
      "Metrics: {'train_loss': 0.00917876857001278, 'test_loss': 2.0683643451103797, 'bleu': 19.6722, 'gen_len': 9.8182}\n",
      "\n",
      "=============================\n",
      "\n"
     ]
    },
    {
     "name": "stderr",
     "output_type": "stream",
     "text": [
      " 50%|████▉     | 108/217 [32:55<33:33, 18.47s/it]"
     ]
    },
    {
     "name": "stdout",
     "output_type": "stream",
     "text": [
      "For epoch 192: \n",
      "{Learning rate: [0.002635091564819216]}\n"
     ]
    },
    {
     "name": "stderr",
     "output_type": "stream",
     "text": [
      "Train batch number 99: 100%|██████████| 99/99 [00:13<00:00,  7.27batches/s]\n",
      "Test batch number 13: 100%|██████████| 13/13 [00:03<00:00,  4.00batches/s]\n"
     ]
    },
    {
     "name": "stdout",
     "output_type": "stream",
     "text": [
      "\n",
      "Metrics: {'train_loss': 0.009023578016139153, 'test_loss': 2.0217719628260684, 'bleu': 19.1592, 'gen_len': 9.8636}\n",
      "\n",
      "=============================\n",
      "\n"
     ]
    },
    {
     "name": "stderr",
     "output_type": "stream",
     "text": [
      " 50%|█████     | 109/217 [33:14<33:19, 18.52s/it]"
     ]
    },
    {
     "name": "stdout",
     "output_type": "stream",
     "text": [
      "For epoch 193: \n",
      "{Learning rate: [0.0026312019502439067]}\n"
     ]
    },
    {
     "name": "stderr",
     "output_type": "stream",
     "text": [
      "Train batch number 99: 100%|██████████| 99/99 [00:13<00:00,  7.43batches/s]\n",
      "Test batch number 13: 100%|██████████| 13/13 [00:03<00:00,  3.88batches/s]\n"
     ]
    },
    {
     "name": "stdout",
     "output_type": "stream",
     "text": [
      "\n",
      "Metrics: {'train_loss': 0.009324706339446659, 'test_loss': 2.068523361132695, 'bleu': 20.5038, 'gen_len': 9.7424}\n",
      "\n",
      "=============================\n",
      "\n"
     ]
    },
    {
     "name": "stderr",
     "output_type": "stream",
     "text": [
      " 51%|█████     | 110/217 [33:32<32:59, 18.50s/it]"
     ]
    },
    {
     "name": "stdout",
     "output_type": "stream",
     "text": [
      "For epoch 194: \n",
      "{Learning rate: [0.002627295848314534]}\n"
     ]
    },
    {
     "name": "stderr",
     "output_type": "stream",
     "text": [
      "Train batch number 99: 100%|██████████| 99/99 [00:13<00:00,  7.45batches/s]\n",
      "Test batch number 13: 100%|██████████| 13/13 [00:03<00:00,  4.09batches/s]\n"
     ]
    },
    {
     "name": "stdout",
     "output_type": "stream",
     "text": [
      "\n",
      "Metrics: {'train_loss': 0.008902272400904842, 'test_loss': 2.0662453449689426, 'bleu': 20.9813, 'gen_len': 9.6313}\n",
      "\n",
      "=============================\n",
      "\n"
     ]
    },
    {
     "name": "stderr",
     "output_type": "stream",
     "text": [
      " 51%|█████     | 111/217 [33:51<32:33, 18.43s/it]"
     ]
    },
    {
     "name": "stdout",
     "output_type": "stream",
     "text": [
      "For epoch 195: \n",
      "{Learning rate: [0.002623373316555221]}\n"
     ]
    },
    {
     "name": "stderr",
     "output_type": "stream",
     "text": [
      "Train batch number 99: 100%|██████████| 99/99 [00:13<00:00,  7.42batches/s]\n",
      "Test batch number 13: 100%|██████████| 13/13 [00:03<00:00,  3.78batches/s]\n"
     ]
    },
    {
     "name": "stdout",
     "output_type": "stream",
     "text": [
      "\n",
      "Metrics: {'train_loss': 0.00921670673532656, 'test_loss': 2.0560668523495016, 'bleu': 20.2957, 'gen_len': 9.8131}\n",
      "\n",
      "=============================\n",
      "\n"
     ]
    },
    {
     "name": "stderr",
     "output_type": "stream",
     "text": [
      " 52%|█████▏    | 112/217 [34:09<32:18, 18.46s/it]"
     ]
    },
    {
     "name": "stdout",
     "output_type": "stream",
     "text": [
      "For epoch 196: \n",
      "{Learning rate: [0.002619434412732047]}\n"
     ]
    },
    {
     "name": "stderr",
     "output_type": "stream",
     "text": [
      "Train batch number 99: 100%|██████████| 99/99 [00:13<00:00,  7.43batches/s]\n",
      "Test batch number 13: 100%|██████████| 13/13 [00:03<00:00,  3.93batches/s]\n"
     ]
    },
    {
     "name": "stdout",
     "output_type": "stream",
     "text": [
      "\n",
      "Metrics: {'train_loss': 0.009765208979852197, 'test_loss': 2.032838821411133, 'bleu': 20.2846, 'gen_len': 9.7172}\n",
      "\n",
      "=============================\n",
      "\n"
     ]
    },
    {
     "name": "stderr",
     "output_type": "stream",
     "text": [
      " 52%|█████▏    | 113/217 [34:28<31:57, 18.44s/it]"
     ]
    },
    {
     "name": "stdout",
     "output_type": "stream",
     "text": [
      "For epoch 197: \n",
      "{Learning rate: [0.0026154791948521995]}\n"
     ]
    },
    {
     "name": "stderr",
     "output_type": "stream",
     "text": [
      "Train batch number 99: 100%|██████████| 99/99 [00:13<00:00,  7.41batches/s]\n",
      "Test batch number 13: 100%|██████████| 13/13 [00:03<00:00,  4.01batches/s]\n"
     ]
    },
    {
     "name": "stdout",
     "output_type": "stream",
     "text": [
      "\n",
      "Metrics: {'train_loss': 0.009019576223576535, 'test_loss': 2.0608569108522854, 'bleu': 21.2738, 'gen_len': 9.7071}\n",
      "\n",
      "=============================\n",
      "\n"
     ]
    },
    {
     "name": "stderr",
     "output_type": "stream",
     "text": [
      " 53%|█████▎    | 114/217 [34:46<31:37, 18.42s/it]"
     ]
    },
    {
     "name": "stdout",
     "output_type": "stream",
     "text": [
      "For epoch 198: \n",
      "{Learning rate: [0.002611507721163119]}\n"
     ]
    },
    {
     "name": "stderr",
     "output_type": "stream",
     "text": [
      "Train batch number 99: 100%|██████████| 99/99 [00:13<00:00,  7.48batches/s]\n",
      "Test batch number 13: 100%|██████████| 13/13 [00:03<00:00,  3.93batches/s]\n"
     ]
    },
    {
     "name": "stdout",
     "output_type": "stream",
     "text": [
      "\n",
      "Metrics: {'train_loss': 0.0088219679974377, 'test_loss': 2.063195897982671, 'bleu': 21.196, 'gen_len': 9.601}\n",
      "\n",
      "=============================\n",
      "\n"
     ]
    },
    {
     "name": "stderr",
     "output_type": "stream",
     "text": [
      " 53%|█████▎    | 115/217 [35:04<31:15, 18.39s/it]"
     ]
    },
    {
     "name": "stdout",
     "output_type": "stream",
     "text": [
      "For epoch 199: \n",
      "{Learning rate: [0.0026075200501516414]}\n"
     ]
    },
    {
     "name": "stderr",
     "output_type": "stream",
     "text": [
      "Train batch number 99: 100%|██████████| 99/99 [00:13<00:00,  7.49batches/s]\n",
      "Test batch number 13: 100%|██████████| 13/13 [00:03<00:00,  3.96batches/s]\n"
     ]
    },
    {
     "name": "stdout",
     "output_type": "stream",
     "text": [
      "\n",
      "Metrics: {'train_loss': 0.009267401650743183, 'test_loss': 2.0640514263739953, 'bleu': 20.5959, 'gen_len': 9.7778}\n",
      "\n",
      "=============================\n",
      "\n"
     ]
    },
    {
     "name": "stderr",
     "output_type": "stream",
     "text": [
      " 53%|█████▎    | 116/217 [35:25<32:08, 19.10s/it]"
     ]
    },
    {
     "name": "stdout",
     "output_type": "stream",
     "text": [
      "For epoch 200: \n",
      "{Learning rate: [0.0026035162405431338]}\n"
     ]
    },
    {
     "name": "stderr",
     "output_type": "stream",
     "text": [
      "Train batch number 99: 100%|██████████| 99/99 [00:13<00:00,  7.48batches/s]\n",
      "Test batch number 13: 100%|██████████| 13/13 [00:03<00:00,  3.79batches/s]\n"
     ]
    },
    {
     "name": "stdout",
     "output_type": "stream",
     "text": [
      "\n",
      "Metrics: {'train_loss': 0.008650694144454624, 'test_loss': 2.042478295472952, 'bleu': 20.9136, 'gen_len': 9.7576}\n",
      "\n",
      "=============================\n",
      "\n"
     ]
    },
    {
     "name": "stderr",
     "output_type": "stream",
     "text": [
      " 54%|█████▍    | 117/217 [35:43<31:29, 18.89s/it]"
     ]
    },
    {
     "name": "stdout",
     "output_type": "stream",
     "text": [
      "For epoch 201: \n",
      "{Learning rate: [0.0025994963513006346]}\n"
     ]
    },
    {
     "name": "stderr",
     "output_type": "stream",
     "text": [
      "Train batch number 99: 100%|██████████| 99/99 [00:13<00:00,  7.38batches/s]\n",
      "Test batch number 13: 100%|██████████| 13/13 [00:03<00:00,  4.02batches/s]\n"
     ]
    },
    {
     "name": "stdout",
     "output_type": "stream",
     "text": [
      "\n",
      "Metrics: {'train_loss': 0.009255414868051167, 'test_loss': 2.043179053526658, 'bleu': 20.868, 'gen_len': 9.4091}\n",
      "\n",
      "=============================\n",
      "\n"
     ]
    },
    {
     "name": "stderr",
     "output_type": "stream",
     "text": [
      " 54%|█████▍    | 118/217 [36:02<30:56, 18.75s/it]"
     ]
    },
    {
     "name": "stdout",
     "output_type": "stream",
     "text": [
      "For epoch 202: \n",
      "{Learning rate: [0.0025954604416239817]}\n"
     ]
    },
    {
     "name": "stderr",
     "output_type": "stream",
     "text": [
      "Train batch number 99: 100%|██████████| 99/99 [00:13<00:00,  7.51batches/s]\n",
      "Test batch number 13: 100%|██████████| 13/13 [00:03<00:00,  4.00batches/s]\n"
     ]
    },
    {
     "name": "stdout",
     "output_type": "stream",
     "text": [
      "\n",
      "Metrics: {'train_loss': 0.009615459541420951, 'test_loss': 2.015576426799481, 'bleu': 20.3111, 'gen_len': 9.7374}\n",
      "\n",
      "=============================\n",
      "\n"
     ]
    },
    {
     "name": "stderr",
     "output_type": "stream",
     "text": [
      " 55%|█████▍    | 119/217 [36:20<30:21, 18.59s/it]"
     ]
    },
    {
     "name": "stdout",
     "output_type": "stream",
     "text": [
      "For epoch 203: \n",
      "{Learning rate: [0.0025914085709489412]}\n"
     ]
    },
    {
     "name": "stderr",
     "output_type": "stream",
     "text": [
      "Train batch number 99: 100%|██████████| 99/99 [00:13<00:00,  7.49batches/s]\n",
      "Test batch number 13: 100%|██████████| 13/13 [00:03<00:00,  3.95batches/s]\n"
     ]
    },
    {
     "name": "stdout",
     "output_type": "stream",
     "text": [
      "\n",
      "Metrics: {'train_loss': 0.008822900379509335, 'test_loss': 2.0041131789867697, 'bleu': 20.8741, 'gen_len': 9.6919}\n",
      "\n",
      "=============================\n",
      "\n"
     ]
    },
    {
     "name": "stderr",
     "output_type": "stream",
     "text": [
      " 55%|█████▌    | 120/217 [36:38<29:53, 18.49s/it]"
     ]
    },
    {
     "name": "stdout",
     "output_type": "stream",
     "text": [
      "For epoch 204: \n",
      "{Learning rate: [0.002587340798946335]}\n"
     ]
    },
    {
     "name": "stderr",
     "output_type": "stream",
     "text": [
      "Train batch number 99: 100%|██████████| 99/99 [00:13<00:00,  7.58batches/s]\n",
      "Test batch number 13: 100%|██████████| 13/13 [00:03<00:00,  3.85batches/s]\n"
     ]
    },
    {
     "name": "stdout",
     "output_type": "stream",
     "text": [
      "\n",
      "Metrics: {'train_loss': 0.009003822323090086, 'test_loss': 2.0339525021039524, 'bleu': 20.5892, 'gen_len': 9.6869}\n",
      "\n",
      "=============================\n",
      "\n"
     ]
    },
    {
     "name": "stderr",
     "output_type": "stream",
     "text": [
      " 56%|█████▌    | 121/217 [36:57<29:25, 18.40s/it]"
     ]
    },
    {
     "name": "stdout",
     "output_type": "stream",
     "text": [
      "For epoch 205: \n",
      "{Learning rate: [0.0025832571855211556]}\n"
     ]
    },
    {
     "name": "stderr",
     "output_type": "stream",
     "text": [
      "Train batch number 99: 100%|██████████| 99/99 [00:13<00:00,  7.41batches/s]\n",
      "Test batch number 13: 100%|██████████| 13/13 [00:03<00:00,  3.98batches/s]\n"
     ]
    },
    {
     "name": "stdout",
     "output_type": "stream",
     "text": [
      "\n",
      "Metrics: {'train_loss': 0.009312104466700494, 'test_loss': 1.993699734027569, 'bleu': 20.8541, 'gen_len': 10.0}\n",
      "\n",
      "=============================\n",
      "\n"
     ]
    },
    {
     "name": "stderr",
     "output_type": "stream",
     "text": [
      " 56%|█████▌    | 122/217 [37:15<29:07, 18.39s/it]"
     ]
    },
    {
     "name": "stdout",
     "output_type": "stream",
     "text": [
      "For epoch 206: \n",
      "{Learning rate: [0.0025791577908116916]}\n"
     ]
    },
    {
     "name": "stderr",
     "output_type": "stream",
     "text": [
      "Train batch number 99: 100%|██████████| 99/99 [00:13<00:00,  7.53batches/s]\n",
      "Test batch number 13: 100%|██████████| 13/13 [00:03<00:00,  3.81batches/s]\n"
     ]
    },
    {
     "name": "stdout",
     "output_type": "stream",
     "text": [
      "\n",
      "Metrics: {'train_loss': 0.009602061086545953, 'test_loss': 2.0022535782593947, 'bleu': 19.5097, 'gen_len': 9.697}\n",
      "\n",
      "=============================\n",
      "\n"
     ]
    },
    {
     "name": "stderr",
     "output_type": "stream",
     "text": [
      " 57%|█████▋    | 123/217 [37:33<28:47, 18.38s/it]"
     ]
    },
    {
     "name": "stdout",
     "output_type": "stream",
     "text": [
      "For epoch 207: \n",
      "{Learning rate: [0.002575042675188636]}\n"
     ]
    },
    {
     "name": "stderr",
     "output_type": "stream",
     "text": [
      "Train batch number 99: 100%|██████████| 99/99 [00:13<00:00,  7.46batches/s]\n",
      "Test batch number 13: 100%|██████████| 13/13 [00:03<00:00,  3.75batches/s]\n"
     ]
    },
    {
     "name": "stdout",
     "output_type": "stream",
     "text": [
      "\n",
      "Metrics: {'train_loss': 0.009208672894270752, 'test_loss': 1.995590017392085, 'bleu': 20.0083, 'gen_len': 9.8586}\n",
      "\n",
      "=============================\n",
      "\n"
     ]
    },
    {
     "name": "stderr",
     "output_type": "stream",
     "text": [
      " 57%|█████▋    | 124/217 [37:52<28:32, 18.41s/it]"
     ]
    },
    {
     "name": "stdout",
     "output_type": "stream",
     "text": [
      "For epoch 208: \n",
      "{Learning rate: [0.002570911899254201]}\n"
     ]
    },
    {
     "name": "stderr",
     "output_type": "stream",
     "text": [
      "Train batch number 99: 100%|██████████| 99/99 [00:13<00:00,  7.60batches/s]\n",
      "Test batch number 13: 100%|██████████| 13/13 [00:03<00:00,  3.99batches/s]\n"
     ]
    },
    {
     "name": "stdout",
     "output_type": "stream",
     "text": [
      "\n",
      "Metrics: {'train_loss': 0.0089935653891786, 'test_loss': 2.007850564443148, 'bleu': 19.7798, 'gen_len': 9.8081}\n",
      "\n",
      "=============================\n",
      "\n"
     ]
    },
    {
     "name": "stderr",
     "output_type": "stream",
     "text": [
      " 58%|█████▊    | 125/217 [38:10<28:04, 18.31s/it]"
     ]
    },
    {
     "name": "stdout",
     "output_type": "stream",
     "text": [
      "For epoch 209: \n",
      "{Learning rate: [0.002566765523841223]}\n"
     ]
    },
    {
     "name": "stderr",
     "output_type": "stream",
     "text": [
      "Train batch number 99: 100%|██████████| 99/99 [00:13<00:00,  7.53batches/s]\n",
      "Test batch number 13: 100%|██████████| 13/13 [00:03<00:00,  3.83batches/s]\n"
     ]
    },
    {
     "name": "stdout",
     "output_type": "stream",
     "text": [
      "\n",
      "Metrics: {'train_loss': 0.00865862526309987, 'test_loss': 2.0417370887903066, 'bleu': 19.7863, 'gen_len': 9.8232}\n",
      "\n",
      "=============================\n",
      "\n"
     ]
    },
    {
     "name": "stderr",
     "output_type": "stream",
     "text": [
      " 58%|█████▊    | 126/217 [38:28<27:45, 18.30s/it]"
     ]
    },
    {
     "name": "stdout",
     "output_type": "stream",
     "text": [
      "For epoch 210: \n",
      "{Learning rate: [0.002562603610012268]}\n"
     ]
    },
    {
     "name": "stderr",
     "output_type": "stream",
     "text": [
      "Train batch number 99: 100%|██████████| 99/99 [00:12<00:00,  7.63batches/s]\n",
      "Test batch number 13: 100%|██████████| 13/13 [00:03<00:00,  3.83batches/s]\n"
     ]
    },
    {
     "name": "stdout",
     "output_type": "stream",
     "text": [
      "\n",
      "Metrics: {'train_loss': 0.008148028213510789, 'test_loss': 2.040468463530907, 'bleu': 19.4247, 'gen_len': 9.7929}\n",
      "\n",
      "=============================\n",
      "\n"
     ]
    },
    {
     "name": "stderr",
     "output_type": "stream",
     "text": [
      " 59%|█████▊    | 127/217 [38:46<27:21, 18.24s/it]"
     ]
    },
    {
     "name": "stdout",
     "output_type": "stream",
     "text": [
      "For epoch 211: \n",
      "{Learning rate: [0.0025584262190587325]}\n"
     ]
    },
    {
     "name": "stderr",
     "output_type": "stream",
     "text": [
      "Train batch number 99: 100%|██████████| 99/99 [00:13<00:00,  7.57batches/s]\n",
      "Test batch number 13: 100%|██████████| 13/13 [00:03<00:00,  4.07batches/s]\n"
     ]
    },
    {
     "name": "stdout",
     "output_type": "stream",
     "text": [
      "\n",
      "Metrics: {'train_loss': 0.00837411322440444, 'test_loss': 2.02329107431265, 'bleu': 20.0022, 'gen_len': 9.7778}\n",
      "\n",
      "=============================\n",
      "\n"
     ]
    },
    {
     "name": "stderr",
     "output_type": "stream",
     "text": [
      " 59%|█████▉    | 128/217 [39:04<26:58, 18.18s/it]"
     ]
    },
    {
     "name": "stdout",
     "output_type": "stream",
     "text": [
      "For epoch 212: \n",
      "{Learning rate: [0.0025542334124999404]}\n"
     ]
    },
    {
     "name": "stderr",
     "output_type": "stream",
     "text": [
      "Train batch number 99: 100%|██████████| 99/99 [00:12<00:00,  7.68batches/s]\n",
      "Test batch number 13: 100%|██████████| 13/13 [00:03<00:00,  4.01batches/s]\n"
     ]
    },
    {
     "name": "stdout",
     "output_type": "stream",
     "text": [
      "\n",
      "Metrics: {'train_loss': 0.009000552536548126, 'test_loss': 2.040518412223229, 'bleu': 20.9933, 'gen_len': 9.7172}\n",
      "\n",
      "=============================\n",
      "\n"
     ]
    },
    {
     "name": "stderr",
     "output_type": "stream",
     "text": [
      " 59%|█████▉    | 129/217 [39:22<26:31, 18.09s/it]"
     ]
    },
    {
     "name": "stdout",
     "output_type": "stream",
     "text": [
      "For epoch 213: \n",
      "{Learning rate: [0.002550025252082237]}\n"
     ]
    },
    {
     "name": "stderr",
     "output_type": "stream",
     "text": [
      "Train batch number 99: 100%|██████████| 99/99 [00:13<00:00,  7.36batches/s]\n",
      "Test batch number 13: 100%|██████████| 13/13 [00:03<00:00,  3.72batches/s]\n"
     ]
    },
    {
     "name": "stdout",
     "output_type": "stream",
     "text": [
      "\n",
      "Metrics: {'train_loss': 0.008878018128782078, 'test_loss': 2.021247909619258, 'bleu': 20.2564, 'gen_len': 9.7828}\n",
      "\n",
      "=============================\n",
      "\n"
     ]
    },
    {
     "name": "stderr",
     "output_type": "stream",
     "text": [
      " 60%|█████▉    | 130/217 [39:41<26:29, 18.28s/it]"
     ]
    },
    {
     "name": "stdout",
     "output_type": "stream",
     "text": [
      "For epoch 214: \n",
      "{Learning rate: [0.00254580179977808]}\n"
     ]
    },
    {
     "name": "stderr",
     "output_type": "stream",
     "text": [
      "Train batch number 99: 100%|██████████| 99/99 [00:13<00:00,  7.46batches/s]\n",
      "Test batch number 13: 100%|██████████| 13/13 [00:03<00:00,  3.87batches/s]\n"
     ]
    },
    {
     "name": "stdout",
     "output_type": "stream",
     "text": [
      "\n",
      "Metrics: {'train_loss': 0.008562636043408397, 'test_loss': 2.027649916135348, 'bleu': 20.6731, 'gen_len': 9.8737}\n",
      "\n",
      "=============================\n",
      "\n"
     ]
    },
    {
     "name": "stderr",
     "output_type": "stream",
     "text": [
      " 60%|██████    | 131/217 [39:59<26:13, 18.30s/it]"
     ]
    },
    {
     "name": "stdout",
     "output_type": "stream",
     "text": [
      "For epoch 215: \n",
      "{Learning rate: [0.002541563117785126]}\n"
     ]
    },
    {
     "name": "stderr",
     "output_type": "stream",
     "text": [
      "Train batch number 99: 100%|██████████| 99/99 [00:13<00:00,  7.55batches/s]\n",
      "Test batch number 13: 100%|██████████| 13/13 [00:03<00:00,  4.09batches/s]\n"
     ]
    },
    {
     "name": "stdout",
     "output_type": "stream",
     "text": [
      "\n",
      "Metrics: {'train_loss': 0.008015943193723533, 'test_loss': 2.047108586017902, 'bleu': 20.9941, 'gen_len': 9.6212}\n",
      "\n",
      "=============================\n",
      "\n"
     ]
    },
    {
     "name": "stderr",
     "output_type": "stream",
     "text": [
      " 61%|██████    | 132/217 [40:17<25:48, 18.22s/it]"
     ]
    },
    {
     "name": "stdout",
     "output_type": "stream",
     "text": [
      "For epoch 216: \n",
      "{Learning rate: [0.0025373092685253154]}\n"
     ]
    },
    {
     "name": "stderr",
     "output_type": "stream",
     "text": [
      "Train batch number 99: 100%|██████████| 99/99 [00:12<00:00,  7.72batches/s]\n",
      "Test batch number 13: 100%|██████████| 13/13 [00:03<00:00,  3.86batches/s]\n"
     ]
    },
    {
     "name": "stdout",
     "output_type": "stream",
     "text": [
      "\n",
      "Metrics: {'train_loss': 0.009291040908070187, 'test_loss': 2.012418059202341, 'bleu': 20.9778, 'gen_len': 9.8081}\n",
      "\n",
      "=============================\n",
      "\n"
     ]
    },
    {
     "name": "stderr",
     "output_type": "stream",
     "text": [
      " 61%|██████▏   | 133/217 [40:35<25:24, 18.14s/it]"
     ]
    },
    {
     "name": "stdout",
     "output_type": "stream",
     "text": [
      "For epoch 217: \n",
      "{Learning rate: [0.0025330403146439535]}\n"
     ]
    },
    {
     "name": "stderr",
     "output_type": "stream",
     "text": [
      "Train batch number 99: 100%|██████████| 99/99 [00:13<00:00,  7.58batches/s]\n",
      "Test batch number 13: 100%|██████████| 13/13 [00:03<00:00,  3.98batches/s]\n"
     ]
    },
    {
     "name": "stdout",
     "output_type": "stream",
     "text": [
      "\n",
      "Metrics: {'train_loss': 0.008022667816898909, 'test_loss': 2.0267615685096154, 'bleu': 20.8548, 'gen_len': 9.9091}\n",
      "\n",
      "=============================\n",
      "\n"
     ]
    },
    {
     "name": "stderr",
     "output_type": "stream",
     "text": [
      " 62%|██████▏   | 134/217 [40:53<25:03, 18.11s/it]"
     ]
    },
    {
     "name": "stdout",
     "output_type": "stream",
     "text": [
      "For epoch 218: \n",
      "{Learning rate: [0.002528756319008787]}\n"
     ]
    },
    {
     "name": "stderr",
     "output_type": "stream",
     "text": [
      "Train batch number 99: 100%|██████████| 99/99 [00:13<00:00,  7.47batches/s]\n",
      "Test batch number 13: 100%|██████████| 13/13 [00:03<00:00,  3.97batches/s]\n"
     ]
    },
    {
     "name": "stdout",
     "output_type": "stream",
     "text": [
      "\n",
      "Metrics: {'train_loss': 0.008178748748961347, 'test_loss': 2.015303905193622, 'bleu': 19.734, 'gen_len': 9.7071}\n",
      "\n",
      "=============================\n",
      "\n"
     ]
    },
    {
     "name": "stderr",
     "output_type": "stream",
     "text": [
      " 62%|██████▏   | 135/217 [41:12<24:49, 18.17s/it]"
     ]
    },
    {
     "name": "stdout",
     "output_type": "stream",
     "text": [
      "For epoch 219: \n",
      "{Learning rate: [0.002524457344709078]}\n"
     ]
    },
    {
     "name": "stderr",
     "output_type": "stream",
     "text": [
      "Train batch number 99: 100%|██████████| 99/99 [00:13<00:00,  7.51batches/s]\n",
      "Test batch number 13: 100%|██████████| 13/13 [00:03<00:00,  3.77batches/s]\n"
     ]
    },
    {
     "name": "stdout",
     "output_type": "stream",
     "text": [
      "\n",
      "Metrics: {'train_loss': 0.009596900646680628, 'test_loss': 2.02313455251547, 'bleu': 20.8922, 'gen_len': 9.6667}\n",
      "\n",
      "=============================\n",
      "\n"
     ]
    },
    {
     "name": "stderr",
     "output_type": "stream",
     "text": [
      " 63%|██████▎   | 136/217 [41:30<24:36, 18.23s/it]"
     ]
    },
    {
     "name": "stdout",
     "output_type": "stream",
     "text": [
      "For epoch 220: \n",
      "{Learning rate: [0.002520143455054676]}\n"
     ]
    },
    {
     "name": "stderr",
     "output_type": "stream",
     "text": [
      "Train batch number 99: 100%|██████████| 99/99 [00:12<00:00,  7.67batches/s]\n",
      "Test batch number 13: 100%|██████████| 13/13 [00:03<00:00,  3.95batches/s]\n"
     ]
    },
    {
     "name": "stdout",
     "output_type": "stream",
     "text": [
      "\n",
      "Metrics: {'train_loss': 0.0085817565768134, 'test_loss': 2.0028868730251608, 'bleu': 20.5475, 'gen_len': 9.8232}\n",
      "\n",
      "=============================\n",
      "\n"
     ]
    },
    {
     "name": "stderr",
     "output_type": "stream",
     "text": [
      " 63%|██████▎   | 137/217 [41:48<24:11, 18.14s/it]"
     ]
    },
    {
     "name": "stdout",
     "output_type": "stream",
     "text": [
      "For epoch 221: \n",
      "{Learning rate: [0.002515814713575085]}\n"
     ]
    },
    {
     "name": "stderr",
     "output_type": "stream",
     "text": [
      "Train batch number 99: 100%|██████████| 99/99 [00:13<00:00,  7.56batches/s]\n",
      "Test batch number 13: 100%|██████████| 13/13 [00:03<00:00,  3.80batches/s]\n"
     ]
    },
    {
     "name": "stdout",
     "output_type": "stream",
     "text": [
      "\n",
      "Metrics: {'train_loss': 0.00848965513234196, 'test_loss': 2.023115488199087, 'bleu': 20.3252, 'gen_len': 9.8182}\n",
      "\n",
      "=============================\n",
      "\n"
     ]
    },
    {
     "name": "stderr",
     "output_type": "stream",
     "text": [
      " 64%|██████▎   | 138/217 [42:06<23:57, 18.20s/it]"
     ]
    },
    {
     "name": "stdout",
     "output_type": "stream",
     "text": [
      "For epoch 222: \n",
      "{Learning rate: [0.0025114711840185278]}\n"
     ]
    },
    {
     "name": "stderr",
     "output_type": "stream",
     "text": [
      "Train batch number 99: 100%|██████████| 99/99 [00:13<00:00,  7.60batches/s]\n",
      "Test batch number 13: 100%|██████████| 13/13 [00:03<00:00,  3.77batches/s]\n"
     ]
    },
    {
     "name": "stdout",
     "output_type": "stream",
     "text": [
      "\n",
      "Metrics: {'train_loss': 0.008836205663615744, 'test_loss': 2.0202916952279897, 'bleu': 20.0222, 'gen_len': 10.0152}\n",
      "\n",
      "=============================\n",
      "\n"
     ]
    },
    {
     "name": "stderr",
     "output_type": "stream",
     "text": [
      " 64%|██████▍   | 139/217 [42:24<23:39, 18.20s/it]"
     ]
    },
    {
     "name": "stdout",
     "output_type": "stream",
     "text": [
      "For epoch 223: \n",
      "{Learning rate: [0.002507112930351006]}\n"
     ]
    },
    {
     "name": "stderr",
     "output_type": "stream",
     "text": [
      "Train batch number 99: 100%|██████████| 99/99 [00:12<00:00,  7.72batches/s]\n",
      "Test batch number 13: 100%|██████████| 13/13 [00:03<00:00,  3.98batches/s]\n"
     ]
    },
    {
     "name": "stdout",
     "output_type": "stream",
     "text": [
      "\n",
      "Metrics: {'train_loss': 0.008290985401018965, 'test_loss': 2.0343392537190366, 'bleu': 20.0706, 'gen_len': 9.7879}\n",
      "\n",
      "=============================\n",
      "\n"
     ]
    },
    {
     "name": "stderr",
     "output_type": "stream",
     "text": [
      " 65%|██████▍   | 140/217 [42:42<23:12, 18.09s/it]"
     ]
    },
    {
     "name": "stdout",
     "output_type": "stream",
     "text": [
      "For epoch 224: \n",
      "{Learning rate: [0.002502740016755362]}\n"
     ]
    },
    {
     "name": "stderr",
     "output_type": "stream",
     "text": [
      "Train batch number 99: 100%|██████████| 99/99 [00:13<00:00,  7.59batches/s]\n",
      "Test batch number 13: 100%|██████████| 13/13 [00:03<00:00,  3.79batches/s]\n"
     ]
    },
    {
     "name": "stdout",
     "output_type": "stream",
     "text": [
      "\n",
      "Metrics: {'train_loss': 0.008147304770336816, 'test_loss': 2.0099901327720056, 'bleu': 21.0425, 'gen_len': 9.9141}\n",
      "\n",
      "=============================\n",
      "\n"
     ]
    },
    {
     "name": "stderr",
     "output_type": "stream",
     "text": [
      " 65%|██████▍   | 141/217 [43:00<22:57, 18.12s/it]"
     ]
    },
    {
     "name": "stdout",
     "output_type": "stream",
     "text": [
      "For epoch 225: \n",
      "{Learning rate: [0.002498352507630328]}\n"
     ]
    },
    {
     "name": "stderr",
     "output_type": "stream",
     "text": [
      "Train batch number 99: 100%|██████████| 99/99 [00:13<00:00,  7.45batches/s]\n",
      "Test batch number 13: 100%|██████████| 13/13 [00:03<00:00,  3.81batches/s]\n"
     ]
    },
    {
     "name": "stdout",
     "output_type": "stream",
     "text": [
      "\n",
      "Metrics: {'train_loss': 0.008392063273773105, 'test_loss': 2.029997367125291, 'bleu': 19.9693, 'gen_len': 9.9192}\n",
      "\n",
      "=============================\n",
      "\n"
     ]
    },
    {
     "name": "stderr",
     "output_type": "stream",
     "text": [
      " 65%|██████▌   | 142/217 [43:19<22:46, 18.22s/it]"
     ]
    },
    {
     "name": "stdout",
     "output_type": "stream",
     "text": [
      "For epoch 226: \n",
      "{Learning rate: [0.0024939504675895834]}\n"
     ]
    },
    {
     "name": "stderr",
     "output_type": "stream",
     "text": [
      "Train batch number 99: 100%|██████████| 99/99 [00:12<00:00,  7.72batches/s]\n",
      "Test batch number 13: 100%|██████████| 13/13 [00:03<00:00,  3.78batches/s]\n"
     ]
    },
    {
     "name": "stdout",
     "output_type": "stream",
     "text": [
      "\n",
      "Metrics: {'train_loss': 0.00857790441792035, 'test_loss': 2.008614916067857, 'bleu': 21.6338, 'gen_len': 9.803}\n",
      "\n",
      "=============================\n",
      "\n"
     ]
    },
    {
     "name": "stderr",
     "output_type": "stream",
     "text": [
      " 66%|██████▌   | 143/217 [43:37<22:23, 18.15s/it]"
     ]
    },
    {
     "name": "stdout",
     "output_type": "stream",
     "text": [
      "For epoch 227: \n",
      "{Learning rate: [0.002489533961460798]}\n"
     ]
    },
    {
     "name": "stderr",
     "output_type": "stream",
     "text": [
      "Train batch number 99: 100%|██████████| 99/99 [00:12<00:00,  7.69batches/s]\n",
      "Test batch number 13: 100%|██████████| 13/13 [00:03<00:00,  3.81batches/s]\n"
     ]
    },
    {
     "name": "stdout",
     "output_type": "stream",
     "text": [
      "\n",
      "Metrics: {'train_loss': 0.008491735634655042, 'test_loss': 2.0076789489159217, 'bleu': 20.5426, 'gen_len': 9.8535}\n",
      "\n",
      "=============================\n",
      "\n"
     ]
    },
    {
     "name": "stderr",
     "output_type": "stream",
     "text": [
      " 66%|██████▋   | 144/217 [43:55<22:02, 18.11s/it]"
     ]
    },
    {
     "name": "stdout",
     "output_type": "stream",
     "text": [
      "For epoch 228: \n",
      "{Learning rate: [0.0024851030542846816]}\n"
     ]
    },
    {
     "name": "stderr",
     "output_type": "stream",
     "text": [
      "Train batch number 99: 100%|██████████| 99/99 [00:13<00:00,  7.55batches/s]\n",
      "Test batch number 13: 100%|██████████| 13/13 [00:03<00:00,  3.79batches/s]\n"
     ]
    },
    {
     "name": "stdout",
     "output_type": "stream",
     "text": [
      "\n",
      "Metrics: {'train_loss': 0.00842520162625464, 'test_loss': 1.999979486832252, 'bleu': 21.0933, 'gen_len': 9.6818}\n",
      "\n",
      "=============================\n",
      "\n"
     ]
    },
    {
     "name": "stderr",
     "output_type": "stream",
     "text": [
      " 67%|██████▋   | 145/217 [44:13<21:47, 18.16s/it]"
     ]
    },
    {
     "name": "stdout",
     "output_type": "stream",
     "text": [
      "For epoch 229: \n",
      "{Learning rate: [0.0024806578113140245]}\n"
     ]
    },
    {
     "name": "stderr",
     "output_type": "stream",
     "text": [
      "Train batch number 99: 100%|██████████| 99/99 [00:13<00:00,  7.49batches/s]\n",
      "Test batch number 13: 100%|██████████| 13/13 [00:03<00:00,  3.97batches/s]\n"
     ]
    },
    {
     "name": "stdout",
     "output_type": "stream",
     "text": [
      "\n",
      "Metrics: {'train_loss': 0.008291090304746923, 'test_loss': 2.0085481588657084, 'bleu': 21.4009, 'gen_len': 9.7677}\n",
      "\n",
      "=============================\n",
      "\n"
     ]
    },
    {
     "name": "stderr",
     "output_type": "stream",
     "text": [
      " 67%|██████▋   | 146/217 [44:31<21:30, 18.18s/it]"
     ]
    },
    {
     "name": "stdout",
     "output_type": "stream",
     "text": [
      "For epoch 230: \n",
      "{Learning rate: [0.0024761982980127345]}\n"
     ]
    },
    {
     "name": "stderr",
     "output_type": "stream",
     "text": [
      "Train batch number 99: 100%|██████████| 99/99 [00:12<00:00,  7.71batches/s]\n",
      "Test batch number 13: 100%|██████████| 13/13 [00:03<00:00,  3.86batches/s]\n"
     ]
    },
    {
     "name": "stdout",
     "output_type": "stream",
     "text": [
      "\n",
      "Metrics: {'train_loss': 0.008102665027965687, 'test_loss': 1.9991874878223126, 'bleu': 20.4586, 'gen_len': 9.6869}\n",
      "\n",
      "=============================\n",
      "\n"
     ]
    },
    {
     "name": "stderr",
     "output_type": "stream",
     "text": [
      " 68%|██████▊   | 147/217 [44:49<21:07, 18.11s/it]"
     ]
    },
    {
     "name": "stdout",
     "output_type": "stream",
     "text": [
      "For epoch 231: \n",
      "{Learning rate: [0.0024717245800548768]}\n"
     ]
    },
    {
     "name": "stderr",
     "output_type": "stream",
     "text": [
      "Train batch number 99: 100%|██████████| 99/99 [00:12<00:00,  7.75batches/s]\n",
      "Test batch number 13: 100%|██████████| 13/13 [00:03<00:00,  3.87batches/s]\n"
     ]
    },
    {
     "name": "stdout",
     "output_type": "stream",
     "text": [
      "\n",
      "Metrics: {'train_loss': 0.00872648319828023, 'test_loss': 2.0179482973538914, 'bleu': 21.1207, 'gen_len': 9.5808}\n",
      "\n",
      "=============================\n",
      "\n"
     ]
    },
    {
     "name": "stderr",
     "output_type": "stream",
     "text": [
      " 68%|██████▊   | 148/217 [45:07<20:44, 18.04s/it]"
     ]
    },
    {
     "name": "stdout",
     "output_type": "stream",
     "text": [
      "For epoch 232: \n",
      "{Learning rate: [0.0024672367233237046]}\n"
     ]
    },
    {
     "name": "stderr",
     "output_type": "stream",
     "text": [
      "Train batch number 99: 100%|██████████| 99/99 [00:12<00:00,  7.76batches/s]\n",
      "Test batch number 13: 100%|██████████| 13/13 [00:03<00:00,  3.79batches/s]\n"
     ]
    },
    {
     "name": "stdout",
     "output_type": "stream",
     "text": [
      "\n",
      "Metrics: {'train_loss': 0.008756841294763779, 'test_loss': 2.024734607109657, 'bleu': 21.5717, 'gen_len': 9.8131}\n",
      "\n",
      "=============================\n",
      "\n"
     ]
    },
    {
     "name": "stderr",
     "output_type": "stream",
     "text": [
      " 69%|██████▊   | 149/217 [45:25<20:24, 18.01s/it]"
     ]
    },
    {
     "name": "stdout",
     "output_type": "stream",
     "text": [
      "For epoch 233: \n",
      "{Learning rate: [0.0024627347939106875]}\n"
     ]
    },
    {
     "name": "stderr",
     "output_type": "stream",
     "text": [
      "Train batch number 99: 100%|██████████| 99/99 [00:13<00:00,  7.57batches/s]\n",
      "Test batch number 13: 100%|██████████| 13/13 [00:03<00:00,  3.79batches/s]\n"
     ]
    },
    {
     "name": "stdout",
     "output_type": "stream",
     "text": [
      "\n",
      "Metrics: {'train_loss': 0.008115254401645594, 'test_loss': 2.018138592059796, 'bleu': 20.8879, 'gen_len': 10.1313}\n",
      "\n",
      "=============================\n",
      "\n"
     ]
    },
    {
     "name": "stderr",
     "output_type": "stream",
     "text": [
      " 69%|██████▉   | 150/217 [45:43<20:11, 18.08s/it]"
     ]
    },
    {
     "name": "stdout",
     "output_type": "stream",
     "text": [
      "For epoch 234: \n",
      "{Learning rate: [0.002458218858114541]}\n"
     ]
    },
    {
     "name": "stderr",
     "output_type": "stream",
     "text": [
      "Train batch number 99: 100%|██████████| 99/99 [00:12<00:00,  7.80batches/s]\n",
      "Test batch number 13: 100%|██████████| 13/13 [00:03<00:00,  3.71batches/s]\n"
     ]
    },
    {
     "name": "stdout",
     "output_type": "stream",
     "text": [
      "\n",
      "Metrics: {'train_loss': 0.008676435213978166, 'test_loss': 1.9988996982574463, 'bleu': 21.3107, 'gen_len': 10.1414}\n",
      "\n",
      "=============================\n",
      "\n"
     ]
    },
    {
     "name": "stderr",
     "output_type": "stream",
     "text": [
      " 70%|██████▉   | 151/217 [46:01<19:50, 18.04s/it]"
     ]
    },
    {
     "name": "stdout",
     "output_type": "stream",
     "text": [
      "For epoch 235: \n",
      "{Learning rate: [0.0024536889824402484]}\n"
     ]
    },
    {
     "name": "stderr",
     "output_type": "stream",
     "text": [
      "Train batch number 99: 100%|██████████| 99/99 [00:12<00:00,  7.73batches/s]\n",
      "Test batch number 13: 100%|██████████| 13/13 [00:03<00:00,  4.00batches/s]\n"
     ]
    },
    {
     "name": "stdout",
     "output_type": "stream",
     "text": [
      "\n",
      "Metrics: {'train_loss': 0.008931125170842867, 'test_loss': 2.0219126022779026, 'bleu': 20.8008, 'gen_len': 10.0253}\n",
      "\n",
      "=============================\n",
      "\n"
     ]
    },
    {
     "name": "stderr",
     "output_type": "stream",
     "text": [
      " 70%|███████   | 152/217 [46:19<19:27, 17.96s/it]"
     ]
    },
    {
     "name": "stdout",
     "output_type": "stream",
     "text": [
      "For epoch 236: \n",
      "{Learning rate: [0.0024491452335980825]}\n"
     ]
    },
    {
     "name": "stderr",
     "output_type": "stream",
     "text": [
      "Train batch number 99: 100%|██████████| 99/99 [00:12<00:00,  7.66batches/s]\n",
      "Test batch number 13: 100%|██████████| 13/13 [00:03<00:00,  3.95batches/s]\n"
     ]
    },
    {
     "name": "stdout",
     "output_type": "stream",
     "text": [
      "\n",
      "Metrics: {'train_loss': 0.007990544836502522, 'test_loss': 2.0126391374147854, 'bleu': 21.3971, 'gen_len': 9.9091}\n",
      "\n",
      "=============================\n",
      "\n"
     ]
    },
    {
     "name": "stderr",
     "output_type": "stream",
     "text": [
      " 71%|███████   | 153/217 [46:37<19:09, 17.96s/it]"
     ]
    },
    {
     "name": "stdout",
     "output_type": "stream",
     "text": [
      "For epoch 237: \n",
      "{Learning rate: [0.002444587678502622]}\n"
     ]
    },
    {
     "name": "stderr",
     "output_type": "stream",
     "text": [
      "Train batch number 99: 100%|██████████| 99/99 [00:12<00:00,  7.76batches/s]\n",
      "Test batch number 13: 100%|██████████| 13/13 [00:03<00:00,  3.81batches/s]\n"
     ]
    },
    {
     "name": "stdout",
     "output_type": "stream",
     "text": [
      "\n",
      "Metrics: {'train_loss': 0.008207437915391184, 'test_loss': 2.01395060465886, 'bleu': 21.1773, 'gen_len': 10.0808}\n",
      "\n",
      "=============================\n",
      "\n"
     ]
    },
    {
     "name": "stderr",
     "output_type": "stream",
     "text": [
      " 71%|███████   | 154/217 [46:55<18:50, 17.94s/it]"
     ]
    },
    {
     "name": "stdout",
     "output_type": "stream",
     "text": [
      "For epoch 238: \n",
      "{Learning rate: [0.0024400163842717665]}\n"
     ]
    },
    {
     "name": "stderr",
     "output_type": "stream",
     "text": [
      "Train batch number 99: 100%|██████████| 99/99 [00:12<00:00,  7.68batches/s]\n",
      "Test batch number 13: 100%|██████████| 13/13 [00:03<00:00,  3.90batches/s]\n"
     ]
    },
    {
     "name": "stdout",
     "output_type": "stream",
     "text": [
      "\n",
      "Metrics: {'train_loss': 0.00794397584089746, 'test_loss': 2.0212199687957764, 'bleu': 20.4398, 'gen_len': 10.0152}\n",
      "\n",
      "=============================\n",
      "\n"
     ]
    },
    {
     "name": "stderr",
     "output_type": "stream",
     "text": [
      " 71%|███████▏  | 155/217 [47:13<18:33, 17.96s/it]"
     ]
    },
    {
     "name": "stdout",
     "output_type": "stream",
     "text": [
      "For epoch 239: \n",
      "{Learning rate: [0.002435431418225749]}\n"
     ]
    },
    {
     "name": "stderr",
     "output_type": "stream",
     "text": [
      "Train batch number 99: 100%|██████████| 99/99 [00:13<00:00,  7.59batches/s]\n",
      "Test batch number 13: 100%|██████████| 13/13 [00:03<00:00,  4.08batches/s]\n"
     ]
    },
    {
     "name": "stdout",
     "output_type": "stream",
     "text": [
      "\n",
      "Metrics: {'train_loss': 0.007789548576134492, 'test_loss': 2.0247780634806705, 'bleu': 20.1599, 'gen_len': 9.7273}\n",
      "\n",
      "=============================\n",
      "\n"
     ]
    },
    {
     "name": "stderr",
     "output_type": "stream",
     "text": [
      " 72%|███████▏  | 156/217 [47:31<18:15, 17.97s/it]"
     ]
    },
    {
     "name": "stdout",
     "output_type": "stream",
     "text": [
      "For epoch 240: \n",
      "{Learning rate: [0.002430832847886142]}\n"
     ]
    },
    {
     "name": "stderr",
     "output_type": "stream",
     "text": [
      "Train batch number 99: 100%|██████████| 99/99 [00:12<00:00,  7.64batches/s]\n",
      "Test batch number 13: 100%|██████████| 13/13 [00:03<00:00,  3.85batches/s]\n"
     ]
    },
    {
     "name": "stdout",
     "output_type": "stream",
     "text": [
      "\n",
      "Metrics: {'train_loss': 0.008188735574338059, 'test_loss': 2.029451324389531, 'bleu': 19.8069, 'gen_len': 9.9242}\n",
      "\n",
      "=============================\n",
      "\n"
     ]
    },
    {
     "name": "stderr",
     "output_type": "stream",
     "text": [
      " 72%|███████▏  | 157/217 [47:49<18:00, 18.00s/it]"
     ]
    },
    {
     "name": "stdout",
     "output_type": "stream",
     "text": [
      "For epoch 241: \n",
      "{Learning rate: [0.0024262207409748663]}\n"
     ]
    },
    {
     "name": "stderr",
     "output_type": "stream",
     "text": [
      "Train batch number 99: 100%|██████████| 99/99 [00:12<00:00,  7.76batches/s]\n",
      "Test batch number 13: 100%|██████████| 13/13 [00:03<00:00,  3.90batches/s]\n"
     ]
    },
    {
     "name": "stdout",
     "output_type": "stream",
     "text": [
      "\n",
      "Metrics: {'train_loss': 0.007843831434112155, 'test_loss': 2.0247487104856052, 'bleu': 20.8958, 'gen_len': 9.7071}\n",
      "\n",
      "=============================\n",
      "\n"
     ]
    },
    {
     "name": "stderr",
     "output_type": "stream",
     "text": [
      " 73%|███████▎  | 158/217 [48:07<17:39, 17.95s/it]"
     ]
    },
    {
     "name": "stdout",
     "output_type": "stream",
     "text": [
      "For epoch 242: \n",
      "{Learning rate: [0.0024215951654131926]}\n"
     ]
    },
    {
     "name": "stderr",
     "output_type": "stream",
     "text": [
      "Train batch number 99: 100%|██████████| 99/99 [00:12<00:00,  7.68batches/s]\n",
      "Test batch number 13: 100%|██████████| 13/13 [00:03<00:00,  3.94batches/s]\n"
     ]
    },
    {
     "name": "stdout",
     "output_type": "stream",
     "text": [
      "\n",
      "Metrics: {'train_loss': 0.00825104989332495, 'test_loss': 2.0133849657498875, 'bleu': 20.6846, 'gen_len': 9.7626}\n",
      "\n",
      "=============================\n",
      "\n"
     ]
    },
    {
     "name": "stderr",
     "output_type": "stream",
     "text": [
      " 73%|███████▎  | 159/217 [48:25<17:20, 17.95s/it]"
     ]
    },
    {
     "name": "stdout",
     "output_type": "stream",
     "text": [
      "For epoch 243: \n",
      "{Learning rate: [0.002416956189320739]}\n"
     ]
    },
    {
     "name": "stderr",
     "output_type": "stream",
     "text": [
      "Train batch number 99: 100%|██████████| 99/99 [00:12<00:00,  7.73batches/s]\n",
      "Test batch number 13: 100%|██████████| 13/13 [00:03<00:00,  3.95batches/s]\n"
     ]
    },
    {
     "name": "stdout",
     "output_type": "stream",
     "text": [
      "\n",
      "Metrics: {'train_loss': 0.008085918599255195, 'test_loss': 2.015368204850417, 'bleu': 21.2813, 'gen_len': 9.9343}\n",
      "\n",
      "=============================\n",
      "\n"
     ]
    },
    {
     "name": "stderr",
     "output_type": "stream",
     "text": [
      " 74%|███████▎  | 160/217 [48:43<17:00, 17.91s/it]"
     ]
    },
    {
     "name": "stdout",
     "output_type": "stream",
     "text": [
      "For epoch 244: \n",
      "{Learning rate: [0.002412303881014471]}\n"
     ]
    },
    {
     "name": "stderr",
     "output_type": "stream",
     "text": [
      "Train batch number 99: 100%|██████████| 99/99 [00:12<00:00,  7.75batches/s]\n",
      "Test batch number 13: 100%|██████████| 13/13 [00:03<00:00,  4.08batches/s]\n"
     ]
    },
    {
     "name": "stdout",
     "output_type": "stream",
     "text": [
      "\n",
      "Metrics: {'train_loss': 0.00829220226450795, 'test_loss': 2.0232076003001285, 'bleu': 21.2978, 'gen_len': 9.7121}\n",
      "\n",
      "=============================\n",
      "\n"
     ]
    },
    {
     "name": "stderr",
     "output_type": "stream",
     "text": [
      " 74%|███████▍  | 161/217 [49:00<16:39, 17.85s/it]"
     ]
    },
    {
     "name": "stdout",
     "output_type": "stream",
     "text": [
      "For epoch 245: \n",
      "{Learning rate: [0.002407638309007694]}\n"
     ]
    },
    {
     "name": "stderr",
     "output_type": "stream",
     "text": [
      "Train batch number 99: 100%|██████████| 99/99 [00:13<00:00,  7.57batches/s]\n",
      "Test batch number 13: 100%|██████████| 13/13 [00:03<00:00,  3.83batches/s]\n"
     ]
    },
    {
     "name": "stdout",
     "output_type": "stream",
     "text": [
      "\n",
      "Metrics: {'train_loss': 0.008649928265397032, 'test_loss': 1.9919379766170795, 'bleu': 20.9578, 'gen_len': 9.8182}\n",
      "\n",
      "=============================\n",
      "\n"
     ]
    },
    {
     "name": "stderr",
     "output_type": "stream",
     "text": [
      " 75%|███████▍  | 162/217 [49:19<16:27, 17.96s/it]"
     ]
    },
    {
     "name": "stdout",
     "output_type": "stream",
     "text": [
      "For epoch 246: \n",
      "{Learning rate: [0.0024029595420090436]}\n"
     ]
    },
    {
     "name": "stderr",
     "output_type": "stream",
     "text": [
      "Train batch number 99: 100%|██████████| 99/99 [00:14<00:00,  6.79batches/s]\n",
      "Test batch number 13: 100%|██████████| 13/13 [00:03<00:00,  3.81batches/s]\n"
     ]
    },
    {
     "name": "stdout",
     "output_type": "stream",
     "text": [
      "\n",
      "Metrics: {'train_loss': 0.008590388128526904, 'test_loss': 2.0236206513184767, 'bleu': 21.1358, 'gen_len': 9.8788}\n",
      "\n",
      "=============================\n",
      "\n"
     ]
    },
    {
     "name": "stderr",
     "output_type": "stream",
     "text": [
      " 75%|███████▌  | 163/217 [49:38<16:38, 18.49s/it]"
     ]
    },
    {
     "name": "stdout",
     "output_type": "stream",
     "text": [
      "For epoch 247: \n",
      "{Learning rate: [0.002398267648921476]}\n"
     ]
    },
    {
     "name": "stderr",
     "output_type": "stream",
     "text": [
      "Train batch number 99: 100%|██████████| 99/99 [00:13<00:00,  7.59batches/s]\n",
      "Test batch number 13: 100%|██████████| 13/13 [00:03<00:00,  3.97batches/s]\n"
     ]
    },
    {
     "name": "stdout",
     "output_type": "stream",
     "text": [
      "\n",
      "Metrics: {'train_loss': 0.008623159938842303, 'test_loss': 2.01116550885714, 'bleu': 20.7441, 'gen_len': 9.7172}\n",
      "\n",
      "=============================\n",
      "\n"
     ]
    },
    {
     "name": "stderr",
     "output_type": "stream",
     "text": [
      " 76%|███████▌  | 164/217 [49:56<16:13, 18.36s/it]"
     ]
    },
    {
     "name": "stdout",
     "output_type": "stream",
     "text": [
      "For epoch 248: \n",
      "{Learning rate: [0.0023935626988412497]}\n"
     ]
    },
    {
     "name": "stderr",
     "output_type": "stream",
     "text": [
      "Train batch number 99: 100%|██████████| 99/99 [00:12<00:00,  7.68batches/s]\n",
      "Test batch number 13: 100%|██████████| 13/13 [00:03<00:00,  3.82batches/s]\n"
     ]
    },
    {
     "name": "stdout",
     "output_type": "stream",
     "text": [
      "\n",
      "Metrics: {'train_loss': 0.007929054252930324, 'test_loss': 2.024673636143024, 'bleu': 20.6055, 'gen_len': 9.8838}\n",
      "\n",
      "=============================\n",
      "\n"
     ]
    },
    {
     "name": "stderr",
     "output_type": "stream",
     "text": [
      " 76%|███████▌  | 165/217 [50:14<15:49, 18.26s/it]"
     ]
    },
    {
     "name": "stdout",
     "output_type": "stream",
     "text": [
      "For epoch 249: \n",
      "{Learning rate: [0.0023888447610569117]}\n"
     ]
    },
    {
     "name": "stderr",
     "output_type": "stream",
     "text": [
      "Train batch number 99: 100%|██████████| 99/99 [00:12<00:00,  7.69batches/s]\n",
      "Test batch number 13: 100%|██████████| 13/13 [00:03<00:00,  3.68batches/s]\n"
     ]
    },
    {
     "name": "stdout",
     "output_type": "stream",
     "text": [
      "\n",
      "Metrics: {'train_loss': 0.007920725821432743, 'test_loss': 2.0360371516301083, 'bleu': 20.8598, 'gen_len': 9.8838}\n",
      "\n",
      "=============================\n",
      "\n"
     ]
    },
    {
     "name": "stderr",
     "output_type": "stream",
     "text": [
      " 76%|███████▋  | 166/217 [50:33<15:29, 18.23s/it]"
     ]
    },
    {
     "name": "stdout",
     "output_type": "stream",
     "text": [
      "For epoch 250: \n",
      "{Learning rate: [0.0023841139050482752]}\n"
     ]
    },
    {
     "name": "stderr",
     "output_type": "stream",
     "text": [
      "Train batch number 99: 100%|██████████| 99/99 [00:13<00:00,  7.52batches/s]\n",
      "Test batch number 13: 100%|██████████| 13/13 [00:03<00:00,  3.89batches/s]\n"
     ]
    },
    {
     "name": "stdout",
     "output_type": "stream",
     "text": [
      "\n",
      "Metrics: {'train_loss': 0.008227484984819617, 'test_loss': 1.9731329496090229, 'bleu': 20.9085, 'gen_len': 9.9091}\n",
      "\n",
      "=============================\n",
      "\n"
     ]
    },
    {
     "name": "stderr",
     "output_type": "stream",
     "text": [
      " 77%|███████▋  | 167/217 [50:51<15:11, 18.24s/it]"
     ]
    },
    {
     "name": "stdout",
     "output_type": "stream",
     "text": [
      "For epoch 251: \n",
      "{Learning rate: [0.0023793702004853952]}\n"
     ]
    },
    {
     "name": "stderr",
     "output_type": "stream",
     "text": [
      "Train batch number 99: 100%|██████████| 99/99 [00:13<00:00,  7.58batches/s]\n",
      "Test batch number 13: 100%|██████████| 13/13 [00:03<00:00,  3.82batches/s]\n"
     ]
    },
    {
     "name": "stdout",
     "output_type": "stream",
     "text": [
      "\n",
      "Metrics: {'train_loss': 0.008362958304151291, 'test_loss': 2.0167664931370664, 'bleu': 20.8107, 'gen_len': 9.8788}\n",
      "\n",
      "=============================\n",
      "\n"
     ]
    },
    {
     "name": "stderr",
     "output_type": "stream",
     "text": [
      " 77%|███████▋  | 168/217 [51:09<14:53, 18.23s/it]"
     ]
    },
    {
     "name": "stdout",
     "output_type": "stream",
     "text": [
      "For epoch 252: \n",
      "{Learning rate: [0.002374613717227547]}\n"
     ]
    },
    {
     "name": "stderr",
     "output_type": "stream",
     "text": [
      "Train batch number 99: 100%|██████████| 99/99 [00:12<00:00,  7.80batches/s]\n",
      "Test batch number 13: 100%|██████████| 13/13 [00:03<00:00,  3.78batches/s]\n"
     ]
    },
    {
     "name": "stdout",
     "output_type": "stream",
     "text": [
      "\n",
      "Metrics: {'train_loss': 0.007981906159348184, 'test_loss': 2.009434067285978, 'bleu': 21.517, 'gen_len': 9.8535}\n",
      "\n",
      "=============================\n",
      "\n"
     ]
    },
    {
     "name": "stderr",
     "output_type": "stream",
     "text": [
      " 78%|███████▊  | 169/217 [51:27<14:29, 18.12s/it]"
     ]
    },
    {
     "name": "stdout",
     "output_type": "stream",
     "text": [
      "For epoch 253: \n",
      "{Learning rate: [0.002369844525322191]}\n"
     ]
    },
    {
     "name": "stderr",
     "output_type": "stream",
     "text": [
      "Train batch number 99: 100%|██████████| 99/99 [00:12<00:00,  7.62batches/s]\n",
      "Test batch number 13: 100%|██████████| 13/13 [00:03<00:00,  3.95batches/s]\n"
     ]
    },
    {
     "name": "stdout",
     "output_type": "stream",
     "text": [
      "\n",
      "Metrics: {'train_loss': 0.008127196278597105, 'test_loss': 2.001482890202449, 'bleu': 20.4955, 'gen_len': 9.9091}\n",
      "\n",
      "=============================\n",
      "\n"
     ]
    },
    {
     "name": "stderr",
     "output_type": "stream",
     "text": [
      " 78%|███████▊  | 170/217 [51:45<14:14, 18.17s/it]"
     ]
    },
    {
     "name": "stdout",
     "output_type": "stream",
     "text": [
      "For epoch 254: \n",
      "{Learning rate: [0.002365062695003947]}\n"
     ]
    },
    {
     "name": "stderr",
     "output_type": "stream",
     "text": [
      "Train batch number 99: 100%|██████████| 99/99 [00:12<00:00,  7.69batches/s]\n",
      "Test batch number 13: 100%|██████████| 13/13 [00:03<00:00,  3.82batches/s]\n"
     ]
    },
    {
     "name": "stdout",
     "output_type": "stream",
     "text": [
      "\n",
      "Metrics: {'train_loss': 0.007667740278070642, 'test_loss': 2.0101281037697425, 'bleu': 21.0015, 'gen_len': 9.9444}\n",
      "\n",
      "=============================\n",
      "\n"
     ]
    },
    {
     "name": "stderr",
     "output_type": "stream",
     "text": [
      " 79%|███████▉  | 171/217 [52:03<13:53, 18.13s/it]"
     ]
    },
    {
     "name": "stdout",
     "output_type": "stream",
     "text": [
      "For epoch 255: \n",
      "{Learning rate: [0.002360268296693555]}\n"
     ]
    },
    {
     "name": "stderr",
     "output_type": "stream",
     "text": [
      "Train batch number 99: 100%|██████████| 99/99 [00:12<00:00,  7.66batches/s]\n",
      "Test batch number 13: 100%|██████████| 13/13 [00:03<00:00,  3.84batches/s]\n"
     ]
    },
    {
     "name": "stdout",
     "output_type": "stream",
     "text": [
      "\n",
      "Metrics: {'train_loss': 0.008022236710677694, 'test_loss': 1.9960853595000048, 'bleu': 20.8573, 'gen_len': 9.7727}\n",
      "\n",
      "=============================\n",
      "\n"
     ]
    },
    {
     "name": "stderr",
     "output_type": "stream",
     "text": [
      " 79%|███████▉  | 172/217 [52:21<13:34, 18.10s/it]"
     ]
    },
    {
     "name": "stdout",
     "output_type": "stream",
     "text": [
      "For epoch 256: \n",
      "{Learning rate: [0.0023554614009968435]}\n"
     ]
    },
    {
     "name": "stderr",
     "output_type": "stream",
     "text": [
      "Train batch number 99: 100%|██████████| 99/99 [00:12<00:00,  7.74batches/s]\n",
      "Test batch number 13: 100%|██████████| 13/13 [00:03<00:00,  3.82batches/s]\n"
     ]
    },
    {
     "name": "stdout",
     "output_type": "stream",
     "text": [
      "\n",
      "Metrics: {'train_loss': 0.00789300915714579, 'test_loss': 2.0104452188198385, 'bleu': 21.4363, 'gen_len': 9.6919}\n",
      "\n",
      "=============================\n",
      "\n"
     ]
    },
    {
     "name": "stderr",
     "output_type": "stream",
     "text": [
      " 80%|███████▉  | 173/217 [52:39<13:14, 18.05s/it]"
     ]
    },
    {
     "name": "stdout",
     "output_type": "stream",
     "text": [
      "For epoch 257: \n",
      "{Learning rate: [0.0023506420787036833]}\n"
     ]
    },
    {
     "name": "stderr",
     "output_type": "stream",
     "text": [
      "Train batch number 99: 100%|██████████| 99/99 [00:12<00:00,  7.66batches/s]\n",
      "Test batch number 13: 100%|██████████| 13/13 [00:03<00:00,  3.99batches/s]\n"
     ]
    },
    {
     "name": "stdout",
     "output_type": "stream",
     "text": [
      "\n",
      "Metrics: {'train_loss': 0.008100683133545887, 'test_loss': 2.010713054583623, 'bleu': 21.7592, 'gen_len': 9.7576}\n",
      "\n",
      "=============================\n",
      "\n"
     ]
    },
    {
     "name": "stderr",
     "output_type": "stream",
     "text": [
      " 80%|████████  | 174/217 [52:57<12:54, 18.01s/it]"
     ]
    },
    {
     "name": "stdout",
     "output_type": "stream",
     "text": [
      "For epoch 258: \n",
      "{Learning rate: [0.002345810400786951]}\n"
     ]
    },
    {
     "name": "stderr",
     "output_type": "stream",
     "text": [
      "Train batch number 99: 100%|██████████| 99/99 [00:12<00:00,  7.62batches/s]\n",
      "Test batch number 13: 100%|██████████| 13/13 [00:03<00:00,  3.69batches/s]\n"
     ]
    },
    {
     "name": "stdout",
     "output_type": "stream",
     "text": [
      "\n",
      "Metrics: {'train_loss': 0.007924244447488977, 'test_loss': 2.0090866730763364, 'bleu': 21.1201, 'gen_len': 9.8485}\n",
      "\n",
      "=============================\n",
      "\n"
     ]
    },
    {
     "name": "stderr",
     "output_type": "stream",
     "text": [
      " 81%|████████  | 175/217 [53:15<12:39, 18.08s/it]"
     ]
    },
    {
     "name": "stdout",
     "output_type": "stream",
     "text": [
      "For epoch 259: \n",
      "{Learning rate: [0.0023409664384014795]}\n"
     ]
    },
    {
     "name": "stderr",
     "output_type": "stream",
     "text": [
      "Train batch number 99: 100%|██████████| 99/99 [00:12<00:00,  7.69batches/s]\n",
      "Test batch number 13: 100%|██████████| 13/13 [00:03<00:00,  4.02batches/s]\n"
     ]
    },
    {
     "name": "stdout",
     "output_type": "stream",
     "text": [
      "\n",
      "Metrics: {'train_loss': 0.008154257669259389, 'test_loss': 2.0241747819460354, 'bleu': 21.4246, 'gen_len': 9.5758}\n",
      "\n",
      "=============================\n",
      "\n"
     ]
    },
    {
     "name": "stderr",
     "output_type": "stream",
     "text": [
      " 81%|████████  | 176/217 [53:33<12:18, 18.01s/it]"
     ]
    },
    {
     "name": "stdout",
     "output_type": "stream",
     "text": [
      "For epoch 260: \n",
      "{Learning rate: [0.0023361102628830133]}\n"
     ]
    },
    {
     "name": "stderr",
     "output_type": "stream",
     "text": [
      "Train batch number 99: 100%|██████████| 99/99 [00:13<00:00,  7.60batches/s]\n",
      "Test batch number 13: 100%|██████████| 13/13 [00:03<00:00,  3.89batches/s]\n"
     ]
    },
    {
     "name": "stdout",
     "output_type": "stream",
     "text": [
      "\n",
      "Metrics: {'train_loss': 0.008145739688629736, 'test_loss': 1.9981421690720778, 'bleu': 20.8005, 'gen_len': 9.8636}\n",
      "\n",
      "=============================\n",
      "\n"
     ]
    },
    {
     "name": "stderr",
     "output_type": "stream",
     "text": [
      " 82%|████████▏ | 177/217 [53:51<12:01, 18.04s/it]"
     ]
    },
    {
     "name": "stdout",
     "output_type": "stream",
     "text": [
      "For epoch 261: \n",
      "{Learning rate: [0.0023312419457471555]}\n"
     ]
    },
    {
     "name": "stderr",
     "output_type": "stream",
     "text": [
      "Train batch number 99: 100%|██████████| 99/99 [00:13<00:00,  7.61batches/s]\n",
      "Test batch number 13: 100%|██████████| 13/13 [00:03<00:00,  3.80batches/s]\n"
     ]
    },
    {
     "name": "stdout",
     "output_type": "stream",
     "text": [
      "\n",
      "Metrics: {'train_loss': 0.007587132231694543, 'test_loss': 2.005609007982107, 'bleu': 20.8507, 'gen_len': 9.697}\n",
      "\n",
      "=============================\n",
      "\n"
     ]
    },
    {
     "name": "stderr",
     "output_type": "stream",
     "text": [
      " 82%|████████▏ | 178/217 [54:09<11:45, 18.08s/it]"
     ]
    },
    {
     "name": "stdout",
     "output_type": "stream",
     "text": [
      "For epoch 262: \n",
      "{Learning rate: [0.0023263615586883142]}\n"
     ]
    },
    {
     "name": "stderr",
     "output_type": "stream",
     "text": [
      "Train batch number 99: 100%|██████████| 99/99 [00:12<00:00,  7.86batches/s]\n",
      "Test batch number 13: 100%|██████████| 13/13 [00:03<00:00,  4.01batches/s]\n"
     ]
    },
    {
     "name": "stdout",
     "output_type": "stream",
     "text": [
      "\n",
      "Metrics: {'train_loss': 0.007763802715062136, 'test_loss': 2.0144257820569553, 'bleu': 21.0599, 'gen_len': 9.8636}\n",
      "\n",
      "=============================\n",
      "\n"
     ]
    },
    {
     "name": "stderr",
     "output_type": "stream",
     "text": [
      " 82%|████████▏ | 179/217 [54:27<11:21, 17.94s/it]"
     ]
    },
    {
     "name": "stdout",
     "output_type": "stream",
     "text": [
      "For epoch 263: \n",
      "{Learning rate: [0.0023214691735786515]}\n"
     ]
    },
    {
     "name": "stderr",
     "output_type": "stream",
     "text": [
      "Train batch number 99: 100%|██████████| 99/99 [00:12<00:00,  7.70batches/s]\n",
      "Test batch number 13: 100%|██████████| 13/13 [00:03<00:00,  3.82batches/s]\n"
     ]
    },
    {
     "name": "stdout",
     "output_type": "stream",
     "text": [
      "\n",
      "Metrics: {'train_loss': 0.007643290310909953, 'test_loss': 2.009593761884249, 'bleu': 20.7134, 'gen_len': 9.7778}\n",
      "\n",
      "=============================\n",
      "\n"
     ]
    },
    {
     "name": "stderr",
     "output_type": "stream",
     "text": [
      " 83%|████████▎ | 180/217 [54:45<11:04, 17.95s/it]"
     ]
    },
    {
     "name": "stdout",
     "output_type": "stream",
     "text": [
      "For epoch 264: \n",
      "{Learning rate: [0.002316564862467019]}\n"
     ]
    },
    {
     "name": "stderr",
     "output_type": "stream",
     "text": [
      "Train batch number 99: 100%|██████████| 99/99 [00:12<00:00,  7.64batches/s]\n",
      "Test batch number 13: 100%|██████████| 13/13 [00:03<00:00,  4.11batches/s]\n"
     ]
    },
    {
     "name": "stdout",
     "output_type": "stream",
     "text": [
      "\n",
      "Metrics: {'train_loss': 0.007525200110970705, 'test_loss': 2.008841532927293, 'bleu': 21.0287, 'gen_len': 9.8081}\n",
      "\n",
      "=============================\n",
      "\n"
     ]
    },
    {
     "name": "stderr",
     "output_type": "stream",
     "text": [
      " 83%|████████▎ | 181/217 [55:03<10:45, 17.93s/it]"
     ]
    },
    {
     "name": "stdout",
     "output_type": "stream",
     "text": [
      "For epoch 265: \n",
      "{Learning rate: [0.0023116486975778994]}\n"
     ]
    },
    {
     "name": "stderr",
     "output_type": "stream",
     "text": [
      "Train batch number 99: 100%|██████████| 99/99 [00:12<00:00,  7.68batches/s]\n",
      "Test batch number 13: 100%|██████████| 13/13 [00:03<00:00,  4.10batches/s]\n"
     ]
    },
    {
     "name": "stdout",
     "output_type": "stream",
     "text": [
      "\n",
      "Metrics: {'train_loss': 0.007908088110994096, 'test_loss': 2.017921108465928, 'bleu': 21.2927, 'gen_len': 9.6263}\n",
      "\n",
      "=============================\n",
      "\n"
     ]
    },
    {
     "name": "stderr",
     "output_type": "stream",
     "text": [
      " 84%|████████▍ | 182/217 [55:21<10:26, 17.90s/it]"
     ]
    },
    {
     "name": "stdout",
     "output_type": "stream",
     "text": [
      "For epoch 266: \n",
      "{Learning rate: [0.0023067207513103446]}\n"
     ]
    },
    {
     "name": "stderr",
     "output_type": "stream",
     "text": [
      "Train batch number 99: 100%|██████████| 99/99 [00:12<00:00,  7.62batches/s]\n",
      "Test batch number 13: 100%|██████████| 13/13 [00:03<00:00,  3.82batches/s]\n"
     ]
    },
    {
     "name": "stdout",
     "output_type": "stream",
     "text": [
      "\n",
      "Metrics: {'train_loss': 0.007608262404289115, 'test_loss': 2.0335506200790405, 'bleu': 21.7212, 'gen_len': 9.8081}\n",
      "\n",
      "=============================\n",
      "\n"
     ]
    },
    {
     "name": "stderr",
     "output_type": "stream",
     "text": [
      " 84%|████████▍ | 183/217 [55:39<10:10, 17.97s/it]"
     ]
    },
    {
     "name": "stdout",
     "output_type": "stream",
     "text": [
      "For epoch 267: \n",
      "{Learning rate: [0.0023017810962369053]}\n"
     ]
    },
    {
     "name": "stderr",
     "output_type": "stream",
     "text": [
      "Train batch number 99: 100%|██████████| 99/99 [00:12<00:00,  7.63batches/s]\n",
      "Test batch number 13: 100%|██████████| 13/13 [00:03<00:00,  3.83batches/s]\n"
     ]
    },
    {
     "name": "stdout",
     "output_type": "stream",
     "text": [
      "\n",
      "Metrics: {'train_loss': 0.007916553696203563, 'test_loss': 2.0135143536787767, 'bleu': 21.219, 'gen_len': 9.8182}\n",
      "\n",
      "=============================\n",
      "\n"
     ]
    },
    {
     "name": "stderr",
     "output_type": "stream",
     "text": [
      " 85%|████████▍ | 184/217 [55:57<09:54, 18.02s/it]"
     ]
    },
    {
     "name": "stdout",
     "output_type": "stream",
     "text": [
      "For epoch 268: \n",
      "{Learning rate: [0.002296829805102567]}\n"
     ]
    },
    {
     "name": "stderr",
     "output_type": "stream",
     "text": [
      "Train batch number 99: 100%|██████████| 99/99 [00:13<00:00,  7.54batches/s]\n",
      "Test batch number 13: 100%|██████████| 13/13 [00:03<00:00,  4.01batches/s]\n"
     ]
    },
    {
     "name": "stdout",
     "output_type": "stream",
     "text": [
      "\n",
      "Metrics: {'train_loss': 0.007394819078417824, 'test_loss': 2.0330304549290585, 'bleu': 21.3911, 'gen_len': 9.7727}\n",
      "\n",
      "=============================\n",
      "\n"
     ]
    },
    {
     "name": "stderr",
     "output_type": "stream",
     "text": [
      " 85%|████████▌ | 185/217 [56:15<09:37, 18.04s/it]"
     ]
    },
    {
     "name": "stdout",
     "output_type": "stream",
     "text": [
      "For epoch 269: \n",
      "{Learning rate: [0.0022918669508236746]}\n"
     ]
    },
    {
     "name": "stderr",
     "output_type": "stream",
     "text": [
      "Train batch number 99: 100%|██████████| 99/99 [00:12<00:00,  7.68batches/s]\n",
      "Test batch number 13: 100%|██████████| 13/13 [00:03<00:00,  4.10batches/s]\n"
     ]
    },
    {
     "name": "stdout",
     "output_type": "stream",
     "text": [
      "\n",
      "Metrics: {'train_loss': 0.007782491767423867, 'test_loss': 2.0126864910125732, 'bleu': 21.8094, 'gen_len': 9.7879}\n",
      "\n",
      "=============================\n",
      "\n"
     ]
    },
    {
     "name": "stderr",
     "output_type": "stream",
     "text": [
      " 86%|████████▌ | 186/217 [56:33<09:16, 17.97s/it]"
     ]
    },
    {
     "name": "stdout",
     "output_type": "stream",
     "text": [
      "For epoch 270: \n",
      "{Learning rate: [0.0022868926064868607]}\n"
     ]
    },
    {
     "name": "stderr",
     "output_type": "stream",
     "text": [
      "Train batch number 99: 100%|██████████| 99/99 [00:13<00:00,  7.61batches/s]\n",
      "Test batch number 13: 100%|██████████| 13/13 [00:03<00:00,  3.94batches/s]\n"
     ]
    },
    {
     "name": "stdout",
     "output_type": "stream",
     "text": [
      "\n",
      "Metrics: {'train_loss': 0.007289479968768328, 'test_loss': 2.015666438983037, 'bleu': 21.8706, 'gen_len': 9.7626}\n",
      "\n",
      "=============================\n",
      "\n"
     ]
    },
    {
     "name": "stderr",
     "output_type": "stream",
     "text": [
      " 86%|████████▌ | 187/217 [56:51<08:59, 17.99s/it]"
     ]
    },
    {
     "name": "stdout",
     "output_type": "stream",
     "text": [
      "For epoch 271: \n",
      "{Learning rate: [0.00228190684534797]}\n"
     ]
    },
    {
     "name": "stderr",
     "output_type": "stream",
     "text": [
      "Train batch number 99: 100%|██████████| 99/99 [00:12<00:00,  7.66batches/s]\n",
      "Test batch number 13: 100%|██████████| 13/13 [00:03<00:00,  3.90batches/s]\n"
     ]
    },
    {
     "name": "stdout",
     "output_type": "stream",
     "text": [
      "\n",
      "Metrics: {'train_loss': 0.007549804446465016, 'test_loss': 2.0112565664144664, 'bleu': 21.2188, 'gen_len': 9.803}\n",
      "\n",
      "=============================\n",
      "\n"
     ]
    },
    {
     "name": "stderr",
     "output_type": "stream",
     "text": [
      " 87%|████████▋ | 188/217 [57:09<08:41, 17.99s/it]"
     ]
    },
    {
     "name": "stdout",
     "output_type": "stream",
     "text": [
      "For epoch 272: \n",
      "{Learning rate: [0.0022769097408309787]}\n"
     ]
    },
    {
     "name": "stderr",
     "output_type": "stream",
     "text": [
      "Train batch number 99: 100%|██████████| 99/99 [00:13<00:00,  7.55batches/s]\n",
      "Test batch number 13: 100%|██████████| 13/13 [00:03<00:00,  3.98batches/s]\n"
     ]
    },
    {
     "name": "stdout",
     "output_type": "stream",
     "text": [
      "\n",
      "Metrics: {'train_loss': 0.007473037452342911, 'test_loss': 2.0193564616716824, 'bleu': 21.2202, 'gen_len': 9.697}\n",
      "\n",
      "=============================\n",
      "\n"
     ]
    },
    {
     "name": "stderr",
     "output_type": "stream",
     "text": [
      " 87%|████████▋ | 189/217 [57:27<08:24, 18.03s/it]"
     ]
    },
    {
     "name": "stdout",
     "output_type": "stream",
     "text": [
      "For epoch 273: \n",
      "{Learning rate: [0.002271901366526913]}\n"
     ]
    },
    {
     "name": "stderr",
     "output_type": "stream",
     "text": [
      "Train batch number 99: 100%|██████████| 99/99 [00:13<00:00,  7.61batches/s]\n",
      "Test batch number 13: 100%|██████████| 13/13 [00:03<00:00,  3.95batches/s]\n"
     ]
    },
    {
     "name": "stdout",
     "output_type": "stream",
     "text": [
      "\n",
      "Metrics: {'train_loss': 0.00742401170480827, 'test_loss': 2.017874891941364, 'bleu': 21.3595, 'gen_len': 9.7525}\n",
      "\n",
      "=============================\n",
      "\n"
     ]
    },
    {
     "name": "stderr",
     "output_type": "stream",
     "text": [
      " 88%|████████▊ | 190/217 [57:45<08:06, 18.03s/it]"
     ]
    },
    {
     "name": "stdout",
     "output_type": "stream",
     "text": [
      "For epoch 274: \n",
      "{Learning rate: [0.0022668817961927685]}\n"
     ]
    },
    {
     "name": "stderr",
     "output_type": "stream",
     "text": [
      "Train batch number 99: 100%|██████████| 99/99 [00:12<00:00,  7.64batches/s]\n",
      "Test batch number 13: 100%|██████████| 13/13 [00:03<00:00,  3.89batches/s]\n"
     ]
    },
    {
     "name": "stdout",
     "output_type": "stream",
     "text": [
      "\n",
      "Metrics: {'train_loss': 0.007409966238709684, 'test_loss': 2.0153187971848707, 'bleu': 21.332, 'gen_len': 9.7778}\n",
      "\n",
      "=============================\n",
      "\n"
     ]
    },
    {
     "name": "stderr",
     "output_type": "stream",
     "text": [
      " 88%|████████▊ | 191/217 [58:03<07:48, 18.03s/it]"
     ]
    },
    {
     "name": "stdout",
     "output_type": "stream",
     "text": [
      "For epoch 275: \n",
      "{Learning rate: [0.0022618511037504193]}\n"
     ]
    },
    {
     "name": "stderr",
     "output_type": "stream",
     "text": [
      "Train batch number 99: 100%|██████████| 99/99 [00:12<00:00,  7.71batches/s]\n",
      "Test batch number 13: 100%|██████████| 13/13 [00:03<00:00,  4.02batches/s]\n"
     ]
    },
    {
     "name": "stdout",
     "output_type": "stream",
     "text": [
      "\n",
      "Metrics: {'train_loss': 0.007463585348997378, 'test_loss': 1.9956353444319506, 'bleu': 20.9818, 'gen_len': 9.7525}\n",
      "\n",
      "=============================\n",
      "\n"
     ]
    },
    {
     "name": "stderr",
     "output_type": "stream",
     "text": [
      " 88%|████████▊ | 192/217 [58:21<07:29, 17.96s/it]"
     ]
    },
    {
     "name": "stdout",
     "output_type": "stream",
     "text": [
      "For epoch 276: \n",
      "{Learning rate: [0.002256809363285533]}\n"
     ]
    },
    {
     "name": "stderr",
     "output_type": "stream",
     "text": [
      "Train batch number 99: 100%|██████████| 99/99 [00:13<00:00,  7.51batches/s]\n",
      "Test batch number 13: 100%|██████████| 13/13 [00:03<00:00,  3.87batches/s]\n"
     ]
    },
    {
     "name": "stdout",
     "output_type": "stream",
     "text": [
      "\n",
      "Metrics: {'train_loss': 0.0077988703622285166, 'test_loss': 2.0200826204740086, 'bleu': 21.4609, 'gen_len': 9.5505}\n",
      "\n",
      "=============================\n",
      "\n"
     ]
    },
    {
     "name": "stderr",
     "output_type": "stream",
     "text": [
      " 89%|████████▉ | 193/217 [58:39<07:13, 18.06s/it]"
     ]
    },
    {
     "name": "stdout",
     "output_type": "stream",
     "text": [
      "For epoch 277: \n",
      "{Learning rate: [0.0022517566490464786]}\n"
     ]
    },
    {
     "name": "stderr",
     "output_type": "stream",
     "text": [
      "Train batch number 99: 100%|██████████| 99/99 [00:13<00:00,  7.61batches/s]\n",
      "Test batch number 13: 100%|██████████| 13/13 [00:03<00:00,  4.07batches/s]\n"
     ]
    },
    {
     "name": "stdout",
     "output_type": "stream",
     "text": [
      "\n",
      "Metrics: {'train_loss': 0.007918315065902366, 'test_loss': 2.014645769045903, 'bleu': 20.9963, 'gen_len': 9.8182}\n",
      "\n",
      "=============================\n",
      "\n"
     ]
    },
    {
     "name": "stderr",
     "output_type": "stream",
     "text": [
      " 89%|████████▉ | 194/217 [58:57<06:54, 18.03s/it]"
     ]
    },
    {
     "name": "stdout",
     "output_type": "stream",
     "text": [
      "For epoch 278: \n",
      "{Learning rate: [0.0022466930354432322]}\n"
     ]
    },
    {
     "name": "stderr",
     "output_type": "stream",
     "text": [
      "Train batch number 99: 100%|██████████| 99/99 [00:12<00:00,  7.62batches/s]\n",
      "Test batch number 13: 100%|██████████| 13/13 [00:03<00:00,  4.00batches/s]\n"
     ]
    },
    {
     "name": "stdout",
     "output_type": "stream",
     "text": [
      "\n",
      "Metrics: {'train_loss': 0.007661163968309252, 'test_loss': 2.0368558168411255, 'bleu': 22.0905, 'gen_len': 9.6919}\n",
      "\n",
      "=============================\n",
      "\n"
     ]
    },
    {
     "name": "stderr",
     "output_type": "stream",
     "text": [
      " 90%|████████▉ | 195/217 [59:16<06:45, 18.42s/it]"
     ]
    },
    {
     "name": "stdout",
     "output_type": "stream",
     "text": [
      "For epoch 279: \n",
      "{Learning rate: [0.0022416185970462834]}\n"
     ]
    },
    {
     "name": "stderr",
     "output_type": "stream",
     "text": [
      "Train batch number 99: 100%|██████████| 99/99 [00:12<00:00,  7.79batches/s]\n",
      "Test batch number 13: 100%|██████████| 13/13 [00:03<00:00,  4.06batches/s]\n"
     ]
    },
    {
     "name": "stdout",
     "output_type": "stream",
     "text": [
      "\n",
      "Metrics: {'train_loss': 0.007816448767147394, 'test_loss': 2.012786324207599, 'bleu': 22.0446, 'gen_len': 9.7727}\n",
      "\n",
      "=============================\n",
      "\n"
     ]
    },
    {
     "name": "stderr",
     "output_type": "stream",
     "text": [
      " 90%|█████████ | 196/217 [59:34<06:21, 18.19s/it]"
     ]
    },
    {
     "name": "stdout",
     "output_type": "stream",
     "text": [
      "For epoch 280: \n",
      "{Learning rate: [0.0022365334085855345]}\n"
     ]
    },
    {
     "name": "stderr",
     "output_type": "stream",
     "text": [
      "Train batch number 99: 100%|██████████| 99/99 [00:12<00:00,  7.69batches/s]\n",
      "Test batch number 13: 100%|██████████| 13/13 [00:03<00:00,  3.97batches/s]\n"
     ]
    },
    {
     "name": "stdout",
     "output_type": "stream",
     "text": [
      "\n",
      "Metrics: {'train_loss': 0.007606699652358362, 'test_loss': 1.9973454750501192, 'bleu': 22.6958, 'gen_len': 9.8434}\n",
      "\n",
      "=============================\n",
      "\n"
     ]
    },
    {
     "name": "stderr",
     "output_type": "stream",
     "text": [
      " 91%|█████████ | 197/217 [59:53<06:10, 18.51s/it]"
     ]
    },
    {
     "name": "stdout",
     "output_type": "stream",
     "text": [
      "For epoch 281: \n",
      "{Learning rate: [0.0022314375449492005]}\n"
     ]
    },
    {
     "name": "stderr",
     "output_type": "stream",
     "text": [
      "Train batch number 99: 100%|██████████| 99/99 [00:12<00:00,  7.71batches/s]\n",
      "Test batch number 13: 100%|██████████| 13/13 [00:03<00:00,  3.96batches/s]\n"
     ]
    },
    {
     "name": "stdout",
     "output_type": "stream",
     "text": [
      "\n",
      "Metrics: {'train_loss': 0.008133093333324522, 'test_loss': 2.0113977835728574, 'bleu': 22.282, 'gen_len': 9.8788}\n",
      "\n",
      "=============================\n",
      "\n"
     ]
    },
    {
     "name": "stderr",
     "output_type": "stream",
     "text": [
      " 91%|█████████ | 198/217 [1:00:11<05:47, 18.31s/it]"
     ]
    },
    {
     "name": "stdout",
     "output_type": "stream",
     "text": [
      "For epoch 282: \n",
      "{Learning rate: [0.002226331081182709]}\n"
     ]
    },
    {
     "name": "stderr",
     "output_type": "stream",
     "text": [
      "Train batch number 99: 100%|██████████| 99/99 [00:13<00:00,  7.56batches/s]\n",
      "Test batch number 13: 100%|██████████| 13/13 [00:03<00:00,  4.16batches/s]\n"
     ]
    },
    {
     "name": "stdout",
     "output_type": "stream",
     "text": [
      "\n",
      "Metrics: {'train_loss': 0.008042501809835114, 'test_loss': 2.0189579816964955, 'bleu': 22.4644, 'gen_len': 9.6465}\n",
      "\n",
      "=============================\n",
      "\n"
     ]
    },
    {
     "name": "stderr",
     "output_type": "stream",
     "text": [
      " 92%|█████████▏| 199/217 [1:00:29<05:27, 18.20s/it]"
     ]
    },
    {
     "name": "stdout",
     "output_type": "stream",
     "text": [
      "For epoch 283: \n",
      "{Learning rate: [0.0022212140924875896]}\n"
     ]
    },
    {
     "name": "stderr",
     "output_type": "stream",
     "text": [
      "Train batch number 99: 100%|██████████| 99/99 [00:12<00:00,  7.65batches/s]\n",
      "Test batch number 13: 100%|██████████| 13/13 [00:03<00:00,  4.11batches/s]\n"
     ]
    },
    {
     "name": "stdout",
     "output_type": "stream",
     "text": [
      "\n",
      "Metrics: {'train_loss': 0.007469621122429016, 'test_loss': 2.0326482424369225, 'bleu': 22.7364, 'gen_len': 9.697}\n",
      "\n",
      "=============================\n",
      "\n"
     ]
    },
    {
     "name": "stderr",
     "output_type": "stream",
     "text": [
      " 92%|█████████▏| 200/217 [1:00:48<05:14, 18.50s/it]"
     ]
    },
    {
     "name": "stdout",
     "output_type": "stream",
     "text": [
      "For epoch 284: \n",
      "{Learning rate: [0.002216086654220374]}\n"
     ]
    },
    {
     "name": "stderr",
     "output_type": "stream",
     "text": [
      "Train batch number 99: 100%|██████████| 99/99 [00:13<00:00,  7.61batches/s]\n",
      "Test batch number 13: 100%|██████████| 13/13 [00:03<00:00,  4.11batches/s]\n"
     ]
    },
    {
     "name": "stdout",
     "output_type": "stream",
     "text": [
      "\n",
      "Metrics: {'train_loss': 0.007325995528854129, 'test_loss': 2.0288621278909535, 'bleu': 22.2651, 'gen_len': 9.9141}\n",
      "\n",
      "=============================\n",
      "\n"
     ]
    },
    {
     "name": "stderr",
     "output_type": "stream",
     "text": [
      " 93%|█████████▎| 201/217 [1:01:06<04:53, 18.33s/it]"
     ]
    },
    {
     "name": "stdout",
     "output_type": "stream",
     "text": [
      "For epoch 285: \n",
      "{Learning rate: [0.0022109488418914783]}\n"
     ]
    },
    {
     "name": "stderr",
     "output_type": "stream",
     "text": [
      "Train batch number 99: 100%|██████████| 99/99 [00:13<00:00,  7.50batches/s]\n",
      "Test batch number 13: 100%|██████████| 13/13 [00:03<00:00,  4.06batches/s]\n"
     ]
    },
    {
     "name": "stdout",
     "output_type": "stream",
     "text": [
      "\n",
      "Metrics: {'train_loss': 0.00784063293843182, 'test_loss': 2.027608027824989, 'bleu': 22.6316, 'gen_len': 9.7071}\n",
      "\n",
      "=============================\n",
      "\n"
     ]
    },
    {
     "name": "stderr",
     "output_type": "stream",
     "text": [
      " 93%|█████████▎| 202/217 [1:01:24<04:34, 18.27s/it]"
     ]
    },
    {
     "name": "stdout",
     "output_type": "stream",
     "text": [
      "For epoch 286: \n",
      "{Learning rate: [0.0022058007311640962]}\n"
     ]
    },
    {
     "name": "stderr",
     "output_type": "stream",
     "text": [
      "Train batch number 99: 100%|██████████| 99/99 [00:12<00:00,  7.72batches/s]\n",
      "Test batch number 13: 100%|██████████| 13/13 [00:03<00:00,  4.03batches/s]\n"
     ]
    },
    {
     "name": "stdout",
     "output_type": "stream",
     "text": [
      "\n",
      "Metrics: {'train_loss': 0.0075678292781260394, 'test_loss': 2.0284511217704186, 'bleu': 21.3322, 'gen_len': 9.8081}\n",
      "\n",
      "=============================\n",
      "\n"
     ]
    },
    {
     "name": "stderr",
     "output_type": "stream",
     "text": [
      " 94%|█████████▎| 203/217 [1:01:42<04:13, 18.13s/it]"
     ]
    },
    {
     "name": "stdout",
     "output_type": "stream",
     "text": [
      "For epoch 287: \n",
      "{Learning rate: [0.002200642397853084]}\n"
     ]
    },
    {
     "name": "stderr",
     "output_type": "stream",
     "text": [
      "Train batch number 99: 100%|██████████| 99/99 [00:12<00:00,  7.64batches/s]\n",
      "Test batch number 13: 100%|██████████| 13/13 [00:03<00:00,  4.26batches/s]\n"
     ]
    },
    {
     "name": "stdout",
     "output_type": "stream",
     "text": [
      "\n",
      "Metrics: {'train_loss': 0.0071939105735950625, 'test_loss': 2.041399497252244, 'bleu': 20.4536, 'gen_len': 9.9545}\n",
      "\n",
      "=============================\n",
      "\n"
     ]
    },
    {
     "name": "stderr",
     "output_type": "stream",
     "text": [
      " 94%|█████████▍| 204/217 [1:02:00<03:54, 18.01s/it]"
     ]
    },
    {
     "name": "stdout",
     "output_type": "stream",
     "text": [
      "For epoch 288: \n",
      "{Learning rate: [0.002195473917923841]}\n"
     ]
    },
    {
     "name": "stderr",
     "output_type": "stream",
     "text": [
      "Train batch number 99: 100%|██████████| 99/99 [00:12<00:00,  7.63batches/s]\n",
      "Test batch number 13: 100%|██████████| 13/13 [00:03<00:00,  4.00batches/s]\n"
     ]
    },
    {
     "name": "stdout",
     "output_type": "stream",
     "text": [
      "\n",
      "Metrics: {'train_loss': 0.007304803176366752, 'test_loss': 2.026079003627484, 'bleu': 21.8748, 'gen_len': 9.9293}\n",
      "\n",
      "=============================\n",
      "\n"
     ]
    },
    {
     "name": "stderr",
     "output_type": "stream",
     "text": [
      " 94%|█████████▍| 205/217 [1:02:18<03:36, 18.00s/it]"
     ]
    },
    {
     "name": "stdout",
     "output_type": "stream",
     "text": [
      "For epoch 289: \n",
      "{Learning rate: [0.0021902953674911947]}\n"
     ]
    },
    {
     "name": "stderr",
     "output_type": "stream",
     "text": [
      "Train batch number 99: 100%|██████████| 99/99 [00:13<00:00,  7.53batches/s]\n",
      "Test batch number 13: 100%|██████████| 13/13 [00:03<00:00,  4.14batches/s]\n"
     ]
    },
    {
     "name": "stdout",
     "output_type": "stream",
     "text": [
      "\n",
      "Metrics: {'train_loss': 0.007200874211537096, 'test_loss': 2.0198957920074463, 'bleu': 20.8201, 'gen_len': 9.8737}\n",
      "\n",
      "=============================\n",
      "\n"
     ]
    },
    {
     "name": "stderr",
     "output_type": "stream",
     "text": [
      " 95%|█████████▍| 206/217 [1:02:36<03:18, 18.00s/it]"
     ]
    },
    {
     "name": "stdout",
     "output_type": "stream",
     "text": [
      "For epoch 290: \n",
      "{Learning rate: [0.0021851068228182775]}\n"
     ]
    },
    {
     "name": "stderr",
     "output_type": "stream",
     "text": [
      "Train batch number 99: 100%|██████████| 99/99 [00:13<00:00,  7.60batches/s]\n",
      "Test batch number 13: 100%|██████████| 13/13 [00:03<00:00,  3.97batches/s]\n"
     ]
    },
    {
     "name": "stdout",
     "output_type": "stream",
     "text": [
      "\n",
      "Metrics: {'train_loss': 0.007298678685346562, 'test_loss': 2.028487746532147, 'bleu': 21.5821, 'gen_len': 9.8737}\n",
      "\n",
      "=============================\n",
      "\n"
     ]
    },
    {
     "name": "stderr",
     "output_type": "stream",
     "text": [
      " 95%|█████████▌| 207/217 [1:02:54<03:00, 18.01s/it]"
     ]
    },
    {
     "name": "stdout",
     "output_type": "stream",
     "text": [
      "For epoch 291: \n",
      "{Learning rate: [0.002179908360315406]}\n"
     ]
    },
    {
     "name": "stderr",
     "output_type": "stream",
     "text": [
      "Train batch number 99: 100%|██████████| 99/99 [00:12<00:00,  7.63batches/s]\n",
      "Test batch number 13: 100%|██████████| 13/13 [00:03<00:00,  3.98batches/s]\n"
     ]
    },
    {
     "name": "stdout",
     "output_type": "stream",
     "text": [
      "\n",
      "Metrics: {'train_loss': 0.007243246463012195, 'test_loss': 2.02451883829557, 'bleu': 21.5791, 'gen_len': 10.0}\n",
      "\n",
      "=============================\n",
      "\n"
     ]
    },
    {
     "name": "stderr",
     "output_type": "stream",
     "text": [
      " 96%|█████████▌| 208/217 [1:03:12<02:42, 18.00s/it]"
     ]
    },
    {
     "name": "stdout",
     "output_type": "stream",
     "text": [
      "For epoch 292: \n",
      "{Learning rate: [0.002174700056538951]}\n"
     ]
    },
    {
     "name": "stderr",
     "output_type": "stream",
     "text": [
      "Train batch number 99: 100%|██████████| 99/99 [00:12<00:00,  7.71batches/s]\n",
      "Test batch number 13: 100%|██████████| 13/13 [00:03<00:00,  4.12batches/s]\n"
     ]
    },
    {
     "name": "stdout",
     "output_type": "stream",
     "text": [
      "\n",
      "Metrics: {'train_loss': 0.007548081971389816, 'test_loss': 2.027102461228004, 'bleu': 20.9591, 'gen_len': 10.0303}\n",
      "\n",
      "=============================\n",
      "\n"
     ]
    },
    {
     "name": "stderr",
     "output_type": "stream",
     "text": [
      " 96%|█████████▋| 209/217 [1:03:30<02:23, 17.92s/it]"
     ]
    },
    {
     "name": "stdout",
     "output_type": "stream",
     "text": [
      "For epoch 293: \n",
      "{Learning rate: [0.0021694819881902154]}\n"
     ]
    },
    {
     "name": "stderr",
     "output_type": "stream",
     "text": [
      "Train batch number 99: 100%|██████████| 99/99 [00:12<00:00,  7.75batches/s]\n",
      "Test batch number 13: 100%|██████████| 13/13 [00:03<00:00,  3.88batches/s]\n"
     ]
    },
    {
     "name": "stdout",
     "output_type": "stream",
     "text": [
      "\n",
      "Metrics: {'train_loss': 0.00767351710649132, 'test_loss': 2.007262871815608, 'bleu': 20.5939, 'gen_len': 9.7424}\n",
      "\n",
      "=============================\n",
      "\n"
     ]
    },
    {
     "name": "stderr",
     "output_type": "stream",
     "text": [
      " 97%|█████████▋| 210/217 [1:03:48<02:05, 17.90s/it]"
     ]
    },
    {
     "name": "stdout",
     "output_type": "stream",
     "text": [
      "For epoch 294: \n",
      "{Learning rate: [0.002164254232114302]}\n"
     ]
    },
    {
     "name": "stderr",
     "output_type": "stream",
     "text": [
      "Train batch number 99: 100%|██████████| 99/99 [00:13<00:00,  7.60batches/s]\n",
      "Test batch number 13: 100%|██████████| 13/13 [00:03<00:00,  3.98batches/s]\n"
     ]
    },
    {
     "name": "stdout",
     "output_type": "stream",
     "text": [
      "\n",
      "Metrics: {'train_loss': 0.00771450131280216, 'test_loss': 2.025987927730267, 'bleu': 21.5691, 'gen_len': 9.7222}\n",
      "\n",
      "=============================\n",
      "\n"
     ]
    },
    {
     "name": "stderr",
     "output_type": "stream",
     "text": [
      " 97%|█████████▋| 211/217 [1:04:06<01:47, 17.94s/it]"
     ]
    },
    {
     "name": "stdout",
     "output_type": "stream",
     "text": [
      "For epoch 295: \n",
      "{Learning rate: [0.0021590168652989824]}\n"
     ]
    },
    {
     "name": "stderr",
     "output_type": "stream",
     "text": [
      "Train batch number 99: 100%|██████████| 99/99 [00:12<00:00,  7.70batches/s]\n",
      "Test batch number 13: 100%|██████████| 13/13 [00:03<00:00,  3.76batches/s]\n"
     ]
    },
    {
     "name": "stdout",
     "output_type": "stream",
     "text": [
      "\n",
      "Metrics: {'train_loss': 0.007381112227155215, 'test_loss': 2.0208593056752133, 'bleu': 21.2178, 'gen_len': 9.8788}\n",
      "\n",
      "=============================\n",
      "\n"
     ]
    },
    {
     "name": "stderr",
     "output_type": "stream",
     "text": [
      " 98%|█████████▊| 212/217 [1:04:24<01:29, 17.97s/it]"
     ]
    },
    {
     "name": "stdout",
     "output_type": "stream",
     "text": [
      "For epoch 296: \n",
      "{Learning rate: [0.0021537699648735615]}\n"
     ]
    },
    {
     "name": "stderr",
     "output_type": "stream",
     "text": [
      "Train batch number 99: 100%|██████████| 99/99 [00:13<00:00,  7.53batches/s]\n",
      "Test batch number 13: 100%|██████████| 13/13 [00:03<00:00,  4.15batches/s]\n"
     ]
    },
    {
     "name": "stdout",
     "output_type": "stream",
     "text": [
      "\n",
      "Metrics: {'train_loss': 0.007452955363363009, 'test_loss': 2.023609234736516, 'bleu': 21.3963, 'gen_len': 9.7727}\n",
      "\n",
      "=============================\n",
      "\n"
     ]
    },
    {
     "name": "stderr",
     "output_type": "stream",
     "text": [
      " 98%|█████████▊| 213/217 [1:04:42<01:11, 17.99s/it]"
     ]
    },
    {
     "name": "stdout",
     "output_type": "stream",
     "text": [
      "For epoch 297: \n",
      "{Learning rate: [0.002148513608107745]}\n"
     ]
    },
    {
     "name": "stderr",
     "output_type": "stream",
     "text": [
      "Train batch number 99: 100%|██████████| 99/99 [00:12<00:00,  7.72batches/s]\n",
      "Test batch number 13: 100%|██████████| 13/13 [00:03<00:00,  3.91batches/s]\n"
     ]
    },
    {
     "name": "stdout",
     "output_type": "stream",
     "text": [
      "\n",
      "Metrics: {'train_loss': 0.007520157677877572, 'test_loss': 2.022245168685913, 'bleu': 21.172, 'gen_len': 9.9394}\n",
      "\n",
      "=============================\n",
      "\n"
     ]
    },
    {
     "name": "stderr",
     "output_type": "stream",
     "text": [
      " 99%|█████████▊| 214/217 [1:05:00<00:53, 17.96s/it]"
     ]
    },
    {
     "name": "stdout",
     "output_type": "stream",
     "text": [
      "For epoch 298: \n",
      "{Learning rate: [0.002143247872410497]}\n"
     ]
    },
    {
     "name": "stderr",
     "output_type": "stream",
     "text": [
      "Train batch number 99: 100%|██████████| 99/99 [00:12<00:00,  7.68batches/s]\n",
      "Test batch number 13: 100%|██████████| 13/13 [00:03<00:00,  3.74batches/s]\n"
     ]
    },
    {
     "name": "stdout",
     "output_type": "stream",
     "text": [
      "\n",
      "Metrics: {'train_loss': 0.007655088273094582, 'test_loss': 2.0491276520949144, 'bleu': 21.4376, 'gen_len': 9.8283}\n",
      "\n",
      "=============================\n",
      "\n"
     ]
    },
    {
     "name": "stderr",
     "output_type": "stream",
     "text": [
      " 99%|█████████▉| 215/217 [1:05:18<00:35, 18.00s/it]"
     ]
    },
    {
     "name": "stdout",
     "output_type": "stream",
     "text": [
      "For epoch 299: \n",
      "{Learning rate: [0.0021379728353289073]}\n"
     ]
    },
    {
     "name": "stderr",
     "output_type": "stream",
     "text": [
      "Train batch number 99: 100%|██████████| 99/99 [00:12<00:00,  7.74batches/s]\n",
      "Test batch number 13: 100%|██████████| 13/13 [00:03<00:00,  3.98batches/s]\n"
     ]
    },
    {
     "name": "stdout",
     "output_type": "stream",
     "text": [
      "\n",
      "Metrics: {'train_loss': 0.0073391875781876155, 'test_loss': 2.0285850121424747, 'bleu': 21.0652, 'gen_len': 9.7475}\n",
      "\n",
      "=============================\n",
      "\n"
     ]
    },
    {
     "name": "stderr",
     "output_type": "stream",
     "text": [
      "100%|█████████▉| 216/217 [1:05:35<00:17, 17.94s/it]"
     ]
    },
    {
     "name": "stdout",
     "output_type": "stream",
     "text": [
      "For epoch 300: \n",
      "{Learning rate: [0.0021326885745470395]}\n"
     ]
    },
    {
     "name": "stderr",
     "output_type": "stream",
     "text": [
      "Train batch number 99: 100%|██████████| 99/99 [00:12<00:00,  7.67batches/s]\n",
      "Test batch number 13: 100%|██████████| 13/13 [00:03<00:00,  3.94batches/s]\n"
     ]
    },
    {
     "name": "stdout",
     "output_type": "stream",
     "text": [
      "\n",
      "Metrics: {'train_loss': 0.007315988333147922, 'test_loss': 2.009385576614967, 'bleu': 21.0837, 'gen_len': 10.0859}\n",
      "\n",
      "=============================\n",
      "\n"
     ]
    },
    {
     "name": "stderr",
     "output_type": "stream",
     "text": [
      "100%|██████████| 217/217 [1:05:53<00:00, 18.22s/it]\n"
     ]
    }
   ],
   "source": [
    "trainer.train(epochs = config['epochs'] - trainer.current_epoch, auto_save=True, metric_for_best_model='bleu', metric_objective='maximize', log_step=1,\n",
    "              saving_directory = config['new_model_dir'])"
   ]
  },
  {
   "cell_type": "markdown",
   "metadata": {},
   "source": [
    "### ---"
   ]
  },
  {
   "cell_type": "code",
   "execution_count": null,
   "metadata": {},
   "outputs": [
    {
     "name": "stderr",
     "output_type": "stream",
     "text": [
      "  0%|          | 0/200 [00:00<?, ?it/s]/home/ec2-user/anaconda3/envs/pytorch_p310/lib/python3.10/site-packages/torch/optim/lr_scheduler.py:265: UserWarning: To get the last learning rate computed by the scheduler, please use `get_last_lr()`.\n",
      "  warnings.warn(\"To get the last learning rate computed by the scheduler, \"\n"
     ]
    },
    {
     "name": "stdout",
     "output_type": "stream",
     "text": [
      "For epoch 301: \n",
      "{Learning rate: [0.0021273951678847957]}\n"
     ]
    },
    {
     "name": "stderr",
     "output_type": "stream",
     "text": [
      "Train batch number 99: 100%|██████████| 99/99 [00:12<00:00,  7.81batches/s]\n",
      "Test batch number 13: 100%|██████████| 13/13 [00:03<00:00,  3.89batches/s]\n"
     ]
    },
    {
     "name": "stdout",
     "output_type": "stream",
     "text": [
      "\n",
      "Metrics: {'train_loss': 0.007536539225692089, 'test_loss': 2.0039380330305834, 'bleu': 20.6829, 'gen_len': 9.8889}\n",
      "\n",
      "=============================\n",
      "\n"
     ]
    },
    {
     "name": "stderr",
     "output_type": "stream",
     "text": [
      "  0%|          | 1/200 [00:17<58:53, 17.76s/it]"
     ]
    },
    {
     "name": "stdout",
     "output_type": "stream",
     "text": [
      "For epoch 302: \n",
      "{Learning rate: [0.002122092693296765]}\n"
     ]
    },
    {
     "name": "stderr",
     "output_type": "stream",
     "text": [
      "Train batch number 99: 100%|██████████| 99/99 [00:13<00:00,  7.36batches/s]\n",
      "Test batch number 13: 100%|██████████| 13/13 [00:03<00:00,  3.78batches/s]\n"
     ]
    },
    {
     "name": "stdout",
     "output_type": "stream",
     "text": [
      "\n",
      "Metrics: {'train_loss': 0.007210900132177454, 'test_loss': 2.0042612827741184, 'bleu': 21.0306, 'gen_len': 9.9747}\n",
      "\n",
      "=============================\n",
      "\n"
     ]
    },
    {
     "name": "stderr",
     "output_type": "stream",
     "text": [
      "  1%|          | 2/200 [00:36<1:00:21, 18.29s/it]"
     ]
    },
    {
     "name": "stdout",
     "output_type": "stream",
     "text": [
      "For epoch 303: \n",
      "{Learning rate: [0.0021167812288710786]}\n"
     ]
    },
    {
     "name": "stderr",
     "output_type": "stream",
     "text": [
      "Train batch number 99: 100%|██████████| 99/99 [00:13<00:00,  7.60batches/s]\n",
      "Test batch number 13: 100%|██████████| 13/13 [00:03<00:00,  4.00batches/s]\n"
     ]
    },
    {
     "name": "stdout",
     "output_type": "stream",
     "text": [
      "\n",
      "Metrics: {'train_loss': 0.0076292680532052985, 'test_loss': 2.009681591620812, 'bleu': 22.1543, 'gen_len': 9.8434}\n",
      "\n",
      "=============================\n",
      "\n"
     ]
    },
    {
     "name": "stderr",
     "output_type": "stream",
     "text": [
      "  2%|▏         | 3/200 [00:54<59:37, 18.16s/it]  "
     ]
    },
    {
     "name": "stdout",
     "output_type": "stream",
     "text": [
      "For epoch 304: \n",
      "{Learning rate: [0.002111460852828258]}\n"
     ]
    },
    {
     "name": "stderr",
     "output_type": "stream",
     "text": [
      "Train batch number 99: 100%|██████████| 99/99 [00:13<00:00,  7.60batches/s]\n",
      "Test batch number 13: 100%|██████████| 13/13 [00:03<00:00,  3.82batches/s]\n"
     ]
    },
    {
     "name": "stdout",
     "output_type": "stream",
     "text": [
      "\n",
      "Metrics: {'train_loss': 0.007241992557108534, 'test_loss': 2.0060079923042884, 'bleu': 21.7959, 'gen_len': 9.8788}\n",
      "\n",
      "=============================\n",
      "\n"
     ]
    },
    {
     "name": "stderr",
     "output_type": "stream",
     "text": [
      "  2%|▏         | 4/200 [01:12<59:18, 18.16s/it]"
     ]
    },
    {
     "name": "stdout",
     "output_type": "stream",
     "text": [
      "For epoch 305: \n",
      "{Learning rate: [0.002106131643520064]}\n"
     ]
    },
    {
     "name": "stderr",
     "output_type": "stream",
     "text": [
      "Train batch number 99: 100%|██████████| 99/99 [00:12<00:00,  7.72batches/s]\n",
      "Test batch number 13: 100%|██████████| 13/13 [00:03<00:00,  4.10batches/s]\n"
     ]
    },
    {
     "name": "stdout",
     "output_type": "stream",
     "text": [
      "\n",
      "Metrics: {'train_loss': 0.007431866412081596, 'test_loss': 2.0122285164319553, 'bleu': 21.7587, 'gen_len': 9.7576}\n",
      "\n",
      "=============================\n",
      "\n"
     ]
    },
    {
     "name": "stderr",
     "output_type": "stream",
     "text": [
      "  2%|▎         | 5/200 [01:30<58:30, 18.00s/it]"
     ]
    },
    {
     "name": "stdout",
     "output_type": "stream",
     "text": [
      "For epoch 306: \n",
      "{Learning rate: [0.002100793679428342]}\n"
     ]
    },
    {
     "name": "stderr",
     "output_type": "stream",
     "text": [
      "Train batch number 99: 100%|██████████| 99/99 [00:12<00:00,  7.81batches/s]\n",
      "Test batch number 13: 100%|██████████| 13/13 [00:03<00:00,  3.83batches/s]\n"
     ]
    },
    {
     "name": "stdout",
     "output_type": "stream",
     "text": [
      "\n",
      "Metrics: {'train_loss': 0.007013155080259288, 'test_loss': 2.0191355851980357, 'bleu': 21.3609, 'gen_len': 9.8636}\n",
      "\n",
      "=============================\n",
      "\n"
     ]
    },
    {
     "name": "stderr",
     "output_type": "stream",
     "text": [
      "  3%|▎         | 6/200 [01:48<57:59, 17.94s/it]"
     ]
    },
    {
     "name": "stdout",
     "output_type": "stream",
     "text": [
      "For epoch 307: \n",
      "{Learning rate: [0.0020954470391638677]}\n"
     ]
    },
    {
     "name": "stderr",
     "output_type": "stream",
     "text": [
      "Train batch number 99: 100%|██████████| 99/99 [00:12<00:00,  7.72batches/s]\n",
      "Test batch number 13: 100%|██████████| 13/13 [00:03<00:00,  3.89batches/s]\n"
     ]
    },
    {
     "name": "stdout",
     "output_type": "stream",
     "text": [
      "\n",
      "Metrics: {'train_loss': 0.007186870761815402, 'test_loss': 2.0062064024118276, 'bleu': 22.077, 'gen_len': 9.8889}\n",
      "\n",
      "=============================\n",
      "\n"
     ]
    },
    {
     "name": "stderr",
     "output_type": "stream",
     "text": [
      "  4%|▎         | 7/200 [02:06<57:39, 17.93s/it]"
     ]
    },
    {
     "name": "stdout",
     "output_type": "stream",
     "text": [
      "For epoch 308: \n",
      "{Learning rate: [0.002090091801465188]}\n"
     ]
    },
    {
     "name": "stderr",
     "output_type": "stream",
     "text": [
      "Train batch number 99: 100%|██████████| 99/99 [00:12<00:00,  7.73batches/s]\n",
      "Test batch number 13: 100%|██████████| 13/13 [00:03<00:00,  4.04batches/s]\n"
     ]
    },
    {
     "name": "stdout",
     "output_type": "stream",
     "text": [
      "\n",
      "Metrics: {'train_loss': 0.007140009896535746, 'test_loss': 2.0056038269629846, 'bleu': 21.5368, 'gen_len': 9.8889}\n",
      "\n",
      "=============================\n",
      "\n"
     ]
    },
    {
     "name": "stderr",
     "output_type": "stream",
     "text": [
      "  4%|▍         | 8/200 [02:23<57:12, 17.88s/it]"
     ]
    },
    {
     "name": "stdout",
     "output_type": "stream",
     "text": [
      "For epoch 309: \n",
      "{Learning rate: [0.0020847280451974618]}\n"
     ]
    },
    {
     "name": "stderr",
     "output_type": "stream",
     "text": [
      "Train batch number 99: 100%|██████████| 99/99 [00:12<00:00,  7.80batches/s]\n",
      "Test batch number 13: 100%|██████████| 13/13 [00:03<00:00,  4.04batches/s]\n"
     ]
    },
    {
     "name": "stdout",
     "output_type": "stream",
     "text": [
      "\n",
      "Metrics: {'train_loss': 0.007206546065675076, 'test_loss': 2.0138216202075663, 'bleu': 21.7649, 'gen_len': 9.7424}\n",
      "\n",
      "=============================\n",
      "\n"
     ]
    },
    {
     "name": "stderr",
     "output_type": "stream",
     "text": [
      "  4%|▍         | 9/200 [02:41<56:56, 17.89s/it]"
     ]
    },
    {
     "name": "stdout",
     "output_type": "stream",
     "text": [
      "For epoch 310: \n",
      "{Learning rate: [0.002079355849351299]}\n"
     ]
    },
    {
     "name": "stderr",
     "output_type": "stream",
     "text": [
      "Train batch number 99: 100%|██████████| 99/99 [00:12<00:00,  7.67batches/s]\n",
      "Test batch number 13: 100%|██████████| 13/13 [00:03<00:00,  4.01batches/s]\n"
     ]
    },
    {
     "name": "stdout",
     "output_type": "stream",
     "text": [
      "\n",
      "Metrics: {'train_loss': 0.007173834900392897, 'test_loss': 2.0121139012850247, 'bleu': 21.5663, 'gen_len': 9.9697}\n",
      "\n",
      "=============================\n",
      "\n"
     ]
    },
    {
     "name": "stderr",
     "output_type": "stream",
     "text": [
      "  5%|▌         | 10/200 [02:59<56:37, 17.88s/it]"
     ]
    },
    {
     "name": "stdout",
     "output_type": "stream",
     "text": [
      "For epoch 311: \n",
      "{Learning rate: [0.0020739752930415967]}\n"
     ]
    },
    {
     "name": "stderr",
     "output_type": "stream",
     "text": [
      "Train batch number 99: 100%|██████████| 99/99 [00:12<00:00,  7.82batches/s]\n",
      "Test batch number 13: 100%|██████████| 13/13 [00:03<00:00,  4.06batches/s]\n"
     ]
    },
    {
     "name": "stdout",
     "output_type": "stream",
     "text": [
      "\n",
      "Metrics: {'train_loss': 0.007200352186419427, 'test_loss': 2.0079344602731557, 'bleu': 21.1577, 'gen_len': 9.9646}\n",
      "\n",
      "=============================\n",
      "\n"
     ]
    },
    {
     "name": "stderr",
     "output_type": "stream",
     "text": [
      "  6%|▌         | 11/200 [03:17<56:02, 17.79s/it]"
     ]
    },
    {
     "name": "stdout",
     "output_type": "stream",
     "text": [
      "For epoch 312: \n",
      "{Learning rate: [0.0020685864555063742]}\n"
     ]
    },
    {
     "name": "stderr",
     "output_type": "stream",
     "text": [
      "Train batch number 99: 100%|██████████| 99/99 [00:12<00:00,  7.64batches/s]\n",
      "Test batch number 13: 100%|██████████| 13/13 [00:03<00:00,  3.88batches/s]\n"
     ]
    },
    {
     "name": "stdout",
     "output_type": "stream",
     "text": [
      "\n",
      "Metrics: {'train_loss': 0.007343805477086624, 'test_loss': 2.0261682455356302, 'bleu': 22.2277, 'gen_len': 9.9343}\n",
      "\n",
      "=============================\n",
      "\n"
     ]
    },
    {
     "name": "stderr",
     "output_type": "stream",
     "text": [
      "  6%|▌         | 12/200 [03:35<56:00, 17.87s/it]"
     ]
    },
    {
     "name": "stdout",
     "output_type": "stream",
     "text": [
      "For epoch 313: \n",
      "{Learning rate: [0.002063189416105606]}\n"
     ]
    },
    {
     "name": "stderr",
     "output_type": "stream",
     "text": [
      "Train batch number 99: 100%|██████████| 99/99 [00:12<00:00,  7.67batches/s]\n",
      "Test batch number 13: 100%|██████████| 13/13 [00:03<00:00,  3.86batches/s]\n"
     ]
    },
    {
     "name": "stdout",
     "output_type": "stream",
     "text": [
      "\n",
      "Metrics: {'train_loss': 0.006951078532217776, 'test_loss': 2.022374309026278, 'bleu': 22.1941, 'gen_len': 9.8687}\n",
      "\n",
      "=============================\n",
      "\n"
     ]
    },
    {
     "name": "stderr",
     "output_type": "stream",
     "text": [
      "  6%|▋         | 13/200 [03:53<55:51, 17.92s/it]"
     ]
    },
    {
     "name": "stdout",
     "output_type": "stream",
     "text": [
      "For epoch 314: \n",
      "{Learning rate: [0.002057784254320055]}\n"
     ]
    },
    {
     "name": "stderr",
     "output_type": "stream",
     "text": [
      "Train batch number 99: 100%|██████████| 99/99 [00:12<00:00,  7.77batches/s]\n",
      "Test batch number 13: 100%|██████████| 13/13 [00:03<00:00,  3.98batches/s]\n"
     ]
    },
    {
     "name": "stdout",
     "output_type": "stream",
     "text": [
      "\n",
      "Metrics: {'train_loss': 0.007168446810365739, 'test_loss': 2.0245153537163367, 'bleu': 21.7812, 'gen_len': 9.899}\n",
      "\n",
      "=============================\n",
      "\n"
     ]
    },
    {
     "name": "stderr",
     "output_type": "stream",
     "text": [
      "  7%|▋         | 14/200 [04:10<55:22, 17.86s/it]"
     ]
    },
    {
     "name": "stdout",
     "output_type": "stream",
     "text": [
      "For epoch 315: \n",
      "{Learning rate: [0.002052371049750098]}\n"
     ]
    },
    {
     "name": "stderr",
     "output_type": "stream",
     "text": [
      "Train batch number 99: 100%|██████████| 99/99 [00:12<00:00,  7.73batches/s]\n",
      "Test batch number 13: 100%|██████████| 13/13 [00:03<00:00,  4.04batches/s]\n"
     ]
    },
    {
     "name": "stdout",
     "output_type": "stream",
     "text": [
      "\n",
      "Metrics: {'train_loss': 0.007185708756107047, 'test_loss': 2.015374889740577, 'bleu': 21.7519, 'gen_len': 9.8737}\n",
      "\n",
      "=============================\n",
      "\n"
     ]
    },
    {
     "name": "stderr",
     "output_type": "stream",
     "text": [
      "  8%|▊         | 15/200 [04:28<54:58, 17.83s/it]"
     ]
    },
    {
     "name": "stdout",
     "output_type": "stream",
     "text": [
      "For epoch 316: \n",
      "{Learning rate: [0.002046949882114556]}\n"
     ]
    },
    {
     "name": "stderr",
     "output_type": "stream",
     "text": [
      "Train batch number 99: 100%|██████████| 99/99 [00:12<00:00,  7.68batches/s]\n",
      "Test batch number 13: 100%|██████████| 13/13 [00:03<00:00,  3.76batches/s]\n"
     ]
    },
    {
     "name": "stdout",
     "output_type": "stream",
     "text": [
      "\n",
      "Metrics: {'train_loss': 0.006916176762039105, 'test_loss': 2.031818078114436, 'bleu': 22.0288, 'gen_len': 9.8889}\n",
      "\n",
      "=============================\n",
      "\n"
     ]
    },
    {
     "name": "stderr",
     "output_type": "stream",
     "text": [
      "  8%|▊         | 16/200 [04:46<54:54, 17.91s/it]"
     ]
    },
    {
     "name": "stdout",
     "output_type": "stream",
     "text": [
      "For epoch 317: \n",
      "{Learning rate: [0.0020415208312495217]}\n"
     ]
    },
    {
     "name": "stderr",
     "output_type": "stream",
     "text": [
      "Train batch number 99: 100%|██████████| 99/99 [00:12<00:00,  7.80batches/s]\n",
      "Test batch number 13: 100%|██████████| 13/13 [00:03<00:00,  3.81batches/s]\n"
     ]
    },
    {
     "name": "stdout",
     "output_type": "stream",
     "text": [
      "\n",
      "Metrics: {'train_loss': 0.007123850080516246, 'test_loss': 2.0267216517375064, 'bleu': 22.2625, 'gen_len': 9.798}\n",
      "\n",
      "=============================\n",
      "\n"
     ]
    },
    {
     "name": "stderr",
     "output_type": "stream",
     "text": [
      "  8%|▊         | 17/200 [05:04<54:33, 17.89s/it]"
     ]
    },
    {
     "name": "stdout",
     "output_type": "stream",
     "text": [
      "For epoch 318: \n",
      "{Learning rate: [0.0020360839771071814]}\n"
     ]
    },
    {
     "name": "stderr",
     "output_type": "stream",
     "text": [
      "Train batch number 99: 100%|██████████| 99/99 [00:12<00:00,  7.70batches/s]\n",
      "Test batch number 13: 100%|██████████| 13/13 [00:03<00:00,  3.93batches/s]\n"
     ]
    },
    {
     "name": "stdout",
     "output_type": "stream",
     "text": [
      "\n",
      "Metrics: {'train_loss': 0.0069291482490223995, 'test_loss': 2.029353141784668, 'bleu': 22.2396, 'gen_len': 9.7778}\n",
      "\n",
      "=============================\n",
      "\n"
     ]
    },
    {
     "name": "stderr",
     "output_type": "stream",
     "text": [
      "  9%|▉         | 18/200 [05:22<54:15, 17.89s/it]"
     ]
    },
    {
     "name": "stdout",
     "output_type": "stream",
     "text": [
      "For epoch 319: \n",
      "{Learning rate: [0.0020306393997546364]}\n"
     ]
    },
    {
     "name": "stderr",
     "output_type": "stream",
     "text": [
      "Train batch number 99: 100%|██████████| 99/99 [00:12<00:00,  7.68batches/s]\n",
      "Test batch number 13: 100%|██████████| 13/13 [00:03<00:00,  4.02batches/s]\n"
     ]
    },
    {
     "name": "stdout",
     "output_type": "stream",
     "text": [
      "\n",
      "Metrics: {'train_loss': 0.0076864189139068725, 'test_loss': 2.0163422639553366, 'bleu': 22.1776, 'gen_len': 9.9596}\n",
      "\n",
      "=============================\n",
      "\n"
     ]
    },
    {
     "name": "stderr",
     "output_type": "stream",
     "text": [
      " 10%|▉         | 19/200 [05:40<53:55, 17.87s/it]"
     ]
    },
    {
     "name": "stdout",
     "output_type": "stream",
     "text": [
      "For epoch 320: \n",
      "{Learning rate: [0.0020251871793727275]}\n"
     ]
    },
    {
     "name": "stderr",
     "output_type": "stream",
     "text": [
      "Train batch number 99: 100%|██████████| 99/99 [00:13<00:00,  7.56batches/s]\n",
      "Test batch number 13: 100%|██████████| 13/13 [00:03<00:00,  3.87batches/s]\n"
     ]
    },
    {
     "name": "stdout",
     "output_type": "stream",
     "text": [
      "\n",
      "Metrics: {'train_loss': 0.0069880888074450665, 'test_loss': 2.0278460062467136, 'bleu': 21.9922, 'gen_len': 9.8384}\n",
      "\n",
      "=============================\n",
      "\n"
     ]
    },
    {
     "name": "stderr",
     "output_type": "stream",
     "text": [
      " 10%|█         | 20/200 [05:58<53:54, 17.97s/it]"
     ]
    },
    {
     "name": "stdout",
     "output_type": "stream",
     "text": [
      "For epoch 321: \n",
      "{Learning rate: [0.002019727396254852]}\n"
     ]
    },
    {
     "name": "stderr",
     "output_type": "stream",
     "text": [
      "Train batch number 99: 100%|██████████| 99/99 [00:12<00:00,  7.76batches/s]\n",
      "Test batch number 13: 100%|██████████| 13/13 [00:03<00:00,  3.84batches/s]\n"
     ]
    },
    {
     "name": "stdout",
     "output_type": "stream",
     "text": [
      "\n",
      "Metrics: {'train_loss': 0.0072254582646013605, 'test_loss': 2.006068284694965, 'bleu': 22.5998, 'gen_len': 9.7576}\n",
      "\n",
      "=============================\n",
      "\n"
     ]
    },
    {
     "name": "stderr",
     "output_type": "stream",
     "text": [
      " 10%|█         | 21/200 [06:16<53:32, 17.95s/it]"
     ]
    },
    {
     "name": "stdout",
     "output_type": "stream",
     "text": [
      "For epoch 322: \n",
      "{Learning rate: [0.0020142601308057824]}\n"
     ]
    },
    {
     "name": "stderr",
     "output_type": "stream",
     "text": [
      "Train batch number 99: 100%|██████████| 99/99 [00:12<00:00,  7.67batches/s]\n",
      "Test batch number 13: 100%|██████████| 13/13 [00:03<00:00,  3.93batches/s]\n"
     ]
    },
    {
     "name": "stdout",
     "output_type": "stream",
     "text": [
      "\n",
      "Metrics: {'train_loss': 0.006779897082132532, 'test_loss': 2.0173098765886746, 'bleu': 22.0543, 'gen_len': 10.0101}\n",
      "\n",
      "=============================\n",
      "\n"
     ]
    },
    {
     "name": "stderr",
     "output_type": "stream",
     "text": [
      " 11%|█         | 22/200 [06:34<53:14, 17.95s/it]"
     ]
    },
    {
     "name": "stdout",
     "output_type": "stream",
     "text": [
      "For epoch 323: \n",
      "{Learning rate: [0.002008785463540479]}\n"
     ]
    },
    {
     "name": "stderr",
     "output_type": "stream",
     "text": [
      "Train batch number 99: 100%|██████████| 99/99 [00:12<00:00,  7.73batches/s]\n",
      "Test batch number 13: 100%|██████████| 13/13 [00:03<00:00,  3.94batches/s]\n"
     ]
    },
    {
     "name": "stdout",
     "output_type": "stream",
     "text": [
      "\n",
      "Metrics: {'train_loss': 0.0071549595838102205, 'test_loss': 2.0038088101607103, 'bleu': 22.4677, 'gen_len': 9.9545}\n",
      "\n",
      "=============================\n",
      "\n"
     ]
    },
    {
     "name": "stderr",
     "output_type": "stream",
     "text": [
      " 12%|█▏        | 23/200 [06:52<52:50, 17.91s/it]"
     ]
    },
    {
     "name": "stdout",
     "output_type": "stream",
     "text": [
      "For epoch 324: \n",
      "{Learning rate: [0.002003303475082909]}\n"
     ]
    },
    {
     "name": "stderr",
     "output_type": "stream",
     "text": [
      "Train batch number 99: 100%|██████████| 99/99 [00:12<00:00,  7.76batches/s]\n",
      "Test batch number 13: 100%|██████████| 13/13 [00:03<00:00,  3.79batches/s]\n"
     ]
    },
    {
     "name": "stdout",
     "output_type": "stream",
     "text": [
      "\n",
      "Metrics: {'train_loss': 0.0069407964123217765, 'test_loss': 1.991073755117563, 'bleu': 21.6899, 'gen_len': 9.8333}\n",
      "\n",
      "=============================\n",
      "\n"
     ]
    },
    {
     "name": "stderr",
     "output_type": "stream",
     "text": [
      " 12%|█▏        | 24/200 [07:10<52:33, 17.92s/it]"
     ]
    },
    {
     "name": "stdout",
     "output_type": "stream",
     "text": [
      "For epoch 325: \n",
      "{Learning rate: [0.0019978142461648555]}\n"
     ]
    },
    {
     "name": "stderr",
     "output_type": "stream",
     "text": [
      "Train batch number 99: 100%|██████████| 99/99 [00:12<00:00,  7.64batches/s]\n",
      "Test batch number 13: 100%|██████████| 13/13 [00:03<00:00,  3.76batches/s]\n"
     ]
    },
    {
     "name": "stdout",
     "output_type": "stream",
     "text": [
      "\n",
      "Metrics: {'train_loss': 0.007271339295924679, 'test_loss': 2.006700194798983, 'bleu': 21.7095, 'gen_len': 9.8232}\n",
      "\n",
      "=============================\n",
      "\n"
     ]
    },
    {
     "name": "stderr",
     "output_type": "stream",
     "text": [
      " 12%|█▎        | 25/200 [07:28<52:28, 17.99s/it]"
     ]
    },
    {
     "name": "stdout",
     "output_type": "stream",
     "text": [
      "For epoch 326: \n",
      "{Learning rate: [0.0019923178576247316]}\n"
     ]
    },
    {
     "name": "stderr",
     "output_type": "stream",
     "text": [
      "Train batch number 99: 100%|██████████| 99/99 [00:12<00:00,  7.68batches/s]\n",
      "Test batch number 13: 100%|██████████| 13/13 [00:03<00:00,  3.80batches/s]\n"
     ]
    },
    {
     "name": "stdout",
     "output_type": "stream",
     "text": [
      "\n",
      "Metrics: {'train_loss': 0.007079982172022809, 'test_loss': 1.997272775723384, 'bleu': 22.4179, 'gen_len': 9.8232}\n",
      "\n",
      "=============================\n",
      "\n"
     ]
    },
    {
     "name": "stderr",
     "output_type": "stream",
     "text": [
      " 13%|█▎        | 26/200 [07:46<52:16, 18.03s/it]"
     ]
    },
    {
     "name": "stdout",
     "output_type": "stream",
     "text": [
      "For epoch 327: \n",
      "{Learning rate: [0.001986814390406387]}\n"
     ]
    },
    {
     "name": "stderr",
     "output_type": "stream",
     "text": [
      "Train batch number 99: 100%|██████████| 99/99 [00:12<00:00,  7.63batches/s]\n",
      "Test batch number 13: 100%|██████████| 13/13 [00:03<00:00,  3.85batches/s]\n"
     ]
    },
    {
     "name": "stdout",
     "output_type": "stream",
     "text": [
      "\n",
      "Metrics: {'train_loss': 0.007287643616872068, 'test_loss': 1.9873402210382314, 'bleu': 21.9705, 'gen_len': 9.7424}\n",
      "\n",
      "=============================\n",
      "\n"
     ]
    },
    {
     "name": "stderr",
     "output_type": "stream",
     "text": [
      " 14%|█▎        | 27/200 [08:04<52:02, 18.05s/it]"
     ]
    },
    {
     "name": "stdout",
     "output_type": "stream",
     "text": [
      "For epoch 328: \n",
      "{Learning rate: [0.0019813039255579157]}\n"
     ]
    },
    {
     "name": "stderr",
     "output_type": "stream",
     "text": [
      "Train batch number 99: 100%|██████████| 99/99 [00:12<00:00,  7.63batches/s]\n",
      "Test batch number 13: 100%|██████████| 13/13 [00:03<00:00,  3.97batches/s]\n"
     ]
    },
    {
     "name": "stdout",
     "output_type": "stream",
     "text": [
      "\n",
      "Metrics: {'train_loss': 0.00685302275094801, 'test_loss': 1.9953919098927424, 'bleu': 22.1584, 'gen_len': 9.798}\n",
      "\n",
      "=============================\n",
      "\n"
     ]
    },
    {
     "name": "stderr",
     "output_type": "stream",
     "text": [
      " 14%|█▍        | 28/200 [08:22<51:40, 18.03s/it]"
     ]
    },
    {
     "name": "stdout",
     "output_type": "stream",
     "text": [
      "For epoch 329: \n",
      "{Learning rate: [0.0019757865442304678]}\n"
     ]
    },
    {
     "name": "stderr",
     "output_type": "stream",
     "text": [
      "Train batch number 99: 100%|██████████| 99/99 [00:12<00:00,  7.70batches/s]\n",
      "Test batch number 13: 100%|██████████| 13/13 [00:03<00:00,  3.98batches/s]\n"
     ]
    },
    {
     "name": "stdout",
     "output_type": "stream",
     "text": [
      "\n",
      "Metrics: {'train_loss': 0.007437299997275319, 'test_loss': 1.9738793831605177, 'bleu': 22.5266, 'gen_len': 9.7172}\n",
      "\n",
      "=============================\n",
      "\n"
     ]
    },
    {
     "name": "stderr",
     "output_type": "stream",
     "text": [
      " 14%|█▍        | 29/200 [08:40<51:13, 17.97s/it]"
     ]
    },
    {
     "name": "stdout",
     "output_type": "stream",
     "text": [
      "For epoch 330: \n",
      "{Learning rate: [0.0019702623276770474]}\n"
     ]
    },
    {
     "name": "stderr",
     "output_type": "stream",
     "text": [
      "Train batch number 99: 100%|██████████| 99/99 [00:12<00:00,  7.67batches/s]\n",
      "Test batch number 13: 100%|██████████| 13/13 [00:03<00:00,  3.81batches/s]\n"
     ]
    },
    {
     "name": "stdout",
     "output_type": "stream",
     "text": [
      "\n",
      "Metrics: {'train_loss': 0.006912554134179678, 'test_loss': 1.9962033858666053, 'bleu': 22.1039, 'gen_len': 9.8737}\n",
      "\n",
      "=============================\n",
      "\n"
     ]
    },
    {
     "name": "stderr",
     "output_type": "stream",
     "text": [
      " 15%|█▌        | 30/200 [08:58<50:59, 18.00s/it]"
     ]
    },
    {
     "name": "stdout",
     "output_type": "stream",
     "text": [
      "For epoch 331: \n",
      "{Learning rate: [0.00196473135725132]}\n"
     ]
    },
    {
     "name": "stderr",
     "output_type": "stream",
     "text": [
      "Train batch number 99: 100%|██████████| 99/99 [00:12<00:00,  7.76batches/s]\n",
      "Test batch number 13: 100%|██████████| 13/13 [00:03<00:00,  3.89batches/s]\n"
     ]
    },
    {
     "name": "stdout",
     "output_type": "stream",
     "text": [
      "\n",
      "Metrics: {'train_loss': 0.006922840915980156, 'test_loss': 2.008651540829585, 'bleu': 21.9979, 'gen_len': 9.8485}\n",
      "\n",
      "=============================\n",
      "\n"
     ]
    },
    {
     "name": "stderr",
     "output_type": "stream",
     "text": [
      " 16%|█▌        | 31/200 [09:16<50:33, 17.95s/it]"
     ]
    },
    {
     "name": "stdout",
     "output_type": "stream",
     "text": [
      "For epoch 332: \n",
      "{Learning rate: [0.0019591937144064135]}\n"
     ]
    },
    {
     "name": "stderr",
     "output_type": "stream",
     "text": [
      "Train batch number 99: 100%|██████████| 99/99 [00:12<00:00,  7.69batches/s]\n",
      "Test batch number 13: 100%|██████████| 13/13 [00:03<00:00,  3.85batches/s]\n"
     ]
    },
    {
     "name": "stdout",
     "output_type": "stream",
     "text": [
      "\n",
      "Metrics: {'train_loss': 0.006929518458565151, 'test_loss': 2.016693353652954, 'bleu': 21.4281, 'gen_len': 9.6566}\n",
      "\n",
      "=============================\n",
      "\n"
     ]
    },
    {
     "name": "stderr",
     "output_type": "stream",
     "text": [
      " 16%|█▌        | 32/200 [09:34<50:17, 17.96s/it]"
     ]
    },
    {
     "name": "stdout",
     "output_type": "stream",
     "text": [
      "For epoch 333: \n",
      "{Learning rate: [0.0019536494806937196]}\n"
     ]
    },
    {
     "name": "stderr",
     "output_type": "stream",
     "text": [
      "Train batch number 99: 100%|██████████| 99/99 [00:13<00:00,  7.54batches/s]\n",
      "Test batch number 13: 100%|██████████| 13/13 [00:03<00:00,  3.83batches/s]\n"
     ]
    },
    {
     "name": "stdout",
     "output_type": "stream",
     "text": [
      "\n",
      "Metrics: {'train_loss': 0.0068868724563137885, 'test_loss': 1.9879371844805205, 'bleu': 21.5799, 'gen_len': 9.8838}\n",
      "\n",
      "=============================\n",
      "\n"
     ]
    },
    {
     "name": "stderr",
     "output_type": "stream",
     "text": [
      " 16%|█▋        | 33/200 [09:52<50:15, 18.06s/it]"
     ]
    },
    {
     "name": "stdout",
     "output_type": "stream",
     "text": [
      "For epoch 334: \n",
      "{Learning rate: [0.0019480987377616908]}\n"
     ]
    },
    {
     "name": "stderr",
     "output_type": "stream",
     "text": [
      "Train batch number 99: 100%|██████████| 99/99 [00:13<00:00,  7.52batches/s]\n",
      "Test batch number 13: 100%|██████████| 13/13 [00:03<00:00,  4.00batches/s]\n"
     ]
    },
    {
     "name": "stdout",
     "output_type": "stream",
     "text": [
      "\n",
      "Metrics: {'train_loss': 0.00695930826483586, 'test_loss': 2.0070640857403097, 'bleu': 21.3786, 'gen_len': 9.7626}\n",
      "\n",
      "=============================\n",
      "\n"
     ]
    },
    {
     "name": "stderr",
     "output_type": "stream",
     "text": [
      " 17%|█▋        | 34/200 [10:10<50:02, 18.09s/it]"
     ]
    },
    {
     "name": "stdout",
     "output_type": "stream",
     "text": [
      "For epoch 335: \n",
      "{Learning rate: [0.00194254156735464]}\n"
     ]
    },
    {
     "name": "stderr",
     "output_type": "stream",
     "text": [
      "Train batch number 99: 100%|██████████| 99/99 [00:13<00:00,  7.57batches/s]\n",
      "Test batch number 13: 100%|██████████| 13/13 [00:03<00:00,  4.04batches/s]\n"
     ]
    },
    {
     "name": "stdout",
     "output_type": "stream",
     "text": [
      "\n",
      "Metrics: {'train_loss': 0.006920597536578737, 'test_loss': 2.0191893119078417, 'bleu': 21.1789, 'gen_len': 9.6818}\n",
      "\n",
      "=============================\n",
      "\n"
     ]
    },
    {
     "name": "stderr",
     "output_type": "stream",
     "text": [
      " 18%|█▊        | 35/200 [10:28<49:41, 18.07s/it]"
     ]
    },
    {
     "name": "stdout",
     "output_type": "stream",
     "text": [
      "For epoch 336: \n",
      "{Learning rate: [0.0019369780513115349]}\n"
     ]
    },
    {
     "name": "stderr",
     "output_type": "stream",
     "text": [
      "Train batch number 99: 100%|██████████| 99/99 [00:12<00:00,  7.69batches/s]\n",
      "Test batch number 13: 100%|██████████| 13/13 [00:03<00:00,  3.76batches/s]\n"
     ]
    },
    {
     "name": "stdout",
     "output_type": "stream",
     "text": [
      "\n",
      "Metrics: {'train_loss': 0.006950282909192446, 'test_loss': 2.0119805060900173, 'bleu': 21.2263, 'gen_len': 9.7778}\n",
      "\n",
      "=============================\n",
      "\n"
     ]
    },
    {
     "name": "stderr",
     "output_type": "stream",
     "text": [
      " 18%|█▊        | 36/200 [10:46<49:22, 18.07s/it]"
     ]
    },
    {
     "name": "stdout",
     "output_type": "stream",
     "text": [
      "For epoch 337: \n",
      "{Learning rate: [0.0019314082715647949]}\n"
     ]
    },
    {
     "name": "stderr",
     "output_type": "stream",
     "text": [
      "Train batch number 99: 100%|██████████| 99/99 [00:12<00:00,  7.66batches/s]\n",
      "Test batch number 13: 100%|██████████| 13/13 [00:03<00:00,  3.93batches/s]\n"
     ]
    },
    {
     "name": "stdout",
     "output_type": "stream",
     "text": [
      "\n",
      "Metrics: {'train_loss': 0.0068594328746037336, 'test_loss': 2.0143665625498843, 'bleu': 21.2675, 'gen_len': 9.7525}\n",
      "\n",
      "=============================\n",
      "\n"
     ]
    },
    {
     "name": "stderr",
     "output_type": "stream",
     "text": [
      " 18%|█▊        | 37/200 [11:04<48:59, 18.04s/it]"
     ]
    },
    {
     "name": "stdout",
     "output_type": "stream",
     "text": [
      "For epoch 338: \n",
      "{Learning rate: [0.0019258323101390819]}\n"
     ]
    },
    {
     "name": "stderr",
     "output_type": "stream",
     "text": [
      "Train batch number 99: 100%|██████████| 99/99 [00:13<00:00,  7.60batches/s]\n",
      "Test batch number 13: 100%|██████████| 13/13 [00:03<00:00,  3.83batches/s]\n"
     ]
    },
    {
     "name": "stdout",
     "output_type": "stream",
     "text": [
      "\n",
      "Metrics: {'train_loss': 0.006718392712751996, 'test_loss': 2.0108830011807957, 'bleu': 21.1499, 'gen_len': 9.7828}\n",
      "\n",
      "=============================\n",
      "\n"
     ]
    },
    {
     "name": "stderr",
     "output_type": "stream",
     "text": [
      " 19%|█▉        | 38/200 [11:24<50:13, 18.60s/it]"
     ]
    },
    {
     "name": "stdout",
     "output_type": "stream",
     "text": [
      "For epoch 339: \n",
      "{Learning rate: [0.0019202502491500947]}\n"
     ]
    },
    {
     "name": "stderr",
     "output_type": "stream",
     "text": [
      "Train batch number 99: 100%|██████████| 99/99 [00:13<00:00,  7.58batches/s]\n",
      "Test batch number 13: 100%|██████████| 13/13 [00:03<00:00,  4.01batches/s]\n"
     ]
    },
    {
     "name": "stdout",
     "output_type": "stream",
     "text": [
      "\n",
      "Metrics: {'train_loss': 0.006777547538425124, 'test_loss': 2.013648344920232, 'bleu': 21.1148, 'gen_len': 9.7626}\n",
      "\n",
      "=============================\n",
      "\n"
     ]
    },
    {
     "name": "stderr",
     "output_type": "stream",
     "text": [
      " 20%|█▉        | 39/200 [11:42<49:27, 18.43s/it]"
     ]
    },
    {
     "name": "stdout",
     "output_type": "stream",
     "text": [
      "For epoch 340: \n",
      "{Learning rate: [0.0019146621708033592]}\n"
     ]
    },
    {
     "name": "stderr",
     "output_type": "stream",
     "text": [
      "Train batch number 99: 100%|██████████| 99/99 [00:12<00:00,  7.76batches/s]\n",
      "Test batch number 13: 100%|██████████| 13/13 [00:03<00:00,  3.94batches/s]\n"
     ]
    },
    {
     "name": "stdout",
     "output_type": "stream",
     "text": [
      "\n",
      "Metrics: {'train_loss': 0.007142120933470626, 'test_loss': 2.0040089717278113, 'bleu': 21.2471, 'gen_len': 9.8333}\n",
      "\n",
      "=============================\n",
      "\n"
     ]
    },
    {
     "name": "stderr",
     "output_type": "stream",
     "text": [
      " 20%|██        | 40/200 [12:00<48:39, 18.25s/it]"
     ]
    },
    {
     "name": "stdout",
     "output_type": "stream",
     "text": [
      "For epoch 341: \n",
      "{Learning rate: [0.0019090681573930152]}\n"
     ]
    },
    {
     "name": "stderr",
     "output_type": "stream",
     "text": [
      "Train batch number 99: 100%|██████████| 99/99 [00:13<00:00,  7.54batches/s]\n",
      "Test batch number 13: 100%|██████████| 13/13 [00:03<00:00,  3.78batches/s]\n"
     ]
    },
    {
     "name": "stdout",
     "output_type": "stream",
     "text": [
      "\n",
      "Metrics: {'train_loss': 0.007598681749324455, 'test_loss': 1.9961168215825007, 'bleu': 21.0775, 'gen_len': 10.0}\n",
      "\n",
      "=============================\n",
      "\n"
     ]
    },
    {
     "name": "stderr",
     "output_type": "stream",
     "text": [
      " 20%|██        | 41/200 [12:18<48:24, 18.27s/it]"
     ]
    },
    {
     "name": "stdout",
     "output_type": "stream",
     "text": [
      "For epoch 342: \n",
      "{Learning rate: [0.001903468291300609]}\n"
     ]
    },
    {
     "name": "stderr",
     "output_type": "stream",
     "text": [
      "Train batch number 99: 100%|██████████| 99/99 [00:13<00:00,  7.58batches/s]\n",
      "Test batch number 13: 100%|██████████| 13/13 [00:03<00:00,  4.01batches/s]\n"
     ]
    },
    {
     "name": "stdout",
     "output_type": "stream",
     "text": [
      "\n",
      "Metrics: {'train_loss': 0.006932446693136084, 'test_loss': 2.0141858412669253, 'bleu': 21.7604, 'gen_len': 9.8232}\n",
      "\n",
      "=============================\n",
      "\n"
     ]
    },
    {
     "name": "stderr",
     "output_type": "stream",
     "text": [
      " 21%|██        | 42/200 [12:36<47:54, 18.20s/it]"
     ]
    },
    {
     "name": "stdout",
     "output_type": "stream",
     "text": [
      "For epoch 343: \n",
      "{Learning rate: [0.0018978626549938772]}\n"
     ]
    },
    {
     "name": "stderr",
     "output_type": "stream",
     "text": [
      "Train batch number 99: 100%|██████████| 99/99 [00:13<00:00,  7.58batches/s]\n",
      "Test batch number 13: 100%|██████████| 13/13 [00:03<00:00,  3.84batches/s]\n"
     ]
    },
    {
     "name": "stdout",
     "output_type": "stream",
     "text": [
      "\n",
      "Metrics: {'train_loss': 0.007043594888392648, 'test_loss': 2.010596568767841, 'bleu': 21.7479, 'gen_len': 9.8939}\n",
      "\n",
      "=============================\n",
      "\n"
     ]
    },
    {
     "name": "stderr",
     "output_type": "stream",
     "text": [
      " 22%|██▏       | 43/200 [12:55<47:36, 18.20s/it]"
     ]
    },
    {
     "name": "stdout",
     "output_type": "stream",
     "text": [
      "For epoch 344: \n",
      "{Learning rate: [0.0018922513310255318]}\n"
     ]
    },
    {
     "name": "stderr",
     "output_type": "stream",
     "text": [
      "Train batch number 99: 100%|██████████| 99/99 [00:12<00:00,  7.69batches/s]\n",
      "Test batch number 13: 100%|██████████| 13/13 [00:03<00:00,  3.85batches/s]\n"
     ]
    },
    {
     "name": "stdout",
     "output_type": "stream",
     "text": [
      "\n",
      "Metrics: {'train_loss': 0.00700194533882578, 'test_loss': 2.0114788917394786, 'bleu': 21.7182, 'gen_len': 9.9747}\n",
      "\n",
      "=============================\n",
      "\n"
     ]
    },
    {
     "name": "stderr",
     "output_type": "stream",
     "text": [
      " 22%|██▏       | 44/200 [13:13<47:08, 18.13s/it]"
     ]
    },
    {
     "name": "stdout",
     "output_type": "stream",
     "text": [
      "For epoch 345: \n",
      "{Learning rate: [0.001886634402032046]}\n"
     ]
    },
    {
     "name": "stderr",
     "output_type": "stream",
     "text": [
      "Train batch number 99: 100%|██████████| 99/99 [00:13<00:00,  7.60batches/s]\n",
      "Test batch number 13: 100%|██████████| 13/13 [00:03<00:00,  3.84batches/s]\n"
     ]
    },
    {
     "name": "stdout",
     "output_type": "stream",
     "text": [
      "\n",
      "Metrics: {'train_loss': 0.006887864749208375, 'test_loss': 2.017829473202045, 'bleu': 21.1916, 'gen_len': 10.0253}\n",
      "\n",
      "=============================\n",
      "\n"
     ]
    },
    {
     "name": "stderr",
     "output_type": "stream",
     "text": [
      " 22%|██▎       | 45/200 [13:31<46:51, 18.14s/it]"
     ]
    },
    {
     "name": "stdout",
     "output_type": "stream",
     "text": [
      "For epoch 346: \n",
      "{Learning rate: [0.001881011950732437]}\n"
     ]
    },
    {
     "name": "stderr",
     "output_type": "stream",
     "text": [
      "Train batch number 99: 100%|██████████| 99/99 [00:12<00:00,  7.63batches/s]\n",
      "Test batch number 13: 100%|██████████| 13/13 [00:03<00:00,  3.79batches/s]\n"
     ]
    },
    {
     "name": "stdout",
     "output_type": "stream",
     "text": [
      "\n",
      "Metrics: {'train_loss': 0.006784489587351511, 'test_loss': 2.006655656374418, 'bleu': 22.3777, 'gen_len': 10.1061}\n",
      "\n",
      "=============================\n",
      "\n"
     ]
    },
    {
     "name": "stderr",
     "output_type": "stream",
     "text": [
      " 23%|██▎       | 46/200 [13:49<46:34, 18.15s/it]"
     ]
    },
    {
     "name": "stdout",
     "output_type": "stream",
     "text": [
      "For epoch 347: \n",
      "{Learning rate: [0.0018753840599270472]}\n"
     ]
    },
    {
     "name": "stderr",
     "output_type": "stream",
     "text": [
      "Train batch number 99: 100%|██████████| 99/99 [00:12<00:00,  7.64batches/s]\n",
      "Test batch number 13: 100%|██████████| 13/13 [00:03<00:00,  4.08batches/s]\n"
     ]
    },
    {
     "name": "stdout",
     "output_type": "stream",
     "text": [
      "\n",
      "Metrics: {'train_loss': 0.007010325580874148, 'test_loss': 2.009849493320172, 'bleu': 22.0446, 'gen_len': 9.7121}\n",
      "\n",
      "=============================\n",
      "\n"
     ]
    },
    {
     "name": "stderr",
     "output_type": "stream",
     "text": [
      " 24%|██▎       | 47/200 [14:07<46:04, 18.07s/it]"
     ]
    },
    {
     "name": "stdout",
     "output_type": "stream",
     "text": [
      "For epoch 348: \n",
      "{Learning rate: [0.0018697508124963257]}\n"
     ]
    },
    {
     "name": "stderr",
     "output_type": "stream",
     "text": [
      "Train batch number 99: 100%|██████████| 99/99 [00:12<00:00,  7.76batches/s]\n",
      "Test batch number 13: 100%|██████████| 13/13 [00:03<00:00,  4.05batches/s]\n"
     ]
    },
    {
     "name": "stdout",
     "output_type": "stream",
     "text": [
      "\n",
      "Metrics: {'train_loss': 0.007215693229374316, 'test_loss': 2.005001765031081, 'bleu': 21.6892, 'gen_len': 9.7323}\n",
      "\n",
      "=============================\n",
      "\n"
     ]
    },
    {
     "name": "stderr",
     "output_type": "stream",
     "text": [
      " 24%|██▍       | 48/200 [14:24<45:29, 17.96s/it]"
     ]
    },
    {
     "name": "stdout",
     "output_type": "stream",
     "text": [
      "For epoch 349: \n",
      "{Learning rate: [0.0018641122913996065]}\n"
     ]
    },
    {
     "name": "stderr",
     "output_type": "stream",
     "text": [
      "Train batch number 99: 100%|██████████| 99/99 [00:12<00:00,  7.68batches/s]\n",
      "Test batch number 13: 100%|██████████| 13/13 [00:03<00:00,  4.04batches/s]\n"
     ]
    },
    {
     "name": "stdout",
     "output_type": "stream",
     "text": [
      "\n",
      "Metrics: {'train_loss': 0.006992506788310952, 'test_loss': 2.0050943539692807, 'bleu': 21.6851, 'gen_len': 9.7374}\n",
      "\n",
      "=============================\n",
      "\n"
     ]
    },
    {
     "name": "stderr",
     "output_type": "stream",
     "text": [
      " 24%|██▍       | 49/200 [14:42<45:06, 17.92s/it]"
     ]
    },
    {
     "name": "stdout",
     "output_type": "stream",
     "text": [
      "For epoch 350: \n",
      "{Learning rate: [0.0018584685796738877]}\n"
     ]
    },
    {
     "name": "stderr",
     "output_type": "stream",
     "text": [
      "Train batch number 99: 100%|██████████| 99/99 [00:12<00:00,  7.76batches/s]\n",
      "Test batch number 13: 100%|██████████| 13/13 [00:03<00:00,  3.89batches/s]\n"
     ]
    },
    {
     "name": "stdout",
     "output_type": "stream",
     "text": [
      "\n",
      "Metrics: {'train_loss': 0.007090453362748535, 'test_loss': 2.0060881559665384, 'bleu': 21.5385, 'gen_len': 9.7475}\n",
      "\n",
      "=============================\n",
      "\n"
     ]
    },
    {
     "name": "stderr",
     "output_type": "stream",
     "text": [
      " 25%|██▌       | 50/200 [15:00<44:44, 17.89s/it]"
     ]
    },
    {
     "name": "stdout",
     "output_type": "stream",
     "text": [
      "For epoch 351: \n",
      "{Learning rate: [0.0018528197604326094]}\n"
     ]
    },
    {
     "name": "stderr",
     "output_type": "stream",
     "text": [
      "Train batch number 99: 100%|██████████| 99/99 [00:12<00:00,  7.65batches/s]\n",
      "Test batch number 13: 100%|██████████| 13/13 [00:03<00:00,  4.08batches/s]\n"
     ]
    },
    {
     "name": "stdout",
     "output_type": "stream",
     "text": [
      "\n",
      "Metrics: {'train_loss': 0.006923816138890224, 'test_loss': 2.017708099805392, 'bleu': 22.1101, 'gen_len': 9.6414}\n",
      "\n",
      "=============================\n",
      "\n"
     ]
    },
    {
     "name": "stderr",
     "output_type": "stream",
     "text": [
      " 26%|██▌       | 51/200 [15:18<44:24, 17.88s/it]"
     ]
    },
    {
     "name": "stdout",
     "output_type": "stream",
     "text": [
      "For epoch 352: \n",
      "{Learning rate: [0.0018471659168644262]}\n"
     ]
    },
    {
     "name": "stderr",
     "output_type": "stream",
     "text": [
      "Train batch number 99: 100%|██████████| 99/99 [00:13<00:00,  7.29batches/s]\n",
      "Test batch number 13: 100%|██████████| 13/13 [00:03<00:00,  3.92batches/s]\n"
     ]
    },
    {
     "name": "stdout",
     "output_type": "stream",
     "text": [
      "\n",
      "Metrics: {'train_loss': 0.007189167769434109, 'test_loss': 2.035965919494629, 'bleu': 21.9109, 'gen_len': 9.6313}\n",
      "\n",
      "=============================\n",
      "\n"
     ]
    },
    {
     "name": "stderr",
     "output_type": "stream",
     "text": [
      " 26%|██▌       | 52/200 [15:37<44:40, 18.11s/it]"
     ]
    },
    {
     "name": "stdout",
     "output_type": "stream",
     "text": [
      "For epoch 353: \n",
      "{Learning rate: [0.0018415071322319871]}\n"
     ]
    },
    {
     "name": "stderr",
     "output_type": "stream",
     "text": [
      "Train batch number 99: 100%|██████████| 99/99 [00:12<00:00,  7.70batches/s]\n",
      "Test batch number 13: 100%|██████████| 13/13 [00:03<00:00,  4.03batches/s]\n"
     ]
    },
    {
     "name": "stdout",
     "output_type": "stream",
     "text": [
      "\n",
      "Metrics: {'train_loss': 0.007109628867997666, 'test_loss': 2.002343021906339, 'bleu': 22.2201, 'gen_len': 9.8889}\n",
      "\n",
      "=============================\n",
      "\n"
     ]
    },
    {
     "name": "stderr",
     "output_type": "stream",
     "text": [
      " 26%|██▋       | 53/200 [15:54<44:09, 18.02s/it]"
     ]
    },
    {
     "name": "stdout",
     "output_type": "stream",
     "text": [
      "For epoch 354: \n",
      "{Learning rate: [0.001835843489870706]}\n"
     ]
    },
    {
     "name": "stderr",
     "output_type": "stream",
     "text": [
      "Train batch number 99: 100%|██████████| 99/99 [00:12<00:00,  7.73batches/s]\n",
      "Test batch number 13: 100%|██████████| 13/13 [00:03<00:00,  3.87batches/s]\n"
     ]
    },
    {
     "name": "stdout",
     "output_type": "stream",
     "text": [
      "\n",
      "Metrics: {'train_loss': 0.0068532784495589725, 'test_loss': 2.0203723173875074, 'bleu': 22.0895, 'gen_len': 9.8889}\n",
      "\n",
      "=============================\n",
      "\n"
     ]
    },
    {
     "name": "stderr",
     "output_type": "stream",
     "text": [
      " 27%|██▋       | 54/200 [16:12<43:46, 17.99s/it]"
     ]
    },
    {
     "name": "stdout",
     "output_type": "stream",
     "text": [
      "For epoch 355: \n",
      "{Learning rate: [0.001830175073187535]}\n"
     ]
    },
    {
     "name": "stderr",
     "output_type": "stream",
     "text": [
      "Train batch number 99: 100%|██████████| 99/99 [00:13<00:00,  7.55batches/s]\n",
      "Test batch number 13: 100%|██████████| 13/13 [00:03<00:00,  3.86batches/s]\n"
     ]
    },
    {
     "name": "stdout",
     "output_type": "stream",
     "text": [
      "\n",
      "Metrics: {'train_loss': 0.00701273928970837, 'test_loss': 1.9992610674638014, 'bleu': 21.9459, 'gen_len': 9.7879}\n",
      "\n",
      "=============================\n",
      "\n"
     ]
    },
    {
     "name": "stderr",
     "output_type": "stream",
     "text": [
      " 28%|██▊       | 55/200 [16:31<43:38, 18.06s/it]"
     ]
    },
    {
     "name": "stdout",
     "output_type": "stream",
     "text": [
      "For epoch 356: \n",
      "{Learning rate: [0.0018245019656597371]}\n"
     ]
    },
    {
     "name": "stderr",
     "output_type": "stream",
     "text": [
      "Train batch number 99: 100%|██████████| 99/99 [00:12<00:00,  7.73batches/s]\n",
      "Test batch number 13: 100%|██████████| 13/13 [00:03<00:00,  3.95batches/s]\n"
     ]
    },
    {
     "name": "stdout",
     "output_type": "stream",
     "text": [
      "\n",
      "Metrics: {'train_loss': 0.006835137033832701, 'test_loss': 2.004238321230962, 'bleu': 22.1929, 'gen_len': 9.798}\n",
      "\n",
      "=============================\n",
      "\n"
     ]
    },
    {
     "name": "stderr",
     "output_type": "stream",
     "text": [
      " 28%|██▊       | 56/200 [16:48<43:11, 18.00s/it]"
     ]
    },
    {
     "name": "stdout",
     "output_type": "stream",
     "text": [
      "For epoch 357: \n",
      "{Learning rate: [0.0018188242508336552]}\n"
     ]
    },
    {
     "name": "stderr",
     "output_type": "stream",
     "text": [
      "Train batch number 99: 100%|██████████| 99/99 [00:12<00:00,  7.72batches/s]\n",
      "Test batch number 13: 100%|██████████| 13/13 [00:03<00:00,  4.01batches/s]\n"
     ]
    },
    {
     "name": "stdout",
     "output_type": "stream",
     "text": [
      "\n",
      "Metrics: {'train_loss': 0.007080584784471101, 'test_loss': 2.0321242259098935, 'bleu': 21.4995, 'gen_len': 9.6667}\n",
      "\n",
      "=============================\n",
      "\n"
     ]
    },
    {
     "name": "stderr",
     "output_type": "stream",
     "text": [
      " 28%|██▊       | 57/200 [17:06<42:44, 17.94s/it]"
     ]
    },
    {
     "name": "stdout",
     "output_type": "stream",
     "text": [
      "For epoch 358: \n",
      "{Learning rate: [0.001813142012323483]}\n"
     ]
    },
    {
     "name": "stderr",
     "output_type": "stream",
     "text": [
      "Train batch number 99: 100%|██████████| 99/99 [00:13<00:00,  7.53batches/s]\n",
      "Test batch number 13: 100%|██████████| 13/13 [00:03<00:00,  3.88batches/s]\n"
     ]
    },
    {
     "name": "stdout",
     "output_type": "stream",
     "text": [
      "\n",
      "Metrics: {'train_loss': 0.00710297257650051, 'test_loss': 2.0006354588728685, 'bleu': 22.7052, 'gen_len': 9.8333}\n",
      "\n",
      "=============================\n",
      "\n"
     ]
    },
    {
     "name": "stderr",
     "output_type": "stream",
     "text": [
      " 29%|██▉       | 58/200 [17:24<42:40, 18.03s/it]"
     ]
    },
    {
     "name": "stdout",
     "output_type": "stream",
     "text": [
      "For epoch 359: \n",
      "{Learning rate: [0.0018074553338100333]}\n"
     ]
    },
    {
     "name": "stderr",
     "output_type": "stream",
     "text": [
      "Train batch number 99: 100%|██████████| 99/99 [00:12<00:00,  7.76batches/s]\n",
      "Test batch number 13: 100%|██████████| 13/13 [00:03<00:00,  4.02batches/s]\n"
     ]
    },
    {
     "name": "stdout",
     "output_type": "stream",
     "text": [
      "\n",
      "Metrics: {'train_loss': 0.007210490584839135, 'test_loss': 2.0085158348083496, 'bleu': 21.628, 'gen_len': 9.8788}\n",
      "\n",
      "=============================\n",
      "\n"
     ]
    },
    {
     "name": "stderr",
     "output_type": "stream",
     "text": [
      " 30%|██▉       | 59/200 [17:42<42:08, 17.94s/it]"
     ]
    },
    {
     "name": "stdout",
     "output_type": "stream",
     "text": [
      "For epoch 360: \n",
      "{Learning rate: [0.001801764299039506]}\n"
     ]
    },
    {
     "name": "stderr",
     "output_type": "stream",
     "text": [
      "Train batch number 99: 100%|██████████| 99/99 [00:12<00:00,  7.77batches/s]\n",
      "Test batch number 13: 100%|██████████| 13/13 [00:03<00:00,  4.03batches/s]\n"
     ]
    },
    {
     "name": "stdout",
     "output_type": "stream",
     "text": [
      "\n",
      "Metrics: {'train_loss': 0.007212477575369048, 'test_loss': 2.0098316486065206, 'bleu': 21.8643, 'gen_len': 9.8131}\n",
      "\n",
      "=============================\n",
      "\n"
     ]
    },
    {
     "name": "stderr",
     "output_type": "stream",
     "text": [
      " 30%|███       | 60/200 [18:00<41:41, 17.87s/it]"
     ]
    },
    {
     "name": "stdout",
     "output_type": "stream",
     "text": [
      "For epoch 361: \n",
      "{Learning rate: [0.0017960689918222544]}\n"
     ]
    },
    {
     "name": "stderr",
     "output_type": "stream",
     "text": [
      "Train batch number 99: 100%|██████████| 99/99 [00:12<00:00,  7.71batches/s]\n",
      "Test batch number 13: 100%|██████████| 13/13 [00:03<00:00,  3.97batches/s]\n"
     ]
    },
    {
     "name": "stdout",
     "output_type": "stream",
     "text": [
      "\n",
      "Metrics: {'train_loss': 0.006745103253357376, 'test_loss': 2.0146098412000217, 'bleu': 21.2897, 'gen_len': 9.6515}\n",
      "\n",
      "=============================\n",
      "\n"
     ]
    },
    {
     "name": "stderr",
     "output_type": "stream",
     "text": [
      " 30%|███       | 61/200 [18:18<41:23, 17.86s/it]"
     ]
    },
    {
     "name": "stdout",
     "output_type": "stream",
     "text": [
      "For epoch 362: \n",
      "{Learning rate: [0.0017903694960315505]}\n"
     ]
    },
    {
     "name": "stderr",
     "output_type": "stream",
     "text": [
      "Train batch number 99: 100%|██████████| 99/99 [00:12<00:00,  7.62batches/s]\n",
      "Test batch number 13: 100%|██████████| 13/13 [00:03<00:00,  3.87batches/s]\n"
     ]
    },
    {
     "name": "stdout",
     "output_type": "stream",
     "text": [
      "\n",
      "Metrics: {'train_loss': 0.006911656995376835, 'test_loss': 2.003403379366948, 'bleu': 21.7558, 'gen_len': 9.7121}\n",
      "\n",
      "=============================\n",
      "\n"
     ]
    },
    {
     "name": "stderr",
     "output_type": "stream",
     "text": [
      " 31%|███       | 62/200 [18:36<41:14, 17.93s/it]"
     ]
    },
    {
     "name": "stdout",
     "output_type": "stream",
     "text": [
      "For epoch 363: \n",
      "{Learning rate: [0.00178466589560235]}\n"
     ]
    },
    {
     "name": "stderr",
     "output_type": "stream",
     "text": [
      "Train batch number 99: 100%|██████████| 99/99 [00:12<00:00,  7.68batches/s]\n",
      "Test batch number 13: 100%|██████████| 13/13 [00:03<00:00,  4.05batches/s]\n"
     ]
    },
    {
     "name": "stdout",
     "output_type": "stream",
     "text": [
      "\n",
      "Metrics: {'train_loss': 0.007315182814085291, 'test_loss': 1.9832468307935274, 'bleu': 21.832, 'gen_len': 9.6515}\n",
      "\n",
      "=============================\n",
      "\n"
     ]
    },
    {
     "name": "stderr",
     "output_type": "stream",
     "text": [
      " 32%|███▏      | 63/200 [18:54<40:52, 17.90s/it]"
     ]
    },
    {
     "name": "stdout",
     "output_type": "stream",
     "text": [
      "For epoch 364: \n",
      "{Learning rate: [0.001778958274530058]}\n"
     ]
    },
    {
     "name": "stderr",
     "output_type": "stream",
     "text": [
      "Train batch number 99: 100%|██████████| 99/99 [00:12<00:00,  7.74batches/s]\n",
      "Test batch number 13: 100%|██████████| 13/13 [00:03<00:00,  4.04batches/s]\n"
     ]
    },
    {
     "name": "stdout",
     "output_type": "stream",
     "text": [
      "\n",
      "Metrics: {'train_loss': 0.006831468810266203, 'test_loss': 2.0077422123688917, 'bleu': 21.7616, 'gen_len': 9.6869}\n",
      "\n",
      "=============================\n",
      "\n"
     ]
    },
    {
     "name": "stderr",
     "output_type": "stream",
     "text": [
      " 32%|███▏      | 64/200 [19:11<40:28, 17.85s/it]"
     ]
    },
    {
     "name": "stdout",
     "output_type": "stream",
     "text": [
      "For epoch 365: \n",
      "{Learning rate: [0.0017732467168692888]}\n"
     ]
    },
    {
     "name": "stderr",
     "output_type": "stream",
     "text": [
      "Train batch number 99: 100%|██████████| 99/99 [00:12<00:00,  7.70batches/s]\n",
      "Test batch number 13: 100%|██████████| 13/13 [00:03<00:00,  4.07batches/s]\n"
     ]
    },
    {
     "name": "stdout",
     "output_type": "stream",
     "text": [
      "\n",
      "Metrics: {'train_loss': 0.007048168191404054, 'test_loss': 1.9958587059607873, 'bleu': 21.4686, 'gen_len': 9.7121}\n",
      "\n",
      "=============================\n",
      "\n"
     ]
    },
    {
     "name": "stderr",
     "output_type": "stream",
     "text": [
      " 32%|███▎      | 65/200 [19:29<40:08, 17.84s/it]"
     ]
    },
    {
     "name": "stdout",
     "output_type": "stream",
     "text": [
      "For epoch 366: \n",
      "{Learning rate: [0.0017675313067326312]}\n"
     ]
    },
    {
     "name": "stderr",
     "output_type": "stream",
     "text": [
      "Train batch number 99: 100%|██████████| 99/99 [00:13<00:00,  7.61batches/s]\n",
      "Test batch number 13: 100%|██████████| 13/13 [00:03<00:00,  3.93batches/s]\n"
     ]
    },
    {
     "name": "stdout",
     "output_type": "stream",
     "text": [
      "\n",
      "Metrics: {'train_loss': 0.007039429988409863, 'test_loss': 1.9895051075862005, 'bleu': 21.8657, 'gen_len': 9.7071}\n",
      "\n",
      "=============================\n",
      "\n"
     ]
    },
    {
     "name": "stderr",
     "output_type": "stream",
     "text": [
      " 33%|███▎      | 66/200 [19:47<39:58, 17.90s/it]"
     ]
    },
    {
     "name": "stdout",
     "output_type": "stream",
     "text": [
      "For epoch 367: \n",
      "{Learning rate: [0.0017618121282894073]}\n"
     ]
    },
    {
     "name": "stderr",
     "output_type": "stream",
     "text": [
      "Train batch number 99: 100%|██████████| 99/99 [00:12<00:00,  7.67batches/s]\n",
      "Test batch number 13: 100%|██████████| 13/13 [00:03<00:00,  3.91batches/s]\n"
     ]
    },
    {
     "name": "stdout",
     "output_type": "stream",
     "text": [
      "\n",
      "Metrics: {'train_loss': 0.00667864980568258, 'test_loss': 2.0091660022735596, 'bleu': 21.5979, 'gen_len': 9.6919}\n",
      "\n",
      "=============================\n",
      "\n"
     ]
    },
    {
     "name": "stderr",
     "output_type": "stream",
     "text": [
      " 34%|███▎      | 67/200 [20:05<39:43, 17.92s/it]"
     ]
    },
    {
     "name": "stdout",
     "output_type": "stream",
     "text": [
      "For epoch 368: \n",
      "{Learning rate: [0.0017560892657644343]}\n"
     ]
    },
    {
     "name": "stderr",
     "output_type": "stream",
     "text": [
      "Train batch number 99: 100%|██████████| 99/99 [00:12<00:00,  7.67batches/s]\n",
      "Test batch number 13: 100%|██████████| 13/13 [00:03<00:00,  3.89batches/s]\n"
     ]
    },
    {
     "name": "stdout",
     "output_type": "stream",
     "text": [
      "\n",
      "Metrics: {'train_loss': 0.0065687417246417775, 'test_loss': 2.0142959356307983, 'bleu': 21.4458, 'gen_len': 9.7576}\n",
      "\n",
      "=============================\n",
      "\n"
     ]
    },
    {
     "name": "stderr",
     "output_type": "stream",
     "text": [
      " 34%|███▍      | 68/200 [20:23<39:27, 17.94s/it]"
     ]
    },
    {
     "name": "stdout",
     "output_type": "stream",
     "text": [
      "For epoch 369: \n",
      "{Learning rate: [0.001750362803436785]}\n"
     ]
    },
    {
     "name": "stderr",
     "output_type": "stream",
     "text": [
      "Train batch number 99: 100%|██████████| 99/99 [00:12<00:00,  7.79batches/s]\n",
      "Test batch number 13: 100%|██████████| 13/13 [00:03<00:00,  4.04batches/s]\n"
     ]
    },
    {
     "name": "stdout",
     "output_type": "stream",
     "text": [
      "\n",
      "Metrics: {'train_loss': 0.0067256694851264434, 'test_loss': 2.038788786301246, 'bleu': 21.6235, 'gen_len': 9.6818}\n",
      "\n",
      "=============================\n",
      "\n"
     ]
    },
    {
     "name": "stderr",
     "output_type": "stream",
     "text": [
      " 34%|███▍      | 69/200 [20:41<38:59, 17.86s/it]"
     ]
    },
    {
     "name": "stdout",
     "output_type": "stream",
     "text": [
      "For epoch 370: \n",
      "{Learning rate: [0.0017446328256385446]}\n"
     ]
    },
    {
     "name": "stderr",
     "output_type": "stream",
     "text": [
      "Train batch number 99: 100%|██████████| 99/99 [00:12<00:00,  7.72batches/s]\n",
      "Test batch number 13: 100%|██████████| 13/13 [00:03<00:00,  3.89batches/s]\n"
     ]
    },
    {
     "name": "stdout",
     "output_type": "stream",
     "text": [
      "\n",
      "Metrics: {'train_loss': 0.006713963680367945, 'test_loss': 2.0222181356870212, 'bleu': 21.4036, 'gen_len': 9.7172}\n",
      "\n",
      "=============================\n",
      "\n"
     ]
    },
    {
     "name": "stderr",
     "output_type": "stream",
     "text": [
      " 35%|███▌      | 70/200 [20:59<38:43, 17.87s/it]"
     ]
    },
    {
     "name": "stdout",
     "output_type": "stream",
     "text": [
      "For epoch 371: \n",
      "{Learning rate: [0.0017388994167535689]}\n"
     ]
    },
    {
     "name": "stderr",
     "output_type": "stream",
     "text": [
      "Train batch number 99: 100%|██████████| 99/99 [00:13<00:00,  7.60batches/s]\n",
      "Test batch number 13: 100%|██████████| 13/13 [00:03<00:00,  3.88batches/s]\n"
     ]
    },
    {
     "name": "stdout",
     "output_type": "stream",
     "text": [
      "\n",
      "Metrics: {'train_loss': 0.00673960435270059, 'test_loss': 2.0160511915500345, 'bleu': 21.7585, 'gen_len': 9.5253}\n",
      "\n",
      "=============================\n",
      "\n"
     ]
    },
    {
     "name": "stderr",
     "output_type": "stream",
     "text": [
      " 36%|███▌      | 71/200 [21:17<38:44, 18.02s/it]"
     ]
    },
    {
     "name": "stdout",
     "output_type": "stream",
     "text": [
      "For epoch 372: \n",
      "{Learning rate: [0.001733162661216244]}\n"
     ]
    },
    {
     "name": "stderr",
     "output_type": "stream",
     "text": [
      "Train batch number 99: 100%|██████████| 99/99 [00:12<00:00,  7.70batches/s]\n",
      "Test batch number 13: 100%|██████████| 13/13 [00:03<00:00,  3.95batches/s]\n"
     ]
    },
    {
     "name": "stdout",
     "output_type": "stream",
     "text": [
      "\n",
      "Metrics: {'train_loss': 0.0065335853704700545, 'test_loss': 2.0282219648361206, 'bleu': 21.8512, 'gen_len': 9.6212}\n",
      "\n",
      "=============================\n",
      "\n"
     ]
    },
    {
     "name": "stderr",
     "output_type": "stream",
     "text": [
      " 36%|███▌      | 72/200 [21:35<38:22, 17.99s/it]"
     ]
    },
    {
     "name": "stdout",
     "output_type": "stream",
     "text": [
      "For epoch 373: \n",
      "{Learning rate: [0.00172742264351024]}\n"
     ]
    },
    {
     "name": "stderr",
     "output_type": "stream",
     "text": [
      "Train batch number 99: 100%|██████████| 99/99 [00:13<00:00,  7.59batches/s]\n",
      "Test batch number 13: 100%|██████████| 13/13 [00:03<00:00,  4.06batches/s]\n"
     ]
    },
    {
     "name": "stdout",
     "output_type": "stream",
     "text": [
      "\n",
      "Metrics: {'train_loss': 0.0069454086103977524, 'test_loss': 2.025287600663992, 'bleu': 21.5914, 'gen_len': 9.6162}\n",
      "\n",
      "=============================\n",
      "\n"
     ]
    },
    {
     "name": "stderr",
     "output_type": "stream",
     "text": [
      " 36%|███▋      | 73/200 [21:53<38:03, 17.98s/it]"
     ]
    },
    {
     "name": "stdout",
     "output_type": "stream",
     "text": [
      "For epoch 374: \n",
      "{Learning rate: [0.0017216794481672685]}\n"
     ]
    },
    {
     "name": "stderr",
     "output_type": "stream",
     "text": [
      "Train batch number 99: 100%|██████████| 99/99 [00:13<00:00,  7.57batches/s]\n",
      "Test batch number 13: 100%|██████████| 13/13 [00:03<00:00,  4.08batches/s]\n"
     ]
    },
    {
     "name": "stdout",
     "output_type": "stream",
     "text": [
      "\n",
      "Metrics: {'train_loss': 0.006671324262931717, 'test_loss': 2.016913358981793, 'bleu': 21.7337, 'gen_len': 9.7929}\n",
      "\n",
      "=============================\n",
      "\n"
     ]
    },
    {
     "name": "stderr",
     "output_type": "stream",
     "text": [
      " 37%|███▋      | 74/200 [22:11<37:46, 17.99s/it]"
     ]
    },
    {
     "name": "stdout",
     "output_type": "stream",
     "text": [
      "For epoch 375: \n",
      "{Learning rate: [0.0017159331597658381]}\n"
     ]
    },
    {
     "name": "stderr",
     "output_type": "stream",
     "text": [
      "Train batch number 99: 100%|██████████| 99/99 [00:12<00:00,  7.71batches/s]\n",
      "Test batch number 13: 100%|██████████| 13/13 [00:03<00:00,  3.87batches/s]\n"
     ]
    },
    {
     "name": "stdout",
     "output_type": "stream",
     "text": [
      "\n",
      "Metrics: {'train_loss': 0.006553766035740593, 'test_loss': 2.0076289543738732, 'bleu': 21.8371, 'gen_len': 9.8636}\n",
      "\n",
      "=============================\n",
      "\n"
     ]
    },
    {
     "name": "stderr",
     "output_type": "stream",
     "text": [
      " 38%|███▊      | 75/200 [22:29<37:26, 17.97s/it]"
     ]
    },
    {
     "name": "stdout",
     "output_type": "stream",
     "text": [
      "For epoch 376: \n",
      "{Learning rate: [0.0017101838629300066]}\n"
     ]
    },
    {
     "name": "stderr",
     "output_type": "stream",
     "text": [
      "Train batch number 99: 100%|██████████| 99/99 [00:13<00:00,  7.61batches/s]\n",
      "Test batch number 13: 100%|██████████| 13/13 [00:03<00:00,  3.82batches/s]\n"
     ]
    },
    {
     "name": "stdout",
     "output_type": "stream",
     "text": [
      "\n",
      "Metrics: {'train_loss': 0.0066717077097196995, 'test_loss': 2.001315373640794, 'bleu': 21.946, 'gen_len': 9.803}\n",
      "\n",
      "=============================\n",
      "\n"
     ]
    },
    {
     "name": "stderr",
     "output_type": "stream",
     "text": [
      " 38%|███▊      | 76/200 [22:48<38:05, 18.43s/it]"
     ]
    },
    {
     "name": "stdout",
     "output_type": "stream",
     "text": [
      "For epoch 377: \n",
      "{Learning rate: [0.0017044316423281377]}\n"
     ]
    },
    {
     "name": "stderr",
     "output_type": "stream",
     "text": [
      "Train batch number 99: 100%|██████████| 99/99 [00:13<00:00,  7.54batches/s]\n",
      "Test batch number 13: 100%|██████████| 13/13 [00:03<00:00,  3.85batches/s]\n"
     ]
    },
    {
     "name": "stdout",
     "output_type": "stream",
     "text": [
      "\n",
      "Metrics: {'train_loss': 0.006615114879101806, 'test_loss': 2.0113950417591977, 'bleu': 21.3668, 'gen_len': 9.7879}\n",
      "\n",
      "=============================\n",
      "\n"
     ]
    },
    {
     "name": "stderr",
     "output_type": "stream",
     "text": [
      " 38%|███▊      | 77/200 [23:07<37:40, 18.38s/it]"
     ]
    },
    {
     "name": "stdout",
     "output_type": "stream",
     "text": [
      "For epoch 378: \n",
      "{Learning rate: [0.0016986765826716515]}\n"
     ]
    },
    {
     "name": "stderr",
     "output_type": "stream",
     "text": [
      "Train batch number 99: 100%|██████████| 99/99 [00:12<00:00,  7.66batches/s]\n",
      "Test batch number 13: 100%|██████████| 13/13 [00:03<00:00,  4.03batches/s]\n"
     ]
    },
    {
     "name": "stdout",
     "output_type": "stream",
     "text": [
      "\n",
      "Metrics: {'train_loss': 0.006575851456022285, 'test_loss': 2.0183543333640466, 'bleu': 21.2422, 'gen_len': 9.6818}\n",
      "\n",
      "=============================\n",
      "\n"
     ]
    },
    {
     "name": "stderr",
     "output_type": "stream",
     "text": [
      " 39%|███▉      | 78/200 [23:25<37:17, 18.34s/it]"
     ]
    },
    {
     "name": "stdout",
     "output_type": "stream",
     "text": [
      "For epoch 379: \n",
      "{Learning rate: [0.0016929187687137787]}\n"
     ]
    },
    {
     "name": "stderr",
     "output_type": "stream",
     "text": [
      "Train batch number 99: 100%|██████████| 99/99 [00:12<00:00,  7.66batches/s]\n",
      "Test batch number 13: 100%|██████████| 13/13 [00:03<00:00,  3.83batches/s]\n"
     ]
    },
    {
     "name": "stdout",
     "output_type": "stream",
     "text": [
      "\n",
      "Metrics: {'train_loss': 0.006878568967533853, 'test_loss': 2.014962049630972, 'bleu': 21.7552, 'gen_len': 9.7374}\n",
      "\n",
      "=============================\n",
      "\n"
     ]
    },
    {
     "name": "stderr",
     "output_type": "stream",
     "text": [
      " 40%|███▉      | 79/200 [23:43<36:48, 18.26s/it]"
     ]
    },
    {
     "name": "stdout",
     "output_type": "stream",
     "text": [
      "For epoch 380: \n",
      "{Learning rate: [0.001687158285248311]}\n"
     ]
    },
    {
     "name": "stderr",
     "output_type": "stream",
     "text": [
      "Train batch number 99: 100%|██████████| 99/99 [00:13<00:00,  7.11batches/s]\n",
      "Test batch number 13: 100%|██████████| 13/13 [00:03<00:00,  4.00batches/s]\n"
     ]
    },
    {
     "name": "stdout",
     "output_type": "stream",
     "text": [
      "\n",
      "Metrics: {'train_loss': 0.0065396091334270125, 'test_loss': 2.0100264090758104, 'bleu': 22.0518, 'gen_len': 9.6869}\n",
      "\n",
      "=============================\n",
      "\n"
     ]
    },
    {
     "name": "stderr",
     "output_type": "stream",
     "text": [
      " 40%|████      | 80/200 [24:02<36:53, 18.45s/it]"
     ]
    },
    {
     "name": "stdout",
     "output_type": "stream",
     "text": [
      "For epoch 381: \n",
      "{Learning rate: [0.001681395217108355]}\n"
     ]
    },
    {
     "name": "stderr",
     "output_type": "stream",
     "text": [
      "Train batch number 99: 100%|██████████| 99/99 [00:12<00:00,  7.68batches/s]\n",
      "Test batch number 13: 100%|██████████| 13/13 [00:03<00:00,  3.97batches/s]\n"
     ]
    },
    {
     "name": "stdout",
     "output_type": "stream",
     "text": [
      "\n",
      "Metrics: {'train_loss': 0.0065207389200099206, 'test_loss': 2.013266691794762, 'bleu': 21.4532, 'gen_len': 9.6667}\n",
      "\n",
      "=============================\n",
      "\n"
     ]
    },
    {
     "name": "stderr",
     "output_type": "stream",
     "text": [
      " 40%|████      | 81/200 [24:20<36:16, 18.29s/it]"
     ]
    },
    {
     "name": "stdout",
     "output_type": "stream",
     "text": [
      "For epoch 382: \n",
      "{Learning rate: [0.0016756296491650786]}\n"
     ]
    },
    {
     "name": "stderr",
     "output_type": "stream",
     "text": [
      "Train batch number 99: 100%|██████████| 99/99 [00:13<00:00,  7.59batches/s]\n",
      "Test batch number 13: 100%|██████████| 13/13 [00:03<00:00,  3.82batches/s]\n"
     ]
    },
    {
     "name": "stdout",
     "output_type": "stream",
     "text": [
      "\n",
      "Metrics: {'train_loss': 0.006584354642939735, 'test_loss': 2.0086300648175754, 'bleu': 20.8193, 'gen_len': 9.8485}\n",
      "\n",
      "=============================\n",
      "\n"
     ]
    },
    {
     "name": "stderr",
     "output_type": "stream",
     "text": [
      " 41%|████      | 82/200 [24:38<35:54, 18.26s/it]"
     ]
    },
    {
     "name": "stdout",
     "output_type": "stream",
     "text": [
      "For epoch 383: \n",
      "{Learning rate: [0.0016698616663264664]}\n"
     ]
    },
    {
     "name": "stderr",
     "output_type": "stream",
     "text": [
      "Train batch number 99: 100%|██████████| 99/99 [00:13<00:00,  7.46batches/s]\n",
      "Test batch number 13: 100%|██████████| 13/13 [00:03<00:00,  3.79batches/s]\n"
     ]
    },
    {
     "name": "stdout",
     "output_type": "stream",
     "text": [
      "\n",
      "Metrics: {'train_loss': 0.006803580233180482, 'test_loss': 2.014248242745033, 'bleu': 21.7021, 'gen_len': 9.803}\n",
      "\n",
      "=============================\n",
      "\n"
     ]
    },
    {
     "name": "stderr",
     "output_type": "stream",
     "text": [
      " 42%|████▏     | 83/200 [24:56<35:42, 18.32s/it]"
     ]
    },
    {
     "name": "stdout",
     "output_type": "stream",
     "text": [
      "For epoch 384: \n",
      "{Learning rate: [0.0016640913535360638]}\n"
     ]
    },
    {
     "name": "stderr",
     "output_type": "stream",
     "text": [
      "Train batch number 99: 100%|██████████| 99/99 [00:13<00:00,  7.46batches/s]\n",
      "Test batch number 13: 100%|██████████| 13/13 [00:03<00:00,  4.09batches/s]\n"
     ]
    },
    {
     "name": "stdout",
     "output_type": "stream",
     "text": [
      "\n",
      "Metrics: {'train_loss': 0.006645020076621681, 'test_loss': 2.0107701283234816, 'bleu': 20.8771, 'gen_len': 9.8081}\n",
      "\n",
      "=============================\n",
      "\n"
     ]
    },
    {
     "name": "stderr",
     "output_type": "stream",
     "text": [
      " 42%|████▏     | 84/200 [25:15<35:20, 18.28s/it]"
     ]
    },
    {
     "name": "stdout",
     "output_type": "stream",
     "text": [
      "For epoch 385: \n",
      "{Learning rate: [0.0016583187957717317]}\n"
     ]
    },
    {
     "name": "stderr",
     "output_type": "stream",
     "text": [
      "Train batch number 99: 100%|██████████| 99/99 [00:12<00:00,  7.76batches/s]\n",
      "Test batch number 13: 100%|██████████| 13/13 [00:03<00:00,  3.89batches/s]\n"
     ]
    },
    {
     "name": "stdout",
     "output_type": "stream",
     "text": [
      "\n",
      "Metrics: {'train_loss': 0.006917720881344826, 'test_loss': 2.0188247515605044, 'bleu': 21.776, 'gen_len': 9.7071}\n",
      "\n",
      "=============================\n",
      "\n"
     ]
    },
    {
     "name": "stderr",
     "output_type": "stream",
     "text": [
      " 42%|████▎     | 85/200 [25:33<34:47, 18.15s/it]"
     ]
    },
    {
     "name": "stdout",
     "output_type": "stream",
     "text": [
      "For epoch 386: \n",
      "{Learning rate: [0.00165254407804439]}\n"
     ]
    },
    {
     "name": "stderr",
     "output_type": "stream",
     "text": [
      "Train batch number 99: 100%|██████████| 99/99 [00:13<00:00,  7.50batches/s]\n",
      "Test batch number 13: 100%|██████████| 13/13 [00:03<00:00,  3.78batches/s]\n"
     ]
    },
    {
     "name": "stdout",
     "output_type": "stream",
     "text": [
      "\n",
      "Metrics: {'train_loss': 0.006597616904235276, 'test_loss': 2.0040680995354285, 'bleu': 21.9769, 'gen_len': 9.8838}\n",
      "\n",
      "=============================\n",
      "\n"
     ]
    },
    {
     "name": "stderr",
     "output_type": "stream",
     "text": [
      " 43%|████▎     | 86/200 [25:51<34:37, 18.23s/it]"
     ]
    },
    {
     "name": "stdout",
     "output_type": "stream",
     "text": [
      "For epoch 387: \n",
      "{Learning rate: [0.0016467672853967676]}\n"
     ]
    },
    {
     "name": "stderr",
     "output_type": "stream",
     "text": [
      "Train batch number 99: 100%|██████████| 99/99 [00:12<00:00,  7.69batches/s]\n",
      "Test batch number 13: 100%|██████████| 13/13 [00:03<00:00,  3.77batches/s]\n"
     ]
    },
    {
     "name": "stdout",
     "output_type": "stream",
     "text": [
      "\n",
      "Metrics: {'train_loss': 0.006518826869344621, 'test_loss': 2.02897061751439, 'bleu': 21.7013, 'gen_len': 9.8535}\n",
      "\n",
      "=============================\n",
      "\n"
     ]
    },
    {
     "name": "stderr",
     "output_type": "stream",
     "text": [
      " 44%|████▎     | 87/200 [26:09<34:14, 18.18s/it]"
     ]
    },
    {
     "name": "stdout",
     "output_type": "stream",
     "text": [
      "For epoch 388: \n",
      "{Learning rate: [0.001640988502902151]}\n"
     ]
    },
    {
     "name": "stderr",
     "output_type": "stream",
     "text": [
      "Train batch number 99: 100%|██████████| 99/99 [00:12<00:00,  7.71batches/s]\n",
      "Test batch number 13: 100%|██████████| 13/13 [00:03<00:00,  3.90batches/s]\n"
     ]
    },
    {
     "name": "stdout",
     "output_type": "stream",
     "text": [
      "\n",
      "Metrics: {'train_loss': 0.006606731264095876, 'test_loss': 2.0201094975838294, 'bleu': 22.3225, 'gen_len': 9.7525}\n",
      "\n",
      "=============================\n",
      "\n"
     ]
    },
    {
     "name": "stderr",
     "output_type": "stream",
     "text": [
      " 44%|████▍     | 88/200 [26:27<33:47, 18.11s/it]"
     ]
    },
    {
     "name": "stdout",
     "output_type": "stream",
     "text": [
      "For epoch 389: \n",
      "{Learning rate: [0.0016352078156631315]}\n"
     ]
    },
    {
     "name": "stderr",
     "output_type": "stream",
     "text": [
      "Train batch number 99: 100%|██████████| 99/99 [00:12<00:00,  7.65batches/s]\n",
      "Test batch number 13: 100%|██████████| 13/13 [00:03<00:00,  3.86batches/s]\n"
     ]
    },
    {
     "name": "stdout",
     "output_type": "stream",
     "text": [
      "\n",
      "Metrics: {'train_loss': 0.006673043750601614, 'test_loss': 2.006194463142982, 'bleu': 21.99, 'gen_len': 9.9192}\n",
      "\n",
      "=============================\n",
      "\n"
     ]
    },
    {
     "name": "stderr",
     "output_type": "stream",
     "text": [
      " 44%|████▍     | 89/200 [26:45<33:28, 18.09s/it]"
     ]
    },
    {
     "name": "stdout",
     "output_type": "stream",
     "text": [
      "For epoch 390: \n",
      "{Learning rate: [0.00162942530881035]}\n"
     ]
    },
    {
     "name": "stderr",
     "output_type": "stream",
     "text": [
      "Train batch number 99: 100%|██████████| 99/99 [00:12<00:00,  7.72batches/s]\n",
      "Test batch number 13: 100%|██████████| 13/13 [00:03<00:00,  3.87batches/s]\n"
     ]
    },
    {
     "name": "stdout",
     "output_type": "stream",
     "text": [
      "\n",
      "Metrics: {'train_loss': 0.006911079166310068, 'test_loss': 2.0164241332274218, 'bleu': 21.9784, 'gen_len': 9.9141}\n",
      "\n",
      "=============================\n",
      "\n"
     ]
    },
    {
     "name": "stderr",
     "output_type": "stream",
     "text": [
      " 45%|████▌     | 90/200 [27:03<33:04, 18.04s/it]"
     ]
    },
    {
     "name": "stdout",
     "output_type": "stream",
     "text": [
      "For epoch 391: \n",
      "{Learning rate: [0.0016236410675012445]}\n"
     ]
    },
    {
     "name": "stderr",
     "output_type": "stream",
     "text": [
      "Train batch number 99: 100%|██████████| 99/99 [00:12<00:00,  7.73batches/s]\n",
      "Test batch number 13: 100%|██████████| 13/13 [00:03<00:00,  4.00batches/s]\n"
     ]
    },
    {
     "name": "stdout",
     "output_type": "stream",
     "text": [
      "\n",
      "Metrics: {'train_loss': 0.006535249574679053, 'test_loss': 2.009672990212074, 'bleu': 21.9043, 'gen_len': 9.9293}\n",
      "\n",
      "=============================\n",
      "\n"
     ]
    },
    {
     "name": "stderr",
     "output_type": "stream",
     "text": [
      " 46%|████▌     | 91/200 [27:21<32:38, 17.97s/it]"
     ]
    },
    {
     "name": "stdout",
     "output_type": "stream",
     "text": [
      "For epoch 392: \n",
      "{Learning rate: [0.0016178551769187948]}\n"
     ]
    },
    {
     "name": "stderr",
     "output_type": "stream",
     "text": [
      "Train batch number 99: 100%|██████████| 99/99 [00:13<00:00,  7.61batches/s]\n",
      "Test batch number 13: 100%|██████████| 13/13 [00:03<00:00,  4.05batches/s]\n"
     ]
    },
    {
     "name": "stdout",
     "output_type": "stream",
     "text": [
      "\n",
      "Metrics: {'train_loss': 0.0067646145968194675, 'test_loss': 2.0085533215449405, 'bleu': 22.0584, 'gen_len': 9.9343}\n",
      "\n",
      "=============================\n",
      "\n"
     ]
    },
    {
     "name": "stderr",
     "output_type": "stream",
     "text": [
      " 46%|████▌     | 92/200 [27:39<32:19, 17.96s/it]"
     ]
    },
    {
     "name": "stdout",
     "output_type": "stream",
     "text": [
      "For epoch 393: \n",
      "{Learning rate: [0.0016120677222702725]}\n"
     ]
    },
    {
     "name": "stderr",
     "output_type": "stream",
     "text": [
      "Train batch number 99: 100%|██████████| 99/99 [00:13<00:00,  7.46batches/s]\n",
      "Test batch number 13: 100%|██████████| 13/13 [00:03<00:00,  3.84batches/s]\n"
     ]
    },
    {
     "name": "stdout",
     "output_type": "stream",
     "text": [
      "\n",
      "Metrics: {'train_loss': 0.006556049950163331, 'test_loss': 2.0124716575329122, 'bleu': 22.2574, 'gen_len': 9.899}\n",
      "\n",
      "=============================\n",
      "\n"
     ]
    },
    {
     "name": "stderr",
     "output_type": "stream",
     "text": [
      " 46%|████▋     | 93/200 [27:57<32:16, 18.10s/it]"
     ]
    },
    {
     "name": "stdout",
     "output_type": "stream",
     "text": [
      "For epoch 394: \n",
      "{Learning rate: [0.0016062787887859782]}\n"
     ]
    },
    {
     "name": "stderr",
     "output_type": "stream",
     "text": [
      "Train batch number 99: 100%|██████████| 99/99 [00:13<00:00,  7.58batches/s]\n",
      "Test batch number 13: 100%|██████████| 13/13 [00:03<00:00,  4.05batches/s]\n"
     ]
    },
    {
     "name": "stdout",
     "output_type": "stream",
     "text": [
      "\n",
      "Metrics: {'train_loss': 0.006516290504327797, 'test_loss': 2.0157001935518704, 'bleu': 21.7005, 'gen_len': 9.8889}\n",
      "\n",
      "=============================\n",
      "\n"
     ]
    },
    {
     "name": "stderr",
     "output_type": "stream",
     "text": [
      " 47%|████▋     | 94/200 [28:15<31:56, 18.08s/it]"
     ]
    },
    {
     "name": "stdout",
     "output_type": "stream",
     "text": [
      "For epoch 395: \n",
      "{Learning rate: [0.0016004884617179945]}\n"
     ]
    },
    {
     "name": "stderr",
     "output_type": "stream",
     "text": [
      "Train batch number 99: 100%|██████████| 99/99 [00:13<00:00,  7.60batches/s]\n",
      "Test batch number 13: 100%|██████████| 13/13 [00:03<00:00,  3.80batches/s]\n"
     ]
    },
    {
     "name": "stdout",
     "output_type": "stream",
     "text": [
      "\n",
      "Metrics: {'train_loss': 0.006368803412323074, 'test_loss': 2.014616058422969, 'bleu': 21.7783, 'gen_len': 9.9646}\n",
      "\n",
      "=============================\n",
      "\n"
     ]
    },
    {
     "name": "stderr",
     "output_type": "stream",
     "text": [
      " 48%|████▊     | 95/200 [28:33<31:42, 18.12s/it]"
     ]
    },
    {
     "name": "stdout",
     "output_type": "stream",
     "text": [
      "For epoch 396: \n",
      "{Learning rate: [0.0015946968263389253]}\n"
     ]
    },
    {
     "name": "stderr",
     "output_type": "stream",
     "text": [
      "Train batch number 99: 100%|██████████| 99/99 [00:13<00:00,  7.35batches/s]\n",
      "Test batch number 13: 100%|██████████| 13/13 [00:03<00:00,  3.80batches/s]\n"
     ]
    },
    {
     "name": "stdout",
     "output_type": "stream",
     "text": [
      "\n",
      "Metrics: {'train_loss': 0.0065823149816791595, 'test_loss': 2.0246199186031637, 'bleu': 22.1776, 'gen_len': 9.9192}\n",
      "\n",
      "=============================\n",
      "\n"
     ]
    },
    {
     "name": "stderr",
     "output_type": "stream",
     "text": [
      " 48%|████▊     | 96/200 [28:52<31:40, 18.28s/it]"
     ]
    },
    {
     "name": "stdout",
     "output_type": "stream",
     "text": [
      "For epoch 397: \n",
      "{Learning rate: [0.001588903967940642]}\n"
     ]
    },
    {
     "name": "stderr",
     "output_type": "stream",
     "text": [
      "Train batch number 99: 100%|██████████| 99/99 [00:13<00:00,  7.34batches/s]\n",
      "Test batch number 13: 100%|██████████| 13/13 [00:03<00:00,  3.92batches/s]\n"
     ]
    },
    {
     "name": "stdout",
     "output_type": "stream",
     "text": [
      "\n",
      "Metrics: {'train_loss': 0.006577081939662957, 'test_loss': 2.029624187029325, 'bleu': 22.5904, 'gen_len': 9.8889}\n",
      "\n",
      "=============================\n",
      "\n"
     ]
    },
    {
     "name": "stderr",
     "output_type": "stream",
     "text": [
      " 48%|████▊     | 97/200 [29:11<31:31, 18.36s/it]"
     ]
    },
    {
     "name": "stdout",
     "output_type": "stream",
     "text": [
      "For epoch 398: \n",
      "{Learning rate: [0.0015831099718330273]}\n"
     ]
    },
    {
     "name": "stderr",
     "output_type": "stream",
     "text": [
      "Train batch number 99: 100%|██████████| 99/99 [00:13<00:00,  7.41batches/s]\n",
      "Test batch number 13: 100%|██████████| 13/13 [00:03<00:00,  3.95batches/s]\n"
     ]
    },
    {
     "name": "stdout",
     "output_type": "stream",
     "text": [
      "\n",
      "Metrics: {'train_loss': 0.006396789153134732, 'test_loss': 2.0243689830486593, 'bleu': 22.6622, 'gen_len': 9.8687}\n",
      "\n",
      "=============================\n",
      "\n"
     ]
    },
    {
     "name": "stderr",
     "output_type": "stream",
     "text": [
      " 49%|████▉     | 98/200 [29:29<31:15, 18.39s/it]"
     ]
    },
    {
     "name": "stdout",
     "output_type": "stream",
     "text": [
      "For epoch 399: \n",
      "{Learning rate: [0.0015773149233427187]}\n"
     ]
    },
    {
     "name": "stderr",
     "output_type": "stream",
     "text": [
      "Train batch number 99: 100%|██████████| 99/99 [00:13<00:00,  7.36batches/s]\n",
      "Test batch number 13: 100%|██████████| 13/13 [00:03<00:00,  3.76batches/s]\n"
     ]
    },
    {
     "name": "stdout",
     "output_type": "stream",
     "text": [
      "\n",
      "Metrics: {'train_loss': 0.006456162454648593, 'test_loss': 2.0318648540056667, 'bleu': 22.5975, 'gen_len': 9.8939}\n",
      "\n",
      "=============================\n",
      "\n"
     ]
    },
    {
     "name": "stderr",
     "output_type": "stream",
     "text": [
      " 50%|████▉     | 99/200 [29:48<31:06, 18.48s/it]"
     ]
    },
    {
     "name": "stdout",
     "output_type": "stream",
     "text": [
      "For epoch 400: \n",
      "{Learning rate: [0.001571518907811851]}\n"
     ]
    },
    {
     "name": "stderr",
     "output_type": "stream",
     "text": [
      "Train batch number 99: 100%|██████████| 99/99 [00:13<00:00,  7.43batches/s]\n",
      "Test batch number 13: 100%|██████████| 13/13 [00:03<00:00,  3.93batches/s]\n"
     ]
    },
    {
     "name": "stdout",
     "output_type": "stream",
     "text": [
      "\n",
      "Metrics: {'train_loss': 0.006829869670609972, 'test_loss': 2.008265862098107, 'bleu': 22.2933, 'gen_len': 9.7828}\n",
      "\n",
      "=============================\n",
      "\n"
     ]
    },
    {
     "name": "stderr",
     "output_type": "stream",
     "text": [
      " 50%|█████     | 100/200 [30:06<30:46, 18.46s/it]"
     ]
    },
    {
     "name": "stdout",
     "output_type": "stream",
     "text": [
      "For epoch 401: \n",
      "{Learning rate: [0.001565722010596801]}\n"
     ]
    },
    {
     "name": "stderr",
     "output_type": "stream",
     "text": [
      "Train batch number 99: 100%|██████████| 99/99 [00:13<00:00,  7.39batches/s]\n",
      "Test batch number 13: 100%|██████████| 13/13 [00:03<00:00,  3.85batches/s]\n"
     ]
    },
    {
     "name": "stdout",
     "output_type": "stream",
     "text": [
      "\n",
      "Metrics: {'train_loss': 0.006446963861394165, 'test_loss': 2.0227740361140323, 'bleu': 22.6161, 'gen_len': 9.8283}\n",
      "\n",
      "=============================\n",
      "\n"
     ]
    },
    {
     "name": "stderr",
     "output_type": "stream",
     "text": [
      " 50%|█████     | 101/200 [30:25<30:29, 18.48s/it]"
     ]
    },
    {
     "name": "stdout",
     "output_type": "stream",
     "text": [
      "For epoch 402: \n",
      "{Learning rate: [0.00155992431706693]}\n"
     ]
    },
    {
     "name": "stderr",
     "output_type": "stream",
     "text": [
      "Train batch number 99: 100%|██████████| 99/99 [00:13<00:00,  7.48batches/s]\n",
      "Test batch number 13: 100%|██████████| 13/13 [00:03<00:00,  3.94batches/s]\n"
     ]
    },
    {
     "name": "stdout",
     "output_type": "stream",
     "text": [
      "\n",
      "Metrics: {'train_loss': 0.006441876324125321, 'test_loss': 2.013189508364751, 'bleu': 22.5963, 'gen_len': 9.9293}\n",
      "\n",
      "=============================\n",
      "\n"
     ]
    },
    {
     "name": "stderr",
     "output_type": "stream",
     "text": [
      " 51%|█████     | 102/200 [30:43<30:06, 18.44s/it]"
     ]
    },
    {
     "name": "stdout",
     "output_type": "stream",
     "text": [
      "For epoch 403: \n",
      "{Learning rate: [0.0015541259126033262]}\n"
     ]
    },
    {
     "name": "stderr",
     "output_type": "stream",
     "text": [
      "Train batch number 99: 100%|██████████| 99/99 [00:13<00:00,  7.54batches/s]\n",
      "Test batch number 13: 100%|██████████| 13/13 [00:03<00:00,  3.89batches/s]\n"
     ]
    },
    {
     "name": "stdout",
     "output_type": "stream",
     "text": [
      "\n",
      "Metrics: {'train_loss': 0.006465954001113359, 'test_loss': 2.0129254047687235, 'bleu': 22.9185, 'gen_len': 9.8131}\n",
      "\n",
      "=============================\n",
      "\n"
     ]
    },
    {
     "name": "stderr",
     "output_type": "stream",
     "text": [
      " 52%|█████▏    | 103/200 [31:03<30:21, 18.78s/it]"
     ]
    },
    {
     "name": "stdout",
     "output_type": "stream",
     "text": [
      "For epoch 404: \n",
      "{Learning rate: [0.0015483268825975472]}\n"
     ]
    },
    {
     "name": "stderr",
     "output_type": "stream",
     "text": [
      "Train batch number 99: 100%|██████████| 99/99 [00:13<00:00,  7.52batches/s]\n",
      "Test batch number 13: 100%|██████████| 13/13 [00:03<00:00,  3.89batches/s]\n"
     ]
    },
    {
     "name": "stdout",
     "output_type": "stream",
     "text": [
      "\n",
      "Metrics: {'train_loss': 0.0065990081467051905, 'test_loss': 2.0321682416475735, 'bleu': 22.1517, 'gen_len': 9.8182}\n",
      "\n",
      "=============================\n",
      "\n"
     ]
    },
    {
     "name": "stderr",
     "output_type": "stream",
     "text": [
      " 52%|█████▏    | 104/200 [31:21<29:48, 18.63s/it]"
     ]
    },
    {
     "name": "stdout",
     "output_type": "stream",
     "text": [
      "For epoch 405: \n",
      "{Learning rate: [0.0015425273124503637]}\n"
     ]
    },
    {
     "name": "stderr",
     "output_type": "stream",
     "text": [
      "Train batch number 99: 100%|██████████| 99/99 [00:13<00:00,  7.50batches/s]\n",
      "Test batch number 13: 100%|██████████| 13/13 [00:03<00:00,  3.95batches/s]\n"
     ]
    },
    {
     "name": "stdout",
     "output_type": "stream",
     "text": [
      "\n",
      "Metrics: {'train_loss': 0.006466197196836348, 'test_loss': 2.0266676866091213, 'bleu': 22.7182, 'gen_len': 9.9394}\n",
      "\n",
      "=============================\n",
      "\n"
     ]
    },
    {
     "name": "stderr",
     "output_type": "stream",
     "text": [
      " 52%|█████▎    | 105/200 [31:39<29:19, 18.52s/it]"
     ]
    },
    {
     "name": "stdout",
     "output_type": "stream",
     "text": [
      "For epoch 406: \n",
      "{Learning rate: [0.0015367272875704998]}\n"
     ]
    },
    {
     "name": "stderr",
     "output_type": "stream",
     "text": [
      "Train batch number 99: 100%|██████████| 99/99 [00:13<00:00,  7.42batches/s]\n",
      "Test batch number 13: 100%|██████████| 13/13 [00:03<00:00,  3.69batches/s]\n"
     ]
    },
    {
     "name": "stdout",
     "output_type": "stream",
     "text": [
      "\n",
      "Metrics: {'train_loss': 0.006575469956986107, 'test_loss': 2.0252519112366896, 'bleu': 22.3971, 'gen_len': 9.7626}\n",
      "\n",
      "=============================\n",
      "\n"
     ]
    },
    {
     "name": "stderr",
     "output_type": "stream",
     "text": [
      " 53%|█████▎    | 106/200 [31:58<29:05, 18.57s/it]"
     ]
    },
    {
     "name": "stdout",
     "output_type": "stream",
     "text": [
      "For epoch 407: \n",
      "{Learning rate: [0.0015309268933733774]}\n"
     ]
    },
    {
     "name": "stderr",
     "output_type": "stream",
     "text": [
      "Train batch number 99: 100%|██████████| 99/99 [00:13<00:00,  7.44batches/s]\n",
      "Test batch number 13: 100%|██████████| 13/13 [00:03<00:00,  3.89batches/s]\n"
     ]
    },
    {
     "name": "stdout",
     "output_type": "stream",
     "text": [
      "\n",
      "Metrics: {'train_loss': 0.006455083494074643, 'test_loss': 2.0301039035503683, 'bleu': 22.8648, 'gen_len': 9.8788}\n",
      "\n",
      "=============================\n",
      "\n"
     ]
    },
    {
     "name": "stderr",
     "output_type": "stream",
     "text": [
      " 54%|█████▎    | 107/200 [32:16<28:43, 18.53s/it]"
     ]
    },
    {
     "name": "stdout",
     "output_type": "stream",
     "text": [
      "For epoch 408: \n",
      "{Learning rate: [0.0015251262152798564]}\n"
     ]
    },
    {
     "name": "stderr",
     "output_type": "stream",
     "text": [
      "Train batch number 99: 100%|██████████| 99/99 [00:13<00:00,  7.46batches/s]\n",
      "Test batch number 13: 100%|██████████| 13/13 [00:03<00:00,  3.77batches/s]\n"
     ]
    },
    {
     "name": "stdout",
     "output_type": "stream",
     "text": [
      "\n",
      "Metrics: {'train_loss': 0.006545526695771689, 'test_loss': 2.0314580568900475, 'bleu': 21.8771, 'gen_len': 9.8182}\n",
      "\n",
      "=============================\n",
      "\n"
     ]
    },
    {
     "name": "stderr",
     "output_type": "stream",
     "text": [
      " 54%|█████▍    | 108/200 [32:35<28:23, 18.52s/it]"
     ]
    },
    {
     "name": "stdout",
     "output_type": "stream",
     "text": [
      "For epoch 409: \n",
      "{Learning rate: [0.0015193253387149775]}\n"
     ]
    },
    {
     "name": "stderr",
     "output_type": "stream",
     "text": [
      "Train batch number 99: 100%|██████████| 99/99 [00:13<00:00,  7.52batches/s]\n",
      "Test batch number 13: 100%|██████████| 13/13 [00:03<00:00,  3.89batches/s]\n"
     ]
    },
    {
     "name": "stdout",
     "output_type": "stream",
     "text": [
      "\n",
      "Metrics: {'train_loss': 0.006308900727126089, 'test_loss': 2.0315615122134867, 'bleu': 22.0601, 'gen_len': 9.8939}\n",
      "\n",
      "=============================\n",
      "\n"
     ]
    },
    {
     "name": "stderr",
     "output_type": "stream",
     "text": [
      " 55%|█████▍    | 109/200 [32:53<27:58, 18.45s/it]"
     ]
    },
    {
     "name": "stdout",
     "output_type": "stream",
     "text": [
      "For epoch 410: \n",
      "{Learning rate: [0.0015135243491067052]}\n"
     ]
    },
    {
     "name": "stderr",
     "output_type": "stream",
     "text": [
      "Train batch number 99: 100%|██████████| 99/99 [00:14<00:00,  6.73batches/s]\n",
      "Test batch number 13: 100%|██████████| 13/13 [00:03<00:00,  3.94batches/s]\n"
     ]
    },
    {
     "name": "stdout",
     "output_type": "stream",
     "text": [
      "\n",
      "Metrics: {'train_loss': 0.00649107674550091, 'test_loss': 2.0259535862849307, 'bleu': 22.5053, 'gen_len': 9.8687}\n",
      "\n",
      "=============================\n",
      "\n"
     ]
    },
    {
     "name": "stderr",
     "output_type": "stream",
     "text": [
      " 55%|█████▌    | 110/200 [33:13<28:16, 18.85s/it]"
     ]
    },
    {
     "name": "stdout",
     "output_type": "stream",
     "text": [
      "For epoch 411: \n",
      "{Learning rate: [0.0015077233318846676]}\n"
     ]
    },
    {
     "name": "stderr",
     "output_type": "stream",
     "text": [
      "Train batch number 99: 100%|██████████| 99/99 [00:13<00:00,  7.47batches/s]\n",
      "Test batch number 13: 100%|██████████| 13/13 [00:03<00:00,  3.81batches/s]\n"
     ]
    },
    {
     "name": "stdout",
     "output_type": "stream",
     "text": [
      "\n",
      "Metrics: {'train_loss': 0.006464959018025312, 'test_loss': 2.0273213936732364, 'bleu': 22.3288, 'gen_len': 9.8939}\n",
      "\n",
      "=============================\n",
      "\n"
     ]
    },
    {
     "name": "stderr",
     "output_type": "stream",
     "text": [
      " 56%|█████▌    | 111/200 [33:31<27:46, 18.72s/it]"
     ]
    },
    {
     "name": "stdout",
     "output_type": "stream",
     "text": [
      "For epoch 412: \n",
      "{Learning rate: [0.0015019223724789]}\n"
     ]
    },
    {
     "name": "stderr",
     "output_type": "stream",
     "text": [
      "Train batch number 99: 100%|██████████| 99/99 [00:13<00:00,  7.36batches/s]\n",
      "Test batch number 13: 100%|██████████| 13/13 [00:03<00:00,  3.98batches/s]\n"
     ]
    },
    {
     "name": "stdout",
     "output_type": "stream",
     "text": [
      "\n",
      "Metrics: {'train_loss': 0.006686036113115743, 'test_loss': 2.0364387310468235, 'bleu': 22.5889, 'gen_len': 9.8788}\n",
      "\n",
      "=============================\n",
      "\n"
     ]
    },
    {
     "name": "stderr",
     "output_type": "stream",
     "text": [
      " 56%|█████▌    | 112/200 [33:50<27:21, 18.65s/it]"
     ]
    },
    {
     "name": "stdout",
     "output_type": "stream",
     "text": [
      "For epoch 413: \n",
      "{Learning rate: [0.0014961215563185871]}\n"
     ]
    },
    {
     "name": "stderr",
     "output_type": "stream",
     "text": [
      "Train batch number 99: 100%|██████████| 99/99 [00:13<00:00,  7.44batches/s]\n",
      "Test batch number 13: 100%|██████████| 13/13 [00:03<00:00,  3.96batches/s]\n"
     ]
    },
    {
     "name": "stdout",
     "output_type": "stream",
     "text": [
      "\n",
      "Metrics: {'train_loss': 0.00647993452216127, 'test_loss': 2.0242135249651394, 'bleu': 22.1857, 'gen_len': 10.0303}\n",
      "\n",
      "=============================\n",
      "\n"
     ]
    },
    {
     "name": "stderr",
     "output_type": "stream",
     "text": [
      " 56%|█████▋    | 113/200 [34:08<26:54, 18.56s/it]"
     ]
    },
    {
     "name": "stdout",
     "output_type": "stream",
     "text": [
      "For epoch 414: \n",
      "{Learning rate: [0.0014903209688308027]}\n"
     ]
    },
    {
     "name": "stderr",
     "output_type": "stream",
     "text": [
      "Train batch number 99: 100%|██████████| 99/99 [00:13<00:00,  7.51batches/s]\n",
      "Test batch number 13: 100%|██████████| 13/13 [00:03<00:00,  3.74batches/s]\n"
     ]
    },
    {
     "name": "stdout",
     "output_type": "stream",
     "text": [
      "\n",
      "Metrics: {'train_loss': 0.006435934255620455, 'test_loss': 2.0192550145662747, 'bleu': 21.4701, 'gen_len': 10.0101}\n",
      "\n",
      "=============================\n",
      "\n"
     ]
    },
    {
     "name": "stderr",
     "output_type": "stream",
     "text": [
      " 57%|█████▋    | 114/200 [34:27<26:55, 18.78s/it]"
     ]
    },
    {
     "name": "stdout",
     "output_type": "stream",
     "text": [
      "For epoch 415: \n",
      "{Learning rate: [0.0014845206954392537]}\n"
     ]
    },
    {
     "name": "stderr",
     "output_type": "stream",
     "text": [
      "Train batch number 99: 100%|██████████| 99/99 [00:13<00:00,  7.39batches/s]\n",
      "Test batch number 13: 100%|██████████| 13/13 [00:03<00:00,  3.86batches/s]\n"
     ]
    },
    {
     "name": "stdout",
     "output_type": "stream",
     "text": [
      "\n",
      "Metrics: {'train_loss': 0.0065294753254751085, 'test_loss': 2.036443040921138, 'bleu': 22.4034, 'gen_len': 9.9192}\n",
      "\n",
      "=============================\n",
      "\n"
     ]
    },
    {
     "name": "stderr",
     "output_type": "stream",
     "text": [
      " 57%|█████▊    | 115/200 [34:46<26:30, 18.71s/it]"
     ]
    },
    {
     "name": "stdout",
     "output_type": "stream",
     "text": [
      "For epoch 416: \n",
      "{Learning rate: [0.0014787208215630212]}\n"
     ]
    },
    {
     "name": "stderr",
     "output_type": "stream",
     "text": [
      "Train batch number 99: 100%|██████████| 99/99 [00:13<00:00,  7.35batches/s]\n",
      "Test batch number 13: 100%|██████████| 13/13 [00:03<00:00,  3.74batches/s]\n"
     ]
    },
    {
     "name": "stdout",
     "output_type": "stream",
     "text": [
      "\n",
      "Metrics: {'train_loss': 0.006454599490171684, 'test_loss': 2.0374943109659047, 'bleu': 22.1232, 'gen_len': 9.8939}\n",
      "\n",
      "=============================\n",
      "\n"
     ]
    },
    {
     "name": "stderr",
     "output_type": "stream",
     "text": [
      " 58%|█████▊    | 116/200 [35:05<26:12, 18.72s/it]"
     ]
    },
    {
     "name": "stdout",
     "output_type": "stream",
     "text": [
      "For epoch 417: \n",
      "{Learning rate: [0.001472921432615302]}\n"
     ]
    },
    {
     "name": "stderr",
     "output_type": "stream",
     "text": [
      "Train batch number 99: 100%|██████████| 99/99 [00:13<00:00,  7.39batches/s]\n",
      "Test batch number 13: 100%|██████████| 13/13 [00:03<00:00,  3.77batches/s]\n"
     ]
    },
    {
     "name": "stdout",
     "output_type": "stream",
     "text": [
      "\n",
      "Metrics: {'train_loss': 0.006563070618678025, 'test_loss': 2.039859569989718, 'bleu': 21.9837, 'gen_len': 9.9293}\n",
      "\n",
      "=============================\n",
      "\n"
     ]
    },
    {
     "name": "stderr",
     "output_type": "stream",
     "text": [
      " 58%|█████▊    | 117/200 [35:23<25:51, 18.69s/it]"
     ]
    },
    {
     "name": "stdout",
     "output_type": "stream",
     "text": [
      "For epoch 418: \n",
      "{Learning rate: [0.0014671226140021531]}\n"
     ]
    },
    {
     "name": "stderr",
     "output_type": "stream",
     "text": [
      "Train batch number 99: 100%|██████████| 99/99 [00:13<00:00,  7.44batches/s]\n",
      "Test batch number 13: 100%|██████████| 13/13 [00:03<00:00,  3.96batches/s]\n"
     ]
    },
    {
     "name": "stdout",
     "output_type": "stream",
     "text": [
      "\n",
      "Metrics: {'train_loss': 0.0065009621519658885, 'test_loss': 2.0368675268613377, 'bleu': 21.7716, 'gen_len': 9.7222}\n",
      "\n",
      "=============================\n",
      "\n"
     ]
    },
    {
     "name": "stderr",
     "output_type": "stream",
     "text": [
      " 59%|█████▉    | 118/200 [35:42<25:24, 18.59s/it]"
     ]
    },
    {
     "name": "stdout",
     "output_type": "stream",
     "text": [
      "For epoch 419: \n",
      "{Learning rate: [0.001461324451121232]}\n"
     ]
    },
    {
     "name": "stderr",
     "output_type": "stream",
     "text": [
      "Train batch number 99: 100%|██████████| 99/99 [00:13<00:00,  7.36batches/s]\n",
      "Test batch number 13: 100%|██████████| 13/13 [00:03<00:00,  3.98batches/s]\n"
     ]
    },
    {
     "name": "stdout",
     "output_type": "stream",
     "text": [
      "\n",
      "Metrics: {'train_loss': 0.006520253785467246, 'test_loss': 2.0287204522352953, 'bleu': 22.2592, 'gen_len': 9.8737}\n",
      "\n",
      "=============================\n",
      "\n"
     ]
    },
    {
     "name": "stderr",
     "output_type": "stream",
     "text": [
      " 60%|█████▉    | 119/200 [36:00<25:02, 18.55s/it]"
     ]
    },
    {
     "name": "stdout",
     "output_type": "stream",
     "text": [
      "For epoch 420: \n",
      "{Learning rate: [0.0014555270293605373]}\n"
     ]
    },
    {
     "name": "stderr",
     "output_type": "stream",
     "text": [
      "Train batch number 99: 100%|██████████| 99/99 [00:13<00:00,  7.39batches/s]\n",
      "Test batch number 13: 100%|██████████| 13/13 [00:03<00:00,  3.74batches/s]\n"
     ]
    },
    {
     "name": "stdout",
     "output_type": "stream",
     "text": [
      "\n",
      "Metrics: {'train_loss': 0.006374489827342613, 'test_loss': 2.0260240114652195, 'bleu': 22.3282, 'gen_len': 10.1061}\n",
      "\n",
      "=============================\n",
      "\n"
     ]
    },
    {
     "name": "stderr",
     "output_type": "stream",
     "text": [
      " 60%|██████    | 120/200 [36:19<24:46, 18.59s/it]"
     ]
    },
    {
     "name": "stdout",
     "output_type": "stream",
     "text": [
      "For epoch 421: \n",
      "{Learning rate: [0.0014497304340971562]}\n"
     ]
    },
    {
     "name": "stderr",
     "output_type": "stream",
     "text": [
      "Train batch number 99: 100%|██████████| 99/99 [00:12<00:00,  7.62batches/s]\n",
      "Test batch number 13: 100%|██████████| 13/13 [00:03<00:00,  3.98batches/s]\n"
     ]
    },
    {
     "name": "stdout",
     "output_type": "stream",
     "text": [
      "\n",
      "Metrics: {'train_loss': 0.006360424005319458, 'test_loss': 2.0352513881830068, 'bleu': 21.7064, 'gen_len': 9.9747}\n",
      "\n",
      "=============================\n",
      "\n"
     ]
    },
    {
     "name": "stderr",
     "output_type": "stream",
     "text": [
      " 60%|██████    | 121/200 [36:37<24:15, 18.42s/it]"
     ]
    },
    {
     "name": "stdout",
     "output_type": "stream",
     "text": [
      "For epoch 422: \n",
      "{Learning rate: [0.0014439347506960032]}\n"
     ]
    },
    {
     "name": "stderr",
     "output_type": "stream",
     "text": [
      "Train batch number 99: 100%|██████████| 99/99 [00:13<00:00,  7.45batches/s]\n",
      "Test batch number 13: 100%|██████████| 13/13 [00:03<00:00,  3.97batches/s]\n"
     ]
    },
    {
     "name": "stdout",
     "output_type": "stream",
     "text": [
      "\n",
      "Metrics: {'train_loss': 0.00632054502358472, 'test_loss': 2.036318247134869, 'bleu': 21.8502, 'gen_len': 9.9949}\n",
      "\n",
      "=============================\n",
      "\n"
     ]
    },
    {
     "name": "stderr",
     "output_type": "stream",
     "text": [
      " 61%|██████    | 122/200 [36:55<23:54, 18.39s/it]"
     ]
    },
    {
     "name": "stdout",
     "output_type": "stream",
     "text": [
      "For epoch 423: \n",
      "{Learning rate: [0.0014381400645085622]}\n"
     ]
    },
    {
     "name": "stderr",
     "output_type": "stream",
     "text": [
      "Train batch number 99: 100%|██████████| 99/99 [00:13<00:00,  7.41batches/s]\n",
      "Test batch number 13: 100%|██████████| 13/13 [00:03<00:00,  3.96batches/s]\n"
     ]
    },
    {
     "name": "stdout",
     "output_type": "stream",
     "text": [
      "\n",
      "Metrics: {'train_loss': 0.006447738083402833, 'test_loss': 2.022799170934237, 'bleu': 22.0116, 'gen_len': 10.101}\n",
      "\n",
      "=============================\n",
      "\n"
     ]
    },
    {
     "name": "stderr",
     "output_type": "stream",
     "text": [
      " 62%|██████▏   | 123/200 [37:13<23:36, 18.40s/it]"
     ]
    },
    {
     "name": "stdout",
     "output_type": "stream",
     "text": [
      "For epoch 424: \n",
      "{Learning rate: [0.0014323464608716353]}\n"
     ]
    },
    {
     "name": "stderr",
     "output_type": "stream",
     "text": [
      "Train batch number 99: 100%|██████████| 99/99 [00:13<00:00,  7.52batches/s]\n",
      "Test batch number 13: 100%|██████████| 13/13 [00:03<00:00,  3.91batches/s]\n"
     ]
    },
    {
     "name": "stdout",
     "output_type": "stream",
     "text": [
      "\n",
      "Metrics: {'train_loss': 0.006420469729375621, 'test_loss': 2.017311563858619, 'bleu': 22.5764, 'gen_len': 9.8182}\n",
      "\n",
      "=============================\n",
      "\n"
     ]
    },
    {
     "name": "stderr",
     "output_type": "stream",
     "text": [
      " 62%|██████▏   | 124/200 [37:32<23:15, 18.36s/it]"
     ]
    },
    {
     "name": "stdout",
     "output_type": "stream",
     "text": [
      "For epoch 425: \n",
      "{Learning rate: [0.001426554025106078]}\n"
     ]
    },
    {
     "name": "stderr",
     "output_type": "stream",
     "text": [
      "Train batch number 99: 100%|██████████| 99/99 [00:13<00:00,  7.46batches/s]\n",
      "Test batch number 13: 100%|██████████| 13/13 [00:03<00:00,  3.80batches/s]\n"
     ]
    },
    {
     "name": "stdout",
     "output_type": "stream",
     "text": [
      "\n",
      "Metrics: {'train_loss': 0.006544441044844471, 'test_loss': 2.0350737388317404, 'bleu': 21.9299, 'gen_len': 9.9848}\n",
      "\n",
      "=============================\n",
      "\n"
     ]
    },
    {
     "name": "stderr",
     "output_type": "stream",
     "text": [
      " 62%|██████▎   | 125/200 [37:50<22:59, 18.39s/it]"
     ]
    },
    {
     "name": "stdout",
     "output_type": "stream",
     "text": [
      "For epoch 426: \n",
      "{Learning rate: [0.0014207628425155494]}\n"
     ]
    },
    {
     "name": "stderr",
     "output_type": "stream",
     "text": [
      "Train batch number 99: 100%|██████████| 99/99 [00:14<00:00,  6.81batches/s]\n",
      "Test batch number 13: 100%|██████████| 13/13 [00:03<00:00,  3.86batches/s]\n"
     ]
    },
    {
     "name": "stdout",
     "output_type": "stream",
     "text": [
      "\n",
      "Metrics: {'train_loss': 0.006384979615416002, 'test_loss': 2.03082523896144, 'bleu': 22.1619, 'gen_len': 9.9848}\n",
      "\n",
      "=============================\n",
      "\n"
     ]
    },
    {
     "name": "stderr",
     "output_type": "stream",
     "text": [
      " 63%|██████▎   | 126/200 [38:10<23:09, 18.78s/it]"
     ]
    },
    {
     "name": "stdout",
     "output_type": "stream",
     "text": [
      "For epoch 427: \n",
      "{Learning rate: [0.0014149729983852538]}\n"
     ]
    },
    {
     "name": "stderr",
     "output_type": "stream",
     "text": [
      "Train batch number 99: 100%|██████████| 99/99 [00:13<00:00,  7.42batches/s]\n",
      "Test batch number 13: 100%|██████████| 13/13 [00:03<00:00,  3.95batches/s]\n"
     ]
    },
    {
     "name": "stdout",
     "output_type": "stream",
     "text": [
      "\n",
      "Metrics: {'train_loss': 0.006364723177587924, 'test_loss': 2.033995133179885, 'bleu': 21.7576, 'gen_len': 10.0303}\n",
      "\n",
      "=============================\n",
      "\n"
     ]
    },
    {
     "name": "stderr",
     "output_type": "stream",
     "text": [
      " 64%|██████▎   | 127/200 [38:28<22:42, 18.66s/it]"
     ]
    },
    {
     "name": "stdout",
     "output_type": "stream",
     "text": [
      "For epoch 428: \n",
      "{Learning rate: [0.0014091845779806822]}\n"
     ]
    },
    {
     "name": "stderr",
     "output_type": "stream",
     "text": [
      "Train batch number 99: 100%|██████████| 99/99 [00:13<00:00,  7.57batches/s]\n",
      "Test batch number 13: 100%|██████████| 13/13 [00:03<00:00,  3.93batches/s]\n"
     ]
    },
    {
     "name": "stdout",
     "output_type": "stream",
     "text": [
      "\n",
      "Metrics: {'train_loss': 0.006516599773389353, 'test_loss': 2.040083307486314, 'bleu': 21.9007, 'gen_len': 9.9141}\n",
      "\n",
      "=============================\n",
      "\n"
     ]
    },
    {
     "name": "stderr",
     "output_type": "stream",
     "text": [
      " 64%|██████▍   | 128/200 [38:46<22:12, 18.50s/it]"
     ]
    },
    {
     "name": "stdout",
     "output_type": "stream",
     "text": [
      "For epoch 429: \n",
      "{Learning rate: [0.00140339766654636]}\n"
     ]
    },
    {
     "name": "stderr",
     "output_type": "stream",
     "text": [
      "Train batch number 99: 100%|██████████| 99/99 [00:13<00:00,  7.35batches/s]\n",
      "Test batch number 13: 100%|██████████| 13/13 [00:03<00:00,  3.73batches/s]\n"
     ]
    },
    {
     "name": "stdout",
     "output_type": "stream",
     "text": [
      "\n",
      "Metrics: {'train_loss': 0.006490078898919323, 'test_loss': 2.039584939296429, 'bleu': 21.3791, 'gen_len': 9.9899}\n",
      "\n",
      "=============================\n",
      "\n"
     ]
    },
    {
     "name": "stderr",
     "output_type": "stream",
     "text": [
      " 64%|██████▍   | 129/200 [39:05<21:58, 18.57s/it]"
     ]
    },
    {
     "name": "stdout",
     "output_type": "stream",
     "text": [
      "For epoch 430: \n",
      "{Learning rate: [0.0013976123493045914]}\n"
     ]
    },
    {
     "name": "stderr",
     "output_type": "stream",
     "text": [
      "Train batch number 99: 100%|██████████| 99/99 [00:13<00:00,  7.59batches/s]\n",
      "Test batch number 13: 100%|██████████| 13/13 [00:03<00:00,  3.78batches/s]\n"
     ]
    },
    {
     "name": "stdout",
     "output_type": "stream",
     "text": [
      "\n",
      "Metrics: {'train_loss': 0.006589510843053112, 'test_loss': 2.028557456456698, 'bleu': 21.4724, 'gen_len': 9.9848}\n",
      "\n",
      "=============================\n",
      "\n"
     ]
    },
    {
     "name": "stderr",
     "output_type": "stream",
     "text": [
      " 65%|██████▌   | 130/200 [39:24<21:42, 18.61s/it]"
     ]
    },
    {
     "name": "stdout",
     "output_type": "stream",
     "text": [
      "For epoch 431: \n",
      "{Learning rate: [0.0013918287114542008]}\n"
     ]
    },
    {
     "name": "stderr",
     "output_type": "stream",
     "text": [
      "Train batch number 99: 100%|██████████| 99/99 [00:13<00:00,  7.41batches/s]\n",
      "Test batch number 13: 100%|██████████| 13/13 [00:03<00:00,  3.97batches/s]\n"
     ]
    },
    {
     "name": "stdout",
     "output_type": "stream",
     "text": [
      "\n",
      "Metrics: {'train_loss': 0.006604862076758332, 'test_loss': 2.045734607256376, 'bleu': 21.7621, 'gen_len': 9.8838}\n",
      "\n",
      "=============================\n",
      "\n"
     ]
    },
    {
     "name": "stderr",
     "output_type": "stream",
     "text": [
      " 66%|██████▌   | 131/200 [39:42<21:20, 18.55s/it]"
     ]
    },
    {
     "name": "stdout",
     "output_type": "stream",
     "text": [
      "For epoch 432: \n",
      "{Learning rate: [0.0013860468381692835]}\n"
     ]
    },
    {
     "name": "stderr",
     "output_type": "stream",
     "text": [
      "Train batch number 99: 100%|██████████| 99/99 [00:13<00:00,  7.41batches/s]\n",
      "Test batch number 13: 100%|██████████| 13/13 [00:03<00:00,  3.93batches/s]\n"
     ]
    },
    {
     "name": "stdout",
     "output_type": "stream",
     "text": [
      "\n",
      "Metrics: {'train_loss': 0.006614775222554483, 'test_loss': 2.03748895571782, 'bleu': 21.6301, 'gen_len': 10.0909}\n",
      "\n",
      "=============================\n",
      "\n"
     ]
    },
    {
     "name": "stderr",
     "output_type": "stream",
     "text": [
      " 66%|██████▌   | 132/200 [40:01<20:58, 18.51s/it]"
     ]
    },
    {
     "name": "stdout",
     "output_type": "stream",
     "text": [
      "For epoch 433: \n",
      "{Learning rate: [0.0013802668145979462]}\n"
     ]
    },
    {
     "name": "stderr",
     "output_type": "stream",
     "text": [
      "Train batch number 99: 100%|██████████| 99/99 [00:13<00:00,  7.55batches/s]\n",
      "Test batch number 13: 100%|██████████| 13/13 [00:03<00:00,  3.95batches/s]\n"
     ]
    },
    {
     "name": "stdout",
     "output_type": "stream",
     "text": [
      "\n",
      "Metrics: {'train_loss': 0.006407602517007182, 'test_loss': 2.044415620657114, 'bleu': 21.6413, 'gen_len': 9.8939}\n",
      "\n",
      "=============================\n",
      "\n"
     ]
    },
    {
     "name": "stderr",
     "output_type": "stream",
     "text": [
      " 66%|██████▋   | 133/200 [40:19<20:38, 18.49s/it]"
     ]
    },
    {
     "name": "stdout",
     "output_type": "stream",
     "text": [
      "For epoch 434: \n",
      "{Learning rate: [0.0013744887258610567]}\n"
     ]
    },
    {
     "name": "stderr",
     "output_type": "stream",
     "text": [
      "Train batch number 99: 100%|██████████| 99/99 [00:13<00:00,  7.44batches/s]\n",
      "Test batch number 13: 100%|██████████| 13/13 [00:03<00:00,  3.79batches/s]\n"
     ]
    },
    {
     "name": "stdout",
     "output_type": "stream",
     "text": [
      "\n",
      "Metrics: {'train_loss': 0.006348740084877595, 'test_loss': 2.0606687710835385, 'bleu': 22.1926, 'gen_len': 9.8586}\n",
      "\n",
      "=============================\n",
      "\n"
     ]
    },
    {
     "name": "stderr",
     "output_type": "stream",
     "text": [
      " 67%|██████▋   | 134/200 [40:38<20:20, 18.49s/it]"
     ]
    },
    {
     "name": "stdout",
     "output_type": "stream",
     "text": [
      "For epoch 435: \n",
      "{Learning rate: [0.0013687126570509887]}\n"
     ]
    },
    {
     "name": "stderr",
     "output_type": "stream",
     "text": [
      "Train batch number 99: 100%|██████████| 99/99 [00:13<00:00,  7.43batches/s]\n",
      "Test batch number 13: 100%|██████████| 13/13 [00:03<00:00,  3.93batches/s]\n"
     ]
    },
    {
     "name": "stdout",
     "output_type": "stream",
     "text": [
      "\n",
      "Metrics: {'train_loss': 0.006377226232687444, 'test_loss': 2.035232195487389, 'bleu': 21.8272, 'gen_len': 10.0455}\n",
      "\n",
      "=============================\n",
      "\n"
     ]
    },
    {
     "name": "stderr",
     "output_type": "stream",
     "text": [
      " 68%|██████▊   | 135/200 [40:56<20:00, 18.47s/it]"
     ]
    },
    {
     "name": "stdout",
     "output_type": "stream",
     "text": [
      "For epoch 436: \n",
      "{Learning rate: [0.001362938693230369]}\n"
     ]
    },
    {
     "name": "stderr",
     "output_type": "stream",
     "text": [
      "Train batch number 99: 100%|██████████| 99/99 [00:13<00:00,  7.56batches/s]\n",
      "Test batch number 13: 100%|██████████| 13/13 [00:03<00:00,  3.78batches/s]\n"
     ]
    },
    {
     "name": "stdout",
     "output_type": "stream",
     "text": [
      "\n",
      "Metrics: {'train_loss': 0.006411551408213328, 'test_loss': 2.0320921494410586, 'bleu': 22.1495, 'gen_len': 9.9949}\n",
      "\n",
      "=============================\n",
      "\n"
     ]
    },
    {
     "name": "stderr",
     "output_type": "stream",
     "text": [
      " 68%|██████▊   | 136/200 [41:14<19:39, 18.43s/it]"
     ]
    },
    {
     "name": "stdout",
     "output_type": "stream",
     "text": [
      "For epoch 437: \n",
      "{Learning rate: [0.001357166919430824]}\n"
     ]
    },
    {
     "name": "stderr",
     "output_type": "stream",
     "text": [
      "Train batch number 99: 100%|██████████| 99/99 [00:13<00:00,  7.35batches/s]\n",
      "Test batch number 13: 100%|██████████| 13/13 [00:03<00:00,  3.78batches/s]\n"
     ]
    },
    {
     "name": "stdout",
     "output_type": "stream",
     "text": [
      "\n",
      "Metrics: {'train_loss': 0.00633435653236864, 'test_loss': 2.036895201756404, 'bleu': 22.4482, 'gen_len': 9.9293}\n",
      "\n",
      "=============================\n",
      "\n"
     ]
    },
    {
     "name": "stderr",
     "output_type": "stream",
     "text": [
      " 68%|██████▊   | 137/200 [41:33<19:26, 18.51s/it]"
     ]
    },
    {
     "name": "stdout",
     "output_type": "stream",
     "text": [
      "For epoch 438: \n",
      "{Learning rate: [0.0013513974206517299]}\n"
     ]
    },
    {
     "name": "stderr",
     "output_type": "stream",
     "text": [
      "Train batch number 99: 100%|██████████| 99/99 [00:12<00:00,  7.65batches/s]\n",
      "Test batch number 9:  62%|██████▏   | 8/13 [00:02<00:01,  3.58batches/s]"
     ]
    }
   ],
   "source": [
    "trainer.train(epochs = config['epochs'] - trainer.current_epoch, auto_save=True, metric_for_best_model='bleu', metric_objective='maximize', log_step=1,\n",
    "              saving_directory = config['new_model_dir'])"
   ]
  },
  {
   "cell_type": "markdown",
   "metadata": {},
   "source": [
    "### ---"
   ]
  },
  {
   "cell_type": "code",
   "execution_count": 7,
   "metadata": {},
   "outputs": [
    {
     "name": "stderr",
     "output_type": "stream",
     "text": [
      "  0%|          | 0/60 [00:00<?, ?it/s]/home/ec2-user/anaconda3/envs/pytorch_p310/lib/python3.10/site-packages/torch/optim/lr_scheduler.py:265: UserWarning: To get the last learning rate computed by the scheduler, please use `get_last_lr()`.\n",
      "  warnings.warn(\"To get the last learning rate computed by the scheduler, \"\n"
     ]
    },
    {
     "name": "stdout",
     "output_type": "stream",
     "text": [
      "For epoch 441: \n",
      "{Learning rate: [0.0013341034239208402]}\n"
     ]
    },
    {
     "name": "stderr",
     "output_type": "stream",
     "text": [
      "Train batch number 99: 100%|██████████| 99/99 [00:16<00:00,  6.03batches/s]\n",
      "Test batch number 13: 100%|██████████| 13/13 [00:03<00:00,  3.66batches/s]\n"
     ]
    },
    {
     "name": "stdout",
     "output_type": "stream",
     "text": [
      "\n",
      "Metrics: {'train_loss': 0.006328606113175287, 'test_loss': 2.043260097503662, 'bleu': 21.8211, 'gen_len': 9.6616}\n",
      "\n",
      "=============================\n",
      "\n"
     ]
    },
    {
     "name": "stderr",
     "output_type": "stream",
     "text": [
      "  2%|▏         | 1/60 [00:21<21:27, 21.82s/it]"
     ]
    },
    {
     "name": "stdout",
     "output_type": "stream",
     "text": [
      "For epoch 442: \n",
      "{Learning rate: [0.0013283438745284614]}\n"
     ]
    },
    {
     "name": "stderr",
     "output_type": "stream",
     "text": [
      "Train batch number 99: 100%|██████████| 99/99 [00:15<00:00,  6.31batches/s]\n",
      "Test batch number 13: 100%|██████████| 13/13 [00:03<00:00,  3.60batches/s]\n"
     ]
    },
    {
     "name": "stdout",
     "output_type": "stream",
     "text": [
      "\n",
      "Metrics: {'train_loss': 0.006555903107374719, 'test_loss': 2.0256152886610765, 'bleu': 21.6125, 'gen_len': 9.899}\n",
      "\n",
      "=============================\n",
      "\n"
     ]
    },
    {
     "name": "stderr",
     "output_type": "stream",
     "text": [
      "  3%|▎         | 2/60 [00:42<20:40, 21.38s/it]"
     ]
    },
    {
     "name": "stdout",
     "output_type": "stream",
     "text": [
      "For epoch 443: \n",
      "{Learning rate: [0.0013225870246258377]}\n"
     ]
    },
    {
     "name": "stderr",
     "output_type": "stream",
     "text": [
      "Train batch number 99: 100%|██████████| 99/99 [00:15<00:00,  6.43batches/s]\n",
      "Test batch number 13: 100%|██████████| 13/13 [00:03<00:00,  3.79batches/s]\n"
     ]
    },
    {
     "name": "stdout",
     "output_type": "stream",
     "text": [
      "\n",
      "Metrics: {'train_loss': 0.006214182296646712, 'test_loss': 2.0337428954931407, 'bleu': 21.7323, 'gen_len': 10.0}\n",
      "\n",
      "=============================\n",
      "\n"
     ]
    },
    {
     "name": "stderr",
     "output_type": "stream",
     "text": [
      "  5%|▌         | 3/60 [01:03<20:04, 21.13s/it]"
     ]
    },
    {
     "name": "stdout",
     "output_type": "stream",
     "text": [
      "For epoch 444: \n",
      "{Learning rate: [0.0013168329589925629]}\n"
     ]
    },
    {
     "name": "stderr",
     "output_type": "stream",
     "text": [
      "Train batch number 99: 100%|██████████| 99/99 [00:15<00:00,  6.41batches/s]\n",
      "Test batch number 13: 100%|██████████| 13/13 [00:03<00:00,  3.69batches/s]\n"
     ]
    },
    {
     "name": "stdout",
     "output_type": "stream",
     "text": [
      "\n",
      "Metrics: {'train_loss': 0.006293050629072682, 'test_loss': 2.0345113369134755, 'bleu': 21.7616, 'gen_len': 9.9444}\n",
      "\n",
      "=============================\n",
      "\n"
     ]
    },
    {
     "name": "stderr",
     "output_type": "stream",
     "text": [
      "  7%|▋         | 4/60 [01:24<19:36, 21.00s/it]"
     ]
    },
    {
     "name": "stdout",
     "output_type": "stream",
     "text": [
      "For epoch 445: \n",
      "{Learning rate: [0.0013110817623672294]}\n"
     ]
    },
    {
     "name": "stderr",
     "output_type": "stream",
     "text": [
      "Train batch number 99: 100%|██████████| 99/99 [00:15<00:00,  6.41batches/s]\n",
      "Test batch number 13: 100%|██████████| 13/13 [00:03<00:00,  3.87batches/s]\n"
     ]
    },
    {
     "name": "stdout",
     "output_type": "stream",
     "text": [
      "\n",
      "Metrics: {'train_loss': 0.006173256362671964, 'test_loss': 2.047312232164236, 'bleu': 21.6176, 'gen_len': 9.8687}\n",
      "\n",
      "=============================\n",
      "\n"
     ]
    },
    {
     "name": "stderr",
     "output_type": "stream",
     "text": [
      "  8%|▊         | 5/60 [01:45<19:07, 20.86s/it]"
     ]
    },
    {
     "name": "stdout",
     "output_type": "stream",
     "text": [
      "For epoch 446: \n",
      "{Learning rate: [0.0013053335194461789]}\n"
     ]
    },
    {
     "name": "stderr",
     "output_type": "stream",
     "text": [
      "Train batch number 99: 100%|██████████| 99/99 [00:15<00:00,  6.43batches/s]\n",
      "Test batch number 13: 100%|██████████| 13/13 [00:03<00:00,  3.69batches/s]\n"
     ]
    },
    {
     "name": "stdout",
     "output_type": "stream",
     "text": [
      "\n",
      "Metrics: {'train_loss': 0.006280562929477486, 'test_loss': 2.0542474343226504, 'bleu': 21.7982, 'gen_len': 9.8737}\n",
      "\n",
      "=============================\n",
      "\n"
     ]
    },
    {
     "name": "stderr",
     "output_type": "stream",
     "text": [
      " 10%|█         | 6/60 [02:05<18:43, 20.81s/it]"
     ]
    },
    {
     "name": "stdout",
     "output_type": "stream",
     "text": [
      "For epoch 447: \n",
      "{Learning rate: [0.0012995883148822517]}\n"
     ]
    },
    {
     "name": "stderr",
     "output_type": "stream",
     "text": [
      "Train batch number 99: 100%|██████████| 99/99 [00:15<00:00,  6.39batches/s]\n",
      "Test batch number 13: 100%|██████████| 13/13 [00:03<00:00,  3.67batches/s]\n"
     ]
    },
    {
     "name": "stdout",
     "output_type": "stream",
     "text": [
      "\n",
      "Metrics: {'train_loss': 0.006289131466547413, 'test_loss': 2.03075635433197, 'bleu': 21.9715, 'gen_len': 9.798}\n",
      "\n",
      "=============================\n",
      "\n"
     ]
    },
    {
     "name": "stderr",
     "output_type": "stream",
     "text": [
      " 12%|█▏        | 7/60 [02:26<18:23, 20.82s/it]"
     ]
    },
    {
     "name": "stdout",
     "output_type": "stream",
     "text": [
      "For epoch 448: \n",
      "{Learning rate: [0.0012938462332835467]}\n"
     ]
    },
    {
     "name": "stderr",
     "output_type": "stream",
     "text": [
      "Train batch number 99: 100%|██████████| 99/99 [00:15<00:00,  6.38batches/s]\n",
      "Test batch number 13: 100%|██████████| 13/13 [00:03<00:00,  3.84batches/s]\n"
     ]
    },
    {
     "name": "stdout",
     "output_type": "stream",
     "text": [
      "\n",
      "Metrics: {'train_loss': 0.006562920858891859, 'test_loss': 2.0250823497772217, 'bleu': 22.6805, 'gen_len': 9.6919}\n",
      "\n",
      "=============================\n",
      "\n"
     ]
    },
    {
     "name": "stderr",
     "output_type": "stream",
     "text": [
      " 13%|█▎        | 8/60 [02:47<18:01, 20.80s/it]"
     ]
    },
    {
     "name": "stdout",
     "output_type": "stream",
     "text": [
      "For epoch 449: \n",
      "{Learning rate: [0.0012881073592121688]}\n"
     ]
    },
    {
     "name": "stderr",
     "output_type": "stream",
     "text": [
      "Train batch number 99: 100%|██████████| 99/99 [00:15<00:00,  6.44batches/s]\n",
      "Test batch number 13: 100%|██████████| 13/13 [00:03<00:00,  3.68batches/s]\n"
     ]
    },
    {
     "name": "stdout",
     "output_type": "stream",
     "text": [
      "\n",
      "Metrics: {'train_loss': 0.006106240705280056, 'test_loss': 2.0266928305992713, 'bleu': 21.8802, 'gen_len': 9.9141}\n",
      "\n",
      "=============================\n",
      "\n"
     ]
    },
    {
     "name": "stderr",
     "output_type": "stream",
     "text": [
      " 15%|█▌        | 9/60 [03:08<17:39, 20.78s/it]"
     ]
    },
    {
     "name": "stdout",
     "output_type": "stream",
     "text": [
      "For epoch 450: \n",
      "{Learning rate: [0.0012823717771829886]}\n"
     ]
    },
    {
     "name": "stderr",
     "output_type": "stream",
     "text": [
      "Train batch number 99: 100%|██████████| 99/99 [00:15<00:00,  6.47batches/s]\n",
      "Test batch number 13: 100%|██████████| 13/13 [00:03<00:00,  3.69batches/s]\n"
     ]
    },
    {
     "name": "stdout",
     "output_type": "stream",
     "text": [
      "\n",
      "Metrics: {'train_loss': 0.006268926557051159, 'test_loss': 2.021481513977051, 'bleu': 22.2479, 'gen_len': 9.9242}\n",
      "\n",
      "=============================\n",
      "\n"
     ]
    },
    {
     "name": "stderr",
     "output_type": "stream",
     "text": [
      " 17%|█▋        | 10/60 [03:28<17:16, 20.74s/it]"
     ]
    },
    {
     "name": "stdout",
     "output_type": "stream",
     "text": [
      "For epoch 451: \n",
      "{Learning rate: [0.0012766395716623943]}\n"
     ]
    },
    {
     "name": "stderr",
     "output_type": "stream",
     "text": [
      "Train batch number 99: 100%|██████████| 99/99 [00:15<00:00,  6.39batches/s]\n",
      "Test batch number 13: 100%|██████████| 13/13 [00:03<00:00,  3.71batches/s]\n"
     ]
    },
    {
     "name": "stdout",
     "output_type": "stream",
     "text": [
      "\n",
      "Metrics: {'train_loss': 0.006247424436768404, 'test_loss': 2.032879279210017, 'bleu': 22.0973, 'gen_len': 9.8737}\n",
      "\n",
      "=============================\n",
      "\n"
     ]
    },
    {
     "name": "stderr",
     "output_type": "stream",
     "text": [
      " 18%|█▊        | 11/60 [03:49<16:56, 20.75s/it]"
     ]
    },
    {
     "name": "stdout",
     "output_type": "stream",
     "text": [
      "For epoch 452: \n",
      "{Learning rate: [0.001270910827067049]}\n"
     ]
    },
    {
     "name": "stderr",
     "output_type": "stream",
     "text": [
      "Train batch number 99: 100%|██████████| 99/99 [00:15<00:00,  6.52batches/s]\n",
      "Test batch number 13: 100%|██████████| 13/13 [00:03<00:00,  3.78batches/s]\n"
     ]
    },
    {
     "name": "stdout",
     "output_type": "stream",
     "text": [
      "\n",
      "Metrics: {'train_loss': 0.00617006814990409, 'test_loss': 2.032125243773827, 'bleu': 21.5867, 'gen_len': 9.798}\n",
      "\n",
      "=============================\n",
      "\n"
     ]
    },
    {
     "name": "stderr",
     "output_type": "stream",
     "text": [
      " 20%|██        | 12/60 [04:10<16:31, 20.65s/it]"
     ]
    },
    {
     "name": "stdout",
     "output_type": "stream",
     "text": [
      "For epoch 453: \n",
      "{Learning rate: [0.0012651856277626492]}\n"
     ]
    },
    {
     "name": "stderr",
     "output_type": "stream",
     "text": [
      "Train batch number 99: 100%|██████████| 99/99 [00:15<00:00,  6.39batches/s]\n",
      "Test batch number 13: 100%|██████████| 13/13 [00:03<00:00,  3.69batches/s]\n"
     ]
    },
    {
     "name": "stdout",
     "output_type": "stream",
     "text": [
      "\n",
      "Metrics: {'train_loss': 0.006500164985114643, 'test_loss': 2.017450754459088, 'bleu': 21.5712, 'gen_len': 9.8586}\n",
      "\n",
      "=============================\n",
      "\n"
     ]
    },
    {
     "name": "stderr",
     "output_type": "stream",
     "text": [
      " 22%|██▏       | 13/60 [04:30<16:13, 20.72s/it]"
     ]
    },
    {
     "name": "stdout",
     "output_type": "stream",
     "text": [
      "For epoch 454: \n",
      "{Learning rate: [0.0012594640580626802]}\n"
     ]
    },
    {
     "name": "stderr",
     "output_type": "stream",
     "text": [
      "Train batch number 99: 100%|██████████| 99/99 [00:15<00:00,  6.44batches/s]\n",
      "Test batch number 13: 100%|██████████| 13/13 [00:03<00:00,  3.79batches/s]\n"
     ]
    },
    {
     "name": "stdout",
     "output_type": "stream",
     "text": [
      "\n",
      "Metrics: {'train_loss': 0.006100586345042996, 'test_loss': 2.0263917171038113, 'bleu': 22.0473, 'gen_len': 9.7879}\n",
      "\n",
      "=============================\n",
      "\n"
     ]
    },
    {
     "name": "stderr",
     "output_type": "stream",
     "text": [
      " 23%|██▎       | 14/60 [04:51<15:52, 20.70s/it]"
     ]
    },
    {
     "name": "stdout",
     "output_type": "stream",
     "text": [
      "For epoch 455: \n",
      "{Learning rate: [0.0012537462022271738]}\n"
     ]
    },
    {
     "name": "stderr",
     "output_type": "stream",
     "text": [
      "Train batch number 99: 100%|██████████| 99/99 [00:15<00:00,  6.48batches/s]\n",
      "Test batch number 13: 100%|██████████| 13/13 [00:03<00:00,  3.81batches/s]\n"
     ]
    },
    {
     "name": "stdout",
     "output_type": "stream",
     "text": [
      "\n",
      "Metrics: {'train_loss': 0.006146155079918433, 'test_loss': 2.027919356639569, 'bleu': 21.8373, 'gen_len': 9.8384}\n",
      "\n",
      "=============================\n",
      "\n"
     ]
    },
    {
     "name": "stderr",
     "output_type": "stream",
     "text": [
      " 25%|██▌       | 15/60 [05:12<15:29, 20.65s/it]"
     ]
    },
    {
     "name": "stdout",
     "output_type": "stream",
     "text": [
      "For epoch 456: \n",
      "{Learning rate: [0.0012480321444614708]}\n"
     ]
    },
    {
     "name": "stderr",
     "output_type": "stream",
     "text": [
      "Train batch number 99: 100%|██████████| 99/99 [00:15<00:00,  6.38batches/s]\n",
      "Test batch number 13: 100%|██████████| 13/13 [00:03<00:00,  3.72batches/s]\n"
     ]
    },
    {
     "name": "stdout",
     "output_type": "stream",
     "text": [
      "\n",
      "Metrics: {'train_loss': 0.006009855153153161, 'test_loss': 2.0312077540617723, 'bleu': 21.6842, 'gen_len': 9.9444}\n",
      "\n",
      "=============================\n",
      "\n"
     ]
    },
    {
     "name": "stderr",
     "output_type": "stream",
     "text": [
      " 27%|██▋       | 16/60 [05:32<15:11, 20.71s/it]"
     ]
    },
    {
     "name": "stdout",
     "output_type": "stream",
     "text": [
      "For epoch 457: \n",
      "{Learning rate: [0.001242321968914977]}\n"
     ]
    },
    {
     "name": "stderr",
     "output_type": "stream",
     "text": [
      "Train batch number 99: 100%|██████████| 99/99 [00:16<00:00,  6.06batches/s]\n",
      "Test batch number 13: 100%|██████████| 13/13 [00:03<00:00,  3.83batches/s]\n"
     ]
    },
    {
     "name": "stdout",
     "output_type": "stream",
     "text": [
      "\n",
      "Metrics: {'train_loss': 0.006096261535974624, 'test_loss': 2.024735615803645, 'bleu': 21.884, 'gen_len': 9.8687}\n",
      "\n",
      "=============================\n",
      "\n"
     ]
    },
    {
     "name": "stderr",
     "output_type": "stream",
     "text": [
      " 28%|██▊       | 17/60 [05:54<15:02, 20.99s/it]"
     ]
    },
    {
     "name": "stdout",
     "output_type": "stream",
     "text": [
      "For epoch 458: \n",
      "{Learning rate: [0.0012366157596799265]}\n"
     ]
    },
    {
     "name": "stderr",
     "output_type": "stream",
     "text": [
      "Train batch number 99: 100%|██████████| 99/99 [00:15<00:00,  6.41batches/s]\n",
      "Test batch number 13: 100%|██████████| 13/13 [00:03<00:00,  3.86batches/s]\n"
     ]
    },
    {
     "name": "stdout",
     "output_type": "stream",
     "text": [
      "\n",
      "Metrics: {'train_loss': 0.005960100582939563, 'test_loss': 2.02385137631343, 'bleu': 21.8892, 'gen_len': 9.8636}\n",
      "\n",
      "=============================\n",
      "\n"
     ]
    },
    {
     "name": "stderr",
     "output_type": "stream",
     "text": [
      " 30%|███       | 18/60 [06:15<14:36, 20.87s/it]"
     ]
    },
    {
     "name": "stdout",
     "output_type": "stream",
     "text": [
      "For epoch 459: \n",
      "{Learning rate: [0.0012309136007901435]}\n"
     ]
    },
    {
     "name": "stderr",
     "output_type": "stream",
     "text": [
      "Train batch number 99: 100%|██████████| 99/99 [00:15<00:00,  6.54batches/s]\n",
      "Test batch number 13: 100%|██████████| 13/13 [00:03<00:00,  3.82batches/s]\n"
     ]
    },
    {
     "name": "stdout",
     "output_type": "stream",
     "text": [
      "\n",
      "Metrics: {'train_loss': 0.006115217823088357, 'test_loss': 2.0251689232312717, 'bleu': 22.0194, 'gen_len': 9.7879}\n",
      "\n",
      "=============================\n",
      "\n"
     ]
    },
    {
     "name": "stderr",
     "output_type": "stream",
     "text": [
      " 32%|███▏      | 19/60 [06:35<14:09, 20.73s/it]"
     ]
    },
    {
     "name": "stdout",
     "output_type": "stream",
     "text": [
      "For epoch 460: \n",
      "{Learning rate: [0.0012252155762198017]}\n"
     ]
    },
    {
     "name": "stderr",
     "output_type": "stream",
     "text": [
      "Train batch number 99: 100%|██████████| 99/99 [00:16<00:00,  6.16batches/s]\n",
      "Test batch number 13: 100%|██████████| 13/13 [00:03<00:00,  3.90batches/s]\n"
     ]
    },
    {
     "name": "stdout",
     "output_type": "stream",
     "text": [
      "\n",
      "Metrics: {'train_loss': 0.006129653660187761, 'test_loss': 2.0336430164483876, 'bleu': 21.9923, 'gen_len': 9.8838}\n",
      "\n",
      "=============================\n",
      "\n"
     ]
    },
    {
     "name": "stderr",
     "output_type": "stream",
     "text": [
      " 33%|███▎      | 20/60 [06:56<13:56, 20.90s/it]"
     ]
    },
    {
     "name": "stdout",
     "output_type": "stream",
     "text": [
      "For epoch 461: \n",
      "{Learning rate: [0.0012195217698821917]}\n"
     ]
    },
    {
     "name": "stderr",
     "output_type": "stream",
     "text": [
      "Train batch number 99: 100%|██████████| 99/99 [00:15<00:00,  6.34batches/s]\n",
      "Test batch number 13: 100%|██████████| 13/13 [00:03<00:00,  3.80batches/s]\n"
     ]
    },
    {
     "name": "stdout",
     "output_type": "stream",
     "text": [
      "\n",
      "Metrics: {'train_loss': 0.005958576168396952, 'test_loss': 2.039757040830759, 'bleu': 22.1722, 'gen_len': 9.7323}\n",
      "\n",
      "=============================\n",
      "\n"
     ]
    },
    {
     "name": "stderr",
     "output_type": "stream",
     "text": [
      " 35%|███▌      | 21/60 [07:17<13:35, 20.90s/it]"
     ]
    },
    {
     "name": "stdout",
     "output_type": "stream",
     "text": [
      "For epoch 462: \n",
      "{Learning rate: [0.0012138322656284838]}\n"
     ]
    },
    {
     "name": "stderr",
     "output_type": "stream",
     "text": [
      "Train batch number 99: 100%|██████████| 99/99 [00:15<00:00,  6.49batches/s]\n",
      "Test batch number 13: 100%|██████████| 13/13 [00:03<00:00,  3.77batches/s]\n"
     ]
    },
    {
     "name": "stdout",
     "output_type": "stream",
     "text": [
      "\n",
      "Metrics: {'train_loss': 0.00615845524912907, 'test_loss': 2.0428819472973165, 'bleu': 21.9035, 'gen_len': 9.8232}\n",
      "\n",
      "=============================\n",
      "\n"
     ]
    },
    {
     "name": "stderr",
     "output_type": "stream",
     "text": [
      " 37%|███▋      | 22/60 [07:38<13:10, 20.79s/it]"
     ]
    },
    {
     "name": "stdout",
     "output_type": "stream",
     "text": [
      "For epoch 463: \n",
      "{Learning rate: [0.00120814714724649]}\n"
     ]
    },
    {
     "name": "stderr",
     "output_type": "stream",
     "text": [
      "Train batch number 99: 100%|██████████| 99/99 [00:15<00:00,  6.50batches/s]\n",
      "Test batch number 13: 100%|██████████| 13/13 [00:03<00:00,  3.78batches/s]\n"
     ]
    },
    {
     "name": "stdout",
     "output_type": "stream",
     "text": [
      "\n",
      "Metrics: {'train_loss': 0.00613508762226139, 'test_loss': 2.0357183584800134, 'bleu': 22.0524, 'gen_len': 9.7677}\n",
      "\n",
      "=============================\n",
      "\n"
     ]
    },
    {
     "name": "stderr",
     "output_type": "stream",
     "text": [
      " 38%|███▊      | 23/60 [07:58<12:46, 20.70s/it]"
     ]
    },
    {
     "name": "stdout",
     "output_type": "stream",
     "text": [
      "For epoch 464: \n",
      "{Learning rate: [0.0012024664984594344]}\n"
     ]
    },
    {
     "name": "stderr",
     "output_type": "stream",
     "text": [
      "Train batch number 99: 100%|██████████| 99/99 [00:15<00:00,  6.34batches/s]\n",
      "Test batch number 13: 100%|██████████| 13/13 [00:03<00:00,  3.94batches/s]\n"
     ]
    },
    {
     "name": "stdout",
     "output_type": "stream",
     "text": [
      "\n",
      "Metrics: {'train_loss': 0.00615056805815924, 'test_loss': 2.0417174100875854, 'bleu': 21.1747, 'gen_len': 9.8283}\n",
      "\n",
      "=============================\n",
      "\n"
     ]
    },
    {
     "name": "stderr",
     "output_type": "stream",
     "text": [
      " 40%|████      | 24/60 [08:19<12:25, 20.72s/it]"
     ]
    },
    {
     "name": "stdout",
     "output_type": "stream",
     "text": [
      "For epoch 465: \n",
      "{Learning rate: [0.0011967904029247197]}\n"
     ]
    },
    {
     "name": "stderr",
     "output_type": "stream",
     "text": [
      "Train batch number 99: 100%|██████████| 99/99 [00:15<00:00,  6.43batches/s]\n",
      "Test batch number 13: 100%|██████████| 13/13 [00:03<00:00,  3.91batches/s]\n"
     ]
    },
    {
     "name": "stdout",
     "output_type": "stream",
     "text": [
      "\n",
      "Metrics: {'train_loss': 0.005991279325128129, 'test_loss': 2.0436188899553738, 'bleu': 21.1649, 'gen_len': 9.803}\n",
      "\n",
      "=============================\n",
      "\n"
     ]
    },
    {
     "name": "stderr",
     "output_type": "stream",
     "text": [
      " 42%|████▏     | 25/60 [08:40<12:03, 20.67s/it]"
     ]
    },
    {
     "name": "stdout",
     "output_type": "stream",
     "text": [
      "For epoch 466: \n",
      "{Learning rate: [0.0011911189442326913]}\n"
     ]
    },
    {
     "name": "stderr",
     "output_type": "stream",
     "text": [
      "Train batch number 99: 100%|██████████| 99/99 [00:15<00:00,  6.51batches/s]\n",
      "Test batch number 13: 100%|██████████| 13/13 [00:03<00:00,  3.71batches/s]\n"
     ]
    },
    {
     "name": "stdout",
     "output_type": "stream",
     "text": [
      "\n",
      "Metrics: {'train_loss': 0.006035979703125177, 'test_loss': 2.0446885090607863, 'bleu': 21.0047, 'gen_len': 9.8737}\n",
      "\n",
      "=============================\n",
      "\n"
     ]
    },
    {
     "name": "stderr",
     "output_type": "stream",
     "text": [
      " 43%|████▎     | 26/60 [09:00<11:41, 20.65s/it]"
     ]
    },
    {
     "name": "stdout",
     "output_type": "stream",
     "text": [
      "For epoch 467: \n",
      "{Learning rate: [0.0011854522059054117]}\n"
     ]
    },
    {
     "name": "stderr",
     "output_type": "stream",
     "text": [
      "Train batch number 99: 100%|██████████| 99/99 [00:15<00:00,  6.43batches/s]\n",
      "Test batch number 13: 100%|██████████| 13/13 [00:03<00:00,  3.78batches/s]\n"
     ]
    },
    {
     "name": "stdout",
     "output_type": "stream",
     "text": [
      "\n",
      "Metrics: {'train_loss': 0.006097526535067844, 'test_loss': 2.0486340889563928, 'bleu': 21.1333, 'gen_len': 9.7273}\n",
      "\n",
      "=============================\n",
      "\n"
     ]
    },
    {
     "name": "stderr",
     "output_type": "stream",
     "text": [
      " 45%|████▌     | 27/60 [09:21<11:21, 20.66s/it]"
     ]
    },
    {
     "name": "stdout",
     "output_type": "stream",
     "text": [
      "For epoch 468: \n",
      "{Learning rate: [0.0011797902713954257]}\n"
     ]
    },
    {
     "name": "stderr",
     "output_type": "stream",
     "text": [
      "Train batch number 99: 100%|██████████| 99/99 [00:15<00:00,  6.25batches/s]\n",
      "Test batch number 13: 100%|██████████| 13/13 [00:03<00:00,  3.59batches/s]\n"
     ]
    },
    {
     "name": "stdout",
     "output_type": "stream",
     "text": [
      "\n",
      "Metrics: {'train_loss': 0.005856429243894209, 'test_loss': 2.049155987226046, 'bleu': 21.2026, 'gen_len': 9.803}\n",
      "\n",
      "=============================\n",
      "\n"
     ]
    },
    {
     "name": "stderr",
     "output_type": "stream",
     "text": [
      " 47%|████▋     | 28/60 [09:42<11:07, 20.86s/it]"
     ]
    },
    {
     "name": "stdout",
     "output_type": "stream",
     "text": [
      "For epoch 469: \n",
      "{Learning rate: [0.0011741332240845352]}\n"
     ]
    },
    {
     "name": "stderr",
     "output_type": "stream",
     "text": [
      "Train batch number 99: 100%|██████████| 99/99 [00:15<00:00,  6.46batches/s]\n",
      "Test batch number 13: 100%|██████████| 13/13 [00:03<00:00,  3.74batches/s]\n"
     ]
    },
    {
     "name": "stdout",
     "output_type": "stream",
     "text": [
      "\n",
      "Metrics: {'train_loss': 0.006003565176577082, 'test_loss': 2.050234785446754, 'bleu': 21.4157, 'gen_len': 9.8636}\n",
      "\n",
      "=============================\n",
      "\n"
     ]
    },
    {
     "name": "stderr",
     "output_type": "stream",
     "text": [
      " 48%|████▊     | 29/60 [10:03<10:44, 20.79s/it]"
     ]
    },
    {
     "name": "stdout",
     "output_type": "stream",
     "text": [
      "For epoch 470: \n",
      "{Learning rate: [0.0011684811472825692]}\n"
     ]
    },
    {
     "name": "stderr",
     "output_type": "stream",
     "text": [
      "Train batch number 99: 100%|██████████| 99/99 [00:15<00:00,  6.50batches/s]\n",
      "Test batch number 13: 100%|██████████| 13/13 [00:03<00:00,  3.85batches/s]\n"
     ]
    },
    {
     "name": "stdout",
     "output_type": "stream",
     "text": [
      "\n",
      "Metrics: {'train_loss': 0.005942327029928988, 'test_loss': 2.0440820272152243, 'bleu': 21.7616, 'gen_len': 9.9293}\n",
      "\n",
      "=============================\n",
      "\n"
     ]
    },
    {
     "name": "stderr",
     "output_type": "stream",
     "text": [
      " 50%|█████     | 30/60 [10:23<10:20, 20.69s/it]"
     ]
    },
    {
     "name": "stdout",
     "output_type": "stream",
     "text": [
      "For epoch 471: \n",
      "{Learning rate: [0.0011628341242261569]}\n"
     ]
    },
    {
     "name": "stderr",
     "output_type": "stream",
     "text": [
      "Train batch number 99: 100%|██████████| 99/99 [00:15<00:00,  6.49batches/s]\n",
      "Test batch number 13: 100%|██████████| 13/13 [00:03<00:00,  3.79batches/s]\n"
     ]
    },
    {
     "name": "stdout",
     "output_type": "stream",
     "text": [
      "\n",
      "Metrics: {'train_loss': 0.005925997292665256, 'test_loss': 2.0422593721976647, 'bleu': 21.1706, 'gen_len': 10.0}\n",
      "\n",
      "=============================\n",
      "\n"
     ]
    },
    {
     "name": "stderr",
     "output_type": "stream",
     "text": [
      " 52%|█████▏    | 31/60 [10:44<09:58, 20.63s/it]"
     ]
    },
    {
     "name": "stdout",
     "output_type": "stream",
     "text": [
      "For epoch 472: \n",
      "{Learning rate: [0.0011571922380775018]}\n"
     ]
    },
    {
     "name": "stderr",
     "output_type": "stream",
     "text": [
      "Train batch number 99: 100%|██████████| 99/99 [00:15<00:00,  6.31batches/s]\n",
      "Test batch number 13: 100%|██████████| 13/13 [00:03<00:00,  3.89batches/s]\n"
     ]
    },
    {
     "name": "stdout",
     "output_type": "stream",
     "text": [
      "\n",
      "Metrics: {'train_loss': 0.005963738783994087, 'test_loss': 2.053432528789227, 'bleu': 21.4018, 'gen_len': 9.8788}\n",
      "\n",
      "=============================\n",
      "\n"
     ]
    },
    {
     "name": "stderr",
     "output_type": "stream",
     "text": [
      " 53%|█████▎    | 32/60 [11:05<09:39, 20.70s/it]"
     ]
    },
    {
     "name": "stdout",
     "output_type": "stream",
     "text": [
      "For epoch 473: \n",
      "{Learning rate: [0.0011515555719231597]}\n"
     ]
    },
    {
     "name": "stderr",
     "output_type": "stream",
     "text": [
      "Train batch number 99: 100%|██████████| 99/99 [00:15<00:00,  6.43batches/s]\n",
      "Test batch number 13: 100%|██████████| 13/13 [00:03<00:00,  3.85batches/s]\n"
     ]
    },
    {
     "name": "stdout",
     "output_type": "stream",
     "text": [
      "\n",
      "Metrics: {'train_loss': 0.006041099761866711, 'test_loss': 2.0556310415267944, 'bleu': 21.2434, 'gen_len': 9.9444}\n",
      "\n",
      "=============================\n",
      "\n"
     ]
    },
    {
     "name": "stderr",
     "output_type": "stream",
     "text": [
      " 55%|█████▌    | 33/60 [11:25<09:18, 20.67s/it]"
     ]
    },
    {
     "name": "stdout",
     "output_type": "stream",
     "text": [
      "For epoch 474: \n",
      "{Learning rate: [0.0011459242087728102]}\n"
     ]
    },
    {
     "name": "stderr",
     "output_type": "stream",
     "text": [
      "Train batch number 99: 100%|██████████| 99/99 [00:15<00:00,  6.41batches/s]\n",
      "Test batch number 13: 100%|██████████| 13/13 [00:03<00:00,  3.81batches/s]\n"
     ]
    },
    {
     "name": "stdout",
     "output_type": "stream",
     "text": [
      "\n",
      "Metrics: {'train_loss': 0.006115142777391634, 'test_loss': 2.0476642663662252, 'bleu': 21.4377, 'gen_len': 9.8737}\n",
      "\n",
      "=============================\n",
      "\n"
     ]
    },
    {
     "name": "stderr",
     "output_type": "stream",
     "text": [
      " 57%|█████▋    | 34/60 [11:46<08:57, 20.68s/it]"
     ]
    },
    {
     "name": "stdout",
     "output_type": "stream",
     "text": [
      "For epoch 475: \n",
      "{Learning rate: [0.0011402982315580395]}\n"
     ]
    },
    {
     "name": "stderr",
     "output_type": "stream",
     "text": [
      "Train batch number 99: 100%|██████████| 99/99 [00:15<00:00,  6.45batches/s]\n",
      "Test batch number 13: 100%|██████████| 13/13 [00:03<00:00,  3.83batches/s]\n"
     ]
    },
    {
     "name": "stdout",
     "output_type": "stream",
     "text": [
      "\n",
      "Metrics: {'train_loss': 0.00597580711767689, 'test_loss': 2.041832364522494, 'bleu': 21.4762, 'gen_len': 9.8333}\n",
      "\n",
      "=============================\n",
      "\n"
     ]
    },
    {
     "name": "stderr",
     "output_type": "stream",
     "text": [
      " 58%|█████▊    | 35/60 [12:07<08:36, 20.65s/it]"
     ]
    },
    {
     "name": "stdout",
     "output_type": "stream",
     "text": [
      "For epoch 476: \n",
      "{Learning rate: [0.0011346777231311142]}\n"
     ]
    },
    {
     "name": "stderr",
     "output_type": "stream",
     "text": [
      "Train batch number 99: 100%|██████████| 99/99 [00:15<00:00,  6.47batches/s]\n",
      "Test batch number 13: 100%|██████████| 13/13 [00:03<00:00,  3.72batches/s]\n"
     ]
    },
    {
     "name": "stdout",
     "output_type": "stream",
     "text": [
      "\n",
      "Metrics: {'train_loss': 0.005955551696131053, 'test_loss': 2.044365571095393, 'bleu': 21.2081, 'gen_len': 9.8434}\n",
      "\n",
      "=============================\n",
      "\n"
     ]
    },
    {
     "name": "stderr",
     "output_type": "stream",
     "text": [
      " 60%|██████    | 36/60 [12:27<08:15, 20.63s/it]"
     ]
    },
    {
     "name": "stdout",
     "output_type": "stream",
     "text": [
      "For epoch 477: \n",
      "{Learning rate: [0.0011290627662637657]}\n"
     ]
    },
    {
     "name": "stderr",
     "output_type": "stream",
     "text": [
      "Train batch number 99: 100%|██████████| 99/99 [00:15<00:00,  6.33batches/s]\n",
      "Test batch number 13: 100%|██████████| 13/13 [00:03<00:00,  3.84batches/s]\n"
     ]
    },
    {
     "name": "stdout",
     "output_type": "stream",
     "text": [
      "\n",
      "Metrics: {'train_loss': 0.005868057562055941, 'test_loss': 2.0436915159225464, 'bleu': 20.8553, 'gen_len': 9.9293}\n",
      "\n",
      "=============================\n",
      "\n"
     ]
    },
    {
     "name": "stderr",
     "output_type": "stream",
     "text": [
      " 62%|██████▏   | 37/60 [12:48<07:56, 20.71s/it]"
     ]
    },
    {
     "name": "stdout",
     "output_type": "stream",
     "text": [
      "For epoch 478: \n",
      "{Learning rate: [0.0011234534436459674]}\n"
     ]
    },
    {
     "name": "stderr",
     "output_type": "stream",
     "text": [
      "Train batch number 99: 100%|██████████| 99/99 [00:15<00:00,  6.39batches/s]\n",
      "Test batch number 13: 100%|██████████| 13/13 [00:03<00:00,  3.63batches/s]\n"
     ]
    },
    {
     "name": "stdout",
     "output_type": "stream",
     "text": [
      "\n",
      "Metrics: {'train_loss': 0.0060881945009712566, 'test_loss': 2.0415911949597874, 'bleu': 20.7341, 'gen_len': 9.9747}\n",
      "\n",
      "=============================\n",
      "\n"
     ]
    },
    {
     "name": "stderr",
     "output_type": "stream",
     "text": [
      " 63%|██████▎   | 38/60 [13:09<07:36, 20.77s/it]"
     ]
    },
    {
     "name": "stdout",
     "output_type": "stream",
     "text": [
      "For epoch 479: \n",
      "{Learning rate: [0.0011178498378847195]}\n"
     ]
    },
    {
     "name": "stderr",
     "output_type": "stream",
     "text": [
      "Train batch number 99: 100%|██████████| 99/99 [00:16<00:00,  6.09batches/s]\n",
      "Test batch number 13: 100%|██████████| 13/13 [00:03<00:00,  3.88batches/s]\n"
     ]
    },
    {
     "name": "stdout",
     "output_type": "stream",
     "text": [
      "\n",
      "Metrics: {'train_loss': 0.0059327498447876706, 'test_loss': 2.0384201269883375, 'bleu': 21.4562, 'gen_len': 9.8232}\n",
      "\n",
      "=============================\n",
      "\n"
     ]
    },
    {
     "name": "stderr",
     "output_type": "stream",
     "text": [
      " 65%|██████▌   | 39/60 [13:30<07:20, 20.98s/it]"
     ]
    },
    {
     "name": "stdout",
     "output_type": "stream",
     "text": [
      "For epoch 480: \n",
      "{Learning rate: [0.0011122520315028307]}\n"
     ]
    },
    {
     "name": "stderr",
     "output_type": "stream",
     "text": [
      "Train batch number 99: 100%|██████████| 99/99 [00:15<00:00,  6.40batches/s]\n",
      "Test batch number 13: 100%|██████████| 13/13 [00:03<00:00,  3.63batches/s]\n"
     ]
    },
    {
     "name": "stdout",
     "output_type": "stream",
     "text": [
      "\n",
      "Metrics: {'train_loss': 0.005840122995332514, 'test_loss': 2.04245349077078, 'bleu': 20.9369, 'gen_len': 9.9192}\n",
      "\n",
      "=============================\n",
      "\n"
     ]
    },
    {
     "name": "stderr",
     "output_type": "stream",
     "text": [
      " 67%|██████▋   | 40/60 [13:51<06:59, 20.97s/it]"
     ]
    },
    {
     "name": "stdout",
     "output_type": "stream",
     "text": [
      "For epoch 481: \n",
      "{Learning rate: [0.0011066601069377058]}\n"
     ]
    },
    {
     "name": "stderr",
     "output_type": "stream",
     "text": [
      "Train batch number 99: 100%|██████████| 99/99 [00:15<00:00,  6.44batches/s]\n",
      "Test batch number 13: 100%|██████████| 13/13 [00:03<00:00,  3.70batches/s]\n"
     ]
    },
    {
     "name": "stdout",
     "output_type": "stream",
     "text": [
      "\n",
      "Metrics: {'train_loss': 0.005781245858713072, 'test_loss': 2.0420048511945286, 'bleu': 20.8731, 'gen_len': 9.8636}\n",
      "\n",
      "=============================\n",
      "\n"
     ]
    },
    {
     "name": "stderr",
     "output_type": "stream",
     "text": [
      " 68%|██████▊   | 41/60 [14:12<06:36, 20.89s/it]"
     ]
    },
    {
     "name": "stdout",
     "output_type": "stream",
     "text": [
      "For epoch 482: \n",
      "{Learning rate: [0.0011010741465401269]}\n"
     ]
    },
    {
     "name": "stderr",
     "output_type": "stream",
     "text": [
      "Train batch number 99: 100%|██████████| 99/99 [00:15<00:00,  6.42batches/s]\n",
      "Test batch number 13: 100%|██████████| 13/13 [00:03<00:00,  3.77batches/s]\n"
     ]
    },
    {
     "name": "stdout",
     "output_type": "stream",
     "text": [
      "\n",
      "Metrics: {'train_loss': 0.0059300033950935955, 'test_loss': 2.044510135283837, 'bleu': 21.4556, 'gen_len': 9.9141}\n",
      "\n",
      "=============================\n",
      "\n"
     ]
    },
    {
     "name": "stderr",
     "output_type": "stream",
     "text": [
      " 70%|███████   | 42/60 [14:33<06:15, 20.85s/it]"
     ]
    },
    {
     "name": "stdout",
     "output_type": "stream",
     "text": [
      "For epoch 483: \n",
      "{Learning rate: [0.0010954942325730457]}\n"
     ]
    },
    {
     "name": "stderr",
     "output_type": "stream",
     "text": [
      "Train batch number 99: 100%|██████████| 99/99 [00:15<00:00,  6.39batches/s]\n",
      "Test batch number 13: 100%|██████████| 13/13 [00:03<00:00,  3.71batches/s]\n"
     ]
    },
    {
     "name": "stdout",
     "output_type": "stream",
     "text": [
      "\n",
      "Metrics: {'train_loss': 0.0060025502827942764, 'test_loss': 2.0484073620576124, 'bleu': 21.7726, 'gen_len': 9.8535}\n",
      "\n",
      "=============================\n",
      "\n"
     ]
    },
    {
     "name": "stderr",
     "output_type": "stream",
     "text": [
      " 72%|███████▏  | 43/60 [14:54<05:54, 20.86s/it]"
     ]
    },
    {
     "name": "stdout",
     "output_type": "stream",
     "text": [
      "For epoch 484: \n",
      "{Learning rate: [0.0010899204472103678]}\n"
     ]
    },
    {
     "name": "stderr",
     "output_type": "stream",
     "text": [
      "Train batch number 99: 100%|██████████| 99/99 [00:15<00:00,  6.41batches/s]\n",
      "Test batch number 13: 100%|██████████| 13/13 [00:03<00:00,  3.68batches/s]\n"
     ]
    },
    {
     "name": "stdout",
     "output_type": "stream",
     "text": [
      "\n",
      "Metrics: {'train_loss': 0.005925913211846056, 'test_loss': 2.041956589772151, 'bleu': 21.3578, 'gen_len': 9.8232}\n",
      "\n",
      "=============================\n",
      "\n"
     ]
    },
    {
     "name": "stderr",
     "output_type": "stream",
     "text": [
      " 73%|███████▎  | 44/60 [15:14<05:33, 20.83s/it]"
     ]
    },
    {
     "name": "stdout",
     "output_type": "stream",
     "text": [
      "For epoch 485: \n",
      "{Learning rate: [0.0010843528725357461]}\n"
     ]
    },
    {
     "name": "stderr",
     "output_type": "stream",
     "text": [
      "Train batch number 99: 100%|██████████| 99/99 [00:15<00:00,  6.39batches/s]\n",
      "Test batch number 13: 100%|██████████| 13/13 [00:03<00:00,  3.81batches/s]\n"
     ]
    },
    {
     "name": "stdout",
     "output_type": "stream",
     "text": [
      "\n",
      "Metrics: {'train_loss': 0.006026614619791743, 'test_loss': 2.0435294921581564, 'bleu': 21.9678, 'gen_len': 9.9091}\n",
      "\n",
      "=============================\n",
      "\n"
     ]
    },
    {
     "name": "stderr",
     "output_type": "stream",
     "text": [
      " 75%|███████▌  | 45/60 [15:35<05:12, 20.82s/it]"
     ]
    },
    {
     "name": "stdout",
     "output_type": "stream",
     "text": [
      "For epoch 486: \n",
      "{Learning rate: [0.0010787915905413703]}\n"
     ]
    },
    {
     "name": "stderr",
     "output_type": "stream",
     "text": [
      "Train batch number 99: 100%|██████████| 99/99 [00:15<00:00,  6.37batches/s]\n",
      "Test batch number 13: 100%|██████████| 13/13 [00:03<00:00,  3.78batches/s]\n"
     ]
    },
    {
     "name": "stdout",
     "output_type": "stream",
     "text": [
      "\n",
      "Metrics: {'train_loss': 0.00592721200526358, 'test_loss': 2.0380749243956346, 'bleu': 22.0892, 'gen_len': 9.9495}\n",
      "\n",
      "=============================\n",
      "\n"
     ]
    },
    {
     "name": "stderr",
     "output_type": "stream",
     "text": [
      " 77%|███████▋  | 46/60 [15:56<04:51, 20.83s/it]"
     ]
    },
    {
     "name": "stdout",
     "output_type": "stream",
     "text": [
      "For epoch 487: \n",
      "{Learning rate: [0.0010732366831267574]}\n"
     ]
    },
    {
     "name": "stderr",
     "output_type": "stream",
     "text": [
      "Train batch number 99: 100%|██████████| 99/99 [00:15<00:00,  6.52batches/s]\n",
      "Test batch number 13: 100%|██████████| 13/13 [00:03<00:00,  3.83batches/s]\n"
     ]
    },
    {
     "name": "stdout",
     "output_type": "stream",
     "text": [
      "\n",
      "Metrics: {'train_loss': 0.005853047030357611, 'test_loss': 2.036881529367887, 'bleu': 22.0206, 'gen_len': 9.8838}\n",
      "\n",
      "=============================\n",
      "\n"
     ]
    },
    {
     "name": "stderr",
     "output_type": "stream",
     "text": [
      " 78%|███████▊  | 47/60 [16:17<04:29, 20.70s/it]"
     ]
    },
    {
     "name": "stdout",
     "output_type": "stream",
     "text": [
      "For epoch 488: \n",
      "{Learning rate: [0.00106768823209755]}\n"
     ]
    },
    {
     "name": "stderr",
     "output_type": "stream",
     "text": [
      "Train batch number 99: 100%|██████████| 99/99 [00:15<00:00,  6.45batches/s]\n",
      "Test batch number 13: 100%|██████████| 13/13 [00:03<00:00,  3.82batches/s]\n"
     ]
    },
    {
     "name": "stdout",
     "output_type": "stream",
     "text": [
      "\n",
      "Metrics: {'train_loss': 0.006098518376632575, 'test_loss': 2.038581655575679, 'bleu': 22.0914, 'gen_len': 9.8687}\n",
      "\n",
      "=============================\n",
      "\n"
     ]
    },
    {
     "name": "stderr",
     "output_type": "stream",
     "text": [
      " 80%|████████  | 48/60 [16:37<04:07, 20.67s/it]"
     ]
    },
    {
     "name": "stdout",
     "output_type": "stream",
     "text": [
      "For epoch 489: \n",
      "{Learning rate: [0.001062146319164309]}\n"
     ]
    },
    {
     "name": "stderr",
     "output_type": "stream",
     "text": [
      "Train batch number 99: 100%|██████████| 99/99 [00:15<00:00,  6.52batches/s]\n",
      "Test batch number 13: 100%|██████████| 13/13 [00:03<00:00,  3.74batches/s]\n"
     ]
    },
    {
     "name": "stdout",
     "output_type": "stream",
     "text": [
      "\n",
      "Metrics: {'train_loss': 0.005773211153067714, 'test_loss': 2.0440314457966733, 'bleu': 21.9711, 'gen_len': 9.8333}\n",
      "\n",
      "=============================\n",
      "\n"
     ]
    },
    {
     "name": "stderr",
     "output_type": "stream",
     "text": [
      " 82%|████████▏ | 49/60 [16:58<03:47, 20.69s/it]"
     ]
    },
    {
     "name": "stdout",
     "output_type": "stream",
     "text": [
      "For epoch 490: \n",
      "{Learning rate: [0.0010566110259413084]}\n"
     ]
    },
    {
     "name": "stderr",
     "output_type": "stream",
     "text": [
      "Train batch number 99: 100%|██████████| 99/99 [00:15<00:00,  6.35batches/s]\n",
      "Test batch number 13: 100%|██████████| 13/13 [00:03<00:00,  3.77batches/s]\n"
     ]
    },
    {
     "name": "stdout",
     "output_type": "stream",
     "text": [
      "\n",
      "Metrics: {'train_loss': 0.005847310122029593, 'test_loss': 2.0418070463033824, 'bleu': 21.8039, 'gen_len': 9.8586}\n",
      "\n",
      "=============================\n",
      "\n"
     ]
    },
    {
     "name": "stderr",
     "output_type": "stream",
     "text": [
      " 83%|████████▎ | 50/60 [17:19<03:27, 20.74s/it]"
     ]
    },
    {
     "name": "stdout",
     "output_type": "stream",
     "text": [
      "For epoch 491: \n",
      "{Learning rate: [0.0010510824339453387]}\n"
     ]
    },
    {
     "name": "stderr",
     "output_type": "stream",
     "text": [
      "Train batch number 99: 100%|██████████| 99/99 [00:15<00:00,  6.44batches/s]\n",
      "Test batch number 13: 100%|██████████| 13/13 [00:03<00:00,  3.73batches/s]\n"
     ]
    },
    {
     "name": "stdout",
     "output_type": "stream",
     "text": [
      "\n",
      "Metrics: {'train_loss': 0.005823747774955318, 'test_loss': 2.043839399631207, 'bleu': 21.916, 'gen_len': 9.8838}\n",
      "\n",
      "=============================\n",
      "\n"
     ]
    },
    {
     "name": "stderr",
     "output_type": "stream",
     "text": [
      " 85%|████████▌ | 51/60 [17:39<03:06, 20.72s/it]"
     ]
    },
    {
     "name": "stdout",
     "output_type": "stream",
     "text": [
      "For epoch 492: \n",
      "{Learning rate: [0.0010455606245945]}\n"
     ]
    },
    {
     "name": "stderr",
     "output_type": "stream",
     "text": [
      "Train batch number 99: 100%|██████████| 99/99 [00:15<00:00,  6.45batches/s]\n",
      "Test batch number 13: 100%|██████████| 13/13 [00:03<00:00,  3.90batches/s]\n"
     ]
    },
    {
     "name": "stdout",
     "output_type": "stream",
     "text": [
      "\n",
      "Metrics: {'train_loss': 0.005785700819082323, 'test_loss': 2.0485163560280433, 'bleu': 21.8493, 'gen_len': 9.8485}\n",
      "\n",
      "=============================\n",
      "\n"
     ]
    },
    {
     "name": "stderr",
     "output_type": "stream",
     "text": [
      " 87%|████████▋ | 52/60 [18:00<02:45, 20.66s/it]"
     ]
    },
    {
     "name": "stdout",
     "output_type": "stream",
     "text": [
      "For epoch 493: \n",
      "{Learning rate: [0.0010400456792070082]}\n"
     ]
    },
    {
     "name": "stderr",
     "output_type": "stream",
     "text": [
      "Train batch number 99: 100%|██████████| 99/99 [00:15<00:00,  6.45batches/s]\n",
      "Test batch number 13: 100%|██████████| 13/13 [00:03<00:00,  3.68batches/s]\n"
     ]
    },
    {
     "name": "stdout",
     "output_type": "stream",
     "text": [
      "\n",
      "Metrics: {'train_loss': 0.005913792669566141, 'test_loss': 2.046532291632432, 'bleu': 22.4133, 'gen_len': 9.8232}\n",
      "\n",
      "=============================\n",
      "\n"
     ]
    },
    {
     "name": "stderr",
     "output_type": "stream",
     "text": [
      " 88%|████████▊ | 53/60 [18:21<02:24, 20.68s/it]"
     ]
    },
    {
     "name": "stdout",
     "output_type": "stream",
     "text": [
      "For epoch 494: \n",
      "{Learning rate: [0.0010345376789999954]}\n"
     ]
    },
    {
     "name": "stderr",
     "output_type": "stream",
     "text": [
      "Train batch number 99: 100%|██████████| 99/99 [00:15<00:00,  6.36batches/s]\n",
      "Test batch number 13: 100%|██████████| 13/13 [00:03<00:00,  3.66batches/s]\n"
     ]
    },
    {
     "name": "stdout",
     "output_type": "stream",
     "text": [
      "\n",
      "Metrics: {'train_loss': 0.005849853822534594, 'test_loss': 2.043341737527114, 'bleu': 22.1157, 'gen_len': 9.8838}\n",
      "\n",
      "=============================\n",
      "\n"
     ]
    },
    {
     "name": "stderr",
     "output_type": "stream",
     "text": [
      " 90%|█████████ | 54/60 [18:42<02:04, 20.76s/it]"
     ]
    },
    {
     "name": "stdout",
     "output_type": "stream",
     "text": [
      "For epoch 495: \n",
      "{Learning rate: [0.0010290367050883123]}\n"
     ]
    },
    {
     "name": "stderr",
     "output_type": "stream",
     "text": [
      "Train batch number 99: 100%|██████████| 99/99 [00:15<00:00,  6.39batches/s]\n",
      "Test batch number 13: 100%|██████████| 13/13 [00:03<00:00,  3.79batches/s]\n"
     ]
    },
    {
     "name": "stdout",
     "output_type": "stream",
     "text": [
      "\n",
      "Metrics: {'train_loss': 0.005870467724632519, 'test_loss': 2.046937878315265, 'bleu': 21.882, 'gen_len': 9.8889}\n",
      "\n",
      "=============================\n",
      "\n"
     ]
    },
    {
     "name": "stderr",
     "output_type": "stream",
     "text": [
      " 92%|█████████▏| 55/60 [19:02<01:43, 20.74s/it]"
     ]
    },
    {
     "name": "stdout",
     "output_type": "stream",
     "text": [
      "For epoch 496: \n",
      "{Learning rate: [0.0010235428384833371]}\n"
     ]
    },
    {
     "name": "stderr",
     "output_type": "stream",
     "text": [
      "Train batch number 99: 100%|██████████| 99/99 [00:15<00:00,  6.44batches/s]\n",
      "Test batch number 13: 100%|██████████| 13/13 [00:03<00:00,  3.71batches/s]\n"
     ]
    },
    {
     "name": "stdout",
     "output_type": "stream",
     "text": [
      "\n",
      "Metrics: {'train_loss': 0.005786214690570804, 'test_loss': 2.035630152775691, 'bleu': 22.2491, 'gen_len': 9.8283}\n",
      "\n",
      "=============================\n",
      "\n"
     ]
    },
    {
     "name": "stderr",
     "output_type": "stream",
     "text": [
      " 93%|█████████▎| 56/60 [19:23<01:22, 20.72s/it]"
     ]
    },
    {
     "name": "stdout",
     "output_type": "stream",
     "text": [
      "For epoch 497: \n",
      "{Learning rate: [0.0010180561600917804]}\n"
     ]
    },
    {
     "name": "stderr",
     "output_type": "stream",
     "text": [
      "Train batch number 99: 100%|██████████| 99/99 [00:15<00:00,  6.42batches/s]\n",
      "Test batch number 13: 100%|██████████| 13/13 [00:03<00:00,  3.66batches/s]\n"
     ]
    },
    {
     "name": "stdout",
     "output_type": "stream",
     "text": [
      "\n",
      "Metrics: {'train_loss': 0.00566916349605596, 'test_loss': 2.034006036244906, 'bleu': 21.7805, 'gen_len': 9.8636}\n",
      "\n",
      "=============================\n",
      "\n"
     ]
    },
    {
     "name": "stderr",
     "output_type": "stream",
     "text": [
      " 95%|█████████▌| 57/60 [19:44<01:02, 20.76s/it]"
     ]
    },
    {
     "name": "stdout",
     "output_type": "stream",
     "text": [
      "For epoch 498: \n",
      "{Learning rate: [0.0010125767507144921]}\n"
     ]
    },
    {
     "name": "stderr",
     "output_type": "stream",
     "text": [
      "Train batch number 99: 100%|██████████| 99/99 [00:15<00:00,  6.54batches/s]\n",
      "Test batch number 13: 100%|██████████| 13/13 [00:03<00:00,  3.94batches/s]\n"
     ]
    },
    {
     "name": "stdout",
     "output_type": "stream",
     "text": [
      "\n",
      "Metrics: {'train_loss': 0.005826107412032816, 'test_loss': 2.0399023386148305, 'bleu': 22.2263, 'gen_len': 9.8535}\n",
      "\n",
      "=============================\n",
      "\n"
     ]
    },
    {
     "name": "stderr",
     "output_type": "stream",
     "text": [
      " 97%|█████████▋| 58/60 [20:04<00:41, 20.60s/it]"
     ]
    },
    {
     "name": "stdout",
     "output_type": "stream",
     "text": [
      "For epoch 499: \n",
      "{Learning rate: [0.0010071046910452748]}\n"
     ]
    },
    {
     "name": "stderr",
     "output_type": "stream",
     "text": [
      "Train batch number 99: 100%|██████████| 99/99 [00:13<00:00,  7.40batches/s]\n",
      "Test batch number 13: 100%|██████████| 13/13 [00:03<00:00,  3.93batches/s]\n"
     ]
    },
    {
     "name": "stdout",
     "output_type": "stream",
     "text": [
      "\n",
      "Metrics: {'train_loss': 0.0058191790309560605, 'test_loss': 2.0302746571027317, 'bleu': 22.2594, 'gen_len': 9.8687}\n",
      "\n",
      "=============================\n",
      "\n"
     ]
    },
    {
     "name": "stderr",
     "output_type": "stream",
     "text": [
      " 98%|█████████▊| 59/60 [20:22<00:19, 19.96s/it]"
     ]
    },
    {
     "name": "stdout",
     "output_type": "stream",
     "text": [
      "For epoch 500: \n",
      "{Learning rate: [0.001001640061669694]}\n"
     ]
    },
    {
     "name": "stderr",
     "output_type": "stream",
     "text": [
      "Train batch number 99: 100%|██████████| 99/99 [00:13<00:00,  7.34batches/s]\n",
      "Test batch number 13: 100%|██████████| 13/13 [00:03<00:00,  3.93batches/s]\n"
     ]
    },
    {
     "name": "stdout",
     "output_type": "stream",
     "text": [
      "\n",
      "Metrics: {'train_loss': 0.0058785396937640726, 'test_loss': 2.043622686312749, 'bleu': 22.5215, 'gen_len': 9.8384}\n",
      "\n",
      "=============================\n",
      "\n"
     ]
    },
    {
     "name": "stderr",
     "output_type": "stream",
     "text": [
      "100%|██████████| 60/60 [20:41<00:00, 20.69s/it]\n"
     ]
    }
   ],
   "source": [
    "trainer.train(epochs = config['epochs'] - trainer.current_epoch, auto_save=True, metric_for_best_model='bleu', metric_objective='maximize', log_step=1,\n",
    "              saving_directory = config['new_model_dir'])"
   ]
  },
  {
   "cell_type": "markdown",
   "metadata": {
    "id": "sQVOIX4lqGMg"
   },
   "source": [
    "### Predictions and Evaluation"
   ]
  },
  {
   "cell_type": "code",
   "execution_count": 7,
   "metadata": {},
   "outputs": [],
   "source": [
    "# initialize the transformation sequence\n",
    "end_mark_fn = partial(add_end_mark)\n",
    "fr_augmentation = TransformerSequences(remove_mark_space, delete_guillemet_space, end_mark_fn)\n",
    "\n",
    "# let us get the test set\n",
    "test_dataset = SentenceDataset(f\"data/extractions/new_data/test_set.csv\",\n",
    "                                        tokenizer = tokenizer,\n",
    "                                        cp1_transformer = fr_augmentation,\n",
    "                                        cp2_transformer = fr_augmentation,\n",
    "                                        truncation = True)"
   ]
  },
  {
   "cell_type": "markdown",
   "metadata": {
    "id": "W_iGdw-LLAJz"
   },
   "source": [
    "Let us make the evaluation and print the predicted sentences."
   ]
  },
  {
   "cell_type": "code",
   "execution_count": 8,
   "metadata": {},
   "outputs": [
    {
     "name": "stderr",
     "output_type": "stream",
     "text": [
      "Evaluation batch number 13: 100%|██████████| 13/13 [00:04<00:00,  3.06batches/s]\n"
     ]
    }
   ],
   "source": [
    "# evaluation with test set\n",
    "df_ft_to_wf = trainer.evaluate(test_dataset)"
   ]
  },
  {
   "cell_type": "code",
   "execution_count": 9,
   "metadata": {},
   "outputs": [
    {
     "data": {
      "text/html": [
       "<div>\n",
       "<style scoped>\n",
       "    .dataframe tbody tr th:only-of-type {\n",
       "        vertical-align: middle;\n",
       "    }\n",
       "\n",
       "    .dataframe tbody tr th {\n",
       "        vertical-align: top;\n",
       "    }\n",
       "\n",
       "    .dataframe thead th {\n",
       "        text-align: right;\n",
       "    }\n",
       "</style>\n",
       "<table border=\"1\" class=\"dataframe\">\n",
       "  <thead>\n",
       "    <tr style=\"text-align: right;\">\n",
       "      <th></th>\n",
       "      <th>original_sentences</th>\n",
       "      <th>translations</th>\n",
       "      <th>predictions</th>\n",
       "    </tr>\n",
       "  </thead>\n",
       "  <tbody>\n",
       "    <tr>\n",
       "      <th>188</th>\n",
       "      <td>Donne le travail à un autre!</td>\n",
       "      <td>Joxal kenn liggéey bi!</td>\n",
       "      <td>Joxal téere bi doomu nit ku yaru kooku!</td>\n",
       "    </tr>\n",
       "    <tr>\n",
       "      <th>189</th>\n",
       "      <td>Cet homme qui a été.</td>\n",
       "      <td>Góor gii demoon.</td>\n",
       "      <td>Gor gii dem.</td>\n",
       "    </tr>\n",
       "    <tr>\n",
       "      <th>190</th>\n",
       "      <td>Dites-lui.</td>\n",
       "      <td>Nileen ka.</td>\n",
       "      <td>Nileen leen.</td>\n",
       "    </tr>\n",
       "    <tr>\n",
       "      <th>191</th>\n",
       "      <td>Il est là.</td>\n",
       "      <td>Ma ŋgoogule foofu.</td>\n",
       "      <td>Mi ŋgi fi.</td>\n",
       "    </tr>\n",
       "    <tr>\n",
       "      <th>192</th>\n",
       "      <td>Tu vois cet homme là-bas?</td>\n",
       "      <td>Gis ŋga nit kale?</td>\n",
       "      <td>Gis ŋga xale bee?</td>\n",
       "    </tr>\n",
       "    <tr>\n",
       "      <th>193</th>\n",
       "      <td>L'homme est parti je crois!</td>\n",
       "      <td>Ma defe góor gi dem na!</td>\n",
       "      <td>Góor gi dem na, ma defe!</td>\n",
       "    </tr>\n",
       "    <tr>\n",
       "      <th>194</th>\n",
       "      <td>J'ai aperçu un baobab.</td>\n",
       "      <td>Séen naa ag guy.</td>\n",
       "      <td>Séen naa aw fas.</td>\n",
       "    </tr>\n",
       "    <tr>\n",
       "      <th>195</th>\n",
       "      <td>Celui-ci serait parti.</td>\n",
       "      <td>Kii dafa demkoon.</td>\n",
       "      <td>Kii dafa demkoon.</td>\n",
       "    </tr>\n",
       "    <tr>\n",
       "      <th>196</th>\n",
       "      <td>Toutes les portes étaient ouvertes.</td>\n",
       "      <td>Bunt yi yépp a tëjju woon.</td>\n",
       "      <td>Mu di ñeneen ñi.</td>\n",
       "    </tr>\n",
       "    <tr>\n",
       "      <th>197</th>\n",
       "      <td>C'est Fatim, aujourd'hui.</td>\n",
       "      <td>Faatim la, tay.</td>\n",
       "      <td>Faatim la soo demee.</td>\n",
       "    </tr>\n",
       "  </tbody>\n",
       "</table>\n",
       "</div>"
      ],
      "text/plain": [
       "                      original_sentences                translations  \\\n",
       "188         Donne le travail à un autre!      Joxal kenn liggéey bi!   \n",
       "189                 Cet homme qui a été.            Góor gii demoon.   \n",
       "190                           Dites-lui.                  Nileen ka.   \n",
       "191                           Il est là.          Ma ŋgoogule foofu.   \n",
       "192            Tu vois cet homme là-bas?           Gis ŋga nit kale?   \n",
       "193          L'homme est parti je crois!     Ma defe góor gi dem na!   \n",
       "194               J'ai aperçu un baobab.            Séen naa ag guy.   \n",
       "195               Celui-ci serait parti.           Kii dafa demkoon.   \n",
       "196  Toutes les portes étaient ouvertes.  Bunt yi yépp a tëjju woon.   \n",
       "197            C'est Fatim, aujourd'hui.             Faatim la, tay.   \n",
       "\n",
       "                                 predictions  \n",
       "188  Joxal téere bi doomu nit ku yaru kooku!  \n",
       "189                             Gor gii dem.  \n",
       "190                             Nileen leen.  \n",
       "191                               Mi ŋgi fi.  \n",
       "192                        Gis ŋga xale bee?  \n",
       "193                 Góor gi dem na, ma defe!  \n",
       "194                         Séen naa aw fas.  \n",
       "195                        Kii dafa demkoon.  \n",
       "196                         Mu di ñeneen ñi.  \n",
       "197                     Faatim la soo demee.  "
      ]
     },
     "execution_count": 9,
     "metadata": {},
     "output_type": "execute_result"
    }
   ],
   "source": [
    "df_ft_to_wf[1].tail(10)"
   ]
  },
  {
   "cell_type": "code",
   "execution_count": 10,
   "metadata": {},
   "outputs": [
    {
     "data": {
      "text/html": [
       "<div>\n",
       "<style scoped>\n",
       "    .dataframe tbody tr th:only-of-type {\n",
       "        vertical-align: middle;\n",
       "    }\n",
       "\n",
       "    .dataframe tbody tr th {\n",
       "        vertical-align: top;\n",
       "    }\n",
       "\n",
       "    .dataframe thead th {\n",
       "        text-align: right;\n",
       "    }\n",
       "</style>\n",
       "<table border=\"1\" class=\"dataframe\">\n",
       "  <thead>\n",
       "    <tr style=\"text-align: right;\">\n",
       "      <th></th>\n",
       "      <th>original_sentences</th>\n",
       "      <th>translations</th>\n",
       "      <th>predictions</th>\n",
       "    </tr>\n",
       "  </thead>\n",
       "  <tbody>\n",
       "    <tr>\n",
       "      <th>18</th>\n",
       "      <td>Afin que parte qui?</td>\n",
       "      <td>Ndax kan dem?</td>\n",
       "      <td>Ndax kan dem?</td>\n",
       "    </tr>\n",
       "    <tr>\n",
       "      <th>168</th>\n",
       "      <td>Tu as vu les autres amis?</td>\n",
       "      <td>Gis ŋga sa yeneen xarit yi?</td>\n",
       "      <td>Gis ŋga samay xarit yan?</td>\n",
       "    </tr>\n",
       "    <tr>\n",
       "      <th>63</th>\n",
       "      <td>Quelles femmes se sont égarées?</td>\n",
       "      <td>Jigéen ñan ñoo réer?</td>\n",
       "      <td>Jigéen jan a réer?</td>\n",
       "    </tr>\n",
       "    <tr>\n",
       "      <th>175</th>\n",
       "      <td>C'est ce que tu as dit que la jeune femme préf...</td>\n",
       "      <td>Li ŋga wax la ndaw si taamu.</td>\n",
       "      <td>Li ŋga wax loolu.</td>\n",
       "    </tr>\n",
       "    <tr>\n",
       "      <th>71</th>\n",
       "      <td>Moi-même je n'ai pas été.</td>\n",
       "      <td>Man mii demuma.</td>\n",
       "      <td>Man demuma.</td>\n",
       "    </tr>\n",
       "    <tr>\n",
       "      <th>86</th>\n",
       "      <td>Ils partent.</td>\n",
       "      <td>Dem nañu.</td>\n",
       "      <td>Dem nañu.</td>\n",
       "    </tr>\n",
       "    <tr>\n",
       "      <th>5</th>\n",
       "      <td>Les gens n'étaient pas, habituellement, bavards.</td>\n",
       "      <td>Nit ñi daawuñu coow.</td>\n",
       "      <td>Dëkku Séeréer yi ag Pël yi.</td>\n",
       "    </tr>\n",
       "    <tr>\n",
       "      <th>118</th>\n",
       "      <td>Bonne soirée.</td>\n",
       "      <td>Naka ngon si.</td>\n",
       "      <td>Jaam nga fanane.</td>\n",
       "    </tr>\n",
       "    <tr>\n",
       "      <th>12</th>\n",
       "      <td>Tout autre mouton que tu vois.</td>\n",
       "      <td>Meneen xar mépp moo gis.</td>\n",
       "      <td>Xar menn man ŋga wax.</td>\n",
       "    </tr>\n",
       "    <tr>\n",
       "      <th>150</th>\n",
       "      <td>Une photo datant d'il y a soixante et neuf ans...</td>\n",
       "      <td>Nataalu juróom benn fukk ak juróom ñeent day w...</td>\n",
       "      <td>Lii ab dëkkuwaay la, ab dëkkuwaay am ab bayo c...</td>\n",
       "    </tr>\n",
       "    <tr>\n",
       "      <th>60</th>\n",
       "      <td>Mes voeux d'anniversaire.</td>\n",
       "      <td>Mangui lay ndokkel ci sa bess bu délu si bi.</td>\n",
       "      <td>Mangui lay ndokkel ci att bu bess bi.</td>\n",
       "    </tr>\n",
       "    <tr>\n",
       "      <th>75</th>\n",
       "      <td>Je parle de cet enfant-ci?</td>\n",
       "      <td>Xale bule laa wax?</td>\n",
       "      <td>Bule xale laa wax?</td>\n",
       "    </tr>\n",
       "    <tr>\n",
       "      <th>163</th>\n",
       "      <td>Comment se passe le travail?</td>\n",
       "      <td>Naka ligéey bi?</td>\n",
       "      <td>Naka-nga sant?</td>\n",
       "    </tr>\n",
       "    <tr>\n",
       "      <th>96</th>\n",
       "      <td>C'est son ami!</td>\n",
       "      <td>Xaritam la!</td>\n",
       "      <td>Suñu sarit la!</td>\n",
       "    </tr>\n",
       "    <tr>\n",
       "      <th>113</th>\n",
       "      <td>L'homme ne cultivera pas.</td>\n",
       "      <td>Góor gi du bày.</td>\n",
       "      <td>Góor gi bëggul.</td>\n",
       "    </tr>\n",
       "    <tr>\n",
       "      <th>7</th>\n",
       "      <td>S'il n'était pas Laobe.</td>\n",
       "      <td>Su dulwoon Lawbe.</td>\n",
       "      <td>Su ñëwul dana xam.</td>\n",
       "    </tr>\n",
       "    <tr>\n",
       "      <th>33</th>\n",
       "      <td>L'homme est allé à l'intérieur.</td>\n",
       "      <td>Góor gi dem na ci biir.</td>\n",
       "      <td>Góor gi dem na ci biir.</td>\n",
       "    </tr>\n",
       "    <tr>\n",
       "      <th>134</th>\n",
       "      <td>Moussa vous a dit que j'étais à la retraite.</td>\n",
       "      <td>Musaa wax na leen jël naa sama retraite.</td>\n",
       "      <td>Musaa rekk.</td>\n",
       "    </tr>\n",
       "    <tr>\n",
       "      <th>37</th>\n",
       "      <td>Je parle de cet homme-ci.</td>\n",
       "      <td>Kile nit laa wax.</td>\n",
       "      <td>Bule xale laa wax.</td>\n",
       "    </tr>\n",
       "    <tr>\n",
       "      <th>166</th>\n",
       "      <td>Je n'avais pas été te le cueillir.</td>\n",
       "      <td>Wattaliwuma la ka woon.</td>\n",
       "      <td>Demumawoon fenn tày ci suba.</td>\n",
       "    </tr>\n",
       "    <tr>\n",
       "      <th>109</th>\n",
       "      <td>Sur la photo que vous m'avez envoyée il y a de...</td>\n",
       "      <td>Nataal bi ngeen ma yónne nii de ñaari baŋ lañ ...</td>\n",
       "      <td>Nataal bii ngeen ma yónnee de ab dëkku àll bu ...</td>\n",
       "    </tr>\n",
       "    <tr>\n",
       "      <th>143</th>\n",
       "      <td>Tu as regardé dans cette chambre-ci?</td>\n",
       "      <td>Seet ŋga néeg buu?</td>\n",
       "      <td>Seet ŋga buu néeg?</td>\n",
       "    </tr>\n",
       "    <tr>\n",
       "      <th>45</th>\n",
       "      <td>Qu'il attrappe quelles vaches?</td>\n",
       "      <td>Mu japp nag yooyu yan?</td>\n",
       "      <td>Nit la ci lan?</td>\n",
       "    </tr>\n",
       "    <tr>\n",
       "      <th>157</th>\n",
       "      <td>Aucun lion ne s'est égaré.</td>\n",
       "      <td>Gayndé genn réerul.</td>\n",
       "      <td>Fas wenn réerul.</td>\n",
       "    </tr>\n",
       "    <tr>\n",
       "      <th>138</th>\n",
       "      <td>Alors il partit.</td>\n",
       "      <td>Noona mu dem.</td>\n",
       "      <td>Mu dem.</td>\n",
       "    </tr>\n",
       "    <tr>\n",
       "      <th>111</th>\n",
       "      <td>C'est l'autre endroit qui n'a pas de trou.</td>\n",
       "      <td>Feneen fi bëttul la.</td>\n",
       "      <td>Keneen ki la ñu xam.</td>\n",
       "    </tr>\n",
       "    <tr>\n",
       "      <th>177</th>\n",
       "      <td>L'un, dont il fut question, est parti.</td>\n",
       "      <td>Kenn ki woon dem na.</td>\n",
       "      <td>Benn bi rëcc laay seet.</td>\n",
       "    </tr>\n",
       "    <tr>\n",
       "      <th>183</th>\n",
       "      <td>Mais, même moi, je n'ai pas été!</td>\n",
       "      <td>Waaye man sax dama dul ñëw!</td>\n",
       "      <td>Waaye man sax dama dul ñëw!</td>\n",
       "    </tr>\n",
       "    <tr>\n",
       "      <th>92</th>\n",
       "      <td>J'ai été jusqu'à lui.</td>\n",
       "      <td>Dem naa ba ci moom.</td>\n",
       "      <td>Dem naa ba Ndar.</td>\n",
       "    </tr>\n",
       "    <tr>\n",
       "      <th>44</th>\n",
       "      <td>Que j'attrape quelles vaches?</td>\n",
       "      <td>Ma japp nag yee yan?</td>\n",
       "      <td>Nit la ci lan?</td>\n",
       "    </tr>\n",
       "    <tr>\n",
       "      <th>16</th>\n",
       "      <td>Quoi?</td>\n",
       "      <td>Lii lan?</td>\n",
       "      <td>Lii lan?</td>\n",
       "    </tr>\n",
       "    <tr>\n",
       "      <th>135</th>\n",
       "      <td>J'ai vu vache d'Europe.</td>\n",
       "      <td>Gis naa nagu Tugal.</td>\n",
       "      <td>Gis naa nagu Tugël.</td>\n",
       "    </tr>\n",
       "    <tr>\n",
       "      <th>136</th>\n",
       "      <td>Appelle l'homme qui n'est pas Kangame d'ici!</td>\n",
       "      <td>Wool góor gi dul Kajgaamu fii!</td>\n",
       "      <td>Wool góor gi dul Kajgaamu fii!</td>\n",
       "    </tr>\n",
       "    <tr>\n",
       "      <th>97</th>\n",
       "      <td>L'homme qui eût travaillé.</td>\n",
       "      <td>Waa ji liggéeykoon.</td>\n",
       "      <td>Góor gi waxkoon na.</td>\n",
       "    </tr>\n",
       "    <tr>\n",
       "      <th>22</th>\n",
       "      <td>Là-bas où?</td>\n",
       "      <td>Foofee fan?</td>\n",
       "      <td>Ci foofu?</td>\n",
       "    </tr>\n",
       "    <tr>\n",
       "      <th>194</th>\n",
       "      <td>J'ai aperçu un baobab.</td>\n",
       "      <td>Séen naa ag guy.</td>\n",
       "      <td>Séen naa aw fas.</td>\n",
       "    </tr>\n",
       "    <tr>\n",
       "      <th>126</th>\n",
       "      <td>À ceux-ci, ceux-là, à ceux qui sont là-bas.</td>\n",
       "      <td>Ñii, ñee, ñooñu.</td>\n",
       "      <td>Ci biir la, ci biir a biir la!</td>\n",
       "    </tr>\n",
       "    <tr>\n",
       "      <th>4</th>\n",
       "      <td>Ce n'est pas le tambour!</td>\n",
       "      <td>Du sabar gi!</td>\n",
       "      <td>Du sabar gu rëy!</td>\n",
       "    </tr>\n",
       "    <tr>\n",
       "      <th>66</th>\n",
       "      <td>Une fois en chemin.</td>\n",
       "      <td>Su dee dem.</td>\n",
       "      <td>Góor gu baax réer na.</td>\n",
       "    </tr>\n",
       "    <tr>\n",
       "      <th>123</th>\n",
       "      <td>Appelle les enfants qui n'iront nulle part.</td>\n",
       "      <td>Wool xale yi dul dem fenn.</td>\n",
       "      <td>Xale yi, foofu nag, ñu mer.</td>\n",
       "    </tr>\n",
       "    <tr>\n",
       "      <th>131</th>\n",
       "      <td>Si on va au fond des choses, c'est Fatim!</td>\n",
       "      <td>Soo demee, Faatim la!</td>\n",
       "      <td>Faatim la soo demee!</td>\n",
       "    </tr>\n",
       "    <tr>\n",
       "      <th>173</th>\n",
       "      <td>Sur cette photo ci, j'y vois quelqu'un portant...</td>\n",
       "      <td>Nataal bii maa ngi ciy gis ku yor raaya Senega...</td>\n",
       "      <td>Lii nag dañ ciy faral di def ndugg maanaam jig...</td>\n",
       "    </tr>\n",
       "    <tr>\n",
       "      <th>26</th>\n",
       "      <td>Tu as vu celui-ci?</td>\n",
       "      <td>Gis ŋga kooku?</td>\n",
       "      <td>Gis ŋga lan?</td>\n",
       "    </tr>\n",
       "    <tr>\n",
       "      <th>61</th>\n",
       "      <td>Attends jusqu'à demain!</td>\n",
       "      <td>Negal ba ëlëk!</td>\n",
       "      <td>Wooyal ma alkaati!</td>\n",
       "    </tr>\n",
       "    <tr>\n",
       "      <th>145</th>\n",
       "      <td>J'ai vu vache d'Europe.</td>\n",
       "      <td>Gis naa nagu Tugël.</td>\n",
       "      <td>Gis naa nagu Tugël.</td>\n",
       "    </tr>\n",
       "    <tr>\n",
       "      <th>83</th>\n",
       "      <td>Afin qu'il se passe quoi?</td>\n",
       "      <td>Ndax lan am?</td>\n",
       "      <td>Ndax mu dem?</td>\n",
       "    </tr>\n",
       "    <tr>\n",
       "      <th>8</th>\n",
       "      <td>C'est lui qui aime.</td>\n",
       "      <td>Moo bëgg.</td>\n",
       "      <td>Moo doon dem.</td>\n",
       "    </tr>\n",
       "    <tr>\n",
       "      <th>141</th>\n",
       "      <td>Qui as-tu vu?</td>\n",
       "      <td>Koo gis?</td>\n",
       "      <td>Loo gis?</td>\n",
       "    </tr>\n",
       "    <tr>\n",
       "      <th>74</th>\n",
       "      <td>Sur cette photo ci, il y a des pierres qui son...</td>\n",
       "      <td>Waaw nataal bi de, ay xeer la yoo xam ni dañ d...</td>\n",
       "      <td>Nataal bii de ay nit yun tabax la ak i garab a...</td>\n",
       "    </tr>\n",
       "    <tr>\n",
       "      <th>187</th>\n",
       "      <td>La réunion ce n'est pas après-demain?</td>\n",
       "      <td>Ndaje mi du gannaaw ëlëk?</td>\n",
       "      <td>Ndaw san a réer?</td>\n",
       "    </tr>\n",
       "    <tr>\n",
       "      <th>98</th>\n",
       "      <td>C'est un bûcheron.</td>\n",
       "      <td>Aw lawbe la.</td>\n",
       "      <td>Lawbe la.</td>\n",
       "    </tr>\n",
       "    <tr>\n",
       "      <th>55</th>\n",
       "      <td>Cherche l'autre.</td>\n",
       "      <td>Seetal beneen bi.</td>\n",
       "      <td>Setal keneen ki.</td>\n",
       "    </tr>\n",
       "    <tr>\n",
       "      <th>144</th>\n",
       "      <td>Un homme de courage n'abonde pas en paroles.</td>\n",
       "      <td>Jambaar du bare wax.</td>\n",
       "      <td>Jambaar du bare wax.</td>\n",
       "    </tr>\n",
       "    <tr>\n",
       "      <th>162</th>\n",
       "      <td>Dis à l'homme de partir!</td>\n",
       "      <td>Waxal góor gi mu dem!</td>\n",
       "      <td>Waxal góor gi mu dem!</td>\n",
       "    </tr>\n",
       "    <tr>\n",
       "      <th>24</th>\n",
       "      <td>Je crois que ce n'est pas celui-ci!</td>\n",
       "      <td>Du kii, defe naa!</td>\n",
       "      <td>Defe naa du kookuu, du kookee!</td>\n",
       "    </tr>\n",
       "    <tr>\n",
       "      <th>30</th>\n",
       "      <td>L'homme partit.</td>\n",
       "      <td>Góor gi dem.</td>\n",
       "      <td>Góor gi dana dem.</td>\n",
       "    </tr>\n",
       "    <tr>\n",
       "      <th>112</th>\n",
       "      <td>Mets de l'ordre à l'intérieur seulement!</td>\n",
       "      <td>Defaral ci biir rekk!</td>\n",
       "      <td>Duggël ci biir mbaa ci fii!</td>\n",
       "    </tr>\n",
       "    <tr>\n",
       "      <th>40</th>\n",
       "      <td>Le voilà assis là-bas.</td>\n",
       "      <td>Ma ŋgii toog.</td>\n",
       "      <td>Ñu ŋgi toog.</td>\n",
       "    </tr>\n",
       "    <tr>\n",
       "      <th>56</th>\n",
       "      <td>Qui sont-ils?</td>\n",
       "      <td>Ñan lañu?</td>\n",
       "      <td>Ku mu?</td>\n",
       "    </tr>\n",
       "    <tr>\n",
       "      <th>179</th>\n",
       "      <td>La femme et l'homme non plus ne désirent s'ent...</td>\n",
       "      <td>Ndaw si ak waa ji itam dañu bëggul déggoo.</td>\n",
       "      <td>Jigéen ji ag góor gi ñjool lañu.</td>\n",
       "    </tr>\n",
       "    <tr>\n",
       "      <th>139</th>\n",
       "      <td>Comment t'appelles-tu?</td>\n",
       "      <td>Noo tudd?</td>\n",
       "      <td>Naka-nga sant?</td>\n",
       "    </tr>\n",
       "    <tr>\n",
       "      <th>80</th>\n",
       "      <td>Il l'a battu à tel point qu'il est là.</td>\n",
       "      <td>Dóor na ka ba mi ŋgi.</td>\n",
       "      <td>Dóor na ka ba mi ŋgi.</td>\n",
       "    </tr>\n",
       "    <tr>\n",
       "      <th>19</th>\n",
       "      <td>J'ai vu l'ovin mâle.</td>\n",
       "      <td>Gis naa xar mu góor ma.</td>\n",
       "      <td>Gis naa xar mu góor ma.</td>\n",
       "    </tr>\n",
       "    <tr>\n",
       "      <th>159</th>\n",
       "      <td>L'homme a donné quelque chose à quelqu'un.</td>\n",
       "      <td>Góor gi may na dara nit.</td>\n",
       "      <td>Góor gi may na nit dara.</td>\n",
       "    </tr>\n",
       "    <tr>\n",
       "      <th>90</th>\n",
       "      <td>C'est là jusqu'au moment où nous trouverons un...</td>\n",
       "      <td>Foofu la ba ba ñuy gis feneen.</td>\n",
       "      <td>Ci fii la ba ba ñuy gis feneen.</td>\n",
       "    </tr>\n",
       "    <tr>\n",
       "      <th>54</th>\n",
       "      <td>Ils ont tous convenu qu'ils travailleraient to...</td>\n",
       "      <td>Degganté ñu ñoom ñép ci lu ñép di liggéeyi ci ...</td>\n",
       "      <td>Daŋga tayal naka keneen kee.</td>\n",
       "    </tr>\n",
       "    <tr>\n",
       "      <th>161</th>\n",
       "      <td>J'irai aujourd'hui!</td>\n",
       "      <td>Tay danaa dem!</td>\n",
       "      <td>Danaa dem!</td>\n",
       "    </tr>\n",
       "    <tr>\n",
       "      <th>51</th>\n",
       "      <td>C'est bon?</td>\n",
       "      <td>Baax na?</td>\n",
       "      <td>Neex na?</td>\n",
       "    </tr>\n",
       "    <tr>\n",
       "      <th>130</th>\n",
       "      <td>Où est le maître de maison?</td>\n",
       "      <td>Ana boroom kër gi?</td>\n",
       "      <td>Ana waa kër gi?</td>\n",
       "    </tr>\n",
       "    <tr>\n",
       "      <th>137</th>\n",
       "      <td>Cela seulement ne suffit pas.</td>\n",
       "      <td>Loolu doŋŋ doyul.</td>\n",
       "      <td>Loolu di guy.</td>\n",
       "    </tr>\n",
       "    <tr>\n",
       "      <th>180</th>\n",
       "      <td>Sur cette photo datant d'il y a trente sept an...</td>\n",
       "      <td>Nataalu fanweer ak juróom-ñaar, maa ngi ci gis...</td>\n",
       "      <td>Waaw, lii nag moom lal la. Benn lal gu yànj bo...</td>\n",
       "    </tr>\n",
       "    <tr>\n",
       "      <th>89</th>\n",
       "      <td>L'homme peut-il aller à Rao?</td>\n",
       "      <td>Góor gi dem Rao?</td>\n",
       "      <td>Góor gi dem?</td>\n",
       "    </tr>\n",
       "    <tr>\n",
       "      <th>125</th>\n",
       "      <td>L'homme a tenu aux enfants de bons propos.</td>\n",
       "      <td>Góor gi wax na xale yi wax ju rafet.</td>\n",
       "      <td>Góor gi nee na ma googule ga nëwoon dellu na.</td>\n",
       "    </tr>\n",
       "    <tr>\n",
       "      <th>178</th>\n",
       "      <td>L'homme a fait un cadeau à Bathe.</td>\n",
       "      <td>Góor gi may na Bacc.</td>\n",
       "      <td>Góor gi may na nit dara.</td>\n",
       "    </tr>\n",
       "    <tr>\n",
       "      <th>182</th>\n",
       "      <td>Tu ne vas pas ailleurs!</td>\n",
       "      <td>Demuloo feneen!</td>\n",
       "      <td>Demuloo fenn!</td>\n",
       "    </tr>\n",
       "    <tr>\n",
       "      <th>107</th>\n",
       "      <td>Ceci est, cependant, une porte conçue avec du ...</td>\n",
       "      <td>Lii nag ab buntu la boo xam ne ndénk lanu ko d...</td>\n",
       "      <td>Lii nag dañ ciy faral di def ndugg maanaam jig...</td>\n",
       "    </tr>\n",
       "    <tr>\n",
       "      <th>14</th>\n",
       "      <td>Bon matin.</td>\n",
       "      <td>Jaam nga fanane.</td>\n",
       "      <td>Jaam nga fanane.</td>\n",
       "    </tr>\n",
       "    <tr>\n",
       "      <th>27</th>\n",
       "      <td>Tu as vu tes autres amis?</td>\n",
       "      <td>Gis ŋga sa xarit yeneen yi?</td>\n",
       "      <td>Gis ŋga sa xarit yan?</td>\n",
       "    </tr>\n",
       "    <tr>\n",
       "      <th>122</th>\n",
       "      <td>Cette photo ci c'est une photo sur laquelle je...</td>\n",
       "      <td>Nataal bi ab nataal la boo xamante yni maa ngi...</td>\n",
       "      <td>Nataal bii de, nataal la boo xam ne ay nit la ...</td>\n",
       "    </tr>\n",
       "    <tr>\n",
       "      <th>195</th>\n",
       "      <td>Celui-ci serait parti.</td>\n",
       "      <td>Kii dafa demkoon.</td>\n",
       "      <td>Kii dafa demkoon.</td>\n",
       "    </tr>\n",
       "    <tr>\n",
       "      <th>46</th>\n",
       "      <td>Homme et lion ne peuvent cohabiter ensemble.</td>\n",
       "      <td>Nit ag gaynde duñu dëkkóo.</td>\n",
       "      <td>Nit ag gaynde duñu dëkkóo.</td>\n",
       "    </tr>\n",
       "    <tr>\n",
       "      <th>193</th>\n",
       "      <td>L'homme est parti je crois!</td>\n",
       "      <td>Ma defe góor gi dem na!</td>\n",
       "      <td>Góor gi dem na, ma defe!</td>\n",
       "    </tr>\n",
       "    <tr>\n",
       "      <th>106</th>\n",
       "      <td>Dis-lui qu'il ne vienne pas.</td>\n",
       "      <td>Ni ka bu mu ñëw.</td>\n",
       "      <td>Waxuma xale yooyale mu àndaloon mooy Ngóone.</td>\n",
       "    </tr>\n",
       "    <tr>\n",
       "      <th>62</th>\n",
       "      <td>Que la paix soit avec toi aussi.</td>\n",
       "      <td>Maaleekum salaam.</td>\n",
       "      <td>Salaam maaleekum.</td>\n",
       "    </tr>\n",
       "    <tr>\n",
       "      <th>2</th>\n",
       "      <td>Qui a parlé?</td>\n",
       "      <td>Ku wax?</td>\n",
       "      <td>Ku mu?</td>\n",
       "    </tr>\n",
       "    <tr>\n",
       "      <th>59</th>\n",
       "      <td>Surtout pars!</td>\n",
       "      <td>Te ŋga dem kat!</td>\n",
       "      <td>Teralal béppu nit!</td>\n",
       "    </tr>\n",
       "    <tr>\n",
       "      <th>158</th>\n",
       "      <td>Quels chevaux voulais-tu et lequel as-tu pris?</td>\n",
       "      <td>Yan fas ŋga bëggoon ak wan ŋga japp?</td>\n",
       "      <td>Fas yeneen yan ŋga jënd?</td>\n",
       "    </tr>\n",
       "    <tr>\n",
       "      <th>197</th>\n",
       "      <td>C'est Fatim, aujourd'hui.</td>\n",
       "      <td>Faatim la, tay.</td>\n",
       "      <td>Faatim la soo demee.</td>\n",
       "    </tr>\n",
       "    <tr>\n",
       "      <th>43</th>\n",
       "      <td>Comme il avait ainsi été en ce lieu.</td>\n",
       "      <td>Noonu mu demoon foofa.</td>\n",
       "      <td>Noonu la woon.</td>\n",
       "    </tr>\n",
       "    <tr>\n",
       "      <th>10</th>\n",
       "      <td>J'ai vu lion.</td>\n",
       "      <td>Gis naa gaynde.</td>\n",
       "      <td>Gis naa gaynde.</td>\n",
       "    </tr>\n",
       "    <tr>\n",
       "      <th>101</th>\n",
       "      <td>C'est un homme qui fut bon!</td>\n",
       "      <td>Nit ku baaxoon la!</td>\n",
       "      <td>Nit la woon!</td>\n",
       "    </tr>\n",
       "    <tr>\n",
       "      <th>73</th>\n",
       "      <td>Certaines personnes ne sont pas encore arrivées.</td>\n",
       "      <td>Ñenn nit ñi yegseeguñu.</td>\n",
       "      <td>Nit ñenn ñi yegseeguñu.</td>\n",
       "    </tr>\n",
       "    <tr>\n",
       "      <th>190</th>\n",
       "      <td>Dites-lui.</td>\n",
       "      <td>Nileen ka.</td>\n",
       "      <td>Nileen leen.</td>\n",
       "    </tr>\n",
       "    <tr>\n",
       "      <th>176</th>\n",
       "      <td>J'ai vu un mouton.</td>\n",
       "      <td>Gis naa am xar.</td>\n",
       "      <td>Gis naa gaynde.</td>\n",
       "    </tr>\n",
       "    <tr>\n",
       "      <th>146</th>\n",
       "      <td>Jusqu'ici, c'est bon.</td>\n",
       "      <td>Ba fi, mu tollu.</td>\n",
       "      <td>Faatim la.</td>\n",
       "    </tr>\n",
       "    <tr>\n",
       "      <th>124</th>\n",
       "      <td>J'ai aperçu un homme.</td>\n",
       "      <td>Séen naa ak nit.</td>\n",
       "      <td>Séen naa aw fas.</td>\n",
       "    </tr>\n",
       "    <tr>\n",
       "      <th>93</th>\n",
       "      <td>C'est cet autre-là?</td>\n",
       "      <td>Kookule la?</td>\n",
       "      <td>Gor gii dem?</td>\n",
       "    </tr>\n",
       "    <tr>\n",
       "      <th>110</th>\n",
       "      <td>C'est le Laobe.</td>\n",
       "      <td>Moo di Lawbe bi.</td>\n",
       "      <td>Lawbe la.</td>\n",
       "    </tr>\n",
       "    <tr>\n",
       "      <th>156</th>\n",
       "      <td>Bonne nuit.</td>\n",
       "      <td>Fanaanal jaam.</td>\n",
       "      <td>Yônu jàam.</td>\n",
       "    </tr>\n",
       "    <tr>\n",
       "      <th>189</th>\n",
       "      <td>Cet homme qui a été.</td>\n",
       "      <td>Góor gii demoon.</td>\n",
       "      <td>Gor gii dem.</td>\n",
       "    </tr>\n",
       "  </tbody>\n",
       "</table>\n",
       "</div>"
      ],
      "text/plain": [
       "                                    original_sentences  \\\n",
       "18                                 Afin que parte qui?   \n",
       "168                          Tu as vu les autres amis?   \n",
       "63                     Quelles femmes se sont égarées?   \n",
       "175  C'est ce que tu as dit que la jeune femme préf...   \n",
       "71                           Moi-même je n'ai pas été.   \n",
       "86                                        Ils partent.   \n",
       "5     Les gens n'étaient pas, habituellement, bavards.   \n",
       "118                                      Bonne soirée.   \n",
       "12                      Tout autre mouton que tu vois.   \n",
       "150  Une photo datant d'il y a soixante et neuf ans...   \n",
       "60                           Mes voeux d'anniversaire.   \n",
       "75                          Je parle de cet enfant-ci?   \n",
       "163                       Comment se passe le travail?   \n",
       "96                                      C'est son ami!   \n",
       "113                          L'homme ne cultivera pas.   \n",
       "7                              S'il n'était pas Laobe.   \n",
       "33                     L'homme est allé à l'intérieur.   \n",
       "134       Moussa vous a dit que j'étais à la retraite.   \n",
       "37                           Je parle de cet homme-ci.   \n",
       "166                 Je n'avais pas été te le cueillir.   \n",
       "109  Sur la photo que vous m'avez envoyée il y a de...   \n",
       "143               Tu as regardé dans cette chambre-ci?   \n",
       "45                      Qu'il attrappe quelles vaches?   \n",
       "157                         Aucun lion ne s'est égaré.   \n",
       "138                                   Alors il partit.   \n",
       "111         C'est l'autre endroit qui n'a pas de trou.   \n",
       "177             L'un, dont il fut question, est parti.   \n",
       "183                   Mais, même moi, je n'ai pas été!   \n",
       "92                               J'ai été jusqu'à lui.   \n",
       "44                       Que j'attrape quelles vaches?   \n",
       "16                                               Quoi?   \n",
       "135                            J'ai vu vache d'Europe.   \n",
       "136       Appelle l'homme qui n'est pas Kangame d'ici!   \n",
       "97                          L'homme qui eût travaillé.   \n",
       "22                                          Là-bas où?   \n",
       "194                             J'ai aperçu un baobab.   \n",
       "126        À ceux-ci, ceux-là, à ceux qui sont là-bas.   \n",
       "4                             Ce n'est pas le tambour!   \n",
       "66                                 Une fois en chemin.   \n",
       "123        Appelle les enfants qui n'iront nulle part.   \n",
       "131          Si on va au fond des choses, c'est Fatim!   \n",
       "173  Sur cette photo ci, j'y vois quelqu'un portant...   \n",
       "26                                  Tu as vu celui-ci?   \n",
       "61                             Attends jusqu'à demain!   \n",
       "145                            J'ai vu vache d'Europe.   \n",
       "83                           Afin qu'il se passe quoi?   \n",
       "8                                  C'est lui qui aime.   \n",
       "141                                      Qui as-tu vu?   \n",
       "74   Sur cette photo ci, il y a des pierres qui son...   \n",
       "187              La réunion ce n'est pas après-demain?   \n",
       "98                                  C'est un bûcheron.   \n",
       "55                                    Cherche l'autre.   \n",
       "144       Un homme de courage n'abonde pas en paroles.   \n",
       "162                           Dis à l'homme de partir!   \n",
       "24                 Je crois que ce n'est pas celui-ci!   \n",
       "30                                     L'homme partit.   \n",
       "112           Mets de l'ordre à l'intérieur seulement!   \n",
       "40                              Le voilà assis là-bas.   \n",
       "56                                       Qui sont-ils?   \n",
       "179  La femme et l'homme non plus ne désirent s'ent...   \n",
       "139                             Comment t'appelles-tu?   \n",
       "80              Il l'a battu à tel point qu'il est là.   \n",
       "19                                J'ai vu l'ovin mâle.   \n",
       "159         L'homme a donné quelque chose à quelqu'un.   \n",
       "90   C'est là jusqu'au moment où nous trouverons un...   \n",
       "54   Ils ont tous convenu qu'ils travailleraient to...   \n",
       "161                                J'irai aujourd'hui!   \n",
       "51                                          C'est bon?   \n",
       "130                        Où est le maître de maison?   \n",
       "137                      Cela seulement ne suffit pas.   \n",
       "180  Sur cette photo datant d'il y a trente sept an...   \n",
       "89                        L'homme peut-il aller à Rao?   \n",
       "125         L'homme a tenu aux enfants de bons propos.   \n",
       "178                  L'homme a fait un cadeau à Bathe.   \n",
       "182                            Tu ne vas pas ailleurs!   \n",
       "107  Ceci est, cependant, une porte conçue avec du ...   \n",
       "14                                          Bon matin.   \n",
       "27                           Tu as vu tes autres amis?   \n",
       "122  Cette photo ci c'est une photo sur laquelle je...   \n",
       "195                             Celui-ci serait parti.   \n",
       "46        Homme et lion ne peuvent cohabiter ensemble.   \n",
       "193                        L'homme est parti je crois!   \n",
       "106                       Dis-lui qu'il ne vienne pas.   \n",
       "62                    Que la paix soit avec toi aussi.   \n",
       "2                                         Qui a parlé?   \n",
       "59                                       Surtout pars!   \n",
       "158     Quels chevaux voulais-tu et lequel as-tu pris?   \n",
       "197                          C'est Fatim, aujourd'hui.   \n",
       "43                Comme il avait ainsi été en ce lieu.   \n",
       "10                                       J'ai vu lion.   \n",
       "101                        C'est un homme qui fut bon!   \n",
       "73    Certaines personnes ne sont pas encore arrivées.   \n",
       "190                                         Dites-lui.   \n",
       "176                                 J'ai vu un mouton.   \n",
       "146                              Jusqu'ici, c'est bon.   \n",
       "124                              J'ai aperçu un homme.   \n",
       "93                                 C'est cet autre-là?   \n",
       "110                                    C'est le Laobe.   \n",
       "156                                        Bonne nuit.   \n",
       "189                               Cet homme qui a été.   \n",
       "\n",
       "                                          translations  \\\n",
       "18                                       Ndax kan dem?   \n",
       "168                        Gis ŋga sa yeneen xarit yi?   \n",
       "63                                Jigéen ñan ñoo réer?   \n",
       "175                       Li ŋga wax la ndaw si taamu.   \n",
       "71                                     Man mii demuma.   \n",
       "86                                           Dem nañu.   \n",
       "5                                 Nit ñi daawuñu coow.   \n",
       "118                                      Naka ngon si.   \n",
       "12                            Meneen xar mépp moo gis.   \n",
       "150  Nataalu juróom benn fukk ak juróom ñeent day w...   \n",
       "60        Mangui lay ndokkel ci sa bess bu délu si bi.   \n",
       "75                                  Xale bule laa wax?   \n",
       "163                                    Naka ligéey bi?   \n",
       "96                                         Xaritam la!   \n",
       "113                                    Góor gi du bày.   \n",
       "7                                    Su dulwoon Lawbe.   \n",
       "33                             Góor gi dem na ci biir.   \n",
       "134           Musaa wax na leen jël naa sama retraite.   \n",
       "37                                   Kile nit laa wax.   \n",
       "166                            Wattaliwuma la ka woon.   \n",
       "109  Nataal bi ngeen ma yónne nii de ñaari baŋ lañ ...   \n",
       "143                                 Seet ŋga néeg buu?   \n",
       "45                              Mu japp nag yooyu yan?   \n",
       "157                                Gayndé genn réerul.   \n",
       "138                                      Noona mu dem.   \n",
       "111                               Feneen fi bëttul la.   \n",
       "177                               Kenn ki woon dem na.   \n",
       "183                        Waaye man sax dama dul ñëw!   \n",
       "92                                 Dem naa ba ci moom.   \n",
       "44                                Ma japp nag yee yan?   \n",
       "16                                            Lii lan?   \n",
       "135                                Gis naa nagu Tugal.   \n",
       "136                     Wool góor gi dul Kajgaamu fii!   \n",
       "97                                 Waa ji liggéeykoon.   \n",
       "22                                         Foofee fan?   \n",
       "194                                   Séen naa ag guy.   \n",
       "126                                   Ñii, ñee, ñooñu.   \n",
       "4                                         Du sabar gi!   \n",
       "66                                         Su dee dem.   \n",
       "123                         Wool xale yi dul dem fenn.   \n",
       "131                              Soo demee, Faatim la!   \n",
       "173  Nataal bii maa ngi ciy gis ku yor raaya Senega...   \n",
       "26                                      Gis ŋga kooku?   \n",
       "61                                      Negal ba ëlëk!   \n",
       "145                                Gis naa nagu Tugël.   \n",
       "83                                        Ndax lan am?   \n",
       "8                                            Moo bëgg.   \n",
       "141                                           Koo gis?   \n",
       "74   Waaw nataal bi de, ay xeer la yoo xam ni dañ d...   \n",
       "187                          Ndaje mi du gannaaw ëlëk?   \n",
       "98                                        Aw lawbe la.   \n",
       "55                                   Seetal beneen bi.   \n",
       "144                               Jambaar du bare wax.   \n",
       "162                              Waxal góor gi mu dem!   \n",
       "24                                   Du kii, defe naa!   \n",
       "30                                        Góor gi dem.   \n",
       "112                              Defaral ci biir rekk!   \n",
       "40                                       Ma ŋgii toog.   \n",
       "56                                           Ñan lañu?   \n",
       "179         Ndaw si ak waa ji itam dañu bëggul déggoo.   \n",
       "139                                          Noo tudd?   \n",
       "80                               Dóor na ka ba mi ŋgi.   \n",
       "19                             Gis naa xar mu góor ma.   \n",
       "159                           Góor gi may na dara nit.   \n",
       "90                      Foofu la ba ba ñuy gis feneen.   \n",
       "54   Degganté ñu ñoom ñép ci lu ñép di liggéeyi ci ...   \n",
       "161                                     Tay danaa dem!   \n",
       "51                                            Baax na?   \n",
       "130                                 Ana boroom kër gi?   \n",
       "137                                  Loolu doŋŋ doyul.   \n",
       "180  Nataalu fanweer ak juróom-ñaar, maa ngi ci gis...   \n",
       "89                                    Góor gi dem Rao?   \n",
       "125               Góor gi wax na xale yi wax ju rafet.   \n",
       "178                               Góor gi may na Bacc.   \n",
       "182                                    Demuloo feneen!   \n",
       "107  Lii nag ab buntu la boo xam ne ndénk lanu ko d...   \n",
       "14                                    Jaam nga fanane.   \n",
       "27                         Gis ŋga sa xarit yeneen yi?   \n",
       "122  Nataal bi ab nataal la boo xamante yni maa ngi...   \n",
       "195                                  Kii dafa demkoon.   \n",
       "46                          Nit ag gaynde duñu dëkkóo.   \n",
       "193                            Ma defe góor gi dem na!   \n",
       "106                                   Ni ka bu mu ñëw.   \n",
       "62                                   Maaleekum salaam.   \n",
       "2                                              Ku wax?   \n",
       "59                                     Te ŋga dem kat!   \n",
       "158               Yan fas ŋga bëggoon ak wan ŋga japp?   \n",
       "197                                    Faatim la, tay.   \n",
       "43                              Noonu mu demoon foofa.   \n",
       "10                                     Gis naa gaynde.   \n",
       "101                                 Nit ku baaxoon la!   \n",
       "73                             Ñenn nit ñi yegseeguñu.   \n",
       "190                                         Nileen ka.   \n",
       "176                                    Gis naa am xar.   \n",
       "146                                   Ba fi, mu tollu.   \n",
       "124                                   Séen naa ak nit.   \n",
       "93                                         Kookule la?   \n",
       "110                                   Moo di Lawbe bi.   \n",
       "156                                     Fanaanal jaam.   \n",
       "189                                   Góor gii demoon.   \n",
       "\n",
       "                                           predictions  \n",
       "18                                       Ndax kan dem?  \n",
       "168                           Gis ŋga samay xarit yan?  \n",
       "63                                  Jigéen jan a réer?  \n",
       "175                                  Li ŋga wax loolu.  \n",
       "71                                         Man demuma.  \n",
       "86                                           Dem nañu.  \n",
       "5                          Dëkku Séeréer yi ag Pël yi.  \n",
       "118                                   Jaam nga fanane.  \n",
       "12                               Xar menn man ŋga wax.  \n",
       "150  Lii ab dëkkuwaay la, ab dëkkuwaay am ab bayo c...  \n",
       "60               Mangui lay ndokkel ci att bu bess bi.  \n",
       "75                                  Bule xale laa wax?  \n",
       "163                                     Naka-nga sant?  \n",
       "96                                      Suñu sarit la!  \n",
       "113                                    Góor gi bëggul.  \n",
       "7                                   Su ñëwul dana xam.  \n",
       "33                             Góor gi dem na ci biir.  \n",
       "134                                        Musaa rekk.  \n",
       "37                                  Bule xale laa wax.  \n",
       "166                       Demumawoon fenn tày ci suba.  \n",
       "109  Nataal bii ngeen ma yónnee de ab dëkku àll bu ...  \n",
       "143                                 Seet ŋga buu néeg?  \n",
       "45                                      Nit la ci lan?  \n",
       "157                                   Fas wenn réerul.  \n",
       "138                                            Mu dem.  \n",
       "111                               Keneen ki la ñu xam.  \n",
       "177                            Benn bi rëcc laay seet.  \n",
       "183                        Waaye man sax dama dul ñëw!  \n",
       "92                                    Dem naa ba Ndar.  \n",
       "44                                      Nit la ci lan?  \n",
       "16                                            Lii lan?  \n",
       "135                                Gis naa nagu Tugël.  \n",
       "136                     Wool góor gi dul Kajgaamu fii!  \n",
       "97                                 Góor gi waxkoon na.  \n",
       "22                                           Ci foofu?  \n",
       "194                                   Séen naa aw fas.  \n",
       "126                     Ci biir la, ci biir a biir la!  \n",
       "4                                     Du sabar gu rëy!  \n",
       "66                               Góor gu baax réer na.  \n",
       "123                        Xale yi, foofu nag, ñu mer.  \n",
       "131                               Faatim la soo demee!  \n",
       "173  Lii nag dañ ciy faral di def ndugg maanaam jig...  \n",
       "26                                        Gis ŋga lan?  \n",
       "61                                  Wooyal ma alkaati!  \n",
       "145                                Gis naa nagu Tugël.  \n",
       "83                                        Ndax mu dem?  \n",
       "8                                        Moo doon dem.  \n",
       "141                                           Loo gis?  \n",
       "74   Nataal bii de ay nit yun tabax la ak i garab a...  \n",
       "187                                   Ndaw san a réer?  \n",
       "98                                           Lawbe la.  \n",
       "55                                    Setal keneen ki.  \n",
       "144                               Jambaar du bare wax.  \n",
       "162                              Waxal góor gi mu dem!  \n",
       "24                      Defe naa du kookuu, du kookee!  \n",
       "30                                   Góor gi dana dem.  \n",
       "112                        Duggël ci biir mbaa ci fii!  \n",
       "40                                        Ñu ŋgi toog.  \n",
       "56                                              Ku mu?  \n",
       "179                   Jigéen ji ag góor gi ñjool lañu.  \n",
       "139                                     Naka-nga sant?  \n",
       "80                               Dóor na ka ba mi ŋgi.  \n",
       "19                             Gis naa xar mu góor ma.  \n",
       "159                           Góor gi may na nit dara.  \n",
       "90                     Ci fii la ba ba ñuy gis feneen.  \n",
       "54                        Daŋga tayal naka keneen kee.  \n",
       "161                                         Danaa dem!  \n",
       "51                                            Neex na?  \n",
       "130                                    Ana waa kër gi?  \n",
       "137                                      Loolu di guy.  \n",
       "180  Waaw, lii nag moom lal la. Benn lal gu yànj bo...  \n",
       "89                                        Góor gi dem?  \n",
       "125      Góor gi nee na ma googule ga nëwoon dellu na.  \n",
       "178                           Góor gi may na nit dara.  \n",
       "182                                      Demuloo fenn!  \n",
       "107  Lii nag dañ ciy faral di def ndugg maanaam jig...  \n",
       "14                                    Jaam nga fanane.  \n",
       "27                               Gis ŋga sa xarit yan?  \n",
       "122  Nataal bii de, nataal la boo xam ne ay nit la ...  \n",
       "195                                  Kii dafa demkoon.  \n",
       "46                          Nit ag gaynde duñu dëkkóo.  \n",
       "193                           Góor gi dem na, ma defe!  \n",
       "106       Waxuma xale yooyale mu àndaloon mooy Ngóone.  \n",
       "62                                   Salaam maaleekum.  \n",
       "2                                               Ku mu?  \n",
       "59                                  Teralal béppu nit!  \n",
       "158                           Fas yeneen yan ŋga jënd?  \n",
       "197                               Faatim la soo demee.  \n",
       "43                                      Noonu la woon.  \n",
       "10                                     Gis naa gaynde.  \n",
       "101                                       Nit la woon!  \n",
       "73                             Nit ñenn ñi yegseeguñu.  \n",
       "190                                       Nileen leen.  \n",
       "176                                    Gis naa gaynde.  \n",
       "146                                         Faatim la.  \n",
       "124                                   Séen naa aw fas.  \n",
       "93                                        Gor gii dem?  \n",
       "110                                          Lawbe la.  \n",
       "156                                         Yônu jàam.  \n",
       "189                                       Gor gii dem.  "
      ]
     },
     "execution_count": 10,
     "metadata": {},
     "output_type": "execute_result"
    }
   ],
   "source": [
    "# let us display 100 samples\n",
    "pd.options.display.max_rows = 100\n",
    "df_ft_to_wf[1].sample(100)"
   ]
  }
 ],
 "metadata": {
  "accelerator": "GPU",
  "colab": {
   "gpuType": "T4",
   "provenance": []
  },
  "gpuClass": "standard",
  "kernelspec": {
   "display_name": "conda_pytorch_p310",
   "language": "python",
   "name": "conda_pytorch_p310"
  },
  "language_info": {
   "codemirror_mode": {
    "name": "ipython",
    "version": 3
   },
   "file_extension": ".py",
   "mimetype": "text/x-python",
   "name": "python",
   "nbconvert_exporter": "python",
   "pygments_lexer": "ipython3",
   "version": "3.10.10"
  },
  "widgets": {
   "application/vnd.jupyter.widget-state+json": {
    "07b148611e0445068ec4ae2a289f968d": {
     "model_module": "@jupyter-widgets/base",
     "model_module_version": "1.2.0",
     "model_name": "LayoutModel",
     "state": {
      "_model_module": "@jupyter-widgets/base",
      "_model_module_version": "1.2.0",
      "_model_name": "LayoutModel",
      "_view_count": null,
      "_view_module": "@jupyter-widgets/base",
      "_view_module_version": "1.2.0",
      "_view_name": "LayoutView",
      "align_content": null,
      "align_items": null,
      "align_self": null,
      "border": null,
      "bottom": null,
      "display": null,
      "flex": null,
      "flex_flow": null,
      "grid_area": null,
      "grid_auto_columns": null,
      "grid_auto_flow": null,
      "grid_auto_rows": null,
      "grid_column": null,
      "grid_gap": null,
      "grid_row": null,
      "grid_template_areas": null,
      "grid_template_columns": null,
      "grid_template_rows": null,
      "height": null,
      "justify_content": null,
      "justify_items": null,
      "left": null,
      "margin": null,
      "max_height": null,
      "max_width": null,
      "min_height": null,
      "min_width": null,
      "object_fit": null,
      "object_position": null,
      "order": null,
      "overflow": null,
      "overflow_x": null,
      "overflow_y": null,
      "padding": null,
      "right": null,
      "top": null,
      "visibility": null,
      "width": null
     }
    },
    "08fc0c2dc9b94689b80e085b682e54a5": {
     "model_module": "@jupyter-widgets/controls",
     "model_module_version": "1.5.0",
     "model_name": "LabelModel",
     "state": {
      "_dom_classes": [],
      "_model_module": "@jupyter-widgets/controls",
      "_model_module_version": "1.5.0",
      "_model_name": "LabelModel",
      "_view_count": null,
      "_view_module": "@jupyter-widgets/controls",
      "_view_module_version": "1.5.0",
      "_view_name": "LabelView",
      "description": "",
      "description_tooltip": null,
      "layout": "IPY_MODEL_07b148611e0445068ec4ae2a289f968d",
      "placeholder": "​",
      "style": "IPY_MODEL_4b5ea7f279854a01aaa4f5043372df2d",
      "value": "0.009 MB of 0.009 MB uploaded (0.000 MB deduped)\r"
     }
    },
    "347e2725b013421a951237d46b26d5e3": {
     "model_module": "@jupyter-widgets/controls",
     "model_module_version": "1.5.0",
     "model_name": "ProgressStyleModel",
     "state": {
      "_model_module": "@jupyter-widgets/controls",
      "_model_module_version": "1.5.0",
      "_model_name": "ProgressStyleModel",
      "_view_count": null,
      "_view_module": "@jupyter-widgets/base",
      "_view_module_version": "1.2.0",
      "_view_name": "StyleView",
      "bar_color": null,
      "description_width": ""
     }
    },
    "378d2507f5d5418681817fdbe4f227fd": {
     "model_module": "@jupyter-widgets/base",
     "model_module_version": "1.2.0",
     "model_name": "LayoutModel",
     "state": {
      "_model_module": "@jupyter-widgets/base",
      "_model_module_version": "1.2.0",
      "_model_name": "LayoutModel",
      "_view_count": null,
      "_view_module": "@jupyter-widgets/base",
      "_view_module_version": "1.2.0",
      "_view_name": "LayoutView",
      "align_content": null,
      "align_items": null,
      "align_self": null,
      "border": null,
      "bottom": null,
      "display": null,
      "flex": null,
      "flex_flow": null,
      "grid_area": null,
      "grid_auto_columns": null,
      "grid_auto_flow": null,
      "grid_auto_rows": null,
      "grid_column": null,
      "grid_gap": null,
      "grid_row": null,
      "grid_template_areas": null,
      "grid_template_columns": null,
      "grid_template_rows": null,
      "height": null,
      "justify_content": null,
      "justify_items": null,
      "left": null,
      "margin": null,
      "max_height": null,
      "max_width": null,
      "min_height": null,
      "min_width": null,
      "object_fit": null,
      "object_position": null,
      "order": null,
      "overflow": null,
      "overflow_x": null,
      "overflow_y": null,
      "padding": null,
      "right": null,
      "top": null,
      "visibility": null,
      "width": null
     }
    },
    "4b5ea7f279854a01aaa4f5043372df2d": {
     "model_module": "@jupyter-widgets/controls",
     "model_module_version": "1.5.0",
     "model_name": "DescriptionStyleModel",
     "state": {
      "_model_module": "@jupyter-widgets/controls",
      "_model_module_version": "1.5.0",
      "_model_name": "DescriptionStyleModel",
      "_view_count": null,
      "_view_module": "@jupyter-widgets/base",
      "_view_module_version": "1.2.0",
      "_view_name": "StyleView",
      "description_width": ""
     }
    },
    "4d964dc7e08d48f0be400d45c09f16e8": {
     "model_module": "@jupyter-widgets/base",
     "model_module_version": "1.2.0",
     "model_name": "LayoutModel",
     "state": {
      "_model_module": "@jupyter-widgets/base",
      "_model_module_version": "1.2.0",
      "_model_name": "LayoutModel",
      "_view_count": null,
      "_view_module": "@jupyter-widgets/base",
      "_view_module_version": "1.2.0",
      "_view_name": "LayoutView",
      "align_content": null,
      "align_items": null,
      "align_self": null,
      "border": null,
      "bottom": null,
      "display": null,
      "flex": null,
      "flex_flow": null,
      "grid_area": null,
      "grid_auto_columns": null,
      "grid_auto_flow": null,
      "grid_auto_rows": null,
      "grid_column": null,
      "grid_gap": null,
      "grid_row": null,
      "grid_template_areas": null,
      "grid_template_columns": null,
      "grid_template_rows": null,
      "height": null,
      "justify_content": null,
      "justify_items": null,
      "left": null,
      "margin": null,
      "max_height": null,
      "max_width": null,
      "min_height": null,
      "min_width": null,
      "object_fit": null,
      "object_position": null,
      "order": null,
      "overflow": null,
      "overflow_x": null,
      "overflow_y": null,
      "padding": null,
      "right": null,
      "top": null,
      "visibility": null,
      "width": null
     }
    },
    "abcbe273e5604d2383a7a1f03e79c682": {
     "model_module": "@jupyter-widgets/controls",
     "model_module_version": "1.5.0",
     "model_name": "VBoxModel",
     "state": {
      "_dom_classes": [],
      "_model_module": "@jupyter-widgets/controls",
      "_model_module_version": "1.5.0",
      "_model_name": "VBoxModel",
      "_view_count": null,
      "_view_module": "@jupyter-widgets/controls",
      "_view_module_version": "1.5.0",
      "_view_name": "VBoxView",
      "box_style": "",
      "children": [
       "IPY_MODEL_08fc0c2dc9b94689b80e085b682e54a5",
       "IPY_MODEL_bb425d8fef6e41f4bc1f1097477d1502"
      ],
      "layout": "IPY_MODEL_378d2507f5d5418681817fdbe4f227fd"
     }
    },
    "bb425d8fef6e41f4bc1f1097477d1502": {
     "model_module": "@jupyter-widgets/controls",
     "model_module_version": "1.5.0",
     "model_name": "FloatProgressModel",
     "state": {
      "_dom_classes": [],
      "_model_module": "@jupyter-widgets/controls",
      "_model_module_version": "1.5.0",
      "_model_name": "FloatProgressModel",
      "_view_count": null,
      "_view_module": "@jupyter-widgets/controls",
      "_view_module_version": "1.5.0",
      "_view_name": "ProgressView",
      "bar_style": "",
      "description": "",
      "description_tooltip": null,
      "layout": "IPY_MODEL_4d964dc7e08d48f0be400d45c09f16e8",
      "max": 1,
      "min": 0,
      "orientation": "horizontal",
      "style": "IPY_MODEL_347e2725b013421a951237d46b26d5e3",
      "value": 1
     }
    }
   }
  }
 },
 "nbformat": 4,
 "nbformat_minor": 4
}
