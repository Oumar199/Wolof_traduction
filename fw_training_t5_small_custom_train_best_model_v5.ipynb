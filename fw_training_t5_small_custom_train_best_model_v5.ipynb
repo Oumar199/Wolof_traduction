{
 "cells": [
  {
   "attachments": {},
   "cell_type": "markdown",
   "metadata": {
    "id": "YTsVWwCgLAJl"
   },
   "source": [
    "Fine-tuning best T5 Transformer 🤖\n",
    "-----------------------------------\n",
    "\n",
    "In this notebook, we will continue the fine-tuning of T5 transformer on the new extracted sentences from the book **Grammaire de Wolof Moderne** without considering the definitions. We provide, bellow, the main evaluation figures, obtained from the hyperparameter search step. We will evaluate the training on the validation dataset.\n",
    "\n",
    "- Parallel coordinates from panel:\n",
    "\n",
    "- Parameter importance char: \n",
    "[t5_v3_importance](https://wandb.ai/oumar-kane-team/small-t5-cross-fw-translation-bayes-hpsearch-v3/reports/undefined-23-05-16-10-36-17---Vmlldzo0Mzc4NDY0?accessToken=eyaiyrid0qz1zg2jkq3fc65biw53084dpfitbi0dgonq6mweupw6kgjml9d2nv1w)"
   ]
  },
  {
   "attachments": {},
   "cell_type": "markdown",
   "metadata": {},
   "source": [
    "We can see in the above chart that the batch is the most important parameter with a negative correlation with the BLEU score (meaning that a lower batch size is better). Next, we the probability of modifying a character in the french corpus is also important and a high probability provide a better BLEU score.  "
   ]
  },
  {
   "cell_type": "code",
   "execution_count": 1,
   "metadata": {
    "colab": {
     "base_uri": "https://localhost:8080/"
    },
    "executionInfo": {
     "elapsed": 41798,
     "status": "ok",
     "timestamp": 1683491387892,
     "user": {
      "displayName": "Oumar Kane",
      "userId": "05889582343301699661"
     },
     "user_tz": 0
    },
    "id": "dF37F8_nLAJr",
    "outputId": "7f5f2bed-9b9d-49f9-c8f1-6fe427cf1502"
   },
   "outputs": [
    {
     "name": "stderr",
     "output_type": "stream",
     "text": [
      "c:\\Users\\Oumar Kane\\AppData\\Local\\pypoetry\\Cache\\virtualenvs\\pytorch1-HleOW5am-py3.10\\lib\\site-packages\\tqdm\\auto.py:22: TqdmWarning: IProgress not found. Please update jupyter and ipywidgets. See https://ipywidgets.readthedocs.io/en/stable/user_install.html\n",
      "  from .autonotebook import tqdm as notebook_tqdm\n",
      "Global seed set to 0\n"
     ]
    }
   ],
   "source": [
    "# let us import all necessary libraries\n",
    "from transformers import AutoModelForSeq2SeqLM, Seq2SeqTrainingArguments, Seq2SeqTrainer, T5TokenizerFast, set_seed, AdamW, get_linear_schedule_with_warmup, T5ForConditionalGeneration,\\\n",
    "    get_cosine_schedule_with_warmup, Adafactor\n",
    "from wolof_translate.utils.sent_transformers import TransformerSequences\n",
    "from wolof_translate.utils.improvements.end_marks import add_end_mark # added\n",
    "from torch.nn import TransformerEncoderLayer, TransformerDecoderLayer\n",
    "from torch.utils.data import Dataset, DataLoader, random_split\n",
    "from wolof_translate.data.dataset_v4 import SentenceDataset # v2 -> v3 -> v4\n",
    "from wolof_translate.utils.sent_corrections import *\n",
    "from sklearn.model_selection import train_test_split\n",
    "from torch.optim.lr_scheduler import _LRScheduler\n",
    "# from custom_rnn.utils.kwargs import Kwargs\n",
    "from torch.nn.utils.rnn import pad_sequence\n",
    "from plotly.subplots import make_subplots\n",
    "from nlpaug.augmenter import char as nac\n",
    "from torch.utils.data import DataLoader\n",
    "# from datasets  import load_metric # make pip install evaluate instead\n",
    "# and pip install sacrebleu for instance\n",
    "from torch.nn import functional as F\n",
    "import plotly.graph_objects as go\n",
    "from tokenizers import Tokenizer\n",
    "import matplotlib.pyplot as plt\n",
    "import pytorch_lightning as lt\n",
    "from tqdm import tqdm, trange\n",
    "from functools import partial\n",
    "from torch.nn import utils\n",
    "from copy import deepcopy\n",
    "from torch import optim\n",
    "from typing import *\n",
    "from torch import nn\n",
    "import pandas as pd\n",
    "import numpy as np\n",
    "import itertools\n",
    "import evaluate\n",
    "import random\n",
    "import string\n",
    "import shutil\n",
    "import wandb\n",
    "import torch\n",
    "import json\n",
    "import copy\n",
    "import os\n",
    "\n",
    "# add seed for everything\n",
    "lt.seed_everything(0)\n",
    "\n",
    "os.environ[\"WANDB_DISABLED\"] = \"true\""
   ]
  },
  {
   "attachments": {},
   "cell_type": "markdown",
   "metadata": {
    "id": "19MVywzSLAJt"
   },
   "source": [
    "## French to wolof"
   ]
  },
  {
   "attachments": {},
   "cell_type": "markdown",
   "metadata": {
    "id": "n4tP0YGyLAJt"
   },
   "source": [
    "### Configure dataset 🔠"
   ]
  },
  {
   "cell_type": "code",
   "execution_count": 2,
   "metadata": {
    "executionInfo": {
     "elapsed": 77,
     "status": "ok",
     "timestamp": 1683491387893,
     "user": {
      "displayName": "Oumar Kane",
      "userId": "05889582343301699661"
     },
     "user_tz": 0
    },
    "id": "t2GR0YjYuLc5"
   },
   "outputs": [],
   "source": [
    "# recuperate the tokenizer from a json file\n",
    "tokenizer = T5TokenizerFast(tokenizer_file=f\"wolof-translate/wolof_translate/tokenizers/t5_tokenizers/tokenizer_v3_2.json\")"
   ]
  },
  {
   "cell_type": "code",
   "execution_count": 3,
   "metadata": {
    "executionInfo": {
     "elapsed": 77,
     "status": "ok",
     "timestamp": 1683491387894,
     "user": {
      "displayName": "Oumar Kane",
      "userId": "05889582343301699661"
     },
     "user_tz": 0
    },
    "id": "BIjksuH9LAJv"
   },
   "outputs": [],
   "source": [
    "def recuperate_datasets(fr_char_p: float, fr_word_p: float, max_len: int, end_mark_opt: int):\n",
    "\n",
    "  # Let us recuperate the end_mark adding option\n",
    "  if end_mark_opt == 1:\n",
    "    # Create augmentation to add on French sentences\n",
    "    fr_augmentation_1 = TransformerSequences(nac.KeyboardAug(aug_char_p=fr_char_p, aug_word_p=fr_word_p,\n",
    "                                                             aug_word_max = max_len),\n",
    "                                          remove_mark_space, delete_guillemet_space, add_mark_space)\n",
    "\n",
    "    fr_augmentation_2 = TransformerSequences(remove_mark_space, delete_guillemet_space, add_mark_space)\n",
    "    \n",
    "  else:\n",
    "    \n",
    "    if end_mark_opt == 2:\n",
    "\n",
    "      end_mark_fn = partial(add_end_mark, end_mark_to_remove = '!', replace = True)\n",
    "    \n",
    "    elif end_mark_opt == 3:\n",
    "\n",
    "      end_mark_fn = partial(add_end_mark)\n",
    "    \n",
    "    elif end_mark_opt == 4:\n",
    "\n",
    "      end_mark_fn = partial(add_end_mark, end_mark_to_remove = '!')\n",
    "\n",
    "    # Create augmentation to add on French sentences\n",
    "    fr_augmentation_1 = TransformerSequences(nac.KeyboardAug(aug_char_p=fr_char_p, aug_word_p=fr_word_p,\n",
    "                                                             aug_word_max = max_len),\n",
    "                                          remove_mark_space, delete_guillemet_space, add_mark_space, end_mark_fn)\n",
    "    \n",
    "    fr_augmentation_2 = TransformerSequences(remove_mark_space, delete_guillemet_space, add_mark_space, end_mark_fn)\n",
    "    \n",
    "  # Recuperate the train dataset\n",
    "  train_dataset_aug = SentenceDataset(f\"data/extractions/new_data/train_set.csv\",\n",
    "                                        tokenizer,\n",
    "                                        truncation = True, max_len=max_len,\n",
    "                                        cp1_transformer = fr_augmentation_1,\n",
    "                                        cp2_transformer = fr_augmentation_2\n",
    "                                        )\n",
    "\n",
    "  # Recuperate the valid dataset\n",
    "  valid_dataset = SentenceDataset(f\"data/extractions/new_data/valid_set.csv\",\n",
    "                                        tokenizer, max_len=max_len,\n",
    "                                        cp1_transformer = fr_augmentation_2,\n",
    "                                        cp2_transformer = fr_augmentation_2,\n",
    "                                        truncation = True)\n",
    "  \n",
    "  # Return the datasets\n",
    "  return train_dataset_aug, valid_dataset"
   ]
  },
  {
   "attachments": {},
   "cell_type": "markdown",
   "metadata": {
    "id": "0vhzP3IaLAJv"
   },
   "source": [
    "### Configure the model and the evaluation function ⚙️"
   ]
  },
  {
   "attachments": {},
   "cell_type": "markdown",
   "metadata": {
    "id": "R8I3tm4WLAJx"
   },
   "source": [
    "Let us evaluate the predictions with the `bleu` metric."
   ]
  },
  {
   "attachments": {},
   "cell_type": "markdown",
   "metadata": {
    "id": "IuppKYiyLAJx"
   },
   "source": [
    "Let us initialize the evaluation object."
   ]
  },
  {
   "cell_type": "code",
   "execution_count": 4,
   "metadata": {
    "executionInfo": {
     "elapsed": 74,
     "status": "ok",
     "timestamp": 1683491387896,
     "user": {
      "displayName": "Oumar Kane",
      "userId": "05889582343301699661"
     },
     "user_tz": 0
    },
    "id": "a7Bpd4UPLAJy"
   },
   "outputs": [],
   "source": [
    "%run wolof-translate/wolof_translate/utils/evaluation.py\n",
    "evaluation = TranslationEvaluation(tokenizer)\n"
   ]
  },
  {
   "attachments": {},
   "cell_type": "markdown",
   "metadata": {
    "id": "xT17hB19LAJy"
   },
   "source": [
    "### Searching for the best parameters 🕖"
   ]
  },
  {
   "cell_type": "code",
   "execution_count": 5,
   "metadata": {},
   "outputs": [],
   "source": [
    "from wolof_translate.models.transformers.optimization import TransformerScheduler\n",
    "from wolof_translate.trainers.transformer_trainer import ModelRunner\n",
    "from wolof_translate.utils.evaluation import TranslationEvaluation\n",
    "from wolof_translate.models.transformers.main import Transformer\n",
    "from wolof_translate.utils.split_with_valid import split_data\n"
   ]
  },
  {
   "attachments": {},
   "cell_type": "markdown",
   "metadata": {},
   "source": [
    "-------------"
   ]
  },
  {
   "cell_type": "code",
   "execution_count": null,
   "metadata": {},
   "outputs": [],
   "source": []
  },
  {
   "attachments": {},
   "cell_type": "markdown",
   "metadata": {},
   "source": [
    "### --- Wandb v5 2000"
   ]
  },
  {
   "cell_type": "code",
   "execution_count": null,
   "metadata": {},
   "outputs": [],
   "source": []
  },
  {
   "cell_type": "code",
   "execution_count": 6,
   "metadata": {
    "collapsed": true,
    "jupyter": {
     "outputs_hidden": true
    }
   },
   "outputs": [],
   "source": [
    "# let us initialize the hyperparameter configuration \n",
    "config = {\n",
    "    'random_state': 0,\n",
    "    'fr_char_p': 0.23724577978551456,\n",
    "    'fr_word_p': 0.08738178822117504,\n",
    "    'learning_rate': 0.0010289893593708468,\n",
    "    'weight_decay': 0.017712187484021313,\n",
    "    'batch_size': 16,\n",
    "    'warmup_ratio': 0.0,\n",
    "    'max_epoch': 404,\n",
    "    'epochs': 40,\n",
    "    'mid_epoch': 40,\n",
    "    'max_len': 17,\n",
    "    'end_mark': 3,\n",
    "    'bleu': 7.0873,\n",
    "    'model_dir': 'data/checkpoints/fw_t5_small_custom_train_v5_checkpoints/',\n",
    "    'new_model_dir': 'data/checkpoints/t5_small_custom_train_results_fw_v5/'\n",
    "}\n",
    "\n",
    "# Initialize the model name\n",
    "model_name = 't5-small'\n",
    "\n",
    "# import the model with its pre-trained weights\n",
    "model = T5ForConditionalGeneration.from_pretrained(model_name)\n",
    "\n",
    "# resize the token embeddings\n",
    "model.resize_token_embeddings(len(tokenizer))\n",
    "\n",
    "# let us initialize the evaluation class\n",
    "evaluation = TranslationEvaluation(tokenizer)\n",
    "\n",
    "# let us initialize the trainer\n",
    "trainer = ModelRunner(model, seed = 0, version = 5, evaluation = evaluation, optimizer=Adafactor)\n",
    "\n",
    "# split the data\n",
    "split_data(config['random_state'], csv_file = \"ad_sentences.csv\")\n",
    "\n",
    "# recuperate train and test set\n",
    "train_dataset, test_dataset = recuperate_datasets(config['fr_char_p'], \n",
    "                                                    config['fr_word_p'], config['max_len'],\n",
    "                                                    config['end_mark'])\n",
    "\n",
    "# let us calculate the appropriate warmup steps (let us take a max epoch of 100)\n",
    "length = len(train_dataset)\n",
    "\n",
    "n_steps = length // config['batch_size']\n",
    "\n",
    "num_steps = config['max_epoch'] * n_steps\n",
    "\n",
    "warmup_steps = (config['max_epoch'] * n_steps) * config['warmup_ratio']\n",
    "\n",
    "# # Initialize the scheduler parameters\n",
    "scheduler_args = {'num_warmup_steps': warmup_steps, 'num_training_steps': num_steps}\n",
    "\n",
    "# Initialize the optimizer parameters\n",
    "optimizer_args = {\n",
    "    'lr': config['learning_rate'],\n",
    "    'weight_decay': config['weight_decay'],\n",
    "    # 'betas': (0.9, 0.98),\n",
    "    'warmup_init': False,\n",
    "    'relative_step': False\n",
    "}\n",
    "\n",
    "# Initialize the loaders parameters\n",
    "train_loader_args = {'batch_size': config['batch_size']}\n",
    "\n",
    "# Add the datasets and hyperparameters to trainer\n",
    "trainer.compile(train_dataset, test_dataset, tokenizer, train_loader_args,\n",
    "                optimizer_kwargs = optimizer_args,\n",
    "                lr_scheduler=get_linear_schedule_with_warmup,\n",
    "                lr_scheduler_kwargs=scheduler_args, \n",
    "                predict_with_generate = True,\n",
    "                hugging_face = True,\n",
    "                logging_dir=\"data/logs/t5_small_custom_train_fw\"\n",
    "                )\n",
    "\n",
    "# We will from checkpoints so let us the model\n",
    "trainer.load(config['model_dir'], load_best=True) # Only for the first loading\n",
    "# trainer.load(config['new_model_dir'])\n",
    "\n",
    "        "
   ]
  },
  {
   "cell_type": "code",
   "execution_count": null,
   "metadata": {},
   "outputs": [],
   "source": []
  },
  {
   "attachments": {},
   "cell_type": "markdown",
   "metadata": {},
   "source": [
    "### --- Linear"
   ]
  },
  {
   "cell_type": "code",
   "execution_count": 11,
   "metadata": {
    "collapsed": true,
    "jupyter": {
     "outputs_hidden": true
    }
   },
   "outputs": [
    {
     "name": "stderr",
     "output_type": "stream",
     "text": [
      "  0%|          | 0/35 [00:00<?, ?it/s]c:\\Users\\Oumar Kane\\AppData\\Local\\pypoetry\\Cache\\virtualenvs\\pytorch1-HleOW5am-py3.10\\lib\\site-packages\\torch\\optim\\lr_scheduler.py:257: UserWarning: To get the last learning rate computed by the scheduler, please use `get_last_lr()`.\n",
      "  warnings.warn(\"To get the last learning rate computed by the scheduler, \"\n"
     ]
    },
    {
     "name": "stdout",
     "output_type": "stream",
     "text": [
      "For epoch 6: \n",
      "{Learning rate: [0.001016124393395686]}\n"
     ]
    },
    {
     "name": "stderr",
     "output_type": "stream",
     "text": [
      "Train batch number 99: 100%|██████████| 99/99 [00:23<00:00,  4.21batches/s]\n",
      "Test batch number 13: 100%|██████████| 13/13 [00:03<00:00,  3.27batches/s]\n"
     ]
    },
    {
     "name": "stdout",
     "output_type": "stream",
     "text": [
      "\n",
      "Metrics: {'train_loss': 1.6284285639271592, 'test_loss': 1.9188752632874708, 'bleu': 5.7887, 'gen_len': 6.8838}\n",
      "\n",
      "=============================\n",
      "\n"
     ]
    },
    {
     "name": "stderr",
     "output_type": "stream",
     "text": [
      "  3%|▎         | 1/35 [00:32<18:32, 32.72s/it]"
     ]
    },
    {
     "name": "stdout",
     "output_type": "stream",
     "text": [
      "For epoch 7: \n",
      "{Learning rate: [0.0010135514002006538]}\n"
     ]
    },
    {
     "name": "stderr",
     "output_type": "stream",
     "text": [
      "Train batch number 99: 100%|██████████| 99/99 [00:21<00:00,  4.71batches/s]\n",
      "Test batch number 13: 100%|██████████| 13/13 [00:03<00:00,  3.26batches/s]\n"
     ]
    },
    {
     "name": "stdout",
     "output_type": "stream",
     "text": [
      "\n",
      "Metrics: {'train_loss': 1.532041290793756, 'test_loss': 1.8804471034270067, 'bleu': 6.7211, 'gen_len': 7.4343}\n",
      "\n",
      "=============================\n",
      "\n"
     ]
    },
    {
     "name": "stderr",
     "output_type": "stream",
     "text": [
      "  6%|▌         | 2/35 [01:02<17:04, 31.03s/it]"
     ]
    },
    {
     "name": "stdout",
     "output_type": "stream",
     "text": [
      "For epoch 8: \n",
      "{Learning rate: [0.0010109784070056215]}\n"
     ]
    },
    {
     "name": "stderr",
     "output_type": "stream",
     "text": [
      "Train batch number 99: 100%|██████████| 99/99 [00:21<00:00,  4.65batches/s]\n",
      "Test batch number 13: 100%|██████████| 13/13 [00:03<00:00,  3.34batches/s]\n"
     ]
    },
    {
     "name": "stdout",
     "output_type": "stream",
     "text": [
      "\n",
      "Metrics: {'train_loss': 1.435725952037657, 'test_loss': 1.873359881914579, 'bleu': 5.8884, 'gen_len': 7.1515}\n",
      "\n",
      "=============================\n",
      "\n"
     ]
    },
    {
     "name": "stderr",
     "output_type": "stream",
     "text": [
      "  9%|▊         | 3/35 [01:30<15:54, 29.83s/it]"
     ]
    },
    {
     "name": "stdout",
     "output_type": "stream",
     "text": [
      "For epoch 9: \n",
      "{Learning rate: [0.0010084054138105895]}\n"
     ]
    },
    {
     "name": "stderr",
     "output_type": "stream",
     "text": [
      "Train batch number 99: 100%|██████████| 99/99 [00:21<00:00,  4.61batches/s]\n",
      "Test batch number 13: 100%|██████████| 13/13 [00:04<00:00,  2.85batches/s]\n"
     ]
    },
    {
     "name": "stdout",
     "output_type": "stream",
     "text": [
      "\n",
      "Metrics: {'train_loss': 1.3425256134283663, 'test_loss': 1.864112450526311, 'bleu': 5.8023, 'gen_len': 7.4545}\n",
      "\n",
      "=============================\n",
      "\n"
     ]
    },
    {
     "name": "stderr",
     "output_type": "stream",
     "text": [
      " 11%|█▏        | 4/35 [02:00<15:18, 29.62s/it]"
     ]
    },
    {
     "name": "stdout",
     "output_type": "stream",
     "text": [
      "For epoch 10: \n",
      "{Learning rate: [0.0010058324206155573]}\n"
     ]
    },
    {
     "name": "stderr",
     "output_type": "stream",
     "text": [
      "Train batch number 99: 100%|██████████| 99/99 [00:24<00:00,  4.09batches/s]\n",
      "Test batch number 13: 100%|██████████| 13/13 [00:04<00:00,  2.80batches/s]\n"
     ]
    },
    {
     "name": "stdout",
     "output_type": "stream",
     "text": [
      "\n",
      "Metrics: {'train_loss': 1.2534609473112859, 'test_loss': 1.862254289480356, 'bleu': 7.7873, 'gen_len': 7.5}\n",
      "\n",
      "=============================\n",
      "\n"
     ]
    },
    {
     "name": "stderr",
     "output_type": "stream",
     "text": [
      " 14%|█▍        | 5/35 [02:34<15:35, 31.20s/it]"
     ]
    },
    {
     "name": "stdout",
     "output_type": "stream",
     "text": [
      "For epoch 11: \n",
      "{Learning rate: [0.001003259427420525]}\n"
     ]
    },
    {
     "name": "stderr",
     "output_type": "stream",
     "text": [
      "Train batch number 99: 100%|██████████| 99/99 [00:20<00:00,  4.74batches/s]\n",
      "Test batch number 13: 100%|██████████| 13/13 [00:04<00:00,  3.15batches/s]\n"
     ]
    },
    {
     "name": "stdout",
     "output_type": "stream",
     "text": [
      "\n",
      "Metrics: {'train_loss': 1.1706048876348167, 'test_loss': 1.8670477775427012, 'bleu': 5.4845, 'gen_len': 7.8333}\n",
      "\n",
      "=============================\n",
      "\n"
     ]
    },
    {
     "name": "stderr",
     "output_type": "stream",
     "text": [
      " 17%|█▋        | 6/35 [03:02<14:36, 30.22s/it]"
     ]
    },
    {
     "name": "stdout",
     "output_type": "stream",
     "text": [
      "For epoch 12: \n",
      "{Learning rate: [0.0010006864342254928]}\n"
     ]
    },
    {
     "name": "stderr",
     "output_type": "stream",
     "text": [
      "Train batch number 99: 100%|██████████| 99/99 [00:22<00:00,  4.46batches/s]\n",
      "Test batch number 13: 100%|██████████| 13/13 [00:04<00:00,  2.76batches/s]\n"
     ]
    },
    {
     "name": "stdout",
     "output_type": "stream",
     "text": [
      "\n",
      "Metrics: {'train_loss': 1.0873338303180655, 'test_loss': 1.8693326711654663, 'bleu': 8.9137, 'gen_len': 8.101}\n",
      "\n",
      "=============================\n",
      "\n"
     ]
    },
    {
     "name": "stderr",
     "output_type": "stream",
     "text": [
      " 20%|██        | 7/35 [03:34<14:20, 30.74s/it]"
     ]
    },
    {
     "name": "stdout",
     "output_type": "stream",
     "text": [
      "For epoch 13: \n",
      "{Learning rate: [0.0009981134410304608]}\n"
     ]
    },
    {
     "name": "stderr",
     "output_type": "stream",
     "text": [
      "Train batch number 99: 100%|██████████| 99/99 [00:20<00:00,  4.72batches/s]\n",
      "Test batch number 13: 100%|██████████| 13/13 [00:04<00:00,  3.20batches/s]\n"
     ]
    },
    {
     "name": "stdout",
     "output_type": "stream",
     "text": [
      "\n",
      "Metrics: {'train_loss': 1.0139583939253682, 'test_loss': 1.8820332288742065, 'bleu': 10.058, 'gen_len': 7.303}\n",
      "\n",
      "=============================\n",
      "\n"
     ]
    },
    {
     "name": "stderr",
     "output_type": "stream",
     "text": [
      " 23%|██▎       | 8/35 [04:04<13:43, 30.49s/it]"
     ]
    },
    {
     "name": "stdout",
     "output_type": "stream",
     "text": [
      "For epoch 14: \n",
      "{Learning rate: [0.0009955404478354285]}\n"
     ]
    },
    {
     "name": "stderr",
     "output_type": "stream",
     "text": [
      "Train batch number 99: 100%|██████████| 99/99 [00:23<00:00,  4.20batches/s]\n",
      "Test batch number 13: 100%|██████████| 13/13 [00:04<00:00,  3.22batches/s]\n"
     ]
    },
    {
     "name": "stdout",
     "output_type": "stream",
     "text": [
      "\n",
      "Metrics: {'train_loss': 0.9385225224976588, 'test_loss': 1.8750000091699452, 'bleu': 9.7071, 'gen_len': 8.1212}\n",
      "\n",
      "=============================\n",
      "\n"
     ]
    },
    {
     "name": "stderr",
     "output_type": "stream",
     "text": [
      " 26%|██▌       | 9/35 [04:35<13:15, 30.60s/it]"
     ]
    },
    {
     "name": "stdout",
     "output_type": "stream",
     "text": [
      "For epoch 15: \n",
      "{Learning rate: [0.0009929674546403963]}\n"
     ]
    },
    {
     "name": "stderr",
     "output_type": "stream",
     "text": [
      "Train batch number 99: 100%|██████████| 99/99 [00:20<00:00,  4.73batches/s]\n",
      "Test batch number 13: 100%|██████████| 13/13 [00:04<00:00,  3.19batches/s]\n"
     ]
    },
    {
     "name": "stdout",
     "output_type": "stream",
     "text": [
      "\n",
      "Metrics: {'train_loss': 0.8689116959017936, 'test_loss': 1.9080473184585571, 'bleu': 9.4057, 'gen_len': 7.798}\n",
      "\n",
      "=============================\n",
      "\n"
     ]
    },
    {
     "name": "stderr",
     "output_type": "stream",
     "text": [
      " 29%|██▊       | 10/35 [05:03<12:26, 29.86s/it]"
     ]
    },
    {
     "name": "stdout",
     "output_type": "stream",
     "text": [
      "For epoch 16: \n",
      "{Learning rate: [0.0009903944614453643]}\n"
     ]
    },
    {
     "name": "stderr",
     "output_type": "stream",
     "text": [
      "Train batch number 99: 100%|██████████| 99/99 [00:19<00:00,  5.01batches/s]\n",
      "Test batch number 13: 100%|██████████| 13/13 [00:03<00:00,  3.33batches/s]\n"
     ]
    },
    {
     "name": "stdout",
     "output_type": "stream",
     "text": [
      "\n",
      "Metrics: {'train_loss': 0.7958672076764733, 'test_loss': 1.9285116654175978, 'bleu': 10.5339, 'gen_len': 8.1263}\n",
      "\n",
      "=============================\n",
      "\n"
     ]
    },
    {
     "name": "stderr",
     "output_type": "stream",
     "text": [
      " 31%|███▏      | 11/35 [05:32<11:47, 29.48s/it]"
     ]
    },
    {
     "name": "stdout",
     "output_type": "stream",
     "text": [
      "For epoch 17: \n",
      "{Learning rate: [0.000987821468250332]}\n"
     ]
    },
    {
     "name": "stderr",
     "output_type": "stream",
     "text": [
      "Train batch number 99: 100%|██████████| 99/99 [00:19<00:00,  5.04batches/s]\n",
      "Test batch number 13: 100%|██████████| 13/13 [00:03<00:00,  3.42batches/s]\n"
     ]
    },
    {
     "name": "stdout",
     "output_type": "stream",
     "text": [
      "\n",
      "Metrics: {'train_loss': 0.729548968148954, 'test_loss': 1.954079582140996, 'bleu': 10.7434, 'gen_len': 7.7677}\n",
      "\n",
      "=============================\n",
      "\n"
     ]
    },
    {
     "name": "stderr",
     "output_type": "stream",
     "text": [
      " 34%|███▍      | 12/35 [06:00<11:13, 29.29s/it]"
     ]
    },
    {
     "name": "stdout",
     "output_type": "stream",
     "text": [
      "For epoch 18: \n",
      "{Learning rate: [0.0009852484750552998]}\n"
     ]
    },
    {
     "name": "stderr",
     "output_type": "stream",
     "text": [
      "Train batch number 99: 100%|██████████| 99/99 [00:20<00:00,  4.95batches/s]\n",
      "Test batch number 13: 100%|██████████| 13/13 [00:03<00:00,  3.34batches/s]\n"
     ]
    },
    {
     "name": "stdout",
     "output_type": "stream",
     "text": [
      "\n",
      "Metrics: {'train_loss': 0.6771267083558169, 'test_loss': 1.9451410311918993, 'bleu': 11.3658, 'gen_len': 8.0808}\n",
      "\n",
      "=============================\n",
      "\n"
     ]
    },
    {
     "name": "stderr",
     "output_type": "stream",
     "text": [
      " 37%|███▋      | 13/35 [06:29<10:41, 29.17s/it]"
     ]
    },
    {
     "name": "stdout",
     "output_type": "stream",
     "text": [
      "For epoch 19: \n",
      "{Learning rate: [0.0009826754818602677]}\n"
     ]
    },
    {
     "name": "stderr",
     "output_type": "stream",
     "text": [
      "Train batch number 99: 100%|██████████| 99/99 [00:20<00:00,  4.87batches/s]\n",
      "Test batch number 13: 100%|██████████| 13/13 [00:04<00:00,  2.81batches/s]\n"
     ]
    },
    {
     "name": "stdout",
     "output_type": "stream",
     "text": [
      "\n",
      "Metrics: {'train_loss': 0.6215161434327713, 'test_loss': 1.9675666002126841, 'bleu': 12.7945, 'gen_len': 8.1162}\n",
      "\n",
      "=============================\n",
      "\n"
     ]
    },
    {
     "name": "stderr",
     "output_type": "stream",
     "text": [
      " 40%|████      | 14/35 [06:59<10:17, 29.42s/it]"
     ]
    },
    {
     "name": "stdout",
     "output_type": "stream",
     "text": [
      "For epoch 20: \n",
      "{Learning rate: [0.0009801024886652355]}\n"
     ]
    },
    {
     "name": "stderr",
     "output_type": "stream",
     "text": [
      "Train batch number 99: 100%|██████████| 99/99 [00:21<00:00,  4.52batches/s]\n",
      "Test batch number 13: 100%|██████████| 13/13 [00:04<00:00,  3.19batches/s]\n"
     ]
    },
    {
     "name": "stdout",
     "output_type": "stream",
     "text": [
      "\n",
      "Metrics: {'train_loss': 0.5664467387127153, 'test_loss': 1.988399157157311, 'bleu': 12.7847, 'gen_len': 8.101}\n",
      "\n",
      "=============================\n",
      "\n"
     ]
    },
    {
     "name": "stderr",
     "output_type": "stream",
     "text": [
      " 43%|████▎     | 15/35 [07:29<09:47, 29.39s/it]"
     ]
    },
    {
     "name": "stdout",
     "output_type": "stream",
     "text": [
      "For epoch 21: \n",
      "{Learning rate: [0.0009775294954702033]}\n"
     ]
    },
    {
     "name": "stderr",
     "output_type": "stream",
     "text": [
      "Train batch number 99: 100%|██████████| 99/99 [00:20<00:00,  4.87batches/s]\n",
      "Test batch number 13: 100%|██████████| 13/13 [00:03<00:00,  3.49batches/s]\n"
     ]
    },
    {
     "name": "stdout",
     "output_type": "stream",
     "text": [
      "\n",
      "Metrics: {'train_loss': 0.5188422651603969, 'test_loss': 2.0180970888871412, 'bleu': 13.1182, 'gen_len': 8.0152}\n",
      "\n",
      "=============================\n",
      "\n"
     ]
    },
    {
     "name": "stderr",
     "output_type": "stream",
     "text": [
      " 46%|████▌     | 16/35 [07:58<09:17, 29.33s/it]"
     ]
    },
    {
     "name": "stdout",
     "output_type": "stream",
     "text": [
      "For epoch 22: \n",
      "{Learning rate: [0.0009749565022751711]}\n"
     ]
    },
    {
     "name": "stderr",
     "output_type": "stream",
     "text": [
      "Train batch number 99: 100%|██████████| 99/99 [00:19<00:00,  4.97batches/s]\n",
      "Test batch number 13: 100%|██████████| 13/13 [00:04<00:00,  3.17batches/s]\n"
     ]
    },
    {
     "name": "stdout",
     "output_type": "stream",
     "text": [
      "\n",
      "Metrics: {'train_loss': 0.48061047434204757, 'test_loss': 2.0139577388763428, 'bleu': 15.0716, 'gen_len': 8.1566}\n",
      "\n",
      "=============================\n",
      "\n"
     ]
    },
    {
     "name": "stderr",
     "output_type": "stream",
     "text": [
      " 49%|████▊     | 17/35 [08:27<08:45, 29.19s/it]"
     ]
    },
    {
     "name": "stdout",
     "output_type": "stream",
     "text": [
      "For epoch 23: \n",
      "{Learning rate: [0.000972383509080139]}\n"
     ]
    },
    {
     "name": "stderr",
     "output_type": "stream",
     "text": [
      "Train batch number 99: 100%|██████████| 99/99 [00:19<00:00,  4.99batches/s]\n",
      "Test batch number 13: 100%|██████████| 13/13 [00:04<00:00,  3.16batches/s]\n"
     ]
    },
    {
     "name": "stdout",
     "output_type": "stream",
     "text": [
      "\n",
      "Metrics: {'train_loss': 0.43953828348053825, 'test_loss': 2.049051275620094, 'bleu': 15.5968, 'gen_len': 8.0556}\n",
      "\n",
      "=============================\n",
      "\n"
     ]
    },
    {
     "name": "stderr",
     "output_type": "stream",
     "text": [
      " 51%|█████▏    | 18/35 [08:55<08:13, 29.06s/it]"
     ]
    },
    {
     "name": "stdout",
     "output_type": "stream",
     "text": [
      "For epoch 24: \n",
      "{Learning rate: [0.0009698105158851069]}\n"
     ]
    },
    {
     "name": "stderr",
     "output_type": "stream",
     "text": [
      "Train batch number 99: 100%|██████████| 99/99 [00:19<00:00,  5.01batches/s]\n",
      "Test batch number 13: 100%|██████████| 13/13 [00:03<00:00,  3.25batches/s]\n"
     ]
    },
    {
     "name": "stdout",
     "output_type": "stream",
     "text": [
      "\n",
      "Metrics: {'train_loss': 0.40222679695697744, 'test_loss': 2.055093756088844, 'bleu': 15.5223, 'gen_len': 8.4848}\n",
      "\n",
      "=============================\n",
      "\n"
     ]
    },
    {
     "name": "stderr",
     "output_type": "stream",
     "text": [
      " 54%|█████▍    | 19/35 [09:22<07:35, 28.47s/it]"
     ]
    },
    {
     "name": "stdout",
     "output_type": "stream",
     "text": [
      "For epoch 25: \n",
      "{Learning rate: [0.0009672375226900746]}\n"
     ]
    },
    {
     "name": "stderr",
     "output_type": "stream",
     "text": [
      "Train batch number 99: 100%|██████████| 99/99 [00:20<00:00,  4.94batches/s]\n",
      "Test batch number 13: 100%|██████████| 13/13 [00:05<00:00,  2.56batches/s]\n"
     ]
    },
    {
     "name": "stdout",
     "output_type": "stream",
     "text": [
      "\n",
      "Metrics: {'train_loss': 0.36073063630046265, 'test_loss': 2.100314947275015, 'bleu': 15.9322, 'gen_len': 8.101}\n",
      "\n",
      "=============================\n",
      "\n"
     ]
    },
    {
     "name": "stderr",
     "output_type": "stream",
     "text": [
      " 57%|█████▋    | 20/35 [09:52<07:13, 28.91s/it]"
     ]
    },
    {
     "name": "stdout",
     "output_type": "stream",
     "text": [
      "For epoch 26: \n",
      "{Learning rate: [0.0009646645294950424]}\n"
     ]
    },
    {
     "name": "stderr",
     "output_type": "stream",
     "text": [
      "Train batch number 99: 100%|██████████| 99/99 [00:21<00:00,  4.65batches/s]\n",
      "Test batch number 13: 100%|██████████| 13/13 [00:03<00:00,  3.36batches/s]\n"
     ]
    },
    {
     "name": "stdout",
     "output_type": "stream",
     "text": [
      "\n",
      "Metrics: {'train_loss': 0.3276661232565389, 'test_loss': 2.1394241589766283, 'bleu': 15.0718, 'gen_len': 7.9444}\n",
      "\n",
      "=============================\n",
      "\n"
     ]
    },
    {
     "name": "stderr",
     "output_type": "stream",
     "text": [
      " 60%|██████    | 21/35 [10:21<06:43, 28.83s/it]"
     ]
    },
    {
     "name": "stdout",
     "output_type": "stream",
     "text": [
      "For epoch 27: \n",
      "{Learning rate: [0.0009620915363000102]}\n"
     ]
    },
    {
     "name": "stderr",
     "output_type": "stream",
     "text": [
      "Train batch number 99: 100%|██████████| 99/99 [00:19<00:00,  4.96batches/s]\n",
      "Test batch number 13: 100%|██████████| 13/13 [00:03<00:00,  3.32batches/s]\n"
     ]
    },
    {
     "name": "stdout",
     "output_type": "stream",
     "text": [
      "\n",
      "Metrics: {'train_loss': 0.3026853083360075, 'test_loss': 2.1459848238871646, 'bleu': 15.5919, 'gen_len': 7.9899}\n",
      "\n",
      "=============================\n",
      "\n"
     ]
    },
    {
     "name": "stderr",
     "output_type": "stream",
     "text": [
      " 63%|██████▎   | 22/35 [10:48<06:07, 28.28s/it]"
     ]
    },
    {
     "name": "stdout",
     "output_type": "stream",
     "text": [
      "For epoch 28: \n",
      "{Learning rate: [0.000959518543104978]}\n"
     ]
    },
    {
     "name": "stderr",
     "output_type": "stream",
     "text": [
      "Train batch number 99: 100%|██████████| 99/99 [00:20<00:00,  4.89batches/s]\n",
      "Test batch number 13: 100%|██████████| 13/13 [00:04<00:00,  3.24batches/s]\n"
     ]
    },
    {
     "name": "stdout",
     "output_type": "stream",
     "text": [
      "\n",
      "Metrics: {'train_loss': 0.279452086247579, 'test_loss': 2.1539574586428127, 'bleu': 15.9401, 'gen_len': 8.1566}\n",
      "\n",
      "=============================\n",
      "\n"
     ]
    },
    {
     "name": "stderr",
     "output_type": "stream",
     "text": [
      " 66%|██████▌   | 23/35 [11:17<05:43, 28.59s/it]"
     ]
    },
    {
     "name": "stdout",
     "output_type": "stream",
     "text": [
      "For epoch 29: \n",
      "{Learning rate: [0.0009569455499099459]}\n"
     ]
    },
    {
     "name": "stderr",
     "output_type": "stream",
     "text": [
      "Train batch number 99: 100%|██████████| 99/99 [00:20<00:00,  4.86batches/s]\n",
      "Test batch number 13: 100%|██████████| 13/13 [00:03<00:00,  3.38batches/s]\n"
     ]
    },
    {
     "name": "stdout",
     "output_type": "stream",
     "text": [
      "\n",
      "Metrics: {'train_loss': 0.2663555966332705, 'test_loss': 2.167778180195735, 'bleu': 15.396, 'gen_len': 8.1869}\n",
      "\n",
      "=============================\n",
      "\n"
     ]
    },
    {
     "name": "stderr",
     "output_type": "stream",
     "text": [
      " 69%|██████▊   | 24/35 [11:45<05:10, 28.22s/it]"
     ]
    },
    {
     "name": "stdout",
     "output_type": "stream",
     "text": [
      "For epoch 30: \n",
      "{Learning rate: [0.0009543725567149137]}\n"
     ]
    },
    {
     "name": "stderr",
     "output_type": "stream",
     "text": [
      "Train batch number 99: 100%|██████████| 99/99 [00:20<00:00,  4.86batches/s]\n",
      "Test batch number 13: 100%|██████████| 13/13 [00:04<00:00,  3.18batches/s]\n"
     ]
    },
    {
     "name": "stdout",
     "output_type": "stream",
     "text": [
      "\n",
      "Metrics: {'train_loss': 0.23993719775568356, 'test_loss': 2.2007048588532667, 'bleu': 16.1018, 'gen_len': 8.0909}\n",
      "\n",
      "=============================\n",
      "\n"
     ]
    },
    {
     "name": "stderr",
     "output_type": "stream",
     "text": [
      " 71%|███████▏  | 25/35 [12:14<04:45, 28.60s/it]"
     ]
    },
    {
     "name": "stdout",
     "output_type": "stream",
     "text": [
      "For epoch 31: \n",
      "{Learning rate: [0.0009517995635198815]}\n"
     ]
    },
    {
     "name": "stderr",
     "output_type": "stream",
     "text": [
      "Train batch number 99: 100%|██████████| 99/99 [00:21<00:00,  4.68batches/s]\n",
      "Test batch number 13: 100%|██████████| 13/13 [00:03<00:00,  3.29batches/s]\n"
     ]
    },
    {
     "name": "stdout",
     "output_type": "stream",
     "text": [
      "\n",
      "Metrics: {'train_loss': 0.22983723216586643, 'test_loss': 2.230344295501709, 'bleu': 18.8047, 'gen_len': 8.0606}\n",
      "\n",
      "=============================\n",
      "\n"
     ]
    },
    {
     "name": "stderr",
     "output_type": "stream",
     "text": [
      " 74%|███████▍  | 26/35 [12:44<04:21, 29.09s/it]"
     ]
    },
    {
     "name": "stdout",
     "output_type": "stream",
     "text": [
      "For epoch 32: \n",
      "{Learning rate: [0.0009492265703248494]}\n"
     ]
    },
    {
     "name": "stderr",
     "output_type": "stream",
     "text": [
      "Train batch number 99: 100%|██████████| 99/99 [00:19<00:00,  4.97batches/s]\n",
      "Test batch number 13: 100%|██████████| 13/13 [00:03<00:00,  3.34batches/s]\n"
     ]
    },
    {
     "name": "stdout",
     "output_type": "stream",
     "text": [
      "\n",
      "Metrics: {'train_loss': 0.20847153121774847, 'test_loss': 2.242130160331726, 'bleu': 16.6578, 'gen_len': 7.9697}\n",
      "\n",
      "=============================\n",
      "\n"
     ]
    },
    {
     "name": "stderr",
     "output_type": "stream",
     "text": [
      " 77%|███████▋  | 27/35 [13:12<03:48, 28.52s/it]"
     ]
    },
    {
     "name": "stdout",
     "output_type": "stream",
     "text": [
      "For epoch 33: \n",
      "{Learning rate: [0.0009466535771298172]}\n"
     ]
    },
    {
     "name": "stderr",
     "output_type": "stream",
     "text": [
      "Train batch number 99: 100%|██████████| 99/99 [00:22<00:00,  4.31batches/s]\n",
      "Test batch number 13: 100%|██████████| 13/13 [00:03<00:00,  3.36batches/s]\n"
     ]
    },
    {
     "name": "stdout",
     "output_type": "stream",
     "text": [
      "\n",
      "Metrics: {'train_loss': 0.1947114606848871, 'test_loss': 2.233705786558298, 'bleu': 18.8843, 'gen_len': 8.2222}\n",
      "\n",
      "=============================\n",
      "\n"
     ]
    },
    {
     "name": "stderr",
     "output_type": "stream",
     "text": [
      " 80%|████████  | 28/35 [13:43<03:26, 29.50s/it]"
     ]
    },
    {
     "name": "stdout",
     "output_type": "stream",
     "text": [
      "For epoch 34: \n",
      "{Learning rate: [0.0009440805839347851]}\n"
     ]
    },
    {
     "name": "stderr",
     "output_type": "stream",
     "text": [
      "Train batch number 99: 100%|██████████| 99/99 [00:20<00:00,  4.90batches/s]\n",
      "Test batch number 13: 100%|██████████| 13/13 [00:03<00:00,  3.37batches/s]\n"
     ]
    },
    {
     "name": "stdout",
     "output_type": "stream",
     "text": [
      "\n",
      "Metrics: {'train_loss': 0.1837430973396157, 'test_loss': 2.235409874182481, 'bleu': 19.1865, 'gen_len': 8.3232}\n",
      "\n",
      "=============================\n",
      "\n"
     ]
    },
    {
     "name": "stderr",
     "output_type": "stream",
     "text": [
      " 83%|████████▎ | 29/35 [14:12<02:56, 29.36s/it]"
     ]
    },
    {
     "name": "stdout",
     "output_type": "stream",
     "text": [
      "For epoch 35: \n",
      "{Learning rate: [0.0009415075907397529]}\n"
     ]
    },
    {
     "name": "stderr",
     "output_type": "stream",
     "text": [
      "Train batch number 99: 100%|██████████| 99/99 [00:21<00:00,  4.64batches/s]\n",
      "Test batch number 13: 100%|██████████| 13/13 [00:03<00:00,  3.40batches/s]\n"
     ]
    },
    {
     "name": "stdout",
     "output_type": "stream",
     "text": [
      "\n",
      "Metrics: {'train_loss': 0.17107313871383667, 'test_loss': 2.2654745487066417, 'bleu': 18.3817, 'gen_len': 8.2374}\n",
      "\n",
      "=============================\n",
      "\n"
     ]
    },
    {
     "name": "stderr",
     "output_type": "stream",
     "text": [
      " 86%|████████▌ | 30/35 [14:41<02:25, 29.09s/it]"
     ]
    },
    {
     "name": "stdout",
     "output_type": "stream",
     "text": [
      "For epoch 36: \n",
      "{Learning rate: [0.0009389345975447207]}\n"
     ]
    },
    {
     "name": "stderr",
     "output_type": "stream",
     "text": [
      "Train batch number 99: 100%|██████████| 99/99 [00:20<00:00,  4.80batches/s]\n",
      "Test batch number 13: 100%|██████████| 13/13 [00:03<00:00,  3.30batches/s]\n"
     ]
    },
    {
     "name": "stdout",
     "output_type": "stream",
     "text": [
      "\n",
      "Metrics: {'train_loss': 0.1635037006603347, 'test_loss': 2.293791578366206, 'bleu': 17.8607, 'gen_len': 8.1818}\n",
      "\n",
      "=============================\n",
      "\n"
     ]
    },
    {
     "name": "stderr",
     "output_type": "stream",
     "text": [
      " 89%|████████▊ | 31/35 [15:09<01:54, 28.74s/it]"
     ]
    },
    {
     "name": "stdout",
     "output_type": "stream",
     "text": [
      "For epoch 37: \n",
      "{Learning rate: [0.0009363616043496886]}\n"
     ]
    },
    {
     "name": "stderr",
     "output_type": "stream",
     "text": [
      "Train batch number 99: 100%|██████████| 99/99 [00:20<00:00,  4.91batches/s]\n",
      "Test batch number 13: 100%|██████████| 13/13 [00:03<00:00,  3.38batches/s]\n"
     ]
    },
    {
     "name": "stdout",
     "output_type": "stream",
     "text": [
      "\n",
      "Metrics: {'train_loss': 0.15747462777477322, 'test_loss': 2.3149837255477905, 'bleu': 18.0602, 'gen_len': 8.1869}\n",
      "\n",
      "=============================\n",
      "\n"
     ]
    },
    {
     "name": "stderr",
     "output_type": "stream",
     "text": [
      " 91%|█████████▏| 32/35 [15:36<01:24, 28.29s/it]"
     ]
    },
    {
     "name": "stdout",
     "output_type": "stream",
     "text": [
      "For epoch 38: \n",
      "{Learning rate: [0.0009337886111546564]}\n"
     ]
    },
    {
     "name": "stderr",
     "output_type": "stream",
     "text": [
      "Train batch number 99: 100%|██████████| 99/99 [00:19<00:00,  4.99batches/s]\n",
      "Test batch number 13: 100%|██████████| 13/13 [00:03<00:00,  3.27batches/s]\n"
     ]
    },
    {
     "name": "stdout",
     "output_type": "stream",
     "text": [
      "\n",
      "Metrics: {'train_loss': 0.1458902053836018, 'test_loss': 2.3323240922047543, 'bleu': 19.7585, 'gen_len': 8.1313}\n",
      "\n",
      "=============================\n",
      "\n"
     ]
    },
    {
     "name": "stderr",
     "output_type": "stream",
     "text": [
      " 94%|█████████▍| 33/35 [16:05<00:56, 28.43s/it]"
     ]
    },
    {
     "name": "stdout",
     "output_type": "stream",
     "text": [
      "For epoch 39: \n",
      "{Learning rate: [0.0009312156179596242]}\n"
     ]
    },
    {
     "name": "stderr",
     "output_type": "stream",
     "text": [
      "Train batch number 99: 100%|██████████| 99/99 [00:20<00:00,  4.75batches/s]\n",
      "Test batch number 13: 100%|██████████| 13/13 [00:04<00:00,  3.01batches/s]\n"
     ]
    },
    {
     "name": "stdout",
     "output_type": "stream",
     "text": [
      "\n",
      "Metrics: {'train_loss': 0.13896194265948403, 'test_loss': 2.3487079602021437, 'bleu': 17.4541, 'gen_len': 8.0707}\n",
      "\n",
      "=============================\n",
      "\n"
     ]
    },
    {
     "name": "stderr",
     "output_type": "stream",
     "text": [
      " 97%|█████████▋| 34/35 [16:33<00:28, 28.40s/it]"
     ]
    },
    {
     "name": "stdout",
     "output_type": "stream",
     "text": [
      "For epoch 40: \n",
      "{Learning rate: [0.0009286426247645921]}\n"
     ]
    },
    {
     "name": "stderr",
     "output_type": "stream",
     "text": [
      "Train batch number 99: 100%|██████████| 99/99 [00:21<00:00,  4.62batches/s]\n",
      "Test batch number 13: 100%|██████████| 13/13 [00:03<00:00,  3.36batches/s]\n"
     ]
    },
    {
     "name": "stdout",
     "output_type": "stream",
     "text": [
      "\n",
      "Metrics: {'train_loss': 0.13329573223988214, 'test_loss': 2.3199255283062277, 'bleu': 17.5266, 'gen_len': 8.3182}\n",
      "\n",
      "=============================\n",
      "\n"
     ]
    },
    {
     "name": "stderr",
     "output_type": "stream",
     "text": [
      "100%|██████████| 35/35 [17:02<00:00, 29.21s/it]\n"
     ]
    }
   ],
   "source": [
    "trainer.train(epochs = config['epochs'] - trainer.current_epoch, auto_save=True, metric_for_best_model='bleu', metric_objective='maximize', log_step=1,\n",
    "              saving_directory = config['new_model_dir'])"
   ]
  },
  {
   "cell_type": "markdown",
   "metadata": {},
   "source": [
    "### --- Cosine"
   ]
  },
  {
   "cell_type": "code",
   "execution_count": null,
   "metadata": {},
   "outputs": [],
   "source": [
    "trainer.train(epochs = config['epochs'] - trainer.current_epoch, auto_save=True, metric_for_best_model='bleu', metric_objective='maximize', log_step=1,\n",
    "              saving_directory = config['new_model_dir'])"
   ]
  },
  {
   "attachments": {},
   "cell_type": "markdown",
   "metadata": {},
   "source": [
    "### --- Wandb v5_2 3000"
   ]
  },
  {
   "cell_type": "code",
   "execution_count": 1,
   "metadata": {},
   "outputs": [
    {
     "data": {
      "text/plain": [
       "127"
      ]
     },
     "execution_count": 1,
     "metadata": {},
     "output_type": "execute_result"
    }
   ],
   "source": []
  },
  {
   "cell_type": "code",
   "execution_count": 7,
   "metadata": {},
   "outputs": [],
   "source": [
    "# let us initialize the hyperparameter configuration \n",
    "config = {\n",
    "    'random_state': 0,\n",
    "    'fr_char_p': 0.06673707344553906,\n",
    "    'fr_word_p': 0.07626063714036732,\n",
    "    'learning_rate': 0.0030232985434635257,\n",
    "    'weight_decay': 0.02659316315720403,\n",
    "    'batch_size': 16,\n",
    "    'warmup_ratio': 0.0,\n",
    "    'max_epoch': 827,\n",
    "    'epochs': 800,\n",
    "    'mid_epoch': 83,\n",
    "    'max_len': 19,\n",
    "    'end_mark': 3,\n",
    "    'bleu': 8.4915,\n",
    "    'model_dir': 'data/checkpoints/fw_t5_small_custom_train_v5_2_checkpoints',\n",
    "    'new_model_dir': 'data/checkpoints/t5_small_custom_train_results_fw_v5_2'\n",
    "}\n",
    "\n",
    "# Initialize the model name\n",
    "model_name = 't5-small'\n",
    "\n",
    "# import the model with its pre-trained weights\n",
    "model = T5ForConditionalGeneration.from_pretrained(model_name)\n",
    "\n",
    "# resize the token embeddings\n",
    "model.resize_token_embeddings(len(tokenizer))\n",
    "\n",
    "# let us initialize the evaluation class\n",
    "evaluation = TranslationEvaluation(tokenizer)\n",
    "\n",
    "# let us initialize the trainer\n",
    "trainer = ModelRunner(model, seed = 0, version = '5_2', evaluation = evaluation, optimizer=Adafactor)\n",
    "\n",
    "# split the data\n",
    "split_data(config['random_state'], csv_file = \"ad_sentences.csv\")\n",
    "\n",
    "# recuperate train and test set\n",
    "train_dataset, test_dataset = recuperate_datasets(config['fr_char_p'], \n",
    "                                                    config['fr_word_p'], config['max_len'],\n",
    "                                                    config['end_mark'])\n",
    "\n",
    "# let us calculate the appropriate warmup steps (let us take a max epoch of 100)\n",
    "length = len(train_dataset)\n",
    "\n",
    "n_steps = length // config['batch_size']\n",
    "\n",
    "num_steps = config['max_epoch'] * n_steps\n",
    "\n",
    "warmup_steps = (config['max_epoch'] * n_steps) * config['warmup_ratio']\n",
    "\n",
    "# # Initialize the scheduler parameters\n",
    "scheduler_args = {'num_warmup_steps': warmup_steps, 'num_training_steps': num_steps}\n",
    "\n",
    "# Initialize the optimizer parameters\n",
    "optimizer_args = {\n",
    "    'lr': config['learning_rate'],\n",
    "    'weight_decay': config['weight_decay'],\n",
    "    # 'betas': (0.9, 0.98),\n",
    "    'warmup_init': False,\n",
    "    'relative_step': False\n",
    "}\n",
    "\n",
    "# Initialize the loaders parameters\n",
    "train_loader_args = {'batch_size': config['batch_size']}\n",
    "\n",
    "# Add the datasets and hyperparameters to trainer\n",
    "trainer.compile(train_dataset, test_dataset, tokenizer, train_loader_args,\n",
    "                optimizer_kwargs = optimizer_args,\n",
    "                lr_scheduler=get_cosine_schedule_with_warmup,\n",
    "                lr_scheduler_kwargs=scheduler_args, \n",
    "                predict_with_generate = True,\n",
    "                hugging_face = True,\n",
    "                logging_dir=\"data/logs/t5_small_custom_train_fw\"\n",
    "                )\n",
    "\n",
    "# We will from checkpoints so let us the model\n",
    "# trainer.load(config['model_dir'], load_best=True) # Only for the first loading\n",
    "trainer.load(config['new_model_dir'], load_best = True)\n",
    "\n",
    "        "
   ]
  },
  {
   "cell_type": "code",
   "execution_count": null,
   "metadata": {},
   "outputs": [],
   "source": []
  },
  {
   "attachments": {},
   "cell_type": "markdown",
   "metadata": {},
   "source": [
    "### --- Linear step"
   ]
  },
  {
   "cell_type": "code",
   "execution_count": 7,
   "metadata": {},
   "outputs": [
    {
     "name": "stderr",
     "output_type": "stream",
     "text": [
      "  0%|          | 0/78 [00:00<?, ?it/s]/home/ec2-user/anaconda3/envs/pytorch_p310/lib/python3.10/site-packages/torch/optim/lr_scheduler.py:265: UserWarning: To get the last learning rate computed by the scheduler, please use `get_last_lr()`.\n",
      "  warnings.warn(\"To get the last learning rate computed by the scheduler, \"\n"
     ]
    },
    {
     "name": "stdout",
     "output_type": "stream",
     "text": [
      "For epoch 6: \n",
      "{Learning rate: [0.0030048333165675106]}\n"
     ]
    },
    {
     "name": "stderr",
     "output_type": "stream",
     "text": [
      "Train batch number 99: 100%|██████████| 99/99 [00:28<00:00,  3.49batches/s]\n",
      "Test batch number 13: 100%|██████████| 13/13 [00:11<00:00,  1.13batches/s]\n"
     ]
    },
    {
     "name": "stdout",
     "output_type": "stream",
     "text": [
      "\n",
      "Metrics: {'train_loss': 1.0044883995345144, 'test_loss': 1.7446289887795081, 'bleu': 7.0496, 'gen_len': 8.6515}\n",
      "\n",
      "=============================\n",
      "\n"
     ]
    },
    {
     "name": "stderr",
     "output_type": "stream",
     "text": [
      "  1%|▏         | 1/78 [00:41<53:27, 41.65s/it]"
     ]
    },
    {
     "name": "stdout",
     "output_type": "stream",
     "text": [
      "For epoch 7: \n",
      "{Learning rate: [0.0030011402711883073]}\n"
     ]
    },
    {
     "name": "stderr",
     "output_type": "stream",
     "text": [
      "Train batch number 99: 100%|██████████| 99/99 [00:12<00:00,  7.71batches/s]\n",
      "Test batch number 13: 100%|██████████| 13/13 [00:03<00:00,  3.98batches/s]\n"
     ]
    },
    {
     "name": "stdout",
     "output_type": "stream",
     "text": [
      "\n",
      "Metrics: {'train_loss': 0.8440375267857253, 'test_loss': 1.7576169417454646, 'bleu': 10.0839, 'gen_len': 8.9798}\n",
      "\n",
      "=============================\n",
      "\n"
     ]
    },
    {
     "name": "stderr",
     "output_type": "stream",
     "text": [
      "  3%|▎         | 2/78 [01:00<36:00, 28.42s/it]"
     ]
    },
    {
     "name": "stdout",
     "output_type": "stream",
     "text": [
      "For epoch 8: \n",
      "{Learning rate: [0.002997447225809105]}\n"
     ]
    },
    {
     "name": "stderr",
     "output_type": "stream",
     "text": [
      "Train batch number 99: 100%|██████████| 99/99 [00:13<00:00,  7.51batches/s]\n",
      "Test batch number 13: 100%|██████████| 13/13 [00:03<00:00,  3.96batches/s]\n"
     ]
    },
    {
     "name": "stdout",
     "output_type": "stream",
     "text": [
      "\n",
      "Metrics: {'train_loss': 0.6963981049831467, 'test_loss': 1.7593738849346454, 'bleu': 12.5585, 'gen_len': 9.9242}\n",
      "\n",
      "=============================\n",
      "\n"
     ]
    },
    {
     "name": "stderr",
     "output_type": "stream",
     "text": [
      "  4%|▍         | 3/78 [01:20<30:27, 24.37s/it]"
     ]
    },
    {
     "name": "stdout",
     "output_type": "stream",
     "text": [
      "For epoch 9: \n",
      "{Learning rate: [0.0029937541804299014]}\n"
     ]
    },
    {
     "name": "stderr",
     "output_type": "stream",
     "text": [
      "Train batch number 99: 100%|██████████| 99/99 [00:13<00:00,  7.52batches/s]\n",
      "Test batch number 13: 100%|██████████| 13/13 [00:03<00:00,  4.01batches/s]\n"
     ]
    },
    {
     "name": "stdout",
     "output_type": "stream",
     "text": [
      "\n",
      "Metrics: {'train_loss': 0.5731818383992321, 'test_loss': 1.7930631454174335, 'bleu': 13.8405, 'gen_len': 9.197}\n",
      "\n",
      "=============================\n",
      "\n"
     ]
    },
    {
     "name": "stderr",
     "output_type": "stream",
     "text": [
      "  5%|▌         | 4/78 [01:39<27:39, 22.43s/it]"
     ]
    },
    {
     "name": "stdout",
     "output_type": "stream",
     "text": [
      "For epoch 10: \n",
      "{Learning rate: [0.002990061135050698]}\n"
     ]
    },
    {
     "name": "stderr",
     "output_type": "stream",
     "text": [
      "Train batch number 99: 100%|██████████| 99/99 [00:13<00:00,  7.53batches/s]\n",
      "Test batch number 13: 100%|██████████| 13/13 [00:03<00:00,  3.90batches/s]\n"
     ]
    },
    {
     "name": "stdout",
     "output_type": "stream",
     "text": [
      "\n",
      "Metrics: {'train_loss': 0.4648998439914048, 'test_loss': 1.856773046346811, 'bleu': 13.5259, 'gen_len': 9.2626}\n",
      "\n",
      "=============================\n",
      "\n"
     ]
    },
    {
     "name": "stderr",
     "output_type": "stream",
     "text": [
      "  6%|▋         | 5/78 [01:58<25:26, 20.91s/it]"
     ]
    },
    {
     "name": "stdout",
     "output_type": "stream",
     "text": [
      "For epoch 11: \n",
      "{Learning rate: [0.0029863680896714956]}\n"
     ]
    },
    {
     "name": "stderr",
     "output_type": "stream",
     "text": [
      "Train batch number 99: 100%|██████████| 99/99 [00:12<00:00,  7.79batches/s]\n",
      "Test batch number 13: 100%|██████████| 13/13 [00:03<00:00,  4.06batches/s]\n"
     ]
    },
    {
     "name": "stdout",
     "output_type": "stream",
     "text": [
      "\n",
      "Metrics: {'train_loss': 0.37859054271018866, 'test_loss': 1.8921253864581769, 'bleu': 16.5042, 'gen_len': 9.303}\n",
      "\n",
      "=============================\n",
      "\n"
     ]
    },
    {
     "name": "stderr",
     "output_type": "stream",
     "text": [
      "  8%|▊         | 6/78 [02:17<24:18, 20.26s/it]"
     ]
    },
    {
     "name": "stdout",
     "output_type": "stream",
     "text": [
      "For epoch 12: \n",
      "{Learning rate: [0.0029826750442922922]}\n"
     ]
    },
    {
     "name": "stderr",
     "output_type": "stream",
     "text": [
      "Train batch number 99: 100%|██████████| 99/99 [00:13<00:00,  7.58batches/s]\n",
      "Test batch number 13: 100%|██████████| 13/13 [00:03<00:00,  4.12batches/s]\n"
     ]
    },
    {
     "name": "stdout",
     "output_type": "stream",
     "text": [
      "\n",
      "Metrics: {'train_loss': 0.31221282632664, 'test_loss': 1.8979637256035438, 'bleu': 16.3964, 'gen_len': 9.4495}\n",
      "\n",
      "=============================\n",
      "\n"
     ]
    },
    {
     "name": "stderr",
     "output_type": "stream",
     "text": [
      "  9%|▉         | 7/78 [02:34<23:04, 19.49s/it]"
     ]
    },
    {
     "name": "stdout",
     "output_type": "stream",
     "text": [
      "For epoch 13: \n",
      "{Learning rate: [0.0029789819989130893]}\n"
     ]
    },
    {
     "name": "stderr",
     "output_type": "stream",
     "text": [
      "Train batch number 99: 100%|██████████| 99/99 [00:13<00:00,  7.56batches/s]\n",
      "Test batch number 13: 100%|██████████| 13/13 [00:03<00:00,  3.82batches/s]\n"
     ]
    },
    {
     "name": "stdout",
     "output_type": "stream",
     "text": [
      "\n",
      "Metrics: {'train_loss': 0.2643395570492504, 'test_loss': 1.9255068760651808, 'bleu': 15.053, 'gen_len': 9.798}\n",
      "\n",
      "=============================\n",
      "\n"
     ]
    },
    {
     "name": "stderr",
     "output_type": "stream",
     "text": [
      " 10%|█         | 8/78 [02:53<22:15, 19.08s/it]"
     ]
    },
    {
     "name": "stdout",
     "output_type": "stream",
     "text": [
      "For epoch 14: \n",
      "{Learning rate: [0.0029752889535338864]}\n"
     ]
    },
    {
     "name": "stderr",
     "output_type": "stream",
     "text": [
      "Train batch number 99: 100%|██████████| 99/99 [00:12<00:00,  7.70batches/s]\n",
      "Test batch number 13: 100%|██████████| 13/13 [00:03<00:00,  4.10batches/s]\n"
     ]
    },
    {
     "name": "stdout",
     "output_type": "stream",
     "text": [
      "\n",
      "Metrics: {'train_loss': 0.222671359476417, 'test_loss': 1.9960002532372108, 'bleu': 15.4147, 'gen_len': 9.3182}\n",
      "\n",
      "=============================\n",
      "\n"
     ]
    },
    {
     "name": "stderr",
     "output_type": "stream",
     "text": [
      " 12%|█▏        | 9/78 [03:10<21:27, 18.66s/it]"
     ]
    },
    {
     "name": "stdout",
     "output_type": "stream",
     "text": [
      "For epoch 15: \n",
      "{Learning rate: [0.002971595908154683]}\n"
     ]
    },
    {
     "name": "stderr",
     "output_type": "stream",
     "text": [
      "Train batch number 99: 100%|██████████| 99/99 [00:13<00:00,  7.50batches/s]\n",
      "Test batch number 13: 100%|██████████| 13/13 [00:03<00:00,  4.05batches/s]\n"
     ]
    },
    {
     "name": "stdout",
     "output_type": "stream",
     "text": [
      "\n",
      "Metrics: {'train_loss': 0.1962290413752951, 'test_loss': 1.979709735283485, 'bleu': 15.147, 'gen_len': 9.6364}\n",
      "\n",
      "=============================\n",
      "\n"
     ]
    },
    {
     "name": "stderr",
     "output_type": "stream",
     "text": [
      " 13%|█▎        | 10/78 [03:28<20:57, 18.49s/it]"
     ]
    },
    {
     "name": "stdout",
     "output_type": "stream",
     "text": [
      "For epoch 16: \n",
      "{Learning rate: [0.0029679028627754805]}\n"
     ]
    },
    {
     "name": "stderr",
     "output_type": "stream",
     "text": [
      "Train batch number 99: 100%|██████████| 99/99 [00:13<00:00,  7.50batches/s]\n",
      "Test batch number 13: 100%|██████████| 13/13 [00:03<00:00,  3.93batches/s]\n"
     ]
    },
    {
     "name": "stdout",
     "output_type": "stream",
     "text": [
      "\n",
      "Metrics: {'train_loss': 0.17741119545517545, 'test_loss': 2.0217226376900306, 'bleu': 15.1391, 'gen_len': 9.5707}\n",
      "\n",
      "=============================\n",
      "\n"
     ]
    },
    {
     "name": "stderr",
     "output_type": "stream",
     "text": [
      " 14%|█▍        | 11/78 [03:47<20:33, 18.41s/it]"
     ]
    },
    {
     "name": "stdout",
     "output_type": "stream",
     "text": [
      "For epoch 17: \n",
      "{Learning rate: [0.002964209817396277]}\n"
     ]
    },
    {
     "name": "stderr",
     "output_type": "stream",
     "text": [
      "Train batch number 99: 100%|██████████| 99/99 [00:12<00:00,  7.68batches/s]\n",
      "Test batch number 13: 100%|██████████| 13/13 [00:03<00:00,  3.91batches/s]\n"
     ]
    },
    {
     "name": "stdout",
     "output_type": "stream",
     "text": [
      "\n",
      "Metrics: {'train_loss': 0.15557519670086678, 'test_loss': 2.0189028611549964, 'bleu': 14.6332, 'gen_len': 9.3838}\n",
      "\n",
      "=============================\n",
      "\n"
     ]
    },
    {
     "name": "stderr",
     "output_type": "stream",
     "text": [
      " 15%|█▌        | 12/78 [04:05<20:05, 18.27s/it]"
     ]
    },
    {
     "name": "stdout",
     "output_type": "stream",
     "text": [
      "For epoch 18: \n",
      "{Learning rate: [0.002960516772017074]}\n"
     ]
    },
    {
     "name": "stderr",
     "output_type": "stream",
     "text": [
      "Train batch number 99: 100%|██████████| 99/99 [00:13<00:00,  7.61batches/s]\n",
      "Test batch number 13: 100%|██████████| 13/13 [00:03<00:00,  4.09batches/s]\n"
     ]
    },
    {
     "name": "stdout",
     "output_type": "stream",
     "text": [
      "\n",
      "Metrics: {'train_loss': 0.14360806519033933, 'test_loss': 2.0350347573940573, 'bleu': 16.9622, 'gen_len': 9.5556}\n",
      "\n",
      "=============================\n",
      "\n"
     ]
    },
    {
     "name": "stderr",
     "output_type": "stream",
     "text": [
      " 17%|█▋        | 13/78 [04:24<20:06, 18.56s/it]"
     ]
    },
    {
     "name": "stdout",
     "output_type": "stream",
     "text": [
      "For epoch 19: \n",
      "{Learning rate: [0.0029568237266378713]}\n"
     ]
    },
    {
     "name": "stderr",
     "output_type": "stream",
     "text": [
      "Train batch number 99: 100%|██████████| 99/99 [00:12<00:00,  7.78batches/s]\n",
      "Test batch number 13: 100%|██████████| 13/13 [00:03<00:00,  4.06batches/s]\n"
     ]
    },
    {
     "name": "stdout",
     "output_type": "stream",
     "text": [
      "\n",
      "Metrics: {'train_loss': 0.1305132923704205, 'test_loss': 2.04166671862969, 'bleu': 17.6741, 'gen_len': 9.6263}\n",
      "\n",
      "=============================\n",
      "\n"
     ]
    },
    {
     "name": "stderr",
     "output_type": "stream",
     "text": [
      " 18%|█▊        | 14/78 [04:43<19:56, 18.69s/it]"
     ]
    },
    {
     "name": "stdout",
     "output_type": "stream",
     "text": [
      "For epoch 20: \n",
      "{Learning rate: [0.002953130681258668]}\n"
     ]
    },
    {
     "name": "stderr",
     "output_type": "stream",
     "text": [
      "Train batch number 99: 100%|██████████| 99/99 [00:12<00:00,  7.67batches/s]\n",
      "Test batch number 13: 100%|██████████| 13/13 [00:03<00:00,  3.93batches/s]\n"
     ]
    },
    {
     "name": "stdout",
     "output_type": "stream",
     "text": [
      "\n",
      "Metrics: {'train_loss': 0.1227519941149336, 'test_loss': 2.0359874046765842, 'bleu': 15.5517, 'gen_len': 9.4545}\n",
      "\n",
      "=============================\n",
      "\n"
     ]
    },
    {
     "name": "stderr",
     "output_type": "stream",
     "text": [
      " 19%|█▉        | 15/78 [05:01<19:23, 18.46s/it]"
     ]
    },
    {
     "name": "stdout",
     "output_type": "stream",
     "text": [
      "For epoch 21: \n",
      "{Learning rate: [0.002949437635879465]}\n"
     ]
    },
    {
     "name": "stderr",
     "output_type": "stream",
     "text": [
      "Train batch number 99: 100%|██████████| 99/99 [00:13<00:00,  7.56batches/s]\n",
      "Test batch number 13: 100%|██████████| 13/13 [00:03<00:00,  3.82batches/s]\n"
     ]
    },
    {
     "name": "stdout",
     "output_type": "stream",
     "text": [
      "\n",
      "Metrics: {'train_loss': 0.10792042935887973, 'test_loss': 2.034029355415931, 'bleu': 17.1757, 'gen_len': 9.6313}\n",
      "\n",
      "=============================\n",
      "\n"
     ]
    },
    {
     "name": "stderr",
     "output_type": "stream",
     "text": [
      " 21%|██        | 16/78 [05:19<19:00, 18.39s/it]"
     ]
    },
    {
     "name": "stdout",
     "output_type": "stream",
     "text": [
      "For epoch 22: \n",
      "{Learning rate: [0.002945744590500262]}\n"
     ]
    },
    {
     "name": "stderr",
     "output_type": "stream",
     "text": [
      "Train batch number 99: 100%|██████████| 99/99 [00:13<00:00,  7.51batches/s]\n",
      "Test batch number 13: 100%|██████████| 13/13 [00:03<00:00,  3.86batches/s]\n"
     ]
    },
    {
     "name": "stdout",
     "output_type": "stream",
     "text": [
      "\n",
      "Metrics: {'train_loss': 0.10048379248591384, 'test_loss': 2.0545905920175405, 'bleu': 16.1788, 'gen_len': 9.3737}\n",
      "\n",
      "=============================\n",
      "\n"
     ]
    },
    {
     "name": "stderr",
     "output_type": "stream",
     "text": [
      " 22%|██▏       | 17/78 [05:37<18:39, 18.35s/it]"
     ]
    },
    {
     "name": "stdout",
     "output_type": "stream",
     "text": [
      "For epoch 23: \n",
      "{Learning rate: [0.0029420515451210588]}\n"
     ]
    },
    {
     "name": "stderr",
     "output_type": "stream",
     "text": [
      "Train batch number 99: 100%|██████████| 99/99 [00:13<00:00,  7.57batches/s]\n",
      "Test batch number 13: 100%|██████████| 13/13 [00:03<00:00,  4.10batches/s]\n"
     ]
    },
    {
     "name": "stdout",
     "output_type": "stream",
     "text": [
      "\n",
      "Metrics: {'train_loss': 0.09432472943356543, 'test_loss': 2.020454214169429, 'bleu': 16.6951, 'gen_len': 9.6212}\n",
      "\n",
      "=============================\n",
      "\n"
     ]
    },
    {
     "name": "stderr",
     "output_type": "stream",
     "text": [
      " 23%|██▎       | 18/78 [05:55<18:14, 18.24s/it]"
     ]
    },
    {
     "name": "stdout",
     "output_type": "stream",
     "text": [
      "For epoch 24: \n",
      "{Learning rate: [0.0029383584997418563]}\n"
     ]
    },
    {
     "name": "stderr",
     "output_type": "stream",
     "text": [
      "Train batch number 99: 100%|██████████| 99/99 [00:12<00:00,  7.72batches/s]\n",
      "Test batch number 13: 100%|██████████| 13/13 [00:03<00:00,  3.96batches/s]\n"
     ]
    },
    {
     "name": "stdout",
     "output_type": "stream",
     "text": [
      "\n",
      "Metrics: {'train_loss': 0.08953270319886882, 'test_loss': 2.038555457041814, 'bleu': 18.9645, 'gen_len': 9.7323}\n",
      "\n",
      "=============================\n",
      "\n"
     ]
    },
    {
     "name": "stderr",
     "output_type": "stream",
     "text": [
      " 24%|██▍       | 19/78 [06:14<18:13, 18.53s/it]"
     ]
    },
    {
     "name": "stdout",
     "output_type": "stream",
     "text": [
      "For epoch 25: \n",
      "{Learning rate: [0.002934665454362653]}\n"
     ]
    },
    {
     "name": "stderr",
     "output_type": "stream",
     "text": [
      "Train batch number 99: 100%|██████████| 99/99 [00:12<00:00,  7.63batches/s]\n",
      "Test batch number 13: 100%|██████████| 13/13 [00:03<00:00,  4.25batches/s]\n"
     ]
    },
    {
     "name": "stdout",
     "output_type": "stream",
     "text": [
      "\n",
      "Metrics: {'train_loss': 0.08250175106028716, 'test_loss': 2.0816943920575657, 'bleu': 17.4736, 'gen_len': 9.4444}\n",
      "\n",
      "=============================\n",
      "\n"
     ]
    },
    {
     "name": "stderr",
     "output_type": "stream",
     "text": [
      " 26%|██▌       | 20/78 [06:32<17:40, 18.29s/it]"
     ]
    },
    {
     "name": "stdout",
     "output_type": "stream",
     "text": [
      "For epoch 26: \n",
      "{Learning rate: [0.00293097240898345]}\n"
     ]
    },
    {
     "name": "stderr",
     "output_type": "stream",
     "text": [
      "Train batch number 99: 100%|██████████| 99/99 [00:13<00:00,  7.54batches/s]\n",
      "Test batch number 13: 100%|██████████| 13/13 [00:03<00:00,  3.90batches/s]\n"
     ]
    },
    {
     "name": "stdout",
     "output_type": "stream",
     "text": [
      "\n",
      "Metrics: {'train_loss': 0.0794858176524591, 'test_loss': 2.0765965351691613, 'bleu': 17.4862, 'gen_len': 9.6515}\n",
      "\n",
      "=============================\n",
      "\n"
     ]
    },
    {
     "name": "stderr",
     "output_type": "stream",
     "text": [
      " 27%|██▋       | 21/78 [06:50<17:21, 18.27s/it]"
     ]
    },
    {
     "name": "stdout",
     "output_type": "stream",
     "text": [
      "For epoch 27: \n",
      "{Learning rate: [0.002927279363604247]}\n"
     ]
    },
    {
     "name": "stderr",
     "output_type": "stream",
     "text": [
      "Train batch number 99: 100%|██████████| 99/99 [00:12<00:00,  7.63batches/s]\n",
      "Test batch number 13: 100%|██████████| 13/13 [00:03<00:00,  3.82batches/s]\n"
     ]
    },
    {
     "name": "stdout",
     "output_type": "stream",
     "text": [
      "\n",
      "Metrics: {'train_loss': 0.0727976415155813, 'test_loss': 2.071614375481239, 'bleu': 19.3566, 'gen_len': 9.6616}\n",
      "\n",
      "=============================\n",
      "\n"
     ]
    },
    {
     "name": "stderr",
     "output_type": "stream",
     "text": [
      " 28%|██▊       | 22/78 [07:10<17:22, 18.62s/it]"
     ]
    },
    {
     "name": "stdout",
     "output_type": "stream",
     "text": [
      "For epoch 28: \n",
      "{Learning rate: [0.0029235863182250437]}\n"
     ]
    },
    {
     "name": "stderr",
     "output_type": "stream",
     "text": [
      "Train batch number 99: 100%|██████████| 99/99 [00:13<00:00,  7.52batches/s]\n",
      "Test batch number 13: 100%|██████████| 13/13 [00:03<00:00,  4.10batches/s]\n"
     ]
    },
    {
     "name": "stdout",
     "output_type": "stream",
     "text": [
      "\n",
      "Metrics: {'train_loss': 0.06907466804665147, 'test_loss': 2.0499722224015455, 'bleu': 19.6996, 'gen_len': 9.6465}\n",
      "\n",
      "=============================\n",
      "\n"
     ]
    },
    {
     "name": "stderr",
     "output_type": "stream",
     "text": [
      " 29%|██▉       | 23/78 [07:29<17:17, 18.86s/it]"
     ]
    },
    {
     "name": "stdout",
     "output_type": "stream",
     "text": [
      "For epoch 29: \n",
      "{Learning rate: [0.0029198932728458408]}\n"
     ]
    },
    {
     "name": "stderr",
     "output_type": "stream",
     "text": [
      "Train batch number 99: 100%|██████████| 99/99 [00:13<00:00,  7.46batches/s]\n",
      "Test batch number 13: 100%|██████████| 13/13 [00:03<00:00,  4.16batches/s]\n"
     ]
    },
    {
     "name": "stdout",
     "output_type": "stream",
     "text": [
      "\n",
      "Metrics: {'train_loss': 0.06646429124579888, 'test_loss': 2.061128487953773, 'bleu': 19.9698, 'gen_len': 9.4747}\n",
      "\n",
      "=============================\n",
      "\n"
     ]
    },
    {
     "name": "stderr",
     "output_type": "stream",
     "text": [
      " 31%|███       | 24/78 [07:49<17:07, 19.04s/it]"
     ]
    },
    {
     "name": "stdout",
     "output_type": "stream",
     "text": [
      "For epoch 30: \n",
      "{Learning rate: [0.002916200227466638]}\n"
     ]
    },
    {
     "name": "stderr",
     "output_type": "stream",
     "text": [
      "Train batch number 99: 100%|██████████| 99/99 [00:13<00:00,  7.45batches/s]\n",
      "Test batch number 13: 100%|██████████| 13/13 [00:03<00:00,  4.01batches/s]\n"
     ]
    },
    {
     "name": "stdout",
     "output_type": "stream",
     "text": [
      "\n",
      "Metrics: {'train_loss': 0.06369306237408609, 'test_loss': 2.087381509634165, 'bleu': 18.3571, 'gen_len': 9.6212}\n",
      "\n",
      "=============================\n",
      "\n"
     ]
    },
    {
     "name": "stderr",
     "output_type": "stream",
     "text": [
      " 32%|███▏      | 25/78 [08:07<16:37, 18.82s/it]"
     ]
    },
    {
     "name": "stdout",
     "output_type": "stream",
     "text": [
      "For epoch 31: \n",
      "{Learning rate: [0.0029125071820874345]}\n"
     ]
    },
    {
     "name": "stderr",
     "output_type": "stream",
     "text": [
      "Train batch number 99: 100%|██████████| 99/99 [00:13<00:00,  7.50batches/s]\n",
      "Test batch number 13: 100%|██████████| 13/13 [00:03<00:00,  4.10batches/s]\n"
     ]
    },
    {
     "name": "stdout",
     "output_type": "stream",
     "text": [
      "\n",
      "Metrics: {'train_loss': 0.0635243123491304, 'test_loss': 2.0577332148185143, 'bleu': 18.7843, 'gen_len': 9.5404}\n",
      "\n",
      "=============================\n",
      "\n"
     ]
    },
    {
     "name": "stderr",
     "output_type": "stream",
     "text": [
      " 33%|███▎      | 26/78 [08:25<16:07, 18.61s/it]"
     ]
    },
    {
     "name": "stdout",
     "output_type": "stream",
     "text": [
      "For epoch 32: \n",
      "{Learning rate: [0.002908814136708232]}\n"
     ]
    },
    {
     "name": "stderr",
     "output_type": "stream",
     "text": [
      "Train batch number 99: 100%|██████████| 99/99 [00:12<00:00,  7.65batches/s]\n",
      "Test batch number 13: 100%|██████████| 13/13 [00:03<00:00,  3.94batches/s]\n"
     ]
    },
    {
     "name": "stdout",
     "output_type": "stream",
     "text": [
      "\n",
      "Metrics: {'train_loss': 0.05604290838042895, 'test_loss': 2.069109632418706, 'bleu': 19.83, 'gen_len': 9.5808}\n",
      "\n",
      "=============================\n",
      "\n"
     ]
    },
    {
     "name": "stderr",
     "output_type": "stream",
     "text": [
      " 35%|███▍      | 27/78 [08:43<15:39, 18.42s/it]"
     ]
    },
    {
     "name": "stdout",
     "output_type": "stream",
     "text": [
      "For epoch 33: \n",
      "{Learning rate: [0.0029051210913290286]}\n"
     ]
    },
    {
     "name": "stderr",
     "output_type": "stream",
     "text": [
      "Train batch number 99: 100%|██████████| 99/99 [00:13<00:00,  7.53batches/s]\n",
      "Test batch number 13: 100%|██████████| 13/13 [00:03<00:00,  3.79batches/s]\n"
     ]
    },
    {
     "name": "stdout",
     "output_type": "stream",
     "text": [
      "\n",
      "Metrics: {'train_loss': 0.05467899724126163, 'test_loss': 2.060637015562791, 'bleu': 19.6337, 'gen_len': 9.7677}\n",
      "\n",
      "=============================\n",
      "\n"
     ]
    },
    {
     "name": "stderr",
     "output_type": "stream",
     "text": [
      " 36%|███▌      | 28/78 [09:01<15:19, 18.39s/it]"
     ]
    },
    {
     "name": "stdout",
     "output_type": "stream",
     "text": [
      "For epoch 34: \n",
      "{Learning rate: [0.0029014280459498257]}\n"
     ]
    },
    {
     "name": "stderr",
     "output_type": "stream",
     "text": [
      "Train batch number 99: 100%|██████████| 99/99 [00:12<00:00,  7.63batches/s]\n",
      "Test batch number 13: 100%|██████████| 13/13 [00:03<00:00,  3.78batches/s]\n"
     ]
    },
    {
     "name": "stdout",
     "output_type": "stream",
     "text": [
      "\n",
      "Metrics: {'train_loss': 0.05359248160337559, 'test_loss': 2.047929259446951, 'bleu': 19.9055, 'gen_len': 9.7424}\n",
      "\n",
      "=============================\n",
      "\n"
     ]
    },
    {
     "name": "stderr",
     "output_type": "stream",
     "text": [
      " 37%|███▋      | 29/78 [09:20<14:57, 18.31s/it]"
     ]
    },
    {
     "name": "stdout",
     "output_type": "stream",
     "text": [
      "For epoch 35: \n",
      "{Learning rate: [0.002897735000570623]}\n"
     ]
    },
    {
     "name": "stderr",
     "output_type": "stream",
     "text": [
      "Train batch number 99: 100%|██████████| 99/99 [00:12<00:00,  7.64batches/s]\n",
      "Test batch number 13: 100%|██████████| 13/13 [00:03<00:00,  4.12batches/s]\n"
     ]
    },
    {
     "name": "stdout",
     "output_type": "stream",
     "text": [
      "\n",
      "Metrics: {'train_loss': 0.052493777380070904, 'test_loss': 2.0640155718876767, 'bleu': 20.0432, 'gen_len': 9.5455}\n",
      "\n",
      "=============================\n",
      "\n"
     ]
    },
    {
     "name": "stderr",
     "output_type": "stream",
     "text": [
      " 38%|███▊      | 30/78 [09:39<14:51, 18.57s/it]"
     ]
    },
    {
     "name": "stdout",
     "output_type": "stream",
     "text": [
      "For epoch 36: \n",
      "{Learning rate: [0.0028940419551914194]}\n"
     ]
    },
    {
     "name": "stderr",
     "output_type": "stream",
     "text": [
      "Train batch number 99: 100%|██████████| 99/99 [00:13<00:00,  7.53batches/s]\n",
      "Test batch number 13: 100%|██████████| 13/13 [00:03<00:00,  3.77batches/s]\n"
     ]
    },
    {
     "name": "stdout",
     "output_type": "stream",
     "text": [
      "\n",
      "Metrics: {'train_loss': 0.05199566025362171, 'test_loss': 2.081382705615117, 'bleu': 19.5174, 'gen_len': 9.7778}\n",
      "\n",
      "=============================\n",
      "\n"
     ]
    },
    {
     "name": "stderr",
     "output_type": "stream",
     "text": [
      " 40%|███▉      | 31/78 [09:57<14:29, 18.50s/it]"
     ]
    },
    {
     "name": "stdout",
     "output_type": "stream",
     "text": [
      "For epoch 37: \n",
      "{Learning rate: [0.0028903489098122165]}\n"
     ]
    },
    {
     "name": "stderr",
     "output_type": "stream",
     "text": [
      "Train batch number 99: 100%|██████████| 99/99 [00:13<00:00,  7.55batches/s]\n",
      "Test batch number 13: 100%|██████████| 13/13 [00:03<00:00,  4.01batches/s]\n"
     ]
    },
    {
     "name": "stdout",
     "output_type": "stream",
     "text": [
      "\n",
      "Metrics: {'train_loss': 0.0492591116991308, 'test_loss': 2.057818055152893, 'bleu': 20.0511, 'gen_len': 9.7273}\n",
      "\n",
      "=============================\n",
      "\n"
     ]
    },
    {
     "name": "stderr",
     "output_type": "stream",
     "text": [
      " 41%|████      | 32/78 [10:17<14:23, 18.77s/it]"
     ]
    },
    {
     "name": "stdout",
     "output_type": "stream",
     "text": [
      "For epoch 38: \n",
      "{Learning rate: [0.0028866558644330136]}\n"
     ]
    },
    {
     "name": "stderr",
     "output_type": "stream",
     "text": [
      "Train batch number 99: 100%|██████████| 99/99 [00:12<00:00,  7.63batches/s]\n",
      "Test batch number 13: 100%|██████████| 13/13 [00:03<00:00,  4.15batches/s]\n"
     ]
    },
    {
     "name": "stdout",
     "output_type": "stream",
     "text": [
      "\n",
      "Metrics: {'train_loss': 0.04999610407259127, 'test_loss': 2.125021512691791, 'bleu': 18.8398, 'gen_len': 9.5707}\n",
      "\n",
      "=============================\n",
      "\n"
     ]
    },
    {
     "name": "stderr",
     "output_type": "stream",
     "text": [
      " 42%|████▏     | 33/78 [10:34<13:52, 18.49s/it]"
     ]
    },
    {
     "name": "stdout",
     "output_type": "stream",
     "text": [
      "For epoch 39: \n",
      "{Learning rate: [0.00288296281905381]}\n"
     ]
    },
    {
     "name": "stderr",
     "output_type": "stream",
     "text": [
      "Train batch number 99: 100%|██████████| 99/99 [00:13<00:00,  7.58batches/s]\n",
      "Test batch number 13: 100%|██████████| 13/13 [00:03<00:00,  3.87batches/s]\n"
     ]
    },
    {
     "name": "stdout",
     "output_type": "stream",
     "text": [
      "\n",
      "Metrics: {'train_loss': 0.04391759803349322, 'test_loss': 2.078750802920415, 'bleu': 19.9186, 'gen_len': 9.7071}\n",
      "\n",
      "=============================\n",
      "\n"
     ]
    },
    {
     "name": "stderr",
     "output_type": "stream",
     "text": [
      " 44%|████▎     | 34/78 [10:53<13:29, 18.39s/it]"
     ]
    },
    {
     "name": "stdout",
     "output_type": "stream",
     "text": [
      "For epoch 40: \n",
      "{Learning rate: [0.0028792697736746077]}\n"
     ]
    },
    {
     "name": "stderr",
     "output_type": "stream",
     "text": [
      "Train batch number 99: 100%|██████████| 99/99 [00:13<00:00,  7.52batches/s]\n",
      "Test batch number 13: 100%|██████████| 13/13 [00:03<00:00,  4.19batches/s]\n"
     ]
    },
    {
     "name": "stdout",
     "output_type": "stream",
     "text": [
      "\n",
      "Metrics: {'train_loss': 0.0436238328540566, 'test_loss': 2.0898329386344323, 'bleu': 19.7978, 'gen_len': 9.5859}\n",
      "\n",
      "=============================\n",
      "\n"
     ]
    },
    {
     "name": "stderr",
     "output_type": "stream",
     "text": [
      " 45%|████▍     | 35/78 [11:10<13:05, 18.27s/it]"
     ]
    },
    {
     "name": "stdout",
     "output_type": "stream",
     "text": [
      "For epoch 41: \n",
      "{Learning rate: [0.0028755767282954044]}\n"
     ]
    },
    {
     "name": "stderr",
     "output_type": "stream",
     "text": [
      "Train batch number 99: 100%|██████████| 99/99 [00:13<00:00,  7.59batches/s]\n",
      "Test batch number 13: 100%|██████████| 13/13 [00:03<00:00,  4.16batches/s]\n"
     ]
    },
    {
     "name": "stdout",
     "output_type": "stream",
     "text": [
      "\n",
      "Metrics: {'train_loss': 0.04347258087511015, 'test_loss': 2.0679799776810865, 'bleu': 19.1007, 'gen_len': 9.5808}\n",
      "\n",
      "=============================\n",
      "\n"
     ]
    },
    {
     "name": "stderr",
     "output_type": "stream",
     "text": [
      " 46%|████▌     | 36/78 [11:28<12:42, 18.16s/it]"
     ]
    },
    {
     "name": "stdout",
     "output_type": "stream",
     "text": [
      "For epoch 42: \n",
      "{Learning rate: [0.0028718836829162014]}\n"
     ]
    },
    {
     "name": "stderr",
     "output_type": "stream",
     "text": [
      "Train batch number 99: 100%|██████████| 99/99 [00:13<00:00,  7.61batches/s]\n",
      "Test batch number 13: 100%|██████████| 13/13 [00:03<00:00,  3.93batches/s]\n"
     ]
    },
    {
     "name": "stdout",
     "output_type": "stream",
     "text": [
      "\n",
      "Metrics: {'train_loss': 0.04410119741364862, 'test_loss': 2.0668497268970194, 'bleu': 19.6824, 'gen_len': 9.8182}\n",
      "\n",
      "=============================\n",
      "\n"
     ]
    },
    {
     "name": "stderr",
     "output_type": "stream",
     "text": [
      " 47%|████▋     | 37/78 [11:46<12:23, 18.13s/it]"
     ]
    },
    {
     "name": "stdout",
     "output_type": "stream",
     "text": [
      "For epoch 43: \n",
      "{Learning rate: [0.0028681906375369985]}\n"
     ]
    },
    {
     "name": "stderr",
     "output_type": "stream",
     "text": [
      "Train batch number 99: 100%|██████████| 99/99 [00:13<00:00,  7.55batches/s]\n",
      "Test batch number 13: 100%|██████████| 13/13 [00:03<00:00,  3.89batches/s]\n"
     ]
    },
    {
     "name": "stdout",
     "output_type": "stream",
     "text": [
      "\n",
      "Metrics: {'train_loss': 0.0428673243056042, 'test_loss': 2.0778021262242246, 'bleu': 20.1429, 'gen_len': 9.6667}\n",
      "\n",
      "=============================\n",
      "\n"
     ]
    },
    {
     "name": "stderr",
     "output_type": "stream",
     "text": [
      " 49%|████▊     | 38/78 [12:06<12:22, 18.55s/it]"
     ]
    },
    {
     "name": "stdout",
     "output_type": "stream",
     "text": [
      "For epoch 44: \n",
      "{Learning rate: [0.002864497592157795]}\n"
     ]
    },
    {
     "name": "stderr",
     "output_type": "stream",
     "text": [
      "Train batch number 99: 100%|██████████| 99/99 [00:13<00:00,  7.55batches/s]\n",
      "Test batch number 13: 100%|██████████| 13/13 [00:03<00:00,  4.23batches/s]\n"
     ]
    },
    {
     "name": "stdout",
     "output_type": "stream",
     "text": [
      "\n",
      "Metrics: {'train_loss': 0.04150387934512562, 'test_loss': 2.0817027367078342, 'bleu': 18.1146, 'gen_len': 9.5909}\n",
      "\n",
      "=============================\n",
      "\n"
     ]
    },
    {
     "name": "stderr",
     "output_type": "stream",
     "text": [
      " 50%|█████     | 39/78 [12:24<11:56, 18.36s/it]"
     ]
    },
    {
     "name": "stdout",
     "output_type": "stream",
     "text": [
      "For epoch 45: \n",
      "{Learning rate: [0.0028608045467785922]}\n"
     ]
    },
    {
     "name": "stderr",
     "output_type": "stream",
     "text": [
      "Train batch number 99: 100%|██████████| 99/99 [00:12<00:00,  7.86batches/s]\n",
      "Test batch number 13: 100%|██████████| 13/13 [00:03<00:00,  3.83batches/s]\n"
     ]
    },
    {
     "name": "stdout",
     "output_type": "stream",
     "text": [
      "\n",
      "Metrics: {'train_loss': 0.036013524951131054, 'test_loss': 2.0876738474919248, 'bleu': 19.9129, 'gen_len': 9.7778}\n",
      "\n",
      "=============================\n",
      "\n"
     ]
    },
    {
     "name": "stderr",
     "output_type": "stream",
     "text": [
      " 51%|█████▏    | 40/78 [12:42<11:30, 18.16s/it]"
     ]
    },
    {
     "name": "stdout",
     "output_type": "stream",
     "text": [
      "For epoch 46: \n",
      "{Learning rate: [0.0028571115013993893]}\n"
     ]
    },
    {
     "name": "stderr",
     "output_type": "stream",
     "text": [
      "Train batch number 99: 100%|██████████| 99/99 [00:12<00:00,  7.71batches/s]\n",
      "Test batch number 13: 100%|██████████| 13/13 [00:03<00:00,  4.16batches/s]\n"
     ]
    },
    {
     "name": "stdout",
     "output_type": "stream",
     "text": [
      "\n",
      "Metrics: {'train_loss': 0.03432085336835095, 'test_loss': 2.083097054408147, 'bleu': 19.86, 'gen_len': 9.2172}\n",
      "\n",
      "=============================\n",
      "\n"
     ]
    },
    {
     "name": "stderr",
     "output_type": "stream",
     "text": [
      " 53%|█████▎    | 41/78 [12:59<11:06, 18.02s/it]"
     ]
    },
    {
     "name": "stdout",
     "output_type": "stream",
     "text": [
      "For epoch 47: \n",
      "{Learning rate: [0.002853418456020186]}\n"
     ]
    },
    {
     "name": "stderr",
     "output_type": "stream",
     "text": [
      "Train batch number 99: 100%|██████████| 99/99 [00:12<00:00,  7.77batches/s]\n",
      "Test batch number 13: 100%|██████████| 13/13 [00:03<00:00,  3.90batches/s]\n"
     ]
    },
    {
     "name": "stdout",
     "output_type": "stream",
     "text": [
      "\n",
      "Metrics: {'train_loss': 0.03616862377208291, 'test_loss': 2.0874051497532773, 'bleu': 18.7242, 'gen_len': 9.5202}\n",
      "\n",
      "=============================\n",
      "\n"
     ]
    },
    {
     "name": "stderr",
     "output_type": "stream",
     "text": [
      " 54%|█████▍    | 42/78 [13:17<10:46, 17.96s/it]"
     ]
    },
    {
     "name": "stdout",
     "output_type": "stream",
     "text": [
      "For epoch 48: \n",
      "{Learning rate: [0.0028497254106409835]}\n"
     ]
    },
    {
     "name": "stderr",
     "output_type": "stream",
     "text": [
      "Train batch number 99: 100%|██████████| 99/99 [00:12<00:00,  7.75batches/s]\n",
      "Test batch number 13: 100%|██████████| 13/13 [00:03<00:00,  4.16batches/s]\n"
     ]
    },
    {
     "name": "stdout",
     "output_type": "stream",
     "text": [
      "\n",
      "Metrics: {'train_loss': 0.03664435752940298, 'test_loss': 2.101089890186603, 'bleu': 19.5361, 'gen_len': 9.6212}\n",
      "\n",
      "=============================\n",
      "\n"
     ]
    },
    {
     "name": "stderr",
     "output_type": "stream",
     "text": [
      " 55%|█████▌    | 43/78 [13:35<10:24, 17.85s/it]"
     ]
    },
    {
     "name": "stdout",
     "output_type": "stream",
     "text": [
      "For epoch 49: \n",
      "{Learning rate: [0.00284603236526178]}\n"
     ]
    },
    {
     "name": "stderr",
     "output_type": "stream",
     "text": [
      "Train batch number 99: 100%|██████████| 99/99 [00:13<00:00,  7.52batches/s]\n",
      "Test batch number 13: 100%|██████████| 13/13 [00:03<00:00,  3.63batches/s]\n"
     ]
    },
    {
     "name": "stdout",
     "output_type": "stream",
     "text": [
      "\n",
      "Metrics: {'train_loss': 0.03584863919049802, 'test_loss': 2.0823009289228, 'bleu': 20.2175, 'gen_len': 9.8384}\n",
      "\n",
      "=============================\n",
      "\n"
     ]
    },
    {
     "name": "stderr",
     "output_type": "stream",
     "text": [
      " 56%|█████▋    | 44/78 [13:55<10:27, 18.44s/it]"
     ]
    },
    {
     "name": "stdout",
     "output_type": "stream",
     "text": [
      "For epoch 50: \n",
      "{Learning rate: [0.002842339319882577]}\n"
     ]
    },
    {
     "name": "stderr",
     "output_type": "stream",
     "text": [
      "Train batch number 99: 100%|██████████| 99/99 [00:12<00:00,  7.71batches/s]\n",
      "Test batch number 13: 100%|██████████| 13/13 [00:03<00:00,  3.78batches/s]\n"
     ]
    },
    {
     "name": "stdout",
     "output_type": "stream",
     "text": [
      "\n",
      "Metrics: {'train_loss': 0.03237668778559174, 'test_loss': 2.1122781955278835, 'bleu': 20.5247, 'gen_len': 9.7828}\n",
      "\n",
      "=============================\n",
      "\n"
     ]
    },
    {
     "name": "stderr",
     "output_type": "stream",
     "text": [
      " 58%|█████▊    | 45/78 [14:14<10:17, 18.71s/it]"
     ]
    },
    {
     "name": "stdout",
     "output_type": "stream",
     "text": [
      "For epoch 51: \n",
      "{Learning rate: [0.0028386462745033742]}\n"
     ]
    },
    {
     "name": "stderr",
     "output_type": "stream",
     "text": [
      "Train batch number 99: 100%|██████████| 99/99 [00:13<00:00,  7.42batches/s]\n",
      "Test batch number 13: 100%|██████████| 13/13 [00:03<00:00,  4.17batches/s]\n"
     ]
    },
    {
     "name": "stdout",
     "output_type": "stream",
     "text": [
      "\n",
      "Metrics: {'train_loss': 0.033849408751297175, 'test_loss': 2.090834480065566, 'bleu': 19.6981, 'gen_len': 9.6212}\n",
      "\n",
      "=============================\n",
      "\n"
     ]
    },
    {
     "name": "stderr",
     "output_type": "stream",
     "text": [
      " 59%|█████▉    | 46/78 [14:32<09:53, 18.56s/it]"
     ]
    },
    {
     "name": "stdout",
     "output_type": "stream",
     "text": [
      "For epoch 52: \n",
      "{Learning rate: [0.002834953229124171]}\n"
     ]
    },
    {
     "name": "stderr",
     "output_type": "stream",
     "text": [
      "Train batch number 99: 100%|██████████| 99/99 [00:13<00:00,  7.57batches/s]\n",
      "Test batch number 13: 100%|██████████| 13/13 [00:03<00:00,  3.95batches/s]\n"
     ]
    },
    {
     "name": "stdout",
     "output_type": "stream",
     "text": [
      "\n",
      "Metrics: {'train_loss': 0.032265387343788386, 'test_loss': 2.0762177889163675, 'bleu': 19.4313, 'gen_len': 9.5859}\n",
      "\n",
      "=============================\n",
      "\n"
     ]
    },
    {
     "name": "stderr",
     "output_type": "stream",
     "text": [
      " 60%|██████    | 47/78 [14:50<09:31, 18.42s/it]"
     ]
    },
    {
     "name": "stdout",
     "output_type": "stream",
     "text": [
      "For epoch 53: \n",
      "{Learning rate: [0.002831260183744968]}\n"
     ]
    },
    {
     "name": "stderr",
     "output_type": "stream",
     "text": [
      "Train batch number 99: 100%|██████████| 99/99 [00:13<00:00,  7.48batches/s]\n",
      "Test batch number 13: 100%|██████████| 13/13 [00:03<00:00,  3.69batches/s]\n"
     ]
    },
    {
     "name": "stdout",
     "output_type": "stream",
     "text": [
      "\n",
      "Metrics: {'train_loss': 0.03192506129900464, 'test_loss': 2.0931894779205322, 'bleu': 18.3075, 'gen_len': 9.7374}\n",
      "\n",
      "=============================\n",
      "\n"
     ]
    },
    {
     "name": "stderr",
     "output_type": "stream",
     "text": [
      " 62%|██████▏   | 48/78 [15:09<09:13, 18.45s/it]"
     ]
    },
    {
     "name": "stdout",
     "output_type": "stream",
     "text": [
      "For epoch 54: \n",
      "{Learning rate: [0.002827567138365765]}\n"
     ]
    },
    {
     "name": "stderr",
     "output_type": "stream",
     "text": [
      "Train batch number 99: 100%|██████████| 99/99 [00:13<00:00,  7.58batches/s]\n",
      "Test batch number 13: 100%|██████████| 13/13 [00:03<00:00,  3.86batches/s]\n"
     ]
    },
    {
     "name": "stdout",
     "output_type": "stream",
     "text": [
      "\n",
      "Metrics: {'train_loss': 0.029295760300951174, 'test_loss': 2.087565678816575, 'bleu': 19.0227, 'gen_len': 9.8232}\n",
      "\n",
      "=============================\n",
      "\n"
     ]
    },
    {
     "name": "stderr",
     "output_type": "stream",
     "text": [
      " 63%|██████▎   | 49/78 [15:27<08:52, 18.36s/it]"
     ]
    },
    {
     "name": "stdout",
     "output_type": "stream",
     "text": [
      "For epoch 55: \n",
      "{Learning rate: [0.0028238740929865617]}\n"
     ]
    },
    {
     "name": "stderr",
     "output_type": "stream",
     "text": [
      "Train batch number 99: 100%|██████████| 99/99 [00:13<00:00,  7.43batches/s]\n",
      "Test batch number 13: 100%|██████████| 13/13 [00:03<00:00,  3.80batches/s]\n"
     ]
    },
    {
     "name": "stdout",
     "output_type": "stream",
     "text": [
      "\n",
      "Metrics: {'train_loss': 0.027088551805589837, 'test_loss': 2.1129095554351807, 'bleu': 19.2175, 'gen_len': 9.8434}\n",
      "\n",
      "=============================\n",
      "\n"
     ]
    },
    {
     "name": "stderr",
     "output_type": "stream",
     "text": [
      " 64%|██████▍   | 50/78 [15:45<08:35, 18.40s/it]"
     ]
    },
    {
     "name": "stdout",
     "output_type": "stream",
     "text": [
      "For epoch 56: \n",
      "{Learning rate: [0.0028201810476073588]}\n"
     ]
    },
    {
     "name": "stderr",
     "output_type": "stream",
     "text": [
      "Train batch number 99: 100%|██████████| 99/99 [00:13<00:00,  7.45batches/s]\n",
      "Test batch number 13: 100%|██████████| 13/13 [00:03<00:00,  3.92batches/s]\n"
     ]
    },
    {
     "name": "stdout",
     "output_type": "stream",
     "text": [
      "\n",
      "Metrics: {'train_loss': 0.029346008879141978, 'test_loss': 2.0628744272085338, 'bleu': 20.7837, 'gen_len': 9.5455}\n",
      "\n",
      "=============================\n",
      "\n"
     ]
    },
    {
     "name": "stderr",
     "output_type": "stream",
     "text": [
      " 65%|██████▌   | 51/78 [16:05<08:27, 18.79s/it]"
     ]
    },
    {
     "name": "stdout",
     "output_type": "stream",
     "text": [
      "For epoch 57: \n",
      "{Learning rate: [0.002816488002228156]}\n"
     ]
    },
    {
     "name": "stderr",
     "output_type": "stream",
     "text": [
      "Train batch number 99: 100%|██████████| 99/99 [00:13<00:00,  7.53batches/s]\n",
      "Test batch number 13: 100%|██████████| 13/13 [00:03<00:00,  3.85batches/s]\n"
     ]
    },
    {
     "name": "stdout",
     "output_type": "stream",
     "text": [
      "\n",
      "Metrics: {'train_loss': 0.02896936352581087, 'test_loss': 2.0866412107761088, 'bleu': 20.938, 'gen_len': 9.7727}\n",
      "\n",
      "=============================\n",
      "\n"
     ]
    },
    {
     "name": "stderr",
     "output_type": "stream",
     "text": [
      " 67%|██████▋   | 52/78 [16:25<08:15, 19.04s/it]"
     ]
    },
    {
     "name": "stdout",
     "output_type": "stream",
     "text": [
      "For epoch 58: \n",
      "{Learning rate: [0.002812794956848953]}\n"
     ]
    },
    {
     "name": "stderr",
     "output_type": "stream",
     "text": [
      "Train batch number 99: 100%|██████████| 99/99 [00:13<00:00,  7.57batches/s]\n",
      "Test batch number 13: 100%|██████████| 13/13 [00:03<00:00,  3.62batches/s]\n"
     ]
    },
    {
     "name": "stdout",
     "output_type": "stream",
     "text": [
      "\n",
      "Metrics: {'train_loss': 0.030628698360588815, 'test_loss': 2.086234661249014, 'bleu': 21.0919, 'gen_len': 9.9394}\n",
      "\n",
      "=============================\n",
      "\n"
     ]
    },
    {
     "name": "stderr",
     "output_type": "stream",
     "text": [
      " 68%|██████▊   | 53/78 [16:44<08:01, 19.26s/it]"
     ]
    },
    {
     "name": "stdout",
     "output_type": "stream",
     "text": [
      "For epoch 59: \n",
      "{Learning rate: [0.00280910191146975]}\n"
     ]
    },
    {
     "name": "stderr",
     "output_type": "stream",
     "text": [
      "Train batch number 99: 100%|██████████| 99/99 [00:13<00:00,  7.50batches/s]\n",
      "Test batch number 13: 100%|██████████| 13/13 [00:03<00:00,  3.73batches/s]\n"
     ]
    },
    {
     "name": "stdout",
     "output_type": "stream",
     "text": [
      "\n",
      "Metrics: {'train_loss': 0.027414288926832002, 'test_loss': 2.094494241934556, 'bleu': 20.1179, 'gen_len': 9.8788}\n",
      "\n",
      "=============================\n",
      "\n"
     ]
    },
    {
     "name": "stderr",
     "output_type": "stream",
     "text": [
      " 69%|██████▉   | 54/78 [17:03<07:36, 19.01s/it]"
     ]
    },
    {
     "name": "stdout",
     "output_type": "stream",
     "text": [
      "For epoch 60: \n",
      "{Learning rate: [0.0028054088660905466]}\n"
     ]
    },
    {
     "name": "stderr",
     "output_type": "stream",
     "text": [
      "Train batch number 99: 100%|██████████| 99/99 [00:13<00:00,  7.44batches/s]\n",
      "Test batch number 13: 100%|██████████| 13/13 [00:03<00:00,  3.93batches/s]\n"
     ]
    },
    {
     "name": "stdout",
     "output_type": "stream",
     "text": [
      "\n",
      "Metrics: {'train_loss': 0.026436937079209872, 'test_loss': 2.107959976563087, 'bleu': 20.3629, 'gen_len': 9.7576}\n",
      "\n",
      "=============================\n",
      "\n"
     ]
    },
    {
     "name": "stderr",
     "output_type": "stream",
     "text": [
      " 71%|███████   | 55/78 [17:21<07:12, 18.82s/it]"
     ]
    },
    {
     "name": "stdout",
     "output_type": "stream",
     "text": [
      "For epoch 61: \n",
      "{Learning rate: [0.0028017158207113437]}\n"
     ]
    },
    {
     "name": "stderr",
     "output_type": "stream",
     "text": [
      "Train batch number 99: 100%|██████████| 99/99 [00:13<00:00,  7.41batches/s]\n",
      "Test batch number 13: 100%|██████████| 13/13 [00:03<00:00,  4.01batches/s]\n"
     ]
    },
    {
     "name": "stdout",
     "output_type": "stream",
     "text": [
      "\n",
      "Metrics: {'train_loss': 0.0267677587513445, 'test_loss': 2.1238382779634914, 'bleu': 20.1055, 'gen_len': 9.7121}\n",
      "\n",
      "=============================\n",
      "\n"
     ]
    },
    {
     "name": "stderr",
     "output_type": "stream",
     "text": [
      " 72%|███████▏  | 56/78 [17:40<06:50, 18.67s/it]"
     ]
    },
    {
     "name": "stdout",
     "output_type": "stream",
     "text": [
      "For epoch 62: \n",
      "{Learning rate: [0.0027980227753321408]}\n"
     ]
    },
    {
     "name": "stderr",
     "output_type": "stream",
     "text": [
      "Train batch number 99: 100%|██████████| 99/99 [00:13<00:00,  7.53batches/s]\n",
      "Test batch number 13: 100%|██████████| 13/13 [00:03<00:00,  3.91batches/s]\n"
     ]
    },
    {
     "name": "stdout",
     "output_type": "stream",
     "text": [
      "\n",
      "Metrics: {'train_loss': 0.026853241823670087, 'test_loss': 2.100664285513071, 'bleu': 19.2102, 'gen_len': 9.5202}\n",
      "\n",
      "=============================\n",
      "\n"
     ]
    },
    {
     "name": "stderr",
     "output_type": "stream",
     "text": [
      " 73%|███████▎  | 57/78 [17:58<06:29, 18.53s/it]"
     ]
    },
    {
     "name": "stdout",
     "output_type": "stream",
     "text": [
      "For epoch 63: \n",
      "{Learning rate: [0.0027943297299529374]}\n"
     ]
    },
    {
     "name": "stderr",
     "output_type": "stream",
     "text": [
      "Train batch number 99: 100%|██████████| 99/99 [00:13<00:00,  7.48batches/s]\n",
      "Test batch number 13: 100%|██████████| 13/13 [00:03<00:00,  4.03batches/s]\n"
     ]
    },
    {
     "name": "stdout",
     "output_type": "stream",
     "text": [
      "\n",
      "Metrics: {'train_loss': 0.024467348563249666, 'test_loss': 2.1032213889635525, 'bleu': 21.2778, 'gen_len': 9.5101}\n",
      "\n",
      "=============================\n",
      "\n"
     ]
    },
    {
     "name": "stderr",
     "output_type": "stream",
     "text": [
      " 74%|███████▍  | 58/78 [18:17<06:16, 18.83s/it]"
     ]
    },
    {
     "name": "stdout",
     "output_type": "stream",
     "text": [
      "For epoch 64: \n",
      "{Learning rate: [0.0027906366845737345]}\n"
     ]
    },
    {
     "name": "stderr",
     "output_type": "stream",
     "text": [
      "Train batch number 99: 100%|██████████| 99/99 [00:13<00:00,  7.56batches/s]\n",
      "Test batch number 13: 100%|██████████| 13/13 [00:03<00:00,  3.57batches/s]\n"
     ]
    },
    {
     "name": "stdout",
     "output_type": "stream",
     "text": [
      "\n",
      "Metrics: {'train_loss': 0.026684915872685837, 'test_loss': 2.1096973969386172, 'bleu': 21.3146, 'gen_len': 9.9545}\n",
      "\n",
      "=============================\n",
      "\n"
     ]
    },
    {
     "name": "stderr",
     "output_type": "stream",
     "text": [
      " 76%|███████▌  | 59/78 [18:37<06:03, 19.13s/it]"
     ]
    },
    {
     "name": "stdout",
     "output_type": "stream",
     "text": [
      "For epoch 65: \n",
      "{Learning rate: [0.0027869436391945316]}\n"
     ]
    },
    {
     "name": "stderr",
     "output_type": "stream",
     "text": [
      "Train batch number 99: 100%|██████████| 99/99 [00:13<00:00,  7.55batches/s]\n",
      "Test batch number 13: 100%|██████████| 13/13 [00:03<00:00,  3.77batches/s]\n"
     ]
    },
    {
     "name": "stdout",
     "output_type": "stream",
     "text": [
      "\n",
      "Metrics: {'train_loss': 0.025502461845977136, 'test_loss': 2.106323003768921, 'bleu': 20.6695, 'gen_len': 9.5657}\n",
      "\n",
      "=============================\n",
      "\n"
     ]
    },
    {
     "name": "stderr",
     "output_type": "stream",
     "text": [
      " 77%|███████▋  | 60/78 [18:55<05:39, 18.89s/it]"
     ]
    },
    {
     "name": "stdout",
     "output_type": "stream",
     "text": [
      "For epoch 66: \n",
      "{Learning rate: [0.0027832505938153286]}\n"
     ]
    },
    {
     "name": "stderr",
     "output_type": "stream",
     "text": [
      "Train batch number 99: 100%|██████████| 99/99 [00:13<00:00,  7.41batches/s]\n",
      "Test batch number 13: 100%|██████████| 13/13 [00:03<00:00,  3.90batches/s]\n"
     ]
    },
    {
     "name": "stdout",
     "output_type": "stream",
     "text": [
      "\n",
      "Metrics: {'train_loss': 0.023253270975229414, 'test_loss': 2.111642626615671, 'bleu': 20.5344, 'gen_len': 9.6768}\n",
      "\n",
      "=============================\n",
      "\n"
     ]
    },
    {
     "name": "stderr",
     "output_type": "stream",
     "text": [
      " 78%|███████▊  | 61/78 [19:14<05:18, 18.75s/it]"
     ]
    },
    {
     "name": "stdout",
     "output_type": "stream",
     "text": [
      "For epoch 67: \n",
      "{Learning rate: [0.0027795575484361257]}\n"
     ]
    },
    {
     "name": "stderr",
     "output_type": "stream",
     "text": [
      "Train batch number 99: 100%|██████████| 99/99 [00:13<00:00,  7.58batches/s]\n",
      "Test batch number 13: 100%|██████████| 13/13 [00:03<00:00,  3.80batches/s]\n"
     ]
    },
    {
     "name": "stdout",
     "output_type": "stream",
     "text": [
      "\n",
      "Metrics: {'train_loss': 0.02394104345391194, 'test_loss': 2.1026240312136135, 'bleu': 21.3873, 'gen_len': 9.5909}\n",
      "\n",
      "=============================\n",
      "\n"
     ]
    },
    {
     "name": "stderr",
     "output_type": "stream",
     "text": [
      " 79%|███████▉  | 62/78 [19:33<05:03, 19.00s/it]"
     ]
    },
    {
     "name": "stdout",
     "output_type": "stream",
     "text": [
      "For epoch 68: \n",
      "{Learning rate: [0.0027758645030569224]}\n"
     ]
    },
    {
     "name": "stderr",
     "output_type": "stream",
     "text": [
      "Train batch number 99: 100%|██████████| 99/99 [00:13<00:00,  7.56batches/s]\n",
      "Test batch number 13: 100%|██████████| 13/13 [00:03<00:00,  3.71batches/s]\n"
     ]
    },
    {
     "name": "stdout",
     "output_type": "stream",
     "text": [
      "\n",
      "Metrics: {'train_loss': 0.023017306360557224, 'test_loss': 2.0935343228853664, 'bleu': 21.4769, 'gen_len': 9.7929}\n",
      "\n",
      "=============================\n",
      "\n"
     ]
    },
    {
     "name": "stderr",
     "output_type": "stream",
     "text": [
      " 81%|████████  | 63/78 [19:53<04:48, 19.23s/it]"
     ]
    },
    {
     "name": "stdout",
     "output_type": "stream",
     "text": [
      "For epoch 69: \n",
      "{Learning rate: [0.0027721714576777194]}\n"
     ]
    },
    {
     "name": "stderr",
     "output_type": "stream",
     "text": [
      "Train batch number 99: 100%|██████████| 99/99 [00:13<00:00,  7.50batches/s]\n",
      "Test batch number 13: 100%|██████████| 13/13 [00:03<00:00,  3.77batches/s]\n"
     ]
    },
    {
     "name": "stdout",
     "output_type": "stream",
     "text": [
      "\n",
      "Metrics: {'train_loss': 0.02282129100646184, 'test_loss': 2.1364049269602847, 'bleu': 19.66, 'gen_len': 9.8636}\n",
      "\n",
      "=============================\n",
      "\n"
     ]
    },
    {
     "name": "stderr",
     "output_type": "stream",
     "text": [
      " 82%|████████▏ | 64/78 [20:12<04:25, 18.98s/it]"
     ]
    },
    {
     "name": "stdout",
     "output_type": "stream",
     "text": [
      "For epoch 70: \n",
      "{Learning rate: [0.0027684784122985165]}\n"
     ]
    },
    {
     "name": "stderr",
     "output_type": "stream",
     "text": [
      "Train batch number 99: 100%|██████████| 99/99 [00:13<00:00,  7.61batches/s]\n",
      "Test batch number 13: 100%|██████████| 13/13 [00:03<00:00,  3.56batches/s]\n"
     ]
    },
    {
     "name": "stdout",
     "output_type": "stream",
     "text": [
      "\n",
      "Metrics: {'train_loss': 0.024635635866698893, 'test_loss': 2.1149346920160146, 'bleu': 20.2095, 'gen_len': 9.5404}\n",
      "\n",
      "=============================\n",
      "\n"
     ]
    },
    {
     "name": "stderr",
     "output_type": "stream",
     "text": [
      " 83%|████████▎ | 65/78 [20:30<04:04, 18.81s/it]"
     ]
    },
    {
     "name": "stdout",
     "output_type": "stream",
     "text": [
      "For epoch 71: \n",
      "{Learning rate: [0.002764785366919313]}\n"
     ]
    },
    {
     "name": "stderr",
     "output_type": "stream",
     "text": [
      "Train batch number 99: 100%|██████████| 99/99 [00:13<00:00,  7.47batches/s]\n",
      "Test batch number 13: 100%|██████████| 13/13 [00:03<00:00,  3.86batches/s]\n"
     ]
    },
    {
     "name": "stdout",
     "output_type": "stream",
     "text": [
      "\n",
      "Metrics: {'train_loss': 0.023292846356829006, 'test_loss': 2.1299608028852024, 'bleu': 20.353, 'gen_len': 9.5909}\n",
      "\n",
      "=============================\n",
      "\n"
     ]
    },
    {
     "name": "stderr",
     "output_type": "stream",
     "text": [
      " 85%|████████▍ | 66/78 [20:48<03:44, 18.67s/it]"
     ]
    },
    {
     "name": "stdout",
     "output_type": "stream",
     "text": [
      "For epoch 72: \n",
      "{Learning rate: [0.0027610923215401102]}\n"
     ]
    },
    {
     "name": "stderr",
     "output_type": "stream",
     "text": [
      "Train batch number 99: 100%|██████████| 99/99 [00:12<00:00,  7.69batches/s]\n",
      "Test batch number 13: 100%|██████████| 13/13 [00:03<00:00,  3.93batches/s]\n"
     ]
    },
    {
     "name": "stdout",
     "output_type": "stream",
     "text": [
      "\n",
      "Metrics: {'train_loss': 0.02058049075945158, 'test_loss': 2.1230778235655565, 'bleu': 19.8877, 'gen_len': 9.5303}\n",
      "\n",
      "=============================\n",
      "\n"
     ]
    },
    {
     "name": "stderr",
     "output_type": "stream",
     "text": [
      " 86%|████████▌ | 67/78 [21:06<03:22, 18.45s/it]"
     ]
    },
    {
     "name": "stdout",
     "output_type": "stream",
     "text": [
      "For epoch 73: \n",
      "{Learning rate: [0.0027573992761609073]}\n"
     ]
    },
    {
     "name": "stderr",
     "output_type": "stream",
     "text": [
      "Train batch number 99: 100%|██████████| 99/99 [00:13<00:00,  7.57batches/s]\n",
      "Test batch number 13: 100%|██████████| 13/13 [00:03<00:00,  3.73batches/s]\n"
     ]
    },
    {
     "name": "stdout",
     "output_type": "stream",
     "text": [
      "\n",
      "Metrics: {'train_loss': 0.02123201138227049, 'test_loss': 2.1045895906595082, 'bleu': 20.4074, 'gen_len': 9.7172}\n",
      "\n",
      "=============================\n",
      "\n"
     ]
    },
    {
     "name": "stderr",
     "output_type": "stream",
     "text": [
      " 87%|████████▋ | 68/78 [21:25<03:04, 18.41s/it]"
     ]
    },
    {
     "name": "stdout",
     "output_type": "stream",
     "text": [
      "For epoch 74: \n",
      "{Learning rate: [0.0027537062307817044]}\n"
     ]
    },
    {
     "name": "stderr",
     "output_type": "stream",
     "text": [
      "Train batch number 99: 100%|██████████| 99/99 [00:13<00:00,  7.48batches/s]\n",
      "Test batch number 13: 100%|██████████| 13/13 [00:03<00:00,  3.92batches/s]\n"
     ]
    },
    {
     "name": "stdout",
     "output_type": "stream",
     "text": [
      "\n",
      "Metrics: {'train_loss': 0.01974402885234943, 'test_loss': 2.0943219661712646, 'bleu': 21.2883, 'gen_len': 9.7828}\n",
      "\n",
      "=============================\n",
      "\n"
     ]
    },
    {
     "name": "stderr",
     "output_type": "stream",
     "text": [
      " 88%|████████▊ | 69/78 [21:43<02:45, 18.37s/it]"
     ]
    },
    {
     "name": "stdout",
     "output_type": "stream",
     "text": [
      "For epoch 75: \n",
      "{Learning rate: [0.0027500131854025014]}\n"
     ]
    },
    {
     "name": "stderr",
     "output_type": "stream",
     "text": [
      "Train batch number 99: 100%|██████████| 99/99 [00:13<00:00,  7.56batches/s]\n",
      "Test batch number 13: 100%|██████████| 13/13 [00:03<00:00,  3.78batches/s]\n"
     ]
    },
    {
     "name": "stdout",
     "output_type": "stream",
     "text": [
      "\n",
      "Metrics: {'train_loss': 0.023042597854980314, 'test_loss': 2.0960475389774027, 'bleu': 20.6723, 'gen_len': 9.9242}\n",
      "\n",
      "=============================\n",
      "\n"
     ]
    },
    {
     "name": "stderr",
     "output_type": "stream",
     "text": [
      " 90%|████████▉ | 70/78 [22:01<02:26, 18.34s/it]"
     ]
    },
    {
     "name": "stdout",
     "output_type": "stream",
     "text": [
      "For epoch 76: \n",
      "{Learning rate: [0.002746320140023298]}\n"
     ]
    },
    {
     "name": "stderr",
     "output_type": "stream",
     "text": [
      "Train batch number 99: 100%|██████████| 99/99 [00:12<00:00,  7.74batches/s]\n",
      "Test batch number 13: 100%|██████████| 13/13 [00:03<00:00,  3.73batches/s]\n"
     ]
    },
    {
     "name": "stdout",
     "output_type": "stream",
     "text": [
      "\n",
      "Metrics: {'train_loss': 0.020298769417679823, 'test_loss': 2.1067109383069553, 'bleu': 20.4567, 'gen_len': 9.8081}\n",
      "\n",
      "=============================\n",
      "\n"
     ]
    },
    {
     "name": "stderr",
     "output_type": "stream",
     "text": [
      " 91%|█████████ | 71/78 [22:19<02:07, 18.24s/it]"
     ]
    },
    {
     "name": "stdout",
     "output_type": "stream",
     "text": [
      "For epoch 77: \n",
      "{Learning rate: [0.002742627094644095]}\n"
     ]
    },
    {
     "name": "stderr",
     "output_type": "stream",
     "text": [
      "Train batch number 99: 100%|██████████| 99/99 [00:12<00:00,  7.67batches/s]\n",
      "Test batch number 13: 100%|██████████| 13/13 [00:03<00:00,  3.95batches/s]\n"
     ]
    },
    {
     "name": "stdout",
     "output_type": "stream",
     "text": [
      "\n",
      "Metrics: {'train_loss': 0.020116203857322382, 'test_loss': 2.115797290435204, 'bleu': 20.6872, 'gen_len': 9.7374}\n",
      "\n",
      "=============================\n",
      "\n"
     ]
    },
    {
     "name": "stderr",
     "output_type": "stream",
     "text": [
      " 92%|█████████▏| 72/78 [22:37<01:48, 18.15s/it]"
     ]
    },
    {
     "name": "stdout",
     "output_type": "stream",
     "text": [
      "For epoch 78: \n",
      "{Learning rate: [0.0027389340492648922]}\n"
     ]
    },
    {
     "name": "stderr",
     "output_type": "stream",
     "text": [
      "Train batch number 99: 100%|██████████| 99/99 [00:13<00:00,  7.59batches/s]\n",
      "Test batch number 13: 100%|██████████| 13/13 [00:03<00:00,  3.75batches/s]\n"
     ]
    },
    {
     "name": "stdout",
     "output_type": "stream",
     "text": [
      "\n",
      "Metrics: {'train_loss': 0.018701622671814577, 'test_loss': 2.134658327469459, 'bleu': 18.2987, 'gen_len': 9.9495}\n",
      "\n",
      "=============================\n",
      "\n"
     ]
    },
    {
     "name": "stderr",
     "output_type": "stream",
     "text": [
      " 94%|█████████▎| 73/78 [22:55<01:30, 18.19s/it]"
     ]
    },
    {
     "name": "stdout",
     "output_type": "stream",
     "text": [
      "For epoch 79: \n",
      "{Learning rate: [0.002735241003885689]}\n"
     ]
    },
    {
     "name": "stderr",
     "output_type": "stream",
     "text": [
      "Train batch number 99: 100%|██████████| 99/99 [00:12<00:00,  7.66batches/s]\n",
      "Test batch number 13: 100%|██████████| 13/13 [00:03<00:00,  3.94batches/s]\n"
     ]
    },
    {
     "name": "stdout",
     "output_type": "stream",
     "text": [
      "\n",
      "Metrics: {'train_loss': 0.01941380118998238, 'test_loss': 2.1184471203730655, 'bleu': 19.0261, 'gen_len': 9.6566}\n",
      "\n",
      "=============================\n",
      "\n"
     ]
    },
    {
     "name": "stderr",
     "output_type": "stream",
     "text": [
      " 95%|█████████▍| 74/78 [23:13<01:12, 18.13s/it]"
     ]
    },
    {
     "name": "stdout",
     "output_type": "stream",
     "text": [
      "For epoch 80: \n",
      "{Learning rate: [0.002731547958506486]}\n"
     ]
    },
    {
     "name": "stderr",
     "output_type": "stream",
     "text": [
      "Train batch number 99: 100%|██████████| 99/99 [00:12<00:00,  7.65batches/s]\n",
      "Test batch number 13: 100%|██████████| 13/13 [00:03<00:00,  3.63batches/s]\n"
     ]
    },
    {
     "name": "stdout",
     "output_type": "stream",
     "text": [
      "\n",
      "Metrics: {'train_loss': 0.019838169939119858, 'test_loss': 2.1079124762461734, 'bleu': 19.8307, 'gen_len': 9.5253}\n",
      "\n",
      "=============================\n",
      "\n"
     ]
    },
    {
     "name": "stderr",
     "output_type": "stream",
     "text": [
      " 96%|█████████▌| 75/78 [23:32<00:54, 18.17s/it]"
     ]
    },
    {
     "name": "stdout",
     "output_type": "stream",
     "text": [
      "For epoch 81: \n",
      "{Learning rate: [0.002727854913127283]}\n"
     ]
    },
    {
     "name": "stderr",
     "output_type": "stream",
     "text": [
      "Train batch number 99: 100%|██████████| 99/99 [00:13<00:00,  7.57batches/s]\n",
      "Test batch number 13: 100%|██████████| 13/13 [00:03<00:00,  3.83batches/s]\n"
     ]
    },
    {
     "name": "stdout",
     "output_type": "stream",
     "text": [
      "\n",
      "Metrics: {'train_loss': 0.01767025177009554, 'test_loss': 2.1091403502684374, 'bleu': 19.6302, 'gen_len': 9.9293}\n",
      "\n",
      "=============================\n",
      "\n"
     ]
    },
    {
     "name": "stderr",
     "output_type": "stream",
     "text": [
      " 97%|█████████▋| 76/78 [23:50<00:36, 18.18s/it]"
     ]
    },
    {
     "name": "stdout",
     "output_type": "stream",
     "text": [
      "For epoch 82: \n",
      "{Learning rate: [0.00272416186774808]}\n"
     ]
    },
    {
     "name": "stderr",
     "output_type": "stream",
     "text": [
      "Train batch number 99: 100%|██████████| 99/99 [00:13<00:00,  7.47batches/s]\n",
      "Test batch number 13: 100%|██████████| 13/13 [00:03<00:00,  3.82batches/s]\n"
     ]
    },
    {
     "name": "stdout",
     "output_type": "stream",
     "text": [
      "\n",
      "Metrics: {'train_loss': 0.019413830554865376, 'test_loss': 2.0996697407502394, 'bleu': 20.7977, 'gen_len': 10.0455}\n",
      "\n",
      "=============================\n",
      "\n"
     ]
    },
    {
     "name": "stderr",
     "output_type": "stream",
     "text": [
      " 99%|█████████▊| 77/78 [24:08<00:18, 18.25s/it]"
     ]
    },
    {
     "name": "stdout",
     "output_type": "stream",
     "text": [
      "For epoch 83: \n",
      "{Learning rate: [0.002720468822368877]}\n"
     ]
    },
    {
     "name": "stderr",
     "output_type": "stream",
     "text": [
      "Train batch number 99: 100%|██████████| 99/99 [00:13<00:00,  7.50batches/s]\n",
      "Test batch number 13: 100%|██████████| 13/13 [00:03<00:00,  3.61batches/s]\n"
     ]
    },
    {
     "name": "stdout",
     "output_type": "stream",
     "text": [
      "\n",
      "Metrics: {'train_loss': 0.01930094945404415, 'test_loss': 2.118147923396184, 'bleu': 20.065, 'gen_len': 10.0}\n",
      "\n",
      "=============================\n",
      "\n"
     ]
    },
    {
     "name": "stderr",
     "output_type": "stream",
     "text": [
      "100%|██████████| 78/78 [24:27<00:00, 18.81s/it]\n"
     ]
    }
   ],
   "source": [
    "trainer.train(epochs = config['epochs'] - trainer.current_epoch, auto_save=True, metric_for_best_model='bleu', metric_objective='maximize', log_step=1,\n",
    "              saving_directory = config['new_model_dir'])"
   ]
  },
  {
   "attachments": {},
   "cell_type": "markdown",
   "metadata": {},
   "source": [
    "### --- Cosine Step"
   ]
  },
  {
   "cell_type": "code",
   "execution_count": 10,
   "metadata": {},
   "outputs": [
    {
     "name": "stderr",
     "output_type": "stream",
     "text": [
      "  0%|          | 0/217 [00:00<?, ?it/s]/home/ec2-user/anaconda3/envs/pytorch_p310/lib/python3.10/site-packages/torch/optim/lr_scheduler.py:265: UserWarning: To get the last learning rate computed by the scheduler, please use `get_last_lr()`.\n",
      "  warnings.warn(\"To get the last learning rate computed by the scheduler, \"\n"
     ]
    },
    {
     "name": "stdout",
     "output_type": "stream",
     "text": [
      "For epoch 84: \n",
      "{Learning rate: [0.002947264271584649]}\n"
     ]
    },
    {
     "name": "stderr",
     "output_type": "stream",
     "text": [
      "Train batch number 99: 100%|██████████| 99/99 [00:12<00:00,  7.69batches/s]\n",
      "Test batch number 13: 100%|██████████| 13/13 [00:03<00:00,  3.78batches/s]\n"
     ]
    },
    {
     "name": "stdout",
     "output_type": "stream",
     "text": [
      "\n",
      "Metrics: {'train_loss': 0.02082285217263482, 'test_loss': 2.092761048903832, 'bleu': 20.2433, 'gen_len': 9.9697}\n",
      "\n",
      "=============================\n",
      "\n"
     ]
    },
    {
     "name": "stderr",
     "output_type": "stream",
     "text": [
      "  0%|          | 1/217 [00:18<1:05:15, 18.13s/it]"
     ]
    },
    {
     "name": "stdout",
     "output_type": "stream",
     "text": [
      "For epoch 85: \n",
      "{Learning rate: [0.0029454370699154714]}\n"
     ]
    },
    {
     "name": "stderr",
     "output_type": "stream",
     "text": [
      "Train batch number 99: 100%|██████████| 99/99 [00:13<00:00,  7.43batches/s]\n",
      "Test batch number 13: 100%|██████████| 13/13 [00:03<00:00,  3.89batches/s]\n"
     ]
    },
    {
     "name": "stdout",
     "output_type": "stream",
     "text": [
      "\n",
      "Metrics: {'train_loss': 0.02035974842646733, 'test_loss': 2.1197976974340587, 'bleu': 20.6262, 'gen_len': 9.7778}\n",
      "\n",
      "=============================\n",
      "\n"
     ]
    },
    {
     "name": "stderr",
     "output_type": "stream",
     "text": [
      "  1%|          | 2/217 [00:36<1:05:33, 18.29s/it]"
     ]
    },
    {
     "name": "stdout",
     "output_type": "stream",
     "text": [
      "For epoch 86: \n",
      "{Learning rate: [0.0029435887532353296]}\n"
     ]
    },
    {
     "name": "stderr",
     "output_type": "stream",
     "text": [
      "Train batch number 99: 100%|██████████| 99/99 [00:13<00:00,  7.40batches/s]\n",
      "Test batch number 13: 100%|██████████| 13/13 [00:03<00:00,  3.88batches/s]\n"
     ]
    },
    {
     "name": "stdout",
     "output_type": "stream",
     "text": [
      "\n",
      "Metrics: {'train_loss': 0.019906076974226066, 'test_loss': 2.0819362035164466, 'bleu': 19.7077, 'gen_len': 10.0556}\n",
      "\n",
      "=============================\n",
      "\n"
     ]
    },
    {
     "name": "stderr",
     "output_type": "stream",
     "text": [
      "  1%|▏         | 3/217 [00:54<1:05:30, 18.37s/it]"
     ]
    },
    {
     "name": "stdout",
     "output_type": "stream",
     "text": [
      "For epoch 87: \n",
      "{Learning rate: [0.0029417193487638934]}\n"
     ]
    },
    {
     "name": "stderr",
     "output_type": "stream",
     "text": [
      "Train batch number 99: 100%|██████████| 99/99 [00:13<00:00,  7.56batches/s]\n",
      "Test batch number 13: 100%|██████████| 13/13 [00:03<00:00,  3.74batches/s]\n"
     ]
    },
    {
     "name": "stdout",
     "output_type": "stream",
     "text": [
      "\n",
      "Metrics: {'train_loss': 0.019800831549659823, 'test_loss': 2.096223152600802, 'bleu': 21.6292, 'gen_len': 9.9495}\n",
      "\n",
      "=============================\n",
      "\n"
     ]
    },
    {
     "name": "stderr",
     "output_type": "stream",
     "text": [
      "  2%|▏         | 4/217 [01:14<1:07:01, 18.88s/it]"
     ]
    },
    {
     "name": "stdout",
     "output_type": "stream",
     "text": [
      "For epoch 88: \n",
      "{Learning rate: [0.002939828884031382]}\n"
     ]
    },
    {
     "name": "stderr",
     "output_type": "stream",
     "text": [
      "Train batch number 99: 100%|██████████| 99/99 [00:13<00:00,  7.59batches/s]\n",
      "Test batch number 13: 100%|██████████| 13/13 [00:03<00:00,  3.81batches/s]\n"
     ]
    },
    {
     "name": "stdout",
     "output_type": "stream",
     "text": [
      "\n",
      "Metrics: {'train_loss': 0.02003433684479784, 'test_loss': 2.099432211655837, 'bleu': 20.0142, 'gen_len': 10.0303}\n",
      "\n",
      "=============================\n",
      "\n"
     ]
    },
    {
     "name": "stderr",
     "output_type": "stream",
     "text": [
      "  2%|▏         | 5/217 [01:32<1:05:54, 18.65s/it]"
     ]
    },
    {
     "name": "stdout",
     "output_type": "stream",
     "text": [
      "For epoch 89: \n",
      "{Learning rate: [0.0029379173868781683]}\n"
     ]
    },
    {
     "name": "stderr",
     "output_type": "stream",
     "text": [
      "Train batch number 99: 100%|██████████| 99/99 [00:13<00:00,  7.55batches/s]\n",
      "Test batch number 13: 100%|██████████| 13/13 [00:03<00:00,  3.75batches/s]\n"
     ]
    },
    {
     "name": "stdout",
     "output_type": "stream",
     "text": [
      "\n",
      "Metrics: {'train_loss': 0.019627890377916922, 'test_loss': 2.1095093947190504, 'bleu': 20.1688, 'gen_len': 9.5808}\n",
      "\n",
      "=============================\n",
      "\n"
     ]
    },
    {
     "name": "stderr",
     "output_type": "stream",
     "text": [
      "  3%|▎         | 6/217 [01:51<1:05:12, 18.54s/it]"
     ]
    },
    {
     "name": "stdout",
     "output_type": "stream",
     "text": [
      "For epoch 90: \n",
      "{Learning rate: [0.00293598488545436]}\n"
     ]
    },
    {
     "name": "stderr",
     "output_type": "stream",
     "text": [
      "Train batch number 99: 100%|██████████| 99/99 [00:13<00:00,  7.41batches/s]\n",
      "Test batch number 13: 100%|██████████| 13/13 [00:03<00:00,  3.80batches/s]\n"
     ]
    },
    {
     "name": "stdout",
     "output_type": "stream",
     "text": [
      "\n",
      "Metrics: {'train_loss': 0.017197841324495398, 'test_loss': 2.150502030666058, 'bleu': 20.218, 'gen_len': 9.8384}\n",
      "\n",
      "=============================\n",
      "\n"
     ]
    },
    {
     "name": "stderr",
     "output_type": "stream",
     "text": [
      "  3%|▎         | 7/217 [02:09<1:04:52, 18.53s/it]"
     ]
    },
    {
     "name": "stdout",
     "output_type": "stream",
     "text": [
      "For epoch 91: \n",
      "{Learning rate: [0.0029340314082193916]}\n"
     ]
    },
    {
     "name": "stderr",
     "output_type": "stream",
     "text": [
      "Train batch number 99: 100%|██████████| 99/99 [00:13<00:00,  7.50batches/s]\n",
      "Test batch number 13: 100%|██████████| 13/13 [00:03<00:00,  3.91batches/s]\n"
     ]
    },
    {
     "name": "stdout",
     "output_type": "stream",
     "text": [
      "\n",
      "Metrics: {'train_loss': 0.022856600333306224, 'test_loss': 2.10175660940317, 'bleu': 20.7825, 'gen_len': 9.7879}\n",
      "\n",
      "=============================\n",
      "\n"
     ]
    },
    {
     "name": "stderr",
     "output_type": "stream",
     "text": [
      "  4%|▎         | 8/217 [02:28<1:04:14, 18.44s/it]"
     ]
    },
    {
     "name": "stdout",
     "output_type": "stream",
     "text": [
      "For epoch 92: \n",
      "{Learning rate: [0.0029320569839416015]}\n"
     ]
    },
    {
     "name": "stderr",
     "output_type": "stream",
     "text": [
      "Train batch number 99: 100%|██████████| 99/99 [00:13<00:00,  7.50batches/s]\n",
      "Test batch number 13: 100%|██████████| 13/13 [00:03<00:00,  3.93batches/s]\n"
     ]
    },
    {
     "name": "stdout",
     "output_type": "stream",
     "text": [
      "\n",
      "Metrics: {'train_loss': 0.018767982203927305, 'test_loss': 2.1127730699685903, 'bleu': 19.8685, 'gen_len': 9.9545}\n",
      "\n",
      "=============================\n",
      "\n"
     ]
    },
    {
     "name": "stderr",
     "output_type": "stream",
     "text": [
      "  4%|▍         | 9/217 [02:46<1:03:45, 18.39s/it]"
     ]
    },
    {
     "name": "stdout",
     "output_type": "stream",
     "text": [
      "For epoch 93: \n",
      "{Learning rate: [0.0029300616416978098]}\n"
     ]
    },
    {
     "name": "stderr",
     "output_type": "stream",
     "text": [
      "Train batch number 99: 100%|██████████| 99/99 [00:13<00:00,  7.50batches/s]\n",
      "Test batch number 13: 100%|██████████| 13/13 [00:03<00:00,  3.80batches/s]\n"
     ]
    },
    {
     "name": "stdout",
     "output_type": "stream",
     "text": [
      "\n",
      "Metrics: {'train_loss': 0.018536740361308358, 'test_loss': 2.1062294978361864, 'bleu': 21.3047, 'gen_len': 9.601}\n",
      "\n",
      "=============================\n",
      "\n"
     ]
    },
    {
     "name": "stderr",
     "output_type": "stream",
     "text": [
      "  5%|▍         | 10/217 [03:04<1:03:25, 18.38s/it]"
     ]
    },
    {
     "name": "stdout",
     "output_type": "stream",
     "text": [
      "For epoch 94: \n",
      "{Learning rate: [0.0029280454108728915]}\n"
     ]
    },
    {
     "name": "stderr",
     "output_type": "stream",
     "text": [
      "Train batch number 99: 100%|██████████| 99/99 [00:13<00:00,  7.38batches/s]\n",
      "Test batch number 13: 100%|██████████| 13/13 [00:03<00:00,  3.88batches/s]\n"
     ]
    },
    {
     "name": "stdout",
     "output_type": "stream",
     "text": [
      "\n",
      "Metrics: {'train_loss': 0.018901859092610804, 'test_loss': 2.1157969052974996, 'bleu': 20.9548, 'gen_len': 9.6061}\n",
      "\n",
      "=============================\n",
      "\n"
     ]
    },
    {
     "name": "stderr",
     "output_type": "stream",
     "text": [
      "  5%|▌         | 11/217 [03:23<1:03:14, 18.42s/it]"
     ]
    },
    {
     "name": "stdout",
     "output_type": "stream",
     "text": [
      "For epoch 95: \n",
      "{Learning rate: [0.0029260083211593395]}\n"
     ]
    },
    {
     "name": "stderr",
     "output_type": "stream",
     "text": [
      "Train batch number 99: 100%|██████████| 99/99 [00:13<00:00,  7.50batches/s]\n",
      "Test batch number 13: 100%|██████████| 13/13 [00:03<00:00,  3.96batches/s]\n"
     ]
    },
    {
     "name": "stdout",
     "output_type": "stream",
     "text": [
      "\n",
      "Metrics: {'train_loss': 0.019465048352933743, 'test_loss': 2.1190952337705173, 'bleu': 19.9259, 'gen_len': 10.0455}\n",
      "\n",
      "=============================\n",
      "\n"
     ]
    },
    {
     "name": "stderr",
     "output_type": "stream",
     "text": [
      "  6%|▌         | 12/217 [03:41<1:02:44, 18.37s/it]"
     ]
    },
    {
     "name": "stdout",
     "output_type": "stream",
     "text": [
      "For epoch 96: \n",
      "{Learning rate: [0.002923950402556832]}\n"
     ]
    },
    {
     "name": "stderr",
     "output_type": "stream",
     "text": [
      "Train batch number 99: 100%|██████████| 99/99 [00:13<00:00,  7.45batches/s]\n",
      "Test batch number 13: 100%|██████████| 13/13 [00:03<00:00,  3.77batches/s]\n"
     ]
    },
    {
     "name": "stdout",
     "output_type": "stream",
     "text": [
      "\n",
      "Metrics: {'train_loss': 0.01845028833721322, 'test_loss': 2.1525345765627346, 'bleu': 18.9023, 'gen_len': 9.904}\n",
      "\n",
      "=============================\n",
      "\n"
     ]
    },
    {
     "name": "stderr",
     "output_type": "stream",
     "text": [
      "  6%|▌         | 13/217 [03:59<1:02:33, 18.40s/it]"
     ]
    },
    {
     "name": "stdout",
     "output_type": "stream",
     "text": [
      "For epoch 97: \n",
      "{Learning rate: [0.002921871685371788]}\n"
     ]
    },
    {
     "name": "stderr",
     "output_type": "stream",
     "text": [
      "Train batch number 99: 100%|██████████| 99/99 [00:13<00:00,  7.49batches/s]\n",
      "Test batch number 13: 100%|██████████| 13/13 [00:03<00:00,  4.02batches/s]\n"
     ]
    },
    {
     "name": "stdout",
     "output_type": "stream",
     "text": [
      "\n",
      "Metrics: {'train_loss': 0.01665215685051123, 'test_loss': 2.1347617277732263, 'bleu': 20.2499, 'gen_len': 9.697}\n",
      "\n",
      "=============================\n",
      "\n"
     ]
    },
    {
     "name": "stderr",
     "output_type": "stream",
     "text": [
      "  6%|▋         | 14/217 [04:18<1:02:00, 18.33s/it]"
     ]
    },
    {
     "name": "stdout",
     "output_type": "stream",
     "text": [
      "For epoch 98: \n",
      "{Learning rate: [0.0029197722002169218]}\n"
     ]
    },
    {
     "name": "stderr",
     "output_type": "stream",
     "text": [
      "Train batch number 99: 100%|██████████| 99/99 [00:13<00:00,  7.50batches/s]\n",
      "Test batch number 13: 100%|██████████| 13/13 [00:03<00:00,  4.16batches/s]\n"
     ]
    },
    {
     "name": "stdout",
     "output_type": "stream",
     "text": [
      "\n",
      "Metrics: {'train_loss': 0.01847068424515351, 'test_loss': 2.1270885100731483, 'bleu': 20.2254, 'gen_len': 9.6667}\n",
      "\n",
      "=============================\n",
      "\n"
     ]
    },
    {
     "name": "stderr",
     "output_type": "stream",
     "text": [
      "  7%|▋         | 15/217 [04:36<1:01:27, 18.25s/it]"
     ]
    },
    {
     "name": "stdout",
     "output_type": "stream",
     "text": [
      "For epoch 99: \n",
      "{Learning rate: [0.0029176519780107915]}\n"
     ]
    },
    {
     "name": "stderr",
     "output_type": "stream",
     "text": [
      "Train batch number 99: 100%|██████████| 99/99 [00:13<00:00,  7.62batches/s]\n",
      "Test batch number 13: 100%|██████████| 13/13 [00:03<00:00,  3.94batches/s]\n"
     ]
    },
    {
     "name": "stdout",
     "output_type": "stream",
     "text": [
      "\n",
      "Metrics: {'train_loss': 0.017592810625868916, 'test_loss': 2.1178489189881544, 'bleu': 20.3039, 'gen_len': 9.5909}\n",
      "\n",
      "=============================\n",
      "\n"
     ]
    },
    {
     "name": "stderr",
     "output_type": "stream",
     "text": [
      "  7%|▋         | 16/217 [04:54<1:00:57, 18.20s/it]"
     ]
    },
    {
     "name": "stdout",
     "output_type": "stream",
     "text": [
      "For epoch 100: \n",
      "{Learning rate: [0.002915511049977345]}\n"
     ]
    },
    {
     "name": "stderr",
     "output_type": "stream",
     "text": [
      "Train batch number 99: 100%|██████████| 99/99 [00:12<00:00,  7.64batches/s]\n",
      "Test batch number 13: 100%|██████████| 13/13 [00:03<00:00,  3.82batches/s]\n"
     ]
    },
    {
     "name": "stdout",
     "output_type": "stream",
     "text": [
      "\n",
      "Metrics: {'train_loss': 0.018224845402827015, 'test_loss': 2.1220937692202053, 'bleu': 20.0519, 'gen_len': 9.7172}\n",
      "\n",
      "=============================\n",
      "\n"
     ]
    },
    {
     "name": "stderr",
     "output_type": "stream",
     "text": [
      "  8%|▊         | 17/217 [05:12<1:00:31, 18.16s/it]"
     ]
    },
    {
     "name": "stdout",
     "output_type": "stream",
     "text": [
      "For epoch 101: \n",
      "{Learning rate: [0.0029133494476454597]}\n"
     ]
    },
    {
     "name": "stderr",
     "output_type": "stream",
     "text": [
      "Train batch number 99: 100%|██████████| 99/99 [00:13<00:00,  7.60batches/s]\n",
      "Test batch number 13: 100%|██████████| 13/13 [00:03<00:00,  3.73batches/s]\n"
     ]
    },
    {
     "name": "stdout",
     "output_type": "stream",
     "text": [
      "\n",
      "Metrics: {'train_loss': 0.017862096400649258, 'test_loss': 2.1555822170697727, 'bleu': 19.8607, 'gen_len': 9.6818}\n",
      "\n",
      "=============================\n",
      "\n"
     ]
    },
    {
     "name": "stderr",
     "output_type": "stream",
     "text": [
      "  8%|▊         | 18/217 [05:30<1:00:19, 18.19s/it]"
     ]
    },
    {
     "name": "stdout",
     "output_type": "stream",
     "text": [
      "For epoch 102: \n",
      "{Learning rate: [0.0029111672028484773]}\n"
     ]
    },
    {
     "name": "stderr",
     "output_type": "stream",
     "text": [
      "Train batch number 99: 100%|██████████| 99/99 [00:13<00:00,  7.53batches/s]\n",
      "Test batch number 13: 100%|██████████| 13/13 [00:03<00:00,  3.92batches/s]\n"
     ]
    },
    {
     "name": "stdout",
     "output_type": "stream",
     "text": [
      "\n",
      "Metrics: {'train_loss': 0.018811276657600896, 'test_loss': 2.137165619776799, 'bleu': 19.6051, 'gen_len': 9.7172}\n",
      "\n",
      "=============================\n",
      "\n"
     ]
    },
    {
     "name": "stderr",
     "output_type": "stream",
     "text": [
      "  9%|▉         | 19/217 [05:48<1:00:01, 18.19s/it]"
     ]
    },
    {
     "name": "stdout",
     "output_type": "stream",
     "text": [
      "For epoch 103: \n",
      "{Learning rate: [0.0029089643477237348]}\n"
     ]
    },
    {
     "name": "stderr",
     "output_type": "stream",
     "text": [
      "Train batch number 99: 100%|██████████| 99/99 [00:12<00:00,  7.62batches/s]\n",
      "Test batch number 13: 100%|██████████| 13/13 [00:03<00:00,  3.78batches/s]\n"
     ]
    },
    {
     "name": "stdout",
     "output_type": "stream",
     "text": [
      "\n",
      "Metrics: {'train_loss': 0.017183433296252982, 'test_loss': 2.1304567135297336, 'bleu': 19.9925, 'gen_len': 9.9242}\n",
      "\n",
      "=============================\n",
      "\n"
     ]
    },
    {
     "name": "stderr",
     "output_type": "stream",
     "text": [
      "  9%|▉         | 20/217 [06:06<59:47, 18.21s/it]  "
     ]
    },
    {
     "name": "stdout",
     "output_type": "stream",
     "text": [
      "For epoch 104: \n",
      "{Learning rate: [0.0029067409147120926]}\n"
     ]
    },
    {
     "name": "stderr",
     "output_type": "stream",
     "text": [
      "Train batch number 99: 100%|██████████| 99/99 [00:13<00:00,  7.54batches/s]\n",
      "Test batch number 13: 100%|██████████| 13/13 [00:03<00:00,  3.90batches/s]\n"
     ]
    },
    {
     "name": "stdout",
     "output_type": "stream",
     "text": [
      "\n",
      "Metrics: {'train_loss': 0.017918717968653925, 'test_loss': 2.1380312626178446, 'bleu': 19.6099, 'gen_len': 9.7929}\n",
      "\n",
      "=============================\n",
      "\n"
     ]
    },
    {
     "name": "stderr",
     "output_type": "stream",
     "text": [
      " 10%|▉         | 21/217 [06:25<59:28, 18.21s/it]"
     ]
    },
    {
     "name": "stdout",
     "output_type": "stream",
     "text": [
      "For epoch 105: \n",
      "{Learning rate: [0.0029044969365574574]}\n"
     ]
    },
    {
     "name": "stderr",
     "output_type": "stream",
     "text": [
      "Train batch number 99: 100%|██████████| 99/99 [00:13<00:00,  7.56batches/s]\n",
      "Test batch number 13: 100%|██████████| 13/13 [00:03<00:00,  3.79batches/s]\n"
     ]
    },
    {
     "name": "stdout",
     "output_type": "stream",
     "text": [
      "\n",
      "Metrics: {'train_loss': 0.017241707384454633, 'test_loss': 2.1581647946284366, 'bleu': 19.6486, 'gen_len': 9.7778}\n",
      "\n",
      "=============================\n",
      "\n"
     ]
    },
    {
     "name": "stderr",
     "output_type": "stream",
     "text": [
      " 10%|█         | 22/217 [06:43<59:17, 18.24s/it]"
     ]
    },
    {
     "name": "stdout",
     "output_type": "stream",
     "text": [
      "For epoch 106: \n",
      "{Learning rate: [0.0029022324463062973]}\n"
     ]
    },
    {
     "name": "stderr",
     "output_type": "stream",
     "text": [
      "Train batch number 99: 100%|██████████| 99/99 [00:12<00:00,  7.65batches/s]\n",
      "Test batch number 13: 100%|██████████| 13/13 [00:03<00:00,  3.86batches/s]\n"
     ]
    },
    {
     "name": "stdout",
     "output_type": "stream",
     "text": [
      "\n",
      "Metrics: {'train_loss': 0.018427722419452185, 'test_loss': 2.1302975599582377, 'bleu': 19.3866, 'gen_len': 9.7273}\n",
      "\n",
      "=============================\n",
      "\n"
     ]
    },
    {
     "name": "stderr",
     "output_type": "stream",
     "text": [
      " 11%|█         | 23/217 [07:01<58:46, 18.18s/it]"
     ]
    },
    {
     "name": "stdout",
     "output_type": "stream",
     "text": [
      "For epoch 107: \n",
      "{Learning rate: [0.0028999474773071573]}\n"
     ]
    },
    {
     "name": "stderr",
     "output_type": "stream",
     "text": [
      "Train batch number 99: 100%|██████████| 99/99 [00:12<00:00,  7.74batches/s]\n",
      "Test batch number 13: 100%|██████████| 13/13 [00:03<00:00,  3.72batches/s]\n"
     ]
    },
    {
     "name": "stdout",
     "output_type": "stream",
     "text": [
      "\n",
      "Metrics: {'train_loss': 0.017741932851177724, 'test_loss': 2.109183641580435, 'bleu': 19.3508, 'gen_len': 9.8788}\n",
      "\n",
      "=============================\n",
      "\n"
     ]
    },
    {
     "name": "stderr",
     "output_type": "stream",
     "text": [
      " 11%|█         | 24/217 [07:19<58:19, 18.13s/it]"
     ]
    },
    {
     "name": "stdout",
     "output_type": "stream",
     "text": [
      "For epoch 108: \n",
      "{Learning rate: [0.0028976420632101665]}\n"
     ]
    },
    {
     "name": "stderr",
     "output_type": "stream",
     "text": [
      "Train batch number 99: 100%|██████████| 99/99 [00:13<00:00,  7.54batches/s]\n",
      "Test batch number 13: 100%|██████████| 13/13 [00:03<00:00,  3.82batches/s]\n"
     ]
    },
    {
     "name": "stdout",
     "output_type": "stream",
     "text": [
      "\n",
      "Metrics: {'train_loss': 0.015802777753296224, 'test_loss': 2.1169401223842916, 'bleu': 18.7045, 'gen_len': 9.7576}\n",
      "\n",
      "=============================\n",
      "\n"
     ]
    },
    {
     "name": "stderr",
     "output_type": "stream",
     "text": [
      " 12%|█▏        | 25/217 [07:37<58:10, 18.18s/it]"
     ]
    },
    {
     "name": "stdout",
     "output_type": "stream",
     "text": [
      "For epoch 109: \n",
      "{Learning rate: [0.0028953162379665442]}\n"
     ]
    },
    {
     "name": "stderr",
     "output_type": "stream",
     "text": [
      "Train batch number 99: 100%|██████████| 99/99 [00:13<00:00,  7.56batches/s]\n",
      "Test batch number 13: 100%|██████████| 13/13 [00:03<00:00,  3.84batches/s]\n"
     ]
    },
    {
     "name": "stdout",
     "output_type": "stream",
     "text": [
      "\n",
      "Metrics: {'train_loss': 0.016140808137321865, 'test_loss': 2.1136554846396813, 'bleu': 19.8961, 'gen_len': 9.7273}\n",
      "\n",
      "=============================\n",
      "\n"
     ]
    },
    {
     "name": "stderr",
     "output_type": "stream",
     "text": [
      " 12%|█▏        | 26/217 [07:56<57:53, 18.19s/it]"
     ]
    },
    {
     "name": "stdout",
     "output_type": "stream",
     "text": [
      "For epoch 110: \n",
      "{Learning rate: [0.0028929700358281]}\n"
     ]
    },
    {
     "name": "stderr",
     "output_type": "stream",
     "text": [
      "Train batch number 99: 100%|██████████| 99/99 [00:12<00:00,  7.64batches/s]\n",
      "Test batch number 13: 100%|██████████| 13/13 [00:03<00:00,  3.97batches/s]\n"
     ]
    },
    {
     "name": "stdout",
     "output_type": "stream",
     "text": [
      "\n",
      "Metrics: {'train_loss': 0.01684816197416924, 'test_loss': 2.1400125668599057, 'bleu': 20.735, 'gen_len': 10.0404}\n",
      "\n",
      "=============================\n",
      "\n"
     ]
    },
    {
     "name": "stderr",
     "output_type": "stream",
     "text": [
      " 12%|█▏        | 27/217 [08:13<57:22, 18.12s/it]"
     ]
    },
    {
     "name": "stdout",
     "output_type": "stream",
     "text": [
      "For epoch 111: \n",
      "{Learning rate: [0.0028906034913467275]}\n"
     ]
    },
    {
     "name": "stderr",
     "output_type": "stream",
     "text": [
      "Train batch number 99: 100%|██████████| 99/99 [00:13<00:00,  7.59batches/s]\n",
      "Test batch number 13: 100%|██████████| 13/13 [00:03<00:00,  3.87batches/s]\n"
     ]
    },
    {
     "name": "stdout",
     "output_type": "stream",
     "text": [
      "\n",
      "Metrics: {'train_loss': 0.01600274028999712, 'test_loss': 2.106177568435669, 'bleu': 19.8513, 'gen_len': 9.8232}\n",
      "\n",
      "=============================\n",
      "\n"
     ]
    },
    {
     "name": "stderr",
     "output_type": "stream",
     "text": [
      " 13%|█▎        | 28/217 [08:32<57:05, 18.12s/it]"
     ]
    },
    {
     "name": "stdout",
     "output_type": "stream",
     "text": [
      "For epoch 112: \n",
      "{Learning rate: [0.002888216639373896]}\n"
     ]
    },
    {
     "name": "stderr",
     "output_type": "stream",
     "text": [
      "Train batch number 99: 100%|██████████| 99/99 [00:12<00:00,  7.78batches/s]\n",
      "Test batch number 13: 100%|██████████| 13/13 [00:03<00:00,  3.77batches/s]\n"
     ]
    },
    {
     "name": "stdout",
     "output_type": "stream",
     "text": [
      "\n",
      "Metrics: {'train_loss': 0.01713341756752043, 'test_loss': 2.105785608291626, 'bleu': 20.1719, 'gen_len': 9.8737}\n",
      "\n",
      "=============================\n",
      "\n"
     ]
    },
    {
     "name": "stderr",
     "output_type": "stream",
     "text": [
      " 13%|█▎        | 29/217 [08:50<56:35, 18.06s/it]"
     ]
    },
    {
     "name": "stdout",
     "output_type": "stream",
     "text": [
      "For epoch 113: \n",
      "{Learning rate: [0.00288580951506014]}\n"
     ]
    },
    {
     "name": "stderr",
     "output_type": "stream",
     "text": [
      "Train batch number 99: 100%|██████████| 99/99 [00:12<00:00,  7.79batches/s]\n",
      "Test batch number 13: 100%|██████████| 13/13 [00:03<00:00,  4.04batches/s]\n"
     ]
    },
    {
     "name": "stdout",
     "output_type": "stream",
     "text": [
      "\n",
      "Metrics: {'train_loss': 0.015584424945920931, 'test_loss': 2.1353924457843485, 'bleu': 20.5672, 'gen_len': 9.5455}\n",
      "\n",
      "=============================\n",
      "\n"
     ]
    },
    {
     "name": "stderr",
     "output_type": "stream",
     "text": [
      " 14%|█▍        | 30/217 [09:07<55:54, 17.94s/it]"
     ]
    },
    {
     "name": "stdout",
     "output_type": "stream",
     "text": [
      "For epoch 114: \n",
      "{Learning rate: [0.0028833821538545375]}\n"
     ]
    },
    {
     "name": "stderr",
     "output_type": "stream",
     "text": [
      "Train batch number 99: 100%|██████████| 99/99 [00:13<00:00,  7.60batches/s]\n",
      "Test batch number 13: 100%|██████████| 13/13 [00:03<00:00,  3.87batches/s]\n"
     ]
    },
    {
     "name": "stdout",
     "output_type": "stream",
     "text": [
      "\n",
      "Metrics: {'train_loss': 0.01657155966574345, 'test_loss': 2.12609287408682, 'bleu': 20.1469, 'gen_len': 9.6212}\n",
      "\n",
      "=============================\n",
      "\n"
     ]
    },
    {
     "name": "stderr",
     "output_type": "stream",
     "text": [
      " 14%|█▍        | 31/217 [09:25<55:46, 17.99s/it]"
     ]
    },
    {
     "name": "stdout",
     "output_type": "stream",
     "text": [
      "For epoch 115: \n",
      "{Learning rate: [0.0028809345915041897]}\n"
     ]
    },
    {
     "name": "stderr",
     "output_type": "stream",
     "text": [
      "Train batch number 99: 100%|██████████| 99/99 [00:13<00:00,  7.55batches/s]\n",
      "Test batch number 13: 100%|██████████| 13/13 [00:03<00:00,  3.78batches/s]\n"
     ]
    },
    {
     "name": "stdout",
     "output_type": "stream",
     "text": [
      "\n",
      "Metrics: {'train_loss': 0.015218369770945624, 'test_loss': 2.1567503122182994, 'bleu': 20.5746, 'gen_len': 9.7222}\n",
      "\n",
      "=============================\n",
      "\n"
     ]
    },
    {
     "name": "stderr",
     "output_type": "stream",
     "text": [
      " 15%|█▍        | 32/217 [09:44<55:45, 18.08s/it]"
     ]
    },
    {
     "name": "stdout",
     "output_type": "stream",
     "text": [
      "For epoch 116: \n",
      "{Learning rate: [0.002878466864053696]}\n"
     ]
    },
    {
     "name": "stderr",
     "output_type": "stream",
     "text": [
      "Train batch number 99: 100%|██████████| 99/99 [00:13<00:00,  7.53batches/s]\n",
      "Test batch number 13: 100%|██████████| 13/13 [00:03<00:00,  3.98batches/s]\n"
     ]
    },
    {
     "name": "stdout",
     "output_type": "stream",
     "text": [
      "\n",
      "Metrics: {'train_loss': 0.015348479411602396, 'test_loss': 2.1372238856095533, 'bleu': 19.7152, 'gen_len': 9.8182}\n",
      "\n",
      "=============================\n",
      "\n"
     ]
    },
    {
     "name": "stderr",
     "output_type": "stream",
     "text": [
      " 15%|█▌        | 33/217 [10:02<55:30, 18.10s/it]"
     ]
    },
    {
     "name": "stdout",
     "output_type": "stream",
     "text": [
      "For epoch 117: \n",
      "{Learning rate: [0.002875979007844621]}\n"
     ]
    },
    {
     "name": "stderr",
     "output_type": "stream",
     "text": [
      "Train batch number 99: 100%|██████████| 99/99 [00:12<00:00,  7.81batches/s]\n",
      "Test batch number 13: 100%|██████████| 13/13 [00:03<00:00,  3.86batches/s]\n"
     ]
    },
    {
     "name": "stdout",
     "output_type": "stream",
     "text": [
      "\n",
      "Metrics: {'train_loss': 0.014985995948070078, 'test_loss': 2.1467235546845655, 'bleu': 20.2205, 'gen_len': 9.6667}\n",
      "\n",
      "=============================\n",
      "\n"
     ]
    },
    {
     "name": "stderr",
     "output_type": "stream",
     "text": [
      " 16%|█▌        | 34/217 [10:20<54:54, 18.01s/it]"
     ]
    },
    {
     "name": "stdout",
     "output_type": "stream",
     "text": [
      "For epoch 118: \n",
      "{Learning rate: [0.002873471059514961]}\n"
     ]
    },
    {
     "name": "stderr",
     "output_type": "stream",
     "text": [
      "Train batch number 99: 100%|██████████| 99/99 [00:13<00:00,  7.59batches/s]\n",
      "Test batch number 13: 100%|██████████| 13/13 [00:03<00:00,  4.06batches/s]\n"
     ]
    },
    {
     "name": "stdout",
     "output_type": "stream",
     "text": [
      "\n",
      "Metrics: {'train_loss': 0.01509946433949576, 'test_loss': 2.109497437110314, 'bleu': 21.8936, 'gen_len': 9.6061}\n",
      "\n",
      "=============================\n",
      "\n"
     ]
    },
    {
     "name": "stderr",
     "output_type": "stream",
     "text": [
      " 16%|█▌        | 35/217 [10:39<55:48, 18.40s/it]"
     ]
    },
    {
     "name": "stdout",
     "output_type": "stream",
     "text": [
      "For epoch 119: \n",
      "{Learning rate: [0.002870943055998602]}\n"
     ]
    },
    {
     "name": "stderr",
     "output_type": "stream",
     "text": [
      "Train batch number 99: 100%|██████████| 99/99 [00:12<00:00,  7.72batches/s]\n",
      "Test batch number 13: 100%|██████████| 13/13 [00:03<00:00,  3.84batches/s]\n"
     ]
    },
    {
     "name": "stdout",
     "output_type": "stream",
     "text": [
      "\n",
      "Metrics: {'train_loss': 0.013503846750039645, 'test_loss': 2.0922506680855384, 'bleu': 20.5124, 'gen_len': 9.7677}\n",
      "\n",
      "=============================\n",
      "\n"
     ]
    },
    {
     "name": "stderr",
     "output_type": "stream",
     "text": [
      " 17%|█▋        | 36/217 [10:57<55:05, 18.26s/it]"
     ]
    },
    {
     "name": "stdout",
     "output_type": "stream",
     "text": [
      "For epoch 120: \n",
      "{Learning rate: [0.002868395034524779]}\n"
     ]
    },
    {
     "name": "stderr",
     "output_type": "stream",
     "text": [
      "Train batch number 99: 100%|██████████| 99/99 [00:12<00:00,  7.72batches/s]\n",
      "Test batch number 13: 100%|██████████| 13/13 [00:03<00:00,  4.04batches/s]\n"
     ]
    },
    {
     "name": "stdout",
     "output_type": "stream",
     "text": [
      "\n",
      "Metrics: {'train_loss': 0.013355048403915281, 'test_loss': 2.120761330311115, 'bleu': 20.0528, 'gen_len': 9.6515}\n",
      "\n",
      "=============================\n",
      "\n"
     ]
    },
    {
     "name": "stderr",
     "output_type": "stream",
     "text": [
      " 17%|█▋        | 37/217 [11:15<54:20, 18.11s/it]"
     ]
    },
    {
     "name": "stdout",
     "output_type": "stream",
     "text": [
      "For epoch 121: \n",
      "{Learning rate: [0.0028658270326175255]}\n"
     ]
    },
    {
     "name": "stderr",
     "output_type": "stream",
     "text": [
      "Train batch number 99: 100%|██████████| 99/99 [00:12<00:00,  7.69batches/s]\n",
      "Test batch number 13: 100%|██████████| 13/13 [00:03<00:00,  4.02batches/s]\n"
     ]
    },
    {
     "name": "stdout",
     "output_type": "stream",
     "text": [
      "\n",
      "Metrics: {'train_loss': 0.014044439538871174, 'test_loss': 2.1395981495197, 'bleu': 20.2459, 'gen_len': 9.6061}\n",
      "\n",
      "=============================\n",
      "\n"
     ]
    },
    {
     "name": "stderr",
     "output_type": "stream",
     "text": [
      " 18%|█▊        | 38/217 [11:32<53:48, 18.04s/it]"
     ]
    },
    {
     "name": "stdout",
     "output_type": "stream",
     "text": [
      "For epoch 122: \n",
      "{Learning rate: [0.002863239088095121]}\n"
     ]
    },
    {
     "name": "stderr",
     "output_type": "stream",
     "text": [
      "Train batch number 99: 100%|██████████| 99/99 [00:12<00:00,  7.65batches/s]\n",
      "Test batch number 13: 100%|██████████| 13/13 [00:03<00:00,  3.79batches/s]\n"
     ]
    },
    {
     "name": "stdout",
     "output_type": "stream",
     "text": [
      "\n",
      "Metrics: {'train_loss': 0.013912216816661936, 'test_loss': 2.1358257073622484, 'bleu': 19.9554, 'gen_len': 9.7071}\n",
      "\n",
      "=============================\n",
      "\n"
     ]
    },
    {
     "name": "stderr",
     "output_type": "stream",
     "text": [
      " 18%|█▊        | 39/217 [11:55<57:18, 19.32s/it]"
     ]
    },
    {
     "name": "stdout",
     "output_type": "stream",
     "text": [
      "For epoch 123: \n",
      "{Learning rate: [0.002860631239069535]}\n"
     ]
    },
    {
     "name": "stderr",
     "output_type": "stream",
     "text": [
      "Train batch number 99: 100%|██████████| 99/99 [00:13<00:00,  7.56batches/s]\n",
      "Test batch number 13: 100%|██████████| 13/13 [00:03<00:00,  4.22batches/s]\n"
     ]
    },
    {
     "name": "stdout",
     "output_type": "stream",
     "text": [
      "\n",
      "Metrics: {'train_loss': 0.014790779989767782, 'test_loss': 2.1158075699439416, 'bleu': 20.5068, 'gen_len': 9.6616}\n",
      "\n",
      "=============================\n",
      "\n"
     ]
    },
    {
     "name": "stderr",
     "output_type": "stream",
     "text": [
      " 18%|█▊        | 40/217 [12:13<55:44, 18.90s/it]"
     ]
    },
    {
     "name": "stdout",
     "output_type": "stream",
     "text": [
      "For epoch 124: \n",
      "{Learning rate: [0.0028580035239458667]}\n"
     ]
    },
    {
     "name": "stderr",
     "output_type": "stream",
     "text": [
      "Train batch number 99: 100%|██████████| 99/99 [00:12<00:00,  7.65batches/s]\n",
      "Test batch number 13: 100%|██████████| 13/13 [00:03<00:00,  4.13batches/s]\n"
     ]
    },
    {
     "name": "stdout",
     "output_type": "stream",
     "text": [
      "\n",
      "Metrics: {'train_loss': 0.014111917174298955, 'test_loss': 2.1028723625036387, 'bleu': 21.3897, 'gen_len': 9.7273}\n",
      "\n",
      "=============================\n",
      "\n"
     ]
    },
    {
     "name": "stderr",
     "output_type": "stream",
     "text": [
      " 19%|█▉        | 41/217 [12:30<54:27, 18.57s/it]"
     ]
    },
    {
     "name": "stdout",
     "output_type": "stream",
     "text": [
      "For epoch 125: \n",
      "{Learning rate: [0.002855355981421775]}\n"
     ]
    },
    {
     "name": "stderr",
     "output_type": "stream",
     "text": [
      "Train batch number 99: 100%|██████████| 99/99 [00:12<00:00,  7.71batches/s]\n",
      "Test batch number 13: 100%|██████████| 13/13 [00:03<00:00,  3.98batches/s]\n"
     ]
    },
    {
     "name": "stdout",
     "output_type": "stream",
     "text": [
      "\n",
      "Metrics: {'train_loss': 0.012502475372971873, 'test_loss': 2.0973441417400656, 'bleu': 21.5133, 'gen_len': 9.7424}\n",
      "\n",
      "=============================\n",
      "\n"
     ]
    },
    {
     "name": "stderr",
     "output_type": "stream",
     "text": [
      " 19%|█▉        | 42/217 [12:48<53:30, 18.35s/it]"
     ]
    },
    {
     "name": "stdout",
     "output_type": "stream",
     "text": [
      "For epoch 126: \n",
      "{Learning rate: [0.0028526886504869147]}\n"
     ]
    },
    {
     "name": "stderr",
     "output_type": "stream",
     "text": [
      "Train batch number 99: 100%|██████████| 99/99 [00:13<00:00,  7.52batches/s]\n",
      "Test batch number 13: 100%|██████████| 13/13 [00:03<00:00,  3.83batches/s]\n"
     ]
    },
    {
     "name": "stdout",
     "output_type": "stream",
     "text": [
      "\n",
      "Metrics: {'train_loss': 0.012389506162214799, 'test_loss': 2.085899756504939, 'bleu': 20.189, 'gen_len': 10.0455}\n",
      "\n",
      "=============================\n",
      "\n"
     ]
    },
    {
     "name": "stderr",
     "output_type": "stream",
     "text": [
      " 20%|█▉        | 43/217 [13:07<53:09, 18.33s/it]"
     ]
    },
    {
     "name": "stdout",
     "output_type": "stream",
     "text": [
      "For epoch 127: \n",
      "{Learning rate: [0.002850001570422357]}\n"
     ]
    },
    {
     "name": "stderr",
     "output_type": "stream",
     "text": [
      "Train batch number 99: 100%|██████████| 99/99 [00:13<00:00,  7.50batches/s]\n",
      "Test batch number 13: 100%|██████████| 13/13 [00:03<00:00,  3.94batches/s]\n"
     ]
    },
    {
     "name": "stdout",
     "output_type": "stream",
     "text": [
      "\n",
      "Metrics: {'train_loss': 0.012518711114123539, 'test_loss': 2.0864237271822414, 'bleu': 20.8182, 'gen_len': 9.8838}\n",
      "\n",
      "=============================\n",
      "\n"
     ]
    },
    {
     "name": "stderr",
     "output_type": "stream",
     "text": [
      " 20%|██        | 44/217 [13:25<52:46, 18.30s/it]"
     ]
    },
    {
     "name": "stdout",
     "output_type": "stream",
     "text": [
      "For epoch 128: \n",
      "{Learning rate: [0.002847294780800015]}\n"
     ]
    },
    {
     "name": "stderr",
     "output_type": "stream",
     "text": [
      "Train batch number 99: 100%|██████████| 99/99 [00:12<00:00,  7.74batches/s]\n",
      "Test batch number 13: 100%|██████████| 13/13 [00:03<00:00,  4.22batches/s]\n"
     ]
    },
    {
     "name": "stdout",
     "output_type": "stream",
     "text": [
      "\n",
      "Metrics: {'train_loss': 0.013326417609480105, 'test_loss': 2.090340788547809, 'bleu': 20.7247, 'gen_len': 9.8838}\n",
      "\n",
      "=============================\n",
      "\n"
     ]
    },
    {
     "name": "stderr",
     "output_type": "stream",
     "text": [
      " 21%|██        | 45/217 [13:42<51:50, 18.09s/it]"
     ]
    },
    {
     "name": "stdout",
     "output_type": "stream",
     "text": [
      "For epoch 129: \n",
      "{Learning rate: [0.002844568321482058]}\n"
     ]
    },
    {
     "name": "stderr",
     "output_type": "stream",
     "text": [
      "Train batch number 99: 100%|██████████| 99/99 [00:13<00:00,  7.53batches/s]\n",
      "Test batch number 13: 100%|██████████| 13/13 [00:03<00:00,  3.70batches/s]\n"
     ]
    },
    {
     "name": "stdout",
     "output_type": "stream",
     "text": [
      "\n",
      "Metrics: {'train_loss': 0.013041494250758503, 'test_loss': 2.124603198124812, 'bleu': 19.0829, 'gen_len': 10.2879}\n",
      "\n",
      "=============================\n",
      "\n"
     ]
    },
    {
     "name": "stderr",
     "output_type": "stream",
     "text": [
      " 21%|██        | 46/217 [14:03<53:39, 18.83s/it]"
     ]
    },
    {
     "name": "stdout",
     "output_type": "stream",
     "text": [
      "For epoch 130: \n",
      "{Learning rate: [0.002841822232620326]}\n"
     ]
    },
    {
     "name": "stderr",
     "output_type": "stream",
     "text": [
      "Train batch number 99: 100%|██████████| 99/99 [00:13<00:00,  7.60batches/s]\n",
      "Test batch number 13: 100%|██████████| 13/13 [00:03<00:00,  3.94batches/s]\n"
     ]
    },
    {
     "name": "stdout",
     "output_type": "stream",
     "text": [
      "\n",
      "Metrics: {'train_loss': 0.013247895903527887, 'test_loss': 2.1304084062576294, 'bleu': 20.4739, 'gen_len': 9.8434}\n",
      "\n",
      "=============================\n",
      "\n"
     ]
    },
    {
     "name": "stderr",
     "output_type": "stream",
     "text": [
      " 22%|██▏       | 47/217 [14:21<52:52, 18.66s/it]"
     ]
    },
    {
     "name": "stdout",
     "output_type": "stream",
     "text": [
      "For epoch 131: \n",
      "{Learning rate: [0.0028390565546557393]}\n"
     ]
    },
    {
     "name": "stderr",
     "output_type": "stream",
     "text": [
      "Train batch number 99: 100%|██████████| 99/99 [00:12<00:00,  7.63batches/s]\n",
      "Test batch number 13: 100%|██████████| 13/13 [00:03<00:00,  3.83batches/s]\n"
     ]
    },
    {
     "name": "stdout",
     "output_type": "stream",
     "text": [
      "\n",
      "Metrics: {'train_loss': 0.013048509579161276, 'test_loss': 2.104820572412931, 'bleu': 20.1712, 'gen_len': 9.8737}\n",
      "\n",
      "=============================\n",
      "\n"
     ]
    },
    {
     "name": "stderr",
     "output_type": "stream",
     "text": [
      " 22%|██▏       | 48/217 [14:39<52:06, 18.50s/it]"
     ]
    },
    {
     "name": "stdout",
     "output_type": "stream",
     "text": [
      "For epoch 132: \n",
      "{Learning rate: [0.002836271328317698]}\n"
     ]
    },
    {
     "name": "stderr",
     "output_type": "stream",
     "text": [
      "Train batch number 99: 100%|██████████| 99/99 [00:12<00:00,  7.67batches/s]\n",
      "Test batch number 13: 100%|██████████| 13/13 [00:03<00:00,  4.03batches/s]\n"
     ]
    },
    {
     "name": "stdout",
     "output_type": "stream",
     "text": [
      "\n",
      "Metrics: {'train_loss': 0.013829653973296059, 'test_loss': 2.0952241145647488, 'bleu': 20.4369, 'gen_len': 9.7576}\n",
      "\n",
      "=============================\n",
      "\n"
     ]
    },
    {
     "name": "stderr",
     "output_type": "stream",
     "text": [
      " 23%|██▎       | 49/217 [14:57<51:16, 18.31s/it]"
     ]
    },
    {
     "name": "stdout",
     "output_type": "stream",
     "text": [
      "For epoch 133: \n",
      "{Learning rate: [0.0028334665946234913]}\n"
     ]
    },
    {
     "name": "stderr",
     "output_type": "stream",
     "text": [
      "Train batch number 99: 100%|██████████| 99/99 [00:12<00:00,  7.70batches/s]\n",
      "Test batch number 13: 100%|██████████| 13/13 [00:03<00:00,  3.88batches/s]\n"
     ]
    },
    {
     "name": "stdout",
     "output_type": "stream",
     "text": [
      "\n",
      "Metrics: {'train_loss': 0.014031702186912298, 'test_loss': 2.0987382577015805, 'bleu': 20.6182, 'gen_len': 9.702}\n",
      "\n",
      "=============================\n",
      "\n"
     ]
    },
    {
     "name": "stderr",
     "output_type": "stream",
     "text": [
      " 23%|██▎       | 50/217 [15:15<50:38, 18.20s/it]"
     ]
    },
    {
     "name": "stdout",
     "output_type": "stream",
     "text": [
      "For epoch 134: \n",
      "{Learning rate: [0.0028306423948776826]}\n"
     ]
    },
    {
     "name": "stderr",
     "output_type": "stream",
     "text": [
      "Train batch number 99: 100%|██████████| 99/99 [00:13<00:00,  7.60batches/s]\n",
      "Test batch number 13: 100%|██████████| 13/13 [00:03<00:00,  4.08batches/s]\n"
     ]
    },
    {
     "name": "stdout",
     "output_type": "stream",
     "text": [
      "\n",
      "Metrics: {'train_loss': 0.01308772310666326, 'test_loss': 2.1284449925789466, 'bleu': 19.7846, 'gen_len': 9.6616}\n",
      "\n",
      "=============================\n",
      "\n"
     ]
    },
    {
     "name": "stderr",
     "output_type": "stream",
     "text": [
      " 24%|██▎       | 51/217 [15:33<50:07, 18.12s/it]"
     ]
    },
    {
     "name": "stdout",
     "output_type": "stream",
     "text": [
      "For epoch 135: \n",
      "{Learning rate: [0.0028277987706715117]}\n"
     ]
    },
    {
     "name": "stderr",
     "output_type": "stream",
     "text": [
      "Train batch number 99: 100%|██████████| 99/99 [00:12<00:00,  7.77batches/s]\n",
      "Test batch number 13: 100%|██████████| 13/13 [00:03<00:00,  3.89batches/s]\n"
     ]
    },
    {
     "name": "stdout",
     "output_type": "stream",
     "text": [
      "\n",
      "Metrics: {'train_loss': 0.014119961961040818, 'test_loss': 2.0705441419894877, 'bleu': 17.9034, 'gen_len': 9.5253}\n",
      "\n",
      "=============================\n",
      "\n"
     ]
    },
    {
     "name": "stderr",
     "output_type": "stream",
     "text": [
      " 24%|██▍       | 52/217 [15:51<49:35, 18.03s/it]"
     ]
    },
    {
     "name": "stdout",
     "output_type": "stream",
     "text": [
      "For epoch 136: \n",
      "{Learning rate: [0.0028249357638822727]}\n"
     ]
    },
    {
     "name": "stderr",
     "output_type": "stream",
     "text": [
      "Train batch number 99: 100%|██████████| 99/99 [00:13<00:00,  7.55batches/s]\n",
      "Test batch number 13: 100%|██████████| 13/13 [00:03<00:00,  3.90batches/s]\n"
     ]
    },
    {
     "name": "stdout",
     "output_type": "stream",
     "text": [
      "\n",
      "Metrics: {'train_loss': 0.012863135851350509, 'test_loss': 2.0785762805205126, 'bleu': 19.7193, 'gen_len': 9.6111}\n",
      "\n",
      "=============================\n",
      "\n"
     ]
    },
    {
     "name": "stderr",
     "output_type": "stream",
     "text": [
      " 24%|██▍       | 53/217 [16:09<49:24, 18.08s/it]"
     ]
    },
    {
     "name": "stdout",
     "output_type": "stream",
     "text": [
      "For epoch 137: \n",
      "{Learning rate: [0.0028220534166727056]}\n"
     ]
    },
    {
     "name": "stderr",
     "output_type": "stream",
     "text": [
      "Train batch number 99: 100%|██████████| 99/99 [00:12<00:00,  7.68batches/s]\n",
      "Test batch number 13: 100%|██████████| 13/13 [00:03<00:00,  3.89batches/s]\n"
     ]
    },
    {
     "name": "stdout",
     "output_type": "stream",
     "text": [
      "\n",
      "Metrics: {'train_loss': 0.014630975502171564, 'test_loss': 2.0959271559348474, 'bleu': 19.6427, 'gen_len': 9.4495}\n",
      "\n",
      "=============================\n",
      "\n"
     ]
    },
    {
     "name": "stderr",
     "output_type": "stream",
     "text": [
      " 25%|██▍       | 54/217 [16:27<49:01, 18.04s/it]"
     ]
    },
    {
     "name": "stdout",
     "output_type": "stream",
     "text": [
      "For epoch 138: \n",
      "{Learning rate: [0.0028191517714903688]}\n"
     ]
    },
    {
     "name": "stderr",
     "output_type": "stream",
     "text": [
      "Train batch number 99: 100%|██████████| 99/99 [00:13<00:00,  7.57batches/s]\n",
      "Test batch number 13: 100%|██████████| 13/13 [00:03<00:00,  3.73batches/s]\n"
     ]
    },
    {
     "name": "stdout",
     "output_type": "stream",
     "text": [
      "\n",
      "Metrics: {'train_loss': 0.01309262137775394, 'test_loss': 2.097131243118873, 'bleu': 18.6357, 'gen_len': 9.7374}\n",
      "\n",
      "=============================\n",
      "\n"
     ]
    },
    {
     "name": "stderr",
     "output_type": "stream",
     "text": [
      " 25%|██▌       | 55/217 [16:45<48:55, 18.12s/it]"
     ]
    },
    {
     "name": "stdout",
     "output_type": "stream",
     "text": [
      "For epoch 139: \n",
      "{Learning rate: [0.002816230871067018]}\n"
     ]
    },
    {
     "name": "stderr",
     "output_type": "stream",
     "text": [
      "Train batch number 99: 100%|██████████| 99/99 [00:12<00:00,  7.77batches/s]\n",
      "Test batch number 13: 100%|██████████| 13/13 [00:03<00:00,  3.80batches/s]\n"
     ]
    },
    {
     "name": "stdout",
     "output_type": "stream",
     "text": [
      "\n",
      "Metrics: {'train_loss': 0.012830824130261787, 'test_loss': 2.10154128074646, 'bleu': 20.0162, 'gen_len': 9.6717}\n",
      "\n",
      "=============================\n",
      "\n"
     ]
    },
    {
     "name": "stderr",
     "output_type": "stream",
     "text": [
      " 26%|██▌       | 56/217 [17:03<48:26, 18.05s/it]"
     ]
    },
    {
     "name": "stdout",
     "output_type": "stream",
     "text": [
      "For epoch 140: \n",
      "{Learning rate: [0.002813290758417976]}\n"
     ]
    },
    {
     "name": "stderr",
     "output_type": "stream",
     "text": [
      "Train batch number 99: 100%|██████████| 99/99 [00:12<00:00,  7.83batches/s]\n",
      "Test batch number 13: 100%|██████████| 13/13 [00:03<00:00,  4.01batches/s]\n"
     ]
    },
    {
     "name": "stdout",
     "output_type": "stream",
     "text": [
      "\n",
      "Metrics: {'train_loss': 0.013191072042735124, 'test_loss': 2.070495376220116, 'bleu': 18.3748, 'gen_len': 9.7525}\n",
      "\n",
      "=============================\n",
      "\n"
     ]
    },
    {
     "name": "stderr",
     "output_type": "stream",
     "text": [
      " 26%|██▋       | 57/217 [17:21<47:48, 17.93s/it]"
     ]
    },
    {
     "name": "stdout",
     "output_type": "stream",
     "text": [
      "For epoch 141: \n",
      "{Learning rate: [0.0028103314768414987]}\n"
     ]
    },
    {
     "name": "stderr",
     "output_type": "stream",
     "text": [
      "Train batch number 99: 100%|██████████| 99/99 [00:13<00:00,  7.50batches/s]\n",
      "Test batch number 13: 100%|██████████| 13/13 [00:03<00:00,  3.88batches/s]\n"
     ]
    },
    {
     "name": "stdout",
     "output_type": "stream",
     "text": [
      "\n",
      "Metrics: {'train_loss': 0.011531762043225834, 'test_loss': 2.0925031992105336, 'bleu': 19.6469, 'gen_len': 9.601}\n",
      "\n",
      "=============================\n",
      "\n"
     ]
    },
    {
     "name": "stderr",
     "output_type": "stream",
     "text": [
      " 27%|██▋       | 58/217 [17:39<47:48, 18.04s/it]"
     ]
    },
    {
     "name": "stdout",
     "output_type": "stream",
     "text": [
      "For epoch 142: \n",
      "{Learning rate: [0.0028073530699181375]}\n"
     ]
    },
    {
     "name": "stderr",
     "output_type": "stream",
     "text": [
      "Train batch number 99: 100%|██████████| 99/99 [00:13<00:00,  7.46batches/s]\n",
      "Test batch number 13: 100%|██████████| 13/13 [00:03<00:00,  3.75batches/s]\n"
     ]
    },
    {
     "name": "stdout",
     "output_type": "stream",
     "text": [
      "\n",
      "Metrics: {'train_loss': 0.010954900120262696, 'test_loss': 2.0982493528952966, 'bleu': 18.8653, 'gen_len': 9.6919}\n",
      "\n",
      "=============================\n",
      "\n"
     ]
    },
    {
     "name": "stderr",
     "output_type": "stream",
     "text": [
      " 27%|██▋       | 59/217 [17:58<47:51, 18.18s/it]"
     ]
    },
    {
     "name": "stdout",
     "output_type": "stream",
     "text": [
      "For epoch 143: \n",
      "{Learning rate: [0.002804355581510097]}\n"
     ]
    },
    {
     "name": "stderr",
     "output_type": "stream",
     "text": [
      "Train batch number 99: 100%|██████████| 99/99 [00:13<00:00,  7.60batches/s]\n",
      "Test batch number 13: 100%|██████████| 13/13 [00:03<00:00,  3.72batches/s]\n"
     ]
    },
    {
     "name": "stdout",
     "output_type": "stream",
     "text": [
      "\n",
      "Metrics: {'train_loss': 0.01148589506523091, 'test_loss': 2.130349250940176, 'bleu': 19.4459, 'gen_len': 9.6818}\n",
      "\n",
      "=============================\n",
      "\n"
     ]
    },
    {
     "name": "stderr",
     "output_type": "stream",
     "text": [
      " 28%|██▊       | 60/217 [18:16<47:37, 18.20s/it]"
     ]
    },
    {
     "name": "stdout",
     "output_type": "stream",
     "text": [
      "For epoch 144: \n",
      "{Learning rate: [0.002801339055760592]}\n"
     ]
    },
    {
     "name": "stderr",
     "output_type": "stream",
     "text": [
      "Train batch number 99: 100%|██████████| 99/99 [00:12<00:00,  7.62batches/s]\n",
      "Test batch number 13: 100%|██████████| 13/13 [00:03<00:00,  3.67batches/s]\n"
     ]
    },
    {
     "name": "stdout",
     "output_type": "stream",
     "text": [
      "\n",
      "Metrics: {'train_loss': 0.011907716532181385, 'test_loss': 2.0701356942837057, 'bleu': 18.9424, 'gen_len': 9.8384}\n",
      "\n",
      "=============================\n",
      "\n"
     ]
    },
    {
     "name": "stderr",
     "output_type": "stream",
     "text": [
      " 28%|██▊       | 61/217 [18:34<47:23, 18.23s/it]"
     ]
    },
    {
     "name": "stdout",
     "output_type": "stream",
     "text": [
      "For epoch 145: \n",
      "{Learning rate: [0.0027983035370931922]}\n"
     ]
    },
    {
     "name": "stderr",
     "output_type": "stream",
     "text": [
      "Train batch number 99: 100%|██████████| 99/99 [00:12<00:00,  7.66batches/s]\n",
      "Test batch number 13: 100%|██████████| 13/13 [00:03<00:00,  4.05batches/s]\n"
     ]
    },
    {
     "name": "stdout",
     "output_type": "stream",
     "text": [
      "\n",
      "Metrics: {'train_loss': 0.01109481109082793, 'test_loss': 2.075840564874502, 'bleu': 19.1696, 'gen_len': 9.8283}\n",
      "\n",
      "=============================\n",
      "\n"
     ]
    },
    {
     "name": "stderr",
     "output_type": "stream",
     "text": [
      " 29%|██▊       | 62/217 [18:52<46:48, 18.12s/it]"
     ]
    },
    {
     "name": "stdout",
     "output_type": "stream",
     "text": [
      "For epoch 146: \n",
      "{Learning rate: [0.002795249070211173]}\n"
     ]
    },
    {
     "name": "stderr",
     "output_type": "stream",
     "text": [
      "Train batch number 99: 100%|██████████| 99/99 [00:13<00:00,  7.54batches/s]\n",
      "Test batch number 13: 100%|██████████| 13/13 [00:03<00:00,  3.80batches/s]\n"
     ]
    },
    {
     "name": "stdout",
     "output_type": "stream",
     "text": [
      "\n",
      "Metrics: {'train_loss': 0.013469565928457399, 'test_loss': 2.0581127130068264, 'bleu': 19.2137, 'gen_len': 9.7424}\n",
      "\n",
      "=============================\n",
      "\n"
     ]
    },
    {
     "name": "stderr",
     "output_type": "stream",
     "text": [
      " 29%|██▉       | 63/217 [19:10<46:39, 18.18s/it]"
     ]
    },
    {
     "name": "stdout",
     "output_type": "stream",
     "text": [
      "For epoch 147: \n",
      "{Learning rate: [0.0027921757000968547]}\n"
     ]
    },
    {
     "name": "stderr",
     "output_type": "stream",
     "text": [
      "Train batch number 99: 100%|██████████| 99/99 [00:13<00:00,  7.57batches/s]\n",
      "Test batch number 13: 100%|██████████| 13/13 [00:03<00:00,  3.75batches/s]\n"
     ]
    },
    {
     "name": "stdout",
     "output_type": "stream",
     "text": [
      "\n",
      "Metrics: {'train_loss': 0.012626828587581074, 'test_loss': 2.047603185360248, 'bleu': 19.2015, 'gen_len': 10.0657}\n",
      "\n",
      "=============================\n",
      "\n"
     ]
    },
    {
     "name": "stderr",
     "output_type": "stream",
     "text": [
      " 29%|██▉       | 64/217 [19:29<46:25, 18.21s/it]"
     ]
    },
    {
     "name": "stdout",
     "output_type": "stream",
     "text": [
      "For epoch 148: \n",
      "{Learning rate: [0.00278908347201094]}\n"
     ]
    },
    {
     "name": "stderr",
     "output_type": "stream",
     "text": [
      "Train batch number 99: 100%|██████████| 99/99 [00:13<00:00,  7.56batches/s]\n",
      "Test batch number 13: 100%|██████████| 13/13 [00:03<00:00,  3.72batches/s]\n"
     ]
    },
    {
     "name": "stdout",
     "output_type": "stream",
     "text": [
      "\n",
      "Metrics: {'train_loss': 0.01244722642862906, 'test_loss': 2.0720013196651754, 'bleu': 20.2753, 'gen_len': 9.798}\n",
      "\n",
      "=============================\n",
      "\n"
     ]
    },
    {
     "name": "stderr",
     "output_type": "stream",
     "text": [
      " 30%|██▉       | 65/217 [19:47<46:12, 18.24s/it]"
     ]
    },
    {
     "name": "stdout",
     "output_type": "stream",
     "text": [
      "For epoch 149: \n",
      "{Learning rate: [0.0027859724314918477]}\n"
     ]
    },
    {
     "name": "stderr",
     "output_type": "stream",
     "text": [
      "Train batch number 99: 100%|██████████| 99/99 [00:13<00:00,  7.45batches/s]\n",
      "Test batch number 13: 100%|██████████| 13/13 [00:03<00:00,  3.87batches/s]\n"
     ]
    },
    {
     "name": "stdout",
     "output_type": "stream",
     "text": [
      "\n",
      "Metrics: {'train_loss': 0.011097079542150364, 'test_loss': 2.0499433554135837, 'bleu': 21.2267, 'gen_len': 9.8889}\n",
      "\n",
      "=============================\n",
      "\n"
     ]
    },
    {
     "name": "stderr",
     "output_type": "stream",
     "text": [
      " 30%|███       | 66/217 [20:05<46:01, 18.29s/it]"
     ]
    },
    {
     "name": "stdout",
     "output_type": "stream",
     "text": [
      "For epoch 150: \n",
      "{Learning rate: [0.002782842624355044]}\n"
     ]
    },
    {
     "name": "stderr",
     "output_type": "stream",
     "text": [
      "Train batch number 99: 100%|██████████| 99/99 [00:13<00:00,  7.59batches/s]\n",
      "Test batch number 13: 100%|██████████| 13/13 [00:03<00:00,  3.70batches/s]\n"
     ]
    },
    {
     "name": "stdout",
     "output_type": "stream",
     "text": [
      "\n",
      "Metrics: {'train_loss': 0.010792989810608854, 'test_loss': 2.06296378832597, 'bleu': 20.1987, 'gen_len': 9.9949}\n",
      "\n",
      "=============================\n",
      "\n"
     ]
    },
    {
     "name": "stderr",
     "output_type": "stream",
     "text": [
      " 31%|███       | 67/217 [20:24<45:43, 18.29s/it]"
     ]
    },
    {
     "name": "stdout",
     "output_type": "stream",
     "text": [
      "For epoch 151: \n",
      "{Learning rate: [0.002779694096692364]}\n"
     ]
    },
    {
     "name": "stderr",
     "output_type": "stream",
     "text": [
      "Train batch number 99: 100%|██████████| 99/99 [00:12<00:00,  7.70batches/s]\n",
      "Test batch number 13: 100%|██████████| 13/13 [00:03<00:00,  3.90batches/s]\n"
     ]
    },
    {
     "name": "stdout",
     "output_type": "stream",
     "text": [
      "\n",
      "Metrics: {'train_loss': 0.010965032370130749, 'test_loss': 2.0767256296597996, 'bleu': 20.2437, 'gen_len': 10.0455}\n",
      "\n",
      "=============================\n",
      "\n"
     ]
    },
    {
     "name": "stderr",
     "output_type": "stream",
     "text": [
      " 31%|███▏      | 68/217 [20:42<45:09, 18.19s/it]"
     ]
    },
    {
     "name": "stdout",
     "output_type": "stream",
     "text": [
      "For epoch 152: \n",
      "{Learning rate: [0.002776526894871336]}\n"
     ]
    },
    {
     "name": "stderr",
     "output_type": "stream",
     "text": [
      "Train batch number 99: 100%|██████████| 99/99 [00:13<00:00,  7.38batches/s]\n",
      "Test batch number 13: 100%|██████████| 13/13 [00:03<00:00,  3.69batches/s]\n"
     ]
    },
    {
     "name": "stdout",
     "output_type": "stream",
     "text": [
      "\n",
      "Metrics: {'train_loss': 0.011343842664512457, 'test_loss': 2.0509935158949633, 'bleu': 20.7765, 'gen_len': 9.9343}\n",
      "\n",
      "=============================\n",
      "\n"
     ]
    },
    {
     "name": "stderr",
     "output_type": "stream",
     "text": [
      " 32%|███▏      | 69/217 [21:00<45:13, 18.33s/it]"
     ]
    },
    {
     "name": "stdout",
     "output_type": "stream",
     "text": [
      "For epoch 153: \n",
      "{Learning rate: [0.0027733410655344974]}\n"
     ]
    },
    {
     "name": "stderr",
     "output_type": "stream",
     "text": [
      "Train batch number 99: 100%|██████████| 99/99 [00:13<00:00,  7.57batches/s]\n",
      "Test batch number 13: 100%|██████████| 13/13 [00:03<00:00,  4.01batches/s]\n"
     ]
    },
    {
     "name": "stdout",
     "output_type": "stream",
     "text": [
      "\n",
      "Metrics: {'train_loss': 0.011031433156776157, 'test_loss': 2.068308821091285, 'bleu': 20.4483, 'gen_len': 9.7121}\n",
      "\n",
      "=============================\n",
      "\n"
     ]
    },
    {
     "name": "stderr",
     "output_type": "stream",
     "text": [
      " 32%|███▏      | 70/217 [21:18<44:42, 18.25s/it]"
     ]
    },
    {
     "name": "stdout",
     "output_type": "stream",
     "text": [
      "For epoch 154: \n",
      "{Learning rate: [0.002770136655598709]}\n"
     ]
    },
    {
     "name": "stderr",
     "output_type": "stream",
     "text": [
      "Train batch number 99: 100%|██████████| 99/99 [00:13<00:00,  7.47batches/s]\n",
      "Test batch number 13: 100%|██████████| 13/13 [00:03<00:00,  3.88batches/s]\n"
     ]
    },
    {
     "name": "stdout",
     "output_type": "stream",
     "text": [
      "\n",
      "Metrics: {'train_loss': 0.01261407433776185, 'test_loss': 2.049330766384418, 'bleu': 21.0688, 'gen_len': 9.8182}\n",
      "\n",
      "=============================\n",
      "\n"
     ]
    },
    {
     "name": "stderr",
     "output_type": "stream",
     "text": [
      " 33%|███▎      | 71/217 [21:37<44:28, 18.28s/it]"
     ]
    },
    {
     "name": "stdout",
     "output_type": "stream",
     "text": [
      "For epoch 155: \n",
      "{Learning rate: [0.0027669137122544613]}\n"
     ]
    },
    {
     "name": "stderr",
     "output_type": "stream",
     "text": [
      "Train batch number 99: 100%|██████████| 99/99 [00:13<00:00,  7.61batches/s]\n",
      "Test batch number 13: 100%|██████████| 13/13 [00:03<00:00,  3.80batches/s]\n"
     ]
    },
    {
     "name": "stdout",
     "output_type": "stream",
     "text": [
      "\n",
      "Metrics: {'train_loss': 0.010922875535801391, 'test_loss': 2.072198051672715, 'bleu': 20.3603, 'gen_len': 9.7677}\n",
      "\n",
      "=============================\n",
      "\n"
     ]
    },
    {
     "name": "stderr",
     "output_type": "stream",
     "text": [
      " 33%|███▎      | 72/217 [21:55<44:06, 18.25s/it]"
     ]
    },
    {
     "name": "stdout",
     "output_type": "stream",
     "text": [
      "For epoch 156: \n",
      "{Learning rate: [0.002763672282965182]}\n"
     ]
    },
    {
     "name": "stderr",
     "output_type": "stream",
     "text": [
      "Train batch number 99: 100%|██████████| 99/99 [00:13<00:00,  7.49batches/s]\n",
      "Test batch number 13: 100%|██████████| 13/13 [00:03<00:00,  3.74batches/s]\n"
     ]
    },
    {
     "name": "stdout",
     "output_type": "stream",
     "text": [
      "\n",
      "Metrics: {'train_loss': 0.011837614349776296, 'test_loss': 2.05324308688824, 'bleu': 21.5632, 'gen_len': 9.5606}\n",
      "\n",
      "=============================\n",
      "\n"
     ]
    },
    {
     "name": "stderr",
     "output_type": "stream",
     "text": [
      " 34%|███▎      | 73/217 [22:13<43:57, 18.32s/it]"
     ]
    },
    {
     "name": "stdout",
     "output_type": "stream",
     "text": [
      "For epoch 157: \n",
      "{Learning rate: [0.0027604124154665386]}\n"
     ]
    },
    {
     "name": "stderr",
     "output_type": "stream",
     "text": [
      "Train batch number 99: 100%|██████████| 99/99 [00:13<00:00,  7.44batches/s]\n",
      "Test batch number 13: 100%|██████████| 13/13 [00:03<00:00,  3.96batches/s]\n"
     ]
    },
    {
     "name": "stdout",
     "output_type": "stream",
     "text": [
      "\n",
      "Metrics: {'train_loss': 0.010783820273413446, 'test_loss': 2.079196196336013, 'bleu': 19.6945, 'gen_len': 9.6162}\n",
      "\n",
      "=============================\n",
      "\n"
     ]
    },
    {
     "name": "stderr",
     "output_type": "stream",
     "text": [
      " 34%|███▍      | 74/217 [22:32<43:40, 18.32s/it]"
     ]
    },
    {
     "name": "stdout",
     "output_type": "stream",
     "text": [
      "For epoch 158: \n",
      "{Learning rate: [0.0027571341577657302]}\n"
     ]
    },
    {
     "name": "stderr",
     "output_type": "stream",
     "text": [
      "Train batch number 99: 100%|██████████| 99/99 [00:12<00:00,  7.67batches/s]\n",
      "Test batch number 13: 100%|██████████| 13/13 [00:03<00:00,  3.68batches/s]\n"
     ]
    },
    {
     "name": "stdout",
     "output_type": "stream",
     "text": [
      "\n",
      "Metrics: {'train_loss': 0.010719276284399169, 'test_loss': 2.0617414254408617, 'bleu': 19.4144, 'gen_len': 9.7374}\n",
      "\n",
      "=============================\n",
      "\n"
     ]
    },
    {
     "name": "stderr",
     "output_type": "stream",
     "text": [
      " 35%|███▍      | 75/217 [22:50<43:15, 18.28s/it]"
     ]
    },
    {
     "name": "stdout",
     "output_type": "stream",
     "text": [
      "For epoch 159: \n",
      "{Learning rate: [0.0027538375581407843]}\n"
     ]
    },
    {
     "name": "stderr",
     "output_type": "stream",
     "text": [
      "Train batch number 99: 100%|██████████| 99/99 [00:13<00:00,  7.49batches/s]\n",
      "Test batch number 13: 100%|██████████| 13/13 [00:03<00:00,  3.80batches/s]\n"
     ]
    },
    {
     "name": "stdout",
     "output_type": "stream",
     "text": [
      "\n",
      "Metrics: {'train_loss': 0.010883207776292104, 'test_loss': 2.078029605058523, 'bleu': 19.7482, 'gen_len': 9.8838}\n",
      "\n",
      "=============================\n",
      "\n"
     ]
    },
    {
     "name": "stderr",
     "output_type": "stream",
     "text": [
      " 35%|███▌      | 76/217 [23:08<43:01, 18.31s/it]"
     ]
    },
    {
     "name": "stdout",
     "output_type": "stream",
     "text": [
      "For epoch 160: \n",
      "{Learning rate: [0.0027505226651398464]}\n"
     ]
    },
    {
     "name": "stderr",
     "output_type": "stream",
     "text": [
      "Train batch number 99: 100%|██████████| 99/99 [00:13<00:00,  7.56batches/s]\n",
      "Test batch number 13: 100%|██████████| 13/13 [00:03<00:00,  3.89batches/s]\n"
     ]
    },
    {
     "name": "stdout",
     "output_type": "stream",
     "text": [
      "\n",
      "Metrics: {'train_loss': 0.010340683967712325, 'test_loss': 2.06269961137038, 'bleu': 19.9746, 'gen_len': 9.8889}\n",
      "\n",
      "=============================\n",
      "\n"
     ]
    },
    {
     "name": "stderr",
     "output_type": "stream",
     "text": [
      " 35%|███▌      | 77/217 [23:26<42:37, 18.27s/it]"
     ]
    },
    {
     "name": "stdout",
     "output_type": "stream",
     "text": [
      "For epoch 161: \n",
      "{Learning rate: [0.0027471895275804617]}\n"
     ]
    },
    {
     "name": "stderr",
     "output_type": "stream",
     "text": [
      "Train batch number 99: 100%|██████████| 99/99 [00:12<00:00,  7.63batches/s]\n",
      "Test batch number 13: 100%|██████████| 13/13 [00:03<00:00,  3.82batches/s]\n"
     ]
    },
    {
     "name": "stdout",
     "output_type": "stream",
     "text": [
      "\n",
      "Metrics: {'train_loss': 0.010904387299281856, 'test_loss': 2.043840555044321, 'bleu': 19.4966, 'gen_len': 9.7323}\n",
      "\n",
      "=============================\n",
      "\n"
     ]
    },
    {
     "name": "stderr",
     "output_type": "stream",
     "text": [
      " 36%|███▌      | 78/217 [23:45<42:13, 18.23s/it]"
     ]
    },
    {
     "name": "stdout",
     "output_type": "stream",
     "text": [
      "For epoch 162: \n",
      "{Learning rate: [0.0027438381945488603]}\n"
     ]
    },
    {
     "name": "stderr",
     "output_type": "stream",
     "text": [
      "Train batch number 99: 100%|██████████| 99/99 [00:13<00:00,  7.59batches/s]\n",
      "Test batch number 13: 100%|██████████| 13/13 [00:03<00:00,  3.91batches/s]\n"
     ]
    },
    {
     "name": "stdout",
     "output_type": "stream",
     "text": [
      "\n",
      "Metrics: {'train_loss': 0.009956055504829633, 'test_loss': 2.0821126882846537, 'bleu': 19.0172, 'gen_len': 9.8636}\n",
      "\n",
      "=============================\n",
      "\n"
     ]
    },
    {
     "name": "stderr",
     "output_type": "stream",
     "text": [
      " 36%|███▋      | 79/217 [24:03<41:53, 18.21s/it]"
     ]
    },
    {
     "name": "stdout",
     "output_type": "stream",
     "text": [
      "For epoch 163: \n",
      "{Learning rate: [0.0027404687153992297]}\n"
     ]
    },
    {
     "name": "stderr",
     "output_type": "stream",
     "text": [
      "Train batch number 99: 100%|██████████| 99/99 [00:13<00:00,  7.49batches/s]\n",
      "Test batch number 13: 100%|██████████| 13/13 [00:03<00:00,  3.80batches/s]\n"
     ]
    },
    {
     "name": "stdout",
     "output_type": "stream",
     "text": [
      "\n",
      "Metrics: {'train_loss': 0.010297422659479909, 'test_loss': 2.0874930253395667, 'bleu': 19.2631, 'gen_len': 9.803}\n",
      "\n",
      "=============================\n",
      "\n"
     ]
    },
    {
     "name": "stderr",
     "output_type": "stream",
     "text": [
      " 37%|███▋      | 80/217 [24:21<41:42, 18.26s/it]"
     ]
    },
    {
     "name": "stdout",
     "output_type": "stream",
     "text": [
      "For epoch 164: \n",
      "{Learning rate: [0.0027370811397529923]}\n"
     ]
    },
    {
     "name": "stderr",
     "output_type": "stream",
     "text": [
      "Train batch number 99: 100%|██████████| 99/99 [00:13<00:00,  7.56batches/s]\n",
      "Test batch number 13: 100%|██████████| 13/13 [00:03<00:00,  3.65batches/s]\n"
     ]
    },
    {
     "name": "stdout",
     "output_type": "stream",
     "text": [
      "\n",
      "Metrics: {'train_loss': 0.012009013756389984, 'test_loss': 2.0400324693092933, 'bleu': 20.4847, 'gen_len': 9.8939}\n",
      "\n",
      "=============================\n",
      "\n"
     ]
    },
    {
     "name": "stderr",
     "output_type": "stream",
     "text": [
      " 37%|███▋      | 81/217 [24:40<41:29, 18.30s/it]"
     ]
    },
    {
     "name": "stdout",
     "output_type": "stream",
     "text": [
      "For epoch 165: \n",
      "{Learning rate: [0.0027336755174980727]}\n"
     ]
    },
    {
     "name": "stderr",
     "output_type": "stream",
     "text": [
      "Train batch number 99: 100%|██████████| 99/99 [00:13<00:00,  7.60batches/s]\n",
      "Test batch number 13: 100%|██████████| 13/13 [00:03<00:00,  3.77batches/s]\n"
     ]
    },
    {
     "name": "stdout",
     "output_type": "stream",
     "text": [
      "\n",
      "Metrics: {'train_loss': 0.010251545784124785, 'test_loss': 2.055331459412208, 'bleu': 20.6119, 'gen_len': 9.7121}\n",
      "\n",
      "=============================\n",
      "\n"
     ]
    },
    {
     "name": "stderr",
     "output_type": "stream",
     "text": [
      " 38%|███▊      | 82/217 [24:58<41:07, 18.28s/it]"
     ]
    },
    {
     "name": "stdout",
     "output_type": "stream",
     "text": [
      "For epoch 166: \n",
      "{Learning rate: [0.0027302518987881623]}\n"
     ]
    },
    {
     "name": "stderr",
     "output_type": "stream",
     "text": [
      "Train batch number 99: 100%|██████████| 99/99 [00:13<00:00,  7.52batches/s]\n",
      "Test batch number 13: 100%|██████████| 13/13 [00:03<00:00,  3.72batches/s]\n"
     ]
    },
    {
     "name": "stdout",
     "output_type": "stream",
     "text": [
      "\n",
      "Metrics: {'train_loss': 0.009698523267588549, 'test_loss': 2.0522202986937303, 'bleu': 20.0146, 'gen_len': 9.7727}\n",
      "\n",
      "=============================\n",
      "\n"
     ]
    },
    {
     "name": "stderr",
     "output_type": "stream",
     "text": [
      " 38%|███▊      | 83/217 [25:16<40:54, 18.32s/it]"
     ]
    },
    {
     "name": "stdout",
     "output_type": "stream",
     "text": [
      "For epoch 167: \n",
      "{Learning rate: [0.0027268103340419812]}\n"
     ]
    },
    {
     "name": "stderr",
     "output_type": "stream",
     "text": [
      "Train batch number 99: 100%|██████████| 99/99 [00:13<00:00,  7.44batches/s]\n",
      "Test batch number 13: 100%|██████████| 13/13 [00:03<00:00,  4.00batches/s]\n"
     ]
    },
    {
     "name": "stdout",
     "output_type": "stream",
     "text": [
      "\n",
      "Metrics: {'train_loss': 0.009433470534706357, 'test_loss': 2.0472019727413473, 'bleu': 19.8279, 'gen_len': 9.6717}\n",
      "\n",
      "=============================\n",
      "\n"
     ]
    },
    {
     "name": "stderr",
     "output_type": "stream",
     "text": [
      " 39%|███▊      | 84/217 [25:34<40:35, 18.31s/it]"
     ]
    },
    {
     "name": "stdout",
     "output_type": "stream",
     "text": [
      "For epoch 168: \n",
      "{Learning rate: [0.002723350873942538]}\n"
     ]
    },
    {
     "name": "stderr",
     "output_type": "stream",
     "text": [
      "Train batch number 99: 100%|██████████| 99/99 [00:12<00:00,  7.68batches/s]\n",
      "Test batch number 13: 100%|██████████| 13/13 [00:03<00:00,  3.88batches/s]\n"
     ]
    },
    {
     "name": "stdout",
     "output_type": "stream",
     "text": [
      "\n",
      "Metrics: {'train_loss': 0.010495583500332114, 'test_loss': 2.0594716530579786, 'bleu': 20.0286, 'gen_len': 9.697}\n",
      "\n",
      "=============================\n",
      "\n"
     ]
    },
    {
     "name": "stderr",
     "output_type": "stream",
     "text": [
      " 39%|███▉      | 85/217 [25:52<40:04, 18.22s/it]"
     ]
    },
    {
     "name": "stdout",
     "output_type": "stream",
     "text": [
      "For epoch 169: \n",
      "{Learning rate: [0.002719873569436379]}\n"
     ]
    },
    {
     "name": "stderr",
     "output_type": "stream",
     "text": [
      "Train batch number 99: 100%|██████████| 99/99 [00:13<00:00,  7.39batches/s]\n",
      "Test batch number 13: 100%|██████████| 13/13 [00:03<00:00,  3.75batches/s]\n"
     ]
    },
    {
     "name": "stdout",
     "output_type": "stream",
     "text": [
      "\n",
      "Metrics: {'train_loss': 0.010590636654406542, 'test_loss': 2.0373834463266225, 'bleu': 20.4857, 'gen_len': 9.7475}\n",
      "\n",
      "=============================\n",
      "\n"
     ]
    },
    {
     "name": "stderr",
     "output_type": "stream",
     "text": [
      " 40%|███▉      | 86/217 [26:11<40:02, 18.34s/it]"
     ]
    },
    {
     "name": "stdout",
     "output_type": "stream",
     "text": [
      "For epoch 170: \n",
      "{Learning rate: [0.002716378471732841]}\n"
     ]
    },
    {
     "name": "stderr",
     "output_type": "stream",
     "text": [
      "Train batch number 99: 100%|██████████| 99/99 [00:13<00:00,  7.59batches/s]\n",
      "Test batch number 13: 100%|██████████| 13/13 [00:03<00:00,  3.63batches/s]\n"
     ]
    },
    {
     "name": "stdout",
     "output_type": "stream",
     "text": [
      "\n",
      "Metrics: {'train_loss': 0.010637211567496486, 'test_loss': 2.0524363976258497, 'bleu': 20.0115, 'gen_len': 9.7374}\n",
      "\n",
      "=============================\n",
      "\n"
     ]
    },
    {
     "name": "stderr",
     "output_type": "stream",
     "text": [
      " 40%|████      | 87/217 [26:29<39:45, 18.35s/it]"
     ]
    },
    {
     "name": "stdout",
     "output_type": "stream",
     "text": [
      "For epoch 171: \n",
      "{Learning rate: [0.0027128656323032983]}\n"
     ]
    },
    {
     "name": "stderr",
     "output_type": "stream",
     "text": [
      "Train batch number 99: 100%|██████████| 99/99 [00:14<00:00,  6.83batches/s]\n",
      "Test batch number 13: 100%|██████████| 13/13 [00:03<00:00,  3.58batches/s]\n"
     ]
    },
    {
     "name": "stdout",
     "output_type": "stream",
     "text": [
      "\n",
      "Metrics: {'train_loss': 0.010475604840780072, 'test_loss': 2.0498413672814, 'bleu': 19.6917, 'gen_len': 9.6869}\n",
      "\n",
      "=============================\n",
      "\n"
     ]
    },
    {
     "name": "stderr",
     "output_type": "stream",
     "text": [
      " 41%|████      | 88/217 [26:50<40:35, 18.88s/it]"
     ]
    },
    {
     "name": "stdout",
     "output_type": "stream",
     "text": [
      "For epoch 172: \n",
      "{Learning rate: [0.0027093351028804]}\n"
     ]
    },
    {
     "name": "stderr",
     "output_type": "stream",
     "text": [
      "Train batch number 99: 100%|██████████| 99/99 [00:13<00:00,  7.45batches/s]\n",
      "Test batch number 13: 100%|██████████| 13/13 [00:03<00:00,  4.01batches/s]\n"
     ]
    },
    {
     "name": "stdout",
     "output_type": "stream",
     "text": [
      "\n",
      "Metrics: {'train_loss': 0.01053753064303292, 'test_loss': 2.0488403852169332, 'bleu': 20.3446, 'gen_len': 9.6263}\n",
      "\n",
      "=============================\n",
      "\n"
     ]
    },
    {
     "name": "stderr",
     "output_type": "stream",
     "text": [
      " 41%|████      | 89/217 [27:08<39:53, 18.70s/it]"
     ]
    },
    {
     "name": "stdout",
     "output_type": "stream",
     "text": [
      "For epoch 173: \n",
      "{Learning rate: [0.0027057869354573136]}\n"
     ]
    },
    {
     "name": "stderr",
     "output_type": "stream",
     "text": [
      "Train batch number 99: 100%|██████████| 99/99 [00:12<00:00,  7.64batches/s]\n",
      "Test batch number 13: 100%|██████████| 13/13 [00:03<00:00,  3.87batches/s]\n"
     ]
    },
    {
     "name": "stdout",
     "output_type": "stream",
     "text": [
      "\n",
      "Metrics: {'train_loss': 0.010701215878597018, 'test_loss': 2.0291002805416403, 'bleu': 19.3191, 'gen_len': 9.702}\n",
      "\n",
      "=============================\n",
      "\n"
     ]
    },
    {
     "name": "stderr",
     "output_type": "stream",
     "text": [
      " 41%|████▏     | 90/217 [27:26<39:10, 18.51s/it]"
     ]
    },
    {
     "name": "stdout",
     "output_type": "stream",
     "text": [
      "For epoch 174: \n",
      "{Learning rate: [0.0027022211822869545]}\n"
     ]
    },
    {
     "name": "stderr",
     "output_type": "stream",
     "text": [
      "Train batch number 99: 100%|██████████| 99/99 [00:12<00:00,  7.76batches/s]\n",
      "Test batch number 13: 100%|██████████| 13/13 [00:03<00:00,  4.05batches/s]\n"
     ]
    },
    {
     "name": "stdout",
     "output_type": "stream",
     "text": [
      "\n",
      "Metrics: {'train_loss': 0.00998204010844494, 'test_loss': 2.0492077423976016, 'bleu': 19.6174, 'gen_len': 9.5}\n",
      "\n",
      "=============================\n",
      "\n"
     ]
    },
    {
     "name": "stderr",
     "output_type": "stream",
     "text": [
      " 42%|████▏     | 91/217 [27:44<38:21, 18.27s/it]"
     ]
    },
    {
     "name": "stdout",
     "output_type": "stream",
     "text": [
      "For epoch 175: \n",
      "{Learning rate: [0.00269863789588122]}\n"
     ]
    },
    {
     "name": "stderr",
     "output_type": "stream",
     "text": [
      "Train batch number 99: 100%|██████████| 99/99 [00:12<00:00,  7.68batches/s]\n",
      "Test batch number 13: 100%|██████████| 13/13 [00:03<00:00,  3.87batches/s]\n"
     ]
    },
    {
     "name": "stdout",
     "output_type": "stream",
     "text": [
      "\n",
      "Metrics: {'train_loss': 0.01046417042644779, 'test_loss': 2.033507282917316, 'bleu': 19.7634, 'gen_len': 9.7374}\n",
      "\n",
      "=============================\n",
      "\n"
     ]
    },
    {
     "name": "stderr",
     "output_type": "stream",
     "text": [
      " 42%|████▏     | 92/217 [28:02<37:53, 18.19s/it]"
     ]
    },
    {
     "name": "stdout",
     "output_type": "stream",
     "text": [
      "For epoch 176: \n",
      "{Learning rate: [0.0026950371290102152]}\n"
     ]
    },
    {
     "name": "stderr",
     "output_type": "stream",
     "text": [
      "Train batch number 99: 100%|██████████| 99/99 [00:12<00:00,  7.64batches/s]\n",
      "Test batch number 13: 100%|██████████| 13/13 [00:03<00:00,  3.80batches/s]\n"
     ]
    },
    {
     "name": "stdout",
     "output_type": "stream",
     "text": [
      "\n",
      "Metrics: {'train_loss': 0.010269069490305177, 'test_loss': 2.0413210758796105, 'bleu': 19.606, 'gen_len': 9.7727}\n",
      "\n",
      "=============================\n",
      "\n"
     ]
    },
    {
     "name": "stderr",
     "output_type": "stream",
     "text": [
      " 43%|████▎     | 93/217 [28:20<37:32, 18.17s/it]"
     ]
    },
    {
     "name": "stdout",
     "output_type": "stream",
     "text": [
      "For epoch 177: \n",
      "{Learning rate: [0.002691418934701474]}\n"
     ]
    },
    {
     "name": "stderr",
     "output_type": "stream",
     "text": [
      "Train batch number 99: 100%|██████████| 99/99 [00:12<00:00,  7.66batches/s]\n",
      "Test batch number 13: 100%|██████████| 13/13 [00:03<00:00,  4.08batches/s]\n"
     ]
    },
    {
     "name": "stdout",
     "output_type": "stream",
     "text": [
      "\n",
      "Metrics: {'train_loss': 0.009239227279627959, 'test_loss': 2.039363512626061, 'bleu': 20.3122, 'gen_len': 9.899}\n",
      "\n",
      "=============================\n",
      "\n"
     ]
    },
    {
     "name": "stderr",
     "output_type": "stream",
     "text": [
      " 43%|████▎     | 94/217 [28:38<37:02, 18.07s/it]"
     ]
    },
    {
     "name": "stdout",
     "output_type": "stream",
     "text": [
      "For epoch 178: \n",
      "{Learning rate: [0.0026877833662391796]}\n"
     ]
    },
    {
     "name": "stderr",
     "output_type": "stream",
     "text": [
      "Train batch number 99: 100%|██████████| 99/99 [00:13<00:00,  7.41batches/s]\n",
      "Test batch number 13: 100%|██████████| 13/13 [00:03<00:00,  3.87batches/s]\n"
     ]
    },
    {
     "name": "stdout",
     "output_type": "stream",
     "text": [
      "\n",
      "Metrics: {'train_loss': 0.010238549565647098, 'test_loss': 2.0388056498307447, 'bleu': 19.9954, 'gen_len': 9.5404}\n",
      "\n",
      "=============================\n",
      "\n"
     ]
    },
    {
     "name": "stderr",
     "output_type": "stream",
     "text": [
      " 44%|████▍     | 95/217 [28:56<36:59, 18.19s/it]"
     ]
    },
    {
     "name": "stdout",
     "output_type": "stream",
     "text": [
      "For epoch 179: \n",
      "{Learning rate: [0.0026841304771633816]}\n"
     ]
    },
    {
     "name": "stderr",
     "output_type": "stream",
     "text": [
      "Train batch number 99: 100%|██████████| 99/99 [00:13<00:00,  7.61batches/s]\n",
      "Test batch number 13: 100%|██████████| 13/13 [00:03<00:00,  3.68batches/s]\n"
     ]
    },
    {
     "name": "stdout",
     "output_type": "stream",
     "text": [
      "\n",
      "Metrics: {'train_loss': 0.010182719304334523, 'test_loss': 2.022086317722614, 'bleu': 19.8556, 'gen_len': 9.5909}\n",
      "\n",
      "=============================\n",
      "\n"
     ]
    },
    {
     "name": "stderr",
     "output_type": "stream",
     "text": [
      " 44%|████▍     | 96/217 [29:14<36:44, 18.22s/it]"
     ]
    },
    {
     "name": "stdout",
     "output_type": "stream",
     "text": [
      "For epoch 180: \n",
      "{Learning rate: [0.0026804603212692035]}\n"
     ]
    },
    {
     "name": "stderr",
     "output_type": "stream",
     "text": [
      "Train batch number 99: 100%|██████████| 99/99 [00:13<00:00,  7.46batches/s]\n",
      "Test batch number 13: 100%|██████████| 13/13 [00:03<00:00,  3.68batches/s]\n"
     ]
    },
    {
     "name": "stdout",
     "output_type": "stream",
     "text": [
      "\n",
      "Metrics: {'train_loss': 0.00958898958616015, 'test_loss': 2.0342073073753943, 'bleu': 19.7393, 'gen_len': 9.8333}\n",
      "\n",
      "=============================\n",
      "\n"
     ]
    },
    {
     "name": "stderr",
     "output_type": "stream",
     "text": [
      " 45%|████▍     | 97/217 [29:33<36:38, 18.32s/it]"
     ]
    },
    {
     "name": "stdout",
     "output_type": "stream",
     "text": [
      "For epoch 181: \n",
      "{Learning rate: [0.0026767729526060535]}\n"
     ]
    },
    {
     "name": "stderr",
     "output_type": "stream",
     "text": [
      "Train batch number 99: 100%|██████████| 99/99 [00:13<00:00,  7.59batches/s]\n",
      "Test batch number 13: 100%|██████████| 13/13 [00:03<00:00,  3.64batches/s]\n"
     ]
    },
    {
     "name": "stdout",
     "output_type": "stream",
     "text": [
      "\n",
      "Metrics: {'train_loss': 0.009337234025647055, 'test_loss': 2.0446359561039853, 'bleu': 20.5743, 'gen_len': 9.7475}\n",
      "\n",
      "=============================\n",
      "\n"
     ]
    },
    {
     "name": "stderr",
     "output_type": "stream",
     "text": [
      " 45%|████▌     | 98/217 [29:51<36:21, 18.33s/it]"
     ]
    },
    {
     "name": "stdout",
     "output_type": "stream",
     "text": [
      "For epoch 182: \n",
      "{Learning rate: [0.002673068425476828]}\n"
     ]
    },
    {
     "name": "stderr",
     "output_type": "stream",
     "text": [
      "Train batch number 99: 100%|██████████| 99/99 [00:12<00:00,  7.64batches/s]\n",
      "Test batch number 13: 100%|██████████| 13/13 [00:03<00:00,  3.89batches/s]\n"
     ]
    },
    {
     "name": "stdout",
     "output_type": "stream",
     "text": [
      "\n",
      "Metrics: {'train_loss': 0.009748762528143936, 'test_loss': 2.0456230090214658, 'bleu': 19.462, 'gen_len': 9.7677}\n",
      "\n",
      "=============================\n",
      "\n"
     ]
    },
    {
     "name": "stderr",
     "output_type": "stream",
     "text": [
      " 46%|████▌     | 99/217 [30:09<35:53, 18.25s/it]"
     ]
    },
    {
     "name": "stdout",
     "output_type": "stream",
     "text": [
      "For epoch 183: \n",
      "{Learning rate: [0.002669346794437111]}\n"
     ]
    },
    {
     "name": "stderr",
     "output_type": "stream",
     "text": [
      "Train batch number 99: 100%|██████████| 99/99 [00:13<00:00,  7.41batches/s]\n",
      "Test batch number 13: 100%|██████████| 13/13 [00:03<00:00,  3.89batches/s]\n"
     ]
    },
    {
     "name": "stdout",
     "output_type": "stream",
     "text": [
      "\n",
      "Metrics: {'train_loss': 0.010538732057973517, 'test_loss': 2.021130992816045, 'bleu': 19.6102, 'gen_len': 9.697}\n",
      "\n",
      "=============================\n",
      "\n"
     ]
    },
    {
     "name": "stderr",
     "output_type": "stream",
     "text": [
      " 46%|████▌     | 100/217 [30:28<35:42, 18.31s/it]"
     ]
    },
    {
     "name": "stdout",
     "output_type": "stream",
     "text": [
      "For epoch 184: \n",
      "{Learning rate: [0.002665608114294371]}\n"
     ]
    },
    {
     "name": "stderr",
     "output_type": "stream",
     "text": [
      "Train batch number 99: 100%|██████████| 99/99 [00:13<00:00,  7.57batches/s]\n",
      "Test batch number 13: 100%|██████████| 13/13 [00:03<00:00,  3.72batches/s]\n"
     ]
    },
    {
     "name": "stdout",
     "output_type": "stream",
     "text": [
      "\n",
      "Metrics: {'train_loss': 0.00879137397442728, 'test_loss': 2.047976466325613, 'bleu': 19.7516, 'gen_len': 9.6869}\n",
      "\n",
      "=============================\n",
      "\n"
     ]
    },
    {
     "name": "stderr",
     "output_type": "stream",
     "text": [
      " 47%|████▋     | 101/217 [30:46<35:24, 18.31s/it]"
     ]
    },
    {
     "name": "stdout",
     "output_type": "stream",
     "text": [
      "For epoch 185: \n",
      "{Learning rate: [0.0026618524401071553]}\n"
     ]
    },
    {
     "name": "stderr",
     "output_type": "stream",
     "text": [
      "Train batch number 99: 100%|██████████| 99/99 [00:13<00:00,  7.52batches/s]\n",
      "Test batch number 13: 100%|██████████| 13/13 [00:03<00:00,  3.92batches/s]\n"
     ]
    },
    {
     "name": "stdout",
     "output_type": "stream",
     "text": [
      "\n",
      "Metrics: {'train_loss': 0.011264305233701387, 'test_loss': 2.0326617039166965, 'bleu': 20.1975, 'gen_len': 9.6717}\n",
      "\n",
      "=============================\n",
      "\n"
     ]
    },
    {
     "name": "stderr",
     "output_type": "stream",
     "text": [
      " 47%|████▋     | 102/217 [31:04<35:03, 18.29s/it]"
     ]
    },
    {
     "name": "stdout",
     "output_type": "stream",
     "text": [
      "For epoch 186: \n",
      "{Learning rate: [0.002658079827184277]}\n"
     ]
    },
    {
     "name": "stderr",
     "output_type": "stream",
     "text": [
      "Train batch number 99: 100%|██████████| 99/99 [00:13<00:00,  7.47batches/s]\n",
      "Test batch number 13: 100%|██████████| 13/13 [00:03<00:00,  3.89batches/s]\n"
     ]
    },
    {
     "name": "stdout",
     "output_type": "stream",
     "text": [
      "\n",
      "Metrics: {'train_loss': 0.010382209127213844, 'test_loss': 2.047241972042964, 'bleu': 20.0339, 'gen_len': 9.5303}\n",
      "\n",
      "=============================\n",
      "\n"
     ]
    },
    {
     "name": "stderr",
     "output_type": "stream",
     "text": [
      " 47%|████▋     | 103/217 [31:23<34:46, 18.30s/it]"
     ]
    },
    {
     "name": "stdout",
     "output_type": "stream",
     "text": [
      "For epoch 187: \n",
      "{Learning rate: [0.0026542903310840015]}\n"
     ]
    },
    {
     "name": "stderr",
     "output_type": "stream",
     "text": [
      "Train batch number 99: 100%|██████████| 99/99 [00:13<00:00,  7.55batches/s]\n",
      "Test batch number 13: 100%|██████████| 13/13 [00:03<00:00,  3.88batches/s]\n"
     ]
    },
    {
     "name": "stdout",
     "output_type": "stream",
     "text": [
      "\n",
      "Metrics: {'train_loss': 0.00968811041769581, 'test_loss': 2.03624506180103, 'bleu': 19.913, 'gen_len': 9.5404}\n",
      "\n",
      "=============================\n",
      "\n"
     ]
    },
    {
     "name": "stderr",
     "output_type": "stream",
     "text": [
      " 48%|████▊     | 104/217 [31:41<34:34, 18.36s/it]"
     ]
    },
    {
     "name": "stdout",
     "output_type": "stream",
     "text": [
      "For epoch 188: \n",
      "{Learning rate: [0.002650484007613228]}\n"
     ]
    },
    {
     "name": "stderr",
     "output_type": "stream",
     "text": [
      "Train batch number 99: 100%|██████████| 99/99 [00:13<00:00,  7.30batches/s]\n",
      "Test batch number 13: 100%|██████████| 13/13 [00:03<00:00,  3.81batches/s]\n"
     ]
    },
    {
     "name": "stdout",
     "output_type": "stream",
     "text": [
      "\n",
      "Metrics: {'train_loss': 0.010196071119880247, 'test_loss': 2.064740850375249, 'bleu': 19.5249, 'gen_len': 9.6263}\n",
      "\n",
      "=============================\n",
      "\n"
     ]
    },
    {
     "name": "stderr",
     "output_type": "stream",
     "text": [
      " 48%|████▊     | 105/217 [32:00<34:29, 18.48s/it]"
     ]
    },
    {
     "name": "stdout",
     "output_type": "stream",
     "text": [
      "For epoch 189: \n",
      "{Learning rate: [0.0026466609128266688]}\n"
     ]
    },
    {
     "name": "stderr",
     "output_type": "stream",
     "text": [
      "Train batch number 99: 100%|██████████| 99/99 [00:13<00:00,  7.34batches/s]\n",
      "Test batch number 13: 100%|██████████| 13/13 [00:03<00:00,  3.90batches/s]\n"
     ]
    },
    {
     "name": "stdout",
     "output_type": "stream",
     "text": [
      "\n",
      "Metrics: {'train_loss': 0.009784794514857684, 'test_loss': 2.044109665430509, 'bleu': 19.6523, 'gen_len': 9.7828}\n",
      "\n",
      "=============================\n",
      "\n"
     ]
    },
    {
     "name": "stderr",
     "output_type": "stream",
     "text": [
      " 49%|████▉     | 106/217 [32:19<34:14, 18.51s/it]"
     ]
    },
    {
     "name": "stdout",
     "output_type": "stream",
     "text": [
      "For epoch 190: \n",
      "{Learning rate: [0.002642821103026022]}\n"
     ]
    },
    {
     "name": "stderr",
     "output_type": "stream",
     "text": [
      "Train batch number 99: 100%|██████████| 99/99 [00:13<00:00,  7.39batches/s]\n",
      "Test batch number 13: 100%|██████████| 13/13 [00:03<00:00,  3.97batches/s]\n"
     ]
    },
    {
     "name": "stdout",
     "output_type": "stream",
     "text": [
      "\n",
      "Metrics: {'train_loss': 0.010404671371839189, 'test_loss': 2.050316966496981, 'bleu': 20.1812, 'gen_len': 9.6364}\n",
      "\n",
      "=============================\n",
      "\n"
     ]
    },
    {
     "name": "stderr",
     "output_type": "stream",
     "text": [
      " 49%|████▉     | 107/217 [32:37<33:54, 18.50s/it]"
     ]
    },
    {
     "name": "stdout",
     "output_type": "stream",
     "text": [
      "For epoch 191: \n",
      "{Learning rate: [0.0026389646347591443]}\n"
     ]
    },
    {
     "name": "stderr",
     "output_type": "stream",
     "text": [
      "Train batch number 99: 100%|██████████| 99/99 [00:13<00:00,  7.44batches/s]\n",
      "Test batch number 13: 100%|██████████| 13/13 [00:03<00:00,  3.86batches/s]\n"
     ]
    },
    {
     "name": "stdout",
     "output_type": "stream",
     "text": [
      "\n",
      "Metrics: {'train_loss': 0.00917876857001278, 'test_loss': 2.0683643451103797, 'bleu': 19.6722, 'gen_len': 9.8182}\n",
      "\n",
      "=============================\n",
      "\n"
     ]
    },
    {
     "name": "stderr",
     "output_type": "stream",
     "text": [
      " 50%|████▉     | 108/217 [32:55<33:33, 18.47s/it]"
     ]
    },
    {
     "name": "stdout",
     "output_type": "stream",
     "text": [
      "For epoch 192: \n",
      "{Learning rate: [0.002635091564819216]}\n"
     ]
    },
    {
     "name": "stderr",
     "output_type": "stream",
     "text": [
      "Train batch number 99: 100%|██████████| 99/99 [00:13<00:00,  7.27batches/s]\n",
      "Test batch number 13: 100%|██████████| 13/13 [00:03<00:00,  4.00batches/s]\n"
     ]
    },
    {
     "name": "stdout",
     "output_type": "stream",
     "text": [
      "\n",
      "Metrics: {'train_loss': 0.009023578016139153, 'test_loss': 2.0217719628260684, 'bleu': 19.1592, 'gen_len': 9.8636}\n",
      "\n",
      "=============================\n",
      "\n"
     ]
    },
    {
     "name": "stderr",
     "output_type": "stream",
     "text": [
      " 50%|█████     | 109/217 [33:14<33:19, 18.52s/it]"
     ]
    },
    {
     "name": "stdout",
     "output_type": "stream",
     "text": [
      "For epoch 193: \n",
      "{Learning rate: [0.0026312019502439067]}\n"
     ]
    },
    {
     "name": "stderr",
     "output_type": "stream",
     "text": [
      "Train batch number 99: 100%|██████████| 99/99 [00:13<00:00,  7.43batches/s]\n",
      "Test batch number 13: 100%|██████████| 13/13 [00:03<00:00,  3.88batches/s]\n"
     ]
    },
    {
     "name": "stdout",
     "output_type": "stream",
     "text": [
      "\n",
      "Metrics: {'train_loss': 0.009324706339446659, 'test_loss': 2.068523361132695, 'bleu': 20.5038, 'gen_len': 9.7424}\n",
      "\n",
      "=============================\n",
      "\n"
     ]
    },
    {
     "name": "stderr",
     "output_type": "stream",
     "text": [
      " 51%|█████     | 110/217 [33:32<32:59, 18.50s/it]"
     ]
    },
    {
     "name": "stdout",
     "output_type": "stream",
     "text": [
      "For epoch 194: \n",
      "{Learning rate: [0.002627295848314534]}\n"
     ]
    },
    {
     "name": "stderr",
     "output_type": "stream",
     "text": [
      "Train batch number 99: 100%|██████████| 99/99 [00:13<00:00,  7.45batches/s]\n",
      "Test batch number 13: 100%|██████████| 13/13 [00:03<00:00,  4.09batches/s]\n"
     ]
    },
    {
     "name": "stdout",
     "output_type": "stream",
     "text": [
      "\n",
      "Metrics: {'train_loss': 0.008902272400904842, 'test_loss': 2.0662453449689426, 'bleu': 20.9813, 'gen_len': 9.6313}\n",
      "\n",
      "=============================\n",
      "\n"
     ]
    },
    {
     "name": "stderr",
     "output_type": "stream",
     "text": [
      " 51%|█████     | 111/217 [33:51<32:33, 18.43s/it]"
     ]
    },
    {
     "name": "stdout",
     "output_type": "stream",
     "text": [
      "For epoch 195: \n",
      "{Learning rate: [0.002623373316555221]}\n"
     ]
    },
    {
     "name": "stderr",
     "output_type": "stream",
     "text": [
      "Train batch number 99: 100%|██████████| 99/99 [00:13<00:00,  7.42batches/s]\n",
      "Test batch number 13: 100%|██████████| 13/13 [00:03<00:00,  3.78batches/s]\n"
     ]
    },
    {
     "name": "stdout",
     "output_type": "stream",
     "text": [
      "\n",
      "Metrics: {'train_loss': 0.00921670673532656, 'test_loss': 2.0560668523495016, 'bleu': 20.2957, 'gen_len': 9.8131}\n",
      "\n",
      "=============================\n",
      "\n"
     ]
    },
    {
     "name": "stderr",
     "output_type": "stream",
     "text": [
      " 52%|█████▏    | 112/217 [34:09<32:18, 18.46s/it]"
     ]
    },
    {
     "name": "stdout",
     "output_type": "stream",
     "text": [
      "For epoch 196: \n",
      "{Learning rate: [0.002619434412732047]}\n"
     ]
    },
    {
     "name": "stderr",
     "output_type": "stream",
     "text": [
      "Train batch number 99: 100%|██████████| 99/99 [00:13<00:00,  7.43batches/s]\n",
      "Test batch number 13: 100%|██████████| 13/13 [00:03<00:00,  3.93batches/s]\n"
     ]
    },
    {
     "name": "stdout",
     "output_type": "stream",
     "text": [
      "\n",
      "Metrics: {'train_loss': 0.009765208979852197, 'test_loss': 2.032838821411133, 'bleu': 20.2846, 'gen_len': 9.7172}\n",
      "\n",
      "=============================\n",
      "\n"
     ]
    },
    {
     "name": "stderr",
     "output_type": "stream",
     "text": [
      " 52%|█████▏    | 113/217 [34:28<31:57, 18.44s/it]"
     ]
    },
    {
     "name": "stdout",
     "output_type": "stream",
     "text": [
      "For epoch 197: \n",
      "{Learning rate: [0.0026154791948521995]}\n"
     ]
    },
    {
     "name": "stderr",
     "output_type": "stream",
     "text": [
      "Train batch number 99: 100%|██████████| 99/99 [00:13<00:00,  7.41batches/s]\n",
      "Test batch number 13: 100%|██████████| 13/13 [00:03<00:00,  4.01batches/s]\n"
     ]
    },
    {
     "name": "stdout",
     "output_type": "stream",
     "text": [
      "\n",
      "Metrics: {'train_loss': 0.009019576223576535, 'test_loss': 2.0608569108522854, 'bleu': 21.2738, 'gen_len': 9.7071}\n",
      "\n",
      "=============================\n",
      "\n"
     ]
    },
    {
     "name": "stderr",
     "output_type": "stream",
     "text": [
      " 53%|█████▎    | 114/217 [34:46<31:37, 18.42s/it]"
     ]
    },
    {
     "name": "stdout",
     "output_type": "stream",
     "text": [
      "For epoch 198: \n",
      "{Learning rate: [0.002611507721163119]}\n"
     ]
    },
    {
     "name": "stderr",
     "output_type": "stream",
     "text": [
      "Train batch number 99: 100%|██████████| 99/99 [00:13<00:00,  7.48batches/s]\n",
      "Test batch number 13: 100%|██████████| 13/13 [00:03<00:00,  3.93batches/s]\n"
     ]
    },
    {
     "name": "stdout",
     "output_type": "stream",
     "text": [
      "\n",
      "Metrics: {'train_loss': 0.0088219679974377, 'test_loss': 2.063195897982671, 'bleu': 21.196, 'gen_len': 9.601}\n",
      "\n",
      "=============================\n",
      "\n"
     ]
    },
    {
     "name": "stderr",
     "output_type": "stream",
     "text": [
      " 53%|█████▎    | 115/217 [35:04<31:15, 18.39s/it]"
     ]
    },
    {
     "name": "stdout",
     "output_type": "stream",
     "text": [
      "For epoch 199: \n",
      "{Learning rate: [0.0026075200501516414]}\n"
     ]
    },
    {
     "name": "stderr",
     "output_type": "stream",
     "text": [
      "Train batch number 99: 100%|██████████| 99/99 [00:13<00:00,  7.49batches/s]\n",
      "Test batch number 13: 100%|██████████| 13/13 [00:03<00:00,  3.96batches/s]\n"
     ]
    },
    {
     "name": "stdout",
     "output_type": "stream",
     "text": [
      "\n",
      "Metrics: {'train_loss': 0.009267401650743183, 'test_loss': 2.0640514263739953, 'bleu': 20.5959, 'gen_len': 9.7778}\n",
      "\n",
      "=============================\n",
      "\n"
     ]
    },
    {
     "name": "stderr",
     "output_type": "stream",
     "text": [
      " 53%|█████▎    | 116/217 [35:25<32:08, 19.10s/it]"
     ]
    },
    {
     "name": "stdout",
     "output_type": "stream",
     "text": [
      "For epoch 200: \n",
      "{Learning rate: [0.0026035162405431338]}\n"
     ]
    },
    {
     "name": "stderr",
     "output_type": "stream",
     "text": [
      "Train batch number 99: 100%|██████████| 99/99 [00:13<00:00,  7.48batches/s]\n",
      "Test batch number 13: 100%|██████████| 13/13 [00:03<00:00,  3.79batches/s]\n"
     ]
    },
    {
     "name": "stdout",
     "output_type": "stream",
     "text": [
      "\n",
      "Metrics: {'train_loss': 0.008650694144454624, 'test_loss': 2.042478295472952, 'bleu': 20.9136, 'gen_len': 9.7576}\n",
      "\n",
      "=============================\n",
      "\n"
     ]
    },
    {
     "name": "stderr",
     "output_type": "stream",
     "text": [
      " 54%|█████▍    | 117/217 [35:43<31:29, 18.89s/it]"
     ]
    },
    {
     "name": "stdout",
     "output_type": "stream",
     "text": [
      "For epoch 201: \n",
      "{Learning rate: [0.0025994963513006346]}\n"
     ]
    },
    {
     "name": "stderr",
     "output_type": "stream",
     "text": [
      "Train batch number 99: 100%|██████████| 99/99 [00:13<00:00,  7.38batches/s]\n",
      "Test batch number 13: 100%|██████████| 13/13 [00:03<00:00,  4.02batches/s]\n"
     ]
    },
    {
     "name": "stdout",
     "output_type": "stream",
     "text": [
      "\n",
      "Metrics: {'train_loss': 0.009255414868051167, 'test_loss': 2.043179053526658, 'bleu': 20.868, 'gen_len': 9.4091}\n",
      "\n",
      "=============================\n",
      "\n"
     ]
    },
    {
     "name": "stderr",
     "output_type": "stream",
     "text": [
      " 54%|█████▍    | 118/217 [36:02<30:56, 18.75s/it]"
     ]
    },
    {
     "name": "stdout",
     "output_type": "stream",
     "text": [
      "For epoch 202: \n",
      "{Learning rate: [0.0025954604416239817]}\n"
     ]
    },
    {
     "name": "stderr",
     "output_type": "stream",
     "text": [
      "Train batch number 99: 100%|██████████| 99/99 [00:13<00:00,  7.51batches/s]\n",
      "Test batch number 13: 100%|██████████| 13/13 [00:03<00:00,  4.00batches/s]\n"
     ]
    },
    {
     "name": "stdout",
     "output_type": "stream",
     "text": [
      "\n",
      "Metrics: {'train_loss': 0.009615459541420951, 'test_loss': 2.015576426799481, 'bleu': 20.3111, 'gen_len': 9.7374}\n",
      "\n",
      "=============================\n",
      "\n"
     ]
    },
    {
     "name": "stderr",
     "output_type": "stream",
     "text": [
      " 55%|█████▍    | 119/217 [36:20<30:21, 18.59s/it]"
     ]
    },
    {
     "name": "stdout",
     "output_type": "stream",
     "text": [
      "For epoch 203: \n",
      "{Learning rate: [0.0025914085709489412]}\n"
     ]
    },
    {
     "name": "stderr",
     "output_type": "stream",
     "text": [
      "Train batch number 99: 100%|██████████| 99/99 [00:13<00:00,  7.49batches/s]\n",
      "Test batch number 13: 100%|██████████| 13/13 [00:03<00:00,  3.95batches/s]\n"
     ]
    },
    {
     "name": "stdout",
     "output_type": "stream",
     "text": [
      "\n",
      "Metrics: {'train_loss': 0.008822900379509335, 'test_loss': 2.0041131789867697, 'bleu': 20.8741, 'gen_len': 9.6919}\n",
      "\n",
      "=============================\n",
      "\n"
     ]
    },
    {
     "name": "stderr",
     "output_type": "stream",
     "text": [
      " 55%|█████▌    | 120/217 [36:38<29:53, 18.49s/it]"
     ]
    },
    {
     "name": "stdout",
     "output_type": "stream",
     "text": [
      "For epoch 204: \n",
      "{Learning rate: [0.002587340798946335]}\n"
     ]
    },
    {
     "name": "stderr",
     "output_type": "stream",
     "text": [
      "Train batch number 99: 100%|██████████| 99/99 [00:13<00:00,  7.58batches/s]\n",
      "Test batch number 13: 100%|██████████| 13/13 [00:03<00:00,  3.85batches/s]\n"
     ]
    },
    {
     "name": "stdout",
     "output_type": "stream",
     "text": [
      "\n",
      "Metrics: {'train_loss': 0.009003822323090086, 'test_loss': 2.0339525021039524, 'bleu': 20.5892, 'gen_len': 9.6869}\n",
      "\n",
      "=============================\n",
      "\n"
     ]
    },
    {
     "name": "stderr",
     "output_type": "stream",
     "text": [
      " 56%|█████▌    | 121/217 [36:57<29:25, 18.40s/it]"
     ]
    },
    {
     "name": "stdout",
     "output_type": "stream",
     "text": [
      "For epoch 205: \n",
      "{Learning rate: [0.0025832571855211556]}\n"
     ]
    },
    {
     "name": "stderr",
     "output_type": "stream",
     "text": [
      "Train batch number 99: 100%|██████████| 99/99 [00:13<00:00,  7.41batches/s]\n",
      "Test batch number 13: 100%|██████████| 13/13 [00:03<00:00,  3.98batches/s]\n"
     ]
    },
    {
     "name": "stdout",
     "output_type": "stream",
     "text": [
      "\n",
      "Metrics: {'train_loss': 0.009312104466700494, 'test_loss': 1.993699734027569, 'bleu': 20.8541, 'gen_len': 10.0}\n",
      "\n",
      "=============================\n",
      "\n"
     ]
    },
    {
     "name": "stderr",
     "output_type": "stream",
     "text": [
      " 56%|█████▌    | 122/217 [37:15<29:07, 18.39s/it]"
     ]
    },
    {
     "name": "stdout",
     "output_type": "stream",
     "text": [
      "For epoch 206: \n",
      "{Learning rate: [0.0025791577908116916]}\n"
     ]
    },
    {
     "name": "stderr",
     "output_type": "stream",
     "text": [
      "Train batch number 99: 100%|██████████| 99/99 [00:13<00:00,  7.53batches/s]\n",
      "Test batch number 13: 100%|██████████| 13/13 [00:03<00:00,  3.81batches/s]\n"
     ]
    },
    {
     "name": "stdout",
     "output_type": "stream",
     "text": [
      "\n",
      "Metrics: {'train_loss': 0.009602061086545953, 'test_loss': 2.0022535782593947, 'bleu': 19.5097, 'gen_len': 9.697}\n",
      "\n",
      "=============================\n",
      "\n"
     ]
    },
    {
     "name": "stderr",
     "output_type": "stream",
     "text": [
      " 57%|█████▋    | 123/217 [37:33<28:47, 18.38s/it]"
     ]
    },
    {
     "name": "stdout",
     "output_type": "stream",
     "text": [
      "For epoch 207: \n",
      "{Learning rate: [0.002575042675188636]}\n"
     ]
    },
    {
     "name": "stderr",
     "output_type": "stream",
     "text": [
      "Train batch number 99: 100%|██████████| 99/99 [00:13<00:00,  7.46batches/s]\n",
      "Test batch number 13: 100%|██████████| 13/13 [00:03<00:00,  3.75batches/s]\n"
     ]
    },
    {
     "name": "stdout",
     "output_type": "stream",
     "text": [
      "\n",
      "Metrics: {'train_loss': 0.009208672894270752, 'test_loss': 1.995590017392085, 'bleu': 20.0083, 'gen_len': 9.8586}\n",
      "\n",
      "=============================\n",
      "\n"
     ]
    },
    {
     "name": "stderr",
     "output_type": "stream",
     "text": [
      " 57%|█████▋    | 124/217 [37:52<28:32, 18.41s/it]"
     ]
    },
    {
     "name": "stdout",
     "output_type": "stream",
     "text": [
      "For epoch 208: \n",
      "{Learning rate: [0.002570911899254201]}\n"
     ]
    },
    {
     "name": "stderr",
     "output_type": "stream",
     "text": [
      "Train batch number 99: 100%|██████████| 99/99 [00:13<00:00,  7.60batches/s]\n",
      "Test batch number 13: 100%|██████████| 13/13 [00:03<00:00,  3.99batches/s]\n"
     ]
    },
    {
     "name": "stdout",
     "output_type": "stream",
     "text": [
      "\n",
      "Metrics: {'train_loss': 0.0089935653891786, 'test_loss': 2.007850564443148, 'bleu': 19.7798, 'gen_len': 9.8081}\n",
      "\n",
      "=============================\n",
      "\n"
     ]
    },
    {
     "name": "stderr",
     "output_type": "stream",
     "text": [
      " 58%|█████▊    | 125/217 [38:10<28:04, 18.31s/it]"
     ]
    },
    {
     "name": "stdout",
     "output_type": "stream",
     "text": [
      "For epoch 209: \n",
      "{Learning rate: [0.002566765523841223]}\n"
     ]
    },
    {
     "name": "stderr",
     "output_type": "stream",
     "text": [
      "Train batch number 99: 100%|██████████| 99/99 [00:13<00:00,  7.53batches/s]\n",
      "Test batch number 13: 100%|██████████| 13/13 [00:03<00:00,  3.83batches/s]\n"
     ]
    },
    {
     "name": "stdout",
     "output_type": "stream",
     "text": [
      "\n",
      "Metrics: {'train_loss': 0.00865862526309987, 'test_loss': 2.0417370887903066, 'bleu': 19.7863, 'gen_len': 9.8232}\n",
      "\n",
      "=============================\n",
      "\n"
     ]
    },
    {
     "name": "stderr",
     "output_type": "stream",
     "text": [
      " 58%|█████▊    | 126/217 [38:28<27:45, 18.30s/it]"
     ]
    },
    {
     "name": "stdout",
     "output_type": "stream",
     "text": [
      "For epoch 210: \n",
      "{Learning rate: [0.002562603610012268]}\n"
     ]
    },
    {
     "name": "stderr",
     "output_type": "stream",
     "text": [
      "Train batch number 99: 100%|██████████| 99/99 [00:12<00:00,  7.63batches/s]\n",
      "Test batch number 13: 100%|██████████| 13/13 [00:03<00:00,  3.83batches/s]\n"
     ]
    },
    {
     "name": "stdout",
     "output_type": "stream",
     "text": [
      "\n",
      "Metrics: {'train_loss': 0.008148028213510789, 'test_loss': 2.040468463530907, 'bleu': 19.4247, 'gen_len': 9.7929}\n",
      "\n",
      "=============================\n",
      "\n"
     ]
    },
    {
     "name": "stderr",
     "output_type": "stream",
     "text": [
      " 59%|█████▊    | 127/217 [38:46<27:21, 18.24s/it]"
     ]
    },
    {
     "name": "stdout",
     "output_type": "stream",
     "text": [
      "For epoch 211: \n",
      "{Learning rate: [0.0025584262190587325]}\n"
     ]
    },
    {
     "name": "stderr",
     "output_type": "stream",
     "text": [
      "Train batch number 99: 100%|██████████| 99/99 [00:13<00:00,  7.57batches/s]\n",
      "Test batch number 13: 100%|██████████| 13/13 [00:03<00:00,  4.07batches/s]\n"
     ]
    },
    {
     "name": "stdout",
     "output_type": "stream",
     "text": [
      "\n",
      "Metrics: {'train_loss': 0.00837411322440444, 'test_loss': 2.02329107431265, 'bleu': 20.0022, 'gen_len': 9.7778}\n",
      "\n",
      "=============================\n",
      "\n"
     ]
    },
    {
     "name": "stderr",
     "output_type": "stream",
     "text": [
      " 59%|█████▉    | 128/217 [39:04<26:58, 18.18s/it]"
     ]
    },
    {
     "name": "stdout",
     "output_type": "stream",
     "text": [
      "For epoch 212: \n",
      "{Learning rate: [0.0025542334124999404]}\n"
     ]
    },
    {
     "name": "stderr",
     "output_type": "stream",
     "text": [
      "Train batch number 99: 100%|██████████| 99/99 [00:12<00:00,  7.68batches/s]\n",
      "Test batch number 13: 100%|██████████| 13/13 [00:03<00:00,  4.01batches/s]\n"
     ]
    },
    {
     "name": "stdout",
     "output_type": "stream",
     "text": [
      "\n",
      "Metrics: {'train_loss': 0.009000552536548126, 'test_loss': 2.040518412223229, 'bleu': 20.9933, 'gen_len': 9.7172}\n",
      "\n",
      "=============================\n",
      "\n"
     ]
    },
    {
     "name": "stderr",
     "output_type": "stream",
     "text": [
      " 59%|█████▉    | 129/217 [39:22<26:31, 18.09s/it]"
     ]
    },
    {
     "name": "stdout",
     "output_type": "stream",
     "text": [
      "For epoch 213: \n",
      "{Learning rate: [0.002550025252082237]}\n"
     ]
    },
    {
     "name": "stderr",
     "output_type": "stream",
     "text": [
      "Train batch number 99: 100%|██████████| 99/99 [00:13<00:00,  7.36batches/s]\n",
      "Test batch number 13: 100%|██████████| 13/13 [00:03<00:00,  3.72batches/s]\n"
     ]
    },
    {
     "name": "stdout",
     "output_type": "stream",
     "text": [
      "\n",
      "Metrics: {'train_loss': 0.008878018128782078, 'test_loss': 2.021247909619258, 'bleu': 20.2564, 'gen_len': 9.7828}\n",
      "\n",
      "=============================\n",
      "\n"
     ]
    },
    {
     "name": "stderr",
     "output_type": "stream",
     "text": [
      " 60%|█████▉    | 130/217 [39:41<26:29, 18.28s/it]"
     ]
    },
    {
     "name": "stdout",
     "output_type": "stream",
     "text": [
      "For epoch 214: \n",
      "{Learning rate: [0.00254580179977808]}\n"
     ]
    },
    {
     "name": "stderr",
     "output_type": "stream",
     "text": [
      "Train batch number 99: 100%|██████████| 99/99 [00:13<00:00,  7.46batches/s]\n",
      "Test batch number 13: 100%|██████████| 13/13 [00:03<00:00,  3.87batches/s]\n"
     ]
    },
    {
     "name": "stdout",
     "output_type": "stream",
     "text": [
      "\n",
      "Metrics: {'train_loss': 0.008562636043408397, 'test_loss': 2.027649916135348, 'bleu': 20.6731, 'gen_len': 9.8737}\n",
      "\n",
      "=============================\n",
      "\n"
     ]
    },
    {
     "name": "stderr",
     "output_type": "stream",
     "text": [
      " 60%|██████    | 131/217 [39:59<26:13, 18.30s/it]"
     ]
    },
    {
     "name": "stdout",
     "output_type": "stream",
     "text": [
      "For epoch 215: \n",
      "{Learning rate: [0.002541563117785126]}\n"
     ]
    },
    {
     "name": "stderr",
     "output_type": "stream",
     "text": [
      "Train batch number 99: 100%|██████████| 99/99 [00:13<00:00,  7.55batches/s]\n",
      "Test batch number 13: 100%|██████████| 13/13 [00:03<00:00,  4.09batches/s]\n"
     ]
    },
    {
     "name": "stdout",
     "output_type": "stream",
     "text": [
      "\n",
      "Metrics: {'train_loss': 0.008015943193723533, 'test_loss': 2.047108586017902, 'bleu': 20.9941, 'gen_len': 9.6212}\n",
      "\n",
      "=============================\n",
      "\n"
     ]
    },
    {
     "name": "stderr",
     "output_type": "stream",
     "text": [
      " 61%|██████    | 132/217 [40:17<25:48, 18.22s/it]"
     ]
    },
    {
     "name": "stdout",
     "output_type": "stream",
     "text": [
      "For epoch 216: \n",
      "{Learning rate: [0.0025373092685253154]}\n"
     ]
    },
    {
     "name": "stderr",
     "output_type": "stream",
     "text": [
      "Train batch number 99: 100%|██████████| 99/99 [00:12<00:00,  7.72batches/s]\n",
      "Test batch number 13: 100%|██████████| 13/13 [00:03<00:00,  3.86batches/s]\n"
     ]
    },
    {
     "name": "stdout",
     "output_type": "stream",
     "text": [
      "\n",
      "Metrics: {'train_loss': 0.009291040908070187, 'test_loss': 2.012418059202341, 'bleu': 20.9778, 'gen_len': 9.8081}\n",
      "\n",
      "=============================\n",
      "\n"
     ]
    },
    {
     "name": "stderr",
     "output_type": "stream",
     "text": [
      " 61%|██████▏   | 133/217 [40:35<25:24, 18.14s/it]"
     ]
    },
    {
     "name": "stdout",
     "output_type": "stream",
     "text": [
      "For epoch 217: \n",
      "{Learning rate: [0.0025330403146439535]}\n"
     ]
    },
    {
     "name": "stderr",
     "output_type": "stream",
     "text": [
      "Train batch number 99: 100%|██████████| 99/99 [00:13<00:00,  7.58batches/s]\n",
      "Test batch number 13: 100%|██████████| 13/13 [00:03<00:00,  3.98batches/s]\n"
     ]
    },
    {
     "name": "stdout",
     "output_type": "stream",
     "text": [
      "\n",
      "Metrics: {'train_loss': 0.008022667816898909, 'test_loss': 2.0267615685096154, 'bleu': 20.8548, 'gen_len': 9.9091}\n",
      "\n",
      "=============================\n",
      "\n"
     ]
    },
    {
     "name": "stderr",
     "output_type": "stream",
     "text": [
      " 62%|██████▏   | 134/217 [40:53<25:03, 18.11s/it]"
     ]
    },
    {
     "name": "stdout",
     "output_type": "stream",
     "text": [
      "For epoch 218: \n",
      "{Learning rate: [0.002528756319008787]}\n"
     ]
    },
    {
     "name": "stderr",
     "output_type": "stream",
     "text": [
      "Train batch number 99: 100%|██████████| 99/99 [00:13<00:00,  7.47batches/s]\n",
      "Test batch number 13: 100%|██████████| 13/13 [00:03<00:00,  3.97batches/s]\n"
     ]
    },
    {
     "name": "stdout",
     "output_type": "stream",
     "text": [
      "\n",
      "Metrics: {'train_loss': 0.008178748748961347, 'test_loss': 2.015303905193622, 'bleu': 19.734, 'gen_len': 9.7071}\n",
      "\n",
      "=============================\n",
      "\n"
     ]
    },
    {
     "name": "stderr",
     "output_type": "stream",
     "text": [
      " 62%|██████▏   | 135/217 [41:12<24:49, 18.17s/it]"
     ]
    },
    {
     "name": "stdout",
     "output_type": "stream",
     "text": [
      "For epoch 219: \n",
      "{Learning rate: [0.002524457344709078]}\n"
     ]
    },
    {
     "name": "stderr",
     "output_type": "stream",
     "text": [
      "Train batch number 99: 100%|██████████| 99/99 [00:13<00:00,  7.51batches/s]\n",
      "Test batch number 13: 100%|██████████| 13/13 [00:03<00:00,  3.77batches/s]\n"
     ]
    },
    {
     "name": "stdout",
     "output_type": "stream",
     "text": [
      "\n",
      "Metrics: {'train_loss': 0.009596900646680628, 'test_loss': 2.02313455251547, 'bleu': 20.8922, 'gen_len': 9.6667}\n",
      "\n",
      "=============================\n",
      "\n"
     ]
    },
    {
     "name": "stderr",
     "output_type": "stream",
     "text": [
      " 63%|██████▎   | 136/217 [41:30<24:36, 18.23s/it]"
     ]
    },
    {
     "name": "stdout",
     "output_type": "stream",
     "text": [
      "For epoch 220: \n",
      "{Learning rate: [0.002520143455054676]}\n"
     ]
    },
    {
     "name": "stderr",
     "output_type": "stream",
     "text": [
      "Train batch number 99: 100%|██████████| 99/99 [00:12<00:00,  7.67batches/s]\n",
      "Test batch number 13: 100%|██████████| 13/13 [00:03<00:00,  3.95batches/s]\n"
     ]
    },
    {
     "name": "stdout",
     "output_type": "stream",
     "text": [
      "\n",
      "Metrics: {'train_loss': 0.0085817565768134, 'test_loss': 2.0028868730251608, 'bleu': 20.5475, 'gen_len': 9.8232}\n",
      "\n",
      "=============================\n",
      "\n"
     ]
    },
    {
     "name": "stderr",
     "output_type": "stream",
     "text": [
      " 63%|██████▎   | 137/217 [41:48<24:11, 18.14s/it]"
     ]
    },
    {
     "name": "stdout",
     "output_type": "stream",
     "text": [
      "For epoch 221: \n",
      "{Learning rate: [0.002515814713575085]}\n"
     ]
    },
    {
     "name": "stderr",
     "output_type": "stream",
     "text": [
      "Train batch number 99: 100%|██████████| 99/99 [00:13<00:00,  7.56batches/s]\n",
      "Test batch number 13: 100%|██████████| 13/13 [00:03<00:00,  3.80batches/s]\n"
     ]
    },
    {
     "name": "stdout",
     "output_type": "stream",
     "text": [
      "\n",
      "Metrics: {'train_loss': 0.00848965513234196, 'test_loss': 2.023115488199087, 'bleu': 20.3252, 'gen_len': 9.8182}\n",
      "\n",
      "=============================\n",
      "\n"
     ]
    },
    {
     "name": "stderr",
     "output_type": "stream",
     "text": [
      " 64%|██████▎   | 138/217 [42:06<23:57, 18.20s/it]"
     ]
    },
    {
     "name": "stdout",
     "output_type": "stream",
     "text": [
      "For epoch 222: \n",
      "{Learning rate: [0.0025114711840185278]}\n"
     ]
    },
    {
     "name": "stderr",
     "output_type": "stream",
     "text": [
      "Train batch number 99: 100%|██████████| 99/99 [00:13<00:00,  7.60batches/s]\n",
      "Test batch number 13: 100%|██████████| 13/13 [00:03<00:00,  3.77batches/s]\n"
     ]
    },
    {
     "name": "stdout",
     "output_type": "stream",
     "text": [
      "\n",
      "Metrics: {'train_loss': 0.008836205663615744, 'test_loss': 2.0202916952279897, 'bleu': 20.0222, 'gen_len': 10.0152}\n",
      "\n",
      "=============================\n",
      "\n"
     ]
    },
    {
     "name": "stderr",
     "output_type": "stream",
     "text": [
      " 64%|██████▍   | 139/217 [42:24<23:39, 18.20s/it]"
     ]
    },
    {
     "name": "stdout",
     "output_type": "stream",
     "text": [
      "For epoch 223: \n",
      "{Learning rate: [0.002507112930351006]}\n"
     ]
    },
    {
     "name": "stderr",
     "output_type": "stream",
     "text": [
      "Train batch number 99: 100%|██████████| 99/99 [00:12<00:00,  7.72batches/s]\n",
      "Test batch number 13: 100%|██████████| 13/13 [00:03<00:00,  3.98batches/s]\n"
     ]
    },
    {
     "name": "stdout",
     "output_type": "stream",
     "text": [
      "\n",
      "Metrics: {'train_loss': 0.008290985401018965, 'test_loss': 2.0343392537190366, 'bleu': 20.0706, 'gen_len': 9.7879}\n",
      "\n",
      "=============================\n",
      "\n"
     ]
    },
    {
     "name": "stderr",
     "output_type": "stream",
     "text": [
      " 65%|██████▍   | 140/217 [42:42<23:12, 18.09s/it]"
     ]
    },
    {
     "name": "stdout",
     "output_type": "stream",
     "text": [
      "For epoch 224: \n",
      "{Learning rate: [0.002502740016755362]}\n"
     ]
    },
    {
     "name": "stderr",
     "output_type": "stream",
     "text": [
      "Train batch number 99: 100%|██████████| 99/99 [00:13<00:00,  7.59batches/s]\n",
      "Test batch number 13: 100%|██████████| 13/13 [00:03<00:00,  3.79batches/s]\n"
     ]
    },
    {
     "name": "stdout",
     "output_type": "stream",
     "text": [
      "\n",
      "Metrics: {'train_loss': 0.008147304770336816, 'test_loss': 2.0099901327720056, 'bleu': 21.0425, 'gen_len': 9.9141}\n",
      "\n",
      "=============================\n",
      "\n"
     ]
    },
    {
     "name": "stderr",
     "output_type": "stream",
     "text": [
      " 65%|██████▍   | 141/217 [43:00<22:57, 18.12s/it]"
     ]
    },
    {
     "name": "stdout",
     "output_type": "stream",
     "text": [
      "For epoch 225: \n",
      "{Learning rate: [0.002498352507630328]}\n"
     ]
    },
    {
     "name": "stderr",
     "output_type": "stream",
     "text": [
      "Train batch number 99: 100%|██████████| 99/99 [00:13<00:00,  7.45batches/s]\n",
      "Test batch number 13: 100%|██████████| 13/13 [00:03<00:00,  3.81batches/s]\n"
     ]
    },
    {
     "name": "stdout",
     "output_type": "stream",
     "text": [
      "\n",
      "Metrics: {'train_loss': 0.008392063273773105, 'test_loss': 2.029997367125291, 'bleu': 19.9693, 'gen_len': 9.9192}\n",
      "\n",
      "=============================\n",
      "\n"
     ]
    },
    {
     "name": "stderr",
     "output_type": "stream",
     "text": [
      " 65%|██████▌   | 142/217 [43:19<22:46, 18.22s/it]"
     ]
    },
    {
     "name": "stdout",
     "output_type": "stream",
     "text": [
      "For epoch 226: \n",
      "{Learning rate: [0.0024939504675895834]}\n"
     ]
    },
    {
     "name": "stderr",
     "output_type": "stream",
     "text": [
      "Train batch number 99: 100%|██████████| 99/99 [00:12<00:00,  7.72batches/s]\n",
      "Test batch number 13: 100%|██████████| 13/13 [00:03<00:00,  3.78batches/s]\n"
     ]
    },
    {
     "name": "stdout",
     "output_type": "stream",
     "text": [
      "\n",
      "Metrics: {'train_loss': 0.00857790441792035, 'test_loss': 2.008614916067857, 'bleu': 21.6338, 'gen_len': 9.803}\n",
      "\n",
      "=============================\n",
      "\n"
     ]
    },
    {
     "name": "stderr",
     "output_type": "stream",
     "text": [
      " 66%|██████▌   | 143/217 [43:37<22:23, 18.15s/it]"
     ]
    },
    {
     "name": "stdout",
     "output_type": "stream",
     "text": [
      "For epoch 227: \n",
      "{Learning rate: [0.002489533961460798]}\n"
     ]
    },
    {
     "name": "stderr",
     "output_type": "stream",
     "text": [
      "Train batch number 99: 100%|██████████| 99/99 [00:12<00:00,  7.69batches/s]\n",
      "Test batch number 13: 100%|██████████| 13/13 [00:03<00:00,  3.81batches/s]\n"
     ]
    },
    {
     "name": "stdout",
     "output_type": "stream",
     "text": [
      "\n",
      "Metrics: {'train_loss': 0.008491735634655042, 'test_loss': 2.0076789489159217, 'bleu': 20.5426, 'gen_len': 9.8535}\n",
      "\n",
      "=============================\n",
      "\n"
     ]
    },
    {
     "name": "stderr",
     "output_type": "stream",
     "text": [
      " 66%|██████▋   | 144/217 [43:55<22:02, 18.11s/it]"
     ]
    },
    {
     "name": "stdout",
     "output_type": "stream",
     "text": [
      "For epoch 228: \n",
      "{Learning rate: [0.0024851030542846816]}\n"
     ]
    },
    {
     "name": "stderr",
     "output_type": "stream",
     "text": [
      "Train batch number 99: 100%|██████████| 99/99 [00:13<00:00,  7.55batches/s]\n",
      "Test batch number 13: 100%|██████████| 13/13 [00:03<00:00,  3.79batches/s]\n"
     ]
    },
    {
     "name": "stdout",
     "output_type": "stream",
     "text": [
      "\n",
      "Metrics: {'train_loss': 0.00842520162625464, 'test_loss': 1.999979486832252, 'bleu': 21.0933, 'gen_len': 9.6818}\n",
      "\n",
      "=============================\n",
      "\n"
     ]
    },
    {
     "name": "stderr",
     "output_type": "stream",
     "text": [
      " 67%|██████▋   | 145/217 [44:13<21:47, 18.16s/it]"
     ]
    },
    {
     "name": "stdout",
     "output_type": "stream",
     "text": [
      "For epoch 229: \n",
      "{Learning rate: [0.0024806578113140245]}\n"
     ]
    },
    {
     "name": "stderr",
     "output_type": "stream",
     "text": [
      "Train batch number 99: 100%|██████████| 99/99 [00:13<00:00,  7.49batches/s]\n",
      "Test batch number 13: 100%|██████████| 13/13 [00:03<00:00,  3.97batches/s]\n"
     ]
    },
    {
     "name": "stdout",
     "output_type": "stream",
     "text": [
      "\n",
      "Metrics: {'train_loss': 0.008291090304746923, 'test_loss': 2.0085481588657084, 'bleu': 21.4009, 'gen_len': 9.7677}\n",
      "\n",
      "=============================\n",
      "\n"
     ]
    },
    {
     "name": "stderr",
     "output_type": "stream",
     "text": [
      " 67%|██████▋   | 146/217 [44:31<21:30, 18.18s/it]"
     ]
    },
    {
     "name": "stdout",
     "output_type": "stream",
     "text": [
      "For epoch 230: \n",
      "{Learning rate: [0.0024761982980127345]}\n"
     ]
    },
    {
     "name": "stderr",
     "output_type": "stream",
     "text": [
      "Train batch number 99: 100%|██████████| 99/99 [00:12<00:00,  7.71batches/s]\n",
      "Test batch number 13: 100%|██████████| 13/13 [00:03<00:00,  3.86batches/s]\n"
     ]
    },
    {
     "name": "stdout",
     "output_type": "stream",
     "text": [
      "\n",
      "Metrics: {'train_loss': 0.008102665027965687, 'test_loss': 1.9991874878223126, 'bleu': 20.4586, 'gen_len': 9.6869}\n",
      "\n",
      "=============================\n",
      "\n"
     ]
    },
    {
     "name": "stderr",
     "output_type": "stream",
     "text": [
      " 68%|██████▊   | 147/217 [44:49<21:07, 18.11s/it]"
     ]
    },
    {
     "name": "stdout",
     "output_type": "stream",
     "text": [
      "For epoch 231: \n",
      "{Learning rate: [0.0024717245800548768]}\n"
     ]
    },
    {
     "name": "stderr",
     "output_type": "stream",
     "text": [
      "Train batch number 99: 100%|██████████| 99/99 [00:12<00:00,  7.75batches/s]\n",
      "Test batch number 13: 100%|██████████| 13/13 [00:03<00:00,  3.87batches/s]\n"
     ]
    },
    {
     "name": "stdout",
     "output_type": "stream",
     "text": [
      "\n",
      "Metrics: {'train_loss': 0.00872648319828023, 'test_loss': 2.0179482973538914, 'bleu': 21.1207, 'gen_len': 9.5808}\n",
      "\n",
      "=============================\n",
      "\n"
     ]
    },
    {
     "name": "stderr",
     "output_type": "stream",
     "text": [
      " 68%|██████▊   | 148/217 [45:07<20:44, 18.04s/it]"
     ]
    },
    {
     "name": "stdout",
     "output_type": "stream",
     "text": [
      "For epoch 232: \n",
      "{Learning rate: [0.0024672367233237046]}\n"
     ]
    },
    {
     "name": "stderr",
     "output_type": "stream",
     "text": [
      "Train batch number 99: 100%|██████████| 99/99 [00:12<00:00,  7.76batches/s]\n",
      "Test batch number 13: 100%|██████████| 13/13 [00:03<00:00,  3.79batches/s]\n"
     ]
    },
    {
     "name": "stdout",
     "output_type": "stream",
     "text": [
      "\n",
      "Metrics: {'train_loss': 0.008756841294763779, 'test_loss': 2.024734607109657, 'bleu': 21.5717, 'gen_len': 9.8131}\n",
      "\n",
      "=============================\n",
      "\n"
     ]
    },
    {
     "name": "stderr",
     "output_type": "stream",
     "text": [
      " 69%|██████▊   | 149/217 [45:25<20:24, 18.01s/it]"
     ]
    },
    {
     "name": "stdout",
     "output_type": "stream",
     "text": [
      "For epoch 233: \n",
      "{Learning rate: [0.0024627347939106875]}\n"
     ]
    },
    {
     "name": "stderr",
     "output_type": "stream",
     "text": [
      "Train batch number 99: 100%|██████████| 99/99 [00:13<00:00,  7.57batches/s]\n",
      "Test batch number 13: 100%|██████████| 13/13 [00:03<00:00,  3.79batches/s]\n"
     ]
    },
    {
     "name": "stdout",
     "output_type": "stream",
     "text": [
      "\n",
      "Metrics: {'train_loss': 0.008115254401645594, 'test_loss': 2.018138592059796, 'bleu': 20.8879, 'gen_len': 10.1313}\n",
      "\n",
      "=============================\n",
      "\n"
     ]
    },
    {
     "name": "stderr",
     "output_type": "stream",
     "text": [
      " 69%|██████▉   | 150/217 [45:43<20:11, 18.08s/it]"
     ]
    },
    {
     "name": "stdout",
     "output_type": "stream",
     "text": [
      "For epoch 234: \n",
      "{Learning rate: [0.002458218858114541]}\n"
     ]
    },
    {
     "name": "stderr",
     "output_type": "stream",
     "text": [
      "Train batch number 99: 100%|██████████| 99/99 [00:12<00:00,  7.80batches/s]\n",
      "Test batch number 13: 100%|██████████| 13/13 [00:03<00:00,  3.71batches/s]\n"
     ]
    },
    {
     "name": "stdout",
     "output_type": "stream",
     "text": [
      "\n",
      "Metrics: {'train_loss': 0.008676435213978166, 'test_loss': 1.9988996982574463, 'bleu': 21.3107, 'gen_len': 10.1414}\n",
      "\n",
      "=============================\n",
      "\n"
     ]
    },
    {
     "name": "stderr",
     "output_type": "stream",
     "text": [
      " 70%|██████▉   | 151/217 [46:01<19:50, 18.04s/it]"
     ]
    },
    {
     "name": "stdout",
     "output_type": "stream",
     "text": [
      "For epoch 235: \n",
      "{Learning rate: [0.0024536889824402484]}\n"
     ]
    },
    {
     "name": "stderr",
     "output_type": "stream",
     "text": [
      "Train batch number 99: 100%|██████████| 99/99 [00:12<00:00,  7.73batches/s]\n",
      "Test batch number 13: 100%|██████████| 13/13 [00:03<00:00,  4.00batches/s]\n"
     ]
    },
    {
     "name": "stdout",
     "output_type": "stream",
     "text": [
      "\n",
      "Metrics: {'train_loss': 0.008931125170842867, 'test_loss': 2.0219126022779026, 'bleu': 20.8008, 'gen_len': 10.0253}\n",
      "\n",
      "=============================\n",
      "\n"
     ]
    },
    {
     "name": "stderr",
     "output_type": "stream",
     "text": [
      " 70%|███████   | 152/217 [46:19<19:27, 17.96s/it]"
     ]
    },
    {
     "name": "stdout",
     "output_type": "stream",
     "text": [
      "For epoch 236: \n",
      "{Learning rate: [0.0024491452335980825]}\n"
     ]
    },
    {
     "name": "stderr",
     "output_type": "stream",
     "text": [
      "Train batch number 99: 100%|██████████| 99/99 [00:12<00:00,  7.66batches/s]\n",
      "Test batch number 13: 100%|██████████| 13/13 [00:03<00:00,  3.95batches/s]\n"
     ]
    },
    {
     "name": "stdout",
     "output_type": "stream",
     "text": [
      "\n",
      "Metrics: {'train_loss': 0.007990544836502522, 'test_loss': 2.0126391374147854, 'bleu': 21.3971, 'gen_len': 9.9091}\n",
      "\n",
      "=============================\n",
      "\n"
     ]
    },
    {
     "name": "stderr",
     "output_type": "stream",
     "text": [
      " 71%|███████   | 153/217 [46:37<19:09, 17.96s/it]"
     ]
    },
    {
     "name": "stdout",
     "output_type": "stream",
     "text": [
      "For epoch 237: \n",
      "{Learning rate: [0.002444587678502622]}\n"
     ]
    },
    {
     "name": "stderr",
     "output_type": "stream",
     "text": [
      "Train batch number 99: 100%|██████████| 99/99 [00:12<00:00,  7.76batches/s]\n",
      "Test batch number 13: 100%|██████████| 13/13 [00:03<00:00,  3.81batches/s]\n"
     ]
    },
    {
     "name": "stdout",
     "output_type": "stream",
     "text": [
      "\n",
      "Metrics: {'train_loss': 0.008207437915391184, 'test_loss': 2.01395060465886, 'bleu': 21.1773, 'gen_len': 10.0808}\n",
      "\n",
      "=============================\n",
      "\n"
     ]
    },
    {
     "name": "stderr",
     "output_type": "stream",
     "text": [
      " 71%|███████   | 154/217 [46:55<18:50, 17.94s/it]"
     ]
    },
    {
     "name": "stdout",
     "output_type": "stream",
     "text": [
      "For epoch 238: \n",
      "{Learning rate: [0.0024400163842717665]}\n"
     ]
    },
    {
     "name": "stderr",
     "output_type": "stream",
     "text": [
      "Train batch number 99: 100%|██████████| 99/99 [00:12<00:00,  7.68batches/s]\n",
      "Test batch number 13: 100%|██████████| 13/13 [00:03<00:00,  3.90batches/s]\n"
     ]
    },
    {
     "name": "stdout",
     "output_type": "stream",
     "text": [
      "\n",
      "Metrics: {'train_loss': 0.00794397584089746, 'test_loss': 2.0212199687957764, 'bleu': 20.4398, 'gen_len': 10.0152}\n",
      "\n",
      "=============================\n",
      "\n"
     ]
    },
    {
     "name": "stderr",
     "output_type": "stream",
     "text": [
      " 71%|███████▏  | 155/217 [47:13<18:33, 17.96s/it]"
     ]
    },
    {
     "name": "stdout",
     "output_type": "stream",
     "text": [
      "For epoch 239: \n",
      "{Learning rate: [0.002435431418225749]}\n"
     ]
    },
    {
     "name": "stderr",
     "output_type": "stream",
     "text": [
      "Train batch number 99: 100%|██████████| 99/99 [00:13<00:00,  7.59batches/s]\n",
      "Test batch number 13: 100%|██████████| 13/13 [00:03<00:00,  4.08batches/s]\n"
     ]
    },
    {
     "name": "stdout",
     "output_type": "stream",
     "text": [
      "\n",
      "Metrics: {'train_loss': 0.007789548576134492, 'test_loss': 2.0247780634806705, 'bleu': 20.1599, 'gen_len': 9.7273}\n",
      "\n",
      "=============================\n",
      "\n"
     ]
    },
    {
     "name": "stderr",
     "output_type": "stream",
     "text": [
      " 72%|███████▏  | 156/217 [47:31<18:15, 17.97s/it]"
     ]
    },
    {
     "name": "stdout",
     "output_type": "stream",
     "text": [
      "For epoch 240: \n",
      "{Learning rate: [0.002430832847886142]}\n"
     ]
    },
    {
     "name": "stderr",
     "output_type": "stream",
     "text": [
      "Train batch number 99: 100%|██████████| 99/99 [00:12<00:00,  7.64batches/s]\n",
      "Test batch number 13: 100%|██████████| 13/13 [00:03<00:00,  3.85batches/s]\n"
     ]
    },
    {
     "name": "stdout",
     "output_type": "stream",
     "text": [
      "\n",
      "Metrics: {'train_loss': 0.008188735574338059, 'test_loss': 2.029451324389531, 'bleu': 19.8069, 'gen_len': 9.9242}\n",
      "\n",
      "=============================\n",
      "\n"
     ]
    },
    {
     "name": "stderr",
     "output_type": "stream",
     "text": [
      " 72%|███████▏  | 157/217 [47:49<18:00, 18.00s/it]"
     ]
    },
    {
     "name": "stdout",
     "output_type": "stream",
     "text": [
      "For epoch 241: \n",
      "{Learning rate: [0.0024262207409748663]}\n"
     ]
    },
    {
     "name": "stderr",
     "output_type": "stream",
     "text": [
      "Train batch number 99: 100%|██████████| 99/99 [00:12<00:00,  7.76batches/s]\n",
      "Test batch number 13: 100%|██████████| 13/13 [00:03<00:00,  3.90batches/s]\n"
     ]
    },
    {
     "name": "stdout",
     "output_type": "stream",
     "text": [
      "\n",
      "Metrics: {'train_loss': 0.007843831434112155, 'test_loss': 2.0247487104856052, 'bleu': 20.8958, 'gen_len': 9.7071}\n",
      "\n",
      "=============================\n",
      "\n"
     ]
    },
    {
     "name": "stderr",
     "output_type": "stream",
     "text": [
      " 73%|███████▎  | 158/217 [48:07<17:39, 17.95s/it]"
     ]
    },
    {
     "name": "stdout",
     "output_type": "stream",
     "text": [
      "For epoch 242: \n",
      "{Learning rate: [0.0024215951654131926]}\n"
     ]
    },
    {
     "name": "stderr",
     "output_type": "stream",
     "text": [
      "Train batch number 99: 100%|██████████| 99/99 [00:12<00:00,  7.68batches/s]\n",
      "Test batch number 13: 100%|██████████| 13/13 [00:03<00:00,  3.94batches/s]\n"
     ]
    },
    {
     "name": "stdout",
     "output_type": "stream",
     "text": [
      "\n",
      "Metrics: {'train_loss': 0.00825104989332495, 'test_loss': 2.0133849657498875, 'bleu': 20.6846, 'gen_len': 9.7626}\n",
      "\n",
      "=============================\n",
      "\n"
     ]
    },
    {
     "name": "stderr",
     "output_type": "stream",
     "text": [
      " 73%|███████▎  | 159/217 [48:25<17:20, 17.95s/it]"
     ]
    },
    {
     "name": "stdout",
     "output_type": "stream",
     "text": [
      "For epoch 243: \n",
      "{Learning rate: [0.002416956189320739]}\n"
     ]
    },
    {
     "name": "stderr",
     "output_type": "stream",
     "text": [
      "Train batch number 99: 100%|██████████| 99/99 [00:12<00:00,  7.73batches/s]\n",
      "Test batch number 13: 100%|██████████| 13/13 [00:03<00:00,  3.95batches/s]\n"
     ]
    },
    {
     "name": "stdout",
     "output_type": "stream",
     "text": [
      "\n",
      "Metrics: {'train_loss': 0.008085918599255195, 'test_loss': 2.015368204850417, 'bleu': 21.2813, 'gen_len': 9.9343}\n",
      "\n",
      "=============================\n",
      "\n"
     ]
    },
    {
     "name": "stderr",
     "output_type": "stream",
     "text": [
      " 74%|███████▎  | 160/217 [48:43<17:00, 17.91s/it]"
     ]
    },
    {
     "name": "stdout",
     "output_type": "stream",
     "text": [
      "For epoch 244: \n",
      "{Learning rate: [0.002412303881014471]}\n"
     ]
    },
    {
     "name": "stderr",
     "output_type": "stream",
     "text": [
      "Train batch number 99: 100%|██████████| 99/99 [00:12<00:00,  7.75batches/s]\n",
      "Test batch number 13: 100%|██████████| 13/13 [00:03<00:00,  4.08batches/s]\n"
     ]
    },
    {
     "name": "stdout",
     "output_type": "stream",
     "text": [
      "\n",
      "Metrics: {'train_loss': 0.00829220226450795, 'test_loss': 2.0232076003001285, 'bleu': 21.2978, 'gen_len': 9.7121}\n",
      "\n",
      "=============================\n",
      "\n"
     ]
    },
    {
     "name": "stderr",
     "output_type": "stream",
     "text": [
      " 74%|███████▍  | 161/217 [49:00<16:39, 17.85s/it]"
     ]
    },
    {
     "name": "stdout",
     "output_type": "stream",
     "text": [
      "For epoch 245: \n",
      "{Learning rate: [0.002407638309007694]}\n"
     ]
    },
    {
     "name": "stderr",
     "output_type": "stream",
     "text": [
      "Train batch number 99: 100%|██████████| 99/99 [00:13<00:00,  7.57batches/s]\n",
      "Test batch number 13: 100%|██████████| 13/13 [00:03<00:00,  3.83batches/s]\n"
     ]
    },
    {
     "name": "stdout",
     "output_type": "stream",
     "text": [
      "\n",
      "Metrics: {'train_loss': 0.008649928265397032, 'test_loss': 1.9919379766170795, 'bleu': 20.9578, 'gen_len': 9.8182}\n",
      "\n",
      "=============================\n",
      "\n"
     ]
    },
    {
     "name": "stderr",
     "output_type": "stream",
     "text": [
      " 75%|███████▍  | 162/217 [49:19<16:27, 17.96s/it]"
     ]
    },
    {
     "name": "stdout",
     "output_type": "stream",
     "text": [
      "For epoch 246: \n",
      "{Learning rate: [0.0024029595420090436]}\n"
     ]
    },
    {
     "name": "stderr",
     "output_type": "stream",
     "text": [
      "Train batch number 99: 100%|██████████| 99/99 [00:14<00:00,  6.79batches/s]\n",
      "Test batch number 13: 100%|██████████| 13/13 [00:03<00:00,  3.81batches/s]\n"
     ]
    },
    {
     "name": "stdout",
     "output_type": "stream",
     "text": [
      "\n",
      "Metrics: {'train_loss': 0.008590388128526904, 'test_loss': 2.0236206513184767, 'bleu': 21.1358, 'gen_len': 9.8788}\n",
      "\n",
      "=============================\n",
      "\n"
     ]
    },
    {
     "name": "stderr",
     "output_type": "stream",
     "text": [
      " 75%|███████▌  | 163/217 [49:38<16:38, 18.49s/it]"
     ]
    },
    {
     "name": "stdout",
     "output_type": "stream",
     "text": [
      "For epoch 247: \n",
      "{Learning rate: [0.002398267648921476]}\n"
     ]
    },
    {
     "name": "stderr",
     "output_type": "stream",
     "text": [
      "Train batch number 99: 100%|██████████| 99/99 [00:13<00:00,  7.59batches/s]\n",
      "Test batch number 13: 100%|██████████| 13/13 [00:03<00:00,  3.97batches/s]\n"
     ]
    },
    {
     "name": "stdout",
     "output_type": "stream",
     "text": [
      "\n",
      "Metrics: {'train_loss': 0.008623159938842303, 'test_loss': 2.01116550885714, 'bleu': 20.7441, 'gen_len': 9.7172}\n",
      "\n",
      "=============================\n",
      "\n"
     ]
    },
    {
     "name": "stderr",
     "output_type": "stream",
     "text": [
      " 76%|███████▌  | 164/217 [49:56<16:13, 18.36s/it]"
     ]
    },
    {
     "name": "stdout",
     "output_type": "stream",
     "text": [
      "For epoch 248: \n",
      "{Learning rate: [0.0023935626988412497]}\n"
     ]
    },
    {
     "name": "stderr",
     "output_type": "stream",
     "text": [
      "Train batch number 99: 100%|██████████| 99/99 [00:12<00:00,  7.68batches/s]\n",
      "Test batch number 13: 100%|██████████| 13/13 [00:03<00:00,  3.82batches/s]\n"
     ]
    },
    {
     "name": "stdout",
     "output_type": "stream",
     "text": [
      "\n",
      "Metrics: {'train_loss': 0.007929054252930324, 'test_loss': 2.024673636143024, 'bleu': 20.6055, 'gen_len': 9.8838}\n",
      "\n",
      "=============================\n",
      "\n"
     ]
    },
    {
     "name": "stderr",
     "output_type": "stream",
     "text": [
      " 76%|███████▌  | 165/217 [50:14<15:49, 18.26s/it]"
     ]
    },
    {
     "name": "stdout",
     "output_type": "stream",
     "text": [
      "For epoch 249: \n",
      "{Learning rate: [0.0023888447610569117]}\n"
     ]
    },
    {
     "name": "stderr",
     "output_type": "stream",
     "text": [
      "Train batch number 99: 100%|██████████| 99/99 [00:12<00:00,  7.69batches/s]\n",
      "Test batch number 13: 100%|██████████| 13/13 [00:03<00:00,  3.68batches/s]\n"
     ]
    },
    {
     "name": "stdout",
     "output_type": "stream",
     "text": [
      "\n",
      "Metrics: {'train_loss': 0.007920725821432743, 'test_loss': 2.0360371516301083, 'bleu': 20.8598, 'gen_len': 9.8838}\n",
      "\n",
      "=============================\n",
      "\n"
     ]
    },
    {
     "name": "stderr",
     "output_type": "stream",
     "text": [
      " 76%|███████▋  | 166/217 [50:33<15:29, 18.23s/it]"
     ]
    },
    {
     "name": "stdout",
     "output_type": "stream",
     "text": [
      "For epoch 250: \n",
      "{Learning rate: [0.0023841139050482752]}\n"
     ]
    },
    {
     "name": "stderr",
     "output_type": "stream",
     "text": [
      "Train batch number 99: 100%|██████████| 99/99 [00:13<00:00,  7.52batches/s]\n",
      "Test batch number 13: 100%|██████████| 13/13 [00:03<00:00,  3.89batches/s]\n"
     ]
    },
    {
     "name": "stdout",
     "output_type": "stream",
     "text": [
      "\n",
      "Metrics: {'train_loss': 0.008227484984819617, 'test_loss': 1.9731329496090229, 'bleu': 20.9085, 'gen_len': 9.9091}\n",
      "\n",
      "=============================\n",
      "\n"
     ]
    },
    {
     "name": "stderr",
     "output_type": "stream",
     "text": [
      " 77%|███████▋  | 167/217 [50:51<15:11, 18.24s/it]"
     ]
    },
    {
     "name": "stdout",
     "output_type": "stream",
     "text": [
      "For epoch 251: \n",
      "{Learning rate: [0.0023793702004853952]}\n"
     ]
    },
    {
     "name": "stderr",
     "output_type": "stream",
     "text": [
      "Train batch number 99: 100%|██████████| 99/99 [00:13<00:00,  7.58batches/s]\n",
      "Test batch number 13: 100%|██████████| 13/13 [00:03<00:00,  3.82batches/s]\n"
     ]
    },
    {
     "name": "stdout",
     "output_type": "stream",
     "text": [
      "\n",
      "Metrics: {'train_loss': 0.008362958304151291, 'test_loss': 2.0167664931370664, 'bleu': 20.8107, 'gen_len': 9.8788}\n",
      "\n",
      "=============================\n",
      "\n"
     ]
    },
    {
     "name": "stderr",
     "output_type": "stream",
     "text": [
      " 77%|███████▋  | 168/217 [51:09<14:53, 18.23s/it]"
     ]
    },
    {
     "name": "stdout",
     "output_type": "stream",
     "text": [
      "For epoch 252: \n",
      "{Learning rate: [0.002374613717227547]}\n"
     ]
    },
    {
     "name": "stderr",
     "output_type": "stream",
     "text": [
      "Train batch number 99: 100%|██████████| 99/99 [00:12<00:00,  7.80batches/s]\n",
      "Test batch number 13: 100%|██████████| 13/13 [00:03<00:00,  3.78batches/s]\n"
     ]
    },
    {
     "name": "stdout",
     "output_type": "stream",
     "text": [
      "\n",
      "Metrics: {'train_loss': 0.007981906159348184, 'test_loss': 2.009434067285978, 'bleu': 21.517, 'gen_len': 9.8535}\n",
      "\n",
      "=============================\n",
      "\n"
     ]
    },
    {
     "name": "stderr",
     "output_type": "stream",
     "text": [
      " 78%|███████▊  | 169/217 [51:27<14:29, 18.12s/it]"
     ]
    },
    {
     "name": "stdout",
     "output_type": "stream",
     "text": [
      "For epoch 253: \n",
      "{Learning rate: [0.002369844525322191]}\n"
     ]
    },
    {
     "name": "stderr",
     "output_type": "stream",
     "text": [
      "Train batch number 99: 100%|██████████| 99/99 [00:12<00:00,  7.62batches/s]\n",
      "Test batch number 13: 100%|██████████| 13/13 [00:03<00:00,  3.95batches/s]\n"
     ]
    },
    {
     "name": "stdout",
     "output_type": "stream",
     "text": [
      "\n",
      "Metrics: {'train_loss': 0.008127196278597105, 'test_loss': 2.001482890202449, 'bleu': 20.4955, 'gen_len': 9.9091}\n",
      "\n",
      "=============================\n",
      "\n"
     ]
    },
    {
     "name": "stderr",
     "output_type": "stream",
     "text": [
      " 78%|███████▊  | 170/217 [51:45<14:14, 18.17s/it]"
     ]
    },
    {
     "name": "stdout",
     "output_type": "stream",
     "text": [
      "For epoch 254: \n",
      "{Learning rate: [0.002365062695003947]}\n"
     ]
    },
    {
     "name": "stderr",
     "output_type": "stream",
     "text": [
      "Train batch number 99: 100%|██████████| 99/99 [00:12<00:00,  7.69batches/s]\n",
      "Test batch number 13: 100%|██████████| 13/13 [00:03<00:00,  3.82batches/s]\n"
     ]
    },
    {
     "name": "stdout",
     "output_type": "stream",
     "text": [
      "\n",
      "Metrics: {'train_loss': 0.007667740278070642, 'test_loss': 2.0101281037697425, 'bleu': 21.0015, 'gen_len': 9.9444}\n",
      "\n",
      "=============================\n",
      "\n"
     ]
    },
    {
     "name": "stderr",
     "output_type": "stream",
     "text": [
      " 79%|███████▉  | 171/217 [52:03<13:53, 18.13s/it]"
     ]
    },
    {
     "name": "stdout",
     "output_type": "stream",
     "text": [
      "For epoch 255: \n",
      "{Learning rate: [0.002360268296693555]}\n"
     ]
    },
    {
     "name": "stderr",
     "output_type": "stream",
     "text": [
      "Train batch number 99: 100%|██████████| 99/99 [00:12<00:00,  7.66batches/s]\n",
      "Test batch number 13: 100%|██████████| 13/13 [00:03<00:00,  3.84batches/s]\n"
     ]
    },
    {
     "name": "stdout",
     "output_type": "stream",
     "text": [
      "\n",
      "Metrics: {'train_loss': 0.008022236710677694, 'test_loss': 1.9960853595000048, 'bleu': 20.8573, 'gen_len': 9.7727}\n",
      "\n",
      "=============================\n",
      "\n"
     ]
    },
    {
     "name": "stderr",
     "output_type": "stream",
     "text": [
      " 79%|███████▉  | 172/217 [52:21<13:34, 18.10s/it]"
     ]
    },
    {
     "name": "stdout",
     "output_type": "stream",
     "text": [
      "For epoch 256: \n",
      "{Learning rate: [0.0023554614009968435]}\n"
     ]
    },
    {
     "name": "stderr",
     "output_type": "stream",
     "text": [
      "Train batch number 99: 100%|██████████| 99/99 [00:12<00:00,  7.74batches/s]\n",
      "Test batch number 13: 100%|██████████| 13/13 [00:03<00:00,  3.82batches/s]\n"
     ]
    },
    {
     "name": "stdout",
     "output_type": "stream",
     "text": [
      "\n",
      "Metrics: {'train_loss': 0.00789300915714579, 'test_loss': 2.0104452188198385, 'bleu': 21.4363, 'gen_len': 9.6919}\n",
      "\n",
      "=============================\n",
      "\n"
     ]
    },
    {
     "name": "stderr",
     "output_type": "stream",
     "text": [
      " 80%|███████▉  | 173/217 [52:39<13:14, 18.05s/it]"
     ]
    },
    {
     "name": "stdout",
     "output_type": "stream",
     "text": [
      "For epoch 257: \n",
      "{Learning rate: [0.0023506420787036833]}\n"
     ]
    },
    {
     "name": "stderr",
     "output_type": "stream",
     "text": [
      "Train batch number 99: 100%|██████████| 99/99 [00:12<00:00,  7.66batches/s]\n",
      "Test batch number 13: 100%|██████████| 13/13 [00:03<00:00,  3.99batches/s]\n"
     ]
    },
    {
     "name": "stdout",
     "output_type": "stream",
     "text": [
      "\n",
      "Metrics: {'train_loss': 0.008100683133545887, 'test_loss': 2.010713054583623, 'bleu': 21.7592, 'gen_len': 9.7576}\n",
      "\n",
      "=============================\n",
      "\n"
     ]
    },
    {
     "name": "stderr",
     "output_type": "stream",
     "text": [
      " 80%|████████  | 174/217 [52:57<12:54, 18.01s/it]"
     ]
    },
    {
     "name": "stdout",
     "output_type": "stream",
     "text": [
      "For epoch 258: \n",
      "{Learning rate: [0.002345810400786951]}\n"
     ]
    },
    {
     "name": "stderr",
     "output_type": "stream",
     "text": [
      "Train batch number 99: 100%|██████████| 99/99 [00:12<00:00,  7.62batches/s]\n",
      "Test batch number 13: 100%|██████████| 13/13 [00:03<00:00,  3.69batches/s]\n"
     ]
    },
    {
     "name": "stdout",
     "output_type": "stream",
     "text": [
      "\n",
      "Metrics: {'train_loss': 0.007924244447488977, 'test_loss': 2.0090866730763364, 'bleu': 21.1201, 'gen_len': 9.8485}\n",
      "\n",
      "=============================\n",
      "\n"
     ]
    },
    {
     "name": "stderr",
     "output_type": "stream",
     "text": [
      " 81%|████████  | 175/217 [53:15<12:39, 18.08s/it]"
     ]
    },
    {
     "name": "stdout",
     "output_type": "stream",
     "text": [
      "For epoch 259: \n",
      "{Learning rate: [0.0023409664384014795]}\n"
     ]
    },
    {
     "name": "stderr",
     "output_type": "stream",
     "text": [
      "Train batch number 99: 100%|██████████| 99/99 [00:12<00:00,  7.69batches/s]\n",
      "Test batch number 13: 100%|██████████| 13/13 [00:03<00:00,  4.02batches/s]\n"
     ]
    },
    {
     "name": "stdout",
     "output_type": "stream",
     "text": [
      "\n",
      "Metrics: {'train_loss': 0.008154257669259389, 'test_loss': 2.0241747819460354, 'bleu': 21.4246, 'gen_len': 9.5758}\n",
      "\n",
      "=============================\n",
      "\n"
     ]
    },
    {
     "name": "stderr",
     "output_type": "stream",
     "text": [
      " 81%|████████  | 176/217 [53:33<12:18, 18.01s/it]"
     ]
    },
    {
     "name": "stdout",
     "output_type": "stream",
     "text": [
      "For epoch 260: \n",
      "{Learning rate: [0.0023361102628830133]}\n"
     ]
    },
    {
     "name": "stderr",
     "output_type": "stream",
     "text": [
      "Train batch number 99: 100%|██████████| 99/99 [00:13<00:00,  7.60batches/s]\n",
      "Test batch number 13: 100%|██████████| 13/13 [00:03<00:00,  3.89batches/s]\n"
     ]
    },
    {
     "name": "stdout",
     "output_type": "stream",
     "text": [
      "\n",
      "Metrics: {'train_loss': 0.008145739688629736, 'test_loss': 1.9981421690720778, 'bleu': 20.8005, 'gen_len': 9.8636}\n",
      "\n",
      "=============================\n",
      "\n"
     ]
    },
    {
     "name": "stderr",
     "output_type": "stream",
     "text": [
      " 82%|████████▏ | 177/217 [53:51<12:01, 18.04s/it]"
     ]
    },
    {
     "name": "stdout",
     "output_type": "stream",
     "text": [
      "For epoch 261: \n",
      "{Learning rate: [0.0023312419457471555]}\n"
     ]
    },
    {
     "name": "stderr",
     "output_type": "stream",
     "text": [
      "Train batch number 99: 100%|██████████| 99/99 [00:13<00:00,  7.61batches/s]\n",
      "Test batch number 13: 100%|██████████| 13/13 [00:03<00:00,  3.80batches/s]\n"
     ]
    },
    {
     "name": "stdout",
     "output_type": "stream",
     "text": [
      "\n",
      "Metrics: {'train_loss': 0.007587132231694543, 'test_loss': 2.005609007982107, 'bleu': 20.8507, 'gen_len': 9.697}\n",
      "\n",
      "=============================\n",
      "\n"
     ]
    },
    {
     "name": "stderr",
     "output_type": "stream",
     "text": [
      " 82%|████████▏ | 178/217 [54:09<11:45, 18.08s/it]"
     ]
    },
    {
     "name": "stdout",
     "output_type": "stream",
     "text": [
      "For epoch 262: \n",
      "{Learning rate: [0.0023263615586883142]}\n"
     ]
    },
    {
     "name": "stderr",
     "output_type": "stream",
     "text": [
      "Train batch number 99: 100%|██████████| 99/99 [00:12<00:00,  7.86batches/s]\n",
      "Test batch number 13: 100%|██████████| 13/13 [00:03<00:00,  4.01batches/s]\n"
     ]
    },
    {
     "name": "stdout",
     "output_type": "stream",
     "text": [
      "\n",
      "Metrics: {'train_loss': 0.007763802715062136, 'test_loss': 2.0144257820569553, 'bleu': 21.0599, 'gen_len': 9.8636}\n",
      "\n",
      "=============================\n",
      "\n"
     ]
    },
    {
     "name": "stderr",
     "output_type": "stream",
     "text": [
      " 82%|████████▏ | 179/217 [54:27<11:21, 17.94s/it]"
     ]
    },
    {
     "name": "stdout",
     "output_type": "stream",
     "text": [
      "For epoch 263: \n",
      "{Learning rate: [0.0023214691735786515]}\n"
     ]
    },
    {
     "name": "stderr",
     "output_type": "stream",
     "text": [
      "Train batch number 99: 100%|██████████| 99/99 [00:12<00:00,  7.70batches/s]\n",
      "Test batch number 13: 100%|██████████| 13/13 [00:03<00:00,  3.82batches/s]\n"
     ]
    },
    {
     "name": "stdout",
     "output_type": "stream",
     "text": [
      "\n",
      "Metrics: {'train_loss': 0.007643290310909953, 'test_loss': 2.009593761884249, 'bleu': 20.7134, 'gen_len': 9.7778}\n",
      "\n",
      "=============================\n",
      "\n"
     ]
    },
    {
     "name": "stderr",
     "output_type": "stream",
     "text": [
      " 83%|████████▎ | 180/217 [54:45<11:04, 17.95s/it]"
     ]
    },
    {
     "name": "stdout",
     "output_type": "stream",
     "text": [
      "For epoch 264: \n",
      "{Learning rate: [0.002316564862467019]}\n"
     ]
    },
    {
     "name": "stderr",
     "output_type": "stream",
     "text": [
      "Train batch number 99: 100%|██████████| 99/99 [00:12<00:00,  7.64batches/s]\n",
      "Test batch number 13: 100%|██████████| 13/13 [00:03<00:00,  4.11batches/s]\n"
     ]
    },
    {
     "name": "stdout",
     "output_type": "stream",
     "text": [
      "\n",
      "Metrics: {'train_loss': 0.007525200110970705, 'test_loss': 2.008841532927293, 'bleu': 21.0287, 'gen_len': 9.8081}\n",
      "\n",
      "=============================\n",
      "\n"
     ]
    },
    {
     "name": "stderr",
     "output_type": "stream",
     "text": [
      " 83%|████████▎ | 181/217 [55:03<10:45, 17.93s/it]"
     ]
    },
    {
     "name": "stdout",
     "output_type": "stream",
     "text": [
      "For epoch 265: \n",
      "{Learning rate: [0.0023116486975778994]}\n"
     ]
    },
    {
     "name": "stderr",
     "output_type": "stream",
     "text": [
      "Train batch number 99: 100%|██████████| 99/99 [00:12<00:00,  7.68batches/s]\n",
      "Test batch number 13: 100%|██████████| 13/13 [00:03<00:00,  4.10batches/s]\n"
     ]
    },
    {
     "name": "stdout",
     "output_type": "stream",
     "text": [
      "\n",
      "Metrics: {'train_loss': 0.007908088110994096, 'test_loss': 2.017921108465928, 'bleu': 21.2927, 'gen_len': 9.6263}\n",
      "\n",
      "=============================\n",
      "\n"
     ]
    },
    {
     "name": "stderr",
     "output_type": "stream",
     "text": [
      " 84%|████████▍ | 182/217 [55:21<10:26, 17.90s/it]"
     ]
    },
    {
     "name": "stdout",
     "output_type": "stream",
     "text": [
      "For epoch 266: \n",
      "{Learning rate: [0.0023067207513103446]}\n"
     ]
    },
    {
     "name": "stderr",
     "output_type": "stream",
     "text": [
      "Train batch number 99: 100%|██████████| 99/99 [00:12<00:00,  7.62batches/s]\n",
      "Test batch number 13: 100%|██████████| 13/13 [00:03<00:00,  3.82batches/s]\n"
     ]
    },
    {
     "name": "stdout",
     "output_type": "stream",
     "text": [
      "\n",
      "Metrics: {'train_loss': 0.007608262404289115, 'test_loss': 2.0335506200790405, 'bleu': 21.7212, 'gen_len': 9.8081}\n",
      "\n",
      "=============================\n",
      "\n"
     ]
    },
    {
     "name": "stderr",
     "output_type": "stream",
     "text": [
      " 84%|████████▍ | 183/217 [55:39<10:10, 17.97s/it]"
     ]
    },
    {
     "name": "stdout",
     "output_type": "stream",
     "text": [
      "For epoch 267: \n",
      "{Learning rate: [0.0023017810962369053]}\n"
     ]
    },
    {
     "name": "stderr",
     "output_type": "stream",
     "text": [
      "Train batch number 99: 100%|██████████| 99/99 [00:12<00:00,  7.63batches/s]\n",
      "Test batch number 13: 100%|██████████| 13/13 [00:03<00:00,  3.83batches/s]\n"
     ]
    },
    {
     "name": "stdout",
     "output_type": "stream",
     "text": [
      "\n",
      "Metrics: {'train_loss': 0.007916553696203563, 'test_loss': 2.0135143536787767, 'bleu': 21.219, 'gen_len': 9.8182}\n",
      "\n",
      "=============================\n",
      "\n"
     ]
    },
    {
     "name": "stderr",
     "output_type": "stream",
     "text": [
      " 85%|████████▍ | 184/217 [55:57<09:54, 18.02s/it]"
     ]
    },
    {
     "name": "stdout",
     "output_type": "stream",
     "text": [
      "For epoch 268: \n",
      "{Learning rate: [0.002296829805102567]}\n"
     ]
    },
    {
     "name": "stderr",
     "output_type": "stream",
     "text": [
      "Train batch number 99: 100%|██████████| 99/99 [00:13<00:00,  7.54batches/s]\n",
      "Test batch number 13: 100%|██████████| 13/13 [00:03<00:00,  4.01batches/s]\n"
     ]
    },
    {
     "name": "stdout",
     "output_type": "stream",
     "text": [
      "\n",
      "Metrics: {'train_loss': 0.007394819078417824, 'test_loss': 2.0330304549290585, 'bleu': 21.3911, 'gen_len': 9.7727}\n",
      "\n",
      "=============================\n",
      "\n"
     ]
    },
    {
     "name": "stderr",
     "output_type": "stream",
     "text": [
      " 85%|████████▌ | 185/217 [56:15<09:37, 18.04s/it]"
     ]
    },
    {
     "name": "stdout",
     "output_type": "stream",
     "text": [
      "For epoch 269: \n",
      "{Learning rate: [0.0022918669508236746]}\n"
     ]
    },
    {
     "name": "stderr",
     "output_type": "stream",
     "text": [
      "Train batch number 99: 100%|██████████| 99/99 [00:12<00:00,  7.68batches/s]\n",
      "Test batch number 13: 100%|██████████| 13/13 [00:03<00:00,  4.10batches/s]\n"
     ]
    },
    {
     "name": "stdout",
     "output_type": "stream",
     "text": [
      "\n",
      "Metrics: {'train_loss': 0.007782491767423867, 'test_loss': 2.0126864910125732, 'bleu': 21.8094, 'gen_len': 9.7879}\n",
      "\n",
      "=============================\n",
      "\n"
     ]
    },
    {
     "name": "stderr",
     "output_type": "stream",
     "text": [
      " 86%|████████▌ | 186/217 [56:33<09:16, 17.97s/it]"
     ]
    },
    {
     "name": "stdout",
     "output_type": "stream",
     "text": [
      "For epoch 270: \n",
      "{Learning rate: [0.0022868926064868607]}\n"
     ]
    },
    {
     "name": "stderr",
     "output_type": "stream",
     "text": [
      "Train batch number 99: 100%|██████████| 99/99 [00:13<00:00,  7.61batches/s]\n",
      "Test batch number 13: 100%|██████████| 13/13 [00:03<00:00,  3.94batches/s]\n"
     ]
    },
    {
     "name": "stdout",
     "output_type": "stream",
     "text": [
      "\n",
      "Metrics: {'train_loss': 0.007289479968768328, 'test_loss': 2.015666438983037, 'bleu': 21.8706, 'gen_len': 9.7626}\n",
      "\n",
      "=============================\n",
      "\n"
     ]
    },
    {
     "name": "stderr",
     "output_type": "stream",
     "text": [
      " 86%|████████▌ | 187/217 [56:51<08:59, 17.99s/it]"
     ]
    },
    {
     "name": "stdout",
     "output_type": "stream",
     "text": [
      "For epoch 271: \n",
      "{Learning rate: [0.00228190684534797]}\n"
     ]
    },
    {
     "name": "stderr",
     "output_type": "stream",
     "text": [
      "Train batch number 99: 100%|██████████| 99/99 [00:12<00:00,  7.66batches/s]\n",
      "Test batch number 13: 100%|██████████| 13/13 [00:03<00:00,  3.90batches/s]\n"
     ]
    },
    {
     "name": "stdout",
     "output_type": "stream",
     "text": [
      "\n",
      "Metrics: {'train_loss': 0.007549804446465016, 'test_loss': 2.0112565664144664, 'bleu': 21.2188, 'gen_len': 9.803}\n",
      "\n",
      "=============================\n",
      "\n"
     ]
    },
    {
     "name": "stderr",
     "output_type": "stream",
     "text": [
      " 87%|████████▋ | 188/217 [57:09<08:41, 17.99s/it]"
     ]
    },
    {
     "name": "stdout",
     "output_type": "stream",
     "text": [
      "For epoch 272: \n",
      "{Learning rate: [0.0022769097408309787]}\n"
     ]
    },
    {
     "name": "stderr",
     "output_type": "stream",
     "text": [
      "Train batch number 99: 100%|██████████| 99/99 [00:13<00:00,  7.55batches/s]\n",
      "Test batch number 13: 100%|██████████| 13/13 [00:03<00:00,  3.98batches/s]\n"
     ]
    },
    {
     "name": "stdout",
     "output_type": "stream",
     "text": [
      "\n",
      "Metrics: {'train_loss': 0.007473037452342911, 'test_loss': 2.0193564616716824, 'bleu': 21.2202, 'gen_len': 9.697}\n",
      "\n",
      "=============================\n",
      "\n"
     ]
    },
    {
     "name": "stderr",
     "output_type": "stream",
     "text": [
      " 87%|████████▋ | 189/217 [57:27<08:24, 18.03s/it]"
     ]
    },
    {
     "name": "stdout",
     "output_type": "stream",
     "text": [
      "For epoch 273: \n",
      "{Learning rate: [0.002271901366526913]}\n"
     ]
    },
    {
     "name": "stderr",
     "output_type": "stream",
     "text": [
      "Train batch number 99: 100%|██████████| 99/99 [00:13<00:00,  7.61batches/s]\n",
      "Test batch number 13: 100%|██████████| 13/13 [00:03<00:00,  3.95batches/s]\n"
     ]
    },
    {
     "name": "stdout",
     "output_type": "stream",
     "text": [
      "\n",
      "Metrics: {'train_loss': 0.00742401170480827, 'test_loss': 2.017874891941364, 'bleu': 21.3595, 'gen_len': 9.7525}\n",
      "\n",
      "=============================\n",
      "\n"
     ]
    },
    {
     "name": "stderr",
     "output_type": "stream",
     "text": [
      " 88%|████████▊ | 190/217 [57:45<08:06, 18.03s/it]"
     ]
    },
    {
     "name": "stdout",
     "output_type": "stream",
     "text": [
      "For epoch 274: \n",
      "{Learning rate: [0.0022668817961927685]}\n"
     ]
    },
    {
     "name": "stderr",
     "output_type": "stream",
     "text": [
      "Train batch number 99: 100%|██████████| 99/99 [00:12<00:00,  7.64batches/s]\n",
      "Test batch number 13: 100%|██████████| 13/13 [00:03<00:00,  3.89batches/s]\n"
     ]
    },
    {
     "name": "stdout",
     "output_type": "stream",
     "text": [
      "\n",
      "Metrics: {'train_loss': 0.007409966238709684, 'test_loss': 2.0153187971848707, 'bleu': 21.332, 'gen_len': 9.7778}\n",
      "\n",
      "=============================\n",
      "\n"
     ]
    },
    {
     "name": "stderr",
     "output_type": "stream",
     "text": [
      " 88%|████████▊ | 191/217 [58:03<07:48, 18.03s/it]"
     ]
    },
    {
     "name": "stdout",
     "output_type": "stream",
     "text": [
      "For epoch 275: \n",
      "{Learning rate: [0.0022618511037504193]}\n"
     ]
    },
    {
     "name": "stderr",
     "output_type": "stream",
     "text": [
      "Train batch number 99: 100%|██████████| 99/99 [00:12<00:00,  7.71batches/s]\n",
      "Test batch number 13: 100%|██████████| 13/13 [00:03<00:00,  4.02batches/s]\n"
     ]
    },
    {
     "name": "stdout",
     "output_type": "stream",
     "text": [
      "\n",
      "Metrics: {'train_loss': 0.007463585348997378, 'test_loss': 1.9956353444319506, 'bleu': 20.9818, 'gen_len': 9.7525}\n",
      "\n",
      "=============================\n",
      "\n"
     ]
    },
    {
     "name": "stderr",
     "output_type": "stream",
     "text": [
      " 88%|████████▊ | 192/217 [58:21<07:29, 17.96s/it]"
     ]
    },
    {
     "name": "stdout",
     "output_type": "stream",
     "text": [
      "For epoch 276: \n",
      "{Learning rate: [0.002256809363285533]}\n"
     ]
    },
    {
     "name": "stderr",
     "output_type": "stream",
     "text": [
      "Train batch number 99: 100%|██████████| 99/99 [00:13<00:00,  7.51batches/s]\n",
      "Test batch number 13: 100%|██████████| 13/13 [00:03<00:00,  3.87batches/s]\n"
     ]
    },
    {
     "name": "stdout",
     "output_type": "stream",
     "text": [
      "\n",
      "Metrics: {'train_loss': 0.0077988703622285166, 'test_loss': 2.0200826204740086, 'bleu': 21.4609, 'gen_len': 9.5505}\n",
      "\n",
      "=============================\n",
      "\n"
     ]
    },
    {
     "name": "stderr",
     "output_type": "stream",
     "text": [
      " 89%|████████▉ | 193/217 [58:39<07:13, 18.06s/it]"
     ]
    },
    {
     "name": "stdout",
     "output_type": "stream",
     "text": [
      "For epoch 277: \n",
      "{Learning rate: [0.0022517566490464786]}\n"
     ]
    },
    {
     "name": "stderr",
     "output_type": "stream",
     "text": [
      "Train batch number 99: 100%|██████████| 99/99 [00:13<00:00,  7.61batches/s]\n",
      "Test batch number 13: 100%|██████████| 13/13 [00:03<00:00,  4.07batches/s]\n"
     ]
    },
    {
     "name": "stdout",
     "output_type": "stream",
     "text": [
      "\n",
      "Metrics: {'train_loss': 0.007918315065902366, 'test_loss': 2.014645769045903, 'bleu': 20.9963, 'gen_len': 9.8182}\n",
      "\n",
      "=============================\n",
      "\n"
     ]
    },
    {
     "name": "stderr",
     "output_type": "stream",
     "text": [
      " 89%|████████▉ | 194/217 [58:57<06:54, 18.03s/it]"
     ]
    },
    {
     "name": "stdout",
     "output_type": "stream",
     "text": [
      "For epoch 278: \n",
      "{Learning rate: [0.0022466930354432322]}\n"
     ]
    },
    {
     "name": "stderr",
     "output_type": "stream",
     "text": [
      "Train batch number 99: 100%|██████████| 99/99 [00:12<00:00,  7.62batches/s]\n",
      "Test batch number 13: 100%|██████████| 13/13 [00:03<00:00,  4.00batches/s]\n"
     ]
    },
    {
     "name": "stdout",
     "output_type": "stream",
     "text": [
      "\n",
      "Metrics: {'train_loss': 0.007661163968309252, 'test_loss': 2.0368558168411255, 'bleu': 22.0905, 'gen_len': 9.6919}\n",
      "\n",
      "=============================\n",
      "\n"
     ]
    },
    {
     "name": "stderr",
     "output_type": "stream",
     "text": [
      " 90%|████████▉ | 195/217 [59:16<06:45, 18.42s/it]"
     ]
    },
    {
     "name": "stdout",
     "output_type": "stream",
     "text": [
      "For epoch 279: \n",
      "{Learning rate: [0.0022416185970462834]}\n"
     ]
    },
    {
     "name": "stderr",
     "output_type": "stream",
     "text": [
      "Train batch number 99: 100%|██████████| 99/99 [00:12<00:00,  7.79batches/s]\n",
      "Test batch number 13: 100%|██████████| 13/13 [00:03<00:00,  4.06batches/s]\n"
     ]
    },
    {
     "name": "stdout",
     "output_type": "stream",
     "text": [
      "\n",
      "Metrics: {'train_loss': 0.007816448767147394, 'test_loss': 2.012786324207599, 'bleu': 22.0446, 'gen_len': 9.7727}\n",
      "\n",
      "=============================\n",
      "\n"
     ]
    },
    {
     "name": "stderr",
     "output_type": "stream",
     "text": [
      " 90%|█████████ | 196/217 [59:34<06:21, 18.19s/it]"
     ]
    },
    {
     "name": "stdout",
     "output_type": "stream",
     "text": [
      "For epoch 280: \n",
      "{Learning rate: [0.0022365334085855345]}\n"
     ]
    },
    {
     "name": "stderr",
     "output_type": "stream",
     "text": [
      "Train batch number 99: 100%|██████████| 99/99 [00:12<00:00,  7.69batches/s]\n",
      "Test batch number 13: 100%|██████████| 13/13 [00:03<00:00,  3.97batches/s]\n"
     ]
    },
    {
     "name": "stdout",
     "output_type": "stream",
     "text": [
      "\n",
      "Metrics: {'train_loss': 0.007606699652358362, 'test_loss': 1.9973454750501192, 'bleu': 22.6958, 'gen_len': 9.8434}\n",
      "\n",
      "=============================\n",
      "\n"
     ]
    },
    {
     "name": "stderr",
     "output_type": "stream",
     "text": [
      " 91%|█████████ | 197/217 [59:53<06:10, 18.51s/it]"
     ]
    },
    {
     "name": "stdout",
     "output_type": "stream",
     "text": [
      "For epoch 281: \n",
      "{Learning rate: [0.0022314375449492005]}\n"
     ]
    },
    {
     "name": "stderr",
     "output_type": "stream",
     "text": [
      "Train batch number 99: 100%|██████████| 99/99 [00:12<00:00,  7.71batches/s]\n",
      "Test batch number 13: 100%|██████████| 13/13 [00:03<00:00,  3.96batches/s]\n"
     ]
    },
    {
     "name": "stdout",
     "output_type": "stream",
     "text": [
      "\n",
      "Metrics: {'train_loss': 0.008133093333324522, 'test_loss': 2.0113977835728574, 'bleu': 22.282, 'gen_len': 9.8788}\n",
      "\n",
      "=============================\n",
      "\n"
     ]
    },
    {
     "name": "stderr",
     "output_type": "stream",
     "text": [
      " 91%|█████████ | 198/217 [1:00:11<05:47, 18.31s/it]"
     ]
    },
    {
     "name": "stdout",
     "output_type": "stream",
     "text": [
      "For epoch 282: \n",
      "{Learning rate: [0.002226331081182709]}\n"
     ]
    },
    {
     "name": "stderr",
     "output_type": "stream",
     "text": [
      "Train batch number 99: 100%|██████████| 99/99 [00:13<00:00,  7.56batches/s]\n",
      "Test batch number 13: 100%|██████████| 13/13 [00:03<00:00,  4.16batches/s]\n"
     ]
    },
    {
     "name": "stdout",
     "output_type": "stream",
     "text": [
      "\n",
      "Metrics: {'train_loss': 0.008042501809835114, 'test_loss': 2.0189579816964955, 'bleu': 22.4644, 'gen_len': 9.6465}\n",
      "\n",
      "=============================\n",
      "\n"
     ]
    },
    {
     "name": "stderr",
     "output_type": "stream",
     "text": [
      " 92%|█████████▏| 199/217 [1:00:29<05:27, 18.20s/it]"
     ]
    },
    {
     "name": "stdout",
     "output_type": "stream",
     "text": [
      "For epoch 283: \n",
      "{Learning rate: [0.0022212140924875896]}\n"
     ]
    },
    {
     "name": "stderr",
     "output_type": "stream",
     "text": [
      "Train batch number 99: 100%|██████████| 99/99 [00:12<00:00,  7.65batches/s]\n",
      "Test batch number 13: 100%|██████████| 13/13 [00:03<00:00,  4.11batches/s]\n"
     ]
    },
    {
     "name": "stdout",
     "output_type": "stream",
     "text": [
      "\n",
      "Metrics: {'train_loss': 0.007469621122429016, 'test_loss': 2.0326482424369225, 'bleu': 22.7364, 'gen_len': 9.697}\n",
      "\n",
      "=============================\n",
      "\n"
     ]
    },
    {
     "name": "stderr",
     "output_type": "stream",
     "text": [
      " 92%|█████████▏| 200/217 [1:00:48<05:14, 18.50s/it]"
     ]
    },
    {
     "name": "stdout",
     "output_type": "stream",
     "text": [
      "For epoch 284: \n",
      "{Learning rate: [0.002216086654220374]}\n"
     ]
    },
    {
     "name": "stderr",
     "output_type": "stream",
     "text": [
      "Train batch number 99: 100%|██████████| 99/99 [00:13<00:00,  7.61batches/s]\n",
      "Test batch number 13: 100%|██████████| 13/13 [00:03<00:00,  4.11batches/s]\n"
     ]
    },
    {
     "name": "stdout",
     "output_type": "stream",
     "text": [
      "\n",
      "Metrics: {'train_loss': 0.007325995528854129, 'test_loss': 2.0288621278909535, 'bleu': 22.2651, 'gen_len': 9.9141}\n",
      "\n",
      "=============================\n",
      "\n"
     ]
    },
    {
     "name": "stderr",
     "output_type": "stream",
     "text": [
      " 93%|█████████▎| 201/217 [1:01:06<04:53, 18.33s/it]"
     ]
    },
    {
     "name": "stdout",
     "output_type": "stream",
     "text": [
      "For epoch 285: \n",
      "{Learning rate: [0.0022109488418914783]}\n"
     ]
    },
    {
     "name": "stderr",
     "output_type": "stream",
     "text": [
      "Train batch number 99: 100%|██████████| 99/99 [00:13<00:00,  7.50batches/s]\n",
      "Test batch number 13: 100%|██████████| 13/13 [00:03<00:00,  4.06batches/s]\n"
     ]
    },
    {
     "name": "stdout",
     "output_type": "stream",
     "text": [
      "\n",
      "Metrics: {'train_loss': 0.00784063293843182, 'test_loss': 2.027608027824989, 'bleu': 22.6316, 'gen_len': 9.7071}\n",
      "\n",
      "=============================\n",
      "\n"
     ]
    },
    {
     "name": "stderr",
     "output_type": "stream",
     "text": [
      " 93%|█████████▎| 202/217 [1:01:24<04:34, 18.27s/it]"
     ]
    },
    {
     "name": "stdout",
     "output_type": "stream",
     "text": [
      "For epoch 286: \n",
      "{Learning rate: [0.0022058007311640962]}\n"
     ]
    },
    {
     "name": "stderr",
     "output_type": "stream",
     "text": [
      "Train batch number 99: 100%|██████████| 99/99 [00:12<00:00,  7.72batches/s]\n",
      "Test batch number 13: 100%|██████████| 13/13 [00:03<00:00,  4.03batches/s]\n"
     ]
    },
    {
     "name": "stdout",
     "output_type": "stream",
     "text": [
      "\n",
      "Metrics: {'train_loss': 0.0075678292781260394, 'test_loss': 2.0284511217704186, 'bleu': 21.3322, 'gen_len': 9.8081}\n",
      "\n",
      "=============================\n",
      "\n"
     ]
    },
    {
     "name": "stderr",
     "output_type": "stream",
     "text": [
      " 94%|█████████▎| 203/217 [1:01:42<04:13, 18.13s/it]"
     ]
    },
    {
     "name": "stdout",
     "output_type": "stream",
     "text": [
      "For epoch 287: \n",
      "{Learning rate: [0.002200642397853084]}\n"
     ]
    },
    {
     "name": "stderr",
     "output_type": "stream",
     "text": [
      "Train batch number 99: 100%|██████████| 99/99 [00:12<00:00,  7.64batches/s]\n",
      "Test batch number 13: 100%|██████████| 13/13 [00:03<00:00,  4.26batches/s]\n"
     ]
    },
    {
     "name": "stdout",
     "output_type": "stream",
     "text": [
      "\n",
      "Metrics: {'train_loss': 0.0071939105735950625, 'test_loss': 2.041399497252244, 'bleu': 20.4536, 'gen_len': 9.9545}\n",
      "\n",
      "=============================\n",
      "\n"
     ]
    },
    {
     "name": "stderr",
     "output_type": "stream",
     "text": [
      " 94%|█████████▍| 204/217 [1:02:00<03:54, 18.01s/it]"
     ]
    },
    {
     "name": "stdout",
     "output_type": "stream",
     "text": [
      "For epoch 288: \n",
      "{Learning rate: [0.002195473917923841]}\n"
     ]
    },
    {
     "name": "stderr",
     "output_type": "stream",
     "text": [
      "Train batch number 99: 100%|██████████| 99/99 [00:12<00:00,  7.63batches/s]\n",
      "Test batch number 13: 100%|██████████| 13/13 [00:03<00:00,  4.00batches/s]\n"
     ]
    },
    {
     "name": "stdout",
     "output_type": "stream",
     "text": [
      "\n",
      "Metrics: {'train_loss': 0.007304803176366752, 'test_loss': 2.026079003627484, 'bleu': 21.8748, 'gen_len': 9.9293}\n",
      "\n",
      "=============================\n",
      "\n"
     ]
    },
    {
     "name": "stderr",
     "output_type": "stream",
     "text": [
      " 94%|█████████▍| 205/217 [1:02:18<03:36, 18.00s/it]"
     ]
    },
    {
     "name": "stdout",
     "output_type": "stream",
     "text": [
      "For epoch 289: \n",
      "{Learning rate: [0.0021902953674911947]}\n"
     ]
    },
    {
     "name": "stderr",
     "output_type": "stream",
     "text": [
      "Train batch number 99: 100%|██████████| 99/99 [00:13<00:00,  7.53batches/s]\n",
      "Test batch number 13: 100%|██████████| 13/13 [00:03<00:00,  4.14batches/s]\n"
     ]
    },
    {
     "name": "stdout",
     "output_type": "stream",
     "text": [
      "\n",
      "Metrics: {'train_loss': 0.007200874211537096, 'test_loss': 2.0198957920074463, 'bleu': 20.8201, 'gen_len': 9.8737}\n",
      "\n",
      "=============================\n",
      "\n"
     ]
    },
    {
     "name": "stderr",
     "output_type": "stream",
     "text": [
      " 95%|█████████▍| 206/217 [1:02:36<03:18, 18.00s/it]"
     ]
    },
    {
     "name": "stdout",
     "output_type": "stream",
     "text": [
      "For epoch 290: \n",
      "{Learning rate: [0.0021851068228182775]}\n"
     ]
    },
    {
     "name": "stderr",
     "output_type": "stream",
     "text": [
      "Train batch number 99: 100%|██████████| 99/99 [00:13<00:00,  7.60batches/s]\n",
      "Test batch number 13: 100%|██████████| 13/13 [00:03<00:00,  3.97batches/s]\n"
     ]
    },
    {
     "name": "stdout",
     "output_type": "stream",
     "text": [
      "\n",
      "Metrics: {'train_loss': 0.007298678685346562, 'test_loss': 2.028487746532147, 'bleu': 21.5821, 'gen_len': 9.8737}\n",
      "\n",
      "=============================\n",
      "\n"
     ]
    },
    {
     "name": "stderr",
     "output_type": "stream",
     "text": [
      " 95%|█████████▌| 207/217 [1:02:54<03:00, 18.01s/it]"
     ]
    },
    {
     "name": "stdout",
     "output_type": "stream",
     "text": [
      "For epoch 291: \n",
      "{Learning rate: [0.002179908360315406]}\n"
     ]
    },
    {
     "name": "stderr",
     "output_type": "stream",
     "text": [
      "Train batch number 99: 100%|██████████| 99/99 [00:12<00:00,  7.63batches/s]\n",
      "Test batch number 13: 100%|██████████| 13/13 [00:03<00:00,  3.98batches/s]\n"
     ]
    },
    {
     "name": "stdout",
     "output_type": "stream",
     "text": [
      "\n",
      "Metrics: {'train_loss': 0.007243246463012195, 'test_loss': 2.02451883829557, 'bleu': 21.5791, 'gen_len': 10.0}\n",
      "\n",
      "=============================\n",
      "\n"
     ]
    },
    {
     "name": "stderr",
     "output_type": "stream",
     "text": [
      " 96%|█████████▌| 208/217 [1:03:12<02:42, 18.00s/it]"
     ]
    },
    {
     "name": "stdout",
     "output_type": "stream",
     "text": [
      "For epoch 292: \n",
      "{Learning rate: [0.002174700056538951]}\n"
     ]
    },
    {
     "name": "stderr",
     "output_type": "stream",
     "text": [
      "Train batch number 99: 100%|██████████| 99/99 [00:12<00:00,  7.71batches/s]\n",
      "Test batch number 13: 100%|██████████| 13/13 [00:03<00:00,  4.12batches/s]\n"
     ]
    },
    {
     "name": "stdout",
     "output_type": "stream",
     "text": [
      "\n",
      "Metrics: {'train_loss': 0.007548081971389816, 'test_loss': 2.027102461228004, 'bleu': 20.9591, 'gen_len': 10.0303}\n",
      "\n",
      "=============================\n",
      "\n"
     ]
    },
    {
     "name": "stderr",
     "output_type": "stream",
     "text": [
      " 96%|█████████▋| 209/217 [1:03:30<02:23, 17.92s/it]"
     ]
    },
    {
     "name": "stdout",
     "output_type": "stream",
     "text": [
      "For epoch 293: \n",
      "{Learning rate: [0.0021694819881902154]}\n"
     ]
    },
    {
     "name": "stderr",
     "output_type": "stream",
     "text": [
      "Train batch number 99: 100%|██████████| 99/99 [00:12<00:00,  7.75batches/s]\n",
      "Test batch number 13: 100%|██████████| 13/13 [00:03<00:00,  3.88batches/s]\n"
     ]
    },
    {
     "name": "stdout",
     "output_type": "stream",
     "text": [
      "\n",
      "Metrics: {'train_loss': 0.00767351710649132, 'test_loss': 2.007262871815608, 'bleu': 20.5939, 'gen_len': 9.7424}\n",
      "\n",
      "=============================\n",
      "\n"
     ]
    },
    {
     "name": "stderr",
     "output_type": "stream",
     "text": [
      " 97%|█████████▋| 210/217 [1:03:48<02:05, 17.90s/it]"
     ]
    },
    {
     "name": "stdout",
     "output_type": "stream",
     "text": [
      "For epoch 294: \n",
      "{Learning rate: [0.002164254232114302]}\n"
     ]
    },
    {
     "name": "stderr",
     "output_type": "stream",
     "text": [
      "Train batch number 99: 100%|██████████| 99/99 [00:13<00:00,  7.60batches/s]\n",
      "Test batch number 13: 100%|██████████| 13/13 [00:03<00:00,  3.98batches/s]\n"
     ]
    },
    {
     "name": "stdout",
     "output_type": "stream",
     "text": [
      "\n",
      "Metrics: {'train_loss': 0.00771450131280216, 'test_loss': 2.025987927730267, 'bleu': 21.5691, 'gen_len': 9.7222}\n",
      "\n",
      "=============================\n",
      "\n"
     ]
    },
    {
     "name": "stderr",
     "output_type": "stream",
     "text": [
      " 97%|█████████▋| 211/217 [1:04:06<01:47, 17.94s/it]"
     ]
    },
    {
     "name": "stdout",
     "output_type": "stream",
     "text": [
      "For epoch 295: \n",
      "{Learning rate: [0.0021590168652989824]}\n"
     ]
    },
    {
     "name": "stderr",
     "output_type": "stream",
     "text": [
      "Train batch number 99: 100%|██████████| 99/99 [00:12<00:00,  7.70batches/s]\n",
      "Test batch number 13: 100%|██████████| 13/13 [00:03<00:00,  3.76batches/s]\n"
     ]
    },
    {
     "name": "stdout",
     "output_type": "stream",
     "text": [
      "\n",
      "Metrics: {'train_loss': 0.007381112227155215, 'test_loss': 2.0208593056752133, 'bleu': 21.2178, 'gen_len': 9.8788}\n",
      "\n",
      "=============================\n",
      "\n"
     ]
    },
    {
     "name": "stderr",
     "output_type": "stream",
     "text": [
      " 98%|█████████▊| 212/217 [1:04:24<01:29, 17.97s/it]"
     ]
    },
    {
     "name": "stdout",
     "output_type": "stream",
     "text": [
      "For epoch 296: \n",
      "{Learning rate: [0.0021537699648735615]}\n"
     ]
    },
    {
     "name": "stderr",
     "output_type": "stream",
     "text": [
      "Train batch number 99: 100%|██████████| 99/99 [00:13<00:00,  7.53batches/s]\n",
      "Test batch number 13: 100%|██████████| 13/13 [00:03<00:00,  4.15batches/s]\n"
     ]
    },
    {
     "name": "stdout",
     "output_type": "stream",
     "text": [
      "\n",
      "Metrics: {'train_loss': 0.007452955363363009, 'test_loss': 2.023609234736516, 'bleu': 21.3963, 'gen_len': 9.7727}\n",
      "\n",
      "=============================\n",
      "\n"
     ]
    },
    {
     "name": "stderr",
     "output_type": "stream",
     "text": [
      " 98%|█████████▊| 213/217 [1:04:42<01:11, 17.99s/it]"
     ]
    },
    {
     "name": "stdout",
     "output_type": "stream",
     "text": [
      "For epoch 297: \n",
      "{Learning rate: [0.002148513608107745]}\n"
     ]
    },
    {
     "name": "stderr",
     "output_type": "stream",
     "text": [
      "Train batch number 99: 100%|██████████| 99/99 [00:12<00:00,  7.72batches/s]\n",
      "Test batch number 13: 100%|██████████| 13/13 [00:03<00:00,  3.91batches/s]\n"
     ]
    },
    {
     "name": "stdout",
     "output_type": "stream",
     "text": [
      "\n",
      "Metrics: {'train_loss': 0.007520157677877572, 'test_loss': 2.022245168685913, 'bleu': 21.172, 'gen_len': 9.9394}\n",
      "\n",
      "=============================\n",
      "\n"
     ]
    },
    {
     "name": "stderr",
     "output_type": "stream",
     "text": [
      " 99%|█████████▊| 214/217 [1:05:00<00:53, 17.96s/it]"
     ]
    },
    {
     "name": "stdout",
     "output_type": "stream",
     "text": [
      "For epoch 298: \n",
      "{Learning rate: [0.002143247872410497]}\n"
     ]
    },
    {
     "name": "stderr",
     "output_type": "stream",
     "text": [
      "Train batch number 99: 100%|██████████| 99/99 [00:12<00:00,  7.68batches/s]\n",
      "Test batch number 13: 100%|██████████| 13/13 [00:03<00:00,  3.74batches/s]\n"
     ]
    },
    {
     "name": "stdout",
     "output_type": "stream",
     "text": [
      "\n",
      "Metrics: {'train_loss': 0.007655088273094582, 'test_loss': 2.0491276520949144, 'bleu': 21.4376, 'gen_len': 9.8283}\n",
      "\n",
      "=============================\n",
      "\n"
     ]
    },
    {
     "name": "stderr",
     "output_type": "stream",
     "text": [
      " 99%|█████████▉| 215/217 [1:05:18<00:35, 18.00s/it]"
     ]
    },
    {
     "name": "stdout",
     "output_type": "stream",
     "text": [
      "For epoch 299: \n",
      "{Learning rate: [0.0021379728353289073]}\n"
     ]
    },
    {
     "name": "stderr",
     "output_type": "stream",
     "text": [
      "Train batch number 99: 100%|██████████| 99/99 [00:12<00:00,  7.74batches/s]\n",
      "Test batch number 13: 100%|██████████| 13/13 [00:03<00:00,  3.98batches/s]\n"
     ]
    },
    {
     "name": "stdout",
     "output_type": "stream",
     "text": [
      "\n",
      "Metrics: {'train_loss': 0.0073391875781876155, 'test_loss': 2.0285850121424747, 'bleu': 21.0652, 'gen_len': 9.7475}\n",
      "\n",
      "=============================\n",
      "\n"
     ]
    },
    {
     "name": "stderr",
     "output_type": "stream",
     "text": [
      "100%|█████████▉| 216/217 [1:05:35<00:17, 17.94s/it]"
     ]
    },
    {
     "name": "stdout",
     "output_type": "stream",
     "text": [
      "For epoch 300: \n",
      "{Learning rate: [0.0021326885745470395]}\n"
     ]
    },
    {
     "name": "stderr",
     "output_type": "stream",
     "text": [
      "Train batch number 99: 100%|██████████| 99/99 [00:12<00:00,  7.67batches/s]\n",
      "Test batch number 13: 100%|██████████| 13/13 [00:03<00:00,  3.94batches/s]\n"
     ]
    },
    {
     "name": "stdout",
     "output_type": "stream",
     "text": [
      "\n",
      "Metrics: {'train_loss': 0.007315988333147922, 'test_loss': 2.009385576614967, 'bleu': 21.0837, 'gen_len': 10.0859}\n",
      "\n",
      "=============================\n",
      "\n"
     ]
    },
    {
     "name": "stderr",
     "output_type": "stream",
     "text": [
      "100%|██████████| 217/217 [1:05:53<00:00, 18.22s/it]\n"
     ]
    }
   ],
   "source": [
    "trainer.train(epochs = config['epochs'] - trainer.current_epoch, auto_save=True, metric_for_best_model='bleu', metric_objective='maximize', log_step=1,\n",
    "              saving_directory = config['new_model_dir'])"
   ]
  },
  {
   "attachments": {},
   "cell_type": "markdown",
   "metadata": {},
   "source": [
    "### ---"
   ]
  },
  {
   "cell_type": "code",
   "execution_count": null,
   "metadata": {},
   "outputs": [
    {
     "name": "stderr",
     "output_type": "stream",
     "text": [
      "  0%|          | 0/200 [00:00<?, ?it/s]/home/ec2-user/anaconda3/envs/pytorch_p310/lib/python3.10/site-packages/torch/optim/lr_scheduler.py:265: UserWarning: To get the last learning rate computed by the scheduler, please use `get_last_lr()`.\n",
      "  warnings.warn(\"To get the last learning rate computed by the scheduler, \"\n"
     ]
    },
    {
     "name": "stdout",
     "output_type": "stream",
     "text": [
      "For epoch 301: \n",
      "{Learning rate: [0.0021273951678847957]}\n"
     ]
    },
    {
     "name": "stderr",
     "output_type": "stream",
     "text": [
      "Train batch number 99: 100%|██████████| 99/99 [00:12<00:00,  7.81batches/s]\n",
      "Test batch number 13: 100%|██████████| 13/13 [00:03<00:00,  3.89batches/s]\n"
     ]
    },
    {
     "name": "stdout",
     "output_type": "stream",
     "text": [
      "\n",
      "Metrics: {'train_loss': 0.007536539225692089, 'test_loss': 2.0039380330305834, 'bleu': 20.6829, 'gen_len': 9.8889}\n",
      "\n",
      "=============================\n",
      "\n"
     ]
    },
    {
     "name": "stderr",
     "output_type": "stream",
     "text": [
      "  0%|          | 1/200 [00:17<58:53, 17.76s/it]"
     ]
    },
    {
     "name": "stdout",
     "output_type": "stream",
     "text": [
      "For epoch 302: \n",
      "{Learning rate: [0.002122092693296765]}\n"
     ]
    },
    {
     "name": "stderr",
     "output_type": "stream",
     "text": [
      "Train batch number 99: 100%|██████████| 99/99 [00:13<00:00,  7.36batches/s]\n",
      "Test batch number 13: 100%|██████████| 13/13 [00:03<00:00,  3.78batches/s]\n"
     ]
    },
    {
     "name": "stdout",
     "output_type": "stream",
     "text": [
      "\n",
      "Metrics: {'train_loss': 0.007210900132177454, 'test_loss': 2.0042612827741184, 'bleu': 21.0306, 'gen_len': 9.9747}\n",
      "\n",
      "=============================\n",
      "\n"
     ]
    },
    {
     "name": "stderr",
     "output_type": "stream",
     "text": [
      "  1%|          | 2/200 [00:36<1:00:21, 18.29s/it]"
     ]
    },
    {
     "name": "stdout",
     "output_type": "stream",
     "text": [
      "For epoch 303: \n",
      "{Learning rate: [0.0021167812288710786]}\n"
     ]
    },
    {
     "name": "stderr",
     "output_type": "stream",
     "text": [
      "Train batch number 99: 100%|██████████| 99/99 [00:13<00:00,  7.60batches/s]\n",
      "Test batch number 13: 100%|██████████| 13/13 [00:03<00:00,  4.00batches/s]\n"
     ]
    },
    {
     "name": "stdout",
     "output_type": "stream",
     "text": [
      "\n",
      "Metrics: {'train_loss': 0.0076292680532052985, 'test_loss': 2.009681591620812, 'bleu': 22.1543, 'gen_len': 9.8434}\n",
      "\n",
      "=============================\n",
      "\n"
     ]
    },
    {
     "name": "stderr",
     "output_type": "stream",
     "text": [
      "  2%|▏         | 3/200 [00:54<59:37, 18.16s/it]  "
     ]
    },
    {
     "name": "stdout",
     "output_type": "stream",
     "text": [
      "For epoch 304: \n",
      "{Learning rate: [0.002111460852828258]}\n"
     ]
    },
    {
     "name": "stderr",
     "output_type": "stream",
     "text": [
      "Train batch number 99: 100%|██████████| 99/99 [00:13<00:00,  7.60batches/s]\n",
      "Test batch number 13: 100%|██████████| 13/13 [00:03<00:00,  3.82batches/s]\n"
     ]
    },
    {
     "name": "stdout",
     "output_type": "stream",
     "text": [
      "\n",
      "Metrics: {'train_loss': 0.007241992557108534, 'test_loss': 2.0060079923042884, 'bleu': 21.7959, 'gen_len': 9.8788}\n",
      "\n",
      "=============================\n",
      "\n"
     ]
    },
    {
     "name": "stderr",
     "output_type": "stream",
     "text": [
      "  2%|▏         | 4/200 [01:12<59:18, 18.16s/it]"
     ]
    },
    {
     "name": "stdout",
     "output_type": "stream",
     "text": [
      "For epoch 305: \n",
      "{Learning rate: [0.002106131643520064]}\n"
     ]
    },
    {
     "name": "stderr",
     "output_type": "stream",
     "text": [
      "Train batch number 99: 100%|██████████| 99/99 [00:12<00:00,  7.72batches/s]\n",
      "Test batch number 13: 100%|██████████| 13/13 [00:03<00:00,  4.10batches/s]\n"
     ]
    },
    {
     "name": "stdout",
     "output_type": "stream",
     "text": [
      "\n",
      "Metrics: {'train_loss': 0.007431866412081596, 'test_loss': 2.0122285164319553, 'bleu': 21.7587, 'gen_len': 9.7576}\n",
      "\n",
      "=============================\n",
      "\n"
     ]
    },
    {
     "name": "stderr",
     "output_type": "stream",
     "text": [
      "  2%|▎         | 5/200 [01:30<58:30, 18.00s/it]"
     ]
    },
    {
     "name": "stdout",
     "output_type": "stream",
     "text": [
      "For epoch 306: \n",
      "{Learning rate: [0.002100793679428342]}\n"
     ]
    },
    {
     "name": "stderr",
     "output_type": "stream",
     "text": [
      "Train batch number 99: 100%|██████████| 99/99 [00:12<00:00,  7.81batches/s]\n",
      "Test batch number 13: 100%|██████████| 13/13 [00:03<00:00,  3.83batches/s]\n"
     ]
    },
    {
     "name": "stdout",
     "output_type": "stream",
     "text": [
      "\n",
      "Metrics: {'train_loss': 0.007013155080259288, 'test_loss': 2.0191355851980357, 'bleu': 21.3609, 'gen_len': 9.8636}\n",
      "\n",
      "=============================\n",
      "\n"
     ]
    },
    {
     "name": "stderr",
     "output_type": "stream",
     "text": [
      "  3%|▎         | 6/200 [01:48<57:59, 17.94s/it]"
     ]
    },
    {
     "name": "stdout",
     "output_type": "stream",
     "text": [
      "For epoch 307: \n",
      "{Learning rate: [0.0020954470391638677]}\n"
     ]
    },
    {
     "name": "stderr",
     "output_type": "stream",
     "text": [
      "Train batch number 99: 100%|██████████| 99/99 [00:12<00:00,  7.72batches/s]\n",
      "Test batch number 13: 100%|██████████| 13/13 [00:03<00:00,  3.89batches/s]\n"
     ]
    },
    {
     "name": "stdout",
     "output_type": "stream",
     "text": [
      "\n",
      "Metrics: {'train_loss': 0.007186870761815402, 'test_loss': 2.0062064024118276, 'bleu': 22.077, 'gen_len': 9.8889}\n",
      "\n",
      "=============================\n",
      "\n"
     ]
    },
    {
     "name": "stderr",
     "output_type": "stream",
     "text": [
      "  4%|▎         | 7/200 [02:06<57:39, 17.93s/it]"
     ]
    },
    {
     "name": "stdout",
     "output_type": "stream",
     "text": [
      "For epoch 308: \n",
      "{Learning rate: [0.002090091801465188]}\n"
     ]
    },
    {
     "name": "stderr",
     "output_type": "stream",
     "text": [
      "Train batch number 99: 100%|██████████| 99/99 [00:12<00:00,  7.73batches/s]\n",
      "Test batch number 13: 100%|██████████| 13/13 [00:03<00:00,  4.04batches/s]\n"
     ]
    },
    {
     "name": "stdout",
     "output_type": "stream",
     "text": [
      "\n",
      "Metrics: {'train_loss': 0.007140009896535746, 'test_loss': 2.0056038269629846, 'bleu': 21.5368, 'gen_len': 9.8889}\n",
      "\n",
      "=============================\n",
      "\n"
     ]
    },
    {
     "name": "stderr",
     "output_type": "stream",
     "text": [
      "  4%|▍         | 8/200 [02:23<57:12, 17.88s/it]"
     ]
    },
    {
     "name": "stdout",
     "output_type": "stream",
     "text": [
      "For epoch 309: \n",
      "{Learning rate: [0.0020847280451974618]}\n"
     ]
    },
    {
     "name": "stderr",
     "output_type": "stream",
     "text": [
      "Train batch number 99: 100%|██████████| 99/99 [00:12<00:00,  7.80batches/s]\n",
      "Test batch number 13: 100%|██████████| 13/13 [00:03<00:00,  4.04batches/s]\n"
     ]
    },
    {
     "name": "stdout",
     "output_type": "stream",
     "text": [
      "\n",
      "Metrics: {'train_loss': 0.007206546065675076, 'test_loss': 2.0138216202075663, 'bleu': 21.7649, 'gen_len': 9.7424}\n",
      "\n",
      "=============================\n",
      "\n"
     ]
    },
    {
     "name": "stderr",
     "output_type": "stream",
     "text": [
      "  4%|▍         | 9/200 [02:41<56:56, 17.89s/it]"
     ]
    },
    {
     "name": "stdout",
     "output_type": "stream",
     "text": [
      "For epoch 310: \n",
      "{Learning rate: [0.002079355849351299]}\n"
     ]
    },
    {
     "name": "stderr",
     "output_type": "stream",
     "text": [
      "Train batch number 99: 100%|██████████| 99/99 [00:12<00:00,  7.67batches/s]\n",
      "Test batch number 13: 100%|██████████| 13/13 [00:03<00:00,  4.01batches/s]\n"
     ]
    },
    {
     "name": "stdout",
     "output_type": "stream",
     "text": [
      "\n",
      "Metrics: {'train_loss': 0.007173834900392897, 'test_loss': 2.0121139012850247, 'bleu': 21.5663, 'gen_len': 9.9697}\n",
      "\n",
      "=============================\n",
      "\n"
     ]
    },
    {
     "name": "stderr",
     "output_type": "stream",
     "text": [
      "  5%|▌         | 10/200 [02:59<56:37, 17.88s/it]"
     ]
    },
    {
     "name": "stdout",
     "output_type": "stream",
     "text": [
      "For epoch 311: \n",
      "{Learning rate: [0.0020739752930415967]}\n"
     ]
    },
    {
     "name": "stderr",
     "output_type": "stream",
     "text": [
      "Train batch number 99: 100%|██████████| 99/99 [00:12<00:00,  7.82batches/s]\n",
      "Test batch number 13: 100%|██████████| 13/13 [00:03<00:00,  4.06batches/s]\n"
     ]
    },
    {
     "name": "stdout",
     "output_type": "stream",
     "text": [
      "\n",
      "Metrics: {'train_loss': 0.007200352186419427, 'test_loss': 2.0079344602731557, 'bleu': 21.1577, 'gen_len': 9.9646}\n",
      "\n",
      "=============================\n",
      "\n"
     ]
    },
    {
     "name": "stderr",
     "output_type": "stream",
     "text": [
      "  6%|▌         | 11/200 [03:17<56:02, 17.79s/it]"
     ]
    },
    {
     "name": "stdout",
     "output_type": "stream",
     "text": [
      "For epoch 312: \n",
      "{Learning rate: [0.0020685864555063742]}\n"
     ]
    },
    {
     "name": "stderr",
     "output_type": "stream",
     "text": [
      "Train batch number 99: 100%|██████████| 99/99 [00:12<00:00,  7.64batches/s]\n",
      "Test batch number 13: 100%|██████████| 13/13 [00:03<00:00,  3.88batches/s]\n"
     ]
    },
    {
     "name": "stdout",
     "output_type": "stream",
     "text": [
      "\n",
      "Metrics: {'train_loss': 0.007343805477086624, 'test_loss': 2.0261682455356302, 'bleu': 22.2277, 'gen_len': 9.9343}\n",
      "\n",
      "=============================\n",
      "\n"
     ]
    },
    {
     "name": "stderr",
     "output_type": "stream",
     "text": [
      "  6%|▌         | 12/200 [03:35<56:00, 17.87s/it]"
     ]
    },
    {
     "name": "stdout",
     "output_type": "stream",
     "text": [
      "For epoch 313: \n",
      "{Learning rate: [0.002063189416105606]}\n"
     ]
    },
    {
     "name": "stderr",
     "output_type": "stream",
     "text": [
      "Train batch number 99: 100%|██████████| 99/99 [00:12<00:00,  7.67batches/s]\n",
      "Test batch number 13: 100%|██████████| 13/13 [00:03<00:00,  3.86batches/s]\n"
     ]
    },
    {
     "name": "stdout",
     "output_type": "stream",
     "text": [
      "\n",
      "Metrics: {'train_loss': 0.006951078532217776, 'test_loss': 2.022374309026278, 'bleu': 22.1941, 'gen_len': 9.8687}\n",
      "\n",
      "=============================\n",
      "\n"
     ]
    },
    {
     "name": "stderr",
     "output_type": "stream",
     "text": [
      "  6%|▋         | 13/200 [03:53<55:51, 17.92s/it]"
     ]
    },
    {
     "name": "stdout",
     "output_type": "stream",
     "text": [
      "For epoch 314: \n",
      "{Learning rate: [0.002057784254320055]}\n"
     ]
    },
    {
     "name": "stderr",
     "output_type": "stream",
     "text": [
      "Train batch number 99: 100%|██████████| 99/99 [00:12<00:00,  7.77batches/s]\n",
      "Test batch number 13: 100%|██████████| 13/13 [00:03<00:00,  3.98batches/s]\n"
     ]
    },
    {
     "name": "stdout",
     "output_type": "stream",
     "text": [
      "\n",
      "Metrics: {'train_loss': 0.007168446810365739, 'test_loss': 2.0245153537163367, 'bleu': 21.7812, 'gen_len': 9.899}\n",
      "\n",
      "=============================\n",
      "\n"
     ]
    },
    {
     "name": "stderr",
     "output_type": "stream",
     "text": [
      "  7%|▋         | 14/200 [04:10<55:22, 17.86s/it]"
     ]
    },
    {
     "name": "stdout",
     "output_type": "stream",
     "text": [
      "For epoch 315: \n",
      "{Learning rate: [0.002052371049750098]}\n"
     ]
    },
    {
     "name": "stderr",
     "output_type": "stream",
     "text": [
      "Train batch number 99: 100%|██████████| 99/99 [00:12<00:00,  7.73batches/s]\n",
      "Test batch number 13: 100%|██████████| 13/13 [00:03<00:00,  4.04batches/s]\n"
     ]
    },
    {
     "name": "stdout",
     "output_type": "stream",
     "text": [
      "\n",
      "Metrics: {'train_loss': 0.007185708756107047, 'test_loss': 2.015374889740577, 'bleu': 21.7519, 'gen_len': 9.8737}\n",
      "\n",
      "=============================\n",
      "\n"
     ]
    },
    {
     "name": "stderr",
     "output_type": "stream",
     "text": [
      "  8%|▊         | 15/200 [04:28<54:58, 17.83s/it]"
     ]
    },
    {
     "name": "stdout",
     "output_type": "stream",
     "text": [
      "For epoch 316: \n",
      "{Learning rate: [0.002046949882114556]}\n"
     ]
    },
    {
     "name": "stderr",
     "output_type": "stream",
     "text": [
      "Train batch number 99: 100%|██████████| 99/99 [00:12<00:00,  7.68batches/s]\n",
      "Test batch number 13: 100%|██████████| 13/13 [00:03<00:00,  3.76batches/s]\n"
     ]
    },
    {
     "name": "stdout",
     "output_type": "stream",
     "text": [
      "\n",
      "Metrics: {'train_loss': 0.006916176762039105, 'test_loss': 2.031818078114436, 'bleu': 22.0288, 'gen_len': 9.8889}\n",
      "\n",
      "=============================\n",
      "\n"
     ]
    },
    {
     "name": "stderr",
     "output_type": "stream",
     "text": [
      "  8%|▊         | 16/200 [04:46<54:54, 17.91s/it]"
     ]
    },
    {
     "name": "stdout",
     "output_type": "stream",
     "text": [
      "For epoch 317: \n",
      "{Learning rate: [0.0020415208312495217]}\n"
     ]
    },
    {
     "name": "stderr",
     "output_type": "stream",
     "text": [
      "Train batch number 99: 100%|██████████| 99/99 [00:12<00:00,  7.80batches/s]\n",
      "Test batch number 13: 100%|██████████| 13/13 [00:03<00:00,  3.81batches/s]\n"
     ]
    },
    {
     "name": "stdout",
     "output_type": "stream",
     "text": [
      "\n",
      "Metrics: {'train_loss': 0.007123850080516246, 'test_loss': 2.0267216517375064, 'bleu': 22.2625, 'gen_len': 9.798}\n",
      "\n",
      "=============================\n",
      "\n"
     ]
    },
    {
     "name": "stderr",
     "output_type": "stream",
     "text": [
      "  8%|▊         | 17/200 [05:04<54:33, 17.89s/it]"
     ]
    },
    {
     "name": "stdout",
     "output_type": "stream",
     "text": [
      "For epoch 318: \n",
      "{Learning rate: [0.0020360839771071814]}\n"
     ]
    },
    {
     "name": "stderr",
     "output_type": "stream",
     "text": [
      "Train batch number 99: 100%|██████████| 99/99 [00:12<00:00,  7.70batches/s]\n",
      "Test batch number 13: 100%|██████████| 13/13 [00:03<00:00,  3.93batches/s]\n"
     ]
    },
    {
     "name": "stdout",
     "output_type": "stream",
     "text": [
      "\n",
      "Metrics: {'train_loss': 0.0069291482490223995, 'test_loss': 2.029353141784668, 'bleu': 22.2396, 'gen_len': 9.7778}\n",
      "\n",
      "=============================\n",
      "\n"
     ]
    },
    {
     "name": "stderr",
     "output_type": "stream",
     "text": [
      "  9%|▉         | 18/200 [05:22<54:15, 17.89s/it]"
     ]
    },
    {
     "name": "stdout",
     "output_type": "stream",
     "text": [
      "For epoch 319: \n",
      "{Learning rate: [0.0020306393997546364]}\n"
     ]
    },
    {
     "name": "stderr",
     "output_type": "stream",
     "text": [
      "Train batch number 99: 100%|██████████| 99/99 [00:12<00:00,  7.68batches/s]\n",
      "Test batch number 13: 100%|██████████| 13/13 [00:03<00:00,  4.02batches/s]\n"
     ]
    },
    {
     "name": "stdout",
     "output_type": "stream",
     "text": [
      "\n",
      "Metrics: {'train_loss': 0.0076864189139068725, 'test_loss': 2.0163422639553366, 'bleu': 22.1776, 'gen_len': 9.9596}\n",
      "\n",
      "=============================\n",
      "\n"
     ]
    },
    {
     "name": "stderr",
     "output_type": "stream",
     "text": [
      " 10%|▉         | 19/200 [05:40<53:55, 17.87s/it]"
     ]
    },
    {
     "name": "stdout",
     "output_type": "stream",
     "text": [
      "For epoch 320: \n",
      "{Learning rate: [0.0020251871793727275]}\n"
     ]
    },
    {
     "name": "stderr",
     "output_type": "stream",
     "text": [
      "Train batch number 99: 100%|██████████| 99/99 [00:13<00:00,  7.56batches/s]\n",
      "Test batch number 13: 100%|██████████| 13/13 [00:03<00:00,  3.87batches/s]\n"
     ]
    },
    {
     "name": "stdout",
     "output_type": "stream",
     "text": [
      "\n",
      "Metrics: {'train_loss': 0.0069880888074450665, 'test_loss': 2.0278460062467136, 'bleu': 21.9922, 'gen_len': 9.8384}\n",
      "\n",
      "=============================\n",
      "\n"
     ]
    },
    {
     "name": "stderr",
     "output_type": "stream",
     "text": [
      " 10%|█         | 20/200 [05:58<53:54, 17.97s/it]"
     ]
    },
    {
     "name": "stdout",
     "output_type": "stream",
     "text": [
      "For epoch 321: \n",
      "{Learning rate: [0.002019727396254852]}\n"
     ]
    },
    {
     "name": "stderr",
     "output_type": "stream",
     "text": [
      "Train batch number 99: 100%|██████████| 99/99 [00:12<00:00,  7.76batches/s]\n",
      "Test batch number 13: 100%|██████████| 13/13 [00:03<00:00,  3.84batches/s]\n"
     ]
    },
    {
     "name": "stdout",
     "output_type": "stream",
     "text": [
      "\n",
      "Metrics: {'train_loss': 0.0072254582646013605, 'test_loss': 2.006068284694965, 'bleu': 22.5998, 'gen_len': 9.7576}\n",
      "\n",
      "=============================\n",
      "\n"
     ]
    },
    {
     "name": "stderr",
     "output_type": "stream",
     "text": [
      " 10%|█         | 21/200 [06:16<53:32, 17.95s/it]"
     ]
    },
    {
     "name": "stdout",
     "output_type": "stream",
     "text": [
      "For epoch 322: \n",
      "{Learning rate: [0.0020142601308057824]}\n"
     ]
    },
    {
     "name": "stderr",
     "output_type": "stream",
     "text": [
      "Train batch number 99: 100%|██████████| 99/99 [00:12<00:00,  7.67batches/s]\n",
      "Test batch number 13: 100%|██████████| 13/13 [00:03<00:00,  3.93batches/s]\n"
     ]
    },
    {
     "name": "stdout",
     "output_type": "stream",
     "text": [
      "\n",
      "Metrics: {'train_loss': 0.006779897082132532, 'test_loss': 2.0173098765886746, 'bleu': 22.0543, 'gen_len': 10.0101}\n",
      "\n",
      "=============================\n",
      "\n"
     ]
    },
    {
     "name": "stderr",
     "output_type": "stream",
     "text": [
      " 11%|█         | 22/200 [06:34<53:14, 17.95s/it]"
     ]
    },
    {
     "name": "stdout",
     "output_type": "stream",
     "text": [
      "For epoch 323: \n",
      "{Learning rate: [0.002008785463540479]}\n"
     ]
    },
    {
     "name": "stderr",
     "output_type": "stream",
     "text": [
      "Train batch number 99: 100%|██████████| 99/99 [00:12<00:00,  7.73batches/s]\n",
      "Test batch number 13: 100%|██████████| 13/13 [00:03<00:00,  3.94batches/s]\n"
     ]
    },
    {
     "name": "stdout",
     "output_type": "stream",
     "text": [
      "\n",
      "Metrics: {'train_loss': 0.0071549595838102205, 'test_loss': 2.0038088101607103, 'bleu': 22.4677, 'gen_len': 9.9545}\n",
      "\n",
      "=============================\n",
      "\n"
     ]
    },
    {
     "name": "stderr",
     "output_type": "stream",
     "text": [
      " 12%|█▏        | 23/200 [06:52<52:50, 17.91s/it]"
     ]
    },
    {
     "name": "stdout",
     "output_type": "stream",
     "text": [
      "For epoch 324: \n",
      "{Learning rate: [0.002003303475082909]}\n"
     ]
    },
    {
     "name": "stderr",
     "output_type": "stream",
     "text": [
      "Train batch number 99: 100%|██████████| 99/99 [00:12<00:00,  7.76batches/s]\n",
      "Test batch number 13: 100%|██████████| 13/13 [00:03<00:00,  3.79batches/s]\n"
     ]
    },
    {
     "name": "stdout",
     "output_type": "stream",
     "text": [
      "\n",
      "Metrics: {'train_loss': 0.0069407964123217765, 'test_loss': 1.991073755117563, 'bleu': 21.6899, 'gen_len': 9.8333}\n",
      "\n",
      "=============================\n",
      "\n"
     ]
    },
    {
     "name": "stderr",
     "output_type": "stream",
     "text": [
      " 12%|█▏        | 24/200 [07:10<52:33, 17.92s/it]"
     ]
    },
    {
     "name": "stdout",
     "output_type": "stream",
     "text": [
      "For epoch 325: \n",
      "{Learning rate: [0.0019978142461648555]}\n"
     ]
    },
    {
     "name": "stderr",
     "output_type": "stream",
     "text": [
      "Train batch number 99: 100%|██████████| 99/99 [00:12<00:00,  7.64batches/s]\n",
      "Test batch number 13: 100%|██████████| 13/13 [00:03<00:00,  3.76batches/s]\n"
     ]
    },
    {
     "name": "stdout",
     "output_type": "stream",
     "text": [
      "\n",
      "Metrics: {'train_loss': 0.007271339295924679, 'test_loss': 2.006700194798983, 'bleu': 21.7095, 'gen_len': 9.8232}\n",
      "\n",
      "=============================\n",
      "\n"
     ]
    },
    {
     "name": "stderr",
     "output_type": "stream",
     "text": [
      " 12%|█▎        | 25/200 [07:28<52:28, 17.99s/it]"
     ]
    },
    {
     "name": "stdout",
     "output_type": "stream",
     "text": [
      "For epoch 326: \n",
      "{Learning rate: [0.0019923178576247316]}\n"
     ]
    },
    {
     "name": "stderr",
     "output_type": "stream",
     "text": [
      "Train batch number 99: 100%|██████████| 99/99 [00:12<00:00,  7.68batches/s]\n",
      "Test batch number 13: 100%|██████████| 13/13 [00:03<00:00,  3.80batches/s]\n"
     ]
    },
    {
     "name": "stdout",
     "output_type": "stream",
     "text": [
      "\n",
      "Metrics: {'train_loss': 0.007079982172022809, 'test_loss': 1.997272775723384, 'bleu': 22.4179, 'gen_len': 9.8232}\n",
      "\n",
      "=============================\n",
      "\n"
     ]
    },
    {
     "name": "stderr",
     "output_type": "stream",
     "text": [
      " 13%|█▎        | 26/200 [07:46<52:16, 18.03s/it]"
     ]
    },
    {
     "name": "stdout",
     "output_type": "stream",
     "text": [
      "For epoch 327: \n",
      "{Learning rate: [0.001986814390406387]}\n"
     ]
    },
    {
     "name": "stderr",
     "output_type": "stream",
     "text": [
      "Train batch number 99: 100%|██████████| 99/99 [00:12<00:00,  7.63batches/s]\n",
      "Test batch number 13: 100%|██████████| 13/13 [00:03<00:00,  3.85batches/s]\n"
     ]
    },
    {
     "name": "stdout",
     "output_type": "stream",
     "text": [
      "\n",
      "Metrics: {'train_loss': 0.007287643616872068, 'test_loss': 1.9873402210382314, 'bleu': 21.9705, 'gen_len': 9.7424}\n",
      "\n",
      "=============================\n",
      "\n"
     ]
    },
    {
     "name": "stderr",
     "output_type": "stream",
     "text": [
      " 14%|█▎        | 27/200 [08:04<52:02, 18.05s/it]"
     ]
    },
    {
     "name": "stdout",
     "output_type": "stream",
     "text": [
      "For epoch 328: \n",
      "{Learning rate: [0.0019813039255579157]}\n"
     ]
    },
    {
     "name": "stderr",
     "output_type": "stream",
     "text": [
      "Train batch number 99: 100%|██████████| 99/99 [00:12<00:00,  7.63batches/s]\n",
      "Test batch number 13: 100%|██████████| 13/13 [00:03<00:00,  3.97batches/s]\n"
     ]
    },
    {
     "name": "stdout",
     "output_type": "stream",
     "text": [
      "\n",
      "Metrics: {'train_loss': 0.00685302275094801, 'test_loss': 1.9953919098927424, 'bleu': 22.1584, 'gen_len': 9.798}\n",
      "\n",
      "=============================\n",
      "\n"
     ]
    },
    {
     "name": "stderr",
     "output_type": "stream",
     "text": [
      " 14%|█▍        | 28/200 [08:22<51:40, 18.03s/it]"
     ]
    },
    {
     "name": "stdout",
     "output_type": "stream",
     "text": [
      "For epoch 329: \n",
      "{Learning rate: [0.0019757865442304678]}\n"
     ]
    },
    {
     "name": "stderr",
     "output_type": "stream",
     "text": [
      "Train batch number 99: 100%|██████████| 99/99 [00:12<00:00,  7.70batches/s]\n",
      "Test batch number 13: 100%|██████████| 13/13 [00:03<00:00,  3.98batches/s]\n"
     ]
    },
    {
     "name": "stdout",
     "output_type": "stream",
     "text": [
      "\n",
      "Metrics: {'train_loss': 0.007437299997275319, 'test_loss': 1.9738793831605177, 'bleu': 22.5266, 'gen_len': 9.7172}\n",
      "\n",
      "=============================\n",
      "\n"
     ]
    },
    {
     "name": "stderr",
     "output_type": "stream",
     "text": [
      " 14%|█▍        | 29/200 [08:40<51:13, 17.97s/it]"
     ]
    },
    {
     "name": "stdout",
     "output_type": "stream",
     "text": [
      "For epoch 330: \n",
      "{Learning rate: [0.0019702623276770474]}\n"
     ]
    },
    {
     "name": "stderr",
     "output_type": "stream",
     "text": [
      "Train batch number 99: 100%|██████████| 99/99 [00:12<00:00,  7.67batches/s]\n",
      "Test batch number 13: 100%|██████████| 13/13 [00:03<00:00,  3.81batches/s]\n"
     ]
    },
    {
     "name": "stdout",
     "output_type": "stream",
     "text": [
      "\n",
      "Metrics: {'train_loss': 0.006912554134179678, 'test_loss': 1.9962033858666053, 'bleu': 22.1039, 'gen_len': 9.8737}\n",
      "\n",
      "=============================\n",
      "\n"
     ]
    },
    {
     "name": "stderr",
     "output_type": "stream",
     "text": [
      " 15%|█▌        | 30/200 [08:58<50:59, 18.00s/it]"
     ]
    },
    {
     "name": "stdout",
     "output_type": "stream",
     "text": [
      "For epoch 331: \n",
      "{Learning rate: [0.00196473135725132]}\n"
     ]
    },
    {
     "name": "stderr",
     "output_type": "stream",
     "text": [
      "Train batch number 99: 100%|██████████| 99/99 [00:12<00:00,  7.76batches/s]\n",
      "Test batch number 13: 100%|██████████| 13/13 [00:03<00:00,  3.89batches/s]\n"
     ]
    },
    {
     "name": "stdout",
     "output_type": "stream",
     "text": [
      "\n",
      "Metrics: {'train_loss': 0.006922840915980156, 'test_loss': 2.008651540829585, 'bleu': 21.9979, 'gen_len': 9.8485}\n",
      "\n",
      "=============================\n",
      "\n"
     ]
    },
    {
     "name": "stderr",
     "output_type": "stream",
     "text": [
      " 16%|█▌        | 31/200 [09:16<50:33, 17.95s/it]"
     ]
    },
    {
     "name": "stdout",
     "output_type": "stream",
     "text": [
      "For epoch 332: \n",
      "{Learning rate: [0.0019591937144064135]}\n"
     ]
    },
    {
     "name": "stderr",
     "output_type": "stream",
     "text": [
      "Train batch number 99: 100%|██████████| 99/99 [00:12<00:00,  7.69batches/s]\n",
      "Test batch number 13: 100%|██████████| 13/13 [00:03<00:00,  3.85batches/s]\n"
     ]
    },
    {
     "name": "stdout",
     "output_type": "stream",
     "text": [
      "\n",
      "Metrics: {'train_loss': 0.006929518458565151, 'test_loss': 2.016693353652954, 'bleu': 21.4281, 'gen_len': 9.6566}\n",
      "\n",
      "=============================\n",
      "\n"
     ]
    },
    {
     "name": "stderr",
     "output_type": "stream",
     "text": [
      " 16%|█▌        | 32/200 [09:34<50:17, 17.96s/it]"
     ]
    },
    {
     "name": "stdout",
     "output_type": "stream",
     "text": [
      "For epoch 333: \n",
      "{Learning rate: [0.0019536494806937196]}\n"
     ]
    },
    {
     "name": "stderr",
     "output_type": "stream",
     "text": [
      "Train batch number 99: 100%|██████████| 99/99 [00:13<00:00,  7.54batches/s]\n",
      "Test batch number 13: 100%|██████████| 13/13 [00:03<00:00,  3.83batches/s]\n"
     ]
    },
    {
     "name": "stdout",
     "output_type": "stream",
     "text": [
      "\n",
      "Metrics: {'train_loss': 0.0068868724563137885, 'test_loss': 1.9879371844805205, 'bleu': 21.5799, 'gen_len': 9.8838}\n",
      "\n",
      "=============================\n",
      "\n"
     ]
    },
    {
     "name": "stderr",
     "output_type": "stream",
     "text": [
      " 16%|█▋        | 33/200 [09:52<50:15, 18.06s/it]"
     ]
    },
    {
     "name": "stdout",
     "output_type": "stream",
     "text": [
      "For epoch 334: \n",
      "{Learning rate: [0.0019480987377616908]}\n"
     ]
    },
    {
     "name": "stderr",
     "output_type": "stream",
     "text": [
      "Train batch number 99: 100%|██████████| 99/99 [00:13<00:00,  7.52batches/s]\n",
      "Test batch number 13: 100%|██████████| 13/13 [00:03<00:00,  4.00batches/s]\n"
     ]
    },
    {
     "name": "stdout",
     "output_type": "stream",
     "text": [
      "\n",
      "Metrics: {'train_loss': 0.00695930826483586, 'test_loss': 2.0070640857403097, 'bleu': 21.3786, 'gen_len': 9.7626}\n",
      "\n",
      "=============================\n",
      "\n"
     ]
    },
    {
     "name": "stderr",
     "output_type": "stream",
     "text": [
      " 17%|█▋        | 34/200 [10:10<50:02, 18.09s/it]"
     ]
    },
    {
     "name": "stdout",
     "output_type": "stream",
     "text": [
      "For epoch 335: \n",
      "{Learning rate: [0.00194254156735464]}\n"
     ]
    },
    {
     "name": "stderr",
     "output_type": "stream",
     "text": [
      "Train batch number 99: 100%|██████████| 99/99 [00:13<00:00,  7.57batches/s]\n",
      "Test batch number 13: 100%|██████████| 13/13 [00:03<00:00,  4.04batches/s]\n"
     ]
    },
    {
     "name": "stdout",
     "output_type": "stream",
     "text": [
      "\n",
      "Metrics: {'train_loss': 0.006920597536578737, 'test_loss': 2.0191893119078417, 'bleu': 21.1789, 'gen_len': 9.6818}\n",
      "\n",
      "=============================\n",
      "\n"
     ]
    },
    {
     "name": "stderr",
     "output_type": "stream",
     "text": [
      " 18%|█▊        | 35/200 [10:28<49:41, 18.07s/it]"
     ]
    },
    {
     "name": "stdout",
     "output_type": "stream",
     "text": [
      "For epoch 336: \n",
      "{Learning rate: [0.0019369780513115349]}\n"
     ]
    },
    {
     "name": "stderr",
     "output_type": "stream",
     "text": [
      "Train batch number 99: 100%|██████████| 99/99 [00:12<00:00,  7.69batches/s]\n",
      "Test batch number 13: 100%|██████████| 13/13 [00:03<00:00,  3.76batches/s]\n"
     ]
    },
    {
     "name": "stdout",
     "output_type": "stream",
     "text": [
      "\n",
      "Metrics: {'train_loss': 0.006950282909192446, 'test_loss': 2.0119805060900173, 'bleu': 21.2263, 'gen_len': 9.7778}\n",
      "\n",
      "=============================\n",
      "\n"
     ]
    },
    {
     "name": "stderr",
     "output_type": "stream",
     "text": [
      " 18%|█▊        | 36/200 [10:46<49:22, 18.07s/it]"
     ]
    },
    {
     "name": "stdout",
     "output_type": "stream",
     "text": [
      "For epoch 337: \n",
      "{Learning rate: [0.0019314082715647949]}\n"
     ]
    },
    {
     "name": "stderr",
     "output_type": "stream",
     "text": [
      "Train batch number 99: 100%|██████████| 99/99 [00:12<00:00,  7.66batches/s]\n",
      "Test batch number 13: 100%|██████████| 13/13 [00:03<00:00,  3.93batches/s]\n"
     ]
    },
    {
     "name": "stdout",
     "output_type": "stream",
     "text": [
      "\n",
      "Metrics: {'train_loss': 0.0068594328746037336, 'test_loss': 2.0143665625498843, 'bleu': 21.2675, 'gen_len': 9.7525}\n",
      "\n",
      "=============================\n",
      "\n"
     ]
    },
    {
     "name": "stderr",
     "output_type": "stream",
     "text": [
      " 18%|█▊        | 37/200 [11:04<48:59, 18.04s/it]"
     ]
    },
    {
     "name": "stdout",
     "output_type": "stream",
     "text": [
      "For epoch 338: \n",
      "{Learning rate: [0.0019258323101390819]}\n"
     ]
    },
    {
     "name": "stderr",
     "output_type": "stream",
     "text": [
      "Train batch number 99: 100%|██████████| 99/99 [00:13<00:00,  7.60batches/s]\n",
      "Test batch number 13: 100%|██████████| 13/13 [00:03<00:00,  3.83batches/s]\n"
     ]
    },
    {
     "name": "stdout",
     "output_type": "stream",
     "text": [
      "\n",
      "Metrics: {'train_loss': 0.006718392712751996, 'test_loss': 2.0108830011807957, 'bleu': 21.1499, 'gen_len': 9.7828}\n",
      "\n",
      "=============================\n",
      "\n"
     ]
    },
    {
     "name": "stderr",
     "output_type": "stream",
     "text": [
      " 19%|█▉        | 38/200 [11:24<50:13, 18.60s/it]"
     ]
    },
    {
     "name": "stdout",
     "output_type": "stream",
     "text": [
      "For epoch 339: \n",
      "{Learning rate: [0.0019202502491500947]}\n"
     ]
    },
    {
     "name": "stderr",
     "output_type": "stream",
     "text": [
      "Train batch number 99: 100%|██████████| 99/99 [00:13<00:00,  7.58batches/s]\n",
      "Test batch number 13: 100%|██████████| 13/13 [00:03<00:00,  4.01batches/s]\n"
     ]
    },
    {
     "name": "stdout",
     "output_type": "stream",
     "text": [
      "\n",
      "Metrics: {'train_loss': 0.006777547538425124, 'test_loss': 2.013648344920232, 'bleu': 21.1148, 'gen_len': 9.7626}\n",
      "\n",
      "=============================\n",
      "\n"
     ]
    },
    {
     "name": "stderr",
     "output_type": "stream",
     "text": [
      " 20%|█▉        | 39/200 [11:42<49:27, 18.43s/it]"
     ]
    },
    {
     "name": "stdout",
     "output_type": "stream",
     "text": [
      "For epoch 340: \n",
      "{Learning rate: [0.0019146621708033592]}\n"
     ]
    },
    {
     "name": "stderr",
     "output_type": "stream",
     "text": [
      "Train batch number 99: 100%|██████████| 99/99 [00:12<00:00,  7.76batches/s]\n",
      "Test batch number 13: 100%|██████████| 13/13 [00:03<00:00,  3.94batches/s]\n"
     ]
    },
    {
     "name": "stdout",
     "output_type": "stream",
     "text": [
      "\n",
      "Metrics: {'train_loss': 0.007142120933470626, 'test_loss': 2.0040089717278113, 'bleu': 21.2471, 'gen_len': 9.8333}\n",
      "\n",
      "=============================\n",
      "\n"
     ]
    },
    {
     "name": "stderr",
     "output_type": "stream",
     "text": [
      " 20%|██        | 40/200 [12:00<48:39, 18.25s/it]"
     ]
    },
    {
     "name": "stdout",
     "output_type": "stream",
     "text": [
      "For epoch 341: \n",
      "{Learning rate: [0.0019090681573930152]}\n"
     ]
    },
    {
     "name": "stderr",
     "output_type": "stream",
     "text": [
      "Train batch number 99: 100%|██████████| 99/99 [00:13<00:00,  7.54batches/s]\n",
      "Test batch number 13: 100%|██████████| 13/13 [00:03<00:00,  3.78batches/s]\n"
     ]
    },
    {
     "name": "stdout",
     "output_type": "stream",
     "text": [
      "\n",
      "Metrics: {'train_loss': 0.007598681749324455, 'test_loss': 1.9961168215825007, 'bleu': 21.0775, 'gen_len': 10.0}\n",
      "\n",
      "=============================\n",
      "\n"
     ]
    },
    {
     "name": "stderr",
     "output_type": "stream",
     "text": [
      " 20%|██        | 41/200 [12:18<48:24, 18.27s/it]"
     ]
    },
    {
     "name": "stdout",
     "output_type": "stream",
     "text": [
      "For epoch 342: \n",
      "{Learning rate: [0.001903468291300609]}\n"
     ]
    },
    {
     "name": "stderr",
     "output_type": "stream",
     "text": [
      "Train batch number 99: 100%|██████████| 99/99 [00:13<00:00,  7.58batches/s]\n",
      "Test batch number 13: 100%|██████████| 13/13 [00:03<00:00,  4.01batches/s]\n"
     ]
    },
    {
     "name": "stdout",
     "output_type": "stream",
     "text": [
      "\n",
      "Metrics: {'train_loss': 0.006932446693136084, 'test_loss': 2.0141858412669253, 'bleu': 21.7604, 'gen_len': 9.8232}\n",
      "\n",
      "=============================\n",
      "\n"
     ]
    },
    {
     "name": "stderr",
     "output_type": "stream",
     "text": [
      " 21%|██        | 42/200 [12:36<47:54, 18.20s/it]"
     ]
    },
    {
     "name": "stdout",
     "output_type": "stream",
     "text": [
      "For epoch 343: \n",
      "{Learning rate: [0.0018978626549938772]}\n"
     ]
    },
    {
     "name": "stderr",
     "output_type": "stream",
     "text": [
      "Train batch number 99: 100%|██████████| 99/99 [00:13<00:00,  7.58batches/s]\n",
      "Test batch number 13: 100%|██████████| 13/13 [00:03<00:00,  3.84batches/s]\n"
     ]
    },
    {
     "name": "stdout",
     "output_type": "stream",
     "text": [
      "\n",
      "Metrics: {'train_loss': 0.007043594888392648, 'test_loss': 2.010596568767841, 'bleu': 21.7479, 'gen_len': 9.8939}\n",
      "\n",
      "=============================\n",
      "\n"
     ]
    },
    {
     "name": "stderr",
     "output_type": "stream",
     "text": [
      " 22%|██▏       | 43/200 [12:55<47:36, 18.20s/it]"
     ]
    },
    {
     "name": "stdout",
     "output_type": "stream",
     "text": [
      "For epoch 344: \n",
      "{Learning rate: [0.0018922513310255318]}\n"
     ]
    },
    {
     "name": "stderr",
     "output_type": "stream",
     "text": [
      "Train batch number 99: 100%|██████████| 99/99 [00:12<00:00,  7.69batches/s]\n",
      "Test batch number 13: 100%|██████████| 13/13 [00:03<00:00,  3.85batches/s]\n"
     ]
    },
    {
     "name": "stdout",
     "output_type": "stream",
     "text": [
      "\n",
      "Metrics: {'train_loss': 0.00700194533882578, 'test_loss': 2.0114788917394786, 'bleu': 21.7182, 'gen_len': 9.9747}\n",
      "\n",
      "=============================\n",
      "\n"
     ]
    },
    {
     "name": "stderr",
     "output_type": "stream",
     "text": [
      " 22%|██▏       | 44/200 [13:13<47:08, 18.13s/it]"
     ]
    },
    {
     "name": "stdout",
     "output_type": "stream",
     "text": [
      "For epoch 345: \n",
      "{Learning rate: [0.001886634402032046]}\n"
     ]
    },
    {
     "name": "stderr",
     "output_type": "stream",
     "text": [
      "Train batch number 99: 100%|██████████| 99/99 [00:13<00:00,  7.60batches/s]\n",
      "Test batch number 13: 100%|██████████| 13/13 [00:03<00:00,  3.84batches/s]\n"
     ]
    },
    {
     "name": "stdout",
     "output_type": "stream",
     "text": [
      "\n",
      "Metrics: {'train_loss': 0.006887864749208375, 'test_loss': 2.017829473202045, 'bleu': 21.1916, 'gen_len': 10.0253}\n",
      "\n",
      "=============================\n",
      "\n"
     ]
    },
    {
     "name": "stderr",
     "output_type": "stream",
     "text": [
      " 22%|██▎       | 45/200 [13:31<46:51, 18.14s/it]"
     ]
    },
    {
     "name": "stdout",
     "output_type": "stream",
     "text": [
      "For epoch 346: \n",
      "{Learning rate: [0.001881011950732437]}\n"
     ]
    },
    {
     "name": "stderr",
     "output_type": "stream",
     "text": [
      "Train batch number 99: 100%|██████████| 99/99 [00:12<00:00,  7.63batches/s]\n",
      "Test batch number 13: 100%|██████████| 13/13 [00:03<00:00,  3.79batches/s]\n"
     ]
    },
    {
     "name": "stdout",
     "output_type": "stream",
     "text": [
      "\n",
      "Metrics: {'train_loss': 0.006784489587351511, 'test_loss': 2.006655656374418, 'bleu': 22.3777, 'gen_len': 10.1061}\n",
      "\n",
      "=============================\n",
      "\n"
     ]
    },
    {
     "name": "stderr",
     "output_type": "stream",
     "text": [
      " 23%|██▎       | 46/200 [13:49<46:34, 18.15s/it]"
     ]
    },
    {
     "name": "stdout",
     "output_type": "stream",
     "text": [
      "For epoch 347: \n",
      "{Learning rate: [0.0018753840599270472]}\n"
     ]
    },
    {
     "name": "stderr",
     "output_type": "stream",
     "text": [
      "Train batch number 99: 100%|██████████| 99/99 [00:12<00:00,  7.64batches/s]\n",
      "Test batch number 13: 100%|██████████| 13/13 [00:03<00:00,  4.08batches/s]\n"
     ]
    },
    {
     "name": "stdout",
     "output_type": "stream",
     "text": [
      "\n",
      "Metrics: {'train_loss': 0.007010325580874148, 'test_loss': 2.009849493320172, 'bleu': 22.0446, 'gen_len': 9.7121}\n",
      "\n",
      "=============================\n",
      "\n"
     ]
    },
    {
     "name": "stderr",
     "output_type": "stream",
     "text": [
      " 24%|██▎       | 47/200 [14:07<46:04, 18.07s/it]"
     ]
    },
    {
     "name": "stdout",
     "output_type": "stream",
     "text": [
      "For epoch 348: \n",
      "{Learning rate: [0.0018697508124963257]}\n"
     ]
    },
    {
     "name": "stderr",
     "output_type": "stream",
     "text": [
      "Train batch number 99: 100%|██████████| 99/99 [00:12<00:00,  7.76batches/s]\n",
      "Test batch number 13: 100%|██████████| 13/13 [00:03<00:00,  4.05batches/s]\n"
     ]
    },
    {
     "name": "stdout",
     "output_type": "stream",
     "text": [
      "\n",
      "Metrics: {'train_loss': 0.007215693229374316, 'test_loss': 2.005001765031081, 'bleu': 21.6892, 'gen_len': 9.7323}\n",
      "\n",
      "=============================\n",
      "\n"
     ]
    },
    {
     "name": "stderr",
     "output_type": "stream",
     "text": [
      " 24%|██▍       | 48/200 [14:24<45:29, 17.96s/it]"
     ]
    },
    {
     "name": "stdout",
     "output_type": "stream",
     "text": [
      "For epoch 349: \n",
      "{Learning rate: [0.0018641122913996065]}\n"
     ]
    },
    {
     "name": "stderr",
     "output_type": "stream",
     "text": [
      "Train batch number 99: 100%|██████████| 99/99 [00:12<00:00,  7.68batches/s]\n",
      "Test batch number 13: 100%|██████████| 13/13 [00:03<00:00,  4.04batches/s]\n"
     ]
    },
    {
     "name": "stdout",
     "output_type": "stream",
     "text": [
      "\n",
      "Metrics: {'train_loss': 0.006992506788310952, 'test_loss': 2.0050943539692807, 'bleu': 21.6851, 'gen_len': 9.7374}\n",
      "\n",
      "=============================\n",
      "\n"
     ]
    },
    {
     "name": "stderr",
     "output_type": "stream",
     "text": [
      " 24%|██▍       | 49/200 [14:42<45:06, 17.92s/it]"
     ]
    },
    {
     "name": "stdout",
     "output_type": "stream",
     "text": [
      "For epoch 350: \n",
      "{Learning rate: [0.0018584685796738877]}\n"
     ]
    },
    {
     "name": "stderr",
     "output_type": "stream",
     "text": [
      "Train batch number 99: 100%|██████████| 99/99 [00:12<00:00,  7.76batches/s]\n",
      "Test batch number 13: 100%|██████████| 13/13 [00:03<00:00,  3.89batches/s]\n"
     ]
    },
    {
     "name": "stdout",
     "output_type": "stream",
     "text": [
      "\n",
      "Metrics: {'train_loss': 0.007090453362748535, 'test_loss': 2.0060881559665384, 'bleu': 21.5385, 'gen_len': 9.7475}\n",
      "\n",
      "=============================\n",
      "\n"
     ]
    },
    {
     "name": "stderr",
     "output_type": "stream",
     "text": [
      " 25%|██▌       | 50/200 [15:00<44:44, 17.89s/it]"
     ]
    },
    {
     "name": "stdout",
     "output_type": "stream",
     "text": [
      "For epoch 351: \n",
      "{Learning rate: [0.0018528197604326094]}\n"
     ]
    },
    {
     "name": "stderr",
     "output_type": "stream",
     "text": [
      "Train batch number 99: 100%|██████████| 99/99 [00:12<00:00,  7.65batches/s]\n",
      "Test batch number 13: 100%|██████████| 13/13 [00:03<00:00,  4.08batches/s]\n"
     ]
    },
    {
     "name": "stdout",
     "output_type": "stream",
     "text": [
      "\n",
      "Metrics: {'train_loss': 0.006923816138890224, 'test_loss': 2.017708099805392, 'bleu': 22.1101, 'gen_len': 9.6414}\n",
      "\n",
      "=============================\n",
      "\n"
     ]
    },
    {
     "name": "stderr",
     "output_type": "stream",
     "text": [
      " 26%|██▌       | 51/200 [15:18<44:24, 17.88s/it]"
     ]
    },
    {
     "name": "stdout",
     "output_type": "stream",
     "text": [
      "For epoch 352: \n",
      "{Learning rate: [0.0018471659168644262]}\n"
     ]
    },
    {
     "name": "stderr",
     "output_type": "stream",
     "text": [
      "Train batch number 99: 100%|██████████| 99/99 [00:13<00:00,  7.29batches/s]\n",
      "Test batch number 13: 100%|██████████| 13/13 [00:03<00:00,  3.92batches/s]\n"
     ]
    },
    {
     "name": "stdout",
     "output_type": "stream",
     "text": [
      "\n",
      "Metrics: {'train_loss': 0.007189167769434109, 'test_loss': 2.035965919494629, 'bleu': 21.9109, 'gen_len': 9.6313}\n",
      "\n",
      "=============================\n",
      "\n"
     ]
    },
    {
     "name": "stderr",
     "output_type": "stream",
     "text": [
      " 26%|██▌       | 52/200 [15:37<44:40, 18.11s/it]"
     ]
    },
    {
     "name": "stdout",
     "output_type": "stream",
     "text": [
      "For epoch 353: \n",
      "{Learning rate: [0.0018415071322319871]}\n"
     ]
    },
    {
     "name": "stderr",
     "output_type": "stream",
     "text": [
      "Train batch number 99: 100%|██████████| 99/99 [00:12<00:00,  7.70batches/s]\n",
      "Test batch number 13: 100%|██████████| 13/13 [00:03<00:00,  4.03batches/s]\n"
     ]
    },
    {
     "name": "stdout",
     "output_type": "stream",
     "text": [
      "\n",
      "Metrics: {'train_loss': 0.007109628867997666, 'test_loss': 2.002343021906339, 'bleu': 22.2201, 'gen_len': 9.8889}\n",
      "\n",
      "=============================\n",
      "\n"
     ]
    },
    {
     "name": "stderr",
     "output_type": "stream",
     "text": [
      " 26%|██▋       | 53/200 [15:54<44:09, 18.02s/it]"
     ]
    },
    {
     "name": "stdout",
     "output_type": "stream",
     "text": [
      "For epoch 354: \n",
      "{Learning rate: [0.001835843489870706]}\n"
     ]
    },
    {
     "name": "stderr",
     "output_type": "stream",
     "text": [
      "Train batch number 99: 100%|██████████| 99/99 [00:12<00:00,  7.73batches/s]\n",
      "Test batch number 13: 100%|██████████| 13/13 [00:03<00:00,  3.87batches/s]\n"
     ]
    },
    {
     "name": "stdout",
     "output_type": "stream",
     "text": [
      "\n",
      "Metrics: {'train_loss': 0.0068532784495589725, 'test_loss': 2.0203723173875074, 'bleu': 22.0895, 'gen_len': 9.8889}\n",
      "\n",
      "=============================\n",
      "\n"
     ]
    },
    {
     "name": "stderr",
     "output_type": "stream",
     "text": [
      " 27%|██▋       | 54/200 [16:12<43:46, 17.99s/it]"
     ]
    },
    {
     "name": "stdout",
     "output_type": "stream",
     "text": [
      "For epoch 355: \n",
      "{Learning rate: [0.001830175073187535]}\n"
     ]
    },
    {
     "name": "stderr",
     "output_type": "stream",
     "text": [
      "Train batch number 99: 100%|██████████| 99/99 [00:13<00:00,  7.55batches/s]\n",
      "Test batch number 13: 100%|██████████| 13/13 [00:03<00:00,  3.86batches/s]\n"
     ]
    },
    {
     "name": "stdout",
     "output_type": "stream",
     "text": [
      "\n",
      "Metrics: {'train_loss': 0.00701273928970837, 'test_loss': 1.9992610674638014, 'bleu': 21.9459, 'gen_len': 9.7879}\n",
      "\n",
      "=============================\n",
      "\n"
     ]
    },
    {
     "name": "stderr",
     "output_type": "stream",
     "text": [
      " 28%|██▊       | 55/200 [16:31<43:38, 18.06s/it]"
     ]
    },
    {
     "name": "stdout",
     "output_type": "stream",
     "text": [
      "For epoch 356: \n",
      "{Learning rate: [0.0018245019656597371]}\n"
     ]
    },
    {
     "name": "stderr",
     "output_type": "stream",
     "text": [
      "Train batch number 99: 100%|██████████| 99/99 [00:12<00:00,  7.73batches/s]\n",
      "Test batch number 13: 100%|██████████| 13/13 [00:03<00:00,  3.95batches/s]\n"
     ]
    },
    {
     "name": "stdout",
     "output_type": "stream",
     "text": [
      "\n",
      "Metrics: {'train_loss': 0.006835137033832701, 'test_loss': 2.004238321230962, 'bleu': 22.1929, 'gen_len': 9.798}\n",
      "\n",
      "=============================\n",
      "\n"
     ]
    },
    {
     "name": "stderr",
     "output_type": "stream",
     "text": [
      " 28%|██▊       | 56/200 [16:48<43:11, 18.00s/it]"
     ]
    },
    {
     "name": "stdout",
     "output_type": "stream",
     "text": [
      "For epoch 357: \n",
      "{Learning rate: [0.0018188242508336552]}\n"
     ]
    },
    {
     "name": "stderr",
     "output_type": "stream",
     "text": [
      "Train batch number 99: 100%|██████████| 99/99 [00:12<00:00,  7.72batches/s]\n",
      "Test batch number 13: 100%|██████████| 13/13 [00:03<00:00,  4.01batches/s]\n"
     ]
    },
    {
     "name": "stdout",
     "output_type": "stream",
     "text": [
      "\n",
      "Metrics: {'train_loss': 0.007080584784471101, 'test_loss': 2.0321242259098935, 'bleu': 21.4995, 'gen_len': 9.6667}\n",
      "\n",
      "=============================\n",
      "\n"
     ]
    },
    {
     "name": "stderr",
     "output_type": "stream",
     "text": [
      " 28%|██▊       | 57/200 [17:06<42:44, 17.94s/it]"
     ]
    },
    {
     "name": "stdout",
     "output_type": "stream",
     "text": [
      "For epoch 358: \n",
      "{Learning rate: [0.001813142012323483]}\n"
     ]
    },
    {
     "name": "stderr",
     "output_type": "stream",
     "text": [
      "Train batch number 99: 100%|██████████| 99/99 [00:13<00:00,  7.53batches/s]\n",
      "Test batch number 13: 100%|██████████| 13/13 [00:03<00:00,  3.88batches/s]\n"
     ]
    },
    {
     "name": "stdout",
     "output_type": "stream",
     "text": [
      "\n",
      "Metrics: {'train_loss': 0.00710297257650051, 'test_loss': 2.0006354588728685, 'bleu': 22.7052, 'gen_len': 9.8333}\n",
      "\n",
      "=============================\n",
      "\n"
     ]
    },
    {
     "name": "stderr",
     "output_type": "stream",
     "text": [
      " 29%|██▉       | 58/200 [17:24<42:40, 18.03s/it]"
     ]
    },
    {
     "name": "stdout",
     "output_type": "stream",
     "text": [
      "For epoch 359: \n",
      "{Learning rate: [0.0018074553338100333]}\n"
     ]
    },
    {
     "name": "stderr",
     "output_type": "stream",
     "text": [
      "Train batch number 99: 100%|██████████| 99/99 [00:12<00:00,  7.76batches/s]\n",
      "Test batch number 13: 100%|██████████| 13/13 [00:03<00:00,  4.02batches/s]\n"
     ]
    },
    {
     "name": "stdout",
     "output_type": "stream",
     "text": [
      "\n",
      "Metrics: {'train_loss': 0.007210490584839135, 'test_loss': 2.0085158348083496, 'bleu': 21.628, 'gen_len': 9.8788}\n",
      "\n",
      "=============================\n",
      "\n"
     ]
    },
    {
     "name": "stderr",
     "output_type": "stream",
     "text": [
      " 30%|██▉       | 59/200 [17:42<42:08, 17.94s/it]"
     ]
    },
    {
     "name": "stdout",
     "output_type": "stream",
     "text": [
      "For epoch 360: \n",
      "{Learning rate: [0.001801764299039506]}\n"
     ]
    },
    {
     "name": "stderr",
     "output_type": "stream",
     "text": [
      "Train batch number 99: 100%|██████████| 99/99 [00:12<00:00,  7.77batches/s]\n",
      "Test batch number 13: 100%|██████████| 13/13 [00:03<00:00,  4.03batches/s]\n"
     ]
    },
    {
     "name": "stdout",
     "output_type": "stream",
     "text": [
      "\n",
      "Metrics: {'train_loss': 0.007212477575369048, 'test_loss': 2.0098316486065206, 'bleu': 21.8643, 'gen_len': 9.8131}\n",
      "\n",
      "=============================\n",
      "\n"
     ]
    },
    {
     "name": "stderr",
     "output_type": "stream",
     "text": [
      " 30%|███       | 60/200 [18:00<41:41, 17.87s/it]"
     ]
    },
    {
     "name": "stdout",
     "output_type": "stream",
     "text": [
      "For epoch 361: \n",
      "{Learning rate: [0.0017960689918222544]}\n"
     ]
    },
    {
     "name": "stderr",
     "output_type": "stream",
     "text": [
      "Train batch number 99: 100%|██████████| 99/99 [00:12<00:00,  7.71batches/s]\n",
      "Test batch number 13: 100%|██████████| 13/13 [00:03<00:00,  3.97batches/s]\n"
     ]
    },
    {
     "name": "stdout",
     "output_type": "stream",
     "text": [
      "\n",
      "Metrics: {'train_loss': 0.006745103253357376, 'test_loss': 2.0146098412000217, 'bleu': 21.2897, 'gen_len': 9.6515}\n",
      "\n",
      "=============================\n",
      "\n"
     ]
    },
    {
     "name": "stderr",
     "output_type": "stream",
     "text": [
      " 30%|███       | 61/200 [18:18<41:23, 17.86s/it]"
     ]
    },
    {
     "name": "stdout",
     "output_type": "stream",
     "text": [
      "For epoch 362: \n",
      "{Learning rate: [0.0017903694960315505]}\n"
     ]
    },
    {
     "name": "stderr",
     "output_type": "stream",
     "text": [
      "Train batch number 99: 100%|██████████| 99/99 [00:12<00:00,  7.62batches/s]\n",
      "Test batch number 13: 100%|██████████| 13/13 [00:03<00:00,  3.87batches/s]\n"
     ]
    },
    {
     "name": "stdout",
     "output_type": "stream",
     "text": [
      "\n",
      "Metrics: {'train_loss': 0.006911656995376835, 'test_loss': 2.003403379366948, 'bleu': 21.7558, 'gen_len': 9.7121}\n",
      "\n",
      "=============================\n",
      "\n"
     ]
    },
    {
     "name": "stderr",
     "output_type": "stream",
     "text": [
      " 31%|███       | 62/200 [18:36<41:14, 17.93s/it]"
     ]
    },
    {
     "name": "stdout",
     "output_type": "stream",
     "text": [
      "For epoch 363: \n",
      "{Learning rate: [0.00178466589560235]}\n"
     ]
    },
    {
     "name": "stderr",
     "output_type": "stream",
     "text": [
      "Train batch number 99: 100%|██████████| 99/99 [00:12<00:00,  7.68batches/s]\n",
      "Test batch number 13: 100%|██████████| 13/13 [00:03<00:00,  4.05batches/s]\n"
     ]
    },
    {
     "name": "stdout",
     "output_type": "stream",
     "text": [
      "\n",
      "Metrics: {'train_loss': 0.007315182814085291, 'test_loss': 1.9832468307935274, 'bleu': 21.832, 'gen_len': 9.6515}\n",
      "\n",
      "=============================\n",
      "\n"
     ]
    },
    {
     "name": "stderr",
     "output_type": "stream",
     "text": [
      " 32%|███▏      | 63/200 [18:54<40:52, 17.90s/it]"
     ]
    },
    {
     "name": "stdout",
     "output_type": "stream",
     "text": [
      "For epoch 364: \n",
      "{Learning rate: [0.001778958274530058]}\n"
     ]
    },
    {
     "name": "stderr",
     "output_type": "stream",
     "text": [
      "Train batch number 99: 100%|██████████| 99/99 [00:12<00:00,  7.74batches/s]\n",
      "Test batch number 13: 100%|██████████| 13/13 [00:03<00:00,  4.04batches/s]\n"
     ]
    },
    {
     "name": "stdout",
     "output_type": "stream",
     "text": [
      "\n",
      "Metrics: {'train_loss': 0.006831468810266203, 'test_loss': 2.0077422123688917, 'bleu': 21.7616, 'gen_len': 9.6869}\n",
      "\n",
      "=============================\n",
      "\n"
     ]
    },
    {
     "name": "stderr",
     "output_type": "stream",
     "text": [
      " 32%|███▏      | 64/200 [19:11<40:28, 17.85s/it]"
     ]
    },
    {
     "name": "stdout",
     "output_type": "stream",
     "text": [
      "For epoch 365: \n",
      "{Learning rate: [0.0017732467168692888]}\n"
     ]
    },
    {
     "name": "stderr",
     "output_type": "stream",
     "text": [
      "Train batch number 99: 100%|██████████| 99/99 [00:12<00:00,  7.70batches/s]\n",
      "Test batch number 13: 100%|██████████| 13/13 [00:03<00:00,  4.07batches/s]\n"
     ]
    },
    {
     "name": "stdout",
     "output_type": "stream",
     "text": [
      "\n",
      "Metrics: {'train_loss': 0.007048168191404054, 'test_loss': 1.9958587059607873, 'bleu': 21.4686, 'gen_len': 9.7121}\n",
      "\n",
      "=============================\n",
      "\n"
     ]
    },
    {
     "name": "stderr",
     "output_type": "stream",
     "text": [
      " 32%|███▎      | 65/200 [19:29<40:08, 17.84s/it]"
     ]
    },
    {
     "name": "stdout",
     "output_type": "stream",
     "text": [
      "For epoch 366: \n",
      "{Learning rate: [0.0017675313067326312]}\n"
     ]
    },
    {
     "name": "stderr",
     "output_type": "stream",
     "text": [
      "Train batch number 99: 100%|██████████| 99/99 [00:13<00:00,  7.61batches/s]\n",
      "Test batch number 13: 100%|██████████| 13/13 [00:03<00:00,  3.93batches/s]\n"
     ]
    },
    {
     "name": "stdout",
     "output_type": "stream",
     "text": [
      "\n",
      "Metrics: {'train_loss': 0.007039429988409863, 'test_loss': 1.9895051075862005, 'bleu': 21.8657, 'gen_len': 9.7071}\n",
      "\n",
      "=============================\n",
      "\n"
     ]
    },
    {
     "name": "stderr",
     "output_type": "stream",
     "text": [
      " 33%|███▎      | 66/200 [19:47<39:58, 17.90s/it]"
     ]
    },
    {
     "name": "stdout",
     "output_type": "stream",
     "text": [
      "For epoch 367: \n",
      "{Learning rate: [0.0017618121282894073]}\n"
     ]
    },
    {
     "name": "stderr",
     "output_type": "stream",
     "text": [
      "Train batch number 99: 100%|██████████| 99/99 [00:12<00:00,  7.67batches/s]\n",
      "Test batch number 13: 100%|██████████| 13/13 [00:03<00:00,  3.91batches/s]\n"
     ]
    },
    {
     "name": "stdout",
     "output_type": "stream",
     "text": [
      "\n",
      "Metrics: {'train_loss': 0.00667864980568258, 'test_loss': 2.0091660022735596, 'bleu': 21.5979, 'gen_len': 9.6919}\n",
      "\n",
      "=============================\n",
      "\n"
     ]
    },
    {
     "name": "stderr",
     "output_type": "stream",
     "text": [
      " 34%|███▎      | 67/200 [20:05<39:43, 17.92s/it]"
     ]
    },
    {
     "name": "stdout",
     "output_type": "stream",
     "text": [
      "For epoch 368: \n",
      "{Learning rate: [0.0017560892657644343]}\n"
     ]
    },
    {
     "name": "stderr",
     "output_type": "stream",
     "text": [
      "Train batch number 99: 100%|██████████| 99/99 [00:12<00:00,  7.67batches/s]\n",
      "Test batch number 13: 100%|██████████| 13/13 [00:03<00:00,  3.89batches/s]\n"
     ]
    },
    {
     "name": "stdout",
     "output_type": "stream",
     "text": [
      "\n",
      "Metrics: {'train_loss': 0.0065687417246417775, 'test_loss': 2.0142959356307983, 'bleu': 21.4458, 'gen_len': 9.7576}\n",
      "\n",
      "=============================\n",
      "\n"
     ]
    },
    {
     "name": "stderr",
     "output_type": "stream",
     "text": [
      " 34%|███▍      | 68/200 [20:23<39:27, 17.94s/it]"
     ]
    },
    {
     "name": "stdout",
     "output_type": "stream",
     "text": [
      "For epoch 369: \n",
      "{Learning rate: [0.001750362803436785]}\n"
     ]
    },
    {
     "name": "stderr",
     "output_type": "stream",
     "text": [
      "Train batch number 99: 100%|██████████| 99/99 [00:12<00:00,  7.79batches/s]\n",
      "Test batch number 13: 100%|██████████| 13/13 [00:03<00:00,  4.04batches/s]\n"
     ]
    },
    {
     "name": "stdout",
     "output_type": "stream",
     "text": [
      "\n",
      "Metrics: {'train_loss': 0.0067256694851264434, 'test_loss': 2.038788786301246, 'bleu': 21.6235, 'gen_len': 9.6818}\n",
      "\n",
      "=============================\n",
      "\n"
     ]
    },
    {
     "name": "stderr",
     "output_type": "stream",
     "text": [
      " 34%|███▍      | 69/200 [20:41<38:59, 17.86s/it]"
     ]
    },
    {
     "name": "stdout",
     "output_type": "stream",
     "text": [
      "For epoch 370: \n",
      "{Learning rate: [0.0017446328256385446]}\n"
     ]
    },
    {
     "name": "stderr",
     "output_type": "stream",
     "text": [
      "Train batch number 99: 100%|██████████| 99/99 [00:12<00:00,  7.72batches/s]\n",
      "Test batch number 13: 100%|██████████| 13/13 [00:03<00:00,  3.89batches/s]\n"
     ]
    },
    {
     "name": "stdout",
     "output_type": "stream",
     "text": [
      "\n",
      "Metrics: {'train_loss': 0.006713963680367945, 'test_loss': 2.0222181356870212, 'bleu': 21.4036, 'gen_len': 9.7172}\n",
      "\n",
      "=============================\n",
      "\n"
     ]
    },
    {
     "name": "stderr",
     "output_type": "stream",
     "text": [
      " 35%|███▌      | 70/200 [20:59<38:43, 17.87s/it]"
     ]
    },
    {
     "name": "stdout",
     "output_type": "stream",
     "text": [
      "For epoch 371: \n",
      "{Learning rate: [0.0017388994167535689]}\n"
     ]
    },
    {
     "name": "stderr",
     "output_type": "stream",
     "text": [
      "Train batch number 99: 100%|██████████| 99/99 [00:13<00:00,  7.60batches/s]\n",
      "Test batch number 13: 100%|██████████| 13/13 [00:03<00:00,  3.88batches/s]\n"
     ]
    },
    {
     "name": "stdout",
     "output_type": "stream",
     "text": [
      "\n",
      "Metrics: {'train_loss': 0.00673960435270059, 'test_loss': 2.0160511915500345, 'bleu': 21.7585, 'gen_len': 9.5253}\n",
      "\n",
      "=============================\n",
      "\n"
     ]
    },
    {
     "name": "stderr",
     "output_type": "stream",
     "text": [
      " 36%|███▌      | 71/200 [21:17<38:44, 18.02s/it]"
     ]
    },
    {
     "name": "stdout",
     "output_type": "stream",
     "text": [
      "For epoch 372: \n",
      "{Learning rate: [0.001733162661216244]}\n"
     ]
    },
    {
     "name": "stderr",
     "output_type": "stream",
     "text": [
      "Train batch number 99: 100%|██████████| 99/99 [00:12<00:00,  7.70batches/s]\n",
      "Test batch number 13: 100%|██████████| 13/13 [00:03<00:00,  3.95batches/s]\n"
     ]
    },
    {
     "name": "stdout",
     "output_type": "stream",
     "text": [
      "\n",
      "Metrics: {'train_loss': 0.0065335853704700545, 'test_loss': 2.0282219648361206, 'bleu': 21.8512, 'gen_len': 9.6212}\n",
      "\n",
      "=============================\n",
      "\n"
     ]
    },
    {
     "name": "stderr",
     "output_type": "stream",
     "text": [
      " 36%|███▌      | 72/200 [21:35<38:22, 17.99s/it]"
     ]
    },
    {
     "name": "stdout",
     "output_type": "stream",
     "text": [
      "For epoch 373: \n",
      "{Learning rate: [0.00172742264351024]}\n"
     ]
    },
    {
     "name": "stderr",
     "output_type": "stream",
     "text": [
      "Train batch number 99: 100%|██████████| 99/99 [00:13<00:00,  7.59batches/s]\n",
      "Test batch number 13: 100%|██████████| 13/13 [00:03<00:00,  4.06batches/s]\n"
     ]
    },
    {
     "name": "stdout",
     "output_type": "stream",
     "text": [
      "\n",
      "Metrics: {'train_loss': 0.0069454086103977524, 'test_loss': 2.025287600663992, 'bleu': 21.5914, 'gen_len': 9.6162}\n",
      "\n",
      "=============================\n",
      "\n"
     ]
    },
    {
     "name": "stderr",
     "output_type": "stream",
     "text": [
      " 36%|███▋      | 73/200 [21:53<38:03, 17.98s/it]"
     ]
    },
    {
     "name": "stdout",
     "output_type": "stream",
     "text": [
      "For epoch 374: \n",
      "{Learning rate: [0.0017216794481672685]}\n"
     ]
    },
    {
     "name": "stderr",
     "output_type": "stream",
     "text": [
      "Train batch number 99: 100%|██████████| 99/99 [00:13<00:00,  7.57batches/s]\n",
      "Test batch number 13: 100%|██████████| 13/13 [00:03<00:00,  4.08batches/s]\n"
     ]
    },
    {
     "name": "stdout",
     "output_type": "stream",
     "text": [
      "\n",
      "Metrics: {'train_loss': 0.006671324262931717, 'test_loss': 2.016913358981793, 'bleu': 21.7337, 'gen_len': 9.7929}\n",
      "\n",
      "=============================\n",
      "\n"
     ]
    },
    {
     "name": "stderr",
     "output_type": "stream",
     "text": [
      " 37%|███▋      | 74/200 [22:11<37:46, 17.99s/it]"
     ]
    },
    {
     "name": "stdout",
     "output_type": "stream",
     "text": [
      "For epoch 375: \n",
      "{Learning rate: [0.0017159331597658381]}\n"
     ]
    },
    {
     "name": "stderr",
     "output_type": "stream",
     "text": [
      "Train batch number 99: 100%|██████████| 99/99 [00:12<00:00,  7.71batches/s]\n",
      "Test batch number 13: 100%|██████████| 13/13 [00:03<00:00,  3.87batches/s]\n"
     ]
    },
    {
     "name": "stdout",
     "output_type": "stream",
     "text": [
      "\n",
      "Metrics: {'train_loss': 0.006553766035740593, 'test_loss': 2.0076289543738732, 'bleu': 21.8371, 'gen_len': 9.8636}\n",
      "\n",
      "=============================\n",
      "\n"
     ]
    },
    {
     "name": "stderr",
     "output_type": "stream",
     "text": [
      " 38%|███▊      | 75/200 [22:29<37:26, 17.97s/it]"
     ]
    },
    {
     "name": "stdout",
     "output_type": "stream",
     "text": [
      "For epoch 376: \n",
      "{Learning rate: [0.0017101838629300066]}\n"
     ]
    },
    {
     "name": "stderr",
     "output_type": "stream",
     "text": [
      "Train batch number 99: 100%|██████████| 99/99 [00:13<00:00,  7.61batches/s]\n",
      "Test batch number 13: 100%|██████████| 13/13 [00:03<00:00,  3.82batches/s]\n"
     ]
    },
    {
     "name": "stdout",
     "output_type": "stream",
     "text": [
      "\n",
      "Metrics: {'train_loss': 0.0066717077097196995, 'test_loss': 2.001315373640794, 'bleu': 21.946, 'gen_len': 9.803}\n",
      "\n",
      "=============================\n",
      "\n"
     ]
    },
    {
     "name": "stderr",
     "output_type": "stream",
     "text": [
      " 38%|███▊      | 76/200 [22:48<38:05, 18.43s/it]"
     ]
    },
    {
     "name": "stdout",
     "output_type": "stream",
     "text": [
      "For epoch 377: \n",
      "{Learning rate: [0.0017044316423281377]}\n"
     ]
    },
    {
     "name": "stderr",
     "output_type": "stream",
     "text": [
      "Train batch number 99: 100%|██████████| 99/99 [00:13<00:00,  7.54batches/s]\n",
      "Test batch number 13: 100%|██████████| 13/13 [00:03<00:00,  3.85batches/s]\n"
     ]
    },
    {
     "name": "stdout",
     "output_type": "stream",
     "text": [
      "\n",
      "Metrics: {'train_loss': 0.006615114879101806, 'test_loss': 2.0113950417591977, 'bleu': 21.3668, 'gen_len': 9.7879}\n",
      "\n",
      "=============================\n",
      "\n"
     ]
    },
    {
     "name": "stderr",
     "output_type": "stream",
     "text": [
      " 38%|███▊      | 77/200 [23:07<37:40, 18.38s/it]"
     ]
    },
    {
     "name": "stdout",
     "output_type": "stream",
     "text": [
      "For epoch 378: \n",
      "{Learning rate: [0.0016986765826716515]}\n"
     ]
    },
    {
     "name": "stderr",
     "output_type": "stream",
     "text": [
      "Train batch number 99: 100%|██████████| 99/99 [00:12<00:00,  7.66batches/s]\n",
      "Test batch number 13: 100%|██████████| 13/13 [00:03<00:00,  4.03batches/s]\n"
     ]
    },
    {
     "name": "stdout",
     "output_type": "stream",
     "text": [
      "\n",
      "Metrics: {'train_loss': 0.006575851456022285, 'test_loss': 2.0183543333640466, 'bleu': 21.2422, 'gen_len': 9.6818}\n",
      "\n",
      "=============================\n",
      "\n"
     ]
    },
    {
     "name": "stderr",
     "output_type": "stream",
     "text": [
      " 39%|███▉      | 78/200 [23:25<37:17, 18.34s/it]"
     ]
    },
    {
     "name": "stdout",
     "output_type": "stream",
     "text": [
      "For epoch 379: \n",
      "{Learning rate: [0.0016929187687137787]}\n"
     ]
    },
    {
     "name": "stderr",
     "output_type": "stream",
     "text": [
      "Train batch number 99: 100%|██████████| 99/99 [00:12<00:00,  7.66batches/s]\n",
      "Test batch number 13: 100%|██████████| 13/13 [00:03<00:00,  3.83batches/s]\n"
     ]
    },
    {
     "name": "stdout",
     "output_type": "stream",
     "text": [
      "\n",
      "Metrics: {'train_loss': 0.006878568967533853, 'test_loss': 2.014962049630972, 'bleu': 21.7552, 'gen_len': 9.7374}\n",
      "\n",
      "=============================\n",
      "\n"
     ]
    },
    {
     "name": "stderr",
     "output_type": "stream",
     "text": [
      " 40%|███▉      | 79/200 [23:43<36:48, 18.26s/it]"
     ]
    },
    {
     "name": "stdout",
     "output_type": "stream",
     "text": [
      "For epoch 380: \n",
      "{Learning rate: [0.001687158285248311]}\n"
     ]
    },
    {
     "name": "stderr",
     "output_type": "stream",
     "text": [
      "Train batch number 99: 100%|██████████| 99/99 [00:13<00:00,  7.11batches/s]\n",
      "Test batch number 13: 100%|██████████| 13/13 [00:03<00:00,  4.00batches/s]\n"
     ]
    },
    {
     "name": "stdout",
     "output_type": "stream",
     "text": [
      "\n",
      "Metrics: {'train_loss': 0.0065396091334270125, 'test_loss': 2.0100264090758104, 'bleu': 22.0518, 'gen_len': 9.6869}\n",
      "\n",
      "=============================\n",
      "\n"
     ]
    },
    {
     "name": "stderr",
     "output_type": "stream",
     "text": [
      " 40%|████      | 80/200 [24:02<36:53, 18.45s/it]"
     ]
    },
    {
     "name": "stdout",
     "output_type": "stream",
     "text": [
      "For epoch 381: \n",
      "{Learning rate: [0.001681395217108355]}\n"
     ]
    },
    {
     "name": "stderr",
     "output_type": "stream",
     "text": [
      "Train batch number 99: 100%|██████████| 99/99 [00:12<00:00,  7.68batches/s]\n",
      "Test batch number 13: 100%|██████████| 13/13 [00:03<00:00,  3.97batches/s]\n"
     ]
    },
    {
     "name": "stdout",
     "output_type": "stream",
     "text": [
      "\n",
      "Metrics: {'train_loss': 0.0065207389200099206, 'test_loss': 2.013266691794762, 'bleu': 21.4532, 'gen_len': 9.6667}\n",
      "\n",
      "=============================\n",
      "\n"
     ]
    },
    {
     "name": "stderr",
     "output_type": "stream",
     "text": [
      " 40%|████      | 81/200 [24:20<36:16, 18.29s/it]"
     ]
    },
    {
     "name": "stdout",
     "output_type": "stream",
     "text": [
      "For epoch 382: \n",
      "{Learning rate: [0.0016756296491650786]}\n"
     ]
    },
    {
     "name": "stderr",
     "output_type": "stream",
     "text": [
      "Train batch number 99: 100%|██████████| 99/99 [00:13<00:00,  7.59batches/s]\n",
      "Test batch number 13: 100%|██████████| 13/13 [00:03<00:00,  3.82batches/s]\n"
     ]
    },
    {
     "name": "stdout",
     "output_type": "stream",
     "text": [
      "\n",
      "Metrics: {'train_loss': 0.006584354642939735, 'test_loss': 2.0086300648175754, 'bleu': 20.8193, 'gen_len': 9.8485}\n",
      "\n",
      "=============================\n",
      "\n"
     ]
    },
    {
     "name": "stderr",
     "output_type": "stream",
     "text": [
      " 41%|████      | 82/200 [24:38<35:54, 18.26s/it]"
     ]
    },
    {
     "name": "stdout",
     "output_type": "stream",
     "text": [
      "For epoch 383: \n",
      "{Learning rate: [0.0016698616663264664]}\n"
     ]
    },
    {
     "name": "stderr",
     "output_type": "stream",
     "text": [
      "Train batch number 99: 100%|██████████| 99/99 [00:13<00:00,  7.46batches/s]\n",
      "Test batch number 13: 100%|██████████| 13/13 [00:03<00:00,  3.79batches/s]\n"
     ]
    },
    {
     "name": "stdout",
     "output_type": "stream",
     "text": [
      "\n",
      "Metrics: {'train_loss': 0.006803580233180482, 'test_loss': 2.014248242745033, 'bleu': 21.7021, 'gen_len': 9.803}\n",
      "\n",
      "=============================\n",
      "\n"
     ]
    },
    {
     "name": "stderr",
     "output_type": "stream",
     "text": [
      " 42%|████▏     | 83/200 [24:56<35:42, 18.32s/it]"
     ]
    },
    {
     "name": "stdout",
     "output_type": "stream",
     "text": [
      "For epoch 384: \n",
      "{Learning rate: [0.0016640913535360638]}\n"
     ]
    },
    {
     "name": "stderr",
     "output_type": "stream",
     "text": [
      "Train batch number 99: 100%|██████████| 99/99 [00:13<00:00,  7.46batches/s]\n",
      "Test batch number 13: 100%|██████████| 13/13 [00:03<00:00,  4.09batches/s]\n"
     ]
    },
    {
     "name": "stdout",
     "output_type": "stream",
     "text": [
      "\n",
      "Metrics: {'train_loss': 0.006645020076621681, 'test_loss': 2.0107701283234816, 'bleu': 20.8771, 'gen_len': 9.8081}\n",
      "\n",
      "=============================\n",
      "\n"
     ]
    },
    {
     "name": "stderr",
     "output_type": "stream",
     "text": [
      " 42%|████▏     | 84/200 [25:15<35:20, 18.28s/it]"
     ]
    },
    {
     "name": "stdout",
     "output_type": "stream",
     "text": [
      "For epoch 385: \n",
      "{Learning rate: [0.0016583187957717317]}\n"
     ]
    },
    {
     "name": "stderr",
     "output_type": "stream",
     "text": [
      "Train batch number 99: 100%|██████████| 99/99 [00:12<00:00,  7.76batches/s]\n",
      "Test batch number 13: 100%|██████████| 13/13 [00:03<00:00,  3.89batches/s]\n"
     ]
    },
    {
     "name": "stdout",
     "output_type": "stream",
     "text": [
      "\n",
      "Metrics: {'train_loss': 0.006917720881344826, 'test_loss': 2.0188247515605044, 'bleu': 21.776, 'gen_len': 9.7071}\n",
      "\n",
      "=============================\n",
      "\n"
     ]
    },
    {
     "name": "stderr",
     "output_type": "stream",
     "text": [
      " 42%|████▎     | 85/200 [25:33<34:47, 18.15s/it]"
     ]
    },
    {
     "name": "stdout",
     "output_type": "stream",
     "text": [
      "For epoch 386: \n",
      "{Learning rate: [0.00165254407804439]}\n"
     ]
    },
    {
     "name": "stderr",
     "output_type": "stream",
     "text": [
      "Train batch number 99: 100%|██████████| 99/99 [00:13<00:00,  7.50batches/s]\n",
      "Test batch number 13: 100%|██████████| 13/13 [00:03<00:00,  3.78batches/s]\n"
     ]
    },
    {
     "name": "stdout",
     "output_type": "stream",
     "text": [
      "\n",
      "Metrics: {'train_loss': 0.006597616904235276, 'test_loss': 2.0040680995354285, 'bleu': 21.9769, 'gen_len': 9.8838}\n",
      "\n",
      "=============================\n",
      "\n"
     ]
    },
    {
     "name": "stderr",
     "output_type": "stream",
     "text": [
      " 43%|████▎     | 86/200 [25:51<34:37, 18.23s/it]"
     ]
    },
    {
     "name": "stdout",
     "output_type": "stream",
     "text": [
      "For epoch 387: \n",
      "{Learning rate: [0.0016467672853967676]}\n"
     ]
    },
    {
     "name": "stderr",
     "output_type": "stream",
     "text": [
      "Train batch number 99: 100%|██████████| 99/99 [00:12<00:00,  7.69batches/s]\n",
      "Test batch number 13: 100%|██████████| 13/13 [00:03<00:00,  3.77batches/s]\n"
     ]
    },
    {
     "name": "stdout",
     "output_type": "stream",
     "text": [
      "\n",
      "Metrics: {'train_loss': 0.006518826869344621, 'test_loss': 2.02897061751439, 'bleu': 21.7013, 'gen_len': 9.8535}\n",
      "\n",
      "=============================\n",
      "\n"
     ]
    },
    {
     "name": "stderr",
     "output_type": "stream",
     "text": [
      " 44%|████▎     | 87/200 [26:09<34:14, 18.18s/it]"
     ]
    },
    {
     "name": "stdout",
     "output_type": "stream",
     "text": [
      "For epoch 388: \n",
      "{Learning rate: [0.001640988502902151]}\n"
     ]
    },
    {
     "name": "stderr",
     "output_type": "stream",
     "text": [
      "Train batch number 99: 100%|██████████| 99/99 [00:12<00:00,  7.71batches/s]\n",
      "Test batch number 13: 100%|██████████| 13/13 [00:03<00:00,  3.90batches/s]\n"
     ]
    },
    {
     "name": "stdout",
     "output_type": "stream",
     "text": [
      "\n",
      "Metrics: {'train_loss': 0.006606731264095876, 'test_loss': 2.0201094975838294, 'bleu': 22.3225, 'gen_len': 9.7525}\n",
      "\n",
      "=============================\n",
      "\n"
     ]
    },
    {
     "name": "stderr",
     "output_type": "stream",
     "text": [
      " 44%|████▍     | 88/200 [26:27<33:47, 18.11s/it]"
     ]
    },
    {
     "name": "stdout",
     "output_type": "stream",
     "text": [
      "For epoch 389: \n",
      "{Learning rate: [0.0016352078156631315]}\n"
     ]
    },
    {
     "name": "stderr",
     "output_type": "stream",
     "text": [
      "Train batch number 99: 100%|██████████| 99/99 [00:12<00:00,  7.65batches/s]\n",
      "Test batch number 13: 100%|██████████| 13/13 [00:03<00:00,  3.86batches/s]\n"
     ]
    },
    {
     "name": "stdout",
     "output_type": "stream",
     "text": [
      "\n",
      "Metrics: {'train_loss': 0.006673043750601614, 'test_loss': 2.006194463142982, 'bleu': 21.99, 'gen_len': 9.9192}\n",
      "\n",
      "=============================\n",
      "\n"
     ]
    },
    {
     "name": "stderr",
     "output_type": "stream",
     "text": [
      " 44%|████▍     | 89/200 [26:45<33:28, 18.09s/it]"
     ]
    },
    {
     "name": "stdout",
     "output_type": "stream",
     "text": [
      "For epoch 390: \n",
      "{Learning rate: [0.00162942530881035]}\n"
     ]
    },
    {
     "name": "stderr",
     "output_type": "stream",
     "text": [
      "Train batch number 99: 100%|██████████| 99/99 [00:12<00:00,  7.72batches/s]\n",
      "Test batch number 13: 100%|██████████| 13/13 [00:03<00:00,  3.87batches/s]\n"
     ]
    },
    {
     "name": "stdout",
     "output_type": "stream",
     "text": [
      "\n",
      "Metrics: {'train_loss': 0.006911079166310068, 'test_loss': 2.0164241332274218, 'bleu': 21.9784, 'gen_len': 9.9141}\n",
      "\n",
      "=============================\n",
      "\n"
     ]
    },
    {
     "name": "stderr",
     "output_type": "stream",
     "text": [
      " 45%|████▌     | 90/200 [27:03<33:04, 18.04s/it]"
     ]
    },
    {
     "name": "stdout",
     "output_type": "stream",
     "text": [
      "For epoch 391: \n",
      "{Learning rate: [0.0016236410675012445]}\n"
     ]
    },
    {
     "name": "stderr",
     "output_type": "stream",
     "text": [
      "Train batch number 99: 100%|██████████| 99/99 [00:12<00:00,  7.73batches/s]\n",
      "Test batch number 13: 100%|██████████| 13/13 [00:03<00:00,  4.00batches/s]\n"
     ]
    },
    {
     "name": "stdout",
     "output_type": "stream",
     "text": [
      "\n",
      "Metrics: {'train_loss': 0.006535249574679053, 'test_loss': 2.009672990212074, 'bleu': 21.9043, 'gen_len': 9.9293}\n",
      "\n",
      "=============================\n",
      "\n"
     ]
    },
    {
     "name": "stderr",
     "output_type": "stream",
     "text": [
      " 46%|████▌     | 91/200 [27:21<32:38, 17.97s/it]"
     ]
    },
    {
     "name": "stdout",
     "output_type": "stream",
     "text": [
      "For epoch 392: \n",
      "{Learning rate: [0.0016178551769187948]}\n"
     ]
    },
    {
     "name": "stderr",
     "output_type": "stream",
     "text": [
      "Train batch number 99: 100%|██████████| 99/99 [00:13<00:00,  7.61batches/s]\n",
      "Test batch number 13: 100%|██████████| 13/13 [00:03<00:00,  4.05batches/s]\n"
     ]
    },
    {
     "name": "stdout",
     "output_type": "stream",
     "text": [
      "\n",
      "Metrics: {'train_loss': 0.0067646145968194675, 'test_loss': 2.0085533215449405, 'bleu': 22.0584, 'gen_len': 9.9343}\n",
      "\n",
      "=============================\n",
      "\n"
     ]
    },
    {
     "name": "stderr",
     "output_type": "stream",
     "text": [
      " 46%|████▌     | 92/200 [27:39<32:19, 17.96s/it]"
     ]
    },
    {
     "name": "stdout",
     "output_type": "stream",
     "text": [
      "For epoch 393: \n",
      "{Learning rate: [0.0016120677222702725]}\n"
     ]
    },
    {
     "name": "stderr",
     "output_type": "stream",
     "text": [
      "Train batch number 99: 100%|██████████| 99/99 [00:13<00:00,  7.46batches/s]\n",
      "Test batch number 13: 100%|██████████| 13/13 [00:03<00:00,  3.84batches/s]\n"
     ]
    },
    {
     "name": "stdout",
     "output_type": "stream",
     "text": [
      "\n",
      "Metrics: {'train_loss': 0.006556049950163331, 'test_loss': 2.0124716575329122, 'bleu': 22.2574, 'gen_len': 9.899}\n",
      "\n",
      "=============================\n",
      "\n"
     ]
    },
    {
     "name": "stderr",
     "output_type": "stream",
     "text": [
      " 46%|████▋     | 93/200 [27:57<32:16, 18.10s/it]"
     ]
    },
    {
     "name": "stdout",
     "output_type": "stream",
     "text": [
      "For epoch 394: \n",
      "{Learning rate: [0.0016062787887859782]}\n"
     ]
    },
    {
     "name": "stderr",
     "output_type": "stream",
     "text": [
      "Train batch number 99: 100%|██████████| 99/99 [00:13<00:00,  7.58batches/s]\n",
      "Test batch number 13: 100%|██████████| 13/13 [00:03<00:00,  4.05batches/s]\n"
     ]
    },
    {
     "name": "stdout",
     "output_type": "stream",
     "text": [
      "\n",
      "Metrics: {'train_loss': 0.006516290504327797, 'test_loss': 2.0157001935518704, 'bleu': 21.7005, 'gen_len': 9.8889}\n",
      "\n",
      "=============================\n",
      "\n"
     ]
    },
    {
     "name": "stderr",
     "output_type": "stream",
     "text": [
      " 47%|████▋     | 94/200 [28:15<31:56, 18.08s/it]"
     ]
    },
    {
     "name": "stdout",
     "output_type": "stream",
     "text": [
      "For epoch 395: \n",
      "{Learning rate: [0.0016004884617179945]}\n"
     ]
    },
    {
     "name": "stderr",
     "output_type": "stream",
     "text": [
      "Train batch number 99: 100%|██████████| 99/99 [00:13<00:00,  7.60batches/s]\n",
      "Test batch number 13: 100%|██████████| 13/13 [00:03<00:00,  3.80batches/s]\n"
     ]
    },
    {
     "name": "stdout",
     "output_type": "stream",
     "text": [
      "\n",
      "Metrics: {'train_loss': 0.006368803412323074, 'test_loss': 2.014616058422969, 'bleu': 21.7783, 'gen_len': 9.9646}\n",
      "\n",
      "=============================\n",
      "\n"
     ]
    },
    {
     "name": "stderr",
     "output_type": "stream",
     "text": [
      " 48%|████▊     | 95/200 [28:33<31:42, 18.12s/it]"
     ]
    },
    {
     "name": "stdout",
     "output_type": "stream",
     "text": [
      "For epoch 396: \n",
      "{Learning rate: [0.0015946968263389253]}\n"
     ]
    },
    {
     "name": "stderr",
     "output_type": "stream",
     "text": [
      "Train batch number 99: 100%|██████████| 99/99 [00:13<00:00,  7.35batches/s]\n",
      "Test batch number 13: 100%|██████████| 13/13 [00:03<00:00,  3.80batches/s]\n"
     ]
    },
    {
     "name": "stdout",
     "output_type": "stream",
     "text": [
      "\n",
      "Metrics: {'train_loss': 0.0065823149816791595, 'test_loss': 2.0246199186031637, 'bleu': 22.1776, 'gen_len': 9.9192}\n",
      "\n",
      "=============================\n",
      "\n"
     ]
    },
    {
     "name": "stderr",
     "output_type": "stream",
     "text": [
      " 48%|████▊     | 96/200 [28:52<31:40, 18.28s/it]"
     ]
    },
    {
     "name": "stdout",
     "output_type": "stream",
     "text": [
      "For epoch 397: \n",
      "{Learning rate: [0.001588903967940642]}\n"
     ]
    },
    {
     "name": "stderr",
     "output_type": "stream",
     "text": [
      "Train batch number 99: 100%|██████████| 99/99 [00:13<00:00,  7.34batches/s]\n",
      "Test batch number 13: 100%|██████████| 13/13 [00:03<00:00,  3.92batches/s]\n"
     ]
    },
    {
     "name": "stdout",
     "output_type": "stream",
     "text": [
      "\n",
      "Metrics: {'train_loss': 0.006577081939662957, 'test_loss': 2.029624187029325, 'bleu': 22.5904, 'gen_len': 9.8889}\n",
      "\n",
      "=============================\n",
      "\n"
     ]
    },
    {
     "name": "stderr",
     "output_type": "stream",
     "text": [
      " 48%|████▊     | 97/200 [29:11<31:31, 18.36s/it]"
     ]
    },
    {
     "name": "stdout",
     "output_type": "stream",
     "text": [
      "For epoch 398: \n",
      "{Learning rate: [0.0015831099718330273]}\n"
     ]
    },
    {
     "name": "stderr",
     "output_type": "stream",
     "text": [
      "Train batch number 99: 100%|██████████| 99/99 [00:13<00:00,  7.41batches/s]\n",
      "Test batch number 13: 100%|██████████| 13/13 [00:03<00:00,  3.95batches/s]\n"
     ]
    },
    {
     "name": "stdout",
     "output_type": "stream",
     "text": [
      "\n",
      "Metrics: {'train_loss': 0.006396789153134732, 'test_loss': 2.0243689830486593, 'bleu': 22.6622, 'gen_len': 9.8687}\n",
      "\n",
      "=============================\n",
      "\n"
     ]
    },
    {
     "name": "stderr",
     "output_type": "stream",
     "text": [
      " 49%|████▉     | 98/200 [29:29<31:15, 18.39s/it]"
     ]
    },
    {
     "name": "stdout",
     "output_type": "stream",
     "text": [
      "For epoch 399: \n",
      "{Learning rate: [0.0015773149233427187]}\n"
     ]
    },
    {
     "name": "stderr",
     "output_type": "stream",
     "text": [
      "Train batch number 99: 100%|██████████| 99/99 [00:13<00:00,  7.36batches/s]\n",
      "Test batch number 13: 100%|██████████| 13/13 [00:03<00:00,  3.76batches/s]\n"
     ]
    },
    {
     "name": "stdout",
     "output_type": "stream",
     "text": [
      "\n",
      "Metrics: {'train_loss': 0.006456162454648593, 'test_loss': 2.0318648540056667, 'bleu': 22.5975, 'gen_len': 9.8939}\n",
      "\n",
      "=============================\n",
      "\n"
     ]
    },
    {
     "name": "stderr",
     "output_type": "stream",
     "text": [
      " 50%|████▉     | 99/200 [29:48<31:06, 18.48s/it]"
     ]
    },
    {
     "name": "stdout",
     "output_type": "stream",
     "text": [
      "For epoch 400: \n",
      "{Learning rate: [0.001571518907811851]}\n"
     ]
    },
    {
     "name": "stderr",
     "output_type": "stream",
     "text": [
      "Train batch number 99: 100%|██████████| 99/99 [00:13<00:00,  7.43batches/s]\n",
      "Test batch number 13: 100%|██████████| 13/13 [00:03<00:00,  3.93batches/s]\n"
     ]
    },
    {
     "name": "stdout",
     "output_type": "stream",
     "text": [
      "\n",
      "Metrics: {'train_loss': 0.006829869670609972, 'test_loss': 2.008265862098107, 'bleu': 22.2933, 'gen_len': 9.7828}\n",
      "\n",
      "=============================\n",
      "\n"
     ]
    },
    {
     "name": "stderr",
     "output_type": "stream",
     "text": [
      " 50%|█████     | 100/200 [30:06<30:46, 18.46s/it]"
     ]
    },
    {
     "name": "stdout",
     "output_type": "stream",
     "text": [
      "For epoch 401: \n",
      "{Learning rate: [0.001565722010596801]}\n"
     ]
    },
    {
     "name": "stderr",
     "output_type": "stream",
     "text": [
      "Train batch number 99: 100%|██████████| 99/99 [00:13<00:00,  7.39batches/s]\n",
      "Test batch number 13: 100%|██████████| 13/13 [00:03<00:00,  3.85batches/s]\n"
     ]
    },
    {
     "name": "stdout",
     "output_type": "stream",
     "text": [
      "\n",
      "Metrics: {'train_loss': 0.006446963861394165, 'test_loss': 2.0227740361140323, 'bleu': 22.6161, 'gen_len': 9.8283}\n",
      "\n",
      "=============================\n",
      "\n"
     ]
    },
    {
     "name": "stderr",
     "output_type": "stream",
     "text": [
      " 50%|█████     | 101/200 [30:25<30:29, 18.48s/it]"
     ]
    },
    {
     "name": "stdout",
     "output_type": "stream",
     "text": [
      "For epoch 402: \n",
      "{Learning rate: [0.00155992431706693]}\n"
     ]
    },
    {
     "name": "stderr",
     "output_type": "stream",
     "text": [
      "Train batch number 99: 100%|██████████| 99/99 [00:13<00:00,  7.48batches/s]\n",
      "Test batch number 13: 100%|██████████| 13/13 [00:03<00:00,  3.94batches/s]\n"
     ]
    },
    {
     "name": "stdout",
     "output_type": "stream",
     "text": [
      "\n",
      "Metrics: {'train_loss': 0.006441876324125321, 'test_loss': 2.013189508364751, 'bleu': 22.5963, 'gen_len': 9.9293}\n",
      "\n",
      "=============================\n",
      "\n"
     ]
    },
    {
     "name": "stderr",
     "output_type": "stream",
     "text": [
      " 51%|█████     | 102/200 [30:43<30:06, 18.44s/it]"
     ]
    },
    {
     "name": "stdout",
     "output_type": "stream",
     "text": [
      "For epoch 403: \n",
      "{Learning rate: [0.0015541259126033262]}\n"
     ]
    },
    {
     "name": "stderr",
     "output_type": "stream",
     "text": [
      "Train batch number 99: 100%|██████████| 99/99 [00:13<00:00,  7.54batches/s]\n",
      "Test batch number 13: 100%|██████████| 13/13 [00:03<00:00,  3.89batches/s]\n"
     ]
    },
    {
     "name": "stdout",
     "output_type": "stream",
     "text": [
      "\n",
      "Metrics: {'train_loss': 0.006465954001113359, 'test_loss': 2.0129254047687235, 'bleu': 22.9185, 'gen_len': 9.8131}\n",
      "\n",
      "=============================\n",
      "\n"
     ]
    },
    {
     "name": "stderr",
     "output_type": "stream",
     "text": [
      " 52%|█████▏    | 103/200 [31:03<30:21, 18.78s/it]"
     ]
    },
    {
     "name": "stdout",
     "output_type": "stream",
     "text": [
      "For epoch 404: \n",
      "{Learning rate: [0.0015483268825975472]}\n"
     ]
    },
    {
     "name": "stderr",
     "output_type": "stream",
     "text": [
      "Train batch number 99: 100%|██████████| 99/99 [00:13<00:00,  7.52batches/s]\n",
      "Test batch number 13: 100%|██████████| 13/13 [00:03<00:00,  3.89batches/s]\n"
     ]
    },
    {
     "name": "stdout",
     "output_type": "stream",
     "text": [
      "\n",
      "Metrics: {'train_loss': 0.0065990081467051905, 'test_loss': 2.0321682416475735, 'bleu': 22.1517, 'gen_len': 9.8182}\n",
      "\n",
      "=============================\n",
      "\n"
     ]
    },
    {
     "name": "stderr",
     "output_type": "stream",
     "text": [
      " 52%|█████▏    | 104/200 [31:21<29:48, 18.63s/it]"
     ]
    },
    {
     "name": "stdout",
     "output_type": "stream",
     "text": [
      "For epoch 405: \n",
      "{Learning rate: [0.0015425273124503637]}\n"
     ]
    },
    {
     "name": "stderr",
     "output_type": "stream",
     "text": [
      "Train batch number 99: 100%|██████████| 99/99 [00:13<00:00,  7.50batches/s]\n",
      "Test batch number 13: 100%|██████████| 13/13 [00:03<00:00,  3.95batches/s]\n"
     ]
    },
    {
     "name": "stdout",
     "output_type": "stream",
     "text": [
      "\n",
      "Metrics: {'train_loss': 0.006466197196836348, 'test_loss': 2.0266676866091213, 'bleu': 22.7182, 'gen_len': 9.9394}\n",
      "\n",
      "=============================\n",
      "\n"
     ]
    },
    {
     "name": "stderr",
     "output_type": "stream",
     "text": [
      " 52%|█████▎    | 105/200 [31:39<29:19, 18.52s/it]"
     ]
    },
    {
     "name": "stdout",
     "output_type": "stream",
     "text": [
      "For epoch 406: \n",
      "{Learning rate: [0.0015367272875704998]}\n"
     ]
    },
    {
     "name": "stderr",
     "output_type": "stream",
     "text": [
      "Train batch number 99: 100%|██████████| 99/99 [00:13<00:00,  7.42batches/s]\n",
      "Test batch number 13: 100%|██████████| 13/13 [00:03<00:00,  3.69batches/s]\n"
     ]
    },
    {
     "name": "stdout",
     "output_type": "stream",
     "text": [
      "\n",
      "Metrics: {'train_loss': 0.006575469956986107, 'test_loss': 2.0252519112366896, 'bleu': 22.3971, 'gen_len': 9.7626}\n",
      "\n",
      "=============================\n",
      "\n"
     ]
    },
    {
     "name": "stderr",
     "output_type": "stream",
     "text": [
      " 53%|█████▎    | 106/200 [31:58<29:05, 18.57s/it]"
     ]
    },
    {
     "name": "stdout",
     "output_type": "stream",
     "text": [
      "For epoch 407: \n",
      "{Learning rate: [0.0015309268933733774]}\n"
     ]
    },
    {
     "name": "stderr",
     "output_type": "stream",
     "text": [
      "Train batch number 99: 100%|██████████| 99/99 [00:13<00:00,  7.44batches/s]\n",
      "Test batch number 13: 100%|██████████| 13/13 [00:03<00:00,  3.89batches/s]\n"
     ]
    },
    {
     "name": "stdout",
     "output_type": "stream",
     "text": [
      "\n",
      "Metrics: {'train_loss': 0.006455083494074643, 'test_loss': 2.0301039035503683, 'bleu': 22.8648, 'gen_len': 9.8788}\n",
      "\n",
      "=============================\n",
      "\n"
     ]
    },
    {
     "name": "stderr",
     "output_type": "stream",
     "text": [
      " 54%|█████▎    | 107/200 [32:16<28:43, 18.53s/it]"
     ]
    },
    {
     "name": "stdout",
     "output_type": "stream",
     "text": [
      "For epoch 408: \n",
      "{Learning rate: [0.0015251262152798564]}\n"
     ]
    },
    {
     "name": "stderr",
     "output_type": "stream",
     "text": [
      "Train batch number 99: 100%|██████████| 99/99 [00:13<00:00,  7.46batches/s]\n",
      "Test batch number 13: 100%|██████████| 13/13 [00:03<00:00,  3.77batches/s]\n"
     ]
    },
    {
     "name": "stdout",
     "output_type": "stream",
     "text": [
      "\n",
      "Metrics: {'train_loss': 0.006545526695771689, 'test_loss': 2.0314580568900475, 'bleu': 21.8771, 'gen_len': 9.8182}\n",
      "\n",
      "=============================\n",
      "\n"
     ]
    },
    {
     "name": "stderr",
     "output_type": "stream",
     "text": [
      " 54%|█████▍    | 108/200 [32:35<28:23, 18.52s/it]"
     ]
    },
    {
     "name": "stdout",
     "output_type": "stream",
     "text": [
      "For epoch 409: \n",
      "{Learning rate: [0.0015193253387149775]}\n"
     ]
    },
    {
     "name": "stderr",
     "output_type": "stream",
     "text": [
      "Train batch number 99: 100%|██████████| 99/99 [00:13<00:00,  7.52batches/s]\n",
      "Test batch number 13: 100%|██████████| 13/13 [00:03<00:00,  3.89batches/s]\n"
     ]
    },
    {
     "name": "stdout",
     "output_type": "stream",
     "text": [
      "\n",
      "Metrics: {'train_loss': 0.006308900727126089, 'test_loss': 2.0315615122134867, 'bleu': 22.0601, 'gen_len': 9.8939}\n",
      "\n",
      "=============================\n",
      "\n"
     ]
    },
    {
     "name": "stderr",
     "output_type": "stream",
     "text": [
      " 55%|█████▍    | 109/200 [32:53<27:58, 18.45s/it]"
     ]
    },
    {
     "name": "stdout",
     "output_type": "stream",
     "text": [
      "For epoch 410: \n",
      "{Learning rate: [0.0015135243491067052]}\n"
     ]
    },
    {
     "name": "stderr",
     "output_type": "stream",
     "text": [
      "Train batch number 99: 100%|██████████| 99/99 [00:14<00:00,  6.73batches/s]\n",
      "Test batch number 13: 100%|██████████| 13/13 [00:03<00:00,  3.94batches/s]\n"
     ]
    },
    {
     "name": "stdout",
     "output_type": "stream",
     "text": [
      "\n",
      "Metrics: {'train_loss': 0.00649107674550091, 'test_loss': 2.0259535862849307, 'bleu': 22.5053, 'gen_len': 9.8687}\n",
      "\n",
      "=============================\n",
      "\n"
     ]
    },
    {
     "name": "stderr",
     "output_type": "stream",
     "text": [
      " 55%|█████▌    | 110/200 [33:13<28:16, 18.85s/it]"
     ]
    },
    {
     "name": "stdout",
     "output_type": "stream",
     "text": [
      "For epoch 411: \n",
      "{Learning rate: [0.0015077233318846676]}\n"
     ]
    },
    {
     "name": "stderr",
     "output_type": "stream",
     "text": [
      "Train batch number 99: 100%|██████████| 99/99 [00:13<00:00,  7.47batches/s]\n",
      "Test batch number 13: 100%|██████████| 13/13 [00:03<00:00,  3.81batches/s]\n"
     ]
    },
    {
     "name": "stdout",
     "output_type": "stream",
     "text": [
      "\n",
      "Metrics: {'train_loss': 0.006464959018025312, 'test_loss': 2.0273213936732364, 'bleu': 22.3288, 'gen_len': 9.8939}\n",
      "\n",
      "=============================\n",
      "\n"
     ]
    },
    {
     "name": "stderr",
     "output_type": "stream",
     "text": [
      " 56%|█████▌    | 111/200 [33:31<27:46, 18.72s/it]"
     ]
    },
    {
     "name": "stdout",
     "output_type": "stream",
     "text": [
      "For epoch 412: \n",
      "{Learning rate: [0.0015019223724789]}\n"
     ]
    },
    {
     "name": "stderr",
     "output_type": "stream",
     "text": [
      "Train batch number 99: 100%|██████████| 99/99 [00:13<00:00,  7.36batches/s]\n",
      "Test batch number 13: 100%|██████████| 13/13 [00:03<00:00,  3.98batches/s]\n"
     ]
    },
    {
     "name": "stdout",
     "output_type": "stream",
     "text": [
      "\n",
      "Metrics: {'train_loss': 0.006686036113115743, 'test_loss': 2.0364387310468235, 'bleu': 22.5889, 'gen_len': 9.8788}\n",
      "\n",
      "=============================\n",
      "\n"
     ]
    },
    {
     "name": "stderr",
     "output_type": "stream",
     "text": [
      " 56%|█████▌    | 112/200 [33:50<27:21, 18.65s/it]"
     ]
    },
    {
     "name": "stdout",
     "output_type": "stream",
     "text": [
      "For epoch 413: \n",
      "{Learning rate: [0.0014961215563185871]}\n"
     ]
    },
    {
     "name": "stderr",
     "output_type": "stream",
     "text": [
      "Train batch number 99: 100%|██████████| 99/99 [00:13<00:00,  7.44batches/s]\n",
      "Test batch number 13: 100%|██████████| 13/13 [00:03<00:00,  3.96batches/s]\n"
     ]
    },
    {
     "name": "stdout",
     "output_type": "stream",
     "text": [
      "\n",
      "Metrics: {'train_loss': 0.00647993452216127, 'test_loss': 2.0242135249651394, 'bleu': 22.1857, 'gen_len': 10.0303}\n",
      "\n",
      "=============================\n",
      "\n"
     ]
    },
    {
     "name": "stderr",
     "output_type": "stream",
     "text": [
      " 56%|█████▋    | 113/200 [34:08<26:54, 18.56s/it]"
     ]
    },
    {
     "name": "stdout",
     "output_type": "stream",
     "text": [
      "For epoch 414: \n",
      "{Learning rate: [0.0014903209688308027]}\n"
     ]
    },
    {
     "name": "stderr",
     "output_type": "stream",
     "text": [
      "Train batch number 99: 100%|██████████| 99/99 [00:13<00:00,  7.51batches/s]\n",
      "Test batch number 13: 100%|██████████| 13/13 [00:03<00:00,  3.74batches/s]\n"
     ]
    },
    {
     "name": "stdout",
     "output_type": "stream",
     "text": [
      "\n",
      "Metrics: {'train_loss': 0.006435934255620455, 'test_loss': 2.0192550145662747, 'bleu': 21.4701, 'gen_len': 10.0101}\n",
      "\n",
      "=============================\n",
      "\n"
     ]
    },
    {
     "name": "stderr",
     "output_type": "stream",
     "text": [
      " 57%|█████▋    | 114/200 [34:27<26:55, 18.78s/it]"
     ]
    },
    {
     "name": "stdout",
     "output_type": "stream",
     "text": [
      "For epoch 415: \n",
      "{Learning rate: [0.0014845206954392537]}\n"
     ]
    },
    {
     "name": "stderr",
     "output_type": "stream",
     "text": [
      "Train batch number 99: 100%|██████████| 99/99 [00:13<00:00,  7.39batches/s]\n",
      "Test batch number 13: 100%|██████████| 13/13 [00:03<00:00,  3.86batches/s]\n"
     ]
    },
    {
     "name": "stdout",
     "output_type": "stream",
     "text": [
      "\n",
      "Metrics: {'train_loss': 0.0065294753254751085, 'test_loss': 2.036443040921138, 'bleu': 22.4034, 'gen_len': 9.9192}\n",
      "\n",
      "=============================\n",
      "\n"
     ]
    },
    {
     "name": "stderr",
     "output_type": "stream",
     "text": [
      " 57%|█████▊    | 115/200 [34:46<26:30, 18.71s/it]"
     ]
    },
    {
     "name": "stdout",
     "output_type": "stream",
     "text": [
      "For epoch 416: \n",
      "{Learning rate: [0.0014787208215630212]}\n"
     ]
    },
    {
     "name": "stderr",
     "output_type": "stream",
     "text": [
      "Train batch number 99: 100%|██████████| 99/99 [00:13<00:00,  7.35batches/s]\n",
      "Test batch number 13: 100%|██████████| 13/13 [00:03<00:00,  3.74batches/s]\n"
     ]
    },
    {
     "name": "stdout",
     "output_type": "stream",
     "text": [
      "\n",
      "Metrics: {'train_loss': 0.006454599490171684, 'test_loss': 2.0374943109659047, 'bleu': 22.1232, 'gen_len': 9.8939}\n",
      "\n",
      "=============================\n",
      "\n"
     ]
    },
    {
     "name": "stderr",
     "output_type": "stream",
     "text": [
      " 58%|█████▊    | 116/200 [35:05<26:12, 18.72s/it]"
     ]
    },
    {
     "name": "stdout",
     "output_type": "stream",
     "text": [
      "For epoch 417: \n",
      "{Learning rate: [0.001472921432615302]}\n"
     ]
    },
    {
     "name": "stderr",
     "output_type": "stream",
     "text": [
      "Train batch number 99: 100%|██████████| 99/99 [00:13<00:00,  7.39batches/s]\n",
      "Test batch number 13: 100%|██████████| 13/13 [00:03<00:00,  3.77batches/s]\n"
     ]
    },
    {
     "name": "stdout",
     "output_type": "stream",
     "text": [
      "\n",
      "Metrics: {'train_loss': 0.006563070618678025, 'test_loss': 2.039859569989718, 'bleu': 21.9837, 'gen_len': 9.9293}\n",
      "\n",
      "=============================\n",
      "\n"
     ]
    },
    {
     "name": "stderr",
     "output_type": "stream",
     "text": [
      " 58%|█████▊    | 117/200 [35:23<25:51, 18.69s/it]"
     ]
    },
    {
     "name": "stdout",
     "output_type": "stream",
     "text": [
      "For epoch 418: \n",
      "{Learning rate: [0.0014671226140021531]}\n"
     ]
    },
    {
     "name": "stderr",
     "output_type": "stream",
     "text": [
      "Train batch number 99: 100%|██████████| 99/99 [00:13<00:00,  7.44batches/s]\n",
      "Test batch number 13: 100%|██████████| 13/13 [00:03<00:00,  3.96batches/s]\n"
     ]
    },
    {
     "name": "stdout",
     "output_type": "stream",
     "text": [
      "\n",
      "Metrics: {'train_loss': 0.0065009621519658885, 'test_loss': 2.0368675268613377, 'bleu': 21.7716, 'gen_len': 9.7222}\n",
      "\n",
      "=============================\n",
      "\n"
     ]
    },
    {
     "name": "stderr",
     "output_type": "stream",
     "text": [
      " 59%|█████▉    | 118/200 [35:42<25:24, 18.59s/it]"
     ]
    },
    {
     "name": "stdout",
     "output_type": "stream",
     "text": [
      "For epoch 419: \n",
      "{Learning rate: [0.001461324451121232]}\n"
     ]
    },
    {
     "name": "stderr",
     "output_type": "stream",
     "text": [
      "Train batch number 99: 100%|██████████| 99/99 [00:13<00:00,  7.36batches/s]\n",
      "Test batch number 13: 100%|██████████| 13/13 [00:03<00:00,  3.98batches/s]\n"
     ]
    },
    {
     "name": "stdout",
     "output_type": "stream",
     "text": [
      "\n",
      "Metrics: {'train_loss': 0.006520253785467246, 'test_loss': 2.0287204522352953, 'bleu': 22.2592, 'gen_len': 9.8737}\n",
      "\n",
      "=============================\n",
      "\n"
     ]
    },
    {
     "name": "stderr",
     "output_type": "stream",
     "text": [
      " 60%|█████▉    | 119/200 [36:00<25:02, 18.55s/it]"
     ]
    },
    {
     "name": "stdout",
     "output_type": "stream",
     "text": [
      "For epoch 420: \n",
      "{Learning rate: [0.0014555270293605373]}\n"
     ]
    },
    {
     "name": "stderr",
     "output_type": "stream",
     "text": [
      "Train batch number 99: 100%|██████████| 99/99 [00:13<00:00,  7.39batches/s]\n",
      "Test batch number 13: 100%|██████████| 13/13 [00:03<00:00,  3.74batches/s]\n"
     ]
    },
    {
     "name": "stdout",
     "output_type": "stream",
     "text": [
      "\n",
      "Metrics: {'train_loss': 0.006374489827342613, 'test_loss': 2.0260240114652195, 'bleu': 22.3282, 'gen_len': 10.1061}\n",
      "\n",
      "=============================\n",
      "\n"
     ]
    },
    {
     "name": "stderr",
     "output_type": "stream",
     "text": [
      " 60%|██████    | 120/200 [36:19<24:46, 18.59s/it]"
     ]
    },
    {
     "name": "stdout",
     "output_type": "stream",
     "text": [
      "For epoch 421: \n",
      "{Learning rate: [0.0014497304340971562]}\n"
     ]
    },
    {
     "name": "stderr",
     "output_type": "stream",
     "text": [
      "Train batch number 99: 100%|██████████| 99/99 [00:12<00:00,  7.62batches/s]\n",
      "Test batch number 13: 100%|██████████| 13/13 [00:03<00:00,  3.98batches/s]\n"
     ]
    },
    {
     "name": "stdout",
     "output_type": "stream",
     "text": [
      "\n",
      "Metrics: {'train_loss': 0.006360424005319458, 'test_loss': 2.0352513881830068, 'bleu': 21.7064, 'gen_len': 9.9747}\n",
      "\n",
      "=============================\n",
      "\n"
     ]
    },
    {
     "name": "stderr",
     "output_type": "stream",
     "text": [
      " 60%|██████    | 121/200 [36:37<24:15, 18.42s/it]"
     ]
    },
    {
     "name": "stdout",
     "output_type": "stream",
     "text": [
      "For epoch 422: \n",
      "{Learning rate: [0.0014439347506960032]}\n"
     ]
    },
    {
     "name": "stderr",
     "output_type": "stream",
     "text": [
      "Train batch number 99: 100%|██████████| 99/99 [00:13<00:00,  7.45batches/s]\n",
      "Test batch number 13: 100%|██████████| 13/13 [00:03<00:00,  3.97batches/s]\n"
     ]
    },
    {
     "name": "stdout",
     "output_type": "stream",
     "text": [
      "\n",
      "Metrics: {'train_loss': 0.00632054502358472, 'test_loss': 2.036318247134869, 'bleu': 21.8502, 'gen_len': 9.9949}\n",
      "\n",
      "=============================\n",
      "\n"
     ]
    },
    {
     "name": "stderr",
     "output_type": "stream",
     "text": [
      " 61%|██████    | 122/200 [36:55<23:54, 18.39s/it]"
     ]
    },
    {
     "name": "stdout",
     "output_type": "stream",
     "text": [
      "For epoch 423: \n",
      "{Learning rate: [0.0014381400645085622]}\n"
     ]
    },
    {
     "name": "stderr",
     "output_type": "stream",
     "text": [
      "Train batch number 99: 100%|██████████| 99/99 [00:13<00:00,  7.41batches/s]\n",
      "Test batch number 13: 100%|██████████| 13/13 [00:03<00:00,  3.96batches/s]\n"
     ]
    },
    {
     "name": "stdout",
     "output_type": "stream",
     "text": [
      "\n",
      "Metrics: {'train_loss': 0.006447738083402833, 'test_loss': 2.022799170934237, 'bleu': 22.0116, 'gen_len': 10.101}\n",
      "\n",
      "=============================\n",
      "\n"
     ]
    },
    {
     "name": "stderr",
     "output_type": "stream",
     "text": [
      " 62%|██████▏   | 123/200 [37:13<23:36, 18.40s/it]"
     ]
    },
    {
     "name": "stdout",
     "output_type": "stream",
     "text": [
      "For epoch 424: \n",
      "{Learning rate: [0.0014323464608716353]}\n"
     ]
    },
    {
     "name": "stderr",
     "output_type": "stream",
     "text": [
      "Train batch number 99: 100%|██████████| 99/99 [00:13<00:00,  7.52batches/s]\n",
      "Test batch number 13: 100%|██████████| 13/13 [00:03<00:00,  3.91batches/s]\n"
     ]
    },
    {
     "name": "stdout",
     "output_type": "stream",
     "text": [
      "\n",
      "Metrics: {'train_loss': 0.006420469729375621, 'test_loss': 2.017311563858619, 'bleu': 22.5764, 'gen_len': 9.8182}\n",
      "\n",
      "=============================\n",
      "\n"
     ]
    },
    {
     "name": "stderr",
     "output_type": "stream",
     "text": [
      " 62%|██████▏   | 124/200 [37:32<23:15, 18.36s/it]"
     ]
    },
    {
     "name": "stdout",
     "output_type": "stream",
     "text": [
      "For epoch 425: \n",
      "{Learning rate: [0.001426554025106078]}\n"
     ]
    },
    {
     "name": "stderr",
     "output_type": "stream",
     "text": [
      "Train batch number 99: 100%|██████████| 99/99 [00:13<00:00,  7.46batches/s]\n",
      "Test batch number 13: 100%|██████████| 13/13 [00:03<00:00,  3.80batches/s]\n"
     ]
    },
    {
     "name": "stdout",
     "output_type": "stream",
     "text": [
      "\n",
      "Metrics: {'train_loss': 0.006544441044844471, 'test_loss': 2.0350737388317404, 'bleu': 21.9299, 'gen_len': 9.9848}\n",
      "\n",
      "=============================\n",
      "\n"
     ]
    },
    {
     "name": "stderr",
     "output_type": "stream",
     "text": [
      " 62%|██████▎   | 125/200 [37:50<22:59, 18.39s/it]"
     ]
    },
    {
     "name": "stdout",
     "output_type": "stream",
     "text": [
      "For epoch 426: \n",
      "{Learning rate: [0.0014207628425155494]}\n"
     ]
    },
    {
     "name": "stderr",
     "output_type": "stream",
     "text": [
      "Train batch number 99: 100%|██████████| 99/99 [00:14<00:00,  6.81batches/s]\n",
      "Test batch number 13: 100%|██████████| 13/13 [00:03<00:00,  3.86batches/s]\n"
     ]
    },
    {
     "name": "stdout",
     "output_type": "stream",
     "text": [
      "\n",
      "Metrics: {'train_loss': 0.006384979615416002, 'test_loss': 2.03082523896144, 'bleu': 22.1619, 'gen_len': 9.9848}\n",
      "\n",
      "=============================\n",
      "\n"
     ]
    },
    {
     "name": "stderr",
     "output_type": "stream",
     "text": [
      " 63%|██████▎   | 126/200 [38:10<23:09, 18.78s/it]"
     ]
    },
    {
     "name": "stdout",
     "output_type": "stream",
     "text": [
      "For epoch 427: \n",
      "{Learning rate: [0.0014149729983852538]}\n"
     ]
    },
    {
     "name": "stderr",
     "output_type": "stream",
     "text": [
      "Train batch number 99: 100%|██████████| 99/99 [00:13<00:00,  7.42batches/s]\n",
      "Test batch number 13: 100%|██████████| 13/13 [00:03<00:00,  3.95batches/s]\n"
     ]
    },
    {
     "name": "stdout",
     "output_type": "stream",
     "text": [
      "\n",
      "Metrics: {'train_loss': 0.006364723177587924, 'test_loss': 2.033995133179885, 'bleu': 21.7576, 'gen_len': 10.0303}\n",
      "\n",
      "=============================\n",
      "\n"
     ]
    },
    {
     "name": "stderr",
     "output_type": "stream",
     "text": [
      " 64%|██████▎   | 127/200 [38:28<22:42, 18.66s/it]"
     ]
    },
    {
     "name": "stdout",
     "output_type": "stream",
     "text": [
      "For epoch 428: \n",
      "{Learning rate: [0.0014091845779806822]}\n"
     ]
    },
    {
     "name": "stderr",
     "output_type": "stream",
     "text": [
      "Train batch number 99: 100%|██████████| 99/99 [00:13<00:00,  7.57batches/s]\n",
      "Test batch number 13: 100%|██████████| 13/13 [00:03<00:00,  3.93batches/s]\n"
     ]
    },
    {
     "name": "stdout",
     "output_type": "stream",
     "text": [
      "\n",
      "Metrics: {'train_loss': 0.006516599773389353, 'test_loss': 2.040083307486314, 'bleu': 21.9007, 'gen_len': 9.9141}\n",
      "\n",
      "=============================\n",
      "\n"
     ]
    },
    {
     "name": "stderr",
     "output_type": "stream",
     "text": [
      " 64%|██████▍   | 128/200 [38:46<22:12, 18.50s/it]"
     ]
    },
    {
     "name": "stdout",
     "output_type": "stream",
     "text": [
      "For epoch 429: \n",
      "{Learning rate: [0.00140339766654636]}\n"
     ]
    },
    {
     "name": "stderr",
     "output_type": "stream",
     "text": [
      "Train batch number 99: 100%|██████████| 99/99 [00:13<00:00,  7.35batches/s]\n",
      "Test batch number 13: 100%|██████████| 13/13 [00:03<00:00,  3.73batches/s]\n"
     ]
    },
    {
     "name": "stdout",
     "output_type": "stream",
     "text": [
      "\n",
      "Metrics: {'train_loss': 0.006490078898919323, 'test_loss': 2.039584939296429, 'bleu': 21.3791, 'gen_len': 9.9899}\n",
      "\n",
      "=============================\n",
      "\n"
     ]
    },
    {
     "name": "stderr",
     "output_type": "stream",
     "text": [
      " 64%|██████▍   | 129/200 [39:05<21:58, 18.57s/it]"
     ]
    },
    {
     "name": "stdout",
     "output_type": "stream",
     "text": [
      "For epoch 430: \n",
      "{Learning rate: [0.0013976123493045914]}\n"
     ]
    },
    {
     "name": "stderr",
     "output_type": "stream",
     "text": [
      "Train batch number 99: 100%|██████████| 99/99 [00:13<00:00,  7.59batches/s]\n",
      "Test batch number 13: 100%|██████████| 13/13 [00:03<00:00,  3.78batches/s]\n"
     ]
    },
    {
     "name": "stdout",
     "output_type": "stream",
     "text": [
      "\n",
      "Metrics: {'train_loss': 0.006589510843053112, 'test_loss': 2.028557456456698, 'bleu': 21.4724, 'gen_len': 9.9848}\n",
      "\n",
      "=============================\n",
      "\n"
     ]
    },
    {
     "name": "stderr",
     "output_type": "stream",
     "text": [
      " 65%|██████▌   | 130/200 [39:24<21:42, 18.61s/it]"
     ]
    },
    {
     "name": "stdout",
     "output_type": "stream",
     "text": [
      "For epoch 431: \n",
      "{Learning rate: [0.0013918287114542008]}\n"
     ]
    },
    {
     "name": "stderr",
     "output_type": "stream",
     "text": [
      "Train batch number 99: 100%|██████████| 99/99 [00:13<00:00,  7.41batches/s]\n",
      "Test batch number 13: 100%|██████████| 13/13 [00:03<00:00,  3.97batches/s]\n"
     ]
    },
    {
     "name": "stdout",
     "output_type": "stream",
     "text": [
      "\n",
      "Metrics: {'train_loss': 0.006604862076758332, 'test_loss': 2.045734607256376, 'bleu': 21.7621, 'gen_len': 9.8838}\n",
      "\n",
      "=============================\n",
      "\n"
     ]
    },
    {
     "name": "stderr",
     "output_type": "stream",
     "text": [
      " 66%|██████▌   | 131/200 [39:42<21:20, 18.55s/it]"
     ]
    },
    {
     "name": "stdout",
     "output_type": "stream",
     "text": [
      "For epoch 432: \n",
      "{Learning rate: [0.0013860468381692835]}\n"
     ]
    },
    {
     "name": "stderr",
     "output_type": "stream",
     "text": [
      "Train batch number 99: 100%|██████████| 99/99 [00:13<00:00,  7.41batches/s]\n",
      "Test batch number 13: 100%|██████████| 13/13 [00:03<00:00,  3.93batches/s]\n"
     ]
    },
    {
     "name": "stdout",
     "output_type": "stream",
     "text": [
      "\n",
      "Metrics: {'train_loss': 0.006614775222554483, 'test_loss': 2.03748895571782, 'bleu': 21.6301, 'gen_len': 10.0909}\n",
      "\n",
      "=============================\n",
      "\n"
     ]
    },
    {
     "name": "stderr",
     "output_type": "stream",
     "text": [
      " 66%|██████▌   | 132/200 [40:01<20:58, 18.51s/it]"
     ]
    },
    {
     "name": "stdout",
     "output_type": "stream",
     "text": [
      "For epoch 433: \n",
      "{Learning rate: [0.0013802668145979462]}\n"
     ]
    },
    {
     "name": "stderr",
     "output_type": "stream",
     "text": [
      "Train batch number 99: 100%|██████████| 99/99 [00:13<00:00,  7.55batches/s]\n",
      "Test batch number 13: 100%|██████████| 13/13 [00:03<00:00,  3.95batches/s]\n"
     ]
    },
    {
     "name": "stdout",
     "output_type": "stream",
     "text": [
      "\n",
      "Metrics: {'train_loss': 0.006407602517007182, 'test_loss': 2.044415620657114, 'bleu': 21.6413, 'gen_len': 9.8939}\n",
      "\n",
      "=============================\n",
      "\n"
     ]
    },
    {
     "name": "stderr",
     "output_type": "stream",
     "text": [
      " 66%|██████▋   | 133/200 [40:19<20:38, 18.49s/it]"
     ]
    },
    {
     "name": "stdout",
     "output_type": "stream",
     "text": [
      "For epoch 434: \n",
      "{Learning rate: [0.0013744887258610567]}\n"
     ]
    },
    {
     "name": "stderr",
     "output_type": "stream",
     "text": [
      "Train batch number 99: 100%|██████████| 99/99 [00:13<00:00,  7.44batches/s]\n",
      "Test batch number 13: 100%|██████████| 13/13 [00:03<00:00,  3.79batches/s]\n"
     ]
    },
    {
     "name": "stdout",
     "output_type": "stream",
     "text": [
      "\n",
      "Metrics: {'train_loss': 0.006348740084877595, 'test_loss': 2.0606687710835385, 'bleu': 22.1926, 'gen_len': 9.8586}\n",
      "\n",
      "=============================\n",
      "\n"
     ]
    },
    {
     "name": "stderr",
     "output_type": "stream",
     "text": [
      " 67%|██████▋   | 134/200 [40:38<20:20, 18.49s/it]"
     ]
    },
    {
     "name": "stdout",
     "output_type": "stream",
     "text": [
      "For epoch 435: \n",
      "{Learning rate: [0.0013687126570509887]}\n"
     ]
    },
    {
     "name": "stderr",
     "output_type": "stream",
     "text": [
      "Train batch number 99: 100%|██████████| 99/99 [00:13<00:00,  7.43batches/s]\n",
      "Test batch number 13: 100%|██████████| 13/13 [00:03<00:00,  3.93batches/s]\n"
     ]
    },
    {
     "name": "stdout",
     "output_type": "stream",
     "text": [
      "\n",
      "Metrics: {'train_loss': 0.006377226232687444, 'test_loss': 2.035232195487389, 'bleu': 21.8272, 'gen_len': 10.0455}\n",
      "\n",
      "=============================\n",
      "\n"
     ]
    },
    {
     "name": "stderr",
     "output_type": "stream",
     "text": [
      " 68%|██████▊   | 135/200 [40:56<20:00, 18.47s/it]"
     ]
    },
    {
     "name": "stdout",
     "output_type": "stream",
     "text": [
      "For epoch 436: \n",
      "{Learning rate: [0.001362938693230369]}\n"
     ]
    },
    {
     "name": "stderr",
     "output_type": "stream",
     "text": [
      "Train batch number 99: 100%|██████████| 99/99 [00:13<00:00,  7.56batches/s]\n",
      "Test batch number 13: 100%|██████████| 13/13 [00:03<00:00,  3.78batches/s]\n"
     ]
    },
    {
     "name": "stdout",
     "output_type": "stream",
     "text": [
      "\n",
      "Metrics: {'train_loss': 0.006411551408213328, 'test_loss': 2.0320921494410586, 'bleu': 22.1495, 'gen_len': 9.9949}\n",
      "\n",
      "=============================\n",
      "\n"
     ]
    },
    {
     "name": "stderr",
     "output_type": "stream",
     "text": [
      " 68%|██████▊   | 136/200 [41:14<19:39, 18.43s/it]"
     ]
    },
    {
     "name": "stdout",
     "output_type": "stream",
     "text": [
      "For epoch 437: \n",
      "{Learning rate: [0.001357166919430824]}\n"
     ]
    },
    {
     "name": "stderr",
     "output_type": "stream",
     "text": [
      "Train batch number 99: 100%|██████████| 99/99 [00:13<00:00,  7.35batches/s]\n",
      "Test batch number 13: 100%|██████████| 13/13 [00:03<00:00,  3.78batches/s]\n"
     ]
    },
    {
     "name": "stdout",
     "output_type": "stream",
     "text": [
      "\n",
      "Metrics: {'train_loss': 0.00633435653236864, 'test_loss': 2.036895201756404, 'bleu': 22.4482, 'gen_len': 9.9293}\n",
      "\n",
      "=============================\n",
      "\n"
     ]
    },
    {
     "name": "stderr",
     "output_type": "stream",
     "text": [
      " 68%|██████▊   | 137/200 [41:33<19:26, 18.51s/it]"
     ]
    },
    {
     "name": "stdout",
     "output_type": "stream",
     "text": [
      "For epoch 438: \n",
      "{Learning rate: [0.0013513974206517299]}\n"
     ]
    },
    {
     "name": "stderr",
     "output_type": "stream",
     "text": [
      "Train batch number 99: 100%|██████████| 99/99 [00:12<00:00,  7.65batches/s]\n",
      "Test batch number 9:  62%|██████▏   | 8/13 [00:02<00:01,  3.58batches/s]"
     ]
    }
   ],
   "source": [
    "trainer.train(epochs = config['epochs'] - trainer.current_epoch, auto_save=True, metric_for_best_model='bleu', metric_objective='maximize', log_step=1,\n",
    "              saving_directory = config['new_model_dir'])"
   ]
  },
  {
   "attachments": {},
   "cell_type": "markdown",
   "metadata": {},
   "source": [
    "### ---"
   ]
  },
  {
   "cell_type": "code",
   "execution_count": 7,
   "metadata": {},
   "outputs": [
    {
     "name": "stderr",
     "output_type": "stream",
     "text": [
      "  0%|          | 0/60 [00:00<?, ?it/s]/home/ec2-user/anaconda3/envs/pytorch_p310/lib/python3.10/site-packages/torch/optim/lr_scheduler.py:265: UserWarning: To get the last learning rate computed by the scheduler, please use `get_last_lr()`.\n",
      "  warnings.warn(\"To get the last learning rate computed by the scheduler, \"\n"
     ]
    },
    {
     "name": "stdout",
     "output_type": "stream",
     "text": [
      "For epoch 441: \n",
      "{Learning rate: [0.0013341034239208402]}\n"
     ]
    },
    {
     "name": "stderr",
     "output_type": "stream",
     "text": [
      "Train batch number 99: 100%|██████████| 99/99 [00:16<00:00,  6.03batches/s]\n",
      "Test batch number 13: 100%|██████████| 13/13 [00:03<00:00,  3.66batches/s]\n"
     ]
    },
    {
     "name": "stdout",
     "output_type": "stream",
     "text": [
      "\n",
      "Metrics: {'train_loss': 0.006328606113175287, 'test_loss': 2.043260097503662, 'bleu': 21.8211, 'gen_len': 9.6616}\n",
      "\n",
      "=============================\n",
      "\n"
     ]
    },
    {
     "name": "stderr",
     "output_type": "stream",
     "text": [
      "  2%|▏         | 1/60 [00:21<21:27, 21.82s/it]"
     ]
    },
    {
     "name": "stdout",
     "output_type": "stream",
     "text": [
      "For epoch 442: \n",
      "{Learning rate: [0.0013283438745284614]}\n"
     ]
    },
    {
     "name": "stderr",
     "output_type": "stream",
     "text": [
      "Train batch number 99: 100%|██████████| 99/99 [00:15<00:00,  6.31batches/s]\n",
      "Test batch number 13: 100%|██████████| 13/13 [00:03<00:00,  3.60batches/s]\n"
     ]
    },
    {
     "name": "stdout",
     "output_type": "stream",
     "text": [
      "\n",
      "Metrics: {'train_loss': 0.006555903107374719, 'test_loss': 2.0256152886610765, 'bleu': 21.6125, 'gen_len': 9.899}\n",
      "\n",
      "=============================\n",
      "\n"
     ]
    },
    {
     "name": "stderr",
     "output_type": "stream",
     "text": [
      "  3%|▎         | 2/60 [00:42<20:40, 21.38s/it]"
     ]
    },
    {
     "name": "stdout",
     "output_type": "stream",
     "text": [
      "For epoch 443: \n",
      "{Learning rate: [0.0013225870246258377]}\n"
     ]
    },
    {
     "name": "stderr",
     "output_type": "stream",
     "text": [
      "Train batch number 99: 100%|██████████| 99/99 [00:15<00:00,  6.43batches/s]\n",
      "Test batch number 13: 100%|██████████| 13/13 [00:03<00:00,  3.79batches/s]\n"
     ]
    },
    {
     "name": "stdout",
     "output_type": "stream",
     "text": [
      "\n",
      "Metrics: {'train_loss': 0.006214182296646712, 'test_loss': 2.0337428954931407, 'bleu': 21.7323, 'gen_len': 10.0}\n",
      "\n",
      "=============================\n",
      "\n"
     ]
    },
    {
     "name": "stderr",
     "output_type": "stream",
     "text": [
      "  5%|▌         | 3/60 [01:03<20:04, 21.13s/it]"
     ]
    },
    {
     "name": "stdout",
     "output_type": "stream",
     "text": [
      "For epoch 444: \n",
      "{Learning rate: [0.0013168329589925629]}\n"
     ]
    },
    {
     "name": "stderr",
     "output_type": "stream",
     "text": [
      "Train batch number 99: 100%|██████████| 99/99 [00:15<00:00,  6.41batches/s]\n",
      "Test batch number 13: 100%|██████████| 13/13 [00:03<00:00,  3.69batches/s]\n"
     ]
    },
    {
     "name": "stdout",
     "output_type": "stream",
     "text": [
      "\n",
      "Metrics: {'train_loss': 0.006293050629072682, 'test_loss': 2.0345113369134755, 'bleu': 21.7616, 'gen_len': 9.9444}\n",
      "\n",
      "=============================\n",
      "\n"
     ]
    },
    {
     "name": "stderr",
     "output_type": "stream",
     "text": [
      "  7%|▋         | 4/60 [01:24<19:36, 21.00s/it]"
     ]
    },
    {
     "name": "stdout",
     "output_type": "stream",
     "text": [
      "For epoch 445: \n",
      "{Learning rate: [0.0013110817623672294]}\n"
     ]
    },
    {
     "name": "stderr",
     "output_type": "stream",
     "text": [
      "Train batch number 99: 100%|██████████| 99/99 [00:15<00:00,  6.41batches/s]\n",
      "Test batch number 13: 100%|██████████| 13/13 [00:03<00:00,  3.87batches/s]\n"
     ]
    },
    {
     "name": "stdout",
     "output_type": "stream",
     "text": [
      "\n",
      "Metrics: {'train_loss': 0.006173256362671964, 'test_loss': 2.047312232164236, 'bleu': 21.6176, 'gen_len': 9.8687}\n",
      "\n",
      "=============================\n",
      "\n"
     ]
    },
    {
     "name": "stderr",
     "output_type": "stream",
     "text": [
      "  8%|▊         | 5/60 [01:45<19:07, 20.86s/it]"
     ]
    },
    {
     "name": "stdout",
     "output_type": "stream",
     "text": [
      "For epoch 446: \n",
      "{Learning rate: [0.0013053335194461789]}\n"
     ]
    },
    {
     "name": "stderr",
     "output_type": "stream",
     "text": [
      "Train batch number 99: 100%|██████████| 99/99 [00:15<00:00,  6.43batches/s]\n",
      "Test batch number 13: 100%|██████████| 13/13 [00:03<00:00,  3.69batches/s]\n"
     ]
    },
    {
     "name": "stdout",
     "output_type": "stream",
     "text": [
      "\n",
      "Metrics: {'train_loss': 0.006280562929477486, 'test_loss': 2.0542474343226504, 'bleu': 21.7982, 'gen_len': 9.8737}\n",
      "\n",
      "=============================\n",
      "\n"
     ]
    },
    {
     "name": "stderr",
     "output_type": "stream",
     "text": [
      " 10%|█         | 6/60 [02:05<18:43, 20.81s/it]"
     ]
    },
    {
     "name": "stdout",
     "output_type": "stream",
     "text": [
      "For epoch 447: \n",
      "{Learning rate: [0.0012995883148822517]}\n"
     ]
    },
    {
     "name": "stderr",
     "output_type": "stream",
     "text": [
      "Train batch number 99: 100%|██████████| 99/99 [00:15<00:00,  6.39batches/s]\n",
      "Test batch number 13: 100%|██████████| 13/13 [00:03<00:00,  3.67batches/s]\n"
     ]
    },
    {
     "name": "stdout",
     "output_type": "stream",
     "text": [
      "\n",
      "Metrics: {'train_loss': 0.006289131466547413, 'test_loss': 2.03075635433197, 'bleu': 21.9715, 'gen_len': 9.798}\n",
      "\n",
      "=============================\n",
      "\n"
     ]
    },
    {
     "name": "stderr",
     "output_type": "stream",
     "text": [
      " 12%|█▏        | 7/60 [02:26<18:23, 20.82s/it]"
     ]
    },
    {
     "name": "stdout",
     "output_type": "stream",
     "text": [
      "For epoch 448: \n",
      "{Learning rate: [0.0012938462332835467]}\n"
     ]
    },
    {
     "name": "stderr",
     "output_type": "stream",
     "text": [
      "Train batch number 99: 100%|██████████| 99/99 [00:15<00:00,  6.38batches/s]\n",
      "Test batch number 13: 100%|██████████| 13/13 [00:03<00:00,  3.84batches/s]\n"
     ]
    },
    {
     "name": "stdout",
     "output_type": "stream",
     "text": [
      "\n",
      "Metrics: {'train_loss': 0.006562920858891859, 'test_loss': 2.0250823497772217, 'bleu': 22.6805, 'gen_len': 9.6919}\n",
      "\n",
      "=============================\n",
      "\n"
     ]
    },
    {
     "name": "stderr",
     "output_type": "stream",
     "text": [
      " 13%|█▎        | 8/60 [02:47<18:01, 20.80s/it]"
     ]
    },
    {
     "name": "stdout",
     "output_type": "stream",
     "text": [
      "For epoch 449: \n",
      "{Learning rate: [0.0012881073592121688]}\n"
     ]
    },
    {
     "name": "stderr",
     "output_type": "stream",
     "text": [
      "Train batch number 99: 100%|██████████| 99/99 [00:15<00:00,  6.44batches/s]\n",
      "Test batch number 13: 100%|██████████| 13/13 [00:03<00:00,  3.68batches/s]\n"
     ]
    },
    {
     "name": "stdout",
     "output_type": "stream",
     "text": [
      "\n",
      "Metrics: {'train_loss': 0.006106240705280056, 'test_loss': 2.0266928305992713, 'bleu': 21.8802, 'gen_len': 9.9141}\n",
      "\n",
      "=============================\n",
      "\n"
     ]
    },
    {
     "name": "stderr",
     "output_type": "stream",
     "text": [
      " 15%|█▌        | 9/60 [03:08<17:39, 20.78s/it]"
     ]
    },
    {
     "name": "stdout",
     "output_type": "stream",
     "text": [
      "For epoch 450: \n",
      "{Learning rate: [0.0012823717771829886]}\n"
     ]
    },
    {
     "name": "stderr",
     "output_type": "stream",
     "text": [
      "Train batch number 99: 100%|██████████| 99/99 [00:15<00:00,  6.47batches/s]\n",
      "Test batch number 13: 100%|██████████| 13/13 [00:03<00:00,  3.69batches/s]\n"
     ]
    },
    {
     "name": "stdout",
     "output_type": "stream",
     "text": [
      "\n",
      "Metrics: {'train_loss': 0.006268926557051159, 'test_loss': 2.021481513977051, 'bleu': 22.2479, 'gen_len': 9.9242}\n",
      "\n",
      "=============================\n",
      "\n"
     ]
    },
    {
     "name": "stderr",
     "output_type": "stream",
     "text": [
      " 17%|█▋        | 10/60 [03:28<17:16, 20.74s/it]"
     ]
    },
    {
     "name": "stdout",
     "output_type": "stream",
     "text": [
      "For epoch 451: \n",
      "{Learning rate: [0.0012766395716623943]}\n"
     ]
    },
    {
     "name": "stderr",
     "output_type": "stream",
     "text": [
      "Train batch number 99: 100%|██████████| 99/99 [00:15<00:00,  6.39batches/s]\n",
      "Test batch number 13: 100%|██████████| 13/13 [00:03<00:00,  3.71batches/s]\n"
     ]
    },
    {
     "name": "stdout",
     "output_type": "stream",
     "text": [
      "\n",
      "Metrics: {'train_loss': 0.006247424436768404, 'test_loss': 2.032879279210017, 'bleu': 22.0973, 'gen_len': 9.8737}\n",
      "\n",
      "=============================\n",
      "\n"
     ]
    },
    {
     "name": "stderr",
     "output_type": "stream",
     "text": [
      " 18%|█▊        | 11/60 [03:49<16:56, 20.75s/it]"
     ]
    },
    {
     "name": "stdout",
     "output_type": "stream",
     "text": [
      "For epoch 452: \n",
      "{Learning rate: [0.001270910827067049]}\n"
     ]
    },
    {
     "name": "stderr",
     "output_type": "stream",
     "text": [
      "Train batch number 99: 100%|██████████| 99/99 [00:15<00:00,  6.52batches/s]\n",
      "Test batch number 13: 100%|██████████| 13/13 [00:03<00:00,  3.78batches/s]\n"
     ]
    },
    {
     "name": "stdout",
     "output_type": "stream",
     "text": [
      "\n",
      "Metrics: {'train_loss': 0.00617006814990409, 'test_loss': 2.032125243773827, 'bleu': 21.5867, 'gen_len': 9.798}\n",
      "\n",
      "=============================\n",
      "\n"
     ]
    },
    {
     "name": "stderr",
     "output_type": "stream",
     "text": [
      " 20%|██        | 12/60 [04:10<16:31, 20.65s/it]"
     ]
    },
    {
     "name": "stdout",
     "output_type": "stream",
     "text": [
      "For epoch 453: \n",
      "{Learning rate: [0.0012651856277626492]}\n"
     ]
    },
    {
     "name": "stderr",
     "output_type": "stream",
     "text": [
      "Train batch number 99: 100%|██████████| 99/99 [00:15<00:00,  6.39batches/s]\n",
      "Test batch number 13: 100%|██████████| 13/13 [00:03<00:00,  3.69batches/s]\n"
     ]
    },
    {
     "name": "stdout",
     "output_type": "stream",
     "text": [
      "\n",
      "Metrics: {'train_loss': 0.006500164985114643, 'test_loss': 2.017450754459088, 'bleu': 21.5712, 'gen_len': 9.8586}\n",
      "\n",
      "=============================\n",
      "\n"
     ]
    },
    {
     "name": "stderr",
     "output_type": "stream",
     "text": [
      " 22%|██▏       | 13/60 [04:30<16:13, 20.72s/it]"
     ]
    },
    {
     "name": "stdout",
     "output_type": "stream",
     "text": [
      "For epoch 454: \n",
      "{Learning rate: [0.0012594640580626802]}\n"
     ]
    },
    {
     "name": "stderr",
     "output_type": "stream",
     "text": [
      "Train batch number 99: 100%|██████████| 99/99 [00:15<00:00,  6.44batches/s]\n",
      "Test batch number 13: 100%|██████████| 13/13 [00:03<00:00,  3.79batches/s]\n"
     ]
    },
    {
     "name": "stdout",
     "output_type": "stream",
     "text": [
      "\n",
      "Metrics: {'train_loss': 0.006100586345042996, 'test_loss': 2.0263917171038113, 'bleu': 22.0473, 'gen_len': 9.7879}\n",
      "\n",
      "=============================\n",
      "\n"
     ]
    },
    {
     "name": "stderr",
     "output_type": "stream",
     "text": [
      " 23%|██▎       | 14/60 [04:51<15:52, 20.70s/it]"
     ]
    },
    {
     "name": "stdout",
     "output_type": "stream",
     "text": [
      "For epoch 455: \n",
      "{Learning rate: [0.0012537462022271738]}\n"
     ]
    },
    {
     "name": "stderr",
     "output_type": "stream",
     "text": [
      "Train batch number 99: 100%|██████████| 99/99 [00:15<00:00,  6.48batches/s]\n",
      "Test batch number 13: 100%|██████████| 13/13 [00:03<00:00,  3.81batches/s]\n"
     ]
    },
    {
     "name": "stdout",
     "output_type": "stream",
     "text": [
      "\n",
      "Metrics: {'train_loss': 0.006146155079918433, 'test_loss': 2.027919356639569, 'bleu': 21.8373, 'gen_len': 9.8384}\n",
      "\n",
      "=============================\n",
      "\n"
     ]
    },
    {
     "name": "stderr",
     "output_type": "stream",
     "text": [
      " 25%|██▌       | 15/60 [05:12<15:29, 20.65s/it]"
     ]
    },
    {
     "name": "stdout",
     "output_type": "stream",
     "text": [
      "For epoch 456: \n",
      "{Learning rate: [0.0012480321444614708]}\n"
     ]
    },
    {
     "name": "stderr",
     "output_type": "stream",
     "text": [
      "Train batch number 99: 100%|██████████| 99/99 [00:15<00:00,  6.38batches/s]\n",
      "Test batch number 13: 100%|██████████| 13/13 [00:03<00:00,  3.72batches/s]\n"
     ]
    },
    {
     "name": "stdout",
     "output_type": "stream",
     "text": [
      "\n",
      "Metrics: {'train_loss': 0.006009855153153161, 'test_loss': 2.0312077540617723, 'bleu': 21.6842, 'gen_len': 9.9444}\n",
      "\n",
      "=============================\n",
      "\n"
     ]
    },
    {
     "name": "stderr",
     "output_type": "stream",
     "text": [
      " 27%|██▋       | 16/60 [05:32<15:11, 20.71s/it]"
     ]
    },
    {
     "name": "stdout",
     "output_type": "stream",
     "text": [
      "For epoch 457: \n",
      "{Learning rate: [0.001242321968914977]}\n"
     ]
    },
    {
     "name": "stderr",
     "output_type": "stream",
     "text": [
      "Train batch number 99: 100%|██████████| 99/99 [00:16<00:00,  6.06batches/s]\n",
      "Test batch number 13: 100%|██████████| 13/13 [00:03<00:00,  3.83batches/s]\n"
     ]
    },
    {
     "name": "stdout",
     "output_type": "stream",
     "text": [
      "\n",
      "Metrics: {'train_loss': 0.006096261535974624, 'test_loss': 2.024735615803645, 'bleu': 21.884, 'gen_len': 9.8687}\n",
      "\n",
      "=============================\n",
      "\n"
     ]
    },
    {
     "name": "stderr",
     "output_type": "stream",
     "text": [
      " 28%|██▊       | 17/60 [05:54<15:02, 20.99s/it]"
     ]
    },
    {
     "name": "stdout",
     "output_type": "stream",
     "text": [
      "For epoch 458: \n",
      "{Learning rate: [0.0012366157596799265]}\n"
     ]
    },
    {
     "name": "stderr",
     "output_type": "stream",
     "text": [
      "Train batch number 99: 100%|██████████| 99/99 [00:15<00:00,  6.41batches/s]\n",
      "Test batch number 13: 100%|██████████| 13/13 [00:03<00:00,  3.86batches/s]\n"
     ]
    },
    {
     "name": "stdout",
     "output_type": "stream",
     "text": [
      "\n",
      "Metrics: {'train_loss': 0.005960100582939563, 'test_loss': 2.02385137631343, 'bleu': 21.8892, 'gen_len': 9.8636}\n",
      "\n",
      "=============================\n",
      "\n"
     ]
    },
    {
     "name": "stderr",
     "output_type": "stream",
     "text": [
      " 30%|███       | 18/60 [06:15<14:36, 20.87s/it]"
     ]
    },
    {
     "name": "stdout",
     "output_type": "stream",
     "text": [
      "For epoch 459: \n",
      "{Learning rate: [0.0012309136007901435]}\n"
     ]
    },
    {
     "name": "stderr",
     "output_type": "stream",
     "text": [
      "Train batch number 99: 100%|██████████| 99/99 [00:15<00:00,  6.54batches/s]\n",
      "Test batch number 13: 100%|██████████| 13/13 [00:03<00:00,  3.82batches/s]\n"
     ]
    },
    {
     "name": "stdout",
     "output_type": "stream",
     "text": [
      "\n",
      "Metrics: {'train_loss': 0.006115217823088357, 'test_loss': 2.0251689232312717, 'bleu': 22.0194, 'gen_len': 9.7879}\n",
      "\n",
      "=============================\n",
      "\n"
     ]
    },
    {
     "name": "stderr",
     "output_type": "stream",
     "text": [
      " 32%|███▏      | 19/60 [06:35<14:09, 20.73s/it]"
     ]
    },
    {
     "name": "stdout",
     "output_type": "stream",
     "text": [
      "For epoch 460: \n",
      "{Learning rate: [0.0012252155762198017]}\n"
     ]
    },
    {
     "name": "stderr",
     "output_type": "stream",
     "text": [
      "Train batch number 99: 100%|██████████| 99/99 [00:16<00:00,  6.16batches/s]\n",
      "Test batch number 13: 100%|██████████| 13/13 [00:03<00:00,  3.90batches/s]\n"
     ]
    },
    {
     "name": "stdout",
     "output_type": "stream",
     "text": [
      "\n",
      "Metrics: {'train_loss': 0.006129653660187761, 'test_loss': 2.0336430164483876, 'bleu': 21.9923, 'gen_len': 9.8838}\n",
      "\n",
      "=============================\n",
      "\n"
     ]
    },
    {
     "name": "stderr",
     "output_type": "stream",
     "text": [
      " 33%|███▎      | 20/60 [06:56<13:56, 20.90s/it]"
     ]
    },
    {
     "name": "stdout",
     "output_type": "stream",
     "text": [
      "For epoch 461: \n",
      "{Learning rate: [0.0012195217698821917]}\n"
     ]
    },
    {
     "name": "stderr",
     "output_type": "stream",
     "text": [
      "Train batch number 99: 100%|██████████| 99/99 [00:15<00:00,  6.34batches/s]\n",
      "Test batch number 13: 100%|██████████| 13/13 [00:03<00:00,  3.80batches/s]\n"
     ]
    },
    {
     "name": "stdout",
     "output_type": "stream",
     "text": [
      "\n",
      "Metrics: {'train_loss': 0.005958576168396952, 'test_loss': 2.039757040830759, 'bleu': 22.1722, 'gen_len': 9.7323}\n",
      "\n",
      "=============================\n",
      "\n"
     ]
    },
    {
     "name": "stderr",
     "output_type": "stream",
     "text": [
      " 35%|███▌      | 21/60 [07:17<13:35, 20.90s/it]"
     ]
    },
    {
     "name": "stdout",
     "output_type": "stream",
     "text": [
      "For epoch 462: \n",
      "{Learning rate: [0.0012138322656284838]}\n"
     ]
    },
    {
     "name": "stderr",
     "output_type": "stream",
     "text": [
      "Train batch number 99: 100%|██████████| 99/99 [00:15<00:00,  6.49batches/s]\n",
      "Test batch number 13: 100%|██████████| 13/13 [00:03<00:00,  3.77batches/s]\n"
     ]
    },
    {
     "name": "stdout",
     "output_type": "stream",
     "text": [
      "\n",
      "Metrics: {'train_loss': 0.00615845524912907, 'test_loss': 2.0428819472973165, 'bleu': 21.9035, 'gen_len': 9.8232}\n",
      "\n",
      "=============================\n",
      "\n"
     ]
    },
    {
     "name": "stderr",
     "output_type": "stream",
     "text": [
      " 37%|███▋      | 22/60 [07:38<13:10, 20.79s/it]"
     ]
    },
    {
     "name": "stdout",
     "output_type": "stream",
     "text": [
      "For epoch 463: \n",
      "{Learning rate: [0.00120814714724649]}\n"
     ]
    },
    {
     "name": "stderr",
     "output_type": "stream",
     "text": [
      "Train batch number 99: 100%|██████████| 99/99 [00:15<00:00,  6.50batches/s]\n",
      "Test batch number 13: 100%|██████████| 13/13 [00:03<00:00,  3.78batches/s]\n"
     ]
    },
    {
     "name": "stdout",
     "output_type": "stream",
     "text": [
      "\n",
      "Metrics: {'train_loss': 0.00613508762226139, 'test_loss': 2.0357183584800134, 'bleu': 22.0524, 'gen_len': 9.7677}\n",
      "\n",
      "=============================\n",
      "\n"
     ]
    },
    {
     "name": "stderr",
     "output_type": "stream",
     "text": [
      " 38%|███▊      | 23/60 [07:58<12:46, 20.70s/it]"
     ]
    },
    {
     "name": "stdout",
     "output_type": "stream",
     "text": [
      "For epoch 464: \n",
      "{Learning rate: [0.0012024664984594344]}\n"
     ]
    },
    {
     "name": "stderr",
     "output_type": "stream",
     "text": [
      "Train batch number 99: 100%|██████████| 99/99 [00:15<00:00,  6.34batches/s]\n",
      "Test batch number 13: 100%|██████████| 13/13 [00:03<00:00,  3.94batches/s]\n"
     ]
    },
    {
     "name": "stdout",
     "output_type": "stream",
     "text": [
      "\n",
      "Metrics: {'train_loss': 0.00615056805815924, 'test_loss': 2.0417174100875854, 'bleu': 21.1747, 'gen_len': 9.8283}\n",
      "\n",
      "=============================\n",
      "\n"
     ]
    },
    {
     "name": "stderr",
     "output_type": "stream",
     "text": [
      " 40%|████      | 24/60 [08:19<12:25, 20.72s/it]"
     ]
    },
    {
     "name": "stdout",
     "output_type": "stream",
     "text": [
      "For epoch 465: \n",
      "{Learning rate: [0.0011967904029247197]}\n"
     ]
    },
    {
     "name": "stderr",
     "output_type": "stream",
     "text": [
      "Train batch number 99: 100%|██████████| 99/99 [00:15<00:00,  6.43batches/s]\n",
      "Test batch number 13: 100%|██████████| 13/13 [00:03<00:00,  3.91batches/s]\n"
     ]
    },
    {
     "name": "stdout",
     "output_type": "stream",
     "text": [
      "\n",
      "Metrics: {'train_loss': 0.005991279325128129, 'test_loss': 2.0436188899553738, 'bleu': 21.1649, 'gen_len': 9.803}\n",
      "\n",
      "=============================\n",
      "\n"
     ]
    },
    {
     "name": "stderr",
     "output_type": "stream",
     "text": [
      " 42%|████▏     | 25/60 [08:40<12:03, 20.67s/it]"
     ]
    },
    {
     "name": "stdout",
     "output_type": "stream",
     "text": [
      "For epoch 466: \n",
      "{Learning rate: [0.0011911189442326913]}\n"
     ]
    },
    {
     "name": "stderr",
     "output_type": "stream",
     "text": [
      "Train batch number 99: 100%|██████████| 99/99 [00:15<00:00,  6.51batches/s]\n",
      "Test batch number 13: 100%|██████████| 13/13 [00:03<00:00,  3.71batches/s]\n"
     ]
    },
    {
     "name": "stdout",
     "output_type": "stream",
     "text": [
      "\n",
      "Metrics: {'train_loss': 0.006035979703125177, 'test_loss': 2.0446885090607863, 'bleu': 21.0047, 'gen_len': 9.8737}\n",
      "\n",
      "=============================\n",
      "\n"
     ]
    },
    {
     "name": "stderr",
     "output_type": "stream",
     "text": [
      " 43%|████▎     | 26/60 [09:00<11:41, 20.65s/it]"
     ]
    },
    {
     "name": "stdout",
     "output_type": "stream",
     "text": [
      "For epoch 467: \n",
      "{Learning rate: [0.0011854522059054117]}\n"
     ]
    },
    {
     "name": "stderr",
     "output_type": "stream",
     "text": [
      "Train batch number 99: 100%|██████████| 99/99 [00:15<00:00,  6.43batches/s]\n",
      "Test batch number 13: 100%|██████████| 13/13 [00:03<00:00,  3.78batches/s]\n"
     ]
    },
    {
     "name": "stdout",
     "output_type": "stream",
     "text": [
      "\n",
      "Metrics: {'train_loss': 0.006097526535067844, 'test_loss': 2.0486340889563928, 'bleu': 21.1333, 'gen_len': 9.7273}\n",
      "\n",
      "=============================\n",
      "\n"
     ]
    },
    {
     "name": "stderr",
     "output_type": "stream",
     "text": [
      " 45%|████▌     | 27/60 [09:21<11:21, 20.66s/it]"
     ]
    },
    {
     "name": "stdout",
     "output_type": "stream",
     "text": [
      "For epoch 468: \n",
      "{Learning rate: [0.0011797902713954257]}\n"
     ]
    },
    {
     "name": "stderr",
     "output_type": "stream",
     "text": [
      "Train batch number 99: 100%|██████████| 99/99 [00:15<00:00,  6.25batches/s]\n",
      "Test batch number 13: 100%|██████████| 13/13 [00:03<00:00,  3.59batches/s]\n"
     ]
    },
    {
     "name": "stdout",
     "output_type": "stream",
     "text": [
      "\n",
      "Metrics: {'train_loss': 0.005856429243894209, 'test_loss': 2.049155987226046, 'bleu': 21.2026, 'gen_len': 9.803}\n",
      "\n",
      "=============================\n",
      "\n"
     ]
    },
    {
     "name": "stderr",
     "output_type": "stream",
     "text": [
      " 47%|████▋     | 28/60 [09:42<11:07, 20.86s/it]"
     ]
    },
    {
     "name": "stdout",
     "output_type": "stream",
     "text": [
      "For epoch 469: \n",
      "{Learning rate: [0.0011741332240845352]}\n"
     ]
    },
    {
     "name": "stderr",
     "output_type": "stream",
     "text": [
      "Train batch number 99: 100%|██████████| 99/99 [00:15<00:00,  6.46batches/s]\n",
      "Test batch number 13: 100%|██████████| 13/13 [00:03<00:00,  3.74batches/s]\n"
     ]
    },
    {
     "name": "stdout",
     "output_type": "stream",
     "text": [
      "\n",
      "Metrics: {'train_loss': 0.006003565176577082, 'test_loss': 2.050234785446754, 'bleu': 21.4157, 'gen_len': 9.8636}\n",
      "\n",
      "=============================\n",
      "\n"
     ]
    },
    {
     "name": "stderr",
     "output_type": "stream",
     "text": [
      " 48%|████▊     | 29/60 [10:03<10:44, 20.79s/it]"
     ]
    },
    {
     "name": "stdout",
     "output_type": "stream",
     "text": [
      "For epoch 470: \n",
      "{Learning rate: [0.0011684811472825692]}\n"
     ]
    },
    {
     "name": "stderr",
     "output_type": "stream",
     "text": [
      "Train batch number 99: 100%|██████████| 99/99 [00:15<00:00,  6.50batches/s]\n",
      "Test batch number 13: 100%|██████████| 13/13 [00:03<00:00,  3.85batches/s]\n"
     ]
    },
    {
     "name": "stdout",
     "output_type": "stream",
     "text": [
      "\n",
      "Metrics: {'train_loss': 0.005942327029928988, 'test_loss': 2.0440820272152243, 'bleu': 21.7616, 'gen_len': 9.9293}\n",
      "\n",
      "=============================\n",
      "\n"
     ]
    },
    {
     "name": "stderr",
     "output_type": "stream",
     "text": [
      " 50%|█████     | 30/60 [10:23<10:20, 20.69s/it]"
     ]
    },
    {
     "name": "stdout",
     "output_type": "stream",
     "text": [
      "For epoch 471: \n",
      "{Learning rate: [0.0011628341242261569]}\n"
     ]
    },
    {
     "name": "stderr",
     "output_type": "stream",
     "text": [
      "Train batch number 99: 100%|██████████| 99/99 [00:15<00:00,  6.49batches/s]\n",
      "Test batch number 13: 100%|██████████| 13/13 [00:03<00:00,  3.79batches/s]\n"
     ]
    },
    {
     "name": "stdout",
     "output_type": "stream",
     "text": [
      "\n",
      "Metrics: {'train_loss': 0.005925997292665256, 'test_loss': 2.0422593721976647, 'bleu': 21.1706, 'gen_len': 10.0}\n",
      "\n",
      "=============================\n",
      "\n"
     ]
    },
    {
     "name": "stderr",
     "output_type": "stream",
     "text": [
      " 52%|█████▏    | 31/60 [10:44<09:58, 20.63s/it]"
     ]
    },
    {
     "name": "stdout",
     "output_type": "stream",
     "text": [
      "For epoch 472: \n",
      "{Learning rate: [0.0011571922380775018]}\n"
     ]
    },
    {
     "name": "stderr",
     "output_type": "stream",
     "text": [
      "Train batch number 99: 100%|██████████| 99/99 [00:15<00:00,  6.31batches/s]\n",
      "Test batch number 13: 100%|██████████| 13/13 [00:03<00:00,  3.89batches/s]\n"
     ]
    },
    {
     "name": "stdout",
     "output_type": "stream",
     "text": [
      "\n",
      "Metrics: {'train_loss': 0.005963738783994087, 'test_loss': 2.053432528789227, 'bleu': 21.4018, 'gen_len': 9.8788}\n",
      "\n",
      "=============================\n",
      "\n"
     ]
    },
    {
     "name": "stderr",
     "output_type": "stream",
     "text": [
      " 53%|█████▎    | 32/60 [11:05<09:39, 20.70s/it]"
     ]
    },
    {
     "name": "stdout",
     "output_type": "stream",
     "text": [
      "For epoch 473: \n",
      "{Learning rate: [0.0011515555719231597]}\n"
     ]
    },
    {
     "name": "stderr",
     "output_type": "stream",
     "text": [
      "Train batch number 99: 100%|██████████| 99/99 [00:15<00:00,  6.43batches/s]\n",
      "Test batch number 13: 100%|██████████| 13/13 [00:03<00:00,  3.85batches/s]\n"
     ]
    },
    {
     "name": "stdout",
     "output_type": "stream",
     "text": [
      "\n",
      "Metrics: {'train_loss': 0.006041099761866711, 'test_loss': 2.0556310415267944, 'bleu': 21.2434, 'gen_len': 9.9444}\n",
      "\n",
      "=============================\n",
      "\n"
     ]
    },
    {
     "name": "stderr",
     "output_type": "stream",
     "text": [
      " 55%|█████▌    | 33/60 [11:25<09:18, 20.67s/it]"
     ]
    },
    {
     "name": "stdout",
     "output_type": "stream",
     "text": [
      "For epoch 474: \n",
      "{Learning rate: [0.0011459242087728102]}\n"
     ]
    },
    {
     "name": "stderr",
     "output_type": "stream",
     "text": [
      "Train batch number 99: 100%|██████████| 99/99 [00:15<00:00,  6.41batches/s]\n",
      "Test batch number 13: 100%|██████████| 13/13 [00:03<00:00,  3.81batches/s]\n"
     ]
    },
    {
     "name": "stdout",
     "output_type": "stream",
     "text": [
      "\n",
      "Metrics: {'train_loss': 0.006115142777391634, 'test_loss': 2.0476642663662252, 'bleu': 21.4377, 'gen_len': 9.8737}\n",
      "\n",
      "=============================\n",
      "\n"
     ]
    },
    {
     "name": "stderr",
     "output_type": "stream",
     "text": [
      " 57%|█████▋    | 34/60 [11:46<08:57, 20.68s/it]"
     ]
    },
    {
     "name": "stdout",
     "output_type": "stream",
     "text": [
      "For epoch 475: \n",
      "{Learning rate: [0.0011402982315580395]}\n"
     ]
    },
    {
     "name": "stderr",
     "output_type": "stream",
     "text": [
      "Train batch number 99: 100%|██████████| 99/99 [00:15<00:00,  6.45batches/s]\n",
      "Test batch number 13: 100%|██████████| 13/13 [00:03<00:00,  3.83batches/s]\n"
     ]
    },
    {
     "name": "stdout",
     "output_type": "stream",
     "text": [
      "\n",
      "Metrics: {'train_loss': 0.00597580711767689, 'test_loss': 2.041832364522494, 'bleu': 21.4762, 'gen_len': 9.8333}\n",
      "\n",
      "=============================\n",
      "\n"
     ]
    },
    {
     "name": "stderr",
     "output_type": "stream",
     "text": [
      " 58%|█████▊    | 35/60 [12:07<08:36, 20.65s/it]"
     ]
    },
    {
     "name": "stdout",
     "output_type": "stream",
     "text": [
      "For epoch 476: \n",
      "{Learning rate: [0.0011346777231311142]}\n"
     ]
    },
    {
     "name": "stderr",
     "output_type": "stream",
     "text": [
      "Train batch number 99: 100%|██████████| 99/99 [00:15<00:00,  6.47batches/s]\n",
      "Test batch number 13: 100%|██████████| 13/13 [00:03<00:00,  3.72batches/s]\n"
     ]
    },
    {
     "name": "stdout",
     "output_type": "stream",
     "text": [
      "\n",
      "Metrics: {'train_loss': 0.005955551696131053, 'test_loss': 2.044365571095393, 'bleu': 21.2081, 'gen_len': 9.8434}\n",
      "\n",
      "=============================\n",
      "\n"
     ]
    },
    {
     "name": "stderr",
     "output_type": "stream",
     "text": [
      " 60%|██████    | 36/60 [12:27<08:15, 20.63s/it]"
     ]
    },
    {
     "name": "stdout",
     "output_type": "stream",
     "text": [
      "For epoch 477: \n",
      "{Learning rate: [0.0011290627662637657]}\n"
     ]
    },
    {
     "name": "stderr",
     "output_type": "stream",
     "text": [
      "Train batch number 99: 100%|██████████| 99/99 [00:15<00:00,  6.33batches/s]\n",
      "Test batch number 13: 100%|██████████| 13/13 [00:03<00:00,  3.84batches/s]\n"
     ]
    },
    {
     "name": "stdout",
     "output_type": "stream",
     "text": [
      "\n",
      "Metrics: {'train_loss': 0.005868057562055941, 'test_loss': 2.0436915159225464, 'bleu': 20.8553, 'gen_len': 9.9293}\n",
      "\n",
      "=============================\n",
      "\n"
     ]
    },
    {
     "name": "stderr",
     "output_type": "stream",
     "text": [
      " 62%|██████▏   | 37/60 [12:48<07:56, 20.71s/it]"
     ]
    },
    {
     "name": "stdout",
     "output_type": "stream",
     "text": [
      "For epoch 478: \n",
      "{Learning rate: [0.0011234534436459674]}\n"
     ]
    },
    {
     "name": "stderr",
     "output_type": "stream",
     "text": [
      "Train batch number 99: 100%|██████████| 99/99 [00:15<00:00,  6.39batches/s]\n",
      "Test batch number 13: 100%|██████████| 13/13 [00:03<00:00,  3.63batches/s]\n"
     ]
    },
    {
     "name": "stdout",
     "output_type": "stream",
     "text": [
      "\n",
      "Metrics: {'train_loss': 0.0060881945009712566, 'test_loss': 2.0415911949597874, 'bleu': 20.7341, 'gen_len': 9.9747}\n",
      "\n",
      "=============================\n",
      "\n"
     ]
    },
    {
     "name": "stderr",
     "output_type": "stream",
     "text": [
      " 63%|██████▎   | 38/60 [13:09<07:36, 20.77s/it]"
     ]
    },
    {
     "name": "stdout",
     "output_type": "stream",
     "text": [
      "For epoch 479: \n",
      "{Learning rate: [0.0011178498378847195]}\n"
     ]
    },
    {
     "name": "stderr",
     "output_type": "stream",
     "text": [
      "Train batch number 99: 100%|██████████| 99/99 [00:16<00:00,  6.09batches/s]\n",
      "Test batch number 13: 100%|██████████| 13/13 [00:03<00:00,  3.88batches/s]\n"
     ]
    },
    {
     "name": "stdout",
     "output_type": "stream",
     "text": [
      "\n",
      "Metrics: {'train_loss': 0.0059327498447876706, 'test_loss': 2.0384201269883375, 'bleu': 21.4562, 'gen_len': 9.8232}\n",
      "\n",
      "=============================\n",
      "\n"
     ]
    },
    {
     "name": "stderr",
     "output_type": "stream",
     "text": [
      " 65%|██████▌   | 39/60 [13:30<07:20, 20.98s/it]"
     ]
    },
    {
     "name": "stdout",
     "output_type": "stream",
     "text": [
      "For epoch 480: \n",
      "{Learning rate: [0.0011122520315028307]}\n"
     ]
    },
    {
     "name": "stderr",
     "output_type": "stream",
     "text": [
      "Train batch number 99: 100%|██████████| 99/99 [00:15<00:00,  6.40batches/s]\n",
      "Test batch number 13: 100%|██████████| 13/13 [00:03<00:00,  3.63batches/s]\n"
     ]
    },
    {
     "name": "stdout",
     "output_type": "stream",
     "text": [
      "\n",
      "Metrics: {'train_loss': 0.005840122995332514, 'test_loss': 2.04245349077078, 'bleu': 20.9369, 'gen_len': 9.9192}\n",
      "\n",
      "=============================\n",
      "\n"
     ]
    },
    {
     "name": "stderr",
     "output_type": "stream",
     "text": [
      " 67%|██████▋   | 40/60 [13:51<06:59, 20.97s/it]"
     ]
    },
    {
     "name": "stdout",
     "output_type": "stream",
     "text": [
      "For epoch 481: \n",
      "{Learning rate: [0.0011066601069377058]}\n"
     ]
    },
    {
     "name": "stderr",
     "output_type": "stream",
     "text": [
      "Train batch number 99: 100%|██████████| 99/99 [00:15<00:00,  6.44batches/s]\n",
      "Test batch number 13: 100%|██████████| 13/13 [00:03<00:00,  3.70batches/s]\n"
     ]
    },
    {
     "name": "stdout",
     "output_type": "stream",
     "text": [
      "\n",
      "Metrics: {'train_loss': 0.005781245858713072, 'test_loss': 2.0420048511945286, 'bleu': 20.8731, 'gen_len': 9.8636}\n",
      "\n",
      "=============================\n",
      "\n"
     ]
    },
    {
     "name": "stderr",
     "output_type": "stream",
     "text": [
      " 68%|██████▊   | 41/60 [14:12<06:36, 20.89s/it]"
     ]
    },
    {
     "name": "stdout",
     "output_type": "stream",
     "text": [
      "For epoch 482: \n",
      "{Learning rate: [0.0011010741465401269]}\n"
     ]
    },
    {
     "name": "stderr",
     "output_type": "stream",
     "text": [
      "Train batch number 99: 100%|██████████| 99/99 [00:15<00:00,  6.42batches/s]\n",
      "Test batch number 13: 100%|██████████| 13/13 [00:03<00:00,  3.77batches/s]\n"
     ]
    },
    {
     "name": "stdout",
     "output_type": "stream",
     "text": [
      "\n",
      "Metrics: {'train_loss': 0.0059300033950935955, 'test_loss': 2.044510135283837, 'bleu': 21.4556, 'gen_len': 9.9141}\n",
      "\n",
      "=============================\n",
      "\n"
     ]
    },
    {
     "name": "stderr",
     "output_type": "stream",
     "text": [
      " 70%|███████   | 42/60 [14:33<06:15, 20.85s/it]"
     ]
    },
    {
     "name": "stdout",
     "output_type": "stream",
     "text": [
      "For epoch 483: \n",
      "{Learning rate: [0.0010954942325730457]}\n"
     ]
    },
    {
     "name": "stderr",
     "output_type": "stream",
     "text": [
      "Train batch number 99: 100%|██████████| 99/99 [00:15<00:00,  6.39batches/s]\n",
      "Test batch number 13: 100%|██████████| 13/13 [00:03<00:00,  3.71batches/s]\n"
     ]
    },
    {
     "name": "stdout",
     "output_type": "stream",
     "text": [
      "\n",
      "Metrics: {'train_loss': 0.0060025502827942764, 'test_loss': 2.0484073620576124, 'bleu': 21.7726, 'gen_len': 9.8535}\n",
      "\n",
      "=============================\n",
      "\n"
     ]
    },
    {
     "name": "stderr",
     "output_type": "stream",
     "text": [
      " 72%|███████▏  | 43/60 [14:54<05:54, 20.86s/it]"
     ]
    },
    {
     "name": "stdout",
     "output_type": "stream",
     "text": [
      "For epoch 484: \n",
      "{Learning rate: [0.0010899204472103678]}\n"
     ]
    },
    {
     "name": "stderr",
     "output_type": "stream",
     "text": [
      "Train batch number 99: 100%|██████████| 99/99 [00:15<00:00,  6.41batches/s]\n",
      "Test batch number 13: 100%|██████████| 13/13 [00:03<00:00,  3.68batches/s]\n"
     ]
    },
    {
     "name": "stdout",
     "output_type": "stream",
     "text": [
      "\n",
      "Metrics: {'train_loss': 0.005925913211846056, 'test_loss': 2.041956589772151, 'bleu': 21.3578, 'gen_len': 9.8232}\n",
      "\n",
      "=============================\n",
      "\n"
     ]
    },
    {
     "name": "stderr",
     "output_type": "stream",
     "text": [
      " 73%|███████▎  | 44/60 [15:14<05:33, 20.83s/it]"
     ]
    },
    {
     "name": "stdout",
     "output_type": "stream",
     "text": [
      "For epoch 485: \n",
      "{Learning rate: [0.0010843528725357461]}\n"
     ]
    },
    {
     "name": "stderr",
     "output_type": "stream",
     "text": [
      "Train batch number 99: 100%|██████████| 99/99 [00:15<00:00,  6.39batches/s]\n",
      "Test batch number 13: 100%|██████████| 13/13 [00:03<00:00,  3.81batches/s]\n"
     ]
    },
    {
     "name": "stdout",
     "output_type": "stream",
     "text": [
      "\n",
      "Metrics: {'train_loss': 0.006026614619791743, 'test_loss': 2.0435294921581564, 'bleu': 21.9678, 'gen_len': 9.9091}\n",
      "\n",
      "=============================\n",
      "\n"
     ]
    },
    {
     "name": "stderr",
     "output_type": "stream",
     "text": [
      " 75%|███████▌  | 45/60 [15:35<05:12, 20.82s/it]"
     ]
    },
    {
     "name": "stdout",
     "output_type": "stream",
     "text": [
      "For epoch 486: \n",
      "{Learning rate: [0.0010787915905413703]}\n"
     ]
    },
    {
     "name": "stderr",
     "output_type": "stream",
     "text": [
      "Train batch number 99: 100%|██████████| 99/99 [00:15<00:00,  6.37batches/s]\n",
      "Test batch number 13: 100%|██████████| 13/13 [00:03<00:00,  3.78batches/s]\n"
     ]
    },
    {
     "name": "stdout",
     "output_type": "stream",
     "text": [
      "\n",
      "Metrics: {'train_loss': 0.00592721200526358, 'test_loss': 2.0380749243956346, 'bleu': 22.0892, 'gen_len': 9.9495}\n",
      "\n",
      "=============================\n",
      "\n"
     ]
    },
    {
     "name": "stderr",
     "output_type": "stream",
     "text": [
      " 77%|███████▋  | 46/60 [15:56<04:51, 20.83s/it]"
     ]
    },
    {
     "name": "stdout",
     "output_type": "stream",
     "text": [
      "For epoch 487: \n",
      "{Learning rate: [0.0010732366831267574]}\n"
     ]
    },
    {
     "name": "stderr",
     "output_type": "stream",
     "text": [
      "Train batch number 99: 100%|██████████| 99/99 [00:15<00:00,  6.52batches/s]\n",
      "Test batch number 13: 100%|██████████| 13/13 [00:03<00:00,  3.83batches/s]\n"
     ]
    },
    {
     "name": "stdout",
     "output_type": "stream",
     "text": [
      "\n",
      "Metrics: {'train_loss': 0.005853047030357611, 'test_loss': 2.036881529367887, 'bleu': 22.0206, 'gen_len': 9.8838}\n",
      "\n",
      "=============================\n",
      "\n"
     ]
    },
    {
     "name": "stderr",
     "output_type": "stream",
     "text": [
      " 78%|███████▊  | 47/60 [16:17<04:29, 20.70s/it]"
     ]
    },
    {
     "name": "stdout",
     "output_type": "stream",
     "text": [
      "For epoch 488: \n",
      "{Learning rate: [0.00106768823209755]}\n"
     ]
    },
    {
     "name": "stderr",
     "output_type": "stream",
     "text": [
      "Train batch number 99: 100%|██████████| 99/99 [00:15<00:00,  6.45batches/s]\n",
      "Test batch number 13: 100%|██████████| 13/13 [00:03<00:00,  3.82batches/s]\n"
     ]
    },
    {
     "name": "stdout",
     "output_type": "stream",
     "text": [
      "\n",
      "Metrics: {'train_loss': 0.006098518376632575, 'test_loss': 2.038581655575679, 'bleu': 22.0914, 'gen_len': 9.8687}\n",
      "\n",
      "=============================\n",
      "\n"
     ]
    },
    {
     "name": "stderr",
     "output_type": "stream",
     "text": [
      " 80%|████████  | 48/60 [16:37<04:07, 20.67s/it]"
     ]
    },
    {
     "name": "stdout",
     "output_type": "stream",
     "text": [
      "For epoch 489: \n",
      "{Learning rate: [0.001062146319164309]}\n"
     ]
    },
    {
     "name": "stderr",
     "output_type": "stream",
     "text": [
      "Train batch number 99: 100%|██████████| 99/99 [00:15<00:00,  6.52batches/s]\n",
      "Test batch number 13: 100%|██████████| 13/13 [00:03<00:00,  3.74batches/s]\n"
     ]
    },
    {
     "name": "stdout",
     "output_type": "stream",
     "text": [
      "\n",
      "Metrics: {'train_loss': 0.005773211153067714, 'test_loss': 2.0440314457966733, 'bleu': 21.9711, 'gen_len': 9.8333}\n",
      "\n",
      "=============================\n",
      "\n"
     ]
    },
    {
     "name": "stderr",
     "output_type": "stream",
     "text": [
      " 82%|████████▏ | 49/60 [16:58<03:47, 20.69s/it]"
     ]
    },
    {
     "name": "stdout",
     "output_type": "stream",
     "text": [
      "For epoch 490: \n",
      "{Learning rate: [0.0010566110259413084]}\n"
     ]
    },
    {
     "name": "stderr",
     "output_type": "stream",
     "text": [
      "Train batch number 99: 100%|██████████| 99/99 [00:15<00:00,  6.35batches/s]\n",
      "Test batch number 13: 100%|██████████| 13/13 [00:03<00:00,  3.77batches/s]\n"
     ]
    },
    {
     "name": "stdout",
     "output_type": "stream",
     "text": [
      "\n",
      "Metrics: {'train_loss': 0.005847310122029593, 'test_loss': 2.0418070463033824, 'bleu': 21.8039, 'gen_len': 9.8586}\n",
      "\n",
      "=============================\n",
      "\n"
     ]
    },
    {
     "name": "stderr",
     "output_type": "stream",
     "text": [
      " 83%|████████▎ | 50/60 [17:19<03:27, 20.74s/it]"
     ]
    },
    {
     "name": "stdout",
     "output_type": "stream",
     "text": [
      "For epoch 491: \n",
      "{Learning rate: [0.0010510824339453387]}\n"
     ]
    },
    {
     "name": "stderr",
     "output_type": "stream",
     "text": [
      "Train batch number 99: 100%|██████████| 99/99 [00:15<00:00,  6.44batches/s]\n",
      "Test batch number 13: 100%|██████████| 13/13 [00:03<00:00,  3.73batches/s]\n"
     ]
    },
    {
     "name": "stdout",
     "output_type": "stream",
     "text": [
      "\n",
      "Metrics: {'train_loss': 0.005823747774955318, 'test_loss': 2.043839399631207, 'bleu': 21.916, 'gen_len': 9.8838}\n",
      "\n",
      "=============================\n",
      "\n"
     ]
    },
    {
     "name": "stderr",
     "output_type": "stream",
     "text": [
      " 85%|████████▌ | 51/60 [17:39<03:06, 20.72s/it]"
     ]
    },
    {
     "name": "stdout",
     "output_type": "stream",
     "text": [
      "For epoch 492: \n",
      "{Learning rate: [0.0010455606245945]}\n"
     ]
    },
    {
     "name": "stderr",
     "output_type": "stream",
     "text": [
      "Train batch number 99: 100%|██████████| 99/99 [00:15<00:00,  6.45batches/s]\n",
      "Test batch number 13: 100%|██████████| 13/13 [00:03<00:00,  3.90batches/s]\n"
     ]
    },
    {
     "name": "stdout",
     "output_type": "stream",
     "text": [
      "\n",
      "Metrics: {'train_loss': 0.005785700819082323, 'test_loss': 2.0485163560280433, 'bleu': 21.8493, 'gen_len': 9.8485}\n",
      "\n",
      "=============================\n",
      "\n"
     ]
    },
    {
     "name": "stderr",
     "output_type": "stream",
     "text": [
      " 87%|████████▋ | 52/60 [18:00<02:45, 20.66s/it]"
     ]
    },
    {
     "name": "stdout",
     "output_type": "stream",
     "text": [
      "For epoch 493: \n",
      "{Learning rate: [0.0010400456792070082]}\n"
     ]
    },
    {
     "name": "stderr",
     "output_type": "stream",
     "text": [
      "Train batch number 99: 100%|██████████| 99/99 [00:15<00:00,  6.45batches/s]\n",
      "Test batch number 13: 100%|██████████| 13/13 [00:03<00:00,  3.68batches/s]\n"
     ]
    },
    {
     "name": "stdout",
     "output_type": "stream",
     "text": [
      "\n",
      "Metrics: {'train_loss': 0.005913792669566141, 'test_loss': 2.046532291632432, 'bleu': 22.4133, 'gen_len': 9.8232}\n",
      "\n",
      "=============================\n",
      "\n"
     ]
    },
    {
     "name": "stderr",
     "output_type": "stream",
     "text": [
      " 88%|████████▊ | 53/60 [18:21<02:24, 20.68s/it]"
     ]
    },
    {
     "name": "stdout",
     "output_type": "stream",
     "text": [
      "For epoch 494: \n",
      "{Learning rate: [0.0010345376789999954]}\n"
     ]
    },
    {
     "name": "stderr",
     "output_type": "stream",
     "text": [
      "Train batch number 99: 100%|██████████| 99/99 [00:15<00:00,  6.36batches/s]\n",
      "Test batch number 13: 100%|██████████| 13/13 [00:03<00:00,  3.66batches/s]\n"
     ]
    },
    {
     "name": "stdout",
     "output_type": "stream",
     "text": [
      "\n",
      "Metrics: {'train_loss': 0.005849853822534594, 'test_loss': 2.043341737527114, 'bleu': 22.1157, 'gen_len': 9.8838}\n",
      "\n",
      "=============================\n",
      "\n"
     ]
    },
    {
     "name": "stderr",
     "output_type": "stream",
     "text": [
      " 90%|█████████ | 54/60 [18:42<02:04, 20.76s/it]"
     ]
    },
    {
     "name": "stdout",
     "output_type": "stream",
     "text": [
      "For epoch 495: \n",
      "{Learning rate: [0.0010290367050883123]}\n"
     ]
    },
    {
     "name": "stderr",
     "output_type": "stream",
     "text": [
      "Train batch number 99: 100%|██████████| 99/99 [00:15<00:00,  6.39batches/s]\n",
      "Test batch number 13: 100%|██████████| 13/13 [00:03<00:00,  3.79batches/s]\n"
     ]
    },
    {
     "name": "stdout",
     "output_type": "stream",
     "text": [
      "\n",
      "Metrics: {'train_loss': 0.005870467724632519, 'test_loss': 2.046937878315265, 'bleu': 21.882, 'gen_len': 9.8889}\n",
      "\n",
      "=============================\n",
      "\n"
     ]
    },
    {
     "name": "stderr",
     "output_type": "stream",
     "text": [
      " 92%|█████████▏| 55/60 [19:02<01:43, 20.74s/it]"
     ]
    },
    {
     "name": "stdout",
     "output_type": "stream",
     "text": [
      "For epoch 496: \n",
      "{Learning rate: [0.0010235428384833371]}\n"
     ]
    },
    {
     "name": "stderr",
     "output_type": "stream",
     "text": [
      "Train batch number 99: 100%|██████████| 99/99 [00:15<00:00,  6.44batches/s]\n",
      "Test batch number 13: 100%|██████████| 13/13 [00:03<00:00,  3.71batches/s]\n"
     ]
    },
    {
     "name": "stdout",
     "output_type": "stream",
     "text": [
      "\n",
      "Metrics: {'train_loss': 0.005786214690570804, 'test_loss': 2.035630152775691, 'bleu': 22.2491, 'gen_len': 9.8283}\n",
      "\n",
      "=============================\n",
      "\n"
     ]
    },
    {
     "name": "stderr",
     "output_type": "stream",
     "text": [
      " 93%|█████████▎| 56/60 [19:23<01:22, 20.72s/it]"
     ]
    },
    {
     "name": "stdout",
     "output_type": "stream",
     "text": [
      "For epoch 497: \n",
      "{Learning rate: [0.0010180561600917804]}\n"
     ]
    },
    {
     "name": "stderr",
     "output_type": "stream",
     "text": [
      "Train batch number 99: 100%|██████████| 99/99 [00:15<00:00,  6.42batches/s]\n",
      "Test batch number 13: 100%|██████████| 13/13 [00:03<00:00,  3.66batches/s]\n"
     ]
    },
    {
     "name": "stdout",
     "output_type": "stream",
     "text": [
      "\n",
      "Metrics: {'train_loss': 0.00566916349605596, 'test_loss': 2.034006036244906, 'bleu': 21.7805, 'gen_len': 9.8636}\n",
      "\n",
      "=============================\n",
      "\n"
     ]
    },
    {
     "name": "stderr",
     "output_type": "stream",
     "text": [
      " 95%|█████████▌| 57/60 [19:44<01:02, 20.76s/it]"
     ]
    },
    {
     "name": "stdout",
     "output_type": "stream",
     "text": [
      "For epoch 498: \n",
      "{Learning rate: [0.0010125767507144921]}\n"
     ]
    },
    {
     "name": "stderr",
     "output_type": "stream",
     "text": [
      "Train batch number 99: 100%|██████████| 99/99 [00:15<00:00,  6.54batches/s]\n",
      "Test batch number 13: 100%|██████████| 13/13 [00:03<00:00,  3.94batches/s]\n"
     ]
    },
    {
     "name": "stdout",
     "output_type": "stream",
     "text": [
      "\n",
      "Metrics: {'train_loss': 0.005826107412032816, 'test_loss': 2.0399023386148305, 'bleu': 22.2263, 'gen_len': 9.8535}\n",
      "\n",
      "=============================\n",
      "\n"
     ]
    },
    {
     "name": "stderr",
     "output_type": "stream",
     "text": [
      " 97%|█████████▋| 58/60 [20:04<00:41, 20.60s/it]"
     ]
    },
    {
     "name": "stdout",
     "output_type": "stream",
     "text": [
      "For epoch 499: \n",
      "{Learning rate: [0.0010071046910452748]}\n"
     ]
    },
    {
     "name": "stderr",
     "output_type": "stream",
     "text": [
      "Train batch number 99: 100%|██████████| 99/99 [00:13<00:00,  7.40batches/s]\n",
      "Test batch number 13: 100%|██████████| 13/13 [00:03<00:00,  3.93batches/s]\n"
     ]
    },
    {
     "name": "stdout",
     "output_type": "stream",
     "text": [
      "\n",
      "Metrics: {'train_loss': 0.0058191790309560605, 'test_loss': 2.0302746571027317, 'bleu': 22.2594, 'gen_len': 9.8687}\n",
      "\n",
      "=============================\n",
      "\n"
     ]
    },
    {
     "name": "stderr",
     "output_type": "stream",
     "text": [
      " 98%|█████████▊| 59/60 [20:22<00:19, 19.96s/it]"
     ]
    },
    {
     "name": "stdout",
     "output_type": "stream",
     "text": [
      "For epoch 500: \n",
      "{Learning rate: [0.001001640061669694]}\n"
     ]
    },
    {
     "name": "stderr",
     "output_type": "stream",
     "text": [
      "Train batch number 99: 100%|██████████| 99/99 [00:13<00:00,  7.34batches/s]\n",
      "Test batch number 13: 100%|██████████| 13/13 [00:03<00:00,  3.93batches/s]\n"
     ]
    },
    {
     "name": "stdout",
     "output_type": "stream",
     "text": [
      "\n",
      "Metrics: {'train_loss': 0.0058785396937640726, 'test_loss': 2.043622686312749, 'bleu': 22.5215, 'gen_len': 9.8384}\n",
      "\n",
      "=============================\n",
      "\n"
     ]
    },
    {
     "name": "stderr",
     "output_type": "stream",
     "text": [
      "100%|██████████| 60/60 [20:41<00:00, 20.69s/it]\n"
     ]
    }
   ],
   "source": [
    "trainer.train(epochs = config['epochs'] - trainer.current_epoch, auto_save=True, metric_for_best_model='bleu', metric_objective='maximize', log_step=1,\n",
    "              saving_directory = config['new_model_dir'])"
   ]
  },
  {
   "attachments": {},
   "cell_type": "markdown",
   "metadata": {},
   "source": [
    "### ---"
   ]
  },
  {
   "cell_type": "code",
   "execution_count": 10,
   "metadata": {},
   "outputs": [
    {
     "name": "stderr",
     "output_type": "stream",
     "text": [
      "  0%|          | 0/344 [00:00<?, ?it/s]/home/ec2-user/anaconda3/envs/pytorch_p310/lib/python3.10/site-packages/torch/optim/lr_scheduler.py:265: UserWarning: To get the last learning rate computed by the scheduler, please use `get_last_lr()`.\n",
      "  warnings.warn(\"To get the last learning rate computed by the scheduler, \"\n"
     ]
    },
    {
     "name": "stdout",
     "output_type": "stream",
     "text": [
      "For epoch 457: \n",
      "{Learning rate: [0.001242321968914977]}\n"
     ]
    },
    {
     "name": "stderr",
     "output_type": "stream",
     "text": [
      "Train batch number 99: 100%|██████████| 99/99 [00:13<00:00,  7.28batches/s]\n",
      "Test batch number 13: 100%|██████████| 13/13 [00:11<00:00,  1.10batches/s]\n"
     ]
    },
    {
     "name": "stdout",
     "output_type": "stream",
     "text": [
      "\n",
      "Metrics: {'train_loss': 0.007280127252945958, 'test_loss': 2.033146463907682, 'bleu': 21.7641, 'gen_len': 10.0202}\n",
      "\n",
      "=============================\n",
      "\n"
     ]
    },
    {
     "name": "stderr",
     "output_type": "stream",
     "text": [
      "  0%|          | 1/344 [00:27<2:36:57, 27.46s/it]"
     ]
    },
    {
     "name": "stdout",
     "output_type": "stream",
     "text": [
      "For epoch 458: \n",
      "{Learning rate: [0.0012366157596799265]}\n"
     ]
    },
    {
     "name": "stderr",
     "output_type": "stream",
     "text": [
      "Train batch number 99: 100%|██████████| 99/99 [00:12<00:00,  7.73batches/s]\n",
      "Test batch number 13: 100%|██████████| 13/13 [00:03<00:00,  4.07batches/s]\n"
     ]
    },
    {
     "name": "stdout",
     "output_type": "stream",
     "text": [
      "\n",
      "Metrics: {'train_loss': 0.006790084752455269, 'test_loss': 2.0337642706357517, 'bleu': 21.8315, 'gen_len': 10.0404}\n",
      "\n",
      "=============================\n",
      "\n"
     ]
    },
    {
     "name": "stderr",
     "output_type": "stream",
     "text": [
      "  1%|          | 2/344 [00:45<2:04:07, 21.78s/it]"
     ]
    },
    {
     "name": "stdout",
     "output_type": "stream",
     "text": [
      "For epoch 459: \n",
      "{Learning rate: [0.0012309136007901435]}\n"
     ]
    },
    {
     "name": "stderr",
     "output_type": "stream",
     "text": [
      "Train batch number 99: 100%|██████████| 99/99 [00:12<00:00,  7.87batches/s]\n",
      "Test batch number 13: 100%|██████████| 13/13 [00:03<00:00,  3.96batches/s]\n"
     ]
    },
    {
     "name": "stdout",
     "output_type": "stream",
     "text": [
      "\n",
      "Metrics: {'train_loss': 0.0064043703220309596, 'test_loss': 2.0196992800785947, 'bleu': 22.016, 'gen_len': 9.9646}\n",
      "\n",
      "=============================\n",
      "\n"
     ]
    },
    {
     "name": "stderr",
     "output_type": "stream",
     "text": [
      "  1%|          | 3/344 [01:02<1:53:05, 19.90s/it]"
     ]
    },
    {
     "name": "stdout",
     "output_type": "stream",
     "text": [
      "For epoch 460: \n",
      "{Learning rate: [0.0012252155762198017]}\n"
     ]
    },
    {
     "name": "stderr",
     "output_type": "stream",
     "text": [
      "Train batch number 99: 100%|██████████| 99/99 [00:12<00:00,  7.78batches/s]\n",
      "Test batch number 13: 100%|██████████| 13/13 [00:03<00:00,  3.94batches/s]\n"
     ]
    },
    {
     "name": "stdout",
     "output_type": "stream",
     "text": [
      "\n",
      "Metrics: {'train_loss': 0.006330251663151865, 'test_loss': 2.030441540938157, 'bleu': 21.8816, 'gen_len': 9.8232}\n",
      "\n",
      "=============================\n",
      "\n"
     ]
    },
    {
     "name": "stderr",
     "output_type": "stream",
     "text": [
      "  1%|          | 4/344 [01:20<1:48:03, 19.07s/it]"
     ]
    },
    {
     "name": "stdout",
     "output_type": "stream",
     "text": [
      "For epoch 461: \n",
      "{Learning rate: [0.0012195217698821917]}\n"
     ]
    },
    {
     "name": "stderr",
     "output_type": "stream",
     "text": [
      "Train batch number 99: 100%|██████████| 99/99 [00:12<00:00,  7.71batches/s]\n",
      "Test batch number 13: 100%|██████████| 13/13 [00:03<00:00,  3.99batches/s]\n"
     ]
    },
    {
     "name": "stdout",
     "output_type": "stream",
     "text": [
      "\n",
      "Metrics: {'train_loss': 0.006555267512790078, 'test_loss': 2.0412678443468533, 'bleu': 21.6173, 'gen_len': 9.8485}\n",
      "\n",
      "=============================\n",
      "\n"
     ]
    },
    {
     "name": "stderr",
     "output_type": "stream",
     "text": [
      "  1%|▏         | 5/344 [01:38<1:45:25, 18.66s/it]"
     ]
    },
    {
     "name": "stdout",
     "output_type": "stream",
     "text": [
      "For epoch 462: \n",
      "{Learning rate: [0.0012138322656284838]}\n"
     ]
    },
    {
     "name": "stderr",
     "output_type": "stream",
     "text": [
      "Train batch number 99: 100%|██████████| 99/99 [00:12<00:00,  7.84batches/s]\n",
      "Test batch number 13: 100%|██████████| 13/13 [00:03<00:00,  3.95batches/s]\n"
     ]
    },
    {
     "name": "stdout",
     "output_type": "stream",
     "text": [
      "\n",
      "Metrics: {'train_loss': 0.006259319879660839, 'test_loss': 2.0460109343895545, 'bleu': 22.2291, 'gen_len': 9.7626}\n",
      "\n",
      "=============================\n",
      "\n"
     ]
    },
    {
     "name": "stderr",
     "output_type": "stream",
     "text": [
      "  2%|▏         | 6/344 [01:56<1:43:13, 18.32s/it]"
     ]
    },
    {
     "name": "stdout",
     "output_type": "stream",
     "text": [
      "For epoch 463: \n",
      "{Learning rate: [0.00120814714724649]}\n"
     ]
    },
    {
     "name": "stderr",
     "output_type": "stream",
     "text": [
      "Train batch number 99: 100%|██████████| 99/99 [00:12<00:00,  7.70batches/s]\n",
      "Test batch number 13: 100%|██████████| 13/13 [00:03<00:00,  4.06batches/s]\n"
     ]
    },
    {
     "name": "stdout",
     "output_type": "stream",
     "text": [
      "\n",
      "Metrics: {'train_loss': 0.006257276464961563, 'test_loss': 2.0487157106399536, 'bleu': 22.5471, 'gen_len': 9.7929}\n",
      "\n",
      "=============================\n",
      "\n"
     ]
    },
    {
     "name": "stderr",
     "output_type": "stream",
     "text": [
      "  2%|▏         | 7/344 [02:14<1:41:57, 18.15s/it]"
     ]
    },
    {
     "name": "stdout",
     "output_type": "stream",
     "text": [
      "For epoch 464: \n",
      "{Learning rate: [0.0012024664984594344]}\n"
     ]
    },
    {
     "name": "stderr",
     "output_type": "stream",
     "text": [
      "Train batch number 99: 100%|██████████| 99/99 [00:12<00:00,  7.84batches/s]\n",
      "Test batch number 13: 100%|██████████| 13/13 [00:03<00:00,  4.03batches/s]\n"
     ]
    },
    {
     "name": "stdout",
     "output_type": "stream",
     "text": [
      "\n",
      "Metrics: {'train_loss': 0.006328780227869918, 'test_loss': 2.0288866758346558, 'bleu': 22.349, 'gen_len': 9.899}\n",
      "\n",
      "=============================\n",
      "\n"
     ]
    },
    {
     "name": "stderr",
     "output_type": "stream",
     "text": [
      "  2%|▏         | 8/344 [02:31<1:40:45, 17.99s/it]"
     ]
    },
    {
     "name": "stdout",
     "output_type": "stream",
     "text": [
      "For epoch 465: \n",
      "{Learning rate: [0.0011967904029247197]}\n"
     ]
    },
    {
     "name": "stderr",
     "output_type": "stream",
     "text": [
      "Train batch number 99: 100%|██████████| 99/99 [00:12<00:00,  8.00batches/s]\n",
      "Test batch number 13: 100%|██████████| 13/13 [00:03<00:00,  4.15batches/s]\n"
     ]
    },
    {
     "name": "stdout",
     "output_type": "stream",
     "text": [
      "\n",
      "Metrics: {'train_loss': 0.0062118858384730465, 'test_loss': 2.0404546902729916, 'bleu': 22.29, 'gen_len': 9.8889}\n",
      "\n",
      "=============================\n",
      "\n"
     ]
    },
    {
     "name": "stderr",
     "output_type": "stream",
     "text": [
      "  3%|▎         | 9/344 [02:49<1:39:19, 17.79s/it]"
     ]
    },
    {
     "name": "stdout",
     "output_type": "stream",
     "text": [
      "For epoch 466: \n",
      "{Learning rate: [0.0011911189442326913]}\n"
     ]
    },
    {
     "name": "stderr",
     "output_type": "stream",
     "text": [
      "Train batch number 99: 100%|██████████| 99/99 [00:12<00:00,  7.93batches/s]\n",
      "Test batch number 13: 100%|██████████| 13/13 [00:03<00:00,  4.09batches/s]\n"
     ]
    },
    {
     "name": "stdout",
     "output_type": "stream",
     "text": [
      "\n",
      "Metrics: {'train_loss': 0.006202324552548522, 'test_loss': 2.045614636861361, 'bleu': 21.6672, 'gen_len': 9.9747}\n",
      "\n",
      "=============================\n",
      "\n"
     ]
    },
    {
     "name": "stderr",
     "output_type": "stream",
     "text": [
      "  3%|▎         | 10/344 [03:06<1:38:25, 17.68s/it]"
     ]
    },
    {
     "name": "stdout",
     "output_type": "stream",
     "text": [
      "For epoch 467: \n",
      "{Learning rate: [0.0011854522059054117]}\n"
     ]
    },
    {
     "name": "stderr",
     "output_type": "stream",
     "text": [
      "Train batch number 99: 100%|██████████| 99/99 [00:12<00:00,  7.82batches/s]\n",
      "Test batch number 13: 100%|██████████| 13/13 [00:03<00:00,  4.07batches/s]\n"
     ]
    },
    {
     "name": "stdout",
     "output_type": "stream",
     "text": [
      "\n",
      "Metrics: {'train_loss': 0.0064182366934461485, 'test_loss': 2.0488224763136644, 'bleu': 22.2502, 'gen_len': 9.8788}\n",
      "\n",
      "=============================\n",
      "\n"
     ]
    },
    {
     "name": "stderr",
     "output_type": "stream",
     "text": [
      "  3%|▎         | 11/344 [03:24<1:37:59, 17.66s/it]"
     ]
    },
    {
     "name": "stdout",
     "output_type": "stream",
     "text": [
      "For epoch 468: \n",
      "{Learning rate: [0.0011797902713954257]}\n"
     ]
    },
    {
     "name": "stderr",
     "output_type": "stream",
     "text": [
      "Train batch number 99: 100%|██████████| 99/99 [00:12<00:00,  7.91batches/s]\n",
      "Test batch number 13: 100%|██████████| 13/13 [00:03<00:00,  3.91batches/s]\n"
     ]
    },
    {
     "name": "stdout",
     "output_type": "stream",
     "text": [
      "\n",
      "Metrics: {'train_loss': 0.006022931161398924, 'test_loss': 2.0486658353071947, 'bleu': 21.6673, 'gen_len': 10.0}\n",
      "\n",
      "=============================\n",
      "\n"
     ]
    },
    {
     "name": "stderr",
     "output_type": "stream",
     "text": [
      "  3%|▎         | 12/344 [03:41<1:37:37, 17.64s/it]"
     ]
    },
    {
     "name": "stdout",
     "output_type": "stream",
     "text": [
      "For epoch 469: \n",
      "{Learning rate: [0.0011741332240845352]}\n"
     ]
    },
    {
     "name": "stderr",
     "output_type": "stream",
     "text": [
      "Train batch number 99: 100%|██████████| 99/99 [00:12<00:00,  7.98batches/s]\n",
      "Test batch number 13: 100%|██████████| 13/13 [00:03<00:00,  3.88batches/s]\n"
     ]
    },
    {
     "name": "stdout",
     "output_type": "stream",
     "text": [
      "\n",
      "Metrics: {'train_loss': 0.006170290014283223, 'test_loss': 2.0411560993928175, 'bleu': 21.0958, 'gen_len': 9.9747}\n",
      "\n",
      "=============================\n",
      "\n"
     ]
    },
    {
     "name": "stderr",
     "output_type": "stream",
     "text": [
      "  4%|▍         | 13/344 [03:59<1:37:09, 17.61s/it]"
     ]
    },
    {
     "name": "stdout",
     "output_type": "stream",
     "text": [
      "For epoch 470: \n",
      "{Learning rate: [0.0011684811472825692]}\n"
     ]
    },
    {
     "name": "stderr",
     "output_type": "stream",
     "text": [
      "Train batch number 99: 100%|██████████| 99/99 [00:12<00:00,  7.97batches/s]\n",
      "Test batch number 13: 100%|██████████| 13/13 [00:03<00:00,  4.10batches/s]\n"
     ]
    },
    {
     "name": "stdout",
     "output_type": "stream",
     "text": [
      "\n",
      "Metrics: {'train_loss': 0.006258114068939426, 'test_loss': 2.052906494874221, 'bleu': 21.3495, 'gen_len': 9.8182}\n",
      "\n",
      "=============================\n",
      "\n"
     ]
    },
    {
     "name": "stderr",
     "output_type": "stream",
     "text": [
      "  4%|▍         | 14/344 [04:16<1:36:32, 17.55s/it]"
     ]
    },
    {
     "name": "stdout",
     "output_type": "stream",
     "text": [
      "For epoch 471: \n",
      "{Learning rate: [0.0011628341242261569]}\n"
     ]
    },
    {
     "name": "stderr",
     "output_type": "stream",
     "text": [
      "Train batch number 99: 100%|██████████| 99/99 [00:12<00:00,  7.74batches/s]\n",
      "Test batch number 13: 100%|██████████| 13/13 [00:03<00:00,  4.09batches/s]\n"
     ]
    },
    {
     "name": "stdout",
     "output_type": "stream",
     "text": [
      "\n",
      "Metrics: {'train_loss': 0.006220217556645623, 'test_loss': 2.0402303475600023, 'bleu': 22.3183, 'gen_len': 9.7475}\n",
      "\n",
      "=============================\n",
      "\n"
     ]
    },
    {
     "name": "stderr",
     "output_type": "stream",
     "text": [
      "  4%|▍         | 15/344 [04:34<1:36:36, 17.62s/it]"
     ]
    },
    {
     "name": "stdout",
     "output_type": "stream",
     "text": [
      "For epoch 472: \n",
      "{Learning rate: [0.0011571922380775018]}\n"
     ]
    },
    {
     "name": "stderr",
     "output_type": "stream",
     "text": [
      "Train batch number 99: 100%|██████████| 99/99 [00:12<00:00,  7.75batches/s]\n",
      "Test batch number 13: 100%|██████████| 13/13 [00:03<00:00,  3.95batches/s]\n"
     ]
    },
    {
     "name": "stdout",
     "output_type": "stream",
     "text": [
      "\n",
      "Metrics: {'train_loss': 0.006148051666454506, 'test_loss': 2.049492542560284, 'bleu': 21.8089, 'gen_len': 9.798}\n",
      "\n",
      "=============================\n",
      "\n"
     ]
    },
    {
     "name": "stderr",
     "output_type": "stream",
     "text": [
      "  5%|▍         | 16/344 [04:52<1:37:05, 17.76s/it]"
     ]
    },
    {
     "name": "stdout",
     "output_type": "stream",
     "text": [
      "For epoch 473: \n",
      "{Learning rate: [0.0011515555719231597]}\n"
     ]
    },
    {
     "name": "stderr",
     "output_type": "stream",
     "text": [
      "Train batch number 99: 100%|██████████| 99/99 [00:12<00:00,  7.91batches/s]\n",
      "Test batch number 13: 100%|██████████| 13/13 [00:03<00:00,  3.88batches/s]\n"
     ]
    },
    {
     "name": "stdout",
     "output_type": "stream",
     "text": [
      "\n",
      "Metrics: {'train_loss': 0.006114459216313653, 'test_loss': 2.032099026900071, 'bleu': 22.092, 'gen_len': 9.798}\n",
      "\n",
      "=============================\n",
      "\n"
     ]
    },
    {
     "name": "stderr",
     "output_type": "stream",
     "text": [
      "  5%|▍         | 17/344 [05:10<1:36:36, 17.73s/it]"
     ]
    },
    {
     "name": "stdout",
     "output_type": "stream",
     "text": [
      "For epoch 474: \n",
      "{Learning rate: [0.0011459242087728102]}\n"
     ]
    },
    {
     "name": "stderr",
     "output_type": "stream",
     "text": [
      "Train batch number 99: 100%|██████████| 99/99 [00:12<00:00,  7.93batches/s]\n",
      "Test batch number 13: 100%|██████████| 13/13 [00:03<00:00,  4.03batches/s]\n"
     ]
    },
    {
     "name": "stdout",
     "output_type": "stream",
     "text": [
      "\n",
      "Metrics: {'train_loss': 0.006367650630177149, 'test_loss': 2.041711981479938, 'bleu': 22.0825, 'gen_len': 9.8333}\n",
      "\n",
      "=============================\n",
      "\n"
     ]
    },
    {
     "name": "stderr",
     "output_type": "stream",
     "text": [
      "  5%|▌         | 18/344 [05:27<1:35:55, 17.65s/it]"
     ]
    },
    {
     "name": "stdout",
     "output_type": "stream",
     "text": [
      "For epoch 475: \n",
      "{Learning rate: [0.0011402982315580395]}\n"
     ]
    },
    {
     "name": "stderr",
     "output_type": "stream",
     "text": [
      "Train batch number 99: 100%|██████████| 99/99 [00:12<00:00,  7.89batches/s]\n",
      "Test batch number 13: 100%|██████████| 13/13 [00:03<00:00,  3.91batches/s]\n"
     ]
    },
    {
     "name": "stdout",
     "output_type": "stream",
     "text": [
      "\n",
      "Metrics: {'train_loss': 0.006368402821027128, 'test_loss': 2.0378581835673404, 'bleu': 22.4307, 'gen_len': 9.9848}\n",
      "\n",
      "=============================\n",
      "\n"
     ]
    },
    {
     "name": "stderr",
     "output_type": "stream",
     "text": [
      "  6%|▌         | 19/344 [05:45<1:35:47, 17.69s/it]"
     ]
    },
    {
     "name": "stdout",
     "output_type": "stream",
     "text": [
      "For epoch 476: \n",
      "{Learning rate: [0.0011346777231311142]}\n"
     ]
    },
    {
     "name": "stderr",
     "output_type": "stream",
     "text": [
      "Train batch number 99: 100%|██████████| 99/99 [00:12<00:00,  7.97batches/s]\n",
      "Test batch number 13: 100%|██████████| 13/13 [00:03<00:00,  3.96batches/s]\n"
     ]
    },
    {
     "name": "stdout",
     "output_type": "stream",
     "text": [
      "\n",
      "Metrics: {'train_loss': 0.006222623274861506, 'test_loss': 2.0363944677206187, 'bleu': 22.3445, 'gen_len': 9.8586}\n",
      "\n",
      "=============================\n",
      "\n"
     ]
    },
    {
     "name": "stderr",
     "output_type": "stream",
     "text": [
      "  6%|▌         | 20/344 [06:02<1:35:11, 17.63s/it]"
     ]
    },
    {
     "name": "stdout",
     "output_type": "stream",
     "text": [
      "For epoch 477: \n",
      "{Learning rate: [0.0011290627662637657]}\n"
     ]
    },
    {
     "name": "stderr",
     "output_type": "stream",
     "text": [
      "Train batch number 99: 100%|██████████| 99/99 [00:12<00:00,  7.76batches/s]\n",
      "Test batch number 13: 100%|██████████| 13/13 [00:03<00:00,  4.08batches/s]\n"
     ]
    },
    {
     "name": "stdout",
     "output_type": "stream",
     "text": [
      "\n",
      "Metrics: {'train_loss': 0.006209458960890488, 'test_loss': 2.039757022490868, 'bleu': 22.2654, 'gen_len': 9.899}\n",
      "\n",
      "=============================\n",
      "\n"
     ]
    },
    {
     "name": "stderr",
     "output_type": "stream",
     "text": [
      "  6%|▌         | 21/344 [06:20<1:35:10, 17.68s/it]"
     ]
    },
    {
     "name": "stdout",
     "output_type": "stream",
     "text": [
      "For epoch 478: \n",
      "{Learning rate: [0.0011234534436459674]}\n"
     ]
    },
    {
     "name": "stderr",
     "output_type": "stream",
     "text": [
      "Train batch number 99: 100%|██████████| 99/99 [00:12<00:00,  7.95batches/s]\n",
      "Test batch number 13: 100%|██████████| 13/13 [00:03<00:00,  4.10batches/s]\n"
     ]
    },
    {
     "name": "stdout",
     "output_type": "stream",
     "text": [
      "\n",
      "Metrics: {'train_loss': 0.00612214756124145, 'test_loss': 2.0487528030688944, 'bleu': 22.1734, 'gen_len': 9.9192}\n",
      "\n",
      "=============================\n",
      "\n"
     ]
    },
    {
     "name": "stderr",
     "output_type": "stream",
     "text": [
      "  6%|▋         | 22/344 [06:38<1:34:30, 17.61s/it]"
     ]
    },
    {
     "name": "stdout",
     "output_type": "stream",
     "text": [
      "For epoch 479: \n",
      "{Learning rate: [0.0011178498378847195]}\n"
     ]
    },
    {
     "name": "stderr",
     "output_type": "stream",
     "text": [
      "Train batch number 99: 100%|██████████| 99/99 [00:12<00:00,  7.94batches/s]\n",
      "Test batch number 13: 100%|██████████| 13/13 [00:03<00:00,  4.11batches/s]\n"
     ]
    },
    {
     "name": "stdout",
     "output_type": "stream",
     "text": [
      "\n",
      "Metrics: {'train_loss': 0.006271653913309553, 'test_loss': 2.0450258255004883, 'bleu': 22.1081, 'gen_len': 9.9192}\n",
      "\n",
      "=============================\n",
      "\n"
     ]
    },
    {
     "name": "stderr",
     "output_type": "stream",
     "text": [
      "  7%|▋         | 23/344 [06:55<1:33:53, 17.55s/it]"
     ]
    },
    {
     "name": "stdout",
     "output_type": "stream",
     "text": [
      "For epoch 480: \n",
      "{Learning rate: [0.0011122520315028307]}\n"
     ]
    },
    {
     "name": "stderr",
     "output_type": "stream",
     "text": [
      "Train batch number 99: 100%|██████████| 99/99 [00:12<00:00,  7.96batches/s]\n",
      "Test batch number 13: 100%|██████████| 13/13 [00:03<00:00,  4.10batches/s]\n"
     ]
    },
    {
     "name": "stdout",
     "output_type": "stream",
     "text": [
      "\n",
      "Metrics: {'train_loss': 0.006138450350269035, 'test_loss': 2.0441655837572537, 'bleu': 21.9713, 'gen_len': 9.8232}\n",
      "\n",
      "=============================\n",
      "\n"
     ]
    },
    {
     "name": "stderr",
     "output_type": "stream",
     "text": [
      "  7%|▋         | 24/344 [07:12<1:33:16, 17.49s/it]"
     ]
    },
    {
     "name": "stdout",
     "output_type": "stream",
     "text": [
      "For epoch 481: \n",
      "{Learning rate: [0.0011066601069377058]}\n"
     ]
    },
    {
     "name": "stderr",
     "output_type": "stream",
     "text": [
      "Train batch number 99: 100%|██████████| 99/99 [00:12<00:00,  7.86batches/s]\n",
      "Test batch number 13: 100%|██████████| 13/13 [00:03<00:00,  3.90batches/s]\n"
     ]
    },
    {
     "name": "stdout",
     "output_type": "stream",
     "text": [
      "\n",
      "Metrics: {'train_loss': 0.0060815757450370135, 'test_loss': 2.0444729878352237, 'bleu': 22.0425, 'gen_len': 9.8687}\n",
      "\n",
      "=============================\n",
      "\n"
     ]
    },
    {
     "name": "stderr",
     "output_type": "stream",
     "text": [
      "  7%|▋         | 25/344 [07:30<1:33:19, 17.55s/it]"
     ]
    },
    {
     "name": "stdout",
     "output_type": "stream",
     "text": [
      "For epoch 482: \n",
      "{Learning rate: [0.0011010741465401269]}\n"
     ]
    },
    {
     "name": "stderr",
     "output_type": "stream",
     "text": [
      "Train batch number 99: 100%|██████████| 99/99 [00:12<00:00,  8.00batches/s]\n",
      "Test batch number 13: 100%|██████████| 13/13 [00:03<00:00,  4.11batches/s]\n"
     ]
    },
    {
     "name": "stdout",
     "output_type": "stream",
     "text": [
      "\n",
      "Metrics: {'train_loss': 0.006042480323818804, 'test_loss': 2.0429720970300527, 'bleu': 21.5781, 'gen_len': 9.9242}\n",
      "\n",
      "=============================\n",
      "\n"
     ]
    },
    {
     "name": "stderr",
     "output_type": "stream",
     "text": [
      "  8%|▊         | 26/344 [07:47<1:32:37, 17.48s/it]"
     ]
    },
    {
     "name": "stdout",
     "output_type": "stream",
     "text": [
      "For epoch 483: \n",
      "{Learning rate: [0.0010954942325730457]}\n"
     ]
    },
    {
     "name": "stderr",
     "output_type": "stream",
     "text": [
      "Train batch number 99: 100%|██████████| 99/99 [00:12<00:00,  7.94batches/s]\n",
      "Test batch number 13: 100%|██████████| 13/13 [00:03<00:00,  4.11batches/s]\n"
     ]
    },
    {
     "name": "stdout",
     "output_type": "stream",
     "text": [
      "\n",
      "Metrics: {'train_loss': 0.005959318954594001, 'test_loss': 2.044534206390381, 'bleu': 22.5711, 'gen_len': 9.8182}\n",
      "\n",
      "=============================\n",
      "\n"
     ]
    },
    {
     "name": "stderr",
     "output_type": "stream",
     "text": [
      "  8%|▊         | 27/344 [08:05<1:32:15, 17.46s/it]"
     ]
    },
    {
     "name": "stdout",
     "output_type": "stream",
     "text": [
      "For epoch 484: \n",
      "{Learning rate: [0.0010899204472103678]}\n"
     ]
    },
    {
     "name": "stderr",
     "output_type": "stream",
     "text": [
      "Train batch number 99: 100%|██████████| 99/99 [00:12<00:00,  7.96batches/s]\n",
      "Test batch number 13: 100%|██████████| 13/13 [00:03<00:00,  4.08batches/s]\n"
     ]
    },
    {
     "name": "stdout",
     "output_type": "stream",
     "text": [
      "\n",
      "Metrics: {'train_loss': 0.006119968820271562, 'test_loss': 2.0503713534428525, 'bleu': 21.8645, 'gen_len': 9.8788}\n",
      "\n",
      "=============================\n",
      "\n"
     ]
    },
    {
     "name": "stderr",
     "output_type": "stream",
     "text": [
      "  8%|▊         | 28/344 [08:22<1:31:49, 17.43s/it]"
     ]
    },
    {
     "name": "stdout",
     "output_type": "stream",
     "text": [
      "For epoch 485: \n",
      "{Learning rate: [0.0010843528725357461]}\n"
     ]
    },
    {
     "name": "stderr",
     "output_type": "stream",
     "text": [
      "Train batch number 99: 100%|██████████| 99/99 [00:12<00:00,  7.85batches/s]\n",
      "Test batch number 13: 100%|██████████| 13/13 [00:03<00:00,  3.95batches/s]\n"
     ]
    },
    {
     "name": "stdout",
     "output_type": "stream",
     "text": [
      "\n",
      "Metrics: {'train_loss': 0.0062171765006349584, 'test_loss': 2.044382691383362, 'bleu': 21.6032, 'gen_len': 9.8485}\n",
      "\n",
      "=============================\n",
      "\n"
     ]
    },
    {
     "name": "stderr",
     "output_type": "stream",
     "text": [
      "  8%|▊         | 29/344 [08:40<1:31:58, 17.52s/it]"
     ]
    },
    {
     "name": "stdout",
     "output_type": "stream",
     "text": [
      "For epoch 486: \n",
      "{Learning rate: [0.0010787915905413703]}\n"
     ]
    },
    {
     "name": "stderr",
     "output_type": "stream",
     "text": [
      "Train batch number 99: 100%|██████████| 99/99 [00:12<00:00,  7.98batches/s]\n",
      "Test batch number 13: 100%|██████████| 13/13 [00:03<00:00,  3.89batches/s]\n"
     ]
    },
    {
     "name": "stdout",
     "output_type": "stream",
     "text": [
      "\n",
      "Metrics: {'train_loss': 0.00602147547805075, 'test_loss': 2.0477363604765673, 'bleu': 21.2392, 'gen_len': 9.8434}\n",
      "\n",
      "=============================\n",
      "\n"
     ]
    },
    {
     "name": "stderr",
     "output_type": "stream",
     "text": [
      "  9%|▊         | 30/344 [08:58<1:31:42, 17.52s/it]"
     ]
    },
    {
     "name": "stdout",
     "output_type": "stream",
     "text": [
      "For epoch 487: \n",
      "{Learning rate: [0.0010732366831267574]}\n"
     ]
    },
    {
     "name": "stderr",
     "output_type": "stream",
     "text": [
      "Train batch number 99: 100%|██████████| 99/99 [00:12<00:00,  8.01batches/s]\n",
      "Test batch number 13: 100%|██████████| 13/13 [00:03<00:00,  4.07batches/s]\n"
     ]
    },
    {
     "name": "stdout",
     "output_type": "stream",
     "text": [
      "\n",
      "Metrics: {'train_loss': 0.00608169911764421, 'test_loss': 2.036362097813533, 'bleu': 21.2975, 'gen_len': 9.9293}\n",
      "\n",
      "=============================\n",
      "\n"
     ]
    },
    {
     "name": "stderr",
     "output_type": "stream",
     "text": [
      "  9%|▉         | 31/344 [09:15<1:31:08, 17.47s/it]"
     ]
    },
    {
     "name": "stdout",
     "output_type": "stream",
     "text": [
      "For epoch 488: \n",
      "{Learning rate: [0.00106768823209755]}\n"
     ]
    },
    {
     "name": "stderr",
     "output_type": "stream",
     "text": [
      "Train batch number 99: 100%|██████████| 99/99 [00:12<00:00,  7.98batches/s]\n",
      "Test batch number 13: 100%|██████████| 13/13 [00:03<00:00,  3.87batches/s]\n"
     ]
    },
    {
     "name": "stdout",
     "output_type": "stream",
     "text": [
      "\n",
      "Metrics: {'train_loss': 0.006106909662849655, 'test_loss': 2.0411463425709653, 'bleu': 22.0818, 'gen_len': 9.9091}\n",
      "\n",
      "=============================\n",
      "\n"
     ]
    },
    {
     "name": "stderr",
     "output_type": "stream",
     "text": [
      "  9%|▉         | 32/344 [09:32<1:31:05, 17.52s/it]"
     ]
    },
    {
     "name": "stdout",
     "output_type": "stream",
     "text": [
      "For epoch 489: \n",
      "{Learning rate: [0.001062146319164309]}\n"
     ]
    },
    {
     "name": "stderr",
     "output_type": "stream",
     "text": [
      "Train batch number 99: 100%|██████████| 99/99 [00:12<00:00,  7.87batches/s]\n",
      "Test batch number 13: 100%|██████████| 13/13 [00:03<00:00,  4.06batches/s]\n"
     ]
    },
    {
     "name": "stdout",
     "output_type": "stream",
     "text": [
      "\n",
      "Metrics: {'train_loss': 0.0059687476399392266, 'test_loss': 2.045469504136306, 'bleu': 22.1668, 'gen_len': 9.9091}\n",
      "\n",
      "=============================\n",
      "\n"
     ]
    },
    {
     "name": "stderr",
     "output_type": "stream",
     "text": [
      " 10%|▉         | 33/344 [09:50<1:30:51, 17.53s/it]"
     ]
    },
    {
     "name": "stdout",
     "output_type": "stream",
     "text": [
      "For epoch 490: \n",
      "{Learning rate: [0.0010566110259413084]}\n"
     ]
    },
    {
     "name": "stderr",
     "output_type": "stream",
     "text": [
      "Train batch number 99: 100%|██████████| 99/99 [00:12<00:00,  7.93batches/s]\n",
      "Test batch number 13: 100%|██████████| 13/13 [00:03<00:00,  4.01batches/s]\n"
     ]
    },
    {
     "name": "stdout",
     "output_type": "stream",
     "text": [
      "\n",
      "Metrics: {'train_loss': 0.006086314838459584, 'test_loss': 2.041955773647015, 'bleu': 21.5231, 'gen_len': 9.9242}\n",
      "\n",
      "=============================\n",
      "\n"
     ]
    },
    {
     "name": "stderr",
     "output_type": "stream",
     "text": [
      " 10%|▉         | 34/344 [10:08<1:30:32, 17.52s/it]"
     ]
    },
    {
     "name": "stdout",
     "output_type": "stream",
     "text": [
      "For epoch 491: \n",
      "{Learning rate: [0.0010510824339453387]}\n"
     ]
    },
    {
     "name": "stderr",
     "output_type": "stream",
     "text": [
      "Train batch number 99: 100%|██████████| 99/99 [00:12<00:00,  7.90batches/s]\n",
      "Test batch number 13: 100%|██████████| 13/13 [00:03<00:00,  4.06batches/s]\n"
     ]
    },
    {
     "name": "stdout",
     "output_type": "stream",
     "text": [
      "\n",
      "Metrics: {'train_loss': 0.006076445463501538, 'test_loss': 2.038191190132728, 'bleu': 22.2959, 'gen_len': 9.9091}\n",
      "\n",
      "=============================\n",
      "\n"
     ]
    },
    {
     "name": "stderr",
     "output_type": "stream",
     "text": [
      " 10%|█         | 35/344 [10:25<1:30:14, 17.52s/it]"
     ]
    },
    {
     "name": "stdout",
     "output_type": "stream",
     "text": [
      "For epoch 492: \n",
      "{Learning rate: [0.0010455606245945]}\n"
     ]
    },
    {
     "name": "stderr",
     "output_type": "stream",
     "text": [
      "Train batch number 99: 100%|██████████| 99/99 [00:12<00:00,  7.87batches/s]\n",
      "Test batch number 13: 100%|██████████| 13/13 [00:03<00:00,  4.07batches/s]\n"
     ]
    },
    {
     "name": "stdout",
     "output_type": "stream",
     "text": [
      "\n",
      "Metrics: {'train_loss': 0.006002577485027488, 'test_loss': 2.0338356494903564, 'bleu': 22.4522, 'gen_len': 10.0859}\n",
      "\n",
      "=============================\n",
      "\n"
     ]
    },
    {
     "name": "stderr",
     "output_type": "stream",
     "text": [
      " 10%|█         | 36/344 [10:43<1:30:05, 17.55s/it]"
     ]
    },
    {
     "name": "stdout",
     "output_type": "stream",
     "text": [
      "For epoch 493: \n",
      "{Learning rate: [0.0010400456792070082]}\n"
     ]
    },
    {
     "name": "stderr",
     "output_type": "stream",
     "text": [
      "Train batch number 99: 100%|██████████| 99/99 [00:12<00:00,  7.84batches/s]\n",
      "Test batch number 13: 100%|██████████| 13/13 [00:03<00:00,  4.09batches/s]\n"
     ]
    },
    {
     "name": "stdout",
     "output_type": "stream",
     "text": [
      "\n",
      "Metrics: {'train_loss': 0.006141384795861968, 'test_loss': 2.0399641807262716, 'bleu': 22.7504, 'gen_len': 9.9798}\n",
      "\n",
      "=============================\n",
      "\n"
     ]
    },
    {
     "name": "stderr",
     "output_type": "stream",
     "text": [
      " 11%|█         | 37/344 [11:00<1:30:01, 17.60s/it]"
     ]
    },
    {
     "name": "stdout",
     "output_type": "stream",
     "text": [
      "For epoch 494: \n",
      "{Learning rate: [0.0010345376789999954]}\n"
     ]
    },
    {
     "name": "stderr",
     "output_type": "stream",
     "text": [
      "Train batch number 99: 100%|██████████| 99/99 [00:12<00:00,  7.88batches/s]\n",
      "Test batch number 13: 100%|██████████| 13/13 [00:03<00:00,  4.06batches/s]\n"
     ]
    },
    {
     "name": "stdout",
     "output_type": "stream",
     "text": [
      "\n",
      "Metrics: {'train_loss': 0.006089996536658616, 'test_loss': 2.0396326780319214, 'bleu': 22.4043, 'gen_len': 10.0051}\n",
      "\n",
      "=============================\n",
      "\n"
     ]
    },
    {
     "name": "stderr",
     "output_type": "stream",
     "text": [
      " 11%|█         | 38/344 [11:18<1:29:36, 17.57s/it]"
     ]
    },
    {
     "name": "stdout",
     "output_type": "stream",
     "text": [
      "For epoch 495: \n",
      "{Learning rate: [0.0010290367050883123]}\n"
     ]
    },
    {
     "name": "stderr",
     "output_type": "stream",
     "text": [
      "Train batch number 99: 100%|██████████| 99/99 [00:12<00:00,  7.78batches/s]\n",
      "Test batch number 13: 100%|██████████| 13/13 [00:03<00:00,  4.07batches/s]\n"
     ]
    },
    {
     "name": "stdout",
     "output_type": "stream",
     "text": [
      "\n",
      "Metrics: {'train_loss': 0.006089095234464633, 'test_loss': 2.044818951533391, 'bleu': 22.1389, 'gen_len': 10.0505}\n",
      "\n",
      "=============================\n",
      "\n"
     ]
    },
    {
     "name": "stderr",
     "output_type": "stream",
     "text": [
      " 11%|█▏        | 39/344 [11:36<1:29:32, 17.61s/it]"
     ]
    },
    {
     "name": "stdout",
     "output_type": "stream",
     "text": [
      "For epoch 496: \n",
      "{Learning rate: [0.0010235428384833371]}\n"
     ]
    },
    {
     "name": "stderr",
     "output_type": "stream",
     "text": [
      "Train batch number 99: 100%|██████████| 99/99 [00:12<00:00,  7.97batches/s]\n",
      "Test batch number 13: 100%|██████████| 13/13 [00:03<00:00,  4.03batches/s]\n"
     ]
    },
    {
     "name": "stdout",
     "output_type": "stream",
     "text": [
      "\n",
      "Metrics: {'train_loss': 0.0060099676438675476, 'test_loss': 2.048639884361854, 'bleu': 21.4874, 'gen_len': 10.0556}\n",
      "\n",
      "=============================\n",
      "\n"
     ]
    },
    {
     "name": "stderr",
     "output_type": "stream",
     "text": [
      " 12%|█▏        | 40/344 [11:53<1:28:59, 17.57s/it]"
     ]
    },
    {
     "name": "stdout",
     "output_type": "stream",
     "text": [
      "For epoch 497: \n",
      "{Learning rate: [0.0010180561600917804]}\n"
     ]
    },
    {
     "name": "stderr",
     "output_type": "stream",
     "text": [
      "Train batch number 99: 100%|██████████| 99/99 [00:12<00:00,  7.86batches/s]\n",
      "Test batch number 13: 100%|██████████| 13/13 [00:03<00:00,  4.01batches/s]\n"
     ]
    },
    {
     "name": "stdout",
     "output_type": "stream",
     "text": [
      "\n",
      "Metrics: {'train_loss': 0.005997018402646945, 'test_loss': 2.053019276032081, 'bleu': 21.6841, 'gen_len': 9.9444}\n",
      "\n",
      "=============================\n",
      "\n"
     ]
    },
    {
     "name": "stderr",
     "output_type": "stream",
     "text": [
      " 12%|█▏        | 41/344 [12:11<1:28:43, 17.57s/it]"
     ]
    },
    {
     "name": "stdout",
     "output_type": "stream",
     "text": [
      "For epoch 498: \n",
      "{Learning rate: [0.0010125767507144921]}\n"
     ]
    },
    {
     "name": "stderr",
     "output_type": "stream",
     "text": [
      "Train batch number 99: 100%|██████████| 99/99 [00:12<00:00,  7.88batches/s]\n",
      "Test batch number 13: 100%|██████████| 13/13 [00:03<00:00,  4.05batches/s]\n"
     ]
    },
    {
     "name": "stdout",
     "output_type": "stream",
     "text": [
      "\n",
      "Metrics: {'train_loss': 0.006104774624661947, 'test_loss': 2.036577527339642, 'bleu': 22.087, 'gen_len': 9.9798}\n",
      "\n",
      "=============================\n",
      "\n"
     ]
    },
    {
     "name": "stderr",
     "output_type": "stream",
     "text": [
      " 12%|█▏        | 42/344 [12:28<1:28:22, 17.56s/it]"
     ]
    },
    {
     "name": "stdout",
     "output_type": "stream",
     "text": [
      "For epoch 499: \n",
      "{Learning rate: [0.0010071046910452748]}\n"
     ]
    },
    {
     "name": "stderr",
     "output_type": "stream",
     "text": [
      "Train batch number 99: 100%|██████████| 99/99 [00:12<00:00,  7.81batches/s]\n",
      "Test batch number 13: 100%|██████████| 13/13 [00:03<00:00,  4.03batches/s]\n"
     ]
    },
    {
     "name": "stdout",
     "output_type": "stream",
     "text": [
      "\n",
      "Metrics: {'train_loss': 0.005920079131340232, 'test_loss': 2.050115869595454, 'bleu': 21.7346, 'gen_len': 9.8283}\n",
      "\n",
      "=============================\n",
      "\n"
     ]
    },
    {
     "name": "stderr",
     "output_type": "stream",
     "text": [
      " 12%|█▎        | 43/344 [12:46<1:28:26, 17.63s/it]"
     ]
    },
    {
     "name": "stdout",
     "output_type": "stream",
     "text": [
      "For epoch 500: \n",
      "{Learning rate: [0.001001640061669694]}\n"
     ]
    },
    {
     "name": "stderr",
     "output_type": "stream",
     "text": [
      "Train batch number 99: 100%|██████████| 99/99 [00:12<00:00,  7.89batches/s]\n",
      "Test batch number 13: 100%|██████████| 13/13 [00:03<00:00,  4.08batches/s]\n"
     ]
    },
    {
     "name": "stdout",
     "output_type": "stream",
     "text": [
      "\n",
      "Metrics: {'train_loss': 0.006247128282804183, 'test_loss': 2.049167825625493, 'bleu': 22.0327, 'gen_len': 9.798}\n",
      "\n",
      "=============================\n",
      "\n"
     ]
    },
    {
     "name": "stderr",
     "output_type": "stream",
     "text": [
      " 13%|█▎        | 44/344 [13:04<1:28:04, 17.62s/it]"
     ]
    },
    {
     "name": "stdout",
     "output_type": "stream",
     "text": [
      "For epoch 501: \n",
      "{Learning rate: [0.00099618294306389]}\n"
     ]
    },
    {
     "name": "stderr",
     "output_type": "stream",
     "text": [
      "Train batch number 99: 100%|██████████| 99/99 [00:12<00:00,  7.82batches/s]\n",
      "Test batch number 13: 100%|██████████| 13/13 [00:03<00:00,  4.04batches/s]\n"
     ]
    },
    {
     "name": "stdout",
     "output_type": "stream",
     "text": [
      "\n",
      "Metrics: {'train_loss': 0.006081591470659748, 'test_loss': 2.036788894579961, 'bleu': 21.8919, 'gen_len': 9.7626}\n",
      "\n",
      "=============================\n",
      "\n"
     ]
    },
    {
     "name": "stderr",
     "output_type": "stream",
     "text": [
      " 13%|█▎        | 45/344 [13:21<1:28:09, 17.69s/it]"
     ]
    },
    {
     "name": "stdout",
     "output_type": "stream",
     "text": [
      "For epoch 502: \n",
      "{Learning rate: [0.000990733415593396]}\n"
     ]
    },
    {
     "name": "stderr",
     "output_type": "stream",
     "text": [
      "Train batch number 99: 100%|██████████| 99/99 [00:12<00:00,  7.89batches/s]\n",
      "Test batch number 13: 100%|██████████| 13/13 [00:03<00:00,  4.06batches/s]\n"
     ]
    },
    {
     "name": "stdout",
     "output_type": "stream",
     "text": [
      "\n",
      "Metrics: {'train_loss': 0.006137400217627109, 'test_loss': 2.042207506986765, 'bleu': 22.0607, 'gen_len': 9.6869}\n",
      "\n",
      "=============================\n",
      "\n"
     ]
    },
    {
     "name": "stderr",
     "output_type": "stream",
     "text": [
      " 13%|█▎        | 46/344 [13:39<1:27:36, 17.64s/it]"
     ]
    },
    {
     "name": "stdout",
     "output_type": "stream",
     "text": [
      "For epoch 503: \n",
      "{Learning rate: [0.0009852915595119501]}\n"
     ]
    },
    {
     "name": "stderr",
     "output_type": "stream",
     "text": [
      "Train batch number 99: 100%|██████████| 99/99 [00:12<00:00,  7.96batches/s]\n",
      "Test batch number 13: 100%|██████████| 13/13 [00:03<00:00,  4.07batches/s]\n"
     ]
    },
    {
     "name": "stdout",
     "output_type": "stream",
     "text": [
      "\n",
      "Metrics: {'train_loss': 0.006108033359979721, 'test_loss': 2.041413325529832, 'bleu': 22.2472, 'gen_len': 9.8131}\n",
      "\n",
      "=============================\n",
      "\n"
     ]
    },
    {
     "name": "stderr",
     "output_type": "stream",
     "text": [
      " 14%|█▎        | 47/344 [13:56<1:26:55, 17.56s/it]"
     ]
    },
    {
     "name": "stdout",
     "output_type": "stream",
     "text": [
      "For epoch 504: \n",
      "{Learning rate: [0.000979857454960318]}\n"
     ]
    },
    {
     "name": "stderr",
     "output_type": "stream",
     "text": [
      "Train batch number 99: 100%|██████████| 99/99 [00:12<00:00,  7.96batches/s]\n",
      "Test batch number 13: 100%|██████████| 13/13 [00:03<00:00,  3.85batches/s]\n"
     ]
    },
    {
     "name": "stdout",
     "output_type": "stream",
     "text": [
      "\n",
      "Metrics: {'train_loss': 0.006043672219308027, 'test_loss': 2.0462161852763248, 'bleu': 21.056, 'gen_len': 9.7475}\n",
      "\n",
      "=============================\n",
      "\n"
     ]
    },
    {
     "name": "stderr",
     "output_type": "stream",
     "text": [
      " 14%|█▍        | 48/344 [14:14<1:26:42, 17.58s/it]"
     ]
    },
    {
     "name": "stdout",
     "output_type": "stream",
     "text": [
      "For epoch 505: \n",
      "{Learning rate: [0.0009744311819651102]}\n"
     ]
    },
    {
     "name": "stderr",
     "output_type": "stream",
     "text": [
      "Train batch number 99: 100%|██████████| 99/99 [00:12<00:00,  7.95batches/s]\n",
      "Test batch number 13: 100%|██████████| 13/13 [00:03<00:00,  3.92batches/s]\n"
     ]
    },
    {
     "name": "stdout",
     "output_type": "stream",
     "text": [
      "\n",
      "Metrics: {'train_loss': 0.006023700335215909, 'test_loss': 2.044133562308091, 'bleu': 21.7522, 'gen_len': 9.7929}\n",
      "\n",
      "=============================\n",
      "\n"
     ]
    },
    {
     "name": "stderr",
     "output_type": "stream",
     "text": [
      " 14%|█▍        | 49/344 [14:32<1:26:27, 17.58s/it]"
     ]
    },
    {
     "name": "stdout",
     "output_type": "stream",
     "text": [
      "For epoch 506: \n",
      "{Learning rate: [0.0009690128204376025]}\n"
     ]
    },
    {
     "name": "stderr",
     "output_type": "stream",
     "text": [
      "Train batch number 99: 100%|██████████| 99/99 [00:12<00:00,  8.02batches/s]\n",
      "Test batch number 13: 100%|██████████| 13/13 [00:03<00:00,  4.06batches/s]\n"
     ]
    },
    {
     "name": "stdout",
     "output_type": "stream",
     "text": [
      "\n",
      "Metrics: {'train_loss': 0.005930032280645324, 'test_loss': 2.0419507026672363, 'bleu': 21.67, 'gen_len': 9.7727}\n",
      "\n",
      "=============================\n",
      "\n"
     ]
    },
    {
     "name": "stderr",
     "output_type": "stream",
     "text": [
      " 15%|█▍        | 50/344 [14:49<1:25:49, 17.51s/it]"
     ]
    },
    {
     "name": "stdout",
     "output_type": "stream",
     "text": [
      "For epoch 507: \n",
      "{Learning rate: [0.0009636024501725628]}\n"
     ]
    },
    {
     "name": "stderr",
     "output_type": "stream",
     "text": [
      "Train batch number 99: 100%|██████████| 99/99 [00:12<00:00,  7.78batches/s]\n",
      "Test batch number 13: 100%|██████████| 13/13 [00:03<00:00,  4.06batches/s]\n"
     ]
    },
    {
     "name": "stdout",
     "output_type": "stream",
     "text": [
      "\n",
      "Metrics: {'train_loss': 0.005963656278603447, 'test_loss': 2.0589934587478638, 'bleu': 21.7563, 'gen_len': 9.7273}\n",
      "\n",
      "=============================\n",
      "\n"
     ]
    },
    {
     "name": "stderr",
     "output_type": "stream",
     "text": [
      " 15%|█▍        | 51/344 [15:07<1:25:56, 17.60s/it]"
     ]
    },
    {
     "name": "stdout",
     "output_type": "stream",
     "text": [
      "For epoch 508: \n",
      "{Learning rate: [0.0009582001508470716]}\n"
     ]
    },
    {
     "name": "stderr",
     "output_type": "stream",
     "text": [
      "Train batch number 99: 100%|██████████| 99/99 [00:12<00:00,  7.81batches/s]\n",
      "Test batch number 13: 100%|██████████| 13/13 [00:03<00:00,  3.88batches/s]\n"
     ]
    },
    {
     "name": "stdout",
     "output_type": "stream",
     "text": [
      "\n",
      "Metrics: {'train_loss': 0.005883166498141222, 'test_loss': 2.0400273708196788, 'bleu': 21.4598, 'gen_len': 9.9697}\n",
      "\n",
      "=============================\n",
      "\n"
     ]
    },
    {
     "name": "stderr",
     "output_type": "stream",
     "text": [
      " 15%|█▌        | 52/344 [15:25<1:26:05, 17.69s/it]"
     ]
    },
    {
     "name": "stdout",
     "output_type": "stream",
     "text": [
      "For epoch 509: \n",
      "{Learning rate: [0.0009528060020193527]}\n"
     ]
    },
    {
     "name": "stderr",
     "output_type": "stream",
     "text": [
      "Train batch number 99: 100%|██████████| 99/99 [00:12<00:00,  7.94batches/s]\n",
      "Test batch number 13: 100%|██████████| 13/13 [00:03<00:00,  4.01batches/s]\n"
     ]
    },
    {
     "name": "stdout",
     "output_type": "stream",
     "text": [
      "\n",
      "Metrics: {'train_loss': 0.005965294216164491, 'test_loss': 2.0454074969658484, 'bleu': 21.628, 'gen_len': 9.8283}\n",
      "\n",
      "=============================\n",
      "\n"
     ]
    },
    {
     "name": "stderr",
     "output_type": "stream",
     "text": [
      " 15%|█▌        | 53/344 [15:42<1:25:28, 17.62s/it]"
     ]
    },
    {
     "name": "stdout",
     "output_type": "stream",
     "text": [
      "For epoch 510: \n",
      "{Learning rate: [0.0009474200831275993]}\n"
     ]
    },
    {
     "name": "stderr",
     "output_type": "stream",
     "text": [
      "Train batch number 99: 100%|██████████| 99/99 [00:12<00:00,  7.83batches/s]\n",
      "Test batch number 13: 100%|██████████| 13/13 [00:03<00:00,  3.93batches/s]\n"
     ]
    },
    {
     "name": "stdout",
     "output_type": "stream",
     "text": [
      "\n",
      "Metrics: {'train_loss': 0.006143437052907591, 'test_loss': 2.0443155490435085, 'bleu': 22.2079, 'gen_len': 9.7525}\n",
      "\n",
      "=============================\n",
      "\n"
     ]
    },
    {
     "name": "stderr",
     "output_type": "stream",
     "text": [
      " 16%|█▌        | 54/344 [16:00<1:25:25, 17.67s/it]"
     ]
    },
    {
     "name": "stdout",
     "output_type": "stream",
     "text": [
      "For epoch 511: \n",
      "{Learning rate: [0.0009420424734888034]}\n"
     ]
    },
    {
     "name": "stderr",
     "output_type": "stream",
     "text": [
      "Train batch number 99: 100%|██████████| 99/99 [00:12<00:00,  7.88batches/s]\n",
      "Test batch number 13: 100%|██████████| 13/13 [00:03<00:00,  4.04batches/s]\n"
     ]
    },
    {
     "name": "stdout",
     "output_type": "stream",
     "text": [
      "\n",
      "Metrics: {'train_loss': 0.005939248535809145, 'test_loss': 2.0468738354169407, 'bleu': 21.9047, 'gen_len': 9.7323}\n",
      "\n",
      "=============================\n",
      "\n"
     ]
    },
    {
     "name": "stderr",
     "output_type": "stream",
     "text": [
      " 16%|█▌        | 55/344 [16:17<1:24:58, 17.64s/it]"
     ]
    },
    {
     "name": "stdout",
     "output_type": "stream",
     "text": [
      "For epoch 512: \n",
      "{Learning rate: [0.0009366732522975903]}\n"
     ]
    },
    {
     "name": "stderr",
     "output_type": "stream",
     "text": [
      "Train batch number 99: 100%|██████████| 99/99 [00:12<00:00,  7.98batches/s]\n",
      "Test batch number 13: 100%|██████████| 13/13 [00:03<00:00,  4.02batches/s]\n"
     ]
    },
    {
     "name": "stdout",
     "output_type": "stream",
     "text": [
      "\n",
      "Metrics: {'train_loss': 0.006092090312302738, 'test_loss': 2.042942973283621, 'bleu': 21.7706, 'gen_len': 9.8535}\n",
      "\n",
      "=============================\n",
      "\n"
     ]
    },
    {
     "name": "stderr",
     "output_type": "stream",
     "text": [
      " 16%|█▋        | 56/344 [16:35<1:24:25, 17.59s/it]"
     ]
    },
    {
     "name": "stdout",
     "output_type": "stream",
     "text": [
      "For epoch 513: \n",
      "{Learning rate: [0.0009313124986250498]}\n"
     ]
    },
    {
     "name": "stderr",
     "output_type": "stream",
     "text": [
      "Train batch number 99: 100%|██████████| 99/99 [00:12<00:00,  7.94batches/s]\n",
      "Test batch number 13: 100%|██████████| 13/13 [00:03<00:00,  4.02batches/s]\n"
     ]
    },
    {
     "name": "stdout",
     "output_type": "stream",
     "text": [
      "\n",
      "Metrics: {'train_loss': 0.006011514590948472, 'test_loss': 2.046322299883916, 'bleu': 21.8517, 'gen_len': 9.7778}\n",
      "\n",
      "=============================\n",
      "\n"
     ]
    },
    {
     "name": "stderr",
     "output_type": "stream",
     "text": [
      " 17%|█▋        | 57/344 [16:52<1:23:53, 17.54s/it]"
     ]
    },
    {
     "name": "stdout",
     "output_type": "stream",
     "text": [
      "For epoch 514: \n",
      "{Learning rate: [0.0009259602914175733]}\n"
     ]
    },
    {
     "name": "stderr",
     "output_type": "stream",
     "text": [
      "Train batch number 99: 100%|██████████| 99/99 [00:12<00:00,  7.99batches/s]\n",
      "Test batch number 13: 100%|██████████| 13/13 [00:03<00:00,  4.08batches/s]\n"
     ]
    },
    {
     "name": "stdout",
     "output_type": "stream",
     "text": [
      "\n",
      "Metrics: {'train_loss': 0.005960331598856496, 'test_loss': 2.049695638509897, 'bleu': 21.1395, 'gen_len': 9.8788}\n",
      "\n",
      "=============================\n",
      "\n"
     ]
    },
    {
     "name": "stderr",
     "output_type": "stream",
     "text": [
      " 17%|█▋        | 58/344 [17:10<1:23:20, 17.48s/it]"
     ]
    },
    {
     "name": "stdout",
     "output_type": "stream",
     "text": [
      "For epoch 515: \n",
      "{Learning rate: [0.0009206167094956905]}\n"
     ]
    },
    {
     "name": "stderr",
     "output_type": "stream",
     "text": [
      "Train batch number 99: 100%|██████████| 99/99 [00:12<00:00,  7.74batches/s]\n",
      "Test batch number 13: 100%|██████████| 13/13 [00:03<00:00,  3.87batches/s]\n"
     ]
    },
    {
     "name": "stdout",
     "output_type": "stream",
     "text": [
      "\n",
      "Metrics: {'train_loss': 0.005948551814145328, 'test_loss': 2.05658142383282, 'bleu': 20.7077, 'gen_len': 9.8182}\n",
      "\n",
      "=============================\n",
      "\n"
     ]
    },
    {
     "name": "stderr",
     "output_type": "stream",
     "text": [
      " 17%|█▋        | 59/344 [17:28<1:23:40, 17.62s/it]"
     ]
    },
    {
     "name": "stdout",
     "output_type": "stream",
     "text": [
      "For epoch 516: \n",
      "{Learning rate: [0.0009152818315529093]}\n"
     ]
    },
    {
     "name": "stderr",
     "output_type": "stream",
     "text": [
      "Train batch number 99: 100%|██████████| 99/99 [00:12<00:00,  7.98batches/s]\n",
      "Test batch number 13: 100%|██████████| 13/13 [00:03<00:00,  3.88batches/s]\n"
     ]
    },
    {
     "name": "stdout",
     "output_type": "stream",
     "text": [
      "\n",
      "Metrics: {'train_loss': 0.006008420527308257, 'test_loss': 2.0542996479914737, 'bleu': 21.5583, 'gen_len': 9.8333}\n",
      "\n",
      "=============================\n",
      "\n"
     ]
    },
    {
     "name": "stderr",
     "output_type": "stream",
     "text": [
      " 17%|█▋        | 60/344 [17:45<1:23:27, 17.63s/it]"
     ]
    },
    {
     "name": "stdout",
     "output_type": "stream",
     "text": [
      "For epoch 517: \n",
      "{Learning rate: [0.0009099557361545553]}\n"
     ]
    },
    {
     "name": "stderr",
     "output_type": "stream",
     "text": [
      "Train batch number 99: 100%|██████████| 99/99 [00:12<00:00,  7.96batches/s]\n",
      "Test batch number 13: 100%|██████████| 13/13 [00:03<00:00,  3.99batches/s]\n"
     ]
    },
    {
     "name": "stdout",
     "output_type": "stream",
     "text": [
      "\n",
      "Metrics: {'train_loss': 0.00593588529627963, 'test_loss': 2.0537754664054284, 'bleu': 21.3761, 'gen_len': 9.8283}\n",
      "\n",
      "=============================\n",
      "\n"
     ]
    },
    {
     "name": "stderr",
     "output_type": "stream",
     "text": [
      " 18%|█▊        | 61/344 [18:03<1:23:10, 17.63s/it]"
     ]
    },
    {
     "name": "stdout",
     "output_type": "stream",
     "text": [
      "For epoch 518: \n",
      "{Learning rate: [0.0009046385017366178]}\n"
     ]
    },
    {
     "name": "stderr",
     "output_type": "stream",
     "text": [
      "Train batch number 99: 100%|██████████| 99/99 [00:12<00:00,  7.98batches/s]\n",
      "Test batch number 13: 100%|██████████| 13/13 [00:03<00:00,  4.07batches/s]\n"
     ]
    },
    {
     "name": "stdout",
     "output_type": "stream",
     "text": [
      "\n",
      "Metrics: {'train_loss': 0.006022492806266081, 'test_loss': 2.056148593242352, 'bleu': 21.2077, 'gen_len': 9.8889}\n",
      "\n",
      "=============================\n",
      "\n"
     ]
    },
    {
     "name": "stderr",
     "output_type": "stream",
     "text": [
      " 18%|█▊        | 62/344 [18:20<1:22:33, 17.57s/it]"
     ]
    },
    {
     "name": "stdout",
     "output_type": "stream",
     "text": [
      "For epoch 519: \n",
      "{Learning rate: [0.0008993302066045903]}\n"
     ]
    },
    {
     "name": "stderr",
     "output_type": "stream",
     "text": [
      "Train batch number 99: 100%|██████████| 99/99 [00:12<00:00,  8.04batches/s]\n",
      "Test batch number 13: 100%|██████████| 13/13 [00:03<00:00,  4.06batches/s]\n"
     ]
    },
    {
     "name": "stdout",
     "output_type": "stream",
     "text": [
      "\n",
      "Metrics: {'train_loss': 0.0059557622200115635, 'test_loss': 2.0663637014535756, 'bleu': 20.8143, 'gen_len': 9.8485}\n",
      "\n",
      "=============================\n",
      "\n"
     ]
    },
    {
     "name": "stderr",
     "output_type": "stream",
     "text": [
      " 18%|█▊        | 63/344 [18:38<1:21:53, 17.48s/it]"
     ]
    },
    {
     "name": "stdout",
     "output_type": "stream",
     "text": [
      "For epoch 520: \n",
      "{Learning rate: [0.0008940309289323219]}\n"
     ]
    },
    {
     "name": "stderr",
     "output_type": "stream",
     "text": [
      "Train batch number 99: 100%|██████████| 99/99 [00:12<00:00,  8.02batches/s]\n",
      "Test batch number 13: 100%|██████████| 13/13 [00:03<00:00,  4.08batches/s]\n"
     ]
    },
    {
     "name": "stdout",
     "output_type": "stream",
     "text": [
      "\n",
      "Metrics: {'train_loss': 0.006258819505514699, 'test_loss': 2.053116174844595, 'bleu': 22.0737, 'gen_len': 9.8687}\n",
      "\n",
      "=============================\n",
      "\n"
     ]
    },
    {
     "name": "stderr",
     "output_type": "stream",
     "text": [
      " 19%|█▊        | 64/344 [18:55<1:21:21, 17.43s/it]"
     ]
    },
    {
     "name": "stdout",
     "output_type": "stream",
     "text": [
      "For epoch 521: \n",
      "{Learning rate: [0.0008887407467608634]}\n"
     ]
    },
    {
     "name": "stderr",
     "output_type": "stream",
     "text": [
      "Train batch number 99: 100%|██████████| 99/99 [00:12<00:00,  7.94batches/s]\n",
      "Test batch number 13: 100%|██████████| 13/13 [00:03<00:00,  4.04batches/s]\n"
     ]
    },
    {
     "name": "stdout",
     "output_type": "stream",
     "text": [
      "\n",
      "Metrics: {'train_loss': 0.005966262410499503, 'test_loss': 2.05758222249838, 'bleu': 21.5767, 'gen_len': 9.8939}\n",
      "\n",
      "=============================\n",
      "\n"
     ]
    },
    {
     "name": "stderr",
     "output_type": "stream",
     "text": [
      " 19%|█▉        | 65/344 [19:12<1:21:01, 17.43s/it]"
     ]
    },
    {
     "name": "stdout",
     "output_type": "stream",
     "text": [
      "For epoch 522: \n",
      "{Learning rate: [0.0008834597379973174]}\n"
     ]
    },
    {
     "name": "stderr",
     "output_type": "stream",
     "text": [
      "Train batch number 99: 100%|██████████| 99/99 [00:12<00:00,  7.97batches/s]\n",
      "Test batch number 13: 100%|██████████| 13/13 [00:03<00:00,  3.88batches/s]\n"
     ]
    },
    {
     "name": "stdout",
     "output_type": "stream",
     "text": [
      "\n",
      "Metrics: {'train_loss': 0.005980288267524847, 'test_loss': 2.0556430633251486, 'bleu': 21.592, 'gen_len': 9.9141}\n",
      "\n",
      "=============================\n",
      "\n"
     ]
    },
    {
     "name": "stderr",
     "output_type": "stream",
     "text": [
      " 19%|█▉        | 66/344 [19:30<1:20:54, 17.46s/it]"
     ]
    },
    {
     "name": "stdout",
     "output_type": "stream",
     "text": [
      "For epoch 523: \n",
      "{Learning rate: [0.0008781879804136942]}\n"
     ]
    },
    {
     "name": "stderr",
     "output_type": "stream",
     "text": [
      "Train batch number 99: 100%|██████████| 99/99 [00:12<00:00,  7.78batches/s]\n",
      "Test batch number 13: 100%|██████████| 13/13 [00:03<00:00,  4.04batches/s]\n"
     ]
    },
    {
     "name": "stdout",
     "output_type": "stream",
     "text": [
      "\n",
      "Metrics: {'train_loss': 0.0057871522106444275, 'test_loss': 2.0564936857957106, 'bleu': 21.5941, 'gen_len': 9.9192}\n",
      "\n",
      "=============================\n",
      "\n"
     ]
    },
    {
     "name": "stderr",
     "output_type": "stream",
     "text": [
      " 19%|█▉        | 67/344 [19:48<1:20:58, 17.54s/it]"
     ]
    },
    {
     "name": "stdout",
     "output_type": "stream",
     "text": [
      "For epoch 524: \n",
      "{Learning rate: [0.0008729255516457636]}\n"
     ]
    },
    {
     "name": "stderr",
     "output_type": "stream",
     "text": [
      "Train batch number 99: 100%|██████████| 99/99 [00:12<00:00,  7.93batches/s]\n",
      "Test batch number 13: 100%|██████████| 13/13 [00:03<00:00,  4.04batches/s]\n"
     ]
    },
    {
     "name": "stdout",
     "output_type": "stream",
     "text": [
      "\n",
      "Metrics: {'train_loss': 0.006068608043903504, 'test_loss': 2.057657471069923, 'bleu': 21.7193, 'gen_len': 9.8535}\n",
      "\n",
      "=============================\n",
      "\n"
     ]
    },
    {
     "name": "stderr",
     "output_type": "stream",
     "text": [
      " 20%|█▉        | 68/344 [20:05<1:20:38, 17.53s/it]"
     ]
    },
    {
     "name": "stdout",
     "output_type": "stream",
     "text": [
      "For epoch 525: \n",
      "{Learning rate: [0.0008676725291919108]}\n"
     ]
    },
    {
     "name": "stderr",
     "output_type": "stream",
     "text": [
      "Train batch number 99: 100%|██████████| 99/99 [00:12<00:00,  8.01batches/s]\n",
      "Test batch number 13: 100%|██████████| 13/13 [00:03<00:00,  4.00batches/s]\n"
     ]
    },
    {
     "name": "stdout",
     "output_type": "stream",
     "text": [
      "\n",
      "Metrics: {'train_loss': 0.005920529163282628, 'test_loss': 2.061050240810101, 'bleu': 21.699, 'gen_len': 9.8384}\n",
      "\n",
      "=============================\n",
      "\n"
     ]
    },
    {
     "name": "stderr",
     "output_type": "stream",
     "text": [
      " 20%|██        | 69/344 [20:23<1:20:24, 17.54s/it]"
     ]
    },
    {
     "name": "stdout",
     "output_type": "stream",
     "text": [
      "For epoch 526: \n",
      "{Learning rate: [0.0008624289904119999]}\n"
     ]
    },
    {
     "name": "stderr",
     "output_type": "stream",
     "text": [
      "Train batch number 99: 100%|██████████| 99/99 [00:12<00:00,  7.75batches/s]\n",
      "Test batch number 13: 100%|██████████| 13/13 [00:03<00:00,  4.04batches/s]\n"
     ]
    },
    {
     "name": "stdout",
     "output_type": "stream",
     "text": [
      "\n",
      "Metrics: {'train_loss': 0.006044276097331977, 'test_loss': 2.0557609521425686, 'bleu': 21.6734, 'gen_len': 9.8283}\n",
      "\n",
      "=============================\n",
      "\n"
     ]
    },
    {
     "name": "stderr",
     "output_type": "stream",
     "text": [
      " 20%|██        | 70/344 [20:40<1:20:26, 17.61s/it]"
     ]
    },
    {
     "name": "stdout",
     "output_type": "stream",
     "text": [
      "For epoch 527: \n",
      "{Learning rate: [0.0008571950125262283]}\n"
     ]
    },
    {
     "name": "stderr",
     "output_type": "stream",
     "text": [
      "Train batch number 99: 100%|██████████| 99/99 [00:13<00:00,  7.12batches/s]\n",
      "Test batch number 13: 100%|██████████| 13/13 [00:03<00:00,  3.93batches/s]\n"
     ]
    },
    {
     "name": "stdout",
     "output_type": "stream",
     "text": [
      "\n",
      "Metrics: {'train_loss': 0.005973389848474075, 'test_loss': 2.061678592975323, 'bleu': 21.6716, 'gen_len': 9.8333}\n",
      "\n",
      "=============================\n",
      "\n"
     ]
    },
    {
     "name": "stderr",
     "output_type": "stream",
     "text": [
      " 21%|██        | 71/344 [20:59<1:22:05, 18.04s/it]"
     ]
    },
    {
     "name": "stdout",
     "output_type": "stream",
     "text": [
      "For epoch 528: \n",
      "{Learning rate: [0.0008519706726139945]}\n"
     ]
    },
    {
     "name": "stderr",
     "output_type": "stream",
     "text": [
      "Train batch number 99: 100%|██████████| 99/99 [00:12<00:00,  7.84batches/s]\n",
      "Test batch number 13: 100%|██████████| 13/13 [00:03<00:00,  4.08batches/s]\n"
     ]
    },
    {
     "name": "stdout",
     "output_type": "stream",
     "text": [
      "\n",
      "Metrics: {'train_loss': 0.0058370542055027645, 'test_loss': 2.056143724001371, 'bleu': 21.8051, 'gen_len': 9.9596}\n",
      "\n",
      "=============================\n",
      "\n"
     ]
    },
    {
     "name": "stderr",
     "output_type": "stream",
     "text": [
      " 21%|██        | 72/344 [21:17<1:21:11, 17.91s/it]"
     ]
    },
    {
     "name": "stdout",
     "output_type": "stream",
     "text": [
      "For epoch 529: \n",
      "{Learning rate: [0.0008467560476127615]}\n"
     ]
    },
    {
     "name": "stderr",
     "output_type": "stream",
     "text": [
      "Train batch number 99: 100%|██████████| 99/99 [00:12<00:00,  7.81batches/s]\n",
      "Test batch number 13: 100%|██████████| 13/13 [00:03<00:00,  4.08batches/s]\n"
     ]
    },
    {
     "name": "stdout",
     "output_type": "stream",
     "text": [
      "\n",
      "Metrics: {'train_loss': 0.00598189313593203, 'test_loss': 2.062255391707787, 'bleu': 21.7078, 'gen_len': 9.8788}\n",
      "\n",
      "=============================\n",
      "\n"
     ]
    },
    {
     "name": "stderr",
     "output_type": "stream",
     "text": [
      " 21%|██        | 73/344 [21:35<1:20:30, 17.82s/it]"
     ]
    },
    {
     "name": "stdout",
     "output_type": "stream",
     "text": [
      "For epoch 530: \n",
      "{Learning rate: [0.000841551214316922]}\n"
     ]
    },
    {
     "name": "stderr",
     "output_type": "stream",
     "text": [
      "Train batch number 99: 100%|██████████| 99/99 [00:12<00:00,  8.00batches/s]\n",
      "Test batch number 13: 100%|██████████| 13/13 [00:03<00:00,  4.03batches/s]\n"
     ]
    },
    {
     "name": "stdout",
     "output_type": "stream",
     "text": [
      "\n",
      "Metrics: {'train_loss': 0.005839518945037406, 'test_loss': 2.055309534072876, 'bleu': 21.669, 'gen_len': 9.8737}\n",
      "\n",
      "=============================\n",
      "\n"
     ]
    },
    {
     "name": "stderr",
     "output_type": "stream",
     "text": [
      " 22%|██▏       | 74/344 [21:52<1:19:35, 17.69s/it]"
     ]
    },
    {
     "name": "stdout",
     "output_type": "stream",
     "text": [
      "For epoch 531: \n",
      "{Learning rate: [0.0008363562493766689]}\n"
     ]
    },
    {
     "name": "stderr",
     "output_type": "stream",
     "text": [
      "Train batch number 99: 100%|██████████| 99/99 [00:12<00:00,  7.86batches/s]\n",
      "Test batch number 13: 100%|██████████| 13/13 [00:03<00:00,  4.03batches/s]\n"
     ]
    },
    {
     "name": "stdout",
     "output_type": "stream",
     "text": [
      "\n",
      "Metrics: {'train_loss': 0.005815195087566878, 'test_loss': 2.0648198494544396, 'bleu': 22.1681, 'gen_len': 9.9242}\n",
      "\n",
      "=============================\n",
      "\n"
     ]
    },
    {
     "name": "stderr",
     "output_type": "stream",
     "text": [
      " 22%|██▏       | 75/344 [22:10<1:19:12, 17.67s/it]"
     ]
    },
    {
     "name": "stdout",
     "output_type": "stream",
     "text": [
      "For epoch 532: \n",
      "{Learning rate: [0.0008311712292968677]}\n"
     ]
    },
    {
     "name": "stderr",
     "output_type": "stream",
     "text": [
      "Train batch number 99: 100%|██████████| 99/99 [00:12<00:00,  8.05batches/s]\n",
      "Test batch number 13: 100%|██████████| 13/13 [00:03<00:00,  3.99batches/s]\n"
     ]
    },
    {
     "name": "stdout",
     "output_type": "stream",
     "text": [
      "\n",
      "Metrics: {'train_loss': 0.005921594407868035, 'test_loss': 2.0626300298250637, 'bleu': 22.1736, 'gen_len': 9.899}\n",
      "\n",
      "=============================\n",
      "\n"
     ]
    },
    {
     "name": "stderr",
     "output_type": "stream",
     "text": [
      " 22%|██▏       | 76/344 [22:27<1:18:25, 17.56s/it]"
     ]
    },
    {
     "name": "stdout",
     "output_type": "stream",
     "text": [
      "For epoch 533: \n",
      "{Learning rate: [0.0008259962304359272]}\n"
     ]
    },
    {
     "name": "stderr",
     "output_type": "stream",
     "text": [
      "Train batch number 99: 100%|██████████| 99/99 [00:12<00:00,  8.04batches/s]\n",
      "Test batch number 13: 100%|██████████| 13/13 [00:03<00:00,  4.02batches/s]\n"
     ]
    },
    {
     "name": "stdout",
     "output_type": "stream",
     "text": [
      "\n",
      "Metrics: {'train_loss': 0.006216483185658081, 'test_loss': 2.047334460111765, 'bleu': 21.7569, 'gen_len': 9.798}\n",
      "\n",
      "=============================\n",
      "\n"
     ]
    },
    {
     "name": "stderr",
     "output_type": "stream",
     "text": [
      " 22%|██▏       | 77/344 [22:44<1:17:48, 17.49s/it]"
     ]
    },
    {
     "name": "stdout",
     "output_type": "stream",
     "text": [
      "For epoch 534: \n",
      "{Learning rate: [0.0008208313290046784]}\n"
     ]
    },
    {
     "name": "stderr",
     "output_type": "stream",
     "text": [
      "Train batch number 99: 100%|██████████| 99/99 [00:12<00:00,  7.92batches/s]\n",
      "Test batch number 13: 100%|██████████| 13/13 [00:03<00:00,  4.01batches/s]\n"
     ]
    },
    {
     "name": "stdout",
     "output_type": "stream",
     "text": [
      "\n",
      "Metrics: {'train_loss': 0.005955220427954419, 'test_loss': 2.048904776573181, 'bleu': 22.1202, 'gen_len': 9.9192}\n",
      "\n",
      "=============================\n",
      "\n"
     ]
    },
    {
     "name": "stderr",
     "output_type": "stream",
     "text": [
      " 23%|██▎       | 78/344 [23:02<1:17:35, 17.50s/it]"
     ]
    },
    {
     "name": "stdout",
     "output_type": "stream",
     "text": [
      "For epoch 535: \n",
      "{Learning rate: [0.0008156766010652474]}\n"
     ]
    },
    {
     "name": "stderr",
     "output_type": "stream",
     "text": [
      "Train batch number 99: 100%|██████████| 99/99 [00:12<00:00,  7.89batches/s]\n",
      "Test batch number 13: 100%|██████████| 13/13 [00:03<00:00,  4.07batches/s]\n"
     ]
    },
    {
     "name": "stdout",
     "output_type": "stream",
     "text": [
      "\n",
      "Metrics: {'train_loss': 0.005834284566449839, 'test_loss': 2.0588343051763682, 'bleu': 22.2332, 'gen_len': 9.9192}\n",
      "\n",
      "=============================\n",
      "\n"
     ]
    },
    {
     "name": "stderr",
     "output_type": "stream",
     "text": [
      " 23%|██▎       | 79/344 [23:19<1:17:18, 17.50s/it]"
     ]
    },
    {
     "name": "stdout",
     "output_type": "stream",
     "text": [
      "For epoch 536: \n",
      "{Learning rate: [0.0008105321225299397]}\n"
     ]
    },
    {
     "name": "stderr",
     "output_type": "stream",
     "text": [
      "Train batch number 99: 100%|██████████| 99/99 [00:12<00:00,  7.80batches/s]\n",
      "Test batch number 13: 100%|██████████| 13/13 [00:03<00:00,  3.87batches/s]\n"
     ]
    },
    {
     "name": "stdout",
     "output_type": "stream",
     "text": [
      "\n",
      "Metrics: {'train_loss': 0.0058824114877474255, 'test_loss': 2.0606255623010488, 'bleu': 21.5667, 'gen_len': 9.904}\n",
      "\n",
      "=============================\n",
      "\n"
     ]
    },
    {
     "name": "stderr",
     "output_type": "stream",
     "text": [
      " 23%|██▎       | 80/344 [23:37<1:17:29, 17.61s/it]"
     ]
    },
    {
     "name": "stdout",
     "output_type": "stream",
     "text": [
      "For epoch 537: \n",
      "{Learning rate: [0.0008053979691601213]}\n"
     ]
    },
    {
     "name": "stderr",
     "output_type": "stream",
     "text": [
      "Train batch number 99: 100%|██████████| 99/99 [00:12<00:00,  7.89batches/s]\n",
      "Test batch number 13: 100%|██████████| 13/13 [00:03<00:00,  4.05batches/s]\n"
     ]
    },
    {
     "name": "stdout",
     "output_type": "stream",
     "text": [
      "\n",
      "Metrics: {'train_loss': 0.005935327404953605, 'test_loss': 2.0504877108793993, 'bleu': 21.8792, 'gen_len': 9.904}\n",
      "\n",
      "=============================\n",
      "\n"
     ]
    },
    {
     "name": "stderr",
     "output_type": "stream",
     "text": [
      " 24%|██▎       | 81/344 [23:55<1:17:08, 17.60s/it]"
     ]
    },
    {
     "name": "stdout",
     "output_type": "stream",
     "text": [
      "For epoch 538: \n",
      "{Learning rate: [0.0008002742165651001]}\n"
     ]
    },
    {
     "name": "stderr",
     "output_type": "stream",
     "text": [
      "Train batch number 99: 100%|██████████| 99/99 [00:12<00:00,  7.95batches/s]\n",
      "Test batch number 13: 100%|██████████| 13/13 [00:03<00:00,  4.02batches/s]\n"
     ]
    },
    {
     "name": "stdout",
     "output_type": "stream",
     "text": [
      "\n",
      "Metrics: {'train_loss': 0.005851018044690724, 'test_loss': 2.053537579683157, 'bleu': 21.6067, 'gen_len': 9.9646}\n",
      "\n",
      "=============================\n",
      "\n"
     ]
    },
    {
     "name": "stderr",
     "output_type": "stream",
     "text": [
      " 24%|██▍       | 82/344 [24:12<1:16:43, 17.57s/it]"
     ]
    },
    {
     "name": "stdout",
     "output_type": "stream",
     "text": [
      "For epoch 539: \n",
      "{Learning rate: [0.0007951609402010157]}\n"
     ]
    },
    {
     "name": "stderr",
     "output_type": "stream",
     "text": [
      "Train batch number 99: 100%|██████████| 99/99 [00:12<00:00,  7.76batches/s]\n",
      "Test batch number 13: 100%|██████████| 13/13 [00:03<00:00,  3.84batches/s]\n"
     ]
    },
    {
     "name": "stdout",
     "output_type": "stream",
     "text": [
      "\n",
      "Metrics: {'train_loss': 0.005930586310422208, 'test_loss': 2.0582018265357385, 'bleu': 21.6123, 'gen_len': 9.9444}\n",
      "\n",
      "=============================\n",
      "\n"
     ]
    },
    {
     "name": "stderr",
     "output_type": "stream",
     "text": [
      " 24%|██▍       | 83/344 [24:30<1:16:56, 17.69s/it]"
     ]
    },
    {
     "name": "stdout",
     "output_type": "stream",
     "text": [
      "For epoch 540: \n",
      "{Learning rate: [0.0007900582153697282]}\n"
     ]
    },
    {
     "name": "stderr",
     "output_type": "stream",
     "text": [
      "Train batch number 99: 100%|██████████| 99/99 [00:12<00:00,  7.99batches/s]\n",
      "Test batch number 13: 100%|██████████| 13/13 [00:03<00:00,  4.06batches/s]\n"
     ]
    },
    {
     "name": "stdout",
     "output_type": "stream",
     "text": [
      "\n",
      "Metrics: {'train_loss': 0.005790777170191039, 'test_loss': 2.06470485833975, 'bleu': 21.5615, 'gen_len': 9.9495}\n",
      "\n",
      "=============================\n",
      "\n"
     ]
    },
    {
     "name": "stderr",
     "output_type": "stream",
     "text": [
      " 24%|██▍       | 84/344 [24:48<1:16:19, 17.61s/it]"
     ]
    },
    {
     "name": "stdout",
     "output_type": "stream",
     "text": [
      "For epoch 541: \n",
      "{Learning rate: [0.0007849661172177055]}\n"
     ]
    },
    {
     "name": "stderr",
     "output_type": "stream",
     "text": [
      "Train batch number 99: 100%|██████████| 99/99 [00:12<00:00,  8.03batches/s]\n",
      "Test batch number 13: 100%|██████████| 13/13 [00:03<00:00,  3.86batches/s]\n"
     ]
    },
    {
     "name": "stdout",
     "output_type": "stream",
     "text": [
      "\n",
      "Metrics: {'train_loss': 0.006105476417525841, 'test_loss': 2.0646171753223124, 'bleu': 22.2112, 'gen_len': 9.8788}\n",
      "\n",
      "=============================\n",
      "\n"
     ]
    },
    {
     "name": "stderr",
     "output_type": "stream",
     "text": [
      " 25%|██▍       | 85/344 [25:05<1:15:49, 17.56s/it]"
     ]
    },
    {
     "name": "stdout",
     "output_type": "stream",
     "text": [
      "For epoch 542: \n",
      "{Learning rate: [0.0007798847207349216]}\n"
     ]
    },
    {
     "name": "stderr",
     "output_type": "stream",
     "text": [
      "Train batch number 99: 100%|██████████| 99/99 [00:12<00:00,  7.96batches/s]\n",
      "Test batch number 13: 100%|██████████| 13/13 [00:03<00:00,  4.03batches/s]\n"
     ]
    },
    {
     "name": "stdout",
     "output_type": "stream",
     "text": [
      "\n",
      "Metrics: {'train_loss': 0.005752212301365834, 'test_loss': 2.0590816002625685, 'bleu': 22.234, 'gen_len': 9.8687}\n",
      "\n",
      "=============================\n",
      "\n"
     ]
    },
    {
     "name": "stderr",
     "output_type": "stream",
     "text": [
      " 25%|██▌       | 86/344 [25:23<1:15:18, 17.51s/it]"
     ]
    },
    {
     "name": "stdout",
     "output_type": "stream",
     "text": [
      "For epoch 543: \n",
      "{Learning rate: [0.0007748141007537481]}\n"
     ]
    },
    {
     "name": "stderr",
     "output_type": "stream",
     "text": [
      "Train batch number 99: 100%|██████████| 99/99 [00:12<00:00,  7.90batches/s]\n",
      "Test batch number 13: 100%|██████████| 13/13 [00:03<00:00,  4.06batches/s]\n"
     ]
    },
    {
     "name": "stdout",
     "output_type": "stream",
     "text": [
      "\n",
      "Metrics: {'train_loss': 0.005795870606571135, 'test_loss': 2.0609751664675198, 'bleu': 22.6257, 'gen_len': 9.8586}\n",
      "\n",
      "=============================\n",
      "\n"
     ]
    },
    {
     "name": "stderr",
     "output_type": "stream",
     "text": [
      " 25%|██▌       | 87/344 [25:40<1:14:55, 17.49s/it]"
     ]
    },
    {
     "name": "stdout",
     "output_type": "stream",
     "text": [
      "For epoch 544: \n",
      "{Learning rate: [0.0007697543319478555]}\n"
     ]
    },
    {
     "name": "stderr",
     "output_type": "stream",
     "text": [
      "Train batch number 99: 100%|██████████| 99/99 [00:12<00:00,  7.62batches/s]\n",
      "Test batch number 13: 100%|██████████| 13/13 [00:03<00:00,  3.84batches/s]\n"
     ]
    },
    {
     "name": "stdout",
     "output_type": "stream",
     "text": [
      "\n",
      "Metrics: {'train_loss': 0.0060431901835148565, 'test_loss': 2.048551852886493, 'bleu': 22.6556, 'gen_len': 9.904}\n",
      "\n",
      "=============================\n",
      "\n"
     ]
    },
    {
     "name": "stderr",
     "output_type": "stream",
     "text": [
      " 26%|██▌       | 88/344 [25:58<1:15:29, 17.69s/it]"
     ]
    },
    {
     "name": "stdout",
     "output_type": "stream",
     "text": [
      "For epoch 545: \n",
      "{Learning rate: [0.0007647054888311102]}\n"
     ]
    },
    {
     "name": "stderr",
     "output_type": "stream",
     "text": [
      "Train batch number 99: 100%|██████████| 99/99 [00:12<00:00,  7.90batches/s]\n",
      "Test batch number 13: 100%|██████████| 13/13 [00:03<00:00,  3.86batches/s]\n"
     ]
    },
    {
     "name": "stdout",
     "output_type": "stream",
     "text": [
      "\n",
      "Metrics: {'train_loss': 0.005821621990903761, 'test_loss': 2.0489665544950046, 'bleu': 22.5316, 'gen_len': 9.9545}\n",
      "\n",
      "=============================\n",
      "\n"
     ]
    },
    {
     "name": "stderr",
     "output_type": "stream",
     "text": [
      " 26%|██▌       | 89/344 [26:16<1:15:15, 17.71s/it]"
     ]
    },
    {
     "name": "stdout",
     "output_type": "stream",
     "text": [
      "For epoch 546: \n",
      "{Learning rate: [0.000759667645756481]}\n"
     ]
    },
    {
     "name": "stderr",
     "output_type": "stream",
     "text": [
      "Train batch number 99: 100%|██████████| 99/99 [00:12<00:00,  7.92batches/s]\n",
      "Test batch number 13: 100%|██████████| 13/13 [00:03<00:00,  4.11batches/s]\n"
     ]
    },
    {
     "name": "stdout",
     "output_type": "stream",
     "text": [
      "\n",
      "Metrics: {'train_loss': 0.005973051301694024, 'test_loss': 2.0490872034659753, 'bleu': 21.7592, 'gen_len': 9.9242}\n",
      "\n",
      "=============================\n",
      "\n"
     ]
    },
    {
     "name": "stderr",
     "output_type": "stream",
     "text": [
      " 26%|██▌       | 90/344 [26:33<1:14:44, 17.65s/it]"
     ]
    },
    {
     "name": "stdout",
     "output_type": "stream",
     "text": [
      "For epoch 547: \n",
      "{Learning rate: [0.0007546408769149396]}\n"
     ]
    },
    {
     "name": "stderr",
     "output_type": "stream",
     "text": [
      "Train batch number 99: 100%|██████████| 99/99 [00:12<00:00,  7.97batches/s]\n",
      "Test batch number 13: 100%|██████████| 13/13 [00:03<00:00,  3.90batches/s]\n"
     ]
    },
    {
     "name": "stdout",
     "output_type": "stream",
     "text": [
      "\n",
      "Metrics: {'train_loss': 0.006061699215235716, 'test_loss': 2.0601249566444984, 'bleu': 22.1468, 'gen_len': 9.8788}\n",
      "\n",
      "=============================\n",
      "\n"
     ]
    },
    {
     "name": "stderr",
     "output_type": "stream",
     "text": [
      " 26%|██▋       | 91/344 [26:51<1:14:14, 17.61s/it]"
     ]
    },
    {
     "name": "stdout",
     "output_type": "stream",
     "text": [
      "For epoch 548: \n",
      "{Learning rate: [0.0007496252563343729]}\n"
     ]
    },
    {
     "name": "stderr",
     "output_type": "stream",
     "text": [
      "Train batch number 99: 100%|██████████| 99/99 [00:12<00:00,  7.84batches/s]\n",
      "Test batch number 13: 100%|██████████| 13/13 [00:03<00:00,  4.06batches/s]\n"
     ]
    },
    {
     "name": "stdout",
     "output_type": "stream",
     "text": [
      "\n",
      "Metrics: {'train_loss': 0.005803514233316445, 'test_loss': 2.053374116237347, 'bleu': 22.19, 'gen_len': 9.9141}\n",
      "\n",
      "=============================\n",
      "\n"
     ]
    },
    {
     "name": "stderr",
     "output_type": "stream",
     "text": [
      " 27%|██▋       | 92/344 [27:09<1:13:59, 17.62s/it]"
     ]
    },
    {
     "name": "stdout",
     "output_type": "stream",
     "text": [
      "For epoch 549: \n",
      "{Learning rate: [0.0007446208578784878]}\n"
     ]
    },
    {
     "name": "stderr",
     "output_type": "stream",
     "text": [
      "Train batch number 99: 100%|██████████| 99/99 [00:12<00:00,  7.92batches/s]\n",
      "Test batch number 13: 100%|██████████| 13/13 [00:03<00:00,  3.88batches/s]\n"
     ]
    },
    {
     "name": "stdout",
     "output_type": "stream",
     "text": [
      "\n",
      "Metrics: {'train_loss': 0.005855924262303031, 'test_loss': 2.05105984210968, 'bleu': 21.9494, 'gen_len': 9.9646}\n",
      "\n",
      "=============================\n",
      "\n"
     ]
    },
    {
     "name": "stderr",
     "output_type": "stream",
     "text": [
      " 27%|██▋       | 93/344 [27:26<1:13:48, 17.64s/it]"
     ]
    },
    {
     "name": "stdout",
     "output_type": "stream",
     "text": [
      "For epoch 550: \n",
      "{Learning rate: [0.000739627755245729]}\n"
     ]
    },
    {
     "name": "stderr",
     "output_type": "stream",
     "text": [
      "Train batch number 99: 100%|██████████| 99/99 [00:12<00:00,  7.98batches/s]\n",
      "Test batch number 13: 100%|██████████| 13/13 [00:03<00:00,  4.07batches/s]\n"
     ]
    },
    {
     "name": "stdout",
     "output_type": "stream",
     "text": [
      "\n",
      "Metrics: {'train_loss': 0.005798894119733531, 'test_loss': 2.0540051551965566, 'bleu': 21.9711, 'gen_len': 9.8586}\n",
      "\n",
      "=============================\n",
      "\n"
     ]
    },
    {
     "name": "stderr",
     "output_type": "stream",
     "text": [
      " 27%|██▋       | 94/344 [27:44<1:13:11, 17.57s/it]"
     ]
    },
    {
     "name": "stdout",
     "output_type": "stream",
     "text": [
      "For epoch 551: \n",
      "{Learning rate: [0.0007346460219681868]}\n"
     ]
    },
    {
     "name": "stderr",
     "output_type": "stream",
     "text": [
      "Train batch number 99: 100%|██████████| 99/99 [00:12<00:00,  7.99batches/s]\n",
      "Test batch number 13: 100%|██████████| 13/13 [00:03<00:00,  3.95batches/s]\n"
     ]
    },
    {
     "name": "stdout",
     "output_type": "stream",
     "text": [
      "\n",
      "Metrics: {'train_loss': 0.005762261413496382, 'test_loss': 2.0546505726300754, 'bleu': 21.6481, 'gen_len': 9.8788}\n",
      "\n",
      "=============================\n",
      "\n"
     ]
    },
    {
     "name": "stderr",
     "output_type": "stream",
     "text": [
      " 28%|██▊       | 95/344 [28:01<1:12:51, 17.56s/it]"
     ]
    },
    {
     "name": "stdout",
     "output_type": "stream",
     "text": [
      "For epoch 552: \n",
      "{Learning rate: [0.0007296757314105215]}\n"
     ]
    },
    {
     "name": "stderr",
     "output_type": "stream",
     "text": [
      "Train batch number 99: 100%|██████████| 99/99 [00:12<00:00,  7.70batches/s]\n",
      "Test batch number 13: 100%|██████████| 13/13 [00:03<00:00,  4.05batches/s]\n"
     ]
    },
    {
     "name": "stdout",
     "output_type": "stream",
     "text": [
      "\n",
      "Metrics: {'train_loss': 0.005710381192844267, 'test_loss': 2.0554266159351053, 'bleu': 22.2335, 'gen_len': 9.8788}\n",
      "\n",
      "=============================\n",
      "\n"
     ]
    },
    {
     "name": "stderr",
     "output_type": "stream",
     "text": [
      " 28%|██▊       | 96/344 [28:19<1:13:00, 17.66s/it]"
     ]
    },
    {
     "name": "stdout",
     "output_type": "stream",
     "text": [
      "For epoch 553: \n",
      "{Learning rate: [0.0007247169567688781]}\n"
     ]
    },
    {
     "name": "stderr",
     "output_type": "stream",
     "text": [
      "Train batch number 99: 100%|██████████| 99/99 [00:12<00:00,  7.99batches/s]\n",
      "Test batch number 13: 100%|██████████| 13/13 [00:03<00:00,  3.98batches/s]\n"
     ]
    },
    {
     "name": "stdout",
     "output_type": "stream",
     "text": [
      "\n",
      "Metrics: {'train_loss': 0.005953949072981498, 'test_loss': 2.0592921605476966, 'bleu': 22.3529, 'gen_len': 9.8889}\n",
      "\n",
      "=============================\n",
      "\n"
     ]
    },
    {
     "name": "stderr",
     "output_type": "stream",
     "text": [
      " 28%|██▊       | 97/344 [28:37<1:12:26, 17.60s/it]"
     ]
    },
    {
     "name": "stdout",
     "output_type": "stream",
     "text": [
      "For epoch 554: \n",
      "{Learning rate: [0.000719769771069809]}\n"
     ]
    },
    {
     "name": "stderr",
     "output_type": "stream",
     "text": [
      "Train batch number 99: 100%|██████████| 99/99 [00:12<00:00,  7.97batches/s]\n",
      "Test batch number 13: 100%|██████████| 13/13 [00:03<00:00,  4.06batches/s]\n"
     ]
    },
    {
     "name": "stdout",
     "output_type": "stream",
     "text": [
      "\n",
      "Metrics: {'train_loss': 0.005751300239794407, 'test_loss': 2.0542941918739905, 'bleu': 21.9642, 'gen_len': 9.8485}\n",
      "\n",
      "=============================\n",
      "\n"
     ]
    },
    {
     "name": "stderr",
     "output_type": "stream",
     "text": [
      " 28%|██▊       | 98/344 [28:54<1:11:54, 17.54s/it]"
     ]
    },
    {
     "name": "stdout",
     "output_type": "stream",
     "text": [
      "For epoch 555: \n",
      "{Learning rate: [0.0007148342471692006]}\n"
     ]
    },
    {
     "name": "stderr",
     "output_type": "stream",
     "text": [
      "Train batch number 99: 100%|██████████| 99/99 [00:12<00:00,  8.05batches/s]\n",
      "Test batch number 13: 100%|██████████| 13/13 [00:03<00:00,  4.04batches/s]\n"
     ]
    },
    {
     "name": "stdout",
     "output_type": "stream",
     "text": [
      "\n",
      "Metrics: {'train_loss': 0.005721792770223927, 'test_loss': 2.0586634324147153, 'bleu': 21.4575, 'gen_len': 9.8535}\n",
      "\n",
      "=============================\n",
      "\n"
     ]
    },
    {
     "name": "stderr",
     "output_type": "stream",
     "text": [
      " 29%|██▉       | 99/344 [29:11<1:11:23, 17.49s/it]"
     ]
    },
    {
     "name": "stdout",
     "output_type": "stream",
     "text": [
      "For epoch 556: \n",
      "{Learning rate: [0.0007099104577511993]}\n"
     ]
    },
    {
     "name": "stderr",
     "output_type": "stream",
     "text": [
      "Train batch number 99: 100%|██████████| 99/99 [00:12<00:00,  7.91batches/s]\n",
      "Test batch number 13: 100%|██████████| 13/13 [00:03<00:00,  3.98batches/s]\n"
     ]
    },
    {
     "name": "stdout",
     "output_type": "stream",
     "text": [
      "\n",
      "Metrics: {'train_loss': 0.005809820590498434, 'test_loss': 2.0630389727078953, 'bleu': 22.4376, 'gen_len': 9.8939}\n",
      "\n",
      "=============================\n",
      "\n"
     ]
    },
    {
     "name": "stderr",
     "output_type": "stream",
     "text": [
      " 29%|██▉       | 100/344 [29:29<1:11:09, 17.50s/it]"
     ]
    },
    {
     "name": "stdout",
     "output_type": "stream",
     "text": [
      "For epoch 557: \n",
      "{Learning rate: [0.0007049984753271391]}\n"
     ]
    },
    {
     "name": "stderr",
     "output_type": "stream",
     "text": [
      "Train batch number 99: 100%|██████████| 99/99 [00:12<00:00,  7.89batches/s]\n",
      "Test batch number 13: 100%|██████████| 13/13 [00:03<00:00,  4.06batches/s]\n"
     ]
    },
    {
     "name": "stdout",
     "output_type": "stream",
     "text": [
      "\n",
      "Metrics: {'train_loss': 0.005723474616204821, 'test_loss': 2.061059071467473, 'bleu': 22.547, 'gen_len': 9.8586}\n",
      "\n",
      "=============================\n",
      "\n"
     ]
    },
    {
     "name": "stderr",
     "output_type": "stream",
     "text": [
      " 29%|██▉       | 101/344 [29:46<1:10:54, 17.51s/it]"
     ]
    },
    {
     "name": "stdout",
     "output_type": "stream",
     "text": [
      "For epoch 558: \n",
      "{Learning rate: [0.0007000983722344774]}\n"
     ]
    },
    {
     "name": "stderr",
     "output_type": "stream",
     "text": [
      "Train batch number 99: 100%|██████████| 99/99 [00:12<00:00,  7.98batches/s]\n",
      "Test batch number 13: 100%|██████████| 13/13 [00:03<00:00,  3.87batches/s]\n"
     ]
    },
    {
     "name": "stdout",
     "output_type": "stream",
     "text": [
      "\n",
      "Metrics: {'train_loss': 0.005875377763665959, 'test_loss': 2.0662400355705848, 'bleu': 21.7708, 'gen_len': 9.8434}\n",
      "\n",
      "=============================\n",
      "\n"
     ]
    },
    {
     "name": "stderr",
     "output_type": "stream",
     "text": [
      " 30%|██▉       | 102/344 [30:04<1:10:39, 17.52s/it]"
     ]
    },
    {
     "name": "stdout",
     "output_type": "stream",
     "text": [
      "For epoch 559: \n",
      "{Learning rate: [0.0006952102206357271]}\n"
     ]
    },
    {
     "name": "stderr",
     "output_type": "stream",
     "text": [
      "Train batch number 99: 100%|██████████| 99/99 [00:12<00:00,  7.86batches/s]\n",
      "Test batch number 13: 100%|██████████| 13/13 [00:03<00:00,  4.06batches/s]\n"
     ]
    },
    {
     "name": "stdout",
     "output_type": "stream",
     "text": [
      "\n",
      "Metrics: {'train_loss': 0.005828424212975531, 'test_loss': 2.065114507308373, 'bleu': 21.9973, 'gen_len': 9.8586}\n",
      "\n",
      "=============================\n",
      "\n"
     ]
    },
    {
     "name": "stderr",
     "output_type": "stream",
     "text": [
      " 30%|██▉       | 103/344 [30:21<1:10:24, 17.53s/it]"
     ]
    },
    {
     "name": "stdout",
     "output_type": "stream",
     "text": [
      "For epoch 560: \n",
      "{Learning rate: [0.0006903340925173939]}\n"
     ]
    },
    {
     "name": "stderr",
     "output_type": "stream",
     "text": [
      "Train batch number 99: 100%|██████████| 99/99 [00:12<00:00,  7.95batches/s]\n",
      "Test batch number 13: 100%|██████████| 13/13 [00:03<00:00,  3.85batches/s]\n"
     ]
    },
    {
     "name": "stdout",
     "output_type": "stream",
     "text": [
      "\n",
      "Metrics: {'train_loss': 0.005804045026183523, 'test_loss': 2.064184546470642, 'bleu': 21.9489, 'gen_len': 9.8636}\n",
      "\n",
      "=============================\n",
      "\n"
     ]
    },
    {
     "name": "stderr",
     "output_type": "stream",
     "text": [
      " 30%|███       | 104/344 [30:39<1:10:10, 17.55s/it]"
     ]
    },
    {
     "name": "stdout",
     "output_type": "stream",
     "text": [
      "For epoch 561: \n",
      "{Learning rate: [0.0006854700596889187]}\n"
     ]
    },
    {
     "name": "stderr",
     "output_type": "stream",
     "text": [
      "Train batch number 99: 100%|██████████| 99/99 [00:13<00:00,  7.59batches/s]\n",
      "Test batch number 13: 100%|██████████| 13/13 [00:03<00:00,  4.03batches/s]\n"
     ]
    },
    {
     "name": "stdout",
     "output_type": "stream",
     "text": [
      "\n",
      "Metrics: {'train_loss': 0.005755729263212128, 'test_loss': 2.062891226548415, 'bleu': 22.0574, 'gen_len': 9.8182}\n",
      "\n",
      "=============================\n",
      "\n"
     ]
    },
    {
     "name": "stderr",
     "output_type": "stream",
     "text": [
      " 31%|███       | 105/344 [30:57<1:10:37, 17.73s/it]"
     ]
    },
    {
     "name": "stdout",
     "output_type": "stream",
     "text": [
      "For epoch 562: \n",
      "{Learning rate: [0.0006806181937816162]}\n"
     ]
    },
    {
     "name": "stderr",
     "output_type": "stream",
     "text": [
      "Train batch number 99: 100%|██████████| 99/99 [00:12<00:00,  8.01batches/s]\n",
      "Test batch number 13: 100%|██████████| 13/13 [00:03<00:00,  3.87batches/s]\n"
     ]
    },
    {
     "name": "stdout",
     "output_type": "stream",
     "text": [
      "\n",
      "Metrics: {'train_loss': 0.005751014196912457, 'test_loss': 2.0623890711711, 'bleu': 21.8179, 'gen_len': 9.8737}\n",
      "\n",
      "=============================\n",
      "\n"
     ]
    },
    {
     "name": "stderr",
     "output_type": "stream",
     "text": [
      " 31%|███       | 106/344 [31:15<1:10:03, 17.66s/it]"
     ]
    },
    {
     "name": "stdout",
     "output_type": "stream",
     "text": [
      "For epoch 563: \n",
      "{Learning rate: [0.0006757785662476238]}\n"
     ]
    },
    {
     "name": "stderr",
     "output_type": "stream",
     "text": [
      "Train batch number 99: 100%|██████████| 99/99 [00:12<00:00,  7.90batches/s]\n",
      "Test batch number 13: 100%|██████████| 13/13 [00:03<00:00,  4.01batches/s]\n"
     ]
    },
    {
     "name": "stdout",
     "output_type": "stream",
     "text": [
      "\n",
      "Metrics: {'train_loss': 0.0057578058426816375, 'test_loss': 2.0606767305961022, 'bleu': 21.3713, 'gen_len': 9.9646}\n",
      "\n",
      "=============================\n",
      "\n"
     ]
    },
    {
     "name": "stderr",
     "output_type": "stream",
     "text": [
      " 31%|███       | 107/344 [31:32<1:09:35, 17.62s/it]"
     ]
    },
    {
     "name": "stdout",
     "output_type": "stream",
     "text": [
      "For epoch 564: \n",
      "{Learning rate: [0.0006709512483588473]}\n"
     ]
    },
    {
     "name": "stderr",
     "output_type": "stream",
     "text": [
      "Train batch number 99: 100%|██████████| 99/99 [00:12<00:00,  7.93batches/s]\n",
      "Test batch number 13: 100%|██████████| 13/13 [00:03<00:00,  4.04batches/s]\n"
     ]
    },
    {
     "name": "stdout",
     "output_type": "stream",
     "text": [
      "\n",
      "Metrics: {'train_loss': 0.0057836187707384894, 'test_loss': 2.06002467412215, 'bleu': 21.3488, 'gen_len': 9.9697}\n",
      "\n",
      "=============================\n",
      "\n"
     ]
    },
    {
     "name": "stderr",
     "output_type": "stream",
     "text": [
      " 31%|███▏      | 108/344 [31:50<1:09:07, 17.58s/it]"
     ]
    },
    {
     "name": "stdout",
     "output_type": "stream",
     "text": [
      "For epoch 565: \n",
      "{Learning rate: [0.0006661363112059105]}\n"
     ]
    },
    {
     "name": "stderr",
     "output_type": "stream",
     "text": [
      "Train batch number 99: 100%|██████████| 99/99 [00:12<00:00,  7.85batches/s]\n",
      "Test batch number 13: 100%|██████████| 13/13 [00:03<00:00,  3.81batches/s]\n"
     ]
    },
    {
     "name": "stdout",
     "output_type": "stream",
     "text": [
      "\n",
      "Metrics: {'train_loss': 0.005785845853758722, 'test_loss': 2.060349941253662, 'bleu': 21.2134, 'gen_len': 9.899}\n",
      "\n",
      "=============================\n",
      "\n"
     ]
    },
    {
     "name": "stderr",
     "output_type": "stream",
     "text": [
      " 32%|███▏      | 109/344 [32:07<1:09:03, 17.63s/it]"
     ]
    },
    {
     "name": "stdout",
     "output_type": "stream",
     "text": [
      "For epoch 566: \n",
      "{Learning rate: [0.0006613338256971106]}\n"
     ]
    },
    {
     "name": "stderr",
     "output_type": "stream",
     "text": [
      "Train batch number 99: 100%|██████████| 99/99 [00:12<00:00,  7.87batches/s]\n",
      "Test batch number 13: 100%|██████████| 13/13 [00:03<00:00,  3.84batches/s]\n"
     ]
    },
    {
     "name": "stdout",
     "output_type": "stream",
     "text": [
      "\n",
      "Metrics: {'train_loss': 0.005980096883969522, 'test_loss': 2.058066643201388, 'bleu': 21.6316, 'gen_len': 9.7879}\n",
      "\n",
      "=============================\n",
      "\n"
     ]
    },
    {
     "name": "stderr",
     "output_type": "stream",
     "text": [
      " 32%|███▏      | 110/344 [32:25<1:08:50, 17.65s/it]"
     ]
    },
    {
     "name": "stdout",
     "output_type": "stream",
     "text": [
      "For epoch 567: \n",
      "{Learning rate: [0.0006565438625573731]}\n"
     ]
    },
    {
     "name": "stderr",
     "output_type": "stream",
     "text": [
      "Train batch number 99: 100%|██████████| 99/99 [00:12<00:00,  7.76batches/s]\n",
      "Test batch number 13: 100%|██████████| 13/13 [00:03<00:00,  4.03batches/s]\n"
     ]
    },
    {
     "name": "stdout",
     "output_type": "stream",
     "text": [
      "\n",
      "Metrics: {'train_loss': 0.0058702062174555555, 'test_loss': 2.0595380801420946, 'bleu': 22.2828, 'gen_len': 9.8283}\n",
      "\n",
      "=============================\n",
      "\n"
     ]
    },
    {
     "name": "stderr",
     "output_type": "stream",
     "text": [
      " 32%|███▏      | 111/344 [32:43<1:08:42, 17.69s/it]"
     ]
    },
    {
     "name": "stdout",
     "output_type": "stream",
     "text": [
      "For epoch 568: \n",
      "{Learning rate: [0.0006517664923272077]}\n"
     ]
    },
    {
     "name": "stderr",
     "output_type": "stream",
     "text": [
      "Train batch number 99: 100%|██████████| 99/99 [00:12<00:00,  7.96batches/s]\n",
      "Test batch number 13: 100%|██████████| 13/13 [00:03<00:00,  3.86batches/s]\n"
     ]
    },
    {
     "name": "stdout",
     "output_type": "stream",
     "text": [
      "\n",
      "Metrics: {'train_loss': 0.005838369483373956, 'test_loss': 2.057715837772076, 'bleu': 22.1661, 'gen_len': 9.7525}\n",
      "\n",
      "=============================\n",
      "\n"
     ]
    },
    {
     "name": "stderr",
     "output_type": "stream",
     "text": [
      " 33%|███▎      | 112/344 [33:01<1:08:17, 17.66s/it]"
     ]
    },
    {
     "name": "stdout",
     "output_type": "stream",
     "text": [
      "For epoch 569: \n",
      "{Learning rate: [0.0006470017853616746]}\n"
     ]
    },
    {
     "name": "stderr",
     "output_type": "stream",
     "text": [
      "Train batch number 99: 100%|██████████| 99/99 [00:12<00:00,  8.01batches/s]\n",
      "Test batch number 13: 100%|██████████| 13/13 [00:03<00:00,  3.84batches/s]\n"
     ]
    },
    {
     "name": "stdout",
     "output_type": "stream",
     "text": [
      "\n",
      "Metrics: {'train_loss': 0.005755689644226522, 'test_loss': 2.0644712356420665, 'bleu': 22.0853, 'gen_len': 9.8182}\n",
      "\n",
      "=============================\n",
      "\n"
     ]
    },
    {
     "name": "stderr",
     "output_type": "stream",
     "text": [
      " 33%|███▎      | 113/344 [33:18<1:07:50, 17.62s/it]"
     ]
    },
    {
     "name": "stdout",
     "output_type": "stream",
     "text": [
      "For epoch 570: \n",
      "{Learning rate: [0.0006422498118293428]}\n"
     ]
    },
    {
     "name": "stderr",
     "output_type": "stream",
     "text": [
      "Train batch number 99: 100%|██████████| 99/99 [00:12<00:00,  7.97batches/s]\n",
      "Test batch number 13: 100%|██████████| 13/13 [00:03<00:00,  3.88batches/s]\n"
     ]
    },
    {
     "name": "stdout",
     "output_type": "stream",
     "text": [
      "\n",
      "Metrics: {'train_loss': 0.005750793170370867, 'test_loss': 2.062614945264963, 'bleu': 22.3925, 'gen_len': 9.8687}\n",
      "\n",
      "=============================\n",
      "\n"
     ]
    },
    {
     "name": "stderr",
     "output_type": "stream",
     "text": [
      " 33%|███▎      | 114/344 [33:36<1:07:25, 17.59s/it]"
     ]
    },
    {
     "name": "stdout",
     "output_type": "stream",
     "text": [
      "For epoch 571: \n",
      "{Learning rate: [0.0006375106417112613]}\n"
     ]
    },
    {
     "name": "stderr",
     "output_type": "stream",
     "text": [
      "Train batch number 99: 100%|██████████| 99/99 [00:12<00:00,  7.74batches/s]\n",
      "Test batch number 13: 100%|██████████| 13/13 [00:03<00:00,  3.86batches/s]\n"
     ]
    },
    {
     "name": "stdout",
     "output_type": "stream",
     "text": [
      "\n",
      "Metrics: {'train_loss': 0.005872372270478265, 'test_loss': 2.0610250051204977, 'bleu': 22.0962, 'gen_len': 9.8687}\n",
      "\n",
      "=============================\n",
      "\n"
     ]
    },
    {
     "name": "stderr",
     "output_type": "stream",
     "text": [
      " 33%|███▎      | 115/344 [33:54<1:07:34, 17.71s/it]"
     ]
    },
    {
     "name": "stdout",
     "output_type": "stream",
     "text": [
      "For epoch 572: \n",
      "{Learning rate: [0.0006327843447999264]}\n"
     ]
    },
    {
     "name": "stderr",
     "output_type": "stream",
     "text": [
      "Train batch number 99: 100%|██████████| 99/99 [00:12<00:00,  7.90batches/s]\n",
      "Test batch number 13: 100%|██████████| 13/13 [00:03<00:00,  3.87batches/s]\n"
     ]
    },
    {
     "name": "stdout",
     "output_type": "stream",
     "text": [
      "\n",
      "Metrics: {'train_loss': 0.00572930389457862, 'test_loss': 2.0666824029042172, 'bleu': 22.1668, 'gen_len': 9.8434}\n",
      "\n",
      "=============================\n",
      "\n"
     ]
    },
    {
     "name": "stderr",
     "output_type": "stream",
     "text": [
      " 34%|███▎      | 116/344 [34:11<1:07:16, 17.71s/it]"
     ]
    },
    {
     "name": "stdout",
     "output_type": "stream",
     "text": [
      "For epoch 573: \n",
      "{Learning rate: [0.0006280709906982532]}\n"
     ]
    },
    {
     "name": "stderr",
     "output_type": "stream",
     "text": [
      "Train batch number 99: 100%|██████████| 99/99 [00:12<00:00,  7.99batches/s]\n",
      "Test batch number 13: 100%|██████████| 13/13 [00:03<00:00,  4.03batches/s]\n"
     ]
    },
    {
     "name": "stdout",
     "output_type": "stream",
     "text": [
      "\n",
      "Metrics: {'train_loss': 0.005750096947656747, 'test_loss': 2.0658292953784647, 'bleu': 22.4868, 'gen_len': 9.798}\n",
      "\n",
      "=============================\n",
      "\n"
     ]
    },
    {
     "name": "stderr",
     "output_type": "stream",
     "text": [
      " 34%|███▍      | 117/344 [34:29<1:06:40, 17.62s/it]"
     ]
    },
    {
     "name": "stdout",
     "output_type": "stream",
     "text": [
      "For epoch 574: \n",
      "{Learning rate: [0.0006233706488185514]}\n"
     ]
    },
    {
     "name": "stderr",
     "output_type": "stream",
     "text": [
      "Train batch number 99: 100%|██████████| 99/99 [00:12<00:00,  7.97batches/s]\n",
      "Test batch number 13: 100%|██████████| 13/13 [00:03<00:00,  3.86batches/s]\n"
     ]
    },
    {
     "name": "stdout",
     "output_type": "stream",
     "text": [
      "\n",
      "Metrics: {'train_loss': 0.0057571266806917265, 'test_loss': 2.066767298258268, 'bleu': 22.6077, 'gen_len': 9.9141}\n",
      "\n",
      "=============================\n",
      "\n"
     ]
    },
    {
     "name": "stderr",
     "output_type": "stream",
     "text": [
      " 34%|███▍      | 118/344 [34:46<1:06:18, 17.61s/it]"
     ]
    },
    {
     "name": "stdout",
     "output_type": "stream",
     "text": [
      "For epoch 575: \n",
      "{Learning rate: [0.000618683388381505]}\n"
     ]
    },
    {
     "name": "stderr",
     "output_type": "stream",
     "text": [
      "Train batch number 99: 100%|██████████| 99/99 [00:12<00:00,  7.82batches/s]\n",
      "Test batch number 13: 100%|██████████| 13/13 [00:03<00:00,  4.02batches/s]\n"
     ]
    },
    {
     "name": "stdout",
     "output_type": "stream",
     "text": [
      "\n",
      "Metrics: {'train_loss': 0.005782338499410238, 'test_loss': 2.0646428419993472, 'bleu': 22.3903, 'gen_len': 9.9949}\n",
      "\n",
      "=============================\n",
      "\n"
     ]
    },
    {
     "name": "stderr",
     "output_type": "stream",
     "text": [
      " 35%|███▍      | 119/344 [35:04<1:06:14, 17.67s/it]"
     ]
    },
    {
     "name": "stdout",
     "output_type": "stream",
     "text": [
      "For epoch 576: \n",
      "{Learning rate: [0.0006140092784151487]}\n"
     ]
    },
    {
     "name": "stderr",
     "output_type": "stream",
     "text": [
      "Train batch number 99: 100%|██████████| 99/99 [00:12<00:00,  7.92batches/s]\n",
      "Test batch number 13: 100%|██████████| 13/13 [00:03<00:00,  4.03batches/s]\n"
     ]
    },
    {
     "name": "stdout",
     "output_type": "stream",
     "text": [
      "\n",
      "Metrics: {'train_loss': 0.0056501287899939625, 'test_loss': 2.0606580605873694, 'bleu': 22.3061, 'gen_len': 9.9899}\n",
      "\n",
      "=============================\n",
      "\n"
     ]
    },
    {
     "name": "stderr",
     "output_type": "stream",
     "text": [
      " 35%|███▍      | 120/344 [35:22<1:05:46, 17.62s/it]"
     ]
    },
    {
     "name": "stdout",
     "output_type": "stream",
     "text": [
      "For epoch 577: \n",
      "{Learning rate: [0.0006093483877538557]}\n"
     ]
    },
    {
     "name": "stderr",
     "output_type": "stream",
     "text": [
      "Train batch number 99: 100%|██████████| 99/99 [00:12<00:00,  7.79batches/s]\n",
      "Test batch number 13: 100%|██████████| 13/13 [00:03<00:00,  3.82batches/s]\n"
     ]
    },
    {
     "name": "stdout",
     "output_type": "stream",
     "text": [
      "\n",
      "Metrics: {'train_loss': 0.005752176651672338, 'test_loss': 2.057765080378606, 'bleu': 22.3649, 'gen_len': 9.9848}\n",
      "\n",
      "=============================\n",
      "\n"
     ]
    },
    {
     "name": "stderr",
     "output_type": "stream",
     "text": [
      " 35%|███▌      | 121/344 [35:40<1:05:50, 17.72s/it]"
     ]
    },
    {
     "name": "stdout",
     "output_type": "stream",
     "text": [
      "For epoch 578: \n",
      "{Learning rate: [0.0006047007850373203]}\n"
     ]
    },
    {
     "name": "stderr",
     "output_type": "stream",
     "text": [
      "Train batch number 99: 100%|██████████| 99/99 [00:12<00:00,  7.77batches/s]\n",
      "Test batch number 13: 100%|██████████| 13/13 [00:03<00:00,  3.99batches/s]\n"
     ]
    },
    {
     "name": "stdout",
     "output_type": "stream",
     "text": [
      "\n",
      "Metrics: {'train_loss': 0.005789866653621441, 'test_loss': 2.058389590336726, 'bleu': 22.4073, 'gen_len': 9.9747}\n",
      "\n",
      "=============================\n",
      "\n"
     ]
    },
    {
     "name": "stderr",
     "output_type": "stream",
     "text": [
      " 35%|███▌      | 122/344 [35:57<1:05:38, 17.74s/it]"
     ]
    },
    {
     "name": "stdout",
     "output_type": "stream",
     "text": [
      "For epoch 579: \n",
      "{Learning rate: [0.0006000665387095502]}\n"
     ]
    },
    {
     "name": "stderr",
     "output_type": "stream",
     "text": [
      "Train batch number 99: 100%|██████████| 99/99 [00:12<00:00,  7.83batches/s]\n",
      "Test batch number 13: 100%|██████████| 13/13 [00:03<00:00,  4.03batches/s]\n"
     ]
    },
    {
     "name": "stdout",
     "output_type": "stream",
     "text": [
      "\n",
      "Metrics: {'train_loss': 0.005821152253463309, 'test_loss': 2.057527028597318, 'bleu': 22.2552, 'gen_len': 9.9798}\n",
      "\n",
      "=============================\n",
      "\n"
     ]
    },
    {
     "name": "stderr",
     "output_type": "stream",
     "text": [
      " 36%|███▌      | 123/344 [36:15<1:05:20, 17.74s/it]"
     ]
    },
    {
     "name": "stdout",
     "output_type": "stream",
     "text": [
      "For epoch 580: \n",
      "{Learning rate: [0.0005954457170178572]}\n"
     ]
    },
    {
     "name": "stderr",
     "output_type": "stream",
     "text": [
      "Train batch number 99: 100%|██████████| 99/99 [00:12<00:00,  7.78batches/s]\n",
      "Test batch number 13: 100%|██████████| 13/13 [00:03<00:00,  3.86batches/s]\n"
     ]
    },
    {
     "name": "stdout",
     "output_type": "stream",
     "text": [
      "\n",
      "Metrics: {'train_loss': 0.005735758686734533, 'test_loss': 2.050008782973656, 'bleu': 22.5279, 'gen_len': 9.8838}\n",
      "\n",
      "=============================\n",
      "\n"
     ]
    },
    {
     "name": "stderr",
     "output_type": "stream",
     "text": [
      " 36%|███▌      | 124/344 [36:33<1:05:13, 17.79s/it]"
     ]
    },
    {
     "name": "stdout",
     "output_type": "stream",
     "text": [
      "For epoch 581: \n",
      "{Learning rate: [0.0005908383880118501]}\n"
     ]
    },
    {
     "name": "stderr",
     "output_type": "stream",
     "text": [
      "Train batch number 99: 100%|██████████| 99/99 [00:12<00:00,  7.81batches/s]\n",
      "Test batch number 13: 100%|██████████| 13/13 [00:03<00:00,  4.06batches/s]\n"
     ]
    },
    {
     "name": "stdout",
     "output_type": "stream",
     "text": [
      "\n",
      "Metrics: {'train_loss': 0.005792275470219355, 'test_loss': 2.0567765602698693, 'bleu': 22.0006, 'gen_len': 9.899}\n",
      "\n",
      "=============================\n",
      "\n"
     ]
    },
    {
     "name": "stderr",
     "output_type": "stream",
     "text": [
      " 36%|███▋      | 125/344 [36:51<1:04:50, 17.76s/it]"
     ]
    },
    {
     "name": "stdout",
     "output_type": "stream",
     "text": [
      "For epoch 582: \n",
      "{Learning rate: [0.0005862446195424364]}\n"
     ]
    },
    {
     "name": "stderr",
     "output_type": "stream",
     "text": [
      "Train batch number 99: 100%|██████████| 99/99 [00:12<00:00,  7.97batches/s]\n",
      "Test batch number 13: 100%|██████████| 13/13 [00:03<00:00,  3.82batches/s]\n"
     ]
    },
    {
     "name": "stdout",
     "output_type": "stream",
     "text": [
      "\n",
      "Metrics: {'train_loss': 0.005779437486181092, 'test_loss': 2.055293871806218, 'bleu': 22.7009, 'gen_len': 9.8586}\n",
      "\n",
      "=============================\n",
      "\n"
     ]
    },
    {
     "name": "stderr",
     "output_type": "stream",
     "text": [
      " 37%|███▋      | 126/344 [37:08<1:04:25, 17.73s/it]"
     ]
    },
    {
     "name": "stdout",
     "output_type": "stream",
     "text": [
      "For epoch 583: \n",
      "{Learning rate: [0.0005816644792608215]}\n"
     ]
    },
    {
     "name": "stderr",
     "output_type": "stream",
     "text": [
      "Train batch number 99: 100%|██████████| 99/99 [00:12<00:00,  7.71batches/s]\n",
      "Test batch number 13: 100%|██████████| 13/13 [00:03<00:00,  3.86batches/s]\n"
     ]
    },
    {
     "name": "stdout",
     "output_type": "stream",
     "text": [
      "\n",
      "Metrics: {'train_loss': 0.00568752652201731, 'test_loss': 2.054673983500554, 'bleu': 22.553, 'gen_len': 9.8788}\n",
      "\n",
      "=============================\n",
      "\n"
     ]
    },
    {
     "name": "stderr",
     "output_type": "stream",
     "text": [
      " 37%|███▋      | 127/344 [37:27<1:04:43, 17.90s/it]"
     ]
    },
    {
     "name": "stdout",
     "output_type": "stream",
     "text": [
      "For epoch 584: \n",
      "{Learning rate: [0.0005770980346175097]}\n"
     ]
    },
    {
     "name": "stderr",
     "output_type": "stream",
     "text": [
      "Train batch number 99: 100%|██████████| 99/99 [00:12<00:00,  7.98batches/s]\n",
      "Test batch number 13: 100%|██████████| 13/13 [00:03<00:00,  3.84batches/s]\n"
     ]
    },
    {
     "name": "stdout",
     "output_type": "stream",
     "text": [
      "\n",
      "Metrics: {'train_loss': 0.005663515005752825, 'test_loss': 2.057766556739807, 'bleu': 22.5926, 'gen_len': 9.8838}\n",
      "\n",
      "=============================\n",
      "\n"
     ]
    },
    {
     "name": "stderr",
     "output_type": "stream",
     "text": [
      " 37%|███▋      | 128/344 [37:44<1:04:02, 17.79s/it]"
     ]
    },
    {
     "name": "stdout",
     "output_type": "stream",
     "text": [
      "For epoch 585: \n",
      "{Learning rate: [0.0005725453528613164]}\n"
     ]
    },
    {
     "name": "stderr",
     "output_type": "stream",
     "text": [
      "Train batch number 99: 100%|██████████| 99/99 [00:12<00:00,  7.74batches/s]\n",
      "Test batch number 13: 100%|██████████| 13/13 [00:03<00:00,  3.99batches/s]\n"
     ]
    },
    {
     "name": "stdout",
     "output_type": "stream",
     "text": [
      "\n",
      "Metrics: {'train_loss': 0.005621259508335803, 'test_loss': 2.0594448217978845, 'bleu': 22.4699, 'gen_len': 9.9192}\n",
      "\n",
      "=============================\n",
      "\n"
     ]
    },
    {
     "name": "stderr",
     "output_type": "stream",
     "text": [
      " 38%|███▊      | 129/344 [38:02<1:03:51, 17.82s/it]"
     ]
    },
    {
     "name": "stdout",
     "output_type": "stream",
     "text": [
      "For epoch 586: \n",
      "{Learning rate: [0.0005680065010383717]}\n"
     ]
    },
    {
     "name": "stderr",
     "output_type": "stream",
     "text": [
      "Train batch number 99: 100%|██████████| 99/99 [00:12<00:00,  7.93batches/s]\n",
      "Test batch number 13: 100%|██████████| 13/13 [00:03<00:00,  3.86batches/s]\n"
     ]
    },
    {
     "name": "stdout",
     "output_type": "stream",
     "text": [
      "\n",
      "Metrics: {'train_loss': 0.005623768618497339, 'test_loss': 2.055798585598285, 'bleu': 22.7209, 'gen_len': 9.8283}\n",
      "\n",
      "=============================\n",
      "\n"
     ]
    },
    {
     "name": "stderr",
     "output_type": "stream",
     "text": [
      " 38%|███▊      | 130/344 [38:20<1:03:19, 17.76s/it]"
     ]
    },
    {
     "name": "stdout",
     "output_type": "stream",
     "text": [
      "For epoch 587: \n",
      "{Learning rate: [0.0005634815459911382]}\n"
     ]
    },
    {
     "name": "stderr",
     "output_type": "stream",
     "text": [
      "Train batch number 99: 100%|██████████| 99/99 [00:12<00:00,  7.88batches/s]\n",
      "Test batch number 13: 100%|██████████| 13/13 [00:03<00:00,  3.83batches/s]\n"
     ]
    },
    {
     "name": "stdout",
     "output_type": "stream",
     "text": [
      "\n",
      "Metrics: {'train_loss': 0.005641887233944756, 'test_loss': 2.057763548997732, 'bleu': 22.7377, 'gen_len': 9.7626}\n",
      "\n",
      "=============================\n",
      "\n"
     ]
    },
    {
     "name": "stderr",
     "output_type": "stream",
     "text": [
      " 38%|███▊      | 131/344 [38:38<1:03:08, 17.79s/it]"
     ]
    },
    {
     "name": "stdout",
     "output_type": "stream",
     "text": [
      "For epoch 588: \n",
      "{Learning rate: [0.0005589705543574234]}\n"
     ]
    },
    {
     "name": "stderr",
     "output_type": "stream",
     "text": [
      "Train batch number 99: 100%|██████████| 99/99 [00:12<00:00,  7.98batches/s]\n",
      "Test batch number 13: 100%|██████████| 13/13 [00:03<00:00,  3.99batches/s]\n"
     ]
    },
    {
     "name": "stdout",
     "output_type": "stream",
     "text": [
      "\n",
      "Metrics: {'train_loss': 0.005744099529692903, 'test_loss': 2.0566120514502892, 'bleu': 22.1357, 'gen_len': 9.7778}\n",
      "\n",
      "=============================\n",
      "\n"
     ]
    },
    {
     "name": "stderr",
     "output_type": "stream",
     "text": [
      " 38%|███▊      | 132/344 [38:55<1:02:32, 17.70s/it]"
     ]
    },
    {
     "name": "stdout",
     "output_type": "stream",
     "text": [
      "For epoch 589: \n",
      "{Learning rate: [0.0005544735925693986]}\n"
     ]
    },
    {
     "name": "stderr",
     "output_type": "stream",
     "text": [
      "Train batch number 99: 100%|██████████| 99/99 [00:12<00:00,  7.91batches/s]\n",
      "Test batch number 13: 100%|██████████| 13/13 [00:03<00:00,  3.87batches/s]\n"
     ]
    },
    {
     "name": "stdout",
     "output_type": "stream",
     "text": [
      "\n",
      "Metrics: {'train_loss': 0.005759653406681592, 'test_loss': 2.060338653050936, 'bleu': 22.1296, 'gen_len': 9.7727}\n",
      "\n",
      "=============================\n",
      "\n"
     ]
    },
    {
     "name": "stderr",
     "output_type": "stream",
     "text": [
      " 39%|███▊      | 133/344 [39:13<1:02:15, 17.70s/it]"
     ]
    },
    {
     "name": "stdout",
     "output_type": "stream",
     "text": [
      "For epoch 590: \n",
      "{Learning rate: [0.0005499907268526227]}\n"
     ]
    },
    {
     "name": "stderr",
     "output_type": "stream",
     "text": [
      "Train batch number 99: 100%|██████████| 99/99 [00:12<00:00,  7.92batches/s]\n",
      "Test batch number 13: 100%|██████████| 13/13 [00:03<00:00,  3.85batches/s]\n"
     ]
    },
    {
     "name": "stdout",
     "output_type": "stream",
     "text": [
      "\n",
      "Metrics: {'train_loss': 0.005741771461378614, 'test_loss': 2.0617052041567288, 'bleu': 22.371, 'gen_len': 9.8081}\n",
      "\n",
      "=============================\n",
      "\n"
     ]
    },
    {
     "name": "stderr",
     "output_type": "stream",
     "text": [
      " 39%|███▉      | 134/344 [39:30<1:01:57, 17.70s/it]"
     ]
    },
    {
     "name": "stdout",
     "output_type": "stream",
     "text": [
      "For epoch 591: \n",
      "{Learning rate: [0.0005455220232250655]}\n"
     ]
    },
    {
     "name": "stderr",
     "output_type": "stream",
     "text": [
      "Train batch number 99: 100%|██████████| 99/99 [00:12<00:00,  7.88batches/s]\n",
      "Test batch number 13: 100%|██████████| 13/13 [00:03<00:00,  4.00batches/s]\n"
     ]
    },
    {
     "name": "stdout",
     "output_type": "stream",
     "text": [
      "\n",
      "Metrics: {'train_loss': 0.005822654153547259, 'test_loss': 2.0610317175204935, 'bleu': 22.1816, 'gen_len': 9.8182}\n",
      "\n",
      "=============================\n",
      "\n"
     ]
    },
    {
     "name": "stderr",
     "output_type": "stream",
     "text": [
      " 39%|███▉      | 135/344 [39:48<1:01:39, 17.70s/it]"
     ]
    },
    {
     "name": "stdout",
     "output_type": "stream",
     "text": [
      "For epoch 592: \n",
      "{Learning rate: [0.0005410675474961338]}\n"
     ]
    },
    {
     "name": "stderr",
     "output_type": "stream",
     "text": [
      "Train batch number 99: 100%|██████████| 99/99 [00:12<00:00,  7.92batches/s]\n",
      "Test batch number 13: 100%|██████████| 13/13 [00:03<00:00,  3.87batches/s]\n"
     ]
    },
    {
     "name": "stdout",
     "output_type": "stream",
     "text": [
      "\n",
      "Metrics: {'train_loss': 0.005676112600456396, 'test_loss': 2.062053552040687, 'bleu': 22.3486, 'gen_len': 9.8232}\n",
      "\n",
      "=============================\n",
      "\n"
     ]
    },
    {
     "name": "stderr",
     "output_type": "stream",
     "text": [
      " 40%|███▉      | 136/344 [40:06<1:01:22, 17.71s/it]"
     ]
    },
    {
     "name": "stdout",
     "output_type": "stream",
     "text": [
      "For epoch 593: \n",
      "{Learning rate: [0.0005366273652657063]}\n"
     ]
    },
    {
     "name": "stderr",
     "output_type": "stream",
     "text": [
      "Train batch number 99: 100%|██████████| 99/99 [00:12<00:00,  7.77batches/s]\n",
      "Test batch number 13: 100%|██████████| 13/13 [00:03<00:00,  4.06batches/s]\n"
     ]
    },
    {
     "name": "stdout",
     "output_type": "stream",
     "text": [
      "\n",
      "Metrics: {'train_loss': 0.005671590296028304, 'test_loss': 2.0629142889609704, 'bleu': 22.3824, 'gen_len': 9.8232}\n",
      "\n",
      "=============================\n",
      "\n"
     ]
    },
    {
     "name": "stderr",
     "output_type": "stream",
     "text": [
      " 40%|███▉      | 137/344 [40:24<1:01:07, 17.72s/it]"
     ]
    },
    {
     "name": "stdout",
     "output_type": "stream",
     "text": [
      "For epoch 594: \n",
      "{Learning rate: [0.0005322015419231626]}\n"
     ]
    },
    {
     "name": "stderr",
     "output_type": "stream",
     "text": [
      "Train batch number 99: 100%|██████████| 99/99 [00:12<00:00,  7.97batches/s]\n",
      "Test batch number 13: 100%|██████████| 13/13 [00:03<00:00,  4.05batches/s]\n"
     ]
    },
    {
     "name": "stdout",
     "output_type": "stream",
     "text": [
      "\n",
      "Metrics: {'train_loss': 0.005547015262827056, 'test_loss': 2.0596839556327233, 'bleu': 22.3379, 'gen_len': 9.8232}\n",
      "\n",
      "=============================\n",
      "\n"
     ]
    },
    {
     "name": "stderr",
     "output_type": "stream",
     "text": [
      " 40%|████      | 138/344 [40:41<1:00:33, 17.64s/it]"
     ]
    },
    {
     "name": "stdout",
     "output_type": "stream",
     "text": [
      "For epoch 595: \n",
      "{Learning rate: [0.0005277901426464248]}\n"
     ]
    },
    {
     "name": "stderr",
     "output_type": "stream",
     "text": [
      "Train batch number 99: 100%|██████████| 99/99 [00:12<00:00,  8.00batches/s]\n",
      "Test batch number 13: 100%|██████████| 13/13 [00:03<00:00,  4.08batches/s]\n"
     ]
    },
    {
     "name": "stdout",
     "output_type": "stream",
     "text": [
      "\n",
      "Metrics: {'train_loss': 0.005742296440094107, 'test_loss': 2.063387008813711, 'bleu': 22.6659, 'gen_len': 9.803}\n",
      "\n",
      "=============================\n",
      "\n"
     ]
    },
    {
     "name": "stderr",
     "output_type": "stream",
     "text": [
      " 40%|████      | 139/344 [40:58<59:59, 17.56s/it]  "
     ]
    },
    {
     "name": "stdout",
     "output_type": "stream",
     "text": [
      "For epoch 596: \n",
      "{Learning rate: [0.0005233932324009953]}\n"
     ]
    },
    {
     "name": "stderr",
     "output_type": "stream",
     "text": [
      "Train batch number 99: 100%|██████████| 99/99 [00:12<00:00,  7.99batches/s]\n",
      "Test batch number 13: 100%|██████████| 13/13 [00:03<00:00,  3.87batches/s]\n"
     ]
    },
    {
     "name": "stdout",
     "output_type": "stream",
     "text": [
      "\n",
      "Metrics: {'train_loss': 0.005644395035830317, 'test_loss': 2.060225110787612, 'bleu': 22.0275, 'gen_len': 9.8232}\n",
      "\n",
      "=============================\n",
      "\n"
     ]
    },
    {
     "name": "stderr",
     "output_type": "stream",
     "text": [
      " 41%|████      | 140/344 [41:16<59:46, 17.58s/it]"
     ]
    },
    {
     "name": "stdout",
     "output_type": "stream",
     "text": [
      "For epoch 597: \n",
      "{Learning rate: [0.0005190108759389989]}\n"
     ]
    },
    {
     "name": "stderr",
     "output_type": "stream",
     "text": [
      "Train batch number 99: 100%|██████████| 99/99 [00:12<00:00,  7.80batches/s]\n",
      "Test batch number 13: 100%|██████████| 13/13 [00:03<00:00,  4.02batches/s]\n"
     ]
    },
    {
     "name": "stdout",
     "output_type": "stream",
     "text": [
      "\n",
      "Metrics: {'train_loss': 0.0056699958073993615, 'test_loss': 2.06299993625054, 'bleu': 21.73, 'gen_len': 9.7677}\n",
      "\n",
      "=============================\n",
      "\n"
     ]
    },
    {
     "name": "stderr",
     "output_type": "stream",
     "text": [
      " 41%|████      | 141/344 [41:34<59:44, 17.66s/it]"
     ]
    },
    {
     "name": "stdout",
     "output_type": "stream",
     "text": [
      "For epoch 598: \n",
      "{Learning rate: [0.0005146431377982329]}\n"
     ]
    },
    {
     "name": "stderr",
     "output_type": "stream",
     "text": [
      "Train batch number 99: 100%|██████████| 99/99 [00:12<00:00,  7.99batches/s]\n",
      "Test batch number 13: 100%|██████████| 13/13 [00:03<00:00,  4.04batches/s]\n"
     ]
    },
    {
     "name": "stdout",
     "output_type": "stream",
     "text": [
      "\n",
      "Metrics: {'train_loss': 0.005704555660927188, 'test_loss': 2.0603465025241556, 'bleu': 22.0108, 'gen_len': 9.8081}\n",
      "\n",
      "=============================\n",
      "\n"
     ]
    },
    {
     "name": "stderr",
     "output_type": "stream",
     "text": [
      " 41%|████▏     | 142/344 [41:51<59:16, 17.60s/it]"
     ]
    },
    {
     "name": "stdout",
     "output_type": "stream",
     "text": [
      "For epoch 599: \n",
      "{Learning rate: [0.0005102900823012131]}\n"
     ]
    },
    {
     "name": "stderr",
     "output_type": "stream",
     "text": [
      "Train batch number 99: 100%|██████████| 99/99 [00:12<00:00,  7.99batches/s]\n",
      "Test batch number 13: 100%|██████████| 13/13 [00:03<00:00,  4.02batches/s]\n"
     ]
    },
    {
     "name": "stdout",
     "output_type": "stream",
     "text": [
      "\n",
      "Metrics: {'train_loss': 0.0056412471345134284, 'test_loss': 2.060047745704651, 'bleu': 22.0416, 'gen_len': 9.803}\n",
      "\n",
      "=============================\n",
      "\n"
     ]
    },
    {
     "name": "stderr",
     "output_type": "stream",
     "text": [
      " 42%|████▏     | 143/344 [42:09<58:48, 17.55s/it]"
     ]
    },
    {
     "name": "stdout",
     "output_type": "stream",
     "text": [
      "For epoch 600: \n",
      "{Learning rate: [0.0005059517735542278]}\n"
     ]
    },
    {
     "name": "stderr",
     "output_type": "stream",
     "text": [
      "Train batch number 99: 100%|██████████| 99/99 [00:12<00:00,  7.94batches/s]\n",
      "Test batch number 13: 100%|██████████| 13/13 [00:03<00:00,  4.05batches/s]\n"
     ]
    },
    {
     "name": "stdout",
     "output_type": "stream",
     "text": [
      "\n",
      "Metrics: {'train_loss': 0.005644055173057366, 'test_loss': 2.064785755597628, 'bleu': 22.0478, 'gen_len': 9.8788}\n",
      "\n",
      "=============================\n",
      "\n"
     ]
    },
    {
     "name": "stderr",
     "output_type": "stream",
     "text": [
      " 42%|████▏     | 144/344 [42:26<58:25, 17.53s/it]"
     ]
    },
    {
     "name": "stdout",
     "output_type": "stream",
     "text": [
      "For epoch 601: \n",
      "{Learning rate: [0.0005016282754463948]}\n"
     ]
    },
    {
     "name": "stderr",
     "output_type": "stream",
     "text": [
      "Train batch number 99: 100%|██████████| 99/99 [00:12<00:00,  7.81batches/s]\n",
      "Test batch number 13: 100%|██████████| 13/13 [00:03<00:00,  4.06batches/s]\n"
     ]
    },
    {
     "name": "stdout",
     "output_type": "stream",
     "text": [
      "\n",
      "Metrics: {'train_loss': 0.005651181963251226, 'test_loss': 2.0654708055349498, 'bleu': 21.9944, 'gen_len': 9.8889}\n",
      "\n",
      "=============================\n",
      "\n"
     ]
    },
    {
     "name": "stderr",
     "output_type": "stream",
     "text": [
      " 42%|████▏     | 145/344 [42:44<58:18, 17.58s/it]"
     ]
    },
    {
     "name": "stdout",
     "output_type": "stream",
     "text": [
      "For epoch 602: \n",
      "{Learning rate: [0.0004973196516487189]}\n"
     ]
    },
    {
     "name": "stderr",
     "output_type": "stream",
     "text": [
      "Train batch number 99: 100%|██████████| 99/99 [00:12<00:00,  7.73batches/s]\n",
      "Test batch number 13: 100%|██████████| 13/13 [00:03<00:00,  3.89batches/s]\n"
     ]
    },
    {
     "name": "stdout",
     "output_type": "stream",
     "text": [
      "\n",
      "Metrics: {'train_loss': 0.005715672855266614, 'test_loss': 2.0675643590780406, 'bleu': 22.0307, 'gen_len': 9.8838}\n",
      "\n",
      "=============================\n",
      "\n"
     ]
    },
    {
     "name": "stderr",
     "output_type": "stream",
     "text": [
      " 42%|████▏     | 146/344 [43:02<58:24, 17.70s/it]"
     ]
    },
    {
     "name": "stdout",
     "output_type": "stream",
     "text": [
      "For epoch 603: \n",
      "{Learning rate: [0.0004930259656131542]}\n"
     ]
    },
    {
     "name": "stderr",
     "output_type": "stream",
     "text": [
      "Train batch number 99: 100%|██████████| 99/99 [00:12<00:00,  7.65batches/s]\n",
      "Test batch number 13: 100%|██████████| 13/13 [00:03<00:00,  3.88batches/s]\n"
     ]
    },
    {
     "name": "stdout",
     "output_type": "stream",
     "text": [
      "\n",
      "Metrics: {'train_loss': 0.005629906766710455, 'test_loss': 2.0649215349784265, 'bleu': 21.931, 'gen_len': 9.8081}\n",
      "\n",
      "=============================\n",
      "\n"
     ]
    },
    {
     "name": "stderr",
     "output_type": "stream",
     "text": [
      " 43%|████▎     | 147/344 [43:20<58:29, 17.81s/it]"
     ]
    },
    {
     "name": "stdout",
     "output_type": "stream",
     "text": [
      "For epoch 604: \n",
      "{Learning rate: [0.0004887472805716727]}\n"
     ]
    },
    {
     "name": "stderr",
     "output_type": "stream",
     "text": [
      "Train batch number 99: 100%|██████████| 99/99 [00:12<00:00,  7.96batches/s]\n",
      "Test batch number 13: 100%|██████████| 13/13 [00:03<00:00,  4.01batches/s]\n"
     ]
    },
    {
     "name": "stdout",
     "output_type": "stream",
     "text": [
      "\n",
      "Metrics: {'train_loss': 0.005633608997514885, 'test_loss': 2.06955872132228, 'bleu': 21.8443, 'gen_len': 9.7727}\n",
      "\n",
      "=============================\n",
      "\n"
     ]
    },
    {
     "name": "stderr",
     "output_type": "stream",
     "text": [
      " 43%|████▎     | 148/344 [43:37<57:48, 17.70s/it]"
     ]
    },
    {
     "name": "stdout",
     "output_type": "stream",
     "text": [
      "For epoch 605: \n",
      "{Learning rate: [0.00048448365953532746]}\n"
     ]
    },
    {
     "name": "stderr",
     "output_type": "stream",
     "text": [
      "Train batch number 99: 100%|██████████| 99/99 [00:12<00:00,  8.00batches/s]\n",
      "Test batch number 13: 100%|██████████| 13/13 [00:03<00:00,  4.02batches/s]\n"
     ]
    },
    {
     "name": "stdout",
     "output_type": "stream",
     "text": [
      "\n",
      "Metrics: {'train_loss': 0.005689571896594987, 'test_loss': 2.064252780033992, 'bleu': 21.7915, 'gen_len': 9.8182}\n",
      "\n",
      "=============================\n",
      "\n"
     ]
    },
    {
     "name": "stderr",
     "output_type": "stream",
     "text": [
      " 43%|████▎     | 149/344 [43:55<57:16, 17.62s/it]"
     ]
    },
    {
     "name": "stdout",
     "output_type": "stream",
     "text": [
      "For epoch 606: \n",
      "{Learning rate: [0.00048023516529333086]}\n"
     ]
    },
    {
     "name": "stderr",
     "output_type": "stream",
     "text": [
      "Train batch number 99: 100%|██████████| 99/99 [00:12<00:00,  7.74batches/s]\n",
      "Test batch number 13: 100%|██████████| 13/13 [00:03<00:00,  3.85batches/s]\n"
     ]
    },
    {
     "name": "stdout",
     "output_type": "stream",
     "text": [
      "\n",
      "Metrics: {'train_loss': 0.005640314355718367, 'test_loss': 2.0644266513677745, 'bleu': 21.9933, 'gen_len': 9.7929}\n",
      "\n",
      "=============================\n",
      "\n"
     ]
    },
    {
     "name": "stderr",
     "output_type": "stream",
     "text": [
      " 44%|████▎     | 150/344 [44:13<57:17, 17.72s/it]"
     ]
    },
    {
     "name": "stdout",
     "output_type": "stream",
     "text": [
      "For epoch 607: \n",
      "{Learning rate: [0.0004760018604121259]}\n"
     ]
    },
    {
     "name": "stderr",
     "output_type": "stream",
     "text": [
      "Train batch number 99: 100%|██████████| 99/99 [00:12<00:00,  7.90batches/s]\n",
      "Test batch number 13: 100%|██████████| 13/13 [00:03<00:00,  3.88batches/s]\n"
     ]
    },
    {
     "name": "stdout",
     "output_type": "stream",
     "text": [
      "\n",
      "Metrics: {'train_loss': 0.005574997346183859, 'test_loss': 2.064720346377446, 'bleu': 21.4824, 'gen_len': 9.803}\n",
      "\n",
      "=============================\n",
      "\n"
     ]
    },
    {
     "name": "stderr",
     "output_type": "stream",
     "text": [
      " 44%|████▍     | 151/344 [44:30<56:55, 17.70s/it]"
     ]
    },
    {
     "name": "stdout",
     "output_type": "stream",
     "text": [
      "For epoch 608: \n",
      "{Learning rate: [0.00047178380723446534]}\n"
     ]
    },
    {
     "name": "stderr",
     "output_type": "stream",
     "text": [
      "Train batch number 99: 100%|██████████| 99/99 [00:12<00:00,  7.83batches/s]\n",
      "Test batch number 13: 100%|██████████| 13/13 [00:03<00:00,  3.84batches/s]\n"
     ]
    },
    {
     "name": "stdout",
     "output_type": "stream",
     "text": [
      "\n",
      "Metrics: {'train_loss': 0.0057353723876241765, 'test_loss': 2.0646075927294216, 'bleu': 21.7199, 'gen_len': 9.9394}\n",
      "\n",
      "=============================\n",
      "\n"
     ]
    },
    {
     "name": "stderr",
     "output_type": "stream",
     "text": [
      " 44%|████▍     | 152/344 [44:48<56:49, 17.76s/it]"
     ]
    },
    {
     "name": "stdout",
     "output_type": "stream",
     "text": [
      "For epoch 609: \n",
      "{Learning rate: [0.0004675810678784952]}\n"
     ]
    },
    {
     "name": "stderr",
     "output_type": "stream",
     "text": [
      "Train batch number 99: 100%|██████████| 99/99 [00:12<00:00,  7.98batches/s]\n",
      "Test batch number 13: 100%|██████████| 13/13 [00:03<00:00,  3.99batches/s]\n"
     ]
    },
    {
     "name": "stdout",
     "output_type": "stream",
     "text": [
      "\n",
      "Metrics: {'train_loss': 0.005540820234190588, 'test_loss': 2.0686623133145847, 'bleu': 22.0867, 'gen_len': 9.9343}\n",
      "\n",
      "=============================\n",
      "\n"
     ]
    },
    {
     "name": "stderr",
     "output_type": "stream",
     "text": [
      " 44%|████▍     | 153/344 [45:06<56:15, 17.67s/it]"
     ]
    },
    {
     "name": "stdout",
     "output_type": "stream",
     "text": [
      "For epoch 610: \n",
      "{Learning rate: [0.0004633937042368378]}\n"
     ]
    },
    {
     "name": "stderr",
     "output_type": "stream",
     "text": [
      "Train batch number 99: 100%|██████████| 99/99 [00:12<00:00,  7.98batches/s]\n",
      "Test batch number 13: 100%|██████████| 13/13 [00:03<00:00,  4.02batches/s]\n"
     ]
    },
    {
     "name": "stdout",
     "output_type": "stream",
     "text": [
      "\n",
      "Metrics: {'train_loss': 0.005615319267125222, 'test_loss': 2.0670888882416945, 'bleu': 22.0723, 'gen_len': 9.8434}\n",
      "\n",
      "=============================\n",
      "\n"
     ]
    },
    {
     "name": "stderr",
     "output_type": "stream",
     "text": [
      " 45%|████▍     | 154/344 [45:23<55:45, 17.61s/it]"
     ]
    },
    {
     "name": "stdout",
     "output_type": "stream",
     "text": [
      "For epoch 611: \n",
      "{Learning rate: [0.00045922177797568225]}\n"
     ]
    },
    {
     "name": "stderr",
     "output_type": "stream",
     "text": [
      "Train batch number 99: 100%|██████████| 99/99 [00:12<00:00,  7.69batches/s]\n",
      "Test batch number 13: 100%|██████████| 13/13 [00:03<00:00,  4.00batches/s]\n"
     ]
    },
    {
     "name": "stdout",
     "output_type": "stream",
     "text": [
      "\n",
      "Metrics: {'train_loss': 0.005510768996001306, 'test_loss': 2.0675687331419725, 'bleu': 22.3583, 'gen_len': 9.8434}\n",
      "\n",
      "=============================\n",
      "\n"
     ]
    },
    {
     "name": "stderr",
     "output_type": "stream",
     "text": [
      " 45%|████▌     | 155/344 [45:41<55:46, 17.71s/it]"
     ]
    },
    {
     "name": "stdout",
     "output_type": "stream",
     "text": [
      "For epoch 612: \n",
      "{Learning rate: [0.00045506535053387595]}\n"
     ]
    },
    {
     "name": "stderr",
     "output_type": "stream",
     "text": [
      "Train batch number 99: 100%|██████████| 99/99 [00:12<00:00,  7.91batches/s]\n",
      "Test batch number 13: 100%|██████████| 13/13 [00:03<00:00,  3.95batches/s]\n"
     ]
    },
    {
     "name": "stdout",
     "output_type": "stream",
     "text": [
      "\n",
      "Metrics: {'train_loss': 0.005533402299419083, 'test_loss': 2.065013913007883, 'bleu': 22.1152, 'gen_len': 9.9091}\n",
      "\n",
      "=============================\n",
      "\n"
     ]
    },
    {
     "name": "stderr",
     "output_type": "stream",
     "text": [
      " 45%|████▌     | 156/344 [45:59<55:23, 17.68s/it]"
     ]
    },
    {
     "name": "stdout",
     "output_type": "stream",
     "text": [
      "For epoch 613: \n",
      "{Learning rate: [0.00045092448312201766]}\n"
     ]
    },
    {
     "name": "stderr",
     "output_type": "stream",
     "text": [
      "Train batch number 99: 100%|██████████| 99/99 [00:12<00:00,  7.80batches/s]\n",
      "Test batch number 13: 100%|██████████| 13/13 [00:03<00:00,  3.83batches/s]\n"
     ]
    },
    {
     "name": "stdout",
     "output_type": "stream",
     "text": [
      "\n",
      "Metrics: {'train_loss': 0.005491069733515626, 'test_loss': 2.062157071553744, 'bleu': 22.1432, 'gen_len': 9.8889}\n",
      "\n",
      "=============================\n",
      "\n"
     ]
    },
    {
     "name": "stderr",
     "output_type": "stream",
     "text": [
      " 46%|████▌     | 157/344 [46:17<55:18, 17.75s/it]"
     ]
    },
    {
     "name": "stdout",
     "output_type": "stream",
     "text": [
      "For epoch 614: \n",
      "{Learning rate: [0.0004467992367215596]}\n"
     ]
    },
    {
     "name": "stderr",
     "output_type": "stream",
     "text": [
      "Train batch number 99: 100%|██████████| 99/99 [00:12<00:00,  7.93batches/s]\n",
      "Test batch number 13: 100%|██████████| 13/13 [00:03<00:00,  3.96batches/s]\n"
     ]
    },
    {
     "name": "stdout",
     "output_type": "stream",
     "text": [
      "\n",
      "Metrics: {'train_loss': 0.005497646347544335, 'test_loss': 2.0646531856977024, 'bleu': 22.095, 'gen_len': 9.8636}\n",
      "\n",
      "=============================\n",
      "\n"
     ]
    },
    {
     "name": "stderr",
     "output_type": "stream",
     "text": [
      " 46%|████▌     | 158/344 [46:34<54:49, 17.69s/it]"
     ]
    },
    {
     "name": "stdout",
     "output_type": "stream",
     "text": [
      "For epoch 615: \n",
      "{Learning rate: [0.0004426896720839055]}\n"
     ]
    },
    {
     "name": "stderr",
     "output_type": "stream",
     "text": [
      "Train batch number 99: 100%|██████████| 99/99 [00:12<00:00,  7.73batches/s]\n",
      "Test batch number 13: 100%|██████████| 13/13 [00:03<00:00,  3.83batches/s]\n"
     ]
    },
    {
     "name": "stdout",
     "output_type": "stream",
     "text": [
      "\n",
      "Metrics: {'train_loss': 0.005562362207171526, 'test_loss': 2.0644265688382664, 'bleu': 21.7956, 'gen_len': 9.8737}\n",
      "\n",
      "=============================\n",
      "\n"
     ]
    },
    {
     "name": "stderr",
     "output_type": "stream",
     "text": [
      " 46%|████▌     | 159/344 [46:52<54:46, 17.76s/it]"
     ]
    },
    {
     "name": "stdout",
     "output_type": "stream",
     "text": [
      "For epoch 616: \n",
      "{Learning rate: [0.0004385958497295204]}\n"
     ]
    },
    {
     "name": "stderr",
     "output_type": "stream",
     "text": [
      "Train batch number 99: 100%|██████████| 99/99 [00:12<00:00,  8.04batches/s]\n",
      "Test batch number 13: 100%|██████████| 13/13 [00:03<00:00,  3.95batches/s]\n"
     ]
    },
    {
     "name": "stdout",
     "output_type": "stream",
     "text": [
      "\n",
      "Metrics: {'train_loss': 0.005536908324398665, 'test_loss': 2.0662592282662025, 'bleu': 22.0754, 'gen_len': 9.9697}\n",
      "\n",
      "=============================\n",
      "\n"
     ]
    },
    {
     "name": "stderr",
     "output_type": "stream",
     "text": [
      " 47%|████▋     | 160/344 [47:10<54:06, 17.64s/it]"
     ]
    },
    {
     "name": "stdout",
     "output_type": "stream",
     "text": [
      "For epoch 617: \n",
      "{Learning rate: [0.0004345178299470341]}\n"
     ]
    },
    {
     "name": "stderr",
     "output_type": "stream",
     "text": [
      "Train batch number 99: 100%|██████████| 99/99 [00:12<00:00,  8.07batches/s]\n",
      "Test batch number 13: 100%|██████████| 13/13 [00:03<00:00,  3.80batches/s]\n"
     ]
    },
    {
     "name": "stdout",
     "output_type": "stream",
     "text": [
      "\n",
      "Metrics: {'train_loss': 0.005618707421076992, 'test_loss': 2.0680297888242283, 'bleu': 22.1206, 'gen_len': 9.9495}\n",
      "\n",
      "=============================\n",
      "\n"
     ]
    },
    {
     "name": "stderr",
     "output_type": "stream",
     "text": [
      " 47%|████▋     | 161/344 [47:27<53:38, 17.59s/it]"
     ]
    },
    {
     "name": "stdout",
     "output_type": "stream",
     "text": [
      "For epoch 618: \n",
      "{Learning rate: [0.00043045567279235893]}\n"
     ]
    },
    {
     "name": "stderr",
     "output_type": "stream",
     "text": [
      "Train batch number 99: 100%|██████████| 99/99 [00:12<00:00,  7.78batches/s]\n",
      "Test batch number 13: 100%|██████████| 13/13 [00:03<00:00,  4.00batches/s]\n"
     ]
    },
    {
     "name": "stdout",
     "output_type": "stream",
     "text": [
      "\n",
      "Metrics: {'train_loss': 0.005555646595894359, 'test_loss': 2.0671609273323646, 'bleu': 21.977, 'gen_len': 9.9848}\n",
      "\n",
      "=============================\n",
      "\n"
     ]
    },
    {
     "name": "stderr",
     "output_type": "stream",
     "text": [
      " 47%|████▋     | 162/344 [47:45<53:43, 17.71s/it]"
     ]
    },
    {
     "name": "stdout",
     "output_type": "stream",
     "text": [
      "For epoch 619: \n",
      "{Learning rate: [0.0004264094380878001]}\n"
     ]
    },
    {
     "name": "stderr",
     "output_type": "stream",
     "text": [
      "Train batch number 99: 100%|██████████| 99/99 [00:12<00:00,  8.00batches/s]\n",
      "Test batch number 13: 100%|██████████| 13/13 [00:03<00:00,  3.98batches/s]\n"
     ]
    },
    {
     "name": "stdout",
     "output_type": "stream",
     "text": [
      "\n",
      "Metrics: {'train_loss': 0.005601781626341328, 'test_loss': 2.069310564261216, 'bleu': 22.1401, 'gen_len': 9.9192}\n",
      "\n",
      "=============================\n",
      "\n"
     ]
    },
    {
     "name": "stderr",
     "output_type": "stream",
     "text": [
      " 47%|████▋     | 163/344 [48:03<53:12, 17.64s/it]"
     ]
    },
    {
     "name": "stdout",
     "output_type": "stream",
     "text": [
      "For epoch 620: \n",
      "{Learning rate: [0.0004223791854211792]}\n"
     ]
    },
    {
     "name": "stderr",
     "output_type": "stream",
     "text": [
      "Train batch number 99: 100%|██████████| 99/99 [00:12<00:00,  8.00batches/s]\n",
      "Test batch number 13: 100%|██████████| 13/13 [00:03<00:00,  3.97batches/s]\n"
     ]
    },
    {
     "name": "stdout",
     "output_type": "stream",
     "text": [
      "\n",
      "Metrics: {'train_loss': 0.005670589627771558, 'test_loss': 2.0708279059483456, 'bleu': 22.0243, 'gen_len': 9.9192}\n",
      "\n",
      "=============================\n",
      "\n"
     ]
    },
    {
     "name": "stderr",
     "output_type": "stream",
     "text": [
      " 48%|████▊     | 164/344 [48:20<52:44, 17.58s/it]"
     ]
    },
    {
     "name": "stdout",
     "output_type": "stream",
     "text": [
      "For epoch 621: \n",
      "{Learning rate: [0.00041836497414495275]}\n"
     ]
    },
    {
     "name": "stderr",
     "output_type": "stream",
     "text": [
      "Train batch number 99: 100%|██████████| 99/99 [00:12<00:00,  7.96batches/s]\n",
      "Test batch number 13: 100%|██████████| 13/13 [00:03<00:00,  3.96batches/s]\n"
     ]
    },
    {
     "name": "stdout",
     "output_type": "stream",
     "text": [
      "\n",
      "Metrics: {'train_loss': 0.00560398729879061, 'test_loss': 2.0704814470731296, 'bleu': 21.7507, 'gen_len': 9.9192}\n",
      "\n",
      "=============================\n",
      "\n"
     ]
    },
    {
     "name": "stderr",
     "output_type": "stream",
     "text": [
      " 48%|████▊     | 165/344 [48:37<52:21, 17.55s/it]"
     ]
    },
    {
     "name": "stdout",
     "output_type": "stream",
     "text": [
      "For epoch 622: \n",
      "{Learning rate: [0.00041436686337534127]}\n"
     ]
    },
    {
     "name": "stderr",
     "output_type": "stream",
     "text": [
      "Train batch number 99: 100%|██████████| 99/99 [00:12<00:00,  7.87batches/s]\n",
      "Test batch number 13: 100%|██████████| 13/13 [00:03<00:00,  3.83batches/s]\n"
     ]
    },
    {
     "name": "stdout",
     "output_type": "stream",
     "text": [
      "\n",
      "Metrics: {'train_loss': 0.005509430708538863, 'test_loss': 2.0659769039887648, 'bleu': 21.798, 'gen_len': 9.9798}\n",
      "\n",
      "=============================\n",
      "\n"
     ]
    },
    {
     "name": "stderr",
     "output_type": "stream",
     "text": [
      " 48%|████▊     | 166/344 [48:55<52:15, 17.61s/it]"
     ]
    },
    {
     "name": "stdout",
     "output_type": "stream",
     "text": [
      "For epoch 623: \n",
      "{Learning rate: [0.0004103849119914577]}\n"
     ]
    },
    {
     "name": "stderr",
     "output_type": "stream",
     "text": [
      "Train batch number 99: 100%|██████████| 99/99 [00:12<00:00,  7.90batches/s]\n",
      "Test batch number 13: 100%|██████████| 13/13 [00:03<00:00,  3.99batches/s]\n"
     ]
    },
    {
     "name": "stdout",
     "output_type": "stream",
     "text": [
      "\n",
      "Metrics: {'train_loss': 0.005513906257589832, 'test_loss': 2.0687960661374607, 'bleu': 21.8091, 'gen_len': 9.9444}\n",
      "\n",
      "=============================\n",
      "\n"
     ]
    },
    {
     "name": "stderr",
     "output_type": "stream",
     "text": [
      " 49%|████▊     | 167/344 [49:13<51:56, 17.61s/it]"
     ]
    },
    {
     "name": "stdout",
     "output_type": "stream",
     "text": [
      "For epoch 624: \n",
      "{Learning rate: [0.0004064191786344382]}\n"
     ]
    },
    {
     "name": "stderr",
     "output_type": "stream",
     "text": [
      "Train batch number 99: 100%|██████████| 99/99 [00:12<00:00,  8.00batches/s]\n",
      "Test batch number 13: 100%|██████████| 13/13 [00:03<00:00,  3.99batches/s]\n"
     ]
    },
    {
     "name": "stdout",
     "output_type": "stream",
     "text": [
      "\n",
      "Metrics: {'train_loss': 0.005566610954407922, 'test_loss': 2.067697002337529, 'bleu': 21.4682, 'gen_len': 9.9141}\n",
      "\n",
      "=============================\n",
      "\n"
     ]
    },
    {
     "name": "stderr",
     "output_type": "stream",
     "text": [
      " 49%|████▉     | 168/344 [49:30<51:30, 17.56s/it]"
     ]
    },
    {
     "name": "stdout",
     "output_type": "stream",
     "text": [
      "For epoch 625: \n",
      "{Learning rate: [0.0004024697217065821]}\n"
     ]
    },
    {
     "name": "stderr",
     "output_type": "stream",
     "text": [
      "Train batch number 99: 100%|██████████| 99/99 [00:12<00:00,  7.96batches/s]\n",
      "Test batch number 13: 100%|██████████| 13/13 [00:03<00:00,  3.98batches/s]\n"
     ]
    },
    {
     "name": "stdout",
     "output_type": "stream",
     "text": [
      "\n",
      "Metrics: {'train_loss': 0.00552347087568246, 'test_loss': 2.067789224477915, 'bleu': 21.8368, 'gen_len': 9.9141}\n",
      "\n",
      "=============================\n",
      "\n"
     ]
    },
    {
     "name": "stderr",
     "output_type": "stream",
     "text": [
      " 49%|████▉     | 169/344 [49:48<51:10, 17.55s/it]"
     ]
    },
    {
     "name": "stdout",
     "output_type": "stream",
     "text": [
      "For epoch 626: \n",
      "{Learning rate: [0.00039853659937048977]}\n"
     ]
    },
    {
     "name": "stderr",
     "output_type": "stream",
     "text": [
      "Train batch number 99: 100%|██████████| 99/99 [00:12<00:00,  7.96batches/s]\n",
      "Test batch number 13: 100%|██████████| 13/13 [00:03<00:00,  3.96batches/s]\n"
     ]
    },
    {
     "name": "stdout",
     "output_type": "stream",
     "text": [
      "\n",
      "Metrics: {'train_loss': 0.00550882693090843, 'test_loss': 2.0675284404021044, 'bleu': 21.8973, 'gen_len': 9.9747}\n",
      "\n",
      "=============================\n",
      "\n"
     ]
    },
    {
     "name": "stderr",
     "output_type": "stream",
     "text": [
      " 49%|████▉     | 170/344 [50:05<50:54, 17.56s/it]"
     ]
    },
    {
     "name": "stdout",
     "output_type": "stream",
     "text": [
      "For epoch 627: \n",
      "{Learning rate: [0.0003946198695482054]}\n"
     ]
    },
    {
     "name": "stderr",
     "output_type": "stream",
     "text": [
      "Train batch number 99: 100%|██████████| 99/99 [00:12<00:00,  7.63batches/s]\n",
      "Test batch number 13: 100%|██████████| 13/13 [00:03<00:00,  3.75batches/s]\n"
     ]
    },
    {
     "name": "stdout",
     "output_type": "stream",
     "text": [
      "\n",
      "Metrics: {'train_loss': 0.005510985074156773, 'test_loss': 2.070298745081975, 'bleu': 21.4465, 'gen_len': 9.9646}\n",
      "\n",
      "=============================\n",
      "\n"
     ]
    },
    {
     "name": "stderr",
     "output_type": "stream",
     "text": [
      " 50%|████▉     | 171/344 [50:24<51:12, 17.76s/it]"
     ]
    },
    {
     "name": "stdout",
     "output_type": "stream",
     "text": [
      "For epoch 628: \n",
      "{Learning rate: [0.00039071958992036666]}\n"
     ]
    },
    {
     "name": "stderr",
     "output_type": "stream",
     "text": [
      "Train batch number 99: 100%|██████████| 99/99 [00:12<00:00,  7.80batches/s]\n",
      "Test batch number 13: 100%|██████████| 13/13 [00:03<00:00,  3.92batches/s]\n"
     ]
    },
    {
     "name": "stdout",
     "output_type": "stream",
     "text": [
      "\n",
      "Metrics: {'train_loss': 0.005541195099758257, 'test_loss': 2.0729148112810574, 'bleu': 22.0131, 'gen_len': 9.9848}\n",
      "\n",
      "=============================\n",
      "\n"
     ]
    },
    {
     "name": "stderr",
     "output_type": "stream",
     "text": [
      " 50%|█████     | 172/344 [50:42<51:03, 17.81s/it]"
     ]
    },
    {
     "name": "stdout",
     "output_type": "stream",
     "text": [
      "For epoch 629: \n",
      "{Learning rate: [0.00038683581792535205]}\n"
     ]
    },
    {
     "name": "stderr",
     "output_type": "stream",
     "text": [
      "Train batch number 99: 100%|██████████| 99/99 [00:12<00:00,  7.90batches/s]\n",
      "Test batch number 13: 100%|██████████| 13/13 [00:03<00:00,  3.97batches/s]\n"
     ]
    },
    {
     "name": "stdout",
     "output_type": "stream",
     "text": [
      "\n",
      "Metrics: {'train_loss': 0.005513653847197249, 'test_loss': 2.0735994210610023, 'bleu': 21.4714, 'gen_len': 9.9949}\n",
      "\n",
      "=============================\n",
      "\n"
     ]
    },
    {
     "name": "stderr",
     "output_type": "stream",
     "text": [
      " 50%|█████     | 173/344 [50:59<50:39, 17.78s/it]"
     ]
    },
    {
     "name": "stdout",
     "output_type": "stream",
     "text": [
      "For epoch 630: \n",
      "{Learning rate: [0.0003829686107584367]}\n"
     ]
    },
    {
     "name": "stderr",
     "output_type": "stream",
     "text": [
      "Train batch number 99: 100%|██████████| 99/99 [00:12<00:00,  7.96batches/s]\n",
      "Test batch number 13: 100%|██████████| 13/13 [00:03<00:00,  3.81batches/s]\n"
     ]
    },
    {
     "name": "stdout",
     "output_type": "stream",
     "text": [
      "\n",
      "Metrics: {'train_loss': 0.005651706280956995, 'test_loss': 2.0733339603130636, 'bleu': 21.9203, 'gen_len': 10.0152}\n",
      "\n",
      "=============================\n",
      "\n"
     ]
    },
    {
     "name": "stderr",
     "output_type": "stream",
     "text": [
      " 51%|█████     | 174/344 [51:17<50:16, 17.75s/it]"
     ]
    },
    {
     "name": "stdout",
     "output_type": "stream",
     "text": [
      "For epoch 631: \n",
      "{Learning rate: [0.00037911802537095134]}\n"
     ]
    },
    {
     "name": "stderr",
     "output_type": "stream",
     "text": [
      "Train batch number 99: 100%|██████████| 99/99 [00:12<00:00,  7.91batches/s]\n",
      "Test batch number 13: 100%|██████████| 13/13 [00:03<00:00,  3.81batches/s]\n"
     ]
    },
    {
     "name": "stdout",
     "output_type": "stream",
     "text": [
      "\n",
      "Metrics: {'train_loss': 0.005651837194837027, 'test_loss': 2.0676505382244406, 'bleu': 22.0857, 'gen_len': 10.0253}\n",
      "\n",
      "=============================\n",
      "\n"
     ]
    },
    {
     "name": "stderr",
     "output_type": "stream",
     "text": [
      " 51%|█████     | 175/344 [51:35<50:02, 17.77s/it]"
     ]
    },
    {
     "name": "stdout",
     "output_type": "stream",
     "text": [
      "For epoch 632: \n",
      "{Learning rate: [0.00037528411846944046]}\n"
     ]
    },
    {
     "name": "stderr",
     "output_type": "stream",
     "text": [
      "Train batch number 99: 100%|██████████| 99/99 [00:12<00:00,  7.91batches/s]\n",
      "Test batch number 13: 100%|██████████| 13/13 [00:03<00:00,  4.06batches/s]\n"
     ]
    },
    {
     "name": "stdout",
     "output_type": "stream",
     "text": [
      "\n",
      "Metrics: {'train_loss': 0.005527533751599622, 'test_loss': 2.0676386172954855, 'bleu': 22.1398, 'gen_len': 9.9848}\n",
      "\n",
      "=============================\n",
      "\n"
     ]
    },
    {
     "name": "stderr",
     "output_type": "stream",
     "text": [
      " 51%|█████     | 176/344 [51:52<49:34, 17.70s/it]"
     ]
    },
    {
     "name": "stdout",
     "output_type": "stream",
     "text": [
      "For epoch 633: \n",
      "{Learning rate: [0.0003714669465148299]}\n"
     ]
    },
    {
     "name": "stderr",
     "output_type": "stream",
     "text": [
      "Train batch number 99: 100%|██████████| 99/99 [00:12<00:00,  8.03batches/s]\n",
      "Test batch number 13: 100%|██████████| 13/13 [00:03<00:00,  3.99batches/s]\n"
     ]
    },
    {
     "name": "stdout",
     "output_type": "stream",
     "text": [
      "\n",
      "Metrics: {'train_loss': 0.005468519757598206, 'test_loss': 2.064603191155654, 'bleu': 22.2781, 'gen_len': 10.0}\n",
      "\n",
      "=============================\n",
      "\n"
     ]
    },
    {
     "name": "stderr",
     "output_type": "stream",
     "text": [
      " 51%|█████▏    | 177/344 [52:10<49:02, 17.62s/it]"
     ]
    },
    {
     "name": "stdout",
     "output_type": "stream",
     "text": [
      "For epoch 634: \n",
      "{Learning rate: [0.0003676665657215947]}\n"
     ]
    },
    {
     "name": "stderr",
     "output_type": "stream",
     "text": [
      "Train batch number 99: 100%|██████████| 99/99 [00:12<00:00,  7.95batches/s]\n",
      "Test batch number 13: 100%|██████████| 13/13 [00:03<00:00,  4.05batches/s]\n"
     ]
    },
    {
     "name": "stdout",
     "output_type": "stream",
     "text": [
      "\n",
      "Metrics: {'train_loss': 0.00560401321134196, 'test_loss': 2.065549557025616, 'bleu': 22.4017, 'gen_len': 9.9949}\n",
      "\n",
      "=============================\n",
      "\n"
     ]
    },
    {
     "name": "stderr",
     "output_type": "stream",
     "text": [
      " 52%|█████▏    | 178/344 [52:27<48:37, 17.58s/it]"
     ]
    },
    {
     "name": "stdout",
     "output_type": "stream",
     "text": [
      "For epoch 635: \n",
      "{Learning rate: [0.0003638830320569298]}\n"
     ]
    },
    {
     "name": "stderr",
     "output_type": "stream",
     "text": [
      "Train batch number 99: 100%|██████████| 99/99 [00:12<00:00,  7.92batches/s]\n",
      "Test batch number 13: 100%|██████████| 13/13 [00:03<00:00,  3.86batches/s]\n"
     ]
    },
    {
     "name": "stdout",
     "output_type": "stream",
     "text": [
      "\n",
      "Metrics: {'train_loss': 0.005544742539635568, 'test_loss': 2.068797936806312, 'bleu': 22.1065, 'gen_len': 9.9545}\n",
      "\n",
      "=============================\n",
      "\n"
     ]
    },
    {
     "name": "stderr",
     "output_type": "stream",
     "text": [
      " 52%|█████▏    | 179/344 [52:45<48:23, 17.60s/it]"
     ]
    },
    {
     "name": "stdout",
     "output_type": "stream",
     "text": [
      "For epoch 636: \n",
      "{Learning rate: [0.00036011640123992817]}\n"
     ]
    },
    {
     "name": "stderr",
     "output_type": "stream",
     "text": [
      "Train batch number 99: 100%|██████████| 99/99 [00:12<00:00,  7.94batches/s]\n",
      "Test batch number 13: 100%|██████████| 13/13 [00:03<00:00,  4.04batches/s]\n"
     ]
    },
    {
     "name": "stdout",
     "output_type": "stream",
     "text": [
      "\n",
      "Metrics: {'train_loss': 0.005584510036942906, 'test_loss': 2.0697949024347158, 'bleu': 22.0842, 'gen_len': 9.9192}\n",
      "\n",
      "=============================\n",
      "\n"
     ]
    },
    {
     "name": "stderr",
     "output_type": "stream",
     "text": [
      " 52%|█████▏    | 180/344 [53:02<48:03, 17.58s/it]"
     ]
    },
    {
     "name": "stdout",
     "output_type": "stream",
     "text": [
      "For epoch 637: \n",
      "{Learning rate: [0.0003563667287407577]}\n"
     ]
    },
    {
     "name": "stderr",
     "output_type": "stream",
     "text": [
      "Train batch number 99: 100%|██████████| 99/99 [00:12<00:00,  7.98batches/s]\n",
      "Test batch number 13: 100%|██████████| 13/13 [00:03<00:00,  3.86batches/s]\n"
     ]
    },
    {
     "name": "stdout",
     "output_type": "stream",
     "text": [
      "\n",
      "Metrics: {'train_loss': 0.005570939748202253, 'test_loss': 2.0667382295315084, 'bleu': 22.2874, 'gen_len': 9.9444}\n",
      "\n",
      "=============================\n",
      "\n"
     ]
    },
    {
     "name": "stderr",
     "output_type": "stream",
     "text": [
      " 53%|█████▎    | 181/344 [53:20<47:45, 17.58s/it]"
     ]
    },
    {
     "name": "stdout",
     "output_type": "stream",
     "text": [
      "For epoch 638: \n",
      "{Learning rate: [0.00035263406977984694]}\n"
     ]
    },
    {
     "name": "stderr",
     "output_type": "stream",
     "text": [
      "Train batch number 99: 100%|██████████| 99/99 [00:12<00:00,  7.84batches/s]\n",
      "Test batch number 13: 100%|██████████| 13/13 [00:03<00:00,  3.86batches/s]\n"
     ]
    },
    {
     "name": "stdout",
     "output_type": "stream",
     "text": [
      "\n",
      "Metrics: {'train_loss': 0.005452571667388618, 'test_loss': 2.064716339111328, 'bleu': 22.0532, 'gen_len': 9.9495}\n",
      "\n",
      "=============================\n",
      "\n"
     ]
    },
    {
     "name": "stderr",
     "output_type": "stream",
     "text": [
      " 53%|█████▎    | 182/344 [53:38<47:37, 17.64s/it]"
     ]
    },
    {
     "name": "stdout",
     "output_type": "stream",
     "text": [
      "For epoch 639: \n",
      "{Learning rate: [0.0003489184793270704]}\n"
     ]
    },
    {
     "name": "stderr",
     "output_type": "stream",
     "text": [
      "Train batch number 99: 100%|██████████| 99/99 [00:12<00:00,  7.98batches/s]\n",
      "Test batch number 13: 100%|██████████| 13/13 [00:03<00:00,  4.05batches/s]\n"
     ]
    },
    {
     "name": "stdout",
     "output_type": "stream",
     "text": [
      "\n",
      "Metrics: {'train_loss': 0.005470019298067053, 'test_loss': 2.0647284342692447, 'bleu': 22.0476, 'gen_len': 9.9495}\n",
      "\n",
      "=============================\n",
      "\n"
     ]
    },
    {
     "name": "stderr",
     "output_type": "stream",
     "text": [
      " 53%|█████▎    | 183/344 [53:55<47:09, 17.57s/it]"
     ]
    },
    {
     "name": "stdout",
     "output_type": "stream",
     "text": [
      "For epoch 640: \n",
      "{Learning rate: [0.00034522001210093823]}\n"
     ]
    },
    {
     "name": "stderr",
     "output_type": "stream",
     "text": [
      "Train batch number 99: 100%|██████████| 99/99 [00:12<00:00,  7.82batches/s]\n",
      "Test batch number 13: 100%|██████████| 13/13 [00:03<00:00,  4.03batches/s]\n"
     ]
    },
    {
     "name": "stdout",
     "output_type": "stream",
     "text": [
      "\n",
      "Metrics: {'train_loss': 0.005539941780340877, 'test_loss': 2.06757782972776, 'bleu': 21.9275, 'gen_len': 9.9343}\n",
      "\n",
      "=============================\n",
      "\n"
     ]
    },
    {
     "name": "stderr",
     "output_type": "stream",
     "text": [
      " 53%|█████▎    | 184/344 [54:13<46:57, 17.61s/it]"
     ]
    },
    {
     "name": "stdout",
     "output_type": "stream",
     "text": [
      "For epoch 641: \n",
      "{Learning rate: [0.0003415387225677922]}\n"
     ]
    },
    {
     "name": "stderr",
     "output_type": "stream",
     "text": [
      "Train batch number 99: 100%|██████████| 99/99 [00:12<00:00,  7.92batches/s]\n",
      "Test batch number 13: 100%|██████████| 13/13 [00:03<00:00,  4.03batches/s]\n"
     ]
    },
    {
     "name": "stdout",
     "output_type": "stream",
     "text": [
      "\n",
      "Metrics: {'train_loss': 0.005558817127791252, 'test_loss': 2.069069367188674, 'bleu': 21.9275, 'gen_len': 9.9343}\n",
      "\n",
      "=============================\n",
      "\n"
     ]
    },
    {
     "name": "stderr",
     "output_type": "stream",
     "text": [
      " 54%|█████▍    | 185/344 [54:30<46:36, 17.59s/it]"
     ]
    },
    {
     "name": "stdout",
     "output_type": "stream",
     "text": [
      "For epoch 642: \n",
      "{Learning rate: [0.0003378746649410033]}\n"
     ]
    },
    {
     "name": "stderr",
     "output_type": "stream",
     "text": [
      "Train batch number 99: 100%|██████████| 99/99 [00:13<00:00,  7.58batches/s]\n",
      "Test batch number 13: 100%|██████████| 13/13 [00:03<00:00,  3.83batches/s]\n"
     ]
    },
    {
     "name": "stdout",
     "output_type": "stream",
     "text": [
      "\n",
      "Metrics: {'train_loss': 0.005487782033566019, 'test_loss': 2.069752812385559, 'bleu': 22.2814, 'gen_len': 9.9343}\n",
      "\n",
      "=============================\n",
      "\n"
     ]
    },
    {
     "name": "stderr",
     "output_type": "stream",
     "text": [
      " 54%|█████▍    | 186/344 [54:49<46:56, 17.83s/it]"
     ]
    },
    {
     "name": "stdout",
     "output_type": "stream",
     "text": [
      "For epoch 643: \n",
      "{Learning rate: [0.0003342278931801714]}\n"
     ]
    },
    {
     "name": "stderr",
     "output_type": "stream",
     "text": [
      "Train batch number 99: 100%|██████████| 99/99 [00:12<00:00,  7.84batches/s]\n",
      "Test batch number 13: 100%|██████████| 13/13 [00:03<00:00,  4.03batches/s]\n"
     ]
    },
    {
     "name": "stdout",
     "output_type": "stream",
     "text": [
      "\n",
      "Metrics: {'train_loss': 0.005540868001366787, 'test_loss': 2.0707901807931752, 'bleu': 21.9225, 'gen_len': 9.9293}\n",
      "\n",
      "=============================\n",
      "\n"
     ]
    },
    {
     "name": "stderr",
     "output_type": "stream",
     "text": [
      " 54%|█████▍    | 187/344 [55:06<46:29, 17.77s/it]"
     ]
    },
    {
     "name": "stdout",
     "output_type": "stream",
     "text": [
      "For epoch 644: \n",
      "{Learning rate: [0.00033059846099033286]}\n"
     ]
    },
    {
     "name": "stderr",
     "output_type": "stream",
     "text": [
      "Train batch number 99: 100%|██████████| 99/99 [00:12<00:00,  7.96batches/s]\n",
      "Test batch number 13: 100%|██████████| 13/13 [00:03<00:00,  4.03batches/s]\n"
     ]
    },
    {
     "name": "stdout",
     "output_type": "stream",
     "text": [
      "\n",
      "Metrics: {'train_loss': 0.005529431219114522, 'test_loss': 2.068646403459402, 'bleu': 21.9725, 'gen_len': 9.8939}\n",
      "\n",
      "=============================\n",
      "\n"
     ]
    },
    {
     "name": "stderr",
     "output_type": "stream",
     "text": [
      " 55%|█████▍    | 188/344 [55:24<46:06, 17.73s/it]"
     ]
    },
    {
     "name": "stdout",
     "output_type": "stream",
     "text": [
      "For epoch 645: \n",
      "{Learning rate: [0.0003269864218211691]}\n"
     ]
    },
    {
     "name": "stderr",
     "output_type": "stream",
     "text": [
      "Train batch number 99: 100%|██████████| 99/99 [00:12<00:00,  7.67batches/s]\n",
      "Test batch number 13: 100%|██████████| 13/13 [00:03<00:00,  3.85batches/s]\n"
     ]
    },
    {
     "name": "stdout",
     "output_type": "stream",
     "text": [
      "\n",
      "Metrics: {'train_loss': 0.005421980844476646, 'test_loss': 2.070308336844811, 'bleu': 21.883, 'gen_len': 9.9596}\n",
      "\n",
      "=============================\n",
      "\n"
     ]
    },
    {
     "name": "stderr",
     "output_type": "stream",
     "text": [
      " 55%|█████▍    | 189/344 [55:42<46:02, 17.83s/it]"
     ]
    },
    {
     "name": "stdout",
     "output_type": "stream",
     "text": [
      "For epoch 646: \n",
      "{Learning rate: [0.0003233918288662179]}\n"
     ]
    },
    {
     "name": "stderr",
     "output_type": "stream",
     "text": [
      "Train batch number 99: 100%|██████████| 99/99 [00:12<00:00,  7.97batches/s]\n",
      "Test batch number 13: 100%|██████████| 13/13 [00:03<00:00,  3.87batches/s]\n"
     ]
    },
    {
     "name": "stdout",
     "output_type": "stream",
     "text": [
      "\n",
      "Metrics: {'train_loss': 0.005500709202103529, 'test_loss': 2.071146387320298, 'bleu': 21.8941, 'gen_len': 9.9444}\n",
      "\n",
      "=============================\n",
      "\n"
     ]
    },
    {
     "name": "stderr",
     "output_type": "stream",
     "text": [
      " 55%|█████▌    | 190/344 [56:00<45:32, 17.74s/it]"
     ]
    },
    {
     "name": "stdout",
     "output_type": "stream",
     "text": [
      "For epoch 647: \n",
      "{Learning rate: [0.00031981473506209336]}\n"
     ]
    },
    {
     "name": "stderr",
     "output_type": "stream",
     "text": [
      "Train batch number 99: 100%|██████████| 99/99 [00:12<00:00,  7.94batches/s]\n",
      "Test batch number 13: 100%|██████████| 13/13 [00:03<00:00,  4.09batches/s]\n"
     ]
    },
    {
     "name": "stdout",
     "output_type": "stream",
     "text": [
      "\n",
      "Metrics: {'train_loss': 0.005701024671328592, 'test_loss': 2.069728512030381, 'bleu': 22.1426, 'gen_len': 9.9394}\n",
      "\n",
      "=============================\n",
      "\n"
     ]
    },
    {
     "name": "stderr",
     "output_type": "stream",
     "text": [
      " 56%|█████▌    | 191/344 [56:17<45:02, 17.66s/it]"
     ]
    },
    {
     "name": "stdout",
     "output_type": "stream",
     "text": [
      "For epoch 648: \n",
      "{Learning rate: [0.00031625519308770206]}\n"
     ]
    },
    {
     "name": "stderr",
     "output_type": "stream",
     "text": [
      "Train batch number 99: 100%|██████████| 99/99 [00:12<00:00,  7.82batches/s]\n",
      "Test batch number 13: 100%|██████████| 13/13 [00:03<00:00,  4.07batches/s]\n"
     ]
    },
    {
     "name": "stdout",
     "output_type": "stream",
     "text": [
      "\n",
      "Metrics: {'train_loss': 0.005514003587927848, 'test_loss': 2.0708546821887674, 'bleu': 21.6041, 'gen_len': 9.9091}\n",
      "\n",
      "=============================\n",
      "\n"
     ]
    },
    {
     "name": "stderr",
     "output_type": "stream",
     "text": [
      " 56%|█████▌    | 192/344 [56:35<44:47, 17.68s/it]"
     ]
    },
    {
     "name": "stdout",
     "output_type": "stream",
     "text": [
      "For epoch 649: \n",
      "{Learning rate: [0.00031271325536347077]}\n"
     ]
    },
    {
     "name": "stderr",
     "output_type": "stream",
     "text": [
      "Train batch number 99: 100%|██████████| 99/99 [00:12<00:00,  7.95batches/s]\n",
      "Test batch number 13: 100%|██████████| 13/13 [00:03<00:00,  4.06batches/s]\n"
     ]
    },
    {
     "name": "stdout",
     "output_type": "stream",
     "text": [
      "\n",
      "Metrics: {'train_loss': 0.0054426808295315226, 'test_loss': 2.072570901650649, 'bleu': 22.2136, 'gen_len': 9.9293}\n",
      "\n",
      "=============================\n",
      "\n"
     ]
    },
    {
     "name": "stderr",
     "output_type": "stream",
     "text": [
      " 56%|█████▌    | 193/344 [56:52<44:20, 17.62s/it]"
     ]
    },
    {
     "name": "stdout",
     "output_type": "stream",
     "text": [
      "For epoch 650: \n",
      "{Learning rate: [0.00030918897405057333]}\n"
     ]
    },
    {
     "name": "stderr",
     "output_type": "stream",
     "text": [
      "Train batch number 99: 100%|██████████| 99/99 [00:12<00:00,  7.97batches/s]\n",
      "Test batch number 13: 100%|██████████| 13/13 [00:03<00:00,  4.05batches/s]\n"
     ]
    },
    {
     "name": "stdout",
     "output_type": "stream",
     "text": [
      "\n",
      "Metrics: {'train_loss': 0.005531709243906803, 'test_loss': 2.073794750066904, 'bleu': 22.6513, 'gen_len': 9.8788}\n",
      "\n",
      "=============================\n",
      "\n"
     ]
    },
    {
     "name": "stderr",
     "output_type": "stream",
     "text": [
      " 56%|█████▋    | 194/344 [57:10<43:53, 17.56s/it]"
     ]
    },
    {
     "name": "stdout",
     "output_type": "stream",
     "text": [
      "For epoch 651: \n",
      "{Learning rate: [0.000305682401050161]}\n"
     ]
    },
    {
     "name": "stderr",
     "output_type": "stream",
     "text": [
      "Train batch number 99: 100%|██████████| 99/99 [00:12<00:00,  7.89batches/s]\n",
      "Test batch number 13: 100%|██████████| 13/13 [00:03<00:00,  3.86batches/s]\n"
     ]
    },
    {
     "name": "stdout",
     "output_type": "stream",
     "text": [
      "\n",
      "Metrics: {'train_loss': 0.0054313942813255705, 'test_loss': 2.074631801018348, 'bleu': 22.4003, 'gen_len': 9.8586}\n",
      "\n",
      "=============================\n",
      "\n"
     ]
    },
    {
     "name": "stderr",
     "output_type": "stream",
     "text": [
      " 57%|█████▋    | 195/344 [57:27<43:44, 17.61s/it]"
     ]
    },
    {
     "name": "stdout",
     "output_type": "stream",
     "text": [
      "For epoch 652: \n",
      "{Learning rate: [0.0003021935880026009]}\n"
     ]
    },
    {
     "name": "stderr",
     "output_type": "stream",
     "text": [
      "Train batch number 99: 100%|██████████| 99/99 [00:12<00:00,  7.81batches/s]\n",
      "Test batch number 13: 100%|██████████| 13/13 [00:03<00:00,  4.06batches/s]\n"
     ]
    },
    {
     "name": "stdout",
     "output_type": "stream",
     "text": [
      "\n",
      "Metrics: {'train_loss': 0.005470529360187503, 'test_loss': 2.0768772271963267, 'bleu': 22.2817, 'gen_len': 9.8939}\n",
      "\n",
      "=============================\n",
      "\n"
     ]
    },
    {
     "name": "stderr",
     "output_type": "stream",
     "text": [
      " 57%|█████▋    | 196/344 [57:45<43:29, 17.63s/it]"
     ]
    },
    {
     "name": "stdout",
     "output_type": "stream",
     "text": [
      "For epoch 653: \n",
      "{Learning rate: [0.0002987225862867129]}\n"
     ]
    },
    {
     "name": "stderr",
     "output_type": "stream",
     "text": [
      "Train batch number 99: 100%|██████████| 99/99 [00:12<00:00,  7.95batches/s]\n",
      "Test batch number 13: 100%|██████████| 13/13 [00:03<00:00,  4.05batches/s]\n"
     ]
    },
    {
     "name": "stdout",
     "output_type": "stream",
     "text": [
      "\n",
      "Metrics: {'train_loss': 0.005480176412454581, 'test_loss': 2.076408963937026, 'bleu': 22.6562, 'gen_len': 9.899}\n",
      "\n",
      "=============================\n",
      "\n"
     ]
    },
    {
     "name": "stderr",
     "output_type": "stream",
     "text": [
      " 57%|█████▋    | 197/344 [58:03<43:10, 17.62s/it]"
     ]
    },
    {
     "name": "stdout",
     "output_type": "stream",
     "text": [
      "For epoch 654: \n",
      "{Learning rate: [0.0002952694470190149]}\n"
     ]
    },
    {
     "name": "stderr",
     "output_type": "stream",
     "text": [
      "Train batch number 99: 100%|██████████| 99/99 [00:12<00:00,  7.86batches/s]\n",
      "Test batch number 13: 100%|██████████| 13/13 [00:03<00:00,  3.99batches/s]\n"
     ]
    },
    {
     "name": "stdout",
     "output_type": "stream",
     "text": [
      "\n",
      "Metrics: {'train_loss': 0.005474775962412799, 'test_loss': 2.075198797079233, 'bleu': 22.511, 'gen_len': 9.9343}\n",
      "\n",
      "=============================\n",
      "\n"
     ]
    },
    {
     "name": "stderr",
     "output_type": "stream",
     "text": [
      " 58%|█████▊    | 198/344 [58:20<42:56, 17.64s/it]"
     ]
    },
    {
     "name": "stdout",
     "output_type": "stream",
     "text": [
      "For epoch 655: \n",
      "{Learning rate: [0.0002918342210529693]}\n"
     ]
    },
    {
     "name": "stderr",
     "output_type": "stream",
     "text": [
      "Train batch number 99: 100%|██████████| 99/99 [00:12<00:00,  7.79batches/s]\n",
      "Test batch number 13: 100%|██████████| 13/13 [00:03<00:00,  4.00batches/s]\n"
     ]
    },
    {
     "name": "stdout",
     "output_type": "stream",
     "text": [
      "\n",
      "Metrics: {'train_loss': 0.005473740717703054, 'test_loss': 2.076293101677528, 'bleu': 22.4252, 'gen_len': 10.0051}\n",
      "\n",
      "=============================\n",
      "\n"
     ]
    },
    {
     "name": "stderr",
     "output_type": "stream",
     "text": [
      " 58%|█████▊    | 199/344 [58:38<42:44, 17.68s/it]"
     ]
    },
    {
     "name": "stdout",
     "output_type": "stream",
     "text": [
      "For epoch 656: \n",
      "{Learning rate: [0.0002884169589782331]}\n"
     ]
    },
    {
     "name": "stderr",
     "output_type": "stream",
     "text": [
      "Train batch number 99: 100%|██████████| 99/99 [00:12<00:00,  7.74batches/s]\n",
      "Test batch number 13: 100%|██████████| 13/13 [00:03<00:00,  4.02batches/s]\n"
     ]
    },
    {
     "name": "stdout",
     "output_type": "stream",
     "text": [
      "\n",
      "Metrics: {'train_loss': 0.0055220843292184815, 'test_loss': 2.0760763700191793, 'bleu': 22.5555, 'gen_len': 9.9444}\n",
      "\n",
      "=============================\n",
      "\n"
     ]
    },
    {
     "name": "stderr",
     "output_type": "stream",
     "text": [
      " 58%|█████▊    | 200/344 [58:56<42:33, 17.73s/it]"
     ]
    },
    {
     "name": "stdout",
     "output_type": "stream",
     "text": [
      "For epoch 657: \n",
      "{Learning rate: [0.00028501771111991554]}\n"
     ]
    },
    {
     "name": "stderr",
     "output_type": "stream",
     "text": [
      "Train batch number 99: 100%|██████████| 99/99 [00:12<00:00,  7.78batches/s]\n",
      "Test batch number 13: 100%|██████████| 13/13 [00:03<00:00,  3.98batches/s]\n"
     ]
    },
    {
     "name": "stdout",
     "output_type": "stream",
     "text": [
      "\n",
      "Metrics: {'train_loss': 0.005608738034039341, 'test_loss': 2.0755708125921397, 'bleu': 22.2384, 'gen_len': 9.9747}\n",
      "\n",
      "=============================\n",
      "\n"
     ]
    },
    {
     "name": "stderr",
     "output_type": "stream",
     "text": [
      " 58%|█████▊    | 201/344 [59:14<42:16, 17.74s/it]"
     ]
    },
    {
     "name": "stdout",
     "output_type": "stream",
     "text": [
      "For epoch 658: \n",
      "{Learning rate: [0.0002816365275378335]}\n"
     ]
    },
    {
     "name": "stderr",
     "output_type": "stream",
     "text": [
      "Train batch number 99: 100%|██████████| 99/99 [00:12<00:00,  7.91batches/s]\n",
      "Test batch number 13: 100%|██████████| 13/13 [00:03<00:00,  3.88batches/s]\n"
     ]
    },
    {
     "name": "stdout",
     "output_type": "stream",
     "text": [
      "\n",
      "Metrics: {'train_loss': 0.0053433820336582045, 'test_loss': 2.0746089953642626, 'bleu': 22.4768, 'gen_len': 9.9596}\n",
      "\n",
      "=============================\n",
      "\n"
     ]
    },
    {
     "name": "stderr",
     "output_type": "stream",
     "text": [
      " 59%|█████▊    | 202/344 [59:32<42:02, 17.76s/it]"
     ]
    },
    {
     "name": "stdout",
     "output_type": "stream",
     "text": [
      "For epoch 659: \n",
      "{Learning rate: [0.000278273458025777]}\n"
     ]
    },
    {
     "name": "stderr",
     "output_type": "stream",
     "text": [
      "Train batch number 99: 100%|██████████| 99/99 [00:12<00:00,  7.96batches/s]\n",
      "Test batch number 13: 100%|██████████| 13/13 [00:03<00:00,  4.04batches/s]\n"
     ]
    },
    {
     "name": "stdout",
     "output_type": "stream",
     "text": [
      "\n",
      "Metrics: {'train_loss': 0.005455915855227339, 'test_loss': 2.072515735259423, 'bleu': 22.5654, 'gen_len': 9.8687}\n",
      "\n",
      "=============================\n",
      "\n"
     ]
    },
    {
     "name": "stderr",
     "output_type": "stream",
     "text": [
      " 59%|█████▉    | 203/344 [59:49<41:32, 17.68s/it]"
     ]
    },
    {
     "name": "stdout",
     "output_type": "stream",
     "text": [
      "For epoch 660: \n",
      "{Learning rate: [0.0002749285521107753]}\n"
     ]
    },
    {
     "name": "stderr",
     "output_type": "stream",
     "text": [
      "Train batch number 99: 100%|██████████| 99/99 [00:12<00:00,  7.92batches/s]\n",
      "Test batch number 13: 100%|██████████| 13/13 [00:03<00:00,  4.01batches/s]\n"
     ]
    },
    {
     "name": "stdout",
     "output_type": "stream",
     "text": [
      "\n",
      "Metrics: {'train_loss': 0.005402021013780007, 'test_loss': 2.0723572419239926, 'bleu': 22.2361, 'gen_len': 9.9949}\n",
      "\n",
      "=============================\n",
      "\n"
     ]
    },
    {
     "name": "stderr",
     "output_type": "stream",
     "text": [
      " 59%|█████▉    | 204/344 [1:00:07<41:14, 17.68s/it]"
     ]
    },
    {
     "name": "stdout",
     "output_type": "stream",
     "text": [
      "For epoch 661: \n",
      "{Learning rate: [0.00027160185905236614]}\n"
     ]
    },
    {
     "name": "stderr",
     "output_type": "stream",
     "text": [
      "Train batch number 99: 100%|██████████| 99/99 [00:12<00:00,  7.91batches/s]\n",
      "Test batch number 13: 100%|██████████| 13/13 [00:03<00:00,  3.95batches/s]\n"
     ]
    },
    {
     "name": "stdout",
     "output_type": "stream",
     "text": [
      "\n",
      "Metrics: {'train_loss': 0.00543730347859732, 'test_loss': 2.0709566061313334, 'bleu': 22.0668, 'gen_len': 10.0758}\n",
      "\n",
      "=============================\n",
      "\n"
     ]
    },
    {
     "name": "stderr",
     "output_type": "stream",
     "text": [
      " 60%|█████▉    | 205/344 [1:00:24<40:55, 17.66s/it]"
     ]
    },
    {
     "name": "stdout",
     "output_type": "stream",
     "text": [
      "For epoch 662: \n",
      "{Learning rate: [0.00026829342784187246]}\n"
     ]
    },
    {
     "name": "stderr",
     "output_type": "stream",
     "text": [
      "Train batch number 99: 100%|██████████| 99/99 [00:12<00:00,  7.96batches/s]\n",
      "Test batch number 13: 100%|██████████| 13/13 [00:03<00:00,  4.01batches/s]\n"
     ]
    },
    {
     "name": "stdout",
     "output_type": "stream",
     "text": [
      "\n",
      "Metrics: {'train_loss': 0.005489880531600611, 'test_loss': 2.0697545271653395, 'bleu': 22.0858, 'gen_len': 10.0556}\n",
      "\n",
      "=============================\n",
      "\n"
     ]
    },
    {
     "name": "stderr",
     "output_type": "stream",
     "text": [
      " 60%|█████▉    | 206/344 [1:00:42<40:26, 17.59s/it]"
     ]
    },
    {
     "name": "stdout",
     "output_type": "stream",
     "text": [
      "For epoch 663: \n",
      "{Learning rate: [0.0002650033072016796]}\n"
     ]
    },
    {
     "name": "stderr",
     "output_type": "stream",
     "text": [
      "Train batch number 99: 100%|██████████| 99/99 [00:12<00:00,  7.92batches/s]\n",
      "Test batch number 13: 100%|██████████| 13/13 [00:03<00:00,  4.01batches/s]\n"
     ]
    },
    {
     "name": "stdout",
     "output_type": "stream",
     "text": [
      "\n",
      "Metrics: {'train_loss': 0.005379586895728469, 'test_loss': 2.0732879363573513, 'bleu': 22.0807, 'gen_len': 10.0556}\n",
      "\n",
      "=============================\n",
      "\n"
     ]
    },
    {
     "name": "stderr",
     "output_type": "stream",
     "text": [
      " 60%|██████    | 207/344 [1:00:59<40:06, 17.57s/it]"
     ]
    },
    {
     "name": "stdout",
     "output_type": "stream",
     "text": [
      "For epoch 664: \n",
      "{Learning rate: [0.0002617315455845171]}\n"
     ]
    },
    {
     "name": "stderr",
     "output_type": "stream",
     "text": [
      "Train batch number 99: 100%|██████████| 99/99 [00:12<00:00,  7.86batches/s]\n",
      "Test batch number 13: 100%|██████████| 13/13 [00:03<00:00,  3.98batches/s]\n"
     ]
    },
    {
     "name": "stdout",
     "output_type": "stream",
     "text": [
      "\n",
      "Metrics: {'train_loss': 0.0053567309566065575, 'test_loss': 2.072846605227544, 'bleu': 22.0833, 'gen_len': 10.0152}\n",
      "\n",
      "=============================\n",
      "\n"
     ]
    },
    {
     "name": "stderr",
     "output_type": "stream",
     "text": [
      " 60%|██████    | 208/344 [1:01:17<39:55, 17.61s/it]"
     ]
    },
    {
     "name": "stdout",
     "output_type": "stream",
     "text": [
      "For epoch 665: \n",
      "{Learning rate: [0.00025847819117274704]}\n"
     ]
    },
    {
     "name": "stderr",
     "output_type": "stream",
     "text": [
      "Train batch number 99: 100%|██████████| 99/99 [00:12<00:00,  7.97batches/s]\n",
      "Test batch number 13: 100%|██████████| 13/13 [00:03<00:00,  3.97batches/s]\n"
     ]
    },
    {
     "name": "stdout",
     "output_type": "stream",
     "text": [
      "\n",
      "Metrics: {'train_loss': 0.005520523905888143, 'test_loss': 2.0727124580970178, 'bleu': 21.9068, 'gen_len': 10.0303}\n",
      "\n",
      "=============================\n",
      "\n"
     ]
    },
    {
     "name": "stderr",
     "output_type": "stream",
     "text": [
      " 61%|██████    | 209/344 [1:01:35<39:35, 17.60s/it]"
     ]
    },
    {
     "name": "stdout",
     "output_type": "stream",
     "text": [
      "For epoch 666: \n",
      "{Learning rate: [0.0002552432918776539]}\n"
     ]
    },
    {
     "name": "stderr",
     "output_type": "stream",
     "text": [
      "Train batch number 99: 100%|██████████| 99/99 [00:12<00:00,  7.86batches/s]\n",
      "Test batch number 13: 100%|██████████| 13/13 [00:03<00:00,  3.98batches/s]\n"
     ]
    },
    {
     "name": "stdout",
     "output_type": "stream",
     "text": [
      "\n",
      "Metrics: {'train_loss': 0.005532887297290886, 'test_loss': 2.074007887106675, 'bleu': 21.9068, 'gen_len': 10.0354}\n",
      "\n",
      "=============================\n",
      "\n"
     ]
    },
    {
     "name": "stderr",
     "output_type": "stream",
     "text": [
      " 61%|██████    | 210/344 [1:01:52<39:25, 17.65s/it]"
     ]
    },
    {
     "name": "stdout",
     "output_type": "stream",
     "text": [
      "For epoch 667: \n",
      "{Learning rate: [0.00025202689533873667]}\n"
     ]
    },
    {
     "name": "stderr",
     "output_type": "stream",
     "text": [
      "Train batch number 99: 100%|██████████| 99/99 [00:12<00:00,  7.84batches/s]\n",
      "Test batch number 13: 100%|██████████| 13/13 [00:03<00:00,  4.01batches/s]\n"
     ]
    },
    {
     "name": "stdout",
     "output_type": "stream",
     "text": [
      "\n",
      "Metrics: {'train_loss': 0.0053479204458805425, 'test_loss': 2.072532085271982, 'bleu': 22.1206, 'gen_len': 9.9495}\n",
      "\n",
      "=============================\n",
      "\n"
     ]
    },
    {
     "name": "stderr",
     "output_type": "stream",
     "text": [
      " 61%|██████▏   | 211/344 [1:02:10<39:09, 17.66s/it]"
     ]
    },
    {
     "name": "stdout",
     "output_type": "stream",
     "text": [
      "For epoch 668: \n",
      "{Learning rate: [0.0002488290489230109]}\n"
     ]
    },
    {
     "name": "stderr",
     "output_type": "stream",
     "text": [
      "Train batch number 99: 100%|██████████| 99/99 [00:12<00:00,  7.84batches/s]\n",
      "Test batch number 13: 100%|██████████| 13/13 [00:03<00:00,  3.79batches/s]\n"
     ]
    },
    {
     "name": "stdout",
     "output_type": "stream",
     "text": [
      "\n",
      "Metrics: {'train_loss': 0.005354997815124484, 'test_loss': 2.0739675210072446, 'bleu': 22.1001, 'gen_len': 10.0354}\n",
      "\n",
      "=============================\n",
      "\n"
     ]
    },
    {
     "name": "stderr",
     "output_type": "stream",
     "text": [
      " 62%|██████▏   | 212/344 [1:02:28<38:59, 17.73s/it]"
     ]
    },
    {
     "name": "stdout",
     "output_type": "stream",
     "text": [
      "For epoch 669: \n",
      "{Learning rate: [0.00024564979972430926]}\n"
     ]
    },
    {
     "name": "stderr",
     "output_type": "stream",
     "text": [
      "Train batch number 99: 100%|██████████| 99/99 [00:12<00:00,  7.91batches/s]\n",
      "Test batch number 13: 100%|██████████| 13/13 [00:03<00:00,  3.96batches/s]\n"
     ]
    },
    {
     "name": "stdout",
     "output_type": "stream",
     "text": [
      "\n",
      "Metrics: {'train_loss': 0.005354657481692619, 'test_loss': 2.0786261650232167, 'bleu': 22.1001, 'gen_len': 10.0354}\n",
      "\n",
      "=============================\n",
      "\n"
     ]
    },
    {
     "name": "stderr",
     "output_type": "stream",
     "text": [
      " 62%|██████▏   | 213/344 [1:02:46<38:40, 17.71s/it]"
     ]
    },
    {
     "name": "stdout",
     "output_type": "stream",
     "text": [
      "For epoch 670: \n",
      "{Learning rate: [0.0002424891945625873]}\n"
     ]
    },
    {
     "name": "stderr",
     "output_type": "stream",
     "text": [
      "Train batch number 99: 100%|██████████| 99/99 [00:14<00:00,  6.99batches/s]\n",
      "Test batch number 13: 100%|██████████| 13/13 [00:03<00:00,  4.00batches/s]\n"
     ]
    },
    {
     "name": "stdout",
     "output_type": "stream",
     "text": [
      "\n",
      "Metrics: {'train_loss': 0.0054450695541971884, 'test_loss': 2.0747870940428514, 'bleu': 22.3851, 'gen_len': 10.0354}\n",
      "\n",
      "=============================\n",
      "\n"
     ]
    },
    {
     "name": "stderr",
     "output_type": "stream",
     "text": [
      " 62%|██████▏   | 214/344 [1:03:05<39:19, 18.15s/it]"
     ]
    },
    {
     "name": "stdout",
     "output_type": "stream",
     "text": [
      "For epoch 671: \n",
      "{Learning rate: [0.00023934727998323568]}\n"
     ]
    },
    {
     "name": "stderr",
     "output_type": "stream",
     "text": [
      "Train batch number 99: 100%|██████████| 99/99 [00:12<00:00,  7.94batches/s]\n",
      "Test batch number 13: 100%|██████████| 13/13 [00:03<00:00,  3.96batches/s]\n"
     ]
    },
    {
     "name": "stdout",
     "output_type": "stream",
     "text": [
      "\n",
      "Metrics: {'train_loss': 0.005442682185946408, 'test_loss': 2.078955054283142, 'bleu': 22.0241, 'gen_len': 10.0354}\n",
      "\n",
      "=============================\n",
      "\n"
     ]
    },
    {
     "name": "stderr",
     "output_type": "stream",
     "text": [
      " 62%|██████▎   | 215/344 [1:03:22<38:36, 17.96s/it]"
     ]
    },
    {
     "name": "stdout",
     "output_type": "stream",
     "text": [
      "For epoch 672: \n",
      "{Learning rate: [0.0002362241022563933]}\n"
     ]
    },
    {
     "name": "stderr",
     "output_type": "stream",
     "text": [
      "Train batch number 99: 100%|██████████| 99/99 [00:12<00:00,  7.65batches/s]\n",
      "Test batch number 13: 100%|██████████| 13/13 [00:03<00:00,  3.97batches/s]\n"
     ]
    },
    {
     "name": "stdout",
     "output_type": "stream",
     "text": [
      "\n",
      "Metrics: {'train_loss': 0.005520772946483427, 'test_loss': 2.079095345277053, 'bleu': 22.0527, 'gen_len': 10.0303}\n",
      "\n",
      "=============================\n",
      "\n"
     ]
    },
    {
     "name": "stderr",
     "output_type": "stream",
     "text": [
      " 63%|██████▎   | 216/344 [1:03:40<38:18, 17.96s/it]"
     ]
    },
    {
     "name": "stdout",
     "output_type": "stream",
     "text": [
      "For epoch 673: \n",
      "{Learning rate: [0.0002331197073762662]}\n"
     ]
    },
    {
     "name": "stderr",
     "output_type": "stream",
     "text": [
      "Train batch number 99: 100%|██████████| 99/99 [00:12<00:00,  7.70batches/s]\n",
      "Test batch number 13: 100%|██████████| 13/13 [00:03<00:00,  3.87batches/s]\n"
     ]
    },
    {
     "name": "stdout",
     "output_type": "stream",
     "text": [
      "\n",
      "Metrics: {'train_loss': 0.0054223385379024115, 'test_loss': 2.0763612252015333, 'bleu': 22.4682, 'gen_len': 9.9596}\n",
      "\n",
      "=============================\n",
      "\n"
     ]
    },
    {
     "name": "stderr",
     "output_type": "stream",
     "text": [
      " 63%|██████▎   | 217/344 [1:03:58<38:03, 17.98s/it]"
     ]
    },
    {
     "name": "stdout",
     "output_type": "stream",
     "text": [
      "For epoch 674: \n",
      "{Learning rate: [0.0002300341410604515]}\n"
     ]
    },
    {
     "name": "stderr",
     "output_type": "stream",
     "text": [
      "Train batch number 99: 100%|██████████| 99/99 [00:12<00:00,  8.01batches/s]\n",
      "Test batch number 13: 100%|██████████| 13/13 [00:03<00:00,  3.81batches/s]\n"
     ]
    },
    {
     "name": "stdout",
     "output_type": "stream",
     "text": [
      "\n",
      "Metrics: {'train_loss': 0.005384804363300168, 'test_loss': 2.0756402749281664, 'bleu': 22.4394, 'gen_len': 9.9646}\n",
      "\n",
      "=============================\n",
      "\n"
     ]
    },
    {
     "name": "stderr",
     "output_type": "stream",
     "text": [
      " 63%|██████▎   | 218/344 [1:04:16<37:31, 17.87s/it]"
     ]
    },
    {
     "name": "stdout",
     "output_type": "stream",
     "text": [
      "For epoch 675: \n",
      "{Learning rate: [0.0002269674487492614]}\n"
     ]
    },
    {
     "name": "stderr",
     "output_type": "stream",
     "text": [
      "Train batch number 99: 100%|██████████| 99/99 [00:12<00:00,  8.03batches/s]\n",
      "Test batch number 13: 100%|██████████| 13/13 [00:03<00:00,  4.00batches/s]\n"
     ]
    },
    {
     "name": "stdout",
     "output_type": "stream",
     "text": [
      "\n",
      "Metrics: {'train_loss': 0.005396315974219834, 'test_loss': 2.074409145575303, 'bleu': 21.9713, 'gen_len': 9.9293}\n",
      "\n",
      "=============================\n",
      "\n"
     ]
    },
    {
     "name": "stderr",
     "output_type": "stream",
     "text": [
      " 64%|██████▎   | 219/344 [1:04:37<39:16, 18.85s/it]"
     ]
    },
    {
     "name": "stdout",
     "output_type": "stream",
     "text": [
      "For epoch 676: \n",
      "{Learning rate: [0.00022391967560505752]}\n"
     ]
    },
    {
     "name": "stderr",
     "output_type": "stream",
     "text": [
      "Train batch number 99: 100%|██████████| 99/99 [00:12<00:00,  7.78batches/s]\n",
      "Test batch number 13: 100%|██████████| 13/13 [00:03<00:00,  4.05batches/s]\n"
     ]
    },
    {
     "name": "stdout",
     "output_type": "stream",
     "text": [
      "\n",
      "Metrics: {'train_loss': 0.005418728291958975, 'test_loss': 2.0777588349122267, 'bleu': 21.9211, 'gen_len': 9.8939}\n",
      "\n",
      "=============================\n",
      "\n"
     ]
    },
    {
     "name": "stderr",
     "output_type": "stream",
     "text": [
      " 64%|██████▍   | 220/344 [1:04:55<38:21, 18.56s/it]"
     ]
    },
    {
     "name": "stdout",
     "output_type": "stream",
     "text": [
      "For epoch 677: \n",
      "{Learning rate: [0.00022089086651158298]}\n"
     ]
    },
    {
     "name": "stderr",
     "output_type": "stream",
     "text": [
      "Train batch number 99: 100%|██████████| 99/99 [00:12<00:00,  8.02batches/s]\n",
      "Test batch number 13: 100%|██████████| 13/13 [00:03<00:00,  4.06batches/s]\n"
     ]
    },
    {
     "name": "stdout",
     "output_type": "stream",
     "text": [
      "\n",
      "Metrics: {'train_loss': 0.005467752515952187, 'test_loss': 2.0775950230084934, 'bleu': 22.1461, 'gen_len': 9.899}\n",
      "\n",
      "=============================\n",
      "\n"
     ]
    },
    {
     "name": "stderr",
     "output_type": "stream",
     "text": [
      " 64%|██████▍   | 221/344 [1:05:12<37:19, 18.21s/it]"
     ]
    },
    {
     "name": "stdout",
     "output_type": "stream",
     "text": [
      "For epoch 678: \n",
      "{Learning rate: [0.00021788106607330203]}\n"
     ]
    },
    {
     "name": "stderr",
     "output_type": "stream",
     "text": [
      "Train batch number 99: 100%|██████████| 99/99 [00:12<00:00,  7.98batches/s]\n",
      "Test batch number 13: 100%|██████████| 13/13 [00:03<00:00,  3.91batches/s]\n"
     ]
    },
    {
     "name": "stdout",
     "output_type": "stream",
     "text": [
      "\n",
      "Metrics: {'train_loss': 0.005434070229268694, 'test_loss': 2.077521039889409, 'bleu': 22.3221, 'gen_len': 10.0152}\n",
      "\n",
      "=============================\n",
      "\n"
     ]
    },
    {
     "name": "stderr",
     "output_type": "stream",
     "text": [
      " 65%|██████▍   | 222/344 [1:05:30<36:42, 18.05s/it]"
     ]
    },
    {
     "name": "stdout",
     "output_type": "stream",
     "text": [
      "For epoch 679: \n",
      "{Learning rate: [0.00021489031861474448]}\n"
     ]
    },
    {
     "name": "stderr",
     "output_type": "stream",
     "text": [
      "Train batch number 99: 100%|██████████| 99/99 [00:12<00:00,  7.85batches/s]\n",
      "Test batch number 13: 100%|██████████| 13/13 [00:03<00:00,  4.05batches/s]\n"
     ]
    },
    {
     "name": "stdout",
     "output_type": "stream",
     "text": [
      "\n",
      "Metrics: {'train_loss': 0.005475456953681347, 'test_loss': 2.0775346755981445, 'bleu': 22.3735, 'gen_len': 9.9798}\n",
      "\n",
      "=============================\n",
      "\n"
     ]
    },
    {
     "name": "stderr",
     "output_type": "stream",
     "text": [
      " 65%|██████▍   | 223/344 [1:05:48<36:09, 17.93s/it]"
     ]
    },
    {
     "name": "stdout",
     "output_type": "stream",
     "text": [
      "For epoch 680: \n",
      "{Learning rate: [0.00021191866817985093]}\n"
     ]
    },
    {
     "name": "stderr",
     "output_type": "stream",
     "text": [
      "Train batch number 99: 100%|██████████| 99/99 [00:12<00:00,  7.88batches/s]\n",
      "Test batch number 13: 100%|██████████| 13/13 [00:03<00:00,  4.02batches/s]\n"
     ]
    },
    {
     "name": "stdout",
     "output_type": "stream",
     "text": [
      "\n",
      "Metrics: {'train_loss': 0.0054946248591560025, 'test_loss': 2.078263337795551, 'bleu': 22.3566, 'gen_len': 9.8838}\n",
      "\n",
      "=============================\n",
      "\n"
     ]
    },
    {
     "name": "stderr",
     "output_type": "stream",
     "text": [
      " 65%|██████▌   | 224/344 [1:06:05<35:41, 17.84s/it]"
     ]
    },
    {
     "name": "stdout",
     "output_type": "stream",
     "text": [
      "For epoch 681: \n",
      "{Learning rate: [0.0002089661585313259]}\n"
     ]
    },
    {
     "name": "stderr",
     "output_type": "stream",
     "text": [
      "Train batch number 99: 100%|██████████| 99/99 [00:12<00:00,  7.89batches/s]\n",
      "Test batch number 13: 100%|██████████| 13/13 [00:03<00:00,  3.85batches/s]\n"
     ]
    },
    {
     "name": "stdout",
     "output_type": "stream",
     "text": [
      "\n",
      "Metrics: {'train_loss': 0.005433691844562859, 'test_loss': 2.077469431436979, 'bleu': 21.8586, 'gen_len': 9.8788}\n",
      "\n",
      "=============================\n",
      "\n"
     ]
    },
    {
     "name": "stderr",
     "output_type": "stream",
     "text": [
      " 65%|██████▌   | 225/344 [1:06:23<35:20, 17.82s/it]"
     ]
    },
    {
     "name": "stdout",
     "output_type": "stream",
     "text": [
      "For epoch 682: \n",
      "{Learning rate: [0.00020603283314999302]}\n"
     ]
    },
    {
     "name": "stderr",
     "output_type": "stream",
     "text": [
      "Train batch number 99: 100%|██████████| 99/99 [00:12<00:00,  7.78batches/s]\n",
      "Test batch number 13: 100%|██████████| 13/13 [00:03<00:00,  3.87batches/s]\n"
     ]
    },
    {
     "name": "stdout",
     "output_type": "stream",
     "text": [
      "\n",
      "Metrics: {'train_loss': 0.00558417369588043, 'test_loss': 2.076931889240558, 'bleu': 21.8696, 'gen_len': 9.8687}\n",
      "\n",
      "=============================\n",
      "\n"
     ]
    },
    {
     "name": "stderr",
     "output_type": "stream",
     "text": [
      " 66%|██████▌   | 226/344 [1:06:41<35:05, 17.84s/it]"
     ]
    },
    {
     "name": "stdout",
     "output_type": "stream",
     "text": [
      "For epoch 683: \n",
      "{Learning rate: [0.00020311873523415285]}\n"
     ]
    },
    {
     "name": "stderr",
     "output_type": "stream",
     "text": [
      "Train batch number 99: 100%|██████████| 99/99 [00:12<00:00,  7.98batches/s]\n",
      "Test batch number 13: 100%|██████████| 13/13 [00:03<00:00,  4.02batches/s]\n"
     ]
    },
    {
     "name": "stdout",
     "output_type": "stream",
     "text": [
      "\n",
      "Metrics: {'train_loss': 0.005428332456351126, 'test_loss': 2.077941032556387, 'bleu': 21.8355, 'gen_len': 9.8788}\n",
      "\n",
      "=============================\n",
      "\n"
     ]
    },
    {
     "name": "stderr",
     "output_type": "stream",
     "text": [
      " 66%|██████▌   | 227/344 [1:06:58<34:32, 17.72s/it]"
     ]
    },
    {
     "name": "stdout",
     "output_type": "stream",
     "text": [
      "For epoch 684: \n",
      "{Learning rate: [0.00020022390769895002]}\n"
     ]
    },
    {
     "name": "stderr",
     "output_type": "stream",
     "text": [
      "Train batch number 99: 100%|██████████| 99/99 [00:12<00:00,  7.77batches/s]\n",
      "Test batch number 13: 100%|██████████| 13/13 [00:03<00:00,  4.01batches/s]\n"
     ]
    },
    {
     "name": "stdout",
     "output_type": "stream",
     "text": [
      "\n",
      "Metrics: {'train_loss': 0.0055329099040586655, 'test_loss': 2.0731560083536, 'bleu': 21.8752, 'gen_len': 9.8636}\n",
      "\n",
      "=============================\n",
      "\n"
     ]
    },
    {
     "name": "stderr",
     "output_type": "stream",
     "text": [
      " 66%|██████▋   | 228/344 [1:07:16<34:17, 17.74s/it]"
     ]
    },
    {
     "name": "stdout",
     "output_type": "stream",
     "text": [
      "For epoch 685: \n",
      "{Learning rate: [0.00019734839317573773]}\n"
     ]
    },
    {
     "name": "stderr",
     "output_type": "stream",
     "text": [
      "Train batch number 99: 100%|██████████| 99/99 [00:12<00:00,  7.68batches/s]\n",
      "Test batch number 13: 100%|██████████| 13/13 [00:03<00:00,  4.04batches/s]\n"
     ]
    },
    {
     "name": "stdout",
     "output_type": "stream",
     "text": [
      "\n",
      "Metrics: {'train_loss': 0.005334121244342179, 'test_loss': 2.0744428359545193, 'bleu': 22.2095, 'gen_len': 9.8737}\n",
      "\n",
      "=============================\n",
      "\n"
     ]
    },
    {
     "name": "stderr",
     "output_type": "stream",
     "text": [
      " 67%|██████▋   | 229/344 [1:07:34<34:07, 17.80s/it]"
     ]
    },
    {
     "name": "stdout",
     "output_type": "stream",
     "text": [
      "For epoch 686: \n",
      "{Learning rate: [0.000194492234011453]}\n"
     ]
    },
    {
     "name": "stderr",
     "output_type": "stream",
     "text": [
      "Train batch number 99: 100%|██████████| 99/99 [00:12<00:00,  7.86batches/s]\n",
      "Test batch number 13: 100%|██████████| 13/13 [00:03<00:00,  4.00batches/s]\n"
     ]
    },
    {
     "name": "stdout",
     "output_type": "stream",
     "text": [
      "\n",
      "Metrics: {'train_loss': 0.005422810308054334, 'test_loss': 2.078319091063279, 'bleu': 22.2528, 'gen_len': 9.8788}\n",
      "\n",
      "=============================\n",
      "\n"
     ]
    },
    {
     "name": "stderr",
     "output_type": "stream",
     "text": [
      " 67%|██████▋   | 230/344 [1:07:52<33:43, 17.75s/it]"
     ]
    },
    {
     "name": "stdout",
     "output_type": "stream",
     "text": [
      "For epoch 687: \n",
      "{Learning rate: [0.00019165547226799088]}\n"
     ]
    },
    {
     "name": "stderr",
     "output_type": "stream",
     "text": [
      "Train batch number 99: 100%|██████████| 99/99 [00:12<00:00,  7.89batches/s]\n",
      "Test batch number 13: 100%|██████████| 13/13 [00:03<00:00,  4.03batches/s]\n"
     ]
    },
    {
     "name": "stdout",
     "output_type": "stream",
     "text": [
      "\n",
      "Metrics: {'train_loss': 0.0053181657410342, 'test_loss': 2.0781348943710327, 'bleu': 22.2528, 'gen_len': 9.8788}\n",
      "\n",
      "=============================\n",
      "\n"
     ]
    },
    {
     "name": "stderr",
     "output_type": "stream",
     "text": [
      " 67%|██████▋   | 231/344 [1:08:09<33:18, 17.68s/it]"
     ]
    },
    {
     "name": "stdout",
     "output_type": "stream",
     "text": [
      "For epoch 688: \n",
      "{Learning rate: [0.0001888381497215852]}\n"
     ]
    },
    {
     "name": "stderr",
     "output_type": "stream",
     "text": [
      "Train batch number 99: 100%|██████████| 99/99 [00:12<00:00,  7.84batches/s]\n",
      "Test batch number 13: 100%|██████████| 13/13 [00:03<00:00,  3.84batches/s]\n"
     ]
    },
    {
     "name": "stdout",
     "output_type": "stream",
     "text": [
      "\n",
      "Metrics: {'train_loss': 0.005509975092894764, 'test_loss': 2.076902985572815, 'bleu': 21.9869, 'gen_len': 9.8737}\n",
      "\n",
      "=============================\n",
      "\n"
     ]
    },
    {
     "name": "stderr",
     "output_type": "stream",
     "text": [
      " 67%|██████▋   | 232/344 [1:08:27<33:04, 17.72s/it]"
     ]
    },
    {
     "name": "stdout",
     "output_type": "stream",
     "text": [
      "For epoch 689: \n",
      "{Learning rate: [0.0001860403078621952]}\n"
     ]
    },
    {
     "name": "stderr",
     "output_type": "stream",
     "text": [
      "Train batch number 99: 100%|██████████| 99/99 [00:12<00:00,  7.75batches/s]\n",
      "Test batch number 13: 100%|██████████| 13/13 [00:03<00:00,  4.01batches/s]\n"
     ]
    },
    {
     "name": "stdout",
     "output_type": "stream",
     "text": [
      "\n",
      "Metrics: {'train_loss': 0.005475467765166405, 'test_loss': 2.0766991468576284, 'bleu': 22.3233, 'gen_len': 9.8838}\n",
      "\n",
      "=============================\n",
      "\n"
     ]
    },
    {
     "name": "stderr",
     "output_type": "stream",
     "text": [
      " 68%|██████▊   | 233/344 [1:08:45<32:54, 17.79s/it]"
     ]
    },
    {
     "name": "stdout",
     "output_type": "stream",
     "text": [
      "For epoch 690: \n",
      "{Learning rate: [0.000183261987892893]}\n"
     ]
    },
    {
     "name": "stderr",
     "output_type": "stream",
     "text": [
      "Train batch number 99: 100%|██████████| 99/99 [00:12<00:00,  7.91batches/s]\n",
      "Test batch number 13: 100%|██████████| 13/13 [00:03<00:00,  4.04batches/s]\n"
     ]
    },
    {
     "name": "stdout",
     "output_type": "stream",
     "text": [
      "\n",
      "Metrics: {'train_loss': 0.005265392450088955, 'test_loss': 2.0777574961002054, 'bleu': 22.3233, 'gen_len': 9.8838}\n",
      "\n",
      "=============================\n",
      "\n"
     ]
    },
    {
     "name": "stderr",
     "output_type": "stream",
     "text": [
      " 68%|██████▊   | 234/344 [1:09:03<32:27, 17.70s/it]"
     ]
    },
    {
     "name": "stdout",
     "output_type": "stream",
     "text": [
      "For epoch 691: \n",
      "{Learning rate: [0.00018050323072925595]}\n"
     ]
    },
    {
     "name": "stderr",
     "output_type": "stream",
     "text": [
      "Train batch number 99: 100%|██████████| 99/99 [00:12<00:00,  7.87batches/s]\n",
      "Test batch number 13: 100%|██████████| 13/13 [00:03<00:00,  4.02batches/s]\n"
     ]
    },
    {
     "name": "stdout",
     "output_type": "stream",
     "text": [
      "\n",
      "Metrics: {'train_loss': 0.005424270642209314, 'test_loss': 2.0770881267694326, 'bleu': 22.355, 'gen_len': 9.9141}\n",
      "\n",
      "=============================\n",
      "\n"
     ]
    },
    {
     "name": "stderr",
     "output_type": "stream",
     "text": [
      " 68%|██████▊   | 235/344 [1:09:20<32:07, 17.68s/it]"
     ]
    },
    {
     "name": "stdout",
     "output_type": "stream",
     "text": [
      "For epoch 692: \n",
      "{Learning rate: [0.0001777640769987661]}\n"
     ]
    },
    {
     "name": "stderr",
     "output_type": "stream",
     "text": [
      "Train batch number 99: 100%|██████████| 99/99 [00:12<00:00,  7.80batches/s]\n",
      "Test batch number 13: 100%|██████████| 13/13 [00:03<00:00,  4.04batches/s]\n"
     ]
    },
    {
     "name": "stdout",
     "output_type": "stream",
     "text": [
      "\n",
      "Metrics: {'train_loss': 0.005346722006880104, 'test_loss': 2.0778648211405826, 'bleu': 22.3235, 'gen_len': 9.9141}\n",
      "\n",
      "=============================\n",
      "\n"
     ]
    },
    {
     "name": "stderr",
     "output_type": "stream",
     "text": [
      " 69%|██████▊   | 236/344 [1:09:38<31:50, 17.69s/it]"
     ]
    },
    {
     "name": "stdout",
     "output_type": "stream",
     "text": [
      "For epoch 693: \n",
      "{Learning rate: [0.0001750445670402112]}\n"
     ]
    },
    {
     "name": "stderr",
     "output_type": "stream",
     "text": [
      "Train batch number 99: 100%|██████████| 99/99 [00:12<00:00,  7.94batches/s]\n",
      "Test batch number 13: 100%|██████████| 13/13 [00:03<00:00,  4.03batches/s]\n"
     ]
    },
    {
     "name": "stdout",
     "output_type": "stream",
     "text": [
      "\n",
      "Metrics: {'train_loss': 0.0053003313092778274, 'test_loss': 2.077310534623953, 'bleu': 22.6282, 'gen_len': 9.9192}\n",
      "\n",
      "=============================\n",
      "\n"
     ]
    },
    {
     "name": "stderr",
     "output_type": "stream",
     "text": [
      " 69%|██████▉   | 237/344 [1:09:56<31:30, 17.67s/it]"
     ]
    },
    {
     "name": "stdout",
     "output_type": "stream",
     "text": [
      "For epoch 694: \n",
      "{Learning rate: [0.0001723447409030893]}\n"
     ]
    },
    {
     "name": "stderr",
     "output_type": "stream",
     "text": [
      "Train batch number 99: 100%|██████████| 99/99 [00:12<00:00,  7.97batches/s]\n",
      "Test batch number 13: 100%|██████████| 13/13 [00:03<00:00,  4.03batches/s]\n"
     ]
    },
    {
     "name": "stdout",
     "output_type": "stream",
     "text": [
      "\n",
      "Metrics: {'train_loss': 0.005303433880937813, 'test_loss': 2.0775752434363732, 'bleu': 22.594, 'gen_len': 9.9293}\n",
      "\n",
      "=============================\n",
      "\n"
     ]
    },
    {
     "name": "stderr",
     "output_type": "stream",
     "text": [
      " 69%|██████▉   | 238/344 [1:10:13<31:08, 17.63s/it]"
     ]
    },
    {
     "name": "stdout",
     "output_type": "stream",
     "text": [
      "For epoch 695: \n",
      "{Learning rate: [0.00016966463834702152]}\n"
     ]
    },
    {
     "name": "stderr",
     "output_type": "stream",
     "text": [
      "Train batch number 99: 100%|██████████| 99/99 [00:12<00:00,  7.73batches/s]\n",
      "Test batch number 13: 100%|██████████| 13/13 [00:03<00:00,  4.00batches/s]\n"
     ]
    },
    {
     "name": "stdout",
     "output_type": "stream",
     "text": [
      "\n",
      "Metrics: {'train_loss': 0.005471554185725946, 'test_loss': 2.077630666586069, 'bleu': 22.3834, 'gen_len': 9.899}\n",
      "\n",
      "=============================\n",
      "\n"
     ]
    },
    {
     "name": "stderr",
     "output_type": "stream",
     "text": [
      " 69%|██████▉   | 239/344 [1:10:31<31:00, 17.72s/it]"
     ]
    },
    {
     "name": "stdout",
     "output_type": "stream",
     "text": [
      "For epoch 696: \n",
      "{Learning rate: [0.00016700429884116346]}\n"
     ]
    },
    {
     "name": "stderr",
     "output_type": "stream",
     "text": [
      "Train batch number 99: 100%|██████████| 99/99 [00:12<00:00,  7.96batches/s]\n",
      "Test batch number 13: 100%|██████████| 13/13 [00:03<00:00,  4.04batches/s]\n"
     ]
    },
    {
     "name": "stdout",
     "output_type": "stream",
     "text": [
      "\n",
      "Metrics: {'train_loss': 0.005238331956647788, 'test_loss': 2.0778959714449368, 'bleu': 22.6284, 'gen_len': 9.8939}\n",
      "\n",
      "=============================\n",
      "\n"
     ]
    },
    {
     "name": "stderr",
     "output_type": "stream",
     "text": [
      " 70%|██████▉   | 240/344 [1:10:48<30:34, 17.64s/it]"
     ]
    },
    {
     "name": "stdout",
     "output_type": "stream",
     "text": [
      "For epoch 697: \n",
      "{Learning rate: [0.00016436376156362672]}\n"
     ]
    },
    {
     "name": "stderr",
     "output_type": "stream",
     "text": [
      "Train batch number 99: 100%|██████████| 99/99 [00:12<00:00,  7.72batches/s]\n",
      "Test batch number 13: 100%|██████████| 13/13 [00:03<00:00,  3.86batches/s]\n"
     ]
    },
    {
     "name": "stdout",
     "output_type": "stream",
     "text": [
      "\n",
      "Metrics: {'train_loss': 0.005273143105435825, 'test_loss': 2.0795765840090237, 'bleu': 22.6112, 'gen_len': 9.9091}\n",
      "\n",
      "=============================\n",
      "\n"
     ]
    },
    {
     "name": "stderr",
     "output_type": "stream",
     "text": [
      " 70%|███████   | 241/344 [1:11:06<30:26, 17.73s/it]"
     ]
    },
    {
     "name": "stdout",
     "output_type": "stream",
     "text": [
      "For epoch 698: \n",
      "{Learning rate: [0.0001617430654009006]}\n"
     ]
    },
    {
     "name": "stderr",
     "output_type": "stream",
     "text": [
      "Train batch number 99: 100%|██████████| 99/99 [00:12<00:00,  7.94batches/s]\n",
      "Test batch number 13: 100%|██████████| 13/13 [00:03<00:00,  4.07batches/s]\n"
     ]
    },
    {
     "name": "stdout",
     "output_type": "stream",
     "text": [
      "\n",
      "Metrics: {'train_loss': 0.005268997627482726, 'test_loss': 2.0798140580837545, 'bleu': 22.3834, 'gen_len': 9.899}\n",
      "\n",
      "=============================\n",
      "\n"
     ]
    },
    {
     "name": "stderr",
     "output_type": "stream",
     "text": [
      " 70%|███████   | 242/344 [1:11:24<30:02, 17.67s/it]"
     ]
    },
    {
     "name": "stdout",
     "output_type": "stream",
     "text": [
      "For epoch 699: \n",
      "{Learning rate: [0.00015914224894727892]}\n"
     ]
    },
    {
     "name": "stderr",
     "output_type": "stream",
     "text": [
      "Train batch number 99: 100%|██████████| 99/99 [00:12<00:00,  7.79batches/s]\n",
      "Test batch number 13: 100%|██████████| 13/13 [00:03<00:00,  4.01batches/s]\n"
     ]
    },
    {
     "name": "stdout",
     "output_type": "stream",
     "text": [
      "\n",
      "Metrics: {'train_loss': 0.005369327345999979, 'test_loss': 2.0802501623447123, 'bleu': 22.4004, 'gen_len': 9.8838}\n",
      "\n",
      "=============================\n",
      "\n"
     ]
    },
    {
     "name": "stderr",
     "output_type": "stream",
     "text": [
      " 71%|███████   | 243/344 [1:11:42<29:49, 17.71s/it]"
     ]
    },
    {
     "name": "stdout",
     "output_type": "stream",
     "text": [
      "For epoch 700: \n",
      "{Learning rate: [0.00015656135050429317]}\n"
     ]
    },
    {
     "name": "stderr",
     "output_type": "stream",
     "text": [
      "Train batch number 99: 100%|██████████| 99/99 [00:12<00:00,  7.97batches/s]\n",
      "Test batch number 13: 100%|██████████| 13/13 [00:03<00:00,  4.03batches/s]\n"
     ]
    },
    {
     "name": "stdout",
     "output_type": "stream",
     "text": [
      "\n",
      "Metrics: {'train_loss': 0.005357772434754132, 'test_loss': 2.0805575847625732, 'bleu': 22.3377, 'gen_len': 9.9141}\n",
      "\n",
      "=============================\n",
      "\n"
     ]
    },
    {
     "name": "stderr",
     "output_type": "stream",
     "text": [
      " 71%|███████   | 244/344 [1:11:59<29:22, 17.62s/it]"
     ]
    },
    {
     "name": "stdout",
     "output_type": "stream",
     "text": [
      "For epoch 701: \n",
      "{Learning rate: [0.00015400040808014715]}\n"
     ]
    },
    {
     "name": "stderr",
     "output_type": "stream",
     "text": [
      "Train batch number 99: 100%|██████████| 99/99 [00:12<00:00,  7.93batches/s]\n",
      "Test batch number 13: 100%|██████████| 13/13 [00:03<00:00,  3.91batches/s]\n"
     ]
    },
    {
     "name": "stdout",
     "output_type": "stream",
     "text": [
      "\n",
      "Metrics: {'train_loss': 0.00529991525282373, 'test_loss': 2.0812691175020657, 'bleu': 22.3434, 'gen_len': 9.904}\n",
      "\n",
      "=============================\n",
      "\n"
     ]
    },
    {
     "name": "stderr",
     "output_type": "stream",
     "text": [
      " 71%|███████   | 245/344 [1:12:17<29:03, 17.61s/it]"
     ]
    },
    {
     "name": "stdout",
     "output_type": "stream",
     "text": [
      "For epoch 702: \n",
      "{Learning rate: [0.00015145945938915722]}\n"
     ]
    },
    {
     "name": "stderr",
     "output_type": "stream",
     "text": [
      "Train batch number 99: 100%|██████████| 99/99 [00:12<00:00,  7.88batches/s]\n",
      "Test batch number 13: 100%|██████████| 13/13 [00:03<00:00,  3.99batches/s]\n"
     ]
    },
    {
     "name": "stdout",
     "output_type": "stream",
     "text": [
      "\n",
      "Metrics: {'train_loss': 0.00527546955290194, 'test_loss': 2.082084820820735, 'bleu': 22.5997, 'gen_len': 9.8737}\n",
      "\n",
      "=============================\n",
      "\n"
     ]
    },
    {
     "name": "stderr",
     "output_type": "stream",
     "text": [
      " 72%|███████▏  | 246/344 [1:12:34<28:46, 17.62s/it]"
     ]
    },
    {
     "name": "stdout",
     "output_type": "stream",
     "text": [
      "For epoch 703: \n",
      "{Learning rate: [0.00014893854185119875]}\n"
     ]
    },
    {
     "name": "stderr",
     "output_type": "stream",
     "text": [
      "Train batch number 99: 100%|██████████| 99/99 [00:12<00:00,  7.81batches/s]\n",
      "Test batch number 13: 100%|██████████| 13/13 [00:03<00:00,  4.02batches/s]\n"
     ]
    },
    {
     "name": "stdout",
     "output_type": "stream",
     "text": [
      "\n",
      "Metrics: {'train_loss': 0.0052404472200321085, 'test_loss': 2.0794158348670373, 'bleu': 22.594, 'gen_len': 9.9242}\n",
      "\n",
      "=============================\n",
      "\n"
     ]
    },
    {
     "name": "stderr",
     "output_type": "stream",
     "text": [
      " 72%|███████▏  | 247/344 [1:12:52<28:30, 17.64s/it]"
     ]
    },
    {
     "name": "stdout",
     "output_type": "stream",
     "text": [
      "For epoch 704: \n",
      "{Learning rate: [0.0001464376925911519]}\n"
     ]
    },
    {
     "name": "stderr",
     "output_type": "stream",
     "text": [
      "Train batch number 99: 100%|██████████| 99/99 [00:12<00:00,  7.85batches/s]\n",
      "Test batch number 13: 100%|██████████| 13/13 [00:03<00:00,  3.82batches/s]\n"
     ]
    },
    {
     "name": "stdout",
     "output_type": "stream",
     "text": [
      "\n",
      "Metrics: {'train_loss': 0.005343366619211274, 'test_loss': 2.0810028589688816, 'bleu': 22.5564, 'gen_len': 9.8838}\n",
      "\n",
      "=============================\n",
      "\n"
     ]
    },
    {
     "name": "stderr",
     "output_type": "stream",
     "text": [
      " 72%|███████▏  | 248/344 [1:13:10<28:17, 17.69s/it]"
     ]
    },
    {
     "name": "stdout",
     "output_type": "stream",
     "text": [
      "For epoch 705: \n",
      "{Learning rate: [0.00014395694843835798]}\n"
     ]
    },
    {
     "name": "stderr",
     "output_type": "stream",
     "text": [
      "Train batch number 99: 100%|██████████| 99/99 [00:12<00:00,  7.87batches/s]\n",
      "Test batch number 13: 100%|██████████| 13/13 [00:03<00:00,  3.82batches/s]\n"
     ]
    },
    {
     "name": "stdout",
     "output_type": "stream",
     "text": [
      "\n",
      "Metrics: {'train_loss': 0.00531884382530045, 'test_loss': 2.0802256785906277, 'bleu': 22.5768, 'gen_len': 9.8939}\n",
      "\n",
      "=============================\n",
      "\n"
     ]
    },
    {
     "name": "stderr",
     "output_type": "stream",
     "text": [
      " 72%|███████▏  | 249/344 [1:13:28<28:02, 17.71s/it]"
     ]
    },
    {
     "name": "stdout",
     "output_type": "stream",
     "text": [
      "For epoch 706: \n",
      "{Learning rate: [0.00014149634592607548]}\n"
     ]
    },
    {
     "name": "stderr",
     "output_type": "stream",
     "text": [
      "Train batch number 99: 100%|██████████| 99/99 [00:12<00:00,  7.83batches/s]\n",
      "Test batch number 13: 100%|██████████| 13/13 [00:03<00:00,  4.02batches/s]\n"
     ]
    },
    {
     "name": "stdout",
     "output_type": "stream",
     "text": [
      "\n",
      "Metrics: {'train_loss': 0.005304146511230331, 'test_loss': 2.080378917547373, 'bleu': 22.6513, 'gen_len': 9.8535}\n",
      "\n",
      "=============================\n",
      "\n"
     ]
    },
    {
     "name": "stderr",
     "output_type": "stream",
     "text": [
      " 73%|███████▎  | 250/344 [1:13:45<27:42, 17.69s/it]"
     ]
    },
    {
     "name": "stdout",
     "output_type": "stream",
     "text": [
      "For epoch 707: \n",
      "{Learning rate: [0.0001390559212909416]}\n"
     ]
    },
    {
     "name": "stderr",
     "output_type": "stream",
     "text": [
      "Train batch number 99: 100%|██████████| 99/99 [00:12<00:00,  7.96batches/s]\n",
      "Test batch number 13: 100%|██████████| 13/13 [00:03<00:00,  4.00batches/s]\n"
     ]
    },
    {
     "name": "stdout",
     "output_type": "stream",
     "text": [
      "\n",
      "Metrics: {'train_loss': 0.005422121227978766, 'test_loss': 2.0793720208681545, 'bleu': 22.5678, 'gen_len': 9.8586}\n",
      "\n",
      "=============================\n",
      "\n"
     ]
    },
    {
     "name": "stderr",
     "output_type": "stream",
     "text": [
      " 73%|███████▎  | 251/344 [1:14:03<27:20, 17.64s/it]"
     ]
    },
    {
     "name": "stdout",
     "output_type": "stream",
     "text": [
      "For epoch 708: \n",
      "{Learning rate: [0.00013663571047244018]}\n"
     ]
    },
    {
     "name": "stderr",
     "output_type": "stream",
     "text": [
      "Train batch number 99: 100%|██████████| 99/99 [00:12<00:00,  7.94batches/s]\n",
      "Test batch number 13: 100%|██████████| 13/13 [00:03<00:00,  3.86batches/s]\n"
     ]
    },
    {
     "name": "stdout",
     "output_type": "stream",
     "text": [
      "\n",
      "Metrics: {'train_loss': 0.0053810207509833174, 'test_loss': 2.079471147977389, 'bleu': 22.5737, 'gen_len': 9.8838}\n",
      "\n",
      "=============================\n",
      "\n"
     ]
    },
    {
     "name": "stderr",
     "output_type": "stream",
     "text": [
      " 73%|███████▎  | 252/344 [1:14:20<27:03, 17.65s/it]"
     ]
    },
    {
     "name": "stdout",
     "output_type": "stream",
     "text": [
      "For epoch 709: \n",
      "{Learning rate: [0.00013423574911237152]}\n"
     ]
    },
    {
     "name": "stderr",
     "output_type": "stream",
     "text": [
      "Train batch number 99: 100%|██████████| 99/99 [00:12<00:00,  7.88batches/s]\n",
      "Test batch number 13: 100%|██████████| 13/13 [00:03<00:00,  4.02batches/s]\n"
     ]
    },
    {
     "name": "stdout",
     "output_type": "stream",
     "text": [
      "\n",
      "Metrics: {'train_loss': 0.005265536985296587, 'test_loss': 2.0809596593563375, 'bleu': 22.5737, 'gen_len': 9.8788}\n",
      "\n",
      "=============================\n",
      "\n"
     ]
    },
    {
     "name": "stderr",
     "output_type": "stream",
     "text": [
      " 74%|███████▎  | 253/344 [1:14:38<26:42, 17.61s/it]"
     ]
    },
    {
     "name": "stdout",
     "output_type": "stream",
     "text": [
      "For epoch 710: \n",
      "{Learning rate: [0.00013185607255432666]}\n"
     ]
    },
    {
     "name": "stderr",
     "output_type": "stream",
     "text": [
      "Train batch number 99: 100%|██████████| 99/99 [00:12<00:00,  7.92batches/s]\n",
      "Test batch number 13: 100%|██████████| 13/13 [00:03<00:00,  4.06batches/s]\n"
     ]
    },
    {
     "name": "stdout",
     "output_type": "stream",
     "text": [
      "\n",
      "Metrics: {'train_loss': 0.005303919260437728, 'test_loss': 2.08127131828895, 'bleu': 22.5763, 'gen_len': 9.8687}\n",
      "\n",
      "=============================\n",
      "\n"
     ]
    },
    {
     "name": "stderr",
     "output_type": "stream",
     "text": [
      " 74%|███████▍  | 254/344 [1:14:55<26:20, 17.56s/it]"
     ]
    },
    {
     "name": "stdout",
     "output_type": "stream",
     "text": [
      "For epoch 711: \n",
      "{Learning rate: [0.00012949671584316902]}\n"
     ]
    },
    {
     "name": "stderr",
     "output_type": "stream",
     "text": [
      "Train batch number 99: 100%|██████████| 99/99 [00:12<00:00,  7.83batches/s]\n",
      "Test batch number 13: 100%|██████████| 13/13 [00:03<00:00,  3.98batches/s]\n"
     ]
    },
    {
     "name": "stdout",
     "output_type": "stream",
     "text": [
      "\n",
      "Metrics: {'train_loss': 0.0054026232853607095, 'test_loss': 2.0820135336655836, 'bleu': 22.5852, 'gen_len': 9.8889}\n",
      "\n",
      "=============================\n",
      "\n"
     ]
    },
    {
     "name": "stderr",
     "output_type": "stream",
     "text": [
      " 74%|███████▍  | 255/344 [1:15:13<26:05, 17.59s/it]"
     ]
    },
    {
     "name": "stdout",
     "output_type": "stream",
     "text": [
      "For epoch 712: \n",
      "{Learning rate: [0.00012715771372451563]}\n"
     ]
    },
    {
     "name": "stderr",
     "output_type": "stream",
     "text": [
      "Train batch number 99: 100%|██████████| 99/99 [00:12<00:00,  7.94batches/s]\n",
      "Test batch number 13: 100%|██████████| 13/13 [00:03<00:00,  4.01batches/s]\n"
     ]
    },
    {
     "name": "stdout",
     "output_type": "stream",
     "text": [
      "\n",
      "Metrics: {'train_loss': 0.005375354583410433, 'test_loss': 2.0814308569981503, 'bleu': 22.6253, 'gen_len': 9.8889}\n",
      "\n",
      "=============================\n",
      "\n"
     ]
    },
    {
     "name": "stderr",
     "output_type": "stream",
     "text": [
      " 74%|███████▍  | 256/344 [1:15:31<25:45, 17.56s/it]"
     ]
    },
    {
     "name": "stdout",
     "output_type": "stream",
     "text": [
      "For epoch 713: \n",
      "{Learning rate: [0.0001248391006442282]}\n"
     ]
    },
    {
     "name": "stderr",
     "output_type": "stream",
     "text": [
      "Train batch number 99: 100%|██████████| 99/99 [00:12<00:00,  7.87batches/s]\n",
      "Test batch number 13: 100%|██████████| 13/13 [00:03<00:00,  3.98batches/s]\n"
     ]
    },
    {
     "name": "stdout",
     "output_type": "stream",
     "text": [
      "\n",
      "Metrics: {'train_loss': 0.0053020011791794774, 'test_loss': 2.080315727453965, 'bleu': 22.3688, 'gen_len': 9.9293}\n",
      "\n",
      "=============================\n",
      "\n"
     ]
    },
    {
     "name": "stderr",
     "output_type": "stream",
     "text": [
      " 75%|███████▍  | 257/344 [1:15:48<25:28, 17.57s/it]"
     ]
    },
    {
     "name": "stdout",
     "output_type": "stream",
     "text": [
      "For epoch 714: \n",
      "{Learning rate: [0.00012254091074790342]}\n"
     ]
    },
    {
     "name": "stderr",
     "output_type": "stream",
     "text": [
      "Train batch number 99: 100%|██████████| 99/99 [00:12<00:00,  7.89batches/s]\n",
      "Test batch number 13: 100%|██████████| 13/13 [00:03<00:00,  3.81batches/s]\n"
     ]
    },
    {
     "name": "stdout",
     "output_type": "stream",
     "text": [
      "\n",
      "Metrics: {'train_loss': 0.0052325085237342394, 'test_loss': 2.080398513720586, 'bleu': 22.5566, 'gen_len': 9.9343}\n",
      "\n",
      "=============================\n",
      "\n"
     ]
    },
    {
     "name": "stderr",
     "output_type": "stream",
     "text": [
      " 75%|███████▌  | 258/344 [1:16:06<25:17, 17.65s/it]"
     ]
    },
    {
     "name": "stdout",
     "output_type": "stream",
     "text": [
      "For epoch 715: \n",
      "{Learning rate: [0.00012026317788037239]}\n"
     ]
    },
    {
     "name": "stderr",
     "output_type": "stream",
     "text": [
      "Train batch number 99: 100%|██████████| 99/99 [00:12<00:00,  7.94batches/s]\n",
      "Test batch number 13: 100%|██████████| 13/13 [00:03<00:00,  4.02batches/s]\n"
     ]
    },
    {
     "name": "stdout",
     "output_type": "stream",
     "text": [
      "\n",
      "Metrics: {'train_loss': 0.0053633568731120155, 'test_loss': 2.079581141471863, 'bleu': 22.5623, 'gen_len': 9.9343}\n",
      "\n",
      "=============================\n",
      "\n"
     ]
    },
    {
     "name": "stderr",
     "output_type": "stream",
     "text": [
      " 75%|███████▌  | 259/344 [1:16:24<25:03, 17.68s/it]"
     ]
    },
    {
     "name": "stdout",
     "output_type": "stream",
     "text": [
      "For epoch 716: \n",
      "{Learning rate: [0.00011800593558519947]}\n"
     ]
    },
    {
     "name": "stderr",
     "output_type": "stream",
     "text": [
      "Train batch number 99: 100%|██████████| 99/99 [00:12<00:00,  7.84batches/s]\n",
      "Test batch number 13: 100%|██████████| 13/13 [00:03<00:00,  3.81batches/s]\n"
     ]
    },
    {
     "name": "stdout",
     "output_type": "stream",
     "text": [
      "\n",
      "Metrics: {'train_loss': 0.0052654700369322485, 'test_loss': 2.080089724980868, 'bleu': 22.5623, 'gen_len': 9.9343}\n",
      "\n",
      "=============================\n",
      "\n"
     ]
    },
    {
     "name": "stderr",
     "output_type": "stream",
     "text": [
      " 76%|███████▌  | 260/344 [1:16:42<24:49, 17.74s/it]"
     ]
    },
    {
     "name": "stdout",
     "output_type": "stream",
     "text": [
      "For epoch 717: \n",
      "{Learning rate: [0.00011576921710419149]}\n"
     ]
    },
    {
     "name": "stderr",
     "output_type": "stream",
     "text": [
      "Train batch number 99: 100%|██████████| 99/99 [00:12<00:00,  7.82batches/s]\n",
      "Test batch number 13: 100%|██████████| 13/13 [00:03<00:00,  3.97batches/s]\n"
     ]
    },
    {
     "name": "stdout",
     "output_type": "stream",
     "text": [
      "\n",
      "Metrics: {'train_loss': 0.005432645612275181, 'test_loss': 2.0812391317807712, 'bleu': 22.6915, 'gen_len': 9.9293}\n",
      "\n",
      "=============================\n",
      "\n"
     ]
    },
    {
     "name": "stderr",
     "output_type": "stream",
     "text": [
      " 76%|███████▌  | 261/344 [1:16:59<24:32, 17.74s/it]"
     ]
    },
    {
     "name": "stdout",
     "output_type": "stream",
     "text": [
      "For epoch 718: \n",
      "{Learning rate: [0.00011355305537690491]}\n"
     ]
    },
    {
     "name": "stderr",
     "output_type": "stream",
     "text": [
      "Train batch number 99: 100%|██████████| 99/99 [00:12<00:00,  7.94batches/s]\n",
      "Test batch number 13: 100%|██████████| 13/13 [00:03<00:00,  4.03batches/s]\n"
     ]
    },
    {
     "name": "stdout",
     "output_type": "stream",
     "text": [
      "\n",
      "Metrics: {'train_loss': 0.00531438883795871, 'test_loss': 2.081261157989502, 'bleu': 22.6253, 'gen_len': 9.904}\n",
      "\n",
      "=============================\n",
      "\n"
     ]
    },
    {
     "name": "stderr",
     "output_type": "stream",
     "text": [
      " 76%|███████▌  | 262/344 [1:17:17<24:08, 17.66s/it]"
     ]
    },
    {
     "name": "stdout",
     "output_type": "stream",
     "text": [
      "For epoch 719: \n",
      "{Learning rate: [0.00011135748304016337]}\n"
     ]
    },
    {
     "name": "stderr",
     "output_type": "stream",
     "text": [
      "Train batch number 99: 100%|██████████| 99/99 [00:12<00:00,  7.86batches/s]\n",
      "Test batch number 13: 100%|██████████| 13/13 [00:03<00:00,  3.79batches/s]\n"
     ]
    },
    {
     "name": "stdout",
     "output_type": "stream",
     "text": [
      "\n",
      "Metrics: {'train_loss': 0.005396558359665725, 'test_loss': 2.081529901577876, 'bleu': 22.7088, 'gen_len': 9.9242}\n",
      "\n",
      "=============================\n",
      "\n"
     ]
    },
    {
     "name": "stderr",
     "output_type": "stream",
     "text": [
      " 76%|███████▋  | 263/344 [1:17:35<23:56, 17.74s/it]"
     ]
    },
    {
     "name": "stdout",
     "output_type": "stream",
     "text": [
      "For epoch 720: \n",
      "{Learning rate: [0.00010918253242757619]}\n"
     ]
    },
    {
     "name": "stderr",
     "output_type": "stream",
     "text": [
      "Train batch number 99: 100%|██████████| 99/99 [00:12<00:00,  7.92batches/s]\n",
      "Test batch number 13: 100%|██████████| 13/13 [00:03<00:00,  4.00batches/s]\n"
     ]
    },
    {
     "name": "stdout",
     "output_type": "stream",
     "text": [
      "\n",
      "Metrics: {'train_loss': 0.005262499203760826, 'test_loss': 2.0820441979628344, 'bleu': 22.703, 'gen_len': 9.9293}\n",
      "\n",
      "=============================\n",
      "\n"
     ]
    },
    {
     "name": "stderr",
     "output_type": "stream",
     "text": [
      " 77%|███████▋  | 264/344 [1:17:52<23:34, 17.68s/it]"
     ]
    },
    {
     "name": "stdout",
     "output_type": "stream",
     "text": [
      "For epoch 721: \n",
      "{Learning rate: [0.00010702823556906123]}\n"
     ]
    },
    {
     "name": "stderr",
     "output_type": "stream",
     "text": [
      "Train batch number 99: 100%|██████████| 99/99 [00:12<00:00,  7.95batches/s]\n",
      "Test batch number 13: 100%|██████████| 13/13 [00:03<00:00,  3.96batches/s]\n"
     ]
    },
    {
     "name": "stdout",
     "output_type": "stream",
     "text": [
      "\n",
      "Metrics: {'train_loss': 0.0053420431195079785, 'test_loss': 2.0828272379361668, 'bleu': 22.5909, 'gen_len': 9.9091}\n",
      "\n",
      "=============================\n",
      "\n"
     ]
    },
    {
     "name": "stderr",
     "output_type": "stream",
     "text": [
      " 77%|███████▋  | 265/344 [1:18:10<23:13, 17.63s/it]"
     ]
    },
    {
     "name": "stdout",
     "output_type": "stream",
     "text": [
      "For epoch 722: \n",
      "{Learning rate: [0.0001048946241903748]}\n"
     ]
    },
    {
     "name": "stderr",
     "output_type": "stream",
     "text": [
      "Train batch number 99: 100%|██████████| 99/99 [00:12<00:00,  8.00batches/s]\n",
      "Test batch number 13: 100%|██████████| 13/13 [00:03<00:00,  4.05batches/s]\n"
     ]
    },
    {
     "name": "stdout",
     "output_type": "stream",
     "text": [
      "\n",
      "Metrics: {'train_loss': 0.005329308298847407, 'test_loss': 2.083037495613098, 'bleu': 22.5736, 'gen_len': 9.8636}\n",
      "\n",
      "=============================\n",
      "\n"
     ]
    },
    {
     "name": "stderr",
     "output_type": "stream",
     "text": [
      " 77%|███████▋  | 266/344 [1:18:27<22:50, 17.56s/it]"
     ]
    },
    {
     "name": "stdout",
     "output_type": "stream",
     "text": [
      "For epoch 723: \n",
      "{Learning rate: [0.00010278172971264294]}\n"
     ]
    },
    {
     "name": "stderr",
     "output_type": "stream",
     "text": [
      "Train batch number 99: 100%|██████████| 99/99 [00:12<00:00,  7.85batches/s]\n",
      "Test batch number 13: 100%|██████████| 13/13 [00:03<00:00,  4.06batches/s]\n"
     ]
    },
    {
     "name": "stdout",
     "output_type": "stream",
     "text": [
      "\n",
      "Metrics: {'train_loss': 0.005289990760649395, 'test_loss': 2.082975543462313, 'bleu': 22.6597, 'gen_len': 9.8434}\n",
      "\n",
      "=============================\n",
      "\n"
     ]
    },
    {
     "name": "stderr",
     "output_type": "stream",
     "text": [
      " 78%|███████▊  | 267/344 [1:18:45<22:35, 17.60s/it]"
     ]
    },
    {
     "name": "stdout",
     "output_type": "stream",
     "text": [
      "For epoch 724: \n",
      "{Learning rate: [0.00010068958325189987]}\n"
     ]
    },
    {
     "name": "stderr",
     "output_type": "stream",
     "text": [
      "Train batch number 99: 100%|██████████| 99/99 [00:12<00:00,  7.99batches/s]\n",
      "Test batch number 13: 100%|██████████| 13/13 [00:03<00:00,  4.06batches/s]\n"
     ]
    },
    {
     "name": "stdout",
     "output_type": "stream",
     "text": [
      "\n",
      "Metrics: {'train_loss': 0.005401851288692654, 'test_loss': 2.082751989364624, 'bleu': 22.6597, 'gen_len': 9.8434}\n",
      "\n",
      "=============================\n",
      "\n"
     ]
    },
    {
     "name": "stderr",
     "output_type": "stream",
     "text": [
      " 78%|███████▊  | 268/344 [1:19:02<22:17, 17.59s/it]"
     ]
    },
    {
     "name": "stdout",
     "output_type": "stream",
     "text": [
      "For epoch 725: \n",
      "{Learning rate: [9.861821561862954e-05]}\n"
     ]
    },
    {
     "name": "stderr",
     "output_type": "stream",
     "text": [
      "Train batch number 99: 100%|██████████| 99/99 [00:12<00:00,  7.81batches/s]\n",
      "Test batch number 13: 100%|██████████| 13/13 [00:03<00:00,  3.97batches/s]\n"
     ]
    },
    {
     "name": "stdout",
     "output_type": "stream",
     "text": [
      "\n",
      "Metrics: {'train_loss': 0.005305427322375842, 'test_loss': 2.082178684381338, 'bleu': 22.631, 'gen_len': 9.8838}\n",
      "\n",
      "=============================\n",
      "\n"
     ]
    },
    {
     "name": "stderr",
     "output_type": "stream",
     "text": [
      " 78%|███████▊  | 269/344 [1:19:20<22:03, 17.64s/it]"
     ]
    },
    {
     "name": "stdout",
     "output_type": "stream",
     "text": [
      "For epoch 726: \n",
      "{Learning rate: [9.656765731731073e-05]}\n"
     ]
    },
    {
     "name": "stderr",
     "output_type": "stream",
     "text": [
      "Train batch number 99: 100%|██████████| 99/99 [00:12<00:00,  7.94batches/s]\n",
      "Test batch number 13: 100%|██████████| 13/13 [00:03<00:00,  4.02batches/s]\n"
     ]
    },
    {
     "name": "stdout",
     "output_type": "stream",
     "text": [
      "\n",
      "Metrics: {'train_loss': 0.0052246424104051776, 'test_loss': 2.0826621239001932, 'bleu': 22.6768, 'gen_len': 9.8485}\n",
      "\n",
      "=============================\n",
      "\n"
     ]
    },
    {
     "name": "stderr",
     "output_type": "stream",
     "text": [
      " 78%|███████▊  | 270/344 [1:19:38<21:41, 17.59s/it]"
     ]
    },
    {
     "name": "stdout",
     "output_type": "stream",
     "text": [
      "For epoch 727: \n",
      "{Learning rate: [9.453793854597005e-05]}\n"
     ]
    },
    {
     "name": "stderr",
     "output_type": "stream",
     "text": [
      "Train batch number 99: 100%|██████████| 99/99 [00:13<00:00,  7.60batches/s]\n",
      "Test batch number 13: 100%|██████████| 13/13 [00:03<00:00,  4.01batches/s]\n"
     ]
    },
    {
     "name": "stdout",
     "output_type": "stream",
     "text": [
      "\n",
      "Metrics: {'train_loss': 0.005400318173427638, 'test_loss': 2.082647974674518, 'bleu': 22.6024, 'gen_len': 9.8788}\n",
      "\n",
      "=============================\n",
      "\n"
     ]
    },
    {
     "name": "stderr",
     "output_type": "stream",
     "text": [
      " 79%|███████▉  | 271/344 [1:19:56<21:33, 17.72s/it]"
     ]
    },
    {
     "name": "stdout",
     "output_type": "stream",
     "text": [
      "For epoch 728: \n",
      "{Learning rate: [9.252908919573428e-05]}\n"
     ]
    },
    {
     "name": "stderr",
     "output_type": "stream",
     "text": [
      "Train batch number 99: 100%|██████████| 99/99 [00:12<00:00,  7.76batches/s]\n",
      "Test batch number 13: 100%|██████████| 13/13 [00:03<00:00,  3.97batches/s]\n"
     ]
    },
    {
     "name": "stdout",
     "output_type": "stream",
     "text": [
      "\n",
      "Metrics: {'train_loss': 0.0053191642990427545, 'test_loss': 2.0814366799134474, 'bleu': 22.5967, 'gen_len': 9.8838}\n",
      "\n",
      "=============================\n",
      "\n"
     ]
    },
    {
     "name": "stderr",
     "output_type": "stream",
     "text": [
      " 79%|███████▉  | 272/344 [1:20:14<21:19, 17.77s/it]"
     ]
    },
    {
     "name": "stdout",
     "output_type": "stream",
     "text": [
      "For epoch 729: \n",
      "{Learning rate: [9.054113885039356e-05]}\n"
     ]
    },
    {
     "name": "stderr",
     "output_type": "stream",
     "text": [
      "Train batch number 99: 100%|██████████| 99/99 [00:12<00:00,  7.82batches/s]\n",
      "Test batch number 13: 100%|██████████| 13/13 [00:03<00:00,  3.75batches/s]\n"
     ]
    },
    {
     "name": "stdout",
     "output_type": "stream",
     "text": [
      "\n",
      "Metrics: {'train_loss': 0.005348158792582002, 'test_loss': 2.081901559462914, 'bleu': 22.5967, 'gen_len': 9.8838}\n",
      "\n",
      "=============================\n",
      "\n"
     ]
    },
    {
     "name": "stderr",
     "output_type": "stream",
     "text": [
      " 79%|███████▉  | 273/344 [1:20:31<21:04, 17.81s/it]"
     ]
    },
    {
     "name": "stdout",
     "output_type": "stream",
     "text": [
      "For epoch 730: \n",
      "{Learning rate: [8.857411678596252e-05]}\n"
     ]
    },
    {
     "name": "stderr",
     "output_type": "stream",
     "text": [
      "Train batch number 99: 100%|██████████| 99/99 [00:12<00:00,  7.93batches/s]\n",
      "Test batch number 13: 100%|██████████| 13/13 [00:03<00:00,  3.96batches/s]\n"
     ]
    },
    {
     "name": "stdout",
     "output_type": "stream",
     "text": [
      "\n",
      "Metrics: {'train_loss': 0.00526358423336536, 'test_loss': 2.081778828914349, 'bleu': 22.5967, 'gen_len': 9.8838}\n",
      "\n",
      "=============================\n",
      "\n"
     ]
    },
    {
     "name": "stderr",
     "output_type": "stream",
     "text": [
      " 80%|███████▉  | 274/344 [1:20:49<20:41, 17.74s/it]"
     ]
    },
    {
     "name": "stdout",
     "output_type": "stream",
     "text": [
      "For epoch 731: \n",
      "{Learning rate: [8.662805197025094e-05]}\n"
     ]
    },
    {
     "name": "stderr",
     "output_type": "stream",
     "text": [
      "Train batch number 99: 100%|██████████| 99/99 [00:12<00:00,  7.92batches/s]\n",
      "Test batch number 13: 100%|██████████| 13/13 [00:03<00:00,  3.99batches/s]\n"
     ]
    },
    {
     "name": "stdout",
     "output_type": "stream",
     "text": [
      "\n",
      "Metrics: {'train_loss': 0.005340021189756108, 'test_loss': 2.081786137360793, 'bleu': 22.5508, 'gen_len': 9.904}\n",
      "\n",
      "=============================\n",
      "\n"
     ]
    },
    {
     "name": "stderr",
     "output_type": "stream",
     "text": [
      " 80%|███████▉  | 275/344 [1:21:07<20:19, 17.68s/it]"
     ]
    },
    {
     "name": "stdout",
     "output_type": "stream",
     "text": [
      "For epoch 732: \n",
      "{Learning rate: [8.470297306243718e-05]}\n"
     ]
    },
    {
     "name": "stderr",
     "output_type": "stream",
     "text": [
      "Train batch number 99: 100%|██████████| 99/99 [00:12<00:00,  8.03batches/s]\n",
      "Test batch number 13: 100%|██████████| 13/13 [00:03<00:00,  3.81batches/s]\n"
     ]
    },
    {
     "name": "stdout",
     "output_type": "stream",
     "text": [
      "\n",
      "Metrics: {'train_loss': 0.005279835584459385, 'test_loss': 2.081888143832867, 'bleu': 22.5451, 'gen_len': 9.904}\n",
      "\n",
      "=============================\n",
      "\n"
     ]
    },
    {
     "name": "stderr",
     "output_type": "stream",
     "text": [
      " 80%|████████  | 276/344 [1:21:24<20:01, 17.66s/it]"
     ]
    },
    {
     "name": "stdout",
     "output_type": "stream",
     "text": [
      "For epoch 733: \n",
      "{Learning rate: [8.279890841264589e-05]}\n"
     ]
    },
    {
     "name": "stderr",
     "output_type": "stream",
     "text": [
      "Train batch number 99: 100%|██████████| 99/99 [00:12<00:00,  7.93batches/s]\n",
      "Test batch number 13: 100%|██████████| 13/13 [00:03<00:00,  3.81batches/s]\n"
     ]
    },
    {
     "name": "stdout",
     "output_type": "stream",
     "text": [
      "\n",
      "Metrics: {'train_loss': 0.005372860013111024, 'test_loss': 2.0814621723615208, 'bleu': 22.568, 'gen_len': 9.9091}\n",
      "\n",
      "=============================\n",
      "\n"
     ]
    },
    {
     "name": "stderr",
     "output_type": "stream",
     "text": [
      " 81%|████████  | 277/344 [1:21:42<19:43, 17.66s/it]"
     ]
    },
    {
     "name": "stdout",
     "output_type": "stream",
     "text": [
      "For epoch 734: \n",
      "{Learning rate: [8.091588606152948e-05]}\n"
     ]
    },
    {
     "name": "stderr",
     "output_type": "stream",
     "text": [
      "Train batch number 99: 100%|██████████| 99/99 [00:12<00:00,  7.76batches/s]\n",
      "Test batch number 13: 100%|██████████| 13/13 [00:03<00:00,  3.87batches/s]\n"
     ]
    },
    {
     "name": "stdout",
     "output_type": "stream",
     "text": [
      "\n",
      "Metrics: {'train_loss': 0.005535620240014837, 'test_loss': 2.082073587637681, 'bleu': 22.5279, 'gen_len': 9.899}\n",
      "\n",
      "=============================\n",
      "\n"
     ]
    },
    {
     "name": "stderr",
     "output_type": "stream",
     "text": [
      " 81%|████████  | 278/344 [1:22:00<19:31, 17.76s/it]"
     ]
    },
    {
     "name": "stdout",
     "output_type": "stream",
     "text": [
      "For epoch 735: \n",
      "{Learning rate: [7.905393373985643e-05]}\n"
     ]
    },
    {
     "name": "stderr",
     "output_type": "stream",
     "text": [
      "Train batch number 99: 100%|██████████| 99/99 [00:12<00:00,  7.86batches/s]\n",
      "Test batch number 13: 100%|██████████| 13/13 [00:03<00:00,  3.81batches/s]\n"
     ]
    },
    {
     "name": "stdout",
     "output_type": "stream",
     "text": [
      "\n",
      "Metrics: {'train_loss': 0.005204656613579683, 'test_loss': 2.082690715789795, 'bleu': 22.5333, 'gen_len': 9.899}\n",
      "\n",
      "=============================\n",
      "\n"
     ]
    },
    {
     "name": "stderr",
     "output_type": "stream",
     "text": [
      " 81%|████████  | 279/344 [1:22:18<19:15, 17.77s/it]"
     ]
    },
    {
     "name": "stdout",
     "output_type": "stream",
     "text": [
      "For epoch 736: \n",
      "{Learning rate: [7.721307886810314e-05]}\n"
     ]
    },
    {
     "name": "stderr",
     "output_type": "stream",
     "text": [
      "Train batch number 99: 100%|██████████| 99/99 [00:12<00:00,  7.96batches/s]\n",
      "Test batch number 13: 100%|██████████| 13/13 [00:03<00:00,  3.97batches/s]\n"
     ]
    },
    {
     "name": "stdout",
     "output_type": "stream",
     "text": [
      "\n",
      "Metrics: {'train_loss': 0.005217354660668538, 'test_loss': 2.0829192583377543, 'bleu': 22.5333, 'gen_len': 9.899}\n",
      "\n",
      "=============================\n",
      "\n"
     ]
    },
    {
     "name": "stderr",
     "output_type": "stream",
     "text": [
      " 81%|████████▏ | 280/344 [1:22:35<18:52, 17.70s/it]"
     ]
    },
    {
     "name": "stdout",
     "output_type": "stream",
     "text": [
      "For epoch 737: \n",
      "{Learning rate: [7.539334855604827e-05]}\n"
     ]
    },
    {
     "name": "stderr",
     "output_type": "stream",
     "text": [
      "Train batch number 99: 100%|██████████| 99/99 [00:12<00:00,  7.93batches/s]\n",
      "Test batch number 13: 100%|██████████| 13/13 [00:03<00:00,  3.99batches/s]\n"
     ]
    },
    {
     "name": "stdout",
     "output_type": "stream",
     "text": [
      "\n",
      "Metrics: {'train_loss': 0.0052919004024582625, 'test_loss': 2.083164783624502, 'bleu': 22.5824, 'gen_len': 9.8485}\n",
      "\n",
      "=============================\n",
      "\n"
     ]
    },
    {
     "name": "stderr",
     "output_type": "stream",
     "text": [
      " 82%|████████▏ | 281/344 [1:22:53<18:31, 17.65s/it]"
     ]
    },
    {
     "name": "stdout",
     "output_type": "stream",
     "text": [
      "For epoch 738: \n",
      "{Learning rate: [7.359476960237604e-05]}\n"
     ]
    },
    {
     "name": "stderr",
     "output_type": "stream",
     "text": [
      "Train batch number 99: 100%|██████████| 99/99 [00:12<00:00,  8.01batches/s]\n",
      "Test batch number 13: 100%|██████████| 13/13 [00:03<00:00,  3.98batches/s]\n"
     ]
    },
    {
     "name": "stdout",
     "output_type": "stream",
     "text": [
      "\n",
      "Metrics: {'train_loss': 0.00527150881856814, 'test_loss': 2.0837980600503774, 'bleu': 22.5881, 'gen_len': 9.8485}\n",
      "\n",
      "=============================\n",
      "\n"
     ]
    },
    {
     "name": "stderr",
     "output_type": "stream",
     "text": [
      " 82%|████████▏ | 282/344 [1:23:10<18:09, 17.57s/it]"
     ]
    },
    {
     "name": "stdout",
     "output_type": "stream",
     "text": [
      "For epoch 739: \n",
      "{Learning rate: [7.181736849427893e-05]}\n"
     ]
    },
    {
     "name": "stderr",
     "output_type": "stream",
     "text": [
      "Train batch number 99: 100%|██████████| 99/99 [00:12<00:00,  7.99batches/s]\n",
      "Test batch number 13: 100%|██████████| 13/13 [00:03<00:00,  3.94batches/s]\n"
     ]
    },
    {
     "name": "stdout",
     "output_type": "stream",
     "text": [
      "\n",
      "Metrics: {'train_loss': 0.005288219677179704, 'test_loss': 2.083447438019973, 'bleu': 22.5824, 'gen_len': 9.8535}\n",
      "\n",
      "=============================\n",
      "\n"
     ]
    },
    {
     "name": "stderr",
     "output_type": "stream",
     "text": [
      " 82%|████████▏ | 283/344 [1:23:28<17:50, 17.55s/it]"
     ]
    },
    {
     "name": "stdout",
     "output_type": "stream",
     "text": [
      "For epoch 740: \n",
      "{Learning rate: [7.006117140707005e-05]}\n"
     ]
    },
    {
     "name": "stderr",
     "output_type": "stream",
     "text": [
      "Train batch number 99: 100%|██████████| 99/99 [00:12<00:00,  7.73batches/s]\n",
      "Test batch number 13: 100%|██████████| 13/13 [00:03<00:00,  3.96batches/s]\n"
     ]
    },
    {
     "name": "stdout",
     "output_type": "stream",
     "text": [
      "\n",
      "Metrics: {'train_loss': 0.0052246161703622404, 'test_loss': 2.0837744107613196, 'bleu': 22.5824, 'gen_len': 9.8535}\n",
      "\n",
      "=============================\n",
      "\n"
     ]
    },
    {
     "name": "stderr",
     "output_type": "stream",
     "text": [
      " 83%|████████▎ | 284/344 [1:23:46<17:39, 17.66s/it]"
     ]
    },
    {
     "name": "stdout",
     "output_type": "stream",
     "text": [
      "For epoch 741: \n",
      "{Learning rate: [6.832620420379592e-05]}\n"
     ]
    },
    {
     "name": "stderr",
     "output_type": "stream",
     "text": [
      "Train batch number 99: 100%|██████████| 99/99 [00:12<00:00,  7.89batches/s]\n",
      "Test batch number 13: 100%|██████████| 13/13 [00:03<00:00,  3.98batches/s]\n"
     ]
    },
    {
     "name": "stdout",
     "output_type": "stream",
     "text": [
      "\n",
      "Metrics: {'train_loss': 0.005228052062312884, 'test_loss': 2.0834917655357947, 'bleu': 22.5221, 'gen_len': 9.904}\n",
      "\n",
      "=============================\n",
      "\n"
     ]
    },
    {
     "name": "stderr",
     "output_type": "stream",
     "text": [
      " 83%|████████▎ | 285/344 [1:24:03<17:21, 17.65s/it]"
     ]
    },
    {
     "name": "stdout",
     "output_type": "stream",
     "text": [
      "For epoch 742: \n",
      "{Learning rate: [6.661249243485639e-05]}\n"
     ]
    },
    {
     "name": "stderr",
     "output_type": "stream",
     "text": [
      "Train batch number 99: 100%|██████████| 99/99 [00:12<00:00,  7.76batches/s]\n",
      "Test batch number 13: 100%|██████████| 13/13 [00:03<00:00,  3.79batches/s]\n"
     ]
    },
    {
     "name": "stdout",
     "output_type": "stream",
     "text": [
      "\n",
      "Metrics: {'train_loss': 0.005241394354365037, 'test_loss': 2.0842351638353787, 'bleu': 22.5881, 'gen_len': 9.8384}\n",
      "\n",
      "=============================\n",
      "\n"
     ]
    },
    {
     "name": "stderr",
     "output_type": "stream",
     "text": [
      " 83%|████████▎ | 286/344 [1:24:21<17:09, 17.75s/it]"
     ]
    },
    {
     "name": "stdout",
     "output_type": "stream",
     "text": [
      "For epoch 743: \n",
      "{Learning rate: [6.4920061337628e-05]}\n"
     ]
    },
    {
     "name": "stderr",
     "output_type": "stream",
     "text": [
      "Train batch number 99: 100%|██████████| 99/99 [00:12<00:00,  7.85batches/s]\n",
      "Test batch number 13: 100%|██████████| 13/13 [00:03<00:00,  3.80batches/s]\n"
     ]
    },
    {
     "name": "stdout",
     "output_type": "stream",
     "text": [
      "\n",
      "Metrics: {'train_loss': 0.005227773593629316, 'test_loss': 2.0841690118496237, 'bleu': 22.5881, 'gen_len': 9.8384}\n",
      "\n",
      "=============================\n",
      "\n"
     ]
    },
    {
     "name": "stderr",
     "output_type": "stream",
     "text": [
      " 83%|████████▎ | 287/344 [1:24:39<16:54, 17.80s/it]"
     ]
    },
    {
     "name": "stdout",
     "output_type": "stream",
     "text": [
      "For epoch 744: \n",
      "{Learning rate: [6.324893583609295e-05]}\n"
     ]
    },
    {
     "name": "stderr",
     "output_type": "stream",
     "text": [
      "Train batch number 99: 100%|██████████| 99/99 [00:12<00:00,  7.75batches/s]\n",
      "Test batch number 13: 100%|██████████| 13/13 [00:03<00:00,  3.96batches/s]\n"
     ]
    },
    {
     "name": "stdout",
     "output_type": "stream",
     "text": [
      "\n",
      "Metrics: {'train_loss': 0.00528641255817028, 'test_loss': 2.084037001316364, 'bleu': 22.5881, 'gen_len': 9.8384}\n",
      "\n",
      "=============================\n",
      "\n"
     ]
    },
    {
     "name": "stderr",
     "output_type": "stream",
     "text": [
      " 84%|████████▎ | 288/344 [1:24:57<16:37, 17.81s/it]"
     ]
    },
    {
     "name": "stdout",
     "output_type": "stream",
     "text": [
      "For epoch 745: \n",
      "{Learning rate: [6.159914054047114e-05]}\n"
     ]
    },
    {
     "name": "stderr",
     "output_type": "stream",
     "text": [
      "Train batch number 99: 100%|██████████| 99/99 [00:12<00:00,  7.88batches/s]\n",
      "Test batch number 13: 100%|██████████| 13/13 [00:03<00:00,  3.80batches/s]\n"
     ]
    },
    {
     "name": "stdout",
     "output_type": "stream",
     "text": [
      "\n",
      "Metrics: {'train_loss': 0.0051896561519536805, 'test_loss': 2.0842163287676296, 'bleu': 22.5881, 'gen_len': 9.8384}\n",
      "\n",
      "=============================\n",
      "\n"
     ]
    },
    {
     "name": "stderr",
     "output_type": "stream",
     "text": [
      " 84%|████████▍ | 289/344 [1:25:15<16:18, 17.79s/it]"
     ]
    },
    {
     "name": "stdout",
     "output_type": "stream",
     "text": [
      "For epoch 746: \n",
      "{Learning rate: [5.9970699746858625e-05]}\n"
     ]
    },
    {
     "name": "stderr",
     "output_type": "stream",
     "text": [
      "Train batch number 99: 100%|██████████| 99/99 [00:12<00:00,  7.90batches/s]\n",
      "Test batch number 13: 100%|██████████| 13/13 [00:03<00:00,  3.96batches/s]\n"
     ]
    },
    {
     "name": "stdout",
     "output_type": "stream",
     "text": [
      "\n",
      "Metrics: {'train_loss': 0.005159939643092021, 'test_loss': 2.0845531041805563, 'bleu': 22.5881, 'gen_len': 9.8384}\n",
      "\n",
      "=============================\n",
      "\n"
     ]
    },
    {
     "name": "stderr",
     "output_type": "stream",
     "text": [
      " 84%|████████▍ | 290/344 [1:25:32<15:57, 17.73s/it]"
     ]
    },
    {
     "name": "stdout",
     "output_type": "stream",
     "text": [
      "For epoch 747: \n",
      "{Learning rate: [5.836363743686888e-05]}\n"
     ]
    },
    {
     "name": "stderr",
     "output_type": "stream",
     "text": [
      "Train batch number 99: 100%|██████████| 99/99 [00:12<00:00,  7.96batches/s]\n",
      "Test batch number 13: 100%|██████████| 13/13 [00:03<00:00,  3.99batches/s]\n"
     ]
    },
    {
     "name": "stdout",
     "output_type": "stream",
     "text": [
      "\n",
      "Metrics: {'train_loss': 0.005371634407889691, 'test_loss': 2.0841936881725607, 'bleu': 22.5881, 'gen_len': 9.8384}\n",
      "\n",
      "=============================\n",
      "\n"
     ]
    },
    {
     "name": "stderr",
     "output_type": "stream",
     "text": [
      " 85%|████████▍ | 291/344 [1:25:50<15:35, 17.65s/it]"
     ]
    },
    {
     "name": "stdout",
     "output_type": "stream",
     "text": [
      "For epoch 748: \n",
      "{Learning rate: [5.677797727728055e-05]}\n"
     ]
    },
    {
     "name": "stderr",
     "output_type": "stream",
     "text": [
      "Train batch number 99: 100%|██████████| 99/99 [00:12<00:00,  7.97batches/s]\n",
      "Test batch number 13: 100%|██████████| 13/13 [00:03<00:00,  3.97batches/s]\n"
     ]
    },
    {
     "name": "stdout",
     "output_type": "stream",
     "text": [
      "\n",
      "Metrics: {'train_loss': 0.005164183998589799, 'test_loss': 2.08465000299307, 'bleu': 22.5881, 'gen_len': 9.8384}\n",
      "\n",
      "=============================\n",
      "\n"
     ]
    },
    {
     "name": "stderr",
     "output_type": "stream",
     "text": [
      " 85%|████████▍ | 292/344 [1:26:07<15:14, 17.59s/it]"
     ]
    },
    {
     "name": "stdout",
     "output_type": "stream",
     "text": [
      "For epoch 749: \n",
      "{Learning rate: [5.5213742619688584e-05]}\n"
     ]
    },
    {
     "name": "stderr",
     "output_type": "stream",
     "text": [
      "Train batch number 99: 100%|██████████| 99/99 [00:12<00:00,  7.90batches/s]\n",
      "Test batch number 13: 100%|██████████| 13/13 [00:03<00:00,  3.80batches/s]\n"
     ]
    },
    {
     "name": "stdout",
     "output_type": "stream",
     "text": [
      "\n",
      "Metrics: {'train_loss': 0.005334660265067912, 'test_loss': 2.084644546875587, 'bleu': 22.5881, 'gen_len': 9.8384}\n",
      "\n",
      "=============================\n",
      "\n"
     ]
    },
    {
     "name": "stderr",
     "output_type": "stream",
     "text": [
      " 85%|████████▌ | 293/344 [1:26:25<14:59, 17.65s/it]"
     ]
    },
    {
     "name": "stdout",
     "output_type": "stream",
     "text": [
      "For epoch 750: \n",
      "{Learning rate: [5.3670956500159946e-05]}\n"
     ]
    },
    {
     "name": "stderr",
     "output_type": "stream",
     "text": [
      "Train batch number 99: 100%|██████████| 99/99 [00:12<00:00,  7.72batches/s]\n",
      "Test batch number 13: 100%|██████████| 13/13 [00:03<00:00,  3.99batches/s]\n"
     ]
    },
    {
     "name": "stdout",
     "output_type": "stream",
     "text": [
      "\n",
      "Metrics: {'train_loss': 0.00534655267564989, 'test_loss': 2.084917398599478, 'bleu': 22.5824, 'gen_len': 9.8535}\n",
      "\n",
      "=============================\n",
      "\n"
     ]
    },
    {
     "name": "stderr",
     "output_type": "stream",
     "text": [
      " 85%|████████▌ | 294/344 [1:26:43<14:46, 17.72s/it]"
     ]
    },
    {
     "name": "stdout",
     "output_type": "stream",
     "text": [
      "For epoch 751: \n",
      "{Learning rate: [5.214964163889467e-05]}\n"
     ]
    },
    {
     "name": "stderr",
     "output_type": "stream",
     "text": [
      "Train batch number 99: 100%|██████████| 99/99 [00:12<00:00,  7.92batches/s]\n",
      "Test batch number 13: 100%|██████████| 13/13 [00:03<00:00,  3.99batches/s]\n"
     ]
    },
    {
     "name": "stdout",
     "output_type": "stream",
     "text": [
      "\n",
      "Metrics: {'train_loss': 0.0053915596570622065, 'test_loss': 2.084717502960792, 'bleu': 22.5997, 'gen_len': 9.8586}\n",
      "\n",
      "=============================\n",
      "\n"
     ]
    },
    {
     "name": "stderr",
     "output_type": "stream",
     "text": [
      " 86%|████████▌ | 295/344 [1:27:00<14:25, 17.67s/it]"
     ]
    },
    {
     "name": "stdout",
     "output_type": "stream",
     "text": [
      "For epoch 752: \n",
      "{Learning rate: [5.064982043989201e-05]}\n"
     ]
    },
    {
     "name": "stderr",
     "output_type": "stream",
     "text": [
      "Train batch number 99: 100%|██████████| 99/99 [00:12<00:00,  7.97batches/s]\n",
      "Test batch number 13: 100%|██████████| 13/13 [00:03<00:00,  3.95batches/s]\n"
     ]
    },
    {
     "name": "stdout",
     "output_type": "stream",
     "text": [
      "\n",
      "Metrics: {'train_loss': 0.0052357439507055336, 'test_loss': 2.084692120552063, 'bleu': 22.5997, 'gen_len': 9.8586}\n",
      "\n",
      "=============================\n",
      "\n"
     ]
    },
    {
     "name": "stderr",
     "output_type": "stream",
     "text": [
      " 86%|████████▌ | 296/344 [1:27:18<14:07, 17.66s/it]"
     ]
    },
    {
     "name": "stdout",
     "output_type": "stream",
     "text": [
      "For epoch 753: \n",
      "{Learning rate: [4.917151499061867e-05]}\n"
     ]
    },
    {
     "name": "stderr",
     "output_type": "stream",
     "text": [
      "Train batch number 99: 100%|██████████| 99/99 [00:12<00:00,  7.91batches/s]\n",
      "Test batch number 13: 100%|██████████| 13/13 [00:03<00:00,  3.89batches/s]\n"
     ]
    },
    {
     "name": "stdout",
     "output_type": "stream",
     "text": [
      "\n",
      "Metrics: {'train_loss': 0.005266481226517682, 'test_loss': 2.0848465332618127, 'bleu': 22.6054, 'gen_len': 9.8434}\n",
      "\n",
      "=============================\n",
      "\n"
     ]
    },
    {
     "name": "stderr",
     "output_type": "stream",
     "text": [
      " 86%|████████▋ | 297/344 [1:27:36<13:50, 17.67s/it]"
     ]
    },
    {
     "name": "stdout",
     "output_type": "stream",
     "text": [
      "For epoch 754: \n",
      "{Learning rate: [4.771474706168541e-05]}\n"
     ]
    },
    {
     "name": "stderr",
     "output_type": "stream",
     "text": [
      "Train batch number 99: 100%|██████████| 99/99 [00:12<00:00,  7.89batches/s]\n",
      "Test batch number 13: 100%|██████████| 13/13 [00:03<00:00,  3.96batches/s]\n"
     ]
    },
    {
     "name": "stdout",
     "output_type": "stream",
     "text": [
      "\n",
      "Metrics: {'train_loss': 0.005218717138999673, 'test_loss': 2.0849570586131168, 'bleu': 22.6054, 'gen_len': 9.8434}\n",
      "\n",
      "=============================\n",
      "\n"
     ]
    },
    {
     "name": "stderr",
     "output_type": "stream",
     "text": [
      " 87%|████████▋ | 298/344 [1:27:53<13:32, 17.66s/it]"
     ]
    },
    {
     "name": "stdout",
     "output_type": "stream",
     "text": [
      "For epoch 755: \n",
      "{Learning rate: [4.627953810652545e-05]}\n"
     ]
    },
    {
     "name": "stderr",
     "output_type": "stream",
     "text": [
      "Train batch number 99: 100%|██████████| 99/99 [00:12<00:00,  7.94batches/s]\n",
      "Test batch number 13: 100%|██████████| 13/13 [00:03<00:00,  4.01batches/s]\n"
     ]
    },
    {
     "name": "stdout",
     "output_type": "stream",
     "text": [
      "\n",
      "Metrics: {'train_loss': 0.005286901007462858, 'test_loss': 2.084881094785837, 'bleu': 22.5451, 'gen_len': 9.8939}\n",
      "\n",
      "=============================\n",
      "\n"
     ]
    },
    {
     "name": "stderr",
     "output_type": "stream",
     "text": [
      " 87%|████████▋ | 299/344 [1:28:11<13:11, 17.59s/it]"
     ]
    },
    {
     "name": "stdout",
     "output_type": "stream",
     "text": [
      "For epoch 756: \n",
      "{Learning rate: [4.4865909261079e-05]}\n"
     ]
    },
    {
     "name": "stderr",
     "output_type": "stream",
     "text": [
      "Train batch number 99: 100%|██████████| 99/99 [00:12<00:00,  7.91batches/s]\n",
      "Test batch number 13: 100%|██████████| 13/13 [00:03<00:00,  3.99batches/s]\n"
     ]
    },
    {
     "name": "stdout",
     "output_type": "stream",
     "text": [
      "\n",
      "Metrics: {'train_loss': 0.0052357564704972465, 'test_loss': 2.084830953524663, 'bleu': 22.5451, 'gen_len': 9.8939}\n",
      "\n",
      "=============================\n",
      "\n"
     ]
    },
    {
     "name": "stderr",
     "output_type": "stream",
     "text": [
      " 87%|████████▋ | 300/344 [1:28:28<12:52, 17.56s/it]"
     ]
    },
    {
     "name": "stdout",
     "output_type": "stream",
     "text": [
      "For epoch 757: \n",
      "{Learning rate: [4.3473881343481074e-05]}\n"
     ]
    },
    {
     "name": "stderr",
     "output_type": "stream",
     "text": [
      "Train batch number 99: 100%|██████████| 99/99 [00:12<00:00,  7.78batches/s]\n",
      "Test batch number 13: 100%|██████████| 13/13 [00:03<00:00,  3.97batches/s]\n"
     ]
    },
    {
     "name": "stdout",
     "output_type": "stream",
     "text": [
      "\n",
      "Metrics: {'train_loss': 0.005203477466082661, 'test_loss': 2.0847992988733144, 'bleu': 22.5394, 'gen_len': 9.9091}\n",
      "\n",
      "=============================\n",
      "\n"
     ]
    },
    {
     "name": "stderr",
     "output_type": "stream",
     "text": [
      " 88%|████████▊ | 301/344 [1:28:46<12:38, 17.63s/it]"
     ]
    },
    {
     "name": "stdout",
     "output_type": "stream",
     "text": [
      "For epoch 758: \n",
      "{Learning rate: [4.210347485375605e-05]}\n"
     ]
    },
    {
     "name": "stderr",
     "output_type": "stream",
     "text": [
      "Train batch number 99: 100%|██████████| 99/99 [00:12<00:00,  7.82batches/s]\n",
      "Test batch number 13: 100%|██████████| 13/13 [00:03<00:00,  3.80batches/s]\n"
     ]
    },
    {
     "name": "stdout",
     "output_type": "stream",
     "text": [
      "\n",
      "Metrics: {'train_loss': 0.005187307270799382, 'test_loss': 2.084877527677096, 'bleu': 22.5451, 'gen_len': 9.904}\n",
      "\n",
      "=============================\n",
      "\n"
     ]
    },
    {
     "name": "stderr",
     "output_type": "stream",
     "text": [
      " 88%|████████▊ | 302/344 [1:29:04<12:24, 17.72s/it]"
     ]
    },
    {
     "name": "stdout",
     "output_type": "stream",
     "text": [
      "For epoch 759: \n",
      "{Learning rate: [4.0754709973515426e-05]}\n"
     ]
    },
    {
     "name": "stderr",
     "output_type": "stream",
     "text": [
      "Train batch number 99: 100%|██████████| 99/99 [00:12<00:00,  7.79batches/s]\n",
      "Test batch number 13: 100%|██████████| 13/13 [00:03<00:00,  3.82batches/s]\n"
     ]
    },
    {
     "name": "stdout",
     "output_type": "stream",
     "text": [
      "\n",
      "Metrics: {'train_loss': 0.005157954228137657, 'test_loss': 2.084985797221844, 'bleu': 22.5451, 'gen_len': 9.904}\n",
      "\n",
      "=============================\n",
      "\n"
     ]
    },
    {
     "name": "stderr",
     "output_type": "stream",
     "text": [
      " 88%|████████▊ | 303/344 [1:29:22<12:08, 17.76s/it]"
     ]
    },
    {
     "name": "stdout",
     "output_type": "stream",
     "text": [
      "For epoch 760: \n",
      "{Learning rate: [3.9427606565660425e-05]}\n"
     ]
    },
    {
     "name": "stderr",
     "output_type": "stream",
     "text": [
      "Train batch number 99: 100%|██████████| 99/99 [00:12<00:00,  7.82batches/s]\n",
      "Test batch number 13: 100%|██████████| 13/13 [00:03<00:00,  4.00batches/s]\n"
     ]
    },
    {
     "name": "stdout",
     "output_type": "stream",
     "text": [
      "\n",
      "Metrics: {'train_loss': 0.005296452893144122, 'test_loss': 2.0853411509440494, 'bleu': 22.5394, 'gen_len': 9.9091}\n",
      "\n",
      "=============================\n",
      "\n"
     ]
    },
    {
     "name": "stderr",
     "output_type": "stream",
     "text": [
      " 88%|████████▊ | 304/344 [1:29:39<11:48, 17.72s/it]"
     ]
    },
    {
     "name": "stdout",
     "output_type": "stream",
     "text": [
      "For epoch 761: \n",
      "{Learning rate: [3.812218417408913e-05]}\n"
     ]
    },
    {
     "name": "stderr",
     "output_type": "stream",
     "text": [
      "Train batch number 99: 100%|██████████| 99/99 [00:12<00:00,  7.94batches/s]\n",
      "Test batch number 13: 100%|██████████| 13/13 [00:03<00:00,  3.98batches/s]\n"
     ]
    },
    {
     "name": "stdout",
     "output_type": "stream",
     "text": [
      "\n",
      "Metrics: {'train_loss': 0.005193016722309168, 'test_loss': 2.0856821537017822, 'bleu': 22.5394, 'gen_len': 9.9091}\n",
      "\n",
      "=============================\n",
      "\n"
     ]
    },
    {
     "name": "stderr",
     "output_type": "stream",
     "text": [
      " 89%|████████▊ | 305/344 [1:29:57<11:28, 17.65s/it]"
     ]
    },
    {
     "name": "stdout",
     "output_type": "stream",
     "text": [
      "For epoch 762: \n",
      "{Learning rate: [3.683846202340951e-05]}\n"
     ]
    },
    {
     "name": "stderr",
     "output_type": "stream",
     "text": [
      "Train batch number 99: 100%|██████████| 99/99 [00:12<00:00,  8.02batches/s]\n",
      "Test batch number 13: 100%|██████████| 13/13 [00:03<00:00,  3.87batches/s]\n"
     ]
    },
    {
     "name": "stdout",
     "output_type": "stream",
     "text": [
      "\n",
      "Metrics: {'train_loss': 0.00525229002600136, 'test_loss': 2.085969411409818, 'bleu': 22.5279, 'gen_len': 9.899}\n",
      "\n",
      "=============================\n",
      "\n"
     ]
    },
    {
     "name": "stderr",
     "output_type": "stream",
     "text": [
      " 89%|████████▉ | 306/344 [1:30:14<11:08, 17.60s/it]"
     ]
    },
    {
     "name": "stdout",
     "output_type": "stream",
     "text": [
      "For epoch 763: \n",
      "{Learning rate: [3.557645901865545e-05]}\n"
     ]
    },
    {
     "name": "stderr",
     "output_type": "stream",
     "text": [
      "Train batch number 99: 100%|██████████| 99/99 [00:12<00:00,  8.03batches/s]\n",
      "Test batch number 13: 100%|██████████| 13/13 [00:03<00:00,  3.98batches/s]\n"
     ]
    },
    {
     "name": "stdout",
     "output_type": "stream",
     "text": [
      "\n",
      "Metrics: {'train_loss': 0.005272035549319528, 'test_loss': 2.0856901774039636, 'bleu': 22.5451, 'gen_len': 9.904}\n",
      "\n",
      "=============================\n",
      "\n"
     ]
    },
    {
     "name": "stderr",
     "output_type": "stream",
     "text": [
      " 89%|████████▉ | 307/344 [1:30:32<10:49, 17.54s/it]"
     ]
    },
    {
     "name": "stdout",
     "output_type": "stream",
     "text": [
      "For epoch 764: \n",
      "{Learning rate: [3.433619374500933e-05]}\n"
     ]
    },
    {
     "name": "stderr",
     "output_type": "stream",
     "text": [
      "Train batch number 99: 100%|██████████| 99/99 [00:12<00:00,  7.88batches/s]\n",
      "Test batch number 13: 100%|██████████| 13/13 [00:03<00:00,  3.97batches/s]\n"
     ]
    },
    {
     "name": "stdout",
     "output_type": "stream",
     "text": [
      "\n",
      "Metrics: {'train_loss': 0.005315720168944223, 'test_loss': 2.085683611723093, 'bleu': 22.5394, 'gen_len': 9.904}\n",
      "\n",
      "=============================\n",
      "\n"
     ]
    },
    {
     "name": "stderr",
     "output_type": "stream",
     "text": [
      " 90%|████████▉ | 308/344 [1:30:49<10:32, 17.56s/it]"
     ]
    },
    {
     "name": "stdout",
     "output_type": "stream",
     "text": [
      "For epoch 765: \n",
      "{Learning rate: [3.311768446752765e-05]}\n"
     ]
    },
    {
     "name": "stderr",
     "output_type": "stream",
     "text": [
      "Train batch number 99: 100%|██████████| 99/99 [00:12<00:00,  7.82batches/s]\n",
      "Test batch number 13: 100%|██████████| 13/13 [00:03<00:00,  3.82batches/s]\n"
     ]
    },
    {
     "name": "stdout",
     "output_type": "stream",
     "text": [
      "\n",
      "Metrics: {'train_loss': 0.005501884900061696, 'test_loss': 2.0853747129440308, 'bleu': 22.5394, 'gen_len': 9.904}\n",
      "\n",
      "=============================\n",
      "\n"
     ]
    },
    {
     "name": "stderr",
     "output_type": "stream",
     "text": [
      " 90%|████████▉ | 309/344 [1:31:07<10:18, 17.67s/it]"
     ]
    },
    {
     "name": "stdout",
     "output_type": "stream",
     "text": [
      "For epoch 766: \n",
      "{Learning rate: [3.19209491308713e-05]}\n"
     ]
    },
    {
     "name": "stderr",
     "output_type": "stream",
     "text": [
      "Train batch number 99: 100%|██████████| 99/99 [00:12<00:00,  7.90batches/s]\n",
      "Test batch number 13: 100%|██████████| 13/13 [00:03<00:00,  4.01batches/s]\n"
     ]
    },
    {
     "name": "stdout",
     "output_type": "stream",
     "text": [
      "\n",
      "Metrics: {'train_loss': 0.0052230578097291385, 'test_loss': 2.084875537798955, 'bleu': 22.5394, 'gen_len': 9.904}\n",
      "\n",
      "=============================\n",
      "\n"
     ]
    },
    {
     "name": "stderr",
     "output_type": "stream",
     "text": [
      " 90%|█████████ | 310/344 [1:31:25<09:59, 17.63s/it]"
     ]
    },
    {
     "name": "stdout",
     "output_type": "stream",
     "text": [
      "For epoch 767: \n",
      "{Learning rate: [3.0746005359043274e-05]}\n"
     ]
    },
    {
     "name": "stderr",
     "output_type": "stream",
     "text": [
      "Train batch number 99: 100%|██████████| 99/99 [00:12<00:00,  7.92batches/s]\n",
      "Test batch number 13: 100%|██████████| 13/13 [00:03<00:00,  3.96batches/s]\n"
     ]
    },
    {
     "name": "stdout",
     "output_type": "stream",
     "text": [
      "\n",
      "Metrics: {'train_loss': 0.005237340552595943, 'test_loss': 2.085214844116798, 'bleu': 22.5394, 'gen_len': 9.9091}\n",
      "\n",
      "=============================\n",
      "\n"
     ]
    },
    {
     "name": "stderr",
     "output_type": "stream",
     "text": [
      " 90%|█████████ | 311/344 [1:31:43<09:41, 17.63s/it]"
     ]
    },
    {
     "name": "stdout",
     "output_type": "stream",
     "text": [
      "For epoch 768: \n",
      "{Learning rate: [2.9592870455127344e-05]}\n"
     ]
    },
    {
     "name": "stderr",
     "output_type": "stream",
     "text": [
      "Train batch number 99: 100%|██████████| 99/99 [00:12<00:00,  8.01batches/s]\n",
      "Test batch number 13: 100%|██████████| 13/13 [00:03<00:00,  4.01batches/s]\n"
     ]
    },
    {
     "name": "stdout",
     "output_type": "stream",
     "text": [
      "\n",
      "Metrics: {'train_loss': 0.005196135464527719, 'test_loss': 2.085550078978905, 'bleu': 22.5394, 'gen_len': 9.904}\n",
      "\n",
      "=============================\n",
      "\n"
     ]
    },
    {
     "name": "stderr",
     "output_type": "stream",
     "text": [
      " 91%|█████████ | 312/344 [1:32:00<09:21, 17.55s/it]"
     ]
    },
    {
     "name": "stdout",
     "output_type": "stream",
     "text": [
      "For epoch 769: \n",
      "{Learning rate: [2.8461561401033992e-05]}\n"
     ]
    },
    {
     "name": "stderr",
     "output_type": "stream",
     "text": [
      "Train batch number 99: 100%|██████████| 99/99 [00:12<00:00,  7.87batches/s]\n",
      "Test batch number 13: 100%|██████████| 13/13 [00:03<00:00,  3.95batches/s]\n"
     ]
    },
    {
     "name": "stdout",
     "output_type": "stream",
     "text": [
      "\n",
      "Metrics: {'train_loss': 0.005334293549013738, 'test_loss': 2.0859805528934183, 'bleu': 22.5394, 'gen_len': 9.904}\n",
      "\n",
      "=============================\n",
      "\n"
     ]
    },
    {
     "name": "stderr",
     "output_type": "stream",
     "text": [
      " 91%|█████████ | 313/344 [1:32:18<09:04, 17.57s/it]"
     ]
    },
    {
     "name": "stdout",
     "output_type": "stream",
     "text": [
      "For epoch 770: \n",
      "{Learning rate: [2.735209485725066e-05]}\n"
     ]
    },
    {
     "name": "stderr",
     "output_type": "stream",
     "text": [
      "Train batch number 99: 100%|██████████| 99/99 [00:12<00:00,  7.83batches/s]\n",
      "Test batch number 13: 100%|██████████| 13/13 [00:03<00:00,  3.96batches/s]\n"
     ]
    },
    {
     "name": "stdout",
     "output_type": "stream",
     "text": [
      "\n",
      "Metrics: {'train_loss': 0.005204909742528201, 'test_loss': 2.0860156371043277, 'bleu': 22.5394, 'gen_len': 9.904}\n",
      "\n",
      "=============================\n",
      "\n"
     ]
    },
    {
     "name": "stderr",
     "output_type": "stream",
     "text": [
      " 91%|█████████▏| 314/344 [1:32:35<08:47, 17.60s/it]"
     ]
    },
    {
     "name": "stdout",
     "output_type": "stream",
     "text": [
      "For epoch 771: \n",
      "{Learning rate: [2.6264487162595232e-05]}\n"
     ]
    },
    {
     "name": "stderr",
     "output_type": "stream",
     "text": [
      "Train batch number 99: 100%|██████████| 99/99 [00:12<00:00,  7.93batches/s]\n",
      "Test batch number 13: 100%|██████████| 13/13 [00:03<00:00,  3.99batches/s]\n"
     ]
    },
    {
     "name": "stdout",
     "output_type": "stream",
     "text": [
      "\n",
      "Metrics: {'train_loss': 0.005179100128706789, 'test_loss': 2.086066099313589, 'bleu': 22.5394, 'gen_len': 9.904}\n",
      "\n",
      "=============================\n",
      "\n"
     ]
    },
    {
     "name": "stderr",
     "output_type": "stream",
     "text": [
      " 92%|█████████▏| 315/344 [1:32:53<08:29, 17.57s/it]"
     ]
    },
    {
     "name": "stdout",
     "output_type": "stream",
     "text": [
      "For epoch 772: \n",
      "{Learning rate: [2.5198754333976523e-05]}\n"
     ]
    },
    {
     "name": "stderr",
     "output_type": "stream",
     "text": [
      "Train batch number 99: 100%|██████████| 99/99 [00:12<00:00,  7.74batches/s]\n",
      "Test batch number 13: 100%|██████████| 13/13 [00:03<00:00,  3.95batches/s]\n"
     ]
    },
    {
     "name": "stdout",
     "output_type": "stream",
     "text": [
      "\n",
      "Metrics: {'train_loss': 0.005228427927406044, 'test_loss': 2.085934648146996, 'bleu': 22.5394, 'gen_len': 9.904}\n",
      "\n",
      "=============================\n",
      "\n"
     ]
    },
    {
     "name": "stderr",
     "output_type": "stream",
     "text": [
      " 92%|█████████▏| 316/344 [1:33:11<08:14, 17.67s/it]"
     ]
    },
    {
     "name": "stdout",
     "output_type": "stream",
     "text": [
      "For epoch 773: \n",
      "{Learning rate: [2.4154912066158177e-05]}\n"
     ]
    },
    {
     "name": "stderr",
     "output_type": "stream",
     "text": [
      "Train batch number 99: 100%|██████████| 99/99 [00:12<00:00,  7.67batches/s]\n",
      "Test batch number 13: 100%|██████████| 13/13 [00:03<00:00,  3.98batches/s]\n"
     ]
    },
    {
     "name": "stdout",
     "output_type": "stream",
     "text": [
      "\n",
      "Metrics: {'train_loss': 0.005201935534561853, 'test_loss': 2.0858248197115383, 'bleu': 22.5394, 'gen_len': 9.904}\n",
      "\n",
      "=============================\n",
      "\n"
     ]
    },
    {
     "name": "stderr",
     "output_type": "stream",
     "text": [
      " 92%|█████████▏| 317/344 [1:33:29<07:59, 17.75s/it]"
     ]
    },
    {
     "name": "stdout",
     "output_type": "stream",
     "text": [
      "For epoch 774: \n",
      "{Learning rate: [2.313297573152704e-05]}\n"
     ]
    },
    {
     "name": "stderr",
     "output_type": "stream",
     "text": [
      "Train batch number 99: 100%|██████████| 99/99 [00:12<00:00,  7.88batches/s]\n",
      "Test batch number 13: 100%|██████████| 13/13 [00:03<00:00,  3.99batches/s]\n"
     ]
    },
    {
     "name": "stdout",
     "output_type": "stream",
     "text": [
      "\n",
      "Metrics: {'train_loss': 0.0052802932509391646, 'test_loss': 2.0857405845935526, 'bleu': 22.5394, 'gen_len': 9.9091}\n",
      "\n",
      "=============================\n",
      "\n"
     ]
    },
    {
     "name": "stderr",
     "output_type": "stream",
     "text": [
      " 92%|█████████▏| 318/344 [1:33:46<07:40, 17.70s/it]"
     ]
    },
    {
     "name": "stdout",
     "output_type": "stream",
     "text": [
      "For epoch 775: \n",
      "{Learning rate: [2.213296037986728e-05]}\n"
     ]
    },
    {
     "name": "stderr",
     "output_type": "stream",
     "text": [
      "Train batch number 99: 100%|██████████| 99/99 [00:12<00:00,  7.95batches/s]\n",
      "Test batch number 13: 100%|██████████| 13/13 [00:03<00:00,  3.82batches/s]\n"
     ]
    },
    {
     "name": "stdout",
     "output_type": "stream",
     "text": [
      "\n",
      "Metrics: {'train_loss': 0.005129012515791339, 'test_loss': 2.0857615837684045, 'bleu': 22.5394, 'gen_len': 9.9091}\n",
      "\n",
      "=============================\n",
      "\n"
     ]
    },
    {
     "name": "stderr",
     "output_type": "stream",
     "text": [
      " 93%|█████████▎| 319/344 [1:34:04<07:22, 17.71s/it]"
     ]
    },
    {
     "name": "stdout",
     "output_type": "stream",
     "text": [
      "For epoch 776: \n",
      "{Learning rate: [2.115488073813867e-05]}\n"
     ]
    },
    {
     "name": "stderr",
     "output_type": "stream",
     "text": [
      "Train batch number 99: 100%|██████████| 99/99 [00:12<00:00,  8.00batches/s]\n",
      "Test batch number 13: 100%|██████████| 13/13 [00:03<00:00,  3.87batches/s]\n"
     ]
    },
    {
     "name": "stdout",
     "output_type": "stream",
     "text": [
      "\n",
      "Metrics: {'train_loss': 0.005175600181283157, 'test_loss': 2.0859905756436863, 'bleu': 22.5394, 'gen_len': 9.9091}\n",
      "\n",
      "=============================\n",
      "\n"
     ]
    },
    {
     "name": "stderr",
     "output_type": "stream",
     "text": [
      " 93%|█████████▎| 320/344 [1:34:21<07:03, 17.64s/it]"
     ]
    },
    {
     "name": "stdout",
     "output_type": "stream",
     "text": [
      "For epoch 777: \n",
      "{Learning rate: [2.019875121025962e-05]}\n"
     ]
    },
    {
     "name": "stderr",
     "output_type": "stream",
     "text": [
      "Train batch number 99: 100%|██████████| 99/99 [00:12<00:00,  7.99batches/s]\n",
      "Test batch number 13: 100%|██████████| 13/13 [00:03<00:00,  3.97batches/s]\n"
     ]
    },
    {
     "name": "stdout",
     "output_type": "stream",
     "text": [
      "\n",
      "Metrics: {'train_loss': 0.005253309696707569, 'test_loss': 2.0859740514021654, 'bleu': 22.5394, 'gen_len': 9.9091}\n",
      "\n",
      "=============================\n",
      "\n"
     ]
    },
    {
     "name": "stderr",
     "output_type": "stream",
     "text": [
      " 93%|█████████▎| 321/344 [1:34:39<06:42, 17.52s/it]"
     ]
    },
    {
     "name": "stdout",
     "output_type": "stream",
     "text": [
      "For epoch 778: \n",
      "{Learning rate: [1.9264585876894837e-05]}\n"
     ]
    },
    {
     "name": "stderr",
     "output_type": "stream",
     "text": [
      "Train batch number 99: 100%|██████████| 99/99 [00:12<00:00,  7.83batches/s]\n",
      "Test batch number 13: 100%|██████████| 13/13 [00:03<00:00,  3.99batches/s]\n"
     ]
    },
    {
     "name": "stdout",
     "output_type": "stream",
     "text": [
      "\n",
      "Metrics: {'train_loss': 0.00527634511106751, 'test_loss': 2.086233845123878, 'bleu': 22.5394, 'gen_len': 9.9091}\n",
      "\n",
      "=============================\n",
      "\n"
     ]
    },
    {
     "name": "stderr",
     "output_type": "stream",
     "text": [
      " 94%|█████████▎| 322/344 [1:34:56<06:27, 17.61s/it]"
     ]
    },
    {
     "name": "stdout",
     "output_type": "stream",
     "text": [
      "For epoch 779: \n",
      "{Learning rate: [1.8352398495248596e-05]}\n"
     ]
    },
    {
     "name": "stderr",
     "output_type": "stream",
     "text": [
      "Train batch number 99: 100%|██████████| 99/99 [00:12<00:00,  7.99batches/s]\n",
      "Test batch number 13: 100%|██████████| 13/13 [00:03<00:00,  3.99batches/s]\n"
     ]
    },
    {
     "name": "stdout",
     "output_type": "stream",
     "text": [
      "\n",
      "Metrics: {'train_loss': 0.005194153026762922, 'test_loss': 2.086318226960989, 'bleu': 22.5394, 'gen_len': 9.9091}\n",
      "\n",
      "=============================\n",
      "\n"
     ]
    },
    {
     "name": "stderr",
     "output_type": "stream",
     "text": [
      " 94%|█████████▍| 323/344 [1:35:14<06:08, 17.56s/it]"
     ]
    },
    {
     "name": "stdout",
     "output_type": "stream",
     "text": [
      "For epoch 780: \n",
      "{Learning rate: [1.746220249886098e-05]}\n"
     ]
    },
    {
     "name": "stderr",
     "output_type": "stream",
     "text": [
      "Train batch number 99: 100%|██████████| 99/99 [00:12<00:00,  7.93batches/s]\n",
      "Test batch number 13: 100%|██████████| 13/13 [00:03<00:00,  3.90batches/s]\n"
     ]
    },
    {
     "name": "stdout",
     "output_type": "stream",
     "text": [
      "\n",
      "Metrics: {'train_loss': 0.005169634422554277, 'test_loss': 2.0862327080506544, 'bleu': 22.5394, 'gen_len': 9.9091}\n",
      "\n",
      "=============================\n",
      "\n"
     ]
    },
    {
     "name": "stderr",
     "output_type": "stream",
     "text": [
      " 94%|█████████▍| 324/344 [1:35:32<05:52, 17.62s/it]"
     ]
    },
    {
     "name": "stdout",
     "output_type": "stream",
     "text": [
      "For epoch 781: \n",
      "{Learning rate: [1.6594010997411854e-05]}\n"
     ]
    },
    {
     "name": "stderr",
     "output_type": "stream",
     "text": [
      "Train batch number 99: 100%|██████████| 99/99 [00:12<00:00,  7.73batches/s]\n",
      "Test batch number 13: 100%|██████████| 13/13 [00:03<00:00,  3.95batches/s]\n"
     ]
    },
    {
     "name": "stdout",
     "output_type": "stream",
     "text": [
      "\n",
      "Metrics: {'train_loss': 0.005173434669915069, 'test_loss': 2.0862871683560886, 'bleu': 22.5451, 'gen_len': 9.904}\n",
      "\n",
      "=============================\n",
      "\n"
     ]
    },
    {
     "name": "stderr",
     "output_type": "stream",
     "text": [
      " 94%|█████████▍| 325/344 [1:35:49<05:36, 17.71s/it]"
     ]
    },
    {
     "name": "stdout",
     "output_type": "stream",
     "text": [
      "For epoch 782: \n",
      "{Learning rate: [1.5747836776525874e-05]}\n"
     ]
    },
    {
     "name": "stderr",
     "output_type": "stream",
     "text": [
      "Train batch number 99: 100%|██████████| 99/99 [00:12<00:00,  7.88batches/s]\n",
      "Test batch number 13: 100%|██████████| 13/13 [00:03<00:00,  3.97batches/s]\n"
     ]
    },
    {
     "name": "stdout",
     "output_type": "stream",
     "text": [
      "\n",
      "Metrics: {'train_loss': 0.0051472668544532765, 'test_loss': 2.0862660132921658, 'bleu': 22.5451, 'gen_len': 9.904}\n",
      "\n",
      "=============================\n",
      "\n"
     ]
    },
    {
     "name": "stderr",
     "output_type": "stream",
     "text": [
      " 95%|█████████▍| 326/344 [1:36:07<05:18, 17.68s/it]"
     ]
    },
    {
     "name": "stdout",
     "output_type": "stream",
     "text": [
      "For epoch 783: \n",
      "{Learning rate: [1.4923692297585335e-05]}\n"
     ]
    },
    {
     "name": "stderr",
     "output_type": "stream",
     "text": [
      "Train batch number 99: 100%|██████████| 99/99 [00:12<00:00,  7.90batches/s]\n",
      "Test batch number 13: 100%|██████████| 13/13 [00:03<00:00,  3.97batches/s]\n"
     ]
    },
    {
     "name": "stdout",
     "output_type": "stream",
     "text": [
      "\n",
      "Metrics: {'train_loss': 0.005128962509604547, 'test_loss': 2.0863623435680685, 'bleu': 22.5451, 'gen_len': 9.904}\n",
      "\n",
      "=============================\n",
      "\n"
     ]
    },
    {
     "name": "stderr",
     "output_type": "stream",
     "text": [
      " 95%|█████████▌| 327/344 [1:36:25<05:00, 17.66s/it]"
     ]
    },
    {
     "name": "stdout",
     "output_type": "stream",
     "text": [
      "For epoch 784: \n",
      "{Learning rate: [1.4121589697546581e-05]}\n"
     ]
    },
    {
     "name": "stderr",
     "output_type": "stream",
     "text": [
      "Train batch number 99: 100%|██████████| 99/99 [00:12<00:00,  7.93batches/s]\n",
      "Test batch number 13: 100%|██████████| 13/13 [00:03<00:00,  4.01batches/s]\n"
     ]
    },
    {
     "name": "stdout",
     "output_type": "stream",
     "text": [
      "\n",
      "Metrics: {'train_loss': 0.005185237820665917, 'test_loss': 2.086346993079552, 'bleu': 22.5451, 'gen_len': 9.904}\n",
      "\n",
      "=============================\n",
      "\n"
     ]
    },
    {
     "name": "stderr",
     "output_type": "stream",
     "text": [
      " 95%|█████████▌| 328/344 [1:36:42<04:41, 17.61s/it]"
     ]
    },
    {
     "name": "stdout",
     "output_type": "stream",
     "text": [
      "For epoch 785: \n",
      "{Learning rate: [1.334154078876093e-05]}\n"
     ]
    },
    {
     "name": "stderr",
     "output_type": "stream",
     "text": [
      "Train batch number 99: 100%|██████████| 99/99 [00:12<00:00,  7.78batches/s]\n",
      "Test batch number 13: 100%|██████████| 13/13 [00:03<00:00,  4.00batches/s]\n"
     ]
    },
    {
     "name": "stdout",
     "output_type": "stream",
     "text": [
      "\n",
      "Metrics: {'train_loss': 0.005361525793859707, 'test_loss': 2.0863632697325487, 'bleu': 22.5451, 'gen_len': 9.899}\n",
      "\n",
      "=============================\n",
      "\n"
     ]
    },
    {
     "name": "stderr",
     "output_type": "stream",
     "text": [
      " 96%|█████████▌| 329/344 [1:37:00<04:25, 17.71s/it]"
     ]
    },
    {
     "name": "stdout",
     "output_type": "stream",
     "text": [
      "For epoch 786: \n",
      "{Learning rate: [1.2583557058800807e-05]}\n"
     ]
    },
    {
     "name": "stderr",
     "output_type": "stream",
     "text": [
      "Train batch number 99: 100%|██████████| 99/99 [00:12<00:00,  7.97batches/s]\n",
      "Test batch number 13: 100%|██████████| 13/13 [00:03<00:00,  3.99batches/s]\n"
     ]
    },
    {
     "name": "stdout",
     "output_type": "stream",
     "text": [
      "\n",
      "Metrics: {'train_loss': 0.0052501822370833555, 'test_loss': 2.086283619587238, 'bleu': 22.5451, 'gen_len': 9.899}\n",
      "\n",
      "=============================\n",
      "\n"
     ]
    },
    {
     "name": "stderr",
     "output_type": "stream",
     "text": [
      " 96%|█████████▌| 330/344 [1:37:18<04:08, 17.73s/it]"
     ]
    },
    {
     "name": "stdout",
     "output_type": "stream",
     "text": [
      "For epoch 787: \n",
      "{Learning rate: [1.1847649670290743e-05]}\n"
     ]
    },
    {
     "name": "stderr",
     "output_type": "stream",
     "text": [
      "Train batch number 99: 100%|██████████| 99/99 [00:12<00:00,  7.92batches/s]\n",
      "Test batch number 13: 100%|██████████| 13/13 [00:03<00:00,  3.95batches/s]\n"
     ]
    },
    {
     "name": "stdout",
     "output_type": "stream",
     "text": [
      "\n",
      "Metrics: {'train_loss': 0.005139557214487918, 'test_loss': 2.0862823174549985, 'bleu': 22.5451, 'gen_len': 9.904}\n",
      "\n",
      "=============================\n",
      "\n"
     ]
    },
    {
     "name": "stderr",
     "output_type": "stream",
     "text": [
      " 96%|█████████▌| 331/344 [1:37:36<03:50, 17.71s/it]"
     ]
    },
    {
     "name": "stdout",
     "output_type": "stream",
     "text": [
      "For epoch 788: \n",
      "{Learning rate: [1.1133829460742738e-05]}\n"
     ]
    },
    {
     "name": "stderr",
     "output_type": "stream",
     "text": [
      "Train batch number 99: 100%|██████████| 99/99 [00:12<00:00,  7.91batches/s]\n",
      "Test batch number 13: 100%|██████████| 13/13 [00:03<00:00,  4.00batches/s]\n"
     ]
    },
    {
     "name": "stdout",
     "output_type": "stream",
     "text": [
      "\n",
      "Metrics: {'train_loss': 0.005177657292494926, 'test_loss': 2.086221685776344, 'bleu': 22.5451, 'gen_len': 9.904}\n",
      "\n",
      "=============================\n",
      "\n"
     ]
    },
    {
     "name": "stderr",
     "output_type": "stream",
     "text": [
      " 97%|█████████▋| 332/344 [1:37:53<03:31, 17.66s/it]"
     ]
    },
    {
     "name": "stdout",
     "output_type": "stream",
     "text": [
      "For epoch 789: \n",
      "{Learning rate: [1.0442106942396988e-05]}\n"
     ]
    },
    {
     "name": "stderr",
     "output_type": "stream",
     "text": [
      "Train batch number 99: 100%|██████████| 99/99 [00:12<00:00,  8.00batches/s]\n",
      "Test batch number 13: 100%|██████████| 13/13 [00:03<00:00,  3.96batches/s]\n"
     ]
    },
    {
     "name": "stdout",
     "output_type": "stream",
     "text": [
      "\n",
      "Metrics: {'train_loss': 0.005249177189802544, 'test_loss': 2.0862399706473718, 'bleu': 22.5451, 'gen_len': 9.904}\n",
      "\n",
      "=============================\n",
      "\n"
     ]
    },
    {
     "name": "stderr",
     "output_type": "stream",
     "text": [
      " 97%|█████████▋| 333/344 [1:38:11<03:13, 17.58s/it]"
     ]
    },
    {
     "name": "stdout",
     "output_type": "stream",
     "text": [
      "For epoch 790: \n",
      "{Learning rate: [9.772492302066482e-06]}\n"
     ]
    },
    {
     "name": "stderr",
     "output_type": "stream",
     "text": [
      "Train batch number 99: 100%|██████████| 99/99 [00:12<00:00,  7.77batches/s]\n",
      "Test batch number 13: 100%|██████████| 13/13 [00:03<00:00,  3.80batches/s]\n"
     ]
    },
    {
     "name": "stdout",
     "output_type": "stream",
     "text": [
      "\n",
      "Metrics: {'train_loss': 0.005176182789551659, 'test_loss': 2.0862415845577535, 'bleu': 22.5451, 'gen_len': 9.904}\n",
      "\n",
      "=============================\n",
      "\n"
     ]
    },
    {
     "name": "stderr",
     "output_type": "stream",
     "text": [
      " 97%|█████████▋| 334/344 [1:38:29<02:57, 17.72s/it]"
     ]
    },
    {
     "name": "stdout",
     "output_type": "stream",
     "text": [
      "For epoch 791: \n",
      "{Learning rate: [9.12499540098797e-06]}\n"
     ]
    },
    {
     "name": "stderr",
     "output_type": "stream",
     "text": [
      "Train batch number 99: 100%|██████████| 99/99 [00:12<00:00,  7.96batches/s]\n",
      "Test batch number 13: 100%|██████████| 13/13 [00:03<00:00,  4.01batches/s]\n"
     ]
    },
    {
     "name": "stdout",
     "output_type": "stream",
     "text": [
      "\n",
      "Metrics: {'train_loss': 0.005136492534839276, 'test_loss': 2.086252001615671, 'bleu': 22.5451, 'gen_len': 9.904}\n",
      "\n",
      "=============================\n",
      "\n"
     ]
    },
    {
     "name": "stderr",
     "output_type": "stream",
     "text": [
      " 97%|█████████▋| 335/344 [1:38:46<02:38, 17.63s/it]"
     ]
    },
    {
     "name": "stdout",
     "output_type": "stream",
     "text": [
      "For epoch 792: \n",
      "{Learning rate: [8.499625774675789e-06]}\n"
     ]
    },
    {
     "name": "stderr",
     "output_type": "stream",
     "text": [
      "Train batch number 99: 100%|██████████| 99/99 [00:12<00:00,  7.90batches/s]\n",
      "Test batch number 13: 100%|██████████| 13/13 [00:03<00:00,  3.97batches/s]\n"
     ]
    },
    {
     "name": "stdout",
     "output_type": "stream",
     "text": [
      "\n",
      "Metrics: {'train_loss': 0.005217369504357016, 'test_loss': 2.086268718426044, 'bleu': 22.5451, 'gen_len': 9.904}\n",
      "\n",
      "=============================\n",
      "\n"
     ]
    },
    {
     "name": "stderr",
     "output_type": "stream",
     "text": [
      " 98%|█████████▊| 336/344 [1:39:04<02:20, 17.62s/it]"
     ]
    },
    {
     "name": "stdout",
     "output_type": "stream",
     "text": [
      "For epoch 793: \n",
      "{Learning rate: [7.896392632781722e-06]}\n"
     ]
    },
    {
     "name": "stderr",
     "output_type": "stream",
     "text": [
      "Train batch number 99: 100%|██████████| 99/99 [00:12<00:00,  7.94batches/s]\n",
      "Test batch number 13: 100%|██████████| 13/13 [00:03<00:00,  3.86batches/s]\n"
     ]
    },
    {
     "name": "stdout",
     "output_type": "stream",
     "text": [
      "\n",
      "Metrics: {'train_loss': 0.005253281355088793, 'test_loss': 2.086302262086135, 'bleu': 22.5451, 'gen_len': 9.904}\n",
      "\n",
      "=============================\n",
      "\n"
     ]
    },
    {
     "name": "stderr",
     "output_type": "stream",
     "text": [
      " 98%|█████████▊| 337/344 [1:39:21<02:03, 17.62s/it]"
     ]
    },
    {
     "name": "stdout",
     "output_type": "stream",
     "text": [
      "For epoch 794: \n",
      "{Learning rate: [7.3153048589594e-06]}\n"
     ]
    },
    {
     "name": "stderr",
     "output_type": "stream",
     "text": [
      "Train batch number 99: 100%|██████████| 99/99 [00:12<00:00,  7.85batches/s]\n",
      "Test batch number 13: 100%|██████████| 13/13 [00:03<00:00,  4.01batches/s]\n"
     ]
    },
    {
     "name": "stdout",
     "output_type": "stream",
     "text": [
      "\n",
      "Metrics: {'train_loss': 0.005138627599191033, 'test_loss': 2.0863208128855777, 'bleu': 22.5451, 'gen_len': 9.904}\n",
      "\n",
      "=============================\n",
      "\n"
     ]
    },
    {
     "name": "stderr",
     "output_type": "stream",
     "text": [
      " 98%|█████████▊| 338/344 [1:39:39<01:45, 17.62s/it]"
     ]
    },
    {
     "name": "stdout",
     "output_type": "stream",
     "text": [
      "For epoch 795: \n",
      "{Learning rate: [6.756371010734063e-06]}\n"
     ]
    },
    {
     "name": "stderr",
     "output_type": "stream",
     "text": [
      "Train batch number 99: 100%|██████████| 99/99 [00:12<00:00,  7.94batches/s]\n",
      "Test batch number 13: 100%|██████████| 13/13 [00:03<00:00,  3.83batches/s]\n"
     ]
    },
    {
     "name": "stdout",
     "output_type": "stream",
     "text": [
      "\n",
      "Metrics: {'train_loss': 0.005205535932386416, 'test_loss': 2.0863824440882754, 'bleu': 22.5451, 'gen_len': 9.904}\n",
      "\n",
      "=============================\n",
      "\n"
     ]
    },
    {
     "name": "stderr",
     "output_type": "stream",
     "text": [
      " 99%|█████████▊| 339/344 [1:39:57<01:28, 17.65s/it]"
     ]
    },
    {
     "name": "stdout",
     "output_type": "stream",
     "text": [
      "For epoch 796: \n",
      "{Learning rate: [6.219599319375353e-06]}\n"
     ]
    },
    {
     "name": "stderr",
     "output_type": "stream",
     "text": [
      "Train batch number 99: 100%|██████████| 99/99 [00:12<00:00,  7.89batches/s]\n",
      "Test batch number 13: 100%|██████████| 13/13 [00:03<00:00,  3.99batches/s]\n"
     ]
    },
    {
     "name": "stdout",
     "output_type": "stream",
     "text": [
      "\n",
      "Metrics: {'train_loss': 0.005136131636023456, 'test_loss': 2.086361811711238, 'bleu': 22.5451, 'gen_len': 9.904}\n",
      "\n",
      "=============================\n",
      "\n"
     ]
    },
    {
     "name": "stderr",
     "output_type": "stream",
     "text": [
      " 99%|█████████▉| 340/344 [1:40:14<01:10, 17.64s/it]"
     ]
    },
    {
     "name": "stdout",
     "output_type": "stream",
     "text": [
      "For epoch 797: \n",
      "{Learning rate: [5.704997689776975e-06]}\n"
     ]
    },
    {
     "name": "stderr",
     "output_type": "stream",
     "text": [
      "Train batch number 99: 100%|██████████| 99/99 [00:12<00:00,  7.87batches/s]\n",
      "Test batch number 13: 100%|██████████| 13/13 [00:03<00:00,  3.96batches/s]\n"
     ]
    },
    {
     "name": "stdout",
     "output_type": "stream",
     "text": [
      "\n",
      "Metrics: {'train_loss': 0.005145963069875819, 'test_loss': 2.086354915912335, 'bleu': 22.5451, 'gen_len': 9.904}\n",
      "\n",
      "=============================\n",
      "\n"
     ]
    },
    {
     "name": "stderr",
     "output_type": "stream",
     "text": [
      " 99%|█████████▉| 341/344 [1:40:32<00:52, 17.65s/it]"
     ]
    },
    {
     "name": "stdout",
     "output_type": "stream",
     "text": [
      "For epoch 798: \n",
      "{Learning rate: [5.212573700340232e-06]}\n"
     ]
    },
    {
     "name": "stderr",
     "output_type": "stream",
     "text": [
      "Train batch number 99: 100%|██████████| 99/99 [00:12<00:00,  7.98batches/s]\n",
      "Test batch number 13: 100%|██████████| 13/13 [00:03<00:00,  3.95batches/s]\n"
     ]
    },
    {
     "name": "stdout",
     "output_type": "stream",
     "text": [
      "\n",
      "Metrics: {'train_loss': 0.005220922489910424, 'test_loss': 2.086412246410663, 'bleu': 22.5451, 'gen_len': 9.904}\n",
      "\n",
      "=============================\n",
      "\n"
     ]
    },
    {
     "name": "stderr",
     "output_type": "stream",
     "text": [
      " 99%|█████████▉| 342/344 [1:40:49<00:35, 17.60s/it]"
     ]
    },
    {
     "name": "stdout",
     "output_type": "stream",
     "text": [
      "For epoch 799: \n",
      "{Learning rate: [4.742334602861745e-06]}\n"
     ]
    },
    {
     "name": "stderr",
     "output_type": "stream",
     "text": [
      "Train batch number 99: 100%|██████████| 99/99 [00:12<00:00,  7.94batches/s]\n",
      "Test batch number 13: 100%|██████████| 13/13 [00:03<00:00,  4.01batches/s]\n"
     ]
    },
    {
     "name": "stdout",
     "output_type": "stream",
     "text": [
      "\n",
      "Metrics: {'train_loss': 0.005217278226880789, 'test_loss': 2.0863954654106727, 'bleu': 22.5451, 'gen_len': 9.904}\n",
      "\n",
      "=============================\n",
      "\n"
     ]
    },
    {
     "name": "stderr",
     "output_type": "stream",
     "text": [
      "100%|█████████▉| 343/344 [1:41:07<00:17, 17.57s/it]"
     ]
    },
    {
     "name": "stdout",
     "output_type": "stream",
     "text": [
      "For epoch 800: \n",
      "{Learning rate: [4.2942873224277255e-06]}\n"
     ]
    },
    {
     "name": "stderr",
     "output_type": "stream",
     "text": [
      "Train batch number 99: 100%|██████████| 99/99 [00:12<00:00,  7.74batches/s]\n",
      "Test batch number 13: 100%|██████████| 13/13 [00:03<00:00,  3.80batches/s]\n"
     ]
    },
    {
     "name": "stdout",
     "output_type": "stream",
     "text": [
      "\n",
      "Metrics: {'train_loss': 0.005281617864451931, 'test_loss': 2.086399977023785, 'bleu': 22.5451, 'gen_len': 9.904}\n",
      "\n",
      "=============================\n",
      "\n"
     ]
    },
    {
     "name": "stderr",
     "output_type": "stream",
     "text": [
      "100%|██████████| 344/344 [1:41:25<00:00, 17.69s/it]\n"
     ]
    }
   ],
   "source": [
    "trainer.train(epochs = config['epochs'] - trainer.current_epoch, auto_save=True, metric_for_best_model='bleu', metric_objective='maximize', log_step=1,\n",
    "              saving_directory = config['new_model_dir'])"
   ]
  },
  {
   "attachments": {},
   "cell_type": "markdown",
   "metadata": {
    "id": "sQVOIX4lqGMg"
   },
   "source": [
    "### Predictions and Evaluation"
   ]
  },
  {
   "cell_type": "code",
   "execution_count": 7,
   "metadata": {},
   "outputs": [],
   "source": [
    "# initialize the transformation sequence\n",
    "end_mark_fn = partial(add_end_mark)\n",
    "fr_augmentation = TransformerSequences(remove_mark_space, delete_guillemet_space, add_mark_space, end_mark_fn)\n",
    "\n",
    "# let us get the test set\n",
    "test_dataset = SentenceDataset(f\"data/extractions/new_data/test_set.csv\",\n",
    "                                        tokenizer = tokenizer,\n",
    "                                        cp1_transformer = fr_augmentation,\n",
    "                                        cp2_transformer = fr_augmentation,\n",
    "                                        truncation = True)"
   ]
  },
  {
   "attachments": {},
   "cell_type": "markdown",
   "metadata": {
    "id": "W_iGdw-LLAJz"
   },
   "source": [
    "Let us make the evaluation and print the predicted sentences."
   ]
  },
  {
   "cell_type": "code",
   "execution_count": 8,
   "metadata": {},
   "outputs": [
    {
     "name": "stderr",
     "output_type": "stream",
     "text": [
      "Evaluation batch number 13: 100%|██████████| 13/13 [00:26<00:00,  2.00s/batches]\n"
     ]
    },
    {
     "name": "stdout",
     "output_type": "stream",
     "text": [
      "predictions_: [[0, 249, 38, 75, 3, 6, 1, 0, 0, 0, 0, 0, 0, 0, 0, 0, 0, 0, 0, 0], [0, 311, 38, 75, 3, 6, 1, 0, 0, 0, 0, 0, 0, 0, 0, 0, 0, 0, 0, 0], [0, 582, 22, 3, 6, 1, 0, 0, 0, 0, 0, 0, 0, 0, 0, 0, 0, 0, 0, 0], [0, 356, 15, 5, 48, 5, 4, 1, 0, 0, 0, 0, 0, 0, 0, 0, 0, 0, 0, 0], [0, 97, 9, 21, 1, 0, 0, 0, 0, 0, 0, 0, 0, 0, 0, 0, 0, 0, 0, 0], [0, 97, 5, 215, 5, 4, 1, 0, 0, 0, 0, 0, 0, 0, 0, 0, 0, 0, 0, 0], [0, 97, 9, 21, 1, 0, 0, 0, 0, 0, 0, 0, 0, 0, 0, 0, 0, 0, 0, 0], [0, 320, 187, 75, 4, 1, 0, 0, 0, 0, 0, 0, 0, 0, 0, 0, 0, 0, 0, 0], [0, 350, 22, 4, 1, 0, 0, 0, 0, 0, 0, 0, 0, 0, 0, 0, 0, 0, 0, 0], [0, 97, 129, 78, 4, 1, 0, 0, 0, 0, 0, 0, 0, 0, 0, 0, 0, 0, 0, 0], [0, 51, 35, 107, 1, 0, 0, 0, 0, 0, 0, 0, 0, 0, 0, 0, 0, 0, 0, 0], [0, 97, 5, 13, 5, 16, 5, 13, 5, 13, 5, 13, 5, 13, 5, 13, 5, 13, 5, 13], [0, 40, 41, 31, 22, 18, 4, 1, 0, 0, 0, 0, 0, 0, 0, 0, 0, 0, 0, 0], [0, 249, 3, 6, 1, 0, 0, 0, 0, 0, 0, 0, 0, 0, 0, 0, 0, 0, 0, 0], [0, 97, 129, 4, 1, 0, 0, 0, 0, 0, 0, 0, 0, 0, 0, 0, 0, 0, 0, 0], [0, 173, 241, 10, 105, 120, 9, 113, 72, 24, 5, 120, 9, 113, 72, 24, 5, 37, 174, 21], [0, 365, 22, 3, 6, 1, 0, 0, 0, 0, 0, 0, 0, 0, 0, 0, 0, 0, 0, 0], [0, 97, 9, 21, 1, 0, 0, 0, 0, 0, 0, 0, 0, 0, 0, 0, 0, 0, 0, 0], [0, 365, 22, 3, 6, 1, 0, 0, 0, 0, 0, 0, 0, 0, 0, 0, 0, 0, 0, 0], [0, 51, 35, 62, 15, 1014, 4, 1, 0, 0, 0, 0, 0, 0, 0, 0, 0, 0, 0, 0], [0, 40, 41, 31, 5, 124, 18, 5, 124, 18, 5, 124, 18, 5, 124, 18, 5, 124, 18, 13], [0, 40, 41, 31, 22, 18, 4, 1, 0, 0, 0, 0, 0, 0, 0, 0, 0, 0, 0, 0], [0, 320, 114, 522, 3, 6, 1, 0, 0, 0, 0, 0, 0, 0, 0, 0, 0, 0, 0, 0], [0, 40, 41, 31, 209, 4, 1, 0, 0, 0, 0, 0, 0, 0, 0, 0, 0, 0, 0, 0], [0, 97, 9, 21, 1, 0, 0, 0, 0, 0, 0, 0, 0, 0, 0, 0, 0, 0, 0, 0], [0, 97, 129, 78, 4, 1, 0, 0, 0, 0, 0, 0, 0, 0, 0, 0, 0, 0, 0, 0], [0, 51, 38, 79, 3, 6, 1, 0, 0, 0, 0, 0, 0, 0, 0, 0, 0, 0, 0, 0], [0, 51, 38, 79, 3, 6, 1, 0, 0, 0, 0, 0, 0, 0, 0, 0, 0, 0, 0, 0], [0, 97, 9, 21, 1, 0, 0, 0, 0, 0, 0, 0, 0, 0, 0, 0, 0, 0, 0, 0], [0, 97, 9, 21, 1, 0, 0, 0, 0, 0, 0, 0, 0, 0, 0, 0, 0, 0, 0, 0], [0, 40, 41, 31, 22, 4, 1, 0, 0, 0, 0, 0, 0, 0, 0, 0, 0, 0, 0, 0], [0, 311, 67, 3, 6, 1, 0, 0, 0, 0, 0, 0, 0, 0, 0, 0, 0, 0, 0, 0], [0, 97, 129, 125, 4, 1, 0, 0], [0, 40, 41, 31, 124, 18, 4, 1], [0, 188, 35, 13, 103, 4, 1, 0], [0, 188, 35, 13, 103, 4, 1, 0], [0, 40, 41, 31, 22, 4, 1, 0], [0, 249, 187, 75, 4, 1, 0, 0], [0, 97, 129, 78, 4, 1, 0, 0], [0, 40, 41, 31, 4, 1, 0, 0], [0, 320, 114, 522, 48, 4, 1, 0], [0, 97, 9, 21, 1, 0, 0, 0], [0, 97, 129, 125, 4, 1, 0, 0], [0, 97, 129, 78, 4, 1, 0, 0], [0, 51, 38, 79, 3, 6, 1, 0], [0, 395, 3, 6, 1, 0, 0, 0], [0, 97, 129, 78, 4, 1, 0, 0], [0, 40, 41, 31, 124, 18, 4, 1], [0, 97, 129, 78, 4, 1, 0, 0, 0, 0, 0], [0, 97, 129, 78, 4, 1, 0, 0, 0, 0, 0], [0, 200, 54, 22, 4, 1, 0, 0, 0, 0, 0], [0, 365, 22, 3, 6, 1, 0, 0, 0, 0, 0], [0, 51, 18, 77, 238, 4, 1, 0, 0, 0, 0], [0, 97, 9, 21, 1, 0, 0, 0, 0, 0, 0], [0, 40, 41, 31, 124, 18, 18, 13, 103, 4, 1], [0, 40, 41, 31, 22, 4, 1, 0, 0, 0, 0], [0, 582, 22, 3, 6, 1, 0, 0, 0, 0, 0], [0, 320, 4, 1, 0, 0, 0, 0, 0, 0, 0], [0, 97, 9, 21, 1, 0, 0, 0, 0, 0, 0], [0, 97, 9, 21, 1, 0, 0, 0, 0, 0, 0], [0, 97, 129, 78, 4, 1, 0, 0, 0, 0, 0], [0, 97, 9, 21, 1, 0, 0, 0, 0, 0, 0], [0, 97, 129, 78, 4, 1, 0, 0, 0, 0, 0], [0, 484, 19, 79, 3, 6, 1, 0, 0, 0, 0], [0, 200, 54, 22, 4, 1, 0, 0, 0, 0, 0, 0], [0, 97, 129, 4, 1, 0, 0, 0, 0, 0, 0, 0], [0, 97, 129, 125, 4, 1, 0, 0, 0, 0, 0, 0], [0, 40, 41, 31, 124, 18, 4, 1, 0, 0, 0, 0], [0, 249, 22, 21, 1, 0, 0, 0, 0, 0, 0, 0], [0, 97, 9, 21, 1, 0, 0, 0, 0, 0, 0, 0], [0, 40, 41, 31, 22, 4, 1, 0, 0, 0, 0, 0], [0, 577, 22, 4, 1, 0, 0, 0, 0, 0, 0, 0], [0, 450, 3, 6, 1, 0, 0, 0, 0, 0, 0, 0], [0, 97, 129, 78, 4, 1, 0, 0, 0, 0, 0, 0], [0, 97, 129, 78, 5, 48, 5, 48, 5, 48, 4, 1], [0, 249, 187, 75, 3, 6, 1, 0, 0, 0, 0, 0], [0, 40, 41, 31, 5, 5, 123, 5, 5, 4, 1, 0], [0, 582, 22, 3, 6, 1, 0, 0, 0, 0, 0, 0], [0, 40, 41, 31, 124, 18, 4, 1, 0, 0, 0, 0], [0, 97, 129, 4, 1, 0, 0, 0, 0, 0, 0, 0], [0, 40, 41, 31, 123, 131, 4, 1, 0, 0, 0, 0, 0, 0, 0, 0, 0], [0, 188, 18, 4, 1, 0, 0, 0, 0, 0, 0, 0, 0, 0, 0, 0, 0], [0, 51, 35, 62, 15, 4, 1, 0, 0, 0, 0, 0, 0, 0, 0, 0, 0], [0, 450, 224, 38, 3, 6, 1, 0, 0, 0, 0, 0, 0, 0, 0, 0, 0], [0, 200, 67, 3, 6, 1, 0, 0, 0, 0, 0, 0, 0, 0, 0, 0, 0], [0, 51, 35, 62, 15, 5, 94, 31, 124, 18, 5, 94, 31, 124, 18, 4, 1], [0, 188, 18, 4, 1, 0, 0, 0, 0, 0, 0, 0, 0, 0, 0, 0, 0], [0, 40, 41, 31, 22, 4, 1, 0, 0, 0, 0, 0, 0, 0, 0, 0, 0], [0, 249, 3, 6, 1, 0, 0, 0, 0, 0, 0, 0, 0, 0, 0, 0, 0], [0, 40, 41, 31, 22, 3, 6, 1, 0, 0, 0, 0, 0, 0, 0, 0, 0], [0, 97, 129, 78, 4, 1, 0, 0, 0, 0, 0, 0, 0, 0, 0, 0, 0], [0, 97, 129, 78, 4, 1, 0, 0, 0, 0, 0, 0, 0, 0, 0, 0, 0], [0, 188, 35, 13, 103, 4, 1, 0, 0, 0, 0, 0, 0, 0, 0, 0, 0], [0, 450, 3, 6, 1, 0, 0, 0, 0, 0, 0, 0, 0, 0, 0, 0, 0], [0, 97, 129, 78, 4, 1, 0, 0, 0, 0, 0, 0, 0, 0, 0, 0, 0], [0, 239, 424, 122, 48, 48, 48, 48, 48, 48, 48, 48, 4, 1, 0, 0, 0], [0, 97, 9, 21, 1, 0, 0, 0, 0, 0, 0, 0, 0, 0, 0, 0, 0, 0, 0, 0], [0, 40, 41, 31, 22, 18, 4, 1, 0, 0, 0, 0, 0, 0, 0, 0, 0, 0, 0, 0], [0, 97, 9, 125, 4, 1, 0, 0, 0, 0, 0, 0, 0, 0, 0, 0, 0, 0, 0, 0], [0, 97, 129, 4, 1, 0, 0, 0, 0, 0, 0, 0, 0, 0, 0, 0, 0, 0, 0, 0], [0, 97, 9, 21, 1, 0, 0, 0, 0, 0, 0, 0, 0, 0, 0, 0, 0, 0, 0, 0], [0, 97, 9, 21, 1, 0, 0, 0, 0, 0, 0, 0, 0, 0, 0, 0, 0, 0, 0, 0], [0, 51, 35, 79, 15, 125, 4, 1, 0, 0, 0, 0, 0, 0, 0, 0, 0, 0, 0, 0], [0, 40, 41, 31, 124, 18, 4, 1, 0, 0, 0, 0, 0, 0, 0, 0, 0, 0, 0, 0], [0, 51, 35, 62, 15, 34, 4, 1, 0, 0, 0, 0, 0, 0, 0, 0, 0, 0, 0, 0], [0, 395, 18, 153, 19, 79, 21, 1, 0, 0, 0, 0, 0, 0, 0, 0, 0, 0, 0, 0], [0, 97, 129, 125, 4, 1, 0, 0, 0, 0, 0, 0, 0, 0, 0, 0, 0, 0, 0, 0], [0, 40, 41, 31, 5, 124, 18, 5, 124, 18, 5, 124, 18, 5, 124, 18, 5, 124, 18, 4], [0, 188, 18, 4, 1, 0, 0, 0, 0, 0, 0, 0, 0, 0, 0, 0, 0, 0, 0, 0], [0, 173, 241, 10, 105, 120, 9, 113, 72, 24, 105, 120, 9, 113, 72, 24, 24, 13, 105, 120], [0, 392, 162, 18, 4, 1, 0, 0, 0, 0, 0, 0, 0, 0, 0, 0, 0, 0, 0, 0], [0, 97, 129, 125, 4, 1, 0, 0, 0, 0, 0, 0, 0, 0, 0, 0, 0, 0, 0, 0], [0, 40, 41, 31, 124, 18, 21, 1, 0, 0, 0, 0, 0, 0, 0, 0, 0, 0, 0, 0], [0, 40, 41, 31, 54, 22, 4, 1, 0, 0, 0, 0, 0, 0, 0, 0, 0, 0, 0, 0], [0, 40, 41, 31, 124, 18, 3, 6, 1, 0, 0, 0, 0, 0, 0, 0, 0, 0, 0, 0], [0, 40, 41, 31, 54, 22, 4, 1, 0, 0, 0, 0, 0, 0, 0, 0, 0, 0, 0, 0], [0, 97, 129, 78, 21, 1, 0, 0, 0, 0, 0, 0, 0, 0, 0, 0, 0, 0, 0, 0], [0, 249, 38, 75, 3, 6, 1, 0, 0, 0, 0, 0, 0, 0, 0, 0, 0, 0, 0, 0], [0, 97, 129, 4, 1, 0, 0, 0, 0, 0, 0, 0, 0, 0, 0, 0, 0, 0, 0, 0], [0, 97, 5, 94, 31, 124, 18, 5, 124, 18, 5, 124, 18, 5, 124, 18, 5, 124, 18, 4], [0, 97, 129, 4, 1, 0, 0, 0, 0, 0, 0, 0, 0, 0, 0, 0, 0, 0, 0, 0], [0, 40, 41, 31, 124, 18, 21, 1, 0, 0, 0, 0, 0, 0, 0, 0, 0, 0, 0, 0], [0, 173, 241, 10, 105, 120, 9, 113, 72, 24, 56, 13, 103, 4, 1, 0, 0, 0, 0, 0], [0, 97, 129, 78, 4, 1, 0, 0, 0, 0, 0, 0, 0, 0, 0, 0, 0, 0, 0, 0], [0, 188, 35, 13, 103, 4, 1, 0, 0, 0, 0, 0, 0, 0, 0, 0, 0, 0, 0, 0], [0, 40, 41, 31, 54, 22, 4, 1, 0, 0, 0, 0, 0, 0, 0, 0, 0, 0, 0, 0], [0, 97, 5, 124, 18, 4, 1, 0, 0, 0, 0, 0, 0, 0, 0, 0, 0, 0, 0, 0], [0, 97, 129, 78, 4, 1, 0, 0, 0, 0, 0, 0, 0, 0, 0, 0, 0, 0, 0, 0], [0, 249, 238, 38, 75, 3, 6, 1], [0, 313, 152, 194, 5, 48, 21, 1], [0, 662, 12, 280, 3, 6, 1, 0], [0, 97, 5, 94, 31, 21, 1, 0], [0, 97, 9, 21, 1, 0, 0, 0], [0, 97, 9, 21, 1, 0, 0, 0], [0, 97, 129, 78, 4, 1, 0, 0], [0, 51, 35, 107, 1, 0, 0, 0], [0, 97, 129, 9, 21, 1, 0, 0], [0, 249, 187, 75, 4, 1, 0, 0], [0, 97, 9, 125, 4, 1, 0, 0], [0, 450, 3, 6, 1, 0, 0, 0], [0, 188, 18, 4, 1, 0, 0, 0], [0, 51, 38, 56, 3, 6, 1, 0], [0, 249, 5, 38, 22, 3, 6, 1], [0, 51, 38, 79, 3, 6, 1, 0], [0, 97, 129, 78, 4, 1, 0, 0, 0, 0, 0, 0, 0, 0, 0, 0, 0, 0, 0, 0], [0, 51, 35, 107, 1, 0, 0, 0, 0, 0, 0, 0, 0, 0, 0, 0, 0, 0, 0, 0], [0, 239, 424, 5, 48, 5, 4, 1, 0, 0, 0, 0, 0, 0, 0, 0, 0, 0, 0, 0], [0, 97, 9, 21, 1, 0, 0, 0, 0, 0, 0, 0, 0, 0, 0, 0, 0, 0, 0, 0], [0, 249, 238, 3, 6, 1, 0, 0, 0, 0, 0, 0, 0, 0, 0, 0, 0, 0, 0, 0], [0, 97, 129, 78, 4, 1, 0, 0, 0, 0, 0, 0, 0, 0, 0, 0, 0, 0, 0, 0], [0, 40, 41, 31, 124, 18, 5, 124, 18, 5, 124, 18, 5, 124, 18, 5, 124, 18, 5, 124], [0, 40, 41, 31, 124, 18, 4, 1, 0, 0, 0, 0, 0, 0, 0, 0, 0, 0, 0, 0], [0, 97, 9, 21, 1, 0, 0, 0, 0, 0, 0, 0, 0, 0, 0, 0, 0, 0, 0, 0], [0, 40, 41, 31, 124, 18, 4, 1, 0, 0, 0, 0, 0, 0, 0, 0, 0, 0, 0, 0], [0, 40, 41, 31, 22, 4, 1, 0, 0, 0, 0, 0, 0, 0, 0, 0, 0, 0, 0, 0], [0, 200, 54, 22, 4, 1, 0, 0, 0, 0, 0, 0, 0, 0, 0, 0, 0, 0, 0, 0], [0, 97, 9, 125, 4, 1, 0, 0, 0, 0, 0, 0, 0, 0, 0, 0, 0, 0, 0, 0], [0, 249, 238, 4, 1, 0, 0, 0, 0, 0, 0, 0, 0, 0, 0, 0, 0, 0, 0, 0], [0, 97, 38, 79, 3, 6, 1, 0, 0, 0, 0, 0, 0, 0, 0, 0, 0, 0, 0, 0], [0, 40, 41, 31, 54, 22, 4, 1, 0, 0, 0, 0, 0, 0, 0, 0, 0, 0, 0, 0], [0, 249, 5, 123, 4, 1, 0, 0, 0, 0, 0, 0, 0, 0, 0, 0, 0], [0, 97, 9, 21, 1, 0, 0, 0, 0, 0, 0, 0, 0, 0, 0, 0, 0], [0, 97, 22, 21, 1, 0, 0, 0, 0, 0, 0, 0, 0, 0, 0, 0, 0], [0, 450, 3, 6, 1, 0, 0, 0, 0, 0, 0, 0, 0, 0, 0, 0, 0], [0, 97, 9, 21, 1, 0, 0, 0, 0, 0, 0, 0, 0, 0, 0, 0, 0], [0, 249, 238, 3, 6, 1, 0, 0, 0, 0, 0, 0, 0, 0, 0, 0, 0], [0, 97, 129, 78, 4, 1, 0, 0, 0, 0, 0, 0, 0, 0, 0, 0, 0], [0, 97, 129, 78, 4, 1, 0, 0, 0, 0, 0, 0, 0, 0, 0, 0, 0], [0, 51, 38, 79, 3, 6, 1, 0, 0, 0, 0, 0, 0, 0, 0, 0, 0], [0, 40, 41, 31, 124, 18, 18, 48, 56, 4, 1, 0, 0, 0, 0, 0, 0], [0, 40, 41, 31, 124, 18, 4, 1, 0, 0, 0, 0, 0, 0, 0, 0, 0], [0, 484, 19, 9, 3, 6, 1, 0, 0, 0, 0, 0, 0, 0, 0, 0, 0], [0, 97, 9, 21, 1, 0, 0, 0, 0, 0, 0, 0, 0, 0, 0, 0, 0], [0, 173, 241, 10, 105, 120, 9, 113, 72, 24, 5, 56, 35, 13, 103, 4, 1], [0, 173, 241, 10, 105, 18, 37, 174, 4, 1, 0, 0, 0, 0, 0, 0, 0], [0, 97, 129, 78, 18, 4, 1, 0, 0, 0, 0, 0, 0, 0, 0, 0, 0], [0, 51, 35, 79, 4, 1, 0, 0, 0, 0, 0, 0, 0, 0, 0, 0, 0, 0, 0, 0], [0, 97, 5, 124, 18, 4, 1, 0, 0, 0, 0, 0, 0, 0, 0, 0, 0, 0, 0, 0], [0, 40, 41, 31, 124, 18, 18, 4, 1, 0, 0, 0, 0, 0, 0, 0, 0, 0, 0, 0], [0, 97, 129, 78, 4, 1, 0, 0, 0, 0, 0, 0, 0, 0, 0, 0, 0, 0, 0, 0], [0, 173, 241, 5, 94, 31, 5, 5, 34, 5, 5, 34, 5, 5, 34, 5, 34, 5, 34, 5], [0, 97, 129, 78, 5, 94, 31, 418, 107, 1, 0, 0, 0, 0, 0, 0, 0, 0, 0, 0], [0, 311, 78, 22, 21, 1, 0, 0, 0, 0, 0, 0, 0, 0, 0, 0, 0, 0, 0, 0], [0, 97, 5, 124, 21, 1, 0, 0, 0, 0, 0, 0, 0, 0, 0, 0, 0, 0, 0, 0], [0, 97, 9, 21, 1, 0, 0, 0, 0, 0, 0, 0, 0, 0, 0, 0, 0, 0, 0, 0], [0, 97, 9, 125, 4, 1, 0, 0, 0, 0, 0, 0, 0, 0, 0, 0, 0, 0, 0, 0], [0, 97, 9, 125, 4, 1, 0, 0, 0, 0, 0, 0, 0, 0, 0, 0, 0, 0, 0, 0], [0, 97, 129, 3, 6, 1, 0, 0, 0, 0, 0, 0, 0, 0, 0, 0, 0, 0, 0, 0], [0, 97, 9, 21, 1, 0, 0, 0, 0, 0, 0, 0, 0, 0, 0, 0, 0, 0, 0, 0], [0, 40, 41, 31, 22, 4, 1, 0, 0, 0, 0, 0, 0, 0, 0, 0, 0, 0, 0, 0], [0, 40, 41, 31, 22, 4, 1, 0, 0, 0, 0, 0, 0, 0, 0, 0, 0, 0, 0, 0], [0, 188, 18, 4, 1, 0, 0, 0, 0, 0, 0, 0, 0, 0, 0, 0, 0, 0, 0, 0], [0, 311, 38, 79, 3, 6, 1, 0], [0, 40, 41, 31, 22, 18, 21, 1], [0, 188, 35, 13, 103, 4, 1, 0], [0, 40, 41, 31, 124, 18, 4, 1], [0, 40, 41, 31, 54, 22, 4, 1], [0, 200, 54, 22, 4, 1, 0, 0]]\n"
     ]
    }
   ],
   "source": [
    "# evaluation with test set\n",
    "df_ft_to_wf = trainer.evaluate(test_dataset)"
   ]
  },
  {
   "cell_type": "code",
   "execution_count": 9,
   "metadata": {},
   "outputs": [
    {
     "data": {
      "text/html": [
       "<div>\n",
       "<style scoped>\n",
       "    .dataframe tbody tr th:only-of-type {\n",
       "        vertical-align: middle;\n",
       "    }\n",
       "\n",
       "    .dataframe tbody tr th {\n",
       "        vertical-align: top;\n",
       "    }\n",
       "\n",
       "    .dataframe thead th {\n",
       "        text-align: right;\n",
       "    }\n",
       "</style>\n",
       "<table border=\"1\" class=\"dataframe\">\n",
       "  <thead>\n",
       "    <tr style=\"text-align: right;\">\n",
       "      <th></th>\n",
       "      <th>original_sentences</th>\n",
       "      <th>translations</th>\n",
       "      <th>predictions</th>\n",
       "    </tr>\n",
       "  </thead>\n",
       "  <tbody>\n",
       "    <tr>\n",
       "      <th>188</th>\n",
       "      <td>Donne le travail à un autre!</td>\n",
       "      <td>Joxal kenn liggéey bi!</td>\n",
       "      <td>Nit la!</td>\n",
       "    </tr>\n",
       "    <tr>\n",
       "      <th>189</th>\n",
       "      <td>Cet homme qui a été.</td>\n",
       "      <td>Góor gii demoon.</td>\n",
       "      <td>Góor gi dem.</td>\n",
       "    </tr>\n",
       "    <tr>\n",
       "      <th>190</th>\n",
       "      <td>Dites-lui.</td>\n",
       "      <td>Nileen ka.</td>\n",
       "      <td>Góor gi dem.</td>\n",
       "    </tr>\n",
       "    <tr>\n",
       "      <th>191</th>\n",
       "      <td>Il est là.</td>\n",
       "      <td>Ma ŋgoogule foofu.</td>\n",
       "      <td>Dem na.</td>\n",
       "    </tr>\n",
       "    <tr>\n",
       "      <th>192</th>\n",
       "      <td>Tu vois cet homme là-bas?</td>\n",
       "      <td>Gis ŋga nit kale?</td>\n",
       "      <td>Ma ŋga nit?</td>\n",
       "    </tr>\n",
       "    <tr>\n",
       "      <th>193</th>\n",
       "      <td>L'homme est parti je crois!</td>\n",
       "      <td>Ma defe góor gi dem na!</td>\n",
       "      <td>Góor gi dem na!</td>\n",
       "    </tr>\n",
       "    <tr>\n",
       "      <th>194</th>\n",
       "      <td>J'ai aperçu un baobab.</td>\n",
       "      <td>Séen naa ag guy.</td>\n",
       "      <td>Dem naa ci biir.</td>\n",
       "    </tr>\n",
       "    <tr>\n",
       "      <th>195</th>\n",
       "      <td>Celui-ci serait parti.</td>\n",
       "      <td>Kii dafa demkoon.</td>\n",
       "      <td>Góor gi bëgg na.</td>\n",
       "    </tr>\n",
       "    <tr>\n",
       "      <th>196</th>\n",
       "      <td>Toutes les portes étaient ouvertes.</td>\n",
       "      <td>Bunt yi yépp a tëjju woon.</td>\n",
       "      <td>Góor gi di dem.</td>\n",
       "    </tr>\n",
       "    <tr>\n",
       "      <th>197</th>\n",
       "      <td>C'est Fatim, aujourd'hui.</td>\n",
       "      <td>Faatim la, tay.</td>\n",
       "      <td>Maa di dem.</td>\n",
       "    </tr>\n",
       "  </tbody>\n",
       "</table>\n",
       "</div>"
      ],
      "text/plain": [
       "                      original_sentences                translations  \\\n",
       "188         Donne le travail à un autre!      Joxal kenn liggéey bi!   \n",
       "189                 Cet homme qui a été.            Góor gii demoon.   \n",
       "190                           Dites-lui.                  Nileen ka.   \n",
       "191                           Il est là.          Ma ŋgoogule foofu.   \n",
       "192            Tu vois cet homme là-bas?           Gis ŋga nit kale?   \n",
       "193          L'homme est parti je crois!     Ma defe góor gi dem na!   \n",
       "194               J'ai aperçu un baobab.            Séen naa ag guy.   \n",
       "195               Celui-ci serait parti.           Kii dafa demkoon.   \n",
       "196  Toutes les portes étaient ouvertes.  Bunt yi yépp a tëjju woon.   \n",
       "197            C'est Fatim, aujourd'hui.             Faatim la, tay.   \n",
       "\n",
       "          predictions  \n",
       "188           Nit la!  \n",
       "189      Góor gi dem.  \n",
       "190      Góor gi dem.  \n",
       "191           Dem na.  \n",
       "192       Ma ŋga nit?  \n",
       "193   Góor gi dem na!  \n",
       "194  Dem naa ci biir.  \n",
       "195  Góor gi bëgg na.  \n",
       "196   Góor gi di dem.  \n",
       "197       Maa di dem.  "
      ]
     },
     "execution_count": 9,
     "metadata": {},
     "output_type": "execute_result"
    }
   ],
   "source": [
    "df_ft_to_wf[1].tail(10)"
   ]
  },
  {
   "cell_type": "code",
   "execution_count": 10,
   "metadata": {},
   "outputs": [
    {
     "data": {
      "text/html": [
       "<div>\n",
       "<style scoped>\n",
       "    .dataframe tbody tr th:only-of-type {\n",
       "        vertical-align: middle;\n",
       "    }\n",
       "\n",
       "    .dataframe tbody tr th {\n",
       "        vertical-align: top;\n",
       "    }\n",
       "\n",
       "    .dataframe thead th {\n",
       "        text-align: right;\n",
       "    }\n",
       "</style>\n",
       "<table border=\"1\" class=\"dataframe\">\n",
       "  <thead>\n",
       "    <tr style=\"text-align: right;\">\n",
       "      <th></th>\n",
       "      <th>original_sentences</th>\n",
       "      <th>translations</th>\n",
       "      <th>predictions</th>\n",
       "    </tr>\n",
       "  </thead>\n",
       "  <tbody>\n",
       "    <tr>\n",
       "      <th>18</th>\n",
       "      <td>Afin que parte qui?</td>\n",
       "      <td>Ndax kan dem?</td>\n",
       "      <td>Ndax dem?</td>\n",
       "    </tr>\n",
       "    <tr>\n",
       "      <th>168</th>\n",
       "      <td>Tu as vu les autres amis?</td>\n",
       "      <td>Gis ŋga sa yeneen xarit yi?</td>\n",
       "      <td>Gis ŋga nit?</td>\n",
       "    </tr>\n",
       "    <tr>\n",
       "      <th>63</th>\n",
       "      <td>Quelles femmes se sont égarées?</td>\n",
       "      <td>Jigéen ñan ñoo réer?</td>\n",
       "      <td>Yan nit?</td>\n",
       "    </tr>\n",
       "    <tr>\n",
       "      <th>175</th>\n",
       "      <td>C'est ce que tu as dit que la jeune femme préf...</td>\n",
       "      <td>Li ŋga wax la ndaw si taamu.</td>\n",
       "      <td>Nit ki ñëw na.</td>\n",
       "    </tr>\n",
       "    <tr>\n",
       "      <th>71</th>\n",
       "      <td>Moi-même je n'ai pas été.</td>\n",
       "      <td>Man mii demuma.</td>\n",
       "      <td>Man dem.</td>\n",
       "    </tr>\n",
       "    <tr>\n",
       "      <th>86</th>\n",
       "      <td>Ils partent.</td>\n",
       "      <td>Dem nañu.</td>\n",
       "      <td>Dem na.</td>\n",
       "    </tr>\n",
       "    <tr>\n",
       "      <th>5</th>\n",
       "      <td>Les gens n'étaient pas, habituellement, bavards.</td>\n",
       "      <td>Nit ñi daawuñu coow.</td>\n",
       "      <td>Nit, leen,.</td>\n",
       "    </tr>\n",
       "    <tr>\n",
       "      <th>118</th>\n",
       "      <td>Bonne soirée.</td>\n",
       "      <td>Naka ngon si.</td>\n",
       "      <td>Nit ki.</td>\n",
       "    </tr>\n",
       "    <tr>\n",
       "      <th>12</th>\n",
       "      <td>Tout autre mouton que tu vois.</td>\n",
       "      <td>Meneen xar mépp moo gis.</td>\n",
       "      <td>Góor gi dem na.</td>\n",
       "    </tr>\n",
       "    <tr>\n",
       "      <th>150</th>\n",
       "      <td>Une photo datant d'il y a soixante et neuf ans...</td>\n",
       "      <td>Nataalu juróom benn fukk ak juróom ñeent day w...</td>\n",
       "      <td>Góor gi bëgg na, bëgg na, bëgg na, bëgg na, bë...</td>\n",
       "    </tr>\n",
       "    <tr>\n",
       "      <th>60</th>\n",
       "      <td>Mes voeux d'anniversaire.</td>\n",
       "      <td>Mangui lay ndokkel ci sa bess bu délu si bi.</td>\n",
       "      <td>Nit ki ñëw.</td>\n",
       "    </tr>\n",
       "    <tr>\n",
       "      <th>75</th>\n",
       "      <td>Je parle de cet enfant-ci?</td>\n",
       "      <td>Xale bule laa wax?</td>\n",
       "      <td>Xar laa wax?</td>\n",
       "    </tr>\n",
       "    <tr>\n",
       "      <th>163</th>\n",
       "      <td>Comment se passe le travail?</td>\n",
       "      <td>Naka ligéey bi?</td>\n",
       "      <td>Naka?</td>\n",
       "    </tr>\n",
       "    <tr>\n",
       "      <th>96</th>\n",
       "      <td>C'est son ami!</td>\n",
       "      <td>Xaritam la!</td>\n",
       "      <td>Nit la!</td>\n",
       "    </tr>\n",
       "    <tr>\n",
       "      <th>113</th>\n",
       "      <td>L'homme ne cultivera pas.</td>\n",
       "      <td>Góor gi du bày.</td>\n",
       "      <td>Góor gi di dem.</td>\n",
       "    </tr>\n",
       "    <tr>\n",
       "      <th>7</th>\n",
       "      <td>S'il n'était pas Laobe.</td>\n",
       "      <td>Su dulwoon Lawbe.</td>\n",
       "      <td>L laa wax.</td>\n",
       "    </tr>\n",
       "    <tr>\n",
       "      <th>33</th>\n",
       "      <td>L'homme est allé à l'intérieur.</td>\n",
       "      <td>Góor gi dem na ci biir.</td>\n",
       "      <td>Góor gi bëgg na.</td>\n",
       "    </tr>\n",
       "    <tr>\n",
       "      <th>134</th>\n",
       "      <td>Moussa vous a dit que j'étais à la retraite.</td>\n",
       "      <td>Musaa wax na leen jël naa sama retraite.</td>\n",
       "      <td>Nit ki ñëw.</td>\n",
       "    </tr>\n",
       "    <tr>\n",
       "      <th>37</th>\n",
       "      <td>Je parle de cet homme-ci.</td>\n",
       "      <td>Kile nit laa wax.</td>\n",
       "      <td>Xar laa wax.</td>\n",
       "    </tr>\n",
       "    <tr>\n",
       "      <th>166</th>\n",
       "      <td>Je n'avais pas été te le cueillir.</td>\n",
       "      <td>Wattaliwuma la ka woon.</td>\n",
       "      <td>Nit ki ñëw.</td>\n",
       "    </tr>\n",
       "    <tr>\n",
       "      <th>109</th>\n",
       "      <td>Sur la photo que vous m'avez envoyée il y a de...</td>\n",
       "      <td>Nataal bi ngeen ma yónne nii de ñaari baŋ lañ ...</td>\n",
       "      <td>Waaw lii de ab nataal la boo xam ne ab nataal ...</td>\n",
       "    </tr>\n",
       "    <tr>\n",
       "      <th>143</th>\n",
       "      <td>Tu as regardé dans cette chambre-ci?</td>\n",
       "      <td>Seet ŋga néeg buu?</td>\n",
       "      <td>Gis ŋga nit?</td>\n",
       "    </tr>\n",
       "    <tr>\n",
       "      <th>45</th>\n",
       "      <td>Qu'il attrappe quelles vaches?</td>\n",
       "      <td>Mu japp nag yooyu yan?</td>\n",
       "      <td>Bëgg?</td>\n",
       "    </tr>\n",
       "    <tr>\n",
       "      <th>157</th>\n",
       "      <td>Aucun lion ne s'est égaré.</td>\n",
       "      <td>Gayndé genn réerul.</td>\n",
       "      <td>Xar man.</td>\n",
       "    </tr>\n",
       "    <tr>\n",
       "      <th>138</th>\n",
       "      <td>Alors il partit.</td>\n",
       "      <td>Noona mu dem.</td>\n",
       "      <td>Nit la woon.</td>\n",
       "    </tr>\n",
       "    <tr>\n",
       "      <th>111</th>\n",
       "      <td>C'est l'autre endroit qui n'a pas de trou.</td>\n",
       "      <td>Feneen fi bëttul la.</td>\n",
       "      <td>Nit ki woon.</td>\n",
       "    </tr>\n",
       "    <tr>\n",
       "      <th>177</th>\n",
       "      <td>L'un, dont il fut question, est parti.</td>\n",
       "      <td>Kenn ki woon dem na.</td>\n",
       "      <td>Nit, bëgg na.</td>\n",
       "    </tr>\n",
       "    <tr>\n",
       "      <th>183</th>\n",
       "      <td>Mais, même moi, je n'ai pas été!</td>\n",
       "      <td>Waaye man sax dama dul ñëw!</td>\n",
       "      <td>Nit, bëgg!</td>\n",
       "    </tr>\n",
       "    <tr>\n",
       "      <th>92</th>\n",
       "      <td>J'ai été jusqu'à lui.</td>\n",
       "      <td>Dem naa ba ci moom.</td>\n",
       "      <td>Dem naa ci biir.</td>\n",
       "    </tr>\n",
       "    <tr>\n",
       "      <th>44</th>\n",
       "      <td>Que j'attrape quelles vaches?</td>\n",
       "      <td>Ma japp nag yee yan?</td>\n",
       "      <td>Gis ŋga nit?</td>\n",
       "    </tr>\n",
       "    <tr>\n",
       "      <th>16</th>\n",
       "      <td>Quoi?</td>\n",
       "      <td>Lii lan?</td>\n",
       "      <td>Ndax dem?</td>\n",
       "    </tr>\n",
       "    <tr>\n",
       "      <th>135</th>\n",
       "      <td>J'ai vu vache d'Europe.</td>\n",
       "      <td>Gis naa nagu Tugal.</td>\n",
       "      <td>Gis naa la.</td>\n",
       "    </tr>\n",
       "    <tr>\n",
       "      <th>136</th>\n",
       "      <td>Appelle l'homme qui n'est pas Kangame d'ici!</td>\n",
       "      <td>Wool góor gi dul Kajgaamu fii!</td>\n",
       "      <td>Nit ki la!</td>\n",
       "    </tr>\n",
       "    <tr>\n",
       "      <th>97</th>\n",
       "      <td>L'homme qui eût travaillé.</td>\n",
       "      <td>Waa ji liggéeykoon.</td>\n",
       "      <td>Góor gi dem na.</td>\n",
       "    </tr>\n",
       "    <tr>\n",
       "      <th>22</th>\n",
       "      <td>Là-bas où?</td>\n",
       "      <td>Foofee fan?</td>\n",
       "      <td>L ndax?</td>\n",
       "    </tr>\n",
       "    <tr>\n",
       "      <th>194</th>\n",
       "      <td>J'ai aperçu un baobab.</td>\n",
       "      <td>Séen naa ag guy.</td>\n",
       "      <td>Dem naa ci biir.</td>\n",
       "    </tr>\n",
       "    <tr>\n",
       "      <th>126</th>\n",
       "      <td>À ceux-ci, ceux-là, à ceux qui sont là-bas.</td>\n",
       "      <td>Ñii, ñee, ñooñu.</td>\n",
       "      <td>Nit, bëgg na.</td>\n",
       "    </tr>\n",
       "    <tr>\n",
       "      <th>4</th>\n",
       "      <td>Ce n'est pas le tambour!</td>\n",
       "      <td>Du sabar gi!</td>\n",
       "      <td>Nit la!</td>\n",
       "    </tr>\n",
       "    <tr>\n",
       "      <th>66</th>\n",
       "      <td>Une fois en chemin.</td>\n",
       "      <td>Su dee dem.</td>\n",
       "      <td>Nit ki woon.</td>\n",
       "    </tr>\n",
       "    <tr>\n",
       "      <th>123</th>\n",
       "      <td>Appelle les enfants qui n'iront nulle part.</td>\n",
       "      <td>Wool xale yi dul dem fenn.</td>\n",
       "      <td>Nit ki ñëw.</td>\n",
       "    </tr>\n",
       "    <tr>\n",
       "      <th>131</th>\n",
       "      <td>Si on va au fond des choses, c'est Fatim!</td>\n",
       "      <td>Soo demee, Faatim la!</td>\n",
       "      <td>Nit, góor gi!</td>\n",
       "    </tr>\n",
       "    <tr>\n",
       "      <th>173</th>\n",
       "      <td>Sur cette photo ci, j'y vois quelqu'un portant...</td>\n",
       "      <td>Nataal bii maa ngi ciy gis ku yor raaya Senega...</td>\n",
       "      <td>Waaw lii de ab nataal la boo xam ne, gis naa c...</td>\n",
       "    </tr>\n",
       "    <tr>\n",
       "      <th>26</th>\n",
       "      <td>Tu as vu celui-ci?</td>\n",
       "      <td>Gis ŋga kooku?</td>\n",
       "      <td>Gis ŋga nit?</td>\n",
       "    </tr>\n",
       "    <tr>\n",
       "      <th>61</th>\n",
       "      <td>Attends jusqu'à demain!</td>\n",
       "      <td>Negal ba ëlëk!</td>\n",
       "      <td>Nit la!</td>\n",
       "    </tr>\n",
       "    <tr>\n",
       "      <th>145</th>\n",
       "      <td>J'ai vu vache d'Europe.</td>\n",
       "      <td>Gis naa nagu Tugël.</td>\n",
       "      <td>Gis naa la.</td>\n",
       "    </tr>\n",
       "    <tr>\n",
       "      <th>83</th>\n",
       "      <td>Afin qu'il se passe quoi?</td>\n",
       "      <td>Ndax lan am?</td>\n",
       "      <td>Naka ŋgeen ŋga?</td>\n",
       "    </tr>\n",
       "    <tr>\n",
       "      <th>8</th>\n",
       "      <td>C'est lui qui aime.</td>\n",
       "      <td>Moo bëgg.</td>\n",
       "      <td>Moo dem.</td>\n",
       "    </tr>\n",
       "    <tr>\n",
       "      <th>141</th>\n",
       "      <td>Qui as-tu vu?</td>\n",
       "      <td>Koo gis?</td>\n",
       "      <td>Gis ŋga gis?</td>\n",
       "    </tr>\n",
       "    <tr>\n",
       "      <th>74</th>\n",
       "      <td>Sur cette photo ci, il y a des pierres qui son...</td>\n",
       "      <td>Waaw nataal bi de, ay xeer la yoo xam ni dañ d...</td>\n",
       "      <td>Nit ki ñëw, mu, mu, mu.</td>\n",
       "    </tr>\n",
       "    <tr>\n",
       "      <th>187</th>\n",
       "      <td>La réunion ce n'est pas après-demain?</td>\n",
       "      <td>Ndaje mi du gannaaw ëlëk?</td>\n",
       "      <td>Nit ki?</td>\n",
       "    </tr>\n",
       "    <tr>\n",
       "      <th>98</th>\n",
       "      <td>C'est un bûcheron.</td>\n",
       "      <td>Aw lawbe la.</td>\n",
       "      <td>Nit la woon.</td>\n",
       "    </tr>\n",
       "    <tr>\n",
       "      <th>55</th>\n",
       "      <td>Cherche l'autre.</td>\n",
       "      <td>Seetal beneen bi.</td>\n",
       "      <td>Góor gi dem.</td>\n",
       "    </tr>\n",
       "    <tr>\n",
       "      <th>144</th>\n",
       "      <td>Un homme de courage n'abonde pas en paroles.</td>\n",
       "      <td>Jambaar du bare wax.</td>\n",
       "      <td>Nit ki ñëw.</td>\n",
       "    </tr>\n",
       "    <tr>\n",
       "      <th>162</th>\n",
       "      <td>Dis à l'homme de partir!</td>\n",
       "      <td>Waxal góor gi mu dem!</td>\n",
       "      <td>Nit dem!</td>\n",
       "    </tr>\n",
       "    <tr>\n",
       "      <th>24</th>\n",
       "      <td>Je crois que ce n'est pas celui-ci!</td>\n",
       "      <td>Du kii, defe naa!</td>\n",
       "      <td>Nit la!</td>\n",
       "    </tr>\n",
       "    <tr>\n",
       "      <th>30</th>\n",
       "      <td>L'homme partit.</td>\n",
       "      <td>Góor gi dem.</td>\n",
       "      <td>Góor gi dem.</td>\n",
       "    </tr>\n",
       "    <tr>\n",
       "      <th>112</th>\n",
       "      <td>Mets de l'ordre à l'intérieur seulement!</td>\n",
       "      <td>Defaral ci biir rekk!</td>\n",
       "      <td>Góor gi bëgg na!</td>\n",
       "    </tr>\n",
       "    <tr>\n",
       "      <th>40</th>\n",
       "      <td>Le voilà assis là-bas.</td>\n",
       "      <td>Ma ŋgii toog.</td>\n",
       "      <td>L ndax mu.</td>\n",
       "    </tr>\n",
       "    <tr>\n",
       "      <th>56</th>\n",
       "      <td>Qui sont-ils?</td>\n",
       "      <td>Ñan lañu?</td>\n",
       "      <td>Ku dem?</td>\n",
       "    </tr>\n",
       "    <tr>\n",
       "      <th>179</th>\n",
       "      <td>La femme et l'homme non plus ne désirent s'ent...</td>\n",
       "      <td>Ndaw si ak waa ji itam dañu bëggul déggoo.</td>\n",
       "      <td>Nit ki ñëw.</td>\n",
       "    </tr>\n",
       "    <tr>\n",
       "      <th>139</th>\n",
       "      <td>Comment t'appelles-tu?</td>\n",
       "      <td>Noo tudd?</td>\n",
       "      <td>Naka?</td>\n",
       "    </tr>\n",
       "    <tr>\n",
       "      <th>80</th>\n",
       "      <td>Il l'a battu à tel point qu'il est là.</td>\n",
       "      <td>Dóor na ka ba mi ŋgi.</td>\n",
       "      <td>Góor gi ŋgi fi.</td>\n",
       "    </tr>\n",
       "    <tr>\n",
       "      <th>19</th>\n",
       "      <td>J'ai vu l'ovin mâle.</td>\n",
       "      <td>Gis naa xar mu góor ma.</td>\n",
       "      <td>Gis naa nagu Tugël.</td>\n",
       "    </tr>\n",
       "    <tr>\n",
       "      <th>159</th>\n",
       "      <td>L'homme a donné quelque chose à quelqu'un.</td>\n",
       "      <td>Góor gi may na dara nit.</td>\n",
       "      <td>Góor gi di dem.</td>\n",
       "    </tr>\n",
       "    <tr>\n",
       "      <th>90</th>\n",
       "      <td>C'est là jusqu'au moment où nous trouverons un...</td>\n",
       "      <td>Foofu la ba ba ñuy gis feneen.</td>\n",
       "      <td>Nit ki ñëw.</td>\n",
       "    </tr>\n",
       "    <tr>\n",
       "      <th>54</th>\n",
       "      <td>Ils ont tous convenu qu'ils travailleraient to...</td>\n",
       "      <td>Degganté ñu ñoom ñép ci lu ñép di liggéeyi ci ...</td>\n",
       "      <td>Góor gi bëgg na na ci biir.</td>\n",
       "    </tr>\n",
       "    <tr>\n",
       "      <th>161</th>\n",
       "      <td>J'irai aujourd'hui!</td>\n",
       "      <td>Tay danaa dem!</td>\n",
       "      <td>Nit la!</td>\n",
       "    </tr>\n",
       "    <tr>\n",
       "      <th>51</th>\n",
       "      <td>C'est bon?</td>\n",
       "      <td>Baax na?</td>\n",
       "      <td>Ndax dem?</td>\n",
       "    </tr>\n",
       "    <tr>\n",
       "      <th>130</th>\n",
       "      <td>Où est le maître de maison?</td>\n",
       "      <td>Ana boroom kër gi?</td>\n",
       "      <td>Ana waa?</td>\n",
       "    </tr>\n",
       "    <tr>\n",
       "      <th>137</th>\n",
       "      <td>Cela seulement ne suffit pas.</td>\n",
       "      <td>Loolu doŋŋ doyul.</td>\n",
       "      <td>Xar laa wax.</td>\n",
       "    </tr>\n",
       "    <tr>\n",
       "      <th>180</th>\n",
       "      <td>Sur cette photo datant d'il y a trente sept an...</td>\n",
       "      <td>Nataalu fanweer ak juróom-ñaar, maa ngi ci gis...</td>\n",
       "      <td>Waaw lii, góor gi,, bi,, bi,, bi, bi, bi,</td>\n",
       "    </tr>\n",
       "    <tr>\n",
       "      <th>89</th>\n",
       "      <td>L'homme peut-il aller à Rao?</td>\n",
       "      <td>Góor gi dem Rao?</td>\n",
       "      <td>Góor gi dem?</td>\n",
       "    </tr>\n",
       "    <tr>\n",
       "      <th>125</th>\n",
       "      <td>L'homme a tenu aux enfants de bons propos.</td>\n",
       "      <td>Góor gi wax na xale yi wax ju rafet.</td>\n",
       "      <td>Góor gi di dem.</td>\n",
       "    </tr>\n",
       "    <tr>\n",
       "      <th>178</th>\n",
       "      <td>L'homme a fait un cadeau à Bathe.</td>\n",
       "      <td>Góor gi may na Bacc.</td>\n",
       "      <td>Góor gi bëgg na na.</td>\n",
       "    </tr>\n",
       "    <tr>\n",
       "      <th>182</th>\n",
       "      <td>Tu ne vas pas ailleurs!</td>\n",
       "      <td>Demuloo feneen!</td>\n",
       "      <td>Ma ñëw dem!</td>\n",
       "    </tr>\n",
       "    <tr>\n",
       "      <th>107</th>\n",
       "      <td>Ceci est, cependant, une porte conçue avec du ...</td>\n",
       "      <td>Lii nag ab buntu la boo xam ne ndénk lanu ko d...</td>\n",
       "      <td>Góor gi, bëgg na, bëgg na, bëgg na, bëgg na, b...</td>\n",
       "    </tr>\n",
       "    <tr>\n",
       "      <th>14</th>\n",
       "      <td>Bon matin.</td>\n",
       "      <td>Jaam nga fanane.</td>\n",
       "      <td>Nit ki.</td>\n",
       "    </tr>\n",
       "    <tr>\n",
       "      <th>27</th>\n",
       "      <td>Tu as vu tes autres amis?</td>\n",
       "      <td>Gis ŋga sa xarit yeneen yi?</td>\n",
       "      <td>Gis ŋga nit?</td>\n",
       "    </tr>\n",
       "    <tr>\n",
       "      <th>122</th>\n",
       "      <td>Cette photo ci c'est une photo sur laquelle je...</td>\n",
       "      <td>Nataal bi ab nataal la boo xamante yni maa ngi...</td>\n",
       "      <td>Waaw lii de ab nataal la boo xam ne gis ci biir.</td>\n",
       "    </tr>\n",
       "    <tr>\n",
       "      <th>195</th>\n",
       "      <td>Celui-ci serait parti.</td>\n",
       "      <td>Kii dafa demkoon.</td>\n",
       "      <td>Góor gi bëgg na.</td>\n",
       "    </tr>\n",
       "    <tr>\n",
       "      <th>46</th>\n",
       "      <td>Homme et lion ne peuvent cohabiter ensemble.</td>\n",
       "      <td>Nit ag gaynde duñu dëkkóo.</td>\n",
       "      <td>Nit ki ñëw.</td>\n",
       "    </tr>\n",
       "    <tr>\n",
       "      <th>193</th>\n",
       "      <td>L'homme est parti je crois!</td>\n",
       "      <td>Ma defe góor gi dem na!</td>\n",
       "      <td>Góor gi dem na!</td>\n",
       "    </tr>\n",
       "    <tr>\n",
       "      <th>106</th>\n",
       "      <td>Dis-lui qu'il ne vienne pas.</td>\n",
       "      <td>Ni ka bu mu ñëw.</td>\n",
       "      <td>Nit ki woon.</td>\n",
       "    </tr>\n",
       "    <tr>\n",
       "      <th>62</th>\n",
       "      <td>Que la paix soit avec toi aussi.</td>\n",
       "      <td>Maaleekum salaam.</td>\n",
       "      <td>Nit ki ñëw.</td>\n",
       "    </tr>\n",
       "    <tr>\n",
       "      <th>2</th>\n",
       "      <td>Qui a parlé?</td>\n",
       "      <td>Ku wax?</td>\n",
       "      <td>Ku dem?</td>\n",
       "    </tr>\n",
       "    <tr>\n",
       "      <th>59</th>\n",
       "      <td>Surtout pars!</td>\n",
       "      <td>Te ŋga dem kat!</td>\n",
       "      <td>Nit la!</td>\n",
       "    </tr>\n",
       "    <tr>\n",
       "      <th>158</th>\n",
       "      <td>Quels chevaux voulais-tu et lequel as-tu pris?</td>\n",
       "      <td>Yan fas ŋga bëggoon ak wan ŋga japp?</td>\n",
       "      <td>Nit ŋga nit?</td>\n",
       "    </tr>\n",
       "    <tr>\n",
       "      <th>197</th>\n",
       "      <td>C'est Fatim, aujourd'hui.</td>\n",
       "      <td>Faatim la, tay.</td>\n",
       "      <td>Maa di dem.</td>\n",
       "    </tr>\n",
       "    <tr>\n",
       "      <th>43</th>\n",
       "      <td>Comme il avait ainsi été en ce lieu.</td>\n",
       "      <td>Noonu mu demoon foofa.</td>\n",
       "      <td>Nit ki ñëw.</td>\n",
       "    </tr>\n",
       "    <tr>\n",
       "      <th>10</th>\n",
       "      <td>J'ai vu lion.</td>\n",
       "      <td>Gis naa gaynde.</td>\n",
       "      <td>Gis naa la.</td>\n",
       "    </tr>\n",
       "    <tr>\n",
       "      <th>101</th>\n",
       "      <td>C'est un homme qui fut bon!</td>\n",
       "      <td>Nit ku baaxoon la!</td>\n",
       "      <td>Nit la!</td>\n",
       "    </tr>\n",
       "    <tr>\n",
       "      <th>73</th>\n",
       "      <td>Certaines personnes ne sont pas encore arrivées.</td>\n",
       "      <td>Ñenn nit ñi yegseeguñu.</td>\n",
       "      <td>Nit ki ñëw.</td>\n",
       "    </tr>\n",
       "    <tr>\n",
       "      <th>190</th>\n",
       "      <td>Dites-lui.</td>\n",
       "      <td>Nileen ka.</td>\n",
       "      <td>Góor gi dem.</td>\n",
       "    </tr>\n",
       "    <tr>\n",
       "      <th>176</th>\n",
       "      <td>J'ai vu un mouton.</td>\n",
       "      <td>Gis naa am xar.</td>\n",
       "      <td>Gis naa nit.</td>\n",
       "    </tr>\n",
       "    <tr>\n",
       "      <th>146</th>\n",
       "      <td>Jusqu'ici, c'est bon.</td>\n",
       "      <td>Ba fi, mu tollu.</td>\n",
       "      <td>Jigéen, mu,.</td>\n",
       "    </tr>\n",
       "    <tr>\n",
       "      <th>124</th>\n",
       "      <td>J'ai aperçu un homme.</td>\n",
       "      <td>Séen naa ak nit.</td>\n",
       "      <td>Dem naa ci biir.</td>\n",
       "    </tr>\n",
       "    <tr>\n",
       "      <th>93</th>\n",
       "      <td>C'est cet autre-là?</td>\n",
       "      <td>Kookule la?</td>\n",
       "      <td>Naka?</td>\n",
       "    </tr>\n",
       "    <tr>\n",
       "      <th>110</th>\n",
       "      <td>C'est le Laobe.</td>\n",
       "      <td>Moo di Lawbe bi.</td>\n",
       "      <td>Yaa ji na.</td>\n",
       "    </tr>\n",
       "    <tr>\n",
       "      <th>156</th>\n",
       "      <td>Bonne nuit.</td>\n",
       "      <td>Fanaanal jaam.</td>\n",
       "      <td>Nit la woon.</td>\n",
       "    </tr>\n",
       "    <tr>\n",
       "      <th>189</th>\n",
       "      <td>Cet homme qui a été.</td>\n",
       "      <td>Góor gii demoon.</td>\n",
       "      <td>Góor gi dem.</td>\n",
       "    </tr>\n",
       "  </tbody>\n",
       "</table>\n",
       "</div>"
      ],
      "text/plain": [
       "                                    original_sentences  \\\n",
       "18                                 Afin que parte qui?   \n",
       "168                          Tu as vu les autres amis?   \n",
       "63                     Quelles femmes se sont égarées?   \n",
       "175  C'est ce que tu as dit que la jeune femme préf...   \n",
       "71                           Moi-même je n'ai pas été.   \n",
       "86                                        Ils partent.   \n",
       "5     Les gens n'étaient pas, habituellement, bavards.   \n",
       "118                                      Bonne soirée.   \n",
       "12                      Tout autre mouton que tu vois.   \n",
       "150  Une photo datant d'il y a soixante et neuf ans...   \n",
       "60                           Mes voeux d'anniversaire.   \n",
       "75                          Je parle de cet enfant-ci?   \n",
       "163                       Comment se passe le travail?   \n",
       "96                                      C'est son ami!   \n",
       "113                          L'homme ne cultivera pas.   \n",
       "7                              S'il n'était pas Laobe.   \n",
       "33                     L'homme est allé à l'intérieur.   \n",
       "134       Moussa vous a dit que j'étais à la retraite.   \n",
       "37                           Je parle de cet homme-ci.   \n",
       "166                 Je n'avais pas été te le cueillir.   \n",
       "109  Sur la photo que vous m'avez envoyée il y a de...   \n",
       "143               Tu as regardé dans cette chambre-ci?   \n",
       "45                      Qu'il attrappe quelles vaches?   \n",
       "157                         Aucun lion ne s'est égaré.   \n",
       "138                                   Alors il partit.   \n",
       "111         C'est l'autre endroit qui n'a pas de trou.   \n",
       "177             L'un, dont il fut question, est parti.   \n",
       "183                   Mais, même moi, je n'ai pas été!   \n",
       "92                               J'ai été jusqu'à lui.   \n",
       "44                       Que j'attrape quelles vaches?   \n",
       "16                                               Quoi?   \n",
       "135                            J'ai vu vache d'Europe.   \n",
       "136       Appelle l'homme qui n'est pas Kangame d'ici!   \n",
       "97                          L'homme qui eût travaillé.   \n",
       "22                                          Là-bas où?   \n",
       "194                             J'ai aperçu un baobab.   \n",
       "126        À ceux-ci, ceux-là, à ceux qui sont là-bas.   \n",
       "4                             Ce n'est pas le tambour!   \n",
       "66                                 Une fois en chemin.   \n",
       "123        Appelle les enfants qui n'iront nulle part.   \n",
       "131          Si on va au fond des choses, c'est Fatim!   \n",
       "173  Sur cette photo ci, j'y vois quelqu'un portant...   \n",
       "26                                  Tu as vu celui-ci?   \n",
       "61                             Attends jusqu'à demain!   \n",
       "145                            J'ai vu vache d'Europe.   \n",
       "83                           Afin qu'il se passe quoi?   \n",
       "8                                  C'est lui qui aime.   \n",
       "141                                      Qui as-tu vu?   \n",
       "74   Sur cette photo ci, il y a des pierres qui son...   \n",
       "187              La réunion ce n'est pas après-demain?   \n",
       "98                                  C'est un bûcheron.   \n",
       "55                                    Cherche l'autre.   \n",
       "144       Un homme de courage n'abonde pas en paroles.   \n",
       "162                           Dis à l'homme de partir!   \n",
       "24                 Je crois que ce n'est pas celui-ci!   \n",
       "30                                     L'homme partit.   \n",
       "112           Mets de l'ordre à l'intérieur seulement!   \n",
       "40                              Le voilà assis là-bas.   \n",
       "56                                       Qui sont-ils?   \n",
       "179  La femme et l'homme non plus ne désirent s'ent...   \n",
       "139                             Comment t'appelles-tu?   \n",
       "80              Il l'a battu à tel point qu'il est là.   \n",
       "19                                J'ai vu l'ovin mâle.   \n",
       "159         L'homme a donné quelque chose à quelqu'un.   \n",
       "90   C'est là jusqu'au moment où nous trouverons un...   \n",
       "54   Ils ont tous convenu qu'ils travailleraient to...   \n",
       "161                                J'irai aujourd'hui!   \n",
       "51                                          C'est bon?   \n",
       "130                        Où est le maître de maison?   \n",
       "137                      Cela seulement ne suffit pas.   \n",
       "180  Sur cette photo datant d'il y a trente sept an...   \n",
       "89                        L'homme peut-il aller à Rao?   \n",
       "125         L'homme a tenu aux enfants de bons propos.   \n",
       "178                  L'homme a fait un cadeau à Bathe.   \n",
       "182                            Tu ne vas pas ailleurs!   \n",
       "107  Ceci est, cependant, une porte conçue avec du ...   \n",
       "14                                          Bon matin.   \n",
       "27                           Tu as vu tes autres amis?   \n",
       "122  Cette photo ci c'est une photo sur laquelle je...   \n",
       "195                             Celui-ci serait parti.   \n",
       "46        Homme et lion ne peuvent cohabiter ensemble.   \n",
       "193                        L'homme est parti je crois!   \n",
       "106                       Dis-lui qu'il ne vienne pas.   \n",
       "62                    Que la paix soit avec toi aussi.   \n",
       "2                                         Qui a parlé?   \n",
       "59                                       Surtout pars!   \n",
       "158     Quels chevaux voulais-tu et lequel as-tu pris?   \n",
       "197                          C'est Fatim, aujourd'hui.   \n",
       "43                Comme il avait ainsi été en ce lieu.   \n",
       "10                                       J'ai vu lion.   \n",
       "101                        C'est un homme qui fut bon!   \n",
       "73    Certaines personnes ne sont pas encore arrivées.   \n",
       "190                                         Dites-lui.   \n",
       "176                                 J'ai vu un mouton.   \n",
       "146                              Jusqu'ici, c'est bon.   \n",
       "124                              J'ai aperçu un homme.   \n",
       "93                                 C'est cet autre-là?   \n",
       "110                                    C'est le Laobe.   \n",
       "156                                        Bonne nuit.   \n",
       "189                               Cet homme qui a été.   \n",
       "\n",
       "                                          translations  \\\n",
       "18                                       Ndax kan dem?   \n",
       "168                        Gis ŋga sa yeneen xarit yi?   \n",
       "63                                Jigéen ñan ñoo réer?   \n",
       "175                       Li ŋga wax la ndaw si taamu.   \n",
       "71                                     Man mii demuma.   \n",
       "86                                           Dem nañu.   \n",
       "5                                 Nit ñi daawuñu coow.   \n",
       "118                                      Naka ngon si.   \n",
       "12                            Meneen xar mépp moo gis.   \n",
       "150  Nataalu juróom benn fukk ak juróom ñeent day w...   \n",
       "60        Mangui lay ndokkel ci sa bess bu délu si bi.   \n",
       "75                                  Xale bule laa wax?   \n",
       "163                                    Naka ligéey bi?   \n",
       "96                                         Xaritam la!   \n",
       "113                                    Góor gi du bày.   \n",
       "7                                    Su dulwoon Lawbe.   \n",
       "33                             Góor gi dem na ci biir.   \n",
       "134           Musaa wax na leen jël naa sama retraite.   \n",
       "37                                   Kile nit laa wax.   \n",
       "166                            Wattaliwuma la ka woon.   \n",
       "109  Nataal bi ngeen ma yónne nii de ñaari baŋ lañ ...   \n",
       "143                                 Seet ŋga néeg buu?   \n",
       "45                              Mu japp nag yooyu yan?   \n",
       "157                                Gayndé genn réerul.   \n",
       "138                                      Noona mu dem.   \n",
       "111                               Feneen fi bëttul la.   \n",
       "177                               Kenn ki woon dem na.   \n",
       "183                        Waaye man sax dama dul ñëw!   \n",
       "92                                 Dem naa ba ci moom.   \n",
       "44                                Ma japp nag yee yan?   \n",
       "16                                            Lii lan?   \n",
       "135                                Gis naa nagu Tugal.   \n",
       "136                     Wool góor gi dul Kajgaamu fii!   \n",
       "97                                 Waa ji liggéeykoon.   \n",
       "22                                         Foofee fan?   \n",
       "194                                   Séen naa ag guy.   \n",
       "126                                   Ñii, ñee, ñooñu.   \n",
       "4                                         Du sabar gi!   \n",
       "66                                         Su dee dem.   \n",
       "123                         Wool xale yi dul dem fenn.   \n",
       "131                              Soo demee, Faatim la!   \n",
       "173  Nataal bii maa ngi ciy gis ku yor raaya Senega...   \n",
       "26                                      Gis ŋga kooku?   \n",
       "61                                      Negal ba ëlëk!   \n",
       "145                                Gis naa nagu Tugël.   \n",
       "83                                        Ndax lan am?   \n",
       "8                                            Moo bëgg.   \n",
       "141                                           Koo gis?   \n",
       "74   Waaw nataal bi de, ay xeer la yoo xam ni dañ d...   \n",
       "187                          Ndaje mi du gannaaw ëlëk?   \n",
       "98                                        Aw lawbe la.   \n",
       "55                                   Seetal beneen bi.   \n",
       "144                               Jambaar du bare wax.   \n",
       "162                              Waxal góor gi mu dem!   \n",
       "24                                   Du kii, defe naa!   \n",
       "30                                        Góor gi dem.   \n",
       "112                              Defaral ci biir rekk!   \n",
       "40                                       Ma ŋgii toog.   \n",
       "56                                           Ñan lañu?   \n",
       "179         Ndaw si ak waa ji itam dañu bëggul déggoo.   \n",
       "139                                          Noo tudd?   \n",
       "80                               Dóor na ka ba mi ŋgi.   \n",
       "19                             Gis naa xar mu góor ma.   \n",
       "159                           Góor gi may na dara nit.   \n",
       "90                      Foofu la ba ba ñuy gis feneen.   \n",
       "54   Degganté ñu ñoom ñép ci lu ñép di liggéeyi ci ...   \n",
       "161                                     Tay danaa dem!   \n",
       "51                                            Baax na?   \n",
       "130                                 Ana boroom kër gi?   \n",
       "137                                  Loolu doŋŋ doyul.   \n",
       "180  Nataalu fanweer ak juróom-ñaar, maa ngi ci gis...   \n",
       "89                                    Góor gi dem Rao?   \n",
       "125               Góor gi wax na xale yi wax ju rafet.   \n",
       "178                               Góor gi may na Bacc.   \n",
       "182                                    Demuloo feneen!   \n",
       "107  Lii nag ab buntu la boo xam ne ndénk lanu ko d...   \n",
       "14                                    Jaam nga fanane.   \n",
       "27                         Gis ŋga sa xarit yeneen yi?   \n",
       "122  Nataal bi ab nataal la boo xamante yni maa ngi...   \n",
       "195                                  Kii dafa demkoon.   \n",
       "46                          Nit ag gaynde duñu dëkkóo.   \n",
       "193                            Ma defe góor gi dem na!   \n",
       "106                                   Ni ka bu mu ñëw.   \n",
       "62                                   Maaleekum salaam.   \n",
       "2                                              Ku wax?   \n",
       "59                                     Te ŋga dem kat!   \n",
       "158               Yan fas ŋga bëggoon ak wan ŋga japp?   \n",
       "197                                    Faatim la, tay.   \n",
       "43                              Noonu mu demoon foofa.   \n",
       "10                                     Gis naa gaynde.   \n",
       "101                                 Nit ku baaxoon la!   \n",
       "73                             Ñenn nit ñi yegseeguñu.   \n",
       "190                                         Nileen ka.   \n",
       "176                                    Gis naa am xar.   \n",
       "146                                   Ba fi, mu tollu.   \n",
       "124                                   Séen naa ak nit.   \n",
       "93                                         Kookule la?   \n",
       "110                                   Moo di Lawbe bi.   \n",
       "156                                     Fanaanal jaam.   \n",
       "189                                   Góor gii demoon.   \n",
       "\n",
       "                                           predictions  \n",
       "18                                           Ndax dem?  \n",
       "168                                       Gis ŋga nit?  \n",
       "63                                            Yan nit?  \n",
       "175                                     Nit ki ñëw na.  \n",
       "71                                            Man dem.  \n",
       "86                                             Dem na.  \n",
       "5                                          Nit, leen,.  \n",
       "118                                            Nit ki.  \n",
       "12                                     Góor gi dem na.  \n",
       "150  Góor gi bëgg na, bëgg na, bëgg na, bëgg na, bë...  \n",
       "60                                         Nit ki ñëw.  \n",
       "75                                        Xar laa wax?  \n",
       "163                                              Naka?  \n",
       "96                                             Nit la!  \n",
       "113                                    Góor gi di dem.  \n",
       "7                                           L laa wax.  \n",
       "33                                    Góor gi bëgg na.  \n",
       "134                                        Nit ki ñëw.  \n",
       "37                                        Xar laa wax.  \n",
       "166                                        Nit ki ñëw.  \n",
       "109  Waaw lii de ab nataal la boo xam ne ab nataal ...  \n",
       "143                                       Gis ŋga nit?  \n",
       "45                                               Bëgg?  \n",
       "157                                           Xar man.  \n",
       "138                                       Nit la woon.  \n",
       "111                                       Nit ki woon.  \n",
       "177                                      Nit, bëgg na.  \n",
       "183                                         Nit, bëgg!  \n",
       "92                                    Dem naa ci biir.  \n",
       "44                                        Gis ŋga nit?  \n",
       "16                                           Ndax dem?  \n",
       "135                                        Gis naa la.  \n",
       "136                                         Nit ki la!  \n",
       "97                                     Góor gi dem na.  \n",
       "22                                             L ndax?  \n",
       "194                                   Dem naa ci biir.  \n",
       "126                                      Nit, bëgg na.  \n",
       "4                                              Nit la!  \n",
       "66                                        Nit ki woon.  \n",
       "123                                        Nit ki ñëw.  \n",
       "131                                      Nit, góor gi!  \n",
       "173  Waaw lii de ab nataal la boo xam ne, gis naa c...  \n",
       "26                                        Gis ŋga nit?  \n",
       "61                                             Nit la!  \n",
       "145                                        Gis naa la.  \n",
       "83                                     Naka ŋgeen ŋga?  \n",
       "8                                             Moo dem.  \n",
       "141                                       Gis ŋga gis?  \n",
       "74                             Nit ki ñëw, mu, mu, mu.  \n",
       "187                                            Nit ki?  \n",
       "98                                        Nit la woon.  \n",
       "55                                        Góor gi dem.  \n",
       "144                                        Nit ki ñëw.  \n",
       "162                                           Nit dem!  \n",
       "24                                             Nit la!  \n",
       "30                                        Góor gi dem.  \n",
       "112                                   Góor gi bëgg na!  \n",
       "40                                          L ndax mu.  \n",
       "56                                             Ku dem?  \n",
       "179                                        Nit ki ñëw.  \n",
       "139                                              Naka?  \n",
       "80                                     Góor gi ŋgi fi.  \n",
       "19                                 Gis naa nagu Tugël.  \n",
       "159                                    Góor gi di dem.  \n",
       "90                                         Nit ki ñëw.  \n",
       "54                         Góor gi bëgg na na ci biir.  \n",
       "161                                            Nit la!  \n",
       "51                                           Ndax dem?  \n",
       "130                                           Ana waa?  \n",
       "137                                       Xar laa wax.  \n",
       "180          Waaw lii, góor gi,, bi,, bi,, bi, bi, bi,  \n",
       "89                                        Góor gi dem?  \n",
       "125                                    Góor gi di dem.  \n",
       "178                                Góor gi bëgg na na.  \n",
       "182                                        Ma ñëw dem!  \n",
       "107  Góor gi, bëgg na, bëgg na, bëgg na, bëgg na, b...  \n",
       "14                                             Nit ki.  \n",
       "27                                        Gis ŋga nit?  \n",
       "122   Waaw lii de ab nataal la boo xam ne gis ci biir.  \n",
       "195                                   Góor gi bëgg na.  \n",
       "46                                         Nit ki ñëw.  \n",
       "193                                    Góor gi dem na!  \n",
       "106                                       Nit ki woon.  \n",
       "62                                         Nit ki ñëw.  \n",
       "2                                              Ku dem?  \n",
       "59                                             Nit la!  \n",
       "158                                       Nit ŋga nit?  \n",
       "197                                        Maa di dem.  \n",
       "43                                         Nit ki ñëw.  \n",
       "10                                         Gis naa la.  \n",
       "101                                            Nit la!  \n",
       "73                                         Nit ki ñëw.  \n",
       "190                                       Góor gi dem.  \n",
       "176                                       Gis naa nit.  \n",
       "146                                       Jigéen, mu,.  \n",
       "124                                   Dem naa ci biir.  \n",
       "93                                               Naka?  \n",
       "110                                         Yaa ji na.  \n",
       "156                                       Nit la woon.  \n",
       "189                                       Góor gi dem.  "
      ]
     },
     "execution_count": 10,
     "metadata": {},
     "output_type": "execute_result"
    }
   ],
   "source": [
    "# let us display 100 samples\n",
    "pd.options.display.max_rows = 100\n",
    "df_ft_to_wf[1].sample(100)"
   ]
  }
 ],
 "metadata": {
  "accelerator": "GPU",
  "colab": {
   "gpuType": "T4",
   "provenance": []
  },
  "gpuClass": "standard",
  "kernelspec": {
   "display_name": "pytorch1-HleOW5am-py3.10",
   "language": "python",
   "name": "python3"
  },
  "language_info": {
   "codemirror_mode": {
    "name": "ipython",
    "version": 3
   },
   "file_extension": ".py",
   "mimetype": "text/x-python",
   "name": "python",
   "nbconvert_exporter": "python",
   "pygments_lexer": "ipython3",
   "version": "3.10.8"
  },
  "widgets": {
   "application/vnd.jupyter.widget-state+json": {
    "07b148611e0445068ec4ae2a289f968d": {
     "model_module": "@jupyter-widgets/base",
     "model_module_version": "1.2.0",
     "model_name": "LayoutModel",
     "state": {
      "_model_module": "@jupyter-widgets/base",
      "_model_module_version": "1.2.0",
      "_model_name": "LayoutModel",
      "_view_count": null,
      "_view_module": "@jupyter-widgets/base",
      "_view_module_version": "1.2.0",
      "_view_name": "LayoutView",
      "align_content": null,
      "align_items": null,
      "align_self": null,
      "border": null,
      "bottom": null,
      "display": null,
      "flex": null,
      "flex_flow": null,
      "grid_area": null,
      "grid_auto_columns": null,
      "grid_auto_flow": null,
      "grid_auto_rows": null,
      "grid_column": null,
      "grid_gap": null,
      "grid_row": null,
      "grid_template_areas": null,
      "grid_template_columns": null,
      "grid_template_rows": null,
      "height": null,
      "justify_content": null,
      "justify_items": null,
      "left": null,
      "margin": null,
      "max_height": null,
      "max_width": null,
      "min_height": null,
      "min_width": null,
      "object_fit": null,
      "object_position": null,
      "order": null,
      "overflow": null,
      "overflow_x": null,
      "overflow_y": null,
      "padding": null,
      "right": null,
      "top": null,
      "visibility": null,
      "width": null
     }
    },
    "08fc0c2dc9b94689b80e085b682e54a5": {
     "model_module": "@jupyter-widgets/controls",
     "model_module_version": "1.5.0",
     "model_name": "LabelModel",
     "state": {
      "_dom_classes": [],
      "_model_module": "@jupyter-widgets/controls",
      "_model_module_version": "1.5.0",
      "_model_name": "LabelModel",
      "_view_count": null,
      "_view_module": "@jupyter-widgets/controls",
      "_view_module_version": "1.5.0",
      "_view_name": "LabelView",
      "description": "",
      "description_tooltip": null,
      "layout": "IPY_MODEL_07b148611e0445068ec4ae2a289f968d",
      "placeholder": "​",
      "style": "IPY_MODEL_4b5ea7f279854a01aaa4f5043372df2d",
      "value": "0.009 MB of 0.009 MB uploaded (0.000 MB deduped)\r"
     }
    },
    "347e2725b013421a951237d46b26d5e3": {
     "model_module": "@jupyter-widgets/controls",
     "model_module_version": "1.5.0",
     "model_name": "ProgressStyleModel",
     "state": {
      "_model_module": "@jupyter-widgets/controls",
      "_model_module_version": "1.5.0",
      "_model_name": "ProgressStyleModel",
      "_view_count": null,
      "_view_module": "@jupyter-widgets/base",
      "_view_module_version": "1.2.0",
      "_view_name": "StyleView",
      "bar_color": null,
      "description_width": ""
     }
    },
    "378d2507f5d5418681817fdbe4f227fd": {
     "model_module": "@jupyter-widgets/base",
     "model_module_version": "1.2.0",
     "model_name": "LayoutModel",
     "state": {
      "_model_module": "@jupyter-widgets/base",
      "_model_module_version": "1.2.0",
      "_model_name": "LayoutModel",
      "_view_count": null,
      "_view_module": "@jupyter-widgets/base",
      "_view_module_version": "1.2.0",
      "_view_name": "LayoutView",
      "align_content": null,
      "align_items": null,
      "align_self": null,
      "border": null,
      "bottom": null,
      "display": null,
      "flex": null,
      "flex_flow": null,
      "grid_area": null,
      "grid_auto_columns": null,
      "grid_auto_flow": null,
      "grid_auto_rows": null,
      "grid_column": null,
      "grid_gap": null,
      "grid_row": null,
      "grid_template_areas": null,
      "grid_template_columns": null,
      "grid_template_rows": null,
      "height": null,
      "justify_content": null,
      "justify_items": null,
      "left": null,
      "margin": null,
      "max_height": null,
      "max_width": null,
      "min_height": null,
      "min_width": null,
      "object_fit": null,
      "object_position": null,
      "order": null,
      "overflow": null,
      "overflow_x": null,
      "overflow_y": null,
      "padding": null,
      "right": null,
      "top": null,
      "visibility": null,
      "width": null
     }
    },
    "4b5ea7f279854a01aaa4f5043372df2d": {
     "model_module": "@jupyter-widgets/controls",
     "model_module_version": "1.5.0",
     "model_name": "DescriptionStyleModel",
     "state": {
      "_model_module": "@jupyter-widgets/controls",
      "_model_module_version": "1.5.0",
      "_model_name": "DescriptionStyleModel",
      "_view_count": null,
      "_view_module": "@jupyter-widgets/base",
      "_view_module_version": "1.2.0",
      "_view_name": "StyleView",
      "description_width": ""
     }
    },
    "4d964dc7e08d48f0be400d45c09f16e8": {
     "model_module": "@jupyter-widgets/base",
     "model_module_version": "1.2.0",
     "model_name": "LayoutModel",
     "state": {
      "_model_module": "@jupyter-widgets/base",
      "_model_module_version": "1.2.0",
      "_model_name": "LayoutModel",
      "_view_count": null,
      "_view_module": "@jupyter-widgets/base",
      "_view_module_version": "1.2.0",
      "_view_name": "LayoutView",
      "align_content": null,
      "align_items": null,
      "align_self": null,
      "border": null,
      "bottom": null,
      "display": null,
      "flex": null,
      "flex_flow": null,
      "grid_area": null,
      "grid_auto_columns": null,
      "grid_auto_flow": null,
      "grid_auto_rows": null,
      "grid_column": null,
      "grid_gap": null,
      "grid_row": null,
      "grid_template_areas": null,
      "grid_template_columns": null,
      "grid_template_rows": null,
      "height": null,
      "justify_content": null,
      "justify_items": null,
      "left": null,
      "margin": null,
      "max_height": null,
      "max_width": null,
      "min_height": null,
      "min_width": null,
      "object_fit": null,
      "object_position": null,
      "order": null,
      "overflow": null,
      "overflow_x": null,
      "overflow_y": null,
      "padding": null,
      "right": null,
      "top": null,
      "visibility": null,
      "width": null
     }
    },
    "abcbe273e5604d2383a7a1f03e79c682": {
     "model_module": "@jupyter-widgets/controls",
     "model_module_version": "1.5.0",
     "model_name": "VBoxModel",
     "state": {
      "_dom_classes": [],
      "_model_module": "@jupyter-widgets/controls",
      "_model_module_version": "1.5.0",
      "_model_name": "VBoxModel",
      "_view_count": null,
      "_view_module": "@jupyter-widgets/controls",
      "_view_module_version": "1.5.0",
      "_view_name": "VBoxView",
      "box_style": "",
      "children": [
       "IPY_MODEL_08fc0c2dc9b94689b80e085b682e54a5",
       "IPY_MODEL_bb425d8fef6e41f4bc1f1097477d1502"
      ],
      "layout": "IPY_MODEL_378d2507f5d5418681817fdbe4f227fd"
     }
    },
    "bb425d8fef6e41f4bc1f1097477d1502": {
     "model_module": "@jupyter-widgets/controls",
     "model_module_version": "1.5.0",
     "model_name": "FloatProgressModel",
     "state": {
      "_dom_classes": [],
      "_model_module": "@jupyter-widgets/controls",
      "_model_module_version": "1.5.0",
      "_model_name": "FloatProgressModel",
      "_view_count": null,
      "_view_module": "@jupyter-widgets/controls",
      "_view_module_version": "1.5.0",
      "_view_name": "ProgressView",
      "bar_style": "",
      "description": "",
      "description_tooltip": null,
      "layout": "IPY_MODEL_4d964dc7e08d48f0be400d45c09f16e8",
      "max": 1,
      "min": 0,
      "orientation": "horizontal",
      "style": "IPY_MODEL_347e2725b013421a951237d46b26d5e3",
      "value": 1
     }
    }
   }
  }
 },
 "nbformat": 4,
 "nbformat_minor": 4
}
