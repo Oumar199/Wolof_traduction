{
 "cells": [
  {
   "cell_type": "markdown",
   "metadata": {
    "id": "YTsVWwCgLAJl"
   },
   "source": [
    "Fine-tuning best T5 Transformer 🤖\n",
    "-----------------------------------\n",
    "\n",
    "In this notebook, we will continue the fine-tuning of T5 transformer on the new extracted sentences from the book **Grammaire de Wolof Moderne** without considering the definitions. We provide, bellow, the main evaluation figures, obtained from the hyperparameter search step. We will evaluate the training on the validation dataset.\n",
    "\n",
    "- Parallel coordinates from panel:\n",
    "\n",
    "- Parameter importance char: \n",
    "[t5_v3_importance](https://wandb.ai/oumar-kane-team/small-t5-cross-fw-translation-bayes-hpsearch-v3/reports/undefined-23-05-16-10-36-17---Vmlldzo0Mzc4NDY0?accessToken=eyaiyrid0qz1zg2jkq3fc65biw53084dpfitbi0dgonq6mweupw6kgjml9d2nv1w)"
   ]
  },
  {
   "cell_type": "markdown",
   "metadata": {},
   "source": [
    "We can see in the above chart that the batch is the most important parameter with a negative correlation with the BLEU score (meaning that a lower batch size is better). Next, we the probability of modifying a character in the french corpus is also important and a high probability provide a better BLEU score.  "
   ]
  },
  {
   "cell_type": "code",
   "execution_count": 2,
   "metadata": {
    "colab": {
     "base_uri": "https://localhost:8080/"
    },
    "executionInfo": {
     "elapsed": 41798,
     "status": "ok",
     "timestamp": 1683491387892,
     "user": {
      "displayName": "Oumar Kane",
      "userId": "05889582343301699661"
     },
     "user_tz": 0
    },
    "id": "dF37F8_nLAJr",
    "outputId": "7f5f2bed-9b9d-49f9-c8f1-6fe427cf1502"
   },
   "outputs": [
    {
     "name": "stderr",
     "output_type": "stream",
     "text": [
      "Global seed set to 0\n"
     ]
    }
   ],
   "source": [
    "# let us import all necessary libraries\n",
    "from transformers import AutoModelForSeq2SeqLM, Seq2SeqTrainingArguments, Seq2SeqTrainer, T5TokenizerFast, set_seed, AdamW, get_linear_schedule_with_warmup, T5ForConditionalGeneration,\\\n",
    "    get_cosine_schedule_with_warmup, Adafactor\n",
    "from wolof_translate.utils.sent_transformers import TransformerSequences\n",
    "from wolof_translate.utils.improvements.end_marks import add_end_mark # added\n",
    "from torch.nn import TransformerEncoderLayer, TransformerDecoderLayer\n",
    "from torch.utils.data import Dataset, DataLoader, random_split\n",
    "from wolof_translate.data.dataset_v4 import SentenceDataset # v2 -> v3 -> v4\n",
    "from wolof_translate.utils.sent_corrections import *\n",
    "from sklearn.model_selection import train_test_split\n",
    "from torch.optim.lr_scheduler import _LRScheduler\n",
    "# from custom_rnn.utils.kwargs import Kwargs\n",
    "from torch.nn.utils.rnn import pad_sequence\n",
    "from plotly.subplots import make_subplots\n",
    "from nlpaug.augmenter import char as nac\n",
    "from torch.utils.data import DataLoader\n",
    "# from datasets  import load_metric # make pip install evaluate instead\n",
    "# and pip install sacrebleu for instance\n",
    "from torch.nn import functional as F\n",
    "import plotly.graph_objects as go\n",
    "from tokenizers import Tokenizer\n",
    "import matplotlib.pyplot as plt\n",
    "import pytorch_lightning as lt\n",
    "from tqdm import tqdm, trange\n",
    "from functools import partial\n",
    "from torch.nn import utils\n",
    "from copy import deepcopy\n",
    "from torch import optim\n",
    "from typing import *\n",
    "from torch import nn\n",
    "import pandas as pd\n",
    "import numpy as np\n",
    "import itertools\n",
    "import evaluate\n",
    "import random\n",
    "import string\n",
    "import shutil\n",
    "import wandb\n",
    "import torch\n",
    "import json\n",
    "import copy\n",
    "import os\n",
    "\n",
    "# add seed for everything\n",
    "lt.seed_everything(0)\n",
    "\n",
    "os.environ[\"WANDB_DISABLED\"] = \"true\""
   ]
  },
  {
   "cell_type": "markdown",
   "metadata": {
    "id": "19MVywzSLAJt"
   },
   "source": [
    "## French to wolof"
   ]
  },
  {
   "cell_type": "markdown",
   "metadata": {
    "id": "n4tP0YGyLAJt"
   },
   "source": [
    "### Configure dataset 🔠"
   ]
  },
  {
   "cell_type": "code",
   "execution_count": 3,
   "metadata": {
    "executionInfo": {
     "elapsed": 77,
     "status": "ok",
     "timestamp": 1683491387893,
     "user": {
      "displayName": "Oumar Kane",
      "userId": "05889582343301699661"
     },
     "user_tz": 0
    },
    "id": "t2GR0YjYuLc5"
   },
   "outputs": [],
   "source": [
    "# recuperate the tokenizer from a json file\n",
    "tokenizer = T5TokenizerFast(tokenizer_file=f\"wolof-translate/wolof_translate/tokenizers/t5_tokenizers/tokenizer_v3_2.json\")\n"
   ]
  },
  {
   "cell_type": "code",
   "execution_count": 4,
   "metadata": {
    "executionInfo": {
     "elapsed": 77,
     "status": "ok",
     "timestamp": 1683491387894,
     "user": {
      "displayName": "Oumar Kane",
      "userId": "05889582343301699661"
     },
     "user_tz": 0
    },
    "id": "BIjksuH9LAJv"
   },
   "outputs": [],
   "source": [
    "def recuperate_datasets(fr_char_p: float, fr_word_p: float, max_len: int, end_mark_opt: int):\n",
    "\n",
    "  # Let us recuperate the end_mark adding option\n",
    "  if end_mark_opt == 1:\n",
    "    # Create augmentation to add on French sentences\n",
    "    fr_augmentation_1 = TransformerSequences(nac.KeyboardAug(aug_char_p=fr_char_p, aug_word_p=fr_word_p,\n",
    "                                                             aug_word_max = max_len),\n",
    "                                          remove_mark_space, delete_guillemet_space, add_mark_space)\n",
    "\n",
    "    fr_augmentation_2 = TransformerSequences(remove_mark_space, delete_guillemet_space, add_mark_space)\n",
    "    \n",
    "  else:\n",
    "    \n",
    "    if end_mark_opt == 2:\n",
    "\n",
    "      end_mark_fn = partial(add_end_mark, end_mark_to_remove = '!', replace = True)\n",
    "    \n",
    "    elif end_mark_opt == 3:\n",
    "\n",
    "      end_mark_fn = partial(add_end_mark)\n",
    "    \n",
    "    elif end_mark_opt == 4:\n",
    "\n",
    "      end_mark_fn = partial(add_end_mark, end_mark_to_remove = '!')\n",
    "\n",
    "    # Create augmentation to add on French sentences\n",
    "    fr_augmentation_1 = TransformerSequences(nac.KeyboardAug(aug_char_p=fr_char_p, aug_word_p=fr_word_p,\n",
    "                                                             aug_word_max = max_len),\n",
    "                                          remove_mark_space, delete_guillemet_space, add_mark_space, end_mark_fn)\n",
    "    \n",
    "    fr_augmentation_2 = TransformerSequences(remove_mark_space, delete_guillemet_space, add_mark_space, end_mark_fn)\n",
    "    \n",
    "  # Recuperate the train dataset\n",
    "  train_dataset_aug = SentenceDataset(f\"data/extractions/new_data/train_set.csv\",\n",
    "                                        tokenizer,\n",
    "                                        truncation = True, max_len=max_len,\n",
    "                                        cp1_transformer = fr_augmentation_1,\n",
    "                                        cp2_transformer = fr_augmentation_2\n",
    "                                        )\n",
    "\n",
    "  # Recuperate the valid dataset\n",
    "  valid_dataset = SentenceDataset(f\"data/extractions/new_data/valid_set.csv\",\n",
    "                                        tokenizer, max_len=max_len,\n",
    "                                        cp1_transformer = fr_augmentation_2,\n",
    "                                        cp2_transformer = fr_augmentation_2,\n",
    "                                        truncation = True)\n",
    "  \n",
    "  # Return the datasets\n",
    "  return train_dataset_aug, valid_dataset"
   ]
  },
  {
   "cell_type": "markdown",
   "metadata": {
    "id": "0vhzP3IaLAJv"
   },
   "source": [
    "### Configure the model and the evaluation function ⚙️"
   ]
  },
  {
   "cell_type": "markdown",
   "metadata": {
    "id": "R8I3tm4WLAJx"
   },
   "source": [
    "Let us evaluate the predictions with the `bleu` metric."
   ]
  },
  {
   "cell_type": "markdown",
   "metadata": {
    "id": "IuppKYiyLAJx"
   },
   "source": [
    "Let us initialize the evaluation object."
   ]
  },
  {
   "cell_type": "code",
   "execution_count": 5,
   "metadata": {
    "executionInfo": {
     "elapsed": 74,
     "status": "ok",
     "timestamp": 1683491387896,
     "user": {
      "displayName": "Oumar Kane",
      "userId": "05889582343301699661"
     },
     "user_tz": 0
    },
    "id": "a7Bpd4UPLAJy"
   },
   "outputs": [
    {
     "data": {
      "application/vnd.jupyter.widget-view+json": {
       "model_id": "34a3347d93704803afa6d73d7a582bcd",
       "version_major": 2,
       "version_minor": 0
      },
      "text/plain": [
       "Downloading builder script:   0%|          | 0.00/8.15k [00:00<?, ?B/s]"
      ]
     },
     "metadata": {},
     "output_type": "display_data"
    }
   ],
   "source": [
    "%run wolof-translate/wolof_translate/utils/evaluation.py\n",
    "evaluation = TranslationEvaluation(tokenizer)\n"
   ]
  },
  {
   "cell_type": "markdown",
   "metadata": {
    "id": "xT17hB19LAJy"
   },
   "source": [
    "### Searching for the best parameters 🕖"
   ]
  },
  {
   "cell_type": "code",
   "execution_count": 6,
   "metadata": {},
   "outputs": [],
   "source": [
    "from wolof_translate.models.transformers.optimization import TransformerScheduler\n",
    "from wolof_translate.trainers.transformer_trainer import ModelRunner\n",
    "from wolof_translate.utils.evaluation import TranslationEvaluation\n",
    "from wolof_translate.models.transformers.main import Transformer\n",
    "from wolof_translate.utils.split_with_valid import split_data\n"
   ]
  },
  {
   "cell_type": "markdown",
   "metadata": {},
   "source": [
    "-------------"
   ]
  },
  {
   "cell_type": "code",
   "execution_count": null,
   "metadata": {},
   "outputs": [],
   "source": []
  },
  {
   "cell_type": "markdown",
   "metadata": {},
   "source": [
    "### --- Wandb v5 3000"
   ]
  },
  {
   "cell_type": "code",
   "execution_count": 8,
   "metadata": {},
   "outputs": [
    {
     "data": {
      "text/plain": [
       "421"
      ]
     },
     "execution_count": 8,
     "metadata": {},
     "output_type": "execute_result"
    }
   ],
   "source": [
    "842//2"
   ]
  },
  {
   "cell_type": "code",
   "execution_count": 7,
   "metadata": {
    "collapsed": true,
    "jupyter": {
     "outputs_hidden": true
    }
   },
   "outputs": [
    {
     "data": {
      "application/vnd.jupyter.widget-view+json": {
       "model_id": "b93ef947a49e4deeb1afc6db8787482d",
       "version_major": 2,
       "version_minor": 0
      },
      "text/plain": [
       "Downloading (…)lve/main/config.json:   0%|          | 0.00/1.21k [00:00<?, ?B/s]"
      ]
     },
     "metadata": {},
     "output_type": "display_data"
    },
    {
     "data": {
      "application/vnd.jupyter.widget-view+json": {
       "model_id": "32c7edafdc294f619036e4b6b333f345",
       "version_major": 2,
       "version_minor": 0
      },
      "text/plain": [
       "Downloading model.safetensors:   0%|          | 0.00/242M [00:00<?, ?B/s]"
      ]
     },
     "metadata": {},
     "output_type": "display_data"
    },
    {
     "data": {
      "application/vnd.jupyter.widget-view+json": {
       "model_id": "9b0eba6d973d4f5583c31f252b97f813",
       "version_major": 2,
       "version_minor": 0
      },
      "text/plain": [
       "Downloading (…)neration_config.json:   0%|          | 0.00/147 [00:00<?, ?B/s]"
      ]
     },
     "metadata": {},
     "output_type": "display_data"
    },
    {
     "ename": "OSError",
     "evalue": "Le fichier fw_t5_small_custom_train_v5_checkpoints/best_checkpoints.pth est introuvable. Vérifiez si le chemin fourni est correct!",
     "output_type": "error",
     "traceback": [
      "\u001b[0;31m---------------------------------------------------------------------------\u001b[0m",
      "\u001b[0;31mOSError\u001b[0m                                   Traceback (most recent call last)",
      "Cell \u001b[0;32mIn[7], line 78\u001b[0m\n\u001b[1;32m     68\u001b[0m trainer\u001b[38;5;241m.\u001b[39mcompile(train_dataset, test_dataset, tokenizer, train_loader_args,\n\u001b[1;32m     69\u001b[0m                 optimizer_kwargs \u001b[38;5;241m=\u001b[39m optimizer_args,\n\u001b[1;32m     70\u001b[0m                 lr_scheduler\u001b[38;5;241m=\u001b[39mget_linear_schedule_with_warmup,\n\u001b[0;32m   (...)\u001b[0m\n\u001b[1;32m     74\u001b[0m                 logging_dir\u001b[38;5;241m=\u001b[39m\u001b[38;5;124m\"\u001b[39m\u001b[38;5;124mdata/logs/t5_small_custom_train_fw\u001b[39m\u001b[38;5;124m\"\u001b[39m\n\u001b[1;32m     75\u001b[0m                 )\n\u001b[1;32m     77\u001b[0m \u001b[38;5;66;03m# We will from checkpoints so let us the model\u001b[39;00m\n\u001b[0;32m---> 78\u001b[0m \u001b[43mtrainer\u001b[49m\u001b[38;5;241;43m.\u001b[39;49m\u001b[43mload\u001b[49m\u001b[43m(\u001b[49m\u001b[43mconfig\u001b[49m\u001b[43m[\u001b[49m\u001b[38;5;124;43m'\u001b[39;49m\u001b[38;5;124;43mmodel_dir\u001b[39;49m\u001b[38;5;124;43m'\u001b[39;49m\u001b[43m]\u001b[49m\u001b[43m,\u001b[49m\u001b[43m \u001b[49m\u001b[43mload_best\u001b[49m\u001b[38;5;241;43m=\u001b[39;49m\u001b[38;5;28;43;01mTrue\u001b[39;49;00m\u001b[43m)\u001b[49m \u001b[38;5;66;03m# Only for the first loading\u001b[39;00m\n\u001b[1;32m     79\u001b[0m \u001b[38;5;66;03m# trainer.load(config['new_model_dir'], load_best = True)\u001b[39;00m\n",
      "File \u001b[0;32m~/SageMaker/.Trash-1000/files/Wolof_traduction/wolof-translate/wolof_translate/trainers/transformer_trainer.py:568\u001b[0m, in \u001b[0;36mModelRunner.load\u001b[0;34m(self, directory, file_name, load_best)\u001b[0m\n\u001b[1;32m    564\u001b[0m         \u001b[38;5;28mself\u001b[39m\u001b[38;5;241m.\u001b[39mlr_scheduling\u001b[38;5;241m.\u001b[39mload_state_dict(checkpoints[\u001b[38;5;124m\"\u001b[39m\u001b[38;5;124mlr_scheduler_state_dict\u001b[39m\u001b[38;5;124m\"\u001b[39m])\n\u001b[1;32m    566\u001b[0m \u001b[38;5;28;01melse\u001b[39;00m:\n\u001b[0;32m--> 568\u001b[0m     \u001b[38;5;28;01mraise\u001b[39;00m \u001b[38;5;167;01mOSError\u001b[39;00m(\n\u001b[1;32m    569\u001b[0m         \u001b[38;5;124mf\u001b[39m\u001b[38;5;124m\"\u001b[39m\u001b[38;5;124mLe fichier \u001b[39m\u001b[38;5;132;01m{\u001b[39;00mfile_path\u001b[38;5;132;01m}\u001b[39;00m\u001b[38;5;124m est introuvable. Vérifiez si le chemin fourni est correct!\u001b[39m\u001b[38;5;124m\"\u001b[39m\n\u001b[1;32m    570\u001b[0m     )\n",
      "\u001b[0;31mOSError\u001b[0m: Le fichier fw_t5_small_custom_train_v5_checkpoints/best_checkpoints.pth est introuvable. Vérifiez si le chemin fourni est correct!"
     ]
    }
   ],
   "source": [
    "# let us initialize the hyperparameter configuration \n",
    "config = {\n",
    "    'random_state': 0,\n",
    "    'fr_char_p': 0.6723569050184816,\n",
    "    'fr_word_p': 0.08544139434972758,\n",
    "    'learning_rate': 0.00263707394928414,\n",
    "    'weight_decay': 0.01,\n",
    "    'batch_size': 16,\n",
    "    'warmup_ratio': 0.0,\n",
    "    'max_epoch': 842,\n",
    "    'epochs': 200,\n",
    "    'mid_epoch': 421,\n",
    "    'max_len': 56,\n",
    "    'end_mark': 4,\n",
    "    'bleu': 3.8295,\n",
    "    'model_dir': 'data/checkpoints/fw_t5_small_custom_train_v5_checkpoints/',\n",
    "    'new_model_dir': 'data/checkpoints/t5_small_custom_train_results_fw_v5/'\n",
    "}\n",
    "\n",
    "# Initialize the model name\n",
    "model_name = 't5-small'\n",
    "\n",
    "# import the model with its pre-trained weights\n",
    "model = T5ForConditionalGeneration.from_pretrained(model_name)\n",
    "\n",
    "# resize the token embeddings\n",
    "model.resize_token_embeddings(len(tokenizer))\n",
    "\n",
    "# let us initialize the evaluation class\n",
    "evaluation = TranslationEvaluation(tokenizer)\n",
    "\n",
    "# let us initialize the trainer\n",
    "trainer = ModelRunner(model, seed = 0, version = 5, evaluation = evaluation, optimizer=Adafactor)\n",
    "\n",
    "# split the data\n",
    "split_data(config['random_state'], csv_file = \"ad_sentences.csv\")\n",
    "\n",
    "# recuperate train and test set\n",
    "train_dataset, test_dataset = recuperate_datasets(config['fr_char_p'], \n",
    "                                                    config['fr_word_p'], config['max_len'],\n",
    "                                                    config['end_mark'])\n",
    "\n",
    "# let us calculate the appropriate warmup steps (let us take a max epoch of 100)\n",
    "length = len(train_dataset)\n",
    "\n",
    "n_steps = length // config['batch_size']\n",
    "\n",
    "num_steps = config['max_epoch'] * n_steps\n",
    "\n",
    "warmup_steps = (config['max_epoch'] * n_steps) * config['warmup_ratio']\n",
    "\n",
    "# # Initialize the scheduler parameters\n",
    "scheduler_args = {'num_warmup_steps': warmup_steps, 'num_training_steps': num_steps}\n",
    "\n",
    "# Initialize the optimizer parameters\n",
    "optimizer_args = {\n",
    "    'lr': config['learning_rate'],\n",
    "    'weight_decay': config['weight_decay'],\n",
    "    # 'betas': (0.9, 0.98),\n",
    "    'relative_step': False\n",
    "}\n",
    "\n",
    "# Initialize the loaders parameters\n",
    "train_loader_args = {'batch_size': config['batch_size']}\n",
    "\n",
    "# Add the datasets and hyperparameters to trainer\n",
    "trainer.compile(train_dataset, test_dataset, tokenizer, train_loader_args,\n",
    "                optimizer_kwargs = optimizer_args,\n",
    "                lr_scheduler=get_linear_schedule_with_warmup,\n",
    "                lr_scheduler_kwargs=scheduler_args, \n",
    "                predict_with_generate = True,\n",
    "                hugging_face = True,\n",
    "                logging_dir=\"data/logs/t5_small_custom_train_fw\"\n",
    "                )\n",
    "\n",
    "# We will from checkpoints so let us the model\n",
    "trainer.load(config['model_dir'], load_best=True) # Only for the first loading\n",
    "# trainer.load(config['new_model_dir'], load_best = True)\n",
    "\n",
    "        "
   ]
  },
  {
   "cell_type": "code",
   "execution_count": null,
   "metadata": {},
   "outputs": [],
   "source": []
  },
  {
   "cell_type": "markdown",
   "metadata": {},
   "source": [
    "### ---"
   ]
  },
  {
   "cell_type": "code",
   "execution_count": 10,
   "metadata": {
    "collapsed": true,
    "jupyter": {
     "outputs_hidden": true
    }
   },
   "outputs": [
    {
     "name": "stderr",
     "output_type": "stream",
     "text": [
      "  0%|          | 0/195 [00:00<?, ?it/s]c:\\Users\\Oumar Kane\\AppData\\Local\\pypoetry\\Cache\\virtualenvs\\pytorch1-HleOW5am-py3.10\\lib\\site-packages\\torch\\optim\\lr_scheduler.py:257: UserWarning: To get the last learning rate computed by the scheduler, please use `get_last_lr()`.\n",
      "  warnings.warn(\"To get the last learning rate computed by the scheduler, \"\n"
     ]
    },
    {
     "name": "stdout",
     "output_type": "stream",
     "text": [
      "For epoch 6: \n",
      "{Learning rate: [0.0026213092673829214]}\n"
     ]
    },
    {
     "name": "stderr",
     "output_type": "stream",
     "text": [
      "Train batch number 150: 100%|██████████| 150/150 [00:41<00:00,  3.57batches/s]\n",
      "Test batch number 19: 100%|██████████| 19/19 [00:21<00:00,  1.11s/batches]\n"
     ]
    },
    {
     "name": "stdout",
     "output_type": "stream",
     "text": [
      "\n",
      "Metrics: {'train_loss': 0.5447575534383456, 'test_loss': 0.7493734171516017, 'bleu': 3.0033, 'gen_len': 11.1367}\n",
      "\n",
      "=============================\n",
      "\n"
     ]
    },
    {
     "name": "stderr",
     "output_type": "stream",
     "text": [
      "  1%|          | 1/195 [01:08<3:41:55, 68.64s/it]"
     ]
    },
    {
     "name": "stdout",
     "output_type": "stream",
     "text": [
      "For epoch 7: \n",
      "{Learning rate: [0.002618156331002678]}\n"
     ]
    },
    {
     "name": "stderr",
     "output_type": "stream",
     "text": [
      "Train batch number 150: 100%|██████████| 150/150 [00:39<00:00,  3.78batches/s]\n",
      "Test batch number 19: 100%|██████████| 19/19 [00:24<00:00,  1.27s/batches]\n"
     ]
    },
    {
     "name": "stdout",
     "output_type": "stream",
     "text": [
      "\n",
      "Metrics: {'train_loss': 0.4815692874789238, 'test_loss': 0.7585576960915014, 'bleu': 5.0744, 'gen_len': 12.0533}\n",
      "\n",
      "=============================\n",
      "\n"
     ]
    },
    {
     "name": "stderr",
     "output_type": "stream",
     "text": [
      "  1%|          | 2/195 [02:17<3:41:38, 68.90s/it]"
     ]
    },
    {
     "name": "stdout",
     "output_type": "stream",
     "text": [
      "For epoch 8: \n",
      "{Learning rate: [0.002615003394622434]}\n"
     ]
    },
    {
     "name": "stderr",
     "output_type": "stream",
     "text": [
      "Train batch number 150: 100%|██████████| 150/150 [00:43<00:00,  3.46batches/s]\n",
      "Test batch number 19: 100%|██████████| 19/19 [00:24<00:00,  1.30s/batches]\n"
     ]
    },
    {
     "name": "stdout",
     "output_type": "stream",
     "text": [
      "\n",
      "Metrics: {'train_loss': 0.42077246437470117, 'test_loss': 0.7780370147604692, 'bleu': 5.1758, 'gen_len': 11.8867}\n",
      "\n",
      "=============================\n",
      "\n"
     ]
    },
    {
     "name": "stderr",
     "output_type": "stream",
     "text": [
      "  2%|▏         | 3/195 [03:31<3:47:16, 71.02s/it]"
     ]
    },
    {
     "name": "stdout",
     "output_type": "stream",
     "text": [
      "For epoch 9: \n",
      "{Learning rate: [0.0026118504582421905]}\n"
     ]
    },
    {
     "name": "stderr",
     "output_type": "stream",
     "text": [
      "Train batch number 150: 100%|██████████| 150/150 [00:44<00:00,  3.40batches/s]\n",
      "Test batch number 19: 100%|██████████| 19/19 [00:25<00:00,  1.32s/batches]\n"
     ]
    },
    {
     "name": "stdout",
     "output_type": "stream",
     "text": [
      "\n",
      "Metrics: {'train_loss': 0.36195707082748413, 'test_loss': 0.8036631659457558, 'bleu': 6.2242, 'gen_len': 11.1667}\n",
      "\n",
      "=============================\n",
      "\n"
     ]
    },
    {
     "name": "stderr",
     "output_type": "stream",
     "text": [
      "  2%|▏         | 4/195 [04:46<3:51:04, 72.59s/it]"
     ]
    },
    {
     "name": "stdout",
     "output_type": "stream",
     "text": [
      "For epoch 10: \n",
      "{Learning rate: [0.0026086975218619466]}\n"
     ]
    },
    {
     "name": "stderr",
     "output_type": "stream",
     "text": [
      "Train batch number 150: 100%|██████████| 150/150 [00:45<00:00,  3.27batches/s]\n",
      "Test batch number 19: 100%|██████████| 19/19 [00:26<00:00,  1.41s/batches]\n"
     ]
    },
    {
     "name": "stdout",
     "output_type": "stream",
     "text": [
      "\n",
      "Metrics: {'train_loss': 0.30927860289812087, 'test_loss': 0.8280793506848184, 'bleu': 6.4576, 'gen_len': 11.75}\n",
      "\n",
      "=============================\n",
      "\n"
     ]
    },
    {
     "name": "stderr",
     "output_type": "stream",
     "text": [
      "  3%|▎         | 5/195 [06:04<3:56:08, 74.57s/it]"
     ]
    },
    {
     "name": "stdout",
     "output_type": "stream",
     "text": [
      "For epoch 11: \n",
      "{Learning rate: [0.0026055445854817026]}\n"
     ]
    },
    {
     "name": "stderr",
     "output_type": "stream",
     "text": [
      "Train batch number 150: 100%|██████████| 150/150 [00:40<00:00,  3.66batches/s]\n",
      "Test batch number 19: 100%|██████████| 19/19 [00:22<00:00,  1.16s/batches]\n"
     ]
    },
    {
     "name": "stdout",
     "output_type": "stream",
     "text": [
      "\n",
      "Metrics: {'train_loss': 0.2597498541076978, 'test_loss': 0.8561981947798478, 'bleu': 5.8277, 'gen_len': 12.52}\n",
      "\n",
      "=============================\n",
      "\n"
     ]
    },
    {
     "name": "stderr",
     "output_type": "stream",
     "text": [
      "  3%|▎         | 6/195 [07:10<3:46:07, 71.78s/it]"
     ]
    },
    {
     "name": "stdout",
     "output_type": "stream",
     "text": [
      "For epoch 12: \n",
      "{Learning rate: [0.002602391649101459]}\n"
     ]
    },
    {
     "name": "stderr",
     "output_type": "stream",
     "text": [
      "Train batch number 150: 100%|██████████| 150/150 [00:41<00:00,  3.61batches/s]\n",
      "Test batch number 19: 100%|██████████| 19/19 [00:22<00:00,  1.16s/batches]\n"
     ]
    },
    {
     "name": "stdout",
     "output_type": "stream",
     "text": [
      "\n",
      "Metrics: {'train_loss': 0.21816901380817094, 'test_loss': 0.898323510822497, 'bleu': 8.5906, 'gen_len': 10.69}\n",
      "\n",
      "=============================\n",
      "\n"
     ]
    },
    {
     "name": "stderr",
     "output_type": "stream",
     "text": [
      "  4%|▎         | 7/195 [08:19<3:42:10, 70.91s/it]"
     ]
    },
    {
     "name": "stdout",
     "output_type": "stream",
     "text": [
      "For epoch 13: \n",
      "{Learning rate: [0.002599238712721215]}\n"
     ]
    },
    {
     "name": "stderr",
     "output_type": "stream",
     "text": [
      "Train batch number 150: 100%|██████████| 150/150 [00:41<00:00,  3.58batches/s]\n",
      "Test batch number 19: 100%|██████████| 19/19 [00:21<00:00,  1.15s/batches]\n"
     ]
    },
    {
     "name": "stdout",
     "output_type": "stream",
     "text": [
      "\n",
      "Metrics: {'train_loss': 0.18033994113405546, 'test_loss': 0.9133500645035192, 'bleu': 9.5726, 'gen_len': 11.3}\n",
      "\n",
      "=============================\n",
      "\n"
     ]
    },
    {
     "name": "stderr",
     "output_type": "stream",
     "text": [
      "  4%|▍         | 8/195 [09:28<3:39:03, 70.29s/it]"
     ]
    },
    {
     "name": "stdout",
     "output_type": "stream",
     "text": [
      "For epoch 14: \n",
      "{Learning rate: [0.0025960857763409713]}\n"
     ]
    },
    {
     "name": "stderr",
     "output_type": "stream",
     "text": [
      "Train batch number 150: 100%|██████████| 150/150 [00:42<00:00,  3.54batches/s]\n",
      "Test batch number 19: 100%|██████████| 19/19 [00:26<00:00,  1.38s/batches]\n"
     ]
    },
    {
     "name": "stdout",
     "output_type": "stream",
     "text": [
      "\n",
      "Metrics: {'train_loss': 0.15382676020264627, 'test_loss': 0.9362388284582841, 'bleu': 8.2059, 'gen_len': 12.3367}\n",
      "\n",
      "=============================\n",
      "\n"
     ]
    },
    {
     "name": "stderr",
     "output_type": "stream",
     "text": [
      "  5%|▍         | 9/195 [10:40<3:39:41, 70.87s/it]"
     ]
    },
    {
     "name": "stdout",
     "output_type": "stream",
     "text": [
      "For epoch 15: \n",
      "{Learning rate: [0.0025929328399607278]}\n"
     ]
    },
    {
     "name": "stderr",
     "output_type": "stream",
     "text": [
      "Train batch number 150: 100%|██████████| 150/150 [00:42<00:00,  3.55batches/s]\n",
      "Test batch number 19: 100%|██████████| 19/19 [00:23<00:00,  1.25s/batches]\n"
     ]
    },
    {
     "name": "stdout",
     "output_type": "stream",
     "text": [
      "\n",
      "Metrics: {'train_loss': 0.13023789760967094, 'test_loss': 0.9548515489226893, 'bleu': 8.4737, 'gen_len': 11.9467}\n",
      "\n",
      "=============================\n",
      "\n"
     ]
    },
    {
     "name": "stderr",
     "output_type": "stream",
     "text": [
      "  5%|▌         | 10/195 [11:50<3:37:26, 70.52s/it]"
     ]
    },
    {
     "name": "stdout",
     "output_type": "stream",
     "text": [
      "For epoch 16: \n",
      "{Learning rate: [0.002589779903580484]}\n"
     ]
    },
    {
     "name": "stderr",
     "output_type": "stream",
     "text": [
      "Train batch number 150: 100%|██████████| 150/150 [00:42<00:00,  3.55batches/s]\n",
      "Test batch number 19: 100%|██████████| 19/19 [00:22<00:00,  1.17s/batches]\n"
     ]
    },
    {
     "name": "stdout",
     "output_type": "stream",
     "text": [
      "\n",
      "Metrics: {'train_loss': 0.11096373024086158, 'test_loss': 0.9827378360848678, 'bleu': 9.8223, 'gen_len': 11.8333}\n",
      "\n",
      "=============================\n",
      "\n"
     ]
    },
    {
     "name": "stderr",
     "output_type": "stream",
     "text": [
      "  6%|▌         | 11/195 [13:00<3:35:51, 70.39s/it]"
     ]
    },
    {
     "name": "stdout",
     "output_type": "stream",
     "text": [
      "For epoch 17: \n",
      "{Learning rate: [0.00258662696720024]}\n"
     ]
    },
    {
     "name": "stderr",
     "output_type": "stream",
     "text": [
      "Train batch number 150: 100%|██████████| 150/150 [00:40<00:00,  3.74batches/s]\n",
      "Test batch number 19: 100%|██████████| 19/19 [00:20<00:00,  1.07s/batches]\n"
     ]
    },
    {
     "name": "stdout",
     "output_type": "stream",
     "text": [
      "\n",
      "Metrics: {'train_loss': 0.09659192368388175, 'test_loss': 1.014204269961307, 'bleu': 10.1255, 'gen_len': 10.8733}\n",
      "\n",
      "=============================\n",
      "\n"
     ]
    },
    {
     "name": "stderr",
     "output_type": "stream",
     "text": [
      "  6%|▌         | 12/195 [14:06<3:30:47, 69.11s/it]"
     ]
    },
    {
     "name": "stdout",
     "output_type": "stream",
     "text": [
      "For epoch 18: \n",
      "{Learning rate: [0.0025834740308199964]}\n"
     ]
    },
    {
     "name": "stderr",
     "output_type": "stream",
     "text": [
      "Train batch number 150: 100%|██████████| 150/150 [00:40<00:00,  3.68batches/s]\n",
      "Test batch number 19: 100%|██████████| 19/19 [00:20<00:00,  1.08s/batches]\n"
     ]
    },
    {
     "name": "stdout",
     "output_type": "stream",
     "text": [
      "\n",
      "Metrics: {'train_loss': 0.08686550460755825, 'test_loss': 1.0065760361520868, 'bleu': 10.0043, 'gen_len': 11.2667}\n",
      "\n",
      "=============================\n",
      "\n"
     ]
    },
    {
     "name": "stderr",
     "output_type": "stream",
     "text": [
      "  7%|▋         | 13/195 [15:11<3:25:43, 67.82s/it]"
     ]
    },
    {
     "name": "stdout",
     "output_type": "stream",
     "text": [
      "For epoch 19: \n",
      "{Learning rate: [0.0025803210944397525]}\n"
     ]
    },
    {
     "name": "stderr",
     "output_type": "stream",
     "text": [
      "Train batch number 150: 100%|██████████| 150/150 [00:40<00:00,  3.73batches/s]\n",
      "Test batch number 19: 100%|██████████| 19/19 [00:20<00:00,  1.08s/batches]\n"
     ]
    },
    {
     "name": "stdout",
     "output_type": "stream",
     "text": [
      "\n",
      "Metrics: {'train_loss': 0.0741440162807703, 'test_loss': 1.0255332746003802, 'bleu': 10.0274, 'gen_len': 10.8833}\n",
      "\n",
      "=============================\n",
      "\n"
     ]
    },
    {
     "name": "stderr",
     "output_type": "stream",
     "text": [
      "  7%|▋         | 14/195 [16:16<3:21:22, 66.75s/it]"
     ]
    },
    {
     "name": "stdout",
     "output_type": "stream",
     "text": [
      "For epoch 20: \n",
      "{Learning rate: [0.0025771681580595085]}\n"
     ]
    },
    {
     "name": "stderr",
     "output_type": "stream",
     "text": [
      "Train batch number 150: 100%|██████████| 150/150 [00:40<00:00,  3.74batches/s]\n",
      "Test batch number 19: 100%|██████████| 19/19 [00:20<00:00,  1.09s/batches]\n"
     ]
    },
    {
     "name": "stdout",
     "output_type": "stream",
     "text": [
      "\n",
      "Metrics: {'train_loss': 0.06811917595565319, 'test_loss': 1.0436439733756215, 'bleu': 9.7561, 'gen_len': 10.9233}\n",
      "\n",
      "=============================\n",
      "\n"
     ]
    },
    {
     "name": "stderr",
     "output_type": "stream",
     "text": [
      "  8%|▊         | 15/195 [17:20<3:18:12, 66.07s/it]"
     ]
    },
    {
     "name": "stdout",
     "output_type": "stream",
     "text": [
      "For epoch 21: \n",
      "{Learning rate: [0.002574015221679265]}\n"
     ]
    },
    {
     "name": "stderr",
     "output_type": "stream",
     "text": [
      "Train batch number 150: 100%|██████████| 150/150 [00:39<00:00,  3.76batches/s]\n",
      "Test batch number 19: 100%|██████████| 19/19 [00:20<00:00,  1.07s/batches]\n"
     ]
    },
    {
     "name": "stdout",
     "output_type": "stream",
     "text": [
      "\n",
      "Metrics: {'train_loss': 0.06377433862537146, 'test_loss': 1.0493260653395402, 'bleu': 10.216, 'gen_len': 11.33}\n",
      "\n",
      "=============================\n",
      "\n"
     ]
    },
    {
     "name": "stderr",
     "output_type": "stream",
     "text": [
      "  8%|▊         | 16/195 [18:25<3:16:28, 65.86s/it]"
     ]
    },
    {
     "name": "stdout",
     "output_type": "stream",
     "text": [
      "For epoch 22: \n",
      "{Learning rate: [0.002570862285299021]}\n"
     ]
    },
    {
     "name": "stderr",
     "output_type": "stream",
     "text": [
      "Train batch number 150: 100%|██████████| 150/150 [00:40<00:00,  3.72batches/s]\n",
      "Test batch number 19: 100%|██████████| 19/19 [00:20<00:00,  1.08s/batches]\n"
     ]
    },
    {
     "name": "stdout",
     "output_type": "stream",
     "text": [
      "\n",
      "Metrics: {'train_loss': 0.056567230770985286, 'test_loss': 1.0574740108690763, 'bleu': 9.4559, 'gen_len': 11.97}\n",
      "\n",
      "=============================\n",
      "\n"
     ]
    },
    {
     "name": "stderr",
     "output_type": "stream",
     "text": [
      "  9%|▊         | 17/195 [19:30<3:13:56, 65.37s/it]"
     ]
    },
    {
     "name": "stdout",
     "output_type": "stream",
     "text": [
      "For epoch 23: \n",
      "{Learning rate: [0.0025677093489187776]}\n"
     ]
    },
    {
     "name": "stderr",
     "output_type": "stream",
     "text": [
      "Train batch number 150: 100%|██████████| 150/150 [00:40<00:00,  3.70batches/s]\n",
      "Test batch number 19: 100%|██████████| 19/19 [00:20<00:00,  1.08s/batches]\n"
     ]
    },
    {
     "name": "stdout",
     "output_type": "stream",
     "text": [
      "\n",
      "Metrics: {'train_loss': 0.053099090283115706, 'test_loss': 1.0672213090093512, 'bleu': 11.2583, 'gen_len': 11.1667}\n",
      "\n",
      "=============================\n",
      "\n"
     ]
    },
    {
     "name": "stderr",
     "output_type": "stream",
     "text": [
      "  9%|▉         | 18/195 [20:36<3:13:41, 65.66s/it]"
     ]
    },
    {
     "name": "stdout",
     "output_type": "stream",
     "text": [
      "For epoch 24: \n",
      "{Learning rate: [0.0025645564125385337]}\n"
     ]
    },
    {
     "name": "stderr",
     "output_type": "stream",
     "text": [
      "Train batch number 150: 100%|██████████| 150/150 [00:40<00:00,  3.71batches/s]\n",
      "Test batch number 19: 100%|██████████| 19/19 [00:20<00:00,  1.09s/batches]\n"
     ]
    },
    {
     "name": "stdout",
     "output_type": "stream",
     "text": [
      "\n",
      "Metrics: {'train_loss': 0.04786259071280559, 'test_loss': 1.062326381081029, 'bleu': 9.7322, 'gen_len': 10.7333}\n",
      "\n",
      "=============================\n",
      "\n"
     ]
    },
    {
     "name": "stderr",
     "output_type": "stream",
     "text": [
      " 10%|▉         | 19/195 [21:41<3:11:39, 65.34s/it]"
     ]
    },
    {
     "name": "stdout",
     "output_type": "stream",
     "text": [
      "For epoch 25: \n",
      "{Learning rate: [0.00256140347615829]}\n"
     ]
    },
    {
     "name": "stderr",
     "output_type": "stream",
     "text": [
      "Train batch number 150: 100%|██████████| 150/150 [00:39<00:00,  3.75batches/s]\n",
      "Test batch number 19: 100%|██████████| 19/19 [00:20<00:00,  1.07s/batches]\n"
     ]
    },
    {
     "name": "stdout",
     "output_type": "stream",
     "text": [
      "\n",
      "Metrics: {'train_loss': 0.04600157450263699, 'test_loss': 1.0812917571318776, 'bleu': 10.1402, 'gen_len': 10.97}\n",
      "\n",
      "=============================\n",
      "\n"
     ]
    },
    {
     "name": "stderr",
     "output_type": "stream",
     "text": [
      " 10%|█         | 20/195 [22:44<3:09:17, 64.90s/it]"
     ]
    },
    {
     "name": "stdout",
     "output_type": "stream",
     "text": [
      "For epoch 26: \n",
      "{Learning rate: [0.0025582505397780462]}\n"
     ]
    },
    {
     "name": "stderr",
     "output_type": "stream",
     "text": [
      "Train batch number 150: 100%|██████████| 150/150 [00:41<00:00,  3.65batches/s]\n",
      "Test batch number 19: 100%|██████████| 19/19 [00:20<00:00,  1.07s/batches]\n"
     ]
    },
    {
     "name": "stdout",
     "output_type": "stream",
     "text": [
      "\n",
      "Metrics: {'train_loss': 0.04169807371372978, 'test_loss': 1.092279409107409, 'bleu': 11.0895, 'gen_len': 10.3967}\n",
      "\n",
      "=============================\n",
      "\n"
     ]
    },
    {
     "name": "stderr",
     "output_type": "stream",
     "text": [
      " 11%|█         | 21/195 [23:49<3:08:11, 64.90s/it]"
     ]
    },
    {
     "name": "stdout",
     "output_type": "stream",
     "text": [
      "For epoch 27: \n",
      "{Learning rate: [0.0025550976033978027]}\n"
     ]
    },
    {
     "name": "stderr",
     "output_type": "stream",
     "text": [
      "Train batch number 150: 100%|██████████| 150/150 [00:40<00:00,  3.73batches/s]\n",
      "Test batch number 19: 100%|██████████| 19/19 [00:20<00:00,  1.07s/batches]\n"
     ]
    },
    {
     "name": "stdout",
     "output_type": "stream",
     "text": [
      "\n",
      "Metrics: {'train_loss': 0.03989274710416794, 'test_loss': 1.087600915055526, 'bleu': 10.404, 'gen_len': 10.7133}\n",
      "\n",
      "=============================\n",
      "\n"
     ]
    },
    {
     "name": "stderr",
     "output_type": "stream",
     "text": [
      " 11%|█▏        | 22/195 [24:53<3:06:15, 64.60s/it]"
     ]
    },
    {
     "name": "stdout",
     "output_type": "stream",
     "text": [
      "For epoch 28: \n",
      "{Learning rate: [0.002551944667017559]}\n"
     ]
    },
    {
     "name": "stderr",
     "output_type": "stream",
     "text": [
      "Train batch number 150: 100%|██████████| 150/150 [00:40<00:00,  3.73batches/s]\n",
      "Test batch number 19: 100%|██████████| 19/19 [00:20<00:00,  1.06s/batches]\n"
     ]
    },
    {
     "name": "stdout",
     "output_type": "stream",
     "text": [
      "\n",
      "Metrics: {'train_loss': 0.03723615782335401, 'test_loss': 1.0948661471668042, 'bleu': 9.9089, 'gen_len': 11.09}\n",
      "\n",
      "=============================\n",
      "\n"
     ]
    },
    {
     "name": "stderr",
     "output_type": "stream",
     "text": [
      " 12%|█▏        | 23/195 [25:57<3:04:39, 64.41s/it]"
     ]
    },
    {
     "name": "stdout",
     "output_type": "stream",
     "text": [
      "For epoch 29: \n",
      "{Learning rate: [0.002548791730637315]}\n"
     ]
    },
    {
     "name": "stderr",
     "output_type": "stream",
     "text": [
      "Train batch number 150: 100%|██████████| 150/150 [00:40<00:00,  3.73batches/s]\n",
      "Test batch number 19: 100%|██████████| 19/19 [00:20<00:00,  1.07s/batches]\n"
     ]
    },
    {
     "name": "stdout",
     "output_type": "stream",
     "text": [
      "\n",
      "Metrics: {'train_loss': 0.0356675051463147, 'test_loss': 1.1165472770992078, 'bleu': 10.5834, 'gen_len': 10.5267}\n",
      "\n",
      "=============================\n",
      "\n"
     ]
    },
    {
     "name": "stderr",
     "output_type": "stream",
     "text": [
      " 12%|█▏        | 24/195 [27:01<3:03:18, 64.32s/it]"
     ]
    },
    {
     "name": "stdout",
     "output_type": "stream",
     "text": [
      "For epoch 30: \n",
      "{Learning rate: [0.0025456387942570714]}\n"
     ]
    },
    {
     "name": "stderr",
     "output_type": "stream",
     "text": [
      "Train batch number 150: 100%|██████████| 150/150 [00:40<00:00,  3.74batches/s]\n",
      "Test batch number 19: 100%|██████████| 19/19 [00:20<00:00,  1.07s/batches]\n"
     ]
    },
    {
     "name": "stdout",
     "output_type": "stream",
     "text": [
      "\n",
      "Metrics: {'train_loss': 0.033533147039512795, 'test_loss': 1.1042987547422711, 'bleu': 10.3643, 'gen_len': 11.5767}\n",
      "\n",
      "=============================\n",
      "\n"
     ]
    },
    {
     "name": "stderr",
     "output_type": "stream",
     "text": [
      " 13%|█▎        | 25/195 [28:05<3:01:57, 64.22s/it]"
     ]
    },
    {
     "name": "stdout",
     "output_type": "stream",
     "text": [
      "For epoch 31: \n",
      "{Learning rate: [0.0025424858578768274]}\n"
     ]
    },
    {
     "name": "stderr",
     "output_type": "stream",
     "text": [
      "Train batch number 150: 100%|██████████| 150/150 [00:39<00:00,  3.77batches/s]\n",
      "Test batch number 19: 100%|██████████| 19/19 [00:20<00:00,  1.06s/batches]\n"
     ]
    },
    {
     "name": "stdout",
     "output_type": "stream",
     "text": [
      "\n",
      "Metrics: {'train_loss': 0.03326236048713326, 'test_loss': 1.1184622237556858, 'bleu': 9.682, 'gen_len': 10.8733}\n",
      "\n",
      "=============================\n",
      "\n"
     ]
    },
    {
     "name": "stderr",
     "output_type": "stream",
     "text": [
      " 13%|█▎        | 26/195 [29:09<3:00:11, 63.98s/it]"
     ]
    },
    {
     "name": "stdout",
     "output_type": "stream",
     "text": [
      "For epoch 32: \n",
      "{Learning rate: [0.002539332921496584]}\n"
     ]
    },
    {
     "name": "stderr",
     "output_type": "stream",
     "text": [
      "Train batch number 150: 100%|██████████| 150/150 [00:40<00:00,  3.74batches/s]\n",
      "Test batch number 19: 100%|██████████| 19/19 [00:20<00:00,  1.05s/batches]\n"
     ]
    },
    {
     "name": "stdout",
     "output_type": "stream",
     "text": [
      "\n",
      "Metrics: {'train_loss': 0.03028314125413696, 'test_loss': 1.1141174278761212, 'bleu': 10.4919, 'gen_len': 11.5133}\n",
      "\n",
      "=============================\n",
      "\n"
     ]
    },
    {
     "name": "stderr",
     "output_type": "stream",
     "text": [
      " 14%|█▍        | 27/195 [30:13<2:59:16, 64.02s/it]"
     ]
    },
    {
     "name": "stdout",
     "output_type": "stream",
     "text": [
      "For epoch 33: \n",
      "{Learning rate: [0.00253617998511634]}\n"
     ]
    },
    {
     "name": "stderr",
     "output_type": "stream",
     "text": [
      "Train batch number 150: 100%|██████████| 150/150 [00:39<00:00,  3.76batches/s]\n",
      "Test batch number 19: 100%|██████████| 19/19 [00:20<00:00,  1.07s/batches]\n"
     ]
    },
    {
     "name": "stdout",
     "output_type": "stream",
     "text": [
      "\n",
      "Metrics: {'train_loss': 0.029729243833571672, 'test_loss': 1.114983458268015, 'bleu': 11.4668, 'gen_len': 10.99}\n",
      "\n",
      "=============================\n",
      "\n"
     ]
    },
    {
     "name": "stderr",
     "output_type": "stream",
     "text": [
      " 14%|█▍        | 28/195 [31:18<2:59:23, 64.45s/it]"
     ]
    },
    {
     "name": "stdout",
     "output_type": "stream",
     "text": [
      "For epoch 34: \n",
      "{Learning rate: [0.0025330270487360965]}\n"
     ]
    },
    {
     "name": "stderr",
     "output_type": "stream",
     "text": [
      "Train batch number 150: 100%|██████████| 150/150 [00:39<00:00,  3.75batches/s]\n",
      "Test batch number 19: 100%|██████████| 19/19 [00:21<00:00,  1.16s/batches]\n"
     ]
    },
    {
     "name": "stdout",
     "output_type": "stream",
     "text": [
      "\n",
      "Metrics: {'train_loss': 0.02757790289198359, 'test_loss': 1.1022680966477645, 'bleu': 11.2095, 'gen_len': 11.5467}\n",
      "\n",
      "=============================\n",
      "\n"
     ]
    },
    {
     "name": "stderr",
     "output_type": "stream",
     "text": [
      " 15%|█▍        | 29/195 [32:24<2:59:05, 64.73s/it]"
     ]
    },
    {
     "name": "stdout",
     "output_type": "stream",
     "text": [
      "For epoch 35: \n",
      "{Learning rate: [0.0025298741123558526]}\n"
     ]
    },
    {
     "name": "stderr",
     "output_type": "stream",
     "text": [
      "Train batch number 150: 100%|██████████| 150/150 [00:40<00:00,  3.68batches/s]\n",
      "Test batch number 19: 100%|██████████| 19/19 [00:19<00:00,  1.02s/batches]\n"
     ]
    },
    {
     "name": "stdout",
     "output_type": "stream",
     "text": [
      "\n",
      "Metrics: {'train_loss': 0.027268836013972758, 'test_loss': 1.1410676711484005, 'bleu': 11.2911, 'gen_len': 10.91}\n",
      "\n",
      "=============================\n",
      "\n"
     ]
    },
    {
     "name": "stderr",
     "output_type": "stream",
     "text": [
      " 15%|█▌        | 30/195 [33:28<2:57:16, 64.46s/it]"
     ]
    },
    {
     "name": "stdout",
     "output_type": "stream",
     "text": [
      "For epoch 36: \n",
      "{Learning rate: [0.002526721175975609]}\n"
     ]
    },
    {
     "name": "stderr",
     "output_type": "stream",
     "text": [
      "Train batch number 150: 100%|██████████| 150/150 [00:39<00:00,  3.80batches/s]\n",
      "Test batch number 19: 100%|██████████| 19/19 [00:19<00:00,  1.01s/batches]\n"
     ]
    },
    {
     "name": "stdout",
     "output_type": "stream",
     "text": [
      "\n",
      "Metrics: {'train_loss': 0.02533252601356556, 'test_loss': 1.1253396774593152, 'bleu': 10.5716, 'gen_len': 10.7567}\n",
      "\n",
      "=============================\n",
      "\n"
     ]
    },
    {
     "name": "stderr",
     "output_type": "stream",
     "text": [
      " 16%|█▌        | 31/195 [34:30<2:54:16, 63.76s/it]"
     ]
    },
    {
     "name": "stdout",
     "output_type": "stream",
     "text": [
      "For epoch 37: \n",
      "{Learning rate: [0.002523568239595365]}\n"
     ]
    },
    {
     "name": "stderr",
     "output_type": "stream",
     "text": [
      "Train batch number 150: 100%|██████████| 150/150 [00:39<00:00,  3.79batches/s]\n",
      "Test batch number 19: 100%|██████████| 19/19 [00:20<00:00,  1.07s/batches]\n"
     ]
    },
    {
     "name": "stdout",
     "output_type": "stream",
     "text": [
      "\n",
      "Metrics: {'train_loss': 0.024259850053737562, 'test_loss': 1.1180305826036554, 'bleu': 10.7475, 'gen_len': 11.16}\n",
      "\n",
      "=============================\n",
      "\n"
     ]
    },
    {
     "name": "stderr",
     "output_type": "stream",
     "text": [
      " 16%|█▋        | 32/195 [35:33<2:52:54, 63.65s/it]"
     ]
    },
    {
     "name": "stdout",
     "output_type": "stream",
     "text": [
      "For epoch 38: \n",
      "{Learning rate: [0.0025204153032151212]}\n"
     ]
    },
    {
     "name": "stderr",
     "output_type": "stream",
     "text": [
      "Train batch number 150: 100%|██████████| 150/150 [00:39<00:00,  3.76batches/s]\n",
      "Test batch number 19: 100%|██████████| 19/19 [00:20<00:00,  1.07s/batches]\n"
     ]
    },
    {
     "name": "stdout",
     "output_type": "stream",
     "text": [
      "\n",
      "Metrics: {'train_loss': 0.023476553518945974, 'test_loss': 1.1328501356275458, 'bleu': 11.3233, 'gen_len': 11.0533}\n",
      "\n",
      "=============================\n",
      "\n"
     ]
    },
    {
     "name": "stderr",
     "output_type": "stream",
     "text": [
      " 17%|█▋        | 33/195 [36:37<2:52:04, 63.73s/it]"
     ]
    },
    {
     "name": "stdout",
     "output_type": "stream",
     "text": [
      "For epoch 39: \n",
      "{Learning rate: [0.0025172623668348777]}\n"
     ]
    },
    {
     "name": "stderr",
     "output_type": "stream",
     "text": [
      "Train batch number 150: 100%|██████████| 150/150 [00:40<00:00,  3.74batches/s]\n",
      "Test batch number 19: 100%|██████████| 19/19 [00:20<00:00,  1.07s/batches]\n"
     ]
    },
    {
     "name": "stdout",
     "output_type": "stream",
     "text": [
      "\n",
      "Metrics: {'train_loss': 0.02232421347250541, 'test_loss': 1.1235749941123159, 'bleu': 11.4702, 'gen_len': 11.35}\n",
      "\n",
      "=============================\n",
      "\n"
     ]
    },
    {
     "name": "stderr",
     "output_type": "stream",
     "text": [
      " 17%|█▋        | 34/195 [37:44<2:53:17, 64.58s/it]"
     ]
    },
    {
     "name": "stdout",
     "output_type": "stream",
     "text": [
      "For epoch 40: \n",
      "{Learning rate: [0.002514109430454634]}\n"
     ]
    },
    {
     "name": "stderr",
     "output_type": "stream",
     "text": [
      "Train batch number 150: 100%|██████████| 150/150 [00:39<00:00,  3.76batches/s]\n",
      "Test batch number 19: 100%|██████████| 19/19 [00:20<00:00,  1.07s/batches]\n"
     ]
    },
    {
     "name": "stdout",
     "output_type": "stream",
     "text": [
      "\n",
      "Metrics: {'train_loss': 0.021174594337741534, 'test_loss': 1.1516106411030418, 'bleu': 11.0798, 'gen_len': 9.97}\n",
      "\n",
      "=============================\n",
      "\n"
     ]
    },
    {
     "name": "stderr",
     "output_type": "stream",
     "text": [
      " 18%|█▊        | 35/195 [38:47<2:51:23, 64.27s/it]"
     ]
    },
    {
     "name": "stdout",
     "output_type": "stream",
     "text": [
      "For epoch 41: \n",
      "{Learning rate: [0.00251095649407439]}\n"
     ]
    },
    {
     "name": "stderr",
     "output_type": "stream",
     "text": [
      "Train batch number 150: 100%|██████████| 150/150 [00:40<00:00,  3.73batches/s]\n",
      "Test batch number 19: 100%|██████████| 19/19 [00:20<00:00,  1.06s/batches]\n"
     ]
    },
    {
     "name": "stdout",
     "output_type": "stream",
     "text": [
      "\n",
      "Metrics: {'train_loss': 0.021467730396737654, 'test_loss': 1.1252818923247487, 'bleu': 10.7881, 'gen_len': 10.5633}\n",
      "\n",
      "=============================\n",
      "\n"
     ]
    },
    {
     "name": "stderr",
     "output_type": "stream",
     "text": [
      " 18%|█▊        | 36/195 [39:51<2:50:05, 64.18s/it]"
     ]
    },
    {
     "name": "stdout",
     "output_type": "stream",
     "text": [
      "For epoch 42: \n",
      "{Learning rate: [0.0025078035576941464]}\n"
     ]
    },
    {
     "name": "stderr",
     "output_type": "stream",
     "text": [
      "Train batch number 150: 100%|██████████| 150/150 [00:39<00:00,  3.76batches/s]\n",
      "Test batch number 19: 100%|██████████| 19/19 [00:20<00:00,  1.07s/batches]\n"
     ]
    },
    {
     "name": "stdout",
     "output_type": "stream",
     "text": [
      "\n",
      "Metrics: {'train_loss': 0.021614579781889916, 'test_loss': 1.1319666191151267, 'bleu': 11.7183, 'gen_len': 11.71}\n",
      "\n",
      "=============================\n",
      "\n"
     ]
    },
    {
     "name": "stderr",
     "output_type": "stream",
     "text": [
      " 19%|█▉        | 37/195 [40:57<2:50:02, 64.57s/it]"
     ]
    },
    {
     "name": "stdout",
     "output_type": "stream",
     "text": [
      "For epoch 43: \n",
      "{Learning rate: [0.0025046506213139024]}\n"
     ]
    },
    {
     "name": "stderr",
     "output_type": "stream",
     "text": [
      "Train batch number 150: 100%|██████████| 150/150 [00:39<00:00,  3.77batches/s]\n",
      "Test batch number 19: 100%|██████████| 19/19 [00:20<00:00,  1.07s/batches]\n"
     ]
    },
    {
     "name": "stdout",
     "output_type": "stream",
     "text": [
      "\n",
      "Metrics: {'train_loss': 0.019499807537843784, 'test_loss': 1.1583430923913653, 'bleu': 11.7284, 'gen_len': 10.64}\n",
      "\n",
      "=============================\n",
      "\n"
     ]
    },
    {
     "name": "stderr",
     "output_type": "stream",
     "text": [
      " 19%|█▉        | 38/195 [42:02<2:49:43, 64.86s/it]"
     ]
    },
    {
     "name": "stdout",
     "output_type": "stream",
     "text": [
      "For epoch 44: \n",
      "{Learning rate: [0.0025014976849336585]}\n"
     ]
    },
    {
     "name": "stderr",
     "output_type": "stream",
     "text": [
      "Train batch number 150: 100%|██████████| 150/150 [00:39<00:00,  3.77batches/s]\n",
      "Test batch number 19: 100%|██████████| 19/19 [00:21<00:00,  1.13s/batches]\n"
     ]
    },
    {
     "name": "stdout",
     "output_type": "stream",
     "text": [
      "\n",
      "Metrics: {'train_loss': 0.02051053782304128, 'test_loss': 1.1545486512937044, 'bleu': 9.9007, 'gen_len': 10.5867}\n",
      "\n",
      "=============================\n",
      "\n"
     ]
    },
    {
     "name": "stderr",
     "output_type": "stream",
     "text": [
      " 20%|██        | 39/195 [43:07<2:48:38, 64.86s/it]"
     ]
    },
    {
     "name": "stdout",
     "output_type": "stream",
     "text": [
      "For epoch 45: \n",
      "{Learning rate: [0.002498344748553415]}\n"
     ]
    },
    {
     "name": "stderr",
     "output_type": "stream",
     "text": [
      "Train batch number 150: 100%|██████████| 150/150 [00:39<00:00,  3.77batches/s]\n",
      "Test batch number 19: 100%|██████████| 19/19 [00:20<00:00,  1.06s/batches]\n"
     ]
    },
    {
     "name": "stdout",
     "output_type": "stream",
     "text": [
      "\n",
      "Metrics: {'train_loss': 0.018966904119588436, 'test_loss': 1.1561194501425092, 'bleu': 10.3834, 'gen_len': 10.7}\n",
      "\n",
      "=============================\n",
      "\n"
     ]
    },
    {
     "name": "stderr",
     "output_type": "stream",
     "text": [
      " 21%|██        | 40/195 [44:10<2:46:29, 64.45s/it]"
     ]
    },
    {
     "name": "stdout",
     "output_type": "stream",
     "text": [
      "For epoch 46: \n",
      "{Learning rate: [0.002495191812173171]}\n"
     ]
    },
    {
     "name": "stderr",
     "output_type": "stream",
     "text": [
      "Train batch number 150: 100%|██████████| 150/150 [00:39<00:00,  3.76batches/s]\n",
      "Test batch number 19: 100%|██████████| 19/19 [00:20<00:00,  1.07s/batches]\n"
     ]
    },
    {
     "name": "stdout",
     "output_type": "stream",
     "text": [
      "\n",
      "Metrics: {'train_loss': 0.018372181036199132, 'test_loss': 1.1403458683114303, 'bleu': 11.2571, 'gen_len': 10.7533}\n",
      "\n",
      "=============================\n",
      "\n"
     ]
    },
    {
     "name": "stderr",
     "output_type": "stream",
     "text": [
      " 21%|██        | 41/195 [45:15<2:45:22, 64.43s/it]"
     ]
    },
    {
     "name": "stdout",
     "output_type": "stream",
     "text": [
      "For epoch 47: \n",
      "{Learning rate: [0.002492038875792927]}\n"
     ]
    },
    {
     "name": "stderr",
     "output_type": "stream",
     "text": [
      "Train batch number 150: 100%|██████████| 150/150 [00:40<00:00,  3.74batches/s]\n",
      "Test batch number 19: 100%|██████████| 19/19 [00:20<00:00,  1.07s/batches]\n"
     ]
    },
    {
     "name": "stdout",
     "output_type": "stream",
     "text": [
      "\n",
      "Metrics: {'train_loss': 0.01802574022983511, 'test_loss': 1.1610046154574345, 'bleu': 11.667, 'gen_len': 10.6133}\n",
      "\n",
      "=============================\n",
      "\n"
     ]
    },
    {
     "name": "stderr",
     "output_type": "stream",
     "text": [
      " 22%|██▏       | 42/195 [46:19<2:44:07, 64.36s/it]"
     ]
    },
    {
     "name": "stdout",
     "output_type": "stream",
     "text": [
      "For epoch 48: \n",
      "{Learning rate: [0.0024888859394126836]}\n"
     ]
    },
    {
     "name": "stderr",
     "output_type": "stream",
     "text": [
      "Train batch number 150: 100%|██████████| 150/150 [00:39<00:00,  3.79batches/s]\n",
      "Test batch number 19: 100%|██████████| 19/19 [00:20<00:00,  1.08s/batches]\n"
     ]
    },
    {
     "name": "stdout",
     "output_type": "stream",
     "text": [
      "\n",
      "Metrics: {'train_loss': 0.016963010863400997, 'test_loss': 1.1587393942632174, 'bleu': 10.7183, 'gen_len': 10.9367}\n",
      "\n",
      "=============================\n",
      "\n"
     ]
    },
    {
     "name": "stderr",
     "output_type": "stream",
     "text": [
      " 22%|██▏       | 43/195 [47:23<2:42:38, 64.20s/it]"
     ]
    },
    {
     "name": "stdout",
     "output_type": "stream",
     "text": [
      "For epoch 49: \n",
      "{Learning rate: [0.0024857330030324397]}\n"
     ]
    },
    {
     "name": "stderr",
     "output_type": "stream",
     "text": [
      "Train batch number 150: 100%|██████████| 150/150 [00:39<00:00,  3.79batches/s]\n",
      "Test batch number 19: 100%|██████████| 19/19 [00:20<00:00,  1.09s/batches]\n"
     ]
    },
    {
     "name": "stdout",
     "output_type": "stream",
     "text": [
      "\n",
      "Metrics: {'train_loss': 0.01659902528859675, 'test_loss': 1.1516881961571543, 'bleu': 11.8106, 'gen_len': 10.7167}\n",
      "\n",
      "=============================\n",
      "\n"
     ]
    },
    {
     "name": "stderr",
     "output_type": "stream",
     "text": [
      " 23%|██▎       | 44/195 [48:28<2:42:37, 64.62s/it]"
     ]
    },
    {
     "name": "stdout",
     "output_type": "stream",
     "text": [
      "For epoch 50: \n",
      "{Learning rate: [0.002482580066652196]}\n"
     ]
    },
    {
     "name": "stderr",
     "output_type": "stream",
     "text": [
      "Train batch number 150: 100%|██████████| 150/150 [00:39<00:00,  3.77batches/s]\n",
      "Test batch number 19: 100%|██████████| 19/19 [00:20<00:00,  1.10s/batches]\n"
     ]
    },
    {
     "name": "stdout",
     "output_type": "stream",
     "text": [
      "\n",
      "Metrics: {'train_loss': 0.01650007667640845, 'test_loss': 1.147690829477812, 'bleu': 10.8796, 'gen_len': 11.1833}\n",
      "\n",
      "=============================\n",
      "\n"
     ]
    },
    {
     "name": "stderr",
     "output_type": "stream",
     "text": [
      " 23%|██▎       | 45/195 [49:33<2:41:11, 64.48s/it]"
     ]
    },
    {
     "name": "stdout",
     "output_type": "stream",
     "text": [
      "For epoch 51: \n",
      "{Learning rate: [0.0024794271302719523]}\n"
     ]
    },
    {
     "name": "stderr",
     "output_type": "stream",
     "text": [
      "Train batch number 150: 100%|██████████| 150/150 [00:39<00:00,  3.79batches/s]\n",
      "Test batch number 19: 100%|██████████| 19/19 [00:20<00:00,  1.09s/batches]\n"
     ]
    },
    {
     "name": "stdout",
     "output_type": "stream",
     "text": [
      "\n",
      "Metrics: {'train_loss': 0.01547016374922047, 'test_loss': 1.1302330023364018, 'bleu': 10.7472, 'gen_len': 11.1433}\n",
      "\n",
      "=============================\n",
      "\n"
     ]
    },
    {
     "name": "stderr",
     "output_type": "stream",
     "text": [
      " 24%|██▎       | 46/195 [50:36<2:39:31, 64.24s/it]"
     ]
    },
    {
     "name": "stdout",
     "output_type": "stream",
     "text": [
      "For epoch 52: \n",
      "{Learning rate: [0.0024762741938917088]}\n"
     ]
    },
    {
     "name": "stderr",
     "output_type": "stream",
     "text": [
      "Train batch number 150: 100%|██████████| 150/150 [00:39<00:00,  3.78batches/s]\n",
      "Test batch number 19: 100%|██████████| 19/19 [00:20<00:00,  1.10s/batches]\n"
     ]
    },
    {
     "name": "stdout",
     "output_type": "stream",
     "text": [
      "\n",
      "Metrics: {'train_loss': 0.01655747069666783, 'test_loss': 1.1468918041179055, 'bleu': 11.7341, 'gen_len': 10.8667}\n",
      "\n",
      "=============================\n",
      "\n"
     ]
    },
    {
     "name": "stderr",
     "output_type": "stream",
     "text": [
      " 24%|██▍       | 47/195 [51:40<2:38:16, 64.16s/it]"
     ]
    },
    {
     "name": "stdout",
     "output_type": "stream",
     "text": [
      "For epoch 53: \n",
      "{Learning rate: [0.002473121257511465]}\n"
     ]
    },
    {
     "name": "stderr",
     "output_type": "stream",
     "text": [
      "Train batch number 150: 100%|██████████| 150/150 [00:40<00:00,  3.73batches/s]\n",
      "Test batch number 19: 100%|██████████| 19/19 [00:20<00:00,  1.09s/batches]\n"
     ]
    },
    {
     "name": "stdout",
     "output_type": "stream",
     "text": [
      "\n",
      "Metrics: {'train_loss': 0.015532053735417625, 'test_loss': 1.166519089748985, 'bleu': 11.6512, 'gen_len': 10.8533}\n",
      "\n",
      "=============================\n",
      "\n"
     ]
    },
    {
     "name": "stderr",
     "output_type": "stream",
     "text": [
      " 25%|██▍       | 48/195 [52:45<2:37:25, 64.26s/it]"
     ]
    },
    {
     "name": "stdout",
     "output_type": "stream",
     "text": [
      "For epoch 54: \n",
      "{Learning rate: [0.0024699683211312213]}\n"
     ]
    },
    {
     "name": "stderr",
     "output_type": "stream",
     "text": [
      "Train batch number 150: 100%|██████████| 150/150 [00:40<00:00,  3.71batches/s]\n",
      "Test batch number 19: 100%|██████████| 19/19 [00:20<00:00,  1.09s/batches]\n"
     ]
    },
    {
     "name": "stdout",
     "output_type": "stream",
     "text": [
      "\n",
      "Metrics: {'train_loss': 0.015586846174361806, 'test_loss': 1.146834815803327, 'bleu': 10.8842, 'gen_len': 10.91}\n",
      "\n",
      "=============================\n",
      "\n"
     ]
    },
    {
     "name": "stderr",
     "output_type": "stream",
     "text": [
      " 25%|██▌       | 49/195 [53:49<2:36:39, 64.38s/it]"
     ]
    },
    {
     "name": "stdout",
     "output_type": "stream",
     "text": [
      "For epoch 55: \n",
      "{Learning rate: [0.0024668153847509774]}\n"
     ]
    },
    {
     "name": "stderr",
     "output_type": "stream",
     "text": [
      "Train batch number 150: 100%|██████████| 150/150 [00:40<00:00,  3.73batches/s]\n",
      "Test batch number 19: 100%|██████████| 19/19 [00:20<00:00,  1.08s/batches]\n"
     ]
    },
    {
     "name": "stdout",
     "output_type": "stream",
     "text": [
      "\n",
      "Metrics: {'train_loss': 0.014569890351655583, 'test_loss': 1.1442003187380339, 'bleu': 11.4698, 'gen_len': 10.51}\n",
      "\n",
      "=============================\n",
      "\n"
     ]
    },
    {
     "name": "stderr",
     "output_type": "stream",
     "text": [
      " 26%|██▌       | 50/195 [54:54<2:35:36, 64.39s/it]"
     ]
    },
    {
     "name": "stdout",
     "output_type": "stream",
     "text": [
      "For epoch 56: \n",
      "{Learning rate: [0.0024636624483707335]}\n"
     ]
    },
    {
     "name": "stderr",
     "output_type": "stream",
     "text": [
      "Train batch number 150: 100%|██████████| 150/150 [00:39<00:00,  3.79batches/s]\n",
      "Test batch number 19: 100%|██████████| 19/19 [00:20<00:00,  1.08s/batches]\n"
     ]
    },
    {
     "name": "stdout",
     "output_type": "stream",
     "text": [
      "\n",
      "Metrics: {'train_loss': 0.013954853410832585, 'test_loss': 1.158328072020882, 'bleu': 10.848, 'gen_len': 10.5333}\n",
      "\n",
      "=============================\n",
      "\n"
     ]
    },
    {
     "name": "stderr",
     "output_type": "stream",
     "text": [
      " 26%|██▌       | 51/195 [55:58<2:34:02, 64.18s/it]"
     ]
    },
    {
     "name": "stdout",
     "output_type": "stream",
     "text": [
      "For epoch 57: \n",
      "{Learning rate: [0.00246050951199049]}\n"
     ]
    },
    {
     "name": "stderr",
     "output_type": "stream",
     "text": [
      "Train batch number 150: 100%|██████████| 150/150 [00:40<00:00,  3.75batches/s]\n",
      "Test batch number 19: 100%|██████████| 19/19 [00:20<00:00,  1.09s/batches]\n"
     ]
    },
    {
     "name": "stdout",
     "output_type": "stream",
     "text": [
      "\n",
      "Metrics: {'train_loss': 0.013986898132910331, 'test_loss': 1.150602124239269, 'bleu': 10.6015, 'gen_len': 10.56}\n",
      "\n",
      "=============================\n",
      "\n"
     ]
    },
    {
     "name": "stderr",
     "output_type": "stream",
     "text": [
      " 27%|██▋       | 52/195 [57:02<2:33:01, 64.20s/it]"
     ]
    },
    {
     "name": "stdout",
     "output_type": "stream",
     "text": [
      "For epoch 58: \n",
      "{Learning rate: [0.002457356575610246]}\n"
     ]
    },
    {
     "name": "stderr",
     "output_type": "stream",
     "text": [
      "Train batch number 150: 100%|██████████| 150/150 [00:39<00:00,  3.79batches/s]\n",
      "Test batch number 19: 100%|██████████| 19/19 [00:20<00:00,  1.08s/batches]\n"
     ]
    },
    {
     "name": "stdout",
     "output_type": "stream",
     "text": [
      "\n",
      "Metrics: {'train_loss': 0.01475069194721679, 'test_loss': 1.16114447305077, 'bleu': 10.1859, 'gen_len': 10.5}\n",
      "\n",
      "=============================\n",
      "\n"
     ]
    },
    {
     "name": "stderr",
     "output_type": "stream",
     "text": [
      " 27%|██▋       | 53/195 [58:05<2:31:35, 64.05s/it]"
     ]
    },
    {
     "name": "stdout",
     "output_type": "stream",
     "text": [
      "For epoch 59: \n",
      "{Learning rate: [0.0024542036392300026]}\n"
     ]
    },
    {
     "name": "stderr",
     "output_type": "stream",
     "text": [
      "Train batch number 150: 100%|██████████| 150/150 [00:42<00:00,  3.56batches/s]\n",
      "Test batch number 19: 100%|██████████| 19/19 [00:26<00:00,  1.40s/batches]\n"
     ]
    },
    {
     "name": "stdout",
     "output_type": "stream",
     "text": [
      "\n",
      "Metrics: {'train_loss': 0.01343620435645183, 'test_loss': 1.1698212686337923, 'bleu': 10.6206, 'gen_len': 10.5167}\n",
      "\n",
      "=============================\n",
      "\n"
     ]
    },
    {
     "name": "stderr",
     "output_type": "stream",
     "text": [
      " 28%|██▊       | 54/195 [59:18<2:36:36, 66.64s/it]"
     ]
    },
    {
     "name": "stdout",
     "output_type": "stream",
     "text": [
      "For epoch 60: \n",
      "{Learning rate: [0.0024510507028497586]}\n"
     ]
    },
    {
     "name": "stderr",
     "output_type": "stream",
     "text": [
      "Train batch number 150: 100%|██████████| 150/150 [00:44<00:00,  3.40batches/s]\n",
      "Test batch number 19: 100%|██████████| 19/19 [00:24<00:00,  1.26s/batches]\n"
     ]
    },
    {
     "name": "stdout",
     "output_type": "stream",
     "text": [
      "\n",
      "Metrics: {'train_loss': 0.0125902202197661, 'test_loss': 1.1543271102403339, 'bleu': 10.9624, 'gen_len': 11.1367}\n",
      "\n",
      "=============================\n",
      "\n"
     ]
    },
    {
     "name": "stderr",
     "output_type": "stream",
     "text": [
      " 28%|██▊       | 55/195 [1:00:31<2:39:29, 68.35s/it]"
     ]
    },
    {
     "name": "stdout",
     "output_type": "stream",
     "text": [
      "For epoch 61: \n",
      "{Learning rate: [0.002447897766469515]}\n"
     ]
    },
    {
     "name": "stderr",
     "output_type": "stream",
     "text": [
      "Train batch number 150: 100%|██████████| 150/150 [00:45<00:00,  3.32batches/s]\n",
      "Test batch number 19: 100%|██████████| 19/19 [00:21<00:00,  1.15s/batches]\n"
     ]
    },
    {
     "name": "stdout",
     "output_type": "stream",
     "text": [
      "\n",
      "Metrics: {'train_loss': 0.013749002342422803, 'test_loss': 1.1687641457507485, 'bleu': 10.1703, 'gen_len': 11.0633}\n",
      "\n",
      "=============================\n",
      "\n"
     ]
    },
    {
     "name": "stderr",
     "output_type": "stream",
     "text": [
      " 29%|██▊       | 56/195 [1:01:41<2:40:09, 69.13s/it]"
     ]
    },
    {
     "name": "stdout",
     "output_type": "stream",
     "text": [
      "For epoch 62: \n",
      "{Learning rate: [0.002444744830089271]}\n"
     ]
    },
    {
     "name": "stderr",
     "output_type": "stream",
     "text": [
      "Train batch number 150: 100%|██████████| 150/150 [00:42<00:00,  3.54batches/s]\n",
      "Test batch number 19: 100%|██████████| 19/19 [00:22<00:00,  1.16s/batches]\n"
     ]
    },
    {
     "name": "stdout",
     "output_type": "stream",
     "text": [
      "\n",
      "Metrics: {'train_loss': 0.012596695541093746, 'test_loss': 1.1632747838371678, 'bleu': 11.0677, 'gen_len': 10.63}\n",
      "\n",
      "=============================\n",
      "\n"
     ]
    },
    {
     "name": "stderr",
     "output_type": "stream",
     "text": [
      " 29%|██▉       | 57/195 [1:02:50<2:38:18, 68.83s/it]"
     ]
    },
    {
     "name": "stdout",
     "output_type": "stream",
     "text": [
      "For epoch 63: \n",
      "{Learning rate: [0.0024415918937090277]}\n"
     ]
    },
    {
     "name": "stderr",
     "output_type": "stream",
     "text": [
      "Train batch number 150: 100%|██████████| 150/150 [00:43<00:00,  3.47batches/s]\n",
      "Test batch number 19: 100%|██████████| 19/19 [00:22<00:00,  1.17s/batches]\n"
     ]
    },
    {
     "name": "stdout",
     "output_type": "stream",
     "text": [
      "\n",
      "Metrics: {'train_loss': 0.013412668374367059, 'test_loss': 1.160913059585973, 'bleu': 10.7436, 'gen_len': 10.8967}\n",
      "\n",
      "=============================\n",
      "\n"
     ]
    },
    {
     "name": "stderr",
     "output_type": "stream",
     "text": [
      " 30%|██▉       | 58/195 [1:03:59<2:37:18, 68.90s/it]"
     ]
    },
    {
     "name": "stdout",
     "output_type": "stream",
     "text": [
      "For epoch 64: \n",
      "{Learning rate: [0.0024384389573287838]}\n"
     ]
    },
    {
     "name": "stderr",
     "output_type": "stream",
     "text": [
      "Train batch number 150: 100%|██████████| 150/150 [00:40<00:00,  3.68batches/s]\n",
      "Test batch number 19: 100%|██████████| 19/19 [00:23<00:00,  1.23s/batches]\n"
     ]
    },
    {
     "name": "stdout",
     "output_type": "stream",
     "text": [
      "\n",
      "Metrics: {'train_loss': 0.011891930450995764, 'test_loss': 1.1768925315455387, 'bleu': 11.5459, 'gen_len': 10.5533}\n",
      "\n",
      "=============================\n",
      "\n"
     ]
    },
    {
     "name": "stderr",
     "output_type": "stream",
     "text": [
      " 30%|███       | 59/195 [1:05:06<2:35:25, 68.57s/it]"
     ]
    },
    {
     "name": "stdout",
     "output_type": "stream",
     "text": [
      "For epoch 65: \n",
      "{Learning rate: [0.00243528602094854]}\n"
     ]
    },
    {
     "name": "stderr",
     "output_type": "stream",
     "text": [
      "Train batch number 150: 100%|██████████| 150/150 [00:40<00:00,  3.73batches/s]\n",
      "Test batch number 19: 100%|██████████| 19/19 [00:20<00:00,  1.08s/batches]\n"
     ]
    },
    {
     "name": "stdout",
     "output_type": "stream",
     "text": [
      "\n",
      "Metrics: {'train_loss': 0.012351606156056126, 'test_loss': 1.1624691204020852, 'bleu': 9.5097, 'gen_len': 11.7333}\n",
      "\n",
      "=============================\n",
      "\n"
     ]
    },
    {
     "name": "stderr",
     "output_type": "stream",
     "text": [
      " 31%|███       | 60/195 [1:06:11<2:31:30, 67.33s/it]"
     ]
    },
    {
     "name": "stdout",
     "output_type": "stream",
     "text": [
      "For epoch 66: \n",
      "{Learning rate: [0.0024321330845682963]}\n"
     ]
    },
    {
     "name": "stderr",
     "output_type": "stream",
     "text": [
      "Train batch number 150: 100%|██████████| 150/150 [00:40<00:00,  3.75batches/s]\n",
      "Test batch number 19: 100%|██████████| 19/19 [00:22<00:00,  1.16s/batches]\n"
     ]
    },
    {
     "name": "stdout",
     "output_type": "stream",
     "text": [
      "\n",
      "Metrics: {'train_loss': 0.011685879672877491, 'test_loss': 1.150019297474309, 'bleu': 10.6481, 'gen_len': 11.24}\n",
      "\n",
      "=============================\n",
      "\n"
     ]
    },
    {
     "name": "stderr",
     "output_type": "stream",
     "text": [
      " 31%|███▏      | 61/195 [1:07:17<2:29:16, 66.84s/it]"
     ]
    },
    {
     "name": "stdout",
     "output_type": "stream",
     "text": [
      "For epoch 67: \n",
      "{Learning rate: [0.0024289801481880524]}\n"
     ]
    },
    {
     "name": "stderr",
     "output_type": "stream",
     "text": [
      "Train batch number 150: 100%|██████████| 150/150 [00:40<00:00,  3.73batches/s]\n",
      "Test batch number 19: 100%|██████████| 19/19 [00:21<00:00,  1.11s/batches]\n"
     ]
    },
    {
     "name": "stdout",
     "output_type": "stream",
     "text": [
      "\n",
      "Metrics: {'train_loss': 0.010778508541795115, 'test_loss': 1.1791680455207825, 'bleu': 11.3266, 'gen_len': 10.69}\n",
      "\n",
      "=============================\n",
      "\n"
     ]
    },
    {
     "name": "stderr",
     "output_type": "stream",
     "text": [
      " 32%|███▏      | 62/195 [1:08:22<2:26:59, 66.31s/it]"
     ]
    },
    {
     "name": "stdout",
     "output_type": "stream",
     "text": [
      "For epoch 68: \n",
      "{Learning rate: [0.0024258272118078085]}\n"
     ]
    },
    {
     "name": "stderr",
     "output_type": "stream",
     "text": [
      "Train batch number 150: 100%|██████████| 150/150 [00:39<00:00,  3.75batches/s]\n",
      "Test batch number 19: 100%|██████████| 19/19 [00:21<00:00,  1.13s/batches]\n"
     ]
    },
    {
     "name": "stdout",
     "output_type": "stream",
     "text": [
      "\n",
      "Metrics: {'train_loss': 0.011462423495637874, 'test_loss': 1.1570715590527183, 'bleu': 11.1731, 'gen_len': 10.7767}\n",
      "\n",
      "=============================\n",
      "\n"
     ]
    },
    {
     "name": "stderr",
     "output_type": "stream",
     "text": [
      " 32%|███▏      | 63/195 [1:09:27<2:25:07, 65.96s/it]"
     ]
    },
    {
     "name": "stdout",
     "output_type": "stream",
     "text": [
      "For epoch 69: \n",
      "{Learning rate: [0.002422674275427565]}\n"
     ]
    },
    {
     "name": "stderr",
     "output_type": "stream",
     "text": [
      "Train batch number 150: 100%|██████████| 150/150 [00:39<00:00,  3.75batches/s]\n",
      "Test batch number 19: 100%|██████████| 19/19 [00:21<00:00,  1.13s/batches]\n"
     ]
    },
    {
     "name": "stdout",
     "output_type": "stream",
     "text": [
      "\n",
      "Metrics: {'train_loss': 0.010684232788626104, 'test_loss': 1.160408798017, 'bleu': 10.5995, 'gen_len': 10.61}\n",
      "\n",
      "=============================\n",
      "\n"
     ]
    },
    {
     "name": "stderr",
     "output_type": "stream",
     "text": [
      " 33%|███▎      | 64/195 [1:10:33<2:23:57, 65.94s/it]"
     ]
    },
    {
     "name": "stdout",
     "output_type": "stream",
     "text": [
      "For epoch 70: \n",
      "{Learning rate: [0.002419521339047321]}\n"
     ]
    },
    {
     "name": "stderr",
     "output_type": "stream",
     "text": [
      "Train batch number 150: 100%|██████████| 150/150 [00:39<00:00,  3.77batches/s]\n",
      "Test batch number 19: 100%|██████████| 19/19 [00:20<00:00,  1.09s/batches]\n"
     ]
    },
    {
     "name": "stdout",
     "output_type": "stream",
     "text": [
      "\n",
      "Metrics: {'train_loss': 0.011732700995635241, 'test_loss': 1.14018525261628, 'bleu': 10.4614, 'gen_len': 10.88}\n",
      "\n",
      "=============================\n",
      "\n"
     ]
    },
    {
     "name": "stderr",
     "output_type": "stream",
     "text": [
      " 33%|███▎      | 65/195 [1:11:37<2:21:44, 65.42s/it]"
     ]
    },
    {
     "name": "stdout",
     "output_type": "stream",
     "text": [
      "For epoch 71: \n",
      "{Learning rate: [0.002416368402667077]}\n"
     ]
    },
    {
     "name": "stderr",
     "output_type": "stream",
     "text": [
      "Train batch number 150: 100%|██████████| 150/150 [00:40<00:00,  3.73batches/s]\n",
      "Test batch number 19: 100%|██████████| 19/19 [00:20<00:00,  1.09s/batches]\n"
     ]
    },
    {
     "name": "stdout",
     "output_type": "stream",
     "text": [
      "\n",
      "Metrics: {'train_loss': 0.010868048456031829, 'test_loss': 1.1550307430719073, 'bleu': 10.705, 'gen_len': 10.67}\n",
      "\n",
      "=============================\n",
      "\n"
     ]
    },
    {
     "name": "stderr",
     "output_type": "stream",
     "text": [
      " 34%|███▍      | 66/195 [1:12:42<2:20:15, 65.24s/it]"
     ]
    },
    {
     "name": "stdout",
     "output_type": "stream",
     "text": [
      "For epoch 72: \n",
      "{Learning rate: [0.0024132154662868336]}\n"
     ]
    },
    {
     "name": "stderr",
     "output_type": "stream",
     "text": [
      "Train batch number 150: 100%|██████████| 150/150 [00:40<00:00,  3.69batches/s]\n",
      "Test batch number 19: 100%|██████████| 19/19 [00:20<00:00,  1.09s/batches]\n"
     ]
    },
    {
     "name": "stdout",
     "output_type": "stream",
     "text": [
      "\n",
      "Metrics: {'train_loss': 0.010219779414280008, 'test_loss': 1.1574428771671497, 'bleu': 10.9773, 'gen_len': 11.29}\n",
      "\n",
      "=============================\n",
      "\n"
     ]
    },
    {
     "name": "stderr",
     "output_type": "stream",
     "text": [
      " 34%|███▍      | 67/195 [1:13:48<2:19:36, 65.44s/it]"
     ]
    },
    {
     "name": "stdout",
     "output_type": "stream",
     "text": [
      "For epoch 73: \n",
      "{Learning rate: [0.0024100625299065897]}\n"
     ]
    },
    {
     "name": "stderr",
     "output_type": "stream",
     "text": [
      "Train batch number 150: 100%|██████████| 150/150 [00:40<00:00,  3.74batches/s]\n",
      "Test batch number 19: 100%|██████████| 19/19 [00:20<00:00,  1.08s/batches]\n"
     ]
    },
    {
     "name": "stdout",
     "output_type": "stream",
     "text": [
      "\n",
      "Metrics: {'train_loss': 0.009798434356537959, 'test_loss': 1.1590632545320612, 'bleu': 10.7006, 'gen_len': 10.32}\n",
      "\n",
      "=============================\n",
      "\n"
     ]
    },
    {
     "name": "stderr",
     "output_type": "stream",
     "text": [
      " 35%|███▍      | 68/195 [1:14:52<2:17:52, 65.14s/it]"
     ]
    },
    {
     "name": "stdout",
     "output_type": "stream",
     "text": [
      "For epoch 74: \n",
      "{Learning rate: [0.002406909593526346]}\n"
     ]
    },
    {
     "name": "stderr",
     "output_type": "stream",
     "text": [
      "Train batch number 150: 100%|██████████| 150/150 [00:39<00:00,  3.76batches/s]\n",
      "Test batch number 19: 100%|██████████| 19/19 [00:20<00:00,  1.10s/batches]\n"
     ]
    },
    {
     "name": "stdout",
     "output_type": "stream",
     "text": [
      "\n",
      "Metrics: {'train_loss': 0.010074685578389714, 'test_loss': 1.1601256351721914, 'bleu': 11.5738, 'gen_len': 10.96}\n",
      "\n",
      "=============================\n",
      "\n"
     ]
    },
    {
     "name": "stderr",
     "output_type": "stream",
     "text": [
      " 35%|███▌      | 69/195 [1:15:56<2:16:19, 64.92s/it]"
     ]
    },
    {
     "name": "stdout",
     "output_type": "stream",
     "text": [
      "For epoch 75: \n",
      "{Learning rate: [0.0024037566571461022]}\n"
     ]
    },
    {
     "name": "stderr",
     "output_type": "stream",
     "text": [
      "Train batch number 150: 100%|██████████| 150/150 [00:40<00:00,  3.73batches/s]\n",
      "Test batch number 19: 100%|██████████| 19/19 [00:20<00:00,  1.10s/batches]\n"
     ]
    },
    {
     "name": "stdout",
     "output_type": "stream",
     "text": [
      "\n",
      "Metrics: {'train_loss': 0.01036472868019094, 'test_loss': 1.1675419995659275, 'bleu': 11.2823, 'gen_len': 10.8}\n",
      "\n",
      "=============================\n",
      "\n"
     ]
    },
    {
     "name": "stderr",
     "output_type": "stream",
     "text": [
      " 36%|███▌      | 70/195 [1:17:01<2:15:04, 64.84s/it]"
     ]
    },
    {
     "name": "stdout",
     "output_type": "stream",
     "text": [
      "For epoch 76: \n",
      "{Learning rate: [0.0024006037207658583]}\n"
     ]
    },
    {
     "name": "stderr",
     "output_type": "stream",
     "text": [
      "Train batch number 150: 100%|██████████| 150/150 [00:40<00:00,  3.73batches/s]\n",
      "Test batch number 19: 100%|██████████| 19/19 [00:20<00:00,  1.10s/batches]\n"
     ]
    },
    {
     "name": "stdout",
     "output_type": "stream",
     "text": [
      "\n",
      "Metrics: {'train_loss': 0.00920873693889007, 'test_loss': 1.197280090106161, 'bleu': 10.4731, 'gen_len': 10.7}\n",
      "\n",
      "=============================\n",
      "\n"
     ]
    },
    {
     "name": "stderr",
     "output_type": "stream",
     "text": [
      " 36%|███▋      | 71/195 [1:18:06<2:13:49, 64.75s/it]"
     ]
    },
    {
     "name": "stdout",
     "output_type": "stream",
     "text": [
      "For epoch 77: \n",
      "{Learning rate: [0.002397450784385615]}\n"
     ]
    },
    {
     "name": "stderr",
     "output_type": "stream",
     "text": [
      "Train batch number 150: 100%|██████████| 150/150 [00:39<00:00,  3.77batches/s]\n",
      "Test batch number 19: 100%|██████████| 19/19 [00:20<00:00,  1.10s/batches]\n"
     ]
    },
    {
     "name": "stdout",
     "output_type": "stream",
     "text": [
      "\n",
      "Metrics: {'train_loss': 0.009628256810829043, 'test_loss': 1.1721723456131785, 'bleu': 11.5446, 'gen_len': 10.61}\n",
      "\n",
      "=============================\n",
      "\n"
     ]
    },
    {
     "name": "stderr",
     "output_type": "stream",
     "text": [
      " 37%|███▋      | 72/195 [1:19:10<2:12:23, 64.58s/it]"
     ]
    },
    {
     "name": "stdout",
     "output_type": "stream",
     "text": [
      "For epoch 78: \n",
      "{Learning rate: [0.002394297848005371]}\n"
     ]
    },
    {
     "name": "stderr",
     "output_type": "stream",
     "text": [
      "Train batch number 150: 100%|██████████| 150/150 [00:40<00:00,  3.73batches/s]\n",
      "Test batch number 19: 100%|██████████| 19/19 [00:20<00:00,  1.09s/batches]\n"
     ]
    },
    {
     "name": "stdout",
     "output_type": "stream",
     "text": [
      "\n",
      "Metrics: {'train_loss': 0.009903117617747436, 'test_loss': 1.1641270894753306, 'bleu': 8.9562, 'gen_len': 11.2333}\n",
      "\n",
      "=============================\n",
      "\n"
     ]
    },
    {
     "name": "stderr",
     "output_type": "stream",
     "text": [
      " 37%|███▋      | 73/195 [1:20:14<2:11:14, 64.55s/it]"
     ]
    },
    {
     "name": "stdout",
     "output_type": "stream",
     "text": [
      "For epoch 79: \n",
      "{Learning rate: [0.0023911449116251274]}\n"
     ]
    },
    {
     "name": "stderr",
     "output_type": "stream",
     "text": [
      "Train batch number 150: 100%|██████████| 150/150 [00:40<00:00,  3.74batches/s]\n",
      "Test batch number 19: 100%|██████████| 19/19 [00:21<00:00,  1.11s/batches]\n"
     ]
    },
    {
     "name": "stdout",
     "output_type": "stream",
     "text": [
      "\n",
      "Metrics: {'train_loss': 0.009692098883291086, 'test_loss': 1.191728911901775, 'bleu': 10.9376, 'gen_len': 10.4667}\n",
      "\n",
      "=============================\n",
      "\n"
     ]
    },
    {
     "name": "stderr",
     "output_type": "stream",
     "text": [
      " 38%|███▊      | 74/195 [1:21:19<2:10:21, 64.64s/it]"
     ]
    },
    {
     "name": "stdout",
     "output_type": "stream",
     "text": [
      "For epoch 80: \n",
      "{Learning rate: [0.0023879919752448834]}\n"
     ]
    },
    {
     "name": "stderr",
     "output_type": "stream",
     "text": [
      "Train batch number 150: 100%|██████████| 150/150 [00:40<00:00,  3.73batches/s]\n",
      "Test batch number 19: 100%|██████████| 19/19 [00:21<00:00,  1.11s/batches]\n"
     ]
    },
    {
     "name": "stdout",
     "output_type": "stream",
     "text": [
      "\n",
      "Metrics: {'train_loss': 0.009638036750257015, 'test_loss': 1.166968141731463, 'bleu': 10.4312, 'gen_len': 10.9033}\n",
      "\n",
      "=============================\n",
      "\n"
     ]
    },
    {
     "name": "stderr",
     "output_type": "stream",
     "text": [
      " 38%|███▊      | 75/195 [1:22:24<2:09:24, 64.71s/it]"
     ]
    },
    {
     "name": "stdout",
     "output_type": "stream",
     "text": [
      "For epoch 81: \n",
      "{Learning rate: [0.00238483903886464]}\n"
     ]
    },
    {
     "name": "stderr",
     "output_type": "stream",
     "text": [
      "Train batch number 150: 100%|██████████| 150/150 [00:40<00:00,  3.71batches/s]\n",
      "Test batch number 19: 100%|██████████| 19/19 [00:21<00:00,  1.11s/batches]\n"
     ]
    },
    {
     "name": "stdout",
     "output_type": "stream",
     "text": [
      "\n",
      "Metrics: {'train_loss': 0.00948576683178544, 'test_loss': 1.184767644656332, 'bleu': 10.6311, 'gen_len': 10.6333}\n",
      "\n",
      "=============================\n",
      "\n"
     ]
    },
    {
     "name": "stderr",
     "output_type": "stream",
     "text": [
      " 39%|███▉      | 76/195 [1:23:29<2:08:26, 64.76s/it]"
     ]
    },
    {
     "name": "stdout",
     "output_type": "stream",
     "text": [
      "For epoch 82: \n",
      "{Learning rate: [0.002381686102484396]}\n"
     ]
    },
    {
     "name": "stderr",
     "output_type": "stream",
     "text": [
      "Train batch number 150: 100%|██████████| 150/150 [00:40<00:00,  3.74batches/s]\n",
      "Test batch number 19: 100%|██████████| 19/19 [00:21<00:00,  1.12s/batches]\n"
     ]
    },
    {
     "name": "stdout",
     "output_type": "stream",
     "text": [
      "\n",
      "Metrics: {'train_loss': 0.008910992838597547, 'test_loss': 1.180103113776759, 'bleu': 11.2269, 'gen_len': 10.6533}\n",
      "\n",
      "=============================\n",
      "\n"
     ]
    },
    {
     "name": "stderr",
     "output_type": "stream",
     "text": [
      " 39%|███▉      | 77/195 [1:24:34<2:07:20, 64.75s/it]"
     ]
    },
    {
     "name": "stdout",
     "output_type": "stream",
     "text": [
      "For epoch 83: \n",
      "{Learning rate: [0.0023785331661041525]}\n"
     ]
    },
    {
     "name": "stderr",
     "output_type": "stream",
     "text": [
      "Train batch number 150: 100%|██████████| 150/150 [00:40<00:00,  3.75batches/s]\n",
      "Test batch number 19: 100%|██████████| 19/19 [00:20<00:00,  1.09s/batches]\n"
     ]
    },
    {
     "name": "stdout",
     "output_type": "stream",
     "text": [
      "\n",
      "Metrics: {'train_loss': 0.009141195719130336, 'test_loss': 1.1745068148562783, 'bleu': 10.1878, 'gen_len': 10.8633}\n",
      "\n",
      "=============================\n",
      "\n"
     ]
    },
    {
     "name": "stderr",
     "output_type": "stream",
     "text": [
      " 40%|████      | 78/195 [1:25:38<2:05:58, 64.61s/it]"
     ]
    },
    {
     "name": "stdout",
     "output_type": "stream",
     "text": [
      "For epoch 84: \n",
      "{Learning rate: [0.0023753802297239086]}\n"
     ]
    },
    {
     "name": "stderr",
     "output_type": "stream",
     "text": [
      "Train batch number 150: 100%|██████████| 150/150 [00:40<00:00,  3.69batches/s]\n",
      "Test batch number 19: 100%|██████████| 19/19 [00:20<00:00,  1.09s/batches]\n"
     ]
    },
    {
     "name": "stdout",
     "output_type": "stream",
     "text": [
      "\n",
      "Metrics: {'train_loss': 0.00910850015313675, 'test_loss': 1.1844451458830583, 'bleu': 10.545, 'gen_len': 10.6067}\n",
      "\n",
      "=============================\n",
      "\n"
     ]
    },
    {
     "name": "stderr",
     "output_type": "stream",
     "text": [
      " 41%|████      | 79/195 [1:26:43<2:05:03, 64.69s/it]"
     ]
    },
    {
     "name": "stdout",
     "output_type": "stream",
     "text": [
      "For epoch 85: \n",
      "{Learning rate: [0.0023722272933436647]}\n"
     ]
    },
    {
     "name": "stderr",
     "output_type": "stream",
     "text": [
      "Train batch number 150: 100%|██████████| 150/150 [00:40<00:00,  3.73batches/s]\n",
      "Test batch number 19: 100%|██████████| 19/19 [00:20<00:00,  1.08s/batches]\n"
     ]
    },
    {
     "name": "stdout",
     "output_type": "stream",
     "text": [
      "\n",
      "Metrics: {'train_loss': 0.00868157173623331, 'test_loss': 1.1815796651338275, 'bleu': 12.0874, 'gen_len': 10.87}\n",
      "\n",
      "=============================\n",
      "\n"
     ]
    },
    {
     "name": "stderr",
     "output_type": "stream",
     "text": [
      " 41%|████      | 80/195 [1:27:49<2:04:45, 65.09s/it]"
     ]
    },
    {
     "name": "stdout",
     "output_type": "stream",
     "text": [
      "For epoch 86: \n",
      "{Learning rate: [0.002369074356963421]}\n"
     ]
    },
    {
     "name": "stderr",
     "output_type": "stream",
     "text": [
      "Train batch number 150: 100%|██████████| 150/150 [00:39<00:00,  3.76batches/s]\n",
      "Test batch number 19: 100%|██████████| 19/19 [00:20<00:00,  1.08s/batches]\n"
     ]
    },
    {
     "name": "stdout",
     "output_type": "stream",
     "text": [
      "\n",
      "Metrics: {'train_loss': 0.008740048128335426, 'test_loss': 1.1726097244965403, 'bleu': 11.3589, 'gen_len': 11.6267}\n",
      "\n",
      "=============================\n",
      "\n"
     ]
    },
    {
     "name": "stderr",
     "output_type": "stream",
     "text": [
      " 42%|████▏     | 81/195 [1:28:53<2:02:58, 64.72s/it]"
     ]
    },
    {
     "name": "stdout",
     "output_type": "stream",
     "text": [
      "For epoch 87: \n",
      "{Learning rate: [0.0023659214205831772]}\n"
     ]
    },
    {
     "name": "stderr",
     "output_type": "stream",
     "text": [
      "Train batch number 150: 100%|██████████| 150/150 [00:39<00:00,  3.77batches/s]\n",
      "Test batch number 19: 100%|██████████| 19/19 [00:20<00:00,  1.09s/batches]\n"
     ]
    },
    {
     "name": "stdout",
     "output_type": "stream",
     "text": [
      "\n",
      "Metrics: {'train_loss': 0.008637317264219745, 'test_loss': 1.186289950420982, 'bleu': 11.3727, 'gen_len': 10.8133}\n",
      "\n",
      "=============================\n",
      "\n"
     ]
    },
    {
     "name": "stderr",
     "output_type": "stream",
     "text": [
      " 42%|████▏     | 82/195 [1:29:57<2:01:32, 64.54s/it]"
     ]
    },
    {
     "name": "stdout",
     "output_type": "stream",
     "text": [
      "For epoch 88: \n",
      "{Learning rate: [0.0023627684842029337]}\n"
     ]
    },
    {
     "name": "stderr",
     "output_type": "stream",
     "text": [
      "Train batch number 150: 100%|██████████| 150/150 [00:40<00:00,  3.71batches/s]\n",
      "Test batch number 19: 100%|██████████| 19/19 [00:20<00:00,  1.09s/batches]\n"
     ]
    },
    {
     "name": "stdout",
     "output_type": "stream",
     "text": [
      "\n",
      "Metrics: {'train_loss': 0.007842773851783325, 'test_loss': 1.1705541077413057, 'bleu': 11.2969, 'gen_len': 10.6567}\n",
      "\n",
      "=============================\n",
      "\n"
     ]
    },
    {
     "name": "stderr",
     "output_type": "stream",
     "text": [
      " 43%|████▎     | 83/195 [1:31:01<2:00:32, 64.58s/it]"
     ]
    },
    {
     "name": "stdout",
     "output_type": "stream",
     "text": [
      "For epoch 89: \n",
      "{Learning rate: [0.00235961554782269]}\n"
     ]
    },
    {
     "name": "stderr",
     "output_type": "stream",
     "text": [
      "Train batch number 150: 100%|██████████| 150/150 [00:40<00:00,  3.73batches/s]\n",
      "Test batch number 19: 100%|██████████| 19/19 [00:20<00:00,  1.07s/batches]\n"
     ]
    },
    {
     "name": "stdout",
     "output_type": "stream",
     "text": [
      "\n",
      "Metrics: {'train_loss': 0.008798328407962496, 'test_loss': 1.1933624650302685, 'bleu': 10.9548, 'gen_len': 10.3533}\n",
      "\n",
      "=============================\n",
      "\n"
     ]
    },
    {
     "name": "stderr",
     "output_type": "stream",
     "text": [
      " 43%|████▎     | 84/195 [1:32:06<1:59:10, 64.42s/it]"
     ]
    },
    {
     "name": "stdout",
     "output_type": "stream",
     "text": [
      "For epoch 90: \n",
      "{Learning rate: [0.0023564626114424463]}\n"
     ]
    },
    {
     "name": "stderr",
     "output_type": "stream",
     "text": [
      "Train batch number 150: 100%|██████████| 150/150 [00:40<00:00,  3.72batches/s]\n",
      "Test batch number 19: 100%|██████████| 19/19 [00:23<00:00,  1.21s/batches]\n"
     ]
    },
    {
     "name": "stdout",
     "output_type": "stream",
     "text": [
      "\n",
      "Metrics: {'train_loss': 0.008028877606460203, 'test_loss': 1.201775146158118, 'bleu': 10.5048, 'gen_len': 10.1433}\n",
      "\n",
      "=============================\n",
      "\n"
     ]
    },
    {
     "name": "stderr",
     "output_type": "stream",
     "text": [
      " 44%|████▎     | 85/195 [1:33:13<1:59:48, 65.35s/it]"
     ]
    },
    {
     "name": "stdout",
     "output_type": "stream",
     "text": [
      "For epoch 91: \n",
      "{Learning rate: [0.0023533096750622024]}\n"
     ]
    },
    {
     "name": "stderr",
     "output_type": "stream",
     "text": [
      "Train batch number 150: 100%|██████████| 150/150 [00:40<00:00,  3.72batches/s]\n",
      "Test batch number 19: 100%|██████████| 19/19 [00:20<00:00,  1.08s/batches]\n"
     ]
    },
    {
     "name": "stdout",
     "output_type": "stream",
     "text": [
      "\n",
      "Metrics: {'train_loss': 0.008260530948949357, 'test_loss': 1.1833258867263794, 'bleu': 10.134, 'gen_len': 10.79}\n",
      "\n",
      "=============================\n",
      "\n"
     ]
    },
    {
     "name": "stderr",
     "output_type": "stream",
     "text": [
      " 44%|████▍     | 86/195 [1:34:18<1:58:14, 65.08s/it]"
     ]
    },
    {
     "name": "stdout",
     "output_type": "stream",
     "text": [
      "For epoch 92: \n",
      "{Learning rate: [0.0023501567386819584]}\n"
     ]
    },
    {
     "name": "stderr",
     "output_type": "stream",
     "text": [
      "Train batch number 150: 100%|██████████| 150/150 [00:40<00:00,  3.72batches/s]\n",
      "Test batch number 19: 100%|██████████| 19/19 [00:20<00:00,  1.09s/batches]\n"
     ]
    },
    {
     "name": "stdout",
     "output_type": "stream",
     "text": [
      "\n",
      "Metrics: {'train_loss': 0.007807011996628716, 'test_loss': 1.1805400754276074, 'bleu': 11.4121, 'gen_len': 11.39}\n",
      "\n",
      "=============================\n",
      "\n"
     ]
    },
    {
     "name": "stderr",
     "output_type": "stream",
     "text": [
      " 45%|████▍     | 87/195 [1:35:22<1:56:51, 64.92s/it]"
     ]
    },
    {
     "name": "stdout",
     "output_type": "stream",
     "text": [
      "For epoch 93: \n",
      "{Learning rate: [0.002347003802301715]}\n"
     ]
    },
    {
     "name": "stderr",
     "output_type": "stream",
     "text": [
      "Train batch number 150: 100%|██████████| 150/150 [00:40<00:00,  3.72batches/s]\n",
      "Test batch number 19: 100%|██████████| 19/19 [00:20<00:00,  1.09s/batches]\n"
     ]
    },
    {
     "name": "stdout",
     "output_type": "stream",
     "text": [
      "\n",
      "Metrics: {'train_loss': 0.008062256523407996, 'test_loss': 1.1855981851878918, 'bleu': 9.4403, 'gen_len': 12.3267}\n",
      "\n",
      "=============================\n",
      "\n"
     ]
    },
    {
     "name": "stderr",
     "output_type": "stream",
     "text": [
      " 45%|████▌     | 88/195 [1:36:27<1:55:41, 64.87s/it]"
     ]
    },
    {
     "name": "stdout",
     "output_type": "stream",
     "text": [
      "For epoch 94: \n",
      "{Learning rate: [0.002343850865921471]}\n"
     ]
    },
    {
     "name": "stderr",
     "output_type": "stream",
     "text": [
      "Train batch number 150: 100%|██████████| 150/150 [00:40<00:00,  3.73batches/s]\n",
      "Test batch number 19: 100%|██████████| 19/19 [00:20<00:00,  1.09s/batches]\n"
     ]
    },
    {
     "name": "stdout",
     "output_type": "stream",
     "text": [
      "\n",
      "Metrics: {'train_loss': 0.00722558082236598, 'test_loss': 1.2241162563625134, 'bleu': 10.9977, 'gen_len': 10.19}\n",
      "\n",
      "=============================\n",
      "\n"
     ]
    },
    {
     "name": "stderr",
     "output_type": "stream",
     "text": [
      " 46%|████▌     | 89/195 [1:37:32<1:54:38, 64.89s/it]"
     ]
    },
    {
     "name": "stdout",
     "output_type": "stream",
     "text": [
      "For epoch 95: \n",
      "{Learning rate: [0.002340697929541227]}\n"
     ]
    },
    {
     "name": "stderr",
     "output_type": "stream",
     "text": [
      "Train batch number 150: 100%|██████████| 150/150 [00:40<00:00,  3.74batches/s]\n",
      "Test batch number 19: 100%|██████████| 19/19 [00:20<00:00,  1.08s/batches]\n"
     ]
    },
    {
     "name": "stdout",
     "output_type": "stream",
     "text": [
      "\n",
      "Metrics: {'train_loss': 0.0076446611364372075, 'test_loss': 1.1930972996510958, 'bleu': 11.3449, 'gen_len': 11.1333}\n",
      "\n",
      "=============================\n",
      "\n"
     ]
    },
    {
     "name": "stderr",
     "output_type": "stream",
     "text": [
      " 46%|████▌     | 90/195 [1:38:36<1:53:17, 64.74s/it]"
     ]
    },
    {
     "name": "stdout",
     "output_type": "stream",
     "text": [
      "For epoch 96: \n",
      "{Learning rate: [0.0023375449931609836]}\n"
     ]
    },
    {
     "name": "stderr",
     "output_type": "stream",
     "text": [
      "Train batch number 150: 100%|██████████| 150/150 [00:40<00:00,  3.71batches/s]\n",
      "Test batch number 19: 100%|██████████| 19/19 [00:20<00:00,  1.08s/batches]\n"
     ]
    },
    {
     "name": "stdout",
     "output_type": "stream",
     "text": [
      "\n",
      "Metrics: {'train_loss': 0.007762101152911783, 'test_loss': 1.1970632013521696, 'bleu': 11.6377, 'gen_len': 11.0533}\n",
      "\n",
      "=============================\n",
      "\n"
     ]
    },
    {
     "name": "stderr",
     "output_type": "stream",
     "text": [
      " 47%|████▋     | 91/195 [1:39:41<1:52:04, 64.66s/it]"
     ]
    },
    {
     "name": "stdout",
     "output_type": "stream",
     "text": [
      "For epoch 97: \n",
      "{Learning rate: [0.0023343920567807396]}\n"
     ]
    },
    {
     "name": "stderr",
     "output_type": "stream",
     "text": [
      "Train batch number 150: 100%|██████████| 150/150 [00:40<00:00,  3.72batches/s]\n",
      "Test batch number 19: 100%|██████████| 19/19 [00:20<00:00,  1.09s/batches]\n"
     ]
    },
    {
     "name": "stdout",
     "output_type": "stream",
     "text": [
      "\n",
      "Metrics: {'train_loss': 0.007229647885542363, 'test_loss': 1.2022000770819814, 'bleu': 11.7996, 'gen_len': 11.3267}\n",
      "\n",
      "=============================\n",
      "\n"
     ]
    },
    {
     "name": "stderr",
     "output_type": "stream",
     "text": [
      " 47%|████▋     | 92/195 [1:40:45<1:50:55, 64.61s/it]"
     ]
    },
    {
     "name": "stdout",
     "output_type": "stream",
     "text": [
      "For epoch 98: \n",
      "{Learning rate: [0.0023312391204004957]}\n"
     ]
    },
    {
     "name": "stderr",
     "output_type": "stream",
     "text": [
      "Train batch number 150: 100%|██████████| 150/150 [00:39<00:00,  3.75batches/s]\n",
      "Test batch number 19: 100%|██████████| 19/19 [00:20<00:00,  1.09s/batches]\n"
     ]
    },
    {
     "name": "stdout",
     "output_type": "stream",
     "text": [
      "\n",
      "Metrics: {'train_loss': 0.007188120076122384, 'test_loss': 1.1753296256065369, 'bleu': 11.0473, 'gen_len': 11.69}\n",
      "\n",
      "=============================\n",
      "\n"
     ]
    },
    {
     "name": "stderr",
     "output_type": "stream",
     "text": [
      " 48%|████▊     | 93/195 [1:41:49<1:49:32, 64.44s/it]"
     ]
    },
    {
     "name": "stdout",
     "output_type": "stream",
     "text": [
      "For epoch 99: \n",
      "{Learning rate: [0.002328086184020252]}\n"
     ]
    },
    {
     "name": "stderr",
     "output_type": "stream",
     "text": [
      "Train batch number 150: 100%|██████████| 150/150 [00:40<00:00,  3.72batches/s]\n",
      "Test batch number 19: 100%|██████████| 19/19 [00:20<00:00,  1.09s/batches]\n"
     ]
    },
    {
     "name": "stdout",
     "output_type": "stream",
     "text": [
      "\n",
      "Metrics: {'train_loss': 0.007360239190747961, 'test_loss': 1.193806921180926, 'bleu': 11.3379, 'gen_len': 11.0533}\n",
      "\n",
      "=============================\n",
      "\n"
     ]
    },
    {
     "name": "stderr",
     "output_type": "stream",
     "text": [
      " 48%|████▊     | 94/195 [1:42:54<1:48:31, 64.47s/it]"
     ]
    },
    {
     "name": "stdout",
     "output_type": "stream",
     "text": [
      "For epoch 100: \n",
      "{Learning rate: [0.0023249332476400083]}\n"
     ]
    },
    {
     "name": "stderr",
     "output_type": "stream",
     "text": [
      "Train batch number 150: 100%|██████████| 150/150 [00:41<00:00,  3.63batches/s]\n",
      "Test batch number 19: 100%|██████████| 19/19 [00:22<00:00,  1.17s/batches]\n"
     ]
    },
    {
     "name": "stdout",
     "output_type": "stream",
     "text": [
      "\n",
      "Metrics: {'train_loss': 0.006677857584824475, 'test_loss': 1.196501982839484, 'bleu': 10.1698, 'gen_len': 10.71}\n",
      "\n",
      "=============================\n",
      "\n"
     ]
    },
    {
     "name": "stderr",
     "output_type": "stream",
     "text": [
      " 49%|████▊     | 95/195 [1:44:01<1:48:54, 65.35s/it]"
     ]
    },
    {
     "name": "stdout",
     "output_type": "stream",
     "text": [
      "For epoch 101: \n",
      "{Learning rate: [0.0023217803112597648]}\n"
     ]
    },
    {
     "name": "stderr",
     "output_type": "stream",
     "text": [
      "Train batch number 150: 100%|██████████| 150/150 [00:46<00:00,  3.20batches/s]\n",
      "Test batch number 19: 100%|██████████| 19/19 [00:25<00:00,  1.32s/batches]\n"
     ]
    },
    {
     "name": "stdout",
     "output_type": "stream",
     "text": [
      "\n",
      "Metrics: {'train_loss': 0.0071780021116137505, 'test_loss': 1.196321754079116, 'bleu': 11.1321, 'gen_len': 10.5933}\n",
      "\n",
      "=============================\n",
      "\n"
     ]
    },
    {
     "name": "stderr",
     "output_type": "stream",
     "text": [
      " 49%|████▉     | 96/195 [1:45:17<1:53:17, 68.66s/it]"
     ]
    },
    {
     "name": "stdout",
     "output_type": "stream",
     "text": [
      "For epoch 102: \n",
      "{Learning rate: [0.002318627374879521]}\n"
     ]
    },
    {
     "name": "stderr",
     "output_type": "stream",
     "text": [
      "Train batch number 27:  17%|█▋        | 26/150 [00:08<00:36,  3.43batches/s]"
     ]
    }
   ],
   "source": [
    "trainer.train(epochs = config['epochs'] - trainer.current_epoch, auto_save=True, metric_for_best_model='bleu', metric_objective='maximize', log_step=1,\n",
    "              saving_directory = config['new_model_dir'])"
   ]
  },
  {
   "cell_type": "markdown",
   "metadata": {},
   "source": [
    "### --- Wandb v5_2 2000"
   ]
  },
  {
   "cell_type": "code",
   "execution_count": 1,
   "metadata": {},
   "outputs": [
    {
     "data": {
      "text/plain": [
       "127"
      ]
     },
     "execution_count": 1,
     "metadata": {},
     "output_type": "execute_result"
    }
   ],
   "source": []
  },
  {
   "cell_type": "code",
   "execution_count": 8,
   "metadata": {},
   "outputs": [
    {
     "ename": "OSError",
     "evalue": "Le fichier fw_t5_small_custom_train_v5_2_checkpoints/best_checkpoints.pth est introuvable. Vérifiez si le chemin fourni est correct!",
     "output_type": "error",
     "traceback": [
      "\u001b[0;31m---------------------------------------------------------------------------\u001b[0m",
      "\u001b[0;31mOSError\u001b[0m                                   Traceback (most recent call last)",
      "Cell \u001b[0;32mIn[8], line 78\u001b[0m\n\u001b[1;32m     68\u001b[0m trainer\u001b[38;5;241m.\u001b[39mcompile(train_dataset, test_dataset, tokenizer, train_loader_args,\n\u001b[1;32m     69\u001b[0m                 optimizer_kwargs \u001b[38;5;241m=\u001b[39m optimizer_args,\n\u001b[1;32m     70\u001b[0m                 lr_scheduler\u001b[38;5;241m=\u001b[39mget_linear_schedule_with_warmup,\n\u001b[0;32m   (...)\u001b[0m\n\u001b[1;32m     74\u001b[0m                 logging_dir\u001b[38;5;241m=\u001b[39m\u001b[38;5;124m\"\u001b[39m\u001b[38;5;124mdata/logs/t5_small_custom_train_fw\u001b[39m\u001b[38;5;124m\"\u001b[39m\n\u001b[1;32m     75\u001b[0m                 )\n\u001b[1;32m     77\u001b[0m \u001b[38;5;66;03m# We will from checkpoints so let us the model\u001b[39;00m\n\u001b[0;32m---> 78\u001b[0m \u001b[43mtrainer\u001b[49m\u001b[38;5;241;43m.\u001b[39;49m\u001b[43mload\u001b[49m\u001b[43m(\u001b[49m\u001b[43mconfig\u001b[49m\u001b[43m[\u001b[49m\u001b[38;5;124;43m'\u001b[39;49m\u001b[38;5;124;43mmodel_dir\u001b[39;49m\u001b[38;5;124;43m'\u001b[39;49m\u001b[43m]\u001b[49m\u001b[43m,\u001b[49m\u001b[43m \u001b[49m\u001b[43mload_best\u001b[49m\u001b[38;5;241;43m=\u001b[39;49m\u001b[38;5;28;43;01mTrue\u001b[39;49;00m\u001b[43m)\u001b[49m \u001b[38;5;66;03m# Only for the first loading\u001b[39;00m\n\u001b[1;32m     79\u001b[0m \u001b[38;5;66;03m# trainer.load(config['new_model_dir'], load_best = True)\u001b[39;00m\n",
      "File \u001b[0;32m~/SageMaker/.Trash-1000/files/Wolof_traduction/wolof-translate/wolof_translate/trainers/transformer_trainer.py:568\u001b[0m, in \u001b[0;36mModelRunner.load\u001b[0;34m(self, directory, file_name, load_best)\u001b[0m\n\u001b[1;32m    564\u001b[0m         \u001b[38;5;28mself\u001b[39m\u001b[38;5;241m.\u001b[39mlr_scheduling\u001b[38;5;241m.\u001b[39mload_state_dict(checkpoints[\u001b[38;5;124m\"\u001b[39m\u001b[38;5;124mlr_scheduler_state_dict\u001b[39m\u001b[38;5;124m\"\u001b[39m])\n\u001b[1;32m    566\u001b[0m \u001b[38;5;28;01melse\u001b[39;00m:\n\u001b[0;32m--> 568\u001b[0m     \u001b[38;5;28;01mraise\u001b[39;00m \u001b[38;5;167;01mOSError\u001b[39;00m(\n\u001b[1;32m    569\u001b[0m         \u001b[38;5;124mf\u001b[39m\u001b[38;5;124m\"\u001b[39m\u001b[38;5;124mLe fichier \u001b[39m\u001b[38;5;132;01m{\u001b[39;00mfile_path\u001b[38;5;132;01m}\u001b[39;00m\u001b[38;5;124m est introuvable. Vérifiez si le chemin fourni est correct!\u001b[39m\u001b[38;5;124m\"\u001b[39m\n\u001b[1;32m    570\u001b[0m     )\n",
      "\u001b[0;31mOSError\u001b[0m: Le fichier fw_t5_small_custom_train_v5_2_checkpoints/best_checkpoints.pth est introuvable. Vérifiez si le chemin fourni est correct!"
     ]
    }
   ],
   "source": [
    "# let us initialize the hyperparameter configuration \n",
    "config = {\n",
    "    'random_state': 0,\n",
    "    'fr_char_p': 0.06673707344553906,\n",
    "    'fr_word_p': 0.07626063714036732,\n",
    "    'learning_rate': 0.0030232985434635257,\n",
    "    'weight_decay': 0.02659316315720403,\n",
    "    'batch_size': 16,\n",
    "    'warmup_ratio': 0.0,\n",
    "    'max_epoch': 827,\n",
    "    'epochs': 83,\n",
    "    'mid_epoch': 83,\n",
    "    'max_len': 19,\n",
    "    'end_mark': 3,\n",
    "    'bleu': 8.4915,\n",
    "    'model_dir': 'fw_t5_small_custom_train_v5_2_checkpoints',\n",
    "    'new_model_dir': 't5_small_custom_train_results_fw_v5_2'\n",
    "}\n",
    "\n",
    "# Initialize the model name\n",
    "model_name = 't5-small'\n",
    "\n",
    "# import the model with its pre-trained weights\n",
    "model = T5ForConditionalGeneration.from_pretrained(model_name)\n",
    "\n",
    "# resize the token embeddings\n",
    "model.resize_token_embeddings(len(tokenizer))\n",
    "\n",
    "# let us initialize the evaluation class\n",
    "evaluation = TranslationEvaluation(tokenizer)\n",
    "\n",
    "# let us initialize the trainer\n",
    "trainer = ModelRunner(model, seed = 0, version = '5_2', evaluation = evaluation, optimizer=Adafactor)\n",
    "\n",
    "# split the data\n",
    "split_data(config['random_state'], csv_file = \"ad_sentences.csv\")\n",
    "\n",
    "# recuperate train and test set\n",
    "train_dataset, test_dataset = recuperate_datasets(config['fr_char_p'], \n",
    "                                                    config['fr_word_p'], config['max_len'],\n",
    "                                                    config['end_mark'])\n",
    "\n",
    "# let us calculate the appropriate warmup steps (let us take a max epoch of 100)\n",
    "length = len(train_dataset)\n",
    "\n",
    "n_steps = length // config['batch_size']\n",
    "\n",
    "num_steps = config['max_epoch'] * n_steps\n",
    "\n",
    "warmup_steps = (config['max_epoch'] * n_steps) * config['warmup_ratio']\n",
    "\n",
    "# # Initialize the scheduler parameters\n",
    "scheduler_args = {'num_warmup_steps': warmup_steps, 'num_training_steps': num_steps}\n",
    "\n",
    "# Initialize the optimizer parameters\n",
    "optimizer_args = {\n",
    "    'lr': config['learning_rate'],\n",
    "    'weight_decay': config['weight_decay'],\n",
    "    # 'betas': (0.9, 0.98),\n",
    "    'warmup_init': False,\n",
    "    'relative_step': False\n",
    "}\n",
    "\n",
    "# Initialize the loaders parameters\n",
    "train_loader_args = {'batch_size': config['batch_size']}\n",
    "\n",
    "# Add the datasets and hyperparameters to trainer\n",
    "trainer.compile(train_dataset, test_dataset, tokenizer, train_loader_args,\n",
    "                optimizer_kwargs = optimizer_args,\n",
    "                lr_scheduler=get_linear_schedule_with_warmup,\n",
    "                lr_scheduler_kwargs=scheduler_args, \n",
    "                predict_with_generate = True,\n",
    "                hugging_face = True,\n",
    "                logging_dir=\"data/logs/t5_small_custom_train_fw\"\n",
    "                )\n",
    "\n",
    "# We will from checkpoints so let us the model\n",
    "trainer.load(config['model_dir'], load_best=True) # Only for the first loading\n",
    "# trainer.load(config['new_model_dir'], load_best = True)\n",
    "\n",
    "        "
   ]
  },
  {
   "cell_type": "code",
   "execution_count": null,
   "metadata": {},
   "outputs": [],
   "source": []
  },
  {
   "cell_type": "markdown",
   "metadata": {},
   "source": [
    "### ---"
   ]
  },
  {
   "cell_type": "code",
   "execution_count": 8,
   "metadata": {},
   "outputs": [
    {
     "name": "stderr",
     "output_type": "stream",
     "text": [
      "  0%|          | 0/122 [00:00<?, ?it/s]c:\\Users\\Oumar Kane\\AppData\\Local\\pypoetry\\Cache\\virtualenvs\\pytorch1-HleOW5am-py3.10\\lib\\site-packages\\torch\\optim\\lr_scheduler.py:257: UserWarning: To get the last learning rate computed by the scheduler, please use `get_last_lr()`.\n",
      "  warnings.warn(\"To get the last learning rate computed by the scheduler, \"\n"
     ]
    },
    {
     "name": "stdout",
     "output_type": "stream",
     "text": [
      "For epoch 6: \n",
      "{Learning rate: [0.0034131613992851753]}\n"
     ]
    },
    {
     "name": "stderr",
     "output_type": "stream",
     "text": [
      "Train batch number 99: 100%|██████████| 99/99 [00:29<00:00,  3.33batches/s]\n",
      "Test batch number 13: 100%|██████████| 13/13 [00:05<00:00,  2.34batches/s]\n"
     ]
    },
    {
     "name": "stdout",
     "output_type": "stream",
     "text": [
      "\n",
      "Metrics: {'train_loss': 0.9279966017212531, 'test_loss': 1.8339825868606567, 'bleu': 9.2101, 'gen_len': 9.202}\n",
      "\n",
      "=============================\n",
      "\n"
     ]
    },
    {
     "name": "stderr",
     "output_type": "stream",
     "text": [
      "  1%|          | 1/122 [00:40<1:21:50, 40.58s/it]"
     ]
    },
    {
     "name": "stdout",
     "output_type": "stream",
     "text": [
      "For epoch 7: \n",
      "{Learning rate: [0.003399311213666893]}\n"
     ]
    },
    {
     "name": "stderr",
     "output_type": "stream",
     "text": [
      "Train batch number 99: 100%|██████████| 99/99 [00:25<00:00,  3.82batches/s]\n",
      "Test batch number 13: 100%|██████████| 13/13 [00:04<00:00,  2.62batches/s]\n"
     ]
    },
    {
     "name": "stdout",
     "output_type": "stream",
     "text": [
      "\n",
      "Metrics: {'train_loss': 0.7526906527052022, 'test_loss': 1.8597031556642973, 'bleu': 12.3162, 'gen_len': 9.9747}\n",
      "\n",
      "=============================\n",
      "\n"
     ]
    },
    {
     "name": "stderr",
     "output_type": "stream",
     "text": [
      "  2%|▏         | 2/122 [01:18<1:17:35, 38.80s/it]"
     ]
    },
    {
     "name": "stdout",
     "output_type": "stream",
     "text": [
      "For epoch 8: \n",
      "{Learning rate: [0.003385461028048611]}\n"
     ]
    },
    {
     "name": "stderr",
     "output_type": "stream",
     "text": [
      "Train batch number 99: 100%|██████████| 99/99 [00:27<00:00,  3.65batches/s]\n",
      "Test batch number 13: 100%|██████████| 13/13 [00:05<00:00,  2.47batches/s]\n"
     ]
    },
    {
     "name": "stdout",
     "output_type": "stream",
     "text": [
      "\n",
      "Metrics: {'train_loss': 0.5884038303235565, 'test_loss': 1.881271398984469, 'bleu': 12.2324, 'gen_len': 9.1414}\n",
      "\n",
      "=============================\n",
      "\n"
     ]
    },
    {
     "name": "stderr",
     "output_type": "stream",
     "text": [
      "  2%|▏         | 3/122 [01:53<1:14:07, 37.37s/it]"
     ]
    },
    {
     "name": "stdout",
     "output_type": "stream",
     "text": [
      "For epoch 9: \n",
      "{Learning rate: [0.0033716108424303288]}\n"
     ]
    },
    {
     "name": "stderr",
     "output_type": "stream",
     "text": [
      "Train batch number 99: 100%|██████████| 99/99 [00:22<00:00,  4.49batches/s]\n",
      "Test batch number 13: 100%|██████████| 13/13 [00:05<00:00,  2.58batches/s]\n"
     ]
    },
    {
     "name": "stdout",
     "output_type": "stream",
     "text": [
      "\n",
      "Metrics: {'train_loss': 0.47737392166046183, 'test_loss': 1.9598649923618023, 'bleu': 15.2595, 'gen_len': 8.803}\n",
      "\n",
      "=============================\n",
      "\n"
     ]
    },
    {
     "name": "stderr",
     "output_type": "stream",
     "text": [
      "  3%|▎         | 4/122 [02:26<1:09:29, 35.33s/it]"
     ]
    },
    {
     "name": "stdout",
     "output_type": "stream",
     "text": [
      "For epoch 10: \n",
      "{Learning rate: [0.003357760656812046]}\n"
     ]
    },
    {
     "name": "stderr",
     "output_type": "stream",
     "text": [
      "Train batch number 99: 100%|██████████| 99/99 [00:22<00:00,  4.31batches/s]\n",
      "Test batch number 13: 100%|██████████| 13/13 [00:05<00:00,  2.43batches/s]\n"
     ]
    },
    {
     "name": "stdout",
     "output_type": "stream",
     "text": [
      "\n",
      "Metrics: {'train_loss': 0.37741409558238403, 'test_loss': 2.017734463398273, 'bleu': 14.3787, 'gen_len': 9.2727}\n",
      "\n",
      "=============================\n",
      "\n"
     ]
    },
    {
     "name": "stderr",
     "output_type": "stream",
     "text": [
      "  4%|▍         | 5/122 [02:57<1:06:08, 33.92s/it]"
     ]
    },
    {
     "name": "stdout",
     "output_type": "stream",
     "text": [
      "For epoch 11: \n",
      "{Learning rate: [0.003343910471193764]}\n"
     ]
    },
    {
     "name": "stderr",
     "output_type": "stream",
     "text": [
      "Train batch number 99: 100%|██████████| 99/99 [00:27<00:00,  3.61batches/s]\n",
      "Test batch number 13: 100%|██████████| 13/13 [00:06<00:00,  2.07batches/s]\n"
     ]
    },
    {
     "name": "stdout",
     "output_type": "stream",
     "text": [
      "\n",
      "Metrics: {'train_loss': 0.3124226286555781, 'test_loss': 2.015558820504409, 'bleu': 17.4538, 'gen_len': 9.3485}\n",
      "\n",
      "=============================\n",
      "\n"
     ]
    },
    {
     "name": "stderr",
     "output_type": "stream",
     "text": [
      "  5%|▍         | 6/122 [03:36<1:08:42, 35.54s/it]"
     ]
    },
    {
     "name": "stdout",
     "output_type": "stream",
     "text": [
      "For epoch 12: \n",
      "{Learning rate: [0.0033300602855754814]}\n"
     ]
    },
    {
     "name": "stderr",
     "output_type": "stream",
     "text": [
      "Train batch number 99: 100%|██████████| 99/99 [00:29<00:00,  3.35batches/s]\n",
      "Test batch number 13: 100%|██████████| 13/13 [00:05<00:00,  2.35batches/s]\n"
     ]
    },
    {
     "name": "stdout",
     "output_type": "stream",
     "text": [
      "\n",
      "Metrics: {'train_loss': 0.26443211117176096, 'test_loss': 2.0259269934434156, 'bleu': 17.0583, 'gen_len': 9.2424}\n",
      "\n",
      "=============================\n",
      "\n"
     ]
    },
    {
     "name": "stderr",
     "output_type": "stream",
     "text": [
      "  6%|▌         | 7/122 [04:14<1:10:00, 36.53s/it]"
     ]
    },
    {
     "name": "stdout",
     "output_type": "stream",
     "text": [
      "For epoch 13: \n",
      "{Learning rate: [0.003316210099957199]}\n"
     ]
    },
    {
     "name": "stderr",
     "output_type": "stream",
     "text": [
      "Train batch number 99: 100%|██████████| 99/99 [00:25<00:00,  3.94batches/s]\n",
      "Test batch number 13: 100%|██████████| 13/13 [00:05<00:00,  2.39batches/s]\n"
     ]
    },
    {
     "name": "stdout",
     "output_type": "stream",
     "text": [
      "\n",
      "Metrics: {'train_loss': 0.2233867132001453, 'test_loss': 2.07810324888963, 'bleu': 16.1427, 'gen_len': 9.3636}\n",
      "\n",
      "=============================\n",
      "\n"
     ]
    },
    {
     "name": "stderr",
     "output_type": "stream",
     "text": [
      "  7%|▋         | 8/122 [04:48<1:07:42, 35.64s/it]"
     ]
    },
    {
     "name": "stdout",
     "output_type": "stream",
     "text": [
      "For epoch 14: \n",
      "{Learning rate: [0.003302359914338917]}\n"
     ]
    },
    {
     "name": "stderr",
     "output_type": "stream",
     "text": [
      "Train batch number 99: 100%|██████████| 99/99 [00:22<00:00,  4.36batches/s]\n",
      "Test batch number 13: 100%|██████████| 13/13 [00:05<00:00,  2.53batches/s]\n"
     ]
    },
    {
     "name": "stdout",
     "output_type": "stream",
     "text": [
      "\n",
      "Metrics: {'train_loss': 0.1927045497930411, 'test_loss': 2.097345443872305, 'bleu': 16.9649, 'gen_len': 9.1768}\n",
      "\n",
      "=============================\n",
      "\n"
     ]
    },
    {
     "name": "stderr",
     "output_type": "stream",
     "text": [
      "  7%|▋         | 9/122 [05:19<1:04:26, 34.21s/it]"
     ]
    },
    {
     "name": "stdout",
     "output_type": "stream",
     "text": [
      "For epoch 15: \n",
      "{Learning rate: [0.003288509728720635]}\n"
     ]
    },
    {
     "name": "stderr",
     "output_type": "stream",
     "text": [
      "Train batch number 99: 100%|██████████| 99/99 [00:22<00:00,  4.46batches/s]\n",
      "Test batch number 13: 100%|██████████| 13/13 [00:05<00:00,  2.54batches/s]\n"
     ]
    },
    {
     "name": "stdout",
     "output_type": "stream",
     "text": [
      "\n",
      "Metrics: {'train_loss': 0.17486714436249298, 'test_loss': 2.1414945950874915, 'bleu': 15.297, 'gen_len': 9.101}\n",
      "\n",
      "=============================\n",
      "\n"
     ]
    },
    {
     "name": "stderr",
     "output_type": "stream",
     "text": [
      "  8%|▊         | 10/122 [05:50<1:01:45, 33.09s/it]"
     ]
    },
    {
     "name": "stdout",
     "output_type": "stream",
     "text": [
      "For epoch 16: \n",
      "{Learning rate: [0.0032746595431023527]}\n"
     ]
    },
    {
     "name": "stderr",
     "output_type": "stream",
     "text": [
      "Train batch number 99: 100%|██████████| 99/99 [00:26<00:00,  3.68batches/s]\n",
      "Test batch number 13: 100%|██████████| 13/13 [00:06<00:00,  1.86batches/s]\n"
     ]
    },
    {
     "name": "stdout",
     "output_type": "stream",
     "text": [
      "\n",
      "Metrics: {'train_loss': 0.14376557851680602, 'test_loss': 2.1646205370242777, 'bleu': 20.578, 'gen_len': 9.202}\n",
      "\n",
      "=============================\n",
      "\n"
     ]
    },
    {
     "name": "stderr",
     "output_type": "stream",
     "text": [
      "  9%|▉         | 11/122 [06:30<1:05:13, 35.26s/it]"
     ]
    },
    {
     "name": "stdout",
     "output_type": "stream",
     "text": [
      "For epoch 17: \n",
      "{Learning rate: [0.0032608093574840705]}\n"
     ]
    },
    {
     "name": "stderr",
     "output_type": "stream",
     "text": [
      "Train batch number 99: 100%|██████████| 99/99 [00:28<00:00,  3.53batches/s]\n",
      "Test batch number 13: 100%|██████████| 13/13 [00:06<00:00,  2.10batches/s]\n"
     ]
    },
    {
     "name": "stdout",
     "output_type": "stream",
     "text": [
      "\n",
      "Metrics: {'train_loss': 0.14116381612992046, 'test_loss': 2.140428845699017, 'bleu': 19.3275, 'gen_len': 9.0051}\n",
      "\n",
      "=============================\n",
      "\n"
     ]
    },
    {
     "name": "stderr",
     "output_type": "stream",
     "text": [
      " 10%|▉         | 12/122 [07:08<1:06:25, 36.24s/it]"
     ]
    },
    {
     "name": "stdout",
     "output_type": "stream",
     "text": [
      "For epoch 18: \n",
      "{Learning rate: [0.0032469591718657883]}\n"
     ]
    },
    {
     "name": "stderr",
     "output_type": "stream",
     "text": [
      "Train batch number 99: 100%|██████████| 99/99 [00:25<00:00,  3.94batches/s]\n",
      "Test batch number 13: 100%|██████████| 13/13 [00:05<00:00,  2.44batches/s]\n"
     ]
    },
    {
     "name": "stdout",
     "output_type": "stream",
     "text": [
      "\n",
      "Metrics: {'train_loss': 0.1287631190033874, 'test_loss': 2.1713505799953756, 'bleu': 18.7053, 'gen_len': 9.2475}\n",
      "\n",
      "=============================\n",
      "\n"
     ]
    },
    {
     "name": "stderr",
     "output_type": "stream",
     "text": [
      " 11%|█         | 13/122 [07:43<1:04:55, 35.74s/it]"
     ]
    },
    {
     "name": "stdout",
     "output_type": "stream",
     "text": [
      "For epoch 19: \n",
      "{Learning rate: [0.0032331089862475057]}\n"
     ]
    },
    {
     "name": "stderr",
     "output_type": "stream",
     "text": [
      "Train batch number 99: 100%|██████████| 99/99 [00:25<00:00,  3.86batches/s]\n",
      "Test batch number 13: 100%|██████████| 13/13 [00:05<00:00,  2.21batches/s]\n"
     ]
    },
    {
     "name": "stdout",
     "output_type": "stream",
     "text": [
      "\n",
      "Metrics: {'train_loss': 0.11961708898947697, 'test_loss': 2.166295427542466, 'bleu': 19.2731, 'gen_len': 9.4949}\n",
      "\n",
      "=============================\n",
      "\n"
     ]
    },
    {
     "name": "stderr",
     "output_type": "stream",
     "text": [
      " 11%|█▏        | 14/122 [08:18<1:03:53, 35.50s/it]"
     ]
    },
    {
     "name": "stdout",
     "output_type": "stream",
     "text": [
      "For epoch 20: \n",
      "{Learning rate: [0.0032192588006292235]}\n"
     ]
    },
    {
     "name": "stderr",
     "output_type": "stream",
     "text": [
      "Train batch number 99: 100%|██████████| 99/99 [00:22<00:00,  4.31batches/s]\n",
      "Test batch number 13: 100%|██████████| 13/13 [00:05<00:00,  2.41batches/s]\n"
     ]
    },
    {
     "name": "stdout",
     "output_type": "stream",
     "text": [
      "\n",
      "Metrics: {'train_loss': 0.11229952793530744, 'test_loss': 2.168083200087914, 'bleu': 18.8851, 'gen_len': 9.4343}\n",
      "\n",
      "=============================\n",
      "\n"
     ]
    },
    {
     "name": "stderr",
     "output_type": "stream",
     "text": [
      " 12%|█▏        | 15/122 [08:49<1:01:14, 34.35s/it]"
     ]
    },
    {
     "name": "stdout",
     "output_type": "stream",
     "text": [
      "For epoch 21: \n",
      "{Learning rate: [0.0032054086150109413]}\n"
     ]
    },
    {
     "name": "stderr",
     "output_type": "stream",
     "text": [
      "Train batch number 99: 100%|██████████| 99/99 [00:26<00:00,  3.70batches/s]\n",
      "Test batch number 13: 100%|██████████| 13/13 [00:07<00:00,  1.81batches/s]\n"
     ]
    },
    {
     "name": "stdout",
     "output_type": "stream",
     "text": [
      "\n",
      "Metrics: {'train_loss': 0.10342408897298755, 'test_loss': 2.2285966873168945, 'bleu': 18.6861, 'gen_len': 9.4141}\n",
      "\n",
      "=============================\n",
      "\n"
     ]
    },
    {
     "name": "stderr",
     "output_type": "stream",
     "text": [
      " 13%|█▎        | 16/122 [09:29<1:03:20, 35.86s/it]"
     ]
    },
    {
     "name": "stdout",
     "output_type": "stream",
     "text": [
      "For epoch 22: \n",
      "{Learning rate: [0.003191558429392659]}\n"
     ]
    },
    {
     "name": "stderr",
     "output_type": "stream",
     "text": [
      "Train batch number 99: 100%|██████████| 99/99 [00:33<00:00,  2.91batches/s]\n",
      "Test batch number 13: 100%|██████████| 13/13 [00:06<00:00,  2.12batches/s]\n"
     ]
    },
    {
     "name": "stdout",
     "output_type": "stream",
     "text": [
      "\n",
      "Metrics: {'train_loss': 0.09584888447113711, 'test_loss': 2.200400847655076, 'bleu': 20.1457, 'gen_len': 9.3889}\n",
      "\n",
      "=============================\n",
      "\n"
     ]
    },
    {
     "name": "stderr",
     "output_type": "stream",
     "text": [
      " 14%|█▍        | 17/122 [10:12<1:06:37, 38.07s/it]"
     ]
    },
    {
     "name": "stdout",
     "output_type": "stream",
     "text": [
      "For epoch 23: \n",
      "{Learning rate: [0.003177708243774377]}\n"
     ]
    },
    {
     "name": "stderr",
     "output_type": "stream",
     "text": [
      "Train batch number 99: 100%|██████████| 99/99 [00:36<00:00,  2.74batches/s]\n",
      "Test batch number 13: 100%|██████████| 13/13 [00:07<00:00,  1.73batches/s]\n"
     ]
    },
    {
     "name": "stdout",
     "output_type": "stream",
     "text": [
      "\n",
      "Metrics: {'train_loss': 0.08547278000700353, 'test_loss': 2.182975879082313, 'bleu': 20.6599, 'gen_len': 9.5101}\n",
      "\n",
      "=============================\n",
      "\n"
     ]
    },
    {
     "name": "stderr",
     "output_type": "stream",
     "text": [
      " 15%|█▍        | 18/122 [11:02<1:12:16, 41.69s/it]"
     ]
    },
    {
     "name": "stdout",
     "output_type": "stream",
     "text": [
      "For epoch 24: \n",
      "{Learning rate: [0.003163858058156095]}\n"
     ]
    },
    {
     "name": "stderr",
     "output_type": "stream",
     "text": [
      "Train batch number 99: 100%|██████████| 99/99 [00:26<00:00,  3.72batches/s]\n",
      "Test batch number 13: 100%|██████████| 13/13 [00:06<00:00,  1.94batches/s]\n"
     ]
    },
    {
     "name": "stdout",
     "output_type": "stream",
     "text": [
      "\n",
      "Metrics: {'train_loss': 0.08674839014808337, 'test_loss': 2.201158147591811, 'bleu': 20.6014, 'gen_len': 9.5202}\n",
      "\n",
      "=============================\n",
      "\n"
     ]
    },
    {
     "name": "stderr",
     "output_type": "stream",
     "text": [
      " 16%|█▌        | 19/122 [11:41<1:10:09, 40.87s/it]"
     ]
    },
    {
     "name": "stdout",
     "output_type": "stream",
     "text": [
      "For epoch 25: \n",
      "{Learning rate: [0.0031500078725378126]}\n"
     ]
    },
    {
     "name": "stderr",
     "output_type": "stream",
     "text": [
      "Train batch number 99: 100%|██████████| 99/99 [00:28<00:00,  3.54batches/s]\n",
      "Test batch number 13: 100%|██████████| 13/13 [00:05<00:00,  2.55batches/s]\n"
     ]
    },
    {
     "name": "stdout",
     "output_type": "stream",
     "text": [
      "\n",
      "Metrics: {'train_loss': 0.08006433928103159, 'test_loss': 2.189663657775292, 'bleu': 21.9726, 'gen_len': 9.6263}\n",
      "\n",
      "=============================\n",
      "\n"
     ]
    },
    {
     "name": "stderr",
     "output_type": "stream",
     "text": [
      " 16%|█▋        | 20/122 [12:19<1:08:12, 40.12s/it]"
     ]
    },
    {
     "name": "stdout",
     "output_type": "stream",
     "text": [
      "For epoch 26: \n",
      "{Learning rate: [0.00313615768691953]}\n"
     ]
    },
    {
     "name": "stderr",
     "output_type": "stream",
     "text": [
      "Train batch number 99: 100%|██████████| 99/99 [00:22<00:00,  4.36batches/s]\n",
      "Test batch number 13: 100%|██████████| 13/13 [00:05<00:00,  2.28batches/s]\n"
     ]
    },
    {
     "name": "stdout",
     "output_type": "stream",
     "text": [
      "\n",
      "Metrics: {'train_loss': 0.074942310575885, 'test_loss': 2.242575397858253, 'bleu': 18.1428, 'gen_len': 9.1414}\n",
      "\n",
      "=============================\n",
      "\n"
     ]
    },
    {
     "name": "stderr",
     "output_type": "stream",
     "text": [
      " 17%|█▋        | 21/122 [12:51<1:03:14, 37.57s/it]"
     ]
    },
    {
     "name": "stdout",
     "output_type": "stream",
     "text": [
      "For epoch 27: \n",
      "{Learning rate: [0.003122307501301248]}\n"
     ]
    },
    {
     "name": "stderr",
     "output_type": "stream",
     "text": [
      "Train batch number 99: 100%|██████████| 99/99 [00:25<00:00,  3.95batches/s]\n",
      "Test batch number 13: 100%|██████████| 13/13 [00:07<00:00,  1.83batches/s]\n"
     ]
    },
    {
     "name": "stdout",
     "output_type": "stream",
     "text": [
      "\n",
      "Metrics: {'train_loss': 0.07548034115873202, 'test_loss': 2.227353600355295, 'bleu': 20.4372, 'gen_len': 9.3081}\n",
      "\n",
      "=============================\n",
      "\n"
     ]
    },
    {
     "name": "stderr",
     "output_type": "stream",
     "text": [
      " 18%|█▊        | 22/122 [13:27<1:01:38, 36.99s/it]"
     ]
    },
    {
     "name": "stdout",
     "output_type": "stream",
     "text": [
      "For epoch 28: \n",
      "{Learning rate: [0.0031084573156829657]}\n"
     ]
    },
    {
     "name": "stderr",
     "output_type": "stream",
     "text": [
      "Train batch number 99: 100%|██████████| 99/99 [00:28<00:00,  3.43batches/s]\n",
      "Test batch number 13: 100%|██████████| 13/13 [00:06<00:00,  2.13batches/s]\n"
     ]
    },
    {
     "name": "stdout",
     "output_type": "stream",
     "text": [
      "\n",
      "Metrics: {'train_loss': 0.07381596451982705, 'test_loss': 2.196975487929124, 'bleu': 19.3685, 'gen_len': 9.4949}\n",
      "\n",
      "=============================\n",
      "\n"
     ]
    },
    {
     "name": "stderr",
     "output_type": "stream",
     "text": [
      " 19%|█▉        | 23/122 [14:06<1:02:09, 37.67s/it]"
     ]
    },
    {
     "name": "stdout",
     "output_type": "stream",
     "text": [
      "For epoch 29: \n",
      "{Learning rate: [0.0030946071300646835]}\n"
     ]
    },
    {
     "name": "stderr",
     "output_type": "stream",
     "text": [
      "Train batch number 99: 100%|██████████| 99/99 [00:29<00:00,  3.40batches/s]\n",
      "Test batch number 13: 100%|██████████| 13/13 [00:08<00:00,  1.50batches/s]\n"
     ]
    },
    {
     "name": "stdout",
     "output_type": "stream",
     "text": [
      "\n",
      "Metrics: {'train_loss': 0.066446759295885, 'test_loss': 2.226946839919457, 'bleu': 19.7553, 'gen_len': 9.4293}\n",
      "\n",
      "=============================\n",
      "\n"
     ]
    },
    {
     "name": "stderr",
     "output_type": "stream",
     "text": [
      " 20%|█▉        | 24/122 [14:47<1:03:23, 38.81s/it]"
     ]
    },
    {
     "name": "stdout",
     "output_type": "stream",
     "text": [
      "For epoch 30: \n",
      "{Learning rate: [0.003080756944446401]}\n"
     ]
    },
    {
     "name": "stderr",
     "output_type": "stream",
     "text": [
      "Train batch number 99: 100%|██████████| 99/99 [00:24<00:00,  3.96batches/s]\n",
      "Test batch number 13: 100%|██████████| 13/13 [00:05<00:00,  2.43batches/s]\n"
     ]
    },
    {
     "name": "stdout",
     "output_type": "stream",
     "text": [
      "\n",
      "Metrics: {'train_loss': 0.060622522249968364, 'test_loss': 2.199988924540006, 'bleu': 19.5449, 'gen_len': 9.3384}\n",
      "\n",
      "=============================\n",
      "\n"
     ]
    },
    {
     "name": "stderr",
     "output_type": "stream",
     "text": [
      " 20%|██        | 25/122 [15:23<1:01:05, 37.79s/it]"
     ]
    },
    {
     "name": "stdout",
     "output_type": "stream",
     "text": [
      "For epoch 31: \n",
      "{Learning rate: [0.0030669067588281187]}\n"
     ]
    },
    {
     "name": "stderr",
     "output_type": "stream",
     "text": [
      "Train batch number 99: 100%|██████████| 99/99 [00:26<00:00,  3.75batches/s]\n",
      "Test batch number 13: 100%|██████████| 13/13 [00:08<00:00,  1.54batches/s]\n"
     ]
    },
    {
     "name": "stdout",
     "output_type": "stream",
     "text": [
      "\n",
      "Metrics: {'train_loss': 0.061456871585864006, 'test_loss': 2.1774585247039795, 'bleu': 20.6187, 'gen_len': 9.6566}\n",
      "\n",
      "=============================\n",
      "\n"
     ]
    },
    {
     "name": "stderr",
     "output_type": "stream",
     "text": [
      " 21%|██▏       | 26/122 [16:02<1:01:05, 38.18s/it]"
     ]
    },
    {
     "name": "stdout",
     "output_type": "stream",
     "text": [
      "For epoch 32: \n",
      "{Learning rate: [0.003053056573209836]}\n"
     ]
    },
    {
     "name": "stderr",
     "output_type": "stream",
     "text": [
      "Train batch number 99: 100%|██████████| 99/99 [00:26<00:00,  3.74batches/s]\n",
      "Test batch number 13: 100%|██████████| 13/13 [00:06<00:00,  1.96batches/s]\n"
     ]
    },
    {
     "name": "stdout",
     "output_type": "stream",
     "text": [
      "\n",
      "Metrics: {'train_loss': 0.058796913673480354, 'test_loss': 2.19261673780588, 'bleu': 20.6134, 'gen_len': 9.3434}\n",
      "\n",
      "=============================\n",
      "\n"
     ]
    },
    {
     "name": "stderr",
     "output_type": "stream",
     "text": [
      " 22%|██▏       | 27/122 [16:40<1:00:17, 38.08s/it]"
     ]
    },
    {
     "name": "stdout",
     "output_type": "stream",
     "text": [
      "For epoch 33: \n",
      "{Learning rate: [0.003039206387591554]}\n"
     ]
    },
    {
     "name": "stderr",
     "output_type": "stream",
     "text": [
      "Train batch number 99: 100%|██████████| 99/99 [00:31<00:00,  3.12batches/s]\n",
      "Test batch number 13: 100%|██████████| 13/13 [00:06<00:00,  1.99batches/s]\n"
     ]
    },
    {
     "name": "stdout",
     "output_type": "stream",
     "text": [
      "\n",
      "Metrics: {'train_loss': 0.057427124524808894, 'test_loss': 2.2077315770662747, 'bleu': 20.8069, 'gen_len': 9.4949}\n",
      "\n",
      "=============================\n",
      "\n"
     ]
    },
    {
     "name": "stderr",
     "output_type": "stream",
     "text": [
      " 23%|██▎       | 28/122 [17:22<1:01:28, 39.24s/it]"
     ]
    },
    {
     "name": "stdout",
     "output_type": "stream",
     "text": [
      "For epoch 34: \n",
      "{Learning rate: [0.0030253562019732718]}\n"
     ]
    },
    {
     "name": "stderr",
     "output_type": "stream",
     "text": [
      "Train batch number 99: 100%|██████████| 99/99 [00:29<00:00,  3.33batches/s]\n",
      "Test batch number 13: 100%|██████████| 13/13 [00:05<00:00,  2.55batches/s]\n"
     ]
    },
    {
     "name": "stdout",
     "output_type": "stream",
     "text": [
      "\n",
      "Metrics: {'train_loss': 0.04991561737889894, 'test_loss': 2.1987421054106493, 'bleu': 19.6335, 'gen_len': 9.7475}\n",
      "\n",
      "=============================\n",
      "\n"
     ]
    },
    {
     "name": "stderr",
     "output_type": "stream",
     "text": [
      " 24%|██▍       | 29/122 [18:00<1:00:24, 38.97s/it]"
     ]
    },
    {
     "name": "stdout",
     "output_type": "stream",
     "text": [
      "For epoch 35: \n",
      "{Learning rate: [0.0030115060163549896]}\n"
     ]
    },
    {
     "name": "stderr",
     "output_type": "stream",
     "text": [
      "Train batch number 99: 100%|██████████| 99/99 [00:25<00:00,  3.89batches/s]\n",
      "Test batch number 13: 100%|██████████| 13/13 [00:05<00:00,  2.31batches/s]\n"
     ]
    },
    {
     "name": "stdout",
     "output_type": "stream",
     "text": [
      "\n",
      "Metrics: {'train_loss': 0.05204053663394668, 'test_loss': 2.2428586941498976, 'bleu': 20.3433, 'gen_len': 9.2929}\n",
      "\n",
      "=============================\n",
      "\n"
     ]
    },
    {
     "name": "stderr",
     "output_type": "stream",
     "text": [
      " 25%|██▍       | 30/122 [18:34<57:37, 37.58s/it]  "
     ]
    },
    {
     "name": "stdout",
     "output_type": "stream",
     "text": [
      "For epoch 36: \n",
      "{Learning rate: [0.0029976558307367074]}\n"
     ]
    },
    {
     "name": "stderr",
     "output_type": "stream",
     "text": [
      "Train batch number 99: 100%|██████████| 99/99 [00:22<00:00,  4.37batches/s]\n",
      "Test batch number 13: 100%|██████████| 13/13 [00:05<00:00,  2.51batches/s]\n"
     ]
    },
    {
     "name": "stdout",
     "output_type": "stream",
     "text": [
      "\n",
      "Metrics: {'train_loss': 0.0488866726030605, 'test_loss': 2.2250558779789853, 'bleu': 21.715, 'gen_len': 9.596}\n",
      "\n",
      "=============================\n",
      "\n"
     ]
    },
    {
     "name": "stderr",
     "output_type": "stream",
     "text": [
      " 25%|██▌       | 31/122 [19:06<54:06, 35.68s/it]"
     ]
    },
    {
     "name": "stdout",
     "output_type": "stream",
     "text": [
      "For epoch 37: \n",
      "{Learning rate: [0.0029838056451184252]}\n"
     ]
    },
    {
     "name": "stderr",
     "output_type": "stream",
     "text": [
      "Train batch number 99: 100%|██████████| 99/99 [00:26<00:00,  3.75batches/s]\n",
      "Test batch number 13: 100%|██████████| 13/13 [00:06<00:00,  2.09batches/s]\n"
     ]
    },
    {
     "name": "stdout",
     "output_type": "stream",
     "text": [
      "\n",
      "Metrics: {'train_loss': 0.046485069471251486, 'test_loss': 2.2168383506628184, 'bleu': 20.867, 'gen_len': 9.6616}\n",
      "\n",
      "=============================\n",
      "\n"
     ]
    },
    {
     "name": "stderr",
     "output_type": "stream",
     "text": [
      " 26%|██▌       | 32/122 [19:42<53:39, 35.77s/it]"
     ]
    },
    {
     "name": "stdout",
     "output_type": "stream",
     "text": [
      "For epoch 38: \n",
      "{Learning rate: [0.002969955459500143]}\n"
     ]
    },
    {
     "name": "stderr",
     "output_type": "stream",
     "text": [
      "Train batch number 99: 100%|██████████| 99/99 [00:24<00:00,  4.05batches/s]\n",
      "Test batch number 13: 100%|██████████| 13/13 [00:05<00:00,  2.21batches/s]\n"
     ]
    },
    {
     "name": "stdout",
     "output_type": "stream",
     "text": [
      "\n",
      "Metrics: {'train_loss': 0.047054720308744545, 'test_loss': 2.2369931019269504, 'bleu': 20.9809, 'gen_len': 9.6616}\n",
      "\n",
      "=============================\n",
      "\n"
     ]
    },
    {
     "name": "stderr",
     "output_type": "stream",
     "text": [
      " 27%|██▋       | 33/122 [20:15<52:04, 35.10s/it]"
     ]
    },
    {
     "name": "stdout",
     "output_type": "stream",
     "text": [
      "For epoch 39: \n",
      "{Learning rate: [0.0029561052738818604]}\n"
     ]
    },
    {
     "name": "stderr",
     "output_type": "stream",
     "text": [
      "Train batch number 99: 100%|██████████| 99/99 [00:25<00:00,  3.84batches/s]\n",
      "Test batch number 13: 100%|██████████| 13/13 [00:05<00:00,  2.19batches/s]\n"
     ]
    },
    {
     "name": "stdout",
     "output_type": "stream",
     "text": [
      "\n",
      "Metrics: {'train_loss': 0.04347086257555268, 'test_loss': 2.2357619267243605, 'bleu': 20.1501, 'gen_len': 9.7121}\n",
      "\n",
      "=============================\n",
      "\n"
     ]
    },
    {
     "name": "stderr",
     "output_type": "stream",
     "text": [
      " 28%|██▊       | 34/122 [20:50<51:26, 35.07s/it]"
     ]
    },
    {
     "name": "stdout",
     "output_type": "stream",
     "text": [
      "For epoch 40: \n",
      "{Learning rate: [0.0029422550882635783]}\n"
     ]
    },
    {
     "name": "stderr",
     "output_type": "stream",
     "text": [
      "Train batch number 99: 100%|██████████| 99/99 [00:24<00:00,  4.04batches/s]\n",
      "Test batch number 13: 100%|██████████| 13/13 [00:05<00:00,  2.22batches/s]\n"
     ]
    },
    {
     "name": "stdout",
     "output_type": "stream",
     "text": [
      "\n",
      "Metrics: {'train_loss': 0.0454676179497531, 'test_loss': 2.233287811279297, 'bleu': 20.6662, 'gen_len': 9.5707}\n",
      "\n",
      "=============================\n",
      "\n"
     ]
    },
    {
     "name": "stderr",
     "output_type": "stream",
     "text": [
      " 29%|██▊       | 35/122 [21:24<50:21, 34.73s/it]"
     ]
    },
    {
     "name": "stdout",
     "output_type": "stream",
     "text": [
      "For epoch 41: \n",
      "{Learning rate: [0.002928404902645296]}\n"
     ]
    },
    {
     "name": "stderr",
     "output_type": "stream",
     "text": [
      "Train batch number 99: 100%|██████████| 99/99 [00:25<00:00,  3.85batches/s]\n",
      "Test batch number 13: 100%|██████████| 13/13 [00:06<00:00,  2.07batches/s]\n"
     ]
    },
    {
     "name": "stdout",
     "output_type": "stream",
     "text": [
      "\n",
      "Metrics: {'train_loss': 0.042304256940354605, 'test_loss': 2.194224916971647, 'bleu': 17.7442, 'gen_len': 9.5303}\n",
      "\n",
      "=============================\n",
      "\n"
     ]
    },
    {
     "name": "stderr",
     "output_type": "stream",
     "text": [
      " 30%|██▉       | 36/122 [21:59<49:55, 34.84s/it]"
     ]
    },
    {
     "name": "stdout",
     "output_type": "stream",
     "text": [
      "For epoch 42: \n",
      "{Learning rate: [0.002914554717027014]}\n"
     ]
    },
    {
     "name": "stderr",
     "output_type": "stream",
     "text": [
      "Train batch number 99: 100%|██████████| 99/99 [00:23<00:00,  4.15batches/s]\n",
      "Test batch number 13: 100%|██████████| 13/13 [00:05<00:00,  2.41batches/s]\n"
     ]
    },
    {
     "name": "stdout",
     "output_type": "stream",
     "text": [
      "\n",
      "Metrics: {'train_loss': 0.04145772787130842, 'test_loss': 2.2032681428469143, 'bleu': 19.3027, 'gen_len': 9.4242}\n",
      "\n",
      "=============================\n",
      "\n"
     ]
    },
    {
     "name": "stderr",
     "output_type": "stream",
     "text": [
      " 30%|███       | 37/122 [22:32<48:28, 34.21s/it]"
     ]
    },
    {
     "name": "stdout",
     "output_type": "stream",
     "text": [
      "For epoch 43: \n",
      "{Learning rate: [0.0029007045314087317]}\n"
     ]
    },
    {
     "name": "stderr",
     "output_type": "stream",
     "text": [
      "Train batch number 99: 100%|██████████| 99/99 [00:31<00:00,  3.10batches/s]\n",
      "Test batch number 13: 100%|██████████| 13/13 [00:05<00:00,  2.58batches/s]\n"
     ]
    },
    {
     "name": "stdout",
     "output_type": "stream",
     "text": [
      "\n",
      "Metrics: {'train_loss': 0.0383414284260285, 'test_loss': 2.208788752555847, 'bleu': 21.5648, 'gen_len': 9.5253}\n",
      "\n",
      "=============================\n",
      "\n"
     ]
    },
    {
     "name": "stderr",
     "output_type": "stream",
     "text": [
      " 31%|███       | 38/122 [23:12<50:21, 35.97s/it]"
     ]
    },
    {
     "name": "stdout",
     "output_type": "stream",
     "text": [
      "For epoch 44: \n",
      "{Learning rate: [0.0028868543457904496]}\n"
     ]
    },
    {
     "name": "stderr",
     "output_type": "stream",
     "text": [
      "Train batch number 99: 100%|██████████| 99/99 [00:23<00:00,  4.17batches/s]\n",
      "Test batch number 13: 100%|██████████| 13/13 [00:05<00:00,  2.19batches/s]\n"
     ]
    },
    {
     "name": "stdout",
     "output_type": "stream",
     "text": [
      "\n",
      "Metrics: {'train_loss': 0.03556553411269278, 'test_loss': 2.2359587596012998, 'bleu': 21.3376, 'gen_len': 9.6212}\n",
      "\n",
      "=============================\n",
      "\n"
     ]
    },
    {
     "name": "stderr",
     "output_type": "stream",
     "text": [
      " 32%|███▏      | 39/122 [23:45<48:28, 35.04s/it]"
     ]
    },
    {
     "name": "stdout",
     "output_type": "stream",
     "text": [
      "For epoch 45: \n",
      "{Learning rate: [0.0028730041601721674]}\n"
     ]
    },
    {
     "name": "stderr",
     "output_type": "stream",
     "text": [
      "Train batch number 99: 100%|██████████| 99/99 [00:23<00:00,  4.24batches/s]\n",
      "Test batch number 13: 100%|██████████| 13/13 [00:05<00:00,  2.33batches/s]\n"
     ]
    },
    {
     "name": "stdout",
     "output_type": "stream",
     "text": [
      "\n",
      "Metrics: {'train_loss': 0.03845660523934798, 'test_loss': 2.2468133247815647, 'bleu': 22.0728, 'gen_len': 9.3889}\n",
      "\n",
      "=============================\n",
      "\n"
     ]
    },
    {
     "name": "stderr",
     "output_type": "stream",
     "text": [
      " 33%|███▎      | 40/122 [24:19<47:32, 34.78s/it]"
     ]
    },
    {
     "name": "stdout",
     "output_type": "stream",
     "text": [
      "For epoch 46: \n",
      "{Learning rate: [0.0028591539745538848]}\n"
     ]
    },
    {
     "name": "stderr",
     "output_type": "stream",
     "text": [
      "Train batch number 99: 100%|██████████| 99/99 [00:21<00:00,  4.64batches/s]\n",
      "Test batch number 13: 100%|██████████| 13/13 [00:04<00:00,  2.75batches/s]\n"
     ]
    },
    {
     "name": "stdout",
     "output_type": "stream",
     "text": [
      "\n",
      "Metrics: {'train_loss': 0.03750477861989327, 'test_loss': 2.2535317035821767, 'bleu': 20.1395, 'gen_len': 9.404}\n",
      "\n",
      "=============================\n",
      "\n"
     ]
    },
    {
     "name": "stderr",
     "output_type": "stream",
     "text": [
      " 34%|███▎      | 41/122 [24:48<44:40, 33.09s/it]"
     ]
    },
    {
     "name": "stdout",
     "output_type": "stream",
     "text": [
      "For epoch 47: \n",
      "{Learning rate: [0.0028453037889356026]}\n"
     ]
    },
    {
     "name": "stderr",
     "output_type": "stream",
     "text": [
      "Train batch number 99: 100%|██████████| 99/99 [00:22<00:00,  4.31batches/s]\n",
      "Test batch number 13: 100%|██████████| 13/13 [00:04<00:00,  2.85batches/s]\n"
     ]
    },
    {
     "name": "stdout",
     "output_type": "stream",
     "text": [
      "\n",
      "Metrics: {'train_loss': 0.03374190109245705, 'test_loss': 2.239562355555021, 'bleu': 20.4317, 'gen_len': 9.6566}\n",
      "\n",
      "=============================\n",
      "\n"
     ]
    },
    {
     "name": "stderr",
     "output_type": "stream",
     "text": [
      " 34%|███▍      | 42/122 [25:19<43:09, 32.37s/it]"
     ]
    },
    {
     "name": "stdout",
     "output_type": "stream",
     "text": [
      "For epoch 48: \n",
      "{Learning rate: [0.0028314536033173204]}\n"
     ]
    },
    {
     "name": "stderr",
     "output_type": "stream",
     "text": [
      "Train batch number 99: 100%|██████████| 99/99 [00:23<00:00,  4.21batches/s]\n",
      "Test batch number 13: 100%|██████████| 13/13 [00:06<00:00,  2.16batches/s]\n"
     ]
    },
    {
     "name": "stdout",
     "output_type": "stream",
     "text": [
      "\n",
      "Metrics: {'train_loss': 0.031780182520360356, 'test_loss': 2.2439228021181545, 'bleu': 19.6117, 'gen_len': 9.5051}\n",
      "\n",
      "=============================\n",
      "\n"
     ]
    },
    {
     "name": "stderr",
     "output_type": "stream",
     "text": [
      " 35%|███▌      | 43/122 [25:52<42:53, 32.58s/it]"
     ]
    },
    {
     "name": "stdout",
     "output_type": "stream",
     "text": [
      "For epoch 49: \n",
      "{Learning rate: [0.002817603417699038]}\n"
     ]
    },
    {
     "name": "stderr",
     "output_type": "stream",
     "text": [
      "Train batch number 99: 100%|██████████| 99/99 [00:24<00:00,  4.08batches/s]\n",
      "Test batch number 13: 100%|██████████| 13/13 [00:05<00:00,  2.50batches/s]\n"
     ]
    },
    {
     "name": "stdout",
     "output_type": "stream",
     "text": [
      "\n",
      "Metrics: {'train_loss': 0.030644352848857942, 'test_loss': 2.2337800906254697, 'bleu': 20.503, 'gen_len': 9.3485}\n",
      "\n",
      "=============================\n",
      "\n"
     ]
    },
    {
     "name": "stderr",
     "output_type": "stream",
     "text": [
      " 36%|███▌      | 44/122 [26:25<42:20, 32.57s/it]"
     ]
    },
    {
     "name": "stdout",
     "output_type": "stream",
     "text": [
      "For epoch 50: \n",
      "{Learning rate: [0.0028037532320807556]}\n"
     ]
    },
    {
     "name": "stderr",
     "output_type": "stream",
     "text": [
      "Train batch number 99: 100%|██████████| 99/99 [00:22<00:00,  4.43batches/s]\n",
      "Test batch number 13: 100%|██████████| 13/13 [00:05<00:00,  2.47batches/s]\n"
     ]
    },
    {
     "name": "stdout",
     "output_type": "stream",
     "text": [
      "\n",
      "Metrics: {'train_loss': 0.03196859295771579, 'test_loss': 2.2281769880881677, 'bleu': 20.0451, 'gen_len': 9.697}\n",
      "\n",
      "=============================\n",
      "\n"
     ]
    },
    {
     "name": "stderr",
     "output_type": "stream",
     "text": [
      " 37%|███▋      | 45/122 [26:55<41:02, 31.98s/it]"
     ]
    },
    {
     "name": "stdout",
     "output_type": "stream",
     "text": [
      "For epoch 51: \n",
      "{Learning rate: [0.0027899030464624735]}\n"
     ]
    },
    {
     "name": "stderr",
     "output_type": "stream",
     "text": [
      "Train batch number 99: 100%|██████████| 99/99 [00:22<00:00,  4.32batches/s]\n",
      "Test batch number 13: 100%|██████████| 13/13 [00:05<00:00,  2.49batches/s]\n"
     ]
    },
    {
     "name": "stdout",
     "output_type": "stream",
     "text": [
      "\n",
      "Metrics: {'train_loss': 0.0350516341024577, 'test_loss': 2.271146535873413, 'bleu': 21.2857, 'gen_len': 9.3333}\n",
      "\n",
      "=============================\n",
      "\n"
     ]
    },
    {
     "name": "stderr",
     "output_type": "stream",
     "text": [
      " 38%|███▊      | 46/122 [27:26<40:09, 31.71s/it]"
     ]
    },
    {
     "name": "stdout",
     "output_type": "stream",
     "text": [
      "For epoch 52: \n",
      "{Learning rate: [0.0027760528608441913]}\n"
     ]
    },
    {
     "name": "stderr",
     "output_type": "stream",
     "text": [
      "Train batch number 99: 100%|██████████| 99/99 [00:28<00:00,  3.50batches/s]\n",
      "Test batch number 13: 100%|██████████| 13/13 [00:05<00:00,  2.30batches/s]\n"
     ]
    },
    {
     "name": "stdout",
     "output_type": "stream",
     "text": [
      "\n",
      "Metrics: {'train_loss': 0.028804022847025684, 'test_loss': 2.2446553890521708, 'bleu': 21.0804, 'gen_len': 9.3889}\n",
      "\n",
      "=============================\n",
      "\n"
     ]
    },
    {
     "name": "stderr",
     "output_type": "stream",
     "text": [
      " 39%|███▊      | 47/122 [28:03<41:37, 33.30s/it]"
     ]
    },
    {
     "name": "stdout",
     "output_type": "stream",
     "text": [
      "For epoch 53: \n",
      "{Learning rate: [0.0027622026752259087]}\n"
     ]
    },
    {
     "name": "stderr",
     "output_type": "stream",
     "text": [
      "Train batch number 99: 100%|██████████| 99/99 [00:24<00:00,  4.12batches/s]\n",
      "Test batch number 13: 100%|██████████| 13/13 [00:05<00:00,  2.57batches/s]\n"
     ]
    },
    {
     "name": "stdout",
     "output_type": "stream",
     "text": [
      "\n",
      "Metrics: {'train_loss': 0.03135137765602482, 'test_loss': 2.2255973724218516, 'bleu': 21.9561, 'gen_len': 9.3232}\n",
      "\n",
      "=============================\n",
      "\n"
     ]
    },
    {
     "name": "stderr",
     "output_type": "stream",
     "text": [
      " 39%|███▉      | 48/122 [28:35<40:35, 32.92s/it]"
     ]
    },
    {
     "name": "stdout",
     "output_type": "stream",
     "text": [
      "For epoch 54: \n",
      "{Learning rate: [0.0027483524896076265]}\n"
     ]
    },
    {
     "name": "stderr",
     "output_type": "stream",
     "text": [
      "Train batch number 99: 100%|██████████| 99/99 [00:22<00:00,  4.46batches/s]\n",
      "Test batch number 13: 100%|██████████| 13/13 [00:05<00:00,  2.45batches/s]\n"
     ]
    },
    {
     "name": "stdout",
     "output_type": "stream",
     "text": [
      "\n",
      "Metrics: {'train_loss': 0.02851796681249533, 'test_loss': 2.248774400124183, 'bleu': 20.166, 'gen_len': 9.596}\n",
      "\n",
      "=============================\n",
      "\n"
     ]
    },
    {
     "name": "stderr",
     "output_type": "stream",
     "text": [
      " 40%|████      | 49/122 [29:06<39:17, 32.29s/it]"
     ]
    },
    {
     "name": "stdout",
     "output_type": "stream",
     "text": [
      "For epoch 55: \n",
      "{Learning rate: [0.0027345023039893443]}\n"
     ]
    },
    {
     "name": "stderr",
     "output_type": "stream",
     "text": [
      "Train batch number 99: 100%|██████████| 99/99 [00:23<00:00,  4.20batches/s]\n",
      "Test batch number 13: 100%|██████████| 13/13 [00:04<00:00,  2.80batches/s]\n"
     ]
    },
    {
     "name": "stdout",
     "output_type": "stream",
     "text": [
      "\n",
      "Metrics: {'train_loss': 0.02642656374026579, 'test_loss': 2.27465636913593, 'bleu': 20.9986, 'gen_len': 9.4697}\n",
      "\n",
      "=============================\n",
      "\n"
     ]
    },
    {
     "name": "stderr",
     "output_type": "stream",
     "text": [
      " 41%|████      | 50/122 [29:37<38:22, 31.98s/it]"
     ]
    },
    {
     "name": "stdout",
     "output_type": "stream",
     "text": [
      "For epoch 56: \n",
      "{Learning rate: [0.002720652118371062]}\n"
     ]
    },
    {
     "name": "stderr",
     "output_type": "stream",
     "text": [
      "Train batch number 99: 100%|██████████| 99/99 [00:25<00:00,  3.93batches/s]\n",
      "Test batch number 13: 100%|██████████| 13/13 [00:05<00:00,  2.43batches/s]\n"
     ]
    },
    {
     "name": "stdout",
     "output_type": "stream",
     "text": [
      "\n",
      "Metrics: {'train_loss': 0.02432988757606257, 'test_loss': 2.221527631466205, 'bleu': 20.3408, 'gen_len': 9.3434}\n",
      "\n",
      "=============================\n",
      "\n"
     ]
    },
    {
     "name": "stderr",
     "output_type": "stream",
     "text": [
      " 42%|████▏     | 51/122 [30:11<38:28, 32.52s/it]"
     ]
    },
    {
     "name": "stdout",
     "output_type": "stream",
     "text": [
      "For epoch 57: \n",
      "{Learning rate: [0.00270680193275278]}\n"
     ]
    },
    {
     "name": "stderr",
     "output_type": "stream",
     "text": [
      "Train batch number 99: 100%|██████████| 99/99 [00:21<00:00,  4.52batches/s]\n",
      "Test batch number 13: 100%|██████████| 13/13 [00:05<00:00,  2.48batches/s]\n"
     ]
    },
    {
     "name": "stdout",
     "output_type": "stream",
     "text": [
      "\n",
      "Metrics: {'train_loss': 0.02808092049595834, 'test_loss': 2.2317457657593947, 'bleu': 21.7491, 'gen_len': 9.5303}\n",
      "\n",
      "=============================\n",
      "\n"
     ]
    },
    {
     "name": "stderr",
     "output_type": "stream",
     "text": [
      " 43%|████▎     | 52/122 [30:41<37:08, 31.83s/it]"
     ]
    },
    {
     "name": "stdout",
     "output_type": "stream",
     "text": [
      "For epoch 58: \n",
      "{Learning rate: [0.002692951747134498]}\n"
     ]
    },
    {
     "name": "stderr",
     "output_type": "stream",
     "text": [
      "Train batch number 99: 100%|██████████| 99/99 [00:22<00:00,  4.31batches/s]\n",
      "Test batch number 13: 100%|██████████| 13/13 [00:05<00:00,  2.32batches/s]\n"
     ]
    },
    {
     "name": "stdout",
     "output_type": "stream",
     "text": [
      "\n",
      "Metrics: {'train_loss': 0.027680532376498285, 'test_loss': 2.257093062767616, 'bleu': 21.0869, 'gen_len': 9.5303}\n",
      "\n",
      "=============================\n",
      "\n"
     ]
    },
    {
     "name": "stderr",
     "output_type": "stream",
     "text": [
      " 43%|████▎     | 53/122 [31:13<36:39, 31.87s/it]"
     ]
    },
    {
     "name": "stdout",
     "output_type": "stream",
     "text": [
      "For epoch 59: \n",
      "{Learning rate: [0.0026791015615162156]}\n"
     ]
    },
    {
     "name": "stderr",
     "output_type": "stream",
     "text": [
      "Train batch number 99: 100%|██████████| 99/99 [00:24<00:00,  4.00batches/s]\n",
      "Test batch number 13: 100%|██████████| 13/13 [00:04<00:00,  2.61batches/s]\n"
     ]
    },
    {
     "name": "stdout",
     "output_type": "stream",
     "text": [
      "\n",
      "Metrics: {'train_loss': 0.02801472878064772, 'test_loss': 2.250046289884127, 'bleu': 21.3146, 'gen_len': 9.6162}\n",
      "\n",
      "=============================\n",
      "\n"
     ]
    },
    {
     "name": "stderr",
     "output_type": "stream",
     "text": [
      " 44%|████▍     | 54/122 [31:46<36:30, 32.22s/it]"
     ]
    },
    {
     "name": "stdout",
     "output_type": "stream",
     "text": [
      "For epoch 60: \n",
      "{Learning rate: [0.002665251375897933]}\n"
     ]
    },
    {
     "name": "stderr",
     "output_type": "stream",
     "text": [
      "Train batch number 99: 100%|██████████| 99/99 [00:22<00:00,  4.39batches/s]\n",
      "Test batch number 13: 100%|██████████| 13/13 [00:05<00:00,  2.53batches/s]\n"
     ]
    },
    {
     "name": "stdout",
     "output_type": "stream",
     "text": [
      "\n",
      "Metrics: {'train_loss': 0.024948762489877867, 'test_loss': 2.289742873265193, 'bleu': 20.5081, 'gen_len': 9.4495}\n",
      "\n",
      "=============================\n",
      "\n"
     ]
    },
    {
     "name": "stderr",
     "output_type": "stream",
     "text": [
      " 45%|████▌     | 55/122 [32:18<35:38, 31.92s/it]"
     ]
    },
    {
     "name": "stdout",
     "output_type": "stream",
     "text": [
      "For epoch 61: \n",
      "{Learning rate: [0.002651401190279651]}\n"
     ]
    },
    {
     "name": "stderr",
     "output_type": "stream",
     "text": [
      "Train batch number 99: 100%|██████████| 99/99 [00:21<00:00,  4.65batches/s]\n",
      "Test batch number 13: 100%|██████████| 13/13 [00:04<00:00,  2.94batches/s]\n"
     ]
    },
    {
     "name": "stdout",
     "output_type": "stream",
     "text": [
      "\n",
      "Metrics: {'train_loss': 0.02701677857531291, 'test_loss': 2.2771035066017737, 'bleu': 21.4309, 'gen_len': 9.3131}\n",
      "\n",
      "=============================\n",
      "\n"
     ]
    },
    {
     "name": "stderr",
     "output_type": "stream",
     "text": [
      " 46%|████▌     | 56/122 [32:46<34:03, 30.97s/it]"
     ]
    },
    {
     "name": "stdout",
     "output_type": "stream",
     "text": [
      "For epoch 62: \n",
      "{Learning rate: [0.0026375510046613686]}\n"
     ]
    },
    {
     "name": "stderr",
     "output_type": "stream",
     "text": [
      "Train batch number 99: 100%|██████████| 99/99 [00:20<00:00,  4.75batches/s]\n",
      "Test batch number 13: 100%|██████████| 13/13 [00:04<00:00,  2.76batches/s]\n"
     ]
    },
    {
     "name": "stdout",
     "output_type": "stream",
     "text": [
      "\n",
      "Metrics: {'train_loss': 0.026102906521033458, 'test_loss': 2.2308499262883115, 'bleu': 21.3759, 'gen_len': 9.6667}\n",
      "\n",
      "=============================\n",
      "\n"
     ]
    },
    {
     "name": "stderr",
     "output_type": "stream",
     "text": [
      " 47%|████▋     | 57/122 [33:15<32:47, 30.27s/it]"
     ]
    },
    {
     "name": "stdout",
     "output_type": "stream",
     "text": [
      "For epoch 63: \n",
      "{Learning rate: [0.0026237008190430865]}\n"
     ]
    },
    {
     "name": "stderr",
     "output_type": "stream",
     "text": [
      "Train batch number 99: 100%|██████████| 99/99 [00:20<00:00,  4.75batches/s]\n",
      "Test batch number 13: 100%|██████████| 13/13 [00:04<00:00,  2.71batches/s]\n"
     ]
    },
    {
     "name": "stdout",
     "output_type": "stream",
     "text": [
      "\n",
      "Metrics: {'train_loss': 0.02363818370257363, 'test_loss': 2.2441750214650082, 'bleu': 21.7782, 'gen_len': 9.3081}\n",
      "\n",
      "=============================\n",
      "\n"
     ]
    },
    {
     "name": "stderr",
     "output_type": "stream",
     "text": [
      " 48%|████▊     | 58/122 [33:44<31:45, 29.77s/it]"
     ]
    },
    {
     "name": "stdout",
     "output_type": "stream",
     "text": [
      "For epoch 64: \n",
      "{Learning rate: [0.0026098506334248043]}\n"
     ]
    },
    {
     "name": "stderr",
     "output_type": "stream",
     "text": [
      "Train batch number 99: 100%|██████████| 99/99 [00:21<00:00,  4.70batches/s]\n",
      "Test batch number 13: 100%|██████████| 13/13 [00:05<00:00,  2.54batches/s]\n"
     ]
    },
    {
     "name": "stdout",
     "output_type": "stream",
     "text": [
      "\n",
      "Metrics: {'train_loss': 0.0239048487826655, 'test_loss': 2.2554349715893087, 'bleu': 22.0108, 'gen_len': 9.6465}\n",
      "\n",
      "=============================\n",
      "\n"
     ]
    },
    {
     "name": "stderr",
     "output_type": "stream",
     "text": [
      " 48%|████▊     | 59/122 [34:13<31:02, 29.57s/it]"
     ]
    },
    {
     "name": "stdout",
     "output_type": "stream",
     "text": [
      "For epoch 65: \n",
      "{Learning rate: [0.002596000447806522]}\n"
     ]
    },
    {
     "name": "stderr",
     "output_type": "stream",
     "text": [
      "Train batch number 99: 100%|██████████| 99/99 [00:22<00:00,  4.46batches/s]\n",
      "Test batch number 13: 100%|██████████| 13/13 [00:05<00:00,  2.54batches/s]\n"
     ]
    },
    {
     "name": "stdout",
     "output_type": "stream",
     "text": [
      "\n",
      "Metrics: {'train_loss': 0.023746710468196507, 'test_loss': 2.2621800349308896, 'bleu': 22.3642, 'gen_len': 9.3131}\n",
      "\n",
      "=============================\n",
      "\n"
     ]
    },
    {
     "name": "stderr",
     "output_type": "stream",
     "text": [
      " 49%|████▉     | 60/122 [34:45<31:24, 30.39s/it]"
     ]
    },
    {
     "name": "stdout",
     "output_type": "stream",
     "text": [
      "For epoch 66: \n",
      "{Learning rate: [0.00258215026218824]}\n"
     ]
    },
    {
     "name": "stderr",
     "output_type": "stream",
     "text": [
      "Train batch number 99: 100%|██████████| 99/99 [00:22<00:00,  4.42batches/s]\n",
      "Test batch number 13: 100%|██████████| 13/13 [00:04<00:00,  2.61batches/s]\n"
     ]
    },
    {
     "name": "stdout",
     "output_type": "stream",
     "text": [
      "\n",
      "Metrics: {'train_loss': 0.021856817635566447, 'test_loss': 2.284879436859718, 'bleu': 20.5038, 'gen_len': 9.4343}\n",
      "\n",
      "=============================\n",
      "\n"
     ]
    },
    {
     "name": "stderr",
     "output_type": "stream",
     "text": [
      " 50%|█████     | 61/122 [35:15<30:54, 30.40s/it]"
     ]
    },
    {
     "name": "stdout",
     "output_type": "stream",
     "text": [
      "For epoch 67: \n",
      "{Learning rate: [0.0025683000765699573]}\n"
     ]
    },
    {
     "name": "stderr",
     "output_type": "stream",
     "text": [
      "Train batch number 99: 100%|██████████| 99/99 [00:21<00:00,  4.69batches/s]\n",
      "Test batch number 13: 100%|██████████| 13/13 [00:04<00:00,  2.91batches/s]\n"
     ]
    },
    {
     "name": "stdout",
     "output_type": "stream",
     "text": [
      "\n",
      "Metrics: {'train_loss': 0.02223118500680559, 'test_loss': 2.290794986944932, 'bleu': 21.3079, 'gen_len': 9.4394}\n",
      "\n",
      "=============================\n",
      "\n"
     ]
    },
    {
     "name": "stderr",
     "output_type": "stream",
     "text": [
      " 51%|█████     | 62/122 [35:44<29:49, 29.83s/it]"
     ]
    },
    {
     "name": "stdout",
     "output_type": "stream",
     "text": [
      "For epoch 68: \n",
      "{Learning rate: [0.0025544498909516747]}\n"
     ]
    },
    {
     "name": "stderr",
     "output_type": "stream",
     "text": [
      "Train batch number 99: 100%|██████████| 99/99 [00:24<00:00,  4.08batches/s]\n",
      "Test batch number 13: 100%|██████████| 13/13 [00:04<00:00,  2.61batches/s]\n"
     ]
    },
    {
     "name": "stdout",
     "output_type": "stream",
     "text": [
      "\n",
      "Metrics: {'train_loss': 0.022473456465046514, 'test_loss': 2.253375374353849, 'bleu': 20.8232, 'gen_len': 9.4596}\n",
      "\n",
      "=============================\n",
      "\n"
     ]
    },
    {
     "name": "stderr",
     "output_type": "stream",
     "text": [
      " 52%|█████▏    | 63/122 [36:16<29:59, 30.50s/it]"
     ]
    },
    {
     "name": "stdout",
     "output_type": "stream",
     "text": [
      "For epoch 69: \n",
      "{Learning rate: [0.0025405997053333925]}\n"
     ]
    },
    {
     "name": "stderr",
     "output_type": "stream",
     "text": [
      "Train batch number 99: 100%|██████████| 99/99 [00:22<00:00,  4.33batches/s]\n",
      "Test batch number 13: 100%|██████████| 13/13 [00:04<00:00,  2.70batches/s]\n"
     ]
    },
    {
     "name": "stdout",
     "output_type": "stream",
     "text": [
      "\n",
      "Metrics: {'train_loss': 0.021848232012637185, 'test_loss': 2.273222226362962, 'bleu': 22.3295, 'gen_len': 9.5}\n",
      "\n",
      "=============================\n",
      "\n"
     ]
    },
    {
     "name": "stderr",
     "output_type": "stream",
     "text": [
      " 52%|█████▏    | 64/122 [36:46<29:29, 30.51s/it]"
     ]
    },
    {
     "name": "stdout",
     "output_type": "stream",
     "text": [
      "For epoch 70: \n",
      "{Learning rate: [0.0025267495197151104]}\n"
     ]
    },
    {
     "name": "stderr",
     "output_type": "stream",
     "text": [
      "Train batch number 99: 100%|██████████| 99/99 [00:22<00:00,  4.46batches/s]\n",
      "Test batch number 13: 100%|██████████| 13/13 [00:04<00:00,  2.75batches/s]\n"
     ]
    },
    {
     "name": "stdout",
     "output_type": "stream",
     "text": [
      "\n",
      "Metrics: {'train_loss': 0.02585628916594115, 'test_loss': 2.2503560964877787, 'bleu': 21.3727, 'gen_len': 9.2626}\n",
      "\n",
      "=============================\n",
      "\n"
     ]
    },
    {
     "name": "stderr",
     "output_type": "stream",
     "text": [
      " 53%|█████▎    | 65/122 [37:16<28:50, 30.35s/it]"
     ]
    },
    {
     "name": "stdout",
     "output_type": "stream",
     "text": [
      "For epoch 71: \n",
      "{Learning rate: [0.002512899334096828]}\n"
     ]
    },
    {
     "name": "stderr",
     "output_type": "stream",
     "text": [
      "Train batch number 99: 100%|██████████| 99/99 [00:21<00:00,  4.53batches/s]\n",
      "Test batch number 13: 100%|██████████| 13/13 [00:04<00:00,  2.80batches/s]\n"
     ]
    },
    {
     "name": "stdout",
     "output_type": "stream",
     "text": [
      "\n",
      "Metrics: {'train_loss': 0.021700816840460203, 'test_loss': 2.24603519989894, 'bleu': 21.4576, 'gen_len': 9.4596}\n",
      "\n",
      "=============================\n",
      "\n"
     ]
    },
    {
     "name": "stderr",
     "output_type": "stream",
     "text": [
      " 54%|█████▍    | 66/122 [37:46<28:05, 30.10s/it]"
     ]
    },
    {
     "name": "stdout",
     "output_type": "stream",
     "text": [
      "For epoch 72: \n",
      "{Learning rate: [0.002499049148478546]}\n"
     ]
    },
    {
     "name": "stderr",
     "output_type": "stream",
     "text": [
      "Train batch number 99: 100%|██████████| 99/99 [00:22<00:00,  4.50batches/s]\n",
      "Test batch number 13: 100%|██████████| 13/13 [00:04<00:00,  2.72batches/s]\n"
     ]
    },
    {
     "name": "stdout",
     "output_type": "stream",
     "text": [
      "\n",
      "Metrics: {'train_loss': 0.021545363216181144, 'test_loss': 2.2591753739577074, 'bleu': 21.8992, 'gen_len': 9.4949}\n",
      "\n",
      "=============================\n",
      "\n"
     ]
    },
    {
     "name": "stderr",
     "output_type": "stream",
     "text": [
      " 55%|█████▍    | 67/122 [38:16<27:32, 30.05s/it]"
     ]
    },
    {
     "name": "stdout",
     "output_type": "stream",
     "text": [
      "For epoch 73: \n",
      "{Learning rate: [0.002485198962860264]}\n"
     ]
    },
    {
     "name": "stderr",
     "output_type": "stream",
     "text": [
      "Train batch number 99: 100%|██████████| 99/99 [00:22<00:00,  4.48batches/s]\n",
      "Test batch number 13: 100%|██████████| 13/13 [00:05<00:00,  2.48batches/s]\n"
     ]
    },
    {
     "name": "stdout",
     "output_type": "stream",
     "text": [
      "\n",
      "Metrics: {'train_loss': 0.020552795542629832, 'test_loss': 2.244844537514907, 'bleu': 22.2294, 'gen_len': 9.5253}\n",
      "\n",
      "=============================\n",
      "\n"
     ]
    },
    {
     "name": "stderr",
     "output_type": "stream",
     "text": [
      " 56%|█████▌    | 68/122 [38:46<27:07, 30.13s/it]"
     ]
    },
    {
     "name": "stdout",
     "output_type": "stream",
     "text": [
      "For epoch 74: \n",
      "{Learning rate: [0.0024713487772419812]}\n"
     ]
    },
    {
     "name": "stderr",
     "output_type": "stream",
     "text": [
      "Train batch number 99: 100%|██████████| 99/99 [00:21<00:00,  4.57batches/s]\n",
      "Test batch number 13: 100%|██████████| 13/13 [00:04<00:00,  2.65batches/s]\n"
     ]
    },
    {
     "name": "stdout",
     "output_type": "stream",
     "text": [
      "\n",
      "Metrics: {'train_loss': 0.017962190468391082, 'test_loss': 2.2803817987442017, 'bleu': 20.0572, 'gen_len': 9.4949}\n",
      "\n",
      "=============================\n",
      "\n"
     ]
    },
    {
     "name": "stderr",
     "output_type": "stream",
     "text": [
      " 57%|█████▋    | 69/122 [39:16<26:32, 30.06s/it]"
     ]
    },
    {
     "name": "stdout",
     "output_type": "stream",
     "text": [
      "For epoch 75: \n",
      "{Learning rate: [0.002457498591623699]}\n"
     ]
    },
    {
     "name": "stderr",
     "output_type": "stream",
     "text": [
      "Train batch number 99: 100%|██████████| 99/99 [00:20<00:00,  4.90batches/s]\n",
      "Test batch number 13: 100%|██████████| 13/13 [00:05<00:00,  2.57batches/s]\n"
     ]
    },
    {
     "name": "stdout",
     "output_type": "stream",
     "text": [
      "\n",
      "Metrics: {'train_loss': 0.0189257935183405, 'test_loss': 2.2757431727189283, 'bleu': 21.9452, 'gen_len': 9.5354}\n",
      "\n",
      "=============================\n",
      "\n"
     ]
    },
    {
     "name": "stderr",
     "output_type": "stream",
     "text": [
      " 57%|█████▋    | 70/122 [39:44<25:35, 29.52s/it]"
     ]
    },
    {
     "name": "stdout",
     "output_type": "stream",
     "text": [
      "For epoch 76: \n",
      "{Learning rate: [0.002443648406005417]}\n"
     ]
    },
    {
     "name": "stderr",
     "output_type": "stream",
     "text": [
      "Train batch number 99: 100%|██████████| 99/99 [00:21<00:00,  4.66batches/s]\n",
      "Test batch number 13: 100%|██████████| 13/13 [00:04<00:00,  2.79batches/s]\n"
     ]
    },
    {
     "name": "stdout",
     "output_type": "stream",
     "text": [
      "\n",
      "Metrics: {'train_loss': 0.02076320659905446, 'test_loss': 2.2422149914961595, 'bleu': 21.4099, 'gen_len': 9.3687}\n",
      "\n",
      "=============================\n",
      "\n"
     ]
    },
    {
     "name": "stderr",
     "output_type": "stream",
     "text": [
      " 58%|█████▊    | 71/122 [40:13<24:54, 29.31s/it]"
     ]
    },
    {
     "name": "stdout",
     "output_type": "stream",
     "text": [
      "For epoch 77: \n",
      "{Learning rate: [0.0024297982203871347]}\n"
     ]
    },
    {
     "name": "stderr",
     "output_type": "stream",
     "text": [
      "Train batch number 99: 100%|██████████| 99/99 [00:20<00:00,  4.95batches/s]\n",
      "Test batch number 13: 100%|██████████| 13/13 [00:04<00:00,  2.82batches/s]\n"
     ]
    },
    {
     "name": "stdout",
     "output_type": "stream",
     "text": [
      "\n",
      "Metrics: {'train_loss': 0.01871589110279926, 'test_loss': 2.2535196451040416, 'bleu': 21.3314, 'gen_len': 9.3636}\n",
      "\n",
      "=============================\n",
      "\n"
     ]
    },
    {
     "name": "stderr",
     "output_type": "stream",
     "text": [
      " 59%|█████▉    | 72/122 [40:41<24:02, 28.86s/it]"
     ]
    },
    {
     "name": "stdout",
     "output_type": "stream",
     "text": [
      "For epoch 78: \n",
      "{Learning rate: [0.0024159480347688525]}\n"
     ]
    },
    {
     "name": "stderr",
     "output_type": "stream",
     "text": [
      "Train batch number 99: 100%|██████████| 99/99 [00:20<00:00,  4.87batches/s]\n",
      "Test batch number 13: 100%|██████████| 13/13 [00:04<00:00,  2.93batches/s]\n"
     ]
    },
    {
     "name": "stdout",
     "output_type": "stream",
     "text": [
      "\n",
      "Metrics: {'train_loss': 0.01737468634177037, 'test_loss': 2.270429198558514, 'bleu': 21.6195, 'gen_len': 9.4343}\n",
      "\n",
      "=============================\n",
      "\n"
     ]
    },
    {
     "name": "stderr",
     "output_type": "stream",
     "text": [
      " 60%|█████▉    | 73/122 [41:09<23:21, 28.60s/it]"
     ]
    },
    {
     "name": "stdout",
     "output_type": "stream",
     "text": [
      "For epoch 79: \n",
      "{Learning rate: [0.0024020978491505703]}\n"
     ]
    },
    {
     "name": "stderr",
     "output_type": "stream",
     "text": [
      "Train batch number 99: 100%|██████████| 99/99 [00:21<00:00,  4.60batches/s]\n",
      "Test batch number 13: 100%|██████████| 13/13 [00:05<00:00,  2.52batches/s]\n"
     ]
    },
    {
     "name": "stdout",
     "output_type": "stream",
     "text": [
      "\n",
      "Metrics: {'train_loss': 0.01681414752965793, 'test_loss': 2.2140749784616323, 'bleu': 22.3549, 'gen_len': 9.3283}\n",
      "\n",
      "=============================\n",
      "\n"
     ]
    },
    {
     "name": "stderr",
     "output_type": "stream",
     "text": [
      " 61%|██████    | 74/122 [41:39<23:05, 28.87s/it]"
     ]
    },
    {
     "name": "stdout",
     "output_type": "stream",
     "text": [
      "For epoch 80: \n",
      "{Learning rate: [0.002388247663532288]}\n"
     ]
    },
    {
     "name": "stderr",
     "output_type": "stream",
     "text": [
      "Train batch number 99: 100%|██████████| 99/99 [00:21<00:00,  4.56batches/s]\n",
      "Test batch number 13: 100%|██████████| 13/13 [00:04<00:00,  2.86batches/s]\n"
     ]
    },
    {
     "name": "stdout",
     "output_type": "stream",
     "text": [
      "\n",
      "Metrics: {'train_loss': 0.018502419083049955, 'test_loss': 2.2735392405436587, 'bleu': 21.4752, 'gen_len': 9.4242}\n",
      "\n",
      "=============================\n",
      "\n"
     ]
    },
    {
     "name": "stderr",
     "output_type": "stream",
     "text": [
      " 61%|██████▏   | 75/122 [42:08<22:47, 29.10s/it]"
     ]
    },
    {
     "name": "stdout",
     "output_type": "stream",
     "text": [
      "For epoch 81: \n",
      "{Learning rate: [0.0023743974779140056]}\n"
     ]
    },
    {
     "name": "stderr",
     "output_type": "stream",
     "text": [
      "Train batch number 99: 100%|██████████| 99/99 [00:20<00:00,  4.77batches/s]\n",
      "Test batch number 13: 100%|██████████| 13/13 [00:04<00:00,  2.80batches/s]\n"
     ]
    },
    {
     "name": "stdout",
     "output_type": "stream",
     "text": [
      "\n",
      "Metrics: {'train_loss': 0.01644620335322212, 'test_loss': 2.28748173897083, 'bleu': 22.1473, 'gen_len': 9.2323}\n",
      "\n",
      "=============================\n",
      "\n"
     ]
    },
    {
     "name": "stderr",
     "output_type": "stream",
     "text": [
      " 62%|██████▏   | 76/122 [42:36<22:06, 28.84s/it]"
     ]
    },
    {
     "name": "stdout",
     "output_type": "stream",
     "text": [
      "For epoch 82: \n",
      "{Learning rate: [0.0023605472922957234]}\n"
     ]
    },
    {
     "name": "stderr",
     "output_type": "stream",
     "text": [
      "Train batch number 99: 100%|██████████| 99/99 [00:20<00:00,  4.80batches/s]\n",
      "Test batch number 13: 100%|██████████| 13/13 [00:05<00:00,  2.52batches/s]\n"
     ]
    },
    {
     "name": "stdout",
     "output_type": "stream",
     "text": [
      "\n",
      "Metrics: {'train_loss': 0.017436119199805714, 'test_loss': 2.3095777401557336, 'bleu': 21.5617, 'gen_len': 9.202}\n",
      "\n",
      "=============================\n",
      "\n"
     ]
    },
    {
     "name": "stderr",
     "output_type": "stream",
     "text": [
      " 63%|██████▎   | 77/122 [43:05<21:35, 28.78s/it]"
     ]
    },
    {
     "name": "stdout",
     "output_type": "stream",
     "text": [
      "For epoch 83: \n",
      "{Learning rate: [0.002346697106677441]}\n"
     ]
    },
    {
     "name": "stderr",
     "output_type": "stream",
     "text": [
      "Train batch number 99: 100%|██████████| 99/99 [00:21<00:00,  4.62batches/s]\n",
      "Test batch number 13: 100%|██████████| 13/13 [00:05<00:00,  2.52batches/s]\n"
     ]
    },
    {
     "name": "stdout",
     "output_type": "stream",
     "text": [
      "\n",
      "Metrics: {'train_loss': 0.017239973913276134, 'test_loss': 2.288955174959623, 'bleu': 20.5599, 'gen_len': 9.6313}\n",
      "\n",
      "=============================\n",
      "\n"
     ]
    },
    {
     "name": "stderr",
     "output_type": "stream",
     "text": [
      " 64%|██████▍   | 78/122 [43:35<21:15, 29.00s/it]"
     ]
    },
    {
     "name": "stdout",
     "output_type": "stream",
     "text": [
      "For epoch 84: \n",
      "{Learning rate: [0.002332846921059159]}\n"
     ]
    },
    {
     "name": "stderr",
     "output_type": "stream",
     "text": [
      "Train batch number 99: 100%|██████████| 99/99 [00:20<00:00,  4.80batches/s]\n",
      "Test batch number 13: 100%|██████████| 13/13 [00:04<00:00,  3.03batches/s]\n"
     ]
    },
    {
     "name": "stdout",
     "output_type": "stream",
     "text": [
      "\n",
      "Metrics: {'train_loss': 0.016456326646165864, 'test_loss': 2.277767456494845, 'bleu': 22.0816, 'gen_len': 9.4545}\n",
      "\n",
      "=============================\n",
      "\n"
     ]
    },
    {
     "name": "stderr",
     "output_type": "stream",
     "text": [
      " 65%|██████▍   | 79/122 [44:02<20:32, 28.65s/it]"
     ]
    },
    {
     "name": "stdout",
     "output_type": "stream",
     "text": [
      "For epoch 85: \n",
      "{Learning rate: [0.002318996735440877]}\n"
     ]
    },
    {
     "name": "stderr",
     "output_type": "stream",
     "text": [
      "Train batch number 99: 100%|██████████| 99/99 [00:20<00:00,  4.85batches/s]\n",
      "Test batch number 13: 100%|██████████| 13/13 [00:04<00:00,  2.81batches/s]\n"
     ]
    },
    {
     "name": "stdout",
     "output_type": "stream",
     "text": [
      "\n",
      "Metrics: {'train_loss': 0.015661050833648806, 'test_loss': 2.293163913946885, 'bleu': 21.264, 'gen_len': 9.2879}\n",
      "\n",
      "=============================\n",
      "\n"
     ]
    },
    {
     "name": "stderr",
     "output_type": "stream",
     "text": [
      " 66%|██████▌   | 80/122 [44:30<19:54, 28.44s/it]"
     ]
    },
    {
     "name": "stdout",
     "output_type": "stream",
     "text": [
      "For epoch 86: \n",
      "{Learning rate: [0.0023051465498225942]}\n"
     ]
    },
    {
     "name": "stderr",
     "output_type": "stream",
     "text": [
      "Train batch number 99: 100%|██████████| 99/99 [00:21<00:00,  4.64batches/s]\n",
      "Test batch number 13: 100%|██████████| 13/13 [00:06<00:00,  1.96batches/s]\n"
     ]
    },
    {
     "name": "stdout",
     "output_type": "stream",
     "text": [
      "\n",
      "Metrics: {'train_loss': 0.01588268871913015, 'test_loss': 2.280018870647137, 'bleu': 21.2942, 'gen_len': 9.4242}\n",
      "\n",
      "=============================\n",
      "\n"
     ]
    },
    {
     "name": "stderr",
     "output_type": "stream",
     "text": [
      " 66%|██████▋   | 81/122 [45:01<19:57, 29.21s/it]"
     ]
    },
    {
     "name": "stdout",
     "output_type": "stream",
     "text": [
      "For epoch 87: \n",
      "{Learning rate: [0.002291296364204312]}\n"
     ]
    },
    {
     "name": "stderr",
     "output_type": "stream",
     "text": [
      "Train batch number 99: 100%|██████████| 99/99 [00:22<00:00,  4.34batches/s]\n",
      "Test batch number 13: 100%|██████████| 13/13 [00:04<00:00,  2.82batches/s]\n"
     ]
    },
    {
     "name": "stdout",
     "output_type": "stream",
     "text": [
      "\n",
      "Metrics: {'train_loss': 0.014651553785296702, 'test_loss': 2.2528292674284716, 'bleu': 21.6399, 'gen_len': 9.5758}\n",
      "\n",
      "=============================\n",
      "\n"
     ]
    },
    {
     "name": "stderr",
     "output_type": "stream",
     "text": [
      " 67%|██████▋   | 82/122 [45:32<19:46, 29.66s/it]"
     ]
    },
    {
     "name": "stdout",
     "output_type": "stream",
     "text": [
      "For epoch 88: \n",
      "{Learning rate: [0.0022774461785860295]}\n"
     ]
    },
    {
     "name": "stderr",
     "output_type": "stream",
     "text": [
      "Train batch number 99: 100%|██████████| 99/99 [00:25<00:00,  3.95batches/s]\n",
      "Test batch number 13: 100%|██████████| 13/13 [00:04<00:00,  2.75batches/s]\n"
     ]
    },
    {
     "name": "stdout",
     "output_type": "stream",
     "text": [
      "\n",
      "Metrics: {'train_loss': 0.01689414551947266, 'test_loss': 2.2467140968029318, 'bleu': 21.3306, 'gen_len': 9.4949}\n",
      "\n",
      "=============================\n",
      "\n"
     ]
    },
    {
     "name": "stderr",
     "output_type": "stream",
     "text": [
      " 68%|██████▊   | 83/122 [46:05<19:58, 30.72s/it]"
     ]
    },
    {
     "name": "stdout",
     "output_type": "stream",
     "text": [
      "For epoch 89: \n",
      "{Learning rate: [0.0022635959929677473]}\n"
     ]
    },
    {
     "name": "stderr",
     "output_type": "stream",
     "text": [
      "Train batch number 99: 100%|██████████| 99/99 [00:19<00:00,  5.02batches/s]\n",
      "Test batch number 13: 100%|██████████| 13/13 [00:04<00:00,  2.84batches/s]\n"
     ]
    },
    {
     "name": "stdout",
     "output_type": "stream",
     "text": [
      "\n",
      "Metrics: {'train_loss': 0.015828099928448223, 'test_loss': 2.289440549336947, 'bleu': 21.1654, 'gen_len': 9.5253}\n",
      "\n",
      "=============================\n",
      "\n"
     ]
    },
    {
     "name": "stderr",
     "output_type": "stream",
     "text": [
      " 69%|██████▉   | 84/122 [46:33<18:49, 29.72s/it]"
     ]
    },
    {
     "name": "stdout",
     "output_type": "stream",
     "text": [
      "For epoch 90: \n",
      "{Learning rate: [0.002249745807349465]}\n"
     ]
    },
    {
     "name": "stderr",
     "output_type": "stream",
     "text": [
      "Train batch number 99: 100%|██████████| 99/99 [00:20<00:00,  4.81batches/s]\n",
      "Test batch number 13: 100%|██████████| 13/13 [00:04<00:00,  2.84batches/s]\n"
     ]
    },
    {
     "name": "stdout",
     "output_type": "stream",
     "text": [
      "\n",
      "Metrics: {'train_loss': 0.016102344786625995, 'test_loss': 2.270986171869131, 'bleu': 21.3494, 'gen_len': 9.2424}\n",
      "\n",
      "=============================\n",
      "\n"
     ]
    },
    {
     "name": "stderr",
     "output_type": "stream",
     "text": [
      " 70%|██████▉   | 85/122 [47:01<18:03, 29.27s/it]"
     ]
    },
    {
     "name": "stdout",
     "output_type": "stream",
     "text": [
      "For epoch 91: \n",
      "{Learning rate: [0.002235895621731183]}\n"
     ]
    },
    {
     "name": "stderr",
     "output_type": "stream",
     "text": [
      "Train batch number 99: 100%|██████████| 99/99 [00:20<00:00,  4.92batches/s]\n",
      "Test batch number 13: 100%|██████████| 13/13 [00:04<00:00,  2.94batches/s]\n"
     ]
    },
    {
     "name": "stdout",
     "output_type": "stream",
     "text": [
      "\n",
      "Metrics: {'train_loss': 0.01489170245953243, 'test_loss': 2.270407410768362, 'bleu': 21.2491, 'gen_len': 9.3485}\n",
      "\n",
      "=============================\n",
      "\n"
     ]
    },
    {
     "name": "stderr",
     "output_type": "stream",
     "text": [
      " 70%|███████   | 86/122 [47:28<17:15, 28.77s/it]"
     ]
    },
    {
     "name": "stdout",
     "output_type": "stream",
     "text": [
      "For epoch 92: \n",
      "{Learning rate: [0.0022220454361129008]}\n"
     ]
    },
    {
     "name": "stderr",
     "output_type": "stream",
     "text": [
      "Train batch number 99: 100%|██████████| 99/99 [00:20<00:00,  4.93batches/s]\n",
      "Test batch number 13: 100%|██████████| 13/13 [00:04<00:00,  2.78batches/s]\n"
     ]
    },
    {
     "name": "stdout",
     "output_type": "stream",
     "text": [
      "\n",
      "Metrics: {'train_loss': 0.015955285688937462, 'test_loss': 2.283165088066688, 'bleu': 21.7479, 'gen_len': 9.6465}\n",
      "\n",
      "=============================\n",
      "\n"
     ]
    },
    {
     "name": "stderr",
     "output_type": "stream",
     "text": [
      " 71%|███████▏  | 87/122 [47:56<16:37, 28.51s/it]"
     ]
    },
    {
     "name": "stdout",
     "output_type": "stream",
     "text": [
      "For epoch 93: \n",
      "{Learning rate: [0.0022081952504946186]}\n"
     ]
    },
    {
     "name": "stderr",
     "output_type": "stream",
     "text": [
      "Train batch number 99: 100%|██████████| 99/99 [00:22<00:00,  4.41batches/s]\n",
      "Test batch number 13: 100%|██████████| 13/13 [00:04<00:00,  2.80batches/s]\n"
     ]
    },
    {
     "name": "stdout",
     "output_type": "stream",
     "text": [
      "\n",
      "Metrics: {'train_loss': 0.01508403725033118, 'test_loss': 2.2706486720305223, 'bleu': 21.8966, 'gen_len': 9.5758}\n",
      "\n",
      "=============================\n",
      "\n"
     ]
    },
    {
     "name": "stderr",
     "output_type": "stream",
     "text": [
      " 72%|███████▏  | 88/122 [48:26<16:25, 28.99s/it]"
     ]
    },
    {
     "name": "stdout",
     "output_type": "stream",
     "text": [
      "For epoch 94: \n",
      "{Learning rate: [0.002194345064876336]}\n"
     ]
    },
    {
     "name": "stderr",
     "output_type": "stream",
     "text": [
      "Train batch number 99: 100%|██████████| 99/99 [00:21<00:00,  4.56batches/s]\n",
      "Test batch number 13: 100%|██████████| 13/13 [00:05<00:00,  2.60batches/s]\n"
     ]
    },
    {
     "name": "stdout",
     "output_type": "stream",
     "text": [
      "\n",
      "Metrics: {'train_loss': 0.016057316199735258, 'test_loss': 2.2558460785792422, 'bleu': 20.3984, 'gen_len': 9.3939}\n",
      "\n",
      "=============================\n",
      "\n"
     ]
    },
    {
     "name": "stderr",
     "output_type": "stream",
     "text": [
      " 73%|███████▎  | 89/122 [48:56<16:04, 29.24s/it]"
     ]
    },
    {
     "name": "stdout",
     "output_type": "stream",
     "text": [
      "For epoch 95: \n",
      "{Learning rate: [0.002180494879258054]}\n"
     ]
    },
    {
     "name": "stderr",
     "output_type": "stream",
     "text": [
      "Train batch number 99: 100%|██████████| 99/99 [00:20<00:00,  4.75batches/s]\n",
      "Test batch number 13: 100%|██████████| 13/13 [00:04<00:00,  2.90batches/s]\n"
     ]
    },
    {
     "name": "stdout",
     "output_type": "stream",
     "text": [
      "\n",
      "Metrics: {'train_loss': 0.014280868792962847, 'test_loss': 2.27346946642949, 'bleu': 21.3906, 'gen_len': 9.3939}\n",
      "\n",
      "=============================\n",
      "\n"
     ]
    },
    {
     "name": "stderr",
     "output_type": "stream",
     "text": [
      " 74%|███████▍  | 90/122 [49:25<15:30, 29.08s/it]"
     ]
    },
    {
     "name": "stdout",
     "output_type": "stream",
     "text": [
      "For epoch 96: \n",
      "{Learning rate: [0.0021666446936397716]}\n"
     ]
    },
    {
     "name": "stderr",
     "output_type": "stream",
     "text": [
      "Train batch number 99: 100%|██████████| 99/99 [00:20<00:00,  4.94batches/s]\n",
      "Test batch number 13: 100%|██████████| 13/13 [00:04<00:00,  2.97batches/s]\n"
     ]
    },
    {
     "name": "stdout",
     "output_type": "stream",
     "text": [
      "\n",
      "Metrics: {'train_loss': 0.014876208383345394, 'test_loss': 2.2423833792026224, 'bleu': 21.3718, 'gen_len': 9.5253}\n",
      "\n",
      "=============================\n",
      "\n"
     ]
    },
    {
     "name": "stderr",
     "output_type": "stream",
     "text": [
      " 75%|███████▍  | 91/122 [49:52<14:45, 28.58s/it]"
     ]
    },
    {
     "name": "stdout",
     "output_type": "stream",
     "text": [
      "For epoch 97: \n",
      "{Learning rate: [0.0021527945080214894]}\n"
     ]
    },
    {
     "name": "stderr",
     "output_type": "stream",
     "text": [
      "Train batch number 99: 100%|██████████| 99/99 [00:21<00:00,  4.63batches/s]\n",
      "Test batch number 13: 100%|██████████| 13/13 [00:04<00:00,  2.83batches/s]\n"
     ]
    },
    {
     "name": "stdout",
     "output_type": "stream",
     "text": [
      "\n",
      "Metrics: {'train_loss': 0.014191637267217491, 'test_loss': 2.25882743872129, 'bleu': 21.9104, 'gen_len': 9.3434}\n",
      "\n",
      "=============================\n",
      "\n"
     ]
    },
    {
     "name": "stderr",
     "output_type": "stream",
     "text": [
      " 75%|███████▌  | 92/122 [50:21<14:21, 28.72s/it]"
     ]
    },
    {
     "name": "stdout",
     "output_type": "stream",
     "text": [
      "For epoch 98: \n",
      "{Learning rate: [0.0021389443224032073]}\n"
     ]
    },
    {
     "name": "stderr",
     "output_type": "stream",
     "text": [
      "Train batch number 99: 100%|██████████| 99/99 [00:21<00:00,  4.69batches/s]\n",
      "Test batch number 13: 100%|██████████| 13/13 [00:04<00:00,  2.86batches/s]\n"
     ]
    },
    {
     "name": "stdout",
     "output_type": "stream",
     "text": [
      "\n",
      "Metrics: {'train_loss': 0.013974387681986573, 'test_loss': 2.2615353877727804, 'bleu': 21.1829, 'gen_len': 9.6263}\n",
      "\n",
      "=============================\n",
      "\n"
     ]
    },
    {
     "name": "stderr",
     "output_type": "stream",
     "text": [
      " 76%|███████▌  | 93/122 [50:50<13:53, 28.73s/it]"
     ]
    },
    {
     "name": "stdout",
     "output_type": "stream",
     "text": [
      "For epoch 99: \n",
      "{Learning rate: [0.002125094136784925]}\n"
     ]
    },
    {
     "name": "stderr",
     "output_type": "stream",
     "text": [
      "Train batch number 99: 100%|██████████| 99/99 [00:19<00:00,  4.95batches/s]\n",
      "Test batch number 13: 100%|██████████| 13/13 [00:05<00:00,  2.51batches/s]\n"
     ]
    },
    {
     "name": "stdout",
     "output_type": "stream",
     "text": [
      "\n",
      "Metrics: {'train_loss': 0.013293251892636445, 'test_loss': 2.2599198451408973, 'bleu': 21.0614, 'gen_len': 9.3838}\n",
      "\n",
      "=============================\n",
      "\n"
     ]
    },
    {
     "name": "stderr",
     "output_type": "stream",
     "text": [
      " 77%|███████▋  | 94/122 [51:18<13:19, 28.55s/it]"
     ]
    },
    {
     "name": "stdout",
     "output_type": "stream",
     "text": [
      "For epoch 100: \n",
      "{Learning rate: [0.002111243951166643]}\n"
     ]
    },
    {
     "name": "stderr",
     "output_type": "stream",
     "text": [
      "Train batch number 99: 100%|██████████| 99/99 [00:20<00:00,  4.76batches/s]\n",
      "Test batch number 13: 100%|██████████| 13/13 [00:04<00:00,  2.61batches/s]\n"
     ]
    },
    {
     "name": "stdout",
     "output_type": "stream",
     "text": [
      "\n",
      "Metrics: {'train_loss': 0.014309807052610047, 'test_loss': 2.2723751068115234, 'bleu': 21.9737, 'gen_len': 9.4747}\n",
      "\n",
      "=============================\n",
      "\n"
     ]
    },
    {
     "name": "stderr",
     "output_type": "stream",
     "text": [
      " 78%|███████▊  | 95/122 [51:47<12:54, 28.67s/it]"
     ]
    },
    {
     "name": "stdout",
     "output_type": "stream",
     "text": [
      "For epoch 101: \n",
      "{Learning rate: [0.0020973937655483603]}\n"
     ]
    },
    {
     "name": "stderr",
     "output_type": "stream",
     "text": [
      "Train batch number 99: 100%|██████████| 99/99 [00:20<00:00,  4.78batches/s]\n",
      "Test batch number 13: 100%|██████████| 13/13 [00:04<00:00,  2.69batches/s]\n"
     ]
    },
    {
     "name": "stdout",
     "output_type": "stream",
     "text": [
      "\n",
      "Metrics: {'train_loss': 0.014596940333381145, 'test_loss': 2.2684648678852963, 'bleu': 22.5398, 'gen_len': 9.3283}\n",
      "\n",
      "=============================\n",
      "\n"
     ]
    },
    {
     "name": "stderr",
     "output_type": "stream",
     "text": [
      " 79%|███████▊  | 96/122 [52:18<12:38, 29.16s/it]"
     ]
    },
    {
     "name": "stdout",
     "output_type": "stream",
     "text": [
      "For epoch 102: \n",
      "{Learning rate: [0.002083543579930078]}\n"
     ]
    },
    {
     "name": "stderr",
     "output_type": "stream",
     "text": [
      "Train batch number 99: 100%|██████████| 99/99 [00:20<00:00,  4.72batches/s]\n",
      "Test batch number 13: 100%|██████████| 13/13 [00:04<00:00,  2.87batches/s]\n"
     ]
    },
    {
     "name": "stdout",
     "output_type": "stream",
     "text": [
      "\n",
      "Metrics: {'train_loss': 0.012844498148728914, 'test_loss': 2.2742432539279642, 'bleu': 21.1886, 'gen_len': 9.3737}\n",
      "\n",
      "=============================\n",
      "\n"
     ]
    },
    {
     "name": "stderr",
     "output_type": "stream",
     "text": [
      " 80%|███████▉  | 97/122 [52:46<12:06, 29.05s/it]"
     ]
    },
    {
     "name": "stdout",
     "output_type": "stream",
     "text": [
      "For epoch 103: \n",
      "{Learning rate: [0.002069693394311796]}\n"
     ]
    },
    {
     "name": "stderr",
     "output_type": "stream",
     "text": [
      "Train batch number 99: 100%|██████████| 99/99 [00:20<00:00,  4.89batches/s]\n",
      "Test batch number 13: 100%|██████████| 13/13 [00:04<00:00,  2.77batches/s]\n"
     ]
    },
    {
     "name": "stdout",
     "output_type": "stream",
     "text": [
      "\n",
      "Metrics: {'train_loss': 0.013727305422894506, 'test_loss': 2.2633457000438986, 'bleu': 21.0844, 'gen_len': 9.6414}\n",
      "\n",
      "=============================\n",
      "\n"
     ]
    },
    {
     "name": "stderr",
     "output_type": "stream",
     "text": [
      " 80%|████████  | 98/122 [53:14<11:27, 28.66s/it]"
     ]
    },
    {
     "name": "stdout",
     "output_type": "stream",
     "text": [
      "For epoch 104: \n",
      "{Learning rate: [0.0020558432086935138]}\n"
     ]
    },
    {
     "name": "stderr",
     "output_type": "stream",
     "text": [
      "Train batch number 99: 100%|██████████| 99/99 [00:22<00:00,  4.35batches/s]\n",
      "Test batch number 13: 100%|██████████| 13/13 [00:04<00:00,  2.81batches/s]\n"
     ]
    },
    {
     "name": "stdout",
     "output_type": "stream",
     "text": [
      "\n",
      "Metrics: {'train_loss': 0.014253299705674778, 'test_loss': 2.248032423166128, 'bleu': 21.4075, 'gen_len': 9.5505}\n",
      "\n",
      "=============================\n",
      "\n"
     ]
    },
    {
     "name": "stderr",
     "output_type": "stream",
     "text": [
      " 81%|████████  | 99/122 [53:44<11:09, 29.12s/it]"
     ]
    },
    {
     "name": "stdout",
     "output_type": "stream",
     "text": [
      "For epoch 105: \n",
      "{Learning rate: [0.002041993023075231]}\n"
     ]
    },
    {
     "name": "stderr",
     "output_type": "stream",
     "text": [
      "Train batch number 99: 100%|██████████| 99/99 [00:22<00:00,  4.37batches/s]\n",
      "Test batch number 13: 100%|██████████| 13/13 [00:05<00:00,  2.41batches/s]\n"
     ]
    },
    {
     "name": "stdout",
     "output_type": "stream",
     "text": [
      "\n",
      "Metrics: {'train_loss': 0.013015212949760484, 'test_loss': 2.276007212125338, 'bleu': 21.3277, 'gen_len': 9.4141}\n",
      "\n",
      "=============================\n",
      "\n"
     ]
    },
    {
     "name": "stderr",
     "output_type": "stream",
     "text": [
      " 82%|████████▏ | 100/122 [54:15<10:52, 29.68s/it]"
     ]
    },
    {
     "name": "stdout",
     "output_type": "stream",
     "text": [
      "For epoch 106: \n",
      "{Learning rate: [0.002028142837456949]}\n"
     ]
    },
    {
     "name": "stderr",
     "output_type": "stream",
     "text": [
      "Train batch number 99: 100%|██████████| 99/99 [00:22<00:00,  4.41batches/s]\n",
      "Test batch number 13: 100%|██████████| 13/13 [00:04<00:00,  2.74batches/s]\n"
     ]
    },
    {
     "name": "stdout",
     "output_type": "stream",
     "text": [
      "\n",
      "Metrics: {'train_loss': 0.01339312626820321, 'test_loss': 2.25374789421375, 'bleu': 21.5503, 'gen_len': 9.4545}\n",
      "\n",
      "=============================\n",
      "\n"
     ]
    },
    {
     "name": "stderr",
     "output_type": "stream",
     "text": [
      " 83%|████████▎ | 101/122 [54:46<10:26, 29.86s/it]"
     ]
    },
    {
     "name": "stdout",
     "output_type": "stream",
     "text": [
      "For epoch 107: \n",
      "{Learning rate: [0.002014292651838667]}\n"
     ]
    },
    {
     "name": "stderr",
     "output_type": "stream",
     "text": [
      "Train batch number 99: 100%|██████████| 99/99 [00:22<00:00,  4.42batches/s]\n",
      "Test batch number 13: 100%|██████████| 13/13 [00:05<00:00,  2.58batches/s]\n"
     ]
    },
    {
     "name": "stdout",
     "output_type": "stream",
     "text": [
      "\n",
      "Metrics: {'train_loss': 0.01235689257619658, 'test_loss': 2.25938121172098, 'bleu': 21.4548, 'gen_len': 9.5152}\n",
      "\n",
      "=============================\n",
      "\n"
     ]
    },
    {
     "name": "stderr",
     "output_type": "stream",
     "text": [
      " 84%|████████▎ | 102/122 [55:16<10:01, 30.07s/it]"
     ]
    },
    {
     "name": "stdout",
     "output_type": "stream",
     "text": [
      "For epoch 108: \n",
      "{Learning rate: [0.002000442466220384]}\n"
     ]
    },
    {
     "name": "stderr",
     "output_type": "stream",
     "text": [
      "Train batch number 99: 100%|██████████| 99/99 [00:20<00:00,  4.75batches/s]\n",
      "Test batch number 13: 100%|██████████| 13/13 [00:04<00:00,  2.89batches/s]\n"
     ]
    },
    {
     "name": "stdout",
     "output_type": "stream",
     "text": [
      "\n",
      "Metrics: {'train_loss': 0.012438686435802303, 'test_loss': 2.242649582716135, 'bleu': 21.2406, 'gen_len': 9.4444}\n",
      "\n",
      "=============================\n",
      "\n"
     ]
    },
    {
     "name": "stderr",
     "output_type": "stream",
     "text": [
      " 84%|████████▍ | 103/122 [55:44<09:21, 29.54s/it]"
     ]
    },
    {
     "name": "stdout",
     "output_type": "stream",
     "text": [
      "For epoch 109: \n",
      "{Learning rate: [0.001986592280602102]}\n"
     ]
    },
    {
     "name": "stderr",
     "output_type": "stream",
     "text": [
      "Train batch number 99: 100%|██████████| 99/99 [00:23<00:00,  4.23batches/s]\n",
      "Test batch number 13: 100%|██████████| 13/13 [00:04<00:00,  2.70batches/s]\n"
     ]
    },
    {
     "name": "stdout",
     "output_type": "stream",
     "text": [
      "\n",
      "Metrics: {'train_loss': 0.012158566635487733, 'test_loss': 2.253055297411405, 'bleu': 22.1541, 'gen_len': 9.4646}\n",
      "\n",
      "=============================\n",
      "\n"
     ]
    },
    {
     "name": "stderr",
     "output_type": "stream",
     "text": [
      " 85%|████████▌ | 104/122 [56:16<09:00, 30.02s/it]"
     ]
    },
    {
     "name": "stdout",
     "output_type": "stream",
     "text": [
      "For epoch 110: \n",
      "{Learning rate: [0.00197274209498382]}\n"
     ]
    },
    {
     "name": "stderr",
     "output_type": "stream",
     "text": [
      "Train batch number 99: 100%|██████████| 99/99 [00:20<00:00,  4.78batches/s]\n",
      "Test batch number 13: 100%|██████████| 13/13 [00:05<00:00,  2.44batches/s]\n"
     ]
    },
    {
     "name": "stdout",
     "output_type": "stream",
     "text": [
      "\n",
      "Metrics: {'train_loss': 0.01186556330731496, 'test_loss': 2.2940301161545973, 'bleu': 22.4144, 'gen_len': 9.5758}\n",
      "\n",
      "=============================\n",
      "\n"
     ]
    },
    {
     "name": "stderr",
     "output_type": "stream",
     "text": [
      " 86%|████████▌ | 105/122 [56:45<08:25, 29.73s/it]"
     ]
    },
    {
     "name": "stdout",
     "output_type": "stream",
     "text": [
      "For epoch 111: \n",
      "{Learning rate: [0.0019588919093655377]}\n"
     ]
    },
    {
     "name": "stderr",
     "output_type": "stream",
     "text": [
      "Train batch number 99: 100%|██████████| 99/99 [00:20<00:00,  4.85batches/s]\n",
      "Test batch number 13: 100%|██████████| 13/13 [00:04<00:00,  2.74batches/s]\n"
     ]
    },
    {
     "name": "stdout",
     "output_type": "stream",
     "text": [
      "\n",
      "Metrics: {'train_loss': 0.011656295054832079, 'test_loss': 2.2777926188248854, 'bleu': 21.3978, 'gen_len': 9.6364}\n",
      "\n",
      "=============================\n",
      "\n"
     ]
    },
    {
     "name": "stderr",
     "output_type": "stream",
     "text": [
      " 87%|████████▋ | 106/122 [57:13<07:49, 29.32s/it]"
     ]
    },
    {
     "name": "stdout",
     "output_type": "stream",
     "text": [
      "For epoch 112: \n",
      "{Learning rate: [0.0019450417237472555]}\n"
     ]
    },
    {
     "name": "stderr",
     "output_type": "stream",
     "text": [
      "Train batch number 99: 100%|██████████| 99/99 [00:22<00:00,  4.44batches/s]\n",
      "Test batch number 13: 100%|██████████| 13/13 [00:04<00:00,  2.66batches/s]\n"
     ]
    },
    {
     "name": "stdout",
     "output_type": "stream",
     "text": [
      "\n",
      "Metrics: {'train_loss': 0.012055434323047674, 'test_loss': 2.289106855025658, 'bleu': 21.7399, 'gen_len': 9.5101}\n",
      "\n",
      "=============================\n",
      "\n"
     ]
    },
    {
     "name": "stderr",
     "output_type": "stream",
     "text": [
      " 88%|████████▊ | 107/122 [57:43<07:24, 29.67s/it]"
     ]
    },
    {
     "name": "stdout",
     "output_type": "stream",
     "text": [
      "For epoch 113: \n",
      "{Learning rate: [0.0019311915381289733]}\n"
     ]
    },
    {
     "name": "stderr",
     "output_type": "stream",
     "text": [
      "Train batch number 99: 100%|██████████| 99/99 [00:21<00:00,  4.57batches/s]\n",
      "Test batch number 13: 100%|██████████| 13/13 [00:04<00:00,  2.68batches/s]\n"
     ]
    },
    {
     "name": "stdout",
     "output_type": "stream",
     "text": [
      "\n",
      "Metrics: {'train_loss': 0.011417009921231768, 'test_loss': 2.2563352584838867, 'bleu': 21.9697, 'gen_len': 9.6515}\n",
      "\n",
      "=============================\n",
      "\n"
     ]
    },
    {
     "name": "stderr",
     "output_type": "stream",
     "text": [
      " 89%|████████▊ | 108/122 [58:13<06:55, 29.67s/it]"
     ]
    },
    {
     "name": "stdout",
     "output_type": "stream",
     "text": [
      "For epoch 114: \n",
      "{Learning rate: [0.0019173413525106911]}\n"
     ]
    },
    {
     "name": "stderr",
     "output_type": "stream",
     "text": [
      "Train batch number 99: 100%|██████████| 99/99 [00:21<00:00,  4.67batches/s]\n",
      "Test batch number 13: 100%|██████████| 13/13 [00:04<00:00,  2.73batches/s]\n"
     ]
    },
    {
     "name": "stdout",
     "output_type": "stream",
     "text": [
      "\n",
      "Metrics: {'train_loss': 0.01352130841802467, 'test_loss': 2.266041003740751, 'bleu': 21.5796, 'gen_len': 9.5051}\n",
      "\n",
      "=============================\n",
      "\n"
     ]
    },
    {
     "name": "stderr",
     "output_type": "stream",
     "text": [
      " 89%|████████▉ | 109/122 [58:42<06:23, 29.51s/it]"
     ]
    },
    {
     "name": "stdout",
     "output_type": "stream",
     "text": [
      "For epoch 115: \n",
      "{Learning rate: [0.0019034911668924085]}\n"
     ]
    },
    {
     "name": "stderr",
     "output_type": "stream",
     "text": [
      "Train batch number 99: 100%|██████████| 99/99 [00:21<00:00,  4.56batches/s]\n",
      "Test batch number 13: 100%|██████████| 13/13 [00:04<00:00,  2.63batches/s]\n"
     ]
    },
    {
     "name": "stdout",
     "output_type": "stream",
     "text": [
      "\n",
      "Metrics: {'train_loss': 0.011368377273549524, 'test_loss': 2.2476478539980373, 'bleu': 21.0459, 'gen_len': 9.7323}\n",
      "\n",
      "=============================\n",
      "\n"
     ]
    },
    {
     "name": "stderr",
     "output_type": "stream",
     "text": [
      " 90%|█████████ | 110/122 [59:12<05:55, 29.60s/it]"
     ]
    },
    {
     "name": "stdout",
     "output_type": "stream",
     "text": [
      "For epoch 116: \n",
      "{Learning rate: [0.0018896409812741263]}\n"
     ]
    },
    {
     "name": "stderr",
     "output_type": "stream",
     "text": [
      "Train batch number 99: 100%|██████████| 99/99 [00:22<00:00,  4.47batches/s]\n",
      "Test batch number 13: 100%|██████████| 13/13 [00:04<00:00,  2.82batches/s]\n"
     ]
    },
    {
     "name": "stdout",
     "output_type": "stream",
     "text": [
      "\n",
      "Metrics: {'train_loss': 0.012209244951431763, 'test_loss': 2.258557603909419, 'bleu': 22.0317, 'gen_len': 9.5303}\n",
      "\n",
      "=============================\n",
      "\n"
     ]
    },
    {
     "name": "stderr",
     "output_type": "stream",
     "text": [
      " 91%|█████████ | 111/122 [59:42<05:27, 29.75s/it]"
     ]
    },
    {
     "name": "stdout",
     "output_type": "stream",
     "text": [
      "For epoch 117: \n",
      "{Learning rate: [0.0018757907956558442]}\n"
     ]
    },
    {
     "name": "stderr",
     "output_type": "stream",
     "text": [
      "Train batch number 99: 100%|██████████| 99/99 [00:23<00:00,  4.19batches/s]\n",
      "Test batch number 13: 100%|██████████| 13/13 [00:04<00:00,  2.87batches/s]\n"
     ]
    },
    {
     "name": "stdout",
     "output_type": "stream",
     "text": [
      "\n",
      "Metrics: {'train_loss': 0.011468204091105497, 'test_loss': 2.25621968966264, 'bleu': 21.2247, 'gen_len': 9.5}\n",
      "\n",
      "=============================\n",
      "\n"
     ]
    },
    {
     "name": "stderr",
     "output_type": "stream",
     "text": [
      " 92%|█████████▏| 112/122 [1:00:13<05:02, 30.22s/it]"
     ]
    },
    {
     "name": "stdout",
     "output_type": "stream",
     "text": [
      "For epoch 118: \n",
      "{Learning rate: [0.001861940610037562]}\n"
     ]
    },
    {
     "name": "stderr",
     "output_type": "stream",
     "text": [
      "Train batch number 99: 100%|██████████| 99/99 [00:26<00:00,  3.77batches/s]\n",
      "Test batch number 13: 100%|██████████| 13/13 [00:10<00:00,  1.29batches/s]\n"
     ]
    },
    {
     "name": "stdout",
     "output_type": "stream",
     "text": [
      "\n",
      "Metrics: {'train_loss': 0.011208046349988442, 'test_loss': 2.245583304992089, 'bleu': 21.0668, 'gen_len': 9.6111}\n",
      "\n",
      "=============================\n",
      "\n"
     ]
    },
    {
     "name": "stderr",
     "output_type": "stream",
     "text": [
      " 93%|█████████▎| 113/122 [1:00:53<04:57, 33.08s/it]"
     ]
    },
    {
     "name": "stdout",
     "output_type": "stream",
     "text": [
      "For epoch 119: \n",
      "{Learning rate: [0.0018480904244192796]}\n"
     ]
    },
    {
     "name": "stderr",
     "output_type": "stream",
     "text": [
      "Train batch number 99: 100%|██████████| 99/99 [00:25<00:00,  3.92batches/s]\n",
      "Test batch number 13: 100%|██████████| 13/13 [00:05<00:00,  2.28batches/s]\n"
     ]
    },
    {
     "name": "stdout",
     "output_type": "stream",
     "text": [
      "\n",
      "Metrics: {'train_loss': 0.011088220675998, 'test_loss': 2.2591457275243907, 'bleu': 20.91, 'gen_len': 9.5}\n",
      "\n",
      "=============================\n",
      "\n"
     ]
    },
    {
     "name": "stderr",
     "output_type": "stream",
     "text": [
      " 93%|█████████▎| 114/122 [1:01:28<04:28, 33.59s/it]"
     ]
    },
    {
     "name": "stdout",
     "output_type": "stream",
     "text": [
      "For epoch 120: \n",
      "{Learning rate: [0.0018342402388009974]}\n"
     ]
    },
    {
     "name": "stderr",
     "output_type": "stream",
     "text": [
      "Train batch number 99: 100%|██████████| 99/99 [00:23<00:00,  4.23batches/s]\n",
      "Test batch number 13: 100%|██████████| 13/13 [00:05<00:00,  2.60batches/s]\n"
     ]
    },
    {
     "name": "stdout",
     "output_type": "stream",
     "text": [
      "\n",
      "Metrics: {'train_loss': 0.012232659882019188, 'test_loss': 2.2430582229907694, 'bleu': 21.6986, 'gen_len': 9.5707}\n",
      "\n",
      "=============================\n",
      "\n"
     ]
    },
    {
     "name": "stderr",
     "output_type": "stream",
     "text": [
      " 94%|█████████▍| 115/122 [1:02:00<03:51, 33.02s/it]"
     ]
    },
    {
     "name": "stdout",
     "output_type": "stream",
     "text": [
      "For epoch 121: \n",
      "{Learning rate: [0.0018203900531827152]}\n"
     ]
    },
    {
     "name": "stderr",
     "output_type": "stream",
     "text": [
      "Train batch number 99: 100%|██████████| 99/99 [00:22<00:00,  4.36batches/s]\n",
      "Test batch number 13: 100%|██████████| 13/13 [00:05<00:00,  2.60batches/s]\n"
     ]
    },
    {
     "name": "stdout",
     "output_type": "stream",
     "text": [
      "\n",
      "Metrics: {'train_loss': 0.011666655040115607, 'test_loss': 2.2611560271336484, 'bleu': 21.4032, 'gen_len': 9.5253}\n",
      "\n",
      "=============================\n",
      "\n"
     ]
    },
    {
     "name": "stderr",
     "output_type": "stream",
     "text": [
      " 95%|█████████▌| 116/122 [1:02:31<03:14, 32.39s/it]"
     ]
    },
    {
     "name": "stdout",
     "output_type": "stream",
     "text": [
      "For epoch 122: \n",
      "{Learning rate: [0.0018065398675644326]}\n"
     ]
    },
    {
     "name": "stderr",
     "output_type": "stream",
     "text": [
      "Train batch number 99: 100%|██████████| 99/99 [00:22<00:00,  4.46batches/s]\n",
      "Test batch number 13: 100%|██████████| 13/13 [00:05<00:00,  2.60batches/s]\n"
     ]
    },
    {
     "name": "stdout",
     "output_type": "stream",
     "text": [
      "\n",
      "Metrics: {'train_loss': 0.011202679416094201, 'test_loss': 2.274313138081477, 'bleu': 21.3965, 'gen_len': 9.3182}\n",
      "\n",
      "=============================\n",
      "\n"
     ]
    },
    {
     "name": "stderr",
     "output_type": "stream",
     "text": [
      " 96%|█████████▌| 117/122 [1:03:01<02:38, 31.78s/it]"
     ]
    },
    {
     "name": "stdout",
     "output_type": "stream",
     "text": [
      "For epoch 123: \n",
      "{Learning rate: [0.0017926896819461505]}\n"
     ]
    },
    {
     "name": "stderr",
     "output_type": "stream",
     "text": [
      "Train batch number 99: 100%|██████████| 99/99 [00:23<00:00,  4.27batches/s]\n",
      "Test batch number 13: 100%|██████████| 13/13 [00:04<00:00,  2.61batches/s]\n"
     ]
    },
    {
     "name": "stdout",
     "output_type": "stream",
     "text": [
      "\n",
      "Metrics: {'train_loss': 0.01069427191660824, 'test_loss': 2.2992687775538516, 'bleu': 21.177, 'gen_len': 9.5606}\n",
      "\n",
      "=============================\n",
      "\n"
     ]
    },
    {
     "name": "stderr",
     "output_type": "stream",
     "text": [
      " 97%|█████████▋| 118/122 [1:03:32<02:06, 31.64s/it]"
     ]
    },
    {
     "name": "stdout",
     "output_type": "stream",
     "text": [
      "For epoch 124: \n",
      "{Learning rate: [0.0017788394963278683]}\n"
     ]
    },
    {
     "name": "stderr",
     "output_type": "stream",
     "text": [
      "Train batch number 99: 100%|██████████| 99/99 [00:27<00:00,  3.55batches/s]\n",
      "Test batch number 13: 100%|██████████| 13/13 [00:07<00:00,  1.82batches/s]\n"
     ]
    },
    {
     "name": "stdout",
     "output_type": "stream",
     "text": [
      "\n",
      "Metrics: {'train_loss': 0.011386654078090244, 'test_loss': 2.241257667541504, 'bleu': 22.0586, 'gen_len': 9.4444}\n",
      "\n",
      "=============================\n",
      "\n"
     ]
    },
    {
     "name": "stderr",
     "output_type": "stream",
     "text": [
      " 98%|█████████▊| 119/122 [1:04:11<01:41, 33.73s/it]"
     ]
    },
    {
     "name": "stdout",
     "output_type": "stream",
     "text": [
      "For epoch 125: \n",
      "{Learning rate: [0.0017649893107095861]}\n"
     ]
    },
    {
     "name": "stderr",
     "output_type": "stream",
     "text": [
      "Train batch number 99: 100%|██████████| 99/99 [00:22<00:00,  4.36batches/s]\n",
      "Test batch number 13: 100%|██████████| 13/13 [00:05<00:00,  2.26batches/s]\n"
     ]
    },
    {
     "name": "stdout",
     "output_type": "stream",
     "text": [
      "\n",
      "Metrics: {'train_loss': 0.011541471256865094, 'test_loss': 2.2508867979049683, 'bleu': 22.3385, 'gen_len': 9.4949}\n",
      "\n",
      "=============================\n",
      "\n"
     ]
    },
    {
     "name": "stderr",
     "output_type": "stream",
     "text": [
      " 98%|█████████▊| 120/122 [1:04:43<01:06, 33.09s/it]"
     ]
    },
    {
     "name": "stdout",
     "output_type": "stream",
     "text": [
      "For epoch 126: \n",
      "{Learning rate: [0.001751139125091304]}\n"
     ]
    },
    {
     "name": "stderr",
     "output_type": "stream",
     "text": [
      "Train batch number 99: 100%|██████████| 99/99 [00:27<00:00,  3.61batches/s]\n",
      "Test batch number 13: 100%|██████████| 13/13 [00:05<00:00,  2.50batches/s]\n"
     ]
    },
    {
     "name": "stdout",
     "output_type": "stream",
     "text": [
      "\n",
      "Metrics: {'train_loss': 0.010977583476977254, 'test_loss': 2.2427873611450195, 'bleu': 21.8349, 'gen_len': 9.6616}\n",
      "\n",
      "=============================\n",
      "\n"
     ]
    },
    {
     "name": "stderr",
     "output_type": "stream",
     "text": [
      " 99%|█████████▉| 121/122 [1:05:19<00:34, 34.14s/it]"
     ]
    },
    {
     "name": "stdout",
     "output_type": "stream",
     "text": [
      "For epoch 127: \n",
      "{Learning rate: [0.0017372889394730215]}\n"
     ]
    },
    {
     "name": "stderr",
     "output_type": "stream",
     "text": [
      "Train batch number 99: 100%|██████████| 99/99 [00:24<00:00,  4.05batches/s]\n",
      "Test batch number 13: 100%|██████████| 13/13 [00:05<00:00,  2.28batches/s]\n"
     ]
    },
    {
     "name": "stdout",
     "output_type": "stream",
     "text": [
      "\n",
      "Metrics: {'train_loss': 0.009828381110429576, 'test_loss': 2.2549900458409238, 'bleu': 21.6738, 'gen_len': 9.4242}\n",
      "\n",
      "=============================\n",
      "\n"
     ]
    },
    {
     "name": "stderr",
     "output_type": "stream",
     "text": [
      "100%|██████████| 122/122 [1:05:53<00:00, 32.40s/it]\n"
     ]
    }
   ],
   "source": [
    "trainer.train(epochs = config['epochs'] - trainer.current_epoch, auto_save=True, metric_for_best_model='bleu', metric_objective='maximize', log_step=1,\n",
    "              saving_directory = config['new_model_dir'])"
   ]
  },
  {
   "cell_type": "markdown",
   "metadata": {},
   "source": [
    "### ---"
   ]
  },
  {
   "cell_type": "code",
   "execution_count": 11,
   "metadata": {},
   "outputs": [
    {
     "name": "stderr",
     "output_type": "stream",
     "text": [
      "  0%|          | 0/127 [00:00<?, ?it/s]c:\\Users\\Oumar Kane\\AppData\\Local\\pypoetry\\Cache\\virtualenvs\\pytorch1-HleOW5am-py3.10\\lib\\site-packages\\torch\\optim\\lr_scheduler.py:257: UserWarning: To get the last learning rate computed by the scheduler, please use `get_last_lr()`.\n",
      "  warnings.warn(\"To get the last learning rate computed by the scheduler, \"\n"
     ]
    },
    {
     "name": "stdout",
     "output_type": "stream",
     "text": [
      "For epoch 128: \n",
      "{Learning rate: [0.0017132983766039783]}\n"
     ]
    },
    {
     "name": "stderr",
     "output_type": "stream",
     "text": [
      "Train batch number 99: 100%|██████████| 99/99 [00:27<00:00,  3.59batches/s]\n",
      "Test batch number 13: 100%|██████████| 13/13 [00:04<00:00,  2.68batches/s]\n"
     ]
    },
    {
     "name": "stdout",
     "output_type": "stream",
     "text": [
      "\n",
      "Metrics: {'train_loss': 0.010737099127392426, 'test_loss': 2.2635114743159366, 'bleu': 21.0653, 'gen_len': 9.5909}\n",
      "\n",
      "=============================\n",
      "\n"
     ]
    },
    {
     "name": "stderr",
     "output_type": "stream",
     "text": [
      "  1%|          | 1/127 [00:37<1:17:45, 37.03s/it]"
     ]
    },
    {
     "name": "stdout",
     "output_type": "stream",
     "text": [
      "For epoch 129: \n",
      "{Learning rate: [0.0016915480949482274]}\n"
     ]
    },
    {
     "name": "stderr",
     "output_type": "stream",
     "text": [
      "Train batch number 99: 100%|██████████| 99/99 [00:20<00:00,  4.83batches/s]\n",
      "Test batch number 13: 100%|██████████| 13/13 [00:04<00:00,  2.78batches/s]\n"
     ]
    },
    {
     "name": "stdout",
     "output_type": "stream",
     "text": [
      "\n",
      "Metrics: {'train_loss': 0.009827294109701979, 'test_loss': 2.266072530012864, 'bleu': 21.7388, 'gen_len': 9.4697}\n",
      "\n",
      "=============================\n",
      "\n"
     ]
    },
    {
     "name": "stderr",
     "output_type": "stream",
     "text": [
      "  2%|▏         | 2/127 [01:05<1:06:31, 31.93s/it]"
     ]
    },
    {
     "name": "stdout",
     "output_type": "stream",
     "text": [
      "For epoch 130: \n",
      "{Learning rate: [0.001669805565666635]}\n"
     ]
    },
    {
     "name": "stderr",
     "output_type": "stream",
     "text": [
      "Train batch number 99: 100%|██████████| 99/99 [00:22<00:00,  4.49batches/s]\n",
      "Test batch number 13: 100%|██████████| 13/13 [00:04<00:00,  2.78batches/s]\n"
     ]
    },
    {
     "name": "stdout",
     "output_type": "stream",
     "text": [
      "\n",
      "Metrics: {'train_loss': 0.010638035553674487, 'test_loss': 2.2675059208503137, 'bleu': 21.2423, 'gen_len': 9.6414}\n",
      "\n",
      "=============================\n",
      "\n"
     ]
    },
    {
     "name": "stderr",
     "output_type": "stream",
     "text": [
      "  2%|▏         | 3/127 [01:35<1:04:13, 31.07s/it]"
     ]
    },
    {
     "name": "stdout",
     "output_type": "stream",
     "text": [
      "For epoch 131: \n",
      "{Learning rate: [0.001648074183096243]}\n"
     ]
    },
    {
     "name": "stderr",
     "output_type": "stream",
     "text": [
      "Train batch number 99: 100%|██████████| 99/99 [00:28<00:00,  3.42batches/s]\n",
      "Test batch number 13: 100%|██████████| 13/13 [00:05<00:00,  2.32batches/s]\n"
     ]
    },
    {
     "name": "stdout",
     "output_type": "stream",
     "text": [
      "\n",
      "Metrics: {'train_loss': 0.010267460729334165, 'test_loss': 2.2617530731054454, 'bleu': 21.9856, 'gen_len': 9.4545}\n",
      "\n",
      "=============================\n",
      "\n"
     ]
    },
    {
     "name": "stderr",
     "output_type": "stream",
     "text": [
      "  3%|▎         | 4/127 [02:13<1:09:13, 33.77s/it]"
     ]
    },
    {
     "name": "stdout",
     "output_type": "stream",
     "text": [
      "For epoch 132: \n",
      "{Learning rate: [0.0016263573398339229]}\n"
     ]
    },
    {
     "name": "stderr",
     "output_type": "stream",
     "text": [
      "Train batch number 99: 100%|██████████| 99/99 [00:22<00:00,  4.44batches/s]\n",
      "Test batch number 13: 100%|██████████| 13/13 [00:05<00:00,  2.22batches/s]\n"
     ]
    },
    {
     "name": "stdout",
     "output_type": "stream",
     "text": [
      "\n",
      "Metrics: {'train_loss': 0.010428586260961237, 'test_loss': 2.2619692453971276, 'bleu': 21.242, 'gen_len': 9.6566}\n",
      "\n",
      "=============================\n",
      "\n"
     ]
    },
    {
     "name": "stderr",
     "output_type": "stream",
     "text": [
      "  4%|▍         | 5/127 [02:44<1:07:02, 32.97s/it]"
     ]
    },
    {
     "name": "stdout",
     "output_type": "stream",
     "text": [
      "For epoch 133: \n",
      "{Learning rate: [0.0016046584262067406]}\n"
     ]
    },
    {
     "name": "stderr",
     "output_type": "stream",
     "text": [
      "Train batch number 99: 100%|██████████| 99/99 [00:25<00:00,  3.84batches/s]\n",
      "Test batch number 13: 100%|██████████| 13/13 [00:05<00:00,  2.33batches/s]\n"
     ]
    },
    {
     "name": "stdout",
     "output_type": "stream",
     "text": [
      "\n",
      "Metrics: {'train_loss': 0.009533693993374743, 'test_loss': 2.254662220294659, 'bleu': 20.7428, 'gen_len': 9.7525}\n",
      "\n",
      "=============================\n",
      "\n"
     ]
    },
    {
     "name": "stderr",
     "output_type": "stream",
     "text": [
      "  5%|▍         | 6/127 [03:19<1:07:41, 33.57s/it]"
     ]
    },
    {
     "name": "stdout",
     "output_type": "stream",
     "text": [
      "For epoch 134: \n",
      "{Learning rate: [0.001582980829742676]}\n"
     ]
    },
    {
     "name": "stderr",
     "output_type": "stream",
     "text": [
      "Train batch number 99: 100%|██████████| 99/99 [00:27<00:00,  3.59batches/s]\n",
      "Test batch number 13: 100%|██████████| 13/13 [00:05<00:00,  2.38batches/s]\n"
     ]
    },
    {
     "name": "stdout",
     "output_type": "stream",
     "text": [
      "\n",
      "Metrics: {'train_loss': 0.009566273689599275, 'test_loss': 2.2392224348508396, 'bleu': 21.4989, 'gen_len': 9.4444}\n",
      "\n",
      "=============================\n",
      "\n"
     ]
    },
    {
     "name": "stderr",
     "output_type": "stream",
     "text": [
      "  6%|▌         | 7/127 [03:56<1:09:02, 34.52s/it]"
     ]
    },
    {
     "name": "stdout",
     "output_type": "stream",
     "text": [
      "For epoch 135: \n",
      "{Learning rate: [0.0015613279346417775]}\n"
     ]
    },
    {
     "name": "stderr",
     "output_type": "stream",
     "text": [
      "Train batch number 99: 100%|██████████| 99/99 [00:25<00:00,  3.91batches/s]\n",
      "Test batch number 13: 100%|██████████| 13/13 [00:05<00:00,  2.43batches/s]\n"
     ]
    },
    {
     "name": "stdout",
     "output_type": "stream",
     "text": [
      "\n",
      "Metrics: {'train_loss': 0.010067646219124642, 'test_loss': 2.256319522857666, 'bleu': 22.2004, 'gen_len': 9.4394}\n",
      "\n",
      "=============================\n",
      "\n"
     ]
    },
    {
     "name": "stderr",
     "output_type": "stream",
     "text": [
      "  6%|▋         | 8/127 [04:29<1:08:03, 34.32s/it]"
     ]
    },
    {
     "name": "stdout",
     "output_type": "stream",
     "text": [
      "For epoch 136: \n",
      "{Learning rate: [0.0015397031212478378]}\n"
     ]
    },
    {
     "name": "stderr",
     "output_type": "stream",
     "text": [
      "Train batch number 99: 100%|██████████| 99/99 [00:25<00:00,  3.92batches/s]\n",
      "Test batch number 13: 100%|██████████| 13/13 [00:05<00:00,  2.40batches/s]\n"
     ]
    },
    {
     "name": "stdout",
     "output_type": "stream",
     "text": [
      "\n",
      "Metrics: {'train_loss': 0.010353750221765214, 'test_loss': 2.2451428266671987, 'bleu': 20.9362, 'gen_len': 9.5455}\n",
      "\n",
      "=============================\n",
      "\n"
     ]
    },
    {
     "name": "stderr",
     "output_type": "stream",
     "text": [
      "  7%|▋         | 9/127 [05:04<1:07:29, 34.31s/it]"
     ]
    },
    {
     "name": "stdout",
     "output_type": "stream",
     "text": [
      "For epoch 137: \n",
      "{Learning rate: [0.0015181097655206726]}\n"
     ]
    },
    {
     "name": "stderr",
     "output_type": "stream",
     "text": [
      "Train batch number 99: 100%|██████████| 99/99 [00:23<00:00,  4.29batches/s]\n",
      "Test batch number 13: 100%|██████████| 13/13 [00:07<00:00,  1.84batches/s]\n"
     ]
    },
    {
     "name": "stdout",
     "output_type": "stream",
     "text": [
      "\n",
      "Metrics: {'train_loss': 0.009983535619650149, 'test_loss': 2.242922278550955, 'bleu': 21.5667, 'gen_len': 9.3687}\n",
      "\n",
      "=============================\n",
      "\n"
     ]
    },
    {
     "name": "stderr",
     "output_type": "stream",
     "text": [
      "  8%|▊         | 10/127 [05:37<1:06:24, 34.05s/it]"
     ]
    },
    {
     "name": "stdout",
     "output_type": "stream",
     "text": [
      "For epoch 138: \n",
      "{Learning rate: [0.0014965512385090786]}\n"
     ]
    },
    {
     "name": "stderr",
     "output_type": "stream",
     "text": [
      "Train batch number 99: 100%|██████████| 99/99 [00:24<00:00,  4.06batches/s]\n",
      "Test batch number 13: 100%|██████████| 13/13 [00:06<00:00,  2.06batches/s]\n"
     ]
    },
    {
     "name": "stdout",
     "output_type": "stream",
     "text": [
      "\n",
      "Metrics: {'train_loss': 0.009695744325966585, 'test_loss': 2.240949135560256, 'bleu': 20.7767, 'gen_len': 9.5556}\n",
      "\n",
      "=============================\n",
      "\n"
     ]
    },
    {
     "name": "stderr",
     "output_type": "stream",
     "text": [
      "  9%|▊         | 11/127 [06:11<1:05:52, 34.07s/it]"
     ]
    },
    {
     "name": "stdout",
     "output_type": "stream",
     "text": [
      "For epoch 139: \n",
      "{Learning rate: [0.0014750309058245662]}\n"
     ]
    },
    {
     "name": "stderr",
     "output_type": "stream",
     "text": [
      "Train batch number 99: 100%|██████████| 99/99 [00:24<00:00,  4.00batches/s]\n",
      "Test batch number 13: 100%|██████████| 13/13 [00:06<00:00,  2.11batches/s]\n"
     ]
    },
    {
     "name": "stdout",
     "output_type": "stream",
     "text": [
      "\n",
      "Metrics: {'train_loss': 0.00962345343996827, 'test_loss': 2.232389266674335, 'bleu': 21.8739, 'gen_len': 9.6364}\n",
      "\n",
      "=============================\n",
      "\n"
     ]
    },
    {
     "name": "stderr",
     "output_type": "stream",
     "text": [
      "  9%|▉         | 12/127 [06:46<1:05:34, 34.21s/it]"
     ]
    },
    {
     "name": "stdout",
     "output_type": "stream",
     "text": [
      "For epoch 140: \n",
      "{Learning rate: [0.0014535521271159335]}\n"
     ]
    },
    {
     "name": "stderr",
     "output_type": "stream",
     "text": [
      "Train batch number 99: 100%|██████████| 99/99 [00:24<00:00,  4.04batches/s]\n",
      "Test batch number 13: 100%|██████████| 13/13 [00:05<00:00,  2.50batches/s]\n"
     ]
    },
    {
     "name": "stdout",
     "output_type": "stream",
     "text": [
      "\n",
      "Metrics: {'train_loss': 0.010084092475631454, 'test_loss': 2.238470517672025, 'bleu': 21.3065, 'gen_len': 9.4242}\n",
      "\n",
      "=============================\n",
      "\n"
     ]
    },
    {
     "name": "stderr",
     "output_type": "stream",
     "text": [
      " 10%|█         | 13/127 [07:19<1:04:23, 33.89s/it]"
     ]
    },
    {
     "name": "stdout",
     "output_type": "stream",
     "text": [
      "For epoch 141: \n",
      "{Learning rate: [0.0014321182555447763]}\n"
     ]
    },
    {
     "name": "stderr",
     "output_type": "stream",
     "text": [
      "Train batch number 99: 100%|██████████| 99/99 [00:25<00:00,  3.95batches/s]\n",
      "Test batch number 13: 100%|██████████| 13/13 [00:05<00:00,  2.32batches/s]\n"
     ]
    },
    {
     "name": "stdout",
     "output_type": "stream",
     "text": [
      "\n",
      "Metrics: {'train_loss': 0.009426561244786953, 'test_loss': 2.246557226547828, 'bleu': 20.6641, 'gen_len': 9.5758}\n",
      "\n",
      "=============================\n",
      "\n"
     ]
    },
    {
     "name": "stderr",
     "output_type": "stream",
     "text": [
      " 11%|█         | 14/127 [07:54<1:04:08, 34.06s/it]"
     ]
    },
    {
     "name": "stdout",
     "output_type": "stream",
     "text": [
      "For epoch 142: \n",
      "{Learning rate: [0.0014107326372620084]}\n"
     ]
    },
    {
     "name": "stderr",
     "output_type": "stream",
     "text": [
      "Train batch number 99: 100%|██████████| 99/99 [00:27<00:00,  3.57batches/s]\n",
      "Test batch number 13: 100%|██████████| 13/13 [00:06<00:00,  2.00batches/s]\n"
     ]
    },
    {
     "name": "stdout",
     "output_type": "stream",
     "text": [
      "\n",
      "Metrics: {'train_loss': 0.008892976118291662, 'test_loss': 2.2288229098686805, 'bleu': 20.8423, 'gen_len': 9.7121}\n",
      "\n",
      "=============================\n",
      "\n"
     ]
    },
    {
     "name": "stderr",
     "output_type": "stream",
     "text": [
      " 12%|█▏        | 15/127 [08:31<1:05:41, 35.19s/it]"
     ]
    },
    {
     "name": "stdout",
     "output_type": "stream",
     "text": [
      "For epoch 143: \n",
      "{Learning rate: [0.001389398610885476]}\n"
     ]
    },
    {
     "name": "stderr",
     "output_type": "stream",
     "text": [
      "Train batch number 99: 100%|██████████| 99/99 [00:24<00:00,  4.12batches/s]\n",
      "Test batch number 13: 100%|██████████| 13/13 [00:05<00:00,  2.45batches/s]\n"
     ]
    },
    {
     "name": "stdout",
     "output_type": "stream",
     "text": [
      "\n",
      "Metrics: {'train_loss': 0.008853008919466061, 'test_loss': 2.240924440897428, 'bleu': 21.1753, 'gen_len': 9.7475}\n",
      "\n",
      "=============================\n",
      "\n"
     ]
    },
    {
     "name": "stderr",
     "output_type": "stream",
     "text": [
      " 13%|█▎        | 16/127 [09:04<1:03:45, 34.47s/it]"
     ]
    },
    {
     "name": "stdout",
     "output_type": "stream",
     "text": [
      "For epoch 144: \n",
      "{Learning rate: [0.0013681195069787516]}\n"
     ]
    },
    {
     "name": "stderr",
     "output_type": "stream",
     "text": [
      "Train batch number 99: 100%|██████████| 99/99 [00:25<00:00,  3.89batches/s]\n",
      "Test batch number 13: 100%|██████████| 13/13 [00:05<00:00,  2.57batches/s]\n"
     ]
    },
    {
     "name": "stdout",
     "output_type": "stream",
     "text": [
      "\n",
      "Metrics: {'train_loss': 0.009441021898046437, 'test_loss': 2.235221972832313, 'bleu': 20.9702, 'gen_len': 9.5859}\n",
      "\n",
      "=============================\n",
      "\n"
     ]
    },
    {
     "name": "stderr",
     "output_type": "stream",
     "text": [
      " 13%|█▎        | 17/127 [09:38<1:02:48, 34.26s/it]"
     ]
    },
    {
     "name": "stdout",
     "output_type": "stream",
     "text": [
      "For epoch 145: \n",
      "{Learning rate: [0.0013468986475311795]}\n"
     ]
    },
    {
     "name": "stderr",
     "output_type": "stream",
     "text": [
      "Train batch number 99: 100%|██████████| 99/99 [00:22<00:00,  4.33batches/s]\n",
      "Test batch number 13: 100%|██████████| 13/13 [00:05<00:00,  2.20batches/s]\n"
     ]
    },
    {
     "name": "stdout",
     "output_type": "stream",
     "text": [
      "\n",
      "Metrics: {'train_loss': 0.009206032268162065, 'test_loss': 2.2394528755774865, 'bleu': 21.0219, 'gen_len': 9.6616}\n",
      "\n",
      "=============================\n",
      "\n"
     ]
    },
    {
     "name": "stderr",
     "output_type": "stream",
     "text": [
      " 14%|█▍        | 18/127 [10:10<1:01:05, 33.63s/it]"
     ]
    },
    {
     "name": "stdout",
     "output_type": "stream",
     "text": [
      "For epoch 146: \n",
      "{Learning rate: [0.0013257393454392651]}\n"
     ]
    },
    {
     "name": "stderr",
     "output_type": "stream",
     "text": [
      "Train batch number 99: 100%|██████████| 99/99 [00:25<00:00,  3.83batches/s]\n",
      "Test batch number 13: 100%|██████████| 13/13 [00:06<00:00,  1.88batches/s]\n"
     ]
    },
    {
     "name": "stdout",
     "output_type": "stream",
     "text": [
      "\n",
      "Metrics: {'train_loss': 0.009174660576102936, 'test_loss': 2.2630631923675537, 'bleu': 21.4932, 'gen_len': 9.399}\n",
      "\n",
      "=============================\n",
      "\n"
     ]
    },
    {
     "name": "stderr",
     "output_type": "stream",
     "text": [
      " 15%|█▍        | 19/127 [10:47<1:02:16, 34.59s/it]"
     ]
    },
    {
     "name": "stdout",
     "output_type": "stream",
     "text": [
      "For epoch 147: \n",
      "{Learning rate: [0.0013046449039894818]}\n"
     ]
    },
    {
     "name": "stderr",
     "output_type": "stream",
     "text": [
      "Train batch number 99: 100%|██████████| 99/99 [00:25<00:00,  3.93batches/s]\n",
      "Test batch number 13: 100%|██████████| 13/13 [00:05<00:00,  2.22batches/s]\n"
     ]
    },
    {
     "name": "stdout",
     "output_type": "stream",
     "text": [
      "\n",
      "Metrics: {'train_loss': 0.008845205923819896, 'test_loss': 2.259305706390968, 'bleu': 21.3082, 'gen_len': 9.4141}\n",
      "\n",
      "=============================\n",
      "\n"
     ]
    },
    {
     "name": "stderr",
     "output_type": "stream",
     "text": [
      " 16%|█▌        | 20/127 [11:21<1:01:41, 34.59s/it]"
     ]
    },
    {
     "name": "stdout",
     "output_type": "stream",
     "text": [
      "For epoch 148: \n",
      "{Learning rate: [0.0012836186163425773]}\n"
     ]
    },
    {
     "name": "stderr",
     "output_type": "stream",
     "text": [
      "Train batch number 99: 100%|██████████| 99/99 [00:23<00:00,  4.21batches/s]\n",
      "Test batch number 13: 100%|██████████| 13/13 [00:05<00:00,  2.30batches/s]\n"
     ]
    },
    {
     "name": "stdout",
     "output_type": "stream",
     "text": [
      "\n",
      "Metrics: {'train_loss': 0.009235824899268195, 'test_loss': 2.255506708071782, 'bleu': 21.3977, 'gen_len': 9.5303}\n",
      "\n",
      "=============================\n",
      "\n"
     ]
    },
    {
     "name": "stderr",
     "output_type": "stream",
     "text": [
      " 17%|█▋        | 21/127 [11:54<59:58, 33.95s/it]  "
     ]
    },
    {
     "name": "stdout",
     "output_type": "stream",
     "text": [
      "For epoch 149: \n",
      "{Learning rate: [0.0012626637650194616]}\n"
     ]
    },
    {
     "name": "stderr",
     "output_type": "stream",
     "text": [
      "Train batch number 99: 100%|██████████| 99/99 [00:25<00:00,  3.90batches/s]\n",
      "Test batch number 13: 100%|██████████| 13/13 [00:05<00:00,  2.24batches/s]\n"
     ]
    },
    {
     "name": "stdout",
     "output_type": "stream",
     "text": [
      "\n",
      "Metrics: {'train_loss': 0.008505755114413779, 'test_loss': 2.2598138130628147, 'bleu': 21.7603, 'gen_len': 9.4899}\n",
      "\n",
      "=============================\n",
      "\n"
     ]
    },
    {
     "name": "stderr",
     "output_type": "stream",
     "text": [
      " 17%|█▋        | 22/127 [12:29<59:45, 34.15s/it]"
     ]
    },
    {
     "name": "stdout",
     "output_type": "stream",
     "text": [
      "For epoch 150: \n",
      "{Learning rate: [0.0012417836213887555]}\n"
     ]
    },
    {
     "name": "stderr",
     "output_type": "stream",
     "text": [
      "Train batch number 99: 100%|██████████| 99/99 [00:22<00:00,  4.31batches/s]\n",
      "Test batch number 13: 100%|██████████| 13/13 [00:05<00:00,  2.28batches/s]\n"
     ]
    },
    {
     "name": "stdout",
     "output_type": "stream",
     "text": [
      "\n",
      "Metrics: {'train_loss': 0.00888604568929007, 'test_loss': 2.242174111879789, 'bleu': 21.0732, 'gen_len': 9.6515}\n",
      "\n",
      "=============================\n",
      "\n"
     ]
    },
    {
     "name": "stderr",
     "output_type": "stream",
     "text": [
      " 18%|█▊        | 23/127 [13:01<58:09, 33.55s/it]"
     ]
    },
    {
     "name": "stdout",
     "output_type": "stream",
     "text": [
      "For epoch 151: \n",
      "{Learning rate: [0.001220981445156084]}\n"
     ]
    },
    {
     "name": "stderr",
     "output_type": "stream",
     "text": [
      "Train batch number 99: 100%|██████████| 99/99 [00:27<00:00,  3.59batches/s]\n",
      "Test batch number 13: 100%|██████████| 13/13 [00:06<00:00,  1.89batches/s]\n"
     ]
    },
    {
     "name": "stdout",
     "output_type": "stream",
     "text": [
      "\n",
      "Metrics: {'train_loss': 0.008857143289677686, 'test_loss': 2.2432365050682654, 'bleu': 20.9425, 'gen_len': 9.6263}\n",
      "\n",
      "=============================\n",
      "\n"
     ]
    },
    {
     "name": "stderr",
     "output_type": "stream",
     "text": [
      " 19%|█▉        | 24/127 [13:39<59:55, 34.90s/it]"
     ]
    },
    {
     "name": "stdout",
     "output_type": "stream",
     "text": [
      "For epoch 152: \n",
      "{Learning rate: [0.001200260483855181]}\n"
     ]
    },
    {
     "name": "stderr",
     "output_type": "stream",
     "text": [
      "Train batch number 99: 100%|██████████| 99/99 [00:23<00:00,  4.13batches/s]\n",
      "Test batch number 13: 100%|██████████| 13/13 [00:05<00:00,  2.26batches/s]\n"
     ]
    },
    {
     "name": "stdout",
     "output_type": "stream",
     "text": [
      "\n",
      "Metrics: {'train_loss': 0.00906474590524937, 'test_loss': 2.2478295381252584, 'bleu': 21.236, 'gen_len': 9.5505}\n",
      "\n",
      "=============================\n",
      "\n"
     ]
    },
    {
     "name": "stderr",
     "output_type": "stream",
     "text": [
      " 20%|█▉        | 25/127 [14:12<58:34, 34.45s/it]"
     ]
    },
    {
     "name": "stdout",
     "output_type": "stream",
     "text": [
      "For epoch 153: \n",
      "{Learning rate: [0.0011796239723409062]}\n"
     ]
    },
    {
     "name": "stderr",
     "output_type": "stream",
     "text": [
      "Train batch number 99: 100%|██████████| 99/99 [00:28<00:00,  3.51batches/s]\n",
      "Test batch number 13: 100%|██████████| 13/13 [00:05<00:00,  2.58batches/s]\n"
     ]
    },
    {
     "name": "stdout",
     "output_type": "stream",
     "text": [
      "\n",
      "Metrics: {'train_loss': 0.008403809069693464, 'test_loss': 2.236955138353201, 'bleu': 20.9646, 'gen_len': 9.6616}\n",
      "\n",
      "=============================\n",
      "\n"
     ]
    },
    {
     "name": "stderr",
     "output_type": "stream",
     "text": [
      " 20%|██        | 26/127 [14:49<59:01, 35.06s/it]"
     ]
    },
    {
     "name": "stdout",
     "output_type": "stream",
     "text": [
      "For epoch 154: \n",
      "{Learning rate: [0.0011590751322842307]}\n"
     ]
    },
    {
     "name": "stderr",
     "output_type": "stream",
     "text": [
      "Train batch number 99: 100%|██████████| 99/99 [00:25<00:00,  3.90batches/s]\n",
      "Test batch number 13: 100%|██████████| 13/13 [00:05<00:00,  2.50batches/s]\n"
     ]
    },
    {
     "name": "stdout",
     "output_type": "stream",
     "text": [
      "\n",
      "Metrics: {'train_loss': 0.009083289644831434, 'test_loss': 2.2354369255212636, 'bleu': 21.1124, 'gen_len': 9.6313}\n",
      "\n",
      "=============================\n",
      "\n"
     ]
    },
    {
     "name": "stderr",
     "output_type": "stream",
     "text": [
      " 21%|██▏       | 27/127 [15:23<57:50, 34.71s/it]"
     ]
    },
    {
     "name": "stdout",
     "output_type": "stream",
     "text": [
      "For epoch 155: \n",
      "{Learning rate: [0.0011386171716692883]}\n"
     ]
    },
    {
     "name": "stderr",
     "output_type": "stream",
     "text": [
      "Train batch number 99: 100%|██████████| 99/99 [00:23<00:00,  4.28batches/s]\n",
      "Test batch number 13: 100%|██████████| 13/13 [00:05<00:00,  2.57batches/s]\n"
     ]
    },
    {
     "name": "stdout",
     "output_type": "stream",
     "text": [
      "\n",
      "Metrics: {'train_loss': 0.008890271513732244, 'test_loss': 2.251529097557068, 'bleu': 20.7936, 'gen_len': 9.5202}\n",
      "\n",
      "=============================\n",
      "\n"
     ]
    },
    {
     "name": "stderr",
     "output_type": "stream",
     "text": [
      " 22%|██▏       | 28/127 [15:54<55:38, 33.73s/it]"
     ]
    },
    {
     "name": "stdout",
     "output_type": "stream",
     "text": [
      "For epoch 156: \n",
      "{Learning rate: [0.0011182532842925598]}\n"
     ]
    },
    {
     "name": "stderr",
     "output_type": "stream",
     "text": [
      "Train batch number 99: 100%|██████████| 99/99 [00:25<00:00,  3.93batches/s]\n",
      "Test batch number 13: 100%|██████████| 13/13 [00:05<00:00,  2.50batches/s]\n"
     ]
    },
    {
     "name": "stdout",
     "output_type": "stream",
     "text": [
      "\n",
      "Metrics: {'train_loss': 0.00827378982729796, 'test_loss': 2.2408445339936476, 'bleu': 20.4457, 'gen_len': 9.6515}\n",
      "\n",
      "=============================\n",
      "\n"
     ]
    },
    {
     "name": "stderr",
     "output_type": "stream",
     "text": [
      " 23%|██▎       | 29/127 [16:28<55:04, 33.72s/it]"
     ]
    },
    {
     "name": "stdout",
     "output_type": "stream",
     "text": [
      "For epoch 157: \n",
      "{Learning rate: [0.0010979866492642752]}\n"
     ]
    },
    {
     "name": "stderr",
     "output_type": "stream",
     "text": [
      "Train batch number 99: 100%|██████████| 99/99 [00:22<00:00,  4.33batches/s]\n",
      "Test batch number 13: 100%|██████████| 13/13 [00:05<00:00,  2.52batches/s]\n"
     ]
    },
    {
     "name": "stdout",
     "output_type": "stream",
     "text": [
      "\n",
      "Metrics: {'train_loss': 0.008898738064659722, 'test_loss': 2.245450579203092, 'bleu': 20.2514, 'gen_len': 9.6465}\n",
      "\n",
      "=============================\n",
      "\n"
     ]
    },
    {
     "name": "stderr",
     "output_type": "stream",
     "text": [
      " 24%|██▎       | 30/127 [16:59<53:20, 32.99s/it]"
     ]
    },
    {
     "name": "stdout",
     "output_type": "stream",
     "text": [
      "For epoch 158: \n",
      "{Learning rate: [0.0010778204305121023]}\n"
     ]
    },
    {
     "name": "stderr",
     "output_type": "stream",
     "text": [
      "Train batch number 99: 100%|██████████| 99/99 [00:26<00:00,  3.80batches/s]\n",
      "Test batch number 13: 100%|██████████| 13/13 [00:05<00:00,  2.32batches/s]\n"
     ]
    },
    {
     "name": "stdout",
     "output_type": "stream",
     "text": [
      "\n",
      "Metrics: {'train_loss': 0.008699371476217898, 'test_loss': 2.2404308777589064, 'bleu': 20.2852, 'gen_len': 9.6566}\n",
      "\n",
      "=============================\n",
      "\n"
     ]
    },
    {
     "name": "stderr",
     "output_type": "stream",
     "text": [
      " 24%|██▍       | 31/127 [17:34<53:55, 33.70s/it]"
     ]
    },
    {
     "name": "stdout",
     "output_type": "stream",
     "text": [
      "For epoch 159: \n",
      "{Learning rate: [0.001057757776287214]}\n"
     ]
    },
    {
     "name": "stderr",
     "output_type": "stream",
     "text": [
      "Train batch number 99: 100%|██████████| 99/99 [00:24<00:00,  4.04batches/s]\n",
      "Test batch number 13: 100%|██████████| 13/13 [00:06<00:00,  1.94batches/s]\n"
     ]
    },
    {
     "name": "stdout",
     "output_type": "stream",
     "text": [
      "\n",
      "Metrics: {'train_loss': 0.0085472582764171, 'test_loss': 2.235091356130747, 'bleu': 20.5059, 'gen_len': 9.6616}\n",
      "\n",
      "=============================\n",
      "\n"
     ]
    },
    {
     "name": "stderr",
     "output_type": "stream",
     "text": [
      " 25%|██▌       | 32/127 [18:09<53:52, 34.02s/it]"
     ]
    },
    {
     "name": "stdout",
     "output_type": "stream",
     "text": [
      "For epoch 160: \n",
      "{Learning rate: [0.0010378018186727965]}\n"
     ]
    },
    {
     "name": "stderr",
     "output_type": "stream",
     "text": [
      "Train batch number 99: 100%|██████████| 99/99 [00:25<00:00,  3.85batches/s]\n",
      "Test batch number 13: 100%|██████████| 13/13 [00:06<00:00,  2.02batches/s]\n"
     ]
    },
    {
     "name": "stdout",
     "output_type": "stream",
     "text": [
      "\n",
      "Metrics: {'train_loss': 0.008522144438536612, 'test_loss': 2.2371570788897, 'bleu': 20.7675, 'gen_len': 9.4444}\n",
      "\n",
      "=============================\n",
      "\n"
     ]
    },
    {
     "name": "stderr",
     "output_type": "stream",
     "text": [
      " 26%|██▌       | 33/127 [18:45<54:04, 34.52s/it]"
     ]
    },
    {
     "name": "stdout",
     "output_type": "stream",
     "text": [
      "For epoch 161: \n",
      "{Learning rate: [0.0010179556730950843]}\n"
     ]
    },
    {
     "name": "stderr",
     "output_type": "stream",
     "text": [
      "Train batch number 99: 100%|██████████| 99/99 [00:24<00:00,  4.11batches/s]\n",
      "Test batch number 13: 100%|██████████| 13/13 [00:05<00:00,  2.41batches/s]\n"
     ]
    },
    {
     "name": "stdout",
     "output_type": "stream",
     "text": [
      "\n",
      "Metrics: {'train_loss': 0.008582725967198253, 'test_loss': 2.233150225419265, 'bleu': 21.2716, 'gen_len': 9.4495}\n",
      "\n",
      "=============================\n",
      "\n"
     ]
    },
    {
     "name": "stderr",
     "output_type": "stream",
     "text": [
      " 27%|██▋       | 34/127 [19:18<53:00, 34.20s/it]"
     ]
    },
    {
     "name": "stdout",
     "output_type": "stream",
     "text": [
      "For epoch 162: \n",
      "{Learning rate: [0.000998222437836995]}\n"
     ]
    },
    {
     "name": "stderr",
     "output_type": "stream",
     "text": [
      "Train batch number 99: 100%|██████████| 99/99 [00:25<00:00,  3.83batches/s]\n",
      "Test batch number 13: 100%|██████████| 13/13 [00:05<00:00,  2.45batches/s]\n"
     ]
    },
    {
     "name": "stdout",
     "output_type": "stream",
     "text": [
      "\n",
      "Metrics: {'train_loss': 0.00827511398249889, 'test_loss': 2.2469994746721706, 'bleu': 20.6851, 'gen_len': 9.6616}\n",
      "\n",
      "=============================\n",
      "\n"
     ]
    },
    {
     "name": "stderr",
     "output_type": "stream",
     "text": [
      " 28%|██▊       | 35/127 [19:54<53:03, 34.61s/it]"
     ]
    },
    {
     "name": "stdout",
     "output_type": "stream",
     "text": [
      "For epoch 163: \n",
      "{Learning rate: [0.0009786051935544418]}\n"
     ]
    },
    {
     "name": "stderr",
     "output_type": "stream",
     "text": [
      "Train batch number 99: 100%|██████████| 99/99 [00:22<00:00,  4.38batches/s]\n",
      "Test batch number 13: 100%|██████████| 13/13 [00:05<00:00,  2.53batches/s]\n"
     ]
    },
    {
     "name": "stdout",
     "output_type": "stream",
     "text": [
      "\n",
      "Metrics: {'train_loss': 0.008239460942062616, 'test_loss': 2.249081116456252, 'bleu': 20.9635, 'gen_len': 9.4444}\n",
      "\n",
      "=============================\n",
      "\n"
     ]
    },
    {
     "name": "stderr",
     "output_type": "stream",
     "text": [
      " 28%|██▊       | 36/127 [20:25<51:07, 33.71s/it]"
     ]
    },
    {
     "name": "stdout",
     "output_type": "stream",
     "text": [
      "For epoch 164: \n",
      "{Learning rate: [0.0009591070027953949]}\n"
     ]
    },
    {
     "name": "stderr",
     "output_type": "stream",
     "text": [
      "Train batch number 99: 100%|██████████| 99/99 [00:27<00:00,  3.61batches/s]\n",
      "Test batch number 13: 100%|██████████| 13/13 [00:10<00:00,  1.30batches/s]\n"
     ]
    },
    {
     "name": "stdout",
     "output_type": "stream",
     "text": [
      "\n",
      "Metrics: {'train_loss': 0.008087239149990821, 'test_loss': 2.236692034281217, 'bleu': 21.4737, 'gen_len': 9.5758}\n",
      "\n",
      "=============================\n",
      "\n"
     ]
    },
    {
     "name": "stderr",
     "output_type": "stream",
     "text": [
      " 29%|██▉       | 37/127 [21:07<53:56, 35.97s/it]"
     ]
    },
    {
     "name": "stdout",
     "output_type": "stream",
     "text": [
      "For epoch 165: \n",
      "{Learning rate: [0.0009397309095217734]}\n"
     ]
    },
    {
     "name": "stderr",
     "output_type": "stream",
     "text": [
      "Train batch number 99: 100%|██████████| 99/99 [00:29<00:00,  3.31batches/s]\n",
      "Test batch number 13: 100%|██████████| 13/13 [00:04<00:00,  2.68batches/s]\n"
     ]
    },
    {
     "name": "stdout",
     "output_type": "stream",
     "text": [
      "\n",
      "Metrics: {'train_loss': 0.007892291972618268, 'test_loss': 2.2422642341026893, 'bleu': 20.5868, 'gen_len': 9.5606}\n",
      "\n",
      "=============================\n",
      "\n"
     ]
    },
    {
     "name": "stderr",
     "output_type": "stream",
     "text": [
      " 30%|██▉       | 38/127 [21:46<54:46, 36.93s/it]"
     ]
    },
    {
     "name": "stdout",
     "output_type": "stream",
     "text": [
      "For epoch 166: \n",
      "{Learning rate: [0.0009204799386342335]}\n"
     ]
    },
    {
     "name": "stderr",
     "output_type": "stream",
     "text": [
      "Train batch number 99: 100%|██████████| 99/99 [00:28<00:00,  3.52batches/s]\n",
      "Test batch number 13: 100%|██████████| 13/13 [00:05<00:00,  2.44batches/s]\n"
     ]
    },
    {
     "name": "stdout",
     "output_type": "stream",
     "text": [
      "\n",
      "Metrics: {'train_loss': 0.008073718922337367, 'test_loss': 2.234544332210834, 'bleu': 21.0119, 'gen_len': 9.5455}\n",
      "\n",
      "=============================\n",
      "\n"
     ]
    },
    {
     "name": "stderr",
     "output_type": "stream",
     "text": [
      " 31%|███       | 39/127 [22:23<54:10, 36.94s/it]"
     ]
    },
    {
     "name": "stdout",
     "output_type": "stream",
     "text": [
      "For epoch 167: \n",
      "{Learning rate: [0.0009013570954999398]}\n"
     ]
    },
    {
     "name": "stderr",
     "output_type": "stream",
     "text": [
      "Train batch number 99: 100%|██████████| 99/99 [00:26<00:00,  3.75batches/s]\n",
      "Test batch number 13: 100%|██████████| 13/13 [00:06<00:00,  1.93batches/s]\n"
     ]
    },
    {
     "name": "stdout",
     "output_type": "stream",
     "text": [
      "\n",
      "Metrics: {'train_loss': 0.008669563476819395, 'test_loss': 2.2304866038835964, 'bleu': 21.1359, 'gen_len': 9.5707}\n",
      "\n",
      "=============================\n",
      "\n"
     ]
    },
    {
     "name": "stderr",
     "output_type": "stream",
     "text": [
      " 31%|███▏      | 40/127 [22:59<53:26, 36.85s/it]"
     ]
    },
    {
     "name": "stdout",
     "output_type": "stream",
     "text": [
      "For epoch 168: \n",
      "{Learning rate: [0.0008823653654833809]}\n"
     ]
    },
    {
     "name": "stderr",
     "output_type": "stream",
     "text": [
      "Train batch number 99: 100%|██████████| 99/99 [00:30<00:00,  3.22batches/s]\n",
      "Test batch number 13: 100%|██████████| 13/13 [00:05<00:00,  2.57batches/s]\n"
     ]
    },
    {
     "name": "stdout",
     "output_type": "stream",
     "text": [
      "\n",
      "Metrics: {'train_loss': 0.008463248640776263, 'test_loss': 2.222757715445298, 'bleu': 21.3885, 'gen_len': 9.5758}\n",
      "\n",
      "=============================\n",
      "\n"
     ]
    },
    {
     "name": "stderr",
     "output_type": "stream",
     "text": [
      " 32%|███▏      | 41/127 [23:39<53:48, 37.54s/it]"
     ]
    },
    {
     "name": "stdout",
     "output_type": "stream",
     "text": [
      "For epoch 169: \n",
      "{Learning rate: [0.0008635077134803066]}\n"
     ]
    },
    {
     "name": "stderr",
     "output_type": "stream",
     "text": [
      "Train batch number 99: 100%|██████████| 99/99 [00:23<00:00,  4.25batches/s]\n",
      "Test batch number 13: 100%|██████████| 13/13 [00:05<00:00,  2.52batches/s]\n"
     ]
    },
    {
     "name": "stdout",
     "output_type": "stream",
     "text": [
      "\n",
      "Metrics: {'train_loss': 0.007931682775373278, 'test_loss': 2.2289291253456702, 'bleu': 20.8446, 'gen_len': 9.7677}\n",
      "\n",
      "=============================\n",
      "\n"
     ]
    },
    {
     "name": "stderr",
     "output_type": "stream",
     "text": [
      " 33%|███▎      | 42/127 [24:10<50:41, 35.78s/it]"
     ]
    },
    {
     "name": "stdout",
     "output_type": "stream",
     "text": [
      "For epoch 170: \n",
      "{Learning rate: [0.0008447870834548666]}\n"
     ]
    },
    {
     "name": "stderr",
     "output_type": "stream",
     "text": [
      "Train batch number 99: 100%|██████████| 99/99 [00:24<00:00,  4.03batches/s]\n",
      "Test batch number 13: 100%|██████████| 13/13 [00:05<00:00,  2.36batches/s]\n"
     ]
    },
    {
     "name": "stdout",
     "output_type": "stream",
     "text": [
      "\n",
      "Metrics: {'train_loss': 0.00789129921450336, 'test_loss': 2.2283684565470767, 'bleu': 21.1406, 'gen_len': 9.5657}\n",
      "\n",
      "=============================\n",
      "\n"
     ]
    },
    {
     "name": "stderr",
     "output_type": "stream",
     "text": [
      " 34%|███▍      | 43/127 [24:44<49:08, 35.10s/it]"
     ]
    },
    {
     "name": "stdout",
     "output_type": "stream",
     "text": [
      "For epoch 171: \n",
      "{Learning rate: [0.0008262063979800102]}\n"
     ]
    },
    {
     "name": "stderr",
     "output_type": "stream",
     "text": [
      "Train batch number 99: 100%|██████████| 99/99 [00:25<00:00,  3.90batches/s]\n",
      "Test batch number 13: 100%|██████████| 13/13 [00:05<00:00,  2.46batches/s]\n"
     ]
    },
    {
     "name": "stdout",
     "output_type": "stream",
     "text": [
      "\n",
      "Metrics: {'train_loss': 0.00783672134451935, 'test_loss': 2.218327760696411, 'bleu': 21.5113, 'gen_len': 9.596}\n",
      "\n",
      "=============================\n",
      "\n"
     ]
    },
    {
     "name": "stderr",
     "output_type": "stream",
     "text": [
      " 35%|███▍      | 44/127 [25:18<48:11, 34.83s/it]"
     ]
    },
    {
     "name": "stdout",
     "output_type": "stream",
     "text": [
      "For epoch 172: \n",
      "{Learning rate: [0.0008077685577812305]}\n"
     ]
    },
    {
     "name": "stderr",
     "output_type": "stream",
     "text": [
      "Train batch number 99: 100%|██████████| 99/99 [00:27<00:00,  3.60batches/s]\n",
      "Test batch number 13: 100%|██████████| 13/13 [00:04<00:00,  2.62batches/s]\n"
     ]
    },
    {
     "name": "stdout",
     "output_type": "stream",
     "text": [
      "\n",
      "Metrics: {'train_loss': 0.007664319012264693, 'test_loss': 2.216773610848647, 'bleu': 21.7943, 'gen_len': 9.7525}\n",
      "\n",
      "=============================\n",
      "\n"
     ]
    },
    {
     "name": "stderr",
     "output_type": "stream",
     "text": [
      " 35%|███▌      | 45/127 [25:54<48:12, 35.27s/it]"
     ]
    },
    {
     "name": "stdout",
     "output_type": "stream",
     "text": [
      "For epoch 173: \n",
      "{Learning rate: [0.000789476441283717]}\n"
     ]
    },
    {
     "name": "stderr",
     "output_type": "stream",
     "text": [
      "Train batch number 99: 100%|██████████| 99/99 [00:27<00:00,  3.60batches/s]\n",
      "Test batch number 13: 100%|██████████| 13/13 [00:05<00:00,  2.35batches/s]\n"
     ]
    },
    {
     "name": "stdout",
     "output_type": "stream",
     "text": [
      "\n",
      "Metrics: {'train_loss': 0.007640882885122362, 'test_loss': 2.2249651230298557, 'bleu': 21.6123, 'gen_len': 9.7121}\n",
      "\n",
      "=============================\n",
      "\n"
     ]
    },
    {
     "name": "stderr",
     "output_type": "stream",
     "text": [
      " 36%|███▌      | 46/127 [26:31<48:03, 35.60s/it]"
     ]
    },
    {
     "name": "stdout",
     "output_type": "stream",
     "text": [
      "For epoch 174: \n",
      "{Learning rate: [0.0007713329041629878]}\n"
     ]
    },
    {
     "name": "stderr",
     "output_type": "stream",
     "text": [
      "Train batch number 99: 100%|██████████| 99/99 [00:24<00:00,  4.01batches/s]\n",
      "Test batch number 13: 100%|██████████| 13/13 [00:06<00:00,  2.05batches/s]\n"
     ]
    },
    {
     "name": "stdout",
     "output_type": "stream",
     "text": [
      "\n",
      "Metrics: {'train_loss': 0.007820570034461773, 'test_loss': 2.2214041581520667, 'bleu': 22.1727, 'gen_len': 9.7475}\n",
      "\n",
      "=============================\n",
      "\n"
     ]
    },
    {
     "name": "stderr",
     "output_type": "stream",
     "text": [
      " 37%|███▋      | 47/127 [27:05<47:02, 35.28s/it]"
     ]
    },
    {
     "name": "stdout",
     "output_type": "stream",
     "text": [
      "For epoch 175: \n",
      "{Learning rate: [0.0007533407788990799]}\n"
     ]
    },
    {
     "name": "stderr",
     "output_type": "stream",
     "text": [
      "Train batch number 99: 100%|██████████| 99/99 [00:24<00:00,  4.06batches/s]\n",
      "Test batch number 13: 100%|██████████| 13/13 [00:08<00:00,  1.61batches/s]\n"
     ]
    },
    {
     "name": "stdout",
     "output_type": "stream",
     "text": [
      "\n",
      "Metrics: {'train_loss': 0.007750971813249929, 'test_loss': 2.2167366101191592, 'bleu': 21.9714, 'gen_len': 9.8283}\n",
      "\n",
      "=============================\n",
      "\n"
     ]
    },
    {
     "name": "stderr",
     "output_type": "stream",
     "text": [
      " 38%|███▊      | 48/127 [27:41<46:38, 35.42s/it]"
     ]
    },
    {
     "name": "stdout",
     "output_type": "stream",
     "text": [
      "For epoch 176: \n",
      "{Learning rate: [0.000735502874334351]}\n"
     ]
    },
    {
     "name": "stderr",
     "output_type": "stream",
     "text": [
      "Train batch number 99: 100%|██████████| 99/99 [00:26<00:00,  3.73batches/s]\n",
      "Test batch number 13: 100%|██████████| 13/13 [00:05<00:00,  2.32batches/s]\n"
     ]
    },
    {
     "name": "stdout",
     "output_type": "stream",
     "text": [
      "\n",
      "Metrics: {'train_loss': 0.007705116667725955, 'test_loss': 2.2184432378182044, 'bleu': 21.1673, 'gen_len': 9.7879}\n",
      "\n",
      "=============================\n",
      "\n"
     ]
    },
    {
     "name": "stderr",
     "output_type": "stream",
     "text": [
      " 39%|███▊      | 49/127 [28:16<46:05, 35.45s/it]"
     ]
    },
    {
     "name": "stdout",
     "output_type": "stream",
     "text": [
      "For epoch 177: \n",
      "{Learning rate: [0.0007178219752349817]}\n"
     ]
    },
    {
     "name": "stderr",
     "output_type": "stream",
     "text": [
      "Train batch number 99: 100%|██████████| 99/99 [00:24<00:00,  4.08batches/s]\n",
      "Test batch number 13: 100%|██████████| 13/13 [00:05<00:00,  2.29batches/s]\n"
     ]
    },
    {
     "name": "stdout",
     "output_type": "stream",
     "text": [
      "\n",
      "Metrics: {'train_loss': 0.007559430020105216, 'test_loss': 2.224810609450707, 'bleu': 21.4176, 'gen_len': 9.6566}\n",
      "\n",
      "=============================\n",
      "\n"
     ]
    },
    {
     "name": "stderr",
     "output_type": "stream",
     "text": [
      " 39%|███▉      | 50/127 [28:50<44:37, 34.78s/it]"
     ]
    },
    {
     "name": "stdout",
     "output_type": "stream",
     "text": [
      "For epoch 178: \n",
      "{Learning rate: [0.0007003008418562289]}\n"
     ]
    },
    {
     "name": "stderr",
     "output_type": "stream",
     "text": [
      "Train batch number 99: 100%|██████████| 99/99 [00:25<00:00,  3.87batches/s]\n",
      "Test batch number 13: 100%|██████████| 13/13 [00:06<00:00,  2.10batches/s]\n"
     ]
    },
    {
     "name": "stdout",
     "output_type": "stream",
     "text": [
      "\n",
      "Metrics: {'train_loss': 0.007573710307667051, 'test_loss': 2.2347279603664694, 'bleu': 21.8982, 'gen_len': 9.6263}\n",
      "\n",
      "=============================\n",
      "\n"
     ]
    },
    {
     "name": "stderr",
     "output_type": "stream",
     "text": [
      " 40%|████      | 51/127 [29:25<44:11, 34.89s/it]"
     ]
    },
    {
     "name": "stdout",
     "output_type": "stream",
     "text": [
      "For epoch 179: \n",
      "{Learning rate: [0.0006829422095115082]}\n"
     ]
    },
    {
     "name": "stderr",
     "output_type": "stream",
     "text": [
      "Train batch number 99: 100%|██████████| 99/99 [00:25<00:00,  3.92batches/s]\n",
      "Test batch number 13: 100%|██████████| 13/13 [00:05<00:00,  2.58batches/s]\n"
     ]
    },
    {
     "name": "stdout",
     "output_type": "stream",
     "text": [
      "\n",
      "Metrics: {'train_loss': 0.007575968246039172, 'test_loss': 2.230302022053645, 'bleu': 21.5338, 'gen_len': 9.6465}\n",
      "\n",
      "=============================\n",
      "\n"
     ]
    },
    {
     "name": "stderr",
     "output_type": "stream",
     "text": [
      " 41%|████      | 52/127 [29:59<43:29, 34.80s/it]"
     ]
    },
    {
     "name": "stdout",
     "output_type": "stream",
     "text": [
      "For epoch 180: \n",
      "{Learning rate: [0.0006657487881453716]}\n"
     ]
    },
    {
     "name": "stderr",
     "output_type": "stream",
     "text": [
      "Train batch number 99: 100%|██████████| 99/99 [00:22<00:00,  4.35batches/s]\n",
      "Test batch number 13: 100%|██████████| 13/13 [00:05<00:00,  2.59batches/s]\n"
     ]
    },
    {
     "name": "stdout",
     "output_type": "stream",
     "text": [
      "\n",
      "Metrics: {'train_loss': 0.007469870262094914, 'test_loss': 2.2295558819404016, 'bleu': 21.4726, 'gen_len': 9.6465}\n",
      "\n",
      "=============================\n",
      "\n"
     ]
    },
    {
     "name": "stderr",
     "output_type": "stream",
     "text": [
      " 42%|████▏     | 53/127 [30:31<41:33, 33.70s/it]"
     ]
    },
    {
     "name": "stdout",
     "output_type": "stream",
     "text": [
      "For epoch 181: \n",
      "{Learning rate: [0.0006487232619104416]}\n"
     ]
    },
    {
     "name": "stderr",
     "output_type": "stream",
     "text": [
      "Train batch number 99: 100%|██████████| 99/99 [00:23<00:00,  4.22batches/s]\n",
      "Test batch number 13: 100%|██████████| 13/13 [00:05<00:00,  2.43batches/s]\n"
     ]
    },
    {
     "name": "stdout",
     "output_type": "stream",
     "text": [
      "\n",
      "Metrics: {'train_loss': 0.007407938617321597, 'test_loss': 2.233359382702754, 'bleu': 21.306, 'gen_len': 9.7071}\n",
      "\n",
      "=============================\n",
      "\n"
     ]
    },
    {
     "name": "stderr",
     "output_type": "stream",
     "text": [
      " 43%|████▎     | 54/127 [31:03<40:31, 33.31s/it]"
     ]
    },
    {
     "name": "stdout",
     "output_type": "stream",
     "text": [
      "For epoch 182: \n",
      "{Learning rate: [0.0006318682887483779]}\n"
     ]
    },
    {
     "name": "stderr",
     "output_type": "stream",
     "text": [
      "Train batch number 99: 100%|██████████| 99/99 [00:24<00:00,  3.99batches/s]\n",
      "Test batch number 13: 100%|██████████| 13/13 [00:06<00:00,  2.09batches/s]\n"
     ]
    },
    {
     "name": "stdout",
     "output_type": "stream",
     "text": [
      "\n",
      "Metrics: {'train_loss': 0.007393482944344857, 'test_loss': 2.232848515877357, 'bleu': 21.3629, 'gen_len': 9.6869}\n",
      "\n",
      "=============================\n",
      "\n"
     ]
    },
    {
     "name": "stderr",
     "output_type": "stream",
     "text": [
      " 43%|████▎     | 55/127 [31:38<40:32, 33.78s/it]"
     ]
    },
    {
     "name": "stdout",
     "output_type": "stream",
     "text": [
      "For epoch 183: \n",
      "{Learning rate: [0.0006151864999749311]}\n"
     ]
    },
    {
     "name": "stderr",
     "output_type": "stream",
     "text": [
      "Train batch number 99: 100%|██████████| 99/99 [00:24<00:00,  4.03batches/s]\n",
      "Test batch number 13: 100%|██████████| 13/13 [00:05<00:00,  2.33batches/s]\n"
     ]
    },
    {
     "name": "stdout",
     "output_type": "stream",
     "text": [
      "\n",
      "Metrics: {'train_loss': 0.007393183609684741, 'test_loss': 2.2337035949413595, 'bleu': 21.2513, 'gen_len': 9.6869}\n",
      "\n",
      "=============================\n",
      "\n"
     ]
    },
    {
     "name": "stderr",
     "output_type": "stream",
     "text": [
      " 44%|████▍     | 56/127 [32:11<39:52, 33.70s/it]"
     ]
    },
    {
     "name": "stdout",
     "output_type": "stream",
     "text": [
      "For epoch 184: \n",
      "{Learning rate: [0.0005986804998691517]}\n"
     ]
    },
    {
     "name": "stderr",
     "output_type": "stream",
     "text": [
      "Train batch number 99: 100%|██████████| 99/99 [00:25<00:00,  3.93batches/s]\n",
      "Test batch number 13: 100%|██████████| 13/13 [00:05<00:00,  2.43batches/s]\n"
     ]
    },
    {
     "name": "stdout",
     "output_type": "stream",
     "text": [
      "\n",
      "Metrics: {'train_loss': 0.007284849319745777, 'test_loss': 2.2326796513337355, 'bleu': 21.6678, 'gen_len': 9.5808}\n",
      "\n",
      "=============================\n",
      "\n"
     ]
    },
    {
     "name": "stderr",
     "output_type": "stream",
     "text": [
      " 45%|████▍     | 57/127 [32:45<39:21, 33.74s/it]"
     ]
    },
    {
     "name": "stdout",
     "output_type": "stream",
     "text": [
      "For epoch 185: \n",
      "{Learning rate: [0.0005823528652668296]}\n"
     ]
    },
    {
     "name": "stderr",
     "output_type": "stream",
     "text": [
      "Train batch number 99: 100%|██████████| 99/99 [00:22<00:00,  4.35batches/s]\n",
      "Test batch number 13: 100%|██████████| 13/13 [00:04<00:00,  2.73batches/s]\n"
     ]
    },
    {
     "name": "stdout",
     "output_type": "stream",
     "text": [
      "\n",
      "Metrics: {'train_loss': 0.007267506497399411, 'test_loss': 2.227825586612408, 'bleu': 21.5922, 'gen_len': 9.4545}\n",
      "\n",
      "=============================\n",
      "\n"
     ]
    },
    {
     "name": "stderr",
     "output_type": "stream",
     "text": [
      " 46%|████▌     | 58/127 [33:16<37:49, 32.89s/it]"
     ]
    },
    {
     "name": "stdout",
     "output_type": "stream",
     "text": [
      "For epoch 186: \n",
      "{Learning rate: [0.0005662061451582036]}\n"
     ]
    },
    {
     "name": "stderr",
     "output_type": "stream",
     "text": [
      "Train batch number 99: 100%|██████████| 99/99 [00:24<00:00,  4.11batches/s]\n",
      "Test batch number 13: 100%|██████████| 13/13 [00:06<00:00,  2.11batches/s]\n"
     ]
    },
    {
     "name": "stdout",
     "output_type": "stream",
     "text": [
      "\n",
      "Metrics: {'train_loss': 0.0069927061377904574, 'test_loss': 2.2255900639754076, 'bleu': 21.3841, 'gen_len': 9.6768}\n",
      "\n",
      "=============================\n",
      "\n"
     ]
    },
    {
     "name": "stderr",
     "output_type": "stream",
     "text": [
      " 46%|████▋     | 59/127 [33:50<37:32, 33.12s/it]"
     ]
    },
    {
     "name": "stdout",
     "output_type": "stream",
     "text": [
      "For epoch 187: \n",
      "{Learning rate: [0.0005502428602900308]}\n"
     ]
    },
    {
     "name": "stderr",
     "output_type": "stream",
     "text": [
      "Train batch number 99: 100%|██████████| 99/99 [00:25<00:00,  3.94batches/s]\n",
      "Test batch number 13: 100%|██████████| 13/13 [00:05<00:00,  2.25batches/s]\n"
     ]
    },
    {
     "name": "stdout",
     "output_type": "stream",
     "text": [
      "\n",
      "Metrics: {'train_loss': 0.007565823821656669, 'test_loss': 2.2349574840985813, 'bleu': 21.6969, 'gen_len': 9.5253}\n",
      "\n",
      "=============================\n",
      "\n"
     ]
    },
    {
     "name": "stderr",
     "output_type": "stream",
     "text": [
      " 47%|████▋     | 60/127 [34:24<37:28, 33.55s/it]"
     ]
    },
    {
     "name": "stdout",
     "output_type": "stream",
     "text": [
      "For epoch 188: \n",
      "{Learning rate: [0.0005344655027720568]}\n"
     ]
    },
    {
     "name": "stderr",
     "output_type": "stream",
     "text": [
      "Train batch number 99: 100%|██████████| 99/99 [00:23<00:00,  4.21batches/s]\n",
      "Test batch number 13: 100%|██████████| 13/13 [00:05<00:00,  2.56batches/s]\n"
     ]
    },
    {
     "name": "stdout",
     "output_type": "stream",
     "text": [
      "\n",
      "Metrics: {'train_loss': 0.007249965798403748, 'test_loss': 2.2375553204463077, 'bleu': 21.7022, 'gen_len': 9.6061}\n",
      "\n",
      "=============================\n",
      "\n"
     ]
    },
    {
     "name": "stderr",
     "output_type": "stream",
     "text": [
      " 48%|████▊     | 61/127 [34:56<36:17, 32.99s/it]"
     ]
    },
    {
     "name": "stdout",
     "output_type": "stream",
     "text": [
      "For epoch 189: \n",
      "{Learning rate: [0.0005188765356879623]}\n"
     ]
    },
    {
     "name": "stderr",
     "output_type": "stream",
     "text": [
      "Train batch number 99: 100%|██████████| 99/99 [00:24<00:00,  3.97batches/s]\n",
      "Test batch number 13: 100%|██████████| 13/13 [00:05<00:00,  2.43batches/s]\n"
     ]
    },
    {
     "name": "stdout",
     "output_type": "stream",
     "text": [
      "\n",
      "Metrics: {'train_loss': 0.006973358996522923, 'test_loss': 2.2426976699095507, 'bleu': 21.7186, 'gen_len': 9.5404}\n",
      "\n",
      "=============================\n",
      "\n"
     ]
    },
    {
     "name": "stderr",
     "output_type": "stream",
     "text": [
      " 49%|████▉     | 62/127 [35:30<36:07, 33.34s/it]"
     ]
    },
    {
     "name": "stdout",
     "output_type": "stream",
     "text": [
      "For epoch 190: \n",
      "{Learning rate: [0.0005034783927108378]}\n"
     ]
    },
    {
     "name": "stderr",
     "output_type": "stream",
     "text": [
      "Train batch number 99: 100%|██████████| 99/99 [00:24<00:00,  4.12batches/s]\n",
      "Test batch number 13: 100%|██████████| 13/13 [00:06<00:00,  1.97batches/s]\n"
     ]
    },
    {
     "name": "stdout",
     "output_type": "stream",
     "text": [
      "\n",
      "Metrics: {'train_loss': 0.007192224359687775, 'test_loss': 2.2398607547466574, 'bleu': 21.7866, 'gen_len': 9.5707}\n",
      "\n",
      "=============================\n",
      "\n"
     ]
    },
    {
     "name": "stderr",
     "output_type": "stream",
     "text": [
      " 50%|████▉     | 63/127 [36:05<35:54, 33.67s/it]"
     ]
    },
    {
     "name": "stdout",
     "output_type": "stream",
     "text": [
      "For epoch 191: \n",
      "{Learning rate: [0.00048827347772324763]}\n"
     ]
    },
    {
     "name": "stderr",
     "output_type": "stream",
     "text": [
      "Train batch number 99: 100%|██████████| 99/99 [00:26<00:00,  3.74batches/s]\n",
      "Test batch number 13: 100%|██████████| 13/13 [00:05<00:00,  2.24batches/s]\n"
     ]
    },
    {
     "name": "stdout",
     "output_type": "stream",
     "text": [
      "\n",
      "Metrics: {'train_loss': 0.00746287442532114, 'test_loss': 2.2295315815852237, 'bleu': 21.7693, 'gen_len': 9.6818}\n",
      "\n",
      "=============================\n",
      "\n"
     ]
    },
    {
     "name": "stderr",
     "output_type": "stream",
     "text": [
      " 50%|█████     | 64/127 [36:41<36:06, 34.40s/it]"
     ]
    },
    {
     "name": "stdout",
     "output_type": "stream",
     "text": [
      "For epoch 192: \n",
      "{Learning rate: [0.0004732641644419535]}\n"
     ]
    },
    {
     "name": "stderr",
     "output_type": "stream",
     "text": [
      "Train batch number 99: 100%|██████████| 99/99 [00:22<00:00,  4.35batches/s]\n",
      "Test batch number 13: 100%|██████████| 13/13 [00:04<00:00,  2.69batches/s]\n"
     ]
    },
    {
     "name": "stdout",
     "output_type": "stream",
     "text": [
      "\n",
      "Metrics: {'train_loss': 0.006898029733830216, 'test_loss': 2.230379764850323, 'bleu': 21.6899, 'gen_len': 9.6566}\n",
      "\n",
      "=============================\n",
      "\n"
     ]
    },
    {
     "name": "stderr",
     "output_type": "stream",
     "text": [
      " 51%|█████     | 65/127 [37:11<34:25, 33.32s/it]"
     ]
    },
    {
     "name": "stdout",
     "output_type": "stream",
     "text": [
      "For epoch 193: \n",
      "{Learning rate: [0.00045845279604733464]}\n"
     ]
    },
    {
     "name": "stderr",
     "output_type": "stream",
     "text": [
      "Train batch number 99: 100%|██████████| 99/99 [00:24<00:00,  4.10batches/s]\n",
      "Test batch number 13: 100%|██████████| 13/13 [00:06<00:00,  2.04batches/s]\n"
     ]
    },
    {
     "name": "stdout",
     "output_type": "stream",
     "text": [
      "\n",
      "Metrics: {'train_loss': 0.007262831912764038, 'test_loss': 2.224107237962576, 'bleu': 21.6109, 'gen_len': 9.7374}\n",
      "\n",
      "=============================\n",
      "\n"
     ]
    },
    {
     "name": "stderr",
     "output_type": "stream",
     "text": [
      " 52%|█████▏    | 66/127 [37:45<34:01, 33.47s/it]"
     ]
    },
    {
     "name": "stdout",
     "output_type": "stream",
     "text": [
      "For epoch 194: \n",
      "{Learning rate: [0.0004438416848175876]}\n"
     ]
    },
    {
     "name": "stderr",
     "output_type": "stream",
     "text": [
      "Train batch number 99: 100%|██████████| 99/99 [00:26<00:00,  3.69batches/s]\n",
      "Test batch number 13: 100%|██████████| 13/13 [00:05<00:00,  2.35batches/s]\n"
     ]
    },
    {
     "name": "stdout",
     "output_type": "stream",
     "text": [
      "\n",
      "Metrics: {'train_loss': 0.0069920002204140255, 'test_loss': 2.225346556076637, 'bleu': 21.5252, 'gen_len': 9.7424}\n",
      "\n",
      "=============================\n",
      "\n"
     ]
    },
    {
     "name": "stderr",
     "output_type": "stream",
     "text": [
      " 53%|█████▎    | 67/127 [38:21<34:06, 34.11s/it]"
     ]
    },
    {
     "name": "stdout",
     "output_type": "stream",
     "text": [
      "For epoch 195: \n",
      "{Learning rate: [0.000429433111767742]}\n"
     ]
    },
    {
     "name": "stderr",
     "output_type": "stream",
     "text": [
      "Train batch number 99: 100%|██████████| 99/99 [00:26<00:00,  3.75batches/s]\n",
      "Test batch number 13: 100%|██████████| 13/13 [00:05<00:00,  2.24batches/s]\n"
     ]
    },
    {
     "name": "stdout",
     "output_type": "stream",
     "text": [
      "\n",
      "Metrics: {'train_loss': 0.007160028500360145, 'test_loss': 2.2265661771480856, 'bleu': 21.6653, 'gen_len': 9.6667}\n",
      "\n",
      "=============================\n",
      "\n"
     ]
    },
    {
     "name": "stderr",
     "output_type": "stream",
     "text": [
      " 54%|█████▎    | 68/127 [38:57<34:03, 34.64s/it]"
     ]
    },
    {
     "name": "stdout",
     "output_type": "stream",
     "text": [
      "For epoch 196: \n",
      "{Learning rate: [0.000415229326293559]}\n"
     ]
    },
    {
     "name": "stderr",
     "output_type": "stream",
     "text": [
      "Train batch number 99: 100%|██████████| 99/99 [00:26<00:00,  3.71batches/s]\n",
      "Test batch number 13: 100%|██████████| 13/13 [00:04<00:00,  2.60batches/s]\n"
     ]
    },
    {
     "name": "stdout",
     "output_type": "stream",
     "text": [
      "\n",
      "Metrics: {'train_loss': 0.007494788302045146, 'test_loss': 2.220059660764841, 'bleu': 21.3338, 'gen_len': 9.5657}\n",
      "\n",
      "=============================\n",
      "\n"
     ]
    },
    {
     "name": "stderr",
     "output_type": "stream",
     "text": [
      " 54%|█████▍    | 69/127 [39:32<33:40, 34.83s/it]"
     ]
    },
    {
     "name": "stdout",
     "output_type": "stream",
     "text": [
      "For epoch 197: \n",
      "{Learning rate: [0.0004012325458203692]}\n"
     ]
    },
    {
     "name": "stderr",
     "output_type": "stream",
     "text": [
      "Train batch number 99: 100%|██████████| 99/99 [00:26<00:00,  3.78batches/s]\n",
      "Test batch number 13: 100%|██████████| 13/13 [00:05<00:00,  2.53batches/s]\n"
     ]
    },
    {
     "name": "stdout",
     "output_type": "stream",
     "text": [
      "\n",
      "Metrics: {'train_loss': 0.007271983964142926, 'test_loss': 2.2233856274531436, 'bleu': 21.3258, 'gen_len': 9.5808}\n",
      "\n",
      "=============================\n",
      "\n"
     ]
    },
    {
     "name": "stderr",
     "output_type": "stream",
     "text": [
      " 55%|█████▌    | 70/127 [40:07<33:00, 34.75s/it]"
     ]
    },
    {
     "name": "stdout",
     "output_type": "stream",
     "text": [
      "For epoch 198: \n",
      "{Learning rate: [0.0003874449554568958]}\n"
     ]
    },
    {
     "name": "stderr",
     "output_type": "stream",
     "text": [
      "Train batch number 99: 100%|██████████| 99/99 [00:23<00:00,  4.18batches/s]\n",
      "Test batch number 13: 100%|██████████| 13/13 [00:05<00:00,  2.45batches/s]\n"
     ]
    },
    {
     "name": "stdout",
     "output_type": "stream",
     "text": [
      "\n",
      "Metrics: {'train_loss': 0.007115482585357662, 'test_loss': 2.2237947445649366, 'bleu': 21.5027, 'gen_len': 9.6364}\n",
      "\n",
      "=============================\n",
      "\n"
     ]
    },
    {
     "name": "stderr",
     "output_type": "stream",
     "text": [
      " 56%|█████▌    | 71/127 [40:39<31:45, 34.02s/it]"
     ]
    },
    {
     "name": "stdout",
     "output_type": "stream",
     "text": [
      "For epoch 199: \n",
      "{Learning rate: [0.0003738687076541309]}\n"
     ]
    },
    {
     "name": "stderr",
     "output_type": "stream",
     "text": [
      "Train batch number 99: 100%|██████████| 99/99 [00:24<00:00,  4.00batches/s]\n",
      "Test batch number 13: 100%|██████████| 13/13 [00:05<00:00,  2.20batches/s]\n"
     ]
    },
    {
     "name": "stdout",
     "output_type": "stream",
     "text": [
      "\n",
      "Metrics: {'train_loss': 0.006658687704887166, 'test_loss': 2.2230255970588098, 'bleu': 21.3901, 'gen_len': 9.601}\n",
      "\n",
      "=============================\n",
      "\n"
     ]
    },
    {
     "name": "stderr",
     "output_type": "stream",
     "text": [
      " 57%|█████▋    | 72/127 [41:13<31:13, 34.06s/it]"
     ]
    },
    {
     "name": "stdout",
     "output_type": "stream",
     "text": [
      "For epoch 200: \n",
      "{Learning rate: [0.00036050592186929976]}\n"
     ]
    },
    {
     "name": "stderr",
     "output_type": "stream",
     "text": [
      "Train batch number 99: 100%|██████████| 99/99 [00:25<00:00,  3.85batches/s]\n",
      "Test batch number 13: 100%|██████████| 13/13 [00:04<00:00,  2.64batches/s]\n"
     ]
    },
    {
     "name": "stdout",
     "output_type": "stream",
     "text": [
      "\n",
      "Metrics: {'train_loss': 0.0068132578474093194, 'test_loss': 2.2255496887060313, 'bleu': 21.1496, 'gen_len': 9.6515}\n",
      "\n",
      "=============================\n",
      "\n"
     ]
    },
    {
     "name": "stderr",
     "output_type": "stream",
     "text": [
      " 57%|█████▋    | 73/127 [41:47<30:41, 34.11s/it]"
     ]
    },
    {
     "name": "stdout",
     "output_type": "stream",
     "text": [
      "For epoch 201: \n",
      "{Learning rate: [0.00034735868423498527]}\n"
     ]
    },
    {
     "name": "stderr",
     "output_type": "stream",
     "text": [
      "Train batch number 99: 100%|██████████| 99/99 [00:23<00:00,  4.30batches/s]\n",
      "Test batch number 13: 100%|██████████| 13/13 [00:07<00:00,  1.65batches/s]\n"
     ]
    },
    {
     "name": "stdout",
     "output_type": "stream",
     "text": [
      "\n",
      "Metrics: {'train_loss': 0.006771436688135087, 'test_loss': 2.2300264285160947, 'bleu': 21.5041, 'gen_len': 9.5404}\n",
      "\n",
      "=============================\n",
      "\n"
     ]
    },
    {
     "name": "stderr",
     "output_type": "stream",
     "text": [
      " 58%|█████▊    | 74/127 [42:22<30:15, 34.26s/it]"
     ]
    },
    {
     "name": "stdout",
     "output_type": "stream",
     "text": [
      "For epoch 202: \n",
      "{Learning rate: [0.000334429047233451]}\n"
     ]
    },
    {
     "name": "stderr",
     "output_type": "stream",
     "text": [
      "Train batch number 99: 100%|██████████| 99/99 [00:37<00:00,  2.63batches/s]\n",
      "Test batch number 13: 100%|██████████| 13/13 [00:05<00:00,  2.43batches/s]\n"
     ]
    },
    {
     "name": "stdout",
     "output_type": "stream",
     "text": [
      "\n",
      "Metrics: {'train_loss': 0.007057979327245531, 'test_loss': 2.2228055275403538, 'bleu': 21.6032, 'gen_len': 9.5758}\n",
      "\n",
      "=============================\n",
      "\n"
     ]
    },
    {
     "name": "stderr",
     "output_type": "stream",
     "text": [
      " 59%|█████▉    | 75/127 [43:11<33:26, 38.58s/it]"
     ]
    },
    {
     "name": "stdout",
     "output_type": "stream",
     "text": [
      "For epoch 203: \n",
      "{Learning rate: [0.0003217190293762149]}\n"
     ]
    },
    {
     "name": "stderr",
     "output_type": "stream",
     "text": [
      "Train batch number 99: 100%|██████████| 99/99 [00:26<00:00,  3.76batches/s]\n",
      "Test batch number 13: 100%|██████████| 13/13 [00:05<00:00,  2.20batches/s]\n"
     ]
    },
    {
     "name": "stdout",
     "output_type": "stream",
     "text": [
      "\n",
      "Metrics: {'train_loss': 0.007100076595441241, 'test_loss': 2.2244998124929576, 'bleu': 21.509, 'gen_len': 9.6414}\n",
      "\n",
      "=============================\n",
      "\n"
     ]
    },
    {
     "name": "stderr",
     "output_type": "stream",
     "text": [
      " 60%|█████▉    | 76/127 [43:46<32:04, 37.74s/it]"
     ]
    },
    {
     "name": "stdout",
     "output_type": "stream",
     "text": [
      "For epoch 204: \n",
      "{Learning rate: [0.0003092306148889332]}\n"
     ]
    },
    {
     "name": "stderr",
     "output_type": "stream",
     "text": [
      "Train batch number 99: 100%|██████████| 99/99 [00:27<00:00,  3.55batches/s]\n",
      "Test batch number 13: 100%|██████████| 13/13 [00:05<00:00,  2.43batches/s]\n"
     ]
    },
    {
     "name": "stdout",
     "output_type": "stream",
     "text": [
      "\n",
      "Metrics: {'train_loss': 0.006546344708314993, 'test_loss': 2.222661330149724, 'bleu': 21.4391, 'gen_len': 9.5758}\n",
      "\n",
      "=============================\n",
      "\n"
     ]
    },
    {
     "name": "stderr",
     "output_type": "stream",
     "text": [
      " 61%|██████    | 77/127 [44:23<31:12, 37.45s/it]"
     ]
    },
    {
     "name": "stdout",
     "output_type": "stream",
     "text": [
      "For epoch 205: \n",
      "{Learning rate: [0.0002969657534016288]}\n"
     ]
    },
    {
     "name": "stderr",
     "output_type": "stream",
     "text": [
      "Train batch number 99: 100%|██████████| 99/99 [00:23<00:00,  4.16batches/s]\n",
      "Test batch number 13: 100%|██████████| 13/13 [00:05<00:00,  2.21batches/s]\n"
     ]
    },
    {
     "name": "stdout",
     "output_type": "stream",
     "text": [
      "\n",
      "Metrics: {'train_loss': 0.007049694096268568, 'test_loss': 2.2197568049797645, 'bleu': 21.3047, 'gen_len': 9.5556}\n",
      "\n",
      "=============================\n",
      "\n"
     ]
    },
    {
     "name": "stderr",
     "output_type": "stream",
     "text": [
      " 61%|██████▏   | 78/127 [44:57<29:38, 36.30s/it]"
     ]
    },
    {
     "name": "stdout",
     "output_type": "stream",
     "text": [
      "For epoch 206: \n",
      "{Learning rate: [0.00028492635964432893]}\n"
     ]
    },
    {
     "name": "stderr",
     "output_type": "stream",
     "text": [
      "Train batch number 99: 100%|██████████| 99/99 [00:26<00:00,  3.77batches/s]\n",
      "Test batch number 13: 100%|██████████| 13/13 [00:05<00:00,  2.20batches/s]\n"
     ]
    },
    {
     "name": "stdout",
     "output_type": "stream",
     "text": [
      "\n",
      "Metrics: {'train_loss': 0.006960491125717068, 'test_loss': 2.219961166381836, 'bleu': 21.2989, 'gen_len': 9.5556}\n",
      "\n",
      "=============================\n",
      "\n"
     ]
    },
    {
     "name": "stderr",
     "output_type": "stream",
     "text": [
      " 62%|██████▏   | 79/127 [45:32<28:50, 36.06s/it]"
     ]
    },
    {
     "name": "stdout",
     "output_type": "stream",
     "text": [
      "For epoch 207: \n",
      "{Learning rate: [0.0002731143131481432]}\n"
     ]
    },
    {
     "name": "stderr",
     "output_type": "stream",
     "text": [
      "Train batch number 99: 100%|██████████| 99/99 [00:25<00:00,  3.81batches/s]\n",
      "Test batch number 13: 100%|██████████| 13/13 [00:06<00:00,  2.12batches/s]\n"
     ]
    },
    {
     "name": "stdout",
     "output_type": "stream",
     "text": [
      "\n",
      "Metrics: {'train_loss': 0.006937491151444247, 'test_loss': 2.214891030238225, 'bleu': 21.3808, 'gen_len': 9.5505}\n",
      "\n",
      "=============================\n",
      "\n"
     ]
    },
    {
     "name": "stderr",
     "output_type": "stream",
     "text": [
      " 63%|██████▎   | 80/127 [46:08<28:16, 36.09s/it]"
     ]
    },
    {
     "name": "stdout",
     "output_type": "stream",
     "text": [
      "For epoch 208: \n",
      "{Learning rate: [0.00026153145795184134]}\n"
     ]
    },
    {
     "name": "stderr",
     "output_type": "stream",
     "text": [
      "Train batch number 99: 100%|██████████| 99/99 [00:25<00:00,  3.91batches/s]\n",
      "Test batch number 13: 100%|██████████| 13/13 [00:05<00:00,  2.27batches/s]\n"
     ]
    },
    {
     "name": "stdout",
     "output_type": "stream",
     "text": [
      "\n",
      "Metrics: {'train_loss': 0.006846095900394662, 'test_loss': 2.218079246007479, 'bleu': 21.1714, 'gen_len': 9.6364}\n",
      "\n",
      "=============================\n",
      "\n"
     ]
    },
    {
     "name": "stderr",
     "output_type": "stream",
     "text": [
      " 64%|██████▍   | 81/127 [46:43<27:24, 35.75s/it]"
     ]
    },
    {
     "name": "stdout",
     "output_type": "stream",
     "text": [
      "For epoch 209: \n",
      "{Learning rate: [0.0002501796023139725]}\n"
     ]
    },
    {
     "name": "stderr",
     "output_type": "stream",
     "text": [
      "Train batch number 99: 100%|██████████| 99/99 [00:24<00:00,  3.99batches/s]\n",
      "Test batch number 13: 100%|██████████| 13/13 [00:05<00:00,  2.43batches/s]\n"
     ]
    },
    {
     "name": "stdout",
     "output_type": "stream",
     "text": [
      "\n",
      "Metrics: {'train_loss': 0.00684520310541201, 'test_loss': 2.2196067571640015, 'bleu': 21.1593, 'gen_len': 9.6667}\n",
      "\n",
      "=============================\n",
      "\n"
     ]
    },
    {
     "name": "stderr",
     "output_type": "stream",
     "text": [
      " 65%|██████▍   | 82/127 [47:18<26:29, 35.33s/it]"
     ]
    },
    {
     "name": "stdout",
     "output_type": "stream",
     "text": [
      "For epoch 210: \n",
      "{Learning rate: [0.00023906051843056628]}\n"
     ]
    },
    {
     "name": "stderr",
     "output_type": "stream",
     "text": [
      "Train batch number 99: 100%|██████████| 99/99 [00:27<00:00,  3.57batches/s]\n",
      "Test batch number 13: 100%|██████████| 13/13 [00:05<00:00,  2.36batches/s]\n"
     ]
    },
    {
     "name": "stdout",
     "output_type": "stream",
     "text": [
      "\n",
      "Metrics: {'train_loss': 0.00657672360933367, 'test_loss': 2.2190162677031298, 'bleu': 21.2491, 'gen_len': 9.5657}\n",
      "\n",
      "=============================\n",
      "\n"
     ]
    },
    {
     "name": "stderr",
     "output_type": "stream",
     "text": [
      " 65%|██████▌   | 83/127 [47:55<26:15, 35.81s/it]"
     ]
    },
    {
     "name": "stdout",
     "output_type": "stream",
     "text": [
      "For epoch 211: \n",
      "{Learning rate: [0.00022817594215846873]}\n"
     ]
    },
    {
     "name": "stderr",
     "output_type": "stream",
     "text": [
      "Train batch number 99: 100%|██████████| 99/99 [00:25<00:00,  3.86batches/s]\n",
      "Test batch number 13: 100%|██████████| 13/13 [00:05<00:00,  2.53batches/s]\n"
     ]
    },
    {
     "name": "stdout",
     "output_type": "stream",
     "text": [
      "\n",
      "Metrics: {'train_loss': 0.006597283442688146, 'test_loss': 2.220892365162189, 'bleu': 21.2171, 'gen_len': 9.6263}\n",
      "\n",
      "=============================\n",
      "\n"
     ]
    },
    {
     "name": "stderr",
     "output_type": "stream",
     "text": [
      " 66%|██████▌   | 84/127 [48:29<25:18, 35.32s/it]"
     ]
    },
    {
     "name": "stdout",
     "output_type": "stream",
     "text": [
      "For epoch 212: \n",
      "{Learning rate: [0.0002175275727443473]}\n"
     ]
    },
    {
     "name": "stderr",
     "output_type": "stream",
     "text": [
      "Train batch number 99: 100%|██████████| 99/99 [00:25<00:00,  3.93batches/s]\n",
      "Test batch number 13: 100%|██████████| 13/13 [00:05<00:00,  2.42batches/s]\n"
     ]
    },
    {
     "name": "stdout",
     "output_type": "stream",
     "text": [
      "\n",
      "Metrics: {'train_loss': 0.006563781823103335, 'test_loss': 2.217997697683481, 'bleu': 21.4942, 'gen_len': 9.6616}\n",
      "\n",
      "=============================\n",
      "\n"
     ]
    },
    {
     "name": "stderr",
     "output_type": "stream",
     "text": [
      " 67%|██████▋   | 85/127 [49:03<24:32, 35.06s/it]"
     ]
    },
    {
     "name": "stdout",
     "output_type": "stream",
     "text": [
      "For epoch 213: \n",
      "{Learning rate: [0.00020711707255941308]}\n"
     ]
    },
    {
     "name": "stderr",
     "output_type": "stream",
     "text": [
      "Train batch number 99: 100%|██████████| 99/99 [00:28<00:00,  3.53batches/s]\n",
      "Test batch number 13: 100%|██████████| 13/13 [00:05<00:00,  2.44batches/s]\n"
     ]
    },
    {
     "name": "stdout",
     "output_type": "stream",
     "text": [
      "\n",
      "Metrics: {'train_loss': 0.006526059190615673, 'test_loss': 2.2157240830934963, 'bleu': 21.0285, 'gen_len': 9.6566}\n",
      "\n",
      "=============================\n",
      "\n"
     ]
    },
    {
     "name": "stderr",
     "output_type": "stream",
     "text": [
      " 68%|██████▊   | 86/127 [49:40<24:23, 35.69s/it]"
     ]
    },
    {
     "name": "stdout",
     "output_type": "stream",
     "text": [
      "For epoch 214: \n",
      "{Learning rate: [0.0001969460668399001]}\n"
     ]
    },
    {
     "name": "stderr",
     "output_type": "stream",
     "text": [
      "Train batch number 99: 100%|██████████| 99/99 [00:27<00:00,  3.63batches/s]\n",
      "Test batch number 13: 100%|██████████| 13/13 [00:05<00:00,  2.43batches/s]\n"
     ]
    },
    {
     "name": "stdout",
     "output_type": "stream",
     "text": [
      "\n",
      "Metrics: {'train_loss': 0.006446274809393505, 'test_loss': 2.2179775696534376, 'bleu': 21.518, 'gen_len': 9.6263}\n",
      "\n",
      "=============================\n",
      "\n"
     ]
    },
    {
     "name": "stderr",
     "output_type": "stream",
     "text": [
      " 69%|██████▊   | 87/127 [50:16<23:50, 35.76s/it]"
     ]
    },
    {
     "name": "stdout",
     "output_type": "stream",
     "text": [
      "For epoch 215: \n",
      "{Learning rate: [0.00018701614343334]}\n"
     ]
    },
    {
     "name": "stderr",
     "output_type": "stream",
     "text": [
      "Train batch number 99: 100%|██████████| 99/99 [00:25<00:00,  3.92batches/s]\n",
      "Test batch number 13: 100%|██████████| 13/13 [00:06<00:00,  2.12batches/s]\n"
     ]
    },
    {
     "name": "stdout",
     "output_type": "stream",
     "text": [
      "\n",
      "Metrics: {'train_loss': 0.00644026987396905, 'test_loss': 2.2165245092832127, 'bleu': 21.0731, 'gen_len': 9.7576}\n",
      "\n",
      "=============================\n",
      "\n"
     ]
    },
    {
     "name": "stderr",
     "output_type": "stream",
     "text": [
      " 69%|██████▉   | 88/127 [50:52<23:10, 35.65s/it]"
     ]
    },
    {
     "name": "stdout",
     "output_type": "stream",
     "text": [
      "For epoch 216: \n",
      "{Learning rate: [0.00017732885255067676]}\n"
     ]
    },
    {
     "name": "stderr",
     "output_type": "stream",
     "text": [
      "Train batch number 99: 100%|██████████| 99/99 [00:27<00:00,  3.63batches/s]\n",
      "Test batch number 13: 100%|██████████| 13/13 [00:06<00:00,  1.99batches/s]\n"
     ]
    },
    {
     "name": "stdout",
     "output_type": "stream",
     "text": [
      "\n",
      "Metrics: {'train_loss': 0.00673292928144237, 'test_loss': 2.218484044075012, 'bleu': 21.3577, 'gen_len': 9.6818}\n",
      "\n",
      "=============================\n",
      "\n"
     ]
    },
    {
     "name": "stderr",
     "output_type": "stream",
     "text": [
      " 70%|███████   | 89/127 [51:29<22:56, 36.23s/it]"
     ]
    },
    {
     "name": "stdout",
     "output_type": "stream",
     "text": [
      "For epoch 217: \n",
      "{Learning rate: [0.00016788570652425509]}\n"
     ]
    },
    {
     "name": "stderr",
     "output_type": "stream",
     "text": [
      "Train batch number 99: 100%|██████████| 99/99 [00:25<00:00,  3.87batches/s]\n",
      "Test batch number 13: 100%|██████████| 13/13 [00:05<00:00,  2.53batches/s]\n"
     ]
    },
    {
     "name": "stdout",
     "output_type": "stream",
     "text": [
      "\n",
      "Metrics: {'train_loss': 0.006332772097937207, 'test_loss': 2.217490608875568, 'bleu': 21.468, 'gen_len': 9.6768}\n",
      "\n",
      "=============================\n",
      "\n"
     ]
    },
    {
     "name": "stderr",
     "output_type": "stream",
     "text": [
      " 71%|███████   | 90/127 [52:03<21:55, 35.56s/it]"
     ]
    },
    {
     "name": "stdout",
     "output_type": "stream",
     "text": [
      "For epoch 218: \n",
      "{Learning rate: [0.00015868817957172035]}\n"
     ]
    },
    {
     "name": "stderr",
     "output_type": "stream",
     "text": [
      "Train batch number 99: 100%|██████████| 99/99 [00:24<00:00,  4.12batches/s]\n",
      "Test batch number 13: 100%|██████████| 13/13 [00:05<00:00,  2.50batches/s]\n"
     ]
    },
    {
     "name": "stdout",
     "output_type": "stream",
     "text": [
      "\n",
      "Metrics: {'train_loss': 0.006431446514783822, 'test_loss': 2.2168810550983133, 'bleu': 21.5613, 'gen_len': 9.6616}\n",
      "\n",
      "=============================\n",
      "\n"
     ]
    },
    {
     "name": "stderr",
     "output_type": "stream",
     "text": [
      " 72%|███████▏  | 91/127 [52:36<20:48, 34.69s/it]"
     ]
    },
    {
     "name": "stdout",
     "output_type": "stream",
     "text": [
      "For epoch 219: \n",
      "{Learning rate: [0.00014973770756587527]}\n"
     ]
    },
    {
     "name": "stderr",
     "output_type": "stream",
     "text": [
      "Train batch number 99: 100%|██████████| 99/99 [00:24<00:00,  4.11batches/s]\n",
      "Test batch number 13: 100%|██████████| 13/13 [00:05<00:00,  2.48batches/s]\n"
     ]
    },
    {
     "name": "stdout",
     "output_type": "stream",
     "text": [
      "\n",
      "Metrics: {'train_loss': 0.006377629773024554, 'test_loss': 2.2161574088610134, 'bleu': 21.5233, 'gen_len': 9.6768}\n",
      "\n",
      "=============================\n",
      "\n"
     ]
    },
    {
     "name": "stderr",
     "output_type": "stream",
     "text": [
      " 72%|███████▏  | 92/127 [53:08<19:51, 34.03s/it]"
     ]
    },
    {
     "name": "stdout",
     "output_type": "stream",
     "text": [
      "For epoch 220: \n",
      "{Learning rate: [0.00014103568781051335]}\n"
     ]
    },
    {
     "name": "stderr",
     "output_type": "stream",
     "text": [
      "Train batch number 99: 100%|██████████| 99/99 [00:24<00:00,  4.07batches/s]\n",
      "Test batch number 13: 100%|██████████| 13/13 [00:07<00:00,  1.81batches/s]\n"
     ]
    },
    {
     "name": "stdout",
     "output_type": "stream",
     "text": [
      "\n",
      "Metrics: {'train_loss': 0.006430342701743498, 'test_loss': 2.2169709572425256, 'bleu': 21.1508, 'gen_len': 9.6515}\n",
      "\n",
      "=============================\n",
      "\n"
     ]
    },
    {
     "name": "stderr",
     "output_type": "stream",
     "text": [
      " 73%|███████▎  | 93/127 [53:44<19:29, 34.39s/it]"
     ]
    },
    {
     "name": "stdout",
     "output_type": "stream",
     "text": [
      "For epoch 221: \n",
      "{Learning rate: [0.00013258347882228307]}\n"
     ]
    },
    {
     "name": "stderr",
     "output_type": "stream",
     "text": [
      "Train batch number 99: 100%|██████████| 99/99 [00:30<00:00,  3.21batches/s]\n",
      "Test batch number 13: 100%|██████████| 13/13 [00:05<00:00,  2.22batches/s]\n"
     ]
    },
    {
     "name": "stdout",
     "output_type": "stream",
     "text": [
      "\n",
      "Metrics: {'train_loss': 0.006522336604327641, 'test_loss': 2.216917496461135, 'bleu': 21.145, 'gen_len': 9.6566}\n",
      "\n",
      "=============================\n",
      "\n"
     ]
    },
    {
     "name": "stderr",
     "output_type": "stream",
     "text": [
      " 74%|███████▍  | 94/127 [54:25<20:00, 36.38s/it]"
     ]
    },
    {
     "name": "stdout",
     "output_type": "stream",
     "text": [
      "For epoch 222: \n",
      "{Learning rate: [0.00012438240011859974]}\n"
     ]
    },
    {
     "name": "stderr",
     "output_type": "stream",
     "text": [
      "Train batch number 99: 100%|██████████| 99/99 [00:22<00:00,  4.32batches/s]\n",
      "Test batch number 13: 100%|██████████| 13/13 [00:05<00:00,  2.51batches/s]\n"
     ]
    },
    {
     "name": "stdout",
     "output_type": "stream",
     "text": [
      "\n",
      "Metrics: {'train_loss': 0.006429521772202641, 'test_loss': 2.2192255350259633, 'bleu': 21.1104, 'gen_len': 9.7121}\n",
      "\n",
      "=============================\n",
      "\n"
     ]
    },
    {
     "name": "stderr",
     "output_type": "stream",
     "text": [
      " 75%|███████▍  | 95/127 [54:57<18:42, 35.07s/it]"
     ]
    },
    {
     "name": "stdout",
     "output_type": "stream",
     "text": [
      "For epoch 223: \n",
      "{Learning rate: [0.00011643373201165092]}\n"
     ]
    },
    {
     "name": "stderr",
     "output_type": "stream",
     "text": [
      "Train batch number 99: 100%|██████████| 99/99 [00:23<00:00,  4.26batches/s]\n",
      "Test batch number 13: 100%|██████████| 13/13 [00:05<00:00,  2.57batches/s]\n"
     ]
    },
    {
     "name": "stdout",
     "output_type": "stream",
     "text": [
      "\n",
      "Metrics: {'train_loss': 0.006231523169771383, 'test_loss': 2.218800498889043, 'bleu': 21.1104, 'gen_len': 9.7071}\n",
      "\n",
      "=============================\n",
      "\n"
     ]
    },
    {
     "name": "stderr",
     "output_type": "stream",
     "text": [
      " 76%|███████▌  | 96/127 [55:28<17:35, 34.04s/it]"
     ]
    },
    {
     "name": "stdout",
     "output_type": "stream",
     "text": [
      "For epoch 224: \n",
      "{Learning rate: [0.00010873871540852015]}\n"
     ]
    },
    {
     "name": "stderr",
     "output_type": "stream",
     "text": [
      "Train batch number 99: 100%|██████████| 99/99 [00:23<00:00,  4.15batches/s]\n",
      "Test batch number 13: 100%|██████████| 13/13 [00:04<00:00,  2.64batches/s]\n"
     ]
    },
    {
     "name": "stdout",
     "output_type": "stream",
     "text": [
      "\n",
      "Metrics: {'train_loss': 0.00626249568236432, 'test_loss': 2.218862588589008, 'bleu': 21.1104, 'gen_len': 9.7071}\n",
      "\n",
      "=============================\n",
      "\n"
     ]
    },
    {
     "name": "stderr",
     "output_type": "stream",
     "text": [
      " 76%|███████▋  | 97/127 [56:00<16:43, 33.46s/it]"
     ]
    },
    {
     "name": "stdout",
     "output_type": "stream",
     "text": [
      "For epoch 225: \n",
      "{Learning rate: [0.00010129855161746036]}\n"
     ]
    },
    {
     "name": "stderr",
     "output_type": "stream",
     "text": [
      "Train batch number 99: 100%|██████████| 99/99 [00:26<00:00,  3.78batches/s]\n",
      "Test batch number 13: 100%|██████████| 13/13 [00:04<00:00,  2.69batches/s]\n"
     ]
    },
    {
     "name": "stdout",
     "output_type": "stream",
     "text": [
      "\n",
      "Metrics: {'train_loss': 0.006327409373515173, 'test_loss': 2.2206753492355347, 'bleu': 21.1595, 'gen_len': 9.7071}\n",
      "\n",
      "=============================\n",
      "\n"
     ]
    },
    {
     "name": "stderr",
     "output_type": "stream",
     "text": [
      " 77%|███████▋  | 98/127 [56:35<16:18, 33.75s/it]"
     ]
    },
    {
     "name": "stdout",
     "output_type": "stream",
     "text": [
      "For epoch 226: \n",
      "{Learning rate: [9.411440216035599e-05]}\n"
     ]
    },
    {
     "name": "stderr",
     "output_type": "stream",
     "text": [
      "Train batch number 99: 100%|██████████| 99/99 [00:22<00:00,  4.45batches/s]\n",
      "Test batch number 13: 100%|██████████| 13/13 [00:04<00:00,  2.64batches/s]\n"
     ]
    },
    {
     "name": "stdout",
     "output_type": "stream",
     "text": [
      "\n",
      "Metrics: {'train_loss': 0.0062990121895005234, 'test_loss': 2.222268480520982, 'bleu': 21.151, 'gen_len': 9.7172}\n",
      "\n",
      "=============================\n",
      "\n"
     ]
    },
    {
     "name": "stderr",
     "output_type": "stream",
     "text": [
      " 78%|███████▊  | 99/127 [57:05<15:17, 32.77s/it]"
     ]
    },
    {
     "name": "stdout",
     "output_type": "stream",
     "text": [
      "For epoch 227: \n",
      "{Learning rate: [8.718738859138654e-05]}\n"
     ]
    },
    {
     "name": "stderr",
     "output_type": "stream",
     "text": [
      "Train batch number 99: 100%|██████████| 99/99 [00:22<00:00,  4.41batches/s]\n",
      "Test batch number 13: 100%|██████████| 13/13 [00:04<00:00,  2.62batches/s]\n"
     ]
    },
    {
     "name": "stdout",
     "output_type": "stream",
     "text": [
      "\n",
      "Metrics: {'train_loss': 0.006386304482631856, 'test_loss': 2.221902975669274, 'bleu': 21.148, 'gen_len': 9.7172}\n",
      "\n",
      "=============================\n",
      "\n"
     ]
    },
    {
     "name": "stderr",
     "output_type": "stream",
     "text": [
      " 79%|███████▊  | 100/127 [57:36<14:27, 32.13s/it]"
     ]
    },
    {
     "name": "stdout",
     "output_type": "stream",
     "text": [
      "For epoch 228: \n",
      "{Learning rate: [8.051859232193966e-05]}\n"
     ]
    },
    {
     "name": "stderr",
     "output_type": "stream",
     "text": [
      "Train batch number 99: 100%|██████████| 99/99 [00:22<00:00,  4.37batches/s]\n",
      "Test batch number 13: 100%|██████████| 13/13 [00:05<00:00,  2.57batches/s]\n"
     ]
    },
    {
     "name": "stdout",
     "output_type": "stream",
     "text": [
      "\n",
      "Metrics: {'train_loss': 0.00598319145090022, 'test_loss': 2.221942635682913, 'bleu': 21.1568, 'gen_len': 9.702}\n",
      "\n",
      "=============================\n",
      "\n"
     ]
    },
    {
     "name": "stderr",
     "output_type": "stream",
     "text": [
      " 80%|███████▉  | 101/127 [58:07<13:45, 31.76s/it]"
     ]
    },
    {
     "name": "stdout",
     "output_type": "stream",
     "text": [
      "For epoch 229: \n",
      "{Learning rate: [7.410905445178365e-05]}\n"
     ]
    },
    {
     "name": "stderr",
     "output_type": "stream",
     "text": [
      "Train batch number 99: 100%|██████████| 99/99 [00:24<00:00,  4.02batches/s]\n",
      "Test batch number 13: 100%|██████████| 13/13 [00:05<00:00,  2.53batches/s]\n"
     ]
    },
    {
     "name": "stdout",
     "output_type": "stream",
     "text": [
      "\n",
      "Metrics: {'train_loss': 0.0062292412495489865, 'test_loss': 2.2215552788514357, 'bleu': 21.1537, 'gen_len': 9.702}\n",
      "\n",
      "=============================\n",
      "\n"
     ]
    },
    {
     "name": "stderr",
     "output_type": "stream",
     "text": [
      " 80%|████████  | 102/127 [58:40<13:24, 32.18s/it]"
     ]
    },
    {
     "name": "stdout",
     "output_type": "stream",
     "text": [
      "For epoch 230: \n",
      "{Learning rate: [6.795977560653686e-05]}\n"
     ]
    },
    {
     "name": "stderr",
     "output_type": "stream",
     "text": [
      "Train batch number 99: 100%|██████████| 99/99 [00:22<00:00,  4.37batches/s]\n",
      "Test batch number 13: 100%|██████████| 13/13 [00:04<00:00,  2.61batches/s]\n"
     ]
    },
    {
     "name": "stdout",
     "output_type": "stream",
     "text": [
      "\n",
      "Metrics: {'train_loss': 0.0061803778121659455, 'test_loss': 2.2214723917154164, 'bleu': 21.1568, 'gen_len': 9.702}\n",
      "\n",
      "=============================\n",
      "\n"
     ]
    },
    {
     "name": "stderr",
     "output_type": "stream",
     "text": [
      " 81%|████████  | 103/127 [59:11<12:42, 31.78s/it]"
     ]
    },
    {
     "name": "stdout",
     "output_type": "stream",
     "text": [
      "For epoch 231: \n",
      "{Learning rate: [6.207171578145565e-05]}\n"
     ]
    },
    {
     "name": "stderr",
     "output_type": "stream",
     "text": [
      "Train batch number 99: 100%|██████████| 99/99 [00:24<00:00,  4.02batches/s]\n",
      "Test batch number 13: 100%|██████████| 13/13 [00:05<00:00,  2.20batches/s]\n"
     ]
    },
    {
     "name": "stdout",
     "output_type": "stream",
     "text": [
      "\n",
      "Metrics: {'train_loss': 0.006045226741616257, 'test_loss': 2.221481680870056, 'bleu': 21.1626, 'gen_len': 9.702}\n",
      "\n",
      "=============================\n",
      "\n"
     ]
    },
    {
     "name": "stderr",
     "output_type": "stream",
     "text": [
      " 82%|████████▏ | 104/127 [59:45<12:24, 32.38s/it]"
     ]
    },
    {
     "name": "stdout",
     "output_type": "stream",
     "text": [
      "For epoch 232: \n",
      "{Learning rate: [5.6445794191562936e-05]}\n"
     ]
    },
    {
     "name": "stderr",
     "output_type": "stream",
     "text": [
      "Train batch number 99: 100%|██████████| 99/99 [00:23<00:00,  4.30batches/s]\n",
      "Test batch number 13: 100%|██████████| 13/13 [00:05<00:00,  2.60batches/s]\n"
     ]
    },
    {
     "name": "stdout",
     "output_type": "stream",
     "text": [
      "\n",
      "Metrics: {'train_loss': 0.006321606123961057, 'test_loss': 2.2212542295455933, 'bleu': 21.1626, 'gen_len': 9.702}\n",
      "\n",
      "=============================\n",
      "\n"
     ]
    },
    {
     "name": "stderr",
     "output_type": "stream",
     "text": [
      " 83%|████████▎ | 105/127 [1:00:16<11:46, 32.10s/it]"
     ]
    },
    {
     "name": "stdout",
     "output_type": "stream",
     "text": [
      "For epoch 233: \n",
      "{Learning rate: [5.108288912814771e-05]}\n"
     ]
    },
    {
     "name": "stderr",
     "output_type": "stream",
     "text": [
      "Train batch number 99: 100%|██████████| 99/99 [00:24<00:00,  4.01batches/s]\n",
      "Test batch number 13: 100%|██████████| 13/13 [00:05<00:00,  2.37batches/s]\n"
     ]
    },
    {
     "name": "stdout",
     "output_type": "stream",
     "text": [
      "\n",
      "Metrics: {'train_loss': 0.00606628234240678, 'test_loss': 2.221431475419265, 'bleu': 21.229, 'gen_len': 9.6313}\n",
      "\n",
      "=============================\n",
      "\n"
     ]
    },
    {
     "name": "stderr",
     "output_type": "stream",
     "text": [
      " 83%|████████▎ | 106/127 [1:00:49<11:22, 32.49s/it]"
     ]
    },
    {
     "name": "stdout",
     "output_type": "stream",
     "text": [
      "For epoch 234: \n",
      "{Learning rate: [4.5983837821646976e-05]}\n"
     ]
    },
    {
     "name": "stderr",
     "output_type": "stream",
     "text": [
      "Train batch number 99: 100%|██████████| 99/99 [00:23<00:00,  4.15batches/s]\n",
      "Test batch number 13: 100%|██████████| 13/13 [00:06<00:00,  2.03batches/s]\n"
     ]
    },
    {
     "name": "stdout",
     "output_type": "stream",
     "text": [
      "\n",
      "Metrics: {'train_loss': 0.006381791298432897, 'test_loss': 2.22179913520813, 'bleu': 21.1568, 'gen_len': 9.7121}\n",
      "\n",
      "=============================\n",
      "\n"
     ]
    },
    {
     "name": "stderr",
     "output_type": "stream",
     "text": [
      " 84%|████████▍ | 107/127 [1:01:23<10:57, 32.88s/it]"
     ]
    },
    {
     "name": "stdout",
     "output_type": "stream",
     "text": [
      "For epoch 235: \n",
      "{Learning rate: [4.1149436310944116e-05]}\n"
     ]
    },
    {
     "name": "stderr",
     "output_type": "stream",
     "text": [
      "Train batch number 99: 100%|██████████| 99/99 [00:23<00:00,  4.19batches/s]\n",
      "Test batch number 13: 100%|██████████| 13/13 [00:05<00:00,  2.38batches/s]\n"
     ]
    },
    {
     "name": "stdout",
     "output_type": "stream",
     "text": [
      "\n",
      "Metrics: {'train_loss': 0.006447523131036444, 'test_loss': 2.2215876762683573, 'bleu': 21.1568, 'gen_len': 9.7121}\n",
      "\n",
      "=============================\n",
      "\n"
     ]
    },
    {
     "name": "stderr",
     "output_type": "stream",
     "text": [
      " 85%|████████▌ | 108/127 [1:01:56<10:21, 32.71s/it]"
     ]
    },
    {
     "name": "stdout",
     "output_type": "stream",
     "text": [
      "For epoch 236: \n",
      "{Learning rate: [3.658043931909416e-05]}\n"
     ]
    },
    {
     "name": "stderr",
     "output_type": "stream",
     "text": [
      "Train batch number 99: 100%|██████████| 99/99 [00:23<00:00,  4.13batches/s]\n",
      "Test batch number 13: 100%|██████████| 13/13 [00:05<00:00,  2.45batches/s]\n"
     ]
    },
    {
     "name": "stdout",
     "output_type": "stream",
     "text": [
      "\n",
      "Metrics: {'train_loss': 0.006545448122778907, 'test_loss': 2.222434878349304, 'bleu': 21.151, 'gen_len': 9.7222}\n",
      "\n",
      "=============================\n",
      "\n"
     ]
    },
    {
     "name": "stderr",
     "output_type": "stream",
     "text": [
      " 86%|████████▌ | 109/127 [1:02:28<09:47, 32.63s/it]"
     ]
    },
    {
     "name": "stdout",
     "output_type": "stream",
     "text": [
      "For epoch 237: \n",
      "{Learning rate: [3.2277560135500025e-05]}\n"
     ]
    },
    {
     "name": "stderr",
     "output_type": "stream",
     "text": [
      "Train batch number 99: 100%|██████████| 99/99 [00:23<00:00,  4.21batches/s]\n",
      "Test batch number 13: 100%|██████████| 13/13 [00:04<00:00,  2.63batches/s]\n"
     ]
    },
    {
     "name": "stdout",
     "output_type": "stream",
     "text": [
      "\n",
      "Metrics: {'train_loss': 0.006323446204234385, 'test_loss': 2.22243660229903, 'bleu': 21.1684, 'gen_len': 9.7121}\n",
      "\n",
      "=============================\n",
      "\n"
     ]
    },
    {
     "name": "stderr",
     "output_type": "stream",
     "text": [
      " 87%|████████▋ | 110/127 [1:03:00<09:10, 32.36s/it]"
     ]
    },
    {
     "name": "stdout",
     "output_type": "stream",
     "text": [
      "For epoch 238: \n",
      "{Learning rate: [2.8241470504557867e-05]}\n"
     ]
    },
    {
     "name": "stderr",
     "output_type": "stream",
     "text": [
      "Train batch number 99: 100%|██████████| 99/99 [00:28<00:00,  3.54batches/s]\n",
      "Test batch number 13: 100%|██████████| 13/13 [00:05<00:00,  2.42batches/s]\n"
     ]
    },
    {
     "name": "stdout",
     "output_type": "stream",
     "text": [
      "\n",
      "Metrics: {'train_loss': 0.006359077922440125, 'test_loss': 2.2225630283355713, 'bleu': 21.1684, 'gen_len': 9.7121}\n",
      "\n",
      "=============================\n",
      "\n"
     ]
    },
    {
     "name": "stderr",
     "output_type": "stream",
     "text": [
      " 87%|████████▋ | 111/127 [1:03:36<08:58, 33.66s/it]"
     ]
    },
    {
     "name": "stdout",
     "output_type": "stream",
     "text": [
      "For epoch 239: \n",
      "{Learning rate: [2.4472800520786465e-05]}\n"
     ]
    },
    {
     "name": "stderr",
     "output_type": "stream",
     "text": [
      "Train batch number 99: 100%|██████████| 99/99 [00:30<00:00,  3.24batches/s]\n",
      "Test batch number 13: 100%|██████████| 13/13 [00:05<00:00,  2.34batches/s]\n"
     ]
    },
    {
     "name": "stdout",
     "output_type": "stream",
     "text": [
      "\n",
      "Metrics: {'train_loss': 0.006055375486300703, 'test_loss': 2.222379446029663, 'bleu': 21.151, 'gen_len': 9.7222}\n",
      "\n",
      "=============================\n",
      "\n"
     ]
    },
    {
     "name": "stderr",
     "output_type": "stream",
     "text": [
      " 88%|████████▊ | 112/127 [1:04:16<08:51, 35.44s/it]"
     ]
    },
    {
     "name": "stdout",
     "output_type": "stream",
     "text": [
      "For epoch 240: \n",
      "{Learning rate: [2.0972138530462138e-05]}\n"
     ]
    },
    {
     "name": "stderr",
     "output_type": "stream",
     "text": [
      "Train batch number 99: 100%|██████████| 99/99 [00:27<00:00,  3.62batches/s]\n",
      "Test batch number 13: 100%|██████████| 13/13 [00:06<00:00,  2.12batches/s]\n"
     ]
    },
    {
     "name": "stdout",
     "output_type": "stream",
     "text": [
      "\n",
      "Metrics: {'train_loss': 0.0058985619781941005, 'test_loss': 2.2224259009728065, 'bleu': 21.1626, 'gen_len': 9.7121}\n",
      "\n",
      "=============================\n",
      "\n"
     ]
    },
    {
     "name": "stderr",
     "output_type": "stream",
     "text": [
      " 89%|████████▉ | 113/127 [1:04:53<08:23, 36.00s/it]"
     ]
    },
    {
     "name": "stdout",
     "output_type": "stream",
     "text": [
      "For epoch 241: \n",
      "{Learning rate: [1.7740031039766643e-05]}\n"
     ]
    },
    {
     "name": "stderr",
     "output_type": "stream",
     "text": [
      "Train batch number 99: 100%|██████████| 99/99 [00:23<00:00,  4.16batches/s]\n",
      "Test batch number 13: 100%|██████████| 13/13 [00:05<00:00,  2.27batches/s]\n"
     ]
    },
    {
     "name": "stdout",
     "output_type": "stream",
     "text": [
      "\n",
      "Metrics: {'train_loss': 0.006111482899275025, 'test_loss': 2.2224287253159742, 'bleu': 21.1626, 'gen_len': 9.7121}\n",
      "\n",
      "=============================\n",
      "\n"
     ]
    },
    {
     "name": "stderr",
     "output_type": "stream",
     "text": [
      " 90%|████████▉ | 114/127 [1:05:26<07:34, 34.95s/it]"
     ]
    },
    {
     "name": "stdout",
     "output_type": "stream",
     "text": [
      "For epoch 242: \n",
      "{Learning rate: [1.4776982629470312e-05]}\n"
     ]
    },
    {
     "name": "stderr",
     "output_type": "stream",
     "text": [
      "Train batch number 99: 100%|██████████| 99/99 [00:25<00:00,  3.90batches/s]\n",
      "Test batch number 13: 100%|██████████| 13/13 [00:05<00:00,  2.30batches/s]\n"
     ]
    },
    {
     "name": "stdout",
     "output_type": "stream",
     "text": [
      "\n",
      "Metrics: {'train_loss': 0.005976393738158301, 'test_loss': 2.2223609685897827, 'bleu': 21.1626, 'gen_len': 9.7121}\n",
      "\n",
      "=============================\n",
      "\n"
     ]
    },
    {
     "name": "stderr",
     "output_type": "stream",
     "text": [
      " 91%|█████████ | 115/127 [1:06:00<06:57, 34.82s/it]"
     ]
    },
    {
     "name": "stdout",
     "output_type": "stream",
     "text": [
      "For epoch 243: \n",
      "{Learning rate: [1.2083455876159838e-05]}\n"
     ]
    },
    {
     "name": "stderr",
     "output_type": "stream",
     "text": [
      "Train batch number 99: 100%|██████████| 99/99 [00:27<00:00,  3.59batches/s]\n",
      "Test batch number 13: 100%|██████████| 13/13 [00:05<00:00,  2.28batches/s]\n"
     ]
    },
    {
     "name": "stdout",
     "output_type": "stream",
     "text": [
      "\n",
      "Metrics: {'train_loss': 0.0063188598959264585, 'test_loss': 2.2221431732177734, 'bleu': 21.1626, 'gen_len': 9.7121}\n",
      "\n",
      "=============================\n",
      "\n"
     ]
    },
    {
     "name": "stderr",
     "output_type": "stream",
     "text": [
      " 91%|█████████▏| 116/127 [1:06:37<06:29, 35.42s/it]"
     ]
    },
    {
     "name": "stdout",
     "output_type": "stream",
     "text": [
      "For epoch 244: \n",
      "{Learning rate: [9.659871280021868e-06]}\n"
     ]
    },
    {
     "name": "stderr",
     "output_type": "stream",
     "text": [
      "Train batch number 99: 100%|██████████| 99/99 [00:23<00:00,  4.24batches/s]\n",
      "Test batch number 13: 100%|██████████| 13/13 [00:04<00:00,  2.64batches/s]\n"
     ]
    },
    {
     "name": "stdout",
     "output_type": "stream",
     "text": [
      "\n",
      "Metrics: {'train_loss': 0.005805004792313816, 'test_loss': 2.222075444001418, 'bleu': 21.1626, 'gen_len': 9.7121}\n",
      "\n",
      "=============================\n",
      "\n"
     ]
    },
    {
     "name": "stderr",
     "output_type": "stream",
     "text": [
      " 92%|█████████▏| 117/127 [1:07:09<05:42, 34.27s/it]"
     ]
    },
    {
     "name": "stdout",
     "output_type": "stream",
     "text": [
      "For epoch 245: \n",
      "{Learning rate: [7.5066071991982496e-06]}\n"
     ]
    },
    {
     "name": "stderr",
     "output_type": "stream",
     "text": [
      "Train batch number 99: 100%|██████████| 99/99 [00:22<00:00,  4.44batches/s]\n",
      "Test batch number 13: 100%|██████████| 13/13 [00:05<00:00,  2.58batches/s]\n"
     ]
    },
    {
     "name": "stdout",
     "output_type": "stream",
     "text": [
      "\n",
      "Metrics: {'train_loss': 0.0062594718737539485, 'test_loss': 2.2221774137937107, 'bleu': 21.1626, 'gen_len': 9.7121}\n",
      "\n",
      "=============================\n",
      "\n"
     ]
    },
    {
     "name": "stderr",
     "output_type": "stream",
     "text": [
      " 93%|█████████▎| 118/127 [1:07:39<04:58, 33.13s/it]"
     ]
    },
    {
     "name": "stdout",
     "output_type": "stream",
     "text": [
      "For epoch 246: \n",
      "{Learning rate: [5.623999790717011e-06]}\n"
     ]
    },
    {
     "name": "stderr",
     "output_type": "stream",
     "text": [
      "Train batch number 99: 100%|██████████| 99/99 [00:22<00:00,  4.40batches/s]\n",
      "Test batch number 13: 100%|██████████| 13/13 [00:04<00:00,  2.66batches/s]\n"
     ]
    },
    {
     "name": "stdout",
     "output_type": "stream",
     "text": [
      "\n",
      "Metrics: {'train_loss': 0.006249558006241598, 'test_loss': 2.222000626417307, 'bleu': 21.1626, 'gen_len': 9.7121}\n",
      "\n",
      "=============================\n",
      "\n"
     ]
    },
    {
     "name": "stderr",
     "output_type": "stream",
     "text": [
      " 94%|█████████▎| 119/127 [1:08:10<04:19, 32.39s/it]"
     ]
    },
    {
     "name": "stdout",
     "output_type": "stream",
     "text": [
      "For epoch 247: \n",
      "{Learning rate: [4.0123429580141496e-06]}\n"
     ]
    },
    {
     "name": "stderr",
     "output_type": "stream",
     "text": [
      "Train batch number 99: 100%|██████████| 99/99 [00:22<00:00,  4.50batches/s]\n",
      "Test batch number 13: 100%|██████████| 13/13 [00:06<00:00,  1.99batches/s]\n"
     ]
    },
    {
     "name": "stdout",
     "output_type": "stream",
     "text": [
      "\n",
      "Metrics: {'train_loss': 0.005944769083395262, 'test_loss': 2.2219550701288076, 'bleu': 21.1626, 'gen_len': 9.7121}\n",
      "\n",
      "=============================\n",
      "\n"
     ]
    },
    {
     "name": "stderr",
     "output_type": "stream",
     "text": [
      " 94%|█████████▍| 120/127 [1:08:42<03:46, 32.29s/it]"
     ]
    },
    {
     "name": "stdout",
     "output_type": "stream",
     "text": [
      "For epoch 248: \n",
      "{Learning rate: [2.6718883050504654e-06]}\n"
     ]
    },
    {
     "name": "stderr",
     "output_type": "stream",
     "text": [
      "Train batch number 99: 100%|██████████| 99/99 [00:23<00:00,  4.13batches/s]\n",
      "Test batch number 13: 100%|██████████| 13/13 [00:05<00:00,  2.43batches/s]\n"
     ]
    },
    {
     "name": "stdout",
     "output_type": "stream",
     "text": [
      "\n",
      "Metrics: {'train_loss': 0.00624914916195187, 'test_loss': 2.221940563275264, 'bleu': 21.1626, 'gen_len': 9.7121}\n",
      "\n",
      "=============================\n",
      "\n"
     ]
    },
    {
     "name": "stderr",
     "output_type": "stream",
     "text": [
      " 95%|█████████▌| 121/127 [1:09:15<03:14, 32.46s/it]"
     ]
    },
    {
     "name": "stdout",
     "output_type": "stream",
     "text": [
      "For epoch 249: \n",
      "{Learning rate: [1.6028450970325493e-06]}\n"
     ]
    },
    {
     "name": "stderr",
     "output_type": "stream",
     "text": [
      "Train batch number 99: 100%|██████████| 99/99 [00:25<00:00,  3.91batches/s]\n",
      "Test batch number 13: 100%|██████████| 13/13 [00:05<00:00,  2.44batches/s]\n"
     ]
    },
    {
     "name": "stdout",
     "output_type": "stream",
     "text": [
      "\n",
      "Metrics: {'train_loss': 0.006136570786827978, 'test_loss': 2.2219140988129835, 'bleu': 21.1626, 'gen_len': 9.7121}\n",
      "\n",
      "=============================\n",
      "\n"
     ]
    },
    {
     "name": "stderr",
     "output_type": "stream",
     "text": [
      " 96%|█████████▌| 122/127 [1:09:49<02:44, 32.95s/it]"
     ]
    },
    {
     "name": "stdout",
     "output_type": "stream",
     "text": [
      "For epoch 250: \n",
      "{Learning rate: [8.053802277433156e-07]}\n"
     ]
    },
    {
     "name": "stderr",
     "output_type": "stream",
     "text": [
      "Train batch number 99: 100%|██████████| 99/99 [00:21<00:00,  4.53batches/s]\n",
      "Test batch number 13: 100%|██████████| 13/13 [00:04<00:00,  2.67batches/s]\n"
     ]
    },
    {
     "name": "stdout",
     "output_type": "stream",
     "text": [
      "\n",
      "Metrics: {'train_loss': 0.006104425687079478, 'test_loss': 2.22191911477309, 'bleu': 21.1626, 'gen_len': 9.7121}\n",
      "\n",
      "=============================\n",
      "\n"
     ]
    },
    {
     "name": "stderr",
     "output_type": "stream",
     "text": [
      " 97%|█████████▋| 123/127 [1:10:19<02:08, 32.05s/it]"
     ]
    },
    {
     "name": "stdout",
     "output_type": "stream",
     "text": [
      "For epoch 251: \n",
      "{Learning rate: [2.7961819348712306e-07]}\n"
     ]
    },
    {
     "name": "stderr",
     "output_type": "stream",
     "text": [
      "Train batch number 99: 100%|██████████| 99/99 [00:22<00:00,  4.36batches/s]\n",
      "Test batch number 13: 100%|██████████| 13/13 [00:04<00:00,  2.69batches/s]\n"
     ]
    },
    {
     "name": "stdout",
     "output_type": "stream",
     "text": [
      "\n",
      "Metrics: {'train_loss': 0.0061208235420053825, 'test_loss': 2.221921104651231, 'bleu': 21.1626, 'gen_len': 9.7121}\n",
      "\n",
      "=============================\n",
      "\n"
     ]
    },
    {
     "name": "stderr",
     "output_type": "stream",
     "text": [
      " 98%|█████████▊| 124/127 [1:10:50<01:35, 31.67s/it]"
     ]
    },
    {
     "name": "stdout",
     "output_type": "stream",
     "text": [
      "For epoch 252: \n",
      "{Learning rate: [2.5641073654114227e-08]}\n"
     ]
    },
    {
     "name": "stderr",
     "output_type": "stream",
     "text": [
      "Train batch number 99: 100%|██████████| 99/99 [00:22<00:00,  4.35batches/s]\n",
      "Test batch number 13: 100%|██████████| 13/13 [00:05<00:00,  2.21batches/s]\n"
     ]
    },
    {
     "name": "stdout",
     "output_type": "stream",
     "text": [
      "\n",
      "Metrics: {'train_loss': 0.006104753635949549, 'test_loss': 2.2219210312916684, 'bleu': 21.1626, 'gen_len': 9.7121}\n",
      "\n",
      "=============================\n",
      "\n"
     ]
    },
    {
     "name": "stderr",
     "output_type": "stream",
     "text": [
      " 98%|█████████▊| 125/127 [1:11:22<01:03, 31.77s/it]"
     ]
    },
    {
     "name": "stdout",
     "output_type": "stream",
     "text": [
      "For epoch 253: \n",
      "{Learning rate: [4.348851790706118e-08]}\n"
     ]
    },
    {
     "name": "stderr",
     "output_type": "stream",
     "text": [
      "Train batch number 99: 100%|██████████| 99/99 [00:29<00:00,  3.38batches/s]\n",
      "Test batch number 13: 100%|██████████| 13/13 [00:04<00:00,  2.65batches/s]\n"
     ]
    },
    {
     "name": "stdout",
     "output_type": "stream",
     "text": [
      "\n",
      "Metrics: {'train_loss': 0.00617926846087247, 'test_loss': 2.221922856110793, 'bleu': 21.1626, 'gen_len': 9.7121}\n",
      "\n",
      "=============================\n",
      "\n"
     ]
    },
    {
     "name": "stderr",
     "output_type": "stream",
     "text": [
      " 99%|█████████▉| 126/127 [1:11:59<00:33, 33.46s/it]"
     ]
    },
    {
     "name": "stdout",
     "output_type": "stream",
     "text": [
      "For epoch 254: \n",
      "{Learning rate: [3.3315773999033293e-07]}\n"
     ]
    },
    {
     "name": "stderr",
     "output_type": "stream",
     "text": [
      "Train batch number 99: 100%|██████████| 99/99 [00:21<00:00,  4.63batches/s]\n",
      "Test batch number 13: 100%|██████████| 13/13 [00:04<00:00,  2.74batches/s]\n"
     ]
    },
    {
     "name": "stdout",
     "output_type": "stream",
     "text": [
      "\n",
      "Metrics: {'train_loss': 0.0059516656105500654, 'test_loss': 2.221930687244122, 'bleu': 21.1626, 'gen_len': 9.7121}\n",
      "\n",
      "=============================\n",
      "\n"
     ]
    },
    {
     "name": "stderr",
     "output_type": "stream",
     "text": [
      "100%|██████████| 127/127 [1:12:28<00:00, 34.24s/it]\n"
     ]
    }
   ],
   "source": [
    "trainer.train(epochs = config['epochs'] - trainer.current_epoch, auto_save=True, metric_for_best_model='bleu', metric_objective='maximize', log_step=1,\n",
    "              saving_directory = config['new_model_dir'])"
   ]
  },
  {
   "cell_type": "markdown",
   "metadata": {
    "id": "sQVOIX4lqGMg"
   },
   "source": [
    "### Predictions and Evaluation"
   ]
  },
  {
   "cell_type": "code",
   "execution_count": 13,
   "metadata": {},
   "outputs": [],
   "source": [
    "# initialize the transformation sequence\n",
    "end_mark_fn = partial(add_end_mark)\n",
    "fr_augmentation = TransformerSequences(remove_mark_space, delete_guillemet_space, end_mark_fn)\n",
    "\n",
    "# let us get the test set\n",
    "test_dataset = SentenceDataset(f\"data/extractions/new_data/test_set.csv\",\n",
    "                                        tokenizer = tokenizer,\n",
    "                                        cp1_transformer = fr_augmentation,\n",
    "                                        cp2_transformer = fr_augmentation,\n",
    "                                        truncation = True)"
   ]
  },
  {
   "cell_type": "markdown",
   "metadata": {
    "id": "W_iGdw-LLAJz"
   },
   "source": [
    "Let us make the evaluation and print the predicted sentences."
   ]
  },
  {
   "cell_type": "code",
   "execution_count": 14,
   "metadata": {},
   "outputs": [
    {
     "name": "stderr",
     "output_type": "stream",
     "text": [
      "Evaluation batch number 13: 100%|██████████| 13/13 [00:06<00:00,  2.16batches/s]\n"
     ]
    }
   ],
   "source": [
    "# evaluation with test set\n",
    "df_ft_to_wf = trainer.evaluate(test_dataset)"
   ]
  },
  {
   "cell_type": "code",
   "execution_count": 15,
   "metadata": {},
   "outputs": [
    {
     "data": {
      "text/html": [
       "<div>\n",
       "<style scoped>\n",
       "    .dataframe tbody tr th:only-of-type {\n",
       "        vertical-align: middle;\n",
       "    }\n",
       "\n",
       "    .dataframe tbody tr th {\n",
       "        vertical-align: top;\n",
       "    }\n",
       "\n",
       "    .dataframe thead th {\n",
       "        text-align: right;\n",
       "    }\n",
       "</style>\n",
       "<table border=\"1\" class=\"dataframe\">\n",
       "  <thead>\n",
       "    <tr style=\"text-align: right;\">\n",
       "      <th></th>\n",
       "      <th>original_sentences</th>\n",
       "      <th>translations</th>\n",
       "      <th>predictions</th>\n",
       "    </tr>\n",
       "  </thead>\n",
       "  <tbody>\n",
       "    <tr>\n",
       "      <th>188</th>\n",
       "      <td>Donne le travail à un autre!</td>\n",
       "      <td>Joxal kenn liggéey bi!</td>\n",
       "      <td>Mayal ñépp benn!</td>\n",
       "    </tr>\n",
       "    <tr>\n",
       "      <th>189</th>\n",
       "      <td>Cet homme qui a été.</td>\n",
       "      <td>Góor gii demoon.</td>\n",
       "      <td>Gor gii dem.</td>\n",
       "    </tr>\n",
       "    <tr>\n",
       "      <th>190</th>\n",
       "      <td>Dites-lui.</td>\n",
       "      <td>Nileen ka.</td>\n",
       "      <td>Nileen leen.</td>\n",
       "    </tr>\n",
       "    <tr>\n",
       "      <th>191</th>\n",
       "      <td>Il est là.</td>\n",
       "      <td>Ma ŋgoogule foofu.</td>\n",
       "      <td>Mi ŋgi fi.</td>\n",
       "    </tr>\n",
       "    <tr>\n",
       "      <th>192</th>\n",
       "      <td>Tu vois cet homme là-bas?</td>\n",
       "      <td>Gis ŋga nit kale?</td>\n",
       "      <td>Gis ŋga xale bee?</td>\n",
       "    </tr>\n",
       "    <tr>\n",
       "      <th>193</th>\n",
       "      <td>L'homme est parti je crois!</td>\n",
       "      <td>Ma defe góor gi dem na!</td>\n",
       "      <td>Góor gi dem na, ma defe!</td>\n",
       "    </tr>\n",
       "    <tr>\n",
       "      <th>194</th>\n",
       "      <td>J'ai aperçu un baobab.</td>\n",
       "      <td>Séen naa ag guy.</td>\n",
       "      <td>Séen naa aw fas.</td>\n",
       "    </tr>\n",
       "    <tr>\n",
       "      <th>195</th>\n",
       "      <td>Celui-ci serait parti.</td>\n",
       "      <td>Kii dafa demkoon.</td>\n",
       "      <td>Kii dafa demkoon.</td>\n",
       "    </tr>\n",
       "    <tr>\n",
       "      <th>196</th>\n",
       "      <td>Toutes les portes étaient ouvertes.</td>\n",
       "      <td>Bunt yi yépp a tëjju woon.</td>\n",
       "      <td>Yeneen xar yi yépp daw.</td>\n",
       "    </tr>\n",
       "    <tr>\n",
       "      <th>197</th>\n",
       "      <td>C'est Fatim, aujourd'hui.</td>\n",
       "      <td>Faatim la, tay.</td>\n",
       "      <td>Faatim la soo demee.</td>\n",
       "    </tr>\n",
       "  </tbody>\n",
       "</table>\n",
       "</div>"
      ],
      "text/plain": [
       "                      original_sentences                translations  \\\n",
       "188         Donne le travail à un autre!      Joxal kenn liggéey bi!   \n",
       "189                 Cet homme qui a été.            Góor gii demoon.   \n",
       "190                           Dites-lui.                  Nileen ka.   \n",
       "191                           Il est là.          Ma ŋgoogule foofu.   \n",
       "192            Tu vois cet homme là-bas?           Gis ŋga nit kale?   \n",
       "193          L'homme est parti je crois!     Ma defe góor gi dem na!   \n",
       "194               J'ai aperçu un baobab.            Séen naa ag guy.   \n",
       "195               Celui-ci serait parti.           Kii dafa demkoon.   \n",
       "196  Toutes les portes étaient ouvertes.  Bunt yi yépp a tëjju woon.   \n",
       "197            C'est Fatim, aujourd'hui.             Faatim la, tay.   \n",
       "\n",
       "                  predictions  \n",
       "188          Mayal ñépp benn!  \n",
       "189              Gor gii dem.  \n",
       "190              Nileen leen.  \n",
       "191                Mi ŋgi fi.  \n",
       "192         Gis ŋga xale bee?  \n",
       "193  Góor gi dem na, ma defe!  \n",
       "194          Séen naa aw fas.  \n",
       "195         Kii dafa demkoon.  \n",
       "196   Yeneen xar yi yépp daw.  \n",
       "197      Faatim la soo demee.  "
      ]
     },
     "execution_count": 15,
     "metadata": {},
     "output_type": "execute_result"
    }
   ],
   "source": [
    "df_ft_to_wf[1].tail(10)"
   ]
  },
  {
   "cell_type": "code",
   "execution_count": 16,
   "metadata": {},
   "outputs": [
    {
     "data": {
      "text/html": [
       "<div>\n",
       "<style scoped>\n",
       "    .dataframe tbody tr th:only-of-type {\n",
       "        vertical-align: middle;\n",
       "    }\n",
       "\n",
       "    .dataframe tbody tr th {\n",
       "        vertical-align: top;\n",
       "    }\n",
       "\n",
       "    .dataframe thead th {\n",
       "        text-align: right;\n",
       "    }\n",
       "</style>\n",
       "<table border=\"1\" class=\"dataframe\">\n",
       "  <thead>\n",
       "    <tr style=\"text-align: right;\">\n",
       "      <th></th>\n",
       "      <th>original_sentences</th>\n",
       "      <th>translations</th>\n",
       "      <th>predictions</th>\n",
       "    </tr>\n",
       "  </thead>\n",
       "  <tbody>\n",
       "    <tr>\n",
       "      <th>18</th>\n",
       "      <td>Afin que parte qui?</td>\n",
       "      <td>Ndax kan dem?</td>\n",
       "      <td>Ndax kan dem?</td>\n",
       "    </tr>\n",
       "    <tr>\n",
       "      <th>168</th>\n",
       "      <td>Tu as vu les autres amis?</td>\n",
       "      <td>Gis ŋga sa yeneen xarit yi?</td>\n",
       "      <td>Gis ŋga samay xarit yan?</td>\n",
       "    </tr>\n",
       "    <tr>\n",
       "      <th>63</th>\n",
       "      <td>Quelles femmes se sont égarées?</td>\n",
       "      <td>Jigéen ñan ñoo réer?</td>\n",
       "      <td>Jigéen ñan ñoo réer?</td>\n",
       "    </tr>\n",
       "    <tr>\n",
       "      <th>175</th>\n",
       "      <td>C'est ce que tu as dit que la jeune femme préf...</td>\n",
       "      <td>Li ŋga wax la ndaw si taamu.</td>\n",
       "      <td>Li ŋga wax loolu.</td>\n",
       "    </tr>\n",
       "    <tr>\n",
       "      <th>71</th>\n",
       "      <td>Moi-même je n'ai pas été.</td>\n",
       "      <td>Man mii demuma.</td>\n",
       "      <td>Man demuma.</td>\n",
       "    </tr>\n",
       "    <tr>\n",
       "      <th>86</th>\n",
       "      <td>Ils partent.</td>\n",
       "      <td>Dem nañu.</td>\n",
       "      <td>Dem nañu.</td>\n",
       "    </tr>\n",
       "    <tr>\n",
       "      <th>5</th>\n",
       "      <td>Les gens n'étaient pas, habituellement, bavards.</td>\n",
       "      <td>Nit ñi daawuñu coow.</td>\n",
       "      <td>Góor ñi dem nañu.</td>\n",
       "    </tr>\n",
       "    <tr>\n",
       "      <th>118</th>\n",
       "      <td>Bonne soirée.</td>\n",
       "      <td>Naka ngon si.</td>\n",
       "      <td>Jaam nga fanane.</td>\n",
       "    </tr>\n",
       "    <tr>\n",
       "      <th>12</th>\n",
       "      <td>Tout autre mouton que tu vois.</td>\n",
       "      <td>Meneen xar mépp moo gis.</td>\n",
       "      <td>Wax ji yépp, bañ-ŋga-ñëw la.</td>\n",
       "    </tr>\n",
       "    <tr>\n",
       "      <th>150</th>\n",
       "      <td>Une photo datant d'il y a soixante et neuf ans...</td>\n",
       "      <td>Nataalu juróom benn fukk ak juróom ñeent day w...</td>\n",
       "      <td>Waaw nataal bii de ay bunt yu dóomu-taal moo c...</td>\n",
       "    </tr>\n",
       "    <tr>\n",
       "      <th>60</th>\n",
       "      <td>Mes voeux d'anniversaire.</td>\n",
       "      <td>Mangui lay ndokkel ci sa bess bu délu si bi.</td>\n",
       "      <td>Mangui lay ndokkel ci att bu bess bi.</td>\n",
       "    </tr>\n",
       "    <tr>\n",
       "      <th>75</th>\n",
       "      <td>Je parle de cet enfant-ci?</td>\n",
       "      <td>Xale bule laa wax?</td>\n",
       "      <td>Bule xale laa wax?</td>\n",
       "    </tr>\n",
       "    <tr>\n",
       "      <th>163</th>\n",
       "      <td>Comment se passe le travail?</td>\n",
       "      <td>Naka ligéey bi?</td>\n",
       "      <td>Naka guddi gi?</td>\n",
       "    </tr>\n",
       "    <tr>\n",
       "      <th>96</th>\n",
       "      <td>C'est son ami!</td>\n",
       "      <td>Xaritam la!</td>\n",
       "      <td>Seen xarit la!</td>\n",
       "    </tr>\n",
       "    <tr>\n",
       "      <th>113</th>\n",
       "      <td>L'homme ne cultivera pas.</td>\n",
       "      <td>Góor gi du bày.</td>\n",
       "      <td>Góor gi bëggul.</td>\n",
       "    </tr>\n",
       "    <tr>\n",
       "      <th>7</th>\n",
       "      <td>S'il n'était pas Laobe.</td>\n",
       "      <td>Su dulwoon Lawbe.</td>\n",
       "      <td>Bu demulwoon.</td>\n",
       "    </tr>\n",
       "    <tr>\n",
       "      <th>33</th>\n",
       "      <td>L'homme est allé à l'intérieur.</td>\n",
       "      <td>Góor gi dem na ci biir.</td>\n",
       "      <td>Góor gi ci biir.</td>\n",
       "    </tr>\n",
       "    <tr>\n",
       "      <th>134</th>\n",
       "      <td>Moussa vous a dit que j'étais à la retraite.</td>\n",
       "      <td>Musaa wax na leen jël naa sama retraite.</td>\n",
       "      <td>Musaa rekk ŋgeen.</td>\n",
       "    </tr>\n",
       "    <tr>\n",
       "      <th>37</th>\n",
       "      <td>Je parle de cet homme-ci.</td>\n",
       "      <td>Kile nit laa wax.</td>\n",
       "      <td>Xale buu laa wax.</td>\n",
       "    </tr>\n",
       "    <tr>\n",
       "      <th>166</th>\n",
       "      <td>Je n'avais pas été te le cueillir.</td>\n",
       "      <td>Wattaliwuma la ka woon.</td>\n",
       "      <td>Demumawoon fenn tày ci suba.</td>\n",
       "    </tr>\n",
       "    <tr>\n",
       "      <th>109</th>\n",
       "      <td>Sur la photo que vous m'avez envoyée il y a de...</td>\n",
       "      <td>Nataal bi ngeen ma yónne nii de ñaari baŋ lañ ...</td>\n",
       "      <td>Nataal bii ngeen ma yónnee de ab dëkku àll bu ...</td>\n",
       "    </tr>\n",
       "    <tr>\n",
       "      <th>143</th>\n",
       "      <td>Tu as regardé dans cette chambre-ci?</td>\n",
       "      <td>Seet ŋga néeg buu?</td>\n",
       "      <td>Seet ŋga buu néeg?</td>\n",
       "    </tr>\n",
       "    <tr>\n",
       "      <th>45</th>\n",
       "      <td>Qu'il attrappe quelles vaches?</td>\n",
       "      <td>Mu japp nag yooyu yan?</td>\n",
       "      <td>Na ngeen def?</td>\n",
       "    </tr>\n",
       "    <tr>\n",
       "      <th>157</th>\n",
       "      <td>Aucun lion ne s'est égaré.</td>\n",
       "      <td>Gayndé genn réerul.</td>\n",
       "      <td>Kenn nit réerul.</td>\n",
       "    </tr>\n",
       "    <tr>\n",
       "      <th>138</th>\n",
       "      <td>Alors il partit.</td>\n",
       "      <td>Noona mu dem.</td>\n",
       "      <td>Noonu di dem.</td>\n",
       "    </tr>\n",
       "    <tr>\n",
       "      <th>111</th>\n",
       "      <td>C'est l'autre endroit qui n'a pas de trou.</td>\n",
       "      <td>Feneen fi bëttul la.</td>\n",
       "      <td>Keneen ki la ñu xam.</td>\n",
       "    </tr>\n",
       "    <tr>\n",
       "      <th>177</th>\n",
       "      <td>L'un, dont il fut question, est parti.</td>\n",
       "      <td>Kenn ki woon dem na.</td>\n",
       "      <td>Benn nit ki woon.</td>\n",
       "    </tr>\n",
       "    <tr>\n",
       "      <th>183</th>\n",
       "      <td>Mais, même moi, je n'ai pas été!</td>\n",
       "      <td>Waaye man sax dama dul ñëw!</td>\n",
       "      <td>Waaye man sax dama dul ñëw!</td>\n",
       "    </tr>\n",
       "    <tr>\n",
       "      <th>92</th>\n",
       "      <td>J'ai été jusqu'à lui.</td>\n",
       "      <td>Dem naa ba ci moom.</td>\n",
       "      <td>Dem naa ba Ndar.</td>\n",
       "    </tr>\n",
       "    <tr>\n",
       "      <th>44</th>\n",
       "      <td>Que j'attrape quelles vaches?</td>\n",
       "      <td>Ma japp nag yee yan?</td>\n",
       "      <td>Ci ñan ŋga jëm?</td>\n",
       "    </tr>\n",
       "    <tr>\n",
       "      <th>16</th>\n",
       "      <td>Quoi?</td>\n",
       "      <td>Lii lan?</td>\n",
       "      <td>Lu tax?</td>\n",
       "    </tr>\n",
       "    <tr>\n",
       "      <th>135</th>\n",
       "      <td>J'ai vu vache d'Europe.</td>\n",
       "      <td>Gis naa nagu Tugal.</td>\n",
       "      <td>Gis naa nagu Tugal.</td>\n",
       "    </tr>\n",
       "    <tr>\n",
       "      <th>136</th>\n",
       "      <td>Appelle l'homme qui n'est pas Kangame d'ici!</td>\n",
       "      <td>Wool góor gi dul Kajgaamu fii!</td>\n",
       "      <td>Wool góor gi dul Kajgaamu fii!</td>\n",
       "    </tr>\n",
       "    <tr>\n",
       "      <th>97</th>\n",
       "      <td>L'homme qui eût travaillé.</td>\n",
       "      <td>Waa ji liggéeykoon.</td>\n",
       "      <td>Góor gi waxkoon na.</td>\n",
       "    </tr>\n",
       "    <tr>\n",
       "      <th>22</th>\n",
       "      <td>Là-bas où?</td>\n",
       "      <td>Foofee fan?</td>\n",
       "      <td>Ci foofu ŋga jëm?</td>\n",
       "    </tr>\n",
       "    <tr>\n",
       "      <th>194</th>\n",
       "      <td>J'ai aperçu un baobab.</td>\n",
       "      <td>Séen naa ag guy.</td>\n",
       "      <td>Séen naa aw fas.</td>\n",
       "    </tr>\n",
       "    <tr>\n",
       "      <th>126</th>\n",
       "      <td>À ceux-ci, ceux-là, à ceux qui sont là-bas.</td>\n",
       "      <td>Ñii, ñee, ñooñu.</td>\n",
       "      <td>Ci ñi ak ca nee.</td>\n",
       "    </tr>\n",
       "    <tr>\n",
       "      <th>4</th>\n",
       "      <td>Ce n'est pas le tambour!</td>\n",
       "      <td>Du sabar gi!</td>\n",
       "      <td>Du sabar gu rëy!</td>\n",
       "    </tr>\n",
       "    <tr>\n",
       "      <th>66</th>\n",
       "      <td>Une fois en chemin.</td>\n",
       "      <td>Su dee dem.</td>\n",
       "      <td>Sa yay nee danañu ci ŋgoon.</td>\n",
       "    </tr>\n",
       "    <tr>\n",
       "      <th>123</th>\n",
       "      <td>Appelle les enfants qui n'iront nulle part.</td>\n",
       "      <td>Wool xale yi dul dem fenn.</td>\n",
       "      <td>Wool kee dul dem.</td>\n",
       "    </tr>\n",
       "    <tr>\n",
       "      <th>131</th>\n",
       "      <td>Si on va au fond des choses, c'est Fatim!</td>\n",
       "      <td>Soo demee, Faatim la!</td>\n",
       "      <td>Faatim la soo demee!</td>\n",
       "    </tr>\n",
       "    <tr>\n",
       "      <th>173</th>\n",
       "      <td>Sur cette photo ci, j'y vois quelqu'un portant...</td>\n",
       "      <td>Nataal bii maa ngi ciy gis ku yor raaya Senega...</td>\n",
       "      <td>Waaw ëe nataal bii nii maa ngi ciy seetlu bëer...</td>\n",
       "    </tr>\n",
       "    <tr>\n",
       "      <th>26</th>\n",
       "      <td>Tu as vu celui-ci?</td>\n",
       "      <td>Gis ŋga kooku?</td>\n",
       "      <td>Gis ŋga celui-ci?</td>\n",
       "    </tr>\n",
       "    <tr>\n",
       "      <th>61</th>\n",
       "      <td>Attends jusqu'à demain!</td>\n",
       "      <td>Negal ba ëlëk!</td>\n",
       "      <td>Samay xarit!</td>\n",
       "    </tr>\n",
       "    <tr>\n",
       "      <th>145</th>\n",
       "      <td>J'ai vu vache d'Europe.</td>\n",
       "      <td>Gis naa nagu Tugël.</td>\n",
       "      <td>Gis naa nagu Tugal.</td>\n",
       "    </tr>\n",
       "    <tr>\n",
       "      <th>83</th>\n",
       "      <td>Afin qu'il se passe quoi?</td>\n",
       "      <td>Ndax lan am?</td>\n",
       "      <td>Ndax kan dem?</td>\n",
       "    </tr>\n",
       "    <tr>\n",
       "      <th>8</th>\n",
       "      <td>C'est lui qui aime.</td>\n",
       "      <td>Moo bëgg.</td>\n",
       "      <td>Moo doon wax.</td>\n",
       "    </tr>\n",
       "    <tr>\n",
       "      <th>141</th>\n",
       "      <td>Qui as-tu vu?</td>\n",
       "      <td>Koo gis?</td>\n",
       "      <td>Ko gis?</td>\n",
       "    </tr>\n",
       "    <tr>\n",
       "      <th>74</th>\n",
       "      <td>Sur cette photo ci, il y a des pierres qui son...</td>\n",
       "      <td>Waaw nataal bi de, ay xeer la yoo xam ni dañ d...</td>\n",
       "      <td>Nataal bii de nataal la boo xam ne ay nit la y...</td>\n",
       "    </tr>\n",
       "    <tr>\n",
       "      <th>187</th>\n",
       "      <td>La réunion ce n'est pas après-demain?</td>\n",
       "      <td>Ndaje mi du gannaaw ëlëk?</td>\n",
       "      <td>Naka lanuy waxee lii ci wolof?</td>\n",
       "    </tr>\n",
       "    <tr>\n",
       "      <th>98</th>\n",
       "      <td>C'est un bûcheron.</td>\n",
       "      <td>Aw lawbe la.</td>\n",
       "      <td>Lawbe la.</td>\n",
       "    </tr>\n",
       "    <tr>\n",
       "      <th>55</th>\n",
       "      <td>Cherche l'autre.</td>\n",
       "      <td>Seetal beneen bi.</td>\n",
       "      <td>Setal keneen ki.</td>\n",
       "    </tr>\n",
       "    <tr>\n",
       "      <th>144</th>\n",
       "      <td>Un homme de courage n'abonde pas en paroles.</td>\n",
       "      <td>Jambaar du bare wax.</td>\n",
       "      <td>Jambaar du bare wax.</td>\n",
       "    </tr>\n",
       "    <tr>\n",
       "      <th>162</th>\n",
       "      <td>Dis à l'homme de partir!</td>\n",
       "      <td>Waxal góor gi mu dem!</td>\n",
       "      <td>Waxal góor gi mu dem!</td>\n",
       "    </tr>\n",
       "    <tr>\n",
       "      <th>24</th>\n",
       "      <td>Je crois que ce n'est pas celui-ci!</td>\n",
       "      <td>Du kii, defe naa!</td>\n",
       "      <td>Defe naa du kookuu!</td>\n",
       "    </tr>\n",
       "    <tr>\n",
       "      <th>30</th>\n",
       "      <td>L'homme partit.</td>\n",
       "      <td>Góor gi dem.</td>\n",
       "      <td>Góor gi bëgg na.</td>\n",
       "    </tr>\n",
       "    <tr>\n",
       "      <th>112</th>\n",
       "      <td>Mets de l'ordre à l'intérieur seulement!</td>\n",
       "      <td>Defaral ci biir rekk!</td>\n",
       "      <td>Waxal ag Samba rekk!</td>\n",
       "    </tr>\n",
       "    <tr>\n",
       "      <th>40</th>\n",
       "      <td>Le voilà assis là-bas.</td>\n",
       "      <td>Ma ŋgii toog.</td>\n",
       "      <td>Ñu ŋgi toog.</td>\n",
       "    </tr>\n",
       "    <tr>\n",
       "      <th>56</th>\n",
       "      <td>Qui sont-ils?</td>\n",
       "      <td>Ñan lañu?</td>\n",
       "      <td>Ku mu?</td>\n",
       "    </tr>\n",
       "    <tr>\n",
       "      <th>179</th>\n",
       "      <td>La femme et l'homme non plus ne désirent s'ent...</td>\n",
       "      <td>Ndaw si ak waa ji itam dañu bëggul déggoo.</td>\n",
       "      <td>Jigéen ji ag góor gi ñjool lañu.</td>\n",
       "    </tr>\n",
       "    <tr>\n",
       "      <th>139</th>\n",
       "      <td>Comment t'appelles-tu?</td>\n",
       "      <td>Noo tudd?</td>\n",
       "      <td>Naka-nga sant?</td>\n",
       "    </tr>\n",
       "    <tr>\n",
       "      <th>80</th>\n",
       "      <td>Il l'a battu à tel point qu'il est là.</td>\n",
       "      <td>Dóor na ka ba mi ŋgi.</td>\n",
       "      <td>Dóor na ka ba mi ŋgi.</td>\n",
       "    </tr>\n",
       "    <tr>\n",
       "      <th>19</th>\n",
       "      <td>J'ai vu l'ovin mâle.</td>\n",
       "      <td>Gis naa xar mu góor ma.</td>\n",
       "      <td>Gis naa ka woon.</td>\n",
       "    </tr>\n",
       "    <tr>\n",
       "      <th>159</th>\n",
       "      <td>L'homme a donné quelque chose à quelqu'un.</td>\n",
       "      <td>Góor gi may na dara nit.</td>\n",
       "      <td>Góor gi may na nit dara.</td>\n",
       "    </tr>\n",
       "    <tr>\n",
       "      <th>90</th>\n",
       "      <td>C'est là jusqu'au moment où nous trouverons un...</td>\n",
       "      <td>Foofu la ba ba ñuy gis feneen.</td>\n",
       "      <td>Sa yay nee dana dellusi soo yeggee.</td>\n",
       "    </tr>\n",
       "    <tr>\n",
       "      <th>54</th>\n",
       "      <td>Ils ont tous convenu qu'ils travailleraient to...</td>\n",
       "      <td>Degganté ñu ñoom ñép ci lu ñép di liggéeyi ci ...</td>\n",
       "      <td>Laobe lañu woon dem.</td>\n",
       "    </tr>\n",
       "    <tr>\n",
       "      <th>161</th>\n",
       "      <td>J'irai aujourd'hui!</td>\n",
       "      <td>Tay danaa dem!</td>\n",
       "      <td>Danaa dem!</td>\n",
       "    </tr>\n",
       "    <tr>\n",
       "      <th>51</th>\n",
       "      <td>C'est bon?</td>\n",
       "      <td>Baax na?</td>\n",
       "      <td>Neex na?</td>\n",
       "    </tr>\n",
       "    <tr>\n",
       "      <th>130</th>\n",
       "      <td>Où est le maître de maison?</td>\n",
       "      <td>Ana boroom kër gi?</td>\n",
       "      <td>Ana waa kër gi?</td>\n",
       "    </tr>\n",
       "    <tr>\n",
       "      <th>137</th>\n",
       "      <td>Cela seulement ne suffit pas.</td>\n",
       "      <td>Loolu doŋŋ doyul.</td>\n",
       "      <td>Buleen dem.</td>\n",
       "    </tr>\n",
       "    <tr>\n",
       "      <th>180</th>\n",
       "      <td>Sur cette photo datant d'il y a trente sept an...</td>\n",
       "      <td>Nataalu fanweer ak juróom-ñaar, maa ngi ci gis...</td>\n",
       "      <td>Waaw lii de ab nataal la boog. Maa ngi gis ñaa...</td>\n",
       "    </tr>\n",
       "    <tr>\n",
       "      <th>89</th>\n",
       "      <td>L'homme peut-il aller à Rao?</td>\n",
       "      <td>Góor gi dem Rao?</td>\n",
       "      <td>Góor gi dem?</td>\n",
       "    </tr>\n",
       "    <tr>\n",
       "      <th>125</th>\n",
       "      <td>L'homme a tenu aux enfants de bons propos.</td>\n",
       "      <td>Góor gi wax na xale yi wax ju rafet.</td>\n",
       "      <td>Góor gi nee na la wax.</td>\n",
       "    </tr>\n",
       "    <tr>\n",
       "      <th>178</th>\n",
       "      <td>L'homme a fait un cadeau à Bathe.</td>\n",
       "      <td>Góor gi may na Bacc.</td>\n",
       "      <td>Góor gi may na nit dara.</td>\n",
       "    </tr>\n",
       "    <tr>\n",
       "      <th>182</th>\n",
       "      <td>Tu ne vas pas ailleurs!</td>\n",
       "      <td>Demuloo feneen!</td>\n",
       "      <td>Demuloo fenn!</td>\n",
       "    </tr>\n",
       "    <tr>\n",
       "      <th>107</th>\n",
       "      <td>Ceci est, cependant, une porte conçue avec du ...</td>\n",
       "      <td>Lii nag ab buntu la boo xam ne ndénk lanu ko d...</td>\n",
       "      <td>Waaw lii nag ab alkaati bu yor ngànnaayam, tak...</td>\n",
       "    </tr>\n",
       "    <tr>\n",
       "      <th>14</th>\n",
       "      <td>Bon matin.</td>\n",
       "      <td>Jaam nga fanane.</td>\n",
       "      <td>Jaam nga fanane.</td>\n",
       "    </tr>\n",
       "    <tr>\n",
       "      <th>27</th>\n",
       "      <td>Tu as vu tes autres amis?</td>\n",
       "      <td>Gis ŋga sa xarit yeneen yi?</td>\n",
       "      <td>Gis ŋga sa xarit yan?</td>\n",
       "    </tr>\n",
       "    <tr>\n",
       "      <th>122</th>\n",
       "      <td>Cette photo ci c'est une photo sur laquelle je...</td>\n",
       "      <td>Nataal bi ab nataal la boo xamante yni maa ngi...</td>\n",
       "      <td>Nataal bii de nataal la boo xam ne néegu puj l...</td>\n",
       "    </tr>\n",
       "    <tr>\n",
       "      <th>195</th>\n",
       "      <td>Celui-ci serait parti.</td>\n",
       "      <td>Kii dafa demkoon.</td>\n",
       "      <td>Kii dafa demkoon.</td>\n",
       "    </tr>\n",
       "    <tr>\n",
       "      <th>46</th>\n",
       "      <td>Homme et lion ne peuvent cohabiter ensemble.</td>\n",
       "      <td>Nit ag gaynde duñu dëkkóo.</td>\n",
       "      <td>Nit ag gaynde duñu dëkkóo.</td>\n",
       "    </tr>\n",
       "    <tr>\n",
       "      <th>193</th>\n",
       "      <td>L'homme est parti je crois!</td>\n",
       "      <td>Ma defe góor gi dem na!</td>\n",
       "      <td>Góor gi dem na, ma defe!</td>\n",
       "    </tr>\n",
       "    <tr>\n",
       "      <th>106</th>\n",
       "      <td>Dis-lui qu'il ne vienne pas.</td>\n",
       "      <td>Ni ka bu mu ñëw.</td>\n",
       "      <td>Wax ji yépp, bañ-ŋga-ñëw la.</td>\n",
       "    </tr>\n",
       "    <tr>\n",
       "      <th>62</th>\n",
       "      <td>Que la paix soit avec toi aussi.</td>\n",
       "      <td>Maaleekum salaam.</td>\n",
       "      <td>Salaam maaleekum.</td>\n",
       "    </tr>\n",
       "    <tr>\n",
       "      <th>2</th>\n",
       "      <td>Qui a parlé?</td>\n",
       "      <td>Ku wax?</td>\n",
       "      <td>Ku mu?</td>\n",
       "    </tr>\n",
       "    <tr>\n",
       "      <th>59</th>\n",
       "      <td>Surtout pars!</td>\n",
       "      <td>Te ŋga dem kat!</td>\n",
       "      <td>Te sax dem!</td>\n",
       "    </tr>\n",
       "    <tr>\n",
       "      <th>158</th>\n",
       "      <td>Quels chevaux voulais-tu et lequel as-tu pris?</td>\n",
       "      <td>Yan fas ŋga bëggoon ak wan ŋga japp?</td>\n",
       "      <td>Fas yeneen yan ŋga jënd?</td>\n",
       "    </tr>\n",
       "    <tr>\n",
       "      <th>197</th>\n",
       "      <td>C'est Fatim, aujourd'hui.</td>\n",
       "      <td>Faatim la, tay.</td>\n",
       "      <td>Faatim la soo demee.</td>\n",
       "    </tr>\n",
       "    <tr>\n",
       "      <th>43</th>\n",
       "      <td>Comme il avait ainsi été en ce lieu.</td>\n",
       "      <td>Noonu mu demoon foofa.</td>\n",
       "      <td>Noonu itam, ma bañ génn.</td>\n",
       "    </tr>\n",
       "    <tr>\n",
       "      <th>10</th>\n",
       "      <td>J'ai vu lion.</td>\n",
       "      <td>Gis naa gaynde.</td>\n",
       "      <td>Gis naa gaynde.</td>\n",
       "    </tr>\n",
       "    <tr>\n",
       "      <th>101</th>\n",
       "      <td>C'est un homme qui fut bon!</td>\n",
       "      <td>Nit ku baaxoon la!</td>\n",
       "      <td>Nit ku baax la!</td>\n",
       "    </tr>\n",
       "    <tr>\n",
       "      <th>73</th>\n",
       "      <td>Certaines personnes ne sont pas encore arrivées.</td>\n",
       "      <td>Ñenn nit ñi yegseeguñu.</td>\n",
       "      <td>Nit ñenn ñi yegseeguñu.</td>\n",
       "    </tr>\n",
       "    <tr>\n",
       "      <th>190</th>\n",
       "      <td>Dites-lui.</td>\n",
       "      <td>Nileen ka.</td>\n",
       "      <td>Nileen leen.</td>\n",
       "    </tr>\n",
       "    <tr>\n",
       "      <th>176</th>\n",
       "      <td>J'ai vu un mouton.</td>\n",
       "      <td>Gis naa am xar.</td>\n",
       "      <td>Gis naa xar mu góor ma.</td>\n",
       "    </tr>\n",
       "    <tr>\n",
       "      <th>146</th>\n",
       "      <td>Jusqu'ici, c'est bon.</td>\n",
       "      <td>Ba fi, mu tollu.</td>\n",
       "      <td>Tay, Faatim la.</td>\n",
       "    </tr>\n",
       "    <tr>\n",
       "      <th>124</th>\n",
       "      <td>J'ai aperçu un homme.</td>\n",
       "      <td>Séen naa ak nit.</td>\n",
       "      <td>Séen naa aw fas.</td>\n",
       "    </tr>\n",
       "    <tr>\n",
       "      <th>93</th>\n",
       "      <td>C'est cet autre-là?</td>\n",
       "      <td>Kookule la?</td>\n",
       "      <td>Baax na?</td>\n",
       "    </tr>\n",
       "    <tr>\n",
       "      <th>110</th>\n",
       "      <td>C'est le Laobe.</td>\n",
       "      <td>Moo di Lawbe bi.</td>\n",
       "      <td>Lawbe la.</td>\n",
       "    </tr>\n",
       "    <tr>\n",
       "      <th>156</th>\n",
       "      <td>Bonne nuit.</td>\n",
       "      <td>Fanaanal jaam.</td>\n",
       "      <td>Yônu jàam.</td>\n",
       "    </tr>\n",
       "    <tr>\n",
       "      <th>189</th>\n",
       "      <td>Cet homme qui a été.</td>\n",
       "      <td>Góor gii demoon.</td>\n",
       "      <td>Gor gii dem.</td>\n",
       "    </tr>\n",
       "  </tbody>\n",
       "</table>\n",
       "</div>"
      ],
      "text/plain": [
       "                                    original_sentences  \\\n",
       "18                                 Afin que parte qui?   \n",
       "168                          Tu as vu les autres amis?   \n",
       "63                     Quelles femmes se sont égarées?   \n",
       "175  C'est ce que tu as dit que la jeune femme préf...   \n",
       "71                           Moi-même je n'ai pas été.   \n",
       "86                                        Ils partent.   \n",
       "5     Les gens n'étaient pas, habituellement, bavards.   \n",
       "118                                      Bonne soirée.   \n",
       "12                      Tout autre mouton que tu vois.   \n",
       "150  Une photo datant d'il y a soixante et neuf ans...   \n",
       "60                           Mes voeux d'anniversaire.   \n",
       "75                          Je parle de cet enfant-ci?   \n",
       "163                       Comment se passe le travail?   \n",
       "96                                      C'est son ami!   \n",
       "113                          L'homme ne cultivera pas.   \n",
       "7                              S'il n'était pas Laobe.   \n",
       "33                     L'homme est allé à l'intérieur.   \n",
       "134       Moussa vous a dit que j'étais à la retraite.   \n",
       "37                           Je parle de cet homme-ci.   \n",
       "166                 Je n'avais pas été te le cueillir.   \n",
       "109  Sur la photo que vous m'avez envoyée il y a de...   \n",
       "143               Tu as regardé dans cette chambre-ci?   \n",
       "45                      Qu'il attrappe quelles vaches?   \n",
       "157                         Aucun lion ne s'est égaré.   \n",
       "138                                   Alors il partit.   \n",
       "111         C'est l'autre endroit qui n'a pas de trou.   \n",
       "177             L'un, dont il fut question, est parti.   \n",
       "183                   Mais, même moi, je n'ai pas été!   \n",
       "92                               J'ai été jusqu'à lui.   \n",
       "44                       Que j'attrape quelles vaches?   \n",
       "16                                               Quoi?   \n",
       "135                            J'ai vu vache d'Europe.   \n",
       "136       Appelle l'homme qui n'est pas Kangame d'ici!   \n",
       "97                          L'homme qui eût travaillé.   \n",
       "22                                          Là-bas où?   \n",
       "194                             J'ai aperçu un baobab.   \n",
       "126        À ceux-ci, ceux-là, à ceux qui sont là-bas.   \n",
       "4                             Ce n'est pas le tambour!   \n",
       "66                                 Une fois en chemin.   \n",
       "123        Appelle les enfants qui n'iront nulle part.   \n",
       "131          Si on va au fond des choses, c'est Fatim!   \n",
       "173  Sur cette photo ci, j'y vois quelqu'un portant...   \n",
       "26                                  Tu as vu celui-ci?   \n",
       "61                             Attends jusqu'à demain!   \n",
       "145                            J'ai vu vache d'Europe.   \n",
       "83                           Afin qu'il se passe quoi?   \n",
       "8                                  C'est lui qui aime.   \n",
       "141                                      Qui as-tu vu?   \n",
       "74   Sur cette photo ci, il y a des pierres qui son...   \n",
       "187              La réunion ce n'est pas après-demain?   \n",
       "98                                  C'est un bûcheron.   \n",
       "55                                    Cherche l'autre.   \n",
       "144       Un homme de courage n'abonde pas en paroles.   \n",
       "162                           Dis à l'homme de partir!   \n",
       "24                 Je crois que ce n'est pas celui-ci!   \n",
       "30                                     L'homme partit.   \n",
       "112           Mets de l'ordre à l'intérieur seulement!   \n",
       "40                              Le voilà assis là-bas.   \n",
       "56                                       Qui sont-ils?   \n",
       "179  La femme et l'homme non plus ne désirent s'ent...   \n",
       "139                             Comment t'appelles-tu?   \n",
       "80              Il l'a battu à tel point qu'il est là.   \n",
       "19                                J'ai vu l'ovin mâle.   \n",
       "159         L'homme a donné quelque chose à quelqu'un.   \n",
       "90   C'est là jusqu'au moment où nous trouverons un...   \n",
       "54   Ils ont tous convenu qu'ils travailleraient to...   \n",
       "161                                J'irai aujourd'hui!   \n",
       "51                                          C'est bon?   \n",
       "130                        Où est le maître de maison?   \n",
       "137                      Cela seulement ne suffit pas.   \n",
       "180  Sur cette photo datant d'il y a trente sept an...   \n",
       "89                        L'homme peut-il aller à Rao?   \n",
       "125         L'homme a tenu aux enfants de bons propos.   \n",
       "178                  L'homme a fait un cadeau à Bathe.   \n",
       "182                            Tu ne vas pas ailleurs!   \n",
       "107  Ceci est, cependant, une porte conçue avec du ...   \n",
       "14                                          Bon matin.   \n",
       "27                           Tu as vu tes autres amis?   \n",
       "122  Cette photo ci c'est une photo sur laquelle je...   \n",
       "195                             Celui-ci serait parti.   \n",
       "46        Homme et lion ne peuvent cohabiter ensemble.   \n",
       "193                        L'homme est parti je crois!   \n",
       "106                       Dis-lui qu'il ne vienne pas.   \n",
       "62                    Que la paix soit avec toi aussi.   \n",
       "2                                         Qui a parlé?   \n",
       "59                                       Surtout pars!   \n",
       "158     Quels chevaux voulais-tu et lequel as-tu pris?   \n",
       "197                          C'est Fatim, aujourd'hui.   \n",
       "43                Comme il avait ainsi été en ce lieu.   \n",
       "10                                       J'ai vu lion.   \n",
       "101                        C'est un homme qui fut bon!   \n",
       "73    Certaines personnes ne sont pas encore arrivées.   \n",
       "190                                         Dites-lui.   \n",
       "176                                 J'ai vu un mouton.   \n",
       "146                              Jusqu'ici, c'est bon.   \n",
       "124                              J'ai aperçu un homme.   \n",
       "93                                 C'est cet autre-là?   \n",
       "110                                    C'est le Laobe.   \n",
       "156                                        Bonne nuit.   \n",
       "189                               Cet homme qui a été.   \n",
       "\n",
       "                                          translations  \\\n",
       "18                                       Ndax kan dem?   \n",
       "168                        Gis ŋga sa yeneen xarit yi?   \n",
       "63                                Jigéen ñan ñoo réer?   \n",
       "175                       Li ŋga wax la ndaw si taamu.   \n",
       "71                                     Man mii demuma.   \n",
       "86                                           Dem nañu.   \n",
       "5                                 Nit ñi daawuñu coow.   \n",
       "118                                      Naka ngon si.   \n",
       "12                            Meneen xar mépp moo gis.   \n",
       "150  Nataalu juróom benn fukk ak juróom ñeent day w...   \n",
       "60        Mangui lay ndokkel ci sa bess bu délu si bi.   \n",
       "75                                  Xale bule laa wax?   \n",
       "163                                    Naka ligéey bi?   \n",
       "96                                         Xaritam la!   \n",
       "113                                    Góor gi du bày.   \n",
       "7                                    Su dulwoon Lawbe.   \n",
       "33                             Góor gi dem na ci biir.   \n",
       "134           Musaa wax na leen jël naa sama retraite.   \n",
       "37                                   Kile nit laa wax.   \n",
       "166                            Wattaliwuma la ka woon.   \n",
       "109  Nataal bi ngeen ma yónne nii de ñaari baŋ lañ ...   \n",
       "143                                 Seet ŋga néeg buu?   \n",
       "45                              Mu japp nag yooyu yan?   \n",
       "157                                Gayndé genn réerul.   \n",
       "138                                      Noona mu dem.   \n",
       "111                               Feneen fi bëttul la.   \n",
       "177                               Kenn ki woon dem na.   \n",
       "183                        Waaye man sax dama dul ñëw!   \n",
       "92                                 Dem naa ba ci moom.   \n",
       "44                                Ma japp nag yee yan?   \n",
       "16                                            Lii lan?   \n",
       "135                                Gis naa nagu Tugal.   \n",
       "136                     Wool góor gi dul Kajgaamu fii!   \n",
       "97                                 Waa ji liggéeykoon.   \n",
       "22                                         Foofee fan?   \n",
       "194                                   Séen naa ag guy.   \n",
       "126                                   Ñii, ñee, ñooñu.   \n",
       "4                                         Du sabar gi!   \n",
       "66                                         Su dee dem.   \n",
       "123                         Wool xale yi dul dem fenn.   \n",
       "131                              Soo demee, Faatim la!   \n",
       "173  Nataal bii maa ngi ciy gis ku yor raaya Senega...   \n",
       "26                                      Gis ŋga kooku?   \n",
       "61                                      Negal ba ëlëk!   \n",
       "145                                Gis naa nagu Tugël.   \n",
       "83                                        Ndax lan am?   \n",
       "8                                            Moo bëgg.   \n",
       "141                                           Koo gis?   \n",
       "74   Waaw nataal bi de, ay xeer la yoo xam ni dañ d...   \n",
       "187                          Ndaje mi du gannaaw ëlëk?   \n",
       "98                                        Aw lawbe la.   \n",
       "55                                   Seetal beneen bi.   \n",
       "144                               Jambaar du bare wax.   \n",
       "162                              Waxal góor gi mu dem!   \n",
       "24                                   Du kii, defe naa!   \n",
       "30                                        Góor gi dem.   \n",
       "112                              Defaral ci biir rekk!   \n",
       "40                                       Ma ŋgii toog.   \n",
       "56                                           Ñan lañu?   \n",
       "179         Ndaw si ak waa ji itam dañu bëggul déggoo.   \n",
       "139                                          Noo tudd?   \n",
       "80                               Dóor na ka ba mi ŋgi.   \n",
       "19                             Gis naa xar mu góor ma.   \n",
       "159                           Góor gi may na dara nit.   \n",
       "90                      Foofu la ba ba ñuy gis feneen.   \n",
       "54   Degganté ñu ñoom ñép ci lu ñép di liggéeyi ci ...   \n",
       "161                                     Tay danaa dem!   \n",
       "51                                            Baax na?   \n",
       "130                                 Ana boroom kër gi?   \n",
       "137                                  Loolu doŋŋ doyul.   \n",
       "180  Nataalu fanweer ak juróom-ñaar, maa ngi ci gis...   \n",
       "89                                    Góor gi dem Rao?   \n",
       "125               Góor gi wax na xale yi wax ju rafet.   \n",
       "178                               Góor gi may na Bacc.   \n",
       "182                                    Demuloo feneen!   \n",
       "107  Lii nag ab buntu la boo xam ne ndénk lanu ko d...   \n",
       "14                                    Jaam nga fanane.   \n",
       "27                         Gis ŋga sa xarit yeneen yi?   \n",
       "122  Nataal bi ab nataal la boo xamante yni maa ngi...   \n",
       "195                                  Kii dafa demkoon.   \n",
       "46                          Nit ag gaynde duñu dëkkóo.   \n",
       "193                            Ma defe góor gi dem na!   \n",
       "106                                   Ni ka bu mu ñëw.   \n",
       "62                                   Maaleekum salaam.   \n",
       "2                                              Ku wax?   \n",
       "59                                     Te ŋga dem kat!   \n",
       "158               Yan fas ŋga bëggoon ak wan ŋga japp?   \n",
       "197                                    Faatim la, tay.   \n",
       "43                              Noonu mu demoon foofa.   \n",
       "10                                     Gis naa gaynde.   \n",
       "101                                 Nit ku baaxoon la!   \n",
       "73                             Ñenn nit ñi yegseeguñu.   \n",
       "190                                         Nileen ka.   \n",
       "176                                    Gis naa am xar.   \n",
       "146                                   Ba fi, mu tollu.   \n",
       "124                                   Séen naa ak nit.   \n",
       "93                                         Kookule la?   \n",
       "110                                   Moo di Lawbe bi.   \n",
       "156                                     Fanaanal jaam.   \n",
       "189                                   Góor gii demoon.   \n",
       "\n",
       "                                           predictions  \n",
       "18                                       Ndax kan dem?  \n",
       "168                           Gis ŋga samay xarit yan?  \n",
       "63                                Jigéen ñan ñoo réer?  \n",
       "175                                  Li ŋga wax loolu.  \n",
       "71                                         Man demuma.  \n",
       "86                                           Dem nañu.  \n",
       "5                                    Góor ñi dem nañu.  \n",
       "118                                   Jaam nga fanane.  \n",
       "12                        Wax ji yépp, bañ-ŋga-ñëw la.  \n",
       "150  Waaw nataal bii de ay bunt yu dóomu-taal moo c...  \n",
       "60               Mangui lay ndokkel ci att bu bess bi.  \n",
       "75                                  Bule xale laa wax?  \n",
       "163                                     Naka guddi gi?  \n",
       "96                                      Seen xarit la!  \n",
       "113                                    Góor gi bëggul.  \n",
       "7                                        Bu demulwoon.  \n",
       "33                                    Góor gi ci biir.  \n",
       "134                                  Musaa rekk ŋgeen.  \n",
       "37                                   Xale buu laa wax.  \n",
       "166                       Demumawoon fenn tày ci suba.  \n",
       "109  Nataal bii ngeen ma yónnee de ab dëkku àll bu ...  \n",
       "143                                 Seet ŋga buu néeg?  \n",
       "45                                       Na ngeen def?  \n",
       "157                                   Kenn nit réerul.  \n",
       "138                                      Noonu di dem.  \n",
       "111                               Keneen ki la ñu xam.  \n",
       "177                                  Benn nit ki woon.  \n",
       "183                        Waaye man sax dama dul ñëw!  \n",
       "92                                    Dem naa ba Ndar.  \n",
       "44                                     Ci ñan ŋga jëm?  \n",
       "16                                             Lu tax?  \n",
       "135                                Gis naa nagu Tugal.  \n",
       "136                     Wool góor gi dul Kajgaamu fii!  \n",
       "97                                 Góor gi waxkoon na.  \n",
       "22                                   Ci foofu ŋga jëm?  \n",
       "194                                   Séen naa aw fas.  \n",
       "126                                   Ci ñi ak ca nee.  \n",
       "4                                     Du sabar gu rëy!  \n",
       "66                         Sa yay nee danañu ci ŋgoon.  \n",
       "123                                  Wool kee dul dem.  \n",
       "131                               Faatim la soo demee!  \n",
       "173  Waaw ëe nataal bii nii maa ngi ciy seetlu bëer...  \n",
       "26                                   Gis ŋga celui-ci?  \n",
       "61                                        Samay xarit!  \n",
       "145                                Gis naa nagu Tugal.  \n",
       "83                                       Ndax kan dem?  \n",
       "8                                        Moo doon wax.  \n",
       "141                                            Ko gis?  \n",
       "74   Nataal bii de nataal la boo xam ne ay nit la y...  \n",
       "187                     Naka lanuy waxee lii ci wolof?  \n",
       "98                                           Lawbe la.  \n",
       "55                                    Setal keneen ki.  \n",
       "144                               Jambaar du bare wax.  \n",
       "162                              Waxal góor gi mu dem!  \n",
       "24                                 Defe naa du kookuu!  \n",
       "30                                    Góor gi bëgg na.  \n",
       "112                               Waxal ag Samba rekk!  \n",
       "40                                        Ñu ŋgi toog.  \n",
       "56                                              Ku mu?  \n",
       "179                   Jigéen ji ag góor gi ñjool lañu.  \n",
       "139                                     Naka-nga sant?  \n",
       "80                               Dóor na ka ba mi ŋgi.  \n",
       "19                                    Gis naa ka woon.  \n",
       "159                           Góor gi may na nit dara.  \n",
       "90                 Sa yay nee dana dellusi soo yeggee.  \n",
       "54                                Laobe lañu woon dem.  \n",
       "161                                         Danaa dem!  \n",
       "51                                            Neex na?  \n",
       "130                                    Ana waa kër gi?  \n",
       "137                                        Buleen dem.  \n",
       "180  Waaw lii de ab nataal la boog. Maa ngi gis ñaa...  \n",
       "89                                        Góor gi dem?  \n",
       "125                             Góor gi nee na la wax.  \n",
       "178                           Góor gi may na nit dara.  \n",
       "182                                      Demuloo fenn!  \n",
       "107  Waaw lii nag ab alkaati bu yor ngànnaayam, tak...  \n",
       "14                                    Jaam nga fanane.  \n",
       "27                               Gis ŋga sa xarit yan?  \n",
       "122  Nataal bii de nataal la boo xam ne néegu puj l...  \n",
       "195                                  Kii dafa demkoon.  \n",
       "46                          Nit ag gaynde duñu dëkkóo.  \n",
       "193                           Góor gi dem na, ma defe!  \n",
       "106                       Wax ji yépp, bañ-ŋga-ñëw la.  \n",
       "62                                   Salaam maaleekum.  \n",
       "2                                               Ku mu?  \n",
       "59                                         Te sax dem!  \n",
       "158                           Fas yeneen yan ŋga jënd?  \n",
       "197                               Faatim la soo demee.  \n",
       "43                            Noonu itam, ma bañ génn.  \n",
       "10                                     Gis naa gaynde.  \n",
       "101                                    Nit ku baax la!  \n",
       "73                             Nit ñenn ñi yegseeguñu.  \n",
       "190                                       Nileen leen.  \n",
       "176                            Gis naa xar mu góor ma.  \n",
       "146                                    Tay, Faatim la.  \n",
       "124                                   Séen naa aw fas.  \n",
       "93                                            Baax na?  \n",
       "110                                          Lawbe la.  \n",
       "156                                         Yônu jàam.  \n",
       "189                                       Gor gii dem.  "
      ]
     },
     "execution_count": 16,
     "metadata": {},
     "output_type": "execute_result"
    }
   ],
   "source": [
    "# let us display 100 samples\n",
    "pd.options.display.max_rows = 100\n",
    "df_ft_to_wf[1].sample(100)"
   ]
  }
 ],
 "metadata": {
  "accelerator": "GPU",
  "colab": {
   "gpuType": "T4",
   "provenance": []
  },
  "gpuClass": "standard",
  "kernelspec": {
   "display_name": "conda_pytorch_p310",
   "language": "python",
   "name": "conda_pytorch_p310"
  },
  "language_info": {
   "codemirror_mode": {
    "name": "ipython",
    "version": 3
   },
   "file_extension": ".py",
   "mimetype": "text/x-python",
   "name": "python",
   "nbconvert_exporter": "python",
   "pygments_lexer": "ipython3",
   "version": "3.10.10"
  },
  "widgets": {
   "application/vnd.jupyter.widget-state+json": {
    "07b148611e0445068ec4ae2a289f968d": {
     "model_module": "@jupyter-widgets/base",
     "model_module_version": "1.2.0",
     "model_name": "LayoutModel",
     "state": {
      "_model_module": "@jupyter-widgets/base",
      "_model_module_version": "1.2.0",
      "_model_name": "LayoutModel",
      "_view_count": null,
      "_view_module": "@jupyter-widgets/base",
      "_view_module_version": "1.2.0",
      "_view_name": "LayoutView",
      "align_content": null,
      "align_items": null,
      "align_self": null,
      "border": null,
      "bottom": null,
      "display": null,
      "flex": null,
      "flex_flow": null,
      "grid_area": null,
      "grid_auto_columns": null,
      "grid_auto_flow": null,
      "grid_auto_rows": null,
      "grid_column": null,
      "grid_gap": null,
      "grid_row": null,
      "grid_template_areas": null,
      "grid_template_columns": null,
      "grid_template_rows": null,
      "height": null,
      "justify_content": null,
      "justify_items": null,
      "left": null,
      "margin": null,
      "max_height": null,
      "max_width": null,
      "min_height": null,
      "min_width": null,
      "object_fit": null,
      "object_position": null,
      "order": null,
      "overflow": null,
      "overflow_x": null,
      "overflow_y": null,
      "padding": null,
      "right": null,
      "top": null,
      "visibility": null,
      "width": null
     }
    },
    "08fc0c2dc9b94689b80e085b682e54a5": {
     "model_module": "@jupyter-widgets/controls",
     "model_module_version": "1.5.0",
     "model_name": "LabelModel",
     "state": {
      "_dom_classes": [],
      "_model_module": "@jupyter-widgets/controls",
      "_model_module_version": "1.5.0",
      "_model_name": "LabelModel",
      "_view_count": null,
      "_view_module": "@jupyter-widgets/controls",
      "_view_module_version": "1.5.0",
      "_view_name": "LabelView",
      "description": "",
      "description_tooltip": null,
      "layout": "IPY_MODEL_07b148611e0445068ec4ae2a289f968d",
      "placeholder": "​",
      "style": "IPY_MODEL_4b5ea7f279854a01aaa4f5043372df2d",
      "value": "0.009 MB of 0.009 MB uploaded (0.000 MB deduped)\r"
     }
    },
    "347e2725b013421a951237d46b26d5e3": {
     "model_module": "@jupyter-widgets/controls",
     "model_module_version": "1.5.0",
     "model_name": "ProgressStyleModel",
     "state": {
      "_model_module": "@jupyter-widgets/controls",
      "_model_module_version": "1.5.0",
      "_model_name": "ProgressStyleModel",
      "_view_count": null,
      "_view_module": "@jupyter-widgets/base",
      "_view_module_version": "1.2.0",
      "_view_name": "StyleView",
      "bar_color": null,
      "description_width": ""
     }
    },
    "378d2507f5d5418681817fdbe4f227fd": {
     "model_module": "@jupyter-widgets/base",
     "model_module_version": "1.2.0",
     "model_name": "LayoutModel",
     "state": {
      "_model_module": "@jupyter-widgets/base",
      "_model_module_version": "1.2.0",
      "_model_name": "LayoutModel",
      "_view_count": null,
      "_view_module": "@jupyter-widgets/base",
      "_view_module_version": "1.2.0",
      "_view_name": "LayoutView",
      "align_content": null,
      "align_items": null,
      "align_self": null,
      "border": null,
      "bottom": null,
      "display": null,
      "flex": null,
      "flex_flow": null,
      "grid_area": null,
      "grid_auto_columns": null,
      "grid_auto_flow": null,
      "grid_auto_rows": null,
      "grid_column": null,
      "grid_gap": null,
      "grid_row": null,
      "grid_template_areas": null,
      "grid_template_columns": null,
      "grid_template_rows": null,
      "height": null,
      "justify_content": null,
      "justify_items": null,
      "left": null,
      "margin": null,
      "max_height": null,
      "max_width": null,
      "min_height": null,
      "min_width": null,
      "object_fit": null,
      "object_position": null,
      "order": null,
      "overflow": null,
      "overflow_x": null,
      "overflow_y": null,
      "padding": null,
      "right": null,
      "top": null,
      "visibility": null,
      "width": null
     }
    },
    "4b5ea7f279854a01aaa4f5043372df2d": {
     "model_module": "@jupyter-widgets/controls",
     "model_module_version": "1.5.0",
     "model_name": "DescriptionStyleModel",
     "state": {
      "_model_module": "@jupyter-widgets/controls",
      "_model_module_version": "1.5.0",
      "_model_name": "DescriptionStyleModel",
      "_view_count": null,
      "_view_module": "@jupyter-widgets/base",
      "_view_module_version": "1.2.0",
      "_view_name": "StyleView",
      "description_width": ""
     }
    },
    "4d964dc7e08d48f0be400d45c09f16e8": {
     "model_module": "@jupyter-widgets/base",
     "model_module_version": "1.2.0",
     "model_name": "LayoutModel",
     "state": {
      "_model_module": "@jupyter-widgets/base",
      "_model_module_version": "1.2.0",
      "_model_name": "LayoutModel",
      "_view_count": null,
      "_view_module": "@jupyter-widgets/base",
      "_view_module_version": "1.2.0",
      "_view_name": "LayoutView",
      "align_content": null,
      "align_items": null,
      "align_self": null,
      "border": null,
      "bottom": null,
      "display": null,
      "flex": null,
      "flex_flow": null,
      "grid_area": null,
      "grid_auto_columns": null,
      "grid_auto_flow": null,
      "grid_auto_rows": null,
      "grid_column": null,
      "grid_gap": null,
      "grid_row": null,
      "grid_template_areas": null,
      "grid_template_columns": null,
      "grid_template_rows": null,
      "height": null,
      "justify_content": null,
      "justify_items": null,
      "left": null,
      "margin": null,
      "max_height": null,
      "max_width": null,
      "min_height": null,
      "min_width": null,
      "object_fit": null,
      "object_position": null,
      "order": null,
      "overflow": null,
      "overflow_x": null,
      "overflow_y": null,
      "padding": null,
      "right": null,
      "top": null,
      "visibility": null,
      "width": null
     }
    },
    "abcbe273e5604d2383a7a1f03e79c682": {
     "model_module": "@jupyter-widgets/controls",
     "model_module_version": "1.5.0",
     "model_name": "VBoxModel",
     "state": {
      "_dom_classes": [],
      "_model_module": "@jupyter-widgets/controls",
      "_model_module_version": "1.5.0",
      "_model_name": "VBoxModel",
      "_view_count": null,
      "_view_module": "@jupyter-widgets/controls",
      "_view_module_version": "1.5.0",
      "_view_name": "VBoxView",
      "box_style": "",
      "children": [
       "IPY_MODEL_08fc0c2dc9b94689b80e085b682e54a5",
       "IPY_MODEL_bb425d8fef6e41f4bc1f1097477d1502"
      ],
      "layout": "IPY_MODEL_378d2507f5d5418681817fdbe4f227fd"
     }
    },
    "bb425d8fef6e41f4bc1f1097477d1502": {
     "model_module": "@jupyter-widgets/controls",
     "model_module_version": "1.5.0",
     "model_name": "FloatProgressModel",
     "state": {
      "_dom_classes": [],
      "_model_module": "@jupyter-widgets/controls",
      "_model_module_version": "1.5.0",
      "_model_name": "FloatProgressModel",
      "_view_count": null,
      "_view_module": "@jupyter-widgets/controls",
      "_view_module_version": "1.5.0",
      "_view_name": "ProgressView",
      "bar_style": "",
      "description": "",
      "description_tooltip": null,
      "layout": "IPY_MODEL_4d964dc7e08d48f0be400d45c09f16e8",
      "max": 1,
      "min": 0,
      "orientation": "horizontal",
      "style": "IPY_MODEL_347e2725b013421a951237d46b26d5e3",
      "value": 1
     }
    }
   }
  }
 },
 "nbformat": 4,
 "nbformat_minor": 4
}
