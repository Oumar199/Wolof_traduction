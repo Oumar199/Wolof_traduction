{
 "cells": [
  {
   "attachments": {},
   "cell_type": "markdown",
   "metadata": {},
   "source": [
    "Text processing 1\n",
    "----------------------"
   ]
  },
  {
   "cell_type": "code",
   "execution_count": 22,
   "metadata": {},
   "outputs": [],
   "source": [
    "# importations\n",
    "import re\n",
    "import spacy\n",
    "import nltk\n",
    "import pandas as pd\n",
    "from typing import *\n",
    "import plotly.graph_objects as go\n",
    "import plotly.express as px\n",
    "from plotly.subplots import make_subplots\n",
    "import matplotlib.pyplot as plt\n",
    "\n",
    "# define a style for the matplotlib plots\n",
    "plt.style.use(\"ggplot\")"
   ]
  },
  {
   "attachments": {},
   "cell_type": "markdown",
   "metadata": {},
   "source": [
    "We obtained new paragraphs after matching the French paragraphs with their Wolof counterparts. It is time to make further processing of the text. Notably, we want to process the text as follows:\n",
    "\n",
    "1. Load, print each corpus, and identify additional corrections to add to the text;\n",
    "\n",
    "2. Identify the length of each paragraph in each corpus and compare them;\n",
    "\n",
    "3. Identify the longest and shortest paragraphs;\n",
    "\n",
    "4. Modify the pre-created nlp pipeline class for that project; \n",
    "\n",
    "5. Identify the options to add to `spacy` (if it is used) to find the tokens;\n",
    "\n",
    "6. Use the pre-created nlp pipeline class to recuperate the tokens;\n",
    "\n",
    "7. Identify the nlp pipeline sub-steps."
   ]
  },
  {
   "attachments": {},
   "cell_type": "markdown",
   "metadata": {},
   "source": [
    "### Add additional corrections to the text"
   ]
  },
  {
   "attachments": {},
   "cell_type": "markdown",
   "metadata": {},
   "source": [
    "It is possible that we forgot to add some corrections to the texts. Let us load the data frame and print the paragraphs in order to see what corrections will be necessary before diving deeper into the text processing."
   ]
  },
  {
   "cell_type": "code",
   "execution_count": 3,
   "metadata": {},
   "outputs": [],
   "source": [
    "# Load the data frame and make a copy\n",
    "corpora_v1 = pd.read_csv(\"data/extractions/new_data/corpora_v1.csv\", encoding='utf-16')\n",
    "\n",
    "corpora = corpora_v1.copy()"
   ]
  },
  {
   "cell_type": "code",
   "execution_count": 4,
   "metadata": {},
   "outputs": [
    {
     "data": {
      "text/html": [
       "<div>\n",
       "<style scoped>\n",
       "    .dataframe tbody tr th:only-of-type {\n",
       "        vertical-align: middle;\n",
       "    }\n",
       "\n",
       "    .dataframe tbody tr th {\n",
       "        vertical-align: top;\n",
       "    }\n",
       "\n",
       "    .dataframe thead th {\n",
       "        text-align: right;\n",
       "    }\n",
       "</style>\n",
       "<table border=\"1\" class=\"dataframe\">\n",
       "  <thead>\n",
       "    <tr style=\"text-align: right;\">\n",
       "      <th></th>\n",
       "      <th>french_corpus</th>\n",
       "      <th>wolof_corpus</th>\n",
       "    </tr>\n",
       "  </thead>\n",
       "  <tbody>\n",
       "    <tr>\n",
       "      <th>0</th>\n",
       "      <td>Tout être humain est le résultat d’un père et ...</td>\n",
       "      <td>Doomu-aadama bu, ne ci ndey ak baay nga jóge. ...</td>\n",
       "    </tr>\n",
       "    <tr>\n",
       "      <th>1</th>\n",
       "      <td>J’ai longtemps rêvé que ma mère était noire. J...</td>\n",
       "      <td>Bi ma delloo dëkk ba ma juddoo, dama faa meloo...</td>\n",
       "    </tr>\n",
       "    <tr>\n",
       "      <th>2</th>\n",
       "      <td>De ce visage que j’ai reçu à ma naissance, j’a...</td>\n",
       "      <td>Kanam gii ma judduwaale, am na lu bari lu ma c...</td>\n",
       "    </tr>\n",
       "    <tr>\n",
       "      <th>3</th>\n",
       "      <td>À l’âge de huit ans à peu près, j’ai vécu en A...</td>\n",
       "      <td>Daanaka bi ma tolloo ci juróom-ňetti at laa to...</td>\n",
       "    </tr>\n",
       "    <tr>\n",
       "      <th>4</th>\n",
       "      <td>De ce temps, pour ainsi dire consécutivement, ...</td>\n",
       "      <td>Ay yarami nit di ma feeňu, nag. Sama yaram, sa...</td>\n",
       "    </tr>\n",
       "  </tbody>\n",
       "</table>\n",
       "</div>"
      ],
      "text/plain": [
       "                                       french_corpus  \\\n",
       "0  Tout être humain est le résultat d’un père et ...   \n",
       "1  J’ai longtemps rêvé que ma mère était noire. J...   \n",
       "2  De ce visage que j’ai reçu à ma naissance, j’a...   \n",
       "3  À l’âge de huit ans à peu près, j’ai vécu en A...   \n",
       "4  De ce temps, pour ainsi dire consécutivement, ...   \n",
       "\n",
       "                                        wolof_corpus  \n",
       "0  Doomu-aadama bu, ne ci ndey ak baay nga jóge. ...  \n",
       "1  Bi ma delloo dëkk ba ma juddoo, dama faa meloo...  \n",
       "2  Kanam gii ma judduwaale, am na lu bari lu ma c...  \n",
       "3  Daanaka bi ma tolloo ci juróom-ňetti at laa to...  \n",
       "4  Ay yarami nit di ma feeňu, nag. Sama yaram, sa...  "
      ]
     },
     "execution_count": 4,
     "metadata": {},
     "output_type": "execute_result"
    }
   ],
   "source": [
    "# print the head\n",
    "corpora.head()"
   ]
  },
  {
   "attachments": {},
   "cell_type": "markdown",
   "metadata": {},
   "source": [
    "Let us display more clearly the corpora by printing the dictionary version of it."
   ]
  },
  {
   "cell_type": "code",
   "execution_count": 5,
   "metadata": {},
   "outputs": [
    {
     "data": {
      "text/plain": [
       "{0: {'french_corpus': 'Tout être humain est le résultat d’un père et une mère. On peut ne pas les reconnaître, ne pas les aimer, on peut douter d’eux. Mais ils sont là, avec leur visage, leurs attitudes, leurs manières et leurs manies, leurs illusions, leurs espoirs, la forme de leurs mains et de leurs doigts de pied, la couleur de leurs yeux et de leurs cheveux, leur façon de parler, leurs pensées, probablement l’âge de leur mort, tout cela est passé en nous.',\n",
       "  'wolof_corpus': 'Doomu-aadama bu, ne ci ndey ak baay nga jóge. Mënunu leen a baň a gërëm ak a bëgg, doonte sax mën nanoo am xel ňaar ci ňoom. Waaye ňu ngi fi, ak seen xar-kanam, seen taxawaay, seen defin ak seen jikko, seeni njuumte, seeni yaakaar, seen melokaanu loxook baaraami tànk, seen meloy bët ak karaw, seen waxin, seeni xalaat, amaana sax at ma ňuy nar a génne àddina. Loolu lépp, day àgg fu sore ci nun.'},\n",
       " 1: {'french_corpus': 'J’ai longtemps rêvé que ma mère était noire. Je m’étais inventé une histoire, un passé, pour fuir la réalité à mon retour d’Afrique, dans ce pays, dans cette ville où je ne connaissais personne, où j’étais devenu un étranger. Puis j’ai découvert, lorsque mon père, à l’âge de la retraite, est revenu vivre avec nous en France, que c’était lui l’Africain. Cela a été difficile à admettre. Il m’a fallu retourner en arrière, recommencer, essayer de comprendre. En souvenir de cela, j’ai écrit ce petit livre.',\n",
       "  'wolof_corpus': 'Bi ma delloo dëkk ba ma juddoo, dama faa meloon ni gan. Du kenn ku ma fa xam, safatul dara ci man. Li nu jóge Afrig jur ci man tiis wu réy. Su ma yaboo sax ni mënuma woon a nangu ni maak samay way-jur dëkkëtuñu Niseryaa. Ca laa tàmbalee gént ni sama yaay nit ku ñuul la, di sàkkal it sama bopp cosaan lu bees. Àddinay dox ba Baay tollu ci noppalug liggéey, dellusi Tugal dëkk ak ňun. Ci la ma leere ni moom moomoo doon doomu Afrig. Mu doon nag lu naqadee nangu. Damaa mujjoon a delloo sama xel démb ngir lijjanti lépp la ca léjoon. Kon fàttalikoo meññ téere bu ndaw bii.'},\n",
       " 2: {'french_corpus': 'De ce visage que j’ai reçu à ma naissance, j’ai des choses à dire. D’abord, qu’il m’a fallu l’accepter. Affirmer que je ne l’aimais pas serait lui donner une importance qu’il n’avait pas quand j’étais enfant. Je ne le haïssais pas, je l’ignorais, je l’évitais. Je ne le regardais pas dans les miroirs. Pendant des années, je crois que je ne l’ai jamais vu. Sur les photos, je détournais les yeux, comme si quelqu’un d’autre s’était substitué à moi.',\n",
       "  'wolof_corpus': 'Kanam gii ma judduwaale, am na lu bari lu ma ci mën a wax. Li ci jiitu moo di ne dama dem ba jàppe ko nattu bu ma war a nangu. Su ma nee soppuma ko woon, day mel ni dama koy jox maanaa ju mu amul woon ba may gone. Duma ne it baňoon naa ko. Dama ko daan fàtte, di ko moytu ba daawuma sax seetu. Su ma ragalul woon fen, dinaa ni toog naa ay at teguma bët sama xar-kanam gii. Léeg-léeg ma génne nataali jamono jooju, seetlu ci ni ma daan dawalee samay bët suñ nuy portale, mel ni ku bëggul ñu xàmmee ko.'},\n",
       " 3: {'french_corpus': 'À l’âge de huit ans à peu près, j’ai vécu en Afrique de l’Ouest, au Nigeria, dans une région assez isolée où, hormis mon père et ma mère, il n’y avait pas d’Européens, et où l’humanité, pour l’enfant que j’étais, se composait uniquement d’Ibos et de Yoroubas. Dans la case que nous habitions (le mot case a quelque chose de colonial qui peut aujourd’hui choquer, mais qui décrit bien le logement de fonction que le gouvernement anglais avait prévu pour les médecins militaires, une dalle de ciment pour le sol, quatre murs de parpaing sans crépi, un toit de tôle ondulée recouvert de feuilles, aucune décoration, des hamacs accrochés aux murs pour servir de lits et, seule concession au luxe, une douche reliée par des tubes de fer à un réservoir sur le toit que chauffait le soleil), dans cette case, donc, il n’y avait pas de miroirs, pas de tableaux, rien qui pût nous rappeler le monde où nous avions vécu jusque-là. Un crucifix que mon père avait accroché au mur, mais sans représentation humaine. C’est là que j’ai appris à oublier. Il me semble que c’est de l’entrée dans cette case, à Ogoja, que date l’effacement de mon visage, et des visages de tous ceux qui étaient autour de moi.',\n",
       "  'wolof_corpus': 'Daanaka bi ma tolloo ci juróom-ňetti at laa toxu Afrig sowu jant, ca Niseryaa, cib diiwaan bu dëddoo-dëddu ; maak samay ñaari way-jur rekk ñoo fa doon i tubaab, te it masuma faa digaaleek ku dul Ibo mbaa Yoruba. Ñu ngi dëkkoon ci benn néegu-ňax. Baatu “néegu-ňax” bii sax ñàkkul mu am ñu ko naqarlu ndax li muy fàttali jamono tubaab yi. Moonte noonu rekk lañ mën a tudde kër yooyu nguurug Àngalteer daan jagleel ñi ko daan fajal ay soldaaram. Amul kër gu ko fa dàqoon waaye li mu doon rafet yépp dara amu fa woon su weesoo benn dërub simoŋ, ňeenti miiri móol yu ňu pentuurul, jànqub seng ak i njoowaan yu kowe yu nu daan fanaan. Néegu-ňax bii may wax, amul i seetu, amul i nataal, amul dara lu nu mën a fàttali Tugal ga nu bawoo teersi Afrig. Xanaa boog kurwaa bi sama baay lonkoon ci benn miir te sax jëmmu Yéesu Kiris feeñu ci. Ci buntu néegu-ňaxu Ogosaa boobu laa jàngee fàtte. Fa la sama xar-kanam nee mes bés, yóbbaale xar-kanami mbooleem ňi ma jege woon.'},\n",
       " 4: {'french_corpus': 'De ce temps, pour ainsi dire consécutivement, date l’apparition des corps. Mon corps, le corps de ma mère, le corps de mon frère, le corps des jeunes garçons du voisinage avec qui je jouais, le corps des femmes africaines dans les chemins, autour de la maison, ou bien au marché, près de la rivière. Leur stature, leurs seins lourds, la peau luisante de leur dos. Le sexe des garçons, leur gland rose circoncis. Des visages sans doute, mais comme des masques de cuir, endurcis, couturés de cicatrices, de marques rituelles. Les ventres saillants, le bouton du nombril pareil à un galet cousu sous la peau. L’odeur des corps aussi, le toucher, la peau non pas rude mais chaude et légère, hérissée de milliers de poils. J’ai cette impression de la grande proximité, du nombre des corps autour de moi, quelque chose que je n’avais pas connu auparavant, quelque chose de nouveau et de familier à la fois, qui excluait la peur.',\n",
       "  'wolof_corpus': 'Ay yarami nit di ma feeňu, nag. Sama yaram, sama yaramu yaay, sama yaramu mag ju góor, yarami xale yi nu daan fowandool, yaramu jigéen ňi nu daan dajeel ci wetu kër gi, ca ja ba mbaa ca tàkkal dex ga. Seen jëmm. Seeni ween yu diis. Seen der yiy melax. Seen diggu-ginnaaw. Cucu gone yi ñu xarafal ak seen ndéeň lu xonq. Kanam yi tamit. Dëgër këcc ni der, ak seeni ňaas, doon i màndargay cosaan. Seen biir yu dëll yi, seen jumbax yi mel ni xeer wu ñu leen ëwal ci seen koll. Fàttewuma xetu yaram yi. Yaram yu mel ni lu wow koŋŋ, fekk ñoo fi gën a woyof, nugg te bariy kawar, sëq ba nga ni lii lu mu doon. Yaram yu bare yi ma wër ba ma réer ci seen biir, lu bees la ci man waaye teewul léeg-léeg ma dem ba yaakaar ni lu ma yàgg a miin la. Looloo tax, xam naa, masumaa yëg sax luy nirook tiitaange.'},\n",
       " 5: {'french_corpus': 'En Afrique, l’impudeur des corps était magnifique. Elle donnait du champ, de la profondeur, elle multipliait les sensations, elle tendait un réseau humain autour de moi. Elle s’harmonisait avec le pays ibo, avec le tracé de la rivière Aiya, avec les cases du village, leurs toits couleur fauve, leurs murs couleur de terre. Elle brillait dans ces noms qui entraient en moi et qui signifiaient beaucoup plus que des noms de lieux : Ogoja, Abakaliki, Enugu, Obudu, Baterik, Ogrude, Obubra. Elle imprégnait la muraille de la forêt pluvieuse qui nous enserrait de toutes parts.',\n",
       "  'wolof_corpus': 'Ca Afrig, ňàkk kersag yaram yi lu yéemoon na ma lool. Daan na yaatal, di xóotal, tey yokk yëg-yëg. Daan na maasaloo yit ak réewu Ibo yi, seeni néegi-ñax yaak dexug Ayaa, ba ca sax jànq yaak miir ya amoon melo suuf. May yëgaat ni muy nes-nesilee ay tur yu may miirloo, daanaka, ndax ni ñuy jéggee turi dëkk yiy wéy : Ogosaa, Abaakaliki, Enugu, Baterig, Ógurude, Ódubraa. Li ma tudde sànq ñàkk-kersay yaram yi, mook taw bu mettee-metti ñoo daan faral a ànd, mel ni nit keek takkandeeram.'},\n",
       " 6: {'french_corpus': 'Quand on est enfant, on n’use pas de mots (et les mots ne sont pas usés). Je suis en ce temps-là très loin des adjectifs, des substantifs. Je ne peux pas dire ni même penser : admirable, immense, puissance. Mais je suis capable de le ressentir. À quel point les arbres aux troncs rectilignes s’élancent vers la voûte nocturne fermée au-dessus de moi, enfermant comme dans un tunnel la brèche sanglante de la route de latérite qui va d’Ogoja vers Obudu, à quel point dans les clairières des villages je ressens les corps nus, brillants de sueur, les silhouettes larges des femmes, les enfants accrochés à leur hanche, tout cela qui forme un ensemble cohérent, dénué de mensonge.',\n",
       "  'wolof_corpus': 'Gone, du jëfandikooy baat. Rax-ci-dolli, baat bu nekk day wéy di bees ci moom ba fàww. Amu ci woon benn bu ma xam naka la ko nëwu biy tudde. Kàddu yu deme ni « yéeme », « yaatu » walla « kàttan », mënu ñoo génne sama gémmiñ. Xajuñu sax ci sama biir bopp. Waaye yëg-yëg baa ngi fi ba tey. Dàtti garab yaa ngi lunk, sànneeku jëm ca kow, def mbaarum lëndëm, wër ma. Lépp lañ wër sax. Maa ngi gisaat xur wi ubbiw yoon wu xonq ni deret diggante Ogosaak Óbudu. Maa ngi gisaat waa dëkk beek seen yarami neen, ay yaram yu ñaq bay nesnesi. Fàttewuma jeeg yu am yax ya, ku ci nekk boot doom. Boot ? Mënees nañ ko waxe noonu wànte li am dëgg moo di ne dañuy takk gone gi ci seen ndigg. Saa yu ma gëmmee di jéem a dekkali démb, ñu déggoo may feeñu, ay nit ñu ànd doon benn te kenn xamu ci lu tappale tekki.'},\n",
       " 7: {'french_corpus': 'L’entrée dans Obudu, je m’en souviens bien : la route sort de l’ombre de la forêt et entre tout droit dans le village, en plein soleil. Mon père a arrêté son auto, avec ma mère il doit parler aux officiels. Je suis seul au milieu de la foule, je n’ai pas peur. Les mains me touchent, passent sur mes bras, sur mes cheveux autour du bord de mon chapeau. Parmi tous ceux qui se pressent autour de moi, il y a une vieille femme, enfin je ne sais pas qu’elle est vieille. Je suppose que c’est d’abord son âge que je remarque, parce qu’elle diffère des enfants nus et des hommes et des femmes habillés plus ou moins à l’occidentale que je vois à Ogoja. Quand ma mère revient (peut-être vaguement inquiète de ce rassemblement), je lui montre cette femme : « Qu’est-ce qu’elle a ? Est-ce qu’elle est malade ?» Je me souviens de cette question que j’ai posée à ma mère. Le corps nu de cette femme, fait de plis, de rides, sa peau comme une outre dégonflée, ses seins allongés et flasques, pendant sur son ventre, sa peau craquelée, ternie, un peu grise, tout cela me semble étrange, et  en même temps vrai. Comment aurais-je pu imaginer que cette femme était ma grand-mère ? Et je ressentais non pas de l’horreur ni de la pitié, mais au contraire de l’amour et de l’intérêt, ceux que suscite la vue de la vérité, de la réalité vécue. Je me rappelle seulement cette question : « Est-ce qu’elle est malade ?» Elle me brûle encore aujourd’hui étrangement, comme si le temps n’était pas passé. Et non la réponse – sans doute rassurante, peut-être un peu gênée – de ma mère : « Non, elle n’est pas malade, elle est vieille, c’est tout. » La vieillesse, sans doute plus choquante pour un enfant sur le corps d’une femme puisque encore, puisque toujours, en France, en Europe, pays des gaines et des jupons, des soutiens-gorge et des combinaisons, les femmes sont ordinairement exemptes de la maladie de l’âge. La brûlure sur mes joues que je ressens encore, qui accompagne la question naïve et la réponse brutale de ma mère, comme un soufflet. Cela est resté en moi sans réponse. La question n’était sans doute pas : Pourquoi cette femme est-elle devenue ainsi, usée et déformée par la vieillesse ?, mais : Pourquoi m’a-t-on menti ? Pourquoi m’a-t-on caché cette vérité ?',\n",
       "  'wolof_corpus': 'Sooy dugg Óbudu, dangay won àll bi ginnaaw. Noonu lanu def bés ban fa njëkkee teg tànk, nestuut nu séen jant bi, daldi xam ni yeg nanu. Ci lan wàccee woto bi, samay way-jur dem nuyoonteek kilifay dëkk bi. Ma nekk gone gu tuuteek sama weexaay : mënuma réer ci mbooloo mi, fu nit tollu di ma séen. Wànte taxumaa tiit benn yoon. Maa ngi yëg ni ma nit ñiy làmbatoo, ni ñuy xëcce sama loxo, di laal it samay karaw. Ma seetlu ci mbooloo mi benn jigéen ju màgget. Aka wuteek ñi ma wër ! Wuteek gone yi def yaramu neen, wuteek waa dëkk beek seen colinu ñuy Tubaab-tubaablu. Bi sama yaay dellusee – xéy-na ndaje mi dalul xelam – dama koo joxoñ jigéen ji, ni ko : “Kii lu ko dal ? Ndax dafa tawat ?”. Yaram waa ngi ne duŋŋ, lemu, rasu, der bi mel ni gamb bu peer, ween yi lax, di lang ba ci biir bi. Der bi nag ? Dafa xarat, ñuul kukk. Ci gàttal, mbindeef mu kéemaane laa janool. Naka laa mën a xalaate ne keey sama maam ju jigéen ? Li may yëg du mbañeel, du yërmaande. Sori na leen lool. Jigéen ju màgget jooju, cofeel gu réy laa am ci moom. Te it fullaal naa ko ni ñuy fullaale lèpp luy dëgg ak képp ku dëggu. Li gën a doy waar ci mbir mi, moo di ne laaj ba ma laajoon sama yaay – « Ndax kii dafa tawat ? » – mu ngi ma topp ba tey jii, masul a génn sama xel. Sama tontub yaay moom, wax dëgg taxu koo am solo. Dafa ma ni : « Déedéet, dara jotu ko, daa màgget doŋŋ. » Xam na daa bëggoon a dalal sama xel waaye ñàkkul it mu am tuuti kersa ci li ma ko laaj. Nekk gone, janook jigéen ju màgget ba rasu, gënalul kenn. Tugal ga ma jóge woon, jigéen ñeek seeni “korsaas » ak seeni sippi njiitlaay mbaa ndóbinu, daan na ñu mucc ňaare ci yenn feebar yi. Ndax looloo waral laaj boobu taq ay ati-at ci sama làmmiñ wii, tàng jërr ? Ni sama tontu yaay bi ñagase it, dara la ci. Laaj bi du rekk : lu tax jigéen jii mel nii, soppeeku ba nirootul nit ? Laaj bi dëggëntaan mooy : lu tax kenn masumaa wax ni li mën naa am ? Luy ndeyu nëbb ma dëgg gu ni mel, man gone gu xamul dara ?'},\n",
       " 8: {'french_corpus': 'L’Afrique, c’était le corps plutôt que le visage. C’était la violence des sensations, la violence des appétits, la violence des saisons. Le premier souvenir que j’ai de ce continent, c’est mon corps couvert d’une éruption de petites ampoules causées par l’extrême chaleur, une affection bénigne dont souffrent les Blancs à leur entrée dans la zone équatoriale, sous le nom comique de « bourbouille » – en anglais prickly heat. Je suis dans la cabine du bateau qui longe lentement la côte, au large de Conakry, Freetown, Monrovia, nu sur la couchette, hublot ouvert sur l’air humide, le corps saupoudré de talc, avec l’impression d’être dans un sarcophage invisible, ou d’avoir été pris comme un poisson dans la nasse, enfariné avant d’aller à la friture. L’Afrique qui déjà m’ôtait mon visage me rendait un corps, douloureux, enfiévré, ce corps que la France m’avait caché dans la douceur anémiante du foyer de ma grand-mère, sans instinct, sans liberté.',\n",
       "  'wolof_corpus': 'Su ma nee Afrig, jëmmu doom-aadama moo may tax a wax. Du benn yoon bu sama xel di dem ci xar-kanam gi. Te Afrig, du béréb bu ne tekk, ànd ak dal. Ku xalaat loolu, juum nga. Afrig, mënees nañ ko méngaleek callweer : dara du fa sedd. Daanaka ponkal mu xiif la, mar tey jaay doole. Tàngaayu jéeri baa ngi feesal sama yaram ak i fut-fut. Jurul nag metit wu am solo, feebar la sax bu ñu yab, nun Tubaab yiy dem Afrig, ňu koy woowe ci kaf “bourbouille” te Àngale yi tudde ko prickly heat. Sunu saxaaru-géej a ngi riisu tefes gi, romb Konaakiri, teg ci Firitaawun ak Monrowiyaa. Maa ngi tëdd ci benn lal bu ndaw, def yaramu neen. Noon laa bàyyi palanteer bi mu ubbeeku, péexu géej giy upp néeg bi. Ñu ngi ma diw fépp puudar tàlk, ma mel ni Buur yooyu ñuy wëraleek bàndaas ci seen biir bàmmeel walla boog jën wu ňu mbaal, suy ko fëriň ba di ko waaj a fiiriir. Ni Afrig këfee sama xar-kanam, la ma delloo sama yaram. Ma ciy yëg metit, di yëg it ni mu tànge. Mooy yaram wi ma Farãs doon jéem a nëbb jamono ca ma dëkke sama kër maam ju jigéen, nekk fa ci jàmm ju mat sëkk, meloon nag ni mbindeef mu ñu tënk, doo dem doo dikk te amoo benn sañ-sañ.'},\n",
       " 9: {'french_corpus': 'Ce que je recevais dans le bateau qui m’entraînait vers cet autre monde, c’était aussi la mémoire. Le présent africain effaçait tout ce qui l’avait précédé. La guerre, le confinement dans l’appartement de Nice (où nous vivions à cinq dans deux pièces mansardées, et même à six en comptant la bonne Maria dont ma grand-mère n’avait pas résolu de se passer), les rations, ou bien la fuite dans la montagne où ma mère devait se cacher, de peur d’être raflée par la Gestapo – tout cela s’effaçait, disparaissait, devenait irréel. Désormais, pour moi, il y aurait avant et après l’Afrique.',\n",
       "  'wolof_corpus': 'Ci biir saxaaru-géej gi sama xel a ngi wëndéelu, fu ne mu dem fa. Ma dëkke fàttaliku, nag. Fépp fa ma jotoon a jaar, lépp la ma masoon a dund laata may ñëw Afrig, daldi may songaat. Loolu lan la woonati ? Xanaa liñ fi tudde woon Xare bu Mag bi. Sunu kër ca Niis : juróomi nit ñuy dankalikoo ci ňaari néeg yu ñu teg i xànq. Juróom-benn lanu woon sax, boo limaalee Mariyaa, mbindaan mi sama maam ju jigéen ne woon, ci xolam bu rafet, du ko wacc mukk ginnaaw. Luy delseeti ci sama xel ? Dëkku kow ba sama yaay war a daw làquji ndax ragal Almaŋ yi jàpp ko… Loolu lépp seey na ba ni mes, dellu mel niy léeb ak lëppóon. Mënoon naa ni : « Bés-niki-tey, sama jaar-jaar yépp ci ñaari mbir doŋŋ la ëmbu : li ma dund laata may xam Afrig ak li ca bokkul. »'},\n",
       " 10: {'french_corpus': 'La liberté à Ogoja, c’était le règne du corps. Illimité, le regard, du haut de la plate-forme de ciment sur laquelle était construite la maison, pareille à l’habitacle d’un radeau sur l’océan d’herbes. Si je fais un effort de mémoire, je puis reconstituer les frontières vagues de ce domaine. Quelqu’un qui aurait gardé la mémoire photographique du lieu serait étonné de ce qu’un enfant de huit ans pouvait y voir. Sans doute un jardin. Non pas un jardin d’agrément – existait-il dans ce pays quelque chose qui fût d’agrément ? Plutôt un espace d’utilité, où mon père avait planté des fruitiers, manguiers, goyaviers, papayers, et pour servir de haie devant la varangue, des orangers et des limettiers dont les fourmis avaient cousu la plupart des feuilles pour faire leurs nids aériens, débordant d’une sorte de duvet cotonneux qui abritait leurs œufs. Quelque part vers l’arrière de la maison, au milieu des broussailles, un poulailler où cohabitaient poules et pintades, et dont l’existence ne m’est signalée que par la présence, à la verticale dans le ciel, de vautours sur lesquels mon père tirait parfois à la carabine. Un jardin, soit, puisqu’un des employés de la maison portait le titre de « garden boy ». À l’autre bout du terrain, il devait y avoir les cases des serviteurs : le « boy », le « small boy », et surtout le cuisinier, que ma mère aimait bien, et avec qui elle préparait des plats, non à la française, mais la soupe d’arachide, les patates rôties, ou le « foufou », cette pâte d’igname qui était notre ordinaire. De temps en temps, ma mère se lançait avec lui dans des expériences, de la confiture de goyaves ou de la papaye confite, ou encore des sorbets qu’elle tournait à la main. Dans cette cour, il y avait surtout des enfants, en grand nombre, qui arrivaient chaque matin pour jouer et parler et que nous ne quittions qu’à la nuit tombante.',\n",
       "  'wolof_corpus': 'Ogosaa, kenn naju fa kenn di ko teree noyyi te sañ-sañ boobu, yaram yu fireeku yee koy firndeel. Ni kër gi nee noŋŋ ci kow dalug simoŋ, mel ni gaal guy tëmb ci géejug ňax, tax na sama gis-gis amul daanaka yemu. Bu ma góor-góorlooy fàttaliku, damay dellu di dekkali luy nirook dig yi rëddu ci suuf soosee. Li goneg juróom-ňetti at doŋŋ ni man mii daan seetlu ci béréb boobu, yéeme na. Tool waru faa ñàkk, moom. Du ab tóokër – waaw, ndax xamoon nañ sax lenn luy nirook tóokër walla lu ni deme ? Baay daawul saxal lu dul i meňňeef yu nu amal njariñ, maanaam ay garabi màngo, ay guyaab ak i pàpaaya. Ñoo sës it ci peroŋ bi, ñag kër gi, ñook garabi sor s yeek yu limoŋ yi. Mellentaan yaa ngi ràbb seeni xob, defar ciy tàgg yu kowe, mu mel ni mbàjjum wëtéen mu ëmb i nen. Su ma téenee, gis tan yiy naawantu ca kow-a-kow, tiim ginaar yeek naat yi ci seen ngunu. Ku ne Garden Boy ci kàllaama àngale, nee nga « tóokër ». Kon nu ni boog ab tóokër a nga fa. Surga yaa ngi dëkk ci beneen wàllu pàkk bi, moo xam booy bi la mbaa tusuňe bi. Tusuñe bi nag, déggoo woon na lool ak sama yaay te daan ko jàngal nu ñuy togge soosu gerte, pataas yu ňu saaf walla fufu. Daan nañu toggantu itam komfi guyaab, di saaf pàpaaya ak a defaral seen bopp kareem-galaas. Xaley Ogosaa yu bari ci ëtt bi lañ daan yendu, di weranteek a fo ba jant bi so.'},\n",
       " 11: {'french_corpus': 'Tout cela pourrait donner l’impression d’une vie coloniale, très organisée, presque citadine – ou du moins campagnarde à la façon de l’Angleterre ou de la Normandie d’avant l’ère industrielle. Pourtant c’était la liberté totale du corps et de l’esprit. Devant la maison, dans la direction opposée à l’hôpital où travaillait mon père, commençait une étendue sans horizon, avec une légère ondulation où le regard pouvait se perdre. Au sud, la pente conduisait à la vallée brumeuse de l’Aiya, un affluent de la rivière Cross, et aux villages, Ogoja, Ijama, Bawop. Vers le nord et l’est, je pouvais voir la grande plaine fauve semée de termitières géantes, coupée de ruisseaux et de marécages, et le début de la forêt, les bosquets de géants, irokos, okoumés, le tout recouvert par un ciel immense, une voûte de bleu cru où brûlait le soleil, et qu’envahissaient, chaque après-midi, des nuages porteurs d’orage. Je me souviens de la violence. Non pas une violence secrète, hypocrite, terrorisante comme celle que connaissent tous les enfants qui naissent au milieu d’une guerre – se cacher pour sortir, épier les Allemands en capote grise en train de voler les pneus de la De Dion-Bouton de ma grand-mère, entendre dans un rêve remâcher les histoires de trafic, espionnage, mots voilés, messages qui venaient de mon père par le canal de Mr Ogilvy, consul des États-Unis, et surtout la faim, le manque de tout, la rumeur des cousines de ma grand-mère se nourrissant d’épluchures. Cette violence-là n’était pas vraiment physique. Elle était sourde et cachée comme une maladie. J’en avais le corps miné, des quintes de toux irrépressibles, des migraines si douloureuses que je me cachais sous la jupe longue du guéridon, les poings enfoncés dans mes orbites.',\n",
       "  'wolof_corpus': 'Du ñàkk ñu ni, aa, ñii kat seen nekkin ca Niseryaa nekkinu Tubaab yi tegoon loxo ci Afrig doŋŋ la woon, nga xam ne dañu fa daan sanc, yaakaar ni mën nañ koo soppi Àngalteer walla Normàndi gu ndaw. Ndaxam de, Ogosaa, dara fattu fa woon sunu xel ak sunu yaram : noo moomoon sunu bopp, loolu jur saň-saň bu mat sëkk. Su ma génnaan kër gi, won ginnaaw loppitaanu Baay, aw dénd wu amul àpp la samay bët daan daj. Ca bëj-saalum ba, am mbartal mooy jëme ca benn bànxaasu dexug Koros ak tamit Ogosaa, Ijamaa ak Bawob. Ca bëj-gànnaar ak penku, mënoon naa séen i jànj yu mag-a-mag ci joor gi ay dex yu ndaw daggatoon. Foofoo doon ndoortelu àll bi, ñu ràññee fa garab yu ponkal, garab yooyu ñuy wax irókook ókume. Asamaan su baxa saa ngi leen muur, naaj wi tàng jërr te suy tàkkusaan di jot niir yiy feeñ, ànd ak i ngëlén. Sama xel dellu ci Afrig, am kàddu gu riir ci sama biir kaaŋ. Kàddu googu di « Kàttan ». Mbaa « Doole » ? Benn la rekk. Li wóor ba wóor moo di safaanoo na lool ak xeetu njàqare yi ma daan seetlu jamono ja ma newee gone te làrme bu Almaañ tegoon loxo ci Farãs, Almaŋ yi yóbbu fitu ñépp, lu leen neex ñu def, di jaay doole dëggëntaan. Booba, kenn du dox ci mbedd mi te sa xel newul ci ñoom. Almaŋ ya ma bett bés ak seeni mànto yu dóomu-taal, ñuy wekki sama ruuwu woto maam ju jigéen… Yemul foofu, de. Te li may waxsi, gépp gone gu màgg ci fitnay xare xam na ko. Mooy ni nit ñiy soppikoo, doon i naaféq, ku nekk ni patt ndax ragal a wax lu ëpp. Ku mel ni ndawul Amerig ca Ogosaa, te tuddoon Ogilwi, daan nay faral a déeyanteek Baay, di ko àgge ay xibaar yu mu warul woon a dégg ci yoon. Kersa dina ma teree sulli yenn yi, muy ndóol gu metti gi taxoon, ci boog liñ doon ruumandaat, samay doomi-bàjjen daan añe xollitu banaana mbaa sorãs, di ko reere. Naqar yu ni mel, daanaka dana la woon buy gas paxam ci sunu xol guddeek bëccëg. Mu mujjee jàpp sama yaram man mii, may sëqat tëwa bàyyi, sama bopp biy metti bay bëgg a xar, may wut fu ma làqu, taf samay bët…'},\n",
       " 12: {'french_corpus': 'Ogoja me donnait une autre violence, ouverte, réelle, qui faisait vibrer mon corps. C’était visible dans chaque détail de la vie et de la nature environnante. Des orages tels que je n’en ai jamais vu ni rêvé depuis, le ciel d’encre zébré d’éclairs, le vent qui pliait les grands arbres autour du jardin, qui arrachait les palmes du toit, tourbillonnait dans la salle à manger en passant sous les portes et soufflait les lampes à pétrole. Certains soirs, un vent rouge venu du nord, qui faisait briller les murs. Une force électrique qu’il me fallait accepter, apprivoiser, et pour laquelle ma mère avait inventé un jeu, compter les secondes qui nous séparaient de l’impact de la foudre, l’entendre venir kilomètre après kilomètre, puis s’éloigner vers les montagnes. Un après-midi, mon père opérait dans l’hôpital, quand la foudre est entrée par la porte et s’est répandue sur le sol sans un bruit, faisant fondre les pieds métalliques de la table d’opération et brûlant les semelles en caoutchouc des sandales de mon père, puis l’éclair s’est rassemblé et a fui par où il était entré, comme un ectoplasme, pour rejoindre le fond du ciel. La réalité était dans les légendes.',\n",
       "  'wolof_corpus': 'Ogosaa, leneen la woon. Doole ja mu ma daan jox, doole ju fés te wér, dafa daan yëngal sama yaram wépp. Ogosaa laa gëjee teewe ngëlén yu ni mel. Masuma leen a gént tamit. Dënnu yu metti yi. Ngelaw li. Ngelaw lu am doole, sax. Da daan lem garab yi ba ñuy bëgg a àgg suuf, jaxase jànq bi, aw ci suufu bunt bi, daldi ni cabax ci biir saal bi, ëf làmpi petorool yi. Léeg-léeg itam mu jóge bëj-gànnaar, yëkkati suuf su xonq si daan melaxal miiri kër gi. Nit ki, su àll bi demee ba ràkkaajoo noonu, fàww nga seet noo koy dékkoo. Daawuma ko diir mbagg, gaa, wànte leeroon na ma ni su ma wutul pexe du sotti. Nàkkul sama yaay loolu la njortoon ba sos am po : saa yu benn dënnu dalee, nuy tàmbalee waññ ba xam bi ciy topp kañ lay agsi. Dañ ko daan dégg muy bawoo fu sori, mel ni lu tiim tund yiy dukkat, ñëw dal sunu kow. Bés, bi timis diy waaj a jot, dënnu bi bett na Baay fa mu doon opeeree ca loppitaanu Ogosaa, daldi lakk ay caraxam, ruyal tànki lal ba ñu tëraloon aji-tawat ba. Nes tuut, mu dajaloo, jaaraat ca suufu bunt ba, dellu ca kow asamaan. Afrig, dund naa fay mbir, ñu ni fàŋŋ ci samay bët te du ma tee werante ci sama xel, naan ndax lii ay léeb laam déet.'},\n",
       " 13: {'french_corpus': 'L’Afrique était puissante. Pour l’enfant que j’étais, la violence était générale, indiscutable. Elle donnait de l’enthousiasme. Il est difficile d’en parler aujourd’hui, après tant de catastrophes et d’abandon. Peu d’Européens ont connu ce sentiment. Le travail que faisait mon père au Cameroun d’abord, puis au Nigeria, créait une situation exceptionnelle. La plupart des Anglais en poste dans la colonie exerçaient des fonctions administratives. Ils étaient militaires, juges, district officers (ces D.O. dont les initiales, prononcées à l’anglaise, Di-O, m’avaient fait penser à un nom religieux, comme une variation sur le « Deo gratias » de la messe que ma mère célébrait sous la varangue chaque dimanche matin). Mon père était l’unique médecin dans un rayon de soixante kilomètres. Mais cette dimension que je donne n’a aucun sens : la première ville administrative était Abakaliki, à quatre heures de route, et pour y arriver il fallait traverser la rivière Aiya en bac, puis une épaisse forêt. L’autre résidence d’un D.O. était à la frontière du Cameroun français, à Obudu, au pied des collines où habitaient encore les gorilles. À Ogoja, mon père était responsable du dispensaire (un ancien hôpital religieux délaissé par les sœurs), et le seul médecin au nord de la province de Cross River. Là, il faisait tout, comme il l’a dit plus tard, de l’accouchement à l’autopsie. Nous étions, mon frère et moi, les seuls enfants blancs de toute cette région. Nous n’avons rien connu de ce qui a pu fabriquer l’identité un peu caricaturale des enfants élevés aux «colonies ». Si je lis les romans «coloniaux» écrits par les Anglais de cette époque, ou de celle qui a précédé notre arrivée au Nigeria – Joyce Cary, par exemple, l’auteur de Missié Johnson –, je ne reconnais rien. Si je lis William Boyd, qui a passé lui aussi une partie de son enfance dans l’Ouest africain britannique, je ne reconnais rien non plus : son père était D.O. (à Accra au Ghana, me semble-t-il). Je ne sais rien de ce qu’il décrit, cette lourdeur coloniale, les ridicules de la société blanche en exil sur la côte, toutes les mesquineries auxquelles les enfants sont particulièrement attentifs, le dédain pour les indigènes, dont ils ne connaissent que la fraction des domestiques qui doivent s’incliner devant les caprices des enfants de leurs maîtres, et surtout cette sorte de coterie dans laquelle les enfants de même sang sont à la fois réunis et divisés, où ils perçoivent un reflet ironique de leurs défauts et de leurs mascarades, et qui forme en quelque sorte l’école de la conscience raciale qui supplée pour eux à l’apprentissage de la conscience humaine – je puis dire que, Dieu merci, tout cela m’a été complètement étranger.',\n",
       "  'wolof_corpus': 'Duma ko tàyyee wax. Kàttanu Afrig dafa jéggi woon dayo. Doole joojoo nga woon fépp. Ma nekk xale, muy yokk sama cawarte, di ma bégal. Lu jafee waxtaane la tey ndax musiba yi ñu fi jot a jànkonteel ak it ni nit ñi bàyyeekoo, rawati-na fii ci Tugal. Liggéey bi Baay daan def, njëkkee ko Kamerun door a jàll Niseeryaa, du woon liggéeyu caaxaan. Ñu bare ci Àngale ya fa toogaloon seen réew, ay soldaar lañu woon wallay àttekat walla li ñu tudde woon ci seen làkk ay « District Officers ». Baay doŋŋ a doon fajkat fa nu dëkkoon. Naataangoom ba ko gënoon a jegee nga woon lu tollook juróom-benn-fukki kilomet. Waaye dayo gii ma joxe sax amul solo : ngir àgg Abaakiliki, daan nga dawal ñeenti waxtu, jël bag mu jàllale la dexug Ayaa nga sog a song ab àll bu lëndëm këruus. Beneen kërug « District Officer » a nga woon Kamerun ga Farañse yi yilifoon, ca Óbudu, ca taatu tund ya ay dàngin dëkkoon. Baay a yilifoon dispañseeru Ogosaa ba ay jigéeni kër-làbbe ubbi woon ay ati-at ca ginnaaw. Te it moom kott a doon fajkat ca bëj-gànnaaru Koros Riwër. Moo fa daan def lépp, di faj, di rewle, ku faatu yit mu ubbi la seet lu la faat. Maak sama mag ju góor kott ñoo doon i doomi tubaab ca diiwaan boobu yépp. Waaye dunu woon liy bindkat yu siiw tudde ay « doomi-tubaabi-Afrig », di leen kókkali. Jàng naa Misiye Jonson, bu Jooys Kari, di fentaakon bu fekk baax Àngalteer, te gisuma ci benn yoon sama bopp. Téerey Wilyaam Booyd yi, naka noonu. Mbirum Booyd moo gën a yéeme ndax, su ma juumulee, baayam « District Officer » la woon ca Ganaa, mu màggee Afrig ni man. Waaye moom kókkalee ko gënoon a soxal. Afrigu Tubaab yi gàddaay wutsi tefes gi, te tàngaay bi disaal seen xel ak seen yaram, jotewul tus ak Afrig ga ma màgge. Gisuma fay nit ñu weex yuy wujje ci seen biir, di ŋàññante. Bokkuma woon ci doomi-Tubaab yu xamadi yooyu, am i surga yu leen di jaamu, ñu jàppe képp ku weexul ni bàyyima, rawati-na mbindaan yeek bóoyi kër gi. Yàlla baax na ba xàjj-ak-seen masumaa tax a xalat ne nit ku weexul ni man mënoo nite.'},\n",
       " 14: {'french_corpus': 'Nous n’allions pas à l’école. Nous n’avions pas de club, pas d’activités sportives, pas de règle, pas d’amis au sens que l’on donne à ce mot en France ou en Angleterre. Le souvenir que je garde de ce temps pourrait être celui passé à bord d’un bateau, entre deux mondes. Si je regarde aujourd’hui la seule photo que j’ai conservée de la maison d’Ogoja (un cliché minuscule, le tirage 6 x 6 courant après la guerre), j’ai du mal à croire qu’il s’agit du même lieu : un grand jardin ouvert, où poussent en désordre des palmiers, des flamboyants, traversé par une allée rectiligne où est garée la monumentale Ford V 8 de mon père. Une maison ordinaire, avec   un toit de tôle ondulée et, au fond, les premiers grands arbres de la forêt. Il y a dans cette photo unique quelque chose de froid, presque austère, qui évoque l’empire, mélange de camp militaire, de pelouse anglaise et de puissance naturelle que je n’ai retrouvé, longtemps après, que dans la zone du canal de Panama.',\n",
       "  'wolof_corpus': 'Jamono ja nu dëkke Afrig, dunu xéy dem lekool te it bokkunu ci benn mbootaayu tàggat yaram. Ci gàttal, lu ñu neex def, amul benn sàrt bu nu war a topp te kenn duñu ni tooy na mbaa wow na. Ni ma ko waxe sànq, daan nanu fo ak sunuy maas. Wànte kenn ci ñoom doonul woon sunu xarit, suñ sukkandikoo ci li baat boobu tekki fii ci Tugal. Nun daal, dañoo meloon ni ñu caŋ ci biir gaal gu tag diggante ňaari àddina. Nataalu këru Ogosaa gi ma dese, bu tuutee-tuuti la. Tóokër bu yaatu bi, ndeysaan… Garabi-tiir yeek garabi mbër yi… Yoon wii Baay daan gaare wotoom, W8 bu réy a réy ba. Saa yu ma xoolee bile nataal, fàww ma ni ci sama xel : ndax ci dëgg-dëgg fii laa dëkkoon ? Manumaa nangu ba tey ne benn béréb bi la. Këru kese ak sengam gu ami nóox-nóox, àll bu xonq bi wër ko. Benn nataal boobu mel ni doom-aadama bu fuññaaral, téye boppam, di biral ni nit ku weex tegee loxo ci Afrig, dem sax bay jéem a jox Afrig xar-kanamu Tugal. Yëg-yëg yu ni mel, benn yoon lañ ma mas a ganesiwaat, te ca diiwaanu Kanaalu Panamaa la woon.'},\n",
       " 15: {'french_corpus': 'C’est ici, dans ce décor, que j’ai vécu les moments de ma vie sauvage, libre, presque dangereuse. Une liberté de mouvement, de pensée et d’émotion que je n’ai plus jamais connue ensuite. Les souvenirs trompent, sans doute. Cette vie de liberté totale, je l’aurai sans doute rêvée plutôt que vécue. Entre la tristesse du sud de la France pendant la guerre et la tristesse de la fin de mon enfance dans la Nice des années cinquante, rejeté de mes camarades de classe du fait de mon étrangeté, obsédé par l’autorité excessive de mon père, en butte à la très grande vulgarité des années lycée, des années scoutisme, puis pendant l’adolescence la menace d’avoir à partir faire la guerre pour maintenir les privilèges de la dernière société coloniale.',\n",
       "  'wolof_corpus': 'Fii laa dunde dundug njaay-àll, moom sama bopp ba léeg-léeg sax mu mënoon maa gaañ. Ni may xalaate ni lu ma neexaan def, fu ma neexaan dem, ñàkkul muy lu may janeer, daanaka. Nit ki, pàttalikoom dina koy faral di nax, muy nettali yoo xam ni ci xelam doŋŋ la juddoo. Du lu war a jaaxal kenn. Su dee loolu la, maa yey. Ana fu gën a géey bëj-saalumu Tugal ci jamonoy xare bi ? Niis gi nu dëkk it, ci xaaju xarnu bi, amul dara lu ma fa neex. Ragal Baay a ma taxoon a téye sama bopp ca Niis, samay moroom ca liise daan ma noggatu ndax li ma wute woon ak ñoom. At yooyu ma def liise, su ma yaboo ni ñoo ma gën a soof ci sama àddina. Ñooy it at ya ma tollo ci nekk « eskut ». Moo doon it jamono ja ma ragalee lool nguur gi solal ma soldaar, jox ma fetal ma war a dem xareel ko. Xareel ko ngir lan ? Xanaa ngir nun Tubaab yi nuy wéy di teg loxo ci Afrig, di aakimu alalam.'},\n",
       " 16: {'french_corpus': 'Alors les jours d’Ogoja étaient devenus mon trésor, le passé lumineux que je ne pouvais pas perdre. Je me souvenais de l’éclat sur la terre rouge, le soleil qui fissurait les routes, la course pieds nus à travers la savane jusqu’aux forteresses des termitières, la montée de l’orage le soir, les nuits bruyantes, criantes, notre chatte qui faisait l’amour avec les tigrillos sur le toit de tôle, la torpeur qui suivait la fièvre, à l’aube, dans le froid qui entrait sous le rideau de la moustiquaire. Toute cette chaleur, cette brûlure, ce frisson.',\n",
       "  'wolof_corpus': 'Tugal soof ma. Ogosaa jommal ma, daanaka am ci man solo ba mu jéggi dayo. May fàttaliku nag ray-rayu suuf su xonq si. Tali yi jant bi xarat. Ni nu daan rawantee tànki neen, di xuus ci àll bi, dem ba jub tatay max yi. Te ngoon su ne, ngëlén li dellusi, guddi yi xumb be, fo tollu di dégg i yuux ak sunu muus mu jigéen miy jooteek siiru yi ci kow kër gi. Ak itam sibbiru. Mu daaneel la, nga ni mbàppaaral, su njël jotee ngelaw li yëkkati sanke bi, sedd bi ne cabax ci néeg bi, fekksi la fi nga tëdd, dugg ba ci sa biir yax.'},\n",
       " 17: {'french_corpus': 'Devant la maison d’Ogoja, passé la limite du jardin (plutôt un mur de broussailles qu’une haie taillée au cordeau), commençait la grande plaine d’herbes qui s’étendait jusqu’à la  rivière Aiya. La mémoire d’un enfant exagère les distances et les hauteurs. J’ai l’impression que cette plaine était aussi vaste qu’une mer. Au bord du socle en ciment qui servait de trottoir à la case, je suis resté des heures, le regard perdu dans cette immensité, suivant les vagues du vent sur les herbes, m’arrêtant de loin en loin sur les petites trombes poussiéreuses qui dansaient au-dessus de la terre sèche, scrutant les taches d’ombre au pied des irokos. J’étais vraiment sur le pont d’un bateau. Le bateau, c’était la case, non seulement les murs de parpaing et le toit de tôle, mais tout ce qui portait la trace de l’empire britannique – à la manière du navire George Shotton dont j’avais entendu parler, ce vapeur cuirassé et armé en canonnière, surmonté d’un toit de feuilles, sur lequel les Anglais avaient installé les bureaux du consulat et qui remontait le Niger et le Bénoué au temps de lord Lugard.',\n",
       "  'wolof_corpus': 'Boo weesuwaan tóokër ba, sànni say bët fu sori, danga daan séen ñax mi tëdd, defug joor gu yaatu, wuti dexug Ayaa. Gone, su demee bay natt dayo mbaa guddaay, du xam bu ca yem. Moo tax tey, mu ngi mel ni joor googu ak géej ñoo tolloo woon ci man. Daan naa toog ay waxtu ci dalu simoŋ bi, ni jàkk dénd wu yaatu woowa walla ni ngelaw liy ëfe ñax mi, muy dem ak a dikk niy ginnax. May gis léeg-léeg ay callweeri pënd ñuy gàkkal taatu garabi iróko yi. Ku ma laajoon fan laa nekk, ma ni la : « Man ? Xanaa ci boppub gaal, tey joow, ànd ceek fulla, ànd ceek faayda ju mat sëkk ! » Gaal gi nag, du woon dara fu dul sunu néegu-ñax ba. Waaye xottu néegu-ñax taxumaa wax. Déedéet. Lépp la daan dekkali ci xel yi, lu mu tuuti-tuuti ; dooley Àngalteer, rawati-na ci Afrig sowu-jant, a may tax di wax. Mënoon naa koo tudde Sors Sotoŋ, saxaaru-géej gu fi siiwoon te daan xuus ak i kënoom cay dexi Niseer ak Bénuwe, ca jamonoy Lord Lugaar. Ca kowam sax la Àngale yi tegoon seeni biroy Koňsilaa.'},\n",
       " 18: {'french_corpus': 'J’étais seulement un enfant, la puissance de l’empire m’indifférait assez. Mais mon père en pratiquait la règle, comme si elle seule donnait un sens à sa vie. Il croyait à la discipline, dans chaque geste de chaque jour : se lever tôt, faire aussitôt son lit, se laver à l’eau froide dans le bac de zinc, dont il fallait garder l’eau savonneuse pour mettre à tremper chaussettes et caleçons. Les leçons avec ma mère chaque matin, orthographe, anglais, arithmétique. La prière chaque soir, et le couvre-feu à neuf heures. Rien de commun avec l’éducation à la française, les jeux du mouchoir et les trappe-trappe, les repas joyeux où tout le monde parle à la fois, et pour finir les douces chantefables que racontait ma grand-mère, les rêveries dans son lit en écoutant grincer la girouette, et la lecture des aventures d’une pie voyageuse au-dessus de la campagne normande, dans le livre La joie de lire. En partant pour l’Afrique, nous avions changé de monde. La compensation à la discipline du matin et du soir, c’était la liberté des jours. La plaine d’herbes devant la case, c’était immense, dangereux et attirant comme la mer. Je n’avais jamais imaginé goûter à une telle indépendance. La plaine était là, devant mes yeux, prête à me recevoir.',\n",
       "  'wolof_corpus': 'Waaye xale bu ndaw laa booba, dooley Àngalteer xaajumaa teree nelaw. Dafa fekk rekk ni Baay moom kàddu gu mu yëkkati suba ba ngoon, lépp lu mu def, foofu la ko wékk. Li mu gëm, yar nu ci, moo di na nit ki bañ a fowe boppam, di sàmm fu mu ne kàddoom, léppam daal jaar ci yoon. Te ci gis-gisam, yii may limsi amoon nañ lool solo : teel a yeewu, defar sa lal ci saa si, sangoo ndox mu sedd ba noppi xooj say kawas ak say tubayi njiitlaay ci mbalkam seng mi. Mën naa cee yokk njàngal ma nu sama yaay daan jàngal suba su nekk ; guddi, bu juróom-ñeenti waxtu jotee, nu julli, gërëm Yéesu Kiris dem tëri. Aka wute woon ak nañ nu daan yare ca Tugal ! Tugal nga xam ni la fa ëppoon solo moo doon di fo, di caxante, di ree, su reer jotee nu wër taabal jiy lekk di waxtaan, ku gën a dijj sa moroom ŋaam nga ne kii la. Te sun fa jógewaan, sama maam ju jigéen daan nu léebal ak a woyal. Man nag, su may wéet sama kow lal, ay janeer di ma dikkal, may dégg karkàndal biy riir. Daan naa yéemu it ci téere bu tudd La joie de Lire – mbégtem njàng – daan nettali mbirum picc ma sawaroon lool ci jaabante ci kow asamaanu Normàndi. Afrig danu fa tàbbi, daanaka, ci àddina su bees tàq. Baay di nu jéem a awloo yoon waaye teewul nu yëg ni nu moomee sunu bopp. Ñax mi muur joor gi dafa bare ba may fàttali géej, xóot te raglu ni moom. Masuma woon a xalaat ne dinaa dund ba bés ñëw ma moome ni sama bopp. Joor gaa ngi woon ci sama kanam, yaatu ba dee, tàllal may loxoom, di ma waaj a dalal.'},\n",
       " 19: {'french_corpus': 'Je ne me souviens pas du jour où nous nous sommes aventurés, mon frère et moi, pour la première fois dans la savane. Peut-être à l’instigation des enfants du village, la bande un peu hétéroclite qui comportait des tout-petits tout nus avec un gros ventre et des presque adolescents de douze, treize ans, vêtus comme nous d’un short kaki et d’une chemise, et qui nous avaient appris à ôter chaussures et chaussettes de laine pour courir pieds nus dans les herbes. Ceux que je vois sur quelques photos de l’époque, autour de nous, très noirs, dégingandés, certainement moqueurs et combatifs, mais qui nous avaient acceptés malgré nos différences.',\n",
       "  'wolof_corpus': 'Fàttalikuwuma bés bi ňu njëkkee sàcc dugg ci biir àll bi, maak sama mag ju góor. Ñàkkul ne goney Ogosaa sooke woon mbir mi, nu topp ci. Sunu gàngóor ga raxe lool, sax : ñii diy gone yu tuutee-tuuti def tànki neen ak seen biir yu réy, ñi ci des diy xaleeli góor yu soreetul fukki at ak ñett, sol ni nun ay tubay yu kakeek simis. Ñoo nu daan jàngal ni nuy summee sunuy dàll ngir mën a daw ci ñax mi. Léeg-léeg ma gisaat leen ciy nataal, ñu ñuul kukk, àgg ca kow, njaxlaf, am fit, mën a xeex te boole nu ci seen bopp, fàtte sunu weexaay.'},\n",
       " 20: {'french_corpus': 'C’était probablement interdit. Mon père étant absent tout le jour, jusqu’à la nuit, nous avons dû comprendre que l’interdiction ne pouvait qu’être relative. Ma mère était douce. Sans doute était-elle occupée à d’autres choses, à lire ou à écrire, à l’intérieur de la maison pour échapper à la chaleur de l’après-midi. Elle s’était faite africaine, à sa mesure, j’imagine qu’elle devait croire qu’il n’y avait pas d’endroit plus sûr au monde pour deux garçons de notre âge.',\n",
       "  'wolof_corpus': 'Su nu Baay jàppoon keroog du baax ci nun. Waaye ginnaaw da daan gudde ñibbisi ci kër gi, danu jàpp ni tere bi taxu koo am solo. Sama yaay, moom, ku sedd la, noppal nu. Ñàkkul sax mu ne ci leneen bés boobu, di jàng mbaa muy bind, ngir daw tàngaayu ngoon gi. Dafa mujje gise boppam ni doomu Afrig, dem bay xalaat ni àll bee gën a wóor ci nun fépp fu mu mënti doon.'},\n",
       " 21: {'french_corpus': 'Faisait-il chaud vraiment ? Je n’en ai aucun souvenir. Je me souviens du froid de l’hiver, à Nice, ou à Roquebillière, je ressens encore l’air glacé qui soufflait dans les ruelles, un froid de glace et de neige, malgré nos guêtres et nos gilets en peau de mouton. Mais je ne me rappelle pas avoir eu chaud à Ogoja. Quand elle nous voyait sortir, ma mère nous obligeait à mettre nos casques Cawnpore – en réalité des chapeaux de paille qu’elle nous avait achetés avant notre départ dans un magasin de la vieille ville de Nice. Mon père avait institué entre autres règles celle des chaussettes de laine et des chaussures de cuir cirées. Dès qu’il partait pour son travail, nous nous mettions pieds nus pour courir. Les premiers temps, je m’écorchais sur le ciment du sol en courant – je ne sais pourquoi, c’était toujours le gros orteil du pied droit dont la peau s’arrachait. Ma mère me bandait le pied, et je cachais le pansement dans mes chaussettes. Puis cela recommençait.',\n",
       "  'wolof_corpus': 'Tàngaay bi may wax, ndax sonaloon na nu dëggëntaan ? Loolu génn na ci sama xel. Liw bu mettee-metti ba ma daan dugg ba nu dëkkee Niis walla Rokkëbiyeer, maa ngi koy fàttaliku bu baax. Ma nekk xale, sol ay yére yu diis, wànte teewul ngelaw lu sedd guyy di ma bëgg a rey. Waaye Ogosaa, saa yu fa suma xel delloo, du tàngaay baa tax. Dunu génn kër gi te sama yaay newu nu solleen seen kask Kaawanpoor – du woon dara sax lu dul mbaxane ňax yaň ňu jëndaloon ca Niis. Ci dogali Baay yu dul jeex yi, bokk na ci ne danoo war a jiital ay kawas yu diis teg ciy dàlli der yu ňu siraas. Waaye su génnaan kër gi rekk, nuy daldi def tànki neen topp mbedd miy daw. Ca njëlbéen ga, dalu simoŋ bi dafa ma daan gaañ. Xawma lu tax, sama benn baaraamu tànk kott la der bi daan xolleeku, te muy baaraamu ndey-joor bu mag bi. Bu ma sama yaay fajaan ba noppi, dama daan nëbb bàndaas bi ci samay kawas, daldi neeti mbedd mi maa ngoog. '},\n",
       " 22: {'french_corpus': 'Alors, un jour, nous avons couru tout seuls dans la plaine fauve, en direction de la rivière. L’Aiya à cet endroit n’était pas très large, mais était animée d’un courant violent qui arrachait aux rives des mottes de boue rouge. La plaine, de chaque côté de la rivière, paraissait sans bornes. De loin en loin, au milieu de la savane, se dressaient de grands arbres au tronc très droit, dont j’ai su plus tard qu’ils servaient à fournir les planchers d’acajou des pays industriels. Il y avait aussi des cotonniers, et des acacias épineux qui faisaient une ombre légère. Nous courions presque sans nous arrêter, à perdre haleine, dans les hautes herbes qui fouettaient nos visages à hauteur des yeux, guidés par les fûts des grands arbres. Aujourd’hui encore, quand je vois des images de l’Afrique, les grands parcs du Serengeti ou du Kenya, je ressens un élan du cœur, il me semble reconnaître la plaine où nous courions chaque jour, dans la chaleur de l’après-midi, sans but, pareils à des animaux sauvages.',\n",
       "  'wolof_corpus': 'Bés nag, nu song joor giy daw wuti dexug Ayaa. Wet gi nu awe keroog, Ayaa taxu ko faa yaatu wànte day wal-waleek doole, di yëkkati bàq bi ak a xonqal peggi dex gi. Joor gaa ngi mel ni amul àpp, ma seetlu ay garab yu kowe, ne jadd ak seeni dàtt yu sew. Bu yàggul rekk laa dégg ne ndekete dañ leen daan gor, jamono jooja, di yónnee seen bant fii ci réewi Tubaab yi. Ma gëmm, gis it ay garabi wittéen ak i kàdd yu barey dég te daan nu may tuuti ker. Danu daan réer ci biir ñax mi, muy caw sunuy xar-kanam, nuy daw bay xiiqët. Su dul woon garab yi nuy séen, dunu xamati sax fan lanu nekk. Ba sunu jonn-Yàlla-tey, mënumaa gis ay nataali Afrig, moo xam pàkku Sereŋeti la wallay pàkki Keñaa te sama yaram dawul, ma dellu ci saa si jamono jañ daan wëndéelu ci àll bi niy bàyyima.'},\n",
       " 23: {'french_corpus': 'Au milieu de la plaine, à une distance suffisante pour que nous ne puissions plus voir notre case, il y avait des châteaux. Le long d’une aire dénudée et sèche, des pans de murs rouge sombre, aux crêtes noircies par l’incendie, tels les remparts d’une ancienne citadelle. De loin en loin, le long des murs, se dressaient des tours dont les sommets paraissaient becquetés d’oiseaux, déchiquetés, brûlés par la foudre. Ces murailles occupaient une superficie aussi vaste qu’une ville. Les murs, les tours étaient plus hauts que nous. Nous n’étions que des enfants, mais dans mon souvenir j’imagine que ces murs devaient être plus hauts qu’un homme adulte, et certaines des tours devaient dépasser deux mètres.',\n",
       "  'wolof_corpus': 'Biñ yeggee ci diggu joor gi, sori lool sunu kër, lañ gis i tabax yu mag a mag. Ay miir yu xonq te lëndëm a toppoon ab bayaal bu mag. Seen cat yaa nga lakk, ñuul, ni tata yu njëkk ya. Miir yeek taaxi kow yi ňu tiim day nañ, xanaa, nib dëkk. Xam naa li ñu newoon xalee nu taxoon a yaakaar ni kër yooyoo sutoon nit, war a weesu sax ñaari meetar.'},\n",
       " 24: {'french_corpus': 'Nous savions que c’était la ville des termites.',\n",
       "  'wolof_corpus': 'Nu daldi xoolante, xam ni yegsi nanu ci dëkku max yi.'},\n",
       " 25: {'french_corpus': 'Comment l’avons-nous su ? Peut-être par mon père, ou bien par un des garçons du village. Mais personne ne nous accompagnait. Nous avons appris à démolir ces murs. Nous avions dû commencer par jeter quelques pierres, pour sonder, pour écouter le bruit caverneux qu’elles faisaient en heurtant les termitières. Puis nous avons frappé à coups de bâton les murs, les hautes tours, pour voir s’écrouler la terre poudreuse, mettre au jour les galeries, les bêtes aveugles qui y vivaient. Le jour suivant, les ouvrières avaient colmaté les brèches, tenté de reconstruire les tours. Nous frappions à nouveau, jusqu’à en avoir mal aux mains, comme si nous combattions un ennemi invisible. Nous ne parlions pas, nous cognions, nous poussions des cris de rage, et de nouveaux pans de murs s’écroulaient. C’était un jeu. Était-ce un jeu ? Nous nous sentions pleins de puissance. Je m’en souviens aujourd’hui, non pas comme d’un divertissement sadique de sale gosse – la cruauté gratuite que des petits garçons peuvent aimer exercer contre une forme de vie sans défense, couper les pattes des doryphores, écraser les crapauds dans l’angle d’une porte –, mais d’une sorte de possession, que nous inspiraient l’étendue de la savane, la proximité de la forêt, la fureur du ciel et des orages. Ou peut-être que nous rejetions de cette manière l’autorité excessive de notre père, rendant coup pour coup avec nos bâtons. ',\n",
       "  'wolof_corpus': 'Naka lanu def ba xam ko ci saa si ci lu amul benn laam-laamee ? Ndax Baay a nu ko waxoon mbaa kenn ci goney Ogosaa yi ? Li wóor ba wóor moo di ne nuni neen la woon keroog jooju. Te it, kenn masu ñu woon a jàngal naka la ñuy toje miir yooyee. Liñ daan njëkk a def mooy sànniy xeer ngir seet ndax am na luy yëngu ci biir jànj bi. Su daan awu rekk, nu daldi tàmbalee dóor i yat ci miir yi, yëkkati pënd bi, rabi-àll yiygénne fu nekk, di wut fuñ làquji. Su nu delloo ëllëg sa, fekk ay gunóor fatt faw yoon, ba tàmbalee yëkkati yeneeni taax. Loolu gën noo ràkkaajuloo, nuy dóor, di dóor, di dóor ba sunuy loxoy metti. Daawunu sax ubbi sunu gémmiñ. Dañ daan dóor rekk, mer, di yuuxu te luñ gën a yuuxu sunu xol gën a fees. Ndax mbir mi po kese la woon ? Danoo yëgoon sunu doole, yaakaar ni dara warunu woon a të, rawati-na noon bu nuy dëkk te mënunu koo teg bët. Fo kese ? Ay doomi-tubaab yu xamadi di rajaxe lépp, ni ñenn ñiy dagge tànkiy gunóor walla tanc mbott ci ginnaaw bunt ? Mukk ci àddina. Liñ doon def weesu woon na loolu lépp. Danoo tegoon sunu bopp ñaari ponkal yu am doole, sëppu dunyaa ni nooy boroom. Te ci sama gis-gis, liñ taxoon a ràkkaaju du woon dara lu dul càkkeef gi nu wëroon, màndiŋ mi yaatu ba mel ni amul àpp, ngëlén yeek asamaan si xund, di gëdd ak a xultu. Teewul léeg-léeg mii xel ni ma dañ daan feyu ci gunóor yooyu, ndeysaan, dóor yu metti ya nu Baay daan dóor.'},\n",
       " 26: {'french_corpus': 'Les enfants du village n’étaient jamais avec nous quand nous partions détruire les termitières. Sans doute cette rage de démolir les aurait-elle étonnés, eux qui vivaient dans un monde où les termites étaient une évidence, où ils jouaient un rôle dans les légendes. Le dieu termite avait créé les fleuves au début du monde, et c’était lui qui gardait l’eau pour les habitants de la terre. Pourquoi détruire sa maison ? La gratuité de cette violence pour eux n’aurait eu aucun sens : en dehors des jeux, bouger signifiait gagner de l’argent, recevoir une friandise, chasser quelque chose de vendable ou de comestible. Les plus petits étaient sous la surveillance des plus grands, jamais seuls, jamais livrés à eux-mêmes. Les jeux, les discussions et les menus travaux alternaient sans emploi du temps précis : ils ramassaient le bois mort et les bouses séchées pour le feu en se promenant, ils allaient puiser l’eau pendant des heures devant les puits en bavardant, ils jouaient au trictrac dans la terre, ou bien ils restaient assis devant l’entrée de la maison de mon père, à regarder dans le vague, à attendre pour rien. S’ils chapardaient, ce ne pouvait être que des choses utiles, un morceau de gâteau, des allumettes, une vieille assiette rouillée. De temps en temps le « garden boy » se fâchait et les chassait à coups de pierre, mais l’instant d’après ils étaient revenus.',\n",
       "  'wolof_corpus': 'Ak lu mu mën a doon, xaley Ogosaa ya masuñoo fekke fu nuy toje ay jànj maak sama mag. Aka leen doon yéem ! Doon nan ñu laaj lu nu xiiroon ci rey ay mbindeef yoo xam ni, doonte ay gunóor kese lañu, kenn waru leen a metital. Xaley Ogosaa, dañ leen a yare ci jàpp ni dëkk ak i max lu jaadu la. Ci seen benn léeb sax, dañ naan ba àddinay sosu, max a sàkk lépp luy ndox, moo xam déeg la mbaa dex mbaa sax géej. Kon su dul woon moom, amul kenn ku dëkke jéeri kuy mucc ci mar. Lu nu xiiroon ci toj këram ? Wànte kenn mënul woon dugal ci seen bopp ni sunu coxor gi teguwul fenn. Ñoom, su weesoo fo, saa yu ñu yëngoo dafa am luñ ciy séentu : xaalis, tàngal, rëbb rab woo mën a jaay mbaa lekk. Ñi gën a féete xale dañuy topp ci seen ndigalu mag. Kenn du beru walla nekk ci lu la neex. Moonte loolu taxul ñu mën ni yoon wi ñépp daan jaar luñ rëddoon la ci suuf si, mu jub xocc. Déedéet. Dañ daan wure, di werante, di ay-ayloo itam ay liggéey yu ndaw. Rooti, taxan, mbaa for ndéef daawuleen teree wéy di waxtaan. Léeg-léeg tamit dañ daan toog lu yàgg ci sunu buntu-kër mel ni ñuy xaar dara te fekk xaaruñu tus. Dañ doon jékkee-jékki sànneeku nig fett, daw sàcciy yëf ci biir kër gi, moo xam ngato la mbaa palaat bu màgget ba xuur mbaa leneen. Léeg-léeg, bóoy bi doon wottu tóokër bi, mer sànni leen xeer. Su ko defee ñu daw waaye nees-tuut ñu dellusi toog fa ñu toogoon.'},\n",
       " 27: {'french_corpus': 'Alors nous, nous étions sauvages comme de jeunes colons, sûrs de notre liberté, de notre impunité, sans responsabilités et sans aînés. Quand mon père était absent, quand ma mère dormait, nous nous échappions, la prairie fauve nous happait. Nous courions à toute vitesse, pieds nus, loin de la maison, à travers les hautes herbes qui nous aveuglaient, sautant par-dessus les rochers, sur la terre sèche et craquelée par la chaleur, jusqu’aux cités des termites. Nous avions le cœur battant, la violence débordait avec notre souffle, nous prenions des pierres, des bâtons et nous frappions, frappions, nous faisions écrouler des pans de ces cathédrales, pour rien, simplement pour le bonheur de voir monter les nuages de poussière, entendre crouler les tours, résonner le bâton sur les murs durcis, pour voir s’offrir à la lumière les galeries rouges comme des veines où grouillait une vie pâle, couleur de nacre. Mais peut-être qu’à l’écrire je rends trop littéraire, trop symbolique la fureur qui animait nos bras quand nous frappions les termitières. Nous étions seulement deux enfants qui avaient traversé l’enfermement de cinq années de guerre, élevés dans un environnement de femmes, dans un mélange de crainte et de ruse, où le seul éclat était la voix de ma grand-mère maudissant les « Boches ». Ces journées à courir dans les hautes herbes à Ogoja, c’était notre première liberté. La savane, l’orage qui s’accumulait chaque après-midi, la brûlure du soleil sur nos têtes, et cette expression trop forte, presque caricaturale de la nature animale, c’est cela qui emplissait nos petites poitrines et nous lançait contre la muraille des termites, ces noirs châteaux hérissés contre le ciel. Je crois que je n’ai jamais ressenti un tel élan depuis ce temps-là. Un tel besoin de me mesurer, de dominer. C’était un moment de nos vies, juste un moment, sans aucune explication, sans regret, sans avenir, presque sans mémoire.',\n",
       "  'wolof_corpus': 'Nun nag, ñoo doon njaay-àll yi, nun ñaari doomi tubaab yi, yëg sunu dooley xeet, wóolu sunub sañ-sañ te ñàkk kilifa. Bu Baay génnaan, sama yaay di nelaw, dañ daan rëcc, mel ni ñu àll biy woo te sañuñu koo tànqamlu. Laata nuy àgg dëkki max ya, dañ daan def tànki neen di xélu, di tëb ci kow xer yeek kekk li naaj wi xaratoon. Sunuy xol di pët-pëti ak doole, nu gàdduy xeer ak i yat, àndandoo di dóor ak a dóoraat ba far màbbal jànj yi. Fan lan tegoon loolu ? Fenn. Walla xanaa boog seetaan pënd biy jóg wutali asamaan moo nu neexoon, nu gis ni taax yiy màbbe, dégg ni yat wiy dale ci miir yu dëgër yi. Ak lanati ? Xanaa janook xur wu xonq week puuritam miy pët-pëti. Amaana sax, li may nettali nii maa ngi koy jekk-jekkal ni ab fentaakon, ci lu dul sama coobare. Waaye màndargaal na xadar ja nu daan àndal ba nuy rajaxe ay jànj ca Ogosaa. Maak sama mag, àddinaa ñu tooñoon. Juróomi at yi Tugal di xare yépp, danoo lëlu. Nu yaroo ci biir jigéen ñi, dëkke moytu. Ñépp a ragaloon a wax ca kow ba mu des sama maam ju jigéen ma daan móolu saa su nekkAlmaŋ yi. Kon nun, bés ba nu njëkkee teg tànk Ogosaa sun neexoon ni : « Guléet tey nu ñam cafko moom sa bopp ! » Daanaka noo moomoom lépp lu sunuy bët daan daj. Wànte tamit, lépp a nu daan soppi. Muy àll bi, di ngëlén yi, di asamaan si daan dajale saa yu tàkkusaan jotaan, loolu lépp a daan feesal sunuy dënni gone, daan nu xiir ci song jànj yeek xube yu ñuul ya ni woon jadd, jëm ca kow a kow. Gëm naa ni jamono jooju laa gëj a yëg lu ni mel. Su yaboo sax ma ni ca la fàttee naka la nit di xëccoo ak a dëkkanteek a jaayante doole. Waaye du woon jikko. Jamono la woon. Du lu nu teyoon di ko def. Kon jarul a réccu. Di ko fàttaliku sax, sonal sa bopp la.'},\n",
       " 28: {'french_corpus': 'J’ai pensé qu’il en aurait été autrement si nous étions restés à Ogoja, si nous étions devenus pareils aux Africains. J’aurais appris à percevoir, à ressentir. Comme les garçons du village, j’aurais appris à parler avec les êtres vivants, à voir ce qu’il y avait de divin dans les termites. Je crois même qu’au bout d’un temps, je les aurais oubliés.',\n",
       "  'wolof_corpus': 'Xéy-na mbir mi deme kon na neneen su ñu wéyoon di dëkk Ogosaa. Dellu newaat doomu Afrig, yee kon na ma ci yu bari, ubbi itam sama xol. Doon naa mën a wax ak rabi-àll yi, ñu may tontu. Doon naa xam ni ay max duñuy mbindeefi neen. Miin kon naa gis-gis boobu ba duma ko soxlaa fat ba koy fàtte.'},\n",
       " 29: {'french_corpus': 'Il y avait une hâte, une urgence. Nous étions venus du bout du monde (car Nice était bien un autre bout du monde). Nous étions venus d’un appartement au sixième étage d’un immeuble bourgeois, entouré d’un jardinet où les enfants n’avaient pas le droit de jouer, pour vivre en Afrique équatoriale, au bord d’une rivière boueuse, encerclés par la forêt. Nous ne savions pas que nous allions en repartir. Peut-être que nous avons pensé, comme tous les enfants, que nous allions y mourir. Là-bas, de l’autre côté de la mer, le monde s’était figé dans le silence. Une grand-mère avec ses contes, un grand-père avec sa voix chantante de Mauricien, des camarades de jeu, de classe, tout cela s’était glacé tels des jouets qu’on enferme dans une malle, telles les peurs qu’on laisse au fond des placards. La plaine d’herbes avait aboli tout cela, dans le souffle chaud de l’après-midi. La plaine d’herbes avait le pouvoir de faire battre nos cœurs, de faire naître la fureur, et de nous laisser chaque soir dolents, rompus de fatigue au bord de nos hamacs.',\n",
       "  'wolof_corpus': 'Seetleen rekk : bawoo Niis ca Tugal, ñëw teersi Afrig, du woon lu yomb a dékku. Niis a nga woon ca fu kenn xamul. Dëkk fa ci taaxu-kow bu ñàkk solo, sa baay tere la génn foweek say moroom, àddina faf sàppi la… Waaye bés, Afrig ubbil lay loxoom ni la kaay, yàgg naa laa xaar. Nga sanc ci peggu dex gu baree-bari poto-poto, li ko wër lépp dib àll bu xonq coyy. Masunu woon a xalaat ni dinan fa jógeji bés. Amaana sax, ni xale yépp, yaakaaroon nanu ne foofu lanuy faatoo, ñu suul nu. Nu nekk Afrig ay at, mu mel ni Tugal ga nu fekk baax, bawoo fa, noyyeetul, yëngootul, ni tekktekkaaral. Xanaa léeg-léeg rekk nuy janeer, di déggaat sama baatu maam ju jigéen ak i léebam. Am nay bés it, sama maam ju góor a may ganeseek baatam bu neex ba, baatu doomu réewum Móris. Su weesoo ñaar ñoonu, samay maas xanaa, ña ma doon àndal di dem lekool mbaa di fo. Waaye loolu lépp dafa mujjee dee, mel niy fowukaay yu ñu tëj ci waxande, fàtte leen fa ba ñu pënde. Ak it mbóoti njaboot gi, li kenn ñemewul a tudd. Joorug ñax a teggi woon loolu lépp teg fale, tàngaay bi toj sunuy xol, tàbbal nu ci fitnaak tés-tés ju tar a tar. Ba tax, su guddi jotaan, danuy sonn ba nga ni lii lu mu doon, ni yàcc-yàccaaral.'},\n",
       " 30: {'french_corpus': 'Les fourmis étaient l’antiface de cette fureur. Le contraire de la plaine d’herbes, de la violence destructrice. Y avait-il des fourmis avant Ogoja ? Je ne m’en souviens pas. Ou bien sans doute ces « fourmis d’Argentine », poussière noire qui envahissait chaque nuit la cuisine de ma grand-mère, reliant par des routes minuscules ses jardinières de rosiers en équilibre sur la gouttière et les amas de détritus qu’elle brûlait dans sa chaudière.',\n",
       "  'wolof_corpus': 'Mellentaan yee doon giifal sunu mer, doon safaanub jooru ñax gi. Ndax sax masoon naa gis ay mellentaan laata may dem dëkki Ogosaa ? Leerul ci sama bopp. Su dee amoon na Tugal it, mellentaani Arsaŋtin la woon, baree-bare ba, fees sunnu waañ ba mujjee def pënd bu ñuul kukk, di lëkkale poti rósiyee yeek mbalit ma sama maam daan lakk ci biir jaarukaayam.'},\n",
       " 31: {'french_corpus': 'Les fourmis, à Ogoja, étaient des insectes monstrueux de la variété exectoïde, qui creusaient leurs nids à dix mètres de profondeur sous la pelouse du jardin, où devaient vivre des centaines de milliers d’individus. Au contraire des termites, doux et sans défense, incapables dans leur cécité de causer le moindre mal, sauf celui de ronger le bois vermoulu des habitations et les troncs des arbres déchus, les fourmis étaient rouges, féroces, dotées d’yeux et de mandibules, capables de sécréter du poison et d’attaquer quiconque se trouvait sur leur chemin. C’étaient elles les véritables maîtresses d’Ogoja.',\n",
       "  'wolof_corpus': 'Mellentaani Ogosaa yee fi gënoon a raglu, daan gas seen néeg fa suuf gën a xóote. Lu mat junniy-junni ci ñoom a fa daan dëkkandoo. Ñu wute lool ak max yi. Ñii ñoom, dañoo jàmbure ba dee. Dañ daan ŋeeñ bant yeek dàtti garab yi daanu. Mellentaan yii dañoo xonq, soxor, am i bët ak i ŋaam yu dijj, am daŋar te gaaw ci song képp ku juum ba jaar ci seen yoon. Mellentaan yee doon boroom Ogosaa.'},\n",
       " 32: {'french_corpus': 'Je garde le souvenir cuisant de ma première rencontre avec les fourmis, dans les jours qui ont suivi mon arrivée. Je suis dans le jardin, non loin de la maison. Je n’ai pas remarqué le cratère qui signale l’entrée de la fourmilière. Tout d’un coup, sans que je m’en sois rendu compte, je suis entouré par des milliers d’insectes. D’où viennent-ils ? J’ai dû pénétrer dans la zone dénudée qui entoure l’orifice de leurs galeries. Ce n’est pas tant des fourmis que je me souviens, que de la peur que je ressens. Je reste immobile, incapable de fuir, incapable de penser, sur le sol tout à coup mouvant, formant un tapis de carapaces, de pattes et d’antennes qui tourne autour de moi et resserre son tourbillon, je vois les fourmis qui ont commencé à monter sur mes chaussures, qui s’enfoncent entre les mailles de ces fameuses chaussettes de laine imposées par mon père. Au même instant je ressens la brûlure des premières morsures, sur mes chevilles, le long de mes jambes. L’affreuse impression, la hantise d’être mangé vivant. Cela dure quelques secondes, des minutes, un temps aussi long qu’un cauchemar. Je ne m’en souviens pas, mais j’ai dû crier, hurler même, parce que, l’instant d’après, je suis secouru par ma mère qui m’emporte dans ses bras et, autour de moi, devant la terrasse de la maison, il y a mon frère, les garçons du voisinage, ils regardent en silence, est-ce qu’ils rient ? Est-ce qu’ils disent : Small boy him cry ? Ma mère ôte mes chaussettes, retournées délicatement comme on enlèverait une peau morte, comme si j’avais été fouetté par des branches épineuses, je vois mes jambes couvertes de points sombres où perle une goutte de sang, ce sont les têtes des fourmis accrochées à la peau, leurs corps ont été arrachés au moment où ma mère retirait mes chaussettes. Leurs mandibules sont enfoncées profondément, il  faut les extraire une par une avec une aiguille trempée dans l’alcool.',\n",
       "  'wolof_corpus': 'Maa ngi fàttaliku nañ ma ganale ca dëkk ba. Fi ma toog ci tóokër bi, seetluwuma li ma mën a tudde seen buntu kër, di pax mu réy. Man daal, xawma lu géej giy riir, dama jékkee-jékki rekk gis junniy gunóor wër ma. Fu ñu jóge ? Xam naa dama teg sama tànk fu ma ko warul a teg. Li may gën a fàttaliku du mellentaan yi ci seen bopp, waaye ni ñu yóbboo sama furu-fara, man mii. Ma taxaw fi ma taxaw, ni tekk, sama xel mi yépp jaxasoo. Maa ngi yëg tamit ni suuf siy yëngoo. Gunóor yaa ngiy wéndeelu ba mel ni callweer, tàmbalee yéeg samay dàll, di dugg ci samay kawas, di màtt samay bëti tànk, di mareñ wuti samay pooj. Keroog la ma xalaat bu ñàng doxe ginnaaw : ci diir bu gàtt ba noppi mel ni amul àpp, tollook njattug mbës-mbësaan, ma ne ci sama xel : « Kon daal, am na ñu may lekk te fekk sax deewaguma… ». Xam naa damaa waroon a yuuxu keroog ndax sama yaay a dawsi, fab ma yóbbu. Nu romb sama mag, mu toog ci buntu kër gi, mook yeneeni goney Ogosaa. Ñoom ñépp ñu ni tekk di nu seetaan. Mbaa du dañu may ñaawal ndax sama yuuxu yu metti yi, naan Small boy him cry? Sama yaay summi samay kawas, di leen wëlbati ndànk, ni ñuy lellee der bu dee. Mu mel ni dañ ma dóor ciy tànk ak yar bu am i dég, ñu fees ak i tip-tip yu ñuul. Toqu deret bu ci nekk, soo ko xoolee bu baax fekk fa boppu mellentaan. Maa ngi gisaat sama yaay mu leen di sekki benn-benn ak puso bu ñu soos ci alkol.'},\n",
       " 33: {'french_corpus': 'Une anecdote, une simple anecdote. D’où vient que j’en garde la marque, comme si les morsures des fourmis guerrières étaient encore sensibles, que tout cela s’était passé hier ? Sans doute est-ce mêlé de légende, de rêve. Avant ma naissance, raconte ma mère, elle voyage à cheval dans l’ouest du Cameroun, où mon père est médecin itinérant. La nuit, ils campent dans des « cases de passage », de simples huttes de branches et de palmes au bord du chemin, où ils accrochent leurs hamacs. Un soir, les porteurs sont venus les réveiller. Ils portent des torches enflammées, ils parlent à voix basse, ils pressent mon père et ma mère de se lever. Quand ma mère raconte cela, elle dit que ce qui l’a d’abord alarmée, c’est le silence, partout, alentour, dans la forêt, et les chuchotements des porteurs. Dès qu’elle est debout, elle voit, à la lumière des torches : une colonne de fourmis (ces mêmes fourmis rouges encadrées de guerrières) qui est sortie de la forêt et qui commence à traverser la case. Une colonne, plutôt un fleuve épais, qui avance lentement, sans s’arrêter, sans se soucier des obstacles, droit devant, chaque fourmi soudée à l’autre, dévorant, brisant tout sur son passage. Mon père et ma mère ont juste le temps de rassembler leurs affaires, vêtements, sacs de vivres et de médicaments. L’instant d’après, le fleuve sombre coule à travers la case.',\n",
       "  'wolof_corpus': 'Gone gu ay mellentaan màtt, ban solo la am ? Amul benn solo. Moonte maa ngi wéy di ko nettali tey, di yëgaat metit wi, mu mel ni bërkidémboonjaay rekk la ma dal. Ñàkkul gént ak janeer rax ci mbir mi. Laata may juddu, Baay da daan war fas, di wër sowu jantu Kamerun, dëkkoo-dëkk mu taxaw fa, ku feebar mu faj la. Benn guddi, yenukat yi ñëw ak seeni làmp yee leen. Saa yu sama yaay daan nettali xew-xewi guddi googu, fàww mu yéemuwaat ca tekk-tekkaaral ga. Su weesoo yenukat yi doon ŋun-ŋuni, benn kàddu jibul. Loolu biral ni lu réy a ngi woon ci yoon wiy ñëw. Sama yaay dafa tëb ci lal bi, janook naaxi mellentaan yu xonq ak yu ñuul. Ñu nga bawoo woon ci àll bi, tàmbalee xuus nag, war a jaar ci néeg bi. Li ma tudde naax, daanaka dexu mellentaan la woon. Yàkkamtiwuñu, de. Ñu ngay dox ndànk, du dara lu leen mën a tee wéy di dem. Bu ci nekk a ngi sës ca moroom ma, ñu topp seen yoon rekk, gumba, tëx. Ñu ngay ŋeeñ it, lu ñu romb rajaxewaale ko. Baay ak sama yaay daldi gaawtu roñ seeni yéreek lépp lañu waroon a rawale, abal leen. Ci la dex gu ñuul gi, dexug mellentaan yi, tàmbalee wal ci diggu néeg bi.'},\n",
       " 34: {'french_corpus': 'Cette histoire, combien de fois ai-je entendu ma mère la raconter ? Au point de croire que cela m’était arrivé, de mêler le fleuve dévorant au tourbillon de fourmis qui m’avait assailli. Le mouvement de giration des insectes autour de moi ne me quitte pas, et je reste figé dans un rêve, j’écoute le silence, un silence aigu, strident, plus effrayant qu’aucun bruit au monde. Le silence des fourmis.',\n",
       "  'wolof_corpus': 'Xew-xew boobu, ñaata yoon laa dégg sama yaay di ko nettali ? Du benn, du ñaar. Dama mujjee dem ba yaakaar ne man mii maa dund loolu ci dëgg-dëgg, mu jaxasoo ci sama xel ak bés ba may mellentaan singalee ca Ogosaa. Ñu ngi ma wër-ndomb, di dem ak a dikk. Man ma taxaw ne yàcc, di xullee. Waaye it maa ngi may nopp tekk-tekkaaral gi. Dafa sew, leew, gën a raglu mbooleem riiri dunyaa yépp. Tekkug mellentaan yi.'},\n",
       " 35: {'french_corpus': 'À Ogoja, les insectes étaient partout. Insectes de jour, insectes de nuit. Ceux qui répugnent aux adultes n’ont pas le même effet sur les enfants. Je n’ai pas besoin de faire de grands efforts d’imagination pour voir surgir à nouveau, chaque nuit, les armées de cafards – les cancrelats, comme les appelait mon grand-père, sujets d’une sirandane : kankarla, nabit napas kilot, il porte un habit, mais n’a pas de culotte. Ils sortaient des fissures du sol, des lattes de bois du plafond, ils galopaient du côté de la cuisine. Mon père les détestait. Chaque nuit, il parcourait la maison, sa torche électrique d’une main, sa savate dans l’autre, pour une chasse vaine et sans fin. Il était persuadé que les cafards étaient à l’origine de beaucoup de maladies, y compris du cancer. Je me souviens de l’entendre dire : « Brossez bien les ongles des pieds, sinon les cancrelats viendront les ronger dans la nuit !» Pour nous, enfants, c’étaient des insectes comme les autres. Nous leur faisions la chasse et nous les capturions, sans doute pour les relâcher du côté de la chambre des parents. Ils étaient gras, d’un brun rougeâtre, très luisants. Ils volaient lourdement.',\n",
       "  'wolof_corpus': 'Xeetu gunóor wu waay mën a xalaat a nga woon Ogosaa. Ay gunóori bëccëg ak i gunóori guddi te mag ñi di leen gën a séexlu xale yi. Guddi gu Yàlla sàkk, naaxi mbóot laa daan gis ci kër gi. Ca Tugal, sama maam ju góor a nga leen daan woowe ‘kànkarlaa’, di dem ba ciy jukkiy cax, di woy ci kàllaama kerewol kànkarla, nabit nàppaa kilot, « mbóot sol na yére waaye teewu koo def taatu neen ». Mbóot yi dañu daan génne fu nekk, di kurti-kurti ci wetu waañ wi. Ñoom rekk la Baay bañoon. Daawul tëri te wërul kër geek làmpu torsam di leen rëbb, bu mu ci gis rey laak dàllu caraxam. Teewul ñu doon gën a bare ci kër gi ngoon gu jot. Ci gis-gisu Baay, feebar yu bare ci mbóot yi lañ doon jóge, ba ci sax kañseer. Tàmmoon na di nu naan : « Fompleen bu baax seeni wewi tànk, lu ko moy mbóot yi danañ ñëw ŋeeñ leen bu guddee ! » Loolu, ay waxi mag kese la woon ci nn. Nun xale yi, mbóot ak yeneen gunóor yi lañuy yemale woon. Dañ leen daan rëbb, suñ leen jàppee sànni leen sama wetu néegu yaay. Ay mbóot yu duuf sax, ba noppi tikk ba mel ni lu xonq, di nes-nesi, xaw a tëlee naaw.'},\n",
       " 36: {'french_corpus': 'Nous avions découvert d’autres compagnons de jeu : les scorpions. Moins nombreux que les cafards, mais nous avions notre réserve. Mon père, qui redoutait notre turbulence, avait installé sous la varangue, du côté le plus éloigné de sa chambre, deux trapèzes faits de bouts de corde et de vieux manches d’outils. Nous utilisions les trapèzes pour un exercice particulier : suspendus par les jambes et la tête en bas, nous relevions délicatement la natte de paille que mon père avait mise pour amortir une éventuelle chute, et nous regardions les scorpions se figer dans une posture défensive, les pinces dressées et leur queue pointant son dard. Les scorpions qui vivaient sous le tapis étaient généralement petits, noirs, probablement inoffensifs. Mais de temps à autre, le matin, ils avaient été remplacés par un spécimen plus grand, de couleur blanche tirant sur le jaune, et nous savions instinctivement que cette variété pouvait être venimeuse. Le jeu consistait, du haut du trapèze, à taquiner ces animaux avec un brin d’herbe ou une brindille, et à les regarder tourner, comme aimantés, autour de la main qui les agressait. Ils ne piquaient jamais l’instrument. Leurs yeux endurcis savaient faire la différence entre l’objet et la main qui le tenait. Pour corser l’affaire il fallait donc, de temps en temps, lâcher la brindille et avancer la main, puis la retirer prestement au moment où la queue du scorpion fouettait.',\n",
       "  'wolof_corpus': 'Ogosaa, xaritoo woon nan faak yeneen gunóor : jiit yi. Bariwuñu woon ni mbóot yi, wànte xamoon nanu fan lañ doon làqatu. Baay dafa nu defaraloon benn fowukaay bu tudd « taraapees », ngir nu bañ koo sonal. Ca lanu daan toog, yëkkati ndànk basaŋ gi ngir bett jiit ya fa daan nëbbëtook seen keppukaay ak seen geen gu ñaw ni dég. Ay jiit yu tuuti lañu woon te ñuul, mu leer nu ne amuñu daŋar. Waaye léeg-léeg yeneeni jiit yu gën a réy wuutu leen. Boo leen giseek seen weexaay bu xëcc ci puur, njort ni ñii moom war nañoo am daŋar. Sunu po mi, nii la daan tëdde : ci kow « taraapees » bi lanuy toog di cokkaas jiit yeek bantu bale, di seet ba xam dinañ jam bale bi. Wànte seen bët yi ne woon xóll daawuñu jaawaatle mukk jumtukaay beek loxo bi ko téye. Ngir gën a jafeel mbir mi, dañu daan bàyyi léeg-léeg bantu bale bi, tàllal leen benn baaraam, su jiit ji tàmbalee yëngal geen gi nu gaawtu delloosi sunu loxo.'},\n",
       " 37: {'french_corpus': 'J’ai du mal aujourd’hui à me souvenir des sentiments qui nous animaient. Il me semble qu’il y avait dans ce rituel du trapèze et du scorpion quelque chose de respectueux, un respect évidemment inspiré par la crainte. Comme les fourmis, les scorpions étaient les vrais habitants de ce lieu, nous ne pouvions être que des locataires indésirables et inévitables, destinés à nous en aller. Des colons, en somme.',\n",
       "  'wolof_corpus': 'Dina ma jafe tey ma wax lu nu doon tax a def loolu. Xéy-na dan leen doon ormaal, worma juy biral ni nu leen ragale woon. Mellentaan yeek jiit yee moomoon kër gi, nun nu fay ay doxandéem doŋŋ. Xamuñu woon nuñ nuy def waaye it leeroon na leen ni, lu mu yàgg-yàgg, dinan leen mas a abali. Ci gàttal, danu leen a jaay doole, ñëw ba ci seen biir kër sanc fa.'},\n",
       " 38: {'french_corpus': 'Les scorpions furent un jour au centre d’une scène dramatique, dont le souvenir fait encore battre mon cœur aujourd’hui. Mon père (ce devait être un dimanche matin, car il était à la maison) avait découvert dans un placard un scorpion de la variété blanche. En fait, une femelle scorpion, qui transportait sa progéniture sur son dos. Mon père aurait pu l’aplatir d’un coup de sa fameuse savate. Il ne l’a pas fait. Il est allé chercher dans sa pharmacie un flacon d’alcool à 90°, il en a aspergé le scorpion et a gratté une allumette. Pour une raison que j’ignore, le feu a d’abord pris autour de l’animal, en formant un cercle de flammes bleues, et la femelle scorpion s’est arrêtée dans une posture tragique, les pinces levées au ciel, son corps bandé dressant au-dessus de ses enfants son crochet à venin au bout de sa glande, parfaitement visible. Une deuxième giclée d’alcool l’a d’un seul coup embrasée. L’affaire n’a pas pu durer plus de quelques secondes, et pourtant j’ai l’impression d’être resté longtemps à regarder sa mort. La femelle scorpion a tourné plusieurs fois sur elle-même, sa queue agitée d’un spasme. Ses petits étaient déjà morts et tombaient de son dos, recroquevillés. Puis elle s’est immobilisée, ses pinces repliées sur sa poitrine dans un geste de résignation, et les hautes flammes se sont éteintes.',\n",
       "  'wolof_corpus': 'Jiit yi may wax nag, am na ci benn boo xam ne lu doy waar, lu kéemaane, dal na ko bés, ndeysaan. Li ma koy a waaj a nettali nii rekk sax mu ngi yëngal samag naw, may yëg xaat tiis wu réy. Bésub dibéer la woon, ci suba. Baay gis jiit ju xaw a weex ji, te dijj, doonoon bi am daŋar. Jiit ju jigéen la woon, ndax mu ngi bootoon njabootam. Baay manoon na koo nappaaje ak dàllam, na mu ko tàmme woon def. Waaye bii yoon dafa wis alkol ci kow jiit ji, xosi almet sànni. Gunóor gi tàkkul ci saa si ndax ni ko safara si wëre. Mu des ci géew bi, xamatul nu muy def ak doom yi mu boot. Xanaa rekk taxaw, yëkkatiy keppukaayam ca kow, di xaar. Noonu, Baay sottiwaat leen alkol, ñu tàkk jëppét, mook doom yi. Mbir mee gënoon a gaaw xef ak xippi. Ndaxam meloon na ni toogoon naa lu yàgg janook jiit ji muy tàkk, di wëndéelu ba sedd guyy. Bala nu gunóor yi daan léjal dëgg, guddi jot, ba ñu taal làmp yi. Dañoo meloon ni ñuy defanteek nun. Ay naaxi-naaxi gunóor a doon song néeg bi. Su xiinaan bay waaj a taw lañ daan gën a ràkkaaju. Baay daf daan tëj bunt yeek palanteer yi, defar sànke yi, wànte daanaka bëre nen ak doj la woon. Kenn mënul woon dara ci gunóor yi. Nun, danu daan patam-patamee sunu reer ngir mën gaaw a daw dugg ci biir sànke ya. Waaye dara. Kenn xamul na ñu tollu, ñu ngay dal ci palanteer yi, làmpu petorool bi di leen xëcc, ñuy jaar ci xarante palanteer yi. Su ñu duggaan ci saal bi, dañ fay ne di wëndéelu bay miir, ba far lakk ci weer bi. Sindax yaa nga ni noŋŋ ci kow miir yi, saa yu ňu wannee gunóor daldi sab.'},\n",
       " 39: {'french_corpus': 'Chaque nuit, dans une sorte de revanche du monde animal, la case était envahie par des myriades d’insectes volants. Certains soirs, avant la pluie, ils étaient une armée. Mon père fermait les portes et les volets (il n’y avait pas de carreaux aux rares fenêtres), dépliait les moustiquaires audessus des lits et des hamacs. C’était une guerre perdue d’avance. Dans la salle à manger, nous nous dépêchions de manger la soupe d’arachide, pour pouvoir gagner l’abri des moustiquaires. Les insectes arrivaient par vagues, on les entendait s’écorcher sur les volets, attirés par la lumière de la lampe à pétrole. Ils passaient par les interstices des volets, sous les portes. Ils tourbillonnaient follement dans la salle, autour de la lampe, se brûlaient contre le verre. Aux murs, là où la lumière se reflétait, les margouillats lançaient leurs petits cris chaque fois qu’ils avalaient une proie. Je ne sais pourquoi, il me semble qu’à aucun autre endroit je n’ai ressenti cette impression de famille, de faire partie d’une cellule. Après les journées brûlantes, à courir dans la savane, après l’orage et les éclairs, cette salle étouffante devenait pareille à la cabine d’un bateau fermée contre la nuit, tandis qu’au-dehors se déchaînait le monde des insectes. Là j’étais vraiment à l’abri, comme à l’intérieur d’une grotte. L’odeur de la soupe d’arachide, du foufou, du pain de manioc, la voix de mon père avec son accent chantant, en train de raconter les anecdotes de sa journée à l’hôpital, et le sentiment du danger au-dehors, l’armée invisible des papillons de nuit qui frappait les volets, les margouillats excités, la nuit chaude, tendue, non pas une nuit de repos et d’abandon comme autrefois, mais une nuit fiévreuse, harassante. Et le goût de la quinine dans la bouche, cette pilule extraordinairement petite et amère qu’il fallait avaler avec un verre d’eau tiède puisée au filtre avant d’aller se coucher, pour prévenir la malaria. Oui, je crois que je n’ai jamais connu de tels moments d’intimité, un tel mélange de rituel et de familier. Si loin de la salle à manger de ma grand-mère, du luxe rassurant des vieux fauteuils de cuir, des conversations endormissantes et de la soupière fumante, décorée d’une guirlande de houx, dans la nuit calme et lointaine de la ville.',\n",
       "  'wolof_corpus': 'Guddi yu ni mel, dañ ma doon xalaatloo ni maak samay way-jur danoo war a doon benn, jàppoo. Bu weesoo jamono jooju, du benn yoon bu ma yëgaatee noonu ni noo bokk deret, bokk xeet. Xanaa li nu doon téju ci saal bi su ngoon jotee, di dal-lu ci tés-tés ju metti ja nu daan yendoo ci naaj wu tàng wi, moo juroon xalaat yooyu. Ci dëgg-dëgg, saal bi dootul xottu néeg, xunt la may gën a jox, nun ñépp nu làqu ci biir. Ñam yiy xeeñ – soosu gerte, fufu, mburu walla ňàmbi. Nuy déglu Baay muy nettali na mu yendoo. Lëppaa-lëppi guddi yeek yeneen gunóor yaa ngiy wéy di dal, sindax yi gënatee ràŋŋatiku, biti bi raglu ba nga ni lii lu mu doon. Guddi gii kay, ak tàngaayam bu tar, du guddig féexlu. Wute na lool ak sunuy guddiy bàyyeeku Tugal ya. Fii, coonook fitna rekk a fi am. Mayleen ma, ma sóorale ci nettali bi doomi niwaakin yu tuuti ya te wex xàtt. Du bés bu nu mas a tëri te ku nekk ci nun jëlu ci benn, ngir aar sibbiru si. Ma koy fàttaliku, aada ak miineel daldi joxante loxo ci saa si. Waaw, gëm naa ne masumaa yëg lu ni mel ci sama xol. Sama kër maam ju jigéen sore woon na fa, walla ! Kër gu set wecc, ak i jekk-jekkalam, ay toogu yu màgget, ñépp di ŋun-ŋuni, waxtaan wi géey lool, sax. Guddig Tugal, ne tekk-tekkaaral ci biir xolub dëkku-taax bu réer ci jaww ji.'},\n",
       " 40: {'french_corpus': 'Mon père est arrivé en Afrique en 1928, après deux années passées en Guyane anglaise comme médecin itinérant sur les fleuves. Il en est reparti au début des années cinquante, lorsque l’armée a jugé qu’il avait dépassé l’âge de la retraite et qu’il ne pouvait plus servir. Plus de vingt ans durant lesquels il a vécu en brousse (un mot qu’on disait alors, qu’on ne dit plus aujourd’hui), seul médecin sur des territoires grands comme des pays entiers, où il avait la charge de la santé de milliers de gens.',\n",
       "  'wolof_corpus': 'Ci atum 1928 la Baay jëkk a teg tànk Afrig. Fekk na booba mu def ñaari at ci Guwiyaan bi ci moomeelu Àngalteer. Ndoorteelu atum 1950 la ko làrme bi yewwi, mu noppalu liggéey, jóge Afrig. Kon, dund na lu ëpp ňaar-fukki at ci àll bi. « Àll bi » : ñaari baat yu fi siiwoon te tey ñépp ragal leen a jëfandikoo. Moom kenn a doon doktoor ci ay diiwaan yu yaatoo niy réewi lëmm, war faa faj ay junniy-junni nit.'},\n",
       " 41: {'french_corpus': 'L’homme que j’ai rencontré en 1948, l’année de mes huit ans, était usé, vieilli prématurément par le climat équatorial, devenu irritable à cause de la théophylline qu’il prenait pour lutter contre ses crises d’asthme, rendu amer par la solitude, d’avoir vécu toutes les années de guerre coupé du monde, sans nouvelles de sa famille, dans l’impossibilité de quitter son poste pour aller au secours de sa femme et de ses enfants, ou même de leur envoyer de l’argent.',\n",
       "  'wolof_corpus': 'Atum 1948 lanu gisantewaat. Awma woon lu dul juróom-ñetti at. Teewul ma gis ci saa si ni mu sonnee, àddina soof ko, teel koo màggetloo. Ginnaaw dafa amoon aasma, da daan jël téwófilin, garab googu tax koo gënatee naqadi deret. Saa yu xelam demaan ci at yi ko Ñaareelu Xare Réewi Tubaab yi teqaleek njabootam, da doon gën a xund, mere ku ko deful dara. Juróomi at yu mu mënul a génn Afrig, dem wallu soxnaam ak seen ñaari doom. Mënuleen woon sax yónnee xaalis.'},\n",
       " 42: {'french_corpus': 'La plus grande preuve d’amour qu’il a donnée aux siens, c’est lorsqu’en pleine guerre, il traverse le désert jusqu’en Algérie, pour tenter de rejoindre sa femme et ses enfants et les ramener à l’abri en Afrique. Il est arrêté avant d’atteindre Alger et il doit retourner au Nigeria. Ce n’est qu’à la fin de la guerre qu’il pourra revoir sa femme et faire la connaissance de ses enfants au cours d’une brève visite dont je ne garde aucun souvenir. De longues années d’éloignement et de silence, pendant lesquelles il a continué d’exercer son métier de médecin dans l’urgence, sans médicaments, sans matériel, tandis que partout dans le monde les gens s’entre-tuaient – cela devait être plus que difficile, cela devait être insoutenable, désespérant. Il n’en a jamais parlé. Il n’a jamais laissé entendre qu’il y ait eu dans son expérience quoi que ce soit d’exceptionnel. Tout ce que j’ai pu savoir de cette période, c’est    ce que ma mère a raconté, ou qu’elle a livré parfois dans un soupir : « Ces années de guerre loin l’un de l’autre, c’était dur… » Encore ne parlait-elle pas d’elle-même. Elle voulait dire l’angoisse d’être prise au piège de la guerre, pour une femme seule et sans ressources avec deux enfants en bas âge. J’imagine que, pour beaucoup de femmes en France, cela a dû être difficile, avec un mari prisonnier en Allemagne, ou disparu sans laisser de traces. Sans doute pour cela cette époque terrible m’a-t-elle paru normale. Les hommes n’étaient pas là, il n’y avait autour de moi que des femmes et des gens très âgés. Ce n’est que longtemps après, quand l’égoïsme naturel aux enfants s’est estompé, que j’ai compris : ma mère, en vivant loin de mon père, avait pratiqué du fait de la guerre un héroïsme sans emphase, non par inconscience ni par résignation (même si la foi religieuse avait pu lui être d’un grand secours), mais par la force que faisait naître en elle une telle inhumanité.',\n",
       "  'wolof_corpus': 'Liy firndeel cofeel gu réy gi mu amoon ci doom yeek jabar ji, moo di ne bés dafa ni fàww mu fekki leen Tugal, indi leen Afrig, ñu mucc ci Xare bi. Mujjewul a àntu waaye lu mu bon bon jéem na. Jot naa jàll màndiŋ mi ba àgg Alseri, ñu téye ko fa, ñàkk pexe tax koo dellu Niseryaa. Ci ginnaaw gi la door a gisaat jabar ji, xaw a miinal boppam doom yi. Ngan gu gàtt googu, dara laa ci fàttalikuwul. Lu yàgg déggu ñu, déggunu ko, muy wéy di liggéey Afrig ci anam yu jafe. Lépp jamp, garab ak jumtukaay nàkk, xare bu metti rëbloo dunyaa, reyante bi ne kurr. Loolu yombutoon a dékku, yaakaar ju tas xajoon na ci. Moonte Baay masul a ŋaaŋ wax ci. Du woon nit kuy fëgg dënnam di bàkku. Déedéet. Sunu yaay daal moo daan sànni léeg-léeg ci waxtaan wi kàddu yu mel ni : « Wax dëgg Yàlla, li nu mënatul woon a gise ndax xare bi, metti woon na… » Te sax, du boppam a ko taxoon di wax. Dafa doon jéem a wone rekk ni jamono ju jafe woon la ci jigéen ñépp, rawati-na ci moom mi yoroon ňaari tuut-tànk te amul lu mu leen dundale. Jigéen ñu bare, Almaŋ yee jàppoon seen jëkkër tëj ; amoon na it ci boroom-kër yooyu ñu kenn xamul ndax ñu ngi dund ba tey am déet. Ak nu mu mënoon a deme, lii moom wóor na : bi góor ñi demee xareji, ay jigéen ak i màgget ñoo ma wër. Ba tax ak li xare biy metti yépp, yëguma ci dara. Teg nañ ciy ati-at ma door a jëli ni jigéen, ni góor di wonee njàmbaar ci toolu-xare, la mën a toog biir këram moom tamit, wone fa njàmbaar gu ni tollu. Ni sama yaay daan doxalee ci geer bi, firnde la ci.'},\n",
       " 43: {'french_corpus': 'Était-ce la guerre, cet interminable silence, qui avait fait de mon père cet homme pessimiste et ombrageux, autoritaire, que nous avons appris à craindre plutôt qu’à aimer ? Était-ce l’Afrique ? Alors, quelle Afrique ? Certainement pas celle qu’on perçoit aujourd’hui, dans la littérature ou dans le cinéma, bruyante, désordonnée, juvénile, familière, avec ses villages où règnent les matrones, les conteurs, où s’exprime à chaque instant la volonté admirable de survivre dans des conditions qui paraîtraient insurmontables aux habitants des régions plus favorisées. Cette Afrique-là existait déjà avant la guerre, sans aucun doute. J’imagine Douala, Port Harcourt, les rues encombrées de voitures, les marchés où courent les enfants luisant de sueur, les groupes de femmes parlant à l’ombre des arbres. Les grandes villes, Onitsha et son marché aux romans populaires, la rumeur des bateaux poussant les grumes sur le grand fleuve. Lagos, Ibadan, Cotonou, le mélange des genres, des peuples, des langues, le côté drolatique, caricatural de la société coloniale, les hommes d’affaires en complets et chapeaux, parapluies noirs impeccablement roulés, les salons surchauffés où s’éventent les Anglaises en robes décolletées, les terrasses des clubs où les agents de la Lloyd’s, de la Glynn Mills, de la Barclay’s fument leurs cigares en échangeant des mots sur le temps qu’il fait – old chap, this is a tough country – et les domestiques en habit et gants blancs qui circulent en silence en portant les cocktails sur des plateaux d’argent.',\n",
       "  'wolof_corpus': 'Mbaa du li dunyaa ni woon tekk ci xare bee soppi woon Baay ba tax mu jàpp njàmburam, bëgg ku mu yilif, naqadee dëkkal ? Walla boog Afrig a ko mujjee mel-loo noonu ? Gan Afrig, boog ? Xam. Li ma wóor, daal, moo di ne du Afrig gii bindkat yeek defarkati film yiy wone, xumb, takkarnaase, te ndóol bu jéggi dayo terewul nit ñiy wéy di dàq seen bànneex subaak ngoon. Loolu, leer na ci xelu ñépp. Leer nàññ sax, la def. Laata geer biy kalaate, noonu la Afrig meloon. Ku yabu seet ko ci dëkk yu mel ni Poor-Arkuur mbaa Duwaalaa : woto yu bare yiy rombante ci tali bi, xale yiy dóor-dàqe ci biir màrse yi, ñaq tooy xepp ak jeeg jiy féexlu ci keppaaru garab yi. Legoos, Ibadaŋ ak Kótónu, naka noonu. Askan yeek làkk yi jaxasoo. Mënoon naa sax limaale Onitsaa ak màrseem ba nga xam ni daanaka téereb nettali bu la réer ci dunyaa soo fa demee ñu jaay la ko. Te ci xeet yooyu ma tudd, Àngale yi kenn demul ñu des. Ni ñu yëge seen bopp, di jaay maanaa, mu méngook seen colin, dafa rekk reelu. Foo séenee ay kompalet ak i sàppo, dóoral yat, ñoom a. Seeni jigéen, ñoom, ñu nga leen doon xàmmee seeni yére yu tegginewul woon lool. Ñoom ñépp nag, Àngale yooyu, di daje ci seeni màkkaani bopp, di wax ay waxi picc. Fàww ñu ràññee ci gaa ñooñu liggéeykati Lloyd’s ya mbaa yu Glynn Mills ak Barclay’s. Foo leen fekk ñu ngay xëcc ci seeni sigaar, lu ñor ñu wax, lu ñorul ñu wax, di jëw ak déeyante. Léeg-léeg kenn ci ñoom ni : « Mbër, neexul ba neexul waaye dëkk bii du dëkku como, de ! » Bóoy yi ñoom, ñu ngiy jaabanteek ay ndab yu ñu teg i kaasi sàngara, ku ne ñu ni la ko jabb te du benn yoon booy dégg seen baat.'},\n",
       " 44: {'french_corpus': 'Mon père m’a raconté un jour comment il avait décidé de partir au bout du monde, quand il a eu terminé ses études de médecine à l’hôpital Saint Joseph d’Elephant & Castle, à Londres. Étant boursier du gouvernement, il devait effectuer un travail pour la communauté. Il fut donc affecté au département des maladies tropicales à l’hôpital de Southampton. Il prend le train, débarque à Southampton, s’installe dans une pension. Son service ne débutant que trois jours plus tard, il flâne en ville, va voir les navires en partance. À son retour à la pension, une lettre l’attend, un mot très sec du chef de l’hôpital disant : « Monsieur, je n’ai pas encore reçu votre carte de visite. » Mon père fait donc imprimer les fameuses cartes (j’en ai encore un exemplaire), juste son nom, sans adresse, sans titre. Et il demande son affectation au ministère des Colonies. Quelques jours plus tard, il s’embarque à destination de Georgetown, en Guyane. Sauf pour deux brefs congés, pour son mariage puis pour la naissance de ses enfants, il ne reviendra plus en Europe jusqu’à la fin de sa vie active.',\n",
       "  'wolof_corpus': 'Baay mas na maa nettali naka la xéye bés laxas, wuti dëkk bu soree-sori. Ginnaaw gornmaa bee ko jàppale woon ba muy jàng ca benn loppitaanu Londar, dafa waroon a delloo askanu Àngalteer njukkal, liggéeyal ko ab diir. Ñu jël ko ca loppitaanu Saawusamton, mu war fay faj ña feebari Afrig yi dal. Saxaar wàcce ko fa, ñu ni ko mu xaar ñetti fan door a tàmbalee liggéey. Bés, mu dem doxantu ci tàkkal-dex gi ba delsi, fekk këram benn bataaxal. Muy kàddu yu gàtt, te tukkee ci kilifag loppitaan bi : “ Góor gi, jotaguma ba tey sab kàrt de wisit.” Laata mu fay dem, Baay móol-lu na, gaa, ab kàrt – maa ngi ceek benn ba tey – wànte turam doŋŋ a ca nekkoon, bindu ci woon fa mu dëkk astemaak li muy liggéey. Ñàkk tegginu direkteer bi merloo ko, mu daldi ñaan ci saa si ñu yóbbu ko feneen. Ñu teg ciy fan, mu dugg gaal, teeri Sorstaawun, ca Guwiyaan. Ba ni muy demee alaateret, ñaari yoon la delsi Tugal.'},\n",
       " 45: {'french_corpus': 'J’ai essayé d’imaginer ce qu’aurait pu être sa vie (donc la mienne) si, au lieu de fuir, il avait accepté l’autorité du chef de clinique de Southampton, s’était installé comme médecin de campagne dans la banlieue londonienne (ainsi que mon grand-père l’avait fait dans la banlieue parisienne), à Richmond, par exemple, ou même en Écosse (un pays qu’il avait toujours aimé). Je ne veux pas parler des changements que cela aurait procurés à ses enfants (car naître ici ou là n’a pas dans le fond une importance considérable). Mais ce que cela aurait changé en l’homme qu’il était, qui aurait mené une vie plus conforme, moins solitaire. De soigner des enrhumés et des constipés, plutôt que des lépreux, des impaludés ou des victimes d’encéphalite léthargique. D’apprendre à échanger, non sur le mode exceptionnel, par gestes, par interprète, ou dans cette langue élémentaire qu’était le pidgin English (rien à voir avec le créole de Maurice raffiné et spirituel), mais dans la vie de tous les jours, avec ces gens pleins d’une banalité qui vous rend proche, qui vous intègre à une ville, à un quartier, à une communauté.',\n",
       "  'wolof_corpus': 'Waaw, su Baay merul woon, gedd Saawusamton, naka la sunu dundin deme kon ? Dëgg la, lu bari doon na ci soppiku. Wànte buñ ko seetee bu baax juddoo fii walla faa amul solo. Li jar a laajte kay, mooy lii : Baay ci boppam, kan la doon kon ? Nekk doktoor, di liggéeye Rismond mbaa sax Ekos – réew mu mu masoon a sopp, nag – di faj ay nit ñu soj mbaa ñu seere wute naak dëkke faj i gaana ci Afrig. Coppite gi may njort doon na àgg ba ci waxinam ak ni muy jokkook ñeneen ñi. Làpptoo ko naroon a jàppale, xam naa, walla muy làkk « pijinu » àngale – bi jotewul daraak kerewolu dunu Móris bu sell ba te yiw. Ci gàttal, benn kàddu mën naa tënk li may bëgg wax, te mooy : maasaloo. Su Baay toogoon Tugal, du xéy ba dégg lu mu masul a dégg. Te it képp ku mu faj, dina jàpp ne mook moom benn lañu, bokk waaso. Maasaloo. Walla sax seey ?'},\n",
       " 46: {'french_corpus': 'Il avait choisi autre chose. Par orgueil sans doute, pour fuir la médiocrité de la société anglaise, par goût de l’aventure aussi. Et cette autre chose n’était pas gratuite. Cela vous plongeait dans un autre monde, vous emportait vers une autre vie. Cela vous exilait au moment de la guerre, vous faisait perdre votre femme et vos enfants, vous rendait, d’une certaine façon, inéluctablement étranger.',\n",
       "  'wolof_corpus': 'Deful loolu. Moom kay, la gën a jafe la taamu. Te dara dugalu ko ci woon lu dul yëg boppam ak ñeme lu metti. Mu jaral ko lu ne nag, ba ci gàddaay dem fu sori, xare bi kalaate mu bàyyi njabootam Tugal, dëkk béréb bu mu xamul kenn, kenn xamu ko fa, saa yu rombee nit kooku naan ci xelam : « Moo, doxandéem bii, lan la fiy def ? »'},\n",
       " 47: {'french_corpus': 'La première fois que j’ai vu mon père, à Ogoja, il m’a semblé qu’il portait des lorgnons. D’où me vient cette idée ? Les lorgnons n’étaient déjà plus très courants à cette époque. Peut-être qu’à Nice quelques vieux de la vieille avaient conservé cet accessoire, que j’imagine seyant parfaitement à d’anciens officiers russes de l’armée impériale, arborant moustache et favoris, ou bien inventeurs ruinés qui fréquentaient mes « tantes ». Pourquoi lui ? En réalité, mon père devait porter des lunettes à la mode des années trente, fine monture d’acier et verres ronds qui reflétaient la lumière. Les mêmes que je vois sur les portraits des hommes de sa génération, Louis Jouvet ou James Joyce (avec qui il avait du reste une certaine ressemblance). Mais une simple paire de lunettes ne suffisait pas à l’image que j’ai gardée de cette première rencontre, l’étrangeté, la dureté de son regard, accentuée par les deux rides verticales entre ses sourcils. Son côté anglais, ou pour mieux dire britannique, la raideur de sa tenue, la sorte d’armature rigide qu’il avait revêtue une fois pour toutes.',\n",
       "  'wolof_corpus': 'Lan moo dugal sama bopp bi ne bés bi ma jëkkee gis Baay ca Ogosaa, xeetu lonet yooyu ñu mën a woowe xoolukaay la takk ? Xawma nan la ma xalaat boobu dikkee. Fekkoon na sax lonet yooyu xewwi. Amaana ay màgget dencoon ko ca Niis, di ko fàttalikoo seenug ngone. Walla boog ay ófisey làrme bu Riisi mbaa yenn boroom xam-xam ya daan seetsi samay « bàjjan» ñoo ko dese woon. Ci dëgg-dëgg, bëggoon naa xam fu xalaat boobu jóge woon ba song ma. Li wóor daal, moo di ne Baay daan na tàkk i lonet yi xewoon ci at yi soriwul atum 1930. Mooy ya ñu tëgge woon weñ gu sew ba noppi ànd ak weer yu mërgalu te Luwi Suweek Sams Sooys (niróowaaleem ba) daan leen takk. Waaye, li may fàttaliku ci sunu gise bu njëkk, yemul ciy loneti kese. Li ko taxoon a doy waar, ma fat ko ba fàww, moo doon na xoolinam dëgëre woon. Booleek ňaari ras-ras yay xàjjaley yéenam, lépp méngook deretu àngaleem, ba ci yéreem yu daŋ ya, mel ni masu leen a summi.'},\n",
       " 48: {'french_corpus': 'Je crois que dans les premières heures qui ont suivi mon arrivée au Nigeria – la longue piste de Port Harcourt à Ogoja, sous la pluie battante, dans la Ford V8 gigantesque et futuriste, qui ne ressemblait à aucun véhicule connu – ce n’est pas l’Afrique qui m’a causé un choc, mais la découverte de ce père inconnu, étrange, possiblement dangereux. En l’affublant de lorgnons, je justifiais mon sentiment. Mon père, mon vrai père pouvait-il porter des lorgnons ?',\n",
       "  'wolof_corpus': 'Yaakaar naa ne ba ma nee cëpp Niseryaa – nu jaar ci tali bu gudd ci diggante Poor Arkuur ak Ogosaa, toog ci sunu biir ponkalum Ford W8 bu kéemaane ba, taw bu mettiy dal – du Afrig moo ma teppati. Baay ci boppam moo ma teppati. Mii xel naan ma : « Moo, góor gu raglu gii, ku mu ? » Ma jàpp ne mënul a doon sama baay, man mii. Ngir gën a gëmloo loolu sama bopp, ma daldi ko takkal lonet yu woroo ak i lonetam.'},\n",
       " 49: {'french_corpus': 'Son autorité a tout de suite posé un problème. Nous avions vécu, mon frère et moi, dans une sorte de paradis anarchique à peu près dépourvu de discipline. Le peu d’autorité auquel nous étions confrontés venait de ma grand-mère, une vieille dame généreuse et raffinée, qui était fondamentalement opposée à toute forme de châtiment corporel envers les enfants, lui préférant la raison et la douceur. Mon grand-père maternel, lui, avait reçu dans sa jeunesse mauricienne des principes plus stricts, mais son grand âge, l’amour qu’il portait à ma grand-mère, et cette sorte de distance ennuyée propre aux gros fumeurs l’isolaient dans un réduit où il s’enfermait à clef pour, justement, y fumer en paix son caporal.',\n",
       "  'wolof_corpus': 'Ci saa si la tàng-diineem ak bëgg yilifam jur fitna. Maak sama mag kenn daawu nu wax déet. Sunu maam ju jigéen daal, moo nu daan jéem a jubbanti léeg-léeg te moom sax na mu rafete woon xol taxoon na masul a nangu ku dóor xale. Yedd ak naxantee ko gënaloon. Sama maam ju góor, li mu yaroo Dunub Móris taxoon na koo bañ caaxaan waaye màggat la woon, amoon cofeel ci soxnaam te mel ni ku àddina sàppi. Lenn rekk a ko soxaloon : kimmi sigaretam « kaporaal ». Da daan faral a tëju sax ci benn pukkuus, jàpp njàmburam di tóx.'},\n",
       " 50: {'french_corpus': 'Quant à ma mère, c’étaient la fantaisie et le charme. Nous l’aimions, et j’imagine que nos bêtises la faisaient rire. Je ne me rappelle pas l’avoir entendue élever la voix. Dès lors, nous avions carte blanche pour faire régner dans le petit appartement une terreur enfantine. Nous avons fait, dans les années qui ont précédé notre départ pour l’Afrique, des choses qui, avec le recul de l’âge, m’apparaissent en effet assez terribles : un jour, à l’instigation de mon frère, j’ai escaladé avec lui la rambarde du balcon (je la vois encore, nettement plus haute que moi) pour accéder à la gouttière, surplombant tout le quartier du haut des six étages. Je pense que  mes grands-parents et ma mère ont été si effrayés que, lorsque nous avons consenti à revenir, ils ont oublié de nous punir.',\n",
       "  'wolof_corpus': 'Sama yaay moom, deful woon dara muy dara. Ak jéyya ju nu mënoon a def, da doon reetaan rekk. Fàttalikuwuma fu mu nu mas a gëdde. Moom daal, lu nu neex lan daan def, te kenn du ñu sañ a yemale. Laata nuy dem Afrig, def nanuy njaaxum yu jéggi dayo. Bés, ci lu sama mag sooke, danu ànd tëb ba ci bantu peroŋ bi ci juróom-benneelu etaas bi, tiim gox bépp. Yaakaar naa ne samay maam ak sama yaay daňoo tiit keroog ba fàtte noo duma.'},\n",
       " 51: {'french_corpus': 'Je me souviens aussi d’avoir été pris par des crises de rage, parce qu’on me refusait quelque chose, un bonbon, un joujou, bref pour une raison tellement insignifiante qu’elle ne m’a pas marqué, une rage telle que je jetais par la fenêtre tout ce qui me tombait sous la main, jusqu’à des meubles. À ces moments, rien ni personne ne pouvait me calmer. Parfois me revient encore la sensation de ces bouffées de colère, quelque chose que je ne peux comparer qu’à l’ivresse de l’éthéromane (l’éther qu’on faisait respirer aux enfants avant de leur arracher les amygdales). La perte de contrôle, l’impression de flotter, et en même temps une extrême lucidité. C’est l’époque où je suis également la proie de violents maux de tête, par instants si insupportables que je dois me cacher sous les meubles pour ne plus voir la lumière. D’où venaient ces crises ? Il me semble aujourd’hui que la seule explication serait l’angoisse des années de guerre. Un monde fermé, sombre, sans espoir. La nourriture désastreuse – ce pain noir, dont on disait qu’il était mêlé de sciure de bois, et qui avait failli causer ma mort à l’âge de trois ans. Le bombardement du port de Nice qui m’avait jeté à terre dans la salle de bains de ma grand-mère, cette sensation que je ne peux pas oublier du sol qui se dérobe sous mes pieds. Ou encore l’image de l’ulcère sur la jambe de ma grand-mère, aggravé par les pénuries et le manque de médicaments ; je suis dans le village de montagne où ma mère est allée se cacher, du fait de la position de mon père dans l’armée britannique et du risque de déportation. Nous faisons la queue devant le magasin d’alimentation et je regarde les mouches qui se posent sur la plaie ouverte sur la jambe de ma grand-mère.',\n",
       "  'wolof_corpus': 'Gone gu naqadi deret laa woon. Saa yu ma bëggaan tàngal mbaa fowukaay walla leneen, ñu bañ ma koo jox, dama daan mel ni kuy daanu gàngiri, di yuuxu, lu ma jot sànni, rajaxe lépp. Te li tax ma doon def loolu, ñàkk na solo ñàkk solo gu, mënumaa wax tey jii lan la woon. Te amul kenn mbaa lenn lu mënoon a giifal sama mer. Léeg-léeg dinaay yëgaat mer moomu, mu mel ni doktoor a ma pikiir, ma màndi bay waaj a nelaw, sax i laaf, di naawantu, ànd ceek teey ak dal. Ay metitu bopp yu tar daan nañ ma sonal tamit. Dama daan làqu ci suufu lal yeek toogu-xóot yi ngir daw leeraayu làmp yi. Lu taxoon ma gaaw a tàggook sama sago, noonu ? Ci sama gis-gis, du dara lu dul ni ati xare bi jaxasee woon sama xel. Tàmbalee ko ci lekk gi. Lekk gu bon a bon – mburu mu ňuul miň doon wax naan dafa raxe kópp. Mburu mu dooy waar, xaw maa yóbbu laaxira ba ma tolloo ci ñetti at doŋŋ. Bés ba Almaŋ yi sànnee bomb nag, mu mel ni ci kër gi la daanu, ma daw làquji sama wanagu maam ju jigéen ? Am na leneen lu may gisaat : sama dana maam ba, naqaree faj lool ndax ňàkk geek ňàkkum garab gi ; maa ngi ci dëkkub tund bi sama yaay demoon làquji : ginnaaw Baay a ngi woon ci làrmeb Àngalteer, suñ ko jàppoon, moom sama yaay, du baax ci moom. Daňu daan raŋ ci kanamu màngasinu dund ba, may gis ni weň yiy biiwe, di muucu góomam bi.'},\n",
       " 52: {'french_corpus': 'Le voyage en Afrique met fin à tout cela. Un changement radical : sur instructions de mon père, avant le départ, je dois me faire couper les cheveux, que j’ai portés jusque-là longs comme ceux d’un petit Breton, ce qui eut pour résultat de m’infliger un extraordinaire coup de soleil sur les oreilles, et de me faire rentrer dans le rang de la normalité masculine. Plus jamais je ne ressentirai ces atroces migraines, plus jamais je ne pourrai donner libre cours aux crises de colère de ma petite enfance. L’arrivée en Afrique a été pour moi l’entrée dans l’antichambre du monde adulte.',\n",
       "  'wolof_corpus': 'Gàddaay jëm Afrig a dakkal loolu lépp. Ni Yàllaak Yaali : ci ndigalu Baay, ñu xuuf samay karaw yu gudd yu goneg Bërëtaañ ya, naaj wiy jafal samay nopp. Ma daldi dellu nekk xale bu góor. Ca la samay metiti bopp ya dakke ba fàww, ma bàyyi tamit gaaw a mer. Cig gàttal, Afrig moo doon sama néegu-góor.'},\n",
       " 53: {'french_corpus': 'À l’âge de trente ans, mon père quitte Southampton à bord d’un cargo mixte à destination de Georgetown, en Guyane britannique. Les rares photos de lui à cette époque montrent un homme robuste, à l’allure sportive, vêtu de façon élégante, complet veston, chemise à col dur, cravate, gilet, souliers de cuir noir. Bientôt huit ans qu’il est parti de Maurice, après l’expulsion de sa famille de la maison natale, le fatal jour de l’an de 1919. Dans le petit carnet où il a consigné les événements marquants des derniers jours passés à Moka, il écrit : « À présent, je n’ai plus qu’un désir, partir très loin d’ici et ne jamais revenir. » La Guyane, c’était effectivement l’autre extrémité du monde, les antipodes de Maurice.',\n",
       "  'wolof_corpus': 'Ci fànweeri atam la Baay jël gaal, jóge Saawusamton jëm Sorstaawun, ca Guwiyaan ba newoon ci loxoy Àngale yi. Nataal ya ngi may won waxambaane wu dëgër, tàmm a tàggat yaram wi. Ci nataal bi fi des, mu ngi solu ba jekk, karwaatu, ak westam bu kol gi dëgër ak i dàlli deram yu ňuul. Fekkkoon mu jóge Móris juróomi-ñetti at ca ginnaaw, ba ňu fa dàqee njabootam ca atum 1919. Bàyyil nanu benn karne bu mu daan dénk lépp lu mu dundoon mbaa mu teewe ko. Bés, bind na ci lii : « Fi mu ne nii, bëgguma lu dul génn Mokaa, sori ko te baňati fee dellusi ba fàww. » Guwiyaan, sori lool Móris, moo doon fa àddina yemoon ci moom.'},\n",
       " 54: {'french_corpus': 'Est-ce le drame de Moka qui a justifié cet éloignement ? Il y a eu sans doute au moment de son départ une détermination qui ne l’a jamais quitté. Il ne pouvait pas être comme les autres. Il ne pouvait pas oublier. Il ne parlait jamais de l’événement qui avait été à l’origine de la dispersion de tous les membres de sa famille. Sauf, de temps en temps, pour laisser échapper un éclat de colère.',\n",
       "  'wolof_corpus': 'Ndax musibam Mokaa waraloon mu dëddu ? Pas-pas ba mu wone ba muy laxas, du woon neen, du woon caaxaan. Ñépp mënoon nañoo fàtte, ba mu des moom. Waxam nag, bariwul woon ci mbir moomu. Xanaa léeg-léeg rekk mu mer, xultu, ay kàddu rëcc ko. Manul woon a mel ni ňeneen ňi. Manul woon a fàtte. Wànte daal mbóot moomu, maanaam la tasoon seen kër, daawu ko sulli mukk.'},\n",
       " 55: {'french_corpus': 'Pendant sept ans il étudie à Londres, d’abord dans une école d’ingénieur, puis à la faculté de médecine. Sa famille est ruinée, et il ne peut compter que sur la bourse du gouvernement. Il ne peut pas se permettre d’échouer. Il fait une spécialité de médecine tropicale. Il sait déjà qu’il n’aura pas les moyens de s’installer comme médecin privé. L’épisode de la carte de visite exigée par le médecin-chef de l’hôpital de Southampton ne sera que le prétexte à rompre avec la société européenne.',\n",
       "  'wolof_corpus': 'Lu tollook juróom-ňaari at, mu nekk Londar di jàng. Eñseñeer la jëkkon a bëgg nekk waaye dafa ca mujjee génn, daldi taamu njàngum faj. Jafe-jafe yiy way-juram doon jànkoonteel tax ba mu war a sukkandiku ci ndimbalu gornmaa bi. Lajj moom, xel daju ko. Fàww xelam gën a màcc ci pajum feebari réewi Afrig yi. Xamoon na ni àddina du dox ba mu am bés dooley ubbi kilinigu boppam. Kuy seet bu baax sax, danga naan dafa tafantoo jàppanteem ak kilifaam ca Saawusamston ngir dogook askanu Tugal.'},\n",
       " 56: {'french_corpus': 'La seule part de douceur dans sa vie, à ce moment-là, c’est la fréquentation de son oncle à Paris, la passion qu’il éprouve pour sa cousine germaine, ma mère. Les congés qu’il passe en France auprès d’eux sont le retour imaginaire vers un passé qui n’est plus. Mon père est né dans la même maison que son oncle, à tour de rôle ils y ont grandi, ils ont connu les mêmes lieux, les mêmes secrets, les mêmes cachettes, ils se sont baignés dans le même ruisseau. Ma mère n’a pas vécu là-bas (elle est née à Milly), mais elle en a toujours entendu parler par son père, cela fait partie de son passé, pour elle cela a le goût d’un rêve inaccessible et familier (car, en ce temps-là, Maurice est si loin qu’on ne peut qu’en rêver). Mon père et elle sont unis par ce rêve, ils sont ensemble comme les exilés d’un pays inaccessible.',\n",
       "  'wolof_corpus': 'Lenn doŋŋ ay dëfal xolam ci jamono jooju : li muy ganeji nijaayam ca Pari. Fa lay fekk doomu-nijaayam ju jigéen, ki nar a dooni sama yaay, nob ko nag ba du gis. Muy béréb buy delloo xelam démb. Baay ak nijaayam ji may wax, ci benn kër gi lañu juddoo, ku nekk ci ñoom ñaar màgge fa. Kon li ñu séq bare na, ñoo bokk i mbóot te yit ñoo daan sangoo ci benn dex gi. Sama yaay mi juddoo Mili, newu fa woon booba wànte yàgg naa dégg baayam daan ko waxtaane. Muy boog lu bokk ci cosaanam, daldi soppiku béréb bu xelam sàkk, béréb bu boole lëndëm ak leer, jege ak sori. Ndax, ca jamono jooju, Móris sore na sore gu, ci gént rekk la ko mënoon a feeñu. Gént googoo lëkkale samay way-jur, ñu ànd gàddaay cig gént, jubal réew mu amul tur amul sant.'},\n",
       " 57: {'french_corpus': 'Il n’importe. Mon père a décidé de partir, il partira. Le Colonial Office vient de lui attribuer un poste de médecin sur les fleuves de Guyane. Dès qu’il arrive, il affrète une pirogue munie d’un toit de palmes et propulsée par un moteur Ford à axe long. À bord de sa pirogue, accompagné par l’équipe, infirmiers, pilote, guide et interprète, il remonte les rivières : le Mazaruni, l’Essequeibo, le Kupurung, le Demerara.',\n",
       "  'wolof_corpus': 'Loolu lépp amul solo ci gis-gisu Baay. Jàpp na ni fàww mu dem. Nguurug Àngalteer daldi ko yabal ca dexi Guwiyaan ya. Dafa fa yegg rekk, luye gaal ànd ak fajkat ya mu yilif, dawalkati gaal ya ak i làpptoo, ñuy xuus ca dex ga, di rombiy dëkk di dem : Masurini, Isekeyboo, Kupuruŋ, Demeraraa.'},\n",
       " 58: {'french_corpus': 'Il prend des photos. Avec son Leica à soufflet, il collectionne des clichés en noir et blanc qui représentent mieux que des mots son éloignement, son enthousiasme devant la beauté de ce nouveau monde. La nature tropicale n’est pas une découverte pour lui. À Maurice, dans les ravins, sous le pont de Moka, la rivière Terre-Rouge n’est pas différente de ce qu’il trouve en haut des fleuves. Mais ce pays est immense, il n’appartient pas encore tout à fait aux hommes. Sur ses photos paraissent la solitude, l’abandon, l’impression d’avoir touché à la rive la plus lointaine du monde. Du débarcadère du Berbice, il photographie la nappe bistre sur laquelle glisse une pirogue, contre un village de tôle semé d’arbres malingres. Sa maison, une sorte de chalet de planches sur pilotis, au bord d’une route vide, flanquée d’un seul palmier absurde. Ou bien encore la ville de Georgetown, silencieuse et endormie dans la chaleur, maisons blanches aux volets fermés contre le soleil, entourées des mêmes palmiers, emblèmes obsédants des tropiques.',\n",
       "  'wolof_corpus': 'Foo ko fekk mu ngi jëliy nataal ak Leikaam. Nataal yi, daanaka ñoo ëpp fuuf doole ay kàdduy neen. Ci lay gën a mën a waxe ni ko yànjaayu Afrig yéeme. Àlli Afrig yi sax, du fi gan, daanaka, ndax ni ñu nirook yu Móris. Fii, pomu Mokaa ak dexug Teer-Ruus dinañuy faral a dellusi ci xelam. Wànte li am ba am nag, te du ko réere mbir, moo di ni jéggi-dayog Afrig, benn la ci àddina. Rax-ci-dolli, dafa mel ni béréb yu bare ci Afrig, doom-aadama masu faa sax teg tànkam. Wéetaay ak nangu dogal la nataal yiy feeñal. Ma leen di xool, mu mel ni maa ngi janook fi raayi dunyaa téene. Ca waaxu Berbis, nataal na fa gaal guy romb ndànk benn dëkk bu kër ya tegoo seng te garab ya ràgg. Këram ga mel ni baraag bu ňu samp ci dex gi, ci wetu tali bu wéet, garabu-tiir gu kenn xamul lu mu fay def sampu fa moom itam. Walla boog ba tey Sorstaawun, dëkk bi ne tekk-tekkaaral, tàngaay bi njatt ko, muy yàndoor. Kër gu weex gaa ngi, ak i palanteeram yiy làq jant bi, ak it garabi-tiir yiy faral a late ci réew yu tàng yi.'},\n",
       " 59: {'french_corpus': 'Les photos que mon père a aimé prendre, ce sont celles qui montrent l’intérieur du continent, la force inouïe des rapides que sa pirogue doit remonter, halée sur des rondins, à côté des marches de pierre où l’eau cascade, avec sur chaque rive les murs sombres de la forêt.',\n",
       "  'wolof_corpus': 'Li ëpp ci nataal yi Baay jël, dañuy wone xolub jéeri ji ak tamit doole ginnax yi, doole ju kenn àttanul. Nga gis ni leen gaal giy songe, ak ni ndox miy balle ci eskale xeer yi, àll bi wër ko, lëndëm këruus.'},\n",
       " 60: {'french_corpus': 'Les chutes de Kaburi, sur le Mazaruni, l’hôpital de Kamakusa, les maisons de bois le long du fleuve, les boutiques de chercheurs de diamants. Soudain une bonace sur un bras du Mazaruni, un miroir d’eau qui étincelle et entraîne vers la rêverie. Sur la photo apparaît l’étrave de la pirogue en train de descendre le fleuve, je la regarde et je sens le vent, l’odeur de l’eau, j’entends malgré le grondement du moteur le crissement incessant des insectes dans la forêt, je perçois l’inquiétude qui naît à l’approche de la nuit. À l’embouchure du rio Demerara, les palans chargent le sucre demerara à bord des cargos rouillés. Et sur une plage, où viennent mourir les vagues du sillage, deux enfants indiens me regardent, un petit garçon de six ans environ et sa sœur à peine plus âgée, tous deux ont le ventre distendu par la parasitose, leurs cheveux très noirs coupés « au bol » au ras des sourcils, comme moi à leur âge. De son séjour en Guyane, mon père ne rapportera que le souvenir de ces deux enfants indiens, debout au bord du fleuve, qui l’observent en grimaçant un peu à cause du soleil. Et ces images d’un monde encore sauvage, entraperçu le long des fleuves. Un monde mystérieux et fragile, où règnent les maladies, la peur, la violence des orpailleurs et des chercheurs de trésors, où l’on entend le chant de désespérance du monde amérindien en train de disparaître. S’ils vivent encore, que sont devenus ce garçon et cette fille ? Ils doivent être des vieillards, proches du terme de l’existence.',\n",
       "  'wolof_corpus': 'Ndox may balle Kaburi ak Masuruni, loppitaanu Kamakusaa, baraag yi topp dex gi, bitigi wutkati marjaan yi. Jékkee-jékki genn wet gi ni tekk, ndox mi mel ni seetu buy nes-nesi. Xel dal, nit ki dem ba yaakaar ne mu ngiy gént. Maa ngi gis it ci nataal bi ni gaal giy raame ci dex gi. Mën naa ni sax ma ngiy xeeñtu nglelaw leek ndox mi. Li riiru masin biy am doole yépp, teewumaa dégg gunóor yiy yuuxu ñoom itam, tëwa bàyyi. Lu nuy gëne jege àll bi, njàqarey gën a tar. Ci bëlu Riyoo Demeraraa, lenge yaa ngiy yab i saaku suukar ciy gaal yu xomaag. Waaye li ma ëppal solo ci nataal bi, mooy ñaari doomi Eend yi taxaw ci tefes gi, ni ma jàkk. Gone gu góor ak gone gu jigéen, ñu war a am juróom-benni at ak seeni biiri-taññ yu dëll, ak seeni karaw yu ñuul kukk. Mag ak rakk, soo demee. Su weesoo ñaari goney Enjeŋ yi, du leneen lu Baay jële at ya mu def Guwiyaan yépp. Ñu ngi janook moom, naaj wi di leen gaññloo. Rëcce réewum guddi mu néew doole te kéemaane, nit ñi xiibon, ku fa mën sa moroom dóor, réew mu wutkati wurus yeek wutkati marjaan yi teg loxo. Rax-ci-dolli, mu neex la, mu naqadi la, dinga dégg woyu njàqareg Enjeŋ yi fekk baax Amerig tey waaj ne mes. Ndax ñaari gone yi ci nataal baa ngiy dund ba tey ? Soo demee màggat nañu ba xubidaas te balaa yàgg ñu wuyuji seen boroom.'},\n",
       " 61: {'french_corpus': 'Plus tard, longtemps après, je suis allé à mon tour au pays des Indiens, sur les fleuves. J’ai connu des enfants semblables. Sans doute le monde a-t-il changé beaucoup, les rivières et les forêts sont moins pures qu’elles n’étaient au temps de la jeunesse de mon père. Pourtant il m’a semblé comprendre le sentiment d’aventure qu’il avait éprouvé en débarquant au port de Georgetown. Moi aussi, j’ai acheté une pirogue, j’ai voyagé debout à la proue, les orteils écartés pour mieux agripper le bord, balançant la longue perche dans mes mains, regardant les cormorans s’envoler devant moi, écoutant le vent souffler dans mes oreilles et les échos du moteur de hors-bord s’enfoncer derrière moi dans l’épaisseur de la forêt. En examinant la photo prise par mon père à l’avant de la pirogue, j’ai reconnu la proue au museau un peu carré, la corde d’amarrage enroulée et, posée en travers de la coque pour servir occasionnellement de banquette, la canalete, la pagaie indienne à lame triangulaire. Et devant moi, au bout de la longue « rue » du fleuve, les deux murailles noires de la forêt qui se referment.',\n",
       "  'wolof_corpus': 'Teg nañ ciy at, ay at yu bare sax, ma tukkil sama bopp ca réewum Enjeŋ ya. Ca tàkkal dex ya, gisaat naa leen fa, ñoom ñaari gone yooyu. Xam naa bu baax ni àddina soppiku na te kenn warul a méngale dex ya daan yéem Baay ak sunuy dexi tey yi, tilim ba nga ni lii lu mu doon. Teewul, moone, ma yëg la mu yëgoon ca waaxub Sorstaawun ba. Man it jënd naa gaal, ŋarale samay baaraami tànk ngir gën a mën a jafandu ci wet gi. Man it téye naa joowu bu gudd, coll yiy naaw di ma romb, may déglu ngelaw liy jooy ci àll bu xonq bi ak ni ko masin biy awoo. Ni may xoole nataalu bi Baay jëloon, maa ngi xàmmee kanamu gaal gay saf gémmiň te tegu ci ňeenti koň, buum ga ňuy kostee, lëmësu, ňu jàlle ko ci suufu gaal gi ngir léeg-léeg mu doon toogu ; xàmmee it joowu bi Enjeŋ yi tudde kanalete te ànd ak laamu ňetti koň. Ma dawal samay bët ci liy nirook tali bu gudd bu xottikul boppam ci dex gi, daldi gis ni àll bi tëjoo ba noppi ne fépp ràpp.'},\n",
       " 62: {'french_corpus': 'Quand je suis revenu des terres indiennes, mon père était déjà malade, enfermé dans son silence obstiné. Je me souviens de l’étincelle dans ses yeux quand je lui ai raconté que j’avais parlé de lui aux Indiens, et qu’ils l’invitaient à retourner sur les fleuves, qu’en échange de son savoir et de ses médicaments, ils lui offraient une maison et la nourriture pour le temps qu’il voudrait. Il a eu un léger sourire, il a dit, je crois : « Il y a dix ans, j’y serais allé. » C’était trop tard, le temps ne se remonte pas, même dans les rêves.',\n",
       "  'wolof_corpus': 'Bi ma jógee ci dëkki Enjeŋ yi, fekkoon na Baay tawat, tëju daanaka ci biir boppam, ni du wax te soo waxeek moom du la tontu. Waaye maa ngi fàttaliku ferňeent ba takk ciy bëtam bés ba ma ni ko Enjeŋ yi namm nañ ko lool te su doon seen sago mu dellu fa, nekkaat seen doktoor, ñu ameel ko léppam ngiiru dundam. Mu daldi muuň, ni, su ma juumul : « Su doon fukki at ci ginnaaw, de, def kon naa loolu. » Fekk na li waroon a am am ba noppi. Jamono ji, mënunoo muus ba dabu ko. Sunuy gént sax mënuñunoo may lu ni mel.'},\n",
       " 63: {'french_corpus': 'C’est la Guyane qui a préparé mon père à l’Afrique. Après tout ce temps passé sur les fleuves, il ne pouvait pas revenir en Europe – encore moins à Maurice, ce petit pays où il se sentait à l’étroit au milieu de gens égoïstes et vaniteux. Un poste venait d’être créé en Afrique de l’Ouest, dans la bande de terre reprise à l’Allemagne à la fin de la Première Guerre mondiale, et qui comprenait l’est du Nigeria et l’ouest du Cameroun, sous mandat britannique. Mon père s’est porté volontaire. Début 1928, il est dans un bateau qui longe la côte de l’Afrique à destination de Victoria, sur la baie du Biafra.',\n",
       "  'wolof_corpus': 'Guwiyaan la Baay waajale Afrig. Xel dajul woon mu dellusi Tugal astamaak Móris, dun bu xat boobu te nit ña siis te fuuy. Àngale ya nangu woon ci Almaañ penkub Niseryaa ak sowub Kamerun daldi ko woo, mu war faa nekki fajkat. Ndoorteelu atum 1928, Baay dugg saxaaru-géej, topp tefesu Afrig, jëm Wiktoryaa, ci ruqu-géejug Biyaafaraa.'},\n",
       " 64: {'french_corpus': 'C’est ce même voyage que j’ai fait, vingt ans plus tard, avec ma mère et mon frère, pour retrouver mon père au Nigeria après la guerre. Mais lui n’est pas un enfant qui se laisse porter par le courant des événements. Il a alors trentedeux ans, c’est un homme endurci par deux années d’expérience médicale en Amérique tropicale, il connaît la maladie et la mort, il les a côtoyées chaque jour, dans l’urgence, sans protection. Son frère Eugène, qui a été médecin avant lui en Afrique, le lui a certainement dit : il ne va pas dans un pays facile. Le Nigeria est sans doute « pacifié », occupé par l’armée britannique. Mais c’est une région où la guerre est permanente, guerre des hommes entre eux, guerre de la pauvreté, guerre des mauvais traitements et de la corruption hérités de la colonisation, guerre microbienne surtout. Au Calabar, au Cameroun, l’ennemi n’est plus Aro Chuku et son oracle, ni les armées des Foulanis et leurs longues carabines venues d’Arabie. Les ennemis s’appellent kwashiorkor, bacille virgule, ténia, bilharzia, variole, dysenterie amibienne. Face à ces ennemis, la trousse de médecin de mon père doit lui paraître bien légère. Scalpel, pinces à clampser, trépan, stéthoscope, garrots, et quelques outils de base, dont la seringue de laiton avec laquelle il m’a injecté plus tard des vaccins. Les antibiotiques, la cortisone n’existent pas. Les sulfamides sont rares, les poudres et les onguents ressemblent à des potions de sorcier. Les vaccins sont en quantité très limitée, pour combattre les épidémies. Le territoire à parcourir pour livrer cette bataille aux maladies est immense. À côté de ce qui attend mon père en Afrique, les expéditions pour remonter les fleuves de Guyane ont pu lui sembler des promenades. Dans l’Ouest africain, il va rester vingt-deux ans, jusqu’à la limite de ses forces. Ici, il connaîtra tout, depuis l’enthousiasme du commencement, la découverte des grands fleuves, le Niger, le Bénoué, jusqu’aux hautes terres du Cameroun. Il partagera l’amour et l’aventure avec sa femme, à cheval sur les sentiers de montagne. Puis la solitude et l’angoisse de la guerre, jusqu’à l’usure, jusqu’à l’amertume des derniers instants, ce sentiment d’avoir dépassé la mesure d’une vie.',\n",
       "  'wolof_corpus': 'Xare bi jeex, ñu tekk ci ñaar-fukki at, ma ànd ak sama yaay ak sama mag ju góor, nun ñett ñépp nu jaar fa mu jaaroon, dem fekki ko Afrig. Waaye mbir yi xawoon nañoo woroo : bi muy def tukki boobu, mu ngi tollu ci fanweeri at ak ňaar, di góor gu dëgër, làmboo ňaari ati paj ca réewu Enjeŋ ya, miin fa feebar ak dee ak ňàkkum kaaraange. Magam ji tuddoon Ësen, te jiitu woon ko ci liggéeyu fajkat ca Afrig, noon na ko : « Jàppal rekk ne Afrig neexalul kenn, dara yombu fa. » Xamaloon na ko it ne, doonte sax Àngale yaa ngi def seen kemtalaayu kàttan ngir jàmm ne ñoyy Niseryaa, li am ba am moo di ne diiwaan ba mu jëm a mel noonu : dañoo tàmm a xare ci seen biir, ndóol sonal leen ñu war a jàmmarlook moom, di xareek tamit ak i doomi-jàngoro yu dul jeex ak laagob-xel bi tudd ger. Ësen noon ko it ca Kalabaar, ci Kamerun, ay noonam duñ dooni Soko Uru ak i xërëmam mbaa soldaari Pël yeek seeni fetal yu gudd. Déedéet. Doomu jàngoroy tombu-xosi, tuddéeful, xarňeňň, njàmbal ak biiru-taňň ñooy dooniy noonam. Gànnaay ga mu war a xeexeek ñoom nag, xaw a mel ni lu ñàkk solo : paakab awsa, siso ak mbuusu fajkat. Ak lanati ? Jumtukaay yiy bënn ak jumtukaay biy natt yëngatu-deret, ay mbaggi fas ak yeneen ak yeneen, ba ci pikiiru armiňoŋ yi mu ma daan ñakke. Booba, kenn xamagul na ka lañuy reyee doomi-jàngoro mbaa tee yaram xasan. Garab yu néew lañuy yóbbale, diy puudar ak i toccami yuy nirook saafaray jibar yi. Ñakk yiy aar askan wépp ci jàngoro yiy wàlle, néew naňu lool ñoom itam. Toolu-xare bee ka yaatu, tey ! Coonoy dexi Guwiyaan ya duñu tus, doxantu bu gàtt lañu su leen méngaleek li muy waaj a daji Afrig sowu-jant. Afrig, dafa fa dem ba jeex. Toog na fa ñaar-fukki at ak ñaar, lépp mu xame ko fa. Fa la jëkkee xam lu mbégte tekki, fa la jëkkee gis dex yu mag a mag ya, muy Niseer di Bénuwe. Tangori Kamerun yi tamit, jamono jooju la leen njëkk a teg bët. Te loolu lépp am lu ko ëpp solo, te muy lépp li ñu ànd dund, mook soxnaan. Mu di ko won saa su ne mbëggeel gu mat sëkk, ñu war seen fas, di wër dëkk-dëkkaan yi, lu leen neex def. Li ci tegu, di àddina su xar ñaar, ndax xare bu mettee-metti. Jur wéetaay ak tiis ak tiitaange, ñuy wéy di ko gunge ba mu màggat, mënalatul boppam dara, naan léeg-léeg ci xelam waay-waay mbir mi, maanaam jaar-jaaram, mënoon naa deme neneen.'},\n",
       " 65: {'french_corpus': 'Tout cela, je ne l’ai compris que beaucoup plus tard, en partant comme lui, pour voyager dans un autre monde. Je l’ai lu, non pas sur les rares objets, masques, statuettes, et les quelques meubles qu’il avait rapportés du pays ibo et des Grass Fields du Cameroun. Ni même en regardant les photos qu’il a prises pendant les premières années, à son arrivée en Afrique. Je l’ai su en redécouvrant, en apprenant à mieux lire les objets de la vie quotidienne qui ne l’avaient jamais quitté, même pendant sa retraite en France : ces tasses, assiettes de métal émaillé bleu et blanc faites en Suède, ces couverts en aluminium avec lesquels il avait mangé pendant toutes ces années, ces gamelles emboîtées qui lui servaient en campagne, dans les cases de passage. Et tous les autres objets, marqués, cabossés par les cahots, portant la trace des pluies diluviennes et la décoloration particulière du soleil sous l’équateur, des objets dont il avait refusé de se défaire et qui, à ses yeux, valaient mieux que n’importe quel bibelot ou souvenir folklorique. Ses malles de bois cerclées de fer, dont il avait repeint plusieurs fois les gonds et les serrures, et sur lesquelles je lisais encore l’adresse du port de destination finale : General Hospital, Victoria, Cameroons. Outre ces bagages dignes d’un voyageur du temps de Kipling ou de Jules Verne, il y avait toute la série des boîtes à cirage et des pains de savon noir, les lampes à pétrole, les brûleurs d’alcool, et ces grandes boîtes à biscuits « Marie » en fer dans lesquelles il a gardé jusqu’à la fin de sa vie son thé et son sucre en poudre. Les outils aussi, ses instruments de chirurgien, qu’il utilisait en France pour faire la cuisine, découpant le poulet au scalpel et servant avec une pince à clampser. Les meubles enfin, non pas ces fameux tabourets et trônes monoxyles d’art nègre. Il leur préférait son vieux fauteuil pliant en toile et bambou qu’il avait transporté d’une case de passage à l’autre sur tous les chemins de montagne, et la petite table au plateau de rotin qui servait de support à son poste de radio, sur lequel, jusqu’à la fin de sa vie, il écoutait chaque soir, à sept heures, les informations de la BBC : Pom pom pom pom ! British Broadcasting Corporation, here is the news !',\n",
       "  'wolof_corpus': 'Loolu lépp, maa ngi ko door a nànd dëggëntaan bi ma doonee mag, tàmbalee tukki ni moom. Jàngewuma ko ci mask yeek estati yu ndaw yi mu jële woon dëkku Ibo yaak réewi Kamerun ya Àngale yi doon woowe Garaas Fiild. Jàngewuma ko it ci nataal yi mu fa jël ca at yu njëkk ya. Li ma dimbali mooy ni ma demee ba wóolu sama xoolinu bopp, di gise neneen lépp li mu bàyyi ginnaaw te daan ko jëfandikoo bés bu Yàlla sàkk, moo xam taasu kafe la, mbaa ndab ya jóge woon réewum Suweed te ñu daan ko ca yakkal añ mbaa reer, walla butéeli weñ ya mu daan yóbbaale ci dëkki kow yi. Ku lim juum, dëgg la, wànte fàww ma tudd jumtukaayam yu sew-sewaan ya, yii nóox, yi ci des fell walla ñu furi. Ñoo ko ëppaloon maanaa lépp lu mu amoon. Yi ko mënoon a fàttali sax léeg-léeg cosaanu réew ma, safe wuñ ko woon ni. Mu ni dee, du tàqalikook ñoom mukk. Waxande bant ya ñu wëraleek weň te daawul tàyyee pentuur njàppu yaak selluur ya. Lañ ca bindoon ci kàllaama àngale ngi delsi tey ci sama xel : General Hospital, Victoria, Cameroons. Baay wutewul woon ak tukkikat yu njëkk ya, génne ci téereb nettali bu Kipliŋ mbaa Sil Wern ak ay boyeti siraasam, ay përngali saaboom yu ňuul, làmpi petoroolam, lakkukaayu alkolam ak tamit ay boyeti mbiskit « Marie » ya mu daan denc warga ak suukër su mokk. Sañumaa bañ a lim jumtukaayu yi « opeerekat » yi mu daan jëfandikoo ca Tugal su daan togg, di dagg ginnaar geek paaka awsa te bu ñoree mu jël siso, séddale nu ko. Ma daaneele xanaa móobalam ya. Soppul woon tabure yeek gàngune yooyu seen toogu yaatu, te ñu taq ci cosaanu nit ku ňuul. Li ko gënaloon mooy pilyaanu tuwaal ba nga xam ni néegoo-néeg diri na ko fa, mook taabal ju ndaw ja mu daan teg rajoom. Rajoom boobu nga xam ne, ba bi muy génn àddina, ci la daan déglu, ngoon gu Yàlla sàkk, ay xibaari BBC. Ma ngi déggaat ngóor soosu daan yuuxu ci rajo bi, naan ci kàllaama àngale : Pom pom pom pom British Broadcasting Corporation here is the news !'},\n",
       " 66: {'french_corpus': 'C’était comme s’il n’avait jamais quitté l’Afrique. À son retour en France, il avait gardé les habitudes de son métier, levé à six heures, habillé (toujours de son pantalon de toile kaki), ses chaussures cirées, son chapeau sur la tête, pour aller faire ses courses au marché – comme jadis il partait pour la tournée des lits à l’hôpital –, de retour chez lui à huit heures, pour préparer le repas – avec la minutie d’une intervention chirurgicale. Il avait conservé toutes les manies des anciens militaires. L’homme qui avait reçu l’entraînement des médecins en pays lointains – être ambidextre, capable de s’opérer soi-même en se servant d’un miroir ou de recoudre sa hernie. L’homme aux mains calleuses de chirurgien, qui pouvait scier un os ou placer une attelle, qui savait faire des nœuds et des épissures – cet homme n’utilisait plus son énergie et son savoir qu’à ces tâches minuscules et ingrates auxquelles se refusent la plupart des gens à la retraite : avec la même application, il faisait la vaisselle, réparait les tomettes cassées de son appartement, lavait son linge, reprisait ses chaussettes, construisait des bancs et des étagères avec du bois de caisse. L’Afrique avait mis en lui une marque qui se confondait avec les traces laissées par l’éducation spartiate de sa famille à Maurice. L’habit à l’occidentale qu’il endossait chaque matin pour aller au marché devait lui peser. Dès qu’il rentrait chez lui, il enfilait une large chemise bleue à la manière des tuniques des Haoussas du Cameroun, qu’il gardait jusqu’à l’heure de se coucher. C’est ainsi que je le vois à la fin de sa vie. Non plus l’aventurier ni le militaire inflexible. Mais un vieil homme dépaysé, exilé de sa vie et de sa passion, un survivant.',\n",
       "  'wolof_corpus': 'Mu ngi meloon ni masul a jóge Afrig. Li ma ko tax a wax moo doon na mu ñàkke woon soppiy jëfinam. Ba mu delloo Tugal, fajar la daan yeewu, sol tubayu tuwaalam bu kaki ak dàll yu ñu siiraas ba ñuy melax, teg mbaxanaam ci bopp bi, daldi dem duggi màrse. Noonu la daan nemmeekujee bés bu jot ña mu waroon a faj jamono ca muy liggéey Afrig. Bu dellusiwaan këram ci juróom-ňenti waxtu daldi tàmbalee togg aňam, ànd ceek mën a ràññe ak tamit sago sa mu daan opeeree. Ku ko seetlu woon bu baax, dinga gis ne li mu jaar ci làrme, feem ya mu fa jot a jàng, da daan feeñ ci lépp lu muy def. Rax-ci-dolli, tàggatoon nañ ko ngir mu mën a faj doom-aadama ciy réew yu sore Tugal te seeni aada wute lool ak yu Tugal. Mëne woon na ñaari loxo, mënoon na sax opeere boppam walla su laajee ñaw mu ñaw ko. Te suy def loolu, seetoo koy won yaram wi. Moonte ngóor soosook i loxoomi opeerekat yu dëgër ya dara tëwul woon – xar yax ñaar mbaa bàndaas ko, ñawaat kook buum – ngóor soosu, ak li loxo yi doon xereñ yépp, dafa ci mujje di def i liggéey yu kenn fullaalul : raxas ndab, defaraat karoy ban yi toj ; loxoo yooyoo daan fóot ay yëreem, di gaar ay kawasam, di defar i baŋ ak i tegukaay ak sax ay xotti kees. Afrig bàyyi woon na ci moom ay màndarga yu ko doon fàttali yar bu metti bañ ko yaroon ca Móris. Yére tubaab ya mu daan xéy sol ngir dem ca ja ba, waroon nañoo diis ci moom. Bu delsiwaan, day daldi gaawtu sol simis bu baxa bu yaatu, nirook turkiy awsa Kamerun yi mu daan fanaanoo. Noonu laa ko tàmme woon a gis ci mujjug dundam. Doonatul woon doxandéem walla soldaar bu am fit, soldaar bu kenn feesul i bëtam. Góor gu màggat doŋŋ a fi desoon, gëlëm, réer, xamatul lu ko àddinay nirool.'},\n",
       " 67: {'french_corpus': 'L’Afrique, pour mon père, a commencé en touchant la Gold Coast, à Accra. Image caractéristique de la Colonie : des voyageurs européens, vêtus de blanc et coiffés du casque Cawnpore, sont débarqués dans une nacelle et transportés jusqu’à terre à bord d’une pirogue montée par des Noirs. Cette Afrique-là n’est pas très dépaysante : c’est l’étroite bande qui suit le contour de la côte, depuis la pointe du Sénégal jusqu’au golfe de Guinée, que connaissent tous ceux qui viennent des métropoles pour faire des affaires et s’enrichir promptement. Une société qui, en moins d’un demi-siècle, s’est architecturée en castes, lieux réservés, interdits, privilèges, abus et profits. Banquiers, agents commerciaux, administrateurs civils ou militaires, juges, policiers et gendarmes. Autour d’eux, dans les grandes villes portuaires, Lomé, Cotonou, Lagos, comme à Georgetown en Guyane, s’est créée une zone propre, luxueuse, avec pelouses impeccables et terrains de golf, et des palais de stuc ou de bois précieux dans de vastes palmeraies, au bord d’un lac artificiel, telle la maison du directeur du service médical à Lagos. Un peu plus loin, le cercle des colonisés, avec l’échafaudage complexe qu’ont décrit Rudyard Kipling pour l’Inde et Rider Haggard pour l’Est africain. C’est la frange domestique, l’élastique tampon des intermédiaires, greffiers, grouillots, chaouchs, chocras (les mots ne manquent pas !), habillés à demi à l’européenne, portant chaussures et parapluies noirs. Enfin, à l’extérieur, c’est l’océan immense des Africains, qui ne connaissent des Occidentaux que leurs ordres et l’image presque irréelle d’une voiture carrossée de noir qui roule à toute vitesse dans un nuage de poussière et qui traverse en cornant leurs quartiers et leurs villages.',\n",
       "  'wolof_corpus': 'Ku laajoon Baay fan la Afrig tàmbalee ci moom, mu ni la : xanaa Góld Kóost, te péey ba doon Akaraa. Ñàkkul su ma ko jeexoon ci xeetu nataal yu siiw jamono jooju fekk ko ci biir. Mooy nataal yiy wone ay Tubaab yuy waaj a koste Afrig ci gaal gu ndaw, sol yére yu weex ak seeni kask Kawanpoor, ay nit ñu ñuul di leen joowal. Du sax nataal bu war a bett képp ku xam ni mbir mi doon deme booba. Tubaab yi doon dem Afrig, daanaka yoon woowu la ñu gënoon a miin, yoon wiy jóge Senegaal, jëm ruqu-géeju Gine. Tubaab ya doon jaay ak a jënd te yàkkamtee dajale alal ju takku, xamoon nañ bu baax yoon woowu. Yàgguñu fa dara – bu àggee ci genn-wàllu xarnu fa lay yem – ñoom wutkati alal yooyu, daldi beru, di wujje, ñeme wax ju sew, lépp lu ñu gis mu taxaw ñu daaneel, lu jag ñu yàq ngir rekk bëgg a gaaw a jot ca lañ doon yóotu. Ñooñooy njiiti bànk yi, ňiy yëngu ci njaay meek njënd mi, ndawal buur yi walla soldaar yi, àttekat yi, alkaati yeek sàndarma yi. Ay dëkki waax a leen wër, moo xam Lome la mbaa Kótónu mbaa Legoos, ñuy fàttali Baay Sorstaawun, ca Guwiyaan. Mu am fay gox yu set, bare daraja, gasoŋ ba jekk lool tabaarkàlla, ñu fay fo powu boroom barke moomu ñuy wax golf. Am na it ay kër yuy nirook ay màkkaani buur, ay garabi-tiir wër leen. Kër kilifay sarwiisi fajukaay ya ca Legoos, noonee la mel. Nga jóge fa, dox tuuti daldi àgg fa doomi réew miy dankalikoo. Kilifay Tubaab yooyu nag, lijjanti seeni mbir, xam kan moo ciy kan ak lan la ku ci nekk yelloo, yombul. Ridyaar Kipliŋ jéem na cee bind ci wàllu Eend, ni ko Raaydëer Agaard jéeme ci penkub Afrig. Gàngóoru surga yi, gaa ñi nga xam ni daanaka dibi-dibeey seen liggéey, denckati kayiti àtte yi, wattukati kaso yi, réjjikat yi (ñoom ñépp ak seeni tur yu ñàng), sol yérey tubaab ak seeni dàll ak i parasool yu ňuul. Soo bawoo foofu, dem fu gën a sore, ngay soog a gis doomi réew mi, nit ñu ñuul ñi, baree-baree ba nga ni lii lu mu doon. Ñoom dara lañu jotewul ak Tubaab yi. Xanaa ab doxandéem di leen sant ñuy def. Walla boog léeg-léeg ñu séen ab woto – waaye ndax woto dëggëntaan la sax ? – muy xélu, di yëkkati pënd bu bareek a korne buy romb – fiiw ! fiiw ! – seeni gox.'},\n",
       " 68: {'french_corpus': 'C’est cette image que mon père a détestée. Lui qui avait rompu avec Maurice et son passé colonial, et se moquait des planteurs et de leurs airs de grandeur, lui qui avait fui le conformisme de la société anglaise, pour laquelle un homme ne valait que par sa carte de visite, lui qui avait parcouru les fleuves sauvages de Guyane, qui avait pansé, recousu, soigné les chercheurs de diamants et les Indiens sous-alimentés ; cet homme ne pouvait pas ne pas vomir le monde colonial et son injustice outrecuidante, ses cocktails parties et ses golfeurs en tenue, sa domesticité, ses maîtresses d’ébène prostituées de quinze ans introduites par la porte de service, et ses épouses officielles pouffant de chaleur et faisant rejaillir leur rancœur sur leurs serviteurs pour une question de gants, de poussière ou de vaisselle cassée.',\n",
       "  'wolof_corpus': 'Njaayum puukare moomu la Baay siboon ba fu sib yem. Moo ko taxoon a dogook Móris, waaye mu fekksi ko Afrig. Réewum Móris ak Tubaab ya doon noot ña fa fekk baax. Ak tamit boroomi tool yu réy a réy ya, ñoom ci seen bopp ñu fuuy ba dee. Baay dawoon na Àngalteer, ndax kàrt de wisit la ñu fay nattee nit. Dëddu loolu lépp taxoon koo xuus ca dex yu àlle ya ca Guwiyaan. Taxoon it muy fomp, di ňaw, di faj wutkati marjaan yeek Enjeŋ yi ndóoloon ba niróotuñu sax nit ; mënul woon a jaar ci jafe-jafe yooyu yépp te du suur nguurug Tubaab ba fàww. Ci dëgg-dëgg, doon na jafe mu weg gaa ñooñook seen i yérey golf, seeni ndajey càkkaay, ak niñ daan fowe jànqi dëkk bi, dem bay nekkaale léeg-léeg ak ay gone yu am fukki at ak juróom kese, ñu leen di jaarale ci seen buntu ginnaaw kër ndax rekk rus ñu gis leen ak jigéen ju dul Tubaab ni ñoom ; góori Móris ak seeni soxna yi dëkke jëwaate, tàngaay bi sonal leen, ñuy sippi seen mer ci seeni surga, di yuuxu ci seen kow subaak ngoon.'},\n",
       " 69: {'french_corpus': 'En parlait-il ? D’où me vient cette instinctive répulsion que j’ai ressentie depuis l’enfance pour le système de la Colonie ? Sans doute ai-je capté un mot, une réflexion, à propos des ridicules des administrateurs, tel le district officer d’Abakaliki que mon père m’emmenait voir parfois et qui vivait au milieu de sa meute de pékinois nourris au filet de bœuf et aux petits gâteaux, abreuvés uniquement à l’eau minérale. Ou bien les récits de grands Blancs qui voyageaient en convoi, à la chasse aux lions et aux éléphants, armés de fusils à lunette et de balles explosives, et  qui, lorsqu’ils croisaient mon père dans ces contrées perdues, le prenaient pour un organisateur de safaris et l’interrogeaient sur la présence d’animaux sauvages, à quoi mon  père répondait : « Depuis vingt ans que je suis ici, je n’en ai jamais vu un, à moins que vous ne parliez de serpents et de vautours. » Ou encore le district officer en poste à Obudu, à la frontière du Cameroun, qui s’amusait à me faire toucher les crânes des gorilles qu’il avait tués et me montrait les collines derrière chez lui en prétendant qu’on entendait le soir la pétarade des grands singes qui le provoquaient en se frappant la poitrine. Et surtout, l’image obsédante que j’ai gardée, sur la route qui conduisait à la piscine d’Abakaliki, la cohorte des prisonniers noirs enchaînés, marchant au pas cadencé, encadrés par les policiers armés de fusils.',\n",
       "  'wolof_corpus': 'Ndax Baay daan na wax lu ci jëm ? Lu waral ba ma newee gone ba léegi may naqarlu ni Tubaab yiy noote Afrig te bañ lépp lu taq ci seeni mbir ? Ñàkkul am kàddu gu jibe bés ci gémmiñu Baay, ne cabax sama nopp yii, am liggéey buñ def ci sama biir xel. Xam naa dafa ci doon ŋàññ ngóor soosu newoon « District Officer » bu Abaakaliki, te mu daan ma yóbbu léeg-léeg këram. Foo ko fekkaan ay kuti yu baree nga ko wër mu leen di dundale yàppu nag walla ngato te daanu leen jox ñu naan lu dul ndoxum-butéel. Walla boog mu mas maa may ci jaloorey ponkali nit ňu weex ňa daan àndandook mbooloo mu takku, ne ñu ngay rëbbi gayndeek ňey, yore seeni fetal yu ànd ak longóor ak i bal yu naa téll. Saa yu ňu tasewaan ak Baay, yaakaar ni da doon yëngatu ci mbirum rëbb, te fàww ñu laaj ko yan njaàll fa amoon. Tontoom benn la mas a doon : « Bi ma fi ñëweek tey mat na ñaar-fukki at wànte su weesoo jaan ak tan, masu ma fee dajeek beneen rabu-àll. » Xéy-na it dama masoon a teewe fu muy kókkalee Kumandaŋu Óbudu, ca Kamerun. Kooku moom, dafa ma daan raayloo, ciy kaf, boppi dàngin ya mu ne woon moo leen rey, daan ma won itam tund ya woon ginnaaw këram. Ciy waxam de, fa lay coggali dàngin yu réy daan yéeg guddi gu nekk, tiim këram, di fëgg seen dënn ngir tiital ko. Lenn a ngi, nag, lu ma dul fàtte ba àddinay tukki : ci tali bi jëm sangukaayu Abaakaliki, ay nit ñu ñuul, ay galeer yu mel niy soldaar yuy maaj, ay takk-der séq leen ak seeni fetal.'},\n",
       " 70: {'french_corpus': 'Peut-être est-ce le regard de ma mère sur ce continent à la fois si neuf et si malmené par le monde moderne ? Je ne me souviens pas de ce qu’elle nous disait, à mon frère et à moi, quand elle nous parlait du pays où elle avait vécu avec mon père, où nous devions le rejoindre un jour. Je sais seulement que, lorsque ma mère a décidé de se marier avec mon père, et d’aller vivre au Cameroun, ses amies parisiennes lui ont dit : « Quoi, chez les sauvages ?» et qu’elle, après tout ce que mon père lui avait raconté, n’a pu que répondre : « Ils ne sont pas plus sauvages que les gens à Paris !»',\n",
       "  'wolof_corpus': 'Amaana sunu gis-gisu yaay ci Afrig mujje noo wàll. Afrig ma doon door a juddu, daanaka, te ñu teel koo teg coono àddina yu dul jeex. Dëgg la, fàttalikuwuma la mu nu ci daan wax. Li am daal, moo di ne ba mu nee dafa fay fekki Baay, xaritam ya dañoo meloon ni ñu tiit, ni ko : « Nga ni lan ? Looy wuti ci dëkki sowaas yooyu ? » Tontu bu leer te gàtt la leen tontu : « Waa Pari gënuñu leen a nite benn yoon ! » Te tont boobu, mu nga ko wékkoon ca la ko Baay daan faral a nettali ci Afrig.'},\n",
       " 71: {'french_corpus': 'Après Lagos, Owerri, Abo non loin du fleuve Niger. Déjà mon père est loin de la zone « civilisée ». Il est devant les paysages de l’Afrique équatoriale tels que les décrit André Gide dans son Voyage au Congo (à peu près contemporain de l’arrivée de mon père au Nigeria) : l’étendue du fleuve, vaste comme un bras de mer, sur lequel naviguent pirogues et bateaux à aubes, et les affluents, la rivière d’Ahoada avec ses « sampans » aux toits de palmes, poussés par des perches, et plus près de la côte, la rivière Calabar, et l’échancrure du village d’Obukun, taillée à coups de machette dans l’épaisseur de la forêt. Ce sont les premières images que mon père reçoit du pays où il va passer la plus grande partie de sa vie active, du pays qui va devenir, par force et par nécessité, son vrai pays.',\n",
       "  'wolof_corpus': 'Romb Legoos ak Ówéri, daldi agsi Aboo, ci wetu dexu Niseer. Baay a ngi dandu ndànk-ndànk dëkki taax yi, maanaam dëkk yu silwiise yi. Mu ngi ci Afrigu fentaakoon bu mag ma, Andare Siid, Afrig gi mu nuy nataalal ci téereem bu siiw boobu tudd Voyage au Congo. Bindkat boobook Baay a yeggandoo Afrig, daanaka. Li leen yéem, fees seeni bët, benn la tamit : yaatuwaayu dex gi, gaal yeek saxaari-géej yi ciy doxantu, bànxaasi dex yi, dexug Awóyadaa ak i gaalam ya ñu teg xobitiir ca kow te di leen bëmëxey bant yu gudd ; ci wetu tefes gi, dexug Kalabaar, ak dog-dogu dëkkub Óbukun, ňu yatt kook jaasi ci fi àll bi gënee fattu. Loolooy nataal yi jëkk a song Baay ca réew ma mu doon waaj a daani dooleem li ëpp cig dundam. Réew ma mujjee doon, mu neex ko mu naqadi ko, réewam dëggëntaan.'},\n",
       " 72: {'french_corpus': 'J’imagine son exaltation à l’arrivée à Victoria, après vingt jours de voyage. Dans la collection de clichés pris par mon père en Afrique, il y a une photo qui m’émeut particulièrement, parce que c’est celle qu’il a choisi d’agrandir pour en faire un tableau. Elle traduit son impression d’alors, d’être au commencement, au seuil de l’Afrique, dans un endroit presque vierge. Elle montre l’embouchure de la rivière, à l’endroit où l’eau douce se mêle à la mer. La baie de Victoria dessine une courbe terminée par une pointe de terre où les palmiers sont inclinés dans le vent du large. La mer déferle sur les roches noires et vient mourir sur la plage. Les embruns apportés par le vent recouvrent les arbres de la forêt, se mêlent à la vapeur des marécages et de la rivière. Il y a du mystère et de la sauvagerie, malgré la plage, malgré les palmes. Au premier plan, tout près du rivage, on voit la case blanche dans laquelle mon père a logé en arrivant. Ce n’est pas par hasard que mon père, pour désigner ces maisons de passage africaines, utilise le mot très mauricien de  « campement ». Si ce paysage le requiert, s’il fait battre mon cœur aussi, c’est qu’il pourrait être à Maurice, à la baie du Tamarin, par exemple, ou bien au cap Malheureux, où mon père allait parfois en excursion dans son enfance. Peut-être a-t-il cru, au moment où il arrivait, qu’il allait retrouver quelque chose de l’innocence perdue, le souvenir de cette île que les circonstances avaient arrachée à son cœur ? Comment n’y aurait-il pas pensé ? C’était bien la même terre rouge, le même ciel, le même vent constant de la mer, et partout, sur les routes, dans les villages, les mêmes visages, les mêmes rires d’enfants, la même insouciance nonchalante. Une terre originelle, en quelque sorte, où le temps aurait fait marche arrière, aurait détricoté la trame d’erreurs et de trahisons.',\n",
       "  'wolof_corpus': 'Baay def na ñaar-fukki fan ci gaal gi, jëm Wiktoryaa. Xam naa waroon naa bég ba mu fa àggee… Ci dajaleb fotoom ya, benn a ciy gën a daw sama yaram. Baay ci boppam bëggoon na lool foto boobu ba sax yàkki ko, def ko nataal, wékk. Fii nag mooy ndoorteelu Afrigam. Mu koy gise ni béréb bu doom-aadama masul a teg tànk. Nataal baa ngi fésal bël bi, fa ndox mu neex miy jaxasook ndoxu géej. Ruqu-géeju Wiktoryaa ngi def ab lunk-lunk bu jeexe ci catu suuf lu garabi-tiir yay sujjóotal ci ngelawu géej gi. Géej gaa ngi mar ak a maraat xeer yu ňuul yi ci tefes gi. Puuriti ginnax yaa ngi muur garabi àll bi, jaxasook saxaar siy bawoo ci ban beek dex gi. Géej gaa ngii. Garabi-tiir yaa ngi nii ñoom tamit. Moonte liñ leen di miin yépp, teewul mbir mi mel ni lu kéemaane te raglu. Ci kanamu nataal bi, lu sorewul lool tefes gi, benn néegu-ñax bu weex a ngi fi. Néegu-ñax boobu la Baay njëkk a fanaan. Seetlu woon naa ni néeg yooyu ñuy dalale gan ci Afrig, Baay masu leen a tudde lu dul « kampamaŋ». Muy baat ba ñuy jëfandikoo ca Móris. Loolu biral ni saa yu bët yiy doxantu ci gàncaxu Afrig, gàncaxu Móris day ñëw tegu ci kowam. Li mu njëkk a gis Afrig, mënoon na ko gis ci ruqu-géeju Tamareŋ walla boog Kab-Malëro ba mu xawoon a miin ca ngoneem. Amaana sax mu dem ba yaakaar ni Afrig dina ko lëkkalewaat ak Móris, jubale leen. Naka la mënoon a baň a xalaat loolu ? Amul dara lu wutale Afrig ak Móris. Suuf su xonq si benn la, asamaan si benn la te it ngelawu géej gi benn la. Te su loolu weesoo, mbedd moo aw gis ni xar-kanam yi niroo ak ni nit ñi féexalee seen àddina, gis fa itam gone yuy fo, di reetaan. Waaw : ndoorteelu dunyaa ngi nii. Jamono walbatiku. Démb doon tey. Njuumteek wor ne fàŋŋ.'},\n",
       " 73: {'french_corpus': 'Pour cela, je sens son impatience, son grand désir de pénétrer à l’intérieur du pays, pour commencer son métier de médecin. De Victoria, les pistes le conduisent à travers le mont Cameroun vers les hauts plateaux où il doit prendre son poste, à Bamenda. C’est là qu’il va travailler pendant les premières années, dans un hôpital à moitié en ruine, un dispensaire de bonnes sœurs irlandaises, murs de boue séchée  et toit de palmes. C’est là qu’il va passer les années les plus heureuses de sa vie.',\n",
       "  'wolof_corpus': 'Looloo waral may yëg ni mu yàkkamtee dugg ci biir réew mi, ngir gaaw a tàmbalee faj nit ñi. Yooni Wiktoryaa yaa nga jëm tundu Kamerun, ca dëkki tangori Bamendaa yu kowe ya mu waroon a doore liggéeyam. Dispañseeru waa kër làbbe yu jigéen a ko fa doon xaar. Dispañseer bu màggat ak i miiri banam yuñ teg xobi garabu-tiir. Mbégte ma Baay yëg foofu, dund na ba dee yëgaatu ko feneen.'},\n",
       " 74: {'french_corpus': 'Sa maison, c’est Forestry House, une vraie maison en bois à étage, recouverte d’un toit de feuilles que mon père va s’employer à reconstruire avec le plus grand soin. En contrebas, dans la vallée, non loin des prisons, se trouve la ville haoussa avec ses remparts de pisé et ses hautes portes, telle qu’elle était au temps de la gloire de l’Adamawa. Un peu à l’écart, l’autre ville africaine, le marché, le palais du roi de Bamenda, et la maison de passage du district officer et des officiers de Sa Majesté (ils ne sont venus qu’une seule fois, pour décorer le roi). Une photo prise par mon père, sans doute un peu satirique, montre ces messieurs du gouvernement britannique, raides dans leurs shorts et leurs chemises empesées, coiffés du casque, mollets moulés dans leurs bas de laine, en train de regarder le défilé des guerriers du roi, en pagne et la tête décorée de fourrure et de plumes, brandissant des sagaies.',\n",
       "  'wolof_corpus': 'Këram a ngi tudd Forestry House, dib taaxukowu dénk, jànq ba muurook i xob. Mu doon it kër gu Baay masul a tàyyee defaraat ak a toppatoo. Forestry House a ngi tiim dëkkub awsa ak tatay banam ak i buntam yu kowe, di fàttali jamono ja Aadamawaa nekkee ci ndënd yi. Sësu rikk ci moom, beneen gox bu ay doomi-réew mi doŋŋ dëkk. Fa la màrse beek Màkkaanu Buuru Bamendaa nekk. Ci gox boobu ba tey la ñuy dalal « District Officer » bi ak ófisey làrmeb Àngalteer. Ófise yooyu sax, kenn kott a ca mas a teg tànk Bamendaa, ngir ñëw tappal Buur bi ab sagaru medaay. Nataal bi Baay jël bés boobu – mu leer ni da leen doon kókkali ci suuf – a ngiy wone ndawi gornmaa àngale bi, ňu ne jadd ak seeni tubay yu gàtt ak seeni kask ak simis yu ňu gome. Ñu ngi toog di seetaan jàmbaari buur biy fecc, woddoo sér, di yëkkatiy xeej ak a gësëm njaňi kawari xar yeek dunq yiñ teg ci seen bopp.'},\n",
       " 75: {'french_corpus': 'C’est à Bamenda que mon père emmène ma mère après leur mariage, et Forestry House est leur première maison. Ils installent leurs meubles, les seuls meubles qu’ils ont jamais achetés et qu’ils emporteront avec eux partout : des tables, des fauteuils taillés dans des troncs d’iroko, décorés de sculptures traditionnelles des hauts plateaux de l’Ouest camerounais, léopards, singes, antilopes. La photo que mon père prend de leur salon à Forestry House montre un décor très « colonial » : au-dessus du manteau de la cheminée (il fait froid à Bamenda en hiver) est accroché un grand bouclier en peau d’hippopotame, assorti de deux lances croisées. Il s’agit vraisemblablement d’objets laissés là par un précédent occupant, car cela ne ressemble pas à ce que mon père pouvait rechercher. Les meubles sculptés, en revanche, l’ont accompagné jusqu’en France. J’ai passé une grande partie de mon enfance et de mon adolescence au milieu de ces meubles, assis sur les tabourets pour y lire les dictionnaires. J’ai joué avec les statues d’ébène, avec les sonnettes de bronze, j’ai utilisé les cauris en guise d’osselets. Pour moi, ces objets, ces bois sculptés et ces masques accrochés aux murs n’étaient pas du tout exotiques. Ils étaient ma part africaine, ils prolongeaient ma vie et, d’une certaine façon, ils l’expliquaient. Et avant ma vie, ils parlaient du temps que mon père et ma mère avaient vécu là-bas, dans cet autre monde où ils avaient été heureux. Comment dire ? J’ai ressenti de l’étonnement, et même de l’indignation, lorsque j’ai découvert, longtemps après, que de tels objets pouvaient être achetés et exposés par des gens qui n’avaient rien connu de tout cela, pour qui ils ne signifiaient rien, et même pis, pour qui ces masques, ces statues et ces trônes n’étaient pas des choses vivantes, mais la peau morte qu’on appelle souvent l’« art ».',\n",
       "  'wolof_corpus': 'Bamendaa la Baay yóbbu sama yaay ba mu séysee. Kon Forestry House mooy kër gi ñu jëkk a dëkk, ñoom ñaar. Jamono jooju lañu mas a jënd ay móobal. Fépp fu ñu mas a toxu, dañ yóbbaale móobal yooyu. Lim baa ngi, gàtt ba dee : ay taabal, toogu yu ňu yàtt ci dàttu iróko te ñu jekk-jekkal kook i nataali golo mbaa yu segg mbaa yu kooba, ni ko waa sowu-jantu Kamerun aadawoo. Nataalu Forestry House bi fi Baay bàyyi day fàttali bu baax nguuru Tubaab yi ca jamono jooju. Ci kow andu-Tubaab bi (Bamendaa dinay faral di liw lool) la kiiraay lu mag lonku, ñu defare ko deru léebéer te galen ci kowam ñaari xeej. Xam naa ni fa la ko Baay fekk ndax ni ma ko xame, nataal boobu woroo na lool ak gis-gisu Afrigam. Móobal yooyu nag, ya ca ëppon maanaa topp nañ ko ba Tugal. Man mii, ni ma nekkee gone gu ndaw ba jóge fa doon waxambaane, ci tabure yu ñu yatt yooyu la daan toog di jàng samay sàqum-baat. Fowe naay nit ak i mala yu ñu yatte dàttu aloom, fowe jóolóoliy xànjar, jël naay tani def leen i caqi yax yu ndaw. Dama mas a jàpp ni kenn mënumaa ëpple ci bant yooyu ňu yatt ak mask yi doon lonke ci miir yi. Ñoo doon sama cër ci Afrig, ňoo ma daan gunge, gën ma tax a xam, daanaka, lan a ma tàbbal dunyaa, man mii. Te it, daan naa ci jàng lu bare ci la samay ñaari way-jur jot a dund foofa, bég fa, nekk fa ci seen noflaay, laata may ganesi àddina. Naka laa ko mën a waxe sax ? Li wóor te wér moo di ne bi loolu lépp weesoo, ma doon mag, xam, xàmmee, saa yu ma gisee ku xamul dara ci Afrig jënd jumtukaay yooyu, damay jaaxle mbaa léeg-léeg sax ma mer. Dafa fekk ni du woon luy dund dëgg ci seen biir xol. Der bu dee la woon rekk, ñu neey loolu lañ tudde « taaral ».'},\n",
       " 76: {'french_corpus': 'Pendant leurs premières années de mariage, mon père et ma mère ont vécu là leur vie amoureuse, à Forestry House et sur les routes du haut pays camerounais, jusqu’à Banso. Avec eux voyageaient leurs employés, Njong le chocra, Chindefondi l’interprète, Philippus le chef des porteurs. Philippus était l’ami de ma mère. C’était un homme de petite taille, doué d’une force herculéenne, capable de pousser un tronc pour dégager la route ou de porter des charges que personne n’aurait pu soulever. Ma mère racontait que plusieurs fois il l’avait aidée à traverser des rivières en crue, en la tenant à bout de bras au-dessus de l’eau.',\n",
       "  'wolof_corpus': 'Ci at yu njëkk ya ci seenub séy, Baay ak sama yaay dund naň fa seen mbëggeel, moo xam ca Forestry House la woon mbaa ci taliy Kamerun yi jëmoon Bansoo. Seeni surga daan naňu tukkeek ňoom. Ku ci mel ni Njoŋ, « sokaraa » ba, walla Sindefondi, làppto bi, walla Filipus njiitu yenukat ya. Filipus a doon sama xaritu yaay. Ndaama lu amoon doole la, randal ab dàtt ngir xàll yoon walla yenu sëf bu diis, du woon dara ci moom. Sama yaay daan na wax ni du benn du ñaar, Filipus aj na ko ciy loxoom di xuus ci biir dex gu yëngatu.'},\n",
       " 77: {'french_corpus': 'Avec eux voyageaient aussi les inséparables compagnons de mon père, qu’il avait adoptés à son arrivée à Bamenda : James et Pégase, les chevaux, le front marqué d’une étoile blanche, capricieux et doux. Et son chien, nommé Polisson, une sorte de braque dégingandé qui trottait en avant sur les chemins, et qui se couchait à ses pieds partout où il s’arrêtait, même lorsque mon père devait poser pour une photo officielle en compagnie des rois.',\n",
       "  'wolof_corpus': 'Am na ñeneen ñaar, nag, ñuy ànd ak moom tukki : Sams ak Pegaas, ñaari fas yi te bu ci nekk am biddéew bu weex ci jë bi, mën a reewantu te sedd. Xajam ba, Polisoŋ, du nangoo des ginnaaw. Polisoŋ nag, wutewul ak xaju-sàmm, xaw a mel ni ku rabe. Dafa taq Baay ba foo ko fekk mu ngi tëdd ci tànk yi. Bu Baay dee nataalook yenn kilifa yu mag yi, ci Màkkaanu Buuru Bamendaa walla feneen, Polisoŋ day jaaxaan ci wetam, ànd ak fulla ju mat sëkk.'},\n",
       " 78: {'french_corpus': 'À partir de mars 1932, mon père et ma mère quittent la résidence de Forestry House à Bamenda et s’installent dans la montagne, à Banso, où un hôpital doit être créé. Banso est au bout de la route de latérite carrossable en toutes saisons. C’est au seuil du pays qu’on dit « sauvage », le dernier poste où s’exerce l’autorité britannique. Mon père y sera le seul médecin, et le seul Européen, ce qui n’est pas pour lui déplaire.',\n",
       "  'wolof_corpus': 'Ci weeru mars 1932 la samay way-jur jóge Forestry House ca Bamendaa, dem dëkki Bansoo, fa nguur gi waroon a tabax ab fajukaay. Ngir teeri Bansoo, muy noor di nawet, oto bi day daw cib taliy raŋ-raŋ ba jeexal ko. Daanaka soo ko weesoo rekk yaa ngi ci àll bi. Fa la kilifteefu Àngale yi yem. Baay rekk a fay fajkat te beneen nit ku weex newu fa ku dul moom. Te loolu de, wóor na ma ni am na ci mbégte mu réy.'},\n",
       " 79: {'french_corpus': 'Le territoire qu’il a en charge est immense. Cela va de la frontière avec le Cameroun sous mandat français, au sud-est, jusqu’aux confins de l’Adamawa au nord, et comprend la plus grande partie des chefferies et des petits royaumes qui ont échappé à l’autorité directe de l’Angleterre après le départ des Allemands : Kantu, Abong, Nkom, Bum, Foumban, Bali. Sur la carte qu’il a établie lui-même, mon père a noté les distances, non en kilomètres, mais en heures et jours de marche. Les précisions indiquées sur la carte donnent la vraie dimension de ce pays, la raison pour laquelle il l’aime : les passages à gué, les rivières profondes ou tumultueuses, les côtes à gravir, les lacets du chemin, les descentes au fond des vallées qu’on ne peut faire à cheval, les falaises infranchissables. Sur les cartes qu’il dessine, les noms forment une litanie, ils parlent de marche sous le soleil, à travers les plaines d’herbes, ou l’escalade laborieuse des montagnes au milieu des nuages : Kengawmeri, Mbiami, Tanya, Ntim, Wapiri, Ntem, Wanté, Mbam, Mfo, Yang, Ngonkar, Ngom, Nbirka, Ngu, trente-deux heures de marche, c’est-à-dire cinq jours à raison de dix kilomètres par jour sur un terrain difficile. Plus les arrêts dans les hameaux, les bivouacs, les soins à donner, les vaccins, les discussions (les fameuses palabres) avec les autorités locales, les plaintes qu’il faut écouter, et le journal de bord à tenir, l’économie à surveiller, les médicaments à commander à Lagos, les instructions à laisser aux officiers de santé et aux infirmiers dans les dispensaires.',\n",
       "  'wolof_corpus': 'Gox bi mu yilif nag, yaatu na lool. Mu ngi dale digaloom ak Kamerun gi ci moomeelu Farañse yi, wuti bëj-gànnaar, ca cati Aadamawa, ëmbaale dëkk yu ndaw-ndawaan yi Àngale yi jotul woon a teg loxo ba ñu fa dàqee Almaŋ yi. Muy dëkk yu mel ni : Kantu, Aboŋ, Nkom, Bum, Fumbaŋ ak Baali. Baay rëddal na boppam dénduw béréb yooyu ma tudd. Waaye màndarga ma mu taamu ngir fésal diggante ñaari dëkk du ay kilomet, ay waxtook ay bés lañu. Buñ nee bés nag, mooy ñaata bés ngay doxeek say tànk. Leeral yi ci dénd wi ňooy jox réew mi dayoom dëgg, di wone it li tax mu bëgg ko ba fu bëgg yem : yoon yi am ub xuusu, dex yu xóot yi te yëngu, mbartal yi ňu war a yéeg, sarale yi ci yoon wi, xur yi fas dul song, xeer yu mag yi sampu ci tefes gi te nga xam ni xool doŋŋ la ci ñépp am. Ci dénd yi muy rëdd, tur yi mel niy baat yuy dekkali dox bi ñuy dox ci ñax mi, naaj wu tàng wi, walla coonoy yéeg ay tangor yuy raay niir yi. Tur yaa ngi : Keŋawméeri, Mbiyaami, Tañaa, Tim, Wapiri, Njem, Wànte, Mbam, Mfoo, Yaŋ, Ngonkaar, Ngom, Birkaa, Nguu… Ci juróomi fan, ñu dox lu mat fanweeri waxtu ak ňaar, te du benn fan wu ñu doxul fukki kilomet. Jafe-jafe yi yemul foofu, ndax fàww ñu taxaw ci yenn dëkk yi, su guddee ñu war faa samp mbaar. Paj mi tamit ci la, ak ndaje yi ci pénc mi, ñu war faa toog di werante jëmale ajag-jag. Waaye ginnaaw kilifay dëkk yooyu dañoo gaaw a gis seen bopp, mënul a def lu dul déglu leen ñuy xuloo, di tamante dëmm, moom mu leen di jéem a jubale. Te laata muy dem fenn, fàww mu wax ña ko fay toogal yan garab lañu war a wuti Legoos. Du nelaw mukk te tëralul ci karneem lépp li mu gis ak lépp li mu dégg ci bés bi, ngir liggéeyam jëm kanam.'},\n",
       " 80: {'french_corpus': 'Pendant plus de quinze ans, ce pays sera le sien. Il est probable que personne ne l’aura mieux ressenti que lui, à ce point parcouru, sondé, souffert. Rencontré chaque habitant, mis au monde beaucoup, accompagné d’autres vers la mort. Aimé surtout, parce que, même s’il n’en parlait pas, s’il n’en racontait rien, jusqu’à la fin de sa vie il aura gardé la marque et la trace de ces collines, de ces forêts et de ces herbages, et des gens qu’il y a connus.',\n",
       "  'wolof_corpus': 'Lu mat fukki at ak juróom ak lu topp, réew moomu doŋŋ ay réewam. Amaana sax, kenn masu ko koo gën a jege mbaa gën koo gëstu ay mbiram. Bariwul tamit ñu fa jaabante ni moom, miin dëkki-kow yépp, daanaka, walla ñu daj fa coono bi mu fa daj. Ku fay doom-aadama, am na fu mu jaar ak yow ; mooy doktoor biy rewle te du benn du ñaar nit sukkuraat na, mu teewe ko, ñaanal la. Kon, ku ñu ni doomi-réew moomu amoon nañu cofeel gu réy ci moom, du la bett. Moonte moom ci boppam daawu ko ndamoo. Wànte màndargay Afrigam masuñu koo may jàmm. Masul a fàtte tund yaak àll bu xonq ba rawatina doom-aadama yi mu fa digaleel.'},\n",
       " 81: {'french_corpus': 'À l’époque où il parcourt la province du Nord-Ouest, les cartes sont inexistantes. La seule carte imprimée dont il dispose est la carte d’état-major de l’armée allemande au 1/300 000 e relevée par Moisel en 1913. Hormis les principaux cours d’eau, le Donga Kari affluent du Bénoué au nord et la rivière Cross au sud, et les deux cités anciennes fortifiées de Banyo et de Kentu, la carte est imprécise. Abong, le village le plus au nord du territoire médical de mon père, à plus de dix jours de marche, est mentionné sur la carte de l’armée allemande avec un point d’interrogation. Les districts de Kaka, de Mbembé sont si loin de la zone côtière que c’est comme s’ils appartenaient à un autre pays. Les gens qui y vivent pour la plupart n’ont jamais vu d’Européens, les plus âgés se souviennent avec horreur de l’occupation de l’armée allemande, des exécutions, des rapts d’enfants. Ce qui est certain, c’est qu’ils n’ont pas la moindre idée de ce que représente la puissance coloniale de l’Angleterre ou de la France, et n’imaginent pas la guerre qui se prépare à l’autre bout du monde. Ce ne sont pas des régions isolées ni sauvages (comme mon père pourra le dire, en revanche, du Nigeria, et particulièrement de la forêt autour d’Ogoja). Au contraire, c’est un pays prospère, où on cultive les arbres fruitiers, l’igname et le millet, où on pratique l’élevage. Les royaumes sont au cœur d’une zone d’influence, sous l’inspiration de l’islam venu des empires du Nord, de Kano, des émirats de Bornu et d’Agadez, de l’Adamawa, apporté par les colporteurs foulanis et les guerriers haoussas. À l’est, il y a Banyo et le pays bororo, au sud l’antique culture des Bamouns de Foumban qui pratiquent l’échange, sont maîtres dans l’art de la métallurgie et utilisent même une écriture inventée en 1900 par le roi Njoya. La colonisation européenne en fin de compte a très peu touché la région. Douala, Lagos, Victoria sont à des années de là. Les montagnards de Banso continuent à vivre comme ils l’ont toujours fait, selon un rythme lent, en harmonie avec la nature sublime qui les entoure, cultivant la terre et paissant leurs troupeaux de vaches à longues cornes.',\n",
       "  'wolof_corpus': 'Su weesoo dénd wi làrme réewum Almaañ defar ci xasabu 1/300 000, te ku ñuy wax Muwaasel jëfandikoo ko ci atum 1913, Baay amutoon beneen nataalu diiwaanu sowu-kow ba mu daan wër. Nataal boobu sax, ay rëddam dese nañoo leer. Gaa, mënees nañ cee xàmmee dex yi seen tur gën a siiw. Dongaak Kari it dinañ ci feeñ bu baax ak bànqaasu Bénuwe ca bëj-gànnaar, dexug Koros ca bëj-saalum. Dinañ ci gis it Banyook Kentu, ňaari dëkki cosaan ak seeni tata ya leen daan aar. Fa la njariñu nataal bi yem. Fàww nga dox lu ëpp fukki fan door a àgg Aboŋ, ca bëj-gànnaaru Bansoo. Moonte Almaŋ yi binduñu turam ci kayit gi, ab tombu-laaj lañ fa samp. Diiwaani Kakaak Mbembe ñoom, sore naňu tefes gi sore gu, dafa mel ni bokkuñu ci dunyaa. Bariwu fa ñu mas a teg bët Tubaab. Waaye mag ñi fàttewuñu jamono ja Almaañ moomee seen dëkk, di rey, di sàcc xale yeek a def yeneeni ñaawtéef. Kon ñoom, seen ŋaññ ci kàttanu Àngalteer walla Frãs. Ku leen ni woon àddinaa ngi waajal xare bu réy, ñu ni la : « Moo yow, looy wax nii ? » Waaye ku loolu tax a yaakaar ni ay diiwaan yu àlle lañu, juum nga. Baay mënoon naa wax lu ni mel ci Niseryaa, rawati-na ci àll bi wër Ogosaa. Wàntee fii, réew mu naat la, bariy garab yuy meňň i doom, ñu fay bey ñambeek dugub, càmm gi it bari fa lool, kaar. Réewi diiwaan boobu, xëccoo nguur ak jaayante doole yàgg nañ fa. Diine lislaam teel na faa agsi, jóge Kano, ca bëj-gànnaar. Kilifay diine yu mag ya ca Agadees, Bornook Aadamawaa itam bokk nañ ci ñi tuubloo ceddo yooyu. Lépp nag ñu nga ko jaarale ci làrme bu Awsa yi ak ci Pël yi daan wër di jaay ak a jënd. Banyook réewu Bororo yaa ngi féete penku. Soo daagoo ba bëj-saalum, dinga fa fekk Bamun yu Fumbaŋ yiy yëngu ñoom it ci njënd meek njaay mi, xereñ lool ci liggéeyu weñ tey jëfandiko sax mbind mu seen benn Buur, Njoyaa, sos ci atum 1900. Fii, Tubaab bi jotu fee am doole noonu. Sooy méngale diiwaan beek Duwaalaa, Legoos walla Wiktoryaa, day mel ni Yàllaak Yaali. Ña dëkke tangor ya ca Bansoo, ñu ngi wéy di dunde nañu mas a dunde. Yàkkamtiwuñu seen àddina, seen lépp a dëppook àll bi leen wër. Mbey mi tam amal na leen solo lool wànte teewu leen a ànd ak seeni gétti nag ya ca béjjén yu gudd ya, ñuy màngi.'},\n",
       " 82: {'french_corpus': 'Les clichés que mon père prend avec son Leica montrent l’admiration qu’il éprouve pour ce pays. Le Nsungli, par exemple, aux abords de Nkor : une Afrique qui n’a rien de commun avec la zone côtière, où règne une atmosphère lourde, où la végétation est étouffante, presque menaçante. Où pèse encore plus lourdement la présence des armées d’occupation française et britannique.',\n",
       "  'wolof_corpus': 'Portale yi fi Baay jël, biral nañ cofeelam ci mim réew. Sungali, ci weti Kor, firnde la ci : fii jotewul daraak Afrig gi géej gi yàkkali dënnam. Jaww jaa ngi diis bee, gàncax gi day teree noyyi te sax ragal du ko sànjaafu. Ma yokk ci ne amul fenn fu ñuy gën a seetloo ba sunu-jonni-Yàlla-tey jii, jéyya yi soldaari Àngalteer ak Frãs def Afrig ciy jamono.'},\n",
       " 83: {'french_corpus': 'Ici, c’est un pays aux horizons lointains, au ciel plus vaste, aux étendues à perte de vue. Mon père et ma mère y ressentent une liberté qu’ils n’ont jamais connue ailleurs. Ils marchent tout le jour, tantôt à pied, tantôt à cheval, et s’arrêtent le soir pour dormir sous un arbre à la belle étoile, ou dans un campement sommaire, comme à Kwolu, sur la route de Kishong, une simple hutte de boue séchée et de feuilles où ils accrochent leurs hamacs. À Ntumbo, sur le plateau, ils croisent un troupeau, que mon père photographie avec ma mère au premier plan. Ils sont si haut que le ciel brumeux semble s’appuyer sur les cornes en demi-lune des vaches et voile le sommet des montagnes alentour. Malgré la mauvaise qualité des tirages, le bonheur de mon père et de ma mère est perceptible. Au dos d’une photo prise quelque part dans la région des Grass Fields, en pays mbembé, qui montre le paysage devant lequel ils ont passé la nuit, mon père écrit avec une emphase inhabituelle : « L’immensité qu’on voit au fond, c’est la plaine sans fin. »',\n",
       "  'wolof_corpus': 'Réew mii la ndiir-bët yem. Ni asamaan si yaatoo dafa rekk yéeme, joor gi naka noonu. Samay way-jur yëg ñañu fi jàmmu yaram ju ñu masul a yëg feneen. Dañuy xéy di wër ba ngoon jot, léeg-léeg ñuy doxe tànk, léeg-léeg ñu war fas. Fu leen guddi bett, ñu fanaan fa, nelaw cib taatu garab mbaa ci biir berkelle bu yem. Ca Kawóolu, ci tali Kisoŋ bi, bañ fa fekkee néeg buñ defare ban bu wow ak i xob, dañu daldi lonk seeni njoowaan. Am na nataal bu Baay jël ba ñu yeggee Tumboo : sama yaay a ngi taxaw ci kanamu benn géttu nag. Fi ñu nekk dafa kowe ba mu mel ni asamaan saa ngi wéeru ci béjjéni nag yi, tey nëbbaale tangor yi leen wër. Nag yeek seeni béjjén yu lonku, bindoo ni xaaju weer wi… Portale bi dese naa leer waaye teewul ma ciy gis bu baax a baax sama bànneexu ñaari way-jur yi. Yeewu nañu bés ci àllu Garaas Fiild, fi mbembe yi fekk baax, Baay jël nataal ba noppi bind ci ginnaaw, ak ñàkkum dal mu ko kenn masul a xame : « Lee ñuy séen fu soree-sori, mooy joor gi amul àpp. »'},\n",
       " 84: {'french_corpus': 'Je peux ressentir l’émotion qu’il éprouve à traverser les hauts plateaux et les plaines herbeuses, à chevaucher sur les étroits sentiers qui serpentent à flanc de montagne, découvrant à chaque instant de nouveaux panoramas, les lignes bleues des sommets qui émergent des nuages tels des mirages, baignés dans la lumière de l’Afrique, tantôt violente à midi, tantôt atténuée par le crépuscule, quand la terre rouge et les herbes fauves semblent éclairées de l’intérieur par un feu secret.',\n",
       "  'wolof_corpus': 'Li koy yëngal noonu, xam naa ko. Lan moo ko dàqal xuus ci biir ñax mi, di baagante diggante joor ak jéeri ? Mbégte mu réy lay am it saa yu waree fasam di jaar ciy yoon yu xat, romb ab tangor, fu mu geestu gis fa gàncax gu amul fenn. Mu ngi yéemu ci rëdd yu baxa yi ci catu tangor bi te mel ni dañoo fëlle ci niir yi. Lépp nag, sóobu ci leerug Afrig. Leer giy am doole lool njolloor tey dal-lu as lëf su timis jotee. Fekk suuf si xonq coyy, ñax mi gélémbu, mu mel ni safara su kéemaanee leen di jafal.'},\n",
       " 85: {'french_corpus': 'Ils connaissent aussi l’ivresse de la vie physique, la fatigue qui rompt les membres au bout d’un jour de marche, quand il faut descendre de cheval et le guider par la longe pour se rendre au fond des ravins. La brûlure du soleil, la soif qu’on ne peut étancher, ou le froid des rivières qu’il faut traverser en plein courant, avec l’eau jusqu’au poitrail des chevaux. Ma mère monte en amazone, comme elle a appris à le faire au manège d’Ermenonville. Et cette posture si inconfortable – sans doute vaguement ridicule, la séparation des sexes qui est encore de mise en France avant la guerre – paradoxalement lui donne un air d’Africaine. Quelque chose de nonchalant et de gracieux, en même temps de très ancien, qui évoque les temps bibliques, ou bien les caravanes des Touareg, où les femmes voyagent à travers le désert accrochées dans des nacelles aux flancs des dromadaires.',\n",
       "  'wolof_corpus': 'Xam naňu it lu tés-tési ba dog tekki, coonob wëndéelu bésub lëmm ci àll bi. Coonob war a wàcc sa fas, ngeen ànd jëm ca biir xur ya. Jant biy lakk seen yaram. Mar di leen miirloo, ngeen war a xuus ci biir dex gi, ndox mi sedd guyy, di yéeg ba ci dënnu fas yi. Sama yaay, genn wet lay ware fas. Noonu lañ ko ko jàngale Tugal, ca Ermenoŋwiil. Toogaay gën na koo noppale, moom. Xaw na sax reelu, wax dëgg, di nu fàttali ne, laata xare biy kalaate, kenn xalaatul woon a jox jigéeni Tugal yi seen yelleef. Loolu am na. Wànte teewul – muy lu doy waar, nag – ku ko gis ci kow fas wi danga naan jeegu Afrig tigi la. Danga naan yaram wépp a ngi noyyi, mu féex ba bëgg a dee. Soo moytuwul, jaawale kook nataal yooyu bawoo ca jamonoy maamaati-maam ya. Walla mu fàttali la jeegi Tuwaareg yiy faral a tukki ay fan i fan ci màndiŋ mi, ni faax ci benn wetug gëléeem gu ñu leen lonkal ab toogu.'},\n",
       " 86: {'french_corpus': 'Ainsi elle accompagne mon père dans ses tournées médicales, avec la suite des porteurs et l’interprète, à travers les montagnes de l’Ouest. Ils vont de campement en campement, dans des villages dont mon père note les noms sur sa carte : Nikom, Babungo, Nji Nikom, Luakom Ndye, Ngi, Obukun. Les campements sont parfois plus que précaires : à Kwaja, en pays kaka, ils logent dans une hutte de branches sans fenêtre au milieu d’une plantation de bananiers. Il y fait si humide qu’il faut mettre chaque matin les draps et les couvertures à sécher sur le toit. Ils y restent une ou deux nuits, parfois une semaine. L’eau à boire est acide et violacée de permanganate, on se lave au ruisseau, on cuisine sur un feu de brindilles à l’entrée de la hutte. Les nuits sont froides, dans les montagnes sous l’équateur, bruissantes, remplies des clameurs des chats sauvages et des aboiements des mandrills. Pourtant, ce n’est pas l’Afrique de Tartarin, ni même celle de John Huston. C’est plutôt celle d’African Farm, une Afrique réelle, à forte densité humaine, ployée par la maladie et les guerres tribales. Mais forte et exhilarante aussi, avec ses enfants innombrables, ses fêtes dansées, la bonne humeur et l’humour des bergers rencontrés sur les chemins.',\n",
       "  'wolof_corpus': 'Mook Baay ñu ànd di wër dëkki tangor yi féete sowu-jant, fu ne ñu dem fa ngir faj képp ku feebar, làppto beek yenukat yi topp seen ginnaaw. Daňu daan jóge dalukaay bii, dal ca ba ca des, dëkk buñ dem Baay daldi dugal tur wa ci déndam : Nikom, Babungo, Njii-Nikom, Luwaakom Ndiyee, Ngii, Òbukun. Léeg-léeg, seen dalukaay du dal xel dara, waay : Kuwajaa doy na ci tegtal. Foofa, ca réewum Kakaa yi, néegu bànxaas bi ñu war a fanaan ci biir toolu-banaana yi, amul sax palanteer. Dafa tàng bay guusal mbàjj yeek darab yi, suba su jot ñu war leen a weer ci kow jànq bi. Kër yu ni mel, dinañ fa fanaan benn walla ñaari guddi, léeg-léeg ñu toog fa lu mat ayu-bés, di naan ndox mu wex ba noppi permanganaat bi nganjal ko. Dinañuy faral di sangu ci dex gu ndaw gi, di dajale ñax mu wow, teg ci seen cin taal reer mbaa añ. Ci dëkki tangor yooyu jege Dogale-bi, guddi yi dañuy nangoo liw. Fii moom, dafa bare coow, ak muusi-àll yiy jooy ak baabun yiy yuuxu. Ndaxam du Afrigu Tartareŋ, du sax Afrigu Jon Yuston. African Farm la gën a jege. Nga gis ni mu barey nit, ni mu yëge kàttanam te balaa yu dul jeex di ko sotoo. Benn wóomam yegg suuf, muy yëg ni muy tërëf-tërëfee, waaye du ko tax a ñaaw ci xare bi. Foo walbatiku say bët dajeek ay naaxi gone ak seen biiri-taññ, ñépp di woy di fecc. Saa yu samay way-jur taseek ay sàmm ciw ñall, daldi yéemu ci seen neex deret ak seen am xorom.'},\n",
       " 87: {'french_corpus': 'Le temps de Banso, pour mon père et ma mère, c’est le temps de la jeunesse, de l’aventure. Au long de leurs marches, l’Afrique qu’ils rencontrent n’est pas celle de la colonisation. L’administration anglaise, selon un de ses principes, a laissé en place la structure politique traditionnelle, avec ses rois, ses chefs religieux, ses juges, ses castes et ses privilèges.',\n",
       "  'wolof_corpus': 'Bansoo : amul béréb bu ñu gënee yëg seen dooley ndaw, amul fu ñu gënee yëg ni ñoo yilif seen bopp te amul dara lu leen war a të. Fexe nañu ba mucc ci Afrigu nguurug Tubaab yi. Ñàkkul doxalinu Àngale yi gën leen koo yombal. Ndax ñoom, dañuy teg loxo ci sa réew ba noppi ni la sunu yoon newul ci say aada ak yu ni mel. Su ko defee, buur ya fa newoon di wéy di toog ci jal bi, kilifa diine yeek àttekat yeek ñoom-seen di doxal ñoom it seeni mbir nañu ko mas a defe.'},\n",
       " 88: {'french_corpus': 'Quand ils arrivent dans un village, ils sont accueillis par les émissaires du roi, conviés aux palabres, et photographiés avec la cour. Sur un de ces portraits, mon père et ma mère posent autour du roi Memfoï, de Banso. Selon la tradition, le roi est nu jusqu’à la ceinture, assis sur son trône, son chasse-mouches à la main. À ses côtés, mon père et ma mère sont debout, vêtus d’habits fatigués et empoussiérés par la route, ma mère avec sa longue jupe et ses souliers de marche, mon père avec une chemise aux manches roulées et son pantalon kaki trop large, trop court, serré par une ceinture qui ressemble à une ficelle. Ils sourient, ils sont heureux, libres dans cette aventure. Derrière le roi, on aperçoit le mur du palais, une simple case de briques de boue séchée où brillent des brins de paille.',\n",
       "  'wolof_corpus': 'Bu ñu agsee ci dëkk, ndawal buur bee leen di teerusi, dalal leen ca pénc ma, ñu portalewu ak buur beek i dagam. Am na nataal bu ñu séq Memfoy, Buuru Bansoo. Ni ko waa Bansoo aadawoo, Buur baa ngi def yaramu neen ba ci ndigg li, toog ci gànguneem, téye uppukaayam. Samay way-jur a ngi taxaw ci wetam ak seeni yére yu ràpp te pënde. Sama yaay ngi sol sipp bu gudd ak i dàll yu ñeme àll bi, Baay simis bu mu wag ak tubéy ju yaatu, gàtt lool ba noppi, nag, geetarook geño guy nirook buum. Ñu ngi muuñ. Aa, ñii ñaar bég nañu, de, féex niy doxandéem… Ci seen ginnaaw, miiru màkkaanu buur bi, di ab néegu-ñax kese ak i móoli ban yu ñu wowal te poñet yay mel ni luy melax léeg-léeg.'},\n",
       " 89: {'french_corpus': 'Parfois, au cours de leur route à travers les montagnes, les nuits sont violentes, brûlantes, sexuées. Ma mère parle des fêtes qui éclatent soudain, dans les villages, comme à Babungo, en pays nkom, à quatre jours de marche de Banso. Sur la place, le théâtre masqué se prépare. Sous un banian, les joueurs de tam-tam se sont assis, ils frappent, et l’appel de la musique se répercute au loin. Les femmes ont commencé à danser, elles sont complètement nues, sauf une ceinture de perles autour de la taille. Elles avancent l’une derrière l’autre, penchées en avant, leurs pieds battent la terre au même rythme que les tambours. Les hommes sont debout. Certains portent des robes de raphia, d’autres ont les masques des dieux. Le maître des ju-jus dirige la cérémonie.',\n",
       "  'wolof_corpus': 'Am nay guddi yu, nit ñi dañuy tàggook seen sago, seen yaram tàng, mel ni sax lu leen rëcc, ñu koy séen muy wéy di dem. Mas naa dégg sama yaay muy yéemu ci liñ daan jékkee-jékki rekk dëkk bépp ràkkaaju. Babungoo ko doon tax a wax, keroog. Soo jógee Bansoo, dinga dox ñeenti fan soog a yegg Babungoo, ca réewum nkom ya. Ci bayaal bi, kilibu nëbb-sa-kanam baa ngiy waaj a door. Ci taatu keemuur gi, tëggkati sabar yaa ngi toog, di rëkk ak doole, foo tollu di leen dégg. Jigéen ñi tàmbali nañoo fecc, daanaka dañu ne duŋŋ, su weesoo jal-jali yi ci seen ndigg, du dara luñ sol. Fecckat yaa ngi jiitle di wër làng gi, seen tànk yiy dóor suuf seek doole ñoom tamit, ànd ak njiinum sabar yi. Góor ñaa ngi taxaw, ñii sol yérey xasum garab, ñeneen ñi téye xar-kanami seeni Yàlla. Sangub xërëmkat yeey jiite xew-xew bi.'},\n",
       " 90: {'french_corpus': 'Cela commence au déclin du soleil, vers six heures, et dure jusqu’à l’aube du lendemain. Mon père et ma mère sont couchés dans leur lit de sangles, sous la moustiquaire, ils écoutent battre les tambours, selon un rythme continu qui tressaille à peine, comme un cœur qui s’emballe. Ils sont amoureux. L’Afrique à la fois sauvage et très humaine est leur nuit de noces. Tout le jour le soleil a brûlé leur corps, ils sont pleins d’une force électrique incomparable. J’imagine qu’ils font l’amour, cette nuit-là, au rythme des tambours qui vibrent sous la terre, serrés dans l’obscurité, leur peau trempée de sueur, à l’intérieur de la case de terre et de branches qui n’est pas plus grande qu’un abri à poules. Puis ils s’endorment à l’aube, dans le souffle froid du matin qui fait onduler le rideau de la moustiquaire, enlacés, sans plus entendre le rythme fatigué des derniers tam-tams.',\n",
       "  'wolof_corpus': 'Pecc maa ngi tàmbali bi jant biy waaj a so. Noonu lañ ko ci nekkale ba ca ëllëg sa ca njël. Sama yaay ak Baay a nga jaaxaan ca seen néeg bu tuuti ba ni ngunug-ginaar, sànke bi muur leen. Ñu ngi dégg ni sabar yi teeyee, mel ni xolu doom-aadama bu ànd ak dal. Ñaar ñii, bëggante nañu ci dëgg-dëgg. Afrig ci boppam, boole ràŋŋatikook xol bu rafet lool, mooy seen guddig jébbale. Bëccëg googu yépp, naaj wi lakk na seen yaram, may ko doole ju kenn xamul nu mu tollu. Tey daal, ñu ngi yëg bu baax seen kàttanug gone. Njort naa ni jote nañu guddi googu, tëgkati sabar yi di leen jiin, di yëngal suuf si, seeni yaram maasaloo ci lëndëm gi, ñu ñax bay siit. Suñ fa jógee, sonn, ne yàcc, nelaw ba fajar. Su ngelawu njël lu sedd liy raay sànke bi, dina fekk ku ci nekk a ngi kott moroom mi, fekk it riiri sabar yiy dakk ndànk-ndànk.'},\n",
       " 91: {'french_corpus': 'Si je veux comprendre ce qui a changé cet homme, cette cassure qu’il y a eu dans sa vie, c’est à la guerre que je pense. Il  y a eu un avant, et un après. L’avant, pour mon père et ma mère, c’étaient les hauts plateaux de l’Ouest camerounais, les douces collines de Bamenda et de Banso, Forestry House, les chemins à travers les Grass Fields et les montagnes du Mbam et des pays mbembé, kaka, shanti. Tout cela, non comme un paradis – rien à voir avec la douceur alanguie de la côte à Victoria, le luxe des résidences et l’oisiveté des colons –, mais un trésor d’humanité, quelque chose de puissant et généreux, tel un sang pulsé dans de jeunes artères.',\n",
       "  'wolof_corpus': 'Su ma bëggee xam lu tax Baay soppiku, lu waral dog-dog bi ma seetlu ci dundam, ci xare bi la sama xel di njëkk a dem. Lees war a ràññee mooy jamono ji jiitu xare bi ak jamono ji ci topp. Xaaj bu njëkk bi, mooy bañ nekkee ñoom ñaar sowub Kamerun, miin Bamendaak Bansoo ak seeni tund ya noppal bët ba dee, di fanaan Forestry House, di fa yeewo. Te yab lool nag, ñall yiy romb Garaas Fiild ak tangori Mbam, ca réewi mbembe yeek Kakaa yeek Sànti yi. Ngalla, bu kenn tudde loolu àjjana. Sori nañ bu baax Wiktoryaak tefesam gu féex ga. Sori nañ Tubaabam ya ni faax ci seeni kër yu yànj, ragal coono àddina ba nga ni lii lu mu doon. Bansoo, tabe laa fa gis ak jox cër doom-aadama. Kàttan ga ma fa seetlu, mu ngi mel ni deretu ndaw juy yëngu ciy sidditam.'},\n",
       " 92: {'french_corpus': 'Cela pouvait ressembler au bonheur. C’est à cette époque que ma mère est tombée enceinte deux fois. Les Africains ont coutume de dire que les humains ne naissent pas du jour où ils sortent du ventre de leur mère, mais du lieu et de l’instant où ils sont conçus. Moi, je ne sais rien de ma naissance (ce qui est, je suppose, le cas de tout un chacun). Mais si j’entre en moi-même, si je retourne mes yeux vers l’intérieur, c’est cette force que je perçois, ce bouillonnement d’énergie, la soupe de molécules prêtes à s’assembler pour former un corps. Et, avant même l’instant de la conception, tout ce qui l’a précédée, qui est dans la mémoire de l’Afrique. Non pas une mémoire diffuse, idéale : l’image des hauts plateaux, des villages, les visages des vieillards, les yeux agrandis des enfants rongés par la dysenterie, le contact avec tous ces corps, l’odeur de la peau humaine, le murmure des plaintes. Malgré tout cela, à cause de tout cela, ces images sont celles du bonheur, de la plénitude qui m’a fait naître.',\n",
       "  'wolof_corpus': 'Su lii dul bànneex it, niru na ko lool. Jamono jooju la sama yaay ëmb ñaari yoon. Ci gisu-gisu doomiy Afrig, du bés bi nit ki juddoo la ganesi àddina. Ñoom, dañu jàpp ni bés bi ay way-juram jotee am solo. Xamuma dara ci samag juddu (war naa naa cee bariy moroom…) waaye su ma daagoo ba fa gën a sore ci man, seen kàttan googoo may feeñu ak pëndaxit bi seen yaram di togg ak a toggaat, mu jaxasoo ba indi jëmmu doom-aadama. Te sax, lépp li jiitu saa soosu ñu ma sàkk lañuy fàttalikoo Afrig. Noonu rekk la. Su ma nee fàttaliku, du nag këf kuy wëndéelu ci seen biir xel, amul tur amul sant. Lu ñu naan jàkk la, daanaka : dun yu kowe ya, dëkk yi ñu dem ba xam, xàmmee leen, xar-kanami màggat ñi, bëti xale yi ne xóll ndax biiru-taňň bi leen lottal, dankalikoo bu metti beek xetu doomu-aadama yi, nit ñi dëkke jàmbat ci pet. Teewul nataal yiy dekkali bànneex beek tawféex ji ma xàllal yoon ba ma ni cëpp dunyaa.'},\n",
       " 93: {'french_corpus': 'Cette mémoire est liée aux lieux, au dessin des montagnes, au ciel de l’altitude, à la légèreté de l’air au matin. À l’amour qu’ils avaient pour leur maison, cette hutte de boue séchée et de feuilles, la cour où chaque jour les femmes et les enfants s’installaient, assis à même la terre, pour attendre l’heure de la consultation, un diagnostic, un vaccin. À l’amitié qui les rapprochait des habitants.',\n",
       "  'wolof_corpus': 'Ay béréb laay fàttaliku, moo xam rëddi tangor yi la mbaa asamaan seek péexu suba teel mi. Bokk na ci li koy firndeel, ni samay way-jur fonkee seen kër : néegu-ban bi muroo ay xobi garab, ëtt bi jigéen ñiy dajaloo bés bu nekk, gapparu, di xaar seen doktoor. Loolu jur xaritoo, samay way-jur gënatee jege seeni dëkkandoo.'},\n",
       " 94: {'french_corpus': 'Je me souviens comme si je l’avais connu de l’assistant de mon père à Banso, le vieux Ahidjo, qui était devenu son conseiller et son ami. Il s’occupait de tout, de l’intendance, de l’itinéraire à travers les pays lointains, des relations avec les chefs, des salaires des porteurs, de l’état des cases de passage. Il l’avait accompagné au début dans les voyages, mais son grand âge et son état de santé ne le lui permettaient plus. Il n’était pas payé pour le travail qu’il faisait. Sans doute y gagnait-il du prestige, du crédit : il était l’homme de confiance du toubib. C’est grâce à lui que mon père  a pu trouver ses repères dans le pays, être accepté de tous (y compris des sorciers dont il était le concurrent direct), exercer son métier. Durant la vingtaine d’années qu’il a passée dans l’Ouest africain, mon père n’aura gardé que deux amis : Ahidjo et le « docteur » Jeffries, un district officer de Bamenda qui se passionnait pour l’archéologie et l’anthropologie. Un peu avant le départ de mon père, Jeffries termina effectivement son doctorat et fut engagé par l’université de Johannesburg. Il envoyait des nouvelles de temps à autre, sous la forme d’articles et de brochures consacrés à ses découvertes, et aussi, une fois l’an, pour Boxing day, un colis de pâtes de goyave d’Afrique du Sud.',\n",
       "  'wolof_corpus': 'Mbir mi dafa am doole ba yenn saa yi sama xel dem ci góor guñ daan wax Ayijoo, ma koy gisaat, doonte sax masuma koo teg bët. Moo daan jàppale Baay ca Bansoo, nekk it xaritam. Moo daan toppatoo lekk geek liggéeyu kër gi wànte yemu fa woon. Da daan xelal it Baay ci yoon yi ňuy war a jaar, di dox diggantem ak yenn kilifa yi, di jox yenukat seen pey. Bu ñu wàccaan fenn, Ayijoo daan jëkk xooli néeg yiñ leen doon dalal, ba xam ndax jag nañoom déet. Daan na faral di gunge Baay ca njëlbéen ga wànte dafa mujjee dakkal loolu ba mu gënee jëm mag, xiibon. Daawuñu ko fey fiftin bi gën a tuuti ci liggéey boobu mu daan def, wànte da doon yokk darajaam, ñu koy xoole bëti doktoor bi wóolu. Su Baay demee ba fépp fu mu teg tànkam xam na mooy fan, Yàllaak góor googoo tax. Jibar yi sax, nga xam ni mënoon na leen a yàqal seen liggéey, wegoon nañu Baay. Niñ ko yaatale woon noonu, Ayijoo dara la ci woon. Ñaar-fukki at ñaar ya mu nekk Afrig sowu-jant yépp, Baay ňaari xarit doŋŋ la fa mas a am : Ayijoo ak « doktoor » Sefiriis, « District Officer » bu Bamendaa. Sefiriis, ku xëroon la ci xam-xamu cosaanu suuf si ak nekkinu doom-aadama ciw askanam. Yàggul dara laata Baay di jóge Afrig, Sefiriis amoon na lijaasa bu mag ci ñaari fànn yooyu ba dem jàngaleji iniwersite Sowaanesbuur. Daan na yónnee léeg-léeg ay bataaxal, di ci joxey xibaar ci gëstu yu am solo ya mu daan def. Su at mi deewaan, daan na ci boole komfitiiru guyaabu Bëj-saalumu Afrig.'},\n",
       " 95: {'french_corpus': 'Ahidjo, lui, a écrit régulièrement à mon père en France pendant des années. En 1960, au moment de l’indépendance, Ahidjo a interrogé mon père sur la question du rattachement des royaumes de l’Ouest au Nigeria. Mon père lui a répondu que, compte tenu de l’histoire, il lui semblait préférable qu’ils fussent intégrés au Cameroun francophone, qui présentait l’avantage d’être un pays pacifique. L’avenir lui a donné raison.',\n",
       "  'wolof_corpus': 'Lu mat ay at, Ayijook Baay bindante nañu. Bi Kamerun waree jot boppam ci atum 1960, Ayijoo laaj na ko ndax dëkki sowu jant yi dañoo waroon a des ak Niseryaa am déet. Baay ni ko buň sukkandikoo ci cosaan, li gën ci ñoom moo doon nu fekki Kamerun giy làkk farañse ndax fa la jàmm ci nekk. Tey, kenn du ni Baay juum na bés ba mu waxee loolu.'},\n",
       " 96: {'french_corpus': 'Puis les lettres ont cessé d’arriver, et mon père a appris par les bonnes sœurs de Bamenda que son vieil ami était mort. De la même façon, une année le colis de pâtes de goyave d’Afrique du Sud n’est pas parvenu pour le jour de l’an, et nous avons su que le docteur Jeffries avait disparu. Ainsi se sont interrompus les derniers liens que mon père avait gardés avec son pays d’adoption. Il ne restait plus que la maigre pension que le gouvernement nigerian s’était engagé à verser à ses vieux serviteurs, au moment de l’indépendance. Mais la pension a cessé d’arriver quelque temps plus tard, comme si tout ce passé avait disparu.',\n",
       "  'wolof_corpus': 'Ñu toog ba benn bataaxalu Ayijoo ñëwatul. Xel ñaaw. Waa kër làbbe yu jigéen ya woon Bamendaa mujjee yëgal Baay ni doomu-ndeyam ja wuyuji na boroomam. Ñuy demati ba bés at mi dee te konfitiiru guyaab jógewul Bëj-saalumu Afrig. Ndekete Doktoor Sefiriis tamit saayoon na. Ca la Baay gëjee jokkook réew ma ko fatoon. Bi Niseryaay jot ci boppam, dafa digoon ñépp ña ko mas a liggéeyal ni dina wéy di leen fey seen alaateret. Waaye dañoo xéy bés dakkal pey googu. Baay xam ni daal, neexul ba neexul waaye la woon wonni na.'},\n",
       " 97: {'french_corpus': 'C’est donc la guerre qui a cassé le rêve africain de mon père. En 1938, ma mère quitte le Nigeria pour aller accoucher en France, auprès de ses parents. Le bref congé que prend mon père pour la naissance de son premier enfant lui permet de rejoindre ma mère en Bretagne, où il reste jusqu’à la fin de l’été 1939. Il prend le bateau de retour vers l’Afrique juste avant la déclaration de la guerre. Il rejoint son nouveau poste à Ogoja, dans la province de la Cross River. Quand la guerre éclate, il sait qu’elle va mettre à nouveau l’Europe à feu et à sang, comme en 1914. Peut-être espère-t-il, comme beaucoup de gens en Europe, que l’avancée de l’armée allemande sera contenue sur la frontière, et que la Bretagne, étant la partie la plus à l’ouest, sera épargnée.',\n",
       "  'wolof_corpus': 'Kon, xare bee tas yaakaar ji Baay amoon ci Afrig. Atum 1938 la sama yaay jóge Niseryaa ngir mucceeji Tugal, ci këri way-juram. Nguur gi may jëkkër ji mu dem Bërëtaañ teewe juddug taawam, te bañ faa yàgg. Mu daldi fay toog ba nawetu 1939 bi jeex. Bi muy jël gaal di dellu Afrig ak bi xare biy kalaate, benn la. Liggéeyam a nga ko doon xaar Ogosaa, ca diiwaanu Koros Riwër. Lenn wóor na ko : xare bii topp ci bu atum 1914, dina metti lool moom tamit, deret ju bare dina ci tuuru ci réewi Tugal yi. Amaana mu yaakaar, ni ñu bare ci jamono jooju, ni làrmeb Frãs dina tanc bu Almaañ ca dig ba, tee koo yegg sowu-jant, fa diiwaanu Bërëtaañ féete.'},\n",
       " 98: {'french_corpus': 'Quand arrivent les nouvelles de l’invasion de la France, en juin 1940, il est trop tard pour agir. En Bretagne, ma mère voit les troupes allemandes défiler sous ses fenêtres, à Pont-l’Abbé, alors que la radio annonce que l’ennemi est arrêté sur la Marne. Les ordres de la kommandantur sont sans appel : tous ceux qui ne sont pas résidents permanents en Bretagne doivent vider les lieux. Alors qu’elle est à peine remise de son accouchement, ma mère doit partir, d’abord vers Paris, puis en zone libre. Plus aucune nouvelle ne circule. Au Nigeria, mon père ne sait que ce que transmet la BBC. Pour lui, isolé dans la brousse, l’Afrique est devenue un piège. À des milliers de kilomètres, quelque part sur les routes encombrées par les fuyards, ma mère roule dans la vieille De Dion de ma grand-mère, emmenant avec elle son père et sa mère, et ses deux enfants âgés d’un an et de trois mois. C’est sans doute à ce moment-là que mon père tente cette chose folle, traverser le désert pour s’embarquer en Algérie à destination du sud de la France afin de sauver sa femme et ses enfants et les ramener avec lui en Afrique. Ma mère aurait-elle accepté de le suivre ? Il lui aurait fallu abandonner ses parents en pleine tourmente, alors qu’ils n’étaient plus en état de résister. Affronter les dangers sur la route du retour, risquer d’être capturés par les Allemands ou les Italiens, déportés.',\n",
       "  'wolof_corpus': 'Waaye ci atum suweŋ 1940 la Almaŋ yi teg loxo ci Frãs. Pexe daldi jeex tàkk. Bés bi rajo biy fen di dajale, naan noon bi jekku nanu ko, mënul sax weesu dexug Maarn, sama yaay a ngi janook soldaari Almaañ yiy maaj ci suufu palanteeram, ca Pomu-Làbbe. Dogal bu leer la kilifay làrmeb Almaañ jël : képp ku dëkkul Bërëtaañ, danga faa war a génn. Sama yaay di wësin bees, war a daw laquji ca bëj-saalumu Frãs – mooy fa Almaañ bañoon a yilif. Waaye Pari la ko jaare. Lépp tag, nag, xibaar demul, xibaar dikkul. Mook Baay kenn xamatul ci lan la sa moroom nekk. Ganu-ganu, Baay ma newoon Niseryaa daan nay déglu BBC, rajo Àngale yi, am lu mu ca fortaatu ci yëngu-yëngu àddina si. Ni mu beroo noonu ci àll bi, tax koo gise Afrig ni ag ndëgg-sërëx. Digganteem ak Tugal, kenn xamul ni mu tollu, mat na, xanaa, ay junniy-junni kilomet. Xel mi daw ba àgg fa, ndeysaan, muy janeer, di gis nit ñu baree-bare ci mbeddi Tugal yi. Soxnaam bokk na ci ñooñuy wut fu ñu làquji. Sama yaay a ngi ànd ak baayam ak ndeyam ak it ñaari banti-maam-Yàllaam, kii am benn at, keneen ki ñetti weer doŋŋ, di man mii. Ñu ngi tancaloo ci sama woto maam ju jigéen, ab « De Joŋ» bu màggat. Xam naa jamono jooju la njàqare gu jéggi dayo teqale Baay ak sagoom, mu ni fàww mu jàll màndiŋ mi, dem Alseri jël fa gaal, wutali bëj-saalumu Tugal ngir mën a delloosi Afrig jabar jeek seen ñaari doom. Wànte, ndax sax su ñu gise woon, sama yaay doon na ko nangoo topp ? Ay way-juram a ngi woon ciy jafe-jafe yu tar, fekk mag dikk, amatuñu benn kàttan. Gëmuma ni doon na leen néeg a bàyyi foofu dem yoonam. Rax-ci-dolli, dellu Afrig naroon na koo jural fitna ju dul jeex. Te su loolu lépp weesoo, ñàkkul Almaŋ yi mbaa Italyeŋ teg ko loxo ci yoon wi, àddinaam doxe fa yàqu yaxeet.'},\n",
       " 99: {'french_corpus': 'Mon père n’avait sans doute aucun plan. Il s’est lancé dans l’aventure sans réfléchir. Il part pour Kano, au nord du Nigeria, et là il achète son passage à bord d’une caravane de camions qui traverse le Sahara. Au désert, il n’y a pas de guerre. Les marchands continuent de transporter le sel, la laine, le bois, les matières premières. Les routes maritimes sont devenues dangereuses, et c’est le Sahara qui permet la circulation des denrées. Pour un officier de santé de l’armée anglaise, voyageant seul, le projet est audacieux, insensé. Mon père remonte vers le nord, bivouaque dans le Hoggar, près de Tamanghasset (à l’époque, Fort-Laperrine). Il n’a pas eu le temps de se préparer, d’emporter des médicaments, des provisions. Il partage l’ordinaire des Touareg qui accompagnent la caravane, il boit comme eux l’eau des oasis, une eau alcaline qui purge ceux qui n’y sont pas habitués. Tout le long de la route, il prend des photos du désert, à Zinder, à In Guezzam, dans les montagnes du Hoggar. Il photographie les inscriptions en tamacheq sur les pierres, les campements des nomades, des filles au visage peint en noir, des enfants. Il passe plusieurs jours au fort d’In Guezzam, à la frontière des possessions françaises au Sahara. Quelques bâtisses en pisé sur lesquelles flotte le drapeau français, et sur le bas-côté de la chaussée, un camion arrêté, peut-être celui dans lequel il voyage. Il parvient jusqu’à l’autre rive du désert, à Arak. Peut-être qu’il atteint le fort Mac-Mahon, à El-Goléa. En temps de guerre, tout étranger est un espion. Finalement, il est arrêté, refoulé. La mort dans l’âme, il doit revenir en arrière, refaire la route jusqu’à Kano, jusqu’à Ogoja.',\n",
       "  'wolof_corpus': 'Njort naa ni Baay waajalul mbir mi laata mu ciy dugg. Dafa xéy bés rekk dem Kano, ca bëj-gànnaaru Niseryaa, fekk fa njëggum kamyoŋ yuy waaj a song mandiŋu Saxaraa, mu fey xaalis, ñu ni ko kaay toog. Àndandoom yi ñoom, yëguñu sax ni àddina si yépp ngi ci xare bu mag. Ñoom ñu ngay wéy di yab ci seeni kamyoŋ xorom ak kawari xar ak bant ak yu ni mel. Ginnaaw géej gi wóoratul, Saxaraa fi sës ngir doxal njënd mbeek njaay mi. Baay fajkat la, dëgg la, waaye ófise la itam ci làrmeb Àngalteer. Kon mébétam mi, fit dëgg la laaj. Mën nañ koo jàppe sax ni yëfu ku kannasu. Baay dem bëj-gànnaar, dal ca Ogaar, ci wetu Tamaŋaset (tuddoon booba Foor-Laperin). Yóobuwaalewul i garab mbaa leneen. Mook Tuwaareg yeey bokk lépp. Ndoxu seyaan lay naan ni ňoom, ndox mu xaw a wex tey daw biir, rawati-na soo ko tàmmulee. Saa yu ko mënee, mu ngi jël i nataal. Mandiŋ mi ci boppam, nataal na ko. Ak Sendeer. Ak In Gesam. Fàttewul tangori Ogaar yi ak mbindi tamaseg yi ci xeer yi. Baay portale na tamit dalukaayi màngkat yi, gone yeek jigéen ňi ñuulal seen kanam ba mu ñuul kukk. Toog nay fan ca tatawu In Gesam, ca digub moomeelu Tubaab yi. Du woon dara, nag, lu dul ay tabaxi ban yu ñu samp raaya Frãs. Bu wàccee tali bi, gis kamyoŋ bu taxaw di xaar. Soo demee mooy bi muy tukkee. Yegg na léegi ci beneen peggu màndiŋ mi, ca Arag. Xéy-na àgg na ba tatawu Mak-Mawoŋ, ca El Goleyaa. Jamonoy xare bi, doxandéem bu ne mën nañ laa tuumaal, ne yëddukat nga. Ñu mujjee jàpp Baay, ni ko na dellu fa mu jóge. Ñàkk pexe tax koo teguwaat ci yoon wi ba Kano, daldi ñibbi Ogosaa.'},\n",
       " 100: {'french_corpus': 'À partir de cet échec, l’Afrique n’a plus pour lui le même goût de liberté. Bamenda, Banso, c’était au temps du bonheur, dans le sanctuaire du haut pays entouré de géants, le mont Bambouta à 2 700 m, le Kodju à 2 000, l’Oku à 3 000. Il avait cru qu’il n’en partirait pas. Il avait rêvé d’une vie parfaite, où ses enfants auraient grandi dans cette nature, seraient devenus, comme lui, des habitants de ce pays.',\n",
       "  'wolof_corpus': 'Li mébét mu am solo moomu àntuwul, soppi na lu bari ci gis-gisu Afrigam. Afrig mënatul a yem ci Bamendaak Bansoo, fa xolam daan féexe, béréb ya daan yàkkali dënnam, muy noyyi bu baax. Xam naa xelam dinay faral a dellu ci ñaari diiwaan yu sell ya te ay ponkal wër leen : tangoru Bàmbutaa, yegg ba 2 700 meetar ak tangori Kojo ak bu Oku yiy def 2 000 ak 3 000 meetar. Masul a toog ba xalaat ni dina fa jógeji bés. Su doon sagoom, mu des faak njabotam, gone yi màgge fa, daldi boole seen bopp ci réew moomu.'},\n",
       " 101: {'french_corpus': 'Ogoja, où la guerre le condamne, est un poste avancé de la colonie anglaise, un gros village dans une cuvette étouffante au bord de l’Aiya, enserré par la forêt, coupé du Cameroun par une chaîne de montagnes infranchissable. L’hôpital dont il a la charge existe depuis longtemps, c’est une grande bâtisse de ciment à toit de tôle, avec salle d’opération, dortoirs pour les patients, et une équipe d’infirmiers et de sages-femmes. Si c’est toujours un peu l’aventure (on est tout de même à une journée de voiture de la côte), elle est planifiée. Le D.O. n’est pas loin, le grand centre administratif de la province de Cross River est à Abakaliki, accessible par une route carrossable.',\n",
       "  'wolof_corpus': 'Xare bi dëj ko nag Ogosaa. Ogosaa, Àngale yee ko moom te mayuñu kenn mu romb ko dem. Fàww nga taxaw fa, ñu xool bu baax say mbir door laa ba. Daanaka dëkku kow bu réy la, naju ci aw xur, àll bi wër ko. Benn tund wu naqadee jéggi moo ko teqaleek Kamerun. Fajukaay bi Baay yilif du bu bees, yàgg na faa nekk. Tabaxu simoŋ bu mag la, ay seng muur kow gi. Am na opeerekaay, ay néeg yu way-feebar yiy fanaan ak yeneen yu ñu jagleel mbooloom ñi fay liggéeye. Su dee ba tey liggéey bi am na tuuti tëñëx-tëñëxi (béréb bi xaw naa dand, bésu lëmm lañu dawal door fee yegsi), fàww ñu déggoo ci li ku nekk war a def. « District Officer » bi soriwu fa, sarwiis bu mag biy saytu diiwaanu Koros Riwër mi ngi Abaakaliki te it tali bi baax na.'},\n",
       " 102: {'french_corpus': 'La maison de fonction qu’il habite est juste à côté de l’hôpital. Ce n’est pas une belle maison en bois comme Forestry House à Bamenda, ni une case rustique de pisé et de palmes comme à Banso. C’est une maison moderne, assez laide, faite en blocs de ciment avec un toit de tôle ondulée qui la transforme en four chaque après-midi – et que mon père se hâte de recouvrir de feuilles pour l’isoler de la chaleur.',\n",
       "  'wolof_corpus': 'Kër gi ko nguur gi dalal ci wetu dispañseer bi, moo gën dëppook jamono néegu-banu Bansoo ba, doonte sax kenn du ni rafet na. Wute na it ak këru bantu Forestry House ba. Këru simoŋ gu ñu teg jànqu seng la, seng bu koy tax a tàng jërr su jant biy so. Moo tax ngoon gu jot, Baay gaawtu muur kook i xobi garab.'},\n",
       " 103: {'french_corpus': 'Comment vit-il ces longues années de guerre, seul dans cette grande maison vide, sans nouvelles de la femme qu’il aime et de ses enfants ?',\n",
       "  'wolof_corpus': 'Naka la tooge woon moom kott ci kër googu juróomi ati xare bi yépp te xamul ci lan la njabootam nekk ?'},\n",
       " 104: {'french_corpus': 'Son travail de médecin devient pour lui une obsession. La douceur nonchalante du Cameroun n’a pas cours à Ogoja. S’il consulte toujours en brousse, ce n’est plus à cheval, par les sentiers qui sinuent dans les montagnes. Il utilise sa voiture (cette Ford V8 qu’il a rachetée à son prédécesseur, plutôt un camion qu’une auto, et qui m’a fait une si forte impression quand il est venu nous chercher à la descente du bateau à Port Harcourt). Il se rend dans les villages voisins, reliés par des pistes de latérite, Ijama, Nyonnya, Bawop, Amachi, Baterik, Bakalung, jusqu’à Obudu sur les contreforts de la montagne camerounaise. Le contact avec les malades n’est plus le même. Ils sont trop nombreux. À l’hôpital d’Ogoja, il n’a plus le temps de parler, d’écouter les plaintes des familles. Les femmes et les enfants n’ont pas leur place dans la cour de l’hôpital, il est interdit d’y allumer du feu pour faire la cuisine. Les patients sont dans les dortoirs, couchés sur de vrais lits en métal aux draps empesés et très blancs, ils souffrent probablement autant de l’angoisse que de leurs affections. Quand il entre dans les chambrées, mon père lit la peur dans leurs yeux. Le médecin n’est pas cet homme qui apporte le bienfait des médicaments occidentaux, et qui sait partager son savoir avec les anciens du village. Il est un étranger dont la réputation s’est répandue dans tout le pays, qui coupe bras et jambes quand la gangrène a commencé, et dont le seul remède est contenu dans cet instrument à la fois effrayant et dérisoire, une seringue de laiton munie d’une aiguille de six centimètres.',\n",
       "  'wolof_corpus': 'Mu daldi sóobu nag ci liggéey bi, ngir fàtte. Ogosaa, dëkku tés-tés la, jàmburewul ni Kamerun. Suy seeti way-feebar yi ci àll bi, dootul war fas. Wotoom lay dawal (benn Foord W8 buy nirook kamyoŋ te uboon sama bopp lool ba ma ko njëkkee gis Poor-Arkuur). Ci tali raŋ-raŋ bi lay jaar buy dem ci dëkki kow gi : Ijaamaa, Ñonyaa, Bawob, Amasi, Baterig, Bakaluŋ. Dinay yegg ba Óbudu, dëkk bu sësu rikk ci tundi Kamerun yi. Way-feebar yi bare nañu bare gu, xelam dajul muy jéem a waxtaan ak ku ci nekk mbaa di déglu say njàmbat. Dem na ba tere ku toog ci ëtt bi walla ku fa togg. Ñi tawat a ngi tëdd ciy lali weñ yu darab yi dëll te weex tàll. Liy Baay di njëkk a seetlu ci ñoom saa yu duggsee, mooy ni ñu tiite. Gisewuñ ko ni ki leen di jox ay garabi Tubaab, di weccee xalaat ak magi dëkk bi. Mu neex ko, mu naqadi ko, doxandéem la bu turam siiw, mooy doktoor biy dagg loxo yeek tànk yi te it gaaw lool ci génne sarengalu armiňoŋam bu raglook pusoom bu sew ruuj.'},\n",
       " 105: {'french_corpus': 'Alors mon père découvre, après toutes ces années où il s’est senti proche des Africains, leur parent, leur ami, que le médecin n’est qu’un autre acteur de la puissance coloniale, pas différent du policier, du juge ou du soldat. Comment pouvait-il en être autrement ? L’exercice de la médecine est aussi un pouvoir sur les gens, et la surveillance médicale est également une surveillance politique. L’armée britannique le savait bien : au début du siècle, après des années d’une résistance acharnée, elle avait pu vaincre par la force des armes et de la technique moderne la magie des derniers guerriers ibos, dans le sanctuaire d’Aro Chuku, à moins d’une journée de marche d’Ogoja. Il n’est pas facile de changer des peuples tout entiers, lorsque ce changement est fait sous contrainte. Cette leçon, mon père l’a sans doute apprise du fait de la solitude et de l’isolement où le plongeait la guerre. Cette certitude a dû l’enfoncer dans l’idée de l’échec, dans son pessimisme. À la fin de sa vie, je me souviens qu’il m’a dit une fois que, si c’était à refaire, il ne serait pas médecin, mais vétérinaire, parce que les animaux étaient les seuls à accepter leur souffrance.',\n",
       "  'wolof_corpus': 'Baay daldi jàngaale lii : ak lu mu doon doon xaritu doomi réew mi, seen doomu-ndey, ñu koy diis seeni soxla, ba tey rekk ci nguurug Tubaab yi la bokk, moom la fi toogal. Ndax, su ñu waxantee dëgg, nit ki bu wér-gu-yaramam ajoo ci yow, fu la neex nga koy jaarloo. Te kon, dara du wutale sa taxawaay ak bu alkaati bi mbaa bu àttekat beek soldaar bi. Nga nangu kook nga bañ koo nangu, yaa ngiy pólitig. Naka la mënoon a deme neneen ? Faj doom-aadama, liggéey bu am maanaa la. Àngale yi teel nañoo jëli loolu. Ba Ibo yi takkee xare bëgg leen a jommal ak seen njàmbaar ak seeni xërëm ca xàmbi Aro Suku ya, gànnaay ak manoore yu bees lañ leen daane. Soppiw askan yombul, rawati-na bu dee yow mi koy jéem, doxandéem nga te ñi ngay digaaleel ànduñu ci say mébét. Wéetaay ak dëddu gi ko mëddoon ci jamonoy xare bi, loolu la jàngal Baay. Mas na ma ni su démb doon tey, du nekk doktoor, weterineer lay doon, di faj mala yi, ndax ñoom rekk a mën a dékku seen metit, nangu ko ni ndogalu Yàlla.'},\n",
       " 106: {'french_corpus': 'Il y a la violence aussi. À Banso, à Bamenda, dans les montagnes du Cameroun, mon père était sous le charme de la douceur et de l’humour des Africains. À Ogoja, tout est différent. Le pays est troublé par les guerres tribales, les vengeances, les règlements de comptes entre villages. Les routes, les chemins ne sont pas sûrs, il faut sortir armé. Les Ibos du Calabar sont ceux qui ont résisté avec le plus d’acharnement à la pénétration des Européens. On les dit chrétiens (ce sera même un des arguments utilisés par la France pour soutenir leur lutte contre leurs voisins yoroubas, qui sont musulmans). En vérité, l’animisme et le fétichisme étaient courants à l’époque. La sorcellerie était aussi une pratique au Cameroun, mais pour mon père, elle avait un caractère plus ouvert, plus positif. Dans l’est du Nigeria, la sorcellerie est secrète, elle s’exerce au moyen des poisons, des amulettes cachées, des signes destinés à porter malheur. Pour la première fois, mon père entend, de la bouche des résidents européens, et colportées par les autochtones à leur service, des histoires d’envoûtements, de magie, de crimes rituels. La légende d’Aro Chuku et de sa pierre aux sacrifices humains continue d’agir sur les esprits. Les histoires qu’on raconte créent un climat de méfiance, de tension. Dans tel village, dit-on, non loin d’Obudu, les habitants ont coutume de tendre une corde en travers de la route, lorsqu’un voyageur isolé s’y aventure à bicyclette. Dès qu’il tombe, le malheureux est aussitôt assommé, emmené derrière un mur et son corps dépecé pour être mangé. Dans tel autre, le district officer, au cours d’une tournée, a fait saisir à l’étal du boucher une viande prétendument de porc, mais que la rumeur désigne comme étant de la chair humaine. À Obudu, où les gorilles des montagnes alentour sont braconnés, on trouve leurs mains coupées vendues en souvenir sur le marché, mais il semble que, si on y regarde de plus près, on constate qu’il y a également à la vente des mains d’enfants.',\n",
       "  'wolof_corpus': 'Jaayante doole yit, ku mën sa moroom duma, bokkoon na ci mbir mi. Muy Bansoo di Bamendaa, ca tundi Kamerun ya, neex deret ak am xoroom la Baay daan seetlu ci nit ñi. Waa Ogosaa wuteek ñoom lool, nag. Réew mu rëb la, waaso yi dëkkee xeex ci seen biir, ku nekk naan sa moroom yaa ma tooñ, fàww ma feyu. Ñu dem ba kenn ñemeetul a génn këram te gànnaayuwul ; Ibo yu Kalabaar yi nag, ñoo gënoon a të Tubaab yi. Ñépp jàppoon ñañ ni ay kerceen lañu (Frãs sax, loolu la taafantoo ba faral leen ca seen xare baak seeni doomi-ndeyi Yorubaa yiy jullit, ñoom.) Dëgg la, jamono jooju, nit ñi xàmb ak xërëm lañu gëmoon. Waaye ci gis-gisu Baay, Kamerun a xawoon a tane. Penkub Niseryaa, xonjom dafa fa muuroo lëndëm, raglu te itam ñoxor-njaay ñu posone la nga dee. Fa la mas  a dégge ay tubaab yu naan diw de, nee ñu dañ koo kort, walla dañ ko takk, walla tëral nañ ko rendi ci ndigalu xërëmkat. Su leen Baay laajee fuñ déggee loolu, ñu ni ko : « Ci sunuy surga, xanaa ». Kenn fàttewul Aro Suku, ak xeer wa mu daan ñàddee nit ñiy rendi. Lu nekk ñu koy wax, ñépp tiit, kenn wóolootul kenn. Ñu naan it ndax yëg ngeen ni dëkk sàngam, ci wetu Óbudu, dawalkatu welo bu fa jaar yow kenn ñu fiir laak buum, rendi la, fees la, lekk. Am na it màrse bu « District Officer » bi tegee loxo taabalub jaaykatu yàpp. Mu ni leen lii lan la, ñu ni ko ñoom yàppu mbaam-xuux lañ fay fees. Waaye njortoon na ni yàppu nit la woon. Màrse Óbudu moom, ay loxoy dàngin lañ fa daan jaay wànte meloon na ni ku xool bu baax gis fay loxo gone yu ñuy jaayaale.'},\n",
       " 107: {'french_corpus': 'Mon père nous répète ces récits effarants, sans doute n’y croit-il qu’à moitié. Il n’a jamais constaté lui-même des preuves de cannibalisme. Mais ce qui est certain, c’est qu’il doit souvent se déplacer pour autopsier des victimes de meurtre. C’est cette violence qui devient pour lui obsessionnelle. J’ai entendu mon père raconter que les corps qu’il doit examiner sont parfois dans un tel état de décomposition qu’il lui faut attacher son scalpel au bout d’un bâton avant d’entailler la peau, pour éviter l’explosion des gaz.',\n",
       "  'wolof_corpus': 'Du benn du ñaar, Baay di nu nettali yu ni mel. Su dee gëmoon na ni loolu lépp dëgg la, du lool, ndax masu cee teewe lenn. Waaye lii moom amul werante : bare na liñ daan bóom i doom-aadama te moom doktoor bee fa daan jëkk ngir seet nu mbir mi deme. Mu dem ba mel ni loolu lépp, ni bakkan ñàkke solo ak deret ju bare jiy tuuru, daf koy mëdd, du xam sax fan la nekk, daanaka. Dégg naa ko muy nettali ne léeg-léeg néew yi dañuy nëb a nëb ba, su waree lelli der bi, fàww mu takk paaka awsaam ci catu bant, ndax rekk ragal yaram wi fàcc ci kowam.'},\n",
       " 108: {'french_corpus': 'La maladie a pour lui un caractère offensant, maintenant que le charme de l’Afrique a cessé d’exister. Ce métier qu’il a exercé dans l’enthousiasme devient peu à peu accablant, dans la chaleur, l’humidité de la rivière, la solitude du bout du monde. La proximité de la souffrance le fatigue : tous ces corps brûlants de fièvre, ces ventres distendus de cancéreux, ces jambes rongées d’ulcères, déformées par l’éléphantiasis, ces visages mangés par la lèpre ou la syphilis, ces femmes déchirées par les accouchements, ces enfants vieillis par les carences, leur peau grise comme un parchemin, leurs cheveux couleur de rouille, leurs yeux agrandis à l’approche de  la mort. Longtemps après, il me parle de ces choses terribles qu’il fallait affronter, chaque jour, comme si c’était la même séquence qui recommençait : une vieille femme rendue démente par l’urémie, qu’il faut ligoter sur son lit, un homme à qui il enlève un ténia si long qu’il doit l’enrouler autour d’un bâton, une jeune femme qu’il va amputer à cause de la gangrène, une autre qu’on lui amène mourant de variole, le visage gonflé et couvert de blessures. La proximité physique avec ce pays, ce sentiment que seul procure le contact avec l’humanité dans toute sa réalité souffrante, l’odeur de la peau, la sueur, le sang, la douleur, l’espoir, la petite flamme de lumière qui s’allume parfois dans le regard d’un malade, lorsque la fièvre s’éloigne, ou cette seconde infinie durant laquelle le médecin voit s’éteindre la vie sur la pupille d’un agonisant – tout cela qui l’avait emporté, électrisé au commencement, quand il naviguait sur les fleuves de Guyane, quand il marchait sur les sentiers de montagne du haut pays camerounais, tout cela est remis en question à Ogoja, à cause de la désespérante usure des jours, dans un pessimisme inexprimé, parce qu’il constate l’impossibilité d’aller au bout de sa tâche.',\n",
       "  'wolof_corpus': 'Li muy dund, woroo na lool ak génti Afrigam yu yàgg ya. Gis nit ku feebar rekk daf koy tax a ñéññ. Tàngaay bi, ni lépp guuse, koo gis mu mel ni dañ ko dóor yat ba mënatul a yëngu, loolu lépp sonal ko, tax ba àddina safatu ko dara. Baay mere ku ko deful dara, yëg ci xolam wéetaay bu mu xamul fan la koy jooye. Li muy gis subaak ngoon yombut a dékku. Yaram yu tàng jërr, newwi mbaa ràgg ; kanam yu ngaana walla siti yàq yaxeet ; jigéen ñi dem ba matook a matuwaat faf leen teppi ; gone yu ndóol teel a màggetloo, seen der dem ba dóomu-taal, seen karaw xonq ni weñ gu xoomag. Seen bët yi, nag ? Ñu ngi ne keww, mel ni ñu ni jàkk Dee, muy waaxu di ñëw, war leen a jëlsi yóbbu laaxira. Loolu topp ko, yàq xolam ba ñu teg ciy ati-at mu koy dundaat saa su ne, di ma ko nettali : ndaw su màgget su feebar bi tàqaleek sagoom, ñu yeew ko cib lal ; kii moom, saan bi mu génne ci biir bi dafa gudd ba mu laxas ko ci bant bu gudd ; tànku janq bu jigéen a ngi nii, fees dell ak i sax te dagg koo fi sës ; am na keneen ku njàmbal sonal, muy sukkuraat, ndeysaan. Afrig, dafa koo dugg, mu yëg ko ci yaramam ba fu yëg yem, dem ba maasalook moom. Te li ko may loolu, mooy li mu fi teewe ay yoon i yoon doom-aadamay jànkonteek metit wu tar. Xetu der. Deret. Ñaq. Wànte taxul ba tey yaakaar tas. Waaw, yaakaar giy tàkk léeg-léeg ci bëtu ki demoon ba jàpp ni jeexal na ci dunyaa, jékkee-jékki yëg ni mu ngi am tan. Mbaa diir bu gàtt te mel ni amul àpp bi muy tiim kuy sukkuraat, peru bët yiy fey ndànk-ndànk. Ca njëlbéen ga, ba muy wëndéelu ca dexi Guwiyaan yaak tangori bëjgànnaaru Kamerun ya, ci teenu metit boobu la daan roote kàttanu ñefe. Wànte Ogosaa dafa daldi rey loolu lépp ci moom : bés yiy toppante, bu jàll gën a soof sa moroom, njaaw-njort ni ràpp xolam tëj, mu xam ni li mu yenu diis na lool ciy mbaggam.'},\n",
       " 109: {'french_corpus': 'Il me raconte, avec la voix encore voilée par l’émotion, ce jeune Ibo qu’on lui apporte à l’hôpital d’Ogoja, pieds et poings liés, la bouche bâillonnée par une sorte de muselière de bois. Il a été mordu par un chien, et maintenant la rage s’est déclarée. Il est lucide, il sait qu’il va mourir. Par instants, dans la cellule où on l’a isolé, il est saisi par une crise, son corps s’arc-boute sur le lit malgré les sangles, ses membres sont possédés d’une telle force que le cuir semble prêt à se rompre. En même temps, il grogne et hurle de douleur, sa bouche écume. Puis il retombe dans une sorte de léthargie, assommé par la morphine. Quelques heures plus tard, c’est mon père qui plonge dans sa veine l’aiguille qui lui injecte le poison. Avant de mourir, le garçon regarde mon père, il perd connaissance et sa poitrine s’affaisse dans un dernier soupir. Quel homme est-on quand on a vécu cela ?',\n",
       "  'wolof_corpus': 'Nettali na ma yit – maa ngi fàttaliku ni baat bi doon loxe keroog – goneg Ibo ga xaj màtt bés, mu jóge fay say tëw a bàyyi, ñu tëj gémmiñ gi, yeew ko moom ci boppam ba mënatul a yëngatu. Gone gi xam na ni waxtoom yegsi na. Fiñ ko tëj moom kenn, mu ngi yuuxu, di xataraayu bay bëgg a daaneel lal bi ; léeg-léeg mu lemu, gémmiñ giy fuur walla morfin bi jàpp ko, mu ne nemm, di xullee. Ñu teg ciy waxtu, Baay pikiir ko poson. Laata muy faatu, xale bi ni ko jàkk, daldi door a xëm, àgg suuf, sedd guy. Ana ban doom-aadamaa mën a jànkoonteek lu ni mel te du am lu mu yóbbu ci yow ba fàww ?'},\n",
       " 110: {'french_corpus': 'Tel était l’homme que j’ai rencontré en 1948, à la fin de sa vie africaine. Je ne l’ai pas reconnu, pas compris. Il était trop différent de tous ceux que je connaissais, un étranger, et même plus que cela, presque un ennemi. Il n’avait rien de commun avec les hommes que je voyais en France dans le cercle de ma grand-mère, ces « oncles », ces amis de mon grand-père, messieurs d’un autre âge, distingués, décorés, patriotes, revanchards, bavards, porteurs de cadeaux, ayant une famille, des relations, abonnés au Journal des voyages, lecteurs de Léon Daudet et de Barrès. Toujours impeccablement vêtus de leurs complets gris, de leurs gilets, portant cols durs et cravates, coiffant leurs chapeaux de feutre et maniant leurs cannes à bout ferré. Après dîner, ils s’installaient dans les fauteuils de cuir de la salle à manger, souvenirs de temps prospères, ils fumaient et ils parlaient, et moi je m’endormais le nez dans mon assiette vide en écoutant le ronron de leurs voix.',\n",
       "  'wolof_corpus': 'Nit ki ma dajeel ci atum 1948, fekk muy door a jóge Afrig, xawma ko moom ci boppam. Xawma sax wan xeetu nit la. Su doon doxandéem ci man rekk, ñu ni waaw waaye yemu fa. Daanaka ab noon la ma def. Aka wute woon e yak sama « nijaay » yi daan seetsi sama maam ju jigéen ca Tugal ! Ay nit ñu modde, bëgg seen bopp, mën a jaay maanaa ba dee ak seeni karwaat ak seeni kompale yu dóomu-taal, jàpp ni ku bokkul Frãs bokkoo, foo leen fekk ñu naan : « Waaw, lan la sunu làrme biy xaar ci song almaŋ yi, duma leen ba ñu xool benn béréb ? » Kenn du ci génn mukk këram te tappul i medaay ba dënn bi fees. Ñu ngiy noyyee ay bindkat niki Lewoŋ Dóodeek Bares. Koo ci gis mu nga téye ñaare benn yéenekaay buñ naan Journal des Voyages. Bu ňu reeraan ba noppi, ne faax ci sunuy toogu-xóot yu der ya, di xëcc seen naanu, di fàttaliku ba jamonoy neex. Man nag, dañ ma daan géeyloo, ma tiim sama palaat di dajjant.'},\n",
       " 111: {'french_corpus': 'L’homme qui m’est apparu au pied de la coupée, sur le quai de Port Harcourt, était d’un autre monde : vêtu d’un pantalon trop large et trop court, sans forme, d’une chemise blanche, ses souliers de cuir noir empoussiérés par les pistes. Il était dur, taciturne. Quand il parlait en français, c’était avec l’accent chantant de Maurice, ou bien il parlait en pidgin, ce dialecte mystérieux qui sonnait comme des clochettes. Il était inflexible, autoritaire, en même temps doux et généreux avec les Africains qui travaillaient pour lui à l’hôpital et dans sa maison de fonction. Il était plein de manies et de rituels que je ne connaissais pas, dont je n’avais pas la moindre idée : les enfants ne devaient jamais parler à table sans en avoir eu l’autorisation, ils ne devaient pas courir, ni jouer ni paresser au lit. Ils ne pouvaient pas manger en dehors des repas, et jamais de sucreries. Ils devaient manger sans poser les mains sur la table, ne pouvaient rien laisser dans leur assiette et devaient faire attention à ne jamais mâcher la bouche ouverte. Son obsession de l’hygiène le conduisait à des gestes surprenants, comme de se laver les mains à l’alcool et les flamber avec une allumette. Il vérifiait à chaque instant le charbon du filtre à eau, ne buvait que du thé, ou même de l’eau bouillante (que les Chinois appellent du thé blanc), fabriquait lui-même ses bougies avec de la cire et des cordons trempés dans la paraffine, lavait lui-même la vaisselle avec des extraits de saponaire. Hormis son poste de radio, rattaché à une antenne suspendue au travers du jardin, il n’avait aucun contact avec le reste du monde, ne lisait ni livres ni journaux. Sa seule lecture était un petit ouvrage relié de noir que j’ai trouvé longtemps après, et que je ne peux ouvrir sans émotion : l’Imitation de Jésus-Christ. C’était un livre de militaire, comme j’imagine que les soldats d’autrefois pouvaient lire les Pensées de Marc Aurèle sur le champ de bataille. Bien entendu, il ne nous en parlait jamais.',\n",
       "  'wolof_corpus': 'Nit ki ma teerusi ci waaxu Poor-Arkuur dafa mel ni ku bokkul ak ñoom xeet walla sax ku fëlle beneen dunyaa. Tubay ji mu sol, yaatu te gàtt, kenn xamul lu muy nirool ; simis bi dafa weex, dàlli deram yu ňuul yaa ngi pënde ba nga ni lii lu mu doon. Ma seetlu ni kanam gi ñànge ak ni mu noppee. Buy làkk faraňse, nga xam ni doomu Móris la ndax li muy mel ni kuy woyantu. Soppoon na tamit pijin, làkk wu kéemaane woowu baat yi daan riir ci samay noppi gone niy jóolóoli yu ndaw. Xamul woon waxtaan ba déggoo ciy kàddu. Déedéet. Moom kay, màtt ba mu dagg rekk te, nag, bëgg ku mu yilif, fu mu joxoñ baaraam nga war faa jaar mbaa mu defante kook yow ba mu saf sàpp. Moonte, laabir ak tabe rekk lay won nit ñu ñuul ñi koy jàppale ci liggéeyu dispañseer bi walla ay surgaam. Ci sama gis-gisu gone, ngóor su bari ay benkeñenke la woon. Lu ma doon gën a jéem a nànd ay mbiram, daan gën a réer. Ak moom, xale buy lekk du wax feek mag santu ko ko, warul a daw, warul a fo mbaa biddanti. Lekk sax daa amoon i waxtoom te ku mu bett ngay macc tàngal, tàkk nga. Jeexul, de. Teg loxo ci taabal ji booy lekk itam, da ko doon tere, te palaat bi, soo ko ñéddulee ba mu set wecc du baax ci yow ; sàqami sax dafa amoon noo koy defe : waroo ŋaaŋ ba li ci sa gémmiñ feeñ… Su fekkoon ni set ba mu ëpp feebar la, ma ni feebar booboo ko daloon. Yóbbe woon na koy feem yu doy waar, niki dëkkee raxas i loxoom ak alkol, léeg-léeg sax mu xosi ci almet, taal. Fu mu tooluy saytu këriň giy segg ndox mi ; maa ngi fàttaliku yit ne àttaaya doŋŋ la daan naan, walla sax ndox mu tàng kese – li Sinuwaa yiy woowe àttaaya ju weex. Baay moo daan defar ay sondeelam ak kombook i buum ; tabanaane la daan segg, raxasal boppam ndab yi ndax kenn doyu ko ci woon. Su dul woon rajoom bi mu daan déglu saa su ne, ma ni yoonam ci ni àddina siy doxe. Di jàng i téere ak i yéenekaay fekku ko ci woon. Benn téere bu ndaw te ñuul, daal, la mas a ubbi, muy bi tudd ci kàllaama nasaraan l’Imitation de Jésus-Christ, tey soññ doom-aadama ci toppandoo Yéesu. Bi ma ci mujjee daj yàggul dara wànte keroog sama yaram daw na. Téere boobu bokkoon na, xam naa, ci yi leen làrme bi daan jox. Looluy delloo xel yépp ay ati-at ci ginnaaw, jamono ja Pensées, téereb boroom xam-xam bu ñuy wax Màrk Órel daan gunge soldaar yi ci toolu-xare, am yu mu leen fay déey. Muy nag, lu ma foog doŋŋ, ndax Baay masunoo wax lu ci jëm.'},\n",
       " 112: {'french_corpus': 'Dès le premier contact, mon frère et moi nous sommes mesurés à lui en versant du poivre dans sa théière. Cela ne l’a pas fait rire, il nous a chassés autour de la maison et nous a sévèrement battus. Peut-être qu’un autre homme, je veux dire un de ces « oncles » qui fréquentaient l’appartement de ma grand-mère, se serait contenté d’en rire. Nous avons appris d’un coup qu’un père pouvait être redoutable, qu’il pouvait sévir, aller couper des cannes dans le bois et s’en servir pour nous frapper les jambes. Qu’il pouvait instituer une justice virile, qui excluait tout dialogue et toute excuse. Qu’il fondait cette justice sur l’exemple, refusait les tractations, les délations, tout le jeu des larmes et des promesses que nous avions accoutumé de jouer avec ma grand-mère. Qu’il ne tolérait pas la moindre manifestation d’irrespect et n’accepterait aucune velléité de crise de rage : l’affaire pour moi était entendue, la maison d’Ogoja était de plain-pied, et il n’y avait aucun meuble à jeter par aucune fenêtre.',\n",
       "  'wolof_corpus': 'Bés biñ jëkkee giseek moom, maak sama mag jéem nan koo seetlu, sotti poobar ci baraadaam. Suñ defoon lu ni mel sunu « nijaay » ya woon, wóor na ma ni dañuy ree rekk, te naan céy gone yii ñooy kàccoor, xaarleen sax ma ñëw lakk seen lu bon. Wànte Baay moom, mbir mi defu koy ree benn yoon. Dafa daldi fàq caru garab, topp nu ci kër gi, di nu dóor ba nuy bëgg a dee. Nu jàng bés boobu lu leer nàññ: ndekete sa baay mën naa soxor, gàddu yar, di la ko bàcc-bàccal ba ngay nàcc. Mu teel noo won ni sa baay, àttan na laa jaay doole, te bala ngay ubbi sa gémmiñ di lay mu àjji sa kaabaab. Nu jàng it ni Baay mii de, ëpp naa jaawaleek sunu maam ju jigéen ji nga xam ni ak njaaxum loo mën a def soo naxanteek moom, tuur ko lëndëm mbaa jaay ko reewande mu ni la : « Waaw baax na, fompal say rangooñ, waaye bul ko defati, dégg nga ? » Góor gii daal, moo doon liñ naan Àngale xamul tama : doo ko jàll baat te soo fa nekkee naan dangay daanu gàngiri, mu jekkali la faf. Te sax këru Ogosaa ga, sama xel mënutoon a dem benn yoon ci daanu fa gàngiri : këru suuf la woon te it amutoon i móobal yu ma mënoon a mer, sànni leen fu ma neex.'},\n",
       " 113: {'french_corpus': 'C’était le même homme qui exigeait que la prière fût dite chaque soir à l’heure du coucher, et que le dimanche fût consacré à la lecture du livre de messe. La religion que nous découvrions grâce à lui ne permettait pas d’accommodements. C’était une règle de vie, un code de conduite. Je suppose que c’est en arrivant à Ogoja que nous avons appris que le Père Noël n’existait pas, que les cérémonies et les fêtes religieuses étaient réduites à des prières, et qu’il n’y avait aucun besoin d’offrir des cadeaux qui, dans le contexte où nous étions, ne pouvaient qu’être superflus.',\n",
       "  'wolof_corpus': 'Tëri te julliwoo, xel daju ko te bu dibéer agsee, kenn sañul a yittewoo leneen lu dul jàng sa téereb mees. Ci gis-gisam, yoonu diine, yoon wu jubb xocc la te xat. Amul werante, mbaa yéexantu mba jàdd koñ. Àndul ak i naxaate yit. Yaakaar naa ni Ogosaa lanu xame ni Peer Nowel ay caaxaani kese la. Xumb-xumbi kerceen yépp, Baay ci julleek tudd Yàlla la leen yemale woon. Jox gone yi ndéwénal moom, kenn waxaalewu ko woon. Wànte ay ndéwénal sax, doonuñu amal benn njariñ ci jamono jooju.'},\n",
       " 114: {'french_corpus': 'Sans doute les choses se seraient-elles passées autrement s’il n’y avait pas eu la cassure de la guerre, si mon père, au lieu d’être confronté à des enfants qui lui étaient devenus étrangers, avait appris à vivre dans la même maison qu’un bébé, s’il avait suivi ce lent parcours qui mène de la petite enfance à l’âge de raison. Ce pays d’Afrique où il avait connu le bonheur de partager l’aventure de sa vie avec une femme, à Banso, à Bamenda, ce même pays lui avait volé sa vie de famille et l’amour des siens.',\n",
       "  'wolof_corpus': 'Ñàkkul dog-dogu xare bee ko taxoon a mel noonu. Su fekkoon ni bokkoon naak nun benn kër, di nu gis ba nuy perantal ba ba nuy dëgër, àddina du dox ba bés ay doomam diy doxandéem ci moom. Mbir mi mënees nan ko tënke nii : réewum Afrig mi ko tettee, jàngal ko bànneex, mook soxnaam ñu nekk ci lu leen neex ca Bansoo ak Bamendaa, réew moomoo ko mujjee xañ cofeelug ñoñam.'},\n",
       " 115: {'french_corpus': 'Il m’est possible aujourd’hui de regretter d’avoir manqué ce rendez-vous. J’essaie d’imaginer ce que cela pouvait être, pour un enfant de huit ans, ayant grandi dans l’enfermement de la guerre, d’aller à l’autre bout du monde rencontrer un inconnu qu’on lui présente comme son père. Et que ce soit là, à Ogoja, dans une nature où tout est à l’excès, le soleil, les orages, la pluie, la végétation, les insectes, un pays à la fois de liberté et de contrainte. Où les hommes et les femmes étaient totalement différents, non pas à cause de la couleur de leur peau et de leurs cheveux, mais par leur manière de parler, de marcher, de rire, de manger. Où la maladie et la vieillesse étaient visibles, où la joie et les jeux de l’enfance étaient encore plus évidents. Où le temps de l’enfance s’arrête très tôt, presque sans transition, où les garçons travaillent avec leur père, les petites filles se marient et portent leurs enfants à treize ans.',\n",
       "  'wolof_corpus': 'Tey, su sama xel delloo ci Baay, mën naa yëg luy nirook tiis, ni : « Xalam demoon na bay neex… » Ndax kat, suñ waxantee dëgg, mbir mi doyoon na waar. Goneg juróom-ñetti at doŋŋ, xare bi dëj la fi mu la dëj, mu jeex ñu yóbbu la fu kenn xamul, won la ngóor soo xamul, ni la keey sa baay… Rax-ci-dolli, béréb bi mu yëge loolu di Ogosaa, nga xam ni lépp a fa jéggi dayo, Ogosaa ak i gunóoram yu dul jeex, tàngaayam, gàncax gi ; Ogosaa, dëkk bi lay bàyyi nga firiku ba defe ni yaa ci nekk, mu damm say laaf. Nga nekk it xale bu tuuti, xéy bes rekk di dajeek ay doom-aadama yu wute lool ak ña nga miinoon Tugal, ñuy waxe neneen, di lekke neneen, di reetaane neneen. Ay doom-aadama yu xeeti feebar yu kenn xamul yab lool, ñu gaaw a màgget. Waaye du tee ay moroomi goneem dëkke fa fo. Xanaa kay, seen ngonee dul yàgg rekk, ndeysaan… Ndax foofu, waxambaane yi dañuy teel a ànd ak seen baay tool ya. Janq ji ñoom, su ñuy am fukki at ak ñett daldi séyi, boot seen doom.'},\n",
       " 116: {'french_corpus': 'Il aurait fallu grandir en écoutant un père raconter sa vie, chanter des chansons, accompagner ses garçons à la chasse aux lézards ou à la pêche aux écrevisses dans la rivière Aiya, il aurait fallu mettre sa main dans la sienne pour qu’il montre les papillons rares, les fleurs vénéneuses, les secrets de la nature qu’il devait bien connaître, l’écouter parler de son enfance à Maurice, marcher à côté de lui quand il allait rendre visite à ses amis, à ses collègues d’hôpital, le regarder réparer la voiture ou changer un volet brisé, l’aider à planter les arbustes et les fleurs qu’il aimait, les bougainvillées, les strelitzias, les oiseaux-de-paradis, tout ce qui devait lui rappeler le merveilleux jardin de sa maison natale à Moka. Mais à quoi bon rêver ? Rien de tout cela n’était possible.',\n",
       "  'wolof_corpus': 'Su doon sunu sago, neneen la yëf yiy deme, nuy déglu Baay muy nettaliy jaar-jaaram, di woy léeg-léeg mbaa di ànd ak nun rëbbi sindax walla wuti sippax ci dexug Ayaa. Am kon naa mbégte yëg ni muy téyee sama loxo di ma won i lëppaa-lëpp yu jafee teg bët, ay tóor-tóor yu làq seen tooke fu sori ak yeneen ak yeneen. Waaw, doon na ma neex lool ma koy dégg muy fàttaliku ndawam ca Móris mbaa ma koy gunge buy seetiy xaritam. Dara doonul dàq ma koy seetaan muy defar wotoom walla di jagalaat ab palanteer ; su ma noon jàppale ma, doom, ma jëmbët ay tóor-tóor ak i garab, su ma noon may ma loxo ma dekkali tóokër ba woon ca kër ga ma yaroo ca Mokaa, dama ni, su ma Baay waxoon lu ni mel, duma ko sax gëme. Waaye lu fi waral i gént ? Loolu lépp, du dara lu ca mënoon a nekk.'},\n",
       " 117: {'french_corpus': 'Au lieu de cela, nous menions contre lui une guerre sournoise, usante, inspirée par la peur des punitions et des coups. La période où il est rentré d’Afrique a été la plus dure. Aux difficultés d’adaptation s’ajoutait l’hostilité qu’il devait ressentir dans son propre foyer. Ses colères étaient disproportionnées, excessives, épuisantes. Pour un rien, un bol cassé, un mot de travers, un regard, il frappait, à coups de canne, à coups de poing. Je me souviens d’avoir ressenti quelque chose qui ressemblait à de la haine. Tout ce que je pouvais faire, c’était casser ses bâtons, mais il allait en couper d’autres dans les collines. Il y avait un archaïsme dans cette façon, cela ne ressemblait pas à ce que connaissaient mes camarades. J’ai dû en ressortir endurci, selon le proverbe arabe : celui qui est battu est faible d’abord, ensuite il devient fort.',\n",
       "  'wolof_corpus': 'Wànte maak sama mag kay, dan daan defanteek moom, di ko fexeel saa su ne, ci lu mu xaajul a foog. Mu doon, nag, xare bu metti, jeexal doole te doon firndeel itam ni mu yóbboo woon sunu fit. Bi mu jógee Afrig sax la yëf yi gënoon a takkarnaase. Fi muy ñefee ngir xàmmeewaat boppam ciw askanam, mu ngi yëg ni ko njabootam jéppee. Ay meri dof dëgg a ko daan dikkal. Lu ñàkk soloo ko daan sooke, ñaare, moo xam kaas boo toj la mbaa nga xool ko bët bu ko neexul mbaa nga koy jaay dijj ŋaam. Lu ne mënoon na koo teqaleek sagoom, mu lay wulli ak i yat mbaa di la kurpeñ. Daan naa dem bay yëg ci sama biir xol lu niroo woon lool ak mbañeel. Lenn rekk laa mënoon a def, te moo doon damm ay yatam. Waaye ba nga leen di damm sànneek ba muy wutiwaat yat, benn la daan doon. Jëfinam dëppoowul woon ak jamono. Du kenn ci samay moroom ku baayam doon dumaa noonu. Dama ca jóge, nag, dër-kiis, mu méngook li Araab yiy wax : ay dóor, day wàññi doole ba noppi yokk doole.'},\n",
       " 118: {'french_corpus': 'Aujourd’hui, avec le recul du temps, je comprends que mon père nous transmettait la part la plus difficile de l’éducation – celle que ne donne jamais aucune école. L’Afrique ne l’avait pas transformé. Elle avait révélé en lui la rigueur. Plus tard, lorsque mon père est venu vivre sa retraite dans le sud de la France, il a apporté avec lui cet héritage africain. L’autorité et la discipline, jusqu’à la brutalité.',\n",
       "  'wolof_corpus': 'Tey, bi ma newee mag, laay door a xam ni Baay dafa nu doon yare ci anam gu nu benn lekool mënutoon a yare. Du sax li mu demoon Afrig a ko soppi woon. Afrig dafa dekkali woon doŋŋ njub ga masoon a nekk ci moom. Ay at jàll, Baay noppalu liggéey, dëkkseek nun bëj-saalumu Frãs, indaale la mu jànge Afrig : awale yoon ak i dóor yu metti.'},\n",
       " 119: {'french_corpus': 'Mais aussi l’exactitude et le respect, comme une règle des sociétés anciennes du Cameroun et du Nigeria, où les enfants ne doivent pas pleurer, ne doivent pas se plaindre. Le goût d’une religion sans fioritures, sans superstitions, qu’il avait trouvée, j’imagine, dans l’exemple de l’islam. C’est ainsi que je comprends maintenant ce qui me semblait absurde alors, son obsession de l’hygiène, cette façon qu’il avait de se laver les mains. Le dégoût qu’il manifestait pour la viande de porc, dont il extrayait, pour nous convaincre, les œufs de ténia enkystés de la pointe de son couteau. Sa manière de manger, de faire cuire son riz selon la méthode africaine, en rajoutant au fur et à mesure de l’eau chaude. Son goût pour les légumes bouillis, qu’il relevait par une sauce au piment. Sa préférence pour les fruits secs, les dattes, les figues et même les bananes qu’il mettait à cuire au soleil sur le bord de sa fenêtre. Le soin qu’il apportait chaque matin à faire son marché de très bonne heure, en compagnie des travailleurs maghrébins, qu’il rencontrait également au commissariat de police, chaque fois qu’il faisait renouveler sa carte de séjour.',\n",
       "  'wolof_corpus': 'Waaye ndono loolu, mënees nan koo gise neneen. Wonaale nanu soloy njub ak weg say kilifa. Dëkki Kamerun ak Nise-ryaa ya mu jaar, benn gone du fa jooy mbaa di jàmbat. Ñàkkul la mu jotoon a seetlu ci seen lislaam a ko taxoon sopp diine ju amul i kalmaňàngaan ak i bidaa. Cetam gu jéggi dayo ga, demoon ba mel ni feebar ci moom, fu mu tolluy raxasi loxoom, noonu laa koy gise tey. Léegi laay door a xam lu tax mu siboon yàppu mbaam, daan cay faral a luqatiy saan yu ndaw, di nu leen won ngir nu xam bu baax ni li mu ci daan wax dëgg gu wér péŋŋ la. Cet googu, daan na feeñ it ci lekkinam, ci ni mu daan baxaalee ceeb, di ko ñuluge ndànk-ndànk ndox mu tàng, niñ koy defe Afrig. Léjum moom, xamu ci lu dul baxal ba noppi sàppalee ko tuuti kaani. Du jaaxal kenn su ma nee bëggoon na lool ñam yu deme ni tàndarmaak banaana yi mu daan weer ci naaj wi ba ñu wow. Na muy dugge màrse sax, tegtal ci li may wax nii. Du ko caaxaane, moom. Bés bu Yàlla sàkk, ci suba teel, mu ànd ak i daan-dooley naar jubal ja ba. Miinanteek naak ñoom bu baax, ndax li ñuy faral a daje pólis saa yuy yeesaliy kayitam.'},\n",
       " 120: {'french_corpus': 'Tout cela peut sembler anecdotique. Mais ces manières africaines qui étaient devenues sa seconde nature apportaient sans doute une leçon à laquelle l’enfant, puis l’adolescent ne pouvait pas être insensible.',\n",
       "  'wolof_corpus': 'Lii lépp, mën naa niiruy waxi kasaw-kasaw. Moonte, sañumaa weddi ne ni Baay mujjee doon doomu Afrig tigi, am na lu mu def ci man.'},\n",
       " 121: {'french_corpus': 'Vingt-deux ans d’Afrique lui avaient inspiré une haine profonde du colonialisme sous toutes ses formes. En 1954, nous fîmes un voyage touristique au Maroc (où un des « oncles » était administrateur d’une propriété agricole). Bien plus que des images habituelles du folklore, je me souviens d’un incident qui m’a marqué. Nous avions pris un autocar régulier pour aller de Casablanca à Marrakech. À un moment, le chauffeur (un Français) se mit en colère, insulta et rejeta au bord de la route un vieux paysan qui n’avait sans doute pas de quoi payer son parcours. Mon père était indigné. Son commentaire s’étendait à toute l’occupation française dans ce pays, qui empêchait les autochtones d’exercer le moindre travail, fût-ce celui de chauffeur de car, et qui maltraitait les pauvres. À la même époque, il suivait à la radio, jour après jour, les combats des Kikuyus au Kenya en vue de l’indépendance et la lutte des Zoulous contre la ségrégation raciale en Afrique du Sud.',\n",
       "  'wolof_corpus': 'Ñaar fukki at ak ňaar yi mu dund Afrig won nañ ko bu baax a baax lan la nguurug Tubaab yi tekki, mu sib ko ba fàww. Ci atum 1954, yóbbu nanu Marog, nu doon fay wëraakoon, daanaka. Xam naa li fa kenn ci samay « nijaay » doon saytu tool bu mag a mag a waraloon mu taamu réew moomu. Lenn rekk laa fàttaliku ci tukki boobu te dootul génn mukk ci sama xel. Mooy Tubaab ba doon dawal sunu ótóbiis ci diggante Kaasabalankaa ak Maraakees, jékkee-jekki rekk di yuuxu, di gëdd benn màggetum beykat mu amutoon paas, ba noppi ni ko na wàcc wotoom dem ca xaj. Baay am ci naqar wu réy te nëbbu ci dara, ne fay ŋàññ doxandéem yiy ñëw ci réewu jàmbuur, aakimu lépp, di fa toroxal baadoolo yi, ba doon sófóoru ótó-biis doŋŋ të leen. Jamono jooju, àddina si yépp a doon yëngu. Baay di dégg ci rajoom ni Kikuyu yi jóg nañu taxaw ca Keeñaa, te Sulu yu Bëj-saalum Afrig yit, kenn demul ñu des, ñoom ñépp di xeex ngir jot seen bopp ak dakkal boddikonte ci biir xeet ba fay nit ñu weex sooke.'},\n",
       " 122: {'french_corpus': 'Ce n’étaient pas des idées abstraites ni des choix politiques. C’était la voix de l’Afrique qui parlait en lui, qui réveillait ses sentiments anciens. Sans doute avait-il pensé au futur, quand il voyageait avec ma mère, à cheval sur les sentiers du Cameroun. C’était avant la guerre, avant la solitude et l’amertume, quand tout était possible, quand le pays était jeune et neuf, que tout pouvait apparaître. Loin de la société corrompue et profiteuse de la côte, il avait rêvé de la renaissance de l’Afrique, libérée de son carcan colonial et de la fatalité des pandémies. Une sorte d’état de grâce, à l’image des immensités herbeuses où avançaient les troupeaux conduits par les bergers, ou des villages aux alentours de Banso, dans la perfection immémoriale de leurs murs de pisé et de leurs toits de feuilles.',\n",
       "  'wolof_corpus': 'Lu soxaloon Baay a ngoog. Du caagin da doon jaay lu amul mbaa muy wax ay waxi pólitiseŋ. Afrigam lañ doon noot, xel may dellu ci li mu fa jot a dund, yëg ko faak doole, daan ànd ak sama yaay ñu war seen fas ni yooni Kamerun yi nu ngoog. Walla ma ni boog loolu la doon gént, laata xare biy kalaate. Géntug Afrig bu yeewu, yewwiku, wóolu boppam, jàpp ne dara tëwatu ko. Baay gëmoon na ne Afrig mën naa mucc ci ger, feebar, bekkoor ak yeneen lóoxóor yi ko tàmm a lottal. Daan na janeer moom-sa-réew ak tawféex yu amul dayo, tollu ni Afrig ci boppam. Waaye xare bi ñëw, dàq loolu lépp ci xelam, faaleetul kenn, defatul dara muy dara.'},\n",
       " 123: {'french_corpus': 'L’avènement de l’indépendance, au Cameroun et au Nigeria, puis de proche en proche à travers tout le continent, avait dû le passionner. Chaque insurrection devait être pour lui source d’espoir. Et la guerre qui venait d’éclater en Algérie, guerre pour laquelle ses propres enfants risquaient d’être mobilisés, ne pouvait être pour lui que le comble de l’horreur. Il n’avait jamais pardonné à de Gaulle son double jeu.',\n",
       "  'wolof_corpus': 'Teewul ba mu yëgee ni Niseryaak Kamerun moom nañu seen bopp, muy xibaar bu ko yëngal, yitteel ko. Saa yu déggee ni aw askaan fippu na, mu ngay dunde yaakaar. Looloo ko dal ba xare ba tàkkee ca Alseeri. Moone ay doomam mënoon nañ caa ñàkki bés seen bakkan wànte yoonam. Baay masul a baal Seneraal De Góol maa waxoon-waxeetam ci Alseri.'},\n",
       " 124: {'french_corpus': 'Il est mort l’année où le sida a fait son apparition. Déjà, il avait perçu l’oubli tactique dans lequel les grandes puissances coloniales laissent le continent qu’elles ont exploité. Les tyrans mis en place avec l’aide de la France et de l’Angleterre, Bokassa, Idi Amin Dada, à qui les gouvernements occidentaux ont fourni armes et subsides pendant des années, avant de les désavouer. Les portes ouvertes à l’émigration, ces cohortes de jeunes hommes quittant le Ghana, le Bénin ou le Nigeria dans les années soixante, pour servir de main-d’œuvre et peupler les ghettos de banlieue, puis ces mêmes portes qui se sont refermées lorsque la crise économique a rendu les nations industrielles frileuses et xénophobes. Et surtout l’abandon de l’Afrique à ses vieux démons, paludisme, dysenterie, famine. À présent la nouvelle peste du sida, qui menace de mort le tiers de la population générale de l’Afrique, et toujours les nations occidentales, détentrices des remèdes, qui feignent de ne rien voir, de ne rien savoir.',\n",
       "  'wolof_corpus': 'At mi mu faatoo la sidaa njëkkee feeň. Ni réewi Tubaab yi sàccee alalu Afrig ba deseetul dara, ñu ni ko fi ñukk ni yakk bu naqadi, neexu ko woon ; gisoon na itam Frãs ak Àngalteer ñuy jox i gànnaay seeni xuus-maa-njàpp niki Bokasaa ak Idi Amin Dadaa ba noppi xéy bés di leen tam dëmm. Fekk booba dañoo doyal ci ñoom doŋŋ. Loolu doyul, biñ duggee ci atum 60, ñu ubbil Afrig bunti gàddaay. Gone yi dawsee Ganaa, Beneŋ walla Niseryaa ngir daan seen doole. Lu nekk ñu koy daj ci réewi Tubaab yi. Àddinay dox, ñu dem ba réew yooyu tollu diggante, daldi tëjaat ràpp seeni bunt, di sikkal doomi Afrig yi, naan dañoo rekk xayadi, ngalla nañ toog fañ fekk baax. Ak lii, di li gën a xëtt xolu Baay : ni ñuy seetaanee sibbiru si, biiru-taññ ak bekkoor di wéy di ŋacc meenu Afrig. Tey jii, sidaa dal ci kowam nar ko faagaagal. Teewul réewi Tubaab yi mën dugal seen loxo ci mbir mi dumóoyu, ni ñoom yëguñu tinuñu.'},\n",
       " 125: {'french_corpus': 'Le Cameroun avait échappé, semblait-il, à ces malédictions. Le haut pays de l’Ouest, en se séparant du Nigeria, avait fait un choix raisonnable, qui le mettait à l’abri de la corruption et des guerres tribales. Mais la modernité qui arrivait n’apportait pas les bienfaits escomptés. Ce qui disparaissait aux yeux de mon père, c’était le charme des villages, la vie lente, insouciante, au rythme des travaux agricoles. La remplaçaient l’appât du gain, la vénalité, une certaine violence. Même loin de Banso, mon père ne pouvait pas l’ignorer. Il devait ressentir le passage du temps comme un flot qui se retire, abandonnant les laisses du souvenir.',\n",
       "  'wolof_corpus': 'Kamerun demoon na bay mucc ciy lóoxóor yu ni mel. Yenn ciy dëkkam yi féete sowu-jant dañoo teel a teqalikook Niseryaa, mu doon li gën ci ñoom, musal leen ci ger ak reyante yu dul jeex. Waaye, yàggul dara yaakaar tas. Baay seetlu ni, ni Afrig doon soppikoo ngir dëppook jamono, jigu ko. Bëgge, yàkkamti àddina ak ku mën sa moroom duma ñoo daldi wuutu lépp la mu soppoon ci Afrig. Li mu xamoon, moo doon i nit ñu ànd ak seen sago di daagu, am toppatoo ci seeni dëkk te weg bu baax mbey mi leen doon dundal. Dëgg la, sore woon na Bansoo wànte mënutoon a réere loolu mbir. Daanaka dafa ne woon jàkk bési dunyaa yi, ñuy dem seen yoon, di wéy tëwa taxaw. Bés bu ci nekk mel ni lu bàyyi sa màndarga bopp ci tefesug pàttaliku.'},\n",
       " 126: {'french_corpus': 'En 1968, tandis que mon père et ma mère regardent monter sous leurs fenêtres, à Nice, les montagnes d’ordures laissées par la grève générale, et tandis qu’à Mexico j’entends le vrombissement des hélicos de l’armée qui emportent les corps des étudiants tués à Tlatelolco, le Nigeria entre dans la phase terminale d’un massacre terrible, l’un des grands génocides du siècle, connu sous le nom de guerre du Biafra. Pour la mainmise sur les puits de pétrole à l’embouchure de la rivière Calabar, Ibos et Yoroubas s’exterminent, sous le regard indifférent du monde occidental. Pis encore, les grandes compagnies pétrolières, principalement l’anglo-hollandaise Shell-British Petroleum, sont partie prenante dans cette guerre, agissent sur leurs gouvernements pour que soient sécurisés les puits et les pipe-lines. Les États qu’elles représentent s’affrontent par procuration, la France du côté des insurgés biafrais, l’Union soviétique, l’Angleterre et les États-Unis du côté du gouvernement fédéral majoritairement yorouba. La guerre civile devient une affaire mondiale, une guerre entre civilisations. L’on parle de chrétiens contre musulmans, ou de nationalistes contre capitalistes. Les pays développés retrouvent un débouché inattendu pour leurs produits finis : ils vendent dans les deux camps armes légères et lourdes, mines antipersonnel, chars d’assaut, avions, et même des mercenaires allemands, français, tchadiens, qui composent la 4e brigade biafraise au service des rebelles d’Ojukwu. Mais à la fin de l’été 1968, encerclée, décimée par les troupes fédérales sous le commandement du général Benjamin Adekunle, surnommé pour sa cruauté le « Scorpion noir », l’armée biafraise capitule. Seule résiste encore une poignée de combattants dont la plupart sont des enfants, qui brandissent des machettes et des bâtons sculptés en forme de fusils contre les Mig et les bombardiers soviétiques. À la chute d’Aba (non loin de l’ancien sanctuaire des guerriers magiciens d’Aro Chuku), le Biafra entre dans une longue agonie. Avec la complicité de l’Angleterre et des États-Unis, le général Adekunle verrouille le blocus sur le territoire biafrais, empêchant tout secours et tout approvisionnement. Devant l’avancée de l’armée fédérale, en proie à une folie vengeresse, la population civile fuit vers ce qui reste du territoire biafrais, envahit les savanes et la forêt, tente de survivre sur les réserves. Hommes, femmes, enfants sont pris dans un piège mortel. À partir de septembre, il n’y a plus d’opérations militaires, mais des millions de gens coupés du reste du monde, sans vivres, sans médicaments. Quand les organisations internationales peuvent enfin pénétrer dans la zone insurgée, elles découvrent l’étendue de l’horreur. Le long des routes, au bord des rivières, à l’entrée des villages, des centaines de milliers d’enfants sont en train de mourir de faim et de déshydratation. C’est un cimetière vaste comme un pays. Partout, dans les plaines d’herbes semblables à celle où j’allais autrefois faire la guerre aux termites, des enfants sans parents errent sans but, leurs corps transformés en squelettes. Longtemps après je suis hanté par le poème de Chinua Achebe, Noël au Biafra, qui commence par ces mots : Non, aucune Vierge à l’Enfant ne pourra égaler Le tableau de la tendresse d’une mère Envers ce fils qu’elle devra bientôt oublier.',\n",
       "  'wolof_corpus': 'Atum 1968 agsi, di at mu bariy yëngu-yëngu. Ma nekk Meksikoo, làrmeb nguur gi rey fay ndongoy daara ca Talatelókoo, ay fafal-naaw yu ndaw di for néewu gone yiy yóbbu ; ca Niis, liggéeykat yi bank seen loxo, samay ñaari way-jur sëppu seen palanteer di gis ni mbalit mi juugee ci mbedd mi ; fekk na Niseryaa, xareb Biyaafaraa baa ngay waaj a jeex ; mu doon faagaagal bi gënoon a ñaaw ci xarnu bi. Nattu doomi Biyaafaraa moo doon petorool ba ni fa woon gàññ ci bëlub Kalabaar. Ibo yeek Yoruba yiy reyante, réewi Tugal yiy seetaan, naan tey mu neex. Jaaykatu petorool yu mag yi ñoom, rawati-na « Shell-British Petroleum », maanduwuñu dara ci mbir mi ; ñuy soňň seeni gornmaa ngir ňu aar teeni petorool ya ca Niseryaa. Ku nekk, nag, am foo far, Frãs di jàppale way-fippuy Biyaafaraa yi ; Riis yi, Àngalteer ak Amerig ànd ak gornmaa bu Legoos. Yëf yi dem ba ëpp loxo, xeexu Ibo yeek Yorubaa yi daldi soppiku xare diggante kerceen ak jullit, ñii di tuumaal ñee, naan dañoo taxaw ci tànku pasar-pasaree alalu réew mi, séddoo kook ay doxandéem. Réewi tubaab yi am doole yi ni màrse neex na : ñu ngi jaay Ibo yeek Yorubaa yi ay gànnaay – moo xam ay roppëlaan la, mbaa ay ndell mbaa leneen. Ñu ni déet ay way-xare-lekk jóge Almaañ, Frãs ak réewum Càdd di sotle Ósukwu miy jiite fippu yi. Waaye bi nawetu 1968 di agsi la leen làrmeb Niseryaa wër-ndombo, daan leen. Seneraal Beŋsameŋ Adekunle, nga xam ni dafa soxoroon ba ñu koy woowe « Jiit ju Ñuul ji » ni moom it tey mu neex. Amoon na, gaa, ay fippu yu ni woon ñoo lànk, duñu wéer seeni gànnaay, wànte ñu néew lañ woon. Mën nañ sax i dañ doon guddal jéll doŋŋ ndax ba roppëlaani Riis yay yuriy bomb ci seen kow, deseetuñu woon lu dul i fetal yu tiitalul sax ragal. Àbbaa daanu. Àbbaa, sorewul xàmbi Aro Suku ya. Biyaafaraa tàmbalee sukkuraat, sukkuraat ju metti te yàgg. Àngalteer ak Amerig di làquy jàppale Adekunle, mu kepp fippu yi, kenn mënuta leen a wallu. Làrme bu Legoos ni nag caaxaan faaxe, fàww mu fey Biyaafaraa boram. Daw wuti foo làqoo fa sësoon. Mag, ndaw, góor ak jigéen jàq, song àll bi te daanaka deseetuñu dund. Weeru sàttumbar agsi, xare bi ci boppam dakk. Wànte ay junniy-junniy doom-aadama nga tëju Biyaafaraa di deek xiif ak mar, faju të leen. Mbootaayi xeet yi fexe ba fekk leen fa, door a teg bët ciy ňaawtéef yu kéemaane ya fa Adekunle defoon. Fu waay geestu, say bët daj téeméeri junniy gone yu wow koŋŋ, niróotuñu sax nit. Mu mel ni ñu ngi dox ci biiriy armeel. Armeel yu yaatu ni réewum lëmm. Joor ja ma daan rëbbiy max, ay gone yu xamatul seeni way-jur a fay wëndéelu. Fan lañu jëm, noonu ? Dara lañ ci xamul. Ay yaxi neen a leen dese. Ñu teg ciy at, ab taalifu Sinuwaa Aseebe di tëgg tama ci sama biir kaaŋ. Taalif baa ngi tudd : Nowel ca Biyaafaraa, mu koy ubbee nii : Dëgg la Nataal bi Ndeyu Yéesu boq doom ji Daw na yaram Wànte dara mënuta dab Cofeel ak tiisu ndey ju tiim doomam Muy sukkuraat.'},\n",
       " 127: {'french_corpus': 'J’ai vu ces images terribles dans tous les journaux, les magazines. Pour la première fois, le pays où j’avais passé la partie la plus mémorable de mon enfance était montré au reste du monde, mais c’était parce qu’il mourait. Mon père a vu aussi ces images, comment a-t-il pu accepter ? À soixante-douze ans, on ne peut que regarder et se taire. Sans doute verser des larmes.',\n",
       "  'wolof_corpus': 'Jamono jooju, yéenekaay bu ma ubbi gis ci nataal yu jafee dékku. Dëkk ba ma màgge, yëg fa dëgg sama dooley ndaw, la yéenekaay yi doon wone. Waaye sukkuraatam kese lañ doon wone. Baay tamit gis na lu ni mel. Ku sañ a xalaat ni loolu yàqul xolam yaxeet ? Soo demee ba am juróom-ñaar-fukki at ak ñaar, mënoo def lu dul maandu. Walla xéy-na léeg-léeg nga làqu fomp rangooñ.'},\n",
       " 128: {'french_corpus': 'La même année que la destruction du pays où il a vécu, mon père s’est vu retirer sa nationalité britannique, pour cause d’indépendance de l’île Maurice. C’est à partir de ce moment-là qu’il cesse de songer au départ. Il avait fait le projet de retrouver l’Afrique, non pas au Cameroun, mais à Durban, en Afrique du Sud, pour être plus près de ses frères et de ses sœurs restés à l’île Maurice natale. Puis il avait imaginé s’installer aux Bahamas, acheter un lopin à Eleuthera et y construire une sorte de campement. Il avait rêvé devant les cartes. Il cherchait un autre endroit, non pas ceux qu’il avait connus et où il avait souffert, mais un monde nouveau, où il pourrait recommencer, comme dans une île. Après le massacre du Biafra, il ne rêve plus. Il entre dans une sorte de mutisme entêté, qui l’accompagnera jusqu’à sa mort. Il oublie même qu’il a été médecin, qu’il a mené cette vie aventureuse, héroïque. Lorsque, à la suite d’une mauvaise grippe, il est hospitalisé brièvement pour une transfusion sanguine, j’obtiens avec difficulté que le résultat des examens lui soit transmis. « Pourquoi les voulez-vous ? demande l’infirmière. Vous êtes médecin ? » Je dis : « Moi non. Mais lui, oui. » L’infirmière lui porte les documents. « Mais pourquoi n’avez-vous pas dit que vous étiez médecin ?» Mon père répond : « Parce que vous ne me l’avez pas demandé. » D’une certaine façon, il me semble que c’était moins par résignation que par son désir d’identification avec tous ceux qu’il avait soignés, à qui à la fin de sa vie il s’était mis à ressembler.',\n",
       "  'wolof_corpus': 'At ma Niseryaa, réew ma Baay dëkkoon, tojee, Móris ni ko ginnaaw jot nanu sunu bopp, mënatoo nekk Àngale. Fekkoon na xelam newoon ci dem. Mu doxe fa fomm ba fàww. Su ma nee dem, du caagin dafa bëggoon a dellu Kamerun. Bii yoon, Durbaŋ, ca Bëj-saalumu Afrig, la fas yéene woon dëkki, ndax bëgg a jegeyook rakkam yeek magam ya desoon Móris. Dem na sax ba xel mi nekk ci jëndi suuf Baxamaas, ci béréb buñ naan Elëteraa, samp fa xeetu berkelleem. Maa ngi koy gisaat mu tiim aw dénd, bët yiy doxantu dëkkoo-dëkk. Muy gént, nag. Moom daal, na jóge Tugal rekk. Waaye bëggul a dellu Afrig. Doyal na ci, ndax metit yu tar ya mu fa jànkonteel. Mii xel naan ko : « Lu la tee dem dëkki foo xamul kenn, kenn xamu la fa, cib dun bu wéet ? » Biyaafaraa daldi lab ci déegu deret. Baay daldi dakkal i géntam, ni dee dootul ubbi gémmiñ gi wax. Dem na sax ba fàtte ni masoon naa nekk doktoor, daan wër dunyaa, doonoon it jàmbaar dëgg, ñeme lu metti. Bés, sibbiru su metti daaneel ko, ñu war koo sol deret. Ma laaj waa loppitaan bi ay kayitam. Ndaw si ni ma : « Loo koy doye ? Xanaa doktoor nga ? » Ma ni ko : « Déedéet. Waaye moom doktoor la. » Mu jaaxle, laaj Baay lu tee mu wax ko mooy kan. Tontu bu gàtt la ko Baay tontu : « Laajuloo ma ko. » Dafa meloon ni ku doyal ci àddina, di bàyyeeku. Wànte du woon loolu. Li ko taxoon doxale noonu, moo doon ni rekk Baay dafa demoon ba nekk benn, ci lu mu teyul, yëgu ko sax, ak ña mu faj lu mat ñaar-fukki at ak ñaar.'},\n",
       " 129: {'french_corpus': 'C’est à l’Afrique que je veux revenir sans cesse, à ma mémoire d’enfant. À la source de mes sentiments et de mes déterminations. Le monde change, c’est vrai, et celui qui est debout là-bas au milieu de la plaine d’herbes hautes, dans le souffle chaud qui apporte les odeurs de la savane, le bruit aigu de la forêt, sentant sur ses lèvres l’humidité du ciel et des nuages, celui-là est si loin de moi qu’aucune histoire, aucun voyage ne me permettra de le rejoindre.',\n",
       "  'wolof_corpus': 'Li ma soxal, man mii, mooy bàyyi sama xel muy tambaalu ca jamono ja ma newee goneg Afrig. Lépp lu may yëg walla ma koy jëf saxe fa, meññee fa. Dëgg la, la woon wonni na. Mu tekki ne gone gee may séen muy réer ci biir ñax mi, jant biy raay yaram wi, asamaan siy dajale, gone googu sori na sori gu, samay kàddu walla samay tànk manuñoo fexe ba dab ko.'},\n",
       " 130: {'french_corpus': 'Pourtant, parfois, je marche dans les rues d’une ville, au hasard, et tout d’un coup, en passant devant une porte au bas d’un immeuble en construction, je respire l’odeur froide du ciment qui vient d’être coulé, et je suis dans la case de passage d’Abakaliki, j’entre dans le cube ombreux de ma chambre et je vois derrière la porte le grand lézard bleu que notre chatte a étranglé et qu’elle m’a apporté en signe de bienvenue. Ou bien, au moment où je m’y attends le moins, je suis envahi par le parfum de la terre mouillée de notre jardin à Ogoja, quand la mousson roule sur le toit de la maison et fait zébrer les ruisseaux couleur de sang sur la terre craquelée. J’entends même, par-dessus la vibration des autos embouteillées dans une avenue, la musique douce et froissante de la rivière Aiya.',\n",
       "  'wolof_corpus': 'Teewul léeg-léeg may daagu cib dëkk bu ma miinul, jékkee-jékki gis tabax bu sotteegul, xetu simoŋ gi dugg ma. Ci saa si, sama xel daldi dellu Abaakaliki. Ma jaaxaan ci sama néeg bu féex ba, di séen ci ginnaaw bunt bi sindax bi sunu muus mi rey teg fa, ngir ganalee ma ko. Walla similaak-saala, xetu bàqu Ogosaa bi doxe ma ginnaaw, mu mel ni maa ngi janook ngelaw liy raay jànqi kër gi, di nes-nesil xonqaayu dex gi. Yenn saa yi ma nekk bitim-réew, ci dëkk bu mag, woto yiy riir, tanqal ñépp, wànte man, su may tàllal sama nopp di dégg dexug Ayaa muy woyantu ci suuf.'},\n",
       " 131: {'french_corpus': 'J’entends les voix des enfants qui crient, ils m’appellent, ils sont devant la haie, à l’entrée du jardin, ils ont apporté leurs cailloux et leurs vertèbres de mouton, pour jouer, pour m’emmener à la chasse aux couleuvres. L’après-midi, après la leçon de calcul avec ma mère, je vais m’installer sur le ciment de la varangue, devant le four du ciel blanc pour faire des dieux d’argile et les cuire au soleil. Je me souviens de chacun d’eux, de leurs noms, de leurs bras levés, de leurs masques. Alasi, le dieu du tonnerre, Ngu, Eke-Ifite la déesse mère, Agwu le malicieux. Mais ils sont plus nombreux encore, chaque jour j’invente un nom nouveau, ils sont mes chis, mes esprits qui me protègent et vont intercéder pour moi auprès de Dieu.',\n",
       "  'wolof_corpus': 'Damay daldi dégg it samay moroom ñuy yuuxu, téyey xeer ak i faari xar. Dañ ma jëlsi ngir nu dem fowi mbaa rëbbiy xulóol. Ngoon gi, su ma sama yaay jàngalee ba noppi, ma tàmbalee defar i yàllay ban, weer leen ci naaj wi ba ñu wow. Tey, ma ngiy fàttaliku bu ci nekk ci ñoom ak i màndargaam. Alasi, yàllay dënnu yi, Nguu, Eke-Ifite yàlla ju jigéen ji, Agwu, njuuma li. Maa yemale foofu lim bi rekk waaye ëpp nañ loolu, bés bu ne ma sàkk sama benn yàlla, wutal ko tur wu bees. Ñoom ñooy samay « chi », ñoo may aar, di ma rammu ci Yàlla.'},\n",
       " 132: {'french_corpus': 'Je vais regarder la fièvre monter dans le ciel du crépuscule, les éclairs courir en silence entre les écailles grises des nuages auréolés de feu. Quand la nuit sera noire, j’écouterai les pas du tonnerre, de proche en proche, l’onde qui fait vaciller mon hamac et souffle sur la flamme de ma lampe. J’écouterai la voix de ma mère qui compte les secondes qui nous séparent de l’impact de la foudre et qui calcule la distance à raison de trois cent trente-trois mètres par seconde. Enfin le vent de la pluie, très froid, qui avance dans toute sa puissance sur la cime des arbres, j’entends chaque branche gémir et craquer, l’air de la chambre se remplit de la poussière que soulève l’eau en frappant la terre.',\n",
       "  'wolof_corpus': 'Timis jot na. Maa ngi téen, janook asamaan siy gën a yëngu saa su ne. Niir yu dóomu-taal yaa ngi nirook i waasintóor, melax yiy réer ak a feeñ ci seen biir. Buñ demee ba guddi gi lëndëm këruus, dinaa déglu dënnu biy këdd asamaan si, kër giy yëngu, dinaa déglu ngelawu géej giy bëmax sama njoowaan, di ëf làmp bi. Dinaa déglu yit sama yaay muy natt xélu dënnu yi, naan bu ci jàll, fàww mu daw ñetti-téeméeri meetar ak ñett door a dal fenn. Taw bi sóob, ànd ak ngelaw lu sedd guyy. Mu ngi yëngal collu garab yi, di wonkloo seeni bànqaas. Ndox miy rëkk suuf si, pënd bi fekksi ma ci biir néeg bi.'},\n",
       " 133: {'french_corpus': 'Tout cela est si loin, si proche. Une simple paroi fine comme un miroir sépare le monde d’aujourd’hui et le monde d’hier. Je ne parle pas de nostalgie. Cette peine dérélictueuse ne m’a jamais causé aucun plaisir. Je parle de substance, de sensations, de la part la plus logique de ma vie.',\n",
       "  'wolof_corpus': 'Xamatuma sax man at la woon waaye mu ngi mel ni tey ci man. Dogaatleb démb ak tey a ngi sew ruuj, sew nib seetu. Bu kenn yaakaar ni nammeel a ma doxe ginnaaaw, gal-gal ma, ma yegg suuf di wax i waxi dof. Nammeel, naqar la wu takkandeer bay bànneex waaye bànneex boobu masumaa soxal, man mii. Li may wax nii, dama koo segg, seggaat ko, xam ni su ma seetee bu bax ni sama àddina doxe, nii rekk laa mën a xalaate.'},\n",
       " 134: {'french_corpus': 'Quelque chose m’a été donné, quelque chose m’a été repris. Ce qui est définitivement absent de mon enfance : avoir eu un père, avoir grandi auprès de lui dans la douceur du foyer familial. Je sais que cela m’a manqué, sans regret, sans illusion extraordinaire. Quand un homme regarde jour après jour changer  la lumière sur le visage de la femme qu’il aime, qu’il guette chaque éclat furtif dans le regard de son enfant. Tout cela qu’aucun portrait, aucune photo ne pourra jamais saisir.',\n",
       "  'wolof_corpus': 'Am na lees ma mayoon ba noppi nangu ko. Mas naa am ngone ni ñépp wànte li ma ñàkk ba fàww, lii la : baay bu may gis may màgg, kër gu féexal sama xol laata may xam dara ci àddina. Duma ni loolu safu ma, dinaa koy réccu sax léeg-léeg wànte yit terewumaa nelaw.'},\n",
       " 135: {'french_corpus': 'Mais je me souviens de tout ce que j’ai reçu quand je suis arrivé pour la première fois en Afrique : une liberté si intense que cela me brûlait, m’enivrait, que j’en jouissais jusqu’à la douleur.',\n",
       "  'wolof_corpus': 'Nit ki, dinga dund ba bés bu Yàlla sàkk nga gis ni sa xar-kanamu soxna di soppikoo, walla ngay yeeru saa su gàtt a gàtt si ab ferñent di tàkk ci say bëti doom. Muy lu benn nataalkat mënul a sàcc portale ko, astemaak naan da koy wone.'},\n",
       " 136: {'french_corpus': 'Je ne veux pas parler d’exotisme : les enfants sont absolument étrangers à ce vice. Non parce qu’ils voient à travers les êtres et les choses, mais justement parce qu’ils ne voient qu’eux : un arbre, un creux de terre, une colonne de fourmis charpentières, une bande de gosses turbulents à la recherche d’un  jeu, un vieillard aux yeux troubles tendant une main décharnée, une rue dans un village africain un jour de marché, c’étaient toutes les rues de tous les villages, tous les vieillards, tous les enfants, tous les arbres et toutes les fourmis. Ce trésor est toujours vivant au fond de moi, il ne peut pas être extirpé. Beaucoup plus que de simples souvenirs, il est fait de certitudes.',\n",
       "  'wolof_corpus': 'Teewul may fàttaliku li ma Afrig yéwéne : féexaay bu jéggi dayo, daan ma miirloo, daanaka, di ma may mbégte muy dem sax léeg-léeg ba may waaj a lor. Ku yaakaar ni li may wax lépp mbirum Tubaab bu Afrig doon yëngal ba muy say la, tooñ nga ma. Xale sax xamul loolu. Xale, ay bëtam duñuy jéggi nit ñeek càkkeef gi ngir gis lañuy làq ci seen ginnaaw. Niñ ko feeñoo rekk la leen di gise : garab, am pax ci suuf si, naaxi mellentaan, gone yuy wut ku ñu fowal ak màggatum yalwaankat mu dem ba xaw a sëgg. Ñooñu ma tudd, goney dunyaa yépp lañu, garab yeek mellentaan yépp lañu. Li may may doole, man, sama alal, mooy rekk naa bañ a fàttee fàttaliku. Nataali démb ya àgg fu sore ci man, ni fa tekk, ni dootuñu fa jóge. Du ay janeer mbaa ay xalaat yuy baagante ci jaww ji : déedéet, ci suuf su nangoo-nangu lañuy meññ.'},\n",
       " 137: {'french_corpus': 'Si je n’avais pas eu cette connaissance charnelle de l’Afrique, si je n’avais pas reçu cet héritage de ma vie avant ma naissance, que serais-je devenu ?',\n",
       "  'wolof_corpus': 'Waaw, su Afrig duggul woon ba ci samay biir yax, ma xam ko ba jeexal ko, naka la sama àddina deme kon ?'},\n",
       " 138: {'french_corpus': 'Aujourd’hui, j’existe, je voyage, j’ai à mon tour fondé une famille, je me suis enraciné dans d’autres lieux. Pourtant, à chaque instant, comme une substance éthéreuse qui circule entre les parois du réel, je suis transpercé par le temps d’autrefois, à Ogoja. Par bouffées cela me submerge et m’étourdit. Non pas seulement cette mémoire d’enfant, extraordinairement précise pour toutes les sensations, les odeurs, les goûts, l’impression de relief ou de vide, le sentiment de la durée.',\n",
       "  'wolof_corpus': 'Tey, mënal naa sama bopp, am soxna ak i doom, dëkke yéeg roppëlaan ak a wàcc, am na feneen fu ma sañ ni fa la fekk baax. Moonte, su Ogosaa doon deret, ma ni mu ngi daw samaw yaram ba sunu jonni-Yàlla-tey-jii. At ya ma fa dund ngiy wéy di ma dugg, di ma mëdd ak a miirloo. Du rekk gone guy fàttaliku, doonte sax liy delsi ci sama xel am na doole te leer nàññ. Leeraay gu dara dul rëcc, du xet, du cafko, du itam ni jamono jiy tempe, jubal yoonu ëllëg. Lépp : ba ci rëdd-rëddi càkkeef gi ak sax liñ mën a tudde neen mbaa tus. '},\n",
       " 139: {'french_corpus': 'C’est en l’écrivant que je le comprends, maintenant. Cette mémoire n’est pas seulement la mienne. Elle est aussi la mémoire du temps qui a précédé ma naissance, lorsque mon père et ma mère marchaient ensemble sur les routes du haut pays, dans les royaumes de l’ouest du Cameroun. La mémoire des espérances et des angoisses de mon père, sa solitude, sa détresse à Ogoja. La mémoire des instants de bonheur, lorsque mon père et ma mère sont unis par l’amour qu’ils croient éternel. Alors ils allaient dans la liberté des chemins, et les noms de lieux sont entrés en moi comme des noms de famille, Bali, Nkom, Bamenda, Banso, Nkongsamba, Revi, Kwaja. Et les noms de pays, Mbembé, Kaka, Nsungli, Bum, Fungom. Les hauts plateaux où avance lentement le troupeau de bêtes à cornes de lune à accrocher les nuages, entre Lassim et Ngonzin.',\n",
       "  'wolof_corpus': 'Bi ma demee ba sori ci mbindum téere bii, laa door a xam ni li may dekkali romb na may dem. Jéggi na bés bi ma juddoo. Li ko sabab mooy dekkali jamono ja samay way-jur daan ànd di wër sowu-jantu Kamerun, bëgg àddina, rafet njort ci lépp. Waaye dina fàttaliwaale yit njàqareg Baay, rawati-na ca Ogosaa, fa yaakaaram tasee tasar. Nettali askan wi seen bànneex, nag, di li ëpp solo ci mbir mi : ñoom ñaar, tollu ci seen diggu doole, nobante ba nga ni lii lu mu doon, mu wóor leen ni seen bànneex boobu amul gàpp, yooni Kamerun yi yaatal leen, dalal leen ci xol bu sedd guyy. Man ma dese ci ay turi dëkk, ñu may gunge, ma leen di jaawale sax ak samay santi mbokk yu ma jege. Baali, Nkom, Bamendaa, Bansoo, Nkoŋsàmbaa, Reewii, Kawaajaa. Ak i turi réew, Mbembe, Kakaa, Sungili, Bum, Fungom. Diggante Lasim ak Ngonsin, sama xel dajeek géttug nag yuy daagu ak seeni béjjén yu bindoo ni xaaju weer, di lonk niir yi.'},\n",
       " 140: {'french_corpus': 'Peut-être qu’en fin de compte mon rêve ancien ne me trompait pas. Si mon père était devenu l’Africain, par la force de sa destinée, moi, je puis penser à ma mère africaine, celle qui m’a embrassé et nourri à l’instant où j’ai été conçu, à l’instant où je suis né.',\n",
       "  'wolof_corpus': 'Su may xoolaat ni yëf yi deme, dama naan ndekete sama gént gu yàgg ga, ba may gént ni sama yaay nit ku ñuul la, du woon janeer doŋŋ, amoon na fu mu wéeru. Baay mujje naa doon doomu Afrig, ci lu mu taamul boppam, jëmbët ci fulla ju mat sëkk. Man nag, mën na maa bàyyi saa su nekk xalaat ci sama ndey ju ñuul ja. Sama ndey ju ñuul ja ubbiy loxoom, boq ma ci bés bi ma ganesee dunyaa.'}}"
      ]
     },
     "execution_count": 5,
     "metadata": {},
     "output_type": "execute_result"
    }
   ],
   "source": [
    "corpora_dict = corpora.to_dict(orient='index')\n",
    "\n",
    "corpora_dict"
   ]
  },
  {
   "attachments": {},
   "cell_type": "markdown",
   "metadata": {},
   "source": [
    "We identified some elements seeming to not be very interesting in some cases:\n",
    "\n",
    "- The en dash \"–\" is used in the French and Wolof corpus but not in the same places in two paragraphs with identical syntaxes. In some French sentences, we can see the use of the en dash but not in the Wolof version of that sentence and vice versa. The en dash carries some sense in the narration, essential for the translations. And since we have an actual occurrence of the \"–\" sign in the corpora, we cannot identify all their non-interesting.\n",
    "\n",
    "- The abbreviation of the \"ème\" to \"e.\" In English, it is used to identify ordinal numbers. The problem is that the two cases we use are not taken back in their Wolof version since the Wolof doesn't contain a translation of them. We can suppose that no attention will be added to them, but we can also delete them. When we want to translate a Wolof sentence to a French sentence, the ordinal numbers can be confused with a cardinal number or vice versa. \n",
    "\n",
    "- The identified numbers (non-nominal ones) in the corpora can be either years or ordinal numbers or the \"6x6\" element. Only the years seam to appear in both the french and the Wolof corpora. The other numbers could be more irrelevant in the context. Since more French numbers are nominally translated to the Wolof with letters, writing the number to letters is more useful before translating them.\n",
    "\n",
    "- Some paragraphs should be shorter and can contain more than one context. It will be more beneficial to identify the paragraph containing multiple contexts and separate them into various elements or to concatenate two consecutive paragraphs with the same context. It will be simpler for the large language model to identify the context of a given paragraph. But we will do so if we find that the training needs to be more accurate. It will also permit us to obtain more paragraphs since we only have 141 paragraphs which is a small number (but with a down-streaming approach, it will be OK). If the downstream don't solve the problem of the lack of data we will generate new data with the `GAN (Generative Adversarial Network)` approach.\n",
    "\n",
    "- The text contains some additional spaces that we will delete later, but we didn't find stacked words in the corpora.\n",
    "\n",
    "- Like we said in the previous processing steps, some sentences in the Wolof paragraphs are reversed compared to their French counterparts. But since they are in the same context, we can use them like they are.\n",
    "\n",
    "- Some words can be in one corpus and not translated into another which will sometime add a bias to the translation!! "
   ]
  },
  {
   "attachments": {},
   "cell_type": "markdown",
   "metadata": {},
   "source": [
    "### Count the number of letters and words"
   ]
  },
  {
   "attachments": {},
   "cell_type": "markdown",
   "metadata": {},
   "source": [
    "The first comparison made between the two corpora is between their lengths:\n",
    "\n",
    "- First, we will define a length of a document to be the number of her letters\n",
    "- Second, we will define a length of document to be the number of her words (separated by spaces only). "
   ]
  },
  {
   "attachments": {},
   "cell_type": "markdown",
   "metadata": {},
   "source": [
    "Let us consider the two different types of lengths and show their distributions over the documents."
   ]
  },
  {
   "cell_type": "code",
   "execution_count": 6,
   "metadata": {},
   "outputs": [],
   "source": [
    "# length as number letters (space in count)\n",
    "count_letters = lambda doc_: len(doc_)\n",
    "\n",
    "corpora['french_corpus_n_letters'] = corpora['french_corpus'].map(count_letters)\n",
    "\n",
    "corpora['wolof_corpus_n_letters'] = corpora['wolof_corpus'].map(count_letters)\n",
    "\n",
    "# length as number of words\n",
    "count_words_space = lambda doc_: len(doc_.split())\n",
    "\n",
    "corpora['french_corpus_n_words'] = corpora['french_corpus'].map(count_words_space)\n",
    "\n",
    "corpora['wolof_corpus_n_words'] = corpora['wolof_corpus'].map(count_words_space)\n"
   ]
  },
  {
   "cell_type": "code",
   "execution_count": 7,
   "metadata": {},
   "outputs": [
    {
     "data": {
      "text/html": [
       "<div>\n",
       "<style scoped>\n",
       "    .dataframe tbody tr th:only-of-type {\n",
       "        vertical-align: middle;\n",
       "    }\n",
       "\n",
       "    .dataframe tbody tr th {\n",
       "        vertical-align: top;\n",
       "    }\n",
       "\n",
       "    .dataframe thead th {\n",
       "        text-align: right;\n",
       "    }\n",
       "</style>\n",
       "<table border=\"1\" class=\"dataframe\">\n",
       "  <thead>\n",
       "    <tr style=\"text-align: right;\">\n",
       "      <th></th>\n",
       "      <th>french_corpus</th>\n",
       "      <th>wolof_corpus</th>\n",
       "      <th>french_corpus_n_letters</th>\n",
       "      <th>wolof_corpus_n_letters</th>\n",
       "      <th>french_corpus_n_words</th>\n",
       "      <th>wolof_corpus_n_words</th>\n",
       "    </tr>\n",
       "  </thead>\n",
       "  <tbody>\n",
       "    <tr>\n",
       "      <th>0</th>\n",
       "      <td>Tout être humain est le résultat d’un père et ...</td>\n",
       "      <td>Doomu-aadama bu, ne ci ndey ak baay nga jóge. ...</td>\n",
       "      <td>441</td>\n",
       "      <td>396</td>\n",
       "      <td>80</td>\n",
       "      <td>76</td>\n",
       "    </tr>\n",
       "    <tr>\n",
       "      <th>1</th>\n",
       "      <td>J’ai longtemps rêvé que ma mère était noire. J...</td>\n",
       "      <td>Bi ma delloo dëkk ba ma juddoo, dama faa meloo...</td>\n",
       "      <td>506</td>\n",
       "      <td>570</td>\n",
       "      <td>86</td>\n",
       "      <td>115</td>\n",
       "    </tr>\n",
       "    <tr>\n",
       "      <th>2</th>\n",
       "      <td>De ce visage que j’ai reçu à ma naissance, j’a...</td>\n",
       "      <td>Kanam gii ma judduwaale, am na lu bari lu ma c...</td>\n",
       "      <td>448</td>\n",
       "      <td>500</td>\n",
       "      <td>79</td>\n",
       "      <td>108</td>\n",
       "    </tr>\n",
       "    <tr>\n",
       "      <th>3</th>\n",
       "      <td>À l’âge de huit ans à peu près, j’ai vécu en A...</td>\n",
       "      <td>Daanaka bi ma tolloo ci juróom-ňetti at laa to...</td>\n",
       "      <td>1191</td>\n",
       "      <td>960</td>\n",
       "      <td>212</td>\n",
       "      <td>181</td>\n",
       "    </tr>\n",
       "    <tr>\n",
       "      <th>4</th>\n",
       "      <td>De ce temps, pour ainsi dire consécutivement, ...</td>\n",
       "      <td>Ay yarami nit di ma feeňu, nag. Sama yaram, sa...</td>\n",
       "      <td>922</td>\n",
       "      <td>794</td>\n",
       "      <td>161</td>\n",
       "      <td>165</td>\n",
       "    </tr>\n",
       "  </tbody>\n",
       "</table>\n",
       "</div>"
      ],
      "text/plain": [
       "                                       french_corpus  \\\n",
       "0  Tout être humain est le résultat d’un père et ...   \n",
       "1  J’ai longtemps rêvé que ma mère était noire. J...   \n",
       "2  De ce visage que j’ai reçu à ma naissance, j’a...   \n",
       "3  À l’âge de huit ans à peu près, j’ai vécu en A...   \n",
       "4  De ce temps, pour ainsi dire consécutivement, ...   \n",
       "\n",
       "                                        wolof_corpus  french_corpus_n_letters  \\\n",
       "0  Doomu-aadama bu, ne ci ndey ak baay nga jóge. ...                      441   \n",
       "1  Bi ma delloo dëkk ba ma juddoo, dama faa meloo...                      506   \n",
       "2  Kanam gii ma judduwaale, am na lu bari lu ma c...                      448   \n",
       "3  Daanaka bi ma tolloo ci juróom-ňetti at laa to...                     1191   \n",
       "4  Ay yarami nit di ma feeňu, nag. Sama yaram, sa...                      922   \n",
       "\n",
       "   wolof_corpus_n_letters  french_corpus_n_words  wolof_corpus_n_words  \n",
       "0                     396                     80                    76  \n",
       "1                     570                     86                   115  \n",
       "2                     500                     79                   108  \n",
       "3                     960                    212                   181  \n",
       "4                     794                    161                   165  "
      ]
     },
     "execution_count": 7,
     "metadata": {},
     "output_type": "execute_result"
    }
   ],
   "source": [
    "# print the first documents\n",
    "corpora.head()"
   ]
  },
  {
   "attachments": {},
   "cell_type": "markdown",
   "metadata": {},
   "source": [
    "Let us trace the distributions of the number of letters and the distributions of the numbers words separated by spaces."
   ]
  },
  {
   "cell_type": "code",
   "execution_count": 8,
   "metadata": {},
   "outputs": [
    {
     "data": {
      "application/vnd.plotly.v1+json": {
       "config": {
        "plotlyServerURL": "https://plot.ly"
       },
       "data": [
        {
         "name": "french_corpus_n_letters",
         "type": "scatter",
         "xaxis": "x",
         "y": [
          441,
          506,
          448,
          1191,
          922,
          573,
          677,
          2257,
          954,
          584,
          1869,
          1751,
          1174,
          2717,
          975,
          745,
          548,
          1099,
          1247,
          644,
          472,
          975,
          1007,
          707,
          47,
          1402,
          1379,
          1925,
          350,
          1048,
          445,
          609,
          1908,
          1365,
          399,
          1166,
          1426,
          407,
          1330,
          2282,
          505,
          464,
          1912,
          1536,
          1089,
          1118,
          401,
          1094,
          461,
          711,
          789,
          1727,
          586,
          721,
          394,
          494,
          823,
          421,
          1040,
          272,
          1508,
          1104,
          541,
          607,
          2228,
          2257,
          1733,
          1764,
          826,
          1418,
          591,
          795,
          1865,
          497,
          920,
          1854,
          627,
          442,
          427,
          1563,
          455,
          2159,
          375,
          1042,
          487,
          879,
          1247,
          369,
          805,
          765,
          886,
          653,
          1017,
          402,
          1303,
          421,
          630,
          766,
          1387,
          1686,
          410,
          683,
          409,
          138,
          1595,
          1173,
          2006,
          527,
          1881,
          898,
          977,
          2003,
          1017,
          578,
          511,
          942,
          797,
          857,
          414,
          1155,
          207,
          972,
          812,
          417,
          1015,
          647,
          3350,
          374,
          1559,
          465,
          797,
          738,
          707,
          288,
          487,
          195,
          692,
          152,
          485,
          830,
          263
         ],
         "yaxis": "y"
        },
        {
         "name": "wolof_corpus_n_letters",
         "type": "scatter",
         "xaxis": "x",
         "y": [
          396,
          570,
          500,
          960,
          794,
          485,
          794,
          1955,
          1135,
          744,
          1319,
          1965,
          1160,
          2002,
          1019,
          864,
          521,
          978,
          1465,
          534,
          362,
          911,
          771,
          342,
          53,
          1385,
          1358,
          1697,
          291,
          1187,
          352,
          389,
          1371,
          1104,
          408,
          1066,
          905,
          353,
          1520,
          1266,
          404,
          459,
          1499,
          1596,
          894,
          823,
          327,
          920,
          407,
          519,
          427,
          1301,
          298,
          615,
          360,
          486,
          735,
          289,
          1001,
          206,
          1281,
          928,
          509,
          330,
          2279,
          1916,
          1673,
          2131,
          969,
          1429,
          485,
          778,
          1686,
          379,
          869,
          1653,
          521,
          437,
          406,
          1646,
          608,
          2170,
          354,
          979,
          500,
          877,
          1373,
          462,
          674,
          808,
          822,
          747,
          906,
          319,
          1436,
          338,
          516,
          640,
          1731,
          1548,
          504,
          726,
          306,
          102,
          957,
          980,
          1515,
          540,
          1797,
          584,
          892,
          2357,
          1118,
          484,
          367,
          958,
          766,
          952,
          333,
          1087,
          129,
          969,
          629,
          334,
          900,
          718,
          2867,
          369,
          1442,
          349,
          566,
          532,
          593,
          410,
          258,
          233,
          808,
          103,
          524,
          906,
          381
         ],
         "yaxis": "y"
        },
        {
         "name": "french_corpus_n_words",
         "type": "scatter",
         "xaxis": "x2",
         "y": [
          80,
          86,
          79,
          212,
          161,
          94,
          118,
          409,
          156,
          100,
          326,
          287,
          198,
          449,
          175,
          127,
          93,
          187,
          213,
          108,
          77,
          173,
          173,
          116,
          8,
          230,
          234,
          312,
          61,
          181,
          73,
          95,
          329,
          234,
          69,
          198,
          233,
          68,
          225,
          376,
          90,
          78,
          330,
          239,
          189,
          187,
          65,
          181,
          79,
          116,
          136,
          308,
          102,
          125,
          75,
          85,
          155,
          72,
          170,
          49,
          264,
          188,
          102,
          111,
          363,
          396,
          293,
          269,
          138,
          241,
          121,
          147,
          326,
          87,
          161,
          307,
          105,
          75,
          79,
          256,
          83,
          371,
          61,
          189,
          77,
          152,
          210,
          60,
          144,
          130,
          151,
          123,
          181,
          69,
          226,
          67,
          113,
          140,
          245,
          281,
          77,
          116,
          77,
          25,
          274,
          200,
          337,
          85,
          310,
          163,
          166,
          345,
          171,
          101,
          95,
          165,
          136,
          144,
          71,
          193,
          30,
          163,
          136,
          67,
          164,
          105,
          512,
          67,
          275,
          84,
          143,
          129,
          126,
          52,
          84,
          36,
          121,
          27,
          76,
          144,
          50
         ],
         "yaxis": "y2"
        },
        {
         "name": "wolof_corpus_n_words",
         "type": "scatter",
         "xaxis": "x2",
         "y": [
          76,
          115,
          108,
          181,
          165,
          89,
          166,
          412,
          229,
          154,
          266,
          395,
          237,
          379,
          204,
          185,
          110,
          196,
          306,
          110,
          76,
          185,
          157,
          74,
          11,
          283,
          279,
          350,
          61,
          235,
          64,
          78,
          286,
          221,
          79,
          222,
          178,
          73,
          312,
          253,
          82,
          85,
          312,
          320,
          173,
          174,
          72,
          182,
          89,
          103,
          87,
          271,
          58,
          123,
          69,
          87,
          149,
          55,
          202,
          43,
          254,
          197,
          108,
          56,
          447,
          372,
          336,
          425,
          195,
          293,
          108,
          148,
          332,
          72,
          175,
          341,
          105,
          90,
          84,
          342,
          122,
          422,
          68,
          200,
          107,
          179,
          270,
          99,
          137,
          154,
          164,
          150,
          178,
          58,
          278,
          70,
          94,
          126,
          334,
          300,
          102,
          149,
          64,
          22,
          191,
          193,
          303,
          115,
          374,
          126,
          186,
          483,
          239,
          89,
          73,
          195,
          158,
          195,
          69,
          223,
          25,
          193,
          124,
          62,
          174,
          141,
          542,
          70,
          295,
          73,
          109,
          109,
          118,
          84,
          55,
          48,
          161,
          23,
          110,
          172,
          82
         ],
         "yaxis": "y2"
        }
       ],
       "layout": {
        "annotations": [
         {
          "font": {
           "size": 16
          },
          "showarrow": false,
          "text": ".*n_letters",
          "x": 0.5,
          "xanchor": "center",
          "xref": "paper",
          "y": 1,
          "yanchor": "bottom",
          "yref": "paper"
         },
         {
          "font": {
           "size": 16
          },
          "showarrow": false,
          "text": ".*n_words",
          "x": 0.5,
          "xanchor": "center",
          "xref": "paper",
          "y": 0.375,
          "yanchor": "bottom",
          "yref": "paper"
         },
         {
          "font": {
           "size": 16
          },
          "showarrow": false,
          "text": "documents",
          "x": 0.5,
          "xanchor": "center",
          "xref": "paper",
          "y": 0,
          "yanchor": "top",
          "yref": "paper",
          "yshift": -30
         },
         {
          "font": {
           "size": 16
          },
          "showarrow": false,
          "text": "Numbers",
          "textangle": -90,
          "x": 0,
          "xanchor": "right",
          "xref": "paper",
          "xshift": -40,
          "y": 0.5,
          "yanchor": "middle",
          "yref": "paper"
         }
        ],
        "template": {
         "data": {
          "bar": [
           {
            "error_x": {
             "color": "#2a3f5f"
            },
            "error_y": {
             "color": "#2a3f5f"
            },
            "marker": {
             "line": {
              "color": "#E5ECF6",
              "width": 0.5
             },
             "pattern": {
              "fillmode": "overlay",
              "size": 10,
              "solidity": 0.2
             }
            },
            "type": "bar"
           }
          ],
          "barpolar": [
           {
            "marker": {
             "line": {
              "color": "#E5ECF6",
              "width": 0.5
             },
             "pattern": {
              "fillmode": "overlay",
              "size": 10,
              "solidity": 0.2
             }
            },
            "type": "barpolar"
           }
          ],
          "carpet": [
           {
            "aaxis": {
             "endlinecolor": "#2a3f5f",
             "gridcolor": "white",
             "linecolor": "white",
             "minorgridcolor": "white",
             "startlinecolor": "#2a3f5f"
            },
            "baxis": {
             "endlinecolor": "#2a3f5f",
             "gridcolor": "white",
             "linecolor": "white",
             "minorgridcolor": "white",
             "startlinecolor": "#2a3f5f"
            },
            "type": "carpet"
           }
          ],
          "choropleth": [
           {
            "colorbar": {
             "outlinewidth": 0,
             "ticks": ""
            },
            "type": "choropleth"
           }
          ],
          "contour": [
           {
            "colorbar": {
             "outlinewidth": 0,
             "ticks": ""
            },
            "colorscale": [
             [
              0,
              "#0d0887"
             ],
             [
              0.1111111111111111,
              "#46039f"
             ],
             [
              0.2222222222222222,
              "#7201a8"
             ],
             [
              0.3333333333333333,
              "#9c179e"
             ],
             [
              0.4444444444444444,
              "#bd3786"
             ],
             [
              0.5555555555555556,
              "#d8576b"
             ],
             [
              0.6666666666666666,
              "#ed7953"
             ],
             [
              0.7777777777777778,
              "#fb9f3a"
             ],
             [
              0.8888888888888888,
              "#fdca26"
             ],
             [
              1,
              "#f0f921"
             ]
            ],
            "type": "contour"
           }
          ],
          "contourcarpet": [
           {
            "colorbar": {
             "outlinewidth": 0,
             "ticks": ""
            },
            "type": "contourcarpet"
           }
          ],
          "heatmap": [
           {
            "colorbar": {
             "outlinewidth": 0,
             "ticks": ""
            },
            "colorscale": [
             [
              0,
              "#0d0887"
             ],
             [
              0.1111111111111111,
              "#46039f"
             ],
             [
              0.2222222222222222,
              "#7201a8"
             ],
             [
              0.3333333333333333,
              "#9c179e"
             ],
             [
              0.4444444444444444,
              "#bd3786"
             ],
             [
              0.5555555555555556,
              "#d8576b"
             ],
             [
              0.6666666666666666,
              "#ed7953"
             ],
             [
              0.7777777777777778,
              "#fb9f3a"
             ],
             [
              0.8888888888888888,
              "#fdca26"
             ],
             [
              1,
              "#f0f921"
             ]
            ],
            "type": "heatmap"
           }
          ],
          "heatmapgl": [
           {
            "colorbar": {
             "outlinewidth": 0,
             "ticks": ""
            },
            "colorscale": [
             [
              0,
              "#0d0887"
             ],
             [
              0.1111111111111111,
              "#46039f"
             ],
             [
              0.2222222222222222,
              "#7201a8"
             ],
             [
              0.3333333333333333,
              "#9c179e"
             ],
             [
              0.4444444444444444,
              "#bd3786"
             ],
             [
              0.5555555555555556,
              "#d8576b"
             ],
             [
              0.6666666666666666,
              "#ed7953"
             ],
             [
              0.7777777777777778,
              "#fb9f3a"
             ],
             [
              0.8888888888888888,
              "#fdca26"
             ],
             [
              1,
              "#f0f921"
             ]
            ],
            "type": "heatmapgl"
           }
          ],
          "histogram": [
           {
            "marker": {
             "pattern": {
              "fillmode": "overlay",
              "size": 10,
              "solidity": 0.2
             }
            },
            "type": "histogram"
           }
          ],
          "histogram2d": [
           {
            "colorbar": {
             "outlinewidth": 0,
             "ticks": ""
            },
            "colorscale": [
             [
              0,
              "#0d0887"
             ],
             [
              0.1111111111111111,
              "#46039f"
             ],
             [
              0.2222222222222222,
              "#7201a8"
             ],
             [
              0.3333333333333333,
              "#9c179e"
             ],
             [
              0.4444444444444444,
              "#bd3786"
             ],
             [
              0.5555555555555556,
              "#d8576b"
             ],
             [
              0.6666666666666666,
              "#ed7953"
             ],
             [
              0.7777777777777778,
              "#fb9f3a"
             ],
             [
              0.8888888888888888,
              "#fdca26"
             ],
             [
              1,
              "#f0f921"
             ]
            ],
            "type": "histogram2d"
           }
          ],
          "histogram2dcontour": [
           {
            "colorbar": {
             "outlinewidth": 0,
             "ticks": ""
            },
            "colorscale": [
             [
              0,
              "#0d0887"
             ],
             [
              0.1111111111111111,
              "#46039f"
             ],
             [
              0.2222222222222222,
              "#7201a8"
             ],
             [
              0.3333333333333333,
              "#9c179e"
             ],
             [
              0.4444444444444444,
              "#bd3786"
             ],
             [
              0.5555555555555556,
              "#d8576b"
             ],
             [
              0.6666666666666666,
              "#ed7953"
             ],
             [
              0.7777777777777778,
              "#fb9f3a"
             ],
             [
              0.8888888888888888,
              "#fdca26"
             ],
             [
              1,
              "#f0f921"
             ]
            ],
            "type": "histogram2dcontour"
           }
          ],
          "mesh3d": [
           {
            "colorbar": {
             "outlinewidth": 0,
             "ticks": ""
            },
            "type": "mesh3d"
           }
          ],
          "parcoords": [
           {
            "line": {
             "colorbar": {
              "outlinewidth": 0,
              "ticks": ""
             }
            },
            "type": "parcoords"
           }
          ],
          "pie": [
           {
            "automargin": true,
            "type": "pie"
           }
          ],
          "scatter": [
           {
            "fillpattern": {
             "fillmode": "overlay",
             "size": 10,
             "solidity": 0.2
            },
            "type": "scatter"
           }
          ],
          "scatter3d": [
           {
            "line": {
             "colorbar": {
              "outlinewidth": 0,
              "ticks": ""
             }
            },
            "marker": {
             "colorbar": {
              "outlinewidth": 0,
              "ticks": ""
             }
            },
            "type": "scatter3d"
           }
          ],
          "scattercarpet": [
           {
            "marker": {
             "colorbar": {
              "outlinewidth": 0,
              "ticks": ""
             }
            },
            "type": "scattercarpet"
           }
          ],
          "scattergeo": [
           {
            "marker": {
             "colorbar": {
              "outlinewidth": 0,
              "ticks": ""
             }
            },
            "type": "scattergeo"
           }
          ],
          "scattergl": [
           {
            "marker": {
             "colorbar": {
              "outlinewidth": 0,
              "ticks": ""
             }
            },
            "type": "scattergl"
           }
          ],
          "scattermapbox": [
           {
            "marker": {
             "colorbar": {
              "outlinewidth": 0,
              "ticks": ""
             }
            },
            "type": "scattermapbox"
           }
          ],
          "scatterpolar": [
           {
            "marker": {
             "colorbar": {
              "outlinewidth": 0,
              "ticks": ""
             }
            },
            "type": "scatterpolar"
           }
          ],
          "scatterpolargl": [
           {
            "marker": {
             "colorbar": {
              "outlinewidth": 0,
              "ticks": ""
             }
            },
            "type": "scatterpolargl"
           }
          ],
          "scatterternary": [
           {
            "marker": {
             "colorbar": {
              "outlinewidth": 0,
              "ticks": ""
             }
            },
            "type": "scatterternary"
           }
          ],
          "surface": [
           {
            "colorbar": {
             "outlinewidth": 0,
             "ticks": ""
            },
            "colorscale": [
             [
              0,
              "#0d0887"
             ],
             [
              0.1111111111111111,
              "#46039f"
             ],
             [
              0.2222222222222222,
              "#7201a8"
             ],
             [
              0.3333333333333333,
              "#9c179e"
             ],
             [
              0.4444444444444444,
              "#bd3786"
             ],
             [
              0.5555555555555556,
              "#d8576b"
             ],
             [
              0.6666666666666666,
              "#ed7953"
             ],
             [
              0.7777777777777778,
              "#fb9f3a"
             ],
             [
              0.8888888888888888,
              "#fdca26"
             ],
             [
              1,
              "#f0f921"
             ]
            ],
            "type": "surface"
           }
          ],
          "table": [
           {
            "cells": {
             "fill": {
              "color": "#EBF0F8"
             },
             "line": {
              "color": "white"
             }
            },
            "header": {
             "fill": {
              "color": "#C8D4E3"
             },
             "line": {
              "color": "white"
             }
            },
            "type": "table"
           }
          ]
         },
         "layout": {
          "annotationdefaults": {
           "arrowcolor": "#2a3f5f",
           "arrowhead": 0,
           "arrowwidth": 1
          },
          "autotypenumbers": "strict",
          "coloraxis": {
           "colorbar": {
            "outlinewidth": 0,
            "ticks": ""
           }
          },
          "colorscale": {
           "diverging": [
            [
             0,
             "#8e0152"
            ],
            [
             0.1,
             "#c51b7d"
            ],
            [
             0.2,
             "#de77ae"
            ],
            [
             0.3,
             "#f1b6da"
            ],
            [
             0.4,
             "#fde0ef"
            ],
            [
             0.5,
             "#f7f7f7"
            ],
            [
             0.6,
             "#e6f5d0"
            ],
            [
             0.7,
             "#b8e186"
            ],
            [
             0.8,
             "#7fbc41"
            ],
            [
             0.9,
             "#4d9221"
            ],
            [
             1,
             "#276419"
            ]
           ],
           "sequential": [
            [
             0,
             "#0d0887"
            ],
            [
             0.1111111111111111,
             "#46039f"
            ],
            [
             0.2222222222222222,
             "#7201a8"
            ],
            [
             0.3333333333333333,
             "#9c179e"
            ],
            [
             0.4444444444444444,
             "#bd3786"
            ],
            [
             0.5555555555555556,
             "#d8576b"
            ],
            [
             0.6666666666666666,
             "#ed7953"
            ],
            [
             0.7777777777777778,
             "#fb9f3a"
            ],
            [
             0.8888888888888888,
             "#fdca26"
            ],
            [
             1,
             "#f0f921"
            ]
           ],
           "sequentialminus": [
            [
             0,
             "#0d0887"
            ],
            [
             0.1111111111111111,
             "#46039f"
            ],
            [
             0.2222222222222222,
             "#7201a8"
            ],
            [
             0.3333333333333333,
             "#9c179e"
            ],
            [
             0.4444444444444444,
             "#bd3786"
            ],
            [
             0.5555555555555556,
             "#d8576b"
            ],
            [
             0.6666666666666666,
             "#ed7953"
            ],
            [
             0.7777777777777778,
             "#fb9f3a"
            ],
            [
             0.8888888888888888,
             "#fdca26"
            ],
            [
             1,
             "#f0f921"
            ]
           ]
          },
          "colorway": [
           "#636efa",
           "#EF553B",
           "#00cc96",
           "#ab63fa",
           "#FFA15A",
           "#19d3f3",
           "#FF6692",
           "#B6E880",
           "#FF97FF",
           "#FECB52"
          ],
          "font": {
           "color": "#2a3f5f"
          },
          "geo": {
           "bgcolor": "white",
           "lakecolor": "white",
           "landcolor": "#E5ECF6",
           "showlakes": true,
           "showland": true,
           "subunitcolor": "white"
          },
          "hoverlabel": {
           "align": "left"
          },
          "hovermode": "closest",
          "mapbox": {
           "style": "light"
          },
          "paper_bgcolor": "white",
          "plot_bgcolor": "#E5ECF6",
          "polar": {
           "angularaxis": {
            "gridcolor": "white",
            "linecolor": "white",
            "ticks": ""
           },
           "bgcolor": "#E5ECF6",
           "radialaxis": {
            "gridcolor": "white",
            "linecolor": "white",
            "ticks": ""
           }
          },
          "scene": {
           "xaxis": {
            "backgroundcolor": "#E5ECF6",
            "gridcolor": "white",
            "gridwidth": 2,
            "linecolor": "white",
            "showbackground": true,
            "ticks": "",
            "zerolinecolor": "white"
           },
           "yaxis": {
            "backgroundcolor": "#E5ECF6",
            "gridcolor": "white",
            "gridwidth": 2,
            "linecolor": "white",
            "showbackground": true,
            "ticks": "",
            "zerolinecolor": "white"
           },
           "zaxis": {
            "backgroundcolor": "#E5ECF6",
            "gridcolor": "white",
            "gridwidth": 2,
            "linecolor": "white",
            "showbackground": true,
            "ticks": "",
            "zerolinecolor": "white"
           }
          },
          "shapedefaults": {
           "line": {
            "color": "#2a3f5f"
           }
          },
          "ternary": {
           "aaxis": {
            "gridcolor": "white",
            "linecolor": "white",
            "ticks": ""
           },
           "baxis": {
            "gridcolor": "white",
            "linecolor": "white",
            "ticks": ""
           },
           "bgcolor": "#E5ECF6",
           "caxis": {
            "gridcolor": "white",
            "linecolor": "white",
            "ticks": ""
           }
          },
          "title": {
           "x": 0.05
          },
          "xaxis": {
           "automargin": true,
           "gridcolor": "white",
           "linecolor": "white",
           "ticks": "",
           "title": {
            "standoff": 15
           },
           "zerolinecolor": "white",
           "zerolinewidth": 2
          },
          "yaxis": {
           "automargin": true,
           "gridcolor": "white",
           "linecolor": "white",
           "ticks": "",
           "title": {
            "standoff": 15
           },
           "zerolinecolor": "white",
           "zerolinewidth": 2
          }
         }
        },
        "xaxis": {
         "anchor": "y",
         "domain": [
          0,
          1
         ]
        },
        "xaxis2": {
         "anchor": "y2",
         "domain": [
          0,
          1
         ]
        },
        "yaxis": {
         "anchor": "x",
         "domain": [
          0.625,
          1
         ]
        },
        "yaxis2": {
         "anchor": "x2",
         "domain": [
          0,
          0.375
         ]
        }
       }
      }
     },
     "metadata": {},
     "output_type": "display_data"
    }
   ],
   "source": [
    "def plot_lengths(data_frame: pd.DataFrame, columns_regex: List = [\".*n_letters\", \".*n_words\"]):\n",
    "    \n",
    "    fig = make_subplots(rows=len(columns_regex), cols=1, subplot_titles=columns_regex, y_title=\"Numbers\", x_title=\"documents\")\n",
    "    \n",
    "    for i, column in enumerate(columns_regex):\n",
    "        \n",
    "        columns = [column_ for column_ in data_frame.columns if re.search(column, column_)]\n",
    "        \n",
    "        for col_ in columns:\n",
    "            \n",
    "            # fig.add_trace(go.Histogram(\n",
    "            #     x = data_frame[col_], name=col_\n",
    "            # ), row=i+1, col=1)\n",
    "            \n",
    "            fig.add_trace(go.Scatter(\n",
    "                y = data_frame[col_], name=col_\n",
    "            ), row=i+1, col=1)\n",
    "    \n",
    "    fig.show()\n",
    "\n",
    "plot_lengths(corpora)    "
   ]
  },
  {
   "attachments": {},
   "cell_type": "markdown",
   "metadata": {},
   "source": [
    "On the top of the figure we consider the distributions of the number of letters: the blue line indicates the distribution traced over the french corpus and the red line that traced over the wolof corpus.\n",
    "\n",
    "On the bottom of the figure we consider the distributions of the number of words: the violet line indicates the distribution traced over the french corpus and the green line that traced over the wolof corpus.\n",
    "\n",
    "We have the same distribution tendency both for the number of letters and for the number of words. Which is what we expected to find."
   ]
  },
  {
   "attachments": {},
   "cell_type": "markdown",
   "metadata": {},
   "source": [
    "### Identify the shortest and the longest paragraphs"
   ]
  },
  {
   "attachments": {},
   "cell_type": "markdown",
   "metadata": {},
   "source": [
    "Identifying the longest and the shortest paragraphs will help us identify paragraphs with abnormal lengths and constitution. Let us display the 5 shortest and longest paragraphs. "
   ]
  },
  {
   "attachments": {},
   "cell_type": "markdown",
   "metadata": {},
   "source": [
    "Let us consider, first, the length to be the number of letters."
   ]
  },
  {
   "cell_type": "code",
   "execution_count": 17,
   "metadata": {},
   "outputs": [],
   "source": [
    "# let us sort the corpora by number of letters \n",
    "sorted_corpora_french1 = corpora.sort_values(by=\"french_corpus_n_letters\")[['french_corpus', 'french_corpus_n_letters']]\n",
    "\n",
    "sorted_corpora_wolof1 = corpora.sort_values(by=\"wolof_corpus_n_letters\")[['wolof_corpus', 'wolof_corpus_n_letters']]\n",
    "\n",
    "# let us recuperate the top 10s\n",
    "top_french_corpora = sorted_corpora_french1.head()\n",
    "\n",
    "top_wolof_corpora = sorted_corpora_wolof1.head()\n",
    "\n",
    "# let us recuperate the bottom 10s\n",
    "bot_french_corpora = sorted_corpora_french1.tail()\n",
    "\n",
    "bot_wolof_corpora = sorted_corpora_wolof1.tail()\n"
   ]
  },
  {
   "attachments": {},
   "cell_type": "markdown",
   "metadata": {},
   "source": [
    "Display the ten first paragraphs.\n"
   ]
  },
  {
   "cell_type": "code",
   "execution_count": 18,
   "metadata": {},
   "outputs": [
    {
     "data": {
      "text/html": [
       "<div>\n",
       "<style scoped>\n",
       "    .dataframe tbody tr th:only-of-type {\n",
       "        vertical-align: middle;\n",
       "    }\n",
       "\n",
       "    .dataframe tbody tr th {\n",
       "        vertical-align: top;\n",
       "    }\n",
       "\n",
       "    .dataframe thead th {\n",
       "        text-align: right;\n",
       "    }\n",
       "</style>\n",
       "<table border=\"1\" class=\"dataframe\">\n",
       "  <thead>\n",
       "    <tr style=\"text-align: right;\">\n",
       "      <th></th>\n",
       "      <th>french_corpus</th>\n",
       "      <th>french_corpus_n_letters</th>\n",
       "    </tr>\n",
       "  </thead>\n",
       "  <tbody>\n",
       "    <tr>\n",
       "      <th>24</th>\n",
       "      <td>Nous savions que c’était la ville des termites.</td>\n",
       "      <td>47</td>\n",
       "    </tr>\n",
       "    <tr>\n",
       "      <th>103</th>\n",
       "      <td>Comment vit-il ces longues années de guerre, s...</td>\n",
       "      <td>138</td>\n",
       "    </tr>\n",
       "    <tr>\n",
       "      <th>137</th>\n",
       "      <td>Si je n’avais pas eu cette connaissance charne...</td>\n",
       "      <td>152</td>\n",
       "    </tr>\n",
       "    <tr>\n",
       "      <th>135</th>\n",
       "      <td>Mais je me souviens de tout ce que j’ai reçu q...</td>\n",
       "      <td>195</td>\n",
       "    </tr>\n",
       "    <tr>\n",
       "      <th>120</th>\n",
       "      <td>Tout cela peut sembler anecdotique. Mais ces m...</td>\n",
       "      <td>207</td>\n",
       "    </tr>\n",
       "  </tbody>\n",
       "</table>\n",
       "</div>"
      ],
      "text/plain": [
       "                                         french_corpus  \\\n",
       "24     Nous savions que c’était la ville des termites.   \n",
       "103  Comment vit-il ces longues années de guerre, s...   \n",
       "137  Si je n’avais pas eu cette connaissance charne...   \n",
       "135  Mais je me souviens de tout ce que j’ai reçu q...   \n",
       "120  Tout cela peut sembler anecdotique. Mais ces m...   \n",
       "\n",
       "     french_corpus_n_letters  \n",
       "24                        47  \n",
       "103                      138  \n",
       "137                      152  \n",
       "135                      195  \n",
       "120                      207  "
      ]
     },
     "execution_count": 18,
     "metadata": {},
     "output_type": "execute_result"
    }
   ],
   "source": [
    "top_french_corpora"
   ]
  },
  {
   "cell_type": "code",
   "execution_count": 19,
   "metadata": {},
   "outputs": [
    {
     "data": {
      "text/html": [
       "<div>\n",
       "<style scoped>\n",
       "    .dataframe tbody tr th:only-of-type {\n",
       "        vertical-align: middle;\n",
       "    }\n",
       "\n",
       "    .dataframe tbody tr th {\n",
       "        vertical-align: top;\n",
       "    }\n",
       "\n",
       "    .dataframe thead th {\n",
       "        text-align: right;\n",
       "    }\n",
       "</style>\n",
       "<table border=\"1\" class=\"dataframe\">\n",
       "  <thead>\n",
       "    <tr style=\"text-align: right;\">\n",
       "      <th></th>\n",
       "      <th>wolof_corpus</th>\n",
       "      <th>wolof_corpus_n_letters</th>\n",
       "    </tr>\n",
       "  </thead>\n",
       "  <tbody>\n",
       "    <tr>\n",
       "      <th>24</th>\n",
       "      <td>Nu daldi xoolante, xam ni yegsi nanu ci dëkku ...</td>\n",
       "      <td>53</td>\n",
       "    </tr>\n",
       "    <tr>\n",
       "      <th>103</th>\n",
       "      <td>Naka la tooge woon moom kott ci kër googu juró...</td>\n",
       "      <td>102</td>\n",
       "    </tr>\n",
       "    <tr>\n",
       "      <th>137</th>\n",
       "      <td>Waaw, su Afrig duggul woon ba ci samay biir ya...</td>\n",
       "      <td>103</td>\n",
       "    </tr>\n",
       "    <tr>\n",
       "      <th>120</th>\n",
       "      <td>Lii lépp, mën naa niiruy waxi kasaw-kasaw. Moo...</td>\n",
       "      <td>129</td>\n",
       "    </tr>\n",
       "    <tr>\n",
       "      <th>59</th>\n",
       "      <td>Li ëpp ci nataal yi Baay jël, dañuy wone xolub...</td>\n",
       "      <td>206</td>\n",
       "    </tr>\n",
       "  </tbody>\n",
       "</table>\n",
       "</div>"
      ],
      "text/plain": [
       "                                          wolof_corpus  wolof_corpus_n_letters\n",
       "24   Nu daldi xoolante, xam ni yegsi nanu ci dëkku ...                      53\n",
       "103  Naka la tooge woon moom kott ci kër googu juró...                     102\n",
       "137  Waaw, su Afrig duggul woon ba ci samay biir ya...                     103\n",
       "120  Lii lépp, mën naa niiruy waxi kasaw-kasaw. Moo...                     129\n",
       "59   Li ëpp ci nataal yi Baay jël, dañuy wone xolub...                     206"
      ]
     },
     "execution_count": 19,
     "metadata": {},
     "output_type": "execute_result"
    }
   ],
   "source": [
    "top_wolof_corpora"
   ]
  },
  {
   "attachments": {},
   "cell_type": "markdown",
   "metadata": {},
   "source": [
    "The shortest paragraph in the french corpus has 47 letters in it and the one in the wolof corpus has 53 letters in it. They contain both of them a normal length. "
   ]
  },
  {
   "attachments": {},
   "cell_type": "markdown",
   "metadata": {},
   "source": [
    "Let us display ten last paragraphs."
   ]
  },
  {
   "cell_type": "code",
   "execution_count": 20,
   "metadata": {},
   "outputs": [
    {
     "data": {
      "text/html": [
       "<div>\n",
       "<style scoped>\n",
       "    .dataframe tbody tr th:only-of-type {\n",
       "        vertical-align: middle;\n",
       "    }\n",
       "\n",
       "    .dataframe tbody tr th {\n",
       "        vertical-align: top;\n",
       "    }\n",
       "\n",
       "    .dataframe thead th {\n",
       "        text-align: right;\n",
       "    }\n",
       "</style>\n",
       "<table border=\"1\" class=\"dataframe\">\n",
       "  <thead>\n",
       "    <tr style=\"text-align: right;\">\n",
       "      <th></th>\n",
       "      <th>french_corpus</th>\n",
       "      <th>french_corpus_n_letters</th>\n",
       "    </tr>\n",
       "  </thead>\n",
       "  <tbody>\n",
       "    <tr>\n",
       "      <th>65</th>\n",
       "      <td>Tout cela, je ne l’ai compris que beaucoup plu...</td>\n",
       "      <td>2257</td>\n",
       "    </tr>\n",
       "    <tr>\n",
       "      <th>7</th>\n",
       "      <td>L’entrée dans Obudu, je m’en souviens bien : l...</td>\n",
       "      <td>2257</td>\n",
       "    </tr>\n",
       "    <tr>\n",
       "      <th>39</th>\n",
       "      <td>Chaque nuit, dans une sorte de revanche du mon...</td>\n",
       "      <td>2282</td>\n",
       "    </tr>\n",
       "    <tr>\n",
       "      <th>13</th>\n",
       "      <td>L’Afrique était puissante. Pour l’enfant que j...</td>\n",
       "      <td>2717</td>\n",
       "    </tr>\n",
       "    <tr>\n",
       "      <th>126</th>\n",
       "      <td>En 1968, tandis que mon père et ma mère regard...</td>\n",
       "      <td>3350</td>\n",
       "    </tr>\n",
       "  </tbody>\n",
       "</table>\n",
       "</div>"
      ],
      "text/plain": [
       "                                         french_corpus  \\\n",
       "65   Tout cela, je ne l’ai compris que beaucoup plu...   \n",
       "7    L’entrée dans Obudu, je m’en souviens bien : l...   \n",
       "39   Chaque nuit, dans une sorte de revanche du mon...   \n",
       "13   L’Afrique était puissante. Pour l’enfant que j...   \n",
       "126  En 1968, tandis que mon père et ma mère regard...   \n",
       "\n",
       "     french_corpus_n_letters  \n",
       "65                      2257  \n",
       "7                       2257  \n",
       "39                      2282  \n",
       "13                      2717  \n",
       "126                     3350  "
      ]
     },
     "execution_count": 20,
     "metadata": {},
     "output_type": "execute_result"
    }
   ],
   "source": [
    "bot_french_corpora"
   ]
  },
  {
   "cell_type": "code",
   "execution_count": 21,
   "metadata": {},
   "outputs": [
    {
     "data": {
      "text/html": [
       "<div>\n",
       "<style scoped>\n",
       "    .dataframe tbody tr th:only-of-type {\n",
       "        vertical-align: middle;\n",
       "    }\n",
       "\n",
       "    .dataframe tbody tr th {\n",
       "        vertical-align: top;\n",
       "    }\n",
       "\n",
       "    .dataframe thead th {\n",
       "        text-align: right;\n",
       "    }\n",
       "</style>\n",
       "<table border=\"1\" class=\"dataframe\">\n",
       "  <thead>\n",
       "    <tr style=\"text-align: right;\">\n",
       "      <th></th>\n",
       "      <th>wolof_corpus</th>\n",
       "      <th>wolof_corpus_n_letters</th>\n",
       "    </tr>\n",
       "  </thead>\n",
       "  <tbody>\n",
       "    <tr>\n",
       "      <th>67</th>\n",
       "      <td>Ku laajoon Baay fan la Afrig tàmbalee ci moom,...</td>\n",
       "      <td>2131</td>\n",
       "    </tr>\n",
       "    <tr>\n",
       "      <th>81</th>\n",
       "      <td>Su weesoo dénd wi làrme réewum Almaañ defar ci...</td>\n",
       "      <td>2170</td>\n",
       "    </tr>\n",
       "    <tr>\n",
       "      <th>64</th>\n",
       "      <td>Xare bi jeex, ñu tekk ci ñaar-fukki at, ma ànd...</td>\n",
       "      <td>2279</td>\n",
       "    </tr>\n",
       "    <tr>\n",
       "      <th>111</th>\n",
       "      <td>Nit ki ma teerusi ci waaxu Poor-Arkuur dafa me...</td>\n",
       "      <td>2357</td>\n",
       "    </tr>\n",
       "    <tr>\n",
       "      <th>126</th>\n",
       "      <td>Atum 1968 agsi, di at mu bariy yëngu-yëngu. Ma...</td>\n",
       "      <td>2867</td>\n",
       "    </tr>\n",
       "  </tbody>\n",
       "</table>\n",
       "</div>"
      ],
      "text/plain": [
       "                                          wolof_corpus  wolof_corpus_n_letters\n",
       "67   Ku laajoon Baay fan la Afrig tàmbalee ci moom,...                    2131\n",
       "81   Su weesoo dénd wi làrme réewum Almaañ defar ci...                    2170\n",
       "64   Xare bi jeex, ñu tekk ci ñaar-fukki at, ma ànd...                    2279\n",
       "111  Nit ki ma teerusi ci waaxu Poor-Arkuur dafa me...                    2357\n",
       "126  Atum 1968 agsi, di at mu bariy yëngu-yëngu. Ma...                    2867"
      ]
     },
     "execution_count": 21,
     "metadata": {},
     "output_type": "execute_result"
    }
   ],
   "source": [
    "bot_wolof_corpora"
   ]
  },
  {
   "attachments": {},
   "cell_type": "markdown",
   "metadata": {},
   "source": [
    "Since the longest paragraphs have not a abnormal number of letters compared with those preceding them we cannot say that they are abnormal. But let's trace the box plot of the length to verify our hypotheses."
   ]
  },
  {
   "cell_type": "code",
   "execution_count": 27,
   "metadata": {},
   "outputs": [
    {
     "data": {
      "application/vnd.plotly.v1+json": {
       "config": {
        "plotlyServerURL": "https://plot.ly"
       },
       "data": [
        {
         "alignmentgroup": "True",
         "hovertemplate": "value=%{x}<br>variable=%{y}<extra></extra>",
         "legendgroup": "",
         "marker": {
          "color": "#636efa"
         },
         "name": "",
         "notched": false,
         "offsetgroup": "",
         "orientation": "h",
         "showlegend": false,
         "type": "box",
         "x": [
          441,
          506,
          448,
          1191,
          922,
          573,
          677,
          2257,
          954,
          584,
          1869,
          1751,
          1174,
          2717,
          975,
          745,
          548,
          1099,
          1247,
          644,
          472,
          975,
          1007,
          707,
          47,
          1402,
          1379,
          1925,
          350,
          1048,
          445,
          609,
          1908,
          1365,
          399,
          1166,
          1426,
          407,
          1330,
          2282,
          505,
          464,
          1912,
          1536,
          1089,
          1118,
          401,
          1094,
          461,
          711,
          789,
          1727,
          586,
          721,
          394,
          494,
          823,
          421,
          1040,
          272,
          1508,
          1104,
          541,
          607,
          2228,
          2257,
          1733,
          1764,
          826,
          1418,
          591,
          795,
          1865,
          497,
          920,
          1854,
          627,
          442,
          427,
          1563,
          455,
          2159,
          375,
          1042,
          487,
          879,
          1247,
          369,
          805,
          765,
          886,
          653,
          1017,
          402,
          1303,
          421,
          630,
          766,
          1387,
          1686,
          410,
          683,
          409,
          138,
          1595,
          1173,
          2006,
          527,
          1881,
          898,
          977,
          2003,
          1017,
          578,
          511,
          942,
          797,
          857,
          414,
          1155,
          207,
          972,
          812,
          417,
          1015,
          647,
          3350,
          374,
          1559,
          465,
          797,
          738,
          707,
          288,
          487,
          195,
          692,
          152,
          485,
          830,
          263,
          396,
          570,
          500,
          960,
          794,
          485,
          794,
          1955,
          1135,
          744,
          1319,
          1965,
          1160,
          2002,
          1019,
          864,
          521,
          978,
          1465,
          534,
          362,
          911,
          771,
          342,
          53,
          1385,
          1358,
          1697,
          291,
          1187,
          352,
          389,
          1371,
          1104,
          408,
          1066,
          905,
          353,
          1520,
          1266,
          404,
          459,
          1499,
          1596,
          894,
          823,
          327,
          920,
          407,
          519,
          427,
          1301,
          298,
          615,
          360,
          486,
          735,
          289,
          1001,
          206,
          1281,
          928,
          509,
          330,
          2279,
          1916,
          1673,
          2131,
          969,
          1429,
          485,
          778,
          1686,
          379,
          869,
          1653,
          521,
          437,
          406,
          1646,
          608,
          2170,
          354,
          979,
          500,
          877,
          1373,
          462,
          674,
          808,
          822,
          747,
          906,
          319,
          1436,
          338,
          516,
          640,
          1731,
          1548,
          504,
          726,
          306,
          102,
          957,
          980,
          1515,
          540,
          1797,
          584,
          892,
          2357,
          1118,
          484,
          367,
          958,
          766,
          952,
          333,
          1087,
          129,
          969,
          629,
          334,
          900,
          718,
          2867,
          369,
          1442,
          349,
          566,
          532,
          593,
          410,
          258,
          233,
          808,
          103,
          524,
          906,
          381
         ],
         "x0": " ",
         "xaxis": "x",
         "y": [
          "french_corpus_n_letters",
          "french_corpus_n_letters",
          "french_corpus_n_letters",
          "french_corpus_n_letters",
          "french_corpus_n_letters",
          "french_corpus_n_letters",
          "french_corpus_n_letters",
          "french_corpus_n_letters",
          "french_corpus_n_letters",
          "french_corpus_n_letters",
          "french_corpus_n_letters",
          "french_corpus_n_letters",
          "french_corpus_n_letters",
          "french_corpus_n_letters",
          "french_corpus_n_letters",
          "french_corpus_n_letters",
          "french_corpus_n_letters",
          "french_corpus_n_letters",
          "french_corpus_n_letters",
          "french_corpus_n_letters",
          "french_corpus_n_letters",
          "french_corpus_n_letters",
          "french_corpus_n_letters",
          "french_corpus_n_letters",
          "french_corpus_n_letters",
          "french_corpus_n_letters",
          "french_corpus_n_letters",
          "french_corpus_n_letters",
          "french_corpus_n_letters",
          "french_corpus_n_letters",
          "french_corpus_n_letters",
          "french_corpus_n_letters",
          "french_corpus_n_letters",
          "french_corpus_n_letters",
          "french_corpus_n_letters",
          "french_corpus_n_letters",
          "french_corpus_n_letters",
          "french_corpus_n_letters",
          "french_corpus_n_letters",
          "french_corpus_n_letters",
          "french_corpus_n_letters",
          "french_corpus_n_letters",
          "french_corpus_n_letters",
          "french_corpus_n_letters",
          "french_corpus_n_letters",
          "french_corpus_n_letters",
          "french_corpus_n_letters",
          "french_corpus_n_letters",
          "french_corpus_n_letters",
          "french_corpus_n_letters",
          "french_corpus_n_letters",
          "french_corpus_n_letters",
          "french_corpus_n_letters",
          "french_corpus_n_letters",
          "french_corpus_n_letters",
          "french_corpus_n_letters",
          "french_corpus_n_letters",
          "french_corpus_n_letters",
          "french_corpus_n_letters",
          "french_corpus_n_letters",
          "french_corpus_n_letters",
          "french_corpus_n_letters",
          "french_corpus_n_letters",
          "french_corpus_n_letters",
          "french_corpus_n_letters",
          "french_corpus_n_letters",
          "french_corpus_n_letters",
          "french_corpus_n_letters",
          "french_corpus_n_letters",
          "french_corpus_n_letters",
          "french_corpus_n_letters",
          "french_corpus_n_letters",
          "french_corpus_n_letters",
          "french_corpus_n_letters",
          "french_corpus_n_letters",
          "french_corpus_n_letters",
          "french_corpus_n_letters",
          "french_corpus_n_letters",
          "french_corpus_n_letters",
          "french_corpus_n_letters",
          "french_corpus_n_letters",
          "french_corpus_n_letters",
          "french_corpus_n_letters",
          "french_corpus_n_letters",
          "french_corpus_n_letters",
          "french_corpus_n_letters",
          "french_corpus_n_letters",
          "french_corpus_n_letters",
          "french_corpus_n_letters",
          "french_corpus_n_letters",
          "french_corpus_n_letters",
          "french_corpus_n_letters",
          "french_corpus_n_letters",
          "french_corpus_n_letters",
          "french_corpus_n_letters",
          "french_corpus_n_letters",
          "french_corpus_n_letters",
          "french_corpus_n_letters",
          "french_corpus_n_letters",
          "french_corpus_n_letters",
          "french_corpus_n_letters",
          "french_corpus_n_letters",
          "french_corpus_n_letters",
          "french_corpus_n_letters",
          "french_corpus_n_letters",
          "french_corpus_n_letters",
          "french_corpus_n_letters",
          "french_corpus_n_letters",
          "french_corpus_n_letters",
          "french_corpus_n_letters",
          "french_corpus_n_letters",
          "french_corpus_n_letters",
          "french_corpus_n_letters",
          "french_corpus_n_letters",
          "french_corpus_n_letters",
          "french_corpus_n_letters",
          "french_corpus_n_letters",
          "french_corpus_n_letters",
          "french_corpus_n_letters",
          "french_corpus_n_letters",
          "french_corpus_n_letters",
          "french_corpus_n_letters",
          "french_corpus_n_letters",
          "french_corpus_n_letters",
          "french_corpus_n_letters",
          "french_corpus_n_letters",
          "french_corpus_n_letters",
          "french_corpus_n_letters",
          "french_corpus_n_letters",
          "french_corpus_n_letters",
          "french_corpus_n_letters",
          "french_corpus_n_letters",
          "french_corpus_n_letters",
          "french_corpus_n_letters",
          "french_corpus_n_letters",
          "french_corpus_n_letters",
          "french_corpus_n_letters",
          "french_corpus_n_letters",
          "french_corpus_n_letters",
          "french_corpus_n_letters",
          "french_corpus_n_letters",
          "wolof_corpus_n_letters",
          "wolof_corpus_n_letters",
          "wolof_corpus_n_letters",
          "wolof_corpus_n_letters",
          "wolof_corpus_n_letters",
          "wolof_corpus_n_letters",
          "wolof_corpus_n_letters",
          "wolof_corpus_n_letters",
          "wolof_corpus_n_letters",
          "wolof_corpus_n_letters",
          "wolof_corpus_n_letters",
          "wolof_corpus_n_letters",
          "wolof_corpus_n_letters",
          "wolof_corpus_n_letters",
          "wolof_corpus_n_letters",
          "wolof_corpus_n_letters",
          "wolof_corpus_n_letters",
          "wolof_corpus_n_letters",
          "wolof_corpus_n_letters",
          "wolof_corpus_n_letters",
          "wolof_corpus_n_letters",
          "wolof_corpus_n_letters",
          "wolof_corpus_n_letters",
          "wolof_corpus_n_letters",
          "wolof_corpus_n_letters",
          "wolof_corpus_n_letters",
          "wolof_corpus_n_letters",
          "wolof_corpus_n_letters",
          "wolof_corpus_n_letters",
          "wolof_corpus_n_letters",
          "wolof_corpus_n_letters",
          "wolof_corpus_n_letters",
          "wolof_corpus_n_letters",
          "wolof_corpus_n_letters",
          "wolof_corpus_n_letters",
          "wolof_corpus_n_letters",
          "wolof_corpus_n_letters",
          "wolof_corpus_n_letters",
          "wolof_corpus_n_letters",
          "wolof_corpus_n_letters",
          "wolof_corpus_n_letters",
          "wolof_corpus_n_letters",
          "wolof_corpus_n_letters",
          "wolof_corpus_n_letters",
          "wolof_corpus_n_letters",
          "wolof_corpus_n_letters",
          "wolof_corpus_n_letters",
          "wolof_corpus_n_letters",
          "wolof_corpus_n_letters",
          "wolof_corpus_n_letters",
          "wolof_corpus_n_letters",
          "wolof_corpus_n_letters",
          "wolof_corpus_n_letters",
          "wolof_corpus_n_letters",
          "wolof_corpus_n_letters",
          "wolof_corpus_n_letters",
          "wolof_corpus_n_letters",
          "wolof_corpus_n_letters",
          "wolof_corpus_n_letters",
          "wolof_corpus_n_letters",
          "wolof_corpus_n_letters",
          "wolof_corpus_n_letters",
          "wolof_corpus_n_letters",
          "wolof_corpus_n_letters",
          "wolof_corpus_n_letters",
          "wolof_corpus_n_letters",
          "wolof_corpus_n_letters",
          "wolof_corpus_n_letters",
          "wolof_corpus_n_letters",
          "wolof_corpus_n_letters",
          "wolof_corpus_n_letters",
          "wolof_corpus_n_letters",
          "wolof_corpus_n_letters",
          "wolof_corpus_n_letters",
          "wolof_corpus_n_letters",
          "wolof_corpus_n_letters",
          "wolof_corpus_n_letters",
          "wolof_corpus_n_letters",
          "wolof_corpus_n_letters",
          "wolof_corpus_n_letters",
          "wolof_corpus_n_letters",
          "wolof_corpus_n_letters",
          "wolof_corpus_n_letters",
          "wolof_corpus_n_letters",
          "wolof_corpus_n_letters",
          "wolof_corpus_n_letters",
          "wolof_corpus_n_letters",
          "wolof_corpus_n_letters",
          "wolof_corpus_n_letters",
          "wolof_corpus_n_letters",
          "wolof_corpus_n_letters",
          "wolof_corpus_n_letters",
          "wolof_corpus_n_letters",
          "wolof_corpus_n_letters",
          "wolof_corpus_n_letters",
          "wolof_corpus_n_letters",
          "wolof_corpus_n_letters",
          "wolof_corpus_n_letters",
          "wolof_corpus_n_letters",
          "wolof_corpus_n_letters",
          "wolof_corpus_n_letters",
          "wolof_corpus_n_letters",
          "wolof_corpus_n_letters",
          "wolof_corpus_n_letters",
          "wolof_corpus_n_letters",
          "wolof_corpus_n_letters",
          "wolof_corpus_n_letters",
          "wolof_corpus_n_letters",
          "wolof_corpus_n_letters",
          "wolof_corpus_n_letters",
          "wolof_corpus_n_letters",
          "wolof_corpus_n_letters",
          "wolof_corpus_n_letters",
          "wolof_corpus_n_letters",
          "wolof_corpus_n_letters",
          "wolof_corpus_n_letters",
          "wolof_corpus_n_letters",
          "wolof_corpus_n_letters",
          "wolof_corpus_n_letters",
          "wolof_corpus_n_letters",
          "wolof_corpus_n_letters",
          "wolof_corpus_n_letters",
          "wolof_corpus_n_letters",
          "wolof_corpus_n_letters",
          "wolof_corpus_n_letters",
          "wolof_corpus_n_letters",
          "wolof_corpus_n_letters",
          "wolof_corpus_n_letters",
          "wolof_corpus_n_letters",
          "wolof_corpus_n_letters",
          "wolof_corpus_n_letters",
          "wolof_corpus_n_letters",
          "wolof_corpus_n_letters",
          "wolof_corpus_n_letters",
          "wolof_corpus_n_letters",
          "wolof_corpus_n_letters",
          "wolof_corpus_n_letters",
          "wolof_corpus_n_letters",
          "wolof_corpus_n_letters",
          "wolof_corpus_n_letters",
          "wolof_corpus_n_letters"
         ],
         "y0": " ",
         "yaxis": "y"
        }
       ],
       "layout": {
        "boxmode": "group",
        "legend": {
         "tracegroupgap": 0
        },
        "margin": {
         "t": 60
        },
        "template": {
         "data": {
          "bar": [
           {
            "error_x": {
             "color": "#2a3f5f"
            },
            "error_y": {
             "color": "#2a3f5f"
            },
            "marker": {
             "line": {
              "color": "#E5ECF6",
              "width": 0.5
             },
             "pattern": {
              "fillmode": "overlay",
              "size": 10,
              "solidity": 0.2
             }
            },
            "type": "bar"
           }
          ],
          "barpolar": [
           {
            "marker": {
             "line": {
              "color": "#E5ECF6",
              "width": 0.5
             },
             "pattern": {
              "fillmode": "overlay",
              "size": 10,
              "solidity": 0.2
             }
            },
            "type": "barpolar"
           }
          ],
          "carpet": [
           {
            "aaxis": {
             "endlinecolor": "#2a3f5f",
             "gridcolor": "white",
             "linecolor": "white",
             "minorgridcolor": "white",
             "startlinecolor": "#2a3f5f"
            },
            "baxis": {
             "endlinecolor": "#2a3f5f",
             "gridcolor": "white",
             "linecolor": "white",
             "minorgridcolor": "white",
             "startlinecolor": "#2a3f5f"
            },
            "type": "carpet"
           }
          ],
          "choropleth": [
           {
            "colorbar": {
             "outlinewidth": 0,
             "ticks": ""
            },
            "type": "choropleth"
           }
          ],
          "contour": [
           {
            "colorbar": {
             "outlinewidth": 0,
             "ticks": ""
            },
            "colorscale": [
             [
              0,
              "#0d0887"
             ],
             [
              0.1111111111111111,
              "#46039f"
             ],
             [
              0.2222222222222222,
              "#7201a8"
             ],
             [
              0.3333333333333333,
              "#9c179e"
             ],
             [
              0.4444444444444444,
              "#bd3786"
             ],
             [
              0.5555555555555556,
              "#d8576b"
             ],
             [
              0.6666666666666666,
              "#ed7953"
             ],
             [
              0.7777777777777778,
              "#fb9f3a"
             ],
             [
              0.8888888888888888,
              "#fdca26"
             ],
             [
              1,
              "#f0f921"
             ]
            ],
            "type": "contour"
           }
          ],
          "contourcarpet": [
           {
            "colorbar": {
             "outlinewidth": 0,
             "ticks": ""
            },
            "type": "contourcarpet"
           }
          ],
          "heatmap": [
           {
            "colorbar": {
             "outlinewidth": 0,
             "ticks": ""
            },
            "colorscale": [
             [
              0,
              "#0d0887"
             ],
             [
              0.1111111111111111,
              "#46039f"
             ],
             [
              0.2222222222222222,
              "#7201a8"
             ],
             [
              0.3333333333333333,
              "#9c179e"
             ],
             [
              0.4444444444444444,
              "#bd3786"
             ],
             [
              0.5555555555555556,
              "#d8576b"
             ],
             [
              0.6666666666666666,
              "#ed7953"
             ],
             [
              0.7777777777777778,
              "#fb9f3a"
             ],
             [
              0.8888888888888888,
              "#fdca26"
             ],
             [
              1,
              "#f0f921"
             ]
            ],
            "type": "heatmap"
           }
          ],
          "heatmapgl": [
           {
            "colorbar": {
             "outlinewidth": 0,
             "ticks": ""
            },
            "colorscale": [
             [
              0,
              "#0d0887"
             ],
             [
              0.1111111111111111,
              "#46039f"
             ],
             [
              0.2222222222222222,
              "#7201a8"
             ],
             [
              0.3333333333333333,
              "#9c179e"
             ],
             [
              0.4444444444444444,
              "#bd3786"
             ],
             [
              0.5555555555555556,
              "#d8576b"
             ],
             [
              0.6666666666666666,
              "#ed7953"
             ],
             [
              0.7777777777777778,
              "#fb9f3a"
             ],
             [
              0.8888888888888888,
              "#fdca26"
             ],
             [
              1,
              "#f0f921"
             ]
            ],
            "type": "heatmapgl"
           }
          ],
          "histogram": [
           {
            "marker": {
             "pattern": {
              "fillmode": "overlay",
              "size": 10,
              "solidity": 0.2
             }
            },
            "type": "histogram"
           }
          ],
          "histogram2d": [
           {
            "colorbar": {
             "outlinewidth": 0,
             "ticks": ""
            },
            "colorscale": [
             [
              0,
              "#0d0887"
             ],
             [
              0.1111111111111111,
              "#46039f"
             ],
             [
              0.2222222222222222,
              "#7201a8"
             ],
             [
              0.3333333333333333,
              "#9c179e"
             ],
             [
              0.4444444444444444,
              "#bd3786"
             ],
             [
              0.5555555555555556,
              "#d8576b"
             ],
             [
              0.6666666666666666,
              "#ed7953"
             ],
             [
              0.7777777777777778,
              "#fb9f3a"
             ],
             [
              0.8888888888888888,
              "#fdca26"
             ],
             [
              1,
              "#f0f921"
             ]
            ],
            "type": "histogram2d"
           }
          ],
          "histogram2dcontour": [
           {
            "colorbar": {
             "outlinewidth": 0,
             "ticks": ""
            },
            "colorscale": [
             [
              0,
              "#0d0887"
             ],
             [
              0.1111111111111111,
              "#46039f"
             ],
             [
              0.2222222222222222,
              "#7201a8"
             ],
             [
              0.3333333333333333,
              "#9c179e"
             ],
             [
              0.4444444444444444,
              "#bd3786"
             ],
             [
              0.5555555555555556,
              "#d8576b"
             ],
             [
              0.6666666666666666,
              "#ed7953"
             ],
             [
              0.7777777777777778,
              "#fb9f3a"
             ],
             [
              0.8888888888888888,
              "#fdca26"
             ],
             [
              1,
              "#f0f921"
             ]
            ],
            "type": "histogram2dcontour"
           }
          ],
          "mesh3d": [
           {
            "colorbar": {
             "outlinewidth": 0,
             "ticks": ""
            },
            "type": "mesh3d"
           }
          ],
          "parcoords": [
           {
            "line": {
             "colorbar": {
              "outlinewidth": 0,
              "ticks": ""
             }
            },
            "type": "parcoords"
           }
          ],
          "pie": [
           {
            "automargin": true,
            "type": "pie"
           }
          ],
          "scatter": [
           {
            "fillpattern": {
             "fillmode": "overlay",
             "size": 10,
             "solidity": 0.2
            },
            "type": "scatter"
           }
          ],
          "scatter3d": [
           {
            "line": {
             "colorbar": {
              "outlinewidth": 0,
              "ticks": ""
             }
            },
            "marker": {
             "colorbar": {
              "outlinewidth": 0,
              "ticks": ""
             }
            },
            "type": "scatter3d"
           }
          ],
          "scattercarpet": [
           {
            "marker": {
             "colorbar": {
              "outlinewidth": 0,
              "ticks": ""
             }
            },
            "type": "scattercarpet"
           }
          ],
          "scattergeo": [
           {
            "marker": {
             "colorbar": {
              "outlinewidth": 0,
              "ticks": ""
             }
            },
            "type": "scattergeo"
           }
          ],
          "scattergl": [
           {
            "marker": {
             "colorbar": {
              "outlinewidth": 0,
              "ticks": ""
             }
            },
            "type": "scattergl"
           }
          ],
          "scattermapbox": [
           {
            "marker": {
             "colorbar": {
              "outlinewidth": 0,
              "ticks": ""
             }
            },
            "type": "scattermapbox"
           }
          ],
          "scatterpolar": [
           {
            "marker": {
             "colorbar": {
              "outlinewidth": 0,
              "ticks": ""
             }
            },
            "type": "scatterpolar"
           }
          ],
          "scatterpolargl": [
           {
            "marker": {
             "colorbar": {
              "outlinewidth": 0,
              "ticks": ""
             }
            },
            "type": "scatterpolargl"
           }
          ],
          "scatterternary": [
           {
            "marker": {
             "colorbar": {
              "outlinewidth": 0,
              "ticks": ""
             }
            },
            "type": "scatterternary"
           }
          ],
          "surface": [
           {
            "colorbar": {
             "outlinewidth": 0,
             "ticks": ""
            },
            "colorscale": [
             [
              0,
              "#0d0887"
             ],
             [
              0.1111111111111111,
              "#46039f"
             ],
             [
              0.2222222222222222,
              "#7201a8"
             ],
             [
              0.3333333333333333,
              "#9c179e"
             ],
             [
              0.4444444444444444,
              "#bd3786"
             ],
             [
              0.5555555555555556,
              "#d8576b"
             ],
             [
              0.6666666666666666,
              "#ed7953"
             ],
             [
              0.7777777777777778,
              "#fb9f3a"
             ],
             [
              0.8888888888888888,
              "#fdca26"
             ],
             [
              1,
              "#f0f921"
             ]
            ],
            "type": "surface"
           }
          ],
          "table": [
           {
            "cells": {
             "fill": {
              "color": "#EBF0F8"
             },
             "line": {
              "color": "white"
             }
            },
            "header": {
             "fill": {
              "color": "#C8D4E3"
             },
             "line": {
              "color": "white"
             }
            },
            "type": "table"
           }
          ]
         },
         "layout": {
          "annotationdefaults": {
           "arrowcolor": "#2a3f5f",
           "arrowhead": 0,
           "arrowwidth": 1
          },
          "autotypenumbers": "strict",
          "coloraxis": {
           "colorbar": {
            "outlinewidth": 0,
            "ticks": ""
           }
          },
          "colorscale": {
           "diverging": [
            [
             0,
             "#8e0152"
            ],
            [
             0.1,
             "#c51b7d"
            ],
            [
             0.2,
             "#de77ae"
            ],
            [
             0.3,
             "#f1b6da"
            ],
            [
             0.4,
             "#fde0ef"
            ],
            [
             0.5,
             "#f7f7f7"
            ],
            [
             0.6,
             "#e6f5d0"
            ],
            [
             0.7,
             "#b8e186"
            ],
            [
             0.8,
             "#7fbc41"
            ],
            [
             0.9,
             "#4d9221"
            ],
            [
             1,
             "#276419"
            ]
           ],
           "sequential": [
            [
             0,
             "#0d0887"
            ],
            [
             0.1111111111111111,
             "#46039f"
            ],
            [
             0.2222222222222222,
             "#7201a8"
            ],
            [
             0.3333333333333333,
             "#9c179e"
            ],
            [
             0.4444444444444444,
             "#bd3786"
            ],
            [
             0.5555555555555556,
             "#d8576b"
            ],
            [
             0.6666666666666666,
             "#ed7953"
            ],
            [
             0.7777777777777778,
             "#fb9f3a"
            ],
            [
             0.8888888888888888,
             "#fdca26"
            ],
            [
             1,
             "#f0f921"
            ]
           ],
           "sequentialminus": [
            [
             0,
             "#0d0887"
            ],
            [
             0.1111111111111111,
             "#46039f"
            ],
            [
             0.2222222222222222,
             "#7201a8"
            ],
            [
             0.3333333333333333,
             "#9c179e"
            ],
            [
             0.4444444444444444,
             "#bd3786"
            ],
            [
             0.5555555555555556,
             "#d8576b"
            ],
            [
             0.6666666666666666,
             "#ed7953"
            ],
            [
             0.7777777777777778,
             "#fb9f3a"
            ],
            [
             0.8888888888888888,
             "#fdca26"
            ],
            [
             1,
             "#f0f921"
            ]
           ]
          },
          "colorway": [
           "#636efa",
           "#EF553B",
           "#00cc96",
           "#ab63fa",
           "#FFA15A",
           "#19d3f3",
           "#FF6692",
           "#B6E880",
           "#FF97FF",
           "#FECB52"
          ],
          "font": {
           "color": "#2a3f5f"
          },
          "geo": {
           "bgcolor": "white",
           "lakecolor": "white",
           "landcolor": "#E5ECF6",
           "showlakes": true,
           "showland": true,
           "subunitcolor": "white"
          },
          "hoverlabel": {
           "align": "left"
          },
          "hovermode": "closest",
          "mapbox": {
           "style": "light"
          },
          "paper_bgcolor": "white",
          "plot_bgcolor": "#E5ECF6",
          "polar": {
           "angularaxis": {
            "gridcolor": "white",
            "linecolor": "white",
            "ticks": ""
           },
           "bgcolor": "#E5ECF6",
           "radialaxis": {
            "gridcolor": "white",
            "linecolor": "white",
            "ticks": ""
           }
          },
          "scene": {
           "xaxis": {
            "backgroundcolor": "#E5ECF6",
            "gridcolor": "white",
            "gridwidth": 2,
            "linecolor": "white",
            "showbackground": true,
            "ticks": "",
            "zerolinecolor": "white"
           },
           "yaxis": {
            "backgroundcolor": "#E5ECF6",
            "gridcolor": "white",
            "gridwidth": 2,
            "linecolor": "white",
            "showbackground": true,
            "ticks": "",
            "zerolinecolor": "white"
           },
           "zaxis": {
            "backgroundcolor": "#E5ECF6",
            "gridcolor": "white",
            "gridwidth": 2,
            "linecolor": "white",
            "showbackground": true,
            "ticks": "",
            "zerolinecolor": "white"
           }
          },
          "shapedefaults": {
           "line": {
            "color": "#2a3f5f"
           }
          },
          "ternary": {
           "aaxis": {
            "gridcolor": "white",
            "linecolor": "white",
            "ticks": ""
           },
           "baxis": {
            "gridcolor": "white",
            "linecolor": "white",
            "ticks": ""
           },
           "bgcolor": "#E5ECF6",
           "caxis": {
            "gridcolor": "white",
            "linecolor": "white",
            "ticks": ""
           }
          },
          "title": {
           "x": 0.05
          },
          "xaxis": {
           "automargin": true,
           "gridcolor": "white",
           "linecolor": "white",
           "ticks": "",
           "title": {
            "standoff": 15
           },
           "zerolinecolor": "white",
           "zerolinewidth": 2
          },
          "yaxis": {
           "automargin": true,
           "gridcolor": "white",
           "linecolor": "white",
           "ticks": "",
           "title": {
            "standoff": 15
           },
           "zerolinecolor": "white",
           "zerolinewidth": 2
          }
         }
        },
        "xaxis": {
         "anchor": "y",
         "domain": [
          0,
          1
         ],
         "title": {
          "text": "value"
         }
        },
        "yaxis": {
         "anchor": "x",
         "domain": [
          0,
          1
         ],
         "title": {
          "text": "variable"
         }
        }
       }
      }
     },
     "metadata": {},
     "output_type": "display_data"
    }
   ],
   "source": [
    "px.box(data_frame=corpora, x = [\"french_corpus_n_letters\", \"wolof_corpus_n_letters\"])"
   ]
  },
  {
   "attachments": {},
   "cell_type": "markdown",
   "metadata": {},
   "source": [
    "For the `wolof_corpus_n_letters` we identify a upper fence of **2170** letters and 3 paragraphs are then considered to be abnormals. For the `french_corpus_n_letters` we identify a upper fence of **2282** letters and 2 paragraphs are considered to be abnormals. Let us recuperated those documents."
   ]
  },
  {
   "cell_type": "code",
   "execution_count": 34,
   "metadata": {},
   "outputs": [
    {
     "data": {
      "text/plain": [
       "(['L’Afrique était puissante. Pour l’enfant que j’étais, la violence était générale, indiscutable. Elle donnait de l’enthousiasme. Il est difficile d’en parler aujourd’hui, après tant de catastrophes et d’abandon. Peu d’Européens ont connu ce sentiment. Le travail que faisait mon père au Cameroun d’abord, puis au Nigeria, créait une situation exceptionnelle. La plupart des Anglais en poste dans la colonie exerçaient des fonctions administratives. Ils étaient militaires, juges, district officers (ces D.O. dont les initiales, prononcées à l’anglaise, Di-O, m’avaient fait penser à un nom religieux, comme une variation sur le « Deo gratias » de la messe que ma mère célébrait sous la varangue chaque dimanche matin). Mon père était l’unique médecin dans un rayon de soixante kilomètres. Mais cette dimension que je donne n’a aucun sens : la première ville administrative était Abakaliki, à quatre heures de route, et pour y arriver il fallait traverser la rivière Aiya en bac, puis une épaisse forêt. L’autre résidence d’un D.O. était à la frontière du Cameroun français, à Obudu, au pied des collines où habitaient encore les gorilles. À Ogoja, mon père était responsable du dispensaire (un ancien hôpital religieux délaissé par les sœurs), et le seul médecin au nord de la province de Cross River. Là, il faisait tout, comme il l’a dit plus tard, de l’accouchement à l’autopsie. Nous étions, mon frère et moi, les seuls enfants blancs de toute cette région. Nous n’avons rien connu de ce qui a pu fabriquer l’identité un peu caricaturale des enfants élevés aux «colonies ». Si je lis les romans «coloniaux» écrits par les Anglais de cette époque, ou de celle qui a précédé notre arrivée au Nigeria – Joyce Cary, par exemple, l’auteur de Missié Johnson –, je ne reconnais rien. Si je lis William Boyd, qui a passé lui aussi une partie de son enfance dans l’Ouest africain britannique, je ne reconnais rien non plus : son père était D.O. (à Accra au Ghana, me semble-t-il). Je ne sais rien de ce qu’il décrit, cette lourdeur coloniale, les ridicules de la société blanche en exil sur la côte, toutes les mesquineries auxquelles les enfants sont particulièrement attentifs, le dédain pour les indigènes, dont ils ne connaissent que la fraction des domestiques qui doivent s’incliner devant les caprices des enfants de leurs maîtres, et surtout cette sorte de coterie dans laquelle les enfants de même sang sont à la fois réunis et divisés, où ils perçoivent un reflet ironique de leurs défauts et de leurs mascarades, et qui forme en quelque sorte l’école de la conscience raciale qui supplée pour eux à l’apprentissage de la conscience humaine – je puis dire que, Dieu merci, tout cela m’a été complètement étranger.',\n",
       "  'En 1968, tandis que mon père et ma mère regardent monter sous leurs fenêtres, à Nice, les montagnes d’ordures laissées par la grève générale, et tandis qu’à Mexico j’entends le vrombissement des hélicos de l’armée qui emportent les corps des étudiants tués à Tlatelolco, le Nigeria entre dans la phase terminale d’un massacre terrible, l’un des grands génocides du siècle, connu sous le nom de guerre du Biafra. Pour la mainmise sur les puits de pétrole à l’embouchure de la rivière Calabar, Ibos et Yoroubas s’exterminent, sous le regard indifférent du monde occidental. Pis encore, les grandes compagnies pétrolières, principalement l’anglo-hollandaise Shell-British Petroleum, sont partie prenante dans cette guerre, agissent sur leurs gouvernements pour que soient sécurisés les puits et les pipe-lines. Les États qu’elles représentent s’affrontent par procuration, la France du côté des insurgés biafrais, l’Union soviétique, l’Angleterre et les États-Unis du côté du gouvernement fédéral majoritairement yorouba. La guerre civile devient une affaire mondiale, une guerre entre civilisations. L’on parle de chrétiens contre musulmans, ou de nationalistes contre capitalistes. Les pays développés retrouvent un débouché inattendu pour leurs produits finis : ils vendent dans les deux camps armes légères et lourdes, mines antipersonnel, chars d’assaut, avions, et même des mercenaires allemands, français, tchadiens, qui composent la 4e brigade biafraise au service des rebelles d’Ojukwu. Mais à la fin de l’été 1968, encerclée, décimée par les troupes fédérales sous le commandement du général Benjamin Adekunle, surnommé pour sa cruauté le « Scorpion noir », l’armée biafraise capitule. Seule résiste encore une poignée de combattants dont la plupart sont des enfants, qui brandissent des machettes et des bâtons sculptés en forme de fusils contre les Mig et les bombardiers soviétiques. À la chute d’Aba (non loin de l’ancien sanctuaire des guerriers magiciens d’Aro Chuku), le Biafra entre dans une longue agonie. Avec la complicité de l’Angleterre et des États-Unis, le général Adekunle verrouille le blocus sur le territoire biafrais, empêchant tout secours et tout approvisionnement. Devant l’avancée de l’armée fédérale, en proie à une folie vengeresse, la population civile fuit vers ce qui reste du territoire biafrais, envahit les savanes et la forêt, tente de survivre sur les réserves. Hommes, femmes, enfants sont pris dans un piège mortel. À partir de septembre, il n’y a plus d’opérations militaires, mais des millions de gens coupés du reste du monde, sans vivres, sans médicaments. Quand les organisations internationales peuvent enfin pénétrer dans la zone insurgée, elles découvrent l’étendue de l’horreur. Le long des routes, au bord des rivières, à l’entrée des villages, des centaines de milliers d’enfants sont en train de mourir de faim et de déshydratation. C’est un cimetière vaste comme un pays. Partout, dans les plaines d’herbes semblables à celle où j’allais autrefois faire la guerre aux termites, des enfants sans parents errent sans but, leurs corps transformés en squelettes. Longtemps après je suis hanté par le poème de Chinua Achebe, Noël au Biafra, qui commence par ces mots : Non, aucune Vierge à l’Enfant ne pourra égaler Le tableau de la tendresse d’une mère Envers ce fils qu’elle devra bientôt oublier.'],\n",
       " ['Xare bi jeex, ñu tekk ci ñaar-fukki at, ma ànd ak sama yaay ak sama mag ju góor, nun ñett ñépp nu jaar fa mu jaaroon, dem fekki ko Afrig. Waaye mbir yi xawoon nañoo woroo : bi muy def tukki boobu, mu ngi tollu ci fanweeri at ak ňaar, di góor gu dëgër, làmboo ňaari ati paj ca réewu Enjeŋ ya, miin fa feebar ak dee ak ňàkkum kaaraange. Magam ji tuddoon Ësen, te jiitu woon ko ci liggéeyu fajkat ca Afrig, noon na ko : « Jàppal rekk ne Afrig neexalul kenn, dara yombu fa. » Xamaloon na ko it ne, doonte sax Àngale yaa ngi def seen kemtalaayu kàttan ngir jàmm ne ñoyy Niseryaa, li am ba am moo di ne diiwaan ba mu jëm a mel noonu : dañoo tàmm a xare ci seen biir, ndóol sonal leen ñu war a jàmmarlook moom, di xareek tamit ak i doomi-jàngoro yu dul jeex ak laagob-xel bi tudd ger. Ësen noon ko it ca Kalabaar, ci Kamerun, ay noonam duñ dooni Soko Uru ak i xërëmam mbaa soldaari Pël yeek seeni fetal yu gudd. Déedéet. Doomu jàngoroy tombu-xosi, tuddéeful, xarňeňň, njàmbal ak biiru-taňň ñooy dooniy noonam. Gànnaay ga mu war a xeexeek ñoom nag, xaw a mel ni lu ñàkk solo : paakab awsa, siso ak mbuusu fajkat. Ak lanati ? Jumtukaay yiy bënn ak jumtukaay biy natt yëngatu-deret, ay mbaggi fas ak yeneen ak yeneen, ba ci pikiiru armiňoŋ yi mu ma daan ñakke. Booba, kenn xamagul na ka lañuy reyee doomi-jàngoro mbaa tee yaram xasan. Garab yu néew lañuy yóbbale, diy puudar ak i toccami yuy nirook saafaray jibar yi. Ñakk yiy aar askan wépp ci jàngoro yiy wàlle, néew naňu lool ñoom itam. Toolu-xare bee ka yaatu, tey ! Coonoy dexi Guwiyaan ya duñu tus, doxantu bu gàtt lañu su leen méngaleek li muy waaj a daji Afrig sowu-jant. Afrig, dafa fa dem ba jeex. Toog na fa ñaar-fukki at ak ñaar, lépp mu xame ko fa. Fa la jëkkee xam lu mbégte tekki, fa la jëkkee gis dex yu mag a mag ya, muy Niseer di Bénuwe. Tangori Kamerun yi tamit, jamono jooju la leen njëkk a teg bët. Te loolu lépp am lu ko ëpp solo, te muy lépp li ñu ànd dund, mook soxnaan. Mu di ko won saa su ne mbëggeel gu mat sëkk, ñu war seen fas, di wër dëkk-dëkkaan yi, lu leen neex def. Li ci tegu, di àddina su xar ñaar, ndax xare bu mettee-metti. Jur wéetaay ak tiis ak tiitaange, ñuy wéy di ko gunge ba mu màggat, mënalatul boppam dara, naan léeg-léeg ci xelam waay-waay mbir mi, maanaam jaar-jaaram, mënoon naa deme neneen.',\n",
       "  'Nit ki ma teerusi ci waaxu Poor-Arkuur dafa mel ni ku bokkul ak ñoom xeet walla sax ku fëlle beneen dunyaa. Tubay ji mu sol, yaatu te gàtt, kenn xamul lu muy nirool ; simis bi dafa weex, dàlli deram yu ňuul yaa ngi pënde ba nga ni lii lu mu doon. Ma seetlu ni kanam gi ñànge ak ni mu noppee. Buy làkk faraňse, nga xam ni doomu Móris la ndax li muy mel ni kuy woyantu. Soppoon na tamit pijin, làkk wu kéemaane woowu baat yi daan riir ci samay noppi gone niy jóolóoli yu ndaw. Xamul woon waxtaan ba déggoo ciy kàddu. Déedéet. Moom kay, màtt ba mu dagg rekk te, nag, bëgg ku mu yilif, fu mu joxoñ baaraam nga war faa jaar mbaa mu defante kook yow ba mu saf sàpp. Moonte, laabir ak tabe rekk lay won nit ñu ñuul ñi koy jàppale ci liggéeyu dispañseer bi walla ay surgaam. Ci sama gis-gisu gone, ngóor su bari ay benkeñenke la woon. Lu ma doon gën a jéem a nànd ay mbiram, daan gën a réer. Ak moom, xale buy lekk du wax feek mag santu ko ko, warul a daw, warul a fo mbaa biddanti. Lekk sax daa amoon i waxtoom te ku mu bett ngay macc tàngal, tàkk nga. Jeexul, de. Teg loxo ci taabal ji booy lekk itam, da ko doon tere, te palaat bi, soo ko ñéddulee ba mu set wecc du baax ci yow ; sàqami sax dafa amoon noo koy defe : waroo ŋaaŋ ba li ci sa gémmiñ feeñ… Su fekkoon ni set ba mu ëpp feebar la, ma ni feebar booboo ko daloon. Yóbbe woon na koy feem yu doy waar, niki dëkkee raxas i loxoom ak alkol, léeg-léeg sax mu xosi ci almet, taal. Fu mu tooluy saytu këriň giy segg ndox mi ; maa ngi fàttaliku yit ne àttaaya doŋŋ la daan naan, walla sax ndox mu tàng kese – li Sinuwaa yiy woowe àttaaya ju weex. Baay moo daan defar ay sondeelam ak kombook i buum ; tabanaane la daan segg, raxasal boppam ndab yi ndax kenn doyu ko ci woon. Su dul woon rajoom bi mu daan déglu saa su ne, ma ni yoonam ci ni àddina siy doxe. Di jàng i téere ak i yéenekaay fekku ko ci woon. Benn téere bu ndaw te ñuul, daal, la mas a ubbi, muy bi tudd ci kàllaama nasaraan l’Imitation de Jésus-Christ, tey soññ doom-aadama ci toppandoo Yéesu. Bi ma ci mujjee daj yàggul dara wànte keroog sama yaram daw na. Téere boobu bokkoon na, xam naa, ci yi leen làrme bi daan jox. Looluy delloo xel yépp ay ati-at ci ginnaaw, jamono ja Pensées, téereb boroom xam-xam bu ñuy wax Màrk Órel daan gunge soldaar yi ci toolu-xare, am yu mu leen fay déey. Muy nag, lu ma foog doŋŋ, ndax Baay masunoo wax lu ci jëm.',\n",
       "  'Atum 1968 agsi, di at mu bariy yëngu-yëngu. Ma nekk Meksikoo, làrmeb nguur gi rey fay ndongoy daara ca Talatelókoo, ay fafal-naaw yu ndaw di for néewu gone yiy yóbbu ; ca Niis, liggéeykat yi bank seen loxo, samay ñaari way-jur sëppu seen palanteer di gis ni mbalit mi juugee ci mbedd mi ; fekk na Niseryaa, xareb Biyaafaraa baa ngay waaj a jeex ; mu doon faagaagal bi gënoon a ñaaw ci xarnu bi. Nattu doomi Biyaafaraa moo doon petorool ba ni fa woon gàññ ci bëlub Kalabaar. Ibo yeek Yoruba yiy reyante, réewi Tugal yiy seetaan, naan tey mu neex. Jaaykatu petorool yu mag yi ñoom, rawati-na « Shell-British Petroleum », maanduwuñu dara ci mbir mi ; ñuy soňň seeni gornmaa ngir ňu aar teeni petorool ya ca Niseryaa. Ku nekk, nag, am foo far, Frãs di jàppale way-fippuy Biyaafaraa yi ; Riis yi, Àngalteer ak Amerig ànd ak gornmaa bu Legoos. Yëf yi dem ba ëpp loxo, xeexu Ibo yeek Yorubaa yi daldi soppiku xare diggante kerceen ak jullit, ñii di tuumaal ñee, naan dañoo taxaw ci tànku pasar-pasaree alalu réew mi, séddoo kook ay doxandéem. Réewi tubaab yi am doole yi ni màrse neex na : ñu ngi jaay Ibo yeek Yorubaa yi ay gànnaay – moo xam ay roppëlaan la, mbaa ay ndell mbaa leneen. Ñu ni déet ay way-xare-lekk jóge Almaañ, Frãs ak réewum Càdd di sotle Ósukwu miy jiite fippu yi. Waaye bi nawetu 1968 di agsi la leen làrmeb Niseryaa wër-ndombo, daan leen. Seneraal Beŋsameŋ Adekunle, nga xam ni dafa soxoroon ba ñu koy woowe « Jiit ju Ñuul ji » ni moom it tey mu neex. Amoon na, gaa, ay fippu yu ni woon ñoo lànk, duñu wéer seeni gànnaay, wànte ñu néew lañ woon. Mën nañ sax i dañ doon guddal jéll doŋŋ ndax ba roppëlaani Riis yay yuriy bomb ci seen kow, deseetuñu woon lu dul i fetal yu tiitalul sax ragal. Àbbaa daanu. Àbbaa, sorewul xàmbi Aro Suku ya. Biyaafaraa tàmbalee sukkuraat, sukkuraat ju metti te yàgg. Àngalteer ak Amerig di làquy jàppale Adekunle, mu kepp fippu yi, kenn mënuta leen a wallu. Làrme bu Legoos ni nag caaxaan faaxe, fàww mu fey Biyaafaraa boram. Daw wuti foo làqoo fa sësoon. Mag, ndaw, góor ak jigéen jàq, song àll bi te daanaka deseetuñu dund. Weeru sàttumbar agsi, xare bi ci boppam dakk. Wànte ay junniy-junniy doom-aadama nga tëju Biyaafaraa di deek xiif ak mar, faju të leen. Mbootaayi xeet yi fexe ba fekk leen fa, door a teg bët ciy ňaawtéef yu kéemaane ya fa Adekunle defoon. Fu waay geestu, say bët daj téeméeri junniy gone yu wow koŋŋ, niróotuñu sax nit. Mu mel ni ñu ngi dox ci biiriy armeel. Armeel yu yaatu ni réewum lëmm. Joor ja ma daan rëbbiy max, ay gone yu xamatul seeni way-jur a fay wëndéelu. Fan lañu jëm, noonu ? Dara lañ ci xamul. Ay yaxi neen a leen dese. Ñu teg ciy at, ab taalifu Sinuwaa Aseebe di tëgg tama ci sama biir kaaŋ. Taalif baa ngi tudd : Nowel ca Biyaafaraa, mu koy ubbee nii : Dëgg la Nataal bi Ndeyu Yéesu boq doom ji Daw na yaram Wànte dara mënuta dab Cofeel ak tiisu ndey ju tiim doomam Muy sukkuraat.'])"
      ]
     },
     "execution_count": 34,
     "metadata": {},
     "output_type": "execute_result"
    }
   ],
   "source": [
    "french_abnormal_n_letters = corpora[corpora[\"french_corpus_n_letters\"] > 2282][\"french_corpus\"]\n",
    "wolof_abnormal_n_letters = corpora[corpora[\"wolof_corpus_n_letters\"] > 2170][\"wolof_corpus\"]\n",
    "\n",
    "# print those \"abnormal\" paragraphs\n",
    "french_abnormal_n_letters.to_list(), wolof_abnormal_n_letters.to_list()"
   ]
  },
  {
   "cell_type": "code",
   "execution_count": 35,
   "metadata": {},
   "outputs": [
    {
     "data": {
      "text/plain": [
       "(Int64Index([13, 126], dtype='int64'),\n",
       " Int64Index([64, 111, 126], dtype='int64'))"
      ]
     },
     "execution_count": 35,
     "metadata": {},
     "output_type": "execute_result"
    }
   ],
   "source": [
    "# print their indices\n",
    "french_abnormal_n_letters.index, wolof_abnormal_n_letters.index\n"
   ]
  },
  {
   "attachments": {},
   "cell_type": "markdown",
   "metadata": {},
   "source": [
    "Only the paragraph number 126 is considered to be abnormally long in the two corpora. "
   ]
  },
  {
   "attachments": {},
   "cell_type": "markdown",
   "metadata": {},
   "source": [
    "Let are consider now the length to be the number of words separated by spaces. We will plot directly the box plot."
   ]
  },
  {
   "cell_type": "code",
   "execution_count": 36,
   "metadata": {},
   "outputs": [
    {
     "data": {
      "application/vnd.plotly.v1+json": {
       "config": {
        "plotlyServerURL": "https://plot.ly"
       },
       "data": [
        {
         "alignmentgroup": "True",
         "hovertemplate": "value=%{x}<br>variable=%{y}<extra></extra>",
         "legendgroup": "",
         "marker": {
          "color": "#636efa"
         },
         "name": "",
         "notched": false,
         "offsetgroup": "",
         "orientation": "h",
         "showlegend": false,
         "type": "box",
         "x": [
          80,
          86,
          79,
          212,
          161,
          94,
          118,
          409,
          156,
          100,
          326,
          287,
          198,
          449,
          175,
          127,
          93,
          187,
          213,
          108,
          77,
          173,
          173,
          116,
          8,
          230,
          234,
          312,
          61,
          181,
          73,
          95,
          329,
          234,
          69,
          198,
          233,
          68,
          225,
          376,
          90,
          78,
          330,
          239,
          189,
          187,
          65,
          181,
          79,
          116,
          136,
          308,
          102,
          125,
          75,
          85,
          155,
          72,
          170,
          49,
          264,
          188,
          102,
          111,
          363,
          396,
          293,
          269,
          138,
          241,
          121,
          147,
          326,
          87,
          161,
          307,
          105,
          75,
          79,
          256,
          83,
          371,
          61,
          189,
          77,
          152,
          210,
          60,
          144,
          130,
          151,
          123,
          181,
          69,
          226,
          67,
          113,
          140,
          245,
          281,
          77,
          116,
          77,
          25,
          274,
          200,
          337,
          85,
          310,
          163,
          166,
          345,
          171,
          101,
          95,
          165,
          136,
          144,
          71,
          193,
          30,
          163,
          136,
          67,
          164,
          105,
          512,
          67,
          275,
          84,
          143,
          129,
          126,
          52,
          84,
          36,
          121,
          27,
          76,
          144,
          50,
          76,
          115,
          108,
          181,
          165,
          89,
          166,
          412,
          229,
          154,
          266,
          395,
          237,
          379,
          204,
          185,
          110,
          196,
          306,
          110,
          76,
          185,
          157,
          74,
          11,
          283,
          279,
          350,
          61,
          235,
          64,
          78,
          286,
          221,
          79,
          222,
          178,
          73,
          312,
          253,
          82,
          85,
          312,
          320,
          173,
          174,
          72,
          182,
          89,
          103,
          87,
          271,
          58,
          123,
          69,
          87,
          149,
          55,
          202,
          43,
          254,
          197,
          108,
          56,
          447,
          372,
          336,
          425,
          195,
          293,
          108,
          148,
          332,
          72,
          175,
          341,
          105,
          90,
          84,
          342,
          122,
          422,
          68,
          200,
          107,
          179,
          270,
          99,
          137,
          154,
          164,
          150,
          178,
          58,
          278,
          70,
          94,
          126,
          334,
          300,
          102,
          149,
          64,
          22,
          191,
          193,
          303,
          115,
          374,
          126,
          186,
          483,
          239,
          89,
          73,
          195,
          158,
          195,
          69,
          223,
          25,
          193,
          124,
          62,
          174,
          141,
          542,
          70,
          295,
          73,
          109,
          109,
          118,
          84,
          55,
          48,
          161,
          23,
          110,
          172,
          82
         ],
         "x0": " ",
         "xaxis": "x",
         "y": [
          "french_corpus_n_words",
          "french_corpus_n_words",
          "french_corpus_n_words",
          "french_corpus_n_words",
          "french_corpus_n_words",
          "french_corpus_n_words",
          "french_corpus_n_words",
          "french_corpus_n_words",
          "french_corpus_n_words",
          "french_corpus_n_words",
          "french_corpus_n_words",
          "french_corpus_n_words",
          "french_corpus_n_words",
          "french_corpus_n_words",
          "french_corpus_n_words",
          "french_corpus_n_words",
          "french_corpus_n_words",
          "french_corpus_n_words",
          "french_corpus_n_words",
          "french_corpus_n_words",
          "french_corpus_n_words",
          "french_corpus_n_words",
          "french_corpus_n_words",
          "french_corpus_n_words",
          "french_corpus_n_words",
          "french_corpus_n_words",
          "french_corpus_n_words",
          "french_corpus_n_words",
          "french_corpus_n_words",
          "french_corpus_n_words",
          "french_corpus_n_words",
          "french_corpus_n_words",
          "french_corpus_n_words",
          "french_corpus_n_words",
          "french_corpus_n_words",
          "french_corpus_n_words",
          "french_corpus_n_words",
          "french_corpus_n_words",
          "french_corpus_n_words",
          "french_corpus_n_words",
          "french_corpus_n_words",
          "french_corpus_n_words",
          "french_corpus_n_words",
          "french_corpus_n_words",
          "french_corpus_n_words",
          "french_corpus_n_words",
          "french_corpus_n_words",
          "french_corpus_n_words",
          "french_corpus_n_words",
          "french_corpus_n_words",
          "french_corpus_n_words",
          "french_corpus_n_words",
          "french_corpus_n_words",
          "french_corpus_n_words",
          "french_corpus_n_words",
          "french_corpus_n_words",
          "french_corpus_n_words",
          "french_corpus_n_words",
          "french_corpus_n_words",
          "french_corpus_n_words",
          "french_corpus_n_words",
          "french_corpus_n_words",
          "french_corpus_n_words",
          "french_corpus_n_words",
          "french_corpus_n_words",
          "french_corpus_n_words",
          "french_corpus_n_words",
          "french_corpus_n_words",
          "french_corpus_n_words",
          "french_corpus_n_words",
          "french_corpus_n_words",
          "french_corpus_n_words",
          "french_corpus_n_words",
          "french_corpus_n_words",
          "french_corpus_n_words",
          "french_corpus_n_words",
          "french_corpus_n_words",
          "french_corpus_n_words",
          "french_corpus_n_words",
          "french_corpus_n_words",
          "french_corpus_n_words",
          "french_corpus_n_words",
          "french_corpus_n_words",
          "french_corpus_n_words",
          "french_corpus_n_words",
          "french_corpus_n_words",
          "french_corpus_n_words",
          "french_corpus_n_words",
          "french_corpus_n_words",
          "french_corpus_n_words",
          "french_corpus_n_words",
          "french_corpus_n_words",
          "french_corpus_n_words",
          "french_corpus_n_words",
          "french_corpus_n_words",
          "french_corpus_n_words",
          "french_corpus_n_words",
          "french_corpus_n_words",
          "french_corpus_n_words",
          "french_corpus_n_words",
          "french_corpus_n_words",
          "french_corpus_n_words",
          "french_corpus_n_words",
          "french_corpus_n_words",
          "french_corpus_n_words",
          "french_corpus_n_words",
          "french_corpus_n_words",
          "french_corpus_n_words",
          "french_corpus_n_words",
          "french_corpus_n_words",
          "french_corpus_n_words",
          "french_corpus_n_words",
          "french_corpus_n_words",
          "french_corpus_n_words",
          "french_corpus_n_words",
          "french_corpus_n_words",
          "french_corpus_n_words",
          "french_corpus_n_words",
          "french_corpus_n_words",
          "french_corpus_n_words",
          "french_corpus_n_words",
          "french_corpus_n_words",
          "french_corpus_n_words",
          "french_corpus_n_words",
          "french_corpus_n_words",
          "french_corpus_n_words",
          "french_corpus_n_words",
          "french_corpus_n_words",
          "french_corpus_n_words",
          "french_corpus_n_words",
          "french_corpus_n_words",
          "french_corpus_n_words",
          "french_corpus_n_words",
          "french_corpus_n_words",
          "french_corpus_n_words",
          "french_corpus_n_words",
          "french_corpus_n_words",
          "french_corpus_n_words",
          "french_corpus_n_words",
          "french_corpus_n_words",
          "french_corpus_n_words",
          "wolof_corpus_n_words",
          "wolof_corpus_n_words",
          "wolof_corpus_n_words",
          "wolof_corpus_n_words",
          "wolof_corpus_n_words",
          "wolof_corpus_n_words",
          "wolof_corpus_n_words",
          "wolof_corpus_n_words",
          "wolof_corpus_n_words",
          "wolof_corpus_n_words",
          "wolof_corpus_n_words",
          "wolof_corpus_n_words",
          "wolof_corpus_n_words",
          "wolof_corpus_n_words",
          "wolof_corpus_n_words",
          "wolof_corpus_n_words",
          "wolof_corpus_n_words",
          "wolof_corpus_n_words",
          "wolof_corpus_n_words",
          "wolof_corpus_n_words",
          "wolof_corpus_n_words",
          "wolof_corpus_n_words",
          "wolof_corpus_n_words",
          "wolof_corpus_n_words",
          "wolof_corpus_n_words",
          "wolof_corpus_n_words",
          "wolof_corpus_n_words",
          "wolof_corpus_n_words",
          "wolof_corpus_n_words",
          "wolof_corpus_n_words",
          "wolof_corpus_n_words",
          "wolof_corpus_n_words",
          "wolof_corpus_n_words",
          "wolof_corpus_n_words",
          "wolof_corpus_n_words",
          "wolof_corpus_n_words",
          "wolof_corpus_n_words",
          "wolof_corpus_n_words",
          "wolof_corpus_n_words",
          "wolof_corpus_n_words",
          "wolof_corpus_n_words",
          "wolof_corpus_n_words",
          "wolof_corpus_n_words",
          "wolof_corpus_n_words",
          "wolof_corpus_n_words",
          "wolof_corpus_n_words",
          "wolof_corpus_n_words",
          "wolof_corpus_n_words",
          "wolof_corpus_n_words",
          "wolof_corpus_n_words",
          "wolof_corpus_n_words",
          "wolof_corpus_n_words",
          "wolof_corpus_n_words",
          "wolof_corpus_n_words",
          "wolof_corpus_n_words",
          "wolof_corpus_n_words",
          "wolof_corpus_n_words",
          "wolof_corpus_n_words",
          "wolof_corpus_n_words",
          "wolof_corpus_n_words",
          "wolof_corpus_n_words",
          "wolof_corpus_n_words",
          "wolof_corpus_n_words",
          "wolof_corpus_n_words",
          "wolof_corpus_n_words",
          "wolof_corpus_n_words",
          "wolof_corpus_n_words",
          "wolof_corpus_n_words",
          "wolof_corpus_n_words",
          "wolof_corpus_n_words",
          "wolof_corpus_n_words",
          "wolof_corpus_n_words",
          "wolof_corpus_n_words",
          "wolof_corpus_n_words",
          "wolof_corpus_n_words",
          "wolof_corpus_n_words",
          "wolof_corpus_n_words",
          "wolof_corpus_n_words",
          "wolof_corpus_n_words",
          "wolof_corpus_n_words",
          "wolof_corpus_n_words",
          "wolof_corpus_n_words",
          "wolof_corpus_n_words",
          "wolof_corpus_n_words",
          "wolof_corpus_n_words",
          "wolof_corpus_n_words",
          "wolof_corpus_n_words",
          "wolof_corpus_n_words",
          "wolof_corpus_n_words",
          "wolof_corpus_n_words",
          "wolof_corpus_n_words",
          "wolof_corpus_n_words",
          "wolof_corpus_n_words",
          "wolof_corpus_n_words",
          "wolof_corpus_n_words",
          "wolof_corpus_n_words",
          "wolof_corpus_n_words",
          "wolof_corpus_n_words",
          "wolof_corpus_n_words",
          "wolof_corpus_n_words",
          "wolof_corpus_n_words",
          "wolof_corpus_n_words",
          "wolof_corpus_n_words",
          "wolof_corpus_n_words",
          "wolof_corpus_n_words",
          "wolof_corpus_n_words",
          "wolof_corpus_n_words",
          "wolof_corpus_n_words",
          "wolof_corpus_n_words",
          "wolof_corpus_n_words",
          "wolof_corpus_n_words",
          "wolof_corpus_n_words",
          "wolof_corpus_n_words",
          "wolof_corpus_n_words",
          "wolof_corpus_n_words",
          "wolof_corpus_n_words",
          "wolof_corpus_n_words",
          "wolof_corpus_n_words",
          "wolof_corpus_n_words",
          "wolof_corpus_n_words",
          "wolof_corpus_n_words",
          "wolof_corpus_n_words",
          "wolof_corpus_n_words",
          "wolof_corpus_n_words",
          "wolof_corpus_n_words",
          "wolof_corpus_n_words",
          "wolof_corpus_n_words",
          "wolof_corpus_n_words",
          "wolof_corpus_n_words",
          "wolof_corpus_n_words",
          "wolof_corpus_n_words",
          "wolof_corpus_n_words",
          "wolof_corpus_n_words",
          "wolof_corpus_n_words",
          "wolof_corpus_n_words",
          "wolof_corpus_n_words",
          "wolof_corpus_n_words",
          "wolof_corpus_n_words",
          "wolof_corpus_n_words",
          "wolof_corpus_n_words",
          "wolof_corpus_n_words"
         ],
         "y0": " ",
         "yaxis": "y"
        }
       ],
       "layout": {
        "boxmode": "group",
        "legend": {
         "tracegroupgap": 0
        },
        "margin": {
         "t": 60
        },
        "template": {
         "data": {
          "bar": [
           {
            "error_x": {
             "color": "#2a3f5f"
            },
            "error_y": {
             "color": "#2a3f5f"
            },
            "marker": {
             "line": {
              "color": "#E5ECF6",
              "width": 0.5
             },
             "pattern": {
              "fillmode": "overlay",
              "size": 10,
              "solidity": 0.2
             }
            },
            "type": "bar"
           }
          ],
          "barpolar": [
           {
            "marker": {
             "line": {
              "color": "#E5ECF6",
              "width": 0.5
             },
             "pattern": {
              "fillmode": "overlay",
              "size": 10,
              "solidity": 0.2
             }
            },
            "type": "barpolar"
           }
          ],
          "carpet": [
           {
            "aaxis": {
             "endlinecolor": "#2a3f5f",
             "gridcolor": "white",
             "linecolor": "white",
             "minorgridcolor": "white",
             "startlinecolor": "#2a3f5f"
            },
            "baxis": {
             "endlinecolor": "#2a3f5f",
             "gridcolor": "white",
             "linecolor": "white",
             "minorgridcolor": "white",
             "startlinecolor": "#2a3f5f"
            },
            "type": "carpet"
           }
          ],
          "choropleth": [
           {
            "colorbar": {
             "outlinewidth": 0,
             "ticks": ""
            },
            "type": "choropleth"
           }
          ],
          "contour": [
           {
            "colorbar": {
             "outlinewidth": 0,
             "ticks": ""
            },
            "colorscale": [
             [
              0,
              "#0d0887"
             ],
             [
              0.1111111111111111,
              "#46039f"
             ],
             [
              0.2222222222222222,
              "#7201a8"
             ],
             [
              0.3333333333333333,
              "#9c179e"
             ],
             [
              0.4444444444444444,
              "#bd3786"
             ],
             [
              0.5555555555555556,
              "#d8576b"
             ],
             [
              0.6666666666666666,
              "#ed7953"
             ],
             [
              0.7777777777777778,
              "#fb9f3a"
             ],
             [
              0.8888888888888888,
              "#fdca26"
             ],
             [
              1,
              "#f0f921"
             ]
            ],
            "type": "contour"
           }
          ],
          "contourcarpet": [
           {
            "colorbar": {
             "outlinewidth": 0,
             "ticks": ""
            },
            "type": "contourcarpet"
           }
          ],
          "heatmap": [
           {
            "colorbar": {
             "outlinewidth": 0,
             "ticks": ""
            },
            "colorscale": [
             [
              0,
              "#0d0887"
             ],
             [
              0.1111111111111111,
              "#46039f"
             ],
             [
              0.2222222222222222,
              "#7201a8"
             ],
             [
              0.3333333333333333,
              "#9c179e"
             ],
             [
              0.4444444444444444,
              "#bd3786"
             ],
             [
              0.5555555555555556,
              "#d8576b"
             ],
             [
              0.6666666666666666,
              "#ed7953"
             ],
             [
              0.7777777777777778,
              "#fb9f3a"
             ],
             [
              0.8888888888888888,
              "#fdca26"
             ],
             [
              1,
              "#f0f921"
             ]
            ],
            "type": "heatmap"
           }
          ],
          "heatmapgl": [
           {
            "colorbar": {
             "outlinewidth": 0,
             "ticks": ""
            },
            "colorscale": [
             [
              0,
              "#0d0887"
             ],
             [
              0.1111111111111111,
              "#46039f"
             ],
             [
              0.2222222222222222,
              "#7201a8"
             ],
             [
              0.3333333333333333,
              "#9c179e"
             ],
             [
              0.4444444444444444,
              "#bd3786"
             ],
             [
              0.5555555555555556,
              "#d8576b"
             ],
             [
              0.6666666666666666,
              "#ed7953"
             ],
             [
              0.7777777777777778,
              "#fb9f3a"
             ],
             [
              0.8888888888888888,
              "#fdca26"
             ],
             [
              1,
              "#f0f921"
             ]
            ],
            "type": "heatmapgl"
           }
          ],
          "histogram": [
           {
            "marker": {
             "pattern": {
              "fillmode": "overlay",
              "size": 10,
              "solidity": 0.2
             }
            },
            "type": "histogram"
           }
          ],
          "histogram2d": [
           {
            "colorbar": {
             "outlinewidth": 0,
             "ticks": ""
            },
            "colorscale": [
             [
              0,
              "#0d0887"
             ],
             [
              0.1111111111111111,
              "#46039f"
             ],
             [
              0.2222222222222222,
              "#7201a8"
             ],
             [
              0.3333333333333333,
              "#9c179e"
             ],
             [
              0.4444444444444444,
              "#bd3786"
             ],
             [
              0.5555555555555556,
              "#d8576b"
             ],
             [
              0.6666666666666666,
              "#ed7953"
             ],
             [
              0.7777777777777778,
              "#fb9f3a"
             ],
             [
              0.8888888888888888,
              "#fdca26"
             ],
             [
              1,
              "#f0f921"
             ]
            ],
            "type": "histogram2d"
           }
          ],
          "histogram2dcontour": [
           {
            "colorbar": {
             "outlinewidth": 0,
             "ticks": ""
            },
            "colorscale": [
             [
              0,
              "#0d0887"
             ],
             [
              0.1111111111111111,
              "#46039f"
             ],
             [
              0.2222222222222222,
              "#7201a8"
             ],
             [
              0.3333333333333333,
              "#9c179e"
             ],
             [
              0.4444444444444444,
              "#bd3786"
             ],
             [
              0.5555555555555556,
              "#d8576b"
             ],
             [
              0.6666666666666666,
              "#ed7953"
             ],
             [
              0.7777777777777778,
              "#fb9f3a"
             ],
             [
              0.8888888888888888,
              "#fdca26"
             ],
             [
              1,
              "#f0f921"
             ]
            ],
            "type": "histogram2dcontour"
           }
          ],
          "mesh3d": [
           {
            "colorbar": {
             "outlinewidth": 0,
             "ticks": ""
            },
            "type": "mesh3d"
           }
          ],
          "parcoords": [
           {
            "line": {
             "colorbar": {
              "outlinewidth": 0,
              "ticks": ""
             }
            },
            "type": "parcoords"
           }
          ],
          "pie": [
           {
            "automargin": true,
            "type": "pie"
           }
          ],
          "scatter": [
           {
            "fillpattern": {
             "fillmode": "overlay",
             "size": 10,
             "solidity": 0.2
            },
            "type": "scatter"
           }
          ],
          "scatter3d": [
           {
            "line": {
             "colorbar": {
              "outlinewidth": 0,
              "ticks": ""
             }
            },
            "marker": {
             "colorbar": {
              "outlinewidth": 0,
              "ticks": ""
             }
            },
            "type": "scatter3d"
           }
          ],
          "scattercarpet": [
           {
            "marker": {
             "colorbar": {
              "outlinewidth": 0,
              "ticks": ""
             }
            },
            "type": "scattercarpet"
           }
          ],
          "scattergeo": [
           {
            "marker": {
             "colorbar": {
              "outlinewidth": 0,
              "ticks": ""
             }
            },
            "type": "scattergeo"
           }
          ],
          "scattergl": [
           {
            "marker": {
             "colorbar": {
              "outlinewidth": 0,
              "ticks": ""
             }
            },
            "type": "scattergl"
           }
          ],
          "scattermapbox": [
           {
            "marker": {
             "colorbar": {
              "outlinewidth": 0,
              "ticks": ""
             }
            },
            "type": "scattermapbox"
           }
          ],
          "scatterpolar": [
           {
            "marker": {
             "colorbar": {
              "outlinewidth": 0,
              "ticks": ""
             }
            },
            "type": "scatterpolar"
           }
          ],
          "scatterpolargl": [
           {
            "marker": {
             "colorbar": {
              "outlinewidth": 0,
              "ticks": ""
             }
            },
            "type": "scatterpolargl"
           }
          ],
          "scatterternary": [
           {
            "marker": {
             "colorbar": {
              "outlinewidth": 0,
              "ticks": ""
             }
            },
            "type": "scatterternary"
           }
          ],
          "surface": [
           {
            "colorbar": {
             "outlinewidth": 0,
             "ticks": ""
            },
            "colorscale": [
             [
              0,
              "#0d0887"
             ],
             [
              0.1111111111111111,
              "#46039f"
             ],
             [
              0.2222222222222222,
              "#7201a8"
             ],
             [
              0.3333333333333333,
              "#9c179e"
             ],
             [
              0.4444444444444444,
              "#bd3786"
             ],
             [
              0.5555555555555556,
              "#d8576b"
             ],
             [
              0.6666666666666666,
              "#ed7953"
             ],
             [
              0.7777777777777778,
              "#fb9f3a"
             ],
             [
              0.8888888888888888,
              "#fdca26"
             ],
             [
              1,
              "#f0f921"
             ]
            ],
            "type": "surface"
           }
          ],
          "table": [
           {
            "cells": {
             "fill": {
              "color": "#EBF0F8"
             },
             "line": {
              "color": "white"
             }
            },
            "header": {
             "fill": {
              "color": "#C8D4E3"
             },
             "line": {
              "color": "white"
             }
            },
            "type": "table"
           }
          ]
         },
         "layout": {
          "annotationdefaults": {
           "arrowcolor": "#2a3f5f",
           "arrowhead": 0,
           "arrowwidth": 1
          },
          "autotypenumbers": "strict",
          "coloraxis": {
           "colorbar": {
            "outlinewidth": 0,
            "ticks": ""
           }
          },
          "colorscale": {
           "diverging": [
            [
             0,
             "#8e0152"
            ],
            [
             0.1,
             "#c51b7d"
            ],
            [
             0.2,
             "#de77ae"
            ],
            [
             0.3,
             "#f1b6da"
            ],
            [
             0.4,
             "#fde0ef"
            ],
            [
             0.5,
             "#f7f7f7"
            ],
            [
             0.6,
             "#e6f5d0"
            ],
            [
             0.7,
             "#b8e186"
            ],
            [
             0.8,
             "#7fbc41"
            ],
            [
             0.9,
             "#4d9221"
            ],
            [
             1,
             "#276419"
            ]
           ],
           "sequential": [
            [
             0,
             "#0d0887"
            ],
            [
             0.1111111111111111,
             "#46039f"
            ],
            [
             0.2222222222222222,
             "#7201a8"
            ],
            [
             0.3333333333333333,
             "#9c179e"
            ],
            [
             0.4444444444444444,
             "#bd3786"
            ],
            [
             0.5555555555555556,
             "#d8576b"
            ],
            [
             0.6666666666666666,
             "#ed7953"
            ],
            [
             0.7777777777777778,
             "#fb9f3a"
            ],
            [
             0.8888888888888888,
             "#fdca26"
            ],
            [
             1,
             "#f0f921"
            ]
           ],
           "sequentialminus": [
            [
             0,
             "#0d0887"
            ],
            [
             0.1111111111111111,
             "#46039f"
            ],
            [
             0.2222222222222222,
             "#7201a8"
            ],
            [
             0.3333333333333333,
             "#9c179e"
            ],
            [
             0.4444444444444444,
             "#bd3786"
            ],
            [
             0.5555555555555556,
             "#d8576b"
            ],
            [
             0.6666666666666666,
             "#ed7953"
            ],
            [
             0.7777777777777778,
             "#fb9f3a"
            ],
            [
             0.8888888888888888,
             "#fdca26"
            ],
            [
             1,
             "#f0f921"
            ]
           ]
          },
          "colorway": [
           "#636efa",
           "#EF553B",
           "#00cc96",
           "#ab63fa",
           "#FFA15A",
           "#19d3f3",
           "#FF6692",
           "#B6E880",
           "#FF97FF",
           "#FECB52"
          ],
          "font": {
           "color": "#2a3f5f"
          },
          "geo": {
           "bgcolor": "white",
           "lakecolor": "white",
           "landcolor": "#E5ECF6",
           "showlakes": true,
           "showland": true,
           "subunitcolor": "white"
          },
          "hoverlabel": {
           "align": "left"
          },
          "hovermode": "closest",
          "mapbox": {
           "style": "light"
          },
          "paper_bgcolor": "white",
          "plot_bgcolor": "#E5ECF6",
          "polar": {
           "angularaxis": {
            "gridcolor": "white",
            "linecolor": "white",
            "ticks": ""
           },
           "bgcolor": "#E5ECF6",
           "radialaxis": {
            "gridcolor": "white",
            "linecolor": "white",
            "ticks": ""
           }
          },
          "scene": {
           "xaxis": {
            "backgroundcolor": "#E5ECF6",
            "gridcolor": "white",
            "gridwidth": 2,
            "linecolor": "white",
            "showbackground": true,
            "ticks": "",
            "zerolinecolor": "white"
           },
           "yaxis": {
            "backgroundcolor": "#E5ECF6",
            "gridcolor": "white",
            "gridwidth": 2,
            "linecolor": "white",
            "showbackground": true,
            "ticks": "",
            "zerolinecolor": "white"
           },
           "zaxis": {
            "backgroundcolor": "#E5ECF6",
            "gridcolor": "white",
            "gridwidth": 2,
            "linecolor": "white",
            "showbackground": true,
            "ticks": "",
            "zerolinecolor": "white"
           }
          },
          "shapedefaults": {
           "line": {
            "color": "#2a3f5f"
           }
          },
          "ternary": {
           "aaxis": {
            "gridcolor": "white",
            "linecolor": "white",
            "ticks": ""
           },
           "baxis": {
            "gridcolor": "white",
            "linecolor": "white",
            "ticks": ""
           },
           "bgcolor": "#E5ECF6",
           "caxis": {
            "gridcolor": "white",
            "linecolor": "white",
            "ticks": ""
           }
          },
          "title": {
           "x": 0.05
          },
          "xaxis": {
           "automargin": true,
           "gridcolor": "white",
           "linecolor": "white",
           "ticks": "",
           "title": {
            "standoff": 15
           },
           "zerolinecolor": "white",
           "zerolinewidth": 2
          },
          "yaxis": {
           "automargin": true,
           "gridcolor": "white",
           "linecolor": "white",
           "ticks": "",
           "title": {
            "standoff": 15
           },
           "zerolinecolor": "white",
           "zerolinewidth": 2
          }
         }
        },
        "xaxis": {
         "anchor": "y",
         "domain": [
          0,
          1
         ],
         "title": {
          "text": "value"
         }
        },
        "yaxis": {
         "anchor": "x",
         "domain": [
          0,
          1
         ],
         "title": {
          "text": "variable"
         }
        }
       }
      }
     },
     "metadata": {},
     "output_type": "display_data"
    }
   ],
   "source": [
    "px.box(data_frame=corpora, x = [\"french_corpus_n_words\", \"wolof_corpus_n_words\"])\n"
   ]
  },
  {
   "attachments": {},
   "cell_type": "markdown",
   "metadata": {},
   "source": [
    "For the `wolof_corpus_n_words` we identify a upper fence of **447** letters and 2 paragraphs are then considered to be abnormals. For the `french_corpus_n_words` we identify a upper fence of **396** letters and 3 paragraphs are considered to be abnormals. Let us recuperated those documents."
   ]
  },
  {
   "cell_type": "code",
   "execution_count": 37,
   "metadata": {},
   "outputs": [
    {
     "data": {
      "text/plain": [
       "(['L’entrée dans Obudu, je m’en souviens bien : la route sort de l’ombre de la forêt et entre tout droit dans le village, en plein soleil. Mon père a arrêté son auto, avec ma mère il doit parler aux officiels. Je suis seul au milieu de la foule, je n’ai pas peur. Les mains me touchent, passent sur mes bras, sur mes cheveux autour du bord de mon chapeau. Parmi tous ceux qui se pressent autour de moi, il y a une vieille femme, enfin je ne sais pas qu’elle est vieille. Je suppose que c’est d’abord son âge que je remarque, parce qu’elle diffère des enfants nus et des hommes et des femmes habillés plus ou moins à l’occidentale que je vois à Ogoja. Quand ma mère revient (peut-être vaguement inquiète de ce rassemblement), je lui montre cette femme : « Qu’est-ce qu’elle a ? Est-ce qu’elle est malade ?» Je me souviens de cette question que j’ai posée à ma mère. Le corps nu de cette femme, fait de plis, de rides, sa peau comme une outre dégonflée, ses seins allongés et flasques, pendant sur son ventre, sa peau craquelée, ternie, un peu grise, tout cela me semble étrange, et  en même temps vrai. Comment aurais-je pu imaginer que cette femme était ma grand-mère ? Et je ressentais non pas de l’horreur ni de la pitié, mais au contraire de l’amour et de l’intérêt, ceux que suscite la vue de la vérité, de la réalité vécue. Je me rappelle seulement cette question : « Est-ce qu’elle est malade ?» Elle me brûle encore aujourd’hui étrangement, comme si le temps n’était pas passé. Et non la réponse – sans doute rassurante, peut-être un peu gênée – de ma mère : « Non, elle n’est pas malade, elle est vieille, c’est tout. » La vieillesse, sans doute plus choquante pour un enfant sur le corps d’une femme puisque encore, puisque toujours, en France, en Europe, pays des gaines et des jupons, des soutiens-gorge et des combinaisons, les femmes sont ordinairement exemptes de la maladie de l’âge. La brûlure sur mes joues que je ressens encore, qui accompagne la question naïve et la réponse brutale de ma mère, comme un soufflet. Cela est resté en moi sans réponse. La question n’était sans doute pas : Pourquoi cette femme est-elle devenue ainsi, usée et déformée par la vieillesse ?, mais : Pourquoi m’a-t-on menti ? Pourquoi m’a-t-on caché cette vérité ?',\n",
       "  'L’Afrique était puissante. Pour l’enfant que j’étais, la violence était générale, indiscutable. Elle donnait de l’enthousiasme. Il est difficile d’en parler aujourd’hui, après tant de catastrophes et d’abandon. Peu d’Européens ont connu ce sentiment. Le travail que faisait mon père au Cameroun d’abord, puis au Nigeria, créait une situation exceptionnelle. La plupart des Anglais en poste dans la colonie exerçaient des fonctions administratives. Ils étaient militaires, juges, district officers (ces D.O. dont les initiales, prononcées à l’anglaise, Di-O, m’avaient fait penser à un nom religieux, comme une variation sur le « Deo gratias » de la messe que ma mère célébrait sous la varangue chaque dimanche matin). Mon père était l’unique médecin dans un rayon de soixante kilomètres. Mais cette dimension que je donne n’a aucun sens : la première ville administrative était Abakaliki, à quatre heures de route, et pour y arriver il fallait traverser la rivière Aiya en bac, puis une épaisse forêt. L’autre résidence d’un D.O. était à la frontière du Cameroun français, à Obudu, au pied des collines où habitaient encore les gorilles. À Ogoja, mon père était responsable du dispensaire (un ancien hôpital religieux délaissé par les sœurs), et le seul médecin au nord de la province de Cross River. Là, il faisait tout, comme il l’a dit plus tard, de l’accouchement à l’autopsie. Nous étions, mon frère et moi, les seuls enfants blancs de toute cette région. Nous n’avons rien connu de ce qui a pu fabriquer l’identité un peu caricaturale des enfants élevés aux «colonies ». Si je lis les romans «coloniaux» écrits par les Anglais de cette époque, ou de celle qui a précédé notre arrivée au Nigeria – Joyce Cary, par exemple, l’auteur de Missié Johnson –, je ne reconnais rien. Si je lis William Boyd, qui a passé lui aussi une partie de son enfance dans l’Ouest africain britannique, je ne reconnais rien non plus : son père était D.O. (à Accra au Ghana, me semble-t-il). Je ne sais rien de ce qu’il décrit, cette lourdeur coloniale, les ridicules de la société blanche en exil sur la côte, toutes les mesquineries auxquelles les enfants sont particulièrement attentifs, le dédain pour les indigènes, dont ils ne connaissent que la fraction des domestiques qui doivent s’incliner devant les caprices des enfants de leurs maîtres, et surtout cette sorte de coterie dans laquelle les enfants de même sang sont à la fois réunis et divisés, où ils perçoivent un reflet ironique de leurs défauts et de leurs mascarades, et qui forme en quelque sorte l’école de la conscience raciale qui supplée pour eux à l’apprentissage de la conscience humaine – je puis dire que, Dieu merci, tout cela m’a été complètement étranger.',\n",
       "  'En 1968, tandis que mon père et ma mère regardent monter sous leurs fenêtres, à Nice, les montagnes d’ordures laissées par la grève générale, et tandis qu’à Mexico j’entends le vrombissement des hélicos de l’armée qui emportent les corps des étudiants tués à Tlatelolco, le Nigeria entre dans la phase terminale d’un massacre terrible, l’un des grands génocides du siècle, connu sous le nom de guerre du Biafra. Pour la mainmise sur les puits de pétrole à l’embouchure de la rivière Calabar, Ibos et Yoroubas s’exterminent, sous le regard indifférent du monde occidental. Pis encore, les grandes compagnies pétrolières, principalement l’anglo-hollandaise Shell-British Petroleum, sont partie prenante dans cette guerre, agissent sur leurs gouvernements pour que soient sécurisés les puits et les pipe-lines. Les États qu’elles représentent s’affrontent par procuration, la France du côté des insurgés biafrais, l’Union soviétique, l’Angleterre et les États-Unis du côté du gouvernement fédéral majoritairement yorouba. La guerre civile devient une affaire mondiale, une guerre entre civilisations. L’on parle de chrétiens contre musulmans, ou de nationalistes contre capitalistes. Les pays développés retrouvent un débouché inattendu pour leurs produits finis : ils vendent dans les deux camps armes légères et lourdes, mines antipersonnel, chars d’assaut, avions, et même des mercenaires allemands, français, tchadiens, qui composent la 4e brigade biafraise au service des rebelles d’Ojukwu. Mais à la fin de l’été 1968, encerclée, décimée par les troupes fédérales sous le commandement du général Benjamin Adekunle, surnommé pour sa cruauté le « Scorpion noir », l’armée biafraise capitule. Seule résiste encore une poignée de combattants dont la plupart sont des enfants, qui brandissent des machettes et des bâtons sculptés en forme de fusils contre les Mig et les bombardiers soviétiques. À la chute d’Aba (non loin de l’ancien sanctuaire des guerriers magiciens d’Aro Chuku), le Biafra entre dans une longue agonie. Avec la complicité de l’Angleterre et des États-Unis, le général Adekunle verrouille le blocus sur le territoire biafrais, empêchant tout secours et tout approvisionnement. Devant l’avancée de l’armée fédérale, en proie à une folie vengeresse, la population civile fuit vers ce qui reste du territoire biafrais, envahit les savanes et la forêt, tente de survivre sur les réserves. Hommes, femmes, enfants sont pris dans un piège mortel. À partir de septembre, il n’y a plus d’opérations militaires, mais des millions de gens coupés du reste du monde, sans vivres, sans médicaments. Quand les organisations internationales peuvent enfin pénétrer dans la zone insurgée, elles découvrent l’étendue de l’horreur. Le long des routes, au bord des rivières, à l’entrée des villages, des centaines de milliers d’enfants sont en train de mourir de faim et de déshydratation. C’est un cimetière vaste comme un pays. Partout, dans les plaines d’herbes semblables à celle où j’allais autrefois faire la guerre aux termites, des enfants sans parents errent sans but, leurs corps transformés en squelettes. Longtemps après je suis hanté par le poème de Chinua Achebe, Noël au Biafra, qui commence par ces mots : Non, aucune Vierge à l’Enfant ne pourra égaler Le tableau de la tendresse d’une mère Envers ce fils qu’elle devra bientôt oublier.'],\n",
       " ['Nit ki ma teerusi ci waaxu Poor-Arkuur dafa mel ni ku bokkul ak ñoom xeet walla sax ku fëlle beneen dunyaa. Tubay ji mu sol, yaatu te gàtt, kenn xamul lu muy nirool ; simis bi dafa weex, dàlli deram yu ňuul yaa ngi pënde ba nga ni lii lu mu doon. Ma seetlu ni kanam gi ñànge ak ni mu noppee. Buy làkk faraňse, nga xam ni doomu Móris la ndax li muy mel ni kuy woyantu. Soppoon na tamit pijin, làkk wu kéemaane woowu baat yi daan riir ci samay noppi gone niy jóolóoli yu ndaw. Xamul woon waxtaan ba déggoo ciy kàddu. Déedéet. Moom kay, màtt ba mu dagg rekk te, nag, bëgg ku mu yilif, fu mu joxoñ baaraam nga war faa jaar mbaa mu defante kook yow ba mu saf sàpp. Moonte, laabir ak tabe rekk lay won nit ñu ñuul ñi koy jàppale ci liggéeyu dispañseer bi walla ay surgaam. Ci sama gis-gisu gone, ngóor su bari ay benkeñenke la woon. Lu ma doon gën a jéem a nànd ay mbiram, daan gën a réer. Ak moom, xale buy lekk du wax feek mag santu ko ko, warul a daw, warul a fo mbaa biddanti. Lekk sax daa amoon i waxtoom te ku mu bett ngay macc tàngal, tàkk nga. Jeexul, de. Teg loxo ci taabal ji booy lekk itam, da ko doon tere, te palaat bi, soo ko ñéddulee ba mu set wecc du baax ci yow ; sàqami sax dafa amoon noo koy defe : waroo ŋaaŋ ba li ci sa gémmiñ feeñ… Su fekkoon ni set ba mu ëpp feebar la, ma ni feebar booboo ko daloon. Yóbbe woon na koy feem yu doy waar, niki dëkkee raxas i loxoom ak alkol, léeg-léeg sax mu xosi ci almet, taal. Fu mu tooluy saytu këriň giy segg ndox mi ; maa ngi fàttaliku yit ne àttaaya doŋŋ la daan naan, walla sax ndox mu tàng kese – li Sinuwaa yiy woowe àttaaya ju weex. Baay moo daan defar ay sondeelam ak kombook i buum ; tabanaane la daan segg, raxasal boppam ndab yi ndax kenn doyu ko ci woon. Su dul woon rajoom bi mu daan déglu saa su ne, ma ni yoonam ci ni àddina siy doxe. Di jàng i téere ak i yéenekaay fekku ko ci woon. Benn téere bu ndaw te ñuul, daal, la mas a ubbi, muy bi tudd ci kàllaama nasaraan l’Imitation de Jésus-Christ, tey soññ doom-aadama ci toppandoo Yéesu. Bi ma ci mujjee daj yàggul dara wànte keroog sama yaram daw na. Téere boobu bokkoon na, xam naa, ci yi leen làrme bi daan jox. Looluy delloo xel yépp ay ati-at ci ginnaaw, jamono ja Pensées, téereb boroom xam-xam bu ñuy wax Màrk Órel daan gunge soldaar yi ci toolu-xare, am yu mu leen fay déey. Muy nag, lu ma foog doŋŋ, ndax Baay masunoo wax lu ci jëm.',\n",
       "  'Atum 1968 agsi, di at mu bariy yëngu-yëngu. Ma nekk Meksikoo, làrmeb nguur gi rey fay ndongoy daara ca Talatelókoo, ay fafal-naaw yu ndaw di for néewu gone yiy yóbbu ; ca Niis, liggéeykat yi bank seen loxo, samay ñaari way-jur sëppu seen palanteer di gis ni mbalit mi juugee ci mbedd mi ; fekk na Niseryaa, xareb Biyaafaraa baa ngay waaj a jeex ; mu doon faagaagal bi gënoon a ñaaw ci xarnu bi. Nattu doomi Biyaafaraa moo doon petorool ba ni fa woon gàññ ci bëlub Kalabaar. Ibo yeek Yoruba yiy reyante, réewi Tugal yiy seetaan, naan tey mu neex. Jaaykatu petorool yu mag yi ñoom, rawati-na « Shell-British Petroleum », maanduwuñu dara ci mbir mi ; ñuy soňň seeni gornmaa ngir ňu aar teeni petorool ya ca Niseryaa. Ku nekk, nag, am foo far, Frãs di jàppale way-fippuy Biyaafaraa yi ; Riis yi, Àngalteer ak Amerig ànd ak gornmaa bu Legoos. Yëf yi dem ba ëpp loxo, xeexu Ibo yeek Yorubaa yi daldi soppiku xare diggante kerceen ak jullit, ñii di tuumaal ñee, naan dañoo taxaw ci tànku pasar-pasaree alalu réew mi, séddoo kook ay doxandéem. Réewi tubaab yi am doole yi ni màrse neex na : ñu ngi jaay Ibo yeek Yorubaa yi ay gànnaay – moo xam ay roppëlaan la, mbaa ay ndell mbaa leneen. Ñu ni déet ay way-xare-lekk jóge Almaañ, Frãs ak réewum Càdd di sotle Ósukwu miy jiite fippu yi. Waaye bi nawetu 1968 di agsi la leen làrmeb Niseryaa wër-ndombo, daan leen. Seneraal Beŋsameŋ Adekunle, nga xam ni dafa soxoroon ba ñu koy woowe « Jiit ju Ñuul ji » ni moom it tey mu neex. Amoon na, gaa, ay fippu yu ni woon ñoo lànk, duñu wéer seeni gànnaay, wànte ñu néew lañ woon. Mën nañ sax i dañ doon guddal jéll doŋŋ ndax ba roppëlaani Riis yay yuriy bomb ci seen kow, deseetuñu woon lu dul i fetal yu tiitalul sax ragal. Àbbaa daanu. Àbbaa, sorewul xàmbi Aro Suku ya. Biyaafaraa tàmbalee sukkuraat, sukkuraat ju metti te yàgg. Àngalteer ak Amerig di làquy jàppale Adekunle, mu kepp fippu yi, kenn mënuta leen a wallu. Làrme bu Legoos ni nag caaxaan faaxe, fàww mu fey Biyaafaraa boram. Daw wuti foo làqoo fa sësoon. Mag, ndaw, góor ak jigéen jàq, song àll bi te daanaka deseetuñu dund. Weeru sàttumbar agsi, xare bi ci boppam dakk. Wànte ay junniy-junniy doom-aadama nga tëju Biyaafaraa di deek xiif ak mar, faju të leen. Mbootaayi xeet yi fexe ba fekk leen fa, door a teg bët ciy ňaawtéef yu kéemaane ya fa Adekunle defoon. Fu waay geestu, say bët daj téeméeri junniy gone yu wow koŋŋ, niróotuñu sax nit. Mu mel ni ñu ngi dox ci biiriy armeel. Armeel yu yaatu ni réewum lëmm. Joor ja ma daan rëbbiy max, ay gone yu xamatul seeni way-jur a fay wëndéelu. Fan lañu jëm, noonu ? Dara lañ ci xamul. Ay yaxi neen a leen dese. Ñu teg ciy at, ab taalifu Sinuwaa Aseebe di tëgg tama ci sama biir kaaŋ. Taalif baa ngi tudd : Nowel ca Biyaafaraa, mu koy ubbee nii : Dëgg la Nataal bi Ndeyu Yéesu boq doom ji Daw na yaram Wànte dara mënuta dab Cofeel ak tiisu ndey ju tiim doomam Muy sukkuraat.'])"
      ]
     },
     "execution_count": 37,
     "metadata": {},
     "output_type": "execute_result"
    }
   ],
   "source": [
    "french_abnormal_n_words = corpora[corpora[\"french_corpus_n_words\"] > 396][\"french_corpus\"]\n",
    "wolof_abnormal_n_words = corpora[corpora[\"wolof_corpus_n_words\"] > 447][\"wolof_corpus\"]\n",
    "\n",
    "# print those \"abnormal\" paragraphs\n",
    "french_abnormal_n_words.to_list(), wolof_abnormal_n_words.to_list()"
   ]
  },
  {
   "cell_type": "code",
   "execution_count": 38,
   "metadata": {},
   "outputs": [
    {
     "data": {
      "text/plain": [
       "(Int64Index([7, 13, 126], dtype='int64'),\n",
       " Int64Index([111, 126], dtype='int64'))"
      ]
     },
     "execution_count": 38,
     "metadata": {},
     "output_type": "execute_result"
    }
   ],
   "source": [
    "# print their indices\n",
    "french_abnormal_n_words.index, wolof_abnormal_n_words.index"
   ]
  },
  {
   "attachments": {},
   "cell_type": "markdown",
   "metadata": {},
   "source": [
    "The paragraph 126 is again the only paragraph to be considered as \"abnormally\" long in the two corpora."
   ]
  },
  {
   "attachments": {},
   "cell_type": "markdown",
   "metadata": {},
   "source": [
    "**Conclusion 1**: The paragraph number **126** seem to be the longest paragraph in both the french and the wolof corpora. The paragraphs at indices **13** (in the french corpus) and **111** (in the wolof corpus) are considered to be abnormal for both of the two types of lengths. Only the paragraphs at indices **64** (in the wolof corpus) and **7** (in the french corpus) are spotted only once. But let us consider all of them to be \"abnormally\" long and try to separated them contextually (considering contexts). The purpose of the separation is to obtain a paragraph with her/their corresponding length(s) to be bellow the upper fence(s). "
   ]
  },
  {
   "attachments": {},
   "cell_type": "markdown",
   "metadata": {},
   "source": [
    "---------------------------------"
   ]
  },
  {
   "attachments": {},
   "cell_type": "markdown",
   "metadata": {},
   "source": [
    "We will separate those paragraphs directly from copies of the csv files containing the paragraphs. The separation will be done by contexts and according to the following scheduling:\n",
    "\n",
    "- For the paragraph 7: (length as number of words)\n",
    "    - French corpus: \n",
    "        - \"L'entrée dans Obudu...\" (L'entrée dans Obudu) -> length = 69 \n",
    "        - \"Parmi tous ceux qui se pressent...\" (Ma grand-mère) -> length = 340 \n",
    "    - Wolof corpus:\n",
    "        - \"Sooy dugg Óbudu...\"\n",
    "        - \"Ma seetlu ci mbooloo mi benn...\"\n",
    "\n",
    "- Paragraph 13: (length as number of words and number of letters)\n",
    "    - French corpus:\n",
    "        - \"L’Afrique était puissante...\" (L'Afrique était puissante) -> number_of_letters = 250, number_of_words = 34 \n",
    "        - \"Le travail que faisait mon père...\" (Le travail que faisait mon pere) -> number_of_letters = 1130, number_of_words = 185 \n",
    "        - \"Nous étions, mon frère et moi...\" (Les seuls blancs) -> number_of_letters = 1335, number_of_words = 230\n",
    "    - Wolof corpus:\n",
    "        - \"Duma ko tàyyee wax...\"\n",
    "        - \"Liggéey bi Baay daan def...\"\n",
    "        - \"Maak sama mag ju...\"\n",
    "\n",
    "- Paragraph 64: (length as number of letters)\n",
    "    - Wolof corpus:\n",
    "        - \"Xare bi jeex, ñu tekk ci...\" (Rencontre avec mon pere en Afrique) -> number_of_letters = 334 \n",
    "        - \"Magam ji tuddoon Ësen...\" (La difficulté en Afrique) -> number_of_letters = 1284\n",
    "        - \"Afrig, dafa fa dem ba jeex...\" (La duree d'une vie en Afrique) -> number_of_letters = 659\n",
    "    - French corpus:\n",
    "        - \"C’est ce même voyage...\"\n",
    "        - \"Son frère Eugène, qui...\"\n",
    "        - \"Dans l’Ouest africain...\"\n",
    "\n",
    "- Paragraph 111: (length as number of words and number of letters)\n",
    "    - Wolof corpus: \n",
    "        - \"Nit ki ma teerusi ci waaxu...\" (Rencontre avec un homme d'un autre monde) -> number_of_letters = 766, number_of_words = 156\n",
    "        - \"Ci sama gis-gisu gone...\" (Les rituels et manies de mon pere) -> number_of_letters = 1590, number_of_words = 327\n",
    "    - French corpus:\n",
    "        - \"L’homme qui m’est apparu...\"\n",
    "        - \"Il était plein de manies...\"\n",
    "\n",
    "- Paragraph 126: (length as number of words and number of letters)\n",
    "    - French corpus:\n",
    "        - \"En 1968, tandis que mon père...\" (Un des plus grand genocides du siecle) -> number_of_letters = 1492, number_of_words = 216\n",
    "        - \"Mais à la fin de l’été 1968...\" (Situation du genocide en fin d'ete) -> number_of_letters = 965, number_of_words = 152\n",
    "        - \"À partir de septembre,...\" (Fin du genocide) -> number_of_letters = 891, number_of_words = 144\n",
    "    - Wolof corpus:\n",
    "        - \"Atum 1968 agsi, di...\" -> number_of_letters = 1276, number_of_words = 238\n",
    "        - \"Waaye bi nawetu 1968...\" -> number_of_letters = 792, number_of_words = 148\n",
    "        - \"Weeru sàttumbar agsi...\" -> number_of_letters = 797, number_of_words = 156\n",
    "\n",
    "\n",
    "    "
   ]
  },
  {
   "attachments": {},
   "cell_type": "markdown",
   "metadata": {},
   "source": [
    "----------------------------"
   ]
  },
  {
   "attachments": {},
   "cell_type": "markdown",
   "metadata": {},
   "source": [
    "Let us load the new paragraphs and save the new corpora."
   ]
  },
  {
   "cell_type": "code",
   "execution_count": 73,
   "metadata": {},
   "outputs": [],
   "source": [
    "french_version_v5 = pd.read_csv(\"data/extractions/new_data/french_version_v5.csv\")\n",
    "\n",
    "wolof_version_v5 = pd.read_csv(\"data/extractions/new_data/wolof_version_v5.csv\")\n",
    "\n",
    "french_version_v5.rename(columns={'0': \"french_corpus\"}, inplace=True)\n",
    "\n",
    "wolof_version_v5.rename(columns={'0': \"wolof_corpus\"}, inplace=True)"
   ]
  },
  {
   "cell_type": "code",
   "execution_count": 74,
   "metadata": {},
   "outputs": [],
   "source": [
    "# combine the paragraphs in a unique DataFrame\n",
    "corpora_v2 = pd.concat((french_version_v5, wolof_version_v5), axis=1)"
   ]
  },
  {
   "cell_type": "code",
   "execution_count": 75,
   "metadata": {},
   "outputs": [],
   "source": [
    "# save the corpora\n",
    "corpora_v2.to_csv(\"data/extractions/new_data/corpora_v2.csv\", index=False, encoding='utf-16')"
   ]
  },
  {
   "attachments": {},
   "cell_type": "markdown",
   "metadata": {},
   "source": [
    "Let us display the same plots as for the previous corpora."
   ]
  },
  {
   "cell_type": "code",
   "execution_count": 76,
   "metadata": {},
   "outputs": [],
   "source": [
    "# make a copy of the corpora\n",
    "corpora = corpora_v2.copy()"
   ]
  },
  {
   "attachments": {},
   "cell_type": "markdown",
   "metadata": {},
   "source": [
    "- Length distributions"
   ]
  },
  {
   "cell_type": "code",
   "execution_count": 78,
   "metadata": {},
   "outputs": [
    {
     "data": {
      "application/vnd.plotly.v1+json": {
       "config": {
        "plotlyServerURL": "https://plot.ly"
       },
       "data": [
        {
         "name": "french_corpus_n_letters",
         "type": "scatter",
         "xaxis": "x",
         "y": [
          441,
          506,
          448,
          1191,
          922,
          573,
          677,
          352,
          1904,
          954,
          584,
          1869,
          1751,
          1174,
          250,
          1130,
          1335,
          975,
          745,
          548,
          1099,
          1247,
          644,
          472,
          975,
          1007,
          707,
          47,
          1402,
          1379,
          1925,
          350,
          1048,
          445,
          609,
          1908,
          1365,
          399,
          1166,
          1426,
          407,
          1330,
          2282,
          505,
          464,
          1912,
          1536,
          1089,
          1118,
          401,
          1094,
          461,
          711,
          789,
          1727,
          586,
          721,
          394,
          494,
          823,
          421,
          1040,
          272,
          1508,
          1104,
          541,
          607,
          425,
          1319,
          482,
          2257,
          1733,
          1764,
          826,
          1418,
          591,
          795,
          1865,
          497,
          920,
          1854,
          627,
          442,
          427,
          1563,
          455,
          2159,
          375,
          1042,
          487,
          879,
          1247,
          369,
          805,
          765,
          886,
          653,
          1017,
          402,
          1303,
          421,
          630,
          766,
          1387,
          1686,
          410,
          683,
          409,
          138,
          1595,
          1173,
          2006,
          527,
          1881,
          898,
          977,
          576,
          1427,
          1017,
          578,
          511,
          942,
          797,
          857,
          414,
          1155,
          207,
          972,
          812,
          417,
          1015,
          647,
          1492,
          965,
          891,
          374,
          1559,
          465,
          797,
          738,
          707,
          288,
          487,
          195,
          692,
          152,
          485,
          830,
          263
         ],
         "yaxis": "y"
        },
        {
         "name": "wolof_corpus_n_letters",
         "type": "scatter",
         "xaxis": "x",
         "y": [
          396,
          570,
          500,
          960,
          794,
          485,
          794,
          409,
          1545,
          1135,
          744,
          1319,
          1965,
          1160,
          247,
          871,
          882,
          1019,
          864,
          521,
          978,
          1465,
          534,
          362,
          911,
          771,
          342,
          53,
          1385,
          1358,
          1697,
          291,
          1187,
          352,
          389,
          1371,
          1104,
          408,
          1066,
          905,
          353,
          1520,
          1266,
          404,
          459,
          1499,
          1596,
          894,
          823,
          327,
          920,
          407,
          519,
          427,
          1301,
          298,
          615,
          360,
          486,
          735,
          289,
          1001,
          206,
          1281,
          928,
          509,
          330,
          334,
          1284,
          659,
          1916,
          1673,
          2131,
          969,
          1429,
          485,
          778,
          1686,
          379,
          869,
          1653,
          521,
          437,
          406,
          1646,
          608,
          2170,
          354,
          979,
          500,
          877,
          1373,
          462,
          674,
          808,
          822,
          747,
          906,
          319,
          1436,
          338,
          516,
          640,
          1731,
          1548,
          504,
          726,
          306,
          102,
          957,
          980,
          1515,
          540,
          1797,
          584,
          892,
          766,
          1590,
          1118,
          484,
          367,
          958,
          766,
          952,
          333,
          1087,
          129,
          969,
          629,
          334,
          900,
          718,
          1276,
          792,
          797,
          369,
          1442,
          349,
          566,
          532,
          593,
          410,
          258,
          233,
          808,
          103,
          524,
          906,
          381
         ],
         "yaxis": "y"
        },
        {
         "name": "french_corpus_n_words",
         "type": "scatter",
         "xaxis": "x2",
         "y": [
          80,
          86,
          79,
          212,
          161,
          94,
          118,
          69,
          340,
          156,
          100,
          326,
          287,
          198,
          34,
          185,
          230,
          175,
          127,
          93,
          187,
          213,
          108,
          77,
          173,
          173,
          116,
          8,
          230,
          234,
          312,
          61,
          181,
          73,
          95,
          329,
          234,
          69,
          198,
          233,
          68,
          225,
          376,
          90,
          78,
          330,
          239,
          189,
          187,
          65,
          181,
          79,
          116,
          136,
          308,
          102,
          125,
          75,
          85,
          155,
          72,
          170,
          49,
          264,
          188,
          102,
          111,
          75,
          214,
          74,
          396,
          293,
          269,
          138,
          241,
          121,
          147,
          326,
          87,
          161,
          307,
          105,
          75,
          79,
          256,
          83,
          371,
          61,
          189,
          77,
          152,
          210,
          60,
          144,
          130,
          151,
          123,
          181,
          69,
          226,
          67,
          113,
          140,
          245,
          281,
          77,
          116,
          77,
          25,
          274,
          200,
          337,
          85,
          310,
          163,
          166,
          96,
          249,
          171,
          101,
          95,
          165,
          136,
          144,
          71,
          193,
          30,
          163,
          136,
          67,
          164,
          105,
          216,
          152,
          144,
          67,
          275,
          84,
          143,
          129,
          126,
          52,
          84,
          36,
          121,
          27,
          76,
          144,
          50
         ],
         "yaxis": "y2"
        },
        {
         "name": "wolof_corpus_n_words",
         "type": "scatter",
         "xaxis": "x2",
         "y": [
          76,
          115,
          108,
          181,
          165,
          89,
          166,
          81,
          331,
          229,
          154,
          266,
          395,
          237,
          48,
          165,
          166,
          204,
          185,
          110,
          196,
          306,
          110,
          76,
          185,
          157,
          74,
          11,
          283,
          279,
          350,
          61,
          235,
          64,
          78,
          286,
          221,
          79,
          222,
          178,
          73,
          312,
          253,
          82,
          85,
          312,
          320,
          173,
          174,
          72,
          182,
          89,
          103,
          87,
          271,
          58,
          123,
          69,
          87,
          149,
          55,
          202,
          43,
          254,
          197,
          108,
          56,
          70,
          244,
          133,
          372,
          336,
          425,
          195,
          293,
          108,
          148,
          332,
          72,
          175,
          341,
          105,
          90,
          84,
          342,
          122,
          422,
          68,
          200,
          107,
          179,
          270,
          99,
          137,
          154,
          164,
          150,
          178,
          58,
          278,
          70,
          94,
          126,
          334,
          300,
          102,
          149,
          64,
          22,
          191,
          193,
          303,
          115,
          374,
          126,
          186,
          156,
          327,
          239,
          89,
          73,
          195,
          158,
          195,
          69,
          223,
          25,
          193,
          124,
          62,
          174,
          141,
          238,
          148,
          156,
          70,
          295,
          73,
          109,
          109,
          118,
          84,
          55,
          48,
          161,
          23,
          110,
          172,
          82
         ],
         "yaxis": "y2"
        }
       ],
       "layout": {
        "annotations": [
         {
          "font": {
           "size": 16
          },
          "showarrow": false,
          "text": ".*n_letters",
          "x": 0.5,
          "xanchor": "center",
          "xref": "paper",
          "y": 1,
          "yanchor": "bottom",
          "yref": "paper"
         },
         {
          "font": {
           "size": 16
          },
          "showarrow": false,
          "text": ".*n_words",
          "x": 0.5,
          "xanchor": "center",
          "xref": "paper",
          "y": 0.375,
          "yanchor": "bottom",
          "yref": "paper"
         },
         {
          "font": {
           "size": 16
          },
          "showarrow": false,
          "text": "documents",
          "x": 0.5,
          "xanchor": "center",
          "xref": "paper",
          "y": 0,
          "yanchor": "top",
          "yref": "paper",
          "yshift": -30
         },
         {
          "font": {
           "size": 16
          },
          "showarrow": false,
          "text": "Numbers",
          "textangle": -90,
          "x": 0,
          "xanchor": "right",
          "xref": "paper",
          "xshift": -40,
          "y": 0.5,
          "yanchor": "middle",
          "yref": "paper"
         }
        ],
        "template": {
         "data": {
          "bar": [
           {
            "error_x": {
             "color": "#2a3f5f"
            },
            "error_y": {
             "color": "#2a3f5f"
            },
            "marker": {
             "line": {
              "color": "#E5ECF6",
              "width": 0.5
             },
             "pattern": {
              "fillmode": "overlay",
              "size": 10,
              "solidity": 0.2
             }
            },
            "type": "bar"
           }
          ],
          "barpolar": [
           {
            "marker": {
             "line": {
              "color": "#E5ECF6",
              "width": 0.5
             },
             "pattern": {
              "fillmode": "overlay",
              "size": 10,
              "solidity": 0.2
             }
            },
            "type": "barpolar"
           }
          ],
          "carpet": [
           {
            "aaxis": {
             "endlinecolor": "#2a3f5f",
             "gridcolor": "white",
             "linecolor": "white",
             "minorgridcolor": "white",
             "startlinecolor": "#2a3f5f"
            },
            "baxis": {
             "endlinecolor": "#2a3f5f",
             "gridcolor": "white",
             "linecolor": "white",
             "minorgridcolor": "white",
             "startlinecolor": "#2a3f5f"
            },
            "type": "carpet"
           }
          ],
          "choropleth": [
           {
            "colorbar": {
             "outlinewidth": 0,
             "ticks": ""
            },
            "type": "choropleth"
           }
          ],
          "contour": [
           {
            "colorbar": {
             "outlinewidth": 0,
             "ticks": ""
            },
            "colorscale": [
             [
              0,
              "#0d0887"
             ],
             [
              0.1111111111111111,
              "#46039f"
             ],
             [
              0.2222222222222222,
              "#7201a8"
             ],
             [
              0.3333333333333333,
              "#9c179e"
             ],
             [
              0.4444444444444444,
              "#bd3786"
             ],
             [
              0.5555555555555556,
              "#d8576b"
             ],
             [
              0.6666666666666666,
              "#ed7953"
             ],
             [
              0.7777777777777778,
              "#fb9f3a"
             ],
             [
              0.8888888888888888,
              "#fdca26"
             ],
             [
              1,
              "#f0f921"
             ]
            ],
            "type": "contour"
           }
          ],
          "contourcarpet": [
           {
            "colorbar": {
             "outlinewidth": 0,
             "ticks": ""
            },
            "type": "contourcarpet"
           }
          ],
          "heatmap": [
           {
            "colorbar": {
             "outlinewidth": 0,
             "ticks": ""
            },
            "colorscale": [
             [
              0,
              "#0d0887"
             ],
             [
              0.1111111111111111,
              "#46039f"
             ],
             [
              0.2222222222222222,
              "#7201a8"
             ],
             [
              0.3333333333333333,
              "#9c179e"
             ],
             [
              0.4444444444444444,
              "#bd3786"
             ],
             [
              0.5555555555555556,
              "#d8576b"
             ],
             [
              0.6666666666666666,
              "#ed7953"
             ],
             [
              0.7777777777777778,
              "#fb9f3a"
             ],
             [
              0.8888888888888888,
              "#fdca26"
             ],
             [
              1,
              "#f0f921"
             ]
            ],
            "type": "heatmap"
           }
          ],
          "heatmapgl": [
           {
            "colorbar": {
             "outlinewidth": 0,
             "ticks": ""
            },
            "colorscale": [
             [
              0,
              "#0d0887"
             ],
             [
              0.1111111111111111,
              "#46039f"
             ],
             [
              0.2222222222222222,
              "#7201a8"
             ],
             [
              0.3333333333333333,
              "#9c179e"
             ],
             [
              0.4444444444444444,
              "#bd3786"
             ],
             [
              0.5555555555555556,
              "#d8576b"
             ],
             [
              0.6666666666666666,
              "#ed7953"
             ],
             [
              0.7777777777777778,
              "#fb9f3a"
             ],
             [
              0.8888888888888888,
              "#fdca26"
             ],
             [
              1,
              "#f0f921"
             ]
            ],
            "type": "heatmapgl"
           }
          ],
          "histogram": [
           {
            "marker": {
             "pattern": {
              "fillmode": "overlay",
              "size": 10,
              "solidity": 0.2
             }
            },
            "type": "histogram"
           }
          ],
          "histogram2d": [
           {
            "colorbar": {
             "outlinewidth": 0,
             "ticks": ""
            },
            "colorscale": [
             [
              0,
              "#0d0887"
             ],
             [
              0.1111111111111111,
              "#46039f"
             ],
             [
              0.2222222222222222,
              "#7201a8"
             ],
             [
              0.3333333333333333,
              "#9c179e"
             ],
             [
              0.4444444444444444,
              "#bd3786"
             ],
             [
              0.5555555555555556,
              "#d8576b"
             ],
             [
              0.6666666666666666,
              "#ed7953"
             ],
             [
              0.7777777777777778,
              "#fb9f3a"
             ],
             [
              0.8888888888888888,
              "#fdca26"
             ],
             [
              1,
              "#f0f921"
             ]
            ],
            "type": "histogram2d"
           }
          ],
          "histogram2dcontour": [
           {
            "colorbar": {
             "outlinewidth": 0,
             "ticks": ""
            },
            "colorscale": [
             [
              0,
              "#0d0887"
             ],
             [
              0.1111111111111111,
              "#46039f"
             ],
             [
              0.2222222222222222,
              "#7201a8"
             ],
             [
              0.3333333333333333,
              "#9c179e"
             ],
             [
              0.4444444444444444,
              "#bd3786"
             ],
             [
              0.5555555555555556,
              "#d8576b"
             ],
             [
              0.6666666666666666,
              "#ed7953"
             ],
             [
              0.7777777777777778,
              "#fb9f3a"
             ],
             [
              0.8888888888888888,
              "#fdca26"
             ],
             [
              1,
              "#f0f921"
             ]
            ],
            "type": "histogram2dcontour"
           }
          ],
          "mesh3d": [
           {
            "colorbar": {
             "outlinewidth": 0,
             "ticks": ""
            },
            "type": "mesh3d"
           }
          ],
          "parcoords": [
           {
            "line": {
             "colorbar": {
              "outlinewidth": 0,
              "ticks": ""
             }
            },
            "type": "parcoords"
           }
          ],
          "pie": [
           {
            "automargin": true,
            "type": "pie"
           }
          ],
          "scatter": [
           {
            "fillpattern": {
             "fillmode": "overlay",
             "size": 10,
             "solidity": 0.2
            },
            "type": "scatter"
           }
          ],
          "scatter3d": [
           {
            "line": {
             "colorbar": {
              "outlinewidth": 0,
              "ticks": ""
             }
            },
            "marker": {
             "colorbar": {
              "outlinewidth": 0,
              "ticks": ""
             }
            },
            "type": "scatter3d"
           }
          ],
          "scattercarpet": [
           {
            "marker": {
             "colorbar": {
              "outlinewidth": 0,
              "ticks": ""
             }
            },
            "type": "scattercarpet"
           }
          ],
          "scattergeo": [
           {
            "marker": {
             "colorbar": {
              "outlinewidth": 0,
              "ticks": ""
             }
            },
            "type": "scattergeo"
           }
          ],
          "scattergl": [
           {
            "marker": {
             "colorbar": {
              "outlinewidth": 0,
              "ticks": ""
             }
            },
            "type": "scattergl"
           }
          ],
          "scattermapbox": [
           {
            "marker": {
             "colorbar": {
              "outlinewidth": 0,
              "ticks": ""
             }
            },
            "type": "scattermapbox"
           }
          ],
          "scatterpolar": [
           {
            "marker": {
             "colorbar": {
              "outlinewidth": 0,
              "ticks": ""
             }
            },
            "type": "scatterpolar"
           }
          ],
          "scatterpolargl": [
           {
            "marker": {
             "colorbar": {
              "outlinewidth": 0,
              "ticks": ""
             }
            },
            "type": "scatterpolargl"
           }
          ],
          "scatterternary": [
           {
            "marker": {
             "colorbar": {
              "outlinewidth": 0,
              "ticks": ""
             }
            },
            "type": "scatterternary"
           }
          ],
          "surface": [
           {
            "colorbar": {
             "outlinewidth": 0,
             "ticks": ""
            },
            "colorscale": [
             [
              0,
              "#0d0887"
             ],
             [
              0.1111111111111111,
              "#46039f"
             ],
             [
              0.2222222222222222,
              "#7201a8"
             ],
             [
              0.3333333333333333,
              "#9c179e"
             ],
             [
              0.4444444444444444,
              "#bd3786"
             ],
             [
              0.5555555555555556,
              "#d8576b"
             ],
             [
              0.6666666666666666,
              "#ed7953"
             ],
             [
              0.7777777777777778,
              "#fb9f3a"
             ],
             [
              0.8888888888888888,
              "#fdca26"
             ],
             [
              1,
              "#f0f921"
             ]
            ],
            "type": "surface"
           }
          ],
          "table": [
           {
            "cells": {
             "fill": {
              "color": "#EBF0F8"
             },
             "line": {
              "color": "white"
             }
            },
            "header": {
             "fill": {
              "color": "#C8D4E3"
             },
             "line": {
              "color": "white"
             }
            },
            "type": "table"
           }
          ]
         },
         "layout": {
          "annotationdefaults": {
           "arrowcolor": "#2a3f5f",
           "arrowhead": 0,
           "arrowwidth": 1
          },
          "autotypenumbers": "strict",
          "coloraxis": {
           "colorbar": {
            "outlinewidth": 0,
            "ticks": ""
           }
          },
          "colorscale": {
           "diverging": [
            [
             0,
             "#8e0152"
            ],
            [
             0.1,
             "#c51b7d"
            ],
            [
             0.2,
             "#de77ae"
            ],
            [
             0.3,
             "#f1b6da"
            ],
            [
             0.4,
             "#fde0ef"
            ],
            [
             0.5,
             "#f7f7f7"
            ],
            [
             0.6,
             "#e6f5d0"
            ],
            [
             0.7,
             "#b8e186"
            ],
            [
             0.8,
             "#7fbc41"
            ],
            [
             0.9,
             "#4d9221"
            ],
            [
             1,
             "#276419"
            ]
           ],
           "sequential": [
            [
             0,
             "#0d0887"
            ],
            [
             0.1111111111111111,
             "#46039f"
            ],
            [
             0.2222222222222222,
             "#7201a8"
            ],
            [
             0.3333333333333333,
             "#9c179e"
            ],
            [
             0.4444444444444444,
             "#bd3786"
            ],
            [
             0.5555555555555556,
             "#d8576b"
            ],
            [
             0.6666666666666666,
             "#ed7953"
            ],
            [
             0.7777777777777778,
             "#fb9f3a"
            ],
            [
             0.8888888888888888,
             "#fdca26"
            ],
            [
             1,
             "#f0f921"
            ]
           ],
           "sequentialminus": [
            [
             0,
             "#0d0887"
            ],
            [
             0.1111111111111111,
             "#46039f"
            ],
            [
             0.2222222222222222,
             "#7201a8"
            ],
            [
             0.3333333333333333,
             "#9c179e"
            ],
            [
             0.4444444444444444,
             "#bd3786"
            ],
            [
             0.5555555555555556,
             "#d8576b"
            ],
            [
             0.6666666666666666,
             "#ed7953"
            ],
            [
             0.7777777777777778,
             "#fb9f3a"
            ],
            [
             0.8888888888888888,
             "#fdca26"
            ],
            [
             1,
             "#f0f921"
            ]
           ]
          },
          "colorway": [
           "#636efa",
           "#EF553B",
           "#00cc96",
           "#ab63fa",
           "#FFA15A",
           "#19d3f3",
           "#FF6692",
           "#B6E880",
           "#FF97FF",
           "#FECB52"
          ],
          "font": {
           "color": "#2a3f5f"
          },
          "geo": {
           "bgcolor": "white",
           "lakecolor": "white",
           "landcolor": "#E5ECF6",
           "showlakes": true,
           "showland": true,
           "subunitcolor": "white"
          },
          "hoverlabel": {
           "align": "left"
          },
          "hovermode": "closest",
          "mapbox": {
           "style": "light"
          },
          "paper_bgcolor": "white",
          "plot_bgcolor": "#E5ECF6",
          "polar": {
           "angularaxis": {
            "gridcolor": "white",
            "linecolor": "white",
            "ticks": ""
           },
           "bgcolor": "#E5ECF6",
           "radialaxis": {
            "gridcolor": "white",
            "linecolor": "white",
            "ticks": ""
           }
          },
          "scene": {
           "xaxis": {
            "backgroundcolor": "#E5ECF6",
            "gridcolor": "white",
            "gridwidth": 2,
            "linecolor": "white",
            "showbackground": true,
            "ticks": "",
            "zerolinecolor": "white"
           },
           "yaxis": {
            "backgroundcolor": "#E5ECF6",
            "gridcolor": "white",
            "gridwidth": 2,
            "linecolor": "white",
            "showbackground": true,
            "ticks": "",
            "zerolinecolor": "white"
           },
           "zaxis": {
            "backgroundcolor": "#E5ECF6",
            "gridcolor": "white",
            "gridwidth": 2,
            "linecolor": "white",
            "showbackground": true,
            "ticks": "",
            "zerolinecolor": "white"
           }
          },
          "shapedefaults": {
           "line": {
            "color": "#2a3f5f"
           }
          },
          "ternary": {
           "aaxis": {
            "gridcolor": "white",
            "linecolor": "white",
            "ticks": ""
           },
           "baxis": {
            "gridcolor": "white",
            "linecolor": "white",
            "ticks": ""
           },
           "bgcolor": "#E5ECF6",
           "caxis": {
            "gridcolor": "white",
            "linecolor": "white",
            "ticks": ""
           }
          },
          "title": {
           "x": 0.05
          },
          "xaxis": {
           "automargin": true,
           "gridcolor": "white",
           "linecolor": "white",
           "ticks": "",
           "title": {
            "standoff": 15
           },
           "zerolinecolor": "white",
           "zerolinewidth": 2
          },
          "yaxis": {
           "automargin": true,
           "gridcolor": "white",
           "linecolor": "white",
           "ticks": "",
           "title": {
            "standoff": 15
           },
           "zerolinecolor": "white",
           "zerolinewidth": 2
          }
         }
        },
        "xaxis": {
         "anchor": "y",
         "domain": [
          0,
          1
         ]
        },
        "xaxis2": {
         "anchor": "y2",
         "domain": [
          0,
          1
         ]
        },
        "yaxis": {
         "anchor": "x",
         "domain": [
          0.625,
          1
         ]
        },
        "yaxis2": {
         "anchor": "x2",
         "domain": [
          0,
          0.375
         ]
        }
       }
      }
     },
     "metadata": {},
     "output_type": "display_data"
    }
   ],
   "source": [
    "# length as number letters (space in count)\n",
    "corpora['french_corpus_n_letters'] = corpora['french_corpus'].map(count_letters)\n",
    "\n",
    "corpora['wolof_corpus_n_letters'] = corpora['wolof_corpus'].map(count_letters)\n",
    "\n",
    "# length as number of words\n",
    "corpora['french_corpus_n_words'] = corpora['french_corpus'].map(count_words_space)\n",
    "\n",
    "corpora['wolof_corpus_n_words'] = corpora['wolof_corpus'].map(count_words_space)\n",
    "\n",
    "plot_lengths(corpora)\n"
   ]
  },
  {
   "attachments": {},
   "cell_type": "markdown",
   "metadata": {},
   "source": [
    "We obtain again almost the same distributions. But the distributions over the number of words is more accurate for analyzes. So let us display only the box plot of the number of words."
   ]
  },
  {
   "attachments": {},
   "cell_type": "markdown",
   "metadata": {},
   "source": [
    "- Box on number of words"
   ]
  },
  {
   "cell_type": "code",
   "execution_count": 81,
   "metadata": {},
   "outputs": [
    {
     "data": {
      "application/vnd.plotly.v1+json": {
       "config": {
        "plotlyServerURL": "https://plot.ly"
       },
       "data": [
        {
         "alignmentgroup": "True",
         "hovertemplate": "value=%{x}<br>variable=%{y}<extra></extra>",
         "legendgroup": "",
         "marker": {
          "color": "#636efa"
         },
         "name": "",
         "notched": false,
         "offsetgroup": "",
         "orientation": "h",
         "showlegend": false,
         "type": "box",
         "x": [
          80,
          86,
          79,
          212,
          161,
          94,
          118,
          69,
          340,
          156,
          100,
          326,
          287,
          198,
          34,
          185,
          230,
          175,
          127,
          93,
          187,
          213,
          108,
          77,
          173,
          173,
          116,
          8,
          230,
          234,
          312,
          61,
          181,
          73,
          95,
          329,
          234,
          69,
          198,
          233,
          68,
          225,
          376,
          90,
          78,
          330,
          239,
          189,
          187,
          65,
          181,
          79,
          116,
          136,
          308,
          102,
          125,
          75,
          85,
          155,
          72,
          170,
          49,
          264,
          188,
          102,
          111,
          75,
          214,
          74,
          396,
          293,
          269,
          138,
          241,
          121,
          147,
          326,
          87,
          161,
          307,
          105,
          75,
          79,
          256,
          83,
          371,
          61,
          189,
          77,
          152,
          210,
          60,
          144,
          130,
          151,
          123,
          181,
          69,
          226,
          67,
          113,
          140,
          245,
          281,
          77,
          116,
          77,
          25,
          274,
          200,
          337,
          85,
          310,
          163,
          166,
          96,
          249,
          171,
          101,
          95,
          165,
          136,
          144,
          71,
          193,
          30,
          163,
          136,
          67,
          164,
          105,
          216,
          152,
          144,
          67,
          275,
          84,
          143,
          129,
          126,
          52,
          84,
          36,
          121,
          27,
          76,
          144,
          50,
          76,
          115,
          108,
          181,
          165,
          89,
          166,
          81,
          331,
          229,
          154,
          266,
          395,
          237,
          48,
          165,
          166,
          204,
          185,
          110,
          196,
          306,
          110,
          76,
          185,
          157,
          74,
          11,
          283,
          279,
          350,
          61,
          235,
          64,
          78,
          286,
          221,
          79,
          222,
          178,
          73,
          312,
          253,
          82,
          85,
          312,
          320,
          173,
          174,
          72,
          182,
          89,
          103,
          87,
          271,
          58,
          123,
          69,
          87,
          149,
          55,
          202,
          43,
          254,
          197,
          108,
          56,
          70,
          244,
          133,
          372,
          336,
          425,
          195,
          293,
          108,
          148,
          332,
          72,
          175,
          341,
          105,
          90,
          84,
          342,
          122,
          422,
          68,
          200,
          107,
          179,
          270,
          99,
          137,
          154,
          164,
          150,
          178,
          58,
          278,
          70,
          94,
          126,
          334,
          300,
          102,
          149,
          64,
          22,
          191,
          193,
          303,
          115,
          374,
          126,
          186,
          156,
          327,
          239,
          89,
          73,
          195,
          158,
          195,
          69,
          223,
          25,
          193,
          124,
          62,
          174,
          141,
          238,
          148,
          156,
          70,
          295,
          73,
          109,
          109,
          118,
          84,
          55,
          48,
          161,
          23,
          110,
          172,
          82
         ],
         "x0": " ",
         "xaxis": "x",
         "y": [
          "french_corpus_n_words",
          "french_corpus_n_words",
          "french_corpus_n_words",
          "french_corpus_n_words",
          "french_corpus_n_words",
          "french_corpus_n_words",
          "french_corpus_n_words",
          "french_corpus_n_words",
          "french_corpus_n_words",
          "french_corpus_n_words",
          "french_corpus_n_words",
          "french_corpus_n_words",
          "french_corpus_n_words",
          "french_corpus_n_words",
          "french_corpus_n_words",
          "french_corpus_n_words",
          "french_corpus_n_words",
          "french_corpus_n_words",
          "french_corpus_n_words",
          "french_corpus_n_words",
          "french_corpus_n_words",
          "french_corpus_n_words",
          "french_corpus_n_words",
          "french_corpus_n_words",
          "french_corpus_n_words",
          "french_corpus_n_words",
          "french_corpus_n_words",
          "french_corpus_n_words",
          "french_corpus_n_words",
          "french_corpus_n_words",
          "french_corpus_n_words",
          "french_corpus_n_words",
          "french_corpus_n_words",
          "french_corpus_n_words",
          "french_corpus_n_words",
          "french_corpus_n_words",
          "french_corpus_n_words",
          "french_corpus_n_words",
          "french_corpus_n_words",
          "french_corpus_n_words",
          "french_corpus_n_words",
          "french_corpus_n_words",
          "french_corpus_n_words",
          "french_corpus_n_words",
          "french_corpus_n_words",
          "french_corpus_n_words",
          "french_corpus_n_words",
          "french_corpus_n_words",
          "french_corpus_n_words",
          "french_corpus_n_words",
          "french_corpus_n_words",
          "french_corpus_n_words",
          "french_corpus_n_words",
          "french_corpus_n_words",
          "french_corpus_n_words",
          "french_corpus_n_words",
          "french_corpus_n_words",
          "french_corpus_n_words",
          "french_corpus_n_words",
          "french_corpus_n_words",
          "french_corpus_n_words",
          "french_corpus_n_words",
          "french_corpus_n_words",
          "french_corpus_n_words",
          "french_corpus_n_words",
          "french_corpus_n_words",
          "french_corpus_n_words",
          "french_corpus_n_words",
          "french_corpus_n_words",
          "french_corpus_n_words",
          "french_corpus_n_words",
          "french_corpus_n_words",
          "french_corpus_n_words",
          "french_corpus_n_words",
          "french_corpus_n_words",
          "french_corpus_n_words",
          "french_corpus_n_words",
          "french_corpus_n_words",
          "french_corpus_n_words",
          "french_corpus_n_words",
          "french_corpus_n_words",
          "french_corpus_n_words",
          "french_corpus_n_words",
          "french_corpus_n_words",
          "french_corpus_n_words",
          "french_corpus_n_words",
          "french_corpus_n_words",
          "french_corpus_n_words",
          "french_corpus_n_words",
          "french_corpus_n_words",
          "french_corpus_n_words",
          "french_corpus_n_words",
          "french_corpus_n_words",
          "french_corpus_n_words",
          "french_corpus_n_words",
          "french_corpus_n_words",
          "french_corpus_n_words",
          "french_corpus_n_words",
          "french_corpus_n_words",
          "french_corpus_n_words",
          "french_corpus_n_words",
          "french_corpus_n_words",
          "french_corpus_n_words",
          "french_corpus_n_words",
          "french_corpus_n_words",
          "french_corpus_n_words",
          "french_corpus_n_words",
          "french_corpus_n_words",
          "french_corpus_n_words",
          "french_corpus_n_words",
          "french_corpus_n_words",
          "french_corpus_n_words",
          "french_corpus_n_words",
          "french_corpus_n_words",
          "french_corpus_n_words",
          "french_corpus_n_words",
          "french_corpus_n_words",
          "french_corpus_n_words",
          "french_corpus_n_words",
          "french_corpus_n_words",
          "french_corpus_n_words",
          "french_corpus_n_words",
          "french_corpus_n_words",
          "french_corpus_n_words",
          "french_corpus_n_words",
          "french_corpus_n_words",
          "french_corpus_n_words",
          "french_corpus_n_words",
          "french_corpus_n_words",
          "french_corpus_n_words",
          "french_corpus_n_words",
          "french_corpus_n_words",
          "french_corpus_n_words",
          "french_corpus_n_words",
          "french_corpus_n_words",
          "french_corpus_n_words",
          "french_corpus_n_words",
          "french_corpus_n_words",
          "french_corpus_n_words",
          "french_corpus_n_words",
          "french_corpus_n_words",
          "french_corpus_n_words",
          "french_corpus_n_words",
          "french_corpus_n_words",
          "french_corpus_n_words",
          "french_corpus_n_words",
          "french_corpus_n_words",
          "french_corpus_n_words",
          "french_corpus_n_words",
          "wolof_corpus_n_words",
          "wolof_corpus_n_words",
          "wolof_corpus_n_words",
          "wolof_corpus_n_words",
          "wolof_corpus_n_words",
          "wolof_corpus_n_words",
          "wolof_corpus_n_words",
          "wolof_corpus_n_words",
          "wolof_corpus_n_words",
          "wolof_corpus_n_words",
          "wolof_corpus_n_words",
          "wolof_corpus_n_words",
          "wolof_corpus_n_words",
          "wolof_corpus_n_words",
          "wolof_corpus_n_words",
          "wolof_corpus_n_words",
          "wolof_corpus_n_words",
          "wolof_corpus_n_words",
          "wolof_corpus_n_words",
          "wolof_corpus_n_words",
          "wolof_corpus_n_words",
          "wolof_corpus_n_words",
          "wolof_corpus_n_words",
          "wolof_corpus_n_words",
          "wolof_corpus_n_words",
          "wolof_corpus_n_words",
          "wolof_corpus_n_words",
          "wolof_corpus_n_words",
          "wolof_corpus_n_words",
          "wolof_corpus_n_words",
          "wolof_corpus_n_words",
          "wolof_corpus_n_words",
          "wolof_corpus_n_words",
          "wolof_corpus_n_words",
          "wolof_corpus_n_words",
          "wolof_corpus_n_words",
          "wolof_corpus_n_words",
          "wolof_corpus_n_words",
          "wolof_corpus_n_words",
          "wolof_corpus_n_words",
          "wolof_corpus_n_words",
          "wolof_corpus_n_words",
          "wolof_corpus_n_words",
          "wolof_corpus_n_words",
          "wolof_corpus_n_words",
          "wolof_corpus_n_words",
          "wolof_corpus_n_words",
          "wolof_corpus_n_words",
          "wolof_corpus_n_words",
          "wolof_corpus_n_words",
          "wolof_corpus_n_words",
          "wolof_corpus_n_words",
          "wolof_corpus_n_words",
          "wolof_corpus_n_words",
          "wolof_corpus_n_words",
          "wolof_corpus_n_words",
          "wolof_corpus_n_words",
          "wolof_corpus_n_words",
          "wolof_corpus_n_words",
          "wolof_corpus_n_words",
          "wolof_corpus_n_words",
          "wolof_corpus_n_words",
          "wolof_corpus_n_words",
          "wolof_corpus_n_words",
          "wolof_corpus_n_words",
          "wolof_corpus_n_words",
          "wolof_corpus_n_words",
          "wolof_corpus_n_words",
          "wolof_corpus_n_words",
          "wolof_corpus_n_words",
          "wolof_corpus_n_words",
          "wolof_corpus_n_words",
          "wolof_corpus_n_words",
          "wolof_corpus_n_words",
          "wolof_corpus_n_words",
          "wolof_corpus_n_words",
          "wolof_corpus_n_words",
          "wolof_corpus_n_words",
          "wolof_corpus_n_words",
          "wolof_corpus_n_words",
          "wolof_corpus_n_words",
          "wolof_corpus_n_words",
          "wolof_corpus_n_words",
          "wolof_corpus_n_words",
          "wolof_corpus_n_words",
          "wolof_corpus_n_words",
          "wolof_corpus_n_words",
          "wolof_corpus_n_words",
          "wolof_corpus_n_words",
          "wolof_corpus_n_words",
          "wolof_corpus_n_words",
          "wolof_corpus_n_words",
          "wolof_corpus_n_words",
          "wolof_corpus_n_words",
          "wolof_corpus_n_words",
          "wolof_corpus_n_words",
          "wolof_corpus_n_words",
          "wolof_corpus_n_words",
          "wolof_corpus_n_words",
          "wolof_corpus_n_words",
          "wolof_corpus_n_words",
          "wolof_corpus_n_words",
          "wolof_corpus_n_words",
          "wolof_corpus_n_words",
          "wolof_corpus_n_words",
          "wolof_corpus_n_words",
          "wolof_corpus_n_words",
          "wolof_corpus_n_words",
          "wolof_corpus_n_words",
          "wolof_corpus_n_words",
          "wolof_corpus_n_words",
          "wolof_corpus_n_words",
          "wolof_corpus_n_words",
          "wolof_corpus_n_words",
          "wolof_corpus_n_words",
          "wolof_corpus_n_words",
          "wolof_corpus_n_words",
          "wolof_corpus_n_words",
          "wolof_corpus_n_words",
          "wolof_corpus_n_words",
          "wolof_corpus_n_words",
          "wolof_corpus_n_words",
          "wolof_corpus_n_words",
          "wolof_corpus_n_words",
          "wolof_corpus_n_words",
          "wolof_corpus_n_words",
          "wolof_corpus_n_words",
          "wolof_corpus_n_words",
          "wolof_corpus_n_words",
          "wolof_corpus_n_words",
          "wolof_corpus_n_words",
          "wolof_corpus_n_words",
          "wolof_corpus_n_words",
          "wolof_corpus_n_words",
          "wolof_corpus_n_words",
          "wolof_corpus_n_words",
          "wolof_corpus_n_words",
          "wolof_corpus_n_words",
          "wolof_corpus_n_words",
          "wolof_corpus_n_words",
          "wolof_corpus_n_words",
          "wolof_corpus_n_words",
          "wolof_corpus_n_words",
          "wolof_corpus_n_words",
          "wolof_corpus_n_words",
          "wolof_corpus_n_words",
          "wolof_corpus_n_words",
          "wolof_corpus_n_words",
          "wolof_corpus_n_words"
         ],
         "y0": " ",
         "yaxis": "y"
        }
       ],
       "layout": {
        "boxmode": "group",
        "legend": {
         "tracegroupgap": 0
        },
        "margin": {
         "t": 60
        },
        "template": {
         "data": {
          "bar": [
           {
            "error_x": {
             "color": "#2a3f5f"
            },
            "error_y": {
             "color": "#2a3f5f"
            },
            "marker": {
             "line": {
              "color": "#E5ECF6",
              "width": 0.5
             },
             "pattern": {
              "fillmode": "overlay",
              "size": 10,
              "solidity": 0.2
             }
            },
            "type": "bar"
           }
          ],
          "barpolar": [
           {
            "marker": {
             "line": {
              "color": "#E5ECF6",
              "width": 0.5
             },
             "pattern": {
              "fillmode": "overlay",
              "size": 10,
              "solidity": 0.2
             }
            },
            "type": "barpolar"
           }
          ],
          "carpet": [
           {
            "aaxis": {
             "endlinecolor": "#2a3f5f",
             "gridcolor": "white",
             "linecolor": "white",
             "minorgridcolor": "white",
             "startlinecolor": "#2a3f5f"
            },
            "baxis": {
             "endlinecolor": "#2a3f5f",
             "gridcolor": "white",
             "linecolor": "white",
             "minorgridcolor": "white",
             "startlinecolor": "#2a3f5f"
            },
            "type": "carpet"
           }
          ],
          "choropleth": [
           {
            "colorbar": {
             "outlinewidth": 0,
             "ticks": ""
            },
            "type": "choropleth"
           }
          ],
          "contour": [
           {
            "colorbar": {
             "outlinewidth": 0,
             "ticks": ""
            },
            "colorscale": [
             [
              0,
              "#0d0887"
             ],
             [
              0.1111111111111111,
              "#46039f"
             ],
             [
              0.2222222222222222,
              "#7201a8"
             ],
             [
              0.3333333333333333,
              "#9c179e"
             ],
             [
              0.4444444444444444,
              "#bd3786"
             ],
             [
              0.5555555555555556,
              "#d8576b"
             ],
             [
              0.6666666666666666,
              "#ed7953"
             ],
             [
              0.7777777777777778,
              "#fb9f3a"
             ],
             [
              0.8888888888888888,
              "#fdca26"
             ],
             [
              1,
              "#f0f921"
             ]
            ],
            "type": "contour"
           }
          ],
          "contourcarpet": [
           {
            "colorbar": {
             "outlinewidth": 0,
             "ticks": ""
            },
            "type": "contourcarpet"
           }
          ],
          "heatmap": [
           {
            "colorbar": {
             "outlinewidth": 0,
             "ticks": ""
            },
            "colorscale": [
             [
              0,
              "#0d0887"
             ],
             [
              0.1111111111111111,
              "#46039f"
             ],
             [
              0.2222222222222222,
              "#7201a8"
             ],
             [
              0.3333333333333333,
              "#9c179e"
             ],
             [
              0.4444444444444444,
              "#bd3786"
             ],
             [
              0.5555555555555556,
              "#d8576b"
             ],
             [
              0.6666666666666666,
              "#ed7953"
             ],
             [
              0.7777777777777778,
              "#fb9f3a"
             ],
             [
              0.8888888888888888,
              "#fdca26"
             ],
             [
              1,
              "#f0f921"
             ]
            ],
            "type": "heatmap"
           }
          ],
          "heatmapgl": [
           {
            "colorbar": {
             "outlinewidth": 0,
             "ticks": ""
            },
            "colorscale": [
             [
              0,
              "#0d0887"
             ],
             [
              0.1111111111111111,
              "#46039f"
             ],
             [
              0.2222222222222222,
              "#7201a8"
             ],
             [
              0.3333333333333333,
              "#9c179e"
             ],
             [
              0.4444444444444444,
              "#bd3786"
             ],
             [
              0.5555555555555556,
              "#d8576b"
             ],
             [
              0.6666666666666666,
              "#ed7953"
             ],
             [
              0.7777777777777778,
              "#fb9f3a"
             ],
             [
              0.8888888888888888,
              "#fdca26"
             ],
             [
              1,
              "#f0f921"
             ]
            ],
            "type": "heatmapgl"
           }
          ],
          "histogram": [
           {
            "marker": {
             "pattern": {
              "fillmode": "overlay",
              "size": 10,
              "solidity": 0.2
             }
            },
            "type": "histogram"
           }
          ],
          "histogram2d": [
           {
            "colorbar": {
             "outlinewidth": 0,
             "ticks": ""
            },
            "colorscale": [
             [
              0,
              "#0d0887"
             ],
             [
              0.1111111111111111,
              "#46039f"
             ],
             [
              0.2222222222222222,
              "#7201a8"
             ],
             [
              0.3333333333333333,
              "#9c179e"
             ],
             [
              0.4444444444444444,
              "#bd3786"
             ],
             [
              0.5555555555555556,
              "#d8576b"
             ],
             [
              0.6666666666666666,
              "#ed7953"
             ],
             [
              0.7777777777777778,
              "#fb9f3a"
             ],
             [
              0.8888888888888888,
              "#fdca26"
             ],
             [
              1,
              "#f0f921"
             ]
            ],
            "type": "histogram2d"
           }
          ],
          "histogram2dcontour": [
           {
            "colorbar": {
             "outlinewidth": 0,
             "ticks": ""
            },
            "colorscale": [
             [
              0,
              "#0d0887"
             ],
             [
              0.1111111111111111,
              "#46039f"
             ],
             [
              0.2222222222222222,
              "#7201a8"
             ],
             [
              0.3333333333333333,
              "#9c179e"
             ],
             [
              0.4444444444444444,
              "#bd3786"
             ],
             [
              0.5555555555555556,
              "#d8576b"
             ],
             [
              0.6666666666666666,
              "#ed7953"
             ],
             [
              0.7777777777777778,
              "#fb9f3a"
             ],
             [
              0.8888888888888888,
              "#fdca26"
             ],
             [
              1,
              "#f0f921"
             ]
            ],
            "type": "histogram2dcontour"
           }
          ],
          "mesh3d": [
           {
            "colorbar": {
             "outlinewidth": 0,
             "ticks": ""
            },
            "type": "mesh3d"
           }
          ],
          "parcoords": [
           {
            "line": {
             "colorbar": {
              "outlinewidth": 0,
              "ticks": ""
             }
            },
            "type": "parcoords"
           }
          ],
          "pie": [
           {
            "automargin": true,
            "type": "pie"
           }
          ],
          "scatter": [
           {
            "fillpattern": {
             "fillmode": "overlay",
             "size": 10,
             "solidity": 0.2
            },
            "type": "scatter"
           }
          ],
          "scatter3d": [
           {
            "line": {
             "colorbar": {
              "outlinewidth": 0,
              "ticks": ""
             }
            },
            "marker": {
             "colorbar": {
              "outlinewidth": 0,
              "ticks": ""
             }
            },
            "type": "scatter3d"
           }
          ],
          "scattercarpet": [
           {
            "marker": {
             "colorbar": {
              "outlinewidth": 0,
              "ticks": ""
             }
            },
            "type": "scattercarpet"
           }
          ],
          "scattergeo": [
           {
            "marker": {
             "colorbar": {
              "outlinewidth": 0,
              "ticks": ""
             }
            },
            "type": "scattergeo"
           }
          ],
          "scattergl": [
           {
            "marker": {
             "colorbar": {
              "outlinewidth": 0,
              "ticks": ""
             }
            },
            "type": "scattergl"
           }
          ],
          "scattermapbox": [
           {
            "marker": {
             "colorbar": {
              "outlinewidth": 0,
              "ticks": ""
             }
            },
            "type": "scattermapbox"
           }
          ],
          "scatterpolar": [
           {
            "marker": {
             "colorbar": {
              "outlinewidth": 0,
              "ticks": ""
             }
            },
            "type": "scatterpolar"
           }
          ],
          "scatterpolargl": [
           {
            "marker": {
             "colorbar": {
              "outlinewidth": 0,
              "ticks": ""
             }
            },
            "type": "scatterpolargl"
           }
          ],
          "scatterternary": [
           {
            "marker": {
             "colorbar": {
              "outlinewidth": 0,
              "ticks": ""
             }
            },
            "type": "scatterternary"
           }
          ],
          "surface": [
           {
            "colorbar": {
             "outlinewidth": 0,
             "ticks": ""
            },
            "colorscale": [
             [
              0,
              "#0d0887"
             ],
             [
              0.1111111111111111,
              "#46039f"
             ],
             [
              0.2222222222222222,
              "#7201a8"
             ],
             [
              0.3333333333333333,
              "#9c179e"
             ],
             [
              0.4444444444444444,
              "#bd3786"
             ],
             [
              0.5555555555555556,
              "#d8576b"
             ],
             [
              0.6666666666666666,
              "#ed7953"
             ],
             [
              0.7777777777777778,
              "#fb9f3a"
             ],
             [
              0.8888888888888888,
              "#fdca26"
             ],
             [
              1,
              "#f0f921"
             ]
            ],
            "type": "surface"
           }
          ],
          "table": [
           {
            "cells": {
             "fill": {
              "color": "#EBF0F8"
             },
             "line": {
              "color": "white"
             }
            },
            "header": {
             "fill": {
              "color": "#C8D4E3"
             },
             "line": {
              "color": "white"
             }
            },
            "type": "table"
           }
          ]
         },
         "layout": {
          "annotationdefaults": {
           "arrowcolor": "#2a3f5f",
           "arrowhead": 0,
           "arrowwidth": 1
          },
          "autotypenumbers": "strict",
          "coloraxis": {
           "colorbar": {
            "outlinewidth": 0,
            "ticks": ""
           }
          },
          "colorscale": {
           "diverging": [
            [
             0,
             "#8e0152"
            ],
            [
             0.1,
             "#c51b7d"
            ],
            [
             0.2,
             "#de77ae"
            ],
            [
             0.3,
             "#f1b6da"
            ],
            [
             0.4,
             "#fde0ef"
            ],
            [
             0.5,
             "#f7f7f7"
            ],
            [
             0.6,
             "#e6f5d0"
            ],
            [
             0.7,
             "#b8e186"
            ],
            [
             0.8,
             "#7fbc41"
            ],
            [
             0.9,
             "#4d9221"
            ],
            [
             1,
             "#276419"
            ]
           ],
           "sequential": [
            [
             0,
             "#0d0887"
            ],
            [
             0.1111111111111111,
             "#46039f"
            ],
            [
             0.2222222222222222,
             "#7201a8"
            ],
            [
             0.3333333333333333,
             "#9c179e"
            ],
            [
             0.4444444444444444,
             "#bd3786"
            ],
            [
             0.5555555555555556,
             "#d8576b"
            ],
            [
             0.6666666666666666,
             "#ed7953"
            ],
            [
             0.7777777777777778,
             "#fb9f3a"
            ],
            [
             0.8888888888888888,
             "#fdca26"
            ],
            [
             1,
             "#f0f921"
            ]
           ],
           "sequentialminus": [
            [
             0,
             "#0d0887"
            ],
            [
             0.1111111111111111,
             "#46039f"
            ],
            [
             0.2222222222222222,
             "#7201a8"
            ],
            [
             0.3333333333333333,
             "#9c179e"
            ],
            [
             0.4444444444444444,
             "#bd3786"
            ],
            [
             0.5555555555555556,
             "#d8576b"
            ],
            [
             0.6666666666666666,
             "#ed7953"
            ],
            [
             0.7777777777777778,
             "#fb9f3a"
            ],
            [
             0.8888888888888888,
             "#fdca26"
            ],
            [
             1,
             "#f0f921"
            ]
           ]
          },
          "colorway": [
           "#636efa",
           "#EF553B",
           "#00cc96",
           "#ab63fa",
           "#FFA15A",
           "#19d3f3",
           "#FF6692",
           "#B6E880",
           "#FF97FF",
           "#FECB52"
          ],
          "font": {
           "color": "#2a3f5f"
          },
          "geo": {
           "bgcolor": "white",
           "lakecolor": "white",
           "landcolor": "#E5ECF6",
           "showlakes": true,
           "showland": true,
           "subunitcolor": "white"
          },
          "hoverlabel": {
           "align": "left"
          },
          "hovermode": "closest",
          "mapbox": {
           "style": "light"
          },
          "paper_bgcolor": "white",
          "plot_bgcolor": "#E5ECF6",
          "polar": {
           "angularaxis": {
            "gridcolor": "white",
            "linecolor": "white",
            "ticks": ""
           },
           "bgcolor": "#E5ECF6",
           "radialaxis": {
            "gridcolor": "white",
            "linecolor": "white",
            "ticks": ""
           }
          },
          "scene": {
           "xaxis": {
            "backgroundcolor": "#E5ECF6",
            "gridcolor": "white",
            "gridwidth": 2,
            "linecolor": "white",
            "showbackground": true,
            "ticks": "",
            "zerolinecolor": "white"
           },
           "yaxis": {
            "backgroundcolor": "#E5ECF6",
            "gridcolor": "white",
            "gridwidth": 2,
            "linecolor": "white",
            "showbackground": true,
            "ticks": "",
            "zerolinecolor": "white"
           },
           "zaxis": {
            "backgroundcolor": "#E5ECF6",
            "gridcolor": "white",
            "gridwidth": 2,
            "linecolor": "white",
            "showbackground": true,
            "ticks": "",
            "zerolinecolor": "white"
           }
          },
          "shapedefaults": {
           "line": {
            "color": "#2a3f5f"
           }
          },
          "ternary": {
           "aaxis": {
            "gridcolor": "white",
            "linecolor": "white",
            "ticks": ""
           },
           "baxis": {
            "gridcolor": "white",
            "linecolor": "white",
            "ticks": ""
           },
           "bgcolor": "#E5ECF6",
           "caxis": {
            "gridcolor": "white",
            "linecolor": "white",
            "ticks": ""
           }
          },
          "title": {
           "x": 0.05
          },
          "xaxis": {
           "automargin": true,
           "gridcolor": "white",
           "linecolor": "white",
           "ticks": "",
           "title": {
            "standoff": 15
           },
           "zerolinecolor": "white",
           "zerolinewidth": 2
          },
          "yaxis": {
           "automargin": true,
           "gridcolor": "white",
           "linecolor": "white",
           "ticks": "",
           "title": {
            "standoff": 15
           },
           "zerolinecolor": "white",
           "zerolinewidth": 2
          }
         }
        },
        "xaxis": {
         "anchor": "y",
         "domain": [
          0,
          1
         ],
         "title": {
          "text": "value"
         }
        },
        "yaxis": {
         "anchor": "x",
         "domain": [
          0,
          1
         ],
         "title": {
          "text": "variable"
         }
        }
       }
      }
     },
     "metadata": {},
     "output_type": "display_data"
    }
   ],
   "source": [
    "px.box(data_frame=corpora, x = [\"french_corpus_n_words\", \"wolof_corpus_n_words\"])\n"
   ]
  },
  {
   "attachments": {},
   "cell_type": "markdown",
   "metadata": {},
   "source": [
    "Only one paragraph has a length greater than the upper fence of **376** words and only on the french corpus. The length of that paragraph is equal to the upper fence calculated over the length of the previous corpora. Let us verify what is that paragraph."
   ]
  },
  {
   "cell_type": "code",
   "execution_count": 83,
   "metadata": {},
   "outputs": [
    {
     "data": {
      "text/plain": [
       "70    Tout cela, je ne l’ai compris que beaucoup plu...\n",
       "Name: french_corpus, dtype: object"
      ]
     },
     "execution_count": 83,
     "metadata": {},
     "output_type": "execute_result"
    }
   ],
   "source": [
    "abnormal_n_words = corpora[corpora[\"french_corpus_n_words\"] > 376][\"french_corpus\"]\n",
    "\n",
    "abnormal_n_words"
   ]
  },
  {
   "attachments": {},
   "cell_type": "markdown",
   "metadata": {},
   "source": [
    "It correspond to the paragraph at index 70. We can verify if it contains multiple contexts.\n",
    "\n",
    "The paragraph contains only one context so it will be complicated to split it. Let us consider that its length is on the limit of the previous corpora and can be then integrated in our analyzes as it is."
   ]
  }
 ],
 "metadata": {
  "kernelspec": {
   "display_name": "pytorch1-HleOW5am-py3.10",
   "language": "python",
   "name": "python3"
  },
  "language_info": {
   "codemirror_mode": {
    "name": "ipython",
    "version": 3
   },
   "file_extension": ".py",
   "mimetype": "text/x-python",
   "name": "python",
   "nbconvert_exporter": "python",
   "pygments_lexer": "ipython3",
   "version": "3.10.8"
  },
  "orig_nbformat": 4
 },
 "nbformat": 4,
 "nbformat_minor": 2
}
