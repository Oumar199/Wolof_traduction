{
 "cells": [
  {
   "attachments": {},
   "cell_type": "markdown",
   "metadata": {
    "id": "YTsVWwCgLAJl"
   },
   "source": [
    "Fine-tuning best BART 🤖\n",
    "-----------------------------------\n",
    "\n",
    "In this notebook, we will continue the fine-tuning of the BART model on the new extracted sentences from the book **Grammaire de Wolof Moderne**. We provide, bellow, the main evaluation figures, obtained from the hyperparameter search step. We will evaluate the training on the validation dataset.\n",
    "\n",
    "- Parallel coordinates from panel:\n",
    "\n",
    "- Parameter importance char: \n",
    "[t5_v3_importance](https://wandb.ai/oumar-kane-team/small-t5-cross-fw-translation-bayes-hpsearch-v3/reports/undefined-23-05-16-10-36-17---Vmlldzo0Mzc4NDY0?accessToken=eyaiyrid0qz1zg2jkq3fc65biw53084dpfitbi0dgonq6mweupw6kgjml9d2nv1w)"
   ]
  },
  {
   "attachments": {},
   "cell_type": "markdown",
   "metadata": {},
   "source": [
    "We can see in the above chart that the batch is the most important parameter with a negative correlation with the BLEU score (meaning that a lower batch size is better). Next, we the probability of modifying a character in the french corpus is also important and a high probability provide a better BLEU score.  "
   ]
  },
  {
   "cell_type": "code",
   "execution_count": 1,
   "metadata": {
    "colab": {
     "base_uri": "https://localhost:8080/"
    },
    "executionInfo": {
     "elapsed": 41798,
     "status": "ok",
     "timestamp": 1683491387892,
     "user": {
      "displayName": "Oumar Kane",
      "userId": "05889582343301699661"
     },
     "user_tz": 0
    },
    "id": "dF37F8_nLAJr",
    "outputId": "7f5f2bed-9b9d-49f9-c8f1-6fe427cf1502"
   },
   "outputs": [
    {
     "name": "stderr",
     "output_type": "stream",
     "text": [
      "c:\\Users\\Oumar Kane\\AppData\\Local\\pypoetry\\Cache\\virtualenvs\\pytorch1-HleOW5am-py3.10\\lib\\site-packages\\tqdm\\auto.py:22: TqdmWarning: IProgress not found. Please update jupyter and ipywidgets. See https://ipywidgets.readthedocs.io/en/stable/user_install.html\n",
      "  from .autonotebook import tqdm as notebook_tqdm\n",
      "Global seed set to 0\n"
     ]
    }
   ],
   "source": [
    "# let us import all necessary libraries\n",
    "from transformers import BartModel, BartForConditionalGeneration, Seq2SeqTrainer, BartTokenizerFast, set_seed, AdamW, get_linear_schedule_with_warmup,\\\n",
    "                          get_linear_schedule_with_warmup, get_cosine_schedule_with_warmup, Adafactor\n",
    "from wolof_translate.utils.sent_transformers import TransformerSequences\n",
    "from wolof_translate.utils.improvements.end_marks import add_end_mark # added\n",
    "from torch.nn import TransformerEncoderLayer, TransformerDecoderLayer\n",
    "from torch.utils.data import Dataset, DataLoader, random_split\n",
    "from wolof_translate.data.dataset_v4 import SentenceDataset # v2 -> v3 -> v4\n",
    "from wolof_translate.utils.sent_corrections import *\n",
    "from sklearn.model_selection import train_test_split\n",
    "from torch.optim.lr_scheduler import _LRScheduler\n",
    "# from custom_rnn.utils.kwargs import Kwargs\n",
    "from torch.nn.utils.rnn import pad_sequence\n",
    "from plotly.subplots import make_subplots\n",
    "from nlpaug.augmenter import char as nac\n",
    "from torch.utils.data import DataLoader\n",
    "# from datasets  import load_metric # make pip install evaluate instead\n",
    "# and pip install sacrebleu for instance\n",
    "from torch.nn import functional as F\n",
    "import plotly.graph_objects as go\n",
    "from tokenizers import Tokenizer\n",
    "import matplotlib.pyplot as plt\n",
    "import pytorch_lightning as lt\n",
    "from tqdm import tqdm, trange\n",
    "from functools import partial\n",
    "from torch.nn import utils\n",
    "from copy import deepcopy\n",
    "from torch import optim\n",
    "from typing import *\n",
    "from torch import nn\n",
    "import pandas as pd\n",
    "import numpy as np\n",
    "import itertools\n",
    "import evaluate\n",
    "import random\n",
    "import string\n",
    "import shutil\n",
    "import wandb\n",
    "import torch\n",
    "import json\n",
    "import copy\n",
    "import os\n",
    "\n",
    "# add seed for everything\n",
    "lt.seed_everything(0)\n",
    "\n",
    "os.environ[\"WANDB_DISABLED\"] = \"true\""
   ]
  },
  {
   "attachments": {},
   "cell_type": "markdown",
   "metadata": {
    "id": "19MVywzSLAJt"
   },
   "source": [
    "## French to wolof"
   ]
  },
  {
   "attachments": {},
   "cell_type": "markdown",
   "metadata": {
    "id": "n4tP0YGyLAJt"
   },
   "source": [
    "### Configure dataset 🔠"
   ]
  },
  {
   "cell_type": "code",
   "execution_count": 2,
   "metadata": {
    "executionInfo": {
     "elapsed": 77,
     "status": "ok",
     "timestamp": 1683491387893,
     "user": {
      "displayName": "Oumar Kane",
      "userId": "05889582343301699661"
     },
     "user_tz": 0
    },
    "id": "t2GR0YjYuLc5"
   },
   "outputs": [],
   "source": [
    "# recuperate the tokenizer from a json file\n",
    "tokenizer = BartTokenizerFast(tokenizer_file=f\"wolof-translate/wolof_translate/tokenizers/bart_tokenizers/tokenizer_v3.json\")"
   ]
  },
  {
   "cell_type": "code",
   "execution_count": 3,
   "metadata": {
    "executionInfo": {
     "elapsed": 77,
     "status": "ok",
     "timestamp": 1683491387894,
     "user": {
      "displayName": "Oumar Kane",
      "userId": "05889582343301699661"
     },
     "user_tz": 0
    },
    "id": "BIjksuH9LAJv"
   },
   "outputs": [],
   "source": [
    "def recuperate_datasets(fr_char_p: float, fr_word_p: float, max_len: int, end_mark_opt: int):\n",
    "\n",
    "  # Let us recuperate the end_mark adding option\n",
    "  if end_mark_opt == 1:\n",
    "    # Create augmentation to add on French sentences\n",
    "    fr_augmentation_1 = TransformerSequences(nac.KeyboardAug(aug_char_p=fr_char_p, aug_word_p=fr_word_p,\n",
    "                                                             aug_word_max = max_len),\n",
    "                                          remove_mark_space, delete_guillemet_space, add_mark_space)\n",
    "\n",
    "    fr_augmentation_2 = TransformerSequences(remove_mark_space, delete_guillemet_space, add_mark_space)\n",
    "    \n",
    "  else:\n",
    "    \n",
    "    if end_mark_opt == 2:\n",
    "\n",
    "      end_mark_fn = partial(add_end_mark, end_mark_to_remove = '!', replace = True)\n",
    "    \n",
    "    elif end_mark_opt == 3:\n",
    "\n",
    "      end_mark_fn = partial(add_end_mark)\n",
    "    \n",
    "    elif end_mark_opt == 4:\n",
    "\n",
    "      end_mark_fn = partial(add_end_mark, end_mark_to_remove = '!')\n",
    "\n",
    "    # Create augmentation to add on French sentences\n",
    "    fr_augmentation_1 = TransformerSequences(nac.KeyboardAug(aug_char_p=fr_char_p, aug_word_p=fr_word_p,\n",
    "                                                             aug_word_max = max_len),\n",
    "                                          remove_mark_space, delete_guillemet_space, add_mark_space, end_mark_fn)\n",
    "    \n",
    "    fr_augmentation_2 = TransformerSequences(remove_mark_space, delete_guillemet_space, add_mark_space, end_mark_fn)\n",
    "    \n",
    "  # Recuperate the train dataset\n",
    "  train_dataset_aug = SentenceDataset(f\"data/extractions/new_data/train_set.csv\",\n",
    "                                        tokenizer,\n",
    "                                        truncation = True, max_len=max_len,\n",
    "                                        cp1_transformer = fr_augmentation_1,\n",
    "                                        cp2_transformer = fr_augmentation_2\n",
    "                                        )\n",
    "\n",
    "  # Recuperate the valid dataset\n",
    "  valid_dataset = SentenceDataset(f\"data/extractions/new_data/valid_set.csv\",\n",
    "                                        tokenizer, max_len=max_len,\n",
    "                                        cp1_transformer = fr_augmentation_2,\n",
    "                                        cp2_transformer = fr_augmentation_2,\n",
    "                                        truncation = True)\n",
    "  \n",
    "  # Return the datasets\n",
    "  return train_dataset_aug, valid_dataset"
   ]
  },
  {
   "attachments": {},
   "cell_type": "markdown",
   "metadata": {
    "id": "xT17hB19LAJy"
   },
   "source": [
    "### Searching for the best parameters 🕖"
   ]
  },
  {
   "cell_type": "code",
   "execution_count": 4,
   "metadata": {},
   "outputs": [
    {
     "name": "stderr",
     "output_type": "stream",
     "text": [
      "Using the latest cached version of the module from C:\\Users\\Oumar Kane\\.cache\\huggingface\\modules\\evaluate_modules\\metrics\\evaluate-metric--sacrebleu\\28676bf65b4f88b276df566e48e603732d0b4afd237603ebdf92acaacf5be99b (last modified on Wed Apr 26 19:02:40 2023) since it couldn't be found locally at evaluate-metric--sacrebleu, or remotely on the Hugging Face Hub.\n"
     ]
    }
   ],
   "source": [
    "from wolof_translate.models.transformers.optimization import TransformerScheduler\n",
    "from wolof_translate.trainers.transformer_trainer import ModelRunner\n",
    "from wolof_translate.utils.evaluation import TranslationEvaluation\n",
    "from wolof_translate.models.transformers.main import Transformer\n",
    "from wolof_translate.utils.split_with_valid import split_data\n"
   ]
  },
  {
   "attachments": {},
   "cell_type": "markdown",
   "metadata": {},
   "source": [
    "-------------"
   ]
  },
  {
   "cell_type": "code",
   "execution_count": null,
   "metadata": {},
   "outputs": [],
   "source": []
  },
  {
   "attachments": {},
   "cell_type": "markdown",
   "metadata": {},
   "source": [
    "### --- Wandb v3"
   ]
  },
  {
   "cell_type": "code",
   "execution_count": null,
   "metadata": {},
   "outputs": [],
   "source": []
  },
  {
   "cell_type": "code",
   "execution_count": 11,
   "metadata": {},
   "outputs": [],
   "source": [
    "# let us initialize the hyperparameter configuration \n",
    "config = {\n",
    "    'random_state': 0,\n",
    "    'fr_char_p': 0.23933988199337344,\n",
    "    'fr_word_p': 0.05610531989858242,\n",
    "    'learning_rate': 0.004527356083349532,\n",
    "    'weight_decay': 0.013835230433721276,\n",
    "    'batch_size': 16,\n",
    "    'warmup_ratio': 0.0,\n",
    "    'max_epoch': 381,\n",
    "    'epochs': 38,\n",
    "    'mid_epoch': 38,\n",
    "    'max_len': 36,\n",
    "    'end_mark': 3,\n",
    "    'bleu': 13.0949,\n",
    "    'model_dir': 'data/checkpoints/fw_bart_custom_train_v3_checkpoints',\n",
    "    'new_model_dir': 'data/checkpoints/bart_custom_train_results_fw_v3'\n",
    "}\n",
    "\n",
    "# Initialize the model name\n",
    "model_name = 'facebook/bart-base'\n",
    "\n",
    "# import the model with its pre-trained weights\n",
    "model = BartForConditionalGeneration.from_pretrained(model_name)\n",
    "\n",
    "# resize the token embeddings\n",
    "model.resize_token_embeddings(len(tokenizer))\n",
    "\n",
    "# let us initialize the evaluation class\n",
    "evaluation = TranslationEvaluation(tokenizer)\n",
    "\n",
    "# let us initialize the trainer\n",
    "trainer = ModelRunner(model, seed = 0, version = 3, evaluation = evaluation, optimizer=Adafactor)\n",
    "\n",
    "# split the data\n",
    "split_data(config['random_state'])\n",
    "\n",
    "# recuperate train and test set\n",
    "train_dataset, test_dataset = recuperate_datasets(config['fr_char_p'], \n",
    "                                                    config['fr_word_p'], config['max_len'],\n",
    "                                                    config['end_mark'])\n",
    "\n",
    "# let us calculate the appropriate warmup steps (let us take a max epoch of 100)\n",
    "length = len(train_dataset)\n",
    "\n",
    "n_steps = length // config['batch_size']\n",
    "\n",
    "num_steps = config['max_epoch'] * n_steps\n",
    "\n",
    "warmup_steps = (config['max_epoch'] * n_steps) * config['warmup_ratio']\n",
    "\n",
    "# # Initialize the scheduler parameters\n",
    "scheduler_args = {'num_warmup_steps': warmup_steps, 'num_training_steps': num_steps}\n",
    "\n",
    "# Initialize the optimizer parameters\n",
    "optimizer_args = {\n",
    "    'lr': config['learning_rate'],\n",
    "    'weight_decay': config['weight_decay'],\n",
    "    # 'betas': (0.9, 0.98),\n",
    "    'warmup_init': False,\n",
    "    'relative_step': False\n",
    "}\n",
    "\n",
    "# Initialize the loaders parameters\n",
    "train_loader_args = {'batch_size': config['batch_size']}\n",
    "\n",
    "# Add the datasets and hyperparameters to trainer\n",
    "trainer.compile(train_dataset, test_dataset, tokenizer, train_loader_args,\n",
    "                optimizer_kwargs = optimizer_args,\n",
    "                lr_scheduler=get_linear_schedule_with_warmup,\n",
    "                lr_scheduler_kwargs=scheduler_args, \n",
    "                predict_with_generate = True,\n",
    "                hugging_face = True,\n",
    "                logging_dir=\"data/logs/bart_custom_train_fw\"\n",
    "                )\n",
    "\n",
    "# We will from checkpoints so let us the model\n",
    "# trainer.load(config['model_dir'], load_best=True) # Only for the first loading\n",
    "trainer.load(config['new_model_dir'], load_best=True)\n",
    "\n",
    "        "
   ]
  },
  {
   "cell_type": "code",
   "execution_count": null,
   "metadata": {},
   "outputs": [],
   "source": []
  },
  {
   "attachments": {},
   "cell_type": "markdown",
   "metadata": {},
   "source": [
    "### --- Linear"
   ]
  },
  {
   "cell_type": "code",
   "execution_count": 10,
   "metadata": {},
   "outputs": [
    {
     "name": "stderr",
     "output_type": "stream",
     "text": [
      "  0%|          | 0/33 [00:00<?, ?it/s]c:\\Users\\Oumar Kane\\AppData\\Local\\pypoetry\\Cache\\virtualenvs\\pytorch1-HleOW5am-py3.10\\lib\\site-packages\\torch\\optim\\lr_scheduler.py:257: UserWarning: To get the last learning rate computed by the scheduler, please use `get_last_lr()`.\n",
      "  warnings.warn(\"To get the last learning rate computed by the scheduler, \"\n"
     ]
    },
    {
     "name": "stdout",
     "output_type": "stream",
     "text": [
      "For epoch 6: \n",
      "{Learning rate: [0.004467199284997939]}\n"
     ]
    },
    {
     "name": "stderr",
     "output_type": "stream",
     "text": [
      "Train batch number 81: 100%|██████████| 81/81 [00:27<00:00,  2.95batches/s]\n",
      "Test batch number 11: 100%|██████████| 11/11 [00:05<00:00,  2.14batches/s]\n"
     ]
    },
    {
     "name": "stdout",
     "output_type": "stream",
     "text": [
      "\n",
      "Metrics: {'train_loss': 0.374551874987873, 'test_loss': 0.6885945011268962, 'bleu': 12.1009, 'gen_len': 8.9012}\n",
      "\n",
      "=============================\n",
      "\n"
     ]
    },
    {
     "name": "stderr",
     "output_type": "stream",
     "text": [
      "  3%|▎         | 1/33 [00:41<22:15, 41.73s/it]"
     ]
    },
    {
     "name": "stdout",
     "output_type": "stream",
     "text": [
      "For epoch 7: \n",
      "{Learning rate: [0.00445516792532762]}\n"
     ]
    },
    {
     "name": "stderr",
     "output_type": "stream",
     "text": [
      "Train batch number 81: 100%|██████████| 81/81 [00:28<00:00,  2.84batches/s]\n",
      "Test batch number 11: 100%|██████████| 11/11 [00:05<00:00,  2.02batches/s]\n"
     ]
    },
    {
     "name": "stdout",
     "output_type": "stream",
     "text": [
      "\n",
      "Metrics: {'train_loss': 0.2497473552271172, 'test_loss': 0.6525942629033868, 'bleu': 18.7628, 'gen_len': 8.5062}\n",
      "\n",
      "=============================\n",
      "\n"
     ]
    },
    {
     "name": "stderr",
     "output_type": "stream",
     "text": [
      "  6%|▌         | 2/33 [01:24<21:53, 42.37s/it]"
     ]
    },
    {
     "name": "stdout",
     "output_type": "stream",
     "text": [
      "For epoch 8: \n",
      "{Learning rate: [0.004443136565657302]}\n"
     ]
    },
    {
     "name": "stderr",
     "output_type": "stream",
     "text": [
      "Train batch number 81: 100%|██████████| 81/81 [00:28<00:00,  2.83batches/s]\n",
      "Test batch number 11: 100%|██████████| 11/11 [00:05<00:00,  2.11batches/s]\n"
     ]
    },
    {
     "name": "stdout",
     "output_type": "stream",
     "text": [
      "\n",
      "Metrics: {'train_loss': 0.19587222477536143, 'test_loss': 0.697315430099314, 'bleu': 19.3374, 'gen_len': 8.6111}\n",
      "\n",
      "=============================\n",
      "\n"
     ]
    },
    {
     "name": "stderr",
     "output_type": "stream",
     "text": [
      "  9%|▉         | 3/33 [02:07<21:17, 42.57s/it]"
     ]
    },
    {
     "name": "stdout",
     "output_type": "stream",
     "text": [
      "For epoch 9: \n",
      "{Learning rate: [0.004431105205986983]}\n"
     ]
    },
    {
     "name": "stderr",
     "output_type": "stream",
     "text": [
      "Train batch number 81: 100%|██████████| 81/81 [00:29<00:00,  2.74batches/s]\n",
      "Test batch number 11: 100%|██████████| 11/11 [00:05<00:00,  2.13batches/s]\n"
     ]
    },
    {
     "name": "stdout",
     "output_type": "stream",
     "text": [
      "\n",
      "Metrics: {'train_loss': 0.16391692108210223, 'test_loss': 0.7193497283892198, 'bleu': 17.2153, 'gen_len': 8.5617}\n",
      "\n",
      "=============================\n",
      "\n"
     ]
    },
    {
     "name": "stderr",
     "output_type": "stream",
     "text": [
      " 12%|█▏        | 4/33 [02:47<20:02, 41.45s/it]"
     ]
    },
    {
     "name": "stdout",
     "output_type": "stream",
     "text": [
      "For epoch 10: \n",
      "{Learning rate: [0.004419073846316664]}\n"
     ]
    },
    {
     "name": "stderr",
     "output_type": "stream",
     "text": [
      "Train batch number 81: 100%|██████████| 81/81 [00:30<00:00,  2.67batches/s]\n",
      "Test batch number 11: 100%|██████████| 11/11 [00:05<00:00,  2.03batches/s]\n"
     ]
    },
    {
     "name": "stdout",
     "output_type": "stream",
     "text": [
      "\n",
      "Metrics: {'train_loss': 0.13243066740256768, 'test_loss': 0.7396192035891793, 'bleu': 21.781, 'gen_len': 8.9259}\n",
      "\n",
      "=============================\n",
      "\n"
     ]
    },
    {
     "name": "stderr",
     "output_type": "stream",
     "text": [
      " 15%|█▌        | 5/33 [03:31<19:51, 42.55s/it]"
     ]
    },
    {
     "name": "stdout",
     "output_type": "stream",
     "text": [
      "For epoch 11: \n",
      "{Learning rate: [0.0044070424866463455]}\n"
     ]
    },
    {
     "name": "stderr",
     "output_type": "stream",
     "text": [
      "Train batch number 81: 100%|██████████| 81/81 [00:30<00:00,  2.67batches/s]\n",
      "Test batch number 11: 100%|██████████| 11/11 [00:05<00:00,  2.14batches/s]\n"
     ]
    },
    {
     "name": "stdout",
     "output_type": "stream",
     "text": [
      "\n",
      "Metrics: {'train_loss': 0.11188121452743624, 'test_loss': 0.746191062710502, 'bleu': 22.3151, 'gen_len': 8.5864}\n",
      "\n",
      "=============================\n",
      "\n"
     ]
    },
    {
     "name": "stderr",
     "output_type": "stream",
     "text": [
      " 18%|█▊        | 6/33 [04:15<19:25, 43.15s/it]"
     ]
    },
    {
     "name": "stdout",
     "output_type": "stream",
     "text": [
      "For epoch 12: \n",
      "{Learning rate: [0.004395011126976027]}\n"
     ]
    },
    {
     "name": "stderr",
     "output_type": "stream",
     "text": [
      "Train batch number 81: 100%|██████████| 81/81 [00:30<00:00,  2.67batches/s]\n",
      "Test batch number 11: 100%|██████████| 11/11 [00:05<00:00,  2.16batches/s]\n"
     ]
    },
    {
     "name": "stdout",
     "output_type": "stream",
     "text": [
      "\n",
      "Metrics: {'train_loss': 0.10251243642450851, 'test_loss': 0.7385979023846713, 'bleu': 21.4039, 'gen_len': 8.7407}\n",
      "\n",
      "=============================\n",
      "\n"
     ]
    },
    {
     "name": "stderr",
     "output_type": "stream",
     "text": [
      " 21%|██        | 7/33 [04:56<18:17, 42.23s/it]"
     ]
    },
    {
     "name": "stdout",
     "output_type": "stream",
     "text": [
      "For epoch 13: \n",
      "{Learning rate: [0.004382979767305708]}\n"
     ]
    },
    {
     "name": "stderr",
     "output_type": "stream",
     "text": [
      "Train batch number 81: 100%|██████████| 81/81 [00:30<00:00,  2.65batches/s]\n",
      "Test batch number 11: 100%|██████████| 11/11 [00:05<00:00,  1.97batches/s]\n"
     ]
    },
    {
     "name": "stdout",
     "output_type": "stream",
     "text": [
      "\n",
      "Metrics: {'train_loss': 0.08272407148723249, 'test_loss': 0.733578310771422, 'bleu': 21.8657, 'gen_len': 8.9506}\n",
      "\n",
      "=============================\n",
      "\n"
     ]
    },
    {
     "name": "stderr",
     "output_type": "stream",
     "text": [
      " 24%|██▍       | 8/33 [05:37<17:26, 41.86s/it]"
     ]
    },
    {
     "name": "stdout",
     "output_type": "stream",
     "text": [
      "For epoch 14: \n",
      "{Learning rate: [0.004370948407635389]}\n"
     ]
    },
    {
     "name": "stderr",
     "output_type": "stream",
     "text": [
      "Train batch number 81: 100%|██████████| 81/81 [00:30<00:00,  2.63batches/s]\n",
      "Test batch number 11: 100%|██████████| 11/11 [00:05<00:00,  2.04batches/s]\n"
     ]
    },
    {
     "name": "stdout",
     "output_type": "stream",
     "text": [
      "\n",
      "Metrics: {'train_loss': 0.07445293563751527, 'test_loss': 0.7743896273049441, 'bleu': 21.6084, 'gen_len': 8.3519}\n",
      "\n",
      "=============================\n",
      "\n"
     ]
    },
    {
     "name": "stderr",
     "output_type": "stream",
     "text": [
      " 27%|██▋       | 9/33 [06:18<16:39, 41.66s/it]"
     ]
    },
    {
     "name": "stdout",
     "output_type": "stream",
     "text": [
      "For epoch 15: \n",
      "{Learning rate: [0.0043589170479650715]}\n"
     ]
    },
    {
     "name": "stderr",
     "output_type": "stream",
     "text": [
      "Train batch number 81: 100%|██████████| 81/81 [00:31<00:00,  2.58batches/s]\n",
      "Test batch number 11: 100%|██████████| 11/11 [00:05<00:00,  1.90batches/s]\n"
     ]
    },
    {
     "name": "stdout",
     "output_type": "stream",
     "text": [
      "\n",
      "Metrics: {'train_loss': 0.07102632522583008, 'test_loss': 0.7536414672027935, 'bleu': 24.1783, 'gen_len': 8.9938}\n",
      "\n",
      "=============================\n",
      "\n"
     ]
    },
    {
     "name": "stderr",
     "output_type": "stream",
     "text": [
      " 30%|███       | 10/33 [07:04<16:30, 43.05s/it]"
     ]
    },
    {
     "name": "stdout",
     "output_type": "stream",
     "text": [
      "For epoch 16: \n",
      "{Learning rate: [0.004346885688294752]}\n"
     ]
    },
    {
     "name": "stderr",
     "output_type": "stream",
     "text": [
      "Train batch number 81: 100%|██████████| 81/81 [00:30<00:00,  2.70batches/s]\n",
      "Test batch number 11: 100%|██████████| 11/11 [00:05<00:00,  2.09batches/s]\n"
     ]
    },
    {
     "name": "stdout",
     "output_type": "stream",
     "text": [
      "\n",
      "Metrics: {'train_loss': 0.06833397514290279, 'test_loss': 0.7583309276537462, 'bleu': 24.9168, 'gen_len': 9.0185}\n",
      "\n",
      "=============================\n",
      "\n"
     ]
    },
    {
     "name": "stderr",
     "output_type": "stream",
     "text": [
      " 33%|███▎      | 11/33 [07:49<15:55, 43.45s/it]"
     ]
    },
    {
     "name": "stdout",
     "output_type": "stream",
     "text": [
      "For epoch 17: \n",
      "{Learning rate: [0.004334854328624433]}\n"
     ]
    },
    {
     "name": "stderr",
     "output_type": "stream",
     "text": [
      "Train batch number 81: 100%|██████████| 81/81 [00:29<00:00,  2.73batches/s]\n",
      "Test batch number 11: 100%|██████████| 11/11 [00:05<00:00,  2.09batches/s]\n"
     ]
    },
    {
     "name": "stdout",
     "output_type": "stream",
     "text": [
      "\n",
      "Metrics: {'train_loss': 0.058955699320376656, 'test_loss': 0.7581210353157737, 'bleu': 25.9046, 'gen_len': 8.7346}\n",
      "\n",
      "=============================\n",
      "\n"
     ]
    },
    {
     "name": "stderr",
     "output_type": "stream",
     "text": [
      " 36%|███▋      | 12/33 [08:32<15:15, 43.57s/it]"
     ]
    },
    {
     "name": "stdout",
     "output_type": "stream",
     "text": [
      "For epoch 18: \n",
      "{Learning rate: [0.004322822968954115]}\n"
     ]
    },
    {
     "name": "stderr",
     "output_type": "stream",
     "text": [
      "Train batch number 81: 100%|██████████| 81/81 [00:29<00:00,  2.71batches/s]\n",
      "Test batch number 11: 100%|██████████| 11/11 [00:05<00:00,  2.18batches/s]\n"
     ]
    },
    {
     "name": "stdout",
     "output_type": "stream",
     "text": [
      "\n",
      "Metrics: {'train_loss': 0.0503173111765473, 'test_loss': 0.7932036166841333, 'bleu': 27.5504, 'gen_len': 8.5741}\n",
      "\n",
      "=============================\n",
      "\n"
     ]
    },
    {
     "name": "stderr",
     "output_type": "stream",
     "text": [
      " 39%|███▉      | 13/33 [09:16<14:33, 43.69s/it]"
     ]
    },
    {
     "name": "stdout",
     "output_type": "stream",
     "text": [
      "For epoch 19: \n",
      "{Learning rate: [0.004310791609283797]}\n"
     ]
    },
    {
     "name": "stderr",
     "output_type": "stream",
     "text": [
      "Train batch number 81: 100%|██████████| 81/81 [00:29<00:00,  2.71batches/s]\n",
      "Test batch number 11: 100%|██████████| 11/11 [00:06<00:00,  1.82batches/s]\n"
     ]
    },
    {
     "name": "stdout",
     "output_type": "stream",
     "text": [
      "\n",
      "Metrics: {'train_loss': 0.04970578042169412, 'test_loss': 0.7794952257113024, 'bleu': 25.6623, 'gen_len': 9.3765}\n",
      "\n",
      "=============================\n",
      "\n"
     ]
    },
    {
     "name": "stderr",
     "output_type": "stream",
     "text": [
      " 42%|████▏     | 14/33 [09:57<13:34, 42.86s/it]"
     ]
    },
    {
     "name": "stdout",
     "output_type": "stream",
     "text": [
      "For epoch 20: \n",
      "{Learning rate: [0.004298760249613478]}\n"
     ]
    },
    {
     "name": "stderr",
     "output_type": "stream",
     "text": [
      "Train batch number 81: 100%|██████████| 81/81 [00:29<00:00,  2.71batches/s]\n",
      "Test batch number 11: 100%|██████████| 11/11 [00:05<00:00,  1.86batches/s]\n"
     ]
    },
    {
     "name": "stdout",
     "output_type": "stream",
     "text": [
      "\n",
      "Metrics: {'train_loss': 0.04741788341629284, 'test_loss': 0.783466249704361, 'bleu': 25.7619, 'gen_len': 9.2901}\n",
      "\n",
      "=============================\n",
      "\n"
     ]
    },
    {
     "name": "stderr",
     "output_type": "stream",
     "text": [
      " 45%|████▌     | 15/33 [10:38<12:40, 42.24s/it]"
     ]
    },
    {
     "name": "stdout",
     "output_type": "stream",
     "text": [
      "For epoch 21: \n",
      "{Learning rate: [0.004286728889943159]}\n"
     ]
    },
    {
     "name": "stderr",
     "output_type": "stream",
     "text": [
      "Train batch number 81: 100%|██████████| 81/81 [00:30<00:00,  2.68batches/s]\n",
      "Test batch number 11: 100%|██████████| 11/11 [00:05<00:00,  1.97batches/s]\n"
     ]
    },
    {
     "name": "stdout",
     "output_type": "stream",
     "text": [
      "\n",
      "Metrics: {'train_loss': 0.044069838537662116, 'test_loss': 0.7942879606376995, 'bleu': 26.3913, 'gen_len': 9.0494}\n",
      "\n",
      "=============================\n",
      "\n"
     ]
    },
    {
     "name": "stderr",
     "output_type": "stream",
     "text": [
      " 48%|████▊     | 16/33 [11:19<11:50, 41.77s/it]"
     ]
    },
    {
     "name": "stdout",
     "output_type": "stream",
     "text": [
      "For epoch 22: \n",
      "{Learning rate: [0.0042746975302728404]}\n"
     ]
    },
    {
     "name": "stderr",
     "output_type": "stream",
     "text": [
      "Train batch number 81: 100%|██████████| 81/81 [00:30<00:00,  2.68batches/s]\n",
      "Test batch number 11: 100%|██████████| 11/11 [00:09<00:00,  1.17batches/s]\n"
     ]
    },
    {
     "name": "stdout",
     "output_type": "stream",
     "text": [
      "\n",
      "Metrics: {'train_loss': 0.04251272531433238, 'test_loss': 0.7614076218821786, 'bleu': 27.835, 'gen_len': 8.9753}\n",
      "\n",
      "=============================\n",
      "\n"
     ]
    },
    {
     "name": "stderr",
     "output_type": "stream",
     "text": [
      " 52%|█████▏    | 17/33 [12:07<11:41, 43.82s/it]"
     ]
    },
    {
     "name": "stdout",
     "output_type": "stream",
     "text": [
      "For epoch 23: \n",
      "{Learning rate: [0.004262666170602522]}\n"
     ]
    },
    {
     "name": "stderr",
     "output_type": "stream",
     "text": [
      "Train batch number 81: 100%|██████████| 81/81 [00:32<00:00,  2.48batches/s]\n",
      "Test batch number 11: 100%|██████████| 11/11 [00:05<00:00,  1.94batches/s]\n"
     ]
    },
    {
     "name": "stdout",
     "output_type": "stream",
     "text": [
      "\n",
      "Metrics: {'train_loss': 0.040580205918278225, 'test_loss': 0.8087217916141857, 'bleu': 25.4685, 'gen_len': 9.0}\n",
      "\n",
      "=============================\n",
      "\n"
     ]
    },
    {
     "name": "stderr",
     "output_type": "stream",
     "text": [
      " 55%|█████▍    | 18/33 [12:51<10:55, 43.68s/it]"
     ]
    },
    {
     "name": "stdout",
     "output_type": "stream",
     "text": [
      "For epoch 24: \n",
      "{Learning rate: [0.004250634810932203]}\n"
     ]
    },
    {
     "name": "stderr",
     "output_type": "stream",
     "text": [
      "Train batch number 81: 100%|██████████| 81/81 [00:31<00:00,  2.54batches/s]\n",
      "Test batch number 11: 100%|██████████| 11/11 [00:06<00:00,  1.82batches/s]\n"
     ]
    },
    {
     "name": "stdout",
     "output_type": "stream",
     "text": [
      "\n",
      "Metrics: {'train_loss': 0.03505475988128671, 'test_loss': 0.7898375527425245, 'bleu': 25.9171, 'gen_len': 9.2222}\n",
      "\n",
      "=============================\n",
      "\n"
     ]
    },
    {
     "name": "stderr",
     "output_type": "stream",
     "text": [
      " 58%|█████▊    | 19/33 [13:34<10:08, 43.49s/it]"
     ]
    },
    {
     "name": "stdout",
     "output_type": "stream",
     "text": [
      "For epoch 25: \n",
      "{Learning rate: [0.004238603451261884]}\n"
     ]
    },
    {
     "name": "stderr",
     "output_type": "stream",
     "text": [
      "Train batch number 81: 100%|██████████| 81/81 [00:32<00:00,  2.53batches/s]\n",
      "Test batch number 11: 100%|██████████| 11/11 [00:06<00:00,  1.76batches/s]\n"
     ]
    },
    {
     "name": "stdout",
     "output_type": "stream",
     "text": [
      "\n",
      "Metrics: {'train_loss': 0.03586838772681392, 'test_loss': 0.800873802466826, 'bleu': 24.7587, 'gen_len': 9.0864}\n",
      "\n",
      "=============================\n",
      "\n"
     ]
    },
    {
     "name": "stderr",
     "output_type": "stream",
     "text": [
      " 61%|██████    | 20/33 [14:17<09:24, 43.40s/it]"
     ]
    },
    {
     "name": "stdout",
     "output_type": "stream",
     "text": [
      "For epoch 26: \n",
      "{Learning rate: [0.0042265720915915655]}\n"
     ]
    },
    {
     "name": "stderr",
     "output_type": "stream",
     "text": [
      "Train batch number 81: 100%|██████████| 81/81 [00:31<00:00,  2.56batches/s]\n",
      "Test batch number 11: 100%|██████████| 11/11 [00:05<00:00,  1.94batches/s]\n"
     ]
    },
    {
     "name": "stdout",
     "output_type": "stream",
     "text": [
      "\n",
      "Metrics: {'train_loss': 0.03539945952088377, 'test_loss': 0.7963053042238409, 'bleu': 21.5551, 'gen_len': 8.6605}\n",
      "\n",
      "=============================\n",
      "\n"
     ]
    },
    {
     "name": "stderr",
     "output_type": "stream",
     "text": [
      " 64%|██████▎   | 21/33 [14:59<08:36, 43.07s/it]"
     ]
    },
    {
     "name": "stdout",
     "output_type": "stream",
     "text": [
      "For epoch 27: \n",
      "{Learning rate: [0.004214540731921248]}\n"
     ]
    },
    {
     "name": "stderr",
     "output_type": "stream",
     "text": [
      "Train batch number 81: 100%|██████████| 81/81 [00:31<00:00,  2.54batches/s]\n",
      "Test batch number 11: 100%|██████████| 11/11 [00:06<00:00,  1.83batches/s]\n"
     ]
    },
    {
     "name": "stdout",
     "output_type": "stream",
     "text": [
      "\n",
      "Metrics: {'train_loss': 0.033774761816509714, 'test_loss': 0.8456346528096632, 'bleu': 25.776, 'gen_len': 8.784}\n",
      "\n",
      "=============================\n",
      "\n"
     ]
    },
    {
     "name": "stderr",
     "output_type": "stream",
     "text": [
      " 67%|██████▋   | 22/33 [15:42<07:53, 43.05s/it]"
     ]
    },
    {
     "name": "stdout",
     "output_type": "stream",
     "text": [
      "For epoch 28: \n",
      "{Learning rate: [0.004202509372250928]}\n"
     ]
    },
    {
     "name": "stderr",
     "output_type": "stream",
     "text": [
      "Train batch number 81: 100%|██████████| 81/81 [00:31<00:00,  2.55batches/s]\n",
      "Test batch number 11: 100%|██████████| 11/11 [00:05<00:00,  1.86batches/s]\n"
     ]
    },
    {
     "name": "stdout",
     "output_type": "stream",
     "text": [
      "\n",
      "Metrics: {'train_loss': 0.03257016290301158, 'test_loss': 0.7702595320614901, 'bleu': 25.0199, 'gen_len': 8.9259}\n",
      "\n",
      "=============================\n",
      "\n"
     ]
    },
    {
     "name": "stderr",
     "output_type": "stream",
     "text": [
      " 70%|██████▉   | 23/33 [16:25<07:09, 42.90s/it]"
     ]
    },
    {
     "name": "stdout",
     "output_type": "stream",
     "text": [
      "For epoch 29: \n",
      "{Learning rate: [0.00419047801258061]}\n"
     ]
    },
    {
     "name": "stderr",
     "output_type": "stream",
     "text": [
      "Train batch number 81: 100%|██████████| 81/81 [00:32<00:00,  2.50batches/s]\n",
      "Test batch number 11: 100%|██████████| 11/11 [00:06<00:00,  1.67batches/s]\n"
     ]
    },
    {
     "name": "stdout",
     "output_type": "stream",
     "text": [
      "\n",
      "Metrics: {'train_loss': 0.03132609327404219, 'test_loss': 0.7884309589862823, 'bleu': 27.738, 'gen_len': 9.0185}\n",
      "\n",
      "=============================\n",
      "\n"
     ]
    },
    {
     "name": "stderr",
     "output_type": "stream",
     "text": [
      " 73%|███████▎  | 24/33 [17:09<06:29, 43.23s/it]"
     ]
    },
    {
     "name": "stdout",
     "output_type": "stream",
     "text": [
      "For epoch 30: \n",
      "{Learning rate: [0.0041784466529102915]}\n"
     ]
    },
    {
     "name": "stderr",
     "output_type": "stream",
     "text": [
      "Train batch number 81: 100%|██████████| 81/81 [00:31<00:00,  2.53batches/s]\n",
      "Test batch number 11: 100%|██████████| 11/11 [00:06<00:00,  1.67batches/s]\n"
     ]
    },
    {
     "name": "stdout",
     "output_type": "stream",
     "text": [
      "\n",
      "Metrics: {'train_loss': 0.031160937518709235, 'test_loss': 0.8155831342393701, 'bleu': 26.2783, 'gen_len': 9.216}\n",
      "\n",
      "=============================\n",
      "\n"
     ]
    },
    {
     "name": "stderr",
     "output_type": "stream",
     "text": [
      " 76%|███████▌  | 25/33 [17:52<05:46, 43.34s/it]"
     ]
    },
    {
     "name": "stdout",
     "output_type": "stream",
     "text": [
      "For epoch 31: \n",
      "{Learning rate: [0.004166415293239973]}\n"
     ]
    },
    {
     "name": "stderr",
     "output_type": "stream",
     "text": [
      "Train batch number 81: 100%|██████████| 81/81 [00:32<00:00,  2.51batches/s]\n",
      "Test batch number 11: 100%|██████████| 11/11 [00:06<00:00,  1.75batches/s]\n"
     ]
    },
    {
     "name": "stdout",
     "output_type": "stream",
     "text": [
      "\n",
      "Metrics: {'train_loss': 0.028587909438359885, 'test_loss': 0.8173838284882632, 'bleu': 25.3065, 'gen_len': 8.8395}\n",
      "\n",
      "=============================\n",
      "\n"
     ]
    },
    {
     "name": "stderr",
     "output_type": "stream",
     "text": [
      " 79%|███████▉  | 26/33 [18:36<05:03, 43.38s/it]"
     ]
    },
    {
     "name": "stdout",
     "output_type": "stream",
     "text": [
      "For epoch 32: \n",
      "{Learning rate: [0.004154383933569654]}\n"
     ]
    },
    {
     "name": "stderr",
     "output_type": "stream",
     "text": [
      "Train batch number 81: 100%|██████████| 81/81 [00:31<00:00,  2.54batches/s]\n",
      "Test batch number 11: 100%|██████████| 11/11 [00:05<00:00,  1.85batches/s]\n"
     ]
    },
    {
     "name": "stdout",
     "output_type": "stream",
     "text": [
      "\n",
      "Metrics: {'train_loss': 0.030091128852448346, 'test_loss': 0.8217692781578411, 'bleu': 27.2199, 'gen_len': 8.7654}\n",
      "\n",
      "=============================\n",
      "\n"
     ]
    },
    {
     "name": "stderr",
     "output_type": "stream",
     "text": [
      " 82%|████████▏ | 27/33 [19:19<04:19, 43.26s/it]"
     ]
    },
    {
     "name": "stdout",
     "output_type": "stream",
     "text": [
      "For epoch 33: \n",
      "{Learning rate: [0.004142352573899335]}\n"
     ]
    },
    {
     "name": "stderr",
     "output_type": "stream",
     "text": [
      "Train batch number 81: 100%|██████████| 81/81 [00:31<00:00,  2.60batches/s]\n",
      "Test batch number 11: 100%|██████████| 11/11 [00:05<00:00,  1.88batches/s]\n"
     ]
    },
    {
     "name": "stdout",
     "output_type": "stream",
     "text": [
      "\n",
      "Metrics: {'train_loss': 0.025214611552655697, 'test_loss': 0.8171120042150671, 'bleu': 26.5924, 'gen_len': 8.8148}\n",
      "\n",
      "=============================\n",
      "\n"
     ]
    },
    {
     "name": "stderr",
     "output_type": "stream",
     "text": [
      " 85%|████████▍ | 28/33 [20:01<03:34, 42.87s/it]"
     ]
    },
    {
     "name": "stdout",
     "output_type": "stream",
     "text": [
      "For epoch 34: \n",
      "{Learning rate: [0.004130321214229017]}\n"
     ]
    },
    {
     "name": "stderr",
     "output_type": "stream",
     "text": [
      "Train batch number 81: 100%|██████████| 81/81 [00:31<00:00,  2.58batches/s]\n",
      "Test batch number 11: 100%|██████████| 11/11 [00:05<00:00,  1.88batches/s]\n"
     ]
    },
    {
     "name": "stdout",
     "output_type": "stream",
     "text": [
      "\n",
      "Metrics: {'train_loss': 0.02542266603214321, 'test_loss': 0.8667103539813649, 'bleu': 29.4469, 'gen_len': 9.0494}\n",
      "\n",
      "=============================\n",
      "\n"
     ]
    },
    {
     "name": "stderr",
     "output_type": "stream",
     "text": [
      " 88%|████████▊ | 29/33 [20:47<02:55, 43.91s/it]"
     ]
    },
    {
     "name": "stdout",
     "output_type": "stream",
     "text": [
      "For epoch 35: \n",
      "{Learning rate: [0.004118289854558698]}\n"
     ]
    },
    {
     "name": "stderr",
     "output_type": "stream",
     "text": [
      "Train batch number 81: 100%|██████████| 81/81 [00:31<00:00,  2.53batches/s]\n",
      "Test batch number 11: 100%|██████████| 11/11 [00:06<00:00,  1.77batches/s]\n"
     ]
    },
    {
     "name": "stdout",
     "output_type": "stream",
     "text": [
      "\n",
      "Metrics: {'train_loss': 0.0236053244371749, 'test_loss': 0.8332770195874301, 'bleu': 26.2814, 'gen_len': 8.9568}\n",
      "\n",
      "=============================\n",
      "\n"
     ]
    },
    {
     "name": "stderr",
     "output_type": "stream",
     "text": [
      " 91%|█████████ | 30/33 [21:30<02:10, 43.66s/it]"
     ]
    },
    {
     "name": "stdout",
     "output_type": "stream",
     "text": [
      "For epoch 36: \n",
      "{Learning rate: [0.00410625849488838]}\n"
     ]
    },
    {
     "name": "stderr",
     "output_type": "stream",
     "text": [
      "Train batch number 81: 100%|██████████| 81/81 [00:34<00:00,  2.36batches/s]\n",
      "Test batch number 11: 100%|██████████| 11/11 [00:06<00:00,  1.64batches/s]\n"
     ]
    },
    {
     "name": "stdout",
     "output_type": "stream",
     "text": [
      "\n",
      "Metrics: {'train_loss': 0.0228108750242326, 'test_loss': 0.8205140368504957, 'bleu': 27.2947, 'gen_len': 9.1481}\n",
      "\n",
      "=============================\n",
      "\n"
     ]
    },
    {
     "name": "stderr",
     "output_type": "stream",
     "text": [
      " 94%|█████████▍| 31/33 [22:17<01:28, 44.46s/it]"
     ]
    },
    {
     "name": "stdout",
     "output_type": "stream",
     "text": [
      "For epoch 37: \n",
      "{Learning rate: [0.0040942271352180605]}\n"
     ]
    },
    {
     "name": "stderr",
     "output_type": "stream",
     "text": [
      "Train batch number 81: 100%|██████████| 81/81 [00:44<00:00,  1.82batches/s]\n",
      "Test batch number 11: 100%|██████████| 11/11 [00:06<00:00,  1.70batches/s]\n"
     ]
    },
    {
     "name": "stdout",
     "output_type": "stream",
     "text": [
      "\n",
      "Metrics: {'train_loss': 0.023205325953133495, 'test_loss': 0.8322500261393461, 'bleu': 25.8876, 'gen_len': 9.0556}\n",
      "\n",
      "=============================\n",
      "\n"
     ]
    },
    {
     "name": "stderr",
     "output_type": "stream",
     "text": [
      " 97%|█████████▋| 32/33 [23:13<00:47, 47.94s/it]"
     ]
    },
    {
     "name": "stdout",
     "output_type": "stream",
     "text": [
      "For epoch 38: \n",
      "{Learning rate: [0.004082195775547743]}\n"
     ]
    },
    {
     "name": "stderr",
     "output_type": "stream",
     "text": [
      "Train batch number 81: 100%|██████████| 81/81 [00:39<00:00,  2.07batches/s]\n",
      "Test batch number 11: 100%|██████████| 11/11 [00:06<00:00,  1.65batches/s]\n"
     ]
    },
    {
     "name": "stdout",
     "output_type": "stream",
     "text": [
      "\n",
      "Metrics: {'train_loss': 0.021301987075051407, 'test_loss': 0.8493013381958008, 'bleu': 23.8245, 'gen_len': 9.1296}\n",
      "\n",
      "=============================\n",
      "\n"
     ]
    },
    {
     "name": "stderr",
     "output_type": "stream",
     "text": [
      "100%|██████████| 33/33 [24:04<00:00, 43.77s/it]\n"
     ]
    }
   ],
   "source": [
    "trainer.train(epochs = config['epochs'] - trainer.current_epoch, auto_save=True, metric_for_best_model='bleu', metric_objective='maximize', log_step=1,\n",
    "              saving_directory = config['new_model_dir'])"
   ]
  },
  {
   "attachments": {},
   "cell_type": "markdown",
   "metadata": {},
   "source": [
    "### --- Cosine"
   ]
  },
  {
   "cell_type": "code",
   "execution_count": null,
   "metadata": {},
   "outputs": [],
   "source": [
    "trainer.train(epochs = config['epochs'] - trainer.current_epoch, auto_save=True, metric_for_best_model='bleu', metric_objective='maximize', log_step=1,\n",
    "              saving_directory = config['new_model_dir'])"
   ]
  },
  {
   "attachments": {},
   "cell_type": "markdown",
   "metadata": {},
   "source": [
    "### ---"
   ]
  },
  {
   "cell_type": "code",
   "execution_count": null,
   "metadata": {},
   "outputs": [],
   "source": [
    "trainer.train(epochs = config['epochs'] - trainer.current_epoch, auto_save=True, metric_for_best_model='bleu', metric_objective='maximize', log_step=1,\n",
    "              saving_directory = config['new_model_dir'])"
   ]
  },
  {
   "attachments": {},
   "cell_type": "markdown",
   "metadata": {},
   "source": [
    "### ---"
   ]
  },
  {
   "cell_type": "code",
   "execution_count": null,
   "metadata": {},
   "outputs": [],
   "source": [
    "trainer.train(epochs = config['epochs'] - trainer.current_epoch, auto_save=True, metric_for_best_model='bleu', metric_objective='maximize', log_step=1,\n",
    "              saving_directory = config['new_model_dir'])"
   ]
  },
  {
   "attachments": {},
   "cell_type": "markdown",
   "metadata": {
    "id": "sQVOIX4lqGMg"
   },
   "source": [
    "### Predictions and Evaluation"
   ]
  },
  {
   "cell_type": "code",
   "execution_count": 12,
   "metadata": {},
   "outputs": [],
   "source": [
    "# initialize the transformation sequence\n",
    "end_mark_fn = partial(add_end_mark)\n",
    "fr_augmentation = TransformerSequences(remove_mark_space, delete_guillemet_space, add_mark_space, end_mark_fn)\n",
    "\n",
    "# let us get the test set\n",
    "test_dataset = SentenceDataset(f\"data/extractions/new_data/test_set.csv\",\n",
    "                                        tokenizer = tokenizer,\n",
    "                                        cp1_transformer = fr_augmentation,\n",
    "                                        cp2_transformer = fr_augmentation,\n",
    "                                        truncation = True, add_bos_token=True)"
   ]
  },
  {
   "attachments": {},
   "cell_type": "markdown",
   "metadata": {
    "id": "W_iGdw-LLAJz"
   },
   "source": [
    "Let us make the evaluation and print the predicted sentences."
   ]
  },
  {
   "cell_type": "code",
   "execution_count": 13,
   "metadata": {},
   "outputs": [
    {
     "name": "stderr",
     "output_type": "stream",
     "text": [
      "Evaluation batch number 11: 100%|██████████| 11/11 [00:06<00:00,  1.78batches/s]"
     ]
    },
    {
     "name": "stdout",
     "output_type": "stream",
     "text": [
      "predictions_: [[2, 1874, 195, 214, 6, 2, 1, 1, 1, 1, 1, 1, 1, 1, 1, 1, 1, 1], [2, 1928, 1418, 99, 157, 5, 264, 111, 16, 2, 1, 1, 1, 1, 1, 1, 1, 1], [2, 1678, 922, 71, 231, 17, 11, 6, 2, 1, 1, 1, 1, 1, 1, 1, 1, 1], [2, 1149, 273, 454, 17, 78, 58, 22, 49, 6, 2, 1, 1, 1, 1, 1, 1, 1], [2, 1598, 28, 155, 150, 227, 16, 2, 1, 1, 1, 1, 1, 1, 1, 1, 1, 1], [2, 1932, 15, 801, 89, 49, 6, 2, 1, 1, 1, 1, 1, 1, 1, 1, 1, 1], [2, 1678, 20, 1125, 19, 1424, 89, 6, 2, 1, 1, 1, 1, 1, 1, 1, 1, 1], [2, 1932, 19, 473, 19, 88, 33, 58, 22, 49, 54, 14, 329, 119, 1190, 553, 16, 2], [2, 1678, 15, 1432, 99, 5, 8, 2, 1, 1, 1, 1, 1, 1, 1, 1, 1, 1], [2, 1929, 15, 454, 620, 138, 297, 115, 17, 5, 8, 2, 1, 1, 1, 1, 1, 1], [2, 1928, 1299, 604, 10, 127, 336, 14, 6, 2, 1, 1, 1, 1, 1, 1, 1, 1], [2, 1931, 75, 56, 126, 81, 16, 2, 1, 1, 1, 1, 1, 1, 1, 1, 1, 1], [2, 1928, 785, 28, 31, 22, 471, 1418, 6, 2, 1, 1, 1, 1, 1, 1, 1, 1], [2, 390, 31, 22, 14, 6, 2, 1, 1, 1, 1, 1, 1, 1, 1, 1, 1, 1], [2, 1930, 75, 261, 6, 2, 1, 1, 1, 1, 1, 1, 1, 1, 1, 1, 1, 1], [2, 390, 31, 22, 1336, 28, 94, 74, 120, 5, 264, 104, 6, 2, 1, 1, 1, 1], [2, 1932, 19, 1362, 27, 80, 46, 6, 2, 1, 1, 1, 1, 1, 1, 1, 1], [2, 1932, 996, 15, 163, 409, 419, 27, 51, 5, 8, 2, 1, 1, 1, 1, 1], [2, 1921, 20, 318, 567, 1725, 14, 5, 8, 2, 1, 1, 1, 1, 1, 1, 1], [2, 1931, 452, 95, 270, 49, 5, 8, 2, 1, 1, 1, 1, 1, 1, 1, 1], [2, 1928, 20, 26, 288, 1307, 6, 2, 1, 1, 1, 1, 1, 1, 1, 1, 1], [2, 1687, 371, 435, 6, 2, 1, 1, 1, 1, 1, 1, 1, 1, 1, 1, 1], [2, 1598, 27, 80, 345, 5, 8, 2, 1, 1, 1, 1, 1, 1, 1, 1, 1], [2, 1932, 19, 123, 10, 78, 111, 168, 6, 2, 1, 1, 1, 1, 1, 1, 1], [2, 1929, 519, 356, 11, 6, 2, 1, 1, 1, 1, 1, 1, 1, 1, 1, 1], [2, 1598, 33, 155, 150, 227, 16, 2, 1, 1, 1, 1, 1, 1, 1, 1, 1], [2, 1918, 15, 444, 220, 586, 16, 2, 1, 1, 1, 1, 1, 1, 1, 1, 1], [2, 1923, 404, 33, 80, 76, 6, 2, 1, 1, 1, 1, 1, 1, 1, 1, 1], [2, 1932, 19, 123, 514, 16, 2, 1, 1, 1, 1, 1, 1, 1, 1, 1, 1], [2, 1931, 452, 49, 5, 8, 2, 1, 1, 1, 1, 1, 1, 1, 1, 1, 1], [2, 1932, 15, 363, 660, 28, 1599, 157, 678, 660, 1207, 168, 50, 389, 84, 6, 2], [2, 1687, 727, 201, 5, 8, 2, 1, 1, 1, 1, 1, 1, 1, 1, 1, 1], [2, 1928, 15, 26, 288, 89, 6, 2, 1, 1, 1, 1, 1, 1, 1, 1, 1, 1, 1, 1], [2, 1931, 75, 344, 115, 17, 27, 81, 5, 8, 2, 1, 1, 1, 1, 1, 1, 1, 1, 1], [2, 1932, 19, 473, 19, 88, 28, 10, 380, 14, 10, 899, 387, 16, 2, 1, 1, 1, 1, 1], [2, 1931, 934, 236, 27, 6, 2, 1, 1, 1, 1, 1, 1, 1, 1, 1, 1, 1, 1, 1], [2, 1598, 27, 416, 5, 8, 2, 1, 1, 1, 1, 1, 1, 1, 1, 1, 1, 1, 1, 1], [2, 1930, 734, 182, 343, 173, 69, 80, 71, 61, 459, 167, 922, 10, 61, 459, 860, 759, 16, 2], [2, 1149, 1788, 33, 82, 176, 75, 195, 155, 931, 6, 2, 1, 1, 1, 1, 1, 1, 1, 1], [2, 1885, 208, 54, 5, 8, 2, 1, 1, 1, 1, 1, 1, 1, 1, 1, 1, 1, 1, 1], [2, 1918, 168, 104, 10, 58, 5, 364, 205, 178, 52, 11, 16, 2, 1, 1, 1, 1, 1, 1], [2, 1930, 788, 395, 111, 6, 2, 1, 1, 1, 1, 1, 1, 1, 1, 1, 1, 1, 1, 1], [2, 1929, 13, 74, 640, 256, 6, 2, 1, 1, 1, 1, 1, 1, 1, 1, 1, 1, 1, 1], [2, 1918, 20, 1341, 1723, 26, 11, 6, 2, 1, 1, 1, 1, 1, 1, 1, 1, 1, 1, 1], [2, 1598, 15, 288, 89, 6, 2, 1, 1, 1, 1, 1, 1, 1, 1, 1, 1, 1, 1, 1], [2, 390, 31, 22, 61, 1023, 45, 6, 2, 1, 1, 1, 1, 1, 1, 1, 1, 1, 1, 1], [2, 1932, 20, 181, 61, 56, 15, 722, 6, 2, 1, 1, 1, 1, 1, 1, 1, 1, 1, 1], [2, 390, 31, 22, 13, 79, 348, 6, 2, 1, 1, 1, 1, 1, 1, 1, 1, 1, 1, 1], [2, 1932, 168, 14, 5, 8, 2, 1, 1, 1], [2, 1932, 19, 123, 514, 16, 2, 1, 1, 1], [2, 1929, 13, 371, 14, 475, 2, 1, 1, 1], [2, 390, 31, 22, 81, 131, 6, 2, 1, 1], [2, 1885, 123, 28, 10, 162, 430, 11, 16, 2], [2, 1678, 1172, 15, 61, 1023, 45, 6, 2, 1], [2, 1917, 168, 482, 19, 1425, 1740, 5, 8, 2], [2, 1932, 19, 123, 463, 6, 2, 1, 1, 1], [2, 1912, 428, 663, 52, 126, 11, 501, 6, 2], [2, 1932, 100, 56, 15, 905, 182, 94, 16, 2], [2, 319, 13, 105, 11, 6, 2, 1, 1, 1], [2, 1932, 19, 123, 514, 16, 2, 1, 1, 1], [2, 1930, 19, 677, 17, 261, 16, 2, 1, 1], [2, 1921, 168, 926, 14, 475, 2, 1, 1, 1], [2, 1598, 28, 493, 443, 150, 6, 2, 1, 1], [2, 1931, 20, 20, 49, 195, 14, 16, 2, 1], [2, 1921, 168, 926, 50, 105, 6, 2, 1, 1, 1, 1, 1], [2, 1932, 19, 123, 514, 16, 2, 1, 1, 1, 1, 1, 1], [2, 1923, 404, 27, 80, 345, 5, 8, 2, 1, 1, 1, 1], [2, 1598, 33, 58, 1697, 14, 16, 2, 1, 1, 1, 1, 1], [2, 1928, 15, 26, 343, 603, 16, 2, 1, 1, 1, 1, 1], [2, 1932, 19, 123, 1389, 651, 16, 2, 1, 1, 1, 1, 1], [2, 1918, 1481, 33, 1616, 481, 6, 2, 1, 1, 1, 1, 1], [2, 1932, 19, 123, 222, 27, 6, 2, 1, 1, 1, 1, 1], [2, 1598, 33, 95, 71, 227, 6, 2, 1, 1, 1, 1, 1], [2, 1874, 10, 1189, 72, 10, 138, 6, 2, 1, 1, 1, 1], [2, 1912, 1665, 481, 419, 27, 51, 5, 8, 2, 1, 1, 1], [2, 1149, 273, 454, 17, 59, 154, 5, 8, 2, 1, 1, 1], [2, 1928, 1418, 5, 158, 127, 5, 370, 5, 8, 2, 1, 1], [2, 1874, 261, 16, 2, 1, 1, 1, 1, 1, 1, 1, 1], [2, 1932, 19, 473, 19, 33, 10, 176, 75, 396, 11, 16, 2], [2, 1929, 15, 205, 162, 430, 11, 6, 2, 1, 1, 1, 1], [2, 319, 13, 78, 5, 8, 2, 1, 1, 1, 1, 1, 1, 1], [2, 1918, 1481, 33, 5, 934, 344, 6, 2, 1, 1, 1, 1, 1], [2, 1921, 233, 138, 10, 170, 64, 900, 6, 2, 1, 1, 1, 1], [2, 1885, 123, 28, 378, 106, 6, 2, 1, 1, 1, 1, 1, 1], [2, 1933, 19, 920, 1458, 1388, 126, 16, 2, 1, 1, 1, 1, 1], [2, 1598, 33, 313, 6, 2, 1, 1, 1, 1, 1, 1, 1, 1], [2, 1912, 1743, 768, 27, 49, 10, 54, 363, 14, 6, 2, 1, 1], [2, 1918, 19, 63, 99, 323, 75, 84, 6, 2, 1, 1, 1, 1], [2, 1885, 208, 54, 5, 8, 2, 1, 1, 1, 1, 1, 1, 1], [2, 1149, 273, 454, 17, 5, 8, 2, 1, 1, 1, 1, 1, 1], [2, 1687, 45, 99, 276, 294, 5, 8, 2, 1, 1, 1, 1, 1], [2, 1929, 519, 94, 52, 50, 554, 144, 15, 356, 22, 11, 6, 2], [2, 1932, 19, 123, 210, 6, 2, 1, 1, 1, 1, 1, 1, 1], [2, 1923, 404, 805, 19, 33, 58, 151, 1050, 1821, 261, 6, 2, 1], [2, 1925, 13, 514, 288, 6, 2, 1, 1, 1, 1, 1, 1, 1], [2, 1923, 112, 781, 645, 16, 2, 1, 1, 1, 1, 1, 1, 1], [2, 390, 31, 22, 14, 6, 2, 1, 1, 1, 1, 1, 1], [2, 1932, 19, 123, 210, 16, 2, 1, 1, 1, 1, 1, 1], [2, 1929, 15, 9, 20, 20, 6, 2, 1, 1, 1, 1, 1], [2, 1918, 19, 63, 100, 344, 16, 2, 1, 1, 1, 1, 1], [2, 1917, 168, 908, 11, 76, 76, 231, 45, 81, 651, 6, 2], [2, 1687, 20, 74, 14, 50, 293, 16, 2, 1, 1, 1, 1], [2, 1925, 1571, 69, 5, 370, 14, 5, 8, 2, 1, 1, 1], [2, 390, 31, 22, 256, 59, 444, 220, 586, 16, 2, 1, 1], [2, 1932, 19, 123, 119, 6, 2, 1, 1, 1, 1, 1, 1], [2, 1917, 168, 908, 27, 14, 229, 6, 2, 1, 1, 1, 1], [2, 1598, 27, 56, 742, 5, 8, 2, 1, 1, 1, 1, 1], [2, 1929, 1723, 80, 71, 575, 210, 5, 8, 2, 1, 1, 1], [2, 1678, 626, 77, 471, 1517, 28, 1859, 1578, 6, 2, 1, 1], [2, 1687, 17, 27, 594, 5, 8, 2, 1, 1, 1, 1, 1], [2, 390, 31, 5, 728, 94, 371, 16, 2, 1, 1, 1, 1], [2, 1923, 618, 1563, 126, 51, 5, 8, 2, 1, 1, 1, 1], [2, 1921, 168, 81, 5, 8, 2, 1, 1, 1, 1, 1, 1, 1, 1, 1], [2, 1598, 27, 160, 567, 1725, 14, 5, 8, 2, 1, 1, 1, 1, 1, 1], [2, 1932, 168, 14, 10, 899, 387, 5, 8, 2, 1, 1, 1, 1, 1, 1], [2, 1932, 15, 58, 6, 2, 1, 1, 1, 1, 1, 1, 1, 1, 1, 1], [2, 1149, 273, 270, 154, 5, 8, 2, 1, 1, 1, 1, 1, 1, 1, 1], [2, 1912, 428, 84, 894, 699, 11, 277, 791, 6, 2, 1, 1, 1, 1, 1], [2, 1932, 19, 123, 475, 2, 1, 1, 1, 1, 1, 1, 1, 1, 1, 1], [2, 1874, 396, 50, 445, 730, 6, 2, 1, 1, 1, 1, 1, 1, 1, 1], [2, 1931, 1481, 14, 119, 6, 2, 1, 1, 1, 1, 1, 1, 1, 1, 1], [2, 1598, 27, 56, 839, 5, 8, 2, 1, 1, 1, 1, 1, 1, 1, 1], [2, 1917, 570, 1264, 154, 131, 6, 2, 1, 1, 1, 1, 1, 1, 1, 1], [2, 1923, 614, 245, 202, 154, 5, 8, 2, 1, 1, 1, 1, 1, 1, 1], [2, 1687, 20, 371, 81, 288, 10, 27, 1353, 908, 56, 195, 71, 182, 6, 2], [2, 1928, 785, 99, 294, 276, 16, 2, 1, 1, 1, 1, 1, 1, 1, 1], [2, 1929, 13, 371, 61, 14, 16, 2, 1, 1, 1, 1, 1, 1, 1, 1], [2, 1928, 1172, 58, 22, 269, 916, 698, 301, 16, 2, 1, 1, 1, 1, 1], [2, 1885, 208, 58, 22, 5, 8, 2, 1, 1, 1, 1, 1, 1], [2, 1687, 45, 99, 276, 294, 16, 2, 1, 1, 1, 1, 1, 1], [2, 1928, 890, 19, 23, 10, 195, 54, 81, 10, 27, 23, 16, 2], [2, 1687, 20, 371, 14, 475, 2, 1, 1, 1, 1, 1, 1, 1], [2, 1923, 404, 27, 80, 345, 5, 8, 2, 1, 1, 1, 1, 1], [2, 1917, 452, 5, 8, 2, 1, 1, 1, 1, 1, 1, 1, 1], [2, 1678, 1466, 355, 5, 8, 2, 1, 1, 1, 1, 1, 1, 1], [2, 1687, 45, 33, 50, 445, 730, 6, 2, 1, 1, 1, 1, 1], [2, 1928, 15, 26, 288, 1307, 16, 2, 1, 1, 1, 1, 1, 1], [2, 1929, 168, 79, 6, 2, 1, 1, 1, 1, 1, 1, 1, 1], [2, 1918, 15, 14, 83, 475, 2, 1, 1, 1, 1, 1, 1, 1], [2, 1923, 404, 805, 19, 88, 27, 51, 5, 8, 2, 1, 1, 1], [2, 1925, 20, 5, 8, 2, 1, 1, 1, 1, 1, 1, 1, 1], [2, 1687, 727, 201, 16, 2, 1, 1, 1, 1, 1, 1, 1, 1], [2, 390, 31, 853, 74, 6, 2, 1, 1, 1, 1, 1, 1, 1], [2, 1149, 112, 1693, 127, 389, 84, 16, 2, 1, 1, 1, 1, 1], [2, 1932, 15, 49, 10, 403, 33, 16, 2, 1, 1, 1, 1, 1, 1, 1, 1], [2, 390, 31, 22, 61, 1023, 45, 6, 2, 1, 1, 1, 1, 1, 1, 1, 1], [2, 1678, 1172, 15, 11, 16, 2, 1, 1, 1, 1, 1, 1, 1, 1, 1, 1], [2, 390, 31, 22, 51, 131, 6, 2, 1, 1, 1, 1, 1, 1, 1, 1, 1], [2, 1925, 406, 934, 196, 5, 734, 620, 155, 76, 277, 825, 202, 82, 166, 6, 2], [2, 1921, 75, 77, 49, 6, 2, 1, 1, 1, 1, 1, 1, 1, 1, 1, 1], [2, 1923, 618, 1038, 126, 51, 6, 2, 1, 1, 1, 1, 1, 1, 1, 1, 1], [2, 1930, 788, 395, 111, 899, 387, 16, 2, 1, 1, 1, 1, 1, 1, 1, 1], [2, 1921, 75, 59, 74, 6, 2, 1, 1, 1, 1, 1, 1, 1, 1, 1, 1], [2, 1921, 233, 138, 10, 170, 64, 900, 6, 2, 1, 1, 1, 1, 1, 1, 1], [2, 1885, 208, 54, 5, 8, 2, 1, 1, 1, 1, 1, 1, 1, 1, 1, 1], [2, 1932, 15, 396, 10, 403, 33, 6, 2, 1, 1, 1, 1, 1, 1, 1, 1], [2, 1928, 15, 26, 343, 603, 16, 2, 1, 1, 1, 1, 1, 1, 1, 1, 1], [2, 1923, 618, 84, 1427, 26, 11, 51, 6, 2, 1, 1, 1, 1, 1, 1, 1], [2, 1598, 33, 1540, 465, 555, 22, 203, 51, 6, 2, 1, 1, 1, 1, 1, 1], [2, 1923, 614, 199, 428, 297, 126, 51, 16, 2, 1, 1, 1, 1, 1, 1, 1], [2, 1931, 20, 74, 111, 168, 6, 2]]\n"
     ]
    },
    {
     "name": "stderr",
     "output_type": "stream",
     "text": [
      "\n"
     ]
    }
   ],
   "source": [
    "# evaluation with test set\n",
    "df_ft_to_wf = trainer.evaluate(test_dataset)"
   ]
  },
  {
   "cell_type": "code",
   "execution_count": 14,
   "metadata": {},
   "outputs": [
    {
     "data": {
      "text/html": [
       "<div>\n",
       "<style scoped>\n",
       "    .dataframe tbody tr th:only-of-type {\n",
       "        vertical-align: middle;\n",
       "    }\n",
       "\n",
       "    .dataframe tbody tr th {\n",
       "        vertical-align: top;\n",
       "    }\n",
       "\n",
       "    .dataframe thead th {\n",
       "        text-align: right;\n",
       "    }\n",
       "</style>\n",
       "<table border=\"1\" class=\"dataframe\">\n",
       "  <thead>\n",
       "    <tr style=\"text-align: right;\">\n",
       "      <th></th>\n",
       "      <th>original_sentences</th>\n",
       "      <th>translations</th>\n",
       "      <th>predictions</th>\n",
       "    </tr>\n",
       "  </thead>\n",
       "  <tbody>\n",
       "    <tr>\n",
       "      <th>151</th>\n",
       "      <td>Ceux-ci ne sont peut-être pas partis!</td>\n",
       "      <td>Ñii dañu demul xanaa!</td>\n",
       "      <td>Ñii dañu demul xanaa!</td>\n",
       "    </tr>\n",
       "    <tr>\n",
       "      <th>152</th>\n",
       "      <td>En voilà un autre.</td>\n",
       "      <td>Keneen a ŋgi.</td>\n",
       "      <td>Keneen a ŋgi.</td>\n",
       "    </tr>\n",
       "    <tr>\n",
       "      <th>153</th>\n",
       "      <td>Dans ce cas, je pars.</td>\n",
       "      <td>Bon nag, maa ŋgi dem.</td>\n",
       "      <td>Kon nag, dàwul.</td>\n",
       "    </tr>\n",
       "    <tr>\n",
       "      <th>154</th>\n",
       "      <td>Où est NGor?</td>\n",
       "      <td>Ana ŋgoor?</td>\n",
       "      <td>Ana mu?</td>\n",
       "    </tr>\n",
       "    <tr>\n",
       "      <th>155</th>\n",
       "      <td>Je crois que ce n'est pas celui-ci, ce n'est p...</td>\n",
       "      <td>Defe naa du kookuu, du kookee.</td>\n",
       "      <td>Du kii, defe naa.</td>\n",
       "    </tr>\n",
       "    <tr>\n",
       "      <th>156</th>\n",
       "      <td>C'est leur ami!</td>\n",
       "      <td>Suñu xarit la!</td>\n",
       "      <td>Wutël leneen!</td>\n",
       "    </tr>\n",
       "    <tr>\n",
       "      <th>157</th>\n",
       "      <td>L'enfant dit d'entrer pour qu'il vous voie.</td>\n",
       "      <td>Xale bi ne ŋgeen dugg mu gis leen.</td>\n",
       "      <td>Xale bi tawat la wax.</td>\n",
       "    </tr>\n",
       "    <tr>\n",
       "      <th>158</th>\n",
       "      <td>J'ai vu cet homme qui parlait et qui était ass...</td>\n",
       "      <td>Gis naa góor gi doon wax te toogoon ci suuf.</td>\n",
       "      <td>Gis naa googii gan gi doon wax.</td>\n",
       "    </tr>\n",
       "    <tr>\n",
       "      <th>159</th>\n",
       "      <td>Aide-les à cause de ceux-là!</td>\n",
       "      <td>Dimëlé leen ŋgir ñooñe!</td>\n",
       "      <td>Xar yenn yooyu laa wax!</td>\n",
       "    </tr>\n",
       "    <tr>\n",
       "      <th>160</th>\n",
       "      <td>Il demande si tu aurais été.</td>\n",
       "      <td>Mi ŋgiy laaj ndax demkoon ŋga.</td>\n",
       "      <td>Ya ŋgi demuloo.</td>\n",
       "    </tr>\n",
       "  </tbody>\n",
       "</table>\n",
       "</div>"
      ],
      "text/plain": [
       "                                    original_sentences  \\\n",
       "151              Ceux-ci ne sont peut-être pas partis!   \n",
       "152                                 En voilà un autre.   \n",
       "153                              Dans ce cas, je pars.   \n",
       "154                                       Où est NGor?   \n",
       "155  Je crois que ce n'est pas celui-ci, ce n'est p...   \n",
       "156                                    C'est leur ami!   \n",
       "157        L'enfant dit d'entrer pour qu'il vous voie.   \n",
       "158  J'ai vu cet homme qui parlait et qui était ass...   \n",
       "159                       Aide-les à cause de ceux-là!   \n",
       "160                       Il demande si tu aurais été.   \n",
       "\n",
       "                                     translations  \\\n",
       "151                         Ñii dañu demul xanaa!   \n",
       "152                                 Keneen a ŋgi.   \n",
       "153                         Bon nag, maa ŋgi dem.   \n",
       "154                                    Ana ŋgoor?   \n",
       "155                Defe naa du kookuu, du kookee.   \n",
       "156                                Suñu xarit la!   \n",
       "157            Xale bi ne ŋgeen dugg mu gis leen.   \n",
       "158  Gis naa góor gi doon wax te toogoon ci suuf.   \n",
       "159                       Dimëlé leen ŋgir ñooñe!   \n",
       "160                Mi ŋgiy laaj ndax demkoon ŋga.   \n",
       "\n",
       "                         predictions  \n",
       "151            Ñii dañu demul xanaa!  \n",
       "152                    Keneen a ŋgi.  \n",
       "153                  Kon nag, dàwul.  \n",
       "154                          Ana mu?  \n",
       "155                Du kii, defe naa.  \n",
       "156                    Wutël leneen!  \n",
       "157            Xale bi tawat la wax.  \n",
       "158  Gis naa googii gan gi doon wax.  \n",
       "159          Xar yenn yooyu laa wax!  \n",
       "160                  Ya ŋgi demuloo.  "
      ]
     },
     "execution_count": 14,
     "metadata": {},
     "output_type": "execute_result"
    }
   ],
   "source": [
    "df_ft_to_wf[1].tail(10)"
   ]
  },
  {
   "cell_type": "code",
   "execution_count": 15,
   "metadata": {},
   "outputs": [
    {
     "data": {
      "text/html": [
       "<div>\n",
       "<style scoped>\n",
       "    .dataframe tbody tr th:only-of-type {\n",
       "        vertical-align: middle;\n",
       "    }\n",
       "\n",
       "    .dataframe tbody tr th {\n",
       "        vertical-align: top;\n",
       "    }\n",
       "\n",
       "    .dataframe thead th {\n",
       "        text-align: right;\n",
       "    }\n",
       "</style>\n",
       "<table border=\"1\" class=\"dataframe\">\n",
       "  <thead>\n",
       "    <tr style=\"text-align: right;\">\n",
       "      <th></th>\n",
       "      <th>original_sentences</th>\n",
       "      <th>translations</th>\n",
       "      <th>predictions</th>\n",
       "    </tr>\n",
       "  </thead>\n",
       "  <tbody>\n",
       "    <tr>\n",
       "      <th>76</th>\n",
       "      <td>Converser avec lequel?</td>\n",
       "      <td>Waxtaan ak kenn kan?</td>\n",
       "      <td>Waxtaan ak kenn kan?</td>\n",
       "    </tr>\n",
       "    <tr>\n",
       "      <th>47</th>\n",
       "      <td>Cet homme qui était parti.</td>\n",
       "      <td>Góor gii demoon.</td>\n",
       "      <td>Góor gii bëggóon.</td>\n",
       "    </tr>\n",
       "    <tr>\n",
       "      <th>94</th>\n",
       "      <td>Dites-lui.</td>\n",
       "      <td>Nileen ka.</td>\n",
       "      <td>Nileen leen.</td>\n",
       "    </tr>\n",
       "    <tr>\n",
       "      <th>158</th>\n",
       "      <td>J'ai vu cet homme qui parlait et qui était ass...</td>\n",
       "      <td>Gis naa góor gi doon wax te toogoon ci suuf.</td>\n",
       "      <td>Gis naa googii gan gi doon wax.</td>\n",
       "    </tr>\n",
       "    <tr>\n",
       "      <th>38</th>\n",
       "      <td>Je l'ai donné à quelqu'un de meilleur que lui.</td>\n",
       "      <td>May naa ka keneen ku ka gën.</td>\n",
       "      <td>Jox naa ka keneen ku sawar.</td>\n",
       "    </tr>\n",
       "    <tr>\n",
       "      <th>91</th>\n",
       "      <td>Vers cet autre qui est devant la porte de la m...</td>\n",
       "      <td>Ci keneen ki ci buntu kër gi.</td>\n",
       "      <td>Moom mile ci buntu kër gi la.</td>\n",
       "    </tr>\n",
       "    <tr>\n",
       "      <th>15</th>\n",
       "      <td>L'homme dit qu'il serait peut-être là.</td>\n",
       "      <td>Góor gi nee na soo demee mi ŋgi fi.</td>\n",
       "      <td>Góor gi née na mi ŋgi fi soo demee.</td>\n",
       "    </tr>\n",
       "    <tr>\n",
       "      <th>113</th>\n",
       "      <td>As-tu vu ces autres femmes en question?</td>\n",
       "      <td>Gis ŋga jigéen ñeneen ñooñu?</td>\n",
       "      <td>Gis ŋga jigéen ñgay dem?</td>\n",
       "    </tr>\n",
       "    <tr>\n",
       "      <th>64</th>\n",
       "      <td>C'est celui-là à l'intérieur.</td>\n",
       "      <td>Kookule la ci biir.</td>\n",
       "      <td>Kooku ci biir.</td>\n",
       "    </tr>\n",
       "    <tr>\n",
       "      <th>57</th>\n",
       "      <td>Sois homme de ce pays!</td>\n",
       "      <td>Dil nitu réew mi!</td>\n",
       "      <td>Dil nitu réew mi!</td>\n",
       "    </tr>\n",
       "    <tr>\n",
       "      <th>89</th>\n",
       "      <td>À qui as-tu donné de l'argent?</td>\n",
       "      <td>Koo jox xaalis?</td>\n",
       "      <td>Jigéen jan?</td>\n",
       "    </tr>\n",
       "    <tr>\n",
       "      <th>96</th>\n",
       "      <td>L'homme est unique.</td>\n",
       "      <td>Góor gi kenn la.</td>\n",
       "      <td>Góor gi dem.</td>\n",
       "    </tr>\n",
       "    <tr>\n",
       "      <th>68</th>\n",
       "      <td>Cherche un autre cheval!</td>\n",
       "      <td>Seetal fas weneen!</td>\n",
       "      <td>Wutël leneen!</td>\n",
       "    </tr>\n",
       "    <tr>\n",
       "      <th>59</th>\n",
       "      <td>Pouah!</td>\n",
       "      <td>Cam!</td>\n",
       "      <td>Demleen!</td>\n",
       "    </tr>\n",
       "    <tr>\n",
       "      <th>109</th>\n",
       "      <td>C'est moi que tu appelles?</td>\n",
       "      <td>Man ŋga woo?</td>\n",
       "      <td>Man ŋga woo?</td>\n",
       "    </tr>\n",
       "    <tr>\n",
       "      <th>107</th>\n",
       "      <td>J'espère que c'est lui qui a été?</td>\n",
       "      <td>Mbaa móo dem?</td>\n",
       "      <td>Mbaa xale yi yeksi nañu?</td>\n",
       "    </tr>\n",
       "    <tr>\n",
       "      <th>26</th>\n",
       "      <td>S'il ne vient pas, eh bien, il verra!</td>\n",
       "      <td>Su ñëwul dana xam!</td>\n",
       "      <td>Su ñëwul dana xam!</td>\n",
       "    </tr>\n",
       "    <tr>\n",
       "      <th>4</th>\n",
       "      <td>Il a vu tous vos amis en question!</td>\n",
       "      <td>Gis na seeni xarit yooyu yépp!</td>\n",
       "      <td>Gis na sa xarit yépp!</td>\n",
       "    </tr>\n",
       "    <tr>\n",
       "      <th>63</th>\n",
       "      <td>À toi qui es-là!</td>\n",
       "      <td>Yaw mile mi fii!</td>\n",
       "      <td>Yaa ñëw ku dem!</td>\n",
       "    </tr>\n",
       "    <tr>\n",
       "      <th>37</th>\n",
       "      <td>Viens pour que les enfants soient des travaill...</td>\n",
       "      <td>Ñëwël ndax xale yi di mbër te it ñu di ay jamb...</td>\n",
       "      <td>Ñëwël ndax xale yi di ay liggéeykat, di ay jam...</td>\n",
       "    </tr>\n",
       "    <tr>\n",
       "      <th>132</th>\n",
       "      <td>Tu pars?</td>\n",
       "      <td>Dem ŋga?</td>\n",
       "      <td>Xam ŋga xale bii?</td>\n",
       "    </tr>\n",
       "    <tr>\n",
       "      <th>42</th>\n",
       "      <td>Mon salut à tout le monde mais surtout honore ...</td>\n",
       "      <td>Nuyul më ñépp te maarel ma bu baax ñooña ŋga d...</td>\n",
       "      <td>Mi ŋgi noonu rekk.</td>\n",
       "    </tr>\n",
       "    <tr>\n",
       "      <th>153</th>\n",
       "      <td>Dans ce cas, je pars.</td>\n",
       "      <td>Bon nag, maa ŋgi dem.</td>\n",
       "      <td>Kon nag, dàwul.</td>\n",
       "    </tr>\n",
       "    <tr>\n",
       "      <th>55</th>\n",
       "      <td>Je n'ai pas été.</td>\n",
       "      <td>Demuma.</td>\n",
       "      <td>Demuma.</td>\n",
       "    </tr>\n",
       "    <tr>\n",
       "      <th>58</th>\n",
       "      <td>C'est à l'intérieur qu'est entré l'homme.</td>\n",
       "      <td>Ci biir la góor gi dugg.</td>\n",
       "      <td>Ci biir la.</td>\n",
       "    </tr>\n",
       "    <tr>\n",
       "      <th>72</th>\n",
       "      <td>J'ai déjà vu tous les moutons.</td>\n",
       "      <td>Gisoon naa xar yi yépp.</td>\n",
       "      <td>Gis naa xar yi yépp.</td>\n",
       "    </tr>\n",
       "    <tr>\n",
       "      <th>54</th>\n",
       "      <td>Où as-tu été initié en sciences occultes?</td>\n",
       "      <td>Foo jaŋge xërëm?</td>\n",
       "      <td>Foo jaŋge xerëm?</td>\n",
       "    </tr>\n",
       "    <tr>\n",
       "      <th>87</th>\n",
       "      <td>Une fois en chemin.</td>\n",
       "      <td>Su dee dem.</td>\n",
       "      <td>Seetal beneen bi.</td>\n",
       "    </tr>\n",
       "    <tr>\n",
       "      <th>116</th>\n",
       "      <td>Quelles femmes se sont égarées?</td>\n",
       "      <td>Jigéen ñan ñoo réer?</td>\n",
       "      <td>Jigéen ñoo réer?</td>\n",
       "    </tr>\n",
       "    <tr>\n",
       "      <th>14</th>\n",
       "      <td>Autres, ils sont.</td>\n",
       "      <td>Ñeñeen lañu.</td>\n",
       "      <td>Ñeneen lañu.</td>\n",
       "    </tr>\n",
       "    <tr>\n",
       "      <th>112</th>\n",
       "      <td>Qu'as-tu vu?</td>\n",
       "      <td>Loo gis?</td>\n",
       "      <td>Koo gis?</td>\n",
       "    </tr>\n",
       "    <tr>\n",
       "      <th>127</th>\n",
       "      <td>Appelle l'homme qui n'est pas un Kangame d'ici!</td>\n",
       "      <td>Wool góor gi dul Kajgaamu fii!</td>\n",
       "      <td>Wool góor gi dul Kaj fii!</td>\n",
       "    </tr>\n",
       "    <tr>\n",
       "      <th>105</th>\n",
       "      <td>Là où tu es.</td>\n",
       "      <td>Ci foofu ŋga taxaw.</td>\n",
       "      <td>Foofu ŋga dem fu.</td>\n",
       "    </tr>\n",
       "    <tr>\n",
       "      <th>101</th>\n",
       "      <td>Là-bas jusqu'à ce que vous reveniez!</td>\n",
       "      <td>Ci foofu ba ŋgeen dellusi!</td>\n",
       "      <td>Maa ŋgi dem ci dara!</td>\n",
       "    </tr>\n",
       "    <tr>\n",
       "      <th>110</th>\n",
       "      <td>Cet homme qui vint autrefois, le voilà!</td>\n",
       "      <td>Góor googule ñëwóon, mi ŋgi!</td>\n",
       "      <td>Góor googule mi ŋgii!</td>\n",
       "    </tr>\n",
       "    <tr>\n",
       "      <th>140</th>\n",
       "      <td>Qu'il parte?</td>\n",
       "      <td>Mu dem?</td>\n",
       "      <td>Na?</td>\n",
       "    </tr>\n",
       "    <tr>\n",
       "      <th>84</th>\n",
       "      <td>Surtout pars!</td>\n",
       "      <td>Te ŋga dem kat!</td>\n",
       "      <td>Te dey addina laa!</td>\n",
       "    </tr>\n",
       "    <tr>\n",
       "      <th>151</th>\n",
       "      <td>Ceux-ci ne sont peut-être pas partis!</td>\n",
       "      <td>Ñii dañu demul xanaa!</td>\n",
       "      <td>Ñii dañu demul xanaa!</td>\n",
       "    </tr>\n",
       "    <tr>\n",
       "      <th>16</th>\n",
       "      <td>Je te confie celui-là.</td>\n",
       "      <td>Deŋk naa la boobule woon.</td>\n",
       "      <td>Deŋk ŋga xalel.</td>\n",
       "    </tr>\n",
       "    <tr>\n",
       "      <th>86</th>\n",
       "      <td>Le fait que tu ne viennes pas est préjudiciable.</td>\n",
       "      <td>Ŋga bañ ñëw rafetul.</td>\n",
       "      <td>Bëgg në ŋga ñëw, mu bañ dem.</td>\n",
       "    </tr>\n",
       "    <tr>\n",
       "      <th>92</th>\n",
       "      <td>Une fois là-bas.</td>\n",
       "      <td>Su demee.</td>\n",
       "      <td>Dem nañu.</td>\n",
       "    </tr>\n",
       "    <tr>\n",
       "      <th>52</th>\n",
       "      <td>Il n'est Ardo d'aucun Dieri que tu ne connaisses!</td>\n",
       "      <td>Amul ardo benn Jéeri boo xamul!</td>\n",
       "      <td>Am na, Faatim la!</td>\n",
       "    </tr>\n",
       "    <tr>\n",
       "      <th>60</th>\n",
       "      <td>Vous êtes aussi avares qu'eux!</td>\n",
       "      <td>Daŋgeen bëggé naka ñoom!</td>\n",
       "      <td>Ñeñeen lañu!</td>\n",
       "    </tr>\n",
       "    <tr>\n",
       "      <th>56</th>\n",
       "      <td>C'est celui-là celui-là l'un que je te donne.</td>\n",
       "      <td>Benn boobule laa la may.</td>\n",
       "      <td>Benn boobule laa la may.</td>\n",
       "    </tr>\n",
       "    <tr>\n",
       "      <th>78</th>\n",
       "      <td>C'est une autre épouse que je veux!</td>\n",
       "      <td>Jeneen jabar laa bëgg!</td>\n",
       "      <td>Defe naa, keneen kii la!</td>\n",
       "    </tr>\n",
       "    <tr>\n",
       "      <th>106</th>\n",
       "      <td>Tu vois, cet homme là?</td>\n",
       "      <td>Gis ŋga nit kookee?</td>\n",
       "      <td>Gis ŋga nit kee?</td>\n",
       "    </tr>\n",
       "    <tr>\n",
       "      <th>135</th>\n",
       "      <td>Je lui ai dit de rentrer.</td>\n",
       "      <td>Wax naa ko mu ñibbi.</td>\n",
       "      <td>May naa ci sama wet.</td>\n",
       "    </tr>\n",
       "    <tr>\n",
       "      <th>77</th>\n",
       "      <td>Il a été quelqu'un!</td>\n",
       "      <td>Nit la!</td>\n",
       "      <td>Nit lañu!</td>\n",
       "    </tr>\n",
       "    <tr>\n",
       "      <th>131</th>\n",
       "      <td>Moi, me voilà.</td>\n",
       "      <td>Man, maa ŋgi.</td>\n",
       "      <td>Maa ŋgii dem na.</td>\n",
       "    </tr>\n",
       "    <tr>\n",
       "      <th>21</th>\n",
       "      <td>Nous voilà assis.</td>\n",
       "      <td>Ñu ŋgi toog.</td>\n",
       "      <td>Ma ŋgii toog.</td>\n",
       "    </tr>\n",
       "    <tr>\n",
       "      <th>114</th>\n",
       "      <td>Tu ne partiras donc pas?</td>\n",
       "      <td>Xanaa doo dem?</td>\n",
       "      <td>Doo dem, xanaa?</td>\n",
       "    </tr>\n",
       "    <tr>\n",
       "      <th>143</th>\n",
       "      <td>Prends l'un en entier!</td>\n",
       "      <td>Fabal benn bii bépp!</td>\n",
       "      <td>Joxal kenn liggéey bi!</td>\n",
       "    </tr>\n",
       "    <tr>\n",
       "      <th>159</th>\n",
       "      <td>Aide-les à cause de ceux-là!</td>\n",
       "      <td>Dimëlé leen ŋgir ñooñe!</td>\n",
       "      <td>Xar yenn yooyu laa wax!</td>\n",
       "    </tr>\n",
       "    <tr>\n",
       "      <th>49</th>\n",
       "      <td>Alors celui-ci s'en alla!</td>\n",
       "      <td>Noona kooku dem!</td>\n",
       "      <td>Demleen!</td>\n",
       "    </tr>\n",
       "    <tr>\n",
       "      <th>19</th>\n",
       "      <td>Quels amis sont arrivés?</td>\n",
       "      <td>Xarit yan ño ñëw?</td>\n",
       "      <td>Yan xar ñoo ñëw?</td>\n",
       "    </tr>\n",
       "    <tr>\n",
       "      <th>136</th>\n",
       "      <td>Et ne viens surtout pas à l'école!</td>\n",
       "      <td>Te bul ñëw jaŋgu ba de!</td>\n",
       "      <td>Wut leen gaal!</td>\n",
       "    </tr>\n",
       "    <tr>\n",
       "      <th>28</th>\n",
       "      <td>Prends tout!</td>\n",
       "      <td>Jëlël lépp!</td>\n",
       "      <td>Demleen!</td>\n",
       "    </tr>\n",
       "    <tr>\n",
       "      <th>133</th>\n",
       "      <td>De quelle manière?</td>\n",
       "      <td>Noonee nan?</td>\n",
       "      <td>Fan?</td>\n",
       "    </tr>\n",
       "    <tr>\n",
       "      <th>7</th>\n",
       "      <td>Je croyais que l'homme était mûr et que la fem...</td>\n",
       "      <td>Defewoon naa góor gi mag la te ndaw si nit la!</td>\n",
       "      <td>Defewoon naa góor gi ñëw mu dem su ŋgeen noppée!</td>\n",
       "    </tr>\n",
       "    <tr>\n",
       "      <th>6</th>\n",
       "      <td>Tu fus Laobé.</td>\n",
       "      <td>Laobe ŋga woon.</td>\n",
       "      <td>Laobe lë woon.</td>\n",
       "    </tr>\n",
       "    <tr>\n",
       "      <th>155</th>\n",
       "      <td>Je crois que ce n'est pas celui-ci, ce n'est p...</td>\n",
       "      <td>Defe naa du kookuu, du kookee.</td>\n",
       "      <td>Du kii, defe naa.</td>\n",
       "    </tr>\n",
       "    <tr>\n",
       "      <th>74</th>\n",
       "      <td>Tu parles de quelle maison (ici)?</td>\n",
       "      <td>Bii néeg ban ŋga wax?</td>\n",
       "      <td>Boobu néeg ban ŋga wax?</td>\n",
       "    </tr>\n",
       "    <tr>\n",
       "      <th>22</th>\n",
       "      <td>Tu vois ce garçon-là?</td>\n",
       "      <td>Gis ŋga xale bii woon?</td>\n",
       "      <td>Gis ŋga xale bii?</td>\n",
       "    </tr>\n",
       "    <tr>\n",
       "      <th>134</th>\n",
       "      <td>Que souhaitais-tu?</td>\n",
       "      <td>Là bëggóon?</td>\n",
       "      <td>Looy def?</td>\n",
       "    </tr>\n",
       "    <tr>\n",
       "      <th>65</th>\n",
       "      <td>Par ici!</td>\n",
       "      <td>Ci fii!</td>\n",
       "      <td>Demleen!</td>\n",
       "    </tr>\n",
       "    <tr>\n",
       "      <th>103</th>\n",
       "      <td>L'homme n'est pas mauvais!</td>\n",
       "      <td>Nit bonul!</td>\n",
       "      <td>Góor gi rekk a ñëwul dana xam!</td>\n",
       "    </tr>\n",
       "    <tr>\n",
       "      <th>66</th>\n",
       "      <td>Tu pars?</td>\n",
       "      <td>Demŋga?</td>\n",
       "      <td>Xam ŋga xale bii?</td>\n",
       "    </tr>\n",
       "    <tr>\n",
       "      <th>99</th>\n",
       "      <td>Va voir tous les chevaux!</td>\n",
       "      <td>Seetil fas yépp!</td>\n",
       "      <td>Seetil fas!</td>\n",
       "    </tr>\n",
       "    <tr>\n",
       "      <th>12</th>\n",
       "      <td>L'homme a parlé avec toi.</td>\n",
       "      <td>Góor gi waxtaan na ag yaw.</td>\n",
       "      <td>Wax naóor gi waxtaan.</td>\n",
       "    </tr>\n",
       "    <tr>\n",
       "      <th>130</th>\n",
       "      <td>Avec celui-là, afin qu'il ne soit pas seul!</td>\n",
       "      <td>Ci kooku, ndax mu wettëliku!</td>\n",
       "      <td>Waaye de, ku mu gis, ŋga de!</td>\n",
       "    </tr>\n",
       "    <tr>\n",
       "      <th>17</th>\n",
       "      <td>Tu parles de quelle ville Sérère?</td>\n",
       "      <td>Gan dëkku Séeréer ŋga wax?</td>\n",
       "      <td>Dëkku Séeréer ban ŋga wax?</td>\n",
       "    </tr>\n",
       "    <tr>\n",
       "      <th>149</th>\n",
       "      <td>C'est l'autre endroit qui n'a pas de trou.</td>\n",
       "      <td>Feneen fi bëttul la.</td>\n",
       "      <td>Keneen ki ñëw.</td>\n",
       "    </tr>\n",
       "    <tr>\n",
       "      <th>95</th>\n",
       "      <td>Fais sortir tout mouton que tu vois!</td>\n",
       "      <td>Génnéel mépp xar moo gis!</td>\n",
       "      <td>Xolal fépp!</td>\n",
       "    </tr>\n",
       "    <tr>\n",
       "      <th>123</th>\n",
       "      <td>Quel moutons est égaré?</td>\n",
       "      <td>Man xar moo réer?</td>\n",
       "      <td>Xar man moo réer?</td>\n",
       "    </tr>\n",
       "    <tr>\n",
       "      <th>30</th>\n",
       "      <td>Il ne refusera pas si tu acceptes et aussi t'e...</td>\n",
       "      <td>Du bañ boo naŋgoo ag it boo yaboo ci liggéey bi.</td>\n",
       "      <td>Du bañ boo naŋgoo ag it boo yaboo ci liggéey bi.</td>\n",
       "    </tr>\n",
       "    <tr>\n",
       "      <th>82</th>\n",
       "      <td>Dans ce cas, qu'il rentre.</td>\n",
       "      <td>Bonag, dey mu ñibbi.</td>\n",
       "      <td>Kon nag, dàwul.</td>\n",
       "    </tr>\n",
       "    <tr>\n",
       "      <th>122</th>\n",
       "      <td>C'est l'autre cheval qui s'est égaré.</td>\n",
       "      <td>Fas weneen wu moo daw.</td>\n",
       "      <td>Fas wenn réerul.</td>\n",
       "    </tr>\n",
       "    <tr>\n",
       "      <th>25</th>\n",
       "      <td>J'ai vu tous vos amis en question!</td>\n",
       "      <td>Gis naa seeni xarit yooyu yépp!</td>\n",
       "      <td>Gis naa sa xarit yépp!</td>\n",
       "    </tr>\n",
       "    <tr>\n",
       "      <th>48</th>\n",
       "      <td>Tu ne viendras pas?</td>\n",
       "      <td>Doo ñëw?</td>\n",
       "      <td>Doo dem?</td>\n",
       "    </tr>\n",
       "    <tr>\n",
       "      <th>145</th>\n",
       "      <td>L'homme qui s'en alla.</td>\n",
       "      <td>Góor gi dem.</td>\n",
       "      <td>Góor gi di bày.</td>\n",
       "    </tr>\n",
       "    <tr>\n",
       "      <th>148</th>\n",
       "      <td>Des boeufs que tu vois dans cette ville, le pl...</td>\n",
       "      <td>Nagi dëkk bii ŋga gis, wa ci ëpp sa baay Alfa ...</td>\n",
       "      <td>Ndaw si ëpp sa baay Alfa moo ka moom.</td>\n",
       "    </tr>\n",
       "    <tr>\n",
       "      <th>156</th>\n",
       "      <td>C'est leur ami!</td>\n",
       "      <td>Suñu xarit la!</td>\n",
       "      <td>Wutël leneen!</td>\n",
       "    </tr>\n",
       "    <tr>\n",
       "      <th>81</th>\n",
       "      <td>J'ai aperçu un homme.</td>\n",
       "      <td>Séen naa ak nit.</td>\n",
       "      <td>Séen naa aw fas.</td>\n",
       "    </tr>\n",
       "    <tr>\n",
       "      <th>1</th>\n",
       "      <td>Celui-là avec qui tu parles!</td>\n",
       "      <td>Kookule ŋgay waxal!</td>\n",
       "      <td>Waxtaanal ag soo demul!</td>\n",
       "    </tr>\n",
       "    <tr>\n",
       "      <th>102</th>\n",
       "      <td>Aminata peut-elle venir?</td>\n",
       "      <td>Aminta ñëw?</td>\n",
       "      <td>Ndax kan dem?</td>\n",
       "    </tr>\n",
       "    <tr>\n",
       "      <th>8</th>\n",
       "      <td>Pourquoi?</td>\n",
       "      <td>Lu tax?</td>\n",
       "      <td>Lu waral?</td>\n",
       "    </tr>\n",
       "    <tr>\n",
       "      <th>62</th>\n",
       "      <td>Il n'en a pas vu d'autres.</td>\n",
       "      <td>Gisul yeneen.</td>\n",
       "      <td>Gis na seen yeneen xarit.</td>\n",
       "    </tr>\n",
       "    <tr>\n",
       "      <th>80</th>\n",
       "      <td>Tu vas vers qui?</td>\n",
       "      <td>Ci ñan ŋga jëm?</td>\n",
       "      <td>Ci te?</td>\n",
       "    </tr>\n",
       "    <tr>\n",
       "      <th>124</th>\n",
       "      <td>Des gens que tu m'as présentés, celui que voic...</td>\n",
       "      <td>Nit ñi ŋga ma wàn ñépp, kii laa ci wóolu.</td>\n",
       "      <td>Maa ŋgii gis leen, ŋga jëfu nit ku yiw.</td>\n",
       "    </tr>\n",
       "    <tr>\n",
       "      <th>69</th>\n",
       "      <td>Tu ne vas pas dans un autre lieu!</td>\n",
       "      <td>Demuloo feneen!</td>\n",
       "      <td>Demuloo feneen!</td>\n",
       "    </tr>\n",
       "    <tr>\n",
       "      <th>100</th>\n",
       "      <td>Partout où il ira la paix descendra là.</td>\n",
       "      <td>Fépp fu mu jëm foofu jàmm dana fa wacc.</td>\n",
       "      <td>Foofu la ba ba ñuy gis feneen.</td>\n",
       "    </tr>\n",
       "    <tr>\n",
       "      <th>75</th>\n",
       "      <td>Quelle chose s'est égarée?</td>\n",
       "      <td>Lëf lan a réer?</td>\n",
       "      <td>Jigéen jan a réer?</td>\n",
       "    </tr>\n",
       "    <tr>\n",
       "      <th>0</th>\n",
       "      <td>C'est un homme.</td>\n",
       "      <td>Nit ku góor la.</td>\n",
       "      <td>Nit ku baax.</td>\n",
       "    </tr>\n",
       "    <tr>\n",
       "      <th>36</th>\n",
       "      <td>Tu as vu quoi?</td>\n",
       "      <td>Gis ŋga lan?</td>\n",
       "      <td>Gis ŋga lan?</td>\n",
       "    </tr>\n",
       "    <tr>\n",
       "      <th>5</th>\n",
       "      <td>Vous ne mangez pas.</td>\n",
       "      <td>Duŋgeen lekk.</td>\n",
       "      <td>Duŋgeen woon ñëw.</td>\n",
       "    </tr>\n",
       "    <tr>\n",
       "      <th>33</th>\n",
       "      <td>Tous lesquels as-tu vus?</td>\n",
       "      <td>Ñépp ñan ŋga gis?</td>\n",
       "      <td>Yeneen fas yan ŋga gis?</td>\n",
       "    </tr>\n",
       "    <tr>\n",
       "      <th>88</th>\n",
       "      <td>Où est-ce?</td>\n",
       "      <td>Fu mu?</td>\n",
       "      <td>Ana mu?</td>\n",
       "    </tr>\n",
       "    <tr>\n",
       "      <th>98</th>\n",
       "      <td>Mi ŋgi ci biti.</td>\n",
       "      <td>Waaji nee.</td>\n",
       "      <td>Musaa.</td>\n",
       "    </tr>\n",
       "    <tr>\n",
       "      <th>34</th>\n",
       "      <td>Je croyais que tu irais, ce matin, ce jour...!</td>\n",
       "      <td>Defewoon na, ci subë si, ci bes bi, daa dem!</td>\n",
       "      <td>Defewoon na, daa dem, xanaa!</td>\n",
       "    </tr>\n",
       "    <tr>\n",
       "      <th>142</th>\n",
       "      <td>L'homme, le voilà.</td>\n",
       "      <td>Góor gi mi ŋgi.</td>\n",
       "      <td>Góor gaa ŋgi.</td>\n",
       "    </tr>\n",
       "  </tbody>\n",
       "</table>\n",
       "</div>"
      ],
      "text/plain": [
       "                                    original_sentences  \\\n",
       "76                              Converser avec lequel?   \n",
       "47                          Cet homme qui était parti.   \n",
       "94                                          Dites-lui.   \n",
       "158  J'ai vu cet homme qui parlait et qui était ass...   \n",
       "38      Je l'ai donné à quelqu'un de meilleur que lui.   \n",
       "91   Vers cet autre qui est devant la porte de la m...   \n",
       "15              L'homme dit qu'il serait peut-être là.   \n",
       "113            As-tu vu ces autres femmes en question?   \n",
       "64                       C'est celui-là à l'intérieur.   \n",
       "57                              Sois homme de ce pays!   \n",
       "89                      À qui as-tu donné de l'argent?   \n",
       "96                                 L'homme est unique.   \n",
       "68                            Cherche un autre cheval!   \n",
       "59                                              Pouah!   \n",
       "109                         C'est moi que tu appelles?   \n",
       "107                  J'espère que c'est lui qui a été?   \n",
       "26               S'il ne vient pas, eh bien, il verra!   \n",
       "4                   Il a vu tous vos amis en question!   \n",
       "63                                    À toi qui es-là!   \n",
       "37   Viens pour que les enfants soient des travaill...   \n",
       "132                                           Tu pars?   \n",
       "42   Mon salut à tout le monde mais surtout honore ...   \n",
       "153                              Dans ce cas, je pars.   \n",
       "55                                    Je n'ai pas été.   \n",
       "58           C'est à l'intérieur qu'est entré l'homme.   \n",
       "72                      J'ai déjà vu tous les moutons.   \n",
       "54           Où as-tu été initié en sciences occultes?   \n",
       "87                                 Une fois en chemin.   \n",
       "116                    Quelles femmes se sont égarées?   \n",
       "14                                   Autres, ils sont.   \n",
       "112                                       Qu'as-tu vu?   \n",
       "127    Appelle l'homme qui n'est pas un Kangame d'ici!   \n",
       "105                                       Là où tu es.   \n",
       "101               Là-bas jusqu'à ce que vous reveniez!   \n",
       "110            Cet homme qui vint autrefois, le voilà!   \n",
       "140                                       Qu'il parte?   \n",
       "84                                       Surtout pars!   \n",
       "151              Ceux-ci ne sont peut-être pas partis!   \n",
       "16                              Je te confie celui-là.   \n",
       "86    Le fait que tu ne viennes pas est préjudiciable.   \n",
       "92                                    Une fois là-bas.   \n",
       "52   Il n'est Ardo d'aucun Dieri que tu ne connaisses!   \n",
       "60                      Vous êtes aussi avares qu'eux!   \n",
       "56       C'est celui-là celui-là l'un que je te donne.   \n",
       "78                 C'est une autre épouse que je veux!   \n",
       "106                             Tu vois, cet homme là?   \n",
       "135                          Je lui ai dit de rentrer.   \n",
       "77                                 Il a été quelqu'un!   \n",
       "131                                     Moi, me voilà.   \n",
       "21                                   Nous voilà assis.   \n",
       "114                           Tu ne partiras donc pas?   \n",
       "143                             Prends l'un en entier!   \n",
       "159                       Aide-les à cause de ceux-là!   \n",
       "49                           Alors celui-ci s'en alla!   \n",
       "19                            Quels amis sont arrivés?   \n",
       "136                 Et ne viens surtout pas à l'école!   \n",
       "28                                        Prends tout!   \n",
       "133                                 De quelle manière?   \n",
       "7    Je croyais que l'homme était mûr et que la fem...   \n",
       "6                                        Tu fus Laobé.   \n",
       "155  Je crois que ce n'est pas celui-ci, ce n'est p...   \n",
       "74                   Tu parles de quelle maison (ici)?   \n",
       "22                               Tu vois ce garçon-là?   \n",
       "134                                 Que souhaitais-tu?   \n",
       "65                                            Par ici!   \n",
       "103                         L'homme n'est pas mauvais!   \n",
       "66                                            Tu pars?   \n",
       "99                           Va voir tous les chevaux!   \n",
       "12                           L'homme a parlé avec toi.   \n",
       "130        Avec celui-là, afin qu'il ne soit pas seul!   \n",
       "17                   Tu parles de quelle ville Sérère?   \n",
       "149         C'est l'autre endroit qui n'a pas de trou.   \n",
       "95                Fais sortir tout mouton que tu vois!   \n",
       "123                            Quel moutons est égaré?   \n",
       "30   Il ne refusera pas si tu acceptes et aussi t'e...   \n",
       "82                          Dans ce cas, qu'il rentre.   \n",
       "122              C'est l'autre cheval qui s'est égaré.   \n",
       "25                  J'ai vu tous vos amis en question!   \n",
       "48                                 Tu ne viendras pas?   \n",
       "145                             L'homme qui s'en alla.   \n",
       "148  Des boeufs que tu vois dans cette ville, le pl...   \n",
       "156                                    C'est leur ami!   \n",
       "81                               J'ai aperçu un homme.   \n",
       "1                         Celui-là avec qui tu parles!   \n",
       "102                           Aminata peut-elle venir?   \n",
       "8                                            Pourquoi?   \n",
       "62                          Il n'en a pas vu d'autres.   \n",
       "80                                    Tu vas vers qui?   \n",
       "124  Des gens que tu m'as présentés, celui que voic...   \n",
       "69                   Tu ne vas pas dans un autre lieu!   \n",
       "100            Partout où il ira la paix descendra là.   \n",
       "75                          Quelle chose s'est égarée?   \n",
       "0                                      C'est un homme.   \n",
       "36                                      Tu as vu quoi?   \n",
       "5                                  Vous ne mangez pas.   \n",
       "33                            Tous lesquels as-tu vus?   \n",
       "88                                          Où est-ce?   \n",
       "98                                     Mi ŋgi ci biti.   \n",
       "34      Je croyais que tu irais, ce matin, ce jour...!   \n",
       "142                                 L'homme, le voilà.   \n",
       "\n",
       "                                          translations  \\\n",
       "76                                Waxtaan ak kenn kan?   \n",
       "47                                    Góor gii demoon.   \n",
       "94                                          Nileen ka.   \n",
       "158       Gis naa góor gi doon wax te toogoon ci suuf.   \n",
       "38                        May naa ka keneen ku ka gën.   \n",
       "91                       Ci keneen ki ci buntu kër gi.   \n",
       "15                 Góor gi nee na soo demee mi ŋgi fi.   \n",
       "113                       Gis ŋga jigéen ñeneen ñooñu?   \n",
       "64                                 Kookule la ci biir.   \n",
       "57                                   Dil nitu réew mi!   \n",
       "89                                     Koo jox xaalis?   \n",
       "96                                    Góor gi kenn la.   \n",
       "68                                  Seetal fas weneen!   \n",
       "59                                                Cam!   \n",
       "109                                       Man ŋga woo?   \n",
       "107                                      Mbaa móo dem?   \n",
       "26                                  Su ñëwul dana xam!   \n",
       "4                       Gis na seeni xarit yooyu yépp!   \n",
       "63                                    Yaw mile mi fii!   \n",
       "37   Ñëwël ndax xale yi di mbër te it ñu di ay jamb...   \n",
       "132                                           Dem ŋga?   \n",
       "42   Nuyul më ñépp te maarel ma bu baax ñooña ŋga d...   \n",
       "153                              Bon nag, maa ŋgi dem.   \n",
       "55                                             Demuma.   \n",
       "58                            Ci biir la góor gi dugg.   \n",
       "72                             Gisoon naa xar yi yépp.   \n",
       "54                                    Foo jaŋge xërëm?   \n",
       "87                                         Su dee dem.   \n",
       "116                               Jigéen ñan ñoo réer?   \n",
       "14                                        Ñeñeen lañu.   \n",
       "112                                           Loo gis?   \n",
       "127                     Wool góor gi dul Kajgaamu fii!   \n",
       "105                                Ci foofu ŋga taxaw.   \n",
       "101                         Ci foofu ba ŋgeen dellusi!   \n",
       "110                       Góor googule ñëwóon, mi ŋgi!   \n",
       "140                                            Mu dem?   \n",
       "84                                     Te ŋga dem kat!   \n",
       "151                              Ñii dañu demul xanaa!   \n",
       "16                           Deŋk naa la boobule woon.   \n",
       "86                                Ŋga bañ ñëw rafetul.   \n",
       "92                                           Su demee.   \n",
       "52                     Amul ardo benn Jéeri boo xamul!   \n",
       "60                            Daŋgeen bëggé naka ñoom!   \n",
       "56                            Benn boobule laa la may.   \n",
       "78                              Jeneen jabar laa bëgg!   \n",
       "106                                Gis ŋga nit kookee?   \n",
       "135                               Wax naa ko mu ñibbi.   \n",
       "77                                             Nit la!   \n",
       "131                                      Man, maa ŋgi.   \n",
       "21                                        Ñu ŋgi toog.   \n",
       "114                                     Xanaa doo dem?   \n",
       "143                               Fabal benn bii bépp!   \n",
       "159                            Dimëlé leen ŋgir ñooñe!   \n",
       "49                                    Noona kooku dem!   \n",
       "19                                   Xarit yan ño ñëw?   \n",
       "136                            Te bul ñëw jaŋgu ba de!   \n",
       "28                                         Jëlël lépp!   \n",
       "133                                        Noonee nan?   \n",
       "7       Defewoon naa góor gi mag la te ndaw si nit la!   \n",
       "6                                      Laobe ŋga woon.   \n",
       "155                     Defe naa du kookuu, du kookee.   \n",
       "74                               Bii néeg ban ŋga wax?   \n",
       "22                              Gis ŋga xale bii woon?   \n",
       "134                                        Là bëggóon?   \n",
       "65                                             Ci fii!   \n",
       "103                                         Nit bonul!   \n",
       "66                                             Demŋga?   \n",
       "99                                    Seetil fas yépp!   \n",
       "12                          Góor gi waxtaan na ag yaw.   \n",
       "130                       Ci kooku, ndax mu wettëliku!   \n",
       "17                          Gan dëkku Séeréer ŋga wax?   \n",
       "149                               Feneen fi bëttul la.   \n",
       "95                           Génnéel mépp xar moo gis!   \n",
       "123                                  Man xar moo réer?   \n",
       "30    Du bañ boo naŋgoo ag it boo yaboo ci liggéey bi.   \n",
       "82                                Bonag, dey mu ñibbi.   \n",
       "122                             Fas weneen wu moo daw.   \n",
       "25                     Gis naa seeni xarit yooyu yépp!   \n",
       "48                                            Doo ñëw?   \n",
       "145                                       Góor gi dem.   \n",
       "148  Nagi dëkk bii ŋga gis, wa ci ëpp sa baay Alfa ...   \n",
       "156                                     Suñu xarit la!   \n",
       "81                                    Séen naa ak nit.   \n",
       "1                                  Kookule ŋgay waxal!   \n",
       "102                                        Aminta ñëw?   \n",
       "8                                              Lu tax?   \n",
       "62                                       Gisul yeneen.   \n",
       "80                                     Ci ñan ŋga jëm?   \n",
       "124          Nit ñi ŋga ma wàn ñépp, kii laa ci wóolu.   \n",
       "69                                     Demuloo feneen!   \n",
       "100            Fépp fu mu jëm foofu jàmm dana fa wacc.   \n",
       "75                                     Lëf lan a réer?   \n",
       "0                                      Nit ku góor la.   \n",
       "36                                        Gis ŋga lan?   \n",
       "5                                        Duŋgeen lekk.   \n",
       "33                                   Ñépp ñan ŋga gis?   \n",
       "88                                              Fu mu?   \n",
       "98                                          Waaji nee.   \n",
       "34        Defewoon na, ci subë si, ci bes bi, daa dem!   \n",
       "142                                    Góor gi mi ŋgi.   \n",
       "\n",
       "                                           predictions  \n",
       "76                                Waxtaan ak kenn kan?  \n",
       "47                                   Góor gii bëggóon.  \n",
       "94                                        Nileen leen.  \n",
       "158                    Gis naa googii gan gi doon wax.  \n",
       "38                         Jox naa ka keneen ku sawar.  \n",
       "91                       Moom mile ci buntu kër gi la.  \n",
       "15                 Góor gi née na mi ŋgi fi soo demee.  \n",
       "113                           Gis ŋga jigéen ñgay dem?  \n",
       "64                                      Kooku ci biir.  \n",
       "57                                   Dil nitu réew mi!  \n",
       "89                                         Jigéen jan?  \n",
       "96                                        Góor gi dem.  \n",
       "68                                       Wutël leneen!  \n",
       "59                                            Demleen!  \n",
       "109                                       Man ŋga woo?  \n",
       "107                           Mbaa xale yi yeksi nañu?  \n",
       "26                                  Su ñëwul dana xam!  \n",
       "4                                Gis na sa xarit yépp!  \n",
       "63                                     Yaa ñëw ku dem!  \n",
       "37   Ñëwël ndax xale yi di ay liggéeykat, di ay jam...  \n",
       "132                                  Xam ŋga xale bii?  \n",
       "42                                  Mi ŋgi noonu rekk.  \n",
       "153                                    Kon nag, dàwul.  \n",
       "55                                             Demuma.  \n",
       "58                                         Ci biir la.  \n",
       "72                                Gis naa xar yi yépp.  \n",
       "54                                    Foo jaŋge xerëm?  \n",
       "87                                   Seetal beneen bi.  \n",
       "116                                   Jigéen ñoo réer?  \n",
       "14                                        Ñeneen lañu.  \n",
       "112                                           Koo gis?  \n",
       "127                          Wool góor gi dul Kaj fii!  \n",
       "105                                  Foofu ŋga dem fu.  \n",
       "101                               Maa ŋgi dem ci dara!  \n",
       "110                              Góor googule mi ŋgii!  \n",
       "140                                                Na?  \n",
       "84                                  Te dey addina laa!  \n",
       "151                              Ñii dañu demul xanaa!  \n",
       "16                                     Deŋk ŋga xalel.  \n",
       "86                        Bëgg në ŋga ñëw, mu bañ dem.  \n",
       "92                                           Dem nañu.  \n",
       "52                                   Am na, Faatim la!  \n",
       "60                                        Ñeñeen lañu!  \n",
       "56                            Benn boobule laa la may.  \n",
       "78                            Defe naa, keneen kii la!  \n",
       "106                                   Gis ŋga nit kee?  \n",
       "135                               May naa ci sama wet.  \n",
       "77                                           Nit lañu!  \n",
       "131                                   Maa ŋgii dem na.  \n",
       "21                                       Ma ŋgii toog.  \n",
       "114                                    Doo dem, xanaa?  \n",
       "143                             Joxal kenn liggéey bi!  \n",
       "159                            Xar yenn yooyu laa wax!  \n",
       "49                                            Demleen!  \n",
       "19                                    Yan xar ñoo ñëw?  \n",
       "136                                     Wut leen gaal!  \n",
       "28                                            Demleen!  \n",
       "133                                               Fan?  \n",
       "7     Defewoon naa góor gi ñëw mu dem su ŋgeen noppée!  \n",
       "6                                       Laobe lë woon.  \n",
       "155                                  Du kii, defe naa.  \n",
       "74                             Boobu néeg ban ŋga wax?  \n",
       "22                                   Gis ŋga xale bii?  \n",
       "134                                          Looy def?  \n",
       "65                                            Demleen!  \n",
       "103                     Góor gi rekk a ñëwul dana xam!  \n",
       "66                                   Xam ŋga xale bii?  \n",
       "99                                         Seetil fas!  \n",
       "12                               Wax naóor gi waxtaan.  \n",
       "130                       Waaye de, ku mu gis, ŋga de!  \n",
       "17                          Dëkku Séeréer ban ŋga wax?  \n",
       "149                                     Keneen ki ñëw.  \n",
       "95                                         Xolal fépp!  \n",
       "123                                  Xar man moo réer?  \n",
       "30    Du bañ boo naŋgoo ag it boo yaboo ci liggéey bi.  \n",
       "82                                     Kon nag, dàwul.  \n",
       "122                                   Fas wenn réerul.  \n",
       "25                              Gis naa sa xarit yépp!  \n",
       "48                                            Doo dem?  \n",
       "145                                    Góor gi di bày.  \n",
       "148              Ndaw si ëpp sa baay Alfa moo ka moom.  \n",
       "156                                      Wutël leneen!  \n",
       "81                                    Séen naa aw fas.  \n",
       "1                              Waxtaanal ag soo demul!  \n",
       "102                                      Ndax kan dem?  \n",
       "8                                            Lu waral?  \n",
       "62                           Gis na seen yeneen xarit.  \n",
       "80                                              Ci te?  \n",
       "124            Maa ŋgii gis leen, ŋga jëfu nit ku yiw.  \n",
       "69                                     Demuloo feneen!  \n",
       "100                     Foofu la ba ba ñuy gis feneen.  \n",
       "75                                  Jigéen jan a réer?  \n",
       "0                                         Nit ku baax.  \n",
       "36                                        Gis ŋga lan?  \n",
       "5                                    Duŋgeen woon ñëw.  \n",
       "33                             Yeneen fas yan ŋga gis?  \n",
       "88                                             Ana mu?  \n",
       "98                                              Musaa.  \n",
       "34                        Defewoon na, daa dem, xanaa!  \n",
       "142                                      Góor gaa ŋgi.  "
      ]
     },
     "execution_count": 15,
     "metadata": {},
     "output_type": "execute_result"
    }
   ],
   "source": [
    "# let us display 100 samples\n",
    "pd.options.display.max_rows = 100\n",
    "df_ft_to_wf[1].sample(100)"
   ]
  },
  {
   "attachments": {},
   "cell_type": "markdown",
   "metadata": {},
   "source": [
    "### Most similar tokens"
   ]
  },
  {
   "attachments": {},
   "cell_type": "markdown",
   "metadata": {},
   "source": [
    "In this subsection we want to find what tokens have most similarity between them using the embeddings. We must, at first, extract the weights of the embedding layer."
   ]
  },
  {
   "cell_type": "code",
   "execution_count": 19,
   "metadata": {},
   "outputs": [
    {
     "data": {
      "text/plain": [
       "0.2508285"
      ]
     },
     "execution_count": 19,
     "metadata": {},
     "output_type": "execute_result"
    }
   ],
   "source": [
    "# the following can compare two vectors using the cosine similarity\n",
    "def cosine_similarity(embed_1: torch.Tensor, embed_2: torch.Tensor):\n",
    "  return np.dot(embed_1, embed_2)/(np.linalg.norm(embed_1) * np.linalg.norm(embed_2))\n",
    "\n",
    "# recuperate the embeddings\n",
    "embeddings = trainer.model.model.shared.weight\n",
    "\n",
    "# let us compare the token at index 10 and 100\n",
    "cosine_similarity(embeddings[10].cpu().detach().numpy(), embeddings[100].cpu().detach().numpy())"
   ]
  },
  {
   "attachments": {},
   "cell_type": "markdown",
   "metadata": {},
   "source": [
    "The cosine similarity is between 0 and 1. A higher value represents a higher similarity between two tokens."
   ]
  },
  {
   "attachments": {},
   "cell_type": "markdown",
   "metadata": {},
   "source": [
    "To compare two groups of words we must tokenize them add the vectors of the tokens we obtain and calculate the similarity between the two groups' vectors."
   ]
  },
  {
   "attachments": {},
   "cell_type": "markdown",
   "metadata": {},
   "source": [
    "Let us take the example of the words 'wax ak kii' and 'waxtaan ak yow'."
   ]
  },
  {
   "cell_type": "code",
   "execution_count": 22,
   "metadata": {},
   "outputs": [
    {
     "data": {
      "text/plain": [
       "(tensor([2753,   73,  542]), tensor([2753,   31, 1116,   73,   48, 3452]))"
      ]
     },
     "execution_count": 22,
     "metadata": {},
     "output_type": "execute_result"
    }
   ],
   "source": [
    "word1 = 'wax ak kii'\n",
    "\n",
    "word2 = 'waxtaan ak yow'\n",
    "\n",
    "# get the token ids\n",
    "word1_id = tokenizer(word1, return_tensors='pt')['input_ids'][0]\n",
    "\n",
    "word2_id = tokenizer(word2, return_tensors='pt')['input_ids'][0]\n",
    "\n",
    "word1_id, word2_id\n"
   ]
  },
  {
   "attachments": {},
   "cell_type": "markdown",
   "metadata": {},
   "source": [
    "Let us get their vectors with the following function."
   ]
  },
  {
   "cell_type": "code",
   "execution_count": 37,
   "metadata": {},
   "outputs": [],
   "source": [
    "def get_embedding(model: torch.nn.Module, word_id: torch.Tensor):\n",
    "  \n",
    "  embeddings = model.model.shared.weight.cpu().detach().numpy()\n",
    "  \n",
    "  return embeddings[word_id].mean(axis=0) if word_id.shape[0] else embeddings[word_id]\n",
    "\n",
    "embeddings_1 = get_embedding(trainer.model, word1_id)\n",
    "\n",
    "embeddings_2 = get_embedding(trainer.model, word2_id)"
   ]
  },
  {
   "attachments": {},
   "cell_type": "markdown",
   "metadata": {},
   "source": [
    "We can then calculate the cosine similarity between the embeddings."
   ]
  },
  {
   "cell_type": "code",
   "execution_count": 39,
   "metadata": {},
   "outputs": [
    {
     "data": {
      "text/plain": [
       "0.5306478"
      ]
     },
     "execution_count": 39,
     "metadata": {},
     "output_type": "execute_result"
    }
   ],
   "source": [
    "similarity = cosine_similarity(embeddings_1, embeddings_2)\n",
    "\n",
    "similarity"
   ]
  },
  {
   "attachments": {},
   "cell_type": "markdown",
   "metadata": {},
   "source": [
    "Let us add the two tasks inside an unique function."
   ]
  },
  {
   "cell_type": "code",
   "execution_count": 45,
   "metadata": {},
   "outputs": [
    {
     "data": {
      "text/plain": [
       "0.5306478"
      ]
     },
     "execution_count": 45,
     "metadata": {},
     "output_type": "execute_result"
    }
   ],
   "source": [
    "def calculate_similary(model: torch.nn.Module, word1: str, word2: str):\n",
    "  \n",
    "  word1_id = tokenizer(word1, return_tensors='pt')['input_ids'][0]\n",
    "  \n",
    "  word2_id = tokenizer(word2, return_tensors='pt')['input_ids'][0]\n",
    "  \n",
    "  embeddings_1 = get_embedding(model, word1_id)\n",
    "  \n",
    "  embeddings_2 = get_embedding(model, word2_id)\n",
    "  \n",
    "  return cosine_similarity(embeddings_1, embeddings_2)\n",
    "\n",
    "calculate_similary(trainer.model, 'wax ak kii', 'waxtaan ak yow')"
   ]
  }
 ],
 "metadata": {
  "accelerator": "GPU",
  "colab": {
   "gpuType": "T4",
   "provenance": []
  },
  "gpuClass": "standard",
  "kernelspec": {
   "display_name": "pytorch1-HleOW5am-py3.10",
   "language": "python",
   "name": "python3"
  },
  "language_info": {
   "codemirror_mode": {
    "name": "ipython",
    "version": 3
   },
   "file_extension": ".py",
   "mimetype": "text/x-python",
   "name": "python",
   "nbconvert_exporter": "python",
   "pygments_lexer": "ipython3",
   "version": "3.10.8"
  },
  "widgets": {
   "application/vnd.jupyter.widget-state+json": {
    "07b148611e0445068ec4ae2a289f968d": {
     "model_module": "@jupyter-widgets/base",
     "model_module_version": "1.2.0",
     "model_name": "LayoutModel",
     "state": {
      "_model_module": "@jupyter-widgets/base",
      "_model_module_version": "1.2.0",
      "_model_name": "LayoutModel",
      "_view_count": null,
      "_view_module": "@jupyter-widgets/base",
      "_view_module_version": "1.2.0",
      "_view_name": "LayoutView",
      "align_content": null,
      "align_items": null,
      "align_self": null,
      "border": null,
      "bottom": null,
      "display": null,
      "flex": null,
      "flex_flow": null,
      "grid_area": null,
      "grid_auto_columns": null,
      "grid_auto_flow": null,
      "grid_auto_rows": null,
      "grid_column": null,
      "grid_gap": null,
      "grid_row": null,
      "grid_template_areas": null,
      "grid_template_columns": null,
      "grid_template_rows": null,
      "height": null,
      "justify_content": null,
      "justify_items": null,
      "left": null,
      "margin": null,
      "max_height": null,
      "max_width": null,
      "min_height": null,
      "min_width": null,
      "object_fit": null,
      "object_position": null,
      "order": null,
      "overflow": null,
      "overflow_x": null,
      "overflow_y": null,
      "padding": null,
      "right": null,
      "top": null,
      "visibility": null,
      "width": null
     }
    },
    "08fc0c2dc9b94689b80e085b682e54a5": {
     "model_module": "@jupyter-widgets/controls",
     "model_module_version": "1.5.0",
     "model_name": "LabelModel",
     "state": {
      "_dom_classes": [],
      "_model_module": "@jupyter-widgets/controls",
      "_model_module_version": "1.5.0",
      "_model_name": "LabelModel",
      "_view_count": null,
      "_view_module": "@jupyter-widgets/controls",
      "_view_module_version": "1.5.0",
      "_view_name": "LabelView",
      "description": "",
      "description_tooltip": null,
      "layout": "IPY_MODEL_07b148611e0445068ec4ae2a289f968d",
      "placeholder": "​",
      "style": "IPY_MODEL_4b5ea7f279854a01aaa4f5043372df2d",
      "value": "0.009 MB of 0.009 MB uploaded (0.000 MB deduped)\r"
     }
    },
    "347e2725b013421a951237d46b26d5e3": {
     "model_module": "@jupyter-widgets/controls",
     "model_module_version": "1.5.0",
     "model_name": "ProgressStyleModel",
     "state": {
      "_model_module": "@jupyter-widgets/controls",
      "_model_module_version": "1.5.0",
      "_model_name": "ProgressStyleModel",
      "_view_count": null,
      "_view_module": "@jupyter-widgets/base",
      "_view_module_version": "1.2.0",
      "_view_name": "StyleView",
      "bar_color": null,
      "description_width": ""
     }
    },
    "378d2507f5d5418681817fdbe4f227fd": {
     "model_module": "@jupyter-widgets/base",
     "model_module_version": "1.2.0",
     "model_name": "LayoutModel",
     "state": {
      "_model_module": "@jupyter-widgets/base",
      "_model_module_version": "1.2.0",
      "_model_name": "LayoutModel",
      "_view_count": null,
      "_view_module": "@jupyter-widgets/base",
      "_view_module_version": "1.2.0",
      "_view_name": "LayoutView",
      "align_content": null,
      "align_items": null,
      "align_self": null,
      "border": null,
      "bottom": null,
      "display": null,
      "flex": null,
      "flex_flow": null,
      "grid_area": null,
      "grid_auto_columns": null,
      "grid_auto_flow": null,
      "grid_auto_rows": null,
      "grid_column": null,
      "grid_gap": null,
      "grid_row": null,
      "grid_template_areas": null,
      "grid_template_columns": null,
      "grid_template_rows": null,
      "height": null,
      "justify_content": null,
      "justify_items": null,
      "left": null,
      "margin": null,
      "max_height": null,
      "max_width": null,
      "min_height": null,
      "min_width": null,
      "object_fit": null,
      "object_position": null,
      "order": null,
      "overflow": null,
      "overflow_x": null,
      "overflow_y": null,
      "padding": null,
      "right": null,
      "top": null,
      "visibility": null,
      "width": null
     }
    },
    "4b5ea7f279854a01aaa4f5043372df2d": {
     "model_module": "@jupyter-widgets/controls",
     "model_module_version": "1.5.0",
     "model_name": "DescriptionStyleModel",
     "state": {
      "_model_module": "@jupyter-widgets/controls",
      "_model_module_version": "1.5.0",
      "_model_name": "DescriptionStyleModel",
      "_view_count": null,
      "_view_module": "@jupyter-widgets/base",
      "_view_module_version": "1.2.0",
      "_view_name": "StyleView",
      "description_width": ""
     }
    },
    "4d964dc7e08d48f0be400d45c09f16e8": {
     "model_module": "@jupyter-widgets/base",
     "model_module_version": "1.2.0",
     "model_name": "LayoutModel",
     "state": {
      "_model_module": "@jupyter-widgets/base",
      "_model_module_version": "1.2.0",
      "_model_name": "LayoutModel",
      "_view_count": null,
      "_view_module": "@jupyter-widgets/base",
      "_view_module_version": "1.2.0",
      "_view_name": "LayoutView",
      "align_content": null,
      "align_items": null,
      "align_self": null,
      "border": null,
      "bottom": null,
      "display": null,
      "flex": null,
      "flex_flow": null,
      "grid_area": null,
      "grid_auto_columns": null,
      "grid_auto_flow": null,
      "grid_auto_rows": null,
      "grid_column": null,
      "grid_gap": null,
      "grid_row": null,
      "grid_template_areas": null,
      "grid_template_columns": null,
      "grid_template_rows": null,
      "height": null,
      "justify_content": null,
      "justify_items": null,
      "left": null,
      "margin": null,
      "max_height": null,
      "max_width": null,
      "min_height": null,
      "min_width": null,
      "object_fit": null,
      "object_position": null,
      "order": null,
      "overflow": null,
      "overflow_x": null,
      "overflow_y": null,
      "padding": null,
      "right": null,
      "top": null,
      "visibility": null,
      "width": null
     }
    },
    "abcbe273e5604d2383a7a1f03e79c682": {
     "model_module": "@jupyter-widgets/controls",
     "model_module_version": "1.5.0",
     "model_name": "VBoxModel",
     "state": {
      "_dom_classes": [],
      "_model_module": "@jupyter-widgets/controls",
      "_model_module_version": "1.5.0",
      "_model_name": "VBoxModel",
      "_view_count": null,
      "_view_module": "@jupyter-widgets/controls",
      "_view_module_version": "1.5.0",
      "_view_name": "VBoxView",
      "box_style": "",
      "children": [
       "IPY_MODEL_08fc0c2dc9b94689b80e085b682e54a5",
       "IPY_MODEL_bb425d8fef6e41f4bc1f1097477d1502"
      ],
      "layout": "IPY_MODEL_378d2507f5d5418681817fdbe4f227fd"
     }
    },
    "bb425d8fef6e41f4bc1f1097477d1502": {
     "model_module": "@jupyter-widgets/controls",
     "model_module_version": "1.5.0",
     "model_name": "FloatProgressModel",
     "state": {
      "_dom_classes": [],
      "_model_module": "@jupyter-widgets/controls",
      "_model_module_version": "1.5.0",
      "_model_name": "FloatProgressModel",
      "_view_count": null,
      "_view_module": "@jupyter-widgets/controls",
      "_view_module_version": "1.5.0",
      "_view_name": "ProgressView",
      "bar_style": "",
      "description": "",
      "description_tooltip": null,
      "layout": "IPY_MODEL_4d964dc7e08d48f0be400d45c09f16e8",
      "max": 1,
      "min": 0,
      "orientation": "horizontal",
      "style": "IPY_MODEL_347e2725b013421a951237d46b26d5e3",
      "value": 1
     }
    }
   }
  }
 },
 "nbformat": 4,
 "nbformat_minor": 4
}
